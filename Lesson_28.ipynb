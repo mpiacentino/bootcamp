{
 "cells": [
  {
   "cell_type": "code",
   "execution_count": 1,
   "metadata": {},
   "outputs": [],
   "source": [
    "import numpy as np\n",
    "import pandas as pd\n",
    "import scipy.special\n",
    "\n",
    "import altair as alt\n",
    "\n",
    "import bootcamp_utils"
   ]
  },
  {
   "cell_type": "code",
   "execution_count": 5,
   "metadata": {},
   "outputs": [
    {
     "data": {
      "text/html": [
       "<div>\n",
       "<style scoped>\n",
       "    .dataframe tbody tr th:only-of-type {\n",
       "        vertical-align: middle;\n",
       "    }\n",
       "\n",
       "    .dataframe tbody tr th {\n",
       "        vertical-align: top;\n",
       "    }\n",
       "\n",
       "    .dataframe thead th {\n",
       "        text-align: right;\n",
       "    }\n",
       "</style>\n",
       "<table border=\"1\" class=\"dataframe\">\n",
       "  <thead>\n",
       "    <tr style=\"text-align: right;\">\n",
       "      <th></th>\n",
       "      <th>t (ms)</th>\n",
       "      <th>V (uV)</th>\n",
       "    </tr>\n",
       "  </thead>\n",
       "  <tbody>\n",
       "    <tr>\n",
       "      <th>0</th>\n",
       "      <td>703.96</td>\n",
       "      <td>4.79</td>\n",
       "    </tr>\n",
       "    <tr>\n",
       "      <th>1</th>\n",
       "      <td>704.00</td>\n",
       "      <td>-0.63</td>\n",
       "    </tr>\n",
       "    <tr>\n",
       "      <th>2</th>\n",
       "      <td>704.04</td>\n",
       "      <td>5.83</td>\n",
       "    </tr>\n",
       "    <tr>\n",
       "      <th>3</th>\n",
       "      <td>704.08</td>\n",
       "      <td>0.31</td>\n",
       "    </tr>\n",
       "    <tr>\n",
       "      <th>4</th>\n",
       "      <td>704.12</td>\n",
       "      <td>-4.58</td>\n",
       "    </tr>\n",
       "  </tbody>\n",
       "</table>\n",
       "</div>"
      ],
      "text/plain": [
       "   t (ms)  V (uV)\n",
       "0  703.96    4.79\n",
       "1  704.00   -0.63\n",
       "2  704.04    5.83\n",
       "3  704.08    0.31\n",
       "4  704.12   -4.58"
      ]
     },
     "execution_count": 5,
     "metadata": {},
     "output_type": "execute_result"
    }
   ],
   "source": [
    "df = pd.read_csv('data/retina_spikes.csv', comment='#')\n",
    "\n",
    "df.head()"
   ]
  },
  {
   "cell_type": "code",
   "execution_count": 6,
   "metadata": {},
   "outputs": [
    {
     "ename": "MaxRowsError",
     "evalue": "The number of rows in your dataset is greater than the maximum allowed (5000). For information on how to plot larger datasets in Altair, see the documentation",
     "output_type": "error",
     "traceback": [
      "\u001b[0;31m---------------------------------------------------------------------------\u001b[0m",
      "\u001b[0;31mMaxRowsError\u001b[0m                              Traceback (most recent call last)",
      "\u001b[0;32m/anaconda3/lib/python3.6/site-packages/altair/vegalite/v2/api.py\u001b[0m in \u001b[0;36mto_dict\u001b[0;34m(self, *args, **kwargs)\u001b[0m\n\u001b[1;32m    312\u001b[0m         \u001b[0mcopy\u001b[0m \u001b[0;34m=\u001b[0m \u001b[0mself\u001b[0m\u001b[0;34m.\u001b[0m\u001b[0mcopy\u001b[0m\u001b[0;34m(\u001b[0m\u001b[0;34m)\u001b[0m\u001b[0;34m\u001b[0m\u001b[0m\n\u001b[1;32m    313\u001b[0m         \u001b[0moriginal_data\u001b[0m \u001b[0;34m=\u001b[0m \u001b[0mgetattr\u001b[0m\u001b[0;34m(\u001b[0m\u001b[0mcopy\u001b[0m\u001b[0;34m,\u001b[0m \u001b[0;34m'data'\u001b[0m\u001b[0;34m,\u001b[0m \u001b[0mUndefined\u001b[0m\u001b[0;34m)\u001b[0m\u001b[0;34m\u001b[0m\u001b[0m\n\u001b[0;32m--> 314\u001b[0;31m         \u001b[0mcopy\u001b[0m\u001b[0;34m.\u001b[0m\u001b[0mdata\u001b[0m \u001b[0;34m=\u001b[0m \u001b[0m_prepare_data\u001b[0m\u001b[0;34m(\u001b[0m\u001b[0moriginal_data\u001b[0m\u001b[0;34m)\u001b[0m\u001b[0;34m\u001b[0m\u001b[0m\n\u001b[0m\u001b[1;32m    315\u001b[0m \u001b[0;34m\u001b[0m\u001b[0m\n\u001b[1;32m    316\u001b[0m         \u001b[0;31m# We make use of two context markers:\u001b[0m\u001b[0;34m\u001b[0m\u001b[0;34m\u001b[0m\u001b[0m\n",
      "\u001b[0;32m/anaconda3/lib/python3.6/site-packages/altair/vegalite/v2/api.py\u001b[0m in \u001b[0;36m_prepare_data\u001b[0;34m(data)\u001b[0m\n\u001b[1;32m     24\u001b[0m         \u001b[0;32mreturn\u001b[0m \u001b[0mdata\u001b[0m\u001b[0;34m\u001b[0m\u001b[0m\n\u001b[1;32m     25\u001b[0m     \u001b[0;32melif\u001b[0m \u001b[0misinstance\u001b[0m\u001b[0;34m(\u001b[0m\u001b[0mdata\u001b[0m\u001b[0;34m,\u001b[0m \u001b[0mpd\u001b[0m\u001b[0;34m.\u001b[0m\u001b[0mDataFrame\u001b[0m\u001b[0;34m)\u001b[0m\u001b[0;34m:\u001b[0m\u001b[0;34m\u001b[0m\u001b[0m\n\u001b[0;32m---> 26\u001b[0;31m         \u001b[0;32mreturn\u001b[0m \u001b[0mpipe\u001b[0m\u001b[0;34m(\u001b[0m\u001b[0mdata\u001b[0m\u001b[0;34m,\u001b[0m \u001b[0mdata_transformers\u001b[0m\u001b[0;34m.\u001b[0m\u001b[0mget\u001b[0m\u001b[0;34m(\u001b[0m\u001b[0;34m)\u001b[0m\u001b[0;34m)\u001b[0m\u001b[0;34m\u001b[0m\u001b[0m\n\u001b[0m\u001b[1;32m     27\u001b[0m     \u001b[0;32melif\u001b[0m \u001b[0misinstance\u001b[0m\u001b[0;34m(\u001b[0m\u001b[0mdata\u001b[0m\u001b[0;34m,\u001b[0m \u001b[0msix\u001b[0m\u001b[0;34m.\u001b[0m\u001b[0mstring_types\u001b[0m\u001b[0;34m)\u001b[0m\u001b[0;34m:\u001b[0m\u001b[0;34m\u001b[0m\u001b[0m\n\u001b[1;32m     28\u001b[0m         \u001b[0;32mreturn\u001b[0m \u001b[0mcore\u001b[0m\u001b[0;34m.\u001b[0m\u001b[0mUrlData\u001b[0m\u001b[0;34m(\u001b[0m\u001b[0mdata\u001b[0m\u001b[0;34m)\u001b[0m\u001b[0;34m\u001b[0m\u001b[0m\n",
      "\u001b[0;32m/anaconda3/lib/python3.6/site-packages/toolz/functoolz.py\u001b[0m in \u001b[0;36mpipe\u001b[0;34m(data, *funcs)\u001b[0m\n\u001b[1;32m    550\u001b[0m     \"\"\"\n\u001b[1;32m    551\u001b[0m     \u001b[0;32mfor\u001b[0m \u001b[0mfunc\u001b[0m \u001b[0;32min\u001b[0m \u001b[0mfuncs\u001b[0m\u001b[0;34m:\u001b[0m\u001b[0;34m\u001b[0m\u001b[0m\n\u001b[0;32m--> 552\u001b[0;31m         \u001b[0mdata\u001b[0m \u001b[0;34m=\u001b[0m \u001b[0mfunc\u001b[0m\u001b[0;34m(\u001b[0m\u001b[0mdata\u001b[0m\u001b[0;34m)\u001b[0m\u001b[0;34m\u001b[0m\u001b[0m\n\u001b[0m\u001b[1;32m    553\u001b[0m     \u001b[0;32mreturn\u001b[0m \u001b[0mdata\u001b[0m\u001b[0;34m\u001b[0m\u001b[0m\n\u001b[1;32m    554\u001b[0m \u001b[0;34m\u001b[0m\u001b[0m\n",
      "\u001b[0;32m/anaconda3/lib/python3.6/site-packages/toolz/functoolz.py\u001b[0m in \u001b[0;36m__call__\u001b[0;34m(self, *args, **kwargs)\u001b[0m\n\u001b[1;32m    281\u001b[0m     \u001b[0;32mdef\u001b[0m \u001b[0m__call__\u001b[0m\u001b[0;34m(\u001b[0m\u001b[0mself\u001b[0m\u001b[0;34m,\u001b[0m \u001b[0;34m*\u001b[0m\u001b[0margs\u001b[0m\u001b[0;34m,\u001b[0m \u001b[0;34m**\u001b[0m\u001b[0mkwargs\u001b[0m\u001b[0;34m)\u001b[0m\u001b[0;34m:\u001b[0m\u001b[0;34m\u001b[0m\u001b[0m\n\u001b[1;32m    282\u001b[0m         \u001b[0;32mtry\u001b[0m\u001b[0;34m:\u001b[0m\u001b[0;34m\u001b[0m\u001b[0m\n\u001b[0;32m--> 283\u001b[0;31m             \u001b[0;32mreturn\u001b[0m \u001b[0mself\u001b[0m\u001b[0;34m.\u001b[0m\u001b[0m_partial\u001b[0m\u001b[0;34m(\u001b[0m\u001b[0;34m*\u001b[0m\u001b[0margs\u001b[0m\u001b[0;34m,\u001b[0m \u001b[0;34m**\u001b[0m\u001b[0mkwargs\u001b[0m\u001b[0;34m)\u001b[0m\u001b[0;34m\u001b[0m\u001b[0m\n\u001b[0m\u001b[1;32m    284\u001b[0m         \u001b[0;32mexcept\u001b[0m \u001b[0mTypeError\u001b[0m \u001b[0;32mas\u001b[0m \u001b[0mexc\u001b[0m\u001b[0;34m:\u001b[0m\u001b[0;34m\u001b[0m\u001b[0m\n\u001b[1;32m    285\u001b[0m             \u001b[0;32mif\u001b[0m \u001b[0mself\u001b[0m\u001b[0;34m.\u001b[0m\u001b[0m_should_curry\u001b[0m\u001b[0;34m(\u001b[0m\u001b[0margs\u001b[0m\u001b[0;34m,\u001b[0m \u001b[0mkwargs\u001b[0m\u001b[0;34m,\u001b[0m \u001b[0mexc\u001b[0m\u001b[0;34m)\u001b[0m\u001b[0;34m:\u001b[0m\u001b[0;34m\u001b[0m\u001b[0m\n",
      "\u001b[0;32m/anaconda3/lib/python3.6/site-packages/altair/vegalite/data.py\u001b[0m in \u001b[0;36mdefault_data_transformer\u001b[0;34m(data, max_rows)\u001b[0m\n\u001b[1;32m     10\u001b[0m \u001b[0;34m@\u001b[0m\u001b[0mcurry\u001b[0m\u001b[0;34m\u001b[0m\u001b[0m\n\u001b[1;32m     11\u001b[0m \u001b[0;32mdef\u001b[0m \u001b[0mdefault_data_transformer\u001b[0m\u001b[0;34m(\u001b[0m\u001b[0mdata\u001b[0m\u001b[0;34m,\u001b[0m \u001b[0mmax_rows\u001b[0m\u001b[0;34m=\u001b[0m\u001b[0;36m5000\u001b[0m\u001b[0;34m)\u001b[0m\u001b[0;34m:\u001b[0m\u001b[0;34m\u001b[0m\u001b[0m\n\u001b[0;32m---> 12\u001b[0;31m     \u001b[0;32mreturn\u001b[0m \u001b[0mpipe\u001b[0m\u001b[0;34m(\u001b[0m\u001b[0mdata\u001b[0m\u001b[0;34m,\u001b[0m \u001b[0mlimit_rows\u001b[0m\u001b[0;34m(\u001b[0m\u001b[0mmax_rows\u001b[0m\u001b[0;34m=\u001b[0m\u001b[0mmax_rows\u001b[0m\u001b[0;34m)\u001b[0m\u001b[0;34m,\u001b[0m \u001b[0mto_values\u001b[0m\u001b[0;34m)\u001b[0m\u001b[0;34m\u001b[0m\u001b[0m\n\u001b[0m\u001b[1;32m     13\u001b[0m \u001b[0;34m\u001b[0m\u001b[0m\n\u001b[1;32m     14\u001b[0m \u001b[0;34m\u001b[0m\u001b[0m\n",
      "\u001b[0;32m/anaconda3/lib/python3.6/site-packages/toolz/functoolz.py\u001b[0m in \u001b[0;36mpipe\u001b[0;34m(data, *funcs)\u001b[0m\n\u001b[1;32m    550\u001b[0m     \"\"\"\n\u001b[1;32m    551\u001b[0m     \u001b[0;32mfor\u001b[0m \u001b[0mfunc\u001b[0m \u001b[0;32min\u001b[0m \u001b[0mfuncs\u001b[0m\u001b[0;34m:\u001b[0m\u001b[0;34m\u001b[0m\u001b[0m\n\u001b[0;32m--> 552\u001b[0;31m         \u001b[0mdata\u001b[0m \u001b[0;34m=\u001b[0m \u001b[0mfunc\u001b[0m\u001b[0;34m(\u001b[0m\u001b[0mdata\u001b[0m\u001b[0;34m)\u001b[0m\u001b[0;34m\u001b[0m\u001b[0m\n\u001b[0m\u001b[1;32m    553\u001b[0m     \u001b[0;32mreturn\u001b[0m \u001b[0mdata\u001b[0m\u001b[0;34m\u001b[0m\u001b[0m\n\u001b[1;32m    554\u001b[0m \u001b[0;34m\u001b[0m\u001b[0m\n",
      "\u001b[0;32m/anaconda3/lib/python3.6/site-packages/toolz/functoolz.py\u001b[0m in \u001b[0;36m__call__\u001b[0;34m(self, *args, **kwargs)\u001b[0m\n\u001b[1;32m    281\u001b[0m     \u001b[0;32mdef\u001b[0m \u001b[0m__call__\u001b[0m\u001b[0;34m(\u001b[0m\u001b[0mself\u001b[0m\u001b[0;34m,\u001b[0m \u001b[0;34m*\u001b[0m\u001b[0margs\u001b[0m\u001b[0;34m,\u001b[0m \u001b[0;34m**\u001b[0m\u001b[0mkwargs\u001b[0m\u001b[0;34m)\u001b[0m\u001b[0;34m:\u001b[0m\u001b[0;34m\u001b[0m\u001b[0m\n\u001b[1;32m    282\u001b[0m         \u001b[0;32mtry\u001b[0m\u001b[0;34m:\u001b[0m\u001b[0;34m\u001b[0m\u001b[0m\n\u001b[0;32m--> 283\u001b[0;31m             \u001b[0;32mreturn\u001b[0m \u001b[0mself\u001b[0m\u001b[0;34m.\u001b[0m\u001b[0m_partial\u001b[0m\u001b[0;34m(\u001b[0m\u001b[0;34m*\u001b[0m\u001b[0margs\u001b[0m\u001b[0;34m,\u001b[0m \u001b[0;34m**\u001b[0m\u001b[0mkwargs\u001b[0m\u001b[0;34m)\u001b[0m\u001b[0;34m\u001b[0m\u001b[0m\n\u001b[0m\u001b[1;32m    284\u001b[0m         \u001b[0;32mexcept\u001b[0m \u001b[0mTypeError\u001b[0m \u001b[0;32mas\u001b[0m \u001b[0mexc\u001b[0m\u001b[0;34m:\u001b[0m\u001b[0;34m\u001b[0m\u001b[0m\n\u001b[1;32m    285\u001b[0m             \u001b[0;32mif\u001b[0m \u001b[0mself\u001b[0m\u001b[0;34m.\u001b[0m\u001b[0m_should_curry\u001b[0m\u001b[0;34m(\u001b[0m\u001b[0margs\u001b[0m\u001b[0;34m,\u001b[0m \u001b[0mkwargs\u001b[0m\u001b[0;34m,\u001b[0m \u001b[0mexc\u001b[0m\u001b[0;34m)\u001b[0m\u001b[0;34m:\u001b[0m\u001b[0;34m\u001b[0m\u001b[0m\n",
      "\u001b[0;32m/anaconda3/lib/python3.6/site-packages/altair/utils/data.py\u001b[0m in \u001b[0;36mlimit_rows\u001b[0;34m(data, max_rows)\u001b[0m\n\u001b[1;32m     62\u001b[0m                            \u001b[0;34m'than the maximum allowed ({0}). '\u001b[0m\u001b[0;34m\u001b[0m\u001b[0m\n\u001b[1;32m     63\u001b[0m                            \u001b[0;34m'For information on how to plot larger datasets '\u001b[0m\u001b[0;34m\u001b[0m\u001b[0m\n\u001b[0;32m---> 64\u001b[0;31m                            'in Altair, see the documentation'.format(max_rows))\n\u001b[0m\u001b[1;32m     65\u001b[0m     \u001b[0;32mreturn\u001b[0m \u001b[0mdata\u001b[0m\u001b[0;34m\u001b[0m\u001b[0m\n\u001b[1;32m     66\u001b[0m \u001b[0;34m\u001b[0m\u001b[0m\n",
      "\u001b[0;31mMaxRowsError\u001b[0m: The number of rows in your dataset is greater than the maximum allowed (5000). For information on how to plot larger datasets in Altair, see the documentation"
     ]
    },
    {
     "data": {
      "text/plain": [
       "Chart({\n",
       "  data:         t (ms)  V (uV)\n",
       "  0       703.96    4.79\n",
       "  1       704.00   -0.63\n",
       "  2       704.04    5.83\n",
       "  3       704.08    0.31\n",
       "  4       704.12   -4.58\n",
       "  5       704.16   21.67\n",
       "  6       704.20    8.13\n",
       "  7       704.24    5.94\n",
       "  8       704.28   14.79\n",
       "  9       704.32    2.71\n",
       "  10      704.36    0.94\n",
       "  11      704.40   17.40\n",
       "  12      704.44   11.77\n",
       "  13      704.48   -2.60\n",
       "  14      704.52    6.04\n",
       "  15      704.56   -3.44\n",
       "  16      704.60   -6.04\n",
       "  17      704.64   10.42\n",
       "  18      704.68   19.06\n",
       "  19      704.72    7.40\n",
       "  20      704.76    9.79\n",
       "  21      704.80   20.42\n",
       "  22      704.84   -0.10\n",
       "  23      704.88   -7.92\n",
       "  24      704.92   -7.29\n",
       "  25      704.96  -11.25\n",
       "  26      705.00  -12.19\n",
       "  27      705.04   12.60\n",
       "  28      705.08   -1.98\n",
       "  29      705.12  -10.31\n",
       "  ...        ...     ...\n",
       "  19971  1502.80  -11.04\n",
       "  19972  1502.84   -2.92\n",
       "  19973  1502.88   -6.46\n",
       "  19974  1502.92  -11.98\n",
       "  19975  1502.96   -2.40\n",
       "  19976  1503.00   -2.81\n",
       "  19977  1503.04  -16.67\n",
       "  19978  1503.08   -5.94\n",
       "  19979  1503.12    9.38\n",
       "  19980  1503.16    4.69\n",
       "  19981  1503.20    4.58\n",
       "  19982  1503.24    6.15\n",
       "  19983  1503.28   -2.71\n",
       "  19984  1503.32   -5.63\n",
       "  19985  1503.36   10.31\n",
       "  19986  1503.40   -3.96\n",
       "  19987  1503.44   -6.56\n",
       "  19988  1503.48    6.67\n",
       "  19989  1503.52   -2.50\n",
       "  19990  1503.56   -5.00\n",
       "  19991  1503.60   15.63\n",
       "  19992  1503.64    7.19\n",
       "  19993  1503.68   -2.92\n",
       "  19994  1503.72    8.33\n",
       "  19995  1503.76   -1.56\n",
       "  19996  1503.80   -4.27\n",
       "  19997  1503.84   17.50\n",
       "  19998  1503.88    9.48\n",
       "  19999  1503.92   -5.94\n",
       "  20000  1503.96   -1.56\n",
       "  \n",
       "  [20001 rows x 2 columns],\n",
       "  encoding: EncodingWithFacet({\n",
       "    x: X({\n",
       "      shorthand: 't (ms):Q'\n",
       "    }),\n",
       "    y: Y({\n",
       "      shorthand: 'V (uV):Q',\n",
       "      title: 'V (µV)'\n",
       "    })\n",
       "  }),\n",
       "  mark: 'line'\n",
       "})"
      ]
     },
     "execution_count": 6,
     "metadata": {},
     "output_type": "execute_result"
    }
   ],
   "source": [
    "alt.Chart(df\n",
    "    ).mark_line(\n",
    "    ).encode(\n",
    "        x='t (ms):Q',\n",
    "        y=alt.Y('V (uV):Q', title='V (µV)')\n",
    "    )"
   ]
  },
  {
   "cell_type": "code",
   "execution_count": 7,
   "metadata": {},
   "outputs": [
    {
     "data": {
      "text/plain": [
       "20001"
      ]
     },
     "execution_count": 7,
     "metadata": {},
     "output_type": "execute_result"
    }
   ],
   "source": [
    "#how big IS the dataframe?\n",
    "len(df)"
   ]
  },
  {
   "cell_type": "code",
   "execution_count": 8,
   "metadata": {},
   "outputs": [
    {
     "data": {
      "text/html": [
       "<div>\n",
       "<style scoped>\n",
       "    .dataframe tbody tr th:only-of-type {\n",
       "        vertical-align: middle;\n",
       "    }\n",
       "\n",
       "    .dataframe tbody tr th {\n",
       "        vertical-align: top;\n",
       "    }\n",
       "\n",
       "    .dataframe thead th {\n",
       "        text-align: right;\n",
       "    }\n",
       "</style>\n",
       "<table border=\"1\" class=\"dataframe\">\n",
       "  <thead>\n",
       "    <tr style=\"text-align: right;\">\n",
       "      <th></th>\n",
       "      <th>t (ms)</th>\n",
       "      <th>V (uV)</th>\n",
       "    </tr>\n",
       "  </thead>\n",
       "  <tbody>\n",
       "    <tr>\n",
       "      <th>0</th>\n",
       "      <td>703.96</td>\n",
       "      <td>4.79</td>\n",
       "    </tr>\n",
       "    <tr>\n",
       "      <th>1</th>\n",
       "      <td>704.00</td>\n",
       "      <td>-0.63</td>\n",
       "    </tr>\n",
       "    <tr>\n",
       "      <th>2</th>\n",
       "      <td>704.04</td>\n",
       "      <td>5.83</td>\n",
       "    </tr>\n",
       "    <tr>\n",
       "      <th>3</th>\n",
       "      <td>704.08</td>\n",
       "      <td>0.31</td>\n",
       "    </tr>\n",
       "    <tr>\n",
       "      <th>4</th>\n",
       "      <td>704.12</td>\n",
       "      <td>-4.58</td>\n",
       "    </tr>\n",
       "  </tbody>\n",
       "</table>\n",
       "</div>"
      ],
      "text/plain": [
       "   t (ms)  V (uV)\n",
       "0  703.96    4.79\n",
       "1  704.00   -0.63\n",
       "2  704.04    5.83\n",
       "3  704.08    0.31\n",
       "4  704.12   -4.58"
      ]
     },
     "execution_count": 8,
     "metadata": {},
     "output_type": "execute_result"
    }
   ],
   "source": [
    "#I guess we'll plot a smaller chunk of the df\n",
    "df = pd.read_csv('data/retina_spikes.csv', comment='#')\n",
    "df = df.iloc[:1000, :]\n",
    "#.iloc works to index numerically rather than dealing with values in the df\n",
    "\n",
    "df.head()"
   ]
  },
  {
   "cell_type": "code",
   "execution_count": 13,
   "metadata": {},
   "outputs": [
    {
     "data": {
      "application/vnd.vegalite.v2+json": {
       "$schema": "https://vega.github.io/schema/vega-lite/v2.4.3.json",
       "config": {
        "view": {
         "height": 300,
         "width": 400
        }
       },
       "data": {
        "values": [
         {
          "V (uV)": 4.79,
          "t (ms)": 703.96
         },
         {
          "V (uV)": -0.63,
          "t (ms)": 704
         },
         {
          "V (uV)": 5.83,
          "t (ms)": 704.04
         },
         {
          "V (uV)": 0.31,
          "t (ms)": 704.08
         },
         {
          "V (uV)": -4.58,
          "t (ms)": 704.12
         },
         {
          "V (uV)": 21.67,
          "t (ms)": 704.16
         },
         {
          "V (uV)": 8.13,
          "t (ms)": 704.2
         },
         {
          "V (uV)": 5.94,
          "t (ms)": 704.24
         },
         {
          "V (uV)": 14.79,
          "t (ms)": 704.28
         },
         {
          "V (uV)": 2.71,
          "t (ms)": 704.32
         },
         {
          "V (uV)": 0.94,
          "t (ms)": 704.36
         },
         {
          "V (uV)": 17.4,
          "t (ms)": 704.4
         },
         {
          "V (uV)": 11.77,
          "t (ms)": 704.44
         },
         {
          "V (uV)": -2.6,
          "t (ms)": 704.48
         },
         {
          "V (uV)": 6.04,
          "t (ms)": 704.52
         },
         {
          "V (uV)": -3.44,
          "t (ms)": 704.56
         },
         {
          "V (uV)": -6.04,
          "t (ms)": 704.6
         },
         {
          "V (uV)": 10.42,
          "t (ms)": 704.64
         },
         {
          "V (uV)": 19.06,
          "t (ms)": 704.68
         },
         {
          "V (uV)": 7.4,
          "t (ms)": 704.72
         },
         {
          "V (uV)": 9.79,
          "t (ms)": 704.76
         },
         {
          "V (uV)": 20.42,
          "t (ms)": 704.8
         },
         {
          "V (uV)": -0.1,
          "t (ms)": 704.84
         },
         {
          "V (uV)": -7.92,
          "t (ms)": 704.88
         },
         {
          "V (uV)": -7.29,
          "t (ms)": 704.92
         },
         {
          "V (uV)": -11.25,
          "t (ms)": 704.96
         },
         {
          "V (uV)": -12.19,
          "t (ms)": 705
         },
         {
          "V (uV)": 12.6,
          "t (ms)": 705.04
         },
         {
          "V (uV)": -1.98,
          "t (ms)": 705.08
         },
         {
          "V (uV)": -10.31,
          "t (ms)": 705.12
         },
         {
          "V (uV)": 0.1,
          "t (ms)": 705.16
         },
         {
          "V (uV)": -5.31,
          "t (ms)": 705.2
         },
         {
          "V (uV)": -8.02,
          "t (ms)": 705.24
         },
         {
          "V (uV)": 15.52,
          "t (ms)": 705.28
         },
         {
          "V (uV)": 4.17,
          "t (ms)": 705.32
         },
         {
          "V (uV)": -5.31,
          "t (ms)": 705.36
         },
         {
          "V (uV)": 3.65,
          "t (ms)": 705.4
         },
         {
          "V (uV)": -5.52,
          "t (ms)": 705.44
         },
         {
          "V (uV)": -11.25,
          "t (ms)": 705.48
         },
         {
          "V (uV)": 4.06,
          "t (ms)": 705.52
         },
         {
          "V (uV)": 6.25,
          "t (ms)": 705.56
         },
         {
          "V (uV)": -1.25,
          "t (ms)": 705.6
         },
         {
          "V (uV)": 7.29,
          "t (ms)": 705.64
         },
         {
          "V (uV)": 7.29,
          "t (ms)": 705.68
         },
         {
          "V (uV)": -6.56,
          "t (ms)": 705.72
         },
         {
          "V (uV)": -3.85,
          "t (ms)": 705.76
         },
         {
          "V (uV)": 12.71,
          "t (ms)": 705.8
         },
         {
          "V (uV)": -3.75,
          "t (ms)": 705.84
         },
         {
          "V (uV)": -5.73,
          "t (ms)": 705.88
         },
         {
          "V (uV)": 2.29,
          "t (ms)": 705.92
         },
         {
          "V (uV)": -2.92,
          "t (ms)": 705.96
         },
         {
          "V (uV)": -6.35,
          "t (ms)": 706
         },
         {
          "V (uV)": 21.35,
          "t (ms)": 706.04
         },
         {
          "V (uV)": 2.4,
          "t (ms)": 706.08
         },
         {
          "V (uV)": -7.29,
          "t (ms)": 706.12
         },
         {
          "V (uV)": 3.96,
          "t (ms)": 706.16
         },
         {
          "V (uV)": -3.23,
          "t (ms)": 706.2
         },
         {
          "V (uV)": -8.54,
          "t (ms)": 706.24
         },
         {
          "V (uV)": 15.1,
          "t (ms)": 706.28
         },
         {
          "V (uV)": 3.96,
          "t (ms)": 706.32
         },
         {
          "V (uV)": -2.5,
          "t (ms)": 706.36
         },
         {
          "V (uV)": 14.69,
          "t (ms)": 706.4
         },
         {
          "V (uV)": 3.13,
          "t (ms)": 706.44
         },
         {
          "V (uV)": -2.81,
          "t (ms)": 706.48
         },
         {
          "V (uV)": 8.54,
          "t (ms)": 706.52
         },
         {
          "V (uV)": 10.1,
          "t (ms)": 706.56
         },
         {
          "V (uV)": -0.63,
          "t (ms)": 706.6
         },
         {
          "V (uV)": 8.75,
          "t (ms)": 706.64
         },
         {
          "V (uV)": 15.42,
          "t (ms)": 706.68
         },
         {
          "V (uV)": 3.13,
          "t (ms)": 706.72
         },
         {
          "V (uV)": 1.46,
          "t (ms)": 706.76
         },
         {
          "V (uV)": -0.63,
          "t (ms)": 706.8
         },
         {
          "V (uV)": -6.67,
          "t (ms)": 706.84
         },
         {
          "V (uV)": -5.52,
          "t (ms)": 706.88
         },
         {
          "V (uV)": 11.35,
          "t (ms)": 706.92
         },
         {
          "V (uV)": 1.04,
          "t (ms)": 706.96
         },
         {
          "V (uV)": -1.88,
          "t (ms)": 707
         },
         {
          "V (uV)": 8.13,
          "t (ms)": 707.04
         },
         {
          "V (uV)": 1.46,
          "t (ms)": 707.08
         },
         {
          "V (uV)": -7.4,
          "t (ms)": 707.12
         },
         {
          "V (uV)": 11.25,
          "t (ms)": 707.16
         },
         {
          "V (uV)": -5.73,
          "t (ms)": 707.2
         },
         {
          "V (uV)": -9.27,
          "t (ms)": 707.24
         },
         {
          "V (uV)": 3.85,
          "t (ms)": 707.28
         },
         {
          "V (uV)": -7.19,
          "t (ms)": 707.32
         },
         {
          "V (uV)": -11.67,
          "t (ms)": 707.36
         },
         {
          "V (uV)": 13.33,
          "t (ms)": 707.4
         },
         {
          "V (uV)": 4.17,
          "t (ms)": 707.44
         },
         {
          "V (uV)": -11.98,
          "t (ms)": 707.48
         },
         {
          "V (uV)": -5.94,
          "t (ms)": 707.52
         },
         {
          "V (uV)": -6.56,
          "t (ms)": 707.56
         },
         {
          "V (uV)": -6.77,
          "t (ms)": 707.6
         },
         {
          "V (uV)": 3.23,
          "t (ms)": 707.64
         },
         {
          "V (uV)": 6.56,
          "t (ms)": 707.68
         },
         {
          "V (uV)": -6.15,
          "t (ms)": 707.72
         },
         {
          "V (uV)": -5.63,
          "t (ms)": 707.76
         },
         {
          "V (uV)": 2.19,
          "t (ms)": 707.8
         },
         {
          "V (uV)": -11.15,
          "t (ms)": 707.84
         },
         {
          "V (uV)": -8.96,
          "t (ms)": 707.88
         },
         {
          "V (uV)": 10.42,
          "t (ms)": 707.92
         },
         {
          "V (uV)": -4.17,
          "t (ms)": 707.96
         },
         {
          "V (uV)": -9.79,
          "t (ms)": 708
         },
         {
          "V (uV)": -4.79,
          "t (ms)": 708.04
         },
         {
          "V (uV)": -12.71,
          "t (ms)": 708.08
         },
         {
          "V (uV)": -19.58,
          "t (ms)": 708.12
         },
         {
          "V (uV)": 10.63,
          "t (ms)": 708.16
         },
         {
          "V (uV)": -1.67,
          "t (ms)": 708.2
         },
         {
          "V (uV)": -10,
          "t (ms)": 708.24
         },
         {
          "V (uV)": 1.98,
          "t (ms)": 708.28
         },
         {
          "V (uV)": -4.79,
          "t (ms)": 708.32
         },
         {
          "V (uV)": -5.42,
          "t (ms)": 708.36
         },
         {
          "V (uV)": 11.04,
          "t (ms)": 708.4
         },
         {
          "V (uV)": -0.21,
          "t (ms)": 708.44
         },
         {
          "V (uV)": -6.88,
          "t (ms)": 708.48
         },
         {
          "V (uV)": 4.79,
          "t (ms)": 708.52
         },
         {
          "V (uV)": -5.73,
          "t (ms)": 708.56
         },
         {
          "V (uV)": -11.56,
          "t (ms)": 708.6
         },
         {
          "V (uV)": -0.94,
          "t (ms)": 708.64
         },
         {
          "V (uV)": 6.15,
          "t (ms)": 708.68
         },
         {
          "V (uV)": -9.17,
          "t (ms)": 708.72
         },
         {
          "V (uV)": -8.65,
          "t (ms)": 708.76
         },
         {
          "V (uV)": 0.94,
          "t (ms)": 708.8
         },
         {
          "V (uV)": -16.56,
          "t (ms)": 708.84
         },
         {
          "V (uV)": -14.17,
          "t (ms)": 708.88
         },
         {
          "V (uV)": -5.83,
          "t (ms)": 708.92
         },
         {
          "V (uV)": -6.67,
          "t (ms)": 708.96
         },
         {
          "V (uV)": -5.83,
          "t (ms)": 709
         },
         {
          "V (uV)": 22.08,
          "t (ms)": 709.04
         },
         {
          "V (uV)": 5.42,
          "t (ms)": 709.08
         },
         {
          "V (uV)": -1.88,
          "t (ms)": 709.12
         },
         {
          "V (uV)": 4.69,
          "t (ms)": 709.16
         },
         {
          "V (uV)": 1.88,
          "t (ms)": 709.2
         },
         {
          "V (uV)": -6.88,
          "t (ms)": 709.24
         },
         {
          "V (uV)": 17.81,
          "t (ms)": 709.28
         },
         {
          "V (uV)": 4.17,
          "t (ms)": 709.32
         },
         {
          "V (uV)": -5,
          "t (ms)": 709.36
         },
         {
          "V (uV)": 8.65,
          "t (ms)": 709.4
         },
         {
          "V (uV)": -5.73,
          "t (ms)": 709.44
         },
         {
          "V (uV)": -12.08,
          "t (ms)": 709.48
         },
         {
          "V (uV)": 3.13,
          "t (ms)": 709.52
         },
         {
          "V (uV)": 1.15,
          "t (ms)": 709.56
         },
         {
          "V (uV)": -8.23,
          "t (ms)": 709.6
         },
         {
          "V (uV)": -0.94,
          "t (ms)": 709.64
         },
         {
          "V (uV)": 8.44,
          "t (ms)": 709.68
         },
         {
          "V (uV)": -10.63,
          "t (ms)": 709.72
         },
         {
          "V (uV)": -4.06,
          "t (ms)": 709.76
         },
         {
          "V (uV)": 10.42,
          "t (ms)": 709.8
         },
         {
          "V (uV)": -2.5,
          "t (ms)": 709.84
         },
         {
          "V (uV)": -0.1,
          "t (ms)": 709.88
         },
         {
          "V (uV)": 4.38,
          "t (ms)": 709.92
         },
         {
          "V (uV)": -8.13,
          "t (ms)": 709.96
         },
         {
          "V (uV)": -9.48,
          "t (ms)": 710
         },
         {
          "V (uV)": 18.54,
          "t (ms)": 710.04
         },
         {
          "V (uV)": 4.79,
          "t (ms)": 710.08
         },
         {
          "V (uV)": -0.63,
          "t (ms)": 710.12
         },
         {
          "V (uV)": 10.1,
          "t (ms)": 710.16
         },
         {
          "V (uV)": 2.19,
          "t (ms)": 710.2
         },
         {
          "V (uV)": -5.83,
          "t (ms)": 710.24
         },
         {
          "V (uV)": 17.5,
          "t (ms)": 710.28
         },
         {
          "V (uV)": 3.96,
          "t (ms)": 710.32
         },
         {
          "V (uV)": -12.6,
          "t (ms)": 710.36
         },
         {
          "V (uV)": -0.21,
          "t (ms)": 710.4
         },
         {
          "V (uV)": -9.9,
          "t (ms)": 710.44
         },
         {
          "V (uV)": -10.31,
          "t (ms)": 710.48
         },
         {
          "V (uV)": 4.69,
          "t (ms)": 710.52
         },
         {
          "V (uV)": 7.29,
          "t (ms)": 710.56
         },
         {
          "V (uV)": -4.27,
          "t (ms)": 710.6
         },
         {
          "V (uV)": 3.13,
          "t (ms)": 710.64
         },
         {
          "V (uV)": 10.94,
          "t (ms)": 710.68
         },
         {
          "V (uV)": -1.35,
          "t (ms)": 710.72
         },
         {
          "V (uV)": 6.04,
          "t (ms)": 710.76
         },
         {
          "V (uV)": 6.25,
          "t (ms)": 710.8
         },
         {
          "V (uV)": -4.38,
          "t (ms)": 710.84
         },
         {
          "V (uV)": -9.58,
          "t (ms)": 710.88
         },
         {
          "V (uV)": 8.75,
          "t (ms)": 710.92
         },
         {
          "V (uV)": -7.71,
          "t (ms)": 710.96
         },
         {
          "V (uV)": -15.1,
          "t (ms)": 711
         },
         {
          "V (uV)": -5.1,
          "t (ms)": 711.04
         },
         {
          "V (uV)": -6.15,
          "t (ms)": 711.08
         },
         {
          "V (uV)": -6.98,
          "t (ms)": 711.12
         },
         {
          "V (uV)": 18.96,
          "t (ms)": 711.16
         },
         {
          "V (uV)": 1.15,
          "t (ms)": 711.2
         },
         {
          "V (uV)": -4.9,
          "t (ms)": 711.24
         },
         {
          "V (uV)": 5.31,
          "t (ms)": 711.28
         },
         {
          "V (uV)": -12.92,
          "t (ms)": 711.32
         },
         {
          "V (uV)": -19.38,
          "t (ms)": 711.36
         },
         {
          "V (uV)": 3.96,
          "t (ms)": 711.4
         },
         {
          "V (uV)": 3.85,
          "t (ms)": 711.44
         },
         {
          "V (uV)": -9.38,
          "t (ms)": 711.48
         },
         {
          "V (uV)": 6.15,
          "t (ms)": 711.52
         },
         {
          "V (uV)": 0.1,
          "t (ms)": 711.56
         },
         {
          "V (uV)": -5.31,
          "t (ms)": 711.6
         },
         {
          "V (uV)": 8.65,
          "t (ms)": 711.64
         },
         {
          "V (uV)": 11.56,
          "t (ms)": 711.68
         },
         {
          "V (uV)": 1.77,
          "t (ms)": 711.72
         },
         {
          "V (uV)": 0.52,
          "t (ms)": 711.76
         },
         {
          "V (uV)": 7.4,
          "t (ms)": 711.8
         },
         {
          "V (uV)": -8.85,
          "t (ms)": 711.84
         },
         {
          "V (uV)": -2.71,
          "t (ms)": 711.88
         },
         {
          "V (uV)": 16.25,
          "t (ms)": 711.92
         },
         {
          "V (uV)": -1.88,
          "t (ms)": 711.96
         },
         {
          "V (uV)": -9.17,
          "t (ms)": 712
         },
         {
          "V (uV)": -2.29,
          "t (ms)": 712.04
         },
         {
          "V (uV)": -16.35,
          "t (ms)": 712.08
         },
         {
          "V (uV)": -37.29,
          "t (ms)": 712.12
         },
         {
          "V (uV)": -48.75,
          "t (ms)": 712.16
         },
         {
          "V (uV)": -90.52,
          "t (ms)": 712.2
         },
         {
          "V (uV)": -101.35,
          "t (ms)": 712.24
         },
         {
          "V (uV)": -75.83,
          "t (ms)": 712.28
         },
         {
          "V (uV)": -65.31,
          "t (ms)": 712.32
         },
         {
          "V (uV)": -47.81,
          "t (ms)": 712.36
         },
         {
          "V (uV)": -14.17,
          "t (ms)": 712.4
         },
         {
          "V (uV)": -11.04,
          "t (ms)": 712.44
         },
         {
          "V (uV)": -19.48,
          "t (ms)": 712.48
         },
         {
          "V (uV)": -3.75,
          "t (ms)": 712.52
         },
         {
          "V (uV)": -9.79,
          "t (ms)": 712.56
         },
         {
          "V (uV)": -4.79,
          "t (ms)": 712.6
         },
         {
          "V (uV)": 15.63,
          "t (ms)": 712.64
         },
         {
          "V (uV)": 22.81,
          "t (ms)": 712.68
         },
         {
          "V (uV)": 5.63,
          "t (ms)": 712.72
         },
         {
          "V (uV)": 2.71,
          "t (ms)": 712.76
         },
         {
          "V (uV)": 18.23,
          "t (ms)": 712.8
         },
         {
          "V (uV)": -0.52,
          "t (ms)": 712.84
         },
         {
          "V (uV)": -5.83,
          "t (ms)": 712.88
         },
         {
          "V (uV)": 5.1,
          "t (ms)": 712.92
         },
         {
          "V (uV)": 2.4,
          "t (ms)": 712.96
         },
         {
          "V (uV)": -1.25,
          "t (ms)": 713
         },
         {
          "V (uV)": 21.88,
          "t (ms)": 713.04
         },
         {
          "V (uV)": 6.77,
          "t (ms)": 713.08
         },
         {
          "V (uV)": 3.65,
          "t (ms)": 713.12
         },
         {
          "V (uV)": 14.06,
          "t (ms)": 713.16
         },
         {
          "V (uV)": 4.17,
          "t (ms)": 713.2
         },
         {
          "V (uV)": 0.52,
          "t (ms)": 713.24
         },
         {
          "V (uV)": 23.75,
          "t (ms)": 713.28
         },
         {
          "V (uV)": 13.02,
          "t (ms)": 713.32
         },
         {
          "V (uV)": 2.71,
          "t (ms)": 713.36
         },
         {
          "V (uV)": 14.48,
          "t (ms)": 713.4
         },
         {
          "V (uV)": 8.85,
          "t (ms)": 713.44
         },
         {
          "V (uV)": 2.4,
          "t (ms)": 713.48
         },
         {
          "V (uV)": 12.08,
          "t (ms)": 713.52
         },
         {
          "V (uV)": 13.44,
          "t (ms)": 713.56
         },
         {
          "V (uV)": -1.15,
          "t (ms)": 713.6
         },
         {
          "V (uV)": 4.9,
          "t (ms)": 713.64
         },
         {
          "V (uV)": 5.83,
          "t (ms)": 713.68
         },
         {
          "V (uV)": -3.65,
          "t (ms)": 713.72
         },
         {
          "V (uV)": -2.29,
          "t (ms)": 713.76
         },
         {
          "V (uV)": -2.5,
          "t (ms)": 713.8
         },
         {
          "V (uV)": -4.69,
          "t (ms)": 713.84
         },
         {
          "V (uV)": -3.44,
          "t (ms)": 713.88
         },
         {
          "V (uV)": 14.17,
          "t (ms)": 713.92
         },
         {
          "V (uV)": 1.46,
          "t (ms)": 713.96
         },
         {
          "V (uV)": -8.75,
          "t (ms)": 714
         },
         {
          "V (uV)": 12.92,
          "t (ms)": 714.04
         },
         {
          "V (uV)": -1.35,
          "t (ms)": 714.08
         },
         {
          "V (uV)": -10.21,
          "t (ms)": 714.12
         },
         {
          "V (uV)": -2.6,
          "t (ms)": 714.16
         },
         {
          "V (uV)": -14.38,
          "t (ms)": 714.2
         },
         {
          "V (uV)": -13.02,
          "t (ms)": 714.24
         },
         {
          "V (uV)": 13.65,
          "t (ms)": 714.28
         },
         {
          "V (uV)": 5.73,
          "t (ms)": 714.32
         },
         {
          "V (uV)": 0,
          "t (ms)": 714.36
         },
         {
          "V (uV)": 10.21,
          "t (ms)": 714.4
         },
         {
          "V (uV)": -3.85,
          "t (ms)": 714.44
         },
         {
          "V (uV)": -12.71,
          "t (ms)": 714.48
         },
         {
          "V (uV)": -0.73,
          "t (ms)": 714.52
         },
         {
          "V (uV)": 2.4,
          "t (ms)": 714.56
         },
         {
          "V (uV)": -4.38,
          "t (ms)": 714.6
         },
         {
          "V (uV)": 3.96,
          "t (ms)": 714.64
         },
         {
          "V (uV)": 7.4,
          "t (ms)": 714.68
         },
         {
          "V (uV)": -3.96,
          "t (ms)": 714.72
         },
         {
          "V (uV)": 2.92,
          "t (ms)": 714.76
         },
         {
          "V (uV)": 3.54,
          "t (ms)": 714.8
         },
         {
          "V (uV)": -5.73,
          "t (ms)": 714.84
         },
         {
          "V (uV)": -7.71,
          "t (ms)": 714.88
         },
         {
          "V (uV)": 13.85,
          "t (ms)": 714.92
         },
         {
          "V (uV)": 3.96,
          "t (ms)": 714.96
         },
         {
          "V (uV)": -3.02,
          "t (ms)": 715
         },
         {
          "V (uV)": 3.85,
          "t (ms)": 715.04
         },
         {
          "V (uV)": -4.79,
          "t (ms)": 715.08
         },
         {
          "V (uV)": -9.17,
          "t (ms)": 715.12
         },
         {
          "V (uV)": 16.98,
          "t (ms)": 715.16
         },
         {
          "V (uV)": -0.63,
          "t (ms)": 715.2
         },
         {
          "V (uV)": -14.38,
          "t (ms)": 715.24
         },
         {
          "V (uV)": -9.79,
          "t (ms)": 715.28
         },
         {
          "V (uV)": -14.9,
          "t (ms)": 715.32
         },
         {
          "V (uV)": -13.02,
          "t (ms)": 715.36
         },
         {
          "V (uV)": 8.75,
          "t (ms)": 715.4
         },
         {
          "V (uV)": -1.46,
          "t (ms)": 715.44
         },
         {
          "V (uV)": -11.15,
          "t (ms)": 715.48
         },
         {
          "V (uV)": 5,
          "t (ms)": 715.52
         },
         {
          "V (uV)": 2.81,
          "t (ms)": 715.56
         },
         {
          "V (uV)": -4.27,
          "t (ms)": 715.6
         },
         {
          "V (uV)": 4.48,
          "t (ms)": 715.64
         },
         {
          "V (uV)": 13.96,
          "t (ms)": 715.68
         },
         {
          "V (uV)": -5,
          "t (ms)": 715.72
         },
         {
          "V (uV)": -5.31,
          "t (ms)": 715.76
         },
         {
          "V (uV)": 5.42,
          "t (ms)": 715.8
         },
         {
          "V (uV)": -10.63,
          "t (ms)": 715.84
         },
         {
          "V (uV)": -10.42,
          "t (ms)": 715.88
         },
         {
          "V (uV)": -1.25,
          "t (ms)": 715.92
         },
         {
          "V (uV)": -12.71,
          "t (ms)": 715.96
         },
         {
          "V (uV)": -18.85,
          "t (ms)": 716
         },
         {
          "V (uV)": 10.21,
          "t (ms)": 716.04
         },
         {
          "V (uV)": -0.42,
          "t (ms)": 716.08
         },
         {
          "V (uV)": -15.63,
          "t (ms)": 716.12
         },
         {
          "V (uV)": 12.81,
          "t (ms)": 716.16
         },
         {
          "V (uV)": 0.52,
          "t (ms)": 716.2
         },
         {
          "V (uV)": -4.69,
          "t (ms)": 716.24
         },
         {
          "V (uV)": 12.71,
          "t (ms)": 716.28
         },
         {
          "V (uV)": 7.71,
          "t (ms)": 716.32
         },
         {
          "V (uV)": 4.27,
          "t (ms)": 716.36
         },
         {
          "V (uV)": 19.79,
          "t (ms)": 716.4
         },
         {
          "V (uV)": 6.46,
          "t (ms)": 716.44
         },
         {
          "V (uV)": -4.48,
          "t (ms)": 716.48
         },
         {
          "V (uV)": 10.52,
          "t (ms)": 716.52
         },
         {
          "V (uV)": -1.25,
          "t (ms)": 716.56
         },
         {
          "V (uV)": -5,
          "t (ms)": 716.6
         },
         {
          "V (uV)": 7.4,
          "t (ms)": 716.64
         },
         {
          "V (uV)": 11.67,
          "t (ms)": 716.68
         },
         {
          "V (uV)": -2.5,
          "t (ms)": 716.72
         },
         {
          "V (uV)": -3.75,
          "t (ms)": 716.76
         },
         {
          "V (uV)": 11.56,
          "t (ms)": 716.8
         },
         {
          "V (uV)": -4.38,
          "t (ms)": 716.84
         },
         {
          "V (uV)": -10.42,
          "t (ms)": 716.88
         },
         {
          "V (uV)": -5.1,
          "t (ms)": 716.92
         },
         {
          "V (uV)": -4.79,
          "t (ms)": 716.96
         },
         {
          "V (uV)": -6.88,
          "t (ms)": 717
         },
         {
          "V (uV)": 17.92,
          "t (ms)": 717.04
         },
         {
          "V (uV)": 2.92,
          "t (ms)": 717.08
         },
         {
          "V (uV)": -11.35,
          "t (ms)": 717.12
         },
         {
          "V (uV)": 0.63,
          "t (ms)": 717.16
         },
         {
          "V (uV)": -8.44,
          "t (ms)": 717.2
         },
         {
          "V (uV)": -6.35,
          "t (ms)": 717.24
         },
         {
          "V (uV)": 11.56,
          "t (ms)": 717.28
         },
         {
          "V (uV)": 4.69,
          "t (ms)": 717.32
         },
         {
          "V (uV)": -2.81,
          "t (ms)": 717.36
         },
         {
          "V (uV)": 11.15,
          "t (ms)": 717.4
         },
         {
          "V (uV)": 0.63,
          "t (ms)": 717.44
         },
         {
          "V (uV)": -7.6,
          "t (ms)": 717.48
         },
         {
          "V (uV)": 10.83,
          "t (ms)": 717.52
         },
         {
          "V (uV)": 11.88,
          "t (ms)": 717.56
         },
         {
          "V (uV)": 0.1,
          "t (ms)": 717.6
         },
         {
          "V (uV)": 5.73,
          "t (ms)": 717.64
         },
         {
          "V (uV)": 13.44,
          "t (ms)": 717.68
         },
         {
          "V (uV)": -1.25,
          "t (ms)": 717.72
         },
         {
          "V (uV)": -1.25,
          "t (ms)": 717.76
         },
         {
          "V (uV)": 4.27,
          "t (ms)": 717.8
         },
         {
          "V (uV)": -5.21,
          "t (ms)": 717.84
         },
         {
          "V (uV)": -2.92,
          "t (ms)": 717.88
         },
         {
          "V (uV)": 16.04,
          "t (ms)": 717.92
         },
         {
          "V (uV)": 4.48,
          "t (ms)": 717.96
         },
         {
          "V (uV)": -5.31,
          "t (ms)": 718
         },
         {
          "V (uV)": 17.92,
          "t (ms)": 718.04
         },
         {
          "V (uV)": -0.42,
          "t (ms)": 718.08
         },
         {
          "V (uV)": -7.4,
          "t (ms)": 718.12
         },
         {
          "V (uV)": 2.6,
          "t (ms)": 718.16
         },
         {
          "V (uV)": -8.85,
          "t (ms)": 718.2
         },
         {
          "V (uV)": -5.63,
          "t (ms)": 718.24
         },
         {
          "V (uV)": 13.33,
          "t (ms)": 718.28
         },
         {
          "V (uV)": 2.6,
          "t (ms)": 718.32
         },
         {
          "V (uV)": -9.17,
          "t (ms)": 718.36
         },
         {
          "V (uV)": 8.85,
          "t (ms)": 718.4
         },
         {
          "V (uV)": 0.63,
          "t (ms)": 718.44
         },
         {
          "V (uV)": -3.44,
          "t (ms)": 718.48
         },
         {
          "V (uV)": 10.94,
          "t (ms)": 718.52
         },
         {
          "V (uV)": 13.33,
          "t (ms)": 718.56
         },
         {
          "V (uV)": 4.06,
          "t (ms)": 718.6
         },
         {
          "V (uV)": 8.96,
          "t (ms)": 718.64
         },
         {
          "V (uV)": 14.17,
          "t (ms)": 718.68
         },
         {
          "V (uV)": 1.88,
          "t (ms)": 718.72
         },
         {
          "V (uV)": 4.17,
          "t (ms)": 718.76
         },
         {
          "V (uV)": 7.08,
          "t (ms)": 718.8
         },
         {
          "V (uV)": -0.83,
          "t (ms)": 718.84
         },
         {
          "V (uV)": -3.23,
          "t (ms)": 718.88
         },
         {
          "V (uV)": 20,
          "t (ms)": 718.92
         },
         {
          "V (uV)": 5.42,
          "t (ms)": 718.96
         },
         {
          "V (uV)": -0.94,
          "t (ms)": 719
         },
         {
          "V (uV)": 6.88,
          "t (ms)": 719.04
         },
         {
          "V (uV)": 2.29,
          "t (ms)": 719.08
         },
         {
          "V (uV)": -3.85,
          "t (ms)": 719.12
         },
         {
          "V (uV)": 20.94,
          "t (ms)": 719.16
         },
         {
          "V (uV)": 5.52,
          "t (ms)": 719.2
         },
         {
          "V (uV)": 3.54,
          "t (ms)": 719.24
         },
         {
          "V (uV)": 13.13,
          "t (ms)": 719.28
         },
         {
          "V (uV)": 1.88,
          "t (ms)": 719.32
         },
         {
          "V (uV)": -5,
          "t (ms)": 719.36
         },
         {
          "V (uV)": 7.29,
          "t (ms)": 719.4
         },
         {
          "V (uV)": 2.6,
          "t (ms)": 719.44
         },
         {
          "V (uV)": -7.71,
          "t (ms)": 719.48
         },
         {
          "V (uV)": 0.83,
          "t (ms)": 719.52
         },
         {
          "V (uV)": -2.29,
          "t (ms)": 719.56
         },
         {
          "V (uV)": -1.56,
          "t (ms)": 719.6
         },
         {
          "V (uV)": 7.92,
          "t (ms)": 719.64
         },
         {
          "V (uV)": 15.1,
          "t (ms)": 719.68
         },
         {
          "V (uV)": 1.77,
          "t (ms)": 719.72
         },
         {
          "V (uV)": 2.81,
          "t (ms)": 719.76
         },
         {
          "V (uV)": 12.6,
          "t (ms)": 719.8
         },
         {
          "V (uV)": 1.88,
          "t (ms)": 719.84
         },
         {
          "V (uV)": 1.77,
          "t (ms)": 719.88
         },
         {
          "V (uV)": 6.25,
          "t (ms)": 719.92
         },
         {
          "V (uV)": -2.6,
          "t (ms)": 719.96
         },
         {
          "V (uV)": -9.48,
          "t (ms)": 720
         },
         {
          "V (uV)": 9.27,
          "t (ms)": 720.04
         },
         {
          "V (uV)": -6.15,
          "t (ms)": 720.08
         },
         {
          "V (uV)": -16.25,
          "t (ms)": 720.12
         },
         {
          "V (uV)": 7.71,
          "t (ms)": 720.16
         },
         {
          "V (uV)": -1.88,
          "t (ms)": 720.2
         },
         {
          "V (uV)": -8.13,
          "t (ms)": 720.24
         },
         {
          "V (uV)": -1.35,
          "t (ms)": 720.28
         },
         {
          "V (uV)": -7.5,
          "t (ms)": 720.32
         },
         {
          "V (uV)": -9.48,
          "t (ms)": 720.36
         },
         {
          "V (uV)": 7.19,
          "t (ms)": 720.4
         },
         {
          "V (uV)": 5.94,
          "t (ms)": 720.44
         },
         {
          "V (uV)": -1.88,
          "t (ms)": 720.48
         },
         {
          "V (uV)": 9.69,
          "t (ms)": 720.52
         },
         {
          "V (uV)": 9.38,
          "t (ms)": 720.56
         },
         {
          "V (uV)": -3.65,
          "t (ms)": 720.6
         },
         {
          "V (uV)": 6.04,
          "t (ms)": 720.64
         },
         {
          "V (uV)": 5.1,
          "t (ms)": 720.68
         },
         {
          "V (uV)": 0.52,
          "t (ms)": 720.72
         },
         {
          "V (uV)": 0.83,
          "t (ms)": 720.76
         },
         {
          "V (uV)": 13.33,
          "t (ms)": 720.8
         },
         {
          "V (uV)": 5.1,
          "t (ms)": 720.84
         },
         {
          "V (uV)": 5.52,
          "t (ms)": 720.88
         },
         {
          "V (uV)": 7.5,
          "t (ms)": 720.92
         },
         {
          "V (uV)": -0.83,
          "t (ms)": 720.96
         },
         {
          "V (uV)": -3.13,
          "t (ms)": 721
         },
         {
          "V (uV)": 23.23,
          "t (ms)": 721.04
         },
         {
          "V (uV)": 5.52,
          "t (ms)": 721.08
         },
         {
          "V (uV)": -8.75,
          "t (ms)": 721.12
         },
         {
          "V (uV)": 0,
          "t (ms)": 721.16
         },
         {
          "V (uV)": -3.54,
          "t (ms)": 721.2
         },
         {
          "V (uV)": -1.46,
          "t (ms)": 721.24
         },
         {
          "V (uV)": 16.35,
          "t (ms)": 721.28
         },
         {
          "V (uV)": 2.4,
          "t (ms)": 721.32
         },
         {
          "V (uV)": -8.85,
          "t (ms)": 721.36
         },
         {
          "V (uV)": -0.42,
          "t (ms)": 721.4
         },
         {
          "V (uV)": -9.38,
          "t (ms)": 721.44
         },
         {
          "V (uV)": -15.83,
          "t (ms)": 721.48
         },
         {
          "V (uV)": 0.1,
          "t (ms)": 721.52
         },
         {
          "V (uV)": 2.19,
          "t (ms)": 721.56
         },
         {
          "V (uV)": -4.58,
          "t (ms)": 721.6
         },
         {
          "V (uV)": 8.02,
          "t (ms)": 721.64
         },
         {
          "V (uV)": 12.71,
          "t (ms)": 721.68
         },
         {
          "V (uV)": 0,
          "t (ms)": 721.72
         },
         {
          "V (uV)": 0.52,
          "t (ms)": 721.76
         },
         {
          "V (uV)": 5.31,
          "t (ms)": 721.8
         },
         {
          "V (uV)": 1.98,
          "t (ms)": 721.84
         },
         {
          "V (uV)": 0.63,
          "t (ms)": 721.88
         },
         {
          "V (uV)": 16.25,
          "t (ms)": 721.92
         },
         {
          "V (uV)": 5,
          "t (ms)": 721.96
         },
         {
          "V (uV)": 1.15,
          "t (ms)": 722
         },
         {
          "V (uV)": 11.56,
          "t (ms)": 722.04
         },
         {
          "V (uV)": 4.48,
          "t (ms)": 722.08
         },
         {
          "V (uV)": 0.94,
          "t (ms)": 722.12
         },
         {
          "V (uV)": 20.52,
          "t (ms)": 722.16
         },
         {
          "V (uV)": 2.92,
          "t (ms)": 722.2
         },
         {
          "V (uV)": -7.29,
          "t (ms)": 722.24
         },
         {
          "V (uV)": 8.23,
          "t (ms)": 722.28
         },
         {
          "V (uV)": 0.94,
          "t (ms)": 722.32
         },
         {
          "V (uV)": -11.25,
          "t (ms)": 722.36
         },
         {
          "V (uV)": 5.1,
          "t (ms)": 722.4
         },
         {
          "V (uV)": -5.94,
          "t (ms)": 722.44
         },
         {
          "V (uV)": -10.83,
          "t (ms)": 722.48
         },
         {
          "V (uV)": 6.56,
          "t (ms)": 722.52
         },
         {
          "V (uV)": 12.92,
          "t (ms)": 722.56
         },
         {
          "V (uV)": -2.19,
          "t (ms)": 722.6
         },
         {
          "V (uV)": 6.77,
          "t (ms)": 722.64
         },
         {
          "V (uV)": 12.5,
          "t (ms)": 722.68
         },
         {
          "V (uV)": -0.94,
          "t (ms)": 722.72
         },
         {
          "V (uV)": -2.19,
          "t (ms)": 722.76
         },
         {
          "V (uV)": -9.06,
          "t (ms)": 722.8
         },
         {
          "V (uV)": -14.79,
          "t (ms)": 722.84
         },
         {
          "V (uV)": -16.56,
          "t (ms)": 722.88
         },
         {
          "V (uV)": 5.1,
          "t (ms)": 722.92
         },
         {
          "V (uV)": -5.31,
          "t (ms)": 722.96
         },
         {
          "V (uV)": -9.27,
          "t (ms)": 723
         },
         {
          "V (uV)": 4.06,
          "t (ms)": 723.04
         },
         {
          "V (uV)": -2.6,
          "t (ms)": 723.08
         },
         {
          "V (uV)": -8.75,
          "t (ms)": 723.12
         },
         {
          "V (uV)": 16.67,
          "t (ms)": 723.16
         },
         {
          "V (uV)": 4.38,
          "t (ms)": 723.2
         },
         {
          "V (uV)": -6.04,
          "t (ms)": 723.24
         },
         {
          "V (uV)": 4.48,
          "t (ms)": 723.28
         },
         {
          "V (uV)": -4.9,
          "t (ms)": 723.32
         },
         {
          "V (uV)": -5.83,
          "t (ms)": 723.36
         },
         {
          "V (uV)": 15.52,
          "t (ms)": 723.4
         },
         {
          "V (uV)": 11.15,
          "t (ms)": 723.44
         },
         {
          "V (uV)": -7.92,
          "t (ms)": 723.48
         },
         {
          "V (uV)": 1.04,
          "t (ms)": 723.52
         },
         {
          "V (uV)": 4.27,
          "t (ms)": 723.56
         },
         {
          "V (uV)": -7.19,
          "t (ms)": 723.6
         },
         {
          "V (uV)": 5.83,
          "t (ms)": 723.64
         },
         {
          "V (uV)": 7.5,
          "t (ms)": 723.68
         },
         {
          "V (uV)": -1.46,
          "t (ms)": 723.72
         },
         {
          "V (uV)": 1.15,
          "t (ms)": 723.76
         },
         {
          "V (uV)": 14.58,
          "t (ms)": 723.8
         },
         {
          "V (uV)": -2.5,
          "t (ms)": 723.84
         },
         {
          "V (uV)": -3.85,
          "t (ms)": 723.88
         },
         {
          "V (uV)": -1.04,
          "t (ms)": 723.92
         },
         {
          "V (uV)": -11.77,
          "t (ms)": 723.96
         },
         {
          "V (uV)": -16.77,
          "t (ms)": 724
         },
         {
          "V (uV)": 5,
          "t (ms)": 724.04
         },
         {
          "V (uV)": -9.06,
          "t (ms)": 724.08
         },
         {
          "V (uV)": -11.15,
          "t (ms)": 724.12
         },
         {
          "V (uV)": 13.75,
          "t (ms)": 724.16
         },
         {
          "V (uV)": -1.98,
          "t (ms)": 724.2
         },
         {
          "V (uV)": -10.21,
          "t (ms)": 724.24
         },
         {
          "V (uV)": 1.46,
          "t (ms)": 724.28
         },
         {
          "V (uV)": -3.13,
          "t (ms)": 724.32
         },
         {
          "V (uV)": -7.29,
          "t (ms)": 724.36
         },
         {
          "V (uV)": 13.75,
          "t (ms)": 724.4
         },
         {
          "V (uV)": 12.71,
          "t (ms)": 724.44
         },
         {
          "V (uV)": -3.75,
          "t (ms)": 724.48
         },
         {
          "V (uV)": 6.56,
          "t (ms)": 724.52
         },
         {
          "V (uV)": 9.27,
          "t (ms)": 724.56
         },
         {
          "V (uV)": 2.71,
          "t (ms)": 724.6
         },
         {
          "V (uV)": 5.52,
          "t (ms)": 724.64
         },
         {
          "V (uV)": -0.94,
          "t (ms)": 724.68
         },
         {
          "V (uV)": 0,
          "t (ms)": 724.72
         },
         {
          "V (uV)": 9.17,
          "t (ms)": 724.76
         },
         {
          "V (uV)": 13.54,
          "t (ms)": 724.8
         },
         {
          "V (uV)": -5.83,
          "t (ms)": 724.84
         },
         {
          "V (uV)": -8.23,
          "t (ms)": 724.88
         },
         {
          "V (uV)": 3.44,
          "t (ms)": 724.92
         },
         {
          "V (uV)": -2.6,
          "t (ms)": 724.96
         },
         {
          "V (uV)": -0.1,
          "t (ms)": 725
         },
         {
          "V (uV)": 22.19,
          "t (ms)": 725.04
         },
         {
          "V (uV)": 0.63,
          "t (ms)": 725.08
         },
         {
          "V (uV)": -10.83,
          "t (ms)": 725.12
         },
         {
          "V (uV)": 1.67,
          "t (ms)": 725.16
         },
         {
          "V (uV)": -3.65,
          "t (ms)": 725.2
         },
         {
          "V (uV)": -11.35,
          "t (ms)": 725.24
         },
         {
          "V (uV)": 8.33,
          "t (ms)": 725.28
         },
         {
          "V (uV)": -0.31,
          "t (ms)": 725.32
         },
         {
          "V (uV)": -10.63,
          "t (ms)": 725.36
         },
         {
          "V (uV)": -1.56,
          "t (ms)": 725.4
         },
         {
          "V (uV)": -1.46,
          "t (ms)": 725.44
         },
         {
          "V (uV)": -3.23,
          "t (ms)": 725.48
         },
         {
          "V (uV)": 9.27,
          "t (ms)": 725.52
         },
         {
          "V (uV)": 13.85,
          "t (ms)": 725.56
         },
         {
          "V (uV)": 1.35,
          "t (ms)": 725.6
         },
         {
          "V (uV)": 4.48,
          "t (ms)": 725.64
         },
         {
          "V (uV)": 13.85,
          "t (ms)": 725.68
         },
         {
          "V (uV)": -1.25,
          "t (ms)": 725.72
         },
         {
          "V (uV)": -3.33,
          "t (ms)": 725.76
         },
         {
          "V (uV)": -0.21,
          "t (ms)": 725.8
         },
         {
          "V (uV)": -3.33,
          "t (ms)": 725.84
         },
         {
          "V (uV)": -0.83,
          "t (ms)": 725.88
         },
         {
          "V (uV)": 20.63,
          "t (ms)": 725.92
         },
         {
          "V (uV)": 2.19,
          "t (ms)": 725.96
         },
         {
          "V (uV)": -6.77,
          "t (ms)": 726
         },
         {
          "V (uV)": -1.46,
          "t (ms)": 726.04
         },
         {
          "V (uV)": -10.1,
          "t (ms)": 726.08
         },
         {
          "V (uV)": -10.21,
          "t (ms)": 726.12
         },
         {
          "V (uV)": 15.73,
          "t (ms)": 726.16
         },
         {
          "V (uV)": 0.73,
          "t (ms)": 726.2
         },
         {
          "V (uV)": -7.5,
          "t (ms)": 726.24
         },
         {
          "V (uV)": 10.94,
          "t (ms)": 726.28
         },
         {
          "V (uV)": 0.21,
          "t (ms)": 726.32
         },
         {
          "V (uV)": -1.67,
          "t (ms)": 726.36
         },
         {
          "V (uV)": 8.02,
          "t (ms)": 726.4
         },
         {
          "V (uV)": -1.98,
          "t (ms)": 726.44
         },
         {
          "V (uV)": -5.31,
          "t (ms)": 726.48
         },
         {
          "V (uV)": 8.33,
          "t (ms)": 726.52
         },
         {
          "V (uV)": 12.4,
          "t (ms)": 726.56
         },
         {
          "V (uV)": 0.94,
          "t (ms)": 726.6
         },
         {
          "V (uV)": 6.67,
          "t (ms)": 726.64
         },
         {
          "V (uV)": 11.04,
          "t (ms)": 726.68
         },
         {
          "V (uV)": -5.63,
          "t (ms)": 726.72
         },
         {
          "V (uV)": 5.1,
          "t (ms)": 726.76
         },
         {
          "V (uV)": 11.15,
          "t (ms)": 726.8
         },
         {
          "V (uV)": 2.81,
          "t (ms)": 726.84
         },
         {
          "V (uV)": 2.29,
          "t (ms)": 726.88
         },
         {
          "V (uV)": 20.63,
          "t (ms)": 726.92
         },
         {
          "V (uV)": 1.35,
          "t (ms)": 726.96
         },
         {
          "V (uV)": -4.58,
          "t (ms)": 727
         },
         {
          "V (uV)": 2.71,
          "t (ms)": 727.04
         },
         {
          "V (uV)": -5.42,
          "t (ms)": 727.08
         },
         {
          "V (uV)": -10.94,
          "t (ms)": 727.12
         },
         {
          "V (uV)": 17.5,
          "t (ms)": 727.16
         },
         {
          "V (uV)": 9.9,
          "t (ms)": 727.2
         },
         {
          "V (uV)": 1.46,
          "t (ms)": 727.24
         },
         {
          "V (uV)": 2.6,
          "t (ms)": 727.28
         },
         {
          "V (uV)": -13.02,
          "t (ms)": 727.32
         },
         {
          "V (uV)": -18.02,
          "t (ms)": 727.36
         },
         {
          "V (uV)": 7.6,
          "t (ms)": 727.4
         },
         {
          "V (uV)": 7.81,
          "t (ms)": 727.44
         },
         {
          "V (uV)": 1.56,
          "t (ms)": 727.48
         },
         {
          "V (uV)": 8.75,
          "t (ms)": 727.52
         },
         {
          "V (uV)": 6.04,
          "t (ms)": 727.56
         },
         {
          "V (uV)": -4.69,
          "t (ms)": 727.6
         },
         {
          "V (uV)": -1.15,
          "t (ms)": 727.64
         },
         {
          "V (uV)": -5.21,
          "t (ms)": 727.68
         },
         {
          "V (uV)": -8.23,
          "t (ms)": 727.72
         },
         {
          "V (uV)": 0.94,
          "t (ms)": 727.76
         },
         {
          "V (uV)": 16.98,
          "t (ms)": 727.8
         },
         {
          "V (uV)": 3.23,
          "t (ms)": 727.84
         },
         {
          "V (uV)": 1.46,
          "t (ms)": 727.88
         },
         {
          "V (uV)": 7.71,
          "t (ms)": 727.92
         },
         {
          "V (uV)": -1.67,
          "t (ms)": 727.96
         },
         {
          "V (uV)": -9.06,
          "t (ms)": 728
         },
         {
          "V (uV)": 13.75,
          "t (ms)": 728.04
         },
         {
          "V (uV)": -0.63,
          "t (ms)": 728.08
         },
         {
          "V (uV)": -1.98,
          "t (ms)": 728.12
         },
         {
          "V (uV)": 10,
          "t (ms)": 728.16
         },
         {
          "V (uV)": -1.46,
          "t (ms)": 728.2
         },
         {
          "V (uV)": -6.15,
          "t (ms)": 728.24
         },
         {
          "V (uV)": 15.73,
          "t (ms)": 728.28
         },
         {
          "V (uV)": 8.33,
          "t (ms)": 728.32
         },
         {
          "V (uV)": 0.83,
          "t (ms)": 728.36
         },
         {
          "V (uV)": 17.4,
          "t (ms)": 728.4
         },
         {
          "V (uV)": 5,
          "t (ms)": 728.44
         },
         {
          "V (uV)": -7.19,
          "t (ms)": 728.48
         },
         {
          "V (uV)": 11.25,
          "t (ms)": 728.52
         },
         {
          "V (uV)": 16.25,
          "t (ms)": 728.56
         },
         {
          "V (uV)": -2.08,
          "t (ms)": 728.6
         },
         {
          "V (uV)": 4.17,
          "t (ms)": 728.64
         },
         {
          "V (uV)": -2.81,
          "t (ms)": 728.68
         },
         {
          "V (uV)": -4.27,
          "t (ms)": 728.72
         },
         {
          "V (uV)": 6.35,
          "t (ms)": 728.76
         },
         {
          "V (uV)": 15.73,
          "t (ms)": 728.8
         },
         {
          "V (uV)": 3.23,
          "t (ms)": 728.84
         },
         {
          "V (uV)": -1.67,
          "t (ms)": 728.88
         },
         {
          "V (uV)": -0.42,
          "t (ms)": 728.92
         },
         {
          "V (uV)": -9.69,
          "t (ms)": 728.96
         },
         {
          "V (uV)": -16.35,
          "t (ms)": 729
         },
         {
          "V (uV)": 9.27,
          "t (ms)": 729.04
         },
         {
          "V (uV)": -3.13,
          "t (ms)": 729.08
         },
         {
          "V (uV)": -10.21,
          "t (ms)": 729.12
         },
         {
          "V (uV)": 1.77,
          "t (ms)": 729.16
         },
         {
          "V (uV)": -11.98,
          "t (ms)": 729.2
         },
         {
          "V (uV)": -14.9,
          "t (ms)": 729.24
         },
         {
          "V (uV)": 7.92,
          "t (ms)": 729.28
         },
         {
          "V (uV)": 2.19,
          "t (ms)": 729.32
         },
         {
          "V (uV)": -1.35,
          "t (ms)": 729.36
         },
         {
          "V (uV)": 12.4,
          "t (ms)": 729.4
         },
         {
          "V (uV)": 1.67,
          "t (ms)": 729.44
         },
         {
          "V (uV)": -10.63,
          "t (ms)": 729.48
         },
         {
          "V (uV)": 1.25,
          "t (ms)": 729.52
         },
         {
          "V (uV)": 8.65,
          "t (ms)": 729.56
         },
         {
          "V (uV)": 1.98,
          "t (ms)": 729.6
         },
         {
          "V (uV)": 11.56,
          "t (ms)": 729.64
         },
         {
          "V (uV)": 15,
          "t (ms)": 729.68
         },
         {
          "V (uV)": 3.54,
          "t (ms)": 729.72
         },
         {
          "V (uV)": 4.9,
          "t (ms)": 729.76
         },
         {
          "V (uV)": 4.38,
          "t (ms)": 729.8
         },
         {
          "V (uV)": 2.29,
          "t (ms)": 729.84
         },
         {
          "V (uV)": -0.83,
          "t (ms)": 729.88
         },
         {
          "V (uV)": 22.4,
          "t (ms)": 729.92
         },
         {
          "V (uV)": 6.77,
          "t (ms)": 729.96
         },
         {
          "V (uV)": -7.08,
          "t (ms)": 730
         },
         {
          "V (uV)": -6.56,
          "t (ms)": 730.04
         },
         {
          "V (uV)": -13.96,
          "t (ms)": 730.08
         },
         {
          "V (uV)": -11.98,
          "t (ms)": 730.12
         },
         {
          "V (uV)": 16.35,
          "t (ms)": 730.16
         },
         {
          "V (uV)": 0.42,
          "t (ms)": 730.2
         },
         {
          "V (uV)": -10.31,
          "t (ms)": 730.24
         },
         {
          "V (uV)": 9.48,
          "t (ms)": 730.28
         },
         {
          "V (uV)": -1.15,
          "t (ms)": 730.32
         },
         {
          "V (uV)": -10.1,
          "t (ms)": 730.36
         },
         {
          "V (uV)": 0.83,
          "t (ms)": 730.4
         },
         {
          "V (uV)": -6.25,
          "t (ms)": 730.44
         },
         {
          "V (uV)": -13.23,
          "t (ms)": 730.48
         },
         {
          "V (uV)": 4.48,
          "t (ms)": 730.52
         },
         {
          "V (uV)": 11.25,
          "t (ms)": 730.56
         },
         {
          "V (uV)": 1.04,
          "t (ms)": 730.6
         },
         {
          "V (uV)": 3.33,
          "t (ms)": 730.64
         },
         {
          "V (uV)": 10,
          "t (ms)": 730.68
         },
         {
          "V (uV)": -6.04,
          "t (ms)": 730.72
         },
         {
          "V (uV)": -3.75,
          "t (ms)": 730.76
         },
         {
          "V (uV)": 3.85,
          "t (ms)": 730.8
         },
         {
          "V (uV)": -1.56,
          "t (ms)": 730.84
         },
         {
          "V (uV)": -3.33,
          "t (ms)": 730.88
         },
         {
          "V (uV)": 17.19,
          "t (ms)": 730.92
         },
         {
          "V (uV)": 4.06,
          "t (ms)": 730.96
         },
         {
          "V (uV)": -7.19,
          "t (ms)": 731
         },
         {
          "V (uV)": -1.98,
          "t (ms)": 731.04
         },
         {
          "V (uV)": -9.48,
          "t (ms)": 731.08
         },
         {
          "V (uV)": -10.42,
          "t (ms)": 731.12
         },
         {
          "V (uV)": 13.75,
          "t (ms)": 731.16
         },
         {
          "V (uV)": 6.35,
          "t (ms)": 731.2
         },
         {
          "V (uV)": -4.9,
          "t (ms)": 731.24
         },
         {
          "V (uV)": 5.94,
          "t (ms)": 731.28
         },
         {
          "V (uV)": -6.56,
          "t (ms)": 731.32
         },
         {
          "V (uV)": -7.6,
          "t (ms)": 731.36
         },
         {
          "V (uV)": 12.4,
          "t (ms)": 731.4
         },
         {
          "V (uV)": 6.67,
          "t (ms)": 731.44
         },
         {
          "V (uV)": -5.52,
          "t (ms)": 731.48
         },
         {
          "V (uV)": 1.98,
          "t (ms)": 731.52
         },
         {
          "V (uV)": 3.02,
          "t (ms)": 731.56
         },
         {
          "V (uV)": -16.77,
          "t (ms)": 731.6
         },
         {
          "V (uV)": -10.31,
          "t (ms)": 731.64
         },
         {
          "V (uV)": -10.1,
          "t (ms)": 731.68
         },
         {
          "V (uV)": -15.52,
          "t (ms)": 731.72
         },
         {
          "V (uV)": -5.94,
          "t (ms)": 731.76
         },
         {
          "V (uV)": 11.88,
          "t (ms)": 731.8
         },
         {
          "V (uV)": -3.13,
          "t (ms)": 731.84
         },
         {
          "V (uV)": -6.46,
          "t (ms)": 731.88
         },
         {
          "V (uV)": 3.02,
          "t (ms)": 731.92
         },
         {
          "V (uV)": -3.13,
          "t (ms)": 731.96
         },
         {
          "V (uV)": -5.83,
          "t (ms)": 732
         },
         {
          "V (uV)": 21.56,
          "t (ms)": 732.04
         },
         {
          "V (uV)": 3.13,
          "t (ms)": 732.08
         },
         {
          "V (uV)": -5.21,
          "t (ms)": 732.12
         },
         {
          "V (uV)": 7.4,
          "t (ms)": 732.16
         },
         {
          "V (uV)": 0.52,
          "t (ms)": 732.2
         },
         {
          "V (uV)": -2.6,
          "t (ms)": 732.24
         },
         {
          "V (uV)": 18.54,
          "t (ms)": 732.28
         },
         {
          "V (uV)": 12.29,
          "t (ms)": 732.32
         },
         {
          "V (uV)": 1.35,
          "t (ms)": 732.36
         },
         {
          "V (uV)": 22.81,
          "t (ms)": 732.4
         },
         {
          "V (uV)": 15,
          "t (ms)": 732.44
         },
         {
          "V (uV)": 1.77,
          "t (ms)": 732.48
         },
         {
          "V (uV)": 9.58,
          "t (ms)": 732.52
         },
         {
          "V (uV)": 7.19,
          "t (ms)": 732.56
         },
         {
          "V (uV)": -6.35,
          "t (ms)": 732.6
         },
         {
          "V (uV)": -1.15,
          "t (ms)": 732.64
         },
         {
          "V (uV)": -1.04,
          "t (ms)": 732.68
         },
         {
          "V (uV)": -6.77,
          "t (ms)": 732.72
         },
         {
          "V (uV)": -4.48,
          "t (ms)": 732.76
         },
         {
          "V (uV)": 8.02,
          "t (ms)": 732.8
         },
         {
          "V (uV)": -11.67,
          "t (ms)": 732.84
         },
         {
          "V (uV)": -12.81,
          "t (ms)": 732.88
         },
         {
          "V (uV)": 1.25,
          "t (ms)": 732.92
         },
         {
          "V (uV)": -3.44,
          "t (ms)": 732.96
         },
         {
          "V (uV)": -5.73,
          "t (ms)": 733
         },
         {
          "V (uV)": 19.69,
          "t (ms)": 733.04
         },
         {
          "V (uV)": -1.46,
          "t (ms)": 733.08
         },
         {
          "V (uV)": -13.13,
          "t (ms)": 733.12
         },
         {
          "V (uV)": -4.79,
          "t (ms)": 733.16
         },
         {
          "V (uV)": -10.63,
          "t (ms)": 733.2
         },
         {
          "V (uV)": -15.94,
          "t (ms)": 733.24
         },
         {
          "V (uV)": 9.9,
          "t (ms)": 733.28
         },
         {
          "V (uV)": -0.31,
          "t (ms)": 733.32
         },
         {
          "V (uV)": -9.38,
          "t (ms)": 733.36
         },
         {
          "V (uV)": -2.71,
          "t (ms)": 733.4
         },
         {
          "V (uV)": -15,
          "t (ms)": 733.44
         },
         {
          "V (uV)": -15.63,
          "t (ms)": 733.48
         },
         {
          "V (uV)": 2.6,
          "t (ms)": 733.52
         },
         {
          "V (uV)": 2.19,
          "t (ms)": 733.56
         },
         {
          "V (uV)": -6.25,
          "t (ms)": 733.6
         },
         {
          "V (uV)": 0.1,
          "t (ms)": 733.64
         },
         {
          "V (uV)": 11.35,
          "t (ms)": 733.68
         },
         {
          "V (uV)": -1.35,
          "t (ms)": 733.72
         },
         {
          "V (uV)": -0.52,
          "t (ms)": 733.76
         },
         {
          "V (uV)": -0.83,
          "t (ms)": 733.8
         },
         {
          "V (uV)": -9.9,
          "t (ms)": 733.84
         },
         {
          "V (uV)": -10.31,
          "t (ms)": 733.88
         },
         {
          "V (uV)": 10.52,
          "t (ms)": 733.92
         },
         {
          "V (uV)": -6.35,
          "t (ms)": 733.96
         },
         {
          "V (uV)": -13.23,
          "t (ms)": 734
         },
         {
          "V (uV)": -4.69,
          "t (ms)": 734.04
         },
         {
          "V (uV)": -9.17,
          "t (ms)": 734.08
         },
         {
          "V (uV)": -11.25,
          "t (ms)": 734.12
         },
         {
          "V (uV)": 9.38,
          "t (ms)": 734.16
         },
         {
          "V (uV)": 0.73,
          "t (ms)": 734.2
         },
         {
          "V (uV)": -7.5,
          "t (ms)": 734.24
         },
         {
          "V (uV)": -2.08,
          "t (ms)": 734.28
         },
         {
          "V (uV)": -13.44,
          "t (ms)": 734.32
         },
         {
          "V (uV)": -18.23,
          "t (ms)": 734.36
         },
         {
          "V (uV)": 3.33,
          "t (ms)": 734.4
         },
         {
          "V (uV)": 4.79,
          "t (ms)": 734.44
         },
         {
          "V (uV)": -4.9,
          "t (ms)": 734.48
         },
         {
          "V (uV)": 11.98,
          "t (ms)": 734.52
         },
         {
          "V (uV)": 10.94,
          "t (ms)": 734.56
         },
         {
          "V (uV)": -1.77,
          "t (ms)": 734.6
         },
         {
          "V (uV)": -0.31,
          "t (ms)": 734.64
         },
         {
          "V (uV)": 6.98,
          "t (ms)": 734.68
         },
         {
          "V (uV)": -8.65,
          "t (ms)": 734.72
         },
         {
          "V (uV)": -10.21,
          "t (ms)": 734.76
         },
         {
          "V (uV)": -3.75,
          "t (ms)": 734.8
         },
         {
          "V (uV)": -3.96,
          "t (ms)": 734.84
         },
         {
          "V (uV)": -5,
          "t (ms)": 734.88
         },
         {
          "V (uV)": 14.69,
          "t (ms)": 734.92
         },
         {
          "V (uV)": 1.46,
          "t (ms)": 734.96
         },
         {
          "V (uV)": -3.13,
          "t (ms)": 735
         },
         {
          "V (uV)": 9.69,
          "t (ms)": 735.04
         },
         {
          "V (uV)": 1.77,
          "t (ms)": 735.08
         },
         {
          "V (uV)": -5.42,
          "t (ms)": 735.12
         },
         {
          "V (uV)": 11.67,
          "t (ms)": 735.16
         },
         {
          "V (uV)": -1.67,
          "t (ms)": 735.2
         },
         {
          "V (uV)": -9.27,
          "t (ms)": 735.24
         },
         {
          "V (uV)": 0.63,
          "t (ms)": 735.28
         },
         {
          "V (uV)": -7.6,
          "t (ms)": 735.32
         },
         {
          "V (uV)": -7.4,
          "t (ms)": 735.36
         },
         {
          "V (uV)": 6.04,
          "t (ms)": 735.4
         },
         {
          "V (uV)": 7.19,
          "t (ms)": 735.44
         },
         {
          "V (uV)": -1.77,
          "t (ms)": 735.48
         },
         {
          "V (uV)": 11.67,
          "t (ms)": 735.52
         },
         {
          "V (uV)": 9.9,
          "t (ms)": 735.56
         },
         {
          "V (uV)": -6.04,
          "t (ms)": 735.6
         },
         {
          "V (uV)": 3.85,
          "t (ms)": 735.64
         },
         {
          "V (uV)": -2.19,
          "t (ms)": 735.68
         },
         {
          "V (uV)": -12.19,
          "t (ms)": 735.72
         },
         {
          "V (uV)": -10.52,
          "t (ms)": 735.76
         },
         {
          "V (uV)": 7.81,
          "t (ms)": 735.8
         },
         {
          "V (uV)": 1.67,
          "t (ms)": 735.84
         },
         {
          "V (uV)": 0.42,
          "t (ms)": 735.88
         },
         {
          "V (uV)": 6.56,
          "t (ms)": 735.92
         },
         {
          "V (uV)": -7.5,
          "t (ms)": 735.96
         },
         {
          "V (uV)": -10.42,
          "t (ms)": 736
         },
         {
          "V (uV)": 17.08,
          "t (ms)": 736.04
         },
         {
          "V (uV)": 0.31,
          "t (ms)": 736.08
         },
         {
          "V (uV)": -6.67,
          "t (ms)": 736.12
         },
         {
          "V (uV)": -0.21,
          "t (ms)": 736.16
         },
         {
          "V (uV)": -8.75,
          "t (ms)": 736.2
         },
         {
          "V (uV)": -8.75,
          "t (ms)": 736.24
         },
         {
          "V (uV)": 9.9,
          "t (ms)": 736.28
         },
         {
          "V (uV)": -4.17,
          "t (ms)": 736.32
         },
         {
          "V (uV)": -11.56,
          "t (ms)": 736.36
         },
         {
          "V (uV)": -2.81,
          "t (ms)": 736.4
         },
         {
          "V (uV)": -13.85,
          "t (ms)": 736.44
         },
         {
          "V (uV)": -11.46,
          "t (ms)": 736.48
         },
         {
          "V (uV)": 5.73,
          "t (ms)": 736.52
         },
         {
          "V (uV)": 21.04,
          "t (ms)": 736.56
         },
         {
          "V (uV)": -0.21,
          "t (ms)": 736.6
         },
         {
          "V (uV)": 0.73,
          "t (ms)": 736.64
         },
         {
          "V (uV)": -2.29,
          "t (ms)": 736.68
         },
         {
          "V (uV)": -4.27,
          "t (ms)": 736.72
         },
         {
          "V (uV)": 3.13,
          "t (ms)": 736.76
         },
         {
          "V (uV)": 16.98,
          "t (ms)": 736.8
         },
         {
          "V (uV)": 1.25,
          "t (ms)": 736.84
         },
         {
          "V (uV)": -8.33,
          "t (ms)": 736.88
         },
         {
          "V (uV)": 2.5,
          "t (ms)": 736.92
         },
         {
          "V (uV)": -6.56,
          "t (ms)": 736.96
         },
         {
          "V (uV)": -13.96,
          "t (ms)": 737
         },
         {
          "V (uV)": 12.19,
          "t (ms)": 737.04
         },
         {
          "V (uV)": -2.81,
          "t (ms)": 737.08
         },
         {
          "V (uV)": -10.94,
          "t (ms)": 737.12
         },
         {
          "V (uV)": 3.96,
          "t (ms)": 737.16
         },
         {
          "V (uV)": 1.88,
          "t (ms)": 737.2
         },
         {
          "V (uV)": 1.25,
          "t (ms)": 737.24
         },
         {
          "V (uV)": 14.38,
          "t (ms)": 737.28
         },
         {
          "V (uV)": 4.27,
          "t (ms)": 737.32
         },
         {
          "V (uV)": -2.29,
          "t (ms)": 737.36
         },
         {
          "V (uV)": 16.67,
          "t (ms)": 737.4
         },
         {
          "V (uV)": 3.96,
          "t (ms)": 737.44
         },
         {
          "V (uV)": -6.67,
          "t (ms)": 737.48
         },
         {
          "V (uV)": 11.35,
          "t (ms)": 737.52
         },
         {
          "V (uV)": 13.65,
          "t (ms)": 737.56
         },
         {
          "V (uV)": -4.69,
          "t (ms)": 737.6
         },
         {
          "V (uV)": 0.73,
          "t (ms)": 737.64
         },
         {
          "V (uV)": 9.38,
          "t (ms)": 737.68
         },
         {
          "V (uV)": -5.94,
          "t (ms)": 737.72
         },
         {
          "V (uV)": -3.02,
          "t (ms)": 737.76
         },
         {
          "V (uV)": 0.21,
          "t (ms)": 737.8
         },
         {
          "V (uV)": -8.23,
          "t (ms)": 737.84
         },
         {
          "V (uV)": -13.85,
          "t (ms)": 737.88
         },
         {
          "V (uV)": 8.13,
          "t (ms)": 737.92
         },
         {
          "V (uV)": -4.17,
          "t (ms)": 737.96
         },
         {
          "V (uV)": -8.13,
          "t (ms)": 738
         },
         {
          "V (uV)": -3.02,
          "t (ms)": 738.04
         },
         {
          "V (uV)": -12.81,
          "t (ms)": 738.08
         },
         {
          "V (uV)": -15.83,
          "t (ms)": 738.12
         },
         {
          "V (uV)": 13.23,
          "t (ms)": 738.16
         },
         {
          "V (uV)": -0.73,
          "t (ms)": 738.2
         },
         {
          "V (uV)": -8.96,
          "t (ms)": 738.24
         },
         {
          "V (uV)": 0,
          "t (ms)": 738.28
         },
         {
          "V (uV)": -9.69,
          "t (ms)": 738.32
         },
         {
          "V (uV)": -13.65,
          "t (ms)": 738.36
         },
         {
          "V (uV)": 4.58,
          "t (ms)": 738.4
         },
         {
          "V (uV)": 4.38,
          "t (ms)": 738.44
         },
         {
          "V (uV)": -7.08,
          "t (ms)": 738.48
         },
         {
          "V (uV)": 8.65,
          "t (ms)": 738.52
         },
         {
          "V (uV)": 11.77,
          "t (ms)": 738.56
         },
         {
          "V (uV)": -1.67,
          "t (ms)": 738.6
         },
         {
          "V (uV)": 3.96,
          "t (ms)": 738.64
         },
         {
          "V (uV)": 11.35,
          "t (ms)": 738.68
         },
         {
          "V (uV)": -0.52,
          "t (ms)": 738.72
         },
         {
          "V (uV)": 2.81,
          "t (ms)": 738.76
         },
         {
          "V (uV)": 3.44,
          "t (ms)": 738.8
         },
         {
          "V (uV)": -2.29,
          "t (ms)": 738.84
         },
         {
          "V (uV)": -6.67,
          "t (ms)": 738.88
         },
         {
          "V (uV)": 13.65,
          "t (ms)": 738.92
         },
         {
          "V (uV)": 0.73,
          "t (ms)": 738.96
         },
         {
          "V (uV)": -5.63,
          "t (ms)": 739
         },
         {
          "V (uV)": 5.42,
          "t (ms)": 739.04
         },
         {
          "V (uV)": -6.56,
          "t (ms)": 739.08
         },
         {
          "V (uV)": -8.96,
          "t (ms)": 739.12
         },
         {
          "V (uV)": 19.9,
          "t (ms)": 739.16
         },
         {
          "V (uV)": 8.75,
          "t (ms)": 739.2
         },
         {
          "V (uV)": -2.6,
          "t (ms)": 739.24
         },
         {
          "V (uV)": 11.15,
          "t (ms)": 739.28
         },
         {
          "V (uV)": 6.04,
          "t (ms)": 739.32
         },
         {
          "V (uV)": 5.52,
          "t (ms)": 739.36
         },
         {
          "V (uV)": 19.06,
          "t (ms)": 739.4
         },
         {
          "V (uV)": 10.31,
          "t (ms)": 739.44
         },
         {
          "V (uV)": -1.25,
          "t (ms)": 739.48
         },
         {
          "V (uV)": 2.92,
          "t (ms)": 739.52
         },
         {
          "V (uV)": -0.83,
          "t (ms)": 739.56
         },
         {
          "V (uV)": -12.92,
          "t (ms)": 739.6
         },
         {
          "V (uV)": -6.15,
          "t (ms)": 739.64
         },
         {
          "V (uV)": -6.35,
          "t (ms)": 739.68
         },
         {
          "V (uV)": -9.79,
          "t (ms)": 739.72
         },
         {
          "V (uV)": -7.08,
          "t (ms)": 739.76
         },
         {
          "V (uV)": 6.88,
          "t (ms)": 739.8
         },
         {
          "V (uV)": -4.79,
          "t (ms)": 739.84
         },
         {
          "V (uV)": -10.21,
          "t (ms)": 739.88
         },
         {
          "V (uV)": -2.4,
          "t (ms)": 739.92
         },
         {
          "V (uV)": -4.9,
          "t (ms)": 739.96
         },
         {
          "V (uV)": -6.56,
          "t (ms)": 740
         },
         {
          "V (uV)": 18.02,
          "t (ms)": 740.04
         },
         {
          "V (uV)": 0.1,
          "t (ms)": 740.08
         },
         {
          "V (uV)": -10.42,
          "t (ms)": 740.12
         },
         {
          "V (uV)": -6.25,
          "t (ms)": 740.16
         },
         {
          "V (uV)": -11.04,
          "t (ms)": 740.2
         },
         {
          "V (uV)": -18.54,
          "t (ms)": 740.24
         },
         {
          "V (uV)": 1.88,
          "t (ms)": 740.28
         },
         {
          "V (uV)": -5.94,
          "t (ms)": 740.32
         },
         {
          "V (uV)": -9.9,
          "t (ms)": 740.36
         },
         {
          "V (uV)": 8.65,
          "t (ms)": 740.4
         },
         {
          "V (uV)": 4.27,
          "t (ms)": 740.44
         },
         {
          "V (uV)": -1.56,
          "t (ms)": 740.48
         },
         {
          "V (uV)": 10,
          "t (ms)": 740.52
         },
         {
          "V (uV)": 31.98,
          "t (ms)": 740.56
         },
         {
          "V (uV)": 10.42,
          "t (ms)": 740.6
         },
         {
          "V (uV)": 6.04,
          "t (ms)": 740.64
         },
         {
          "V (uV)": -0.94,
          "t (ms)": 740.68
         },
         {
          "V (uV)": -10,
          "t (ms)": 740.72
         },
         {
          "V (uV)": -3.44,
          "t (ms)": 740.76
         },
         {
          "V (uV)": 17.92,
          "t (ms)": 740.8
         },
         {
          "V (uV)": 0.31,
          "t (ms)": 740.84
         },
         {
          "V (uV)": -4.9,
          "t (ms)": 740.88
         },
         {
          "V (uV)": 1.88,
          "t (ms)": 740.92
         },
         {
          "V (uV)": -5.42,
          "t (ms)": 740.96
         },
         {
          "V (uV)": -6.35,
          "t (ms)": 741
         },
         {
          "V (uV)": 18.65,
          "t (ms)": 741.04
         },
         {
          "V (uV)": 1.35,
          "t (ms)": 741.08
         },
         {
          "V (uV)": -6.88,
          "t (ms)": 741.12
         },
         {
          "V (uV)": 4.48,
          "t (ms)": 741.16
         },
         {
          "V (uV)": -8.54,
          "t (ms)": 741.2
         },
         {
          "V (uV)": -12.4,
          "t (ms)": 741.24
         },
         {
          "V (uV)": 5.63,
          "t (ms)": 741.28
         },
         {
          "V (uV)": -3.33,
          "t (ms)": 741.32
         },
         {
          "V (uV)": -5.94,
          "t (ms)": 741.36
         },
         {
          "V (uV)": 7.81,
          "t (ms)": 741.4
         },
         {
          "V (uV)": 1.56,
          "t (ms)": 741.44
         },
         {
          "V (uV)": -6.25,
          "t (ms)": 741.48
         },
         {
          "V (uV)": 9.69,
          "t (ms)": 741.52
         },
         {
          "V (uV)": 16.77,
          "t (ms)": 741.56
         },
         {
          "V (uV)": 5,
          "t (ms)": 741.6
         },
         {
          "V (uV)": 9.17,
          "t (ms)": 741.64
         },
         {
          "V (uV)": 10.94,
          "t (ms)": 741.68
         },
         {
          "V (uV)": -5,
          "t (ms)": 741.72
         },
         {
          "V (uV)": 0.21,
          "t (ms)": 741.76
         },
         {
          "V (uV)": 5.73,
          "t (ms)": 741.8
         },
         {
          "V (uV)": -10.94,
          "t (ms)": 741.84
         },
         {
          "V (uV)": -8.02,
          "t (ms)": 741.88
         },
         {
          "V (uV)": 20.94,
          "t (ms)": 741.92
         },
         {
          "V (uV)": 7.5,
          "t (ms)": 741.96
         },
         {
          "V (uV)": -3.44,
          "t (ms)": 742
         },
         {
          "V (uV)": -0.52,
          "t (ms)": 742.04
         },
         {
          "V (uV)": -9.58,
          "t (ms)": 742.08
         },
         {
          "V (uV)": -13.13,
          "t (ms)": 742.12
         },
         {
          "V (uV)": 18.33,
          "t (ms)": 742.16
         },
         {
          "V (uV)": 7.4,
          "t (ms)": 742.2
         },
         {
          "V (uV)": -3.44,
          "t (ms)": 742.24
         },
         {
          "V (uV)": 0.94,
          "t (ms)": 742.28
         },
         {
          "V (uV)": -8.23,
          "t (ms)": 742.32
         },
         {
          "V (uV)": -13.44,
          "t (ms)": 742.36
         },
         {
          "V (uV)": 5.42,
          "t (ms)": 742.4
         },
         {
          "V (uV)": 4.48,
          "t (ms)": 742.44
         },
         {
          "V (uV)": -5.1,
          "t (ms)": 742.48
         },
         {
          "V (uV)": 8.44,
          "t (ms)": 742.52
         },
         {
          "V (uV)": 9.69,
          "t (ms)": 742.56
         },
         {
          "V (uV)": -2.6,
          "t (ms)": 742.6
         },
         {
          "V (uV)": 7.08,
          "t (ms)": 742.64
         },
         {
          "V (uV)": 18.85,
          "t (ms)": 742.68
         },
         {
          "V (uV)": -0.21,
          "t (ms)": 742.72
         },
         {
          "V (uV)": -6.35,
          "t (ms)": 742.76
         },
         {
          "V (uV)": -1.25,
          "t (ms)": 742.8
         },
         {
          "V (uV)": -9.69,
          "t (ms)": 742.84
         },
         {
          "V (uV)": -6.67,
          "t (ms)": 742.88
         },
         {
          "V (uV)": 16.88,
          "t (ms)": 742.92
         },
         {
          "V (uV)": 0.94,
          "t (ms)": 742.96
         },
         {
          "V (uV)": -6.56,
          "t (ms)": 743
         },
         {
          "V (uV)": 4.27,
          "t (ms)": 743.04
         },
         {
          "V (uV)": -2.4,
          "t (ms)": 743.08
         },
         {
          "V (uV)": -12.19,
          "t (ms)": 743.12
         },
         {
          "V (uV)": 6.88,
          "t (ms)": 743.16
         },
         {
          "V (uV)": -0.1,
          "t (ms)": 743.2
         },
         {
          "V (uV)": -5.52,
          "t (ms)": 743.24
         },
         {
          "V (uV)": 9.48,
          "t (ms)": 743.28
         },
         {
          "V (uV)": 6.15,
          "t (ms)": 743.32
         },
         {
          "V (uV)": 4.69,
          "t (ms)": 743.36
         },
         {
          "V (uV)": 22.6,
          "t (ms)": 743.4
         },
         {
          "V (uV)": 18.44,
          "t (ms)": 743.44
         },
         {
          "V (uV)": 4.06,
          "t (ms)": 743.48
         },
         {
          "V (uV)": 6.67,
          "t (ms)": 743.52
         },
         {
          "V (uV)": 7.4,
          "t (ms)": 743.56
         },
         {
          "V (uV)": -5.21,
          "t (ms)": 743.6
         },
         {
          "V (uV)": 1.46,
          "t (ms)": 743.64
         },
         {
          "V (uV)": -4.17,
          "t (ms)": 743.68
         },
         {
          "V (uV)": -9.79,
          "t (ms)": 743.72
         },
         {
          "V (uV)": -6.67,
          "t (ms)": 743.76
         },
         {
          "V (uV)": 4.79,
          "t (ms)": 743.8
         },
         {
          "V (uV)": -11.15,
          "t (ms)": 743.84
         },
         {
          "V (uV)": -8.23,
          "t (ms)": 743.88
         },
         {
          "V (uV)": -3.75,
          "t (ms)": 743.92
         }
        ]
       },
       "encoding": {
        "x": {
         "field": "t (ms)",
         "type": "quantitative"
        },
        "y": {
         "field": "V (uV)",
         "title": "V (µV)",
         "type": "quantitative"
        }
       },
       "mark": "line"
      },
      "image/png": "[encoded data removed]",
      "text/plain": [
       "<VegaLite 2 object>\n",
       "\n",
       "If you see this message, it means the renderer has not been properly enabled\n",
       "for the frontend that you are using. For more information, see\n",
       "https://altair-viz.github.io/user_guide/troubleshooting.html\n"
      ]
     },
     "execution_count": 13,
     "metadata": {},
     "output_type": "execute_result"
    }
   ],
   "source": [
    "alt.Chart(df\n",
    "    ).mark_line(\n",
    "    ).encode(\n",
    "        x='t (ms):Q',\n",
    "        y=alt.Y('V (uV):Q', title='V (µV)')\n",
    "    )"
   ]
  },
  {
   "cell_type": "code",
   "execution_count": 17,
   "metadata": {},
   "outputs": [
    {
     "data": {
      "application/vnd.vegalite.v2+json": {
       "$schema": "https://vega.github.io/schema/vega-lite/v2.4.3.json",
       "config": {
        "view": {
         "height": 300,
         "width": 400
        }
       },
       "data": {
        "values": [
         {
          "V (uV)": 4.79,
          "t (ms)": 703.96
         },
         {
          "V (uV)": -0.63,
          "t (ms)": 704
         },
         {
          "V (uV)": 5.83,
          "t (ms)": 704.04
         },
         {
          "V (uV)": 0.31,
          "t (ms)": 704.08
         },
         {
          "V (uV)": -4.58,
          "t (ms)": 704.12
         },
         {
          "V (uV)": 21.67,
          "t (ms)": 704.16
         },
         {
          "V (uV)": 8.13,
          "t (ms)": 704.2
         },
         {
          "V (uV)": 5.94,
          "t (ms)": 704.24
         },
         {
          "V (uV)": 14.79,
          "t (ms)": 704.28
         },
         {
          "V (uV)": 2.71,
          "t (ms)": 704.32
         },
         {
          "V (uV)": 0.94,
          "t (ms)": 704.36
         },
         {
          "V (uV)": 17.4,
          "t (ms)": 704.4
         },
         {
          "V (uV)": 11.77,
          "t (ms)": 704.44
         },
         {
          "V (uV)": -2.6,
          "t (ms)": 704.48
         },
         {
          "V (uV)": 6.04,
          "t (ms)": 704.52
         },
         {
          "V (uV)": -3.44,
          "t (ms)": 704.56
         },
         {
          "V (uV)": -6.04,
          "t (ms)": 704.6
         },
         {
          "V (uV)": 10.42,
          "t (ms)": 704.64
         },
         {
          "V (uV)": 19.06,
          "t (ms)": 704.68
         },
         {
          "V (uV)": 7.4,
          "t (ms)": 704.72
         },
         {
          "V (uV)": 9.79,
          "t (ms)": 704.76
         },
         {
          "V (uV)": 20.42,
          "t (ms)": 704.8
         },
         {
          "V (uV)": -0.1,
          "t (ms)": 704.84
         },
         {
          "V (uV)": -7.92,
          "t (ms)": 704.88
         },
         {
          "V (uV)": -7.29,
          "t (ms)": 704.92
         },
         {
          "V (uV)": -11.25,
          "t (ms)": 704.96
         },
         {
          "V (uV)": -12.19,
          "t (ms)": 705
         },
         {
          "V (uV)": 12.6,
          "t (ms)": 705.04
         },
         {
          "V (uV)": -1.98,
          "t (ms)": 705.08
         },
         {
          "V (uV)": -10.31,
          "t (ms)": 705.12
         },
         {
          "V (uV)": 0.1,
          "t (ms)": 705.16
         },
         {
          "V (uV)": -5.31,
          "t (ms)": 705.2
         },
         {
          "V (uV)": -8.02,
          "t (ms)": 705.24
         },
         {
          "V (uV)": 15.52,
          "t (ms)": 705.28
         },
         {
          "V (uV)": 4.17,
          "t (ms)": 705.32
         },
         {
          "V (uV)": -5.31,
          "t (ms)": 705.36
         },
         {
          "V (uV)": 3.65,
          "t (ms)": 705.4
         },
         {
          "V (uV)": -5.52,
          "t (ms)": 705.44
         },
         {
          "V (uV)": -11.25,
          "t (ms)": 705.48
         },
         {
          "V (uV)": 4.06,
          "t (ms)": 705.52
         },
         {
          "V (uV)": 6.25,
          "t (ms)": 705.56
         },
         {
          "V (uV)": -1.25,
          "t (ms)": 705.6
         },
         {
          "V (uV)": 7.29,
          "t (ms)": 705.64
         },
         {
          "V (uV)": 7.29,
          "t (ms)": 705.68
         },
         {
          "V (uV)": -6.56,
          "t (ms)": 705.72
         },
         {
          "V (uV)": -3.85,
          "t (ms)": 705.76
         },
         {
          "V (uV)": 12.71,
          "t (ms)": 705.8
         },
         {
          "V (uV)": -3.75,
          "t (ms)": 705.84
         },
         {
          "V (uV)": -5.73,
          "t (ms)": 705.88
         },
         {
          "V (uV)": 2.29,
          "t (ms)": 705.92
         },
         {
          "V (uV)": -2.92,
          "t (ms)": 705.96
         },
         {
          "V (uV)": -6.35,
          "t (ms)": 706
         },
         {
          "V (uV)": 21.35,
          "t (ms)": 706.04
         },
         {
          "V (uV)": 2.4,
          "t (ms)": 706.08
         },
         {
          "V (uV)": -7.29,
          "t (ms)": 706.12
         },
         {
          "V (uV)": 3.96,
          "t (ms)": 706.16
         },
         {
          "V (uV)": -3.23,
          "t (ms)": 706.2
         },
         {
          "V (uV)": -8.54,
          "t (ms)": 706.24
         },
         {
          "V (uV)": 15.1,
          "t (ms)": 706.28
         },
         {
          "V (uV)": 3.96,
          "t (ms)": 706.32
         },
         {
          "V (uV)": -2.5,
          "t (ms)": 706.36
         },
         {
          "V (uV)": 14.69,
          "t (ms)": 706.4
         },
         {
          "V (uV)": 3.13,
          "t (ms)": 706.44
         },
         {
          "V (uV)": -2.81,
          "t (ms)": 706.48
         },
         {
          "V (uV)": 8.54,
          "t (ms)": 706.52
         },
         {
          "V (uV)": 10.1,
          "t (ms)": 706.56
         },
         {
          "V (uV)": -0.63,
          "t (ms)": 706.6
         },
         {
          "V (uV)": 8.75,
          "t (ms)": 706.64
         },
         {
          "V (uV)": 15.42,
          "t (ms)": 706.68
         },
         {
          "V (uV)": 3.13,
          "t (ms)": 706.72
         },
         {
          "V (uV)": 1.46,
          "t (ms)": 706.76
         },
         {
          "V (uV)": -0.63,
          "t (ms)": 706.8
         },
         {
          "V (uV)": -6.67,
          "t (ms)": 706.84
         },
         {
          "V (uV)": -5.52,
          "t (ms)": 706.88
         },
         {
          "V (uV)": 11.35,
          "t (ms)": 706.92
         },
         {
          "V (uV)": 1.04,
          "t (ms)": 706.96
         },
         {
          "V (uV)": -1.88,
          "t (ms)": 707
         },
         {
          "V (uV)": 8.13,
          "t (ms)": 707.04
         },
         {
          "V (uV)": 1.46,
          "t (ms)": 707.08
         },
         {
          "V (uV)": -7.4,
          "t (ms)": 707.12
         },
         {
          "V (uV)": 11.25,
          "t (ms)": 707.16
         },
         {
          "V (uV)": -5.73,
          "t (ms)": 707.2
         },
         {
          "V (uV)": -9.27,
          "t (ms)": 707.24
         },
         {
          "V (uV)": 3.85,
          "t (ms)": 707.28
         },
         {
          "V (uV)": -7.19,
          "t (ms)": 707.32
         },
         {
          "V (uV)": -11.67,
          "t (ms)": 707.36
         },
         {
          "V (uV)": 13.33,
          "t (ms)": 707.4
         },
         {
          "V (uV)": 4.17,
          "t (ms)": 707.44
         },
         {
          "V (uV)": -11.98,
          "t (ms)": 707.48
         },
         {
          "V (uV)": -5.94,
          "t (ms)": 707.52
         },
         {
          "V (uV)": -6.56,
          "t (ms)": 707.56
         },
         {
          "V (uV)": -6.77,
          "t (ms)": 707.6
         },
         {
          "V (uV)": 3.23,
          "t (ms)": 707.64
         },
         {
          "V (uV)": 6.56,
          "t (ms)": 707.68
         },
         {
          "V (uV)": -6.15,
          "t (ms)": 707.72
         },
         {
          "V (uV)": -5.63,
          "t (ms)": 707.76
         },
         {
          "V (uV)": 2.19,
          "t (ms)": 707.8
         },
         {
          "V (uV)": -11.15,
          "t (ms)": 707.84
         },
         {
          "V (uV)": -8.96,
          "t (ms)": 707.88
         },
         {
          "V (uV)": 10.42,
          "t (ms)": 707.92
         },
         {
          "V (uV)": -4.17,
          "t (ms)": 707.96
         },
         {
          "V (uV)": -9.79,
          "t (ms)": 708
         },
         {
          "V (uV)": -4.79,
          "t (ms)": 708.04
         },
         {
          "V (uV)": -12.71,
          "t (ms)": 708.08
         },
         {
          "V (uV)": -19.58,
          "t (ms)": 708.12
         },
         {
          "V (uV)": 10.63,
          "t (ms)": 708.16
         },
         {
          "V (uV)": -1.67,
          "t (ms)": 708.2
         },
         {
          "V (uV)": -10,
          "t (ms)": 708.24
         },
         {
          "V (uV)": 1.98,
          "t (ms)": 708.28
         },
         {
          "V (uV)": -4.79,
          "t (ms)": 708.32
         },
         {
          "V (uV)": -5.42,
          "t (ms)": 708.36
         },
         {
          "V (uV)": 11.04,
          "t (ms)": 708.4
         },
         {
          "V (uV)": -0.21,
          "t (ms)": 708.44
         },
         {
          "V (uV)": -6.88,
          "t (ms)": 708.48
         },
         {
          "V (uV)": 4.79,
          "t (ms)": 708.52
         },
         {
          "V (uV)": -5.73,
          "t (ms)": 708.56
         },
         {
          "V (uV)": -11.56,
          "t (ms)": 708.6
         },
         {
          "V (uV)": -0.94,
          "t (ms)": 708.64
         },
         {
          "V (uV)": 6.15,
          "t (ms)": 708.68
         },
         {
          "V (uV)": -9.17,
          "t (ms)": 708.72
         },
         {
          "V (uV)": -8.65,
          "t (ms)": 708.76
         },
         {
          "V (uV)": 0.94,
          "t (ms)": 708.8
         },
         {
          "V (uV)": -16.56,
          "t (ms)": 708.84
         },
         {
          "V (uV)": -14.17,
          "t (ms)": 708.88
         },
         {
          "V (uV)": -5.83,
          "t (ms)": 708.92
         },
         {
          "V (uV)": -6.67,
          "t (ms)": 708.96
         },
         {
          "V (uV)": -5.83,
          "t (ms)": 709
         },
         {
          "V (uV)": 22.08,
          "t (ms)": 709.04
         },
         {
          "V (uV)": 5.42,
          "t (ms)": 709.08
         },
         {
          "V (uV)": -1.88,
          "t (ms)": 709.12
         },
         {
          "V (uV)": 4.69,
          "t (ms)": 709.16
         },
         {
          "V (uV)": 1.88,
          "t (ms)": 709.2
         },
         {
          "V (uV)": -6.88,
          "t (ms)": 709.24
         },
         {
          "V (uV)": 17.81,
          "t (ms)": 709.28
         },
         {
          "V (uV)": 4.17,
          "t (ms)": 709.32
         },
         {
          "V (uV)": -5,
          "t (ms)": 709.36
         },
         {
          "V (uV)": 8.65,
          "t (ms)": 709.4
         },
         {
          "V (uV)": -5.73,
          "t (ms)": 709.44
         },
         {
          "V (uV)": -12.08,
          "t (ms)": 709.48
         },
         {
          "V (uV)": 3.13,
          "t (ms)": 709.52
         },
         {
          "V (uV)": 1.15,
          "t (ms)": 709.56
         },
         {
          "V (uV)": -8.23,
          "t (ms)": 709.6
         },
         {
          "V (uV)": -0.94,
          "t (ms)": 709.64
         },
         {
          "V (uV)": 8.44,
          "t (ms)": 709.68
         },
         {
          "V (uV)": -10.63,
          "t (ms)": 709.72
         },
         {
          "V (uV)": -4.06,
          "t (ms)": 709.76
         },
         {
          "V (uV)": 10.42,
          "t (ms)": 709.8
         },
         {
          "V (uV)": -2.5,
          "t (ms)": 709.84
         },
         {
          "V (uV)": -0.1,
          "t (ms)": 709.88
         },
         {
          "V (uV)": 4.38,
          "t (ms)": 709.92
         },
         {
          "V (uV)": -8.13,
          "t (ms)": 709.96
         },
         {
          "V (uV)": -9.48,
          "t (ms)": 710
         },
         {
          "V (uV)": 18.54,
          "t (ms)": 710.04
         },
         {
          "V (uV)": 4.79,
          "t (ms)": 710.08
         },
         {
          "V (uV)": -0.63,
          "t (ms)": 710.12
         },
         {
          "V (uV)": 10.1,
          "t (ms)": 710.16
         },
         {
          "V (uV)": 2.19,
          "t (ms)": 710.2
         },
         {
          "V (uV)": -5.83,
          "t (ms)": 710.24
         },
         {
          "V (uV)": 17.5,
          "t (ms)": 710.28
         },
         {
          "V (uV)": 3.96,
          "t (ms)": 710.32
         },
         {
          "V (uV)": -12.6,
          "t (ms)": 710.36
         },
         {
          "V (uV)": -0.21,
          "t (ms)": 710.4
         },
         {
          "V (uV)": -9.9,
          "t (ms)": 710.44
         },
         {
          "V (uV)": -10.31,
          "t (ms)": 710.48
         },
         {
          "V (uV)": 4.69,
          "t (ms)": 710.52
         },
         {
          "V (uV)": 7.29,
          "t (ms)": 710.56
         },
         {
          "V (uV)": -4.27,
          "t (ms)": 710.6
         },
         {
          "V (uV)": 3.13,
          "t (ms)": 710.64
         },
         {
          "V (uV)": 10.94,
          "t (ms)": 710.68
         },
         {
          "V (uV)": -1.35,
          "t (ms)": 710.72
         },
         {
          "V (uV)": 6.04,
          "t (ms)": 710.76
         },
         {
          "V (uV)": 6.25,
          "t (ms)": 710.8
         },
         {
          "V (uV)": -4.38,
          "t (ms)": 710.84
         },
         {
          "V (uV)": -9.58,
          "t (ms)": 710.88
         },
         {
          "V (uV)": 8.75,
          "t (ms)": 710.92
         },
         {
          "V (uV)": -7.71,
          "t (ms)": 710.96
         },
         {
          "V (uV)": -15.1,
          "t (ms)": 711
         },
         {
          "V (uV)": -5.1,
          "t (ms)": 711.04
         },
         {
          "V (uV)": -6.15,
          "t (ms)": 711.08
         },
         {
          "V (uV)": -6.98,
          "t (ms)": 711.12
         },
         {
          "V (uV)": 18.96,
          "t (ms)": 711.16
         },
         {
          "V (uV)": 1.15,
          "t (ms)": 711.2
         },
         {
          "V (uV)": -4.9,
          "t (ms)": 711.24
         },
         {
          "V (uV)": 5.31,
          "t (ms)": 711.28
         },
         {
          "V (uV)": -12.92,
          "t (ms)": 711.32
         },
         {
          "V (uV)": -19.38,
          "t (ms)": 711.36
         },
         {
          "V (uV)": 3.96,
          "t (ms)": 711.4
         },
         {
          "V (uV)": 3.85,
          "t (ms)": 711.44
         },
         {
          "V (uV)": -9.38,
          "t (ms)": 711.48
         },
         {
          "V (uV)": 6.15,
          "t (ms)": 711.52
         },
         {
          "V (uV)": 0.1,
          "t (ms)": 711.56
         },
         {
          "V (uV)": -5.31,
          "t (ms)": 711.6
         },
         {
          "V (uV)": 8.65,
          "t (ms)": 711.64
         },
         {
          "V (uV)": 11.56,
          "t (ms)": 711.68
         },
         {
          "V (uV)": 1.77,
          "t (ms)": 711.72
         },
         {
          "V (uV)": 0.52,
          "t (ms)": 711.76
         },
         {
          "V (uV)": 7.4,
          "t (ms)": 711.8
         },
         {
          "V (uV)": -8.85,
          "t (ms)": 711.84
         },
         {
          "V (uV)": -2.71,
          "t (ms)": 711.88
         },
         {
          "V (uV)": 16.25,
          "t (ms)": 711.92
         },
         {
          "V (uV)": -1.88,
          "t (ms)": 711.96
         },
         {
          "V (uV)": -9.17,
          "t (ms)": 712
         },
         {
          "V (uV)": -2.29,
          "t (ms)": 712.04
         },
         {
          "V (uV)": -16.35,
          "t (ms)": 712.08
         },
         {
          "V (uV)": -37.29,
          "t (ms)": 712.12
         },
         {
          "V (uV)": -48.75,
          "t (ms)": 712.16
         },
         {
          "V (uV)": -90.52,
          "t (ms)": 712.2
         },
         {
          "V (uV)": -101.35,
          "t (ms)": 712.24
         },
         {
          "V (uV)": -75.83,
          "t (ms)": 712.28
         },
         {
          "V (uV)": -65.31,
          "t (ms)": 712.32
         },
         {
          "V (uV)": -47.81,
          "t (ms)": 712.36
         },
         {
          "V (uV)": -14.17,
          "t (ms)": 712.4
         },
         {
          "V (uV)": -11.04,
          "t (ms)": 712.44
         },
         {
          "V (uV)": -19.48,
          "t (ms)": 712.48
         },
         {
          "V (uV)": -3.75,
          "t (ms)": 712.52
         },
         {
          "V (uV)": -9.79,
          "t (ms)": 712.56
         },
         {
          "V (uV)": -4.79,
          "t (ms)": 712.6
         },
         {
          "V (uV)": 15.63,
          "t (ms)": 712.64
         },
         {
          "V (uV)": 22.81,
          "t (ms)": 712.68
         },
         {
          "V (uV)": 5.63,
          "t (ms)": 712.72
         },
         {
          "V (uV)": 2.71,
          "t (ms)": 712.76
         },
         {
          "V (uV)": 18.23,
          "t (ms)": 712.8
         },
         {
          "V (uV)": -0.52,
          "t (ms)": 712.84
         },
         {
          "V (uV)": -5.83,
          "t (ms)": 712.88
         },
         {
          "V (uV)": 5.1,
          "t (ms)": 712.92
         },
         {
          "V (uV)": 2.4,
          "t (ms)": 712.96
         },
         {
          "V (uV)": -1.25,
          "t (ms)": 713
         },
         {
          "V (uV)": 21.88,
          "t (ms)": 713.04
         },
         {
          "V (uV)": 6.77,
          "t (ms)": 713.08
         },
         {
          "V (uV)": 3.65,
          "t (ms)": 713.12
         },
         {
          "V (uV)": 14.06,
          "t (ms)": 713.16
         },
         {
          "V (uV)": 4.17,
          "t (ms)": 713.2
         },
         {
          "V (uV)": 0.52,
          "t (ms)": 713.24
         },
         {
          "V (uV)": 23.75,
          "t (ms)": 713.28
         },
         {
          "V (uV)": 13.02,
          "t (ms)": 713.32
         },
         {
          "V (uV)": 2.71,
          "t (ms)": 713.36
         },
         {
          "V (uV)": 14.48,
          "t (ms)": 713.4
         },
         {
          "V (uV)": 8.85,
          "t (ms)": 713.44
         },
         {
          "V (uV)": 2.4,
          "t (ms)": 713.48
         },
         {
          "V (uV)": 12.08,
          "t (ms)": 713.52
         },
         {
          "V (uV)": 13.44,
          "t (ms)": 713.56
         },
         {
          "V (uV)": -1.15,
          "t (ms)": 713.6
         },
         {
          "V (uV)": 4.9,
          "t (ms)": 713.64
         },
         {
          "V (uV)": 5.83,
          "t (ms)": 713.68
         },
         {
          "V (uV)": -3.65,
          "t (ms)": 713.72
         },
         {
          "V (uV)": -2.29,
          "t (ms)": 713.76
         },
         {
          "V (uV)": -2.5,
          "t (ms)": 713.8
         },
         {
          "V (uV)": -4.69,
          "t (ms)": 713.84
         },
         {
          "V (uV)": -3.44,
          "t (ms)": 713.88
         },
         {
          "V (uV)": 14.17,
          "t (ms)": 713.92
         },
         {
          "V (uV)": 1.46,
          "t (ms)": 713.96
         },
         {
          "V (uV)": -8.75,
          "t (ms)": 714
         },
         {
          "V (uV)": 12.92,
          "t (ms)": 714.04
         },
         {
          "V (uV)": -1.35,
          "t (ms)": 714.08
         },
         {
          "V (uV)": -10.21,
          "t (ms)": 714.12
         },
         {
          "V (uV)": -2.6,
          "t (ms)": 714.16
         },
         {
          "V (uV)": -14.38,
          "t (ms)": 714.2
         },
         {
          "V (uV)": -13.02,
          "t (ms)": 714.24
         },
         {
          "V (uV)": 13.65,
          "t (ms)": 714.28
         },
         {
          "V (uV)": 5.73,
          "t (ms)": 714.32
         },
         {
          "V (uV)": 0,
          "t (ms)": 714.36
         },
         {
          "V (uV)": 10.21,
          "t (ms)": 714.4
         },
         {
          "V (uV)": -3.85,
          "t (ms)": 714.44
         },
         {
          "V (uV)": -12.71,
          "t (ms)": 714.48
         },
         {
          "V (uV)": -0.73,
          "t (ms)": 714.52
         },
         {
          "V (uV)": 2.4,
          "t (ms)": 714.56
         },
         {
          "V (uV)": -4.38,
          "t (ms)": 714.6
         },
         {
          "V (uV)": 3.96,
          "t (ms)": 714.64
         },
         {
          "V (uV)": 7.4,
          "t (ms)": 714.68
         },
         {
          "V (uV)": -3.96,
          "t (ms)": 714.72
         },
         {
          "V (uV)": 2.92,
          "t (ms)": 714.76
         },
         {
          "V (uV)": 3.54,
          "t (ms)": 714.8
         },
         {
          "V (uV)": -5.73,
          "t (ms)": 714.84
         },
         {
          "V (uV)": -7.71,
          "t (ms)": 714.88
         },
         {
          "V (uV)": 13.85,
          "t (ms)": 714.92
         },
         {
          "V (uV)": 3.96,
          "t (ms)": 714.96
         },
         {
          "V (uV)": -3.02,
          "t (ms)": 715
         },
         {
          "V (uV)": 3.85,
          "t (ms)": 715.04
         },
         {
          "V (uV)": -4.79,
          "t (ms)": 715.08
         },
         {
          "V (uV)": -9.17,
          "t (ms)": 715.12
         },
         {
          "V (uV)": 16.98,
          "t (ms)": 715.16
         },
         {
          "V (uV)": -0.63,
          "t (ms)": 715.2
         },
         {
          "V (uV)": -14.38,
          "t (ms)": 715.24
         },
         {
          "V (uV)": -9.79,
          "t (ms)": 715.28
         },
         {
          "V (uV)": -14.9,
          "t (ms)": 715.32
         },
         {
          "V (uV)": -13.02,
          "t (ms)": 715.36
         },
         {
          "V (uV)": 8.75,
          "t (ms)": 715.4
         },
         {
          "V (uV)": -1.46,
          "t (ms)": 715.44
         },
         {
          "V (uV)": -11.15,
          "t (ms)": 715.48
         },
         {
          "V (uV)": 5,
          "t (ms)": 715.52
         },
         {
          "V (uV)": 2.81,
          "t (ms)": 715.56
         },
         {
          "V (uV)": -4.27,
          "t (ms)": 715.6
         },
         {
          "V (uV)": 4.48,
          "t (ms)": 715.64
         },
         {
          "V (uV)": 13.96,
          "t (ms)": 715.68
         },
         {
          "V (uV)": -5,
          "t (ms)": 715.72
         },
         {
          "V (uV)": -5.31,
          "t (ms)": 715.76
         },
         {
          "V (uV)": 5.42,
          "t (ms)": 715.8
         },
         {
          "V (uV)": -10.63,
          "t (ms)": 715.84
         },
         {
          "V (uV)": -10.42,
          "t (ms)": 715.88
         },
         {
          "V (uV)": -1.25,
          "t (ms)": 715.92
         },
         {
          "V (uV)": -12.71,
          "t (ms)": 715.96
         },
         {
          "V (uV)": -18.85,
          "t (ms)": 716
         },
         {
          "V (uV)": 10.21,
          "t (ms)": 716.04
         },
         {
          "V (uV)": -0.42,
          "t (ms)": 716.08
         },
         {
          "V (uV)": -15.63,
          "t (ms)": 716.12
         },
         {
          "V (uV)": 12.81,
          "t (ms)": 716.16
         },
         {
          "V (uV)": 0.52,
          "t (ms)": 716.2
         },
         {
          "V (uV)": -4.69,
          "t (ms)": 716.24
         },
         {
          "V (uV)": 12.71,
          "t (ms)": 716.28
         },
         {
          "V (uV)": 7.71,
          "t (ms)": 716.32
         },
         {
          "V (uV)": 4.27,
          "t (ms)": 716.36
         },
         {
          "V (uV)": 19.79,
          "t (ms)": 716.4
         },
         {
          "V (uV)": 6.46,
          "t (ms)": 716.44
         },
         {
          "V (uV)": -4.48,
          "t (ms)": 716.48
         },
         {
          "V (uV)": 10.52,
          "t (ms)": 716.52
         },
         {
          "V (uV)": -1.25,
          "t (ms)": 716.56
         },
         {
          "V (uV)": -5,
          "t (ms)": 716.6
         },
         {
          "V (uV)": 7.4,
          "t (ms)": 716.64
         },
         {
          "V (uV)": 11.67,
          "t (ms)": 716.68
         },
         {
          "V (uV)": -2.5,
          "t (ms)": 716.72
         },
         {
          "V (uV)": -3.75,
          "t (ms)": 716.76
         },
         {
          "V (uV)": 11.56,
          "t (ms)": 716.8
         },
         {
          "V (uV)": -4.38,
          "t (ms)": 716.84
         },
         {
          "V (uV)": -10.42,
          "t (ms)": 716.88
         },
         {
          "V (uV)": -5.1,
          "t (ms)": 716.92
         },
         {
          "V (uV)": -4.79,
          "t (ms)": 716.96
         },
         {
          "V (uV)": -6.88,
          "t (ms)": 717
         },
         {
          "V (uV)": 17.92,
          "t (ms)": 717.04
         },
         {
          "V (uV)": 2.92,
          "t (ms)": 717.08
         },
         {
          "V (uV)": -11.35,
          "t (ms)": 717.12
         },
         {
          "V (uV)": 0.63,
          "t (ms)": 717.16
         },
         {
          "V (uV)": -8.44,
          "t (ms)": 717.2
         },
         {
          "V (uV)": -6.35,
          "t (ms)": 717.24
         },
         {
          "V (uV)": 11.56,
          "t (ms)": 717.28
         },
         {
          "V (uV)": 4.69,
          "t (ms)": 717.32
         },
         {
          "V (uV)": -2.81,
          "t (ms)": 717.36
         },
         {
          "V (uV)": 11.15,
          "t (ms)": 717.4
         },
         {
          "V (uV)": 0.63,
          "t (ms)": 717.44
         },
         {
          "V (uV)": -7.6,
          "t (ms)": 717.48
         },
         {
          "V (uV)": 10.83,
          "t (ms)": 717.52
         },
         {
          "V (uV)": 11.88,
          "t (ms)": 717.56
         },
         {
          "V (uV)": 0.1,
          "t (ms)": 717.6
         },
         {
          "V (uV)": 5.73,
          "t (ms)": 717.64
         },
         {
          "V (uV)": 13.44,
          "t (ms)": 717.68
         },
         {
          "V (uV)": -1.25,
          "t (ms)": 717.72
         },
         {
          "V (uV)": -1.25,
          "t (ms)": 717.76
         },
         {
          "V (uV)": 4.27,
          "t (ms)": 717.8
         },
         {
          "V (uV)": -5.21,
          "t (ms)": 717.84
         },
         {
          "V (uV)": -2.92,
          "t (ms)": 717.88
         },
         {
          "V (uV)": 16.04,
          "t (ms)": 717.92
         },
         {
          "V (uV)": 4.48,
          "t (ms)": 717.96
         },
         {
          "V (uV)": -5.31,
          "t (ms)": 718
         },
         {
          "V (uV)": 17.92,
          "t (ms)": 718.04
         },
         {
          "V (uV)": -0.42,
          "t (ms)": 718.08
         },
         {
          "V (uV)": -7.4,
          "t (ms)": 718.12
         },
         {
          "V (uV)": 2.6,
          "t (ms)": 718.16
         },
         {
          "V (uV)": -8.85,
          "t (ms)": 718.2
         },
         {
          "V (uV)": -5.63,
          "t (ms)": 718.24
         },
         {
          "V (uV)": 13.33,
          "t (ms)": 718.28
         },
         {
          "V (uV)": 2.6,
          "t (ms)": 718.32
         },
         {
          "V (uV)": -9.17,
          "t (ms)": 718.36
         },
         {
          "V (uV)": 8.85,
          "t (ms)": 718.4
         },
         {
          "V (uV)": 0.63,
          "t (ms)": 718.44
         },
         {
          "V (uV)": -3.44,
          "t (ms)": 718.48
         },
         {
          "V (uV)": 10.94,
          "t (ms)": 718.52
         },
         {
          "V (uV)": 13.33,
          "t (ms)": 718.56
         },
         {
          "V (uV)": 4.06,
          "t (ms)": 718.6
         },
         {
          "V (uV)": 8.96,
          "t (ms)": 718.64
         },
         {
          "V (uV)": 14.17,
          "t (ms)": 718.68
         },
         {
          "V (uV)": 1.88,
          "t (ms)": 718.72
         },
         {
          "V (uV)": 4.17,
          "t (ms)": 718.76
         },
         {
          "V (uV)": 7.08,
          "t (ms)": 718.8
         },
         {
          "V (uV)": -0.83,
          "t (ms)": 718.84
         },
         {
          "V (uV)": -3.23,
          "t (ms)": 718.88
         },
         {
          "V (uV)": 20,
          "t (ms)": 718.92
         },
         {
          "V (uV)": 5.42,
          "t (ms)": 718.96
         },
         {
          "V (uV)": -0.94,
          "t (ms)": 719
         },
         {
          "V (uV)": 6.88,
          "t (ms)": 719.04
         },
         {
          "V (uV)": 2.29,
          "t (ms)": 719.08
         },
         {
          "V (uV)": -3.85,
          "t (ms)": 719.12
         },
         {
          "V (uV)": 20.94,
          "t (ms)": 719.16
         },
         {
          "V (uV)": 5.52,
          "t (ms)": 719.2
         },
         {
          "V (uV)": 3.54,
          "t (ms)": 719.24
         },
         {
          "V (uV)": 13.13,
          "t (ms)": 719.28
         },
         {
          "V (uV)": 1.88,
          "t (ms)": 719.32
         },
         {
          "V (uV)": -5,
          "t (ms)": 719.36
         },
         {
          "V (uV)": 7.29,
          "t (ms)": 719.4
         },
         {
          "V (uV)": 2.6,
          "t (ms)": 719.44
         },
         {
          "V (uV)": -7.71,
          "t (ms)": 719.48
         },
         {
          "V (uV)": 0.83,
          "t (ms)": 719.52
         },
         {
          "V (uV)": -2.29,
          "t (ms)": 719.56
         },
         {
          "V (uV)": -1.56,
          "t (ms)": 719.6
         },
         {
          "V (uV)": 7.92,
          "t (ms)": 719.64
         },
         {
          "V (uV)": 15.1,
          "t (ms)": 719.68
         },
         {
          "V (uV)": 1.77,
          "t (ms)": 719.72
         },
         {
          "V (uV)": 2.81,
          "t (ms)": 719.76
         },
         {
          "V (uV)": 12.6,
          "t (ms)": 719.8
         },
         {
          "V (uV)": 1.88,
          "t (ms)": 719.84
         },
         {
          "V (uV)": 1.77,
          "t (ms)": 719.88
         },
         {
          "V (uV)": 6.25,
          "t (ms)": 719.92
         },
         {
          "V (uV)": -2.6,
          "t (ms)": 719.96
         },
         {
          "V (uV)": -9.48,
          "t (ms)": 720
         },
         {
          "V (uV)": 9.27,
          "t (ms)": 720.04
         },
         {
          "V (uV)": -6.15,
          "t (ms)": 720.08
         },
         {
          "V (uV)": -16.25,
          "t (ms)": 720.12
         },
         {
          "V (uV)": 7.71,
          "t (ms)": 720.16
         },
         {
          "V (uV)": -1.88,
          "t (ms)": 720.2
         },
         {
          "V (uV)": -8.13,
          "t (ms)": 720.24
         },
         {
          "V (uV)": -1.35,
          "t (ms)": 720.28
         },
         {
          "V (uV)": -7.5,
          "t (ms)": 720.32
         },
         {
          "V (uV)": -9.48,
          "t (ms)": 720.36
         },
         {
          "V (uV)": 7.19,
          "t (ms)": 720.4
         },
         {
          "V (uV)": 5.94,
          "t (ms)": 720.44
         },
         {
          "V (uV)": -1.88,
          "t (ms)": 720.48
         },
         {
          "V (uV)": 9.69,
          "t (ms)": 720.52
         },
         {
          "V (uV)": 9.38,
          "t (ms)": 720.56
         },
         {
          "V (uV)": -3.65,
          "t (ms)": 720.6
         },
         {
          "V (uV)": 6.04,
          "t (ms)": 720.64
         },
         {
          "V (uV)": 5.1,
          "t (ms)": 720.68
         },
         {
          "V (uV)": 0.52,
          "t (ms)": 720.72
         },
         {
          "V (uV)": 0.83,
          "t (ms)": 720.76
         },
         {
          "V (uV)": 13.33,
          "t (ms)": 720.8
         },
         {
          "V (uV)": 5.1,
          "t (ms)": 720.84
         },
         {
          "V (uV)": 5.52,
          "t (ms)": 720.88
         },
         {
          "V (uV)": 7.5,
          "t (ms)": 720.92
         },
         {
          "V (uV)": -0.83,
          "t (ms)": 720.96
         },
         {
          "V (uV)": -3.13,
          "t (ms)": 721
         },
         {
          "V (uV)": 23.23,
          "t (ms)": 721.04
         },
         {
          "V (uV)": 5.52,
          "t (ms)": 721.08
         },
         {
          "V (uV)": -8.75,
          "t (ms)": 721.12
         },
         {
          "V (uV)": 0,
          "t (ms)": 721.16
         },
         {
          "V (uV)": -3.54,
          "t (ms)": 721.2
         },
         {
          "V (uV)": -1.46,
          "t (ms)": 721.24
         },
         {
          "V (uV)": 16.35,
          "t (ms)": 721.28
         },
         {
          "V (uV)": 2.4,
          "t (ms)": 721.32
         },
         {
          "V (uV)": -8.85,
          "t (ms)": 721.36
         },
         {
          "V (uV)": -0.42,
          "t (ms)": 721.4
         },
         {
          "V (uV)": -9.38,
          "t (ms)": 721.44
         },
         {
          "V (uV)": -15.83,
          "t (ms)": 721.48
         },
         {
          "V (uV)": 0.1,
          "t (ms)": 721.52
         },
         {
          "V (uV)": 2.19,
          "t (ms)": 721.56
         },
         {
          "V (uV)": -4.58,
          "t (ms)": 721.6
         },
         {
          "V (uV)": 8.02,
          "t (ms)": 721.64
         },
         {
          "V (uV)": 12.71,
          "t (ms)": 721.68
         },
         {
          "V (uV)": 0,
          "t (ms)": 721.72
         },
         {
          "V (uV)": 0.52,
          "t (ms)": 721.76
         },
         {
          "V (uV)": 5.31,
          "t (ms)": 721.8
         },
         {
          "V (uV)": 1.98,
          "t (ms)": 721.84
         },
         {
          "V (uV)": 0.63,
          "t (ms)": 721.88
         },
         {
          "V (uV)": 16.25,
          "t (ms)": 721.92
         },
         {
          "V (uV)": 5,
          "t (ms)": 721.96
         },
         {
          "V (uV)": 1.15,
          "t (ms)": 722
         },
         {
          "V (uV)": 11.56,
          "t (ms)": 722.04
         },
         {
          "V (uV)": 4.48,
          "t (ms)": 722.08
         },
         {
          "V (uV)": 0.94,
          "t (ms)": 722.12
         },
         {
          "V (uV)": 20.52,
          "t (ms)": 722.16
         },
         {
          "V (uV)": 2.92,
          "t (ms)": 722.2
         },
         {
          "V (uV)": -7.29,
          "t (ms)": 722.24
         },
         {
          "V (uV)": 8.23,
          "t (ms)": 722.28
         },
         {
          "V (uV)": 0.94,
          "t (ms)": 722.32
         },
         {
          "V (uV)": -11.25,
          "t (ms)": 722.36
         },
         {
          "V (uV)": 5.1,
          "t (ms)": 722.4
         },
         {
          "V (uV)": -5.94,
          "t (ms)": 722.44
         },
         {
          "V (uV)": -10.83,
          "t (ms)": 722.48
         },
         {
          "V (uV)": 6.56,
          "t (ms)": 722.52
         },
         {
          "V (uV)": 12.92,
          "t (ms)": 722.56
         },
         {
          "V (uV)": -2.19,
          "t (ms)": 722.6
         },
         {
          "V (uV)": 6.77,
          "t (ms)": 722.64
         },
         {
          "V (uV)": 12.5,
          "t (ms)": 722.68
         },
         {
          "V (uV)": -0.94,
          "t (ms)": 722.72
         },
         {
          "V (uV)": -2.19,
          "t (ms)": 722.76
         },
         {
          "V (uV)": -9.06,
          "t (ms)": 722.8
         },
         {
          "V (uV)": -14.79,
          "t (ms)": 722.84
         },
         {
          "V (uV)": -16.56,
          "t (ms)": 722.88
         },
         {
          "V (uV)": 5.1,
          "t (ms)": 722.92
         },
         {
          "V (uV)": -5.31,
          "t (ms)": 722.96
         },
         {
          "V (uV)": -9.27,
          "t (ms)": 723
         },
         {
          "V (uV)": 4.06,
          "t (ms)": 723.04
         },
         {
          "V (uV)": -2.6,
          "t (ms)": 723.08
         },
         {
          "V (uV)": -8.75,
          "t (ms)": 723.12
         },
         {
          "V (uV)": 16.67,
          "t (ms)": 723.16
         },
         {
          "V (uV)": 4.38,
          "t (ms)": 723.2
         },
         {
          "V (uV)": -6.04,
          "t (ms)": 723.24
         },
         {
          "V (uV)": 4.48,
          "t (ms)": 723.28
         },
         {
          "V (uV)": -4.9,
          "t (ms)": 723.32
         },
         {
          "V (uV)": -5.83,
          "t (ms)": 723.36
         },
         {
          "V (uV)": 15.52,
          "t (ms)": 723.4
         },
         {
          "V (uV)": 11.15,
          "t (ms)": 723.44
         },
         {
          "V (uV)": -7.92,
          "t (ms)": 723.48
         },
         {
          "V (uV)": 1.04,
          "t (ms)": 723.52
         },
         {
          "V (uV)": 4.27,
          "t (ms)": 723.56
         },
         {
          "V (uV)": -7.19,
          "t (ms)": 723.6
         },
         {
          "V (uV)": 5.83,
          "t (ms)": 723.64
         },
         {
          "V (uV)": 7.5,
          "t (ms)": 723.68
         },
         {
          "V (uV)": -1.46,
          "t (ms)": 723.72
         },
         {
          "V (uV)": 1.15,
          "t (ms)": 723.76
         },
         {
          "V (uV)": 14.58,
          "t (ms)": 723.8
         },
         {
          "V (uV)": -2.5,
          "t (ms)": 723.84
         },
         {
          "V (uV)": -3.85,
          "t (ms)": 723.88
         },
         {
          "V (uV)": -1.04,
          "t (ms)": 723.92
         },
         {
          "V (uV)": -11.77,
          "t (ms)": 723.96
         },
         {
          "V (uV)": -16.77,
          "t (ms)": 724
         },
         {
          "V (uV)": 5,
          "t (ms)": 724.04
         },
         {
          "V (uV)": -9.06,
          "t (ms)": 724.08
         },
         {
          "V (uV)": -11.15,
          "t (ms)": 724.12
         },
         {
          "V (uV)": 13.75,
          "t (ms)": 724.16
         },
         {
          "V (uV)": -1.98,
          "t (ms)": 724.2
         },
         {
          "V (uV)": -10.21,
          "t (ms)": 724.24
         },
         {
          "V (uV)": 1.46,
          "t (ms)": 724.28
         },
         {
          "V (uV)": -3.13,
          "t (ms)": 724.32
         },
         {
          "V (uV)": -7.29,
          "t (ms)": 724.36
         },
         {
          "V (uV)": 13.75,
          "t (ms)": 724.4
         },
         {
          "V (uV)": 12.71,
          "t (ms)": 724.44
         },
         {
          "V (uV)": -3.75,
          "t (ms)": 724.48
         },
         {
          "V (uV)": 6.56,
          "t (ms)": 724.52
         },
         {
          "V (uV)": 9.27,
          "t (ms)": 724.56
         },
         {
          "V (uV)": 2.71,
          "t (ms)": 724.6
         },
         {
          "V (uV)": 5.52,
          "t (ms)": 724.64
         },
         {
          "V (uV)": -0.94,
          "t (ms)": 724.68
         },
         {
          "V (uV)": 0,
          "t (ms)": 724.72
         },
         {
          "V (uV)": 9.17,
          "t (ms)": 724.76
         },
         {
          "V (uV)": 13.54,
          "t (ms)": 724.8
         },
         {
          "V (uV)": -5.83,
          "t (ms)": 724.84
         },
         {
          "V (uV)": -8.23,
          "t (ms)": 724.88
         },
         {
          "V (uV)": 3.44,
          "t (ms)": 724.92
         },
         {
          "V (uV)": -2.6,
          "t (ms)": 724.96
         },
         {
          "V (uV)": -0.1,
          "t (ms)": 725
         },
         {
          "V (uV)": 22.19,
          "t (ms)": 725.04
         },
         {
          "V (uV)": 0.63,
          "t (ms)": 725.08
         },
         {
          "V (uV)": -10.83,
          "t (ms)": 725.12
         },
         {
          "V (uV)": 1.67,
          "t (ms)": 725.16
         },
         {
          "V (uV)": -3.65,
          "t (ms)": 725.2
         },
         {
          "V (uV)": -11.35,
          "t (ms)": 725.24
         },
         {
          "V (uV)": 8.33,
          "t (ms)": 725.28
         },
         {
          "V (uV)": -0.31,
          "t (ms)": 725.32
         },
         {
          "V (uV)": -10.63,
          "t (ms)": 725.36
         },
         {
          "V (uV)": -1.56,
          "t (ms)": 725.4
         },
         {
          "V (uV)": -1.46,
          "t (ms)": 725.44
         },
         {
          "V (uV)": -3.23,
          "t (ms)": 725.48
         },
         {
          "V (uV)": 9.27,
          "t (ms)": 725.52
         },
         {
          "V (uV)": 13.85,
          "t (ms)": 725.56
         },
         {
          "V (uV)": 1.35,
          "t (ms)": 725.6
         },
         {
          "V (uV)": 4.48,
          "t (ms)": 725.64
         },
         {
          "V (uV)": 13.85,
          "t (ms)": 725.68
         },
         {
          "V (uV)": -1.25,
          "t (ms)": 725.72
         },
         {
          "V (uV)": -3.33,
          "t (ms)": 725.76
         },
         {
          "V (uV)": -0.21,
          "t (ms)": 725.8
         },
         {
          "V (uV)": -3.33,
          "t (ms)": 725.84
         },
         {
          "V (uV)": -0.83,
          "t (ms)": 725.88
         },
         {
          "V (uV)": 20.63,
          "t (ms)": 725.92
         },
         {
          "V (uV)": 2.19,
          "t (ms)": 725.96
         },
         {
          "V (uV)": -6.77,
          "t (ms)": 726
         },
         {
          "V (uV)": -1.46,
          "t (ms)": 726.04
         },
         {
          "V (uV)": -10.1,
          "t (ms)": 726.08
         },
         {
          "V (uV)": -10.21,
          "t (ms)": 726.12
         },
         {
          "V (uV)": 15.73,
          "t (ms)": 726.16
         },
         {
          "V (uV)": 0.73,
          "t (ms)": 726.2
         },
         {
          "V (uV)": -7.5,
          "t (ms)": 726.24
         },
         {
          "V (uV)": 10.94,
          "t (ms)": 726.28
         },
         {
          "V (uV)": 0.21,
          "t (ms)": 726.32
         },
         {
          "V (uV)": -1.67,
          "t (ms)": 726.36
         },
         {
          "V (uV)": 8.02,
          "t (ms)": 726.4
         },
         {
          "V (uV)": -1.98,
          "t (ms)": 726.44
         },
         {
          "V (uV)": -5.31,
          "t (ms)": 726.48
         },
         {
          "V (uV)": 8.33,
          "t (ms)": 726.52
         },
         {
          "V (uV)": 12.4,
          "t (ms)": 726.56
         },
         {
          "V (uV)": 0.94,
          "t (ms)": 726.6
         },
         {
          "V (uV)": 6.67,
          "t (ms)": 726.64
         },
         {
          "V (uV)": 11.04,
          "t (ms)": 726.68
         },
         {
          "V (uV)": -5.63,
          "t (ms)": 726.72
         },
         {
          "V (uV)": 5.1,
          "t (ms)": 726.76
         },
         {
          "V (uV)": 11.15,
          "t (ms)": 726.8
         },
         {
          "V (uV)": 2.81,
          "t (ms)": 726.84
         },
         {
          "V (uV)": 2.29,
          "t (ms)": 726.88
         },
         {
          "V (uV)": 20.63,
          "t (ms)": 726.92
         },
         {
          "V (uV)": 1.35,
          "t (ms)": 726.96
         },
         {
          "V (uV)": -4.58,
          "t (ms)": 727
         },
         {
          "V (uV)": 2.71,
          "t (ms)": 727.04
         },
         {
          "V (uV)": -5.42,
          "t (ms)": 727.08
         },
         {
          "V (uV)": -10.94,
          "t (ms)": 727.12
         },
         {
          "V (uV)": 17.5,
          "t (ms)": 727.16
         },
         {
          "V (uV)": 9.9,
          "t (ms)": 727.2
         },
         {
          "V (uV)": 1.46,
          "t (ms)": 727.24
         },
         {
          "V (uV)": 2.6,
          "t (ms)": 727.28
         },
         {
          "V (uV)": -13.02,
          "t (ms)": 727.32
         },
         {
          "V (uV)": -18.02,
          "t (ms)": 727.36
         },
         {
          "V (uV)": 7.6,
          "t (ms)": 727.4
         },
         {
          "V (uV)": 7.81,
          "t (ms)": 727.44
         },
         {
          "V (uV)": 1.56,
          "t (ms)": 727.48
         },
         {
          "V (uV)": 8.75,
          "t (ms)": 727.52
         },
         {
          "V (uV)": 6.04,
          "t (ms)": 727.56
         },
         {
          "V (uV)": -4.69,
          "t (ms)": 727.6
         },
         {
          "V (uV)": -1.15,
          "t (ms)": 727.64
         },
         {
          "V (uV)": -5.21,
          "t (ms)": 727.68
         },
         {
          "V (uV)": -8.23,
          "t (ms)": 727.72
         },
         {
          "V (uV)": 0.94,
          "t (ms)": 727.76
         },
         {
          "V (uV)": 16.98,
          "t (ms)": 727.8
         },
         {
          "V (uV)": 3.23,
          "t (ms)": 727.84
         },
         {
          "V (uV)": 1.46,
          "t (ms)": 727.88
         },
         {
          "V (uV)": 7.71,
          "t (ms)": 727.92
         },
         {
          "V (uV)": -1.67,
          "t (ms)": 727.96
         },
         {
          "V (uV)": -9.06,
          "t (ms)": 728
         },
         {
          "V (uV)": 13.75,
          "t (ms)": 728.04
         },
         {
          "V (uV)": -0.63,
          "t (ms)": 728.08
         },
         {
          "V (uV)": -1.98,
          "t (ms)": 728.12
         },
         {
          "V (uV)": 10,
          "t (ms)": 728.16
         },
         {
          "V (uV)": -1.46,
          "t (ms)": 728.2
         },
         {
          "V (uV)": -6.15,
          "t (ms)": 728.24
         },
         {
          "V (uV)": 15.73,
          "t (ms)": 728.28
         },
         {
          "V (uV)": 8.33,
          "t (ms)": 728.32
         },
         {
          "V (uV)": 0.83,
          "t (ms)": 728.36
         },
         {
          "V (uV)": 17.4,
          "t (ms)": 728.4
         },
         {
          "V (uV)": 5,
          "t (ms)": 728.44
         },
         {
          "V (uV)": -7.19,
          "t (ms)": 728.48
         },
         {
          "V (uV)": 11.25,
          "t (ms)": 728.52
         },
         {
          "V (uV)": 16.25,
          "t (ms)": 728.56
         },
         {
          "V (uV)": -2.08,
          "t (ms)": 728.6
         },
         {
          "V (uV)": 4.17,
          "t (ms)": 728.64
         },
         {
          "V (uV)": -2.81,
          "t (ms)": 728.68
         },
         {
          "V (uV)": -4.27,
          "t (ms)": 728.72
         },
         {
          "V (uV)": 6.35,
          "t (ms)": 728.76
         },
         {
          "V (uV)": 15.73,
          "t (ms)": 728.8
         },
         {
          "V (uV)": 3.23,
          "t (ms)": 728.84
         },
         {
          "V (uV)": -1.67,
          "t (ms)": 728.88
         },
         {
          "V (uV)": -0.42,
          "t (ms)": 728.92
         },
         {
          "V (uV)": -9.69,
          "t (ms)": 728.96
         },
         {
          "V (uV)": -16.35,
          "t (ms)": 729
         },
         {
          "V (uV)": 9.27,
          "t (ms)": 729.04
         },
         {
          "V (uV)": -3.13,
          "t (ms)": 729.08
         },
         {
          "V (uV)": -10.21,
          "t (ms)": 729.12
         },
         {
          "V (uV)": 1.77,
          "t (ms)": 729.16
         },
         {
          "V (uV)": -11.98,
          "t (ms)": 729.2
         },
         {
          "V (uV)": -14.9,
          "t (ms)": 729.24
         },
         {
          "V (uV)": 7.92,
          "t (ms)": 729.28
         },
         {
          "V (uV)": 2.19,
          "t (ms)": 729.32
         },
         {
          "V (uV)": -1.35,
          "t (ms)": 729.36
         },
         {
          "V (uV)": 12.4,
          "t (ms)": 729.4
         },
         {
          "V (uV)": 1.67,
          "t (ms)": 729.44
         },
         {
          "V (uV)": -10.63,
          "t (ms)": 729.48
         },
         {
          "V (uV)": 1.25,
          "t (ms)": 729.52
         },
         {
          "V (uV)": 8.65,
          "t (ms)": 729.56
         },
         {
          "V (uV)": 1.98,
          "t (ms)": 729.6
         },
         {
          "V (uV)": 11.56,
          "t (ms)": 729.64
         },
         {
          "V (uV)": 15,
          "t (ms)": 729.68
         },
         {
          "V (uV)": 3.54,
          "t (ms)": 729.72
         },
         {
          "V (uV)": 4.9,
          "t (ms)": 729.76
         },
         {
          "V (uV)": 4.38,
          "t (ms)": 729.8
         },
         {
          "V (uV)": 2.29,
          "t (ms)": 729.84
         },
         {
          "V (uV)": -0.83,
          "t (ms)": 729.88
         },
         {
          "V (uV)": 22.4,
          "t (ms)": 729.92
         },
         {
          "V (uV)": 6.77,
          "t (ms)": 729.96
         },
         {
          "V (uV)": -7.08,
          "t (ms)": 730
         },
         {
          "V (uV)": -6.56,
          "t (ms)": 730.04
         },
         {
          "V (uV)": -13.96,
          "t (ms)": 730.08
         },
         {
          "V (uV)": -11.98,
          "t (ms)": 730.12
         },
         {
          "V (uV)": 16.35,
          "t (ms)": 730.16
         },
         {
          "V (uV)": 0.42,
          "t (ms)": 730.2
         },
         {
          "V (uV)": -10.31,
          "t (ms)": 730.24
         },
         {
          "V (uV)": 9.48,
          "t (ms)": 730.28
         },
         {
          "V (uV)": -1.15,
          "t (ms)": 730.32
         },
         {
          "V (uV)": -10.1,
          "t (ms)": 730.36
         },
         {
          "V (uV)": 0.83,
          "t (ms)": 730.4
         },
         {
          "V (uV)": -6.25,
          "t (ms)": 730.44
         },
         {
          "V (uV)": -13.23,
          "t (ms)": 730.48
         },
         {
          "V (uV)": 4.48,
          "t (ms)": 730.52
         },
         {
          "V (uV)": 11.25,
          "t (ms)": 730.56
         },
         {
          "V (uV)": 1.04,
          "t (ms)": 730.6
         },
         {
          "V (uV)": 3.33,
          "t (ms)": 730.64
         },
         {
          "V (uV)": 10,
          "t (ms)": 730.68
         },
         {
          "V (uV)": -6.04,
          "t (ms)": 730.72
         },
         {
          "V (uV)": -3.75,
          "t (ms)": 730.76
         },
         {
          "V (uV)": 3.85,
          "t (ms)": 730.8
         },
         {
          "V (uV)": -1.56,
          "t (ms)": 730.84
         },
         {
          "V (uV)": -3.33,
          "t (ms)": 730.88
         },
         {
          "V (uV)": 17.19,
          "t (ms)": 730.92
         },
         {
          "V (uV)": 4.06,
          "t (ms)": 730.96
         },
         {
          "V (uV)": -7.19,
          "t (ms)": 731
         },
         {
          "V (uV)": -1.98,
          "t (ms)": 731.04
         },
         {
          "V (uV)": -9.48,
          "t (ms)": 731.08
         },
         {
          "V (uV)": -10.42,
          "t (ms)": 731.12
         },
         {
          "V (uV)": 13.75,
          "t (ms)": 731.16
         },
         {
          "V (uV)": 6.35,
          "t (ms)": 731.2
         },
         {
          "V (uV)": -4.9,
          "t (ms)": 731.24
         },
         {
          "V (uV)": 5.94,
          "t (ms)": 731.28
         },
         {
          "V (uV)": -6.56,
          "t (ms)": 731.32
         },
         {
          "V (uV)": -7.6,
          "t (ms)": 731.36
         },
         {
          "V (uV)": 12.4,
          "t (ms)": 731.4
         },
         {
          "V (uV)": 6.67,
          "t (ms)": 731.44
         },
         {
          "V (uV)": -5.52,
          "t (ms)": 731.48
         },
         {
          "V (uV)": 1.98,
          "t (ms)": 731.52
         },
         {
          "V (uV)": 3.02,
          "t (ms)": 731.56
         },
         {
          "V (uV)": -16.77,
          "t (ms)": 731.6
         },
         {
          "V (uV)": -10.31,
          "t (ms)": 731.64
         },
         {
          "V (uV)": -10.1,
          "t (ms)": 731.68
         },
         {
          "V (uV)": -15.52,
          "t (ms)": 731.72
         },
         {
          "V (uV)": -5.94,
          "t (ms)": 731.76
         },
         {
          "V (uV)": 11.88,
          "t (ms)": 731.8
         },
         {
          "V (uV)": -3.13,
          "t (ms)": 731.84
         },
         {
          "V (uV)": -6.46,
          "t (ms)": 731.88
         },
         {
          "V (uV)": 3.02,
          "t (ms)": 731.92
         },
         {
          "V (uV)": -3.13,
          "t (ms)": 731.96
         },
         {
          "V (uV)": -5.83,
          "t (ms)": 732
         },
         {
          "V (uV)": 21.56,
          "t (ms)": 732.04
         },
         {
          "V (uV)": 3.13,
          "t (ms)": 732.08
         },
         {
          "V (uV)": -5.21,
          "t (ms)": 732.12
         },
         {
          "V (uV)": 7.4,
          "t (ms)": 732.16
         },
         {
          "V (uV)": 0.52,
          "t (ms)": 732.2
         },
         {
          "V (uV)": -2.6,
          "t (ms)": 732.24
         },
         {
          "V (uV)": 18.54,
          "t (ms)": 732.28
         },
         {
          "V (uV)": 12.29,
          "t (ms)": 732.32
         },
         {
          "V (uV)": 1.35,
          "t (ms)": 732.36
         },
         {
          "V (uV)": 22.81,
          "t (ms)": 732.4
         },
         {
          "V (uV)": 15,
          "t (ms)": 732.44
         },
         {
          "V (uV)": 1.77,
          "t (ms)": 732.48
         },
         {
          "V (uV)": 9.58,
          "t (ms)": 732.52
         },
         {
          "V (uV)": 7.19,
          "t (ms)": 732.56
         },
         {
          "V (uV)": -6.35,
          "t (ms)": 732.6
         },
         {
          "V (uV)": -1.15,
          "t (ms)": 732.64
         },
         {
          "V (uV)": -1.04,
          "t (ms)": 732.68
         },
         {
          "V (uV)": -6.77,
          "t (ms)": 732.72
         },
         {
          "V (uV)": -4.48,
          "t (ms)": 732.76
         },
         {
          "V (uV)": 8.02,
          "t (ms)": 732.8
         },
         {
          "V (uV)": -11.67,
          "t (ms)": 732.84
         },
         {
          "V (uV)": -12.81,
          "t (ms)": 732.88
         },
         {
          "V (uV)": 1.25,
          "t (ms)": 732.92
         },
         {
          "V (uV)": -3.44,
          "t (ms)": 732.96
         },
         {
          "V (uV)": -5.73,
          "t (ms)": 733
         },
         {
          "V (uV)": 19.69,
          "t (ms)": 733.04
         },
         {
          "V (uV)": -1.46,
          "t (ms)": 733.08
         },
         {
          "V (uV)": -13.13,
          "t (ms)": 733.12
         },
         {
          "V (uV)": -4.79,
          "t (ms)": 733.16
         },
         {
          "V (uV)": -10.63,
          "t (ms)": 733.2
         },
         {
          "V (uV)": -15.94,
          "t (ms)": 733.24
         },
         {
          "V (uV)": 9.9,
          "t (ms)": 733.28
         },
         {
          "V (uV)": -0.31,
          "t (ms)": 733.32
         },
         {
          "V (uV)": -9.38,
          "t (ms)": 733.36
         },
         {
          "V (uV)": -2.71,
          "t (ms)": 733.4
         },
         {
          "V (uV)": -15,
          "t (ms)": 733.44
         },
         {
          "V (uV)": -15.63,
          "t (ms)": 733.48
         },
         {
          "V (uV)": 2.6,
          "t (ms)": 733.52
         },
         {
          "V (uV)": 2.19,
          "t (ms)": 733.56
         },
         {
          "V (uV)": -6.25,
          "t (ms)": 733.6
         },
         {
          "V (uV)": 0.1,
          "t (ms)": 733.64
         },
         {
          "V (uV)": 11.35,
          "t (ms)": 733.68
         },
         {
          "V (uV)": -1.35,
          "t (ms)": 733.72
         },
         {
          "V (uV)": -0.52,
          "t (ms)": 733.76
         },
         {
          "V (uV)": -0.83,
          "t (ms)": 733.8
         },
         {
          "V (uV)": -9.9,
          "t (ms)": 733.84
         },
         {
          "V (uV)": -10.31,
          "t (ms)": 733.88
         },
         {
          "V (uV)": 10.52,
          "t (ms)": 733.92
         },
         {
          "V (uV)": -6.35,
          "t (ms)": 733.96
         },
         {
          "V (uV)": -13.23,
          "t (ms)": 734
         },
         {
          "V (uV)": -4.69,
          "t (ms)": 734.04
         },
         {
          "V (uV)": -9.17,
          "t (ms)": 734.08
         },
         {
          "V (uV)": -11.25,
          "t (ms)": 734.12
         },
         {
          "V (uV)": 9.38,
          "t (ms)": 734.16
         },
         {
          "V (uV)": 0.73,
          "t (ms)": 734.2
         },
         {
          "V (uV)": -7.5,
          "t (ms)": 734.24
         },
         {
          "V (uV)": -2.08,
          "t (ms)": 734.28
         },
         {
          "V (uV)": -13.44,
          "t (ms)": 734.32
         },
         {
          "V (uV)": -18.23,
          "t (ms)": 734.36
         },
         {
          "V (uV)": 3.33,
          "t (ms)": 734.4
         },
         {
          "V (uV)": 4.79,
          "t (ms)": 734.44
         },
         {
          "V (uV)": -4.9,
          "t (ms)": 734.48
         },
         {
          "V (uV)": 11.98,
          "t (ms)": 734.52
         },
         {
          "V (uV)": 10.94,
          "t (ms)": 734.56
         },
         {
          "V (uV)": -1.77,
          "t (ms)": 734.6
         },
         {
          "V (uV)": -0.31,
          "t (ms)": 734.64
         },
         {
          "V (uV)": 6.98,
          "t (ms)": 734.68
         },
         {
          "V (uV)": -8.65,
          "t (ms)": 734.72
         },
         {
          "V (uV)": -10.21,
          "t (ms)": 734.76
         },
         {
          "V (uV)": -3.75,
          "t (ms)": 734.8
         },
         {
          "V (uV)": -3.96,
          "t (ms)": 734.84
         },
         {
          "V (uV)": -5,
          "t (ms)": 734.88
         },
         {
          "V (uV)": 14.69,
          "t (ms)": 734.92
         },
         {
          "V (uV)": 1.46,
          "t (ms)": 734.96
         },
         {
          "V (uV)": -3.13,
          "t (ms)": 735
         },
         {
          "V (uV)": 9.69,
          "t (ms)": 735.04
         },
         {
          "V (uV)": 1.77,
          "t (ms)": 735.08
         },
         {
          "V (uV)": -5.42,
          "t (ms)": 735.12
         },
         {
          "V (uV)": 11.67,
          "t (ms)": 735.16
         },
         {
          "V (uV)": -1.67,
          "t (ms)": 735.2
         },
         {
          "V (uV)": -9.27,
          "t (ms)": 735.24
         },
         {
          "V (uV)": 0.63,
          "t (ms)": 735.28
         },
         {
          "V (uV)": -7.6,
          "t (ms)": 735.32
         },
         {
          "V (uV)": -7.4,
          "t (ms)": 735.36
         },
         {
          "V (uV)": 6.04,
          "t (ms)": 735.4
         },
         {
          "V (uV)": 7.19,
          "t (ms)": 735.44
         },
         {
          "V (uV)": -1.77,
          "t (ms)": 735.48
         },
         {
          "V (uV)": 11.67,
          "t (ms)": 735.52
         },
         {
          "V (uV)": 9.9,
          "t (ms)": 735.56
         },
         {
          "V (uV)": -6.04,
          "t (ms)": 735.6
         },
         {
          "V (uV)": 3.85,
          "t (ms)": 735.64
         },
         {
          "V (uV)": -2.19,
          "t (ms)": 735.68
         },
         {
          "V (uV)": -12.19,
          "t (ms)": 735.72
         },
         {
          "V (uV)": -10.52,
          "t (ms)": 735.76
         },
         {
          "V (uV)": 7.81,
          "t (ms)": 735.8
         },
         {
          "V (uV)": 1.67,
          "t (ms)": 735.84
         },
         {
          "V (uV)": 0.42,
          "t (ms)": 735.88
         },
         {
          "V (uV)": 6.56,
          "t (ms)": 735.92
         },
         {
          "V (uV)": -7.5,
          "t (ms)": 735.96
         },
         {
          "V (uV)": -10.42,
          "t (ms)": 736
         },
         {
          "V (uV)": 17.08,
          "t (ms)": 736.04
         },
         {
          "V (uV)": 0.31,
          "t (ms)": 736.08
         },
         {
          "V (uV)": -6.67,
          "t (ms)": 736.12
         },
         {
          "V (uV)": -0.21,
          "t (ms)": 736.16
         },
         {
          "V (uV)": -8.75,
          "t (ms)": 736.2
         },
         {
          "V (uV)": -8.75,
          "t (ms)": 736.24
         },
         {
          "V (uV)": 9.9,
          "t (ms)": 736.28
         },
         {
          "V (uV)": -4.17,
          "t (ms)": 736.32
         },
         {
          "V (uV)": -11.56,
          "t (ms)": 736.36
         },
         {
          "V (uV)": -2.81,
          "t (ms)": 736.4
         },
         {
          "V (uV)": -13.85,
          "t (ms)": 736.44
         },
         {
          "V (uV)": -11.46,
          "t (ms)": 736.48
         },
         {
          "V (uV)": 5.73,
          "t (ms)": 736.52
         },
         {
          "V (uV)": 21.04,
          "t (ms)": 736.56
         },
         {
          "V (uV)": -0.21,
          "t (ms)": 736.6
         },
         {
          "V (uV)": 0.73,
          "t (ms)": 736.64
         },
         {
          "V (uV)": -2.29,
          "t (ms)": 736.68
         },
         {
          "V (uV)": -4.27,
          "t (ms)": 736.72
         },
         {
          "V (uV)": 3.13,
          "t (ms)": 736.76
         },
         {
          "V (uV)": 16.98,
          "t (ms)": 736.8
         },
         {
          "V (uV)": 1.25,
          "t (ms)": 736.84
         },
         {
          "V (uV)": -8.33,
          "t (ms)": 736.88
         },
         {
          "V (uV)": 2.5,
          "t (ms)": 736.92
         },
         {
          "V (uV)": -6.56,
          "t (ms)": 736.96
         },
         {
          "V (uV)": -13.96,
          "t (ms)": 737
         },
         {
          "V (uV)": 12.19,
          "t (ms)": 737.04
         },
         {
          "V (uV)": -2.81,
          "t (ms)": 737.08
         },
         {
          "V (uV)": -10.94,
          "t (ms)": 737.12
         },
         {
          "V (uV)": 3.96,
          "t (ms)": 737.16
         },
         {
          "V (uV)": 1.88,
          "t (ms)": 737.2
         },
         {
          "V (uV)": 1.25,
          "t (ms)": 737.24
         },
         {
          "V (uV)": 14.38,
          "t (ms)": 737.28
         },
         {
          "V (uV)": 4.27,
          "t (ms)": 737.32
         },
         {
          "V (uV)": -2.29,
          "t (ms)": 737.36
         },
         {
          "V (uV)": 16.67,
          "t (ms)": 737.4
         },
         {
          "V (uV)": 3.96,
          "t (ms)": 737.44
         },
         {
          "V (uV)": -6.67,
          "t (ms)": 737.48
         },
         {
          "V (uV)": 11.35,
          "t (ms)": 737.52
         },
         {
          "V (uV)": 13.65,
          "t (ms)": 737.56
         },
         {
          "V (uV)": -4.69,
          "t (ms)": 737.6
         },
         {
          "V (uV)": 0.73,
          "t (ms)": 737.64
         },
         {
          "V (uV)": 9.38,
          "t (ms)": 737.68
         },
         {
          "V (uV)": -5.94,
          "t (ms)": 737.72
         },
         {
          "V (uV)": -3.02,
          "t (ms)": 737.76
         },
         {
          "V (uV)": 0.21,
          "t (ms)": 737.8
         },
         {
          "V (uV)": -8.23,
          "t (ms)": 737.84
         },
         {
          "V (uV)": -13.85,
          "t (ms)": 737.88
         },
         {
          "V (uV)": 8.13,
          "t (ms)": 737.92
         },
         {
          "V (uV)": -4.17,
          "t (ms)": 737.96
         },
         {
          "V (uV)": -8.13,
          "t (ms)": 738
         },
         {
          "V (uV)": -3.02,
          "t (ms)": 738.04
         },
         {
          "V (uV)": -12.81,
          "t (ms)": 738.08
         },
         {
          "V (uV)": -15.83,
          "t (ms)": 738.12
         },
         {
          "V (uV)": 13.23,
          "t (ms)": 738.16
         },
         {
          "V (uV)": -0.73,
          "t (ms)": 738.2
         },
         {
          "V (uV)": -8.96,
          "t (ms)": 738.24
         },
         {
          "V (uV)": 0,
          "t (ms)": 738.28
         },
         {
          "V (uV)": -9.69,
          "t (ms)": 738.32
         },
         {
          "V (uV)": -13.65,
          "t (ms)": 738.36
         },
         {
          "V (uV)": 4.58,
          "t (ms)": 738.4
         },
         {
          "V (uV)": 4.38,
          "t (ms)": 738.44
         },
         {
          "V (uV)": -7.08,
          "t (ms)": 738.48
         },
         {
          "V (uV)": 8.65,
          "t (ms)": 738.52
         },
         {
          "V (uV)": 11.77,
          "t (ms)": 738.56
         },
         {
          "V (uV)": -1.67,
          "t (ms)": 738.6
         },
         {
          "V (uV)": 3.96,
          "t (ms)": 738.64
         },
         {
          "V (uV)": 11.35,
          "t (ms)": 738.68
         },
         {
          "V (uV)": -0.52,
          "t (ms)": 738.72
         },
         {
          "V (uV)": 2.81,
          "t (ms)": 738.76
         },
         {
          "V (uV)": 3.44,
          "t (ms)": 738.8
         },
         {
          "V (uV)": -2.29,
          "t (ms)": 738.84
         },
         {
          "V (uV)": -6.67,
          "t (ms)": 738.88
         },
         {
          "V (uV)": 13.65,
          "t (ms)": 738.92
         },
         {
          "V (uV)": 0.73,
          "t (ms)": 738.96
         },
         {
          "V (uV)": -5.63,
          "t (ms)": 739
         },
         {
          "V (uV)": 5.42,
          "t (ms)": 739.04
         },
         {
          "V (uV)": -6.56,
          "t (ms)": 739.08
         },
         {
          "V (uV)": -8.96,
          "t (ms)": 739.12
         },
         {
          "V (uV)": 19.9,
          "t (ms)": 739.16
         },
         {
          "V (uV)": 8.75,
          "t (ms)": 739.2
         },
         {
          "V (uV)": -2.6,
          "t (ms)": 739.24
         },
         {
          "V (uV)": 11.15,
          "t (ms)": 739.28
         },
         {
          "V (uV)": 6.04,
          "t (ms)": 739.32
         },
         {
          "V (uV)": 5.52,
          "t (ms)": 739.36
         },
         {
          "V (uV)": 19.06,
          "t (ms)": 739.4
         },
         {
          "V (uV)": 10.31,
          "t (ms)": 739.44
         },
         {
          "V (uV)": -1.25,
          "t (ms)": 739.48
         },
         {
          "V (uV)": 2.92,
          "t (ms)": 739.52
         },
         {
          "V (uV)": -0.83,
          "t (ms)": 739.56
         },
         {
          "V (uV)": -12.92,
          "t (ms)": 739.6
         },
         {
          "V (uV)": -6.15,
          "t (ms)": 739.64
         },
         {
          "V (uV)": -6.35,
          "t (ms)": 739.68
         },
         {
          "V (uV)": -9.79,
          "t (ms)": 739.72
         },
         {
          "V (uV)": -7.08,
          "t (ms)": 739.76
         },
         {
          "V (uV)": 6.88,
          "t (ms)": 739.8
         },
         {
          "V (uV)": -4.79,
          "t (ms)": 739.84
         },
         {
          "V (uV)": -10.21,
          "t (ms)": 739.88
         },
         {
          "V (uV)": -2.4,
          "t (ms)": 739.92
         },
         {
          "V (uV)": -4.9,
          "t (ms)": 739.96
         },
         {
          "V (uV)": -6.56,
          "t (ms)": 740
         },
         {
          "V (uV)": 18.02,
          "t (ms)": 740.04
         },
         {
          "V (uV)": 0.1,
          "t (ms)": 740.08
         },
         {
          "V (uV)": -10.42,
          "t (ms)": 740.12
         },
         {
          "V (uV)": -6.25,
          "t (ms)": 740.16
         },
         {
          "V (uV)": -11.04,
          "t (ms)": 740.2
         },
         {
          "V (uV)": -18.54,
          "t (ms)": 740.24
         },
         {
          "V (uV)": 1.88,
          "t (ms)": 740.28
         },
         {
          "V (uV)": -5.94,
          "t (ms)": 740.32
         },
         {
          "V (uV)": -9.9,
          "t (ms)": 740.36
         },
         {
          "V (uV)": 8.65,
          "t (ms)": 740.4
         },
         {
          "V (uV)": 4.27,
          "t (ms)": 740.44
         },
         {
          "V (uV)": -1.56,
          "t (ms)": 740.48
         },
         {
          "V (uV)": 10,
          "t (ms)": 740.52
         },
         {
          "V (uV)": 31.98,
          "t (ms)": 740.56
         },
         {
          "V (uV)": 10.42,
          "t (ms)": 740.6
         },
         {
          "V (uV)": 6.04,
          "t (ms)": 740.64
         },
         {
          "V (uV)": -0.94,
          "t (ms)": 740.68
         },
         {
          "V (uV)": -10,
          "t (ms)": 740.72
         },
         {
          "V (uV)": -3.44,
          "t (ms)": 740.76
         },
         {
          "V (uV)": 17.92,
          "t (ms)": 740.8
         },
         {
          "V (uV)": 0.31,
          "t (ms)": 740.84
         },
         {
          "V (uV)": -4.9,
          "t (ms)": 740.88
         },
         {
          "V (uV)": 1.88,
          "t (ms)": 740.92
         },
         {
          "V (uV)": -5.42,
          "t (ms)": 740.96
         },
         {
          "V (uV)": -6.35,
          "t (ms)": 741
         },
         {
          "V (uV)": 18.65,
          "t (ms)": 741.04
         },
         {
          "V (uV)": 1.35,
          "t (ms)": 741.08
         },
         {
          "V (uV)": -6.88,
          "t (ms)": 741.12
         },
         {
          "V (uV)": 4.48,
          "t (ms)": 741.16
         },
         {
          "V (uV)": -8.54,
          "t (ms)": 741.2
         },
         {
          "V (uV)": -12.4,
          "t (ms)": 741.24
         },
         {
          "V (uV)": 5.63,
          "t (ms)": 741.28
         },
         {
          "V (uV)": -3.33,
          "t (ms)": 741.32
         },
         {
          "V (uV)": -5.94,
          "t (ms)": 741.36
         },
         {
          "V (uV)": 7.81,
          "t (ms)": 741.4
         },
         {
          "V (uV)": 1.56,
          "t (ms)": 741.44
         },
         {
          "V (uV)": -6.25,
          "t (ms)": 741.48
         },
         {
          "V (uV)": 9.69,
          "t (ms)": 741.52
         },
         {
          "V (uV)": 16.77,
          "t (ms)": 741.56
         },
         {
          "V (uV)": 5,
          "t (ms)": 741.6
         },
         {
          "V (uV)": 9.17,
          "t (ms)": 741.64
         },
         {
          "V (uV)": 10.94,
          "t (ms)": 741.68
         },
         {
          "V (uV)": -5,
          "t (ms)": 741.72
         },
         {
          "V (uV)": 0.21,
          "t (ms)": 741.76
         },
         {
          "V (uV)": 5.73,
          "t (ms)": 741.8
         },
         {
          "V (uV)": -10.94,
          "t (ms)": 741.84
         },
         {
          "V (uV)": -8.02,
          "t (ms)": 741.88
         },
         {
          "V (uV)": 20.94,
          "t (ms)": 741.92
         },
         {
          "V (uV)": 7.5,
          "t (ms)": 741.96
         },
         {
          "V (uV)": -3.44,
          "t (ms)": 742
         },
         {
          "V (uV)": -0.52,
          "t (ms)": 742.04
         },
         {
          "V (uV)": -9.58,
          "t (ms)": 742.08
         },
         {
          "V (uV)": -13.13,
          "t (ms)": 742.12
         },
         {
          "V (uV)": 18.33,
          "t (ms)": 742.16
         },
         {
          "V (uV)": 7.4,
          "t (ms)": 742.2
         },
         {
          "V (uV)": -3.44,
          "t (ms)": 742.24
         },
         {
          "V (uV)": 0.94,
          "t (ms)": 742.28
         },
         {
          "V (uV)": -8.23,
          "t (ms)": 742.32
         },
         {
          "V (uV)": -13.44,
          "t (ms)": 742.36
         },
         {
          "V (uV)": 5.42,
          "t (ms)": 742.4
         },
         {
          "V (uV)": 4.48,
          "t (ms)": 742.44
         },
         {
          "V (uV)": -5.1,
          "t (ms)": 742.48
         },
         {
          "V (uV)": 8.44,
          "t (ms)": 742.52
         },
         {
          "V (uV)": 9.69,
          "t (ms)": 742.56
         },
         {
          "V (uV)": -2.6,
          "t (ms)": 742.6
         },
         {
          "V (uV)": 7.08,
          "t (ms)": 742.64
         },
         {
          "V (uV)": 18.85,
          "t (ms)": 742.68
         },
         {
          "V (uV)": -0.21,
          "t (ms)": 742.72
         },
         {
          "V (uV)": -6.35,
          "t (ms)": 742.76
         },
         {
          "V (uV)": -1.25,
          "t (ms)": 742.8
         },
         {
          "V (uV)": -9.69,
          "t (ms)": 742.84
         },
         {
          "V (uV)": -6.67,
          "t (ms)": 742.88
         },
         {
          "V (uV)": 16.88,
          "t (ms)": 742.92
         },
         {
          "V (uV)": 0.94,
          "t (ms)": 742.96
         },
         {
          "V (uV)": -6.56,
          "t (ms)": 743
         },
         {
          "V (uV)": 4.27,
          "t (ms)": 743.04
         },
         {
          "V (uV)": -2.4,
          "t (ms)": 743.08
         },
         {
          "V (uV)": -12.19,
          "t (ms)": 743.12
         },
         {
          "V (uV)": 6.88,
          "t (ms)": 743.16
         },
         {
          "V (uV)": -0.1,
          "t (ms)": 743.2
         },
         {
          "V (uV)": -5.52,
          "t (ms)": 743.24
         },
         {
          "V (uV)": 9.48,
          "t (ms)": 743.28
         },
         {
          "V (uV)": 6.15,
          "t (ms)": 743.32
         },
         {
          "V (uV)": 4.69,
          "t (ms)": 743.36
         },
         {
          "V (uV)": 22.6,
          "t (ms)": 743.4
         },
         {
          "V (uV)": 18.44,
          "t (ms)": 743.44
         },
         {
          "V (uV)": 4.06,
          "t (ms)": 743.48
         },
         {
          "V (uV)": 6.67,
          "t (ms)": 743.52
         },
         {
          "V (uV)": 7.4,
          "t (ms)": 743.56
         },
         {
          "V (uV)": -5.21,
          "t (ms)": 743.6
         },
         {
          "V (uV)": 1.46,
          "t (ms)": 743.64
         },
         {
          "V (uV)": -4.17,
          "t (ms)": 743.68
         },
         {
          "V (uV)": -9.79,
          "t (ms)": 743.72
         },
         {
          "V (uV)": -6.67,
          "t (ms)": 743.76
         },
         {
          "V (uV)": 4.79,
          "t (ms)": 743.8
         },
         {
          "V (uV)": -11.15,
          "t (ms)": 743.84
         },
         {
          "V (uV)": -8.23,
          "t (ms)": 743.88
         },
         {
          "V (uV)": -3.75,
          "t (ms)": 743.92
         }
        ]
       },
       "encoding": {
        "x": {
         "field": "V (uV)",
         "title": "V (µV)",
         "type": "quantitative"
        },
        "y": {
         "field": "t (ms)",
         "scale": {
          "zero": false
         },
         "type": "quantitative"
        }
       },
       "mark": "line"
      },
      "image/png": "[encoded data removed]",
      "text/plain": [
       "<VegaLite 2 object>\n",
       "\n",
       "If you see this message, it means the renderer has not been properly enabled\n",
       "for the frontend that you are using. For more information, see\n",
       "https://altair-viz.github.io/user_guide/troubleshooting.html\n"
      ]
     },
     "execution_count": 17,
     "metadata": {},
     "output_type": "execute_result"
    }
   ],
   "source": [
    "#but we want it to be vertical\n",
    "alt.Chart(df\n",
    "    ).mark_line(\n",
    "    ).encode(\n",
    "        y=alt.Y('t (ms):Q', scale=alt.Scale(zero=False)), \n",
    "        x=alt.X('V (uV):Q', title='V (µV)')\n",
    "    )"
   ]
  },
  {
   "cell_type": "code",
   "execution_count": 25,
   "metadata": {},
   "outputs": [
    {
     "data": {
      "application/vnd.vegalite.v2+json": {
       "$schema": "https://vega.github.io/schema/vega-lite/v2.4.3.json",
       "config": {
        "view": {
         "height": 300,
         "width": 400
        }
       },
       "data": {
        "values": [
         {
          "V (uV)": 4.79,
          "t (ms)": 703.96
         },
         {
          "V (uV)": -0.63,
          "t (ms)": 704
         },
         {
          "V (uV)": 5.83,
          "t (ms)": 704.04
         },
         {
          "V (uV)": 0.31,
          "t (ms)": 704.08
         },
         {
          "V (uV)": -4.58,
          "t (ms)": 704.12
         },
         {
          "V (uV)": 21.67,
          "t (ms)": 704.16
         },
         {
          "V (uV)": 8.13,
          "t (ms)": 704.2
         },
         {
          "V (uV)": 5.94,
          "t (ms)": 704.24
         },
         {
          "V (uV)": 14.79,
          "t (ms)": 704.28
         },
         {
          "V (uV)": 2.71,
          "t (ms)": 704.32
         },
         {
          "V (uV)": 0.94,
          "t (ms)": 704.36
         },
         {
          "V (uV)": 17.4,
          "t (ms)": 704.4
         },
         {
          "V (uV)": 11.77,
          "t (ms)": 704.44
         },
         {
          "V (uV)": -2.6,
          "t (ms)": 704.48
         },
         {
          "V (uV)": 6.04,
          "t (ms)": 704.52
         },
         {
          "V (uV)": -3.44,
          "t (ms)": 704.56
         },
         {
          "V (uV)": -6.04,
          "t (ms)": 704.6
         },
         {
          "V (uV)": 10.42,
          "t (ms)": 704.64
         },
         {
          "V (uV)": 19.06,
          "t (ms)": 704.68
         },
         {
          "V (uV)": 7.4,
          "t (ms)": 704.72
         },
         {
          "V (uV)": 9.79,
          "t (ms)": 704.76
         },
         {
          "V (uV)": 20.42,
          "t (ms)": 704.8
         },
         {
          "V (uV)": -0.1,
          "t (ms)": 704.84
         },
         {
          "V (uV)": -7.92,
          "t (ms)": 704.88
         },
         {
          "V (uV)": -7.29,
          "t (ms)": 704.92
         },
         {
          "V (uV)": -11.25,
          "t (ms)": 704.96
         },
         {
          "V (uV)": -12.19,
          "t (ms)": 705
         },
         {
          "V (uV)": 12.6,
          "t (ms)": 705.04
         },
         {
          "V (uV)": -1.98,
          "t (ms)": 705.08
         },
         {
          "V (uV)": -10.31,
          "t (ms)": 705.12
         },
         {
          "V (uV)": 0.1,
          "t (ms)": 705.16
         },
         {
          "V (uV)": -5.31,
          "t (ms)": 705.2
         },
         {
          "V (uV)": -8.02,
          "t (ms)": 705.24
         },
         {
          "V (uV)": 15.52,
          "t (ms)": 705.28
         },
         {
          "V (uV)": 4.17,
          "t (ms)": 705.32
         },
         {
          "V (uV)": -5.31,
          "t (ms)": 705.36
         },
         {
          "V (uV)": 3.65,
          "t (ms)": 705.4
         },
         {
          "V (uV)": -5.52,
          "t (ms)": 705.44
         },
         {
          "V (uV)": -11.25,
          "t (ms)": 705.48
         },
         {
          "V (uV)": 4.06,
          "t (ms)": 705.52
         },
         {
          "V (uV)": 6.25,
          "t (ms)": 705.56
         },
         {
          "V (uV)": -1.25,
          "t (ms)": 705.6
         },
         {
          "V (uV)": 7.29,
          "t (ms)": 705.64
         },
         {
          "V (uV)": 7.29,
          "t (ms)": 705.68
         },
         {
          "V (uV)": -6.56,
          "t (ms)": 705.72
         },
         {
          "V (uV)": -3.85,
          "t (ms)": 705.76
         },
         {
          "V (uV)": 12.71,
          "t (ms)": 705.8
         },
         {
          "V (uV)": -3.75,
          "t (ms)": 705.84
         },
         {
          "V (uV)": -5.73,
          "t (ms)": 705.88
         },
         {
          "V (uV)": 2.29,
          "t (ms)": 705.92
         },
         {
          "V (uV)": -2.92,
          "t (ms)": 705.96
         },
         {
          "V (uV)": -6.35,
          "t (ms)": 706
         },
         {
          "V (uV)": 21.35,
          "t (ms)": 706.04
         },
         {
          "V (uV)": 2.4,
          "t (ms)": 706.08
         },
         {
          "V (uV)": -7.29,
          "t (ms)": 706.12
         },
         {
          "V (uV)": 3.96,
          "t (ms)": 706.16
         },
         {
          "V (uV)": -3.23,
          "t (ms)": 706.2
         },
         {
          "V (uV)": -8.54,
          "t (ms)": 706.24
         },
         {
          "V (uV)": 15.1,
          "t (ms)": 706.28
         },
         {
          "V (uV)": 3.96,
          "t (ms)": 706.32
         },
         {
          "V (uV)": -2.5,
          "t (ms)": 706.36
         },
         {
          "V (uV)": 14.69,
          "t (ms)": 706.4
         },
         {
          "V (uV)": 3.13,
          "t (ms)": 706.44
         },
         {
          "V (uV)": -2.81,
          "t (ms)": 706.48
         },
         {
          "V (uV)": 8.54,
          "t (ms)": 706.52
         },
         {
          "V (uV)": 10.1,
          "t (ms)": 706.56
         },
         {
          "V (uV)": -0.63,
          "t (ms)": 706.6
         },
         {
          "V (uV)": 8.75,
          "t (ms)": 706.64
         },
         {
          "V (uV)": 15.42,
          "t (ms)": 706.68
         },
         {
          "V (uV)": 3.13,
          "t (ms)": 706.72
         },
         {
          "V (uV)": 1.46,
          "t (ms)": 706.76
         },
         {
          "V (uV)": -0.63,
          "t (ms)": 706.8
         },
         {
          "V (uV)": -6.67,
          "t (ms)": 706.84
         },
         {
          "V (uV)": -5.52,
          "t (ms)": 706.88
         },
         {
          "V (uV)": 11.35,
          "t (ms)": 706.92
         },
         {
          "V (uV)": 1.04,
          "t (ms)": 706.96
         },
         {
          "V (uV)": -1.88,
          "t (ms)": 707
         },
         {
          "V (uV)": 8.13,
          "t (ms)": 707.04
         },
         {
          "V (uV)": 1.46,
          "t (ms)": 707.08
         },
         {
          "V (uV)": -7.4,
          "t (ms)": 707.12
         },
         {
          "V (uV)": 11.25,
          "t (ms)": 707.16
         },
         {
          "V (uV)": -5.73,
          "t (ms)": 707.2
         },
         {
          "V (uV)": -9.27,
          "t (ms)": 707.24
         },
         {
          "V (uV)": 3.85,
          "t (ms)": 707.28
         },
         {
          "V (uV)": -7.19,
          "t (ms)": 707.32
         },
         {
          "V (uV)": -11.67,
          "t (ms)": 707.36
         },
         {
          "V (uV)": 13.33,
          "t (ms)": 707.4
         },
         {
          "V (uV)": 4.17,
          "t (ms)": 707.44
         },
         {
          "V (uV)": -11.98,
          "t (ms)": 707.48
         },
         {
          "V (uV)": -5.94,
          "t (ms)": 707.52
         },
         {
          "V (uV)": -6.56,
          "t (ms)": 707.56
         },
         {
          "V (uV)": -6.77,
          "t (ms)": 707.6
         },
         {
          "V (uV)": 3.23,
          "t (ms)": 707.64
         },
         {
          "V (uV)": 6.56,
          "t (ms)": 707.68
         },
         {
          "V (uV)": -6.15,
          "t (ms)": 707.72
         },
         {
          "V (uV)": -5.63,
          "t (ms)": 707.76
         },
         {
          "V (uV)": 2.19,
          "t (ms)": 707.8
         },
         {
          "V (uV)": -11.15,
          "t (ms)": 707.84
         },
         {
          "V (uV)": -8.96,
          "t (ms)": 707.88
         },
         {
          "V (uV)": 10.42,
          "t (ms)": 707.92
         },
         {
          "V (uV)": -4.17,
          "t (ms)": 707.96
         },
         {
          "V (uV)": -9.79,
          "t (ms)": 708
         },
         {
          "V (uV)": -4.79,
          "t (ms)": 708.04
         },
         {
          "V (uV)": -12.71,
          "t (ms)": 708.08
         },
         {
          "V (uV)": -19.58,
          "t (ms)": 708.12
         },
         {
          "V (uV)": 10.63,
          "t (ms)": 708.16
         },
         {
          "V (uV)": -1.67,
          "t (ms)": 708.2
         },
         {
          "V (uV)": -10,
          "t (ms)": 708.24
         },
         {
          "V (uV)": 1.98,
          "t (ms)": 708.28
         },
         {
          "V (uV)": -4.79,
          "t (ms)": 708.32
         },
         {
          "V (uV)": -5.42,
          "t (ms)": 708.36
         },
         {
          "V (uV)": 11.04,
          "t (ms)": 708.4
         },
         {
          "V (uV)": -0.21,
          "t (ms)": 708.44
         },
         {
          "V (uV)": -6.88,
          "t (ms)": 708.48
         },
         {
          "V (uV)": 4.79,
          "t (ms)": 708.52
         },
         {
          "V (uV)": -5.73,
          "t (ms)": 708.56
         },
         {
          "V (uV)": -11.56,
          "t (ms)": 708.6
         },
         {
          "V (uV)": -0.94,
          "t (ms)": 708.64
         },
         {
          "V (uV)": 6.15,
          "t (ms)": 708.68
         },
         {
          "V (uV)": -9.17,
          "t (ms)": 708.72
         },
         {
          "V (uV)": -8.65,
          "t (ms)": 708.76
         },
         {
          "V (uV)": 0.94,
          "t (ms)": 708.8
         },
         {
          "V (uV)": -16.56,
          "t (ms)": 708.84
         },
         {
          "V (uV)": -14.17,
          "t (ms)": 708.88
         },
         {
          "V (uV)": -5.83,
          "t (ms)": 708.92
         },
         {
          "V (uV)": -6.67,
          "t (ms)": 708.96
         },
         {
          "V (uV)": -5.83,
          "t (ms)": 709
         },
         {
          "V (uV)": 22.08,
          "t (ms)": 709.04
         },
         {
          "V (uV)": 5.42,
          "t (ms)": 709.08
         },
         {
          "V (uV)": -1.88,
          "t (ms)": 709.12
         },
         {
          "V (uV)": 4.69,
          "t (ms)": 709.16
         },
         {
          "V (uV)": 1.88,
          "t (ms)": 709.2
         },
         {
          "V (uV)": -6.88,
          "t (ms)": 709.24
         },
         {
          "V (uV)": 17.81,
          "t (ms)": 709.28
         },
         {
          "V (uV)": 4.17,
          "t (ms)": 709.32
         },
         {
          "V (uV)": -5,
          "t (ms)": 709.36
         },
         {
          "V (uV)": 8.65,
          "t (ms)": 709.4
         },
         {
          "V (uV)": -5.73,
          "t (ms)": 709.44
         },
         {
          "V (uV)": -12.08,
          "t (ms)": 709.48
         },
         {
          "V (uV)": 3.13,
          "t (ms)": 709.52
         },
         {
          "V (uV)": 1.15,
          "t (ms)": 709.56
         },
         {
          "V (uV)": -8.23,
          "t (ms)": 709.6
         },
         {
          "V (uV)": -0.94,
          "t (ms)": 709.64
         },
         {
          "V (uV)": 8.44,
          "t (ms)": 709.68
         },
         {
          "V (uV)": -10.63,
          "t (ms)": 709.72
         },
         {
          "V (uV)": -4.06,
          "t (ms)": 709.76
         },
         {
          "V (uV)": 10.42,
          "t (ms)": 709.8
         },
         {
          "V (uV)": -2.5,
          "t (ms)": 709.84
         },
         {
          "V (uV)": -0.1,
          "t (ms)": 709.88
         },
         {
          "V (uV)": 4.38,
          "t (ms)": 709.92
         },
         {
          "V (uV)": -8.13,
          "t (ms)": 709.96
         },
         {
          "V (uV)": -9.48,
          "t (ms)": 710
         },
         {
          "V (uV)": 18.54,
          "t (ms)": 710.04
         },
         {
          "V (uV)": 4.79,
          "t (ms)": 710.08
         },
         {
          "V (uV)": -0.63,
          "t (ms)": 710.12
         },
         {
          "V (uV)": 10.1,
          "t (ms)": 710.16
         },
         {
          "V (uV)": 2.19,
          "t (ms)": 710.2
         },
         {
          "V (uV)": -5.83,
          "t (ms)": 710.24
         },
         {
          "V (uV)": 17.5,
          "t (ms)": 710.28
         },
         {
          "V (uV)": 3.96,
          "t (ms)": 710.32
         },
         {
          "V (uV)": -12.6,
          "t (ms)": 710.36
         },
         {
          "V (uV)": -0.21,
          "t (ms)": 710.4
         },
         {
          "V (uV)": -9.9,
          "t (ms)": 710.44
         },
         {
          "V (uV)": -10.31,
          "t (ms)": 710.48
         },
         {
          "V (uV)": 4.69,
          "t (ms)": 710.52
         },
         {
          "V (uV)": 7.29,
          "t (ms)": 710.56
         },
         {
          "V (uV)": -4.27,
          "t (ms)": 710.6
         },
         {
          "V (uV)": 3.13,
          "t (ms)": 710.64
         },
         {
          "V (uV)": 10.94,
          "t (ms)": 710.68
         },
         {
          "V (uV)": -1.35,
          "t (ms)": 710.72
         },
         {
          "V (uV)": 6.04,
          "t (ms)": 710.76
         },
         {
          "V (uV)": 6.25,
          "t (ms)": 710.8
         },
         {
          "V (uV)": -4.38,
          "t (ms)": 710.84
         },
         {
          "V (uV)": -9.58,
          "t (ms)": 710.88
         },
         {
          "V (uV)": 8.75,
          "t (ms)": 710.92
         },
         {
          "V (uV)": -7.71,
          "t (ms)": 710.96
         },
         {
          "V (uV)": -15.1,
          "t (ms)": 711
         },
         {
          "V (uV)": -5.1,
          "t (ms)": 711.04
         },
         {
          "V (uV)": -6.15,
          "t (ms)": 711.08
         },
         {
          "V (uV)": -6.98,
          "t (ms)": 711.12
         },
         {
          "V (uV)": 18.96,
          "t (ms)": 711.16
         },
         {
          "V (uV)": 1.15,
          "t (ms)": 711.2
         },
         {
          "V (uV)": -4.9,
          "t (ms)": 711.24
         },
         {
          "V (uV)": 5.31,
          "t (ms)": 711.28
         },
         {
          "V (uV)": -12.92,
          "t (ms)": 711.32
         },
         {
          "V (uV)": -19.38,
          "t (ms)": 711.36
         },
         {
          "V (uV)": 3.96,
          "t (ms)": 711.4
         },
         {
          "V (uV)": 3.85,
          "t (ms)": 711.44
         },
         {
          "V (uV)": -9.38,
          "t (ms)": 711.48
         },
         {
          "V (uV)": 6.15,
          "t (ms)": 711.52
         },
         {
          "V (uV)": 0.1,
          "t (ms)": 711.56
         },
         {
          "V (uV)": -5.31,
          "t (ms)": 711.6
         },
         {
          "V (uV)": 8.65,
          "t (ms)": 711.64
         },
         {
          "V (uV)": 11.56,
          "t (ms)": 711.68
         },
         {
          "V (uV)": 1.77,
          "t (ms)": 711.72
         },
         {
          "V (uV)": 0.52,
          "t (ms)": 711.76
         },
         {
          "V (uV)": 7.4,
          "t (ms)": 711.8
         },
         {
          "V (uV)": -8.85,
          "t (ms)": 711.84
         },
         {
          "V (uV)": -2.71,
          "t (ms)": 711.88
         },
         {
          "V (uV)": 16.25,
          "t (ms)": 711.92
         },
         {
          "V (uV)": -1.88,
          "t (ms)": 711.96
         },
         {
          "V (uV)": -9.17,
          "t (ms)": 712
         },
         {
          "V (uV)": -2.29,
          "t (ms)": 712.04
         },
         {
          "V (uV)": -16.35,
          "t (ms)": 712.08
         },
         {
          "V (uV)": -37.29,
          "t (ms)": 712.12
         },
         {
          "V (uV)": -48.75,
          "t (ms)": 712.16
         },
         {
          "V (uV)": -90.52,
          "t (ms)": 712.2
         },
         {
          "V (uV)": -101.35,
          "t (ms)": 712.24
         },
         {
          "V (uV)": -75.83,
          "t (ms)": 712.28
         },
         {
          "V (uV)": -65.31,
          "t (ms)": 712.32
         },
         {
          "V (uV)": -47.81,
          "t (ms)": 712.36
         },
         {
          "V (uV)": -14.17,
          "t (ms)": 712.4
         },
         {
          "V (uV)": -11.04,
          "t (ms)": 712.44
         },
         {
          "V (uV)": -19.48,
          "t (ms)": 712.48
         },
         {
          "V (uV)": -3.75,
          "t (ms)": 712.52
         },
         {
          "V (uV)": -9.79,
          "t (ms)": 712.56
         },
         {
          "V (uV)": -4.79,
          "t (ms)": 712.6
         },
         {
          "V (uV)": 15.63,
          "t (ms)": 712.64
         },
         {
          "V (uV)": 22.81,
          "t (ms)": 712.68
         },
         {
          "V (uV)": 5.63,
          "t (ms)": 712.72
         },
         {
          "V (uV)": 2.71,
          "t (ms)": 712.76
         },
         {
          "V (uV)": 18.23,
          "t (ms)": 712.8
         },
         {
          "V (uV)": -0.52,
          "t (ms)": 712.84
         },
         {
          "V (uV)": -5.83,
          "t (ms)": 712.88
         },
         {
          "V (uV)": 5.1,
          "t (ms)": 712.92
         },
         {
          "V (uV)": 2.4,
          "t (ms)": 712.96
         },
         {
          "V (uV)": -1.25,
          "t (ms)": 713
         },
         {
          "V (uV)": 21.88,
          "t (ms)": 713.04
         },
         {
          "V (uV)": 6.77,
          "t (ms)": 713.08
         },
         {
          "V (uV)": 3.65,
          "t (ms)": 713.12
         },
         {
          "V (uV)": 14.06,
          "t (ms)": 713.16
         },
         {
          "V (uV)": 4.17,
          "t (ms)": 713.2
         },
         {
          "V (uV)": 0.52,
          "t (ms)": 713.24
         },
         {
          "V (uV)": 23.75,
          "t (ms)": 713.28
         },
         {
          "V (uV)": 13.02,
          "t (ms)": 713.32
         },
         {
          "V (uV)": 2.71,
          "t (ms)": 713.36
         },
         {
          "V (uV)": 14.48,
          "t (ms)": 713.4
         },
         {
          "V (uV)": 8.85,
          "t (ms)": 713.44
         },
         {
          "V (uV)": 2.4,
          "t (ms)": 713.48
         },
         {
          "V (uV)": 12.08,
          "t (ms)": 713.52
         },
         {
          "V (uV)": 13.44,
          "t (ms)": 713.56
         },
         {
          "V (uV)": -1.15,
          "t (ms)": 713.6
         },
         {
          "V (uV)": 4.9,
          "t (ms)": 713.64
         },
         {
          "V (uV)": 5.83,
          "t (ms)": 713.68
         },
         {
          "V (uV)": -3.65,
          "t (ms)": 713.72
         },
         {
          "V (uV)": -2.29,
          "t (ms)": 713.76
         },
         {
          "V (uV)": -2.5,
          "t (ms)": 713.8
         },
         {
          "V (uV)": -4.69,
          "t (ms)": 713.84
         },
         {
          "V (uV)": -3.44,
          "t (ms)": 713.88
         },
         {
          "V (uV)": 14.17,
          "t (ms)": 713.92
         },
         {
          "V (uV)": 1.46,
          "t (ms)": 713.96
         },
         {
          "V (uV)": -8.75,
          "t (ms)": 714
         },
         {
          "V (uV)": 12.92,
          "t (ms)": 714.04
         },
         {
          "V (uV)": -1.35,
          "t (ms)": 714.08
         },
         {
          "V (uV)": -10.21,
          "t (ms)": 714.12
         },
         {
          "V (uV)": -2.6,
          "t (ms)": 714.16
         },
         {
          "V (uV)": -14.38,
          "t (ms)": 714.2
         },
         {
          "V (uV)": -13.02,
          "t (ms)": 714.24
         },
         {
          "V (uV)": 13.65,
          "t (ms)": 714.28
         },
         {
          "V (uV)": 5.73,
          "t (ms)": 714.32
         },
         {
          "V (uV)": 0,
          "t (ms)": 714.36
         },
         {
          "V (uV)": 10.21,
          "t (ms)": 714.4
         },
         {
          "V (uV)": -3.85,
          "t (ms)": 714.44
         },
         {
          "V (uV)": -12.71,
          "t (ms)": 714.48
         },
         {
          "V (uV)": -0.73,
          "t (ms)": 714.52
         },
         {
          "V (uV)": 2.4,
          "t (ms)": 714.56
         },
         {
          "V (uV)": -4.38,
          "t (ms)": 714.6
         },
         {
          "V (uV)": 3.96,
          "t (ms)": 714.64
         },
         {
          "V (uV)": 7.4,
          "t (ms)": 714.68
         },
         {
          "V (uV)": -3.96,
          "t (ms)": 714.72
         },
         {
          "V (uV)": 2.92,
          "t (ms)": 714.76
         },
         {
          "V (uV)": 3.54,
          "t (ms)": 714.8
         },
         {
          "V (uV)": -5.73,
          "t (ms)": 714.84
         },
         {
          "V (uV)": -7.71,
          "t (ms)": 714.88
         },
         {
          "V (uV)": 13.85,
          "t (ms)": 714.92
         },
         {
          "V (uV)": 3.96,
          "t (ms)": 714.96
         },
         {
          "V (uV)": -3.02,
          "t (ms)": 715
         },
         {
          "V (uV)": 3.85,
          "t (ms)": 715.04
         },
         {
          "V (uV)": -4.79,
          "t (ms)": 715.08
         },
         {
          "V (uV)": -9.17,
          "t (ms)": 715.12
         },
         {
          "V (uV)": 16.98,
          "t (ms)": 715.16
         },
         {
          "V (uV)": -0.63,
          "t (ms)": 715.2
         },
         {
          "V (uV)": -14.38,
          "t (ms)": 715.24
         },
         {
          "V (uV)": -9.79,
          "t (ms)": 715.28
         },
         {
          "V (uV)": -14.9,
          "t (ms)": 715.32
         },
         {
          "V (uV)": -13.02,
          "t (ms)": 715.36
         },
         {
          "V (uV)": 8.75,
          "t (ms)": 715.4
         },
         {
          "V (uV)": -1.46,
          "t (ms)": 715.44
         },
         {
          "V (uV)": -11.15,
          "t (ms)": 715.48
         },
         {
          "V (uV)": 5,
          "t (ms)": 715.52
         },
         {
          "V (uV)": 2.81,
          "t (ms)": 715.56
         },
         {
          "V (uV)": -4.27,
          "t (ms)": 715.6
         },
         {
          "V (uV)": 4.48,
          "t (ms)": 715.64
         },
         {
          "V (uV)": 13.96,
          "t (ms)": 715.68
         },
         {
          "V (uV)": -5,
          "t (ms)": 715.72
         },
         {
          "V (uV)": -5.31,
          "t (ms)": 715.76
         },
         {
          "V (uV)": 5.42,
          "t (ms)": 715.8
         },
         {
          "V (uV)": -10.63,
          "t (ms)": 715.84
         },
         {
          "V (uV)": -10.42,
          "t (ms)": 715.88
         },
         {
          "V (uV)": -1.25,
          "t (ms)": 715.92
         },
         {
          "V (uV)": -12.71,
          "t (ms)": 715.96
         },
         {
          "V (uV)": -18.85,
          "t (ms)": 716
         },
         {
          "V (uV)": 10.21,
          "t (ms)": 716.04
         },
         {
          "V (uV)": -0.42,
          "t (ms)": 716.08
         },
         {
          "V (uV)": -15.63,
          "t (ms)": 716.12
         },
         {
          "V (uV)": 12.81,
          "t (ms)": 716.16
         },
         {
          "V (uV)": 0.52,
          "t (ms)": 716.2
         },
         {
          "V (uV)": -4.69,
          "t (ms)": 716.24
         },
         {
          "V (uV)": 12.71,
          "t (ms)": 716.28
         },
         {
          "V (uV)": 7.71,
          "t (ms)": 716.32
         },
         {
          "V (uV)": 4.27,
          "t (ms)": 716.36
         },
         {
          "V (uV)": 19.79,
          "t (ms)": 716.4
         },
         {
          "V (uV)": 6.46,
          "t (ms)": 716.44
         },
         {
          "V (uV)": -4.48,
          "t (ms)": 716.48
         },
         {
          "V (uV)": 10.52,
          "t (ms)": 716.52
         },
         {
          "V (uV)": -1.25,
          "t (ms)": 716.56
         },
         {
          "V (uV)": -5,
          "t (ms)": 716.6
         },
         {
          "V (uV)": 7.4,
          "t (ms)": 716.64
         },
         {
          "V (uV)": 11.67,
          "t (ms)": 716.68
         },
         {
          "V (uV)": -2.5,
          "t (ms)": 716.72
         },
         {
          "V (uV)": -3.75,
          "t (ms)": 716.76
         },
         {
          "V (uV)": 11.56,
          "t (ms)": 716.8
         },
         {
          "V (uV)": -4.38,
          "t (ms)": 716.84
         },
         {
          "V (uV)": -10.42,
          "t (ms)": 716.88
         },
         {
          "V (uV)": -5.1,
          "t (ms)": 716.92
         },
         {
          "V (uV)": -4.79,
          "t (ms)": 716.96
         },
         {
          "V (uV)": -6.88,
          "t (ms)": 717
         },
         {
          "V (uV)": 17.92,
          "t (ms)": 717.04
         },
         {
          "V (uV)": 2.92,
          "t (ms)": 717.08
         },
         {
          "V (uV)": -11.35,
          "t (ms)": 717.12
         },
         {
          "V (uV)": 0.63,
          "t (ms)": 717.16
         },
         {
          "V (uV)": -8.44,
          "t (ms)": 717.2
         },
         {
          "V (uV)": -6.35,
          "t (ms)": 717.24
         },
         {
          "V (uV)": 11.56,
          "t (ms)": 717.28
         },
         {
          "V (uV)": 4.69,
          "t (ms)": 717.32
         },
         {
          "V (uV)": -2.81,
          "t (ms)": 717.36
         },
         {
          "V (uV)": 11.15,
          "t (ms)": 717.4
         },
         {
          "V (uV)": 0.63,
          "t (ms)": 717.44
         },
         {
          "V (uV)": -7.6,
          "t (ms)": 717.48
         },
         {
          "V (uV)": 10.83,
          "t (ms)": 717.52
         },
         {
          "V (uV)": 11.88,
          "t (ms)": 717.56
         },
         {
          "V (uV)": 0.1,
          "t (ms)": 717.6
         },
         {
          "V (uV)": 5.73,
          "t (ms)": 717.64
         },
         {
          "V (uV)": 13.44,
          "t (ms)": 717.68
         },
         {
          "V (uV)": -1.25,
          "t (ms)": 717.72
         },
         {
          "V (uV)": -1.25,
          "t (ms)": 717.76
         },
         {
          "V (uV)": 4.27,
          "t (ms)": 717.8
         },
         {
          "V (uV)": -5.21,
          "t (ms)": 717.84
         },
         {
          "V (uV)": -2.92,
          "t (ms)": 717.88
         },
         {
          "V (uV)": 16.04,
          "t (ms)": 717.92
         },
         {
          "V (uV)": 4.48,
          "t (ms)": 717.96
         },
         {
          "V (uV)": -5.31,
          "t (ms)": 718
         },
         {
          "V (uV)": 17.92,
          "t (ms)": 718.04
         },
         {
          "V (uV)": -0.42,
          "t (ms)": 718.08
         },
         {
          "V (uV)": -7.4,
          "t (ms)": 718.12
         },
         {
          "V (uV)": 2.6,
          "t (ms)": 718.16
         },
         {
          "V (uV)": -8.85,
          "t (ms)": 718.2
         },
         {
          "V (uV)": -5.63,
          "t (ms)": 718.24
         },
         {
          "V (uV)": 13.33,
          "t (ms)": 718.28
         },
         {
          "V (uV)": 2.6,
          "t (ms)": 718.32
         },
         {
          "V (uV)": -9.17,
          "t (ms)": 718.36
         },
         {
          "V (uV)": 8.85,
          "t (ms)": 718.4
         },
         {
          "V (uV)": 0.63,
          "t (ms)": 718.44
         },
         {
          "V (uV)": -3.44,
          "t (ms)": 718.48
         },
         {
          "V (uV)": 10.94,
          "t (ms)": 718.52
         },
         {
          "V (uV)": 13.33,
          "t (ms)": 718.56
         },
         {
          "V (uV)": 4.06,
          "t (ms)": 718.6
         },
         {
          "V (uV)": 8.96,
          "t (ms)": 718.64
         },
         {
          "V (uV)": 14.17,
          "t (ms)": 718.68
         },
         {
          "V (uV)": 1.88,
          "t (ms)": 718.72
         },
         {
          "V (uV)": 4.17,
          "t (ms)": 718.76
         },
         {
          "V (uV)": 7.08,
          "t (ms)": 718.8
         },
         {
          "V (uV)": -0.83,
          "t (ms)": 718.84
         },
         {
          "V (uV)": -3.23,
          "t (ms)": 718.88
         },
         {
          "V (uV)": 20,
          "t (ms)": 718.92
         },
         {
          "V (uV)": 5.42,
          "t (ms)": 718.96
         },
         {
          "V (uV)": -0.94,
          "t (ms)": 719
         },
         {
          "V (uV)": 6.88,
          "t (ms)": 719.04
         },
         {
          "V (uV)": 2.29,
          "t (ms)": 719.08
         },
         {
          "V (uV)": -3.85,
          "t (ms)": 719.12
         },
         {
          "V (uV)": 20.94,
          "t (ms)": 719.16
         },
         {
          "V (uV)": 5.52,
          "t (ms)": 719.2
         },
         {
          "V (uV)": 3.54,
          "t (ms)": 719.24
         },
         {
          "V (uV)": 13.13,
          "t (ms)": 719.28
         },
         {
          "V (uV)": 1.88,
          "t (ms)": 719.32
         },
         {
          "V (uV)": -5,
          "t (ms)": 719.36
         },
         {
          "V (uV)": 7.29,
          "t (ms)": 719.4
         },
         {
          "V (uV)": 2.6,
          "t (ms)": 719.44
         },
         {
          "V (uV)": -7.71,
          "t (ms)": 719.48
         },
         {
          "V (uV)": 0.83,
          "t (ms)": 719.52
         },
         {
          "V (uV)": -2.29,
          "t (ms)": 719.56
         },
         {
          "V (uV)": -1.56,
          "t (ms)": 719.6
         },
         {
          "V (uV)": 7.92,
          "t (ms)": 719.64
         },
         {
          "V (uV)": 15.1,
          "t (ms)": 719.68
         },
         {
          "V (uV)": 1.77,
          "t (ms)": 719.72
         },
         {
          "V (uV)": 2.81,
          "t (ms)": 719.76
         },
         {
          "V (uV)": 12.6,
          "t (ms)": 719.8
         },
         {
          "V (uV)": 1.88,
          "t (ms)": 719.84
         },
         {
          "V (uV)": 1.77,
          "t (ms)": 719.88
         },
         {
          "V (uV)": 6.25,
          "t (ms)": 719.92
         },
         {
          "V (uV)": -2.6,
          "t (ms)": 719.96
         },
         {
          "V (uV)": -9.48,
          "t (ms)": 720
         },
         {
          "V (uV)": 9.27,
          "t (ms)": 720.04
         },
         {
          "V (uV)": -6.15,
          "t (ms)": 720.08
         },
         {
          "V (uV)": -16.25,
          "t (ms)": 720.12
         },
         {
          "V (uV)": 7.71,
          "t (ms)": 720.16
         },
         {
          "V (uV)": -1.88,
          "t (ms)": 720.2
         },
         {
          "V (uV)": -8.13,
          "t (ms)": 720.24
         },
         {
          "V (uV)": -1.35,
          "t (ms)": 720.28
         },
         {
          "V (uV)": -7.5,
          "t (ms)": 720.32
         },
         {
          "V (uV)": -9.48,
          "t (ms)": 720.36
         },
         {
          "V (uV)": 7.19,
          "t (ms)": 720.4
         },
         {
          "V (uV)": 5.94,
          "t (ms)": 720.44
         },
         {
          "V (uV)": -1.88,
          "t (ms)": 720.48
         },
         {
          "V (uV)": 9.69,
          "t (ms)": 720.52
         },
         {
          "V (uV)": 9.38,
          "t (ms)": 720.56
         },
         {
          "V (uV)": -3.65,
          "t (ms)": 720.6
         },
         {
          "V (uV)": 6.04,
          "t (ms)": 720.64
         },
         {
          "V (uV)": 5.1,
          "t (ms)": 720.68
         },
         {
          "V (uV)": 0.52,
          "t (ms)": 720.72
         },
         {
          "V (uV)": 0.83,
          "t (ms)": 720.76
         },
         {
          "V (uV)": 13.33,
          "t (ms)": 720.8
         },
         {
          "V (uV)": 5.1,
          "t (ms)": 720.84
         },
         {
          "V (uV)": 5.52,
          "t (ms)": 720.88
         },
         {
          "V (uV)": 7.5,
          "t (ms)": 720.92
         },
         {
          "V (uV)": -0.83,
          "t (ms)": 720.96
         },
         {
          "V (uV)": -3.13,
          "t (ms)": 721
         },
         {
          "V (uV)": 23.23,
          "t (ms)": 721.04
         },
         {
          "V (uV)": 5.52,
          "t (ms)": 721.08
         },
         {
          "V (uV)": -8.75,
          "t (ms)": 721.12
         },
         {
          "V (uV)": 0,
          "t (ms)": 721.16
         },
         {
          "V (uV)": -3.54,
          "t (ms)": 721.2
         },
         {
          "V (uV)": -1.46,
          "t (ms)": 721.24
         },
         {
          "V (uV)": 16.35,
          "t (ms)": 721.28
         },
         {
          "V (uV)": 2.4,
          "t (ms)": 721.32
         },
         {
          "V (uV)": -8.85,
          "t (ms)": 721.36
         },
         {
          "V (uV)": -0.42,
          "t (ms)": 721.4
         },
         {
          "V (uV)": -9.38,
          "t (ms)": 721.44
         },
         {
          "V (uV)": -15.83,
          "t (ms)": 721.48
         },
         {
          "V (uV)": 0.1,
          "t (ms)": 721.52
         },
         {
          "V (uV)": 2.19,
          "t (ms)": 721.56
         },
         {
          "V (uV)": -4.58,
          "t (ms)": 721.6
         },
         {
          "V (uV)": 8.02,
          "t (ms)": 721.64
         },
         {
          "V (uV)": 12.71,
          "t (ms)": 721.68
         },
         {
          "V (uV)": 0,
          "t (ms)": 721.72
         },
         {
          "V (uV)": 0.52,
          "t (ms)": 721.76
         },
         {
          "V (uV)": 5.31,
          "t (ms)": 721.8
         },
         {
          "V (uV)": 1.98,
          "t (ms)": 721.84
         },
         {
          "V (uV)": 0.63,
          "t (ms)": 721.88
         },
         {
          "V (uV)": 16.25,
          "t (ms)": 721.92
         },
         {
          "V (uV)": 5,
          "t (ms)": 721.96
         },
         {
          "V (uV)": 1.15,
          "t (ms)": 722
         },
         {
          "V (uV)": 11.56,
          "t (ms)": 722.04
         },
         {
          "V (uV)": 4.48,
          "t (ms)": 722.08
         },
         {
          "V (uV)": 0.94,
          "t (ms)": 722.12
         },
         {
          "V (uV)": 20.52,
          "t (ms)": 722.16
         },
         {
          "V (uV)": 2.92,
          "t (ms)": 722.2
         },
         {
          "V (uV)": -7.29,
          "t (ms)": 722.24
         },
         {
          "V (uV)": 8.23,
          "t (ms)": 722.28
         },
         {
          "V (uV)": 0.94,
          "t (ms)": 722.32
         },
         {
          "V (uV)": -11.25,
          "t (ms)": 722.36
         },
         {
          "V (uV)": 5.1,
          "t (ms)": 722.4
         },
         {
          "V (uV)": -5.94,
          "t (ms)": 722.44
         },
         {
          "V (uV)": -10.83,
          "t (ms)": 722.48
         },
         {
          "V (uV)": 6.56,
          "t (ms)": 722.52
         },
         {
          "V (uV)": 12.92,
          "t (ms)": 722.56
         },
         {
          "V (uV)": -2.19,
          "t (ms)": 722.6
         },
         {
          "V (uV)": 6.77,
          "t (ms)": 722.64
         },
         {
          "V (uV)": 12.5,
          "t (ms)": 722.68
         },
         {
          "V (uV)": -0.94,
          "t (ms)": 722.72
         },
         {
          "V (uV)": -2.19,
          "t (ms)": 722.76
         },
         {
          "V (uV)": -9.06,
          "t (ms)": 722.8
         },
         {
          "V (uV)": -14.79,
          "t (ms)": 722.84
         },
         {
          "V (uV)": -16.56,
          "t (ms)": 722.88
         },
         {
          "V (uV)": 5.1,
          "t (ms)": 722.92
         },
         {
          "V (uV)": -5.31,
          "t (ms)": 722.96
         },
         {
          "V (uV)": -9.27,
          "t (ms)": 723
         },
         {
          "V (uV)": 4.06,
          "t (ms)": 723.04
         },
         {
          "V (uV)": -2.6,
          "t (ms)": 723.08
         },
         {
          "V (uV)": -8.75,
          "t (ms)": 723.12
         },
         {
          "V (uV)": 16.67,
          "t (ms)": 723.16
         },
         {
          "V (uV)": 4.38,
          "t (ms)": 723.2
         },
         {
          "V (uV)": -6.04,
          "t (ms)": 723.24
         },
         {
          "V (uV)": 4.48,
          "t (ms)": 723.28
         },
         {
          "V (uV)": -4.9,
          "t (ms)": 723.32
         },
         {
          "V (uV)": -5.83,
          "t (ms)": 723.36
         },
         {
          "V (uV)": 15.52,
          "t (ms)": 723.4
         },
         {
          "V (uV)": 11.15,
          "t (ms)": 723.44
         },
         {
          "V (uV)": -7.92,
          "t (ms)": 723.48
         },
         {
          "V (uV)": 1.04,
          "t (ms)": 723.52
         },
         {
          "V (uV)": 4.27,
          "t (ms)": 723.56
         },
         {
          "V (uV)": -7.19,
          "t (ms)": 723.6
         },
         {
          "V (uV)": 5.83,
          "t (ms)": 723.64
         },
         {
          "V (uV)": 7.5,
          "t (ms)": 723.68
         },
         {
          "V (uV)": -1.46,
          "t (ms)": 723.72
         },
         {
          "V (uV)": 1.15,
          "t (ms)": 723.76
         },
         {
          "V (uV)": 14.58,
          "t (ms)": 723.8
         },
         {
          "V (uV)": -2.5,
          "t (ms)": 723.84
         },
         {
          "V (uV)": -3.85,
          "t (ms)": 723.88
         },
         {
          "V (uV)": -1.04,
          "t (ms)": 723.92
         },
         {
          "V (uV)": -11.77,
          "t (ms)": 723.96
         },
         {
          "V (uV)": -16.77,
          "t (ms)": 724
         },
         {
          "V (uV)": 5,
          "t (ms)": 724.04
         },
         {
          "V (uV)": -9.06,
          "t (ms)": 724.08
         },
         {
          "V (uV)": -11.15,
          "t (ms)": 724.12
         },
         {
          "V (uV)": 13.75,
          "t (ms)": 724.16
         },
         {
          "V (uV)": -1.98,
          "t (ms)": 724.2
         },
         {
          "V (uV)": -10.21,
          "t (ms)": 724.24
         },
         {
          "V (uV)": 1.46,
          "t (ms)": 724.28
         },
         {
          "V (uV)": -3.13,
          "t (ms)": 724.32
         },
         {
          "V (uV)": -7.29,
          "t (ms)": 724.36
         },
         {
          "V (uV)": 13.75,
          "t (ms)": 724.4
         },
         {
          "V (uV)": 12.71,
          "t (ms)": 724.44
         },
         {
          "V (uV)": -3.75,
          "t (ms)": 724.48
         },
         {
          "V (uV)": 6.56,
          "t (ms)": 724.52
         },
         {
          "V (uV)": 9.27,
          "t (ms)": 724.56
         },
         {
          "V (uV)": 2.71,
          "t (ms)": 724.6
         },
         {
          "V (uV)": 5.52,
          "t (ms)": 724.64
         },
         {
          "V (uV)": -0.94,
          "t (ms)": 724.68
         },
         {
          "V (uV)": 0,
          "t (ms)": 724.72
         },
         {
          "V (uV)": 9.17,
          "t (ms)": 724.76
         },
         {
          "V (uV)": 13.54,
          "t (ms)": 724.8
         },
         {
          "V (uV)": -5.83,
          "t (ms)": 724.84
         },
         {
          "V (uV)": -8.23,
          "t (ms)": 724.88
         },
         {
          "V (uV)": 3.44,
          "t (ms)": 724.92
         },
         {
          "V (uV)": -2.6,
          "t (ms)": 724.96
         },
         {
          "V (uV)": -0.1,
          "t (ms)": 725
         },
         {
          "V (uV)": 22.19,
          "t (ms)": 725.04
         },
         {
          "V (uV)": 0.63,
          "t (ms)": 725.08
         },
         {
          "V (uV)": -10.83,
          "t (ms)": 725.12
         },
         {
          "V (uV)": 1.67,
          "t (ms)": 725.16
         },
         {
          "V (uV)": -3.65,
          "t (ms)": 725.2
         },
         {
          "V (uV)": -11.35,
          "t (ms)": 725.24
         },
         {
          "V (uV)": 8.33,
          "t (ms)": 725.28
         },
         {
          "V (uV)": -0.31,
          "t (ms)": 725.32
         },
         {
          "V (uV)": -10.63,
          "t (ms)": 725.36
         },
         {
          "V (uV)": -1.56,
          "t (ms)": 725.4
         },
         {
          "V (uV)": -1.46,
          "t (ms)": 725.44
         },
         {
          "V (uV)": -3.23,
          "t (ms)": 725.48
         },
         {
          "V (uV)": 9.27,
          "t (ms)": 725.52
         },
         {
          "V (uV)": 13.85,
          "t (ms)": 725.56
         },
         {
          "V (uV)": 1.35,
          "t (ms)": 725.6
         },
         {
          "V (uV)": 4.48,
          "t (ms)": 725.64
         },
         {
          "V (uV)": 13.85,
          "t (ms)": 725.68
         },
         {
          "V (uV)": -1.25,
          "t (ms)": 725.72
         },
         {
          "V (uV)": -3.33,
          "t (ms)": 725.76
         },
         {
          "V (uV)": -0.21,
          "t (ms)": 725.8
         },
         {
          "V (uV)": -3.33,
          "t (ms)": 725.84
         },
         {
          "V (uV)": -0.83,
          "t (ms)": 725.88
         },
         {
          "V (uV)": 20.63,
          "t (ms)": 725.92
         },
         {
          "V (uV)": 2.19,
          "t (ms)": 725.96
         },
         {
          "V (uV)": -6.77,
          "t (ms)": 726
         },
         {
          "V (uV)": -1.46,
          "t (ms)": 726.04
         },
         {
          "V (uV)": -10.1,
          "t (ms)": 726.08
         },
         {
          "V (uV)": -10.21,
          "t (ms)": 726.12
         },
         {
          "V (uV)": 15.73,
          "t (ms)": 726.16
         },
         {
          "V (uV)": 0.73,
          "t (ms)": 726.2
         },
         {
          "V (uV)": -7.5,
          "t (ms)": 726.24
         },
         {
          "V (uV)": 10.94,
          "t (ms)": 726.28
         },
         {
          "V (uV)": 0.21,
          "t (ms)": 726.32
         },
         {
          "V (uV)": -1.67,
          "t (ms)": 726.36
         },
         {
          "V (uV)": 8.02,
          "t (ms)": 726.4
         },
         {
          "V (uV)": -1.98,
          "t (ms)": 726.44
         },
         {
          "V (uV)": -5.31,
          "t (ms)": 726.48
         },
         {
          "V (uV)": 8.33,
          "t (ms)": 726.52
         },
         {
          "V (uV)": 12.4,
          "t (ms)": 726.56
         },
         {
          "V (uV)": 0.94,
          "t (ms)": 726.6
         },
         {
          "V (uV)": 6.67,
          "t (ms)": 726.64
         },
         {
          "V (uV)": 11.04,
          "t (ms)": 726.68
         },
         {
          "V (uV)": -5.63,
          "t (ms)": 726.72
         },
         {
          "V (uV)": 5.1,
          "t (ms)": 726.76
         },
         {
          "V (uV)": 11.15,
          "t (ms)": 726.8
         },
         {
          "V (uV)": 2.81,
          "t (ms)": 726.84
         },
         {
          "V (uV)": 2.29,
          "t (ms)": 726.88
         },
         {
          "V (uV)": 20.63,
          "t (ms)": 726.92
         },
         {
          "V (uV)": 1.35,
          "t (ms)": 726.96
         },
         {
          "V (uV)": -4.58,
          "t (ms)": 727
         },
         {
          "V (uV)": 2.71,
          "t (ms)": 727.04
         },
         {
          "V (uV)": -5.42,
          "t (ms)": 727.08
         },
         {
          "V (uV)": -10.94,
          "t (ms)": 727.12
         },
         {
          "V (uV)": 17.5,
          "t (ms)": 727.16
         },
         {
          "V (uV)": 9.9,
          "t (ms)": 727.2
         },
         {
          "V (uV)": 1.46,
          "t (ms)": 727.24
         },
         {
          "V (uV)": 2.6,
          "t (ms)": 727.28
         },
         {
          "V (uV)": -13.02,
          "t (ms)": 727.32
         },
         {
          "V (uV)": -18.02,
          "t (ms)": 727.36
         },
         {
          "V (uV)": 7.6,
          "t (ms)": 727.4
         },
         {
          "V (uV)": 7.81,
          "t (ms)": 727.44
         },
         {
          "V (uV)": 1.56,
          "t (ms)": 727.48
         },
         {
          "V (uV)": 8.75,
          "t (ms)": 727.52
         },
         {
          "V (uV)": 6.04,
          "t (ms)": 727.56
         },
         {
          "V (uV)": -4.69,
          "t (ms)": 727.6
         },
         {
          "V (uV)": -1.15,
          "t (ms)": 727.64
         },
         {
          "V (uV)": -5.21,
          "t (ms)": 727.68
         },
         {
          "V (uV)": -8.23,
          "t (ms)": 727.72
         },
         {
          "V (uV)": 0.94,
          "t (ms)": 727.76
         },
         {
          "V (uV)": 16.98,
          "t (ms)": 727.8
         },
         {
          "V (uV)": 3.23,
          "t (ms)": 727.84
         },
         {
          "V (uV)": 1.46,
          "t (ms)": 727.88
         },
         {
          "V (uV)": 7.71,
          "t (ms)": 727.92
         },
         {
          "V (uV)": -1.67,
          "t (ms)": 727.96
         },
         {
          "V (uV)": -9.06,
          "t (ms)": 728
         },
         {
          "V (uV)": 13.75,
          "t (ms)": 728.04
         },
         {
          "V (uV)": -0.63,
          "t (ms)": 728.08
         },
         {
          "V (uV)": -1.98,
          "t (ms)": 728.12
         },
         {
          "V (uV)": 10,
          "t (ms)": 728.16
         },
         {
          "V (uV)": -1.46,
          "t (ms)": 728.2
         },
         {
          "V (uV)": -6.15,
          "t (ms)": 728.24
         },
         {
          "V (uV)": 15.73,
          "t (ms)": 728.28
         },
         {
          "V (uV)": 8.33,
          "t (ms)": 728.32
         },
         {
          "V (uV)": 0.83,
          "t (ms)": 728.36
         },
         {
          "V (uV)": 17.4,
          "t (ms)": 728.4
         },
         {
          "V (uV)": 5,
          "t (ms)": 728.44
         },
         {
          "V (uV)": -7.19,
          "t (ms)": 728.48
         },
         {
          "V (uV)": 11.25,
          "t (ms)": 728.52
         },
         {
          "V (uV)": 16.25,
          "t (ms)": 728.56
         },
         {
          "V (uV)": -2.08,
          "t (ms)": 728.6
         },
         {
          "V (uV)": 4.17,
          "t (ms)": 728.64
         },
         {
          "V (uV)": -2.81,
          "t (ms)": 728.68
         },
         {
          "V (uV)": -4.27,
          "t (ms)": 728.72
         },
         {
          "V (uV)": 6.35,
          "t (ms)": 728.76
         },
         {
          "V (uV)": 15.73,
          "t (ms)": 728.8
         },
         {
          "V (uV)": 3.23,
          "t (ms)": 728.84
         },
         {
          "V (uV)": -1.67,
          "t (ms)": 728.88
         },
         {
          "V (uV)": -0.42,
          "t (ms)": 728.92
         },
         {
          "V (uV)": -9.69,
          "t (ms)": 728.96
         },
         {
          "V (uV)": -16.35,
          "t (ms)": 729
         },
         {
          "V (uV)": 9.27,
          "t (ms)": 729.04
         },
         {
          "V (uV)": -3.13,
          "t (ms)": 729.08
         },
         {
          "V (uV)": -10.21,
          "t (ms)": 729.12
         },
         {
          "V (uV)": 1.77,
          "t (ms)": 729.16
         },
         {
          "V (uV)": -11.98,
          "t (ms)": 729.2
         },
         {
          "V (uV)": -14.9,
          "t (ms)": 729.24
         },
         {
          "V (uV)": 7.92,
          "t (ms)": 729.28
         },
         {
          "V (uV)": 2.19,
          "t (ms)": 729.32
         },
         {
          "V (uV)": -1.35,
          "t (ms)": 729.36
         },
         {
          "V (uV)": 12.4,
          "t (ms)": 729.4
         },
         {
          "V (uV)": 1.67,
          "t (ms)": 729.44
         },
         {
          "V (uV)": -10.63,
          "t (ms)": 729.48
         },
         {
          "V (uV)": 1.25,
          "t (ms)": 729.52
         },
         {
          "V (uV)": 8.65,
          "t (ms)": 729.56
         },
         {
          "V (uV)": 1.98,
          "t (ms)": 729.6
         },
         {
          "V (uV)": 11.56,
          "t (ms)": 729.64
         },
         {
          "V (uV)": 15,
          "t (ms)": 729.68
         },
         {
          "V (uV)": 3.54,
          "t (ms)": 729.72
         },
         {
          "V (uV)": 4.9,
          "t (ms)": 729.76
         },
         {
          "V (uV)": 4.38,
          "t (ms)": 729.8
         },
         {
          "V (uV)": 2.29,
          "t (ms)": 729.84
         },
         {
          "V (uV)": -0.83,
          "t (ms)": 729.88
         },
         {
          "V (uV)": 22.4,
          "t (ms)": 729.92
         },
         {
          "V (uV)": 6.77,
          "t (ms)": 729.96
         },
         {
          "V (uV)": -7.08,
          "t (ms)": 730
         },
         {
          "V (uV)": -6.56,
          "t (ms)": 730.04
         },
         {
          "V (uV)": -13.96,
          "t (ms)": 730.08
         },
         {
          "V (uV)": -11.98,
          "t (ms)": 730.12
         },
         {
          "V (uV)": 16.35,
          "t (ms)": 730.16
         },
         {
          "V (uV)": 0.42,
          "t (ms)": 730.2
         },
         {
          "V (uV)": -10.31,
          "t (ms)": 730.24
         },
         {
          "V (uV)": 9.48,
          "t (ms)": 730.28
         },
         {
          "V (uV)": -1.15,
          "t (ms)": 730.32
         },
         {
          "V (uV)": -10.1,
          "t (ms)": 730.36
         },
         {
          "V (uV)": 0.83,
          "t (ms)": 730.4
         },
         {
          "V (uV)": -6.25,
          "t (ms)": 730.44
         },
         {
          "V (uV)": -13.23,
          "t (ms)": 730.48
         },
         {
          "V (uV)": 4.48,
          "t (ms)": 730.52
         },
         {
          "V (uV)": 11.25,
          "t (ms)": 730.56
         },
         {
          "V (uV)": 1.04,
          "t (ms)": 730.6
         },
         {
          "V (uV)": 3.33,
          "t (ms)": 730.64
         },
         {
          "V (uV)": 10,
          "t (ms)": 730.68
         },
         {
          "V (uV)": -6.04,
          "t (ms)": 730.72
         },
         {
          "V (uV)": -3.75,
          "t (ms)": 730.76
         },
         {
          "V (uV)": 3.85,
          "t (ms)": 730.8
         },
         {
          "V (uV)": -1.56,
          "t (ms)": 730.84
         },
         {
          "V (uV)": -3.33,
          "t (ms)": 730.88
         },
         {
          "V (uV)": 17.19,
          "t (ms)": 730.92
         },
         {
          "V (uV)": 4.06,
          "t (ms)": 730.96
         },
         {
          "V (uV)": -7.19,
          "t (ms)": 731
         },
         {
          "V (uV)": -1.98,
          "t (ms)": 731.04
         },
         {
          "V (uV)": -9.48,
          "t (ms)": 731.08
         },
         {
          "V (uV)": -10.42,
          "t (ms)": 731.12
         },
         {
          "V (uV)": 13.75,
          "t (ms)": 731.16
         },
         {
          "V (uV)": 6.35,
          "t (ms)": 731.2
         },
         {
          "V (uV)": -4.9,
          "t (ms)": 731.24
         },
         {
          "V (uV)": 5.94,
          "t (ms)": 731.28
         },
         {
          "V (uV)": -6.56,
          "t (ms)": 731.32
         },
         {
          "V (uV)": -7.6,
          "t (ms)": 731.36
         },
         {
          "V (uV)": 12.4,
          "t (ms)": 731.4
         },
         {
          "V (uV)": 6.67,
          "t (ms)": 731.44
         },
         {
          "V (uV)": -5.52,
          "t (ms)": 731.48
         },
         {
          "V (uV)": 1.98,
          "t (ms)": 731.52
         },
         {
          "V (uV)": 3.02,
          "t (ms)": 731.56
         },
         {
          "V (uV)": -16.77,
          "t (ms)": 731.6
         },
         {
          "V (uV)": -10.31,
          "t (ms)": 731.64
         },
         {
          "V (uV)": -10.1,
          "t (ms)": 731.68
         },
         {
          "V (uV)": -15.52,
          "t (ms)": 731.72
         },
         {
          "V (uV)": -5.94,
          "t (ms)": 731.76
         },
         {
          "V (uV)": 11.88,
          "t (ms)": 731.8
         },
         {
          "V (uV)": -3.13,
          "t (ms)": 731.84
         },
         {
          "V (uV)": -6.46,
          "t (ms)": 731.88
         },
         {
          "V (uV)": 3.02,
          "t (ms)": 731.92
         },
         {
          "V (uV)": -3.13,
          "t (ms)": 731.96
         },
         {
          "V (uV)": -5.83,
          "t (ms)": 732
         },
         {
          "V (uV)": 21.56,
          "t (ms)": 732.04
         },
         {
          "V (uV)": 3.13,
          "t (ms)": 732.08
         },
         {
          "V (uV)": -5.21,
          "t (ms)": 732.12
         },
         {
          "V (uV)": 7.4,
          "t (ms)": 732.16
         },
         {
          "V (uV)": 0.52,
          "t (ms)": 732.2
         },
         {
          "V (uV)": -2.6,
          "t (ms)": 732.24
         },
         {
          "V (uV)": 18.54,
          "t (ms)": 732.28
         },
         {
          "V (uV)": 12.29,
          "t (ms)": 732.32
         },
         {
          "V (uV)": 1.35,
          "t (ms)": 732.36
         },
         {
          "V (uV)": 22.81,
          "t (ms)": 732.4
         },
         {
          "V (uV)": 15,
          "t (ms)": 732.44
         },
         {
          "V (uV)": 1.77,
          "t (ms)": 732.48
         },
         {
          "V (uV)": 9.58,
          "t (ms)": 732.52
         },
         {
          "V (uV)": 7.19,
          "t (ms)": 732.56
         },
         {
          "V (uV)": -6.35,
          "t (ms)": 732.6
         },
         {
          "V (uV)": -1.15,
          "t (ms)": 732.64
         },
         {
          "V (uV)": -1.04,
          "t (ms)": 732.68
         },
         {
          "V (uV)": -6.77,
          "t (ms)": 732.72
         },
         {
          "V (uV)": -4.48,
          "t (ms)": 732.76
         },
         {
          "V (uV)": 8.02,
          "t (ms)": 732.8
         },
         {
          "V (uV)": -11.67,
          "t (ms)": 732.84
         },
         {
          "V (uV)": -12.81,
          "t (ms)": 732.88
         },
         {
          "V (uV)": 1.25,
          "t (ms)": 732.92
         },
         {
          "V (uV)": -3.44,
          "t (ms)": 732.96
         },
         {
          "V (uV)": -5.73,
          "t (ms)": 733
         },
         {
          "V (uV)": 19.69,
          "t (ms)": 733.04
         },
         {
          "V (uV)": -1.46,
          "t (ms)": 733.08
         },
         {
          "V (uV)": -13.13,
          "t (ms)": 733.12
         },
         {
          "V (uV)": -4.79,
          "t (ms)": 733.16
         },
         {
          "V (uV)": -10.63,
          "t (ms)": 733.2
         },
         {
          "V (uV)": -15.94,
          "t (ms)": 733.24
         },
         {
          "V (uV)": 9.9,
          "t (ms)": 733.28
         },
         {
          "V (uV)": -0.31,
          "t (ms)": 733.32
         },
         {
          "V (uV)": -9.38,
          "t (ms)": 733.36
         },
         {
          "V (uV)": -2.71,
          "t (ms)": 733.4
         },
         {
          "V (uV)": -15,
          "t (ms)": 733.44
         },
         {
          "V (uV)": -15.63,
          "t (ms)": 733.48
         },
         {
          "V (uV)": 2.6,
          "t (ms)": 733.52
         },
         {
          "V (uV)": 2.19,
          "t (ms)": 733.56
         },
         {
          "V (uV)": -6.25,
          "t (ms)": 733.6
         },
         {
          "V (uV)": 0.1,
          "t (ms)": 733.64
         },
         {
          "V (uV)": 11.35,
          "t (ms)": 733.68
         },
         {
          "V (uV)": -1.35,
          "t (ms)": 733.72
         },
         {
          "V (uV)": -0.52,
          "t (ms)": 733.76
         },
         {
          "V (uV)": -0.83,
          "t (ms)": 733.8
         },
         {
          "V (uV)": -9.9,
          "t (ms)": 733.84
         },
         {
          "V (uV)": -10.31,
          "t (ms)": 733.88
         },
         {
          "V (uV)": 10.52,
          "t (ms)": 733.92
         },
         {
          "V (uV)": -6.35,
          "t (ms)": 733.96
         },
         {
          "V (uV)": -13.23,
          "t (ms)": 734
         },
         {
          "V (uV)": -4.69,
          "t (ms)": 734.04
         },
         {
          "V (uV)": -9.17,
          "t (ms)": 734.08
         },
         {
          "V (uV)": -11.25,
          "t (ms)": 734.12
         },
         {
          "V (uV)": 9.38,
          "t (ms)": 734.16
         },
         {
          "V (uV)": 0.73,
          "t (ms)": 734.2
         },
         {
          "V (uV)": -7.5,
          "t (ms)": 734.24
         },
         {
          "V (uV)": -2.08,
          "t (ms)": 734.28
         },
         {
          "V (uV)": -13.44,
          "t (ms)": 734.32
         },
         {
          "V (uV)": -18.23,
          "t (ms)": 734.36
         },
         {
          "V (uV)": 3.33,
          "t (ms)": 734.4
         },
         {
          "V (uV)": 4.79,
          "t (ms)": 734.44
         },
         {
          "V (uV)": -4.9,
          "t (ms)": 734.48
         },
         {
          "V (uV)": 11.98,
          "t (ms)": 734.52
         },
         {
          "V (uV)": 10.94,
          "t (ms)": 734.56
         },
         {
          "V (uV)": -1.77,
          "t (ms)": 734.6
         },
         {
          "V (uV)": -0.31,
          "t (ms)": 734.64
         },
         {
          "V (uV)": 6.98,
          "t (ms)": 734.68
         },
         {
          "V (uV)": -8.65,
          "t (ms)": 734.72
         },
         {
          "V (uV)": -10.21,
          "t (ms)": 734.76
         },
         {
          "V (uV)": -3.75,
          "t (ms)": 734.8
         },
         {
          "V (uV)": -3.96,
          "t (ms)": 734.84
         },
         {
          "V (uV)": -5,
          "t (ms)": 734.88
         },
         {
          "V (uV)": 14.69,
          "t (ms)": 734.92
         },
         {
          "V (uV)": 1.46,
          "t (ms)": 734.96
         },
         {
          "V (uV)": -3.13,
          "t (ms)": 735
         },
         {
          "V (uV)": 9.69,
          "t (ms)": 735.04
         },
         {
          "V (uV)": 1.77,
          "t (ms)": 735.08
         },
         {
          "V (uV)": -5.42,
          "t (ms)": 735.12
         },
         {
          "V (uV)": 11.67,
          "t (ms)": 735.16
         },
         {
          "V (uV)": -1.67,
          "t (ms)": 735.2
         },
         {
          "V (uV)": -9.27,
          "t (ms)": 735.24
         },
         {
          "V (uV)": 0.63,
          "t (ms)": 735.28
         },
         {
          "V (uV)": -7.6,
          "t (ms)": 735.32
         },
         {
          "V (uV)": -7.4,
          "t (ms)": 735.36
         },
         {
          "V (uV)": 6.04,
          "t (ms)": 735.4
         },
         {
          "V (uV)": 7.19,
          "t (ms)": 735.44
         },
         {
          "V (uV)": -1.77,
          "t (ms)": 735.48
         },
         {
          "V (uV)": 11.67,
          "t (ms)": 735.52
         },
         {
          "V (uV)": 9.9,
          "t (ms)": 735.56
         },
         {
          "V (uV)": -6.04,
          "t (ms)": 735.6
         },
         {
          "V (uV)": 3.85,
          "t (ms)": 735.64
         },
         {
          "V (uV)": -2.19,
          "t (ms)": 735.68
         },
         {
          "V (uV)": -12.19,
          "t (ms)": 735.72
         },
         {
          "V (uV)": -10.52,
          "t (ms)": 735.76
         },
         {
          "V (uV)": 7.81,
          "t (ms)": 735.8
         },
         {
          "V (uV)": 1.67,
          "t (ms)": 735.84
         },
         {
          "V (uV)": 0.42,
          "t (ms)": 735.88
         },
         {
          "V (uV)": 6.56,
          "t (ms)": 735.92
         },
         {
          "V (uV)": -7.5,
          "t (ms)": 735.96
         },
         {
          "V (uV)": -10.42,
          "t (ms)": 736
         },
         {
          "V (uV)": 17.08,
          "t (ms)": 736.04
         },
         {
          "V (uV)": 0.31,
          "t (ms)": 736.08
         },
         {
          "V (uV)": -6.67,
          "t (ms)": 736.12
         },
         {
          "V (uV)": -0.21,
          "t (ms)": 736.16
         },
         {
          "V (uV)": -8.75,
          "t (ms)": 736.2
         },
         {
          "V (uV)": -8.75,
          "t (ms)": 736.24
         },
         {
          "V (uV)": 9.9,
          "t (ms)": 736.28
         },
         {
          "V (uV)": -4.17,
          "t (ms)": 736.32
         },
         {
          "V (uV)": -11.56,
          "t (ms)": 736.36
         },
         {
          "V (uV)": -2.81,
          "t (ms)": 736.4
         },
         {
          "V (uV)": -13.85,
          "t (ms)": 736.44
         },
         {
          "V (uV)": -11.46,
          "t (ms)": 736.48
         },
         {
          "V (uV)": 5.73,
          "t (ms)": 736.52
         },
         {
          "V (uV)": 21.04,
          "t (ms)": 736.56
         },
         {
          "V (uV)": -0.21,
          "t (ms)": 736.6
         },
         {
          "V (uV)": 0.73,
          "t (ms)": 736.64
         },
         {
          "V (uV)": -2.29,
          "t (ms)": 736.68
         },
         {
          "V (uV)": -4.27,
          "t (ms)": 736.72
         },
         {
          "V (uV)": 3.13,
          "t (ms)": 736.76
         },
         {
          "V (uV)": 16.98,
          "t (ms)": 736.8
         },
         {
          "V (uV)": 1.25,
          "t (ms)": 736.84
         },
         {
          "V (uV)": -8.33,
          "t (ms)": 736.88
         },
         {
          "V (uV)": 2.5,
          "t (ms)": 736.92
         },
         {
          "V (uV)": -6.56,
          "t (ms)": 736.96
         },
         {
          "V (uV)": -13.96,
          "t (ms)": 737
         },
         {
          "V (uV)": 12.19,
          "t (ms)": 737.04
         },
         {
          "V (uV)": -2.81,
          "t (ms)": 737.08
         },
         {
          "V (uV)": -10.94,
          "t (ms)": 737.12
         },
         {
          "V (uV)": 3.96,
          "t (ms)": 737.16
         },
         {
          "V (uV)": 1.88,
          "t (ms)": 737.2
         },
         {
          "V (uV)": 1.25,
          "t (ms)": 737.24
         },
         {
          "V (uV)": 14.38,
          "t (ms)": 737.28
         },
         {
          "V (uV)": 4.27,
          "t (ms)": 737.32
         },
         {
          "V (uV)": -2.29,
          "t (ms)": 737.36
         },
         {
          "V (uV)": 16.67,
          "t (ms)": 737.4
         },
         {
          "V (uV)": 3.96,
          "t (ms)": 737.44
         },
         {
          "V (uV)": -6.67,
          "t (ms)": 737.48
         },
         {
          "V (uV)": 11.35,
          "t (ms)": 737.52
         },
         {
          "V (uV)": 13.65,
          "t (ms)": 737.56
         },
         {
          "V (uV)": -4.69,
          "t (ms)": 737.6
         },
         {
          "V (uV)": 0.73,
          "t (ms)": 737.64
         },
         {
          "V (uV)": 9.38,
          "t (ms)": 737.68
         },
         {
          "V (uV)": -5.94,
          "t (ms)": 737.72
         },
         {
          "V (uV)": -3.02,
          "t (ms)": 737.76
         },
         {
          "V (uV)": 0.21,
          "t (ms)": 737.8
         },
         {
          "V (uV)": -8.23,
          "t (ms)": 737.84
         },
         {
          "V (uV)": -13.85,
          "t (ms)": 737.88
         },
         {
          "V (uV)": 8.13,
          "t (ms)": 737.92
         },
         {
          "V (uV)": -4.17,
          "t (ms)": 737.96
         },
         {
          "V (uV)": -8.13,
          "t (ms)": 738
         },
         {
          "V (uV)": -3.02,
          "t (ms)": 738.04
         },
         {
          "V (uV)": -12.81,
          "t (ms)": 738.08
         },
         {
          "V (uV)": -15.83,
          "t (ms)": 738.12
         },
         {
          "V (uV)": 13.23,
          "t (ms)": 738.16
         },
         {
          "V (uV)": -0.73,
          "t (ms)": 738.2
         },
         {
          "V (uV)": -8.96,
          "t (ms)": 738.24
         },
         {
          "V (uV)": 0,
          "t (ms)": 738.28
         },
         {
          "V (uV)": -9.69,
          "t (ms)": 738.32
         },
         {
          "V (uV)": -13.65,
          "t (ms)": 738.36
         },
         {
          "V (uV)": 4.58,
          "t (ms)": 738.4
         },
         {
          "V (uV)": 4.38,
          "t (ms)": 738.44
         },
         {
          "V (uV)": -7.08,
          "t (ms)": 738.48
         },
         {
          "V (uV)": 8.65,
          "t (ms)": 738.52
         },
         {
          "V (uV)": 11.77,
          "t (ms)": 738.56
         },
         {
          "V (uV)": -1.67,
          "t (ms)": 738.6
         },
         {
          "V (uV)": 3.96,
          "t (ms)": 738.64
         },
         {
          "V (uV)": 11.35,
          "t (ms)": 738.68
         },
         {
          "V (uV)": -0.52,
          "t (ms)": 738.72
         },
         {
          "V (uV)": 2.81,
          "t (ms)": 738.76
         },
         {
          "V (uV)": 3.44,
          "t (ms)": 738.8
         },
         {
          "V (uV)": -2.29,
          "t (ms)": 738.84
         },
         {
          "V (uV)": -6.67,
          "t (ms)": 738.88
         },
         {
          "V (uV)": 13.65,
          "t (ms)": 738.92
         },
         {
          "V (uV)": 0.73,
          "t (ms)": 738.96
         },
         {
          "V (uV)": -5.63,
          "t (ms)": 739
         },
         {
          "V (uV)": 5.42,
          "t (ms)": 739.04
         },
         {
          "V (uV)": -6.56,
          "t (ms)": 739.08
         },
         {
          "V (uV)": -8.96,
          "t (ms)": 739.12
         },
         {
          "V (uV)": 19.9,
          "t (ms)": 739.16
         },
         {
          "V (uV)": 8.75,
          "t (ms)": 739.2
         },
         {
          "V (uV)": -2.6,
          "t (ms)": 739.24
         },
         {
          "V (uV)": 11.15,
          "t (ms)": 739.28
         },
         {
          "V (uV)": 6.04,
          "t (ms)": 739.32
         },
         {
          "V (uV)": 5.52,
          "t (ms)": 739.36
         },
         {
          "V (uV)": 19.06,
          "t (ms)": 739.4
         },
         {
          "V (uV)": 10.31,
          "t (ms)": 739.44
         },
         {
          "V (uV)": -1.25,
          "t (ms)": 739.48
         },
         {
          "V (uV)": 2.92,
          "t (ms)": 739.52
         },
         {
          "V (uV)": -0.83,
          "t (ms)": 739.56
         },
         {
          "V (uV)": -12.92,
          "t (ms)": 739.6
         },
         {
          "V (uV)": -6.15,
          "t (ms)": 739.64
         },
         {
          "V (uV)": -6.35,
          "t (ms)": 739.68
         },
         {
          "V (uV)": -9.79,
          "t (ms)": 739.72
         },
         {
          "V (uV)": -7.08,
          "t (ms)": 739.76
         },
         {
          "V (uV)": 6.88,
          "t (ms)": 739.8
         },
         {
          "V (uV)": -4.79,
          "t (ms)": 739.84
         },
         {
          "V (uV)": -10.21,
          "t (ms)": 739.88
         },
         {
          "V (uV)": -2.4,
          "t (ms)": 739.92
         },
         {
          "V (uV)": -4.9,
          "t (ms)": 739.96
         },
         {
          "V (uV)": -6.56,
          "t (ms)": 740
         },
         {
          "V (uV)": 18.02,
          "t (ms)": 740.04
         },
         {
          "V (uV)": 0.1,
          "t (ms)": 740.08
         },
         {
          "V (uV)": -10.42,
          "t (ms)": 740.12
         },
         {
          "V (uV)": -6.25,
          "t (ms)": 740.16
         },
         {
          "V (uV)": -11.04,
          "t (ms)": 740.2
         },
         {
          "V (uV)": -18.54,
          "t (ms)": 740.24
         },
         {
          "V (uV)": 1.88,
          "t (ms)": 740.28
         },
         {
          "V (uV)": -5.94,
          "t (ms)": 740.32
         },
         {
          "V (uV)": -9.9,
          "t (ms)": 740.36
         },
         {
          "V (uV)": 8.65,
          "t (ms)": 740.4
         },
         {
          "V (uV)": 4.27,
          "t (ms)": 740.44
         },
         {
          "V (uV)": -1.56,
          "t (ms)": 740.48
         },
         {
          "V (uV)": 10,
          "t (ms)": 740.52
         },
         {
          "V (uV)": 31.98,
          "t (ms)": 740.56
         },
         {
          "V (uV)": 10.42,
          "t (ms)": 740.6
         },
         {
          "V (uV)": 6.04,
          "t (ms)": 740.64
         },
         {
          "V (uV)": -0.94,
          "t (ms)": 740.68
         },
         {
          "V (uV)": -10,
          "t (ms)": 740.72
         },
         {
          "V (uV)": -3.44,
          "t (ms)": 740.76
         },
         {
          "V (uV)": 17.92,
          "t (ms)": 740.8
         },
         {
          "V (uV)": 0.31,
          "t (ms)": 740.84
         },
         {
          "V (uV)": -4.9,
          "t (ms)": 740.88
         },
         {
          "V (uV)": 1.88,
          "t (ms)": 740.92
         },
         {
          "V (uV)": -5.42,
          "t (ms)": 740.96
         },
         {
          "V (uV)": -6.35,
          "t (ms)": 741
         },
         {
          "V (uV)": 18.65,
          "t (ms)": 741.04
         },
         {
          "V (uV)": 1.35,
          "t (ms)": 741.08
         },
         {
          "V (uV)": -6.88,
          "t (ms)": 741.12
         },
         {
          "V (uV)": 4.48,
          "t (ms)": 741.16
         },
         {
          "V (uV)": -8.54,
          "t (ms)": 741.2
         },
         {
          "V (uV)": -12.4,
          "t (ms)": 741.24
         },
         {
          "V (uV)": 5.63,
          "t (ms)": 741.28
         },
         {
          "V (uV)": -3.33,
          "t (ms)": 741.32
         },
         {
          "V (uV)": -5.94,
          "t (ms)": 741.36
         },
         {
          "V (uV)": 7.81,
          "t (ms)": 741.4
         },
         {
          "V (uV)": 1.56,
          "t (ms)": 741.44
         },
         {
          "V (uV)": -6.25,
          "t (ms)": 741.48
         },
         {
          "V (uV)": 9.69,
          "t (ms)": 741.52
         },
         {
          "V (uV)": 16.77,
          "t (ms)": 741.56
         },
         {
          "V (uV)": 5,
          "t (ms)": 741.6
         },
         {
          "V (uV)": 9.17,
          "t (ms)": 741.64
         },
         {
          "V (uV)": 10.94,
          "t (ms)": 741.68
         },
         {
          "V (uV)": -5,
          "t (ms)": 741.72
         },
         {
          "V (uV)": 0.21,
          "t (ms)": 741.76
         },
         {
          "V (uV)": 5.73,
          "t (ms)": 741.8
         },
         {
          "V (uV)": -10.94,
          "t (ms)": 741.84
         },
         {
          "V (uV)": -8.02,
          "t (ms)": 741.88
         },
         {
          "V (uV)": 20.94,
          "t (ms)": 741.92
         },
         {
          "V (uV)": 7.5,
          "t (ms)": 741.96
         },
         {
          "V (uV)": -3.44,
          "t (ms)": 742
         },
         {
          "V (uV)": -0.52,
          "t (ms)": 742.04
         },
         {
          "V (uV)": -9.58,
          "t (ms)": 742.08
         },
         {
          "V (uV)": -13.13,
          "t (ms)": 742.12
         },
         {
          "V (uV)": 18.33,
          "t (ms)": 742.16
         },
         {
          "V (uV)": 7.4,
          "t (ms)": 742.2
         },
         {
          "V (uV)": -3.44,
          "t (ms)": 742.24
         },
         {
          "V (uV)": 0.94,
          "t (ms)": 742.28
         },
         {
          "V (uV)": -8.23,
          "t (ms)": 742.32
         },
         {
          "V (uV)": -13.44,
          "t (ms)": 742.36
         },
         {
          "V (uV)": 5.42,
          "t (ms)": 742.4
         },
         {
          "V (uV)": 4.48,
          "t (ms)": 742.44
         },
         {
          "V (uV)": -5.1,
          "t (ms)": 742.48
         },
         {
          "V (uV)": 8.44,
          "t (ms)": 742.52
         },
         {
          "V (uV)": 9.69,
          "t (ms)": 742.56
         },
         {
          "V (uV)": -2.6,
          "t (ms)": 742.6
         },
         {
          "V (uV)": 7.08,
          "t (ms)": 742.64
         },
         {
          "V (uV)": 18.85,
          "t (ms)": 742.68
         },
         {
          "V (uV)": -0.21,
          "t (ms)": 742.72
         },
         {
          "V (uV)": -6.35,
          "t (ms)": 742.76
         },
         {
          "V (uV)": -1.25,
          "t (ms)": 742.8
         },
         {
          "V (uV)": -9.69,
          "t (ms)": 742.84
         },
         {
          "V (uV)": -6.67,
          "t (ms)": 742.88
         },
         {
          "V (uV)": 16.88,
          "t (ms)": 742.92
         },
         {
          "V (uV)": 0.94,
          "t (ms)": 742.96
         },
         {
          "V (uV)": -6.56,
          "t (ms)": 743
         },
         {
          "V (uV)": 4.27,
          "t (ms)": 743.04
         },
         {
          "V (uV)": -2.4,
          "t (ms)": 743.08
         },
         {
          "V (uV)": -12.19,
          "t (ms)": 743.12
         },
         {
          "V (uV)": 6.88,
          "t (ms)": 743.16
         },
         {
          "V (uV)": -0.1,
          "t (ms)": 743.2
         },
         {
          "V (uV)": -5.52,
          "t (ms)": 743.24
         },
         {
          "V (uV)": 9.48,
          "t (ms)": 743.28
         },
         {
          "V (uV)": 6.15,
          "t (ms)": 743.32
         },
         {
          "V (uV)": 4.69,
          "t (ms)": 743.36
         },
         {
          "V (uV)": 22.6,
          "t (ms)": 743.4
         },
         {
          "V (uV)": 18.44,
          "t (ms)": 743.44
         },
         {
          "V (uV)": 4.06,
          "t (ms)": 743.48
         },
         {
          "V (uV)": 6.67,
          "t (ms)": 743.52
         },
         {
          "V (uV)": 7.4,
          "t (ms)": 743.56
         },
         {
          "V (uV)": -5.21,
          "t (ms)": 743.6
         },
         {
          "V (uV)": 1.46,
          "t (ms)": 743.64
         },
         {
          "V (uV)": -4.17,
          "t (ms)": 743.68
         },
         {
          "V (uV)": -9.79,
          "t (ms)": 743.72
         },
         {
          "V (uV)": -6.67,
          "t (ms)": 743.76
         },
         {
          "V (uV)": 4.79,
          "t (ms)": 743.8
         },
         {
          "V (uV)": -11.15,
          "t (ms)": 743.84
         },
         {
          "V (uV)": -8.23,
          "t (ms)": 743.88
         },
         {
          "V (uV)": -3.75,
          "t (ms)": 743.92
         }
        ]
       },
       "encoding": {
        "order": {
         "field": "t (ms)",
         "sort": "ascending",
         "type": "quantitative"
        },
        "x": {
         "field": "V (uV)",
         "title": "V (µV)",
         "type": "quantitative"
        },
        "y": {
         "field": "t (ms)",
         "scale": {
          "zero": false
         },
         "type": "quantitative"
        }
       },
       "mark": {
        "strokeWidth": 0.75,
        "type": "line"
       }
      },
      "image/png": "[encoded data removed]",
      "text/plain": [
       "<VegaLite 2 object>\n",
       "\n",
       "If you see this message, it means the renderer has not been properly enabled\n",
       "for the frontend that you are using. For more information, see\n",
       "https://altair-viz.github.io/user_guide/troubleshooting.html\n"
      ]
     },
     "execution_count": 25,
     "metadata": {},
     "output_type": "execute_result"
    }
   ],
   "source": [
    "#this is a problem beceause it's connecting datapoints but not in the correct order\n",
    "#but we want it to be vertical\n",
    "alt.Chart(df\n",
    "    ).mark_line(\n",
    "        strokeWidth=0.75\n",
    "    ).encode(\n",
    "        y=alt.Y('t (ms):Q', scale=alt.Scale(zero=False)), \n",
    "        x=alt.X('V (uV):Q', title='V (µV)'),\n",
    "        order=alt.Order('t (ms):Q', sort='ascending')\n",
    "    )"
   ]
  },
  {
   "cell_type": "code",
   "execution_count": 38,
   "metadata": {},
   "outputs": [],
   "source": [
    "# for a smooth plot\n",
    "\n",
    "# we need the x-values\n",
    "# np.linspace gives a given number of points (400) betwen start and end points (-15 and 15), and when connected, they will look smooth. You can do more or less, but 400 works well\n",
    "x = np.linspace(-15, 15, 400)\n",
    "\n",
    "# now le'ts get y values we'll use\n",
    "# the normalized intensity of an airydisk\n",
    "norm_I = 4 * (scipy.special.j1(x) / x)**2"
   ]
  },
  {
   "cell_type": "code",
   "execution_count": 39,
   "metadata": {},
   "outputs": [
    {
     "data": {
      "text/html": [
       "<div>\n",
       "<style scoped>\n",
       "    .dataframe tbody tr th:only-of-type {\n",
       "        vertical-align: middle;\n",
       "    }\n",
       "\n",
       "    .dataframe tbody tr th {\n",
       "        vertical-align: top;\n",
       "    }\n",
       "\n",
       "    .dataframe thead th {\n",
       "        text-align: right;\n",
       "    }\n",
       "</style>\n",
       "<table border=\"1\" class=\"dataframe\">\n",
       "  <thead>\n",
       "    <tr style=\"text-align: right;\">\n",
       "      <th></th>\n",
       "      <th>x</th>\n",
       "      <th>norm_I</th>\n",
       "    </tr>\n",
       "  </thead>\n",
       "  <tbody>\n",
       "    <tr>\n",
       "      <th>0</th>\n",
       "      <td>-15.000000</td>\n",
       "      <td>0.000748</td>\n",
       "    </tr>\n",
       "    <tr>\n",
       "      <th>1</th>\n",
       "      <td>-14.924812</td>\n",
       "      <td>0.000767</td>\n",
       "    </tr>\n",
       "    <tr>\n",
       "      <th>2</th>\n",
       "      <td>-14.849624</td>\n",
       "      <td>0.000777</td>\n",
       "    </tr>\n",
       "    <tr>\n",
       "      <th>3</th>\n",
       "      <td>-14.774436</td>\n",
       "      <td>0.000779</td>\n",
       "    </tr>\n",
       "    <tr>\n",
       "      <th>4</th>\n",
       "      <td>-14.699248</td>\n",
       "      <td>0.000772</td>\n",
       "    </tr>\n",
       "  </tbody>\n",
       "</table>\n",
       "</div>"
      ],
      "text/plain": [
       "           x    norm_I\n",
       "0 -15.000000  0.000748\n",
       "1 -14.924812  0.000767\n",
       "2 -14.849624  0.000777\n",
       "3 -14.774436  0.000779\n",
       "4 -14.699248  0.000772"
      ]
     },
     "execution_count": 39,
     "metadata": {},
     "output_type": "execute_result"
    }
   ],
   "source": [
    "#those are both numpy arrays, but we need them in a pandas df to use altair\n",
    "df_airy = pd.DataFrame(data={'x': x,\n",
    "                             'norm_I': norm_I})\n",
    "#keys are column headings, and values populate below\n",
    "\n",
    "df_airy.head()"
   ]
  },
  {
   "cell_type": "code",
   "execution_count": 40,
   "metadata": {},
   "outputs": [
    {
     "data": {
      "application/vnd.vegalite.v2+json": {
       "$schema": "https://vega.github.io/schema/vega-lite/v2.4.3.json",
       "config": {
        "view": {
         "height": 300,
         "width": 400
        }
       },
       "data": {
        "values": [
         {
          "norm_I": 0.000747869629432488,
          "x": -15
         },
         {
          "norm_I": 0.0007666845741053045,
          "x": -14.924812030075188
         },
         {
          "norm_I": 0.0007772102463126346,
          "x": -14.849624060150376
         },
         {
          "norm_I": 0.0007790840608934203,
          "x": -14.774436090225564
         },
         {
          "norm_I": 0.0007721312263746704,
          "x": -14.699248120300751
         },
         {
          "norm_I": 0.0007563745434148454,
          "x": -14.62406015037594
         },
         {
          "norm_I": 0.0007320400886770647,
          "x": -14.548872180451127
         },
         {
          "norm_I": 0.0006995585323981154,
          "x": -14.473684210526315
         },
         {
          "norm_I": 0.000659561926470377,
          "x": -14.398496240601503
         },
         {
          "norm_I": 0.0006128758946206753,
          "x": -14.323308270676693
         },
         {
          "norm_I": 0.0005605072553799506,
          "x": -14.24812030075188
         },
         {
          "norm_I": 0.0005036272099700693,
          "x": -14.172932330827068
         },
         {
          "norm_I": 0.00044355032885987013,
          "x": -14.097744360902256
         },
         {
          "norm_I": 0.0003817096703662172,
          "x": -14.022556390977444
         },
         {
          "norm_I": 0.0003196284600806268,
          "x": -13.947368421052632
         },
         {
          "norm_I": 0.00025888884889646227,
          "x": -13.87218045112782
         },
         {
          "norm_I": 0.00020109834787725812,
          "x": -13.796992481203008
         },
         {
          "norm_I": 0.0001478546081448351,
          "x": -13.721804511278195
         },
         {
          "norm_I": 0.00010070927154410335,
          "x": -13.646616541353383
         },
         {
          "norm_I": 6.113166143736271e-05,
          "x": -13.571428571428571
         },
         {
          "norm_I": 3.047311122255192e-05,
          "x": -13.496240601503759
         },
         {
          "norm_I": 9.93273997245117e-06,
          "x": -13.421052631578947
         },
         {
          "norm_I": 5.254791890444474e-07,
          "x": -13.345864661654135
         },
         {
          "norm_I": 3.0531316370915714e-06,
          "x": -13.270676691729324
         },
         {
          "norm_I": 1.8079202504903197e-05,
          "x": -13.195488721804512
         },
         {
          "norm_I": 4.590818505532024e-05,
          "x": -13.1203007518797
         },
         {
          "norm_I": 8.656990817306705e-05,
          "x": -13.045112781954888
         },
         {
          "norm_I": 0.00013980946285981877,
          "x": -12.969924812030076
         },
         {
          "norm_I": 0.00020508312021487403,
          "x": -12.894736842105264
         },
         {
          "norm_I": 0.0002815605365528272,
          "x": -12.819548872180452
         },
         {
          "norm_I": 0.00036813341415477724,
          "x": -12.74436090225564
         },
         {
          "norm_I": 0.0004634306511156083,
          "x": -12.669172932330827
         },
         {
          "norm_I": 0.0005658398734689501,
          "x": -12.593984962406015
         },
         {
          "norm_I": 0.0006735351000708878,
          "x": -12.518796992481203
         },
         {
          "norm_I": 0.0007845101485724637,
          "x": -12.443609022556391
         },
         {
          "norm_I": 0.0008966172522624624,
          "x": -12.368421052631579
         },
         {
          "norm_I": 0.001007610225691349,
          "x": -12.293233082706767
         },
         {
          "norm_I": 0.0011151913948286986,
          "x": -12.218045112781954
         },
         {
          "norm_I": 0.0012170613979882068,
          "x": -12.142857142857142
         },
         {
          "norm_I": 0.0013109708696339823,
          "x": -12.06766917293233
         },
         {
          "norm_I": 0.001394772942983169,
          "x": -11.992481203007518
         },
         {
          "norm_I": 0.0014664754512734536,
          "x": -11.917293233082706
         },
         {
          "norm_I": 0.0015242916735503237,
          "x": -11.842105263157894
         },
         {
          "norm_I": 0.0015666884603289407,
          "x": -11.766917293233083
         },
         {
          "norm_I": 0.001592430588536436,
          "x": -11.691729323308271
         },
         {
          "norm_I": 0.0016006202342999873,
          "x": -11.61654135338346
         },
         {
          "norm_I": 0.0015907305164655893,
          "x": -11.541353383458647
         },
         {
          "norm_I": 0.0015626321527384235,
          "x": -11.466165413533835
         },
         {
          "norm_I": 0.0015166123830240399,
          "x": -11.390977443609023
         },
         {
          "norm_I": 0.0014533854493866414,
          "x": -11.31578947368421
         },
         {
          "norm_I": 0.0013740940769797533,
          "x": -11.240601503759398
         },
         {
          "norm_I": 0.0012803015728092924,
          "x": -11.165413533834586
         },
         {
          "norm_I": 0.001173974346270147,
          "x": -11.090225563909774
         },
         {
          "norm_I": 0.001057454853659298,
          "x": -11.015037593984962
         },
         {
          "norm_I": 0.0009334251745642281,
          "x": -10.939849624060152
         },
         {
          "norm_I": 0.0008048616371230267,
          "x": -10.86466165413534
         },
         {
          "norm_I": 0.0006749811174070452,
          "x": -10.789473684210527
         },
         {
          "norm_I": 0.0005471798412095955,
          "x": -10.714285714285715
         },
         {
          "norm_I": 0.0004249657099089738,
          "x": -10.639097744360903
         },
         {
          "norm_I": 0.00031188535142365713,
          "x": -10.563909774436091
         },
         {
          "norm_I": 0.00021144725833646127,
          "x": -10.488721804511279
         },
         {
          "norm_I": 0.00012704251399825214,
          "x": -10.413533834586467
         },
         {
          "norm_I": 6.186472010736815e-05,
          "x": -10.338345864661655
         },
         {
          "norm_I": 1.883082257226911e-05,
          "x": -10.263157894736842
         },
         {
          "norm_I": 5.045835543798885e-07,
          "x": -10.18796992481203
         },
         {
          "norm_I": 9.024464160401309e-06,
          "x": -10.112781954887218
         },
         {
          "norm_I": 4.6037662631044375e-05,
          "x": -10.037593984962406
         },
         {
          "norm_I": 0.00011264199605227176,
          "x": -9.962406015037594
         },
         {
          "norm_I": 0.00020933721930879715,
          "x": -9.887218045112782
         },
         {
          "norm_I": 0.00033598724366925724,
          "x": -9.81203007518797
         },
         {
          "norm_I": 0.0004917945502651279,
          "x": -9.736842105263158
         },
         {
          "norm_I": 0.000675287892796382,
          "x": -9.661654135338345
         },
         {
          "norm_I": 0.0008843241518173301,
          "x": -9.586466165413533
         },
         {
          "norm_I": 0.0011161049434056205,
          "x": -9.511278195488721
         },
         {
          "norm_I": 0.0013672083020609014,
          "x": -9.436090225563909
         },
         {
          "norm_I": 0.0016336354561099485,
          "x": -9.360902255639097
         },
         {
          "norm_I": 0.001910872399060275,
          "x": -9.285714285714286
         },
         {
          "norm_I": 0.0021939656380632003,
          "x": -9.210526315789474
         },
         {
          "norm_I": 0.0024776111771116363,
          "x": -9.135338345864662
         },
         {
          "norm_I": 0.0027562554742647676,
          "x": -9.06015037593985
         },
         {
          "norm_I": 0.0030242068056662947,
          "x": -8.984962406015038
         },
         {
          "norm_I": 0.0032757551810360785,
          "x": -8.909774436090226
         },
         {
          "norm_I": 0.003505298692194085,
          "x": -8.834586466165414
         },
         {
          "norm_I": 0.003707473944314324,
          "x": -8.759398496240602
         },
         {
          "norm_I": 0.003877288024935038,
          "x": -8.68421052631579
         },
         {
          "norm_I": 0.004010249313707392,
          "x": -8.609022556390979
         },
         {
          "norm_I": 0.004102494331271994,
          "x": -8.533834586466167
         },
         {
          "norm_I": 0.004150907772603123,
          "x": -8.458646616541355
         },
         {
          "norm_I": 0.004153232871913656,
          "x": -8.383458646616543
         },
         {
          "norm_I": 0.004108169305097946,
          "x": -8.30827067669173
         },
         {
          "norm_I": 0.004015455953029027,
          "x": -8.233082706766918
         },
         {
          "norm_I": 0.00387593602507414,
          "x": -8.157894736842106
         },
         {
          "norm_I": 0.003691602276089667,
          "x": -8.082706766917294
         },
         {
          "norm_I": 0.0034656203399059744,
          "x": -8.007518796992482
         },
         {
          "norm_I": 0.0032023285447753884,
          "x": -7.93233082706767
         },
         {
          "norm_I": 0.002907212967168124,
          "x": -7.857142857142858
         },
         {
          "norm_I": 0.0025868569143106123,
          "x": -7.7819548872180455
         },
         {
          "norm_I": 0.0022488644965906446,
          "x": -7.706766917293233
         },
         {
          "norm_I": 0.0019017584510807083,
          "x": -7.631578947368421
         },
         {
          "norm_I": 0.0015548528987872773,
          "x": -7.556390977443609
         },
         {
          "norm_I": 0.0012181022519276246,
          "x": -7.481203007518797
         },
         {
          "norm_I": 0.0009019280240883836,
          "x": -7.406015037593986
         },
         {
          "norm_I": 0.0006170258256187934,
          "x": -7.330827067669174
         },
         {
          "norm_I": 0.0003741553388760666,
          "x": -7.255639097744361
         },
         {
          "norm_I": 0.00018391655269730836,
          "x": -7.180451127819549
         },
         {
          "norm_I": 5.651598254176214e-05,
          "x": -7.105263157894737
         },
         {
          "norm_I": 1.5270022269133622e-06,
          "x": -7.030075187969925
         },
         {
          "norm_I": 2.764875564023479e-05,
          "x": -6.954887218045114
         },
         {
          "norm_I": 0.00014246839346807166,
          "x": -6.879699248120302
         },
         {
          "norm_I": 0.0003522315829043234,
          "x": -6.8045112781954895
         },
         {
          "norm_I": 0.0006616263605527495,
          "x": -6.729323308270677
         },
         {
          "norm_I": 0.0010735854345545334,
          "x": -6.654135338345865
         },
         {
          "norm_I": 0.0015891119869057314,
          "x": -6.578947368421053
         },
         {
          "norm_I": 0.002207133877962822,
          "x": -6.503759398496241
         },
         {
          "norm_I": 0.0029243909107946444,
          "x": -6.428571428571429
         },
         {
          "norm_I": 0.003735359473471552,
          "x": -6.353383458646617
         },
         {
          "norm_I": 0.004632218444407278,
          "x": -6.2781954887218046
         },
         {
          "norm_I": 0.005604859723005284,
          "x": -6.203007518796992
         },
         {
          "norm_I": 0.006640946140324825,
          "x": -6.12781954887218
         },
         {
          "norm_I": 0.0077260188191532655,
          "x": -6.052631578947368
         },
         {
          "norm_I": 0.008843655298230363,
          "x": -5.977443609022558
         },
         {
          "norm_I": 0.009975678921409166,
          "x": -5.902255639097746
         },
         {
          "norm_I": 0.011102419130632275,
          "x": -5.8270676691729335
         },
         {
          "norm_I": 0.012203021404372955,
          "x": -5.751879699248121
         },
         {
          "norm_I": 0.013255804664314365,
          "x": -5.676691729323309
         },
         {
          "norm_I": 0.014238663047071378,
          "x": -5.601503759398497
         },
         {
          "norm_I": 0.015129508019891387,
          "x": -5.526315789473685
         },
         {
          "norm_I": 0.01590674592511635,
          "x": -5.451127819548873
         },
         {
          "norm_I": 0.01654978518351961,
          "x": -5.375939849624061
         },
         {
          "norm_I": 0.017039566587126635,
          "x": -5.3007518796992485
         },
         {
          "norm_I": 0.017359109383105226,
          "x": -5.225563909774436
         },
         {
          "norm_I": 0.017494065206454856,
          "x": -5.150375939849624
         },
         {
          "norm_I": 0.017433271374338002,
          "x": -5.075187969924812
         },
         {
          "norm_I": 0.017169294621626904,
          "x": -5
         },
         {
          "norm_I": 0.016698956046852346,
          "x": -4.924812030075188
         },
         {
          "norm_I": 0.016023827859880952,
          "x": -4.849624060150376
         },
         {
          "norm_I": 0.015150692485139144,
          "x": -4.774436090225564
         },
         {
          "norm_I": 0.014091954682866408,
          "x": -4.699248120300753
         },
         {
          "norm_I": 0.01286599760938238,
          "x": -4.624060150375941
         },
         {
          "norm_I": 0.011497474147082076,
          "x": -4.548872180451129
         },
         {
          "norm_I": 0.010017525394853153,
          "x": -4.473684210526317
         },
         {
          "norm_I": 0.00846391891645498,
          "x": -4.398496240601505
         },
         {
          "norm_I": 0.0068811001922936274,
          "x": -4.3233082706766925
         },
         {
          "norm_I": 0.0053201517007601075,
          "x": -4.24812030075188
         },
         {
          "norm_I": 0.0038386551583288885,
          "x": -4.172932330827068
         },
         {
          "norm_I": 0.0025004536601715473,
          "x": -4.097744360902256
         },
         {
          "norm_I": 0.0013753117702805595,
          "x": -4.022556390977444
         },
         {
          "norm_I": 0.0005384729952755392,
          "x": -3.947368421052632
         },
         {
          "norm_I": 7.011552075277868e-05,
          "x": -3.8721804511278197
         },
         {
          "norm_I": 5.4708573380167685e-05,
          "x": -3.7969924812030076
         },
         {
          "norm_I": 0.0005802732749182914,
          "x": -3.7218045112781954
         },
         {
          "norm_I": 0.0017375533540952433,
          "x": -3.6466165413533833
         },
         {
          "norm_I": 0.0036191025563744065,
          "x": -3.571428571428573
         },
         {
          "norm_I": 0.006318297017531915,
          "x": -3.496240601503761
         },
         {
          "norm_I": 0.009928282222152423,
          "x": -3.4210526315789487
         },
         {
          "norm_I": 0.014540865430713874,
          "x": -3.3458646616541365
         },
         {
          "norm_I": 0.020245365607761984,
          "x": -3.2706766917293244
         },
         {
          "norm_I": 0.027127433898878468,
          "x": -3.1954887218045123
         },
         {
          "norm_I": 0.035267858567346703,
          "x": -3.1203007518797
         },
         {
          "norm_I": 0.04474136899608397,
          "x": -3.045112781954888
         },
         {
          "norm_I": 0.05561545387214157,
          "x": -2.969924812030076
         },
         {
          "norm_I": 0.06794920898786774,
          "x": -2.8947368421052637
         },
         {
          "norm_I": 0.08179223020530407,
          "x": -2.8195488721804516
         },
         {
          "norm_I": 0.0971835670319831,
          "x": -2.7443609022556394
         },
         {
          "norm_I": 0.11415075194342186,
          "x": -2.6691729323308273
         },
         {
          "norm_I": 0.13270892005975246,
          "x": -2.593984962406015
         },
         {
          "norm_I": 0.15286003304372794,
          "x": -2.518796992481203
         },
         {
          "norm_I": 0.174592220140582,
          "x": -2.443609022556391
         },
         {
          "norm_I": 0.19787924813581315,
          "x": -2.3684210526315788
         },
         {
          "norm_I": 0.2226801306768713,
          "x": -2.2932330827067684
         },
         {
          "norm_I": 0.24893888590382807,
          "x": -2.2180451127819563
         },
         {
          "norm_I": 0.27658444967997736,
          "x": -2.142857142857144
         },
         {
          "norm_I": 0.30553074992614654,
          "x": -2.067669172932332
         },
         {
          "norm_I": 0.3356769456645771,
          "x": -1.9924812030075199
         },
         {
          "norm_I": 0.3669078323939724,
          "x": -1.9172932330827077
         },
         {
          "norm_I": 0.39909441337261314,
          "x": -1.8421052631578956
         },
         {
          "norm_I": 0.43209463430854367,
          "x": -1.7669172932330834
         },
         {
          "norm_I": 0.4657542768727747,
          "x": -1.6917293233082713
         },
         {
          "norm_I": 0.4999080043918367,
          "x": -1.6165413533834592
         },
         {
          "norm_I": 0.5343805510683737,
          "x": -1.541353383458647
         },
         {
          "norm_I": 0.5689880441510876,
          "x": -1.466165413533835
         },
         {
          "norm_I": 0.6035394466556365,
          "x": -1.3909774436090228
         },
         {
          "norm_I": 0.637838106552253,
          "x": -1.3157894736842106
         },
         {
          "norm_I": 0.6716833968086449,
          "x": -1.2406015037593985
         },
         {
          "norm_I": 0.7048724293306672,
          "x": -1.1654135338345881
         },
         {
          "norm_I": 0.7372018246988296,
          "x": -1.090225563909776
         },
         {
          "norm_I": 0.7684695186734709,
          "x": -1.0150375939849638
         },
         {
          "norm_I": 0.7984765857503114,
          "x": -0.9398496240601517
         },
         {
          "norm_I": 0.8270290596025539,
          "x": -0.8646616541353396
         },
         {
          "norm_I": 0.853939730054159,
          "x": -0.7894736842105274
         },
         {
          "norm_I": 0.8790298962959626,
          "x": -0.7142857142857153
         },
         {
          "norm_I": 0.9021310563832642,
          "x": -0.6390977443609032
         },
         {
          "norm_I": 0.9230865136377777,
          "x": -0.563909774436091
         },
         {
          "norm_I": 0.941752881412416,
          "x": -0.4887218045112789
         },
         {
          "norm_I": 0.9580014687546264,
          "x": -0.41353383458646675
         },
         {
          "norm_I": 0.9717195308097839,
          "x": -0.3383458646616546
         },
         {
          "norm_I": 0.9828113693242759,
          "x": -0.2631578947368425
         },
         {
          "norm_I": 0.9911992703189384,
          "x": -0.18796992481203034
         },
         {
          "norm_I": 0.9968242678853925,
          "x": -0.1127819548872182
         },
         {
          "norm_I": 0.9996467250860054,
          "x": -0.03759398496240607
         },
         {
          "norm_I": 0.9996467250860054,
          "x": 0.03759398496240607
         },
         {
          "norm_I": 0.9968242678853929,
          "x": 0.11278195488721643
         },
         {
          "norm_I": 0.9911992703189382,
          "x": 0.18796992481202857
         },
         {
          "norm_I": 0.9828113693242757,
          "x": 0.2631578947368407
         },
         {
          "norm_I": 0.9717195308097839,
          "x": 0.33834586466165284
         },
         {
          "norm_I": 0.9580014687546273,
          "x": 0.413533834586465
         },
         {
          "norm_I": 0.941752881412416,
          "x": 0.4887218045112771
         },
         {
          "norm_I": 0.923086513637778,
          "x": 0.5639097744360893
         },
         {
          "norm_I": 0.9021310563832647,
          "x": 0.6390977443609014
         },
         {
          "norm_I": 0.8790298962959627,
          "x": 0.7142857142857135
         },
         {
          "norm_I": 0.8539397300541596,
          "x": 0.7894736842105257
         },
         {
          "norm_I": 0.8270290596025545,
          "x": 0.8646616541353378
         },
         {
          "norm_I": 0.798476585750312,
          "x": 0.9398496240601499
         },
         {
          "norm_I": 0.7684695186734722,
          "x": 1.0150375939849603
         },
         {
          "norm_I": 0.7372018246988304,
          "x": 1.0902255639097724
         },
         {
          "norm_I": 0.7048724293306688,
          "x": 1.1654135338345846
         },
         {
          "norm_I": 0.671683396808646,
          "x": 1.2406015037593967
         },
         {
          "norm_I": 0.6378381065522539,
          "x": 1.3157894736842088
         },
         {
          "norm_I": 0.6035394466556374,
          "x": 1.390977443609021
         },
         {
          "norm_I": 0.5689880441510888,
          "x": 1.4661654135338331
         },
         {
          "norm_I": 0.5343805510683741,
          "x": 1.5413533834586453
         },
         {
          "norm_I": 0.49990800439183797,
          "x": 1.6165413533834574
         },
         {
          "norm_I": 0.4657542768727755,
          "x": 1.6917293233082695
         },
         {
          "norm_I": 0.4320946343085441,
          "x": 1.7669172932330817
         },
         {
          "norm_I": 0.39909441337261403,
          "x": 1.8421052631578938
         },
         {
          "norm_I": 0.3669078323939732,
          "x": 1.917293233082706
         },
         {
          "norm_I": 0.33567694566457806,
          "x": 1.992481203007518
         },
         {
          "norm_I": 0.30553074992614715,
          "x": 2.06766917293233
         },
         {
          "norm_I": 0.27658444967997803,
          "x": 2.1428571428571423
         },
         {
          "norm_I": 0.2489388859038288,
          "x": 2.2180451127819545
         },
         {
          "norm_I": 0.22268013067687203,
          "x": 2.2932330827067666
         },
         {
          "norm_I": 0.19787924813581315,
          "x": 2.3684210526315788
         },
         {
          "norm_I": 0.174592220140582,
          "x": 2.443609022556391
         },
         {
          "norm_I": 0.15286003304372794,
          "x": 2.518796992481203
         },
         {
          "norm_I": 0.13270892005975246,
          "x": 2.593984962406015
         },
         {
          "norm_I": 0.11415075194342186,
          "x": 2.6691729323308273
         },
         {
          "norm_I": 0.0971835670319831,
          "x": 2.7443609022556394
         },
         {
          "norm_I": 0.08179223020530407,
          "x": 2.8195488721804516
         },
         {
          "norm_I": 0.06794920898786774,
          "x": 2.8947368421052637
         },
         {
          "norm_I": 0.05561545387214157,
          "x": 2.969924812030076
         },
         {
          "norm_I": 0.04474136899608443,
          "x": 3.0451127819548844
         },
         {
          "norm_I": 0.03526785856734714,
          "x": 3.1203007518796966
         },
         {
          "norm_I": 0.027127433898878825,
          "x": 3.1954887218045087
         },
         {
          "norm_I": 0.020245365607762293,
          "x": 3.270676691729321
         },
         {
          "norm_I": 0.014540865430714135,
          "x": 3.345864661654133
         },
         {
          "norm_I": 0.009928282222152623,
          "x": 3.421052631578945
         },
         {
          "norm_I": 0.006318297017532063,
          "x": 3.4962406015037573
         },
         {
          "norm_I": 0.0036191025563745206,
          "x": 3.5714285714285694
         },
         {
          "norm_I": 0.0017375533540952821,
          "x": 3.6466165413533815
         },
         {
          "norm_I": 0.0005802732749183097,
          "x": 3.7218045112781937
         },
         {
          "norm_I": 5.470857338017363e-05,
          "x": 3.796992481203006
         },
         {
          "norm_I": 7.011552075277245e-05,
          "x": 3.872180451127818
         },
         {
          "norm_I": 0.0005384729952755235,
          "x": 3.94736842105263
         },
         {
          "norm_I": 0.001375311770280536,
          "x": 4.022556390977442
         },
         {
          "norm_I": 0.0025004536601715187,
          "x": 4.097744360902254
         },
         {
          "norm_I": 0.0038386551583288555,
          "x": 4.1729323308270665
         },
         {
          "norm_I": 0.005320151700760071,
          "x": 4.248120300751879
         },
         {
          "norm_I": 0.006881100192293583,
          "x": 4.323308270676691
         },
         {
          "norm_I": 0.008463918916454939,
          "x": 4.398496240601503
         },
         {
          "norm_I": 0.010017525394853115,
          "x": 4.473684210526315
         },
         {
          "norm_I": 0.011497474147082043,
          "x": 4.548872180451127
         },
         {
          "norm_I": 0.012865997609382344,
          "x": 4.624060150375939
         },
         {
          "norm_I": 0.014091954682866375,
          "x": 4.6992481203007515
         },
         {
          "norm_I": 0.015150692485139144,
          "x": 4.774436090225564
         },
         {
          "norm_I": 0.016023827859880952,
          "x": 4.849624060150376
         },
         {
          "norm_I": 0.016698956046852346,
          "x": 4.924812030075188
         },
         {
          "norm_I": 0.017169294621626904,
          "x": 5
         },
         {
          "norm_I": 0.017433271374338002,
          "x": 5.075187969924812
         },
         {
          "norm_I": 0.017494065206454856,
          "x": 5.150375939849624
         },
         {
          "norm_I": 0.017359109383105226,
          "x": 5.225563909774436
         },
         {
          "norm_I": 0.017039566587126635,
          "x": 5.3007518796992485
         },
         {
          "norm_I": 0.01654978518351961,
          "x": 5.375939849624061
         },
         {
          "norm_I": 0.01590674592511635,
          "x": 5.451127819548873
         },
         {
          "norm_I": 0.015129508019891418,
          "x": 5.526315789473681
         },
         {
          "norm_I": 0.014238663047071411,
          "x": 5.6015037593984935
         },
         {
          "norm_I": 0.013255804664314412,
          "x": 5.676691729323306
         },
         {
          "norm_I": 0.012203021404373007,
          "x": 5.751879699248118
         },
         {
          "norm_I": 0.011102419130632332,
          "x": 5.82706766917293
         },
         {
          "norm_I": 0.009975678921409218,
          "x": 5.902255639097742
         },
         {
          "norm_I": 0.00884365529823042,
          "x": 5.977443609022554
         },
         {
          "norm_I": 0.007726018819153287,
          "x": 6.052631578947366
         },
         {
          "norm_I": 0.006640946140324854,
          "x": 6.1278195488721785
         },
         {
          "norm_I": 0.005604859723005309,
          "x": 6.203007518796991
         },
         {
          "norm_I": 0.004632218444407302,
          "x": 6.278195488721803
         },
         {
          "norm_I": 0.0037353594734715677,
          "x": 6.353383458646615
         },
         {
          "norm_I": 0.002924390910794659,
          "x": 6.428571428571427
         },
         {
          "norm_I": 0.002207133877962838,
          "x": 6.503759398496239
         },
         {
          "norm_I": 0.001589111986905745,
          "x": 6.578947368421051
         },
         {
          "norm_I": 0.0010735854345545442,
          "x": 6.6541353383458635
         },
         {
          "norm_I": 0.0006616263605527582,
          "x": 6.729323308270676
         },
         {
          "norm_I": 0.0003522315829043296,
          "x": 6.804511278195488
         },
         {
          "norm_I": 0.00014246839346807537,
          "x": 6.8796992481203
         },
         {
          "norm_I": 2.7648755640236432e-05,
          "x": 6.954887218045112
         },
         {
          "norm_I": 1.5270022269131762e-06,
          "x": 7.030075187969924
         },
         {
          "norm_I": 5.651598254176102e-05,
          "x": 7.105263157894736
         },
         {
          "norm_I": 0.00018391655269730652,
          "x": 7.180451127819548
         },
         {
          "norm_I": 0.0003741553388760638,
          "x": 7.2556390977443606
         },
         {
          "norm_I": 0.0006170258256187905,
          "x": 7.330827067669173
         },
         {
          "norm_I": 0.0009019280240883795,
          "x": 7.406015037593985
         },
         {
          "norm_I": 0.0012181022519276246,
          "x": 7.481203007518797
         },
         {
          "norm_I": 0.0015548528987872773,
          "x": 7.556390977443609
         },
         {
          "norm_I": 0.0019017584510807083,
          "x": 7.631578947368421
         },
         {
          "norm_I": 0.0022488644965906446,
          "x": 7.706766917293233
         },
         {
          "norm_I": 0.0025868569143106123,
          "x": 7.7819548872180455
         },
         {
          "norm_I": 0.0029072129671681092,
          "x": 7.857142857142854
         },
         {
          "norm_I": 0.003202328544775374,
          "x": 7.932330827067666
         },
         {
          "norm_I": 0.003465620339905958,
          "x": 8.007518796992478
         },
         {
          "norm_I": 0.0036916022760896546,
          "x": 8.08270676691729
         },
         {
          "norm_I": 0.0038759360250741333,
          "x": 8.157894736842103
         },
         {
          "norm_I": 0.004015455953029023,
          "x": 8.233082706766915
         },
         {
          "norm_I": 0.004108169305097943,
          "x": 8.308270676691727
         },
         {
          "norm_I": 0.004153232871913653,
          "x": 8.383458646616539
         },
         {
          "norm_I": 0.004150907772603124,
          "x": 8.458646616541351
         },
         {
          "norm_I": 0.004102494331271996,
          "x": 8.533834586466163
         },
         {
          "norm_I": 0.004010249313707399,
          "x": 8.609022556390975
         },
         {
          "norm_I": 0.0038772880249350397,
          "x": 8.684210526315788
         },
         {
          "norm_I": 0.00370747394431433,
          "x": 8.7593984962406
         },
         {
          "norm_I": 0.0035052986921940876,
          "x": 8.834586466165412
         },
         {
          "norm_I": 0.0032757551810360824,
          "x": 8.909774436090224
         },
         {
          "norm_I": 0.003024206805666301,
          "x": 8.984962406015036
         },
         {
          "norm_I": 0.0027562554742647763,
          "x": 9.060150375939848
         },
         {
          "norm_I": 0.002477611177111641,
          "x": 9.13533834586466
         },
         {
          "norm_I": 0.0021939656380632073,
          "x": 9.210526315789473
         },
         {
          "norm_I": 0.001910872399060281,
          "x": 9.285714285714285
         },
         {
          "norm_I": 0.0016336354561099485,
          "x": 9.360902255639097
         },
         {
          "norm_I": 0.0013672083020609014,
          "x": 9.436090225563909
         },
         {
          "norm_I": 0.0011161049434056205,
          "x": 9.511278195488721
         },
         {
          "norm_I": 0.0008843241518173301,
          "x": 9.586466165413533
         },
         {
          "norm_I": 0.000675287892796382,
          "x": 9.661654135338345
         },
         {
          "norm_I": 0.0004917945502651279,
          "x": 9.736842105263158
         },
         {
          "norm_I": 0.00033598724366925724,
          "x": 9.81203007518797
         },
         {
          "norm_I": 0.00020933721930879715,
          "x": 9.887218045112782
         },
         {
          "norm_I": 0.00011264199605227176,
          "x": 9.962406015037594
         },
         {
          "norm_I": 4.6037662631044375e-05,
          "x": 10.037593984962406
         },
         {
          "norm_I": 9.024464160401309e-06,
          "x": 10.112781954887218
         },
         {
          "norm_I": 5.045835543798885e-07,
          "x": 10.18796992481203
         },
         {
          "norm_I": 1.883082257226911e-05,
          "x": 10.263157894736842
         },
         {
          "norm_I": 6.186472010736556e-05,
          "x": 10.338345864661651
         },
         {
          "norm_I": 0.00012704251399824854,
          "x": 10.413533834586463
         },
         {
          "norm_I": 0.00021144725833645688,
          "x": 10.488721804511275
         },
         {
          "norm_I": 0.000311885351423652,
          "x": 10.563909774436087
         },
         {
          "norm_I": 0.0004249657099089678,
          "x": 10.6390977443609
         },
         {
          "norm_I": 0.0005471798412095895,
          "x": 10.714285714285712
         },
         {
          "norm_I": 0.0006749811174070389,
          "x": 10.789473684210524
         },
         {
          "norm_I": 0.0008048616371230205,
          "x": 10.864661654135336
         },
         {
          "norm_I": 0.0009334251745642225,
          "x": 10.939849624060148
         },
         {
          "norm_I": 0.0010574548536592984,
          "x": 11.01503759398496
         },
         {
          "norm_I": 0.0011739743462701481,
          "x": 11.090225563909772
         },
         {
          "norm_I": 0.0012803015728092924,
          "x": 11.165413533834585
         },
         {
          "norm_I": 0.0013740940769797552,
          "x": 11.240601503759397
         },
         {
          "norm_I": 0.0014533854493866418,
          "x": 11.315789473684209
         },
         {
          "norm_I": 0.0015166123830240405,
          "x": 11.390977443609021
         },
         {
          "norm_I": 0.0015626321527384241,
          "x": 11.466165413533833
         },
         {
          "norm_I": 0.0015907305164655893,
          "x": 11.541353383458645
         },
         {
          "norm_I": 0.0016006202342999877,
          "x": 11.616541353383457
         },
         {
          "norm_I": 0.0015924305885364367,
          "x": 11.69172932330827
         },
         {
          "norm_I": 0.0015666884603289417,
          "x": 11.766917293233082
         },
         {
          "norm_I": 0.0015242916735503237,
          "x": 11.842105263157894
         },
         {
          "norm_I": 0.0014664754512734536,
          "x": 11.917293233082706
         },
         {
          "norm_I": 0.001394772942983169,
          "x": 11.992481203007518
         },
         {
          "norm_I": 0.0013109708696339823,
          "x": 12.06766917293233
         },
         {
          "norm_I": 0.0012170613979882068,
          "x": 12.142857142857142
         },
         {
          "norm_I": 0.0011151913948286986,
          "x": 12.218045112781954
         },
         {
          "norm_I": 0.001007610225691349,
          "x": 12.293233082706767
         },
         {
          "norm_I": 0.0008966172522624624,
          "x": 12.368421052631579
         },
         {
          "norm_I": 0.0007845101485724637,
          "x": 12.443609022556391
         },
         {
          "norm_I": 0.0006735351000708878,
          "x": 12.518796992481203
         },
         {
          "norm_I": 0.0005658398734689501,
          "x": 12.593984962406015
         },
         {
          "norm_I": 0.0004634306511156129,
          "x": 12.669172932330824
         },
         {
          "norm_I": 0.00036813341415478163,
          "x": 12.744360902255636
         },
         {
          "norm_I": 0.0002815605365528312,
          "x": 12.819548872180448
         },
         {
          "norm_I": 0.00020508312021487741,
          "x": 12.89473684210526
         },
         {
          "norm_I": 0.00013980946285982153,
          "x": 12.969924812030072
         },
         {
          "norm_I": 8.656990817306925e-05,
          "x": 13.045112781954884
         },
         {
          "norm_I": 4.590818505532186e-05,
          "x": 13.120300751879697
         },
         {
          "norm_I": 1.8079202504904214e-05,
          "x": 13.195488721804509
         },
         {
          "norm_I": 3.0531316370919818e-06,
          "x": 13.27067669172932
         },
         {
          "norm_I": 5.25479189044448e-07,
          "x": 13.345864661654133
         },
         {
          "norm_I": 9.932739972451172e-06,
          "x": 13.421052631578945
         },
         {
          "norm_I": 3.047311122255192e-05,
          "x": 13.496240601503757
         },
         {
          "norm_I": 6.113166143736276e-05,
          "x": 13.57142857142857
         },
         {
          "norm_I": 0.00010070927154410339,
          "x": 13.646616541353382
         },
         {
          "norm_I": 0.00014785460814483513,
          "x": 13.721804511278194
         },
         {
          "norm_I": 0.00020109834787725823,
          "x": 13.796992481203006
         },
         {
          "norm_I": 0.0002588888488964624,
          "x": 13.872180451127818
         },
         {
          "norm_I": 0.00031962846008062716,
          "x": 13.94736842105263
         },
         {
          "norm_I": 0.0003817096703662174,
          "x": 14.022556390977442
         },
         {
          "norm_I": 0.00044355032885987013,
          "x": 14.097744360902254
         },
         {
          "norm_I": 0.00050362720997007,
          "x": 14.172932330827066
         },
         {
          "norm_I": 0.0005605072553799509,
          "x": 14.248120300751879
         },
         {
          "norm_I": 0.0006128758946206754,
          "x": 14.32330827067669
         },
         {
          "norm_I": 0.000659561926470377,
          "x": 14.398496240601503
         },
         {
          "norm_I": 0.0006995585323981154,
          "x": 14.473684210526315
         },
         {
          "norm_I": 0.0007320400886770647,
          "x": 14.548872180451127
         },
         {
          "norm_I": 0.0007563745434148454,
          "x": 14.62406015037594
         },
         {
          "norm_I": 0.0007721312263746704,
          "x": 14.699248120300751
         },
         {
          "norm_I": 0.0007790840608934203,
          "x": 14.774436090225564
         },
         {
          "norm_I": 0.0007772102463126346,
          "x": 14.849624060150376
         },
         {
          "norm_I": 0.0007666845741053045,
          "x": 14.924812030075188
         },
         {
          "norm_I": 0.000747869629432488,
          "x": 15
         }
        ]
       },
       "encoding": {
        "order": {
         "field": "x",
         "type": "quantitative"
        },
        "x": {
         "field": "x",
         "type": "quantitative"
        },
        "y": {
         "field": "norm_I",
         "title": "I(x)/Io",
         "type": "quantitative"
        }
       },
       "height": 150,
       "mark": "line"
      },
      "image/png": "[encoded data removed]",
      "text/plain": [
       "<VegaLite 2 object>\n",
       "\n",
       "If you see this message, it means the renderer has not been properly enabled\n",
       "for the frontend that you are using. For more information, see\n",
       "https://altair-viz.github.io/user_guide/troubleshooting.html\n"
      ]
     },
     "execution_count": 40,
     "metadata": {},
     "output_type": "execute_result"
    }
   ],
   "source": [
    "alt.Chart(df_airy,\n",
    "          height=150\n",
    "    ).mark_line(\n",
    "    ).encode(\n",
    "        x='x:Q',\n",
    "        y=alt.Y('norm_I:Q', title='I(x)/Io'),\n",
    "        order='x:Q'\n",
    "    )"
   ]
  },
  {
   "cell_type": "code",
   "execution_count": 41,
   "metadata": {},
   "outputs": [
    {
     "data": {
      "application/vnd.vegalite.v2+json": {
       "$schema": "https://vega.github.io/schema/vega-lite/v2.4.3.json",
       "config": {
        "view": {
         "height": 300,
         "width": 400
        }
       },
       "data": {
        "values": [
         {
          "norm_I": 0.000747869629432488,
          "x": -15
         },
         {
          "norm_I": 0.0007666845741053045,
          "x": -14.924812030075188
         },
         {
          "norm_I": 0.0007772102463126346,
          "x": -14.849624060150376
         },
         {
          "norm_I": 0.0007790840608934203,
          "x": -14.774436090225564
         },
         {
          "norm_I": 0.0007721312263746704,
          "x": -14.699248120300751
         },
         {
          "norm_I": 0.0007563745434148454,
          "x": -14.62406015037594
         },
         {
          "norm_I": 0.0007320400886770647,
          "x": -14.548872180451127
         },
         {
          "norm_I": 0.0006995585323981154,
          "x": -14.473684210526315
         },
         {
          "norm_I": 0.000659561926470377,
          "x": -14.398496240601503
         },
         {
          "norm_I": 0.0006128758946206753,
          "x": -14.323308270676693
         },
         {
          "norm_I": 0.0005605072553799506,
          "x": -14.24812030075188
         },
         {
          "norm_I": 0.0005036272099700693,
          "x": -14.172932330827068
         },
         {
          "norm_I": 0.00044355032885987013,
          "x": -14.097744360902256
         },
         {
          "norm_I": 0.0003817096703662172,
          "x": -14.022556390977444
         },
         {
          "norm_I": 0.0003196284600806268,
          "x": -13.947368421052632
         },
         {
          "norm_I": 0.00025888884889646227,
          "x": -13.87218045112782
         },
         {
          "norm_I": 0.00020109834787725812,
          "x": -13.796992481203008
         },
         {
          "norm_I": 0.0001478546081448351,
          "x": -13.721804511278195
         },
         {
          "norm_I": 0.00010070927154410335,
          "x": -13.646616541353383
         },
         {
          "norm_I": 6.113166143736271e-05,
          "x": -13.571428571428571
         },
         {
          "norm_I": 3.047311122255192e-05,
          "x": -13.496240601503759
         },
         {
          "norm_I": 9.93273997245117e-06,
          "x": -13.421052631578947
         },
         {
          "norm_I": 5.254791890444474e-07,
          "x": -13.345864661654135
         },
         {
          "norm_I": 3.0531316370915714e-06,
          "x": -13.270676691729324
         },
         {
          "norm_I": 1.8079202504903197e-05,
          "x": -13.195488721804512
         },
         {
          "norm_I": 4.590818505532024e-05,
          "x": -13.1203007518797
         },
         {
          "norm_I": 8.656990817306705e-05,
          "x": -13.045112781954888
         },
         {
          "norm_I": 0.00013980946285981877,
          "x": -12.969924812030076
         },
         {
          "norm_I": 0.00020508312021487403,
          "x": -12.894736842105264
         },
         {
          "norm_I": 0.0002815605365528272,
          "x": -12.819548872180452
         },
         {
          "norm_I": 0.00036813341415477724,
          "x": -12.74436090225564
         },
         {
          "norm_I": 0.0004634306511156083,
          "x": -12.669172932330827
         },
         {
          "norm_I": 0.0005658398734689501,
          "x": -12.593984962406015
         },
         {
          "norm_I": 0.0006735351000708878,
          "x": -12.518796992481203
         },
         {
          "norm_I": 0.0007845101485724637,
          "x": -12.443609022556391
         },
         {
          "norm_I": 0.0008966172522624624,
          "x": -12.368421052631579
         },
         {
          "norm_I": 0.001007610225691349,
          "x": -12.293233082706767
         },
         {
          "norm_I": 0.0011151913948286986,
          "x": -12.218045112781954
         },
         {
          "norm_I": 0.0012170613979882068,
          "x": -12.142857142857142
         },
         {
          "norm_I": 0.0013109708696339823,
          "x": -12.06766917293233
         },
         {
          "norm_I": 0.001394772942983169,
          "x": -11.992481203007518
         },
         {
          "norm_I": 0.0014664754512734536,
          "x": -11.917293233082706
         },
         {
          "norm_I": 0.0015242916735503237,
          "x": -11.842105263157894
         },
         {
          "norm_I": 0.0015666884603289407,
          "x": -11.766917293233083
         },
         {
          "norm_I": 0.001592430588536436,
          "x": -11.691729323308271
         },
         {
          "norm_I": 0.0016006202342999873,
          "x": -11.61654135338346
         },
         {
          "norm_I": 0.0015907305164655893,
          "x": -11.541353383458647
         },
         {
          "norm_I": 0.0015626321527384235,
          "x": -11.466165413533835
         },
         {
          "norm_I": 0.0015166123830240399,
          "x": -11.390977443609023
         },
         {
          "norm_I": 0.0014533854493866414,
          "x": -11.31578947368421
         },
         {
          "norm_I": 0.0013740940769797533,
          "x": -11.240601503759398
         },
         {
          "norm_I": 0.0012803015728092924,
          "x": -11.165413533834586
         },
         {
          "norm_I": 0.001173974346270147,
          "x": -11.090225563909774
         },
         {
          "norm_I": 0.001057454853659298,
          "x": -11.015037593984962
         },
         {
          "norm_I": 0.0009334251745642281,
          "x": -10.939849624060152
         },
         {
          "norm_I": 0.0008048616371230267,
          "x": -10.86466165413534
         },
         {
          "norm_I": 0.0006749811174070452,
          "x": -10.789473684210527
         },
         {
          "norm_I": 0.0005471798412095955,
          "x": -10.714285714285715
         },
         {
          "norm_I": 0.0004249657099089738,
          "x": -10.639097744360903
         },
         {
          "norm_I": 0.00031188535142365713,
          "x": -10.563909774436091
         },
         {
          "norm_I": 0.00021144725833646127,
          "x": -10.488721804511279
         },
         {
          "norm_I": 0.00012704251399825214,
          "x": -10.413533834586467
         },
         {
          "norm_I": 6.186472010736815e-05,
          "x": -10.338345864661655
         },
         {
          "norm_I": 1.883082257226911e-05,
          "x": -10.263157894736842
         },
         {
          "norm_I": 5.045835543798885e-07,
          "x": -10.18796992481203
         },
         {
          "norm_I": 9.024464160401309e-06,
          "x": -10.112781954887218
         },
         {
          "norm_I": 4.6037662631044375e-05,
          "x": -10.037593984962406
         },
         {
          "norm_I": 0.00011264199605227176,
          "x": -9.962406015037594
         },
         {
          "norm_I": 0.00020933721930879715,
          "x": -9.887218045112782
         },
         {
          "norm_I": 0.00033598724366925724,
          "x": -9.81203007518797
         },
         {
          "norm_I": 0.0004917945502651279,
          "x": -9.736842105263158
         },
         {
          "norm_I": 0.000675287892796382,
          "x": -9.661654135338345
         },
         {
          "norm_I": 0.0008843241518173301,
          "x": -9.586466165413533
         },
         {
          "norm_I": 0.0011161049434056205,
          "x": -9.511278195488721
         },
         {
          "norm_I": 0.0013672083020609014,
          "x": -9.436090225563909
         },
         {
          "norm_I": 0.0016336354561099485,
          "x": -9.360902255639097
         },
         {
          "norm_I": 0.001910872399060275,
          "x": -9.285714285714286
         },
         {
          "norm_I": 0.0021939656380632003,
          "x": -9.210526315789474
         },
         {
          "norm_I": 0.0024776111771116363,
          "x": -9.135338345864662
         },
         {
          "norm_I": 0.0027562554742647676,
          "x": -9.06015037593985
         },
         {
          "norm_I": 0.0030242068056662947,
          "x": -8.984962406015038
         },
         {
          "norm_I": 0.0032757551810360785,
          "x": -8.909774436090226
         },
         {
          "norm_I": 0.003505298692194085,
          "x": -8.834586466165414
         },
         {
          "norm_I": 0.003707473944314324,
          "x": -8.759398496240602
         },
         {
          "norm_I": 0.003877288024935038,
          "x": -8.68421052631579
         },
         {
          "norm_I": 0.004010249313707392,
          "x": -8.609022556390979
         },
         {
          "norm_I": 0.004102494331271994,
          "x": -8.533834586466167
         },
         {
          "norm_I": 0.004150907772603123,
          "x": -8.458646616541355
         },
         {
          "norm_I": 0.004153232871913656,
          "x": -8.383458646616543
         },
         {
          "norm_I": 0.004108169305097946,
          "x": -8.30827067669173
         },
         {
          "norm_I": 0.004015455953029027,
          "x": -8.233082706766918
         },
         {
          "norm_I": 0.00387593602507414,
          "x": -8.157894736842106
         },
         {
          "norm_I": 0.003691602276089667,
          "x": -8.082706766917294
         },
         {
          "norm_I": 0.0034656203399059744,
          "x": -8.007518796992482
         },
         {
          "norm_I": 0.0032023285447753884,
          "x": -7.93233082706767
         },
         {
          "norm_I": 0.002907212967168124,
          "x": -7.857142857142858
         },
         {
          "norm_I": 0.0025868569143106123,
          "x": -7.7819548872180455
         },
         {
          "norm_I": 0.0022488644965906446,
          "x": -7.706766917293233
         },
         {
          "norm_I": 0.0019017584510807083,
          "x": -7.631578947368421
         },
         {
          "norm_I": 0.0015548528987872773,
          "x": -7.556390977443609
         },
         {
          "norm_I": 0.0012181022519276246,
          "x": -7.481203007518797
         },
         {
          "norm_I": 0.0009019280240883836,
          "x": -7.406015037593986
         },
         {
          "norm_I": 0.0006170258256187934,
          "x": -7.330827067669174
         },
         {
          "norm_I": 0.0003741553388760666,
          "x": -7.255639097744361
         },
         {
          "norm_I": 0.00018391655269730836,
          "x": -7.180451127819549
         },
         {
          "norm_I": 5.651598254176214e-05,
          "x": -7.105263157894737
         },
         {
          "norm_I": 1.5270022269133622e-06,
          "x": -7.030075187969925
         },
         {
          "norm_I": 2.764875564023479e-05,
          "x": -6.954887218045114
         },
         {
          "norm_I": 0.00014246839346807166,
          "x": -6.879699248120302
         },
         {
          "norm_I": 0.0003522315829043234,
          "x": -6.8045112781954895
         },
         {
          "norm_I": 0.0006616263605527495,
          "x": -6.729323308270677
         },
         {
          "norm_I": 0.0010735854345545334,
          "x": -6.654135338345865
         },
         {
          "norm_I": 0.0015891119869057314,
          "x": -6.578947368421053
         },
         {
          "norm_I": 0.002207133877962822,
          "x": -6.503759398496241
         },
         {
          "norm_I": 0.0029243909107946444,
          "x": -6.428571428571429
         },
         {
          "norm_I": 0.003735359473471552,
          "x": -6.353383458646617
         },
         {
          "norm_I": 0.004632218444407278,
          "x": -6.2781954887218046
         },
         {
          "norm_I": 0.005604859723005284,
          "x": -6.203007518796992
         },
         {
          "norm_I": 0.006640946140324825,
          "x": -6.12781954887218
         },
         {
          "norm_I": 0.0077260188191532655,
          "x": -6.052631578947368
         },
         {
          "norm_I": 0.008843655298230363,
          "x": -5.977443609022558
         },
         {
          "norm_I": 0.009975678921409166,
          "x": -5.902255639097746
         },
         {
          "norm_I": 0.011102419130632275,
          "x": -5.8270676691729335
         },
         {
          "norm_I": 0.012203021404372955,
          "x": -5.751879699248121
         },
         {
          "norm_I": 0.013255804664314365,
          "x": -5.676691729323309
         },
         {
          "norm_I": 0.014238663047071378,
          "x": -5.601503759398497
         },
         {
          "norm_I": 0.015129508019891387,
          "x": -5.526315789473685
         },
         {
          "norm_I": 0.01590674592511635,
          "x": -5.451127819548873
         },
         {
          "norm_I": 0.01654978518351961,
          "x": -5.375939849624061
         },
         {
          "norm_I": 0.017039566587126635,
          "x": -5.3007518796992485
         },
         {
          "norm_I": 0.017359109383105226,
          "x": -5.225563909774436
         },
         {
          "norm_I": 0.017494065206454856,
          "x": -5.150375939849624
         },
         {
          "norm_I": 0.017433271374338002,
          "x": -5.075187969924812
         },
         {
          "norm_I": 0.017169294621626904,
          "x": -5
         },
         {
          "norm_I": 0.016698956046852346,
          "x": -4.924812030075188
         },
         {
          "norm_I": 0.016023827859880952,
          "x": -4.849624060150376
         },
         {
          "norm_I": 0.015150692485139144,
          "x": -4.774436090225564
         },
         {
          "norm_I": 0.014091954682866408,
          "x": -4.699248120300753
         },
         {
          "norm_I": 0.01286599760938238,
          "x": -4.624060150375941
         },
         {
          "norm_I": 0.011497474147082076,
          "x": -4.548872180451129
         },
         {
          "norm_I": 0.010017525394853153,
          "x": -4.473684210526317
         },
         {
          "norm_I": 0.00846391891645498,
          "x": -4.398496240601505
         },
         {
          "norm_I": 0.0068811001922936274,
          "x": -4.3233082706766925
         },
         {
          "norm_I": 0.0053201517007601075,
          "x": -4.24812030075188
         },
         {
          "norm_I": 0.0038386551583288885,
          "x": -4.172932330827068
         },
         {
          "norm_I": 0.0025004536601715473,
          "x": -4.097744360902256
         },
         {
          "norm_I": 0.0013753117702805595,
          "x": -4.022556390977444
         },
         {
          "norm_I": 0.0005384729952755392,
          "x": -3.947368421052632
         },
         {
          "norm_I": 7.011552075277868e-05,
          "x": -3.8721804511278197
         },
         {
          "norm_I": 5.4708573380167685e-05,
          "x": -3.7969924812030076
         },
         {
          "norm_I": 0.0005802732749182914,
          "x": -3.7218045112781954
         },
         {
          "norm_I": 0.0017375533540952433,
          "x": -3.6466165413533833
         },
         {
          "norm_I": 0.0036191025563744065,
          "x": -3.571428571428573
         },
         {
          "norm_I": 0.006318297017531915,
          "x": -3.496240601503761
         },
         {
          "norm_I": 0.009928282222152423,
          "x": -3.4210526315789487
         },
         {
          "norm_I": 0.014540865430713874,
          "x": -3.3458646616541365
         },
         {
          "norm_I": 0.020245365607761984,
          "x": -3.2706766917293244
         },
         {
          "norm_I": 0.027127433898878468,
          "x": -3.1954887218045123
         },
         {
          "norm_I": 0.035267858567346703,
          "x": -3.1203007518797
         },
         {
          "norm_I": 0.04474136899608397,
          "x": -3.045112781954888
         },
         {
          "norm_I": 0.05561545387214157,
          "x": -2.969924812030076
         },
         {
          "norm_I": 0.06794920898786774,
          "x": -2.8947368421052637
         },
         {
          "norm_I": 0.08179223020530407,
          "x": -2.8195488721804516
         },
         {
          "norm_I": 0.0971835670319831,
          "x": -2.7443609022556394
         },
         {
          "norm_I": 0.11415075194342186,
          "x": -2.6691729323308273
         },
         {
          "norm_I": 0.13270892005975246,
          "x": -2.593984962406015
         },
         {
          "norm_I": 0.15286003304372794,
          "x": -2.518796992481203
         },
         {
          "norm_I": 0.174592220140582,
          "x": -2.443609022556391
         },
         {
          "norm_I": 0.19787924813581315,
          "x": -2.3684210526315788
         },
         {
          "norm_I": 0.2226801306768713,
          "x": -2.2932330827067684
         },
         {
          "norm_I": 0.24893888590382807,
          "x": -2.2180451127819563
         },
         {
          "norm_I": 0.27658444967997736,
          "x": -2.142857142857144
         },
         {
          "norm_I": 0.30553074992614654,
          "x": -2.067669172932332
         },
         {
          "norm_I": 0.3356769456645771,
          "x": -1.9924812030075199
         },
         {
          "norm_I": 0.3669078323939724,
          "x": -1.9172932330827077
         },
         {
          "norm_I": 0.39909441337261314,
          "x": -1.8421052631578956
         },
         {
          "norm_I": 0.43209463430854367,
          "x": -1.7669172932330834
         },
         {
          "norm_I": 0.4657542768727747,
          "x": -1.6917293233082713
         },
         {
          "norm_I": 0.4999080043918367,
          "x": -1.6165413533834592
         },
         {
          "norm_I": 0.5343805510683737,
          "x": -1.541353383458647
         },
         {
          "norm_I": 0.5689880441510876,
          "x": -1.466165413533835
         },
         {
          "norm_I": 0.6035394466556365,
          "x": -1.3909774436090228
         },
         {
          "norm_I": 0.637838106552253,
          "x": -1.3157894736842106
         },
         {
          "norm_I": 0.6716833968086449,
          "x": -1.2406015037593985
         },
         {
          "norm_I": 0.7048724293306672,
          "x": -1.1654135338345881
         },
         {
          "norm_I": 0.7372018246988296,
          "x": -1.090225563909776
         },
         {
          "norm_I": 0.7684695186734709,
          "x": -1.0150375939849638
         },
         {
          "norm_I": 0.7984765857503114,
          "x": -0.9398496240601517
         },
         {
          "norm_I": 0.8270290596025539,
          "x": -0.8646616541353396
         },
         {
          "norm_I": 0.853939730054159,
          "x": -0.7894736842105274
         },
         {
          "norm_I": 0.8790298962959626,
          "x": -0.7142857142857153
         },
         {
          "norm_I": 0.9021310563832642,
          "x": -0.6390977443609032
         },
         {
          "norm_I": 0.9230865136377777,
          "x": -0.563909774436091
         },
         {
          "norm_I": 0.941752881412416,
          "x": -0.4887218045112789
         },
         {
          "norm_I": 0.9580014687546264,
          "x": -0.41353383458646675
         },
         {
          "norm_I": 0.9717195308097839,
          "x": -0.3383458646616546
         },
         {
          "norm_I": 0.9828113693242759,
          "x": -0.2631578947368425
         },
         {
          "norm_I": 0.9911992703189384,
          "x": -0.18796992481203034
         },
         {
          "norm_I": 0.9968242678853925,
          "x": -0.1127819548872182
         },
         {
          "norm_I": 0.9996467250860054,
          "x": -0.03759398496240607
         },
         {
          "norm_I": 0.9996467250860054,
          "x": 0.03759398496240607
         },
         {
          "norm_I": 0.9968242678853929,
          "x": 0.11278195488721643
         },
         {
          "norm_I": 0.9911992703189382,
          "x": 0.18796992481202857
         },
         {
          "norm_I": 0.9828113693242757,
          "x": 0.2631578947368407
         },
         {
          "norm_I": 0.9717195308097839,
          "x": 0.33834586466165284
         },
         {
          "norm_I": 0.9580014687546273,
          "x": 0.413533834586465
         },
         {
          "norm_I": 0.941752881412416,
          "x": 0.4887218045112771
         },
         {
          "norm_I": 0.923086513637778,
          "x": 0.5639097744360893
         },
         {
          "norm_I": 0.9021310563832647,
          "x": 0.6390977443609014
         },
         {
          "norm_I": 0.8790298962959627,
          "x": 0.7142857142857135
         },
         {
          "norm_I": 0.8539397300541596,
          "x": 0.7894736842105257
         },
         {
          "norm_I": 0.8270290596025545,
          "x": 0.8646616541353378
         },
         {
          "norm_I": 0.798476585750312,
          "x": 0.9398496240601499
         },
         {
          "norm_I": 0.7684695186734722,
          "x": 1.0150375939849603
         },
         {
          "norm_I": 0.7372018246988304,
          "x": 1.0902255639097724
         },
         {
          "norm_I": 0.7048724293306688,
          "x": 1.1654135338345846
         },
         {
          "norm_I": 0.671683396808646,
          "x": 1.2406015037593967
         },
         {
          "norm_I": 0.6378381065522539,
          "x": 1.3157894736842088
         },
         {
          "norm_I": 0.6035394466556374,
          "x": 1.390977443609021
         },
         {
          "norm_I": 0.5689880441510888,
          "x": 1.4661654135338331
         },
         {
          "norm_I": 0.5343805510683741,
          "x": 1.5413533834586453
         },
         {
          "norm_I": 0.49990800439183797,
          "x": 1.6165413533834574
         },
         {
          "norm_I": 0.4657542768727755,
          "x": 1.6917293233082695
         },
         {
          "norm_I": 0.4320946343085441,
          "x": 1.7669172932330817
         },
         {
          "norm_I": 0.39909441337261403,
          "x": 1.8421052631578938
         },
         {
          "norm_I": 0.3669078323939732,
          "x": 1.917293233082706
         },
         {
          "norm_I": 0.33567694566457806,
          "x": 1.992481203007518
         },
         {
          "norm_I": 0.30553074992614715,
          "x": 2.06766917293233
         },
         {
          "norm_I": 0.27658444967997803,
          "x": 2.1428571428571423
         },
         {
          "norm_I": 0.2489388859038288,
          "x": 2.2180451127819545
         },
         {
          "norm_I": 0.22268013067687203,
          "x": 2.2932330827067666
         },
         {
          "norm_I": 0.19787924813581315,
          "x": 2.3684210526315788
         },
         {
          "norm_I": 0.174592220140582,
          "x": 2.443609022556391
         },
         {
          "norm_I": 0.15286003304372794,
          "x": 2.518796992481203
         },
         {
          "norm_I": 0.13270892005975246,
          "x": 2.593984962406015
         },
         {
          "norm_I": 0.11415075194342186,
          "x": 2.6691729323308273
         },
         {
          "norm_I": 0.0971835670319831,
          "x": 2.7443609022556394
         },
         {
          "norm_I": 0.08179223020530407,
          "x": 2.8195488721804516
         },
         {
          "norm_I": 0.06794920898786774,
          "x": 2.8947368421052637
         },
         {
          "norm_I": 0.05561545387214157,
          "x": 2.969924812030076
         },
         {
          "norm_I": 0.04474136899608443,
          "x": 3.0451127819548844
         },
         {
          "norm_I": 0.03526785856734714,
          "x": 3.1203007518796966
         },
         {
          "norm_I": 0.027127433898878825,
          "x": 3.1954887218045087
         },
         {
          "norm_I": 0.020245365607762293,
          "x": 3.270676691729321
         },
         {
          "norm_I": 0.014540865430714135,
          "x": 3.345864661654133
         },
         {
          "norm_I": 0.009928282222152623,
          "x": 3.421052631578945
         },
         {
          "norm_I": 0.006318297017532063,
          "x": 3.4962406015037573
         },
         {
          "norm_I": 0.0036191025563745206,
          "x": 3.5714285714285694
         },
         {
          "norm_I": 0.0017375533540952821,
          "x": 3.6466165413533815
         },
         {
          "norm_I": 0.0005802732749183097,
          "x": 3.7218045112781937
         },
         {
          "norm_I": 5.470857338017363e-05,
          "x": 3.796992481203006
         },
         {
          "norm_I": 7.011552075277245e-05,
          "x": 3.872180451127818
         },
         {
          "norm_I": 0.0005384729952755235,
          "x": 3.94736842105263
         },
         {
          "norm_I": 0.001375311770280536,
          "x": 4.022556390977442
         },
         {
          "norm_I": 0.0025004536601715187,
          "x": 4.097744360902254
         },
         {
          "norm_I": 0.0038386551583288555,
          "x": 4.1729323308270665
         },
         {
          "norm_I": 0.005320151700760071,
          "x": 4.248120300751879
         },
         {
          "norm_I": 0.006881100192293583,
          "x": 4.323308270676691
         },
         {
          "norm_I": 0.008463918916454939,
          "x": 4.398496240601503
         },
         {
          "norm_I": 0.010017525394853115,
          "x": 4.473684210526315
         },
         {
          "norm_I": 0.011497474147082043,
          "x": 4.548872180451127
         },
         {
          "norm_I": 0.012865997609382344,
          "x": 4.624060150375939
         },
         {
          "norm_I": 0.014091954682866375,
          "x": 4.6992481203007515
         },
         {
          "norm_I": 0.015150692485139144,
          "x": 4.774436090225564
         },
         {
          "norm_I": 0.016023827859880952,
          "x": 4.849624060150376
         },
         {
          "norm_I": 0.016698956046852346,
          "x": 4.924812030075188
         },
         {
          "norm_I": 0.017169294621626904,
          "x": 5
         },
         {
          "norm_I": 0.017433271374338002,
          "x": 5.075187969924812
         },
         {
          "norm_I": 0.017494065206454856,
          "x": 5.150375939849624
         },
         {
          "norm_I": 0.017359109383105226,
          "x": 5.225563909774436
         },
         {
          "norm_I": 0.017039566587126635,
          "x": 5.3007518796992485
         },
         {
          "norm_I": 0.01654978518351961,
          "x": 5.375939849624061
         },
         {
          "norm_I": 0.01590674592511635,
          "x": 5.451127819548873
         },
         {
          "norm_I": 0.015129508019891418,
          "x": 5.526315789473681
         },
         {
          "norm_I": 0.014238663047071411,
          "x": 5.6015037593984935
         },
         {
          "norm_I": 0.013255804664314412,
          "x": 5.676691729323306
         },
         {
          "norm_I": 0.012203021404373007,
          "x": 5.751879699248118
         },
         {
          "norm_I": 0.011102419130632332,
          "x": 5.82706766917293
         },
         {
          "norm_I": 0.009975678921409218,
          "x": 5.902255639097742
         },
         {
          "norm_I": 0.00884365529823042,
          "x": 5.977443609022554
         },
         {
          "norm_I": 0.007726018819153287,
          "x": 6.052631578947366
         },
         {
          "norm_I": 0.006640946140324854,
          "x": 6.1278195488721785
         },
         {
          "norm_I": 0.005604859723005309,
          "x": 6.203007518796991
         },
         {
          "norm_I": 0.004632218444407302,
          "x": 6.278195488721803
         },
         {
          "norm_I": 0.0037353594734715677,
          "x": 6.353383458646615
         },
         {
          "norm_I": 0.002924390910794659,
          "x": 6.428571428571427
         },
         {
          "norm_I": 0.002207133877962838,
          "x": 6.503759398496239
         },
         {
          "norm_I": 0.001589111986905745,
          "x": 6.578947368421051
         },
         {
          "norm_I": 0.0010735854345545442,
          "x": 6.6541353383458635
         },
         {
          "norm_I": 0.0006616263605527582,
          "x": 6.729323308270676
         },
         {
          "norm_I": 0.0003522315829043296,
          "x": 6.804511278195488
         },
         {
          "norm_I": 0.00014246839346807537,
          "x": 6.8796992481203
         },
         {
          "norm_I": 2.7648755640236432e-05,
          "x": 6.954887218045112
         },
         {
          "norm_I": 1.5270022269131762e-06,
          "x": 7.030075187969924
         },
         {
          "norm_I": 5.651598254176102e-05,
          "x": 7.105263157894736
         },
         {
          "norm_I": 0.00018391655269730652,
          "x": 7.180451127819548
         },
         {
          "norm_I": 0.0003741553388760638,
          "x": 7.2556390977443606
         },
         {
          "norm_I": 0.0006170258256187905,
          "x": 7.330827067669173
         },
         {
          "norm_I": 0.0009019280240883795,
          "x": 7.406015037593985
         },
         {
          "norm_I": 0.0012181022519276246,
          "x": 7.481203007518797
         },
         {
          "norm_I": 0.0015548528987872773,
          "x": 7.556390977443609
         },
         {
          "norm_I": 0.0019017584510807083,
          "x": 7.631578947368421
         },
         {
          "norm_I": 0.0022488644965906446,
          "x": 7.706766917293233
         },
         {
          "norm_I": 0.0025868569143106123,
          "x": 7.7819548872180455
         },
         {
          "norm_I": 0.0029072129671681092,
          "x": 7.857142857142854
         },
         {
          "norm_I": 0.003202328544775374,
          "x": 7.932330827067666
         },
         {
          "norm_I": 0.003465620339905958,
          "x": 8.007518796992478
         },
         {
          "norm_I": 0.0036916022760896546,
          "x": 8.08270676691729
         },
         {
          "norm_I": 0.0038759360250741333,
          "x": 8.157894736842103
         },
         {
          "norm_I": 0.004015455953029023,
          "x": 8.233082706766915
         },
         {
          "norm_I": 0.004108169305097943,
          "x": 8.308270676691727
         },
         {
          "norm_I": 0.004153232871913653,
          "x": 8.383458646616539
         },
         {
          "norm_I": 0.004150907772603124,
          "x": 8.458646616541351
         },
         {
          "norm_I": 0.004102494331271996,
          "x": 8.533834586466163
         },
         {
          "norm_I": 0.004010249313707399,
          "x": 8.609022556390975
         },
         {
          "norm_I": 0.0038772880249350397,
          "x": 8.684210526315788
         },
         {
          "norm_I": 0.00370747394431433,
          "x": 8.7593984962406
         },
         {
          "norm_I": 0.0035052986921940876,
          "x": 8.834586466165412
         },
         {
          "norm_I": 0.0032757551810360824,
          "x": 8.909774436090224
         },
         {
          "norm_I": 0.003024206805666301,
          "x": 8.984962406015036
         },
         {
          "norm_I": 0.0027562554742647763,
          "x": 9.060150375939848
         },
         {
          "norm_I": 0.002477611177111641,
          "x": 9.13533834586466
         },
         {
          "norm_I": 0.0021939656380632073,
          "x": 9.210526315789473
         },
         {
          "norm_I": 0.001910872399060281,
          "x": 9.285714285714285
         },
         {
          "norm_I": 0.0016336354561099485,
          "x": 9.360902255639097
         },
         {
          "norm_I": 0.0013672083020609014,
          "x": 9.436090225563909
         },
         {
          "norm_I": 0.0011161049434056205,
          "x": 9.511278195488721
         },
         {
          "norm_I": 0.0008843241518173301,
          "x": 9.586466165413533
         },
         {
          "norm_I": 0.000675287892796382,
          "x": 9.661654135338345
         },
         {
          "norm_I": 0.0004917945502651279,
          "x": 9.736842105263158
         },
         {
          "norm_I": 0.00033598724366925724,
          "x": 9.81203007518797
         },
         {
          "norm_I": 0.00020933721930879715,
          "x": 9.887218045112782
         },
         {
          "norm_I": 0.00011264199605227176,
          "x": 9.962406015037594
         },
         {
          "norm_I": 4.6037662631044375e-05,
          "x": 10.037593984962406
         },
         {
          "norm_I": 9.024464160401309e-06,
          "x": 10.112781954887218
         },
         {
          "norm_I": 5.045835543798885e-07,
          "x": 10.18796992481203
         },
         {
          "norm_I": 1.883082257226911e-05,
          "x": 10.263157894736842
         },
         {
          "norm_I": 6.186472010736556e-05,
          "x": 10.338345864661651
         },
         {
          "norm_I": 0.00012704251399824854,
          "x": 10.413533834586463
         },
         {
          "norm_I": 0.00021144725833645688,
          "x": 10.488721804511275
         },
         {
          "norm_I": 0.000311885351423652,
          "x": 10.563909774436087
         },
         {
          "norm_I": 0.0004249657099089678,
          "x": 10.6390977443609
         },
         {
          "norm_I": 0.0005471798412095895,
          "x": 10.714285714285712
         },
         {
          "norm_I": 0.0006749811174070389,
          "x": 10.789473684210524
         },
         {
          "norm_I": 0.0008048616371230205,
          "x": 10.864661654135336
         },
         {
          "norm_I": 0.0009334251745642225,
          "x": 10.939849624060148
         },
         {
          "norm_I": 0.0010574548536592984,
          "x": 11.01503759398496
         },
         {
          "norm_I": 0.0011739743462701481,
          "x": 11.090225563909772
         },
         {
          "norm_I": 0.0012803015728092924,
          "x": 11.165413533834585
         },
         {
          "norm_I": 0.0013740940769797552,
          "x": 11.240601503759397
         },
         {
          "norm_I": 0.0014533854493866418,
          "x": 11.315789473684209
         },
         {
          "norm_I": 0.0015166123830240405,
          "x": 11.390977443609021
         },
         {
          "norm_I": 0.0015626321527384241,
          "x": 11.466165413533833
         },
         {
          "norm_I": 0.0015907305164655893,
          "x": 11.541353383458645
         },
         {
          "norm_I": 0.0016006202342999877,
          "x": 11.616541353383457
         },
         {
          "norm_I": 0.0015924305885364367,
          "x": 11.69172932330827
         },
         {
          "norm_I": 0.0015666884603289417,
          "x": 11.766917293233082
         },
         {
          "norm_I": 0.0015242916735503237,
          "x": 11.842105263157894
         },
         {
          "norm_I": 0.0014664754512734536,
          "x": 11.917293233082706
         },
         {
          "norm_I": 0.001394772942983169,
          "x": 11.992481203007518
         },
         {
          "norm_I": 0.0013109708696339823,
          "x": 12.06766917293233
         },
         {
          "norm_I": 0.0012170613979882068,
          "x": 12.142857142857142
         },
         {
          "norm_I": 0.0011151913948286986,
          "x": 12.218045112781954
         },
         {
          "norm_I": 0.001007610225691349,
          "x": 12.293233082706767
         },
         {
          "norm_I": 0.0008966172522624624,
          "x": 12.368421052631579
         },
         {
          "norm_I": 0.0007845101485724637,
          "x": 12.443609022556391
         },
         {
          "norm_I": 0.0006735351000708878,
          "x": 12.518796992481203
         },
         {
          "norm_I": 0.0005658398734689501,
          "x": 12.593984962406015
         },
         {
          "norm_I": 0.0004634306511156129,
          "x": 12.669172932330824
         },
         {
          "norm_I": 0.00036813341415478163,
          "x": 12.744360902255636
         },
         {
          "norm_I": 0.0002815605365528312,
          "x": 12.819548872180448
         },
         {
          "norm_I": 0.00020508312021487741,
          "x": 12.89473684210526
         },
         {
          "norm_I": 0.00013980946285982153,
          "x": 12.969924812030072
         },
         {
          "norm_I": 8.656990817306925e-05,
          "x": 13.045112781954884
         },
         {
          "norm_I": 4.590818505532186e-05,
          "x": 13.120300751879697
         },
         {
          "norm_I": 1.8079202504904214e-05,
          "x": 13.195488721804509
         },
         {
          "norm_I": 3.0531316370919818e-06,
          "x": 13.27067669172932
         },
         {
          "norm_I": 5.25479189044448e-07,
          "x": 13.345864661654133
         },
         {
          "norm_I": 9.932739972451172e-06,
          "x": 13.421052631578945
         },
         {
          "norm_I": 3.047311122255192e-05,
          "x": 13.496240601503757
         },
         {
          "norm_I": 6.113166143736276e-05,
          "x": 13.57142857142857
         },
         {
          "norm_I": 0.00010070927154410339,
          "x": 13.646616541353382
         },
         {
          "norm_I": 0.00014785460814483513,
          "x": 13.721804511278194
         },
         {
          "norm_I": 0.00020109834787725823,
          "x": 13.796992481203006
         },
         {
          "norm_I": 0.0002588888488964624,
          "x": 13.872180451127818
         },
         {
          "norm_I": 0.00031962846008062716,
          "x": 13.94736842105263
         },
         {
          "norm_I": 0.0003817096703662174,
          "x": 14.022556390977442
         },
         {
          "norm_I": 0.00044355032885987013,
          "x": 14.097744360902254
         },
         {
          "norm_I": 0.00050362720997007,
          "x": 14.172932330827066
         },
         {
          "norm_I": 0.0005605072553799509,
          "x": 14.248120300751879
         },
         {
          "norm_I": 0.0006128758946206754,
          "x": 14.32330827067669
         },
         {
          "norm_I": 0.000659561926470377,
          "x": 14.398496240601503
         },
         {
          "norm_I": 0.0006995585323981154,
          "x": 14.473684210526315
         },
         {
          "norm_I": 0.0007320400886770647,
          "x": 14.548872180451127
         },
         {
          "norm_I": 0.0007563745434148454,
          "x": 14.62406015037594
         },
         {
          "norm_I": 0.0007721312263746704,
          "x": 14.699248120300751
         },
         {
          "norm_I": 0.0007790840608934203,
          "x": 14.774436090225564
         },
         {
          "norm_I": 0.0007772102463126346,
          "x": 14.849624060150376
         },
         {
          "norm_I": 0.0007666845741053045,
          "x": 14.924812030075188
         },
         {
          "norm_I": 0.000747869629432488,
          "x": 15
         }
        ]
       },
       "encoding": {
        "order": {
         "field": "x",
         "type": "quantitative"
        },
        "x": {
         "field": "x",
         "type": "quantitative"
        },
        "y": {
         "field": "norm_I",
         "title": "I(x)/Io",
         "type": "quantitative"
        }
       },
       "height": 150,
       "mark": {
        "filled": true,
        "opacity": 1,
        "size": 5,
        "type": "point"
       }
      },
      "image/png": "[encoded data removed]",
      "text/plain": [
       "<VegaLite 2 object>\n",
       "\n",
       "If you see this message, it means the renderer has not been properly enabled\n",
       "for the frontend that you are using. For more information, see\n",
       "https://altair-viz.github.io/user_guide/troubleshooting.html\n"
      ]
     },
     "execution_count": 41,
     "metadata": {},
     "output_type": "execute_result"
    }
   ],
   "source": [
    "alt.Chart(df_airy,\n",
    "          height=150\n",
    "    ).mark_point(\n",
    "        size=5,\n",
    "        filled=True,\n",
    "        opacity=1\n",
    "    ).encode(\n",
    "        x='x:Q',\n",
    "        y=alt.Y('norm_I:Q', title='I(x)/Io'),\n",
    "        order='x:Q'\n",
    "    )"
   ]
  },
  {
   "cell_type": "code",
   "execution_count": 42,
   "metadata": {},
   "outputs": [],
   "source": [
    "#ECDF time!\n",
    "\n",
    "df = pd.read_csv('data/gfmt_sleep.csv', comment='#')\n",
    "df['insomnia'] = df['sci'] <= 16"
   ]
  },
  {
   "cell_type": "code",
   "execution_count": 43,
   "metadata": {},
   "outputs": [
    {
     "data": {
      "text/plain": [
       "\u001b[0;31mSignature:\u001b[0m \u001b[0mbootcamp_utils\u001b[0m\u001b[0;34m.\u001b[0m\u001b[0mecdf_y\u001b[0m\u001b[0;34m(\u001b[0m\u001b[0mdata\u001b[0m\u001b[0;34m)\u001b[0m\u001b[0;34m\u001b[0m\u001b[0m\n",
       "\u001b[0;31mSource:\u001b[0m   \n",
       "\u001b[0;32mdef\u001b[0m \u001b[0mecdf_y\u001b[0m\u001b[0;34m(\u001b[0m\u001b[0mdata\u001b[0m\u001b[0;34m)\u001b[0m\u001b[0;34m:\u001b[0m\u001b[0;34m\u001b[0m\n",
       "\u001b[0;34m\u001b[0m    \u001b[0;34m\"\"\"Give y-values of an ECDF for an unsorted column in a data frame.\u001b[0m\n",
       "\u001b[0;34m    \u001b[0m\n",
       "\u001b[0;34m    Parameters\u001b[0m\n",
       "\u001b[0;34m    ----------\u001b[0m\n",
       "\u001b[0;34m    data : Pandas Series\u001b[0m\n",
       "\u001b[0;34m        Series (or column of a DataFrame) from which to generate ECDF\u001b[0m\n",
       "\u001b[0;34m        values\u001b[0m\n",
       "\u001b[0;34m\u001b[0m\n",
       "\u001b[0;34m    Returns\u001b[0m\n",
       "\u001b[0;34m    -------\u001b[0m\n",
       "\u001b[0;34m    output : Pandas Series\u001b[0m\n",
       "\u001b[0;34m        Corresponding y-values for an ECDF when plotted with dots.\u001b[0m\n",
       "\u001b[0;34m\u001b[0m\n",
       "\u001b[0;34m    Notes\u001b[0m\n",
       "\u001b[0;34m    -----\u001b[0m\n",
       "\u001b[0;34m    .. This only works for plotting an ECDF with points, not for formal\u001b[0m\n",
       "\u001b[0;34m       ECDFs\u001b[0m\n",
       "\u001b[0;34m    \"\"\"\u001b[0m\u001b[0;34m\u001b[0m\n",
       "\u001b[0;34m\u001b[0m    \u001b[0;32mreturn\u001b[0m \u001b[0mdata\u001b[0m\u001b[0;34m.\u001b[0m\u001b[0mrank\u001b[0m\u001b[0;34m(\u001b[0m\u001b[0mmethod\u001b[0m\u001b[0;34m=\u001b[0m\u001b[0;34m'first'\u001b[0m\u001b[0;34m)\u001b[0m \u001b[0;34m/\u001b[0m \u001b[0mlen\u001b[0m\u001b[0;34m(\u001b[0m\u001b[0mdata\u001b[0m\u001b[0;34m)\u001b[0m\u001b[0;34m\u001b[0m\u001b[0m\n",
       "\u001b[0;31mFile:\u001b[0m      ~/git/bootcamp/modules/bootcamp_utils/bootcamp_utils/viz.py\n",
       "\u001b[0;31mType:\u001b[0m      function\n"
      ]
     },
     "metadata": {},
     "output_type": "display_data"
    }
   ],
   "source": [
    "bootcamp_utils.ecdf_y??"
   ]
  },
  {
   "cell_type": "code",
   "execution_count": 46,
   "metadata": {},
   "outputs": [],
   "source": [
    "grouped = df.groupby('insomnia')\n",
    "df['percent correct ecdf_y grouped by insomnia'] = (\n",
    "    grouped['percent correct'].transform(bootcamp_utils.ecdf_y))"
   ]
  },
  {
   "cell_type": "code",
   "execution_count": 47,
   "metadata": {},
   "outputs": [
    {
     "data": {
      "text/html": [
       "<div>\n",
       "<style scoped>\n",
       "    .dataframe tbody tr th:only-of-type {\n",
       "        vertical-align: middle;\n",
       "    }\n",
       "\n",
       "    .dataframe tbody tr th {\n",
       "        vertical-align: top;\n",
       "    }\n",
       "\n",
       "    .dataframe thead th {\n",
       "        text-align: right;\n",
       "    }\n",
       "</style>\n",
       "<table border=\"1\" class=\"dataframe\">\n",
       "  <thead>\n",
       "    <tr style=\"text-align: right;\">\n",
       "      <th></th>\n",
       "      <th>participant number</th>\n",
       "      <th>gender</th>\n",
       "      <th>age</th>\n",
       "      <th>correct hit percentage</th>\n",
       "      <th>correct reject percentage</th>\n",
       "      <th>percent correct</th>\n",
       "      <th>confidence when correct hit</th>\n",
       "      <th>confidence incorrect hit</th>\n",
       "      <th>confidence correct reject</th>\n",
       "      <th>confidence incorrect reject</th>\n",
       "      <th>confidence when correct</th>\n",
       "      <th>confidence when incorrect</th>\n",
       "      <th>sci</th>\n",
       "      <th>psqi</th>\n",
       "      <th>ess</th>\n",
       "      <th>insomnia</th>\n",
       "      <th>percent correct ecdf_y grouped by insomnia</th>\n",
       "    </tr>\n",
       "  </thead>\n",
       "  <tbody>\n",
       "    <tr>\n",
       "      <th>0</th>\n",
       "      <td>8</td>\n",
       "      <td>f</td>\n",
       "      <td>39</td>\n",
       "      <td>65</td>\n",
       "      <td>80</td>\n",
       "      <td>72.5</td>\n",
       "      <td>91.0</td>\n",
       "      <td>90</td>\n",
       "      <td>93.0</td>\n",
       "      <td>83.5</td>\n",
       "      <td>93.0</td>\n",
       "      <td>90</td>\n",
       "      <td>9</td>\n",
       "      <td>13</td>\n",
       "      <td>2</td>\n",
       "      <td>True</td>\n",
       "      <td>0.44</td>\n",
       "    </tr>\n",
       "    <tr>\n",
       "      <th>1</th>\n",
       "      <td>16</td>\n",
       "      <td>m</td>\n",
       "      <td>42</td>\n",
       "      <td>90</td>\n",
       "      <td>90</td>\n",
       "      <td>90.0</td>\n",
       "      <td>75.5</td>\n",
       "      <td>55.5</td>\n",
       "      <td>70.5</td>\n",
       "      <td>50</td>\n",
       "      <td>75.0</td>\n",
       "      <td>50</td>\n",
       "      <td>4</td>\n",
       "      <td>11</td>\n",
       "      <td>7</td>\n",
       "      <td>True</td>\n",
       "      <td>0.84</td>\n",
       "    </tr>\n",
       "    <tr>\n",
       "      <th>2</th>\n",
       "      <td>18</td>\n",
       "      <td>f</td>\n",
       "      <td>31</td>\n",
       "      <td>90</td>\n",
       "      <td>95</td>\n",
       "      <td>92.5</td>\n",
       "      <td>89.5</td>\n",
       "      <td>90</td>\n",
       "      <td>86.0</td>\n",
       "      <td>81</td>\n",
       "      <td>89.0</td>\n",
       "      <td>88</td>\n",
       "      <td>10</td>\n",
       "      <td>9</td>\n",
       "      <td>3</td>\n",
       "      <td>True</td>\n",
       "      <td>0.92</td>\n",
       "    </tr>\n",
       "    <tr>\n",
       "      <th>3</th>\n",
       "      <td>22</td>\n",
       "      <td>f</td>\n",
       "      <td>35</td>\n",
       "      <td>100</td>\n",
       "      <td>75</td>\n",
       "      <td>87.5</td>\n",
       "      <td>89.5</td>\n",
       "      <td>*</td>\n",
       "      <td>71.0</td>\n",
       "      <td>80</td>\n",
       "      <td>88.0</td>\n",
       "      <td>80</td>\n",
       "      <td>13</td>\n",
       "      <td>8</td>\n",
       "      <td>20</td>\n",
       "      <td>True</td>\n",
       "      <td>0.76</td>\n",
       "    </tr>\n",
       "    <tr>\n",
       "      <th>4</th>\n",
       "      <td>27</td>\n",
       "      <td>f</td>\n",
       "      <td>74</td>\n",
       "      <td>60</td>\n",
       "      <td>65</td>\n",
       "      <td>62.5</td>\n",
       "      <td>68.5</td>\n",
       "      <td>49</td>\n",
       "      <td>61.0</td>\n",
       "      <td>49</td>\n",
       "      <td>65.0</td>\n",
       "      <td>49</td>\n",
       "      <td>13</td>\n",
       "      <td>9</td>\n",
       "      <td>12</td>\n",
       "      <td>True</td>\n",
       "      <td>0.12</td>\n",
       "    </tr>\n",
       "  </tbody>\n",
       "</table>\n",
       "</div>"
      ],
      "text/plain": [
       "   participant number gender  age  correct hit percentage  \\\n",
       "0                   8      f   39                      65   \n",
       "1                  16      m   42                      90   \n",
       "2                  18      f   31                      90   \n",
       "3                  22      f   35                     100   \n",
       "4                  27      f   74                      60   \n",
       "\n",
       "   correct reject percentage  percent correct  confidence when correct hit  \\\n",
       "0                         80             72.5                         91.0   \n",
       "1                         90             90.0                         75.5   \n",
       "2                         95             92.5                         89.5   \n",
       "3                         75             87.5                         89.5   \n",
       "4                         65             62.5                         68.5   \n",
       "\n",
       "  confidence incorrect hit  confidence correct reject  \\\n",
       "0                       90                       93.0   \n",
       "1                     55.5                       70.5   \n",
       "2                       90                       86.0   \n",
       "3                        *                       71.0   \n",
       "4                       49                       61.0   \n",
       "\n",
       "  confidence incorrect reject  confidence when correct  \\\n",
       "0                        83.5                     93.0   \n",
       "1                          50                     75.0   \n",
       "2                          81                     89.0   \n",
       "3                          80                     88.0   \n",
       "4                          49                     65.0   \n",
       "\n",
       "  confidence when incorrect  sci  psqi  ess  insomnia  \\\n",
       "0                        90    9    13    2      True   \n",
       "1                        50    4    11    7      True   \n",
       "2                        88   10     9    3      True   \n",
       "3                        80   13     8   20      True   \n",
       "4                        49   13     9   12      True   \n",
       "\n",
       "   percent correct ecdf_y grouped by insomnia  \n",
       "0                                        0.44  \n",
       "1                                        0.84  \n",
       "2                                        0.92  \n",
       "3                                        0.76  \n",
       "4                                        0.12  "
      ]
     },
     "execution_count": 47,
     "metadata": {},
     "output_type": "execute_result"
    }
   ],
   "source": [
    "df.head()"
   ]
  },
  {
   "cell_type": "code",
   "execution_count": 61,
   "metadata": {},
   "outputs": [
    {
     "data": {
      "application/vnd.vegalite.v2+json": {
       "$schema": "https://vega.github.io/schema/vega-lite/v2.4.3.json",
       "config": {
        "view": {
         "height": 300,
         "width": 400
        }
       },
       "data": {
        "values": [
         {
          "age": 39,
          "confidence correct reject": 93,
          "confidence incorrect hit": "90",
          "confidence incorrect reject": "83.5",
          "confidence when correct": 93,
          "confidence when correct hit": 91,
          "confidence when incorrect": "90",
          "correct hit percentage": 65,
          "correct reject percentage": 80,
          "ess": 2,
          "gender": "f",
          "insomnia": true,
          "participant number": 8,
          "percent correct": 72.5,
          "percent correct ecdf_y grouped by insomnia": 0.44,
          "psqi": 13,
          "sci": 9
         },
         {
          "age": 42,
          "confidence correct reject": 70.5,
          "confidence incorrect hit": "55.5",
          "confidence incorrect reject": "50",
          "confidence when correct": 75,
          "confidence when correct hit": 75.5,
          "confidence when incorrect": "50",
          "correct hit percentage": 90,
          "correct reject percentage": 90,
          "ess": 7,
          "gender": "m",
          "insomnia": true,
          "participant number": 16,
          "percent correct": 90,
          "percent correct ecdf_y grouped by insomnia": 0.84,
          "psqi": 11,
          "sci": 4
         },
         {
          "age": 31,
          "confidence correct reject": 86,
          "confidence incorrect hit": "90",
          "confidence incorrect reject": "81",
          "confidence when correct": 89,
          "confidence when correct hit": 89.5,
          "confidence when incorrect": "88",
          "correct hit percentage": 90,
          "correct reject percentage": 95,
          "ess": 3,
          "gender": "f",
          "insomnia": true,
          "participant number": 18,
          "percent correct": 92.5,
          "percent correct ecdf_y grouped by insomnia": 0.92,
          "psqi": 9,
          "sci": 10
         },
         {
          "age": 35,
          "confidence correct reject": 71,
          "confidence incorrect hit": "*",
          "confidence incorrect reject": "80",
          "confidence when correct": 88,
          "confidence when correct hit": 89.5,
          "confidence when incorrect": "80",
          "correct hit percentage": 100,
          "correct reject percentage": 75,
          "ess": 20,
          "gender": "f",
          "insomnia": true,
          "participant number": 22,
          "percent correct": 87.5,
          "percent correct ecdf_y grouped by insomnia": 0.76,
          "psqi": 8,
          "sci": 13
         },
         {
          "age": 74,
          "confidence correct reject": 61,
          "confidence incorrect hit": "49",
          "confidence incorrect reject": "49",
          "confidence when correct": 65,
          "confidence when correct hit": 68.5,
          "confidence when incorrect": "49",
          "correct hit percentage": 60,
          "correct reject percentage": 65,
          "ess": 12,
          "gender": "f",
          "insomnia": true,
          "participant number": 27,
          "percent correct": 62.5,
          "percent correct ecdf_y grouped by insomnia": 0.12,
          "psqi": 9,
          "sci": 13
         },
         {
          "age": 61,
          "confidence correct reject": 31,
          "confidence incorrect hit": "63",
          "confidence incorrect reject": "72.5",
          "confidence when correct": 64.5,
          "confidence when correct hit": 71,
          "confidence when incorrect": "70.5",
          "correct hit percentage": 80,
          "correct reject percentage": 20,
          "ess": 2,
          "gender": "f",
          "insomnia": true,
          "participant number": 28,
          "percent correct": 50,
          "percent correct ecdf_y grouped by insomnia": 0.08,
          "psqi": 14,
          "sci": 15
         },
         {
          "age": 32,
          "confidence correct reject": 66,
          "confidence incorrect hit": "56.5",
          "confidence incorrect reject": "65",
          "confidence when correct": 66,
          "confidence when correct hit": 67,
          "confidence when incorrect": "64",
          "correct hit percentage": 90,
          "correct reject percentage": 75,
          "ess": 3,
          "gender": "m",
          "insomnia": true,
          "participant number": 30,
          "percent correct": 82.5,
          "percent correct ecdf_y grouped by insomnia": 0.68,
          "psqi": 9,
          "sci": 16
         },
         {
          "age": 62,
          "confidence correct reject": 65,
          "confidence incorrect hit": "37",
          "confidence incorrect reject": "81.5",
          "confidence when correct": 62,
          "confidence when correct hit": 54,
          "confidence when incorrect": "61",
          "correct hit percentage": 45,
          "correct reject percentage": 90,
          "ess": 9,
          "gender": "m",
          "insomnia": true,
          "participant number": 33,
          "percent correct": 67.5,
          "percent correct ecdf_y grouped by insomnia": 0.24,
          "psqi": 9,
          "sci": 14
         },
         {
          "age": 33,
          "confidence correct reject": 64.5,
          "confidence incorrect hit": "76.5",
          "confidence incorrect reject": "*",
          "confidence when correct": 68,
          "confidence when correct hit": 70.5,
          "confidence when incorrect": "76.5",
          "correct hit percentage": 80,
          "correct reject percentage": 100,
          "ess": 10,
          "gender": "f",
          "insomnia": true,
          "participant number": 34,
          "percent correct": 90,
          "percent correct ecdf_y grouped by insomnia": 0.88,
          "psqi": 12,
          "sci": 14
         },
         {
          "age": 53,
          "confidence correct reject": 60.5,
          "confidence incorrect hit": "*",
          "confidence incorrect reject": "65",
          "confidence when correct": 71,
          "confidence when correct hit": 74.5,
          "confidence when incorrect": "65",
          "correct hit percentage": 100,
          "correct reject percentage": 50,
          "ess": 7,
          "gender": "f",
          "insomnia": true,
          "participant number": 35,
          "percent correct": 75,
          "percent correct ecdf_y grouped by insomnia": 0.48,
          "psqi": 8,
          "sci": 14
         },
         {
          "age": 41,
          "confidence correct reject": 73,
          "confidence incorrect hit": "61.5",
          "confidence incorrect reject": "69",
          "confidence when correct": 82,
          "confidence when correct hit": 82,
          "confidence when incorrect": "64",
          "correct hit percentage": 70,
          "correct reject percentage": 55,
          "ess": 19,
          "gender": "f",
          "insomnia": true,
          "participant number": 38,
          "percent correct": 62.5,
          "percent correct ecdf_y grouped by insomnia": 0.16,
          "psqi": 5,
          "sci": 14
         },
         {
          "age": 36,
          "confidence correct reject": 75,
          "confidence incorrect hit": "75.5",
          "confidence incorrect reject": "*",
          "confidence when correct": 76,
          "confidence when correct hit": 76.5,
          "confidence when incorrect": "75.5",
          "correct hit percentage": 90,
          "correct reject percentage": 100,
          "ess": 0,
          "gender": "f",
          "insomnia": true,
          "participant number": 41,
          "percent correct": 95,
          "percent correct ecdf_y grouped by insomnia": 0.96,
          "psqi": 7,
          "sci": 15
         },
         {
          "age": 40,
          "confidence correct reject": 79,
          "confidence incorrect hit": "89",
          "confidence incorrect reject": "58.5",
          "confidence when correct": 79.5,
          "confidence when correct hit": 80,
          "confidence when incorrect": "63",
          "correct hit percentage": 95,
          "correct reject percentage": 65,
          "ess": 8,
          "gender": "f",
          "insomnia": true,
          "participant number": 46,
          "percent correct": 80,
          "percent correct ecdf_y grouped by insomnia": 0.56,
          "psqi": 12,
          "sci": 10
         },
         {
          "age": 24,
          "confidence correct reject": 49,
          "confidence incorrect hit": "50",
          "confidence incorrect reject": "68",
          "confidence when correct": 55,
          "confidence when correct hit": 58,
          "confidence when incorrect": "59",
          "correct hit percentage": 85,
          "correct reject percentage": 75,
          "ess": 4,
          "gender": "f",
          "insomnia": true,
          "participant number": 49,
          "percent correct": 80,
          "percent correct ecdf_y grouped by insomnia": 0.6,
          "psqi": 13,
          "sci": 14
         },
         {
          "age": 32,
          "confidence correct reject": 85,
          "confidence incorrect hit": "81",
          "confidence incorrect reject": "86",
          "confidence when correct": 85,
          "confidence when correct hit": 85,
          "confidence when incorrect": "83.5",
          "correct hit percentage": 75,
          "correct reject percentage": 55,
          "ess": 7,
          "gender": "f",
          "insomnia": true,
          "participant number": 55,
          "percent correct": 65,
          "percent correct ecdf_y grouped by insomnia": 0.2,
          "psqi": 13,
          "sci": 5
         },
         {
          "age": 40,
          "confidence correct reject": 70,
          "confidence incorrect hit": "56",
          "confidence incorrect reject": "*",
          "confidence when correct": 70,
          "confidence when correct hit": 69,
          "confidence when incorrect": "56",
          "correct hit percentage": 40,
          "correct reject percentage": 100,
          "ess": 14,
          "gender": "f",
          "insomnia": true,
          "participant number": 71,
          "percent correct": 70,
          "percent correct ecdf_y grouped by insomnia": 0.28,
          "psqi": 11,
          "sci": 0
         },
         {
          "age": 61,
          "confidence correct reject": 44.5,
          "confidence incorrect hit": "*",
          "confidence incorrect reject": "73",
          "confidence when correct": 54.5,
          "confidence when correct hit": 69.5,
          "confidence when incorrect": "73",
          "correct hit percentage": 100,
          "correct reject percentage": 40,
          "ess": 12,
          "gender": "f",
          "insomnia": true,
          "participant number": 76,
          "percent correct": 70,
          "percent correct ecdf_y grouped by insomnia": 0.32,
          "psqi": 4,
          "sci": 16
         },
         {
          "age": 42,
          "confidence correct reject": 90.5,
          "confidence incorrect hit": "72",
          "confidence incorrect reject": "43.5",
          "confidence when correct": 88.5,
          "confidence when correct hit": 87,
          "confidence when incorrect": "64",
          "correct hit percentage": 70,
          "correct reject percentage": 90,
          "ess": 10,
          "gender": "f",
          "insomnia": true,
          "participant number": 77,
          "percent correct": 80,
          "percent correct ecdf_y grouped by insomnia": 0.64,
          "psqi": 10,
          "sci": 11
         },
         {
          "age": 31,
          "confidence correct reject": 81,
          "confidence incorrect hit": "*",
          "confidence incorrect reject": "60",
          "confidence when correct": 87.5,
          "confidence when correct hit": 92,
          "confidence when incorrect": "60",
          "correct hit percentage": 100,
          "correct reject percentage": 70,
          "ess": 11,
          "gender": "m",
          "insomnia": true,
          "participant number": 78,
          "percent correct": 85,
          "percent correct ecdf_y grouped by insomnia": 0.72,
          "psqi": 6,
          "sci": 14
         },
         {
          "age": 28,
          "confidence correct reject": 100,
          "confidence incorrect hit": "*",
          "confidence incorrect reject": "100",
          "confidence when correct": 100,
          "confidence when correct hit": 100,
          "confidence when incorrect": "100",
          "correct hit percentage": 100,
          "correct reject percentage": 50,
          "ess": 12,
          "gender": "m",
          "insomnia": true,
          "participant number": 80,
          "percent correct": 75,
          "percent correct ecdf_y grouped by insomnia": 0.52,
          "psqi": 7,
          "sci": 12
         },
         {
          "age": 26,
          "confidence correct reject": 82,
          "confidence incorrect hit": "77",
          "confidence incorrect reject": "67.5",
          "confidence when correct": 77,
          "confidence when correct hit": 70,
          "confidence when incorrect": "70.5",
          "correct hit percentage": 60,
          "correct reject percentage": 80,
          "ess": 1,
          "gender": "f",
          "insomnia": true,
          "participant number": 89,
          "percent correct": 70,
          "percent correct ecdf_y grouped by insomnia": 0.36,
          "psqi": 8,
          "sci": 14
         },
         {
          "age": 45,
          "confidence correct reject": 100,
          "confidence incorrect hit": "*",
          "confidence incorrect reject": "100",
          "confidence when correct": 100,
          "confidence when correct hit": 100,
          "confidence when incorrect": "100",
          "correct hit percentage": 100,
          "correct reject percentage": 95,
          "ess": 6,
          "gender": "m",
          "insomnia": true,
          "participant number": 90,
          "percent correct": 97.5,
          "percent correct ecdf_y grouped by insomnia": 1,
          "psqi": 9,
          "sci": 14
         },
         {
          "age": 28,
          "confidence correct reject": 67,
          "confidence incorrect hit": "*",
          "confidence incorrect reject": "60",
          "confidence when correct": 80,
          "confidence when correct hit": 89.5,
          "confidence when incorrect": "60",
          "correct hit percentage": 100,
          "correct reject percentage": 75,
          "ess": 4,
          "gender": "f",
          "insomnia": true,
          "participant number": 93,
          "percent correct": 87.5,
          "percent correct ecdf_y grouped by insomnia": 0.8,
          "psqi": 7,
          "sci": 16
         },
         {
          "age": 44,
          "confidence correct reject": 87,
          "confidence incorrect hit": "72",
          "confidence incorrect reject": "77",
          "confidence when correct": 69.5,
          "confidence when correct hit": 62,
          "confidence when incorrect": "73.5",
          "correct hit percentage": 65,
          "correct reject percentage": 25,
          "ess": 6,
          "gender": "f",
          "insomnia": true,
          "participant number": 100,
          "percent correct": 45,
          "percent correct ecdf_y grouped by insomnia": 0.04,
          "psqi": 15,
          "sci": 1
         },
         {
          "age": 28,
          "confidence correct reject": 68,
          "confidence incorrect hit": "*",
          "confidence incorrect reject": "54",
          "confidence when correct": 81,
          "confidence when correct hit": 87,
          "confidence when incorrect": "54",
          "correct hit percentage": 100,
          "correct reject percentage": 40,
          "ess": 2,
          "gender": "f",
          "insomnia": true,
          "participant number": 101,
          "percent correct": 70,
          "percent correct ecdf_y grouped by insomnia": 0.4,
          "psqi": 7,
          "sci": 14
         },
         {
          "age": 42,
          "confidence correct reject": 43,
          "confidence incorrect hit": "44.5",
          "confidence incorrect reject": "49",
          "confidence when correct": 51,
          "confidence when correct hit": 51.5,
          "confidence when incorrect": "49",
          "correct hit percentage": 80,
          "correct reject percentage": 65,
          "ess": 5,
          "gender": "f",
          "insomnia": false,
          "participant number": 1,
          "percent correct": 72.5,
          "percent correct ecdf_y grouped by insomnia": 0.16883116883116883,
          "psqi": 1,
          "sci": 29
         },
         {
          "age": 45,
          "confidence correct reject": 80,
          "confidence incorrect hit": "55.5",
          "confidence incorrect reject": "75",
          "confidence when correct": 78.5,
          "confidence when correct hit": 75,
          "confidence when incorrect": "67",
          "correct hit percentage": 80,
          "correct reject percentage": 90,
          "ess": 1,
          "gender": "f",
          "insomnia": false,
          "participant number": 2,
          "percent correct": 85,
          "percent correct ecdf_y grouped by insomnia": 0.45454545454545453,
          "psqi": 5,
          "sci": 19
         },
         {
          "age": 16,
          "confidence correct reject": 54,
          "confidence incorrect hit": "57",
          "confidence incorrect reject": "53",
          "confidence when correct": 57,
          "confidence when correct hit": 70,
          "confidence when incorrect": "54.5",
          "correct hit percentage": 70,
          "correct reject percentage": 80,
          "ess": 3,
          "gender": "f",
          "insomnia": false,
          "participant number": 3,
          "percent correct": 75,
          "percent correct ecdf_y grouped by insomnia": 0.23376623376623376,
          "psqi": 1,
          "sci": 23
         },
         {
          "age": 21,
          "confidence correct reject": 50,
          "confidence incorrect hit": "64",
          "confidence incorrect reject": "50",
          "confidence when correct": 60,
          "confidence when correct hit": 63.5,
          "confidence when incorrect": "50",
          "correct hit percentage": 70,
          "correct reject percentage": 65,
          "ess": 4,
          "gender": "f",
          "insomnia": false,
          "participant number": 4,
          "percent correct": 67.5,
          "percent correct ecdf_y grouped by insomnia": 0.11688311688311688,
          "psqi": 5,
          "sci": 26
         },
         {
          "age": 18,
          "confidence correct reject": 80,
          "confidence incorrect hit": "83",
          "confidence incorrect reject": "*",
          "confidence when correct": 80,
          "confidence when correct hit": 76.5,
          "confidence when incorrect": "83",
          "correct hit percentage": 90,
          "correct reject percentage": 100,
          "ess": 5,
          "gender": "f",
          "insomnia": false,
          "participant number": 5,
          "percent correct": 95,
          "percent correct ecdf_y grouped by insomnia": 0.922077922077922,
          "psqi": 7,
          "sci": 21
         },
         {
          "age": 28,
          "confidence correct reject": 94,
          "confidence incorrect hit": "85",
          "confidence incorrect reject": "61",
          "confidence when correct": 99,
          "confidence when correct hit": 100,
          "confidence when incorrect": "65",
          "correct hit percentage": 95,
          "correct reject percentage": 80,
          "ess": 12,
          "gender": "f",
          "insomnia": false,
          "participant number": 6,
          "percent correct": 87.5,
          "percent correct ecdf_y grouped by insomnia": 0.6233766233766234,
          "psqi": 7,
          "sci": 19
         },
         {
          "age": 38,
          "confidence correct reject": 79,
          "confidence incorrect hit": "43.5",
          "confidence incorrect reject": "21",
          "confidence when correct": 78,
          "confidence when correct hit": 77,
          "confidence when incorrect": "36",
          "correct hit percentage": 90,
          "correct reject percentage": 95,
          "ess": 4,
          "gender": "f",
          "insomnia": false,
          "participant number": 7,
          "percent correct": 92.5,
          "percent correct ecdf_y grouped by insomnia": 0.8441558441558441,
          "psqi": 3,
          "sci": 28
         },
         {
          "age": 17,
          "confidence correct reject": 76.5,
          "confidence incorrect hit": "87.5",
          "confidence incorrect reject": "27",
          "confidence when correct": 78.5,
          "confidence when correct hit": 80.5,
          "confidence when incorrect": "67.5",
          "correct hit percentage": 90,
          "correct reject percentage": 90,
          "ess": 4,
          "gender": "m",
          "insomnia": false,
          "participant number": 9,
          "percent correct": 90,
          "percent correct ecdf_y grouped by insomnia": 0.7532467532467533,
          "psqi": 3,
          "sci": 29
         },
         {
          "age": 25,
          "confidence correct reject": 85,
          "confidence incorrect hit": "*",
          "confidence incorrect reject": "*",
          "confidence when correct": 90,
          "confidence when correct hit": 90,
          "confidence when incorrect": "*",
          "correct hit percentage": 100,
          "correct reject percentage": 100,
          "ess": 11,
          "gender": "f",
          "insomnia": false,
          "participant number": 10,
          "percent correct": 100,
          "percent correct ecdf_y grouped by insomnia": 0.974025974025974,
          "psqi": 10,
          "sci": 17
         },
         {
          "age": 22,
          "confidence correct reject": 70,
          "confidence incorrect hit": "70",
          "confidence incorrect reject": "65",
          "confidence when correct": 70,
          "confidence when correct hit": 70,
          "confidence when incorrect": "70",
          "correct hit percentage": 80,
          "correct reject percentage": 60,
          "ess": 6,
          "gender": "f",
          "insomnia": false,
          "participant number": 11,
          "percent correct": 70,
          "percent correct ecdf_y grouped by insomnia": 0.14285714285714285,
          "psqi": 4,
          "sci": 22
         },
         {
          "age": 41,
          "confidence correct reject": 67.5,
          "confidence incorrect hit": "55.5",
          "confidence incorrect reject": "52.5",
          "confidence when correct": 74,
          "confidence when correct hit": 76.5,
          "confidence when incorrect": "55.5",
          "correct hit percentage": 90,
          "correct reject percentage": 80,
          "ess": 3,
          "gender": "m",
          "insomnia": false,
          "participant number": 12,
          "percent correct": 85,
          "percent correct ecdf_y grouped by insomnia": 0.4675324675324675,
          "psqi": 5,
          "sci": 28
         },
         {
          "age": 53,
          "confidence correct reject": 56,
          "confidence incorrect hit": "33",
          "confidence incorrect reject": "49",
          "confidence when correct": 47,
          "confidence when correct hit": 40,
          "confidence when incorrect": "44",
          "correct hit percentage": 95,
          "correct reject percentage": 60,
          "ess": 11,
          "gender": "m",
          "insomnia": false,
          "participant number": 13,
          "percent correct": 77.5,
          "percent correct ecdf_y grouped by insomnia": 0.2727272727272727,
          "psqi": 2,
          "sci": 31
         },
         {
          "age": 43,
          "confidence correct reject": 49,
          "confidence incorrect hit": "29",
          "confidence incorrect reject": "36",
          "confidence when correct": 52,
          "confidence when correct hit": 52,
          "confidence when incorrect": "29",
          "correct hit percentage": 95,
          "correct reject percentage": 90,
          "ess": 10,
          "gender": "m",
          "insomnia": false,
          "participant number": 14,
          "percent correct": 92.5,
          "percent correct ecdf_y grouped by insomnia": 0.8571428571428571,
          "psqi": 2,
          "sci": 31
         },
         {
          "age": 23,
          "confidence correct reject": 70.5,
          "confidence incorrect hit": "40",
          "confidence incorrect reject": "66.5",
          "confidence when correct": 84,
          "confidence when correct hit": 88,
          "confidence when incorrect": "54.5",
          "correct hit percentage": 90,
          "correct reject percentage": 80,
          "ess": 12,
          "gender": "f",
          "insomnia": false,
          "participant number": 15,
          "percent correct": 85,
          "percent correct ecdf_y grouped by insomnia": 0.4805194805194805,
          "psqi": 2,
          "sci": 32
         },
         {
          "age": 19,
          "confidence correct reject": 66,
          "confidence incorrect hit": "50",
          "confidence incorrect reject": "50.5",
          "confidence when correct": 63,
          "confidence when correct hit": 62,
          "confidence when incorrect": "50",
          "correct hit percentage": 55,
          "correct reject percentage": 60,
          "ess": 6,
          "gender": "m",
          "insomnia": false,
          "participant number": 17,
          "percent correct": 57.5,
          "percent correct ecdf_y grouped by insomnia": 0.03896103896103896,
          "psqi": 5,
          "sci": 25
         },
         {
          "age": 45,
          "confidence correct reject": 61,
          "confidence incorrect hit": "*",
          "confidence incorrect reject": "54",
          "confidence when correct": 62,
          "confidence when correct hit": 68,
          "confidence when incorrect": "54",
          "correct hit percentage": 100,
          "correct reject percentage": 85,
          "ess": 13,
          "gender": "f",
          "insomnia": false,
          "participant number": 19,
          "percent correct": 92.5,
          "percent correct ecdf_y grouped by insomnia": 0.8701298701298701,
          "psqi": 2,
          "sci": 30
         },
         {
          "age": 43,
          "confidence correct reject": 64,
          "confidence incorrect hit": "55",
          "confidence incorrect reject": "59",
          "confidence when correct": 59.5,
          "confidence when correct hit": 59,
          "confidence when incorrect": "57",
          "correct hit percentage": 65,
          "correct reject percentage": 65,
          "ess": 12,
          "gender": "f",
          "insomnia": false,
          "participant number": 20,
          "percent correct": 65,
          "percent correct ecdf_y grouped by insomnia": 0.1038961038961039,
          "psqi": 3,
          "sci": 28
         },
         {
          "age": 35,
          "confidence correct reject": 74.5,
          "confidence incorrect hit": "35.5",
          "confidence incorrect reject": "*",
          "confidence when correct": 75.5,
          "confidence when correct hit": 75.5,
          "confidence when incorrect": "35.5",
          "correct hit percentage": 90,
          "correct reject percentage": 100,
          "ess": 5,
          "gender": "m",
          "insomnia": false,
          "participant number": 21,
          "percent correct": 95,
          "percent correct ecdf_y grouped by insomnia": 0.935064935064935,
          "psqi": 3,
          "sci": 30
         },
         {
          "age": 24,
          "confidence correct reject": 80,
          "confidence incorrect hit": "67",
          "confidence incorrect reject": "*",
          "confidence when correct": 78,
          "confidence when correct hit": 68,
          "confidence when incorrect": "67",
          "correct hit percentage": 55,
          "correct reject percentage": 100,
          "ess": 10,
          "gender": "m",
          "insomnia": false,
          "participant number": 23,
          "percent correct": 77.5,
          "percent correct ecdf_y grouped by insomnia": 0.2857142857142857,
          "psqi": 4,
          "sci": 22
         },
         {
          "age": 64,
          "confidence correct reject": 66,
          "confidence incorrect hit": "25",
          "confidence incorrect reject": "24",
          "confidence when correct": 63,
          "confidence when correct hit": 50,
          "confidence when incorrect": "24.5",
          "correct hit percentage": 75,
          "correct reject percentage": 85,
          "ess": 4,
          "gender": "f",
          "insomnia": false,
          "participant number": 24,
          "percent correct": 80,
          "percent correct ecdf_y grouped by insomnia": 0.38961038961038963,
          "psqi": 9,
          "sci": 20
         },
         {
          "age": 36,
          "confidence correct reject": 66,
          "confidence incorrect hit": "*",
          "confidence incorrect reject": "63.5",
          "confidence when correct": 81,
          "confidence when correct hit": 88,
          "confidence when incorrect": "63.5",
          "correct hit percentage": 100,
          "correct reject percentage": 80,
          "ess": 4,
          "gender": "f",
          "insomnia": false,
          "participant number": 25,
          "percent correct": 90,
          "percent correct ecdf_y grouped by insomnia": 0.7662337662337663,
          "psqi": 5,
          "sci": 26
         },
         {
          "age": 35,
          "confidence correct reject": 19,
          "confidence incorrect hit": "28.5",
          "confidence incorrect reject": "41.5",
          "confidence when correct": 24,
          "confidence when correct hit": 29.5,
          "confidence when incorrect": "35",
          "correct hit percentage": 70,
          "correct reject percentage": 90,
          "ess": 6,
          "gender": "m",
          "insomnia": false,
          "participant number": 26,
          "percent correct": 80,
          "percent correct ecdf_y grouped by insomnia": 0.4025974025974026,
          "psqi": 2,
          "sci": 32
         },
         {
          "age": 43,
          "confidence correct reject": 41,
          "confidence incorrect hit": "27",
          "confidence incorrect reject": "45",
          "confidence when correct": 50,
          "confidence when correct hit": 65.5,
          "confidence when incorrect": "45",
          "correct hit percentage": 90,
          "correct reject percentage": 85,
          "ess": 3,
          "gender": "f",
          "insomnia": false,
          "participant number": 29,
          "percent correct": 87.5,
          "percent correct ecdf_y grouped by insomnia": 0.6363636363636364,
          "psqi": 1,
          "sci": 32
         },
         {
          "age": 44,
          "confidence correct reject": 79,
          "confidence incorrect hit": "56",
          "confidence incorrect reject": "42.5",
          "confidence when correct": 81,
          "confidence when correct hit": 83,
          "confidence when incorrect": "54",
          "correct hit percentage": 95,
          "correct reject percentage": 90,
          "ess": 0,
          "gender": "m",
          "insomnia": false,
          "participant number": 31,
          "percent correct": 92.5,
          "percent correct ecdf_y grouped by insomnia": 0.8831168831168831,
          "psqi": 4,
          "sci": 24
         },
         {
          "age": 29,
          "confidence correct reject": 65,
          "confidence incorrect hit": "53",
          "confidence incorrect reject": "53",
          "confidence when correct": 67,
          "confidence when correct hit": 67,
          "confidence when incorrect": "53",
          "correct hit percentage": 95,
          "correct reject percentage": 55,
          "ess": 12,
          "gender": "f",
          "insomnia": false,
          "participant number": 32,
          "percent correct": 75,
          "percent correct ecdf_y grouped by insomnia": 0.24675324675324675,
          "psqi": 8,
          "sci": 26
         },
         {
          "age": 22,
          "confidence correct reject": 77,
          "confidence incorrect hit": "88",
          "confidence incorrect reject": "80",
          "confidence when correct": 77,
          "confidence when correct hit": 78,
          "confidence when incorrect": "84",
          "correct hit percentage": 70,
          "correct reject percentage": 65,
          "ess": 6,
          "gender": "m",
          "insomnia": false,
          "participant number": 36,
          "percent correct": 67.5,
          "percent correct ecdf_y grouped by insomnia": 0.12987012987012986,
          "psqi": 2,
          "sci": 30
         },
         {
          "age": 46,
          "confidence correct reject": 100,
          "confidence incorrect hit": "72",
          "confidence incorrect reject": "91",
          "confidence when correct": 100,
          "confidence when correct hit": 72.5,
          "confidence when incorrect": "91",
          "correct hit percentage": 80,
          "correct reject percentage": 75,
          "ess": 5,
          "gender": "f",
          "insomnia": false,
          "participant number": 37,
          "percent correct": 77.5,
          "percent correct ecdf_y grouped by insomnia": 0.2987012987012987,
          "psqi": 2,
          "sci": 28
         },
         {
          "age": 35,
          "confidence correct reject": 77,
          "confidence incorrect hit": "29",
          "confidence incorrect reject": "32",
          "confidence when correct": 68,
          "confidence when correct hit": 62.5,
          "confidence when incorrect": "31",
          "correct hit percentage": 50,
          "correct reject percentage": 95,
          "ess": 9,
          "gender": "f",
          "insomnia": false,
          "participant number": 39,
          "percent correct": 72.5,
          "percent correct ecdf_y grouped by insomnia": 0.18181818181818182,
          "psqi": 6,
          "sci": 21
         },
         {
          "age": 53,
          "confidence correct reject": 47.5,
          "confidence incorrect hit": "32",
          "confidence incorrect reject": "78.5",
          "confidence when correct": 48,
          "confidence when correct hit": 54,
          "confidence when incorrect": "51",
          "correct hit percentage": 65,
          "correct reject percentage": 80,
          "ess": 7,
          "gender": "m",
          "insomnia": false,
          "participant number": 40,
          "percent correct": 72.5,
          "percent correct ecdf_y grouped by insomnia": 0.19480519480519481,
          "psqi": 3,
          "sci": 29
         },
         {
          "age": 29,
          "confidence correct reject": 64.5,
          "confidence incorrect hit": "*",
          "confidence incorrect reject": "43",
          "confidence when correct": 74,
          "confidence when correct hit": 75,
          "confidence when incorrect": "43",
          "correct hit percentage": 100,
          "correct reject percentage": 70,
          "ess": 6,
          "gender": "m",
          "insomnia": false,
          "participant number": 42,
          "percent correct": 85,
          "percent correct ecdf_y grouped by insomnia": 0.4935064935064935,
          "psqi": 1,
          "sci": 32
         },
         {
          "age": 31,
          "confidence correct reject": 81,
          "confidence incorrect hit": "49",
          "confidence incorrect reject": "36",
          "confidence when correct": 82,
          "confidence when correct hit": 82,
          "confidence when incorrect": "49",
          "correct hit percentage": 85,
          "correct reject percentage": 90,
          "ess": 10,
          "gender": "f",
          "insomnia": false,
          "participant number": 43,
          "percent correct": 87.5,
          "percent correct ecdf_y grouped by insomnia": 0.6493506493506493,
          "psqi": 5,
          "sci": 26
         },
         {
          "age": 21,
          "confidence correct reject": 70,
          "confidence incorrect hit": "29",
          "confidence incorrect reject": "29",
          "confidence when correct": 67,
          "confidence when correct hit": 66,
          "confidence when incorrect": "29",
          "correct hit percentage": 85,
          "correct reject percentage": 90,
          "ess": 18,
          "gender": "f",
          "insomnia": false,
          "participant number": 44,
          "percent correct": 87.5,
          "percent correct ecdf_y grouped by insomnia": 0.6623376623376623,
          "psqi": 7,
          "sci": 26
         },
         {
          "age": 42,
          "confidence correct reject": 80.5,
          "confidence incorrect hit": "83",
          "confidence incorrect reject": "36",
          "confidence when correct": 82.5,
          "confidence when correct hit": 83,
          "confidence when incorrect": "76",
          "correct hit percentage": 90,
          "correct reject percentage": 90,
          "ess": 11,
          "gender": "f",
          "insomnia": false,
          "participant number": 45,
          "percent correct": 90,
          "percent correct ecdf_y grouped by insomnia": 0.7792207792207793,
          "psqi": 3,
          "sci": 23
         },
         {
          "age": 23,
          "confidence correct reject": 69,
          "confidence incorrect hit": "47",
          "confidence incorrect reject": "40",
          "confidence when correct": 67,
          "confidence when correct hit": 67,
          "confidence when incorrect": "40",
          "correct hit percentage": 90,
          "correct reject percentage": 85,
          "ess": 8,
          "gender": "f",
          "insomnia": false,
          "participant number": 48,
          "percent correct": 87.5,
          "percent correct ecdf_y grouped by insomnia": 0.6753246753246753,
          "psqi": 6,
          "sci": 18
         },
         {
          "age": 54,
          "confidence correct reject": 77.5,
          "confidence incorrect hit": "83.5",
          "confidence incorrect reject": "69",
          "confidence when correct": 88,
          "confidence when correct hit": 90,
          "confidence when incorrect": "79",
          "correct hit percentage": 90,
          "correct reject percentage": 70,
          "ess": 16,
          "gender": "m",
          "insomnia": false,
          "participant number": 50,
          "percent correct": 80,
          "percent correct ecdf_y grouped by insomnia": 0.4155844155844156,
          "psqi": 6,
          "sci": 22
         },
         {
          "age": 24,
          "confidence correct reject": 74,
          "confidence incorrect hit": "41",
          "confidence incorrect reject": "73",
          "confidence when correct": 83,
          "confidence when correct hit": 97,
          "confidence when incorrect": "55.5",
          "correct hit percentage": 85,
          "correct reject percentage": 95,
          "ess": 7,
          "gender": "f",
          "insomnia": false,
          "participant number": 51,
          "percent correct": 90,
          "percent correct ecdf_y grouped by insomnia": 0.7922077922077922,
          "psqi": 1,
          "sci": 29
         },
         {
          "age": 21,
          "confidence correct reject": 56,
          "confidence incorrect hit": "73",
          "confidence incorrect reject": "68",
          "confidence when correct": 63.5,
          "confidence when correct hit": 65,
          "confidence when incorrect": "68",
          "correct hit percentage": 85,
          "correct reject percentage": 75,
          "ess": 9,
          "gender": "f",
          "insomnia": false,
          "participant number": 52,
          "percent correct": 80,
          "percent correct ecdf_y grouped by insomnia": 0.42857142857142855,
          "psqi": 6,
          "sci": 20
         },
         {
          "age": 21,
          "confidence correct reject": 73.5,
          "confidence incorrect hit": "55.5",
          "confidence incorrect reject": "70",
          "confidence when correct": 80.5,
          "confidence when correct hit": 84,
          "confidence when incorrect": "65",
          "correct hit percentage": 90,
          "correct reject percentage": 80,
          "ess": 11,
          "gender": "f",
          "insomnia": false,
          "participant number": 53,
          "percent correct": 85,
          "percent correct ecdf_y grouped by insomnia": 0.5064935064935064,
          "psqi": 4,
          "sci": 27
         },
         {
          "age": 43,
          "confidence correct reject": 68,
          "confidence incorrect hit": "89",
          "confidence incorrect reject": "65",
          "confidence when correct": 71,
          "confidence when correct hit": 74,
          "confidence when incorrect": "68",
          "correct hit percentage": 95,
          "correct reject percentage": 75,
          "ess": 4,
          "gender": "f",
          "insomnia": false,
          "participant number": 54,
          "percent correct": 85,
          "percent correct ecdf_y grouped by insomnia": 0.5194805194805194,
          "psqi": 4,
          "sci": 19
         },
         {
          "age": 50,
          "confidence correct reject": 95,
          "confidence incorrect hit": "72.5",
          "confidence incorrect reject": "65",
          "confidence when correct": 95,
          "confidence when correct hit": 92.5,
          "confidence when incorrect": "65",
          "correct hit percentage": 70,
          "correct reject percentage": 85,
          "ess": 7,
          "gender": "m",
          "insomnia": false,
          "participant number": 56,
          "percent correct": 77.5,
          "percent correct ecdf_y grouped by insomnia": 0.3116883116883117,
          "psqi": 3,
          "sci": 29
         },
         {
          "age": 53,
          "confidence correct reject": 68,
          "confidence incorrect hit": "55",
          "confidence incorrect reject": "61",
          "confidence when correct": 78.5,
          "confidence when correct hit": 84,
          "confidence when incorrect": "58",
          "correct hit percentage": 95,
          "correct reject percentage": 75,
          "ess": 4,
          "gender": "f",
          "insomnia": false,
          "participant number": 57,
          "percent correct": 85,
          "percent correct ecdf_y grouped by insomnia": 0.5324675324675324,
          "psqi": 5,
          "sci": 24
         },
         {
          "age": 16,
          "confidence correct reject": 50,
          "confidence incorrect hit": "30",
          "confidence incorrect reject": "40",
          "confidence when correct": 52.5,
          "confidence when correct hit": 55,
          "confidence when incorrect": "35",
          "correct hit percentage": 85,
          "correct reject percentage": 85,
          "ess": 11,
          "gender": "f",
          "insomnia": false,
          "participant number": 58,
          "percent correct": 85,
          "percent correct ecdf_y grouped by insomnia": 0.5454545454545454,
          "psqi": 2,
          "sci": 29
         },
         {
          "age": 67,
          "confidence correct reject": 69,
          "confidence incorrect hit": "7",
          "confidence incorrect reject": "60",
          "confidence when correct": 69,
          "confidence when correct hit": 70,
          "confidence when incorrect": "59.5",
          "correct hit percentage": 95,
          "correct reject percentage": 75,
          "ess": 12,
          "gender": "f",
          "insomnia": false,
          "participant number": 59,
          "percent correct": 85,
          "percent correct ecdf_y grouped by insomnia": 0.5584415584415584,
          "psqi": 7,
          "sci": 17
         },
         {
          "age": 36,
          "confidence correct reject": 55,
          "confidence incorrect hit": "28.5",
          "confidence incorrect reject": "52",
          "confidence when correct": 61,
          "confidence when correct hit": 67.5,
          "confidence when incorrect": "50",
          "correct hit percentage": 90,
          "correct reject percentage": 65,
          "ess": 3,
          "gender": "m",
          "insomnia": false,
          "participant number": 60,
          "percent correct": 77.5,
          "percent correct ecdf_y grouped by insomnia": 0.3246753246753247,
          "psqi": 4,
          "sci": 26
         },
         {
          "age": 34,
          "confidence correct reject": 73.5,
          "confidence incorrect hit": "43",
          "confidence incorrect reject": "53.5",
          "confidence when correct": 66,
          "confidence when correct hit": 58.5,
          "confidence when incorrect": "47.5",
          "correct hit percentage": 90,
          "correct reject percentage": 90,
          "ess": 3,
          "gender": "f",
          "insomnia": false,
          "participant number": 61,
          "percent correct": 90,
          "percent correct ecdf_y grouped by insomnia": 0.8051948051948052,
          "psqi": 0,
          "sci": 30
         },
         {
          "age": 42,
          "confidence correct reject": 74,
          "confidence incorrect hit": "*",
          "confidence incorrect reject": "*",
          "confidence when correct": 74,
          "confidence when correct hit": 74.5,
          "confidence when incorrect": "*",
          "correct hit percentage": 100,
          "correct reject percentage": 100,
          "ess": 4,
          "gender": "f",
          "insomnia": false,
          "participant number": 62,
          "percent correct": 100,
          "percent correct ecdf_y grouped by insomnia": 0.987012987012987,
          "psqi": 5,
          "sci": 17
         },
         {
          "age": 46,
          "confidence correct reject": 92,
          "confidence incorrect hit": "75.5",
          "confidence incorrect reject": "63",
          "confidence when correct": 92,
          "confidence when correct hit": 92,
          "confidence when incorrect": "73.5",
          "correct hit percentage": 80,
          "correct reject percentage": 90,
          "ess": 11,
          "gender": "f",
          "insomnia": false,
          "participant number": 63,
          "percent correct": 85,
          "percent correct ecdf_y grouped by insomnia": 0.5714285714285714,
          "psqi": 1,
          "sci": 25
         },
         {
          "age": 69,
          "confidence correct reject": 78.5,
          "confidence incorrect hit": "65",
          "confidence incorrect reject": "70.5",
          "confidence when correct": 80,
          "confidence when correct hit": 80,
          "confidence when incorrect": "70",
          "correct hit percentage": 95,
          "correct reject percentage": 80,
          "ess": 1,
          "gender": "f",
          "insomnia": false,
          "participant number": 64,
          "percent correct": 87.5,
          "percent correct ecdf_y grouped by insomnia": 0.6883116883116883,
          "psqi": 1,
          "sci": 31
         },
         {
          "age": 31,
          "confidence correct reject": 90,
          "confidence incorrect hit": "*",
          "confidence incorrect reject": "40",
          "confidence when correct": 92,
          "confidence when correct hit": 98,
          "confidence when incorrect": "40",
          "correct hit percentage": 100,
          "correct reject percentage": 95,
          "ess": 4,
          "gender": "f",
          "insomnia": false,
          "participant number": 65,
          "percent correct": 97.5,
          "percent correct ecdf_y grouped by insomnia": 0.961038961038961,
          "psqi": 4,
          "sci": 27
         },
         {
          "age": 44,
          "confidence correct reject": 69,
          "confidence incorrect hit": "47.5",
          "confidence incorrect reject": "87",
          "confidence when correct": 83,
          "confidence when correct hit": 87,
          "confidence when incorrect": "67",
          "correct hit percentage": 90,
          "correct reject percentage": 95,
          "ess": 2,
          "gender": "f",
          "insomnia": false,
          "participant number": 66,
          "percent correct": 92.5,
          "percent correct ecdf_y grouped by insomnia": 0.8961038961038961,
          "psqi": 1,
          "sci": 32
         },
         {
          "age": 25,
          "confidence correct reject": 58.5,
          "confidence incorrect hit": "*",
          "confidence incorrect reject": "*",
          "confidence when correct": 60.5,
          "confidence when correct hit": 61.5,
          "confidence when incorrect": "*",
          "correct hit percentage": 100,
          "correct reject percentage": 100,
          "ess": 9,
          "gender": "f",
          "insomnia": false,
          "participant number": 67,
          "percent correct": 100,
          "percent correct ecdf_y grouped by insomnia": 1,
          "psqi": 8,
          "sci": 28
         },
         {
          "age": 45,
          "confidence correct reject": 63,
          "confidence incorrect hit": "51.5",
          "confidence incorrect reject": "69",
          "confidence when correct": 72.5,
          "confidence when correct hit": 80.5,
          "confidence when incorrect": "61.5",
          "correct hit percentage": 70,
          "correct reject percentage": 50,
          "ess": 1,
          "gender": "f",
          "insomnia": false,
          "participant number": 68,
          "percent correct": 60,
          "percent correct ecdf_y grouped by insomnia": 0.05194805194805195,
          "psqi": 4,
          "sci": 25
         },
         {
          "age": 47,
          "confidence correct reject": 71.5,
          "confidence incorrect hit": "*",
          "confidence incorrect reject": "83",
          "confidence when correct": 97.5,
          "confidence when correct hit": 100,
          "confidence when incorrect": "83",
          "correct hit percentage": 90,
          "correct reject percentage": 100,
          "ess": 2,
          "gender": "f",
          "insomnia": false,
          "participant number": 69,
          "percent correct": 95,
          "percent correct ecdf_y grouped by insomnia": 0.948051948051948,
          "psqi": 2,
          "sci": 30
         },
         {
          "age": 33,
          "confidence correct reject": 58.5,
          "confidence incorrect hit": "38",
          "confidence incorrect reject": "65",
          "confidence when correct": 68,
          "confidence when correct hit": 70,
          "confidence when incorrect": "40",
          "correct hit percentage": 85,
          "correct reject percentage": 70,
          "ess": 12,
          "gender": "f",
          "insomnia": false,
          "participant number": 70,
          "percent correct": 77.5,
          "percent correct ecdf_y grouped by insomnia": 0.33766233766233766,
          "psqi": 7,
          "sci": 21
         },
         {
          "age": 18,
          "confidence correct reject": 66,
          "confidence incorrect hit": "51.5",
          "confidence incorrect reject": "57",
          "confidence when correct": 67,
          "confidence when correct hit": 67.5,
          "confidence when incorrect": "53",
          "correct hit percentage": 80,
          "correct reject percentage": 75,
          "ess": 6,
          "gender": "f",
          "insomnia": false,
          "participant number": 72,
          "percent correct": 77.5,
          "percent correct ecdf_y grouped by insomnia": 0.35064935064935066,
          "psqi": 4,
          "sci": 29
         },
         {
          "age": 74,
          "confidence correct reject": 63,
          "confidence incorrect hit": "55",
          "confidence incorrect reject": "50.5",
          "confidence when correct": 65,
          "confidence when correct hit": 66,
          "confidence when incorrect": "55",
          "correct hit percentage": 85,
          "correct reject percentage": 80,
          "ess": 5,
          "gender": "f",
          "insomnia": false,
          "participant number": 73,
          "percent correct": 82.5,
          "percent correct ecdf_y grouped by insomnia": 0.44155844155844154,
          "psqi": 1,
          "sci": 20
         },
         {
          "age": 21,
          "confidence correct reject": 74.5,
          "confidence incorrect hit": "80",
          "confidence incorrect reject": "83",
          "confidence when correct": 82,
          "confidence when correct hit": 90.5,
          "confidence when incorrect": "81",
          "correct hit percentage": 40,
          "correct reject percentage": 40,
          "ess": 5,
          "gender": "m",
          "insomnia": false,
          "participant number": 74,
          "percent correct": 40,
          "percent correct ecdf_y grouped by insomnia": 0.012987012987012988,
          "psqi": 7,
          "sci": 22
         },
         {
          "age": 45,
          "confidence correct reject": 76,
          "confidence incorrect hit": "67",
          "confidence incorrect reject": "17",
          "confidence when correct": 75,
          "confidence when correct hit": 74,
          "confidence when incorrect": "64",
          "correct hit percentage": 80,
          "correct reject percentage": 95,
          "ess": 4,
          "gender": "f",
          "insomnia": false,
          "participant number": 75,
          "percent correct": 87.5,
          "percent correct ecdf_y grouped by insomnia": 0.7012987012987013,
          "psqi": 4,
          "sci": 23
         },
         {
          "age": 37,
          "confidence correct reject": 83.5,
          "confidence incorrect hit": "68",
          "confidence incorrect reject": "83",
          "confidence when correct": 94,
          "confidence when correct hit": 95.5,
          "confidence when incorrect": "71",
          "correct hit percentage": 90,
          "correct reject percentage": 80,
          "ess": 9,
          "gender": "f",
          "insomnia": false,
          "participant number": 79,
          "percent correct": 85,
          "percent correct ecdf_y grouped by insomnia": 0.5844155844155844,
          "psqi": 5,
          "sci": 20
         },
         {
          "age": 41,
          "confidence correct reject": 70,
          "confidence incorrect hit": "59.5",
          "confidence incorrect reject": "41",
          "confidence when correct": 77,
          "confidence when correct hit": 80,
          "confidence when incorrect": "59",
          "correct hit percentage": 90,
          "correct reject percentage": 85,
          "ess": 3,
          "gender": "m",
          "insomnia": false,
          "participant number": 81,
          "percent correct": 87.5,
          "percent correct ecdf_y grouped by insomnia": 0.7142857142857143,
          "psqi": 6,
          "sci": 17
         },
         {
          "age": 41,
          "confidence correct reject": 86,
          "confidence incorrect hit": "61.5",
          "confidence incorrect reject": "74",
          "confidence when correct": 92,
          "confidence when correct hit": 94.5,
          "confidence when incorrect": "67",
          "correct hit percentage": 80,
          "correct reject percentage": 75,
          "ess": 8,
          "gender": "f",
          "insomnia": false,
          "participant number": 82,
          "percent correct": 77.5,
          "percent correct ecdf_y grouped by insomnia": 0.36363636363636365,
          "psqi": 4,
          "sci": 27
         },
         {
          "age": 34,
          "confidence correct reject": 71,
          "confidence incorrect hit": "52",
          "confidence incorrect reject": "58",
          "confidence when correct": 81,
          "confidence when correct hit": 81,
          "confidence when incorrect": "58",
          "correct hit percentage": 90,
          "correct reject percentage": 35,
          "ess": 6,
          "gender": "f",
          "insomnia": false,
          "participant number": 83,
          "percent correct": 62.5,
          "percent correct ecdf_y grouped by insomnia": 0.07792207792207792,
          "psqi": 2,
          "sci": 27
         },
         {
          "age": 39,
          "confidence correct reject": 59.5,
          "confidence incorrect hit": "57",
          "confidence incorrect reject": "50",
          "confidence when correct": 58,
          "confidence when correct hit": 57,
          "confidence when incorrect": "50",
          "correct hit percentage": 75,
          "correct reject percentage": 70,
          "ess": 10,
          "gender": "f",
          "insomnia": false,
          "participant number": 84,
          "percent correct": 72.5,
          "percent correct ecdf_y grouped by insomnia": 0.2077922077922078,
          "psqi": 3,
          "sci": 22
         },
         {
          "age": 18,
          "confidence correct reject": 91,
          "confidence incorrect hit": "92",
          "confidence incorrect reject": "89",
          "confidence when correct": 91.5,
          "confidence when correct hit": 93,
          "confidence when incorrect": "91",
          "correct hit percentage": 85,
          "correct reject percentage": 85,
          "ess": 21,
          "gender": "f",
          "insomnia": false,
          "participant number": 85,
          "percent correct": 85,
          "percent correct ecdf_y grouped by insomnia": 0.5974025974025974,
          "psqi": 4,
          "sci": 25
         },
         {
          "age": 31,
          "confidence correct reject": 100,
          "confidence incorrect hit": "*",
          "confidence incorrect reject": "50",
          "confidence when correct": 100,
          "confidence when correct hit": 100,
          "confidence when incorrect": "50",
          "correct hit percentage": 100,
          "correct reject percentage": 85,
          "ess": 5,
          "gender": "f",
          "insomnia": false,
          "participant number": 86,
          "percent correct": 92.5,
          "percent correct ecdf_y grouped by insomnia": 0.9090909090909091,
          "psqi": 3,
          "sci": 30
         },
         {
          "age": 26,
          "confidence correct reject": 82,
          "confidence incorrect hit": "88",
          "confidence incorrect reject": "82",
          "confidence when correct": 85,
          "confidence when correct hit": 85,
          "confidence when incorrect": "85",
          "correct hit percentage": 95,
          "correct reject percentage": 75,
          "ess": 5,
          "gender": "m",
          "insomnia": false,
          "participant number": 87,
          "percent correct": 85,
          "percent correct ecdf_y grouped by insomnia": 0.6103896103896104,
          "psqi": 1,
          "sci": 32
         },
         {
          "age": 66,
          "confidence correct reject": 74,
          "confidence incorrect hit": "66",
          "confidence incorrect reject": "57",
          "confidence when correct": 74,
          "confidence when correct hit": 67.5,
          "confidence when incorrect": "64",
          "correct hit percentage": 60,
          "correct reject percentage": 85,
          "ess": 9,
          "gender": "m",
          "insomnia": false,
          "participant number": 88,
          "percent correct": 72.5,
          "percent correct ecdf_y grouped by insomnia": 0.22077922077922077,
          "psqi": 5,
          "sci": 30
         },
         {
          "age": 62,
          "confidence correct reject": 74.5,
          "confidence incorrect hit": "*",
          "confidence incorrect reject": "82",
          "confidence when correct": 79.5,
          "confidence when correct hit": 81,
          "confidence when incorrect": "82",
          "correct hit percentage": 100,
          "correct reject percentage": 80,
          "ess": 1,
          "gender": "m",
          "insomnia": false,
          "participant number": 91,
          "percent correct": 90,
          "percent correct ecdf_y grouped by insomnia": 0.8181818181818182,
          "psqi": 2,
          "sci": 32
         },
         {
          "age": 22,
          "confidence correct reject": 72,
          "confidence incorrect hit": "56",
          "confidence incorrect reject": "63",
          "confidence when correct": 70.5,
          "confidence when correct hit": 66,
          "confidence when incorrect": "59.5",
          "correct hit percentage": 85,
          "correct reject percentage": 95,
          "ess": 8,
          "gender": "m",
          "insomnia": false,
          "participant number": 92,
          "percent correct": 90,
          "percent correct ecdf_y grouped by insomnia": 0.8311688311688312,
          "psqi": 1,
          "sci": 28
         },
         {
          "age": 41,
          "confidence correct reject": 80,
          "confidence incorrect hit": "61",
          "confidence incorrect reject": "57",
          "confidence when correct": 72,
          "confidence when correct hit": 55,
          "confidence when incorrect": "60",
          "correct hit percentage": 35,
          "correct reject percentage": 75,
          "ess": 11,
          "gender": "f",
          "insomnia": false,
          "participant number": 94,
          "percent correct": 55,
          "percent correct ecdf_y grouped by insomnia": 0.025974025974025976,
          "psqi": 1,
          "sci": 31
         },
         {
          "age": 46,
          "confidence correct reject": 80,
          "confidence incorrect hit": "75",
          "confidence incorrect reject": "80",
          "confidence when correct": 85,
          "confidence when correct hit": 90,
          "confidence when incorrect": "75",
          "correct hit percentage": 95,
          "correct reject percentage": 80,
          "ess": 5,
          "gender": "m",
          "insomnia": false,
          "participant number": 95,
          "percent correct": 87.5,
          "percent correct ecdf_y grouped by insomnia": 0.7272727272727273,
          "psqi": 3,
          "sci": 29
         },
         {
          "age": 56,
          "confidence correct reject": 67.5,
          "confidence incorrect hit": "52.5",
          "confidence incorrect reject": "65.5",
          "confidence when correct": 64,
          "confidence when correct hit": 63,
          "confidence when incorrect": "59.5",
          "correct hit percentage": 70,
          "correct reject percentage": 50,
          "ess": 7,
          "gender": "f",
          "insomnia": false,
          "participant number": 96,
          "percent correct": 60,
          "percent correct ecdf_y grouped by insomnia": 0.06493506493506493,
          "psqi": 6,
          "sci": 26
         },
         {
          "age": 23,
          "confidence correct reject": 77,
          "confidence incorrect hit": "66.5",
          "confidence incorrect reject": "77.5",
          "confidence when correct": 77,
          "confidence when correct hit": 77,
          "confidence when incorrect": "74",
          "correct hit percentage": 70,
          "correct reject percentage": 85,
          "ess": 10,
          "gender": "f",
          "insomnia": false,
          "participant number": 97,
          "percent correct": 77.5,
          "percent correct ecdf_y grouped by insomnia": 0.37662337662337664,
          "psqi": 8,
          "sci": 20
         },
         {
          "age": 70,
          "confidence correct reject": 87,
          "confidence incorrect hit": "85.5",
          "confidence incorrect reject": "80",
          "confidence when correct": 74,
          "confidence when correct hit": 65.5,
          "confidence when incorrect": "80",
          "correct hit percentage": 90,
          "correct reject percentage": 85,
          "ess": 7,
          "gender": "f",
          "insomnia": false,
          "participant number": 98,
          "percent correct": 87.5,
          "percent correct ecdf_y grouped by insomnia": 0.7402597402597403,
          "psqi": 8,
          "sci": 19
         },
         {
          "age": 24,
          "confidence correct reject": 70,
          "confidence incorrect hit": "81",
          "confidence incorrect reject": "61",
          "confidence when correct": 65,
          "confidence when correct hit": 61.5,
          "confidence when incorrect": "81",
          "correct hit percentage": 70,
          "correct reject percentage": 80,
          "ess": 15,
          "gender": "f",
          "insomnia": false,
          "participant number": 99,
          "percent correct": 75,
          "percent correct ecdf_y grouped by insomnia": 0.2597402597402597,
          "psqi": 2,
          "sci": 31
         },
         {
          "age": 40,
          "confidence correct reject": 84,
          "confidence incorrect hit": "37",
          "confidence incorrect reject": "52",
          "confidence when correct": 81,
          "confidence when correct hit": 53,
          "confidence when incorrect": "51",
          "correct hit percentage": 75,
          "correct reject percentage": 65,
          "ess": 7,
          "gender": "f",
          "insomnia": false,
          "participant number": 102,
          "percent correct": 70,
          "percent correct ecdf_y grouped by insomnia": 0.15584415584415584,
          "psqi": 4,
          "sci": 22
         },
         {
          "age": 33,
          "confidence correct reject": 31,
          "confidence incorrect hit": "27",
          "confidence incorrect reject": "82.5",
          "confidence when correct": 81,
          "confidence when correct hit": 80,
          "confidence when incorrect": "73",
          "correct hit percentage": 85,
          "correct reject percentage": 40,
          "ess": 7,
          "gender": "f",
          "insomnia": false,
          "participant number": 103,
          "percent correct": 62.5,
          "percent correct ecdf_y grouped by insomnia": 0.09090909090909091,
          "psqi": 5,
          "sci": 24
         }
        ]
       },
       "encoding": {
        "color": {
         "field": "insomnia",
         "type": "nominal"
        },
        "x": {
         "field": "percent correct",
         "scale": {
          "zero": false
         },
         "type": "quantitative"
        },
        "y": {
         "field": "percent correct ecdf_y grouped by insomnia",
         "title": "ECDF",
         "type": "quantitative"
        }
       },
       "mark": {
        "opacity": 0.8,
        "size": 75,
        "type": "point"
       }
      },
      "image/png": "[encoded data removed]",
      "text/plain": [
       "<VegaLite 2 object>\n",
       "\n",
       "If you see this message, it means the renderer has not been properly enabled\n",
       "for the frontend that you are using. For more information, see\n",
       "https://altair-viz.github.io/user_guide/troubleshooting.html\n"
      ]
     },
     "execution_count": 61,
     "metadata": {},
     "output_type": "execute_result"
    }
   ],
   "source": [
    "alt.Chart(df,\n",
    "    ).mark_point(\n",
    "        opacity=0.8,\n",
    "        size=75\n",
    "    ).encode(\n",
    "        x=alt.X('percent correct:Q', scale=alt.Scale(zero=False)),\n",
    "        y=alt.Y('percent correct ecdf_y grouped by insomnia:Q',\n",
    "               title='ECDF'),\n",
    "        color='insomnia'\n",
    "    )"
   ]
  },
  {
   "cell_type": "markdown",
   "metadata": {},
   "source": [
    "Looks like these don't really plateau at 1 anywhere in the dataset, so these data don't really show a gaussian distribution\n",
    "We can see that the ECDF shifts left upon insomnia!\n",
    "\n",
    "This plot is the dot representation, which is the same info as the formal \"step\" version, and either is fine\n",
    "Justin also write the formal \"step\" version"
   ]
  },
  {
   "cell_type": "code",
   "execution_count": 62,
   "metadata": {},
   "outputs": [],
   "source": [
    "df_ecdf = bootcamp_utils.ecdf_dataframe(df,\n",
    "                                        'percent correct',\n",
    "                                       color='insomnia',\n",
    "                                       )"
   ]
  },
  {
   "cell_type": "code",
   "execution_count": 63,
   "metadata": {},
   "outputs": [
    {
     "data": {
      "text/html": [
       "<div>\n",
       "<style scoped>\n",
       "    .dataframe tbody tr th:only-of-type {\n",
       "        vertical-align: middle;\n",
       "    }\n",
       "\n",
       "    .dataframe tbody tr th {\n",
       "        vertical-align: top;\n",
       "    }\n",
       "\n",
       "    .dataframe thead th {\n",
       "        text-align: right;\n",
       "    }\n",
       "</style>\n",
       "<table border=\"1\" class=\"dataframe\">\n",
       "  <thead>\n",
       "    <tr style=\"text-align: right;\">\n",
       "      <th></th>\n",
       "      <th>insomnia</th>\n",
       "      <th>percent correct</th>\n",
       "      <th>ECDF</th>\n",
       "    </tr>\n",
       "  </thead>\n",
       "  <tbody>\n",
       "    <tr>\n",
       "      <th>0</th>\n",
       "      <td>False</td>\n",
       "      <td>40.0</td>\n",
       "      <td>0.012987</td>\n",
       "    </tr>\n",
       "    <tr>\n",
       "      <th>1</th>\n",
       "      <td>False</td>\n",
       "      <td>55.0</td>\n",
       "      <td>0.025974</td>\n",
       "    </tr>\n",
       "    <tr>\n",
       "      <th>2</th>\n",
       "      <td>False</td>\n",
       "      <td>57.5</td>\n",
       "      <td>0.038961</td>\n",
       "    </tr>\n",
       "    <tr>\n",
       "      <th>3</th>\n",
       "      <td>False</td>\n",
       "      <td>60.0</td>\n",
       "      <td>0.051948</td>\n",
       "    </tr>\n",
       "    <tr>\n",
       "      <th>4</th>\n",
       "      <td>False</td>\n",
       "      <td>60.0</td>\n",
       "      <td>0.064935</td>\n",
       "    </tr>\n",
       "    <tr>\n",
       "      <th>5</th>\n",
       "      <td>False</td>\n",
       "      <td>62.5</td>\n",
       "      <td>0.077922</td>\n",
       "    </tr>\n",
       "    <tr>\n",
       "      <th>6</th>\n",
       "      <td>False</td>\n",
       "      <td>62.5</td>\n",
       "      <td>0.090909</td>\n",
       "    </tr>\n",
       "    <tr>\n",
       "      <th>7</th>\n",
       "      <td>False</td>\n",
       "      <td>65.0</td>\n",
       "      <td>0.103896</td>\n",
       "    </tr>\n",
       "    <tr>\n",
       "      <th>8</th>\n",
       "      <td>False</td>\n",
       "      <td>67.5</td>\n",
       "      <td>0.116883</td>\n",
       "    </tr>\n",
       "    <tr>\n",
       "      <th>9</th>\n",
       "      <td>False</td>\n",
       "      <td>67.5</td>\n",
       "      <td>0.129870</td>\n",
       "    </tr>\n",
       "    <tr>\n",
       "      <th>10</th>\n",
       "      <td>False</td>\n",
       "      <td>70.0</td>\n",
       "      <td>0.142857</td>\n",
       "    </tr>\n",
       "    <tr>\n",
       "      <th>11</th>\n",
       "      <td>False</td>\n",
       "      <td>70.0</td>\n",
       "      <td>0.155844</td>\n",
       "    </tr>\n",
       "    <tr>\n",
       "      <th>12</th>\n",
       "      <td>False</td>\n",
       "      <td>72.5</td>\n",
       "      <td>0.168831</td>\n",
       "    </tr>\n",
       "    <tr>\n",
       "      <th>13</th>\n",
       "      <td>False</td>\n",
       "      <td>72.5</td>\n",
       "      <td>0.181818</td>\n",
       "    </tr>\n",
       "    <tr>\n",
       "      <th>14</th>\n",
       "      <td>False</td>\n",
       "      <td>72.5</td>\n",
       "      <td>0.194805</td>\n",
       "    </tr>\n",
       "    <tr>\n",
       "      <th>15</th>\n",
       "      <td>False</td>\n",
       "      <td>72.5</td>\n",
       "      <td>0.207792</td>\n",
       "    </tr>\n",
       "    <tr>\n",
       "      <th>16</th>\n",
       "      <td>False</td>\n",
       "      <td>72.5</td>\n",
       "      <td>0.220779</td>\n",
       "    </tr>\n",
       "    <tr>\n",
       "      <th>17</th>\n",
       "      <td>False</td>\n",
       "      <td>75.0</td>\n",
       "      <td>0.233766</td>\n",
       "    </tr>\n",
       "    <tr>\n",
       "      <th>18</th>\n",
       "      <td>False</td>\n",
       "      <td>75.0</td>\n",
       "      <td>0.246753</td>\n",
       "    </tr>\n",
       "    <tr>\n",
       "      <th>19</th>\n",
       "      <td>False</td>\n",
       "      <td>75.0</td>\n",
       "      <td>0.259740</td>\n",
       "    </tr>\n",
       "    <tr>\n",
       "      <th>20</th>\n",
       "      <td>False</td>\n",
       "      <td>77.5</td>\n",
       "      <td>0.272727</td>\n",
       "    </tr>\n",
       "    <tr>\n",
       "      <th>21</th>\n",
       "      <td>False</td>\n",
       "      <td>77.5</td>\n",
       "      <td>0.285714</td>\n",
       "    </tr>\n",
       "    <tr>\n",
       "      <th>22</th>\n",
       "      <td>False</td>\n",
       "      <td>77.5</td>\n",
       "      <td>0.298701</td>\n",
       "    </tr>\n",
       "    <tr>\n",
       "      <th>23</th>\n",
       "      <td>False</td>\n",
       "      <td>77.5</td>\n",
       "      <td>0.311688</td>\n",
       "    </tr>\n",
       "    <tr>\n",
       "      <th>24</th>\n",
       "      <td>False</td>\n",
       "      <td>77.5</td>\n",
       "      <td>0.324675</td>\n",
       "    </tr>\n",
       "    <tr>\n",
       "      <th>25</th>\n",
       "      <td>False</td>\n",
       "      <td>77.5</td>\n",
       "      <td>0.337662</td>\n",
       "    </tr>\n",
       "    <tr>\n",
       "      <th>26</th>\n",
       "      <td>False</td>\n",
       "      <td>77.5</td>\n",
       "      <td>0.350649</td>\n",
       "    </tr>\n",
       "    <tr>\n",
       "      <th>27</th>\n",
       "      <td>False</td>\n",
       "      <td>77.5</td>\n",
       "      <td>0.363636</td>\n",
       "    </tr>\n",
       "    <tr>\n",
       "      <th>28</th>\n",
       "      <td>False</td>\n",
       "      <td>77.5</td>\n",
       "      <td>0.376623</td>\n",
       "    </tr>\n",
       "    <tr>\n",
       "      <th>29</th>\n",
       "      <td>False</td>\n",
       "      <td>80.0</td>\n",
       "      <td>0.389610</td>\n",
       "    </tr>\n",
       "    <tr>\n",
       "      <th>...</th>\n",
       "      <td>...</td>\n",
       "      <td>...</td>\n",
       "      <td>...</td>\n",
       "    </tr>\n",
       "    <tr>\n",
       "      <th>72</th>\n",
       "      <td>False</td>\n",
       "      <td>95.0</td>\n",
       "      <td>0.948052</td>\n",
       "    </tr>\n",
       "    <tr>\n",
       "      <th>73</th>\n",
       "      <td>False</td>\n",
       "      <td>97.5</td>\n",
       "      <td>0.961039</td>\n",
       "    </tr>\n",
       "    <tr>\n",
       "      <th>74</th>\n",
       "      <td>False</td>\n",
       "      <td>100.0</td>\n",
       "      <td>0.974026</td>\n",
       "    </tr>\n",
       "    <tr>\n",
       "      <th>75</th>\n",
       "      <td>False</td>\n",
       "      <td>100.0</td>\n",
       "      <td>0.987013</td>\n",
       "    </tr>\n",
       "    <tr>\n",
       "      <th>76</th>\n",
       "      <td>False</td>\n",
       "      <td>100.0</td>\n",
       "      <td>1.000000</td>\n",
       "    </tr>\n",
       "    <tr>\n",
       "      <th>77</th>\n",
       "      <td>True</td>\n",
       "      <td>45.0</td>\n",
       "      <td>0.040000</td>\n",
       "    </tr>\n",
       "    <tr>\n",
       "      <th>78</th>\n",
       "      <td>True</td>\n",
       "      <td>50.0</td>\n",
       "      <td>0.080000</td>\n",
       "    </tr>\n",
       "    <tr>\n",
       "      <th>79</th>\n",
       "      <td>True</td>\n",
       "      <td>62.5</td>\n",
       "      <td>0.120000</td>\n",
       "    </tr>\n",
       "    <tr>\n",
       "      <th>80</th>\n",
       "      <td>True</td>\n",
       "      <td>62.5</td>\n",
       "      <td>0.160000</td>\n",
       "    </tr>\n",
       "    <tr>\n",
       "      <th>81</th>\n",
       "      <td>True</td>\n",
       "      <td>65.0</td>\n",
       "      <td>0.200000</td>\n",
       "    </tr>\n",
       "    <tr>\n",
       "      <th>82</th>\n",
       "      <td>True</td>\n",
       "      <td>67.5</td>\n",
       "      <td>0.240000</td>\n",
       "    </tr>\n",
       "    <tr>\n",
       "      <th>83</th>\n",
       "      <td>True</td>\n",
       "      <td>70.0</td>\n",
       "      <td>0.280000</td>\n",
       "    </tr>\n",
       "    <tr>\n",
       "      <th>84</th>\n",
       "      <td>True</td>\n",
       "      <td>70.0</td>\n",
       "      <td>0.320000</td>\n",
       "    </tr>\n",
       "    <tr>\n",
       "      <th>85</th>\n",
       "      <td>True</td>\n",
       "      <td>70.0</td>\n",
       "      <td>0.360000</td>\n",
       "    </tr>\n",
       "    <tr>\n",
       "      <th>86</th>\n",
       "      <td>True</td>\n",
       "      <td>70.0</td>\n",
       "      <td>0.400000</td>\n",
       "    </tr>\n",
       "    <tr>\n",
       "      <th>87</th>\n",
       "      <td>True</td>\n",
       "      <td>72.5</td>\n",
       "      <td>0.440000</td>\n",
       "    </tr>\n",
       "    <tr>\n",
       "      <th>88</th>\n",
       "      <td>True</td>\n",
       "      <td>75.0</td>\n",
       "      <td>0.480000</td>\n",
       "    </tr>\n",
       "    <tr>\n",
       "      <th>89</th>\n",
       "      <td>True</td>\n",
       "      <td>75.0</td>\n",
       "      <td>0.520000</td>\n",
       "    </tr>\n",
       "    <tr>\n",
       "      <th>90</th>\n",
       "      <td>True</td>\n",
       "      <td>80.0</td>\n",
       "      <td>0.560000</td>\n",
       "    </tr>\n",
       "    <tr>\n",
       "      <th>91</th>\n",
       "      <td>True</td>\n",
       "      <td>80.0</td>\n",
       "      <td>0.600000</td>\n",
       "    </tr>\n",
       "    <tr>\n",
       "      <th>92</th>\n",
       "      <td>True</td>\n",
       "      <td>80.0</td>\n",
       "      <td>0.640000</td>\n",
       "    </tr>\n",
       "    <tr>\n",
       "      <th>93</th>\n",
       "      <td>True</td>\n",
       "      <td>82.5</td>\n",
       "      <td>0.680000</td>\n",
       "    </tr>\n",
       "    <tr>\n",
       "      <th>94</th>\n",
       "      <td>True</td>\n",
       "      <td>85.0</td>\n",
       "      <td>0.720000</td>\n",
       "    </tr>\n",
       "    <tr>\n",
       "      <th>95</th>\n",
       "      <td>True</td>\n",
       "      <td>87.5</td>\n",
       "      <td>0.760000</td>\n",
       "    </tr>\n",
       "    <tr>\n",
       "      <th>96</th>\n",
       "      <td>True</td>\n",
       "      <td>87.5</td>\n",
       "      <td>0.800000</td>\n",
       "    </tr>\n",
       "    <tr>\n",
       "      <th>97</th>\n",
       "      <td>True</td>\n",
       "      <td>90.0</td>\n",
       "      <td>0.840000</td>\n",
       "    </tr>\n",
       "    <tr>\n",
       "      <th>98</th>\n",
       "      <td>True</td>\n",
       "      <td>90.0</td>\n",
       "      <td>0.880000</td>\n",
       "    </tr>\n",
       "    <tr>\n",
       "      <th>99</th>\n",
       "      <td>True</td>\n",
       "      <td>92.5</td>\n",
       "      <td>0.920000</td>\n",
       "    </tr>\n",
       "    <tr>\n",
       "      <th>100</th>\n",
       "      <td>True</td>\n",
       "      <td>95.0</td>\n",
       "      <td>0.960000</td>\n",
       "    </tr>\n",
       "    <tr>\n",
       "      <th>101</th>\n",
       "      <td>True</td>\n",
       "      <td>97.5</td>\n",
       "      <td>1.000000</td>\n",
       "    </tr>\n",
       "  </tbody>\n",
       "</table>\n",
       "<p>102 rows × 3 columns</p>\n",
       "</div>"
      ],
      "text/plain": [
       "     insomnia  percent correct      ECDF\n",
       "0       False             40.0  0.012987\n",
       "1       False             55.0  0.025974\n",
       "2       False             57.5  0.038961\n",
       "3       False             60.0  0.051948\n",
       "4       False             60.0  0.064935\n",
       "5       False             62.5  0.077922\n",
       "6       False             62.5  0.090909\n",
       "7       False             65.0  0.103896\n",
       "8       False             67.5  0.116883\n",
       "9       False             67.5  0.129870\n",
       "10      False             70.0  0.142857\n",
       "11      False             70.0  0.155844\n",
       "12      False             72.5  0.168831\n",
       "13      False             72.5  0.181818\n",
       "14      False             72.5  0.194805\n",
       "15      False             72.5  0.207792\n",
       "16      False             72.5  0.220779\n",
       "17      False             75.0  0.233766\n",
       "18      False             75.0  0.246753\n",
       "19      False             75.0  0.259740\n",
       "20      False             77.5  0.272727\n",
       "21      False             77.5  0.285714\n",
       "22      False             77.5  0.298701\n",
       "23      False             77.5  0.311688\n",
       "24      False             77.5  0.324675\n",
       "25      False             77.5  0.337662\n",
       "26      False             77.5  0.350649\n",
       "27      False             77.5  0.363636\n",
       "28      False             77.5  0.376623\n",
       "29      False             80.0  0.389610\n",
       "..        ...              ...       ...\n",
       "72      False             95.0  0.948052\n",
       "73      False             97.5  0.961039\n",
       "74      False            100.0  0.974026\n",
       "75      False            100.0  0.987013\n",
       "76      False            100.0  1.000000\n",
       "77       True             45.0  0.040000\n",
       "78       True             50.0  0.080000\n",
       "79       True             62.5  0.120000\n",
       "80       True             62.5  0.160000\n",
       "81       True             65.0  0.200000\n",
       "82       True             67.5  0.240000\n",
       "83       True             70.0  0.280000\n",
       "84       True             70.0  0.320000\n",
       "85       True             70.0  0.360000\n",
       "86       True             70.0  0.400000\n",
       "87       True             72.5  0.440000\n",
       "88       True             75.0  0.480000\n",
       "89       True             75.0  0.520000\n",
       "90       True             80.0  0.560000\n",
       "91       True             80.0  0.600000\n",
       "92       True             80.0  0.640000\n",
       "93       True             82.5  0.680000\n",
       "94       True             85.0  0.720000\n",
       "95       True             87.5  0.760000\n",
       "96       True             87.5  0.800000\n",
       "97       True             90.0  0.840000\n",
       "98       True             90.0  0.880000\n",
       "99       True             92.5  0.920000\n",
       "100      True             95.0  0.960000\n",
       "101      True             97.5  1.000000\n",
       "\n",
       "[102 rows x 3 columns]"
      ]
     },
     "execution_count": 63,
     "metadata": {},
     "output_type": "execute_result"
    }
   ],
   "source": [
    "df_ecdf"
   ]
  },
  {
   "cell_type": "code",
   "execution_count": null,
   "metadata": {},
   "outputs": [],
   "source": []
  }
 ],
 "metadata": {
  "kernelspec": {
   "display_name": "Python 3",
   "language": "python",
   "name": "python3"
  },
  "language_info": {
   "codemirror_mode": {
    "name": "ipython",
    "version": 3
   },
   "file_extension": ".py",
   "mimetype": "text/x-python",
   "name": "python",
   "nbconvert_exporter": "python",
   "pygments_lexer": "ipython3",
   "version": "3.6.5"
  }
 },
 "nbformat": 4,
 "nbformat_minor": 2
}
