{
 "cells": [
  {
   "cell_type": "code",
   "execution_count": 2,
   "metadata": {},
   "outputs": [],
   "source": [
    "#Need to do: (Exp RFP/Exp GFP) / (Con RFP/Con GFP) = ratio\n",
    "#    ECDF formal ratio\n",
    "#    bootstrap and CI ratio\n",
    "    "
   ]
  },
  {
   "cell_type": "code",
   "execution_count": 1,
   "metadata": {},
   "outputs": [],
   "source": [
    "import numpy as np\n",
    "import pandas as pd\n",
    "import scipy.stats\n",
    "\n",
    "import altair as alt\n",
    "\n",
    "import bootcamp_utils"
   ]
  },
  {
   "cell_type": "code",
   "execution_count": 2,
   "metadata": {},
   "outputs": [
    {
     "data": {
      "text/html": [
       "<div>\n",
       "<style scoped>\n",
       "    .dataframe tbody tr th:only-of-type {\n",
       "        vertical-align: middle;\n",
       "    }\n",
       "\n",
       "    .dataframe tbody tr th {\n",
       "        vertical-align: top;\n",
       "    }\n",
       "\n",
       "    .dataframe thead th {\n",
       "        text-align: right;\n",
       "    }\n",
       "</style>\n",
       "<table border=\"1\" class=\"dataframe\">\n",
       "  <thead>\n",
       "    <tr style=\"text-align: right;\">\n",
       "      <th></th>\n",
       "      <th>experiment</th>\n",
       "      <th>file name</th>\n",
       "      <th>embryo</th>\n",
       "      <th>side</th>\n",
       "      <th>fluor</th>\n",
       "      <th>ctcf</th>\n",
       "    </tr>\n",
       "  </thead>\n",
       "  <tbody>\n",
       "    <tr>\n",
       "      <th>0</th>\n",
       "      <td>2019.06.16_SMPD3_CRISPR</td>\n",
       "      <td>SMPD3_CRISPR_Emb1_10x.czi</td>\n",
       "      <td>1</td>\n",
       "      <td>cntl</td>\n",
       "      <td>tcf lef</td>\n",
       "      <td>5.149187e+08</td>\n",
       "    </tr>\n",
       "    <tr>\n",
       "      <th>1</th>\n",
       "      <td>2019.06.16_SMPD3_CRISPR</td>\n",
       "      <td>SMPD3_CRISPR_Emb2_10x.czi</td>\n",
       "      <td>2</td>\n",
       "      <td>cntl</td>\n",
       "      <td>tcf lef</td>\n",
       "      <td>5.105786e+08</td>\n",
       "    </tr>\n",
       "    <tr>\n",
       "      <th>2</th>\n",
       "      <td>2019.06.16_SMPD3_CRISPR</td>\n",
       "      <td>SMPD3_CRISPR_Emb3_10x.czi</td>\n",
       "      <td>3</td>\n",
       "      <td>cntl</td>\n",
       "      <td>tcf lef</td>\n",
       "      <td>2.439080e+08</td>\n",
       "    </tr>\n",
       "    <tr>\n",
       "      <th>3</th>\n",
       "      <td>2019.06.16_SMPD3_CRISPR</td>\n",
       "      <td>SMPD3_CRISPR_Emb4_10x.czi</td>\n",
       "      <td>4</td>\n",
       "      <td>cntl</td>\n",
       "      <td>tcf lef</td>\n",
       "      <td>7.919257e+07</td>\n",
       "    </tr>\n",
       "    <tr>\n",
       "      <th>4</th>\n",
       "      <td>2019.06.16_SMPD3_CRISPR</td>\n",
       "      <td>SMPD3_CRISPR_Emb5_10x.czi</td>\n",
       "      <td>5</td>\n",
       "      <td>cntl</td>\n",
       "      <td>tcf lef</td>\n",
       "      <td>1.037543e+08</td>\n",
       "    </tr>\n",
       "    <tr>\n",
       "      <th>5</th>\n",
       "      <td>2019.06.16_SMPD3_CRISPR</td>\n",
       "      <td>SMPD3_CRISPR_Emb6_10x.czi</td>\n",
       "      <td>6</td>\n",
       "      <td>cntl</td>\n",
       "      <td>tcf lef</td>\n",
       "      <td>3.539025e+08</td>\n",
       "    </tr>\n",
       "    <tr>\n",
       "      <th>6</th>\n",
       "      <td>2019.06.16_SMPD3_CRISPR</td>\n",
       "      <td>SMPD3_CRISPR_Emb7_10x.czi</td>\n",
       "      <td>7</td>\n",
       "      <td>cntl</td>\n",
       "      <td>tcf lef</td>\n",
       "      <td>2.460605e+08</td>\n",
       "    </tr>\n",
       "    <tr>\n",
       "      <th>7</th>\n",
       "      <td>2019.06.16_SMPD3_CRISPR</td>\n",
       "      <td>SMPD3_CRISPR_Emb8_10x.czi</td>\n",
       "      <td>8</td>\n",
       "      <td>cntl</td>\n",
       "      <td>tcf lef</td>\n",
       "      <td>4.208378e+08</td>\n",
       "    </tr>\n",
       "    <tr>\n",
       "      <th>8</th>\n",
       "      <td>2019.06.16_SMPD3_CRISPR</td>\n",
       "      <td>SMPD3_CRISPR_Emb9_10x.czi</td>\n",
       "      <td>9</td>\n",
       "      <td>cntl</td>\n",
       "      <td>tcf lef</td>\n",
       "      <td>6.941377e+07</td>\n",
       "    </tr>\n",
       "    <tr>\n",
       "      <th>9</th>\n",
       "      <td>2019.06.16_SMPD3_CRISPR</td>\n",
       "      <td>SMPD3_CRISPR_Emb10_10x.czi</td>\n",
       "      <td>10</td>\n",
       "      <td>cntl</td>\n",
       "      <td>tcf lef</td>\n",
       "      <td>2.782419e+08</td>\n",
       "    </tr>\n",
       "    <tr>\n",
       "      <th>10</th>\n",
       "      <td>2019.06.16_SMPD3_CRISPR</td>\n",
       "      <td>SMPD3_CRISPR_Emb1_10x.czi</td>\n",
       "      <td>1</td>\n",
       "      <td>exp</td>\n",
       "      <td>tcf lef</td>\n",
       "      <td>4.595139e+08</td>\n",
       "    </tr>\n",
       "    <tr>\n",
       "      <th>11</th>\n",
       "      <td>2019.06.16_SMPD3_CRISPR</td>\n",
       "      <td>SMPD3_CRISPR_Emb2_10x.czi</td>\n",
       "      <td>2</td>\n",
       "      <td>exp</td>\n",
       "      <td>tcf lef</td>\n",
       "      <td>3.661756e+08</td>\n",
       "    </tr>\n",
       "    <tr>\n",
       "      <th>12</th>\n",
       "      <td>2019.06.16_SMPD3_CRISPR</td>\n",
       "      <td>SMPD3_CRISPR_Emb3_10x.czi</td>\n",
       "      <td>3</td>\n",
       "      <td>exp</td>\n",
       "      <td>tcf lef</td>\n",
       "      <td>1.690799e+08</td>\n",
       "    </tr>\n",
       "    <tr>\n",
       "      <th>13</th>\n",
       "      <td>2019.06.16_SMPD3_CRISPR</td>\n",
       "      <td>SMPD3_CRISPR_Emb4_10x.czi</td>\n",
       "      <td>4</td>\n",
       "      <td>exp</td>\n",
       "      <td>tcf lef</td>\n",
       "      <td>8.310687e+07</td>\n",
       "    </tr>\n",
       "    <tr>\n",
       "      <th>14</th>\n",
       "      <td>2019.06.16_SMPD3_CRISPR</td>\n",
       "      <td>SMPD3_CRISPR_Emb5_10x.czi</td>\n",
       "      <td>5</td>\n",
       "      <td>exp</td>\n",
       "      <td>tcf lef</td>\n",
       "      <td>6.049418e+07</td>\n",
       "    </tr>\n",
       "    <tr>\n",
       "      <th>15</th>\n",
       "      <td>2019.06.16_SMPD3_CRISPR</td>\n",
       "      <td>SMPD3_CRISPR_Emb6_10x.czi</td>\n",
       "      <td>6</td>\n",
       "      <td>exp</td>\n",
       "      <td>tcf lef</td>\n",
       "      <td>2.888313e+08</td>\n",
       "    </tr>\n",
       "    <tr>\n",
       "      <th>16</th>\n",
       "      <td>2019.06.16_SMPD3_CRISPR</td>\n",
       "      <td>SMPD3_CRISPR_Emb7_10x.czi</td>\n",
       "      <td>7</td>\n",
       "      <td>exp</td>\n",
       "      <td>tcf lef</td>\n",
       "      <td>2.234133e+08</td>\n",
       "    </tr>\n",
       "    <tr>\n",
       "      <th>17</th>\n",
       "      <td>2019.06.16_SMPD3_CRISPR</td>\n",
       "      <td>SMPD3_CRISPR_Emb8_10x.czi</td>\n",
       "      <td>8</td>\n",
       "      <td>exp</td>\n",
       "      <td>tcf lef</td>\n",
       "      <td>3.597491e+08</td>\n",
       "    </tr>\n",
       "    <tr>\n",
       "      <th>18</th>\n",
       "      <td>2019.06.16_SMPD3_CRISPR</td>\n",
       "      <td>SMPD3_CRISPR_Emb9_10x.czi</td>\n",
       "      <td>9</td>\n",
       "      <td>exp</td>\n",
       "      <td>tcf lef</td>\n",
       "      <td>7.133463e+07</td>\n",
       "    </tr>\n",
       "    <tr>\n",
       "      <th>19</th>\n",
       "      <td>2019.06.16_SMPD3_CRISPR</td>\n",
       "      <td>SMPD3_CRISPR_Emb10_10x.czi</td>\n",
       "      <td>10</td>\n",
       "      <td>exp</td>\n",
       "      <td>tcf lef</td>\n",
       "      <td>1.492068e+08</td>\n",
       "    </tr>\n",
       "    <tr>\n",
       "      <th>20</th>\n",
       "      <td>2019.06.16_SMPD3_CRISPR</td>\n",
       "      <td>SMPD3_CRISPR_Emb1_10x.czi</td>\n",
       "      <td>1</td>\n",
       "      <td>cntl</td>\n",
       "      <td>pCIG</td>\n",
       "      <td>2.379351e+08</td>\n",
       "    </tr>\n",
       "    <tr>\n",
       "      <th>21</th>\n",
       "      <td>2019.06.16_SMPD3_CRISPR</td>\n",
       "      <td>SMPD3_CRISPR_Emb2_10x.czi</td>\n",
       "      <td>2</td>\n",
       "      <td>cntl</td>\n",
       "      <td>pCIG</td>\n",
       "      <td>1.666499e+08</td>\n",
       "    </tr>\n",
       "    <tr>\n",
       "      <th>22</th>\n",
       "      <td>2019.06.16_SMPD3_CRISPR</td>\n",
       "      <td>SMPD3_CRISPR_Emb3_10x.czi</td>\n",
       "      <td>3</td>\n",
       "      <td>cntl</td>\n",
       "      <td>pCIG</td>\n",
       "      <td>1.572894e+08</td>\n",
       "    </tr>\n",
       "    <tr>\n",
       "      <th>23</th>\n",
       "      <td>2019.06.16_SMPD3_CRISPR</td>\n",
       "      <td>SMPD3_CRISPR_Emb4_10x.czi</td>\n",
       "      <td>4</td>\n",
       "      <td>cntl</td>\n",
       "      <td>pCIG</td>\n",
       "      <td>9.047647e+07</td>\n",
       "    </tr>\n",
       "    <tr>\n",
       "      <th>24</th>\n",
       "      <td>2019.06.16_SMPD3_CRISPR</td>\n",
       "      <td>SMPD3_CRISPR_Emb5_10x.czi</td>\n",
       "      <td>5</td>\n",
       "      <td>cntl</td>\n",
       "      <td>pCIG</td>\n",
       "      <td>1.353022e+08</td>\n",
       "    </tr>\n",
       "    <tr>\n",
       "      <th>25</th>\n",
       "      <td>2019.06.16_SMPD3_CRISPR</td>\n",
       "      <td>SMPD3_CRISPR_Emb6_10x.czi</td>\n",
       "      <td>6</td>\n",
       "      <td>cntl</td>\n",
       "      <td>pCIG</td>\n",
       "      <td>2.482647e+08</td>\n",
       "    </tr>\n",
       "    <tr>\n",
       "      <th>26</th>\n",
       "      <td>2019.06.16_SMPD3_CRISPR</td>\n",
       "      <td>SMPD3_CRISPR_Emb7_10x.czi</td>\n",
       "      <td>7</td>\n",
       "      <td>cntl</td>\n",
       "      <td>pCIG</td>\n",
       "      <td>2.783133e+08</td>\n",
       "    </tr>\n",
       "    <tr>\n",
       "      <th>27</th>\n",
       "      <td>2019.06.16_SMPD3_CRISPR</td>\n",
       "      <td>SMPD3_CRISPR_Emb8_10x.czi</td>\n",
       "      <td>8</td>\n",
       "      <td>cntl</td>\n",
       "      <td>pCIG</td>\n",
       "      <td>4.152596e+08</td>\n",
       "    </tr>\n",
       "    <tr>\n",
       "      <th>28</th>\n",
       "      <td>2019.06.16_SMPD3_CRISPR</td>\n",
       "      <td>SMPD3_CRISPR_Emb9_10x.czi</td>\n",
       "      <td>9</td>\n",
       "      <td>cntl</td>\n",
       "      <td>pCIG</td>\n",
       "      <td>1.357709e+08</td>\n",
       "    </tr>\n",
       "    <tr>\n",
       "      <th>29</th>\n",
       "      <td>2019.06.16_SMPD3_CRISPR</td>\n",
       "      <td>SMPD3_CRISPR_Emb10_10x.czi</td>\n",
       "      <td>10</td>\n",
       "      <td>cntl</td>\n",
       "      <td>pCIG</td>\n",
       "      <td>4.536429e+08</td>\n",
       "    </tr>\n",
       "    <tr>\n",
       "      <th>30</th>\n",
       "      <td>2019.06.16_SMPD3_CRISPR</td>\n",
       "      <td>SMPD3_CRISPR_Emb1_10x.czi</td>\n",
       "      <td>1</td>\n",
       "      <td>exp</td>\n",
       "      <td>pCIG</td>\n",
       "      <td>2.980334e+08</td>\n",
       "    </tr>\n",
       "    <tr>\n",
       "      <th>31</th>\n",
       "      <td>2019.06.16_SMPD3_CRISPR</td>\n",
       "      <td>SMPD3_CRISPR_Emb2_10x.czi</td>\n",
       "      <td>2</td>\n",
       "      <td>exp</td>\n",
       "      <td>pCIG</td>\n",
       "      <td>1.480683e+08</td>\n",
       "    </tr>\n",
       "    <tr>\n",
       "      <th>32</th>\n",
       "      <td>2019.06.16_SMPD3_CRISPR</td>\n",
       "      <td>SMPD3_CRISPR_Emb3_10x.czi</td>\n",
       "      <td>3</td>\n",
       "      <td>exp</td>\n",
       "      <td>pCIG</td>\n",
       "      <td>1.522785e+08</td>\n",
       "    </tr>\n",
       "    <tr>\n",
       "      <th>33</th>\n",
       "      <td>2019.06.16_SMPD3_CRISPR</td>\n",
       "      <td>SMPD3_CRISPR_Emb4_10x.czi</td>\n",
       "      <td>4</td>\n",
       "      <td>exp</td>\n",
       "      <td>pCIG</td>\n",
       "      <td>1.119778e+08</td>\n",
       "    </tr>\n",
       "    <tr>\n",
       "      <th>34</th>\n",
       "      <td>2019.06.16_SMPD3_CRISPR</td>\n",
       "      <td>SMPD3_CRISPR_Emb5_10x.czi</td>\n",
       "      <td>5</td>\n",
       "      <td>exp</td>\n",
       "      <td>pCIG</td>\n",
       "      <td>1.229363e+08</td>\n",
       "    </tr>\n",
       "    <tr>\n",
       "      <th>35</th>\n",
       "      <td>2019.06.16_SMPD3_CRISPR</td>\n",
       "      <td>SMPD3_CRISPR_Emb6_10x.czi</td>\n",
       "      <td>6</td>\n",
       "      <td>exp</td>\n",
       "      <td>pCIG</td>\n",
       "      <td>2.509899e+08</td>\n",
       "    </tr>\n",
       "    <tr>\n",
       "      <th>36</th>\n",
       "      <td>2019.06.16_SMPD3_CRISPR</td>\n",
       "      <td>SMPD3_CRISPR_Emb7_10x.czi</td>\n",
       "      <td>7</td>\n",
       "      <td>exp</td>\n",
       "      <td>pCIG</td>\n",
       "      <td>3.283120e+08</td>\n",
       "    </tr>\n",
       "    <tr>\n",
       "      <th>37</th>\n",
       "      <td>2019.06.16_SMPD3_CRISPR</td>\n",
       "      <td>SMPD3_CRISPR_Emb8_10x.czi</td>\n",
       "      <td>8</td>\n",
       "      <td>exp</td>\n",
       "      <td>pCIG</td>\n",
       "      <td>4.652211e+08</td>\n",
       "    </tr>\n",
       "    <tr>\n",
       "      <th>38</th>\n",
       "      <td>2019.06.16_SMPD3_CRISPR</td>\n",
       "      <td>SMPD3_CRISPR_Emb9_10x.czi</td>\n",
       "      <td>9</td>\n",
       "      <td>exp</td>\n",
       "      <td>pCIG</td>\n",
       "      <td>1.640484e+08</td>\n",
       "    </tr>\n",
       "    <tr>\n",
       "      <th>39</th>\n",
       "      <td>2019.06.16_SMPD3_CRISPR</td>\n",
       "      <td>SMPD3_CRISPR_Emb10_10x.czi</td>\n",
       "      <td>10</td>\n",
       "      <td>exp</td>\n",
       "      <td>pCIG</td>\n",
       "      <td>2.960794e+08</td>\n",
       "    </tr>\n",
       "  </tbody>\n",
       "</table>\n",
       "</div>"
      ],
      "text/plain": [
       "                 experiment                   file name  embryo  side  \\\n",
       "0   2019.06.16_SMPD3_CRISPR   SMPD3_CRISPR_Emb1_10x.czi       1  cntl   \n",
       "1   2019.06.16_SMPD3_CRISPR   SMPD3_CRISPR_Emb2_10x.czi       2  cntl   \n",
       "2   2019.06.16_SMPD3_CRISPR   SMPD3_CRISPR_Emb3_10x.czi       3  cntl   \n",
       "3   2019.06.16_SMPD3_CRISPR   SMPD3_CRISPR_Emb4_10x.czi       4  cntl   \n",
       "4   2019.06.16_SMPD3_CRISPR   SMPD3_CRISPR_Emb5_10x.czi       5  cntl   \n",
       "5   2019.06.16_SMPD3_CRISPR   SMPD3_CRISPR_Emb6_10x.czi       6  cntl   \n",
       "6   2019.06.16_SMPD3_CRISPR   SMPD3_CRISPR_Emb7_10x.czi       7  cntl   \n",
       "7   2019.06.16_SMPD3_CRISPR   SMPD3_CRISPR_Emb8_10x.czi       8  cntl   \n",
       "8   2019.06.16_SMPD3_CRISPR   SMPD3_CRISPR_Emb9_10x.czi       9  cntl   \n",
       "9   2019.06.16_SMPD3_CRISPR  SMPD3_CRISPR_Emb10_10x.czi      10  cntl   \n",
       "10  2019.06.16_SMPD3_CRISPR   SMPD3_CRISPR_Emb1_10x.czi       1   exp   \n",
       "11  2019.06.16_SMPD3_CRISPR   SMPD3_CRISPR_Emb2_10x.czi       2   exp   \n",
       "12  2019.06.16_SMPD3_CRISPR   SMPD3_CRISPR_Emb3_10x.czi       3   exp   \n",
       "13  2019.06.16_SMPD3_CRISPR   SMPD3_CRISPR_Emb4_10x.czi       4   exp   \n",
       "14  2019.06.16_SMPD3_CRISPR   SMPD3_CRISPR_Emb5_10x.czi       5   exp   \n",
       "15  2019.06.16_SMPD3_CRISPR   SMPD3_CRISPR_Emb6_10x.czi       6   exp   \n",
       "16  2019.06.16_SMPD3_CRISPR   SMPD3_CRISPR_Emb7_10x.czi       7   exp   \n",
       "17  2019.06.16_SMPD3_CRISPR   SMPD3_CRISPR_Emb8_10x.czi       8   exp   \n",
       "18  2019.06.16_SMPD3_CRISPR   SMPD3_CRISPR_Emb9_10x.czi       9   exp   \n",
       "19  2019.06.16_SMPD3_CRISPR  SMPD3_CRISPR_Emb10_10x.czi      10   exp   \n",
       "20  2019.06.16_SMPD3_CRISPR   SMPD3_CRISPR_Emb1_10x.czi       1  cntl   \n",
       "21  2019.06.16_SMPD3_CRISPR   SMPD3_CRISPR_Emb2_10x.czi       2  cntl   \n",
       "22  2019.06.16_SMPD3_CRISPR   SMPD3_CRISPR_Emb3_10x.czi       3  cntl   \n",
       "23  2019.06.16_SMPD3_CRISPR   SMPD3_CRISPR_Emb4_10x.czi       4  cntl   \n",
       "24  2019.06.16_SMPD3_CRISPR   SMPD3_CRISPR_Emb5_10x.czi       5  cntl   \n",
       "25  2019.06.16_SMPD3_CRISPR   SMPD3_CRISPR_Emb6_10x.czi       6  cntl   \n",
       "26  2019.06.16_SMPD3_CRISPR   SMPD3_CRISPR_Emb7_10x.czi       7  cntl   \n",
       "27  2019.06.16_SMPD3_CRISPR   SMPD3_CRISPR_Emb8_10x.czi       8  cntl   \n",
       "28  2019.06.16_SMPD3_CRISPR   SMPD3_CRISPR_Emb9_10x.czi       9  cntl   \n",
       "29  2019.06.16_SMPD3_CRISPR  SMPD3_CRISPR_Emb10_10x.czi      10  cntl   \n",
       "30  2019.06.16_SMPD3_CRISPR   SMPD3_CRISPR_Emb1_10x.czi       1   exp   \n",
       "31  2019.06.16_SMPD3_CRISPR   SMPD3_CRISPR_Emb2_10x.czi       2   exp   \n",
       "32  2019.06.16_SMPD3_CRISPR   SMPD3_CRISPR_Emb3_10x.czi       3   exp   \n",
       "33  2019.06.16_SMPD3_CRISPR   SMPD3_CRISPR_Emb4_10x.czi       4   exp   \n",
       "34  2019.06.16_SMPD3_CRISPR   SMPD3_CRISPR_Emb5_10x.czi       5   exp   \n",
       "35  2019.06.16_SMPD3_CRISPR   SMPD3_CRISPR_Emb6_10x.czi       6   exp   \n",
       "36  2019.06.16_SMPD3_CRISPR   SMPD3_CRISPR_Emb7_10x.czi       7   exp   \n",
       "37  2019.06.16_SMPD3_CRISPR   SMPD3_CRISPR_Emb8_10x.czi       8   exp   \n",
       "38  2019.06.16_SMPD3_CRISPR   SMPD3_CRISPR_Emb9_10x.czi       9   exp   \n",
       "39  2019.06.16_SMPD3_CRISPR  SMPD3_CRISPR_Emb10_10x.czi      10   exp   \n",
       "\n",
       "      fluor          ctcf  \n",
       "0   tcf lef  5.149187e+08  \n",
       "1   tcf lef  5.105786e+08  \n",
       "2   tcf lef  2.439080e+08  \n",
       "3   tcf lef  7.919257e+07  \n",
       "4   tcf lef  1.037543e+08  \n",
       "5   tcf lef  3.539025e+08  \n",
       "6   tcf lef  2.460605e+08  \n",
       "7   tcf lef  4.208378e+08  \n",
       "8   tcf lef  6.941377e+07  \n",
       "9   tcf lef  2.782419e+08  \n",
       "10  tcf lef  4.595139e+08  \n",
       "11  tcf lef  3.661756e+08  \n",
       "12  tcf lef  1.690799e+08  \n",
       "13  tcf lef  8.310687e+07  \n",
       "14  tcf lef  6.049418e+07  \n",
       "15  tcf lef  2.888313e+08  \n",
       "16  tcf lef  2.234133e+08  \n",
       "17  tcf lef  3.597491e+08  \n",
       "18  tcf lef  7.133463e+07  \n",
       "19  tcf lef  1.492068e+08  \n",
       "20     pCIG  2.379351e+08  \n",
       "21     pCIG  1.666499e+08  \n",
       "22     pCIG  1.572894e+08  \n",
       "23     pCIG  9.047647e+07  \n",
       "24     pCIG  1.353022e+08  \n",
       "25     pCIG  2.482647e+08  \n",
       "26     pCIG  2.783133e+08  \n",
       "27     pCIG  4.152596e+08  \n",
       "28     pCIG  1.357709e+08  \n",
       "29     pCIG  4.536429e+08  \n",
       "30     pCIG  2.980334e+08  \n",
       "31     pCIG  1.480683e+08  \n",
       "32     pCIG  1.522785e+08  \n",
       "33     pCIG  1.119778e+08  \n",
       "34     pCIG  1.229363e+08  \n",
       "35     pCIG  2.509899e+08  \n",
       "36     pCIG  3.283120e+08  \n",
       "37     pCIG  4.652211e+08  \n",
       "38     pCIG  1.640484e+08  \n",
       "39     pCIG  2.960794e+08  "
      ]
     },
     "execution_count": 2,
     "metadata": {},
     "output_type": "execute_result"
    }
   ],
   "source": [
    "df = pd.read_csv('smpd3_crispr_tcflef.csv')\n",
    "df\n",
    "##df2.loc[df2['variable'] == 'cntl']"
   ]
  },
  {
   "cell_type": "code",
   "execution_count": 3,
   "metadata": {},
   "outputs": [
    {
     "data": {
      "text/html": [
       "<div>\n",
       "<style scoped>\n",
       "    .dataframe tbody tr th:only-of-type {\n",
       "        vertical-align: middle;\n",
       "    }\n",
       "\n",
       "    .dataframe tbody tr th {\n",
       "        vertical-align: top;\n",
       "    }\n",
       "\n",
       "    .dataframe thead th {\n",
       "        text-align: right;\n",
       "    }\n",
       "</style>\n",
       "<table border=\"1\" class=\"dataframe\">\n",
       "  <thead>\n",
       "    <tr style=\"text-align: right;\">\n",
       "      <th></th>\n",
       "      <th>embryo</th>\n",
       "      <th>variable</th>\n",
       "      <th>value</th>\n",
       "    </tr>\n",
       "  </thead>\n",
       "  <tbody>\n",
       "    <tr>\n",
       "      <th>0</th>\n",
       "      <td>1</td>\n",
       "      <td>cntl</td>\n",
       "      <td>2.164114</td>\n",
       "    </tr>\n",
       "    <tr>\n",
       "      <th>1</th>\n",
       "      <td>2</td>\n",
       "      <td>cntl</td>\n",
       "      <td>3.063780</td>\n",
       "    </tr>\n",
       "    <tr>\n",
       "      <th>2</th>\n",
       "      <td>3</td>\n",
       "      <td>cntl</td>\n",
       "      <td>1.550695</td>\n",
       "    </tr>\n",
       "    <tr>\n",
       "      <th>3</th>\n",
       "      <td>4</td>\n",
       "      <td>cntl</td>\n",
       "      <td>0.875284</td>\n",
       "    </tr>\n",
       "    <tr>\n",
       "      <th>4</th>\n",
       "      <td>5</td>\n",
       "      <td>cntl</td>\n",
       "      <td>0.766833</td>\n",
       "    </tr>\n",
       "    <tr>\n",
       "      <th>5</th>\n",
       "      <td>6</td>\n",
       "      <td>cntl</td>\n",
       "      <td>1.425505</td>\n",
       "    </tr>\n",
       "    <tr>\n",
       "      <th>6</th>\n",
       "      <td>7</td>\n",
       "      <td>cntl</td>\n",
       "      <td>0.884113</td>\n",
       "    </tr>\n",
       "    <tr>\n",
       "      <th>7</th>\n",
       "      <td>8</td>\n",
       "      <td>cntl</td>\n",
       "      <td>1.013433</td>\n",
       "    </tr>\n",
       "    <tr>\n",
       "      <th>8</th>\n",
       "      <td>9</td>\n",
       "      <td>cntl</td>\n",
       "      <td>0.511257</td>\n",
       "    </tr>\n",
       "    <tr>\n",
       "      <th>9</th>\n",
       "      <td>10</td>\n",
       "      <td>cntl</td>\n",
       "      <td>0.613350</td>\n",
       "    </tr>\n",
       "    <tr>\n",
       "      <th>10</th>\n",
       "      <td>1</td>\n",
       "      <td>expt</td>\n",
       "      <td>1.541820</td>\n",
       "    </tr>\n",
       "    <tr>\n",
       "      <th>11</th>\n",
       "      <td>2</td>\n",
       "      <td>expt</td>\n",
       "      <td>2.473018</td>\n",
       "    </tr>\n",
       "    <tr>\n",
       "      <th>12</th>\n",
       "      <td>3</td>\n",
       "      <td>expt</td>\n",
       "      <td>1.110333</td>\n",
       "    </tr>\n",
       "    <tr>\n",
       "      <th>13</th>\n",
       "      <td>4</td>\n",
       "      <td>expt</td>\n",
       "      <td>0.742172</td>\n",
       "    </tr>\n",
       "    <tr>\n",
       "      <th>14</th>\n",
       "      <td>5</td>\n",
       "      <td>expt</td>\n",
       "      <td>0.492077</td>\n",
       "    </tr>\n",
       "    <tr>\n",
       "      <th>15</th>\n",
       "      <td>6</td>\n",
       "      <td>expt</td>\n",
       "      <td>1.150769</td>\n",
       "    </tr>\n",
       "    <tr>\n",
       "      <th>16</th>\n",
       "      <td>7</td>\n",
       "      <td>expt</td>\n",
       "      <td>0.680491</td>\n",
       "    </tr>\n",
       "    <tr>\n",
       "      <th>17</th>\n",
       "      <td>8</td>\n",
       "      <td>expt</td>\n",
       "      <td>0.773286</td>\n",
       "    </tr>\n",
       "    <tr>\n",
       "      <th>18</th>\n",
       "      <td>9</td>\n",
       "      <td>expt</td>\n",
       "      <td>0.434839</td>\n",
       "    </tr>\n",
       "    <tr>\n",
       "      <th>19</th>\n",
       "      <td>10</td>\n",
       "      <td>expt</td>\n",
       "      <td>0.503942</td>\n",
       "    </tr>\n",
       "  </tbody>\n",
       "</table>\n",
       "</div>"
      ],
      "text/plain": [
       "    embryo variable     value\n",
       "0        1     cntl  2.164114\n",
       "1        2     cntl  3.063780\n",
       "2        3     cntl  1.550695\n",
       "3        4     cntl  0.875284\n",
       "4        5     cntl  0.766833\n",
       "5        6     cntl  1.425505\n",
       "6        7     cntl  0.884113\n",
       "7        8     cntl  1.013433\n",
       "8        9     cntl  0.511257\n",
       "9       10     cntl  0.613350\n",
       "10       1     expt  1.541820\n",
       "11       2     expt  2.473018\n",
       "12       3     expt  1.110333\n",
       "13       4     expt  0.742172\n",
       "14       5     expt  0.492077\n",
       "15       6     expt  1.150769\n",
       "16       7     expt  0.680491\n",
       "17       8     expt  0.773286\n",
       "18       9     expt  0.434839\n",
       "19      10     expt  0.503942"
      ]
     },
     "execution_count": 3,
     "metadata": {},
     "output_type": "execute_result"
    }
   ],
   "source": [
    "# Using for loops to collect the ctcf values for each embryo/side/fluor combination to divide values of TCF/Lef over pCIG\n",
    "\n",
    "cntl_norm_tcflef = []\n",
    "expt_norm_tcflef = []\n",
    "\n",
    "for i in range(10):\n",
    "    ctcf_tcf = df.loc[(df['embryo'] == i+1) & (df['side'] == 'cntl') & (df['fluor'] == 'tcf lef'), ['ctcf']]\n",
    "    cntl_tcflef = ctcf_tcf.iloc[0]['ctcf']\n",
    "    ctcf_pCIG = df.loc[(df['embryo'] == i+1) & (df['side'] == 'cntl') & (df['fluor'] == 'pCIG'), ['ctcf']]\n",
    "    cntl_pCIG = ctcf_pCIG.iloc[0]['ctcf']\n",
    "    cntl_norm_tcflef.append(cntl_tcflef / cntl_pCIG)\n",
    "    \n",
    "for i in range(10):\n",
    "    ctcf_tcf = df.loc[(df['embryo'] == i+1) & (df['side'] == 'exp') & (df['fluor'] == 'tcf lef'), ['ctcf']]\n",
    "    expt_tcflef = ctcf_tcf.iloc[0]['ctcf']\n",
    "    ctcf_pCIG = df.loc[(df['embryo'] == i+1) & (df['side'] == 'exp') & (df['fluor'] == 'pCIG'), ['ctcf']]\n",
    "    expt_pCIG = ctcf_pCIG.iloc[0]['ctcf']\n",
    "    expt_norm_tcflef.append(expt_tcflef / expt_pCIG)\n",
    "    \n",
    "norm_values = pd.DataFrame({'cntl' : cntl_norm_tcflef, 'expt': expt_norm_tcflef})\n",
    "norm_values['embryo'] = [i+1 for i in range(len(norm_values))]\n",
    "norm_values2 = pd.melt(norm_values, id_vars='embryo', value_vars=['cntl', 'expt'])\n",
    "norm_values2"
   ]
  },
  {
   "cell_type": "code",
   "execution_count": 4,
   "metadata": {},
   "outputs": [
    {
     "ename": "KeyError",
     "evalue": "'variable'",
     "output_type": "error",
     "traceback": [
      "\u001b[0;31m---------------------------------------------------------------------------\u001b[0m",
      "\u001b[0;31mKeyError\u001b[0m                                  Traceback (most recent call last)",
      "\u001b[0;32m/anaconda3/lib/python3.6/site-packages/pandas/core/indexes/base.py\u001b[0m in \u001b[0;36mget_loc\u001b[0;34m(self, key, method, tolerance)\u001b[0m\n\u001b[1;32m   3062\u001b[0m             \u001b[0;32mtry\u001b[0m\u001b[0;34m:\u001b[0m\u001b[0;34m\u001b[0m\u001b[0m\n\u001b[0;32m-> 3063\u001b[0;31m                 \u001b[0;32mreturn\u001b[0m \u001b[0mself\u001b[0m\u001b[0;34m.\u001b[0m\u001b[0m_engine\u001b[0m\u001b[0;34m.\u001b[0m\u001b[0mget_loc\u001b[0m\u001b[0;34m(\u001b[0m\u001b[0mkey\u001b[0m\u001b[0;34m)\u001b[0m\u001b[0;34m\u001b[0m\u001b[0m\n\u001b[0m\u001b[1;32m   3064\u001b[0m             \u001b[0;32mexcept\u001b[0m \u001b[0mKeyError\u001b[0m\u001b[0;34m:\u001b[0m\u001b[0;34m\u001b[0m\u001b[0m\n",
      "\u001b[0;32mpandas/_libs/index.pyx\u001b[0m in \u001b[0;36mpandas._libs.index.IndexEngine.get_loc\u001b[0;34m()\u001b[0m\n",
      "\u001b[0;32mpandas/_libs/index.pyx\u001b[0m in \u001b[0;36mpandas._libs.index.IndexEngine.get_loc\u001b[0;34m()\u001b[0m\n",
      "\u001b[0;32mpandas/_libs/hashtable_class_helper.pxi\u001b[0m in \u001b[0;36mpandas._libs.hashtable.PyObjectHashTable.get_item\u001b[0;34m()\u001b[0m\n",
      "\u001b[0;32mpandas/_libs/hashtable_class_helper.pxi\u001b[0m in \u001b[0;36mpandas._libs.hashtable.PyObjectHashTable.get_item\u001b[0;34m()\u001b[0m\n",
      "\u001b[0;31mKeyError\u001b[0m: 'variable'",
      "\nDuring handling of the above exception, another exception occurred:\n",
      "\u001b[0;31mKeyError\u001b[0m                                  Traceback (most recent call last)",
      "\u001b[0;32m<ipython-input-4-ef85676ee2d2>\u001b[0m in \u001b[0;36m<module>\u001b[0;34m()\u001b[0m\n\u001b[0;32m----> 1\u001b[0;31m \u001b[0mnorm_values2\u001b[0m\u001b[0;34m.\u001b[0m\u001b[0mloc\u001b[0m\u001b[0;34m[\u001b[0m\u001b[0;34m(\u001b[0m\u001b[0mdf\u001b[0m\u001b[0;34m[\u001b[0m\u001b[0;34m'embryo'\u001b[0m\u001b[0;34m]\u001b[0m \u001b[0;34m==\u001b[0m \u001b[0;36m1\u001b[0m\u001b[0;34m)\u001b[0m \u001b[0;34m&\u001b[0m \u001b[0;34m(\u001b[0m\u001b[0mdf\u001b[0m\u001b[0;34m[\u001b[0m\u001b[0;34m'variable'\u001b[0m\u001b[0;34m]\u001b[0m \u001b[0;34m==\u001b[0m \u001b[0;34m'cntl'\u001b[0m\u001b[0;34m)\u001b[0m\u001b[0;34m,\u001b[0m \u001b[0;34m[\u001b[0m\u001b[0;34m'value'\u001b[0m\u001b[0;34m]\u001b[0m\u001b[0;34m]\u001b[0m\u001b[0;34m\u001b[0m\u001b[0m\n\u001b[0m",
      "\u001b[0;32m/anaconda3/lib/python3.6/site-packages/pandas/core/frame.py\u001b[0m in \u001b[0;36m__getitem__\u001b[0;34m(self, key)\u001b[0m\n\u001b[1;32m   2683\u001b[0m             \u001b[0;32mreturn\u001b[0m \u001b[0mself\u001b[0m\u001b[0;34m.\u001b[0m\u001b[0m_getitem_multilevel\u001b[0m\u001b[0;34m(\u001b[0m\u001b[0mkey\u001b[0m\u001b[0;34m)\u001b[0m\u001b[0;34m\u001b[0m\u001b[0m\n\u001b[1;32m   2684\u001b[0m         \u001b[0;32melse\u001b[0m\u001b[0;34m:\u001b[0m\u001b[0;34m\u001b[0m\u001b[0m\n\u001b[0;32m-> 2685\u001b[0;31m             \u001b[0;32mreturn\u001b[0m \u001b[0mself\u001b[0m\u001b[0;34m.\u001b[0m\u001b[0m_getitem_column\u001b[0m\u001b[0;34m(\u001b[0m\u001b[0mkey\u001b[0m\u001b[0;34m)\u001b[0m\u001b[0;34m\u001b[0m\u001b[0m\n\u001b[0m\u001b[1;32m   2686\u001b[0m \u001b[0;34m\u001b[0m\u001b[0m\n\u001b[1;32m   2687\u001b[0m     \u001b[0;32mdef\u001b[0m \u001b[0m_getitem_column\u001b[0m\u001b[0;34m(\u001b[0m\u001b[0mself\u001b[0m\u001b[0;34m,\u001b[0m \u001b[0mkey\u001b[0m\u001b[0;34m)\u001b[0m\u001b[0;34m:\u001b[0m\u001b[0;34m\u001b[0m\u001b[0m\n",
      "\u001b[0;32m/anaconda3/lib/python3.6/site-packages/pandas/core/frame.py\u001b[0m in \u001b[0;36m_getitem_column\u001b[0;34m(self, key)\u001b[0m\n\u001b[1;32m   2690\u001b[0m         \u001b[0;31m# get column\u001b[0m\u001b[0;34m\u001b[0m\u001b[0;34m\u001b[0m\u001b[0m\n\u001b[1;32m   2691\u001b[0m         \u001b[0;32mif\u001b[0m \u001b[0mself\u001b[0m\u001b[0;34m.\u001b[0m\u001b[0mcolumns\u001b[0m\u001b[0;34m.\u001b[0m\u001b[0mis_unique\u001b[0m\u001b[0;34m:\u001b[0m\u001b[0;34m\u001b[0m\u001b[0m\n\u001b[0;32m-> 2692\u001b[0;31m             \u001b[0;32mreturn\u001b[0m \u001b[0mself\u001b[0m\u001b[0;34m.\u001b[0m\u001b[0m_get_item_cache\u001b[0m\u001b[0;34m(\u001b[0m\u001b[0mkey\u001b[0m\u001b[0;34m)\u001b[0m\u001b[0;34m\u001b[0m\u001b[0m\n\u001b[0m\u001b[1;32m   2693\u001b[0m \u001b[0;34m\u001b[0m\u001b[0m\n\u001b[1;32m   2694\u001b[0m         \u001b[0;31m# duplicate columns & possible reduce dimensionality\u001b[0m\u001b[0;34m\u001b[0m\u001b[0;34m\u001b[0m\u001b[0m\n",
      "\u001b[0;32m/anaconda3/lib/python3.6/site-packages/pandas/core/generic.py\u001b[0m in \u001b[0;36m_get_item_cache\u001b[0;34m(self, item)\u001b[0m\n\u001b[1;32m   2484\u001b[0m         \u001b[0mres\u001b[0m \u001b[0;34m=\u001b[0m \u001b[0mcache\u001b[0m\u001b[0;34m.\u001b[0m\u001b[0mget\u001b[0m\u001b[0;34m(\u001b[0m\u001b[0mitem\u001b[0m\u001b[0;34m)\u001b[0m\u001b[0;34m\u001b[0m\u001b[0m\n\u001b[1;32m   2485\u001b[0m         \u001b[0;32mif\u001b[0m \u001b[0mres\u001b[0m \u001b[0;32mis\u001b[0m \u001b[0;32mNone\u001b[0m\u001b[0;34m:\u001b[0m\u001b[0;34m\u001b[0m\u001b[0m\n\u001b[0;32m-> 2486\u001b[0;31m             \u001b[0mvalues\u001b[0m \u001b[0;34m=\u001b[0m \u001b[0mself\u001b[0m\u001b[0;34m.\u001b[0m\u001b[0m_data\u001b[0m\u001b[0;34m.\u001b[0m\u001b[0mget\u001b[0m\u001b[0;34m(\u001b[0m\u001b[0mitem\u001b[0m\u001b[0;34m)\u001b[0m\u001b[0;34m\u001b[0m\u001b[0m\n\u001b[0m\u001b[1;32m   2487\u001b[0m             \u001b[0mres\u001b[0m \u001b[0;34m=\u001b[0m \u001b[0mself\u001b[0m\u001b[0;34m.\u001b[0m\u001b[0m_box_item_values\u001b[0m\u001b[0;34m(\u001b[0m\u001b[0mitem\u001b[0m\u001b[0;34m,\u001b[0m \u001b[0mvalues\u001b[0m\u001b[0;34m)\u001b[0m\u001b[0;34m\u001b[0m\u001b[0m\n\u001b[1;32m   2488\u001b[0m             \u001b[0mcache\u001b[0m\u001b[0;34m[\u001b[0m\u001b[0mitem\u001b[0m\u001b[0;34m]\u001b[0m \u001b[0;34m=\u001b[0m \u001b[0mres\u001b[0m\u001b[0;34m\u001b[0m\u001b[0m\n",
      "\u001b[0;32m/anaconda3/lib/python3.6/site-packages/pandas/core/internals.py\u001b[0m in \u001b[0;36mget\u001b[0;34m(self, item, fastpath)\u001b[0m\n\u001b[1;32m   4113\u001b[0m \u001b[0;34m\u001b[0m\u001b[0m\n\u001b[1;32m   4114\u001b[0m             \u001b[0;32mif\u001b[0m \u001b[0;32mnot\u001b[0m \u001b[0misna\u001b[0m\u001b[0;34m(\u001b[0m\u001b[0mitem\u001b[0m\u001b[0;34m)\u001b[0m\u001b[0;34m:\u001b[0m\u001b[0;34m\u001b[0m\u001b[0m\n\u001b[0;32m-> 4115\u001b[0;31m                 \u001b[0mloc\u001b[0m \u001b[0;34m=\u001b[0m \u001b[0mself\u001b[0m\u001b[0;34m.\u001b[0m\u001b[0mitems\u001b[0m\u001b[0;34m.\u001b[0m\u001b[0mget_loc\u001b[0m\u001b[0;34m(\u001b[0m\u001b[0mitem\u001b[0m\u001b[0;34m)\u001b[0m\u001b[0;34m\u001b[0m\u001b[0m\n\u001b[0m\u001b[1;32m   4116\u001b[0m             \u001b[0;32melse\u001b[0m\u001b[0;34m:\u001b[0m\u001b[0;34m\u001b[0m\u001b[0m\n\u001b[1;32m   4117\u001b[0m                 \u001b[0mindexer\u001b[0m \u001b[0;34m=\u001b[0m \u001b[0mnp\u001b[0m\u001b[0;34m.\u001b[0m\u001b[0marange\u001b[0m\u001b[0;34m(\u001b[0m\u001b[0mlen\u001b[0m\u001b[0;34m(\u001b[0m\u001b[0mself\u001b[0m\u001b[0;34m.\u001b[0m\u001b[0mitems\u001b[0m\u001b[0;34m)\u001b[0m\u001b[0;34m)\u001b[0m\u001b[0;34m[\u001b[0m\u001b[0misna\u001b[0m\u001b[0;34m(\u001b[0m\u001b[0mself\u001b[0m\u001b[0;34m.\u001b[0m\u001b[0mitems\u001b[0m\u001b[0;34m)\u001b[0m\u001b[0;34m]\u001b[0m\u001b[0;34m\u001b[0m\u001b[0m\n",
      "\u001b[0;32m/anaconda3/lib/python3.6/site-packages/pandas/core/indexes/base.py\u001b[0m in \u001b[0;36mget_loc\u001b[0;34m(self, key, method, tolerance)\u001b[0m\n\u001b[1;32m   3063\u001b[0m                 \u001b[0;32mreturn\u001b[0m \u001b[0mself\u001b[0m\u001b[0;34m.\u001b[0m\u001b[0m_engine\u001b[0m\u001b[0;34m.\u001b[0m\u001b[0mget_loc\u001b[0m\u001b[0;34m(\u001b[0m\u001b[0mkey\u001b[0m\u001b[0;34m)\u001b[0m\u001b[0;34m\u001b[0m\u001b[0m\n\u001b[1;32m   3064\u001b[0m             \u001b[0;32mexcept\u001b[0m \u001b[0mKeyError\u001b[0m\u001b[0;34m:\u001b[0m\u001b[0;34m\u001b[0m\u001b[0m\n\u001b[0;32m-> 3065\u001b[0;31m                 \u001b[0;32mreturn\u001b[0m \u001b[0mself\u001b[0m\u001b[0;34m.\u001b[0m\u001b[0m_engine\u001b[0m\u001b[0;34m.\u001b[0m\u001b[0mget_loc\u001b[0m\u001b[0;34m(\u001b[0m\u001b[0mself\u001b[0m\u001b[0;34m.\u001b[0m\u001b[0m_maybe_cast_indexer\u001b[0m\u001b[0;34m(\u001b[0m\u001b[0mkey\u001b[0m\u001b[0;34m)\u001b[0m\u001b[0;34m)\u001b[0m\u001b[0;34m\u001b[0m\u001b[0m\n\u001b[0m\u001b[1;32m   3066\u001b[0m \u001b[0;34m\u001b[0m\u001b[0m\n\u001b[1;32m   3067\u001b[0m         \u001b[0mindexer\u001b[0m \u001b[0;34m=\u001b[0m \u001b[0mself\u001b[0m\u001b[0;34m.\u001b[0m\u001b[0mget_indexer\u001b[0m\u001b[0;34m(\u001b[0m\u001b[0;34m[\u001b[0m\u001b[0mkey\u001b[0m\u001b[0;34m]\u001b[0m\u001b[0;34m,\u001b[0m \u001b[0mmethod\u001b[0m\u001b[0;34m=\u001b[0m\u001b[0mmethod\u001b[0m\u001b[0;34m,\u001b[0m \u001b[0mtolerance\u001b[0m\u001b[0;34m=\u001b[0m\u001b[0mtolerance\u001b[0m\u001b[0;34m)\u001b[0m\u001b[0;34m\u001b[0m\u001b[0m\n",
      "\u001b[0;32mpandas/_libs/index.pyx\u001b[0m in \u001b[0;36mpandas._libs.index.IndexEngine.get_loc\u001b[0;34m()\u001b[0m\n",
      "\u001b[0;32mpandas/_libs/index.pyx\u001b[0m in \u001b[0;36mpandas._libs.index.IndexEngine.get_loc\u001b[0;34m()\u001b[0m\n",
      "\u001b[0;32mpandas/_libs/hashtable_class_helper.pxi\u001b[0m in \u001b[0;36mpandas._libs.hashtable.PyObjectHashTable.get_item\u001b[0;34m()\u001b[0m\n",
      "\u001b[0;32mpandas/_libs/hashtable_class_helper.pxi\u001b[0m in \u001b[0;36mpandas._libs.hashtable.PyObjectHashTable.get_item\u001b[0;34m()\u001b[0m\n",
      "\u001b[0;31mKeyError\u001b[0m: 'variable'"
     ]
    }
   ],
   "source": [
    "norm_values2.loc[(df['embryo'] == 1) & (df['variable'] == 'cntl'), ['value']]\n"
   ]
  },
  {
   "cell_type": "code",
   "execution_count": 5,
   "metadata": {},
   "outputs": [
    {
     "ename": "IndexError",
     "evalue": "single positional indexer is out-of-bounds",
     "output_type": "error",
     "traceback": [
      "\u001b[0;31m---------------------------------------------------------------------------\u001b[0m",
      "\u001b[0;31mIndexError\u001b[0m                                Traceback (most recent call last)",
      "\u001b[0;32m<ipython-input-5-97c4d0b2aac3>\u001b[0m in \u001b[0;36m<module>\u001b[0;34m()\u001b[0m\n\u001b[1;32m      3\u001b[0m \u001b[0;32mfor\u001b[0m \u001b[0mi\u001b[0m \u001b[0;32min\u001b[0m \u001b[0mrange\u001b[0m\u001b[0;34m(\u001b[0m\u001b[0;36m10\u001b[0m\u001b[0;34m)\u001b[0m\u001b[0;34m:\u001b[0m\u001b[0;34m\u001b[0m\u001b[0m\n\u001b[1;32m      4\u001b[0m     \u001b[0mexpt\u001b[0m \u001b[0;34m=\u001b[0m \u001b[0mnorm_values2\u001b[0m\u001b[0;34m.\u001b[0m\u001b[0mloc\u001b[0m\u001b[0;34m[\u001b[0m\u001b[0;34m(\u001b[0m\u001b[0mdf\u001b[0m\u001b[0;34m[\u001b[0m\u001b[0;34m'embryo'\u001b[0m\u001b[0;34m]\u001b[0m \u001b[0;34m==\u001b[0m \u001b[0mi\u001b[0m\u001b[0;34m+\u001b[0m\u001b[0;36m1\u001b[0m\u001b[0;34m)\u001b[0m \u001b[0;34m&\u001b[0m \u001b[0;34m(\u001b[0m\u001b[0mdf\u001b[0m\u001b[0;34m[\u001b[0m\u001b[0;34m'side'\u001b[0m\u001b[0;34m]\u001b[0m \u001b[0;34m==\u001b[0m \u001b[0;34m'expt'\u001b[0m\u001b[0;34m)\u001b[0m\u001b[0;34m,\u001b[0m \u001b[0;34m'value'\u001b[0m\u001b[0;34m]\u001b[0m\u001b[0;34m\u001b[0m\u001b[0m\n\u001b[0;32m----> 5\u001b[0;31m     \u001b[0mexpt2\u001b[0m \u001b[0;34m=\u001b[0m \u001b[0mexpt\u001b[0m\u001b[0;34m.\u001b[0m\u001b[0miloc\u001b[0m\u001b[0;34m[\u001b[0m\u001b[0;36m0\u001b[0m\u001b[0;34m]\u001b[0m\u001b[0;34m[\u001b[0m\u001b[0;34m'value'\u001b[0m\u001b[0;34m]\u001b[0m\u001b[0;34m\u001b[0m\u001b[0m\n\u001b[0m\u001b[1;32m      6\u001b[0m     \u001b[0mcntl\u001b[0m \u001b[0;34m=\u001b[0m \u001b[0mnorm_values2\u001b[0m\u001b[0;34m.\u001b[0m\u001b[0mloc\u001b[0m\u001b[0;34m[\u001b[0m\u001b[0;34m(\u001b[0m\u001b[0mdf\u001b[0m\u001b[0;34m[\u001b[0m\u001b[0;34m'embryo'\u001b[0m\u001b[0;34m]\u001b[0m \u001b[0;34m==\u001b[0m \u001b[0mi\u001b[0m\u001b[0;34m+\u001b[0m\u001b[0;36m1\u001b[0m\u001b[0;34m)\u001b[0m \u001b[0;34m&\u001b[0m \u001b[0;34m(\u001b[0m\u001b[0mdf\u001b[0m\u001b[0;34m[\u001b[0m\u001b[0;34m'side'\u001b[0m\u001b[0;34m]\u001b[0m \u001b[0;34m==\u001b[0m \u001b[0;34m'cntl'\u001b[0m\u001b[0;34m)\u001b[0m\u001b[0;34m,\u001b[0m \u001b[0;34m'value'\u001b[0m\u001b[0;34m]\u001b[0m\u001b[0;34m\u001b[0m\u001b[0m\n\u001b[1;32m      7\u001b[0m     \u001b[0mcntl2\u001b[0m \u001b[0;34m=\u001b[0m \u001b[0mcntl\u001b[0m\u001b[0;34m.\u001b[0m\u001b[0miloc\u001b[0m\u001b[0;34m[\u001b[0m\u001b[0;36m0\u001b[0m\u001b[0;34m]\u001b[0m\u001b[0;34m[\u001b[0m\u001b[0;34m'value'\u001b[0m\u001b[0;34m]\u001b[0m\u001b[0;34m\u001b[0m\u001b[0m\n",
      "\u001b[0;32m/anaconda3/lib/python3.6/site-packages/pandas/core/indexing.py\u001b[0m in \u001b[0;36m__getitem__\u001b[0;34m(self, key)\u001b[0m\n\u001b[1;32m   1476\u001b[0m \u001b[0;34m\u001b[0m\u001b[0m\n\u001b[1;32m   1477\u001b[0m             \u001b[0mmaybe_callable\u001b[0m \u001b[0;34m=\u001b[0m \u001b[0mcom\u001b[0m\u001b[0;34m.\u001b[0m\u001b[0m_apply_if_callable\u001b[0m\u001b[0;34m(\u001b[0m\u001b[0mkey\u001b[0m\u001b[0;34m,\u001b[0m \u001b[0mself\u001b[0m\u001b[0;34m.\u001b[0m\u001b[0mobj\u001b[0m\u001b[0;34m)\u001b[0m\u001b[0;34m\u001b[0m\u001b[0m\n\u001b[0;32m-> 1478\u001b[0;31m             \u001b[0;32mreturn\u001b[0m \u001b[0mself\u001b[0m\u001b[0;34m.\u001b[0m\u001b[0m_getitem_axis\u001b[0m\u001b[0;34m(\u001b[0m\u001b[0mmaybe_callable\u001b[0m\u001b[0;34m,\u001b[0m \u001b[0maxis\u001b[0m\u001b[0;34m=\u001b[0m\u001b[0maxis\u001b[0m\u001b[0;34m)\u001b[0m\u001b[0;34m\u001b[0m\u001b[0m\n\u001b[0m\u001b[1;32m   1479\u001b[0m \u001b[0;34m\u001b[0m\u001b[0m\n\u001b[1;32m   1480\u001b[0m     \u001b[0;32mdef\u001b[0m \u001b[0m_is_scalar_access\u001b[0m\u001b[0;34m(\u001b[0m\u001b[0mself\u001b[0m\u001b[0;34m,\u001b[0m \u001b[0mkey\u001b[0m\u001b[0;34m)\u001b[0m\u001b[0;34m:\u001b[0m\u001b[0;34m\u001b[0m\u001b[0m\n",
      "\u001b[0;32m/anaconda3/lib/python3.6/site-packages/pandas/core/indexing.py\u001b[0m in \u001b[0;36m_getitem_axis\u001b[0;34m(self, key, axis)\u001b[0m\n\u001b[1;32m   2100\u001b[0m \u001b[0;34m\u001b[0m\u001b[0m\n\u001b[1;32m   2101\u001b[0m             \u001b[0;31m# validate the location\u001b[0m\u001b[0;34m\u001b[0m\u001b[0;34m\u001b[0m\u001b[0m\n\u001b[0;32m-> 2102\u001b[0;31m             \u001b[0mself\u001b[0m\u001b[0;34m.\u001b[0m\u001b[0m_validate_integer\u001b[0m\u001b[0;34m(\u001b[0m\u001b[0mkey\u001b[0m\u001b[0;34m,\u001b[0m \u001b[0maxis\u001b[0m\u001b[0;34m)\u001b[0m\u001b[0;34m\u001b[0m\u001b[0m\n\u001b[0m\u001b[1;32m   2103\u001b[0m \u001b[0;34m\u001b[0m\u001b[0m\n\u001b[1;32m   2104\u001b[0m             \u001b[0;32mreturn\u001b[0m \u001b[0mself\u001b[0m\u001b[0;34m.\u001b[0m\u001b[0m_get_loc\u001b[0m\u001b[0;34m(\u001b[0m\u001b[0mkey\u001b[0m\u001b[0;34m,\u001b[0m \u001b[0maxis\u001b[0m\u001b[0;34m=\u001b[0m\u001b[0maxis\u001b[0m\u001b[0;34m)\u001b[0m\u001b[0;34m\u001b[0m\u001b[0m\n",
      "\u001b[0;32m/anaconda3/lib/python3.6/site-packages/pandas/core/indexing.py\u001b[0m in \u001b[0;36m_validate_integer\u001b[0;34m(self, key, axis)\u001b[0m\n\u001b[1;32m   2007\u001b[0m         \u001b[0ml\u001b[0m \u001b[0;34m=\u001b[0m \u001b[0mlen\u001b[0m\u001b[0;34m(\u001b[0m\u001b[0max\u001b[0m\u001b[0;34m)\u001b[0m\u001b[0;34m\u001b[0m\u001b[0m\n\u001b[1;32m   2008\u001b[0m         \u001b[0;32mif\u001b[0m \u001b[0mkey\u001b[0m \u001b[0;34m>=\u001b[0m \u001b[0ml\u001b[0m \u001b[0;32mor\u001b[0m \u001b[0mkey\u001b[0m \u001b[0;34m<\u001b[0m \u001b[0;34m-\u001b[0m\u001b[0ml\u001b[0m\u001b[0;34m:\u001b[0m\u001b[0;34m\u001b[0m\u001b[0m\n\u001b[0;32m-> 2009\u001b[0;31m             \u001b[0;32mraise\u001b[0m \u001b[0mIndexError\u001b[0m\u001b[0;34m(\u001b[0m\u001b[0;34m\"single positional indexer is out-of-bounds\"\u001b[0m\u001b[0;34m)\u001b[0m\u001b[0;34m\u001b[0m\u001b[0m\n\u001b[0m\u001b[1;32m   2010\u001b[0m \u001b[0;34m\u001b[0m\u001b[0m\n\u001b[1;32m   2011\u001b[0m     \u001b[0;32mdef\u001b[0m \u001b[0m_getitem_tuple\u001b[0m\u001b[0;34m(\u001b[0m\u001b[0mself\u001b[0m\u001b[0;34m,\u001b[0m \u001b[0mtup\u001b[0m\u001b[0;34m)\u001b[0m\u001b[0;34m:\u001b[0m\u001b[0;34m\u001b[0m\u001b[0m\n",
      "\u001b[0;31mIndexError\u001b[0m: single positional indexer is out-of-bounds"
     ]
    }
   ],
   "source": [
    "ratio_list = []\n",
    "\n",
    "for i in range(10):\n",
    "    expt = norm_values2.loc[(df['embryo'] == i+1) & (df['side'] == 'expt'), 'value']\n",
    "    expt2 = expt.iloc[0]['value']\n",
    "    cntl = norm_values2.loc[(df['embryo'] == i+1) & (df['side'] == 'cntl'), 'value']\n",
    "    cntl2 = cntl.iloc[0]['value']\n",
    "    ratio_list.append(expt2 / cntl2)\n",
    "    \n",
    "ratios = pd.DataFrame({'embryo': [i+1 for i in range(len(ratio_list))], 'ratio' : ratio_list})\n",
    "ratios"
   ]
  },
  {
   "cell_type": "code",
   "execution_count": 6,
   "metadata": {},
   "outputs": [
    {
     "data": {
      "application/vnd.vegalite.v2+json": {
       "$schema": "https://vega.github.io/schema/vega-lite/v2.4.3.json",
       "config": {
        "view": {
         "height": 300,
         "width": 400
        }
       },
       "data": {
        "values": [
         {
          "embryo": 1,
          "value": 2.1641142560079345,
          "variable": "cntl"
         },
         {
          "embryo": 2,
          "value": 3.063779990675722,
          "variable": "cntl"
         },
         {
          "embryo": 3,
          "value": 1.5506952422186828,
          "variable": "cntl"
         },
         {
          "embryo": 4,
          "value": 0.875283589788765,
          "variable": "cntl"
         },
         {
          "embryo": 5,
          "value": 0.7668333526800205,
          "variable": "cntl"
         },
         {
          "embryo": 6,
          "value": 1.425504787118721,
          "variable": "cntl"
         },
         {
          "embryo": 7,
          "value": 0.8841132662341247,
          "variable": "cntl"
         },
         {
          "embryo": 8,
          "value": 1.0134330363571926,
          "variable": "cntl"
         },
         {
          "embryo": 9,
          "value": 0.5112566731779745,
          "variable": "cntl"
         },
         {
          "embryo": 10,
          "value": 0.6133500652176124,
          "variable": "cntl"
         },
         {
          "embryo": 1,
          "value": 1.541820032074219,
          "variable": "expt"
         },
         {
          "embryo": 2,
          "value": 2.473018495876802,
          "variable": "expt"
         },
         {
          "embryo": 3,
          "value": 1.1103328192738116,
          "variable": "expt"
         },
         {
          "embryo": 4,
          "value": 0.7421724414367796,
          "variable": "expt"
         },
         {
          "embryo": 5,
          "value": 0.4920773011173459,
          "variable": "expt"
         },
         {
          "embryo": 6,
          "value": 1.150768511461152,
          "variable": "expt"
         },
         {
          "embryo": 7,
          "value": 0.680490761357708,
          "variable": "expt"
         },
         {
          "embryo": 8,
          "value": 0.7732862366050636,
          "variable": "expt"
         },
         {
          "embryo": 9,
          "value": 0.4348389006379611,
          "variable": "expt"
         },
         {
          "embryo": 10,
          "value": 0.5039417470579904,
          "variable": "expt"
         }
        ]
       },
       "encoding": {
        "color": {
         "field": "variable",
         "type": "nominal"
        },
        "x": {
         "field": "variable",
         "title": "condition",
         "type": "nominal"
        },
        "y": {
         "field": "value",
         "type": "quantitative"
        }
       },
       "height": 300,
       "mark": {
        "size": 70,
        "type": "circle"
       },
       "title": "Normalized TCF/Lef:H2B-RFP Intensity",
       "width": 100
      },
      "image/png": "[encoded data removed]",
      "text/plain": [
       "<VegaLite 2 object>\n",
       "\n",
       "If you see this message, it means the renderer has not been properly enabled\n",
       "for the frontend that you are using. For more information, see\n",
       "https://altair-viz.github.io/user_guide/troubleshooting.html\n"
      ]
     },
     "execution_count": 6,
     "metadata": {},
     "output_type": "execute_result"
    }
   ],
   "source": [
    "alt.Chart(norm_values2,\n",
    "    title='Normalized TCF/Lef:H2B-RFP Intensity',\n",
    "    height=300,\n",
    "    width=100\n",
    "    ).mark_circle(\n",
    "        size=70\n",
    "    ).encode(\n",
    "        y='value:Q',\n",
    "        x=alt.X('variable:N', title='condition'),\n",
    "        color='variable:N'\n",
    "    )"
   ]
  },
  {
   "cell_type": "code",
   "execution_count": 7,
   "metadata": {},
   "outputs": [
    {
     "data": {
      "text/html": [
       "<div>\n",
       "<style scoped>\n",
       "    .dataframe tbody tr th:only-of-type {\n",
       "        vertical-align: middle;\n",
       "    }\n",
       "\n",
       "    .dataframe tbody tr th {\n",
       "        vertical-align: top;\n",
       "    }\n",
       "\n",
       "    .dataframe thead th {\n",
       "        text-align: right;\n",
       "    }\n",
       "</style>\n",
       "<table border=\"1\" class=\"dataframe\">\n",
       "  <thead>\n",
       "    <tr style=\"text-align: right;\">\n",
       "      <th></th>\n",
       "      <th>embryo</th>\n",
       "      <th>variable</th>\n",
       "      <th>value</th>\n",
       "    </tr>\n",
       "  </thead>\n",
       "  <tbody>\n",
       "    <tr>\n",
       "      <th>0</th>\n",
       "      <td>1</td>\n",
       "      <td>cntl</td>\n",
       "      <td>2.164114</td>\n",
       "    </tr>\n",
       "    <tr>\n",
       "      <th>1</th>\n",
       "      <td>2</td>\n",
       "      <td>cntl</td>\n",
       "      <td>3.063780</td>\n",
       "    </tr>\n",
       "    <tr>\n",
       "      <th>2</th>\n",
       "      <td>3</td>\n",
       "      <td>cntl</td>\n",
       "      <td>1.550695</td>\n",
       "    </tr>\n",
       "    <tr>\n",
       "      <th>3</th>\n",
       "      <td>4</td>\n",
       "      <td>cntl</td>\n",
       "      <td>0.875284</td>\n",
       "    </tr>\n",
       "    <tr>\n",
       "      <th>4</th>\n",
       "      <td>5</td>\n",
       "      <td>cntl</td>\n",
       "      <td>0.766833</td>\n",
       "    </tr>\n",
       "    <tr>\n",
       "      <th>5</th>\n",
       "      <td>6</td>\n",
       "      <td>cntl</td>\n",
       "      <td>1.425505</td>\n",
       "    </tr>\n",
       "    <tr>\n",
       "      <th>6</th>\n",
       "      <td>7</td>\n",
       "      <td>cntl</td>\n",
       "      <td>0.884113</td>\n",
       "    </tr>\n",
       "    <tr>\n",
       "      <th>7</th>\n",
       "      <td>8</td>\n",
       "      <td>cntl</td>\n",
       "      <td>1.013433</td>\n",
       "    </tr>\n",
       "    <tr>\n",
       "      <th>8</th>\n",
       "      <td>9</td>\n",
       "      <td>cntl</td>\n",
       "      <td>0.511257</td>\n",
       "    </tr>\n",
       "    <tr>\n",
       "      <th>9</th>\n",
       "      <td>10</td>\n",
       "      <td>cntl</td>\n",
       "      <td>0.613350</td>\n",
       "    </tr>\n",
       "    <tr>\n",
       "      <th>10</th>\n",
       "      <td>1</td>\n",
       "      <td>expt</td>\n",
       "      <td>1.541820</td>\n",
       "    </tr>\n",
       "    <tr>\n",
       "      <th>11</th>\n",
       "      <td>2</td>\n",
       "      <td>expt</td>\n",
       "      <td>2.473018</td>\n",
       "    </tr>\n",
       "    <tr>\n",
       "      <th>12</th>\n",
       "      <td>3</td>\n",
       "      <td>expt</td>\n",
       "      <td>1.110333</td>\n",
       "    </tr>\n",
       "    <tr>\n",
       "      <th>13</th>\n",
       "      <td>4</td>\n",
       "      <td>expt</td>\n",
       "      <td>0.742172</td>\n",
       "    </tr>\n",
       "    <tr>\n",
       "      <th>14</th>\n",
       "      <td>5</td>\n",
       "      <td>expt</td>\n",
       "      <td>0.492077</td>\n",
       "    </tr>\n",
       "    <tr>\n",
       "      <th>15</th>\n",
       "      <td>6</td>\n",
       "      <td>expt</td>\n",
       "      <td>1.150769</td>\n",
       "    </tr>\n",
       "    <tr>\n",
       "      <th>16</th>\n",
       "      <td>7</td>\n",
       "      <td>expt</td>\n",
       "      <td>0.680491</td>\n",
       "    </tr>\n",
       "    <tr>\n",
       "      <th>17</th>\n",
       "      <td>8</td>\n",
       "      <td>expt</td>\n",
       "      <td>0.773286</td>\n",
       "    </tr>\n",
       "    <tr>\n",
       "      <th>18</th>\n",
       "      <td>9</td>\n",
       "      <td>expt</td>\n",
       "      <td>0.434839</td>\n",
       "    </tr>\n",
       "    <tr>\n",
       "      <th>19</th>\n",
       "      <td>10</td>\n",
       "      <td>expt</td>\n",
       "      <td>0.503942</td>\n",
       "    </tr>\n",
       "  </tbody>\n",
       "</table>\n",
       "</div>"
      ],
      "text/plain": [
       "    embryo variable     value\n",
       "0        1     cntl  2.164114\n",
       "1        2     cntl  3.063780\n",
       "2        3     cntl  1.550695\n",
       "3        4     cntl  0.875284\n",
       "4        5     cntl  0.766833\n",
       "5        6     cntl  1.425505\n",
       "6        7     cntl  0.884113\n",
       "7        8     cntl  1.013433\n",
       "8        9     cntl  0.511257\n",
       "9       10     cntl  0.613350\n",
       "10       1     expt  1.541820\n",
       "11       2     expt  2.473018\n",
       "12       3     expt  1.110333\n",
       "13       4     expt  0.742172\n",
       "14       5     expt  0.492077\n",
       "15       6     expt  1.150769\n",
       "16       7     expt  0.680491\n",
       "17       8     expt  0.773286\n",
       "18       9     expt  0.434839\n",
       "19      10     expt  0.503942"
      ]
     },
     "execution_count": 7,
     "metadata": {},
     "output_type": "execute_result"
    }
   ],
   "source": [
    "df3 = norm_values2.groupby('variable')\n",
    "df3.head(20)"
   ]
  },
  {
   "cell_type": "code",
   "execution_count": 8,
   "metadata": {},
   "outputs": [
    {
     "data": {
      "application/vnd.vegalite.v2+json": {
       "$schema": "https://vega.github.io/schema/vega-lite/v2.4.3.json",
       "config": {
        "view": {
         "height": 300,
         "width": 400
        }
       },
       "hconcat": [
        {
         "data": {
          "values": [
           {
            "ECDF": 0.9,
            "embryo": 1,
            "value": 2.1641142560079345,
            "variable": "cntl"
           },
           {
            "ECDF": 1,
            "embryo": 2,
            "value": 3.063779990675722,
            "variable": "cntl"
           },
           {
            "ECDF": 0.8,
            "embryo": 3,
            "value": 1.5506952422186828,
            "variable": "cntl"
           },
           {
            "ECDF": 0.4,
            "embryo": 4,
            "value": 0.875283589788765,
            "variable": "cntl"
           },
           {
            "ECDF": 0.3,
            "embryo": 5,
            "value": 0.7668333526800205,
            "variable": "cntl"
           },
           {
            "ECDF": 0.7,
            "embryo": 6,
            "value": 1.425504787118721,
            "variable": "cntl"
           },
           {
            "ECDF": 0.5,
            "embryo": 7,
            "value": 0.8841132662341247,
            "variable": "cntl"
           },
           {
            "ECDF": 0.6,
            "embryo": 8,
            "value": 1.0134330363571926,
            "variable": "cntl"
           },
           {
            "ECDF": 0.1,
            "embryo": 9,
            "value": 0.5112566731779745,
            "variable": "cntl"
           },
           {
            "ECDF": 0.2,
            "embryo": 10,
            "value": 0.6133500652176124,
            "variable": "cntl"
           },
           {
            "ECDF": 0.9,
            "embryo": 1,
            "value": 1.541820032074219,
            "variable": "expt"
           },
           {
            "ECDF": 1,
            "embryo": 2,
            "value": 2.473018495876802,
            "variable": "expt"
           },
           {
            "ECDF": 0.7,
            "embryo": 3,
            "value": 1.1103328192738116,
            "variable": "expt"
           },
           {
            "ECDF": 0.5,
            "embryo": 4,
            "value": 0.7421724414367796,
            "variable": "expt"
           },
           {
            "ECDF": 0.2,
            "embryo": 5,
            "value": 0.4920773011173459,
            "variable": "expt"
           },
           {
            "ECDF": 0.8,
            "embryo": 6,
            "value": 1.150768511461152,
            "variable": "expt"
           },
           {
            "ECDF": 0.4,
            "embryo": 7,
            "value": 0.680490761357708,
            "variable": "expt"
           },
           {
            "ECDF": 0.6,
            "embryo": 8,
            "value": 0.7732862366050636,
            "variable": "expt"
           },
           {
            "ECDF": 0.1,
            "embryo": 9,
            "value": 0.4348389006379611,
            "variable": "expt"
           },
           {
            "ECDF": 0.3,
            "embryo": 10,
            "value": 0.5039417470579904,
            "variable": "expt"
           }
          ]
         },
         "encoding": {
          "color": {
           "field": "variable",
           "type": "nominal"
          },
          "x": {
           "field": "value",
           "type": "quantitative"
          },
          "y": {
           "field": "ECDF",
           "type": "quantitative"
          }
         },
         "mark": {
          "interpolate": "step-before",
          "type": "line"
         }
        },
        {
         "data": {
          "values": [
           {
            "ECDF": 0.9,
            "embryo": 1,
            "value": 2.1641142560079345,
            "variable": "cntl"
           },
           {
            "ECDF": 1,
            "embryo": 2,
            "value": 3.063779990675722,
            "variable": "cntl"
           },
           {
            "ECDF": 0.8,
            "embryo": 3,
            "value": 1.5506952422186828,
            "variable": "cntl"
           },
           {
            "ECDF": 0.4,
            "embryo": 4,
            "value": 0.875283589788765,
            "variable": "cntl"
           },
           {
            "ECDF": 0.3,
            "embryo": 5,
            "value": 0.7668333526800205,
            "variable": "cntl"
           },
           {
            "ECDF": 0.7,
            "embryo": 6,
            "value": 1.425504787118721,
            "variable": "cntl"
           },
           {
            "ECDF": 0.5,
            "embryo": 7,
            "value": 0.8841132662341247,
            "variable": "cntl"
           },
           {
            "ECDF": 0.6,
            "embryo": 8,
            "value": 1.0134330363571926,
            "variable": "cntl"
           },
           {
            "ECDF": 0.1,
            "embryo": 9,
            "value": 0.5112566731779745,
            "variable": "cntl"
           },
           {
            "ECDF": 0.2,
            "embryo": 10,
            "value": 0.6133500652176124,
            "variable": "cntl"
           },
           {
            "ECDF": 0.9,
            "embryo": 1,
            "value": 1.541820032074219,
            "variable": "expt"
           },
           {
            "ECDF": 1,
            "embryo": 2,
            "value": 2.473018495876802,
            "variable": "expt"
           },
           {
            "ECDF": 0.7,
            "embryo": 3,
            "value": 1.1103328192738116,
            "variable": "expt"
           },
           {
            "ECDF": 0.5,
            "embryo": 4,
            "value": 0.7421724414367796,
            "variable": "expt"
           },
           {
            "ECDF": 0.2,
            "embryo": 5,
            "value": 0.4920773011173459,
            "variable": "expt"
           },
           {
            "ECDF": 0.8,
            "embryo": 6,
            "value": 1.150768511461152,
            "variable": "expt"
           },
           {
            "ECDF": 0.4,
            "embryo": 7,
            "value": 0.680490761357708,
            "variable": "expt"
           },
           {
            "ECDF": 0.6,
            "embryo": 8,
            "value": 0.7732862366050636,
            "variable": "expt"
           },
           {
            "ECDF": 0.1,
            "embryo": 9,
            "value": 0.4348389006379611,
            "variable": "expt"
           },
           {
            "ECDF": 0.3,
            "embryo": 10,
            "value": 0.5039417470579904,
            "variable": "expt"
           }
          ]
         },
         "encoding": {
          "color": {
           "field": "variable",
           "type": "nominal"
          },
          "x": {
           "field": "value",
           "type": "quantitative"
          },
          "y": {
           "field": "ECDF",
           "type": "quantitative"
          }
         },
         "mark": {
          "filled": true,
          "interpolate": "step-before",
          "opacity": 0.8,
          "size": 50,
          "type": "point"
         }
        }
       ]
      },
      "image/png": "[encoded data removed]",
      "text/plain": [
       "<VegaLite 2 object>\n",
       "\n",
       "If you see this message, it means the renderer has not been properly enabled\n",
       "for the frontend that you are using. For more information, see\n",
       "https://altair-viz.github.io/user_guide/troubleshooting.html\n"
      ]
     },
     "execution_count": 8,
     "metadata": {},
     "output_type": "execute_result"
    }
   ],
   "source": [
    "# Compute ECDF\n",
    "norm_values2['ECDF'] = norm_values2.groupby('variable')[\"value\"].transform(bootcamp_utils.ecdf_y)\n",
    "\n",
    "# Make the plot\n",
    "dot = alt.Chart(norm_values2\n",
    "    ).mark_point(\n",
    "        size=50,\n",
    "        filled=True,\n",
    "        opacity=0.8,\n",
    "        interpolate='step-before'\n",
    "    ).encode(\n",
    "        x=alt.X('value:Q'),\n",
    "        y='ECDF:Q',\n",
    "        color='variable:N'\n",
    "    )\n",
    "\n",
    "line = alt.Chart(norm_values2\n",
    "    ).mark_line(\n",
    "        interpolate='step-before'\n",
    "    ).encode(\n",
    "        x=alt.X('value:Q'),\n",
    "        y='ECDF:Q',\n",
    "        color='variable:N'\n",
    "    )\n",
    "line  | dot"
   ]
  },
  {
   "cell_type": "code",
   "execution_count": 9,
   "metadata": {},
   "outputs": [],
   "source": [
    "df2 = norm_values2.drop('ECDF', axis=1)"
   ]
  },
  {
   "cell_type": "code",
   "execution_count": 11,
   "metadata": {},
   "outputs": [],
   "source": [
    "# Number of replicates\n",
    "n_reps = 100000\n",
    "\n",
    "# Initialize bootstrap replicas array\n",
    "cntl = np.empty(n_reps)\n",
    "expt = np.empty(n_reps)\n",
    "\n",
    "# Compute replicates\n",
    "for i in range(n_reps):\n",
    "    bs_sample_cntl = np.random.choice(df2.loc[df2['variable'] == 'cntl', 'value'], \n",
    "                                         size=len(df2.loc[df2['variable'] == 'cntl']))\n",
    "    cntl[i] = np.mean(bs_sample_cntl)\n",
    "    \n",
    "for i in range(n_reps):\n",
    "    bs_sample_expt = np.random.choice(df2.loc[df2['variable'] == 'expt', 'value'], \n",
    "                                        size=len(df2.loc[df2['variable'] == 'expt']))\n",
    "    expt[i] = np.mean(bs_sample_expt)\n",
    "    \n",
    "# Compute ECDF\n",
    "x_cntl, y_cntl = bootcamp_utils.ecdf_vals(cntl)\n",
    "x_expt, y_expt = bootcamp_utils.ecdf_vals(expt)\n",
    "\n",
    "# Thinned set for plotting\n",
    "df_ecdf_cntl = pd.DataFrame(data={'mean cntl value': x_cntl[::1000],\n",
    "                                  'ECDF': y_cntl[::1000]})\n",
    "df_ecdf_expt = pd.DataFrame(data={'mean expt value': x_expt[::1000],\n",
    "                                  'ECDF': y_expt[::1000]})"
   ]
  },
  {
   "cell_type": "code",
   "execution_count": 13,
   "metadata": {},
   "outputs": [
    {
     "data": {
      "application/vnd.vegalite.v2+json": {
       "$schema": "https://vega.github.io/schema/vega-lite/v2.4.3.json",
       "config": {
        "view": {
         "height": 300,
         "width": 400
        }
       },
       "layer": [
        {
         "data": {
          "values": [
           {
            "ECDF": 1e-05,
            "mean cntl value": 0.6236280443021665
           },
           {
            "ECDF": 0.01001,
            "mean cntl value": 0.8113828616098102
           },
           {
            "ECDF": 0.02001,
            "mean cntl value": 0.8513911587237682
           },
           {
            "ECDF": 0.03001,
            "mean cntl value": 0.8782883423458914
           },
           {
            "ECDF": 0.04001,
            "mean cntl value": 0.9012793966091884
           },
           {
            "ECDF": 0.05001,
            "mean cntl value": 0.919282226566241
           },
           {
            "ECDF": 0.06001,
            "mean cntl value": 0.9367940129310298
           },
           {
            "ECDF": 0.07001,
            "mean cntl value": 0.9511109519426018
           },
           {
            "ECDF": 0.08001,
            "mean cntl value": 0.9640429289549084
           },
           {
            "ECDF": 0.09001,
            "mean cntl value": 0.9765619744649048
           },
           {
            "ECDF": 0.10001,
            "mean cntl value": 0.9883046977582666
           },
           {
            "ECDF": 0.11001,
            "mean cntl value": 0.9989303223851318
           },
           {
            "ECDF": 0.12001,
            "mean cntl value": 1.0094594357783475
           },
           {
            "ECDF": 0.13001,
            "mean cntl value": 1.019270575417952
           },
           {
            "ECDF": 0.14001,
            "mean cntl value": 1.028861456389557
           },
           {
            "ECDF": 0.15001,
            "mean cntl value": 1.038359995295739
           },
           {
            "ECDF": 0.16001,
            "mean cntl value": 1.0461561007275066
           },
           {
            "ECDF": 0.17001,
            "mean cntl value": 1.0547388985290138
           },
           {
            "ECDF": 0.18001,
            "mean cntl value": 1.0631270376668311
           },
           {
            "ECDF": 0.19001,
            "mean cntl value": 1.070547084886873
           },
           {
            "ECDF": 0.20001,
            "mean cntl value": 1.0791110509199828
           },
           {
            "ECDF": 0.21001,
            "mean cntl value": 1.0859140410784562
           },
           {
            "ECDF": 0.22001,
            "mean cntl value": 1.0937170497314113
           },
           {
            "ECDF": 0.23001,
            "mean cntl value": 1.1008989791103734
           },
           {
            "ECDF": 0.24001,
            "mean cntl value": 1.1073913566785303
           },
           {
            "ECDF": 0.25001,
            "mean cntl value": 1.1150721624504834
           },
           {
            "ECDF": 0.26001,
            "mean cntl value": 1.1209149831577683
           },
           {
            "ECDF": 0.27001,
            "mean cntl value": 1.1286365143854649
           },
           {
            "ECDF": 0.28001,
            "mean cntl value": 1.1344826446769858
           },
           {
            "ECDF": 0.29001,
            "mean cntl value": 1.1420013042851103
           },
           {
            "ECDF": 0.30001,
            "mean cntl value": 1.1475648836422663
           },
           {
            "ECDF": 0.31001,
            "mean cntl value": 1.154886355188109
           },
           {
            "ECDF": 0.32001,
            "mean cntl value": 1.160187919469688
           },
           {
            "ECDF": 0.33001,
            "mean cntl value": 1.1672283299797044
           },
           {
            "ECDF": 0.34001,
            "mean cntl value": 1.1727444289401956
           },
           {
            "ECDF": 0.35001,
            "mean cntl value": 1.1795393544230521
           },
           {
            "ECDF": 0.36001,
            "mean cntl value": 1.1850296794274093
           },
           {
            "ECDF": 0.37001,
            "mean cntl value": 1.1918979225906718
           },
           {
            "ECDF": 0.38001,
            "mean cntl value": 1.1976609066354817
           },
           {
            "ECDF": 0.39001,
            "mean cntl value": 1.204117732354184
           },
           {
            "ECDF": 0.40001,
            "mean cntl value": 1.2098622437173538
           },
           {
            "ECDF": 0.41001,
            "mean cntl value": 1.216520670287482
           },
           {
            "ECDF": 0.42001,
            "mean cntl value": 1.2224127884931495
           },
           {
            "ECDF": 0.43001,
            "mean cntl value": 1.228306150521926
           },
           {
            "ECDF": 0.44001,
            "mean cntl value": 1.2344798837194624
           },
           {
            "ECDF": 0.45001,
            "mean cntl value": 1.2398290461558046
           },
           {
            "ECDF": 0.46001,
            "mean cntl value": 1.2466208065771833
           },
           {
            "ECDF": 0.47001,
            "mean cntl value": 1.2523049037162024
           },
           {
            "ECDF": 0.48001,
            "mean cntl value": 1.258982539806281
           },
           {
            "ECDF": 0.49001,
            "mean cntl value": 1.2644542056734867
           },
           {
            "ECDF": 0.50001,
            "mean cntl value": 1.2713539784737793
           },
           {
            "ECDF": 0.51001,
            "mean cntl value": 1.2767894255241603
           },
           {
            "ECDF": 0.52001,
            "mean cntl value": 1.2837041662212574
           },
           {
            "ECDF": 0.53001,
            "mean cntl value": 1.2889233792491073
           },
           {
            "ECDF": 0.54001,
            "mean cntl value": 1.2960143754169695
           },
           {
            "ECDF": 0.55001,
            "mean cntl value": 1.301022545699251
           },
           {
            "ECDF": 0.56001,
            "mean cntl value": 1.3081700302126422
           },
           {
            "ECDF": 0.57001,
            "mean cntl value": 1.3137504072688768
           },
           {
            "ECDF": 0.58001,
            "mean cntl value": 1.3210045574648237
           },
           {
            "ECDF": 0.59001,
            "mean cntl value": 1.326844723061633
           },
           {
            "ECDF": 0.60001,
            "mean cntl value": 1.3343918386814047
           },
           {
            "ECDF": 0.61001,
            "mean cntl value": 1.3398833455018413
           },
           {
            "ECDF": 0.62001,
            "mean cntl value": 1.3476397260113702
           },
           {
            "ECDF": 0.63001,
            "mean cntl value": 1.3534536621315347
           },
           {
            "ECDF": 0.64001,
            "mean cntl value": 1.3613645566093067
           },
           {
            "ECDF": 0.65001,
            "mean cntl value": 1.36716893049325
           },
           {
            "ECDF": 0.66001,
            "mean cntl value": 1.375071917311772
           },
           {
            "ECDF": 0.67001,
            "mean cntl value": 1.381453911292318
           },
           {
            "ECDF": 0.68001,
            "mean cntl value": 1.3893220449244499
           },
           {
            "ECDF": 0.69001,
            "mean cntl value": 1.3971000644976754
           },
           {
            "ECDF": 0.70001,
            "mean cntl value": 1.4039915012141815
           },
           {
            "ECDF": 0.71001,
            "mean cntl value": 1.412005446162326
           },
           {
            "ECDF": 0.72001,
            "mean cntl value": 1.4191093141506452
           },
           {
            "ECDF": 0.73001,
            "mean cntl value": 1.4270206357323758
           },
           {
            "ECDF": 0.74001,
            "mean cntl value": 1.434679933050224
           },
           {
            "ECDF": 0.75001,
            "mean cntl value": 1.4420664165639168
           },
           {
            "ECDF": 0.76001,
            "mean cntl value": 1.4516555020090365
           },
           {
            "ECDF": 0.77001,
            "mean cntl value": 1.4602530317484947
           },
           {
            "ECDF": 0.78001,
            "mean cntl value": 1.4686059334608035
           },
           {
            "ECDF": 0.79001,
            "mean cntl value": 1.478196814432409
           },
           {
            "ECDF": 0.80001,
            "mean cntl value": 1.4878089678992665
           },
           {
            "ECDF": 0.81001,
            "mean cntl value": 1.496934964759703
           },
           {
            "ECDF": 0.82001,
            "mean cntl value": 1.5064771201909566
           },
           {
            "ECDF": 0.83001,
            "mean cntl value": 1.517112879012074
           },
           {
            "ECDF": 0.84001,
            "mean cntl value": 1.5275314831057947
           },
           {
            "ECDF": 0.85001,
            "mean cntl value": 1.5387908496063467
           },
           {
            "ECDF": 0.86001,
            "mean cntl value": 1.5510550924631448
           },
           {
            "ECDF": 0.87001,
            "mean cntl value": 1.5635750764996164
           },
           {
            "ECDF": 0.88001,
            "mean cntl value": 1.5775867806432673
           },
           {
            "ECDF": 0.89001,
            "mean cntl value": 1.5917311237326117
           },
           {
            "ECDF": 0.90001,
            "mean cntl value": 1.6061532968847179
           },
           {
            "ECDF": 0.91001,
            "mean cntl value": 1.6213898725083555
           },
           {
            "ECDF": 0.92001,
            "mean cntl value": 1.6392580804546941
           },
           {
            "ECDF": 0.93001,
            "mean cntl value": 1.6585279249714726
           },
           {
            "ECDF": 0.94001,
            "mean cntl value": 1.6821517827329178
           },
           {
            "ECDF": 0.95001,
            "mean cntl value": 1.7063292095554605
           },
           {
            "ECDF": 0.96001,
            "mean cntl value": 1.7357519049306742
           },
           {
            "ECDF": 0.97001,
            "mean cntl value": 1.772062662847149
           },
           {
            "ECDF": 0.98001,
            "mean cntl value": 1.8212280895188986
           },
           {
            "ECDF": 0.99001,
            "mean cntl value": 1.899208250191641
           }
          ]
         },
         "encoding": {
          "x": {
           "field": "mean cntl value",
           "scale": {
            "zero": false
           },
           "type": "quantitative"
          },
          "y": {
           "field": "ECDF",
           "type": "quantitative"
          }
         },
         "mark": {
          "color": "blue",
          "opacity": 0.6,
          "type": "point"
         }
        },
        {
         "data": {
          "values": [
           {
            "ECDF": 1e-05,
            "mean expt value": 0.4984892790684282
           },
           {
            "ECDF": 0.01001,
            "mean expt value": 0.6303005945843065
           },
           {
            "ECDF": 0.02001,
            "mean expt value": 0.6588422409211011
           },
           {
            "ECDF": 0.03001,
            "mean expt value": 0.6788700315392018
           },
           {
            "ECDF": 0.04001,
            "mean expt value": 0.6950598637059404
           },
           {
            "ECDF": 0.05001,
            "mean expt value": 0.7086711959171781
           },
           {
            "ECDF": 0.06001,
            "mean expt value": 0.7205876441316186
           },
           {
            "ECDF": 0.07001,
            "mean expt value": 0.7309326545439566
           },
           {
            "ECDF": 0.08001,
            "mean expt value": 0.7411032964916563
           },
           {
            "ECDF": 0.09001,
            "mean expt value": 0.7503584038577968
           },
           {
            "ECDF": 0.10001,
            "mean expt value": 0.7587801995771961
           },
           {
            "ECDF": 0.11001,
            "mean expt value": 0.7666772649468544
           },
           {
            "ECDF": 0.12001,
            "mean expt value": 0.7742059134542708
           },
           {
            "ECDF": 0.13001,
            "mean expt value": 0.7821589410551064
           },
           {
            "ECDF": 0.14001,
            "mean expt value": 0.7893138897906689
           },
           {
            "ECDF": 0.15001,
            "mean expt value": 0.7960596589442414
           },
           {
            "ECDF": 0.16001,
            "mean expt value": 0.8027643328188724
           },
           {
            "ECDF": 0.17001,
            "mean expt value": 0.8093720850605675
           },
           {
            "ECDF": 0.18001,
            "mean expt value": 0.8151335064489226
           },
           {
            "ECDF": 0.19001,
            "mean expt value": 0.8210621031138485
           },
           {
            "ECDF": 0.20001,
            "mean expt value": 0.8267483618213702
           },
           {
            "ECDF": 0.21001,
            "mean expt value": 0.8324722018693089
           },
           {
            "ECDF": 0.22001,
            "mean expt value": 0.8380148657678814
           },
           {
            "ECDF": 0.23001,
            "mean expt value": 0.8433286544912052
           },
           {
            "ECDF": 0.24001,
            "mean expt value": 0.8487701787235828
           },
           {
            "ECDF": 0.25001,
            "mean expt value": 0.854370336384424
           },
           {
            "ECDF": 0.26001,
            "mean expt value": 0.8592665754941808
           },
           {
            "ECDF": 0.27001,
            "mean expt value": 0.8642482989080233
           },
           {
            "ECDF": 0.28001,
            "mean expt value": 0.8696183880506574
           },
           {
            "ECDF": 0.29001,
            "mean expt value": 0.8752021527687605
           },
           {
            "ECDF": 0.30001,
            "mean expt value": 0.8805088012481631
           },
           {
            "ECDF": 0.31001,
            "mean expt value": 0.8852384300951845
           },
           {
            "ECDF": 0.32001,
            "mean expt value": 0.8904538307403904
           },
           {
            "ECDF": 0.33001,
            "mean expt value": 0.8953065780534655
           },
           {
            "ECDF": 0.34001,
            "mean expt value": 0.9002883014673081
           },
           {
            "ECDF": 0.35001,
            "mean expt value": 0.9051750201600506
           },
           {
            "ECDF": 0.36001,
            "mean expt value": 0.9099031825618897
           },
           {
            "ECDF": 0.37001,
            "mean expt value": 0.9151260561307669
           },
           {
            "ECDF": 0.38001,
            "mean expt value": 0.9196306139704052
           },
           {
            "ECDF": 0.39001,
            "mean expt value": 0.924207062750467
           },
           {
            "ECDF": 0.40001,
            "mean expt value": 0.9289090440743564
           },
           {
            "ECDF": 0.41001,
            "mean expt value": 0.9336720099984166
           },
           {
            "ECDF": 0.42001,
            "mean expt value": 0.9382141491784715
           },
           {
            "ECDF": 0.43001,
            "mean expt value": 0.9433515384432631
           },
           {
            "ECDF": 0.44001,
            "mean expt value": 0.9481982684415836
           },
           {
            "ECDF": 0.45001,
            "mean expt value": 0.952771161297834
           },
           {
            "ECDF": 0.46001,
            "mean expt value": 0.9575919955286427
           },
           {
            "ECDF": 0.47001,
            "mean expt value": 0.9622393154451974
           },
           {
            "ECDF": 0.48001,
            "mean expt value": 0.9668288689623832
           },
           {
            "ECDF": 0.49001,
            "mean expt value": 0.9714333786658471
           },
           {
            "ECDF": 0.50001,
            "mean expt value": 0.9763906674616838
           },
           {
            "ECDF": 0.51001,
            "mean expt value": 0.9812154011001123
           },
           {
            "ECDF": 0.52001,
            "mean expt value": 0.9861524733112021
           },
           {
            "ECDF": 0.53001,
            "mean expt value": 0.9907965050221431
           },
           {
            "ECDF": 0.54001,
            "mean expt value": 0.9957553670894443
           },
           {
            "ECDF": 0.55001,
            "mean expt value": 1.0008453055724074
           },
           {
            "ECDF": 0.56001,
            "mean expt value": 1.0055603632371224
           },
           {
            "ECDF": 0.57001,
            "mean expt value": 1.0105420866509653
           },
           {
            "ECDF": 0.58001,
            "mean expt value": 1.0154522681487819
           },
           {
            "ECDF": 0.59001,
            "mean expt value": 1.0204271894184858
           },
           {
            "ECDF": 0.60001,
            "mean expt value": 1.0255809716260154
           },
           {
            "ECDF": 0.61001,
            "mean expt value": 1.0306464699503837
           },
           {
            "ECDF": 0.62001,
            "mean expt value": 1.0358713910126038
           },
           {
            "ECDF": 0.63001,
            "mean expt value": 1.0413109381332233
           },
           {
            "ECDF": 0.64001,
            "mean expt value": 1.0468572283371924
           },
           {
            "ECDF": 0.65001,
            "mean expt value": 1.0524236227590364
           },
           {
            "ECDF": 0.66001,
            "mean expt value": 1.0580237804198773
           },
           {
            "ECDF": 0.67001,
            "mean expt value": 1.06341468341571
           },
           {
            "ECDF": 0.68001,
            "mean expt value": 1.069022634507765
           },
           {
            "ECDF": 0.69001,
            "mean expt value": 1.0746994268352101
           },
           {
            "ECDF": 0.70001,
            "mean expt value": 1.0807090317962387
           },
           {
            "ECDF": 0.71001,
            "mean expt value": 1.08628924059053
           },
           {
            "ECDF": 0.72001,
            "mean expt value": 1.0922231025728282
           },
           {
            "ECDF": 0.73001,
            "mean expt value": 1.0981157132088395
           },
           {
            "ECDF": 0.74001,
            "mean expt value": 1.103944142020502
           },
           {
            "ECDF": 0.75001,
            "mean expt value": 1.110353460183444
           },
           {
            "ECDF": 0.76001,
            "mean expt value": 1.1172393046668518
           },
           {
            "ECDF": 0.77001,
            "mean expt value": 1.123797826351573
           },
           {
            "ECDF": 0.78001,
            "mean expt value": 1.1308411164610752
           },
           {
            "ECDF": 0.79001,
            "mean expt value": 1.1382296896386563
           },
           {
            "ECDF": 0.80001,
            "mean expt value": 1.1456519276219166
           },
           {
            "ECDF": 0.81001,
            "mean expt value": 1.1538010875583962
           },
           {
            "ECDF": 0.82001,
            "mean expt value": 1.1616119450550912
           },
           {
            "ECDF": 0.83001,
            "mean expt value": 1.1695274981417927
           },
           {
            "ECDF": 0.84001,
            "mean expt value": 1.1783286922899543
           },
           {
            "ECDF": 0.85001,
            "mean expt value": 1.1883688441658289
           },
           {
            "ECDF": 0.86001,
            "mean expt value": 1.198069256845459
           },
           {
            "ECDF": 0.87001,
            "mean expt value": 1.2072757256274016
           },
           {
            "ECDF": 0.88001,
            "mean expt value": 1.21802993321397
           },
           {
            "ECDF": 0.89001,
            "mean expt value": 1.2298844667556812
           },
           {
            "ECDF": 0.90001,
            "mean expt value": 1.2420175181402788
           },
           {
            "ECDF": 0.91001,
            "mean expt value": 1.255737059880048
           },
           {
            "ECDF": 0.92001,
            "mean expt value": 1.2703440224564226
           },
           {
            "ECDF": 0.93001,
            "mean expt value": 1.2876568585539945
           },
           {
            "ECDF": 0.94001,
            "mean expt value": 1.3045475997090157
           },
           {
            "ECDF": 0.95001,
            "mean expt value": 1.3246374118261282
           },
           {
            "ECDF": 0.96001,
            "mean expt value": 1.3482959657755764
           },
           {
            "ECDF": 0.97001,
            "mean expt value": 1.379347992764369
           },
           {
            "ECDF": 0.98001,
            "mean expt value": 1.4177643280687227
           },
           {
            "ECDF": 0.99001,
            "mean expt value": 1.4854746794969267
           }
          ]
         },
         "encoding": {
          "x": {
           "field": "mean expt value",
           "scale": {
            "zero": false
           },
           "type": "quantitative"
          },
          "y": {
           "field": "ECDF",
           "type": "quantitative"
          }
         },
         "mark": {
          "color": "orange",
          "opacity": 0.6,
          "type": "point"
         }
        }
       ]
      },
      "image/png": "[encoded data removed]",
      "text/plain": [
       "<VegaLite 2 object>\n",
       "\n",
       "If you see this message, it means the renderer has not been properly enabled\n",
       "for the frontend that you are using. For more information, see\n",
       "https://altair-viz.github.io/user_guide/troubleshooting.html\n"
      ]
     },
     "execution_count": 13,
     "metadata": {},
     "output_type": "execute_result"
    }
   ],
   "source": [
    "# Make the plot\n",
    "control = alt.Chart(df_ecdf_cntl\n",
    "                   ).mark_point(\n",
    "                    color='blue',\n",
    "                    opacity=0.6\n",
    "                   ).encode(\n",
    "                        x=alt.X('mean cntl value:Q', \n",
    "                                scale=alt.Scale(zero=False)),\n",
    "                        y='ECDF:Q'\n",
    "                    )\n",
    "\n",
    "experiment = alt.Chart(df_ecdf_expt\n",
    "                   ).mark_point(\n",
    "                    color='orange',\n",
    "                    opacity=0.6\n",
    "                   ).encode(\n",
    "                        x=alt.X('mean expt value:Q', \n",
    "                                scale=alt.Scale(zero=False)),\n",
    "                        y='ECDF:Q'\n",
    "                    )\n",
    "\n",
    "control + experiment"
   ]
  },
  {
   "cell_type": "code",
   "execution_count": null,
   "metadata": {},
   "outputs": [],
   "source": []
  },
  {
   "cell_type": "code",
   "execution_count": null,
   "metadata": {},
   "outputs": [],
   "source": []
  }
 ],
 "metadata": {
  "kernelspec": {
   "display_name": "Python 3",
   "language": "python",
   "name": "python3"
  },
  "language_info": {
   "codemirror_mode": {
    "name": "ipython",
    "version": 3
   },
   "file_extension": ".py",
   "mimetype": "text/x-python",
   "name": "python",
   "nbconvert_exporter": "python",
   "pygments_lexer": "ipython3",
   "version": "3.6.5"
  }
 },
 "nbformat": 4,
 "nbformat_minor": 2
}
