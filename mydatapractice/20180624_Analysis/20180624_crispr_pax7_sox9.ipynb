{
 "cells": [
  {
   "cell_type": "code",
   "execution_count": 1,
   "metadata": {},
   "outputs": [],
   "source": [
    "import pandas as pd\n",
    "import numpy as np\n",
    "import altair as alt"
   ]
  },
  {
   "cell_type": "code",
   "execution_count": 2,
   "metadata": {},
   "outputs": [],
   "source": [
    "# Read in .csv as DataFrame\n",
    "df_full = pd.read_csv('crispr_pax7_sox9_section_counts.csv')\n",
    "\n",
    "# Add empty columns for totals\n",
    "df_full['cntl pax7 total'] = df_full['Cntl Pax7 Tube Cells'] + df_full['Cntl Pax7 Mig Cells']\n",
    "df_full['expt pax7 total'] = df_full['Expt Pax7 Tube Cells'] + df_full['Expt Pax7 Mig Cells']"
   ]
  },
  {
   "cell_type": "code",
   "execution_count": 3,
   "metadata": {},
   "outputs": [
    {
     "data": {
      "text/html": [
       "<div>\n",
       "<style scoped>\n",
       "    .dataframe tbody tr th:only-of-type {\n",
       "        vertical-align: middle;\n",
       "    }\n",
       "\n",
       "    .dataframe tbody tr th {\n",
       "        vertical-align: top;\n",
       "    }\n",
       "\n",
       "    .dataframe thead th {\n",
       "        text-align: right;\n",
       "    }\n",
       "</style>\n",
       "<table border=\"1\" class=\"dataframe\">\n",
       "  <thead>\n",
       "    <tr style=\"text-align: right;\">\n",
       "      <th></th>\n",
       "      <th>Experiment</th>\n",
       "      <th>Treatment (right/left)</th>\n",
       "      <th>Reagent</th>\n",
       "      <th>Dose</th>\n",
       "      <th>Embryo</th>\n",
       "      <th>Somites</th>\n",
       "      <th>HH Stage</th>\n",
       "      <th>File Name</th>\n",
       "      <th>Section</th>\n",
       "      <th>Cntl Pax7 Tube Cells</th>\n",
       "      <th>Cntl Pax7 Mig Cells</th>\n",
       "      <th>Expt Pax7 Tube Cells</th>\n",
       "      <th>Expt Pax7 Mig Cells</th>\n",
       "      <th>Cntl Sox9 Cells</th>\n",
       "      <th>Expt Sox9 Cells</th>\n",
       "      <th>cntl pax7 total</th>\n",
       "      <th>expt pax7 total</th>\n",
       "    </tr>\n",
       "  </thead>\n",
       "  <tbody>\n",
       "    <tr>\n",
       "      <th>0</th>\n",
       "      <td>2017.10.16_SMPD3_gRNA1_Cas9eGFP</td>\n",
       "      <td>SMPD3 gRNA1/Control gRNA</td>\n",
       "      <td>Cas9eGFP</td>\n",
       "      <td>2 µg/µl</td>\n",
       "      <td>1</td>\n",
       "      <td>7</td>\n",
       "      <td>9</td>\n",
       "      <td>Emb1_7ss_sec1.czi</td>\n",
       "      <td>1</td>\n",
       "      <td>18</td>\n",
       "      <td>23</td>\n",
       "      <td>15</td>\n",
       "      <td>13</td>\n",
       "      <td>23</td>\n",
       "      <td>18</td>\n",
       "      <td>41</td>\n",
       "      <td>28</td>\n",
       "    </tr>\n",
       "    <tr>\n",
       "      <th>1</th>\n",
       "      <td>2017.10.16_SMPD3_gRNA1_Cas9eGFP</td>\n",
       "      <td>SMPD3 gRNA1/Control gRNA</td>\n",
       "      <td>Cas9eGFP</td>\n",
       "      <td>2 µg/µl</td>\n",
       "      <td>1</td>\n",
       "      <td>7</td>\n",
       "      <td>9</td>\n",
       "      <td>Emb1_7ss_sec2.czi</td>\n",
       "      <td>2</td>\n",
       "      <td>19</td>\n",
       "      <td>28</td>\n",
       "      <td>18</td>\n",
       "      <td>14</td>\n",
       "      <td>33</td>\n",
       "      <td>14</td>\n",
       "      <td>47</td>\n",
       "      <td>32</td>\n",
       "    </tr>\n",
       "  </tbody>\n",
       "</table>\n",
       "</div>"
      ],
      "text/plain": [
       "                        Experiment    Treatment (right/left)   Reagent  \\\n",
       "0  2017.10.16_SMPD3_gRNA1_Cas9eGFP  SMPD3 gRNA1/Control gRNA  Cas9eGFP   \n",
       "1  2017.10.16_SMPD3_gRNA1_Cas9eGFP  SMPD3 gRNA1/Control gRNA  Cas9eGFP   \n",
       "\n",
       "      Dose  Embryo  Somites  HH Stage          File Name  Section  \\\n",
       "0  2 µg/µl       1        7         9  Emb1_7ss_sec1.czi        1   \n",
       "1  2 µg/µl       1        7         9  Emb1_7ss_sec2.czi        2   \n",
       "\n",
       "   Cntl Pax7 Tube Cells  Cntl Pax7 Mig Cells  Expt Pax7 Tube Cells  \\\n",
       "0                    18                   23                    15   \n",
       "1                    19                   28                    18   \n",
       "\n",
       "   Expt Pax7 Mig Cells  Cntl Sox9 Cells  Expt Sox9 Cells  cntl pax7 total  \\\n",
       "0                   13               23               18               41   \n",
       "1                   14               33               14               47   \n",
       "\n",
       "   expt pax7 total  \n",
       "0               28  \n",
       "1               32  "
      ]
     },
     "execution_count": 3,
     "metadata": {},
     "output_type": "execute_result"
    }
   ],
   "source": [
    "df_full.head(2)"
   ]
  },
  {
   "cell_type": "markdown",
   "metadata": {},
   "source": [
    "## This approach didn't work"
   ]
  },
  {
   "cell_type": "code",
   "execution_count": 4,
   "metadata": {},
   "outputs": [
    {
     "data": {
      "text/html": [
       "<div>\n",
       "<style scoped>\n",
       "    .dataframe tbody tr th:only-of-type {\n",
       "        vertical-align: middle;\n",
       "    }\n",
       "\n",
       "    .dataframe tbody tr th {\n",
       "        vertical-align: top;\n",
       "    }\n",
       "\n",
       "    .dataframe thead th {\n",
       "        text-align: right;\n",
       "    }\n",
       "</style>\n",
       "<table border=\"1\" class=\"dataframe\">\n",
       "  <thead>\n",
       "    <tr style=\"text-align: right;\">\n",
       "      <th></th>\n",
       "      <th></th>\n",
       "      <th>pax7 ratio</th>\n",
       "      <th>sox9 ratio</th>\n",
       "    </tr>\n",
       "    <tr>\n",
       "      <th>Embryo</th>\n",
       "      <th>HH Stage</th>\n",
       "      <th></th>\n",
       "      <th></th>\n",
       "    </tr>\n",
       "  </thead>\n",
       "  <tbody>\n",
       "    <tr>\n",
       "      <th>1</th>\n",
       "      <th>9</th>\n",
       "      <td>0.713775</td>\n",
       "      <td>0.556974</td>\n",
       "    </tr>\n",
       "    <tr>\n",
       "      <th>2</th>\n",
       "      <th>9</th>\n",
       "      <td>1.002373</td>\n",
       "      <td>0.900963</td>\n",
       "    </tr>\n",
       "    <tr>\n",
       "      <th>3</th>\n",
       "      <th>9</th>\n",
       "      <td>0.940568</td>\n",
       "      <td>1.135784</td>\n",
       "    </tr>\n",
       "    <tr>\n",
       "      <th>4</th>\n",
       "      <th>10</th>\n",
       "      <td>0.844730</td>\n",
       "      <td>0.679111</td>\n",
       "    </tr>\n",
       "    <tr>\n",
       "      <th>5</th>\n",
       "      <th>9</th>\n",
       "      <td>0.715297</td>\n",
       "      <td>0.695783</td>\n",
       "    </tr>\n",
       "    <tr>\n",
       "      <th>6</th>\n",
       "      <th>9</th>\n",
       "      <td>1.268132</td>\n",
       "      <td>1.276685</td>\n",
       "    </tr>\n",
       "    <tr>\n",
       "      <th>7</th>\n",
       "      <th>9</th>\n",
       "      <td>0.901577</td>\n",
       "      <td>0.981758</td>\n",
       "    </tr>\n",
       "    <tr>\n",
       "      <th>8</th>\n",
       "      <th>10</th>\n",
       "      <td>0.740359</td>\n",
       "      <td>1.048656</td>\n",
       "    </tr>\n",
       "    <tr>\n",
       "      <th>9</th>\n",
       "      <th>9</th>\n",
       "      <td>1.510761</td>\n",
       "      <td>inf</td>\n",
       "    </tr>\n",
       "  </tbody>\n",
       "</table>\n",
       "</div>"
      ],
      "text/plain": [
       "                 pax7 ratio  sox9 ratio\n",
       "Embryo HH Stage                        \n",
       "1      9           0.713775    0.556974\n",
       "2      9           1.002373    0.900963\n",
       "3      9           0.940568    1.135784\n",
       "4      10          0.844730    0.679111\n",
       "5      9           0.715297    0.695783\n",
       "6      9           1.268132    1.276685\n",
       "7      9           0.901577    0.981758\n",
       "8      10          0.740359    1.048656\n",
       "9      9           1.510761         inf"
      ]
     },
     "execution_count": 4,
     "metadata": {},
     "output_type": "execute_result"
    }
   ],
   "source": [
    "embryo_means = (df_full.groupby(['Embryo', 'Section', 'HH Stage'])['cntl pax7 total', 'expt pax7 total', 'Cntl Sox9 Cells', 'Expt Sox9 Cells']).mean()\n",
    "embryo_means['pax7 ratio'] = embryo_means['expt pax7 total'] / embryo_means['cntl pax7 total']\n",
    "embryo_means['sox9 ratio'] = embryo_means['Expt Sox9 Cells'] / embryo_means['Cntl Sox9 Cells']\n",
    "avg_ratios = (embryo_means.groupby(['Embryo', 'HH Stage'])['pax7 ratio', 'sox9 ratio']).mean()\n",
    "avg_ratios"
   ]
  },
  {
   "cell_type": "markdown",
   "metadata": {},
   "source": [
    "This is a problem because one of the sections had a zero count, so 0/# generated an infinity (inf). Need to revise data analysis to prevent this from happening, and I'll approach this by averaging the counts per side before generating the ratio."
   ]
  },
  {
   "cell_type": "markdown",
   "metadata": {},
   "source": [
    "## This one works better"
   ]
  },
  {
   "cell_type": "code",
   "execution_count": 5,
   "metadata": {},
   "outputs": [],
   "source": [
    "# This approach does work\n",
    "embryo_means = (df_full.groupby(['Embryo', 'HH Stage'])\n",
    "                ['cntl pax7 total', 'expt pax7 total', 'Cntl Sox9 Cells', 'Expt Sox9 Cells']).mean()\n",
    "\n",
    "embryo_means['pax7 ratio'] = (embryo_means['expt pax7 total'] \n",
    "                            / embryo_means['cntl pax7 total'])\n",
    "embryo_means['sox9 ratio'] = (embryo_means['Expt Sox9 Cells'] \n",
    "                            / embryo_means['Cntl Sox9 Cells'])\n",
    "\n",
    "avg_ratios = (embryo_means.groupby(['Embryo', 'HH Stage'])['pax7 ratio', 'sox9 ratio']).mean().reset_index()\n",
    "\n",
    "hh9_avg_ratios = (avg_ratios.loc[avg_ratios['HH Stage'] == 9])"
   ]
  },
  {
   "cell_type": "code",
   "execution_count": 6,
   "metadata": {},
   "outputs": [],
   "source": [
    "melt_hh9_avg_ratios = pd.melt(hh9_avg_ratios, \n",
    "                              id_vars='Embryo', \n",
    "                              value_vars=['pax7 ratio', 'sox9 ratio'], \n",
    "                              var_name='stain', \n",
    "                              value_name='ratio')\n",
    "melt_hh9_avg_ratios.replace(to_replace=['pax7 ratio', 'sox9 ratio'], \n",
    "                            value=['pax7', 'sox9'], \n",
    "                            inplace=True)"
   ]
  },
  {
   "cell_type": "code",
   "execution_count": 7,
   "metadata": {},
   "outputs": [
    {
     "data": {
      "application/vnd.vegalite.v2+json": {
       "$schema": "https://vega.github.io/schema/vega-lite/v2.4.3.json",
       "config": {
        "background": "white",
        "view": {
         "height": 300,
         "width": 400
        }
       },
       "data": {
        "values": [
         {
          "Embryo": 1,
          "ratio": 0.641304347826087,
          "stain": "pax7"
         },
         {
          "Embryo": 2,
          "ratio": 1.0344827586206897,
          "stain": "pax7"
         },
         {
          "Embryo": 3,
          "ratio": 0.9473684210526314,
          "stain": "pax7"
         },
         {
          "Embryo": 5,
          "ratio": 0.7065217391304348,
          "stain": "pax7"
         },
         {
          "Embryo": 6,
          "ratio": 1.3448275862068966,
          "stain": "pax7"
         },
         {
          "Embryo": 7,
          "ratio": 0.9126213592233009,
          "stain": "pax7"
         },
         {
          "Embryo": 9,
          "ratio": 1.3846153846153846,
          "stain": "pax7"
         },
         {
          "Embryo": 1,
          "ratio": 0.5403225806451613,
          "stain": "sox9"
         },
         {
          "Embryo": 2,
          "ratio": 0.8907563025210083,
          "stain": "sox9"
         },
         {
          "Embryo": 3,
          "ratio": 1.1129032258064517,
          "stain": "sox9"
         },
         {
          "Embryo": 5,
          "ratio": 0.6893203883495145,
          "stain": "sox9"
         },
         {
          "Embryo": 6,
          "ratio": 1.4538461538461538,
          "stain": "sox9"
         },
         {
          "Embryo": 7,
          "ratio": 1.036697247706422,
          "stain": "sox9"
         },
         {
          "Embryo": 9,
          "ratio": 1,
          "stain": "sox9"
         }
        ]
       },
       "encoding": {
        "color": {
         "field": "stain",
         "type": "nominal"
        },
        "x": {
         "axis": {
          "labelAngle": 0
         },
         "field": "stain",
         "title": "",
         "type": "nominal"
        },
        "y": {
         "field": "ratio",
         "title": "Norm. Cell Count",
         "type": "quantitative"
        }
       },
       "mark": {
        "filled": true,
        "opacity": 0.75,
        "size": 50,
        "type": "point"
       },
       "width": 150
      },
      "image/png": "[encoded data removed]",
      "text/plain": [
       "<VegaLite 2 object>\n",
       "\n",
       "If you see this message, it means the renderer has not been properly enabled\n",
       "for the frontend that you are using. For more information, see\n",
       "https://altair-viz.github.io/user_guide/troubleshooting.html\n"
      ]
     },
     "execution_count": 7,
     "metadata": {},
     "output_type": "execute_result"
    }
   ],
   "source": [
    "alt.Chart(melt_hh9_avg_ratios,\n",
    "    width=150\n",
    "    ).configure(\n",
    "        background='white'\n",
    "    ).mark_point(\n",
    "        size=50,\n",
    "        filled=True,\n",
    "        opacity=0.75\n",
    "    ).encode(\n",
    "        x=alt.X('stain:N',\n",
    "            title='',\n",
    "            axis=alt.Axis(labelAngle=0)),\n",
    "        y=alt.Y('ratio:Q',\n",
    "            title='Norm. Cell Count'),\n",
    "        color='stain:N'\n",
    "    )"
   ]
  },
  {
   "cell_type": "code",
   "execution_count": 9,
   "metadata": {},
   "outputs": [
    {
     "data": {
      "text/html": [
       "<div>\n",
       "<style scoped>\n",
       "    .dataframe tbody tr th:only-of-type {\n",
       "        vertical-align: middle;\n",
       "    }\n",
       "\n",
       "    .dataframe tbody tr th {\n",
       "        vertical-align: top;\n",
       "    }\n",
       "\n",
       "    .dataframe thead th {\n",
       "        text-align: right;\n",
       "    }\n",
       "</style>\n",
       "<table border=\"1\" class=\"dataframe\">\n",
       "  <thead>\n",
       "    <tr style=\"text-align: right;\">\n",
       "      <th></th>\n",
       "      <th>Embryo</th>\n",
       "      <th>stain</th>\n",
       "      <th>ratio</th>\n",
       "    </tr>\n",
       "  </thead>\n",
       "  <tbody>\n",
       "    <tr>\n",
       "      <th>0</th>\n",
       "      <td>1</td>\n",
       "      <td>pax7</td>\n",
       "      <td>0.641304</td>\n",
       "    </tr>\n",
       "    <tr>\n",
       "      <th>1</th>\n",
       "      <td>2</td>\n",
       "      <td>pax7</td>\n",
       "      <td>1.034483</td>\n",
       "    </tr>\n",
       "    <tr>\n",
       "      <th>2</th>\n",
       "      <td>3</td>\n",
       "      <td>pax7</td>\n",
       "      <td>0.947368</td>\n",
       "    </tr>\n",
       "    <tr>\n",
       "      <th>3</th>\n",
       "      <td>5</td>\n",
       "      <td>pax7</td>\n",
       "      <td>0.706522</td>\n",
       "    </tr>\n",
       "    <tr>\n",
       "      <th>4</th>\n",
       "      <td>6</td>\n",
       "      <td>pax7</td>\n",
       "      <td>1.344828</td>\n",
       "    </tr>\n",
       "    <tr>\n",
       "      <th>5</th>\n",
       "      <td>7</td>\n",
       "      <td>pax7</td>\n",
       "      <td>0.912621</td>\n",
       "    </tr>\n",
       "    <tr>\n",
       "      <th>6</th>\n",
       "      <td>9</td>\n",
       "      <td>pax7</td>\n",
       "      <td>1.384615</td>\n",
       "    </tr>\n",
       "    <tr>\n",
       "      <th>7</th>\n",
       "      <td>1</td>\n",
       "      <td>sox9</td>\n",
       "      <td>0.540323</td>\n",
       "    </tr>\n",
       "    <tr>\n",
       "      <th>8</th>\n",
       "      <td>2</td>\n",
       "      <td>sox9</td>\n",
       "      <td>0.890756</td>\n",
       "    </tr>\n",
       "    <tr>\n",
       "      <th>9</th>\n",
       "      <td>3</td>\n",
       "      <td>sox9</td>\n",
       "      <td>1.112903</td>\n",
       "    </tr>\n",
       "    <tr>\n",
       "      <th>10</th>\n",
       "      <td>5</td>\n",
       "      <td>sox9</td>\n",
       "      <td>0.689320</td>\n",
       "    </tr>\n",
       "    <tr>\n",
       "      <th>11</th>\n",
       "      <td>6</td>\n",
       "      <td>sox9</td>\n",
       "      <td>1.453846</td>\n",
       "    </tr>\n",
       "    <tr>\n",
       "      <th>12</th>\n",
       "      <td>7</td>\n",
       "      <td>sox9</td>\n",
       "      <td>1.036697</td>\n",
       "    </tr>\n",
       "    <tr>\n",
       "      <th>13</th>\n",
       "      <td>9</td>\n",
       "      <td>sox9</td>\n",
       "      <td>1.000000</td>\n",
       "    </tr>\n",
       "  </tbody>\n",
       "</table>\n",
       "</div>"
      ],
      "text/plain": [
       "    Embryo stain     ratio\n",
       "0        1  pax7  0.641304\n",
       "1        2  pax7  1.034483\n",
       "2        3  pax7  0.947368\n",
       "3        5  pax7  0.706522\n",
       "4        6  pax7  1.344828\n",
       "5        7  pax7  0.912621\n",
       "6        9  pax7  1.384615\n",
       "7        1  sox9  0.540323\n",
       "8        2  sox9  0.890756\n",
       "9        3  sox9  1.112903\n",
       "10       5  sox9  0.689320\n",
       "11       6  sox9  1.453846\n",
       "12       7  sox9  1.036697\n",
       "13       9  sox9  1.000000"
      ]
     },
     "execution_count": 9,
     "metadata": {},
     "output_type": "execute_result"
    }
   ],
   "source": [
    "melt_hh9_avg_ratios"
   ]
  },
  {
   "cell_type": "code",
   "execution_count": 10,
   "metadata": {},
   "outputs": [
    {
     "data": {
      "text/html": [
       "<div>\n",
       "<style scoped>\n",
       "    .dataframe tbody tr th:only-of-type {\n",
       "        vertical-align: middle;\n",
       "    }\n",
       "\n",
       "    .dataframe tbody tr th {\n",
       "        vertical-align: top;\n",
       "    }\n",
       "\n",
       "    .dataframe thead th {\n",
       "        text-align: right;\n",
       "    }\n",
       "</style>\n",
       "<table border=\"1\" class=\"dataframe\">\n",
       "  <thead>\n",
       "    <tr style=\"text-align: right;\">\n",
       "      <th>stain</th>\n",
       "      <th>pax7</th>\n",
       "      <th>sox9</th>\n",
       "    </tr>\n",
       "    <tr>\n",
       "      <th>Embryo</th>\n",
       "      <th></th>\n",
       "      <th></th>\n",
       "    </tr>\n",
       "  </thead>\n",
       "  <tbody>\n",
       "    <tr>\n",
       "      <th>1</th>\n",
       "      <td>0.641304</td>\n",
       "      <td>0.540323</td>\n",
       "    </tr>\n",
       "    <tr>\n",
       "      <th>2</th>\n",
       "      <td>1.034483</td>\n",
       "      <td>0.890756</td>\n",
       "    </tr>\n",
       "    <tr>\n",
       "      <th>3</th>\n",
       "      <td>0.947368</td>\n",
       "      <td>1.112903</td>\n",
       "    </tr>\n",
       "    <tr>\n",
       "      <th>5</th>\n",
       "      <td>0.706522</td>\n",
       "      <td>0.689320</td>\n",
       "    </tr>\n",
       "    <tr>\n",
       "      <th>6</th>\n",
       "      <td>1.344828</td>\n",
       "      <td>1.453846</td>\n",
       "    </tr>\n",
       "    <tr>\n",
       "      <th>7</th>\n",
       "      <td>0.912621</td>\n",
       "      <td>1.036697</td>\n",
       "    </tr>\n",
       "    <tr>\n",
       "      <th>9</th>\n",
       "      <td>1.384615</td>\n",
       "      <td>1.000000</td>\n",
       "    </tr>\n",
       "  </tbody>\n",
       "</table>\n",
       "</div>"
      ],
      "text/plain": [
       "stain       pax7      sox9\n",
       "Embryo                    \n",
       "1       0.641304  0.540323\n",
       "2       1.034483  0.890756\n",
       "3       0.947368  1.112903\n",
       "5       0.706522  0.689320\n",
       "6       1.344828  1.453846\n",
       "7       0.912621  1.036697\n",
       "9       1.384615  1.000000"
      ]
     },
     "execution_count": 10,
     "metadata": {},
     "output_type": "execute_result"
    }
   ],
   "source": [
    "# pivots to expand dataframe\n",
    "avg_ratios_hh9_pivot = melt_hh9_avg_ratios.pivot(index='Embryo', \n",
    "                                                 columns='stain', \n",
    "                                                 values='ratio')\n",
    "avg_ratios_hh9_pivot"
   ]
  },
  {
   "cell_type": "code",
   "execution_count": null,
   "metadata": {},
   "outputs": [],
   "source": []
  }
 ],
 "metadata": {
  "kernelspec": {
   "display_name": "Python 3",
   "language": "python",
   "name": "python3"
  },
  "language_info": {
   "codemirror_mode": {
    "name": "ipython",
    "version": 3
   },
   "file_extension": ".py",
   "mimetype": "text/x-python",
   "name": "python",
   "nbconvert_exporter": "python",
   "pygments_lexer": "ipython3",
   "version": "3.6.5"
  }
 },
 "nbformat": 4,
 "nbformat_minor": 2
}
