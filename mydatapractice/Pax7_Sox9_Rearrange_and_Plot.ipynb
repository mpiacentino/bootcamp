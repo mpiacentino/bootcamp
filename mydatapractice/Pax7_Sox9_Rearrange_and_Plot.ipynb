{
 "cells": [
  {
   "cell_type": "code",
   "execution_count": 83,
   "metadata": {},
   "outputs": [],
   "source": [
    "import numpy as np\n",
    "import pandas as pd\n",
    "import scipy.stats\n",
    "import altair as alt\n",
    "import bootcamp_utils"
   ]
  },
  {
   "cell_type": "markdown",
   "metadata": {},
   "source": [
    "This notebook is to practice manipulating my pd.DataFrame and make new rows from existing columns"
   ]
  },
  {
   "cell_type": "code",
   "execution_count": 84,
   "metadata": {},
   "outputs": [
    {
     "data": {
      "text/plain": [
       "'/Users/michaelpiacentino/Drive/SMPD3_quants'"
      ]
     },
     "execution_count": 84,
     "metadata": {},
     "output_type": "execute_result"
    }
   ],
   "source": [
    "pwd"
   ]
  },
  {
   "cell_type": "code",
   "execution_count": 85,
   "metadata": {},
   "outputs": [
    {
     "data": {
      "text/html": [
       "<div>\n",
       "<style scoped>\n",
       "    .dataframe tbody tr th:only-of-type {\n",
       "        vertical-align: middle;\n",
       "    }\n",
       "\n",
       "    .dataframe tbody tr th {\n",
       "        vertical-align: top;\n",
       "    }\n",
       "\n",
       "    .dataframe thead th {\n",
       "        text-align: right;\n",
       "    }\n",
       "</style>\n",
       "<table border=\"1\" class=\"dataframe\">\n",
       "  <thead>\n",
       "    <tr style=\"text-align: right;\">\n",
       "      <th></th>\n",
       "      <th>Unnamed: 0</th>\n",
       "      <th>Embryo</th>\n",
       "      <th>Cntl Pax7 Total Cells</th>\n",
       "      <th>Expt Pax7 Total Cells</th>\n",
       "      <th>Cntl Sox9 Cells</th>\n",
       "      <th>Expt Sox9 Cells</th>\n",
       "      <th>Expt/Cntl Pax7</th>\n",
       "      <th>Expt/Cntl Sox9</th>\n",
       "    </tr>\n",
       "  </thead>\n",
       "  <tbody>\n",
       "    <tr>\n",
       "      <th>0</th>\n",
       "      <td>0</td>\n",
       "      <td>1</td>\n",
       "      <td>36.8</td>\n",
       "      <td>23.6</td>\n",
       "      <td>24.8</td>\n",
       "      <td>13.4</td>\n",
       "      <td>0.641304</td>\n",
       "      <td>0.540323</td>\n",
       "    </tr>\n",
       "    <tr>\n",
       "      <th>1</th>\n",
       "      <td>1</td>\n",
       "      <td>2</td>\n",
       "      <td>46.4</td>\n",
       "      <td>48.0</td>\n",
       "      <td>23.8</td>\n",
       "      <td>21.2</td>\n",
       "      <td>1.034483</td>\n",
       "      <td>0.890756</td>\n",
       "    </tr>\n",
       "    <tr>\n",
       "      <th>2</th>\n",
       "      <td>2</td>\n",
       "      <td>3</td>\n",
       "      <td>34.2</td>\n",
       "      <td>32.4</td>\n",
       "      <td>24.8</td>\n",
       "      <td>27.6</td>\n",
       "      <td>0.947368</td>\n",
       "      <td>1.112903</td>\n",
       "    </tr>\n",
       "    <tr>\n",
       "      <th>3</th>\n",
       "      <td>3</td>\n",
       "      <td>5</td>\n",
       "      <td>73.6</td>\n",
       "      <td>52.0</td>\n",
       "      <td>41.2</td>\n",
       "      <td>28.4</td>\n",
       "      <td>0.706522</td>\n",
       "      <td>0.689320</td>\n",
       "    </tr>\n",
       "    <tr>\n",
       "      <th>4</th>\n",
       "      <td>4</td>\n",
       "      <td>6</td>\n",
       "      <td>34.8</td>\n",
       "      <td>46.8</td>\n",
       "      <td>26.0</td>\n",
       "      <td>37.8</td>\n",
       "      <td>1.344828</td>\n",
       "      <td>1.453846</td>\n",
       "    </tr>\n",
       "    <tr>\n",
       "      <th>5</th>\n",
       "      <td>5</td>\n",
       "      <td>7</td>\n",
       "      <td>41.2</td>\n",
       "      <td>37.6</td>\n",
       "      <td>21.8</td>\n",
       "      <td>22.6</td>\n",
       "      <td>0.912621</td>\n",
       "      <td>1.036697</td>\n",
       "    </tr>\n",
       "    <tr>\n",
       "      <th>6</th>\n",
       "      <td>6</td>\n",
       "      <td>9</td>\n",
       "      <td>23.4</td>\n",
       "      <td>32.4</td>\n",
       "      <td>14.2</td>\n",
       "      <td>14.2</td>\n",
       "      <td>1.384615</td>\n",
       "      <td>1.000000</td>\n",
       "    </tr>\n",
       "  </tbody>\n",
       "</table>\n",
       "</div>"
      ],
      "text/plain": [
       "   Unnamed: 0  Embryo  Cntl Pax7 Total Cells  Expt Pax7 Total Cells  \\\n",
       "0           0       1                   36.8                   23.6   \n",
       "1           1       2                   46.4                   48.0   \n",
       "2           2       3                   34.2                   32.4   \n",
       "3           3       5                   73.6                   52.0   \n",
       "4           4       6                   34.8                   46.8   \n",
       "5           5       7                   41.2                   37.6   \n",
       "6           6       9                   23.4                   32.4   \n",
       "\n",
       "   Cntl Sox9 Cells  Expt Sox9 Cells  Expt/Cntl Pax7  Expt/Cntl Sox9  \n",
       "0             24.8             13.4        0.641304        0.540323  \n",
       "1             23.8             21.2        1.034483        0.890756  \n",
       "2             24.8             27.6        0.947368        1.112903  \n",
       "3             41.2             28.4        0.706522        0.689320  \n",
       "4             26.0             37.8        1.344828        1.453846  \n",
       "5             21.8             22.6        0.912621        1.036697  \n",
       "6             14.2             14.2        1.384615        1.000000  "
      ]
     },
     "execution_count": 85,
     "metadata": {},
     "output_type": "execute_result"
    }
   ],
   "source": [
    "# Read in my .csv as a pd.DataFrame\n",
    "df = pd.read_csv('section_means_ratio.csv')\n",
    "df"
   ]
  },
  {
   "cell_type": "code",
   "execution_count": 86,
   "metadata": {},
   "outputs": [
    {
     "data": {
      "text/html": [
       "<div>\n",
       "<style scoped>\n",
       "    .dataframe tbody tr th:only-of-type {\n",
       "        vertical-align: middle;\n",
       "    }\n",
       "\n",
       "    .dataframe tbody tr th {\n",
       "        vertical-align: top;\n",
       "    }\n",
       "\n",
       "    .dataframe thead th {\n",
       "        text-align: right;\n",
       "    }\n",
       "</style>\n",
       "<table border=\"1\" class=\"dataframe\">\n",
       "  <thead>\n",
       "    <tr style=\"text-align: right;\">\n",
       "      <th></th>\n",
       "      <th>Embryo</th>\n",
       "      <th>Cntl Pax7 Total Cells</th>\n",
       "      <th>Expt Pax7 Total Cells</th>\n",
       "      <th>Cntl Sox9 Cells</th>\n",
       "      <th>Expt Sox9 Cells</th>\n",
       "      <th>Expt/Cntl Pax7</th>\n",
       "      <th>Expt/Cntl Sox9</th>\n",
       "    </tr>\n",
       "  </thead>\n",
       "  <tbody>\n",
       "    <tr>\n",
       "      <th>0</th>\n",
       "      <td>1</td>\n",
       "      <td>36.8</td>\n",
       "      <td>23.6</td>\n",
       "      <td>24.8</td>\n",
       "      <td>13.4</td>\n",
       "      <td>0.641304</td>\n",
       "      <td>0.540323</td>\n",
       "    </tr>\n",
       "    <tr>\n",
       "      <th>1</th>\n",
       "      <td>2</td>\n",
       "      <td>46.4</td>\n",
       "      <td>48.0</td>\n",
       "      <td>23.8</td>\n",
       "      <td>21.2</td>\n",
       "      <td>1.034483</td>\n",
       "      <td>0.890756</td>\n",
       "    </tr>\n",
       "    <tr>\n",
       "      <th>2</th>\n",
       "      <td>3</td>\n",
       "      <td>34.2</td>\n",
       "      <td>32.4</td>\n",
       "      <td>24.8</td>\n",
       "      <td>27.6</td>\n",
       "      <td>0.947368</td>\n",
       "      <td>1.112903</td>\n",
       "    </tr>\n",
       "    <tr>\n",
       "      <th>3</th>\n",
       "      <td>5</td>\n",
       "      <td>73.6</td>\n",
       "      <td>52.0</td>\n",
       "      <td>41.2</td>\n",
       "      <td>28.4</td>\n",
       "      <td>0.706522</td>\n",
       "      <td>0.689320</td>\n",
       "    </tr>\n",
       "    <tr>\n",
       "      <th>4</th>\n",
       "      <td>6</td>\n",
       "      <td>34.8</td>\n",
       "      <td>46.8</td>\n",
       "      <td>26.0</td>\n",
       "      <td>37.8</td>\n",
       "      <td>1.344828</td>\n",
       "      <td>1.453846</td>\n",
       "    </tr>\n",
       "    <tr>\n",
       "      <th>5</th>\n",
       "      <td>7</td>\n",
       "      <td>41.2</td>\n",
       "      <td>37.6</td>\n",
       "      <td>21.8</td>\n",
       "      <td>22.6</td>\n",
       "      <td>0.912621</td>\n",
       "      <td>1.036697</td>\n",
       "    </tr>\n",
       "    <tr>\n",
       "      <th>6</th>\n",
       "      <td>9</td>\n",
       "      <td>23.4</td>\n",
       "      <td>32.4</td>\n",
       "      <td>14.2</td>\n",
       "      <td>14.2</td>\n",
       "      <td>1.384615</td>\n",
       "      <td>1.000000</td>\n",
       "    </tr>\n",
       "  </tbody>\n",
       "</table>\n",
       "</div>"
      ],
      "text/plain": [
       "   Embryo  Cntl Pax7 Total Cells  Expt Pax7 Total Cells  Cntl Sox9 Cells  \\\n",
       "0       1                   36.8                   23.6             24.8   \n",
       "1       2                   46.4                   48.0             23.8   \n",
       "2       3                   34.2                   32.4             24.8   \n",
       "3       5                   73.6                   52.0             41.2   \n",
       "4       6                   34.8                   46.8             26.0   \n",
       "5       7                   41.2                   37.6             21.8   \n",
       "6       9                   23.4                   32.4             14.2   \n",
       "\n",
       "   Expt Sox9 Cells  Expt/Cntl Pax7  Expt/Cntl Sox9  \n",
       "0             13.4        0.641304        0.540323  \n",
       "1             21.2        1.034483        0.890756  \n",
       "2             27.6        0.947368        1.112903  \n",
       "3             28.4        0.706522        0.689320  \n",
       "4             37.8        1.344828        1.453846  \n",
       "5             22.6        0.912621        1.036697  \n",
       "6             14.2        1.384615        1.000000  "
      ]
     },
     "execution_count": 86,
     "metadata": {},
     "output_type": "execute_result"
    }
   ],
   "source": [
    "# Column 1 is unnecessary, remove it\n",
    "df = df.drop('Unnamed: 0', axis=1)\n",
    "df"
   ]
  },
  {
   "cell_type": "code",
   "execution_count": 87,
   "metadata": {},
   "outputs": [
    {
     "data": {
      "text/plain": [
       "['Embryo',\n",
       " 'Cntl Pax7 Total Cells',\n",
       " 'Expt Pax7 Total Cells',\n",
       " 'Cntl Sox9 Cells',\n",
       " 'Expt Sox9 Cells',\n",
       " 'Expt/Cntl Pax7',\n",
       " 'Expt/Cntl Sox9']"
      ]
     },
     "execution_count": 87,
     "metadata": {},
     "output_type": "execute_result"
    }
   ],
   "source": [
    "# Now I want a list with the column labels since I want to rename two of them\n",
    "titles = list(df)\n",
    "titles\n",
    "# or this: list(df.columns.values)"
   ]
  },
  {
   "cell_type": "code",
   "execution_count": 88,
   "metadata": {},
   "outputs": [
    {
     "data": {
      "text/plain": [
       "['Embryo',\n",
       " 'Cntl Pax7 Total Cells',\n",
       " 'Expt Pax7 Total Cells',\n",
       " 'Cntl Sox9 Cells',\n",
       " 'Expt Sox9 Cells',\n",
       " 'Pax7',\n",
       " 'Sox9']"
      ]
     },
     "execution_count": 88,
     "metadata": {},
     "output_type": "execute_result"
    }
   ],
   "source": [
    "# Rename the column names I need to rename\n",
    "titles[5] = 'Pax7'\n",
    "titles[6] = 'Sox9'\n",
    "titles"
   ]
  },
  {
   "cell_type": "code",
   "execution_count": 89,
   "metadata": {},
   "outputs": [
    {
     "data": {
      "text/html": [
       "<div>\n",
       "<style scoped>\n",
       "    .dataframe tbody tr th:only-of-type {\n",
       "        vertical-align: middle;\n",
       "    }\n",
       "\n",
       "    .dataframe tbody tr th {\n",
       "        vertical-align: top;\n",
       "    }\n",
       "\n",
       "    .dataframe thead th {\n",
       "        text-align: right;\n",
       "    }\n",
       "</style>\n",
       "<table border=\"1\" class=\"dataframe\">\n",
       "  <thead>\n",
       "    <tr style=\"text-align: right;\">\n",
       "      <th></th>\n",
       "      <th>Embryo</th>\n",
       "      <th>Cntl Pax7 Total Cells</th>\n",
       "      <th>Expt Pax7 Total Cells</th>\n",
       "      <th>Cntl Sox9 Cells</th>\n",
       "      <th>Expt Sox9 Cells</th>\n",
       "      <th>Pax7</th>\n",
       "      <th>Sox9</th>\n",
       "    </tr>\n",
       "  </thead>\n",
       "  <tbody>\n",
       "    <tr>\n",
       "      <th>0</th>\n",
       "      <td>1</td>\n",
       "      <td>36.8</td>\n",
       "      <td>23.6</td>\n",
       "      <td>24.8</td>\n",
       "      <td>13.4</td>\n",
       "      <td>0.641304</td>\n",
       "      <td>0.540323</td>\n",
       "    </tr>\n",
       "    <tr>\n",
       "      <th>1</th>\n",
       "      <td>2</td>\n",
       "      <td>46.4</td>\n",
       "      <td>48.0</td>\n",
       "      <td>23.8</td>\n",
       "      <td>21.2</td>\n",
       "      <td>1.034483</td>\n",
       "      <td>0.890756</td>\n",
       "    </tr>\n",
       "    <tr>\n",
       "      <th>2</th>\n",
       "      <td>3</td>\n",
       "      <td>34.2</td>\n",
       "      <td>32.4</td>\n",
       "      <td>24.8</td>\n",
       "      <td>27.6</td>\n",
       "      <td>0.947368</td>\n",
       "      <td>1.112903</td>\n",
       "    </tr>\n",
       "    <tr>\n",
       "      <th>3</th>\n",
       "      <td>5</td>\n",
       "      <td>73.6</td>\n",
       "      <td>52.0</td>\n",
       "      <td>41.2</td>\n",
       "      <td>28.4</td>\n",
       "      <td>0.706522</td>\n",
       "      <td>0.689320</td>\n",
       "    </tr>\n",
       "    <tr>\n",
       "      <th>4</th>\n",
       "      <td>6</td>\n",
       "      <td>34.8</td>\n",
       "      <td>46.8</td>\n",
       "      <td>26.0</td>\n",
       "      <td>37.8</td>\n",
       "      <td>1.344828</td>\n",
       "      <td>1.453846</td>\n",
       "    </tr>\n",
       "    <tr>\n",
       "      <th>5</th>\n",
       "      <td>7</td>\n",
       "      <td>41.2</td>\n",
       "      <td>37.6</td>\n",
       "      <td>21.8</td>\n",
       "      <td>22.6</td>\n",
       "      <td>0.912621</td>\n",
       "      <td>1.036697</td>\n",
       "    </tr>\n",
       "    <tr>\n",
       "      <th>6</th>\n",
       "      <td>9</td>\n",
       "      <td>23.4</td>\n",
       "      <td>32.4</td>\n",
       "      <td>14.2</td>\n",
       "      <td>14.2</td>\n",
       "      <td>1.384615</td>\n",
       "      <td>1.000000</td>\n",
       "    </tr>\n",
       "  </tbody>\n",
       "</table>\n",
       "</div>"
      ],
      "text/plain": [
       "   Embryo  Cntl Pax7 Total Cells  Expt Pax7 Total Cells  Cntl Sox9 Cells  \\\n",
       "0       1                   36.8                   23.6             24.8   \n",
       "1       2                   46.4                   48.0             23.8   \n",
       "2       3                   34.2                   32.4             24.8   \n",
       "3       5                   73.6                   52.0             41.2   \n",
       "4       6                   34.8                   46.8             26.0   \n",
       "5       7                   41.2                   37.6             21.8   \n",
       "6       9                   23.4                   32.4             14.2   \n",
       "\n",
       "   Expt Sox9 Cells      Pax7      Sox9  \n",
       "0             13.4  0.641304  0.540323  \n",
       "1             21.2  1.034483  0.890756  \n",
       "2             27.6  0.947368  1.112903  \n",
       "3             28.4  0.706522  0.689320  \n",
       "4             37.8  1.344828  1.453846  \n",
       "5             22.6  0.912621  1.036697  \n",
       "6             14.2  1.384615  1.000000  "
      ]
     },
     "execution_count": 89,
     "metadata": {},
     "output_type": "execute_result"
    }
   ],
   "source": [
    "# Rename column titles based on the list I fixed\n",
    "df.columns = titles\n",
    "df"
   ]
  },
  {
   "cell_type": "code",
   "execution_count": 90,
   "metadata": {},
   "outputs": [
    {
     "data": {
      "text/html": [
       "<div>\n",
       "<style scoped>\n",
       "    .dataframe tbody tr th:only-of-type {\n",
       "        vertical-align: middle;\n",
       "    }\n",
       "\n",
       "    .dataframe tbody tr th {\n",
       "        vertical-align: top;\n",
       "    }\n",
       "\n",
       "    .dataframe thead th {\n",
       "        text-align: right;\n",
       "    }\n",
       "</style>\n",
       "<table border=\"1\" class=\"dataframe\">\n",
       "  <thead>\n",
       "    <tr style=\"text-align: right;\">\n",
       "      <th></th>\n",
       "      <th>Embryo</th>\n",
       "      <th>Cntl Pax7 Total Cells</th>\n",
       "      <th>Expt Pax7 Total Cells</th>\n",
       "      <th>Cntl Sox9 Cells</th>\n",
       "      <th>Expt Sox9 Cells</th>\n",
       "      <th>Pax7</th>\n",
       "      <th>Sox9</th>\n",
       "      <th>Ratio</th>\n",
       "    </tr>\n",
       "  </thead>\n",
       "  <tbody>\n",
       "    <tr>\n",
       "      <th>0</th>\n",
       "      <td>1</td>\n",
       "      <td>36.8</td>\n",
       "      <td>23.6</td>\n",
       "      <td>24.8</td>\n",
       "      <td>13.4</td>\n",
       "      <td>0.641304</td>\n",
       "      <td>0.540323</td>\n",
       "      <td>NaN</td>\n",
       "    </tr>\n",
       "    <tr>\n",
       "      <th>1</th>\n",
       "      <td>2</td>\n",
       "      <td>46.4</td>\n",
       "      <td>48.0</td>\n",
       "      <td>23.8</td>\n",
       "      <td>21.2</td>\n",
       "      <td>1.034483</td>\n",
       "      <td>0.890756</td>\n",
       "      <td>NaN</td>\n",
       "    </tr>\n",
       "    <tr>\n",
       "      <th>2</th>\n",
       "      <td>3</td>\n",
       "      <td>34.2</td>\n",
       "      <td>32.4</td>\n",
       "      <td>24.8</td>\n",
       "      <td>27.6</td>\n",
       "      <td>0.947368</td>\n",
       "      <td>1.112903</td>\n",
       "      <td>NaN</td>\n",
       "    </tr>\n",
       "    <tr>\n",
       "      <th>3</th>\n",
       "      <td>5</td>\n",
       "      <td>73.6</td>\n",
       "      <td>52.0</td>\n",
       "      <td>41.2</td>\n",
       "      <td>28.4</td>\n",
       "      <td>0.706522</td>\n",
       "      <td>0.689320</td>\n",
       "      <td>NaN</td>\n",
       "    </tr>\n",
       "    <tr>\n",
       "      <th>4</th>\n",
       "      <td>6</td>\n",
       "      <td>34.8</td>\n",
       "      <td>46.8</td>\n",
       "      <td>26.0</td>\n",
       "      <td>37.8</td>\n",
       "      <td>1.344828</td>\n",
       "      <td>1.453846</td>\n",
       "      <td>NaN</td>\n",
       "    </tr>\n",
       "    <tr>\n",
       "      <th>5</th>\n",
       "      <td>7</td>\n",
       "      <td>41.2</td>\n",
       "      <td>37.6</td>\n",
       "      <td>21.8</td>\n",
       "      <td>22.6</td>\n",
       "      <td>0.912621</td>\n",
       "      <td>1.036697</td>\n",
       "      <td>NaN</td>\n",
       "    </tr>\n",
       "    <tr>\n",
       "      <th>6</th>\n",
       "      <td>9</td>\n",
       "      <td>23.4</td>\n",
       "      <td>32.4</td>\n",
       "      <td>14.2</td>\n",
       "      <td>14.2</td>\n",
       "      <td>1.384615</td>\n",
       "      <td>1.000000</td>\n",
       "      <td>NaN</td>\n",
       "    </tr>\n",
       "  </tbody>\n",
       "</table>\n",
       "</div>"
      ],
      "text/plain": [
       "   Embryo  Cntl Pax7 Total Cells  Expt Pax7 Total Cells  Cntl Sox9 Cells  \\\n",
       "0       1                   36.8                   23.6             24.8   \n",
       "1       2                   46.4                   48.0             23.8   \n",
       "2       3                   34.2                   32.4             24.8   \n",
       "3       5                   73.6                   52.0             41.2   \n",
       "4       6                   34.8                   46.8             26.0   \n",
       "5       7                   41.2                   37.6             21.8   \n",
       "6       9                   23.4                   32.4             14.2   \n",
       "\n",
       "   Expt Sox9 Cells      Pax7      Sox9 Ratio  \n",
       "0             13.4  0.641304  0.540323   NaN  \n",
       "1             21.2  1.034483  0.890756   NaN  \n",
       "2             27.6  0.947368  1.112903   NaN  \n",
       "3             28.4  0.706522  0.689320   NaN  \n",
       "4             37.8  1.344828  1.453846   NaN  \n",
       "5             22.6  0.912621  1.036697   NaN  \n",
       "6             14.2  1.384615  1.000000   NaN  "
      ]
     },
     "execution_count": 90,
     "metadata": {},
     "output_type": "execute_result"
    }
   ],
   "source": [
    "# Make a new placeholder column named 'Ratio'\n",
    "df['Ratio'] = 'NaN'\n",
    "df"
   ]
  },
  {
   "cell_type": "code",
   "execution_count": 91,
   "metadata": {},
   "outputs": [],
   "source": [
    "# Copy Pax7 and Sox9 columns into their own pd.DataFrame\n",
    "pax7_values = df[['Embryo','Pax7']].copy()\n",
    "sox9_values = df[['Embryo','Sox9']].copy()"
   ]
  },
  {
   "cell_type": "code",
   "execution_count": 92,
   "metadata": {},
   "outputs": [],
   "source": [
    "# Rename column manually so that they have the same title\n",
    "pax7_values.columns = ['Embryo', 'Ratio']\n",
    "pax7_values['stain'] = 'Pax7'\n",
    "\n",
    "sox9_values.columns = ['Embryo', 'Ratio']\n",
    "sox9_values['stain'] = 'Sox9'"
   ]
  },
  {
   "cell_type": "code",
   "execution_count": 93,
   "metadata": {},
   "outputs": [
    {
     "data": {
      "text/html": [
       "<div>\n",
       "<style scoped>\n",
       "    .dataframe tbody tr th:only-of-type {\n",
       "        vertical-align: middle;\n",
       "    }\n",
       "\n",
       "    .dataframe tbody tr th {\n",
       "        vertical-align: top;\n",
       "    }\n",
       "\n",
       "    .dataframe thead th {\n",
       "        text-align: right;\n",
       "    }\n",
       "</style>\n",
       "<table border=\"1\" class=\"dataframe\">\n",
       "  <thead>\n",
       "    <tr style=\"text-align: right;\">\n",
       "      <th></th>\n",
       "      <th>Embryo</th>\n",
       "      <th>Ratio</th>\n",
       "      <th>stain</th>\n",
       "    </tr>\n",
       "  </thead>\n",
       "  <tbody>\n",
       "    <tr>\n",
       "      <th>0</th>\n",
       "      <td>1</td>\n",
       "      <td>0.641304</td>\n",
       "      <td>Pax7</td>\n",
       "    </tr>\n",
       "    <tr>\n",
       "      <th>1</th>\n",
       "      <td>2</td>\n",
       "      <td>1.034483</td>\n",
       "      <td>Pax7</td>\n",
       "    </tr>\n",
       "    <tr>\n",
       "      <th>2</th>\n",
       "      <td>3</td>\n",
       "      <td>0.947368</td>\n",
       "      <td>Pax7</td>\n",
       "    </tr>\n",
       "    <tr>\n",
       "      <th>3</th>\n",
       "      <td>5</td>\n",
       "      <td>0.706522</td>\n",
       "      <td>Pax7</td>\n",
       "    </tr>\n",
       "    <tr>\n",
       "      <th>4</th>\n",
       "      <td>6</td>\n",
       "      <td>1.344828</td>\n",
       "      <td>Pax7</td>\n",
       "    </tr>\n",
       "    <tr>\n",
       "      <th>5</th>\n",
       "      <td>7</td>\n",
       "      <td>0.912621</td>\n",
       "      <td>Pax7</td>\n",
       "    </tr>\n",
       "    <tr>\n",
       "      <th>6</th>\n",
       "      <td>9</td>\n",
       "      <td>1.384615</td>\n",
       "      <td>Pax7</td>\n",
       "    </tr>\n",
       "    <tr>\n",
       "      <th>0</th>\n",
       "      <td>1</td>\n",
       "      <td>0.540323</td>\n",
       "      <td>Sox9</td>\n",
       "    </tr>\n",
       "    <tr>\n",
       "      <th>1</th>\n",
       "      <td>2</td>\n",
       "      <td>0.890756</td>\n",
       "      <td>Sox9</td>\n",
       "    </tr>\n",
       "    <tr>\n",
       "      <th>2</th>\n",
       "      <td>3</td>\n",
       "      <td>1.112903</td>\n",
       "      <td>Sox9</td>\n",
       "    </tr>\n",
       "    <tr>\n",
       "      <th>3</th>\n",
       "      <td>5</td>\n",
       "      <td>0.689320</td>\n",
       "      <td>Sox9</td>\n",
       "    </tr>\n",
       "    <tr>\n",
       "      <th>4</th>\n",
       "      <td>6</td>\n",
       "      <td>1.453846</td>\n",
       "      <td>Sox9</td>\n",
       "    </tr>\n",
       "    <tr>\n",
       "      <th>5</th>\n",
       "      <td>7</td>\n",
       "      <td>1.036697</td>\n",
       "      <td>Sox9</td>\n",
       "    </tr>\n",
       "    <tr>\n",
       "      <th>6</th>\n",
       "      <td>9</td>\n",
       "      <td>1.000000</td>\n",
       "      <td>Sox9</td>\n",
       "    </tr>\n",
       "  </tbody>\n",
       "</table>\n",
       "</div>"
      ],
      "text/plain": [
       "   Embryo     Ratio stain\n",
       "0       1  0.641304  Pax7\n",
       "1       2  1.034483  Pax7\n",
       "2       3  0.947368  Pax7\n",
       "3       5  0.706522  Pax7\n",
       "4       6  1.344828  Pax7\n",
       "5       7  0.912621  Pax7\n",
       "6       9  1.384615  Pax7\n",
       "0       1  0.540323  Sox9\n",
       "1       2  0.890756  Sox9\n",
       "2       3  1.112903  Sox9\n",
       "3       5  0.689320  Sox9\n",
       "4       6  1.453846  Sox9\n",
       "5       7  1.036697  Sox9\n",
       "6       9  1.000000  Sox9"
      ]
     },
     "execution_count": 93,
     "metadata": {},
     "output_type": "execute_result"
    }
   ],
   "source": [
    "# Concatenate these two pd.DataFrames into a single frame\n",
    "ratios = pd.concat([pax7_values, sox9_values])\n",
    "ratios"
   ]
  },
  {
   "cell_type": "code",
   "execution_count": 94,
   "metadata": {},
   "outputs": [
    {
     "data": {
      "application/vnd.vegalite.v2+json": {
       "$schema": "https://vega.github.io/schema/vega-lite/v2.4.3.json",
       "config": {
        "view": {
         "height": 300,
         "width": 400
        }
       },
       "data": {
        "values": [
         {
          "Embryo": 1,
          "Ratio": 0.641304347826087,
          "stain": "Pax7"
         },
         {
          "Embryo": 2,
          "Ratio": 1.0344827586206895,
          "stain": "Pax7"
         },
         {
          "Embryo": 3,
          "Ratio": 0.9473684210526314,
          "stain": "Pax7"
         },
         {
          "Embryo": 5,
          "Ratio": 0.7065217391304348,
          "stain": "Pax7"
         },
         {
          "Embryo": 6,
          "Ratio": 1.3448275862068966,
          "stain": "Pax7"
         },
         {
          "Embryo": 7,
          "Ratio": 0.9126213592233008,
          "stain": "Pax7"
         },
         {
          "Embryo": 9,
          "Ratio": 1.3846153846153846,
          "stain": "Pax7"
         },
         {
          "Embryo": 1,
          "Ratio": 0.5403225806451613,
          "stain": "Sox9"
         },
         {
          "Embryo": 2,
          "Ratio": 0.8907563025210083,
          "stain": "Sox9"
         },
         {
          "Embryo": 3,
          "Ratio": 1.1129032258064515,
          "stain": "Sox9"
         },
         {
          "Embryo": 5,
          "Ratio": 0.6893203883495145,
          "stain": "Sox9"
         },
         {
          "Embryo": 6,
          "Ratio": 1.4538461538461538,
          "stain": "Sox9"
         },
         {
          "Embryo": 7,
          "Ratio": 1.036697247706422,
          "stain": "Sox9"
         },
         {
          "Embryo": 9,
          "Ratio": 1,
          "stain": "Sox9"
         }
        ]
       },
       "encoding": {
        "color": {
         "field": "stain",
         "type": "nominal"
        },
        "x": {
         "field": "Ratio",
         "type": "quantitative"
        },
        "y": {
         "field": "stain",
         "title": "stain",
         "type": "nominal"
        }
       },
       "height": 100,
       "mark": {
        "size": 70,
        "type": "circle"
       },
       "title": "Normalized Cell Counts"
      },
      "image/png": "[encoded data removed]",
      "text/plain": [
       "<VegaLite 2 object>\n",
       "\n",
       "If you see this message, it means the renderer has not been properly enabled\n",
       "for the frontend that you are using. For more information, see\n",
       "https://altair-viz.github.io/user_guide/troubleshooting.html\n"
      ]
     },
     "execution_count": 94,
     "metadata": {},
     "output_type": "execute_result"
    }
   ],
   "source": [
    "# Plotting time!\n",
    "alt.Chart(ratios,\n",
    "    title='Normalized Cell Counts',\n",
    "    height=100\n",
    "    ).mark_circle(\n",
    "        size=70\n",
    "    ).encode(\n",
    "        x='Ratio:Q',\n",
    "        y=alt.Y('stain:N', title='stain'),\n",
    "        color='stain:N'\n",
    "    )"
   ]
  },
  {
   "cell_type": "code",
   "execution_count": 95,
   "metadata": {},
   "outputs": [],
   "source": [
    "# OR I could have \n",
    "df = pd.read_csv('section_means_ratio.csv').reset_index()\n",
    "\n",
    "# melt DataFrame to rearrange columns\n",
    "melted = pd.melt(df, id_vars='Embryo', \n",
    "        value_vars=['Expt/Cntl Pax7', 'Expt/Cntl Sox9'], \n",
    "        var_name='stain', value_name='ratio')\n",
    "\n",
    "# Rename values in place\n",
    "melted.replace(to_replace=['Expt/Cntl Pax7', 'Expt/Cntl Sox9'], value=['Pax7', 'Sox9'], inplace=True)"
   ]
  },
  {
   "cell_type": "code",
   "execution_count": 96,
   "metadata": {},
   "outputs": [
    {
     "data": {
      "application/vnd.vegalite.v2+json": {
       "$schema": "https://vega.github.io/schema/vega-lite/v2.4.3.json",
       "config": {
        "view": {
         "height": 300,
         "width": 400
        }
       },
       "data": {
        "values": [
         {
          "Embryo": 1,
          "ratio": 0.641304347826087,
          "stain": "Pax7"
         },
         {
          "Embryo": 2,
          "ratio": 1.0344827586206895,
          "stain": "Pax7"
         },
         {
          "Embryo": 3,
          "ratio": 0.9473684210526314,
          "stain": "Pax7"
         },
         {
          "Embryo": 5,
          "ratio": 0.7065217391304348,
          "stain": "Pax7"
         },
         {
          "Embryo": 6,
          "ratio": 1.3448275862068966,
          "stain": "Pax7"
         },
         {
          "Embryo": 7,
          "ratio": 0.9126213592233008,
          "stain": "Pax7"
         },
         {
          "Embryo": 9,
          "ratio": 1.3846153846153846,
          "stain": "Pax7"
         },
         {
          "Embryo": 1,
          "ratio": 0.5403225806451613,
          "stain": "Sox9"
         },
         {
          "Embryo": 2,
          "ratio": 0.8907563025210083,
          "stain": "Sox9"
         },
         {
          "Embryo": 3,
          "ratio": 1.1129032258064515,
          "stain": "Sox9"
         },
         {
          "Embryo": 5,
          "ratio": 0.6893203883495145,
          "stain": "Sox9"
         },
         {
          "Embryo": 6,
          "ratio": 1.4538461538461538,
          "stain": "Sox9"
         },
         {
          "Embryo": 7,
          "ratio": 1.036697247706422,
          "stain": "Sox9"
         },
         {
          "Embryo": 9,
          "ratio": 1,
          "stain": "Sox9"
         }
        ]
       },
       "encoding": {
        "color": {
         "field": "stain",
         "type": "nominal"
        },
        "x": {
         "field": "ratio",
         "type": "quantitative"
        },
        "y": {
         "field": "stain",
         "title": "stain",
         "type": "nominal"
        }
       },
       "height": 100,
       "mark": {
        "size": 70,
        "type": "circle"
       },
       "title": "Normalized Cell Counts"
      },
      "image/png": "[encoded data removed]",
      "text/plain": [
       "<VegaLite 2 object>\n",
       "\n",
       "If you see this message, it means the renderer has not been properly enabled\n",
       "for the frontend that you are using. For more information, see\n",
       "https://altair-viz.github.io/user_guide/troubleshooting.html\n"
      ]
     },
     "execution_count": 96,
     "metadata": {},
     "output_type": "execute_result"
    }
   ],
   "source": [
    "alt.Chart(melted,\n",
    "    title='Normalized Cell Counts',\n",
    "    height=100\n",
    "    ).mark_circle(\n",
    "        size=70\n",
    "    ).encode(\n",
    "        x='ratio:Q',\n",
    "        y=alt.Y('stain:N', title='stain'),\n",
    "        color='stain:N'\n",
    "    )\n"
   ]
  },
  {
   "cell_type": "code",
   "execution_count": 97,
   "metadata": {},
   "outputs": [
    {
     "data": {
      "text/html": [
       "<div>\n",
       "<style scoped>\n",
       "    .dataframe tbody tr th:only-of-type {\n",
       "        vertical-align: middle;\n",
       "    }\n",
       "\n",
       "    .dataframe tbody tr th {\n",
       "        vertical-align: top;\n",
       "    }\n",
       "\n",
       "    .dataframe thead th {\n",
       "        text-align: right;\n",
       "    }\n",
       "</style>\n",
       "<table border=\"1\" class=\"dataframe\">\n",
       "  <thead>\n",
       "    <tr style=\"text-align: right;\">\n",
       "      <th></th>\n",
       "      <th>Embryo</th>\n",
       "      <th>Cntl Pax7 Total Cells</th>\n",
       "      <th>Expt Pax7 Total Cells</th>\n",
       "      <th>Cntl Sox9 Cells</th>\n",
       "      <th>Expt Sox9 Cells</th>\n",
       "      <th>Expt/Cntl Pax7</th>\n",
       "      <th>Expt/Cntl Sox9</th>\n",
       "    </tr>\n",
       "  </thead>\n",
       "  <tbody>\n",
       "    <tr>\n",
       "      <th>0</th>\n",
       "      <td>1</td>\n",
       "      <td>36.8</td>\n",
       "      <td>23.6</td>\n",
       "      <td>24.8</td>\n",
       "      <td>13.4</td>\n",
       "      <td>0.641304</td>\n",
       "      <td>0.540323</td>\n",
       "    </tr>\n",
       "    <tr>\n",
       "      <th>1</th>\n",
       "      <td>2</td>\n",
       "      <td>46.4</td>\n",
       "      <td>48.0</td>\n",
       "      <td>23.8</td>\n",
       "      <td>21.2</td>\n",
       "      <td>1.034483</td>\n",
       "      <td>0.890756</td>\n",
       "    </tr>\n",
       "    <tr>\n",
       "      <th>2</th>\n",
       "      <td>3</td>\n",
       "      <td>34.2</td>\n",
       "      <td>32.4</td>\n",
       "      <td>24.8</td>\n",
       "      <td>27.6</td>\n",
       "      <td>0.947368</td>\n",
       "      <td>1.112903</td>\n",
       "    </tr>\n",
       "    <tr>\n",
       "      <th>3</th>\n",
       "      <td>5</td>\n",
       "      <td>73.6</td>\n",
       "      <td>52.0</td>\n",
       "      <td>41.2</td>\n",
       "      <td>28.4</td>\n",
       "      <td>0.706522</td>\n",
       "      <td>0.689320</td>\n",
       "    </tr>\n",
       "    <tr>\n",
       "      <th>4</th>\n",
       "      <td>6</td>\n",
       "      <td>34.8</td>\n",
       "      <td>46.8</td>\n",
       "      <td>26.0</td>\n",
       "      <td>37.8</td>\n",
       "      <td>1.344828</td>\n",
       "      <td>1.453846</td>\n",
       "    </tr>\n",
       "  </tbody>\n",
       "</table>\n",
       "</div>"
      ],
      "text/plain": [
       "   Embryo  Cntl Pax7 Total Cells  Expt Pax7 Total Cells  Cntl Sox9 Cells  \\\n",
       "0       1                   36.8                   23.6             24.8   \n",
       "1       2                   46.4                   48.0             23.8   \n",
       "2       3                   34.2                   32.4             24.8   \n",
       "3       5                   73.6                   52.0             41.2   \n",
       "4       6                   34.8                   46.8             26.0   \n",
       "\n",
       "   Expt Sox9 Cells  Expt/Cntl Pax7  Expt/Cntl Sox9  \n",
       "0             13.4        0.641304        0.540323  \n",
       "1             21.2        1.034483        0.890756  \n",
       "2             27.6        0.947368        1.112903  \n",
       "3             28.4        0.706522        0.689320  \n",
       "4             37.8        1.344828        1.453846  "
      ]
     },
     "execution_count": 97,
     "metadata": {},
     "output_type": "execute_result"
    }
   ],
   "source": [
    "df = pd.read_csv('section_means_ratio.csv')\n",
    "df = df.drop('Unnamed: 0', axis=1)\n",
    "df.head()"
   ]
  },
  {
   "cell_type": "code",
   "execution_count": 98,
   "metadata": {},
   "outputs": [
    {
     "data": {
      "text/html": [
       "<div>\n",
       "<style scoped>\n",
       "    .dataframe tbody tr th:only-of-type {\n",
       "        vertical-align: middle;\n",
       "    }\n",
       "\n",
       "    .dataframe tbody tr th {\n",
       "        vertical-align: top;\n",
       "    }\n",
       "\n",
       "    .dataframe thead th {\n",
       "        text-align: right;\n",
       "    }\n",
       "</style>\n",
       "<table border=\"1\" class=\"dataframe\">\n",
       "  <thead>\n",
       "    <tr style=\"text-align: right;\">\n",
       "      <th></th>\n",
       "      <th>Embryo</th>\n",
       "      <th>stain</th>\n",
       "      <th>cells</th>\n",
       "    </tr>\n",
       "  </thead>\n",
       "  <tbody>\n",
       "    <tr>\n",
       "      <th>0</th>\n",
       "      <td>1</td>\n",
       "      <td>cntl pax7</td>\n",
       "      <td>36.8</td>\n",
       "    </tr>\n",
       "    <tr>\n",
       "      <th>1</th>\n",
       "      <td>2</td>\n",
       "      <td>cntl pax7</td>\n",
       "      <td>46.4</td>\n",
       "    </tr>\n",
       "    <tr>\n",
       "      <th>2</th>\n",
       "      <td>3</td>\n",
       "      <td>cntl pax7</td>\n",
       "      <td>34.2</td>\n",
       "    </tr>\n",
       "    <tr>\n",
       "      <th>3</th>\n",
       "      <td>5</td>\n",
       "      <td>cntl pax7</td>\n",
       "      <td>73.6</td>\n",
       "    </tr>\n",
       "    <tr>\n",
       "      <th>4</th>\n",
       "      <td>6</td>\n",
       "      <td>cntl pax7</td>\n",
       "      <td>34.8</td>\n",
       "    </tr>\n",
       "  </tbody>\n",
       "</table>\n",
       "</div>"
      ],
      "text/plain": [
       "   Embryo      stain  cells\n",
       "0       1  cntl pax7   36.8\n",
       "1       2  cntl pax7   46.4\n",
       "2       3  cntl pax7   34.2\n",
       "3       5  cntl pax7   73.6\n",
       "4       6  cntl pax7   34.8"
      ]
     },
     "execution_count": 98,
     "metadata": {},
     "output_type": "execute_result"
    }
   ],
   "source": [
    "melted2 = pd.melt(df, id_vars='Embryo', \n",
    "        value_vars=['Cntl Pax7 Total Cells', 'Expt Pax7 Total Cells', 'Cntl Sox9 Cells', 'Expt Sox9 Cells'], \n",
    "        var_name='stain', value_name='cells')\n",
    "melted2.replace(to_replace=['Cntl Pax7 Total Cells', 'Expt Pax7 Total Cells', 'Cntl Sox9 Cells', 'Expt Sox9 Cells'], \n",
    "                value=['cntl pax7', 'expt pax7', 'cntl sox9', 'expt sox9'], inplace=True)\n",
    "\n",
    "# might this help?\n",
    "#df = df.rename(columns={'[bcd] (a.u.)': 'bcd'})\n",
    "\n",
    "melted2.head()"
   ]
  },
  {
   "cell_type": "code",
   "execution_count": 109,
   "metadata": {},
   "outputs": [],
   "source": [
    "# Compute ECDF\n",
    "melted2['ECDF'] = melted2.groupby('stain')['cells'].transform(bootcamp_utils.ecdf_y)\n",
    "\n",
    "melted2.head()\n",
    "melted2.to_csv('melted2.csv')"
   ]
  },
  {
   "cell_type": "code",
   "execution_count": 108,
   "metadata": {},
   "outputs": [
    {
     "data": {
      "application/vnd.vegalite.v2+json": {
       "$schema": "https://vega.github.io/schema/vega-lite/v2.4.3.json",
       "config": {
        "view": {
         "height": 300,
         "width": 400
        }
       },
       "data": {
        "values": [
         {
          "ECDF": 0.5714285714285714,
          "Embryo": 1,
          "cells": 36.8,
          "stain": "cntl pax7"
         },
         {
          "ECDF": 0.8571428571428571,
          "Embryo": 2,
          "cells": 46.4,
          "stain": "cntl pax7"
         },
         {
          "ECDF": 0.2857142857142857,
          "Embryo": 3,
          "cells": 34.2,
          "stain": "cntl pax7"
         },
         {
          "ECDF": 1,
          "Embryo": 5,
          "cells": 73.6,
          "stain": "cntl pax7"
         },
         {
          "ECDF": 0.42857142857142855,
          "Embryo": 6,
          "cells": 34.8,
          "stain": "cntl pax7"
         },
         {
          "ECDF": 0.7142857142857143,
          "Embryo": 7,
          "cells": 41.2,
          "stain": "cntl pax7"
         },
         {
          "ECDF": 0.14285714285714285,
          "Embryo": 9,
          "cells": 23.4,
          "stain": "cntl pax7"
         },
         {
          "ECDF": 0.14285714285714285,
          "Embryo": 1,
          "cells": 23.6,
          "stain": "expt pax7"
         },
         {
          "ECDF": 0.8571428571428571,
          "Embryo": 2,
          "cells": 48,
          "stain": "expt pax7"
         },
         {
          "ECDF": 0.2857142857142857,
          "Embryo": 3,
          "cells": 32.4,
          "stain": "expt pax7"
         },
         {
          "ECDF": 1,
          "Embryo": 5,
          "cells": 52,
          "stain": "expt pax7"
         },
         {
          "ECDF": 0.7142857142857143,
          "Embryo": 6,
          "cells": 46.8,
          "stain": "expt pax7"
         },
         {
          "ECDF": 0.5714285714285714,
          "Embryo": 7,
          "cells": 37.6,
          "stain": "expt pax7"
         },
         {
          "ECDF": 0.42857142857142855,
          "Embryo": 9,
          "cells": 32.4,
          "stain": "expt pax7"
         },
         {
          "ECDF": 0.5714285714285714,
          "Embryo": 1,
          "cells": 24.8,
          "stain": "cntl sox9"
         },
         {
          "ECDF": 0.42857142857142855,
          "Embryo": 2,
          "cells": 23.8,
          "stain": "cntl sox9"
         },
         {
          "ECDF": 0.7142857142857143,
          "Embryo": 3,
          "cells": 24.8,
          "stain": "cntl sox9"
         },
         {
          "ECDF": 1,
          "Embryo": 5,
          "cells": 41.2,
          "stain": "cntl sox9"
         },
         {
          "ECDF": 0.8571428571428571,
          "Embryo": 6,
          "cells": 26,
          "stain": "cntl sox9"
         },
         {
          "ECDF": 0.2857142857142857,
          "Embryo": 7,
          "cells": 21.8,
          "stain": "cntl sox9"
         },
         {
          "ECDF": 0.14285714285714285,
          "Embryo": 9,
          "cells": 14.2,
          "stain": "cntl sox9"
         },
         {
          "ECDF": 0.14285714285714285,
          "Embryo": 1,
          "cells": 13.4,
          "stain": "expt sox9"
         },
         {
          "ECDF": 0.42857142857142855,
          "Embryo": 2,
          "cells": 21.2,
          "stain": "expt sox9"
         },
         {
          "ECDF": 0.7142857142857143,
          "Embryo": 3,
          "cells": 27.6,
          "stain": "expt sox9"
         },
         {
          "ECDF": 0.8571428571428571,
          "Embryo": 5,
          "cells": 28.4,
          "stain": "expt sox9"
         },
         {
          "ECDF": 1,
          "Embryo": 6,
          "cells": 37.8,
          "stain": "expt sox9"
         },
         {
          "ECDF": 0.5714285714285714,
          "Embryo": 7,
          "cells": 22.6,
          "stain": "expt sox9"
         },
         {
          "ECDF": 0.2857142857142857,
          "Embryo": 9,
          "cells": 14.2,
          "stain": "expt sox9"
         }
        ]
       },
       "encoding": {
        "color": {
         "field": "stain",
         "title": "Condition",
         "type": "nominal"
        },
        "x": {
         "field": "cells",
         "type": "quantitative"
        },
        "y": {
         "field": "ECDF",
         "type": "quantitative"
        }
       },
       "mark": {
        "filled": true,
        "opacity": 0.8,
        "size": 75,
        "type": "point"
       }
      },
      "image/png": "[encoded data removed]",
      "text/plain": [
       "<VegaLite 2 object>\n",
       "\n",
       "If you see this message, it means the renderer has not been properly enabled\n",
       "for the frontend that you are using. For more information, see\n",
       "https://altair-viz.github.io/user_guide/troubleshooting.html\n"
      ]
     },
     "execution_count": 108,
     "metadata": {},
     "output_type": "execute_result"
    }
   ],
   "source": [
    "# Make the plot\n",
    "alt.Chart(melted2\n",
    "    ).mark_point(\n",
    "        size=75,\n",
    "        filled=True,\n",
    "        opacity=0.8\n",
    "    ).encode(\n",
    "        x=alt.X('cells:Q'),\n",
    "        y='ECDF:Q',\n",
    "        color=alt.Color('stain:N',\n",
    "                       title='Condition')\n",
    "    )"
   ]
  },
  {
   "cell_type": "code",
   "execution_count": 105,
   "metadata": {},
   "outputs": [
    {
     "data": {
      "text/plain": [
       "\u001b[0;31mInit signature:\u001b[0m \u001b[0malt\u001b[0m\u001b[0;34m.\u001b[0m\u001b[0mColor\u001b[0m\u001b[0;34m(\u001b[0m\u001b[0mshorthand\u001b[0m\u001b[0;34m=\u001b[0m\u001b[0mUndefined\u001b[0m\u001b[0;34m,\u001b[0m \u001b[0maggregate\u001b[0m\u001b[0;34m=\u001b[0m\u001b[0mUndefined\u001b[0m\u001b[0;34m,\u001b[0m \u001b[0mbin\u001b[0m\u001b[0;34m=\u001b[0m\u001b[0mUndefined\u001b[0m\u001b[0;34m,\u001b[0m \u001b[0mcondition\u001b[0m\u001b[0;34m=\u001b[0m\u001b[0mUndefined\u001b[0m\u001b[0;34m,\u001b[0m \u001b[0mfield\u001b[0m\u001b[0;34m=\u001b[0m\u001b[0mUndefined\u001b[0m\u001b[0;34m,\u001b[0m \u001b[0mlegend\u001b[0m\u001b[0;34m=\u001b[0m\u001b[0mUndefined\u001b[0m\u001b[0;34m,\u001b[0m \u001b[0mscale\u001b[0m\u001b[0;34m=\u001b[0m\u001b[0mUndefined\u001b[0m\u001b[0;34m,\u001b[0m \u001b[0msort\u001b[0m\u001b[0;34m=\u001b[0m\u001b[0mUndefined\u001b[0m\u001b[0;34m,\u001b[0m \u001b[0mtimeUnit\u001b[0m\u001b[0;34m=\u001b[0m\u001b[0mUndefined\u001b[0m\u001b[0;34m,\u001b[0m \u001b[0mtitle\u001b[0m\u001b[0;34m=\u001b[0m\u001b[0mUndefined\u001b[0m\u001b[0;34m,\u001b[0m \u001b[0mtype\u001b[0m\u001b[0;34m=\u001b[0m\u001b[0mUndefined\u001b[0m\u001b[0;34m,\u001b[0m \u001b[0;34m**\u001b[0m\u001b[0mkwds\u001b[0m\u001b[0;34m)\u001b[0m\u001b[0;34m\u001b[0m\u001b[0m\n",
       "\u001b[0;31mDocstring:\u001b[0m     \n",
       "Color schema wrapper\n",
       "\n",
       "Mapping(required=[shorthand])\n",
       "A FieldDef with Condition :raw-html:`<ValueDef>`\n",
       "{\n",
       "   condition: {value: ...},\n",
       "   field: ...,\n",
       "   ...\n",
       "}\n",
       "\n",
       "Attributes\n",
       "----------\n",
       "shorthand : string\n",
       "    shorthand for field, aggregate, and type\n",
       "aggregate : Aggregate\n",
       "    Aggregation function for the field (e.g., ``mean``, ``sum``, ``median``, ``min``,\n",
       "    ``max``, ``count`` ).  **Default value:** ``undefined`` (None)\n",
       "bin : anyOf(boolean, BinParams)\n",
       "    A flag for binning a ``quantitative`` field, or `an object defining binning\n",
       "    parameters <https://vega.github.io/vega-lite/docs/bin.html#params>`_. If ``true``,\n",
       "    default `binning parameters <https://vega.github.io/vega-lite/docs/bin.html>`_ will\n",
       "    be applied.  **Default value:** ``false``\n",
       "condition : anyOf(ConditionalValueDef, List(ConditionalValueDef))\n",
       "    One or more value definition(s) with a selection predicate.  **Note:** A field\n",
       "    definition's ``condition`` property can only contain `value definitions\n",
       "    <https://vega.github.io/vega-lite/docs/encoding.html#value-def>`_ since Vega-Lite\n",
       "    only allows at most one encoded field per encoding channel.\n",
       "field : anyOf(string, RepeatRef)\n",
       "    **Required.** A string defining the name of the field from which to pull a data\n",
       "    value or an object defining iterated values from the ` ``repeat``\n",
       "    <https://vega.github.io/vega-lite/docs/repeat.html>`_ operator.  **Note:** Dots (\n",
       "    ``.`` ) and brackets ( ``[`` and ``]`` ) can be used to access nested objects (e.g.,\n",
       "     ``\"field\": \"foo.bar\"`` and ``\"field\": \"foo['bar']\"`` ). If field names contain dots\n",
       "     or brackets but are not nested, you can use ``\\`` to escape dots and brackets\n",
       "    (e.g., ``\"a\\.b\"`` and ``\"a\\[0\\]\"`` ). See more details about escaping in the\n",
       "    `field documentation <https://vega.github.io/vega-lite/docs/field.html>`_.\n",
       "    **Note:** ``field`` is not required if ``aggregate`` is ``count``.\n",
       "legend : anyOf(Legend, None)\n",
       "    An object defining properties of the legend. If ``null``, the legend for the\n",
       "    encoding channel will be removed.  **Default value:** If undefined, default `legend\n",
       "    properties <https://vega.github.io/vega-lite/docs/legend.html>`_ are applied.\n",
       "scale : anyOf(Scale, None)\n",
       "    An object defining properties of the channel's scale, which is the function that\n",
       "    transforms values in the data domain (numbers, dates, strings, etc) to visual values\n",
       "     (pixels, colors, sizes) of the encoding channels.  If ``null``, the scale will be\n",
       "    `disabled and the data value will be directly encoded\n",
       "    <https://vega.github.io/vega-lite/docs/scale.html#disable>`_.  **Default value:** If\n",
       "     undefined, default `scale properties\n",
       "    <https://vega.github.io/vega-lite/docs/scale.html>`_ are applied.\n",
       "sort : anyOf(List(string), SortOrder, SortField, None)\n",
       "    Sort order for the encoded field. Supported ``sort`` values include ``\"ascending\"``,\n",
       "     ``\"descending\"``, ``null`` (no sorting), or an array specifying the preferred order\n",
       "     of values. For fields with discrete domains, ``sort`` can also be a `sort field\n",
       "    definition object <https://vega.github.io/vega-lite/docs/sort.html#sort-field>`_.\n",
       "    For ``sort`` as an `array specifying the preferred order of values\n",
       "    <https://vega.github.io/vega-lite/docs/sort.html#sort-array>`_, the sort order will\n",
       "    obey the values in the array, followed by any unspecified values in their original\n",
       "    order.  **Default value:** ``\"ascending\"``\n",
       "timeUnit : TimeUnit\n",
       "    Time unit (e.g., ``year``, ``yearmonth``, ``month``, ``hours`` ) for a temporal\n",
       "    field. or `a temporal field that gets casted as ordinal\n",
       "    <https://vega.github.io/vega-lite/docs/type.html#cast>`_.  **Default value:**\n",
       "    ``undefined`` (None)\n",
       "title : anyOf(string, None)\n",
       "    A title for the field. If ``null``, the title will be removed.  **Default value:**\n",
       "    derived from the field's name and transformation function ( ``aggregate``, ``bin``\n",
       "    and ``timeUnit`` ).  If the field has an aggregate function, the function is\n",
       "    displayed as part of the title (e.g., ``\"Sum of Profit\"`` ). If the field is binned\n",
       "    or has a time unit applied, the applied function is shown in parentheses (e.g.,\n",
       "    ``\"Profit (binned)\"``, ``\"Transaction Date (year-month)\"`` ).  Otherwise, the title\n",
       "    is simply the field name.  **Notes** :  1) You can customize the default field title\n",
       "     format by providing the [ ``fieldTitle`` property in the `config <config.html>`_ or\n",
       "     ` ``fieldTitle`` function via the ``compile`` function's options\n",
       "    <compile.html#field-title>`_.  2) If both field definition's ``title`` and axis,\n",
       "    header, or legend ``title`` are defined, axis/header/legend title will be used.\n",
       "type : Type\n",
       "    The encoded field's type of measurement ( ``\"quantitative\"``, ``\"temporal\"``,\n",
       "    ``\"ordinal\"``, or ``\"nominal\"`` ). It can also be a ``\"geojson\"`` type for encoding\n",
       "    `'geoshape' <geoshape.html>`_.\n",
       "\u001b[0;31mFile:\u001b[0m           /anaconda3/lib/python3.6/site-packages/altair/vegalite/v2/schema/channels.py\n",
       "\u001b[0;31mType:\u001b[0m           type\n"
      ]
     },
     "metadata": {},
     "output_type": "display_data"
    }
   ],
   "source": [
    "alt.Color?"
   ]
  },
  {
   "cell_type": "code",
   "execution_count": null,
   "metadata": {},
   "outputs": [],
   "source": []
  }
 ],
 "metadata": {
  "kernelspec": {
   "display_name": "Python 3",
   "language": "python",
   "name": "python3"
  },
  "language_info": {
   "codemirror_mode": {
    "name": "ipython",
    "version": 3
   },
   "file_extension": ".py",
   "mimetype": "text/x-python",
   "name": "python",
   "nbconvert_exporter": "python",
   "pygments_lexer": "ipython3",
   "version": "3.6.5"
  }
 },
 "nbformat": 4,
 "nbformat_minor": 2
}
