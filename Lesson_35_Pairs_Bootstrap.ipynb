{
 "cells": [
  {
   "cell_type": "code",
   "execution_count": 1,
   "metadata": {},
   "outputs": [],
   "source": [
    "import numpy as np\n",
    "import pandas as pd\n",
    "\n",
    "import altair as alt"
   ]
  },
  {
   "cell_type": "code",
   "execution_count": 5,
   "metadata": {},
   "outputs": [],
   "source": [
    "df = pd.read_csv('data/grant_complete.csv', comment='#')\n",
    "df = df.loc[(df['year']==1987) & (df['species']=='scandens'), :]\n",
    "df = df.drop_duplicates(subset=['band'])\n",
    "df = df[['beak length (mm)', 'beak depth (mm)']]\n",
    "\n",
    "dots = alt.Chart(df\n",
    "        ).mark_point(\n",
    "        ).encode(\n",
    "            alt.X('beak length (mm):Q', scale=alt.Scale(zero=False)),\n",
    "            alt.Y('beak depth (mm):Q', scale=alt.Scale(zero=False))\n",
    "        )"
   ]
  },
  {
   "cell_type": "code",
   "execution_count": 6,
   "metadata": {},
   "outputs": [
    {
     "data": {
      "text/plain": [
       "array([0.26225889, 5.4168527 ])"
      ]
     },
     "execution_count": 6,
     "metadata": {},
     "output_type": "execute_result"
    }
   ],
   "source": [
    "beak_length = df['beak length (mm)'].values\n",
    "beak_depth = df['beak depth (mm)'].values\n",
    "\n",
    "# function for a linear regression, polyfit degree=1\n",
    "np.polyfit(beak_length, beak_depth, deg=1)"
   ]
  },
  {
   "cell_type": "markdown",
   "metadata": {},
   "source": [
    "This array shows you the slope (0.26..) and y-intercept (5.41..)"
   ]
  },
  {
   "cell_type": "code",
   "execution_count": 7,
   "metadata": {},
   "outputs": [],
   "source": [
    "slope, intercept = np.polyfit(beak_length, beak_depth, deg=1)"
   ]
  },
  {
   "cell_type": "code",
   "execution_count": 8,
   "metadata": {},
   "outputs": [
    {
     "data": {
      "text/plain": [
       "0.262258885049905"
      ]
     },
     "execution_count": 8,
     "metadata": {},
     "output_type": "execute_result"
    }
   ],
   "source": [
    "slope"
   ]
  },
  {
   "cell_type": "code",
   "execution_count": 9,
   "metadata": {},
   "outputs": [
    {
     "data": {
      "text/plain": [
       "5.416852701227372"
      ]
     },
     "execution_count": 9,
     "metadata": {},
     "output_type": "execute_result"
    }
   ],
   "source": [
    "intercept"
   ]
  },
  {
   "cell_type": "code",
   "execution_count": 15,
   "metadata": {},
   "outputs": [
    {
     "data": {
      "application/vnd.vegalite.v2+json": {
       "$schema": "https://vega.github.io/schema/vega-lite/v2.4.3.json",
       "config": {
        "view": {
         "height": 300,
         "width": 400
        }
       },
       "layer": [
        {
         "data": {
          "values": [
           {
            "x": 10.5,
            "y": 8.170570994251374
           },
           {
            "x": 16.5,
            "y": 9.744124304550805
           }
          ]
         },
         "encoding": {
          "x": {
           "field": "x",
           "scale": {
            "zero": false
           },
           "title": "beak length (mm)",
           "type": "quantitative"
          },
          "y": {
           "field": "y",
           "scale": {
            "zero": false
           },
           "title": "beak depth (mm)",
           "type": "quantitative"
          }
         },
         "mark": {
          "color": "orange",
          "size": 3,
          "type": "line"
         },
         "selection": {
          "selector003": {
           "bind": "scales",
           "encodings": [
            "x",
            "y"
           ],
           "mark": {
            "fill": "#333",
            "fillOpacity": 0.125,
            "stroke": "white"
           },
           "on": "[mousedown, window:mouseup] > window:mousemove!",
           "resolve": "global",
           "translate": "[mousedown, window:mouseup] > window:mousemove!",
           "type": "interval",
           "zoom": "wheel!"
          }
         }
        },
        {
         "data": {
          "values": [
           {
            "beak depth (mm)": 7.77,
            "beak length (mm)": 10.75
           },
           {
            "beak depth (mm)": 7.94,
            "beak length (mm)": 13.73
           },
           {
            "beak depth (mm)": 7.96,
            "beak length (mm)": 14.04
           },
           {
            "beak depth (mm)": 8,
            "beak length (mm)": 12.5
           },
           {
            "beak depth (mm)": 8.01,
            "beak length (mm)": 12.64
           },
           {
            "beak depth (mm)": 8.23,
            "beak length (mm)": 12.66
           },
           {
            "beak depth (mm)": 8.3,
            "beak length (mm)": 13
           },
           {
            "beak depth (mm)": 8.36,
            "beak length (mm)": 13.15
           },
           {
            "beak depth (mm)": 8.37,
            "beak length (mm)": 13.96
           },
           {
            "beak depth (mm)": 8.4,
            "beak length (mm)": 13.15
           },
           {
            "beak depth (mm)": 8.4,
            "beak length (mm)": 13.7
           },
           {
            "beak depth (mm)": 8.4,
            "beak length (mm)": 14
           },
           {
            "beak depth (mm)": 8.41,
            "beak length (mm)": 13.43
           },
           {
            "beak depth (mm)": 8.5,
            "beak length (mm)": 14
           },
           {
            "beak depth (mm)": 8.5,
            "beak length (mm)": 14.9
           },
           {
            "beak depth (mm)": 8.6,
            "beak length (mm)": 13.6
           },
           {
            "beak depth (mm)": 8.6,
            "beak length (mm)": 13.8
           },
           {
            "beak depth (mm)": 8.6,
            "beak length (mm)": 14.9
           },
           {
            "beak depth (mm)": 8.61,
            "beak length (mm)": 13.94
           },
           {
            "beak depth (mm)": 8.67,
            "beak length (mm)": 14.81
           },
           {
            "beak depth (mm)": 8.7,
            "beak length (mm)": 12.5
           },
           {
            "beak depth (mm)": 8.7,
            "beak length (mm)": 13.75
           },
           {
            "beak depth (mm)": 8.7,
            "beak length (mm)": 14
           },
           {
            "beak depth (mm)": 8.7,
            "beak length (mm)": 14.5
           },
           {
            "beak depth (mm)": 8.7,
            "beak length (mm)": 14.7
           },
           {
            "beak depth (mm)": 8.72,
            "beak length (mm)": 14.05
           },
           {
            "beak depth (mm)": 8.72,
            "beak length (mm)": 14.17
           },
           {
            "beak depth (mm)": 8.77,
            "beak length (mm)": 15.07
           },
           {
            "beak depth (mm)": 8.8,
            "beak length (mm)": 11.5
           },
           {
            "beak depth (mm)": 8.8,
            "beak length (mm)": 13.5
           },
           {
            "beak depth (mm)": 8.8,
            "beak length (mm)": 13.87
           },
           {
            "beak depth (mm)": 8.8,
            "beak length (mm)": 14.9
           },
           {
            "beak depth (mm)": 8.81,
            "beak length (mm)": 12.34
           },
           {
            "beak depth (mm)": 8.81,
            "beak length (mm)": 14.34
           },
           {
            "beak depth (mm)": 8.87,
            "beak length (mm)": 15.07
           },
           {
            "beak depth (mm)": 8.88,
            "beak length (mm)": 14.01
           },
           {
            "beak depth (mm)": 8.89,
            "beak length (mm)": 12.86
           },
           {
            "beak depth (mm)": 8.9,
            "beak length (mm)": 13.6
           },
           {
            "beak depth (mm)": 8.9,
            "beak length (mm)": 13.8
           },
           {
            "beak depth (mm)": 8.9,
            "beak length (mm)": 13.85
           },
           {
            "beak depth (mm)": 8.9,
            "beak length (mm)": 13.9
           },
           {
            "beak depth (mm)": 8.9,
            "beak length (mm)": 14.1
           },
           {
            "beak depth (mm)": 8.9,
            "beak length (mm)": 14.1
           },
           {
            "beak depth (mm)": 8.9,
            "beak length (mm)": 14.2
           },
           {
            "beak depth (mm)": 8.9,
            "beak length (mm)": 14.3
           },
           {
            "beak depth (mm)": 8.9,
            "beak length (mm)": 14.9
           },
           {
            "beak depth (mm)": 8.91,
            "beak length (mm)": 13.84
           },
           {
            "beak depth (mm)": 8.91,
            "beak length (mm)": 14.09
           },
           {
            "beak depth (mm)": 8.92,
            "beak length (mm)": 14.05
           },
           {
            "beak depth (mm)": 8.93,
            "beak length (mm)": 14.15
           },
           {
            "beak depth (mm)": 8.93,
            "beak length (mm)": 14.25
           },
           {
            "beak depth (mm)": 8.95,
            "beak length (mm)": 13.6
           },
           {
            "beak depth (mm)": 8.95,
            "beak length (mm)": 14.57
           },
           {
            "beak depth (mm)": 8.96,
            "beak length (mm)": 11.89
           },
           {
            "beak depth (mm)": 8.97,
            "beak length (mm)": 13.8
           },
           {
            "beak depth (mm)": 8.97,
            "beak length (mm)": 14.21
           },
           {
            "beak depth (mm)": 8.99,
            "beak length (mm)": 14.76
           },
           {
            "beak depth (mm)": 9,
            "beak length (mm)": 12.07
           },
           {
            "beak depth (mm)": 9,
            "beak length (mm)": 13.9
           },
           {
            "beak depth (mm)": 9,
            "beak length (mm)": 14.1
           },
           {
            "beak depth (mm)": 9,
            "beak length (mm)": 14.3
           },
           {
            "beak depth (mm)": 9,
            "beak length (mm)": 14.95
           },
           {
            "beak depth (mm)": 9.01,
            "beak length (mm)": 14.34
           },
           {
            "beak depth (mm)": 9.02,
            "beak length (mm)": 13.84
           },
           {
            "beak depth (mm)": 9.02,
            "beak length (mm)": 14.04
           },
           {
            "beak depth (mm)": 9.02,
            "beak length (mm)": 14.14
           },
           {
            "beak depth (mm)": 9.03,
            "beak length (mm)": 12.56
           },
           {
            "beak depth (mm)": 9.04,
            "beak length (mm)": 15.14
           },
           {
            "beak depth (mm)": 9.05,
            "beak length (mm)": 14.35
           },
           {
            "beak depth (mm)": 9.05,
            "beak length (mm)": 14.85
           },
           {
            "beak depth (mm)": 9.06,
            "beak length (mm)": 14.04
           },
           {
            "beak depth (mm)": 9.1,
            "beak length (mm)": 14.2
           },
           {
            "beak depth (mm)": 9.1,
            "beak length (mm)": 14.3
           },
           {
            "beak depth (mm)": 9.1,
            "beak length (mm)": 14.5
           },
           {
            "beak depth (mm)": 9.1,
            "beak length (mm)": 14.5
           },
           {
            "beak depth (mm)": 9.1,
            "beak length (mm)": 14.6
           },
           {
            "beak depth (mm)": 9.1,
            "beak length (mm)": 15
           },
           {
            "beak depth (mm)": 9.13,
            "beak length (mm)": 13.6
           },
           {
            "beak depth (mm)": 9.13,
            "beak length (mm)": 14.65
           },
           {
            "beak depth (mm)": 9.14,
            "beak length (mm)": 14.03
           },
           {
            "beak depth (mm)": 9.18,
            "beak length (mm)": 14.16
           },
           {
            "beak depth (mm)": 9.2,
            "beak length (mm)": 13.83
           },
           {
            "beak depth (mm)": 9.2,
            "beak length (mm)": 14.2
           },
           {
            "beak depth (mm)": 9.2,
            "beak length (mm)": 14.35
           },
           {
            "beak depth (mm)": 9.2,
            "beak length (mm)": 14.45
           },
           {
            "beak depth (mm)": 9.21,
            "beak length (mm)": 14.64
           },
           {
            "beak depth (mm)": 9.21,
            "beak length (mm)": 15.04
           },
           {
            "beak depth (mm)": 9.22,
            "beak length (mm)": 13.9
           },
           {
            "beak depth (mm)": 9.24,
            "beak length (mm)": 14.34
           },
           {
            "beak depth (mm)": 9.24,
            "beak length (mm)": 14.53
           },
           {
            "beak depth (mm)": 9.25,
            "beak length (mm)": 14.2
           },
           {
            "beak depth (mm)": 9.25,
            "beak length (mm)": 14.85
           },
           {
            "beak depth (mm)": 9.25,
            "beak length (mm)": 15.1
           },
           {
            "beak depth (mm)": 9.25,
            "beak length (mm)": 15.2
           },
           {
            "beak depth (mm)": 9.26,
            "beak length (mm)": 13.5
           },
           {
            "beak depth (mm)": 9.26,
            "beak length (mm)": 14.95
           },
           {
            "beak depth (mm)": 9.28,
            "beak length (mm)": 13.83
           },
           {
            "beak depth (mm)": 9.28,
            "beak length (mm)": 13.95
           },
           {
            "beak depth (mm)": 9.28,
            "beak length (mm)": 15.09
           },
           {
            "beak depth (mm)": 9.3,
            "beak length (mm)": 13.43
           },
           {
            "beak depth (mm)": 9.3,
            "beak length (mm)": 13.7
           },
           {
            "beak depth (mm)": 9.3,
            "beak length (mm)": 14
           },
           {
            "beak depth (mm)": 9.3,
            "beak length (mm)": 14.15
           },
           {
            "beak depth (mm)": 9.3,
            "beak length (mm)": 14.75
           },
           {
            "beak depth (mm)": 9.3,
            "beak length (mm)": 14.9
           },
           {
            "beak depth (mm)": 9.3,
            "beak length (mm)": 15
           },
           {
            "beak depth (mm)": 9.32,
            "beak length (mm)": 13.56
           },
           {
            "beak depth (mm)": 9.33,
            "beak length (mm)": 14.26
           },
           {
            "beak depth (mm)": 9.34,
            "beak length (mm)": 13.83
           },
           {
            "beak depth (mm)": 9.34,
            "beak length (mm)": 14.53
           },
           {
            "beak depth (mm)": 9.34,
            "beak length (mm)": 14.84
           },
           {
            "beak depth (mm)": 9.35,
            "beak length (mm)": 15
           },
           {
            "beak depth (mm)": 9.37,
            "beak length (mm)": 13.76
           },
           {
            "beak depth (mm)": 9.37,
            "beak length (mm)": 13.9
           },
           {
            "beak depth (mm)": 9.37,
            "beak length (mm)": 14.29
           },
           {
            "beak depth (mm)": 9.37,
            "beak length (mm)": 14.63
           },
           {
            "beak depth (mm)": 9.38,
            "beak length (mm)": 14.3
           },
           {
            "beak depth (mm)": 9.4,
            "beak length (mm)": 13.6
           },
           {
            "beak depth (mm)": 9.4,
            "beak length (mm)": 14.4
           },
           {
            "beak depth (mm)": 9.4,
            "beak length (mm)": 14.9
           },
           {
            "beak depth (mm)": 9.4,
            "beak length (mm)": 14.9
           },
           {
            "beak depth (mm)": 9.42,
            "beak length (mm)": 14.34
           },
           {
            "beak depth (mm)": 9.43,
            "beak length (mm)": 14.53
           },
           {
            "beak depth (mm)": 9.45,
            "beak length (mm)": 14.65
           },
           {
            "beak depth (mm)": 9.5,
            "beak length (mm)": 14.8
           },
           {
            "beak depth (mm)": 9.5,
            "beak length (mm)": 16
           },
           {
            "beak depth (mm)": 9.51,
            "beak length (mm)": 13.14
           },
           {
            "beak depth (mm)": 9.51,
            "beak length (mm)": 14.44
           },
           {
            "beak depth (mm)": 9.52,
            "beak length (mm)": 12.73
           },
           {
            "beak depth (mm)": 9.54,
            "beak length (mm)": 15.04
           },
           {
            "beak depth (mm)": 9.55,
            "beak length (mm)": 14.85
           },
           {
            "beak depth (mm)": 9.6,
            "beak length (mm)": 14.2
           },
           {
            "beak depth (mm)": 9.6,
            "beak length (mm)": 15.2
           },
           {
            "beak depth (mm)": 9.6,
            "beak length (mm)": 16
           },
           {
            "beak depth (mm)": 9.62,
            "beak length (mm)": 14.47
           },
           {
            "beak depth (mm)": 9.64,
            "beak length (mm)": 14.54
           },
           {
            "beak depth (mm)": 9.65,
            "beak length (mm)": 14.9
           },
           {
            "beak depth (mm)": 9.7,
            "beak length (mm)": 14.9
           },
           {
            "beak depth (mm)": 9.7,
            "beak length (mm)": 15.8
           },
           {
            "beak depth (mm)": 9.73,
            "beak length (mm)": 13.46
           },
           {
            "beak depth (mm)": 9.73,
            "beak length (mm)": 14.77
           },
           {
            "beak depth (mm)": 9.74,
            "beak length (mm)": 14.44
           },
           {
            "beak depth (mm)": 9.8,
            "beak length (mm)": 15.2
           },
           {
            "beak depth (mm)": 9.8,
            "beak length (mm)": 16
           },
           {
            "beak depth (mm)": 9.82,
            "beak length (mm)": 14.4
           },
           {
            "beak depth (mm)": 9.85,
            "beak length (mm)": 14.45
           },
           {
            "beak depth (mm)": 9.85,
            "beak length (mm)": 15.35
           },
           {
            "beak depth (mm)": 9.9,
            "beak length (mm)": 14.2
           },
           {
            "beak depth (mm)": 9.9,
            "beak length (mm)": 15.3
           },
           {
            "beak depth (mm)": 9.94,
            "beak length (mm)": 14.27
           },
           {
            "beak depth (mm)": 10,
            "beak length (mm)": 15.8
           },
           {
            "beak depth (mm)": 10.1,
            "beak length (mm)": 15.3
           },
           {
            "beak depth (mm)": 10.11,
            "beak length (mm)": 11.24
           },
           {
            "beak depth (mm)": 10.27,
            "beak length (mm)": 15.2
           },
           {
            "beak depth (mm)": 10.34,
            "beak length (mm)": 15.44
           },
           {
            "beak depth (mm)": 11.33,
            "beak length (mm)": 14.96
           }
          ]
         },
         "encoding": {
          "x": {
           "field": "beak length (mm)",
           "scale": {
            "zero": false
           },
           "type": "quantitative"
          },
          "y": {
           "field": "beak depth (mm)",
           "scale": {
            "zero": false
           },
           "type": "quantitative"
          }
         },
         "mark": "point"
        }
       ]
      },
      "image/png": "[encoded data removed]",
      "text/plain": [
       "<VegaLite 2 object>\n",
       "\n",
       "If you see this message, it means the renderer has not been properly enabled\n",
       "for the frontend that you are using. For more information, see\n",
       "https://altair-viz.github.io/user_guide/troubleshooting.html\n"
      ]
     },
     "execution_count": 15,
     "metadata": {},
     "output_type": "execute_result"
    }
   ],
   "source": [
    "# Make a dataframe to plot the line\n",
    "x = np.array([10.5, 16.5])\n",
    "y = slope * x + intercept\n",
    "df_line = pd.DataFrame({'x': x, 'y': y})\n",
    "\n",
    "reg_line = alt.Chart(df_line\n",
    "        ).mark_line(\n",
    "            size=3,\n",
    "            color='orange'\n",
    "        ).encode(\n",
    "            x=alt.X('x:Q',\n",
    "                    title='beak length (mm)',\n",
    "                    scale=alt.Scale(zero=False)),\n",
    "            y=alt.Y('y:Q',\n",
    "                    title='beak depth (mm)',\n",
    "                    scale=alt.Scale(zero=False))\n",
    "        )\n",
    "\n",
    "(reg_line + dots).interactive()"
   ]
  },
  {
   "cell_type": "markdown",
   "metadata": {},
   "source": [
    "Nice, now we have a linear regression line, but now we want to put our 95% confidence intervals on the plot by first doing pairs bootstrap\n",
    "We will resample the dataset in pairs (beak length and beak depth), and they will remain together so it's like we're resampling the birds themselves"
   ]
  },
  {
   "cell_type": "code",
   "execution_count": 16,
   "metadata": {},
   "outputs": [],
   "source": [
    "def draw_bs_pairs_linreg(x, y, size=1):\n",
    "    inds = np.arange(len(x))\n",
    "    \n",
    "    bs_slope_reps = np.empty(size)\n",
    "    bs_intercept_reps = np.empty(size)\n",
    "    \n",
    "    for i in range(size):\n",
    "        bs_inds = np.random.choice(inds, len(inds))\n",
    "        bs_x, bs_y = x[bs_inds], y[bs_inds]\n",
    "        bs_slope, bs_intercept = np.polyfit(bs_x, bs_y, deg=1)\n",
    "        \n",
    "        bs_slope_reps[i], bs_intercept_reps[i] = bs_slope, bs_intercept\n",
    "        \n",
    "    return bs_slope_reps, bs_intercept_reps     "
   ]
  },
  {
   "cell_type": "code",
   "execution_count": 28,
   "metadata": {},
   "outputs": [],
   "source": [
    "bs_slope_reps, bs_intercept_reps = draw_bs_pairs_linreg(beak_length,\n",
    "                                                        beak_depth,\n",
    "                                                        size=100000)"
   ]
  },
  {
   "cell_type": "code",
   "execution_count": 29,
   "metadata": {},
   "outputs": [
    {
     "data": {
      "text/plain": [
       "(0.262258885049905, array([0.14375706, 0.1849899 ]))"
      ]
     },
     "execution_count": 29,
     "metadata": {},
     "output_type": "execute_result"
    }
   ],
   "source": [
    "slope, np.percentile(bs_slope_reps, [2.5, 9.75])"
   ]
  },
  {
   "cell_type": "code",
   "execution_count": 30,
   "metadata": {},
   "outputs": [],
   "source": [
    "# x-values\n",
    "x = np.linspace(10.5, 16.5, 200)\n",
    "\n",
    "# y-values of each point\n",
    "y = np.outer(bs_slope_reps, x) + np.stack([bs_intercept_reps]*200, axis=1)\n",
    "\n",
    "# Compute the 2.5th and 97.5th percentiles\n",
    "low, high = np.percentile(y, [2.5, 97.5], axis=0)"
   ]
  },
  {
   "cell_type": "code",
   "execution_count": 34,
   "metadata": {},
   "outputs": [
    {
     "data": {
      "application/vnd.vegalite.v2+json": {
       "$schema": "https://vega.github.io/schema/vega-lite/v2.4.3.json",
       "config": {
        "view": {
         "height": 300,
         "width": 400
        }
       },
       "layer": [
        {
         "data": {
          "values": [
           {
            "high": 8.627806042313248,
            "low": 7.72064575225227,
            "x": 10.5
           },
           {
            "high": 8.632121418643337,
            "low": 7.73200220110622,
            "x": 10.530150753768844
           },
           {
            "high": 8.636487474078331,
            "low": 7.743333389617871,
            "x": 10.56030150753769
           },
           {
            "high": 8.640808966809102,
            "low": 7.754732647000203,
            "x": 10.590452261306533
           },
           {
            "high": 8.645189163303298,
            "low": 7.766250105283912,
            "x": 10.620603015075377
           },
           {
            "high": 8.649543475216564,
            "low": 7.777591110868296,
            "x": 10.650753768844222
           },
           {
            "high": 8.653968140561624,
            "low": 7.788950374528329,
            "x": 10.680904522613066
           },
           {
            "high": 8.658330522997561,
            "low": 7.800385026315059,
            "x": 10.71105527638191
           },
           {
            "high": 8.662849462560745,
            "low": 7.811819889852039,
            "x": 10.741206030150753
           },
           {
            "high": 8.667217990764854,
            "low": 7.8233472690451205,
            "x": 10.771356783919598
           },
           {
            "high": 8.671714366054758,
            "low": 7.834660462816646,
            "x": 10.801507537688442
           },
           {
            "high": 8.676069520531577,
            "low": 7.845813165633212,
            "x": 10.831658291457286
           },
           {
            "high": 8.680396019507345,
            "low": 7.857205489930295,
            "x": 10.861809045226131
           },
           {
            "high": 8.684837314491775,
            "low": 7.868695348277007,
            "x": 10.891959798994975
           },
           {
            "high": 8.689268398985307,
            "low": 7.880183329607164,
            "x": 10.922110552763819
           },
           {
            "high": 8.693738181151327,
            "low": 7.891549893475059,
            "x": 10.952261306532662
           },
           {
            "high": 8.69810851144371,
            "low": 7.90285406006282,
            "x": 10.982412060301508
           },
           {
            "high": 8.702501956342491,
            "low": 7.914186720665494,
            "x": 11.012562814070352
           },
           {
            "high": 8.706908731410094,
            "low": 7.925536242064232,
            "x": 11.042713567839195
           },
           {
            "high": 8.711468316328544,
            "low": 7.936907431920346,
            "x": 11.07286432160804
           },
           {
            "high": 8.715963248737525,
            "low": 7.948446680528686,
            "x": 11.103015075376884
           },
           {
            "high": 8.720453319343624,
            "low": 7.95969107456585,
            "x": 11.133165829145728
           },
           {
            "high": 8.724895730817426,
            "low": 7.971139878801498,
            "x": 11.163316582914574
           },
           {
            "high": 8.729269325019024,
            "low": 7.982445068607733,
            "x": 11.193467336683417
           },
           {
            "high": 8.733640004756888,
            "low": 7.99381703542835,
            "x": 11.22361809045226
           },
           {
            "high": 8.738091402163844,
            "low": 8.005241271898942,
            "x": 11.253768844221106
           },
           {
            "high": 8.742446329431841,
            "low": 8.016683503607577,
            "x": 11.28391959798995
           },
           {
            "high": 8.746751417730163,
            "low": 8.028176010873265,
            "x": 11.314070351758794
           },
           {
            "high": 8.751052816781387,
            "low": 8.039421341110858,
            "x": 11.344221105527637
           },
           {
            "high": 8.755438835182822,
            "low": 8.050647999829488,
            "x": 11.374371859296483
           },
           {
            "high": 8.759745866456974,
            "low": 8.06203525408942,
            "x": 11.404522613065327
           },
           {
            "high": 8.763966548634151,
            "low": 8.073422425517165,
            "x": 11.43467336683417
           },
           {
            "high": 8.768396496138436,
            "low": 8.084689817786447,
            "x": 11.464824120603016
           },
           {
            "high": 8.772740052775479,
            "low": 8.09591355525824,
            "x": 11.49497487437186
           },
           {
            "high": 8.777041433721507,
            "low": 8.107103580543566,
            "x": 11.525125628140703
           },
           {
            "high": 8.781389924806627,
            "low": 8.118465853157536,
            "x": 11.555276381909547
           },
           {
            "high": 8.78579188963525,
            "low": 8.12970978357591,
            "x": 11.585427135678392
           },
           {
            "high": 8.790092721671813,
            "low": 8.141049134200864,
            "x": 11.615577889447236
           },
           {
            "high": 8.794575571002126,
            "low": 8.152460568321203,
            "x": 11.64572864321608
           },
           {
            "high": 8.798928726948262,
            "low": 8.163824722217027,
            "x": 11.675879396984925
           },
           {
            "high": 8.803398165207653,
            "low": 8.175267943497817,
            "x": 11.706030150753769
           },
           {
            "high": 8.807946314284072,
            "low": 8.186433722513453,
            "x": 11.736180904522612
           },
           {
            "high": 8.81240536233555,
            "low": 8.197759600939811,
            "x": 11.766331658291458
           },
           {
            "high": 8.81671607878802,
            "low": 8.20914327284589,
            "x": 11.796482412060302
           },
           {
            "high": 8.821088420426909,
            "low": 8.220413495508215,
            "x": 11.826633165829145
           },
           {
            "high": 8.82536209825144,
            "low": 8.231902718173393,
            "x": 11.85678391959799
           },
           {
            "high": 8.829698684254826,
            "low": 8.243235740186268,
            "x": 11.886934673366834
           },
           {
            "high": 8.834148818496885,
            "low": 8.25453771724164,
            "x": 11.917085427135678
           },
           {
            "high": 8.838551241181458,
            "low": 8.265865205255016,
            "x": 11.947236180904522
           },
           {
            "high": 8.842889132195507,
            "low": 8.27718832847388,
            "x": 11.977386934673367
           },
           {
            "high": 8.847291321356446,
            "low": 8.288503535199238,
            "x": 12.007537688442211
           },
           {
            "high": 8.85167884134077,
            "low": 8.299897706619246,
            "x": 12.037688442211055
           },
           {
            "high": 8.856197702332507,
            "low": 8.311233732212871,
            "x": 12.0678391959799
           },
           {
            "high": 8.860706818068389,
            "low": 8.322493737933495,
            "x": 12.097989949748744
           },
           {
            "high": 8.865003319283,
            "low": 8.333841100845326,
            "x": 12.128140703517587
           },
           {
            "high": 8.86952992282303,
            "low": 8.345125901815868,
            "x": 12.158291457286431
           },
           {
            "high": 8.874043845717404,
            "low": 8.35637194504625,
            "x": 12.188442211055277
           },
           {
            "high": 8.878220936195234,
            "low": 8.367647964788697,
            "x": 12.21859296482412
           },
           {
            "high": 8.882928106402021,
            "low": 8.37900591919467,
            "x": 12.248743718592966
           },
           {
            "high": 8.887369819083801,
            "low": 8.390164144917993,
            "x": 12.27889447236181
           },
           {
            "high": 8.8918990747892,
            "low": 8.40137539083459,
            "x": 12.309045226130653
           },
           {
            "high": 8.89628176505695,
            "low": 8.412519945927217,
            "x": 12.339195979899497
           },
           {
            "high": 8.900700489317645,
            "low": 8.42375219119171,
            "x": 12.369346733668342
           },
           {
            "high": 8.905262840276402,
            "low": 8.434899663072839,
            "x": 12.399497487437186
           },
           {
            "high": 8.909835076294538,
            "low": 8.446238206963267,
            "x": 12.42964824120603
           },
           {
            "high": 8.91421041003121,
            "low": 8.457469193136195,
            "x": 12.459798994974875
           },
           {
            "high": 8.918741990529286,
            "low": 8.468595841087721,
            "x": 12.489949748743719
           },
           {
            "high": 8.923277883884927,
            "low": 8.4798410989116,
            "x": 12.520100502512562
           },
           {
            "high": 8.927908554049806,
            "low": 8.491211220501548,
            "x": 12.550251256281406
           },
           {
            "high": 8.932446522288807,
            "low": 8.502463939032102,
            "x": 12.580402010050252
           },
           {
            "high": 8.936933935562426,
            "low": 8.513732533934872,
            "x": 12.610552763819095
           },
           {
            "high": 8.941384089598381,
            "low": 8.524844774753632,
            "x": 12.640703517587939
           },
           {
            "high": 8.945924916354853,
            "low": 8.536129801608569,
            "x": 12.670854271356784
           },
           {
            "high": 8.950433975744891,
            "low": 8.547360121497952,
            "x": 12.701005025125628
           },
           {
            "high": 8.955304471146789,
            "low": 8.558528174917955,
            "x": 12.731155778894472
           },
           {
            "high": 8.959930766760765,
            "low": 8.569685926852225,
            "x": 12.761306532663315
           },
           {
            "high": 8.964558751678373,
            "low": 8.580867832322687,
            "x": 12.791457286432161
           },
           {
            "high": 8.969134195255462,
            "low": 8.592006874564095,
            "x": 12.821608040201005
           },
           {
            "high": 8.973902924710304,
            "low": 8.60311410886854,
            "x": 12.85175879396985
           },
           {
            "high": 8.978405886411307,
            "low": 8.614174259071033,
            "x": 12.881909547738694
           },
           {
            "high": 8.982978583311441,
            "low": 8.625374153379568,
            "x": 12.912060301507537
           },
           {
            "high": 8.987292448877286,
            "low": 8.636461760563838,
            "x": 12.942211055276381
           },
           {
            "high": 8.991881724356976,
            "low": 8.647421105728462,
            "x": 12.972361809045227
           },
           {
            "high": 8.996479310651214,
            "low": 8.658441529517273,
            "x": 13.00251256281407
           },
           {
            "high": 9.0010768100708,
            "low": 8.66958524423067,
            "x": 13.032663316582914
           },
           {
            "high": 9.005718883094866,
            "low": 8.68059345375234,
            "x": 13.06281407035176
           },
           {
            "high": 9.010385423488549,
            "low": 8.691529742851781,
            "x": 13.092964824120603
           },
           {
            "high": 9.01524048486777,
            "low": 8.702515419173132,
            "x": 13.123115577889447
           },
           {
            "high": 9.019872353075748,
            "low": 8.713468755754846,
            "x": 13.15326633165829
           },
           {
            "high": 9.024571037733095,
            "low": 8.724567532330067,
            "x": 13.183417085427136
           },
           {
            "high": 9.029265749845951,
            "low": 8.735512526939004,
            "x": 13.21356783919598
           },
           {
            "high": 9.033918026706834,
            "low": 8.746427796205175,
            "x": 13.243718592964823
           },
           {
            "high": 9.038599853595855,
            "low": 8.757367386748468,
            "x": 13.273869346733669
           },
           {
            "high": 9.043362756983184,
            "low": 8.76826890061838,
            "x": 13.304020100502512
           },
           {
            "high": 9.048068151512318,
            "low": 8.77921830397323,
            "x": 13.334170854271356
           },
           {
            "high": 9.052780649927925,
            "low": 8.790242063047906,
            "x": 13.3643216080402
           },
           {
            "high": 9.057728852184413,
            "low": 8.801005793171267,
            "x": 13.394472361809045
           },
           {
            "high": 9.06272049760077,
            "low": 8.811771777155885,
            "x": 13.424623115577889
           },
           {
            "high": 9.067544986917499,
            "low": 8.822622535455642,
            "x": 13.454773869346734
           },
           {
            "high": 9.072364850326016,
            "low": 8.833441380447132,
            "x": 13.484924623115578
           },
           {
            "high": 9.077303453532137,
            "low": 8.844311701129904,
            "x": 13.515075376884422
           },
           {
            "high": 9.082341927535584,
            "low": 8.85504183354997,
            "x": 13.545226130653266
           },
           {
            "high": 9.087312310337094,
            "low": 8.86571515201872,
            "x": 13.575376884422111
           },
           {
            "high": 9.092560000417732,
            "low": 8.876422493257602,
            "x": 13.605527638190955
           },
           {
            "high": 9.097564700609226,
            "low": 8.887099905382325,
            "x": 13.635678391959798
           },
           {
            "high": 9.102770890937478,
            "low": 8.897727960113539,
            "x": 13.665829145728644
           },
           {
            "high": 9.10808125025538,
            "low": 8.908255884774372,
            "x": 13.695979899497488
           },
           {
            "high": 9.113392008676877,
            "low": 8.918729945998761,
            "x": 13.726130653266331
           },
           {
            "high": 9.118779328795588,
            "low": 8.92936439981277,
            "x": 13.756281407035175
           },
           {
            "high": 9.124274734306889,
            "low": 8.939667921946167,
            "x": 13.78643216080402
           },
           {
            "high": 9.129908404148498,
            "low": 8.949947121243458,
            "x": 13.816582914572864
           },
           {
            "high": 9.135370727158032,
            "low": 8.96026828561273,
            "x": 13.84673366834171
           },
           {
            "high": 9.140857232045324,
            "low": 8.97049727902043,
            "x": 13.876884422110553
           },
           {
            "high": 9.146632083920371,
            "low": 8.980640269116957,
            "x": 13.907035175879397
           },
           {
            "high": 9.152609581384933,
            "low": 8.990667840136318,
            "x": 13.93718592964824
           },
           {
            "high": 9.158583751234488,
            "low": 9.000617505638404,
            "x": 13.967336683417084
           },
           {
            "high": 9.164736763519793,
            "low": 9.010466132725915,
            "x": 13.99748743718593
           },
           {
            "high": 9.170830327010172,
            "low": 9.020167040737572,
            "x": 14.027638190954773
           },
           {
            "high": 9.1773726846881,
            "low": 9.029693706247103,
            "x": 14.057788944723619
           },
           {
            "high": 9.183866316567535,
            "low": 9.039021752587278,
            "x": 14.087939698492463
           },
           {
            "high": 9.190478219772555,
            "low": 9.048208576180599,
            "x": 14.118090452261306
           },
           {
            "high": 9.19724113418784,
            "low": 9.057304729796769,
            "x": 14.14824120603015
           },
           {
            "high": 9.204393065177708,
            "low": 9.066194327395669,
            "x": 14.178391959798995
           },
           {
            "high": 9.211542124999207,
            "low": 9.075104963852494,
            "x": 14.208542713567839
           },
           {
            "high": 9.218878104290877,
            "low": 9.083674984504523,
            "x": 14.238693467336683
           },
           {
            "high": 9.226439954027631,
            "low": 9.09208307945747,
            "x": 14.268844221105528
           },
           {
            "high": 9.23418896025623,
            "low": 9.100307545485474,
            "x": 14.298994974874372
           },
           {
            "high": 9.242113026896803,
            "low": 9.108229886636552,
            "x": 14.329145728643216
           },
           {
            "high": 9.250272099618527,
            "low": 9.115984684398335,
            "x": 14.35929648241206
           },
           {
            "high": 9.258513330383582,
            "low": 9.123632919301189,
            "x": 14.389447236180905
           },
           {
            "high": 9.266874408104384,
            "low": 9.131157621054673,
            "x": 14.419597989949748
           },
           {
            "high": 9.275492510244158,
            "low": 9.138424150031419,
            "x": 14.449748743718594
           },
           {
            "high": 9.28442547307756,
            "low": 9.145613552270651,
            "x": 14.479899497487438
           },
           {
            "high": 9.293409341521743,
            "low": 9.152312133408335,
            "x": 14.510050251256281
           },
           {
            "high": 9.30245305951449,
            "low": 9.159013084894934,
            "x": 14.540201005025125
           },
           {
            "high": 9.31161900527684,
            "low": 9.165574002291118,
            "x": 14.570351758793969
           },
           {
            "high": 9.321132691702244,
            "low": 9.171922106072499,
            "x": 14.600502512562814
           },
           {
            "high": 9.33085435945938,
            "low": 9.178210385048821,
            "x": 14.630653266331658
           },
           {
            "high": 9.340431078917854,
            "low": 9.184296217539881,
            "x": 14.660804020100503
           },
           {
            "high": 9.350204897707332,
            "low": 9.190303411989381,
            "x": 14.690954773869347
           },
           {
            "high": 9.360234403221423,
            "low": 9.196240282820836,
            "x": 14.72110552763819
           },
           {
            "high": 9.370093826622938,
            "low": 9.201941974245011,
            "x": 14.751256281407034
           },
           {
            "high": 9.380170173272244,
            "low": 9.207619827719027,
            "x": 14.781407035175878
           },
           {
            "high": 9.390265837790142,
            "low": 9.213121600464918,
            "x": 14.811557788944723
           },
           {
            "high": 9.400458072283755,
            "low": 9.218519852124777,
            "x": 14.841708542713569
           },
           {
            "high": 9.410857496307264,
            "low": 9.223794494608814,
            "x": 14.871859296482413
           },
           {
            "high": 9.421207279709623,
            "low": 9.229133328813317,
            "x": 14.902010050251256
           },
           {
            "high": 9.43157659818657,
            "low": 9.234382368366727,
            "x": 14.9321608040201
           },
           {
            "high": 9.441970708779662,
            "low": 9.239667110535711,
            "x": 14.962311557788944
           },
           {
            "high": 9.452535982378897,
            "low": 9.244751443249253,
            "x": 14.992462311557789
           },
           {
            "high": 9.463224123383203,
            "low": 9.249829356910618,
            "x": 15.022613065326633
           },
           {
            "high": 9.47389186979559,
            "low": 9.254835388446887,
            "x": 15.052763819095478
           },
           {
            "high": 9.48460723985085,
            "low": 9.259846211874057,
            "x": 15.082914572864322
           },
           {
            "high": 9.495409725615216,
            "low": 9.265002383882383,
            "x": 15.113065326633166
           },
           {
            "high": 9.506126954411346,
            "low": 9.269802267361882,
            "x": 15.14321608040201
           },
           {
            "high": 9.516897187433193,
            "low": 9.274797961036603,
            "x": 15.173366834170853
           },
           {
            "high": 9.527737689686887,
            "low": 9.27957915662749,
            "x": 15.203517587939698
           },
           {
            "high": 9.538429969392409,
            "low": 9.28437282379009,
            "x": 15.233668341708542
           },
           {
            "high": 9.549156290706996,
            "low": 9.289272517901692,
            "x": 15.263819095477388
           },
           {
            "high": 9.560048455183981,
            "low": 9.294056415642643,
            "x": 15.293969849246231
           },
           {
            "high": 9.571086694121902,
            "low": 9.298824596616893,
            "x": 15.324120603015075
           },
           {
            "high": 9.582027583464267,
            "low": 9.303470430238606,
            "x": 15.354271356783919
           },
           {
            "high": 9.593074059131458,
            "low": 9.308120789904672,
            "x": 15.384422110552762
           },
           {
            "high": 9.604183121722569,
            "low": 9.312650523326392,
            "x": 15.414572864321608
           },
           {
            "high": 9.615151327957012,
            "low": 9.317489222682108,
            "x": 15.444723618090453
           },
           {
            "high": 9.62623131962271,
            "low": 9.322192854709472,
            "x": 15.474874371859297
           },
           {
            "high": 9.637191241423919,
            "low": 9.326944211908751,
            "x": 15.50502512562814
           },
           {
            "high": 9.648275378580362,
            "low": 9.331620339525472,
            "x": 15.535175879396984
           },
           {
            "high": 9.659442137125588,
            "low": 9.336355348712228,
            "x": 15.565326633165828
           },
           {
            "high": 9.670444459757288,
            "low": 9.34075915555655,
            "x": 15.595477386934673
           },
           {
            "high": 9.68146275888111,
            "low": 9.345383947645626,
            "x": 15.625628140703517
           },
           {
            "high": 9.692501725058438,
            "low": 9.349909954054212,
            "x": 15.655778894472363
           },
           {
            "high": 9.703719833759685,
            "low": 9.354417241793703,
            "x": 15.685929648241206
           },
           {
            "high": 9.714652202797382,
            "low": 9.358998052102928,
            "x": 15.71608040201005
           },
           {
            "high": 9.72576984429117,
            "low": 9.363539881280666,
            "x": 15.746231155778894
           },
           {
            "high": 9.736983421455639,
            "low": 9.368266239974554,
            "x": 15.776381909547737
           },
           {
            "high": 9.748248678982074,
            "low": 9.37293744630152,
            "x": 15.806532663316583
           },
           {
            "high": 9.759434385314309,
            "low": 9.377462680752144,
            "x": 15.836683417085426
           },
           {
            "high": 9.770547041009587,
            "low": 9.381883300475087,
            "x": 15.866834170854272
           },
           {
            "high": 9.781877171530041,
            "low": 9.386395697260918,
            "x": 15.896984924623116
           },
           {
            "high": 9.793240901049764,
            "low": 9.39089946885159,
            "x": 15.92713567839196
           },
           {
            "high": 9.804434542961499,
            "low": 9.39536969348343,
            "x": 15.957286432160803
           },
           {
            "high": 9.815652935267176,
            "low": 9.400009775053476,
            "x": 15.987437185929647
           },
           {
            "high": 9.826848432726413,
            "low": 9.404653608716442,
            "x": 16.017587939698494
           },
           {
            "high": 9.837983900059154,
            "low": 9.40911408902779,
            "x": 16.047738693467338
           },
           {
            "high": 9.84931092610902,
            "low": 9.413523955496244,
            "x": 16.07788944723618
           },
           {
            "high": 9.860537513036247,
            "low": 9.418231927971863,
            "x": 16.108040201005025
           },
           {
            "high": 9.87177872739199,
            "low": 9.422871118105968,
            "x": 16.13819095477387
           },
           {
            "high": 9.883004621179142,
            "low": 9.427354080245456,
            "x": 16.168341708542712
           },
           {
            "high": 9.894215665285616,
            "low": 9.431788005381817,
            "x": 16.198492462311556
           },
           {
            "high": 9.905551792242004,
            "low": 9.436268286629877,
            "x": 16.2286432160804
           },
           {
            "high": 9.916846072124637,
            "low": 9.440644908226663,
            "x": 16.258793969849247
           },
           {
            "high": 9.928123992764709,
            "low": 9.445073244685458,
            "x": 16.28894472361809
           },
           {
            "high": 9.939380387527128,
            "low": 9.449662883420745,
            "x": 16.319095477386934
           },
           {
            "high": 9.950748662708932,
            "low": 9.454186501747415,
            "x": 16.349246231155778
           },
           {
            "high": 9.962026918370768,
            "low": 9.458646687051887,
            "x": 16.37939698492462
           },
           {
            "high": 9.973424180239341,
            "low": 9.463132124646238,
            "x": 16.40954773869347
           },
           {
            "high": 9.984567694272641,
            "low": 9.467683675793461,
            "x": 16.439698492462313
           },
           {
            "high": 9.99573105997908,
            "low": 9.472163601894755,
            "x": 16.469849246231156
           },
           {
            "high": 10.006999079910052,
            "low": 9.47679380278616,
            "x": 16.5
           }
          ]
         },
         "encoding": {
          "x": {
           "field": "x",
           "scale": {
            "zero": false
           },
           "title": "beak length (mm)",
           "type": "quantitative"
          },
          "y": {
           "field": "low",
           "scale": {
            "zero": false
           },
           "title": "beak depth (mm)",
           "type": "quantitative"
          },
          "y2": {
           "field": "high",
           "type": "quantitative"
          }
         },
         "mark": {
          "color": "orange",
          "opacity": 0.3,
          "type": "area"
         }
        },
        {
         "data": {
          "values": [
           {
            "x": 10.5,
            "y": 8.170570994251374
           },
           {
            "x": 16.5,
            "y": 9.744124304550805
           }
          ]
         },
         "encoding": {
          "x": {
           "field": "x",
           "scale": {
            "zero": false
           },
           "title": "beak length (mm)",
           "type": "quantitative"
          },
          "y": {
           "field": "y",
           "scale": {
            "zero": false
           },
           "title": "beak depth (mm)",
           "type": "quantitative"
          }
         },
         "mark": {
          "color": "orange",
          "size": 3,
          "type": "line"
         }
        },
        {
         "data": {
          "values": [
           {
            "beak depth (mm)": 7.77,
            "beak length (mm)": 10.75
           },
           {
            "beak depth (mm)": 7.94,
            "beak length (mm)": 13.73
           },
           {
            "beak depth (mm)": 7.96,
            "beak length (mm)": 14.04
           },
           {
            "beak depth (mm)": 8,
            "beak length (mm)": 12.5
           },
           {
            "beak depth (mm)": 8.01,
            "beak length (mm)": 12.64
           },
           {
            "beak depth (mm)": 8.23,
            "beak length (mm)": 12.66
           },
           {
            "beak depth (mm)": 8.3,
            "beak length (mm)": 13
           },
           {
            "beak depth (mm)": 8.36,
            "beak length (mm)": 13.15
           },
           {
            "beak depth (mm)": 8.37,
            "beak length (mm)": 13.96
           },
           {
            "beak depth (mm)": 8.4,
            "beak length (mm)": 13.15
           },
           {
            "beak depth (mm)": 8.4,
            "beak length (mm)": 13.7
           },
           {
            "beak depth (mm)": 8.4,
            "beak length (mm)": 14
           },
           {
            "beak depth (mm)": 8.41,
            "beak length (mm)": 13.43
           },
           {
            "beak depth (mm)": 8.5,
            "beak length (mm)": 14
           },
           {
            "beak depth (mm)": 8.5,
            "beak length (mm)": 14.9
           },
           {
            "beak depth (mm)": 8.6,
            "beak length (mm)": 13.6
           },
           {
            "beak depth (mm)": 8.6,
            "beak length (mm)": 13.8
           },
           {
            "beak depth (mm)": 8.6,
            "beak length (mm)": 14.9
           },
           {
            "beak depth (mm)": 8.61,
            "beak length (mm)": 13.94
           },
           {
            "beak depth (mm)": 8.67,
            "beak length (mm)": 14.81
           },
           {
            "beak depth (mm)": 8.7,
            "beak length (mm)": 12.5
           },
           {
            "beak depth (mm)": 8.7,
            "beak length (mm)": 13.75
           },
           {
            "beak depth (mm)": 8.7,
            "beak length (mm)": 14
           },
           {
            "beak depth (mm)": 8.7,
            "beak length (mm)": 14.5
           },
           {
            "beak depth (mm)": 8.7,
            "beak length (mm)": 14.7
           },
           {
            "beak depth (mm)": 8.72,
            "beak length (mm)": 14.05
           },
           {
            "beak depth (mm)": 8.72,
            "beak length (mm)": 14.17
           },
           {
            "beak depth (mm)": 8.77,
            "beak length (mm)": 15.07
           },
           {
            "beak depth (mm)": 8.8,
            "beak length (mm)": 11.5
           },
           {
            "beak depth (mm)": 8.8,
            "beak length (mm)": 13.5
           },
           {
            "beak depth (mm)": 8.8,
            "beak length (mm)": 13.87
           },
           {
            "beak depth (mm)": 8.8,
            "beak length (mm)": 14.9
           },
           {
            "beak depth (mm)": 8.81,
            "beak length (mm)": 12.34
           },
           {
            "beak depth (mm)": 8.81,
            "beak length (mm)": 14.34
           },
           {
            "beak depth (mm)": 8.87,
            "beak length (mm)": 15.07
           },
           {
            "beak depth (mm)": 8.88,
            "beak length (mm)": 14.01
           },
           {
            "beak depth (mm)": 8.89,
            "beak length (mm)": 12.86
           },
           {
            "beak depth (mm)": 8.9,
            "beak length (mm)": 13.6
           },
           {
            "beak depth (mm)": 8.9,
            "beak length (mm)": 13.8
           },
           {
            "beak depth (mm)": 8.9,
            "beak length (mm)": 13.85
           },
           {
            "beak depth (mm)": 8.9,
            "beak length (mm)": 13.9
           },
           {
            "beak depth (mm)": 8.9,
            "beak length (mm)": 14.1
           },
           {
            "beak depth (mm)": 8.9,
            "beak length (mm)": 14.1
           },
           {
            "beak depth (mm)": 8.9,
            "beak length (mm)": 14.2
           },
           {
            "beak depth (mm)": 8.9,
            "beak length (mm)": 14.3
           },
           {
            "beak depth (mm)": 8.9,
            "beak length (mm)": 14.9
           },
           {
            "beak depth (mm)": 8.91,
            "beak length (mm)": 13.84
           },
           {
            "beak depth (mm)": 8.91,
            "beak length (mm)": 14.09
           },
           {
            "beak depth (mm)": 8.92,
            "beak length (mm)": 14.05
           },
           {
            "beak depth (mm)": 8.93,
            "beak length (mm)": 14.15
           },
           {
            "beak depth (mm)": 8.93,
            "beak length (mm)": 14.25
           },
           {
            "beak depth (mm)": 8.95,
            "beak length (mm)": 13.6
           },
           {
            "beak depth (mm)": 8.95,
            "beak length (mm)": 14.57
           },
           {
            "beak depth (mm)": 8.96,
            "beak length (mm)": 11.89
           },
           {
            "beak depth (mm)": 8.97,
            "beak length (mm)": 13.8
           },
           {
            "beak depth (mm)": 8.97,
            "beak length (mm)": 14.21
           },
           {
            "beak depth (mm)": 8.99,
            "beak length (mm)": 14.76
           },
           {
            "beak depth (mm)": 9,
            "beak length (mm)": 12.07
           },
           {
            "beak depth (mm)": 9,
            "beak length (mm)": 13.9
           },
           {
            "beak depth (mm)": 9,
            "beak length (mm)": 14.1
           },
           {
            "beak depth (mm)": 9,
            "beak length (mm)": 14.3
           },
           {
            "beak depth (mm)": 9,
            "beak length (mm)": 14.95
           },
           {
            "beak depth (mm)": 9.01,
            "beak length (mm)": 14.34
           },
           {
            "beak depth (mm)": 9.02,
            "beak length (mm)": 13.84
           },
           {
            "beak depth (mm)": 9.02,
            "beak length (mm)": 14.04
           },
           {
            "beak depth (mm)": 9.02,
            "beak length (mm)": 14.14
           },
           {
            "beak depth (mm)": 9.03,
            "beak length (mm)": 12.56
           },
           {
            "beak depth (mm)": 9.04,
            "beak length (mm)": 15.14
           },
           {
            "beak depth (mm)": 9.05,
            "beak length (mm)": 14.35
           },
           {
            "beak depth (mm)": 9.05,
            "beak length (mm)": 14.85
           },
           {
            "beak depth (mm)": 9.06,
            "beak length (mm)": 14.04
           },
           {
            "beak depth (mm)": 9.1,
            "beak length (mm)": 14.2
           },
           {
            "beak depth (mm)": 9.1,
            "beak length (mm)": 14.3
           },
           {
            "beak depth (mm)": 9.1,
            "beak length (mm)": 14.5
           },
           {
            "beak depth (mm)": 9.1,
            "beak length (mm)": 14.5
           },
           {
            "beak depth (mm)": 9.1,
            "beak length (mm)": 14.6
           },
           {
            "beak depth (mm)": 9.1,
            "beak length (mm)": 15
           },
           {
            "beak depth (mm)": 9.13,
            "beak length (mm)": 13.6
           },
           {
            "beak depth (mm)": 9.13,
            "beak length (mm)": 14.65
           },
           {
            "beak depth (mm)": 9.14,
            "beak length (mm)": 14.03
           },
           {
            "beak depth (mm)": 9.18,
            "beak length (mm)": 14.16
           },
           {
            "beak depth (mm)": 9.2,
            "beak length (mm)": 13.83
           },
           {
            "beak depth (mm)": 9.2,
            "beak length (mm)": 14.2
           },
           {
            "beak depth (mm)": 9.2,
            "beak length (mm)": 14.35
           },
           {
            "beak depth (mm)": 9.2,
            "beak length (mm)": 14.45
           },
           {
            "beak depth (mm)": 9.21,
            "beak length (mm)": 14.64
           },
           {
            "beak depth (mm)": 9.21,
            "beak length (mm)": 15.04
           },
           {
            "beak depth (mm)": 9.22,
            "beak length (mm)": 13.9
           },
           {
            "beak depth (mm)": 9.24,
            "beak length (mm)": 14.34
           },
           {
            "beak depth (mm)": 9.24,
            "beak length (mm)": 14.53
           },
           {
            "beak depth (mm)": 9.25,
            "beak length (mm)": 14.2
           },
           {
            "beak depth (mm)": 9.25,
            "beak length (mm)": 14.85
           },
           {
            "beak depth (mm)": 9.25,
            "beak length (mm)": 15.1
           },
           {
            "beak depth (mm)": 9.25,
            "beak length (mm)": 15.2
           },
           {
            "beak depth (mm)": 9.26,
            "beak length (mm)": 13.5
           },
           {
            "beak depth (mm)": 9.26,
            "beak length (mm)": 14.95
           },
           {
            "beak depth (mm)": 9.28,
            "beak length (mm)": 13.83
           },
           {
            "beak depth (mm)": 9.28,
            "beak length (mm)": 13.95
           },
           {
            "beak depth (mm)": 9.28,
            "beak length (mm)": 15.09
           },
           {
            "beak depth (mm)": 9.3,
            "beak length (mm)": 13.43
           },
           {
            "beak depth (mm)": 9.3,
            "beak length (mm)": 13.7
           },
           {
            "beak depth (mm)": 9.3,
            "beak length (mm)": 14
           },
           {
            "beak depth (mm)": 9.3,
            "beak length (mm)": 14.15
           },
           {
            "beak depth (mm)": 9.3,
            "beak length (mm)": 14.75
           },
           {
            "beak depth (mm)": 9.3,
            "beak length (mm)": 14.9
           },
           {
            "beak depth (mm)": 9.3,
            "beak length (mm)": 15
           },
           {
            "beak depth (mm)": 9.32,
            "beak length (mm)": 13.56
           },
           {
            "beak depth (mm)": 9.33,
            "beak length (mm)": 14.26
           },
           {
            "beak depth (mm)": 9.34,
            "beak length (mm)": 13.83
           },
           {
            "beak depth (mm)": 9.34,
            "beak length (mm)": 14.53
           },
           {
            "beak depth (mm)": 9.34,
            "beak length (mm)": 14.84
           },
           {
            "beak depth (mm)": 9.35,
            "beak length (mm)": 15
           },
           {
            "beak depth (mm)": 9.37,
            "beak length (mm)": 13.76
           },
           {
            "beak depth (mm)": 9.37,
            "beak length (mm)": 13.9
           },
           {
            "beak depth (mm)": 9.37,
            "beak length (mm)": 14.29
           },
           {
            "beak depth (mm)": 9.37,
            "beak length (mm)": 14.63
           },
           {
            "beak depth (mm)": 9.38,
            "beak length (mm)": 14.3
           },
           {
            "beak depth (mm)": 9.4,
            "beak length (mm)": 13.6
           },
           {
            "beak depth (mm)": 9.4,
            "beak length (mm)": 14.4
           },
           {
            "beak depth (mm)": 9.4,
            "beak length (mm)": 14.9
           },
           {
            "beak depth (mm)": 9.4,
            "beak length (mm)": 14.9
           },
           {
            "beak depth (mm)": 9.42,
            "beak length (mm)": 14.34
           },
           {
            "beak depth (mm)": 9.43,
            "beak length (mm)": 14.53
           },
           {
            "beak depth (mm)": 9.45,
            "beak length (mm)": 14.65
           },
           {
            "beak depth (mm)": 9.5,
            "beak length (mm)": 14.8
           },
           {
            "beak depth (mm)": 9.5,
            "beak length (mm)": 16
           },
           {
            "beak depth (mm)": 9.51,
            "beak length (mm)": 13.14
           },
           {
            "beak depth (mm)": 9.51,
            "beak length (mm)": 14.44
           },
           {
            "beak depth (mm)": 9.52,
            "beak length (mm)": 12.73
           },
           {
            "beak depth (mm)": 9.54,
            "beak length (mm)": 15.04
           },
           {
            "beak depth (mm)": 9.55,
            "beak length (mm)": 14.85
           },
           {
            "beak depth (mm)": 9.6,
            "beak length (mm)": 14.2
           },
           {
            "beak depth (mm)": 9.6,
            "beak length (mm)": 15.2
           },
           {
            "beak depth (mm)": 9.6,
            "beak length (mm)": 16
           },
           {
            "beak depth (mm)": 9.62,
            "beak length (mm)": 14.47
           },
           {
            "beak depth (mm)": 9.64,
            "beak length (mm)": 14.54
           },
           {
            "beak depth (mm)": 9.65,
            "beak length (mm)": 14.9
           },
           {
            "beak depth (mm)": 9.7,
            "beak length (mm)": 14.9
           },
           {
            "beak depth (mm)": 9.7,
            "beak length (mm)": 15.8
           },
           {
            "beak depth (mm)": 9.73,
            "beak length (mm)": 13.46
           },
           {
            "beak depth (mm)": 9.73,
            "beak length (mm)": 14.77
           },
           {
            "beak depth (mm)": 9.74,
            "beak length (mm)": 14.44
           },
           {
            "beak depth (mm)": 9.8,
            "beak length (mm)": 15.2
           },
           {
            "beak depth (mm)": 9.8,
            "beak length (mm)": 16
           },
           {
            "beak depth (mm)": 9.82,
            "beak length (mm)": 14.4
           },
           {
            "beak depth (mm)": 9.85,
            "beak length (mm)": 14.45
           },
           {
            "beak depth (mm)": 9.85,
            "beak length (mm)": 15.35
           },
           {
            "beak depth (mm)": 9.9,
            "beak length (mm)": 14.2
           },
           {
            "beak depth (mm)": 9.9,
            "beak length (mm)": 15.3
           },
           {
            "beak depth (mm)": 9.94,
            "beak length (mm)": 14.27
           },
           {
            "beak depth (mm)": 10,
            "beak length (mm)": 15.8
           },
           {
            "beak depth (mm)": 10.1,
            "beak length (mm)": 15.3
           },
           {
            "beak depth (mm)": 10.11,
            "beak length (mm)": 11.24
           },
           {
            "beak depth (mm)": 10.27,
            "beak length (mm)": 15.2
           },
           {
            "beak depth (mm)": 10.34,
            "beak length (mm)": 15.44
           },
           {
            "beak depth (mm)": 11.33,
            "beak length (mm)": 14.96
           }
          ]
         },
         "encoding": {
          "x": {
           "field": "beak length (mm)",
           "scale": {
            "zero": false
           },
           "type": "quantitative"
          },
          "y": {
           "field": "beak depth (mm)",
           "scale": {
            "zero": false
           },
           "type": "quantitative"
          }
         },
         "mark": "point"
        }
       ]
      },
      "image/png": "[encoded data removed]",
      "text/plain": [
       "<VegaLite 2 object>\n",
       "\n",
       "If you see this message, it means the renderer has not been properly enabled\n",
       "for the frontend that you are using. For more information, see\n",
       "https://altair-viz.github.io/user_guide/troubleshooting.html\n"
      ]
     },
     "execution_count": 34,
     "metadata": {},
     "output_type": "execute_result"
    }
   ],
   "source": [
    "df_conf = pd.DataFrame({'x': x, 'high': high, 'low': low})\n",
    "\n",
    "conf = alt.Chart(df_conf\n",
    "    ).mark_area(\n",
    "        color='orange',\n",
    "        opacity=0.3\n",
    "    ).encode(\n",
    "        x=alt.X('x:Q', title='beak length (mm)', scale=alt.Scale(zero=False)),\n",
    "        y=alt.Y('low:Q', title='beak depth (mm)', scale=alt.Scale(zero=False)),\n",
    "        y2=alt.Y2('high:Q')\n",
    "    )\n",
    "\n",
    "(conf + reg_line + dots)"
   ]
  },
  {
   "cell_type": "code",
   "execution_count": null,
   "metadata": {},
   "outputs": [],
   "source": []
  }
 ],
 "metadata": {
  "kernelspec": {
   "display_name": "Python 3",
   "language": "python",
   "name": "python3"
  },
  "language_info": {
   "codemirror_mode": {
    "name": "ipython",
    "version": 3
   },
   "file_extension": ".py",
   "mimetype": "text/x-python",
   "name": "python",
   "nbconvert_exporter": "python",
   "pygments_lexer": "ipython3",
   "version": "3.6.5"
  }
 },
 "nbformat": 4,
 "nbformat_minor": 2
}
