{
 "cells": [
  {
   "cell_type": "code",
   "execution_count": 4,
   "metadata": {},
   "outputs": [],
   "source": [
    "seq_a = 'ATACTGGAATTCAGC'\n",
    "seq_b = 'GATGAATTCACGAAGA'\n",
    "\n",
    "def LCS(seq_a,seq_b):\n",
    "    \"\"\"Finds longest common substring\"\"\"\n",
    "    if len(seq_a) > len(seq_b):\n",
    "        seq_a,seq_b=seq_b,seq_a\n",
    "    end = len(seq_a)\n",
    "    for i in range(end):\n",
    "        for start in range(i + 1):\n",
    "            if seq_a[start: end - i + start] in seq_b:\n",
    "                return(seq_a[start: end - i + start])\n",
    "\n",
    "                "
   ]
  },
  {
   "cell_type": "code",
   "execution_count": 11,
   "metadata": {},
   "outputs": [
    {
     "data": {
      "text/plain": [
       "'C'"
      ]
     },
     "execution_count": 11,
     "metadata": {},
     "output_type": "execute_result"
    }
   ],
   "source": [
    "seq_a[3: 4]"
   ]
  },
  {
   "cell_type": "code",
   "execution_count": 14,
   "metadata": {},
   "outputs": [
    {
     "data": {
      "text/plain": [
       "'GAATTCA'"
      ]
     },
     "execution_count": 14,
     "metadata": {},
     "output_type": "execute_result"
    }
   ],
   "source": [
    "LCS(seq_a,seq_b)"
   ]
  },
  {
   "cell_type": "code",
   "execution_count": 22,
   "metadata": {},
   "outputs": [
    {
     "data": {
      "text/plain": [
       "'KLANTLKRNGTLDAKSHFIOVDHXCVLZNFDLSANFLKDSGDFA'"
      ]
     },
     "execution_count": 22,
     "metadata": {},
     "output_type": "execute_result"
    }
   ],
   "source": [
    "LCS('AFSADFBDFZJKLANTLKRNGTLDAKSHFIOVDHXCVLZNFDLSANFLKDSGDFA','KLANTLKRNGTLDAKSHFIOVDHXCVLZNFDLSANFLKDSGDFA')"
   ]
  },
  {
   "cell_type": "code",
   "execution_count": 1,
   "metadata": {},
   "outputs": [],
   "source": [
    "def long_substring(seq1, seq2):\n",
    "    sub = (0, '')\n",
    "    for i, _ in enumerate(seq1):\n",
    "        for j, _ in enumerate(seq1[i:]):\n",
    "            if seq1[i:j+i+1] in seq2 and len(seq1[i:j+i+1]) > sub[0]:\n",
    "                sub = (len(seq1[i:(j+i+1)]), seq1[i:(i+j+1)])\n",
    "    return sub"
   ]
  },
  {
   "cell_type": "code",
   "execution_count": 5,
   "metadata": {},
   "outputs": [
    {
     "data": {
      "text/plain": [
       "(7, 'GAATTCA')"
      ]
     },
     "execution_count": 5,
     "metadata": {},
     "output_type": "execute_result"
    }
   ],
   "source": [
    "long_substring(seq_a, seq_b)"
   ]
  },
  {
   "cell_type": "code",
   "execution_count": null,
   "metadata": {},
   "outputs": [],
   "source": []
  },
  {
   "cell_type": "code",
   "execution_count": null,
   "metadata": {},
   "outputs": [],
   "source": []
  }
 ],
 "metadata": {
  "kernelspec": {
   "display_name": "Python 3",
   "language": "python",
   "name": "python3"
  },
  "language_info": {
   "codemirror_mode": {
    "name": "ipython",
    "version": 3
   },
   "file_extension": ".py",
   "mimetype": "text/x-python",
   "name": "python",
   "nbconvert_exporter": "python",
   "pygments_lexer": "ipython3",
   "version": "3.6.5"
  }
 },
 "nbformat": 4,
 "nbformat_minor": 2
}
