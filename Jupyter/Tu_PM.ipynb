{
 "cells": [
  {
   "cell_type": "markdown",
   "metadata": {},
   "source": [
    "Lesson 14: Testing and test-driven development\n"
   ]
  },
  {
   "cell_type": "code",
   "execution_count": 16,
   "metadata": {},
   "outputs": [],
   "source": [
    "def number_negatives(seq):\n",
    "    \"\"\"Determine number of negatively charged amino acids in a sequence\"\"\"\n",
    "    \n",
    "    seq = seq.upper()\n",
    "    \n",
    "    return seq.count('E') + seq.count('D')"
   ]
  },
  {
   "cell_type": "code",
   "execution_count": 2,
   "metadata": {},
   "outputs": [],
   "source": [
    "number_negatives('1241')"
   ]
  },
  {
   "cell_type": "code",
   "execution_count": 17,
   "metadata": {},
   "outputs": [
    {
     "name": "stdout",
     "output_type": "stream",
     "text": [
      "True\n",
      "True\n",
      "True\n",
      "True\n"
     ]
    }
   ],
   "source": [
    "#design a test before writing the function, this way we want to fix it so that that this comes back correct\n",
    "print(number_negatives('E') == 1)\n",
    "print(number_negatives('EEEEEAAAA') == 5)\n",
    "print(number_negatives('D') == 1) #Now we need to consider D, so we need to add a seq.count('D') \n",
    "print(number_negatives('adseds') == 3) #well, if we give in lowercase, we need to deal with it"
   ]
  },
  {
   "cell_type": "code",
   "execution_count": 20,
   "metadata": {},
   "outputs": [],
   "source": [
    "#Assert will perform the test and do nothing if it works, otherwise it will return an ugly error\n",
    "assert number_negatives('E') == 1\n",
    "assert number_negatives('EEEEEAAAA') == 5\n",
    "assert number_negatives('D') == 1\n",
    "assert number_negatives('adseds') == 3"
   ]
  },
  {
   "cell_type": "code",
   "execution_count": 21,
   "metadata": {},
   "outputs": [
    {
     "ename": "AssertionError",
     "evalue": "",
     "output_type": "error",
     "traceback": [
      "\u001b[0;31m---------------------------------------------------------------------------\u001b[0m",
      "\u001b[0;31mAssertionError\u001b[0m                            Traceback (most recent call last)",
      "\u001b[0;32m<ipython-input-21-aea07adb4436>\u001b[0m in \u001b[0;36m<module>\u001b[0;34m()\u001b[0m\n\u001b[1;32m      1\u001b[0m \u001b[0;31m#Assert will perform the test and do nothing if it works, otherwise it will return an ugly error\u001b[0m\u001b[0;34m\u001b[0m\u001b[0;34m\u001b[0m\u001b[0m\n\u001b[1;32m      2\u001b[0m \u001b[0;32massert\u001b[0m \u001b[0mnumber_negatives\u001b[0m\u001b[0;34m(\u001b[0m\u001b[0;34m'E'\u001b[0m\u001b[0;34m)\u001b[0m \u001b[0;34m==\u001b[0m \u001b[0;36m1\u001b[0m\u001b[0;34m\u001b[0m\u001b[0m\n\u001b[0;32m----> 3\u001b[0;31m \u001b[0;32massert\u001b[0m \u001b[0mnumber_negatives\u001b[0m\u001b[0;34m(\u001b[0m\u001b[0;34m'EEEEEAAAA'\u001b[0m\u001b[0;34m)\u001b[0m \u001b[0;34m==\u001b[0m \u001b[0;36m4\u001b[0m\u001b[0;34m\u001b[0m\u001b[0m\n\u001b[0m\u001b[1;32m      4\u001b[0m \u001b[0;32massert\u001b[0m \u001b[0mnumber_negatives\u001b[0m\u001b[0;34m(\u001b[0m\u001b[0;34m'D'\u001b[0m\u001b[0;34m)\u001b[0m \u001b[0;34m==\u001b[0m \u001b[0;36m1\u001b[0m\u001b[0;34m\u001b[0m\u001b[0m\n\u001b[1;32m      5\u001b[0m \u001b[0;32massert\u001b[0m \u001b[0mnumber_negatives\u001b[0m\u001b[0;34m(\u001b[0m\u001b[0;34m'adseds'\u001b[0m\u001b[0;34m)\u001b[0m \u001b[0;34m==\u001b[0m \u001b[0;36m3\u001b[0m\u001b[0;34m\u001b[0m\u001b[0m\n",
      "\u001b[0;31mAssertionError\u001b[0m: "
     ]
    }
   ],
   "source": [
    "#Assert will perform the test and do nothing if it works, otherwise it will return an ugly error\n",
    "assert number_negatives('E') == 1\n",
    "assert number_negatives('EEEEEAAAA') == 4\n",
    "assert number_negatives('D') == 1\n",
    "assert number_negatives('adseds') == 3"
   ]
  },
  {
   "cell_type": "code",
   "execution_count": 26,
   "metadata": {},
   "outputs": [],
   "source": [
    "#Assert will perform the test and do nothing if it works, otherwise it will return an ugly error\n",
    "def test_number_negatives():\n",
    "    \"\"\"Perform an assert test on number_negatives()\"\"\"\n",
    "    \n",
    "    assert number_negatives('E') == 1\n",
    "    assert number_negatives('EEEEEAAAA') == 5\n",
    "    assert number_negatives('D') == 1\n",
    "    assert number_negatives('adseds') == 3"
   ]
  },
  {
   "cell_type": "code",
   "execution_count": 23,
   "metadata": {},
   "outputs": [],
   "source": [
    "test_number_negatives()"
   ]
  },
  {
   "cell_type": "code",
   "execution_count": 24,
   "metadata": {},
   "outputs": [],
   "source": [
    "#Assert will perform the test and do nothing if it works, otherwise it will return an ugly error\n",
    "def test_number_negatives():\n",
    "    \"\"\"Perform an assert test on number_negatives()\"\"\"\n",
    "    \n",
    "    assert number_negatives('E') == 1\n",
    "    assert number_negatives('EEEEEAAAA') == 4\n",
    "    assert number_negatives('D') == 1\n",
    "    assert number_negatives('adseds') == 3"
   ]
  },
  {
   "cell_type": "code",
   "execution_count": 25,
   "metadata": {},
   "outputs": [
    {
     "ename": "AssertionError",
     "evalue": "",
     "output_type": "error",
     "traceback": [
      "\u001b[0;31m---------------------------------------------------------------------------\u001b[0m",
      "\u001b[0;31mAssertionError\u001b[0m                            Traceback (most recent call last)",
      "\u001b[0;32m<ipython-input-25-1310b305e8ad>\u001b[0m in \u001b[0;36m<module>\u001b[0;34m()\u001b[0m\n\u001b[0;32m----> 1\u001b[0;31m \u001b[0mtest_number_negatives\u001b[0m\u001b[0;34m(\u001b[0m\u001b[0;34m)\u001b[0m\u001b[0;34m\u001b[0m\u001b[0m\n\u001b[0m",
      "\u001b[0;32m<ipython-input-24-870fed05ef2b>\u001b[0m in \u001b[0;36mtest_number_negatives\u001b[0;34m()\u001b[0m\n\u001b[1;32m      4\u001b[0m \u001b[0;34m\u001b[0m\u001b[0m\n\u001b[1;32m      5\u001b[0m     \u001b[0;32massert\u001b[0m \u001b[0mnumber_negatives\u001b[0m\u001b[0;34m(\u001b[0m\u001b[0;34m'E'\u001b[0m\u001b[0;34m)\u001b[0m \u001b[0;34m==\u001b[0m \u001b[0;36m1\u001b[0m\u001b[0;34m\u001b[0m\u001b[0m\n\u001b[0;32m----> 6\u001b[0;31m     \u001b[0;32massert\u001b[0m \u001b[0mnumber_negatives\u001b[0m\u001b[0;34m(\u001b[0m\u001b[0;34m'EEEEEAAAA'\u001b[0m\u001b[0;34m)\u001b[0m \u001b[0;34m==\u001b[0m \u001b[0;36m4\u001b[0m\u001b[0;34m\u001b[0m\u001b[0m\n\u001b[0m\u001b[1;32m      7\u001b[0m     \u001b[0;32massert\u001b[0m \u001b[0mnumber_negatives\u001b[0m\u001b[0;34m(\u001b[0m\u001b[0;34m'D'\u001b[0m\u001b[0;34m)\u001b[0m \u001b[0;34m==\u001b[0m \u001b[0;36m1\u001b[0m\u001b[0;34m\u001b[0m\u001b[0m\n\u001b[1;32m      8\u001b[0m     \u001b[0;32massert\u001b[0m \u001b[0mnumber_negatives\u001b[0m\u001b[0;34m(\u001b[0m\u001b[0;34m'adseds'\u001b[0m\u001b[0;34m)\u001b[0m \u001b[0;34m==\u001b[0m \u001b[0;36m3\u001b[0m\u001b[0;34m\u001b[0m\u001b[0m\n",
      "\u001b[0;31mAssertionError\u001b[0m: "
     ]
    }
   ],
   "source": [
    "test_number_negatives()"
   ]
  },
  {
   "cell_type": "code",
   "execution_count": 27,
   "metadata": {},
   "outputs": [
    {
     "name": "stdout",
     "output_type": "stream",
     "text": [
      "\u001b[1m============================= test session starts ==============================\u001b[0m\n",
      "platform darwin -- Python 3.6.5, pytest-3.6.0, py-1.5.3, pluggy-0.6.0\n",
      "rootdir: /Users/michaelpiacentino/git/bootcamp/Jupyter, inifile:\n",
      "plugins: remotedata-0.3.0, openfiles-0.3.0, doctestplus-0.1.3, arraydiff-0.2\n",
      "collected 0 items                                                              \u001b[0m\n",
      "\n",
      "\u001b[33m\u001b[1m========================= no tests ran in 0.00 seconds =========================\u001b[0m\n"
     ]
    }
   ],
   "source": [
    "!pytest"
   ]
  },
  {
   "cell_type": "code",
   "execution_count": 28,
   "metadata": {},
   "outputs": [
    {
     "name": "stdout",
     "output_type": "stream",
     "text": [
      "\u001b[1m============================= test session starts ==============================\u001b[0m\n",
      "platform darwin -- Python 3.6.5, pytest-3.6.0, py-1.5.3, pluggy-0.6.0\n",
      "rootdir: /Users/michaelpiacentino/git/bootcamp/Jupyter, inifile:\n",
      "plugins: remotedata-0.3.0, openfiles-0.3.0, doctestplus-0.1.3, arraydiff-0.2\n",
      "collected 0 items                                                              \u001b[0m\n",
      "\n",
      "\u001b[33m\u001b[1m========================= no tests ran in 0.03 seconds =========================\u001b[0m\n"
     ]
    }
   ],
   "source": [
    "!pytest seq_features_and_tests.py"
   ]
  },
  {
   "cell_type": "code",
   "execution_count": 29,
   "metadata": {},
   "outputs": [
    {
     "name": "stdout",
     "output_type": "stream",
     "text": [
      "\u001b[1m============================= test session starts ==============================\u001b[0m\n",
      "platform darwin -- Python 3.6.5, pytest-3.6.0, py-1.5.3, pluggy-0.6.0\n",
      "rootdir: /Users/michaelpiacentino/git/bootcamp/Jupyter, inifile:\n",
      "plugins: remotedata-0.3.0, openfiles-0.3.0, doctestplus-0.1.3, arraydiff-0.2\n",
      "collected 1 item                                                               \u001b[0m\n",
      "\n",
      "seq_features_and_tests.py .\u001b[36m                                              [100%]\u001b[0m\n",
      "\n",
      "\u001b[32m\u001b[1m=========================== 1 passed in 0.03 seconds ===========================\u001b[0m\n"
     ]
    }
   ],
   "source": [
    "!pytest seq_features_and_tests.py"
   ]
  },
  {
   "cell_type": "code",
   "execution_count": 34,
   "metadata": {},
   "outputs": [
    {
     "name": "stdout",
     "output_type": "stream",
     "text": [
      "\u001b[1m============================= test session starts ==============================\u001b[0m\n",
      "platform darwin -- Python 3.6.5, pytest-3.6.0, py-1.5.3, pluggy-0.6.0 -- /anaconda3/bin/python\n",
      "cachedir: .pytest_cache\n",
      "rootdir: /Users/michaelpiacentino/git/bootcamp/Jupyter, inifile:\n",
      "plugins: remotedata-0.3.0, openfiles-0.3.0, doctestplus-0.1.3, arraydiff-0.2\n",
      "collected 3 items                                                              \u001b[0m\n",
      "\n",
      "seq_features_and_tests.py::test_number_negatives_single_aa \u001b[32mPASSED\u001b[0m\u001b[36m        [ 33%]\u001b[0m\n",
      "seq_features_and_tests.py::test_number_negatives_short_seq \u001b[32mPASSED\u001b[0m\u001b[36m        [ 66%]\u001b[0m\n",
      "seq_features_and_tests.py::test_number_negatives_lowercase \u001b[32mPASSED\u001b[0m\u001b[36m        [100%]\u001b[0m\n",
      "\n",
      "\u001b[32m\u001b[1m=========================== 3 passed in 0.04 seconds ===========================\u001b[0m\n"
     ]
    }
   ],
   "source": [
    "!pytest -v seq_features_and_tests.py #-v for verbose, get lots of info"
   ]
  },
  {
   "cell_type": "code",
   "execution_count": 39,
   "metadata": {},
   "outputs": [
    {
     "name": "stdout",
     "output_type": "stream",
     "text": [
      "\u001b[1m============================= test session starts ==============================\u001b[0m\n",
      "platform darwin -- Python 3.6.5, pytest-3.6.0, py-1.5.3, pluggy-0.6.0 -- /anaconda3/bin/python\n",
      "cachedir: .pytest_cache\n",
      "rootdir: /Users/michaelpiacentino/git/bootcamp/Jupyter, inifile:\n",
      "plugins: remotedata-0.3.0, openfiles-0.3.0, doctestplus-0.1.3, arraydiff-0.2\n",
      "collected 3 items                                                              \u001b[0m\n",
      "\n",
      "seq_features_and_tests.py::test_number_negatives_single_aa \u001b[32mPASSED\u001b[0m\u001b[36m        [ 33%]\u001b[0m\n",
      "seq_features_and_tests.py::test_number_negatives_short_seq \u001b[32mPASSED\u001b[0m\u001b[36m        [ 66%]\u001b[0m\n",
      "seq_features_and_tests.py::test_number_negatives_lowercase \u001b[32mPASSED\u001b[0m\u001b[36m        [100%]\u001b[0m\n",
      "\n",
      "\u001b[32m\u001b[1m=========================== 3 passed in 0.01 seconds ===========================\u001b[0m\n"
     ]
    }
   ],
   "source": [
    "!pytest -v seq_features_and_tests.py #! in front of a program in Jupyter lab tell this to run as if it's coming from the terminal"
   ]
  },
  {
   "cell_type": "markdown",
   "metadata": {},
   "source": [
    "\n",
    "###\n",
    "###\n",
    "###\n",
    "###\n",
    "Lesson 15: Pytest and practicing TDD\n",
    "###\n",
    "###\n",
    "###\n",
    "###\n",
    "\n"
   ]
  },
  {
   "cell_type": "code",
   "execution_count": 42,
   "metadata": {},
   "outputs": [
    {
     "name": "stdout",
     "output_type": "stream",
     "text": [
      "\u001b[1m============================= test session starts ==============================\u001b[0m\n",
      "platform darwin -- Python 3.6.5, pytest-3.6.0, py-1.5.3, pluggy-0.6.0 -- /anaconda3/bin/python\n",
      "cachedir: .pytest_cache\n",
      "rootdir: /Users/michaelpiacentino/git/bootcamp/Jupyter, inifile:\n",
      "plugins: remotedata-0.3.0, openfiles-0.3.0, doctestplus-0.1.3, arraydiff-0.2\n",
      "collected 8 items                                                              \u001b[0m\n",
      "\n",
      "test_seq_features.py::test_number_negatives_single_aa \u001b[32mPASSED\u001b[0m\u001b[36m             [ 12%]\u001b[0m\n",
      "test_seq_features.py::test_number_negatives_short_seqs \u001b[32mPASSED\u001b[0m\u001b[36m            [ 25%]\u001b[0m\n",
      "test_seq_features.py::test_number_negatives_lowercase \u001b[32mPASSED\u001b[0m\u001b[36m             [ 37%]\u001b[0m\n",
      "test_seq_features.py::test_number_negatives_invalid_amino_acid \u001b[32mPASSED\u001b[0m\u001b[36m    [ 50%]\u001b[0m\n",
      "test_seq_features.py::test_number_positives_single_aa \u001b[32mPASSED\u001b[0m\u001b[36m             [ 62%]\u001b[0m\n",
      "test_seq_features.py::test_number_positives_short_seqs \u001b[32mPASSED\u001b[0m\u001b[36m            [ 75%]\u001b[0m\n",
      "test_seq_features.py::test_number_positives_lowercase \u001b[32mPASSED\u001b[0m\u001b[36m             [ 87%]\u001b[0m\n",
      "test_seq_features.py::test_number_positives_invalid_amino_acid \u001b[32mPASSED\u001b[0m\u001b[36m    [100%]\u001b[0m\n",
      "\n",
      "\u001b[32m\u001b[1m=========================== 8 passed in 0.43 seconds ===========================\u001b[0m\n"
     ]
    }
   ],
   "source": [
    "!pytest -v"
   ]
  },
  {
   "cell_type": "markdown",
   "metadata": {},
   "source": [
    "\n",
    "###\n",
    "###\n",
    "###\n",
    "###\n",
    "Lesson 16: File I/O\n",
    "###\n",
    "###\n",
    "###\n",
    "###\n",
    "\n"
   ]
  },
  {
   "cell_type": "code",
   "execution_count": 44,
   "metadata": {},
   "outputs": [],
   "source": [
    "#remember, always close your file when you're done with it!"
   ]
  },
  {
   "cell_type": "code",
   "execution_count": null,
   "metadata": {},
   "outputs": [],
   "source": []
  }
 ],
 "metadata": {
  "kernelspec": {
   "display_name": "Python 3",
   "language": "python",
   "name": "python3"
  },
  "language_info": {
   "codemirror_mode": {
    "name": "ipython",
    "version": 3
   },
   "file_extension": ".py",
   "mimetype": "text/x-python",
   "name": "python",
   "nbconvert_exporter": "python",
   "pygments_lexer": "ipython3",
   "version": "3.6.5"
  }
 },
 "nbformat": 4,
 "nbformat_minor": 2
}
