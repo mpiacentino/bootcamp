{
 "cells": [
  {
   "cell_type": "code",
   "execution_count": 1,
   "metadata": {},
   "outputs": [],
   "source": [
    "seq = 'GCAUCUAUGC'\n",
    "struc = '(((....)))'"
   ]
  },
  {
   "cell_type": "code",
   "execution_count": 2,
   "metadata": {},
   "outputs": [
    {
     "data": {
      "text/plain": [
       "'(((....)))'"
      ]
     },
     "execution_count": 2,
     "metadata": {},
     "output_type": "execute_result"
    }
   ],
   "source": [
    "struc"
   ]
  },
  {
   "cell_type": "code",
   "execution_count": 2,
   "metadata": {},
   "outputs": [],
   "source": [
    "def parentheses(struc):\n",
    "    \"\"\"Check if the open and closed parentheses are equal\"\"\"\n",
    "    "
   ]
  },
  {
   "cell_type": "code",
   "execution_count": null,
   "metadata": {},
   "outputs": [],
   "source": [
    "#Convert parentheses-dot notation to a tuple\n"
   ]
  },
  {
   "cell_type": "code",
   "execution_count": 3,
   "metadata": {},
   "outputs": [
    {
     "ename": "SyntaxError",
     "evalue": "unexpected EOF while parsing (<ipython-input-3-63ebce18e822>, line 2)",
     "output_type": "error",
     "traceback": [
      "\u001b[0;36m  File \u001b[0;32m\"<ipython-input-3-63ebce18e822>\"\u001b[0;36m, line \u001b[0;32m2\u001b[0m\n\u001b[0;31m    \u001b[0m\n\u001b[0m    ^\u001b[0m\n\u001b[0;31mSyntaxError\u001b[0m\u001b[0;31m:\u001b[0m unexpected EOF while parsing\n"
     ]
    }
   ],
   "source": [
    "def rna_ss_validator(seq, sec_struc, wobble=True):\n",
    "    "
   ]
  },
  {
   "cell_type": "code",
   "execution_count": 4,
   "metadata": {},
   "outputs": [],
   "source": [
    "def dotparen_to_bp(rna):\n",
    "    \"\"\"This function takes a dotparen hairpin representation and outputs a tuple of tuples of the paired ase indicies.\"\"\"\n",
    "    \n",
    "    seq, rep = rna\n",
    "    \n",
    "    if not check_paren(rna):\n",
    "        print('Error, mismatched number of parentheses.')\n",
    "    else:\n",
    "        #grab index of all (\n",
    "        open_inds = [i for i, ltr in enumerate(rep) if ltr == '(']\n",
    "        #grab index of all )\n",
    "        closed_inds = [i for i, ltr in enumerate(rep) if ltr == ')']\n",
    "        \n",
    "        #take reverse of list of )\n",
    "        closed_inds.reverse()\n",
    "        \n",
    "        #zip the two lists\n",
    "        out = []\n",
    "        for op, cl in zip(open_inds, closed_inds):\n",
    "            out.append((op,cl))\n",
    "            \n",
    "        return tuple(out)"
   ]
  },
  {
   "cell_type": "code",
   "execution_count": null,
   "metadata": {},
   "outputs": [],
   "source": [
    "def hairpin_check(bps_tuple, debug = False):\n",
    "    min_pin = 4\n",
    "    inner_start = bps)tuple[-1][0]\n",
    "    inner_end = bps_tuple[-1][1]\n",
    "    hairpin_len = inner_end - inner_start\n",
    "    if hairpin_len >= min_pin:\n",
    "        return True\n",
    "    ............"
   ]
  }
 ],
 "metadata": {
  "kernelspec": {
   "display_name": "Python 3",
   "language": "python",
   "name": "python3"
  },
  "language_info": {
   "codemirror_mode": {
    "name": "ipython",
    "version": 3
   },
   "file_extension": ".py",
   "mimetype": "text/x-python",
   "name": "python",
   "nbconvert_exporter": "python",
   "pygments_lexer": "ipython3",
   "version": "3.6.5"
  }
 },
 "nbformat": 4,
 "nbformat_minor": 2
}
