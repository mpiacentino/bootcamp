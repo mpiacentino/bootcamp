{
 "cells": [
  {
   "cell_type": "markdown",
   "metadata": {},
   "source": [
    "# Lesson 37: Practice with pairs bootstrap and Bokeh\n",
    "\n",
    "(c) 2018 Justin Bois. With the exception of pasted graphics, where the source is noted, this work is licensed under a [Creative Commons Attribution License CC-BY 4.0](https://creativecommons.org/licenses/by/4.0/). All code contained herein is licensed under an [MIT license](https://opensource.org/licenses/MIT).\n",
    "\n",
    "This document was prepared at [Caltech](http://www.caltech.edu) with financial support from the [Donna and Benjamin M. Rosen Bioengineering Center](http://rosen.caltech.edu).\n",
    "\n",
    "<img src=\"caltech_rosen.png\">\n",
    "\n",
    "*This lwaaon was generated from a Jupyter notebook.  You can download the notebook [here](l37_practice_with_pairs_bs_and_bokeh.ipynb).*\n",
    "\n",
    "<br /><br />"
   ]
  },
  {
   "cell_type": "markdown",
   "metadata": {},
   "source": [
    "## Practice 1: Heritability\n",
    "\n",
    "The **heritability** of a trait in a sexually reproducing animal is defined as follows.\n",
    "1. For a given pair of parent, take the mean value of the trait. Call this the parental trait.\n",
    "2. Take the mean value of the trait of all of the offspring of the two parents. Call this the offspring trait.\n",
    "3. Do this for all parental/offspring pairs.\n",
    "4. The **heritability** is defined as the ratio of the covariance between the parental and offspring traits to the variance of the parental traits.\n",
    "\n",
    "Compute the heritability of beak depth for both *G. fortis* and *G. scandens* from a Grant and Grant data set. The data are contained in `~data/grant_heredity.csv` (you will likely need to `git pull upstream master`). Then, use pairs bootstrap to get a confidence interval for the heritability of beak depth for each species."
   ]
  },
  {
   "cell_type": "markdown",
   "metadata": {},
   "source": [
    "<br />"
   ]
  },
  {
   "cell_type": "markdown",
   "metadata": {},
   "source": [
    "## Practice 2: Plotting with Bokeh\n",
    "\n",
    "The `bootcamp_utils` module has several convenient functions for making plots with Bokeh. To make sure you have the updated version installed, you should\n",
    "\n",
    "    git pull upstream master\n",
    "    \n",
    "You should then `cd` into the `~/git/bootcamp/modules` directory and do\n",
    "\n",
    "    pip install -e bootcamp_utils\n",
    "    \n",
    "You should then restart the kernel of your Jupyter notebook.\n",
    "\n",
    "To find out what is available, you can try tab completion after typing `bootcamp_utils.bokeh_`. Then, read the doc strings of the plotting functions, and play around with them. You can use any of the data sets we've used in the bootcamp, but the Darwin finch data set or the frog data set will probably be best."
   ]
  }
 ],
 "metadata": {
  "anaconda-cloud": {},
  "kernelspec": {
   "display_name": "Python 3",
   "language": "python",
   "name": "python3"
  },
  "language_info": {
   "codemirror_mode": {
    "name": "ipython",
    "version": 3
   },
   "file_extension": ".py",
   "mimetype": "text/x-python",
   "name": "python",
   "nbconvert_exporter": "python",
   "pygments_lexer": "ipython3",
   "version": "3.6.5"
  }
 },
 "nbformat": 4,
 "nbformat_minor": 2
}
