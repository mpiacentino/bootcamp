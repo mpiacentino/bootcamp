{
 "cells": [
  {
   "cell_type": "markdown",
   "metadata": {},
   "source": [
    "# Lesson 35: Pairs bootstrap\n",
    "\n",
    "(c) 2018 Justin Bois. With the exception of pasted graphics, where the source is noted, this work is licensed under a [Creative Commons Attribution License CC-BY 4.0](https://creativecommons.org/licenses/by/4.0/). All code contained herein is licensed under an [MIT license](https://opensource.org/licenses/MIT).\n",
    "\n",
    "This document was prepared at [Caltech](http://www.caltech.edu) with financial support from the [Donna and Benjamin M. Rosen Bioengineering Center](http://rosen.caltech.edu).\n",
    "\n",
    "<img src=\"caltech_rosen.png\">\n",
    "\n",
    "*This lesson was generated from a Jupyter notebook.  You can download the notebook [here](l35_pairs_bootstrap.ipynb).*\n",
    "\n",
    "<br /><br />"
   ]
  },
  {
   "cell_type": "code",
   "execution_count": 1,
   "metadata": {
    "collapsed": false
   },
   "outputs": [],
   "source": [
    "import numpy as np\n",
    "import pandas as pd\n",
    "\n",
    "import altair as alt"
   ]
  },
  {
   "cell_type": "markdown",
   "metadata": {},
   "source": [
    "## Confidence intervals on regression parameters\n",
    "\n",
    "In the last lesson, we computed the parameters that result in the best fit of a theoretical function to data. Now we turn to the problem of computing the confidence intervals of these parameters using **pairs bootstrap**. The idea is simple. We sample (*x*, *y*) data *in pairs* to get a bootstrap sample. We obtain a bootstrap replicate of the parameter values by performing the regression again on the bootstrap sample. We do this again and again to eventually get a confidence interval.\n",
    "\n",
    "There are alternative methods, such as **wild bootstrap** and **residual bootstrap**, but we will use pairs bootstrap here."
   ]
  },
  {
   "cell_type": "markdown",
   "metadata": {},
   "source": [
    "## The data set\n",
    "\n",
    "For this analysis, we will again turn to the Darwin finch data set. We consider the data *G. scandens* beak length and depth from 1987. Let's load and take a quick look at the data."
   ]
  },
  {
   "cell_type": "code",
   "execution_count": 2,
   "metadata": {},
   "outputs": [
    {
     "data": {
      "application/vnd.vegalite.v2+json": {
       "$schema": "https://vega.github.io/schema/vega-lite/v2.4.3.json",
       "config": {
        "view": {
         "height": 300,
         "width": 400
        }
       },
       "data": {
        "values": [
         {
          "beak depth (mm)": 7.77,
          "beak length (mm)": 10.75
         },
         {
          "beak depth (mm)": 7.94,
          "beak length (mm)": 13.73
         },
         {
          "beak depth (mm)": 7.96,
          "beak length (mm)": 14.04
         },
         {
          "beak depth (mm)": 8,
          "beak length (mm)": 12.5
         },
         {
          "beak depth (mm)": 8.01,
          "beak length (mm)": 12.64
         },
         {
          "beak depth (mm)": 8.23,
          "beak length (mm)": 12.66
         },
         {
          "beak depth (mm)": 8.3,
          "beak length (mm)": 13
         },
         {
          "beak depth (mm)": 8.36,
          "beak length (mm)": 13.15
         },
         {
          "beak depth (mm)": 8.37,
          "beak length (mm)": 13.96
         },
         {
          "beak depth (mm)": 8.4,
          "beak length (mm)": 13.15
         },
         {
          "beak depth (mm)": 8.4,
          "beak length (mm)": 13.7
         },
         {
          "beak depth (mm)": 8.4,
          "beak length (mm)": 14
         },
         {
          "beak depth (mm)": 8.41,
          "beak length (mm)": 13.43
         },
         {
          "beak depth (mm)": 8.5,
          "beak length (mm)": 14
         },
         {
          "beak depth (mm)": 8.5,
          "beak length (mm)": 14.9
         },
         {
          "beak depth (mm)": 8.6,
          "beak length (mm)": 13.6
         },
         {
          "beak depth (mm)": 8.6,
          "beak length (mm)": 13.8
         },
         {
          "beak depth (mm)": 8.6,
          "beak length (mm)": 14.9
         },
         {
          "beak depth (mm)": 8.61,
          "beak length (mm)": 13.94
         },
         {
          "beak depth (mm)": 8.67,
          "beak length (mm)": 14.81
         },
         {
          "beak depth (mm)": 8.7,
          "beak length (mm)": 12.5
         },
         {
          "beak depth (mm)": 8.7,
          "beak length (mm)": 13.75
         },
         {
          "beak depth (mm)": 8.7,
          "beak length (mm)": 14
         },
         {
          "beak depth (mm)": 8.7,
          "beak length (mm)": 14.5
         },
         {
          "beak depth (mm)": 8.7,
          "beak length (mm)": 14.7
         },
         {
          "beak depth (mm)": 8.72,
          "beak length (mm)": 14.05
         },
         {
          "beak depth (mm)": 8.72,
          "beak length (mm)": 14.17
         },
         {
          "beak depth (mm)": 8.77,
          "beak length (mm)": 15.07
         },
         {
          "beak depth (mm)": 8.8,
          "beak length (mm)": 11.5
         },
         {
          "beak depth (mm)": 8.8,
          "beak length (mm)": 13.5
         },
         {
          "beak depth (mm)": 8.8,
          "beak length (mm)": 13.87
         },
         {
          "beak depth (mm)": 8.8,
          "beak length (mm)": 14.9
         },
         {
          "beak depth (mm)": 8.81,
          "beak length (mm)": 12.34
         },
         {
          "beak depth (mm)": 8.81,
          "beak length (mm)": 14.34
         },
         {
          "beak depth (mm)": 8.87,
          "beak length (mm)": 15.07
         },
         {
          "beak depth (mm)": 8.88,
          "beak length (mm)": 14.01
         },
         {
          "beak depth (mm)": 8.89,
          "beak length (mm)": 12.86
         },
         {
          "beak depth (mm)": 8.9,
          "beak length (mm)": 13.6
         },
         {
          "beak depth (mm)": 8.9,
          "beak length (mm)": 13.8
         },
         {
          "beak depth (mm)": 8.9,
          "beak length (mm)": 13.85
         },
         {
          "beak depth (mm)": 8.9,
          "beak length (mm)": 13.9
         },
         {
          "beak depth (mm)": 8.9,
          "beak length (mm)": 14.1
         },
         {
          "beak depth (mm)": 8.9,
          "beak length (mm)": 14.1
         },
         {
          "beak depth (mm)": 8.9,
          "beak length (mm)": 14.2
         },
         {
          "beak depth (mm)": 8.9,
          "beak length (mm)": 14.3
         },
         {
          "beak depth (mm)": 8.9,
          "beak length (mm)": 14.9
         },
         {
          "beak depth (mm)": 8.91,
          "beak length (mm)": 13.84
         },
         {
          "beak depth (mm)": 8.91,
          "beak length (mm)": 14.09
         },
         {
          "beak depth (mm)": 8.92,
          "beak length (mm)": 14.05
         },
         {
          "beak depth (mm)": 8.93,
          "beak length (mm)": 14.15
         },
         {
          "beak depth (mm)": 8.93,
          "beak length (mm)": 14.25
         },
         {
          "beak depth (mm)": 8.95,
          "beak length (mm)": 13.6
         },
         {
          "beak depth (mm)": 8.95,
          "beak length (mm)": 14.57
         },
         {
          "beak depth (mm)": 8.96,
          "beak length (mm)": 11.89
         },
         {
          "beak depth (mm)": 8.97,
          "beak length (mm)": 13.8
         },
         {
          "beak depth (mm)": 8.97,
          "beak length (mm)": 14.21
         },
         {
          "beak depth (mm)": 8.99,
          "beak length (mm)": 14.76
         },
         {
          "beak depth (mm)": 9,
          "beak length (mm)": 12.07
         },
         {
          "beak depth (mm)": 9,
          "beak length (mm)": 13.9
         },
         {
          "beak depth (mm)": 9,
          "beak length (mm)": 14.1
         },
         {
          "beak depth (mm)": 9,
          "beak length (mm)": 14.3
         },
         {
          "beak depth (mm)": 9,
          "beak length (mm)": 14.95
         },
         {
          "beak depth (mm)": 9.01,
          "beak length (mm)": 14.34
         },
         {
          "beak depth (mm)": 9.02,
          "beak length (mm)": 13.84
         },
         {
          "beak depth (mm)": 9.02,
          "beak length (mm)": 14.04
         },
         {
          "beak depth (mm)": 9.02,
          "beak length (mm)": 14.14
         },
         {
          "beak depth (mm)": 9.03,
          "beak length (mm)": 12.56
         },
         {
          "beak depth (mm)": 9.04,
          "beak length (mm)": 15.14
         },
         {
          "beak depth (mm)": 9.05,
          "beak length (mm)": 14.35
         },
         {
          "beak depth (mm)": 9.05,
          "beak length (mm)": 14.85
         },
         {
          "beak depth (mm)": 9.06,
          "beak length (mm)": 14.04
         },
         {
          "beak depth (mm)": 9.1,
          "beak length (mm)": 14.2
         },
         {
          "beak depth (mm)": 9.1,
          "beak length (mm)": 14.3
         },
         {
          "beak depth (mm)": 9.1,
          "beak length (mm)": 14.5
         },
         {
          "beak depth (mm)": 9.1,
          "beak length (mm)": 14.5
         },
         {
          "beak depth (mm)": 9.1,
          "beak length (mm)": 14.6
         },
         {
          "beak depth (mm)": 9.1,
          "beak length (mm)": 15
         },
         {
          "beak depth (mm)": 9.13,
          "beak length (mm)": 13.6
         },
         {
          "beak depth (mm)": 9.13,
          "beak length (mm)": 14.65
         },
         {
          "beak depth (mm)": 9.14,
          "beak length (mm)": 14.03
         },
         {
          "beak depth (mm)": 9.18,
          "beak length (mm)": 14.16
         },
         {
          "beak depth (mm)": 9.2,
          "beak length (mm)": 13.83
         },
         {
          "beak depth (mm)": 9.2,
          "beak length (mm)": 14.2
         },
         {
          "beak depth (mm)": 9.2,
          "beak length (mm)": 14.35
         },
         {
          "beak depth (mm)": 9.2,
          "beak length (mm)": 14.45
         },
         {
          "beak depth (mm)": 9.21,
          "beak length (mm)": 14.64
         },
         {
          "beak depth (mm)": 9.21,
          "beak length (mm)": 15.04
         },
         {
          "beak depth (mm)": 9.22,
          "beak length (mm)": 13.9
         },
         {
          "beak depth (mm)": 9.24,
          "beak length (mm)": 14.34
         },
         {
          "beak depth (mm)": 9.24,
          "beak length (mm)": 14.53
         },
         {
          "beak depth (mm)": 9.25,
          "beak length (mm)": 14.2
         },
         {
          "beak depth (mm)": 9.25,
          "beak length (mm)": 14.85
         },
         {
          "beak depth (mm)": 9.25,
          "beak length (mm)": 15.1
         },
         {
          "beak depth (mm)": 9.25,
          "beak length (mm)": 15.2
         },
         {
          "beak depth (mm)": 9.26,
          "beak length (mm)": 13.5
         },
         {
          "beak depth (mm)": 9.26,
          "beak length (mm)": 14.95
         },
         {
          "beak depth (mm)": 9.28,
          "beak length (mm)": 13.83
         },
         {
          "beak depth (mm)": 9.28,
          "beak length (mm)": 13.95
         },
         {
          "beak depth (mm)": 9.28,
          "beak length (mm)": 15.09
         },
         {
          "beak depth (mm)": 9.3,
          "beak length (mm)": 13.43
         },
         {
          "beak depth (mm)": 9.3,
          "beak length (mm)": 13.7
         },
         {
          "beak depth (mm)": 9.3,
          "beak length (mm)": 14
         },
         {
          "beak depth (mm)": 9.3,
          "beak length (mm)": 14.15
         },
         {
          "beak depth (mm)": 9.3,
          "beak length (mm)": 14.75
         },
         {
          "beak depth (mm)": 9.3,
          "beak length (mm)": 14.9
         },
         {
          "beak depth (mm)": 9.3,
          "beak length (mm)": 15
         },
         {
          "beak depth (mm)": 9.32,
          "beak length (mm)": 13.56
         },
         {
          "beak depth (mm)": 9.33,
          "beak length (mm)": 14.26
         },
         {
          "beak depth (mm)": 9.34,
          "beak length (mm)": 13.83
         },
         {
          "beak depth (mm)": 9.34,
          "beak length (mm)": 14.53
         },
         {
          "beak depth (mm)": 9.34,
          "beak length (mm)": 14.84
         },
         {
          "beak depth (mm)": 9.35,
          "beak length (mm)": 15
         },
         {
          "beak depth (mm)": 9.37,
          "beak length (mm)": 13.76
         },
         {
          "beak depth (mm)": 9.37,
          "beak length (mm)": 13.9
         },
         {
          "beak depth (mm)": 9.37,
          "beak length (mm)": 14.29
         },
         {
          "beak depth (mm)": 9.37,
          "beak length (mm)": 14.63
         },
         {
          "beak depth (mm)": 9.38,
          "beak length (mm)": 14.3
         },
         {
          "beak depth (mm)": 9.4,
          "beak length (mm)": 13.6
         },
         {
          "beak depth (mm)": 9.4,
          "beak length (mm)": 14.4
         },
         {
          "beak depth (mm)": 9.4,
          "beak length (mm)": 14.9
         },
         {
          "beak depth (mm)": 9.4,
          "beak length (mm)": 14.9
         },
         {
          "beak depth (mm)": 9.42,
          "beak length (mm)": 14.34
         },
         {
          "beak depth (mm)": 9.43,
          "beak length (mm)": 14.53
         },
         {
          "beak depth (mm)": 9.45,
          "beak length (mm)": 14.65
         },
         {
          "beak depth (mm)": 9.5,
          "beak length (mm)": 14.8
         },
         {
          "beak depth (mm)": 9.5,
          "beak length (mm)": 16
         },
         {
          "beak depth (mm)": 9.51,
          "beak length (mm)": 13.14
         },
         {
          "beak depth (mm)": 9.51,
          "beak length (mm)": 14.44
         },
         {
          "beak depth (mm)": 9.52,
          "beak length (mm)": 12.73
         },
         {
          "beak depth (mm)": 9.54,
          "beak length (mm)": 15.04
         },
         {
          "beak depth (mm)": 9.55,
          "beak length (mm)": 14.85
         },
         {
          "beak depth (mm)": 9.6,
          "beak length (mm)": 14.2
         },
         {
          "beak depth (mm)": 9.6,
          "beak length (mm)": 15.2
         },
         {
          "beak depth (mm)": 9.6,
          "beak length (mm)": 16
         },
         {
          "beak depth (mm)": 9.62,
          "beak length (mm)": 14.47
         },
         {
          "beak depth (mm)": 9.64,
          "beak length (mm)": 14.54
         },
         {
          "beak depth (mm)": 9.65,
          "beak length (mm)": 14.9
         },
         {
          "beak depth (mm)": 9.7,
          "beak length (mm)": 14.9
         },
         {
          "beak depth (mm)": 9.7,
          "beak length (mm)": 15.8
         },
         {
          "beak depth (mm)": 9.73,
          "beak length (mm)": 13.46
         },
         {
          "beak depth (mm)": 9.73,
          "beak length (mm)": 14.77
         },
         {
          "beak depth (mm)": 9.74,
          "beak length (mm)": 14.44
         },
         {
          "beak depth (mm)": 9.8,
          "beak length (mm)": 15.2
         },
         {
          "beak depth (mm)": 9.8,
          "beak length (mm)": 16
         },
         {
          "beak depth (mm)": 9.82,
          "beak length (mm)": 14.4
         },
         {
          "beak depth (mm)": 9.85,
          "beak length (mm)": 14.45
         },
         {
          "beak depth (mm)": 9.85,
          "beak length (mm)": 15.35
         },
         {
          "beak depth (mm)": 9.9,
          "beak length (mm)": 14.2
         },
         {
          "beak depth (mm)": 9.9,
          "beak length (mm)": 15.3
         },
         {
          "beak depth (mm)": 9.94,
          "beak length (mm)": 14.27
         },
         {
          "beak depth (mm)": 10,
          "beak length (mm)": 15.8
         },
         {
          "beak depth (mm)": 10.1,
          "beak length (mm)": 15.3
         },
         {
          "beak depth (mm)": 10.11,
          "beak length (mm)": 11.24
         },
         {
          "beak depth (mm)": 10.27,
          "beak length (mm)": 15.2
         },
         {
          "beak depth (mm)": 10.34,
          "beak length (mm)": 15.44
         },
         {
          "beak depth (mm)": 11.33,
          "beak length (mm)": 14.96
         }
        ]
       },
       "encoding": {
        "x": {
         "field": "beak length (mm)",
         "scale": {
          "zero": false
         },
         "type": "quantitative"
        },
        "y": {
         "field": "beak depth (mm)",
         "scale": {
          "zero": false
         },
         "type": "quantitative"
        }
       },
       "mark": "point"
      },
      "image/png": "[encoded data removed]",
      "text/plain": [
       "<VegaLite 2 object>\n",
       "\n",
       "If you see this message, it means the renderer has not been properly enabled\n",
       "for the frontend that you are using. For more information, see\n",
       "https://altair-viz.github.io/user_guide/troubleshooting.html\n"
      ]
     },
     "execution_count": 2,
     "metadata": {},
     "output_type": "execute_result"
    }
   ],
   "source": [
    "# Load data frame and only keep what we need\n",
    "df = pd.read_csv('data/grant_complete.csv', comment='#')\n",
    "df = df.loc[df['year']==1987, :]\n",
    "df = df.drop_duplicates(subset=['band'])\n",
    "df = df.loc[df['species']=='scandens', ['beak length (mm)', 'beak depth (mm)']]\n",
    "\n",
    "# Make a plot\n",
    "dots = alt.Chart(df\n",
    "    ).mark_point(\n",
    "    ).encode(\n",
    "        x=alt.X('beak length (mm):Q', scale=alt.Scale(zero=False)),\n",
    "        y=alt.Y('beak depth (mm):Q', scale=alt.Scale(zero=False)),\n",
    "    )\n",
    "\n",
    "dots"
   ]
  },
  {
   "cell_type": "markdown",
   "metadata": {},
   "source": [
    "## Linear regression\n",
    "\n",
    "Beak depth and beak length might be linearly related, so we can perform a linear regression. We can use `np.polyfit()` as a shortcut for doing linear regression. This data to a polynomial of any degree (including degree 1, which is for a linear regression). Let's get the slope and intercept from a linear regression of these data. Before we do that, we'll bust the beak length and depth data out of the data frame as Numpy arrays, since we'll need to do that for speed later when we do the bootstrapping."
   ]
  },
  {
   "cell_type": "code",
   "execution_count": 3,
   "metadata": {},
   "outputs": [
    {
     "data": {
      "text/plain": [
       "(0.262258885049905, 5.416852701227372)"
      ]
     },
     "execution_count": 3,
     "metadata": {},
     "output_type": "execute_result"
    }
   ],
   "source": [
    "# Pull out beak length and depth\n",
    "beak_length = df['beak length (mm)'].values\n",
    "beak_depth = df['beak depth (mm)'].values\n",
    "\n",
    "# Do linear regression\n",
    "slope, intercept = np.polyfit(beak_length, beak_depth, deg=1)\n",
    "\n",
    "# Take a look\n",
    "slope, intercept"
   ]
  },
  {
   "cell_type": "markdown",
   "metadata": {},
   "source": [
    "So, we have a slope of about 0.26 and an intercept of about 5.3 mm. We can plot the resulting regression line along with the data"
   ]
  },
  {
   "cell_type": "code",
   "execution_count": 4,
   "metadata": {},
   "outputs": [
    {
     "data": {
      "application/vnd.vegalite.v2+json": {
       "$schema": "https://vega.github.io/schema/vega-lite/v2.4.3.json",
       "config": {
        "view": {
         "height": 300,
         "width": 400
        }
       },
       "layer": [
        {
         "data": {
          "values": [
           {
            "x": 10.5,
            "y": 8.170570994251374
           },
           {
            "x": 16.5,
            "y": 9.744124304550805
           }
          ]
         },
         "encoding": {
          "x": {
           "field": "x",
           "scale": {
            "zero": false
           },
           "title": "beak length (mm)",
           "type": "quantitative"
          },
          "y": {
           "field": "y",
           "scale": {
            "zero": false
           },
           "title": "beak depth (mm)",
           "type": "quantitative"
          }
         },
         "mark": {
          "color": "orange",
          "size": 3,
          "type": "line"
         }
        },
        {
         "data": {
          "values": [
           {
            "beak depth (mm)": 7.77,
            "beak length (mm)": 10.75
           },
           {
            "beak depth (mm)": 7.94,
            "beak length (mm)": 13.73
           },
           {
            "beak depth (mm)": 7.96,
            "beak length (mm)": 14.04
           },
           {
            "beak depth (mm)": 8,
            "beak length (mm)": 12.5
           },
           {
            "beak depth (mm)": 8.01,
            "beak length (mm)": 12.64
           },
           {
            "beak depth (mm)": 8.23,
            "beak length (mm)": 12.66
           },
           {
            "beak depth (mm)": 8.3,
            "beak length (mm)": 13
           },
           {
            "beak depth (mm)": 8.36,
            "beak length (mm)": 13.15
           },
           {
            "beak depth (mm)": 8.37,
            "beak length (mm)": 13.96
           },
           {
            "beak depth (mm)": 8.4,
            "beak length (mm)": 13.15
           },
           {
            "beak depth (mm)": 8.4,
            "beak length (mm)": 13.7
           },
           {
            "beak depth (mm)": 8.4,
            "beak length (mm)": 14
           },
           {
            "beak depth (mm)": 8.41,
            "beak length (mm)": 13.43
           },
           {
            "beak depth (mm)": 8.5,
            "beak length (mm)": 14
           },
           {
            "beak depth (mm)": 8.5,
            "beak length (mm)": 14.9
           },
           {
            "beak depth (mm)": 8.6,
            "beak length (mm)": 13.6
           },
           {
            "beak depth (mm)": 8.6,
            "beak length (mm)": 13.8
           },
           {
            "beak depth (mm)": 8.6,
            "beak length (mm)": 14.9
           },
           {
            "beak depth (mm)": 8.61,
            "beak length (mm)": 13.94
           },
           {
            "beak depth (mm)": 8.67,
            "beak length (mm)": 14.81
           },
           {
            "beak depth (mm)": 8.7,
            "beak length (mm)": 12.5
           },
           {
            "beak depth (mm)": 8.7,
            "beak length (mm)": 13.75
           },
           {
            "beak depth (mm)": 8.7,
            "beak length (mm)": 14
           },
           {
            "beak depth (mm)": 8.7,
            "beak length (mm)": 14.5
           },
           {
            "beak depth (mm)": 8.7,
            "beak length (mm)": 14.7
           },
           {
            "beak depth (mm)": 8.72,
            "beak length (mm)": 14.05
           },
           {
            "beak depth (mm)": 8.72,
            "beak length (mm)": 14.17
           },
           {
            "beak depth (mm)": 8.77,
            "beak length (mm)": 15.07
           },
           {
            "beak depth (mm)": 8.8,
            "beak length (mm)": 11.5
           },
           {
            "beak depth (mm)": 8.8,
            "beak length (mm)": 13.5
           },
           {
            "beak depth (mm)": 8.8,
            "beak length (mm)": 13.87
           },
           {
            "beak depth (mm)": 8.8,
            "beak length (mm)": 14.9
           },
           {
            "beak depth (mm)": 8.81,
            "beak length (mm)": 12.34
           },
           {
            "beak depth (mm)": 8.81,
            "beak length (mm)": 14.34
           },
           {
            "beak depth (mm)": 8.87,
            "beak length (mm)": 15.07
           },
           {
            "beak depth (mm)": 8.88,
            "beak length (mm)": 14.01
           },
           {
            "beak depth (mm)": 8.89,
            "beak length (mm)": 12.86
           },
           {
            "beak depth (mm)": 8.9,
            "beak length (mm)": 13.6
           },
           {
            "beak depth (mm)": 8.9,
            "beak length (mm)": 13.8
           },
           {
            "beak depth (mm)": 8.9,
            "beak length (mm)": 13.85
           },
           {
            "beak depth (mm)": 8.9,
            "beak length (mm)": 13.9
           },
           {
            "beak depth (mm)": 8.9,
            "beak length (mm)": 14.1
           },
           {
            "beak depth (mm)": 8.9,
            "beak length (mm)": 14.1
           },
           {
            "beak depth (mm)": 8.9,
            "beak length (mm)": 14.2
           },
           {
            "beak depth (mm)": 8.9,
            "beak length (mm)": 14.3
           },
           {
            "beak depth (mm)": 8.9,
            "beak length (mm)": 14.9
           },
           {
            "beak depth (mm)": 8.91,
            "beak length (mm)": 13.84
           },
           {
            "beak depth (mm)": 8.91,
            "beak length (mm)": 14.09
           },
           {
            "beak depth (mm)": 8.92,
            "beak length (mm)": 14.05
           },
           {
            "beak depth (mm)": 8.93,
            "beak length (mm)": 14.15
           },
           {
            "beak depth (mm)": 8.93,
            "beak length (mm)": 14.25
           },
           {
            "beak depth (mm)": 8.95,
            "beak length (mm)": 13.6
           },
           {
            "beak depth (mm)": 8.95,
            "beak length (mm)": 14.57
           },
           {
            "beak depth (mm)": 8.96,
            "beak length (mm)": 11.89
           },
           {
            "beak depth (mm)": 8.97,
            "beak length (mm)": 13.8
           },
           {
            "beak depth (mm)": 8.97,
            "beak length (mm)": 14.21
           },
           {
            "beak depth (mm)": 8.99,
            "beak length (mm)": 14.76
           },
           {
            "beak depth (mm)": 9,
            "beak length (mm)": 12.07
           },
           {
            "beak depth (mm)": 9,
            "beak length (mm)": 13.9
           },
           {
            "beak depth (mm)": 9,
            "beak length (mm)": 14.1
           },
           {
            "beak depth (mm)": 9,
            "beak length (mm)": 14.3
           },
           {
            "beak depth (mm)": 9,
            "beak length (mm)": 14.95
           },
           {
            "beak depth (mm)": 9.01,
            "beak length (mm)": 14.34
           },
           {
            "beak depth (mm)": 9.02,
            "beak length (mm)": 13.84
           },
           {
            "beak depth (mm)": 9.02,
            "beak length (mm)": 14.04
           },
           {
            "beak depth (mm)": 9.02,
            "beak length (mm)": 14.14
           },
           {
            "beak depth (mm)": 9.03,
            "beak length (mm)": 12.56
           },
           {
            "beak depth (mm)": 9.04,
            "beak length (mm)": 15.14
           },
           {
            "beak depth (mm)": 9.05,
            "beak length (mm)": 14.35
           },
           {
            "beak depth (mm)": 9.05,
            "beak length (mm)": 14.85
           },
           {
            "beak depth (mm)": 9.06,
            "beak length (mm)": 14.04
           },
           {
            "beak depth (mm)": 9.1,
            "beak length (mm)": 14.2
           },
           {
            "beak depth (mm)": 9.1,
            "beak length (mm)": 14.3
           },
           {
            "beak depth (mm)": 9.1,
            "beak length (mm)": 14.5
           },
           {
            "beak depth (mm)": 9.1,
            "beak length (mm)": 14.5
           },
           {
            "beak depth (mm)": 9.1,
            "beak length (mm)": 14.6
           },
           {
            "beak depth (mm)": 9.1,
            "beak length (mm)": 15
           },
           {
            "beak depth (mm)": 9.13,
            "beak length (mm)": 13.6
           },
           {
            "beak depth (mm)": 9.13,
            "beak length (mm)": 14.65
           },
           {
            "beak depth (mm)": 9.14,
            "beak length (mm)": 14.03
           },
           {
            "beak depth (mm)": 9.18,
            "beak length (mm)": 14.16
           },
           {
            "beak depth (mm)": 9.2,
            "beak length (mm)": 13.83
           },
           {
            "beak depth (mm)": 9.2,
            "beak length (mm)": 14.2
           },
           {
            "beak depth (mm)": 9.2,
            "beak length (mm)": 14.35
           },
           {
            "beak depth (mm)": 9.2,
            "beak length (mm)": 14.45
           },
           {
            "beak depth (mm)": 9.21,
            "beak length (mm)": 14.64
           },
           {
            "beak depth (mm)": 9.21,
            "beak length (mm)": 15.04
           },
           {
            "beak depth (mm)": 9.22,
            "beak length (mm)": 13.9
           },
           {
            "beak depth (mm)": 9.24,
            "beak length (mm)": 14.34
           },
           {
            "beak depth (mm)": 9.24,
            "beak length (mm)": 14.53
           },
           {
            "beak depth (mm)": 9.25,
            "beak length (mm)": 14.2
           },
           {
            "beak depth (mm)": 9.25,
            "beak length (mm)": 14.85
           },
           {
            "beak depth (mm)": 9.25,
            "beak length (mm)": 15.1
           },
           {
            "beak depth (mm)": 9.25,
            "beak length (mm)": 15.2
           },
           {
            "beak depth (mm)": 9.26,
            "beak length (mm)": 13.5
           },
           {
            "beak depth (mm)": 9.26,
            "beak length (mm)": 14.95
           },
           {
            "beak depth (mm)": 9.28,
            "beak length (mm)": 13.83
           },
           {
            "beak depth (mm)": 9.28,
            "beak length (mm)": 13.95
           },
           {
            "beak depth (mm)": 9.28,
            "beak length (mm)": 15.09
           },
           {
            "beak depth (mm)": 9.3,
            "beak length (mm)": 13.43
           },
           {
            "beak depth (mm)": 9.3,
            "beak length (mm)": 13.7
           },
           {
            "beak depth (mm)": 9.3,
            "beak length (mm)": 14
           },
           {
            "beak depth (mm)": 9.3,
            "beak length (mm)": 14.15
           },
           {
            "beak depth (mm)": 9.3,
            "beak length (mm)": 14.75
           },
           {
            "beak depth (mm)": 9.3,
            "beak length (mm)": 14.9
           },
           {
            "beak depth (mm)": 9.3,
            "beak length (mm)": 15
           },
           {
            "beak depth (mm)": 9.32,
            "beak length (mm)": 13.56
           },
           {
            "beak depth (mm)": 9.33,
            "beak length (mm)": 14.26
           },
           {
            "beak depth (mm)": 9.34,
            "beak length (mm)": 13.83
           },
           {
            "beak depth (mm)": 9.34,
            "beak length (mm)": 14.53
           },
           {
            "beak depth (mm)": 9.34,
            "beak length (mm)": 14.84
           },
           {
            "beak depth (mm)": 9.35,
            "beak length (mm)": 15
           },
           {
            "beak depth (mm)": 9.37,
            "beak length (mm)": 13.76
           },
           {
            "beak depth (mm)": 9.37,
            "beak length (mm)": 13.9
           },
           {
            "beak depth (mm)": 9.37,
            "beak length (mm)": 14.29
           },
           {
            "beak depth (mm)": 9.37,
            "beak length (mm)": 14.63
           },
           {
            "beak depth (mm)": 9.38,
            "beak length (mm)": 14.3
           },
           {
            "beak depth (mm)": 9.4,
            "beak length (mm)": 13.6
           },
           {
            "beak depth (mm)": 9.4,
            "beak length (mm)": 14.4
           },
           {
            "beak depth (mm)": 9.4,
            "beak length (mm)": 14.9
           },
           {
            "beak depth (mm)": 9.4,
            "beak length (mm)": 14.9
           },
           {
            "beak depth (mm)": 9.42,
            "beak length (mm)": 14.34
           },
           {
            "beak depth (mm)": 9.43,
            "beak length (mm)": 14.53
           },
           {
            "beak depth (mm)": 9.45,
            "beak length (mm)": 14.65
           },
           {
            "beak depth (mm)": 9.5,
            "beak length (mm)": 14.8
           },
           {
            "beak depth (mm)": 9.5,
            "beak length (mm)": 16
           },
           {
            "beak depth (mm)": 9.51,
            "beak length (mm)": 13.14
           },
           {
            "beak depth (mm)": 9.51,
            "beak length (mm)": 14.44
           },
           {
            "beak depth (mm)": 9.52,
            "beak length (mm)": 12.73
           },
           {
            "beak depth (mm)": 9.54,
            "beak length (mm)": 15.04
           },
           {
            "beak depth (mm)": 9.55,
            "beak length (mm)": 14.85
           },
           {
            "beak depth (mm)": 9.6,
            "beak length (mm)": 14.2
           },
           {
            "beak depth (mm)": 9.6,
            "beak length (mm)": 15.2
           },
           {
            "beak depth (mm)": 9.6,
            "beak length (mm)": 16
           },
           {
            "beak depth (mm)": 9.62,
            "beak length (mm)": 14.47
           },
           {
            "beak depth (mm)": 9.64,
            "beak length (mm)": 14.54
           },
           {
            "beak depth (mm)": 9.65,
            "beak length (mm)": 14.9
           },
           {
            "beak depth (mm)": 9.7,
            "beak length (mm)": 14.9
           },
           {
            "beak depth (mm)": 9.7,
            "beak length (mm)": 15.8
           },
           {
            "beak depth (mm)": 9.73,
            "beak length (mm)": 13.46
           },
           {
            "beak depth (mm)": 9.73,
            "beak length (mm)": 14.77
           },
           {
            "beak depth (mm)": 9.74,
            "beak length (mm)": 14.44
           },
           {
            "beak depth (mm)": 9.8,
            "beak length (mm)": 15.2
           },
           {
            "beak depth (mm)": 9.8,
            "beak length (mm)": 16
           },
           {
            "beak depth (mm)": 9.82,
            "beak length (mm)": 14.4
           },
           {
            "beak depth (mm)": 9.85,
            "beak length (mm)": 14.45
           },
           {
            "beak depth (mm)": 9.85,
            "beak length (mm)": 15.35
           },
           {
            "beak depth (mm)": 9.9,
            "beak length (mm)": 14.2
           },
           {
            "beak depth (mm)": 9.9,
            "beak length (mm)": 15.3
           },
           {
            "beak depth (mm)": 9.94,
            "beak length (mm)": 14.27
           },
           {
            "beak depth (mm)": 10,
            "beak length (mm)": 15.8
           },
           {
            "beak depth (mm)": 10.1,
            "beak length (mm)": 15.3
           },
           {
            "beak depth (mm)": 10.11,
            "beak length (mm)": 11.24
           },
           {
            "beak depth (mm)": 10.27,
            "beak length (mm)": 15.2
           },
           {
            "beak depth (mm)": 10.34,
            "beak length (mm)": 15.44
           },
           {
            "beak depth (mm)": 11.33,
            "beak length (mm)": 14.96
           }
          ]
         },
         "encoding": {
          "x": {
           "field": "beak length (mm)",
           "scale": {
            "zero": false
           },
           "type": "quantitative"
          },
          "y": {
           "field": "beak depth (mm)",
           "scale": {
            "zero": false
           },
           "type": "quantitative"
          }
         },
         "mark": "point"
        }
       ]
      },
      "image/png": "[encoded data removed]",
      "text/plain": [
       "<VegaLite 2 object>\n",
       "\n",
       "If you see this message, it means the renderer has not been properly enabled\n",
       "for the frontend that you are using. For more information, see\n",
       "https://altair-viz.github.io/user_guide/troubleshooting.html\n"
      ]
     },
     "execution_count": 4,
     "metadata": {},
     "output_type": "execute_result"
    }
   ],
   "source": [
    "# Make data frame for regression line\n",
    "x = np.array([10.5, 16.5])\n",
    "y = slope * x + intercept\n",
    "df_line = pd.DataFrame({'x': x, 'y': y})\n",
    "\n",
    "# Make chart\n",
    "reg_line = alt.Chart(df_line\n",
    "    ).mark_line(\n",
    "        size=3,\n",
    "        color='orange'\n",
    "    ).encode(\n",
    "        x=alt.X('x:Q', title='beak length (mm)', scale=alt.Scale(zero=False)),\n",
    "        y=alt.Y('y:Q', title='beak depth (mm)', scale=alt.Scale(zero=False)),\n",
    "    )\n",
    "\n",
    "reg_line + dots"
   ]
  },
  {
   "cell_type": "markdown",
   "metadata": {},
   "source": [
    "## Pairs bootstrap\n",
    "\n",
    "To perform pairs bootstrap for a linear regression, we will write a generic function to do it for any (*x*, *y*) data set. The trick is that we use `np.random.choice()` to choose *an index* of a pair of data points. With each resampled set of pairs of points, we compute a slope and an intercept."
   ]
  },
  {
   "cell_type": "code",
   "execution_count": 1,
   "metadata": {},
   "outputs": [],
   "source": [
    "def draw_bs_pairs_linreg(x, y, size=1):\n",
    "    \"\"\"Perform pairs bootstrap for linear regression.\"\"\"\n",
    "    # Set up array of indices to sample from\n",
    "    inds = np.arange(len(x))\n",
    "\n",
    "    # Initialize samples\n",
    "    bs_slope_reps = np.empty(size)\n",
    "    bs_intercept_reps = np.empty(size)\n",
    "\n",
    "    # Take samples\n",
    "    for i in range(size):\n",
    "        bs_inds = np.random.choice(inds, len(inds))\n",
    "        bs_x, bs_y = x[bs_inds], y[bs_inds]\n",
    "        bs_slope_reps[i], bs_intercept_reps[i] = np.polyfit(bs_x, bs_y, deg=1)\n",
    "\n",
    "    return bs_slope_reps, bs_intercept_reps"
   ]
  },
  {
   "cell_type": "markdown",
   "metadata": {},
   "source": [
    "Let's put this function to work and compute bootstrap replicates."
   ]
  },
  {
   "cell_type": "code",
   "execution_count": 6,
   "metadata": {},
   "outputs": [],
   "source": [
    "bs_slope_reps, bs_intercept_reps = draw_bs_pairs_linreg(beak_length,\n",
    "                                                        beak_depth,\n",
    "                                                        size=10000)"
   ]
  },
  {
   "cell_type": "markdown",
   "metadata": {},
   "source": [
    "Now that we have the replicates, we can compute the confidence intervals for the regression parameters."
   ]
  },
  {
   "cell_type": "code",
   "execution_count": 7,
   "metadata": {},
   "outputs": [
    {
     "name": "stdout",
     "output_type": "stream",
     "text": [
      "slope conf int: 0.1407971115793715 0.3786981644044019\n",
      "slope conf int: 3.75497093333768 7.152876613015407\n"
     ]
    }
   ],
   "source": [
    "print('slope conf int:', *np.percentile(bs_slope_reps, [2.5, 97.5]))\n",
    "print('slope conf int:', *np.percentile(bs_intercept_reps, [2.5, 97.5]))"
   ]
  },
  {
   "cell_type": "markdown",
   "metadata": {},
   "source": [
    "## Plotting the confidence interval\n",
    "\n",
    "If we want to display on the plot how the regression line may change, we can do the following procedure.\n",
    "\n",
    "1. Generate the fit line for each bootstrap replicate for many points along the *x*-axis.\n",
    "2. For each *x*-value, compute the 2.5th and 97.5th percentile values of the *y*-values of the lines from teh bootstrap replicates.\n",
    "3. These represent the 95% confidence interval for the regression line at each point *x*.\n",
    "\n",
    "Let's do this procedure to make our plot. We will use some of Numpy's clever functions to generate the lines without looping."
   ]
  },
  {
   "cell_type": "code",
   "execution_count": 8,
   "metadata": {},
   "outputs": [],
   "source": [
    "# x-values\n",
    "x = np.linspace(10.5, 16.5, 200)\n",
    "\n",
    "# y-values of each point\n",
    "y = np.outer(bs_slope_reps, x) + np.stack([bs_intercept_reps]*200, axis=1)\n",
    "\n",
    "# Compute the 2.5th and 97.5th percentiles\n",
    "low, high = np.percentile(y, [2.5, 97.5], axis=0)"
   ]
  },
  {
   "cell_type": "markdown",
   "metadata": {},
   "source": [
    "Now that we have the upper and lower bounds for the confidence interval, we can make a plot of it."
   ]
  },
  {
   "cell_type": "code",
   "execution_count": 9,
   "metadata": {},
   "outputs": [
    {
     "data": {
      "application/vnd.vegalite.v2+json": {
       "$schema": "https://vega.github.io/schema/vega-lite/v2.4.3.json",
       "config": {
        "view": {
         "height": 300,
         "width": 400
        }
       },
       "layer": [
        {
         "data": {
          "values": [
           {
            "high": 8.633141284579837,
            "low": 7.7225933733559495,
            "x": 10.5
           },
           {
            "high": 8.63763887774387,
            "low": 7.733922450828865,
            "x": 10.530150753768844
           },
           {
            "high": 8.642286533087518,
            "low": 7.745342625494223,
            "x": 10.56030150753769
           },
           {
            "high": 8.646401039224271,
            "low": 7.756789635684692,
            "x": 10.590452261306533
           },
           {
            "high": 8.650337972434526,
            "low": 7.768178281538302,
            "x": 10.620603015075377
           },
           {
            "high": 8.654487549837812,
            "low": 7.779593708299456,
            "x": 10.650753768844222
           },
           {
            "high": 8.658753905585915,
            "low": 7.790703398577861,
            "x": 10.680904522613066
           },
           {
            "high": 8.663196110410208,
            "low": 7.801913606198715,
            "x": 10.71105527638191
           },
           {
            "high": 8.667682188245152,
            "low": 7.813266314832172,
            "x": 10.741206030150753
           },
           {
            "high": 8.671953925288188,
            "low": 7.824619023465631,
            "x": 10.771356783919598
           },
           {
            "high": 8.67612448692007,
            "low": 7.835972120031136,
            "x": 10.801507537688442
           },
           {
            "high": 8.680163594498717,
            "low": 7.847329014898372,
            "x": 10.831658291457286
           },
           {
            "high": 8.684360418690757,
            "low": 7.859009457343808,
            "x": 10.861809045226131
           },
           {
            "high": 8.688655429603125,
            "low": 7.870239833332374,
            "x": 10.891959798994975
           },
           {
            "high": 8.692950440515498,
            "low": 7.881502418548309,
            "x": 10.922110552763819
           },
           {
            "high": 8.697245451427872,
            "low": 7.892748924328055,
            "x": 10.952261306532662
           },
           {
            "high": 8.701479699323434,
            "low": 7.904099899715871,
            "x": 10.982412060301508
           },
           {
            "high": 8.705769794861034,
            "low": 7.915363401541322,
            "x": 11.012562814070352
           },
           {
            "high": 8.710058400686066,
            "low": 7.926393750699142,
            "x": 11.042713567839195
           },
           {
            "high": 8.714305967598738,
            "low": 7.937567513080564,
            "x": 11.07286432160804
           },
           {
            "high": 8.71854277293513,
            "low": 7.9488752872847375,
            "x": 11.103015075376884
           },
           {
            "high": 8.722930365467402,
            "low": 7.960190767246621,
            "x": 11.133165829145728
           },
           {
            "high": 8.72732098233278,
            "low": 7.971510352036717,
            "x": 11.163316582914574
           },
           {
            "high": 8.73167778837077,
            "low": 7.983171123291255,
            "x": 11.193467336683417
           },
           {
            "high": 8.736167702517346,
            "low": 7.994802004506538,
            "x": 11.22361809045226
           },
           {
            "high": 8.74054835349582,
            "low": 8.006290734511298,
            "x": 11.253768844221106
           },
           {
            "high": 8.745186051419154,
            "low": 8.017596648763785,
            "x": 11.28391959798995
           },
           {
            "high": 8.749821642908978,
            "low": 8.028816430999981,
            "x": 11.314070351758794
           },
           {
            "high": 8.754457234398805,
            "low": 8.039902669091838,
            "x": 11.344221105527637
           },
           {
            "high": 8.758769320937041,
            "low": 8.05118908521779,
            "x": 11.374371859296483
           },
           {
            "high": 8.7632980340588,
            "low": 8.062409267887709,
            "x": 11.404522613065327
           },
           {
            "high": 8.76778774617966,
            "low": 8.073338835372114,
            "x": 11.43467336683417
           },
           {
            "high": 8.771747246556295,
            "low": 8.084648064944528,
            "x": 11.464824120603016
           },
           {
            "high": 8.77592866209039,
            "low": 8.09588063526128,
            "x": 11.49497487437186
           },
           {
            "high": 8.780283341432947,
            "low": 8.10718594938113,
            "x": 11.525125628140703
           },
           {
            "high": 8.784804437022906,
            "low": 8.118021056760005,
            "x": 11.555276381909547
           },
           {
            "high": 8.789161912068934,
            "low": 8.128942827125316,
            "x": 11.585427135678392
           },
           {
            "high": 8.793540675930721,
            "low": 8.14025105816637,
            "x": 11.615577889447236
           },
           {
            "high": 8.798089417457964,
            "low": 8.151498270914036,
            "x": 11.64572864321608
           },
           {
            "high": 8.802498052826326,
            "low": 8.163011676006404,
            "x": 11.675879396984925
           },
           {
            "high": 8.806913679296418,
            "low": 8.17438136628447,
            "x": 11.706030150753769
           },
           {
            "high": 8.811072728401722,
            "low": 8.185778493427687,
            "x": 11.736180904522612
           },
           {
            "high": 8.815216753755411,
            "low": 8.196848621494691,
            "x": 11.766331658291458
           },
           {
            "high": 8.819317457525324,
            "low": 8.207972120869117,
            "x": 11.796482412060302
           },
           {
            "high": 8.823516372976327,
            "low": 8.219171413614566,
            "x": 11.826633165829145
           },
           {
            "high": 8.827738599676593,
            "low": 8.23121944483436,
            "x": 11.85678391959799
           },
           {
            "high": 8.832215719759843,
            "low": 8.242862406858183,
            "x": 11.886934673366834
           },
           {
            "high": 8.836873683282818,
            "low": 8.25434795666887,
            "x": 11.917085427135678
           },
           {
            "high": 8.841309927766595,
            "low": 8.26566339307382,
            "x": 11.947236180904522
           },
           {
            "high": 8.846022696488701,
            "low": 8.276943547070541,
            "x": 11.977386934673367
           },
           {
            "high": 8.850229816025362,
            "low": 8.288064619881895,
            "x": 12.007537688442211
           },
           {
            "high": 8.85475140760542,
            "low": 8.299467940454258,
            "x": 12.037688442211055
           },
           {
            "high": 8.859089155472528,
            "low": 8.310305212574873,
            "x": 12.0678391959799
           },
           {
            "high": 8.86336215349434,
            "low": 8.321593171186457,
            "x": 12.097989949748744
           },
           {
            "high": 8.868315241111269,
            "low": 8.332595165548852,
            "x": 12.128140703517587
           },
           {
            "high": 8.872836801791129,
            "low": 8.343867809494029,
            "x": 12.158291457286431
           },
           {
            "high": 8.877311050140786,
            "low": 8.355211068686838,
            "x": 12.188442211055277
           },
           {
            "high": 8.881547833638917,
            "low": 8.36641676043408,
            "x": 12.21859296482412
           },
           {
            "high": 8.886154647138998,
            "low": 8.377646549926675,
            "x": 12.248743718592966
           },
           {
            "high": 8.890590344631127,
            "low": 8.388820368931135,
            "x": 12.27889447236181
           },
           {
            "high": 8.894953251994332,
            "low": 8.399994268772897,
            "x": 12.309045226130653
           },
           {
            "high": 8.899762085149055,
            "low": 8.411645867505039,
            "x": 12.339195979899497
           },
           {
            "high": 8.904380164563452,
            "low": 8.423198389261735,
            "x": 12.369346733668342
           },
           {
            "high": 8.909078340178773,
            "low": 8.434209802144597,
            "x": 12.399497487437186
           },
           {
            "high": 8.913444203068625,
            "low": 8.445458462291198,
            "x": 12.42964824120603
           },
           {
            "high": 8.918146927533963,
            "low": 8.456776139204107,
            "x": 12.459798994974875
           },
           {
            "high": 8.922656665396765,
            "low": 8.46799737707939,
            "x": 12.489949748743719
           },
           {
            "high": 8.927210178308197,
            "low": 8.478873958823684,
            "x": 12.520100502512562
           },
           {
            "high": 8.931718234114262,
            "low": 8.490274123362843,
            "x": 12.550251256281406
           },
           {
            "high": 8.936584426857962,
            "low": 8.501678178999084,
            "x": 12.580402010050252
           },
           {
            "high": 8.940807007455408,
            "low": 8.513085630323094,
            "x": 12.610552763819095
           },
           {
            "high": 8.945334466611943,
            "low": 8.52430401206872,
            "x": 12.640703517587939
           },
           {
            "high": 8.94984099592268,
            "low": 8.535382250826268,
            "x": 12.670854271356784
           },
           {
            "high": 8.954449713174292,
            "low": 8.546882608797418,
            "x": 12.701005025125628
           },
           {
            "high": 8.958902875907851,
            "low": 8.558254745347753,
            "x": 12.731155778894472
           },
           {
            "high": 8.963664538275543,
            "low": 8.569374510330105,
            "x": 12.761306532663315
           },
           {
            "high": 8.968006766159531,
            "low": 8.580924823709559,
            "x": 12.791457286432161
           },
           {
            "high": 8.972488919492433,
            "low": 8.592416998127122,
            "x": 12.821608040201005
           },
           {
            "high": 8.976870077028464,
            "low": 8.603815914247912,
            "x": 12.85175879396985
           },
           {
            "high": 8.981227422943734,
            "low": 8.61472931972223,
            "x": 12.881909547738694
           },
           {
            "high": 8.98590741579611,
            "low": 8.625728880153883,
            "x": 12.912060301507537
           },
           {
            "high": 8.990205171498344,
            "low": 8.637170304030224,
            "x": 12.942211055276381
           },
           {
            "high": 8.994844576145441,
            "low": 8.648482920439875,
            "x": 12.972361809045227
           },
           {
            "high": 8.999301853949415,
            "low": 8.65968605973255,
            "x": 13.00251256281407
           },
           {
            "high": 9.003993324951066,
            "low": 8.67098107597247,
            "x": 13.032663316582914
           },
           {
            "high": 9.008028762204026,
            "low": 8.682105132990248,
            "x": 13.06281407035176
           },
           {
            "high": 9.012464779977755,
            "low": 8.693432617330174,
            "x": 13.092964824120603
           },
           {
            "high": 9.017340996575173,
            "low": 8.704580754831042,
            "x": 13.123115577889447
           },
           {
            "high": 9.021825762451197,
            "low": 8.715633923271772,
            "x": 13.15326633165829
           },
           {
            "high": 9.025969883711147,
            "low": 8.726423088050614,
            "x": 13.183417085427136
           },
           {
            "high": 9.030664925164482,
            "low": 8.737121544246246,
            "x": 13.21356783919598
           },
           {
            "high": 9.035288837770384,
            "low": 8.74854205729388,
            "x": 13.243718592964823
           },
           {
            "high": 9.040360634225385,
            "low": 8.759249033913937,
            "x": 13.273869346733669
           },
           {
            "high": 9.044968990544263,
            "low": 8.77024941034615,
            "x": 13.304020100502512
           },
           {
            "high": 9.050235904145692,
            "low": 8.781287718909681,
            "x": 13.334170854271356
           },
           {
            "high": 9.05496204733489,
            "low": 8.792558563016218,
            "x": 13.3643216080402
           },
           {
            "high": 9.059909224070047,
            "low": 8.803413812882356,
            "x": 13.394472361809045
           },
           {
            "high": 9.064762086493197,
            "low": 8.81412238971132,
            "x": 13.424623115577889
           },
           {
            "high": 9.069391993382018,
            "low": 8.825024895272152,
            "x": 13.454773869346734
           },
           {
            "high": 9.074819650179826,
            "low": 8.83565299911004,
            "x": 13.484924623115578
           },
           {
            "high": 9.07970116248908,
            "low": 8.846167595036356,
            "x": 13.515075376884422
           },
           {
            "high": 9.084446010328184,
            "low": 8.856757603658435,
            "x": 13.545226130653266
           },
           {
            "high": 9.089205161921157,
            "low": 8.867252334174275,
            "x": 13.575376884422111
           },
           {
            "high": 9.09416065093964,
            "low": 8.877988489450004,
            "x": 13.605527638190955
           },
           {
            "high": 9.09945614214271,
            "low": 8.888772350617991,
            "x": 13.635678391959798
           },
           {
            "high": 9.104845024468027,
            "low": 8.899196973545173,
            "x": 13.665829145728644
           },
           {
            "high": 9.110173240578117,
            "low": 8.90931203026707,
            "x": 13.695979899497488
           },
           {
            "high": 9.115192881274286,
            "low": 8.919427679682414,
            "x": 13.726130653266331
           },
           {
            "high": 9.120469624167736,
            "low": 8.929876473135401,
            "x": 13.756281407035175
           },
           {
            "high": 9.125376035261418,
            "low": 8.94029220217163,
            "x": 13.78643216080402
           },
           {
            "high": 9.130708343454447,
            "low": 8.950536394630664,
            "x": 13.816582914572864
           },
           {
            "high": 9.136500147143176,
            "low": 8.961020341394974,
            "x": 13.84673366834171
           },
           {
            "high": 9.142221665730165,
            "low": 8.971390056829929,
            "x": 13.876884422110553
           },
           {
            "high": 9.148504065373734,
            "low": 8.98162618007946,
            "x": 13.907035175879397
           },
           {
            "high": 9.154141563342474,
            "low": 8.99173977830157,
            "x": 13.93718592964824
           },
           {
            "high": 9.159875699988516,
            "low": 9.001290901619837,
            "x": 13.967336683417084
           },
           {
            "high": 9.165154079682537,
            "low": 9.010792979146814,
            "x": 13.99748743718593
           },
           {
            "high": 9.171312935516868,
            "low": 9.020291795730584,
            "x": 14.027638190954773
           },
           {
            "high": 9.177734609829548,
            "low": 9.029568893274789,
            "x": 14.057788944723619
           },
           {
            "high": 9.184500233162398,
            "low": 9.038297499638077,
            "x": 14.087939698492463
           },
           {
            "high": 9.191388881400634,
            "low": 9.047235846050853,
            "x": 14.118090452261306
           },
           {
            "high": 9.198506572629016,
            "low": 9.056184651124845,
            "x": 14.14824120603015
           },
           {
            "high": 9.20575486162549,
            "low": 9.06490798458987,
            "x": 14.178391959798995
           },
           {
            "high": 9.21221260279579,
            "low": 9.07414857456637,
            "x": 14.208542713567839
           },
           {
            "high": 9.219416698265766,
            "low": 9.082548087373752,
            "x": 14.238693467336683
           },
           {
            "high": 9.22688372990374,
            "low": 9.090828684768331,
            "x": 14.268844221105528
           },
           {
            "high": 9.234246940073154,
            "low": 9.098927056615677,
            "x": 14.298994974874372
           },
           {
            "high": 9.242598992050613,
            "low": 9.107072936299506,
            "x": 14.329145728643216
           },
           {
            "high": 9.250432402295353,
            "low": 9.115136147935283,
            "x": 14.35929648241206
           },
           {
            "high": 9.259017566468001,
            "low": 9.122959373415675,
            "x": 14.389447236180905
           },
           {
            "high": 9.26746146698777,
            "low": 9.130823464225104,
            "x": 14.419597989949748
           },
           {
            "high": 9.276106168017487,
            "low": 9.137548070893521,
            "x": 14.449748743718594
           },
           {
            "high": 9.284928849378657,
            "low": 9.14466711468744,
            "x": 14.479899497487438
           },
           {
            "high": 9.293916090908589,
            "low": 9.151806061215826,
            "x": 14.510050251256281
           },
           {
            "high": 9.30239317398435,
            "low": 9.158429785347273,
            "x": 14.540201005025125
           },
           {
            "high": 9.311507132466048,
            "low": 9.164841693274322,
            "x": 14.570351758793969
           },
           {
            "high": 9.32068831313092,
            "low": 9.171571719952995,
            "x": 14.600502512562814
           },
           {
            "high": 9.33066167688976,
            "low": 9.177669278500103,
            "x": 14.630653266331658
           },
           {
            "high": 9.340593829262446,
            "low": 9.184055375353111,
            "x": 14.660804020100503
           },
           {
            "high": 9.350333970438916,
            "low": 9.190309629638426,
            "x": 14.690954773869347
           },
           {
            "high": 9.360079797502564,
            "low": 9.196012679200836,
            "x": 14.72110552763819
           },
           {
            "high": 9.370293572297546,
            "low": 9.201718135137979,
            "x": 14.751256281407034
           },
           {
            "high": 9.380630320248684,
            "low": 9.207567021131107,
            "x": 14.781407035175878
           },
           {
            "high": 9.39032607415198,
            "low": 9.213475896770193,
            "x": 14.811557788944723
           },
           {
            "high": 9.400760111588108,
            "low": 9.219040848515728,
            "x": 14.841708542713569
           },
           {
            "high": 9.410987897321526,
            "low": 9.22458484669722,
            "x": 14.871859296482413
           },
           {
            "high": 9.420579193951532,
            "low": 9.229878110980053,
            "x": 14.902010050251256
           },
           {
            "high": 9.431013516412735,
            "low": 9.235069121527077,
            "x": 14.9321608040201
           },
           {
            "high": 9.441423854898423,
            "low": 9.24051748927123,
            "x": 14.962311557788944
           },
           {
            "high": 9.451891155768763,
            "low": 9.245591151576724,
            "x": 14.992462311557789
           },
           {
            "high": 9.462302117976181,
            "low": 9.250523930597724,
            "x": 15.022613065326633
           },
           {
            "high": 9.473166478763478,
            "low": 9.255216372897147,
            "x": 15.052763819095478
           },
           {
            "high": 9.484119778339709,
            "low": 9.260180748129434,
            "x": 15.082914572864322
           },
           {
            "high": 9.494756561861195,
            "low": 9.26530665271892,
            "x": 15.113065326633166
           },
           {
            "high": 9.505167910540907,
            "low": 9.26979178940583,
            "x": 15.14321608040201
           },
           {
            "high": 9.516127025133391,
            "low": 9.274931023628412,
            "x": 15.173366834170853
           },
           {
            "high": 9.527135748033594,
            "low": 9.279808112303938,
            "x": 15.203517587939698
           },
           {
            "high": 9.537876808948551,
            "low": 9.284970961948435,
            "x": 15.233668341708542
           },
           {
            "high": 9.549162174103039,
            "low": 9.28985953570135,
            "x": 15.263819095477388
           },
           {
            "high": 9.560057240405001,
            "low": 9.294614961049042,
            "x": 15.293969849246231
           },
           {
            "high": 9.571030177832409,
            "low": 9.299343958310931,
            "x": 15.324120603015075
           },
           {
            "high": 9.581511284929718,
            "low": 9.304022472261877,
            "x": 15.354271356783919
           },
           {
            "high": 9.592063845120588,
            "low": 9.30906164025703,
            "x": 15.384422110552762
           },
           {
            "high": 9.603287921194632,
            "low": 9.313771494586076,
            "x": 15.414572864321608
           },
           {
            "high": 9.614002706100948,
            "low": 9.318577268524809,
            "x": 15.444723618090453
           },
           {
            "high": 9.624747358517402,
            "low": 9.323596279365681,
            "x": 15.474874371859297
           },
           {
            "high": 9.635778807570762,
            "low": 9.328308820163555,
            "x": 15.50502512562814
           },
           {
            "high": 9.646909026592454,
            "low": 9.332351736471473,
            "x": 15.535175879396984
           },
           {
            "high": 9.657899954306323,
            "low": 9.336962870518276,
            "x": 15.565326633165828
           },
           {
            "high": 9.668872869400783,
            "low": 9.342002982504575,
            "x": 15.595477386934673
           },
           {
            "high": 9.67979621956457,
            "low": 9.346539897645505,
            "x": 15.625628140703517
           },
           {
            "high": 9.690574122955118,
            "low": 9.350820408701598,
            "x": 15.655778894472363
           },
           {
            "high": 9.701640724191522,
            "low": 9.35527449567897,
            "x": 15.685929648241206
           },
           {
            "high": 9.712912379120702,
            "low": 9.359737633042794,
            "x": 15.71608040201005
           },
           {
            "high": 9.724563954760491,
            "low": 9.36463764358998,
            "x": 15.746231155778894
           },
           {
            "high": 9.73607470718212,
            "low": 9.368872755711267,
            "x": 15.776381909547737
           },
           {
            "high": 9.747237325244534,
            "low": 9.373486320506398,
            "x": 15.806532663316583
           },
           {
            "high": 9.758229053687174,
            "low": 9.378133868333828,
            "x": 15.836683417085426
           },
           {
            "high": 9.769786622370425,
            "low": 9.382926279751477,
            "x": 15.866834170854272
           },
           {
            "high": 9.780980166798475,
            "low": 9.387309416826747,
            "x": 15.896984924623116
           },
           {
            "high": 9.792064393907385,
            "low": 9.391433026411237,
            "x": 15.92713567839196
           },
           {
            "high": 9.803294856072558,
            "low": 9.395533472791495,
            "x": 15.957286432160803
           },
           {
            "high": 9.814036132983365,
            "low": 9.399657755058005,
            "x": 15.987437185929647
           },
           {
            "high": 9.824983371738979,
            "low": 9.404511326913827,
            "x": 16.017587939698494
           },
           {
            "high": 9.83604386359026,
            "low": 9.409144976916197,
            "x": 16.047738693467338
           },
           {
            "high": 9.847178318539857,
            "low": 9.413895925277417,
            "x": 16.07788944723618
           },
           {
            "high": 9.859019477442269,
            "low": 9.418220738910943,
            "x": 16.108040201005025
           },
           {
            "high": 9.870616026202022,
            "low": 9.422097292054596,
            "x": 16.13819095477387
           },
           {
            "high": 9.881930412928538,
            "low": 9.426689166894167,
            "x": 16.168341708542712
           },
           {
            "high": 9.892979622813737,
            "low": 9.431083762540059,
            "x": 16.198492462311556
           },
           {
            "high": 9.903902206165633,
            "low": 9.435633400600542,
            "x": 16.2286432160804
           },
           {
            "high": 9.915680826374965,
            "low": 9.440454145720985,
            "x": 16.258793969849247
           },
           {
            "high": 9.926797345853032,
            "low": 9.444997713541026,
            "x": 16.28894472361809
           },
           {
            "high": 9.937971616674359,
            "low": 9.449741387276527,
            "x": 16.319095477386934
           },
           {
            "high": 9.949224530311469,
            "low": 9.45433360240617,
            "x": 16.349246231155778
           },
           {
            "high": 9.96057260723782,
            "low": 9.458579273212113,
            "x": 16.37939698492462
           },
           {
            "high": 9.971780238021294,
            "low": 9.462776153280135,
            "x": 16.40954773869347
           },
           {
            "high": 9.983047359677128,
            "low": 9.467178910096004,
            "x": 16.439698492462313
           },
           {
            "high": 9.994440970330336,
            "low": 9.471681868643799,
            "x": 16.469849246231156
           },
           {
            "high": 10.005969979987945,
            "low": 9.476205669456876,
            "x": 16.5
           }
          ]
         },
         "encoding": {
          "x": {
           "field": "x",
           "scale": {
            "zero": false
           },
           "title": "beak length (mm)",
           "type": "quantitative"
          },
          "y": {
           "field": "low",
           "scale": {
            "zero": false
           },
           "title": "beak depth (mm)",
           "type": "quantitative"
          },
          "y2": {
           "field": "high",
           "type": "quantitative"
          }
         },
         "mark": {
          "color": "orange",
          "opacity": 0.3,
          "type": "area"
         }
        },
        {
         "data": {
          "values": [
           {
            "x": 10.5,
            "y": 8.170570994251374
           },
           {
            "x": 16.5,
            "y": 9.744124304550805
           }
          ]
         },
         "encoding": {
          "x": {
           "field": "x",
           "scale": {
            "zero": false
           },
           "title": "beak length (mm)",
           "type": "quantitative"
          },
          "y": {
           "field": "y",
           "scale": {
            "zero": false
           },
           "title": "beak depth (mm)",
           "type": "quantitative"
          }
         },
         "mark": {
          "color": "orange",
          "size": 3,
          "type": "line"
         }
        },
        {
         "data": {
          "values": [
           {
            "beak depth (mm)": 7.77,
            "beak length (mm)": 10.75
           },
           {
            "beak depth (mm)": 7.94,
            "beak length (mm)": 13.73
           },
           {
            "beak depth (mm)": 7.96,
            "beak length (mm)": 14.04
           },
           {
            "beak depth (mm)": 8,
            "beak length (mm)": 12.5
           },
           {
            "beak depth (mm)": 8.01,
            "beak length (mm)": 12.64
           },
           {
            "beak depth (mm)": 8.23,
            "beak length (mm)": 12.66
           },
           {
            "beak depth (mm)": 8.3,
            "beak length (mm)": 13
           },
           {
            "beak depth (mm)": 8.36,
            "beak length (mm)": 13.15
           },
           {
            "beak depth (mm)": 8.37,
            "beak length (mm)": 13.96
           },
           {
            "beak depth (mm)": 8.4,
            "beak length (mm)": 13.15
           },
           {
            "beak depth (mm)": 8.4,
            "beak length (mm)": 13.7
           },
           {
            "beak depth (mm)": 8.4,
            "beak length (mm)": 14
           },
           {
            "beak depth (mm)": 8.41,
            "beak length (mm)": 13.43
           },
           {
            "beak depth (mm)": 8.5,
            "beak length (mm)": 14
           },
           {
            "beak depth (mm)": 8.5,
            "beak length (mm)": 14.9
           },
           {
            "beak depth (mm)": 8.6,
            "beak length (mm)": 13.6
           },
           {
            "beak depth (mm)": 8.6,
            "beak length (mm)": 13.8
           },
           {
            "beak depth (mm)": 8.6,
            "beak length (mm)": 14.9
           },
           {
            "beak depth (mm)": 8.61,
            "beak length (mm)": 13.94
           },
           {
            "beak depth (mm)": 8.67,
            "beak length (mm)": 14.81
           },
           {
            "beak depth (mm)": 8.7,
            "beak length (mm)": 12.5
           },
           {
            "beak depth (mm)": 8.7,
            "beak length (mm)": 13.75
           },
           {
            "beak depth (mm)": 8.7,
            "beak length (mm)": 14
           },
           {
            "beak depth (mm)": 8.7,
            "beak length (mm)": 14.5
           },
           {
            "beak depth (mm)": 8.7,
            "beak length (mm)": 14.7
           },
           {
            "beak depth (mm)": 8.72,
            "beak length (mm)": 14.05
           },
           {
            "beak depth (mm)": 8.72,
            "beak length (mm)": 14.17
           },
           {
            "beak depth (mm)": 8.77,
            "beak length (mm)": 15.07
           },
           {
            "beak depth (mm)": 8.8,
            "beak length (mm)": 11.5
           },
           {
            "beak depth (mm)": 8.8,
            "beak length (mm)": 13.5
           },
           {
            "beak depth (mm)": 8.8,
            "beak length (mm)": 13.87
           },
           {
            "beak depth (mm)": 8.8,
            "beak length (mm)": 14.9
           },
           {
            "beak depth (mm)": 8.81,
            "beak length (mm)": 12.34
           },
           {
            "beak depth (mm)": 8.81,
            "beak length (mm)": 14.34
           },
           {
            "beak depth (mm)": 8.87,
            "beak length (mm)": 15.07
           },
           {
            "beak depth (mm)": 8.88,
            "beak length (mm)": 14.01
           },
           {
            "beak depth (mm)": 8.89,
            "beak length (mm)": 12.86
           },
           {
            "beak depth (mm)": 8.9,
            "beak length (mm)": 13.6
           },
           {
            "beak depth (mm)": 8.9,
            "beak length (mm)": 13.8
           },
           {
            "beak depth (mm)": 8.9,
            "beak length (mm)": 13.85
           },
           {
            "beak depth (mm)": 8.9,
            "beak length (mm)": 13.9
           },
           {
            "beak depth (mm)": 8.9,
            "beak length (mm)": 14.1
           },
           {
            "beak depth (mm)": 8.9,
            "beak length (mm)": 14.1
           },
           {
            "beak depth (mm)": 8.9,
            "beak length (mm)": 14.2
           },
           {
            "beak depth (mm)": 8.9,
            "beak length (mm)": 14.3
           },
           {
            "beak depth (mm)": 8.9,
            "beak length (mm)": 14.9
           },
           {
            "beak depth (mm)": 8.91,
            "beak length (mm)": 13.84
           },
           {
            "beak depth (mm)": 8.91,
            "beak length (mm)": 14.09
           },
           {
            "beak depth (mm)": 8.92,
            "beak length (mm)": 14.05
           },
           {
            "beak depth (mm)": 8.93,
            "beak length (mm)": 14.15
           },
           {
            "beak depth (mm)": 8.93,
            "beak length (mm)": 14.25
           },
           {
            "beak depth (mm)": 8.95,
            "beak length (mm)": 13.6
           },
           {
            "beak depth (mm)": 8.95,
            "beak length (mm)": 14.57
           },
           {
            "beak depth (mm)": 8.96,
            "beak length (mm)": 11.89
           },
           {
            "beak depth (mm)": 8.97,
            "beak length (mm)": 13.8
           },
           {
            "beak depth (mm)": 8.97,
            "beak length (mm)": 14.21
           },
           {
            "beak depth (mm)": 8.99,
            "beak length (mm)": 14.76
           },
           {
            "beak depth (mm)": 9,
            "beak length (mm)": 12.07
           },
           {
            "beak depth (mm)": 9,
            "beak length (mm)": 13.9
           },
           {
            "beak depth (mm)": 9,
            "beak length (mm)": 14.1
           },
           {
            "beak depth (mm)": 9,
            "beak length (mm)": 14.3
           },
           {
            "beak depth (mm)": 9,
            "beak length (mm)": 14.95
           },
           {
            "beak depth (mm)": 9.01,
            "beak length (mm)": 14.34
           },
           {
            "beak depth (mm)": 9.02,
            "beak length (mm)": 13.84
           },
           {
            "beak depth (mm)": 9.02,
            "beak length (mm)": 14.04
           },
           {
            "beak depth (mm)": 9.02,
            "beak length (mm)": 14.14
           },
           {
            "beak depth (mm)": 9.03,
            "beak length (mm)": 12.56
           },
           {
            "beak depth (mm)": 9.04,
            "beak length (mm)": 15.14
           },
           {
            "beak depth (mm)": 9.05,
            "beak length (mm)": 14.35
           },
           {
            "beak depth (mm)": 9.05,
            "beak length (mm)": 14.85
           },
           {
            "beak depth (mm)": 9.06,
            "beak length (mm)": 14.04
           },
           {
            "beak depth (mm)": 9.1,
            "beak length (mm)": 14.2
           },
           {
            "beak depth (mm)": 9.1,
            "beak length (mm)": 14.3
           },
           {
            "beak depth (mm)": 9.1,
            "beak length (mm)": 14.5
           },
           {
            "beak depth (mm)": 9.1,
            "beak length (mm)": 14.5
           },
           {
            "beak depth (mm)": 9.1,
            "beak length (mm)": 14.6
           },
           {
            "beak depth (mm)": 9.1,
            "beak length (mm)": 15
           },
           {
            "beak depth (mm)": 9.13,
            "beak length (mm)": 13.6
           },
           {
            "beak depth (mm)": 9.13,
            "beak length (mm)": 14.65
           },
           {
            "beak depth (mm)": 9.14,
            "beak length (mm)": 14.03
           },
           {
            "beak depth (mm)": 9.18,
            "beak length (mm)": 14.16
           },
           {
            "beak depth (mm)": 9.2,
            "beak length (mm)": 13.83
           },
           {
            "beak depth (mm)": 9.2,
            "beak length (mm)": 14.2
           },
           {
            "beak depth (mm)": 9.2,
            "beak length (mm)": 14.35
           },
           {
            "beak depth (mm)": 9.2,
            "beak length (mm)": 14.45
           },
           {
            "beak depth (mm)": 9.21,
            "beak length (mm)": 14.64
           },
           {
            "beak depth (mm)": 9.21,
            "beak length (mm)": 15.04
           },
           {
            "beak depth (mm)": 9.22,
            "beak length (mm)": 13.9
           },
           {
            "beak depth (mm)": 9.24,
            "beak length (mm)": 14.34
           },
           {
            "beak depth (mm)": 9.24,
            "beak length (mm)": 14.53
           },
           {
            "beak depth (mm)": 9.25,
            "beak length (mm)": 14.2
           },
           {
            "beak depth (mm)": 9.25,
            "beak length (mm)": 14.85
           },
           {
            "beak depth (mm)": 9.25,
            "beak length (mm)": 15.1
           },
           {
            "beak depth (mm)": 9.25,
            "beak length (mm)": 15.2
           },
           {
            "beak depth (mm)": 9.26,
            "beak length (mm)": 13.5
           },
           {
            "beak depth (mm)": 9.26,
            "beak length (mm)": 14.95
           },
           {
            "beak depth (mm)": 9.28,
            "beak length (mm)": 13.83
           },
           {
            "beak depth (mm)": 9.28,
            "beak length (mm)": 13.95
           },
           {
            "beak depth (mm)": 9.28,
            "beak length (mm)": 15.09
           },
           {
            "beak depth (mm)": 9.3,
            "beak length (mm)": 13.43
           },
           {
            "beak depth (mm)": 9.3,
            "beak length (mm)": 13.7
           },
           {
            "beak depth (mm)": 9.3,
            "beak length (mm)": 14
           },
           {
            "beak depth (mm)": 9.3,
            "beak length (mm)": 14.15
           },
           {
            "beak depth (mm)": 9.3,
            "beak length (mm)": 14.75
           },
           {
            "beak depth (mm)": 9.3,
            "beak length (mm)": 14.9
           },
           {
            "beak depth (mm)": 9.3,
            "beak length (mm)": 15
           },
           {
            "beak depth (mm)": 9.32,
            "beak length (mm)": 13.56
           },
           {
            "beak depth (mm)": 9.33,
            "beak length (mm)": 14.26
           },
           {
            "beak depth (mm)": 9.34,
            "beak length (mm)": 13.83
           },
           {
            "beak depth (mm)": 9.34,
            "beak length (mm)": 14.53
           },
           {
            "beak depth (mm)": 9.34,
            "beak length (mm)": 14.84
           },
           {
            "beak depth (mm)": 9.35,
            "beak length (mm)": 15
           },
           {
            "beak depth (mm)": 9.37,
            "beak length (mm)": 13.76
           },
           {
            "beak depth (mm)": 9.37,
            "beak length (mm)": 13.9
           },
           {
            "beak depth (mm)": 9.37,
            "beak length (mm)": 14.29
           },
           {
            "beak depth (mm)": 9.37,
            "beak length (mm)": 14.63
           },
           {
            "beak depth (mm)": 9.38,
            "beak length (mm)": 14.3
           },
           {
            "beak depth (mm)": 9.4,
            "beak length (mm)": 13.6
           },
           {
            "beak depth (mm)": 9.4,
            "beak length (mm)": 14.4
           },
           {
            "beak depth (mm)": 9.4,
            "beak length (mm)": 14.9
           },
           {
            "beak depth (mm)": 9.4,
            "beak length (mm)": 14.9
           },
           {
            "beak depth (mm)": 9.42,
            "beak length (mm)": 14.34
           },
           {
            "beak depth (mm)": 9.43,
            "beak length (mm)": 14.53
           },
           {
            "beak depth (mm)": 9.45,
            "beak length (mm)": 14.65
           },
           {
            "beak depth (mm)": 9.5,
            "beak length (mm)": 14.8
           },
           {
            "beak depth (mm)": 9.5,
            "beak length (mm)": 16
           },
           {
            "beak depth (mm)": 9.51,
            "beak length (mm)": 13.14
           },
           {
            "beak depth (mm)": 9.51,
            "beak length (mm)": 14.44
           },
           {
            "beak depth (mm)": 9.52,
            "beak length (mm)": 12.73
           },
           {
            "beak depth (mm)": 9.54,
            "beak length (mm)": 15.04
           },
           {
            "beak depth (mm)": 9.55,
            "beak length (mm)": 14.85
           },
           {
            "beak depth (mm)": 9.6,
            "beak length (mm)": 14.2
           },
           {
            "beak depth (mm)": 9.6,
            "beak length (mm)": 15.2
           },
           {
            "beak depth (mm)": 9.6,
            "beak length (mm)": 16
           },
           {
            "beak depth (mm)": 9.62,
            "beak length (mm)": 14.47
           },
           {
            "beak depth (mm)": 9.64,
            "beak length (mm)": 14.54
           },
           {
            "beak depth (mm)": 9.65,
            "beak length (mm)": 14.9
           },
           {
            "beak depth (mm)": 9.7,
            "beak length (mm)": 14.9
           },
           {
            "beak depth (mm)": 9.7,
            "beak length (mm)": 15.8
           },
           {
            "beak depth (mm)": 9.73,
            "beak length (mm)": 13.46
           },
           {
            "beak depth (mm)": 9.73,
            "beak length (mm)": 14.77
           },
           {
            "beak depth (mm)": 9.74,
            "beak length (mm)": 14.44
           },
           {
            "beak depth (mm)": 9.8,
            "beak length (mm)": 15.2
           },
           {
            "beak depth (mm)": 9.8,
            "beak length (mm)": 16
           },
           {
            "beak depth (mm)": 9.82,
            "beak length (mm)": 14.4
           },
           {
            "beak depth (mm)": 9.85,
            "beak length (mm)": 14.45
           },
           {
            "beak depth (mm)": 9.85,
            "beak length (mm)": 15.35
           },
           {
            "beak depth (mm)": 9.9,
            "beak length (mm)": 14.2
           },
           {
            "beak depth (mm)": 9.9,
            "beak length (mm)": 15.3
           },
           {
            "beak depth (mm)": 9.94,
            "beak length (mm)": 14.27
           },
           {
            "beak depth (mm)": 10,
            "beak length (mm)": 15.8
           },
           {
            "beak depth (mm)": 10.1,
            "beak length (mm)": 15.3
           },
           {
            "beak depth (mm)": 10.11,
            "beak length (mm)": 11.24
           },
           {
            "beak depth (mm)": 10.27,
            "beak length (mm)": 15.2
           },
           {
            "beak depth (mm)": 10.34,
            "beak length (mm)": 15.44
           },
           {
            "beak depth (mm)": 11.33,
            "beak length (mm)": 14.96
           }
          ]
         },
         "encoding": {
          "x": {
           "field": "beak length (mm)",
           "scale": {
            "zero": false
           },
           "type": "quantitative"
          },
          "y": {
           "field": "beak depth (mm)",
           "scale": {
            "zero": false
           },
           "type": "quantitative"
          }
         },
         "mark": "point"
        }
       ]
      },
      "image/png": "[encoded data removed]",
      "text/plain": [
       "<VegaLite 2 object>\n",
       "\n",
       "If you see this message, it means the renderer has not been properly enabled\n",
       "for the frontend that you are using. For more information, see\n",
       "https://altair-viz.github.io/user_guide/troubleshooting.html\n"
      ]
     },
     "execution_count": 9,
     "metadata": {},
     "output_type": "execute_result"
    }
   ],
   "source": [
    "df_conf = pd.DataFrame({'x': x, 'high': high, 'low': low})\n",
    "\n",
    "conf = alt.Chart(df_conf\n",
    "    ).mark_area(\n",
    "        color='orange',\n",
    "        opacity=0.3\n",
    "    ).encode(\n",
    "        x=alt.X('x:Q', title='beak length (mm)', scale=alt.Scale(zero=False)),\n",
    "        y=alt.Y('low:Q', title='beak depth (mm)', scale=alt.Scale(zero=False)),\n",
    "        y2=alt.Y2('high:Q')\n",
    "    )\n",
    "\n",
    "conf + reg_line + dots"
   ]
  },
  {
   "cell_type": "markdown",
   "metadata": {},
   "source": [
    "As expected, whatever regression line we got from bootstrapping should go through the heart of the data, and we are less sure about the extremities.\n",
    "\n",
    "You can use this same procedure with nonlinear regression as well. To do so, you need to write a function that will take in some (*x*-*y*) data and do whatever regression you want to do and return the best fit parametres. Then you re-write the `pairs_bootstrap_linreg()` (obviously with a different name) where you sub in your new function for the `polyfit()` function."
   ]
  }
 ],
 "metadata": {
  "anaconda-cloud": {},
  "kernelspec": {
   "display_name": "Python 3",
   "language": "python",
   "name": "python3"
  },
  "language_info": {
   "codemirror_mode": {
    "name": "ipython",
    "version": 3
   },
   "file_extension": ".py",
   "mimetype": "text/x-python",
   "name": "python",
   "nbconvert_exporter": "python",
   "pygments_lexer": "ipython3",
   "version": "3.6.5"
  }
 },
 "nbformat": 4,
 "nbformat_minor": 2
}
