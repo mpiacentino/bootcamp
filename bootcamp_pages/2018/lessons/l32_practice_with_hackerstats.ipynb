{
 "cells": [
  {
   "cell_type": "markdown",
   "metadata": {},
   "source": [
    "# Lesson 32: Practice with hacker stats\n",
    "\n",
    "(c) 2018 Justin Bois. With the exception of pasted graphics, where the source is noted, this work is licensed under a [Creative Commons Attribution License CC-BY 4.0](https://creativecommons.org/licenses/by/4.0/). All code contained herein is licensed under an [MIT license](https://opensource.org/licenses/MIT).\n",
    "\n",
    "This document was prepared at [Caltech](http://www.caltech.edu) with financial support from the [Donna and Benjamin M. Rosen Bioengineering Center](http://rosen.caltech.edu).\n",
    "\n",
    "<img src=\"caltech_rosen.png\">\n",
    "\n",
    "*This tutorial was generated from a Jupyter notebook.  You can download the notebook [here](l32_practice_with_hackerstats.ipynb).*\n",
    "\n",
    "<br /><br />"
   ]
  },
  {
   "cell_type": "markdown",
   "metadata": {},
   "source": [
    "## Practice 1: Writing a function to draw bootstrap replicates\n",
    "\n",
    "As you can imagine, it is quite useful to be able to generate, or \"draw,\" bootstrap replicates. Now, you will write a function, `draw_bs_reps()` to do this automatically. You will want to include this in a module so you can use it over and over again. (I will not be providing it in the `bootcamp_utils` module; I want you to write this yourself.)\n",
    "\n",
    ">1. Define a function with call signature `draw_bs_reps(data, func=np.mean, size=1)`, where `func` is a function that takes in an array and returns a statistic. Examples that could be passed in as `func` are `np.mean`, `np.std`, `np.median`, or a user-defined function. `size` is the number of replicates to generate.\n",
    "2. Write a good doc string.\n",
    "3. Define `n` to be the length of the input `data` array.\n",
    "4. Use a list comprehension to compute a list of bootstrap replicates.\n",
    "5. Return the replicates as a Numpy array.\n",
    "\n",
    "If you like, you can use the [`bs_replicate()` function](l31_hackerstats.html#Aside:-list-comprehensions) from the previous lesson.\n",
    "\n",
    "Now that you have the function, feel free to play around with it and compute bootstrap replicates with the finch beak or other data you want to play with."
   ]
  },
  {
   "cell_type": "markdown",
   "metadata": {},
   "source": [
    "<br />"
   ]
  },
  {
   "cell_type": "markdown",
   "metadata": {},
   "source": [
    "## Practice 2: Plot ECDFs of bootstrap samples\n",
    "\n",
    "To help you visualize how bootstrap samples can show what you might expect by repeating experiments, we will make a plot of ECDFs of lots of bootstrap samples.\n",
    "\n",
    ">1. Load in the beak depth data from 1975.\n",
    "2. Generate the `x` and `y` values for the ECDF of the data and plot them as before. Plot them with opacity = 0.3.\n",
    "3. Write a **`for`** loop to do the following 100 times:\n",
    "    * Generate a bootstrap sample from the data set using `np.random.choice()`.\n",
    "    * Compute the `x` and `y` values for the ECDF of the bootstrap sample.\n",
    "    * Add these samples to a `DataFrame`.\n",
    "4. Plot the bootstrap sample ECDFs in a different color with opacity = 0.01.\n",
    "\n",
    "In order to do this, you will need to allow for a larger data frame for your plot using\n",
    "```python\n",
    "alt.data_transformers.enable('default', max_rows=None)\n",
    "```\n",
    "or by using\n",
    "```python\n",
    "alt.data_transformers.enable('json')\n",
    "```\n",
    "Be aware of [the caveats of that](l28_plotting_time_series_generated_data_and_ecdfs#Handling-large-data-sets-with-Altair), though."
   ]
  }
 ],
 "metadata": {
  "anaconda-cloud": {},
  "kernelspec": {
   "display_name": "Python 3",
   "language": "python",
   "name": "python3"
  },
  "language_info": {
   "codemirror_mode": {
    "name": "ipython",
    "version": 3
   },
   "file_extension": ".py",
   "mimetype": "text/x-python",
   "name": "python",
   "nbconvert_exporter": "python",
   "pygments_lexer": "ipython3",
   "version": "3.6.5"
  }
 },
 "nbformat": 4,
 "nbformat_minor": 2
}
