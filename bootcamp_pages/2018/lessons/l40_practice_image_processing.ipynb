{
 "cells": [
  {
   "cell_type": "markdown",
   "metadata": {},
   "source": [
    "# Lesson 40: Practice image processing\n",
    "\n",
    "(c) 2018 Justin Bois. With the exception of pasted graphics, where the source is noted, this work is licensed under a [Creative Commons Attribution License CC-BY 4.0](https://creativecommons.org/licenses/by/4.0/). All code contained herein is licensed under an [MIT license](https://opensource.org/licenses/MIT).\n",
    "\n",
    "This document was prepared at [Caltech](http://www.caltech.edu) with financial support from the [Donna and Benjamin M. Rosen Bioengineering Center](http://rosen.caltech.edu).\n",
    "\n",
    "<img src=\"caltech_rosen.png\">\n",
    "\n",
    "*This lesson was generated from a Jupyter notebook.  You can download the notebook [here](l40_practice_image_processing.ipynb).*\n",
    "\n",
    "<br /><br />"
   ]
  },
  {
   "cell_type": "markdown",
   "metadata": {},
   "source": [
    "## Practice: Writing your own segmentation function\n",
    "\n",
    "As you probably noticed during the previous two lessons, there are often a lot of small operations that are sometimes necessary before you can even extract the useful data from the image! Rather than writing out each step whenever you want to process an image, you should write a boilerplate function that can be used to segment *any* phase contrast image of bacteria. Your function should execute the following steps.\n",
    "\n",
    ">1. Correct for \"hot\" or \"bad\" pixels in an image. \n",
    "2. Correct for uneven illumination. \n",
    "3. Perform a thresholding operation.\n",
    "4. Remove bacteria or objects near/touching the image border. \n",
    "5. Remove objects that are too large (or too small) to be bacteria. *Think carefully! For multipurpose function, would you **always** want the same area cutoff?*\n",
    "6. Remove improperly segmented cells.\n",
    "7. Return a labeled segmentation mask. \n",
    "\n",
    "A set of discrete operations like this is called a **pipeline**. It is usefull to think of image processing, or data processing for that matter, as a pipeline consisting of successive steps. This helps codify how you are extracting conclusions from your data and improves reproducibility.\n",
    "\n",
    "After putting your pipeline into a function, run the pipeline on both the *Bacillus subtilis* [Lesson 38](l38_intro_to_image_processing.html) and the *E. coli* [Lesson 39](l39_segmentation.html) image sets. Does your function work well in both cases? Note that in both of these image sets, the interpixel distance is 0.0626 µm per pixel. "
   ]
  }
 ],
 "metadata": {
  "anaconda-cloud": {},
  "kernelspec": {
   "display_name": "Python 3",
   "language": "python",
   "name": "python3"
  },
  "language_info": {
   "codemirror_mode": {
    "name": "ipython",
    "version": 3
   },
   "file_extension": ".py",
   "mimetype": "text/x-python",
   "name": "python",
   "nbconvert_exporter": "python",
   "pygments_lexer": "ipython3",
   "version": "3.6.5"
  }
 },
 "nbformat": 4,
 "nbformat_minor": 2
}
