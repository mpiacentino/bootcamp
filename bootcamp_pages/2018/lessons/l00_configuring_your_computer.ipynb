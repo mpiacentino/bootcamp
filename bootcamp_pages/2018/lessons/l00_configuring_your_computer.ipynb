{
 "cells": [
  {
   "cell_type": "markdown",
   "metadata": {},
   "source": [
    "# Lesson 0: Configuring your computer\n",
    "\n",
    "(c) 2018 Justin Bois. With the exception of pasted graphics, where the source is noted, this work is licensed under a [Creative Commons Attribution License CC-BY 4.0](https://creativecommons.org/licenses/by/4.0/). All code contained herein is licensed under an [MIT license](https://opensource.org/licenses/MIT).\n",
    "\n",
    "This document was prepared at [Caltech](http://www.caltech.edu) with financial support from the [Donna and Benjamin M. Rosen Bioengineering Center](http://rosen.caltech.edu).\n",
    "\n",
    "<img src=\"caltech_rosen.png\">\n",
    "\n",
    "*This lesson was generated from an Jupyter notebook.  You can download the notebook [here](l00_configuring_your_computer.ipynb).*\n",
    "\n",
    "<br /> <br />"
   ]
  },
  {
   "cell_type": "markdown",
   "metadata": {},
   "source": [
    "In this lesson, you will set up a Python computing environment for scientific computing. There are two main ways people set up Python for scientific computing.\n",
    "1. By downloading and installing package by package with tools like [apt-get](https://help.ubuntu.com/community/AptGet/Howto), [pip](https://docs.python.org/3/installing/), etc.\n",
    "2. By downloading and installing a Python distribution that contains binaries of many of the scientific packages needed. The major distributions of these are [Anaconda](https://store.continuum.io/cshop/anaconda/) and [Enthought Canopy](https://www.enthought.com/products/canopy/). Both contain IDEs.\n",
    "\n",
    "In this class, we will use Anaconda, with its associated package manager, `conda`. It has recently become the de facto package manager/distribution for scientific use.\n",
    "\n",
    "Before we get rolling with the Anaconda distribution, we have some considerations and installations to get out of the way first."
   ]
  },
  {
   "cell_type": "markdown",
   "metadata": {},
   "source": [
    "## macOS users: Install XCode\n",
    "\n",
    "If you are using macOS, you should [install XCode](https://developer.apple.com/xcode/), if you haven't already. It's a large piece of software, taking up about 5GB on your hard drive, so make sure you have enough space. Please install this ahead of the bootcamp, since if students install this during the bootcamp, it will overwhelm the wireless."
   ]
  },
  {
   "cell_type": "markdown",
   "metadata": {},
   "source": [
    "## Windows users: Install Git and Chrome or Firefox\n",
    "\n",
    "We will be using [JupyterLab](http://jupyterlab.readthedocs.io/en/stable/index.html) in the bootcamp. It is browser-based, and Chrome, Firefox, and Safari are supported. Internet Explorer is **not**. Therefore, if you are a Windows user, you need to be sure you have either Chrome of Firefox installed.\n",
    "\n",
    "Git is installed on Macs with XCode. For Windows users, you need to install Git. You can do this by following the instructions [here](https://gitforwindows.org)."
   ]
  },
  {
   "cell_type": "markdown",
   "metadata": {},
   "source": [
    "## Python 2 vs Python 3\n",
    "\n",
    "We are at an interesting point in Python's history.  Python is currently in version 3.6 (as of June 1, 2017). The problem is that Python 3.x is not backwards compatible with Python 2.x. Many scientific packages were written in Python 2.x and have been very slow to update to Python 3. However, Python 3 is Python's present and future, so all packages eventually need to work in Python 3. Today, most important scientific packages work in Python 3 (and some now *only* in Python 3). All of the packages we will use do, so we will use Python 3 in this course."
   ]
  },
  {
   "cell_type": "markdown",
   "metadata": {},
   "source": [
    "## Downloading and installing Anaconda\n",
    "\n",
    "Downloading and installing Anaconda is simple. \n",
    "1. Go to the [Anaconda homepage](https://anaconda.com/) and download the graphical installer.  \n",
    "2. Be sure to download Anaconda for Python 3.6.\n",
    "3. Follow the on-screen instructions for installation. (You may be prompted to install Microsoft Visual Studio Code, which is a good editor, and you may install it if you like, but we will not be using it in the bootcamp.)\n",
    "\n",
    "That's it!  After you do that, you will have a functioning Python distribution."
   ]
  },
  {
   "cell_type": "markdown",
   "metadata": {},
   "source": [
    "## Launching JupyterLab and a terminal\n",
    "\n",
    "After installing the Anaconda distribution, you should be able to launch the **Anaconda Navigator**. If you're using macOS, this is available in your `Applications` menu. If you are using Windows, you can do this from the Start menu. Launch Anaconda Navigator.\n",
    "\n",
    "We will be using JupyterLab throughout the bootcamp (more on that in [Lesson 1](l01_welcome.html)). You should see an option to launch JupyterLab. When you do that, a new browser window or tab will open with JupyterLab running. Within the JupyterLab window, you will have the option to launch a notebook, a console, a terminal, or a text editor. We will use all of these during the bootcamp. For the updating and installation of necessary packages, click on `Terminal` to launch a terminal. You will get a terminal window (probably black) with a bash prompt. We refer to this text interface in the terminal as the **command line**."
   ]
  },
  {
   "cell_type": "markdown",
   "metadata": {},
   "source": [
    "## The conda package manager\n",
    "\n",
    "conda is a package manager for keeping all of your packages up-to-date.  It has plenty of functionality beyond our basic usage in class, which you can learn more about by reading the [docs](http://conda.pydata.org/docs/get-started.html).  We will primarily be using conda to install and update packages.\n",
    "\n",
    "conda works from the command line.  Now that you know how to get a command line prompt, you can start using conda.  The first thing we'll do is update conda itself.  To do this, enter the following on the command line:\n",
    "\n",
    "    conda update conda\n",
    "\n",
    "If conda is out of date and needs to be updated, you will be prompted to perform the update.  Just type `y`, and the update will proceed.\n",
    "\n",
    "Now that conda is updated, we'll use it to see what packages are installed.  Type the following on the command line:\n",
    "\n",
    "    conda list\n",
    "\n",
    "This gives a list of all packages and their versions that are installed.  Now, we'll update all packages, so type the following on the command line:\n",
    "\n",
    "    conda update --all\n",
    "\n",
    "If anything is out of date, you will be prompted to perform the updates. (If everything is up to date, you will just see a list of all the installed packages.)  They may even be some downgrades.  This happens when there are package conflicts where one package requires an earlier version of another.  conda is very smart and figures all of this out for you, so you can almost always say \"yes\" (or \"`y`\") to conda when it prompts you."
   ]
  },
  {
   "cell_type": "markdown",
   "metadata": {},
   "source": [
    "## Optional installations\n",
    "\n",
    "We will be using [Altair](https://altair-viz.github.io/) for most of our plotting. By default, Altair only exports graphics as PNG and HTML (which is really all you need, at least for sharing plots and for the **paper of the future**, which is not a PDF and is interactive). However, many of use are still publishing the paper of the present, which is typically a PDF, and we want **vector graphics** for our plots. To enable Altair to publish vector graphics, you will need to install the [Google Chrome](https://www.google.com/chrome) web browser and [ChromeDriver](http://chromedriver.chromium.org). To install Chrome, simply [download it](https://www.google.com/chrome) and follow the on-screen instructions. You do not need to make it your default browser if you do not want to. To install ChromeDriver, download the [most recent ZIPped binary](http://chromedriver.chromium.org/downloads) (choose the zip file that matches your operating system). Unzip it, and save the binary to a directory in your `PATH`. (If you don't know what `PATH` means, it's ok; we'll cover is in [Lesson 2](l02_basic_command_line_skills.html).) If you're using macOS or Linux, you can do the following on the command line, assuming you saved the unzipped file in the `Downloads/` folder in your home directory.\n",
    "\n",
    "    mkdir -p /usr/local/bin\n",
    "    mv ~/Downloads/chromedriver /usr/local/bin/\n",
    "    \n",
    "Again, this installation is not necessary for the bootcamp, but will allow you to export SVGs from Altair."
   ]
  },
  {
   "cell_type": "markdown",
   "metadata": {},
   "source": [
    "## Necessary installations\n",
    "\n",
    "There are several additional installations you need to do for the bootcamp. First, you need to tell conda in what **channels** to look for packages. A channel is a URL specifying directories containing conda packages. Not all of the packages are in the default channel of conda, so we will instruct conda to look in the `conda-forge` and `bioconda` channels as well as the `defaults` channel. To do this, execute the following on the command line.\n",
    "\n",
    "    conda config --add channels conda-forge\n",
    "    conda config --add channels bioconda\n",
    "    conda config --add channels defaults\n",
    "\n",
    "Next, we will install the plotting packages [Altair](https://altair-viz.github.io/) and [Holoviews](http://holoviews.org),  and [Selenium](https://www.seleniumhq.org) and [node.js](https://nodejs.org/), which are utilities we won't use directly but may be useful under the hood. To do this, execute the following on the command line.\n",
    "\n",
    "    conda install altair holoviews selenium nodejs phantomjs\n",
    "    \n",
    "Finally, we need to configure JupyterLab to work with some of the packages we will use in bootcamp.\n",
    "\n",
    "    jupyter labextension install --no-build @jupyter-widgets/jupyterlab-manager\n",
    "    jupyter labextension install --no-build jupyterlab_bokeh\n",
    "    jupyter labextension install --no-build @pyviz/jupyterlab_holoviews\n",
    "    \n",
    "You may also wish to install a spell-checker (this one isn't necessary). I suspect this spell-checker will either be improved or replaced in the future, but it is all that is currently available (as of June 7, 2018).\n",
    "\n",
    "    jupyter labextension install --no-build @ijmbarr/jupyterlab_spellchecker\n",
    "\n",
    "After installing all of these extensions, you can rebuild JupyterLab.\n",
    "\n",
    "    jupyter lab build\n",
    "    \n",
    "You should close your JupyterLab session and relaunch it after you have completed the build. As before, after JupyterLab launched, launch a new terminal window so that you can proceed with setting up Git."
   ]
  },
  {
   "cell_type": "markdown",
   "metadata": {},
   "source": [
    "## Setting up Git\n",
    "\n",
    "Git features heavily in the bootcamp. We use it for **version control** and also for sharing files, data, and code we will use in the bootcamp."
   ]
  },
  {
   "cell_type": "markdown",
   "metadata": {},
   "source": [
    "#### Set up a GitHub account\n",
    "\n",
    "Go to [http://github.com/](http://github.com/) to get an account. You should register with your Caltech address so you get free private repositories as academics. You should also think carefully about picking your user name. There is a good chance other people in your professional life will see this."
   ]
  },
  {
   "cell_type": "markdown",
   "metadata": {},
   "source": [
    "#### Forking the bootcamp repository\n",
    "\n",
    "Let's say you want to do some work on a project with code stored in a **repository**, but you are not an active collaborator. For example, there could be a useful package a lab at another university put on GitHub for a certain kind of image segmentation that is useful for your research. You want to do something *almost* exactly like the package does, but need to make some small modifications yourself. You want to clone the repository and add a couple functions and maybe modify one or two they already have, leaving much of the rest of the repository untouched. Of course, you also want to update your local copy of all that untouched (but still used) code when the maintainers update it.\n",
    "\n",
    "This is kind of exactly what you want to do here in the bootcamp. We have a repository that has data sets and a couple tutorials, but you want to write your Python code right in that repository. If I update the data sets, you want to be able to pull in my changes, but still have your code in place.\n",
    "\n",
    "There is a nice way to do this called **forking**. To fork a repository on GitHub, simply navigate got the website of the repository and click the Fork button. Be sure you are logged in as yourself when you do this. [Here](https://github.com/justinbois/bootcamp/) is the GitHub page for the bootcamp.\n",
    "\n",
    "![bootcamp_github_page.png](bootcamp_github_page.png)\n",
    "\n",
    "The fork button is in the upper right. Just click the button, and you now have a **fork** of the bootcamp repository on your GitHub account."
   ]
  },
  {
   "cell_type": "markdown",
   "metadata": {},
   "source": [
    "#### Cloning your fork to your local machine\n",
    "\n",
    "Now you can clone your fork of the repository to your local machine. We will keep all of your material under version control in a directory called `git` in your home directory. Do the following on the command line.\n",
    "\n",
    "    mkdir -p ~/git\n",
    "    \n",
    "Now, being sure you are in the `~/git` directory, you can clone *your forked copy of the repository* (not the original `bootcamp` repository). To do this, navigate your browser to the forked copy of the `bootcamp` repository on your account (this is where clicking the \"Fork\" button took you in your browser).\n",
    "\n",
    "Click the green `Clone or download` button and copy the URL of the forked repository. Now, you can clone it by doing the following on the command line, making the obvious substitution for `the_url_you_just_copied`.\n",
    "    \n",
    "    cd ~/git\n",
    "    git clone --depth 5 the_url_you_just_copied\n",
    "    \n",
    "You now have a local copy of your own fork of the bootcamp repository. You can add files and edit it. When you commit and push, it will all be on your account, and the master repository will not see the changes."
   ]
  },
  {
   "cell_type": "markdown",
   "metadata": {},
   "source": [
    "#### Syncing your forked repository to the upstream repository\n",
    "\n",
    "As I mentioned before, you want to be able to sync your repository with the original `bootcamp` repository so you can retrieve any updates in it. The original repository is typically called the **upstream repository**, since presumably you are changing it, so you are downstream. You want the upstream repository to be a **remote** repository, which is just what we call a repository we track and fetch and merge from. To see which repositories are remote, do the following on the command line.\n",
    "\n",
    "    cd bootcamp\n",
    "    git remote -v\n",
    "\n",
    "The `-v` just means \"verbose,\" so it will also tell you the URLs. Entering that now will show a single repository, `origin`, which you can fetch from and push to. In your case, `origin` your fork of the bootcamp repository.\n",
    "\n",
    "We now want to add the upstream repository. To do this, add the **original** bootcamp repository as the upstream repository.\n",
    "\n",
    "    git remote add upstream https://github.com/justinbois/bootcamp.git\n",
    "\n",
    "Now try doing `git remote -v`, and you will see that you are now also tracking the upstream repository."
   ]
  },
  {
   "cell_type": "markdown",
   "metadata": {},
   "source": [
    "## Checking your distribution\n",
    "We'll now run a quick test to make sure things are working properly.  We will make a quick plot that requires some of the scientific libraries we will use in the bootcamp.\n",
    "\n",
    "Use the JupyterLab launcher (you can get a new launcher by clicking on the `+` icon on the left pane of your JupyterLab window) to launch a notebook. In the first cell (the box next to the `In [ ]:` prompt), paste the code below. To run the code, press `Shift+Enter` while the cursor is active inside the cell. You should see a plot that looks like the one below. If you do, you have a functioning Python environment for scientific computing!"
   ]
  },
  {
   "cell_type": "code",
   "execution_count": 1,
   "metadata": {},
   "outputs": [
    {
     "data": {
      "application/vnd.vegalite.v2+json": {
       "$schema": "https://vega.github.io/schema/vega-lite/v2.4.3.json",
       "config": {
        "view": {
         "height": 300,
         "width": 400
        }
       },
       "layer": [
        {
         "data": {
          "values": [
           {
            "t": 0,
            "x": 0,
            "y": 5
           },
           {
            "t": 0.03157379551346526,
            "x": 0.0005033659983465448,
            "y": 5.020416468187322
           },
           {
            "t": 0.06314759102693052,
            "x": 0.004020909793212218,
            "y": 5.081425355114658
           },
           {
            "t": 0.09472138654039577,
            "x": 0.01353677667008173,
            "y": 5.182308001398031
           },
           {
            "t": 0.12629518205386103,
            "x": 0.031975319146423334,
            "y": 5.321876247185761
           },
           {
            "t": 0.1578689775673263,
            "x": 0.06217187877894549,
            "y": 5.498486703940548
           },
           {
            "t": 0.18944277308079155,
            "x": 0.10684437497946016,
            "y": 5.710060463188752
           },
           {
            "t": 0.2210165685942568,
            "x": 0.16856595853957926,
            "y": 5.954107975254317
           },
           {
            "t": 0.25259036410772207,
            "x": 0.24973897800696312,
            "y": 6.227758761437445
           },
           {
            "t": 0.28416415962118735,
            "x": 0.3525704952706648,
            "y": 6.52779555844253
           },
           {
            "t": 0.3157379551346526,
            "x": 0.4790495728059429,
            "y": 6.850692435041765
           },
           {
            "t": 0.3473117506481178,
            "x": 0.6309265391244605,
            "y": 7.192656368827671
           },
           {
            "t": 0.3788855461615831,
            "x": 0.8096944212166364,
            "y": 7.549671726205223
           },
           {
            "t": 0.4104593416750484,
            "x": 1.0165727133183433,
            "y": 7.91754705213658
           },
           {
            "t": 0.4420331371885136,
            "x": 1.25249363035857,
            "y": 8.291963548089925
           },
           {
            "t": 0.47360693270197884,
            "x": 1.5180909721361808,
            "y": 8.668524597541529
           },
           {
            "t": 0.5051807282154441,
            "x": 1.8136917008325497,
            "y": 9.042805688483986
           },
           {
            "t": 0.5367545237289094,
            "x": 2.1393103101028186,
            "y": 9.410404081812985
           },
           {
            "t": 0.5683283192423747,
            "x": 2.4946460389202945,
            "y": 9.766987583168804
           },
           {
            "t": 0.5999021147558399,
            "x": 2.879082957800866,
            "y": 10.108341793627527
           },
           {
            "t": 0.6314759102693052,
            "x": 3.2916929292363024,
            "y": 10.430415241264322
           },
           {
            "t": 0.6630497057827704,
            "x": 3.731241418348404,
            "y": 10.729361830610708
           },
           {
            "t": 0.6946235012962356,
            "x": 4.196196104171446,
            "y": 11.001580089837894
           },
           {
            "t": 0.7261972968097009,
            "x": 4.684738216808124,
            "y": 11.243748745443325
           },
           {
            "t": 0.7577710923231662,
            "x": 5.194776501209537,
            "y": 11.45285821051708
           },
           {
            "t": 0.7893448878366315,
            "x": 5.723963684722766,
            "y": 11.626237634445703
           },
           {
            "t": 0.8209186833500968,
            "x": 6.269715303041486,
            "y": 11.761577228222936
           },
           {
            "t": 0.8524924788635619,
            "x": 6.829230717988095,
            "y": 11.85694564936433
           },
           {
            "t": 0.8840662743770272,
            "x": 7.399516140840055,
            "y": 11.910802302703946
           },
           {
            "t": 0.9156400698904925,
            "x": 7.977409456865299,
            "y": 11.922004486991638
           },
           {
            "t": 0.9472138654039577,
            "x": 8.559606630513567,
            "y": 11.889809391101084
           },
           {
            "t": 0.978787660917423,
            "x": 9.1426894564681,
            "y": 11.813871016695403
           },
           {
            "t": 1.0103614564308883,
            "x": 9.723154409622486,
            "y": 11.694232175292957
           },
           {
            "t": 1.0419352519443534,
            "x": 10.29744233712013,
            "y": 11.531311775780669
           },
           {
            "t": 1.0735090474578188,
            "x": 10.86196872796743,
            "y": 11.32588768253829
           },
           {
            "t": 1.105082842971284,
            "x": 11.413154290474887,
            "y": 11.079075483533629
           },
           {
            "t": 1.1366566384847494,
            "x": 11.947455564940494,
            "y": 10.792303561177267
           },
           {
            "t": 1.1682304339982146,
            "x": 12.461395298591809,
            "y": 10.46728490563052
           },
           {
            "t": 1.1998042295116798,
            "x": 12.951592311851536,
            "y": 10.10598614999239
           },
           {
            "t": 1.2313780250251452,
            "x": 13.414790589467117,
            "y": 9.710594338815712
           },
           {
            "t": 1.2629518205386103,
            "x": 13.847887336908528,
            "y": 9.283481965306619
           },
           {
            "t": 1.2945256160520755,
            "x": 14.247959751627988,
            "y": 8.827170828060952
           },
           {
            "t": 1.326099411565541,
            "x": 14.61229027020897,
            "y": 8.344295265134187
           },
           {
            "t": 1.357673207079006,
            "x": 14.938390066006797,
            "y": 7.837565321608635
           },
           {
            "t": 1.3892470025924712,
            "x": 15.224020587478083,
            "y": 7.309730396728168
           },
           {
            "t": 1.4208207981059366,
            "x": 15.467212944871038,
            "y": 6.763543898360977
           },
           {
            "t": 1.4523945936194018,
            "x": 15.666284972147334,
            "y": 6.2017294063958746
           },
           {
            "t": 1.4839683891328672,
            "x": 15.819855811756169,
            "y": 5.626948813167829
           },
           {
            "t": 1.5155421846463324,
            "x": 15.926857891996555,
            "y": 5.04177286874487
           },
           {
            "t": 1.5471159801597976,
            "x": 15.986546189987088,
            "y": 4.448654512593259
           },
           {
            "t": 1.578689775673263,
            "x": 15.998504697503789,
            "y": 3.8499053215625922
           },
           {
            "t": 1.6102635711867281,
            "x": 15.962650031929988,
            "y": 3.247675348164342
           },
           {
            "t": 1.6418373667001935,
            "x": 15.879232160062893,
            "y": 2.643936563686082
           },
           {
            "t": 1.6734111622136587,
            "x": 15.748832228311239,
            "y": 2.0404700587660667
           },
           {
            "t": 1.7049849577271239,
            "x": 15.572357518666204,
            "y": 1.4388570906559335
           },
           {
            "t": 1.7365587532405893,
            "x": 15.351033575501875,
            "y": 0.8404740025469727
           },
           {
            "t": 1.7681325487540545,
            "x": 15.086393573531751,
            "y": 0.24649097704803613
           },
           {
            "t": 1.7997063442675196,
            "x": 14.780265021887812,
            "y": -0.3421254758143456
           },
           {
            "t": 1.831280139780985,
            "x": 14.434753923077592,
            "y": -0.9246064548806059
           },
           {
            "t": 1.8628539352944502,
            "x": 14.052226528299585,
            "y": -1.5003712429500102
           },
           {
            "t": 1.8944277308079154,
            "x": 13.635288852053787,
            "y": -2.069014786597053
           },
           {
            "t": 1.9260015263213808,
            "x": 13.186764128981256,
            "y": -2.630292392920992
           },
           {
            "t": 1.957575321834846,
            "x": 12.709668414223461,
            "y": -3.184101995931832
           },
           {
            "t": 1.9891491173483113,
            "x": 12.207184545145912,
            "y": -3.730464379378933
           },
           {
            "t": 2.0207229128617765,
            "x": 11.682634696871785,
            "y": -4.2695017700527895
           },
           {
            "t": 2.0522967083752417,
            "x": 11.139451776589375,
            "y": -4.801415235565579
           },
           {
            "t": 2.083870503888707,
            "x": 10.58114991192076,
            "y": -5.326461333090326
           },
           {
            "t": 2.1154442994021725,
            "x": 10.011294296674244,
            "y": -5.84492846038556
           },
           {
            "t": 2.1470180949156377,
            "x": 9.433470662979524,
            "y": -6.357113357650165
           },
           {
            "t": 2.178591890429103,
            "x": 8.851254652069917,
            "y": -6.8632981984648875
           },
           {
            "t": 2.210165685942568,
            "x": 8.268181356802488,
            "y": -7.3637286905267265
           },
           {
            "t": 2.241739481456033,
            "x": 7.68771530738585,
            "y": -7.858593582432667
           },
           {
            "t": 2.273313276969499,
            "x": 7.113221167732713,
            "y": -8.34800594189189
           },
           {
            "t": 2.304887072482964,
            "x": 6.547935403405283,
            "y": -8.831986534015309
           },
           {
            "t": 2.336460867996429,
            "x": 5.994939173334872,
            "y": -9.310449586415674
           },
           {
            "t": 2.3680346635098943,
            "x": 5.457132686451373,
            "y": -9.783191181497768
           },
           {
            "t": 2.3996084590233595,
            "x": 4.937211251152192,
            "y": -10.249880466343804
           },
           {
            "t": 2.4311822545368247,
            "x": 4.437643230293047,
            "y": -10.710053817874103
           },
           {
            "t": 2.4627560500502903,
            "x": 3.960650097230803,
            "y": -11.163112046399362
           },
           {
            "t": 2.4943298455637555,
            "x": 3.508188769545635,
            "y": -11.608320665213522
           },
           {
            "t": 2.5259036410772207,
            "x": 3.0819363765852117,
            "y": -12.044813198451669
           },
           {
            "t": 2.557477436590686,
            "x": 2.6832775950918113,
            "y": -12.471597444993863
           },
           {
            "t": 2.589051232104151,
            "x": 2.313294664089595,
            "y": -12.887564563651273
           },
           {
            "t": 2.6206250276176166,
            "x": 1.9727601661315706,
            "y": -13.29150079510616
           },
           {
            "t": 2.652198823131082,
            "x": 1.6621326371494076,
            "y": -13.682101589921508
           },
           {
            "t": 2.683772618644547,
            "x": 1.381555041737333,
            "y": -14.057987870154756
           },
           {
            "t": 2.715346414158012,
            "x": 1.1308561249618916,
            "y": -14.417724115390385
           },
           {
            "t": 2.7469202096714773,
            "x": 0.9095546259527661,
            "y": -14.759837932948683
           },
           {
            "t": 2.7784940051849425,
            "x": 0.7168663128283075,
            "y": -15.082840747133533
           },
           {
            "t": 2.810067800698408,
            "x": 0.5517137731730305,
            "y": -15.385249224047278
           },
           {
            "t": 2.8416415962118733,
            "x": 0.412738869540479,
            "y": -15.665607037009048
           },
           {
            "t": 2.8732153917253385,
            "x": 0.29831774552527873,
            "y": -15.92250657313174
           },
           {
            "t": 2.9047891872388036,
            "x": 0.20657824504767855,
            "y": -16.154610184190055
           },
           {
            "t": 2.936362982752269,
            "x": 0.13541958582747138,
            "y": -16.360670594477064
           },
           {
            "t": 2.9679367782657344,
            "x": 0.08253410778646188,
            "y": -16.539550094709355
           },
           {
            "t": 2.9995105737791996,
            "x": 0.04543089849088304,
            "y": -16.690238173897956
           },
           {
            "t": 3.031084369292665,
            "x": 0.021461080894453515,
            "y": -16.811867270039897
           },
           {
            "t": 3.06265816480613,
            "x": 0.007844533720242805,
            "y": -16.903726354988198
           },
           {
            "t": 3.094231960319595,
            "x": 0.001697801958889391,
            "y": -16.965272108317162
           },
           {
            "t": 3.1258057558330608,
            "x": 6.294427741159189e-05,
            "y": -16.99613747872302
           },
           {
            "t": 3.157379551346526,
            "x": -6.294427741159429e-05,
            "y": -16.99613747872302
           },
           {
            "t": 3.188953346859991,
            "x": -0.0016978019588893647,
            "y": -16.965272108317162
           },
           {
            "t": 3.2205271423734563,
            "x": -0.00784453372024273,
            "y": -16.903726354988198
           },
           {
            "t": 3.2521009378869215,
            "x": -0.02146108089445337,
            "y": -16.811867270039897
           },
           {
            "t": 3.283674733400387,
            "x": -0.04543089849088323,
            "y": -16.690238173897953
           },
           {
            "t": 3.3152485289138522,
            "x": -0.0825341077864622,
            "y": -16.539550094709355
           },
           {
            "t": 3.3468223244273174,
            "x": -0.13541958582747093,
            "y": -16.360670594477067
           },
           {
            "t": 3.3783961199407826,
            "x": -0.20657824504767802,
            "y": -16.154610184190055
           },
           {
            "t": 3.4099699154542478,
            "x": -0.298317745525278,
            "y": -15.922506573131741
           },
           {
            "t": 3.441543710967713,
            "x": -0.41273886954047806,
            "y": -15.665607037009051
           },
           {
            "t": 3.4731175064811786,
            "x": -0.5517137731730316,
            "y": -15.385249224047275
           },
           {
            "t": 3.5046913019946437,
            "x": -0.7168663128283062,
            "y": -15.082840747133536
           },
           {
            "t": 3.536265097508109,
            "x": -0.9095546259527649,
            "y": -14.759837932948686
           },
           {
            "t": 3.567838893021574,
            "x": -1.1308561249618898,
            "y": -14.417724115390387
           },
           {
            "t": 3.5994126885350393,
            "x": -1.381555041737331,
            "y": -14.057987870154758
           },
           {
            "t": 3.630986484048505,
            "x": -1.6621326371494094,
            "y": -13.682101589921507
           },
           {
            "t": 3.66256027956197,
            "x": -1.9727601661315726,
            "y": -13.291500795106158
           },
           {
            "t": 3.6941340750754352,
            "x": -2.313294664089593,
            "y": -12.887564563651276
           },
           {
            "t": 3.7257078705889004,
            "x": -2.683277595091808,
            "y": -12.471597444993867
           },
           {
            "t": 3.7572816661023656,
            "x": -3.08193637658521,
            "y": -12.044813198451674
           },
           {
            "t": 3.7888554616158308,
            "x": -3.508188769545631,
            "y": -11.608320665213524
           },
           {
            "t": 3.8204292571292964,
            "x": -3.9606500972308054,
            "y": -11.16311204639936
           },
           {
            "t": 3.8520030526427615,
            "x": -4.4376432302930455,
            "y": -10.710053817874105
           },
           {
            "t": 3.8835768481562267,
            "x": -4.93721125115219,
            "y": -10.249880466343802
           },
           {
            "t": 3.915150643669692,
            "x": -5.457132686451367,
            "y": -9.783191181497772
           },
           {
            "t": 3.946724439183157,
            "x": -5.994939173334867,
            "y": -9.310449586415679
           },
           {
            "t": 3.9782982346966227,
            "x": -6.547935403405283,
            "y": -8.831986534015307
           },
           {
            "t": 4.009872030210087,
            "x": -7.113221167732707,
            "y": -8.348005941891895
           },
           {
            "t": 4.041445825723553,
            "x": -7.687715307385844,
            "y": -7.858593582432673
           },
           {
            "t": 4.073019621237019,
            "x": -8.268181356802488,
            "y": -7.363728690526724
           },
           {
            "t": 4.104593416750483,
            "x": -8.85125465206991,
            "y": -6.863298198464895
           },
           {
            "t": 4.136167212263949,
            "x": -9.433470662979529,
            "y": -6.357113357650161
           },
           {
            "t": 4.167741007777414,
            "x": -10.01129429667424,
            "y": -5.8449284603855665
           },
           {
            "t": 4.199314803290879,
            "x": -10.581149911920756,
            "y": -5.326461333090332
           },
           {
            "t": 4.230888598804345,
            "x": -11.13945177658938,
            "y": -4.8014152355655755
           },
           {
            "t": 4.26246239431781,
            "x": -11.68263469687178,
            "y": -4.269501770052793
           },
           {
            "t": 4.294036189831275,
            "x": -12.207184545145918,
            "y": -3.730464379378931
           },
           {
            "t": 4.32560998534474,
            "x": -12.709668414223453,
            "y": -3.1841019959318397
           },
           {
            "t": 4.357183780858206,
            "x": -13.186764128981256,
            "y": -2.6302923929209916
           },
           {
            "t": 4.388757576371671,
            "x": -13.635288852053792,
            "y": -2.0690147865970485
           },
           {
            "t": 4.420331371885136,
            "x": -14.05222652829958,
            "y": -1.5003712429500147
           },
           {
            "t": 4.451905167398602,
            "x": -14.434753923077597,
            "y": -0.9246064548806017
           },
           {
            "t": 4.483478962912066,
            "x": -14.780265021887807,
            "y": -0.3421254758143554
           },
           {
            "t": 4.515052758425532,
            "x": -15.086393573531751,
            "y": 0.2464909770480349
           },
           {
            "t": 4.546626553938998,
            "x": -15.351033575501875,
            "y": 0.8404740025469799
           },
           {
            "t": 4.578200349452462,
            "x": -15.572357518666204,
            "y": 1.4388570906559282
           },
           {
            "t": 4.609774144965928,
            "x": -15.748832228311244,
            "y": 2.040470058766067
           },
           {
            "t": 4.641347940479393,
            "x": -15.879232160062893,
            "y": 2.6439365636860797
           },
           {
            "t": 4.672921735992858,
            "x": -15.962650031929988,
            "y": 3.247675348164341
           },
           {
            "t": 4.704495531506323,
            "x": -15.998504697503789,
            "y": 3.849905321562583
           },
           {
            "t": 4.736069327019789,
            "x": -15.986546189987088,
            "y": 4.448654512593255
           },
           {
            "t": 4.767643122533254,
            "x": -15.926857891996555,
            "y": 5.041772868744874
           },
           {
            "t": 4.799216918046719,
            "x": -15.819855811756169,
            "y": 5.626948813167824
           },
           {
            "t": 4.830790713560185,
            "x": -15.666284972147334,
            "y": 6.201729406395875
           },
           {
            "t": 4.862364509073649,
            "x": -15.467212944871038,
            "y": 6.7635438983609655
           },
           {
            "t": 4.893938304587115,
            "x": -15.224020587478089,
            "y": 7.309730396728163
           },
           {
            "t": 4.925512100100581,
            "x": -14.938390066006797,
            "y": 7.837565321608638
           },
           {
            "t": 4.957085895614045,
            "x": -14.61229027020897,
            "y": 8.34429526513418
           },
           {
            "t": 4.988659691127511,
            "x": -14.247959751627988,
            "y": 8.827170828060952
           },
           {
            "t": 5.020233486640976,
            "x": -13.847887336908537,
            "y": 9.283481965306613
           },
           {
            "t": 5.051807282154441,
            "x": -13.414790589467117,
            "y": 9.710594338815712
           },
           {
            "t": 5.083381077667907,
            "x": -12.951592311851531,
            "y": 10.105986149992392
           },
           {
            "t": 5.114954873181372,
            "x": -12.461395298591809,
            "y": 10.467284905630516
           },
           {
            "t": 5.146528668694837,
            "x": -11.947455564940489,
            "y": 10.792303561177269
           },
           {
            "t": 5.178102464208302,
            "x": -11.413154290474896,
            "y": 11.079075483533627
           },
           {
            "t": 5.209676259721768,
            "x": -10.86196872796743,
            "y": 11.32588768253829
           },
           {
            "t": 5.241250055235233,
            "x": -10.29744233712013,
            "y": 11.53131177578067
           },
           {
            "t": 5.272823850748698,
            "x": -9.72315440962249,
            "y": 11.694232175292953
           },
           {
            "t": 5.304397646262164,
            "x": -9.1426894564681,
            "y": 11.813871016695401
           },
           {
            "t": 5.335971441775628,
            "x": -8.559606630513578,
            "y": 11.88980939110108
           },
           {
            "t": 5.367545237289094,
            "x": -7.977409456865299,
            "y": 11.922004486991634
           },
           {
            "t": 5.39911903280256,
            "x": -7.399516140840053,
            "y": 11.910802302703948
           },
           {
            "t": 5.430692828316024,
            "x": -6.829230717988101,
            "y": 11.856945649364334
           },
           {
            "t": 5.46226662382949,
            "x": -6.269715303041486,
            "y": 11.761577228222935
           },
           {
            "t": 5.493840419342955,
            "x": -5.723963684722777,
            "y": 11.626237634445706
           },
           {
            "t": 5.52541421485642,
            "x": -5.194776501209537,
            "y": 11.452858210517077
           },
           {
            "t": 5.556988010369885,
            "x": -4.6847382168081335,
            "y": 11.243748745443328
           },
           {
            "t": 5.588561805883351,
            "x": -4.196196104171451,
            "y": 11.001580089837894
           },
           {
            "t": 5.620135601396816,
            "x": -3.7312414183484,
            "y": 10.729361830610712
           },
           {
            "t": 5.651709396910281,
            "x": -3.2916929292363077,
            "y": 10.430415241264324
           },
           {
            "t": 5.683283192423747,
            "x": -2.879082957800866,
            "y": 10.108341793627527
           },
           {
            "t": 5.714856987937211,
            "x": -2.4946460389203007,
            "y": 9.76698758316881
           },
           {
            "t": 5.746430783450677,
            "x": -2.1393103101028186,
            "y": 9.410404081812985
           },
           {
            "t": 5.7780045789641425,
            "x": -1.8136917008325473,
            "y": 9.042805688483988
           },
           {
            "t": 5.809578374477607,
            "x": -1.5180909721361837,
            "y": 8.66852459754153
           },
           {
            "t": 5.841152169991073,
            "x": -1.2524936303585696,
            "y": 8.291963548089925
           },
           {
            "t": 5.872725965504538,
            "x": -1.0165727133183469,
            "y": 7.917547052136581
           },
           {
            "t": 5.904299761018003,
            "x": -0.809694421216637,
            "y": 7.549671726205223
           },
           {
            "t": 5.935873556531469,
            "x": -0.6309265391244593,
            "y": 7.19265636882767
           },
           {
            "t": 5.967447352044934,
            "x": -0.4790495728059442,
            "y": 6.850692435041772
           },
           {
            "t": 5.999021147558399,
            "x": -0.3525704952706644,
            "y": 6.527795558442527
           },
           {
            "t": 6.030594943071864,
            "x": -0.24973897800696437,
            "y": 6.2277587614374506
           },
           {
            "t": 6.06216873858533,
            "x": -0.1685659585395795,
            "y": 5.954107975254315
           },
           {
            "t": 6.093742534098795,
            "x": -0.10684437497945973,
            "y": 5.71006046318875
           },
           {
            "t": 6.12531632961226,
            "x": -0.062171878778945824,
            "y": 5.498486703940549
           },
           {
            "t": 6.1568901251257255,
            "x": -0.03197531914642327,
            "y": 5.321876247185762
           },
           {
            "t": 6.18846392063919,
            "x": -0.013536776670081921,
            "y": 5.182308001398031
           },
           {
            "t": 6.220037716152656,
            "x": -0.004020909793212233,
            "y": 5.081425355114656
           },
           {
            "t": 6.2516115116661215,
            "x": -0.0005033659983465313,
            "y": 5.020416468187322
           },
           {
            "t": 6.283185307179586,
            "x": -2.3509453021782707e-46,
            "y": 5
           }
          ]
         },
         "encoding": {
          "order": {
           "field": "t",
           "type": "quantitative"
          },
          "x": {
           "field": "x",
           "type": "quantitative"
          },
          "y": {
           "field": "y",
           "type": "quantitative"
          }
         },
         "mark": {
          "color": "red",
          "type": "line"
         },
         "selection": {
          "selector001": {
           "bind": "scales",
           "encodings": [
            "x",
            "y"
           ],
           "mark": {
            "fill": "#333",
            "fillOpacity": 0.125,
            "stroke": "white"
           },
           "on": "[mousedown, window:mouseup] > window:mousemove!",
           "resolve": "global",
           "translate": "[mousedown, window:mouseup] > window:mousemove!",
           "type": "interval",
           "zoom": "wheel!"
          }
         }
        },
        {
         "data": {
          "values": [
           {
            "x": 0,
            "y": 0
           }
          ]
         },
         "encoding": {
          "x": {
           "field": "x",
           "type": "quantitative"
          },
          "y": {
           "field": "y",
           "type": "quantitative"
          }
         },
         "mark": {
          "align": "center",
          "baseline": "bottom",
          "size": 30,
          "text": "bootcamp",
          "type": "text"
         }
        }
       ]
      },
      "image/png": "[encoded data removed]",
      "text/plain": [
       "<VegaLite 2 object>\n",
       "\n",
       "If you see this message, it means the renderer has not been properly enabled\n",
       "for the frontend that you are using. For more information, see\n",
       "https://altair-viz.github.io/user_guide/troubleshooting.html\n"
      ]
     },
     "execution_count": 1,
     "metadata": {},
     "output_type": "execute_result"
    }
   ],
   "source": [
    "import numpy as np\n",
    "import pandas as pd\n",
    "import altair as alt\n",
    "\n",
    "# Generate plotting values\n",
    "t = np.linspace(0, 2*np.pi, 200)\n",
    "x = 16 * np.sin(t)**3\n",
    "y = 13 * np.cos(t) - 5 * np.cos(2*t) - 2 * np.cos(3*t) - np.cos(4*t)\n",
    "\n",
    "# Build a data frame for plotting\n",
    "df = pd.DataFrame({'x': x,\n",
    "                   'y': y,\n",
    "                   't': t})\n",
    "\n",
    "df_text = pd.DataFrame({'x': [0],\n",
    "                        'y': [0]})\n",
    "\n",
    "# Make a plot\n",
    "heart = alt.Chart(df\n",
    "        ).mark_line(\n",
    "            color='red'\n",
    "        ).encode(\n",
    "            x='x:Q',\n",
    "            y='y:Q',\n",
    "            order='t')\n",
    "\n",
    "text = alt.Chart(df_text\n",
    "        ).mark_text(\n",
    "            text='bootcamp',\n",
    "            align='center',\n",
    "            baseline='bottom',\n",
    "            size=30\n",
    "        ).encode(\n",
    "            x='x:Q',\n",
    "            y='y:Q')\n",
    "\n",
    "(heart + text).interactive()"
   ]
  }
 ],
 "metadata": {
  "anaconda-cloud": {},
  "kernelspec": {
   "display_name": "Python 3",
   "language": "python",
   "name": "python3"
  },
  "language_info": {
   "codemirror_mode": {
    "name": "ipython",
    "version": 3
   },
   "file_extension": ".py",
   "mimetype": "text/x-python",
   "name": "python",
   "nbconvert_exporter": "python",
   "pygments_lexer": "ipython3",
   "version": "3.6.5"
  }
 },
 "nbformat": 4,
 "nbformat_minor": 2
}
