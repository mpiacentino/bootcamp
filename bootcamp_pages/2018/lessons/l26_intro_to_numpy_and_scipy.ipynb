{
 "cells": [
  {
   "cell_type": "markdown",
   "metadata": {},
   "source": [
    "# Lesson 26: Introduction to Numpy and Scipy\n",
    "\n",
    "(c) 2018 Justin Bois. With the exception of pasted graphics, where the source is noted, this work is licensed under a [Creative Commons Attribution License CC-BY 4.0](https://creativecommons.org/licenses/by/4.0/). All code contained herein is licensed under an [MIT license](https://opensource.org/licenses/MIT).\n",
    "\n",
    "This document was prepared at [Caltech](http://www.caltech.edu) with financial support from the [Donna and Benjamin M. Rosen Bioengineering Center](http://rosen.caltech.edu).\n",
    "\n",
    "<img src=\"caltech_rosen.png\">\n",
    "\n",
    "*This tutorial was generated from a Jupyter notebook.  You can download the notebook [here](l26_intro_to_numpy_and_scipy.ipynb).*\n",
    "\n",
    "<br /> <br />"
   ]
  },
  {
   "cell_type": "code",
   "execution_count": 2,
   "metadata": {
    "collapsed": true
   },
   "outputs": [],
   "source": [
    "# Numy, the engine of scientific computing in Python\n",
    "import numpy as np\n",
    "\n",
    "# We'll demo a bit of Scipy\n",
    "import scipy.special"
   ]
  },
  {
   "cell_type": "markdown",
   "metadata": {},
   "source": [
    "In this lesson, you will learn about [**NumPy**](http://www.numpy.org), arguably *the* most important package for scientific computing, and SciPy, a package containing lots of goodies for scientific computing, like special functions and numerical integrators.  "
   ]
  },
  {
   "cell_type": "markdown",
   "metadata": {},
   "source": [
    "## A very brief introduction to NumPy arrays\n",
    "\n",
    "The central object for NumPy and SciPy is the `ndarray`, commonly referred to as a \"NumPy array.\"  This is an array object that is convenient for scientific computing.  We will go over it in depth in the next lesson, but for now, let's just create some NumPy arrays and see how operators work on them.\n",
    "\n",
    "Just like with type conversions with lists, tuples, and other data types we've looked at, we can convert a list to a NumPy array using\n",
    "\n",
    "    np.array()\n",
    "    \n",
    "Note that above we imported the NumPy package \"**`as`** `np`\".  This is for convenience; it allow us to use `np` as a prefix instead of `numpy`.  NumPy is in **very** widespread use, and the convention is to use the `np` abbreviation."
   ]
  },
  {
   "cell_type": "code",
   "execution_count": 3,
   "metadata": {},
   "outputs": [
    {
     "data": {
      "text/plain": [
       "array([1, 2, 3, 4])"
      ]
     },
     "execution_count": 3,
     "metadata": {},
     "output_type": "execute_result"
    }
   ],
   "source": [
    "# Create a NumPy array from a list\n",
    "my_ar = np.array([1, 2, 3, 4])\n",
    "\n",
    "# Look at it\n",
    "my_ar"
   ]
  },
  {
   "cell_type": "markdown",
   "metadata": {},
   "source": [
    "We see that the list has been converted, and it is explicitly shown as an array.  It has several attributes and lots of methods.  The most important attributes are probably the data type of its elements and the shape of the array."
   ]
  },
  {
   "cell_type": "code",
   "execution_count": 4,
   "metadata": {},
   "outputs": [
    {
     "data": {
      "text/plain": [
       "dtype('int64')"
      ]
     },
     "execution_count": 4,
     "metadata": {},
     "output_type": "execute_result"
    }
   ],
   "source": [
    "# The data type of stored entries\n",
    "my_ar.dtype"
   ]
  },
  {
   "cell_type": "code",
   "execution_count": 5,
   "metadata": {},
   "outputs": [
    {
     "data": {
      "text/plain": [
       "(4,)"
      ]
     },
     "execution_count": 5,
     "metadata": {},
     "output_type": "execute_result"
    }
   ],
   "source": [
    "# The shape of the array\n",
    "my_ar.shape"
   ]
  },
  {
   "cell_type": "markdown",
   "metadata": {},
   "source": [
    "There are also lots of methods.  The one I use most often is `astype()`, which converts the data type of the array."
   ]
  },
  {
   "cell_type": "code",
   "execution_count": 6,
   "metadata": {},
   "outputs": [
    {
     "data": {
      "text/plain": [
       "array([1., 2., 3., 4.])"
      ]
     },
     "execution_count": 6,
     "metadata": {},
     "output_type": "execute_result"
    }
   ],
   "source": [
    "my_ar.astype(float)"
   ]
  },
  {
   "cell_type": "markdown",
   "metadata": {},
   "source": [
    "There are many others. For example, we can compute summary statistics about the entries in the array."
   ]
  },
  {
   "cell_type": "code",
   "execution_count": 7,
   "metadata": {},
   "outputs": [
    {
     "name": "stdout",
     "output_type": "stream",
     "text": [
      "4\n",
      "1\n",
      "10\n",
      "2.5\n",
      "1.118033988749895\n"
     ]
    }
   ],
   "source": [
    "print(my_ar.max())\n",
    "print(my_ar.min())\n",
    "print(my_ar.sum())\n",
    "print(my_ar.mean())\n",
    "print(my_ar.std())"
   ]
  },
  {
   "cell_type": "markdown",
   "metadata": {},
   "source": [
    "Importantly, NumPy arrays can be arguments to NumPy functions. In this case, these functions do the same operations as the methods we just looked at."
   ]
  },
  {
   "cell_type": "code",
   "execution_count": 8,
   "metadata": {},
   "outputs": [
    {
     "name": "stdout",
     "output_type": "stream",
     "text": [
      "4\n",
      "1\n",
      "10\n",
      "2.5\n",
      "1.118033988749895\n"
     ]
    }
   ],
   "source": [
    "print(np.max(my_ar))\n",
    "print(np.min(my_ar))\n",
    "print(np.sum(my_ar))\n",
    "print(np.mean(my_ar))\n",
    "print(np.std(my_ar))"
   ]
  },
  {
   "cell_type": "markdown",
   "metadata": {},
   "source": [
    "## Other ways to make NumPy arrays\n",
    "\n",
    "There are many other ways to make NumPy arrays besides just converting lists or tuples.  Below are some examples."
   ]
  },
  {
   "cell_type": "code",
   "execution_count": 9,
   "metadata": {},
   "outputs": [
    {
     "data": {
      "text/plain": [
       "array([0., 0., 0., 0., 0., 0., 0., 0., 0., 0.])"
      ]
     },
     "execution_count": 9,
     "metadata": {},
     "output_type": "execute_result"
    }
   ],
   "source": [
    "# How long our arrays will be\n",
    "n = 10\n",
    "\n",
    "# Make a NumPy array of length n filled with zeros\n",
    "np.zeros(n)"
   ]
  },
  {
   "cell_type": "code",
   "execution_count": 10,
   "metadata": {},
   "outputs": [
    {
     "data": {
      "text/plain": [
       "array([1., 1., 1., 1., 1., 1., 1., 1., 1., 1.])"
      ]
     },
     "execution_count": 10,
     "metadata": {},
     "output_type": "execute_result"
    }
   ],
   "source": [
    "# Make a NumPy array of length n filled with ones\n",
    "np.ones(n)"
   ]
  },
  {
   "cell_type": "code",
   "execution_count": 11,
   "metadata": {},
   "outputs": [
    {
     "data": {
      "text/plain": [
       "array([1., 1., 1., 1., 1., 1., 1., 1., 1., 1.])"
      ]
     },
     "execution_count": 11,
     "metadata": {},
     "output_type": "execute_result"
    }
   ],
   "source": [
    "# Make an empty NumPy array of length n without initializing entries\n",
    "# (while it initially holds whatever values were previously in the memory\n",
    "# locations assigned, ones will be displayed)\n",
    "np.empty(n)"
   ]
  },
  {
   "cell_type": "code",
   "execution_count": 12,
   "metadata": {},
   "outputs": [
    {
     "data": {
      "text/plain": [
       "array([[0, 0],\n",
       "       [0, 0]])"
      ]
     },
     "execution_count": 12,
     "metadata": {},
     "output_type": "execute_result"
    }
   ],
   "source": [
    "# Make a NumPy array filled with zeros the same shape as another NumPy array\n",
    "my_ar = np.array([[1, 2], [3, 4]])\n",
    "np.zeros_like(my_ar)"
   ]
  },
  {
   "cell_type": "markdown",
   "metadata": {},
   "source": [
    "## NumPy has useful mathematical functions\n",
    "\n",
    "So far, we have not done much mathematics with Python.  We have done some adding and division, but nothing like computing a logarithm or cosine.  The NumPy functions also work elementwise on the arrays when it is intuitive to do so (just like we have seen in Pandas `DataFrame`s). That is, they apply the function to each entry in the array. Check it out!"
   ]
  },
  {
   "cell_type": "code",
   "execution_count": 13,
   "metadata": {},
   "outputs": [
    {
     "data": {
      "text/plain": [
       "array([ 2.71828183,  7.3890561 , 20.08553692, 54.59815003])"
      ]
     },
     "execution_count": 13,
     "metadata": {},
     "output_type": "execute_result"
    }
   ],
   "source": [
    "my_ar = np.array([1, 2, 3, 4])\n",
    "\n",
    "# Exponential\n",
    "np.exp(my_ar)"
   ]
  },
  {
   "cell_type": "code",
   "execution_count": 14,
   "metadata": {},
   "outputs": [
    {
     "data": {
      "text/plain": [
       "array([ 0.54030231, -0.41614684, -0.9899925 , -0.65364362])"
      ]
     },
     "execution_count": 14,
     "metadata": {},
     "output_type": "execute_result"
    }
   ],
   "source": [
    "# Cosine\n",
    "np.cos(my_ar)"
   ]
  },
  {
   "cell_type": "code",
   "execution_count": 15,
   "metadata": {},
   "outputs": [
    {
     "data": {
      "text/plain": [
       "array([1.        , 1.41421356, 1.73205081, 2.        ])"
      ]
     },
     "execution_count": 15,
     "metadata": {},
     "output_type": "execute_result"
    }
   ],
   "source": [
    "# Square root\n",
    "np.sqrt(my_ar)"
   ]
  },
  {
   "cell_type": "markdown",
   "metadata": {},
   "source": [
    "We can even do some matrix operations (which are obviously not done elementwise), like dot products."
   ]
  },
  {
   "cell_type": "code",
   "execution_count": 16,
   "metadata": {},
   "outputs": [
    {
     "data": {
      "text/plain": [
       "30"
      ]
     },
     "execution_count": 16,
     "metadata": {},
     "output_type": "execute_result"
    }
   ],
   "source": [
    "np.dot(my_ar, my_ar)"
   ]
  },
  {
   "cell_type": "markdown",
   "metadata": {},
   "source": [
    "NumPy also has useful attributes, like `np.pi`."
   ]
  },
  {
   "cell_type": "code",
   "execution_count": 17,
   "metadata": {},
   "outputs": [
    {
     "data": {
      "text/plain": [
       "3.141592653589793"
      ]
     },
     "execution_count": 17,
     "metadata": {},
     "output_type": "execute_result"
    }
   ],
   "source": [
    "np.pi"
   ]
  },
  {
   "cell_type": "markdown",
   "metadata": {},
   "source": [
    "## SciPy has even more useful functions (in modules)\n",
    "\n",
    "SciPy actually began life as a library of special functions that operate on NumPy arrays. For example, we can compute an error function using the `scipy.special` module, which contains lots of special functions.  Note that you often have to individually import the SciPy module you want to use, for example with\n",
    "   \n",
    "    import scipy.special"
   ]
  },
  {
   "cell_type": "code",
   "execution_count": 18,
   "metadata": {},
   "outputs": [
    {
     "data": {
      "text/plain": [
       "array([0.84270079, 0.99532227, 0.99997791, 0.99999998])"
      ]
     },
     "execution_count": 18,
     "metadata": {},
     "output_type": "execute_result"
    }
   ],
   "source": [
    "scipy.special.erf(my_ar)"
   ]
  },
  {
   "cell_type": "markdown",
   "metadata": {},
   "source": [
    "## NumPy and SciPy are highly optimized\n",
    "\n",
    "Importantly, NumPy and SciPy routines are often *fast*.  To understand why, we need to think a bit about how your computer actually runs code you write."
   ]
  },
  {
   "cell_type": "markdown",
   "metadata": {},
   "source": [
    "### Interpreted and compiled languages\n",
    "\n",
    "We have touched on the fact that Python is an **interpreted language**.  This means that the Python interpreter reads through your code, line by line, translates the commands into instructions that your computer's processor can execute, and then these are executed. It also does [**garbage collection**](https://en.wikipedia.org/wiki/Garbage_collection_(computer_science)), which manages memory usage in your programs for you.  As an interpreted language, code is often much easier to write, and development time is much shorter.  It is often easier to debug.  By contrast, with **compiled languages** (the dominant ones being Fortran, C, and C++), your entire source code is translated into machine code before you ever run it.  When you execute your program, it is already in machine code.  As a result, compiled code is often much faster than interpreted code.  The speed difference depends largely on the task at hand, but there is often over a 100-fold difference.\n",
    "\n",
    "First, we'll demonstrate the difference between compiled and interpreted languages by looking at a function to sum the elements of an array.  Note that Python is [dynamically typed](http://stackoverflow.com/a/34004445/2320823), so the function below works for multiple data types, but the C function works only for [double precision floating point](https://en.wikipedia.org/wiki/Double-precision_floating-point_format) numbers."
   ]
  },
  {
   "cell_type": "code",
   "execution_count": 19,
   "metadata": {},
   "outputs": [
    {
     "name": "stdout",
     "output_type": "stream",
     "text": [
      "10\n"
     ]
    }
   ],
   "source": [
    "# Python code to sum an array and print the result to the screen\n",
    "print(sum(my_ar))"
   ]
  },
  {
   "cell_type": "markdown",
   "metadata": {},
   "source": [
    "```C\n",
    "/* C code to sum an array and print the result to the screen */\n",
    "\n",
    "#include <stdio.h>\n",
    "\n",
    "void sum_array(double a[], int n);\n",
    "\n",
    "void sum_array(double a[], int n) {\n",
    "   int i; \n",
    "   double sum=0;\n",
    "   for (i = 0; i < n; i++){\n",
    "       sum += a[i];\n",
    "   }\n",
    "   printf(\"%g\\n\", sum);\n",
    "}\n",
    "```"
   ]
  },
  {
   "cell_type": "markdown",
   "metadata": {},
   "source": [
    "The C code won't even execute without another function called `main` to call it.  You should notice the difference in complexity of the code.  Interpreted code is very often much easier to write!"
   ]
  },
  {
   "cell_type": "markdown",
   "metadata": {},
   "source": [
    "### NumPy and SciPy use compiled code!\n",
    "\n",
    "Under the hood, when you call a NumPy or SciPy function, or use one of the methods, the Python interpreter passes the arrays into pre-compiled functions. (They are usually C or Fortran functions.)  That means that you get to use an interpreted language with near-compiled speed! We can demonstrate the speed by comparing an explicit sum of elements of an array using a Python **`for`** loop versus NumPy. We will use the `np.random` module to generate a large array of random numbers (we will visit random number generation in a coming lesson). We then use the `%timeit` magic function of IPython to time the execution of the sum of the elements of the array."
   ]
  },
  {
   "cell_type": "code",
   "execution_count": 20,
   "metadata": {},
   "outputs": [
    {
     "name": "stdout",
     "output_type": "stream",
     "text": [
      "1.03 ms ± 14.4 µs per loop (mean ± std. dev. of 7 runs, 1000 loops each)\n"
     ]
    }
   ],
   "source": [
    "# Make array of 10,000 random numbers\n",
    "x = np.random.random(10000)\n",
    "\n",
    "# Sum with Python for loop\n",
    "def python_sum(x):\n",
    "    x_sum = 0.0\n",
    "    for y in x:\n",
    "        x_sum += y\n",
    "    return x_sum\n",
    "\n",
    "# Test speed\n",
    "%timeit python_sum(x)"
   ]
  },
  {
   "cell_type": "markdown",
   "metadata": {},
   "source": [
    "Now we'll do the same test with the NumPy implementation."
   ]
  },
  {
   "cell_type": "code",
   "execution_count": 21,
   "metadata": {},
   "outputs": [
    {
     "name": "stdout",
     "output_type": "stream",
     "text": [
      "6.04 µs ± 84.6 ns per loop (mean ± std. dev. of 7 runs, 100000 loops each)\n"
     ]
    }
   ],
   "source": [
    "%timeit np.sum(x)"
   ]
  },
  {
   "cell_type": "markdown",
   "metadata": {},
   "source": [
    "Wow!  We went from 1 millisecond to 6 *micro*seconds!  That's a factor of about 170!"
   ]
  },
  {
   "cell_type": "markdown",
   "metadata": {},
   "source": [
    "## Word of advice: use NumPy and SciPy\n",
    "\n",
    "If you are writing code and you think to yourself, \"This seems like a pretty common things to do,\" there is a good chance the someone really smart has written code to do it.  If it's something numerical, there is a good chance it is in NumPy or SciPy.  **Use these packages.** Do not reinvent the wheel.  It is very rare you can beat them for performance, error checking, etc.\n",
    "\n",
    "Furthermore, NumPy and SciPy are very well tested (and we learned the importance of that in the test-driven development lessons).  In general, you do not need to write unit tests for well-established packages.  Obviously, if you use NumPy or SciPy within your own functions, you still need to test what you wrote."
   ]
  }
 ],
 "metadata": {
  "anaconda-cloud": {},
  "kernelspec": {
   "display_name": "Python 3",
   "language": "python",
   "name": "python3"
  },
  "language_info": {
   "codemirror_mode": {
    "name": "ipython",
    "version": 3
   },
   "file_extension": ".py",
   "mimetype": "text/x-python",
   "name": "python",
   "nbconvert_exporter": "python",
   "pygments_lexer": "ipython3",
   "version": "3.6.5"
  }
 },
 "nbformat": 4,
 "nbformat_minor": 2
}
