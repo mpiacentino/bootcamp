{
 "cells": [
  {
   "cell_type": "markdown",
   "metadata": {},
   "source": [
    "# Lesson 37: Practice with pairs bootstrap and Bokeh *solution*\n",
    "\n",
    "(c) 2018 Justin Bois. With the exception of pasted graphics, where the source is noted, this work is licensed under a [Creative Commons Attribution License CC-BY 4.0](https://creativecommons.org/licenses/by/4.0/). All code contained herein is licensed under an [MIT license](https://opensource.org/licenses/MIT).\n",
    "\n",
    "This document was prepared at [Caltech](http://www.caltech.edu) with financial support from the [Donna and Benjamin M. Rosen Bioengineering Center](http://rosen.caltech.edu).\n",
    "\n",
    "<img src=\"caltech_rosen.png\">\n",
    "\n",
    "*This lesson was generated from a Jupyter notebook.  You can download the notebook [here](l37_practice_with_pairs_bs_and_bokeh_solution.ipynb).*\n",
    "\n",
    "<br /><br />"
   ]
  },
  {
   "cell_type": "code",
   "execution_count": 1,
   "metadata": {},
   "outputs": [
    {
     "data": {
      "text/html": [
       "\n",
       "    <div class=\"bk-root\">\n",
       "        <a href=\"https://bokeh.pydata.org\" target=\"_blank\" class=\"bk-logo bk-logo-small bk-logo-notebook\"></a>\n",
       "        <span id=\"15390a1b-f541-4d66-8b0d-0a713654f8f8\">Loading BokehJS ...</span>\n",
       "    </div>"
      ]
     },
     "metadata": {},
     "output_type": "display_data"
    },
    {
     "data": {
      "application/javascript": [
       "\n",
       "(function(root) {\n",
       "  function now() {\n",
       "    return new Date();\n",
       "  }\n",
       "\n",
       "  var force = true;\n",
       "\n",
       "  if (typeof (root._bokeh_onload_callbacks) === \"undefined\" || force === true) {\n",
       "    root._bokeh_onload_callbacks = [];\n",
       "    root._bokeh_is_loading = undefined;\n",
       "  }\n",
       "\n",
       "  var JS_MIME_TYPE = 'application/javascript';\n",
       "  var HTML_MIME_TYPE = 'text/html';\n",
       "  var EXEC_MIME_TYPE = 'application/vnd.bokehjs_exec.v0+json';\n",
       "  var CLASS_NAME = 'output_bokeh rendered_html';\n",
       "\n",
       "  /**\n",
       "   * Render data to the DOM node\n",
       "   */\n",
       "  function render(props, node) {\n",
       "    var script = document.createElement(\"script\");\n",
       "    node.appendChild(script);\n",
       "  }\n",
       "\n",
       "  /**\n",
       "   * Handle when an output is cleared or removed\n",
       "   */\n",
       "  function handleClearOutput(event, handle) {\n",
       "    var cell = handle.cell;\n",
       "\n",
       "    var id = cell.output_area._bokeh_element_id;\n",
       "    var server_id = cell.output_area._bokeh_server_id;\n",
       "    // Clean up Bokeh references\n",
       "    if (id !== undefined) {\n",
       "      Bokeh.index[id].model.document.clear();\n",
       "      delete Bokeh.index[id];\n",
       "    }\n",
       "\n",
       "    if (server_id !== undefined) {\n",
       "      // Clean up Bokeh references\n",
       "      var cmd = \"from bokeh.io.state import curstate; print(curstate().uuid_to_server['\" + server_id + \"'].get_sessions()[0].document.roots[0]._id)\";\n",
       "      cell.notebook.kernel.execute(cmd, {\n",
       "        iopub: {\n",
       "          output: function(msg) {\n",
       "            var element_id = msg.content.text.trim();\n",
       "            Bokeh.index[element_id].model.document.clear();\n",
       "            delete Bokeh.index[element_id];\n",
       "          }\n",
       "        }\n",
       "      });\n",
       "      // Destroy server and session\n",
       "      var cmd = \"import bokeh.io.notebook as ion; ion.destroy_server('\" + server_id + \"')\";\n",
       "      cell.notebook.kernel.execute(cmd);\n",
       "    }\n",
       "  }\n",
       "\n",
       "  /**\n",
       "   * Handle when a new output is added\n",
       "   */\n",
       "  function handleAddOutput(event, handle) {\n",
       "    var output_area = handle.output_area;\n",
       "    var output = handle.output;\n",
       "\n",
       "    // limit handleAddOutput to display_data with EXEC_MIME_TYPE content only\n",
       "    if ((output.output_type != \"display_data\") || (!output.data.hasOwnProperty(EXEC_MIME_TYPE))) {\n",
       "      return\n",
       "    }\n",
       "\n",
       "    var toinsert = output_area.element.find(\".\" + CLASS_NAME.split(' ')[0]);\n",
       "\n",
       "    if (output.metadata[EXEC_MIME_TYPE][\"id\"] !== undefined) {\n",
       "      toinsert[toinsert.length - 1].firstChild.textContent = output.data[JS_MIME_TYPE];\n",
       "      // store reference to embed id on output_area\n",
       "      output_area._bokeh_element_id = output.metadata[EXEC_MIME_TYPE][\"id\"];\n",
       "    }\n",
       "    if (output.metadata[EXEC_MIME_TYPE][\"server_id\"] !== undefined) {\n",
       "      var bk_div = document.createElement(\"div\");\n",
       "      bk_div.innerHTML = output.data[HTML_MIME_TYPE];\n",
       "      var script_attrs = bk_div.children[0].attributes;\n",
       "      for (var i = 0; i < script_attrs.length; i++) {\n",
       "        toinsert[toinsert.length - 1].firstChild.setAttribute(script_attrs[i].name, script_attrs[i].value);\n",
       "      }\n",
       "      // store reference to server id on output_area\n",
       "      output_area._bokeh_server_id = output.metadata[EXEC_MIME_TYPE][\"server_id\"];\n",
       "    }\n",
       "  }\n",
       "\n",
       "  function register_renderer(events, OutputArea) {\n",
       "\n",
       "    function append_mime(data, metadata, element) {\n",
       "      // create a DOM node to render to\n",
       "      var toinsert = this.create_output_subarea(\n",
       "        metadata,\n",
       "        CLASS_NAME,\n",
       "        EXEC_MIME_TYPE\n",
       "      );\n",
       "      this.keyboard_manager.register_events(toinsert);\n",
       "      // Render to node\n",
       "      var props = {data: data, metadata: metadata[EXEC_MIME_TYPE]};\n",
       "      render(props, toinsert[toinsert.length - 1]);\n",
       "      element.append(toinsert);\n",
       "      return toinsert\n",
       "    }\n",
       "\n",
       "    /* Handle when an output is cleared or removed */\n",
       "    events.on('clear_output.CodeCell', handleClearOutput);\n",
       "    events.on('delete.Cell', handleClearOutput);\n",
       "\n",
       "    /* Handle when a new output is added */\n",
       "    events.on('output_added.OutputArea', handleAddOutput);\n",
       "\n",
       "    /**\n",
       "     * Register the mime type and append_mime function with output_area\n",
       "     */\n",
       "    OutputArea.prototype.register_mime_type(EXEC_MIME_TYPE, append_mime, {\n",
       "      /* Is output safe? */\n",
       "      safe: true,\n",
       "      /* Index of renderer in `output_area.display_order` */\n",
       "      index: 0\n",
       "    });\n",
       "  }\n",
       "\n",
       "  // register the mime type if in Jupyter Notebook environment and previously unregistered\n",
       "  if (root.Jupyter !== undefined) {\n",
       "    var events = require('base/js/events');\n",
       "    var OutputArea = require('notebook/js/outputarea').OutputArea;\n",
       "\n",
       "    if (OutputArea.prototype.mime_types().indexOf(EXEC_MIME_TYPE) == -1) {\n",
       "      register_renderer(events, OutputArea);\n",
       "    }\n",
       "  }\n",
       "\n",
       "  \n",
       "  if (typeof (root._bokeh_timeout) === \"undefined\" || force === true) {\n",
       "    root._bokeh_timeout = Date.now() + 5000;\n",
       "    root._bokeh_failed_load = false;\n",
       "  }\n",
       "\n",
       "  var NB_LOAD_WARNING = {'data': {'text/html':\n",
       "     \"<div style='background-color: #fdd'>\\n\"+\n",
       "     \"<p>\\n\"+\n",
       "     \"BokehJS does not appear to have successfully loaded. If loading BokehJS from CDN, this \\n\"+\n",
       "     \"may be due to a slow or bad network connection. Possible fixes:\\n\"+\n",
       "     \"</p>\\n\"+\n",
       "     \"<ul>\\n\"+\n",
       "     \"<li>re-rerun `output_notebook()` to attempt to load from CDN again, or</li>\\n\"+\n",
       "     \"<li>use INLINE resources instead, as so:</li>\\n\"+\n",
       "     \"</ul>\\n\"+\n",
       "     \"<code>\\n\"+\n",
       "     \"from bokeh.resources import INLINE\\n\"+\n",
       "     \"output_notebook(resources=INLINE)\\n\"+\n",
       "     \"</code>\\n\"+\n",
       "     \"</div>\"}};\n",
       "\n",
       "  function display_loaded() {\n",
       "    var el = document.getElementById(\"15390a1b-f541-4d66-8b0d-0a713654f8f8\");\n",
       "    if (el != null) {\n",
       "      el.textContent = \"BokehJS is loading...\";\n",
       "    }\n",
       "    if (root.Bokeh !== undefined) {\n",
       "      if (el != null) {\n",
       "        el.textContent = \"BokehJS \" + root.Bokeh.version + \" successfully loaded.\";\n",
       "      }\n",
       "    } else if (Date.now() < root._bokeh_timeout) {\n",
       "      setTimeout(display_loaded, 100)\n",
       "    }\n",
       "  }\n",
       "\n",
       "\n",
       "  function run_callbacks() {\n",
       "    try {\n",
       "      root._bokeh_onload_callbacks.forEach(function(callback) { callback() });\n",
       "    }\n",
       "    finally {\n",
       "      delete root._bokeh_onload_callbacks\n",
       "    }\n",
       "    console.info(\"Bokeh: all callbacks have finished\");\n",
       "  }\n",
       "\n",
       "  function load_libs(js_urls, callback) {\n",
       "    root._bokeh_onload_callbacks.push(callback);\n",
       "    if (root._bokeh_is_loading > 0) {\n",
       "      console.log(\"Bokeh: BokehJS is being loaded, scheduling callback at\", now());\n",
       "      return null;\n",
       "    }\n",
       "    if (js_urls == null || js_urls.length === 0) {\n",
       "      run_callbacks();\n",
       "      return null;\n",
       "    }\n",
       "    console.log(\"Bokeh: BokehJS not loaded, scheduling load and callback at\", now());\n",
       "    root._bokeh_is_loading = js_urls.length;\n",
       "    for (var i = 0; i < js_urls.length; i++) {\n",
       "      var url = js_urls[i];\n",
       "      var s = document.createElement('script');\n",
       "      s.src = url;\n",
       "      s.async = false;\n",
       "      s.onreadystatechange = s.onload = function() {\n",
       "        root._bokeh_is_loading--;\n",
       "        if (root._bokeh_is_loading === 0) {\n",
       "          console.log(\"Bokeh: all BokehJS libraries loaded\");\n",
       "          run_callbacks()\n",
       "        }\n",
       "      };\n",
       "      s.onerror = function() {\n",
       "        console.warn(\"failed to load library \" + url);\n",
       "      };\n",
       "      console.log(\"Bokeh: injecting script tag for BokehJS library: \", url);\n",
       "      document.getElementsByTagName(\"head\")[0].appendChild(s);\n",
       "    }\n",
       "  };var element = document.getElementById(\"15390a1b-f541-4d66-8b0d-0a713654f8f8\");\n",
       "  if (element == null) {\n",
       "    console.log(\"Bokeh: ERROR: autoload.js configured with elementid '15390a1b-f541-4d66-8b0d-0a713654f8f8' but no matching script tag was found. \")\n",
       "    return false;\n",
       "  }\n",
       "\n",
       "  var js_urls = [\"https://cdn.pydata.org/bokeh/release/bokeh-0.12.16.min.js\", \"https://cdn.pydata.org/bokeh/release/bokeh-widgets-0.12.16.min.js\", \"https://cdn.pydata.org/bokeh/release/bokeh-tables-0.12.16.min.js\", \"https://cdn.pydata.org/bokeh/release/bokeh-gl-0.12.16.min.js\"];\n",
       "\n",
       "  var inline_js = [\n",
       "    function(Bokeh) {\n",
       "      Bokeh.set_log_level(\"info\");\n",
       "    },\n",
       "    \n",
       "    function(Bokeh) {\n",
       "      \n",
       "    },\n",
       "    function(Bokeh) {\n",
       "      console.log(\"Bokeh: injecting CSS: https://cdn.pydata.org/bokeh/release/bokeh-0.12.16.min.css\");\n",
       "      Bokeh.embed.inject_css(\"https://cdn.pydata.org/bokeh/release/bokeh-0.12.16.min.css\");\n",
       "      console.log(\"Bokeh: injecting CSS: https://cdn.pydata.org/bokeh/release/bokeh-widgets-0.12.16.min.css\");\n",
       "      Bokeh.embed.inject_css(\"https://cdn.pydata.org/bokeh/release/bokeh-widgets-0.12.16.min.css\");\n",
       "      console.log(\"Bokeh: injecting CSS: https://cdn.pydata.org/bokeh/release/bokeh-tables-0.12.16.min.css\");\n",
       "      Bokeh.embed.inject_css(\"https://cdn.pydata.org/bokeh/release/bokeh-tables-0.12.16.min.css\");\n",
       "    }\n",
       "  ];\n",
       "\n",
       "  function run_inline_js() {\n",
       "    \n",
       "    if ((root.Bokeh !== undefined) || (force === true)) {\n",
       "      for (var i = 0; i < inline_js.length; i++) {\n",
       "        inline_js[i].call(root, root.Bokeh);\n",
       "      }if (force === true) {\n",
       "        display_loaded();\n",
       "      }} else if (Date.now() < root._bokeh_timeout) {\n",
       "      setTimeout(run_inline_js, 100);\n",
       "    } else if (!root._bokeh_failed_load) {\n",
       "      console.log(\"Bokeh: BokehJS failed to load within specified timeout.\");\n",
       "      root._bokeh_failed_load = true;\n",
       "    } else if (force !== true) {\n",
       "      var cell = $(document.getElementById(\"15390a1b-f541-4d66-8b0d-0a713654f8f8\")).parents('.cell').data().cell;\n",
       "      cell.output_area.append_execute_result(NB_LOAD_WARNING)\n",
       "    }\n",
       "\n",
       "  }\n",
       "\n",
       "  if (root._bokeh_is_loading === 0) {\n",
       "    console.log(\"Bokeh: BokehJS loaded, going straight to plotting\");\n",
       "    run_inline_js();\n",
       "  } else {\n",
       "    load_libs(js_urls, function() {\n",
       "      console.log(\"Bokeh: BokehJS plotting callback run at\", now());\n",
       "      run_inline_js();\n",
       "    });\n",
       "  }\n",
       "}(window));"
      ],
      "application/vnd.bokehjs_load.v0+json": "\n(function(root) {\n  function now() {\n    return new Date();\n  }\n\n  var force = true;\n\n  if (typeof (root._bokeh_onload_callbacks) === \"undefined\" || force === true) {\n    root._bokeh_onload_callbacks = [];\n    root._bokeh_is_loading = undefined;\n  }\n\n  \n\n  \n  if (typeof (root._bokeh_timeout) === \"undefined\" || force === true) {\n    root._bokeh_timeout = Date.now() + 5000;\n    root._bokeh_failed_load = false;\n  }\n\n  var NB_LOAD_WARNING = {'data': {'text/html':\n     \"<div style='background-color: #fdd'>\\n\"+\n     \"<p>\\n\"+\n     \"BokehJS does not appear to have successfully loaded. If loading BokehJS from CDN, this \\n\"+\n     \"may be due to a slow or bad network connection. Possible fixes:\\n\"+\n     \"</p>\\n\"+\n     \"<ul>\\n\"+\n     \"<li>re-rerun `output_notebook()` to attempt to load from CDN again, or</li>\\n\"+\n     \"<li>use INLINE resources instead, as so:</li>\\n\"+\n     \"</ul>\\n\"+\n     \"<code>\\n\"+\n     \"from bokeh.resources import INLINE\\n\"+\n     \"output_notebook(resources=INLINE)\\n\"+\n     \"</code>\\n\"+\n     \"</div>\"}};\n\n  function display_loaded() {\n    var el = document.getElementById(\"15390a1b-f541-4d66-8b0d-0a713654f8f8\");\n    if (el != null) {\n      el.textContent = \"BokehJS is loading...\";\n    }\n    if (root.Bokeh !== undefined) {\n      if (el != null) {\n        el.textContent = \"BokehJS \" + root.Bokeh.version + \" successfully loaded.\";\n      }\n    } else if (Date.now() < root._bokeh_timeout) {\n      setTimeout(display_loaded, 100)\n    }\n  }\n\n\n  function run_callbacks() {\n    try {\n      root._bokeh_onload_callbacks.forEach(function(callback) { callback() });\n    }\n    finally {\n      delete root._bokeh_onload_callbacks\n    }\n    console.info(\"Bokeh: all callbacks have finished\");\n  }\n\n  function load_libs(js_urls, callback) {\n    root._bokeh_onload_callbacks.push(callback);\n    if (root._bokeh_is_loading > 0) {\n      console.log(\"Bokeh: BokehJS is being loaded, scheduling callback at\", now());\n      return null;\n    }\n    if (js_urls == null || js_urls.length === 0) {\n      run_callbacks();\n      return null;\n    }\n    console.log(\"Bokeh: BokehJS not loaded, scheduling load and callback at\", now());\n    root._bokeh_is_loading = js_urls.length;\n    for (var i = 0; i < js_urls.length; i++) {\n      var url = js_urls[i];\n      var s = document.createElement('script');\n      s.src = url;\n      s.async = false;\n      s.onreadystatechange = s.onload = function() {\n        root._bokeh_is_loading--;\n        if (root._bokeh_is_loading === 0) {\n          console.log(\"Bokeh: all BokehJS libraries loaded\");\n          run_callbacks()\n        }\n      };\n      s.onerror = function() {\n        console.warn(\"failed to load library \" + url);\n      };\n      console.log(\"Bokeh: injecting script tag for BokehJS library: \", url);\n      document.getElementsByTagName(\"head\")[0].appendChild(s);\n    }\n  };var element = document.getElementById(\"15390a1b-f541-4d66-8b0d-0a713654f8f8\");\n  if (element == null) {\n    console.log(\"Bokeh: ERROR: autoload.js configured with elementid '15390a1b-f541-4d66-8b0d-0a713654f8f8' but no matching script tag was found. \")\n    return false;\n  }\n\n  var js_urls = [\"https://cdn.pydata.org/bokeh/release/bokeh-0.12.16.min.js\", \"https://cdn.pydata.org/bokeh/release/bokeh-widgets-0.12.16.min.js\", \"https://cdn.pydata.org/bokeh/release/bokeh-tables-0.12.16.min.js\", \"https://cdn.pydata.org/bokeh/release/bokeh-gl-0.12.16.min.js\"];\n\n  var inline_js = [\n    function(Bokeh) {\n      Bokeh.set_log_level(\"info\");\n    },\n    \n    function(Bokeh) {\n      \n    },\n    function(Bokeh) {\n      console.log(\"Bokeh: injecting CSS: https://cdn.pydata.org/bokeh/release/bokeh-0.12.16.min.css\");\n      Bokeh.embed.inject_css(\"https://cdn.pydata.org/bokeh/release/bokeh-0.12.16.min.css\");\n      console.log(\"Bokeh: injecting CSS: https://cdn.pydata.org/bokeh/release/bokeh-widgets-0.12.16.min.css\");\n      Bokeh.embed.inject_css(\"https://cdn.pydata.org/bokeh/release/bokeh-widgets-0.12.16.min.css\");\n      console.log(\"Bokeh: injecting CSS: https://cdn.pydata.org/bokeh/release/bokeh-tables-0.12.16.min.css\");\n      Bokeh.embed.inject_css(\"https://cdn.pydata.org/bokeh/release/bokeh-tables-0.12.16.min.css\");\n    }\n  ];\n\n  function run_inline_js() {\n    \n    if ((root.Bokeh !== undefined) || (force === true)) {\n      for (var i = 0; i < inline_js.length; i++) {\n        inline_js[i].call(root, root.Bokeh);\n      }if (force === true) {\n        display_loaded();\n      }} else if (Date.now() < root._bokeh_timeout) {\n      setTimeout(run_inline_js, 100);\n    } else if (!root._bokeh_failed_load) {\n      console.log(\"Bokeh: BokehJS failed to load within specified timeout.\");\n      root._bokeh_failed_load = true;\n    } else if (force !== true) {\n      var cell = $(document.getElementById(\"15390a1b-f541-4d66-8b0d-0a713654f8f8\")).parents('.cell').data().cell;\n      cell.output_area.append_execute_result(NB_LOAD_WARNING)\n    }\n\n  }\n\n  if (root._bokeh_is_loading === 0) {\n    console.log(\"Bokeh: BokehJS loaded, going straight to plotting\");\n    run_inline_js();\n  } else {\n    load_libs(js_urls, function() {\n      console.log(\"Bokeh: BokehJS plotting callback run at\", now());\n      run_inline_js();\n    });\n  }\n}(window));"
     },
     "metadata": {},
     "output_type": "display_data"
    }
   ],
   "source": [
    "import numpy as np\n",
    "import scipy.special\n",
    "import pandas as pd\n",
    "\n",
    "import altair as alt\n",
    "import bokeh.io\n",
    "\n",
    "import bootcamp_utils\n",
    "\n",
    "bokeh.io.output_notebook()"
   ]
  },
  {
   "cell_type": "markdown",
   "metadata": {},
   "source": [
    "## Practice 1: Heritability\n",
    "\n",
    "The **heritability** of a trait in a sexually reproducing animal is defined as follows.\n",
    "1. For a given pair of parent, take the mean value of the trait. Call this the parental trait.\n",
    "2. Take the mean value of the trait of all of the offspring of the two parents. Call this the offspring trait.\n",
    "3. Do this for all parental/offspring pairs.\n",
    "4. The **heritability** is defined as the ratio of the covariance between the parental and offspring traits to the variance of the parental traits.\n",
    "\n",
    "Compute the heritability of beak depth for both *G. fortis* and *G. scandens* from a Grant and Grant data set. The data are contained in `~data/grant_heredity.csv` (you will likely need to `git pull upstream master`). Then, use pairs bootstrap to get a confidence interval for the heritability of beak depth for each species."
   ]
  },
  {
   "cell_type": "markdown",
   "metadata": {},
   "source": [
    "### Practice 1: *solution*"
   ]
  },
  {
   "cell_type": "markdown",
   "metadata": {},
   "source": [
    "First, let's load and take a quick look at the data."
   ]
  },
  {
   "cell_type": "code",
   "execution_count": 2,
   "metadata": {},
   "outputs": [
    {
     "data": {
      "application/vnd.vegalite.v2+json": {
       "$schema": "https://vega.github.io/schema/vega-lite/v2.4.3.json",
       "config": {
        "view": {
         "height": 300,
         "width": 400
        }
       },
       "data": {
        "values": [
         {
          "offspring beak depth (mm)": 10.7,
          "parent beak depth (mm)": 10.1,
          "species": "fortis"
         },
         {
          "offspring beak depth (mm)": 9.78,
          "parent beak depth (mm)": 9.55,
          "species": "fortis"
         },
         {
          "offspring beak depth (mm)": 9.48,
          "parent beak depth (mm)": 9.4,
          "species": "fortis"
         },
         {
          "offspring beak depth (mm)": 9.6,
          "parent beak depth (mm)": 10.25,
          "species": "fortis"
         },
         {
          "offspring beak depth (mm)": 10.27,
          "parent beak depth (mm)": 10.125,
          "species": "fortis"
         },
         {
          "offspring beak depth (mm)": 9.5,
          "parent beak depth (mm)": 9.7,
          "species": "fortis"
         },
         {
          "offspring beak depth (mm)": 9,
          "parent beak depth (mm)": 9.05,
          "species": "fortis"
         },
         {
          "offspring beak depth (mm)": 9,
          "parent beak depth (mm)": 9.05,
          "species": "fortis"
         },
         {
          "offspring beak depth (mm)": 7.46,
          "parent beak depth (mm)": 7.4,
          "species": "fortis"
         },
         {
          "offspring beak depth (mm)": 7.65,
          "parent beak depth (mm)": 9,
          "species": "fortis"
         },
         {
          "offspring beak depth (mm)": 8.63,
          "parent beak depth (mm)": 8.65,
          "species": "fortis"
         },
         {
          "offspring beak depth (mm)": 9.81,
          "parent beak depth (mm)": 9.625,
          "species": "fortis"
         },
         {
          "offspring beak depth (mm)": 9.4,
          "parent beak depth (mm)": 9.9,
          "species": "fortis"
         },
         {
          "offspring beak depth (mm)": 9.48,
          "parent beak depth (mm)": 9.55,
          "species": "fortis"
         },
         {
          "offspring beak depth (mm)": 8.75,
          "parent beak depth (mm)": 9.05,
          "species": "fortis"
         },
         {
          "offspring beak depth (mm)": 7.6,
          "parent beak depth (mm)": 8.35,
          "species": "fortis"
         },
         {
          "offspring beak depth (mm)": 10,
          "parent beak depth (mm)": 10.1,
          "species": "fortis"
         },
         {
          "offspring beak depth (mm)": 10.09,
          "parent beak depth (mm)": 10.1,
          "species": "fortis"
         },
         {
          "offspring beak depth (mm)": 9.74,
          "parent beak depth (mm)": 9.9,
          "species": "fortis"
         },
         {
          "offspring beak depth (mm)": 9.64,
          "parent beak depth (mm)": 10.225,
          "species": "fortis"
         },
         {
          "offspring beak depth (mm)": 8.49,
          "parent beak depth (mm)": 10,
          "species": "fortis"
         },
         {
          "offspring beak depth (mm)": 10.15,
          "parent beak depth (mm)": 10.55,
          "species": "fortis"
         },
         {
          "offspring beak depth (mm)": 10.28,
          "parent beak depth (mm)": 10.45,
          "species": "fortis"
         },
         {
          "offspring beak depth (mm)": 9.2,
          "parent beak depth (mm)": 9.2,
          "species": "fortis"
         },
         {
          "offspring beak depth (mm)": 10.01,
          "parent beak depth (mm)": 10.2,
          "species": "fortis"
         },
         {
          "offspring beak depth (mm)": 9.03,
          "parent beak depth (mm)": 8.95,
          "species": "fortis"
         },
         {
          "offspring beak depth (mm)": 9.94,
          "parent beak depth (mm)": 10.05,
          "species": "fortis"
         },
         {
          "offspring beak depth (mm)": 10.5,
          "parent beak depth (mm)": 10.2,
          "species": "fortis"
         },
         {
          "offspring beak depth (mm)": 9.7,
          "parent beak depth (mm)": 9.5,
          "species": "fortis"
         },
         {
          "offspring beak depth (mm)": 10.02,
          "parent beak depth (mm)": 9.925,
          "species": "fortis"
         },
         {
          "offspring beak depth (mm)": 10.04,
          "parent beak depth (mm)": 9.95,
          "species": "fortis"
         },
         {
          "offspring beak depth (mm)": 9.43,
          "parent beak depth (mm)": 10.05,
          "species": "fortis"
         },
         {
          "offspring beak depth (mm)": 8.1,
          "parent beak depth (mm)": 8.75,
          "species": "fortis"
         },
         {
          "offspring beak depth (mm)": 9.5,
          "parent beak depth (mm)": 9.2,
          "species": "fortis"
         },
         {
          "offspring beak depth (mm)": 9.9,
          "parent beak depth (mm)": 10.15,
          "species": "fortis"
         },
         {
          "offspring beak depth (mm)": 9.48,
          "parent beak depth (mm)": 9.8,
          "species": "fortis"
         },
         {
          "offspring beak depth (mm)": 10.18,
          "parent beak depth (mm)": 10.7,
          "species": "fortis"
         },
         {
          "offspring beak depth (mm)": 10.16,
          "parent beak depth (mm)": 10.5,
          "species": "fortis"
         },
         {
          "offspring beak depth (mm)": 9.08,
          "parent beak depth (mm)": 9.55,
          "species": "fortis"
         },
         {
          "offspring beak depth (mm)": 10.39,
          "parent beak depth (mm)": 10.55,
          "species": "fortis"
         },
         {
          "offspring beak depth (mm)": 9.9,
          "parent beak depth (mm)": 10.475,
          "species": "fortis"
         },
         {
          "offspring beak depth (mm)": 8.4,
          "parent beak depth (mm)": 8.649999999999999,
          "species": "fortis"
         },
         {
          "offspring beak depth (mm)": 10.6,
          "parent beak depth (mm)": 10.7,
          "species": "fortis"
         },
         {
          "offspring beak depth (mm)": 8.75,
          "parent beak depth (mm)": 9.1,
          "species": "fortis"
         },
         {
          "offspring beak depth (mm)": 9.46,
          "parent beak depth (mm)": 9.4,
          "species": "fortis"
         },
         {
          "offspring beak depth (mm)": 9.6,
          "parent beak depth (mm)": 10.3,
          "species": "fortis"
         },
         {
          "offspring beak depth (mm)": 9.6,
          "parent beak depth (mm)": 9.65,
          "species": "fortis"
         },
         {
          "offspring beak depth (mm)": 9.95,
          "parent beak depth (mm)": 9.5,
          "species": "fortis"
         },
         {
          "offspring beak depth (mm)": 10.05,
          "parent beak depth (mm)": 9.7,
          "species": "fortis"
         },
         {
          "offspring beak depth (mm)": 10.16,
          "parent beak depth (mm)": 10.525,
          "species": "fortis"
         },
         {
          "offspring beak depth (mm)": 10.1,
          "parent beak depth (mm)": 9.95,
          "species": "fortis"
         },
         {
          "offspring beak depth (mm)": 9.83,
          "parent beak depth (mm)": 10.1,
          "species": "fortis"
         },
         {
          "offspring beak depth (mm)": 9.46,
          "parent beak depth (mm)": 9.75,
          "species": "fortis"
         },
         {
          "offspring beak depth (mm)": 9.7,
          "parent beak depth (mm)": 10.05,
          "species": "fortis"
         },
         {
          "offspring beak depth (mm)": 9.82,
          "parent beak depth (mm)": 9.9,
          "species": "fortis"
         },
         {
          "offspring beak depth (mm)": 10.34,
          "parent beak depth (mm)": 10,
          "species": "fortis"
         },
         {
          "offspring beak depth (mm)": 8.02,
          "parent beak depth (mm)": 9.1,
          "species": "fortis"
         },
         {
          "offspring beak depth (mm)": 9.65,
          "parent beak depth (mm)": 9.45,
          "species": "fortis"
         },
         {
          "offspring beak depth (mm)": 9.87,
          "parent beak depth (mm)": 9.25,
          "species": "fortis"
         },
         {
          "offspring beak depth (mm)": 9,
          "parent beak depth (mm)": 9.5,
          "species": "fortis"
         },
         {
          "offspring beak depth (mm)": 9,
          "parent beak depth (mm)": 9.5,
          "species": "fortis"
         },
         {
          "offspring beak depth (mm)": 11.14,
          "parent beak depth (mm)": 10,
          "species": "fortis"
         },
         {
          "offspring beak depth (mm)": 9.25,
          "parent beak depth (mm)": 10.525,
          "species": "fortis"
         },
         {
          "offspring beak depth (mm)": 8.14,
          "parent beak depth (mm)": 9.9,
          "species": "fortis"
         },
         {
          "offspring beak depth (mm)": 10.23,
          "parent beak depth (mm)": 10.4,
          "species": "fortis"
         },
         {
          "offspring beak depth (mm)": 8.7,
          "parent beak depth (mm)": 8.95,
          "species": "fortis"
         },
         {
          "offspring beak depth (mm)": 9.8,
          "parent beak depth (mm)": 9.4,
          "species": "fortis"
         },
         {
          "offspring beak depth (mm)": 10.54,
          "parent beak depth (mm)": 10.95,
          "species": "fortis"
         },
         {
          "offspring beak depth (mm)": 11.19,
          "parent beak depth (mm)": 10.75,
          "species": "fortis"
         },
         {
          "offspring beak depth (mm)": 9.85,
          "parent beak depth (mm)": 10.1,
          "species": "fortis"
         },
         {
          "offspring beak depth (mm)": 8.1,
          "parent beak depth (mm)": 8.05,
          "species": "fortis"
         },
         {
          "offspring beak depth (mm)": 9.3,
          "parent beak depth (mm)": 9.1,
          "species": "fortis"
         },
         {
          "offspring beak depth (mm)": 9.34,
          "parent beak depth (mm)": 9.55,
          "species": "fortis"
         },
         {
          "offspring beak depth (mm)": 9.19,
          "parent beak depth (mm)": 9.05,
          "species": "fortis"
         },
         {
          "offspring beak depth (mm)": 9.52,
          "parent beak depth (mm)": 10.2,
          "species": "fortis"
         },
         {
          "offspring beak depth (mm)": 9.36,
          "parent beak depth (mm)": 10,
          "species": "fortis"
         },
         {
          "offspring beak depth (mm)": 8.8,
          "parent beak depth (mm)": 10.55,
          "species": "fortis"
         },
         {
          "offspring beak depth (mm)": 8.6,
          "parent beak depth (mm)": 10.75,
          "species": "fortis"
         },
         {
          "offspring beak depth (mm)": 8,
          "parent beak depth (mm)": 8.175,
          "species": "fortis"
         },
         {
          "offspring beak depth (mm)": 8.5,
          "parent beak depth (mm)": 9.7,
          "species": "fortis"
         },
         {
          "offspring beak depth (mm)": 8.3,
          "parent beak depth (mm)": 8.8,
          "species": "fortis"
         },
         {
          "offspring beak depth (mm)": 10.38,
          "parent beak depth (mm)": 10.75,
          "species": "fortis"
         },
         {
          "offspring beak depth (mm)": 8.54,
          "parent beak depth (mm)": 9.3,
          "species": "fortis"
         },
         {
          "offspring beak depth (mm)": 8.94,
          "parent beak depth (mm)": 9.7,
          "species": "fortis"
         },
         {
          "offspring beak depth (mm)": 10,
          "parent beak depth (mm)": 9.6,
          "species": "fortis"
         },
         {
          "offspring beak depth (mm)": 9.76,
          "parent beak depth (mm)": 9.75,
          "species": "fortis"
         },
         {
          "offspring beak depth (mm)": 9.45,
          "parent beak depth (mm)": 9.6,
          "species": "fortis"
         },
         {
          "offspring beak depth (mm)": 9.89,
          "parent beak depth (mm)": 10.45,
          "species": "fortis"
         },
         {
          "offspring beak depth (mm)": 10.9,
          "parent beak depth (mm)": 11,
          "species": "fortis"
         },
         {
          "offspring beak depth (mm)": 9.91,
          "parent beak depth (mm)": 10.85,
          "species": "fortis"
         },
         {
          "offspring beak depth (mm)": 9.39,
          "parent beak depth (mm)": 10.15,
          "species": "fortis"
         },
         {
          "offspring beak depth (mm)": 9.86,
          "parent beak depth (mm)": 10.35,
          "species": "fortis"
         },
         {
          "offspring beak depth (mm)": 9.74,
          "parent beak depth (mm)": 10.4,
          "species": "fortis"
         },
         {
          "offspring beak depth (mm)": 9.9,
          "parent beak depth (mm)": 9.95,
          "species": "fortis"
         },
         {
          "offspring beak depth (mm)": 9.09,
          "parent beak depth (mm)": 9.1,
          "species": "fortis"
         },
         {
          "offspring beak depth (mm)": 9.69,
          "parent beak depth (mm)": 10.1,
          "species": "fortis"
         },
         {
          "offspring beak depth (mm)": 10.24,
          "parent beak depth (mm)": 9.85,
          "species": "fortis"
         },
         {
          "offspring beak depth (mm)": 8.9,
          "parent beak depth (mm)": 9.625,
          "species": "fortis"
         },
         {
          "offspring beak depth (mm)": 9.67,
          "parent beak depth (mm)": 9.475,
          "species": "fortis"
         },
         {
          "offspring beak depth (mm)": 8.93,
          "parent beak depth (mm)": 9,
          "species": "fortis"
         },
         {
          "offspring beak depth (mm)": 9.3,
          "parent beak depth (mm)": 9.25,
          "species": "fortis"
         },
         {
          "offspring beak depth (mm)": 8.67,
          "parent beak depth (mm)": 9.1,
          "species": "fortis"
         },
         {
          "offspring beak depth (mm)": 9.15,
          "parent beak depth (mm)": 9.25,
          "species": "fortis"
         },
         {
          "offspring beak depth (mm)": 9.23,
          "parent beak depth (mm)": 9.2,
          "species": "fortis"
         },
         {
          "offspring beak depth (mm)": 9.59,
          "parent beak depth (mm)": 9.95,
          "species": "fortis"
         },
         {
          "offspring beak depth (mm)": 9.03,
          "parent beak depth (mm)": 8.65,
          "species": "fortis"
         },
         {
          "offspring beak depth (mm)": 9.58,
          "parent beak depth (mm)": 9.8,
          "species": "fortis"
         },
         {
          "offspring beak depth (mm)": 8.97,
          "parent beak depth (mm)": 9.4,
          "species": "fortis"
         },
         {
          "offspring beak depth (mm)": 8.57,
          "parent beak depth (mm)": 9,
          "species": "fortis"
         },
         {
          "offspring beak depth (mm)": 8.47,
          "parent beak depth (mm)": 8.55,
          "species": "fortis"
         },
         {
          "offspring beak depth (mm)": 8.47,
          "parent beak depth (mm)": 8.55,
          "species": "fortis"
         },
         {
          "offspring beak depth (mm)": 8.71,
          "parent beak depth (mm)": 8.75,
          "species": "fortis"
         },
         {
          "offspring beak depth (mm)": 9.21,
          "parent beak depth (mm)": 9.65,
          "species": "fortis"
         },
         {
          "offspring beak depth (mm)": 9.21,
          "parent beak depth (mm)": 9.65,
          "species": "fortis"
         },
         {
          "offspring beak depth (mm)": 9.13,
          "parent beak depth (mm)": 8.95,
          "species": "fortis"
         },
         {
          "offspring beak depth (mm)": 8.5,
          "parent beak depth (mm)": 9.15,
          "species": "fortis"
         },
         {
          "offspring beak depth (mm)": 9.58,
          "parent beak depth (mm)": 9.85,
          "species": "fortis"
         },
         {
          "offspring beak depth (mm)": 9.21,
          "parent beak depth (mm)": 10.225,
          "species": "fortis"
         },
         {
          "offspring beak depth (mm)": 9.6,
          "parent beak depth (mm)": 9.825,
          "species": "fortis"
         },
         {
          "offspring beak depth (mm)": 9.32,
          "parent beak depth (mm)": 10,
          "species": "fortis"
         },
         {
          "offspring beak depth (mm)": 8.7,
          "parent beak depth (mm)": 9.425,
          "species": "fortis"
         },
         {
          "offspring beak depth (mm)": 10.46,
          "parent beak depth (mm)": 10.4,
          "species": "fortis"
         },
         {
          "offspring beak depth (mm)": 9.29,
          "parent beak depth (mm)": 9.875,
          "species": "fortis"
         },
         {
          "offspring beak depth (mm)": 9.24,
          "parent beak depth (mm)": 8.95,
          "species": "fortis"
         },
         {
          "offspring beak depth (mm)": 9.45,
          "parent beak depth (mm)": 8.9,
          "species": "fortis"
         },
         {
          "offspring beak depth (mm)": 9.35,
          "parent beak depth (mm)": 9.35,
          "species": "fortis"
         },
         {
          "offspring beak depth (mm)": 10.19,
          "parent beak depth (mm)": 10.425,
          "species": "fortis"
         },
         {
          "offspring beak depth (mm)": 9.91,
          "parent beak depth (mm)": 10,
          "species": "fortis"
         },
         {
          "offspring beak depth (mm)": 9.91,
          "parent beak depth (mm)": 10,
          "species": "fortis"
         },
         {
          "offspring beak depth (mm)": 9.18,
          "parent beak depth (mm)": 10.175,
          "species": "fortis"
         },
         {
          "offspring beak depth (mm)": 9.89,
          "parent beak depth (mm)": 9.875,
          "species": "fortis"
         },
         {
          "offspring beak depth (mm)": 9.6,
          "parent beak depth (mm)": 9.875,
          "species": "fortis"
         },
         {
          "offspring beak depth (mm)": 10.3,
          "parent beak depth (mm)": 9.15,
          "species": "fortis"
         },
         {
          "offspring beak depth (mm)": 9.45,
          "parent beak depth (mm)": 9.45,
          "species": "fortis"
         },
         {
          "offspring beak depth (mm)": 8.79,
          "parent beak depth (mm)": 9.025,
          "species": "fortis"
         },
         {
          "offspring beak depth (mm)": 9.2,
          "parent beak depth (mm)": 9.7,
          "species": "fortis"
         },
         {
          "offspring beak depth (mm)": 8.8,
          "parent beak depth (mm)": 9.7,
          "species": "fortis"
         },
         {
          "offspring beak depth (mm)": 9.69,
          "parent beak depth (mm)": 10.05,
          "species": "fortis"
         },
         {
          "offspring beak depth (mm)": 10.61,
          "parent beak depth (mm)": 10.3,
          "species": "fortis"
         },
         {
          "offspring beak depth (mm)": 9.6,
          "parent beak depth (mm)": 9.6,
          "species": "fortis"
         },
         {
          "offspring beak depth (mm)": 9.9,
          "parent beak depth (mm)": 10,
          "species": "fortis"
         },
         {
          "offspring beak depth (mm)": 9.9,
          "parent beak depth (mm)": 10,
          "species": "fortis"
         },
         {
          "offspring beak depth (mm)": 9.26,
          "parent beak depth (mm)": 9.8,
          "species": "fortis"
         },
         {
          "offspring beak depth (mm)": 10.2,
          "parent beak depth (mm)": 10.05,
          "species": "fortis"
         },
         {
          "offspring beak depth (mm)": 8.79,
          "parent beak depth (mm)": 8.75,
          "species": "fortis"
         },
         {
          "offspring beak depth (mm)": 9.28,
          "parent beak depth (mm)": 10.55,
          "species": "fortis"
         },
         {
          "offspring beak depth (mm)": 8.83,
          "parent beak depth (mm)": 9.7,
          "species": "fortis"
         },
         {
          "offspring beak depth (mm)": 9.76,
          "parent beak depth (mm)": 10,
          "species": "fortis"
         },
         {
          "offspring beak depth (mm)": 10.2,
          "parent beak depth (mm)": 9.85,
          "species": "fortis"
         },
         {
          "offspring beak depth (mm)": 9.43,
          "parent beak depth (mm)": 9.8,
          "species": "fortis"
         },
         {
          "offspring beak depth (mm)": 9.4,
          "parent beak depth (mm)": 9.175,
          "species": "fortis"
         },
         {
          "offspring beak depth (mm)": 9.9,
          "parent beak depth (mm)": 9.65,
          "species": "fortis"
         },
         {
          "offspring beak depth (mm)": 9.5,
          "parent beak depth (mm)": 9.55,
          "species": "fortis"
         },
         {
          "offspring beak depth (mm)": 9.5,
          "parent beak depth (mm)": 9.55,
          "species": "fortis"
         },
         {
          "offspring beak depth (mm)": 8.95,
          "parent beak depth (mm)": 9.9,
          "species": "fortis"
         },
         {
          "offspring beak depth (mm)": 9.98,
          "parent beak depth (mm)": 11.55,
          "species": "fortis"
         },
         {
          "offspring beak depth (mm)": 9.72,
          "parent beak depth (mm)": 11.3,
          "species": "fortis"
         },
         {
          "offspring beak depth (mm)": 9.86,
          "parent beak depth (mm)": 10.4,
          "species": "fortis"
         },
         {
          "offspring beak depth (mm)": 11.1,
          "parent beak depth (mm)": 10.8,
          "species": "fortis"
         },
         {
          "offspring beak depth (mm)": 9.14,
          "parent beak depth (mm)": 9.8,
          "species": "fortis"
         },
         {
          "offspring beak depth (mm)": 10.49,
          "parent beak depth (mm)": 10.45,
          "species": "fortis"
         },
         {
          "offspring beak depth (mm)": 9.75,
          "parent beak depth (mm)": 10,
          "species": "fortis"
         },
         {
          "offspring beak depth (mm)": 9.75,
          "parent beak depth (mm)": 10,
          "species": "fortis"
         },
         {
          "offspring beak depth (mm)": 10.35,
          "parent beak depth (mm)": 10.75,
          "species": "fortis"
         },
         {
          "offspring beak depth (mm)": 9.73,
          "parent beak depth (mm)": 9.35,
          "species": "fortis"
         },
         {
          "offspring beak depth (mm)": 9.83,
          "parent beak depth (mm)": 10.75,
          "species": "fortis"
         },
         {
          "offspring beak depth (mm)": 8.69,
          "parent beak depth (mm)": 9.175,
          "species": "fortis"
         },
         {
          "offspring beak depth (mm)": 9.58,
          "parent beak depth (mm)": 9.65,
          "species": "fortis"
         },
         {
          "offspring beak depth (mm)": 8.42,
          "parent beak depth (mm)": 8.8,
          "species": "fortis"
         },
         {
          "offspring beak depth (mm)": 9.25,
          "parent beak depth (mm)": 10.55,
          "species": "fortis"
         },
         {
          "offspring beak depth (mm)": 10.12,
          "parent beak depth (mm)": 10.675,
          "species": "fortis"
         },
         {
          "offspring beak depth (mm)": 9.31,
          "parent beak depth (mm)": 9.95,
          "species": "fortis"
         },
         {
          "offspring beak depth (mm)": 9.99,
          "parent beak depth (mm)": 9.55,
          "species": "fortis"
         },
         {
          "offspring beak depth (mm)": 8.59,
          "parent beak depth (mm)": 8.825,
          "species": "fortis"
         },
         {
          "offspring beak depth (mm)": 8.74,
          "parent beak depth (mm)": 9.7,
          "species": "fortis"
         },
         {
          "offspring beak depth (mm)": 8.79,
          "parent beak depth (mm)": 9.85,
          "species": "fortis"
         },
         {
          "offspring beak depth (mm)": 9.6,
          "parent beak depth (mm)": 9.8,
          "species": "fortis"
         },
         {
          "offspring beak depth (mm)": 9.52,
          "parent beak depth (mm)": 9.55,
          "species": "fortis"
         },
         {
          "offspring beak depth (mm)": 8.93,
          "parent beak depth (mm)": 9.275,
          "species": "fortis"
         },
         {
          "offspring beak depth (mm)": 10.23,
          "parent beak depth (mm)": 10.325,
          "species": "fortis"
         },
         {
          "offspring beak depth (mm)": 9.35,
          "parent beak depth (mm)": 9.15,
          "species": "fortis"
         },
         {
          "offspring beak depth (mm)": 9.35,
          "parent beak depth (mm)": 9.35,
          "species": "fortis"
         },
         {
          "offspring beak depth (mm)": 9.09,
          "parent beak depth (mm)": 9.15,
          "species": "fortis"
         },
         {
          "offspring beak depth (mm)": 9.04,
          "parent beak depth (mm)": 9.65,
          "species": "fortis"
         },
         {
          "offspring beak depth (mm)": 9.75,
          "parent beak depth (mm)": 10.575,
          "species": "fortis"
         },
         {
          "offspring beak depth (mm)": 10.5,
          "parent beak depth (mm)": 9.975,
          "species": "fortis"
         },
         {
          "offspring beak depth (mm)": 9.09,
          "parent beak depth (mm)": 9.55,
          "species": "fortis"
         },
         {
          "offspring beak depth (mm)": 9.05,
          "parent beak depth (mm)": 9.2,
          "species": "fortis"
         },
         {
          "offspring beak depth (mm)": 9.54,
          "parent beak depth (mm)": 9.925,
          "species": "fortis"
         },
         {
          "offspring beak depth (mm)": 9.3,
          "parent beak depth (mm)": 9.2,
          "species": "fortis"
         },
         {
          "offspring beak depth (mm)": 9.06,
          "parent beak depth (mm)": 9.3,
          "species": "fortis"
         },
         {
          "offspring beak depth (mm)": 8.7,
          "parent beak depth (mm)": 8.775,
          "species": "fortis"
         },
         {
          "offspring beak depth (mm)": 9.32,
          "parent beak depth (mm)": 9.325,
          "species": "fortis"
         },
         {
          "offspring beak depth (mm)": 8.4,
          "parent beak depth (mm)": 9.175,
          "species": "fortis"
         },
         {
          "offspring beak depth (mm)": 8.67,
          "parent beak depth (mm)": 9.325,
          "species": "fortis"
         },
         {
          "offspring beak depth (mm)": 8.6,
          "parent beak depth (mm)": 8.975000000000003,
          "species": "fortis"
         },
         {
          "offspring beak depth (mm)": 9.53,
          "parent beak depth (mm)": 9.7,
          "species": "fortis"
         },
         {
          "offspring beak depth (mm)": 9.77,
          "parent beak depth (mm)": 9.5,
          "species": "fortis"
         },
         {
          "offspring beak depth (mm)": 9.65,
          "parent beak depth (mm)": 10.225,
          "species": "fortis"
         },
         {
          "offspring beak depth (mm)": 9.43,
          "parent beak depth (mm)": 10.025,
          "species": "fortis"
         },
         {
          "offspring beak depth (mm)": 8.35,
          "parent beak depth (mm)": 8.2,
          "species": "fortis"
         },
         {
          "offspring beak depth (mm)": 8.26,
          "parent beak depth (mm)": 8.2,
          "species": "fortis"
         },
         {
          "offspring beak depth (mm)": 8.6,
          "parent beak depth (mm)": 9.05,
          "species": "fortis"
         },
         {
          "offspring beak depth (mm)": 9.57,
          "parent beak depth (mm)": 9.6,
          "species": "fortis"
         },
         {
          "offspring beak depth (mm)": 9.14,
          "parent beak depth (mm)": 9.6,
          "species": "fortis"
         },
         {
          "offspring beak depth (mm)": 10.79,
          "parent beak depth (mm)": 10.15,
          "species": "fortis"
         },
         {
          "offspring beak depth (mm)": 8.91,
          "parent beak depth (mm)": 9.875,
          "species": "fortis"
         },
         {
          "offspring beak depth (mm)": 9.93,
          "parent beak depth (mm)": 10.485,
          "species": "fortis"
         },
         {
          "offspring beak depth (mm)": 10.7,
          "parent beak depth (mm)": 11.485,
          "species": "fortis"
         },
         {
          "offspring beak depth (mm)": 9.3,
          "parent beak depth (mm)": 10.985,
          "species": "fortis"
         },
         {
          "offspring beak depth (mm)": 9.93,
          "parent beak depth (mm)": 9.7,
          "species": "fortis"
         },
         {
          "offspring beak depth (mm)": 9.51,
          "parent beak depth (mm)": 9.65,
          "species": "fortis"
         },
         {
          "offspring beak depth (mm)": 9.44,
          "parent beak depth (mm)": 9.35,
          "species": "fortis"
         },
         {
          "offspring beak depth (mm)": 10.05,
          "parent beak depth (mm)": 10.05,
          "species": "fortis"
         },
         {
          "offspring beak depth (mm)": 10.13,
          "parent beak depth (mm)": 10.1,
          "species": "fortis"
         },
         {
          "offspring beak depth (mm)": 9.24,
          "parent beak depth (mm)": 9.9,
          "species": "fortis"
         },
         {
          "offspring beak depth (mm)": 8.21,
          "parent beak depth (mm)": 8.95,
          "species": "fortis"
         },
         {
          "offspring beak depth (mm)": 8.9,
          "parent beak depth (mm)": 9.3,
          "species": "fortis"
         },
         {
          "offspring beak depth (mm)": 9.34,
          "parent beak depth (mm)": 9.95,
          "species": "fortis"
         },
         {
          "offspring beak depth (mm)": 8.77,
          "parent beak depth (mm)": 9.45,
          "species": "fortis"
         },
         {
          "offspring beak depth (mm)": 9.4,
          "parent beak depth (mm)": 9.5,
          "species": "fortis"
         },
         {
          "offspring beak depth (mm)": 8.82,
          "parent beak depth (mm)": 8.45,
          "species": "fortis"
         },
         {
          "offspring beak depth (mm)": 8.83,
          "parent beak depth (mm)": 8.8,
          "species": "fortis"
         },
         {
          "offspring beak depth (mm)": 8.6,
          "parent beak depth (mm)": 8.525,
          "species": "fortis"
         },
         {
          "offspring beak depth (mm)": 9.5,
          "parent beak depth (mm)": 9.375,
          "species": "fortis"
         },
         {
          "offspring beak depth (mm)": 10.2,
          "parent beak depth (mm)": 10.2,
          "species": "fortis"
         },
         {
          "offspring beak depth (mm)": 8.09,
          "parent beak depth (mm)": 7.625,
          "species": "fortis"
         },
         {
          "offspring beak depth (mm)": 9.07,
          "parent beak depth (mm)": 8.375,
          "species": "fortis"
         },
         {
          "offspring beak depth (mm)": 9.29,
          "parent beak depth (mm)": 9.25,
          "species": "fortis"
         },
         {
          "offspring beak depth (mm)": 9.1,
          "parent beak depth (mm)": 9.4,
          "species": "fortis"
         },
         {
          "offspring beak depth (mm)": 10.19,
          "parent beak depth (mm)": 10.55,
          "species": "fortis"
         },
         {
          "offspring beak depth (mm)": 9.25,
          "parent beak depth (mm)": 8.9,
          "species": "fortis"
         },
         {
          "offspring beak depth (mm)": 8.98,
          "parent beak depth (mm)": 8.8,
          "species": "fortis"
         },
         {
          "offspring beak depth (mm)": 9.02,
          "parent beak depth (mm)": 9,
          "species": "fortis"
         },
         {
          "offspring beak depth (mm)": 8.6,
          "parent beak depth (mm)": 8.575,
          "species": "fortis"
         },
         {
          "offspring beak depth (mm)": 8.25,
          "parent beak depth (mm)": 8.575,
          "species": "fortis"
         },
         {
          "offspring beak depth (mm)": 8.7,
          "parent beak depth (mm)": 9.6,
          "species": "fortis"
         },
         {
          "offspring beak depth (mm)": 9.9,
          "parent beak depth (mm)": 9.375,
          "species": "fortis"
         },
         {
          "offspring beak depth (mm)": 9.65,
          "parent beak depth (mm)": 9.6,
          "species": "fortis"
         },
         {
          "offspring beak depth (mm)": 9.45,
          "parent beak depth (mm)": 9.95,
          "species": "fortis"
         },
         {
          "offspring beak depth (mm)": 9.38,
          "parent beak depth (mm)": 9.6,
          "species": "fortis"
         },
         {
          "offspring beak depth (mm)": 10.4,
          "parent beak depth (mm)": 10.2,
          "species": "fortis"
         },
         {
          "offspring beak depth (mm)": 9.96,
          "parent beak depth (mm)": 9.85,
          "species": "fortis"
         },
         {
          "offspring beak depth (mm)": 9.96,
          "parent beak depth (mm)": 9.85,
          "species": "fortis"
         },
         {
          "offspring beak depth (mm)": 9.46,
          "parent beak depth (mm)": 9.625,
          "species": "fortis"
         },
         {
          "offspring beak depth (mm)": 8.26,
          "parent beak depth (mm)": 9.025,
          "species": "fortis"
         },
         {
          "offspring beak depth (mm)": 10.05,
          "parent beak depth (mm)": 10.375,
          "species": "fortis"
         },
         {
          "offspring beak depth (mm)": 8.92,
          "parent beak depth (mm)": 10.25,
          "species": "fortis"
         },
         {
          "offspring beak depth (mm)": 9.5,
          "parent beak depth (mm)": 9.3,
          "species": "fortis"
         },
         {
          "offspring beak depth (mm)": 9.43,
          "parent beak depth (mm)": 9.5,
          "species": "fortis"
         },
         {
          "offspring beak depth (mm)": 8.97,
          "parent beak depth (mm)": 9.55,
          "species": "fortis"
         },
         {
          "offspring beak depth (mm)": 8.44,
          "parent beak depth (mm)": 8.55,
          "species": "fortis"
         },
         {
          "offspring beak depth (mm)": 8.92,
          "parent beak depth (mm)": 9.05,
          "species": "fortis"
         },
         {
          "offspring beak depth (mm)": 10.3,
          "parent beak depth (mm)": 9.9,
          "species": "fortis"
         },
         {
          "offspring beak depth (mm)": 8.4,
          "parent beak depth (mm)": 9.8,
          "species": "fortis"
         },
         {
          "offspring beak depth (mm)": 9.37,
          "parent beak depth (mm)": 9.75,
          "species": "fortis"
         },
         {
          "offspring beak depth (mm)": 9.91,
          "parent beak depth (mm)": 10.25,
          "species": "fortis"
         },
         {
          "offspring beak depth (mm)": 10,
          "parent beak depth (mm)": 9.1,
          "species": "fortis"
         },
         {
          "offspring beak depth (mm)": 9.95,
          "parent beak depth (mm)": 10.3,
          "species": "fortis"
         },
         {
          "offspring beak depth (mm)": 8.84,
          "parent beak depth (mm)": 8.9,
          "species": "fortis"
         },
         {
          "offspring beak depth (mm)": 9.82,
          "parent beak depth (mm)": 9.95,
          "species": "fortis"
         },
         {
          "offspring beak depth (mm)": 9.5,
          "parent beak depth (mm)": 9.5,
          "species": "fortis"
         },
         {
          "offspring beak depth (mm)": 10.29,
          "parent beak depth (mm)": 9.775,
          "species": "fortis"
         },
         {
          "offspring beak depth (mm)": 8.4,
          "parent beak depth (mm)": 9.425,
          "species": "fortis"
         },
         {
          "offspring beak depth (mm)": 8.31,
          "parent beak depth (mm)": 7.75,
          "species": "fortis"
         },
         {
          "offspring beak depth (mm)": 9.29,
          "parent beak depth (mm)": 7.550000000000002,
          "species": "fortis"
         },
         {
          "offspring beak depth (mm)": 8.86,
          "parent beak depth (mm)": 9.1,
          "species": "fortis"
         },
         {
          "offspring beak depth (mm)": 9.4,
          "parent beak depth (mm)": 9.6,
          "species": "fortis"
         },
         {
          "offspring beak depth (mm)": 9.62,
          "parent beak depth (mm)": 9.575,
          "species": "fortis"
         },
         {
          "offspring beak depth (mm)": 8.62,
          "parent beak depth (mm)": 8.95,
          "species": "fortis"
         },
         {
          "offspring beak depth (mm)": 8.3,
          "parent beak depth (mm)": 9.65,
          "species": "fortis"
         },
         {
          "offspring beak depth (mm)": 9.8,
          "parent beak depth (mm)": 9.65,
          "species": "fortis"
         },
         {
          "offspring beak depth (mm)": 8.48,
          "parent beak depth (mm)": 9.65,
          "species": "fortis"
         },
         {
          "offspring beak depth (mm)": 9.61,
          "parent beak depth (mm)": 9.525,
          "species": "fortis"
         },
         {
          "offspring beak depth (mm)": 9.5,
          "parent beak depth (mm)": 9.85,
          "species": "fortis"
         },
         {
          "offspring beak depth (mm)": 9.37,
          "parent beak depth (mm)": 9.05,
          "species": "fortis"
         },
         {
          "offspring beak depth (mm)": 8.74,
          "parent beak depth (mm)": 9.3,
          "species": "fortis"
         },
         {
          "offspring beak depth (mm)": 9.31,
          "parent beak depth (mm)": 8.899999999999997,
          "species": "fortis"
         },
         {
          "offspring beak depth (mm)": 9.5,
          "parent beak depth (mm)": 9.45,
          "species": "fortis"
         },
         {
          "offspring beak depth (mm)": 9.49,
          "parent beak depth (mm)": 10,
          "species": "fortis"
         },
         {
          "offspring beak depth (mm)": 9.74,
          "parent beak depth (mm)": 9.85,
          "species": "fortis"
         },
         {
          "offspring beak depth (mm)": 9.2,
          "parent beak depth (mm)": 9.25,
          "species": "fortis"
         },
         {
          "offspring beak depth (mm)": 9.24,
          "parent beak depth (mm)": 10.1,
          "species": "fortis"
         },
         {
          "offspring beak depth (mm)": 9.7,
          "parent beak depth (mm)": 9.125,
          "species": "fortis"
         },
         {
          "offspring beak depth (mm)": 9.64,
          "parent beak depth (mm)": 9.65,
          "species": "fortis"
         },
         {
          "offspring beak depth (mm)": 9.2,
          "parent beak depth (mm)": 9.1,
          "species": "fortis"
         },
         {
          "offspring beak depth (mm)": 7.5,
          "parent beak depth (mm)": 8.05,
          "species": "fortis"
         },
         {
          "offspring beak depth (mm)": 7.5,
          "parent beak depth (mm)": 7.4,
          "species": "fortis"
         },
         {
          "offspring beak depth (mm)": 8.7,
          "parent beak depth (mm)": 8.85,
          "species": "fortis"
         },
         {
          "offspring beak depth (mm)": 8.31,
          "parent beak depth (mm)": 9.075,
          "species": "fortis"
         },
         {
          "offspring beak depth (mm)": 9,
          "parent beak depth (mm)": 9,
          "species": "fortis"
         },
         {
          "offspring beak depth (mm)": 9,
          "parent beak depth (mm)": 9,
          "species": "fortis"
         },
         {
          "offspring beak depth (mm)": 9.74,
          "parent beak depth (mm)": 9.7,
          "species": "fortis"
         },
         {
          "offspring beak depth (mm)": 9.31,
          "parent beak depth (mm)": 8.7,
          "species": "fortis"
         },
         {
          "offspring beak depth (mm)": 10.5,
          "parent beak depth (mm)": 9.45,
          "species": "fortis"
         },
         {
          "offspring beak depth (mm)": 9.3,
          "parent beak depth (mm)": 9.7,
          "species": "fortis"
         },
         {
          "offspring beak depth (mm)": 8.12,
          "parent beak depth (mm)": 8.35,
          "species": "fortis"
         },
         {
          "offspring beak depth (mm)": 9.34,
          "parent beak depth (mm)": 8.85,
          "species": "fortis"
         },
         {
          "offspring beak depth (mm)": 9.72,
          "parent beak depth (mm)": 9.7,
          "species": "fortis"
         },
         {
          "offspring beak depth (mm)": 9,
          "parent beak depth (mm)": 9.45,
          "species": "fortis"
         },
         {
          "offspring beak depth (mm)": 9.65,
          "parent beak depth (mm)": 10.3,
          "species": "fortis"
         },
         {
          "offspring beak depth (mm)": 10,
          "parent beak depth (mm)": 10.45,
          "species": "fortis"
         },
         {
          "offspring beak depth (mm)": 10.1,
          "parent beak depth (mm)": 9.45,
          "species": "fortis"
         },
         {
          "offspring beak depth (mm)": 8,
          "parent beak depth (mm)": 8.5,
          "species": "fortis"
         },
         {
          "offspring beak depth (mm)": 9.07,
          "parent beak depth (mm)": 8.3,
          "species": "fortis"
         },
         {
          "offspring beak depth (mm)": 9.33,
          "parent beak depth (mm)": 9.225,
          "species": "fortis"
         },
         {
          "offspring beak depth (mm)": 8.11,
          "parent beak depth (mm)": 9.75,
          "species": "fortis"
         },
         {
          "offspring beak depth (mm)": 9.36,
          "parent beak depth (mm)": 9.15,
          "species": "fortis"
         },
         {
          "offspring beak depth (mm)": 9.74,
          "parent beak depth (mm)": 9.55,
          "species": "fortis"
         },
         {
          "offspring beak depth (mm)": 9.9,
          "parent beak depth (mm)": 9,
          "species": "fortis"
         },
         {
          "offspring beak depth (mm)": 9.23,
          "parent beak depth (mm)": 9.275,
          "species": "fortis"
         },
         {
          "offspring beak depth (mm)": 9.7,
          "parent beak depth (mm)": 9.35,
          "species": "fortis"
         },
         {
          "offspring beak depth (mm)": 8.2,
          "parent beak depth (mm)": 8.95,
          "species": "fortis"
         },
         {
          "offspring beak depth (mm)": 9.35,
          "parent beak depth (mm)": 9.875,
          "species": "fortis"
         },
         {
          "offspring beak depth (mm)": 9.49,
          "parent beak depth (mm)": 8.45,
          "species": "fortis"
         },
         {
          "offspring beak depth (mm)": 9.34,
          "parent beak depth (mm)": 8.600000000000001,
          "species": "fortis"
         },
         {
          "offspring beak depth (mm)": 8.87,
          "parent beak depth (mm)": 9.7,
          "species": "fortis"
         },
         {
          "offspring beak depth (mm)": 9.03,
          "parent beak depth (mm)": 8.55,
          "species": "fortis"
         },
         {
          "offspring beak depth (mm)": 9.07,
          "parent beak depth (mm)": 9.05,
          "species": "fortis"
         },
         {
          "offspring beak depth (mm)": 9.43,
          "parent beak depth (mm)": 9.6,
          "species": "fortis"
         },
         {
          "offspring beak depth (mm)": 8.2,
          "parent beak depth (mm)": 8.65,
          "species": "fortis"
         },
         {
          "offspring beak depth (mm)": 9.19,
          "parent beak depth (mm)": 9.2,
          "species": "fortis"
         },
         {
          "offspring beak depth (mm)": 9,
          "parent beak depth (mm)": 8.95,
          "species": "fortis"
         },
         {
          "offspring beak depth (mm)": 9.2,
          "parent beak depth (mm)": 9.6,
          "species": "fortis"
         },
         {
          "offspring beak depth (mm)": 9.06,
          "parent beak depth (mm)": 9.15,
          "species": "fortis"
         },
         {
          "offspring beak depth (mm)": 9.81,
          "parent beak depth (mm)": 9.4,
          "species": "fortis"
         },
         {
          "offspring beak depth (mm)": 8.89,
          "parent beak depth (mm)": 8.95,
          "species": "fortis"
         },
         {
          "offspring beak depth (mm)": 9.4,
          "parent beak depth (mm)": 9.95,
          "species": "fortis"
         },
         {
          "offspring beak depth (mm)": 10.45,
          "parent beak depth (mm)": 10.55,
          "species": "fortis"
         },
         {
          "offspring beak depth (mm)": 9.64,
          "parent beak depth (mm)": 9.7,
          "species": "fortis"
         },
         {
          "offspring beak depth (mm)": 9.03,
          "parent beak depth (mm)": 8.850000000000003,
          "species": "fortis"
         },
         {
          "offspring beak depth (mm)": 8.71,
          "parent beak depth (mm)": 8.8,
          "species": "fortis"
         },
         {
          "offspring beak depth (mm)": 8.33,
          "parent beak depth (mm)": 9.05,
          "species": "fortis"
         },
         {
          "offspring beak depth (mm)": 8.2,
          "parent beak depth (mm)": 8.2,
          "species": "fortis"
         },
         {
          "offspring beak depth (mm)": 7.83,
          "parent beak depth (mm)": 8.1,
          "species": "fortis"
         },
         {
          "offspring beak depth (mm)": 7.14,
          "parent beak depth (mm)": 7.25,
          "species": "fortis"
         },
         {
          "offspring beak depth (mm)": 8.91,
          "parent beak depth (mm)": 8.3,
          "species": "fortis"
         },
         {
          "offspring beak depth (mm)": 9.18,
          "parent beak depth (mm)": 9.15,
          "species": "fortis"
         },
         {
          "offspring beak depth (mm)": 8.8,
          "parent beak depth (mm)": 8.600000000000001,
          "species": "fortis"
         },
         {
          "offspring beak depth (mm)": 9.9,
          "parent beak depth (mm)": 9.5,
          "species": "fortis"
         },
         {
          "offspring beak depth (mm)": 7.73,
          "parent beak depth (mm)": 8.05,
          "species": "fortis"
         },
         {
          "offspring beak depth (mm)": 9.25,
          "parent beak depth (mm)": 9.425,
          "species": "fortis"
         },
         {
          "offspring beak depth (mm)": 8.7,
          "parent beak depth (mm)": 9.3,
          "species": "fortis"
         },
         {
          "offspring beak depth (mm)": 9.5,
          "parent beak depth (mm)": 9.8,
          "species": "fortis"
         },
         {
          "offspring beak depth (mm)": 9.3,
          "parent beak depth (mm)": 9.3,
          "species": "fortis"
         },
         {
          "offspring beak depth (mm)": 9.05,
          "parent beak depth (mm)": 9.85,
          "species": "fortis"
         },
         {
          "offspring beak depth (mm)": 10.18,
          "parent beak depth (mm)": 9.5,
          "species": "fortis"
         },
         {
          "offspring beak depth (mm)": 8.85,
          "parent beak depth (mm)": 8.65,
          "species": "fortis"
         },
         {
          "offspring beak depth (mm)": 9.24,
          "parent beak depth (mm)": 9.825,
          "species": "fortis"
         },
         {
          "offspring beak depth (mm)": 9.15,
          "parent beak depth (mm)": 9,
          "species": "fortis"
         },
         {
          "offspring beak depth (mm)": 9.98,
          "parent beak depth (mm)": 10.45,
          "species": "fortis"
         },
         {
          "offspring beak depth (mm)": 8.77,
          "parent beak depth (mm)": 9.1,
          "species": "fortis"
         },
         {
          "offspring beak depth (mm)": 9.8,
          "parent beak depth (mm)": 9.55,
          "species": "fortis"
         },
         {
          "offspring beak depth (mm)": 8.65,
          "parent beak depth (mm)": 9.05,
          "species": "fortis"
         },
         {
          "offspring beak depth (mm)": 10,
          "parent beak depth (mm)": 10,
          "species": "fortis"
         },
         {
          "offspring beak depth (mm)": 8.81,
          "parent beak depth (mm)": 9.35,
          "species": "fortis"
         },
         {
          "offspring beak depth (mm)": 8.01,
          "parent beak depth (mm)": 8.375,
          "species": "fortis"
         },
         {
          "offspring beak depth (mm)": 7.9,
          "parent beak depth (mm)": 8.3,
          "species": "fortis"
         },
         {
          "offspring beak depth (mm)": 9.41,
          "parent beak depth (mm)": 8.8,
          "species": "fortis"
         },
         {
          "offspring beak depth (mm)": 10.18,
          "parent beak depth (mm)": 10.1,
          "species": "fortis"
         },
         {
          "offspring beak depth (mm)": 9.55,
          "parent beak depth (mm)": 9.5,
          "species": "fortis"
         },
         {
          "offspring beak depth (mm)": 9.08,
          "parent beak depth (mm)": 9.75,
          "species": "fortis"
         },
         {
          "offspring beak depth (mm)": 8.4,
          "parent beak depth (mm)": 10.1,
          "species": "fortis"
         },
         {
          "offspring beak depth (mm)": 9.75,
          "parent beak depth (mm)": 9.575,
          "species": "fortis"
         },
         {
          "offspring beak depth (mm)": 8.9,
          "parent beak depth (mm)": 9.425,
          "species": "fortis"
         },
         {
          "offspring beak depth (mm)": 9.07,
          "parent beak depth (mm)": 9.65,
          "species": "fortis"
         },
         {
          "offspring beak depth (mm)": 9.35,
          "parent beak depth (mm)": 8.725,
          "species": "fortis"
         },
         {
          "offspring beak depth (mm)": 8.9,
          "parent beak depth (mm)": 9.025,
          "species": "fortis"
         },
         {
          "offspring beak depth (mm)": 8.19,
          "parent beak depth (mm)": 8.5,
          "species": "fortis"
         },
         {
          "offspring beak depth (mm)": 8.65,
          "parent beak depth (mm)": 8.95,
          "species": "fortis"
         },
         {
          "offspring beak depth (mm)": 9.19,
          "parent beak depth (mm)": 9.3,
          "species": "fortis"
         },
         {
          "offspring beak depth (mm)": 8.9,
          "parent beak depth (mm)": 8.85,
          "species": "fortis"
         },
         {
          "offspring beak depth (mm)": 9.28,
          "parent beak depth (mm)": 8.95,
          "species": "fortis"
         },
         {
          "offspring beak depth (mm)": 10.58,
          "parent beak depth (mm)": 9.8,
          "species": "fortis"
         },
         {
          "offspring beak depth (mm)": 9.4,
          "parent beak depth (mm)": 8.65,
          "species": "fortis"
         },
         {
          "offspring beak depth (mm)": 8.91,
          "parent beak depth (mm)": 9.1,
          "species": "fortis"
         },
         {
          "offspring beak depth (mm)": 9.93,
          "parent beak depth (mm)": 9.4,
          "species": "fortis"
         },
         {
          "offspring beak depth (mm)": 10,
          "parent beak depth (mm)": 8.475,
          "species": "fortis"
         },
         {
          "offspring beak depth (mm)": 9.37,
          "parent beak depth (mm)": 9.35,
          "species": "fortis"
         },
         {
          "offspring beak depth (mm)": 7.4,
          "parent beak depth (mm)": 7.95,
          "species": "fortis"
         },
         {
          "offspring beak depth (mm)": 9,
          "parent beak depth (mm)": 9.35,
          "species": "fortis"
         },
         {
          "offspring beak depth (mm)": 8.8,
          "parent beak depth (mm)": 8.575,
          "species": "fortis"
         },
         {
          "offspring beak depth (mm)": 9.18,
          "parent beak depth (mm)": 9.05,
          "species": "fortis"
         },
         {
          "offspring beak depth (mm)": 8.3,
          "parent beak depth (mm)": 8.175,
          "species": "fortis"
         },
         {
          "offspring beak depth (mm)": 10.08,
          "parent beak depth (mm)": 9.85,
          "species": "fortis"
         },
         {
          "offspring beak depth (mm)": 7.9,
          "parent beak depth (mm)": 7.85,
          "species": "fortis"
         },
         {
          "offspring beak depth (mm)": 10.4,
          "parent beak depth (mm)": 10.1,
          "species": "fortis"
         },
         {
          "offspring beak depth (mm)": 9.65,
          "parent beak depth (mm)": 9.35,
          "species": "fortis"
         },
         {
          "offspring beak depth (mm)": 8.8,
          "parent beak depth (mm)": 8.850000000000003,
          "species": "fortis"
         },
         {
          "offspring beak depth (mm)": 8.65,
          "parent beak depth (mm)": 8.75,
          "species": "fortis"
         },
         {
          "offspring beak depth (mm)": 9.7,
          "parent beak depth (mm)": 9.625,
          "species": "fortis"
         },
         {
          "offspring beak depth (mm)": 9.23,
          "parent beak depth (mm)": 9.25,
          "species": "fortis"
         },
         {
          "offspring beak depth (mm)": 9.43,
          "parent beak depth (mm)": 9.55,
          "species": "fortis"
         },
         {
          "offspring beak depth (mm)": 9.93,
          "parent beak depth (mm)": 10.325,
          "species": "fortis"
         },
         {
          "offspring beak depth (mm)": 9.55,
          "parent beak depth (mm)": 9.675,
          "species": "fortis"
         },
         {
          "offspring beak depth (mm)": 9.28,
          "parent beak depth (mm)": 9.15,
          "species": "fortis"
         },
         {
          "offspring beak depth (mm)": 8.85,
          "parent beak depth (mm)": 9,
          "species": "fortis"
         },
         {
          "offspring beak depth (mm)": 8.9,
          "parent beak depth (mm)": 9.65,
          "species": "fortis"
         },
         {
          "offspring beak depth (mm)": 8.75,
          "parent beak depth (mm)": 8.6,
          "species": "fortis"
         },
         {
          "offspring beak depth (mm)": 8.63,
          "parent beak depth (mm)": 8.8,
          "species": "fortis"
         },
         {
          "offspring beak depth (mm)": 9.43,
          "parent beak depth (mm)": 9.95,
          "species": "fortis"
         },
         {
          "offspring beak depth (mm)": 8.28,
          "parent beak depth (mm)": 8.4,
          "species": "fortis"
         },
         {
          "offspring beak depth (mm)": 9.23,
          "parent beak depth (mm)": 9.35,
          "species": "fortis"
         },
         {
          "offspring beak depth (mm)": 10.4,
          "parent beak depth (mm)": 10.3,
          "species": "fortis"
         },
         {
          "offspring beak depth (mm)": 9.8,
          "parent beak depth (mm)": 9.975,
          "species": "fortis"
         },
         {
          "offspring beak depth (mm)": 9.77,
          "parent beak depth (mm)": 9.975,
          "species": "fortis"
         },
         {
          "offspring beak depth (mm)": 8.97,
          "parent beak depth (mm)": 8.65,
          "species": "fortis"
         },
         {
          "offspring beak depth (mm)": 8.37,
          "parent beak depth (mm)": 8.725000000000001,
          "species": "fortis"
         },
         {
          "offspring beak depth (mm)": 7.7,
          "parent beak depth (mm)": 8.2,
          "species": "fortis"
         },
         {
          "offspring beak depth (mm)": 7.9,
          "parent beak depth (mm)": 7.85,
          "species": "fortis"
         },
         {
          "offspring beak depth (mm)": 9.5,
          "parent beak depth (mm)": 8.774999999999999,
          "species": "fortis"
         },
         {
          "offspring beak depth (mm)": 8.2,
          "parent beak depth (mm)": 8.5,
          "species": "fortis"
         },
         {
          "offspring beak depth (mm)": 8.8,
          "parent beak depth (mm)": 9.4,
          "species": "fortis"
         },
         {
          "offspring beak depth (mm)": 8.419,
          "parent beak depth (mm)": 8.3318,
          "species": "scandens"
         },
         {
          "offspring beak depth (mm)": 9.2468,
          "parent beak depth (mm)": 8.4035,
          "species": "scandens"
         },
         {
          "offspring beak depth (mm)": 8.1532,
          "parent beak depth (mm)": 8.5317,
          "species": "scandens"
         },
         {
          "offspring beak depth (mm)": 8.0089,
          "parent beak depth (mm)": 8.7202,
          "species": "scandens"
         },
         {
          "offspring beak depth (mm)": 8.2215,
          "parent beak depth (mm)": 8.7089,
          "species": "scandens"
         },
         {
          "offspring beak depth (mm)": 8.3734,
          "parent beak depth (mm)": 8.7541,
          "species": "scandens"
         },
         {
          "offspring beak depth (mm)": 8.5025,
          "parent beak depth (mm)": 8.773,
          "species": "scandens"
         },
         {
          "offspring beak depth (mm)": 8.6392,
          "parent beak depth (mm)": 8.8107,
          "species": "scandens"
         },
         {
          "offspring beak depth (mm)": 8.7684,
          "parent beak depth (mm)": 8.7919,
          "species": "scandens"
         },
         {
          "offspring beak depth (mm)": 8.8139,
          "parent beak depth (mm)": 8.8069,
          "species": "scandens"
         },
         {
          "offspring beak depth (mm)": 8.7911,
          "parent beak depth (mm)": 8.6523,
          "species": "scandens"
         },
         {
          "offspring beak depth (mm)": 8.9051,
          "parent beak depth (mm)": 8.6146,
          "species": "scandens"
         },
         {
          "offspring beak depth (mm)": 8.9203,
          "parent beak depth (mm)": 8.6938,
          "species": "scandens"
         },
         {
          "offspring beak depth (mm)": 8.8747,
          "parent beak depth (mm)": 8.7127,
          "species": "scandens"
         },
         {
          "offspring beak depth (mm)": 8.943,
          "parent beak depth (mm)": 8.7466,
          "species": "scandens"
         },
         {
          "offspring beak depth (mm)": 9.0038,
          "parent beak depth (mm)": 8.7504,
          "species": "scandens"
         },
         {
          "offspring beak depth (mm)": 8.981,
          "parent beak depth (mm)": 8.7805,
          "species": "scandens"
         },
         {
          "offspring beak depth (mm)": 9.0949,
          "parent beak depth (mm)": 8.7428,
          "species": "scandens"
         },
         {
          "offspring beak depth (mm)": 9.2696,
          "parent beak depth (mm)": 8.7164,
          "species": "scandens"
         },
         {
          "offspring beak depth (mm)": 9.1633,
          "parent beak depth (mm)": 8.8032,
          "species": "scandens"
         },
         {
          "offspring beak depth (mm)": 9.1785,
          "parent beak depth (mm)": 8.8258,
          "species": "scandens"
         },
         {
          "offspring beak depth (mm)": 9.1937,
          "parent beak depth (mm)": 8.856,
          "species": "scandens"
         },
         {
          "offspring beak depth (mm)": 9.2772,
          "parent beak depth (mm)": 8.9012,
          "species": "scandens"
         },
         {
          "offspring beak depth (mm)": 9.0722,
          "parent beak depth (mm)": 8.9125,
          "species": "scandens"
         },
         {
          "offspring beak depth (mm)": 8.9658,
          "parent beak depth (mm)": 8.8635,
          "species": "scandens"
         },
         {
          "offspring beak depth (mm)": 8.9658,
          "parent beak depth (mm)": 8.8258,
          "species": "scandens"
         },
         {
          "offspring beak depth (mm)": 8.5025,
          "parent beak depth (mm)": 8.8522,
          "species": "scandens"
         },
         {
          "offspring beak depth (mm)": 8.4949,
          "parent beak depth (mm)": 8.8974,
          "species": "scandens"
         },
         {
          "offspring beak depth (mm)": 8.4949,
          "parent beak depth (mm)": 8.9427,
          "species": "scandens"
         },
         {
          "offspring beak depth (mm)": 8.5633,
          "parent beak depth (mm)": 8.9879,
          "species": "scandens"
         },
         {
          "offspring beak depth (mm)": 8.6013,
          "parent beak depth (mm)": 8.9615,
          "species": "scandens"
         },
         {
          "offspring beak depth (mm)": 8.6468,
          "parent beak depth (mm)": 8.9238,
          "species": "scandens"
         },
         {
          "offspring beak depth (mm)": 8.1532,
          "parent beak depth (mm)": 8.9351,
          "species": "scandens"
         },
         {
          "offspring beak depth (mm)": 8.3734,
          "parent beak depth (mm)": 9.0143,
          "species": "scandens"
         },
         {
          "offspring beak depth (mm)": 8.662,
          "parent beak depth (mm)": 9.0558,
          "species": "scandens"
         },
         {
          "offspring beak depth (mm)": 8.6924,
          "parent beak depth (mm)": 9.0596,
          "species": "scandens"
         },
         {
          "offspring beak depth (mm)": 8.7456,
          "parent beak depth (mm)": 8.9917,
          "species": "scandens"
         },
         {
          "offspring beak depth (mm)": 8.8367,
          "parent beak depth (mm)": 8.905,
          "species": "scandens"
         },
         {
          "offspring beak depth (mm)": 8.8595,
          "parent beak depth (mm)": 8.9314,
          "species": "scandens"
         },
         {
          "offspring beak depth (mm)": 8.9658,
          "parent beak depth (mm)": 8.9465,
          "species": "scandens"
         },
         {
          "offspring beak depth (mm)": 8.9582,
          "parent beak depth (mm)": 8.9879,
          "species": "scandens"
         },
         {
          "offspring beak depth (mm)": 8.8671,
          "parent beak depth (mm)": 8.9804,
          "species": "scandens"
         },
         {
          "offspring beak depth (mm)": 8.8671,
          "parent beak depth (mm)": 9.0219,
          "species": "scandens"
         },
         {
          "offspring beak depth (mm)": 8.943,
          "parent beak depth (mm)": 9.052,
          "species": "scandens"
         },
         {
          "offspring beak depth (mm)": 9.0646,
          "parent beak depth (mm)": 9.0407,
          "species": "scandens"
         },
         {
          "offspring beak depth (mm)": 9.1405,
          "parent beak depth (mm)": 9.0407,
          "species": "scandens"
         },
         {
          "offspring beak depth (mm)": 9.2089,
          "parent beak depth (mm)": 8.9955,
          "species": "scandens"
         },
         {
          "offspring beak depth (mm)": 9.2848,
          "parent beak depth (mm)": 8.9992,
          "species": "scandens"
         },
         {
          "offspring beak depth (mm)": 9.3759,
          "parent beak depth (mm)": 8.9992,
          "species": "scandens"
         },
         {
          "offspring beak depth (mm)": 9.4899,
          "parent beak depth (mm)": 9.0747,
          "species": "scandens"
         },
         {
          "offspring beak depth (mm)": 9.4519,
          "parent beak depth (mm)": 9.0747,
          "species": "scandens"
         },
         {
          "offspring beak depth (mm)": 8.1228,
          "parent beak depth (mm)": 9.5385,
          "species": "scandens"
         },
         {
          "offspring beak depth (mm)": 8.2595,
          "parent beak depth (mm)": 9.4781,
          "species": "scandens"
         },
         {
          "offspring beak depth (mm)": 8.3127,
          "parent beak depth (mm)": 9.4517,
          "species": "scandens"
         },
         {
          "offspring beak depth (mm)": 8.4949,
          "parent beak depth (mm)": 9.3537,
          "species": "scandens"
         },
         {
          "offspring beak depth (mm)": 8.6013,
          "parent beak depth (mm)": 9.2707,
          "species": "scandens"
         },
         {
          "offspring beak depth (mm)": 8.4646,
          "parent beak depth (mm)": 9.1199,
          "species": "scandens"
         },
         {
          "offspring beak depth (mm)": 8.5329,
          "parent beak depth (mm)": 9.1689,
          "species": "scandens"
         },
         {
          "offspring beak depth (mm)": 8.7532,
          "parent beak depth (mm)": 9.1425,
          "species": "scandens"
         },
         {
          "offspring beak depth (mm)": 8.8823,
          "parent beak depth (mm)": 9.135,
          "species": "scandens"
         },
         {
          "offspring beak depth (mm)": 9.0342,
          "parent beak depth (mm)": 9.1011,
          "species": "scandens"
         },
         {
          "offspring beak depth (mm)": 8.6392,
          "parent beak depth (mm)": 9.1727,
          "species": "scandens"
         },
         {
          "offspring beak depth (mm)": 8.6772,
          "parent beak depth (mm)": 9.2217,
          "species": "scandens"
         },
         {
          "offspring beak depth (mm)": 8.6316,
          "parent beak depth (mm)": 9.2255,
          "species": "scandens"
         },
         {
          "offspring beak depth (mm)": 8.7532,
          "parent beak depth (mm)": 9.2821,
          "species": "scandens"
         },
         {
          "offspring beak depth (mm)": 8.8291,
          "parent beak depth (mm)": 9.3235,
          "species": "scandens"
         },
         {
          "offspring beak depth (mm)": 8.8975,
          "parent beak depth (mm)": 9.3198,
          "species": "scandens"
         },
         {
          "offspring beak depth (mm)": 8.9734,
          "parent beak depth (mm)": 9.3198,
          "species": "scandens"
         },
         {
          "offspring beak depth (mm)": 9.0494,
          "parent beak depth (mm)": 9.3198,
          "species": "scandens"
         },
         {
          "offspring beak depth (mm)": 9.1253,
          "parent beak depth (mm)": 9.3273,
          "species": "scandens"
         },
         {
          "offspring beak depth (mm)": 9.1253,
          "parent beak depth (mm)": 9.3725,
          "species": "scandens"
         },
         {
          "offspring beak depth (mm)": 9.1253,
          "parent beak depth (mm)": 9.3989,
          "species": "scandens"
         },
         {
          "offspring beak depth (mm)": 9.1785,
          "parent beak depth (mm)": 9.4253,
          "species": "scandens"
         },
         {
          "offspring beak depth (mm)": 9.2848,
          "parent beak depth (mm)": 9.4593,
          "species": "scandens"
         },
         {
          "offspring beak depth (mm)": 9.4595,
          "parent beak depth (mm)": 9.4442,
          "species": "scandens"
         },
         {
          "offspring beak depth (mm)": 9.3608,
          "parent beak depth (mm)": 9.4291,
          "species": "scandens"
         },
         {
          "offspring beak depth (mm)": 9.2089,
          "parent beak depth (mm)": 9.2632,
          "species": "scandens"
         },
         {
          "offspring beak depth (mm)": 9.2544,
          "parent beak depth (mm)": 9.2293,
          "species": "scandens"
         },
         {
          "offspring beak depth (mm)": 9.3684,
          "parent beak depth (mm)": 9.1878,
          "species": "scandens"
         },
         {
          "offspring beak depth (mm)": 9.3684,
          "parent beak depth (mm)": 9.1425,
          "species": "scandens"
         },
         {
          "offspring beak depth (mm)": 9.2316,
          "parent beak depth (mm)": 9.1275,
          "species": "scandens"
         },
         {
          "offspring beak depth (mm)": 9.1709,
          "parent beak depth (mm)": 9.1802,
          "species": "scandens"
         },
         {
          "offspring beak depth (mm)": 9.2316,
          "parent beak depth (mm)": 9.1765,
          "species": "scandens"
         },
         {
          "offspring beak depth (mm)": 9.0342,
          "parent beak depth (mm)": 9.2481,
          "species": "scandens"
         },
         {
          "offspring beak depth (mm)": 8.8899,
          "parent beak depth (mm)": 9.2481,
          "species": "scandens"
         },
         {
          "offspring beak depth (mm)": 8.8291,
          "parent beak depth (mm)": 9.1991,
          "species": "scandens"
         },
         {
          "offspring beak depth (mm)": 8.981,
          "parent beak depth (mm)": 9.1689,
          "species": "scandens"
         },
         {
          "offspring beak depth (mm)": 8.8975,
          "parent beak depth (mm)": 9.1765,
          "species": "scandens"
         },
         {
          "offspring beak depth (mm)": 10.4089,
          "parent beak depth (mm)": 9.2406,
          "species": "scandens"
         },
         {
          "offspring beak depth (mm)": 10.1886,
          "parent beak depth (mm)": 9.3198,
          "species": "scandens"
         },
         {
          "offspring beak depth (mm)": 9.7633,
          "parent beak depth (mm)": 9.3235,
          "species": "scandens"
         },
         {
          "offspring beak depth (mm)": 9.7329,
          "parent beak depth (mm)": 9.1991,
          "species": "scandens"
         },
         {
          "offspring beak depth (mm)": 9.6114,
          "parent beak depth (mm)": 9.2971,
          "species": "scandens"
         },
         {
          "offspring beak depth (mm)": 9.5051,
          "parent beak depth (mm)": 9.2443,
          "species": "scandens"
         },
         {
          "offspring beak depth (mm)": 9.5127,
          "parent beak depth (mm)": 9.316,
          "species": "scandens"
         },
         {
          "offspring beak depth (mm)": 9.3684,
          "parent beak depth (mm)": 9.2934,
          "species": "scandens"
         },
         {
          "offspring beak depth (mm)": 9.6266,
          "parent beak depth (mm)": 9.3914,
          "species": "scandens"
         },
         {
          "offspring beak depth (mm)": 9.5354,
          "parent beak depth (mm)": 9.3989,
          "species": "scandens"
         },
         {
          "offspring beak depth (mm)": 10.0215,
          "parent beak depth (mm)": 9.5121,
          "species": "scandens"
         },
         {
          "offspring beak depth (mm)": 10.0215,
          "parent beak depth (mm)": 9.6176,
          "species": "scandens"
         },
         {
          "offspring beak depth (mm)": 9.6266,
          "parent beak depth (mm)": 9.5535,
          "species": "scandens"
         },
         {
          "offspring beak depth (mm)": 9.6038,
          "parent beak depth (mm)": 9.4668,
          "species": "scandens"
         },
         {
          "offspring beak depth (mm)": 9.4063,
          "parent beak depth (mm)": 9.3725,
          "species": "scandens"
         },
         {
          "offspring beak depth (mm)": 9.2316,
          "parent beak depth (mm)": 9.3348,
          "species": "scandens"
         },
         {
          "offspring beak depth (mm)": 9.338,
          "parent beak depth (mm)": 9.3763,
          "species": "scandens"
         },
         {
          "offspring beak depth (mm)": 9.262,
          "parent beak depth (mm)": 9.3839,
          "species": "scandens"
         },
         {
          "offspring beak depth (mm)": 9.262,
          "parent beak depth (mm)": 9.4216,
          "species": "scandens"
         },
         {
          "offspring beak depth (mm)": 9.4063,
          "parent beak depth (mm)": 9.4065,
          "species": "scandens"
         },
         {
          "offspring beak depth (mm)": 9.4367,
          "parent beak depth (mm)": 9.3348,
          "species": "scandens"
         },
         {
          "offspring beak depth (mm)": 9.0342,
          "parent beak depth (mm)": 9.4442,
          "species": "scandens"
         },
         {
          "offspring beak depth (mm)": 8.943,
          "parent beak depth (mm)": 9.4367,
          "species": "scandens"
         },
         {
          "offspring beak depth (mm)": 8.9203,
          "parent beak depth (mm)": 9.5083,
          "species": "scandens"
         },
         {
          "offspring beak depth (mm)": 8.7835,
          "parent beak depth (mm)": 9.448,
          "species": "scandens"
         },
         {
          "offspring beak depth (mm)": 8.7835,
          "parent beak depth (mm)": 9.4781,
          "species": "scandens"
         },
         {
          "offspring beak depth (mm)": 9.057,
          "parent beak depth (mm)": 9.595,
          "species": "scandens"
         },
         {
          "offspring beak depth (mm)": 8.9354,
          "parent beak depth (mm)": 9.6101,
          "species": "scandens"
         },
         {
          "offspring beak depth (mm)": 8.8975,
          "parent beak depth (mm)": 9.5686,
          "species": "scandens"
         },
         {
          "offspring beak depth (mm)": 8.8139,
          "parent beak depth (mm)": 9.6365,
          "species": "scandens"
         },
         {
          "offspring beak depth (mm)": 8.8671,
          "parent beak depth (mm)": 9.7119,
          "species": "scandens"
         },
         {
          "offspring beak depth (mm)": 9.0873,
          "parent beak depth (mm)": 9.8213,
          "species": "scandens"
         },
         {
          "offspring beak depth (mm)": 9.2848,
          "parent beak depth (mm)": 9.825,
          "species": "scandens"
         },
         {
          "offspring beak depth (mm)": 9.2392,
          "parent beak depth (mm)": 9.7609,
          "species": "scandens"
         },
         {
          "offspring beak depth (mm)": 9.2924,
          "parent beak depth (mm)": 9.6516,
          "species": "scandens"
         },
         {
          "offspring beak depth (mm)": 9.4063,
          "parent beak depth (mm)": 9.5988,
          "species": "scandens"
         },
         {
          "offspring beak depth (mm)": 9.3152,
          "parent beak depth (mm)": 9.546,
          "species": "scandens"
         },
         {
          "offspring beak depth (mm)": 9.4899,
          "parent beak depth (mm)": 9.6516,
          "species": "scandens"
         },
         {
          "offspring beak depth (mm)": 9.5962,
          "parent beak depth (mm)": 9.7572,
          "species": "scandens"
         },
         {
          "offspring beak depth (mm)": 9.6873,
          "parent beak depth (mm)": 9.8854,
          "species": "scandens"
         },
         {
          "offspring beak depth (mm)": 9.5203,
          "parent beak depth (mm)": 10.0023,
          "species": "scandens"
         },
         {
          "offspring beak depth (mm)": 9.6646,
          "parent beak depth (mm)": 9.3914,
          "species": "scandens"
         }
        ]
       },
       "encoding": {
        "color": {
         "field": "species",
         "type": "nominal"
        },
        "x": {
         "field": "parent beak depth (mm)",
         "scale": {
          "zero": false
         },
         "type": "quantitative"
        },
        "y": {
         "field": "offspring beak depth (mm)",
         "scale": {
          "zero": false
         },
         "type": "quantitative"
        }
       },
       "mark": "point"
      },
      "image/png": "[encoded data removed]",
      "text/plain": [
       "<VegaLite 2 object>\n",
       "\n",
       "If you see this message, it means the renderer has not been properly enabled\n",
       "for the frontend that you are using. For more information, see\n",
       "https://altair-viz.github.io/user_guide/troubleshooting.html\n"
      ]
     },
     "execution_count": 2,
     "metadata": {},
     "output_type": "execute_result"
    }
   ],
   "source": [
    "df = pd.read_csv('data/grant_heredity.csv')\n",
    "\n",
    "alt.Chart(df\n",
    "    ).mark_point(\n",
    "    ).encode(\n",
    "        x=alt.X('parent beak depth (mm):Q', scale=alt.Scale(zero=False)),\n",
    "        y=alt.Y('offspring beak depth (mm):Q', scale=alt.Scale(zero=False)),\n",
    "        color='species'\n",
    "    )"
   ]
  },
  {
   "cell_type": "markdown",
   "metadata": {},
   "source": [
    "At first glance, it appears as though the *G. fortis* birds show higher heritatiblity of beak depth. Let's to the calculation."
   ]
  },
  {
   "cell_type": "code",
   "execution_count": 3,
   "metadata": {},
   "outputs": [
    {
     "name": "stdout",
     "output_type": "stream",
     "text": [
      "scandens confidence interval: [0.34597421 0.7536939 ]\n",
      "  fortis confidence interval: [0.6461735  0.79680839]\n"
     ]
    }
   ],
   "source": [
    "# Extract data as numpy arrays\n",
    "inds = df['species']=='scandens'\n",
    "bd_parent_scandens = df.loc[inds, 'parent beak depth (mm)'].values\n",
    "bd_offspring_scandens = df.loc[inds, 'offspring beak depth (mm)'].values\n",
    "\n",
    "inds = df['species']=='fortis'\n",
    "bd_parent_fortis = df.loc[inds, 'parent beak depth (mm)'].values\n",
    "bd_offspring_fortis = df.loc[inds, 'offspring beak depth (mm)'].values\n",
    "\n",
    "def draw_bs_pairs(x, y, func, size=1):\n",
    "    \"\"\"Perform pairs bootstrap for single statistic.\"\"\"\n",
    "    # Set up array of indices to sample from\n",
    "    inds = np.arange(len(x))\n",
    "\n",
    "    # Initialize replicates\n",
    "    bs_replicates = np.empty(size)\n",
    "\n",
    "    # Generate replicates\n",
    "    for i in range(size):\n",
    "        bs_inds = np.random.choice(inds, len(inds))\n",
    "        bs_x, bs_y = x[bs_inds], y[bs_inds]\n",
    "        bs_replicates[i] = func(bs_x, bs_y)\n",
    "\n",
    "    return bs_replicates\n",
    "\n",
    "def heritability(parents, offspring):\n",
    "    \"\"\"Compute the heritability from parent and offspring samples.\"\"\"\n",
    "    covariance_matrix = np.cov(parents, offspring)\n",
    "    return covariance_matrix[0,1] / covariance_matrix[0,0]\n",
    "\n",
    "# Compute the heritability\n",
    "heritability_scandens = heritability(bd_parent_scandens,\n",
    "                                     bd_offspring_scandens)\n",
    "heritability_fortis = heritability(bd_parent_fortis,\n",
    "                                   bd_offspring_fortis)\n",
    "\n",
    "# Acquire 10000 bootstrap replicates of heritability\n",
    "replicates_scandens = draw_bs_pairs(\n",
    "        bd_parent_scandens, bd_offspring_scandens, heritability, size=10000)\n",
    "replicates_fortis = draw_bs_pairs(\n",
    "        bd_parent_fortis, bd_offspring_fortis, heritability, size=10000)\n",
    "\n",
    "# Compute 95% confidence intervals\n",
    "conf_int_scandens = np.percentile(replicates_scandens, [2.5, 97.5])\n",
    "conf_int_fortis = np.percentile(replicates_fortis, [2.5, 97.5])\n",
    "\n",
    "print('scandens confidence interval:', conf_int_scandens)\n",
    "print('  fortis confidence interval:', conf_int_fortis)"
   ]
  },
  {
   "cell_type": "markdown",
   "metadata": {},
   "source": [
    "Indeed, *G. fortis* does seem to have higher heritability, but the large uncertainty in the *G. scandens* result means that we can't be certain. Their confidence intervals overlap. If we just reported the value calculated directly from the data, we would get the following."
   ]
  },
  {
   "cell_type": "code",
   "execution_count": 4,
   "metadata": {},
   "outputs": [
    {
     "name": "stdout",
     "output_type": "stream",
     "text": [
      "scandens: 0.5485340868685982\n",
      "fortis: 0.722905191143816\n"
     ]
    }
   ],
   "source": [
    "print('scandens:', heritability_scandens)\n",
    "print('fortis:', heritability_fortis)"
   ]
  },
  {
   "cell_type": "markdown",
   "metadata": {},
   "source": [
    "This might look like a big difference, but the confidence intervals tell us that it is not. Here we can see more of the power of the bootstrap. We can also get a confidence interval on the *difference* in heritability. To do that, we simply subtract the two sets of bootstrap replicates."
   ]
  },
  {
   "cell_type": "code",
   "execution_count": 5,
   "metadata": {},
   "outputs": [
    {
     "name": "stdout",
     "output_type": "stream",
     "text": [
      "fortis - scandens: [-0.04345204  0.39110291]\n"
     ]
    }
   ],
   "source": [
    "conf_int_diff = np.percentile(replicates_fortis - replicates_scandens,\n",
    "                              [2.5, 97.5])\n",
    "print('fortis - scandens:', conf_int_diff)"
   ]
  },
  {
   "cell_type": "markdown",
   "metadata": {},
   "source": [
    "This tells us that there is most likely a difference between the two, but we cannot say for certain."
   ]
  },
  {
   "cell_type": "markdown",
   "metadata": {},
   "source": [
    "<br />"
   ]
  },
  {
   "cell_type": "markdown",
   "metadata": {},
   "source": [
    "## Practice 2: Plotting with Bokeh\n",
    "\n",
    "The `bootcamp_utils` module has several convenient functions for making plots with Bokeh. To make sure you have the updated version installed, you should\n",
    "\n",
    "    git pull upstream master\n",
    "    \n",
    "You should then `cd` into the `~/git/bootcamp/modules` directory and do\n",
    "\n",
    "    pip install -e bootcamp_utils\n",
    "    \n",
    "You should then restart the kernel of your Jupyter notebook.\n",
    "\n",
    "To find out what is available, you can try tab completion after typing `bootcamp_utils.bokeh_`. Then, read the doc strings of the plotting functions, and play around with them. You can use any of the data sets we've used in the bootcamp, but the Darwin finch data set or the frog data set will probably be best."
   ]
  },
  {
   "cell_type": "markdown",
   "metadata": {},
   "source": [
    "### Practice 2: *solution*\n",
    "\n",
    "I'll go through the plot types sequentially with the Darwin finch set."
   ]
  },
  {
   "cell_type": "code",
   "execution_count": 6,
   "metadata": {},
   "outputs": [
    {
     "data": {
      "text/html": [
       "<div>\n",
       "<style scoped>\n",
       "    .dataframe tbody tr th:only-of-type {\n",
       "        vertical-align: middle;\n",
       "    }\n",
       "\n",
       "    .dataframe tbody tr th {\n",
       "        vertical-align: top;\n",
       "    }\n",
       "\n",
       "    .dataframe thead th {\n",
       "        text-align: right;\n",
       "    }\n",
       "</style>\n",
       "<table border=\"1\" class=\"dataframe\">\n",
       "  <thead>\n",
       "    <tr style=\"text-align: right;\">\n",
       "      <th></th>\n",
       "      <th>band</th>\n",
       "      <th>beak depth (mm)</th>\n",
       "      <th>beak length (mm)</th>\n",
       "      <th>species</th>\n",
       "      <th>year</th>\n",
       "    </tr>\n",
       "  </thead>\n",
       "  <tbody>\n",
       "    <tr>\n",
       "      <th>0</th>\n",
       "      <td>20123</td>\n",
       "      <td>8.05</td>\n",
       "      <td>9.25</td>\n",
       "      <td>fortis</td>\n",
       "      <td>1973</td>\n",
       "    </tr>\n",
       "    <tr>\n",
       "      <th>1</th>\n",
       "      <td>20126</td>\n",
       "      <td>10.45</td>\n",
       "      <td>11.35</td>\n",
       "      <td>fortis</td>\n",
       "      <td>1973</td>\n",
       "    </tr>\n",
       "    <tr>\n",
       "      <th>2</th>\n",
       "      <td>20128</td>\n",
       "      <td>9.55</td>\n",
       "      <td>10.15</td>\n",
       "      <td>fortis</td>\n",
       "      <td>1973</td>\n",
       "    </tr>\n",
       "    <tr>\n",
       "      <th>3</th>\n",
       "      <td>20129</td>\n",
       "      <td>8.75</td>\n",
       "      <td>9.95</td>\n",
       "      <td>fortis</td>\n",
       "      <td>1973</td>\n",
       "    </tr>\n",
       "    <tr>\n",
       "      <th>4</th>\n",
       "      <td>20133</td>\n",
       "      <td>10.15</td>\n",
       "      <td>11.55</td>\n",
       "      <td>fortis</td>\n",
       "      <td>1973</td>\n",
       "    </tr>\n",
       "  </tbody>\n",
       "</table>\n",
       "</div>"
      ],
      "text/plain": [
       "    band  beak depth (mm)  beak length (mm) species  year\n",
       "0  20123             8.05              9.25  fortis  1973\n",
       "1  20126            10.45             11.35  fortis  1973\n",
       "2  20128             9.55             10.15  fortis  1973\n",
       "3  20129             8.75              9.95  fortis  1973\n",
       "4  20133            10.15             11.55  fortis  1973"
      ]
     },
     "execution_count": 6,
     "metadata": {},
     "output_type": "execute_result"
    }
   ],
   "source": [
    "df = pd.read_csv('data/grant_complete.csv', comment='#')\n",
    "\n",
    "df.head()"
   ]
  },
  {
   "cell_type": "markdown",
   "metadata": {},
   "source": [
    "#### Box plots\n",
    "\n",
    "The `cats` kwarg say which variables are categorical. You can choose more than one column of the `DataFrame`, and the ticks will be labeled accordingly."
   ]
  },
  {
   "cell_type": "code",
   "execution_count": 7,
   "metadata": {},
   "outputs": [
    {
     "data": {
      "text/html": [
       "\n",
       "<div class=\"bk-root\">\n",
       "    <div class=\"bk-plotdiv\" id=\"f5f2c562-e99d-4aa3-b370-ecef82a32b73\"></div>\n",
       "</div>"
      ]
     },
     "metadata": {},
     "output_type": "display_data"
    },
    {
     "data": {
      "application/javascript": [
       "(function(root) {\n",
       "  function embed_document(root) {\n",
       "    \n",
       "  var docs_json = {\"9c50c384-df79-4473-b13e-3c0a0c58e0bd\":{\"roots\":{\"references\":[{\"attributes\":{\"callback\":null,\"data\":{\"x\":[2.5,2.5,2.5,2.5,2.5,2.5,2.5,2.5,2.5,2.5],\"y\":{\"__ndarray__\":\"AAAAAAAAHEB7FK5H4XocQNejcD0K1xxAMzMzMzMzHUDD9Shcj8ImQMP1KFyPwiZAexSuR+H6JkCPwvUoXA8nQD0K16NwvShAZmZmZmZmKUA=\",\"dtype\":\"float64\",\"shape\":[10]}},\"selected\":{\"id\":\"7248b231-55b0-4e19-a477-484a5deb9b40\",\"type\":\"Selection\"},\"selection_policy\":{\"id\":\"3c3d0ecd-363d-4592-bc23-4010f7237b22\",\"type\":\"UnionRenderers\"}},\"id\":\"83dcf59b-9581-44e1-8295-c7fa04ab5cc5\",\"type\":\"ColumnDataSource\"},{\"attributes\":{\"x\":{\"field\":\"x\"},\"y\":{\"field\":\"y\"}},\"id\":\"53fd190f-d701-4c2e-9f9a-6acfb33b00dc\",\"type\":\"Line\"},{\"attributes\":{\"callback\":null,\"data\":{\"x\":[8.5,8.5],\"y\":{\"__ndarray__\":\"FK5H4XoUH0DNzMzMzMwkQA==\",\"dtype\":\"float64\",\"shape\":[2]}},\"selected\":{\"id\":\"66affbb1-7c28-4784-be84-0f56e4c9e65c\",\"type\":\"Selection\"},\"selection_policy\":{\"id\":\"26819a3b-ff99-4a9d-8e76-393a052a3ca8\",\"type\":\"UnionRenderers\"}},\"id\":\"86a88e82-9b85-43a1-95f6-57320c1acb2e\",\"type\":\"ColumnDataSource\"},{\"attributes\":{},\"id\":\"6bf87080-0f53-41b4-8101-6a84347ff2f2\",\"type\":\"BasicTickFormatter\"},{\"attributes\":{},\"id\":\"2115c794-ecb5-4754-8e0e-3da2a689fbfb\",\"type\":\"UnionRenderers\"},{\"attributes\":{},\"id\":\"741d172e-5caa-4ccb-90af-8ed4d515cfff\",\"type\":\"UnionRenderers\"},{\"attributes\":{\"fill_color\":{\"value\":\"black\"},\"x\":{\"field\":\"x\"},\"y\":{\"field\":\"y\"}},\"id\":\"d48fb7c6-b222-4aaf-8d2e-08fd6381be91\",\"type\":\"Circle\"},{\"attributes\":{\"line_alpha\":0.1,\"line_color\":\"#1f77b4\",\"x\":{\"field\":\"x\"},\"y\":{\"field\":\"y\"}},\"id\":\"f6fed73e-9eef-469f-b0dd-85c9796b7c32\",\"type\":\"Line\"},{\"attributes\":{\"fill_color\":{\"value\":\"black\"},\"x\":{\"field\":\"x\"},\"y\":{\"field\":\"y\"}},\"id\":\"ed268f05-57fa-4a9b-b15a-8d6995bce55c\",\"type\":\"Circle\"},{\"attributes\":{\"data_source\":{\"id\":\"158562dc-ec9a-4239-bdb4-c4ff988d2850\",\"type\":\"ColumnDataSource\"},\"glyph\":{\"id\":\"53fd190f-d701-4c2e-9f9a-6acfb33b00dc\",\"type\":\"Line\"},\"hover_glyph\":null,\"muted_glyph\":null,\"nonselection_glyph\":{\"id\":\"f6fed73e-9eef-469f-b0dd-85c9796b7c32\",\"type\":\"Line\"},\"selection_glyph\":null,\"view\":{\"id\":\"99996bf6-f6f6-4ae4-8330-396053799118\",\"type\":\"CDSView\"}},\"id\":\"e0f5df13-dbea-4782-9cad-4acef38ae9b3\",\"type\":\"GlyphRenderer\"},{\"attributes\":{\"fill_alpha\":{\"value\":0.1},\"fill_color\":{\"value\":\"#1f77b4\"},\"line_alpha\":{\"value\":0.1},\"line_color\":{\"value\":\"#1f77b4\"},\"x\":{\"field\":\"x\"},\"y\":{\"field\":\"y\"}},\"id\":\"fd9849d7-32b3-4d60-a8c0-d2e321d06a63\",\"type\":\"Circle\"},{\"attributes\":{\"fill_alpha\":{\"value\":0.1},\"fill_color\":{\"value\":\"#1f77b4\"},\"line_alpha\":{\"value\":0.1},\"line_color\":{\"value\":\"#1f77b4\"},\"x\":{\"field\":\"x\"},\"y\":{\"field\":\"y\"}},\"id\":\"80dc441d-4f45-4b3b-bfc1-8ecb388cde79\",\"type\":\"Circle\"},{\"attributes\":{\"data_source\":{\"id\":\"83dcf59b-9581-44e1-8295-c7fa04ab5cc5\",\"type\":\"ColumnDataSource\"},\"glyph\":{\"id\":\"d48fb7c6-b222-4aaf-8d2e-08fd6381be91\",\"type\":\"Circle\"},\"hover_glyph\":null,\"muted_glyph\":null,\"nonselection_glyph\":{\"id\":\"fd9849d7-32b3-4d60-a8c0-d2e321d06a63\",\"type\":\"Circle\"},\"selection_glyph\":null,\"view\":{\"id\":\"3b4895fe-4faf-45f0-81d5-177b2328ef24\",\"type\":\"CDSView\"}},\"id\":\"ecef4e69-4d4e-4286-94a0-223e10cfc7cb\",\"type\":\"GlyphRenderer\"},{\"attributes\":{\"data_source\":{\"id\":\"86a88e82-9b85-43a1-95f6-57320c1acb2e\",\"type\":\"ColumnDataSource\"},\"glyph\":{\"id\":\"ed268f05-57fa-4a9b-b15a-8d6995bce55c\",\"type\":\"Circle\"},\"hover_glyph\":null,\"muted_glyph\":null,\"nonselection_glyph\":{\"id\":\"80dc441d-4f45-4b3b-bfc1-8ecb388cde79\",\"type\":\"Circle\"},\"selection_glyph\":null,\"view\":{\"id\":\"550c53e1-e9de-4ef7-a2c4-dbf956c51c8f\",\"type\":\"CDSView\"}},\"id\":\"e93e92f3-b6db-490e-adcf-f6809ba5bf17\",\"type\":\"GlyphRenderer\"},{\"attributes\":{\"source\":{\"id\":\"158562dc-ec9a-4239-bdb4-c4ff988d2850\",\"type\":\"ColumnDataSource\"}},\"id\":\"99996bf6-f6f6-4ae4-8330-396053799118\",\"type\":\"CDSView\"},{\"attributes\":{\"source\":{\"id\":\"83dcf59b-9581-44e1-8295-c7fa04ab5cc5\",\"type\":\"ColumnDataSource\"}},\"id\":\"3b4895fe-4faf-45f0-81d5-177b2328ef24\",\"type\":\"CDSView\"},{\"attributes\":{\"x\":{\"field\":\"x\"},\"y\":{\"field\":\"y\"}},\"id\":\"8c87c4b2-c0c6-495c-b4c9-76778684f030\",\"type\":\"Line\"},{\"attributes\":{\"source\":{\"id\":\"86a88e82-9b85-43a1-95f6-57320c1acb2e\",\"type\":\"ColumnDataSource\"}},\"id\":\"550c53e1-e9de-4ef7-a2c4-dbf956c51c8f\",\"type\":\"CDSView\"},{\"attributes\":{\"callback\":null,\"data\":{\"x\":[7.5,7.5],\"y\":[8.9,8.172500000000001]},\"selected\":{\"id\":\"65b949e3-d18c-4b45-b4ce-9cde611539d0\",\"type\":\"Selection\"},\"selection_policy\":{\"id\":\"70fb292a-8a10-491b-b84e-337cab320719\",\"type\":\"UnionRenderers\"}},\"id\":\"a616f1f4-9046-446e-b5c3-3d2c3bbcfa19\",\"type\":\"ColumnDataSource\"},{\"attributes\":{\"line_alpha\":0.1,\"line_color\":\"#1f77b4\",\"x\":{\"field\":\"x\"},\"y\":{\"field\":\"y\"}},\"id\":\"455bdf17-0dc1-457b-858d-8abd477d212f\",\"type\":\"Line\"},{\"attributes\":{\"data_source\":{\"id\":\"a616f1f4-9046-446e-b5c3-3d2c3bbcfa19\",\"type\":\"ColumnDataSource\"},\"glyph\":{\"id\":\"8c87c4b2-c0c6-495c-b4c9-76778684f030\",\"type\":\"Line\"},\"hover_glyph\":null,\"muted_glyph\":null,\"nonselection_glyph\":{\"id\":\"455bdf17-0dc1-457b-858d-8abd477d212f\",\"type\":\"Line\"},\"selection_glyph\":null,\"view\":{\"id\":\"1dedca87-129e-4316-9454-de5ab211e2ef\",\"type\":\"CDSView\"}},\"id\":\"d157bf52-1728-44a8-a44d-cf56b52e368f\",\"type\":\"GlyphRenderer\"},{\"attributes\":{\"source\":{\"id\":\"a616f1f4-9046-446e-b5c3-3d2c3bbcfa19\",\"type\":\"ColumnDataSource\"}},\"id\":\"1dedca87-129e-4316-9454-de5ab211e2ef\",\"type\":\"CDSView\"},{\"attributes\":{\"x\":{\"field\":\"x\"},\"y\":{\"field\":\"y\"}},\"id\":\"a894ddab-f137-4063-bce3-535a6be7b1af\",\"type\":\"Line\"},{\"attributes\":{\"callback\":null,\"data\":{\"x\":[7.5,7.5],\"y\":[9.385,10.112499999999999]},\"selected\":{\"id\":\"b9b12cbb-3a06-4e00-99ca-955b7cd77140\",\"type\":\"Selection\"},\"selection_policy\":{\"id\":\"1915fe69-6ca2-4a12-80a3-0b65f518430e\",\"type\":\"UnionRenderers\"}},\"id\":\"d66b6987-df50-4fe3-b2b3-db3ec66d557e\",\"type\":\"ColumnDataSource\"},{\"attributes\":{\"line_alpha\":0.1,\"line_color\":\"#1f77b4\",\"x\":{\"field\":\"x\"},\"y\":{\"field\":\"y\"}},\"id\":\"d314698a-d5e4-4827-bdbc-9555f149dc60\",\"type\":\"Line\"},{\"attributes\":{\"data_source\":{\"id\":\"d66b6987-df50-4fe3-b2b3-db3ec66d557e\",\"type\":\"ColumnDataSource\"},\"glyph\":{\"id\":\"a894ddab-f137-4063-bce3-535a6be7b1af\",\"type\":\"Line\"},\"hover_glyph\":null,\"muted_glyph\":null,\"nonselection_glyph\":{\"id\":\"d314698a-d5e4-4827-bdbc-9555f149dc60\",\"type\":\"Line\"},\"selection_glyph\":null,\"view\":{\"id\":\"b7433979-ce6c-41c2-a92b-941ec1d136ff\",\"type\":\"CDSView\"}},\"id\":\"fcdd5f96-4acb-4580-a0f1-6b51df58c584\",\"type\":\"GlyphRenderer\"},{\"attributes\":{\"source\":{\"id\":\"d66b6987-df50-4fe3-b2b3-db3ec66d557e\",\"type\":\"ColumnDataSource\"}},\"id\":\"b7433979-ce6c-41c2-a92b-941ec1d136ff\",\"type\":\"CDSView\"},{\"attributes\":{\"x\":{\"field\":\"x\"},\"y\":{\"value\":8.172500000000001}},\"id\":\"cb36c36a-ee87-47e3-bd0e-d92f76e59914\",\"type\":\"Line\"},{\"attributes\":{\"callback\":null,\"data\":{\"x\":[7.4,7.6]},\"selected\":{\"id\":\"d433d99b-bc6a-4f35-9a5e-022eae3a9b2f\",\"type\":\"Selection\"},\"selection_policy\":{\"id\":\"652766ae-117a-45ab-8ffc-85d3d3be1f11\",\"type\":\"UnionRenderers\"}},\"id\":\"dd63cd2f-d9e5-4044-b28b-b24bb951139e\",\"type\":\"ColumnDataSource\"},{\"attributes\":{\"line_alpha\":0.1,\"line_color\":\"#1f77b4\",\"x\":{\"field\":\"x\"},\"y\":{\"value\":8.172500000000001}},\"id\":\"9e102d49-de31-4f81-9fc1-3258d2e869b1\",\"type\":\"Line\"},{\"attributes\":{\"x\":{\"field\":\"x\"},\"y\":{\"value\":10.112499999999999}},\"id\":\"8609fd7d-82db-4989-8e00-58131780120d\",\"type\":\"Line\"},{\"attributes\":{},\"id\":\"679e68b5-5a0e-4cf9-9251-207f76aee484\",\"type\":\"Selection\"},{\"attributes\":{},\"id\":\"c7539b97-2e51-4a4a-a3ca-9bd874e714f0\",\"type\":\"UnionRenderers\"},{\"attributes\":{\"data_source\":{\"id\":\"dd63cd2f-d9e5-4044-b28b-b24bb951139e\",\"type\":\"ColumnDataSource\"},\"glyph\":{\"id\":\"cb36c36a-ee87-47e3-bd0e-d92f76e59914\",\"type\":\"Line\"},\"hover_glyph\":null,\"muted_glyph\":null,\"nonselection_glyph\":{\"id\":\"9e102d49-de31-4f81-9fc1-3258d2e869b1\",\"type\":\"Line\"},\"selection_glyph\":null,\"view\":{\"id\":\"03fdf7e7-e510-4c43-9d70-f04e6c69fdff\",\"type\":\"CDSView\"}},\"id\":\"eaf3851f-b8c0-463a-afe6-42c9f0043ff2\",\"type\":\"GlyphRenderer\"},{\"attributes\":{\"bottom\":{\"value\":8.8},\"fill_color\":{\"value\":\"#d62728\"},\"left\":{\"value\":3.25},\"right\":{\"value\":3.75},\"top\":{\"value\":9.8}},\"id\":\"1ff76692-27c1-4135-a63b-c3818cbfdda5\",\"type\":\"Quad\"},{\"attributes\":{\"bottom\":{\"value\":8.8},\"fill_color\":{\"value\":\"#17becf\"},\"left\":{\"value\":9.25},\"right\":{\"value\":9.75},\"top\":{\"value\":9.6}},\"id\":\"517fa280-4284-4c36-bc84-6a0ef738249c\",\"type\":\"Quad\"},{\"attributes\":{\"bottom\":{\"value\":8.8},\"fill_alpha\":{\"value\":0.1},\"fill_color\":{\"value\":\"#1f77b4\"},\"left\":{\"value\":3.25},\"line_alpha\":{\"value\":0.1},\"line_color\":{\"value\":\"#1f77b4\"},\"right\":{\"value\":3.75},\"top\":{\"value\":9.8}},\"id\":\"1d239204-7855-4957-8cfd-14a4b0bc47ef\",\"type\":\"Quad\"},{\"attributes\":{\"line_alpha\":0.1,\"line_color\":\"#1f77b4\",\"x\":{\"field\":\"x\"},\"y\":{\"value\":10.112499999999999}},\"id\":\"3278a824-c0c1-41d8-b0f0-4e7221fb9b15\",\"type\":\"Line\"},{\"attributes\":{\"bottom\":{\"value\":8.8},\"fill_alpha\":{\"value\":0.1},\"fill_color\":{\"value\":\"#1f77b4\"},\"left\":{\"value\":9.25},\"line_alpha\":{\"value\":0.1},\"line_color\":{\"value\":\"#1f77b4\"},\"right\":{\"value\":9.75},\"top\":{\"value\":9.6}},\"id\":\"ccb9e944-725d-408f-b22a-8cb5665397cd\",\"type\":\"Quad\"},{\"attributes\":{\"callback\":null,\"data\":{},\"selected\":{\"id\":\"40a18045-d091-4a69-a8b5-3a00b0dbfb07\",\"type\":\"Selection\"},\"selection_policy\":{\"id\":\"71fbb436-ae16-4a6b-a368-8d11291b594f\",\"type\":\"UnionRenderers\"}},\"id\":\"7c0958de-0fa7-4e82-af72-06dd97d8f365\",\"type\":\"ColumnDataSource\"},{\"attributes\":{\"fill_color\":{\"value\":\"black\"},\"x\":{\"field\":\"x\"},\"y\":{\"field\":\"y\"}},\"id\":\"8c1e1ff0-8a95-4e38-8b82-ee6833befb0a\",\"type\":\"Circle\"},{\"attributes\":{\"callback\":null,\"data\":{},\"selected\":{\"id\":\"ecdbe48f-e9e8-4971-ad52-daa60594a19d\",\"type\":\"Selection\"},\"selection_policy\":{\"id\":\"8d1c6b1c-d271-48fd-b4e5-9aed7d894166\",\"type\":\"UnionRenderers\"}},\"id\":\"f0a3fd17-3636-4728-a1f0-ca526ce13b68\",\"type\":\"ColumnDataSource\"},{\"attributes\":{\"data_source\":{\"id\":\"7c0958de-0fa7-4e82-af72-06dd97d8f365\",\"type\":\"ColumnDataSource\"},\"glyph\":{\"id\":\"1ff76692-27c1-4135-a63b-c3818cbfdda5\",\"type\":\"Quad\"},\"hover_glyph\":null,\"muted_glyph\":null,\"nonselection_glyph\":{\"id\":\"1d239204-7855-4957-8cfd-14a4b0bc47ef\",\"type\":\"Quad\"},\"selection_glyph\":null,\"view\":{\"id\":\"2b8cef9d-fd00-4b1e-a7b0-0c2bacb4d89c\",\"type\":\"CDSView\"}},\"id\":\"92d6746a-f912-40fd-b3ed-e37e9882d33c\",\"type\":\"GlyphRenderer\"},{\"attributes\":{\"data_source\":{\"id\":\"a7b60f73-f00c-44ac-aa2d-7646b79f7ec0\",\"type\":\"ColumnDataSource\"},\"glyph\":{\"id\":\"8609fd7d-82db-4989-8e00-58131780120d\",\"type\":\"Line\"},\"hover_glyph\":null,\"muted_glyph\":null,\"nonselection_glyph\":{\"id\":\"3278a824-c0c1-41d8-b0f0-4e7221fb9b15\",\"type\":\"Line\"},\"selection_glyph\":null,\"view\":{\"id\":\"94af06c5-33cc-4263-a55c-f4146913c928\",\"type\":\"CDSView\"}},\"id\":\"1ffd597f-cc9a-4987-8027-ee3b0f177a1a\",\"type\":\"GlyphRenderer\"},{\"attributes\":{\"data_source\":{\"id\":\"f0a3fd17-3636-4728-a1f0-ca526ce13b68\",\"type\":\"ColumnDataSource\"},\"glyph\":{\"id\":\"517fa280-4284-4c36-bc84-6a0ef738249c\",\"type\":\"Quad\"},\"hover_glyph\":null,\"muted_glyph\":null,\"nonselection_glyph\":{\"id\":\"ccb9e944-725d-408f-b22a-8cb5665397cd\",\"type\":\"Quad\"},\"selection_glyph\":null,\"view\":{\"id\":\"b4239d83-a685-4dd6-88c4-be58c16b132e\",\"type\":\"CDSView\"}},\"id\":\"4121ce4d-e010-4c2a-8a00-40258e841f6b\",\"type\":\"GlyphRenderer\"},{\"attributes\":{\"source\":{\"id\":\"7c0958de-0fa7-4e82-af72-06dd97d8f365\",\"type\":\"ColumnDataSource\"}},\"id\":\"2b8cef9d-fd00-4b1e-a7b0-0c2bacb4d89c\",\"type\":\"CDSView\"},{\"attributes\":{\"source\":{\"id\":\"dd63cd2f-d9e5-4044-b28b-b24bb951139e\",\"type\":\"ColumnDataSource\"}},\"id\":\"03fdf7e7-e510-4c43-9d70-f04e6c69fdff\",\"type\":\"CDSView\"},{\"attributes\":{\"source\":{\"id\":\"f0a3fd17-3636-4728-a1f0-ca526ce13b68\",\"type\":\"ColumnDataSource\"}},\"id\":\"b4239d83-a685-4dd6-88c4-be58c16b132e\",\"type\":\"CDSView\"},{\"attributes\":{\"x\":{\"field\":\"x\"},\"y\":{\"field\":\"y\"}},\"id\":\"b38be81c-c938-4c86-b54f-ee9a913c5e1d\",\"type\":\"Line\"},{\"attributes\":{\"callback\":null,\"data\":{\"x\":[7.4,7.6]},\"selected\":{\"id\":\"20e47bea-0a53-45ea-885f-7c56fba49a6c\",\"type\":\"Selection\"},\"selection_policy\":{\"id\":\"18c5d58b-7c28-4c88-88d6-80a68e4554e9\",\"type\":\"UnionRenderers\"}},\"id\":\"a7b60f73-f00c-44ac-aa2d-7646b79f7ec0\",\"type\":\"ColumnDataSource\"},{\"attributes\":{\"x\":{\"field\":\"x\"},\"y\":{\"field\":\"y\"}},\"id\":\"4724568d-d485-4ca5-b8f6-ec91b7d3e212\",\"type\":\"Line\"},{\"attributes\":{\"callback\":null,\"data\":{\"x\":[3.25,3.75],\"y\":[9.2,9.2]},\"selected\":{\"id\":\"078bb635-e72a-4e2a-9f1a-f7e1eefdc610\",\"type\":\"Selection\"},\"selection_policy\":{\"id\":\"baea0a81-1667-4f0c-9711-d7c860d94acf\",\"type\":\"UnionRenderers\"}},\"id\":\"a467f9de-3240-446e-b785-f9b367b973d7\",\"type\":\"ColumnDataSource\"},{\"attributes\":{\"fill_alpha\":{\"value\":0.1},\"fill_color\":{\"value\":\"#1f77b4\"},\"line_alpha\":{\"value\":0.1},\"line_color\":{\"value\":\"#1f77b4\"},\"x\":{\"field\":\"x\"},\"y\":{\"field\":\"y\"}},\"id\":\"f08e07d9-d21a-42fa-ad64-d6296401a38f\",\"type\":\"Circle\"},{\"attributes\":{\"callback\":null,\"data\":{\"x\":[9.25,9.75],\"y\":[9.2,9.2]},\"selected\":{\"id\":\"37d6ce41-49a2-4fbb-87cb-6a7c2d82810c\",\"type\":\"Selection\"},\"selection_policy\":{\"id\":\"6dfdccc2-db25-4fbc-bd27-e9e81659fece\",\"type\":\"UnionRenderers\"}},\"id\":\"2db1dd7e-d66a-4cb3-a86b-2d91c84e319a\",\"type\":\"ColumnDataSource\"},{\"attributes\":{\"data_source\":{\"id\":\"60c2b140-b0bc-448e-84c8-f07d6e409ac9\",\"type\":\"ColumnDataSource\"},\"glyph\":{\"id\":\"8c1e1ff0-8a95-4e38-8b82-ee6833befb0a\",\"type\":\"Circle\"},\"hover_glyph\":null,\"muted_glyph\":null,\"nonselection_glyph\":{\"id\":\"f08e07d9-d21a-42fa-ad64-d6296401a38f\",\"type\":\"Circle\"},\"selection_glyph\":null,\"view\":{\"id\":\"f194125c-c9d7-4b5d-87d4-0a4b63a67539\",\"type\":\"CDSView\"}},\"id\":\"a62f048e-7982-43f4-9343-868fa96195ad\",\"type\":\"GlyphRenderer\"},{\"attributes\":{\"line_alpha\":0.1,\"line_color\":\"#1f77b4\",\"x\":{\"field\":\"x\"},\"y\":{\"field\":\"y\"}},\"id\":\"f98a09f5-0c00-477a-98ba-852dae183439\",\"type\":\"Line\"},{\"attributes\":{\"line_alpha\":0.1,\"line_color\":\"#1f77b4\",\"x\":{\"field\":\"x\"},\"y\":{\"field\":\"y\"}},\"id\":\"b6f437cd-2d30-4eaa-a5c7-3738af4463c5\",\"type\":\"Line\"},{\"attributes\":{\"data_source\":{\"id\":\"a467f9de-3240-446e-b785-f9b367b973d7\",\"type\":\"ColumnDataSource\"},\"glyph\":{\"id\":\"b38be81c-c938-4c86-b54f-ee9a913c5e1d\",\"type\":\"Line\"},\"hover_glyph\":null,\"muted_glyph\":null,\"nonselection_glyph\":{\"id\":\"f98a09f5-0c00-477a-98ba-852dae183439\",\"type\":\"Line\"},\"selection_glyph\":null,\"view\":{\"id\":\"9032b21d-7896-4fa0-ac18-02df2aa956e0\",\"type\":\"CDSView\"}},\"id\":\"df93fede-a938-4816-bfea-640e096f3bb3\",\"type\":\"GlyphRenderer\"},{\"attributes\":{\"data_source\":{\"id\":\"2db1dd7e-d66a-4cb3-a86b-2d91c84e319a\",\"type\":\"ColumnDataSource\"},\"glyph\":{\"id\":\"4724568d-d485-4ca5-b8f6-ec91b7d3e212\",\"type\":\"Line\"},\"hover_glyph\":null,\"muted_glyph\":null,\"nonselection_glyph\":{\"id\":\"b6f437cd-2d30-4eaa-a5c7-3738af4463c5\",\"type\":\"Line\"},\"selection_glyph\":null,\"view\":{\"id\":\"7d0cd5ca-1ba5-4076-adcd-902cb7456c48\",\"type\":\"CDSView\"}},\"id\":\"01c6c305-0f36-4f4f-b4e6-60c6dee2e7ac\",\"type\":\"GlyphRenderer\"},{\"attributes\":{\"source\":{\"id\":\"60c2b140-b0bc-448e-84c8-f07d6e409ac9\",\"type\":\"ColumnDataSource\"}},\"id\":\"f194125c-c9d7-4b5d-87d4-0a4b63a67539\",\"type\":\"CDSView\"},{\"attributes\":{\"source\":{\"id\":\"a467f9de-3240-446e-b785-f9b367b973d7\",\"type\":\"ColumnDataSource\"}},\"id\":\"9032b21d-7896-4fa0-ac18-02df2aa956e0\",\"type\":\"CDSView\"},{\"attributes\":{\"source\":{\"id\":\"a7b60f73-f00c-44ac-aa2d-7646b79f7ec0\",\"type\":\"ColumnDataSource\"}},\"id\":\"94af06c5-33cc-4263-a55c-f4146913c928\",\"type\":\"CDSView\"},{\"attributes\":{\"source\":{\"id\":\"2db1dd7e-d66a-4cb3-a86b-2d91c84e319a\",\"type\":\"ColumnDataSource\"}},\"id\":\"7d0cd5ca-1ba5-4076-adcd-902cb7456c48\",\"type\":\"CDSView\"},{\"attributes\":{\"x\":{\"field\":\"x\"},\"y\":{\"field\":\"y\"}},\"id\":\"b24628b5-2c74-4ba7-b50d-961472a55234\",\"type\":\"Line\"},{\"attributes\":{\"callback\":null,\"data\":{\"x\":[7.5,7.5,7.5,7.5,7.5,7.5,7.5,7.5],\"y\":{\"__ndarray__\":\"FK5H4XoUH0DD9Shcj8IfQNejcD0K1x9AAAAAAAAAIECF61G4HgUgQArXo3A9iiRArkfhehSuJEApXI/C9agmQA==\",\"dtype\":\"float64\",\"shape\":[8]}},\"selected\":{\"id\":\"4bc7d753-6117-4616-abe6-dd2f630ee8c9\",\"type\":\"Selection\"},\"selection_policy\":{\"id\":\"6774fb96-21f0-4158-b14f-d8f269fea2c2\",\"type\":\"UnionRenderers\"}},\"id\":\"60c2b140-b0bc-448e-84c8-f07d6e409ac9\",\"type\":\"ColumnDataSource\"},{\"attributes\":{\"x\":{\"field\":\"x\"},\"y\":{\"field\":\"y\"}},\"id\":\"b872ae9e-9b0c-4138-9f36-a1d72958ed19\",\"type\":\"Line\"},{\"attributes\":{\"callback\":null,\"data\":{\"x\":[3.5,3.5],\"y\":[8.8,7.300000000000001]},\"selected\":{\"id\":\"dfba92d0-ed4c-4e96-aca8-745e87a9cb32\",\"type\":\"Selection\"},\"selection_policy\":{\"id\":\"1abe3679-1814-433a-89e7-bf1c86c6ba2b\",\"type\":\"UnionRenderers\"}},\"id\":\"fffcedf8-bd26-4979-938b-10249266ba59\",\"type\":\"ColumnDataSource\"},{\"attributes\":{\"callback\":null,\"data\":{\"x\":[9.5,9.5],\"y\":[8.8,7.7]},\"selected\":{\"id\":\"c0dfbc7e-f3fc-422d-8900-ff20c573d8d2\",\"type\":\"Selection\"},\"selection_policy\":{\"id\":\"9ae49e94-baf2-40f6-a082-5377cbd1ea21\",\"type\":\"UnionRenderers\"}},\"id\":\"a3818186-b7bd-4ff6-833a-a80f8cbdb2a0\",\"type\":\"ColumnDataSource\"},{\"attributes\":{\"line_alpha\":0.1,\"line_color\":\"#1f77b4\",\"x\":{\"field\":\"x\"},\"y\":{\"field\":\"y\"}},\"id\":\"5db2c998-b850-4d3d-98bd-c9dbddad7db3\",\"type\":\"Line\"},{\"attributes\":{\"line_alpha\":0.1,\"line_color\":\"#1f77b4\",\"x\":{\"field\":\"x\"},\"y\":{\"field\":\"y\"}},\"id\":\"a1572c67-821e-4512-85ab-b6959ae0a604\",\"type\":\"Line\"},{\"attributes\":{\"data_source\":{\"id\":\"fffcedf8-bd26-4979-938b-10249266ba59\",\"type\":\"ColumnDataSource\"},\"glyph\":{\"id\":\"b24628b5-2c74-4ba7-b50d-961472a55234\",\"type\":\"Line\"},\"hover_glyph\":null,\"muted_glyph\":null,\"nonselection_glyph\":{\"id\":\"5db2c998-b850-4d3d-98bd-c9dbddad7db3\",\"type\":\"Line\"},\"selection_glyph\":null,\"view\":{\"id\":\"9242e07f-c499-44bc-94df-fa5e746e3364\",\"type\":\"CDSView\"}},\"id\":\"ef2560f4-079e-43fe-a380-4039810aedc2\",\"type\":\"GlyphRenderer\"},{\"attributes\":{\"data_source\":{\"id\":\"a3818186-b7bd-4ff6-833a-a80f8cbdb2a0\",\"type\":\"ColumnDataSource\"},\"glyph\":{\"id\":\"b872ae9e-9b0c-4138-9f36-a1d72958ed19\",\"type\":\"Line\"},\"hover_glyph\":null,\"muted_glyph\":null,\"nonselection_glyph\":{\"id\":\"a1572c67-821e-4512-85ab-b6959ae0a604\",\"type\":\"Line\"},\"selection_glyph\":null,\"view\":{\"id\":\"adfb2185-5e2b-4f82-8adb-507ea57bf7d3\",\"type\":\"CDSView\"}},\"id\":\"9f56358f-5ea4-4451-b306-edf55455fe38\",\"type\":\"GlyphRenderer\"},{\"attributes\":{\"source\":{\"id\":\"fffcedf8-bd26-4979-938b-10249266ba59\",\"type\":\"ColumnDataSource\"}},\"id\":\"9242e07f-c499-44bc-94df-fa5e746e3364\",\"type\":\"CDSView\"},{\"attributes\":{\"source\":{\"id\":\"a3818186-b7bd-4ff6-833a-a80f8cbdb2a0\",\"type\":\"ColumnDataSource\"}},\"id\":\"adfb2185-5e2b-4f82-8adb-507ea57bf7d3\",\"type\":\"CDSView\"},{\"attributes\":{\"x\":{\"field\":\"x\"},\"y\":{\"field\":\"y\"}},\"id\":\"1ea5953a-ea0f-4cd0-963b-93cab7f5951d\",\"type\":\"Line\"},{\"attributes\":{\"x\":{\"field\":\"x\"},\"y\":{\"field\":\"y\"}},\"id\":\"5b596876-8b44-4c69-b621-5e178990d1e8\",\"type\":\"Line\"},{\"attributes\":{\"callback\":null,\"data\":{\"x\":[3.5,3.5],\"y\":[9.8,11.3]},\"selected\":{\"id\":\"d11fee45-6b84-44b4-8656-aee9350e6c45\",\"type\":\"Selection\"},\"selection_policy\":{\"id\":\"a59b9736-5da4-4b89-ad5d-b1456e642a1b\",\"type\":\"UnionRenderers\"}},\"id\":\"9dc1818b-cb94-4068-ad5c-e8b32ada4114\",\"type\":\"ColumnDataSource\"},{\"attributes\":{\"callback\":null,\"data\":{\"x\":[9.5,9.5],\"y\":[9.6,10.799999999999997]},\"selected\":{\"id\":\"cc8fa506-d01d-46e4-9074-52dabad9a9a2\",\"type\":\"Selection\"},\"selection_policy\":{\"id\":\"ab8bc63e-9b46-4d28-807c-2e0d2078a145\",\"type\":\"UnionRenderers\"}},\"id\":\"41897ae9-c266-4530-9d72-c2c1b08d2021\",\"type\":\"ColumnDataSource\"},{\"attributes\":{\"line_alpha\":0.1,\"line_color\":\"#1f77b4\",\"x\":{\"field\":\"x\"},\"y\":{\"field\":\"y\"}},\"id\":\"d72abdcb-cb78-4f88-81b1-39882ad45519\",\"type\":\"Line\"},{\"attributes\":{\"line_alpha\":0.1,\"line_color\":\"#1f77b4\",\"x\":{\"field\":\"x\"},\"y\":{\"field\":\"y\"}},\"id\":\"d86ecaa2-2bc8-484e-8c68-8b98eb195d92\",\"type\":\"Line\"},{\"attributes\":{\"data_source\":{\"id\":\"9dc1818b-cb94-4068-ad5c-e8b32ada4114\",\"type\":\"ColumnDataSource\"},\"glyph\":{\"id\":\"1ea5953a-ea0f-4cd0-963b-93cab7f5951d\",\"type\":\"Line\"},\"hover_glyph\":null,\"muted_glyph\":null,\"nonselection_glyph\":{\"id\":\"d72abdcb-cb78-4f88-81b1-39882ad45519\",\"type\":\"Line\"},\"selection_glyph\":null,\"view\":{\"id\":\"bbe8d7c6-1425-4eaf-851c-975d1abfd1b3\",\"type\":\"CDSView\"}},\"id\":\"b2bc910b-47f3-45bc-a9e3-d7e65645f2d5\",\"type\":\"GlyphRenderer\"},{\"attributes\":{\"data_source\":{\"id\":\"41897ae9-c266-4530-9d72-c2c1b08d2021\",\"type\":\"ColumnDataSource\"},\"glyph\":{\"id\":\"5b596876-8b44-4c69-b621-5e178990d1e8\",\"type\":\"Line\"},\"hover_glyph\":null,\"muted_glyph\":null,\"nonselection_glyph\":{\"id\":\"d86ecaa2-2bc8-484e-8c68-8b98eb195d92\",\"type\":\"Line\"},\"selection_glyph\":null,\"view\":{\"id\":\"bf56611c-28ee-42c5-a63d-4d09ca2dc152\",\"type\":\"CDSView\"}},\"id\":\"187f46b0-7364-4213-bd86-87e9a41f0c74\",\"type\":\"GlyphRenderer\"},{\"attributes\":{\"source\":{\"id\":\"9dc1818b-cb94-4068-ad5c-e8b32ada4114\",\"type\":\"ColumnDataSource\"}},\"id\":\"bbe8d7c6-1425-4eaf-851c-975d1abfd1b3\",\"type\":\"CDSView\"},{\"attributes\":{\"source\":{\"id\":\"41897ae9-c266-4530-9d72-c2c1b08d2021\",\"type\":\"ColumnDataSource\"}},\"id\":\"bf56611c-28ee-42c5-a63d-4d09ca2dc152\",\"type\":\"CDSView\"},{\"attributes\":{\"x\":{\"field\":\"x\"},\"y\":{\"value\":7.300000000000001}},\"id\":\"20736628-0596-42d0-83f7-9f0aa4248c45\",\"type\":\"Line\"},{\"attributes\":{\"x\":{\"field\":\"x\"},\"y\":{\"value\":7.7}},\"id\":\"999e4a30-2444-43e6-b7e7-55529629f1bf\",\"type\":\"Line\"},{\"attributes\":{\"callback\":null,\"data\":{\"x\":[3.4,3.6]},\"selected\":{\"id\":\"59445b54-4f31-448b-9959-c62548f0fa38\",\"type\":\"Selection\"},\"selection_policy\":{\"id\":\"c7539b97-2e51-4a4a-a3ca-9bd874e714f0\",\"type\":\"UnionRenderers\"}},\"id\":\"c4867203-bf38-496d-aa97-5b33d699bc54\",\"type\":\"ColumnDataSource\"},{\"attributes\":{\"callback\":null,\"data\":{\"x\":[9.4,9.6]},\"selected\":{\"id\":\"f16290f9-995f-4b9c-82a6-2194b0da8925\",\"type\":\"Selection\"},\"selection_policy\":{\"id\":\"930ea187-f5f2-44d8-a89f-a2d8504c4c88\",\"type\":\"UnionRenderers\"}},\"id\":\"29420e42-8bc8-4c0b-b7b6-55dea0b39fa1\",\"type\":\"ColumnDataSource\"},{\"attributes\":{\"line_alpha\":0.1,\"line_color\":\"#1f77b4\",\"x\":{\"field\":\"x\"},\"y\":{\"value\":7.300000000000001}},\"id\":\"3325b852-dc9c-42ec-a9a3-2c577a89bf1c\",\"type\":\"Line\"},{\"attributes\":{\"line_alpha\":0.1,\"line_color\":\"#1f77b4\",\"x\":{\"field\":\"x\"},\"y\":{\"value\":7.7}},\"id\":\"b99416e8-14ba-44c5-a159-1ac6901f3683\",\"type\":\"Line\"},{\"attributes\":{\"x\":{\"field\":\"x\"},\"y\":{\"value\":11.3}},\"id\":\"9e54c625-f354-4ddb-9b20-39456205face\",\"type\":\"Line\"},{\"attributes\":{\"source\":{\"id\":\"9f3353dc-af15-45b5-a2d7-53dda30b7782\",\"type\":\"ColumnDataSource\"}},\"id\":\"8244c84d-9537-4175-8fe2-4cc880192b1b\",\"type\":\"CDSView\"},{\"attributes\":{\"x\":{\"field\":\"x\"},\"y\":{\"value\":10.799999999999997}},\"id\":\"f61ba578-2514-4e28-a2db-faf2f7cc4b2f\",\"type\":\"Line\"},{\"attributes\":{\"data_source\":{\"id\":\"c4867203-bf38-496d-aa97-5b33d699bc54\",\"type\":\"ColumnDataSource\"},\"glyph\":{\"id\":\"20736628-0596-42d0-83f7-9f0aa4248c45\",\"type\":\"Line\"},\"hover_glyph\":null,\"muted_glyph\":null,\"nonselection_glyph\":{\"id\":\"3325b852-dc9c-42ec-a9a3-2c577a89bf1c\",\"type\":\"Line\"},\"selection_glyph\":null,\"view\":{\"id\":\"2a84bf8f-2c9e-42a1-a2f6-3873dc7f19fa\",\"type\":\"CDSView\"}},\"id\":\"a0ffa5a8-ab15-43d0-bbe5-ec951c073fa9\",\"type\":\"GlyphRenderer\"},{\"attributes\":{\"data_source\":{\"id\":\"29420e42-8bc8-4c0b-b7b6-55dea0b39fa1\",\"type\":\"ColumnDataSource\"},\"glyph\":{\"id\":\"999e4a30-2444-43e6-b7e7-55529629f1bf\",\"type\":\"Line\"},\"hover_glyph\":null,\"muted_glyph\":null,\"nonselection_glyph\":{\"id\":\"b99416e8-14ba-44c5-a159-1ac6901f3683\",\"type\":\"Line\"},\"selection_glyph\":null,\"view\":{\"id\":\"3917d58b-1482-457c-b186-295f8af8bd58\",\"type\":\"CDSView\"}},\"id\":\"ac6fa6af-7a5d-4ca6-aff3-7e81c345acaf\",\"type\":\"GlyphRenderer\"},{\"attributes\":{\"bottom\":{\"value\":8.7575},\"fill_color\":{\"value\":\"#bcbd22\"},\"left\":{\"value\":8.25},\"right\":{\"value\":8.75},\"top\":{\"value\":9.3725}},\"id\":\"867a0c99-8593-4095-bcc9-7d5af92e14da\",\"type\":\"Quad\"},{\"attributes\":{\"line_alpha\":0.1,\"line_color\":\"#1f77b4\",\"x\":{\"field\":\"x\"},\"y\":{\"value\":11.3}},\"id\":\"345ec85b-55ee-4bc2-a128-62147e49ee19\",\"type\":\"Line\"},{\"attributes\":{\"bottom\":{\"value\":8.7575},\"fill_alpha\":{\"value\":0.1},\"fill_color\":{\"value\":\"#1f77b4\"},\"left\":{\"value\":8.25},\"line_alpha\":{\"value\":0.1},\"line_color\":{\"value\":\"#1f77b4\"},\"right\":{\"value\":8.75},\"top\":{\"value\":9.3725}},\"id\":\"e19aab99-f9bf-4a33-8c4e-ac052287f6bb\",\"type\":\"Quad\"},{\"attributes\":{\"line_alpha\":0.1,\"line_color\":\"#1f77b4\",\"x\":{\"field\":\"x\"},\"y\":{\"value\":10.799999999999997}},\"id\":\"b0ecf1f8-3d1c-4415-883b-7516e9d2fc2b\",\"type\":\"Line\"},{\"attributes\":{\"fill_color\":{\"value\":\"black\"},\"x\":{\"field\":\"x\"},\"y\":{\"field\":\"y\"}},\"id\":\"5be37db1-6c07-486c-a097-cc800434f6db\",\"type\":\"Circle\"},{\"attributes\":{\"callback\":null,\"data\":{},\"selected\":{\"id\":\"ae1388e6-49f4-41a6-b49d-3bc31b640bdf\",\"type\":\"Selection\"},\"selection_policy\":{\"id\":\"7432d192-3c12-4a09-86cb-296b84c111ec\",\"type\":\"UnionRenderers\"}},\"id\":\"7a8b0d0d-6221-482e-8bdd-0b5cddd37b30\",\"type\":\"ColumnDataSource\"},{\"attributes\":{\"fill_color\":{\"value\":\"black\"},\"x\":{\"field\":\"x\"},\"y\":{\"field\":\"y\"}},\"id\":\"0a146019-5be7-47d7-b253-933667474775\",\"type\":\"Circle\"},{\"attributes\":{\"data_source\":{\"id\":\"69d60863-ea32-49f5-b83d-e9405c8479f2\",\"type\":\"ColumnDataSource\"},\"glyph\":{\"id\":\"9e54c625-f354-4ddb-9b20-39456205face\",\"type\":\"Line\"},\"hover_glyph\":null,\"muted_glyph\":null,\"nonselection_glyph\":{\"id\":\"345ec85b-55ee-4bc2-a128-62147e49ee19\",\"type\":\"Line\"},\"selection_glyph\":null,\"view\":{\"id\":\"ade74434-4901-4e54-ab1b-359d596a2fed\",\"type\":\"CDSView\"}},\"id\":\"60df31e7-78f1-4afb-94d3-6b56493d6d7e\",\"type\":\"GlyphRenderer\"},{\"attributes\":{\"data_source\":{\"id\":\"7a8b0d0d-6221-482e-8bdd-0b5cddd37b30\",\"type\":\"ColumnDataSource\"},\"glyph\":{\"id\":\"867a0c99-8593-4095-bcc9-7d5af92e14da\",\"type\":\"Quad\"},\"hover_glyph\":null,\"muted_glyph\":null,\"nonselection_glyph\":{\"id\":\"e19aab99-f9bf-4a33-8c4e-ac052287f6bb\",\"type\":\"Quad\"},\"selection_glyph\":null,\"view\":{\"id\":\"07dbfc5d-a9e2-44bc-bcb5-e8171e3a98dc\",\"type\":\"CDSView\"}},\"id\":\"80ad2f46-c617-492a-bf5b-716025ab433f\",\"type\":\"GlyphRenderer\"},{\"attributes\":{\"data_source\":{\"id\":\"993b7c68-34bf-4dfb-895a-26c3d43a9731\",\"type\":\"ColumnDataSource\"},\"glyph\":{\"id\":\"f61ba578-2514-4e28-a2db-faf2f7cc4b2f\",\"type\":\"Line\"},\"hover_glyph\":null,\"muted_glyph\":null,\"nonselection_glyph\":{\"id\":\"b0ecf1f8-3d1c-4415-883b-7516e9d2fc2b\",\"type\":\"Line\"},\"selection_glyph\":null,\"view\":{\"id\":\"911b4ddf-376b-4852-a8ea-42caea2a68fc\",\"type\":\"CDSView\"}},\"id\":\"6cfbf418-4350-4bdb-b0eb-f777704f8ff6\",\"type\":\"GlyphRenderer\"},{\"attributes\":{\"source\":{\"id\":\"c4867203-bf38-496d-aa97-5b33d699bc54\",\"type\":\"ColumnDataSource\"}},\"id\":\"2a84bf8f-2c9e-42a1-a2f6-3873dc7f19fa\",\"type\":\"CDSView\"},{\"attributes\":{\"source\":{\"id\":\"7a8b0d0d-6221-482e-8bdd-0b5cddd37b30\",\"type\":\"ColumnDataSource\"}},\"id\":\"07dbfc5d-a9e2-44bc-bcb5-e8171e3a98dc\",\"type\":\"CDSView\"},{\"attributes\":{\"source\":{\"id\":\"29420e42-8bc8-4c0b-b7b6-55dea0b39fa1\",\"type\":\"ColumnDataSource\"}},\"id\":\"3917d58b-1482-457c-b186-295f8af8bd58\",\"type\":\"CDSView\"},{\"attributes\":{\"callback\":null,\"data\":{\"x\":[3.4,3.6]},\"selected\":{\"id\":\"677930e0-f943-4a0d-9cf4-ff851902d4e3\",\"type\":\"Selection\"},\"selection_policy\":{\"id\":\"41833433-64fb-44f7-a7f7-4f299c9eae04\",\"type\":\"UnionRenderers\"}},\"id\":\"69d60863-ea32-49f5-b83d-e9405c8479f2\",\"type\":\"ColumnDataSource\"},{\"attributes\":{\"x\":{\"field\":\"x\"},\"y\":{\"field\":\"y\"}},\"id\":\"a56a6bf7-decc-477e-a034-f952f2e2843a\",\"type\":\"Line\"},{\"attributes\":{\"callback\":null,\"data\":{\"x\":[9.4,9.6]},\"selected\":{\"id\":\"ad654e69-e843-4942-9cac-befe93ab5969\",\"type\":\"Selection\"},\"selection_policy\":{\"id\":\"6623cb3e-3e32-4c98-8936-2ea0aedeb6eb\",\"type\":\"UnionRenderers\"}},\"id\":\"993b7c68-34bf-4dfb-895a-26c3d43a9731\",\"type\":\"ColumnDataSource\"},{\"attributes\":{\"fill_alpha\":{\"value\":0.1},\"fill_color\":{\"value\":\"#1f77b4\"},\"line_alpha\":{\"value\":0.1},\"line_color\":{\"value\":\"#1f77b4\"},\"x\":{\"field\":\"x\"},\"y\":{\"field\":\"y\"}},\"id\":\"dba854e7-1d8c-4002-afce-ee04fb71fe6c\",\"type\":\"Circle\"},{\"attributes\":{\"callback\":null,\"data\":{\"x\":[8.25,8.75],\"y\":[9.015,9.015]},\"selected\":{\"id\":\"17ff77f5-8aaa-4c6e-9cc5-574258a1fd9c\",\"type\":\"Selection\"},\"selection_policy\":{\"id\":\"48f50034-390b-45c8-8853-873b54850d09\",\"type\":\"UnionRenderers\"}},\"id\":\"2d9950da-d612-4cc8-825e-fa685929d67c\",\"type\":\"ColumnDataSource\"},{\"attributes\":{\"fill_alpha\":{\"value\":0.1},\"fill_color\":{\"value\":\"#1f77b4\"},\"line_alpha\":{\"value\":0.1},\"line_color\":{\"value\":\"#1f77b4\"},\"x\":{\"field\":\"x\"},\"y\":{\"field\":\"y\"}},\"id\":\"6436cf60-3d7b-4585-9124-dff44f5ee6b0\",\"type\":\"Circle\"},{\"attributes\":{\"data_source\":{\"id\":\"b2e8bd96-ba1a-44fa-8107-7bd8c1c10010\",\"type\":\"ColumnDataSource\"},\"glyph\":{\"id\":\"5be37db1-6c07-486c-a097-cc800434f6db\",\"type\":\"Circle\"},\"hover_glyph\":null,\"muted_glyph\":null,\"nonselection_glyph\":{\"id\":\"dba854e7-1d8c-4002-afce-ee04fb71fe6c\",\"type\":\"Circle\"},\"selection_glyph\":null,\"view\":{\"id\":\"d8dde3f7-53d9-4c1c-9b23-698ee9f98290\",\"type\":\"CDSView\"}},\"id\":\"b0d71381-8756-4b85-9c14-ef9e89e8e57f\",\"type\":\"GlyphRenderer\"},{\"attributes\":{\"data_source\":{\"id\":\"74b2bb41-20bb-42f3-80de-2f3ed0fc1a02\",\"type\":\"ColumnDataSource\"},\"glyph\":{\"id\":\"0a146019-5be7-47d7-b253-933667474775\",\"type\":\"Circle\"},\"hover_glyph\":null,\"muted_glyph\":null,\"nonselection_glyph\":{\"id\":\"6436cf60-3d7b-4585-9124-dff44f5ee6b0\",\"type\":\"Circle\"},\"selection_glyph\":null,\"view\":{\"id\":\"4bf31953-b562-42fa-85db-fabdc32824cc\",\"type\":\"CDSView\"}},\"id\":\"874c98f6-35ca-4e36-bf4e-3939725f5793\",\"type\":\"GlyphRenderer\"},{\"attributes\":{\"line_alpha\":0.1,\"line_color\":\"#1f77b4\",\"x\":{\"field\":\"x\"},\"y\":{\"field\":\"y\"}},\"id\":\"c29b45c5-4016-4764-b0ad-3d4e90d90323\",\"type\":\"Line\"},{\"attributes\":{\"data_source\":{\"id\":\"2d9950da-d612-4cc8-825e-fa685929d67c\",\"type\":\"ColumnDataSource\"},\"glyph\":{\"id\":\"a56a6bf7-decc-477e-a034-f952f2e2843a\",\"type\":\"Line\"},\"hover_glyph\":null,\"muted_glyph\":null,\"nonselection_glyph\":{\"id\":\"c29b45c5-4016-4764-b0ad-3d4e90d90323\",\"type\":\"Line\"},\"selection_glyph\":null,\"view\":{\"id\":\"d4582495-771f-49f5-9ab4-3de2e1bf940d\",\"type\":\"CDSView\"}},\"id\":\"9a87340f-612e-4559-b7ff-580a90fd3afc\",\"type\":\"GlyphRenderer\"},{\"attributes\":{\"source\":{\"id\":\"b2e8bd96-ba1a-44fa-8107-7bd8c1c10010\",\"type\":\"ColumnDataSource\"}},\"id\":\"d8dde3f7-53d9-4c1c-9b23-698ee9f98290\",\"type\":\"CDSView\"},{\"attributes\":{\"source\":{\"id\":\"74b2bb41-20bb-42f3-80de-2f3ed0fc1a02\",\"type\":\"ColumnDataSource\"}},\"id\":\"4bf31953-b562-42fa-85db-fabdc32824cc\",\"type\":\"CDSView\"},{\"attributes\":{\"source\":{\"id\":\"69d60863-ea32-49f5-b83d-e9405c8479f2\",\"type\":\"ColumnDataSource\"}},\"id\":\"ade74434-4901-4e54-ab1b-359d596a2fed\",\"type\":\"CDSView\"},{\"attributes\":{\"source\":{\"id\":\"2d9950da-d612-4cc8-825e-fa685929d67c\",\"type\":\"ColumnDataSource\"}},\"id\":\"d4582495-771f-49f5-9ab4-3de2e1bf940d\",\"type\":\"CDSView\"},{\"attributes\":{\"source\":{\"id\":\"993b7c68-34bf-4dfb-895a-26c3d43a9731\",\"type\":\"ColumnDataSource\"}},\"id\":\"911b4ddf-376b-4852-a8ea-42caea2a68fc\",\"type\":\"CDSView\"},{\"attributes\":{\"callback\":null,\"data\":{\"x\":[3.5,3.5,3.5,3.5,3.5],\"y\":{\"__ndarray__\":\"PQrXo3C9KEDD9Shcj8ImQAAAAAAAABxAMzMzMzMzHUCamZmZmZkbQA==\",\"dtype\":\"float64\",\"shape\":[5]}},\"selected\":{\"id\":\"8ebdff7c-5ad0-4626-8f3d-50bdb44a6862\",\"type\":\"Selection\"},\"selection_policy\":{\"id\":\"70bf93cd-6e23-496c-967c-41fd938cb109\",\"type\":\"UnionRenderers\"}},\"id\":\"b2e8bd96-ba1a-44fa-8107-7bd8c1c10010\",\"type\":\"ColumnDataSource\"},{\"attributes\":{\"x\":{\"field\":\"x\"},\"y\":{\"field\":\"y\"}},\"id\":\"54475fbe-b8e4-49d8-92ee-fb2c845f7951\",\"type\":\"Line\"},{\"attributes\":{\"callback\":null,\"data\":{\"x\":[9.5,9.5],\"y\":{\"__ndarray__\":\"AAAAAAAAJkCamZmZmZklQA==\",\"dtype\":\"float64\",\"shape\":[2]}},\"selected\":{\"id\":\"99bdd92b-12d8-4fe7-a483-051ed17ddd78\",\"type\":\"Selection\"},\"selection_policy\":{\"id\":\"cd86a619-4ac8-4b6c-a1bb-d297419b6f18\",\"type\":\"UnionRenderers\"}},\"id\":\"74b2bb41-20bb-42f3-80de-2f3ed0fc1a02\",\"type\":\"ColumnDataSource\"},{\"attributes\":{\"ticks\":[0.5,1.5,2.5,3.5,4.5,5.5,6.5,7.5,8.5,9.5]},\"id\":\"0b6b6ea0-6ef9-4e78-8726-3eb1fce1f825\",\"type\":\"FixedTicker\"},{\"attributes\":{\"callback\":null,\"data\":{\"x\":[8.5,8.5],\"y\":[8.7575,7.835]},\"selected\":{\"id\":\"8dba2971-aec4-4258-8d48-e2e80b217bc9\",\"type\":\"Selection\"},\"selection_policy\":{\"id\":\"5981f13c-c1f8-4849-b5f7-2a060fc3498d\",\"type\":\"UnionRenderers\"}},\"id\":\"d066677e-c111-4916-b6ab-d1eef85199cd\",\"type\":\"ColumnDataSource\"},{\"attributes\":{\"line_alpha\":0.1,\"line_color\":\"#1f77b4\",\"x\":{\"field\":\"x\"},\"y\":{\"field\":\"y\"}},\"id\":\"bdeef50b-0a1e-43fc-8eb5-d43503026ea7\",\"type\":\"Line\"},{\"attributes\":{},\"id\":\"98a1581a-3126-4e61-bc19-df35a53b502f\",\"type\":\"Selection\"},{\"attributes\":{\"data_source\":{\"id\":\"d066677e-c111-4916-b6ab-d1eef85199cd\",\"type\":\"ColumnDataSource\"},\"glyph\":{\"id\":\"54475fbe-b8e4-49d8-92ee-fb2c845f7951\",\"type\":\"Line\"},\"hover_glyph\":null,\"muted_glyph\":null,\"nonselection_glyph\":{\"id\":\"bdeef50b-0a1e-43fc-8eb5-d43503026ea7\",\"type\":\"Line\"},\"selection_glyph\":null,\"view\":{\"id\":\"c1e6199a-0bdc-460f-a4f8-6677c32aba50\",\"type\":\"CDSView\"}},\"id\":\"41593ed2-14f1-4cb2-8173-2f7bd4cae3b9\",\"type\":\"GlyphRenderer\"},{\"attributes\":{},\"id\":\"5710dcf8-e5a6-464b-b187-8de175cbec9a\",\"type\":\"Selection\"},{\"attributes\":{\"source\":{\"id\":\"d066677e-c111-4916-b6ab-d1eef85199cd\",\"type\":\"ColumnDataSource\"}},\"id\":\"c1e6199a-0bdc-460f-a4f8-6677c32aba50\",\"type\":\"CDSView\"},{\"attributes\":{},\"id\":\"e4cb052b-3dfc-4a9d-97dd-e8581a30fabd\",\"type\":\"UnionRenderers\"},{\"attributes\":{\"x\":{\"field\":\"x\"},\"y\":{\"field\":\"y\"}},\"id\":\"f5bc4df6-f5e0-4470-a519-d442a40aee00\",\"type\":\"Line\"},{\"attributes\":{},\"id\":\"1006e88a-50ad-41db-ba4e-d985ee93a0f5\",\"type\":\"Selection\"},{\"attributes\":{\"callback\":null,\"data\":{\"x\":[8.5,8.5],\"y\":[9.3725,10.295000000000002]},\"selected\":{\"id\":\"ec5fe729-d233-4deb-a6d7-07413be13d3f\",\"type\":\"Selection\"},\"selection_policy\":{\"id\":\"4c9ea9f3-50c6-4200-9a31-f4a917e9605c\",\"type\":\"UnionRenderers\"}},\"id\":\"df0e4191-f8ac-4a63-9e1b-a224b7323cd7\",\"type\":\"ColumnDataSource\"},{\"attributes\":{},\"id\":\"31b9ab9e-2dc5-4b02-b0f2-f8db371aba14\",\"type\":\"UnionRenderers\"},{\"attributes\":{\"line_alpha\":0.1,\"line_color\":\"#1f77b4\",\"x\":{\"field\":\"x\"},\"y\":{\"field\":\"y\"}},\"id\":\"2f35fbe0-79dc-4fee-a506-404aaff26911\",\"type\":\"Line\"},{\"attributes\":{},\"id\":\"cb5c0b10-4776-4447-91e3-b5bc1756ef60\",\"type\":\"UnionRenderers\"},{\"attributes\":{\"data_source\":{\"id\":\"df0e4191-f8ac-4a63-9e1b-a224b7323cd7\",\"type\":\"ColumnDataSource\"},\"glyph\":{\"id\":\"f5bc4df6-f5e0-4470-a519-d442a40aee00\",\"type\":\"Line\"},\"hover_glyph\":null,\"muted_glyph\":null,\"nonselection_glyph\":{\"id\":\"2f35fbe0-79dc-4fee-a506-404aaff26911\",\"type\":\"Line\"},\"selection_glyph\":null,\"view\":{\"id\":\"bf9766fd-65ee-4f8e-bf12-980de4fb5043\",\"type\":\"CDSView\"}},\"id\":\"b2ca953e-ed18-459c-81ce-0b7d2f3af708\",\"type\":\"GlyphRenderer\"},{\"attributes\":{},\"id\":\"d44b2bd1-a361-4ef2-871e-af9470514c93\",\"type\":\"Selection\"},{\"attributes\":{\"source\":{\"id\":\"df0e4191-f8ac-4a63-9e1b-a224b7323cd7\",\"type\":\"ColumnDataSource\"}},\"id\":\"bf9766fd-65ee-4f8e-bf12-980de4fb5043\",\"type\":\"CDSView\"},{\"attributes\":{},\"id\":\"3c3d0ecd-363d-4592-bc23-4010f7237b22\",\"type\":\"UnionRenderers\"},{\"attributes\":{\"x\":{\"field\":\"x\"},\"y\":{\"value\":7.835}},\"id\":\"0d76c5f7-de07-4ead-9e1f-37ec2ce368e1\",\"type\":\"Line\"},{\"attributes\":{},\"id\":\"7248b231-55b0-4e19-a477-484a5deb9b40\",\"type\":\"Selection\"},{\"attributes\":{\"callback\":null,\"data\":{\"x\":[4.25,4.75],\"y\":[8.5,8.5]},\"selected\":{\"id\":\"d6ad26c5-bd27-460d-9c56-0785fc2b1cbd\",\"type\":\"Selection\"},\"selection_policy\":{\"id\":\"7282403b-a046-47d7-bf88-8a30ea5f10c5\",\"type\":\"UnionRenderers\"}},\"id\":\"4a646065-7a80-4d1f-892c-8c6dc27aabcc\",\"type\":\"ColumnDataSource\"},{\"attributes\":{\"callback\":null,\"data\":{\"x\":[8.4,8.6]},\"selected\":{\"id\":\"5cb939a7-a09f-4759-815e-891e35b1364e\",\"type\":\"Selection\"},\"selection_policy\":{\"id\":\"a6c60cee-cc06-4796-aa80-aeb87588d65f\",\"type\":\"UnionRenderers\"}},\"id\":\"a2b27274-c3ed-4608-9447-f2a86f0a3b9a\",\"type\":\"ColumnDataSource\"},{\"attributes\":{},\"id\":\"71fbb436-ae16-4a6b-a368-8d11291b594f\",\"type\":\"UnionRenderers\"},{\"attributes\":{\"line_alpha\":0.1,\"line_color\":\"#1f77b4\",\"x\":{\"field\":\"x\"},\"y\":{\"value\":7.835}},\"id\":\"8964b3a6-26d6-4b51-9427-1e75e5faba04\",\"type\":\"Line\"},{\"attributes\":{},\"id\":\"40a18045-d091-4a69-a8b5-3a00b0dbfb07\",\"type\":\"Selection\"},{\"attributes\":{\"x\":{\"field\":\"x\"},\"y\":{\"value\":10.295000000000002}},\"id\":\"cb6a2447-daa2-40ee-b8c5-cd3146e858c2\",\"type\":\"Line\"},{\"attributes\":{},\"id\":\"baea0a81-1667-4f0c-9711-d7c860d94acf\",\"type\":\"UnionRenderers\"},{\"attributes\":{\"data_source\":{\"id\":\"a2b27274-c3ed-4608-9447-f2a86f0a3b9a\",\"type\":\"ColumnDataSource\"},\"glyph\":{\"id\":\"0d76c5f7-de07-4ead-9e1f-37ec2ce368e1\",\"type\":\"Line\"},\"hover_glyph\":null,\"muted_glyph\":null,\"nonselection_glyph\":{\"id\":\"8964b3a6-26d6-4b51-9427-1e75e5faba04\",\"type\":\"Line\"},\"selection_glyph\":null,\"view\":{\"id\":\"1a160508-0adc-4f18-96df-a92aa5e66db4\",\"type\":\"CDSView\"}},\"id\":\"5a3d7296-6387-4db1-9576-b9c7f7e0fbe2\",\"type\":\"GlyphRenderer\"},{\"attributes\":{\"bottom\":{\"value\":8.1},\"fill_color\":{\"value\":\"#9467bd\"},\"left\":{\"value\":4.25},\"right\":{\"value\":4.75},\"top\":{\"value\":9.0}},\"id\":\"46521294-74d7-448e-a6e0-abd31fbd0698\",\"type\":\"Quad\"},{\"attributes\":{},\"id\":\"078bb635-e72a-4e2a-9f1a-f7e1eefdc610\",\"type\":\"Selection\"},{\"attributes\":{\"bottom\":{\"value\":8.1},\"fill_alpha\":{\"value\":0.1},\"fill_color\":{\"value\":\"#1f77b4\"},\"left\":{\"value\":4.25},\"line_alpha\":{\"value\":0.1},\"line_color\":{\"value\":\"#1f77b4\"},\"right\":{\"value\":4.75},\"top\":{\"value\":9.0}},\"id\":\"a0342c61-e433-4b22-a00a-42c16d9cab64\",\"type\":\"Quad\"},{\"attributes\":{\"callback\":null,\"data\":{\"x\":[8.4,8.6]},\"selected\":{\"id\":\"a5e9da6a-2030-4600-af57-696f39c48084\",\"type\":\"Selection\"},\"selection_policy\":{\"id\":\"864756ee-1eb0-494e-91c2-63c37f4f6aa6\",\"type\":\"UnionRenderers\"}},\"id\":\"9f3353dc-af15-45b5-a2d7-53dda30b7782\",\"type\":\"ColumnDataSource\"},{\"attributes\":{},\"id\":\"1abe3679-1814-433a-89e7-bf1c86c6ba2b\",\"type\":\"UnionRenderers\"},{\"attributes\":{\"callback\":null,\"data\":{},\"selected\":{\"id\":\"e1636839-9cb5-448a-9748-aa9c3e1aa82a\",\"type\":\"Selection\"},\"selection_policy\":{\"id\":\"b219fa20-e755-44e1-af8b-e9dec36c23d9\",\"type\":\"UnionRenderers\"}},\"id\":\"cdc8c592-4a6e-4ef8-ae94-84b514fd6c50\",\"type\":\"ColumnDataSource\"},{\"attributes\":{\"line_alpha\":0.1,\"line_color\":\"#1f77b4\",\"x\":{\"field\":\"x\"},\"y\":{\"value\":10.295000000000002}},\"id\":\"999388a8-c5ea-42dd-b1b1-1962236b06e0\",\"type\":\"Line\"},{\"attributes\":{},\"id\":\"dfba92d0-ed4c-4e96-aca8-745e87a9cb32\",\"type\":\"Selection\"},{\"attributes\":{\"data_source\":{\"id\":\"9f3353dc-af15-45b5-a2d7-53dda30b7782\",\"type\":\"ColumnDataSource\"},\"glyph\":{\"id\":\"cb6a2447-daa2-40ee-b8c5-cd3146e858c2\",\"type\":\"Line\"},\"hover_glyph\":null,\"muted_glyph\":null,\"nonselection_glyph\":{\"id\":\"999388a8-c5ea-42dd-b1b1-1962236b06e0\",\"type\":\"Line\"},\"selection_glyph\":null,\"view\":{\"id\":\"8244c84d-9537-4175-8fe2-4cc880192b1b\",\"type\":\"CDSView\"}},\"id\":\"83464584-22d5-4952-bf75-97fb4f75e783\",\"type\":\"GlyphRenderer\"},{\"attributes\":{\"data_source\":{\"id\":\"cdc8c592-4a6e-4ef8-ae94-84b514fd6c50\",\"type\":\"ColumnDataSource\"},\"glyph\":{\"id\":\"46521294-74d7-448e-a6e0-abd31fbd0698\",\"type\":\"Quad\"},\"hover_glyph\":null,\"muted_glyph\":null,\"nonselection_glyph\":{\"id\":\"a0342c61-e433-4b22-a00a-42c16d9cab64\",\"type\":\"Quad\"},\"selection_glyph\":null,\"view\":{\"id\":\"acff15d8-1678-4594-a4a4-717c445e29e3\",\"type\":\"CDSView\"}},\"id\":\"63900f1d-1a93-4b7d-926b-8a97bed4b461\",\"type\":\"GlyphRenderer\"},{\"attributes\":{},\"id\":\"a59b9736-5da4-4b89-ad5d-b1456e642a1b\",\"type\":\"UnionRenderers\"},{\"attributes\":{\"source\":{\"id\":\"cdc8c592-4a6e-4ef8-ae94-84b514fd6c50\",\"type\":\"ColumnDataSource\"}},\"id\":\"acff15d8-1678-4594-a4a4-717c445e29e3\",\"type\":\"CDSView\"},{\"attributes\":{\"source\":{\"id\":\"a2b27274-c3ed-4608-9447-f2a86f0a3b9a\",\"type\":\"ColumnDataSource\"}},\"id\":\"1a160508-0adc-4f18-96df-a92aa5e66db4\",\"type\":\"CDSView\"},{\"attributes\":{},\"id\":\"d11fee45-6b84-44b4-8656-aee9350e6c45\",\"type\":\"Selection\"},{\"attributes\":{},\"id\":\"59445b54-4f31-448b-9959-c62548f0fa38\",\"type\":\"Selection\"},{\"attributes\":{},\"id\":\"864756ee-1eb0-494e-91c2-63c37f4f6aa6\",\"type\":\"UnionRenderers\"},{\"attributes\":{},\"id\":\"41833433-64fb-44f7-a7f7-4f299c9eae04\",\"type\":\"UnionRenderers\"},{\"attributes\":{},\"id\":\"677930e0-f943-4a0d-9cf4-ff851902d4e3\",\"type\":\"Selection\"},{\"attributes\":{},\"id\":\"70bf93cd-6e23-496c-967c-41fd938cb109\",\"type\":\"UnionRenderers\"},{\"attributes\":{},\"id\":\"8ebdff7c-5ad0-4626-8f3d-50bdb44a6862\",\"type\":\"Selection\"},{\"attributes\":{},\"id\":\"b219fa20-e755-44e1-af8b-e9dec36c23d9\",\"type\":\"UnionRenderers\"},{\"attributes\":{},\"id\":\"e1636839-9cb5-448a-9748-aa9c3e1aa82a\",\"type\":\"Selection\"},{\"attributes\":{},\"id\":\"7282403b-a046-47d7-bf88-8a30ea5f10c5\",\"type\":\"UnionRenderers\"},{\"attributes\":{},\"id\":\"d6ad26c5-bd27-460d-9c56-0785fc2b1cbd\",\"type\":\"Selection\"},{\"attributes\":{},\"id\":\"20673e29-e713-4cef-af3f-1ef90d123f6f\",\"type\":\"UnionRenderers\"},{\"attributes\":{},\"id\":\"73163aeb-2489-4cc0-9a9b-7181b4d137f6\",\"type\":\"Selection\"},{\"attributes\":{},\"id\":\"8b782948-955b-4574-8b3d-fdcff47e8c51\",\"type\":\"UnionRenderers\"},{\"attributes\":{},\"id\":\"9f0f6c67-b4d7-40a5-8449-027856e7dc5b\",\"type\":\"Selection\"},{\"attributes\":{},\"id\":\"41a09641-1be6-43f3-822b-69c84b8153fd\",\"type\":\"UnionRenderers\"},{\"attributes\":{},\"id\":\"81bc42ca-02d2-40d1-9139-f96860054f63\",\"type\":\"Selection\"},{\"attributes\":{},\"id\":\"ec71f73c-2c74-4d25-a11b-69fb38147878\",\"type\":\"UnionRenderers\"},{\"attributes\":{},\"id\":\"1be0f38b-f6e9-4ba5-853d-71391b0055ff\",\"type\":\"Selection\"},{\"attributes\":{},\"id\":\"db13b578-aa63-43fb-a1de-6bb19804088c\",\"type\":\"UnionRenderers\"},{\"attributes\":{},\"id\":\"7aac8d11-c6ab-4b78-96d3-6d600a8c296f\",\"type\":\"Selection\"},{\"attributes\":{},\"id\":\"abf3b433-1586-49b1-ac46-05fd505583c0\",\"type\":\"UnionRenderers\"},{\"attributes\":{},\"id\":\"c500b9f6-2887-497c-8c5f-fb624f871c48\",\"type\":\"Selection\"},{\"attributes\":{},\"id\":\"482c211e-2bb9-40c7-b247-f3ebd47b26c3\",\"type\":\"UnionRenderers\"},{\"attributes\":{},\"id\":\"25ee7bc1-f3f9-4e50-8991-4970a74d7640\",\"type\":\"Selection\"},{\"attributes\":{},\"id\":\"18b9e811-bda2-4029-b422-5c9e2b7e7dd4\",\"type\":\"UnionRenderers\"},{\"attributes\":{},\"id\":\"1b4bd78a-c04b-4db6-840d-59081e1aab62\",\"type\":\"Selection\"},{\"attributes\":{},\"id\":\"fcb146c8-c307-4923-b753-4119c8176818\",\"type\":\"UnionRenderers\"},{\"attributes\":{},\"id\":\"e43c6242-828d-42c2-81ec-5060e7dbf71c\",\"type\":\"Selection\"},{\"attributes\":{},\"id\":\"eed14885-f3d2-484d-9052-3da1df605964\",\"type\":\"UnionRenderers\"},{\"attributes\":{},\"id\":\"4d009472-9cb0-4277-b4ba-dad17174d2cd\",\"type\":\"Selection\"},{\"attributes\":{},\"id\":\"4d351e8f-69cc-44a9-8ccc-06a73158afeb\",\"type\":\"UnionRenderers\"},{\"attributes\":{},\"id\":\"5500bcf5-2acc-4537-b012-a79c44bf1e12\",\"type\":\"Selection\"},{\"attributes\":{},\"id\":\"5f0ed46c-4a6f-4dcd-92fe-1e08e38dd8c6\",\"type\":\"UnionRenderers\"},{\"attributes\":{},\"id\":\"e24da7cc-6e1b-46a3-8794-ef14b037ac8c\",\"type\":\"Selection\"},{\"attributes\":{},\"id\":\"43a498ec-4eb3-4607-8f60-742d09e217ef\",\"type\":\"UnionRenderers\"},{\"attributes\":{},\"id\":\"37edf8ef-5152-4528-bfad-7f3357e9c1cf\",\"type\":\"Selection\"},{\"attributes\":{},\"id\":\"6f6334ce-065f-419b-b024-ed5b8dcc0ea6\",\"type\":\"UnionRenderers\"},{\"attributes\":{},\"id\":\"35c63b63-0c66-4bc8-8bd9-fd47f47bde88\",\"type\":\"Selection\"},{\"attributes\":{},\"id\":\"2ae24113-4e5e-43b7-8c7d-e74219dc3de2\",\"type\":\"UnionRenderers\"},{\"attributes\":{},\"id\":\"36c5fa5b-1cf4-43ca-91e1-704f7663c26d\",\"type\":\"Selection\"},{\"attributes\":{},\"id\":\"61ddec75-dac8-4ce8-8a96-3e183ad4acad\",\"type\":\"UnionRenderers\"},{\"attributes\":{},\"id\":\"e8a31e41-9412-4d2e-89fb-3558a6f2b245\",\"type\":\"Selection\"},{\"attributes\":{},\"id\":\"67225674-31c3-478a-9e44-e23bd329cf66\",\"type\":\"UnionRenderers\"},{\"attributes\":{},\"id\":\"330a49e4-def8-474e-a431-d24ec670ee26\",\"type\":\"Selection\"},{\"attributes\":{\"data_source\":{\"id\":\"86a4e24f-1657-412a-a2f0-6b2060c2b3e3\",\"type\":\"ColumnDataSource\"},\"glyph\":{\"id\":\"059cec21-f885-48f2-9f59-9cda931eab87\",\"type\":\"Quad\"},\"hover_glyph\":null,\"muted_glyph\":null,\"nonselection_glyph\":{\"id\":\"c95b6cb9-36ab-4186-a98d-e459e58c9edd\",\"type\":\"Quad\"},\"selection_glyph\":null,\"view\":{\"id\":\"d7eda69f-4426-4d0a-b7b1-7abf0c8d1423\",\"type\":\"CDSView\"}},\"id\":\"cb5b4d19-8580-4460-96ce-c45918412152\",\"type\":\"GlyphRenderer\"},{\"attributes\":{},\"id\":\"e0503743-ccf3-4c36-a4ed-25a80074ff71\",\"type\":\"UnionRenderers\"},{\"attributes\":{},\"id\":\"ff4e7cab-c790-4f89-8bac-b8cd988abf6e\",\"type\":\"Selection\"},{\"attributes\":{},\"id\":\"fa5f349f-841d-416b-ae6f-cfac10bcc49b\",\"type\":\"UnionRenderers\"},{\"attributes\":{},\"id\":\"b995db19-623e-4bd9-9b6d-86bb9d6184e1\",\"type\":\"Selection\"},{\"attributes\":{},\"id\":\"e46edc8f-dc75-40cd-811a-4337d3de2f70\",\"type\":\"UnionRenderers\"},{\"attributes\":{},\"id\":\"dedd5d07-a475-4c38-bd6b-a9d7063942f5\",\"type\":\"Selection\"},{\"attributes\":{\"source\":{\"id\":\"86a4e24f-1657-412a-a2f0-6b2060c2b3e3\",\"type\":\"ColumnDataSource\"}},\"id\":\"d7eda69f-4426-4d0a-b7b1-7abf0c8d1423\",\"type\":\"CDSView\"},{\"attributes\":{},\"id\":\"b2e4b15b-d7e7-4c2e-b93b-e46cb6a18535\",\"type\":\"UnionRenderers\"},{\"attributes\":{},\"id\":\"1f3d5304-21d4-4343-ab0d-7dfee5bd36a6\",\"type\":\"Selection\"},{\"attributes\":{},\"id\":\"70fb292a-8a10-491b-b84e-337cab320719\",\"type\":\"UnionRenderers\"},{\"attributes\":{},\"id\":\"65b949e3-d18c-4b45-b4ce-9cde611539d0\",\"type\":\"Selection\"},{\"attributes\":{},\"id\":\"1915fe69-6ca2-4a12-80a3-0b65f518430e\",\"type\":\"UnionRenderers\"},{\"attributes\":{},\"id\":\"b9b12cbb-3a06-4e00-99ca-955b7cd77140\",\"type\":\"Selection\"},{\"attributes\":{},\"id\":\"652766ae-117a-45ab-8ffc-85d3d3be1f11\",\"type\":\"UnionRenderers\"},{\"attributes\":{},\"id\":\"d433d99b-bc6a-4f35-9a5e-022eae3a9b2f\",\"type\":\"Selection\"},{\"attributes\":{},\"id\":\"18c5d58b-7c28-4c88-88d6-80a68e4554e9\",\"type\":\"UnionRenderers\"},{\"attributes\":{},\"id\":\"20e47bea-0a53-45ea-885f-7c56fba49a6c\",\"type\":\"Selection\"},{\"attributes\":{},\"id\":\"6774fb96-21f0-4158-b14f-d8f269fea2c2\",\"type\":\"UnionRenderers\"},{\"attributes\":{},\"id\":\"4bc7d753-6117-4616-abe6-dd2f630ee8c9\",\"type\":\"Selection\"},{\"attributes\":{},\"id\":\"7432d192-3c12-4a09-86cb-296b84c111ec\",\"type\":\"UnionRenderers\"},{\"attributes\":{},\"id\":\"ae1388e6-49f4-41a6-b49d-3bc31b640bdf\",\"type\":\"Selection\"},{\"attributes\":{},\"id\":\"48f50034-390b-45c8-8853-873b54850d09\",\"type\":\"UnionRenderers\"},{\"attributes\":{},\"id\":\"17ff77f5-8aaa-4c6e-9cc5-574258a1fd9c\",\"type\":\"Selection\"},{\"attributes\":{},\"id\":\"5981f13c-c1f8-4849-b5f7-2a060fc3498d\",\"type\":\"UnionRenderers\"},{\"attributes\":{},\"id\":\"8dba2971-aec4-4258-8d48-e2e80b217bc9\",\"type\":\"Selection\"},{\"attributes\":{},\"id\":\"4c9ea9f3-50c6-4200-9a31-f4a917e9605c\",\"type\":\"UnionRenderers\"},{\"attributes\":{},\"id\":\"ec5fe729-d233-4deb-a6d7-07413be13d3f\",\"type\":\"Selection\"},{\"attributes\":{},\"id\":\"a6c60cee-cc06-4796-aa80-aeb87588d65f\",\"type\":\"UnionRenderers\"},{\"attributes\":{},\"id\":\"5cb939a7-a09f-4759-815e-891e35b1364e\",\"type\":\"Selection\"},{\"attributes\":{\"x\":{\"field\":\"x\"},\"y\":{\"field\":\"y\"}},\"id\":\"d1cbc5aa-937c-4c79-828b-316e2892be2f\",\"type\":\"Line\"},{\"attributes\":{\"line_alpha\":0.1,\"line_color\":\"#1f77b4\",\"x\":{\"field\":\"x\"},\"y\":{\"field\":\"y\"}},\"id\":\"8c6d82f1-9c99-4393-9f23-343b89971e9d\",\"type\":\"Line\"},{\"attributes\":{\"data_source\":{\"id\":\"b98b6b41-6abe-4011-9e2f-8ba794a6f1e0\",\"type\":\"ColumnDataSource\"},\"glyph\":{\"id\":\"d1cbc5aa-937c-4c79-828b-316e2892be2f\",\"type\":\"Line\"},\"hover_glyph\":null,\"muted_glyph\":null,\"nonselection_glyph\":{\"id\":\"8c6d82f1-9c99-4393-9f23-343b89971e9d\",\"type\":\"Line\"},\"selection_glyph\":null,\"view\":{\"id\":\"98d45cd1-77e2-47f3-abef-8027b0164f9d\",\"type\":\"CDSView\"}},\"id\":\"2773332e-7886-484b-9e24-9c97059955b2\",\"type\":\"GlyphRenderer\"},{\"attributes\":{\"source\":{\"id\":\"b98b6b41-6abe-4011-9e2f-8ba794a6f1e0\",\"type\":\"ColumnDataSource\"}},\"id\":\"98d45cd1-77e2-47f3-abef-8027b0164f9d\",\"type\":\"CDSView\"},{\"attributes\":{\"x\":{\"field\":\"x\"},\"y\":{\"field\":\"y\"}},\"id\":\"f10213e3-7f98-41f8-8c40-74a11bcf5fa6\",\"type\":\"Line\"},{\"attributes\":{\"callback\":null,\"data\":{\"x\":[1.5,1.5],\"y\":[8.6,7.5]},\"selected\":{\"id\":\"75ee3862-41b9-40da-abf5-f145c843f408\",\"type\":\"Selection\"},\"selection_policy\":{\"id\":\"139c4e78-1b10-46c2-90d4-c53c24c4d5be\",\"type\":\"UnionRenderers\"}},\"id\":\"f354d8df-bddb-4e5e-b00b-0085113f26b2\",\"type\":\"ColumnDataSource\"},{\"attributes\":{\"line_alpha\":0.1,\"line_color\":\"#1f77b4\",\"x\":{\"field\":\"x\"},\"y\":{\"field\":\"y\"}},\"id\":\"08155d90-3f5d-4b8f-9e59-dd7683be3b8b\",\"type\":\"Line\"},{\"attributes\":{\"data_source\":{\"id\":\"f354d8df-bddb-4e5e-b00b-0085113f26b2\",\"type\":\"ColumnDataSource\"},\"glyph\":{\"id\":\"f10213e3-7f98-41f8-8c40-74a11bcf5fa6\",\"type\":\"Line\"},\"hover_glyph\":null,\"muted_glyph\":null,\"nonselection_glyph\":{\"id\":\"08155d90-3f5d-4b8f-9e59-dd7683be3b8b\",\"type\":\"Line\"},\"selection_glyph\":null,\"view\":{\"id\":\"3e49a94c-759e-4c47-b0a0-4eb9de4527c5\",\"type\":\"CDSView\"}},\"id\":\"694aefee-db1d-4dcd-a9a7-c156b1b17ca7\",\"type\":\"GlyphRenderer\"},{\"attributes\":{\"source\":{\"id\":\"f354d8df-bddb-4e5e-b00b-0085113f26b2\",\"type\":\"ColumnDataSource\"}},\"id\":\"3e49a94c-759e-4c47-b0a0-4eb9de4527c5\",\"type\":\"CDSView\"},{\"attributes\":{\"x\":{\"field\":\"x\"},\"y\":{\"field\":\"y\"}},\"id\":\"72896bc7-4db8-458d-a3a2-2f034919f3e1\",\"type\":\"Line\"},{\"attributes\":{\"callback\":null,\"data\":{\"x\":[1.5,1.5],\"y\":[9.7,10.98]},\"selected\":{\"id\":\"059dd7d0-4053-41c9-b8d7-a5398273c08e\",\"type\":\"Selection\"},\"selection_policy\":{\"id\":\"faccaf54-c3c6-4587-ab66-5d2870553d1e\",\"type\":\"UnionRenderers\"}},\"id\":\"c50dd3fe-d9d0-4c79-9198-8e31b960898c\",\"type\":\"ColumnDataSource\"},{\"attributes\":{\"line_alpha\":0.1,\"line_color\":\"#1f77b4\",\"x\":{\"field\":\"x\"},\"y\":{\"field\":\"y\"}},\"id\":\"1788c60e-6c32-4a29-bbb3-ab852f9bc541\",\"type\":\"Line\"},{\"attributes\":{\"data_source\":{\"id\":\"c50dd3fe-d9d0-4c79-9198-8e31b960898c\",\"type\":\"ColumnDataSource\"},\"glyph\":{\"id\":\"72896bc7-4db8-458d-a3a2-2f034919f3e1\",\"type\":\"Line\"},\"hover_glyph\":null,\"muted_glyph\":null,\"nonselection_glyph\":{\"id\":\"1788c60e-6c32-4a29-bbb3-ab852f9bc541\",\"type\":\"Line\"},\"selection_glyph\":null,\"view\":{\"id\":\"2ab1fe37-ab94-4520-a0a3-8d715fc1c599\",\"type\":\"CDSView\"}},\"id\":\"1848ad98-e831-4832-af55-c07611cf5799\",\"type\":\"GlyphRenderer\"},{\"attributes\":{\"source\":{\"id\":\"c50dd3fe-d9d0-4c79-9198-8e31b960898c\",\"type\":\"ColumnDataSource\"}},\"id\":\"2ab1fe37-ab94-4520-a0a3-8d715fc1c599\",\"type\":\"CDSView\"},{\"attributes\":{\"x\":{\"field\":\"x\"},\"y\":{\"value\":7.5}},\"id\":\"bf862a7a-4a3b-4740-ac71-70928ad5f504\",\"type\":\"Line\"},{\"attributes\":{\"callback\":null,\"data\":{\"x\":[1.4,1.6]},\"selected\":{\"id\":\"6e86a455-ba99-4ccd-b0fb-4fd5a985da11\",\"type\":\"Selection\"},\"selection_policy\":{\"id\":\"36461b1f-fbcb-4125-8579-7c7c0e3437d8\",\"type\":\"UnionRenderers\"}},\"id\":\"95b01bbf-209f-4edd-a8ad-6a3d061e7d20\",\"type\":\"ColumnDataSource\"},{\"attributes\":{\"line_alpha\":0.1,\"line_color\":\"#1f77b4\",\"x\":{\"field\":\"x\"},\"y\":{\"value\":7.5}},\"id\":\"8dcaf6fa-da38-40ed-a0db-7e83ca1c005b\",\"type\":\"Line\"},{\"attributes\":{\"x\":{\"field\":\"x\"},\"y\":{\"value\":10.98}},\"id\":\"23d1245c-2845-4021-9eb2-3b4ffee04add\",\"type\":\"Line\"},{\"attributes\":{\"data_source\":{\"id\":\"95b01bbf-209f-4edd-a8ad-6a3d061e7d20\",\"type\":\"ColumnDataSource\"},\"glyph\":{\"id\":\"bf862a7a-4a3b-4740-ac71-70928ad5f504\",\"type\":\"Line\"},\"hover_glyph\":null,\"muted_glyph\":null,\"nonselection_glyph\":{\"id\":\"8dcaf6fa-da38-40ed-a0db-7e83ca1c005b\",\"type\":\"Line\"},\"selection_glyph\":null,\"view\":{\"id\":\"b4a0f1fb-1a9c-4ea1-9120-fb37559a7f86\",\"type\":\"CDSView\"}},\"id\":\"0e674e75-a433-4a87-9cf4-74313a0d03ec\",\"type\":\"GlyphRenderer\"},{\"attributes\":{\"line_alpha\":0.1,\"line_color\":\"#1f77b4\",\"x\":{\"field\":\"x\"},\"y\":{\"value\":10.98}},\"id\":\"eb4b7567-3ab0-41b0-b188-c8dd164b88e9\",\"type\":\"Line\"},{\"attributes\":{\"fill_color\":{\"value\":\"black\"},\"x\":{\"field\":\"x\"},\"y\":{\"field\":\"y\"}},\"id\":\"0039611c-a140-42b0-a628-d6d21dd2f874\",\"type\":\"Circle\"},{\"attributes\":{\"data_source\":{\"id\":\"60690d06-600e-48a2-881f-eda3a4c4d587\",\"type\":\"ColumnDataSource\"},\"glyph\":{\"id\":\"23d1245c-2845-4021-9eb2-3b4ffee04add\",\"type\":\"Line\"},\"hover_glyph\":null,\"muted_glyph\":null,\"nonselection_glyph\":{\"id\":\"eb4b7567-3ab0-41b0-b188-c8dd164b88e9\",\"type\":\"Line\"},\"selection_glyph\":null,\"view\":{\"id\":\"f0723106-aeeb-49de-be73-2f26d9d10410\",\"type\":\"CDSView\"}},\"id\":\"42ca35a2-cafc-4df5-9b04-7b190f57746d\",\"type\":\"GlyphRenderer\"},{\"attributes\":{\"source\":{\"id\":\"95b01bbf-209f-4edd-a8ad-6a3d061e7d20\",\"type\":\"ColumnDataSource\"}},\"id\":\"b4a0f1fb-1a9c-4ea1-9120-fb37559a7f86\",\"type\":\"CDSView\"},{\"attributes\":{\"callback\":null,\"data\":{\"x\":[1.4,1.6]},\"selected\":{\"id\":\"573d5686-db10-4e35-9cfc-137e263ff0bb\",\"type\":\"Selection\"},\"selection_policy\":{\"id\":\"aa13eb0d-b725-4901-9dd1-96f7019bb930\",\"type\":\"UnionRenderers\"}},\"id\":\"60690d06-600e-48a2-881f-eda3a4c4d587\",\"type\":\"ColumnDataSource\"},{\"attributes\":{\"fill_alpha\":{\"value\":0.1},\"fill_color\":{\"value\":\"#1f77b4\"},\"line_alpha\":{\"value\":0.1},\"line_color\":{\"value\":\"#1f77b4\"},\"x\":{\"field\":\"x\"},\"y\":{\"field\":\"y\"}},\"id\":\"437e44e7-2967-4dca-bf53-b2768a16d627\",\"type\":\"Circle\"},{\"attributes\":{\"data_source\":{\"id\":\"fc6c2fd2-c22c-4f3a-8976-ea1a3002de0e\",\"type\":\"ColumnDataSource\"},\"glyph\":{\"id\":\"0039611c-a140-42b0-a628-d6d21dd2f874\",\"type\":\"Circle\"},\"hover_glyph\":null,\"muted_glyph\":null,\"nonselection_glyph\":{\"id\":\"437e44e7-2967-4dca-bf53-b2768a16d627\",\"type\":\"Circle\"},\"selection_glyph\":null,\"view\":{\"id\":\"b9ebeca4-da8c-41d0-b782-288228c414eb\",\"type\":\"CDSView\"}},\"id\":\"87999790-c7a0-4861-9443-01b70dfd6c48\",\"type\":\"GlyphRenderer\"},{\"attributes\":{\"source\":{\"id\":\"fc6c2fd2-c22c-4f3a-8976-ea1a3002de0e\",\"type\":\"ColumnDataSource\"}},\"id\":\"b9ebeca4-da8c-41d0-b782-288228c414eb\",\"type\":\"CDSView\"},{\"attributes\":{\"source\":{\"id\":\"60690d06-600e-48a2-881f-eda3a4c4d587\",\"type\":\"ColumnDataSource\"}},\"id\":\"f0723106-aeeb-49de-be73-2f26d9d10410\",\"type\":\"CDSView\"},{\"attributes\":{\"callback\":null,\"data\":{\"x\":[],\"y\":{\"__ndarray__\":\"\",\"dtype\":\"float64\",\"shape\":[0]}},\"selected\":{\"id\":\"4205e276-b171-415e-b1cf-528d2733668a\",\"type\":\"Selection\"},\"selection_policy\":{\"id\":\"b5d6304a-55c7-4f0b-932f-f757e7c57b04\",\"type\":\"UnionRenderers\"}},\"id\":\"fc6c2fd2-c22c-4f3a-8976-ea1a3002de0e\",\"type\":\"ColumnDataSource\"},{\"attributes\":{\"source\":{\"id\":\"612dca71-fa37-4a55-a697-be7448453393\",\"type\":\"ColumnDataSource\"}},\"id\":\"d5ca36e9-335c-444f-84e2-b77145af4318\",\"type\":\"CDSView\"},{\"attributes\":{\"bottom\":{\"value\":8.81},\"fill_color\":{\"value\":\"#2ca02c\"},\"left\":{\"value\":2.25},\"right\":{\"value\":2.75},\"top\":{\"value\":9.81}},\"id\":\"af6a022e-0b8a-40bd-896a-a4212cd52415\",\"type\":\"Quad\"},{\"attributes\":{\"bottom\":{\"value\":8.81},\"fill_alpha\":{\"value\":0.1},\"fill_color\":{\"value\":\"#1f77b4\"},\"left\":{\"value\":2.25},\"line_alpha\":{\"value\":0.1},\"line_color\":{\"value\":\"#1f77b4\"},\"right\":{\"value\":2.75},\"top\":{\"value\":9.81}},\"id\":\"40478927-fbf5-41be-9921-809dec8ca0cd\",\"type\":\"Quad\"},{\"attributes\":{\"callback\":null,\"data\":{},\"selected\":{\"id\":\"2b3db904-f413-4018-8b76-e1998ae8a806\",\"type\":\"Selection\"},\"selection_policy\":{\"id\":\"363a6389-f3e4-48e7-ab58-f0a911d2dbed\",\"type\":\"UnionRenderers\"}},\"id\":\"2e7120cf-d6d9-4465-92c8-93234f9657e7\",\"type\":\"ColumnDataSource\"},{\"attributes\":{\"data_source\":{\"id\":\"2e7120cf-d6d9-4465-92c8-93234f9657e7\",\"type\":\"ColumnDataSource\"},\"glyph\":{\"id\":\"af6a022e-0b8a-40bd-896a-a4212cd52415\",\"type\":\"Quad\"},\"hover_glyph\":null,\"muted_glyph\":null,\"nonselection_glyph\":{\"id\":\"40478927-fbf5-41be-9921-809dec8ca0cd\",\"type\":\"Quad\"},\"selection_glyph\":null,\"view\":{\"id\":\"dcd2105b-b9dc-41bd-a107-4da3ae93395d\",\"type\":\"CDSView\"}},\"id\":\"7ae1b6f3-f4a5-4187-9e18-c10887bdbe58\",\"type\":\"GlyphRenderer\"},{\"attributes\":{\"source\":{\"id\":\"2e7120cf-d6d9-4465-92c8-93234f9657e7\",\"type\":\"ColumnDataSource\"}},\"id\":\"dcd2105b-b9dc-41bd-a107-4da3ae93395d\",\"type\":\"CDSView\"},{\"attributes\":{\"x\":{\"field\":\"x\"},\"y\":{\"field\":\"y\"}},\"id\":\"022f4552-3797-478f-a841-f9be4a2fda2d\",\"type\":\"Line\"},{\"attributes\":{\"callback\":null,\"data\":{\"x\":[2.25,2.75],\"y\":[9.31,9.31]},\"selected\":{\"id\":\"cb8118b8-a538-43a0-b9fe-7303a89af002\",\"type\":\"Selection\"},\"selection_policy\":{\"id\":\"460ce3ad-2079-4ee2-af52-09db2245f3dc\",\"type\":\"UnionRenderers\"}},\"id\":\"14338e2a-a17b-4e45-87f2-9055a2f9ee38\",\"type\":\"ColumnDataSource\"},{\"attributes\":{\"line_alpha\":0.1,\"line_color\":\"#1f77b4\",\"x\":{\"field\":\"x\"},\"y\":{\"field\":\"y\"}},\"id\":\"e00df9ef-e969-4c36-b992-585048c698aa\",\"type\":\"Line\"},{\"attributes\":{\"data_source\":{\"id\":\"14338e2a-a17b-4e45-87f2-9055a2f9ee38\",\"type\":\"ColumnDataSource\"},\"glyph\":{\"id\":\"022f4552-3797-478f-a841-f9be4a2fda2d\",\"type\":\"Line\"},\"hover_glyph\":null,\"muted_glyph\":null,\"nonselection_glyph\":{\"id\":\"e00df9ef-e969-4c36-b992-585048c698aa\",\"type\":\"Line\"},\"selection_glyph\":null,\"view\":{\"id\":\"169d0c93-e6a2-4718-bbfc-78497f198405\",\"type\":\"CDSView\"}},\"id\":\"0506e516-8085-4765-9a11-34075703cc54\",\"type\":\"GlyphRenderer\"},{\"attributes\":{\"source\":{\"id\":\"14338e2a-a17b-4e45-87f2-9055a2f9ee38\",\"type\":\"ColumnDataSource\"}},\"id\":\"169d0c93-e6a2-4718-bbfc-78497f198405\",\"type\":\"CDSView\"},{\"attributes\":{\"x\":{\"field\":\"x\"},\"y\":{\"field\":\"y\"}},\"id\":\"124cbc7d-688e-4fce-914f-f8794e2eafcf\",\"type\":\"Line\"},{\"attributes\":{\"callback\":null,\"data\":{\"x\":[2.5,2.5],\"y\":[8.81,7.3100000000000005]},\"selected\":{\"id\":\"98a1581a-3126-4e61-bc19-df35a53b502f\",\"type\":\"Selection\"},\"selection_policy\":{\"id\":\"741d172e-5caa-4ccb-90af-8ed4d515cfff\",\"type\":\"UnionRenderers\"}},\"id\":\"12f4e7bb-38a8-4531-aa83-1c4a8fa33b95\",\"type\":\"ColumnDataSource\"},{\"attributes\":{\"line_alpha\":0.1,\"line_color\":\"#1f77b4\",\"x\":{\"field\":\"x\"},\"y\":{\"field\":\"y\"}},\"id\":\"d5f25afb-9c8c-4466-b0f6-0ebac7f8b359\",\"type\":\"Line\"},{\"attributes\":{\"data_source\":{\"id\":\"12f4e7bb-38a8-4531-aa83-1c4a8fa33b95\",\"type\":\"ColumnDataSource\"},\"glyph\":{\"id\":\"124cbc7d-688e-4fce-914f-f8794e2eafcf\",\"type\":\"Line\"},\"hover_glyph\":null,\"muted_glyph\":null,\"nonselection_glyph\":{\"id\":\"d5f25afb-9c8c-4466-b0f6-0ebac7f8b359\",\"type\":\"Line\"},\"selection_glyph\":null,\"view\":{\"id\":\"be50f969-4123-4925-a570-be79b4a88a6d\",\"type\":\"CDSView\"}},\"id\":\"61a4e2fa-b56e-4332-bc1d-0d9e516b9df2\",\"type\":\"GlyphRenderer\"},{\"attributes\":{\"source\":{\"id\":\"12f4e7bb-38a8-4531-aa83-1c4a8fa33b95\",\"type\":\"ColumnDataSource\"}},\"id\":\"be50f969-4123-4925-a570-be79b4a88a6d\",\"type\":\"CDSView\"},{\"attributes\":{\"x\":{\"field\":\"x\"},\"y\":{\"field\":\"y\"}},\"id\":\"5a74847a-9e68-4467-97d9-005349c1dc0a\",\"type\":\"Line\"},{\"attributes\":{\"callback\":null,\"data\":{\"x\":[2.5,2.5],\"y\":[9.81,11.31]},\"selected\":{\"id\":\"1006e88a-50ad-41db-ba4e-d985ee93a0f5\",\"type\":\"Selection\"},\"selection_policy\":{\"id\":\"31b9ab9e-2dc5-4b02-b0f2-f8db371aba14\",\"type\":\"UnionRenderers\"}},\"id\":\"a88eaeba-b9cc-49c6-888c-66ce2e81263f\",\"type\":\"ColumnDataSource\"},{\"attributes\":{\"line_alpha\":0.1,\"line_color\":\"#1f77b4\",\"x\":{\"field\":\"x\"},\"y\":{\"field\":\"y\"}},\"id\":\"b16b9871-f869-4adb-adb4-61f52019c33e\",\"type\":\"Line\"},{\"attributes\":{\"data_source\":{\"id\":\"a88eaeba-b9cc-49c6-888c-66ce2e81263f\",\"type\":\"ColumnDataSource\"},\"glyph\":{\"id\":\"5a74847a-9e68-4467-97d9-005349c1dc0a\",\"type\":\"Line\"},\"hover_glyph\":null,\"muted_glyph\":null,\"nonselection_glyph\":{\"id\":\"b16b9871-f869-4adb-adb4-61f52019c33e\",\"type\":\"Line\"},\"selection_glyph\":null,\"view\":{\"id\":\"d3e11d37-c5b3-4fde-ac71-ce2ab5ff9f21\",\"type\":\"CDSView\"}},\"id\":\"d8e00791-d2ea-4851-9f16-8500842aae5d\",\"type\":\"GlyphRenderer\"},{\"attributes\":{\"source\":{\"id\":\"a88eaeba-b9cc-49c6-888c-66ce2e81263f\",\"type\":\"ColumnDataSource\"}},\"id\":\"d3e11d37-c5b3-4fde-ac71-ce2ab5ff9f21\",\"type\":\"CDSView\"},{\"attributes\":{\"x\":{\"field\":\"x\"},\"y\":{\"value\":7.3100000000000005}},\"id\":\"675faf16-5b93-4e6d-b718-0120b9d0ab6b\",\"type\":\"Line\"},{\"attributes\":{\"callback\":null,\"data\":{\"x\":[2.4,2.6]},\"selected\":{\"id\":\"5710dcf8-e5a6-464b-b187-8de175cbec9a\",\"type\":\"Selection\"},\"selection_policy\":{\"id\":\"e4cb052b-3dfc-4a9d-97dd-e8581a30fabd\",\"type\":\"UnionRenderers\"}},\"id\":\"70eca08c-5387-4677-902d-25da61012414\",\"type\":\"ColumnDataSource\"},{\"attributes\":{\"line_alpha\":0.1,\"line_color\":\"#1f77b4\",\"x\":{\"field\":\"x\"},\"y\":{\"value\":7.3100000000000005}},\"id\":\"da06c7b4-50c5-4f65-94d3-8f39f52967dd\",\"type\":\"Line\"},{\"attributes\":{\"x\":{\"field\":\"x\"},\"y\":{\"value\":11.31}},\"id\":\"8bcce4a1-d179-45f2-815e-e875e9fb573b\",\"type\":\"Line\"},{\"attributes\":{\"data_source\":{\"id\":\"70eca08c-5387-4677-902d-25da61012414\",\"type\":\"ColumnDataSource\"},\"glyph\":{\"id\":\"675faf16-5b93-4e6d-b718-0120b9d0ab6b\",\"type\":\"Line\"},\"hover_glyph\":null,\"muted_glyph\":null,\"nonselection_glyph\":{\"id\":\"da06c7b4-50c5-4f65-94d3-8f39f52967dd\",\"type\":\"Line\"},\"selection_glyph\":null,\"view\":{\"id\":\"7689f8f1-9fc8-41ec-8741-950d81b75e80\",\"type\":\"CDSView\"}},\"id\":\"df237243-6141-4283-8638-9183287f59d2\",\"type\":\"GlyphRenderer\"},{\"attributes\":{\"callback\":null,\"data\":{\"x\":[2.4,2.6]},\"selected\":{\"id\":\"d44b2bd1-a361-4ef2-871e-af9470514c93\",\"type\":\"Selection\"},\"selection_policy\":{\"id\":\"cb5c0b10-4776-4447-91e3-b5bc1756ef60\",\"type\":\"UnionRenderers\"}},\"id\":\"612dca71-fa37-4a55-a697-be7448453393\",\"type\":\"ColumnDataSource\"},{\"attributes\":{\"line_alpha\":0.1,\"line_color\":\"#1f77b4\",\"x\":{\"field\":\"x\"},\"y\":{\"value\":11.31}},\"id\":\"cf061615-0351-468b-8c5c-4068789e875e\",\"type\":\"Line\"},{\"attributes\":{\"data_source\":{\"id\":\"612dca71-fa37-4a55-a697-be7448453393\",\"type\":\"ColumnDataSource\"},\"glyph\":{\"id\":\"8bcce4a1-d179-45f2-815e-e875e9fb573b\",\"type\":\"Line\"},\"hover_glyph\":null,\"muted_glyph\":null,\"nonselection_glyph\":{\"id\":\"cf061615-0351-468b-8c5c-4068789e875e\",\"type\":\"Line\"},\"selection_glyph\":null,\"view\":{\"id\":\"d5ca36e9-335c-444f-84e2-b77145af4318\",\"type\":\"CDSView\"}},\"id\":\"9e37a549-59a7-4c2d-97e2-387b04406227\",\"type\":\"GlyphRenderer\"},{\"attributes\":{\"source\":{\"id\":\"70eca08c-5387-4677-902d-25da61012414\",\"type\":\"ColumnDataSource\"}},\"id\":\"7689f8f1-9fc8-41ec-8741-950d81b75e80\",\"type\":\"CDSView\"},{\"attributes\":{},\"id\":\"1d5ac6ca-444b-4771-aca8-878ccdb99074\",\"type\":\"BasicTicker\"},{\"attributes\":{\"formatter\":{\"id\":\"5f09b2b3-5de9-4062-a638-d7d815aa980f\",\"type\":\"BasicTickFormatter\"},\"major_label_orientation\":0.7853981633974483,\"major_label_overrides\":{\"0.5\":\"fortis, 1973\",\"1.5\":\"fortis, 1975\",\"2.5\":\"fortis, 1987\",\"3.5\":\"fortis, 1991\",\"4.5\":\"fortis, 2012\",\"5.5\":\"scandens, 1973\",\"6.5\":\"scandens, 1975\",\"7.5\":\"scandens, 1987\",\"8.5\":\"scandens, 1991\",\"9.5\":\"scandens, 2012\"},\"plot\":{\"id\":\"b34917d1-d467-4f31-8935-17ca8bb16b43\",\"subtype\":\"Figure\",\"type\":\"Plot\"},\"ticker\":{\"id\":\"0b6b6ea0-6ef9-4e78-8726-3eb1fce1f825\",\"type\":\"FixedTicker\"}},\"id\":\"ad46a437-28f3-4224-a706-a80b7636c29a\",\"type\":\"LinearAxis\"},{\"attributes\":{\"plot\":{\"id\":\"b34917d1-d467-4f31-8935-17ca8bb16b43\",\"subtype\":\"Figure\",\"type\":\"Plot\"},\"ticker\":{\"id\":\"1d5ac6ca-444b-4771-aca8-878ccdb99074\",\"type\":\"BasicTicker\"},\"visible\":false},\"id\":\"1e0d4a61-354a-44ae-8658-0100dfb4ed4b\",\"type\":\"Grid\"},{\"attributes\":{},\"id\":\"1ef4ad9f-f8e3-4588-9afb-64d2ce225031\",\"type\":\"BasicTicker\"},{\"attributes\":{\"dimension\":1,\"plot\":{\"id\":\"b34917d1-d467-4f31-8935-17ca8bb16b43\",\"subtype\":\"Figure\",\"type\":\"Plot\"},\"ticker\":{\"id\":\"1ef4ad9f-f8e3-4588-9afb-64d2ce225031\",\"type\":\"BasicTicker\"}},\"id\":\"871256c5-e015-457e-9120-291216dc29a0\",\"type\":\"Grid\"},{\"attributes\":{\"bottom_units\":\"screen\",\"fill_alpha\":{\"value\":0.5},\"fill_color\":{\"value\":\"lightgrey\"},\"left_units\":\"screen\",\"level\":\"overlay\",\"line_alpha\":{\"value\":1.0},\"line_color\":{\"value\":\"black\"},\"line_dash\":[4,4],\"line_width\":{\"value\":2},\"plot\":null,\"render_mode\":\"css\",\"right_units\":\"screen\",\"top_units\":\"screen\"},\"id\":\"d7251217-5046-435e-b64c-176c234f2b27\",\"type\":\"BoxAnnotation\"},{\"attributes\":{},\"id\":\"5f238b7d-f062-4df6-88a2-87f8da197173\",\"type\":\"Selection\"},{\"attributes\":{\"callback\":null},\"id\":\"c962beba-063c-4f35-8cc9-f56dd19b0024\",\"type\":\"DataRange1d\"},{\"attributes\":{},\"id\":\"3302d375-384b-46e6-8579-fb406e4116bb\",\"type\":\"LinearScale\"},{\"attributes\":{},\"id\":\"4bd8b94d-bbee-44a9-8e5b-e20377014af9\",\"type\":\"LinearScale\"},{\"attributes\":{\"axis_label\":\"beak depth (mm)\",\"formatter\":{\"id\":\"6bf87080-0f53-41b4-8101-6a84347ff2f2\",\"type\":\"BasicTickFormatter\"},\"plot\":{\"id\":\"b34917d1-d467-4f31-8935-17ca8bb16b43\",\"subtype\":\"Figure\",\"type\":\"Plot\"},\"ticker\":{\"id\":\"1ef4ad9f-f8e3-4588-9afb-64d2ce225031\",\"type\":\"BasicTicker\"}},\"id\":\"c7b7827e-1740-4917-9684-4deadea139a8\",\"type\":\"LinearAxis\"},{\"attributes\":{},\"id\":\"4adfa773-4f44-4bf3-b1b8-709bb87e2b52\",\"type\":\"UnionRenderers\"},{\"attributes\":{},\"id\":\"035d5d0e-00cd-4a27-8aa6-f36d108d4b20\",\"type\":\"Selection\"},{\"attributes\":{},\"id\":\"049c1e36-ef3a-4cdb-ad93-9c1d1782b6db\",\"type\":\"ResetTool\"},{\"attributes\":{},\"id\":\"c7bbc081-5852-4d97-bfab-1475d49f8d40\",\"type\":\"Selection\"},{\"attributes\":{},\"id\":\"5a7bdefd-a036-458b-839f-d3d2028432c2\",\"type\":\"HelpTool\"},{\"attributes\":{},\"id\":\"bc191735-8c45-4d1f-ac41-536e810466cb\",\"type\":\"PanTool\"},{\"attributes\":{},\"id\":\"c0dee767-e5a2-44ce-a8e3-c784410740f4\",\"type\":\"SaveTool\"},{\"attributes\":{\"overlay\":{\"id\":\"d7251217-5046-435e-b64c-176c234f2b27\",\"type\":\"BoxAnnotation\"}},\"id\":\"18e7e5b8-8ff9-44dd-bef4-235f08d2b3c8\",\"type\":\"BoxZoomTool\"},{\"attributes\":{},\"id\":\"460ce3ad-2079-4ee2-af52-09db2245f3dc\",\"type\":\"UnionRenderers\"},{\"attributes\":{},\"id\":\"a4bea568-84ec-4c4e-82b5-d2a6be08cccd\",\"type\":\"UnionRenderers\"},{\"attributes\":{},\"id\":\"573d5686-db10-4e35-9cfc-137e263ff0bb\",\"type\":\"Selection\"},{\"attributes\":{},\"id\":\"b5d6304a-55c7-4f0b-932f-f757e7c57b04\",\"type\":\"UnionRenderers\"},{\"attributes\":{\"data_source\":{\"id\":\"a9a1aa09-5716-4af7-bc46-ecccbf29d98a\",\"type\":\"ColumnDataSource\"},\"glyph\":{\"id\":\"e1c5c468-ff84-4805-a942-1d2d6bc3493e\",\"type\":\"Line\"},\"hover_glyph\":null,\"muted_glyph\":null,\"nonselection_glyph\":{\"id\":\"8d242680-a7e0-4800-871d-c73c6f6682c3\",\"type\":\"Line\"},\"selection_glyph\":null,\"view\":{\"id\":\"7648948d-8537-43ab-a851-a6e36cf2e008\",\"type\":\"CDSView\"}},\"id\":\"175cb4ef-f329-4100-b839-1021c07cac9e\",\"type\":\"GlyphRenderer\"},{\"attributes\":{\"line_alpha\":0.1,\"line_color\":\"#1f77b4\",\"x\":{\"field\":\"x\"},\"y\":{\"field\":\"y\"}},\"id\":\"8d242680-a7e0-4800-871d-c73c6f6682c3\",\"type\":\"Line\"},{\"attributes\":{},\"id\":\"36461b1f-fbcb-4125-8579-7c7c0e3437d8\",\"type\":\"UnionRenderers\"},{\"attributes\":{},\"id\":\"139c4e78-1b10-46c2-90d4-c53c24c4d5be\",\"type\":\"UnionRenderers\"},{\"attributes\":{},\"id\":\"faccaf54-c3c6-4587-ab66-5d2870553d1e\",\"type\":\"UnionRenderers\"},{\"attributes\":{\"source\":{\"id\":\"a9a1aa09-5716-4af7-bc46-ecccbf29d98a\",\"type\":\"ColumnDataSource\"}},\"id\":\"7648948d-8537-43ab-a851-a6e36cf2e008\",\"type\":\"CDSView\"},{\"attributes\":{\"fill_alpha\":{\"value\":0.1},\"fill_color\":{\"value\":\"#1f77b4\"},\"line_alpha\":{\"value\":0.1},\"line_color\":{\"value\":\"#1f77b4\"},\"x\":{\"field\":\"x\"},\"y\":{\"field\":\"y\"}},\"id\":\"d4b74fec-2149-4669-97be-141917f349ef\",\"type\":\"Circle\"},{\"attributes\":{},\"id\":\"01ad6631-0b77-423f-9f79-6ef48173d2df\",\"type\":\"Selection\"},{\"attributes\":{},\"id\":\"090f3688-d633-41a8-ab4f-191c3b7834c7\",\"type\":\"UnionRenderers\"},{\"attributes\":{},\"id\":\"cb8118b8-a538-43a0-b9fe-7303a89af002\",\"type\":\"Selection\"},{\"attributes\":{},\"id\":\"13401fdd-7e99-4438-a08f-974c49f2b392\",\"type\":\"WheelZoomTool\"},{\"attributes\":{},\"id\":\"6e86a455-ba99-4ccd-b0fb-4fd5a985da11\",\"type\":\"Selection\"},{\"attributes\":{},\"id\":\"aa13eb0d-b725-4901-9dd1-96f7019bb930\",\"type\":\"UnionRenderers\"},{\"attributes\":{},\"id\":\"e2fecb50-c54c-4b2b-8e9f-0c7208f77e74\",\"type\":\"Selection\"},{\"attributes\":{},\"id\":\"466563f0-f33d-4023-afdc-7210d442399e\",\"type\":\"UnionRenderers\"},{\"attributes\":{},\"id\":\"7896eec1-4c7f-4229-843f-fee9aa9cd44d\",\"type\":\"UnionRenderers\"},{\"attributes\":{},\"id\":\"635d0680-3119-4a83-a612-679c58f8b8bf\",\"type\":\"Selection\"},{\"attributes\":{\"fill_color\":{\"value\":\"black\"},\"x\":{\"field\":\"x\"},\"y\":{\"field\":\"y\"}},\"id\":\"dbb03112-e9b4-4734-b204-8f52456d7c76\",\"type\":\"Circle\"},{\"attributes\":{},\"id\":\"af2208ab-2f0d-481f-8a6e-6034c63dcd52\",\"type\":\"UnionRenderers\"},{\"attributes\":{},\"id\":\"1b8df9f0-5869-4a57-a76a-d4e1bb6927ff\",\"type\":\"Selection\"},{\"attributes\":{},\"id\":\"2b3db904-f413-4018-8b76-e1998ae8a806\",\"type\":\"Selection\"},{\"attributes\":{},\"id\":\"4205e276-b171-415e-b1cf-528d2733668a\",\"type\":\"Selection\"},{\"attributes\":{},\"id\":\"363a6389-f3e4-48e7-ab58-f0a911d2dbed\",\"type\":\"UnionRenderers\"},{\"attributes\":{},\"id\":\"75ee3862-41b9-40da-abf5-f145c843f408\",\"type\":\"Selection\"},{\"attributes\":{},\"id\":\"059dd7d0-4053-41c9-b8d7-a5398273c08e\",\"type\":\"Selection\"},{\"attributes\":{\"callback\":null,\"data\":{\"x\":[5.5],\"y\":{\"__ndarray__\":\"zczMzMzMH0A=\",\"dtype\":\"float64\",\"shape\":[1]}},\"selected\":{\"id\":\"e24da7cc-6e1b-46a3-8794-ef14b037ac8c\",\"type\":\"Selection\"},\"selection_policy\":{\"id\":\"5f0ed46c-4a6f-4dcd-92fe-1e08e38dd8c6\",\"type\":\"UnionRenderers\"}},\"id\":\"f05f94b5-1971-431f-932a-059ac3c429e1\",\"type\":\"ColumnDataSource\"},{\"attributes\":{},\"id\":\"6360863c-d3df-41cd-89da-b437054ebfa6\",\"type\":\"Selection\"},{\"attributes\":{\"fill_color\":{\"value\":\"black\"},\"x\":{\"field\":\"x\"},\"y\":{\"field\":\"y\"}},\"id\":\"6b1effab-b644-4a96-954e-5ac44fa6606a\",\"type\":\"Circle\"},{\"attributes\":{\"fill_alpha\":{\"value\":0.1},\"fill_color\":{\"value\":\"#1f77b4\"},\"line_alpha\":{\"value\":0.1},\"line_color\":{\"value\":\"#1f77b4\"},\"x\":{\"field\":\"x\"},\"y\":{\"field\":\"y\"}},\"id\":\"e09f210a-278b-4c85-9a9f-44798694bc7f\",\"type\":\"Circle\"},{\"attributes\":{\"data_source\":{\"id\":\"f05f94b5-1971-431f-932a-059ac3c429e1\",\"type\":\"ColumnDataSource\"},\"glyph\":{\"id\":\"6b1effab-b644-4a96-954e-5ac44fa6606a\",\"type\":\"Circle\"},\"hover_glyph\":null,\"muted_glyph\":null,\"nonselection_glyph\":{\"id\":\"e09f210a-278b-4c85-9a9f-44798694bc7f\",\"type\":\"Circle\"},\"selection_glyph\":null,\"view\":{\"id\":\"24259881-a585-4626-8a9b-823626a0ef01\",\"type\":\"CDSView\"}},\"id\":\"c9cf2357-4e71-40e7-9e68-b0613ed9dfd9\",\"type\":\"GlyphRenderer\"},{\"attributes\":{\"source\":{\"id\":\"f05f94b5-1971-431f-932a-059ac3c429e1\",\"type\":\"ColumnDataSource\"}},\"id\":\"24259881-a585-4626-8a9b-823626a0ef01\",\"type\":\"CDSView\"},{\"attributes\":{},\"id\":\"5370ec01-2cac-4890-8f92-99276eebad54\",\"type\":\"UnionRenderers\"},{\"attributes\":{\"bottom\":{\"value\":8.55},\"fill_color\":{\"value\":\"#e377c2\"},\"left\":{\"value\":6.25},\"right\":{\"value\":6.75},\"top\":{\"value\":9.25}},\"id\":\"184226a1-d5cd-4f22-8dcd-82865feb0261\",\"type\":\"Quad\"},{\"attributes\":{\"bottom\":{\"value\":8.55},\"fill_alpha\":{\"value\":0.1},\"fill_color\":{\"value\":\"#1f77b4\"},\"left\":{\"value\":6.25},\"line_alpha\":{\"value\":0.1},\"line_color\":{\"value\":\"#1f77b4\"},\"right\":{\"value\":6.75},\"top\":{\"value\":9.25}},\"id\":\"1f121084-8d80-4a97-accd-a97866c94059\",\"type\":\"Quad\"},{\"attributes\":{\"callback\":null,\"data\":{},\"selected\":{\"id\":\"37edf8ef-5152-4528-bfad-7f3357e9c1cf\",\"type\":\"Selection\"},\"selection_policy\":{\"id\":\"43a498ec-4eb3-4607-8f60-742d09e217ef\",\"type\":\"UnionRenderers\"}},\"id\":\"c97d532a-3c8b-40ad-9d3e-6ab47179da25\",\"type\":\"ColumnDataSource\"},{\"attributes\":{\"data_source\":{\"id\":\"c97d532a-3c8b-40ad-9d3e-6ab47179da25\",\"type\":\"ColumnDataSource\"},\"glyph\":{\"id\":\"184226a1-d5cd-4f22-8dcd-82865feb0261\",\"type\":\"Quad\"},\"hover_glyph\":null,\"muted_glyph\":null,\"nonselection_glyph\":{\"id\":\"1f121084-8d80-4a97-accd-a97866c94059\",\"type\":\"Quad\"},\"selection_glyph\":null,\"view\":{\"id\":\"5e4f31e2-8acc-4251-9c7c-e5f039301697\",\"type\":\"CDSView\"}},\"id\":\"022043c0-c89c-4815-a856-1ab6d67669c4\",\"type\":\"GlyphRenderer\"},{\"attributes\":{\"source\":{\"id\":\"c97d532a-3c8b-40ad-9d3e-6ab47179da25\",\"type\":\"ColumnDataSource\"}},\"id\":\"5e4f31e2-8acc-4251-9c7c-e5f039301697\",\"type\":\"CDSView\"},{\"attributes\":{\"x\":{\"field\":\"x\"},\"y\":{\"field\":\"y\"}},\"id\":\"be886319-c171-446e-aca4-549f35b86510\",\"type\":\"Line\"},{\"attributes\":{\"callback\":null,\"data\":{\"x\":[6.25,6.75],\"y\":[9.0,9.0]},\"selected\":{\"id\":\"35c63b63-0c66-4bc8-8bd9-fd47f47bde88\",\"type\":\"Selection\"},\"selection_policy\":{\"id\":\"6f6334ce-065f-419b-b024-ed5b8dcc0ea6\",\"type\":\"UnionRenderers\"}},\"id\":\"bcd55c60-8282-47b0-b10b-f714788e372c\",\"type\":\"ColumnDataSource\"},{\"attributes\":{\"line_alpha\":0.1,\"line_color\":\"#1f77b4\",\"x\":{\"field\":\"x\"},\"y\":{\"field\":\"y\"}},\"id\":\"258c5365-49d6-49f2-9de1-6c175fc8a672\",\"type\":\"Line\"},{\"attributes\":{\"data_source\":{\"id\":\"bcd55c60-8282-47b0-b10b-f714788e372c\",\"type\":\"ColumnDataSource\"},\"glyph\":{\"id\":\"be886319-c171-446e-aca4-549f35b86510\",\"type\":\"Line\"},\"hover_glyph\":null,\"muted_glyph\":null,\"nonselection_glyph\":{\"id\":\"258c5365-49d6-49f2-9de1-6c175fc8a672\",\"type\":\"Line\"},\"selection_glyph\":null,\"view\":{\"id\":\"a58703b0-1771-4182-b0b5-6ab22ecf9b7c\",\"type\":\"CDSView\"}},\"id\":\"0150f1bd-9d1e-486b-b45f-006be5a70a39\",\"type\":\"GlyphRenderer\"},{\"attributes\":{\"source\":{\"id\":\"bcd55c60-8282-47b0-b10b-f714788e372c\",\"type\":\"ColumnDataSource\"}},\"id\":\"a58703b0-1771-4182-b0b5-6ab22ecf9b7c\",\"type\":\"CDSView\"},{\"attributes\":{\"x\":{\"field\":\"x\"},\"y\":{\"field\":\"y\"}},\"id\":\"b5984327-eec9-4857-a5c9-3dab05a83aea\",\"type\":\"Line\"},{\"attributes\":{\"callback\":null,\"data\":{\"x\":[6.5,6.5],\"y\":[8.55,7.9]},\"selected\":{\"id\":\"36c5fa5b-1cf4-43ca-91e1-704f7663c26d\",\"type\":\"Selection\"},\"selection_policy\":{\"id\":\"2ae24113-4e5e-43b7-8c7d-e74219dc3de2\",\"type\":\"UnionRenderers\"}},\"id\":\"881d1f74-d68a-4199-9c0e-3032cfb86a39\",\"type\":\"ColumnDataSource\"},{\"attributes\":{\"line_alpha\":0.1,\"line_color\":\"#1f77b4\",\"x\":{\"field\":\"x\"},\"y\":{\"field\":\"y\"}},\"id\":\"e3873a12-fd12-4f34-9d7f-802dfdfabc50\",\"type\":\"Line\"},{\"attributes\":{\"data_source\":{\"id\":\"881d1f74-d68a-4199-9c0e-3032cfb86a39\",\"type\":\"ColumnDataSource\"},\"glyph\":{\"id\":\"b5984327-eec9-4857-a5c9-3dab05a83aea\",\"type\":\"Line\"},\"hover_glyph\":null,\"muted_glyph\":null,\"nonselection_glyph\":{\"id\":\"e3873a12-fd12-4f34-9d7f-802dfdfabc50\",\"type\":\"Line\"},\"selection_glyph\":null,\"view\":{\"id\":\"f2cb8391-36ce-4558-8b49-8353fba10fea\",\"type\":\"CDSView\"}},\"id\":\"cf5df2b0-7752-48b4-bae7-23c075b52827\",\"type\":\"GlyphRenderer\"},{\"attributes\":{\"source\":{\"id\":\"881d1f74-d68a-4199-9c0e-3032cfb86a39\",\"type\":\"ColumnDataSource\"}},\"id\":\"f2cb8391-36ce-4558-8b49-8353fba10fea\",\"type\":\"CDSView\"},{\"attributes\":{\"x\":{\"field\":\"x\"},\"y\":{\"field\":\"y\"}},\"id\":\"7bec06b0-d08f-42af-b306-d31067620754\",\"type\":\"Line\"},{\"attributes\":{\"callback\":null,\"data\":{\"x\":[6.5,6.5],\"y\":[9.25,10.299999999999999]},\"selected\":{\"id\":\"e8a31e41-9412-4d2e-89fb-3558a6f2b245\",\"type\":\"Selection\"},\"selection_policy\":{\"id\":\"61ddec75-dac8-4ce8-8a96-3e183ad4acad\",\"type\":\"UnionRenderers\"}},\"id\":\"02c7f877-59a0-40d7-93b5-a8960681f75e\",\"type\":\"ColumnDataSource\"},{\"attributes\":{\"line_alpha\":0.1,\"line_color\":\"#1f77b4\",\"x\":{\"field\":\"x\"},\"y\":{\"field\":\"y\"}},\"id\":\"bdfe3e1b-1f46-48a8-a817-fe593b1be3af\",\"type\":\"Line\"},{\"attributes\":{\"data_source\":{\"id\":\"02c7f877-59a0-40d7-93b5-a8960681f75e\",\"type\":\"ColumnDataSource\"},\"glyph\":{\"id\":\"7bec06b0-d08f-42af-b306-d31067620754\",\"type\":\"Line\"},\"hover_glyph\":null,\"muted_glyph\":null,\"nonselection_glyph\":{\"id\":\"bdfe3e1b-1f46-48a8-a817-fe593b1be3af\",\"type\":\"Line\"},\"selection_glyph\":null,\"view\":{\"id\":\"4356d967-a120-4b3c-938b-e48b7742f729\",\"type\":\"CDSView\"}},\"id\":\"938ac077-d643-4251-812f-83f30eaedb90\",\"type\":\"GlyphRenderer\"},{\"attributes\":{\"source\":{\"id\":\"02c7f877-59a0-40d7-93b5-a8960681f75e\",\"type\":\"ColumnDataSource\"}},\"id\":\"4356d967-a120-4b3c-938b-e48b7742f729\",\"type\":\"CDSView\"},{\"attributes\":{\"x\":{\"field\":\"x\"},\"y\":{\"value\":7.9}},\"id\":\"23433106-78a4-4b78-b85e-24044f95835d\",\"type\":\"Line\"},{\"attributes\":{\"callback\":null,\"data\":{\"x\":[6.4,6.6]},\"selected\":{\"id\":\"330a49e4-def8-474e-a431-d24ec670ee26\",\"type\":\"Selection\"},\"selection_policy\":{\"id\":\"67225674-31c3-478a-9e44-e23bd329cf66\",\"type\":\"UnionRenderers\"}},\"id\":\"ab94181e-6694-4e5a-bf10-bf25f01a075f\",\"type\":\"ColumnDataSource\"},{\"attributes\":{\"line_alpha\":0.1,\"line_color\":\"#1f77b4\",\"x\":{\"field\":\"x\"},\"y\":{\"value\":7.9}},\"id\":\"5e489cc8-0b24-43fa-9a5c-ed43f09b6305\",\"type\":\"Line\"},{\"attributes\":{\"x\":{\"field\":\"x\"},\"y\":{\"value\":10.299999999999999}},\"id\":\"15734379-fb1a-454b-8c37-5620a65efa7d\",\"type\":\"Line\"},{\"attributes\":{\"data_source\":{\"id\":\"ab94181e-6694-4e5a-bf10-bf25f01a075f\",\"type\":\"ColumnDataSource\"},\"glyph\":{\"id\":\"23433106-78a4-4b78-b85e-24044f95835d\",\"type\":\"Line\"},\"hover_glyph\":null,\"muted_glyph\":null,\"nonselection_glyph\":{\"id\":\"5e489cc8-0b24-43fa-9a5c-ed43f09b6305\",\"type\":\"Line\"},\"selection_glyph\":null,\"view\":{\"id\":\"50ce4fca-81d2-4db7-afc4-3c20c8605537\",\"type\":\"CDSView\"}},\"id\":\"ce8fad60-7dce-401d-bea6-05c41fe3c303\",\"type\":\"GlyphRenderer\"},{\"attributes\":{\"line_alpha\":0.1,\"line_color\":\"#1f77b4\",\"x\":{\"field\":\"x\"},\"y\":{\"value\":10.299999999999999}},\"id\":\"90f04125-d3a2-4ff3-b3a3-fdef1c6ab599\",\"type\":\"Line\"},{\"attributes\":{\"fill_color\":{\"value\":\"black\"},\"x\":{\"field\":\"x\"},\"y\":{\"field\":\"y\"}},\"id\":\"67de0c43-47be-456b-988e-587f36c9b409\",\"type\":\"Circle\"},{\"attributes\":{\"data_source\":{\"id\":\"51d25179-10a0-4ab3-b1f1-e47b87ef82e7\",\"type\":\"ColumnDataSource\"},\"glyph\":{\"id\":\"15734379-fb1a-454b-8c37-5620a65efa7d\",\"type\":\"Line\"},\"hover_glyph\":null,\"muted_glyph\":null,\"nonselection_glyph\":{\"id\":\"90f04125-d3a2-4ff3-b3a3-fdef1c6ab599\",\"type\":\"Line\"},\"selection_glyph\":null,\"view\":{\"id\":\"d63fc00f-5747-4be5-94cd-c01b68a50263\",\"type\":\"CDSView\"}},\"id\":\"24604dfa-9c75-40e2-9ffd-c446b5201e08\",\"type\":\"GlyphRenderer\"},{\"attributes\":{\"source\":{\"id\":\"ab94181e-6694-4e5a-bf10-bf25f01a075f\",\"type\":\"ColumnDataSource\"}},\"id\":\"50ce4fca-81d2-4db7-afc4-3c20c8605537\",\"type\":\"CDSView\"},{\"attributes\":{\"callback\":null,\"data\":{\"x\":[6.4,6.6]},\"selected\":{\"id\":\"ff4e7cab-c790-4f89-8bac-b8cd988abf6e\",\"type\":\"Selection\"},\"selection_policy\":{\"id\":\"e0503743-ccf3-4c36-a4ed-25a80074ff71\",\"type\":\"UnionRenderers\"}},\"id\":\"51d25179-10a0-4ab3-b1f1-e47b87ef82e7\",\"type\":\"ColumnDataSource\"},{\"attributes\":{\"fill_alpha\":{\"value\":0.1},\"fill_color\":{\"value\":\"#1f77b4\"},\"line_alpha\":{\"value\":0.1},\"line_color\":{\"value\":\"#1f77b4\"},\"x\":{\"field\":\"x\"},\"y\":{\"field\":\"y\"}},\"id\":\"fb0486b0-c50c-4db2-8a01-8ce2ba1ceae7\",\"type\":\"Circle\"},{\"attributes\":{\"data_source\":{\"id\":\"2e46c2da-e5bc-4ee3-964f-cebac0a84ebb\",\"type\":\"ColumnDataSource\"},\"glyph\":{\"id\":\"67de0c43-47be-456b-988e-587f36c9b409\",\"type\":\"Circle\"},\"hover_glyph\":null,\"muted_glyph\":null,\"nonselection_glyph\":{\"id\":\"fb0486b0-c50c-4db2-8a01-8ce2ba1ceae7\",\"type\":\"Circle\"},\"selection_glyph\":null,\"view\":{\"id\":\"c46365de-dc73-4d4b-8498-755de3b863d8\",\"type\":\"CDSView\"}},\"id\":\"f0c21df9-eec6-4b5d-87d1-9e0e8fe2189c\",\"type\":\"GlyphRenderer\"},{\"attributes\":{\"source\":{\"id\":\"2e46c2da-e5bc-4ee3-964f-cebac0a84ebb\",\"type\":\"ColumnDataSource\"}},\"id\":\"c46365de-dc73-4d4b-8498-755de3b863d8\",\"type\":\"CDSView\"},{\"attributes\":{\"source\":{\"id\":\"51d25179-10a0-4ab3-b1f1-e47b87ef82e7\",\"type\":\"ColumnDataSource\"}},\"id\":\"d63fc00f-5747-4be5-94cd-c01b68a50263\",\"type\":\"CDSView\"},{\"attributes\":{\"callback\":null,\"data\":{\"x\":[6.5,6.5],\"y\":{\"__ndarray__\":\"zczMzMzMJEDNzMzMzMwkQA==\",\"dtype\":\"float64\",\"shape\":[2]}},\"selected\":{\"id\":\"b995db19-623e-4bd9-9b6d-86bb9d6184e1\",\"type\":\"Selection\"},\"selection_policy\":{\"id\":\"fa5f349f-841d-416b-ae6f-cfac10bcc49b\",\"type\":\"UnionRenderers\"}},\"id\":\"2e46c2da-e5bc-4ee3-964f-cebac0a84ebb\",\"type\":\"ColumnDataSource\"},{\"attributes\":{\"callback\":null,\"data\":{\"x\":[7.25,7.75],\"y\":[9.13,9.13]},\"selected\":{\"id\":\"1f3d5304-21d4-4343-ab0d-7dfee5bd36a6\",\"type\":\"Selection\"},\"selection_policy\":{\"id\":\"b2e4b15b-d7e7-4c2e-b93b-e46cb6a18535\",\"type\":\"UnionRenderers\"}},\"id\":\"158562dc-ec9a-4239-bdb4-c4ff988d2850\",\"type\":\"ColumnDataSource\"},{\"attributes\":{\"bottom\":{\"value\":8.9},\"fill_color\":{\"value\":\"#7f7f7f\"},\"left\":{\"value\":7.25},\"right\":{\"value\":7.75},\"top\":{\"value\":9.385}},\"id\":\"13d31ba4-2c6b-457c-af8d-41a71394acb0\",\"type\":\"Quad\"},{\"attributes\":{\"bottom\":{\"value\":8.9},\"fill_alpha\":{\"value\":0.1},\"fill_color\":{\"value\":\"#1f77b4\"},\"left\":{\"value\":7.25},\"line_alpha\":{\"value\":0.1},\"line_color\":{\"value\":\"#1f77b4\"},\"right\":{\"value\":7.75},\"top\":{\"value\":9.385}},\"id\":\"20a09808-dddf-4db7-ab65-f1ea0a3465ab\",\"type\":\"Quad\"},{\"attributes\":{\"callback\":null,\"data\":{},\"selected\":{\"id\":\"dedd5d07-a475-4c38-bd6b-a9d7063942f5\",\"type\":\"Selection\"},\"selection_policy\":{\"id\":\"e46edc8f-dc75-40cd-811a-4337d3de2f70\",\"type\":\"UnionRenderers\"}},\"id\":\"7f465ae9-8653-4801-9bf0-67f651c8a112\",\"type\":\"ColumnDataSource\"},{\"attributes\":{\"data_source\":{\"id\":\"7f465ae9-8653-4801-9bf0-67f651c8a112\",\"type\":\"ColumnDataSource\"},\"glyph\":{\"id\":\"13d31ba4-2c6b-457c-af8d-41a71394acb0\",\"type\":\"Quad\"},\"hover_glyph\":null,\"muted_glyph\":null,\"nonselection_glyph\":{\"id\":\"20a09808-dddf-4db7-ab65-f1ea0a3465ab\",\"type\":\"Quad\"},\"selection_glyph\":null,\"view\":{\"id\":\"15d484bb-09c4-47cb-8534-ffd16538c2b7\",\"type\":\"CDSView\"}},\"id\":\"f79a4421-1448-481d-bec8-5106e3bb264b\",\"type\":\"GlyphRenderer\"},{\"attributes\":{\"source\":{\"id\":\"7f465ae9-8653-4801-9bf0-67f651c8a112\",\"type\":\"ColumnDataSource\"}},\"id\":\"15d484bb-09c4-47cb-8534-ffd16538c2b7\",\"type\":\"CDSView\"},{\"attributes\":{\"bottom\":{\"value\":8.85},\"fill_alpha\":{\"value\":0.1},\"fill_color\":{\"value\":\"#1f77b4\"},\"left\":{\"value\":0.25},\"line_alpha\":{\"value\":0.1},\"line_color\":{\"value\":\"#1f77b4\"},\"right\":{\"value\":0.75},\"top\":{\"value\":10.15}},\"id\":\"a5435c3e-2c33-4517-b3ae-e7650d675abe\",\"type\":\"Quad\"},{\"attributes\":{\"x\":{\"field\":\"x\"},\"y\":{\"field\":\"y\"}},\"id\":\"66d65a5a-3198-4e45-82fb-62f83d5fcc79\",\"type\":\"Line\"},{\"attributes\":{},\"id\":\"a5e9da6a-2030-4600-af57-696f39c48084\",\"type\":\"Selection\"},{\"attributes\":{\"callback\":null,\"data\":{},\"selected\":{\"id\":\"679e68b5-5a0e-4cf9-9251-207f76aee484\",\"type\":\"Selection\"},\"selection_policy\":{\"id\":\"11519d99-ff45-4907-9725-4548f6db80ac\",\"type\":\"UnionRenderers\"}},\"id\":\"0428e60c-5511-4ec0-8008-22da1b680172\",\"type\":\"ColumnDataSource\"},{\"attributes\":{},\"id\":\"11519d99-ff45-4907-9725-4548f6db80ac\",\"type\":\"UnionRenderers\"},{\"attributes\":{\"x\":{\"field\":\"x\"},\"y\":{\"value\":7.95}},\"id\":\"4075d73b-060f-4e01-a032-2f48079e1574\",\"type\":\"Line\"},{\"attributes\":{\"line_alpha\":0.1,\"line_color\":\"#1f77b4\",\"x\":{\"field\":\"x\"},\"y\":{\"field\":\"y\"}},\"id\":\"1d8b79a5-6274-4bb0-8e1e-5865e1873ad1\",\"type\":\"Line\"},{\"attributes\":{},\"id\":\"26819a3b-ff99-4a9d-8e76-393a052a3ca8\",\"type\":\"UnionRenderers\"},{\"attributes\":{\"data_source\":{\"id\":\"4a646065-7a80-4d1f-892c-8c6dc27aabcc\",\"type\":\"ColumnDataSource\"},\"glyph\":{\"id\":\"66d65a5a-3198-4e45-82fb-62f83d5fcc79\",\"type\":\"Line\"},\"hover_glyph\":null,\"muted_glyph\":null,\"nonselection_glyph\":{\"id\":\"1d8b79a5-6274-4bb0-8e1e-5865e1873ad1\",\"type\":\"Line\"},\"selection_glyph\":null,\"view\":{\"id\":\"91169957-aaa7-4fce-bd01-0a5b9fb6792d\",\"type\":\"CDSView\"}},\"id\":\"6762daab-5f05-4fb4-a6b6-dd5ce97a950b\",\"type\":\"GlyphRenderer\"},{\"attributes\":{\"bottom\":{\"value\":8.85},\"fill_color\":{\"value\":\"#1f77b4\"},\"left\":{\"value\":0.25},\"right\":{\"value\":0.75},\"top\":{\"value\":10.15}},\"id\":\"9322cfa1-79bb-498e-b099-957eb5d97b62\",\"type\":\"Quad\"},{\"attributes\":{},\"id\":\"66affbb1-7c28-4784-be84-0f56e4c9e65c\",\"type\":\"Selection\"},{\"attributes\":{\"data_source\":{\"id\":\"0428e60c-5511-4ec0-8008-22da1b680172\",\"type\":\"ColumnDataSource\"},\"glyph\":{\"id\":\"9322cfa1-79bb-498e-b099-957eb5d97b62\",\"type\":\"Quad\"},\"hover_glyph\":null,\"muted_glyph\":null,\"nonselection_glyph\":{\"id\":\"a5435c3e-2c33-4517-b3ae-e7650d675abe\",\"type\":\"Quad\"},\"selection_glyph\":null,\"view\":{\"id\":\"3e106dca-27a5-4938-a7bb-190c004f55f1\",\"type\":\"CDSView\"}},\"id\":\"d5feb73c-074f-4b84-aa73-a42300d89343\",\"type\":\"GlyphRenderer\"},{\"attributes\":{\"source\":{\"id\":\"4a646065-7a80-4d1f-892c-8c6dc27aabcc\",\"type\":\"ColumnDataSource\"}},\"id\":\"91169957-aaa7-4fce-bd01-0a5b9fb6792d\",\"type\":\"CDSView\"},{\"attributes\":{},\"id\":\"8d1c6b1c-d271-48fd-b4e5-9aed7d894166\",\"type\":\"UnionRenderers\"},{\"attributes\":{\"callback\":null,\"data\":{\"x\":[0.5,0.5],\"y\":[8.85,7.95]},\"selected\":{\"id\":\"035d5d0e-00cd-4a27-8aa6-f36d108d4b20\",\"type\":\"Selection\"},\"selection_policy\":{\"id\":\"5370ec01-2cac-4890-8f92-99276eebad54\",\"type\":\"UnionRenderers\"}},\"id\":\"170a5771-cebf-4ba0-9c1a-e621e7e71cf9\",\"type\":\"ColumnDataSource\"},{\"attributes\":{\"x\":{\"field\":\"x\"},\"y\":{\"field\":\"y\"}},\"id\":\"a79f08b7-aeab-4a92-8dc0-e501e2279f51\",\"type\":\"Line\"},{\"attributes\":{},\"id\":\"ecdbe48f-e9e8-4971-ad52-daa60594a19d\",\"type\":\"Selection\"},{\"attributes\":{\"source\":{\"id\":\"0428e60c-5511-4ec0-8008-22da1b680172\",\"type\":\"ColumnDataSource\"}},\"id\":\"3e106dca-27a5-4938-a7bb-190c004f55f1\",\"type\":\"CDSView\"},{\"attributes\":{\"callback\":null,\"data\":{\"x\":[4.5,4.5],\"y\":[8.1,7.2]},\"selected\":{\"id\":\"73163aeb-2489-4cc0-9a9b-7181b4d137f6\",\"type\":\"Selection\"},\"selection_policy\":{\"id\":\"20673e29-e713-4cef-af3f-1ef90d123f6f\",\"type\":\"UnionRenderers\"}},\"id\":\"b2847433-5ace-40b5-8ad2-92c56b3ffd0b\",\"type\":\"ColumnDataSource\"},{\"attributes\":{},\"id\":\"6dfdccc2-db25-4fbc-bd27-e9e81659fece\",\"type\":\"UnionRenderers\"},{\"attributes\":{\"x\":{\"field\":\"x\"},\"y\":{\"field\":\"y\"}},\"id\":\"3794b6db-4fa1-437b-9f0d-30c2bee04b35\",\"type\":\"Line\"},{\"attributes\":{\"line_alpha\":0.1,\"line_color\":\"#1f77b4\",\"x\":{\"field\":\"x\"},\"y\":{\"field\":\"y\"}},\"id\":\"78855443-9e46-436e-ad8f-f08b533b36d5\",\"type\":\"Line\"},{\"attributes\":{},\"id\":\"37d6ce41-49a2-4fbb-87cb-6a7c2d82810c\",\"type\":\"Selection\"},{\"attributes\":{\"data_source\":{\"id\":\"b2847433-5ace-40b5-8ad2-92c56b3ffd0b\",\"type\":\"ColumnDataSource\"},\"glyph\":{\"id\":\"a79f08b7-aeab-4a92-8dc0-e501e2279f51\",\"type\":\"Line\"},\"hover_glyph\":null,\"muted_glyph\":null,\"nonselection_glyph\":{\"id\":\"78855443-9e46-436e-ad8f-f08b533b36d5\",\"type\":\"Line\"},\"selection_glyph\":null,\"view\":{\"id\":\"00c40c41-7bdb-4572-9bd4-219f66c31dec\",\"type\":\"CDSView\"}},\"id\":\"260408fa-0a3d-45c2-b17d-46f262babea1\",\"type\":\"GlyphRenderer\"},{\"attributes\":{\"line_alpha\":0.1,\"line_color\":\"#1f77b4\",\"x\":{\"field\":\"x\"},\"y\":{\"field\":\"y\"}},\"id\":\"734f3681-dabd-46d7-b9f8-94a4fe8bf4b5\",\"type\":\"Line\"},{\"attributes\":{},\"id\":\"9ae49e94-baf2-40f6-a082-5377cbd1ea21\",\"type\":\"UnionRenderers\"},{\"attributes\":{\"data_source\":{\"id\":\"da13c3d4-8637-40cc-8e4d-1283758d0d2e\",\"type\":\"ColumnDataSource\"},\"glyph\":{\"id\":\"c8efdd0a-31e0-4b2a-b9ee-35e13c64169d\",\"type\":\"Line\"},\"hover_glyph\":null,\"muted_glyph\":null,\"nonselection_glyph\":{\"id\":\"734f3681-dabd-46d7-b9f8-94a4fe8bf4b5\",\"type\":\"Line\"},\"selection_glyph\":null,\"view\":{\"id\":\"29842bf7-ddda-4d74-b3ee-f33df1b19d50\",\"type\":\"CDSView\"}},\"id\":\"65fb0e1f-739d-4005-a8a4-3b229851561e\",\"type\":\"GlyphRenderer\"},{\"attributes\":{\"source\":{\"id\":\"b2847433-5ace-40b5-8ad2-92c56b3ffd0b\",\"type\":\"ColumnDataSource\"}},\"id\":\"00c40c41-7bdb-4572-9bd4-219f66c31dec\",\"type\":\"CDSView\"},{\"attributes\":{},\"id\":\"c0dfbc7e-f3fc-422d-8900-ff20c573d8d2\",\"type\":\"Selection\"},{\"attributes\":{\"source\":{\"id\":\"da13c3d4-8637-40cc-8e4d-1283758d0d2e\",\"type\":\"ColumnDataSource\"}},\"id\":\"29842bf7-ddda-4d74-b3ee-f33df1b19d50\",\"type\":\"CDSView\"},{\"attributes\":{\"x\":{\"field\":\"x\"},\"y\":{\"field\":\"y\"}},\"id\":\"5b4b7c9f-79b8-4a2b-a6a6-e57972baa07f\",\"type\":\"Line\"},{\"attributes\":{},\"id\":\"ab8bc63e-9b46-4d28-807c-2e0d2078a145\",\"type\":\"UnionRenderers\"},{\"attributes\":{\"x\":{\"field\":\"x\"},\"y\":{\"field\":\"y\"}},\"id\":\"c8efdd0a-31e0-4b2a-b9ee-35e13c64169d\",\"type\":\"Line\"},{\"attributes\":{\"callback\":null,\"data\":{\"x\":[4.5,4.5],\"y\":[9.0,10.350000000000001]},\"selected\":{\"id\":\"9f0f6c67-b4d7-40a5-8449-027856e7dc5b\",\"type\":\"Selection\"},\"selection_policy\":{\"id\":\"8b782948-955b-4574-8b3d-fdcff47e8c51\",\"type\":\"UnionRenderers\"}},\"id\":\"d76af00b-18fa-408f-8964-b015606c5639\",\"type\":\"ColumnDataSource\"},{\"attributes\":{},\"id\":\"cc8fa506-d01d-46e4-9074-52dabad9a9a2\",\"type\":\"Selection\"},{\"attributes\":{\"callback\":null,\"data\":{\"x\":[0.25,0.75],\"y\":[9.65,9.65]},\"selected\":{\"id\":\"6360863c-d3df-41cd-89da-b437054ebfa6\",\"type\":\"Selection\"},\"selection_policy\":{\"id\":\"2115c794-ecb5-4754-8e0e-3da2a689fbfb\",\"type\":\"UnionRenderers\"}},\"id\":\"da13c3d4-8637-40cc-8e4d-1283758d0d2e\",\"type\":\"ColumnDataSource\"},{\"attributes\":{\"line_alpha\":0.1,\"line_color\":\"#1f77b4\",\"x\":{\"field\":\"x\"},\"y\":{\"field\":\"y\"}},\"id\":\"c1621c4b-b0c1-4588-8002-7c3708ff7d1b\",\"type\":\"Line\"},{\"attributes\":{},\"id\":\"930ea187-f5f2-44d8-a89f-a2d8504c4c88\",\"type\":\"UnionRenderers\"},{\"attributes\":{\"data_source\":{\"id\":\"d76af00b-18fa-408f-8964-b015606c5639\",\"type\":\"ColumnDataSource\"},\"glyph\":{\"id\":\"5b4b7c9f-79b8-4a2b-a6a6-e57972baa07f\",\"type\":\"Line\"},\"hover_glyph\":null,\"muted_glyph\":null,\"nonselection_glyph\":{\"id\":\"c1621c4b-b0c1-4588-8002-7c3708ff7d1b\",\"type\":\"Line\"},\"selection_glyph\":null,\"view\":{\"id\":\"81125bb3-e7a8-4650-9f64-aa36c6a19a4f\",\"type\":\"CDSView\"}},\"id\":\"92c5efe1-65d7-4384-aa72-81eb418bf0b2\",\"type\":\"GlyphRenderer\"},{\"attributes\":{\"line_alpha\":0.1,\"line_color\":\"#1f77b4\",\"x\":{\"field\":\"x\"},\"y\":{\"field\":\"y\"}},\"id\":\"71d1728d-fda1-47ec-9acd-fc8a8464cd50\",\"type\":\"Line\"},{\"attributes\":{},\"id\":\"f16290f9-995f-4b9c-82a6-2194b0da8925\",\"type\":\"Selection\"},{\"attributes\":{\"x\":{\"field\":\"x\"},\"y\":{\"value\":12.100000000000001}},\"id\":\"80c02595-d9b4-4832-891c-6572301a8d1b\",\"type\":\"Line\"},{\"attributes\":{\"source\":{\"id\":\"d76af00b-18fa-408f-8964-b015606c5639\",\"type\":\"ColumnDataSource\"}},\"id\":\"81125bb3-e7a8-4650-9f64-aa36c6a19a4f\",\"type\":\"CDSView\"},{\"attributes\":{},\"id\":\"6623cb3e-3e32-4c98-8936-2ea0aedeb6eb\",\"type\":\"UnionRenderers\"},{\"attributes\":{\"data_source\":{\"id\":\"170a5771-cebf-4ba0-9c1a-e621e7e71cf9\",\"type\":\"ColumnDataSource\"},\"glyph\":{\"id\":\"3794b6db-4fa1-437b-9f0d-30c2bee04b35\",\"type\":\"Line\"},\"hover_glyph\":null,\"muted_glyph\":null,\"nonselection_glyph\":{\"id\":\"71d1728d-fda1-47ec-9acd-fc8a8464cd50\",\"type\":\"Line\"},\"selection_glyph\":null,\"view\":{\"id\":\"1ff82a7e-9424-4497-89e3-240d516a5e4c\",\"type\":\"CDSView\"}},\"id\":\"2db1e7e8-716b-4a08-8399-25e65be876ab\",\"type\":\"GlyphRenderer\"},{\"attributes\":{\"x\":{\"field\":\"x\"},\"y\":{\"value\":7.2}},\"id\":\"059b7599-3c43-4966-b417-ebbae6a99307\",\"type\":\"Line\"},{\"attributes\":{},\"id\":\"ad654e69-e843-4942-9cac-befe93ab5969\",\"type\":\"Selection\"},{\"attributes\":{},\"id\":\"5f09b2b3-5de9-4062-a638-d7d815aa980f\",\"type\":\"BasicTickFormatter\"},{\"attributes\":{\"callback\":null,\"data\":{\"x\":[0.4,0.6]},\"selected\":{\"id\":\"635d0680-3119-4a83-a612-679c58f8b8bf\",\"type\":\"Selection\"},\"selection_policy\":{\"id\":\"af2208ab-2f0d-481f-8a6e-6034c63dcd52\",\"type\":\"UnionRenderers\"}},\"id\":\"0342cb71-d9bf-4074-a988-8984cf040224\",\"type\":\"ColumnDataSource\"},{\"attributes\":{\"callback\":null,\"data\":{\"x\":[4.4,4.6]},\"selected\":{\"id\":\"81bc42ca-02d2-40d1-9139-f96860054f63\",\"type\":\"Selection\"},\"selection_policy\":{\"id\":\"41a09641-1be6-43f3-822b-69c84b8153fd\",\"type\":\"UnionRenderers\"}},\"id\":\"fbf884e0-1eb4-4a41-9f99-d3a8214a7c8d\",\"type\":\"ColumnDataSource\"},{\"attributes\":{},\"id\":\"cd86a619-4ac8-4b6c-a1bb-d297419b6f18\",\"type\":\"UnionRenderers\"},{\"attributes\":{\"line_alpha\":0.1,\"line_color\":\"#1f77b4\",\"x\":{\"field\":\"x\"},\"y\":{\"value\":7.95}},\"id\":\"9cd22898-7692-4243-b3ec-6e0933fd71c4\",\"type\":\"Line\"},{\"attributes\":{\"line_alpha\":0.1,\"line_color\":\"#1f77b4\",\"x\":{\"field\":\"x\"},\"y\":{\"value\":7.2}},\"id\":\"6b33cabc-e70e-45d8-929a-1c6e5b99706c\",\"type\":\"Line\"},{\"attributes\":{},\"id\":\"99bdd92b-12d8-4fe7-a483-051ed17ddd78\",\"type\":\"Selection\"},{\"attributes\":{\"source\":{\"id\":\"170a5771-cebf-4ba0-9c1a-e621e7e71cf9\",\"type\":\"ColumnDataSource\"}},\"id\":\"1ff82a7e-9424-4497-89e3-240d516a5e4c\",\"type\":\"CDSView\"},{\"attributes\":{\"x\":{\"field\":\"x\"},\"y\":{\"value\":10.350000000000001}},\"id\":\"a640254e-c4f8-4d1e-b5e7-514bc7598561\",\"type\":\"Line\"},{\"attributes\":{\"data_source\":{\"id\":\"fbf884e0-1eb4-4a41-9f99-d3a8214a7c8d\",\"type\":\"ColumnDataSource\"},\"glyph\":{\"id\":\"059b7599-3c43-4966-b417-ebbae6a99307\",\"type\":\"Line\"},\"hover_glyph\":null,\"muted_glyph\":null,\"nonselection_glyph\":{\"id\":\"6b33cabc-e70e-45d8-929a-1c6e5b99706c\",\"type\":\"Line\"},\"selection_glyph\":null,\"view\":{\"id\":\"e987e85c-1bf7-4864-a9ee-258cd29de24a\",\"type\":\"CDSView\"}},\"id\":\"84ce1f6d-e617-4a62-b4ab-c3166f616a8b\",\"type\":\"GlyphRenderer\"},{\"attributes\":{\"x\":{\"field\":\"x\"},\"y\":{\"field\":\"y\"}},\"id\":\"e1c5c468-ff84-4805-a942-1d2d6bc3493e\",\"type\":\"Line\"},{\"attributes\":{\"callback\":null,\"data\":{\"x\":[0.5,0.5],\"y\":[10.15,12.100000000000001]},\"selected\":{\"id\":\"1b8df9f0-5869-4a57-a76a-d4e1bb6927ff\",\"type\":\"Selection\"},\"selection_policy\":{\"id\":\"466563f0-f33d-4023-afdc-7210d442399e\",\"type\":\"UnionRenderers\"}},\"id\":\"a9a1aa09-5716-4af7-bc46-ecccbf29d98a\",\"type\":\"ColumnDataSource\"},{\"attributes\":{\"line_alpha\":0.1,\"line_color\":\"#1f77b4\",\"x\":{\"field\":\"x\"},\"y\":{\"value\":10.350000000000001}},\"id\":\"c57467f9-aebb-47a0-bc58-b8374b6b2129\",\"type\":\"Line\"},{\"attributes\":{\"fill_color\":{\"value\":\"black\"},\"x\":{\"field\":\"x\"},\"y\":{\"field\":\"y\"}},\"id\":\"20a0f2e3-5ecc-4628-bbf0-d9dc6be500e1\",\"type\":\"Circle\"},{\"attributes\":{\"data_source\":{\"id\":\"0342cb71-d9bf-4074-a988-8984cf040224\",\"type\":\"ColumnDataSource\"},\"glyph\":{\"id\":\"4075d73b-060f-4e01-a032-2f48079e1574\",\"type\":\"Line\"},\"hover_glyph\":null,\"muted_glyph\":null,\"nonselection_glyph\":{\"id\":\"9cd22898-7692-4243-b3ec-6e0933fd71c4\",\"type\":\"Line\"},\"selection_glyph\":null,\"view\":{\"id\":\"eb86b054-330b-4faf-947c-40246af8e417\",\"type\":\"CDSView\"}},\"id\":\"f285100d-0a33-4902-a5fe-75d0251a3aea\",\"type\":\"GlyphRenderer\"},{\"attributes\":{\"data_source\":{\"id\":\"7a6a9c5b-afd2-486b-9a19-1aa754d50ecd\",\"type\":\"ColumnDataSource\"},\"glyph\":{\"id\":\"a640254e-c4f8-4d1e-b5e7-514bc7598561\",\"type\":\"Line\"},\"hover_glyph\":null,\"muted_glyph\":null,\"nonselection_glyph\":{\"id\":\"c57467f9-aebb-47a0-bc58-b8374b6b2129\",\"type\":\"Line\"},\"selection_glyph\":null,\"view\":{\"id\":\"da7b08f4-b3b8-4cde-8115-644077fa74bb\",\"type\":\"CDSView\"}},\"id\":\"13aa18e5-fb98-46d5-82ea-8f021277d88a\",\"type\":\"GlyphRenderer\"},{\"attributes\":{\"source\":{\"id\":\"fbf884e0-1eb4-4a41-9f99-d3a8214a7c8d\",\"type\":\"ColumnDataSource\"}},\"id\":\"e987e85c-1bf7-4864-a9ee-258cd29de24a\",\"type\":\"CDSView\"},{\"attributes\":{\"line_alpha\":0.1,\"line_color\":\"#1f77b4\",\"x\":{\"field\":\"x\"},\"y\":{\"value\":12.100000000000001}},\"id\":\"58340cdf-923e-4109-be0a-2c4fd097f9a3\",\"type\":\"Line\"},{\"attributes\":{\"callback\":null,\"data\":{\"x\":[4.4,4.6]},\"selected\":{\"id\":\"1be0f38b-f6e9-4ba5-853d-71391b0055ff\",\"type\":\"Selection\"},\"selection_policy\":{\"id\":\"ec71f73c-2c74-4d25-a11b-69fb38147878\",\"type\":\"UnionRenderers\"}},\"id\":\"7a6a9c5b-afd2-486b-9a19-1aa754d50ecd\",\"type\":\"ColumnDataSource\"},{\"attributes\":{\"fill_alpha\":{\"value\":0.1},\"fill_color\":{\"value\":\"#1f77b4\"},\"line_alpha\":{\"value\":0.1},\"line_color\":{\"value\":\"#1f77b4\"},\"x\":{\"field\":\"x\"},\"y\":{\"field\":\"y\"}},\"id\":\"ad34f9af-2067-4964-a1df-9c920f6b255c\",\"type\":\"Circle\"},{\"attributes\":{\"data_source\":{\"id\":\"ed7ccd79-c4d5-4840-9c9d-6ba8c5e2eb9c\",\"type\":\"ColumnDataSource\"},\"glyph\":{\"id\":\"20a0f2e3-5ecc-4628-bbf0-d9dc6be500e1\",\"type\":\"Circle\"},\"hover_glyph\":null,\"muted_glyph\":null,\"nonselection_glyph\":{\"id\":\"ad34f9af-2067-4964-a1df-9c920f6b255c\",\"type\":\"Circle\"},\"selection_glyph\":null,\"view\":{\"id\":\"89f7455b-962c-48cd-a1b0-b3b0902d5915\",\"type\":\"CDSView\"}},\"id\":\"3102c37d-9c05-43d3-9191-7465be18233d\",\"type\":\"GlyphRenderer\"},{\"attributes\":{\"source\":{\"id\":\"4241f6a8-06d2-4e86-918b-227a856719bf\",\"type\":\"ColumnDataSource\"}},\"id\":\"7f6bac33-e5b3-4313-a055-bdec4bde91b4\",\"type\":\"CDSView\"},{\"attributes\":{\"data_source\":{\"id\":\"4241f6a8-06d2-4e86-918b-227a856719bf\",\"type\":\"ColumnDataSource\"},\"glyph\":{\"id\":\"dbb03112-e9b4-4734-b204-8f52456d7c76\",\"type\":\"Circle\"},\"hover_glyph\":null,\"muted_glyph\":null,\"nonselection_glyph\":{\"id\":\"d4b74fec-2149-4669-97be-141917f349ef\",\"type\":\"Circle\"},\"selection_glyph\":null,\"view\":{\"id\":\"7f6bac33-e5b3-4313-a055-bdec4bde91b4\",\"type\":\"CDSView\"}},\"id\":\"6a354379-b06c-49f2-9004-26aa77a7b2fb\",\"type\":\"GlyphRenderer\"},{\"attributes\":{\"source\":{\"id\":\"ed7ccd79-c4d5-4840-9c9d-6ba8c5e2eb9c\",\"type\":\"ColumnDataSource\"}},\"id\":\"89f7455b-962c-48cd-a1b0-b3b0902d5915\",\"type\":\"CDSView\"},{\"attributes\":{\"data_source\":{\"id\":\"24a2814a-e9ac-4fcf-9f32-83b51ce965ca\",\"type\":\"ColumnDataSource\"},\"glyph\":{\"id\":\"80c02595-d9b4-4832-891c-6572301a8d1b\",\"type\":\"Line\"},\"hover_glyph\":null,\"muted_glyph\":null,\"nonselection_glyph\":{\"id\":\"58340cdf-923e-4109-be0a-2c4fd097f9a3\",\"type\":\"Line\"},\"selection_glyph\":null,\"view\":{\"id\":\"46079ce1-5458-476d-90a3-2e79b93b136b\",\"type\":\"CDSView\"}},\"id\":\"8b7e058e-b66d-46bc-a4ed-198a879d2085\",\"type\":\"GlyphRenderer\"},{\"attributes\":{\"source\":{\"id\":\"7a6a9c5b-afd2-486b-9a19-1aa754d50ecd\",\"type\":\"ColumnDataSource\"}},\"id\":\"da7b08f4-b3b8-4cde-8115-644077fa74bb\",\"type\":\"CDSView\"},{\"attributes\":{\"source\":{\"id\":\"0342cb71-d9bf-4074-a988-8984cf040224\",\"type\":\"ColumnDataSource\"}},\"id\":\"eb86b054-330b-4faf-947c-40246af8e417\",\"type\":\"CDSView\"},{\"attributes\":{\"callback\":null,\"data\":{\"x\":[4.5],\"y\":{\"__ndarray__\":\"MzMzMzMzJkA=\",\"dtype\":\"float64\",\"shape\":[1]}},\"selected\":{\"id\":\"7aac8d11-c6ab-4b78-96d3-6d600a8c296f\",\"type\":\"Selection\"},\"selection_policy\":{\"id\":\"db13b578-aa63-43fb-a1de-6bb19804088c\",\"type\":\"UnionRenderers\"}},\"id\":\"ed7ccd79-c4d5-4840-9c9d-6ba8c5e2eb9c\",\"type\":\"ColumnDataSource\"},{\"attributes\":{\"callback\":null,\"data\":{\"x\":[0.4,0.6]},\"selected\":{\"id\":\"e2fecb50-c54c-4b2b-8e9f-0c7208f77e74\",\"type\":\"Selection\"},\"selection_policy\":{\"id\":\"7896eec1-4c7f-4229-843f-fee9aa9cd44d\",\"type\":\"UnionRenderers\"}},\"id\":\"24a2814a-e9ac-4fcf-9f32-83b51ce965ca\",\"type\":\"ColumnDataSource\"},{\"attributes\":{\"source\":{\"id\":\"24a2814a-e9ac-4fcf-9f32-83b51ce965ca\",\"type\":\"ColumnDataSource\"}},\"id\":\"46079ce1-5458-476d-90a3-2e79b93b136b\",\"type\":\"CDSView\"},{\"attributes\":{\"callback\":null,\"data\":{\"x\":[0.5],\"y\":{\"__ndarray__\":\"zczMzMxMKEA=\",\"dtype\":\"float64\",\"shape\":[1]}},\"selected\":{\"id\":\"01ad6631-0b77-423f-9f79-6ef48173d2df\",\"type\":\"Selection\"},\"selection_policy\":{\"id\":\"090f3688-d633-41a8-ab4f-191c3b7834c7\",\"type\":\"UnionRenderers\"}},\"id\":\"4241f6a8-06d2-4e86-918b-227a856719bf\",\"type\":\"ColumnDataSource\"},{\"attributes\":{\"callback\":null},\"id\":\"6658d257-7868-4b88-86f7-637ee0a0cd31\",\"type\":\"DataRange1d\"},{\"attributes\":{\"active_drag\":\"auto\",\"active_inspect\":\"auto\",\"active_scroll\":\"auto\",\"active_tap\":\"auto\",\"tools\":[{\"id\":\"bc191735-8c45-4d1f-ac41-536e810466cb\",\"type\":\"PanTool\"},{\"id\":\"13401fdd-7e99-4438-a08f-974c49f2b392\",\"type\":\"WheelZoomTool\"},{\"id\":\"18e7e5b8-8ff9-44dd-bef4-235f08d2b3c8\",\"type\":\"BoxZoomTool\"},{\"id\":\"c0dee767-e5a2-44ce-a8e3-c784410740f4\",\"type\":\"SaveTool\"},{\"id\":\"049c1e36-ef3a-4cdb-ad93-9c1d1782b6db\",\"type\":\"ResetTool\"},{\"id\":\"5a7bdefd-a036-458b-839f-d3d2028432c2\",\"type\":\"HelpTool\"}]},\"id\":\"de915cd0-c034-4373-ad47-09f84ce2f691\",\"type\":\"Toolbar\"},{\"attributes\":{\"source\":{\"id\":\"1d0e4b0f-9d6e-4371-9415-b41ad01501b5\",\"type\":\"ColumnDataSource\"}},\"id\":\"7d5ac016-d7ef-4706-950a-796b7907705b\",\"type\":\"CDSView\"},{\"attributes\":{\"bottom\":{\"value\":9.15},\"fill_color\":{\"value\":\"#8c564b\"},\"left\":{\"value\":5.25},\"right\":{\"value\":5.75},\"top\":{\"value\":9.85}},\"id\":\"0cbe3c43-6d05-435c-9e0d-a5960c2e0350\",\"type\":\"Quad\"},{\"attributes\":{\"bottom\":{\"value\":9.15},\"fill_alpha\":{\"value\":0.1},\"fill_color\":{\"value\":\"#1f77b4\"},\"left\":{\"value\":5.25},\"line_alpha\":{\"value\":0.1},\"line_color\":{\"value\":\"#1f77b4\"},\"right\":{\"value\":5.75},\"top\":{\"value\":9.85}},\"id\":\"4e1883f5-e7f5-4a13-8264-e308ca19c964\",\"type\":\"Quad\"},{\"attributes\":{\"below\":[{\"id\":\"ad46a437-28f3-4224-a706-a80b7636c29a\",\"type\":\"LinearAxis\"}],\"left\":[{\"id\":\"c7b7827e-1740-4917-9684-4deadea139a8\",\"type\":\"LinearAxis\"}],\"plot_height\":300,\"plot_width\":400,\"renderers\":[{\"id\":\"ad46a437-28f3-4224-a706-a80b7636c29a\",\"type\":\"LinearAxis\"},{\"id\":\"1e0d4a61-354a-44ae-8658-0100dfb4ed4b\",\"type\":\"Grid\"},{\"id\":\"c7b7827e-1740-4917-9684-4deadea139a8\",\"type\":\"LinearAxis\"},{\"id\":\"871256c5-e015-457e-9120-291216dc29a0\",\"type\":\"Grid\"},{\"id\":\"d7251217-5046-435e-b64c-176c234f2b27\",\"type\":\"BoxAnnotation\"},{\"id\":\"d5feb73c-074f-4b84-aa73-a42300d89343\",\"type\":\"GlyphRenderer\"},{\"id\":\"65fb0e1f-739d-4005-a8a4-3b229851561e\",\"type\":\"GlyphRenderer\"},{\"id\":\"2db1e7e8-716b-4a08-8399-25e65be876ab\",\"type\":\"GlyphRenderer\"},{\"id\":\"175cb4ef-f329-4100-b839-1021c07cac9e\",\"type\":\"GlyphRenderer\"},{\"id\":\"f285100d-0a33-4902-a5fe-75d0251a3aea\",\"type\":\"GlyphRenderer\"},{\"id\":\"8b7e058e-b66d-46bc-a4ed-198a879d2085\",\"type\":\"GlyphRenderer\"},{\"id\":\"6a354379-b06c-49f2-9004-26aa77a7b2fb\",\"type\":\"GlyphRenderer\"},{\"id\":\"cb5b4d19-8580-4460-96ce-c45918412152\",\"type\":\"GlyphRenderer\"},{\"id\":\"2773332e-7886-484b-9e24-9c97059955b2\",\"type\":\"GlyphRenderer\"},{\"id\":\"694aefee-db1d-4dcd-a9a7-c156b1b17ca7\",\"type\":\"GlyphRenderer\"},{\"id\":\"1848ad98-e831-4832-af55-c07611cf5799\",\"type\":\"GlyphRenderer\"},{\"id\":\"0e674e75-a433-4a87-9cf4-74313a0d03ec\",\"type\":\"GlyphRenderer\"},{\"id\":\"42ca35a2-cafc-4df5-9b04-7b190f57746d\",\"type\":\"GlyphRenderer\"},{\"id\":\"87999790-c7a0-4861-9443-01b70dfd6c48\",\"type\":\"GlyphRenderer\"},{\"id\":\"7ae1b6f3-f4a5-4187-9e18-c10887bdbe58\",\"type\":\"GlyphRenderer\"},{\"id\":\"0506e516-8085-4765-9a11-34075703cc54\",\"type\":\"GlyphRenderer\"},{\"id\":\"61a4e2fa-b56e-4332-bc1d-0d9e516b9df2\",\"type\":\"GlyphRenderer\"},{\"id\":\"d8e00791-d2ea-4851-9f16-8500842aae5d\",\"type\":\"GlyphRenderer\"},{\"id\":\"df237243-6141-4283-8638-9183287f59d2\",\"type\":\"GlyphRenderer\"},{\"id\":\"9e37a549-59a7-4c2d-97e2-387b04406227\",\"type\":\"GlyphRenderer\"},{\"id\":\"ecef4e69-4d4e-4286-94a0-223e10cfc7cb\",\"type\":\"GlyphRenderer\"},{\"id\":\"92d6746a-f912-40fd-b3ed-e37e9882d33c\",\"type\":\"GlyphRenderer\"},{\"id\":\"df93fede-a938-4816-bfea-640e096f3bb3\",\"type\":\"GlyphRenderer\"},{\"id\":\"ef2560f4-079e-43fe-a380-4039810aedc2\",\"type\":\"GlyphRenderer\"},{\"id\":\"b2bc910b-47f3-45bc-a9e3-d7e65645f2d5\",\"type\":\"GlyphRenderer\"},{\"id\":\"a0ffa5a8-ab15-43d0-bbe5-ec951c073fa9\",\"type\":\"GlyphRenderer\"},{\"id\":\"60df31e7-78f1-4afb-94d3-6b56493d6d7e\",\"type\":\"GlyphRenderer\"},{\"id\":\"b0d71381-8756-4b85-9c14-ef9e89e8e57f\",\"type\":\"GlyphRenderer\"},{\"id\":\"63900f1d-1a93-4b7d-926b-8a97bed4b461\",\"type\":\"GlyphRenderer\"},{\"id\":\"6762daab-5f05-4fb4-a6b6-dd5ce97a950b\",\"type\":\"GlyphRenderer\"},{\"id\":\"260408fa-0a3d-45c2-b17d-46f262babea1\",\"type\":\"GlyphRenderer\"},{\"id\":\"92c5efe1-65d7-4384-aa72-81eb418bf0b2\",\"type\":\"GlyphRenderer\"},{\"id\":\"84ce1f6d-e617-4a62-b4ab-c3166f616a8b\",\"type\":\"GlyphRenderer\"},{\"id\":\"13aa18e5-fb98-46d5-82ea-8f021277d88a\",\"type\":\"GlyphRenderer\"},{\"id\":\"3102c37d-9c05-43d3-9191-7465be18233d\",\"type\":\"GlyphRenderer\"},{\"id\":\"df0a0958-9031-434c-8254-4d96dfe617e0\",\"type\":\"GlyphRenderer\"},{\"id\":\"1cbe55f9-04a5-4b2f-9828-98db34662abc\",\"type\":\"GlyphRenderer\"},{\"id\":\"634f0827-43a5-42ef-b11d-ae8793a58f67\",\"type\":\"GlyphRenderer\"},{\"id\":\"17f8aba7-a738-4bc3-ba3d-e559463074a2\",\"type\":\"GlyphRenderer\"},{\"id\":\"43a2d6cb-2d5b-476e-8ed7-20192848b5bc\",\"type\":\"GlyphRenderer\"},{\"id\":\"c8bb938b-4fa2-45d6-8f39-97e344377e6f\",\"type\":\"GlyphRenderer\"},{\"id\":\"c9cf2357-4e71-40e7-9e68-b0613ed9dfd9\",\"type\":\"GlyphRenderer\"},{\"id\":\"022043c0-c89c-4815-a856-1ab6d67669c4\",\"type\":\"GlyphRenderer\"},{\"id\":\"0150f1bd-9d1e-486b-b45f-006be5a70a39\",\"type\":\"GlyphRenderer\"},{\"id\":\"cf5df2b0-7752-48b4-bae7-23c075b52827\",\"type\":\"GlyphRenderer\"},{\"id\":\"938ac077-d643-4251-812f-83f30eaedb90\",\"type\":\"GlyphRenderer\"},{\"id\":\"ce8fad60-7dce-401d-bea6-05c41fe3c303\",\"type\":\"GlyphRenderer\"},{\"id\":\"24604dfa-9c75-40e2-9ffd-c446b5201e08\",\"type\":\"GlyphRenderer\"},{\"id\":\"f0c21df9-eec6-4b5d-87d1-9e0e8fe2189c\",\"type\":\"GlyphRenderer\"},{\"id\":\"f79a4421-1448-481d-bec8-5106e3bb264b\",\"type\":\"GlyphRenderer\"},{\"id\":\"e0f5df13-dbea-4782-9cad-4acef38ae9b3\",\"type\":\"GlyphRenderer\"},{\"id\":\"d157bf52-1728-44a8-a44d-cf56b52e368f\",\"type\":\"GlyphRenderer\"},{\"id\":\"fcdd5f96-4acb-4580-a0f1-6b51df58c584\",\"type\":\"GlyphRenderer\"},{\"id\":\"eaf3851f-b8c0-463a-afe6-42c9f0043ff2\",\"type\":\"GlyphRenderer\"},{\"id\":\"1ffd597f-cc9a-4987-8027-ee3b0f177a1a\",\"type\":\"GlyphRenderer\"},{\"id\":\"a62f048e-7982-43f4-9343-868fa96195ad\",\"type\":\"GlyphRenderer\"},{\"id\":\"80ad2f46-c617-492a-bf5b-716025ab433f\",\"type\":\"GlyphRenderer\"},{\"id\":\"9a87340f-612e-4559-b7ff-580a90fd3afc\",\"type\":\"GlyphRenderer\"},{\"id\":\"41593ed2-14f1-4cb2-8173-2f7bd4cae3b9\",\"type\":\"GlyphRenderer\"},{\"id\":\"b2ca953e-ed18-459c-81ce-0b7d2f3af708\",\"type\":\"GlyphRenderer\"},{\"id\":\"5a3d7296-6387-4db1-9576-b9c7f7e0fbe2\",\"type\":\"GlyphRenderer\"},{\"id\":\"83464584-22d5-4952-bf75-97fb4f75e783\",\"type\":\"GlyphRenderer\"},{\"id\":\"e93e92f3-b6db-490e-adcf-f6809ba5bf17\",\"type\":\"GlyphRenderer\"},{\"id\":\"4121ce4d-e010-4c2a-8a00-40258e841f6b\",\"type\":\"GlyphRenderer\"},{\"id\":\"01c6c305-0f36-4f4f-b4e6-60c6dee2e7ac\",\"type\":\"GlyphRenderer\"},{\"id\":\"9f56358f-5ea4-4451-b306-edf55455fe38\",\"type\":\"GlyphRenderer\"},{\"id\":\"187f46b0-7364-4213-bd86-87e9a41f0c74\",\"type\":\"GlyphRenderer\"},{\"id\":\"ac6fa6af-7a5d-4ca6-aff3-7e81c345acaf\",\"type\":\"GlyphRenderer\"},{\"id\":\"6cfbf418-4350-4bdb-b0eb-f777704f8ff6\",\"type\":\"GlyphRenderer\"},{\"id\":\"874c98f6-35ca-4e36-bf4e-3939725f5793\",\"type\":\"GlyphRenderer\"}],\"title\":null,\"toolbar\":{\"id\":\"de915cd0-c034-4373-ad47-09f84ce2f691\",\"type\":\"Toolbar\"},\"x_range\":{\"id\":\"6658d257-7868-4b88-86f7-637ee0a0cd31\",\"type\":\"DataRange1d\"},\"x_scale\":{\"id\":\"3302d375-384b-46e6-8579-fb406e4116bb\",\"type\":\"LinearScale\"},\"y_range\":{\"id\":\"c962beba-063c-4f35-8cc9-f56dd19b0024\",\"type\":\"DataRange1d\"},\"y_scale\":{\"id\":\"4bd8b94d-bbee-44a9-8e5b-e20377014af9\",\"type\":\"LinearScale\"}},\"id\":\"b34917d1-d467-4f31-8935-17ca8bb16b43\",\"subtype\":\"Figure\",\"type\":\"Plot\"},{\"attributes\":{\"callback\":null,\"data\":{},\"selected\":{\"id\":\"c500b9f6-2887-497c-8c5f-fb624f871c48\",\"type\":\"Selection\"},\"selection_policy\":{\"id\":\"abf3b433-1586-49b1-ac46-05fd505583c0\",\"type\":\"UnionRenderers\"}},\"id\":\"c3cc4e1d-5e37-40da-a247-daea6ffb186c\",\"type\":\"ColumnDataSource\"},{\"attributes\":{\"data_source\":{\"id\":\"c3cc4e1d-5e37-40da-a247-daea6ffb186c\",\"type\":\"ColumnDataSource\"},\"glyph\":{\"id\":\"0cbe3c43-6d05-435c-9e0d-a5960c2e0350\",\"type\":\"Quad\"},\"hover_glyph\":null,\"muted_glyph\":null,\"nonselection_glyph\":{\"id\":\"4e1883f5-e7f5-4a13-8264-e308ca19c964\",\"type\":\"Quad\"},\"selection_glyph\":null,\"view\":{\"id\":\"d4fa3958-61f1-4138-b202-d77f034fccfd\",\"type\":\"CDSView\"}},\"id\":\"df0a0958-9031-434c-8254-4d96dfe617e0\",\"type\":\"GlyphRenderer\"},{\"attributes\":{\"source\":{\"id\":\"c3cc4e1d-5e37-40da-a247-daea6ffb186c\",\"type\":\"ColumnDataSource\"}},\"id\":\"d4fa3958-61f1-4138-b202-d77f034fccfd\",\"type\":\"CDSView\"},{\"attributes\":{\"x\":{\"field\":\"x\"},\"y\":{\"field\":\"y\"}},\"id\":\"8d406152-2c92-45c3-a984-157928f9b730\",\"type\":\"Line\"},{\"attributes\":{\"callback\":null,\"data\":{\"x\":[5.25,5.75],\"y\":[9.55,9.55]},\"selected\":{\"id\":\"25ee7bc1-f3f9-4e50-8991-4970a74d7640\",\"type\":\"Selection\"},\"selection_policy\":{\"id\":\"482c211e-2bb9-40c7-b247-f3ebd47b26c3\",\"type\":\"UnionRenderers\"}},\"id\":\"987138c4-2d7b-4c4d-b2bb-cf9b9522648c\",\"type\":\"ColumnDataSource\"},{\"attributes\":{\"line_alpha\":0.1,\"line_color\":\"#1f77b4\",\"x\":{\"field\":\"x\"},\"y\":{\"field\":\"y\"}},\"id\":\"76608ccd-39dc-46ba-8208-9e2a1b8191dc\",\"type\":\"Line\"},{\"attributes\":{\"data_source\":{\"id\":\"987138c4-2d7b-4c4d-b2bb-cf9b9522648c\",\"type\":\"ColumnDataSource\"},\"glyph\":{\"id\":\"8d406152-2c92-45c3-a984-157928f9b730\",\"type\":\"Line\"},\"hover_glyph\":null,\"muted_glyph\":null,\"nonselection_glyph\":{\"id\":\"76608ccd-39dc-46ba-8208-9e2a1b8191dc\",\"type\":\"Line\"},\"selection_glyph\":null,\"view\":{\"id\":\"e56d8f4a-ec23-4036-be3c-51e6560f9dd1\",\"type\":\"CDSView\"}},\"id\":\"1cbe55f9-04a5-4b2f-9828-98db34662abc\",\"type\":\"GlyphRenderer\"},{\"attributes\":{\"source\":{\"id\":\"987138c4-2d7b-4c4d-b2bb-cf9b9522648c\",\"type\":\"ColumnDataSource\"}},\"id\":\"e56d8f4a-ec23-4036-be3c-51e6560f9dd1\",\"type\":\"CDSView\"},{\"attributes\":{\"x\":{\"field\":\"x\"},\"y\":{\"field\":\"y\"}},\"id\":\"f8cea21a-dfec-424d-b53d-213ddf2044ee\",\"type\":\"Line\"},{\"attributes\":{\"callback\":null,\"data\":{\"x\":[5.5,5.5],\"y\":[9.15,8.100000000000001]},\"selected\":{\"id\":\"1b4bd78a-c04b-4db6-840d-59081e1aab62\",\"type\":\"Selection\"},\"selection_policy\":{\"id\":\"18b9e811-bda2-4029-b422-5c9e2b7e7dd4\",\"type\":\"UnionRenderers\"}},\"id\":\"cfe34cb0-edaa-416c-b52d-eb92353d2689\",\"type\":\"ColumnDataSource\"},{\"attributes\":{\"line_alpha\":0.1,\"line_color\":\"#1f77b4\",\"x\":{\"field\":\"x\"},\"y\":{\"field\":\"y\"}},\"id\":\"0f617594-b2c0-440d-a6b3-7f43ca7b5742\",\"type\":\"Line\"},{\"attributes\":{\"data_source\":{\"id\":\"cfe34cb0-edaa-416c-b52d-eb92353d2689\",\"type\":\"ColumnDataSource\"},\"glyph\":{\"id\":\"f8cea21a-dfec-424d-b53d-213ddf2044ee\",\"type\":\"Line\"},\"hover_glyph\":null,\"muted_glyph\":null,\"nonselection_glyph\":{\"id\":\"0f617594-b2c0-440d-a6b3-7f43ca7b5742\",\"type\":\"Line\"},\"selection_glyph\":null,\"view\":{\"id\":\"c7791cf6-dbc5-4776-9e44-f2aa9162d343\",\"type\":\"CDSView\"}},\"id\":\"634f0827-43a5-42ef-b11d-ae8793a58f67\",\"type\":\"GlyphRenderer\"},{\"attributes\":{\"callback\":null,\"data\":{\"x\":[1.25,1.75],\"y\":[9.2,9.2]},\"selected\":{\"id\":\"c7bbc081-5852-4d97-bfab-1475d49f8d40\",\"type\":\"Selection\"},\"selection_policy\":{\"id\":\"a4bea568-84ec-4c4e-82b5-d2a6be08cccd\",\"type\":\"UnionRenderers\"}},\"id\":\"b98b6b41-6abe-4011-9e2f-8ba794a6f1e0\",\"type\":\"ColumnDataSource\"},{\"attributes\":{\"source\":{\"id\":\"cfe34cb0-edaa-416c-b52d-eb92353d2689\",\"type\":\"ColumnDataSource\"}},\"id\":\"c7791cf6-dbc5-4776-9e44-f2aa9162d343\",\"type\":\"CDSView\"},{\"attributes\":{\"x\":{\"field\":\"x\"},\"y\":{\"field\":\"y\"}},\"id\":\"b257b8b4-ce12-4bc5-881b-3f94d377b0bf\",\"type\":\"Line\"},{\"attributes\":{\"callback\":null,\"data\":{\"x\":[5.5,5.5],\"y\":[9.85,10.65]},\"selected\":{\"id\":\"e43c6242-828d-42c2-81ec-5060e7dbf71c\",\"type\":\"Selection\"},\"selection_policy\":{\"id\":\"fcb146c8-c307-4923-b753-4119c8176818\",\"type\":\"UnionRenderers\"}},\"id\":\"1e83a656-988a-4668-9346-edf85c54525b\",\"type\":\"ColumnDataSource\"},{\"attributes\":{\"line_alpha\":0.1,\"line_color\":\"#1f77b4\",\"x\":{\"field\":\"x\"},\"y\":{\"field\":\"y\"}},\"id\":\"0eb5f0a0-888f-417e-8297-f1c7b0f22b40\",\"type\":\"Line\"},{\"attributes\":{\"data_source\":{\"id\":\"1e83a656-988a-4668-9346-edf85c54525b\",\"type\":\"ColumnDataSource\"},\"glyph\":{\"id\":\"b257b8b4-ce12-4bc5-881b-3f94d377b0bf\",\"type\":\"Line\"},\"hover_glyph\":null,\"muted_glyph\":null,\"nonselection_glyph\":{\"id\":\"0eb5f0a0-888f-417e-8297-f1c7b0f22b40\",\"type\":\"Line\"},\"selection_glyph\":null,\"view\":{\"id\":\"dcba6a2a-44d4-4628-bc5d-27b7d98c709e\",\"type\":\"CDSView\"}},\"id\":\"17f8aba7-a738-4bc3-ba3d-e559463074a2\",\"type\":\"GlyphRenderer\"},{\"attributes\":{\"source\":{\"id\":\"1e83a656-988a-4668-9346-edf85c54525b\",\"type\":\"ColumnDataSource\"}},\"id\":\"dcba6a2a-44d4-4628-bc5d-27b7d98c709e\",\"type\":\"CDSView\"},{\"attributes\":{\"x\":{\"field\":\"x\"},\"y\":{\"value\":8.100000000000001}},\"id\":\"4ad24030-ac45-42d1-8e97-36d1a7d48f12\",\"type\":\"Line\"},{\"attributes\":{\"callback\":null,\"data\":{\"x\":[5.4,5.6]},\"selected\":{\"id\":\"4d009472-9cb0-4277-b4ba-dad17174d2cd\",\"type\":\"Selection\"},\"selection_policy\":{\"id\":\"eed14885-f3d2-484d-9052-3da1df605964\",\"type\":\"UnionRenderers\"}},\"id\":\"41131dd2-6adc-469f-9bac-f1baffcb4c26\",\"type\":\"ColumnDataSource\"},{\"attributes\":{\"line_alpha\":0.1,\"line_color\":\"#1f77b4\",\"x\":{\"field\":\"x\"},\"y\":{\"value\":8.100000000000001}},\"id\":\"aa982ffe-b57e-422a-97b5-41eef5d12555\",\"type\":\"Line\"},{\"attributes\":{\"x\":{\"field\":\"x\"},\"y\":{\"value\":10.65}},\"id\":\"d283ab2e-1a83-4296-a83b-252babe558f1\",\"type\":\"Line\"},{\"attributes\":{\"data_source\":{\"id\":\"41131dd2-6adc-469f-9bac-f1baffcb4c26\",\"type\":\"ColumnDataSource\"},\"glyph\":{\"id\":\"4ad24030-ac45-42d1-8e97-36d1a7d48f12\",\"type\":\"Line\"},\"hover_glyph\":null,\"muted_glyph\":null,\"nonselection_glyph\":{\"id\":\"aa982ffe-b57e-422a-97b5-41eef5d12555\",\"type\":\"Line\"},\"selection_glyph\":null,\"view\":{\"id\":\"1029c42c-2e12-4992-ac5d-c3ca39ef403b\",\"type\":\"CDSView\"}},\"id\":\"43a2d6cb-2d5b-476e-8ed7-20192848b5bc\",\"type\":\"GlyphRenderer\"},{\"attributes\":{\"bottom\":{\"value\":8.6},\"fill_color\":{\"value\":\"#ff7f0e\"},\"left\":{\"value\":1.25},\"right\":{\"value\":1.75},\"top\":{\"value\":9.7}},\"id\":\"059cec21-f885-48f2-9f59-9cda931eab87\",\"type\":\"Quad\"},{\"attributes\":{\"bottom\":{\"value\":8.6},\"fill_alpha\":{\"value\":0.1},\"fill_color\":{\"value\":\"#1f77b4\"},\"left\":{\"value\":1.25},\"line_alpha\":{\"value\":0.1},\"line_color\":{\"value\":\"#1f77b4\"},\"right\":{\"value\":1.75},\"top\":{\"value\":9.7}},\"id\":\"c95b6cb9-36ab-4186-a98d-e459e58c9edd\",\"type\":\"Quad\"},{\"attributes\":{\"callback\":null,\"data\":{\"x\":[5.4,5.6]},\"selected\":{\"id\":\"5500bcf5-2acc-4537-b012-a79c44bf1e12\",\"type\":\"Selection\"},\"selection_policy\":{\"id\":\"4d351e8f-69cc-44a9-8ccc-06a73158afeb\",\"type\":\"UnionRenderers\"}},\"id\":\"1d0e4b0f-9d6e-4371-9415-b41ad01501b5\",\"type\":\"ColumnDataSource\"},{\"attributes\":{\"callback\":null,\"data\":{},\"selected\":{\"id\":\"5f238b7d-f062-4df6-88a2-87f8da197173\",\"type\":\"Selection\"},\"selection_policy\":{\"id\":\"4adfa773-4f44-4bf3-b1b8-709bb87e2b52\",\"type\":\"UnionRenderers\"}},\"id\":\"86a4e24f-1657-412a-a2f0-6b2060c2b3e3\",\"type\":\"ColumnDataSource\"},{\"attributes\":{\"line_alpha\":0.1,\"line_color\":\"#1f77b4\",\"x\":{\"field\":\"x\"},\"y\":{\"value\":10.65}},\"id\":\"22bc460a-c94b-4804-81e0-d367033d84a3\",\"type\":\"Line\"},{\"attributes\":{\"data_source\":{\"id\":\"1d0e4b0f-9d6e-4371-9415-b41ad01501b5\",\"type\":\"ColumnDataSource\"},\"glyph\":{\"id\":\"d283ab2e-1a83-4296-a83b-252babe558f1\",\"type\":\"Line\"},\"hover_glyph\":null,\"muted_glyph\":null,\"nonselection_glyph\":{\"id\":\"22bc460a-c94b-4804-81e0-d367033d84a3\",\"type\":\"Line\"},\"selection_glyph\":null,\"view\":{\"id\":\"7d5ac016-d7ef-4706-950a-796b7907705b\",\"type\":\"CDSView\"}},\"id\":\"c8bb938b-4fa2-45d6-8f39-97e344377e6f\",\"type\":\"GlyphRenderer\"},{\"attributes\":{\"source\":{\"id\":\"41131dd2-6adc-469f-9bac-f1baffcb4c26\",\"type\":\"ColumnDataSource\"}},\"id\":\"1029c42c-2e12-4992-ac5d-c3ca39ef403b\",\"type\":\"CDSView\"}],\"root_ids\":[\"b34917d1-d467-4f31-8935-17ca8bb16b43\"]},\"title\":\"Bokeh Application\",\"version\":\"0.12.16\"}};\n",
       "  var render_items = [{\"docid\":\"9c50c384-df79-4473-b13e-3c0a0c58e0bd\",\"elementid\":\"f5f2c562-e99d-4aa3-b370-ecef82a32b73\",\"modelid\":\"b34917d1-d467-4f31-8935-17ca8bb16b43\"}];\n",
       "  root.Bokeh.embed.embed_items_notebook(docs_json, render_items);\n",
       "\n",
       "  }\n",
       "  if (root.Bokeh !== undefined) {\n",
       "    embed_document(root);\n",
       "  } else {\n",
       "    var attempts = 0;\n",
       "    var timer = setInterval(function(root) {\n",
       "      if (root.Bokeh !== undefined) {\n",
       "        embed_document(root);\n",
       "        clearInterval(timer);\n",
       "      }\n",
       "      attempts++;\n",
       "      if (attempts > 100) {\n",
       "        console.log(\"Bokeh: ERROR: Unable to run BokehJS code because BokehJS library is missing\")\n",
       "        clearInterval(timer);\n",
       "      }\n",
       "    }, 10, root)\n",
       "  }\n",
       "})(window);"
      ],
      "application/vnd.bokehjs_exec.v0+json": ""
     },
     "metadata": {
      "application/vnd.bokehjs_exec.v0+json": {
       "id": "b34917d1-d467-4f31-8935-17ca8bb16b43"
      }
     },
     "output_type": "display_data"
    }
   ],
   "source": [
    "p = bootcamp_utils.bokeh_box(df, \n",
    "                             cats=['species', 'year'], \n",
    "                             val='beak depth (mm)')\n",
    "\n",
    "# Rotate tick labels\n",
    "p.xaxis.major_label_orientation = np.pi/4\n",
    "\n",
    "bokeh.io.show(p)"
   ]
  },
  {
   "cell_type": "markdown",
   "metadata": {},
   "source": [
    "#### Jitter plots\n",
    "\n",
    "Jitter plots have the same pretty much the same call signature as box plots."
   ]
  },
  {
   "cell_type": "code",
   "execution_count": 8,
   "metadata": {},
   "outputs": [
    {
     "data": {
      "text/html": [
       "\n",
       "<div class=\"bk-root\">\n",
       "    <div class=\"bk-plotdiv\" id=\"9f3d2add-dded-4f8a-93ac-a9da43cc24b0\"></div>\n",
       "</div>"
      ]
     },
     "metadata": {},
     "output_type": "display_data"
    },
    {
     "data": {
      "application/javascript": [
       "(function(root) {\n",
       "  function embed_document(root) {\n",
       "    \n",
       "  var docs_json = {\"bbe41ab2-7c03-4484-9329-6b87aa8600e8\":{\"roots\":{\"references\":[{\"attributes\":{\"data_source\":{\"id\":\"94312c2c-c96c-4d08-93ef-a062530afd10\",\"type\":\"ColumnDataSource\"},\"glyph\":{\"id\":\"fc75b42a-9432-4165-9fdb-c9ea5bb3a711\",\"type\":\"Circle\"},\"hover_glyph\":null,\"muted_glyph\":null,\"nonselection_glyph\":{\"id\":\"af4c7f59-c8fa-4039-a2c4-3b84b16fda95\",\"type\":\"Circle\"},\"selection_glyph\":null,\"view\":{\"id\":\"63b26b29-658b-4782-8a56-4b354a18f5da\",\"type\":\"CDSView\"}},\"id\":\"5168e5fb-e27e-44c2-958c-f96910f20d67\",\"type\":\"GlyphRenderer\"},{\"attributes\":{},\"id\":\"068f2327-404a-434a-9380-ddb69642a446\",\"type\":\"Selection\"},{\"attributes\":{\"ticks\":[0.5,1.5,2.5,3.5,4.5,5.5,6.5,7.5,8.5,9.5]},\"id\":\"60523770-f9b3-47c2-8b96-7de621d532c7\",\"type\":\"FixedTicker\"},{\"attributes\":{\"source\":{\"id\":\"94312c2c-c96c-4d08-93ef-a062530afd10\",\"type\":\"ColumnDataSource\"}},\"id\":\"63b26b29-658b-4782-8a56-4b354a18f5da\",\"type\":\"CDSView\"},{\"attributes\":{},\"id\":\"d2af306d-3588-4794-bee2-0598d053cd9e\",\"type\":\"Selection\"},{\"attributes\":{\"fill_alpha\":{\"value\":0.1},\"fill_color\":{\"value\":\"#1f77b4\"},\"line_alpha\":{\"value\":0.1},\"line_color\":{\"value\":\"#1f77b4\"},\"x\":{\"transform\":{\"id\":\"b47a0214-a7d7-4b95-b13c-650fdbe9e650\",\"type\":\"Jitter\"},\"value\":7.5},\"y\":{\"field\":\"y\"}},\"id\":\"2e232a92-1c1e-41bf-9c37-c0160e8da640\",\"type\":\"Circle\"},{\"attributes\":{\"data_source\":{\"id\":\"fbcdce27-0de6-4e25-8427-e8779f56a276\",\"type\":\"ColumnDataSource\"},\"glyph\":{\"id\":\"539e6bdd-7af7-455e-a67c-3019df6f81f4\",\"type\":\"Circle\"},\"hover_glyph\":null,\"muted_glyph\":null,\"nonselection_glyph\":{\"id\":\"d93b0062-b33d-4df3-a143-2e18a624efeb\",\"type\":\"Circle\"},\"selection_glyph\":null,\"view\":{\"id\":\"07275555-28b6-4f74-95e3-2c40da538b8a\",\"type\":\"CDSView\"}},\"id\":\"9b87827e-7178-420d-81bb-0c3939c64ca8\",\"type\":\"GlyphRenderer\"},{\"attributes\":{\"fill_alpha\":{\"value\":0.1},\"fill_color\":{\"value\":\"#1f77b4\"},\"line_alpha\":{\"value\":0.1},\"line_color\":{\"value\":\"#1f77b4\"},\"x\":{\"transform\":{\"id\":\"bddbeea3-4ade-4e4e-b34c-daad496b5298\",\"type\":\"Jitter\"},\"value\":9.5},\"y\":{\"field\":\"y\"}},\"id\":\"af4c7f59-c8fa-4039-a2c4-3b84b16fda95\",\"type\":\"Circle\"},{\"attributes\":{\"formatter\":{\"id\":\"6dbe60d8-fc1a-47a2-bc57-368ecec4678a\",\"type\":\"BasicTickFormatter\"},\"major_label_orientation\":0.7853981633974483,\"major_label_overrides\":{\"0.5\":\"fortis, 1973\",\"1.5\":\"fortis, 1975\",\"2.5\":\"fortis, 1987\",\"3.5\":\"fortis, 1991\",\"4.5\":\"fortis, 2012\",\"5.5\":\"scandens, 1973\",\"6.5\":\"scandens, 1975\",\"7.5\":\"scandens, 1987\",\"8.5\":\"scandens, 1991\",\"9.5\":\"scandens, 2012\"},\"plot\":{\"id\":\"60602a3f-1820-4f38-a6cf-fef5e8418d8d\",\"subtype\":\"Figure\",\"type\":\"Plot\"},\"ticker\":{\"id\":\"60523770-f9b3-47c2-8b96-7de621d532c7\",\"type\":\"FixedTicker\"}},\"id\":\"532416ca-d8ce-4749-b2de-abd7810e6c8f\",\"type\":\"LinearAxis\"},{\"attributes\":{},\"id\":\"17f5b913-caae-4c06-8d80-896fc0b0be4a\",\"type\":\"UnionRenderers\"},{\"attributes\":{\"axis_label\":\"beak depth (mm)\",\"formatter\":{\"id\":\"f0f60dc8-32d8-4e4e-9d6c-9d433fddcf96\",\"type\":\"BasicTickFormatter\"},\"plot\":{\"id\":\"60602a3f-1820-4f38-a6cf-fef5e8418d8d\",\"subtype\":\"Figure\",\"type\":\"Plot\"},\"ticker\":{\"id\":\"ce2850dd-a53d-408b-a1c0-3d1b80c6f479\",\"type\":\"BasicTicker\"}},\"id\":\"01e2460b-7a13-44b6-92ff-d935e145dd5f\",\"type\":\"LinearAxis\"},{\"attributes\":{},\"id\":\"ce2850dd-a53d-408b-a1c0-3d1b80c6f479\",\"type\":\"BasicTicker\"},{\"attributes\":{},\"id\":\"4d32a079-54c2-45dd-a4e2-1c01086b02f6\",\"type\":\"LinearScale\"},{\"attributes\":{\"dimension\":1,\"plot\":{\"id\":\"60602a3f-1820-4f38-a6cf-fef5e8418d8d\",\"subtype\":\"Figure\",\"type\":\"Plot\"},\"ticker\":{\"id\":\"ce2850dd-a53d-408b-a1c0-3d1b80c6f479\",\"type\":\"BasicTicker\"}},\"id\":\"3114bb18-1e41-413f-a09f-80058f094dd4\",\"type\":\"Grid\"},{\"attributes\":{},\"id\":\"585d1e97-cdec-423d-b211-a088548b54bc\",\"type\":\"WheelZoomTool\"},{\"attributes\":{},\"id\":\"b5c3b529-4e03-4c7f-8dfd-518449f10311\",\"type\":\"SaveTool\"},{\"attributes\":{},\"id\":\"75e7bc42-e8c1-4bf2-982d-f0542ac896a3\",\"type\":\"HelpTool\"},{\"attributes\":{},\"id\":\"f4140270-f81c-4b49-b260-668a1b335888\",\"type\":\"Selection\"},{\"attributes\":{\"source\":{\"id\":\"e1b8dee9-97a7-478b-bb23-5a9f21ad620e\",\"type\":\"ColumnDataSource\"}},\"id\":\"2d0f1029-bb1d-46b5-8883-7a8e23444a97\",\"type\":\"CDSView\"},{\"attributes\":{\"range\":null,\"width\":0.5},\"id\":\"95ef86c0-8011-487a-9c0e-25485ec73f51\",\"type\":\"Jitter\"},{\"attributes\":{\"source\":{\"id\":\"78e7ccc3-b9e0-4dbb-bcdf-e3111942fec1\",\"type\":\"ColumnDataSource\"}},\"id\":\"d560e3c4-ac0e-48d8-8291-0d012ad591f5\",\"type\":\"CDSView\"},{\"attributes\":{},\"id\":\"141dcf4a-32e5-4c3d-9824-2a7bff3482e7\",\"type\":\"Selection\"},{\"attributes\":{\"active_drag\":\"auto\",\"active_inspect\":\"auto\",\"active_scroll\":\"auto\",\"active_tap\":\"auto\",\"tools\":[{\"id\":\"34db1ac9-1361-4c8f-b957-406d398dfd2c\",\"type\":\"PanTool\"},{\"id\":\"585d1e97-cdec-423d-b211-a088548b54bc\",\"type\":\"WheelZoomTool\"},{\"id\":\"d084de9d-381c-4060-97f9-dca4031e0d4b\",\"type\":\"BoxZoomTool\"},{\"id\":\"b5c3b529-4e03-4c7f-8dfd-518449f10311\",\"type\":\"SaveTool\"},{\"id\":\"25adc46b-221c-4e49-a74e-d1aaf6b8a852\",\"type\":\"ResetTool\"},{\"id\":\"75e7bc42-e8c1-4bf2-982d-f0542ac896a3\",\"type\":\"HelpTool\"}]},\"id\":\"e71de990-d213-4b03-accd-f9809be76686\",\"type\":\"Toolbar\"},{\"attributes\":{},\"id\":\"81cb81e8-962b-4dad-a78a-cd4726bfd6ec\",\"type\":\"Selection\"},{\"attributes\":{\"callback\":null,\"data\":{\"y\":{\"__ndarray__\":\"mpmZmZkZIEBmZmZmZuYkQJqZmZmZGSNAAAAAAACAIUDNzMzMzEwkQDMzMzMzsyNAMzMzMzOzIUDNzMzMzEwkQM3MzMzMTCBAmpmZmZkZIUDNzMzMzEwlQJqZmZmZGSBAAAAAAACAI0DNzMzMzEwkQDMzMzMzsyNAAAAAAACAI0AzMzMzM7MgQJqZmZmZGSFAAAAAAACAJEAzMzMzM7MiQM3MzMzMTCRAmpmZmZkZIUAzMzMzM7MhQDMzMzMzsyNAAAAAAACAJUAzMzMzM7MjQGZmZmZm5iBAmpmZmZkZJUAzMzMzM7MgQAAAAAAAgCBAZmZmZmbmJUDNzMzMzEwiQDMzMzMzsyFAmpmZmZkZJECamZmZmRkjQM3MzMzMTChAmpmZmZkZI0AAAAAAAIAjQAAAAAAAgCJAmpmZmZkZIkBmZmZmZuYgQJqZmZmZGSNAZmZmZmbmI0DNzMzMzEwlQM3MzMzMzB9AzczMzMxMJUDNzMzMzEwiQJqZmZmZGSRAAAAAAACAI0CamZmZmRkkQM3MzMzMTCNAZmZmZmbmIkAAAAAAAIAlQDMzMzMzsyNAzczMzMxMJkAzMzMzM7MlQJqZmZmZGSFAAAAAAACAJEAzMzMzM7MgQM3MzMzMTCJAMzMzMzOzIkDNzMzMzEwkQAAAAAAAgCNAAAAAAACAJUAzMzMzM7MiQM3MzMzMTCFAMzMzMzOzJECamZmZmRklQGZmZmZm5iJAMzMzMzOzIUBmZmZmZuYiQDMzMzMzsyNAzczMzMxMIkA=\",\"dtype\":\"float64\",\"shape\":[73]}},\"selected\":{\"id\":\"d2af306d-3588-4794-bee2-0598d053cd9e\",\"type\":\"Selection\"},\"selection_policy\":{\"id\":\"5fc376b3-9384-4cb1-b981-ad019fea5c99\",\"type\":\"UnionRenderers\"}},\"id\":\"2a974f01-d8da-4317-834d-f9d4faca08e3\",\"type\":\"ColumnDataSource\"},{\"attributes\":{\"fill_alpha\":{\"value\":0.1},\"fill_color\":{\"value\":\"#ff7f0e\"},\"line_alpha\":{\"value\":0.1},\"line_color\":{\"value\":\"#ff7f0e\"},\"x\":{\"transform\":{\"id\":\"88c71f17-3d50-403c-b501-604bf55f224c\",\"type\":\"Jitter\"},\"value\":1.5},\"y\":{\"field\":\"y\"}},\"id\":\"49c1dde5-ec18-4736-825a-6b40fb4b9e2d\",\"type\":\"Circle\"},{\"attributes\":{},\"id\":\"4bed7df2-0772-4481-aa34-34d97cf57618\",\"type\":\"UnionRenderers\"},{\"attributes\":{\"range\":null,\"width\":0.5},\"id\":\"88c71f17-3d50-403c-b501-604bf55f224c\",\"type\":\"Jitter\"},{\"attributes\":{\"fill_alpha\":{\"value\":0.1},\"fill_color\":{\"value\":\"#1f77b4\"},\"line_alpha\":{\"value\":0.1},\"line_color\":{\"value\":\"#1f77b4\"},\"x\":{\"transform\":{\"id\":\"95ef86c0-8011-487a-9c0e-25485ec73f51\",\"type\":\"Jitter\"},\"value\":0.5},\"y\":{\"field\":\"y\"}},\"id\":\"4e275d76-3d3e-43aa-b491-a2d7a1589a99\",\"type\":\"Circle\"},{\"attributes\":{\"fill_alpha\":{\"value\":0.1},\"fill_color\":{\"value\":\"#1f77b4\"},\"line_alpha\":{\"value\":0.1},\"line_color\":{\"value\":\"#1f77b4\"},\"x\":{\"transform\":{\"id\":\"95ef86c0-8011-487a-9c0e-25485ec73f51\",\"type\":\"Jitter\"},\"value\":0.5},\"y\":{\"field\":\"y\"}},\"id\":\"3df679e1-9b86-4b59-8577-618d28a5e595\",\"type\":\"Circle\"},{\"attributes\":{\"fill_alpha\":{\"value\":0.1},\"fill_color\":{\"value\":\"#17becf\"},\"line_alpha\":{\"value\":0.1},\"line_color\":{\"value\":\"#17becf\"},\"x\":{\"transform\":{\"id\":\"bddbeea3-4ade-4e4e-b34c-daad496b5298\",\"type\":\"Jitter\"},\"value\":9.5},\"y\":{\"field\":\"y\"}},\"id\":\"fc75b42a-9432-4165-9fdb-c9ea5bb3a711\",\"type\":\"Circle\"},{\"attributes\":{},\"id\":\"f8c13bde-013b-4713-b9ac-6b98116b1547\",\"type\":\"UnionRenderers\"},{\"attributes\":{\"source\":{\"id\":\"2a974f01-d8da-4317-834d-f9d4faca08e3\",\"type\":\"ColumnDataSource\"}},\"id\":\"a8607d0e-971b-42c8-bc90-809202b91e9a\",\"type\":\"CDSView\"},{\"attributes\":{\"source\":{\"id\":\"fbcdce27-0de6-4e25-8427-e8779f56a276\",\"type\":\"ColumnDataSource\"}},\"id\":\"07275555-28b6-4f74-95e3-2c40da538b8a\",\"type\":\"CDSView\"},{\"attributes\":{\"data_source\":{\"id\":\"2a974f01-d8da-4317-834d-f9d4faca08e3\",\"type\":\"ColumnDataSource\"},\"glyph\":{\"id\":\"4e275d76-3d3e-43aa-b491-a2d7a1589a99\",\"type\":\"Circle\"},\"hover_glyph\":null,\"muted_glyph\":null,\"nonselection_glyph\":{\"id\":\"3df679e1-9b86-4b59-8577-618d28a5e595\",\"type\":\"Circle\"},\"selection_glyph\":null,\"view\":{\"id\":\"a8607d0e-971b-42c8-bc90-809202b91e9a\",\"type\":\"CDSView\"}},\"id\":\"f3aed4e6-83d5-467d-ab6a-890e2032ab29\",\"type\":\"GlyphRenderer\"},{\"attributes\":{\"data_source\":{\"id\":\"78e7ccc3-b9e0-4dbb-bcdf-e3111942fec1\",\"type\":\"ColumnDataSource\"},\"glyph\":{\"id\":\"49c1dde5-ec18-4736-825a-6b40fb4b9e2d\",\"type\":\"Circle\"},\"hover_glyph\":null,\"muted_glyph\":null,\"nonselection_glyph\":{\"id\":\"282d8947-4e1e-4d21-9dc6-0aa049248847\",\"type\":\"Circle\"},\"selection_glyph\":null,\"view\":{\"id\":\"d560e3c4-ac0e-48d8-8291-0d012ad591f5\",\"type\":\"CDSView\"}},\"id\":\"ff2b1dc9-ae47-4289-ac64-b4ad4dba5ce7\",\"type\":\"GlyphRenderer\"},{\"attributes\":{},\"id\":\"acfc5ba2-a232-4f10-b9b7-73b88ec716d2\",\"type\":\"Selection\"},{\"attributes\":{\"range\":null,\"width\":0.5},\"id\":\"78cd88ab-36b9-483c-a2ab-f7e61338255f\",\"type\":\"Jitter\"},{\"attributes\":{},\"id\":\"4e7fa3a5-6531-462d-9b7f-021478d889f4\",\"type\":\"UnionRenderers\"},{\"attributes\":{},\"id\":\"521486d0-586b-4aa3-90cb-9ee66d2bfc86\",\"type\":\"UnionRenderers\"},{\"attributes\":{\"callback\":null,\"data\":{\"y\":{\"__ndarray__\":\"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\",\"dtype\":\"float64\",\"shape\":[312]}},\"selected\":{\"id\":\"1e574522-bcb1-4a7e-9dee-71c6076d23c3\",\"type\":\"Selection\"},\"selection_policy\":{\"id\":\"afea728b-4159-49a6-9c98-fcc8b66c01a9\",\"type\":\"UnionRenderers\"}},\"id\":\"78e7ccc3-b9e0-4dbb-bcdf-e3111942fec1\",\"type\":\"ColumnDataSource\"},{\"attributes\":{\"data_source\":{\"id\":\"e1b8dee9-97a7-478b-bb23-5a9f21ad620e\",\"type\":\"ColumnDataSource\"},\"glyph\":{\"id\":\"4afb4289-e9ca-49f5-8a5d-891cd9e648bb\",\"type\":\"Circle\"},\"hover_glyph\":null,\"muted_glyph\":null,\"nonselection_glyph\":{\"id\":\"2e232a92-1c1e-41bf-9c37-c0160e8da640\",\"type\":\"Circle\"},\"selection_glyph\":null,\"view\":{\"id\":\"2d0f1029-bb1d-46b5-8883-7a8e23444a97\",\"type\":\"CDSView\"}},\"id\":\"bcc1c0fb-64f9-497b-a86b-80c9f894f023\",\"type\":\"GlyphRenderer\"},{\"attributes\":{\"data_source\":{\"id\":\"9d2e22be-9b68-4e56-b139-87ea3d68ea08\",\"type\":\"ColumnDataSource\"},\"glyph\":{\"id\":\"42f30b09-f22c-43f2-ad34-b931fc312d55\",\"type\":\"Circle\"},\"hover_glyph\":null,\"muted_glyph\":null,\"nonselection_glyph\":{\"id\":\"9e1cedc1-7c67-4df5-b249-47cae87c95d4\",\"type\":\"Circle\"},\"selection_glyph\":null,\"view\":{\"id\":\"3a51d0ff-8e1d-4464-82a0-3920df90a747\",\"type\":\"CDSView\"}},\"id\":\"0f0bd70f-8e93-41f5-afdb-1ef7d8abb413\",\"type\":\"GlyphRenderer\"},{\"attributes\":{\"callback\":null,\"data\":{\"y\":{\"__ndarray__\":\"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\",\"dtype\":\"float64\",\"shape\":[787]}},\"selected\":{\"id\":\"141dcf4a-32e5-4c3d-9824-2a7bff3482e7\",\"type\":\"Selection\"},\"selection_policy\":{\"id\":\"521486d0-586b-4aa3-90cb-9ee66d2bfc86\",\"type\":\"UnionRenderers\"}},\"id\":\"a50a55c3-e163-4229-9a70-7e4bba626f9f\",\"type\":\"ColumnDataSource\"},{\"attributes\":{\"below\":[{\"id\":\"532416ca-d8ce-4749-b2de-abd7810e6c8f\",\"type\":\"LinearAxis\"}],\"left\":[{\"id\":\"01e2460b-7a13-44b6-92ff-d935e145dd5f\",\"type\":\"LinearAxis\"}],\"plot_height\":300,\"plot_width\":400,\"renderers\":[{\"id\":\"532416ca-d8ce-4749-b2de-abd7810e6c8f\",\"type\":\"LinearAxis\"},{\"id\":\"4390afb0-984c-4962-9b42-6a535f1e3af8\",\"type\":\"Grid\"},{\"id\":\"01e2460b-7a13-44b6-92ff-d935e145dd5f\",\"type\":\"LinearAxis\"},{\"id\":\"3114bb18-1e41-413f-a09f-80058f094dd4\",\"type\":\"Grid\"},{\"id\":\"1d927557-e6c3-4c15-9c03-2906ef776760\",\"type\":\"BoxAnnotation\"},{\"id\":\"f3aed4e6-83d5-467d-ab6a-890e2032ab29\",\"type\":\"GlyphRenderer\"},{\"id\":\"ff2b1dc9-ae47-4289-ac64-b4ad4dba5ce7\",\"type\":\"GlyphRenderer\"},{\"id\":\"50d2c50a-a11f-4f86-8892-1a4fe2399c2d\",\"type\":\"GlyphRenderer\"},{\"id\":\"0f0bd70f-8e93-41f5-afdb-1ef7d8abb413\",\"type\":\"GlyphRenderer\"},{\"id\":\"d97a3099-1f62-4f2c-8b93-80dd5077fb4d\",\"type\":\"GlyphRenderer\"},{\"id\":\"5767943d-c121-4e91-b634-0d17501468c1\",\"type\":\"GlyphRenderer\"},{\"id\":\"cb613749-0d08-49f2-baa7-55d41e63d4dd\",\"type\":\"GlyphRenderer\"},{\"id\":\"bcc1c0fb-64f9-497b-a86b-80c9f894f023\",\"type\":\"GlyphRenderer\"},{\"id\":\"9b87827e-7178-420d-81bb-0c3939c64ca8\",\"type\":\"GlyphRenderer\"},{\"id\":\"5168e5fb-e27e-44c2-958c-f96910f20d67\",\"type\":\"GlyphRenderer\"}],\"title\":null,\"toolbar\":{\"id\":\"e71de990-d213-4b03-accd-f9809be76686\",\"type\":\"Toolbar\"},\"x_range\":{\"id\":\"af862314-9858-4271-a1fb-e508ecc23f8d\",\"type\":\"DataRange1d\"},\"x_scale\":{\"id\":\"afa21b76-2348-44b1-84a5-a01f941426ea\",\"type\":\"LinearScale\"},\"y_range\":{\"id\":\"30b7b6c4-314f-431c-86af-0249135a7779\",\"type\":\"DataRange1d\"},\"y_scale\":{\"id\":\"4d32a079-54c2-45dd-a4e2-1c01086b02f6\",\"type\":\"LinearScale\"}},\"id\":\"60602a3f-1820-4f38-a6cf-fef5e8418d8d\",\"subtype\":\"Figure\",\"type\":\"Plot\"},{\"attributes\":{},\"id\":\"1c4b0ced-5856-4b42-a618-a351f9283b99\",\"type\":\"UnionRenderers\"},{\"attributes\":{},\"id\":\"6dbe60d8-fc1a-47a2-bc57-368ecec4678a\",\"type\":\"BasicTickFormatter\"},{\"attributes\":{\"fill_alpha\":{\"value\":0.1},\"fill_color\":{\"value\":\"#1f77b4\"},\"line_alpha\":{\"value\":0.1},\"line_color\":{\"value\":\"#1f77b4\"},\"x\":{\"transform\":{\"id\":\"88c71f17-3d50-403c-b501-604bf55f224c\",\"type\":\"Jitter\"},\"value\":1.5},\"y\":{\"field\":\"y\"}},\"id\":\"282d8947-4e1e-4d21-9dc6-0aa049248847\",\"type\":\"Circle\"},{\"attributes\":{},\"id\":\"afea728b-4159-49a6-9c98-fcc8b66c01a9\",\"type\":\"UnionRenderers\"},{\"attributes\":{\"fill_alpha\":{\"value\":0.1},\"fill_color\":{\"value\":\"#1f77b4\"},\"line_alpha\":{\"value\":0.1},\"line_color\":{\"value\":\"#1f77b4\"},\"x\":{\"transform\":{\"id\":\"91847d7c-2561-494a-adc4-7e0ec2ecd9a3\",\"type\":\"Jitter\"},\"value\":3.5},\"y\":{\"field\":\"y\"}},\"id\":\"9e1cedc1-7c67-4df5-b249-47cae87c95d4\",\"type\":\"Circle\"},{\"attributes\":{\"fill_alpha\":{\"value\":0.1},\"fill_color\":{\"value\":\"#9467bd\"},\"line_alpha\":{\"value\":0.1},\"line_color\":{\"value\":\"#9467bd\"},\"x\":{\"transform\":{\"id\":\"e43612de-1b96-46d5-8039-f2c576d3bd68\",\"type\":\"Jitter\"},\"value\":4.5},\"y\":{\"field\":\"y\"}},\"id\":\"c61d9e27-e821-4c3e-b632-959e465d6a85\",\"type\":\"Circle\"},{\"attributes\":{},\"id\":\"1e574522-bcb1-4a7e-9dee-71c6076d23c3\",\"type\":\"Selection\"},{\"attributes\":{\"range\":null,\"width\":0.5},\"id\":\"91847d7c-2561-494a-adc4-7e0ec2ecd9a3\",\"type\":\"Jitter\"},{\"attributes\":{\"source\":{\"id\":\"9d2e22be-9b68-4e56-b139-87ea3d68ea08\",\"type\":\"ColumnDataSource\"}},\"id\":\"3a51d0ff-8e1d-4464-82a0-3920df90a747\",\"type\":\"CDSView\"},{\"attributes\":{\"fill_alpha\":{\"value\":0.1},\"fill_color\":{\"value\":\"#2ca02c\"},\"line_alpha\":{\"value\":0.1},\"line_color\":{\"value\":\"#2ca02c\"},\"x\":{\"transform\":{\"id\":\"78cd88ab-36b9-483c-a2ab-f7e61338255f\",\"type\":\"Jitter\"},\"value\":2.5},\"y\":{\"field\":\"y\"}},\"id\":\"890ed316-e3d5-4e2c-a771-231cd753c9c9\",\"type\":\"Circle\"},{\"attributes\":{\"callback\":null,\"data\":{\"y\":{\"__ndarray__\":\"AAAAAAAAIUDNzMzMzMwhQAAAAAAAAB5AMzMzMzMzI0BmZmZmZmYiQGZmZmZmZiBAMzMzMzMzH0AzMzMzMzMhQM3MzMzMzCBAzczMzMzMHkAAAAAAAAAgQGZmZmZmZiFAMzMzMzMzIECamZmZmZkhQM3MzMzMzCJAAAAAAAAAJEAzMzMzMzMjQDMzMzMzMyNAMzMzMzMzIEAAAAAAAAAeQM3MzMzMzCBAmpmZmZmZH0CamZmZmZkgQM3MzMzMzCFAMzMzMzMzIkDNzMzMzMweQJqZmZmZmSBAMzMzMzMzIUDNzMzMzMwgQM3MzMzMzB5AMzMzMzMzIkDNzMzMzMweQAAAAAAAACJAZmZmZmZmJEAzMzMzMzMgQDMzMzMzMyFAzczMzMzMIEAzMzMzMzMgQAAAAAAAACBAmpmZmZmZIECamZmZmZkkQAAAAAAAACBAmpmZmZmZIUAAAAAAAAAiQJqZmZmZmSJAZmZmZmZmHkBmZmZmZmYgQAAAAAAAACRAZmZmZmZmIEBmZmZmZmYgQJqZmZmZmSBAMzMzMzMzH0AAAAAAAAAgQM3MzMzMzCBAmpmZmZmZIkDNzMzMzMwhQGZmZmZmZiNAZmZmZmZmHkAAAAAAAAAiQDMzMzMzMyFAzczMzMzMIUAzMzMzMzMhQJqZmZmZmSFAAAAAAAAAIUBmZmZmZmYiQAAAAAAAACBAzczMzMzMIkDNzMzMzMweQM3MzMzMzCBAAAAAAAAAIUAAAAAAAAAiQAAAAAAAACJAmpmZmZmZIkBmZmZmZmYhQDMzMzMzMyBAZmZmZmZmIUCamZmZmZkfQM3MzMzMzB5AzczMzMzMIEAAAAAAAIAiQDMzMzMzMyBAmpmZmZmZIEAAAAAAAAAhQM3MzMzMzCNAzczMzMzMIEDNzMzMzMwjQM3MzMzMzBxAZmZmZmZmIEBmZmZmZmYgQJqZmZmZmSBAzczMzMzMIEAAAAAAAAAeQGZmZmZmZiBAMzMzMzMzIUBmZmZmZmYgQJqZmZmZmSFAAAAAAAAAIUAzMzMzMzMgQJqZmZmZmSBAAAAAAAAAIUAzMzMzMzMgQDMzMzMzMx1AAAAAAAAAIEBmZmZmZmYkQDMzMzMzMyZAzczMzMzMI0BmZmZmZmYhQJqZmZmZmSBAMzMzMzMzH0DNzMzMzMwjQJqZmZmZmSRAzczMzMzMIEBmZmZmZmYhQJqZmZmZmSNAZmZmZmZmIUAAAAAAAAAiQDMzMzMzMx9AAAAAAAAAIUBmZmZmZmYgQGZmZmZmZiJAAAAAAAAAIkA=\",\"dtype\":\"float64\",\"shape\":[121]}},\"selected\":{\"id\":\"3690480f-9f69-4387-8a6c-75a7d7859efc\",\"type\":\"Selection\"},\"selection_policy\":{\"id\":\"1c4b0ced-5856-4b42-a618-a351f9283b99\",\"type\":\"UnionRenderers\"}},\"id\":\"e08f01d6-5fb3-45fd-b66f-ff8b19b7fa99\",\"type\":\"ColumnDataSource\"},{\"attributes\":{\"range\":null,\"width\":0.5},\"id\":\"054c6e2c-82ac-4ebc-8fa9-43193bb6cf49\",\"type\":\"Jitter\"},{\"attributes\":{\"fill_alpha\":{\"value\":0.1},\"fill_color\":{\"value\":\"#1f77b4\"},\"line_alpha\":{\"value\":0.1},\"line_color\":{\"value\":\"#1f77b4\"},\"x\":{\"transform\":{\"id\":\"78cd88ab-36b9-483c-a2ab-f7e61338255f\",\"type\":\"Jitter\"},\"value\":2.5},\"y\":{\"field\":\"y\"}},\"id\":\"93dee1be-ed4c-4566-9254-2cef089a562a\",\"type\":\"Circle\"},{\"attributes\":{\"source\":{\"id\":\"a50a55c3-e163-4229-9a70-7e4bba626f9f\",\"type\":\"ColumnDataSource\"}},\"id\":\"8b9d394e-d6a1-40a1-8078-49ce6e2c8bc7\",\"type\":\"CDSView\"},{\"attributes\":{\"data_source\":{\"id\":\"a50a55c3-e163-4229-9a70-7e4bba626f9f\",\"type\":\"ColumnDataSource\"},\"glyph\":{\"id\":\"890ed316-e3d5-4e2c-a771-231cd753c9c9\",\"type\":\"Circle\"},\"hover_glyph\":null,\"muted_glyph\":null,\"nonselection_glyph\":{\"id\":\"93dee1be-ed4c-4566-9254-2cef089a562a\",\"type\":\"Circle\"},\"selection_glyph\":null,\"view\":{\"id\":\"8b9d394e-d6a1-40a1-8078-49ce6e2c8bc7\",\"type\":\"CDSView\"}},\"id\":\"50d2c50a-a11f-4f86-8892-1a4fe2399c2d\",\"type\":\"GlyphRenderer\"},{\"attributes\":{\"callback\":null},\"id\":\"af862314-9858-4271-a1fb-e508ecc23f8d\",\"type\":\"DataRange1d\"},{\"attributes\":{\"fill_alpha\":{\"value\":0.1},\"fill_color\":{\"value\":\"#d62728\"},\"line_alpha\":{\"value\":0.1},\"line_color\":{\"value\":\"#d62728\"},\"x\":{\"transform\":{\"id\":\"91847d7c-2561-494a-adc4-7e0ec2ecd9a3\",\"type\":\"Jitter\"},\"value\":3.5},\"y\":{\"field\":\"y\"}},\"id\":\"42f30b09-f22c-43f2-ad34-b931fc312d55\",\"type\":\"Circle\"},{\"attributes\":{\"range\":null,\"width\":0.5},\"id\":\"b47a0214-a7d7-4b95-b13c-650fdbe9e650\",\"type\":\"Jitter\"},{\"attributes\":{\"callback\":null,\"data\":{\"y\":{\"__ndarray__\":\"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\",\"dtype\":\"float64\",\"shape\":[509]}},\"selected\":{\"id\":\"7c780ec9-cef9-40d3-9c23-cf1b037f8faf\",\"type\":\"Selection\"},\"selection_policy\":{\"id\":\"e6dfc72b-c01f-48d0-aa92-97ae84b7baae\",\"type\":\"UnionRenderers\"}},\"id\":\"9d2e22be-9b68-4e56-b139-87ea3d68ea08\",\"type\":\"ColumnDataSource\"},{\"attributes\":{\"data_source\":{\"id\":\"54667707-1b69-4049-aa78-70ba86b3cf8b\",\"type\":\"ColumnDataSource\"},\"glyph\":{\"id\":\"4428c0ce-0572-475d-92d8-3b5d133d06d1\",\"type\":\"Circle\"},\"hover_glyph\":null,\"muted_glyph\":null,\"nonselection_glyph\":{\"id\":\"c204e864-f437-475e-8191-ee0df944dbe5\",\"type\":\"Circle\"},\"selection_glyph\":null,\"view\":{\"id\":\"f5f3a6bc-122d-4d9d-aab7-8535268fdde9\",\"type\":\"CDSView\"}},\"id\":\"5767943d-c121-4e91-b634-0d17501468c1\",\"type\":\"GlyphRenderer\"},{\"attributes\":{},\"id\":\"0d287718-f94b-4316-8246-89e37fbc6d02\",\"type\":\"BasicTicker\"},{\"attributes\":{\"range\":null,\"width\":0.5},\"id\":\"78c87aa2-4a18-4efa-a57d-09a3018e2250\",\"type\":\"Jitter\"},{\"attributes\":{\"fill_alpha\":{\"value\":0.1},\"fill_color\":{\"value\":\"#1f77b4\"},\"line_alpha\":{\"value\":0.1},\"line_color\":{\"value\":\"#1f77b4\"},\"x\":{\"transform\":{\"id\":\"e43612de-1b96-46d5-8039-f2c576d3bd68\",\"type\":\"Jitter\"},\"value\":4.5},\"y\":{\"field\":\"y\"}},\"id\":\"6282795a-e2a8-4c80-a547-e6bb8f11545c\",\"type\":\"Circle\"},{\"attributes\":{},\"id\":\"34db1ac9-1361-4c8f-b957-406d398dfd2c\",\"type\":\"PanTool\"},{\"attributes\":{},\"id\":\"e6dfc72b-c01f-48d0-aa92-97ae84b7baae\",\"type\":\"UnionRenderers\"},{\"attributes\":{},\"id\":\"afa21b76-2348-44b1-84a5-a01f941426ea\",\"type\":\"LinearScale\"},{\"attributes\":{\"range\":null,\"width\":0.5},\"id\":\"bdf30c25-43e5-44a0-b786-ef2390b073e1\",\"type\":\"Jitter\"},{\"attributes\":{\"data_source\":{\"id\":\"e08f01d6-5fb3-45fd-b66f-ff8b19b7fa99\",\"type\":\"ColumnDataSource\"},\"glyph\":{\"id\":\"c61d9e27-e821-4c3e-b632-959e465d6a85\",\"type\":\"Circle\"},\"hover_glyph\":null,\"muted_glyph\":null,\"nonselection_glyph\":{\"id\":\"6282795a-e2a8-4c80-a547-e6bb8f11545c\",\"type\":\"Circle\"},\"selection_glyph\":null,\"view\":{\"id\":\"e445330c-26d5-4fb3-ad50-c6d842a1dece\",\"type\":\"CDSView\"}},\"id\":\"d97a3099-1f62-4f2c-8b93-80dd5077fb4d\",\"type\":\"GlyphRenderer\"},{\"attributes\":{\"callback\":null},\"id\":\"30b7b6c4-314f-431c-86af-0249135a7779\",\"type\":\"DataRange1d\"},{\"attributes\":{},\"id\":\"7e141d05-abc4-43bb-ba9c-cfbc7f1b8718\",\"type\":\"Selection\"},{\"attributes\":{\"bottom_units\":\"screen\",\"fill_alpha\":{\"value\":0.5},\"fill_color\":{\"value\":\"lightgrey\"},\"left_units\":\"screen\",\"level\":\"overlay\",\"line_alpha\":{\"value\":1.0},\"line_color\":{\"value\":\"black\"},\"line_dash\":[4,4],\"line_width\":{\"value\":2},\"plot\":null,\"render_mode\":\"css\",\"right_units\":\"screen\",\"top_units\":\"screen\"},\"id\":\"1d927557-e6c3-4c15-9c03-2906ef776760\",\"type\":\"BoxAnnotation\"},{\"attributes\":{\"callback\":null,\"data\":{\"y\":{\"__ndarray__\":\"MzMzMzOzIkAAAAAAAIAjQDMzMzMzsyBAmpmZmZkZI0CamZmZmRkhQDMzMzMzsyNAzczMzMxMJUCamZmZmRkjQDMzMzMzsyNAAAAAAACAI0DNzMzMzMwfQGZmZmZm5iNAmpmZmZkZI0DNzMzMzEwiQGZmZmZm5iRAzczMzMxMIkA=\",\"dtype\":\"float64\",\"shape\":[16]}},\"selected\":{\"id\":\"acfc5ba2-a232-4f10-b9b7-73b88ec716d2\",\"type\":\"Selection\"},\"selection_policy\":{\"id\":\"f1aa02a7-90cc-4166-b9dd-3084ed435008\",\"type\":\"UnionRenderers\"}},\"id\":\"54667707-1b69-4049-aa78-70ba86b3cf8b\",\"type\":\"ColumnDataSource\"},{\"attributes\":{\"source\":{\"id\":\"e08f01d6-5fb3-45fd-b66f-ff8b19b7fa99\",\"type\":\"ColumnDataSource\"}},\"id\":\"e445330c-26d5-4fb3-ad50-c6d842a1dece\",\"type\":\"CDSView\"},{\"attributes\":{\"overlay\":{\"id\":\"1d927557-e6c3-4c15-9c03-2906ef776760\",\"type\":\"BoxAnnotation\"}},\"id\":\"d084de9d-381c-4060-97f9-dca4031e0d4b\",\"type\":\"BoxZoomTool\"},{\"attributes\":{\"fill_alpha\":{\"value\":0.1},\"fill_color\":{\"value\":\"#8c564b\"},\"line_alpha\":{\"value\":0.1},\"line_color\":{\"value\":\"#8c564b\"},\"x\":{\"transform\":{\"id\":\"78c87aa2-4a18-4efa-a57d-09a3018e2250\",\"type\":\"Jitter\"},\"value\":5.5},\"y\":{\"field\":\"y\"}},\"id\":\"4428c0ce-0572-475d-92d8-3b5d133d06d1\",\"type\":\"Circle\"},{\"attributes\":{},\"id\":\"f0f60dc8-32d8-4e4e-9d6c-9d433fddcf96\",\"type\":\"BasicTickFormatter\"},{\"attributes\":{\"callback\":null,\"data\":{\"y\":{\"__ndarray__\":\"AAAAAACAIkCamZmZmZkhQIXrUbgehSJAAAAAAAAAJEAK16NwPYohQMP1KFyPQiJAAAAAAAAAI0CamZmZmZkiQGZmZmZm5iFAPQrXo3C9IUBmZmZmZmYjQGZmZmZmZiNAUrgehevRIEDsUbgehWsiQDMzMzMzMyNAzczMzMzMIkAAAAAAAIAiQJqZmZmZmSJAmpmZmZmZI0Bcj8L1KNwiQAAAAAAAACJAmpmZmZmZIkAzMzMzM7MjQD0K16NwPSNAAAAAAAAAIkAK16NwPQojQM3MzMzMzCNAMzMzMzMzIUDsUbgehWsiQMP1KFyPwiJAPQrXo3C9IkAK16NwPQoiQM3MzMzMzCFAUrgehevRIUAfhetRuB4iQM3MzMzMzCBAZmZmZmZmIUBmZmZmZmYhQFK4HoXr0SFAMzMzMzMzJEAK16NwPYokQM3MzMzMTCNAj8L1KFyPIkBmZmZmZmYiQNejcD0K1x9AmpmZmZmZIEDNzMzMzMwhQDMzMzMzMyFAMzMzMzMzIkAzMzMzMzMhQD0K16NwvSJAZmZmZmZmIkAzMzMzMzMiQDMzMzMzsyNACtejcD0KIkCF61G4HgUjQB+F61G4niFAFK5H4XoUH0DsUbgeheshQJqZmZmZmSFAMzMzMzMzIkCF61G4HgUiQM3MzMzMzCFAzczMzMzMIEAAAAAAAIAiQPYoXI/CdSNAZmZmZmZmIkBmZmZmZuYhQGZmZmZmZiFAcT0K16NwIUAzMzMzMzMjQJqZmZmZmSJAzczMzMzMJEDNzMzMzMwhQJqZmZmZmSJAzczMzMzMIEAzMzMzMzMhQM3MzMzMzCFAMzMzMzMzJEDNzMzMzMwhQJqZmZmZmSFAAAAAAACAIkAzMzMzMzMhQGZmZmZmZiFAzczMzMzMIEAAAAAAAAAjQM3MzMzMTCFAAAAAAAAAIkAAAAAAAAAiQAAAAAAAACFAAAAAAACAI0AzMzMzMzMiQJqZmZmZmSJAMzMzMzMzIUAAAAAAAAAiQDMzMzMzMyJAZmZmZmZmIEAzMzMzMzMgQM3MzMzMzCJAAAAAAAAAIkCamZmZmZkhQDMzMzMzMyRAmpmZmZmZIUAAAAAAAAAjQJqZmZmZmSBAZmZmZmZmIUAzMzMzMzMhQJqZmZmZmR9AZmZmZmZmIUAAAAAAAAAjQAAAAAAAACJAzczMzMzMIUA=\",\"dtype\":\"float64\",\"shape\":[112]}},\"selected\":{\"id\":\"068f2327-404a-434a-9380-ddb69642a446\",\"type\":\"Selection\"},\"selection_policy\":{\"id\":\"f8c13bde-013b-4713-b9ac-6b98116b1547\",\"type\":\"UnionRenderers\"}},\"id\":\"fbcdce27-0de6-4e25-8427-e8779f56a276\",\"type\":\"ColumnDataSource\"},{\"attributes\":{\"plot\":{\"id\":\"60602a3f-1820-4f38-a6cf-fef5e8418d8d\",\"subtype\":\"Figure\",\"type\":\"Plot\"},\"ticker\":{\"id\":\"0d287718-f94b-4316-8246-89e37fbc6d02\",\"type\":\"BasicTicker\"},\"visible\":false},\"id\":\"4390afb0-984c-4962-9b42-6a535f1e3af8\",\"type\":\"Grid\"},{\"attributes\":{\"fill_alpha\":{\"value\":0.1},\"fill_color\":{\"value\":\"#1f77b4\"},\"line_alpha\":{\"value\":0.1},\"line_color\":{\"value\":\"#1f77b4\"},\"x\":{\"transform\":{\"id\":\"78c87aa2-4a18-4efa-a57d-09a3018e2250\",\"type\":\"Jitter\"},\"value\":5.5},\"y\":{\"field\":\"y\"}},\"id\":\"c204e864-f437-475e-8191-ee0df944dbe5\",\"type\":\"Circle\"},{\"attributes\":{},\"id\":\"5fc376b3-9384-4cb1-b981-ad019fea5c99\",\"type\":\"UnionRenderers\"},{\"attributes\":{},\"id\":\"f1aa02a7-90cc-4166-b9dd-3084ed435008\",\"type\":\"UnionRenderers\"},{\"attributes\":{},\"id\":\"25adc46b-221c-4e49-a74e-d1aaf6b8a852\",\"type\":\"ResetTool\"},{\"attributes\":{},\"id\":\"7c780ec9-cef9-40d3-9c23-cf1b037f8faf\",\"type\":\"Selection\"},{\"attributes\":{\"fill_alpha\":{\"value\":0.1},\"fill_color\":{\"value\":\"#1f77b4\"},\"line_alpha\":{\"value\":0.1},\"line_color\":{\"value\":\"#1f77b4\"},\"x\":{\"transform\":{\"id\":\"054c6e2c-82ac-4ebc-8fa9-43193bb6cf49\",\"type\":\"Jitter\"},\"value\":8.5},\"y\":{\"field\":\"y\"}},\"id\":\"d93b0062-b33d-4df3-a143-2e18a624efeb\",\"type\":\"Circle\"},{\"attributes\":{\"fill_alpha\":{\"value\":0.1},\"fill_color\":{\"value\":\"#1f77b4\"},\"line_alpha\":{\"value\":0.1},\"line_color\":{\"value\":\"#1f77b4\"},\"x\":{\"transform\":{\"id\":\"bdf30c25-43e5-44a0-b786-ef2390b073e1\",\"type\":\"Jitter\"},\"value\":6.5},\"y\":{\"field\":\"y\"}},\"id\":\"354a161b-ac3d-4cb4-8ef5-8d9bce7ba812\",\"type\":\"Circle\"},{\"attributes\":{\"fill_alpha\":{\"value\":0.1},\"fill_color\":{\"value\":\"#bcbd22\"},\"line_alpha\":{\"value\":0.1},\"line_color\":{\"value\":\"#bcbd22\"},\"x\":{\"transform\":{\"id\":\"054c6e2c-82ac-4ebc-8fa9-43193bb6cf49\",\"type\":\"Jitter\"},\"value\":8.5},\"y\":{\"field\":\"y\"}},\"id\":\"539e6bdd-7af7-455e-a67c-3019df6f81f4\",\"type\":\"Circle\"},{\"attributes\":{\"callback\":null,\"data\":{\"y\":{\"__ndarray__\":\"zczMzMzMIECamZmZmZkhQM3MzMzMzCBAAAAAAAAAIECamZmZmZkfQM3MzMzMzCFAMzMzMzMzIUAAAAAAAAAhQM3MzMzMzCFAMzMzMzMzIkAzMzMzMzMhQJqZmZmZmSNAZmZmZmZmIEAAAAAAAAAiQGZmZmZmZiNAMzMzMzMzIUBmZmZmZmYgQAAAAAAAACJAzczMzMzMIEAzMzMzMzMhQM3MzMzMzCFAMzMzMzMzIkCamZmZmZkgQGZmZmZmZiFAMzMzMzMzI0AAAAAAAAAhQDMzMzMzMyJAAAAAAAAAIkBmZmZmZmYiQM3MzMzMzCNAMzMzMzMzIUBmZmZmZmYiQM3MzMzMzCBAzczMzMzMIUAAAAAAAAAhQM3MzMzMzCRAMzMzMzMzI0AzMzMzMzMiQJqZmZmZmSJAmpmZmZmZIkCamZmZmZkhQJqZmZmZmSBAmpmZmZmZIUAzMzMzMzMiQDMzMzMzMyRAzczMzMzMIUBmZmZmZmYiQAAAAAAAACFAZmZmZmZmJEAzMzMzMzMkQGZmZmZmZiJAZmZmZmZmI0AzMzMzMzMiQAAAAAAAACFAZmZmZmZmIEAAAAAAAAAiQJqZmZmZmSJAAAAAAAAAIEAzMzMzMzMiQDMzMzMzMyBAmpmZmZmZIEBmZmZmZmYhQJqZmZmZmSFAMzMzMzMzIUBmZmZmZmYhQAAAAAAAACBAmpmZmZmZIUAAAAAAAAAiQDMzMzMzMyJAexSuR+F6I0AzMzMzMzMiQJqZmZmZmSNAzczMzMzMJECamZmZmZkgQOF6FK5H4SJAFK5H4XoUIkAAAAAAAAAiQJqZmZmZGSJAzczMzMxMI0BmZmZmZuYiQM3MzMzMTCFAZmZmZmbmIkBmZmZmZuYiQJqZmZmZGSJAAAAAAACAIUBmZmZmZuYiQDMzMzMzsyBA\",\"dtype\":\"float64\",\"shape\":[87]}},\"selected\":{\"id\":\"7e141d05-abc4-43bb-ba9c-cfbc7f1b8718\",\"type\":\"Selection\"},\"selection_policy\":{\"id\":\"4e7fa3a5-6531-462d-9b7f-021478d889f4\",\"type\":\"UnionRenderers\"}},\"id\":\"dfe503fd-46f6-4bc7-be1f-d78824acedc3\",\"type\":\"ColumnDataSource\"},{\"attributes\":{},\"id\":\"3690480f-9f69-4387-8a6c-75a7d7859efc\",\"type\":\"Selection\"},{\"attributes\":{\"source\":{\"id\":\"54667707-1b69-4049-aa78-70ba86b3cf8b\",\"type\":\"ColumnDataSource\"}},\"id\":\"f5f3a6bc-122d-4d9d-aab7-8535268fdde9\",\"type\":\"CDSView\"},{\"attributes\":{\"range\":null,\"width\":0.5},\"id\":\"e43612de-1b96-46d5-8039-f2c576d3bd68\",\"type\":\"Jitter\"},{\"attributes\":{\"data_source\":{\"id\":\"dfe503fd-46f6-4bc7-be1f-d78824acedc3\",\"type\":\"ColumnDataSource\"},\"glyph\":{\"id\":\"d064918a-c358-43d9-bce2-f52dd677d008\",\"type\":\"Circle\"},\"hover_glyph\":null,\"muted_glyph\":null,\"nonselection_glyph\":{\"id\":\"354a161b-ac3d-4cb4-8ef5-8d9bce7ba812\",\"type\":\"Circle\"},\"selection_glyph\":null,\"view\":{\"id\":\"697a534a-5737-4481-a09a-0dfc5f1468a5\",\"type\":\"CDSView\"}},\"id\":\"cb613749-0d08-49f2-baa7-55d41e63d4dd\",\"type\":\"GlyphRenderer\"},{\"attributes\":{\"range\":null,\"width\":0.5},\"id\":\"bddbeea3-4ade-4e4e-b34c-daad496b5298\",\"type\":\"Jitter\"},{\"attributes\":{\"fill_alpha\":{\"value\":0.1},\"fill_color\":{\"value\":\"#7f7f7f\"},\"line_alpha\":{\"value\":0.1},\"line_color\":{\"value\":\"#7f7f7f\"},\"x\":{\"transform\":{\"id\":\"b47a0214-a7d7-4b95-b13c-650fdbe9e650\",\"type\":\"Jitter\"},\"value\":7.5},\"y\":{\"field\":\"y\"}},\"id\":\"4afb4289-e9ca-49f5-8a5d-891cd9e648bb\",\"type\":\"Circle\"},{\"attributes\":{\"callback\":null,\"data\":{\"y\":{\"__ndarray__\":\"zczMzMzMIkAAAAAAAAAjQAAAAAAAACZAZmZmZmZmIUDNzMzMzMwgQDMzMzMzMyJAZmZmZmZmIUBmZmZmZmYkQDMzMzMzMyNAMzMzMzOzIUCamZmZmZkhQAAAAAAAACNAZmZmZmZmIkAAAAAAAAAiQJqZmZmZmSNAmpmZmZmZIkAAAAAAAAAiQGZmZmZmZiRAzczMzMzMHkAAAAAAAAAiQAAAAAAAACNAzczMzMzMIkAAAAAAAAAgQM3MzMzMzCFAzczMzMzMIkAAAAAAAAAjQAAAAAAAACBAAAAAAAAAJEBmZmZmZuYhQGZmZmZmZiBAmpmZmZmZIUBmZmZmZmYiQM3MzMzMzCJAAAAAAAAAI0AzMzMzMzMgQAAAAAAAACNAzczMzMzMIECamZmZmZkiQJqZmZmZmSJAMzMzMzMzI0BmZmZmZmYiQAAAAAAAACRAzczMzMzMIUAAAAAAAAAlQM3MzMzMzCFAMzMzMzMzIUCamZmZmZkhQM3MzMzMTCJAAAAAAAAAI0AzMzMzMzMiQGZmZmZmZiRAzczMzMzMIEAAAAAAAAAkQGZmZmZmZiRAmpmZmZmZIkCamZmZmZklQJqZmZmZmSBAMzMzMzMzH0CamZmZmZkjQJqZmZmZmR9AzczMzMzMIUDNzMzMzMweQM3MzMzMzCFAzczMzMzMIkDNzMzMzMwiQAAAAAAAACFAAAAAAAAAIUAzMzMzMzMjQGZmZmZmZiRAmpmZmZmZIUAAAAAAAAAjQJqZmZmZmSJAAAAAAAAAIkBmZmZmZmYiQGZmZmZmZiFAAAAAAAAAIkAzMzMzMzMiQGZmZmZmZiFAzczMzMzMIkCamZmZmZkjQDMzMzMzMyFAMzMzMzMzJUAAAAAAAAAiQAAAAAAAACNAMzMzMzMzIECamZmZmZkiQDMzMzMzMyNAAAAAAAAAIUBmZmZmZmYgQAAAAAAAACBAAAAAAAAAI0BmZmZmZmYjQM3MzMzMzCNAMzMzMzMzIkAAAAAAAAAjQJqZmZmZmSNAzczMzMzMIECamZmZmZkgQDMzMzMzMyNAzczMzMzMIkAAAAAAAAAkQM3MzMzMzCFAMzMzMzMzIkCamZmZmZkjQJqZmZmZmSJAzczMzMzMI0DNzMzMzMwhQAAAAAAAACFAMzMzMzMzJUCamZmZmZkiQM3MzMzMzCFAzczMzMzMIUBmZmZmZmYjQJqZmZmZmSNAAAAAAAAAJUDNzMzMzMwgQAAAAAAAACRAAAAAAAAAIkBmZmZmZmYhQJqZmZmZmSFAzczMzMzMIECamZmZmZkiQJqZmZmZmSNAzczMzMzMIUCamZmZmZkjQDMzMzMzMyJA\",\"dtype\":\"float64\",\"shape\":[126]}},\"selected\":{\"id\":\"f4140270-f81c-4b49-b260-668a1b335888\",\"type\":\"Selection\"},\"selection_policy\":{\"id\":\"17f5b913-caae-4c06-8d80-896fc0b0be4a\",\"type\":\"UnionRenderers\"}},\"id\":\"94312c2c-c96c-4d08-93ef-a062530afd10\",\"type\":\"ColumnDataSource\"},{\"attributes\":{\"fill_alpha\":{\"value\":0.1},\"fill_color\":{\"value\":\"#e377c2\"},\"line_alpha\":{\"value\":0.1},\"line_color\":{\"value\":\"#e377c2\"},\"x\":{\"transform\":{\"id\":\"bdf30c25-43e5-44a0-b786-ef2390b073e1\",\"type\":\"Jitter\"},\"value\":6.5},\"y\":{\"field\":\"y\"}},\"id\":\"d064918a-c358-43d9-bce2-f52dd677d008\",\"type\":\"Circle\"},{\"attributes\":{\"source\":{\"id\":\"dfe503fd-46f6-4bc7-be1f-d78824acedc3\",\"type\":\"ColumnDataSource\"}},\"id\":\"697a534a-5737-4481-a09a-0dfc5f1468a5\",\"type\":\"CDSView\"},{\"attributes\":{\"callback\":null,\"data\":{\"y\":{\"__ndarray__\":\"FK5H4XoUH0DD9Shcj8IfQNejcD0K1x9AAAAAAAAAIECF61G4HgUgQPYoXI/CdSBAmpmZmZmZIEC4HoXrUbggQD0K16NwvSBAzczMzMzMIEDNzMzMzMwgQM3MzMzMzCBAUrgehevRIEAAAAAAAAAhQAAAAAAAACFAMzMzMzMzIUAzMzMzMzMhQDMzMzMzMyFAuB6F61E4IUDXo3A9ClchQGZmZmZmZiFAZmZmZmZmIUBmZmZmZmYhQGZmZmZmZiFAZmZmZmZmIUBxPQrXo3AhQHE9CtejcCFACtejcD2KIUCamZmZmZkhQJqZmZmZmSFAmpmZmZmZIUCamZmZmZkhQB+F61G4niFAH4XrUbieIUA9CtejcL0hQMP1KFyPwiFASOF6FK7HIUDNzMzMzMwhQM3MzMzMzCFAzczMzMzMIUDNzMzMzMwhQM3MzMzMzCFAzczMzMzMIUDNzMzMzMwhQM3MzMzMzCFAzczMzMzMIUBSuB6F69EhQFK4HoXr0SFA16NwPQrXIUBcj8L1KNwhQFyPwvUo3CFAZmZmZmbmIUBmZmZmZuYhQOxRuB6F6yFAcT0K16PwIUBxPQrXo/AhQHsUrkfh+iFAAAAAAAAAIkAAAAAAAAAiQAAAAAAAACJAAAAAAAAAIkAAAAAAAAAiQIXrUbgeBSJACtejcD0KIkAK16NwPQoiQArXo3A9CiJAj8L1KFwPIkAUrkfhehQiQJqZmZmZGSJAmpmZmZkZIkAfhetRuB4iQDMzMzMzMyJAMzMzMzMzIkAzMzMzMzMiQDMzMzMzMyJAMzMzMzMzIkAzMzMzMzMiQMP1KFyPQiJAw/UoXI9CIkBI4XoUrkciQFyPwvUoXCJAZmZmZmZmIkBmZmZmZmYiQGZmZmZmZiJAZmZmZmZmIkDsUbgehWsiQOxRuB6FayJAcT0K16NwIkB7FK5H4XoiQHsUrkfheiJAAAAAAACAIkAAAAAAAIAiQAAAAAAAgCJAAAAAAACAIkCF61G4HoUiQIXrUbgehSJAj8L1KFyPIkCPwvUoXI8iQI/C9ShcjyJAmpmZmZmZIkCamZmZmZkiQJqZmZmZmSJAmpmZmZmZIkCamZmZmZkiQJqZmZmZmSJAmpmZmZmZIkCkcD0K16MiQClcj8L1qCJArkfhehSuIkCuR+F6FK4iQK5H4XoUriJAMzMzMzOzIkA9CtejcL0iQD0K16NwvSJAPQrXo3C9IkA9CtejcL0iQMP1KFyPwiJAzczMzMzMIkDNzMzMzMwiQM3MzMzMzCJAzczMzMzMIkDXo3A9CtciQFyPwvUo3CJAZmZmZmbmIkAAAAAAAAAjQAAAAAAAACNAhetRuB4FI0CF61G4HgUjQArXo3A9CiNAFK5H4XoUI0CamZmZmRkjQDMzMzMzMyNAMzMzMzMzI0AzMzMzMzMjQD0K16NwPSNASOF6FK5HI0DNzMzMzEwjQGZmZmZmZiNAZmZmZmZmI0D2KFyPwnUjQPYoXI/CdSNAexSuR+F6I0CamZmZmZkjQJqZmZmZmSNApHA9CtejI0AzMzMzM7MjQDMzMzMzsyNAzczMzMzMI0DNzMzMzMwjQOF6FK5H4SNAAAAAAAAAJEAzMzMzMzMkQLgehetROCRACtejcD2KJECuR+F6FK4kQClcj8L1qCZA\",\"dtype\":\"float64\",\"shape\":[156]}},\"selected\":{\"id\":\"81cb81e8-962b-4dad-a78a-cd4726bfd6ec\",\"type\":\"Selection\"},\"selection_policy\":{\"id\":\"4bed7df2-0772-4481-aa34-34d97cf57618\",\"type\":\"UnionRenderers\"}},\"id\":\"e1b8dee9-97a7-478b-bb23-5a9f21ad620e\",\"type\":\"ColumnDataSource\"}],\"root_ids\":[\"60602a3f-1820-4f38-a6cf-fef5e8418d8d\"]},\"title\":\"Bokeh Application\",\"version\":\"0.12.16\"}};\n",
       "  var render_items = [{\"docid\":\"bbe41ab2-7c03-4484-9329-6b87aa8600e8\",\"elementid\":\"9f3d2add-dded-4f8a-93ac-a9da43cc24b0\",\"modelid\":\"60602a3f-1820-4f38-a6cf-fef5e8418d8d\"}];\n",
       "  root.Bokeh.embed.embed_items_notebook(docs_json, render_items);\n",
       "\n",
       "  }\n",
       "  if (root.Bokeh !== undefined) {\n",
       "    embed_document(root);\n",
       "  } else {\n",
       "    var attempts = 0;\n",
       "    var timer = setInterval(function(root) {\n",
       "      if (root.Bokeh !== undefined) {\n",
       "        embed_document(root);\n",
       "        clearInterval(timer);\n",
       "      }\n",
       "      attempts++;\n",
       "      if (attempts > 100) {\n",
       "        console.log(\"Bokeh: ERROR: Unable to run BokehJS code because BokehJS library is missing\")\n",
       "        clearInterval(timer);\n",
       "      }\n",
       "    }, 10, root)\n",
       "  }\n",
       "})(window);"
      ],
      "application/vnd.bokehjs_exec.v0+json": ""
     },
     "metadata": {
      "application/vnd.bokehjs_exec.v0+json": {
       "id": "60602a3f-1820-4f38-a6cf-fef5e8418d8d"
      }
     },
     "output_type": "display_data"
    }
   ],
   "source": [
    "p = bootcamp_utils.bokeh_jitter(df, \n",
    "                                cats=['species', 'year'], \n",
    "                                val='beak depth (mm)',\n",
    "                                alpha=0.1)\n",
    "\n",
    "# Rotate tick labels\n",
    "p.xaxis.major_label_orientation = np.pi/4\n",
    "\n",
    "bokeh.io.show(p)"
   ]
  },
  {
   "cell_type": "markdown",
   "metadata": {},
   "source": [
    "If we want, we can overlay box plots and jitter plots using the `p` kwarg.  All of the `bootcamp_utils.bokeh_*` functions have a `p` kwarg, which enables overlays by populating the figure stored in `p` with the new glyphs."
   ]
  },
  {
   "cell_type": "code",
   "execution_count": 9,
   "metadata": {},
   "outputs": [
    {
     "data": {
      "text/html": [
       "\n",
       "<div class=\"bk-root\">\n",
       "    <div class=\"bk-plotdiv\" id=\"41b67f59-6eac-4841-8b54-07167a85a4ff\"></div>\n",
       "</div>"
      ]
     },
     "metadata": {},
     "output_type": "display_data"
    },
    {
     "data": {
      "application/javascript": [
       "(function(root) {\n",
       "  function embed_document(root) {\n",
       "    \n",
       "  var docs_json = {\"ecd92dbb-ef76-4b58-a4a5-fecebe935498\":{\"roots\":{\"references\":[{\"attributes\":{\"data_source\":{\"id\":\"ece11376-fde5-46e1-be98-4a91438786d9\",\"type\":\"ColumnDataSource\"},\"glyph\":{\"id\":\"2492dde1-49d6-4e91-a99e-ce384726b6d2\",\"type\":\"Line\"},\"hover_glyph\":null,\"muted_glyph\":null,\"nonselection_glyph\":{\"id\":\"6a1126c7-4608-4347-91ee-0b7af16d7e65\",\"type\":\"Line\"},\"selection_glyph\":null,\"view\":{\"id\":\"a2fa58bd-aac7-4c21-b716-23250d9e25a1\",\"type\":\"CDSView\"}},\"id\":\"7da2a08e-ff25-4eec-93f0-ddb1cd9038fa\",\"type\":\"GlyphRenderer\"},{\"attributes\":{\"data_source\":{\"id\":\"f7c3c48f-1318-415d-ae4e-f4792cb37d9e\",\"type\":\"ColumnDataSource\"},\"glyph\":{\"id\":\"ffa83544-8610-48c2-9893-22972debc211\",\"type\":\"Line\"},\"hover_glyph\":null,\"muted_glyph\":null,\"nonselection_glyph\":{\"id\":\"21b865c3-571b-4dce-8015-3705e6e24ed0\",\"type\":\"Line\"},\"selection_glyph\":null,\"view\":{\"id\":\"b537922b-f5ca-40a4-8887-43f7118ee35c\",\"type\":\"CDSView\"}},\"id\":\"52c7c5ec-55f7-4822-9247-0474505fbdce\",\"type\":\"GlyphRenderer\"},{\"attributes\":{},\"id\":\"aa58669e-3f0a-47d7-9b31-092eb64186ae\",\"type\":\"Selection\"},{\"attributes\":{\"source\":{\"id\":\"ece11376-fde5-46e1-be98-4a91438786d9\",\"type\":\"ColumnDataSource\"}},\"id\":\"a2fa58bd-aac7-4c21-b716-23250d9e25a1\",\"type\":\"CDSView\"},{\"attributes\":{\"x\":{\"field\":\"x\"},\"y\":{\"value\":10.295000000000002}},\"id\":\"91efb592-55eb-4287-8a29-49c0531c9d29\",\"type\":\"Line\"},{\"attributes\":{\"x\":{\"field\":\"x\"},\"y\":{\"value\":11.31}},\"id\":\"d753e895-dc40-40ae-9404-f53ea6043f21\",\"type\":\"Line\"},{\"attributes\":{\"source\":{\"id\":\"f7c3c48f-1318-415d-ae4e-f4792cb37d9e\",\"type\":\"ColumnDataSource\"}},\"id\":\"b537922b-f5ca-40a4-8887-43f7118ee35c\",\"type\":\"CDSView\"},{\"attributes\":{\"callback\":null,\"data\":{\"x\":[2.4,2.6]},\"selected\":{\"id\":\"fd0dd1d0-32bb-4291-a6bf-aac901a0ad02\",\"type\":\"Selection\"},\"selection_policy\":{\"id\":\"e76bde29-0443-4fde-bc21-54ac2021e9c5\",\"type\":\"UnionRenderers\"}},\"id\":\"dd6714a3-0c30-4ef5-ac36-bc8771ce48f0\",\"type\":\"ColumnDataSource\"},{\"attributes\":{\"line_alpha\":0.1,\"line_color\":\"#1f77b4\",\"x\":{\"field\":\"x\"},\"y\":{\"value\":10.295000000000002}},\"id\":\"e2e577ae-09f2-4511-9988-fec815e162c0\",\"type\":\"Line\"},{\"attributes\":{\"line_alpha\":0.1,\"line_color\":\"#1f77b4\",\"x\":{\"field\":\"x\"},\"y\":{\"value\":11.31}},\"id\":\"aefb1a73-e2e7-4147-8f93-a7fbec1cefa2\",\"type\":\"Line\"},{\"attributes\":{\"fill_color\":{\"value\":\"black\"},\"x\":{\"field\":\"x\"},\"y\":{\"field\":\"y\"}},\"id\":\"63643d06-8929-44b9-9198-42b1f47e94f1\",\"type\":\"Circle\"},{\"attributes\":{\"data_source\":{\"id\":\"6872b2bd-1dae-4520-9d84-d84b4635ec8b\",\"type\":\"ColumnDataSource\"},\"glyph\":{\"id\":\"91efb592-55eb-4287-8a29-49c0531c9d29\",\"type\":\"Line\"},\"hover_glyph\":null,\"muted_glyph\":null,\"nonselection_glyph\":{\"id\":\"e2e577ae-09f2-4511-9988-fec815e162c0\",\"type\":\"Line\"},\"selection_glyph\":null,\"view\":{\"id\":\"384799d5-ae54-4d1d-a4e7-c23cbeb65f6f\",\"type\":\"CDSView\"}},\"id\":\"e2e3be4c-1d46-487d-9286-ffea1159fcf2\",\"type\":\"GlyphRenderer\"},{\"attributes\":{\"fill_color\":{\"value\":\"black\"},\"x\":{\"field\":\"x\"},\"y\":{\"field\":\"y\"}},\"id\":\"217b7131-5171-493a-93cf-8b574720247f\",\"type\":\"Circle\"},{\"attributes\":{\"data_source\":{\"id\":\"dd6714a3-0c30-4ef5-ac36-bc8771ce48f0\",\"type\":\"ColumnDataSource\"},\"glyph\":{\"id\":\"d753e895-dc40-40ae-9404-f53ea6043f21\",\"type\":\"Line\"},\"hover_glyph\":null,\"muted_glyph\":null,\"nonselection_glyph\":{\"id\":\"aefb1a73-e2e7-4147-8f93-a7fbec1cefa2\",\"type\":\"Line\"},\"selection_glyph\":null,\"view\":{\"id\":\"67ea4139-93e0-426a-8ba7-ca4fd189c4da\",\"type\":\"CDSView\"}},\"id\":\"2734ebbf-e806-4dcb-af56-4c8c5a35dd0a\",\"type\":\"GlyphRenderer\"},{\"attributes\":{\"callback\":null,\"data\":{\"x\":[8.4,8.6]},\"selected\":{\"id\":\"f8b797b1-50ef-4b00-a99a-3cf474bc92e5\",\"type\":\"Selection\"},\"selection_policy\":{\"id\":\"65e26f30-66f1-4414-9a07-1aa83f7eb0fd\",\"type\":\"UnionRenderers\"}},\"id\":\"6872b2bd-1dae-4520-9d84-d84b4635ec8b\",\"type\":\"ColumnDataSource\"},{\"attributes\":{\"fill_alpha\":{\"value\":0.1},\"fill_color\":{\"value\":\"#1f77b4\"},\"line_alpha\":{\"value\":0.1},\"line_color\":{\"value\":\"#1f77b4\"},\"x\":{\"field\":\"x\"},\"y\":{\"field\":\"y\"}},\"id\":\"b793395f-b693-4a57-987a-7f3f4b9a696b\",\"type\":\"Circle\"},{\"attributes\":{\"fill_alpha\":{\"value\":0.1},\"fill_color\":{\"value\":\"#1f77b4\"},\"line_alpha\":{\"value\":0.1},\"line_color\":{\"value\":\"#1f77b4\"},\"x\":{\"field\":\"x\"},\"y\":{\"field\":\"y\"}},\"id\":\"7faa7edb-38d7-4cfc-ae0e-9b2f56a91021\",\"type\":\"Circle\"},{\"attributes\":{\"data_source\":{\"id\":\"581367a5-c951-4272-a51c-eabf39183d31\",\"type\":\"ColumnDataSource\"},\"glyph\":{\"id\":\"217b7131-5171-493a-93cf-8b574720247f\",\"type\":\"Circle\"},\"hover_glyph\":null,\"muted_glyph\":null,\"nonselection_glyph\":{\"id\":\"b793395f-b693-4a57-987a-7f3f4b9a696b\",\"type\":\"Circle\"},\"selection_glyph\":null,\"view\":{\"id\":\"0525f26a-4272-4e33-a825-069a089b4721\",\"type\":\"CDSView\"}},\"id\":\"3179f7da-7644-431d-b9e7-a3c3377f27e1\",\"type\":\"GlyphRenderer\"},{\"attributes\":{\"data_source\":{\"id\":\"7689b804-6e7b-4d6b-924b-202478dbd6f5\",\"type\":\"ColumnDataSource\"},\"glyph\":{\"id\":\"63643d06-8929-44b9-9198-42b1f47e94f1\",\"type\":\"Circle\"},\"hover_glyph\":null,\"muted_glyph\":null,\"nonselection_glyph\":{\"id\":\"7faa7edb-38d7-4cfc-ae0e-9b2f56a91021\",\"type\":\"Circle\"},\"selection_glyph\":null,\"view\":{\"id\":\"962acb71-35c4-4a3f-81ed-af729139410f\",\"type\":\"CDSView\"}},\"id\":\"b95a8ab5-aee3-4f00-8c2d-b832abd0437d\",\"type\":\"GlyphRenderer\"},{\"attributes\":{\"source\":{\"id\":\"581367a5-c951-4272-a51c-eabf39183d31\",\"type\":\"ColumnDataSource\"}},\"id\":\"0525f26a-4272-4e33-a825-069a089b4721\",\"type\":\"CDSView\"},{\"attributes\":{\"source\":{\"id\":\"7689b804-6e7b-4d6b-924b-202478dbd6f5\",\"type\":\"ColumnDataSource\"}},\"id\":\"962acb71-35c4-4a3f-81ed-af729139410f\",\"type\":\"CDSView\"},{\"attributes\":{\"source\":{\"id\":\"dd6714a3-0c30-4ef5-ac36-bc8771ce48f0\",\"type\":\"ColumnDataSource\"}},\"id\":\"67ea4139-93e0-426a-8ba7-ca4fd189c4da\",\"type\":\"CDSView\"},{\"attributes\":{\"source\":{\"id\":\"6872b2bd-1dae-4520-9d84-d84b4635ec8b\",\"type\":\"ColumnDataSource\"}},\"id\":\"384799d5-ae54-4d1d-a4e7-c23cbeb65f6f\",\"type\":\"CDSView\"},{\"attributes\":{\"callback\":null,\"data\":{\"x\":[2.5,2.5,2.5,2.5,2.5,2.5,2.5,2.5,2.5,2.5],\"y\":{\"__ndarray__\":\"AAAAAAAAHEB7FK5H4XocQNejcD0K1xxAMzMzMzMzHUDD9Shcj8ImQMP1KFyPwiZAexSuR+H6JkCPwvUoXA8nQD0K16NwvShAZmZmZmZmKUA=\",\"dtype\":\"float64\",\"shape\":[10]}},\"selected\":{\"id\":\"4448865c-9e0b-42ff-a4d3-7dd0ef542ecc\",\"type\":\"Selection\"},\"selection_policy\":{\"id\":\"6cd8833c-9f55-4323-83e8-c95ecd052f4c\",\"type\":\"UnionRenderers\"}},\"id\":\"581367a5-c951-4272-a51c-eabf39183d31\",\"type\":\"ColumnDataSource\"},{\"attributes\":{\"callback\":null,\"data\":{\"x\":[8.5,8.5],\"y\":{\"__ndarray__\":\"FK5H4XoUH0DNzMzMzMwkQA==\",\"dtype\":\"float64\",\"shape\":[2]}},\"selected\":{\"id\":\"548184a7-5c76-4d12-ab17-ec40496910ae\",\"type\":\"Selection\"},\"selection_policy\":{\"id\":\"eec921e8-c1ca-4730-a4a4-3015499affc9\",\"type\":\"UnionRenderers\"}},\"id\":\"7689b804-6e7b-4d6b-924b-202478dbd6f5\",\"type\":\"ColumnDataSource\"},{\"attributes\":{},\"id\":\"831db44d-8e85-4fad-b99f-026cd312fb83\",\"type\":\"UnionRenderers\"},{\"attributes\":{\"bottom\":{\"value\":8.8},\"fill_alpha\":{\"value\":0},\"fill_color\":{\"value\":\"#d62728\"},\"left\":{\"value\":3.25},\"right\":{\"value\":3.75},\"top\":{\"value\":9.8}},\"id\":\"b257e969-b22d-44cb-8365-b103b60b6a49\",\"type\":\"Quad\"},{\"attributes\":{\"bottom\":{\"value\":8.8},\"fill_alpha\":{\"value\":0},\"fill_color\":{\"value\":\"#17becf\"},\"left\":{\"value\":9.25},\"right\":{\"value\":9.75},\"top\":{\"value\":9.6}},\"id\":\"3eea4b2a-dace-4da9-bb79-11b877e0cb60\",\"type\":\"Quad\"},{\"attributes\":{\"bottom\":{\"value\":8.8},\"fill_alpha\":{\"value\":0.1},\"fill_color\":{\"value\":\"#1f77b4\"},\"left\":{\"value\":3.25},\"line_alpha\":{\"value\":0.1},\"line_color\":{\"value\":\"#1f77b4\"},\"right\":{\"value\":3.75},\"top\":{\"value\":9.8}},\"id\":\"310c8883-e04a-4dc1-96c7-11c3867a3f7a\",\"type\":\"Quad\"},{\"attributes\":{\"bottom\":{\"value\":8.8},\"fill_alpha\":{\"value\":0.1},\"fill_color\":{\"value\":\"#1f77b4\"},\"left\":{\"value\":9.25},\"line_alpha\":{\"value\":0.1},\"line_color\":{\"value\":\"#1f77b4\"},\"right\":{\"value\":9.75},\"top\":{\"value\":9.6}},\"id\":\"a1cd182c-4989-4999-9d23-84cd6b5fcf9d\",\"type\":\"Quad\"},{\"attributes\":{\"callback\":null,\"data\":{},\"selected\":{\"id\":\"2e3a1c5b-7904-4b48-9619-dfe3003822dc\",\"type\":\"Selection\"},\"selection_policy\":{\"id\":\"c30809ab-97ad-40fd-928c-666af1b37f53\",\"type\":\"UnionRenderers\"}},\"id\":\"442f73e0-2b91-4d69-8d4a-b7cc8bbbb80c\",\"type\":\"ColumnDataSource\"},{\"attributes\":{\"callback\":null,\"data\":{},\"selected\":{\"id\":\"819486ad-82f7-4b24-98bc-43ae6648482f\",\"type\":\"Selection\"},\"selection_policy\":{\"id\":\"936c800b-35f4-4e78-8b13-aeb2c67c7448\",\"type\":\"UnionRenderers\"}},\"id\":\"5435371f-0064-4cff-8d62-128c11ca4468\",\"type\":\"ColumnDataSource\"},{\"attributes\":{\"data_source\":{\"id\":\"442f73e0-2b91-4d69-8d4a-b7cc8bbbb80c\",\"type\":\"ColumnDataSource\"},\"glyph\":{\"id\":\"b257e969-b22d-44cb-8365-b103b60b6a49\",\"type\":\"Quad\"},\"hover_glyph\":null,\"muted_glyph\":null,\"nonselection_glyph\":{\"id\":\"310c8883-e04a-4dc1-96c7-11c3867a3f7a\",\"type\":\"Quad\"},\"selection_glyph\":null,\"view\":{\"id\":\"07fc6ce5-45c6-45d7-baf3-64d87372b535\",\"type\":\"CDSView\"}},\"id\":\"9668e326-1862-4f0b-8303-6277dba50301\",\"type\":\"GlyphRenderer\"},{\"attributes\":{\"data_source\":{\"id\":\"5435371f-0064-4cff-8d62-128c11ca4468\",\"type\":\"ColumnDataSource\"},\"glyph\":{\"id\":\"3eea4b2a-dace-4da9-bb79-11b877e0cb60\",\"type\":\"Quad\"},\"hover_glyph\":null,\"muted_glyph\":null,\"nonselection_glyph\":{\"id\":\"a1cd182c-4989-4999-9d23-84cd6b5fcf9d\",\"type\":\"Quad\"},\"selection_glyph\":null,\"view\":{\"id\":\"e7996125-a1bf-4a62-92b7-d1b9487ceb89\",\"type\":\"CDSView\"}},\"id\":\"2013659c-1c6e-437a-b8e0-5e0bff58b8ee\",\"type\":\"GlyphRenderer\"},{\"attributes\":{\"source\":{\"id\":\"442f73e0-2b91-4d69-8d4a-b7cc8bbbb80c\",\"type\":\"ColumnDataSource\"}},\"id\":\"07fc6ce5-45c6-45d7-baf3-64d87372b535\",\"type\":\"CDSView\"},{\"attributes\":{\"source\":{\"id\":\"5435371f-0064-4cff-8d62-128c11ca4468\",\"type\":\"ColumnDataSource\"}},\"id\":\"e7996125-a1bf-4a62-92b7-d1b9487ceb89\",\"type\":\"CDSView\"},{\"attributes\":{\"x\":{\"field\":\"x\"},\"y\":{\"field\":\"y\"}},\"id\":\"48647f5f-333f-4eb9-9db3-c8f07aa3c9c0\",\"type\":\"Line\"},{\"attributes\":{\"x\":{\"field\":\"x\"},\"y\":{\"field\":\"y\"}},\"id\":\"f3977a40-f91f-4b8c-bc53-fb54587fc2b4\",\"type\":\"Line\"},{\"attributes\":{\"callback\":null,\"data\":{\"x\":[3.25,3.75],\"y\":[9.2,9.2]},\"selected\":{\"id\":\"43594fbb-d93a-4949-92d7-8e3d96cdcf85\",\"type\":\"Selection\"},\"selection_policy\":{\"id\":\"56b1c2a5-f522-4a48-9813-ed76c3ab7f48\",\"type\":\"UnionRenderers\"}},\"id\":\"4c21cfb3-e51d-4f8b-bde3-a72824dbce23\",\"type\":\"ColumnDataSource\"},{\"attributes\":{\"callback\":null,\"data\":{\"x\":[9.25,9.75],\"y\":[9.2,9.2]},\"selected\":{\"id\":\"6d4a1e68-9580-4cb4-b2e5-6136376aa9d3\",\"type\":\"Selection\"},\"selection_policy\":{\"id\":\"ef6e3c6a-6bd7-49dd-8bdd-7ab248a2537b\",\"type\":\"UnionRenderers\"}},\"id\":\"1a6326b8-5587-40bc-8b41-596083f04c7c\",\"type\":\"ColumnDataSource\"},{\"attributes\":{\"line_alpha\":0.1,\"line_color\":\"#1f77b4\",\"x\":{\"field\":\"x\"},\"y\":{\"field\":\"y\"}},\"id\":\"c95d7443-6e1f-43cc-9146-c04f50d51c6f\",\"type\":\"Line\"},{\"attributes\":{\"line_alpha\":0.1,\"line_color\":\"#1f77b4\",\"x\":{\"field\":\"x\"},\"y\":{\"field\":\"y\"}},\"id\":\"dcb6809a-4ab9-4a90-953e-038a264057b8\",\"type\":\"Line\"},{\"attributes\":{\"data_source\":{\"id\":\"4c21cfb3-e51d-4f8b-bde3-a72824dbce23\",\"type\":\"ColumnDataSource\"},\"glyph\":{\"id\":\"48647f5f-333f-4eb9-9db3-c8f07aa3c9c0\",\"type\":\"Line\"},\"hover_glyph\":null,\"muted_glyph\":null,\"nonselection_glyph\":{\"id\":\"c95d7443-6e1f-43cc-9146-c04f50d51c6f\",\"type\":\"Line\"},\"selection_glyph\":null,\"view\":{\"id\":\"a317f46a-4d19-4447-af75-fbe3b3ab5fee\",\"type\":\"CDSView\"}},\"id\":\"02ed4ede-b9e3-41ec-908d-c024aff36f82\",\"type\":\"GlyphRenderer\"},{\"attributes\":{\"data_source\":{\"id\":\"1a6326b8-5587-40bc-8b41-596083f04c7c\",\"type\":\"ColumnDataSource\"},\"glyph\":{\"id\":\"f3977a40-f91f-4b8c-bc53-fb54587fc2b4\",\"type\":\"Line\"},\"hover_glyph\":null,\"muted_glyph\":null,\"nonselection_glyph\":{\"id\":\"dcb6809a-4ab9-4a90-953e-038a264057b8\",\"type\":\"Line\"},\"selection_glyph\":null,\"view\":{\"id\":\"1f1bd756-1c12-41da-baf2-b8e59ae825ad\",\"type\":\"CDSView\"}},\"id\":\"84d43126-8497-41bb-8ab0-b74128fa1dcd\",\"type\":\"GlyphRenderer\"},{\"attributes\":{\"source\":{\"id\":\"4c21cfb3-e51d-4f8b-bde3-a72824dbce23\",\"type\":\"ColumnDataSource\"}},\"id\":\"a317f46a-4d19-4447-af75-fbe3b3ab5fee\",\"type\":\"CDSView\"},{\"attributes\":{\"source\":{\"id\":\"1a6326b8-5587-40bc-8b41-596083f04c7c\",\"type\":\"ColumnDataSource\"}},\"id\":\"1f1bd756-1c12-41da-baf2-b8e59ae825ad\",\"type\":\"CDSView\"},{\"attributes\":{\"x\":{\"field\":\"x\"},\"y\":{\"field\":\"y\"}},\"id\":\"26dfc972-fd60-4e7f-afed-5cf83e2af6ad\",\"type\":\"Line\"},{\"attributes\":{\"x\":{\"field\":\"x\"},\"y\":{\"field\":\"y\"}},\"id\":\"6a1d6ec7-7bf1-4ec9-bafc-df7e34a09bd7\",\"type\":\"Line\"},{\"attributes\":{\"callback\":null,\"data\":{\"x\":[3.5,3.5],\"y\":[8.8,7.300000000000001]},\"selected\":{\"id\":\"c4e3a57a-6435-471d-9aa5-a587ba3dc54e\",\"type\":\"Selection\"},\"selection_policy\":{\"id\":\"ba10f807-379f-4131-82ac-738293e16937\",\"type\":\"UnionRenderers\"}},\"id\":\"b449f03d-15ad-4bd0-9bb4-6595bc89afe1\",\"type\":\"ColumnDataSource\"},{\"attributes\":{\"callback\":null,\"data\":{\"x\":[9.5,9.5],\"y\":[8.8,7.7]},\"selected\":{\"id\":\"25810a55-284d-48d9-9963-795234606e1d\",\"type\":\"Selection\"},\"selection_policy\":{\"id\":\"5e191dbd-6aa8-4dc6-b4d7-0fb92d2802be\",\"type\":\"UnionRenderers\"}},\"id\":\"8466fa00-14e5-4147-98d4-a1a21391cb8b\",\"type\":\"ColumnDataSource\"},{\"attributes\":{\"line_alpha\":0.1,\"line_color\":\"#1f77b4\",\"x\":{\"field\":\"x\"},\"y\":{\"field\":\"y\"}},\"id\":\"725762bb-85b9-4b50-a8ff-d70f69be89d6\",\"type\":\"Line\"},{\"attributes\":{\"line_alpha\":0.1,\"line_color\":\"#1f77b4\",\"x\":{\"field\":\"x\"},\"y\":{\"field\":\"y\"}},\"id\":\"6e177479-c073-4a59-8680-87e7c1504a48\",\"type\":\"Line\"},{\"attributes\":{\"data_source\":{\"id\":\"b449f03d-15ad-4bd0-9bb4-6595bc89afe1\",\"type\":\"ColumnDataSource\"},\"glyph\":{\"id\":\"26dfc972-fd60-4e7f-afed-5cf83e2af6ad\",\"type\":\"Line\"},\"hover_glyph\":null,\"muted_glyph\":null,\"nonselection_glyph\":{\"id\":\"725762bb-85b9-4b50-a8ff-d70f69be89d6\",\"type\":\"Line\"},\"selection_glyph\":null,\"view\":{\"id\":\"83e474d3-7ae2-44f1-a997-16ccb319f82e\",\"type\":\"CDSView\"}},\"id\":\"51d3d3fc-419f-4a29-8543-f6d9e639b3b3\",\"type\":\"GlyphRenderer\"},{\"attributes\":{\"data_source\":{\"id\":\"8466fa00-14e5-4147-98d4-a1a21391cb8b\",\"type\":\"ColumnDataSource\"},\"glyph\":{\"id\":\"6a1d6ec7-7bf1-4ec9-bafc-df7e34a09bd7\",\"type\":\"Line\"},\"hover_glyph\":null,\"muted_glyph\":null,\"nonselection_glyph\":{\"id\":\"6e177479-c073-4a59-8680-87e7c1504a48\",\"type\":\"Line\"},\"selection_glyph\":null,\"view\":{\"id\":\"32cc9a5c-e4f9-4a22-9117-dd7a8e9f963f\",\"type\":\"CDSView\"}},\"id\":\"c9f34c7a-bd83-470c-a3b8-9b0199bfd679\",\"type\":\"GlyphRenderer\"},{\"attributes\":{\"source\":{\"id\":\"b449f03d-15ad-4bd0-9bb4-6595bc89afe1\",\"type\":\"ColumnDataSource\"}},\"id\":\"83e474d3-7ae2-44f1-a997-16ccb319f82e\",\"type\":\"CDSView\"},{\"attributes\":{\"source\":{\"id\":\"8466fa00-14e5-4147-98d4-a1a21391cb8b\",\"type\":\"ColumnDataSource\"}},\"id\":\"32cc9a5c-e4f9-4a22-9117-dd7a8e9f963f\",\"type\":\"CDSView\"},{\"attributes\":{\"x\":{\"field\":\"x\"},\"y\":{\"field\":\"y\"}},\"id\":\"a20227bb-70de-4245-a152-88db2d8d5e59\",\"type\":\"Line\"},{\"attributes\":{\"x\":{\"field\":\"x\"},\"y\":{\"field\":\"y\"}},\"id\":\"b50db803-7478-4314-920d-a45d8d4f230b\",\"type\":\"Line\"},{\"attributes\":{\"callback\":null,\"data\":{\"x\":[3.5,3.5],\"y\":[9.8,11.3]},\"selected\":{\"id\":\"6b3aca79-1202-4b30-9395-0f713046e3b0\",\"type\":\"Selection\"},\"selection_policy\":{\"id\":\"d3444a16-c305-4463-93ca-707a5fc8bf61\",\"type\":\"UnionRenderers\"}},\"id\":\"f20a095d-c7f9-4f34-899c-7a4b79f76554\",\"type\":\"ColumnDataSource\"},{\"attributes\":{\"callback\":null,\"data\":{\"x\":[9.5,9.5],\"y\":[9.6,10.799999999999997]},\"selected\":{\"id\":\"3707b98b-f8a0-4f7a-bd58-46b9723c9440\",\"type\":\"Selection\"},\"selection_policy\":{\"id\":\"bad535e8-2756-4444-a47a-ffddddb02c06\",\"type\":\"UnionRenderers\"}},\"id\":\"6205f737-c154-485e-84a3-dfb4b8de54c4\",\"type\":\"ColumnDataSource\"},{\"attributes\":{\"line_alpha\":0.1,\"line_color\":\"#1f77b4\",\"x\":{\"field\":\"x\"},\"y\":{\"field\":\"y\"}},\"id\":\"7ea1fe08-9030-4d72-b527-569dead913e1\",\"type\":\"Line\"},{\"attributes\":{\"line_alpha\":0.1,\"line_color\":\"#1f77b4\",\"x\":{\"field\":\"x\"},\"y\":{\"field\":\"y\"}},\"id\":\"774b0959-16c7-4c9f-83c4-4f131a3f0951\",\"type\":\"Line\"},{\"attributes\":{\"data_source\":{\"id\":\"f20a095d-c7f9-4f34-899c-7a4b79f76554\",\"type\":\"ColumnDataSource\"},\"glyph\":{\"id\":\"a20227bb-70de-4245-a152-88db2d8d5e59\",\"type\":\"Line\"},\"hover_glyph\":null,\"muted_glyph\":null,\"nonselection_glyph\":{\"id\":\"7ea1fe08-9030-4d72-b527-569dead913e1\",\"type\":\"Line\"},\"selection_glyph\":null,\"view\":{\"id\":\"6ac9a9c5-fc64-46e0-ac1a-6bec840fbfb7\",\"type\":\"CDSView\"}},\"id\":\"54638aee-f083-41d6-b530-968cc46cee24\",\"type\":\"GlyphRenderer\"},{\"attributes\":{\"data_source\":{\"id\":\"6205f737-c154-485e-84a3-dfb4b8de54c4\",\"type\":\"ColumnDataSource\"},\"glyph\":{\"id\":\"b50db803-7478-4314-920d-a45d8d4f230b\",\"type\":\"Line\"},\"hover_glyph\":null,\"muted_glyph\":null,\"nonselection_glyph\":{\"id\":\"774b0959-16c7-4c9f-83c4-4f131a3f0951\",\"type\":\"Line\"},\"selection_glyph\":null,\"view\":{\"id\":\"d5f68bbd-a549-4850-b9c0-f5fbbe771cf0\",\"type\":\"CDSView\"}},\"id\":\"218fbc56-eb15-4e85-91e5-58cb7c95c7c0\",\"type\":\"GlyphRenderer\"},{\"attributes\":{\"source\":{\"id\":\"f20a095d-c7f9-4f34-899c-7a4b79f76554\",\"type\":\"ColumnDataSource\"}},\"id\":\"6ac9a9c5-fc64-46e0-ac1a-6bec840fbfb7\",\"type\":\"CDSView\"},{\"attributes\":{\"source\":{\"id\":\"6205f737-c154-485e-84a3-dfb4b8de54c4\",\"type\":\"ColumnDataSource\"}},\"id\":\"d5f68bbd-a549-4850-b9c0-f5fbbe771cf0\",\"type\":\"CDSView\"},{\"attributes\":{\"x\":{\"field\":\"x\"},\"y\":{\"value\":7.300000000000001}},\"id\":\"736b0b44-af0b-4002-994c-a4792ae6450f\",\"type\":\"Line\"},{\"attributes\":{\"x\":{\"field\":\"x\"},\"y\":{\"value\":7.7}},\"id\":\"818b7e1b-af97-4271-9045-09168d277127\",\"type\":\"Line\"},{\"attributes\":{\"callback\":null,\"data\":{\"x\":[3.4,3.6]},\"selected\":{\"id\":\"4b1711d8-a359-43a9-946c-5fc96587343b\",\"type\":\"Selection\"},\"selection_policy\":{\"id\":\"a561d4be-305f-409a-9156-d52bf2a2d088\",\"type\":\"UnionRenderers\"}},\"id\":\"b3a960f3-c1e6-4e66-ab78-f835324aeef3\",\"type\":\"ColumnDataSource\"},{\"attributes\":{\"callback\":null,\"data\":{\"x\":[9.4,9.6]},\"selected\":{\"id\":\"4da4a96b-5e76-44b0-b473-be6cb9eefdb2\",\"type\":\"Selection\"},\"selection_policy\":{\"id\":\"269eb4d3-6d32-44e3-b33e-d2a8ae475e1e\",\"type\":\"UnionRenderers\"}},\"id\":\"43a7d2f0-5dcf-49c0-ac40-e4240f40f878\",\"type\":\"ColumnDataSource\"},{\"attributes\":{\"line_alpha\":0.1,\"line_color\":\"#1f77b4\",\"x\":{\"field\":\"x\"},\"y\":{\"value\":7.300000000000001}},\"id\":\"f567fdad-81e1-4950-9668-4b69d52b61bc\",\"type\":\"Line\"},{\"attributes\":{\"line_alpha\":0.1,\"line_color\":\"#1f77b4\",\"x\":{\"field\":\"x\"},\"y\":{\"value\":7.7}},\"id\":\"9bc94d68-5b4f-40f3-a2a9-3162bc6c6ec1\",\"type\":\"Line\"},{\"attributes\":{\"x\":{\"field\":\"x\"},\"y\":{\"value\":11.3}},\"id\":\"3b42b44b-15e4-4f29-99c7-c33ee5e8e91a\",\"type\":\"Line\"},{\"attributes\":{\"x\":{\"field\":\"x\"},\"y\":{\"value\":10.799999999999997}},\"id\":\"168a4680-e59f-45d5-af10-a872f2254125\",\"type\":\"Line\"},{\"attributes\":{\"data_source\":{\"id\":\"b3a960f3-c1e6-4e66-ab78-f835324aeef3\",\"type\":\"ColumnDataSource\"},\"glyph\":{\"id\":\"736b0b44-af0b-4002-994c-a4792ae6450f\",\"type\":\"Line\"},\"hover_glyph\":null,\"muted_glyph\":null,\"nonselection_glyph\":{\"id\":\"f567fdad-81e1-4950-9668-4b69d52b61bc\",\"type\":\"Line\"},\"selection_glyph\":null,\"view\":{\"id\":\"1b0518b5-890c-450b-9699-d32486ba89ea\",\"type\":\"CDSView\"}},\"id\":\"537255db-f239-4cc0-b89f-c7334bf50cd0\",\"type\":\"GlyphRenderer\"},{\"attributes\":{\"data_source\":{\"id\":\"43a7d2f0-5dcf-49c0-ac40-e4240f40f878\",\"type\":\"ColumnDataSource\"},\"glyph\":{\"id\":\"818b7e1b-af97-4271-9045-09168d277127\",\"type\":\"Line\"},\"hover_glyph\":null,\"muted_glyph\":null,\"nonselection_glyph\":{\"id\":\"9bc94d68-5b4f-40f3-a2a9-3162bc6c6ec1\",\"type\":\"Line\"},\"selection_glyph\":null,\"view\":{\"id\":\"078f8d51-99ea-409e-a8b6-ad2f3c654f75\",\"type\":\"CDSView\"}},\"id\":\"2982705e-76ab-46ed-8c7e-bf0f1006f474\",\"type\":\"GlyphRenderer\"},{\"attributes\":{\"line_alpha\":0.1,\"line_color\":\"#1f77b4\",\"x\":{\"field\":\"x\"},\"y\":{\"value\":11.3}},\"id\":\"fb82b3f6-fee3-4966-a745-5b117adb417d\",\"type\":\"Line\"},{\"attributes\":{\"line_alpha\":0.1,\"line_color\":\"#1f77b4\",\"x\":{\"field\":\"x\"},\"y\":{\"value\":10.799999999999997}},\"id\":\"3bb02da0-c680-467a-a31f-b18a3a940c3b\",\"type\":\"Line\"},{\"attributes\":{\"fill_color\":{\"value\":\"black\"},\"x\":{\"field\":\"x\"},\"y\":{\"field\":\"y\"}},\"id\":\"c3032c5f-2a94-4bcb-94f8-703c374775b9\",\"type\":\"Circle\"},{\"attributes\":{\"fill_color\":{\"value\":\"black\"},\"x\":{\"field\":\"x\"},\"y\":{\"field\":\"y\"}},\"id\":\"d827edaf-fdef-4fb3-838b-4fde06706c11\",\"type\":\"Circle\"},{\"attributes\":{\"data_source\":{\"id\":\"b5c04a1f-0967-4cac-b7e1-e79380a54f9c\",\"type\":\"ColumnDataSource\"},\"glyph\":{\"id\":\"3b42b44b-15e4-4f29-99c7-c33ee5e8e91a\",\"type\":\"Line\"},\"hover_glyph\":null,\"muted_glyph\":null,\"nonselection_glyph\":{\"id\":\"fb82b3f6-fee3-4966-a745-5b117adb417d\",\"type\":\"Line\"},\"selection_glyph\":null,\"view\":{\"id\":\"d7d68b99-23eb-49de-819b-34281b808489\",\"type\":\"CDSView\"}},\"id\":\"2c24e3e2-e79b-40de-9e23-d936e6314e97\",\"type\":\"GlyphRenderer\"},{\"attributes\":{\"data_source\":{\"id\":\"1a1850f8-bb61-4f4a-a4ef-9bb72dac6652\",\"type\":\"ColumnDataSource\"},\"glyph\":{\"id\":\"168a4680-e59f-45d5-af10-a872f2254125\",\"type\":\"Line\"},\"hover_glyph\":null,\"muted_glyph\":null,\"nonselection_glyph\":{\"id\":\"3bb02da0-c680-467a-a31f-b18a3a940c3b\",\"type\":\"Line\"},\"selection_glyph\":null,\"view\":{\"id\":\"ca5895ec-99bd-4cac-b910-4d58e5a611e1\",\"type\":\"CDSView\"}},\"id\":\"22ca9df0-284a-49bf-bef5-c2ae189346d8\",\"type\":\"GlyphRenderer\"},{\"attributes\":{\"source\":{\"id\":\"b3a960f3-c1e6-4e66-ab78-f835324aeef3\",\"type\":\"ColumnDataSource\"}},\"id\":\"1b0518b5-890c-450b-9699-d32486ba89ea\",\"type\":\"CDSView\"},{\"attributes\":{\"source\":{\"id\":\"43a7d2f0-5dcf-49c0-ac40-e4240f40f878\",\"type\":\"ColumnDataSource\"}},\"id\":\"078f8d51-99ea-409e-a8b6-ad2f3c654f75\",\"type\":\"CDSView\"},{\"attributes\":{\"callback\":null,\"data\":{\"x\":[3.4,3.6]},\"selected\":{\"id\":\"6e0564f0-f2cc-408d-b065-9054790aa9d5\",\"type\":\"Selection\"},\"selection_policy\":{\"id\":\"022102ae-8dcc-4b50-bb50-dc8060ce8fe6\",\"type\":\"UnionRenderers\"}},\"id\":\"b5c04a1f-0967-4cac-b7e1-e79380a54f9c\",\"type\":\"ColumnDataSource\"},{\"attributes\":{\"callback\":null,\"data\":{\"x\":[9.4,9.6]},\"selected\":{\"id\":\"d7933e8b-458d-4db1-98cf-9d4c3882dd7e\",\"type\":\"Selection\"},\"selection_policy\":{\"id\":\"21a36f93-abe3-4c08-8ce8-79eec54ca4c1\",\"type\":\"UnionRenderers\"}},\"id\":\"1a1850f8-bb61-4f4a-a4ef-9bb72dac6652\",\"type\":\"ColumnDataSource\"},{\"attributes\":{\"fill_alpha\":{\"value\":0.1},\"fill_color\":{\"value\":\"#1f77b4\"},\"line_alpha\":{\"value\":0.1},\"line_color\":{\"value\":\"#1f77b4\"},\"x\":{\"field\":\"x\"},\"y\":{\"field\":\"y\"}},\"id\":\"106d0861-ecb1-4d7e-be11-31eccca2f33e\",\"type\":\"Circle\"},{\"attributes\":{\"fill_alpha\":{\"value\":0.1},\"fill_color\":{\"value\":\"#1f77b4\"},\"line_alpha\":{\"value\":0.1},\"line_color\":{\"value\":\"#1f77b4\"},\"x\":{\"field\":\"x\"},\"y\":{\"field\":\"y\"}},\"id\":\"e5def5ad-c6d7-4245-acd9-e16bbd953bad\",\"type\":\"Circle\"},{\"attributes\":{\"data_source\":{\"id\":\"42ca2d68-d755-441f-aea9-2138179777ec\",\"type\":\"ColumnDataSource\"},\"glyph\":{\"id\":\"c3032c5f-2a94-4bcb-94f8-703c374775b9\",\"type\":\"Circle\"},\"hover_glyph\":null,\"muted_glyph\":null,\"nonselection_glyph\":{\"id\":\"106d0861-ecb1-4d7e-be11-31eccca2f33e\",\"type\":\"Circle\"},\"selection_glyph\":null,\"view\":{\"id\":\"01f1900a-860e-4d6a-a8a3-d82eeab1b579\",\"type\":\"CDSView\"}},\"id\":\"01cd84c9-4e02-4eda-a8a2-b6ca0232638f\",\"type\":\"GlyphRenderer\"},{\"attributes\":{\"data_source\":{\"id\":\"ba00979a-e934-4770-98b3-8f00087951b4\",\"type\":\"ColumnDataSource\"},\"glyph\":{\"id\":\"d827edaf-fdef-4fb3-838b-4fde06706c11\",\"type\":\"Circle\"},\"hover_glyph\":null,\"muted_glyph\":null,\"nonselection_glyph\":{\"id\":\"e5def5ad-c6d7-4245-acd9-e16bbd953bad\",\"type\":\"Circle\"},\"selection_glyph\":null,\"view\":{\"id\":\"c8bf1bf1-c3f5-4c1b-b737-fd8f55c43f39\",\"type\":\"CDSView\"}},\"id\":\"d9b03a64-ea7f-4d8c-a2aa-1951cf7e1ecf\",\"type\":\"GlyphRenderer\"},{\"attributes\":{\"source\":{\"id\":\"42ca2d68-d755-441f-aea9-2138179777ec\",\"type\":\"ColumnDataSource\"}},\"id\":\"01f1900a-860e-4d6a-a8a3-d82eeab1b579\",\"type\":\"CDSView\"},{\"attributes\":{\"source\":{\"id\":\"ba00979a-e934-4770-98b3-8f00087951b4\",\"type\":\"ColumnDataSource\"}},\"id\":\"c8bf1bf1-c3f5-4c1b-b737-fd8f55c43f39\",\"type\":\"CDSView\"},{\"attributes\":{\"source\":{\"id\":\"b5c04a1f-0967-4cac-b7e1-e79380a54f9c\",\"type\":\"ColumnDataSource\"}},\"id\":\"d7d68b99-23eb-49de-819b-34281b808489\",\"type\":\"CDSView\"},{\"attributes\":{\"source\":{\"id\":\"1a1850f8-bb61-4f4a-a4ef-9bb72dac6652\",\"type\":\"ColumnDataSource\"}},\"id\":\"ca5895ec-99bd-4cac-b910-4d58e5a611e1\",\"type\":\"CDSView\"},{\"attributes\":{\"callback\":null,\"data\":{\"x\":[3.5,3.5,3.5,3.5,3.5],\"y\":{\"__ndarray__\":\"PQrXo3C9KEDD9Shcj8ImQAAAAAAAABxAMzMzMzMzHUCamZmZmZkbQA==\",\"dtype\":\"float64\",\"shape\":[5]}},\"selected\":{\"id\":\"e0088c08-9a15-4c5f-b53a-b132b48eae98\",\"type\":\"Selection\"},\"selection_policy\":{\"id\":\"af7148c5-4c45-4ea2-947b-b39457553506\",\"type\":\"UnionRenderers\"}},\"id\":\"42ca2d68-d755-441f-aea9-2138179777ec\",\"type\":\"ColumnDataSource\"},{\"attributes\":{\"callback\":null,\"data\":{\"x\":[9.5,9.5],\"y\":{\"__ndarray__\":\"AAAAAAAAJkCamZmZmZklQA==\",\"dtype\":\"float64\",\"shape\":[2]}},\"selected\":{\"id\":\"c9478c99-5f3f-4ce5-895d-5acda0f8824c\",\"type\":\"Selection\"},\"selection_policy\":{\"id\":\"50724dc0-92e9-4678-8353-ff37f3006600\",\"type\":\"UnionRenderers\"}},\"id\":\"ba00979a-e934-4770-98b3-8f00087951b4\",\"type\":\"ColumnDataSource\"},{\"attributes\":{},\"id\":\"b7ca35bc-0643-4eb4-a3e5-7a46104d9e52\",\"type\":\"UnionRenderers\"},{\"attributes\":{},\"id\":\"58805f61-c32b-429f-ac5a-6a885ea56614\",\"type\":\"Selection\"},{\"attributes\":{\"range\":null,\"width\":0.5},\"id\":\"507520f0-f68c-447e-9137-96507b8b7557\",\"type\":\"Jitter\"},{\"attributes\":{\"callback\":null,\"data\":{\"y\":{\"__ndarray__\":\"mpmZmZkZIEBmZmZmZuYkQJqZmZmZGSNAAAAAAACAIUDNzMzMzEwkQDMzMzMzsyNAMzMzMzOzIUDNzMzMzEwkQM3MzMzMTCBAmpmZmZkZIUDNzMzMzEwlQJqZmZmZGSBAAAAAAACAI0DNzMzMzEwkQDMzMzMzsyNAAAAAAACAI0AzMzMzM7MgQJqZmZmZGSFAAAAAAACAJEAzMzMzM7MiQM3MzMzMTCRAmpmZmZkZIUAzMzMzM7MhQDMzMzMzsyNAAAAAAACAJUAzMzMzM7MjQGZmZmZm5iBAmpmZmZkZJUAzMzMzM7MgQAAAAAAAgCBAZmZmZmbmJUDNzMzMzEwiQDMzMzMzsyFAmpmZmZkZJECamZmZmRkjQM3MzMzMTChAmpmZmZkZI0AAAAAAAIAjQAAAAAAAgCJAmpmZmZkZIkBmZmZmZuYgQJqZmZmZGSNAZmZmZmbmI0DNzMzMzEwlQM3MzMzMzB9AzczMzMxMJUDNzMzMzEwiQJqZmZmZGSRAAAAAAACAI0CamZmZmRkkQM3MzMzMTCNAZmZmZmbmIkAAAAAAAIAlQDMzMzMzsyNAzczMzMxMJkAzMzMzM7MlQJqZmZmZGSFAAAAAAACAJEAzMzMzM7MgQM3MzMzMTCJAMzMzMzOzIkDNzMzMzEwkQAAAAAAAgCNAAAAAAACAJUAzMzMzM7MiQM3MzMzMTCFAMzMzMzOzJECamZmZmRklQGZmZmZm5iJAMzMzMzOzIUBmZmZmZuYiQDMzMzMzsyNAzczMzMxMIkA=\",\"dtype\":\"float64\",\"shape\":[73]}},\"selected\":{\"id\":\"dac22032-0393-477d-959b-e360b372c499\",\"type\":\"Selection\"},\"selection_policy\":{\"id\":\"0b0b1835-8825-4857-bfbb-27edede819e8\",\"type\":\"UnionRenderers\"}},\"id\":\"69511f8f-5572-4575-b6fe-ca55dbb691bd\",\"type\":\"ColumnDataSource\"},{\"attributes\":{},\"id\":\"762f5770-604b-4b6c-83bb-0a3fe94760c2\",\"type\":\"Selection\"},{\"attributes\":{\"range\":null,\"width\":0.5},\"id\":\"499b73f7-3858-4617-9f8c-44299981cd42\",\"type\":\"Jitter\"},{\"attributes\":{\"fill_alpha\":{\"value\":0.1},\"fill_color\":{\"value\":\"#1f77b4\"},\"line_alpha\":{\"value\":0.1},\"line_color\":{\"value\":\"#1f77b4\"},\"x\":{\"transform\":{\"id\":\"507520f0-f68c-447e-9137-96507b8b7557\",\"type\":\"Jitter\"},\"value\":0.5},\"y\":{\"field\":\"y\"}},\"id\":\"190b54a5-7947-4335-a39c-368567903dbb\",\"type\":\"Circle\"},{\"attributes\":{\"fill_alpha\":{\"value\":0.1},\"fill_color\":{\"value\":\"#1f77b4\"},\"line_alpha\":{\"value\":0.1},\"line_color\":{\"value\":\"#1f77b4\"},\"x\":{\"transform\":{\"id\":\"507520f0-f68c-447e-9137-96507b8b7557\",\"type\":\"Jitter\"},\"value\":0.5},\"y\":{\"field\":\"y\"}},\"id\":\"00bfd40d-51dc-4db0-b498-4dd838980aef\",\"type\":\"Circle\"},{\"attributes\":{\"source\":{\"id\":\"69511f8f-5572-4575-b6fe-ca55dbb691bd\",\"type\":\"ColumnDataSource\"}},\"id\":\"d07aefb3-e59b-47df-846f-065714e76ca0\",\"type\":\"CDSView\"},{\"attributes\":{\"data_source\":{\"id\":\"69511f8f-5572-4575-b6fe-ca55dbb691bd\",\"type\":\"ColumnDataSource\"},\"glyph\":{\"id\":\"190b54a5-7947-4335-a39c-368567903dbb\",\"type\":\"Circle\"},\"hover_glyph\":null,\"muted_glyph\":null,\"nonselection_glyph\":{\"id\":\"00bfd40d-51dc-4db0-b498-4dd838980aef\",\"type\":\"Circle\"},\"selection_glyph\":null,\"view\":{\"id\":\"d07aefb3-e59b-47df-846f-065714e76ca0\",\"type\":\"CDSView\"}},\"id\":\"68f11da7-f06d-4f86-a4f7-a998bca458fc\",\"type\":\"GlyphRenderer\"},{\"attributes\":{\"data_source\":{\"id\":\"8760478f-8cd3-40c4-99da-34806768941f\",\"type\":\"ColumnDataSource\"},\"glyph\":{\"id\":\"834a0575-3081-4b8d-9b58-b81f52fd580b\",\"type\":\"Circle\"},\"hover_glyph\":null,\"muted_glyph\":null,\"nonselection_glyph\":{\"id\":\"d63ab3c4-9ba4-4cae-ba11-4e10276c86be\",\"type\":\"Circle\"},\"selection_glyph\":null,\"view\":{\"id\":\"f59b8fe3-bbb2-4e25-b194-58d8c7dd3f31\",\"type\":\"CDSView\"}},\"id\":\"1e072730-743b-4c87-9647-e0563c225b5b\",\"type\":\"GlyphRenderer\"},{\"attributes\":{},\"id\":\"603597f6-8d90-4f73-aabd-5bdadd79ffcf\",\"type\":\"UnionRenderers\"},{\"attributes\":{},\"id\":\"3215b1f0-d7c2-410d-acb7-d95a240ab7f4\",\"type\":\"UnionRenderers\"},{\"attributes\":{},\"id\":\"8e3703a1-b2d2-4720-a6c1-db5238e7ba72\",\"type\":\"Selection\"},{\"attributes\":{},\"id\":\"26591c84-d12f-4132-a3cb-a7e0878251ce\",\"type\":\"Selection\"},{\"attributes\":{},\"id\":\"e78ea3ee-d67f-42ee-bda5-a89f448eced2\",\"type\":\"Selection\"},{\"attributes\":{},\"id\":\"eb60bc94-cc5b-4182-8983-622945a3af03\",\"type\":\"UnionRenderers\"},{\"attributes\":{},\"id\":\"c8e03103-26a6-44e2-aa07-5729aaae7eb5\",\"type\":\"Selection\"},{\"attributes\":{},\"id\":\"a02fdfff-7c2f-41c4-a37d-b9cea724bae9\",\"type\":\"UnionRenderers\"},{\"attributes\":{},\"id\":\"22527c16-8bee-4a2d-a384-a1a2da5d8505\",\"type\":\"Selection\"},{\"attributes\":{\"source\":{\"id\":\"8760478f-8cd3-40c4-99da-34806768941f\",\"type\":\"ColumnDataSource\"}},\"id\":\"f59b8fe3-bbb2-4e25-b194-58d8c7dd3f31\",\"type\":\"CDSView\"},{\"attributes\":{\"bottom\":{\"value\":8.85},\"fill_alpha\":{\"value\":0},\"fill_color\":{\"value\":\"#1f77b4\"},\"left\":{\"value\":0.25},\"right\":{\"value\":0.75},\"top\":{\"value\":10.15}},\"id\":\"7d803bcd-2f02-4e8f-a83a-c963d4e8e26c\",\"type\":\"Quad\"},{\"attributes\":{\"bottom\":{\"value\":8.85},\"fill_alpha\":{\"value\":0.1},\"fill_color\":{\"value\":\"#1f77b4\"},\"left\":{\"value\":0.25},\"line_alpha\":{\"value\":0.1},\"line_color\":{\"value\":\"#1f77b4\"},\"right\":{\"value\":0.75},\"top\":{\"value\":10.15}},\"id\":\"53d1c772-c5d7-437e-9a59-0ddbb8ad952c\",\"type\":\"Quad\"},{\"attributes\":{\"callback\":null,\"data\":{},\"selected\":{\"id\":\"c8e03103-26a6-44e2-aa07-5729aaae7eb5\",\"type\":\"Selection\"},\"selection_policy\":{\"id\":\"e37eed53-2a4c-4ada-89a2-c67ef3ef7d10\",\"type\":\"UnionRenderers\"}},\"id\":\"0a9f38a7-5d2e-4a6c-9da7-5324e40fa9ba\",\"type\":\"ColumnDataSource\"},{\"attributes\":{\"data_source\":{\"id\":\"0a9f38a7-5d2e-4a6c-9da7-5324e40fa9ba\",\"type\":\"ColumnDataSource\"},\"glyph\":{\"id\":\"7d803bcd-2f02-4e8f-a83a-c963d4e8e26c\",\"type\":\"Quad\"},\"hover_glyph\":null,\"muted_glyph\":null,\"nonselection_glyph\":{\"id\":\"53d1c772-c5d7-437e-9a59-0ddbb8ad952c\",\"type\":\"Quad\"},\"selection_glyph\":null,\"view\":{\"id\":\"2b2ace9a-5c11-4b33-a337-a00122df0651\",\"type\":\"CDSView\"}},\"id\":\"4ea2f25d-bde8-4f6e-9408-a9b04197666f\",\"type\":\"GlyphRenderer\"},{\"attributes\":{\"source\":{\"id\":\"0a9f38a7-5d2e-4a6c-9da7-5324e40fa9ba\",\"type\":\"ColumnDataSource\"}},\"id\":\"2b2ace9a-5c11-4b33-a337-a00122df0651\",\"type\":\"CDSView\"},{\"attributes\":{\"x\":{\"field\":\"x\"},\"y\":{\"field\":\"y\"}},\"id\":\"66f12c20-a981-4785-8838-c54f077ae4a6\",\"type\":\"Line\"},{\"attributes\":{\"callback\":null,\"data\":{\"x\":[0.25,0.75],\"y\":[9.65,9.65]},\"selected\":{\"id\":\"26591c84-d12f-4132-a3cb-a7e0878251ce\",\"type\":\"Selection\"},\"selection_policy\":{\"id\":\"3215b1f0-d7c2-410d-acb7-d95a240ab7f4\",\"type\":\"UnionRenderers\"}},\"id\":\"8cd233cd-197c-4b80-b201-521ca8e319a8\",\"type\":\"ColumnDataSource\"},{\"attributes\":{\"line_alpha\":0.1,\"line_color\":\"#1f77b4\",\"x\":{\"field\":\"x\"},\"y\":{\"field\":\"y\"}},\"id\":\"f5eacd34-5a31-4eca-be2c-a7b1b4eecbdb\",\"type\":\"Line\"},{\"attributes\":{\"data_source\":{\"id\":\"8cd233cd-197c-4b80-b201-521ca8e319a8\",\"type\":\"ColumnDataSource\"},\"glyph\":{\"id\":\"66f12c20-a981-4785-8838-c54f077ae4a6\",\"type\":\"Line\"},\"hover_glyph\":null,\"muted_glyph\":null,\"nonselection_glyph\":{\"id\":\"f5eacd34-5a31-4eca-be2c-a7b1b4eecbdb\",\"type\":\"Line\"},\"selection_glyph\":null,\"view\":{\"id\":\"4c5d35ec-b1f9-45f6-a5be-4a88d8ca6580\",\"type\":\"CDSView\"}},\"id\":\"c48cc375-417c-4d9f-92ab-832eb5659c94\",\"type\":\"GlyphRenderer\"},{\"attributes\":{\"source\":{\"id\":\"8cd233cd-197c-4b80-b201-521ca8e319a8\",\"type\":\"ColumnDataSource\"}},\"id\":\"4c5d35ec-b1f9-45f6-a5be-4a88d8ca6580\",\"type\":\"CDSView\"},{\"attributes\":{\"x\":{\"field\":\"x\"},\"y\":{\"field\":\"y\"}},\"id\":\"ece98dfd-53db-42b7-80a1-fd044a9a683e\",\"type\":\"Line\"},{\"attributes\":{\"callback\":null,\"data\":{\"x\":[0.5,0.5],\"y\":[8.85,7.95]},\"selected\":{\"id\":\"8e3703a1-b2d2-4720-a6c1-db5238e7ba72\",\"type\":\"Selection\"},\"selection_policy\":{\"id\":\"eb60bc94-cc5b-4182-8983-622945a3af03\",\"type\":\"UnionRenderers\"}},\"id\":\"891f4934-1355-4cbb-8cfd-f56a43bfbea9\",\"type\":\"ColumnDataSource\"},{\"attributes\":{\"line_alpha\":0.1,\"line_color\":\"#1f77b4\",\"x\":{\"field\":\"x\"},\"y\":{\"field\":\"y\"}},\"id\":\"36988cb5-0cb5-4ab3-9b01-b95d16b26e8f\",\"type\":\"Line\"},{\"attributes\":{\"data_source\":{\"id\":\"891f4934-1355-4cbb-8cfd-f56a43bfbea9\",\"type\":\"ColumnDataSource\"},\"glyph\":{\"id\":\"ece98dfd-53db-42b7-80a1-fd044a9a683e\",\"type\":\"Line\"},\"hover_glyph\":null,\"muted_glyph\":null,\"nonselection_glyph\":{\"id\":\"36988cb5-0cb5-4ab3-9b01-b95d16b26e8f\",\"type\":\"Line\"},\"selection_glyph\":null,\"view\":{\"id\":\"f6e46539-35f9-482a-b937-3da505a27ae1\",\"type\":\"CDSView\"}},\"id\":\"28e2628c-e44b-4797-9d8c-98f014427749\",\"type\":\"GlyphRenderer\"},{\"attributes\":{\"source\":{\"id\":\"891f4934-1355-4cbb-8cfd-f56a43bfbea9\",\"type\":\"ColumnDataSource\"}},\"id\":\"f6e46539-35f9-482a-b937-3da505a27ae1\",\"type\":\"CDSView\"},{\"attributes\":{\"x\":{\"field\":\"x\"},\"y\":{\"field\":\"y\"}},\"id\":\"d2cae498-3c69-4c0f-9dc1-130e9a60fcdd\",\"type\":\"Line\"},{\"attributes\":{\"callback\":null,\"data\":{\"x\":[0.5,0.5],\"y\":[10.15,12.100000000000001]},\"selected\":{\"id\":\"22527c16-8bee-4a2d-a384-a1a2da5d8505\",\"type\":\"Selection\"},\"selection_policy\":{\"id\":\"603597f6-8d90-4f73-aabd-5bdadd79ffcf\",\"type\":\"UnionRenderers\"}},\"id\":\"f2db65ca-ccde-446a-a9bf-b6832d52d6d9\",\"type\":\"ColumnDataSource\"},{\"attributes\":{\"line_alpha\":0.1,\"line_color\":\"#1f77b4\",\"x\":{\"field\":\"x\"},\"y\":{\"field\":\"y\"}},\"id\":\"1725ee3b-54ee-48e3-b101-a2455f3f652f\",\"type\":\"Line\"},{\"attributes\":{\"data_source\":{\"id\":\"f2db65ca-ccde-446a-a9bf-b6832d52d6d9\",\"type\":\"ColumnDataSource\"},\"glyph\":{\"id\":\"d2cae498-3c69-4c0f-9dc1-130e9a60fcdd\",\"type\":\"Line\"},\"hover_glyph\":null,\"muted_glyph\":null,\"nonselection_glyph\":{\"id\":\"1725ee3b-54ee-48e3-b101-a2455f3f652f\",\"type\":\"Line\"},\"selection_glyph\":null,\"view\":{\"id\":\"b3ec287f-6fb4-475a-a1f7-1b3d7b8cecd4\",\"type\":\"CDSView\"}},\"id\":\"90ebbbfa-a519-4987-b970-c3dd9d2ce10d\",\"type\":\"GlyphRenderer\"},{\"attributes\":{\"source\":{\"id\":\"f2db65ca-ccde-446a-a9bf-b6832d52d6d9\",\"type\":\"ColumnDataSource\"}},\"id\":\"b3ec287f-6fb4-475a-a1f7-1b3d7b8cecd4\",\"type\":\"CDSView\"},{\"attributes\":{\"x\":{\"field\":\"x\"},\"y\":{\"value\":7.95}},\"id\":\"67291f91-71b2-42e0-a66b-22a7a3574be7\",\"type\":\"Line\"},{\"attributes\":{\"callback\":null,\"data\":{\"x\":[0.4,0.6]},\"selected\":{\"id\":\"e78ea3ee-d67f-42ee-bda5-a89f448eced2\",\"type\":\"Selection\"},\"selection_policy\":{\"id\":\"a02fdfff-7c2f-41c4-a37d-b9cea724bae9\",\"type\":\"UnionRenderers\"}},\"id\":\"e9fe56c3-95f6-49fd-9c15-d09cbb39bf0d\",\"type\":\"ColumnDataSource\"},{\"attributes\":{\"line_alpha\":0.1,\"line_color\":\"#1f77b4\",\"x\":{\"field\":\"x\"},\"y\":{\"value\":7.95}},\"id\":\"baaa6c72-3ace-4b8c-bfc3-f31a7f3f0747\",\"type\":\"Line\"},{\"attributes\":{\"x\":{\"field\":\"x\"},\"y\":{\"value\":12.100000000000001}},\"id\":\"d40bf230-fd1d-4125-a482-1da9df0043eb\",\"type\":\"Line\"},{\"attributes\":{\"data_source\":{\"id\":\"e9fe56c3-95f6-49fd-9c15-d09cbb39bf0d\",\"type\":\"ColumnDataSource\"},\"glyph\":{\"id\":\"67291f91-71b2-42e0-a66b-22a7a3574be7\",\"type\":\"Line\"},\"hover_glyph\":null,\"muted_glyph\":null,\"nonselection_glyph\":{\"id\":\"baaa6c72-3ace-4b8c-bfc3-f31a7f3f0747\",\"type\":\"Line\"},\"selection_glyph\":null,\"view\":{\"id\":\"79f3cb66-cf11-47e2-831c-b6c0ee75adc1\",\"type\":\"CDSView\"}},\"id\":\"f8dec637-6ce2-4167-85ea-aae071c3641a\",\"type\":\"GlyphRenderer\"},{\"attributes\":{\"line_alpha\":0.1,\"line_color\":\"#1f77b4\",\"x\":{\"field\":\"x\"},\"y\":{\"value\":12.100000000000001}},\"id\":\"4b56dfc8-8095-458a-bf20-b6e4f3f27390\",\"type\":\"Line\"},{\"attributes\":{\"fill_color\":{\"value\":\"black\"},\"x\":{\"field\":\"x\"},\"y\":{\"field\":\"y\"}},\"id\":\"36dd091d-60c7-4c8c-8453-f481d48a2622\",\"type\":\"Circle\"},{\"attributes\":{\"data_source\":{\"id\":\"f74cb08f-0e4a-44a0-b8cf-8ea8d13f59b3\",\"type\":\"ColumnDataSource\"},\"glyph\":{\"id\":\"d40bf230-fd1d-4125-a482-1da9df0043eb\",\"type\":\"Line\"},\"hover_glyph\":null,\"muted_glyph\":null,\"nonselection_glyph\":{\"id\":\"4b56dfc8-8095-458a-bf20-b6e4f3f27390\",\"type\":\"Line\"},\"selection_glyph\":null,\"view\":{\"id\":\"b59d345e-7d6d-4368-9a79-576793e585c1\",\"type\":\"CDSView\"}},\"id\":\"091220e8-dfbc-4c2f-9e16-0c726c590c09\",\"type\":\"GlyphRenderer\"},{\"attributes\":{\"source\":{\"id\":\"e9fe56c3-95f6-49fd-9c15-d09cbb39bf0d\",\"type\":\"ColumnDataSource\"}},\"id\":\"79f3cb66-cf11-47e2-831c-b6c0ee75adc1\",\"type\":\"CDSView\"},{\"attributes\":{\"callback\":null,\"data\":{\"x\":[0.4,0.6]},\"selected\":{\"id\":\"a3201e67-ee4e-4990-8f74-a8888a32f1cd\",\"type\":\"Selection\"},\"selection_policy\":{\"id\":\"585d7b5a-ce82-4edc-8fa3-8ac0950cfecb\",\"type\":\"UnionRenderers\"}},\"id\":\"f74cb08f-0e4a-44a0-b8cf-8ea8d13f59b3\",\"type\":\"ColumnDataSource\"},{\"attributes\":{\"fill_alpha\":{\"value\":0.1},\"fill_color\":{\"value\":\"#1f77b4\"},\"line_alpha\":{\"value\":0.1},\"line_color\":{\"value\":\"#1f77b4\"},\"x\":{\"field\":\"x\"},\"y\":{\"field\":\"y\"}},\"id\":\"2c0a26bd-4a35-40d8-94d1-a0913843664b\",\"type\":\"Circle\"},{\"attributes\":{\"data_source\":{\"id\":\"d52ea889-dfca-41a6-86c4-67b5bcfcf5f9\",\"type\":\"ColumnDataSource\"},\"glyph\":{\"id\":\"36dd091d-60c7-4c8c-8453-f481d48a2622\",\"type\":\"Circle\"},\"hover_glyph\":null,\"muted_glyph\":null,\"nonselection_glyph\":{\"id\":\"2c0a26bd-4a35-40d8-94d1-a0913843664b\",\"type\":\"Circle\"},\"selection_glyph\":null,\"view\":{\"id\":\"bd5cbc80-ca05-4e8d-921b-2f3e63eb6906\",\"type\":\"CDSView\"}},\"id\":\"c2c6f477-8167-4800-83f8-95bf522dac3b\",\"type\":\"GlyphRenderer\"},{\"attributes\":{\"source\":{\"id\":\"d52ea889-dfca-41a6-86c4-67b5bcfcf5f9\",\"type\":\"ColumnDataSource\"}},\"id\":\"bd5cbc80-ca05-4e8d-921b-2f3e63eb6906\",\"type\":\"CDSView\"},{\"attributes\":{\"source\":{\"id\":\"f74cb08f-0e4a-44a0-b8cf-8ea8d13f59b3\",\"type\":\"ColumnDataSource\"}},\"id\":\"b59d345e-7d6d-4368-9a79-576793e585c1\",\"type\":\"CDSView\"},{\"attributes\":{\"callback\":null,\"data\":{\"x\":[0.5],\"y\":{\"__ndarray__\":\"zczMzMxMKEA=\",\"dtype\":\"float64\",\"shape\":[1]}},\"selected\":{\"id\":\"ca49592b-211d-4758-b1ab-b7f0c3180fba\",\"type\":\"Selection\"},\"selection_policy\":{\"id\":\"ab47f734-84a4-4a75-b476-9061582a233d\",\"type\":\"UnionRenderers\"}},\"id\":\"d52ea889-dfca-41a6-86c4-67b5bcfcf5f9\",\"type\":\"ColumnDataSource\"},{\"attributes\":{\"bottom\":{\"value\":8.1},\"fill_alpha\":{\"value\":0},\"fill_color\":{\"value\":\"#9467bd\"},\"left\":{\"value\":4.25},\"right\":{\"value\":4.75},\"top\":{\"value\":9.0}},\"id\":\"c4759e5b-1faa-4fed-bd2f-c2e17512acf0\",\"type\":\"Quad\"},{\"attributes\":{\"bottom\":{\"value\":8.1},\"fill_alpha\":{\"value\":0.1},\"fill_color\":{\"value\":\"#1f77b4\"},\"left\":{\"value\":4.25},\"line_alpha\":{\"value\":0.1},\"line_color\":{\"value\":\"#1f77b4\"},\"right\":{\"value\":4.75},\"top\":{\"value\":9.0}},\"id\":\"b1ca940d-7229-4cdc-a39c-a74fa03c3bf6\",\"type\":\"Quad\"},{\"attributes\":{\"callback\":null,\"data\":{},\"selected\":{\"id\":\"ba1e333c-73cc-48a1-a6aa-5538aae2693b\",\"type\":\"Selection\"},\"selection_policy\":{\"id\":\"4cdc4ef0-9989-4f4a-9970-2ef5579fd180\",\"type\":\"UnionRenderers\"}},\"id\":\"0f522bb4-247f-4ac9-bbd6-e9752a6b3432\",\"type\":\"ColumnDataSource\"},{\"attributes\":{\"data_source\":{\"id\":\"0f522bb4-247f-4ac9-bbd6-e9752a6b3432\",\"type\":\"ColumnDataSource\"},\"glyph\":{\"id\":\"c4759e5b-1faa-4fed-bd2f-c2e17512acf0\",\"type\":\"Quad\"},\"hover_glyph\":null,\"muted_glyph\":null,\"nonselection_glyph\":{\"id\":\"b1ca940d-7229-4cdc-a39c-a74fa03c3bf6\",\"type\":\"Quad\"},\"selection_glyph\":null,\"view\":{\"id\":\"f5c54a99-7d0a-47e4-8a4c-66ddc911ff2b\",\"type\":\"CDSView\"}},\"id\":\"2e4459c9-6194-4685-a546-0217f67edb28\",\"type\":\"GlyphRenderer\"},{\"attributes\":{\"source\":{\"id\":\"0f522bb4-247f-4ac9-bbd6-e9752a6b3432\",\"type\":\"ColumnDataSource\"}},\"id\":\"f5c54a99-7d0a-47e4-8a4c-66ddc911ff2b\",\"type\":\"CDSView\"},{\"attributes\":{\"x\":{\"field\":\"x\"},\"y\":{\"field\":\"y\"}},\"id\":\"3190db9d-b2c0-4d61-83c9-7a32f73634e6\",\"type\":\"Line\"},{\"attributes\":{\"callback\":null,\"data\":{\"x\":[4.25,4.75],\"y\":[8.5,8.5]},\"selected\":{\"id\":\"773175cd-e2ee-4d13-9c50-074f9990eb0e\",\"type\":\"Selection\"},\"selection_policy\":{\"id\":\"06f93ead-b679-4905-bc76-54fb2eec10d5\",\"type\":\"UnionRenderers\"}},\"id\":\"acde0135-82eb-4a52-8d87-7dac48a26831\",\"type\":\"ColumnDataSource\"},{\"attributes\":{\"line_alpha\":0.1,\"line_color\":\"#1f77b4\",\"x\":{\"field\":\"x\"},\"y\":{\"field\":\"y\"}},\"id\":\"c581c3ec-3cae-48ae-8146-5559b2f25435\",\"type\":\"Line\"},{\"attributes\":{\"data_source\":{\"id\":\"acde0135-82eb-4a52-8d87-7dac48a26831\",\"type\":\"ColumnDataSource\"},\"glyph\":{\"id\":\"3190db9d-b2c0-4d61-83c9-7a32f73634e6\",\"type\":\"Line\"},\"hover_glyph\":null,\"muted_glyph\":null,\"nonselection_glyph\":{\"id\":\"c581c3ec-3cae-48ae-8146-5559b2f25435\",\"type\":\"Line\"},\"selection_glyph\":null,\"view\":{\"id\":\"ded6a183-595b-4ad5-9ac1-715227e96ee9\",\"type\":\"CDSView\"}},\"id\":\"0e37a1f9-d026-4df4-8f11-33311a2a4eaa\",\"type\":\"GlyphRenderer\"},{\"attributes\":{\"source\":{\"id\":\"acde0135-82eb-4a52-8d87-7dac48a26831\",\"type\":\"ColumnDataSource\"}},\"id\":\"ded6a183-595b-4ad5-9ac1-715227e96ee9\",\"type\":\"CDSView\"},{\"attributes\":{\"x\":{\"field\":\"x\"},\"y\":{\"field\":\"y\"}},\"id\":\"972e7a3c-c24b-4adc-b8e4-99f5feec9c83\",\"type\":\"Line\"},{\"attributes\":{\"callback\":null,\"data\":{\"x\":[4.5,4.5],\"y\":[8.1,7.2]},\"selected\":{\"id\":\"ed5e65c9-6ea2-43e6-9ccb-48d1ff36b519\",\"type\":\"Selection\"},\"selection_policy\":{\"id\":\"803c81a7-3563-45ba-ad5f-b6536dced50f\",\"type\":\"UnionRenderers\"}},\"id\":\"38f08a31-c21d-442f-ad6a-8160517caa15\",\"type\":\"ColumnDataSource\"},{\"attributes\":{\"line_alpha\":0.1,\"line_color\":\"#1f77b4\",\"x\":{\"field\":\"x\"},\"y\":{\"field\":\"y\"}},\"id\":\"71844f58-b003-4c75-a0f4-d6bc69bb8aed\",\"type\":\"Line\"},{\"attributes\":{\"data_source\":{\"id\":\"38f08a31-c21d-442f-ad6a-8160517caa15\",\"type\":\"ColumnDataSource\"},\"glyph\":{\"id\":\"972e7a3c-c24b-4adc-b8e4-99f5feec9c83\",\"type\":\"Line\"},\"hover_glyph\":null,\"muted_glyph\":null,\"nonselection_glyph\":{\"id\":\"71844f58-b003-4c75-a0f4-d6bc69bb8aed\",\"type\":\"Line\"},\"selection_glyph\":null,\"view\":{\"id\":\"946a8ff1-6162-4ae1-b687-309c039ffb50\",\"type\":\"CDSView\"}},\"id\":\"87f2a685-8b16-4ce5-b2cf-f2380a331e77\",\"type\":\"GlyphRenderer\"},{\"attributes\":{\"source\":{\"id\":\"38f08a31-c21d-442f-ad6a-8160517caa15\",\"type\":\"ColumnDataSource\"}},\"id\":\"946a8ff1-6162-4ae1-b687-309c039ffb50\",\"type\":\"CDSView\"},{\"attributes\":{\"x\":{\"field\":\"x\"},\"y\":{\"field\":\"y\"}},\"id\":\"a1207489-3278-4557-9f40-abfc5adee8b4\",\"type\":\"Line\"},{\"attributes\":{\"callback\":null,\"data\":{\"x\":[4.5,4.5],\"y\":[9.0,10.350000000000001]},\"selected\":{\"id\":\"5fa5a546-3298-40ef-8efc-f30d88859ff2\",\"type\":\"Selection\"},\"selection_policy\":{\"id\":\"2f8f99af-b547-47ad-9818-1ab7d1591b41\",\"type\":\"UnionRenderers\"}},\"id\":\"b86507a0-9540-41ca-8004-5d43f92efc83\",\"type\":\"ColumnDataSource\"},{\"attributes\":{\"line_alpha\":0.1,\"line_color\":\"#1f77b4\",\"x\":{\"field\":\"x\"},\"y\":{\"field\":\"y\"}},\"id\":\"dcc9d577-08cc-443e-a93b-980910e1bcc3\",\"type\":\"Line\"},{\"attributes\":{\"data_source\":{\"id\":\"b86507a0-9540-41ca-8004-5d43f92efc83\",\"type\":\"ColumnDataSource\"},\"glyph\":{\"id\":\"a1207489-3278-4557-9f40-abfc5adee8b4\",\"type\":\"Line\"},\"hover_glyph\":null,\"muted_glyph\":null,\"nonselection_glyph\":{\"id\":\"dcc9d577-08cc-443e-a93b-980910e1bcc3\",\"type\":\"Line\"},\"selection_glyph\":null,\"view\":{\"id\":\"b6c45790-a8e5-4727-8dad-3149c55976f3\",\"type\":\"CDSView\"}},\"id\":\"ee817fa9-da9a-493c-bfcd-509677de0297\",\"type\":\"GlyphRenderer\"},{\"attributes\":{\"source\":{\"id\":\"b86507a0-9540-41ca-8004-5d43f92efc83\",\"type\":\"ColumnDataSource\"}},\"id\":\"b6c45790-a8e5-4727-8dad-3149c55976f3\",\"type\":\"CDSView\"},{\"attributes\":{\"x\":{\"field\":\"x\"},\"y\":{\"value\":7.2}},\"id\":\"1fdc0d0e-94fa-4805-a388-855d7ef11879\",\"type\":\"Line\"},{\"attributes\":{\"callback\":null,\"data\":{\"x\":[4.4,4.6]},\"selected\":{\"id\":\"573c46a2-1911-4278-ae37-f58d79213fdf\",\"type\":\"Selection\"},\"selection_policy\":{\"id\":\"e6d1a463-b779-4f2f-8be1-1ad6b7b9b007\",\"type\":\"UnionRenderers\"}},\"id\":\"a17663dc-315a-46fc-a637-d8a1dcc77ba1\",\"type\":\"ColumnDataSource\"},{\"attributes\":{\"line_alpha\":0.1,\"line_color\":\"#1f77b4\",\"x\":{\"field\":\"x\"},\"y\":{\"value\":7.2}},\"id\":\"0996b16d-21e2-48cc-add0-3a82fe2cf82a\",\"type\":\"Line\"},{\"attributes\":{\"x\":{\"field\":\"x\"},\"y\":{\"value\":10.350000000000001}},\"id\":\"079a35cf-0645-4da3-9fc9-ccba318f94ab\",\"type\":\"Line\"},{\"attributes\":{\"data_source\":{\"id\":\"a17663dc-315a-46fc-a637-d8a1dcc77ba1\",\"type\":\"ColumnDataSource\"},\"glyph\":{\"id\":\"1fdc0d0e-94fa-4805-a388-855d7ef11879\",\"type\":\"Line\"},\"hover_glyph\":null,\"muted_glyph\":null,\"nonselection_glyph\":{\"id\":\"0996b16d-21e2-48cc-add0-3a82fe2cf82a\",\"type\":\"Line\"},\"selection_glyph\":null,\"view\":{\"id\":\"0ca12160-519e-42a4-a990-9d3b947bef4b\",\"type\":\"CDSView\"}},\"id\":\"6e1926bb-3c97-4fa1-839d-849a23d2597d\",\"type\":\"GlyphRenderer\"},{\"attributes\":{\"line_alpha\":0.1,\"line_color\":\"#1f77b4\",\"x\":{\"field\":\"x\"},\"y\":{\"value\":10.350000000000001}},\"id\":\"3ef100f2-2361-4e5a-9716-68e9287e53ad\",\"type\":\"Line\"},{\"attributes\":{\"fill_color\":{\"value\":\"black\"},\"x\":{\"field\":\"x\"},\"y\":{\"field\":\"y\"}},\"id\":\"d4343d62-5aaa-4ed9-a686-738efcf943a1\",\"type\":\"Circle\"},{\"attributes\":{\"data_source\":{\"id\":\"b654004a-56ca-497e-b460-dda277e46041\",\"type\":\"ColumnDataSource\"},\"glyph\":{\"id\":\"079a35cf-0645-4da3-9fc9-ccba318f94ab\",\"type\":\"Line\"},\"hover_glyph\":null,\"muted_glyph\":null,\"nonselection_glyph\":{\"id\":\"3ef100f2-2361-4e5a-9716-68e9287e53ad\",\"type\":\"Line\"},\"selection_glyph\":null,\"view\":{\"id\":\"2cb6c5f2-b778-427a-a34a-edbca5c37032\",\"type\":\"CDSView\"}},\"id\":\"27a1a3dd-2dd5-46ab-9db6-dc7a26df496d\",\"type\":\"GlyphRenderer\"},{\"attributes\":{\"source\":{\"id\":\"a17663dc-315a-46fc-a637-d8a1dcc77ba1\",\"type\":\"ColumnDataSource\"}},\"id\":\"0ca12160-519e-42a4-a990-9d3b947bef4b\",\"type\":\"CDSView\"},{\"attributes\":{\"callback\":null,\"data\":{\"x\":[4.4,4.6]},\"selected\":{\"id\":\"fe42791c-92d9-48b7-99dd-8928cf762936\",\"type\":\"Selection\"},\"selection_policy\":{\"id\":\"b023e554-8eb0-424e-82b8-dd47496afa30\",\"type\":\"UnionRenderers\"}},\"id\":\"b654004a-56ca-497e-b460-dda277e46041\",\"type\":\"ColumnDataSource\"},{\"attributes\":{\"fill_alpha\":{\"value\":0.1},\"fill_color\":{\"value\":\"#1f77b4\"},\"line_alpha\":{\"value\":0.1},\"line_color\":{\"value\":\"#1f77b4\"},\"x\":{\"field\":\"x\"},\"y\":{\"field\":\"y\"}},\"id\":\"8ce06834-8ce7-44dc-89f9-b463e3a6a1a7\",\"type\":\"Circle\"},{\"attributes\":{\"data_source\":{\"id\":\"dcc42856-9032-4d4b-b429-5bd4d2240d7f\",\"type\":\"ColumnDataSource\"},\"glyph\":{\"id\":\"d4343d62-5aaa-4ed9-a686-738efcf943a1\",\"type\":\"Circle\"},\"hover_glyph\":null,\"muted_glyph\":null,\"nonselection_glyph\":{\"id\":\"8ce06834-8ce7-44dc-89f9-b463e3a6a1a7\",\"type\":\"Circle\"},\"selection_glyph\":null,\"view\":{\"id\":\"03bff392-78bc-4f1a-ac56-d37cf3cc9b0b\",\"type\":\"CDSView\"}},\"id\":\"bf7faed2-170e-48c3-952f-2f081f841e09\",\"type\":\"GlyphRenderer\"},{\"attributes\":{\"source\":{\"id\":\"dcc42856-9032-4d4b-b429-5bd4d2240d7f\",\"type\":\"ColumnDataSource\"}},\"id\":\"03bff392-78bc-4f1a-ac56-d37cf3cc9b0b\",\"type\":\"CDSView\"},{\"attributes\":{\"source\":{\"id\":\"b654004a-56ca-497e-b460-dda277e46041\",\"type\":\"ColumnDataSource\"}},\"id\":\"2cb6c5f2-b778-427a-a34a-edbca5c37032\",\"type\":\"CDSView\"},{\"attributes\":{\"callback\":null,\"data\":{\"x\":[4.5],\"y\":{\"__ndarray__\":\"MzMzMzMzJkA=\",\"dtype\":\"float64\",\"shape\":[1]}},\"selected\":{\"id\":\"8a40bff8-c2e6-46d0-aa24-b3bba4cd04f8\",\"type\":\"Selection\"},\"selection_policy\":{\"id\":\"8999da8d-77a8-4dc0-94a4-8b9bdce0ae92\",\"type\":\"UnionRenderers\"}},\"id\":\"dcc42856-9032-4d4b-b429-5bd4d2240d7f\",\"type\":\"ColumnDataSource\"},{\"attributes\":{\"line_alpha\":0.1,\"line_color\":\"#1f77b4\",\"x\":{\"field\":\"x\"},\"y\":{\"value\":8.100000000000001}},\"id\":\"04c1e8bf-1cee-4d1d-b19e-209e00e8ddb4\",\"type\":\"Line\"},{\"attributes\":{\"bottom\":{\"value\":9.15},\"fill_alpha\":{\"value\":0},\"fill_color\":{\"value\":\"#8c564b\"},\"left\":{\"value\":5.25},\"right\":{\"value\":5.75},\"top\":{\"value\":9.85}},\"id\":\"7762d972-1281-43b5-8611-eead5b26a5f7\",\"type\":\"Quad\"},{\"attributes\":{\"bottom\":{\"value\":9.15},\"fill_alpha\":{\"value\":0.1},\"fill_color\":{\"value\":\"#1f77b4\"},\"left\":{\"value\":5.25},\"line_alpha\":{\"value\":0.1},\"line_color\":{\"value\":\"#1f77b4\"},\"right\":{\"value\":5.75},\"top\":{\"value\":9.85}},\"id\":\"b6e9bcdf-656a-433a-87ae-64c4c46be374\",\"type\":\"Quad\"},{\"attributes\":{\"callback\":null,\"data\":{},\"selected\":{\"id\":\"a3136284-85be-409d-ac90-11bd59a34a00\",\"type\":\"Selection\"},\"selection_policy\":{\"id\":\"615ce4d0-6e5d-495d-80c3-a885382304be\",\"type\":\"UnionRenderers\"}},\"id\":\"8444d6f0-19b9-48bd-8715-f1cbb3004099\",\"type\":\"ColumnDataSource\"},{\"attributes\":{\"data_source\":{\"id\":\"8444d6f0-19b9-48bd-8715-f1cbb3004099\",\"type\":\"ColumnDataSource\"},\"glyph\":{\"id\":\"7762d972-1281-43b5-8611-eead5b26a5f7\",\"type\":\"Quad\"},\"hover_glyph\":null,\"muted_glyph\":null,\"nonselection_glyph\":{\"id\":\"b6e9bcdf-656a-433a-87ae-64c4c46be374\",\"type\":\"Quad\"},\"selection_glyph\":null,\"view\":{\"id\":\"2138a0f8-0bdd-4523-9ce5-046e9697bbb2\",\"type\":\"CDSView\"}},\"id\":\"0983c2fe-0640-40dd-a56d-532e610d5433\",\"type\":\"GlyphRenderer\"},{\"attributes\":{\"source\":{\"id\":\"8444d6f0-19b9-48bd-8715-f1cbb3004099\",\"type\":\"ColumnDataSource\"}},\"id\":\"2138a0f8-0bdd-4523-9ce5-046e9697bbb2\",\"type\":\"CDSView\"},{\"attributes\":{\"x\":{\"field\":\"x\"},\"y\":{\"field\":\"y\"}},\"id\":\"f78b7fd3-d4d9-492a-8416-902cbdaea656\",\"type\":\"Line\"},{\"attributes\":{\"callback\":null,\"data\":{\"x\":[5.25,5.75],\"y\":[9.55,9.55]},\"selected\":{\"id\":\"dba32b45-dff7-425c-a3a5-539f192af446\",\"type\":\"Selection\"},\"selection_policy\":{\"id\":\"6a7f135a-51c3-4ea9-9a35-f1be9088ac35\",\"type\":\"UnionRenderers\"}},\"id\":\"fe45ee38-68ac-4f18-b333-cdea43c8e46f\",\"type\":\"ColumnDataSource\"},{\"attributes\":{\"line_alpha\":0.1,\"line_color\":\"#1f77b4\",\"x\":{\"field\":\"x\"},\"y\":{\"field\":\"y\"}},\"id\":\"cb999f61-e08d-47de-9df5-f04a1ae3bcd5\",\"type\":\"Line\"},{\"attributes\":{\"data_source\":{\"id\":\"fe45ee38-68ac-4f18-b333-cdea43c8e46f\",\"type\":\"ColumnDataSource\"},\"glyph\":{\"id\":\"f78b7fd3-d4d9-492a-8416-902cbdaea656\",\"type\":\"Line\"},\"hover_glyph\":null,\"muted_glyph\":null,\"nonselection_glyph\":{\"id\":\"cb999f61-e08d-47de-9df5-f04a1ae3bcd5\",\"type\":\"Line\"},\"selection_glyph\":null,\"view\":{\"id\":\"a870c6cc-0480-4ec2-9ef6-835312b2493d\",\"type\":\"CDSView\"}},\"id\":\"276a3f61-b4b4-4c4a-b57b-76fb40b66200\",\"type\":\"GlyphRenderer\"},{\"attributes\":{\"source\":{\"id\":\"fe45ee38-68ac-4f18-b333-cdea43c8e46f\",\"type\":\"ColumnDataSource\"}},\"id\":\"a870c6cc-0480-4ec2-9ef6-835312b2493d\",\"type\":\"CDSView\"},{\"attributes\":{\"x\":{\"field\":\"x\"},\"y\":{\"field\":\"y\"}},\"id\":\"a92c5316-98c8-4f08-b94d-416600eaa174\",\"type\":\"Line\"},{\"attributes\":{\"callback\":null,\"data\":{\"x\":[5.5,5.5],\"y\":[9.15,8.100000000000001]},\"selected\":{\"id\":\"13ee0fbc-2292-4e19-b7a9-49f165577cac\",\"type\":\"Selection\"},\"selection_policy\":{\"id\":\"39c74d87-accc-4512-ad00-4a209f4b34bc\",\"type\":\"UnionRenderers\"}},\"id\":\"a3f04073-7e16-43ec-97db-546983ea148b\",\"type\":\"ColumnDataSource\"},{\"attributes\":{\"line_alpha\":0.1,\"line_color\":\"#1f77b4\",\"x\":{\"field\":\"x\"},\"y\":{\"field\":\"y\"}},\"id\":\"a7784e6e-cfdd-4bdd-96e7-4da5a93f91a0\",\"type\":\"Line\"},{\"attributes\":{\"data_source\":{\"id\":\"a3f04073-7e16-43ec-97db-546983ea148b\",\"type\":\"ColumnDataSource\"},\"glyph\":{\"id\":\"a92c5316-98c8-4f08-b94d-416600eaa174\",\"type\":\"Line\"},\"hover_glyph\":null,\"muted_glyph\":null,\"nonselection_glyph\":{\"id\":\"a7784e6e-cfdd-4bdd-96e7-4da5a93f91a0\",\"type\":\"Line\"},\"selection_glyph\":null,\"view\":{\"id\":\"d7b7187c-77cb-43dd-b1f5-7cbe7511e00a\",\"type\":\"CDSView\"}},\"id\":\"728883c4-06ee-47f0-8e67-fb6d9f720ee7\",\"type\":\"GlyphRenderer\"},{\"attributes\":{\"source\":{\"id\":\"a3f04073-7e16-43ec-97db-546983ea148b\",\"type\":\"ColumnDataSource\"}},\"id\":\"d7b7187c-77cb-43dd-b1f5-7cbe7511e00a\",\"type\":\"CDSView\"},{\"attributes\":{\"x\":{\"field\":\"x\"},\"y\":{\"field\":\"y\"}},\"id\":\"0fb00e71-0ac1-40a7-9ee2-683c19b56eeb\",\"type\":\"Line\"},{\"attributes\":{\"callback\":null,\"data\":{\"x\":[5.5,5.5],\"y\":[9.85,10.65]},\"selected\":{\"id\":\"ac5babc7-7e12-4ce5-b0fb-c69c4da31358\",\"type\":\"Selection\"},\"selection_policy\":{\"id\":\"e8efcf47-0c6b-441b-a3eb-e6c30ec9a46f\",\"type\":\"UnionRenderers\"}},\"id\":\"8dc6df0f-a855-45bc-b30c-a7c29e2f1d30\",\"type\":\"ColumnDataSource\"},{\"attributes\":{\"line_alpha\":0.1,\"line_color\":\"#1f77b4\",\"x\":{\"field\":\"x\"},\"y\":{\"field\":\"y\"}},\"id\":\"d95f539b-17b5-44c1-b03e-0ba5b5a29cf0\",\"type\":\"Line\"},{\"attributes\":{\"data_source\":{\"id\":\"8dc6df0f-a855-45bc-b30c-a7c29e2f1d30\",\"type\":\"ColumnDataSource\"},\"glyph\":{\"id\":\"0fb00e71-0ac1-40a7-9ee2-683c19b56eeb\",\"type\":\"Line\"},\"hover_glyph\":null,\"muted_glyph\":null,\"nonselection_glyph\":{\"id\":\"d95f539b-17b5-44c1-b03e-0ba5b5a29cf0\",\"type\":\"Line\"},\"selection_glyph\":null,\"view\":{\"id\":\"2cdd6568-7120-4e0f-ad06-af3795ebea90\",\"type\":\"CDSView\"}},\"id\":\"e35d9a85-c047-4cbf-aa52-f0eb95754a64\",\"type\":\"GlyphRenderer\"},{\"attributes\":{\"source\":{\"id\":\"8dc6df0f-a855-45bc-b30c-a7c29e2f1d30\",\"type\":\"ColumnDataSource\"}},\"id\":\"2cdd6568-7120-4e0f-ad06-af3795ebea90\",\"type\":\"CDSView\"},{\"attributes\":{\"x\":{\"field\":\"x\"},\"y\":{\"value\":8.100000000000001}},\"id\":\"5d9ce1c9-4125-4c84-aabe-4d361d757e3c\",\"type\":\"Line\"},{\"attributes\":{\"callback\":null,\"data\":{\"x\":[5.4,5.6]},\"selected\":{\"id\":\"09366de1-8f30-4a05-81cc-70dea0eaf445\",\"type\":\"Selection\"},\"selection_policy\":{\"id\":\"adf9fd4b-bcfc-4ade-afe5-e243f0a5fcec\",\"type\":\"UnionRenderers\"}},\"id\":\"699901c6-f80f-4351-81b6-744acc104de5\",\"type\":\"ColumnDataSource\"},{\"attributes\":{},\"id\":\"64dd8386-6e27-44da-bc26-65522cfda059\",\"type\":\"BasicTickFormatter\"},{\"attributes\":{\"x\":{\"field\":\"x\"},\"y\":{\"value\":10.65}},\"id\":\"a7001e99-7572-407e-a317-22de6005c908\",\"type\":\"Line\"},{\"attributes\":{\"callback\":null,\"data\":{\"y\":{\"__ndarray__\":\"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\",\"dtype\":\"float64\",\"shape\":[312]}},\"selected\":{\"id\":\"42d80212-9169-433e-8ba0-e19dcaebc8c9\",\"type\":\"Selection\"},\"selection_policy\":{\"id\":\"80fe942a-877b-4bdf-b1ab-9f2be333fe3e\",\"type\":\"UnionRenderers\"}},\"id\":\"1f8e7cf0-4870-4878-a505-d1d2aecca4b4\",\"type\":\"ColumnDataSource\"},{\"attributes\":{\"data_source\":{\"id\":\"699901c6-f80f-4351-81b6-744acc104de5\",\"type\":\"ColumnDataSource\"},\"glyph\":{\"id\":\"5d9ce1c9-4125-4c84-aabe-4d361d757e3c\",\"type\":\"Line\"},\"hover_glyph\":null,\"muted_glyph\":null,\"nonselection_glyph\":{\"id\":\"04c1e8bf-1cee-4d1d-b19e-209e00e8ddb4\",\"type\":\"Line\"},\"selection_glyph\":null,\"view\":{\"id\":\"2a66cd44-5bbc-4f08-b046-8246ff571db5\",\"type\":\"CDSView\"}},\"id\":\"3d9c7f9e-d156-4c30-b9b2-0868f4dbe58f\",\"type\":\"GlyphRenderer\"},{\"attributes\":{\"range\":null,\"width\":0.5},\"id\":\"f529c0e1-95e7-42f6-bdda-9eac070beac6\",\"type\":\"Jitter\"},{\"attributes\":{\"line_alpha\":0.1,\"line_color\":\"#1f77b4\",\"x\":{\"field\":\"x\"},\"y\":{\"value\":10.65}},\"id\":\"07de35ba-67c0-40ea-8997-99882b34250d\",\"type\":\"Line\"},{\"attributes\":{\"fill_alpha\":{\"value\":0.1},\"fill_color\":{\"value\":\"#ff7f0e\"},\"line_alpha\":{\"value\":0.1},\"line_color\":{\"value\":\"#ff7f0e\"},\"x\":{\"transform\":{\"id\":\"499b73f7-3858-4617-9f8c-44299981cd42\",\"type\":\"Jitter\"},\"value\":1.5},\"y\":{\"field\":\"y\"}},\"id\":\"85f802a6-4e7b-4a9f-a54e-e84b3fc28e11\",\"type\":\"Circle\"},{\"attributes\":{\"fill_color\":{\"value\":\"black\"},\"x\":{\"field\":\"x\"},\"y\":{\"field\":\"y\"}},\"id\":\"18782e0f-e980-4244-86cc-2f5606540658\",\"type\":\"Circle\"},{\"attributes\":{\"fill_alpha\":{\"value\":0.1},\"fill_color\":{\"value\":\"#1f77b4\"},\"line_alpha\":{\"value\":0.1},\"line_color\":{\"value\":\"#1f77b4\"},\"x\":{\"transform\":{\"id\":\"499b73f7-3858-4617-9f8c-44299981cd42\",\"type\":\"Jitter\"},\"value\":1.5},\"y\":{\"field\":\"y\"}},\"id\":\"4f326508-3383-4d41-9f17-a22dfb5b9cc8\",\"type\":\"Circle\"},{\"attributes\":{\"data_source\":{\"id\":\"0d5cf803-c8e9-4a0f-909a-d81a1035d8dc\",\"type\":\"ColumnDataSource\"},\"glyph\":{\"id\":\"a7001e99-7572-407e-a317-22de6005c908\",\"type\":\"Line\"},\"hover_glyph\":null,\"muted_glyph\":null,\"nonselection_glyph\":{\"id\":\"07de35ba-67c0-40ea-8997-99882b34250d\",\"type\":\"Line\"},\"selection_glyph\":null,\"view\":{\"id\":\"bcc92b8e-e4ef-4e53-b7b0-9fad817ac4e6\",\"type\":\"CDSView\"}},\"id\":\"68c0fb6d-f20a-482a-b298-48d3f94f8d20\",\"type\":\"GlyphRenderer\"},{\"attributes\":{\"data_source\":{\"id\":\"1f8e7cf0-4870-4878-a505-d1d2aecca4b4\",\"type\":\"ColumnDataSource\"},\"glyph\":{\"id\":\"85f802a6-4e7b-4a9f-a54e-e84b3fc28e11\",\"type\":\"Circle\"},\"hover_glyph\":null,\"muted_glyph\":null,\"nonselection_glyph\":{\"id\":\"4f326508-3383-4d41-9f17-a22dfb5b9cc8\",\"type\":\"Circle\"},\"selection_glyph\":null,\"view\":{\"id\":\"4055a4c9-f946-4d9d-9231-7a9c420cd192\",\"type\":\"CDSView\"}},\"id\":\"e27d5599-87b5-48a5-9add-c64d0cf6e6a0\",\"type\":\"GlyphRenderer\"},{\"attributes\":{\"source\":{\"id\":\"699901c6-f80f-4351-81b6-744acc104de5\",\"type\":\"ColumnDataSource\"}},\"id\":\"2a66cd44-5bbc-4f08-b046-8246ff571db5\",\"type\":\"CDSView\"},{\"attributes\":{\"callback\":null,\"data\":{\"x\":[5.4,5.6]},\"selected\":{\"id\":\"bc292b48-c4e1-48f5-ba83-060d00f7fbbe\",\"type\":\"Selection\"},\"selection_policy\":{\"id\":\"a525bb12-be6d-412e-96d7-9c90551b32d0\",\"type\":\"UnionRenderers\"}},\"id\":\"0d5cf803-c8e9-4a0f-909a-d81a1035d8dc\",\"type\":\"ColumnDataSource\"},{\"attributes\":{\"source\":{\"id\":\"1f8e7cf0-4870-4878-a505-d1d2aecca4b4\",\"type\":\"ColumnDataSource\"}},\"id\":\"4055a4c9-f946-4d9d-9231-7a9c420cd192\",\"type\":\"CDSView\"},{\"attributes\":{\"fill_alpha\":{\"value\":0.1},\"fill_color\":{\"value\":\"#1f77b4\"},\"line_alpha\":{\"value\":0.1},\"line_color\":{\"value\":\"#1f77b4\"},\"x\":{\"field\":\"x\"},\"y\":{\"field\":\"y\"}},\"id\":\"e6ba6691-db47-4763-bb93-1317b5507fc5\",\"type\":\"Circle\"},{\"attributes\":{\"callback\":null,\"data\":{\"y\":{\"__ndarray__\":\"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\",\"dtype\":\"float64\",\"shape\":[787]}},\"selected\":{\"id\":\"59265a13-56cf-40ec-adad-fd1f49e7b9e8\",\"type\":\"Selection\"},\"selection_policy\":{\"id\":\"bb2daad5-6aca-4e54-ba29-9db0eac80fd4\",\"type\":\"UnionRenderers\"}},\"id\":\"e2b2ba30-758d-4641-88f8-6e923bd9beb2\",\"type\":\"ColumnDataSource\"},{\"attributes\":{\"data_source\":{\"id\":\"dbe96930-6e04-4c4a-b659-784262486ee4\",\"type\":\"ColumnDataSource\"},\"glyph\":{\"id\":\"18782e0f-e980-4244-86cc-2f5606540658\",\"type\":\"Circle\"},\"hover_glyph\":null,\"muted_glyph\":null,\"nonselection_glyph\":{\"id\":\"e6ba6691-db47-4763-bb93-1317b5507fc5\",\"type\":\"Circle\"},\"selection_glyph\":null,\"view\":{\"id\":\"66aaba87-8db1-42ff-8ca4-9bc595e99b7a\",\"type\":\"CDSView\"}},\"id\":\"09827743-1f57-4aaf-b465-4d28685844bb\",\"type\":\"GlyphRenderer\"},{\"attributes\":{\"range\":null,\"width\":0.5},\"id\":\"4c411837-1018-4415-a474-a2f7f133eacd\",\"type\":\"Jitter\"},{\"attributes\":{\"source\":{\"id\":\"dbe96930-6e04-4c4a-b659-784262486ee4\",\"type\":\"ColumnDataSource\"}},\"id\":\"66aaba87-8db1-42ff-8ca4-9bc595e99b7a\",\"type\":\"CDSView\"},{\"attributes\":{\"fill_alpha\":{\"value\":0.1},\"fill_color\":{\"value\":\"#2ca02c\"},\"line_alpha\":{\"value\":0.1},\"line_color\":{\"value\":\"#2ca02c\"},\"x\":{\"transform\":{\"id\":\"f529c0e1-95e7-42f6-bdda-9eac070beac6\",\"type\":\"Jitter\"},\"value\":2.5},\"y\":{\"field\":\"y\"}},\"id\":\"ce847d47-6be3-404e-b4ff-3ecff4ae1eaf\",\"type\":\"Circle\"},{\"attributes\":{\"source\":{\"id\":\"0d5cf803-c8e9-4a0f-909a-d81a1035d8dc\",\"type\":\"ColumnDataSource\"}},\"id\":\"bcc92b8e-e4ef-4e53-b7b0-9fad817ac4e6\",\"type\":\"CDSView\"},{\"attributes\":{\"fill_alpha\":{\"value\":0.1},\"fill_color\":{\"value\":\"#1f77b4\"},\"line_alpha\":{\"value\":0.1},\"line_color\":{\"value\":\"#1f77b4\"},\"x\":{\"transform\":{\"id\":\"f529c0e1-95e7-42f6-bdda-9eac070beac6\",\"type\":\"Jitter\"},\"value\":2.5},\"y\":{\"field\":\"y\"}},\"id\":\"b6fdecfc-3e53-4d2a-b2a6-0557c06270dd\",\"type\":\"Circle\"},{\"attributes\":{\"callback\":null,\"data\":{\"x\":[5.5],\"y\":{\"__ndarray__\":\"zczMzMzMH0A=\",\"dtype\":\"float64\",\"shape\":[1]}},\"selected\":{\"id\":\"e65daea7-b85c-43e2-95e6-110ef84094d6\",\"type\":\"Selection\"},\"selection_policy\":{\"id\":\"52a1e838-cd6c-4028-9573-e0608b6978b2\",\"type\":\"UnionRenderers\"}},\"id\":\"dbe96930-6e04-4c4a-b659-784262486ee4\",\"type\":\"ColumnDataSource\"},{\"attributes\":{\"data_source\":{\"id\":\"e2b2ba30-758d-4641-88f8-6e923bd9beb2\",\"type\":\"ColumnDataSource\"},\"glyph\":{\"id\":\"ce847d47-6be3-404e-b4ff-3ecff4ae1eaf\",\"type\":\"Circle\"},\"hover_glyph\":null,\"muted_glyph\":null,\"nonselection_glyph\":{\"id\":\"b6fdecfc-3e53-4d2a-b2a6-0557c06270dd\",\"type\":\"Circle\"},\"selection_glyph\":null,\"view\":{\"id\":\"7284d342-ea93-4d04-8ebf-4030560605fd\",\"type\":\"CDSView\"}},\"id\":\"6d3f1550-cfed-404e-9d61-60b61f4ca01f\",\"type\":\"GlyphRenderer\"},{\"attributes\":{\"source\":{\"id\":\"e2b2ba30-758d-4641-88f8-6e923bd9beb2\",\"type\":\"ColumnDataSource\"}},\"id\":\"7284d342-ea93-4d04-8ebf-4030560605fd\",\"type\":\"CDSView\"},{\"attributes\":{\"callback\":null,\"data\":{\"y\":{\"__ndarray__\":\"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\",\"dtype\":\"float64\",\"shape\":[509]}},\"selected\":{\"id\":\"a9eeb093-b2a3-4f70-973f-9a16e3ed87f4\",\"type\":\"Selection\"},\"selection_policy\":{\"id\":\"13973d73-8bd5-4d8d-a318-15ae7a72dba9\",\"type\":\"UnionRenderers\"}},\"id\":\"8760478f-8cd3-40c4-99da-34806768941f\",\"type\":\"ColumnDataSource\"},{\"attributes\":{\"range\":null,\"width\":0.5},\"id\":\"3e01f64d-769c-4254-8fb9-b8f1ad6c1a28\",\"type\":\"Jitter\"},{\"attributes\":{\"fill_alpha\":{\"value\":0.1},\"fill_color\":{\"value\":\"#d62728\"},\"line_alpha\":{\"value\":0.1},\"line_color\":{\"value\":\"#d62728\"},\"x\":{\"transform\":{\"id\":\"4c411837-1018-4415-a474-a2f7f133eacd\",\"type\":\"Jitter\"},\"value\":3.5},\"y\":{\"field\":\"y\"}},\"id\":\"834a0575-3081-4b8d-9b58-b81f52fd580b\",\"type\":\"Circle\"},{\"attributes\":{\"callback\":null,\"data\":{\"y\":{\"__ndarray__\":\"AAAAAAAAIUDNzMzMzMwhQAAAAAAAAB5AMzMzMzMzI0BmZmZmZmYiQGZmZmZmZiBAMzMzMzMzH0AzMzMzMzMhQM3MzMzMzCBAzczMzMzMHkAAAAAAAAAgQGZmZmZmZiFAMzMzMzMzIECamZmZmZkhQM3MzMzMzCJAAAAAAAAAJEAzMzMzMzMjQDMzMzMzMyNAMzMzMzMzIEAAAAAAAAAeQM3MzMzMzCBAmpmZmZmZH0CamZmZmZkgQM3MzMzMzCFAMzMzMzMzIkDNzMzMzMweQJqZmZmZmSBAMzMzMzMzIUDNzMzMzMwgQM3MzMzMzB5AMzMzMzMzIkDNzMzMzMweQAAAAAAAACJAZmZmZmZmJEAzMzMzMzMgQDMzMzMzMyFAzczMzMzMIEAzMzMzMzMgQAAAAAAAACBAmpmZmZmZIECamZmZmZkkQAAAAAAAACBAmpmZmZmZIUAAAAAAAAAiQJqZmZmZmSJAZmZmZmZmHkBmZmZmZmYgQAAAAAAAACRAZmZmZmZmIEBmZmZmZmYgQJqZmZmZmSBAMzMzMzMzH0AAAAAAAAAgQM3MzMzMzCBAmpmZmZmZIkDNzMzMzMwhQGZmZmZmZiNAZmZmZmZmHkAAAAAAAAAiQDMzMzMzMyFAzczMzMzMIUAzMzMzMzMhQJqZmZmZmSFAAAAAAAAAIUBmZmZmZmYiQAAAAAAAACBAzczMzMzMIkDNzMzMzMweQM3MzMzMzCBAAAAAAAAAIUAAAAAAAAAiQAAAAAAAACJAmpmZmZmZIkBmZmZmZmYhQDMzMzMzMyBAZmZmZmZmIUCamZmZmZkfQM3MzMzMzB5AzczMzMzMIEAAAAAAAIAiQDMzMzMzMyBAmpmZmZmZIEAAAAAAAAAhQM3MzMzMzCNAzczMzMzMIEDNzMzMzMwjQM3MzMzMzBxAZmZmZmZmIEBmZmZmZmYgQJqZmZmZmSBAzczMzMzMIEAAAAAAAAAeQGZmZmZmZiBAMzMzMzMzIUBmZmZmZmYgQJqZmZmZmSFAAAAAAAAAIUAzMzMzMzMgQJqZmZmZmSBAAAAAAAAAIUAzMzMzMzMgQDMzMzMzMx1AAAAAAAAAIEBmZmZmZmYkQDMzMzMzMyZAzczMzMzMI0BmZmZmZmYhQJqZmZmZmSBAMzMzMzMzH0DNzMzMzMwjQJqZmZmZmSRAzczMzMzMIEBmZmZmZmYhQJqZmZmZmSNAZmZmZmZmIUAAAAAAAAAiQDMzMzMzMx9AAAAAAAAAIUBmZmZmZmYgQGZmZmZmZiJAAAAAAAAAIkA=\",\"dtype\":\"float64\",\"shape\":[121]}},\"selected\":{\"id\":\"85c0c0ab-f17d-415f-81d3-5f0c826c4d5a\",\"type\":\"Selection\"},\"selection_policy\":{\"id\":\"9f325bf0-7556-40e6-9f2f-7b0f821cadcf\",\"type\":\"UnionRenderers\"}},\"id\":\"9a1425d5-ead1-4812-8646-af7886ee26e2\",\"type\":\"ColumnDataSource\"},{\"attributes\":{\"range\":null,\"width\":0.5},\"id\":\"746ee1fd-c7bc-47ec-bf63-98110bc42dd7\",\"type\":\"Jitter\"},{\"attributes\":{\"fill_alpha\":{\"value\":0.1},\"fill_color\":{\"value\":\"#9467bd\"},\"line_alpha\":{\"value\":0.1},\"line_color\":{\"value\":\"#9467bd\"},\"x\":{\"transform\":{\"id\":\"3e01f64d-769c-4254-8fb9-b8f1ad6c1a28\",\"type\":\"Jitter\"},\"value\":4.5},\"y\":{\"field\":\"y\"}},\"id\":\"f9fa75e4-9a09-4771-81d8-ce51799588fb\",\"type\":\"Circle\"},{\"attributes\":{\"fill_alpha\":{\"value\":0.1},\"fill_color\":{\"value\":\"#1f77b4\"},\"line_alpha\":{\"value\":0.1},\"line_color\":{\"value\":\"#1f77b4\"},\"x\":{\"transform\":{\"id\":\"3e01f64d-769c-4254-8fb9-b8f1ad6c1a28\",\"type\":\"Jitter\"},\"value\":4.5},\"y\":{\"field\":\"y\"}},\"id\":\"744f661d-ab9b-4c0b-b8ba-66b42f0302fa\",\"type\":\"Circle\"},{\"attributes\":{\"data_source\":{\"id\":\"9a1425d5-ead1-4812-8646-af7886ee26e2\",\"type\":\"ColumnDataSource\"},\"glyph\":{\"id\":\"f9fa75e4-9a09-4771-81d8-ce51799588fb\",\"type\":\"Circle\"},\"hover_glyph\":null,\"muted_glyph\":null,\"nonselection_glyph\":{\"id\":\"744f661d-ab9b-4c0b-b8ba-66b42f0302fa\",\"type\":\"Circle\"},\"selection_glyph\":null,\"view\":{\"id\":\"02824bec-682c-4101-988d-059031620e5a\",\"type\":\"CDSView\"}},\"id\":\"a1a82f06-d428-4051-9965-6552649eaa01\",\"type\":\"GlyphRenderer\"},{\"attributes\":{\"fill_alpha\":{\"value\":0.1},\"fill_color\":{\"value\":\"#1f77b4\"},\"line_alpha\":{\"value\":0.1},\"line_color\":{\"value\":\"#1f77b4\"},\"x\":{\"transform\":{\"id\":\"4c411837-1018-4415-a474-a2f7f133eacd\",\"type\":\"Jitter\"},\"value\":3.5},\"y\":{\"field\":\"y\"}},\"id\":\"d63ab3c4-9ba4-4cae-ba11-4e10276c86be\",\"type\":\"Circle\"},{\"attributes\":{\"source\":{\"id\":\"9a1425d5-ead1-4812-8646-af7886ee26e2\",\"type\":\"ColumnDataSource\"}},\"id\":\"02824bec-682c-4101-988d-059031620e5a\",\"type\":\"CDSView\"},{\"attributes\":{\"bottom\":{\"value\":8.55},\"fill_alpha\":{\"value\":0},\"fill_color\":{\"value\":\"#e377c2\"},\"left\":{\"value\":6.25},\"right\":{\"value\":6.75},\"top\":{\"value\":9.25}},\"id\":\"a030f5e0-4bc9-44cd-b0ff-91b611df6323\",\"type\":\"Quad\"},{\"attributes\":{\"callback\":null,\"data\":{\"y\":{\"__ndarray__\":\"MzMzMzOzIkAAAAAAAIAjQDMzMzMzsyBAmpmZmZkZI0CamZmZmRkhQDMzMzMzsyNAzczMzMxMJUCamZmZmRkjQDMzMzMzsyNAAAAAAACAI0DNzMzMzMwfQGZmZmZm5iNAmpmZmZkZI0DNzMzMzEwiQGZmZmZm5iRAzczMzMxMIkA=\",\"dtype\":\"float64\",\"shape\":[16]}},\"selected\":{\"id\":\"ba2cce50-88d9-4c26-95ce-cfe4b5f0b6e7\",\"type\":\"Selection\"},\"selection_policy\":{\"id\":\"69cf156b-e5f0-416f-9c30-dea55aa1b45a\",\"type\":\"UnionRenderers\"}},\"id\":\"52233b65-060d-4b09-b2ff-24bbd1c5417b\",\"type\":\"ColumnDataSource\"},{\"attributes\":{\"bottom\":{\"value\":8.55},\"fill_alpha\":{\"value\":0.1},\"fill_color\":{\"value\":\"#1f77b4\"},\"left\":{\"value\":6.25},\"line_alpha\":{\"value\":0.1},\"line_color\":{\"value\":\"#1f77b4\"},\"right\":{\"value\":6.75},\"top\":{\"value\":9.25}},\"id\":\"b19d284f-ed85-48f8-989c-f6fe78d1a943\",\"type\":\"Quad\"},{\"attributes\":{\"range\":null,\"width\":0.5},\"id\":\"b6556ecb-9067-4b80-849e-6499bfa4031d\",\"type\":\"Jitter\"},{\"attributes\":{\"callback\":null,\"data\":{},\"selected\":{\"id\":\"2b119992-0049-4d62-acb2-a98056a7e3c4\",\"type\":\"Selection\"},\"selection_policy\":{\"id\":\"b6063c8e-8420-4ff8-8acd-12bff3820126\",\"type\":\"UnionRenderers\"}},\"id\":\"bc4f0d70-2045-4039-96e1-9a192c735d53\",\"type\":\"ColumnDataSource\"},{\"attributes\":{\"fill_alpha\":{\"value\":0.1},\"fill_color\":{\"value\":\"#8c564b\"},\"line_alpha\":{\"value\":0.1},\"line_color\":{\"value\":\"#8c564b\"},\"x\":{\"transform\":{\"id\":\"746ee1fd-c7bc-47ec-bf63-98110bc42dd7\",\"type\":\"Jitter\"},\"value\":5.5},\"y\":{\"field\":\"y\"}},\"id\":\"cc4f2a14-807d-4636-a549-44e88d733a3a\",\"type\":\"Circle\"},{\"attributes\":{\"data_source\":{\"id\":\"bc4f0d70-2045-4039-96e1-9a192c735d53\",\"type\":\"ColumnDataSource\"},\"glyph\":{\"id\":\"a030f5e0-4bc9-44cd-b0ff-91b611df6323\",\"type\":\"Quad\"},\"hover_glyph\":null,\"muted_glyph\":null,\"nonselection_glyph\":{\"id\":\"b19d284f-ed85-48f8-989c-f6fe78d1a943\",\"type\":\"Quad\"},\"selection_glyph\":null,\"view\":{\"id\":\"d0884c37-0856-4ee7-ac3d-71867e10d16d\",\"type\":\"CDSView\"}},\"id\":\"50abeb5b-eeea-4cd3-9bc8-389a3ade5430\",\"type\":\"GlyphRenderer\"},{\"attributes\":{\"fill_alpha\":{\"value\":0.1},\"fill_color\":{\"value\":\"#1f77b4\"},\"line_alpha\":{\"value\":0.1},\"line_color\":{\"value\":\"#1f77b4\"},\"x\":{\"transform\":{\"id\":\"746ee1fd-c7bc-47ec-bf63-98110bc42dd7\",\"type\":\"Jitter\"},\"value\":5.5},\"y\":{\"field\":\"y\"}},\"id\":\"708080de-3110-4730-a5fa-6ea359b33fd7\",\"type\":\"Circle\"},{\"attributes\":{\"source\":{\"id\":\"bc4f0d70-2045-4039-96e1-9a192c735d53\",\"type\":\"ColumnDataSource\"}},\"id\":\"d0884c37-0856-4ee7-ac3d-71867e10d16d\",\"type\":\"CDSView\"},{\"attributes\":{\"data_source\":{\"id\":\"52233b65-060d-4b09-b2ff-24bbd1c5417b\",\"type\":\"ColumnDataSource\"},\"glyph\":{\"id\":\"cc4f2a14-807d-4636-a549-44e88d733a3a\",\"type\":\"Circle\"},\"hover_glyph\":null,\"muted_glyph\":null,\"nonselection_glyph\":{\"id\":\"708080de-3110-4730-a5fa-6ea359b33fd7\",\"type\":\"Circle\"},\"selection_glyph\":null,\"view\":{\"id\":\"6aa67ad3-86a9-43a8-b10f-b32c4d7e1a8b\",\"type\":\"CDSView\"}},\"id\":\"0d93831f-659b-4a8b-9679-4a2d9d0b7e86\",\"type\":\"GlyphRenderer\"},{\"attributes\":{\"x\":{\"field\":\"x\"},\"y\":{\"field\":\"y\"}},\"id\":\"10a00268-3809-4370-918e-32cfed4ecb3d\",\"type\":\"Line\"},{\"attributes\":{\"callback\":null,\"data\":{\"x\":[6.25,6.75],\"y\":[9.0,9.0]},\"selected\":{\"id\":\"80f32920-4cd4-42bb-96a6-243e35a29a7f\",\"type\":\"Selection\"},\"selection_policy\":{\"id\":\"63140c02-7f4c-448b-a528-6a1f41e2efa1\",\"type\":\"UnionRenderers\"}},\"id\":\"a713b4db-3c2b-4048-abb1-c3e34341e336\",\"type\":\"ColumnDataSource\"},{\"attributes\":{\"source\":{\"id\":\"52233b65-060d-4b09-b2ff-24bbd1c5417b\",\"type\":\"ColumnDataSource\"}},\"id\":\"6aa67ad3-86a9-43a8-b10f-b32c4d7e1a8b\",\"type\":\"CDSView\"},{\"attributes\":{\"line_alpha\":0.1,\"line_color\":\"#1f77b4\",\"x\":{\"field\":\"x\"},\"y\":{\"field\":\"y\"}},\"id\":\"3e97809c-ee5b-4f61-8b09-33b0c202c685\",\"type\":\"Line\"},{\"attributes\":{\"callback\":null,\"data\":{\"y\":{\"__ndarray__\":\"zczMzMzMIECamZmZmZkhQM3MzMzMzCBAAAAAAAAAIECamZmZmZkfQM3MzMzMzCFAMzMzMzMzIUAAAAAAAAAhQM3MzMzMzCFAMzMzMzMzIkAzMzMzMzMhQJqZmZmZmSNAZmZmZmZmIEAAAAAAAAAiQGZmZmZmZiNAMzMzMzMzIUBmZmZmZmYgQAAAAAAAACJAzczMzMzMIEAzMzMzMzMhQM3MzMzMzCFAMzMzMzMzIkCamZmZmZkgQGZmZmZmZiFAMzMzMzMzI0AAAAAAAAAhQDMzMzMzMyJAAAAAAAAAIkBmZmZmZmYiQM3MzMzMzCNAMzMzMzMzIUBmZmZmZmYiQM3MzMzMzCBAzczMzMzMIUAAAAAAAAAhQM3MzMzMzCRAMzMzMzMzI0AzMzMzMzMiQJqZmZmZmSJAmpmZmZmZIkCamZmZmZkhQJqZmZmZmSBAmpmZmZmZIUAzMzMzMzMiQDMzMzMzMyRAzczMzMzMIUBmZmZmZmYiQAAAAAAAACFAZmZmZmZmJEAzMzMzMzMkQGZmZmZmZiJAZmZmZmZmI0AzMzMzMzMiQAAAAAAAACFAZmZmZmZmIEAAAAAAAAAiQJqZmZmZmSJAAAAAAAAAIEAzMzMzMzMiQDMzMzMzMyBAmpmZmZmZIEBmZmZmZmYhQJqZmZmZmSFAMzMzMzMzIUBmZmZmZmYhQAAAAAAAACBAmpmZmZmZIUAAAAAAAAAiQDMzMzMzMyJAexSuR+F6I0AzMzMzMzMiQJqZmZmZmSNAzczMzMzMJECamZmZmZkgQOF6FK5H4SJAFK5H4XoUIkAAAAAAAAAiQJqZmZmZGSJAzczMzMxMI0BmZmZmZuYiQM3MzMzMTCFAZmZmZmbmIkBmZmZmZuYiQJqZmZmZGSJAAAAAAACAIUBmZmZmZuYiQDMzMzMzsyBA\",\"dtype\":\"float64\",\"shape\":[87]}},\"selected\":{\"id\":\"02a46449-7f7c-4b03-962e-2bc2a2153586\",\"type\":\"Selection\"},\"selection_policy\":{\"id\":\"d320d451-32ae-434c-8ee0-2217c5d1a15c\",\"type\":\"UnionRenderers\"}},\"id\":\"f8599043-4b5a-41f9-bb21-53b35c8782d6\",\"type\":\"ColumnDataSource\"},{\"attributes\":{\"data_source\":{\"id\":\"a713b4db-3c2b-4048-abb1-c3e34341e336\",\"type\":\"ColumnDataSource\"},\"glyph\":{\"id\":\"10a00268-3809-4370-918e-32cfed4ecb3d\",\"type\":\"Line\"},\"hover_glyph\":null,\"muted_glyph\":null,\"nonselection_glyph\":{\"id\":\"3e97809c-ee5b-4f61-8b09-33b0c202c685\",\"type\":\"Line\"},\"selection_glyph\":null,\"view\":{\"id\":\"84e65b9f-2739-4cdb-822a-fb707e209a96\",\"type\":\"CDSView\"}},\"id\":\"ab0f422a-2a3f-467f-9f98-791472f9b252\",\"type\":\"GlyphRenderer\"},{\"attributes\":{\"range\":null,\"width\":0.5},\"id\":\"be177a6d-b00a-4305-8035-1ae7a4fb21c5\",\"type\":\"Jitter\"},{\"attributes\":{\"source\":{\"id\":\"a713b4db-3c2b-4048-abb1-c3e34341e336\",\"type\":\"ColumnDataSource\"}},\"id\":\"84e65b9f-2739-4cdb-822a-fb707e209a96\",\"type\":\"CDSView\"},{\"attributes\":{\"fill_alpha\":{\"value\":0.1},\"fill_color\":{\"value\":\"#e377c2\"},\"line_alpha\":{\"value\":0.1},\"line_color\":{\"value\":\"#e377c2\"},\"x\":{\"transform\":{\"id\":\"b6556ecb-9067-4b80-849e-6499bfa4031d\",\"type\":\"Jitter\"},\"value\":6.5},\"y\":{\"field\":\"y\"}},\"id\":\"0fb01de2-5f70-4f28-9b9f-d773277fdb73\",\"type\":\"Circle\"},{\"attributes\":{\"x\":{\"field\":\"x\"},\"y\":{\"field\":\"y\"}},\"id\":\"2ec978b2-ac22-497d-b99b-f58f93804554\",\"type\":\"Line\"},{\"attributes\":{\"fill_alpha\":{\"value\":0.1},\"fill_color\":{\"value\":\"#1f77b4\"},\"line_alpha\":{\"value\":0.1},\"line_color\":{\"value\":\"#1f77b4\"},\"x\":{\"transform\":{\"id\":\"b6556ecb-9067-4b80-849e-6499bfa4031d\",\"type\":\"Jitter\"},\"value\":6.5},\"y\":{\"field\":\"y\"}},\"id\":\"846716d2-7b67-48fb-8457-efc4f4f93e04\",\"type\":\"Circle\"},{\"attributes\":{\"callback\":null,\"data\":{\"x\":[6.5,6.5],\"y\":[8.55,7.9]},\"selected\":{\"id\":\"fcd69b9e-9de6-4edf-a60f-cc74db6a8a2f\",\"type\":\"Selection\"},\"selection_policy\":{\"id\":\"1ab7e797-daf3-4399-bf0b-af4671abf5ad\",\"type\":\"UnionRenderers\"}},\"id\":\"732d5a84-d8e1-4827-85a6-6a3e7cd9e2e3\",\"type\":\"ColumnDataSource\"},{\"attributes\":{\"data_source\":{\"id\":\"f8599043-4b5a-41f9-bb21-53b35c8782d6\",\"type\":\"ColumnDataSource\"},\"glyph\":{\"id\":\"0fb01de2-5f70-4f28-9b9f-d773277fdb73\",\"type\":\"Circle\"},\"hover_glyph\":null,\"muted_glyph\":null,\"nonselection_glyph\":{\"id\":\"846716d2-7b67-48fb-8457-efc4f4f93e04\",\"type\":\"Circle\"},\"selection_glyph\":null,\"view\":{\"id\":\"6e1f00fa-fa43-44f7-bc81-7b18bb41396c\",\"type\":\"CDSView\"}},\"id\":\"90121e20-922f-495c-bfdd-370ebbdef5a5\",\"type\":\"GlyphRenderer\"},{\"attributes\":{\"line_alpha\":0.1,\"line_color\":\"#1f77b4\",\"x\":{\"field\":\"x\"},\"y\":{\"field\":\"y\"}},\"id\":\"92e44560-2754-4d18-8f43-d7859203e66f\",\"type\":\"Line\"},{\"attributes\":{\"data_source\":{\"id\":\"732d5a84-d8e1-4827-85a6-6a3e7cd9e2e3\",\"type\":\"ColumnDataSource\"},\"glyph\":{\"id\":\"2ec978b2-ac22-497d-b99b-f58f93804554\",\"type\":\"Line\"},\"hover_glyph\":null,\"muted_glyph\":null,\"nonselection_glyph\":{\"id\":\"92e44560-2754-4d18-8f43-d7859203e66f\",\"type\":\"Line\"},\"selection_glyph\":null,\"view\":{\"id\":\"03297909-bc16-4b79-807d-cec110ccdaf8\",\"type\":\"CDSView\"}},\"id\":\"aed90c3c-af27-421a-b067-bc71701e24e1\",\"type\":\"GlyphRenderer\"},{\"attributes\":{\"source\":{\"id\":\"f8599043-4b5a-41f9-bb21-53b35c8782d6\",\"type\":\"ColumnDataSource\"}},\"id\":\"6e1f00fa-fa43-44f7-bc81-7b18bb41396c\",\"type\":\"CDSView\"},{\"attributes\":{\"source\":{\"id\":\"732d5a84-d8e1-4827-85a6-6a3e7cd9e2e3\",\"type\":\"ColumnDataSource\"}},\"id\":\"03297909-bc16-4b79-807d-cec110ccdaf8\",\"type\":\"CDSView\"},{\"attributes\":{\"callback\":null,\"data\":{\"y\":{\"__ndarray__\":\"FK5H4XoUH0DD9Shcj8IfQNejcD0K1x9AAAAAAAAAIECF61G4HgUgQPYoXI/CdSBAmpmZmZmZIEC4HoXrUbggQD0K16NwvSBAzczMzMzMIEDNzMzMzMwgQM3MzMzMzCBAUrgehevRIEAAAAAAAAAhQAAAAAAAACFAMzMzMzMzIUAzMzMzMzMhQDMzMzMzMyFAuB6F61E4IUDXo3A9ClchQGZmZmZmZiFAZmZmZmZmIUBmZmZmZmYhQGZmZmZmZiFAZmZmZmZmIUBxPQrXo3AhQHE9CtejcCFACtejcD2KIUCamZmZmZkhQJqZmZmZmSFAmpmZmZmZIUCamZmZmZkhQB+F61G4niFAH4XrUbieIUA9CtejcL0hQMP1KFyPwiFASOF6FK7HIUDNzMzMzMwhQM3MzMzMzCFAzczMzMzMIUDNzMzMzMwhQM3MzMzMzCFAzczMzMzMIUDNzMzMzMwhQM3MzMzMzCFAzczMzMzMIUBSuB6F69EhQFK4HoXr0SFA16NwPQrXIUBcj8L1KNwhQFyPwvUo3CFAZmZmZmbmIUBmZmZmZuYhQOxRuB6F6yFAcT0K16PwIUBxPQrXo/AhQHsUrkfh+iFAAAAAAAAAIkAAAAAAAAAiQAAAAAAAACJAAAAAAAAAIkAAAAAAAAAiQIXrUbgeBSJACtejcD0KIkAK16NwPQoiQArXo3A9CiJAj8L1KFwPIkAUrkfhehQiQJqZmZmZGSJAmpmZmZkZIkAfhetRuB4iQDMzMzMzMyJAMzMzMzMzIkAzMzMzMzMiQDMzMzMzMyJAMzMzMzMzIkAzMzMzMzMiQMP1KFyPQiJAw/UoXI9CIkBI4XoUrkciQFyPwvUoXCJAZmZmZmZmIkBmZmZmZmYiQGZmZmZmZiJAZmZmZmZmIkDsUbgehWsiQOxRuB6FayJAcT0K16NwIkB7FK5H4XoiQHsUrkfheiJAAAAAAACAIkAAAAAAAIAiQAAAAAAAgCJAAAAAAACAIkCF61G4HoUiQIXrUbgehSJAj8L1KFyPIkCPwvUoXI8iQI/C9ShcjyJAmpmZmZmZIkCamZmZmZkiQJqZmZmZmSJAmpmZmZmZIkCamZmZmZkiQJqZmZmZmSJAmpmZmZmZIkCkcD0K16MiQClcj8L1qCJArkfhehSuIkCuR+F6FK4iQK5H4XoUriJAMzMzMzOzIkA9CtejcL0iQD0K16NwvSJAPQrXo3C9IkA9CtejcL0iQMP1KFyPwiJAzczMzMzMIkDNzMzMzMwiQM3MzMzMzCJAzczMzMzMIkDXo3A9CtciQFyPwvUo3CJAZmZmZmbmIkAAAAAAAAAjQAAAAAAAACNAhetRuB4FI0CF61G4HgUjQArXo3A9CiNAFK5H4XoUI0CamZmZmRkjQDMzMzMzMyNAMzMzMzMzI0AzMzMzMzMjQD0K16NwPSNASOF6FK5HI0DNzMzMzEwjQGZmZmZmZiNAZmZmZmZmI0D2KFyPwnUjQPYoXI/CdSNAexSuR+F6I0CamZmZmZkjQJqZmZmZmSNApHA9CtejI0AzMzMzM7MjQDMzMzMzsyNAzczMzMzMI0DNzMzMzMwjQOF6FK5H4SNAAAAAAAAAJEAzMzMzMzMkQLgehetROCRACtejcD2KJECuR+F6FK4kQClcj8L1qCZA\",\"dtype\":\"float64\",\"shape\":[156]}},\"selected\":{\"id\":\"1b2c73f1-739a-4188-b7c2-4a373e5c04b0\",\"type\":\"Selection\"},\"selection_policy\":{\"id\":\"5e5cbccc-80c1-4cfa-b5c4-e0c0bd49559c\",\"type\":\"UnionRenderers\"}},\"id\":\"c56727fd-f04a-43bf-837d-769e0b682f75\",\"type\":\"ColumnDataSource\"},{\"attributes\":{\"x\":{\"field\":\"x\"},\"y\":{\"field\":\"y\"}},\"id\":\"81249618-a8cd-404c-8d41-1c7971863e20\",\"type\":\"Line\"},{\"attributes\":{\"range\":null,\"width\":0.5},\"id\":\"d996ffea-7d98-42c9-b9c7-5a881d3c7c89\",\"type\":\"Jitter\"},{\"attributes\":{\"callback\":null,\"data\":{\"x\":[6.5,6.5],\"y\":[9.25,10.299999999999999]},\"selected\":{\"id\":\"4d48721b-c04a-49b3-b171-d10b0d5b6103\",\"type\":\"Selection\"},\"selection_policy\":{\"id\":\"3b9f502a-d20e-40f3-9a65-600b8cdccae6\",\"type\":\"UnionRenderers\"}},\"id\":\"987440e6-11b5-4215-98f7-f3dd560ef347\",\"type\":\"ColumnDataSource\"},{\"attributes\":{\"fill_alpha\":{\"value\":0.1},\"fill_color\":{\"value\":\"#7f7f7f\"},\"line_alpha\":{\"value\":0.1},\"line_color\":{\"value\":\"#7f7f7f\"},\"x\":{\"transform\":{\"id\":\"be177a6d-b00a-4305-8035-1ae7a4fb21c5\",\"type\":\"Jitter\"},\"value\":7.5},\"y\":{\"field\":\"y\"}},\"id\":\"123068dd-88ad-427c-ab8f-8cea5eecd8cd\",\"type\":\"Circle\"},{\"attributes\":{\"line_alpha\":0.1,\"line_color\":\"#1f77b4\",\"x\":{\"field\":\"x\"},\"y\":{\"field\":\"y\"}},\"id\":\"481eff14-7aaf-433c-ad2c-5cf46425d98a\",\"type\":\"Line\"},{\"attributes\":{\"fill_alpha\":{\"value\":0.1},\"fill_color\":{\"value\":\"#1f77b4\"},\"line_alpha\":{\"value\":0.1},\"line_color\":{\"value\":\"#1f77b4\"},\"x\":{\"transform\":{\"id\":\"be177a6d-b00a-4305-8035-1ae7a4fb21c5\",\"type\":\"Jitter\"},\"value\":7.5},\"y\":{\"field\":\"y\"}},\"id\":\"f045782b-2a31-4e1f-be38-c4b9aac64550\",\"type\":\"Circle\"},{\"attributes\":{\"data_source\":{\"id\":\"987440e6-11b5-4215-98f7-f3dd560ef347\",\"type\":\"ColumnDataSource\"},\"glyph\":{\"id\":\"81249618-a8cd-404c-8d41-1c7971863e20\",\"type\":\"Line\"},\"hover_glyph\":null,\"muted_glyph\":null,\"nonselection_glyph\":{\"id\":\"481eff14-7aaf-433c-ad2c-5cf46425d98a\",\"type\":\"Line\"},\"selection_glyph\":null,\"view\":{\"id\":\"5012e76a-bd1b-4722-af20-1791db55856c\",\"type\":\"CDSView\"}},\"id\":\"b804c24e-ac8a-4924-8271-4c93988cb004\",\"type\":\"GlyphRenderer\"},{\"attributes\":{\"data_source\":{\"id\":\"c56727fd-f04a-43bf-837d-769e0b682f75\",\"type\":\"ColumnDataSource\"},\"glyph\":{\"id\":\"123068dd-88ad-427c-ab8f-8cea5eecd8cd\",\"type\":\"Circle\"},\"hover_glyph\":null,\"muted_glyph\":null,\"nonselection_glyph\":{\"id\":\"f045782b-2a31-4e1f-be38-c4b9aac64550\",\"type\":\"Circle\"},\"selection_glyph\":null,\"view\":{\"id\":\"b93021ef-b36a-47db-a15a-70623d2bd747\",\"type\":\"CDSView\"}},\"id\":\"6fe7304c-ef8a-4ba7-8212-8f01f0d5b40f\",\"type\":\"GlyphRenderer\"},{\"attributes\":{\"source\":{\"id\":\"987440e6-11b5-4215-98f7-f3dd560ef347\",\"type\":\"ColumnDataSource\"}},\"id\":\"5012e76a-bd1b-4722-af20-1791db55856c\",\"type\":\"CDSView\"},{\"attributes\":{\"x\":{\"field\":\"x\"},\"y\":{\"value\":7.9}},\"id\":\"f99261c6-0844-482c-be65-11940696be6a\",\"type\":\"Line\"},{\"attributes\":{\"source\":{\"id\":\"c56727fd-f04a-43bf-837d-769e0b682f75\",\"type\":\"ColumnDataSource\"}},\"id\":\"b93021ef-b36a-47db-a15a-70623d2bd747\",\"type\":\"CDSView\"},{\"attributes\":{\"callback\":null,\"data\":{\"x\":[6.4,6.6]},\"selected\":{\"id\":\"ebaea5c9-fb13-4792-b6a0-1a77b3b025e5\",\"type\":\"Selection\"},\"selection_policy\":{\"id\":\"1d7b7b18-654c-41d1-9674-e16b0126c138\",\"type\":\"UnionRenderers\"}},\"id\":\"28d2ff5e-de70-4be4-b6ea-e7dab78f28ab\",\"type\":\"ColumnDataSource\"},{\"attributes\":{\"callback\":null,\"data\":{\"y\":{\"__ndarray__\":\"AAAAAACAIkCamZmZmZkhQIXrUbgehSJAAAAAAAAAJEAK16NwPYohQMP1KFyPQiJAAAAAAAAAI0CamZmZmZkiQGZmZmZm5iFAPQrXo3C9IUBmZmZmZmYjQGZmZmZmZiNAUrgehevRIEDsUbgehWsiQDMzMzMzMyNAzczMzMzMIkAAAAAAAIAiQJqZmZmZmSJAmpmZmZmZI0Bcj8L1KNwiQAAAAAAAACJAmpmZmZmZIkAzMzMzM7MjQD0K16NwPSNAAAAAAAAAIkAK16NwPQojQM3MzMzMzCNAMzMzMzMzIUDsUbgehWsiQMP1KFyPwiJAPQrXo3C9IkAK16NwPQoiQM3MzMzMzCFAUrgehevRIUAfhetRuB4iQM3MzMzMzCBAZmZmZmZmIUBmZmZmZmYhQFK4HoXr0SFAMzMzMzMzJEAK16NwPYokQM3MzMzMTCNAj8L1KFyPIkBmZmZmZmYiQNejcD0K1x9AmpmZmZmZIEDNzMzMzMwhQDMzMzMzMyFAMzMzMzMzIkAzMzMzMzMhQD0K16NwvSJAZmZmZmZmIkAzMzMzMzMiQDMzMzMzsyNACtejcD0KIkCF61G4HgUjQB+F61G4niFAFK5H4XoUH0DsUbgeheshQJqZmZmZmSFAMzMzMzMzIkCF61G4HgUiQM3MzMzMzCFAzczMzMzMIEAAAAAAAIAiQPYoXI/CdSNAZmZmZmZmIkBmZmZmZuYhQGZmZmZmZiFAcT0K16NwIUAzMzMzMzMjQJqZmZmZmSJAzczMzMzMJEDNzMzMzMwhQJqZmZmZmSJAzczMzMzMIEAzMzMzMzMhQM3MzMzMzCFAMzMzMzMzJEDNzMzMzMwhQJqZmZmZmSFAAAAAAACAIkAzMzMzMzMhQGZmZmZmZiFAzczMzMzMIEAAAAAAAAAjQM3MzMzMTCFAAAAAAAAAIkAAAAAAAAAiQAAAAAAAACFAAAAAAACAI0AzMzMzMzMiQJqZmZmZmSJAMzMzMzMzIUAAAAAAAAAiQDMzMzMzMyJAZmZmZmZmIEAzMzMzMzMgQM3MzMzMzCJAAAAAAAAAIkCamZmZmZkhQDMzMzMzMyRAmpmZmZmZIUAAAAAAAAAjQJqZmZmZmSBAZmZmZmZmIUAzMzMzMzMhQJqZmZmZmR9AZmZmZmZmIUAAAAAAAAAjQAAAAAAAACJAzczMzMzMIUA=\",\"dtype\":\"float64\",\"shape\":[112]}},\"selected\":{\"id\":\"87e7b223-2cc5-4a4d-8d6d-ff033789e7cc\",\"type\":\"Selection\"},\"selection_policy\":{\"id\":\"991ec3a1-546d-452a-abd1-6bdb750b3206\",\"type\":\"UnionRenderers\"}},\"id\":\"50a8c4e2-8bbb-4d3d-a2b0-c145e5e542f9\",\"type\":\"ColumnDataSource\"},{\"attributes\":{\"line_alpha\":0.1,\"line_color\":\"#1f77b4\",\"x\":{\"field\":\"x\"},\"y\":{\"value\":7.9}},\"id\":\"18f2aa35-be88-4c2f-a530-8399db08db85\",\"type\":\"Line\"},{\"attributes\":{\"range\":null,\"width\":0.5},\"id\":\"e2babf4a-4e1c-4f0a-b1fc-1464a7a0f586\",\"type\":\"Jitter\"},{\"attributes\":{\"x\":{\"field\":\"x\"},\"y\":{\"value\":10.299999999999999}},\"id\":\"5ac4dab0-2259-434a-b958-114c0044f9b8\",\"type\":\"Line\"},{\"attributes\":{\"fill_alpha\":{\"value\":0.1},\"fill_color\":{\"value\":\"#bcbd22\"},\"line_alpha\":{\"value\":0.1},\"line_color\":{\"value\":\"#bcbd22\"},\"x\":{\"transform\":{\"id\":\"d996ffea-7d98-42c9-b9c7-5a881d3c7c89\",\"type\":\"Jitter\"},\"value\":8.5},\"y\":{\"field\":\"y\"}},\"id\":\"e16546a7-3f04-44a0-8631-252f62490fa4\",\"type\":\"Circle\"},{\"attributes\":{\"data_source\":{\"id\":\"28d2ff5e-de70-4be4-b6ea-e7dab78f28ab\",\"type\":\"ColumnDataSource\"},\"glyph\":{\"id\":\"f99261c6-0844-482c-be65-11940696be6a\",\"type\":\"Line\"},\"hover_glyph\":null,\"muted_glyph\":null,\"nonselection_glyph\":{\"id\":\"18f2aa35-be88-4c2f-a530-8399db08db85\",\"type\":\"Line\"},\"selection_glyph\":null,\"view\":{\"id\":\"3a672f57-4e6f-4a6a-9bad-f7a98a20dd54\",\"type\":\"CDSView\"}},\"id\":\"c3314dce-bff6-453f-8943-8530e79f3f8d\",\"type\":\"GlyphRenderer\"},{\"attributes\":{\"fill_alpha\":{\"value\":0.1},\"fill_color\":{\"value\":\"#1f77b4\"},\"line_alpha\":{\"value\":0.1},\"line_color\":{\"value\":\"#1f77b4\"},\"x\":{\"transform\":{\"id\":\"d996ffea-7d98-42c9-b9c7-5a881d3c7c89\",\"type\":\"Jitter\"},\"value\":8.5},\"y\":{\"field\":\"y\"}},\"id\":\"fca8065c-6ff9-43ad-899f-4ba884dfefc9\",\"type\":\"Circle\"},{\"attributes\":{\"line_alpha\":0.1,\"line_color\":\"#1f77b4\",\"x\":{\"field\":\"x\"},\"y\":{\"value\":10.299999999999999}},\"id\":\"2548d99e-424e-4cf8-845f-a2169bd75c37\",\"type\":\"Line\"},{\"attributes\":{\"data_source\":{\"id\":\"50a8c4e2-8bbb-4d3d-a2b0-c145e5e542f9\",\"type\":\"ColumnDataSource\"},\"glyph\":{\"id\":\"e16546a7-3f04-44a0-8631-252f62490fa4\",\"type\":\"Circle\"},\"hover_glyph\":null,\"muted_glyph\":null,\"nonselection_glyph\":{\"id\":\"fca8065c-6ff9-43ad-899f-4ba884dfefc9\",\"type\":\"Circle\"},\"selection_glyph\":null,\"view\":{\"id\":\"5730befc-cfd0-479e-8422-56191eed9e97\",\"type\":\"CDSView\"}},\"id\":\"fccd540b-c2e6-41e9-aba1-ab435c7ada70\",\"type\":\"GlyphRenderer\"},{\"attributes\":{\"fill_color\":{\"value\":\"black\"},\"x\":{\"field\":\"x\"},\"y\":{\"field\":\"y\"}},\"id\":\"bd46e09c-4fca-4040-8453-96937ce8dcd8\",\"type\":\"Circle\"},{\"attributes\":{\"data_source\":{\"id\":\"4172fe51-8d04-4d61-8a3c-d354467d1003\",\"type\":\"ColumnDataSource\"},\"glyph\":{\"id\":\"5ac4dab0-2259-434a-b958-114c0044f9b8\",\"type\":\"Line\"},\"hover_glyph\":null,\"muted_glyph\":null,\"nonselection_glyph\":{\"id\":\"2548d99e-424e-4cf8-845f-a2169bd75c37\",\"type\":\"Line\"},\"selection_glyph\":null,\"view\":{\"id\":\"d2f0285b-15f5-4e9d-b0f5-f1c8d200edf7\",\"type\":\"CDSView\"}},\"id\":\"f0d4d73e-632c-4855-9d77-ac5aedb65dd4\",\"type\":\"GlyphRenderer\"},{\"attributes\":{\"source\":{\"id\":\"50a8c4e2-8bbb-4d3d-a2b0-c145e5e542f9\",\"type\":\"ColumnDataSource\"}},\"id\":\"5730befc-cfd0-479e-8422-56191eed9e97\",\"type\":\"CDSView\"},{\"attributes\":{\"source\":{\"id\":\"28d2ff5e-de70-4be4-b6ea-e7dab78f28ab\",\"type\":\"ColumnDataSource\"}},\"id\":\"3a672f57-4e6f-4a6a-9bad-f7a98a20dd54\",\"type\":\"CDSView\"},{\"attributes\":{\"callback\":null,\"data\":{\"y\":{\"__ndarray__\":\"zczMzMzMIkAAAAAAAAAjQAAAAAAAACZAZmZmZmZmIUDNzMzMzMwgQDMzMzMzMyJAZmZmZmZmIUBmZmZmZmYkQDMzMzMzMyNAMzMzMzOzIUCamZmZmZkhQAAAAAAAACNAZmZmZmZmIkAAAAAAAAAiQJqZmZmZmSNAmpmZmZmZIkAAAAAAAAAiQGZmZmZmZiRAzczMzMzMHkAAAAAAAAAiQAAAAAAAACNAzczMzMzMIkAAAAAAAAAgQM3MzMzMzCFAzczMzMzMIkAAAAAAAAAjQAAAAAAAACBAAAAAAAAAJEBmZmZmZuYhQGZmZmZmZiBAmpmZmZmZIUBmZmZmZmYiQM3MzMzMzCJAAAAAAAAAI0AzMzMzMzMgQAAAAAAAACNAzczMzMzMIECamZmZmZkiQJqZmZmZmSJAMzMzMzMzI0BmZmZmZmYiQAAAAAAAACRAzczMzMzMIUAAAAAAAAAlQM3MzMzMzCFAMzMzMzMzIUCamZmZmZkhQM3MzMzMTCJAAAAAAAAAI0AzMzMzMzMiQGZmZmZmZiRAzczMzMzMIEAAAAAAAAAkQGZmZmZmZiRAmpmZmZmZIkCamZmZmZklQJqZmZmZmSBAMzMzMzMzH0CamZmZmZkjQJqZmZmZmR9AzczMzMzMIUDNzMzMzMweQM3MzMzMzCFAzczMzMzMIkDNzMzMzMwiQAAAAAAAACFAAAAAAAAAIUAzMzMzMzMjQGZmZmZmZiRAmpmZmZmZIUAAAAAAAAAjQJqZmZmZmSJAAAAAAAAAIkBmZmZmZmYiQGZmZmZmZiFAAAAAAAAAIkAzMzMzMzMiQGZmZmZmZiFAzczMzMzMIkCamZmZmZkjQDMzMzMzMyFAMzMzMzMzJUAAAAAAAAAiQAAAAAAAACNAMzMzMzMzIECamZmZmZkiQDMzMzMzMyNAAAAAAAAAIUBmZmZmZmYgQAAAAAAAACBAAAAAAAAAI0BmZmZmZmYjQM3MzMzMzCNAMzMzMzMzIkAAAAAAAAAjQJqZmZmZmSNAzczMzMzMIECamZmZmZkgQDMzMzMzMyNAzczMzMzMIkAAAAAAAAAkQM3MzMzMzCFAMzMzMzMzIkCamZmZmZkjQJqZmZmZmSJAzczMzMzMI0DNzMzMzMwhQAAAAAAAACFAMzMzMzMzJUCamZmZmZkiQM3MzMzMzCFAzczMzMzMIUBmZmZmZmYjQJqZmZmZmSNAAAAAAAAAJUDNzMzMzMwgQAAAAAAAACRAAAAAAAAAIkBmZmZmZmYhQJqZmZmZmSFAzczMzMzMIECamZmZmZkiQJqZmZmZmSNAzczMzMzMIUCamZmZmZkjQDMzMzMzMyJA\",\"dtype\":\"float64\",\"shape\":[126]}},\"selected\":{\"id\":\"34766f21-6178-4d2f-a46c-02627ede8bc3\",\"type\":\"Selection\"},\"selection_policy\":{\"id\":\"c5351189-ebee-40a4-a6c3-17c059310622\",\"type\":\"UnionRenderers\"}},\"id\":\"a025010a-5151-4d9b-a6a2-592535a60307\",\"type\":\"ColumnDataSource\"},{\"attributes\":{\"callback\":null,\"data\":{\"x\":[6.4,6.6]},\"selected\":{\"id\":\"dfd0d111-adc1-4869-b2b9-36dc555e8aad\",\"type\":\"Selection\"},\"selection_policy\":{\"id\":\"6f4607d8-94e2-4c8f-8952-7df749609d77\",\"type\":\"UnionRenderers\"}},\"id\":\"4172fe51-8d04-4d61-8a3c-d354467d1003\",\"type\":\"ColumnDataSource\"},{\"attributes\":{},\"id\":\"9225f793-7bd3-4506-bd41-e97524d09b18\",\"type\":\"UnionRenderers\"},{\"attributes\":{\"fill_alpha\":{\"value\":0.1},\"fill_color\":{\"value\":\"#1f77b4\"},\"line_alpha\":{\"value\":0.1},\"line_color\":{\"value\":\"#1f77b4\"},\"x\":{\"field\":\"x\"},\"y\":{\"field\":\"y\"}},\"id\":\"19b49701-c075-4ba1-a883-2580f9668c2a\",\"type\":\"Circle\"},{\"attributes\":{\"fill_alpha\":{\"value\":0.1},\"fill_color\":{\"value\":\"#17becf\"},\"line_alpha\":{\"value\":0.1},\"line_color\":{\"value\":\"#17becf\"},\"x\":{\"transform\":{\"id\":\"e2babf4a-4e1c-4f0a-b1fc-1464a7a0f586\",\"type\":\"Jitter\"},\"value\":9.5},\"y\":{\"field\":\"y\"}},\"id\":\"f4ae3a4a-9d30-46cc-a443-3a36cc3860e9\",\"type\":\"Circle\"},{\"attributes\":{\"data_source\":{\"id\":\"4050c82d-b76c-41ce-98c7-313c861eb142\",\"type\":\"ColumnDataSource\"},\"glyph\":{\"id\":\"bd46e09c-4fca-4040-8453-96937ce8dcd8\",\"type\":\"Circle\"},\"hover_glyph\":null,\"muted_glyph\":null,\"nonselection_glyph\":{\"id\":\"19b49701-c075-4ba1-a883-2580f9668c2a\",\"type\":\"Circle\"},\"selection_glyph\":null,\"view\":{\"id\":\"c3dfe71c-d8d8-441d-a706-34a6a7ebda13\",\"type\":\"CDSView\"}},\"id\":\"b88c3baa-5279-445a-8324-0b04c38039b6\",\"type\":\"GlyphRenderer\"},{\"attributes\":{\"fill_alpha\":{\"value\":0.1},\"fill_color\":{\"value\":\"#1f77b4\"},\"line_alpha\":{\"value\":0.1},\"line_color\":{\"value\":\"#1f77b4\"},\"x\":{\"transform\":{\"id\":\"e2babf4a-4e1c-4f0a-b1fc-1464a7a0f586\",\"type\":\"Jitter\"},\"value\":9.5},\"y\":{\"field\":\"y\"}},\"id\":\"f127a81e-5cac-4869-9275-eff6a31a858a\",\"type\":\"Circle\"},{\"attributes\":{\"ticks\":[0.5,1.5,2.5,3.5,4.5,5.5,6.5,7.5,8.5,9.5]},\"id\":\"0efd26d6-da53-4456-907f-580a10e9f8eb\",\"type\":\"FixedTicker\"},{\"attributes\":{\"source\":{\"id\":\"4050c82d-b76c-41ce-98c7-313c861eb142\",\"type\":\"ColumnDataSource\"}},\"id\":\"c3dfe71c-d8d8-441d-a706-34a6a7ebda13\",\"type\":\"CDSView\"},{\"attributes\":{\"data_source\":{\"id\":\"a025010a-5151-4d9b-a6a2-592535a60307\",\"type\":\"ColumnDataSource\"},\"glyph\":{\"id\":\"f4ae3a4a-9d30-46cc-a443-3a36cc3860e9\",\"type\":\"Circle\"},\"hover_glyph\":null,\"muted_glyph\":null,\"nonselection_glyph\":{\"id\":\"f127a81e-5cac-4869-9275-eff6a31a858a\",\"type\":\"Circle\"},\"selection_glyph\":null,\"view\":{\"id\":\"89c833df-ab89-4743-bce8-2e3731e5fd5c\",\"type\":\"CDSView\"}},\"id\":\"d1444ae1-847b-4ad3-8273-2ffc029645be\",\"type\":\"GlyphRenderer\"},{\"attributes\":{\"source\":{\"id\":\"4172fe51-8d04-4d61-8a3c-d354467d1003\",\"type\":\"ColumnDataSource\"}},\"id\":\"d2f0285b-15f5-4e9d-b0f5-f1c8d200edf7\",\"type\":\"CDSView\"},{\"attributes\":{\"callback\":null,\"data\":{\"x\":[6.5,6.5],\"y\":{\"__ndarray__\":\"zczMzMzMJEDNzMzMzMwkQA==\",\"dtype\":\"float64\",\"shape\":[2]}},\"selected\":{\"id\":\"70c9933b-0e33-4efe-aaf1-6f76de6732ca\",\"type\":\"Selection\"},\"selection_policy\":{\"id\":\"e512f020-3eda-48a7-beff-c698c694b9e2\",\"type\":\"UnionRenderers\"}},\"id\":\"4050c82d-b76c-41ce-98c7-313c861eb142\",\"type\":\"ColumnDataSource\"},{\"attributes\":{\"source\":{\"id\":\"a025010a-5151-4d9b-a6a2-592535a60307\",\"type\":\"ColumnDataSource\"}},\"id\":\"89c833df-ab89-4743-bce8-2e3731e5fd5c\",\"type\":\"CDSView\"},{\"attributes\":{},\"id\":\"68df7af6-8c6b-423d-8414-e97e1482997d\",\"type\":\"Selection\"},{\"attributes\":{},\"id\":\"aa2edb9f-01eb-405b-beb3-638087916851\",\"type\":\"UnionRenderers\"},{\"attributes\":{},\"id\":\"d97aa14d-b498-47dd-9db0-2c1227ebe318\",\"type\":\"Selection\"},{\"attributes\":{},\"id\":\"30fa4425-a7fc-4745-a855-e10b2f6b3490\",\"type\":\"Selection\"},{\"attributes\":{},\"id\":\"6afeb11a-03d1-4385-bbe9-a388d0df7656\",\"type\":\"UnionRenderers\"},{\"attributes\":{},\"id\":\"94c67e06-c1a4-4176-9b45-a1cb500d8d78\",\"type\":\"Selection\"},{\"attributes\":{},\"id\":\"2b3919d4-c480-4ad2-b221-8e78416184dd\",\"type\":\"Selection\"},{\"attributes\":{},\"id\":\"82f7225c-bc16-4526-8932-7709b112b4b7\",\"type\":\"UnionRenderers\"},{\"attributes\":{},\"id\":\"769e8003-e9c7-4da4-85c6-f324c669b4a3\",\"type\":\"Selection\"},{\"attributes\":{},\"id\":\"d4f9d4ab-1145-42e4-a124-2ca304649f05\",\"type\":\"UnionRenderers\"},{\"attributes\":{},\"id\":\"ba7686ff-7042-4898-a01f-0bf2664610bc\",\"type\":\"UnionRenderers\"},{\"attributes\":{},\"id\":\"2e3a1c5b-7904-4b48-9619-dfe3003822dc\",\"type\":\"Selection\"},{\"attributes\":{},\"id\":\"3edc6be4-0525-4dd9-87e5-55724698f65e\",\"type\":\"UnionRenderers\"},{\"attributes\":{},\"id\":\"86f40f23-84f2-4a32-bffb-c52a59d7069b\",\"type\":\"Selection\"},{\"attributes\":{},\"id\":\"e76bde29-0443-4fde-bc21-54ac2021e9c5\",\"type\":\"UnionRenderers\"},{\"attributes\":{},\"id\":\"fd0dd1d0-32bb-4291-a6bf-aac901a0ad02\",\"type\":\"Selection\"},{\"attributes\":{},\"id\":\"6cd8833c-9f55-4323-83e8-c95ecd052f4c\",\"type\":\"UnionRenderers\"},{\"attributes\":{\"x\":{\"field\":\"x\"},\"y\":{\"value\":10.98}},\"id\":\"9fa73e7b-80d6-47a2-b714-2059c01ee92d\",\"type\":\"Line\"},{\"attributes\":{},\"id\":\"4448865c-9e0b-42ff-a4d3-7dd0ef542ecc\",\"type\":\"Selection\"},{\"attributes\":{\"bottom\":{\"value\":8.6},\"fill_alpha\":{\"value\":0},\"fill_color\":{\"value\":\"#ff7f0e\"},\"left\":{\"value\":1.25},\"right\":{\"value\":1.75},\"top\":{\"value\":9.7}},\"id\":\"5f6e785d-3d72-4e7b-bba3-0f5fc33f1a9e\",\"type\":\"Quad\"},{\"attributes\":{},\"id\":\"c30809ab-97ad-40fd-928c-666af1b37f53\",\"type\":\"UnionRenderers\"},{\"attributes\":{\"bottom\":{\"value\":8.6},\"fill_alpha\":{\"value\":0.1},\"fill_color\":{\"value\":\"#1f77b4\"},\"left\":{\"value\":1.25},\"line_alpha\":{\"value\":0.1},\"line_color\":{\"value\":\"#1f77b4\"},\"right\":{\"value\":1.75},\"top\":{\"value\":9.7}},\"id\":\"4c27800b-e4a2-4602-8575-167204ca4a77\",\"type\":\"Quad\"},{\"attributes\":{},\"id\":\"ba1e333c-73cc-48a1-a6aa-5538aae2693b\",\"type\":\"Selection\"},{\"attributes\":{\"callback\":null,\"data\":{},\"selected\":{\"id\":\"4bf34933-5a9e-4b8c-ab3a-52a49c274b63\",\"type\":\"Selection\"},\"selection_policy\":{\"id\":\"fb3ddf17-4aab-43d0-a1c1-96c46f4b34d4\",\"type\":\"UnionRenderers\"}},\"id\":\"1799c795-a3e3-4a8e-b78e-bc41394e674a\",\"type\":\"ColumnDataSource\"},{\"attributes\":{},\"id\":\"c4e3a57a-6435-471d-9aa5-a587ba3dc54e\",\"type\":\"Selection\"},{\"attributes\":{\"data_source\":{\"id\":\"1799c795-a3e3-4a8e-b78e-bc41394e674a\",\"type\":\"ColumnDataSource\"},\"glyph\":{\"id\":\"5f6e785d-3d72-4e7b-bba3-0f5fc33f1a9e\",\"type\":\"Quad\"},\"hover_glyph\":null,\"muted_glyph\":null,\"nonselection_glyph\":{\"id\":\"4c27800b-e4a2-4602-8575-167204ca4a77\",\"type\":\"Quad\"},\"selection_glyph\":null,\"view\":{\"id\":\"2cae284e-ee86-4614-a851-c318ae63712c\",\"type\":\"CDSView\"}},\"id\":\"35779e1b-d393-43d2-8bf4-0ce3a4c611a6\",\"type\":\"GlyphRenderer\"},{\"attributes\":{},\"id\":\"56b1c2a5-f522-4a48-9813-ed76c3ab7f48\",\"type\":\"UnionRenderers\"},{\"attributes\":{\"source\":{\"id\":\"1799c795-a3e3-4a8e-b78e-bc41394e674a\",\"type\":\"ColumnDataSource\"}},\"id\":\"2cae284e-ee86-4614-a851-c318ae63712c\",\"type\":\"CDSView\"},{\"attributes\":{},\"id\":\"43594fbb-d93a-4949-92d7-8e3d96cdcf85\",\"type\":\"Selection\"},{\"attributes\":{\"x\":{\"field\":\"x\"},\"y\":{\"field\":\"y\"}},\"id\":\"ad1d79b7-bde0-4b3b-9a9b-2a0aaa0c2591\",\"type\":\"Line\"},{\"attributes\":{},\"id\":\"ba10f807-379f-4131-82ac-738293e16937\",\"type\":\"UnionRenderers\"},{\"attributes\":{\"callback\":null,\"data\":{\"x\":[1.25,1.75],\"y\":[9.2,9.2]},\"selected\":{\"id\":\"5728fb01-1de8-4a8f-ac30-50675b69f464\",\"type\":\"Selection\"},\"selection_policy\":{\"id\":\"c5427af2-0f52-462c-b2eb-b14819405a0b\",\"type\":\"UnionRenderers\"}},\"id\":\"fb19e933-4686-4507-a47a-957867486704\",\"type\":\"ColumnDataSource\"},{\"attributes\":{},\"id\":\"d3444a16-c305-4463-93ca-707a5fc8bf61\",\"type\":\"UnionRenderers\"},{\"attributes\":{\"line_alpha\":0.1,\"line_color\":\"#1f77b4\",\"x\":{\"field\":\"x\"},\"y\":{\"field\":\"y\"}},\"id\":\"f945116c-bc27-4fa3-b3cf-6157ad37b16f\",\"type\":\"Line\"},{\"attributes\":{},\"id\":\"6b3aca79-1202-4b30-9395-0f713046e3b0\",\"type\":\"Selection\"},{\"attributes\":{\"data_source\":{\"id\":\"fb19e933-4686-4507-a47a-957867486704\",\"type\":\"ColumnDataSource\"},\"glyph\":{\"id\":\"ad1d79b7-bde0-4b3b-9a9b-2a0aaa0c2591\",\"type\":\"Line\"},\"hover_glyph\":null,\"muted_glyph\":null,\"nonselection_glyph\":{\"id\":\"f945116c-bc27-4fa3-b3cf-6157ad37b16f\",\"type\":\"Line\"},\"selection_glyph\":null,\"view\":{\"id\":\"02110b27-78aa-4887-a4d4-7a2f65d7e676\",\"type\":\"CDSView\"}},\"id\":\"9984e7e7-d370-4675-ba82-f2d8e946f55a\",\"type\":\"GlyphRenderer\"},{\"attributes\":{},\"id\":\"a561d4be-305f-409a-9156-d52bf2a2d088\",\"type\":\"UnionRenderers\"},{\"attributes\":{\"source\":{\"id\":\"fb19e933-4686-4507-a47a-957867486704\",\"type\":\"ColumnDataSource\"}},\"id\":\"02110b27-78aa-4887-a4d4-7a2f65d7e676\",\"type\":\"CDSView\"},{\"attributes\":{},\"id\":\"4b1711d8-a359-43a9-946c-5fc96587343b\",\"type\":\"Selection\"},{\"attributes\":{\"x\":{\"field\":\"x\"},\"y\":{\"field\":\"y\"}},\"id\":\"f4acb2a4-ab9b-40d2-a255-73d61b550bf7\",\"type\":\"Line\"},{\"attributes\":{},\"id\":\"022102ae-8dcc-4b50-bb50-dc8060ce8fe6\",\"type\":\"UnionRenderers\"},{\"attributes\":{\"callback\":null,\"data\":{\"x\":[1.5,1.5],\"y\":[8.6,7.5]},\"selected\":{\"id\":\"aa58669e-3f0a-47d7-9b31-092eb64186ae\",\"type\":\"Selection\"},\"selection_policy\":{\"id\":\"f70251eb-02a0-4e38-9bea-ec870269c6c6\",\"type\":\"UnionRenderers\"}},\"id\":\"3bf45fc3-8aa0-4a4f-93b7-7d284d5d9e66\",\"type\":\"ColumnDataSource\"},{\"attributes\":{},\"id\":\"6e0564f0-f2cc-408d-b065-9054790aa9d5\",\"type\":\"Selection\"},{\"attributes\":{\"line_alpha\":0.1,\"line_color\":\"#1f77b4\",\"x\":{\"field\":\"x\"},\"y\":{\"field\":\"y\"}},\"id\":\"5170879b-e84e-402d-bd9c-0e549317cd25\",\"type\":\"Line\"},{\"attributes\":{},\"id\":\"af7148c5-4c45-4ea2-947b-b39457553506\",\"type\":\"UnionRenderers\"},{\"attributes\":{\"data_source\":{\"id\":\"3bf45fc3-8aa0-4a4f-93b7-7d284d5d9e66\",\"type\":\"ColumnDataSource\"},\"glyph\":{\"id\":\"f4acb2a4-ab9b-40d2-a255-73d61b550bf7\",\"type\":\"Line\"},\"hover_glyph\":null,\"muted_glyph\":null,\"nonselection_glyph\":{\"id\":\"5170879b-e84e-402d-bd9c-0e549317cd25\",\"type\":\"Line\"},\"selection_glyph\":null,\"view\":{\"id\":\"5a078ae5-affb-4a5e-b273-500900d130d7\",\"type\":\"CDSView\"}},\"id\":\"3a98681d-63ed-4322-8f29-22fc329a95f8\",\"type\":\"GlyphRenderer\"},{\"attributes\":{},\"id\":\"e0088c08-9a15-4c5f-b53a-b132b48eae98\",\"type\":\"Selection\"},{\"attributes\":{\"source\":{\"id\":\"3bf45fc3-8aa0-4a4f-93b7-7d284d5d9e66\",\"type\":\"ColumnDataSource\"}},\"id\":\"5a078ae5-affb-4a5e-b273-500900d130d7\",\"type\":\"CDSView\"},{\"attributes\":{},\"id\":\"4cdc4ef0-9989-4f4a-9970-2ef5579fd180\",\"type\":\"UnionRenderers\"},{\"attributes\":{\"x\":{\"field\":\"x\"},\"y\":{\"field\":\"y\"}},\"id\":\"ac804577-aa7b-4ef6-971e-fc45a6d32c38\",\"type\":\"Line\"},{\"attributes\":{},\"id\":\"a3136284-85be-409d-ac90-11bd59a34a00\",\"type\":\"Selection\"},{\"attributes\":{\"callback\":null,\"data\":{\"x\":[1.5,1.5],\"y\":[9.7,10.98]},\"selected\":{\"id\":\"58805f61-c32b-429f-ac5a-6a885ea56614\",\"type\":\"Selection\"},\"selection_policy\":{\"id\":\"831db44d-8e85-4fad-b99f-026cd312fb83\",\"type\":\"UnionRenderers\"}},\"id\":\"5b34b220-4dd5-477e-b774-4c0aa4465b33\",\"type\":\"ColumnDataSource\"},{\"attributes\":{},\"id\":\"ed5e65c9-6ea2-43e6-9ccb-48d1ff36b519\",\"type\":\"Selection\"},{\"attributes\":{\"line_alpha\":0.1,\"line_color\":\"#1f77b4\",\"x\":{\"field\":\"x\"},\"y\":{\"field\":\"y\"}},\"id\":\"aaf59330-2bee-4128-b681-069c3e9beff5\",\"type\":\"Line\"},{\"attributes\":{},\"id\":\"06f93ead-b679-4905-bc76-54fb2eec10d5\",\"type\":\"UnionRenderers\"},{\"attributes\":{},\"id\":\"773175cd-e2ee-4d13-9c50-074f9990eb0e\",\"type\":\"Selection\"},{\"attributes\":{\"data_source\":{\"id\":\"ef57c98a-c220-4ea0-be6e-97b1efb928cf\",\"type\":\"ColumnDataSource\"},\"glyph\":{\"id\":\"fa3ca53e-2ff9-4022-86ba-7a92bbc2189b\",\"type\":\"Line\"},\"hover_glyph\":null,\"muted_glyph\":null,\"nonselection_glyph\":{\"id\":\"39a71113-784c-4e09-8e2a-41192b6f65aa\",\"type\":\"Line\"},\"selection_glyph\":null,\"view\":{\"id\":\"218fd8b9-5199-47e2-9e23-6c989da8555a\",\"type\":\"CDSView\"}},\"id\":\"3fb7212a-d926-450d-8ee2-56fb02481f8c\",\"type\":\"GlyphRenderer\"},{\"attributes\":{},\"id\":\"803c81a7-3563-45ba-ad5f-b6536dced50f\",\"type\":\"UnionRenderers\"},{\"attributes\":{\"line_alpha\":0.1,\"line_color\":\"#1f77b4\",\"x\":{\"field\":\"x\"},\"y\":{\"value\":10.98}},\"id\":\"2ad4c888-b3f4-48eb-91c9-f8b588bbed33\",\"type\":\"Line\"},{\"attributes\":{},\"id\":\"2f8f99af-b547-47ad-9818-1ab7d1591b41\",\"type\":\"UnionRenderers\"},{\"attributes\":{\"fill_color\":{\"value\":\"black\"},\"x\":{\"field\":\"x\"},\"y\":{\"field\":\"y\"}},\"id\":\"5fb8066e-a33d-4c26-8378-2b2679f6bfba\",\"type\":\"Circle\"},{\"attributes\":{},\"id\":\"5fa5a546-3298-40ef-8efc-f30d88859ff2\",\"type\":\"Selection\"},{\"attributes\":{\"data_source\":{\"id\":\"33fd4e13-d97f-4c7f-912d-e92b71497635\",\"type\":\"ColumnDataSource\"},\"glyph\":{\"id\":\"9fa73e7b-80d6-47a2-b714-2059c01ee92d\",\"type\":\"Line\"},\"hover_glyph\":null,\"muted_glyph\":null,\"nonselection_glyph\":{\"id\":\"2ad4c888-b3f4-48eb-91c9-f8b588bbed33\",\"type\":\"Line\"},\"selection_glyph\":null,\"view\":{\"id\":\"88a9e748-5771-474e-ae4f-39b71c5a2d5e\",\"type\":\"CDSView\"}},\"id\":\"79817440-8829-4e95-9863-c6d56f606853\",\"type\":\"GlyphRenderer\"},{\"attributes\":{},\"id\":\"e6d1a463-b779-4f2f-8be1-1ad6b7b9b007\",\"type\":\"UnionRenderers\"},{\"attributes\":{\"source\":{\"id\":\"ef57c98a-c220-4ea0-be6e-97b1efb928cf\",\"type\":\"ColumnDataSource\"}},\"id\":\"218fd8b9-5199-47e2-9e23-6c989da8555a\",\"type\":\"CDSView\"},{\"attributes\":{},\"id\":\"573c46a2-1911-4278-ae37-f58d79213fdf\",\"type\":\"Selection\"},{\"attributes\":{\"callback\":null,\"data\":{\"x\":[1.4,1.6]},\"selected\":{\"id\":\"30fa4425-a7fc-4745-a855-e10b2f6b3490\",\"type\":\"Selection\"},\"selection_policy\":{\"id\":\"9225f793-7bd3-4506-bd41-e97524d09b18\",\"type\":\"UnionRenderers\"}},\"id\":\"33fd4e13-d97f-4c7f-912d-e92b71497635\",\"type\":\"ColumnDataSource\"},{\"attributes\":{},\"id\":\"b023e554-8eb0-424e-82b8-dd47496afa30\",\"type\":\"UnionRenderers\"},{\"attributes\":{\"fill_alpha\":{\"value\":0.1},\"fill_color\":{\"value\":\"#1f77b4\"},\"line_alpha\":{\"value\":0.1},\"line_color\":{\"value\":\"#1f77b4\"},\"x\":{\"field\":\"x\"},\"y\":{\"field\":\"y\"}},\"id\":\"a008e383-8374-486a-ba9e-263c0989d539\",\"type\":\"Circle\"},{\"attributes\":{},\"id\":\"fe42791c-92d9-48b7-99dd-8928cf762936\",\"type\":\"Selection\"},{\"attributes\":{\"data_source\":{\"id\":\"fcb1950d-ad5b-4c87-94e9-5c0005bd8db0\",\"type\":\"ColumnDataSource\"},\"glyph\":{\"id\":\"5fb8066e-a33d-4c26-8378-2b2679f6bfba\",\"type\":\"Circle\"},\"hover_glyph\":null,\"muted_glyph\":null,\"nonselection_glyph\":{\"id\":\"a008e383-8374-486a-ba9e-263c0989d539\",\"type\":\"Circle\"},\"selection_glyph\":null,\"view\":{\"id\":\"861248e7-a675-4d76-972a-6b5776eeba05\",\"type\":\"CDSView\"}},\"id\":\"eb62c77c-6a64-43ec-a1c7-aa14666ca058\",\"type\":\"GlyphRenderer\"},{\"attributes\":{},\"id\":\"8999da8d-77a8-4dc0-94a4-8b9bdce0ae92\",\"type\":\"UnionRenderers\"},{\"attributes\":{\"source\":{\"id\":\"fcb1950d-ad5b-4c87-94e9-5c0005bd8db0\",\"type\":\"ColumnDataSource\"}},\"id\":\"861248e7-a675-4d76-972a-6b5776eeba05\",\"type\":\"CDSView\"},{\"attributes\":{},\"id\":\"8a40bff8-c2e6-46d0-aa24-b3bba4cd04f8\",\"type\":\"Selection\"},{\"attributes\":{\"source\":{\"id\":\"33fd4e13-d97f-4c7f-912d-e92b71497635\",\"type\":\"ColumnDataSource\"}},\"id\":\"88a9e748-5771-474e-ae4f-39b71c5a2d5e\",\"type\":\"CDSView\"},{\"attributes\":{},\"id\":\"615ce4d0-6e5d-495d-80c3-a885382304be\",\"type\":\"UnionRenderers\"},{\"attributes\":{\"callback\":null,\"data\":{\"x\":[],\"y\":{\"__ndarray__\":\"\",\"dtype\":\"float64\",\"shape\":[0]}},\"selected\":{\"id\":\"d97aa14d-b498-47dd-9db0-2c1227ebe318\",\"type\":\"Selection\"},\"selection_policy\":{\"id\":\"6afeb11a-03d1-4385-bbe9-a388d0df7656\",\"type\":\"UnionRenderers\"}},\"id\":\"fcb1950d-ad5b-4c87-94e9-5c0005bd8db0\",\"type\":\"ColumnDataSource\"},{\"attributes\":{},\"id\":\"2b119992-0049-4d62-acb2-a98056a7e3c4\",\"type\":\"Selection\"},{\"attributes\":{},\"id\":\"13ee0fbc-2292-4e19-b7a9-49f165577cac\",\"type\":\"Selection\"},{\"attributes\":{},\"id\":\"6a7f135a-51c3-4ea9-9a35-f1be9088ac35\",\"type\":\"UnionRenderers\"},{\"attributes\":{},\"id\":\"dba32b45-dff7-425c-a3a5-539f192af446\",\"type\":\"Selection\"},{\"attributes\":{},\"id\":\"39c74d87-accc-4512-ad00-4a209f4b34bc\",\"type\":\"UnionRenderers\"},{\"attributes\":{},\"id\":\"e8efcf47-0c6b-441b-a3eb-e6c30ec9a46f\",\"type\":\"UnionRenderers\"},{\"attributes\":{},\"id\":\"ac5babc7-7e12-4ce5-b0fb-c69c4da31358\",\"type\":\"Selection\"},{\"attributes\":{},\"id\":\"adf9fd4b-bcfc-4ade-afe5-e243f0a5fcec\",\"type\":\"UnionRenderers\"},{\"attributes\":{},\"id\":\"09366de1-8f30-4a05-81cc-70dea0eaf445\",\"type\":\"Selection\"},{\"attributes\":{},\"id\":\"a525bb12-be6d-412e-96d7-9c90551b32d0\",\"type\":\"UnionRenderers\"},{\"attributes\":{},\"id\":\"bc292b48-c4e1-48f5-ba83-060d00f7fbbe\",\"type\":\"Selection\"},{\"attributes\":{},\"id\":\"52a1e838-cd6c-4028-9573-e0608b6978b2\",\"type\":\"UnionRenderers\"},{\"attributes\":{},\"id\":\"e65daea7-b85c-43e2-95e6-110ef84094d6\",\"type\":\"Selection\"},{\"attributes\":{\"line_alpha\":0.1,\"line_color\":\"#1f77b4\",\"x\":{\"field\":\"x\"},\"y\":{\"value\":7.3100000000000005}},\"id\":\"6a1126c7-4608-4347-91ee-0b7af16d7e65\",\"type\":\"Line\"},{\"attributes\":{},\"id\":\"b6063c8e-8420-4ff8-8acd-12bff3820126\",\"type\":\"UnionRenderers\"},{\"attributes\":{\"bottom\":{\"value\":8.81},\"fill_alpha\":{\"value\":0},\"fill_color\":{\"value\":\"#2ca02c\"},\"left\":{\"value\":2.25},\"right\":{\"value\":2.75},\"top\":{\"value\":9.81}},\"id\":\"a58a2a90-92d4-45ab-86c7-9ac270bd03da\",\"type\":\"Quad\"},{\"attributes\":{},\"id\":\"f2df3d3b-f4bd-484b-9fb0-34c784c379c0\",\"type\":\"Selection\"},{\"attributes\":{\"bottom\":{\"value\":8.81},\"fill_alpha\":{\"value\":0.1},\"fill_color\":{\"value\":\"#1f77b4\"},\"left\":{\"value\":2.25},\"line_alpha\":{\"value\":0.1},\"line_color\":{\"value\":\"#1f77b4\"},\"right\":{\"value\":2.75},\"top\":{\"value\":9.81}},\"id\":\"9da750e3-e0d2-4ed8-956f-533a80fc155b\",\"type\":\"Quad\"},{\"attributes\":{},\"id\":\"fcd69b9e-9de6-4edf-a60f-cc74db6a8a2f\",\"type\":\"Selection\"},{\"attributes\":{\"callback\":null,\"data\":{},\"selected\":{\"id\":\"68df7af6-8c6b-423d-8414-e97e1482997d\",\"type\":\"Selection\"},\"selection_policy\":{\"id\":\"aa2edb9f-01eb-405b-beb3-638087916851\",\"type\":\"UnionRenderers\"}},\"id\":\"fbd805b9-21f0-4c0f-afc8-11b7357d7064\",\"type\":\"ColumnDataSource\"},{\"attributes\":{},\"id\":\"63140c02-7f4c-448b-a528-6a1f41e2efa1\",\"type\":\"UnionRenderers\"},{\"attributes\":{\"data_source\":{\"id\":\"fbd805b9-21f0-4c0f-afc8-11b7357d7064\",\"type\":\"ColumnDataSource\"},\"glyph\":{\"id\":\"a58a2a90-92d4-45ab-86c7-9ac270bd03da\",\"type\":\"Quad\"},\"hover_glyph\":null,\"muted_glyph\":null,\"nonselection_glyph\":{\"id\":\"9da750e3-e0d2-4ed8-956f-533a80fc155b\",\"type\":\"Quad\"},\"selection_glyph\":null,\"view\":{\"id\":\"27ca53e8-3258-4bab-9a5f-3523fceb20b1\",\"type\":\"CDSView\"}},\"id\":\"a88ac6e4-3893-47ef-a502-16d5a2691059\",\"type\":\"GlyphRenderer\"},{\"attributes\":{},\"id\":\"80f32920-4cd4-42bb-96a6-243e35a29a7f\",\"type\":\"Selection\"},{\"attributes\":{\"source\":{\"id\":\"fbd805b9-21f0-4c0f-afc8-11b7357d7064\",\"type\":\"ColumnDataSource\"}},\"id\":\"27ca53e8-3258-4bab-9a5f-3523fceb20b1\",\"type\":\"CDSView\"},{\"attributes\":{},\"id\":\"1ab7e797-daf3-4399-bf0b-af4671abf5ad\",\"type\":\"UnionRenderers\"},{\"attributes\":{\"x\":{\"field\":\"x\"},\"y\":{\"field\":\"y\"}},\"id\":\"abe093ce-f1f7-47c6-8d5d-f79f4ffca000\",\"type\":\"Line\"},{\"attributes\":{},\"id\":\"3b9f502a-d20e-40f3-9a65-600b8cdccae6\",\"type\":\"UnionRenderers\"},{\"attributes\":{\"callback\":null,\"data\":{\"x\":[2.25,2.75],\"y\":[9.31,9.31]},\"selected\":{\"id\":\"769e8003-e9c7-4da4-85c6-f324c669b4a3\",\"type\":\"Selection\"},\"selection_policy\":{\"id\":\"82f7225c-bc16-4526-8932-7709b112b4b7\",\"type\":\"UnionRenderers\"}},\"id\":\"ee224d87-af96-492e-ba59-56dbec5043f4\",\"type\":\"ColumnDataSource\"},{\"attributes\":{},\"id\":\"4d48721b-c04a-49b3-b171-d10b0d5b6103\",\"type\":\"Selection\"},{\"attributes\":{\"line_alpha\":0.1,\"line_color\":\"#1f77b4\",\"x\":{\"field\":\"x\"},\"y\":{\"field\":\"y\"}},\"id\":\"27633179-18be-4d04-96fc-07ea3ea5d2e5\",\"type\":\"Line\"},{\"attributes\":{},\"id\":\"1d7b7b18-654c-41d1-9674-e16b0126c138\",\"type\":\"UnionRenderers\"},{\"attributes\":{\"data_source\":{\"id\":\"ee224d87-af96-492e-ba59-56dbec5043f4\",\"type\":\"ColumnDataSource\"},\"glyph\":{\"id\":\"abe093ce-f1f7-47c6-8d5d-f79f4ffca000\",\"type\":\"Line\"},\"hover_glyph\":null,\"muted_glyph\":null,\"nonselection_glyph\":{\"id\":\"27633179-18be-4d04-96fc-07ea3ea5d2e5\",\"type\":\"Line\"},\"selection_glyph\":null,\"view\":{\"id\":\"a146628d-a6f5-437e-98e4-70b3db904b58\",\"type\":\"CDSView\"}},\"id\":\"f59c8030-4b0a-4d35-832b-894a76367e36\",\"type\":\"GlyphRenderer\"},{\"attributes\":{},\"id\":\"ebaea5c9-fb13-4792-b6a0-1a77b3b025e5\",\"type\":\"Selection\"},{\"attributes\":{\"source\":{\"id\":\"ee224d87-af96-492e-ba59-56dbec5043f4\",\"type\":\"ColumnDataSource\"}},\"id\":\"a146628d-a6f5-437e-98e4-70b3db904b58\",\"type\":\"CDSView\"},{\"attributes\":{},\"id\":\"6f4607d8-94e2-4c8f-8952-7df749609d77\",\"type\":\"UnionRenderers\"},{\"attributes\":{\"x\":{\"field\":\"x\"},\"y\":{\"field\":\"y\"}},\"id\":\"1d2b0a1e-ae17-4b2e-a8ed-3f8d51f75f8f\",\"type\":\"Line\"},{\"attributes\":{},\"id\":\"dfd0d111-adc1-4869-b2b9-36dc555e8aad\",\"type\":\"Selection\"},{\"attributes\":{\"callback\":null,\"data\":{\"x\":[2.5,2.5],\"y\":[8.81,7.3100000000000005]},\"selected\":{\"id\":\"2b3919d4-c480-4ad2-b221-8e78416184dd\",\"type\":\"Selection\"},\"selection_policy\":{\"id\":\"d4f9d4ab-1145-42e4-a124-2ca304649f05\",\"type\":\"UnionRenderers\"}},\"id\":\"3b2d42d0-0887-4f37-b894-223105092168\",\"type\":\"ColumnDataSource\"},{\"attributes\":{},\"id\":\"e512f020-3eda-48a7-beff-c698c694b9e2\",\"type\":\"UnionRenderers\"},{\"attributes\":{\"line_alpha\":0.1,\"line_color\":\"#1f77b4\",\"x\":{\"field\":\"x\"},\"y\":{\"field\":\"y\"}},\"id\":\"b77d1b35-4bf7-45e6-a5ea-1be54dbe95db\",\"type\":\"Line\"},{\"attributes\":{},\"id\":\"70c9933b-0e33-4efe-aaf1-6f76de6732ca\",\"type\":\"Selection\"},{\"attributes\":{\"data_source\":{\"id\":\"3b2d42d0-0887-4f37-b894-223105092168\",\"type\":\"ColumnDataSource\"},\"glyph\":{\"id\":\"1d2b0a1e-ae17-4b2e-a8ed-3f8d51f75f8f\",\"type\":\"Line\"},\"hover_glyph\":null,\"muted_glyph\":null,\"nonselection_glyph\":{\"id\":\"b77d1b35-4bf7-45e6-a5ea-1be54dbe95db\",\"type\":\"Line\"},\"selection_glyph\":null,\"view\":{\"id\":\"120b7e06-9781-4795-9fa4-faac4e6545ec\",\"type\":\"CDSView\"}},\"id\":\"ae98b5da-ba0d-47ea-9bd9-985601de631f\",\"type\":\"GlyphRenderer\"},{\"attributes\":{},\"id\":\"2705fb72-3525-4857-ac1b-047cf60c0602\",\"type\":\"UnionRenderers\"},{\"attributes\":{\"source\":{\"id\":\"3b2d42d0-0887-4f37-b894-223105092168\",\"type\":\"ColumnDataSource\"}},\"id\":\"120b7e06-9781-4795-9fa4-faac4e6545ec\",\"type\":\"CDSView\"},{\"attributes\":{},\"id\":\"42ae674a-e3a7-4464-a688-d2b4c9f84615\",\"type\":\"Selection\"},{\"attributes\":{\"x\":{\"field\":\"x\"},\"y\":{\"field\":\"y\"}},\"id\":\"ef02e6be-82ea-4b53-8fd0-102392f98a30\",\"type\":\"Line\"},{\"attributes\":{},\"id\":\"ccef938d-bce7-42d6-8bb1-57b98217e318\",\"type\":\"Selection\"},{\"attributes\":{\"callback\":null,\"data\":{\"x\":[2.5,2.5],\"y\":[9.81,11.31]},\"selected\":{\"id\":\"94c67e06-c1a4-4176-9b45-a1cb500d8d78\",\"type\":\"Selection\"},\"selection_policy\":{\"id\":\"ba7686ff-7042-4898-a01f-0bf2664610bc\",\"type\":\"UnionRenderers\"}},\"id\":\"bb6bffd0-167a-4b24-b597-bc35384ff38f\",\"type\":\"ColumnDataSource\"},{\"attributes\":{},\"id\":\"0d2dd6e5-2b75-4b7c-ab83-a40cf20d9d99\",\"type\":\"UnionRenderers\"},{\"attributes\":{\"line_alpha\":0.1,\"line_color\":\"#1f77b4\",\"x\":{\"field\":\"x\"},\"y\":{\"field\":\"y\"}},\"id\":\"cf295ae3-cd67-43cd-a70a-80dd2bb4ac71\",\"type\":\"Line\"},{\"attributes\":{},\"id\":\"5fde087b-e822-4b5a-8994-814aaadb4436\",\"type\":\"Selection\"},{\"attributes\":{\"data_source\":{\"id\":\"bb6bffd0-167a-4b24-b597-bc35384ff38f\",\"type\":\"ColumnDataSource\"},\"glyph\":{\"id\":\"ef02e6be-82ea-4b53-8fd0-102392f98a30\",\"type\":\"Line\"},\"hover_glyph\":null,\"muted_glyph\":null,\"nonselection_glyph\":{\"id\":\"cf295ae3-cd67-43cd-a70a-80dd2bb4ac71\",\"type\":\"Line\"},\"selection_glyph\":null,\"view\":{\"id\":\"3f41c2fc-e72b-4263-b22a-719519e29efa\",\"type\":\"CDSView\"}},\"id\":\"7bf1fe0b-67d1-4ccf-b47e-f5016eacd2fc\",\"type\":\"GlyphRenderer\"},{\"attributes\":{},\"id\":\"e896c453-3ef2-4bb8-8159-cf7065e0b1cb\",\"type\":\"UnionRenderers\"},{\"attributes\":{\"source\":{\"id\":\"bb6bffd0-167a-4b24-b597-bc35384ff38f\",\"type\":\"ColumnDataSource\"}},\"id\":\"3f41c2fc-e72b-4263-b22a-719519e29efa\",\"type\":\"CDSView\"},{\"attributes\":{},\"id\":\"781e5463-4852-4daf-b2fd-1b6e487b6239\",\"type\":\"UnionRenderers\"},{\"attributes\":{\"x\":{\"field\":\"x\"},\"y\":{\"value\":7.3100000000000005}},\"id\":\"2492dde1-49d6-4e91-a99e-ce384726b6d2\",\"type\":\"Line\"},{\"attributes\":{},\"id\":\"bfd53bb2-9516-4853-b412-cb3aab13e8bd\",\"type\":\"Selection\"},{\"attributes\":{\"callback\":null,\"data\":{\"x\":[2.4,2.6]},\"selected\":{\"id\":\"86f40f23-84f2-4a32-bffb-c52a59d7069b\",\"type\":\"Selection\"},\"selection_policy\":{\"id\":\"3edc6be4-0525-4dd9-87e5-55724698f65e\",\"type\":\"UnionRenderers\"}},\"id\":\"ece11376-fde5-46e1-be98-4a91438786d9\",\"type\":\"ColumnDataSource\"},{\"attributes\":{},\"id\":\"bfd416ba-dbfd-40e7-8f9e-fcc997aba70c\",\"type\":\"UnionRenderers\"},{\"attributes\":{\"bottom\":{\"value\":8.9},\"fill_alpha\":{\"value\":0},\"fill_color\":{\"value\":\"#7f7f7f\"},\"left\":{\"value\":7.25},\"right\":{\"value\":7.75},\"top\":{\"value\":9.385}},\"id\":\"208412d6-35fb-4abd-89e7-ccad4e02e2f4\",\"type\":\"Quad\"},{\"attributes\":{\"bottom\":{\"value\":8.9},\"fill_alpha\":{\"value\":0.1},\"fill_color\":{\"value\":\"#1f77b4\"},\"left\":{\"value\":7.25},\"line_alpha\":{\"value\":0.1},\"line_color\":{\"value\":\"#1f77b4\"},\"right\":{\"value\":7.75},\"top\":{\"value\":9.385}},\"id\":\"87d025d9-532a-4704-b47a-1642b360e26b\",\"type\":\"Quad\"},{\"attributes\":{\"callback\":null,\"data\":{},\"selected\":{\"id\":\"f2df3d3b-f4bd-484b-9fb0-34c784c379c0\",\"type\":\"Selection\"},\"selection_policy\":{\"id\":\"2705fb72-3525-4857-ac1b-047cf60c0602\",\"type\":\"UnionRenderers\"}},\"id\":\"3ebfaefe-b580-4598-9b04-b4228a3fd506\",\"type\":\"ColumnDataSource\"},{\"attributes\":{\"data_source\":{\"id\":\"3ebfaefe-b580-4598-9b04-b4228a3fd506\",\"type\":\"ColumnDataSource\"},\"glyph\":{\"id\":\"208412d6-35fb-4abd-89e7-ccad4e02e2f4\",\"type\":\"Quad\"},\"hover_glyph\":null,\"muted_glyph\":null,\"nonselection_glyph\":{\"id\":\"87d025d9-532a-4704-b47a-1642b360e26b\",\"type\":\"Quad\"},\"selection_glyph\":null,\"view\":{\"id\":\"d3d95fe1-d27d-4a9e-a6e6-735acb9d3282\",\"type\":\"CDSView\"}},\"id\":\"06a4f167-2cf8-463f-a5f5-c1112b611775\",\"type\":\"GlyphRenderer\"},{\"attributes\":{\"source\":{\"id\":\"3ebfaefe-b580-4598-9b04-b4228a3fd506\",\"type\":\"ColumnDataSource\"}},\"id\":\"d3d95fe1-d27d-4a9e-a6e6-735acb9d3282\",\"type\":\"CDSView\"},{\"attributes\":{\"x\":{\"field\":\"x\"},\"y\":{\"field\":\"y\"}},\"id\":\"24bf7efb-073a-46ed-9615-9e25829dda53\",\"type\":\"Line\"},{\"attributes\":{\"callback\":null,\"data\":{\"x\":[7.25,7.75],\"y\":[9.13,9.13]},\"selected\":{\"id\":\"5fde087b-e822-4b5a-8994-814aaadb4436\",\"type\":\"Selection\"},\"selection_policy\":{\"id\":\"0d2dd6e5-2b75-4b7c-ab83-a40cf20d9d99\",\"type\":\"UnionRenderers\"}},\"id\":\"9d3db619-c92b-4810-809d-2b0168a83560\",\"type\":\"ColumnDataSource\"},{\"attributes\":{\"callback\":null,\"data\":{\"x\":[1.4,1.6]},\"selected\":{\"id\":\"762f5770-604b-4b6c-83bb-0a3fe94760c2\",\"type\":\"Selection\"},\"selection_policy\":{\"id\":\"b7ca35bc-0643-4eb4-a3e5-7a46104d9e52\",\"type\":\"UnionRenderers\"}},\"id\":\"ef57c98a-c220-4ea0-be6e-97b1efb928cf\",\"type\":\"ColumnDataSource\"},{\"attributes\":{\"line_alpha\":0.1,\"line_color\":\"#1f77b4\",\"x\":{\"field\":\"x\"},\"y\":{\"field\":\"y\"}},\"id\":\"cf8e002a-c245-4b36-93de-44688391f01d\",\"type\":\"Line\"},{\"attributes\":{\"data_source\":{\"id\":\"9d3db619-c92b-4810-809d-2b0168a83560\",\"type\":\"ColumnDataSource\"},\"glyph\":{\"id\":\"24bf7efb-073a-46ed-9615-9e25829dda53\",\"type\":\"Line\"},\"hover_glyph\":null,\"muted_glyph\":null,\"nonselection_glyph\":{\"id\":\"cf8e002a-c245-4b36-93de-44688391f01d\",\"type\":\"Line\"},\"selection_glyph\":null,\"view\":{\"id\":\"0c608b0a-d24a-4a90-9863-7ddd556b1949\",\"type\":\"CDSView\"}},\"id\":\"8709b652-ceb6-4cf5-86b8-044bd1fa7f5c\",\"type\":\"GlyphRenderer\"},{\"attributes\":{\"source\":{\"id\":\"9d3db619-c92b-4810-809d-2b0168a83560\",\"type\":\"ColumnDataSource\"}},\"id\":\"0c608b0a-d24a-4a90-9863-7ddd556b1949\",\"type\":\"CDSView\"},{\"attributes\":{\"x\":{\"field\":\"x\"},\"y\":{\"field\":\"y\"}},\"id\":\"29b089fe-ae6e-4625-9371-56400692ede0\",\"type\":\"Line\"},{\"attributes\":{\"callback\":null,\"data\":{\"x\":[7.5,7.5],\"y\":[8.9,8.172500000000001]},\"selected\":{\"id\":\"ccef938d-bce7-42d6-8bb1-57b98217e318\",\"type\":\"Selection\"},\"selection_policy\":{\"id\":\"e896c453-3ef2-4bb8-8159-cf7065e0b1cb\",\"type\":\"UnionRenderers\"}},\"id\":\"f8e894eb-71fb-4056-974c-3d59f0a7fa1b\",\"type\":\"ColumnDataSource\"},{\"attributes\":{\"line_alpha\":0.1,\"line_color\":\"#1f77b4\",\"x\":{\"field\":\"x\"},\"y\":{\"field\":\"y\"}},\"id\":\"71a36607-cd95-4f17-a146-d3494208bc8c\",\"type\":\"Line\"},{\"attributes\":{\"data_source\":{\"id\":\"f8e894eb-71fb-4056-974c-3d59f0a7fa1b\",\"type\":\"ColumnDataSource\"},\"glyph\":{\"id\":\"29b089fe-ae6e-4625-9371-56400692ede0\",\"type\":\"Line\"},\"hover_glyph\":null,\"muted_glyph\":null,\"nonselection_glyph\":{\"id\":\"71a36607-cd95-4f17-a146-d3494208bc8c\",\"type\":\"Line\"},\"selection_glyph\":null,\"view\":{\"id\":\"b7508755-5381-4bce-a7c6-c261e0353269\",\"type\":\"CDSView\"}},\"id\":\"4a60b8c5-b5b2-4427-a194-2ac2837c80ca\",\"type\":\"GlyphRenderer\"},{\"attributes\":{\"source\":{\"id\":\"f8e894eb-71fb-4056-974c-3d59f0a7fa1b\",\"type\":\"ColumnDataSource\"}},\"id\":\"b7508755-5381-4bce-a7c6-c261e0353269\",\"type\":\"CDSView\"},{\"attributes\":{\"x\":{\"field\":\"x\"},\"y\":{\"field\":\"y\"}},\"id\":\"8fe746a6-1f02-4f43-9fd0-7b8ffac65729\",\"type\":\"Line\"},{\"attributes\":{\"callback\":null,\"data\":{\"x\":[7.5,7.5],\"y\":[9.385,10.112499999999999]},\"selected\":{\"id\":\"bfd53bb2-9516-4853-b412-cb3aab13e8bd\",\"type\":\"Selection\"},\"selection_policy\":{\"id\":\"781e5463-4852-4daf-b2fd-1b6e487b6239\",\"type\":\"UnionRenderers\"}},\"id\":\"0881d76f-b4a0-4119-b4f9-c411514f9f65\",\"type\":\"ColumnDataSource\"},{\"attributes\":{\"line_alpha\":0.1,\"line_color\":\"#1f77b4\",\"x\":{\"field\":\"x\"},\"y\":{\"field\":\"y\"}},\"id\":\"32cae1e5-b7e8-46c2-a7ac-cd5fa7fa9851\",\"type\":\"Line\"},{\"attributes\":{\"data_source\":{\"id\":\"0881d76f-b4a0-4119-b4f9-c411514f9f65\",\"type\":\"ColumnDataSource\"},\"glyph\":{\"id\":\"8fe746a6-1f02-4f43-9fd0-7b8ffac65729\",\"type\":\"Line\"},\"hover_glyph\":null,\"muted_glyph\":null,\"nonselection_glyph\":{\"id\":\"32cae1e5-b7e8-46c2-a7ac-cd5fa7fa9851\",\"type\":\"Line\"},\"selection_glyph\":null,\"view\":{\"id\":\"74afe573-f811-4ede-9584-6665f8dc412b\",\"type\":\"CDSView\"}},\"id\":\"cf4bf86f-c3bb-4639-8c07-53877d1f12a6\",\"type\":\"GlyphRenderer\"},{\"attributes\":{},\"id\":\"ca49592b-211d-4758-b1ab-b7f0c3180fba\",\"type\":\"Selection\"},{\"attributes\":{\"source\":{\"id\":\"0881d76f-b4a0-4119-b4f9-c411514f9f65\",\"type\":\"ColumnDataSource\"}},\"id\":\"74afe573-f811-4ede-9584-6665f8dc412b\",\"type\":\"CDSView\"},{\"attributes\":{\"x\":{\"field\":\"x\"},\"y\":{\"value\":8.172500000000001}},\"id\":\"2b4620f0-9da9-488a-bfb2-85f5e8935b63\",\"type\":\"Line\"},{\"attributes\":{\"callback\":null,\"data\":{\"x\":[7.4,7.6]},\"selected\":{\"id\":\"42ae674a-e3a7-4464-a688-d2b4c9f84615\",\"type\":\"Selection\"},\"selection_policy\":{\"id\":\"bfd416ba-dbfd-40e7-8f9e-fcc997aba70c\",\"type\":\"UnionRenderers\"}},\"id\":\"e31b02c3-c8b1-4cc3-ac32-78d8a1b055fc\",\"type\":\"ColumnDataSource\"},{\"attributes\":{},\"id\":\"585d7b5a-ce82-4edc-8fa3-8ac0950cfecb\",\"type\":\"UnionRenderers\"},{\"attributes\":{\"line_alpha\":0.1,\"line_color\":\"#1f77b4\",\"x\":{\"field\":\"x\"},\"y\":{\"value\":8.172500000000001}},\"id\":\"3ab8ebfe-bf6c-4f79-9455-daa04e5958ab\",\"type\":\"Line\"},{\"attributes\":{\"x\":{\"field\":\"x\"},\"y\":{\"value\":10.112499999999999}},\"id\":\"b157e252-f8b6-42f6-9920-643c74bf9be2\",\"type\":\"Line\"},{\"attributes\":{\"data_source\":{\"id\":\"e31b02c3-c8b1-4cc3-ac32-78d8a1b055fc\",\"type\":\"ColumnDataSource\"},\"glyph\":{\"id\":\"2b4620f0-9da9-488a-bfb2-85f5e8935b63\",\"type\":\"Line\"},\"hover_glyph\":null,\"muted_glyph\":null,\"nonselection_glyph\":{\"id\":\"3ab8ebfe-bf6c-4f79-9455-daa04e5958ab\",\"type\":\"Line\"},\"selection_glyph\":null,\"view\":{\"id\":\"62a672f4-e50f-46ac-bc82-d7982dcfab1f\",\"type\":\"CDSView\"}},\"id\":\"73f5981f-9f40-41a7-8c82-15058ab48264\",\"type\":\"GlyphRenderer\"},{\"attributes\":{\"line_alpha\":0.1,\"line_color\":\"#1f77b4\",\"x\":{\"field\":\"x\"},\"y\":{\"value\":10.112499999999999}},\"id\":\"103b0223-dc64-49cf-a23f-30e3da23c107\",\"type\":\"Line\"},{\"attributes\":{\"below\":[{\"id\":\"2b9abd7c-8477-4857-b3f4-2f2a3efcda3a\",\"type\":\"LinearAxis\"}],\"left\":[{\"id\":\"e68320d7-ae4b-4bbb-a43a-4b03a6d16916\",\"type\":\"LinearAxis\"}],\"plot_height\":300,\"plot_width\":400,\"renderers\":[{\"id\":\"2b9abd7c-8477-4857-b3f4-2f2a3efcda3a\",\"type\":\"LinearAxis\"},{\"id\":\"7c957fc2-7979-43c5-a595-d9c1fd21dd19\",\"type\":\"Grid\"},{\"id\":\"e68320d7-ae4b-4bbb-a43a-4b03a6d16916\",\"type\":\"LinearAxis\"},{\"id\":\"2f7d4288-c62b-49ba-9ab0-9527604523df\",\"type\":\"Grid\"},{\"id\":\"28fc613c-00db-43a0-8e85-864243e1e89b\",\"type\":\"BoxAnnotation\"},{\"id\":\"4ea2f25d-bde8-4f6e-9408-a9b04197666f\",\"type\":\"GlyphRenderer\"},{\"id\":\"c48cc375-417c-4d9f-92ab-832eb5659c94\",\"type\":\"GlyphRenderer\"},{\"id\":\"28e2628c-e44b-4797-9d8c-98f014427749\",\"type\":\"GlyphRenderer\"},{\"id\":\"90ebbbfa-a519-4987-b970-c3dd9d2ce10d\",\"type\":\"GlyphRenderer\"},{\"id\":\"f8dec637-6ce2-4167-85ea-aae071c3641a\",\"type\":\"GlyphRenderer\"},{\"id\":\"091220e8-dfbc-4c2f-9e16-0c726c590c09\",\"type\":\"GlyphRenderer\"},{\"id\":\"c2c6f477-8167-4800-83f8-95bf522dac3b\",\"type\":\"GlyphRenderer\"},{\"id\":\"35779e1b-d393-43d2-8bf4-0ce3a4c611a6\",\"type\":\"GlyphRenderer\"},{\"id\":\"9984e7e7-d370-4675-ba82-f2d8e946f55a\",\"type\":\"GlyphRenderer\"},{\"id\":\"3a98681d-63ed-4322-8f29-22fc329a95f8\",\"type\":\"GlyphRenderer\"},{\"id\":\"c1575704-966b-4be2-885b-7e591d21eada\",\"type\":\"GlyphRenderer\"},{\"id\":\"3fb7212a-d926-450d-8ee2-56fb02481f8c\",\"type\":\"GlyphRenderer\"},{\"id\":\"79817440-8829-4e95-9863-c6d56f606853\",\"type\":\"GlyphRenderer\"},{\"id\":\"eb62c77c-6a64-43ec-a1c7-aa14666ca058\",\"type\":\"GlyphRenderer\"},{\"id\":\"a88ac6e4-3893-47ef-a502-16d5a2691059\",\"type\":\"GlyphRenderer\"},{\"id\":\"f59c8030-4b0a-4d35-832b-894a76367e36\",\"type\":\"GlyphRenderer\"},{\"id\":\"ae98b5da-ba0d-47ea-9bd9-985601de631f\",\"type\":\"GlyphRenderer\"},{\"id\":\"7bf1fe0b-67d1-4ccf-b47e-f5016eacd2fc\",\"type\":\"GlyphRenderer\"},{\"id\":\"7da2a08e-ff25-4eec-93f0-ddb1cd9038fa\",\"type\":\"GlyphRenderer\"},{\"id\":\"2734ebbf-e806-4dcb-af56-4c8c5a35dd0a\",\"type\":\"GlyphRenderer\"},{\"id\":\"3179f7da-7644-431d-b9e7-a3c3377f27e1\",\"type\":\"GlyphRenderer\"},{\"id\":\"9668e326-1862-4f0b-8303-6277dba50301\",\"type\":\"GlyphRenderer\"},{\"id\":\"02ed4ede-b9e3-41ec-908d-c024aff36f82\",\"type\":\"GlyphRenderer\"},{\"id\":\"51d3d3fc-419f-4a29-8543-f6d9e639b3b3\",\"type\":\"GlyphRenderer\"},{\"id\":\"54638aee-f083-41d6-b530-968cc46cee24\",\"type\":\"GlyphRenderer\"},{\"id\":\"537255db-f239-4cc0-b89f-c7334bf50cd0\",\"type\":\"GlyphRenderer\"},{\"id\":\"2c24e3e2-e79b-40de-9e23-d936e6314e97\",\"type\":\"GlyphRenderer\"},{\"id\":\"01cd84c9-4e02-4eda-a8a2-b6ca0232638f\",\"type\":\"GlyphRenderer\"},{\"id\":\"2e4459c9-6194-4685-a546-0217f67edb28\",\"type\":\"GlyphRenderer\"},{\"id\":\"0e37a1f9-d026-4df4-8f11-33311a2a4eaa\",\"type\":\"GlyphRenderer\"},{\"id\":\"87f2a685-8b16-4ce5-b2cf-f2380a331e77\",\"type\":\"GlyphRenderer\"},{\"id\":\"ee817fa9-da9a-493c-bfcd-509677de0297\",\"type\":\"GlyphRenderer\"},{\"id\":\"6e1926bb-3c97-4fa1-839d-849a23d2597d\",\"type\":\"GlyphRenderer\"},{\"id\":\"27a1a3dd-2dd5-46ab-9db6-dc7a26df496d\",\"type\":\"GlyphRenderer\"},{\"id\":\"bf7faed2-170e-48c3-952f-2f081f841e09\",\"type\":\"GlyphRenderer\"},{\"id\":\"0983c2fe-0640-40dd-a56d-532e610d5433\",\"type\":\"GlyphRenderer\"},{\"id\":\"276a3f61-b4b4-4c4a-b57b-76fb40b66200\",\"type\":\"GlyphRenderer\"},{\"id\":\"728883c4-06ee-47f0-8e67-fb6d9f720ee7\",\"type\":\"GlyphRenderer\"},{\"id\":\"e35d9a85-c047-4cbf-aa52-f0eb95754a64\",\"type\":\"GlyphRenderer\"},{\"id\":\"3d9c7f9e-d156-4c30-b9b2-0868f4dbe58f\",\"type\":\"GlyphRenderer\"},{\"id\":\"68c0fb6d-f20a-482a-b298-48d3f94f8d20\",\"type\":\"GlyphRenderer\"},{\"id\":\"09827743-1f57-4aaf-b465-4d28685844bb\",\"type\":\"GlyphRenderer\"},{\"id\":\"50abeb5b-eeea-4cd3-9bc8-389a3ade5430\",\"type\":\"GlyphRenderer\"},{\"id\":\"ab0f422a-2a3f-467f-9f98-791472f9b252\",\"type\":\"GlyphRenderer\"},{\"id\":\"aed90c3c-af27-421a-b067-bc71701e24e1\",\"type\":\"GlyphRenderer\"},{\"id\":\"b804c24e-ac8a-4924-8271-4c93988cb004\",\"type\":\"GlyphRenderer\"},{\"id\":\"c3314dce-bff6-453f-8943-8530e79f3f8d\",\"type\":\"GlyphRenderer\"},{\"id\":\"f0d4d73e-632c-4855-9d77-ac5aedb65dd4\",\"type\":\"GlyphRenderer\"},{\"id\":\"b88c3baa-5279-445a-8324-0b04c38039b6\",\"type\":\"GlyphRenderer\"},{\"id\":\"06a4f167-2cf8-463f-a5f5-c1112b611775\",\"type\":\"GlyphRenderer\"},{\"id\":\"8709b652-ceb6-4cf5-86b8-044bd1fa7f5c\",\"type\":\"GlyphRenderer\"},{\"id\":\"4a60b8c5-b5b2-4427-a194-2ac2837c80ca\",\"type\":\"GlyphRenderer\"},{\"id\":\"cf4bf86f-c3bb-4639-8c07-53877d1f12a6\",\"type\":\"GlyphRenderer\"},{\"id\":\"73f5981f-9f40-41a7-8c82-15058ab48264\",\"type\":\"GlyphRenderer\"},{\"id\":\"0242878d-f821-41a3-a249-1043cdd24b32\",\"type\":\"GlyphRenderer\"},{\"id\":\"91866d1f-d302-44d7-b294-d72f741f9f38\",\"type\":\"GlyphRenderer\"},{\"id\":\"7fd1bc82-6f54-40d2-8f34-cd971199350e\",\"type\":\"GlyphRenderer\"},{\"id\":\"e9cf61f3-9ff8-4bfd-8ca4-d1c32446a222\",\"type\":\"GlyphRenderer\"},{\"id\":\"c8f1df8b-e920-4d7e-96fd-e3cfc8d6c7f6\",\"type\":\"GlyphRenderer\"},{\"id\":\"833b3ad8-74a8-47d9-938d-9ae6998a5045\",\"type\":\"GlyphRenderer\"},{\"id\":\"52c7c5ec-55f7-4822-9247-0474505fbdce\",\"type\":\"GlyphRenderer\"},{\"id\":\"e2e3be4c-1d46-487d-9286-ffea1159fcf2\",\"type\":\"GlyphRenderer\"},{\"id\":\"b95a8ab5-aee3-4f00-8c2d-b832abd0437d\",\"type\":\"GlyphRenderer\"},{\"id\":\"2013659c-1c6e-437a-b8e0-5e0bff58b8ee\",\"type\":\"GlyphRenderer\"},{\"id\":\"84d43126-8497-41bb-8ab0-b74128fa1dcd\",\"type\":\"GlyphRenderer\"},{\"id\":\"c9f34c7a-bd83-470c-a3b8-9b0199bfd679\",\"type\":\"GlyphRenderer\"},{\"id\":\"218fbc56-eb15-4e85-91e5-58cb7c95c7c0\",\"type\":\"GlyphRenderer\"},{\"id\":\"2982705e-76ab-46ed-8c7e-bf0f1006f474\",\"type\":\"GlyphRenderer\"},{\"id\":\"22ca9df0-284a-49bf-bef5-c2ae189346d8\",\"type\":\"GlyphRenderer\"},{\"id\":\"d9b03a64-ea7f-4d8c-a2aa-1951cf7e1ecf\",\"type\":\"GlyphRenderer\"},{\"id\":\"68f11da7-f06d-4f86-a4f7-a998bca458fc\",\"type\":\"GlyphRenderer\"},{\"id\":\"e27d5599-87b5-48a5-9add-c64d0cf6e6a0\",\"type\":\"GlyphRenderer\"},{\"id\":\"6d3f1550-cfed-404e-9d61-60b61f4ca01f\",\"type\":\"GlyphRenderer\"},{\"id\":\"1e072730-743b-4c87-9647-e0563c225b5b\",\"type\":\"GlyphRenderer\"},{\"id\":\"a1a82f06-d428-4051-9965-6552649eaa01\",\"type\":\"GlyphRenderer\"},{\"id\":\"0d93831f-659b-4a8b-9679-4a2d9d0b7e86\",\"type\":\"GlyphRenderer\"},{\"id\":\"90121e20-922f-495c-bfdd-370ebbdef5a5\",\"type\":\"GlyphRenderer\"},{\"id\":\"6fe7304c-ef8a-4ba7-8212-8f01f0d5b40f\",\"type\":\"GlyphRenderer\"},{\"id\":\"fccd540b-c2e6-41e9-aba1-ab435c7ada70\",\"type\":\"GlyphRenderer\"},{\"id\":\"d1444ae1-847b-4ad3-8273-2ffc029645be\",\"type\":\"GlyphRenderer\"}],\"title\":null,\"toolbar\":{\"id\":\"02664eb3-c22c-4286-92b6-a56408031a53\",\"type\":\"Toolbar\"},\"x_range\":{\"id\":\"5f5129d3-9677-4e7f-8b42-cfff7a63d531\",\"type\":\"DataRange1d\"},\"x_scale\":{\"id\":\"d0ad9bc0-806c-4bbf-8012-52941e1819db\",\"type\":\"LinearScale\"},\"y_range\":{\"id\":\"e9c98efa-169c-403b-95d1-2373da62bd73\",\"type\":\"DataRange1d\"},\"y_scale\":{\"id\":\"39da734a-a11e-49c1-9a80-f8708f8a5646\",\"type\":\"LinearScale\"}},\"id\":\"9712a868-974c-49e4-8921-75e97750935c\",\"subtype\":\"Figure\",\"type\":\"Plot\"},{\"attributes\":{\"fill_color\":{\"value\":\"black\"},\"x\":{\"field\":\"x\"},\"y\":{\"field\":\"y\"}},\"id\":\"f05e57c4-43e8-4488-93a5-ef79ce26ff5b\",\"type\":\"Circle\"},{\"attributes\":{\"data_source\":{\"id\":\"cf1bfc73-f23b-4f7a-9ae6-d01a16fa40a6\",\"type\":\"ColumnDataSource\"},\"glyph\":{\"id\":\"b157e252-f8b6-42f6-9920-643c74bf9be2\",\"type\":\"Line\"},\"hover_glyph\":null,\"muted_glyph\":null,\"nonselection_glyph\":{\"id\":\"103b0223-dc64-49cf-a23f-30e3da23c107\",\"type\":\"Line\"},\"selection_glyph\":null,\"view\":{\"id\":\"703da36b-1ad4-4194-beb9-316693da77f1\",\"type\":\"CDSView\"}},\"id\":\"0242878d-f821-41a3-a249-1043cdd24b32\",\"type\":\"GlyphRenderer\"},{\"attributes\":{\"source\":{\"id\":\"e31b02c3-c8b1-4cc3-ac32-78d8a1b055fc\",\"type\":\"ColumnDataSource\"}},\"id\":\"62a672f4-e50f-46ac-bc82-d7982dcfab1f\",\"type\":\"CDSView\"},{\"attributes\":{\"callback\":null,\"data\":{\"x\":[7.4,7.6]},\"selected\":{\"id\":\"a83f218e-2169-40a6-8b88-d2d174b309f6\",\"type\":\"Selection\"},\"selection_policy\":{\"id\":\"00c31ac8-8910-4b6b-a881-eb4a6c64a096\",\"type\":\"UnionRenderers\"}},\"id\":\"cf1bfc73-f23b-4f7a-9ae6-d01a16fa40a6\",\"type\":\"ColumnDataSource\"},{\"attributes\":{\"fill_alpha\":{\"value\":0.1},\"fill_color\":{\"value\":\"#1f77b4\"},\"line_alpha\":{\"value\":0.1},\"line_color\":{\"value\":\"#1f77b4\"},\"x\":{\"field\":\"x\"},\"y\":{\"field\":\"y\"}},\"id\":\"7150b2d8-c0fa-49fc-82cc-82cb12a632c0\",\"type\":\"Circle\"},{\"attributes\":{\"data_source\":{\"id\":\"5b34b220-4dd5-477e-b774-4c0aa4465b33\",\"type\":\"ColumnDataSource\"},\"glyph\":{\"id\":\"ac804577-aa7b-4ef6-971e-fc45a6d32c38\",\"type\":\"Line\"},\"hover_glyph\":null,\"muted_glyph\":null,\"nonselection_glyph\":{\"id\":\"aaf59330-2bee-4128-b681-069c3e9beff5\",\"type\":\"Line\"},\"selection_glyph\":null,\"view\":{\"id\":\"7d641970-0a6f-4081-affd-8933493d157b\",\"type\":\"CDSView\"}},\"id\":\"c1575704-966b-4be2-885b-7e591d21eada\",\"type\":\"GlyphRenderer\"},{\"attributes\":{\"data_source\":{\"id\":\"ab0e1b07-f6d6-49e1-8163-68eaf9288485\",\"type\":\"ColumnDataSource\"},\"glyph\":{\"id\":\"f05e57c4-43e8-4488-93a5-ef79ce26ff5b\",\"type\":\"Circle\"},\"hover_glyph\":null,\"muted_glyph\":null,\"nonselection_glyph\":{\"id\":\"7150b2d8-c0fa-49fc-82cc-82cb12a632c0\",\"type\":\"Circle\"},\"selection_glyph\":null,\"view\":{\"id\":\"9a6e8eaf-293e-4c11-a9d5-a0ec95adb691\",\"type\":\"CDSView\"}},\"id\":\"91866d1f-d302-44d7-b294-d72f741f9f38\",\"type\":\"GlyphRenderer\"},{\"attributes\":{\"active_drag\":\"auto\",\"active_inspect\":\"auto\",\"active_scroll\":\"auto\",\"active_tap\":\"auto\",\"tools\":[{\"id\":\"486aa765-2d45-4f26-852f-e55d5080a8a1\",\"type\":\"PanTool\"},{\"id\":\"f74815c1-6210-4c75-b4f8-d04d9f4a1963\",\"type\":\"WheelZoomTool\"},{\"id\":\"9600b9d7-961f-4460-81bb-5ee8c33a09ff\",\"type\":\"BoxZoomTool\"},{\"id\":\"860a0da7-98e0-4724-95c0-96cbdc7a069d\",\"type\":\"SaveTool\"},{\"id\":\"60e68cc2-8cee-4f2d-abae-f9ffce79e53f\",\"type\":\"ResetTool\"},{\"id\":\"9c4ed277-43f3-44f8-9305-a984bd9f0501\",\"type\":\"HelpTool\"}]},\"id\":\"02664eb3-c22c-4286-92b6-a56408031a53\",\"type\":\"Toolbar\"},{\"attributes\":{\"source\":{\"id\":\"ab0e1b07-f6d6-49e1-8163-68eaf9288485\",\"type\":\"ColumnDataSource\"}},\"id\":\"9a6e8eaf-293e-4c11-a9d5-a0ec95adb691\",\"type\":\"CDSView\"},{\"attributes\":{\"source\":{\"id\":\"cf1bfc73-f23b-4f7a-9ae6-d01a16fa40a6\",\"type\":\"ColumnDataSource\"}},\"id\":\"703da36b-1ad4-4194-beb9-316693da77f1\",\"type\":\"CDSView\"},{\"attributes\":{\"callback\":null,\"data\":{\"x\":[7.5,7.5,7.5,7.5,7.5,7.5,7.5,7.5],\"y\":{\"__ndarray__\":\"FK5H4XoUH0DD9Shcj8IfQNejcD0K1x9AAAAAAAAAIECF61G4HgUgQArXo3A9iiRArkfhehSuJEApXI/C9agmQA==\",\"dtype\":\"float64\",\"shape\":[8]}},\"selected\":{\"id\":\"cddf1649-4eaa-4b7e-b205-bf779030a0e3\",\"type\":\"Selection\"},\"selection_policy\":{\"id\":\"0ece1216-a1cf-4582-8757-038224865a5c\",\"type\":\"UnionRenderers\"}},\"id\":\"ab0e1b07-f6d6-49e1-8163-68eaf9288485\",\"type\":\"ColumnDataSource\"},{\"attributes\":{\"dimension\":1,\"plot\":{\"id\":\"9712a868-974c-49e4-8921-75e97750935c\",\"subtype\":\"Figure\",\"type\":\"Plot\"},\"ticker\":{\"id\":\"b2022ac3-8b1a-4cd8-ac8c-c9fc7c6d6caf\",\"type\":\"BasicTicker\"}},\"id\":\"2f7d4288-c62b-49ba-9ab0-9527604523df\",\"type\":\"Grid\"},{\"attributes\":{},\"id\":\"4bf34933-5a9e-4b8c-ab3a-52a49c274b63\",\"type\":\"Selection\"},{\"attributes\":{},\"id\":\"b2022ac3-8b1a-4cd8-ac8c-c9fc7c6d6caf\",\"type\":\"BasicTicker\"},{\"attributes\":{},\"id\":\"a3201e67-ee4e-4990-8f74-a8888a32f1cd\",\"type\":\"Selection\"},{\"attributes\":{},\"id\":\"f70251eb-02a0-4e38-9bea-ec870269c6c6\",\"type\":\"UnionRenderers\"},{\"attributes\":{\"callback\":null},\"id\":\"5f5129d3-9677-4e7f-8b42-cfff7a63d531\",\"type\":\"DataRange1d\"},{\"attributes\":{},\"id\":\"f74815c1-6210-4c75-b4f8-d04d9f4a1963\",\"type\":\"WheelZoomTool\"},{\"attributes\":{\"callback\":null},\"id\":\"e9c98efa-169c-403b-95d1-2373da62bd73\",\"type\":\"DataRange1d\"},{\"attributes\":{\"line_alpha\":0.1,\"line_color\":\"#1f77b4\",\"x\":{\"field\":\"x\"},\"y\":{\"value\":7.835}},\"id\":\"21b865c3-571b-4dce-8015-3705e6e24ed0\",\"type\":\"Line\"},{\"attributes\":{\"axis_label\":\"beak depth (mm)\",\"formatter\":{\"id\":\"64dd8386-6e27-44da-bc26-65522cfda059\",\"type\":\"BasicTickFormatter\"},\"plot\":{\"id\":\"9712a868-974c-49e4-8921-75e97750935c\",\"subtype\":\"Figure\",\"type\":\"Plot\"},\"ticker\":{\"id\":\"b2022ac3-8b1a-4cd8-ac8c-c9fc7c6d6caf\",\"type\":\"BasicTicker\"}},\"id\":\"e68320d7-ae4b-4bbb-a43a-4b03a6d16916\",\"type\":\"LinearAxis\"},{\"attributes\":{\"bottom\":{\"value\":8.7575},\"fill_alpha\":{\"value\":0},\"fill_color\":{\"value\":\"#bcbd22\"},\"left\":{\"value\":8.25},\"right\":{\"value\":8.75},\"top\":{\"value\":9.3725}},\"id\":\"49ced1fb-d1ce-4ebc-b733-edaa68dfc459\",\"type\":\"Quad\"},{\"attributes\":{\"bottom\":{\"value\":8.7575},\"fill_alpha\":{\"value\":0.1},\"fill_color\":{\"value\":\"#1f77b4\"},\"left\":{\"value\":8.25},\"line_alpha\":{\"value\":0.1},\"line_color\":{\"value\":\"#1f77b4\"},\"right\":{\"value\":8.75},\"top\":{\"value\":9.3725}},\"id\":\"dc9509b8-6589-493c-86f4-8f44fec68059\",\"type\":\"Quad\"},{\"attributes\":{},\"id\":\"46938519-50e9-4553-8cd1-5da74f2ee1fb\",\"type\":\"BasicTicker\"},{\"attributes\":{\"callback\":null,\"data\":{},\"selected\":{\"id\":\"2796d318-ed8a-4b86-b77e-c10eb5525a4f\",\"type\":\"Selection\"},\"selection_policy\":{\"id\":\"45263b99-6446-4ba5-8f18-8340a0d919aa\",\"type\":\"UnionRenderers\"}},\"id\":\"69e20197-7b4e-42f2-bd1b-5fbe3e9bb830\",\"type\":\"ColumnDataSource\"},{\"attributes\":{\"plot\":{\"id\":\"9712a868-974c-49e4-8921-75e97750935c\",\"subtype\":\"Figure\",\"type\":\"Plot\"},\"ticker\":{\"id\":\"46938519-50e9-4553-8cd1-5da74f2ee1fb\",\"type\":\"BasicTicker\"},\"visible\":false},\"id\":\"7c957fc2-7979-43c5-a595-d9c1fd21dd19\",\"type\":\"Grid\"},{\"attributes\":{\"data_source\":{\"id\":\"69e20197-7b4e-42f2-bd1b-5fbe3e9bb830\",\"type\":\"ColumnDataSource\"},\"glyph\":{\"id\":\"49ced1fb-d1ce-4ebc-b733-edaa68dfc459\",\"type\":\"Quad\"},\"hover_glyph\":null,\"muted_glyph\":null,\"nonselection_glyph\":{\"id\":\"dc9509b8-6589-493c-86f4-8f44fec68059\",\"type\":\"Quad\"},\"selection_glyph\":null,\"view\":{\"id\":\"9bea366d-ffd3-4d0c-bca4-af68951d4484\",\"type\":\"CDSView\"}},\"id\":\"7fd1bc82-6f54-40d2-8f34-cd971199350e\",\"type\":\"GlyphRenderer\"},{\"attributes\":{\"source\":{\"id\":\"69e20197-7b4e-42f2-bd1b-5fbe3e9bb830\",\"type\":\"ColumnDataSource\"}},\"id\":\"9bea366d-ffd3-4d0c-bca4-af68951d4484\",\"type\":\"CDSView\"},{\"attributes\":{},\"id\":\"c5427af2-0f52-462c-b2eb-b14819405a0b\",\"type\":\"UnionRenderers\"},{\"attributes\":{},\"id\":\"d0ad9bc0-806c-4bbf-8012-52941e1819db\",\"type\":\"LinearScale\"},{\"attributes\":{\"x\":{\"field\":\"x\"},\"y\":{\"field\":\"y\"}},\"id\":\"7f3d94c1-10bb-40dc-8828-13efde00fd1a\",\"type\":\"Line\"},{\"attributes\":{\"formatter\":{\"id\":\"a26ebd7c-690e-4163-9d47-0d217ab9c97e\",\"type\":\"BasicTickFormatter\"},\"major_label_orientation\":0.7853981633974483,\"major_label_overrides\":{\"0.5\":\"fortis, 1973\",\"1.5\":\"fortis, 1975\",\"2.5\":\"fortis, 1987\",\"3.5\":\"fortis, 1991\",\"4.5\":\"fortis, 2012\",\"5.5\":\"scandens, 1973\",\"6.5\":\"scandens, 1975\",\"7.5\":\"scandens, 1987\",\"8.5\":\"scandens, 1991\",\"9.5\":\"scandens, 2012\"},\"plot\":{\"id\":\"9712a868-974c-49e4-8921-75e97750935c\",\"subtype\":\"Figure\",\"type\":\"Plot\"},\"ticker\":{\"id\":\"0efd26d6-da53-4456-907f-580a10e9f8eb\",\"type\":\"FixedTicker\"}},\"id\":\"2b9abd7c-8477-4857-b3f4-2f2a3efcda3a\",\"type\":\"LinearAxis\"},{\"attributes\":{\"callback\":null,\"data\":{\"x\":[8.25,8.75],\"y\":[9.015,9.015]},\"selected\":{\"id\":\"7dec03b9-81b5-4247-b14c-c25d788e0a91\",\"type\":\"Selection\"},\"selection_policy\":{\"id\":\"1a3c4860-2121-4fc2-9720-6cd2d3922c99\",\"type\":\"UnionRenderers\"}},\"id\":\"4d33bde6-190a-45f4-b223-552937190977\",\"type\":\"ColumnDataSource\"},{\"attributes\":{},\"id\":\"39da734a-a11e-49c1-9a80-f8708f8a5646\",\"type\":\"LinearScale\"},{\"attributes\":{\"line_alpha\":0.1,\"line_color\":\"#1f77b4\",\"x\":{\"field\":\"x\"},\"y\":{\"field\":\"y\"}},\"id\":\"b323312f-54af-40bb-9cde-a6dc59dd5e3f\",\"type\":\"Line\"},{\"attributes\":{\"data_source\":{\"id\":\"4d33bde6-190a-45f4-b223-552937190977\",\"type\":\"ColumnDataSource\"},\"glyph\":{\"id\":\"7f3d94c1-10bb-40dc-8828-13efde00fd1a\",\"type\":\"Line\"},\"hover_glyph\":null,\"muted_glyph\":null,\"nonselection_glyph\":{\"id\":\"b323312f-54af-40bb-9cde-a6dc59dd5e3f\",\"type\":\"Line\"},\"selection_glyph\":null,\"view\":{\"id\":\"9cae499a-f85a-4f00-aa0d-e93da65a137c\",\"type\":\"CDSView\"}},\"id\":\"e9cf61f3-9ff8-4bfd-8ca4-d1c32446a222\",\"type\":\"GlyphRenderer\"},{\"attributes\":{},\"id\":\"5728fb01-1de8-4a8f-ac30-50675b69f464\",\"type\":\"Selection\"},{\"attributes\":{\"source\":{\"id\":\"5b34b220-4dd5-477e-b774-4c0aa4465b33\",\"type\":\"ColumnDataSource\"}},\"id\":\"7d641970-0a6f-4081-affd-8933493d157b\",\"type\":\"CDSView\"},{\"attributes\":{\"source\":{\"id\":\"4d33bde6-190a-45f4-b223-552937190977\",\"type\":\"ColumnDataSource\"}},\"id\":\"9cae499a-f85a-4f00-aa0d-e93da65a137c\",\"type\":\"CDSView\"},{\"attributes\":{\"x\":{\"field\":\"x\"},\"y\":{\"field\":\"y\"}},\"id\":\"36d957d3-a9ee-444c-8d16-25874ff46c27\",\"type\":\"Line\"},{\"attributes\":{},\"id\":\"860a0da7-98e0-4724-95c0-96cbdc7a069d\",\"type\":\"SaveTool\"},{\"attributes\":{\"callback\":null,\"data\":{\"x\":[8.5,8.5],\"y\":[8.7575,7.835]},\"selected\":{\"id\":\"d0224d90-27a7-4058-ac84-272c9939f7ba\",\"type\":\"Selection\"},\"selection_policy\":{\"id\":\"ec9ed4fa-6eb8-4895-afc0-9901a6167d18\",\"type\":\"UnionRenderers\"}},\"id\":\"9ff670eb-f6f4-4fe5-a014-0e424bf25cc4\",\"type\":\"ColumnDataSource\"},{\"attributes\":{},\"id\":\"486aa765-2d45-4f26-852f-e55d5080a8a1\",\"type\":\"PanTool\"},{\"attributes\":{\"bottom_units\":\"screen\",\"fill_alpha\":{\"value\":0.5},\"fill_color\":{\"value\":\"lightgrey\"},\"left_units\":\"screen\",\"level\":\"overlay\",\"line_alpha\":{\"value\":1.0},\"line_color\":{\"value\":\"black\"},\"line_dash\":[4,4],\"line_width\":{\"value\":2},\"plot\":null,\"render_mode\":\"css\",\"right_units\":\"screen\",\"top_units\":\"screen\"},\"id\":\"28fc613c-00db-43a0-8e85-864243e1e89b\",\"type\":\"BoxAnnotation\"},{\"attributes\":{\"line_alpha\":0.1,\"line_color\":\"#1f77b4\",\"x\":{\"field\":\"x\"},\"y\":{\"field\":\"y\"}},\"id\":\"7bd010ce-0bec-4878-8756-026c351d8464\",\"type\":\"Line\"},{\"attributes\":{\"data_source\":{\"id\":\"9ff670eb-f6f4-4fe5-a014-0e424bf25cc4\",\"type\":\"ColumnDataSource\"},\"glyph\":{\"id\":\"36d957d3-a9ee-444c-8d16-25874ff46c27\",\"type\":\"Line\"},\"hover_glyph\":null,\"muted_glyph\":null,\"nonselection_glyph\":{\"id\":\"7bd010ce-0bec-4878-8756-026c351d8464\",\"type\":\"Line\"},\"selection_glyph\":null,\"view\":{\"id\":\"c1e2e171-a64d-40bd-844a-09f1aefca2fb\",\"type\":\"CDSView\"}},\"id\":\"c8f1df8b-e920-4d7e-96fd-e3cfc8d6c7f6\",\"type\":\"GlyphRenderer\"},{\"attributes\":{\"source\":{\"id\":\"9ff670eb-f6f4-4fe5-a014-0e424bf25cc4\",\"type\":\"ColumnDataSource\"}},\"id\":\"c1e2e171-a64d-40bd-844a-09f1aefca2fb\",\"type\":\"CDSView\"},{\"attributes\":{},\"id\":\"fb3ddf17-4aab-43d0-a1c1-96c46f4b34d4\",\"type\":\"UnionRenderers\"},{\"attributes\":{\"x\":{\"field\":\"x\"},\"y\":{\"field\":\"y\"}},\"id\":\"973db8ce-3692-443e-a5bb-d605987b7fab\",\"type\":\"Line\"},{\"attributes\":{\"overlay\":{\"id\":\"28fc613c-00db-43a0-8e85-864243e1e89b\",\"type\":\"BoxAnnotation\"}},\"id\":\"9600b9d7-961f-4460-81bb-5ee8c33a09ff\",\"type\":\"BoxZoomTool\"},{\"attributes\":{\"callback\":null,\"data\":{\"x\":[8.5,8.5],\"y\":[9.3725,10.295000000000002]},\"selected\":{\"id\":\"fd2f23a5-d0ce-4d82-b983-4643ec7fbf39\",\"type\":\"Selection\"},\"selection_policy\":{\"id\":\"91d2a6a9-8cd6-45cf-a2bb-a37343903607\",\"type\":\"UnionRenderers\"}},\"id\":\"5a479ef7-5587-4b84-8049-8ad06175e6ef\",\"type\":\"ColumnDataSource\"},{\"attributes\":{\"line_alpha\":0.1,\"line_color\":\"#1f77b4\",\"x\":{\"field\":\"x\"},\"y\":{\"field\":\"y\"}},\"id\":\"6a0fc31b-638e-4c4f-9030-4015562ff5c8\",\"type\":\"Line\"},{\"attributes\":{\"data_source\":{\"id\":\"5a479ef7-5587-4b84-8049-8ad06175e6ef\",\"type\":\"ColumnDataSource\"},\"glyph\":{\"id\":\"973db8ce-3692-443e-a5bb-d605987b7fab\",\"type\":\"Line\"},\"hover_glyph\":null,\"muted_glyph\":null,\"nonselection_glyph\":{\"id\":\"6a0fc31b-638e-4c4f-9030-4015562ff5c8\",\"type\":\"Line\"},\"selection_glyph\":null,\"view\":{\"id\":\"6d12c212-7a99-42db-8541-1c205ad03f18\",\"type\":\"CDSView\"}},\"id\":\"833b3ad8-74a8-47d9-938d-9ae6998a5045\",\"type\":\"GlyphRenderer\"},{\"attributes\":{},\"id\":\"60e68cc2-8cee-4f2d-abae-f9ffce79e53f\",\"type\":\"ResetTool\"},{\"attributes\":{\"source\":{\"id\":\"5a479ef7-5587-4b84-8049-8ad06175e6ef\",\"type\":\"ColumnDataSource\"}},\"id\":\"6d12c212-7a99-42db-8541-1c205ad03f18\",\"type\":\"CDSView\"},{\"attributes\":{\"x\":{\"field\":\"x\"},\"y\":{\"value\":7.835}},\"id\":\"ffa83544-8610-48c2-9893-22972debc211\",\"type\":\"Line\"},{\"attributes\":{},\"id\":\"9c4ed277-43f3-44f8-9305-a984bd9f0501\",\"type\":\"HelpTool\"},{\"attributes\":{\"callback\":null,\"data\":{\"x\":[8.4,8.6]},\"selected\":{\"id\":\"d7a23743-2f84-44ab-b7c7-ce69179de252\",\"type\":\"Selection\"},\"selection_policy\":{\"id\":\"bab8ffca-3714-4616-9f2f-b59352b4bc56\",\"type\":\"UnionRenderers\"}},\"id\":\"f7c3c48f-1318-415d-ae4e-f4792cb37d9e\",\"type\":\"ColumnDataSource\"},{\"attributes\":{},\"id\":\"ab47f734-84a4-4a75-b476-9061582a233d\",\"type\":\"UnionRenderers\"},{\"attributes\":{},\"id\":\"00c31ac8-8910-4b6b-a881-eb4a6c64a096\",\"type\":\"UnionRenderers\"},{\"attributes\":{},\"id\":\"2796d318-ed8a-4b86-b77e-c10eb5525a4f\",\"type\":\"Selection\"},{\"attributes\":{},\"id\":\"a83f218e-2169-40a6-8b88-d2d174b309f6\",\"type\":\"Selection\"},{\"attributes\":{},\"id\":\"0ece1216-a1cf-4582-8757-038224865a5c\",\"type\":\"UnionRenderers\"},{\"attributes\":{},\"id\":\"cddf1649-4eaa-4b7e-b205-bf779030a0e3\",\"type\":\"Selection\"},{\"attributes\":{},\"id\":\"45263b99-6446-4ba5-8f18-8340a0d919aa\",\"type\":\"UnionRenderers\"},{\"attributes\":{},\"id\":\"819486ad-82f7-4b24-98bc-43ae6648482f\",\"type\":\"Selection\"},{\"attributes\":{},\"id\":\"d0224d90-27a7-4058-ac84-272c9939f7ba\",\"type\":\"Selection\"},{\"attributes\":{},\"id\":\"1a3c4860-2121-4fc2-9720-6cd2d3922c99\",\"type\":\"UnionRenderers\"},{\"attributes\":{},\"id\":\"7dec03b9-81b5-4247-b14c-c25d788e0a91\",\"type\":\"Selection\"},{\"attributes\":{},\"id\":\"ec9ed4fa-6eb8-4895-afc0-9901a6167d18\",\"type\":\"UnionRenderers\"},{\"attributes\":{},\"id\":\"91d2a6a9-8cd6-45cf-a2bb-a37343903607\",\"type\":\"UnionRenderers\"},{\"attributes\":{},\"id\":\"fd2f23a5-d0ce-4d82-b983-4643ec7fbf39\",\"type\":\"Selection\"},{\"attributes\":{},\"id\":\"bab8ffca-3714-4616-9f2f-b59352b4bc56\",\"type\":\"UnionRenderers\"},{\"attributes\":{},\"id\":\"d7a23743-2f84-44ab-b7c7-ce69179de252\",\"type\":\"Selection\"},{\"attributes\":{},\"id\":\"65e26f30-66f1-4414-9a07-1aa83f7eb0fd\",\"type\":\"UnionRenderers\"},{\"attributes\":{},\"id\":\"f8b797b1-50ef-4b00-a99a-3cf474bc92e5\",\"type\":\"Selection\"},{\"attributes\":{},\"id\":\"eec921e8-c1ca-4730-a4a4-3015499affc9\",\"type\":\"UnionRenderers\"},{\"attributes\":{},\"id\":\"a26ebd7c-690e-4163-9d47-0d217ab9c97e\",\"type\":\"BasicTickFormatter\"},{\"attributes\":{},\"id\":\"548184a7-5c76-4d12-ab17-ec40496910ae\",\"type\":\"Selection\"},{\"attributes\":{\"x\":{\"field\":\"x\"},\"y\":{\"value\":7.5}},\"id\":\"fa3ca53e-2ff9-4022-86ba-7a92bbc2189b\",\"type\":\"Line\"},{\"attributes\":{},\"id\":\"936c800b-35f4-4e78-8b13-aeb2c67c7448\",\"type\":\"UnionRenderers\"},{\"attributes\":{\"line_alpha\":0.1,\"line_color\":\"#1f77b4\",\"x\":{\"field\":\"x\"},\"y\":{\"value\":7.5}},\"id\":\"39a71113-784c-4e09-8e2a-41192b6f65aa\",\"type\":\"Line\"},{\"attributes\":{},\"id\":\"25810a55-284d-48d9-9963-795234606e1d\",\"type\":\"Selection\"},{\"attributes\":{},\"id\":\"ef6e3c6a-6bd7-49dd-8bdd-7ab248a2537b\",\"type\":\"UnionRenderers\"},{\"attributes\":{},\"id\":\"6d4a1e68-9580-4cb4-b2e5-6136376aa9d3\",\"type\":\"Selection\"},{\"attributes\":{},\"id\":\"5e191dbd-6aa8-4dc6-b4d7-0fb92d2802be\",\"type\":\"UnionRenderers\"},{\"attributes\":{},\"id\":\"bad535e8-2756-4444-a47a-ffddddb02c06\",\"type\":\"UnionRenderers\"},{\"attributes\":{},\"id\":\"3707b98b-f8a0-4f7a-bd58-46b9723c9440\",\"type\":\"Selection\"},{\"attributes\":{},\"id\":\"269eb4d3-6d32-44e3-b33e-d2a8ae475e1e\",\"type\":\"UnionRenderers\"},{\"attributes\":{},\"id\":\"4da4a96b-5e76-44b0-b473-be6cb9eefdb2\",\"type\":\"Selection\"},{\"attributes\":{},\"id\":\"21a36f93-abe3-4c08-8ce8-79eec54ca4c1\",\"type\":\"UnionRenderers\"},{\"attributes\":{},\"id\":\"d7933e8b-458d-4db1-98cf-9d4c3882dd7e\",\"type\":\"Selection\"},{\"attributes\":{},\"id\":\"50724dc0-92e9-4678-8353-ff37f3006600\",\"type\":\"UnionRenderers\"},{\"attributes\":{},\"id\":\"c9478c99-5f3f-4ce5-895d-5acda0f8824c\",\"type\":\"Selection\"},{\"attributes\":{},\"id\":\"0b0b1835-8825-4857-bfbb-27edede819e8\",\"type\":\"UnionRenderers\"},{\"attributes\":{},\"id\":\"dac22032-0393-477d-959b-e360b372c499\",\"type\":\"Selection\"},{\"attributes\":{},\"id\":\"e37eed53-2a4c-4ada-89a2-c67ef3ef7d10\",\"type\":\"UnionRenderers\"},{\"attributes\":{},\"id\":\"80fe942a-877b-4bdf-b1ab-9f2be333fe3e\",\"type\":\"UnionRenderers\"},{\"attributes\":{},\"id\":\"42d80212-9169-433e-8ba0-e19dcaebc8c9\",\"type\":\"Selection\"},{\"attributes\":{},\"id\":\"bb2daad5-6aca-4e54-ba29-9db0eac80fd4\",\"type\":\"UnionRenderers\"},{\"attributes\":{},\"id\":\"59265a13-56cf-40ec-adad-fd1f49e7b9e8\",\"type\":\"Selection\"},{\"attributes\":{},\"id\":\"13973d73-8bd5-4d8d-a318-15ae7a72dba9\",\"type\":\"UnionRenderers\"},{\"attributes\":{},\"id\":\"a9eeb093-b2a3-4f70-973f-9a16e3ed87f4\",\"type\":\"Selection\"},{\"attributes\":{},\"id\":\"9f325bf0-7556-40e6-9f2f-7b0f821cadcf\",\"type\":\"UnionRenderers\"},{\"attributes\":{},\"id\":\"85c0c0ab-f17d-415f-81d3-5f0c826c4d5a\",\"type\":\"Selection\"},{\"attributes\":{},\"id\":\"69cf156b-e5f0-416f-9c30-dea55aa1b45a\",\"type\":\"UnionRenderers\"},{\"attributes\":{},\"id\":\"ba2cce50-88d9-4c26-95ce-cfe4b5f0b6e7\",\"type\":\"Selection\"},{\"attributes\":{},\"id\":\"d320d451-32ae-434c-8ee0-2217c5d1a15c\",\"type\":\"UnionRenderers\"},{\"attributes\":{},\"id\":\"02a46449-7f7c-4b03-962e-2bc2a2153586\",\"type\":\"Selection\"},{\"attributes\":{},\"id\":\"5e5cbccc-80c1-4cfa-b5c4-e0c0bd49559c\",\"type\":\"UnionRenderers\"},{\"attributes\":{},\"id\":\"1b2c73f1-739a-4188-b7c2-4a373e5c04b0\",\"type\":\"Selection\"},{\"attributes\":{},\"id\":\"991ec3a1-546d-452a-abd1-6bdb750b3206\",\"type\":\"UnionRenderers\"},{\"attributes\":{},\"id\":\"87e7b223-2cc5-4a4d-8d6d-ff033789e7cc\",\"type\":\"Selection\"},{\"attributes\":{},\"id\":\"c5351189-ebee-40a4-a6c3-17c059310622\",\"type\":\"UnionRenderers\"},{\"attributes\":{},\"id\":\"34766f21-6178-4d2f-a46c-02627ede8bc3\",\"type\":\"Selection\"}],\"root_ids\":[\"9712a868-974c-49e4-8921-75e97750935c\"]},\"title\":\"Bokeh Application\",\"version\":\"0.12.16\"}};\n",
       "  var render_items = [{\"docid\":\"ecd92dbb-ef76-4b58-a4a5-fecebe935498\",\"elementid\":\"41b67f59-6eac-4841-8b54-07167a85a4ff\",\"modelid\":\"9712a868-974c-49e4-8921-75e97750935c\"}];\n",
       "  root.Bokeh.embed.embed_items_notebook(docs_json, render_items);\n",
       "\n",
       "  }\n",
       "  if (root.Bokeh !== undefined) {\n",
       "    embed_document(root);\n",
       "  } else {\n",
       "    var attempts = 0;\n",
       "    var timer = setInterval(function(root) {\n",
       "      if (root.Bokeh !== undefined) {\n",
       "        embed_document(root);\n",
       "        clearInterval(timer);\n",
       "      }\n",
       "      attempts++;\n",
       "      if (attempts > 100) {\n",
       "        console.log(\"Bokeh: ERROR: Unable to run BokehJS code because BokehJS library is missing\")\n",
       "        clearInterval(timer);\n",
       "      }\n",
       "    }, 10, root)\n",
       "  }\n",
       "})(window);"
      ],
      "application/vnd.bokehjs_exec.v0+json": ""
     },
     "metadata": {
      "application/vnd.bokehjs_exec.v0+json": {
       "id": "9712a868-974c-49e4-8921-75e97750935c"
      }
     },
     "output_type": "display_data"
    }
   ],
   "source": [
    "p = bootcamp_utils.bokeh_box(df,\n",
    "                             cats=['species', 'year'], \n",
    "                             val='beak depth (mm)',\n",
    "                             fill_alpha=0)\n",
    "\n",
    "p = bootcamp_utils.bokeh_jitter(df, \n",
    "                                cats=['species', 'year'], \n",
    "                                val='beak depth (mm)',\n",
    "                                alpha=0.1,\n",
    "                                p=p)\n",
    "\n",
    "# Rotate tick labels\n",
    "p.xaxis.major_label_orientation = np.pi/4\n",
    "\n",
    "bokeh.io.show(p)"
   ]
  },
  {
   "cell_type": "markdown",
   "metadata": {},
   "source": [
    "#### ECDF\n",
    "\n",
    "The `bootcamp_utils.bokeh_ecdf()` function takes a single array as input and makes an ECDF with it. With the `formal=True` kwarg, it makes a formal, staircase ECDF."
   ]
  },
  {
   "cell_type": "code",
   "execution_count": 10,
   "metadata": {},
   "outputs": [
    {
     "data": {
      "text/html": [
       "\n",
       "<div class=\"bk-root\">\n",
       "    <div class=\"bk-plotdiv\" id=\"e6530088-4517-41cf-a620-751f48816f91\"></div>\n",
       "</div>"
      ]
     },
     "metadata": {},
     "output_type": "display_data"
    },
    {
     "data": {
      "application/javascript": [
       "(function(root) {\n",
       "  function embed_document(root) {\n",
       "    \n",
       "  var docs_json = {\"53305b63-4c59-4fd7-93f7-6723c7fe7e43\":{\"roots\":{\"references\":[{\"attributes\":{\"axis_label\":\"beak depth (mm)\",\"formatter\":{\"id\":\"ff4b3f6c-9115-4963-ac3f-4995c9c432bc\",\"type\":\"BasicTickFormatter\"},\"plot\":{\"id\":\"c707d1a0-8258-48b5-b457-cb047d5437c2\",\"subtype\":\"Figure\",\"type\":\"Plot\"},\"ticker\":{\"id\":\"1b9b7127-045b-4153-9dc0-de301fa2ea67\",\"type\":\"BasicTicker\"}},\"id\":\"a1822db8-f669-49a5-beaa-28755d1961a8\",\"type\":\"LinearAxis\"},{\"attributes\":{\"line_color\":\"#1f77b4\",\"x\":{\"field\":\"x\"},\"y\":{\"field\":\"y\"}},\"id\":\"5ce9144a-8613-4e1b-8696-69c0762feffd\",\"type\":\"Line\"},{\"attributes\":{\"bottom_units\":\"screen\",\"fill_alpha\":{\"value\":0.5},\"fill_color\":{\"value\":\"lightgrey\"},\"left_units\":\"screen\",\"level\":\"overlay\",\"line_alpha\":{\"value\":1.0},\"line_color\":{\"value\":\"black\"},\"line_dash\":[4,4],\"line_width\":{\"value\":2},\"plot\":null,\"render_mode\":\"css\",\"right_units\":\"screen\",\"top_units\":\"screen\"},\"id\":\"4fface31-81d6-41e8-b197-70b3bc7104f2\",\"type\":\"BoxAnnotation\"},{\"attributes\":{},\"id\":\"1b9b7127-045b-4153-9dc0-de301fa2ea67\",\"type\":\"BasicTicker\"},{\"attributes\":{\"angle\":{\"units\":\"rad\",\"value\":3.141592653589793},\"line_alpha\":{\"value\":0.1},\"line_color\":{\"value\":\"#1f77b4\"},\"x\":{\"value\":7.77},\"y\":{\"value\":0}},\"id\":\"dc5e854b-2638-410f-aeb8-9db890a4cd1c\",\"type\":\"Ray\"},{\"attributes\":{\"angle\":{\"units\":\"rad\",\"value\":3.141592653589793},\"line_color\":{\"value\":\"#1f77b4\"},\"x\":{\"value\":7.77},\"y\":{\"value\":0}},\"id\":\"17e71127-bab6-46c9-bf8f-8742b93cfc9f\",\"type\":\"Ray\"},{\"attributes\":{\"angle\":{\"units\":\"rad\",\"value\":0},\"line_color\":{\"value\":\"#1f77b4\"},\"x\":{\"value\":11.33},\"y\":{\"value\":1}},\"id\":\"2cd93d23-5361-4173-83f7-9fcd704e1c9a\",\"type\":\"Ray\"},{\"attributes\":{},\"id\":\"ff4b3f6c-9115-4963-ac3f-4995c9c432bc\",\"type\":\"BasicTickFormatter\"},{\"attributes\":{\"source\":{\"id\":\"33e279c3-5854-4ebf-967e-0f780f5dc473\",\"type\":\"ColumnDataSource\"}},\"id\":\"ce1d984b-95f7-488a-a29c-b8f9513f41ac\",\"type\":\"CDSView\"},{\"attributes\":{\"data_source\":{\"id\":\"33e279c3-5854-4ebf-967e-0f780f5dc473\",\"type\":\"ColumnDataSource\"},\"glyph\":{\"id\":\"17e71127-bab6-46c9-bf8f-8742b93cfc9f\",\"type\":\"Ray\"},\"hover_glyph\":null,\"muted_glyph\":null,\"nonselection_glyph\":{\"id\":\"dc5e854b-2638-410f-aeb8-9db890a4cd1c\",\"type\":\"Ray\"},\"selection_glyph\":null,\"view\":{\"id\":\"ce1d984b-95f7-488a-a29c-b8f9513f41ac\",\"type\":\"CDSView\"}},\"id\":\"3370eaab-ece5-480f-ad83-017437cda18a\",\"type\":\"GlyphRenderer\"},{\"attributes\":{\"angle\":{\"units\":\"rad\",\"value\":0},\"line_alpha\":{\"value\":0.1},\"line_color\":{\"value\":\"#1f77b4\"},\"x\":{\"value\":11.33},\"y\":{\"value\":1}},\"id\":\"d21801e8-b0d3-4852-a509-a787f81955df\",\"type\":\"Ray\"},{\"attributes\":{\"callback\":null,\"data\":{},\"selected\":{\"id\":\"5c275022-bb05-46a4-af27-7f6bd83e80a5\",\"type\":\"Selection\"},\"selection_policy\":{\"id\":\"fdf07544-0b9a-4603-81fb-da3f364771de\",\"type\":\"UnionRenderers\"}},\"id\":\"8ef70f78-a91e-4bac-acae-e0c481894cdc\",\"type\":\"ColumnDataSource\"},{\"attributes\":{\"data_source\":{\"id\":\"8ef70f78-a91e-4bac-acae-e0c481894cdc\",\"type\":\"ColumnDataSource\"},\"glyph\":{\"id\":\"2cd93d23-5361-4173-83f7-9fcd704e1c9a\",\"type\":\"Ray\"},\"hover_glyph\":null,\"muted_glyph\":null,\"nonselection_glyph\":{\"id\":\"d21801e8-b0d3-4852-a509-a787f81955df\",\"type\":\"Ray\"},\"selection_glyph\":null,\"view\":{\"id\":\"8dc7d66a-88cc-487c-8ccf-549b4e36f564\",\"type\":\"CDSView\"}},\"id\":\"43bb153f-eaf2-4bfc-80ed-cfd0c731e6d5\",\"type\":\"GlyphRenderer\"},{\"attributes\":{\"source\":{\"id\":\"8ef70f78-a91e-4bac-acae-e0c481894cdc\",\"type\":\"ColumnDataSource\"}},\"id\":\"8dc7d66a-88cc-487c-8ccf-549b4e36f564\",\"type\":\"CDSView\"},{\"attributes\":{},\"id\":\"7881d243-ddd8-4e0d-b477-b85fe445e2fd\",\"type\":\"Selection\"},{\"attributes\":{},\"id\":\"84b7ad89-3f38-4ae5-ac0d-72d282d17db0\",\"type\":\"BasicTickFormatter\"},{\"attributes\":{\"axis_label\":\"ECDF\",\"formatter\":{\"id\":\"84b7ad89-3f38-4ae5-ac0d-72d282d17db0\",\"type\":\"BasicTickFormatter\"},\"plot\":{\"id\":\"c707d1a0-8258-48b5-b457-cb047d5437c2\",\"subtype\":\"Figure\",\"type\":\"Plot\"},\"ticker\":{\"id\":\"6dfbf2f0-6a7d-4ba7-b8df-b75d5dabb3ed\",\"type\":\"BasicTicker\"}},\"id\":\"61a0a95e-ea66-497b-a8f1-41373e561589\",\"type\":\"LinearAxis\"},{\"attributes\":{},\"id\":\"eee73867-d9b9-4434-a41f-7dc02887766a\",\"type\":\"Selection\"},{\"attributes\":{},\"id\":\"872c8ae4-8a5e-478a-9742-1a79c6f22372\",\"type\":\"UnionRenderers\"},{\"attributes\":{},\"id\":\"fdf07544-0b9a-4603-81fb-da3f364771de\",\"type\":\"UnionRenderers\"},{\"attributes\":{},\"id\":\"1a9c2016-85d4-414c-a0aa-afc0fcc380ab\",\"type\":\"UnionRenderers\"},{\"attributes\":{\"overlay\":{\"id\":\"4fface31-81d6-41e8-b197-70b3bc7104f2\",\"type\":\"BoxAnnotation\"}},\"id\":\"831c7eec-6b1d-4470-9d19-4b260d0ea334\",\"type\":\"BoxZoomTool\"},{\"attributes\":{},\"id\":\"5c275022-bb05-46a4-af27-7f6bd83e80a5\",\"type\":\"Selection\"},{\"attributes\":{\"data_source\":{\"id\":\"d4399963-19fc-4b8b-9f03-fa7dae9fe5cf\",\"type\":\"ColumnDataSource\"},\"glyph\":{\"id\":\"5ce9144a-8613-4e1b-8696-69c0762feffd\",\"type\":\"Line\"},\"hover_glyph\":null,\"muted_glyph\":null,\"nonselection_glyph\":{\"id\":\"1ab89724-da2d-4cb1-a63a-c5dfc3f01b7b\",\"type\":\"Line\"},\"selection_glyph\":null,\"view\":{\"id\":\"5dedce90-4d66-4849-8ca4-a1e3e4bc0367\",\"type\":\"CDSView\"}},\"id\":\"3cd63ca7-4c61-4e0e-a2fd-9c2dcb5e21b5\",\"type\":\"GlyphRenderer\"},{\"attributes\":{\"callback\":null},\"id\":\"130e957d-068b-4c11-8b6e-56b9464f989e\",\"type\":\"DataRange1d\"},{\"attributes\":{},\"id\":\"e9bdb9a9-410f-4d25-b674-3531586d36f5\",\"type\":\"LinearScale\"},{\"attributes\":{\"callback\":null},\"id\":\"8a7b38d7-90d3-43c1-a36b-d5823d8b72f1\",\"type\":\"DataRange1d\"},{\"attributes\":{\"active_drag\":\"auto\",\"active_inspect\":\"auto\",\"active_scroll\":\"auto\",\"active_tap\":\"auto\",\"tools\":[{\"id\":\"a42d8a6d-eeeb-4987-9afb-06bbf761f87a\",\"type\":\"PanTool\"},{\"id\":\"eba5be2e-70b8-4344-8529-a03b294a281e\",\"type\":\"WheelZoomTool\"},{\"id\":\"831c7eec-6b1d-4470-9d19-4b260d0ea334\",\"type\":\"BoxZoomTool\"},{\"id\":\"5b9997fb-37b4-459d-a3eb-11fb06f36bf6\",\"type\":\"SaveTool\"},{\"id\":\"28f0bddd-07a6-48d0-8fd0-aed00b7b0c62\",\"type\":\"ResetTool\"},{\"id\":\"cbe335b6-eb0e-471d-8933-098f34592f86\",\"type\":\"HelpTool\"}]},\"id\":\"acf96dab-c5fa-4429-afa5-34519a953e10\",\"type\":\"Toolbar\"},{\"attributes\":{\"plot\":{\"id\":\"c707d1a0-8258-48b5-b457-cb047d5437c2\",\"subtype\":\"Figure\",\"type\":\"Plot\"},\"ticker\":{\"id\":\"1b9b7127-045b-4153-9dc0-de301fa2ea67\",\"type\":\"BasicTicker\"}},\"id\":\"7078986f-78f5-4fef-b971-db495e07ee91\",\"type\":\"Grid\"},{\"attributes\":{},\"id\":\"6dfbf2f0-6a7d-4ba7-b8df-b75d5dabb3ed\",\"type\":\"BasicTicker\"},{\"attributes\":{},\"id\":\"cbe335b6-eb0e-471d-8933-098f34592f86\",\"type\":\"HelpTool\"},{\"attributes\":{\"dimension\":1,\"plot\":{\"id\":\"c707d1a0-8258-48b5-b457-cb047d5437c2\",\"subtype\":\"Figure\",\"type\":\"Plot\"},\"ticker\":{\"id\":\"6dfbf2f0-6a7d-4ba7-b8df-b75d5dabb3ed\",\"type\":\"BasicTicker\"}},\"id\":\"afe371b8-1a0f-4ef4-b656-a7f25db55b21\",\"type\":\"Grid\"},{\"attributes\":{},\"id\":\"4e491aeb-f12f-47e2-b01a-0017e81a7885\",\"type\":\"LinearScale\"},{\"attributes\":{\"callback\":null,\"data\":{},\"selected\":{\"id\":\"7881d243-ddd8-4e0d-b477-b85fe445e2fd\",\"type\":\"Selection\"},\"selection_policy\":{\"id\":\"1a9c2016-85d4-414c-a0aa-afc0fcc380ab\",\"type\":\"UnionRenderers\"}},\"id\":\"33e279c3-5854-4ebf-967e-0f780f5dc473\",\"type\":\"ColumnDataSource\"},{\"attributes\":{\"line_alpha\":0.1,\"line_color\":\"#1f77b4\",\"x\":{\"field\":\"x\"},\"y\":{\"field\":\"y\"}},\"id\":\"1ab89724-da2d-4cb1-a63a-c5dfc3f01b7b\",\"type\":\"Line\"},{\"attributes\":{},\"id\":\"28f0bddd-07a6-48d0-8fd0-aed00b7b0c62\",\"type\":\"ResetTool\"},{\"attributes\":{},\"id\":\"a42d8a6d-eeeb-4987-9afb-06bbf761f87a\",\"type\":\"PanTool\"},{\"attributes\":{\"source\":{\"id\":\"d4399963-19fc-4b8b-9f03-fa7dae9fe5cf\",\"type\":\"ColumnDataSource\"}},\"id\":\"5dedce90-4d66-4849-8ca4-a1e3e4bc0367\",\"type\":\"CDSView\"},{\"attributes\":{\"callback\":null,\"data\":{\"x\":{\"__ndarray__\":\"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\",\"dtype\":\"float64\",\"shape\":[314]},\"y\":{\"__ndarray__\":\"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\",\"dtype\":\"float64\",\"shape\":[314]}},\"selected\":{\"id\":\"eee73867-d9b9-4434-a41f-7dc02887766a\",\"type\":\"Selection\"},\"selection_policy\":{\"id\":\"872c8ae4-8a5e-478a-9742-1a79c6f22372\",\"type\":\"UnionRenderers\"}},\"id\":\"d4399963-19fc-4b8b-9f03-fa7dae9fe5cf\",\"type\":\"ColumnDataSource\"},{\"attributes\":{},\"id\":\"5b9997fb-37b4-459d-a3eb-11fb06f36bf6\",\"type\":\"SaveTool\"},{\"attributes\":{},\"id\":\"eba5be2e-70b8-4344-8529-a03b294a281e\",\"type\":\"WheelZoomTool\"},{\"attributes\":{\"below\":[{\"id\":\"a1822db8-f669-49a5-beaa-28755d1961a8\",\"type\":\"LinearAxis\"}],\"left\":[{\"id\":\"61a0a95e-ea66-497b-a8f1-41373e561589\",\"type\":\"LinearAxis\"}],\"plot_height\":300,\"plot_width\":450,\"renderers\":[{\"id\":\"a1822db8-f669-49a5-beaa-28755d1961a8\",\"type\":\"LinearAxis\"},{\"id\":\"7078986f-78f5-4fef-b971-db495e07ee91\",\"type\":\"Grid\"},{\"id\":\"61a0a95e-ea66-497b-a8f1-41373e561589\",\"type\":\"LinearAxis\"},{\"id\":\"afe371b8-1a0f-4ef4-b656-a7f25db55b21\",\"type\":\"Grid\"},{\"id\":\"4fface31-81d6-41e8-b197-70b3bc7104f2\",\"type\":\"BoxAnnotation\"},{\"id\":\"3cd63ca7-4c61-4e0e-a2fd-9c2dcb5e21b5\",\"type\":\"GlyphRenderer\"},{\"id\":\"3370eaab-ece5-480f-ad83-017437cda18a\",\"type\":\"GlyphRenderer\"},{\"id\":\"43bb153f-eaf2-4bfc-80ed-cfd0c731e6d5\",\"type\":\"GlyphRenderer\"}],\"title\":null,\"toolbar\":{\"id\":\"acf96dab-c5fa-4429-afa5-34519a953e10\",\"type\":\"Toolbar\"},\"x_range\":{\"id\":\"8a7b38d7-90d3-43c1-a36b-d5823d8b72f1\",\"type\":\"DataRange1d\"},\"x_scale\":{\"id\":\"e9bdb9a9-410f-4d25-b674-3531586d36f5\",\"type\":\"LinearScale\"},\"y_range\":{\"id\":\"130e957d-068b-4c11-8b6e-56b9464f989e\",\"type\":\"DataRange1d\"},\"y_scale\":{\"id\":\"4e491aeb-f12f-47e2-b01a-0017e81a7885\",\"type\":\"LinearScale\"}},\"id\":\"c707d1a0-8258-48b5-b457-cb047d5437c2\",\"subtype\":\"Figure\",\"type\":\"Plot\"}],\"root_ids\":[\"c707d1a0-8258-48b5-b457-cb047d5437c2\"]},\"title\":\"Bokeh Application\",\"version\":\"0.12.16\"}};\n",
       "  var render_items = [{\"docid\":\"53305b63-4c59-4fd7-93f7-6723c7fe7e43\",\"elementid\":\"e6530088-4517-41cf-a620-751f48816f91\",\"modelid\":\"c707d1a0-8258-48b5-b457-cb047d5437c2\"}];\n",
       "  root.Bokeh.embed.embed_items_notebook(docs_json, render_items);\n",
       "\n",
       "  }\n",
       "  if (root.Bokeh !== undefined) {\n",
       "    embed_document(root);\n",
       "  } else {\n",
       "    var attempts = 0;\n",
       "    var timer = setInterval(function(root) {\n",
       "      if (root.Bokeh !== undefined) {\n",
       "        embed_document(root);\n",
       "        clearInterval(timer);\n",
       "      }\n",
       "      attempts++;\n",
       "      if (attempts > 100) {\n",
       "        console.log(\"Bokeh: ERROR: Unable to run BokehJS code because BokehJS library is missing\")\n",
       "        clearInterval(timer);\n",
       "      }\n",
       "    }, 10, root)\n",
       "  }\n",
       "})(window);"
      ],
      "application/vnd.bokehjs_exec.v0+json": ""
     },
     "metadata": {
      "application/vnd.bokehjs_exec.v0+json": {
       "id": "c707d1a0-8258-48b5-b457-cb047d5437c2"
      }
     },
     "output_type": "display_data"
    }
   ],
   "source": [
    "data = df.loc[(df['year']==1987) & (df['species']=='scandens'), 'beak depth (mm)']\n",
    "p = bootcamp_utils.bokeh_ecdf(data, x_axis_label='beak depth (mm)', formal=True)\n",
    "\n",
    "bokeh.io.show(p)"
   ]
  },
  {
   "cell_type": "markdown",
   "metadata": {},
   "source": [
    "#### Colored ECDF\n",
    "\n",
    "This is a single ECDF, but the dots are colored according to the `cats` kwarg. For this plot, we will just use the data from 1987."
   ]
  },
  {
   "cell_type": "code",
   "execution_count": 11,
   "metadata": {},
   "outputs": [
    {
     "data": {
      "text/html": [
       "\n",
       "<div class=\"bk-root\">\n",
       "    <div class=\"bk-plotdiv\" id=\"f240551e-b44f-4689-b812-4089d5b16bc9\"></div>\n",
       "</div>"
      ]
     },
     "metadata": {},
     "output_type": "display_data"
    },
    {
     "data": {
      "application/javascript": [
       "(function(root) {\n",
       "  function embed_document(root) {\n",
       "    \n",
       "  var docs_json = {\"31e0d175-3801-44be-809e-60cc653e4ac5\":{\"roots\":{\"references\":[{\"attributes\":{\"plot\":{\"id\":\"e811fc70-cd7a-4e09-a4d9-f38001fa3d86\",\"subtype\":\"Figure\",\"type\":\"Plot\"},\"ticker\":{\"id\":\"0064376c-e85b-4dcd-b104-5bd509e074cd\",\"type\":\"BasicTicker\"}},\"id\":\"b9a618d3-52bb-4769-bedf-9617623ce8ac\",\"type\":\"Grid\"},{\"attributes\":{\"bottom_units\":\"screen\",\"fill_alpha\":{\"value\":0.5},\"fill_color\":{\"value\":\"lightgrey\"},\"left_units\":\"screen\",\"level\":\"overlay\",\"line_alpha\":{\"value\":1.0},\"line_color\":{\"value\":\"black\"},\"line_dash\":[4,4],\"line_width\":{\"value\":2},\"plot\":null,\"render_mode\":\"css\",\"right_units\":\"screen\",\"top_units\":\"screen\"},\"id\":\"28106a6f-545f-478a-94c8-b1d31e4efd4b\",\"type\":\"BoxAnnotation\"},{\"attributes\":{\"active_drag\":\"auto\",\"active_inspect\":\"auto\",\"active_scroll\":\"auto\",\"active_tap\":\"auto\",\"tools\":[{\"id\":\"8178fa3e-d898-4a40-a221-85a6a9847d24\",\"type\":\"PanTool\"},{\"id\":\"6bcf6580-e498-488e-90fd-221ccb15c55f\",\"type\":\"WheelZoomTool\"},{\"id\":\"8084861d-3cfc-4cda-9694-5c93834359d3\",\"type\":\"BoxZoomTool\"},{\"id\":\"c70be8e6-b95c-43dc-b950-2886ab173b61\",\"type\":\"SaveTool\"},{\"id\":\"5e184cf8-6b74-47db-956e-b23440a7ea37\",\"type\":\"ResetTool\"},{\"id\":\"ce30f9e5-11fc-40c6-a011-c144b39d381e\",\"type\":\"HelpTool\"}]},\"id\":\"7ff4c244-dea0-47dd-8e03-0134099ce1e2\",\"type\":\"Toolbar\"},{\"attributes\":{\"dimension\":1,\"plot\":{\"id\":\"e811fc70-cd7a-4e09-a4d9-f38001fa3d86\",\"subtype\":\"Figure\",\"type\":\"Plot\"},\"ticker\":{\"id\":\"b203b1bb-41d6-4a43-8677-b21a113dddb3\",\"type\":\"BasicTicker\"}},\"id\":\"fdb4a1c6-5d46-4d8a-a3e0-9a3b1b678cf8\",\"type\":\"Grid\"},{\"attributes\":{\"fill_color\":{\"value\":\"#ff7f0e\"},\"line_color\":{\"value\":\"#ff7f0e\"},\"x\":{\"field\":\"x\"},\"y\":{\"field\":\"y\"}},\"id\":\"19af63eb-c1cb-4469-acfb-bde8b1b86e79\",\"type\":\"Circle\"},{\"attributes\":{},\"id\":\"b203b1bb-41d6-4a43-8677-b21a113dddb3\",\"type\":\"BasicTicker\"},{\"attributes\":{\"axis_label\":\"ECDF\",\"formatter\":{\"id\":\"776d13c9-c1a8-4b72-87ba-55c5cd99b1f9\",\"type\":\"BasicTickFormatter\"},\"plot\":{\"id\":\"e811fc70-cd7a-4e09-a4d9-f38001fa3d86\",\"subtype\":\"Figure\",\"type\":\"Plot\"},\"ticker\":{\"id\":\"b203b1bb-41d6-4a43-8677-b21a113dddb3\",\"type\":\"BasicTicker\"}},\"id\":\"f7619cd7-fda5-4def-8486-7a431c992474\",\"type\":\"LinearAxis\"},{\"attributes\":{},\"id\":\"ce30f9e5-11fc-40c6-a011-c144b39d381e\",\"type\":\"HelpTool\"},{\"attributes\":{},\"id\":\"6bcf6580-e498-488e-90fd-221ccb15c55f\",\"type\":\"WheelZoomTool\"},{\"attributes\":{\"callback\":null},\"id\":\"36162fba-024f-48e1-b900-ed02b507e2ba\",\"type\":\"DataRange1d\"},{\"attributes\":{\"axis_label\":\"beak depth (mm)\",\"formatter\":{\"id\":\"6993e57c-5aa8-4b02-88b2-cd4a8e1ca48b\",\"type\":\"BasicTickFormatter\"},\"plot\":{\"id\":\"e811fc70-cd7a-4e09-a4d9-f38001fa3d86\",\"subtype\":\"Figure\",\"type\":\"Plot\"},\"ticker\":{\"id\":\"0064376c-e85b-4dcd-b104-5bd509e074cd\",\"type\":\"BasicTicker\"}},\"id\":\"02e24e8e-dbd6-4793-bfa7-5ffc25bfcb76\",\"type\":\"LinearAxis\"},{\"attributes\":{},\"id\":\"5e184cf8-6b74-47db-956e-b23440a7ea37\",\"type\":\"ResetTool\"},{\"attributes\":{},\"id\":\"c70be8e6-b95c-43dc-b950-2886ab173b61\",\"type\":\"SaveTool\"},{\"attributes\":{\"data_source\":{\"id\":\"8c2b83a6-f5e6-4f8d-8cc6-e7cd62c2a1f6\",\"type\":\"ColumnDataSource\"},\"glyph\":{\"id\":\"19af63eb-c1cb-4469-acfb-bde8b1b86e79\",\"type\":\"Circle\"},\"hover_glyph\":null,\"muted_glyph\":null,\"nonselection_glyph\":{\"id\":\"68c69fcf-0e64-45ff-88b4-63512b549c84\",\"type\":\"Circle\"},\"selection_glyph\":null,\"view\":{\"id\":\"22882d2f-6e75-4e30-bc78-758254e85e0d\",\"type\":\"CDSView\"}},\"id\":\"fcdcbcf4-80a8-4032-9ceb-5f916a6bfe02\",\"type\":\"GlyphRenderer\"},{\"attributes\":{\"fill_alpha\":{\"value\":0.1},\"fill_color\":{\"value\":\"#1f77b4\"},\"line_alpha\":{\"value\":0.1},\"line_color\":{\"value\":\"#1f77b4\"},\"x\":{\"field\":\"x\"},\"y\":{\"field\":\"y\"}},\"id\":\"68c69fcf-0e64-45ff-88b4-63512b549c84\",\"type\":\"Circle\"},{\"attributes\":{\"label\":{\"value\":\"scandens\"},\"renderers\":[{\"id\":\"fcdcbcf4-80a8-4032-9ceb-5f916a6bfe02\",\"type\":\"GlyphRenderer\"}]},\"id\":\"8d132941-23a6-4c37-ad12-dab03f3e29a1\",\"type\":\"LegendItem\"},{\"attributes\":{\"label\":{\"value\":\"fortis\"},\"renderers\":[{\"id\":\"ed7bfe55-4388-4835-a1ce-fbc7114dc66b\",\"type\":\"GlyphRenderer\"}]},\"id\":\"8534a81c-8779-4101-8171-01f1e7c969dc\",\"type\":\"LegendItem\"},{\"attributes\":{\"fill_alpha\":{\"value\":0.1},\"fill_color\":{\"value\":\"#1f77b4\"},\"line_alpha\":{\"value\":0.1},\"line_color\":{\"value\":\"#1f77b4\"},\"x\":{\"field\":\"x\"},\"y\":{\"field\":\"y\"}},\"id\":\"5ae3ad4c-ad9d-439b-a1b6-6756160b8c6c\",\"type\":\"Circle\"},{\"attributes\":{\"fill_color\":{\"value\":\"#1f77b4\"},\"line_color\":{\"value\":\"#1f77b4\"},\"x\":{\"field\":\"x\"},\"y\":{\"field\":\"y\"}},\"id\":\"2d720ce1-b13f-4348-a760-bd26e299f8e6\",\"type\":\"Circle\"},{\"attributes\":{\"overlay\":{\"id\":\"28106a6f-545f-478a-94c8-b1d31e4efd4b\",\"type\":\"BoxAnnotation\"}},\"id\":\"8084861d-3cfc-4cda-9694-5c93834359d3\",\"type\":\"BoxZoomTool\"},{\"attributes\":{\"callback\":null,\"data\":{\"x\":{\"__ndarray__\":\"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\",\"dtype\":\"float64\",\"shape\":[787]},\"y\":{\"__ndarray__\":\"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\",\"dtype\":\"float64\",\"shape\":[787]}},\"selected\":{\"id\":\"3b106aa3-bdb1-45fb-84d6-ba5ac87769e2\",\"type\":\"Selection\"},\"selection_policy\":{\"id\":\"a3d84d9a-9c84-4ab1-9247-e2bc532adc8b\",\"type\":\"UnionRenderers\"}},\"id\":\"4a111e8a-2adc-42d8-9605-eeef9300f888\",\"type\":\"ColumnDataSource\"},{\"attributes\":{\"callback\":null,\"data\":{\"x\":{\"__ndarray__\":\"FK5H4XoUH0DD9Shcj8IfQNejcD0K1x9AAAAAAAAAIECF61G4HgUgQPYoXI/CdSBAmpmZmZmZIEC4HoXrUbggQD0K16NwvSBAzczMzMzMIEDNzMzMzMwgQM3MzMzMzCBAUrgehevRIEAAAAAAAAAhQAAAAAAAACFAMzMzMzMzIUAzMzMzMzMhQDMzMzMzMyFAuB6F61E4IUDXo3A9ClchQGZmZmZmZiFAZmZmZmZmIUBmZmZmZmYhQGZmZmZmZiFAZmZmZmZmIUBxPQrXo3AhQHE9CtejcCFACtejcD2KIUCamZmZmZkhQJqZmZmZmSFAmpmZmZmZIUCamZmZmZkhQB+F61G4niFAH4XrUbieIUA9CtejcL0hQMP1KFyPwiFASOF6FK7HIUDNzMzMzMwhQM3MzMzMzCFAzczMzMzMIUDNzMzMzMwhQM3MzMzMzCFAzczMzMzMIUDNzMzMzMwhQM3MzMzMzCFAzczMzMzMIUBSuB6F69EhQFK4HoXr0SFA16NwPQrXIUBcj8L1KNwhQFyPwvUo3CFAZmZmZmbmIUBmZmZmZuYhQOxRuB6F6yFAcT0K16PwIUBxPQrXo/AhQHsUrkfh+iFAAAAAAAAAIkAAAAAAAAAiQAAAAAAAACJAAAAAAAAAIkAAAAAAAAAiQIXrUbgeBSJACtejcD0KIkAK16NwPQoiQArXo3A9CiJAj8L1KFwPIkAUrkfhehQiQJqZmZmZGSJAmpmZmZkZIkAfhetRuB4iQDMzMzMzMyJAMzMzMzMzIkAzMzMzMzMiQDMzMzMzMyJAMzMzMzMzIkAzMzMzMzMiQMP1KFyPQiJAw/UoXI9CIkBI4XoUrkciQFyPwvUoXCJAZmZmZmZmIkBmZmZmZmYiQGZmZmZmZiJAZmZmZmZmIkDsUbgehWsiQOxRuB6FayJAcT0K16NwIkB7FK5H4XoiQHsUrkfheiJAAAAAAACAIkAAAAAAAIAiQAAAAAAAgCJAAAAAAACAIkCF61G4HoUiQIXrUbgehSJAj8L1KFyPIkCPwvUoXI8iQI/C9ShcjyJAmpmZmZmZIkCamZmZmZkiQJqZmZmZmSJAmpmZmZmZIkCamZmZmZkiQJqZmZmZmSJAmpmZmZmZIkCkcD0K16MiQClcj8L1qCJArkfhehSuIkCuR+F6FK4iQK5H4XoUriJAMzMzMzOzIkA9CtejcL0iQD0K16NwvSJAPQrXo3C9IkA9CtejcL0iQMP1KFyPwiJAzczMzMzMIkDNzMzMzMwiQM3MzMzMzCJAzczMzMzMIkDXo3A9CtciQFyPwvUo3CJAZmZmZmbmIkAAAAAAAAAjQAAAAAAAACNAhetRuB4FI0CF61G4HgUjQArXo3A9CiNAFK5H4XoUI0CamZmZmRkjQDMzMzMzMyNAMzMzMzMzI0AzMzMzMzMjQD0K16NwPSNASOF6FK5HI0DNzMzMzEwjQGZmZmZmZiNAZmZmZmZmI0D2KFyPwnUjQPYoXI/CdSNAexSuR+F6I0CamZmZmZkjQJqZmZmZmSNApHA9CtejI0AzMzMzM7MjQDMzMzMzsyNAzczMzMzMI0DNzMzMzMwjQOF6FK5H4SNAAAAAAAAAJEAzMzMzMzMkQLgehetROCRACtejcD2KJECuR+F6FK4kQClcj8L1qCZA\",\"dtype\":\"float64\",\"shape\":[156]},\"y\":{\"__ndarray__\":\"zyl6Is+Lkz+U0cRFsX2fP/GWbJDUX6E/ho79xs0WpD/1VwQQyyylP91/p5lWj7A/YGBz2dF1sj+LT5VGxOO3P+YB15hDKbg/QrQY68JuuD+eZlo9QrS4P/oYnI/B+bg/jxAtxrqwuz9U9ESeFyfAP2cLCpWV98A/1tQQ3pINwj8ErjGHUjDCPzKHUjASU8I/PvOAa8yhxD+S+isCiGXGP8DTTKtHiMY/i0+VRsTjxz+5KLbvgwbIP+YB15hDKcg/nmZaPUK0yD9OIEcmfb3KP3z5Z8884Mo/oyfyvDiBzD/+2TMPuMbMP22jOli13M0/m3xbAXX/zT/JVXyqNCLOP1Ph3qVzis4/gbr/TjOtzj8YOvYbN1vQP6LFWBd2w9A/OTLp69XU0D8Rj19gc9nRP6j77zTT6tE/P2iACTP80T/W1BDekg3SP21BobLyHtI/BK4xh1Iw0j+bGsJbskHSPzKHUjASU9I/yfPiBHJk0j8kpiRX8anSP7sStStRu9I/OL3pTW960z/vIW3ybQXUP4aO/cbNFtQ/HfuNmy0o1D/iQD8ZTVzUPxAaYMIMf9Q/1V8RQCyz1D8wElOSq/jUP/VXBBDLLNU/jMSU5Co+1T8jMSW5ik/VP7qdtY3qYNU/UQpGYkpy1T/odtY2qoPVP5/bWduoDtY/hRn+KGe81j8cho79xs3WP7PyHtIm39Y/dzjQT0YT1z88foHNZUfXP5gwwx/ljNc/L51T9ESe1z+LT5VGxOPXPzXT6hGixdg/zD975gHX2D9jrAu7YejYP/oYnI/B+dg/kYUsZCEL2T8o8rw4gRzZP9irqSG8Jds/nfFan9tZ2z/4o5zxWp/bP7AIIJZZKtw/3uFAPxlN3D91TtETeV7cPwy7YejYb9w//tkzD7jG3D+bfFsBdf/dP1Ph3qVzit4/gbr/TjOt3j+hsvIe0ibfPzgfg/MxON8//WQ0cVFs3z+U0cRFsX3fPys+VRoRj98/wqrl7nCg3z8eXSdB8OXfP7XJtxVQ998/VPREnhcn4D+fKo2Ixy/gP+tg1XJ3OOA/NpcdXSdB4D+BzWVH10ngP80DrjGHUuA/GDr2Gzdb4D/73M7aRnXgPym274MGmOA/dOw3brag4D+lYCSmJFfhP4cD/WQ0ceE/tdwdDvST4T8BE2b4o5zhP0xJruJTpeE/mH/2zAOu4T9dxadKI+LhP6j77zTT6uE/9DE4H4Pz4T+Knsjz4gTiP9bUEN6SDeI/IQtZyEIW4j9tQaGy8h7iP7h36ZyiJ+I/BK4xh1Iw4j+etY3qYNXiP2P7PmiACeM/VRoRj19g4z/BSExJruLjP7RnHnCNOeQ/S9SuRO1K5D+WCvcunVPkPyCWWSrcu+Q/Tm9605ve5D+ZpcK9S+fkP/jyz555wOU/RCkYiSnJ5T+PX2Bz2dHlPxnrwm4YOuY/wNNMq0eI5j9XQN1/p5nmP2e81ud21uY/4cs/e+YB5z9ddnSdBMHnP6isvIe0yec/9OIEcmTS5z+by46ukyDoP+YB15hDKeg/3Lt0TtET6T/sN262oFDpPzhutqBQWek/aeKi2L4P6j+0GOvCbhjqPyBHJn29muo/2KupIbwl6z+96U1vetPrP4Iv/+yZB+w/4XwMzsfg7D97hGgx1oXtPzu6ToLgy+8/\",\"dtype\":\"float64\",\"shape\":[156]}},\"selected\":{\"id\":\"f0595a57-479c-455c-8e98-85f5419503ff\",\"type\":\"Selection\"},\"selection_policy\":{\"id\":\"631bd2e8-c257-4e02-bc30-65dda60c504e\",\"type\":\"UnionRenderers\"}},\"id\":\"8c2b83a6-f5e6-4f8d-8cc6-e7cd62c2a1f6\",\"type\":\"ColumnDataSource\"},{\"attributes\":{},\"id\":\"776d13c9-c1a8-4b72-87ba-55c5cd99b1f9\",\"type\":\"BasicTickFormatter\"},{\"attributes\":{\"source\":{\"id\":\"4a111e8a-2adc-42d8-9605-eeef9300f888\",\"type\":\"ColumnDataSource\"}},\"id\":\"4b5987e6-2d08-4e02-abd6-a00b21218802\",\"type\":\"CDSView\"},{\"attributes\":{},\"id\":\"631bd2e8-c257-4e02-bc30-65dda60c504e\",\"type\":\"UnionRenderers\"},{\"attributes\":{\"data_source\":{\"id\":\"4a111e8a-2adc-42d8-9605-eeef9300f888\",\"type\":\"ColumnDataSource\"},\"glyph\":{\"id\":\"2d720ce1-b13f-4348-a760-bd26e299f8e6\",\"type\":\"Circle\"},\"hover_glyph\":null,\"muted_glyph\":null,\"nonselection_glyph\":{\"id\":\"5ae3ad4c-ad9d-439b-a1b6-6756160b8c6c\",\"type\":\"Circle\"},\"selection_glyph\":null,\"view\":{\"id\":\"4b5987e6-2d08-4e02-abd6-a00b21218802\",\"type\":\"CDSView\"}},\"id\":\"ed7bfe55-4388-4835-a1ce-fbc7114dc66b\",\"type\":\"GlyphRenderer\"},{\"attributes\":{},\"id\":\"f0595a57-479c-455c-8e98-85f5419503ff\",\"type\":\"Selection\"},{\"attributes\":{},\"id\":\"3b106aa3-bdb1-45fb-84d6-ba5ac87769e2\",\"type\":\"Selection\"},{\"attributes\":{},\"id\":\"a3d84d9a-9c84-4ab1-9247-e2bc532adc8b\",\"type\":\"UnionRenderers\"},{\"attributes\":{},\"id\":\"6993e57c-5aa8-4b02-88b2-cd4a8e1ca48b\",\"type\":\"BasicTickFormatter\"},{\"attributes\":{},\"id\":\"32c4c69a-78fd-4af4-b1a8-8189cb55d40c\",\"type\":\"LinearScale\"},{\"attributes\":{\"callback\":null},\"id\":\"0d89645b-84ff-40ce-9aa8-92381e575ae0\",\"type\":\"DataRange1d\"},{\"attributes\":{\"items\":[{\"id\":\"8534a81c-8779-4101-8171-01f1e7c969dc\",\"type\":\"LegendItem\"},{\"id\":\"8d132941-23a6-4c37-ad12-dab03f3e29a1\",\"type\":\"LegendItem\"}],\"location\":\"bottom_right\",\"plot\":{\"id\":\"e811fc70-cd7a-4e09-a4d9-f38001fa3d86\",\"subtype\":\"Figure\",\"type\":\"Plot\"}},\"id\":\"e2c63d7c-bbbb-41cc-ac7c-71e97e8aaf51\",\"type\":\"Legend\"},{\"attributes\":{},\"id\":\"8178fa3e-d898-4a40-a221-85a6a9847d24\",\"type\":\"PanTool\"},{\"attributes\":{},\"id\":\"da014652-6dfa-46df-8ab6-17f18b92c0ab\",\"type\":\"LinearScale\"},{\"attributes\":{},\"id\":\"0064376c-e85b-4dcd-b104-5bd509e074cd\",\"type\":\"BasicTicker\"},{\"attributes\":{\"source\":{\"id\":\"8c2b83a6-f5e6-4f8d-8cc6-e7cd62c2a1f6\",\"type\":\"ColumnDataSource\"}},\"id\":\"22882d2f-6e75-4e30-bc78-758254e85e0d\",\"type\":\"CDSView\"},{\"attributes\":{\"below\":[{\"id\":\"02e24e8e-dbd6-4793-bfa7-5ffc25bfcb76\",\"type\":\"LinearAxis\"}],\"left\":[{\"id\":\"f7619cd7-fda5-4def-8486-7a431c992474\",\"type\":\"LinearAxis\"}],\"plot_height\":300,\"plot_width\":400,\"renderers\":[{\"id\":\"02e24e8e-dbd6-4793-bfa7-5ffc25bfcb76\",\"type\":\"LinearAxis\"},{\"id\":\"b9a618d3-52bb-4769-bedf-9617623ce8ac\",\"type\":\"Grid\"},{\"id\":\"f7619cd7-fda5-4def-8486-7a431c992474\",\"type\":\"LinearAxis\"},{\"id\":\"fdb4a1c6-5d46-4d8a-a3e0-9a3b1b678cf8\",\"type\":\"Grid\"},{\"id\":\"28106a6f-545f-478a-94c8-b1d31e4efd4b\",\"type\":\"BoxAnnotation\"},{\"id\":\"e2c63d7c-bbbb-41cc-ac7c-71e97e8aaf51\",\"type\":\"Legend\"},{\"id\":\"ed7bfe55-4388-4835-a1ce-fbc7114dc66b\",\"type\":\"GlyphRenderer\"},{\"id\":\"fcdcbcf4-80a8-4032-9ceb-5f916a6bfe02\",\"type\":\"GlyphRenderer\"}],\"title\":null,\"toolbar\":{\"id\":\"7ff4c244-dea0-47dd-8e03-0134099ce1e2\",\"type\":\"Toolbar\"},\"x_range\":{\"id\":\"36162fba-024f-48e1-b900-ed02b507e2ba\",\"type\":\"DataRange1d\"},\"x_scale\":{\"id\":\"da014652-6dfa-46df-8ab6-17f18b92c0ab\",\"type\":\"LinearScale\"},\"y_range\":{\"id\":\"0d89645b-84ff-40ce-9aa8-92381e575ae0\",\"type\":\"DataRange1d\"},\"y_scale\":{\"id\":\"32c4c69a-78fd-4af4-b1a8-8189cb55d40c\",\"type\":\"LinearScale\"}},\"id\":\"e811fc70-cd7a-4e09-a4d9-f38001fa3d86\",\"subtype\":\"Figure\",\"type\":\"Plot\"}],\"root_ids\":[\"e811fc70-cd7a-4e09-a4d9-f38001fa3d86\"]},\"title\":\"Bokeh Application\",\"version\":\"0.12.16\"}};\n",
       "  var render_items = [{\"docid\":\"31e0d175-3801-44be-809e-60cc653e4ac5\",\"elementid\":\"f240551e-b44f-4689-b812-4089d5b16bc9\",\"modelid\":\"e811fc70-cd7a-4e09-a4d9-f38001fa3d86\"}];\n",
       "  root.Bokeh.embed.embed_items_notebook(docs_json, render_items);\n",
       "\n",
       "  }\n",
       "  if (root.Bokeh !== undefined) {\n",
       "    embed_document(root);\n",
       "  } else {\n",
       "    var attempts = 0;\n",
       "    var timer = setInterval(function(root) {\n",
       "      if (root.Bokeh !== undefined) {\n",
       "        embed_document(root);\n",
       "        clearInterval(timer);\n",
       "      }\n",
       "      attempts++;\n",
       "      if (attempts > 100) {\n",
       "        console.log(\"Bokeh: ERROR: Unable to run BokehJS code because BokehJS library is missing\")\n",
       "        clearInterval(timer);\n",
       "      }\n",
       "    }, 10, root)\n",
       "  }\n",
       "})(window);"
      ],
      "application/vnd.bokehjs_exec.v0+json": ""
     },
     "metadata": {
      "application/vnd.bokehjs_exec.v0+json": {
       "id": "e811fc70-cd7a-4e09-a4d9-f38001fa3d86"
      }
     },
     "output_type": "display_data"
    }
   ],
   "source": [
    "p = bootcamp_utils.bokeh_colored_ecdf(df.loc[df['year']==1987, :], \n",
    "                                      cats='species', \n",
    "                                      val='beak depth (mm)')\n",
    "\n",
    "bokeh.io.show(p)"
   ]
  },
  {
   "cell_type": "markdown",
   "metadata": {},
   "source": [
    "#### ECDF collection\n",
    "\n",
    "This works just like `colored_ecdf()`, but with separate ECDFs plotted for each category."
   ]
  },
  {
   "cell_type": "code",
   "execution_count": 12,
   "metadata": {},
   "outputs": [
    {
     "data": {
      "text/html": [
       "\n",
       "<div class=\"bk-root\">\n",
       "    <div class=\"bk-plotdiv\" id=\"becfcc87-9d38-407d-b75b-e8046137ae66\"></div>\n",
       "</div>"
      ]
     },
     "metadata": {},
     "output_type": "display_data"
    },
    {
     "data": {
      "application/javascript": [
       "(function(root) {\n",
       "  function embed_document(root) {\n",
       "    \n",
       "  var docs_json = {\"7a4b0299-c146-4194-9607-0f5590b53021\":{\"roots\":{\"references\":[{\"attributes\":{\"fill_alpha\":{\"value\":0.1},\"fill_color\":{\"value\":\"#1f77b4\"},\"line_alpha\":{\"value\":0.1},\"line_color\":{\"value\":\"#1f77b4\"},\"x\":{\"field\":\"x\"},\"y\":{\"field\":\"y\"}},\"id\":\"a37c6686-db5a-4802-9036-1b756885bef1\",\"type\":\"Circle\"},{\"attributes\":{\"source\":{\"id\":\"32c4e1db-07f7-4448-acf2-4aee5331aa8f\",\"type\":\"ColumnDataSource\"}},\"id\":\"6ab63eca-f7b6-4ac7-9487-e2c24785b749\",\"type\":\"CDSView\"},{\"attributes\":{},\"id\":\"07785ac1-d258-4dc1-9958-2d1c29d74b82\",\"type\":\"BasicTicker\"},{\"attributes\":{},\"id\":\"f5abb592-ddcc-4578-8aed-6720fadfbf54\",\"type\":\"Selection\"},{\"attributes\":{\"data_source\":{\"id\":\"32c4e1db-07f7-4448-acf2-4aee5331aa8f\",\"type\":\"ColumnDataSource\"},\"glyph\":{\"id\":\"5b3e81e0-df75-4539-9bce-e00eb60087af\",\"type\":\"Circle\"},\"hover_glyph\":null,\"muted_glyph\":null,\"nonselection_glyph\":{\"id\":\"a37c6686-db5a-4802-9036-1b756885bef1\",\"type\":\"Circle\"},\"selection_glyph\":null,\"view\":{\"id\":\"6ab63eca-f7b6-4ac7-9487-e2c24785b749\",\"type\":\"CDSView\"}},\"id\":\"5fae27dc-c7bf-430f-89f4-d769d1ccc129\",\"type\":\"GlyphRenderer\"},{\"attributes\":{\"plot\":{\"id\":\"e85b03fe-08fa-4963-96ee-a1b1ff0c7060\",\"subtype\":\"Figure\",\"type\":\"Plot\"},\"ticker\":{\"id\":\"07785ac1-d258-4dc1-9958-2d1c29d74b82\",\"type\":\"BasicTicker\"}},\"id\":\"967c7caf-6717-422a-8ef5-2e998e8cfd2c\",\"type\":\"Grid\"},{\"attributes\":{\"axis_label\":\"ECDF\",\"formatter\":{\"id\":\"8e2e022c-1070-442a-914b-80abe369f020\",\"type\":\"BasicTickFormatter\"},\"plot\":{\"id\":\"e85b03fe-08fa-4963-96ee-a1b1ff0c7060\",\"subtype\":\"Figure\",\"type\":\"Plot\"},\"ticker\":{\"id\":\"3b33ed75-f5ee-4a17-afa4-fdc12a98ad74\",\"type\":\"BasicTicker\"}},\"id\":\"13d7c3e5-877e-48fc-9bf6-0fbe314eb815\",\"type\":\"LinearAxis\"},{\"attributes\":{},\"id\":\"3b33ed75-f5ee-4a17-afa4-fdc12a98ad74\",\"type\":\"BasicTicker\"},{\"attributes\":{},\"id\":\"feb3c7f6-dc58-48fa-bcf0-e9d649969faf\",\"type\":\"UnionRenderers\"},{\"attributes\":{\"dimension\":1,\"plot\":{\"id\":\"e85b03fe-08fa-4963-96ee-a1b1ff0c7060\",\"subtype\":\"Figure\",\"type\":\"Plot\"},\"ticker\":{\"id\":\"3b33ed75-f5ee-4a17-afa4-fdc12a98ad74\",\"type\":\"BasicTicker\"}},\"id\":\"a65b0c3f-85ca-44d0-8620-4c6b93de72ea\",\"type\":\"Grid\"},{\"attributes\":{\"callback\":null},\"id\":\"51ccf711-c949-4b36-8c87-b7e8c9e823df\",\"type\":\"DataRange1d\"},{\"attributes\":{\"axis_label\":\"beak depth (mm)\",\"formatter\":{\"id\":\"98b7b8e1-2a0b-4bd2-b7f2-b6a08779685c\",\"type\":\"BasicTickFormatter\"},\"plot\":{\"id\":\"e85b03fe-08fa-4963-96ee-a1b1ff0c7060\",\"subtype\":\"Figure\",\"type\":\"Plot\"},\"ticker\":{\"id\":\"07785ac1-d258-4dc1-9958-2d1c29d74b82\",\"type\":\"BasicTicker\"}},\"id\":\"3c841359-d199-45f9-b03b-16e590c8eeae\",\"type\":\"LinearAxis\"},{\"attributes\":{\"bottom_units\":\"screen\",\"fill_alpha\":{\"value\":0.5},\"fill_color\":{\"value\":\"lightgrey\"},\"left_units\":\"screen\",\"level\":\"overlay\",\"line_alpha\":{\"value\":1.0},\"line_color\":{\"value\":\"black\"},\"line_dash\":[4,4],\"line_width\":{\"value\":2},\"plot\":null,\"render_mode\":\"css\",\"right_units\":\"screen\",\"top_units\":\"screen\"},\"id\":\"67f4df5e-d240-43ed-952a-228b6e61e03d\",\"type\":\"BoxAnnotation\"},{\"attributes\":{\"callback\":null},\"id\":\"60146e98-e20c-4460-8c04-683767ca2966\",\"type\":\"DataRange1d\"},{\"attributes\":{},\"id\":\"e3a6c000-d23b-4ed0-b92f-4e4fce4efbe0\",\"type\":\"PanTool\"},{\"attributes\":{},\"id\":\"8324846b-d5f9-4859-9613-1b6dba117198\",\"type\":\"LinearScale\"},{\"attributes\":{},\"id\":\"540d0898-a63c-4c2f-ac1f-b47b2289a08d\",\"type\":\"WheelZoomTool\"},{\"attributes\":{\"overlay\":{\"id\":\"67f4df5e-d240-43ed-952a-228b6e61e03d\",\"type\":\"BoxAnnotation\"}},\"id\":\"78257446-a0ae-4f39-b4d5-76126f9a4f16\",\"type\":\"BoxZoomTool\"},{\"attributes\":{},\"id\":\"46e920fd-2534-43c3-9b6d-a0757e11b438\",\"type\":\"SaveTool\"},{\"attributes\":{\"active_drag\":\"auto\",\"active_inspect\":\"auto\",\"active_scroll\":\"auto\",\"active_tap\":\"auto\",\"tools\":[{\"id\":\"e3a6c000-d23b-4ed0-b92f-4e4fce4efbe0\",\"type\":\"PanTool\"},{\"id\":\"540d0898-a63c-4c2f-ac1f-b47b2289a08d\",\"type\":\"WheelZoomTool\"},{\"id\":\"78257446-a0ae-4f39-b4d5-76126f9a4f16\",\"type\":\"BoxZoomTool\"},{\"id\":\"46e920fd-2534-43c3-9b6d-a0757e11b438\",\"type\":\"SaveTool\"},{\"id\":\"a698e160-2e04-405c-bc7c-bdeb1261013f\",\"type\":\"ResetTool\"},{\"id\":\"cebc2548-695c-4c1e-a3df-120fb7111db3\",\"type\":\"HelpTool\"}]},\"id\":\"441d0f94-0f6c-41e9-86d5-15597f47bfa2\",\"type\":\"Toolbar\"},{\"attributes\":{},\"id\":\"a698e160-2e04-405c-bc7c-bdeb1261013f\",\"type\":\"ResetTool\"},{\"attributes\":{},\"id\":\"cebc2548-695c-4c1e-a3df-120fb7111db3\",\"type\":\"HelpTool\"},{\"attributes\":{\"below\":[{\"id\":\"3c841359-d199-45f9-b03b-16e590c8eeae\",\"type\":\"LinearAxis\"}],\"left\":[{\"id\":\"13d7c3e5-877e-48fc-9bf6-0fbe314eb815\",\"type\":\"LinearAxis\"}],\"plot_height\":300,\"plot_width\":400,\"renderers\":[{\"id\":\"3c841359-d199-45f9-b03b-16e590c8eeae\",\"type\":\"LinearAxis\"},{\"id\":\"967c7caf-6717-422a-8ef5-2e998e8cfd2c\",\"type\":\"Grid\"},{\"id\":\"13d7c3e5-877e-48fc-9bf6-0fbe314eb815\",\"type\":\"LinearAxis\"},{\"id\":\"a65b0c3f-85ca-44d0-8620-4c6b93de72ea\",\"type\":\"Grid\"},{\"id\":\"67f4df5e-d240-43ed-952a-228b6e61e03d\",\"type\":\"BoxAnnotation\"},{\"id\":\"c3314c92-6863-495f-b3e4-7aaec3061f47\",\"type\":\"Legend\"},{\"id\":\"187748b2-448c-457f-b866-0836619bc57c\",\"type\":\"GlyphRenderer\"},{\"id\":\"5fae27dc-c7bf-430f-89f4-d769d1ccc129\",\"type\":\"GlyphRenderer\"}],\"title\":null,\"toolbar\":{\"id\":\"441d0f94-0f6c-41e9-86d5-15597f47bfa2\",\"type\":\"Toolbar\"},\"x_range\":{\"id\":\"51ccf711-c949-4b36-8c87-b7e8c9e823df\",\"type\":\"DataRange1d\"},\"x_scale\":{\"id\":\"8324846b-d5f9-4859-9613-1b6dba117198\",\"type\":\"LinearScale\"},\"y_range\":{\"id\":\"60146e98-e20c-4460-8c04-683767ca2966\",\"type\":\"DataRange1d\"},\"y_scale\":{\"id\":\"767c121a-9b24-4eeb-be10-a766b679f5d3\",\"type\":\"LinearScale\"}},\"id\":\"e85b03fe-08fa-4963-96ee-a1b1ff0c7060\",\"subtype\":\"Figure\",\"type\":\"Plot\"},{\"attributes\":{\"fill_color\":{\"value\":\"#1f77b4\"},\"line_color\":{\"value\":\"#1f77b4\"},\"x\":{\"field\":\"x\"},\"y\":{\"field\":\"y\"}},\"id\":\"01598dab-1c91-4718-99f2-0b3c851e67f8\",\"type\":\"Circle\"},{\"attributes\":{},\"id\":\"8b207ebc-b8e4-4efd-83b2-73f5faec391b\",\"type\":\"Selection\"},{\"attributes\":{\"label\":{\"value\":\"fortis\"},\"renderers\":[{\"id\":\"187748b2-448c-457f-b866-0836619bc57c\",\"type\":\"GlyphRenderer\"}]},\"id\":\"69523567-fd33-49aa-994f-ed6d6ed8ef93\",\"type\":\"LegendItem\"},{\"attributes\":{},\"id\":\"767c121a-9b24-4eeb-be10-a766b679f5d3\",\"type\":\"LinearScale\"},{\"attributes\":{\"callback\":null,\"data\":{\"x\":{\"__ndarray__\":\"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\",\"dtype\":\"float64\",\"shape\":[787]},\"y\":{\"__ndarray__\":\"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\",\"dtype\":\"float64\",\"shape\":[787]}},\"selected\":{\"id\":\"8b207ebc-b8e4-4efd-83b2-73f5faec391b\",\"type\":\"Selection\"},\"selection_policy\":{\"id\":\"feb3c7f6-dc58-48fa-bcf0-e9d649969faf\",\"type\":\"UnionRenderers\"}},\"id\":\"cb5ddf6b-207b-49f2-a13d-f222e9a29983\",\"type\":\"ColumnDataSource\"},{\"attributes\":{\"fill_alpha\":{\"value\":0.1},\"fill_color\":{\"value\":\"#1f77b4\"},\"line_alpha\":{\"value\":0.1},\"line_color\":{\"value\":\"#1f77b4\"},\"x\":{\"field\":\"x\"},\"y\":{\"field\":\"y\"}},\"id\":\"936ee4ca-9224-406a-a708-2f38b7d63134\",\"type\":\"Circle\"},{\"attributes\":{\"data_source\":{\"id\":\"cb5ddf6b-207b-49f2-a13d-f222e9a29983\",\"type\":\"ColumnDataSource\"},\"glyph\":{\"id\":\"01598dab-1c91-4718-99f2-0b3c851e67f8\",\"type\":\"Circle\"},\"hover_glyph\":null,\"muted_glyph\":null,\"nonselection_glyph\":{\"id\":\"936ee4ca-9224-406a-a708-2f38b7d63134\",\"type\":\"Circle\"},\"selection_glyph\":null,\"view\":{\"id\":\"c5eb3f80-11c4-45df-883e-641f1416bd93\",\"type\":\"CDSView\"}},\"id\":\"187748b2-448c-457f-b866-0836619bc57c\",\"type\":\"GlyphRenderer\"},{\"attributes\":{\"source\":{\"id\":\"cb5ddf6b-207b-49f2-a13d-f222e9a29983\",\"type\":\"ColumnDataSource\"}},\"id\":\"c5eb3f80-11c4-45df-883e-641f1416bd93\",\"type\":\"CDSView\"},{\"attributes\":{},\"id\":\"8e2e022c-1070-442a-914b-80abe369f020\",\"type\":\"BasicTickFormatter\"},{\"attributes\":{},\"id\":\"98b7b8e1-2a0b-4bd2-b7f2-b6a08779685c\",\"type\":\"BasicTickFormatter\"},{\"attributes\":{},\"id\":\"b30269fc-ce68-4a75-96ee-274cb20c628b\",\"type\":\"UnionRenderers\"},{\"attributes\":{\"fill_color\":{\"value\":\"#ff7f0e\"},\"line_color\":{\"value\":\"#ff7f0e\"},\"x\":{\"field\":\"x\"},\"y\":{\"field\":\"y\"}},\"id\":\"5b3e81e0-df75-4539-9bce-e00eb60087af\",\"type\":\"Circle\"},{\"attributes\":{\"items\":[{\"id\":\"69523567-fd33-49aa-994f-ed6d6ed8ef93\",\"type\":\"LegendItem\"},{\"id\":\"2a70e8f8-eba5-4955-ae0e-f588ae46bd66\",\"type\":\"LegendItem\"}],\"location\":\"bottom_right\",\"plot\":{\"id\":\"e85b03fe-08fa-4963-96ee-a1b1ff0c7060\",\"subtype\":\"Figure\",\"type\":\"Plot\"}},\"id\":\"c3314c92-6863-495f-b3e4-7aaec3061f47\",\"type\":\"Legend\"},{\"attributes\":{\"label\":{\"value\":\"scandens\"},\"renderers\":[{\"id\":\"5fae27dc-c7bf-430f-89f4-d769d1ccc129\",\"type\":\"GlyphRenderer\"}]},\"id\":\"2a70e8f8-eba5-4955-ae0e-f588ae46bd66\",\"type\":\"LegendItem\"},{\"attributes\":{\"callback\":null,\"data\":{\"x\":{\"__ndarray__\":\"FK5H4XoUH0DD9Shcj8IfQNejcD0K1x9AAAAAAAAAIECF61G4HgUgQPYoXI/CdSBAmpmZmZmZIEC4HoXrUbggQD0K16NwvSBAzczMzMzMIEDNzMzMzMwgQM3MzMzMzCBAUrgehevRIEAAAAAAAAAhQAAAAAAAACFAMzMzMzMzIUAzMzMzMzMhQDMzMzMzMyFAuB6F61E4IUDXo3A9ClchQGZmZmZmZiFAZmZmZmZmIUBmZmZmZmYhQGZmZmZmZiFAZmZmZmZmIUBxPQrXo3AhQHE9CtejcCFACtejcD2KIUCamZmZmZkhQJqZmZmZmSFAmpmZmZmZIUCamZmZmZkhQB+F61G4niFAH4XrUbieIUA9CtejcL0hQMP1KFyPwiFASOF6FK7HIUDNzMzMzMwhQM3MzMzMzCFAzczMzMzMIUDNzMzMzMwhQM3MzMzMzCFAzczMzMzMIUDNzMzMzMwhQM3MzMzMzCFAzczMzMzMIUBSuB6F69EhQFK4HoXr0SFA16NwPQrXIUBcj8L1KNwhQFyPwvUo3CFAZmZmZmbmIUBmZmZmZuYhQOxRuB6F6yFAcT0K16PwIUBxPQrXo/AhQHsUrkfh+iFAAAAAAAAAIkAAAAAAAAAiQAAAAAAAACJAAAAAAAAAIkAAAAAAAAAiQIXrUbgeBSJACtejcD0KIkAK16NwPQoiQArXo3A9CiJAj8L1KFwPIkAUrkfhehQiQJqZmZmZGSJAmpmZmZkZIkAfhetRuB4iQDMzMzMzMyJAMzMzMzMzIkAzMzMzMzMiQDMzMzMzMyJAMzMzMzMzIkAzMzMzMzMiQMP1KFyPQiJAw/UoXI9CIkBI4XoUrkciQFyPwvUoXCJAZmZmZmZmIkBmZmZmZmYiQGZmZmZmZiJAZmZmZmZmIkDsUbgehWsiQOxRuB6FayJAcT0K16NwIkB7FK5H4XoiQHsUrkfheiJAAAAAAACAIkAAAAAAAIAiQAAAAAAAgCJAAAAAAACAIkCF61G4HoUiQIXrUbgehSJAj8L1KFyPIkCPwvUoXI8iQI/C9ShcjyJAmpmZmZmZIkCamZmZmZkiQJqZmZmZmSJAmpmZmZmZIkCamZmZmZkiQJqZmZmZmSJAmpmZmZmZIkCkcD0K16MiQClcj8L1qCJArkfhehSuIkCuR+F6FK4iQK5H4XoUriJAMzMzMzOzIkA9CtejcL0iQD0K16NwvSJAPQrXo3C9IkA9CtejcL0iQMP1KFyPwiJAzczMzMzMIkDNzMzMzMwiQM3MzMzMzCJAzczMzMzMIkDXo3A9CtciQFyPwvUo3CJAZmZmZmbmIkAAAAAAAAAjQAAAAAAAACNAhetRuB4FI0CF61G4HgUjQArXo3A9CiNAFK5H4XoUI0CamZmZmRkjQDMzMzMzMyNAMzMzMzMzI0AzMzMzMzMjQD0K16NwPSNASOF6FK5HI0DNzMzMzEwjQGZmZmZmZiNAZmZmZmZmI0D2KFyPwnUjQPYoXI/CdSNAexSuR+F6I0CamZmZmZkjQJqZmZmZmSNApHA9CtejI0AzMzMzM7MjQDMzMzMzsyNAzczMzMzMI0DNzMzMzMwjQOF6FK5H4SNAAAAAAAAAJEAzMzMzMzMkQLgehetROCRACtejcD2KJECuR+F6FK4kQClcj8L1qCZA\",\"dtype\":\"float64\",\"shape\":[156]},\"y\":{\"__ndarray__\":\"GqRBGqRBej8apEEapEGKPxQ7sRM7sZM/GqRBGqRBmj+QBmmQBmmgPxQ7sRM7saM/l2/5lm/5pj8apEEapEGqP57YiZ3Yia0/kAZpkAZpsD/SIA3SIA2yPxQ7sRM7sbM/VVVVVVVVtT+Xb/mWb/m2P9mJndiJnbg/GqRBGqRBuj9cvuVbvuW7P57YiZ3Yib0/3/It3/Itvz+QBmmQBmnAP7ETO7ETO8E/0iAN0iANwj/zLd/yLd/CPxQ7sRM7scM/NUiDNEiDxD9VVVVVVVXFP3ZiJ3ZiJ8Y/l2/5lm/5xj+4fMu3fMvHP9mJndiJncg/+ZZv+ZZvyT8apEEapEHKPzuxEzuxE8s/XL7lW77lyz99y7d8y7fMP57YiZ3Yic0/vuVbvuVbzj/f8i3f8i3PPwAAAAAAANA/kAZpkAZp0D8hDdIgDdLQP7ETO7ETO9E/QhqkQRqk0T/SIA3SIA3SP2IndmIndtI/8y3f8i3f0j+DNEiDNEjTPxQ7sRM7sdM/pEEapEEa1D81SIM0SIPUP8VO7MRO7NQ/VVVVVVVV1T/mW77lW77VP3ZiJ3ZiJ9Y/B2mQBmmQ1j+Xb/mWb/nWPyd2Yid2Ytc/uHzLt3zL1z9IgzRIgzTYP9mJndiJndg/aZAGaZAG2T/5lm/5lm/ZP4qd2Imd2Nk/GqRBGqRB2j+rqqqqqqraPzuxEzuxE9s/y7d8y7d82z9cvuVbvuXbP+zETuzETtw/fcu3fMu33D8N0iAN0iDdP57YiZ3Yid0/Lt/yLd/y3T++5Vu+5VveP0/sxE7sxN4/3/It3/It3z9w+ZZv+ZbfPwAAAAAAAOA/SIM0SIM04D+QBmmQBmngP9mJndiJneA/IQ3SIA3S4D9pkAZpkAbhP7ETO7ETO+E/+ZZv+ZZv4T9CGqRBGqThP4qd2Imd2OE/0iAN0iAN4j8apEEapEHiP2IndmInduI/q6qqqqqq4j/zLd/yLd/iPzuxEzuxE+M/gzRIgzRI4z/Lt3zLt3zjPxQ7sRM7seM/XL7lW77l4z+kQRqkQRrkP+zETuzETuQ/NUiDNEiD5D99y7d8y7fkP8VO7MRO7OQ/DdIgDdIg5T9VVVVVVVXlP57YiZ3YieU/5lu+5Vu+5T8u3/It3/LlP3ZiJ3ZiJ+Y/vuVbvuVb5j8HaZAGaZDmP0/sxE7sxOY/l2/5lm/55j/f8i3f8i3nPyd2Yid2Yuc/cPmWb/mW5z+4fMu3fMvnPwAAAAAAAOg/SIM0SIM06D+QBmmQBmnoP9mJndiJneg/IQ3SIA3S6D9pkAZpkAbpP7ETO7ETO+k/+ZZv+ZZv6T9CGqRBGqTpP4qd2Imd2Ok/0iAN0iAN6j8apEEapEHqP2IndmInduo/q6qqqqqq6j/zLd/yLd/qPzuxEzuxE+s/gzRIgzRI6z/Lt3zLt3zrPxQ7sRM7ses/XL7lW77l6z+kQRqkQRrsP+zETuzETuw/NUiDNEiD7D99y7d8y7fsP8VO7MRO7Ow/DdIgDdIg7T9VVVVVVVXtP57YiZ3Yie0/5lu+5Vu+7T8u3/It3/LtP3ZiJ3ZiJ+4/vuVbvuVb7j8HaZAGaZDuP0/sxE7sxO4/l2/5lm/57j/f8i3f8i3vPyd2Yid2Yu8/cPmWb/mW7z+4fMu3fMvvPwAAAAAAAPA/\",\"dtype\":\"float64\",\"shape\":[156]}},\"selected\":{\"id\":\"f5abb592-ddcc-4578-8aed-6720fadfbf54\",\"type\":\"Selection\"},\"selection_policy\":{\"id\":\"b30269fc-ce68-4a75-96ee-274cb20c628b\",\"type\":\"UnionRenderers\"}},\"id\":\"32c4e1db-07f7-4448-acf2-4aee5331aa8f\",\"type\":\"ColumnDataSource\"}],\"root_ids\":[\"e85b03fe-08fa-4963-96ee-a1b1ff0c7060\"]},\"title\":\"Bokeh Application\",\"version\":\"0.12.16\"}};\n",
       "  var render_items = [{\"docid\":\"7a4b0299-c146-4194-9607-0f5590b53021\",\"elementid\":\"becfcc87-9d38-407d-b75b-e8046137ae66\",\"modelid\":\"e85b03fe-08fa-4963-96ee-a1b1ff0c7060\"}];\n",
       "  root.Bokeh.embed.embed_items_notebook(docs_json, render_items);\n",
       "\n",
       "  }\n",
       "  if (root.Bokeh !== undefined) {\n",
       "    embed_document(root);\n",
       "  } else {\n",
       "    var attempts = 0;\n",
       "    var timer = setInterval(function(root) {\n",
       "      if (root.Bokeh !== undefined) {\n",
       "        embed_document(root);\n",
       "        clearInterval(timer);\n",
       "      }\n",
       "      attempts++;\n",
       "      if (attempts > 100) {\n",
       "        console.log(\"Bokeh: ERROR: Unable to run BokehJS code because BokehJS library is missing\")\n",
       "        clearInterval(timer);\n",
       "      }\n",
       "    }, 10, root)\n",
       "  }\n",
       "})(window);"
      ],
      "application/vnd.bokehjs_exec.v0+json": ""
     },
     "metadata": {
      "application/vnd.bokehjs_exec.v0+json": {
       "id": "e85b03fe-08fa-4963-96ee-a1b1ff0c7060"
      }
     },
     "output_type": "display_data"
    }
   ],
   "source": [
    "p = bootcamp_utils.bokeh_ecdf_collection(df.loc[df['year']==1987, :], \n",
    "                                         cats='species', \n",
    "                                         val='beak depth (mm)')\n",
    "\n",
    "bokeh.io.show(p)"
   ]
  },
  {
   "cell_type": "markdown",
   "metadata": {},
   "source": [
    "#### Histograms\n",
    "\n",
    "The function `bootcamp_utils.bokeh_histogram()` generates a histogram, plotted as steps. If you want to add multiple histograms to a plot, we can pass the `p` kwarg to say on which plot to populate the histogram."
   ]
  },
  {
   "cell_type": "code",
   "execution_count": 13,
   "metadata": {},
   "outputs": [
    {
     "data": {
      "text/html": [
       "\n",
       "<div class=\"bk-root\">\n",
       "    <div class=\"bk-plotdiv\" id=\"efe0b563-ceef-482b-a1e3-c4be690561df\"></div>\n",
       "</div>"
      ]
     },
     "metadata": {},
     "output_type": "display_data"
    },
    {
     "data": {
      "application/javascript": [
       "(function(root) {\n",
       "  function embed_document(root) {\n",
       "    \n",
       "  var docs_json = {\"85f6719d-3810-47ec-9e44-820c2afc9e3e\":{\"roots\":{\"references\":[{\"attributes\":{\"data_source\":{\"id\":\"f0431ff3-af0b-42bf-94d7-656f6d047d0d\",\"type\":\"ColumnDataSource\"},\"glyph\":{\"id\":\"781e8d20-d0da-4efc-9fd3-d37b346e081f\",\"type\":\"Patch\"},\"hover_glyph\":null,\"muted_glyph\":null,\"nonselection_glyph\":{\"id\":\"71f91a0f-6575-435f-ac19-d97d098cfb6f\",\"type\":\"Patch\"},\"selection_glyph\":null,\"view\":{\"id\":\"c3201cf1-2f93-4a40-a4c8-972d6ec03f25\",\"type\":\"CDSView\"}},\"id\":\"4236a8f1-7c93-47a4-9ced-bce9690a89ac\",\"type\":\"GlyphRenderer\"},{\"attributes\":{\"data_source\":{\"id\":\"0a267bde-347f-44fa-8eae-42953d8494b7\",\"type\":\"ColumnDataSource\"},\"glyph\":{\"id\":\"d9fabfb1-8a4e-4a7d-99e1-c9ed4069c719\",\"type\":\"Line\"},\"hover_glyph\":null,\"muted_glyph\":null,\"nonselection_glyph\":{\"id\":\"5ee5b0eb-21a8-40a7-9c2b-a9045feccdb5\",\"type\":\"Line\"},\"selection_glyph\":null,\"view\":{\"id\":\"bc5fd719-91a3-4c53-9dfd-81e43f847a28\",\"type\":\"CDSView\"}},\"id\":\"5988d679-82be-421b-ac40-e90f90a5830b\",\"type\":\"GlyphRenderer\"},{\"attributes\":{\"source\":{\"id\":\"0a267bde-347f-44fa-8eae-42953d8494b7\",\"type\":\"ColumnDataSource\"}},\"id\":\"bc5fd719-91a3-4c53-9dfd-81e43f847a28\",\"type\":\"CDSView\"},{\"attributes\":{\"callback\":null,\"data\":{\"x\":{\"__ndarray__\":\"FK5H4XoUH0AUrkfhehQfQCIiIiIiIiBAIiIiIiIiIEA6baDTBrogQDptoNMGuiBAUrgehetRIUBSuB6F61EhQGoDnTbQ6SFAagOdNtDpIUCCThvotIEiQIJOG+i0gSJAmpmZmZkZI0CamZmZmRkjQLHkF0t+sSNAseQXS36xI0DJL5b8YkkkQMkvlvxiSSRA4XoUrkfhJEDhehSuR+EkQPnFkl8seSVA+cWSXyx5JUAREREREREmQBERERERESZAKVyPwvWoJkApXI/C9agmQA==\",\"dtype\":\"float64\",\"shape\":[26]},\"y\":{\"__ndarray__\":\"AAAAAAAAAABUSvBaYai7P1RK8FphqLs/y1/DaTqYsD/LX8NpOpiwP/WEOxdrbM4/9YQ7F2tszj9gcn/AUoLnP2Byf8BSguc/+xgDymNZ7D/7GAPKY1nsP7EPpZ5X5Og/sQ+lnlfk6D/iNzQESb7UP+I3NARJvtQ/ENVZ4k0gxj8Q1VniTSDGPxDVWeJNIKY/ENVZ4k0gpj8AAAAAAAAAAAAAAAAAAAAAAAAAAAAAAAAAAAAAAAAAABDVWeJNIJY/ENVZ4k0glj8AAAAAAAAAAA==\",\"dtype\":\"float64\",\"shape\":[26]}},\"selected\":{\"id\":\"7a7bd267-a005-4a0a-bae4-5c623118b431\",\"type\":\"Selection\"},\"selection_policy\":{\"id\":\"d6083ccd-0b09-483b-884f-be53bdb084ff\",\"type\":\"UnionRenderers\"}},\"id\":\"c695ea1a-874f-423a-81b7-d6995d2c8902\",\"type\":\"ColumnDataSource\"},{\"attributes\":{\"fill_alpha\":0.1,\"fill_color\":\"#1f77b4\",\"line_alpha\":0.1,\"line_color\":\"#1f77b4\",\"x\":{\"field\":\"x\"},\"y\":{\"field\":\"y\"}},\"id\":\"71f91a0f-6575-435f-ac19-d97d098cfb6f\",\"type\":\"Patch\"},{\"attributes\":{\"source\":{\"id\":\"f0431ff3-af0b-42bf-94d7-656f6d047d0d\",\"type\":\"ColumnDataSource\"}},\"id\":\"c3201cf1-2f93-4a40-a4c8-972d6ec03f25\",\"type\":\"CDSView\"},{\"attributes\":{},\"id\":\"4c487af3-9236-4582-acf0-3d918d25a5be\",\"type\":\"Selection\"},{\"attributes\":{},\"id\":\"5a7a7763-01a3-4139-8cb9-7a5405402a87\",\"type\":\"UnionRenderers\"},{\"attributes\":{},\"id\":\"5fe60e6e-7ac1-45d1-bfd8-0e3b686166da\",\"type\":\"Selection\"},{\"attributes\":{},\"id\":\"bf19df7d-b2de-4dce-a909-3c6f0c7fea12\",\"type\":\"UnionRenderers\"},{\"attributes\":{},\"id\":\"da66d2b7-4489-4eda-846f-433ee5d66645\",\"type\":\"UnionRenderers\"},{\"attributes\":{},\"id\":\"deb4fded-90f2-402b-938a-f8ed18e710a9\",\"type\":\"Selection\"},{\"attributes\":{\"label\":{\"value\":\"scandens\"},\"renderers\":[{\"id\":\"4236a8f1-7c93-47a4-9ced-bce9690a89ac\",\"type\":\"GlyphRenderer\"}]},\"id\":\"2a8998fa-63f9-451a-9857-5799d239de68\",\"type\":\"LegendItem\"},{\"attributes\":{\"line_alpha\":0.1,\"line_color\":\"#1f77b4\",\"x\":{\"field\":\"x\"},\"y\":{\"field\":\"y\"}},\"id\":\"b247f32b-652c-4686-9102-522c7f5d9d98\",\"type\":\"Line\"},{\"attributes\":{\"line_color\":\"orange\",\"x\":{\"field\":\"x\"},\"y\":{\"field\":\"y\"}},\"id\":\"69ff0aee-baec-490b-bc4d-5118f8da75fe\",\"type\":\"Line\"},{\"attributes\":{\"line_color\":\"orange\",\"x\":{\"field\":\"x\"},\"y\":{\"field\":\"y\"}},\"id\":\"dee774e2-fac9-4ec2-b6e9-ae945353b9f1\",\"type\":\"Line\"},{\"attributes\":{\"callback\":null,\"data\":{\"x\":[7.77,11.33],\"y\":[0,0]},\"selected\":{\"id\":\"94166f49-f1a5-4b0b-81d2-fdb77b169fbd\",\"type\":\"Selection\"},\"selection_policy\":{\"id\":\"8bdd1f51-6708-4a26-adfb-0a8dd6680c16\",\"type\":\"UnionRenderers\"}},\"id\":\"b14ad4a3-06b4-48f9-af64-2356778dbe6e\",\"type\":\"ColumnDataSource\"},{\"attributes\":{\"fill_alpha\":0.5,\"fill_color\":\"orange\",\"line_alpha\":0,\"line_color\":\"#1f77b4\",\"x\":{\"field\":\"x\"},\"y\":{\"field\":\"y\"}},\"id\":\"781e8d20-d0da-4efc-9fd3-d37b346e081f\",\"type\":\"Patch\"},{\"attributes\":{\"source\":{\"id\":\"c695ea1a-874f-423a-81b7-d6995d2c8902\",\"type\":\"ColumnDataSource\"}},\"id\":\"ccb2ff21-646f-4638-ab5e-4a24049956d4\",\"type\":\"CDSView\"},{\"attributes\":{\"data_source\":{\"id\":\"c695ea1a-874f-423a-81b7-d6995d2c8902\",\"type\":\"ColumnDataSource\"},\"glyph\":{\"id\":\"69ff0aee-baec-490b-bc4d-5118f8da75fe\",\"type\":\"Line\"},\"hover_glyph\":null,\"muted_glyph\":null,\"nonselection_glyph\":{\"id\":\"b247f32b-652c-4686-9102-522c7f5d9d98\",\"type\":\"Line\"},\"selection_glyph\":null,\"view\":{\"id\":\"ccb2ff21-646f-4638-ab5e-4a24049956d4\",\"type\":\"CDSView\"}},\"id\":\"2ca91d25-eaf1-4657-b704-43b3f308d5b9\",\"type\":\"GlyphRenderer\"},{\"attributes\":{\"line_alpha\":0.1,\"line_color\":\"#1f77b4\",\"x\":{\"field\":\"x\"},\"y\":{\"field\":\"y\"}},\"id\":\"e08bc444-c636-4ecf-85ed-d798ddac5bdb\",\"type\":\"Line\"},{\"attributes\":{\"data_source\":{\"id\":\"b14ad4a3-06b4-48f9-af64-2356778dbe6e\",\"type\":\"ColumnDataSource\"},\"glyph\":{\"id\":\"dee774e2-fac9-4ec2-b6e9-ae945353b9f1\",\"type\":\"Line\"},\"hover_glyph\":null,\"muted_glyph\":null,\"nonselection_glyph\":{\"id\":\"e08bc444-c636-4ecf-85ed-d798ddac5bdb\",\"type\":\"Line\"},\"selection_glyph\":null,\"view\":{\"id\":\"ab11b4f8-7931-45c8-b837-6ebc79434086\",\"type\":\"CDSView\"}},\"id\":\"210bff13-3c76-46c6-a849-4d3d8ecd6caf\",\"type\":\"GlyphRenderer\"},{\"attributes\":{\"source\":{\"id\":\"b14ad4a3-06b4-48f9-af64-2356778dbe6e\",\"type\":\"ColumnDataSource\"}},\"id\":\"ab11b4f8-7931-45c8-b837-6ebc79434086\",\"type\":\"CDSView\"},{\"attributes\":{},\"id\":\"07828827-4771-448a-b7ed-eeef2502a92c\",\"type\":\"Selection\"},{\"attributes\":{},\"id\":\"8bdd1f51-6708-4a26-adfb-0a8dd6680c16\",\"type\":\"UnionRenderers\"},{\"attributes\":{},\"id\":\"94166f49-f1a5-4b0b-81d2-fdb77b169fbd\",\"type\":\"Selection\"},{\"attributes\":{},\"id\":\"d6083ccd-0b09-483b-884f-be53bdb084ff\",\"type\":\"UnionRenderers\"},{\"attributes\":{},\"id\":\"7a7bd267-a005-4a0a-bae4-5c623118b431\",\"type\":\"Selection\"},{\"attributes\":{\"below\":[{\"id\":\"9f0682d0-9fdf-43a2-a784-009c1fea2969\",\"type\":\"LinearAxis\"}],\"left\":[{\"id\":\"2425cf29-c760-417c-9bee-1a0773405bed\",\"type\":\"LinearAxis\"}],\"plot_height\":300,\"plot_width\":450,\"renderers\":[{\"id\":\"9f0682d0-9fdf-43a2-a784-009c1fea2969\",\"type\":\"LinearAxis\"},{\"id\":\"a9c2cfe1-08b7-40ec-82e0-23262f2e74a8\",\"type\":\"Grid\"},{\"id\":\"2425cf29-c760-417c-9bee-1a0773405bed\",\"type\":\"LinearAxis\"},{\"id\":\"4978a254-00d7-44e8-a4d3-5d18924c838a\",\"type\":\"Grid\"},{\"id\":\"4118139c-6a2c-480b-a98c-95cd079ae1b6\",\"type\":\"BoxAnnotation\"},{\"id\":\"2986b28b-bc5f-4115-96cd-10417fa6902e\",\"type\":\"Legend\"},{\"id\":\"216ff741-886c-4b79-b041-b7c1982e5ac8\",\"type\":\"GlyphRenderer\"},{\"id\":\"2dcd4702-f6ca-482d-8bd6-6bdd141dcfba\",\"type\":\"GlyphRenderer\"},{\"id\":\"5988d679-82be-421b-ac40-e90f90a5830b\",\"type\":\"GlyphRenderer\"},{\"id\":\"4236a8f1-7c93-47a4-9ced-bce9690a89ac\",\"type\":\"GlyphRenderer\"},{\"id\":\"2ca91d25-eaf1-4657-b704-43b3f308d5b9\",\"type\":\"GlyphRenderer\"},{\"id\":\"210bff13-3c76-46c6-a849-4d3d8ecd6caf\",\"type\":\"GlyphRenderer\"}],\"title\":null,\"toolbar\":{\"id\":\"6a7f9f7c-2025-45b1-9e4d-1fa436899ae1\",\"type\":\"Toolbar\"},\"x_range\":{\"id\":\"f6e948ee-f4d3-4b61-a539-4d094cfec68e\",\"type\":\"DataRange1d\"},\"x_scale\":{\"id\":\"49bbf3a6-9062-4808-8bef-397e39b1b153\",\"type\":\"LinearScale\"},\"y_range\":{\"id\":\"9f8083ff-c7f8-47fb-84cb-b6d636735453\",\"type\":\"DataRange1d\"},\"y_scale\":{\"id\":\"ee423ba3-3ff7-456f-b7b7-1fa1a50809f0\",\"type\":\"LinearScale\"}},\"id\":\"de3dbbcf-adb1-4ea3-97e3-ea3e67b7b215\",\"subtype\":\"Figure\",\"type\":\"Plot\"},{\"attributes\":{\"dimension\":1,\"plot\":{\"id\":\"de3dbbcf-adb1-4ea3-97e3-ea3e67b7b215\",\"subtype\":\"Figure\",\"type\":\"Plot\"},\"ticker\":{\"id\":\"22a6d573-543b-425b-a300-01f613cfd1f0\",\"type\":\"BasicTicker\"}},\"id\":\"4978a254-00d7-44e8-a4d3-5d18924c838a\",\"type\":\"Grid\"},{\"attributes\":{\"active_drag\":\"auto\",\"active_inspect\":\"auto\",\"active_scroll\":\"auto\",\"active_tap\":\"auto\",\"tools\":[{\"id\":\"c2798588-7775-438e-8c01-776196aa2adb\",\"type\":\"PanTool\"},{\"id\":\"ddcbdeb2-c198-475c-a1e8-5dc5cc184a6d\",\"type\":\"WheelZoomTool\"},{\"id\":\"031cbdf4-774e-4616-b70f-f748c526645a\",\"type\":\"BoxZoomTool\"},{\"id\":\"5707eed7-94ab-48b9-9da2-59c1cf0d56cd\",\"type\":\"SaveTool\"},{\"id\":\"fbe445f2-2ecf-4b3c-9e5f-f46ea01d2ba5\",\"type\":\"ResetTool\"},{\"id\":\"af27ea36-9a00-487e-be76-20974bc3f2fb\",\"type\":\"HelpTool\"}]},\"id\":\"6a7f9f7c-2025-45b1-9e4d-1fa436899ae1\",\"type\":\"Toolbar\"},{\"attributes\":{\"fill_alpha\":0.1,\"fill_color\":\"#1f77b4\",\"line_alpha\":0.1,\"line_color\":\"#1f77b4\",\"x\":{\"field\":\"x\"},\"y\":{\"field\":\"y\"}},\"id\":\"71da35bf-757c-4311-8722-1269a3e51f2c\",\"type\":\"Patch\"},{\"attributes\":{\"callback\":null,\"data\":{\"x\":{\"__ndarray__\":\"FK5H4XoUH0AUrkfhehQfQCIiIiIiIiBAIiIiIiIiIEA6baDTBrogQDptoNMGuiBAUrgehetRIUBSuB6F61EhQGoDnTbQ6SFAagOdNtDpIUCCThvotIEiQIJOG+i0gSJAmpmZmZkZI0CamZmZmRkjQLHkF0t+sSNAseQXS36xI0DJL5b8YkkkQMkvlvxiSSRA4XoUrkfhJEDhehSuR+EkQPnFkl8seSVA+cWSXyx5JUAREREREREmQBERERERESZAKVyPwvWoJkApXI/C9agmQClcj8L1qCZAFK5H4XoUH0A=\",\"dtype\":\"float64\",\"shape\":[28]},\"y\":{\"__ndarray__\":\"AAAAAAAAAABUSvBaYai7P1RK8FphqLs/y1/DaTqYsD/LX8NpOpiwP/WEOxdrbM4/9YQ7F2tszj9gcn/AUoLnP2Byf8BSguc/+xgDymNZ7D/7GAPKY1nsP7EPpZ5X5Og/sQ+lnlfk6D/iNzQESb7UP+I3NARJvtQ/ENVZ4k0gxj8Q1VniTSDGPxDVWeJNIKY/ENVZ4k0gpj8AAAAAAAAAAAAAAAAAAAAAAAAAAAAAAAAAAAAAAAAAABDVWeJNIJY/ENVZ4k0glj8AAAAAAAAAAAAAAAAAAAAAAAAAAAAAAAA=\",\"dtype\":\"float64\",\"shape\":[28]}},\"selected\":{\"id\":\"07828827-4771-448a-b7ed-eeef2502a92c\",\"type\":\"Selection\"},\"selection_policy\":{\"id\":\"f3ae3c19-80e8-4498-9a81-943f1d8a0d0f\",\"type\":\"UnionRenderers\"}},\"id\":\"f0431ff3-af0b-42bf-94d7-656f6d047d0d\",\"type\":\"ColumnDataSource\"},{\"attributes\":{},\"id\":\"f3ae3c19-80e8-4498-9a81-943f1d8a0d0f\",\"type\":\"UnionRenderers\"},{\"attributes\":{\"data_source\":{\"id\":\"c61683e1-0a39-4339-b5df-8667e20a85fd\",\"type\":\"ColumnDataSource\"},\"glyph\":{\"id\":\"e3506790-a462-44fd-9c8e-6ac3747a8a42\",\"type\":\"Patch\"},\"hover_glyph\":null,\"muted_glyph\":null,\"nonselection_glyph\":{\"id\":\"71da35bf-757c-4311-8722-1269a3e51f2c\",\"type\":\"Patch\"},\"selection_glyph\":null,\"view\":{\"id\":\"f86e3364-b317-4119-86ef-b7c444a2556a\",\"type\":\"CDSView\"}},\"id\":\"216ff741-886c-4b79-b041-b7c1982e5ac8\",\"type\":\"GlyphRenderer\"},{\"attributes\":{\"callback\":null},\"id\":\"f6e948ee-f4d3-4b61-a539-4d094cfec68e\",\"type\":\"DataRange1d\"},{\"attributes\":{\"fill_alpha\":0.5,\"fill_color\":\"#1f77b4\",\"line_alpha\":0,\"line_color\":\"#1f77b4\",\"x\":{\"field\":\"x\"},\"y\":{\"field\":\"y\"}},\"id\":\"e3506790-a462-44fd-9c8e-6ac3747a8a42\",\"type\":\"Patch\"},{\"attributes\":{},\"id\":\"49bbf3a6-9062-4808-8bef-397e39b1b153\",\"type\":\"LinearScale\"},{\"attributes\":{\"callback\":null},\"id\":\"9f8083ff-c7f8-47fb-84cb-b6d636735453\",\"type\":\"DataRange1d\"},{\"attributes\":{},\"id\":\"ee423ba3-3ff7-456f-b7b7-1fa1a50809f0\",\"type\":\"LinearScale\"},{\"attributes\":{\"formatter\":{\"id\":\"977822a6-21d3-4a87-a49d-48df6e823e87\",\"type\":\"BasicTickFormatter\"},\"plot\":{\"id\":\"de3dbbcf-adb1-4ea3-97e3-ea3e67b7b215\",\"subtype\":\"Figure\",\"type\":\"Plot\"},\"ticker\":{\"id\":\"22a6d573-543b-425b-a300-01f613cfd1f0\",\"type\":\"BasicTicker\"}},\"id\":\"2425cf29-c760-417c-9bee-1a0773405bed\",\"type\":\"LinearAxis\"},{\"attributes\":{\"axis_label\":\"beak depth (mm)\",\"formatter\":{\"id\":\"c652ea08-e74e-4143-804e-b0f58d4a0fca\",\"type\":\"BasicTickFormatter\"},\"plot\":{\"id\":\"de3dbbcf-adb1-4ea3-97e3-ea3e67b7b215\",\"subtype\":\"Figure\",\"type\":\"Plot\"},\"ticker\":{\"id\":\"22df5578-8dea-4167-bc33-3bbc6f724605\",\"type\":\"BasicTicker\"}},\"id\":\"9f0682d0-9fdf-43a2-a784-009c1fea2969\",\"type\":\"LinearAxis\"},{\"attributes\":{\"plot\":{\"id\":\"de3dbbcf-adb1-4ea3-97e3-ea3e67b7b215\",\"subtype\":\"Figure\",\"type\":\"Plot\"},\"ticker\":{\"id\":\"22df5578-8dea-4167-bc33-3bbc6f724605\",\"type\":\"BasicTicker\"}},\"id\":\"a9c2cfe1-08b7-40ec-82e0-23262f2e74a8\",\"type\":\"Grid\"},{\"attributes\":{},\"id\":\"22a6d573-543b-425b-a300-01f613cfd1f0\",\"type\":\"BasicTicker\"},{\"attributes\":{\"label\":{\"value\":\"fortis\"},\"renderers\":[{\"id\":\"216ff741-886c-4b79-b041-b7c1982e5ac8\",\"type\":\"GlyphRenderer\"}]},\"id\":\"4fa2227b-af9b-4a2b-b348-69f0e33789e8\",\"type\":\"LegendItem\"},{\"attributes\":{\"callback\":null,\"data\":{\"x\":{\"__ndarray__\":\"AAAAAAAAHEAAAAAAAAAcQAd1UAd10BxAB3VQB3XQHEAP6qAO6qAdQA/qoA7qoB1AFl/xFV9xHkAWX/EVX3EeQB3UQR3UQR9AHdRBHdRBH0CSJEmSJAkgQJIkSZIkCSBAFl/xFV9xIEAWX/EVX3EgQJqZmZmZ2SBAmpmZmZnZIEAd1EEd1EEhQB3UQR3UQSFAoQ7qoA6qIUChDuqgDqohQCRJkiRJEiJAJEmSJEkSIkCogzqog3oiQKiDOqiDeiJALL7iK77iIkAsvuIrvuIiQK/4iq/4SiNAr/iKr/hKI0AzMzMzM7MjQDMzMzMzsyNAtm3btm0bJEC2bdu2bRskQDqogzqogyRAOqiDOqiDJEC+4iu+4uskQL7iK77i6yRAQh3UQR1UJUBCHdRBHVQlQMVXfMVXvCVAxVd8xVe8JUBJkiRJkiQmQEmSJEmSJCZAzMzMzMyMJkDMzMzMzIwmQFAHdVAH9SZAUAd1UAf1JkDUQR3UQV0nQNRBHdRBXSdAWHzFV3zFJ0BYfMVXfMUnQNu2bdu2LShA27Zt27YtKEBe8RVf8ZUoQF7xFV/xlShA4iu+4iv+KEDiK77iK/4oQGZmZmZmZilAZmZmZmZmKUBmZmZmZmYpQAAAAAAAABxA\",\"dtype\":\"float64\",\"shape\":[60]},\"y\":{\"__ndarray__\":\"AAAAAAAAAAC1+a4B+5CJP7X5rgH7kIk/MDtDQbwskz8wO0NBvCyTP7X5rgH7kKk/tfmuAfuQqT9/Gnmh216mP38aeaHbXqY/fxp5odtetj9/Gnmh2162P8vTGrkkx8A/y9MauSTHwD/8txrCOfXPP/y3GsI59c8/qgcvffD50T+qBy998PnRP321te0+99k/fbW17T732T9BYdeJkvbbP0Fh14mS9ts/Sn88VXjG4j9KfzxVeMbiP5ZQ8jmij90/llDyOaKP3T/nMR6vRvrgP+cxHq9G+uA/4hzeddZc3D/iHN511lzcPwaCoSlzxNg/BoKhKXPE2D/K2ORhGsPMP8rY5GEaw8w/L+nJsQoqyz8v6cmxCirLPzA7Q0G8LMM/MDtDQbwswz+aGnmh2162P5oaeaHbXrY/lvmuAfuQqT+W+a4B+5CpP9b5rgH7kJk/1vmuAfuQmT+W+a4B+5CJP5b5rgH7kIk/lvmuAfuQiT+W+a4B+5CJPwAAAAAAAAAAAAAAAAAAAAAAAAAAAAAAAAAAAAAAAAAAAAAAAAAAAAAAAAAAAAAAAJb5rgH7kHk/lvmuAfuQeT+W+a4B+5B5P5b5rgH7kHk/AAAAAAAAAAAAAAAAAAAAAAAAAAAAAAAA\",\"dtype\":\"float64\",\"shape\":[60]}},\"selected\":{\"id\":\"4c487af3-9236-4582-acf0-3d918d25a5be\",\"type\":\"Selection\"},\"selection_policy\":{\"id\":\"5a7a7763-01a3-4139-8cb9-7a5405402a87\",\"type\":\"UnionRenderers\"}},\"id\":\"c61683e1-0a39-4339-b5df-8667e20a85fd\",\"type\":\"ColumnDataSource\"},{\"attributes\":{\"bottom_units\":\"screen\",\"fill_alpha\":{\"value\":0.5},\"fill_color\":{\"value\":\"lightgrey\"},\"left_units\":\"screen\",\"level\":\"overlay\",\"line_alpha\":{\"value\":1.0},\"line_color\":{\"value\":\"black\"},\"line_dash\":[4,4],\"line_width\":{\"value\":2},\"plot\":null,\"render_mode\":\"css\",\"right_units\":\"screen\",\"top_units\":\"screen\"},\"id\":\"4118139c-6a2c-480b-a98c-95cd079ae1b6\",\"type\":\"BoxAnnotation\"},{\"attributes\":{},\"id\":\"c2798588-7775-438e-8c01-776196aa2adb\",\"type\":\"PanTool\"},{\"attributes\":{\"source\":{\"id\":\"c61683e1-0a39-4339-b5df-8667e20a85fd\",\"type\":\"ColumnDataSource\"}},\"id\":\"f86e3364-b317-4119-86ef-b7c444a2556a\",\"type\":\"CDSView\"},{\"attributes\":{},\"id\":\"ddcbdeb2-c198-475c-a1e8-5dc5cc184a6d\",\"type\":\"WheelZoomTool\"},{\"attributes\":{\"overlay\":{\"id\":\"4118139c-6a2c-480b-a98c-95cd079ae1b6\",\"type\":\"BoxAnnotation\"}},\"id\":\"031cbdf4-774e-4616-b70f-f748c526645a\",\"type\":\"BoxZoomTool\"},{\"attributes\":{},\"id\":\"5707eed7-94ab-48b9-9da2-59c1cf0d56cd\",\"type\":\"SaveTool\"},{\"attributes\":{},\"id\":\"fbe445f2-2ecf-4b3c-9e5f-f46ea01d2ba5\",\"type\":\"ResetTool\"},{\"attributes\":{},\"id\":\"af27ea36-9a00-487e-be76-20974bc3f2fb\",\"type\":\"HelpTool\"},{\"attributes\":{\"callback\":null,\"data\":{\"x\":{\"__ndarray__\":\"AAAAAAAAHEAAAAAAAAAcQAd1UAd10BxAB3VQB3XQHEAP6qAO6qAdQA/qoA7qoB1AFl/xFV9xHkAWX/EVX3EeQB3UQR3UQR9AHdRBHdRBH0CSJEmSJAkgQJIkSZIkCSBAFl/xFV9xIEAWX/EVX3EgQJqZmZmZ2SBAmpmZmZnZIEAd1EEd1EEhQB3UQR3UQSFAoQ7qoA6qIUChDuqgDqohQCRJkiRJEiJAJEmSJEkSIkCogzqog3oiQKiDOqiDeiJALL7iK77iIkAsvuIrvuIiQK/4iq/4SiNAr/iKr/hKI0AzMzMzM7MjQDMzMzMzsyNAtm3btm0bJEC2bdu2bRskQDqogzqogyRAOqiDOqiDJEC+4iu+4uskQL7iK77i6yRAQh3UQR1UJUBCHdRBHVQlQMVXfMVXvCVAxVd8xVe8JUBJkiRJkiQmQEmSJEmSJCZAzMzMzMyMJkDMzMzMzIwmQFAHdVAH9SZAUAd1UAf1JkDUQR3UQV0nQNRBHdRBXSdAWHzFV3zFJ0BYfMVXfMUnQNu2bdu2LShA27Zt27YtKEBe8RVf8ZUoQF7xFV/xlShA4iu+4iv+KEDiK77iK/4oQGZmZmZmZilAZmZmZmZmKUA=\",\"dtype\":\"float64\",\"shape\":[58]},\"y\":{\"__ndarray__\":\"AAAAAAAAAAC1+a4B+5CJP7X5rgH7kIk/MDtDQbwskz8wO0NBvCyTP7X5rgH7kKk/tfmuAfuQqT9/Gnmh216mP38aeaHbXqY/fxp5odtetj9/Gnmh2162P8vTGrkkx8A/y9MauSTHwD/8txrCOfXPP/y3GsI59c8/qgcvffD50T+qBy998PnRP321te0+99k/fbW17T732T9BYdeJkvbbP0Fh14mS9ts/Sn88VXjG4j9KfzxVeMbiP5ZQ8jmij90/llDyOaKP3T/nMR6vRvrgP+cxHq9G+uA/4hzeddZc3D/iHN511lzcPwaCoSlzxNg/BoKhKXPE2D/K2ORhGsPMP8rY5GEaw8w/L+nJsQoqyz8v6cmxCirLPzA7Q0G8LMM/MDtDQbwswz+aGnmh2162P5oaeaHbXrY/lvmuAfuQqT+W+a4B+5CpP9b5rgH7kJk/1vmuAfuQmT+W+a4B+5CJP5b5rgH7kIk/lvmuAfuQiT+W+a4B+5CJPwAAAAAAAAAAAAAAAAAAAAAAAAAAAAAAAAAAAAAAAAAAAAAAAAAAAAAAAAAAAAAAAJb5rgH7kHk/lvmuAfuQeT+W+a4B+5B5P5b5rgH7kHk/AAAAAAAAAAA=\",\"dtype\":\"float64\",\"shape\":[58]}},\"selected\":{\"id\":\"deb4fded-90f2-402b-938a-f8ed18e710a9\",\"type\":\"Selection\"},\"selection_policy\":{\"id\":\"bf19df7d-b2de-4dce-a909-3c6f0c7fea12\",\"type\":\"UnionRenderers\"}},\"id\":\"77a7da21-c7fd-4f5c-9bb3-7cb6e570b2e7\",\"type\":\"ColumnDataSource\"},{\"attributes\":{},\"id\":\"977822a6-21d3-4a87-a49d-48df6e823e87\",\"type\":\"BasicTickFormatter\"},{\"attributes\":{},\"id\":\"c652ea08-e74e-4143-804e-b0f58d4a0fca\",\"type\":\"BasicTickFormatter\"},{\"attributes\":{\"line_alpha\":0.1,\"line_color\":\"#1f77b4\",\"x\":{\"field\":\"x\"},\"y\":{\"field\":\"y\"}},\"id\":\"31f68cd0-5b99-45ad-be2d-99a5b17f4f42\",\"type\":\"Line\"},{\"attributes\":{\"line_color\":\"#1f77b4\",\"x\":{\"field\":\"x\"},\"y\":{\"field\":\"y\"}},\"id\":\"17a1f6e7-ee56-4f2a-8026-5544a839007d\",\"type\":\"Line\"},{\"attributes\":{\"line_color\":\"#1f77b4\",\"x\":{\"field\":\"x\"},\"y\":{\"field\":\"y\"}},\"id\":\"d9fabfb1-8a4e-4a7d-99e1-c9ed4069c719\",\"type\":\"Line\"},{\"attributes\":{\"items\":[{\"id\":\"4fa2227b-af9b-4a2b-b348-69f0e33789e8\",\"type\":\"LegendItem\"},{\"id\":\"2a8998fa-63f9-451a-9857-5799d239de68\",\"type\":\"LegendItem\"}],\"plot\":{\"id\":\"de3dbbcf-adb1-4ea3-97e3-ea3e67b7b215\",\"subtype\":\"Figure\",\"type\":\"Plot\"}},\"id\":\"2986b28b-bc5f-4115-96cd-10417fa6902e\",\"type\":\"Legend\"},{\"attributes\":{\"data_source\":{\"id\":\"77a7da21-c7fd-4f5c-9bb3-7cb6e570b2e7\",\"type\":\"ColumnDataSource\"},\"glyph\":{\"id\":\"17a1f6e7-ee56-4f2a-8026-5544a839007d\",\"type\":\"Line\"},\"hover_glyph\":null,\"muted_glyph\":null,\"nonselection_glyph\":{\"id\":\"31f68cd0-5b99-45ad-be2d-99a5b17f4f42\",\"type\":\"Line\"},\"selection_glyph\":null,\"view\":{\"id\":\"009bafdd-0ed2-4b43-8556-0920ee144e9f\",\"type\":\"CDSView\"}},\"id\":\"2dcd4702-f6ca-482d-8bd6-6bdd141dcfba\",\"type\":\"GlyphRenderer\"},{\"attributes\":{},\"id\":\"22df5578-8dea-4167-bc33-3bbc6f724605\",\"type\":\"BasicTicker\"},{\"attributes\":{\"line_alpha\":0.1,\"line_color\":\"#1f77b4\",\"x\":{\"field\":\"x\"},\"y\":{\"field\":\"y\"}},\"id\":\"5ee5b0eb-21a8-40a7-9c2b-a9045feccdb5\",\"type\":\"Line\"},{\"attributes\":{\"source\":{\"id\":\"77a7da21-c7fd-4f5c-9bb3-7cb6e570b2e7\",\"type\":\"ColumnDataSource\"}},\"id\":\"009bafdd-0ed2-4b43-8556-0920ee144e9f\",\"type\":\"CDSView\"},{\"attributes\":{\"callback\":null,\"data\":{\"x\":[7.0,12.7],\"y\":[0,0]},\"selected\":{\"id\":\"5fe60e6e-7ac1-45d1-bfd8-0e3b686166da\",\"type\":\"Selection\"},\"selection_policy\":{\"id\":\"da66d2b7-4489-4eda-846f-433ee5d66645\",\"type\":\"UnionRenderers\"}},\"id\":\"0a267bde-347f-44fa-8eae-42953d8494b7\",\"type\":\"ColumnDataSource\"}],\"root_ids\":[\"de3dbbcf-adb1-4ea3-97e3-ea3e67b7b215\"]},\"title\":\"Bokeh Application\",\"version\":\"0.12.16\"}};\n",
       "  var render_items = [{\"docid\":\"85f6719d-3810-47ec-9e44-820c2afc9e3e\",\"elementid\":\"efe0b563-ceef-482b-a1e3-c4be690561df\",\"modelid\":\"de3dbbcf-adb1-4ea3-97e3-ea3e67b7b215\"}];\n",
       "  root.Bokeh.embed.embed_items_notebook(docs_json, render_items);\n",
       "\n",
       "  }\n",
       "  if (root.Bokeh !== undefined) {\n",
       "    embed_document(root);\n",
       "  } else {\n",
       "    var attempts = 0;\n",
       "    var timer = setInterval(function(root) {\n",
       "      if (root.Bokeh !== undefined) {\n",
       "        embed_document(root);\n",
       "        clearInterval(timer);\n",
       "      }\n",
       "      attempts++;\n",
       "      if (attempts > 100) {\n",
       "        console.log(\"Bokeh: ERROR: Unable to run BokehJS code because BokehJS library is missing\")\n",
       "        clearInterval(timer);\n",
       "      }\n",
       "    }, 10, root)\n",
       "  }\n",
       "})(window);"
      ],
      "application/vnd.bokehjs_exec.v0+json": ""
     },
     "metadata": {
      "application/vnd.bokehjs_exec.v0+json": {
       "id": "de3dbbcf-adb1-4ea3-97e3-ea3e67b7b215"
      }
     },
     "output_type": "display_data"
    }
   ],
   "source": [
    "data = df.loc[(df['year']==1987) & (df['species']=='fortis'), 'beak depth (mm)']\n",
    "p = bootcamp_utils.bokeh_histogram(data,\n",
    "                                   bins=int(np.sqrt(len(data))),\n",
    "                                   x_axis_label='beak depth (mm)',\n",
    "                                   legend='fortis',\n",
    "                                   fill_alpha=0.5,\n",
    "                                   density=True,\n",
    "                                   kind='step_filled')\n",
    "\n",
    "data = df.loc[(df['year']==1987) & (df['species']=='scandens'), 'beak depth (mm)']\n",
    "p = bootcamp_utils.bokeh_histogram(data,\n",
    "                                   bins=int(np.sqrt(len(data))),\n",
    "                                   p=p, \n",
    "                                   line_color='orange',\n",
    "                                   fill_color='orange',\n",
    "                                   fill_alpha=0.5,\n",
    "                                   legend='scandens',\n",
    "                                   density=True,\n",
    "                                   kind='step_filled')\n",
    "\n",
    "bokeh.io.show(p)"
   ]
  },
  {
   "cell_type": "markdown",
   "metadata": {},
   "source": [
    "#### Fill between\n",
    "\n",
    "When plotting confidence intervals, from pairs bootstraps of linear regressions, we needed to fill the area between two curves representing the top and bottom of at 95% confidence interval. The function `bootcamp_utils.bokeh_fill_between()` does this. First, let's get some pairs bootstrap replicates, as we did in [lesson 35](../lessons/l35_pairs_bootstrap.html)."
   ]
  },
  {
   "cell_type": "code",
   "execution_count": 14,
   "metadata": {},
   "outputs": [],
   "source": [
    "def draw_bs_pairs_linreg(x, y, size=1):\n",
    "    \"\"\"Perform pairs bootstrap for linear regression.\"\"\"\n",
    "    # Set up array of indices to sample from\n",
    "    inds = np.arange(len(x))\n",
    "\n",
    "    # Initialize samples\n",
    "    bs_slope_reps = np.empty(size)\n",
    "    bs_intercept_reps = np.empty(size)\n",
    "\n",
    "    # Take samples\n",
    "    for i in range(size):\n",
    "        bs_inds = np.random.choice(inds, len(inds))\n",
    "        bs_x, bs_y = x[bs_inds], y[bs_inds]\n",
    "        bs_slope_reps[i], bs_intercept_reps[i] = np.polyfit(bs_x, bs_y, deg=1)\n",
    "\n",
    "    return bs_slope_reps, bs_intercept_reps\n",
    "\n",
    "# Get beak lengths and depths as Numpy arrays\n",
    "beak_length = df.loc[df['species']=='scandens', 'beak length (mm)'].values\n",
    "beak_depth = df.loc[df['species']=='scandens', 'beak depth (mm)'].values\n",
    "\n",
    "# Draw replicates\n",
    "bs_slope_reps, bs_intercept_reps = draw_bs_pairs_linreg(beak_length,\n",
    "                                                        beak_depth,\n",
    "                                                        size=10000)\n",
    "\n",
    "# x-values\n",
    "x = np.linspace(10.5, 16.5, 200)\n",
    "\n",
    "# y-values of each point\n",
    "y = np.outer(bs_slope_reps, x) + np.stack([bs_intercept_reps]*200, axis=1)\n",
    "\n",
    "# Compute the 2.5th and 97.5th percentiles\n",
    "low, high = np.percentile(y, [2.5, 97.5], axis=0)"
   ]
  },
  {
   "cell_type": "markdown",
   "metadata": {},
   "source": [
    "Now we can generate the scatter plot with bootstrap confidence interval."
   ]
  },
  {
   "cell_type": "code",
   "execution_count": 15,
   "metadata": {},
   "outputs": [
    {
     "data": {
      "text/html": [
       "\n",
       "<div class=\"bk-root\">\n",
       "    <div class=\"bk-plotdiv\" id=\"d6982a13-b592-4dc5-bb19-72d813de22fd\"></div>\n",
       "</div>"
      ]
     },
     "metadata": {},
     "output_type": "display_data"
    },
    {
     "data": {
      "application/javascript": [
       "(function(root) {\n",
       "  function embed_document(root) {\n",
       "    \n",
       "  var docs_json = {\"e113ddd3-0010-466f-b0a4-2617eb63cb9c\":{\"roots\":{\"references\":[{\"attributes\":{},\"id\":\"058f75aa-a564-4e88-a7ad-4d58010ae4ae\",\"type\":\"Selection\"},{\"attributes\":{\"plot\":{\"id\":\"ca5ec46c-d536-44d7-bc44-559f9e978834\",\"subtype\":\"Figure\",\"type\":\"Plot\"},\"ticker\":{\"id\":\"2f2739a0-7829-44c0-b7ba-d91716687faa\",\"type\":\"BasicTicker\"}},\"id\":\"e72d8e95-93ea-4fd5-b973-ffc514d000ac\",\"type\":\"Grid\"},{\"attributes\":{\"data_source\":{\"id\":\"a3f8b45e-4d4e-4a43-bc22-aadb7c06bf35\",\"type\":\"ColumnDataSource\"},\"glyph\":{\"id\":\"f044da59-184f-4ff2-9a79-b8eca6be5696\",\"type\":\"Line\"},\"hover_glyph\":null,\"muted_glyph\":null,\"nonselection_glyph\":{\"id\":\"4adf9c70-24e1-478b-9773-3c818931c0ba\",\"type\":\"Line\"},\"selection_glyph\":null,\"view\":{\"id\":\"c18fbcba-bbf2-4e3b-895e-44434eb3a6d5\",\"type\":\"CDSView\"}},\"id\":\"37b94f29-2889-4330-a529-6fee4f3eb6fe\",\"type\":\"GlyphRenderer\"},{\"attributes\":{},\"id\":\"65816cb7-2659-4faf-bad1-5fc53261615e\",\"type\":\"UnionRenderers\"},{\"attributes\":{\"callback\":null,\"data\":{\"x\":{\"__ndarray__\":\"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\",\"dtype\":\"float64\",\"shape\":[200]},\"y\":{\"__ndarray__\":\"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\",\"dtype\":\"float64\",\"shape\":[200]}},\"selected\":{\"id\":\"c8b37b8e-0e08-42e1-b92f-7e799b10429f\",\"type\":\"Selection\"},\"selection_policy\":{\"id\":\"6d17ff46-4d59-4af1-98fa-527497cbd4e9\",\"type\":\"UnionRenderers\"}},\"id\":\"a3f8b45e-4d4e-4a43-bc22-aadb7c06bf35\",\"type\":\"ColumnDataSource\"},{\"attributes\":{},\"id\":\"deb98923-3896-498d-b2f2-0f51732d7663\",\"type\":\"Selection\"},{\"attributes\":{\"line_color\":\"orange\",\"x\":{\"field\":\"x\"},\"y\":{\"field\":\"y\"}},\"id\":\"f044da59-184f-4ff2-9a79-b8eca6be5696\",\"type\":\"Line\"},{\"attributes\":{},\"id\":\"19d30612-981d-45b3-a44b-92690fe882e8\",\"type\":\"PanTool\"},{\"attributes\":{\"overlay\":{\"id\":\"12a3381d-e2a4-4c4f-822c-a49266424b23\",\"type\":\"BoxAnnotation\"}},\"id\":\"e615d2fe-ef2e-4f67-a861-38cbc7da0b28\",\"type\":\"BoxZoomTool\"},{\"attributes\":{\"callback\":null,\"data\":{\"x\":{\"__ndarray__\":\"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\",\"dtype\":\"float64\",\"shape\":[200]},\"y\":{\"__ndarray__\":\"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\",\"dtype\":\"float64\",\"shape\":[200]}},\"selected\":{\"id\":\"deb98923-3896-498d-b2f2-0f51732d7663\",\"type\":\"Selection\"},\"selection_policy\":{\"id\":\"478a3c60-adee-47b8-8c19-ad0c1c0692e1\",\"type\":\"UnionRenderers\"}},\"id\":\"b3a990fe-a405-459d-bd22-f9cd48d3ff46\",\"type\":\"ColumnDataSource\"},{\"attributes\":{\"bottom_units\":\"screen\",\"fill_alpha\":{\"value\":0.5},\"fill_color\":{\"value\":\"lightgrey\"},\"left_units\":\"screen\",\"level\":\"overlay\",\"line_alpha\":{\"value\":1.0},\"line_color\":{\"value\":\"black\"},\"line_dash\":[4,4],\"line_width\":{\"value\":2},\"plot\":null,\"render_mode\":\"css\",\"right_units\":\"screen\",\"top_units\":\"screen\"},\"id\":\"12a3381d-e2a4-4c4f-822c-a49266424b23\",\"type\":\"BoxAnnotation\"},{\"attributes\":{},\"id\":\"4e9d4e6b-fbd3-42ea-b008-345383fc7b5f\",\"type\":\"SaveTool\"},{\"attributes\":{\"source\":{\"id\":\"a3f8b45e-4d4e-4a43-bc22-aadb7c06bf35\",\"type\":\"ColumnDataSource\"}},\"id\":\"c18fbcba-bbf2-4e3b-895e-44434eb3a6d5\",\"type\":\"CDSView\"},{\"attributes\":{\"line_alpha\":0.1,\"line_color\":\"#1f77b4\",\"x\":{\"field\":\"x\"},\"y\":{\"field\":\"y\"}},\"id\":\"d24d8e8a-59bc-4a9a-aa58-b26bfaed5096\",\"type\":\"Line\"},{\"attributes\":{\"fill_alpha\":0.1,\"fill_color\":\"#1f77b4\",\"line_alpha\":0.1,\"line_color\":\"#1f77b4\",\"x\":{\"field\":\"x\"},\"y\":{\"field\":\"y\"}},\"id\":\"dbdf79fe-e091-44d4-9087-1c797800d481\",\"type\":\"Patch\"},{\"attributes\":{\"dimension\":1,\"plot\":{\"id\":\"ca5ec46c-d536-44d7-bc44-559f9e978834\",\"subtype\":\"Figure\",\"type\":\"Plot\"},\"ticker\":{\"id\":\"2cf71b36-4718-41f0-8d53-4093a3732cc5\",\"type\":\"BasicTicker\"}},\"id\":\"588e945f-11e6-4946-aa20-deb6f4c9b414\",\"type\":\"Grid\"},{\"attributes\":{\"line_alpha\":0.1,\"line_color\":\"#1f77b4\",\"x\":{\"field\":\"x\"},\"y\":{\"field\":\"y\"}},\"id\":\"4adf9c70-24e1-478b-9773-3c818931c0ba\",\"type\":\"Line\"},{\"attributes\":{\"line_color\":\"orange\",\"x\":{\"field\":\"x\"},\"y\":{\"field\":\"y\"}},\"id\":\"55b1536b-d6ef-40a2-bdf6-36cc633b3a92\",\"type\":\"Line\"},{\"attributes\":{\"source\":{\"id\":\"b4ee58c7-3b34-491f-b3bc-a5135f909571\",\"type\":\"ColumnDataSource\"}},\"id\":\"3296992b-92c5-4365-b023-55682a85c38f\",\"type\":\"CDSView\"},{\"attributes\":{\"data_source\":{\"id\":\"b3a990fe-a405-459d-bd22-f9cd48d3ff46\",\"type\":\"ColumnDataSource\"},\"glyph\":{\"id\":\"55b1536b-d6ef-40a2-bdf6-36cc633b3a92\",\"type\":\"Line\"},\"hover_glyph\":null,\"muted_glyph\":null,\"nonselection_glyph\":{\"id\":\"d24d8e8a-59bc-4a9a-aa58-b26bfaed5096\",\"type\":\"Line\"},\"selection_glyph\":null,\"view\":{\"id\":\"33b5a7ad-b87c-4d3b-944e-ec68bd90cc0a\",\"type\":\"CDSView\"}},\"id\":\"33917f5d-cd9a-456e-ba7f-66b25fe975e4\",\"type\":\"GlyphRenderer\"},{\"attributes\":{},\"id\":\"c8b37b8e-0e08-42e1-b92f-7e799b10429f\",\"type\":\"Selection\"},{\"attributes\":{\"source\":{\"id\":\"b3a990fe-a405-459d-bd22-f9cd48d3ff46\",\"type\":\"ColumnDataSource\"}},\"id\":\"33b5a7ad-b87c-4d3b-944e-ec68bd90cc0a\",\"type\":\"CDSView\"},{\"attributes\":{},\"id\":\"f11f4a96-4713-4819-90db-58d30b28760e\",\"type\":\"HelpTool\"},{\"attributes\":{},\"id\":\"5f927b7e-7a3b-4f31-9f09-a309409ed820\",\"type\":\"UnionRenderers\"},{\"attributes\":{},\"id\":\"7e1f4ae8-4ff4-45fb-85db-d963b13bc6d5\",\"type\":\"ResetTool\"},{\"attributes\":{},\"id\":\"6d17ff46-4d59-4af1-98fa-527497cbd4e9\",\"type\":\"UnionRenderers\"},{\"attributes\":{},\"id\":\"6159c660-128e-4502-925d-822e2e0390c8\",\"type\":\"BasicTickFormatter\"},{\"attributes\":{\"callback\":null,\"data\":{\"x\":{\"__ndarray__\":\"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\",\"dtype\":\"float64\",\"shape\":[400]},\"y\":{\"__ndarray__\":\"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\",\"dtype\":\"float64\",\"shape\":[400]}},\"selected\":{\"id\":\"06375c2f-6020-4340-9c6f-6af2ada4ec3f\",\"type\":\"Selection\"},\"selection_policy\":{\"id\":\"5f927b7e-7a3b-4f31-9f09-a309409ed820\",\"type\":\"UnionRenderers\"}},\"id\":\"b4ee58c7-3b34-491f-b3bc-a5135f909571\",\"type\":\"ColumnDataSource\"},{\"attributes\":{\"fill_alpha\":{\"value\":0.1},\"fill_color\":{\"value\":\"#1f77b4\"},\"line_alpha\":{\"value\":0.1},\"line_color\":{\"value\":\"#1f77b4\"},\"x\":{\"field\":\"x\"},\"y\":{\"field\":\"y\"}},\"id\":\"9ae6dcf3-edd0-4f9c-a294-4964d888c415\",\"type\":\"Circle\"},{\"attributes\":{},\"id\":\"264c1806-37a8-43d3-80d6-460403a92718\",\"type\":\"WheelZoomTool\"},{\"attributes\":{\"data_source\":{\"id\":\"938df754-c884-442f-b8fa-03d5215b7573\",\"type\":\"ColumnDataSource\"},\"glyph\":{\"id\":\"eb41c445-58f0-4d14-b10c-e652770a4d02\",\"type\":\"Circle\"},\"hover_glyph\":null,\"muted_glyph\":null,\"nonselection_glyph\":{\"id\":\"9ae6dcf3-edd0-4f9c-a294-4964d888c415\",\"type\":\"Circle\"},\"selection_glyph\":null,\"view\":{\"id\":\"b990f279-b0e9-4f66-8fc6-e9f4a24a58cd\",\"type\":\"CDSView\"}},\"id\":\"47058fd1-fa23-445a-b8d6-d1259c36409a\",\"type\":\"GlyphRenderer\"},{\"attributes\":{},\"id\":\"2f2739a0-7829-44c0-b7ba-d91716687faa\",\"type\":\"BasicTicker\"},{\"attributes\":{\"axis_label\":\"beak depth (mm)\",\"formatter\":{\"id\":\"e4d2b30b-94b1-4926-9597-3fc0c5cab4c6\",\"type\":\"BasicTickFormatter\"},\"plot\":{\"id\":\"ca5ec46c-d536-44d7-bc44-559f9e978834\",\"subtype\":\"Figure\",\"type\":\"Plot\"},\"ticker\":{\"id\":\"2cf71b36-4718-41f0-8d53-4093a3732cc5\",\"type\":\"BasicTicker\"}},\"id\":\"6e67eb4b-d6d3-4b64-9756-4962c2095bea\",\"type\":\"LinearAxis\"},{\"attributes\":{},\"id\":\"45e6611b-f15c-46b1-8f97-ff6cb18110a2\",\"type\":\"LinearScale\"},{\"attributes\":{},\"id\":\"06375c2f-6020-4340-9c6f-6af2ada4ec3f\",\"type\":\"Selection\"},{\"attributes\":{\"active_drag\":\"auto\",\"active_inspect\":\"auto\",\"active_scroll\":\"auto\",\"active_tap\":\"auto\",\"tools\":[{\"id\":\"19d30612-981d-45b3-a44b-92690fe882e8\",\"type\":\"PanTool\"},{\"id\":\"264c1806-37a8-43d3-80d6-460403a92718\",\"type\":\"WheelZoomTool\"},{\"id\":\"e615d2fe-ef2e-4f67-a861-38cbc7da0b28\",\"type\":\"BoxZoomTool\"},{\"id\":\"4e9d4e6b-fbd3-42ea-b008-345383fc7b5f\",\"type\":\"SaveTool\"},{\"id\":\"7e1f4ae8-4ff4-45fb-85db-d963b13bc6d5\",\"type\":\"ResetTool\"},{\"id\":\"f11f4a96-4713-4819-90db-58d30b28760e\",\"type\":\"HelpTool\"}]},\"id\":\"b865fe5e-cda0-446d-9cc9-79e48eba4b72\",\"type\":\"Toolbar\"},{\"attributes\":{},\"id\":\"e4d2b30b-94b1-4926-9597-3fc0c5cab4c6\",\"type\":\"BasicTickFormatter\"},{\"attributes\":{\"below\":[{\"id\":\"2cf23009-eb00-4c53-88c8-cf5d9c0aab71\",\"type\":\"LinearAxis\"}],\"left\":[{\"id\":\"6e67eb4b-d6d3-4b64-9756-4962c2095bea\",\"type\":\"LinearAxis\"}],\"plot_height\":300,\"plot_width\":450,\"renderers\":[{\"id\":\"2cf23009-eb00-4c53-88c8-cf5d9c0aab71\",\"type\":\"LinearAxis\"},{\"id\":\"e72d8e95-93ea-4fd5-b973-ffc514d000ac\",\"type\":\"Grid\"},{\"id\":\"6e67eb4b-d6d3-4b64-9756-4962c2095bea\",\"type\":\"LinearAxis\"},{\"id\":\"588e945f-11e6-4946-aa20-deb6f4c9b414\",\"type\":\"Grid\"},{\"id\":\"12a3381d-e2a4-4c4f-822c-a49266424b23\",\"type\":\"BoxAnnotation\"},{\"id\":\"c55b187c-e473-4d6a-9f77-2c9e2c172600\",\"type\":\"GlyphRenderer\"},{\"id\":\"37b94f29-2889-4330-a529-6fee4f3eb6fe\",\"type\":\"GlyphRenderer\"},{\"id\":\"33917f5d-cd9a-456e-ba7f-66b25fe975e4\",\"type\":\"GlyphRenderer\"},{\"id\":\"47058fd1-fa23-445a-b8d6-d1259c36409a\",\"type\":\"GlyphRenderer\"}],\"title\":null,\"toolbar\":{\"id\":\"b865fe5e-cda0-446d-9cc9-79e48eba4b72\",\"type\":\"Toolbar\"},\"x_range\":{\"id\":\"d2a02c95-02b2-4a3b-aec9-7c1eb24b29a3\",\"type\":\"DataRange1d\"},\"x_scale\":{\"id\":\"45e6611b-f15c-46b1-8f97-ff6cb18110a2\",\"type\":\"LinearScale\"},\"y_range\":{\"id\":\"ca5905ad-6a4f-46ef-9abd-4138e11d7113\",\"type\":\"DataRange1d\"},\"y_scale\":{\"id\":\"fa95160e-5a84-443c-b85f-f09157ff8626\",\"type\":\"LinearScale\"}},\"id\":\"ca5ec46c-d536-44d7-bc44-559f9e978834\",\"subtype\":\"Figure\",\"type\":\"Plot\"},{\"attributes\":{\"source\":{\"id\":\"938df754-c884-442f-b8fa-03d5215b7573\",\"type\":\"ColumnDataSource\"}},\"id\":\"b990f279-b0e9-4f66-8fc6-e9f4a24a58cd\",\"type\":\"CDSView\"},{\"attributes\":{},\"id\":\"478a3c60-adee-47b8-8c19-ad0c1c0692e1\",\"type\":\"UnionRenderers\"},{\"attributes\":{\"data_source\":{\"id\":\"b4ee58c7-3b34-491f-b3bc-a5135f909571\",\"type\":\"ColumnDataSource\"},\"glyph\":{\"id\":\"a2263121-a472-4fa3-b96c-f5bfe25ec0c8\",\"type\":\"Patch\"},\"hover_glyph\":null,\"muted_glyph\":null,\"nonselection_glyph\":{\"id\":\"dbdf79fe-e091-44d4-9087-1c797800d481\",\"type\":\"Patch\"},\"selection_glyph\":null,\"view\":{\"id\":\"3296992b-92c5-4365-b023-55682a85c38f\",\"type\":\"CDSView\"}},\"id\":\"c55b187c-e473-4d6a-9f77-2c9e2c172600\",\"type\":\"GlyphRenderer\"},{\"attributes\":{\"callback\":null,\"data\":{\"x\":{\"__ndarray__\":\"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\",\"dtype\":\"float64\",\"shape\":[497]},\"y\":{\"__ndarray__\":\"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\",\"dtype\":\"float64\",\"shape\":[497]}},\"selected\":{\"id\":\"058f75aa-a564-4e88-a7ad-4d58010ae4ae\",\"type\":\"Selection\"},\"selection_policy\":{\"id\":\"65816cb7-2659-4faf-bad1-5fc53261615e\",\"type\":\"UnionRenderers\"}},\"id\":\"938df754-c884-442f-b8fa-03d5215b7573\",\"type\":\"ColumnDataSource\"},{\"attributes\":{\"axis_label\":\"beak length (mm)\",\"formatter\":{\"id\":\"6159c660-128e-4502-925d-822e2e0390c8\",\"type\":\"BasicTickFormatter\"},\"plot\":{\"id\":\"ca5ec46c-d536-44d7-bc44-559f9e978834\",\"subtype\":\"Figure\",\"type\":\"Plot\"},\"ticker\":{\"id\":\"2f2739a0-7829-44c0-b7ba-d91716687faa\",\"type\":\"BasicTicker\"}},\"id\":\"2cf23009-eb00-4c53-88c8-cf5d9c0aab71\",\"type\":\"LinearAxis\"},{\"attributes\":{\"fill_alpha\":{\"value\":0.3},\"fill_color\":{\"value\":\"#1f77b4\"},\"line_alpha\":{\"value\":0.3},\"line_color\":{\"value\":\"#1f77b4\"},\"x\":{\"field\":\"x\"},\"y\":{\"field\":\"y\"}},\"id\":\"eb41c445-58f0-4d14-b10c-e652770a4d02\",\"type\":\"Circle\"},{\"attributes\":{},\"id\":\"2cf71b36-4718-41f0-8d53-4093a3732cc5\",\"type\":\"BasicTicker\"},{\"attributes\":{\"callback\":null},\"id\":\"ca5905ad-6a4f-46ef-9abd-4138e11d7113\",\"type\":\"DataRange1d\"},{\"attributes\":{},\"id\":\"fa95160e-5a84-443c-b85f-f09157ff8626\",\"type\":\"LinearScale\"},{\"attributes\":{\"fill_alpha\":0.5,\"fill_color\":\"orange\",\"line_alpha\":0,\"line_color\":\"#1f77b4\",\"x\":{\"field\":\"x\"},\"y\":{\"field\":\"y\"}},\"id\":\"a2263121-a472-4fa3-b96c-f5bfe25ec0c8\",\"type\":\"Patch\"},{\"attributes\":{\"callback\":null},\"id\":\"d2a02c95-02b2-4a3b-aec9-7c1eb24b29a3\",\"type\":\"DataRange1d\"}],\"root_ids\":[\"ca5ec46c-d536-44d7-bc44-559f9e978834\"]},\"title\":\"Bokeh Application\",\"version\":\"0.12.16\"}};\n",
       "  var render_items = [{\"docid\":\"e113ddd3-0010-466f-b0a4-2617eb63cb9c\",\"elementid\":\"d6982a13-b592-4dc5-bb19-72d813de22fd\",\"modelid\":\"ca5ec46c-d536-44d7-bc44-559f9e978834\"}];\n",
       "  root.Bokeh.embed.embed_items_notebook(docs_json, render_items);\n",
       "\n",
       "  }\n",
       "  if (root.Bokeh !== undefined) {\n",
       "    embed_document(root);\n",
       "  } else {\n",
       "    var attempts = 0;\n",
       "    var timer = setInterval(function(root) {\n",
       "      if (root.Bokeh !== undefined) {\n",
       "        embed_document(root);\n",
       "        clearInterval(timer);\n",
       "      }\n",
       "      attempts++;\n",
       "      if (attempts > 100) {\n",
       "        console.log(\"Bokeh: ERROR: Unable to run BokehJS code because BokehJS library is missing\")\n",
       "        clearInterval(timer);\n",
       "      }\n",
       "    }, 10, root)\n",
       "  }\n",
       "})(window);"
      ],
      "application/vnd.bokehjs_exec.v0+json": ""
     },
     "metadata": {
      "application/vnd.bokehjs_exec.v0+json": {
       "id": "ca5ec46c-d536-44d7-bc44-559f9e978834"
      }
     },
     "output_type": "display_data"
    }
   ],
   "source": [
    "p = bootcamp_utils.bokeh_fill_between(x, high, x, low, \n",
    "                                      x_axis_label='beak length (mm)',\n",
    "                                      y_axis_label='beak depth (mm)',\n",
    "                                      fill_color='orange',\n",
    "                                      line_color='orange',\n",
    "                                      fill_alpha=0.5)\n",
    "p.circle(x=beak_length, y=beak_depth, alpha=0.3)\n",
    "\n",
    "bokeh.io.show(p)"
   ]
  }
 ],
 "metadata": {
  "anaconda-cloud": {},
  "kernelspec": {
   "display_name": "Python 3",
   "language": "python",
   "name": "python3"
  },
  "language_info": {
   "codemirror_mode": {
    "name": "ipython",
    "version": 3
   },
   "file_extension": ".py",
   "mimetype": "text/x-python",
   "name": "python",
   "nbconvert_exporter": "python",
   "pygments_lexer": "ipython3",
   "version": "3.6.5"
  }
 },
 "nbformat": 4,
 "nbformat_minor": 2
}
