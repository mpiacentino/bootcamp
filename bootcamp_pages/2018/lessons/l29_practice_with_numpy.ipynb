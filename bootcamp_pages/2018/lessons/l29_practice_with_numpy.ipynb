{
 "cells": [
  {
   "cell_type": "markdown",
   "metadata": {},
   "source": [
    "# Lesson 29: Practice with Numpy *solutions*\n",
    "\n",
    "(c) 2018 Justin Bois. With the exception of pasted graphics, where the source is noted, this work is licensed under a [Creative Commons Attribution License CC-BY 4.0](https://creativecommons.org/licenses/by/4.0/). All code contained herein is licensed under an [MIT license](https://opensource.org/licenses/MIT).\n",
    "\n",
    "This document was prepared at [Caltech](http://www.caltech.edu) with financial support from the [Donna and Benjamin M. Rosen Bioengineering Center](http://rosen.caltech.edu).\n",
    "\n",
    "<img src=\"caltech_rosen.png\">\n",
    "\n",
    "*This lesson was generated from a Jupyter notebook.  You can download the notebook [here](l29_practice_with_numpy.ipynb).*\n",
    "\n",
    "<br /> <br />"
   ]
  },
  {
   "cell_type": "code",
   "execution_count": 1,
   "metadata": {
    "collapsed": true
   },
   "outputs": [],
   "source": [
    "import numpy as np\n",
    "import scipy.stats\n",
    "import pandas as pd\n",
    "\n",
    "import altair as alt\n",
    "\n",
    "import bootcamp_utils"
   ]
  },
  {
   "cell_type": "markdown",
   "metadata": {},
   "source": [
    "Numpy arrays can take a while to get the hang of. Therefore, it's important to practice practice practice!"
   ]
  },
  {
   "cell_type": "markdown",
   "metadata": {},
   "source": [
    "## Practice 1: Generating arrays of sequential numbers\n",
    "\n",
    "The functions `np.arange()` and `np.linspace()` are really useful, as we've seen in the last lesson when plotting smooth functions.\n",
    "\n",
    "1. Read their documentation (either using JupyterLab, e.g., `np.arange?`, or by reading the respective webpages ([`np.arange`](http://docs.scipy.org/doc/numpy/reference/generated/numpy.arange.html), [`np.linspace`](http://docs.scipy.org/doc/numpy/reference/generated/numpy.linspace.html))).\n",
    "2. Use `np.arange()` to make an array of numbers 0 through 10.\n",
    "3. Do the same using `np.linspace()`.\n",
    "4. Make sure the data type of each of those arrays is a `float`."
   ]
  },
  {
   "cell_type": "markdown",
   "metadata": {},
   "source": [
    "<br />"
   ]
  },
  {
   "cell_type": "markdown",
   "metadata": {},
   "source": [
    "## Practice 2: Computing things!\n",
    "\n",
    "In the last lesson, we looked at a data set from Harvey and Orbidans on the cross-sectional area of *C. elegans* eggs. Recall, we loaded the data and converted everything to Numpy arrays like this:"
   ]
  },
  {
   "cell_type": "code",
   "execution_count": 4,
   "metadata": {},
   "outputs": [],
   "source": [
    "df = pd.read_csv('data/c_elegans_egg_xa.csv', comment='#')\n",
    "df = df.rename(columns={'area (sq. um)': 'area (sq um)'})\n",
    "\n",
    "xa_high = df.loc[df['food']=='high', 'area (sq um)'].values\n",
    "xa_low = df.loc[df['food']=='low', 'area (sq um)'].values"
   ]
  },
  {
   "cell_type": "markdown",
   "metadata": {},
   "source": [
    "Now we would like to compute the diameter of the egg from the cross-sectional area. Write a function that takes in an array of cross-sectional areas and returns an array of diameters. Recall that the diameter $d$ and cross-sectional area $A$ are related by $A = \\pi d^2/4$. There should be no `for` loops in your function!\n",
    "\n",
    "Below, is a skeleton for your function for you to fill in."
   ]
  },
  {
   "cell_type": "code",
   "execution_count": 5,
   "metadata": {
    "collapsed": true
   },
   "outputs": [],
   "source": [
    "def xa_to_diameter(xa):\n",
    "    \"\"\"\n",
    "    Convert an array of cross-sectional areas\n",
    "    to diameters with commensurate units.\n",
    "    \"\"\"\n",
    "    \n",
    "    # Compute diameter from area\n",
    "    diameter = ____\n",
    "    \n",
    "    return diameter"
   ]
  },
  {
   "cell_type": "markdown",
   "metadata": {},
   "source": [
    "Use your function to compute the diameters of the eggs."
   ]
  },
  {
   "cell_type": "markdown",
   "metadata": {},
   "source": [
    "<br />"
   ]
  },
  {
   "cell_type": "markdown",
   "metadata": {},
   "source": [
    "## Practice 3: Working with two-dimensional arrays\n",
    "\n",
    "Numpy enables you do to matrix calculations on two-dimensional arrays. In exercise, you will practice doing matrix calculations on arrays. We'll start by making a matrix and a vector to practice with. You can copy and paste the code below."
   ]
  },
  {
   "cell_type": "code",
   "execution_count": 7,
   "metadata": {},
   "outputs": [],
   "source": [
    "A = np.array([[6.7, 1.3, 0.6, 0.7],\n",
    "              [0.1, 5.5, 0.4, 2.4],\n",
    "              [1.1, 0.8, 4.5, 1.7],\n",
    "              [0.0, 1.5, 3.4, 7.5]])\n",
    "\n",
    "b = np.array([1.1, 2.3, 3.3, 3.9])"
   ]
  },
  {
   "cell_type": "markdown",
   "metadata": {},
   "source": [
    "**a)** First, let's practice slicing.\n",
    "\n",
    "1. Print row 1 (remember, indexing starts at zero) of `A`.\n",
    "2. Print columns 1 and 3 of `A`.\n",
    "3. Print the values of every entry in `A` that is greater than 2.\n",
    "4. Print the diagonal of `A`. using the `np.diag()` function."
   ]
  },
  {
   "cell_type": "markdown",
   "metadata": {},
   "source": [
    "**b)** The `np.linalg` module has some powerful linear algebra tools. \n",
    "\n",
    "1. First, we'll solve the linear system $\\mathsf{A}\\cdot \\mathbf{x} = \\mathbf{b}$. Try it out: use `np.linalg.solve()`. Store your answer in the Numpy array `x`.\n",
    "2. Now do `np.dot(A, x)` to verify that $\\mathsf{A}\\cdot \\mathbf{x} = \\mathbf{b}$.\n",
    "3. Use `np.transpose()` to compute the transpose of `A`.\n",
    "4. Use `np.linalg.inv()` to compute the inverse of `A`."
   ]
  },
  {
   "cell_type": "markdown",
   "metadata": {},
   "source": [
    "**c)** Sometimes you want to convert a two-dimensional array to a one-dimensional array. This can be done with `np.ravel()`. \n",
    "\n",
    "1. See what happens when you do `B = np.ravel(A)`.\n",
    "2. Look of the documentation for `np.reshape()`. Then, reshape `B` to make it look like `A` again."
   ]
  },
  {
   "cell_type": "markdown",
   "metadata": {},
   "source": [
    "<br />"
   ]
  },
  {
   "cell_type": "markdown",
   "metadata": {},
   "source": [
    "## Practice 4: Are they Normally distributed?\n",
    "\n",
    "We might be interested to see if the egg cross-section data follow a Normal distribution. After all, this is commonly an underlying assumption when people report data from repeated measurements in the literature.\n",
    "\n",
    "One way to assess this is to plot the theoretical CDF with the same mean and standard deviation as the data on top of the ECDFs. (There are better graphical ways to do this, but this is ok for our purposes here.)  We know the cumulative distribution function for a Normal distribution with mean $\\mu$ and standard deviation $\\sigma$ is\n",
    "\n",
    "\\begin{align}\n",
    "\\mathrm{cdf}(x) = \\frac{1}{2}\\left(1 + \\mathrm{erf}\\left(\\frac{x - \\mu}{\\sqrt{2\\sigma^2}}\\right)\\right),\n",
    "\\end{align}\n",
    "\n",
    "but instead of coding this up directly, we can use the `scipy.stats` to do it for us!  We just need to supply where we want the CDF evaluated ($x$), and the mean (the location parameter) and standard deviation (the scale parameter). Something like this:"
   ]
  },
  {
   "cell_type": "code",
   "execution_count": 11,
   "metadata": {},
   "outputs": [],
   "source": [
    "# Make smooth x-values\n",
    "x = np.linspace(1600, 2500, 400)\n",
    "\n",
    "# Compute theoretical Normal distribution\n",
    "cdf_theor = scipy.stats.norm.cdf(x, loc=np.mean(xa_low), scale=np.std(xa_low))"
   ]
  },
  {
   "cell_type": "markdown",
   "metadata": {},
   "source": [
    "Now, let's make the plot.\n",
    "\n",
    ">1. Generate a data frame that you can use to plot the ECDFs of egg cross-sectional area for worms with high food and low food. I would prefer to plot it with the \"dot\" style, but it is up to you.\n",
    "2. Make smooth curves of the Normal CDF using `scipy.stats.norm.cdf()` and place them in a data frame suitable for plotting.\n",
    "3. Make plots of the smooth curves and the data."
   ]
  },
  {
   "cell_type": "markdown",
   "metadata": {},
   "source": [
    "<br />"
   ]
  },
  {
   "cell_type": "markdown",
   "metadata": {},
   "source": [
    "### A reminder about documentation\n",
    "\n",
    "It is important to note that I didn't just memorize how all of these functions work when I wrote these practice exercises.  I looked at the online documentation.  For example, I looked at the [`alt.Color` documentation](https://altair-viz.github.io/user_guide/API.html#altair.Color), and the [`scipy.stats.norm` documentation](http://docs.scipy.org/doc/scipy/reference/generated/scipy.stats.norm.html).  To find those links, I just Googled \"Altair color legend\" and \"`scipy.stats`\".\n",
    "\n",
    "These packages are all very well documented, and those docs will be your guide.  You don't need to memorize (though you will eventually just by accident)."
   ]
  }
 ],
 "metadata": {
  "anaconda-cloud": {},
  "kernelspec": {
   "display_name": "Python 3",
   "language": "python",
   "name": "python3"
  },
  "language_info": {
   "codemirror_mode": {
    "name": "ipython",
    "version": 3
   },
   "file_extension": ".py",
   "mimetype": "text/x-python",
   "name": "python",
   "nbconvert_exporter": "python",
   "pygments_lexer": "ipython3",
   "version": "3.6.5"
  }
 },
 "nbformat": 4,
 "nbformat_minor": 2
}
