{
 "cells": [
  {
   "cell_type": "markdown",
   "metadata": {},
   "source": [
    "# Lesson 28: Plotting time series, generated data, and ECDFs\n",
    "\n",
    "(c) 2018 Justin Bois. With the exception of pasted graphics, where the source is noted, this work is licensed under a [Creative Commons Attribution License CC-BY 4.0](https://creativecommons.org/licenses/by/4.0/). All code contained herein is licensed under an [MIT license](https://opensource.org/licenses/MIT).\n",
    "\n",
    "This document was prepared at [Caltech](http://www.caltech.edu) with financial support from the [Donna and Benjamin M. Rosen Bioengineering Center](http://rosen.caltech.edu).\n",
    "\n",
    "<img src=\"caltech_rosen.png\">\n",
    "\n",
    "*This lesson was generated from a Jupyter notebook.  You can download the notebook [here](l28_plotting_time_series_generated_data_and_ecdfs.ipynb).*\n",
    "\n",
    "<br /> <br />"
   ]
  },
  {
   "cell_type": "code",
   "execution_count": 21,
   "metadata": {},
   "outputs": [],
   "source": [
    "import numpy as np\n",
    "import pandas as pd\n",
    "import scipy.special\n",
    "\n",
    "import altair as alt\n",
    "\n",
    "import bootcamp_utils"
   ]
  },
  {
   "cell_type": "markdown",
   "metadata": {},
   "source": [
    "## Plotting (long) time series data\n",
    "\n",
    "So far, we have seen how to plot measured data. One class of measured data we have not considered is time series data. Time series data are typically not plotted as points, but rather with joined lines. To get some experience plotting data sets like this, we will use some data from [Markus Meister](https://meisterlab.caltech.edu)'s group, collected by graduate students Dawna Bagherian and Kyu Lee. The file `~/git/data/retina_spikes.csv` contains the data set. They put electrodes in the retinal cells of a mouse and measured voltage. From the time trace of voltage, they can detect and characterize spiking events. The first column of the CSV file is the time in milliseconds (ms) that the measurement was taken, and the second column is the voltage in units of microvolts (µV). Let's load in the data."
   ]
  },
  {
   "cell_type": "code",
   "execution_count": 22,
   "metadata": {},
   "outputs": [
    {
     "data": {
      "text/html": [
       "<div>\n",
       "<style scoped>\n",
       "    .dataframe tbody tr th:only-of-type {\n",
       "        vertical-align: middle;\n",
       "    }\n",
       "\n",
       "    .dataframe tbody tr th {\n",
       "        vertical-align: top;\n",
       "    }\n",
       "\n",
       "    .dataframe thead th {\n",
       "        text-align: right;\n",
       "    }\n",
       "</style>\n",
       "<table border=\"1\" class=\"dataframe\">\n",
       "  <thead>\n",
       "    <tr style=\"text-align: right;\">\n",
       "      <th></th>\n",
       "      <th>t (ms)</th>\n",
       "      <th>V (uV)</th>\n",
       "    </tr>\n",
       "  </thead>\n",
       "  <tbody>\n",
       "    <tr>\n",
       "      <th>0</th>\n",
       "      <td>703.96</td>\n",
       "      <td>4.79</td>\n",
       "    </tr>\n",
       "    <tr>\n",
       "      <th>1</th>\n",
       "      <td>704.00</td>\n",
       "      <td>-0.63</td>\n",
       "    </tr>\n",
       "    <tr>\n",
       "      <th>2</th>\n",
       "      <td>704.04</td>\n",
       "      <td>5.83</td>\n",
       "    </tr>\n",
       "    <tr>\n",
       "      <th>3</th>\n",
       "      <td>704.08</td>\n",
       "      <td>0.31</td>\n",
       "    </tr>\n",
       "    <tr>\n",
       "      <th>4</th>\n",
       "      <td>704.12</td>\n",
       "      <td>-4.58</td>\n",
       "    </tr>\n",
       "  </tbody>\n",
       "</table>\n",
       "</div>"
      ],
      "text/plain": [
       "   t (ms)  V (uV)\n",
       "0  703.96    4.79\n",
       "1  704.00   -0.63\n",
       "2  704.04    5.83\n",
       "3  704.08    0.31\n",
       "4  704.12   -4.58"
      ]
     },
     "execution_count": 22,
     "metadata": {},
     "output_type": "execute_result"
    }
   ],
   "source": [
    "df = pd.read_csv('data/retina_spikes.csv', comment='#')\n",
    "\n",
    "df.head()"
   ]
  },
  {
   "cell_type": "markdown",
   "metadata": {},
   "source": [
    "To make a plot of these data, we choose `mark_line()`. You may be tempted to specify that the data type of `x` is temporal. You really only want to do that if the data are time (like hours, minutes, seconds) and/or dates. You should still specify the data type of `x` to be quantitative."
   ]
  },
  {
   "cell_type": "code",
   "execution_count": 23,
   "metadata": {},
   "outputs": [
    {
     "ename": "MaxRowsError",
     "evalue": "The number of rows in your dataset is greater than the maximum allowed (5000). For information on how to plot larger datasets in Altair, see the documentation",
     "output_type": "error",
     "traceback": [
      "\u001b[0;31m---------------------------------------------------------------------------\u001b[0m",
      "\u001b[0;31mMaxRowsError\u001b[0m                              Traceback (most recent call last)",
      "\u001b[0;32m/anaconda3/lib/python3.6/site-packages/altair/vegalite/v2/api.py\u001b[0m in \u001b[0;36mto_dict\u001b[0;34m(self, *args, **kwargs)\u001b[0m\n\u001b[1;32m    312\u001b[0m         \u001b[0mcopy\u001b[0m \u001b[0;34m=\u001b[0m \u001b[0mself\u001b[0m\u001b[0;34m.\u001b[0m\u001b[0mcopy\u001b[0m\u001b[0;34m(\u001b[0m\u001b[0;34m)\u001b[0m\u001b[0;34m\u001b[0m\u001b[0m\n\u001b[1;32m    313\u001b[0m         \u001b[0moriginal_data\u001b[0m \u001b[0;34m=\u001b[0m \u001b[0mgetattr\u001b[0m\u001b[0;34m(\u001b[0m\u001b[0mcopy\u001b[0m\u001b[0;34m,\u001b[0m \u001b[0;34m'data'\u001b[0m\u001b[0;34m,\u001b[0m \u001b[0mUndefined\u001b[0m\u001b[0;34m)\u001b[0m\u001b[0;34m\u001b[0m\u001b[0m\n\u001b[0;32m--> 314\u001b[0;31m         \u001b[0mcopy\u001b[0m\u001b[0;34m.\u001b[0m\u001b[0mdata\u001b[0m \u001b[0;34m=\u001b[0m \u001b[0m_prepare_data\u001b[0m\u001b[0;34m(\u001b[0m\u001b[0moriginal_data\u001b[0m\u001b[0;34m)\u001b[0m\u001b[0;34m\u001b[0m\u001b[0m\n\u001b[0m\u001b[1;32m    315\u001b[0m \u001b[0;34m\u001b[0m\u001b[0m\n\u001b[1;32m    316\u001b[0m         \u001b[0;31m# We make use of two context markers:\u001b[0m\u001b[0;34m\u001b[0m\u001b[0;34m\u001b[0m\u001b[0m\n",
      "\u001b[0;32m/anaconda3/lib/python3.6/site-packages/altair/vegalite/v2/api.py\u001b[0m in \u001b[0;36m_prepare_data\u001b[0;34m(data)\u001b[0m\n\u001b[1;32m     24\u001b[0m         \u001b[0;32mreturn\u001b[0m \u001b[0mdata\u001b[0m\u001b[0;34m\u001b[0m\u001b[0m\n\u001b[1;32m     25\u001b[0m     \u001b[0;32melif\u001b[0m \u001b[0misinstance\u001b[0m\u001b[0;34m(\u001b[0m\u001b[0mdata\u001b[0m\u001b[0;34m,\u001b[0m \u001b[0mpd\u001b[0m\u001b[0;34m.\u001b[0m\u001b[0mDataFrame\u001b[0m\u001b[0;34m)\u001b[0m\u001b[0;34m:\u001b[0m\u001b[0;34m\u001b[0m\u001b[0m\n\u001b[0;32m---> 26\u001b[0;31m         \u001b[0;32mreturn\u001b[0m \u001b[0mpipe\u001b[0m\u001b[0;34m(\u001b[0m\u001b[0mdata\u001b[0m\u001b[0;34m,\u001b[0m \u001b[0mdata_transformers\u001b[0m\u001b[0;34m.\u001b[0m\u001b[0mget\u001b[0m\u001b[0;34m(\u001b[0m\u001b[0;34m)\u001b[0m\u001b[0;34m)\u001b[0m\u001b[0;34m\u001b[0m\u001b[0m\n\u001b[0m\u001b[1;32m     27\u001b[0m     \u001b[0;32melif\u001b[0m \u001b[0misinstance\u001b[0m\u001b[0;34m(\u001b[0m\u001b[0mdata\u001b[0m\u001b[0;34m,\u001b[0m \u001b[0msix\u001b[0m\u001b[0;34m.\u001b[0m\u001b[0mstring_types\u001b[0m\u001b[0;34m)\u001b[0m\u001b[0;34m:\u001b[0m\u001b[0;34m\u001b[0m\u001b[0m\n\u001b[1;32m     28\u001b[0m         \u001b[0;32mreturn\u001b[0m \u001b[0mcore\u001b[0m\u001b[0;34m.\u001b[0m\u001b[0mUrlData\u001b[0m\u001b[0;34m(\u001b[0m\u001b[0mdata\u001b[0m\u001b[0;34m)\u001b[0m\u001b[0;34m\u001b[0m\u001b[0m\n",
      "\u001b[0;32m/anaconda3/lib/python3.6/site-packages/toolz/functoolz.py\u001b[0m in \u001b[0;36mpipe\u001b[0;34m(data, *funcs)\u001b[0m\n\u001b[1;32m    550\u001b[0m     \"\"\"\n\u001b[1;32m    551\u001b[0m     \u001b[0;32mfor\u001b[0m \u001b[0mfunc\u001b[0m \u001b[0;32min\u001b[0m \u001b[0mfuncs\u001b[0m\u001b[0;34m:\u001b[0m\u001b[0;34m\u001b[0m\u001b[0m\n\u001b[0;32m--> 552\u001b[0;31m         \u001b[0mdata\u001b[0m \u001b[0;34m=\u001b[0m \u001b[0mfunc\u001b[0m\u001b[0;34m(\u001b[0m\u001b[0mdata\u001b[0m\u001b[0;34m)\u001b[0m\u001b[0;34m\u001b[0m\u001b[0m\n\u001b[0m\u001b[1;32m    553\u001b[0m     \u001b[0;32mreturn\u001b[0m \u001b[0mdata\u001b[0m\u001b[0;34m\u001b[0m\u001b[0m\n\u001b[1;32m    554\u001b[0m \u001b[0;34m\u001b[0m\u001b[0m\n",
      "\u001b[0;32m/anaconda3/lib/python3.6/site-packages/toolz/functoolz.py\u001b[0m in \u001b[0;36m__call__\u001b[0;34m(self, *args, **kwargs)\u001b[0m\n\u001b[1;32m    281\u001b[0m     \u001b[0;32mdef\u001b[0m \u001b[0m__call__\u001b[0m\u001b[0;34m(\u001b[0m\u001b[0mself\u001b[0m\u001b[0;34m,\u001b[0m \u001b[0;34m*\u001b[0m\u001b[0margs\u001b[0m\u001b[0;34m,\u001b[0m \u001b[0;34m**\u001b[0m\u001b[0mkwargs\u001b[0m\u001b[0;34m)\u001b[0m\u001b[0;34m:\u001b[0m\u001b[0;34m\u001b[0m\u001b[0m\n\u001b[1;32m    282\u001b[0m         \u001b[0;32mtry\u001b[0m\u001b[0;34m:\u001b[0m\u001b[0;34m\u001b[0m\u001b[0m\n\u001b[0;32m--> 283\u001b[0;31m             \u001b[0;32mreturn\u001b[0m \u001b[0mself\u001b[0m\u001b[0;34m.\u001b[0m\u001b[0m_partial\u001b[0m\u001b[0;34m(\u001b[0m\u001b[0;34m*\u001b[0m\u001b[0margs\u001b[0m\u001b[0;34m,\u001b[0m \u001b[0;34m**\u001b[0m\u001b[0mkwargs\u001b[0m\u001b[0;34m)\u001b[0m\u001b[0;34m\u001b[0m\u001b[0m\n\u001b[0m\u001b[1;32m    284\u001b[0m         \u001b[0;32mexcept\u001b[0m \u001b[0mTypeError\u001b[0m \u001b[0;32mas\u001b[0m \u001b[0mexc\u001b[0m\u001b[0;34m:\u001b[0m\u001b[0;34m\u001b[0m\u001b[0m\n\u001b[1;32m    285\u001b[0m             \u001b[0;32mif\u001b[0m \u001b[0mself\u001b[0m\u001b[0;34m.\u001b[0m\u001b[0m_should_curry\u001b[0m\u001b[0;34m(\u001b[0m\u001b[0margs\u001b[0m\u001b[0;34m,\u001b[0m \u001b[0mkwargs\u001b[0m\u001b[0;34m,\u001b[0m \u001b[0mexc\u001b[0m\u001b[0;34m)\u001b[0m\u001b[0;34m:\u001b[0m\u001b[0;34m\u001b[0m\u001b[0m\n",
      "\u001b[0;32m/anaconda3/lib/python3.6/site-packages/altair/vegalite/data.py\u001b[0m in \u001b[0;36mdefault_data_transformer\u001b[0;34m(data, max_rows)\u001b[0m\n\u001b[1;32m     10\u001b[0m \u001b[0;34m@\u001b[0m\u001b[0mcurry\u001b[0m\u001b[0;34m\u001b[0m\u001b[0m\n\u001b[1;32m     11\u001b[0m \u001b[0;32mdef\u001b[0m \u001b[0mdefault_data_transformer\u001b[0m\u001b[0;34m(\u001b[0m\u001b[0mdata\u001b[0m\u001b[0;34m,\u001b[0m \u001b[0mmax_rows\u001b[0m\u001b[0;34m=\u001b[0m\u001b[0;36m5000\u001b[0m\u001b[0;34m)\u001b[0m\u001b[0;34m:\u001b[0m\u001b[0;34m\u001b[0m\u001b[0m\n\u001b[0;32m---> 12\u001b[0;31m     \u001b[0;32mreturn\u001b[0m \u001b[0mpipe\u001b[0m\u001b[0;34m(\u001b[0m\u001b[0mdata\u001b[0m\u001b[0;34m,\u001b[0m \u001b[0mlimit_rows\u001b[0m\u001b[0;34m(\u001b[0m\u001b[0mmax_rows\u001b[0m\u001b[0;34m=\u001b[0m\u001b[0mmax_rows\u001b[0m\u001b[0;34m)\u001b[0m\u001b[0;34m,\u001b[0m \u001b[0mto_values\u001b[0m\u001b[0;34m)\u001b[0m\u001b[0;34m\u001b[0m\u001b[0m\n\u001b[0m\u001b[1;32m     13\u001b[0m \u001b[0;34m\u001b[0m\u001b[0m\n\u001b[1;32m     14\u001b[0m \u001b[0;34m\u001b[0m\u001b[0m\n",
      "\u001b[0;32m/anaconda3/lib/python3.6/site-packages/toolz/functoolz.py\u001b[0m in \u001b[0;36mpipe\u001b[0;34m(data, *funcs)\u001b[0m\n\u001b[1;32m    550\u001b[0m     \"\"\"\n\u001b[1;32m    551\u001b[0m     \u001b[0;32mfor\u001b[0m \u001b[0mfunc\u001b[0m \u001b[0;32min\u001b[0m \u001b[0mfuncs\u001b[0m\u001b[0;34m:\u001b[0m\u001b[0;34m\u001b[0m\u001b[0m\n\u001b[0;32m--> 552\u001b[0;31m         \u001b[0mdata\u001b[0m \u001b[0;34m=\u001b[0m \u001b[0mfunc\u001b[0m\u001b[0;34m(\u001b[0m\u001b[0mdata\u001b[0m\u001b[0;34m)\u001b[0m\u001b[0;34m\u001b[0m\u001b[0m\n\u001b[0m\u001b[1;32m    553\u001b[0m     \u001b[0;32mreturn\u001b[0m \u001b[0mdata\u001b[0m\u001b[0;34m\u001b[0m\u001b[0m\n\u001b[1;32m    554\u001b[0m \u001b[0;34m\u001b[0m\u001b[0m\n",
      "\u001b[0;32m/anaconda3/lib/python3.6/site-packages/toolz/functoolz.py\u001b[0m in \u001b[0;36m__call__\u001b[0;34m(self, *args, **kwargs)\u001b[0m\n\u001b[1;32m    281\u001b[0m     \u001b[0;32mdef\u001b[0m \u001b[0m__call__\u001b[0m\u001b[0;34m(\u001b[0m\u001b[0mself\u001b[0m\u001b[0;34m,\u001b[0m \u001b[0;34m*\u001b[0m\u001b[0margs\u001b[0m\u001b[0;34m,\u001b[0m \u001b[0;34m**\u001b[0m\u001b[0mkwargs\u001b[0m\u001b[0;34m)\u001b[0m\u001b[0;34m:\u001b[0m\u001b[0;34m\u001b[0m\u001b[0m\n\u001b[1;32m    282\u001b[0m         \u001b[0;32mtry\u001b[0m\u001b[0;34m:\u001b[0m\u001b[0;34m\u001b[0m\u001b[0m\n\u001b[0;32m--> 283\u001b[0;31m             \u001b[0;32mreturn\u001b[0m \u001b[0mself\u001b[0m\u001b[0;34m.\u001b[0m\u001b[0m_partial\u001b[0m\u001b[0;34m(\u001b[0m\u001b[0;34m*\u001b[0m\u001b[0margs\u001b[0m\u001b[0;34m,\u001b[0m \u001b[0;34m**\u001b[0m\u001b[0mkwargs\u001b[0m\u001b[0;34m)\u001b[0m\u001b[0;34m\u001b[0m\u001b[0m\n\u001b[0m\u001b[1;32m    284\u001b[0m         \u001b[0;32mexcept\u001b[0m \u001b[0mTypeError\u001b[0m \u001b[0;32mas\u001b[0m \u001b[0mexc\u001b[0m\u001b[0;34m:\u001b[0m\u001b[0;34m\u001b[0m\u001b[0m\n\u001b[1;32m    285\u001b[0m             \u001b[0;32mif\u001b[0m \u001b[0mself\u001b[0m\u001b[0;34m.\u001b[0m\u001b[0m_should_curry\u001b[0m\u001b[0;34m(\u001b[0m\u001b[0margs\u001b[0m\u001b[0;34m,\u001b[0m \u001b[0mkwargs\u001b[0m\u001b[0;34m,\u001b[0m \u001b[0mexc\u001b[0m\u001b[0;34m)\u001b[0m\u001b[0;34m:\u001b[0m\u001b[0;34m\u001b[0m\u001b[0m\n",
      "\u001b[0;32m/anaconda3/lib/python3.6/site-packages/altair/utils/data.py\u001b[0m in \u001b[0;36mlimit_rows\u001b[0;34m(data, max_rows)\u001b[0m\n\u001b[1;32m     62\u001b[0m                            \u001b[0;34m'than the maximum allowed ({0}). '\u001b[0m\u001b[0;34m\u001b[0m\u001b[0m\n\u001b[1;32m     63\u001b[0m                            \u001b[0;34m'For information on how to plot larger datasets '\u001b[0m\u001b[0;34m\u001b[0m\u001b[0m\n\u001b[0;32m---> 64\u001b[0;31m                            'in Altair, see the documentation'.format(max_rows))\n\u001b[0m\u001b[1;32m     65\u001b[0m     \u001b[0;32mreturn\u001b[0m \u001b[0mdata\u001b[0m\u001b[0;34m\u001b[0m\u001b[0m\n\u001b[1;32m     66\u001b[0m \u001b[0;34m\u001b[0m\u001b[0m\n",
      "\u001b[0;31mMaxRowsError\u001b[0m: The number of rows in your dataset is greater than the maximum allowed (5000). For information on how to plot larger datasets in Altair, see the documentation"
     ]
    },
    {
     "data": {
      "text/plain": [
       "Chart({\n",
       "  data:         t (ms)  V (uV)\n",
       "  0       703.96    4.79\n",
       "  1       704.00   -0.63\n",
       "  2       704.04    5.83\n",
       "  3       704.08    0.31\n",
       "  4       704.12   -4.58\n",
       "  5       704.16   21.67\n",
       "  6       704.20    8.13\n",
       "  7       704.24    5.94\n",
       "  8       704.28   14.79\n",
       "  9       704.32    2.71\n",
       "  10      704.36    0.94\n",
       "  11      704.40   17.40\n",
       "  12      704.44   11.77\n",
       "  13      704.48   -2.60\n",
       "  14      704.52    6.04\n",
       "  15      704.56   -3.44\n",
       "  16      704.60   -6.04\n",
       "  17      704.64   10.42\n",
       "  18      704.68   19.06\n",
       "  19      704.72    7.40\n",
       "  20      704.76    9.79\n",
       "  21      704.80   20.42\n",
       "  22      704.84   -0.10\n",
       "  23      704.88   -7.92\n",
       "  24      704.92   -7.29\n",
       "  25      704.96  -11.25\n",
       "  26      705.00  -12.19\n",
       "  27      705.04   12.60\n",
       "  28      705.08   -1.98\n",
       "  29      705.12  -10.31\n",
       "  ...        ...     ...\n",
       "  19971  1502.80  -11.04\n",
       "  19972  1502.84   -2.92\n",
       "  19973  1502.88   -6.46\n",
       "  19974  1502.92  -11.98\n",
       "  19975  1502.96   -2.40\n",
       "  19976  1503.00   -2.81\n",
       "  19977  1503.04  -16.67\n",
       "  19978  1503.08   -5.94\n",
       "  19979  1503.12    9.38\n",
       "  19980  1503.16    4.69\n",
       "  19981  1503.20    4.58\n",
       "  19982  1503.24    6.15\n",
       "  19983  1503.28   -2.71\n",
       "  19984  1503.32   -5.63\n",
       "  19985  1503.36   10.31\n",
       "  19986  1503.40   -3.96\n",
       "  19987  1503.44   -6.56\n",
       "  19988  1503.48    6.67\n",
       "  19989  1503.52   -2.50\n",
       "  19990  1503.56   -5.00\n",
       "  19991  1503.60   15.63\n",
       "  19992  1503.64    7.19\n",
       "  19993  1503.68   -2.92\n",
       "  19994  1503.72    8.33\n",
       "  19995  1503.76   -1.56\n",
       "  19996  1503.80   -4.27\n",
       "  19997  1503.84   17.50\n",
       "  19998  1503.88    9.48\n",
       "  19999  1503.92   -5.94\n",
       "  20000  1503.96   -1.56\n",
       "  \n",
       "  [20001 rows x 2 columns],\n",
       "  encoding: EncodingWithFacet({\n",
       "    x: X({\n",
       "      shorthand: 't (ms):Q'\n",
       "    }),\n",
       "    y: Y({\n",
       "      shorthand: 'V (uV):Q',\n",
       "      title: 'V (µV)'\n",
       "    })\n",
       "  }),\n",
       "  mark: 'line'\n",
       "})"
      ]
     },
     "execution_count": 23,
     "metadata": {},
     "output_type": "execute_result"
    }
   ],
   "source": [
    "alt.Chart(df\n",
    "    ).mark_line(\n",
    "    ).encode(\n",
    "        x='t (ms):Q',\n",
    "        y=alt.Y('V (uV):Q', title='V (µV)'))"
   ]
  },
  {
   "cell_type": "markdown",
   "metadata": {},
   "source": [
    "Wait! What happend? Altair threw an exception that the data set was too large to generate a plot. The [Altair docs](https://altair-viz.github.io/user_guide/faq.html#why-does-altair-lead-to-such-extremely-large-notebooks) explain why this is.\n",
    "\n",
    ">This is not because Altair cannot handle larger datasets, but it is because it is important for the user to think carefully about how large datasets are handled. As noted above in Why does Altair lead to such extremely large notebooks?, it is quite easy to end up with very large notebooks if you make many visualizations of a large dataset, and this error is a way of preventing that."
   ]
  },
  {
   "cell_type": "markdown",
   "metadata": {},
   "source": [
    "### Handling large data sets with Altair\n",
    "\n",
    "You will likely bump up against this in your work if you have large data sets. The [docs](https://altair-viz.github.io/user_guide/faq.html#maxrowserror-how-can-i-plot-large-datasets) give several ways to handle large data sets. Passing by URL is your best option, in my opinion. All you need to do to enable this is to include this line of code at the top of your notebook.\n",
    "```python\n",
    "alt.data_transformers.enable('json')\n",
    "```\n",
    "After you do that, you just use exactly the same plotting code as you would without it, except now the large data sets are easily handled. If this is enabled, every time you make a plot, a new [JSON document](https://en.wikipedia.org/wiki/JSON)is created externally to your notebook. Altair then references this document This keeps your notebook size down and results in better performance. There are a couple of important watchouts for doing this, though.\n",
    "1. Every time you make a plot, or even re-run a cell to make the same plot again, a new JSON file is created. (Future versions of Altair will probably have hashes that will prevent it from making new files if re-making a plot.) This can result in lots of JSON files in your directory. You should occasionally clean these out.\n",
    "2. Apparently, the JupyterLab extension for Bokeh (which we will use later in the course) messes with the way JupyterLab routes URL paths, as described in [this issue on the Altair GibHub page](https://github.com/altair-viz/altair/issues/927) and [this one on the `jupyterlab_bokeh` page](https://github.com/bokeh/jupyterlab_bokeh/issues/42). I suspect this issue will be fixed soon."
   ]
  },
  {
   "cell_type": "markdown",
   "metadata": {},
   "source": [
    "#### Fix 1 for issue 2\n",
    "As a temporary fix for issue 2, you can reinstall JupyterLab without the Bokeh extension. To do that, do the following on the command line (**don't** do this for bootcamp; only if in the future you want to use Altair exclusively).\n",
    "\n",
    "    jupyter labextension uninstall --no-build jupyterlab_bokeh\n",
    "    jupyter labextension uninstall --no-build @ijmbarr/jupyterlab_spellchecker\n",
    "    jupyter labextension uninstall --no-build @pyviz/jupyterlab_holoviews\n",
    "    jupyter labextension uninstall @jupyter-widgets/jupyterlab-manager\n",
    "    conda uninstall --yes jupyterlab\n",
    "    conda install --yes jupyterlab\n",
    "\n",
    "You can reinstall the spell checking lab extension if you wish, using\n",
    "\n",
    "    jupyter labextension install @ijmbarr/jupyterlab_spellchecker\n",
    "    \n",
    "Your clean install of JupyterLab will work with URL referencing in Altair plots."
   ]
  },
  {
   "cell_type": "markdown",
   "metadata": {},
   "source": [
    "#### Fix 2 for issue 2\n",
    "\n",
    "As another temporary fix, you can use classic Jupyter notebooks instead of JupyterLab. The classic notebook will soon be phased out, but for now, you can use Altair with it so long as you have Vega installed. To install Vega, do the following on the command line\n",
    "\n",
    "    conda install vega\n",
    "    \n",
    "You can launch your notebook using the Anaconda Launcher (open a Notebook, not JupyterLab). Right after your import of Altair, include the following lines to enable rendering of Altair plots in the classic notebook and URL passing.\n",
    "\n",
    "```python\n",
    "alt.renderers.enable('notebook')\n",
    "alt.data_transformers.enable('json')\n",
    "```\n",
    "\n",
    "Then you can proceed as normal."
   ]
  },
  {
   "cell_type": "markdown",
   "metadata": {},
   "source": [
    "### Trying again with a smaller data set\n",
    "\n",
    "Instead of implementing the fixes to use URL referencing and to keep the notebook size down, we will take a smaller data set. We will use `iloc` for purely integer indexing of the `DataFrame` and only consider 1000 data points."
   ]
  },
  {
   "cell_type": "code",
   "execution_count": 24,
   "metadata": {},
   "outputs": [
    {
     "data": {
      "application/vnd.vegalite.v2+json": {
       "$schema": "https://vega.github.io/schema/vega-lite/v2.4.3.json",
       "config": {
        "view": {
         "height": 300,
         "width": 400
        }
       },
       "data": {
        "values": [
         {
          "V (uV)": 4.79,
          "t (ms)": 703.96
         },
         {
          "V (uV)": -0.63,
          "t (ms)": 704
         },
         {
          "V (uV)": 5.83,
          "t (ms)": 704.04
         },
         {
          "V (uV)": 0.31,
          "t (ms)": 704.08
         },
         {
          "V (uV)": -4.58,
          "t (ms)": 704.12
         },
         {
          "V (uV)": 21.67,
          "t (ms)": 704.16
         },
         {
          "V (uV)": 8.13,
          "t (ms)": 704.2
         },
         {
          "V (uV)": 5.94,
          "t (ms)": 704.24
         },
         {
          "V (uV)": 14.79,
          "t (ms)": 704.28
         },
         {
          "V (uV)": 2.71,
          "t (ms)": 704.32
         },
         {
          "V (uV)": 0.94,
          "t (ms)": 704.36
         },
         {
          "V (uV)": 17.4,
          "t (ms)": 704.4
         },
         {
          "V (uV)": 11.77,
          "t (ms)": 704.44
         },
         {
          "V (uV)": -2.6,
          "t (ms)": 704.48
         },
         {
          "V (uV)": 6.04,
          "t (ms)": 704.52
         },
         {
          "V (uV)": -3.44,
          "t (ms)": 704.56
         },
         {
          "V (uV)": -6.04,
          "t (ms)": 704.6
         },
         {
          "V (uV)": 10.42,
          "t (ms)": 704.64
         },
         {
          "V (uV)": 19.06,
          "t (ms)": 704.68
         },
         {
          "V (uV)": 7.4,
          "t (ms)": 704.72
         },
         {
          "V (uV)": 9.79,
          "t (ms)": 704.76
         },
         {
          "V (uV)": 20.42,
          "t (ms)": 704.8
         },
         {
          "V (uV)": -0.1,
          "t (ms)": 704.84
         },
         {
          "V (uV)": -7.92,
          "t (ms)": 704.88
         },
         {
          "V (uV)": -7.29,
          "t (ms)": 704.92
         },
         {
          "V (uV)": -11.25,
          "t (ms)": 704.96
         },
         {
          "V (uV)": -12.19,
          "t (ms)": 705
         },
         {
          "V (uV)": 12.6,
          "t (ms)": 705.04
         },
         {
          "V (uV)": -1.98,
          "t (ms)": 705.08
         },
         {
          "V (uV)": -10.31,
          "t (ms)": 705.12
         },
         {
          "V (uV)": 0.1,
          "t (ms)": 705.16
         },
         {
          "V (uV)": -5.31,
          "t (ms)": 705.2
         },
         {
          "V (uV)": -8.02,
          "t (ms)": 705.24
         },
         {
          "V (uV)": 15.52,
          "t (ms)": 705.28
         },
         {
          "V (uV)": 4.17,
          "t (ms)": 705.32
         },
         {
          "V (uV)": -5.31,
          "t (ms)": 705.36
         },
         {
          "V (uV)": 3.65,
          "t (ms)": 705.4
         },
         {
          "V (uV)": -5.52,
          "t (ms)": 705.44
         },
         {
          "V (uV)": -11.25,
          "t (ms)": 705.48
         },
         {
          "V (uV)": 4.06,
          "t (ms)": 705.52
         },
         {
          "V (uV)": 6.25,
          "t (ms)": 705.56
         },
         {
          "V (uV)": -1.25,
          "t (ms)": 705.6
         },
         {
          "V (uV)": 7.29,
          "t (ms)": 705.64
         },
         {
          "V (uV)": 7.29,
          "t (ms)": 705.68
         },
         {
          "V (uV)": -6.56,
          "t (ms)": 705.72
         },
         {
          "V (uV)": -3.85,
          "t (ms)": 705.76
         },
         {
          "V (uV)": 12.71,
          "t (ms)": 705.8
         },
         {
          "V (uV)": -3.75,
          "t (ms)": 705.84
         },
         {
          "V (uV)": -5.73,
          "t (ms)": 705.88
         },
         {
          "V (uV)": 2.29,
          "t (ms)": 705.92
         },
         {
          "V (uV)": -2.92,
          "t (ms)": 705.96
         },
         {
          "V (uV)": -6.35,
          "t (ms)": 706
         },
         {
          "V (uV)": 21.35,
          "t (ms)": 706.04
         },
         {
          "V (uV)": 2.4,
          "t (ms)": 706.08
         },
         {
          "V (uV)": -7.29,
          "t (ms)": 706.12
         },
         {
          "V (uV)": 3.96,
          "t (ms)": 706.16
         },
         {
          "V (uV)": -3.23,
          "t (ms)": 706.2
         },
         {
          "V (uV)": -8.54,
          "t (ms)": 706.24
         },
         {
          "V (uV)": 15.1,
          "t (ms)": 706.28
         },
         {
          "V (uV)": 3.96,
          "t (ms)": 706.32
         },
         {
          "V (uV)": -2.5,
          "t (ms)": 706.36
         },
         {
          "V (uV)": 14.69,
          "t (ms)": 706.4
         },
         {
          "V (uV)": 3.13,
          "t (ms)": 706.44
         },
         {
          "V (uV)": -2.81,
          "t (ms)": 706.48
         },
         {
          "V (uV)": 8.54,
          "t (ms)": 706.52
         },
         {
          "V (uV)": 10.1,
          "t (ms)": 706.56
         },
         {
          "V (uV)": -0.63,
          "t (ms)": 706.6
         },
         {
          "V (uV)": 8.75,
          "t (ms)": 706.64
         },
         {
          "V (uV)": 15.42,
          "t (ms)": 706.68
         },
         {
          "V (uV)": 3.13,
          "t (ms)": 706.72
         },
         {
          "V (uV)": 1.46,
          "t (ms)": 706.76
         },
         {
          "V (uV)": -0.63,
          "t (ms)": 706.8
         },
         {
          "V (uV)": -6.67,
          "t (ms)": 706.84
         },
         {
          "V (uV)": -5.52,
          "t (ms)": 706.88
         },
         {
          "V (uV)": 11.35,
          "t (ms)": 706.92
         },
         {
          "V (uV)": 1.04,
          "t (ms)": 706.96
         },
         {
          "V (uV)": -1.88,
          "t (ms)": 707
         },
         {
          "V (uV)": 8.13,
          "t (ms)": 707.04
         },
         {
          "V (uV)": 1.46,
          "t (ms)": 707.08
         },
         {
          "V (uV)": -7.4,
          "t (ms)": 707.12
         },
         {
          "V (uV)": 11.25,
          "t (ms)": 707.16
         },
         {
          "V (uV)": -5.73,
          "t (ms)": 707.2
         },
         {
          "V (uV)": -9.27,
          "t (ms)": 707.24
         },
         {
          "V (uV)": 3.85,
          "t (ms)": 707.28
         },
         {
          "V (uV)": -7.19,
          "t (ms)": 707.32
         },
         {
          "V (uV)": -11.67,
          "t (ms)": 707.36
         },
         {
          "V (uV)": 13.33,
          "t (ms)": 707.4
         },
         {
          "V (uV)": 4.17,
          "t (ms)": 707.44
         },
         {
          "V (uV)": -11.98,
          "t (ms)": 707.48
         },
         {
          "V (uV)": -5.94,
          "t (ms)": 707.52
         },
         {
          "V (uV)": -6.56,
          "t (ms)": 707.56
         },
         {
          "V (uV)": -6.77,
          "t (ms)": 707.6
         },
         {
          "V (uV)": 3.23,
          "t (ms)": 707.64
         },
         {
          "V (uV)": 6.56,
          "t (ms)": 707.68
         },
         {
          "V (uV)": -6.15,
          "t (ms)": 707.72
         },
         {
          "V (uV)": -5.63,
          "t (ms)": 707.76
         },
         {
          "V (uV)": 2.19,
          "t (ms)": 707.8
         },
         {
          "V (uV)": -11.15,
          "t (ms)": 707.84
         },
         {
          "V (uV)": -8.96,
          "t (ms)": 707.88
         },
         {
          "V (uV)": 10.42,
          "t (ms)": 707.92
         },
         {
          "V (uV)": -4.17,
          "t (ms)": 707.96
         },
         {
          "V (uV)": -9.79,
          "t (ms)": 708
         },
         {
          "V (uV)": -4.79,
          "t (ms)": 708.04
         },
         {
          "V (uV)": -12.71,
          "t (ms)": 708.08
         },
         {
          "V (uV)": -19.58,
          "t (ms)": 708.12
         },
         {
          "V (uV)": 10.63,
          "t (ms)": 708.16
         },
         {
          "V (uV)": -1.67,
          "t (ms)": 708.2
         },
         {
          "V (uV)": -10,
          "t (ms)": 708.24
         },
         {
          "V (uV)": 1.98,
          "t (ms)": 708.28
         },
         {
          "V (uV)": -4.79,
          "t (ms)": 708.32
         },
         {
          "V (uV)": -5.42,
          "t (ms)": 708.36
         },
         {
          "V (uV)": 11.04,
          "t (ms)": 708.4
         },
         {
          "V (uV)": -0.21,
          "t (ms)": 708.44
         },
         {
          "V (uV)": -6.88,
          "t (ms)": 708.48
         },
         {
          "V (uV)": 4.79,
          "t (ms)": 708.52
         },
         {
          "V (uV)": -5.73,
          "t (ms)": 708.56
         },
         {
          "V (uV)": -11.56,
          "t (ms)": 708.6
         },
         {
          "V (uV)": -0.94,
          "t (ms)": 708.64
         },
         {
          "V (uV)": 6.15,
          "t (ms)": 708.68
         },
         {
          "V (uV)": -9.17,
          "t (ms)": 708.72
         },
         {
          "V (uV)": -8.65,
          "t (ms)": 708.76
         },
         {
          "V (uV)": 0.94,
          "t (ms)": 708.8
         },
         {
          "V (uV)": -16.56,
          "t (ms)": 708.84
         },
         {
          "V (uV)": -14.17,
          "t (ms)": 708.88
         },
         {
          "V (uV)": -5.83,
          "t (ms)": 708.92
         },
         {
          "V (uV)": -6.67,
          "t (ms)": 708.96
         },
         {
          "V (uV)": -5.83,
          "t (ms)": 709
         },
         {
          "V (uV)": 22.08,
          "t (ms)": 709.04
         },
         {
          "V (uV)": 5.42,
          "t (ms)": 709.08
         },
         {
          "V (uV)": -1.88,
          "t (ms)": 709.12
         },
         {
          "V (uV)": 4.69,
          "t (ms)": 709.16
         },
         {
          "V (uV)": 1.88,
          "t (ms)": 709.2
         },
         {
          "V (uV)": -6.88,
          "t (ms)": 709.24
         },
         {
          "V (uV)": 17.81,
          "t (ms)": 709.28
         },
         {
          "V (uV)": 4.17,
          "t (ms)": 709.32
         },
         {
          "V (uV)": -5,
          "t (ms)": 709.36
         },
         {
          "V (uV)": 8.65,
          "t (ms)": 709.4
         },
         {
          "V (uV)": -5.73,
          "t (ms)": 709.44
         },
         {
          "V (uV)": -12.08,
          "t (ms)": 709.48
         },
         {
          "V (uV)": 3.13,
          "t (ms)": 709.52
         },
         {
          "V (uV)": 1.15,
          "t (ms)": 709.56
         },
         {
          "V (uV)": -8.23,
          "t (ms)": 709.6
         },
         {
          "V (uV)": -0.94,
          "t (ms)": 709.64
         },
         {
          "V (uV)": 8.44,
          "t (ms)": 709.68
         },
         {
          "V (uV)": -10.63,
          "t (ms)": 709.72
         },
         {
          "V (uV)": -4.06,
          "t (ms)": 709.76
         },
         {
          "V (uV)": 10.42,
          "t (ms)": 709.8
         },
         {
          "V (uV)": -2.5,
          "t (ms)": 709.84
         },
         {
          "V (uV)": -0.1,
          "t (ms)": 709.88
         },
         {
          "V (uV)": 4.38,
          "t (ms)": 709.92
         },
         {
          "V (uV)": -8.13,
          "t (ms)": 709.96
         },
         {
          "V (uV)": -9.48,
          "t (ms)": 710
         },
         {
          "V (uV)": 18.54,
          "t (ms)": 710.04
         },
         {
          "V (uV)": 4.79,
          "t (ms)": 710.08
         },
         {
          "V (uV)": -0.63,
          "t (ms)": 710.12
         },
         {
          "V (uV)": 10.1,
          "t (ms)": 710.16
         },
         {
          "V (uV)": 2.19,
          "t (ms)": 710.2
         },
         {
          "V (uV)": -5.83,
          "t (ms)": 710.24
         },
         {
          "V (uV)": 17.5,
          "t (ms)": 710.28
         },
         {
          "V (uV)": 3.96,
          "t (ms)": 710.32
         },
         {
          "V (uV)": -12.6,
          "t (ms)": 710.36
         },
         {
          "V (uV)": -0.21,
          "t (ms)": 710.4
         },
         {
          "V (uV)": -9.9,
          "t (ms)": 710.44
         },
         {
          "V (uV)": -10.31,
          "t (ms)": 710.48
         },
         {
          "V (uV)": 4.69,
          "t (ms)": 710.52
         },
         {
          "V (uV)": 7.29,
          "t (ms)": 710.56
         },
         {
          "V (uV)": -4.27,
          "t (ms)": 710.6
         },
         {
          "V (uV)": 3.13,
          "t (ms)": 710.64
         },
         {
          "V (uV)": 10.94,
          "t (ms)": 710.68
         },
         {
          "V (uV)": -1.35,
          "t (ms)": 710.72
         },
         {
          "V (uV)": 6.04,
          "t (ms)": 710.76
         },
         {
          "V (uV)": 6.25,
          "t (ms)": 710.8
         },
         {
          "V (uV)": -4.38,
          "t (ms)": 710.84
         },
         {
          "V (uV)": -9.58,
          "t (ms)": 710.88
         },
         {
          "V (uV)": 8.75,
          "t (ms)": 710.92
         },
         {
          "V (uV)": -7.71,
          "t (ms)": 710.96
         },
         {
          "V (uV)": -15.1,
          "t (ms)": 711
         },
         {
          "V (uV)": -5.1,
          "t (ms)": 711.04
         },
         {
          "V (uV)": -6.15,
          "t (ms)": 711.08
         },
         {
          "V (uV)": -6.98,
          "t (ms)": 711.12
         },
         {
          "V (uV)": 18.96,
          "t (ms)": 711.16
         },
         {
          "V (uV)": 1.15,
          "t (ms)": 711.2
         },
         {
          "V (uV)": -4.9,
          "t (ms)": 711.24
         },
         {
          "V (uV)": 5.31,
          "t (ms)": 711.28
         },
         {
          "V (uV)": -12.92,
          "t (ms)": 711.32
         },
         {
          "V (uV)": -19.38,
          "t (ms)": 711.36
         },
         {
          "V (uV)": 3.96,
          "t (ms)": 711.4
         },
         {
          "V (uV)": 3.85,
          "t (ms)": 711.44
         },
         {
          "V (uV)": -9.38,
          "t (ms)": 711.48
         },
         {
          "V (uV)": 6.15,
          "t (ms)": 711.52
         },
         {
          "V (uV)": 0.1,
          "t (ms)": 711.56
         },
         {
          "V (uV)": -5.31,
          "t (ms)": 711.6
         },
         {
          "V (uV)": 8.65,
          "t (ms)": 711.64
         },
         {
          "V (uV)": 11.56,
          "t (ms)": 711.68
         },
         {
          "V (uV)": 1.77,
          "t (ms)": 711.72
         },
         {
          "V (uV)": 0.52,
          "t (ms)": 711.76
         },
         {
          "V (uV)": 7.4,
          "t (ms)": 711.8
         },
         {
          "V (uV)": -8.85,
          "t (ms)": 711.84
         },
         {
          "V (uV)": -2.71,
          "t (ms)": 711.88
         },
         {
          "V (uV)": 16.25,
          "t (ms)": 711.92
         },
         {
          "V (uV)": -1.88,
          "t (ms)": 711.96
         },
         {
          "V (uV)": -9.17,
          "t (ms)": 712
         },
         {
          "V (uV)": -2.29,
          "t (ms)": 712.04
         },
         {
          "V (uV)": -16.35,
          "t (ms)": 712.08
         },
         {
          "V (uV)": -37.29,
          "t (ms)": 712.12
         },
         {
          "V (uV)": -48.75,
          "t (ms)": 712.16
         },
         {
          "V (uV)": -90.52,
          "t (ms)": 712.2
         },
         {
          "V (uV)": -101.35,
          "t (ms)": 712.24
         },
         {
          "V (uV)": -75.83,
          "t (ms)": 712.28
         },
         {
          "V (uV)": -65.31,
          "t (ms)": 712.32
         },
         {
          "V (uV)": -47.81,
          "t (ms)": 712.36
         },
         {
          "V (uV)": -14.17,
          "t (ms)": 712.4
         },
         {
          "V (uV)": -11.04,
          "t (ms)": 712.44
         },
         {
          "V (uV)": -19.48,
          "t (ms)": 712.48
         },
         {
          "V (uV)": -3.75,
          "t (ms)": 712.52
         },
         {
          "V (uV)": -9.79,
          "t (ms)": 712.56
         },
         {
          "V (uV)": -4.79,
          "t (ms)": 712.6
         },
         {
          "V (uV)": 15.63,
          "t (ms)": 712.64
         },
         {
          "V (uV)": 22.81,
          "t (ms)": 712.68
         },
         {
          "V (uV)": 5.63,
          "t (ms)": 712.72
         },
         {
          "V (uV)": 2.71,
          "t (ms)": 712.76
         },
         {
          "V (uV)": 18.23,
          "t (ms)": 712.8
         },
         {
          "V (uV)": -0.52,
          "t (ms)": 712.84
         },
         {
          "V (uV)": -5.83,
          "t (ms)": 712.88
         },
         {
          "V (uV)": 5.1,
          "t (ms)": 712.92
         },
         {
          "V (uV)": 2.4,
          "t (ms)": 712.96
         },
         {
          "V (uV)": -1.25,
          "t (ms)": 713
         },
         {
          "V (uV)": 21.88,
          "t (ms)": 713.04
         },
         {
          "V (uV)": 6.77,
          "t (ms)": 713.08
         },
         {
          "V (uV)": 3.65,
          "t (ms)": 713.12
         },
         {
          "V (uV)": 14.06,
          "t (ms)": 713.16
         },
         {
          "V (uV)": 4.17,
          "t (ms)": 713.2
         },
         {
          "V (uV)": 0.52,
          "t (ms)": 713.24
         },
         {
          "V (uV)": 23.75,
          "t (ms)": 713.28
         },
         {
          "V (uV)": 13.02,
          "t (ms)": 713.32
         },
         {
          "V (uV)": 2.71,
          "t (ms)": 713.36
         },
         {
          "V (uV)": 14.48,
          "t (ms)": 713.4
         },
         {
          "V (uV)": 8.85,
          "t (ms)": 713.44
         },
         {
          "V (uV)": 2.4,
          "t (ms)": 713.48
         },
         {
          "V (uV)": 12.08,
          "t (ms)": 713.52
         },
         {
          "V (uV)": 13.44,
          "t (ms)": 713.56
         },
         {
          "V (uV)": -1.15,
          "t (ms)": 713.6
         },
         {
          "V (uV)": 4.9,
          "t (ms)": 713.64
         },
         {
          "V (uV)": 5.83,
          "t (ms)": 713.68
         },
         {
          "V (uV)": -3.65,
          "t (ms)": 713.72
         },
         {
          "V (uV)": -2.29,
          "t (ms)": 713.76
         },
         {
          "V (uV)": -2.5,
          "t (ms)": 713.8
         },
         {
          "V (uV)": -4.69,
          "t (ms)": 713.84
         },
         {
          "V (uV)": -3.44,
          "t (ms)": 713.88
         },
         {
          "V (uV)": 14.17,
          "t (ms)": 713.92
         },
         {
          "V (uV)": 1.46,
          "t (ms)": 713.96
         },
         {
          "V (uV)": -8.75,
          "t (ms)": 714
         },
         {
          "V (uV)": 12.92,
          "t (ms)": 714.04
         },
         {
          "V (uV)": -1.35,
          "t (ms)": 714.08
         },
         {
          "V (uV)": -10.21,
          "t (ms)": 714.12
         },
         {
          "V (uV)": -2.6,
          "t (ms)": 714.16
         },
         {
          "V (uV)": -14.38,
          "t (ms)": 714.2
         },
         {
          "V (uV)": -13.02,
          "t (ms)": 714.24
         },
         {
          "V (uV)": 13.65,
          "t (ms)": 714.28
         },
         {
          "V (uV)": 5.73,
          "t (ms)": 714.32
         },
         {
          "V (uV)": 0,
          "t (ms)": 714.36
         },
         {
          "V (uV)": 10.21,
          "t (ms)": 714.4
         },
         {
          "V (uV)": -3.85,
          "t (ms)": 714.44
         },
         {
          "V (uV)": -12.71,
          "t (ms)": 714.48
         },
         {
          "V (uV)": -0.73,
          "t (ms)": 714.52
         },
         {
          "V (uV)": 2.4,
          "t (ms)": 714.56
         },
         {
          "V (uV)": -4.38,
          "t (ms)": 714.6
         },
         {
          "V (uV)": 3.96,
          "t (ms)": 714.64
         },
         {
          "V (uV)": 7.4,
          "t (ms)": 714.68
         },
         {
          "V (uV)": -3.96,
          "t (ms)": 714.72
         },
         {
          "V (uV)": 2.92,
          "t (ms)": 714.76
         },
         {
          "V (uV)": 3.54,
          "t (ms)": 714.8
         },
         {
          "V (uV)": -5.73,
          "t (ms)": 714.84
         },
         {
          "V (uV)": -7.71,
          "t (ms)": 714.88
         },
         {
          "V (uV)": 13.85,
          "t (ms)": 714.92
         },
         {
          "V (uV)": 3.96,
          "t (ms)": 714.96
         },
         {
          "V (uV)": -3.02,
          "t (ms)": 715
         },
         {
          "V (uV)": 3.85,
          "t (ms)": 715.04
         },
         {
          "V (uV)": -4.79,
          "t (ms)": 715.08
         },
         {
          "V (uV)": -9.17,
          "t (ms)": 715.12
         },
         {
          "V (uV)": 16.98,
          "t (ms)": 715.16
         },
         {
          "V (uV)": -0.63,
          "t (ms)": 715.2
         },
         {
          "V (uV)": -14.38,
          "t (ms)": 715.24
         },
         {
          "V (uV)": -9.79,
          "t (ms)": 715.28
         },
         {
          "V (uV)": -14.9,
          "t (ms)": 715.32
         },
         {
          "V (uV)": -13.02,
          "t (ms)": 715.36
         },
         {
          "V (uV)": 8.75,
          "t (ms)": 715.4
         },
         {
          "V (uV)": -1.46,
          "t (ms)": 715.44
         },
         {
          "V (uV)": -11.15,
          "t (ms)": 715.48
         },
         {
          "V (uV)": 5,
          "t (ms)": 715.52
         },
         {
          "V (uV)": 2.81,
          "t (ms)": 715.56
         },
         {
          "V (uV)": -4.27,
          "t (ms)": 715.6
         },
         {
          "V (uV)": 4.48,
          "t (ms)": 715.64
         },
         {
          "V (uV)": 13.96,
          "t (ms)": 715.68
         },
         {
          "V (uV)": -5,
          "t (ms)": 715.72
         },
         {
          "V (uV)": -5.31,
          "t (ms)": 715.76
         },
         {
          "V (uV)": 5.42,
          "t (ms)": 715.8
         },
         {
          "V (uV)": -10.63,
          "t (ms)": 715.84
         },
         {
          "V (uV)": -10.42,
          "t (ms)": 715.88
         },
         {
          "V (uV)": -1.25,
          "t (ms)": 715.92
         },
         {
          "V (uV)": -12.71,
          "t (ms)": 715.96
         },
         {
          "V (uV)": -18.85,
          "t (ms)": 716
         },
         {
          "V (uV)": 10.21,
          "t (ms)": 716.04
         },
         {
          "V (uV)": -0.42,
          "t (ms)": 716.08
         },
         {
          "V (uV)": -15.63,
          "t (ms)": 716.12
         },
         {
          "V (uV)": 12.81,
          "t (ms)": 716.16
         },
         {
          "V (uV)": 0.52,
          "t (ms)": 716.2
         },
         {
          "V (uV)": -4.69,
          "t (ms)": 716.24
         },
         {
          "V (uV)": 12.71,
          "t (ms)": 716.28
         },
         {
          "V (uV)": 7.71,
          "t (ms)": 716.32
         },
         {
          "V (uV)": 4.27,
          "t (ms)": 716.36
         },
         {
          "V (uV)": 19.79,
          "t (ms)": 716.4
         },
         {
          "V (uV)": 6.46,
          "t (ms)": 716.44
         },
         {
          "V (uV)": -4.48,
          "t (ms)": 716.48
         },
         {
          "V (uV)": 10.52,
          "t (ms)": 716.52
         },
         {
          "V (uV)": -1.25,
          "t (ms)": 716.56
         },
         {
          "V (uV)": -5,
          "t (ms)": 716.6
         },
         {
          "V (uV)": 7.4,
          "t (ms)": 716.64
         },
         {
          "V (uV)": 11.67,
          "t (ms)": 716.68
         },
         {
          "V (uV)": -2.5,
          "t (ms)": 716.72
         },
         {
          "V (uV)": -3.75,
          "t (ms)": 716.76
         },
         {
          "V (uV)": 11.56,
          "t (ms)": 716.8
         },
         {
          "V (uV)": -4.38,
          "t (ms)": 716.84
         },
         {
          "V (uV)": -10.42,
          "t (ms)": 716.88
         },
         {
          "V (uV)": -5.1,
          "t (ms)": 716.92
         },
         {
          "V (uV)": -4.79,
          "t (ms)": 716.96
         },
         {
          "V (uV)": -6.88,
          "t (ms)": 717
         },
         {
          "V (uV)": 17.92,
          "t (ms)": 717.04
         },
         {
          "V (uV)": 2.92,
          "t (ms)": 717.08
         },
         {
          "V (uV)": -11.35,
          "t (ms)": 717.12
         },
         {
          "V (uV)": 0.63,
          "t (ms)": 717.16
         },
         {
          "V (uV)": -8.44,
          "t (ms)": 717.2
         },
         {
          "V (uV)": -6.35,
          "t (ms)": 717.24
         },
         {
          "V (uV)": 11.56,
          "t (ms)": 717.28
         },
         {
          "V (uV)": 4.69,
          "t (ms)": 717.32
         },
         {
          "V (uV)": -2.81,
          "t (ms)": 717.36
         },
         {
          "V (uV)": 11.15,
          "t (ms)": 717.4
         },
         {
          "V (uV)": 0.63,
          "t (ms)": 717.44
         },
         {
          "V (uV)": -7.6,
          "t (ms)": 717.48
         },
         {
          "V (uV)": 10.83,
          "t (ms)": 717.52
         },
         {
          "V (uV)": 11.88,
          "t (ms)": 717.56
         },
         {
          "V (uV)": 0.1,
          "t (ms)": 717.6
         },
         {
          "V (uV)": 5.73,
          "t (ms)": 717.64
         },
         {
          "V (uV)": 13.44,
          "t (ms)": 717.68
         },
         {
          "V (uV)": -1.25,
          "t (ms)": 717.72
         },
         {
          "V (uV)": -1.25,
          "t (ms)": 717.76
         },
         {
          "V (uV)": 4.27,
          "t (ms)": 717.8
         },
         {
          "V (uV)": -5.21,
          "t (ms)": 717.84
         },
         {
          "V (uV)": -2.92,
          "t (ms)": 717.88
         },
         {
          "V (uV)": 16.04,
          "t (ms)": 717.92
         },
         {
          "V (uV)": 4.48,
          "t (ms)": 717.96
         },
         {
          "V (uV)": -5.31,
          "t (ms)": 718
         },
         {
          "V (uV)": 17.92,
          "t (ms)": 718.04
         },
         {
          "V (uV)": -0.42,
          "t (ms)": 718.08
         },
         {
          "V (uV)": -7.4,
          "t (ms)": 718.12
         },
         {
          "V (uV)": 2.6,
          "t (ms)": 718.16
         },
         {
          "V (uV)": -8.85,
          "t (ms)": 718.2
         },
         {
          "V (uV)": -5.63,
          "t (ms)": 718.24
         },
         {
          "V (uV)": 13.33,
          "t (ms)": 718.28
         },
         {
          "V (uV)": 2.6,
          "t (ms)": 718.32
         },
         {
          "V (uV)": -9.17,
          "t (ms)": 718.36
         },
         {
          "V (uV)": 8.85,
          "t (ms)": 718.4
         },
         {
          "V (uV)": 0.63,
          "t (ms)": 718.44
         },
         {
          "V (uV)": -3.44,
          "t (ms)": 718.48
         },
         {
          "V (uV)": 10.94,
          "t (ms)": 718.52
         },
         {
          "V (uV)": 13.33,
          "t (ms)": 718.56
         },
         {
          "V (uV)": 4.06,
          "t (ms)": 718.6
         },
         {
          "V (uV)": 8.96,
          "t (ms)": 718.64
         },
         {
          "V (uV)": 14.17,
          "t (ms)": 718.68
         },
         {
          "V (uV)": 1.88,
          "t (ms)": 718.72
         },
         {
          "V (uV)": 4.17,
          "t (ms)": 718.76
         },
         {
          "V (uV)": 7.08,
          "t (ms)": 718.8
         },
         {
          "V (uV)": -0.83,
          "t (ms)": 718.84
         },
         {
          "V (uV)": -3.23,
          "t (ms)": 718.88
         },
         {
          "V (uV)": 20,
          "t (ms)": 718.92
         },
         {
          "V (uV)": 5.42,
          "t (ms)": 718.96
         },
         {
          "V (uV)": -0.94,
          "t (ms)": 719
         },
         {
          "V (uV)": 6.88,
          "t (ms)": 719.04
         },
         {
          "V (uV)": 2.29,
          "t (ms)": 719.08
         },
         {
          "V (uV)": -3.85,
          "t (ms)": 719.12
         },
         {
          "V (uV)": 20.94,
          "t (ms)": 719.16
         },
         {
          "V (uV)": 5.52,
          "t (ms)": 719.2
         },
         {
          "V (uV)": 3.54,
          "t (ms)": 719.24
         },
         {
          "V (uV)": 13.13,
          "t (ms)": 719.28
         },
         {
          "V (uV)": 1.88,
          "t (ms)": 719.32
         },
         {
          "V (uV)": -5,
          "t (ms)": 719.36
         },
         {
          "V (uV)": 7.29,
          "t (ms)": 719.4
         },
         {
          "V (uV)": 2.6,
          "t (ms)": 719.44
         },
         {
          "V (uV)": -7.71,
          "t (ms)": 719.48
         },
         {
          "V (uV)": 0.83,
          "t (ms)": 719.52
         },
         {
          "V (uV)": -2.29,
          "t (ms)": 719.56
         },
         {
          "V (uV)": -1.56,
          "t (ms)": 719.6
         },
         {
          "V (uV)": 7.92,
          "t (ms)": 719.64
         },
         {
          "V (uV)": 15.1,
          "t (ms)": 719.68
         },
         {
          "V (uV)": 1.77,
          "t (ms)": 719.72
         },
         {
          "V (uV)": 2.81,
          "t (ms)": 719.76
         },
         {
          "V (uV)": 12.6,
          "t (ms)": 719.8
         },
         {
          "V (uV)": 1.88,
          "t (ms)": 719.84
         },
         {
          "V (uV)": 1.77,
          "t (ms)": 719.88
         },
         {
          "V (uV)": 6.25,
          "t (ms)": 719.92
         },
         {
          "V (uV)": -2.6,
          "t (ms)": 719.96
         },
         {
          "V (uV)": -9.48,
          "t (ms)": 720
         },
         {
          "V (uV)": 9.27,
          "t (ms)": 720.04
         },
         {
          "V (uV)": -6.15,
          "t (ms)": 720.08
         },
         {
          "V (uV)": -16.25,
          "t (ms)": 720.12
         },
         {
          "V (uV)": 7.71,
          "t (ms)": 720.16
         },
         {
          "V (uV)": -1.88,
          "t (ms)": 720.2
         },
         {
          "V (uV)": -8.13,
          "t (ms)": 720.24
         },
         {
          "V (uV)": -1.35,
          "t (ms)": 720.28
         },
         {
          "V (uV)": -7.5,
          "t (ms)": 720.32
         },
         {
          "V (uV)": -9.48,
          "t (ms)": 720.36
         },
         {
          "V (uV)": 7.19,
          "t (ms)": 720.4
         },
         {
          "V (uV)": 5.94,
          "t (ms)": 720.44
         },
         {
          "V (uV)": -1.88,
          "t (ms)": 720.48
         },
         {
          "V (uV)": 9.69,
          "t (ms)": 720.52
         },
         {
          "V (uV)": 9.38,
          "t (ms)": 720.56
         },
         {
          "V (uV)": -3.65,
          "t (ms)": 720.6
         },
         {
          "V (uV)": 6.04,
          "t (ms)": 720.64
         },
         {
          "V (uV)": 5.1,
          "t (ms)": 720.68
         },
         {
          "V (uV)": 0.52,
          "t (ms)": 720.72
         },
         {
          "V (uV)": 0.83,
          "t (ms)": 720.76
         },
         {
          "V (uV)": 13.33,
          "t (ms)": 720.8
         },
         {
          "V (uV)": 5.1,
          "t (ms)": 720.84
         },
         {
          "V (uV)": 5.52,
          "t (ms)": 720.88
         },
         {
          "V (uV)": 7.5,
          "t (ms)": 720.92
         },
         {
          "V (uV)": -0.83,
          "t (ms)": 720.96
         },
         {
          "V (uV)": -3.13,
          "t (ms)": 721
         },
         {
          "V (uV)": 23.23,
          "t (ms)": 721.04
         },
         {
          "V (uV)": 5.52,
          "t (ms)": 721.08
         },
         {
          "V (uV)": -8.75,
          "t (ms)": 721.12
         },
         {
          "V (uV)": 0,
          "t (ms)": 721.16
         },
         {
          "V (uV)": -3.54,
          "t (ms)": 721.2
         },
         {
          "V (uV)": -1.46,
          "t (ms)": 721.24
         },
         {
          "V (uV)": 16.35,
          "t (ms)": 721.28
         },
         {
          "V (uV)": 2.4,
          "t (ms)": 721.32
         },
         {
          "V (uV)": -8.85,
          "t (ms)": 721.36
         },
         {
          "V (uV)": -0.42,
          "t (ms)": 721.4
         },
         {
          "V (uV)": -9.38,
          "t (ms)": 721.44
         },
         {
          "V (uV)": -15.83,
          "t (ms)": 721.48
         },
         {
          "V (uV)": 0.1,
          "t (ms)": 721.52
         },
         {
          "V (uV)": 2.19,
          "t (ms)": 721.56
         },
         {
          "V (uV)": -4.58,
          "t (ms)": 721.6
         },
         {
          "V (uV)": 8.02,
          "t (ms)": 721.64
         },
         {
          "V (uV)": 12.71,
          "t (ms)": 721.68
         },
         {
          "V (uV)": 0,
          "t (ms)": 721.72
         },
         {
          "V (uV)": 0.52,
          "t (ms)": 721.76
         },
         {
          "V (uV)": 5.31,
          "t (ms)": 721.8
         },
         {
          "V (uV)": 1.98,
          "t (ms)": 721.84
         },
         {
          "V (uV)": 0.63,
          "t (ms)": 721.88
         },
         {
          "V (uV)": 16.25,
          "t (ms)": 721.92
         },
         {
          "V (uV)": 5,
          "t (ms)": 721.96
         },
         {
          "V (uV)": 1.15,
          "t (ms)": 722
         },
         {
          "V (uV)": 11.56,
          "t (ms)": 722.04
         },
         {
          "V (uV)": 4.48,
          "t (ms)": 722.08
         },
         {
          "V (uV)": 0.94,
          "t (ms)": 722.12
         },
         {
          "V (uV)": 20.52,
          "t (ms)": 722.16
         },
         {
          "V (uV)": 2.92,
          "t (ms)": 722.2
         },
         {
          "V (uV)": -7.29,
          "t (ms)": 722.24
         },
         {
          "V (uV)": 8.23,
          "t (ms)": 722.28
         },
         {
          "V (uV)": 0.94,
          "t (ms)": 722.32
         },
         {
          "V (uV)": -11.25,
          "t (ms)": 722.36
         },
         {
          "V (uV)": 5.1,
          "t (ms)": 722.4
         },
         {
          "V (uV)": -5.94,
          "t (ms)": 722.44
         },
         {
          "V (uV)": -10.83,
          "t (ms)": 722.48
         },
         {
          "V (uV)": 6.56,
          "t (ms)": 722.52
         },
         {
          "V (uV)": 12.92,
          "t (ms)": 722.56
         },
         {
          "V (uV)": -2.19,
          "t (ms)": 722.6
         },
         {
          "V (uV)": 6.77,
          "t (ms)": 722.64
         },
         {
          "V (uV)": 12.5,
          "t (ms)": 722.68
         },
         {
          "V (uV)": -0.94,
          "t (ms)": 722.72
         },
         {
          "V (uV)": -2.19,
          "t (ms)": 722.76
         },
         {
          "V (uV)": -9.06,
          "t (ms)": 722.8
         },
         {
          "V (uV)": -14.79,
          "t (ms)": 722.84
         },
         {
          "V (uV)": -16.56,
          "t (ms)": 722.88
         },
         {
          "V (uV)": 5.1,
          "t (ms)": 722.92
         },
         {
          "V (uV)": -5.31,
          "t (ms)": 722.96
         },
         {
          "V (uV)": -9.27,
          "t (ms)": 723
         },
         {
          "V (uV)": 4.06,
          "t (ms)": 723.04
         },
         {
          "V (uV)": -2.6,
          "t (ms)": 723.08
         },
         {
          "V (uV)": -8.75,
          "t (ms)": 723.12
         },
         {
          "V (uV)": 16.67,
          "t (ms)": 723.16
         },
         {
          "V (uV)": 4.38,
          "t (ms)": 723.2
         },
         {
          "V (uV)": -6.04,
          "t (ms)": 723.24
         },
         {
          "V (uV)": 4.48,
          "t (ms)": 723.28
         },
         {
          "V (uV)": -4.9,
          "t (ms)": 723.32
         },
         {
          "V (uV)": -5.83,
          "t (ms)": 723.36
         },
         {
          "V (uV)": 15.52,
          "t (ms)": 723.4
         },
         {
          "V (uV)": 11.15,
          "t (ms)": 723.44
         },
         {
          "V (uV)": -7.92,
          "t (ms)": 723.48
         },
         {
          "V (uV)": 1.04,
          "t (ms)": 723.52
         },
         {
          "V (uV)": 4.27,
          "t (ms)": 723.56
         },
         {
          "V (uV)": -7.19,
          "t (ms)": 723.6
         },
         {
          "V (uV)": 5.83,
          "t (ms)": 723.64
         },
         {
          "V (uV)": 7.5,
          "t (ms)": 723.68
         },
         {
          "V (uV)": -1.46,
          "t (ms)": 723.72
         },
         {
          "V (uV)": 1.15,
          "t (ms)": 723.76
         },
         {
          "V (uV)": 14.58,
          "t (ms)": 723.8
         },
         {
          "V (uV)": -2.5,
          "t (ms)": 723.84
         },
         {
          "V (uV)": -3.85,
          "t (ms)": 723.88
         },
         {
          "V (uV)": -1.04,
          "t (ms)": 723.92
         },
         {
          "V (uV)": -11.77,
          "t (ms)": 723.96
         },
         {
          "V (uV)": -16.77,
          "t (ms)": 724
         },
         {
          "V (uV)": 5,
          "t (ms)": 724.04
         },
         {
          "V (uV)": -9.06,
          "t (ms)": 724.08
         },
         {
          "V (uV)": -11.15,
          "t (ms)": 724.12
         },
         {
          "V (uV)": 13.75,
          "t (ms)": 724.16
         },
         {
          "V (uV)": -1.98,
          "t (ms)": 724.2
         },
         {
          "V (uV)": -10.21,
          "t (ms)": 724.24
         },
         {
          "V (uV)": 1.46,
          "t (ms)": 724.28
         },
         {
          "V (uV)": -3.13,
          "t (ms)": 724.32
         },
         {
          "V (uV)": -7.29,
          "t (ms)": 724.36
         },
         {
          "V (uV)": 13.75,
          "t (ms)": 724.4
         },
         {
          "V (uV)": 12.71,
          "t (ms)": 724.44
         },
         {
          "V (uV)": -3.75,
          "t (ms)": 724.48
         },
         {
          "V (uV)": 6.56,
          "t (ms)": 724.52
         },
         {
          "V (uV)": 9.27,
          "t (ms)": 724.56
         },
         {
          "V (uV)": 2.71,
          "t (ms)": 724.6
         },
         {
          "V (uV)": 5.52,
          "t (ms)": 724.64
         },
         {
          "V (uV)": -0.94,
          "t (ms)": 724.68
         },
         {
          "V (uV)": 0,
          "t (ms)": 724.72
         },
         {
          "V (uV)": 9.17,
          "t (ms)": 724.76
         },
         {
          "V (uV)": 13.54,
          "t (ms)": 724.8
         },
         {
          "V (uV)": -5.83,
          "t (ms)": 724.84
         },
         {
          "V (uV)": -8.23,
          "t (ms)": 724.88
         },
         {
          "V (uV)": 3.44,
          "t (ms)": 724.92
         },
         {
          "V (uV)": -2.6,
          "t (ms)": 724.96
         },
         {
          "V (uV)": -0.1,
          "t (ms)": 725
         },
         {
          "V (uV)": 22.19,
          "t (ms)": 725.04
         },
         {
          "V (uV)": 0.63,
          "t (ms)": 725.08
         },
         {
          "V (uV)": -10.83,
          "t (ms)": 725.12
         },
         {
          "V (uV)": 1.67,
          "t (ms)": 725.16
         },
         {
          "V (uV)": -3.65,
          "t (ms)": 725.2
         },
         {
          "V (uV)": -11.35,
          "t (ms)": 725.24
         },
         {
          "V (uV)": 8.33,
          "t (ms)": 725.28
         },
         {
          "V (uV)": -0.31,
          "t (ms)": 725.32
         },
         {
          "V (uV)": -10.63,
          "t (ms)": 725.36
         },
         {
          "V (uV)": -1.56,
          "t (ms)": 725.4
         },
         {
          "V (uV)": -1.46,
          "t (ms)": 725.44
         },
         {
          "V (uV)": -3.23,
          "t (ms)": 725.48
         },
         {
          "V (uV)": 9.27,
          "t (ms)": 725.52
         },
         {
          "V (uV)": 13.85,
          "t (ms)": 725.56
         },
         {
          "V (uV)": 1.35,
          "t (ms)": 725.6
         },
         {
          "V (uV)": 4.48,
          "t (ms)": 725.64
         },
         {
          "V (uV)": 13.85,
          "t (ms)": 725.68
         },
         {
          "V (uV)": -1.25,
          "t (ms)": 725.72
         },
         {
          "V (uV)": -3.33,
          "t (ms)": 725.76
         },
         {
          "V (uV)": -0.21,
          "t (ms)": 725.8
         },
         {
          "V (uV)": -3.33,
          "t (ms)": 725.84
         },
         {
          "V (uV)": -0.83,
          "t (ms)": 725.88
         },
         {
          "V (uV)": 20.63,
          "t (ms)": 725.92
         },
         {
          "V (uV)": 2.19,
          "t (ms)": 725.96
         },
         {
          "V (uV)": -6.77,
          "t (ms)": 726
         },
         {
          "V (uV)": -1.46,
          "t (ms)": 726.04
         },
         {
          "V (uV)": -10.1,
          "t (ms)": 726.08
         },
         {
          "V (uV)": -10.21,
          "t (ms)": 726.12
         },
         {
          "V (uV)": 15.73,
          "t (ms)": 726.16
         },
         {
          "V (uV)": 0.73,
          "t (ms)": 726.2
         },
         {
          "V (uV)": -7.5,
          "t (ms)": 726.24
         },
         {
          "V (uV)": 10.94,
          "t (ms)": 726.28
         },
         {
          "V (uV)": 0.21,
          "t (ms)": 726.32
         },
         {
          "V (uV)": -1.67,
          "t (ms)": 726.36
         },
         {
          "V (uV)": 8.02,
          "t (ms)": 726.4
         },
         {
          "V (uV)": -1.98,
          "t (ms)": 726.44
         },
         {
          "V (uV)": -5.31,
          "t (ms)": 726.48
         },
         {
          "V (uV)": 8.33,
          "t (ms)": 726.52
         },
         {
          "V (uV)": 12.4,
          "t (ms)": 726.56
         },
         {
          "V (uV)": 0.94,
          "t (ms)": 726.6
         },
         {
          "V (uV)": 6.67,
          "t (ms)": 726.64
         },
         {
          "V (uV)": 11.04,
          "t (ms)": 726.68
         },
         {
          "V (uV)": -5.63,
          "t (ms)": 726.72
         },
         {
          "V (uV)": 5.1,
          "t (ms)": 726.76
         },
         {
          "V (uV)": 11.15,
          "t (ms)": 726.8
         },
         {
          "V (uV)": 2.81,
          "t (ms)": 726.84
         },
         {
          "V (uV)": 2.29,
          "t (ms)": 726.88
         },
         {
          "V (uV)": 20.63,
          "t (ms)": 726.92
         },
         {
          "V (uV)": 1.35,
          "t (ms)": 726.96
         },
         {
          "V (uV)": -4.58,
          "t (ms)": 727
         },
         {
          "V (uV)": 2.71,
          "t (ms)": 727.04
         },
         {
          "V (uV)": -5.42,
          "t (ms)": 727.08
         },
         {
          "V (uV)": -10.94,
          "t (ms)": 727.12
         },
         {
          "V (uV)": 17.5,
          "t (ms)": 727.16
         },
         {
          "V (uV)": 9.9,
          "t (ms)": 727.2
         },
         {
          "V (uV)": 1.46,
          "t (ms)": 727.24
         },
         {
          "V (uV)": 2.6,
          "t (ms)": 727.28
         },
         {
          "V (uV)": -13.02,
          "t (ms)": 727.32
         },
         {
          "V (uV)": -18.02,
          "t (ms)": 727.36
         },
         {
          "V (uV)": 7.6,
          "t (ms)": 727.4
         },
         {
          "V (uV)": 7.81,
          "t (ms)": 727.44
         },
         {
          "V (uV)": 1.56,
          "t (ms)": 727.48
         },
         {
          "V (uV)": 8.75,
          "t (ms)": 727.52
         },
         {
          "V (uV)": 6.04,
          "t (ms)": 727.56
         },
         {
          "V (uV)": -4.69,
          "t (ms)": 727.6
         },
         {
          "V (uV)": -1.15,
          "t (ms)": 727.64
         },
         {
          "V (uV)": -5.21,
          "t (ms)": 727.68
         },
         {
          "V (uV)": -8.23,
          "t (ms)": 727.72
         },
         {
          "V (uV)": 0.94,
          "t (ms)": 727.76
         },
         {
          "V (uV)": 16.98,
          "t (ms)": 727.8
         },
         {
          "V (uV)": 3.23,
          "t (ms)": 727.84
         },
         {
          "V (uV)": 1.46,
          "t (ms)": 727.88
         },
         {
          "V (uV)": 7.71,
          "t (ms)": 727.92
         },
         {
          "V (uV)": -1.67,
          "t (ms)": 727.96
         },
         {
          "V (uV)": -9.06,
          "t (ms)": 728
         },
         {
          "V (uV)": 13.75,
          "t (ms)": 728.04
         },
         {
          "V (uV)": -0.63,
          "t (ms)": 728.08
         },
         {
          "V (uV)": -1.98,
          "t (ms)": 728.12
         },
         {
          "V (uV)": 10,
          "t (ms)": 728.16
         },
         {
          "V (uV)": -1.46,
          "t (ms)": 728.2
         },
         {
          "V (uV)": -6.15,
          "t (ms)": 728.24
         },
         {
          "V (uV)": 15.73,
          "t (ms)": 728.28
         },
         {
          "V (uV)": 8.33,
          "t (ms)": 728.32
         },
         {
          "V (uV)": 0.83,
          "t (ms)": 728.36
         },
         {
          "V (uV)": 17.4,
          "t (ms)": 728.4
         },
         {
          "V (uV)": 5,
          "t (ms)": 728.44
         },
         {
          "V (uV)": -7.19,
          "t (ms)": 728.48
         },
         {
          "V (uV)": 11.25,
          "t (ms)": 728.52
         },
         {
          "V (uV)": 16.25,
          "t (ms)": 728.56
         },
         {
          "V (uV)": -2.08,
          "t (ms)": 728.6
         },
         {
          "V (uV)": 4.17,
          "t (ms)": 728.64
         },
         {
          "V (uV)": -2.81,
          "t (ms)": 728.68
         },
         {
          "V (uV)": -4.27,
          "t (ms)": 728.72
         },
         {
          "V (uV)": 6.35,
          "t (ms)": 728.76
         },
         {
          "V (uV)": 15.73,
          "t (ms)": 728.8
         },
         {
          "V (uV)": 3.23,
          "t (ms)": 728.84
         },
         {
          "V (uV)": -1.67,
          "t (ms)": 728.88
         },
         {
          "V (uV)": -0.42,
          "t (ms)": 728.92
         },
         {
          "V (uV)": -9.69,
          "t (ms)": 728.96
         },
         {
          "V (uV)": -16.35,
          "t (ms)": 729
         },
         {
          "V (uV)": 9.27,
          "t (ms)": 729.04
         },
         {
          "V (uV)": -3.13,
          "t (ms)": 729.08
         },
         {
          "V (uV)": -10.21,
          "t (ms)": 729.12
         },
         {
          "V (uV)": 1.77,
          "t (ms)": 729.16
         },
         {
          "V (uV)": -11.98,
          "t (ms)": 729.2
         },
         {
          "V (uV)": -14.9,
          "t (ms)": 729.24
         },
         {
          "V (uV)": 7.92,
          "t (ms)": 729.28
         },
         {
          "V (uV)": 2.19,
          "t (ms)": 729.32
         },
         {
          "V (uV)": -1.35,
          "t (ms)": 729.36
         },
         {
          "V (uV)": 12.4,
          "t (ms)": 729.4
         },
         {
          "V (uV)": 1.67,
          "t (ms)": 729.44
         },
         {
          "V (uV)": -10.63,
          "t (ms)": 729.48
         },
         {
          "V (uV)": 1.25,
          "t (ms)": 729.52
         },
         {
          "V (uV)": 8.65,
          "t (ms)": 729.56
         },
         {
          "V (uV)": 1.98,
          "t (ms)": 729.6
         },
         {
          "V (uV)": 11.56,
          "t (ms)": 729.64
         },
         {
          "V (uV)": 15,
          "t (ms)": 729.68
         },
         {
          "V (uV)": 3.54,
          "t (ms)": 729.72
         },
         {
          "V (uV)": 4.9,
          "t (ms)": 729.76
         },
         {
          "V (uV)": 4.38,
          "t (ms)": 729.8
         },
         {
          "V (uV)": 2.29,
          "t (ms)": 729.84
         },
         {
          "V (uV)": -0.83,
          "t (ms)": 729.88
         },
         {
          "V (uV)": 22.4,
          "t (ms)": 729.92
         },
         {
          "V (uV)": 6.77,
          "t (ms)": 729.96
         },
         {
          "V (uV)": -7.08,
          "t (ms)": 730
         },
         {
          "V (uV)": -6.56,
          "t (ms)": 730.04
         },
         {
          "V (uV)": -13.96,
          "t (ms)": 730.08
         },
         {
          "V (uV)": -11.98,
          "t (ms)": 730.12
         },
         {
          "V (uV)": 16.35,
          "t (ms)": 730.16
         },
         {
          "V (uV)": 0.42,
          "t (ms)": 730.2
         },
         {
          "V (uV)": -10.31,
          "t (ms)": 730.24
         },
         {
          "V (uV)": 9.48,
          "t (ms)": 730.28
         },
         {
          "V (uV)": -1.15,
          "t (ms)": 730.32
         },
         {
          "V (uV)": -10.1,
          "t (ms)": 730.36
         },
         {
          "V (uV)": 0.83,
          "t (ms)": 730.4
         },
         {
          "V (uV)": -6.25,
          "t (ms)": 730.44
         },
         {
          "V (uV)": -13.23,
          "t (ms)": 730.48
         },
         {
          "V (uV)": 4.48,
          "t (ms)": 730.52
         },
         {
          "V (uV)": 11.25,
          "t (ms)": 730.56
         },
         {
          "V (uV)": 1.04,
          "t (ms)": 730.6
         },
         {
          "V (uV)": 3.33,
          "t (ms)": 730.64
         },
         {
          "V (uV)": 10,
          "t (ms)": 730.68
         },
         {
          "V (uV)": -6.04,
          "t (ms)": 730.72
         },
         {
          "V (uV)": -3.75,
          "t (ms)": 730.76
         },
         {
          "V (uV)": 3.85,
          "t (ms)": 730.8
         },
         {
          "V (uV)": -1.56,
          "t (ms)": 730.84
         },
         {
          "V (uV)": -3.33,
          "t (ms)": 730.88
         },
         {
          "V (uV)": 17.19,
          "t (ms)": 730.92
         },
         {
          "V (uV)": 4.06,
          "t (ms)": 730.96
         },
         {
          "V (uV)": -7.19,
          "t (ms)": 731
         },
         {
          "V (uV)": -1.98,
          "t (ms)": 731.04
         },
         {
          "V (uV)": -9.48,
          "t (ms)": 731.08
         },
         {
          "V (uV)": -10.42,
          "t (ms)": 731.12
         },
         {
          "V (uV)": 13.75,
          "t (ms)": 731.16
         },
         {
          "V (uV)": 6.35,
          "t (ms)": 731.2
         },
         {
          "V (uV)": -4.9,
          "t (ms)": 731.24
         },
         {
          "V (uV)": 5.94,
          "t (ms)": 731.28
         },
         {
          "V (uV)": -6.56,
          "t (ms)": 731.32
         },
         {
          "V (uV)": -7.6,
          "t (ms)": 731.36
         },
         {
          "V (uV)": 12.4,
          "t (ms)": 731.4
         },
         {
          "V (uV)": 6.67,
          "t (ms)": 731.44
         },
         {
          "V (uV)": -5.52,
          "t (ms)": 731.48
         },
         {
          "V (uV)": 1.98,
          "t (ms)": 731.52
         },
         {
          "V (uV)": 3.02,
          "t (ms)": 731.56
         },
         {
          "V (uV)": -16.77,
          "t (ms)": 731.6
         },
         {
          "V (uV)": -10.31,
          "t (ms)": 731.64
         },
         {
          "V (uV)": -10.1,
          "t (ms)": 731.68
         },
         {
          "V (uV)": -15.52,
          "t (ms)": 731.72
         },
         {
          "V (uV)": -5.94,
          "t (ms)": 731.76
         },
         {
          "V (uV)": 11.88,
          "t (ms)": 731.8
         },
         {
          "V (uV)": -3.13,
          "t (ms)": 731.84
         },
         {
          "V (uV)": -6.46,
          "t (ms)": 731.88
         },
         {
          "V (uV)": 3.02,
          "t (ms)": 731.92
         },
         {
          "V (uV)": -3.13,
          "t (ms)": 731.96
         },
         {
          "V (uV)": -5.83,
          "t (ms)": 732
         },
         {
          "V (uV)": 21.56,
          "t (ms)": 732.04
         },
         {
          "V (uV)": 3.13,
          "t (ms)": 732.08
         },
         {
          "V (uV)": -5.21,
          "t (ms)": 732.12
         },
         {
          "V (uV)": 7.4,
          "t (ms)": 732.16
         },
         {
          "V (uV)": 0.52,
          "t (ms)": 732.2
         },
         {
          "V (uV)": -2.6,
          "t (ms)": 732.24
         },
         {
          "V (uV)": 18.54,
          "t (ms)": 732.28
         },
         {
          "V (uV)": 12.29,
          "t (ms)": 732.32
         },
         {
          "V (uV)": 1.35,
          "t (ms)": 732.36
         },
         {
          "V (uV)": 22.81,
          "t (ms)": 732.4
         },
         {
          "V (uV)": 15,
          "t (ms)": 732.44
         },
         {
          "V (uV)": 1.77,
          "t (ms)": 732.48
         },
         {
          "V (uV)": 9.58,
          "t (ms)": 732.52
         },
         {
          "V (uV)": 7.19,
          "t (ms)": 732.56
         },
         {
          "V (uV)": -6.35,
          "t (ms)": 732.6
         },
         {
          "V (uV)": -1.15,
          "t (ms)": 732.64
         },
         {
          "V (uV)": -1.04,
          "t (ms)": 732.68
         },
         {
          "V (uV)": -6.77,
          "t (ms)": 732.72
         },
         {
          "V (uV)": -4.48,
          "t (ms)": 732.76
         },
         {
          "V (uV)": 8.02,
          "t (ms)": 732.8
         },
         {
          "V (uV)": -11.67,
          "t (ms)": 732.84
         },
         {
          "V (uV)": -12.81,
          "t (ms)": 732.88
         },
         {
          "V (uV)": 1.25,
          "t (ms)": 732.92
         },
         {
          "V (uV)": -3.44,
          "t (ms)": 732.96
         },
         {
          "V (uV)": -5.73,
          "t (ms)": 733
         },
         {
          "V (uV)": 19.69,
          "t (ms)": 733.04
         },
         {
          "V (uV)": -1.46,
          "t (ms)": 733.08
         },
         {
          "V (uV)": -13.13,
          "t (ms)": 733.12
         },
         {
          "V (uV)": -4.79,
          "t (ms)": 733.16
         },
         {
          "V (uV)": -10.63,
          "t (ms)": 733.2
         },
         {
          "V (uV)": -15.94,
          "t (ms)": 733.24
         },
         {
          "V (uV)": 9.9,
          "t (ms)": 733.28
         },
         {
          "V (uV)": -0.31,
          "t (ms)": 733.32
         },
         {
          "V (uV)": -9.38,
          "t (ms)": 733.36
         },
         {
          "V (uV)": -2.71,
          "t (ms)": 733.4
         },
         {
          "V (uV)": -15,
          "t (ms)": 733.44
         },
         {
          "V (uV)": -15.63,
          "t (ms)": 733.48
         },
         {
          "V (uV)": 2.6,
          "t (ms)": 733.52
         },
         {
          "V (uV)": 2.19,
          "t (ms)": 733.56
         },
         {
          "V (uV)": -6.25,
          "t (ms)": 733.6
         },
         {
          "V (uV)": 0.1,
          "t (ms)": 733.64
         },
         {
          "V (uV)": 11.35,
          "t (ms)": 733.68
         },
         {
          "V (uV)": -1.35,
          "t (ms)": 733.72
         },
         {
          "V (uV)": -0.52,
          "t (ms)": 733.76
         },
         {
          "V (uV)": -0.83,
          "t (ms)": 733.8
         },
         {
          "V (uV)": -9.9,
          "t (ms)": 733.84
         },
         {
          "V (uV)": -10.31,
          "t (ms)": 733.88
         },
         {
          "V (uV)": 10.52,
          "t (ms)": 733.92
         },
         {
          "V (uV)": -6.35,
          "t (ms)": 733.96
         },
         {
          "V (uV)": -13.23,
          "t (ms)": 734
         },
         {
          "V (uV)": -4.69,
          "t (ms)": 734.04
         },
         {
          "V (uV)": -9.17,
          "t (ms)": 734.08
         },
         {
          "V (uV)": -11.25,
          "t (ms)": 734.12
         },
         {
          "V (uV)": 9.38,
          "t (ms)": 734.16
         },
         {
          "V (uV)": 0.73,
          "t (ms)": 734.2
         },
         {
          "V (uV)": -7.5,
          "t (ms)": 734.24
         },
         {
          "V (uV)": -2.08,
          "t (ms)": 734.28
         },
         {
          "V (uV)": -13.44,
          "t (ms)": 734.32
         },
         {
          "V (uV)": -18.23,
          "t (ms)": 734.36
         },
         {
          "V (uV)": 3.33,
          "t (ms)": 734.4
         },
         {
          "V (uV)": 4.79,
          "t (ms)": 734.44
         },
         {
          "V (uV)": -4.9,
          "t (ms)": 734.48
         },
         {
          "V (uV)": 11.98,
          "t (ms)": 734.52
         },
         {
          "V (uV)": 10.94,
          "t (ms)": 734.56
         },
         {
          "V (uV)": -1.77,
          "t (ms)": 734.6
         },
         {
          "V (uV)": -0.31,
          "t (ms)": 734.64
         },
         {
          "V (uV)": 6.98,
          "t (ms)": 734.68
         },
         {
          "V (uV)": -8.65,
          "t (ms)": 734.72
         },
         {
          "V (uV)": -10.21,
          "t (ms)": 734.76
         },
         {
          "V (uV)": -3.75,
          "t (ms)": 734.8
         },
         {
          "V (uV)": -3.96,
          "t (ms)": 734.84
         },
         {
          "V (uV)": -5,
          "t (ms)": 734.88
         },
         {
          "V (uV)": 14.69,
          "t (ms)": 734.92
         },
         {
          "V (uV)": 1.46,
          "t (ms)": 734.96
         },
         {
          "V (uV)": -3.13,
          "t (ms)": 735
         },
         {
          "V (uV)": 9.69,
          "t (ms)": 735.04
         },
         {
          "V (uV)": 1.77,
          "t (ms)": 735.08
         },
         {
          "V (uV)": -5.42,
          "t (ms)": 735.12
         },
         {
          "V (uV)": 11.67,
          "t (ms)": 735.16
         },
         {
          "V (uV)": -1.67,
          "t (ms)": 735.2
         },
         {
          "V (uV)": -9.27,
          "t (ms)": 735.24
         },
         {
          "V (uV)": 0.63,
          "t (ms)": 735.28
         },
         {
          "V (uV)": -7.6,
          "t (ms)": 735.32
         },
         {
          "V (uV)": -7.4,
          "t (ms)": 735.36
         },
         {
          "V (uV)": 6.04,
          "t (ms)": 735.4
         },
         {
          "V (uV)": 7.19,
          "t (ms)": 735.44
         },
         {
          "V (uV)": -1.77,
          "t (ms)": 735.48
         },
         {
          "V (uV)": 11.67,
          "t (ms)": 735.52
         },
         {
          "V (uV)": 9.9,
          "t (ms)": 735.56
         },
         {
          "V (uV)": -6.04,
          "t (ms)": 735.6
         },
         {
          "V (uV)": 3.85,
          "t (ms)": 735.64
         },
         {
          "V (uV)": -2.19,
          "t (ms)": 735.68
         },
         {
          "V (uV)": -12.19,
          "t (ms)": 735.72
         },
         {
          "V (uV)": -10.52,
          "t (ms)": 735.76
         },
         {
          "V (uV)": 7.81,
          "t (ms)": 735.8
         },
         {
          "V (uV)": 1.67,
          "t (ms)": 735.84
         },
         {
          "V (uV)": 0.42,
          "t (ms)": 735.88
         },
         {
          "V (uV)": 6.56,
          "t (ms)": 735.92
         },
         {
          "V (uV)": -7.5,
          "t (ms)": 735.96
         },
         {
          "V (uV)": -10.42,
          "t (ms)": 736
         },
         {
          "V (uV)": 17.08,
          "t (ms)": 736.04
         },
         {
          "V (uV)": 0.31,
          "t (ms)": 736.08
         },
         {
          "V (uV)": -6.67,
          "t (ms)": 736.12
         },
         {
          "V (uV)": -0.21,
          "t (ms)": 736.16
         },
         {
          "V (uV)": -8.75,
          "t (ms)": 736.2
         },
         {
          "V (uV)": -8.75,
          "t (ms)": 736.24
         },
         {
          "V (uV)": 9.9,
          "t (ms)": 736.28
         },
         {
          "V (uV)": -4.17,
          "t (ms)": 736.32
         },
         {
          "V (uV)": -11.56,
          "t (ms)": 736.36
         },
         {
          "V (uV)": -2.81,
          "t (ms)": 736.4
         },
         {
          "V (uV)": -13.85,
          "t (ms)": 736.44
         },
         {
          "V (uV)": -11.46,
          "t (ms)": 736.48
         },
         {
          "V (uV)": 5.73,
          "t (ms)": 736.52
         },
         {
          "V (uV)": 21.04,
          "t (ms)": 736.56
         },
         {
          "V (uV)": -0.21,
          "t (ms)": 736.6
         },
         {
          "V (uV)": 0.73,
          "t (ms)": 736.64
         },
         {
          "V (uV)": -2.29,
          "t (ms)": 736.68
         },
         {
          "V (uV)": -4.27,
          "t (ms)": 736.72
         },
         {
          "V (uV)": 3.13,
          "t (ms)": 736.76
         },
         {
          "V (uV)": 16.98,
          "t (ms)": 736.8
         },
         {
          "V (uV)": 1.25,
          "t (ms)": 736.84
         },
         {
          "V (uV)": -8.33,
          "t (ms)": 736.88
         },
         {
          "V (uV)": 2.5,
          "t (ms)": 736.92
         },
         {
          "V (uV)": -6.56,
          "t (ms)": 736.96
         },
         {
          "V (uV)": -13.96,
          "t (ms)": 737
         },
         {
          "V (uV)": 12.19,
          "t (ms)": 737.04
         },
         {
          "V (uV)": -2.81,
          "t (ms)": 737.08
         },
         {
          "V (uV)": -10.94,
          "t (ms)": 737.12
         },
         {
          "V (uV)": 3.96,
          "t (ms)": 737.16
         },
         {
          "V (uV)": 1.88,
          "t (ms)": 737.2
         },
         {
          "V (uV)": 1.25,
          "t (ms)": 737.24
         },
         {
          "V (uV)": 14.38,
          "t (ms)": 737.28
         },
         {
          "V (uV)": 4.27,
          "t (ms)": 737.32
         },
         {
          "V (uV)": -2.29,
          "t (ms)": 737.36
         },
         {
          "V (uV)": 16.67,
          "t (ms)": 737.4
         },
         {
          "V (uV)": 3.96,
          "t (ms)": 737.44
         },
         {
          "V (uV)": -6.67,
          "t (ms)": 737.48
         },
         {
          "V (uV)": 11.35,
          "t (ms)": 737.52
         },
         {
          "V (uV)": 13.65,
          "t (ms)": 737.56
         },
         {
          "V (uV)": -4.69,
          "t (ms)": 737.6
         },
         {
          "V (uV)": 0.73,
          "t (ms)": 737.64
         },
         {
          "V (uV)": 9.38,
          "t (ms)": 737.68
         },
         {
          "V (uV)": -5.94,
          "t (ms)": 737.72
         },
         {
          "V (uV)": -3.02,
          "t (ms)": 737.76
         },
         {
          "V (uV)": 0.21,
          "t (ms)": 737.8
         },
         {
          "V (uV)": -8.23,
          "t (ms)": 737.84
         },
         {
          "V (uV)": -13.85,
          "t (ms)": 737.88
         },
         {
          "V (uV)": 8.13,
          "t (ms)": 737.92
         },
         {
          "V (uV)": -4.17,
          "t (ms)": 737.96
         },
         {
          "V (uV)": -8.13,
          "t (ms)": 738
         },
         {
          "V (uV)": -3.02,
          "t (ms)": 738.04
         },
         {
          "V (uV)": -12.81,
          "t (ms)": 738.08
         },
         {
          "V (uV)": -15.83,
          "t (ms)": 738.12
         },
         {
          "V (uV)": 13.23,
          "t (ms)": 738.16
         },
         {
          "V (uV)": -0.73,
          "t (ms)": 738.2
         },
         {
          "V (uV)": -8.96,
          "t (ms)": 738.24
         },
         {
          "V (uV)": 0,
          "t (ms)": 738.28
         },
         {
          "V (uV)": -9.69,
          "t (ms)": 738.32
         },
         {
          "V (uV)": -13.65,
          "t (ms)": 738.36
         },
         {
          "V (uV)": 4.58,
          "t (ms)": 738.4
         },
         {
          "V (uV)": 4.38,
          "t (ms)": 738.44
         },
         {
          "V (uV)": -7.08,
          "t (ms)": 738.48
         },
         {
          "V (uV)": 8.65,
          "t (ms)": 738.52
         },
         {
          "V (uV)": 11.77,
          "t (ms)": 738.56
         },
         {
          "V (uV)": -1.67,
          "t (ms)": 738.6
         },
         {
          "V (uV)": 3.96,
          "t (ms)": 738.64
         },
         {
          "V (uV)": 11.35,
          "t (ms)": 738.68
         },
         {
          "V (uV)": -0.52,
          "t (ms)": 738.72
         },
         {
          "V (uV)": 2.81,
          "t (ms)": 738.76
         },
         {
          "V (uV)": 3.44,
          "t (ms)": 738.8
         },
         {
          "V (uV)": -2.29,
          "t (ms)": 738.84
         },
         {
          "V (uV)": -6.67,
          "t (ms)": 738.88
         },
         {
          "V (uV)": 13.65,
          "t (ms)": 738.92
         },
         {
          "V (uV)": 0.73,
          "t (ms)": 738.96
         },
         {
          "V (uV)": -5.63,
          "t (ms)": 739
         },
         {
          "V (uV)": 5.42,
          "t (ms)": 739.04
         },
         {
          "V (uV)": -6.56,
          "t (ms)": 739.08
         },
         {
          "V (uV)": -8.96,
          "t (ms)": 739.12
         },
         {
          "V (uV)": 19.9,
          "t (ms)": 739.16
         },
         {
          "V (uV)": 8.75,
          "t (ms)": 739.2
         },
         {
          "V (uV)": -2.6,
          "t (ms)": 739.24
         },
         {
          "V (uV)": 11.15,
          "t (ms)": 739.28
         },
         {
          "V (uV)": 6.04,
          "t (ms)": 739.32
         },
         {
          "V (uV)": 5.52,
          "t (ms)": 739.36
         },
         {
          "V (uV)": 19.06,
          "t (ms)": 739.4
         },
         {
          "V (uV)": 10.31,
          "t (ms)": 739.44
         },
         {
          "V (uV)": -1.25,
          "t (ms)": 739.48
         },
         {
          "V (uV)": 2.92,
          "t (ms)": 739.52
         },
         {
          "V (uV)": -0.83,
          "t (ms)": 739.56
         },
         {
          "V (uV)": -12.92,
          "t (ms)": 739.6
         },
         {
          "V (uV)": -6.15,
          "t (ms)": 739.64
         },
         {
          "V (uV)": -6.35,
          "t (ms)": 739.68
         },
         {
          "V (uV)": -9.79,
          "t (ms)": 739.72
         },
         {
          "V (uV)": -7.08,
          "t (ms)": 739.76
         },
         {
          "V (uV)": 6.88,
          "t (ms)": 739.8
         },
         {
          "V (uV)": -4.79,
          "t (ms)": 739.84
         },
         {
          "V (uV)": -10.21,
          "t (ms)": 739.88
         },
         {
          "V (uV)": -2.4,
          "t (ms)": 739.92
         },
         {
          "V (uV)": -4.9,
          "t (ms)": 739.96
         },
         {
          "V (uV)": -6.56,
          "t (ms)": 740
         },
         {
          "V (uV)": 18.02,
          "t (ms)": 740.04
         },
         {
          "V (uV)": 0.1,
          "t (ms)": 740.08
         },
         {
          "V (uV)": -10.42,
          "t (ms)": 740.12
         },
         {
          "V (uV)": -6.25,
          "t (ms)": 740.16
         },
         {
          "V (uV)": -11.04,
          "t (ms)": 740.2
         },
         {
          "V (uV)": -18.54,
          "t (ms)": 740.24
         },
         {
          "V (uV)": 1.88,
          "t (ms)": 740.28
         },
         {
          "V (uV)": -5.94,
          "t (ms)": 740.32
         },
         {
          "V (uV)": -9.9,
          "t (ms)": 740.36
         },
         {
          "V (uV)": 8.65,
          "t (ms)": 740.4
         },
         {
          "V (uV)": 4.27,
          "t (ms)": 740.44
         },
         {
          "V (uV)": -1.56,
          "t (ms)": 740.48
         },
         {
          "V (uV)": 10,
          "t (ms)": 740.52
         },
         {
          "V (uV)": 31.98,
          "t (ms)": 740.56
         },
         {
          "V (uV)": 10.42,
          "t (ms)": 740.6
         },
         {
          "V (uV)": 6.04,
          "t (ms)": 740.64
         },
         {
          "V (uV)": -0.94,
          "t (ms)": 740.68
         },
         {
          "V (uV)": -10,
          "t (ms)": 740.72
         },
         {
          "V (uV)": -3.44,
          "t (ms)": 740.76
         },
         {
          "V (uV)": 17.92,
          "t (ms)": 740.8
         },
         {
          "V (uV)": 0.31,
          "t (ms)": 740.84
         },
         {
          "V (uV)": -4.9,
          "t (ms)": 740.88
         },
         {
          "V (uV)": 1.88,
          "t (ms)": 740.92
         },
         {
          "V (uV)": -5.42,
          "t (ms)": 740.96
         },
         {
          "V (uV)": -6.35,
          "t (ms)": 741
         },
         {
          "V (uV)": 18.65,
          "t (ms)": 741.04
         },
         {
          "V (uV)": 1.35,
          "t (ms)": 741.08
         },
         {
          "V (uV)": -6.88,
          "t (ms)": 741.12
         },
         {
          "V (uV)": 4.48,
          "t (ms)": 741.16
         },
         {
          "V (uV)": -8.54,
          "t (ms)": 741.2
         },
         {
          "V (uV)": -12.4,
          "t (ms)": 741.24
         },
         {
          "V (uV)": 5.63,
          "t (ms)": 741.28
         },
         {
          "V (uV)": -3.33,
          "t (ms)": 741.32
         },
         {
          "V (uV)": -5.94,
          "t (ms)": 741.36
         },
         {
          "V (uV)": 7.81,
          "t (ms)": 741.4
         },
         {
          "V (uV)": 1.56,
          "t (ms)": 741.44
         },
         {
          "V (uV)": -6.25,
          "t (ms)": 741.48
         },
         {
          "V (uV)": 9.69,
          "t (ms)": 741.52
         },
         {
          "V (uV)": 16.77,
          "t (ms)": 741.56
         },
         {
          "V (uV)": 5,
          "t (ms)": 741.6
         },
         {
          "V (uV)": 9.17,
          "t (ms)": 741.64
         },
         {
          "V (uV)": 10.94,
          "t (ms)": 741.68
         },
         {
          "V (uV)": -5,
          "t (ms)": 741.72
         },
         {
          "V (uV)": 0.21,
          "t (ms)": 741.76
         },
         {
          "V (uV)": 5.73,
          "t (ms)": 741.8
         },
         {
          "V (uV)": -10.94,
          "t (ms)": 741.84
         },
         {
          "V (uV)": -8.02,
          "t (ms)": 741.88
         },
         {
          "V (uV)": 20.94,
          "t (ms)": 741.92
         },
         {
          "V (uV)": 7.5,
          "t (ms)": 741.96
         },
         {
          "V (uV)": -3.44,
          "t (ms)": 742
         },
         {
          "V (uV)": -0.52,
          "t (ms)": 742.04
         },
         {
          "V (uV)": -9.58,
          "t (ms)": 742.08
         },
         {
          "V (uV)": -13.13,
          "t (ms)": 742.12
         },
         {
          "V (uV)": 18.33,
          "t (ms)": 742.16
         },
         {
          "V (uV)": 7.4,
          "t (ms)": 742.2
         },
         {
          "V (uV)": -3.44,
          "t (ms)": 742.24
         },
         {
          "V (uV)": 0.94,
          "t (ms)": 742.28
         },
         {
          "V (uV)": -8.23,
          "t (ms)": 742.32
         },
         {
          "V (uV)": -13.44,
          "t (ms)": 742.36
         },
         {
          "V (uV)": 5.42,
          "t (ms)": 742.4
         },
         {
          "V (uV)": 4.48,
          "t (ms)": 742.44
         },
         {
          "V (uV)": -5.1,
          "t (ms)": 742.48
         },
         {
          "V (uV)": 8.44,
          "t (ms)": 742.52
         },
         {
          "V (uV)": 9.69,
          "t (ms)": 742.56
         },
         {
          "V (uV)": -2.6,
          "t (ms)": 742.6
         },
         {
          "V (uV)": 7.08,
          "t (ms)": 742.64
         },
         {
          "V (uV)": 18.85,
          "t (ms)": 742.68
         },
         {
          "V (uV)": -0.21,
          "t (ms)": 742.72
         },
         {
          "V (uV)": -6.35,
          "t (ms)": 742.76
         },
         {
          "V (uV)": -1.25,
          "t (ms)": 742.8
         },
         {
          "V (uV)": -9.69,
          "t (ms)": 742.84
         },
         {
          "V (uV)": -6.67,
          "t (ms)": 742.88
         },
         {
          "V (uV)": 16.88,
          "t (ms)": 742.92
         },
         {
          "V (uV)": 0.94,
          "t (ms)": 742.96
         },
         {
          "V (uV)": -6.56,
          "t (ms)": 743
         },
         {
          "V (uV)": 4.27,
          "t (ms)": 743.04
         },
         {
          "V (uV)": -2.4,
          "t (ms)": 743.08
         },
         {
          "V (uV)": -12.19,
          "t (ms)": 743.12
         },
         {
          "V (uV)": 6.88,
          "t (ms)": 743.16
         },
         {
          "V (uV)": -0.1,
          "t (ms)": 743.2
         },
         {
          "V (uV)": -5.52,
          "t (ms)": 743.24
         },
         {
          "V (uV)": 9.48,
          "t (ms)": 743.28
         },
         {
          "V (uV)": 6.15,
          "t (ms)": 743.32
         },
         {
          "V (uV)": 4.69,
          "t (ms)": 743.36
         },
         {
          "V (uV)": 22.6,
          "t (ms)": 743.4
         },
         {
          "V (uV)": 18.44,
          "t (ms)": 743.44
         },
         {
          "V (uV)": 4.06,
          "t (ms)": 743.48
         },
         {
          "V (uV)": 6.67,
          "t (ms)": 743.52
         },
         {
          "V (uV)": 7.4,
          "t (ms)": 743.56
         },
         {
          "V (uV)": -5.21,
          "t (ms)": 743.6
         },
         {
          "V (uV)": 1.46,
          "t (ms)": 743.64
         },
         {
          "V (uV)": -4.17,
          "t (ms)": 743.68
         },
         {
          "V (uV)": -9.79,
          "t (ms)": 743.72
         },
         {
          "V (uV)": -6.67,
          "t (ms)": 743.76
         },
         {
          "V (uV)": 4.79,
          "t (ms)": 743.8
         },
         {
          "V (uV)": -11.15,
          "t (ms)": 743.84
         },
         {
          "V (uV)": -8.23,
          "t (ms)": 743.88
         },
         {
          "V (uV)": -3.75,
          "t (ms)": 743.92
         }
        ]
       },
       "encoding": {
        "x": {
         "field": "t (ms)",
         "type": "quantitative"
        },
        "y": {
         "field": "V (uV)",
         "title": "V (µV)",
         "type": "quantitative"
        }
       },
       "mark": "line"
      },
      "image/png": "[encoded data removed]",
      "text/plain": [
       "<VegaLite 2 object>\n",
       "\n",
       "If you see this message, it means the renderer has not been properly enabled\n",
       "for the frontend that you are using. For more information, see\n",
       "https://altair-viz.github.io/user_guide/troubleshooting.html\n"
      ]
     },
     "execution_count": 24,
     "metadata": {},
     "output_type": "execute_result"
    }
   ],
   "source": [
    "df = df.iloc[:1000, :]\n",
    "\n",
    "alt.Chart(df\n",
    "    ).mark_line(\n",
    "    ).encode(\n",
    "        x='t (ms):Q',\n",
    "        y=alt.Y('V (uV):Q', title='V (µV)'))"
   ]
  },
  {
   "cell_type": "markdown",
   "metadata": {},
   "source": [
    "We see a spike clearly resolved."
   ]
  },
  {
   "cell_type": "markdown",
   "metadata": {},
   "source": [
    "### Encoding the order\n",
    "\n",
    "Remember that there is no inherent order to the entries in a `DataFrame`. (Note that when we do this, `iloc` can be really dangerous to use. In general, you really should avoid using `iloc`.) Altair tries to be clever when making line plots as to the order in which the points are connected. Specifically, it assumes that the lines should be connected such that the `x` values are sorted. This often works fine, but what if we wanted to plot the trace with time on the y-axis and voltage on the x-axis? Let's try it. Before we do, though, I'll point out that by default, Altair starts the y-axis at zero if all of the y-values are positive. If we want to turn that off, we need to use the appropriate `scale` kwarg in `alt.Y()`."
   ]
  },
  {
   "cell_type": "code",
   "execution_count": 25,
   "metadata": {},
   "outputs": [
    {
     "data": {
      "application/vnd.vegalite.v2+json": {
       "$schema": "https://vega.github.io/schema/vega-lite/v2.4.3.json",
       "config": {
        "view": {
         "height": 300,
         "width": 400
        }
       },
       "data": {
        "values": [
         {
          "V (uV)": 4.79,
          "t (ms)": 703.96
         },
         {
          "V (uV)": -0.63,
          "t (ms)": 704
         },
         {
          "V (uV)": 5.83,
          "t (ms)": 704.04
         },
         {
          "V (uV)": 0.31,
          "t (ms)": 704.08
         },
         {
          "V (uV)": -4.58,
          "t (ms)": 704.12
         },
         {
          "V (uV)": 21.67,
          "t (ms)": 704.16
         },
         {
          "V (uV)": 8.13,
          "t (ms)": 704.2
         },
         {
          "V (uV)": 5.94,
          "t (ms)": 704.24
         },
         {
          "V (uV)": 14.79,
          "t (ms)": 704.28
         },
         {
          "V (uV)": 2.71,
          "t (ms)": 704.32
         },
         {
          "V (uV)": 0.94,
          "t (ms)": 704.36
         },
         {
          "V (uV)": 17.4,
          "t (ms)": 704.4
         },
         {
          "V (uV)": 11.77,
          "t (ms)": 704.44
         },
         {
          "V (uV)": -2.6,
          "t (ms)": 704.48
         },
         {
          "V (uV)": 6.04,
          "t (ms)": 704.52
         },
         {
          "V (uV)": -3.44,
          "t (ms)": 704.56
         },
         {
          "V (uV)": -6.04,
          "t (ms)": 704.6
         },
         {
          "V (uV)": 10.42,
          "t (ms)": 704.64
         },
         {
          "V (uV)": 19.06,
          "t (ms)": 704.68
         },
         {
          "V (uV)": 7.4,
          "t (ms)": 704.72
         },
         {
          "V (uV)": 9.79,
          "t (ms)": 704.76
         },
         {
          "V (uV)": 20.42,
          "t (ms)": 704.8
         },
         {
          "V (uV)": -0.1,
          "t (ms)": 704.84
         },
         {
          "V (uV)": -7.92,
          "t (ms)": 704.88
         },
         {
          "V (uV)": -7.29,
          "t (ms)": 704.92
         },
         {
          "V (uV)": -11.25,
          "t (ms)": 704.96
         },
         {
          "V (uV)": -12.19,
          "t (ms)": 705
         },
         {
          "V (uV)": 12.6,
          "t (ms)": 705.04
         },
         {
          "V (uV)": -1.98,
          "t (ms)": 705.08
         },
         {
          "V (uV)": -10.31,
          "t (ms)": 705.12
         },
         {
          "V (uV)": 0.1,
          "t (ms)": 705.16
         },
         {
          "V (uV)": -5.31,
          "t (ms)": 705.2
         },
         {
          "V (uV)": -8.02,
          "t (ms)": 705.24
         },
         {
          "V (uV)": 15.52,
          "t (ms)": 705.28
         },
         {
          "V (uV)": 4.17,
          "t (ms)": 705.32
         },
         {
          "V (uV)": -5.31,
          "t (ms)": 705.36
         },
         {
          "V (uV)": 3.65,
          "t (ms)": 705.4
         },
         {
          "V (uV)": -5.52,
          "t (ms)": 705.44
         },
         {
          "V (uV)": -11.25,
          "t (ms)": 705.48
         },
         {
          "V (uV)": 4.06,
          "t (ms)": 705.52
         },
         {
          "V (uV)": 6.25,
          "t (ms)": 705.56
         },
         {
          "V (uV)": -1.25,
          "t (ms)": 705.6
         },
         {
          "V (uV)": 7.29,
          "t (ms)": 705.64
         },
         {
          "V (uV)": 7.29,
          "t (ms)": 705.68
         },
         {
          "V (uV)": -6.56,
          "t (ms)": 705.72
         },
         {
          "V (uV)": -3.85,
          "t (ms)": 705.76
         },
         {
          "V (uV)": 12.71,
          "t (ms)": 705.8
         },
         {
          "V (uV)": -3.75,
          "t (ms)": 705.84
         },
         {
          "V (uV)": -5.73,
          "t (ms)": 705.88
         },
         {
          "V (uV)": 2.29,
          "t (ms)": 705.92
         },
         {
          "V (uV)": -2.92,
          "t (ms)": 705.96
         },
         {
          "V (uV)": -6.35,
          "t (ms)": 706
         },
         {
          "V (uV)": 21.35,
          "t (ms)": 706.04
         },
         {
          "V (uV)": 2.4,
          "t (ms)": 706.08
         },
         {
          "V (uV)": -7.29,
          "t (ms)": 706.12
         },
         {
          "V (uV)": 3.96,
          "t (ms)": 706.16
         },
         {
          "V (uV)": -3.23,
          "t (ms)": 706.2
         },
         {
          "V (uV)": -8.54,
          "t (ms)": 706.24
         },
         {
          "V (uV)": 15.1,
          "t (ms)": 706.28
         },
         {
          "V (uV)": 3.96,
          "t (ms)": 706.32
         },
         {
          "V (uV)": -2.5,
          "t (ms)": 706.36
         },
         {
          "V (uV)": 14.69,
          "t (ms)": 706.4
         },
         {
          "V (uV)": 3.13,
          "t (ms)": 706.44
         },
         {
          "V (uV)": -2.81,
          "t (ms)": 706.48
         },
         {
          "V (uV)": 8.54,
          "t (ms)": 706.52
         },
         {
          "V (uV)": 10.1,
          "t (ms)": 706.56
         },
         {
          "V (uV)": -0.63,
          "t (ms)": 706.6
         },
         {
          "V (uV)": 8.75,
          "t (ms)": 706.64
         },
         {
          "V (uV)": 15.42,
          "t (ms)": 706.68
         },
         {
          "V (uV)": 3.13,
          "t (ms)": 706.72
         },
         {
          "V (uV)": 1.46,
          "t (ms)": 706.76
         },
         {
          "V (uV)": -0.63,
          "t (ms)": 706.8
         },
         {
          "V (uV)": -6.67,
          "t (ms)": 706.84
         },
         {
          "V (uV)": -5.52,
          "t (ms)": 706.88
         },
         {
          "V (uV)": 11.35,
          "t (ms)": 706.92
         },
         {
          "V (uV)": 1.04,
          "t (ms)": 706.96
         },
         {
          "V (uV)": -1.88,
          "t (ms)": 707
         },
         {
          "V (uV)": 8.13,
          "t (ms)": 707.04
         },
         {
          "V (uV)": 1.46,
          "t (ms)": 707.08
         },
         {
          "V (uV)": -7.4,
          "t (ms)": 707.12
         },
         {
          "V (uV)": 11.25,
          "t (ms)": 707.16
         },
         {
          "V (uV)": -5.73,
          "t (ms)": 707.2
         },
         {
          "V (uV)": -9.27,
          "t (ms)": 707.24
         },
         {
          "V (uV)": 3.85,
          "t (ms)": 707.28
         },
         {
          "V (uV)": -7.19,
          "t (ms)": 707.32
         },
         {
          "V (uV)": -11.67,
          "t (ms)": 707.36
         },
         {
          "V (uV)": 13.33,
          "t (ms)": 707.4
         },
         {
          "V (uV)": 4.17,
          "t (ms)": 707.44
         },
         {
          "V (uV)": -11.98,
          "t (ms)": 707.48
         },
         {
          "V (uV)": -5.94,
          "t (ms)": 707.52
         },
         {
          "V (uV)": -6.56,
          "t (ms)": 707.56
         },
         {
          "V (uV)": -6.77,
          "t (ms)": 707.6
         },
         {
          "V (uV)": 3.23,
          "t (ms)": 707.64
         },
         {
          "V (uV)": 6.56,
          "t (ms)": 707.68
         },
         {
          "V (uV)": -6.15,
          "t (ms)": 707.72
         },
         {
          "V (uV)": -5.63,
          "t (ms)": 707.76
         },
         {
          "V (uV)": 2.19,
          "t (ms)": 707.8
         },
         {
          "V (uV)": -11.15,
          "t (ms)": 707.84
         },
         {
          "V (uV)": -8.96,
          "t (ms)": 707.88
         },
         {
          "V (uV)": 10.42,
          "t (ms)": 707.92
         },
         {
          "V (uV)": -4.17,
          "t (ms)": 707.96
         },
         {
          "V (uV)": -9.79,
          "t (ms)": 708
         },
         {
          "V (uV)": -4.79,
          "t (ms)": 708.04
         },
         {
          "V (uV)": -12.71,
          "t (ms)": 708.08
         },
         {
          "V (uV)": -19.58,
          "t (ms)": 708.12
         },
         {
          "V (uV)": 10.63,
          "t (ms)": 708.16
         },
         {
          "V (uV)": -1.67,
          "t (ms)": 708.2
         },
         {
          "V (uV)": -10,
          "t (ms)": 708.24
         },
         {
          "V (uV)": 1.98,
          "t (ms)": 708.28
         },
         {
          "V (uV)": -4.79,
          "t (ms)": 708.32
         },
         {
          "V (uV)": -5.42,
          "t (ms)": 708.36
         },
         {
          "V (uV)": 11.04,
          "t (ms)": 708.4
         },
         {
          "V (uV)": -0.21,
          "t (ms)": 708.44
         },
         {
          "V (uV)": -6.88,
          "t (ms)": 708.48
         },
         {
          "V (uV)": 4.79,
          "t (ms)": 708.52
         },
         {
          "V (uV)": -5.73,
          "t (ms)": 708.56
         },
         {
          "V (uV)": -11.56,
          "t (ms)": 708.6
         },
         {
          "V (uV)": -0.94,
          "t (ms)": 708.64
         },
         {
          "V (uV)": 6.15,
          "t (ms)": 708.68
         },
         {
          "V (uV)": -9.17,
          "t (ms)": 708.72
         },
         {
          "V (uV)": -8.65,
          "t (ms)": 708.76
         },
         {
          "V (uV)": 0.94,
          "t (ms)": 708.8
         },
         {
          "V (uV)": -16.56,
          "t (ms)": 708.84
         },
         {
          "V (uV)": -14.17,
          "t (ms)": 708.88
         },
         {
          "V (uV)": -5.83,
          "t (ms)": 708.92
         },
         {
          "V (uV)": -6.67,
          "t (ms)": 708.96
         },
         {
          "V (uV)": -5.83,
          "t (ms)": 709
         },
         {
          "V (uV)": 22.08,
          "t (ms)": 709.04
         },
         {
          "V (uV)": 5.42,
          "t (ms)": 709.08
         },
         {
          "V (uV)": -1.88,
          "t (ms)": 709.12
         },
         {
          "V (uV)": 4.69,
          "t (ms)": 709.16
         },
         {
          "V (uV)": 1.88,
          "t (ms)": 709.2
         },
         {
          "V (uV)": -6.88,
          "t (ms)": 709.24
         },
         {
          "V (uV)": 17.81,
          "t (ms)": 709.28
         },
         {
          "V (uV)": 4.17,
          "t (ms)": 709.32
         },
         {
          "V (uV)": -5,
          "t (ms)": 709.36
         },
         {
          "V (uV)": 8.65,
          "t (ms)": 709.4
         },
         {
          "V (uV)": -5.73,
          "t (ms)": 709.44
         },
         {
          "V (uV)": -12.08,
          "t (ms)": 709.48
         },
         {
          "V (uV)": 3.13,
          "t (ms)": 709.52
         },
         {
          "V (uV)": 1.15,
          "t (ms)": 709.56
         },
         {
          "V (uV)": -8.23,
          "t (ms)": 709.6
         },
         {
          "V (uV)": -0.94,
          "t (ms)": 709.64
         },
         {
          "V (uV)": 8.44,
          "t (ms)": 709.68
         },
         {
          "V (uV)": -10.63,
          "t (ms)": 709.72
         },
         {
          "V (uV)": -4.06,
          "t (ms)": 709.76
         },
         {
          "V (uV)": 10.42,
          "t (ms)": 709.8
         },
         {
          "V (uV)": -2.5,
          "t (ms)": 709.84
         },
         {
          "V (uV)": -0.1,
          "t (ms)": 709.88
         },
         {
          "V (uV)": 4.38,
          "t (ms)": 709.92
         },
         {
          "V (uV)": -8.13,
          "t (ms)": 709.96
         },
         {
          "V (uV)": -9.48,
          "t (ms)": 710
         },
         {
          "V (uV)": 18.54,
          "t (ms)": 710.04
         },
         {
          "V (uV)": 4.79,
          "t (ms)": 710.08
         },
         {
          "V (uV)": -0.63,
          "t (ms)": 710.12
         },
         {
          "V (uV)": 10.1,
          "t (ms)": 710.16
         },
         {
          "V (uV)": 2.19,
          "t (ms)": 710.2
         },
         {
          "V (uV)": -5.83,
          "t (ms)": 710.24
         },
         {
          "V (uV)": 17.5,
          "t (ms)": 710.28
         },
         {
          "V (uV)": 3.96,
          "t (ms)": 710.32
         },
         {
          "V (uV)": -12.6,
          "t (ms)": 710.36
         },
         {
          "V (uV)": -0.21,
          "t (ms)": 710.4
         },
         {
          "V (uV)": -9.9,
          "t (ms)": 710.44
         },
         {
          "V (uV)": -10.31,
          "t (ms)": 710.48
         },
         {
          "V (uV)": 4.69,
          "t (ms)": 710.52
         },
         {
          "V (uV)": 7.29,
          "t (ms)": 710.56
         },
         {
          "V (uV)": -4.27,
          "t (ms)": 710.6
         },
         {
          "V (uV)": 3.13,
          "t (ms)": 710.64
         },
         {
          "V (uV)": 10.94,
          "t (ms)": 710.68
         },
         {
          "V (uV)": -1.35,
          "t (ms)": 710.72
         },
         {
          "V (uV)": 6.04,
          "t (ms)": 710.76
         },
         {
          "V (uV)": 6.25,
          "t (ms)": 710.8
         },
         {
          "V (uV)": -4.38,
          "t (ms)": 710.84
         },
         {
          "V (uV)": -9.58,
          "t (ms)": 710.88
         },
         {
          "V (uV)": 8.75,
          "t (ms)": 710.92
         },
         {
          "V (uV)": -7.71,
          "t (ms)": 710.96
         },
         {
          "V (uV)": -15.1,
          "t (ms)": 711
         },
         {
          "V (uV)": -5.1,
          "t (ms)": 711.04
         },
         {
          "V (uV)": -6.15,
          "t (ms)": 711.08
         },
         {
          "V (uV)": -6.98,
          "t (ms)": 711.12
         },
         {
          "V (uV)": 18.96,
          "t (ms)": 711.16
         },
         {
          "V (uV)": 1.15,
          "t (ms)": 711.2
         },
         {
          "V (uV)": -4.9,
          "t (ms)": 711.24
         },
         {
          "V (uV)": 5.31,
          "t (ms)": 711.28
         },
         {
          "V (uV)": -12.92,
          "t (ms)": 711.32
         },
         {
          "V (uV)": -19.38,
          "t (ms)": 711.36
         },
         {
          "V (uV)": 3.96,
          "t (ms)": 711.4
         },
         {
          "V (uV)": 3.85,
          "t (ms)": 711.44
         },
         {
          "V (uV)": -9.38,
          "t (ms)": 711.48
         },
         {
          "V (uV)": 6.15,
          "t (ms)": 711.52
         },
         {
          "V (uV)": 0.1,
          "t (ms)": 711.56
         },
         {
          "V (uV)": -5.31,
          "t (ms)": 711.6
         },
         {
          "V (uV)": 8.65,
          "t (ms)": 711.64
         },
         {
          "V (uV)": 11.56,
          "t (ms)": 711.68
         },
         {
          "V (uV)": 1.77,
          "t (ms)": 711.72
         },
         {
          "V (uV)": 0.52,
          "t (ms)": 711.76
         },
         {
          "V (uV)": 7.4,
          "t (ms)": 711.8
         },
         {
          "V (uV)": -8.85,
          "t (ms)": 711.84
         },
         {
          "V (uV)": -2.71,
          "t (ms)": 711.88
         },
         {
          "V (uV)": 16.25,
          "t (ms)": 711.92
         },
         {
          "V (uV)": -1.88,
          "t (ms)": 711.96
         },
         {
          "V (uV)": -9.17,
          "t (ms)": 712
         },
         {
          "V (uV)": -2.29,
          "t (ms)": 712.04
         },
         {
          "V (uV)": -16.35,
          "t (ms)": 712.08
         },
         {
          "V (uV)": -37.29,
          "t (ms)": 712.12
         },
         {
          "V (uV)": -48.75,
          "t (ms)": 712.16
         },
         {
          "V (uV)": -90.52,
          "t (ms)": 712.2
         },
         {
          "V (uV)": -101.35,
          "t (ms)": 712.24
         },
         {
          "V (uV)": -75.83,
          "t (ms)": 712.28
         },
         {
          "V (uV)": -65.31,
          "t (ms)": 712.32
         },
         {
          "V (uV)": -47.81,
          "t (ms)": 712.36
         },
         {
          "V (uV)": -14.17,
          "t (ms)": 712.4
         },
         {
          "V (uV)": -11.04,
          "t (ms)": 712.44
         },
         {
          "V (uV)": -19.48,
          "t (ms)": 712.48
         },
         {
          "V (uV)": -3.75,
          "t (ms)": 712.52
         },
         {
          "V (uV)": -9.79,
          "t (ms)": 712.56
         },
         {
          "V (uV)": -4.79,
          "t (ms)": 712.6
         },
         {
          "V (uV)": 15.63,
          "t (ms)": 712.64
         },
         {
          "V (uV)": 22.81,
          "t (ms)": 712.68
         },
         {
          "V (uV)": 5.63,
          "t (ms)": 712.72
         },
         {
          "V (uV)": 2.71,
          "t (ms)": 712.76
         },
         {
          "V (uV)": 18.23,
          "t (ms)": 712.8
         },
         {
          "V (uV)": -0.52,
          "t (ms)": 712.84
         },
         {
          "V (uV)": -5.83,
          "t (ms)": 712.88
         },
         {
          "V (uV)": 5.1,
          "t (ms)": 712.92
         },
         {
          "V (uV)": 2.4,
          "t (ms)": 712.96
         },
         {
          "V (uV)": -1.25,
          "t (ms)": 713
         },
         {
          "V (uV)": 21.88,
          "t (ms)": 713.04
         },
         {
          "V (uV)": 6.77,
          "t (ms)": 713.08
         },
         {
          "V (uV)": 3.65,
          "t (ms)": 713.12
         },
         {
          "V (uV)": 14.06,
          "t (ms)": 713.16
         },
         {
          "V (uV)": 4.17,
          "t (ms)": 713.2
         },
         {
          "V (uV)": 0.52,
          "t (ms)": 713.24
         },
         {
          "V (uV)": 23.75,
          "t (ms)": 713.28
         },
         {
          "V (uV)": 13.02,
          "t (ms)": 713.32
         },
         {
          "V (uV)": 2.71,
          "t (ms)": 713.36
         },
         {
          "V (uV)": 14.48,
          "t (ms)": 713.4
         },
         {
          "V (uV)": 8.85,
          "t (ms)": 713.44
         },
         {
          "V (uV)": 2.4,
          "t (ms)": 713.48
         },
         {
          "V (uV)": 12.08,
          "t (ms)": 713.52
         },
         {
          "V (uV)": 13.44,
          "t (ms)": 713.56
         },
         {
          "V (uV)": -1.15,
          "t (ms)": 713.6
         },
         {
          "V (uV)": 4.9,
          "t (ms)": 713.64
         },
         {
          "V (uV)": 5.83,
          "t (ms)": 713.68
         },
         {
          "V (uV)": -3.65,
          "t (ms)": 713.72
         },
         {
          "V (uV)": -2.29,
          "t (ms)": 713.76
         },
         {
          "V (uV)": -2.5,
          "t (ms)": 713.8
         },
         {
          "V (uV)": -4.69,
          "t (ms)": 713.84
         },
         {
          "V (uV)": -3.44,
          "t (ms)": 713.88
         },
         {
          "V (uV)": 14.17,
          "t (ms)": 713.92
         },
         {
          "V (uV)": 1.46,
          "t (ms)": 713.96
         },
         {
          "V (uV)": -8.75,
          "t (ms)": 714
         },
         {
          "V (uV)": 12.92,
          "t (ms)": 714.04
         },
         {
          "V (uV)": -1.35,
          "t (ms)": 714.08
         },
         {
          "V (uV)": -10.21,
          "t (ms)": 714.12
         },
         {
          "V (uV)": -2.6,
          "t (ms)": 714.16
         },
         {
          "V (uV)": -14.38,
          "t (ms)": 714.2
         },
         {
          "V (uV)": -13.02,
          "t (ms)": 714.24
         },
         {
          "V (uV)": 13.65,
          "t (ms)": 714.28
         },
         {
          "V (uV)": 5.73,
          "t (ms)": 714.32
         },
         {
          "V (uV)": 0,
          "t (ms)": 714.36
         },
         {
          "V (uV)": 10.21,
          "t (ms)": 714.4
         },
         {
          "V (uV)": -3.85,
          "t (ms)": 714.44
         },
         {
          "V (uV)": -12.71,
          "t (ms)": 714.48
         },
         {
          "V (uV)": -0.73,
          "t (ms)": 714.52
         },
         {
          "V (uV)": 2.4,
          "t (ms)": 714.56
         },
         {
          "V (uV)": -4.38,
          "t (ms)": 714.6
         },
         {
          "V (uV)": 3.96,
          "t (ms)": 714.64
         },
         {
          "V (uV)": 7.4,
          "t (ms)": 714.68
         },
         {
          "V (uV)": -3.96,
          "t (ms)": 714.72
         },
         {
          "V (uV)": 2.92,
          "t (ms)": 714.76
         },
         {
          "V (uV)": 3.54,
          "t (ms)": 714.8
         },
         {
          "V (uV)": -5.73,
          "t (ms)": 714.84
         },
         {
          "V (uV)": -7.71,
          "t (ms)": 714.88
         },
         {
          "V (uV)": 13.85,
          "t (ms)": 714.92
         },
         {
          "V (uV)": 3.96,
          "t (ms)": 714.96
         },
         {
          "V (uV)": -3.02,
          "t (ms)": 715
         },
         {
          "V (uV)": 3.85,
          "t (ms)": 715.04
         },
         {
          "V (uV)": -4.79,
          "t (ms)": 715.08
         },
         {
          "V (uV)": -9.17,
          "t (ms)": 715.12
         },
         {
          "V (uV)": 16.98,
          "t (ms)": 715.16
         },
         {
          "V (uV)": -0.63,
          "t (ms)": 715.2
         },
         {
          "V (uV)": -14.38,
          "t (ms)": 715.24
         },
         {
          "V (uV)": -9.79,
          "t (ms)": 715.28
         },
         {
          "V (uV)": -14.9,
          "t (ms)": 715.32
         },
         {
          "V (uV)": -13.02,
          "t (ms)": 715.36
         },
         {
          "V (uV)": 8.75,
          "t (ms)": 715.4
         },
         {
          "V (uV)": -1.46,
          "t (ms)": 715.44
         },
         {
          "V (uV)": -11.15,
          "t (ms)": 715.48
         },
         {
          "V (uV)": 5,
          "t (ms)": 715.52
         },
         {
          "V (uV)": 2.81,
          "t (ms)": 715.56
         },
         {
          "V (uV)": -4.27,
          "t (ms)": 715.6
         },
         {
          "V (uV)": 4.48,
          "t (ms)": 715.64
         },
         {
          "V (uV)": 13.96,
          "t (ms)": 715.68
         },
         {
          "V (uV)": -5,
          "t (ms)": 715.72
         },
         {
          "V (uV)": -5.31,
          "t (ms)": 715.76
         },
         {
          "V (uV)": 5.42,
          "t (ms)": 715.8
         },
         {
          "V (uV)": -10.63,
          "t (ms)": 715.84
         },
         {
          "V (uV)": -10.42,
          "t (ms)": 715.88
         },
         {
          "V (uV)": -1.25,
          "t (ms)": 715.92
         },
         {
          "V (uV)": -12.71,
          "t (ms)": 715.96
         },
         {
          "V (uV)": -18.85,
          "t (ms)": 716
         },
         {
          "V (uV)": 10.21,
          "t (ms)": 716.04
         },
         {
          "V (uV)": -0.42,
          "t (ms)": 716.08
         },
         {
          "V (uV)": -15.63,
          "t (ms)": 716.12
         },
         {
          "V (uV)": 12.81,
          "t (ms)": 716.16
         },
         {
          "V (uV)": 0.52,
          "t (ms)": 716.2
         },
         {
          "V (uV)": -4.69,
          "t (ms)": 716.24
         },
         {
          "V (uV)": 12.71,
          "t (ms)": 716.28
         },
         {
          "V (uV)": 7.71,
          "t (ms)": 716.32
         },
         {
          "V (uV)": 4.27,
          "t (ms)": 716.36
         },
         {
          "V (uV)": 19.79,
          "t (ms)": 716.4
         },
         {
          "V (uV)": 6.46,
          "t (ms)": 716.44
         },
         {
          "V (uV)": -4.48,
          "t (ms)": 716.48
         },
         {
          "V (uV)": 10.52,
          "t (ms)": 716.52
         },
         {
          "V (uV)": -1.25,
          "t (ms)": 716.56
         },
         {
          "V (uV)": -5,
          "t (ms)": 716.6
         },
         {
          "V (uV)": 7.4,
          "t (ms)": 716.64
         },
         {
          "V (uV)": 11.67,
          "t (ms)": 716.68
         },
         {
          "V (uV)": -2.5,
          "t (ms)": 716.72
         },
         {
          "V (uV)": -3.75,
          "t (ms)": 716.76
         },
         {
          "V (uV)": 11.56,
          "t (ms)": 716.8
         },
         {
          "V (uV)": -4.38,
          "t (ms)": 716.84
         },
         {
          "V (uV)": -10.42,
          "t (ms)": 716.88
         },
         {
          "V (uV)": -5.1,
          "t (ms)": 716.92
         },
         {
          "V (uV)": -4.79,
          "t (ms)": 716.96
         },
         {
          "V (uV)": -6.88,
          "t (ms)": 717
         },
         {
          "V (uV)": 17.92,
          "t (ms)": 717.04
         },
         {
          "V (uV)": 2.92,
          "t (ms)": 717.08
         },
         {
          "V (uV)": -11.35,
          "t (ms)": 717.12
         },
         {
          "V (uV)": 0.63,
          "t (ms)": 717.16
         },
         {
          "V (uV)": -8.44,
          "t (ms)": 717.2
         },
         {
          "V (uV)": -6.35,
          "t (ms)": 717.24
         },
         {
          "V (uV)": 11.56,
          "t (ms)": 717.28
         },
         {
          "V (uV)": 4.69,
          "t (ms)": 717.32
         },
         {
          "V (uV)": -2.81,
          "t (ms)": 717.36
         },
         {
          "V (uV)": 11.15,
          "t (ms)": 717.4
         },
         {
          "V (uV)": 0.63,
          "t (ms)": 717.44
         },
         {
          "V (uV)": -7.6,
          "t (ms)": 717.48
         },
         {
          "V (uV)": 10.83,
          "t (ms)": 717.52
         },
         {
          "V (uV)": 11.88,
          "t (ms)": 717.56
         },
         {
          "V (uV)": 0.1,
          "t (ms)": 717.6
         },
         {
          "V (uV)": 5.73,
          "t (ms)": 717.64
         },
         {
          "V (uV)": 13.44,
          "t (ms)": 717.68
         },
         {
          "V (uV)": -1.25,
          "t (ms)": 717.72
         },
         {
          "V (uV)": -1.25,
          "t (ms)": 717.76
         },
         {
          "V (uV)": 4.27,
          "t (ms)": 717.8
         },
         {
          "V (uV)": -5.21,
          "t (ms)": 717.84
         },
         {
          "V (uV)": -2.92,
          "t (ms)": 717.88
         },
         {
          "V (uV)": 16.04,
          "t (ms)": 717.92
         },
         {
          "V (uV)": 4.48,
          "t (ms)": 717.96
         },
         {
          "V (uV)": -5.31,
          "t (ms)": 718
         },
         {
          "V (uV)": 17.92,
          "t (ms)": 718.04
         },
         {
          "V (uV)": -0.42,
          "t (ms)": 718.08
         },
         {
          "V (uV)": -7.4,
          "t (ms)": 718.12
         },
         {
          "V (uV)": 2.6,
          "t (ms)": 718.16
         },
         {
          "V (uV)": -8.85,
          "t (ms)": 718.2
         },
         {
          "V (uV)": -5.63,
          "t (ms)": 718.24
         },
         {
          "V (uV)": 13.33,
          "t (ms)": 718.28
         },
         {
          "V (uV)": 2.6,
          "t (ms)": 718.32
         },
         {
          "V (uV)": -9.17,
          "t (ms)": 718.36
         },
         {
          "V (uV)": 8.85,
          "t (ms)": 718.4
         },
         {
          "V (uV)": 0.63,
          "t (ms)": 718.44
         },
         {
          "V (uV)": -3.44,
          "t (ms)": 718.48
         },
         {
          "V (uV)": 10.94,
          "t (ms)": 718.52
         },
         {
          "V (uV)": 13.33,
          "t (ms)": 718.56
         },
         {
          "V (uV)": 4.06,
          "t (ms)": 718.6
         },
         {
          "V (uV)": 8.96,
          "t (ms)": 718.64
         },
         {
          "V (uV)": 14.17,
          "t (ms)": 718.68
         },
         {
          "V (uV)": 1.88,
          "t (ms)": 718.72
         },
         {
          "V (uV)": 4.17,
          "t (ms)": 718.76
         },
         {
          "V (uV)": 7.08,
          "t (ms)": 718.8
         },
         {
          "V (uV)": -0.83,
          "t (ms)": 718.84
         },
         {
          "V (uV)": -3.23,
          "t (ms)": 718.88
         },
         {
          "V (uV)": 20,
          "t (ms)": 718.92
         },
         {
          "V (uV)": 5.42,
          "t (ms)": 718.96
         },
         {
          "V (uV)": -0.94,
          "t (ms)": 719
         },
         {
          "V (uV)": 6.88,
          "t (ms)": 719.04
         },
         {
          "V (uV)": 2.29,
          "t (ms)": 719.08
         },
         {
          "V (uV)": -3.85,
          "t (ms)": 719.12
         },
         {
          "V (uV)": 20.94,
          "t (ms)": 719.16
         },
         {
          "V (uV)": 5.52,
          "t (ms)": 719.2
         },
         {
          "V (uV)": 3.54,
          "t (ms)": 719.24
         },
         {
          "V (uV)": 13.13,
          "t (ms)": 719.28
         },
         {
          "V (uV)": 1.88,
          "t (ms)": 719.32
         },
         {
          "V (uV)": -5,
          "t (ms)": 719.36
         },
         {
          "V (uV)": 7.29,
          "t (ms)": 719.4
         },
         {
          "V (uV)": 2.6,
          "t (ms)": 719.44
         },
         {
          "V (uV)": -7.71,
          "t (ms)": 719.48
         },
         {
          "V (uV)": 0.83,
          "t (ms)": 719.52
         },
         {
          "V (uV)": -2.29,
          "t (ms)": 719.56
         },
         {
          "V (uV)": -1.56,
          "t (ms)": 719.6
         },
         {
          "V (uV)": 7.92,
          "t (ms)": 719.64
         },
         {
          "V (uV)": 15.1,
          "t (ms)": 719.68
         },
         {
          "V (uV)": 1.77,
          "t (ms)": 719.72
         },
         {
          "V (uV)": 2.81,
          "t (ms)": 719.76
         },
         {
          "V (uV)": 12.6,
          "t (ms)": 719.8
         },
         {
          "V (uV)": 1.88,
          "t (ms)": 719.84
         },
         {
          "V (uV)": 1.77,
          "t (ms)": 719.88
         },
         {
          "V (uV)": 6.25,
          "t (ms)": 719.92
         },
         {
          "V (uV)": -2.6,
          "t (ms)": 719.96
         },
         {
          "V (uV)": -9.48,
          "t (ms)": 720
         },
         {
          "V (uV)": 9.27,
          "t (ms)": 720.04
         },
         {
          "V (uV)": -6.15,
          "t (ms)": 720.08
         },
         {
          "V (uV)": -16.25,
          "t (ms)": 720.12
         },
         {
          "V (uV)": 7.71,
          "t (ms)": 720.16
         },
         {
          "V (uV)": -1.88,
          "t (ms)": 720.2
         },
         {
          "V (uV)": -8.13,
          "t (ms)": 720.24
         },
         {
          "V (uV)": -1.35,
          "t (ms)": 720.28
         },
         {
          "V (uV)": -7.5,
          "t (ms)": 720.32
         },
         {
          "V (uV)": -9.48,
          "t (ms)": 720.36
         },
         {
          "V (uV)": 7.19,
          "t (ms)": 720.4
         },
         {
          "V (uV)": 5.94,
          "t (ms)": 720.44
         },
         {
          "V (uV)": -1.88,
          "t (ms)": 720.48
         },
         {
          "V (uV)": 9.69,
          "t (ms)": 720.52
         },
         {
          "V (uV)": 9.38,
          "t (ms)": 720.56
         },
         {
          "V (uV)": -3.65,
          "t (ms)": 720.6
         },
         {
          "V (uV)": 6.04,
          "t (ms)": 720.64
         },
         {
          "V (uV)": 5.1,
          "t (ms)": 720.68
         },
         {
          "V (uV)": 0.52,
          "t (ms)": 720.72
         },
         {
          "V (uV)": 0.83,
          "t (ms)": 720.76
         },
         {
          "V (uV)": 13.33,
          "t (ms)": 720.8
         },
         {
          "V (uV)": 5.1,
          "t (ms)": 720.84
         },
         {
          "V (uV)": 5.52,
          "t (ms)": 720.88
         },
         {
          "V (uV)": 7.5,
          "t (ms)": 720.92
         },
         {
          "V (uV)": -0.83,
          "t (ms)": 720.96
         },
         {
          "V (uV)": -3.13,
          "t (ms)": 721
         },
         {
          "V (uV)": 23.23,
          "t (ms)": 721.04
         },
         {
          "V (uV)": 5.52,
          "t (ms)": 721.08
         },
         {
          "V (uV)": -8.75,
          "t (ms)": 721.12
         },
         {
          "V (uV)": 0,
          "t (ms)": 721.16
         },
         {
          "V (uV)": -3.54,
          "t (ms)": 721.2
         },
         {
          "V (uV)": -1.46,
          "t (ms)": 721.24
         },
         {
          "V (uV)": 16.35,
          "t (ms)": 721.28
         },
         {
          "V (uV)": 2.4,
          "t (ms)": 721.32
         },
         {
          "V (uV)": -8.85,
          "t (ms)": 721.36
         },
         {
          "V (uV)": -0.42,
          "t (ms)": 721.4
         },
         {
          "V (uV)": -9.38,
          "t (ms)": 721.44
         },
         {
          "V (uV)": -15.83,
          "t (ms)": 721.48
         },
         {
          "V (uV)": 0.1,
          "t (ms)": 721.52
         },
         {
          "V (uV)": 2.19,
          "t (ms)": 721.56
         },
         {
          "V (uV)": -4.58,
          "t (ms)": 721.6
         },
         {
          "V (uV)": 8.02,
          "t (ms)": 721.64
         },
         {
          "V (uV)": 12.71,
          "t (ms)": 721.68
         },
         {
          "V (uV)": 0,
          "t (ms)": 721.72
         },
         {
          "V (uV)": 0.52,
          "t (ms)": 721.76
         },
         {
          "V (uV)": 5.31,
          "t (ms)": 721.8
         },
         {
          "V (uV)": 1.98,
          "t (ms)": 721.84
         },
         {
          "V (uV)": 0.63,
          "t (ms)": 721.88
         },
         {
          "V (uV)": 16.25,
          "t (ms)": 721.92
         },
         {
          "V (uV)": 5,
          "t (ms)": 721.96
         },
         {
          "V (uV)": 1.15,
          "t (ms)": 722
         },
         {
          "V (uV)": 11.56,
          "t (ms)": 722.04
         },
         {
          "V (uV)": 4.48,
          "t (ms)": 722.08
         },
         {
          "V (uV)": 0.94,
          "t (ms)": 722.12
         },
         {
          "V (uV)": 20.52,
          "t (ms)": 722.16
         },
         {
          "V (uV)": 2.92,
          "t (ms)": 722.2
         },
         {
          "V (uV)": -7.29,
          "t (ms)": 722.24
         },
         {
          "V (uV)": 8.23,
          "t (ms)": 722.28
         },
         {
          "V (uV)": 0.94,
          "t (ms)": 722.32
         },
         {
          "V (uV)": -11.25,
          "t (ms)": 722.36
         },
         {
          "V (uV)": 5.1,
          "t (ms)": 722.4
         },
         {
          "V (uV)": -5.94,
          "t (ms)": 722.44
         },
         {
          "V (uV)": -10.83,
          "t (ms)": 722.48
         },
         {
          "V (uV)": 6.56,
          "t (ms)": 722.52
         },
         {
          "V (uV)": 12.92,
          "t (ms)": 722.56
         },
         {
          "V (uV)": -2.19,
          "t (ms)": 722.6
         },
         {
          "V (uV)": 6.77,
          "t (ms)": 722.64
         },
         {
          "V (uV)": 12.5,
          "t (ms)": 722.68
         },
         {
          "V (uV)": -0.94,
          "t (ms)": 722.72
         },
         {
          "V (uV)": -2.19,
          "t (ms)": 722.76
         },
         {
          "V (uV)": -9.06,
          "t (ms)": 722.8
         },
         {
          "V (uV)": -14.79,
          "t (ms)": 722.84
         },
         {
          "V (uV)": -16.56,
          "t (ms)": 722.88
         },
         {
          "V (uV)": 5.1,
          "t (ms)": 722.92
         },
         {
          "V (uV)": -5.31,
          "t (ms)": 722.96
         },
         {
          "V (uV)": -9.27,
          "t (ms)": 723
         },
         {
          "V (uV)": 4.06,
          "t (ms)": 723.04
         },
         {
          "V (uV)": -2.6,
          "t (ms)": 723.08
         },
         {
          "V (uV)": -8.75,
          "t (ms)": 723.12
         },
         {
          "V (uV)": 16.67,
          "t (ms)": 723.16
         },
         {
          "V (uV)": 4.38,
          "t (ms)": 723.2
         },
         {
          "V (uV)": -6.04,
          "t (ms)": 723.24
         },
         {
          "V (uV)": 4.48,
          "t (ms)": 723.28
         },
         {
          "V (uV)": -4.9,
          "t (ms)": 723.32
         },
         {
          "V (uV)": -5.83,
          "t (ms)": 723.36
         },
         {
          "V (uV)": 15.52,
          "t (ms)": 723.4
         },
         {
          "V (uV)": 11.15,
          "t (ms)": 723.44
         },
         {
          "V (uV)": -7.92,
          "t (ms)": 723.48
         },
         {
          "V (uV)": 1.04,
          "t (ms)": 723.52
         },
         {
          "V (uV)": 4.27,
          "t (ms)": 723.56
         },
         {
          "V (uV)": -7.19,
          "t (ms)": 723.6
         },
         {
          "V (uV)": 5.83,
          "t (ms)": 723.64
         },
         {
          "V (uV)": 7.5,
          "t (ms)": 723.68
         },
         {
          "V (uV)": -1.46,
          "t (ms)": 723.72
         },
         {
          "V (uV)": 1.15,
          "t (ms)": 723.76
         },
         {
          "V (uV)": 14.58,
          "t (ms)": 723.8
         },
         {
          "V (uV)": -2.5,
          "t (ms)": 723.84
         },
         {
          "V (uV)": -3.85,
          "t (ms)": 723.88
         },
         {
          "V (uV)": -1.04,
          "t (ms)": 723.92
         },
         {
          "V (uV)": -11.77,
          "t (ms)": 723.96
         },
         {
          "V (uV)": -16.77,
          "t (ms)": 724
         },
         {
          "V (uV)": 5,
          "t (ms)": 724.04
         },
         {
          "V (uV)": -9.06,
          "t (ms)": 724.08
         },
         {
          "V (uV)": -11.15,
          "t (ms)": 724.12
         },
         {
          "V (uV)": 13.75,
          "t (ms)": 724.16
         },
         {
          "V (uV)": -1.98,
          "t (ms)": 724.2
         },
         {
          "V (uV)": -10.21,
          "t (ms)": 724.24
         },
         {
          "V (uV)": 1.46,
          "t (ms)": 724.28
         },
         {
          "V (uV)": -3.13,
          "t (ms)": 724.32
         },
         {
          "V (uV)": -7.29,
          "t (ms)": 724.36
         },
         {
          "V (uV)": 13.75,
          "t (ms)": 724.4
         },
         {
          "V (uV)": 12.71,
          "t (ms)": 724.44
         },
         {
          "V (uV)": -3.75,
          "t (ms)": 724.48
         },
         {
          "V (uV)": 6.56,
          "t (ms)": 724.52
         },
         {
          "V (uV)": 9.27,
          "t (ms)": 724.56
         },
         {
          "V (uV)": 2.71,
          "t (ms)": 724.6
         },
         {
          "V (uV)": 5.52,
          "t (ms)": 724.64
         },
         {
          "V (uV)": -0.94,
          "t (ms)": 724.68
         },
         {
          "V (uV)": 0,
          "t (ms)": 724.72
         },
         {
          "V (uV)": 9.17,
          "t (ms)": 724.76
         },
         {
          "V (uV)": 13.54,
          "t (ms)": 724.8
         },
         {
          "V (uV)": -5.83,
          "t (ms)": 724.84
         },
         {
          "V (uV)": -8.23,
          "t (ms)": 724.88
         },
         {
          "V (uV)": 3.44,
          "t (ms)": 724.92
         },
         {
          "V (uV)": -2.6,
          "t (ms)": 724.96
         },
         {
          "V (uV)": -0.1,
          "t (ms)": 725
         },
         {
          "V (uV)": 22.19,
          "t (ms)": 725.04
         },
         {
          "V (uV)": 0.63,
          "t (ms)": 725.08
         },
         {
          "V (uV)": -10.83,
          "t (ms)": 725.12
         },
         {
          "V (uV)": 1.67,
          "t (ms)": 725.16
         },
         {
          "V (uV)": -3.65,
          "t (ms)": 725.2
         },
         {
          "V (uV)": -11.35,
          "t (ms)": 725.24
         },
         {
          "V (uV)": 8.33,
          "t (ms)": 725.28
         },
         {
          "V (uV)": -0.31,
          "t (ms)": 725.32
         },
         {
          "V (uV)": -10.63,
          "t (ms)": 725.36
         },
         {
          "V (uV)": -1.56,
          "t (ms)": 725.4
         },
         {
          "V (uV)": -1.46,
          "t (ms)": 725.44
         },
         {
          "V (uV)": -3.23,
          "t (ms)": 725.48
         },
         {
          "V (uV)": 9.27,
          "t (ms)": 725.52
         },
         {
          "V (uV)": 13.85,
          "t (ms)": 725.56
         },
         {
          "V (uV)": 1.35,
          "t (ms)": 725.6
         },
         {
          "V (uV)": 4.48,
          "t (ms)": 725.64
         },
         {
          "V (uV)": 13.85,
          "t (ms)": 725.68
         },
         {
          "V (uV)": -1.25,
          "t (ms)": 725.72
         },
         {
          "V (uV)": -3.33,
          "t (ms)": 725.76
         },
         {
          "V (uV)": -0.21,
          "t (ms)": 725.8
         },
         {
          "V (uV)": -3.33,
          "t (ms)": 725.84
         },
         {
          "V (uV)": -0.83,
          "t (ms)": 725.88
         },
         {
          "V (uV)": 20.63,
          "t (ms)": 725.92
         },
         {
          "V (uV)": 2.19,
          "t (ms)": 725.96
         },
         {
          "V (uV)": -6.77,
          "t (ms)": 726
         },
         {
          "V (uV)": -1.46,
          "t (ms)": 726.04
         },
         {
          "V (uV)": -10.1,
          "t (ms)": 726.08
         },
         {
          "V (uV)": -10.21,
          "t (ms)": 726.12
         },
         {
          "V (uV)": 15.73,
          "t (ms)": 726.16
         },
         {
          "V (uV)": 0.73,
          "t (ms)": 726.2
         },
         {
          "V (uV)": -7.5,
          "t (ms)": 726.24
         },
         {
          "V (uV)": 10.94,
          "t (ms)": 726.28
         },
         {
          "V (uV)": 0.21,
          "t (ms)": 726.32
         },
         {
          "V (uV)": -1.67,
          "t (ms)": 726.36
         },
         {
          "V (uV)": 8.02,
          "t (ms)": 726.4
         },
         {
          "V (uV)": -1.98,
          "t (ms)": 726.44
         },
         {
          "V (uV)": -5.31,
          "t (ms)": 726.48
         },
         {
          "V (uV)": 8.33,
          "t (ms)": 726.52
         },
         {
          "V (uV)": 12.4,
          "t (ms)": 726.56
         },
         {
          "V (uV)": 0.94,
          "t (ms)": 726.6
         },
         {
          "V (uV)": 6.67,
          "t (ms)": 726.64
         },
         {
          "V (uV)": 11.04,
          "t (ms)": 726.68
         },
         {
          "V (uV)": -5.63,
          "t (ms)": 726.72
         },
         {
          "V (uV)": 5.1,
          "t (ms)": 726.76
         },
         {
          "V (uV)": 11.15,
          "t (ms)": 726.8
         },
         {
          "V (uV)": 2.81,
          "t (ms)": 726.84
         },
         {
          "V (uV)": 2.29,
          "t (ms)": 726.88
         },
         {
          "V (uV)": 20.63,
          "t (ms)": 726.92
         },
         {
          "V (uV)": 1.35,
          "t (ms)": 726.96
         },
         {
          "V (uV)": -4.58,
          "t (ms)": 727
         },
         {
          "V (uV)": 2.71,
          "t (ms)": 727.04
         },
         {
          "V (uV)": -5.42,
          "t (ms)": 727.08
         },
         {
          "V (uV)": -10.94,
          "t (ms)": 727.12
         },
         {
          "V (uV)": 17.5,
          "t (ms)": 727.16
         },
         {
          "V (uV)": 9.9,
          "t (ms)": 727.2
         },
         {
          "V (uV)": 1.46,
          "t (ms)": 727.24
         },
         {
          "V (uV)": 2.6,
          "t (ms)": 727.28
         },
         {
          "V (uV)": -13.02,
          "t (ms)": 727.32
         },
         {
          "V (uV)": -18.02,
          "t (ms)": 727.36
         },
         {
          "V (uV)": 7.6,
          "t (ms)": 727.4
         },
         {
          "V (uV)": 7.81,
          "t (ms)": 727.44
         },
         {
          "V (uV)": 1.56,
          "t (ms)": 727.48
         },
         {
          "V (uV)": 8.75,
          "t (ms)": 727.52
         },
         {
          "V (uV)": 6.04,
          "t (ms)": 727.56
         },
         {
          "V (uV)": -4.69,
          "t (ms)": 727.6
         },
         {
          "V (uV)": -1.15,
          "t (ms)": 727.64
         },
         {
          "V (uV)": -5.21,
          "t (ms)": 727.68
         },
         {
          "V (uV)": -8.23,
          "t (ms)": 727.72
         },
         {
          "V (uV)": 0.94,
          "t (ms)": 727.76
         },
         {
          "V (uV)": 16.98,
          "t (ms)": 727.8
         },
         {
          "V (uV)": 3.23,
          "t (ms)": 727.84
         },
         {
          "V (uV)": 1.46,
          "t (ms)": 727.88
         },
         {
          "V (uV)": 7.71,
          "t (ms)": 727.92
         },
         {
          "V (uV)": -1.67,
          "t (ms)": 727.96
         },
         {
          "V (uV)": -9.06,
          "t (ms)": 728
         },
         {
          "V (uV)": 13.75,
          "t (ms)": 728.04
         },
         {
          "V (uV)": -0.63,
          "t (ms)": 728.08
         },
         {
          "V (uV)": -1.98,
          "t (ms)": 728.12
         },
         {
          "V (uV)": 10,
          "t (ms)": 728.16
         },
         {
          "V (uV)": -1.46,
          "t (ms)": 728.2
         },
         {
          "V (uV)": -6.15,
          "t (ms)": 728.24
         },
         {
          "V (uV)": 15.73,
          "t (ms)": 728.28
         },
         {
          "V (uV)": 8.33,
          "t (ms)": 728.32
         },
         {
          "V (uV)": 0.83,
          "t (ms)": 728.36
         },
         {
          "V (uV)": 17.4,
          "t (ms)": 728.4
         },
         {
          "V (uV)": 5,
          "t (ms)": 728.44
         },
         {
          "V (uV)": -7.19,
          "t (ms)": 728.48
         },
         {
          "V (uV)": 11.25,
          "t (ms)": 728.52
         },
         {
          "V (uV)": 16.25,
          "t (ms)": 728.56
         },
         {
          "V (uV)": -2.08,
          "t (ms)": 728.6
         },
         {
          "V (uV)": 4.17,
          "t (ms)": 728.64
         },
         {
          "V (uV)": -2.81,
          "t (ms)": 728.68
         },
         {
          "V (uV)": -4.27,
          "t (ms)": 728.72
         },
         {
          "V (uV)": 6.35,
          "t (ms)": 728.76
         },
         {
          "V (uV)": 15.73,
          "t (ms)": 728.8
         },
         {
          "V (uV)": 3.23,
          "t (ms)": 728.84
         },
         {
          "V (uV)": -1.67,
          "t (ms)": 728.88
         },
         {
          "V (uV)": -0.42,
          "t (ms)": 728.92
         },
         {
          "V (uV)": -9.69,
          "t (ms)": 728.96
         },
         {
          "V (uV)": -16.35,
          "t (ms)": 729
         },
         {
          "V (uV)": 9.27,
          "t (ms)": 729.04
         },
         {
          "V (uV)": -3.13,
          "t (ms)": 729.08
         },
         {
          "V (uV)": -10.21,
          "t (ms)": 729.12
         },
         {
          "V (uV)": 1.77,
          "t (ms)": 729.16
         },
         {
          "V (uV)": -11.98,
          "t (ms)": 729.2
         },
         {
          "V (uV)": -14.9,
          "t (ms)": 729.24
         },
         {
          "V (uV)": 7.92,
          "t (ms)": 729.28
         },
         {
          "V (uV)": 2.19,
          "t (ms)": 729.32
         },
         {
          "V (uV)": -1.35,
          "t (ms)": 729.36
         },
         {
          "V (uV)": 12.4,
          "t (ms)": 729.4
         },
         {
          "V (uV)": 1.67,
          "t (ms)": 729.44
         },
         {
          "V (uV)": -10.63,
          "t (ms)": 729.48
         },
         {
          "V (uV)": 1.25,
          "t (ms)": 729.52
         },
         {
          "V (uV)": 8.65,
          "t (ms)": 729.56
         },
         {
          "V (uV)": 1.98,
          "t (ms)": 729.6
         },
         {
          "V (uV)": 11.56,
          "t (ms)": 729.64
         },
         {
          "V (uV)": 15,
          "t (ms)": 729.68
         },
         {
          "V (uV)": 3.54,
          "t (ms)": 729.72
         },
         {
          "V (uV)": 4.9,
          "t (ms)": 729.76
         },
         {
          "V (uV)": 4.38,
          "t (ms)": 729.8
         },
         {
          "V (uV)": 2.29,
          "t (ms)": 729.84
         },
         {
          "V (uV)": -0.83,
          "t (ms)": 729.88
         },
         {
          "V (uV)": 22.4,
          "t (ms)": 729.92
         },
         {
          "V (uV)": 6.77,
          "t (ms)": 729.96
         },
         {
          "V (uV)": -7.08,
          "t (ms)": 730
         },
         {
          "V (uV)": -6.56,
          "t (ms)": 730.04
         },
         {
          "V (uV)": -13.96,
          "t (ms)": 730.08
         },
         {
          "V (uV)": -11.98,
          "t (ms)": 730.12
         },
         {
          "V (uV)": 16.35,
          "t (ms)": 730.16
         },
         {
          "V (uV)": 0.42,
          "t (ms)": 730.2
         },
         {
          "V (uV)": -10.31,
          "t (ms)": 730.24
         },
         {
          "V (uV)": 9.48,
          "t (ms)": 730.28
         },
         {
          "V (uV)": -1.15,
          "t (ms)": 730.32
         },
         {
          "V (uV)": -10.1,
          "t (ms)": 730.36
         },
         {
          "V (uV)": 0.83,
          "t (ms)": 730.4
         },
         {
          "V (uV)": -6.25,
          "t (ms)": 730.44
         },
         {
          "V (uV)": -13.23,
          "t (ms)": 730.48
         },
         {
          "V (uV)": 4.48,
          "t (ms)": 730.52
         },
         {
          "V (uV)": 11.25,
          "t (ms)": 730.56
         },
         {
          "V (uV)": 1.04,
          "t (ms)": 730.6
         },
         {
          "V (uV)": 3.33,
          "t (ms)": 730.64
         },
         {
          "V (uV)": 10,
          "t (ms)": 730.68
         },
         {
          "V (uV)": -6.04,
          "t (ms)": 730.72
         },
         {
          "V (uV)": -3.75,
          "t (ms)": 730.76
         },
         {
          "V (uV)": 3.85,
          "t (ms)": 730.8
         },
         {
          "V (uV)": -1.56,
          "t (ms)": 730.84
         },
         {
          "V (uV)": -3.33,
          "t (ms)": 730.88
         },
         {
          "V (uV)": 17.19,
          "t (ms)": 730.92
         },
         {
          "V (uV)": 4.06,
          "t (ms)": 730.96
         },
         {
          "V (uV)": -7.19,
          "t (ms)": 731
         },
         {
          "V (uV)": -1.98,
          "t (ms)": 731.04
         },
         {
          "V (uV)": -9.48,
          "t (ms)": 731.08
         },
         {
          "V (uV)": -10.42,
          "t (ms)": 731.12
         },
         {
          "V (uV)": 13.75,
          "t (ms)": 731.16
         },
         {
          "V (uV)": 6.35,
          "t (ms)": 731.2
         },
         {
          "V (uV)": -4.9,
          "t (ms)": 731.24
         },
         {
          "V (uV)": 5.94,
          "t (ms)": 731.28
         },
         {
          "V (uV)": -6.56,
          "t (ms)": 731.32
         },
         {
          "V (uV)": -7.6,
          "t (ms)": 731.36
         },
         {
          "V (uV)": 12.4,
          "t (ms)": 731.4
         },
         {
          "V (uV)": 6.67,
          "t (ms)": 731.44
         },
         {
          "V (uV)": -5.52,
          "t (ms)": 731.48
         },
         {
          "V (uV)": 1.98,
          "t (ms)": 731.52
         },
         {
          "V (uV)": 3.02,
          "t (ms)": 731.56
         },
         {
          "V (uV)": -16.77,
          "t (ms)": 731.6
         },
         {
          "V (uV)": -10.31,
          "t (ms)": 731.64
         },
         {
          "V (uV)": -10.1,
          "t (ms)": 731.68
         },
         {
          "V (uV)": -15.52,
          "t (ms)": 731.72
         },
         {
          "V (uV)": -5.94,
          "t (ms)": 731.76
         },
         {
          "V (uV)": 11.88,
          "t (ms)": 731.8
         },
         {
          "V (uV)": -3.13,
          "t (ms)": 731.84
         },
         {
          "V (uV)": -6.46,
          "t (ms)": 731.88
         },
         {
          "V (uV)": 3.02,
          "t (ms)": 731.92
         },
         {
          "V (uV)": -3.13,
          "t (ms)": 731.96
         },
         {
          "V (uV)": -5.83,
          "t (ms)": 732
         },
         {
          "V (uV)": 21.56,
          "t (ms)": 732.04
         },
         {
          "V (uV)": 3.13,
          "t (ms)": 732.08
         },
         {
          "V (uV)": -5.21,
          "t (ms)": 732.12
         },
         {
          "V (uV)": 7.4,
          "t (ms)": 732.16
         },
         {
          "V (uV)": 0.52,
          "t (ms)": 732.2
         },
         {
          "V (uV)": -2.6,
          "t (ms)": 732.24
         },
         {
          "V (uV)": 18.54,
          "t (ms)": 732.28
         },
         {
          "V (uV)": 12.29,
          "t (ms)": 732.32
         },
         {
          "V (uV)": 1.35,
          "t (ms)": 732.36
         },
         {
          "V (uV)": 22.81,
          "t (ms)": 732.4
         },
         {
          "V (uV)": 15,
          "t (ms)": 732.44
         },
         {
          "V (uV)": 1.77,
          "t (ms)": 732.48
         },
         {
          "V (uV)": 9.58,
          "t (ms)": 732.52
         },
         {
          "V (uV)": 7.19,
          "t (ms)": 732.56
         },
         {
          "V (uV)": -6.35,
          "t (ms)": 732.6
         },
         {
          "V (uV)": -1.15,
          "t (ms)": 732.64
         },
         {
          "V (uV)": -1.04,
          "t (ms)": 732.68
         },
         {
          "V (uV)": -6.77,
          "t (ms)": 732.72
         },
         {
          "V (uV)": -4.48,
          "t (ms)": 732.76
         },
         {
          "V (uV)": 8.02,
          "t (ms)": 732.8
         },
         {
          "V (uV)": -11.67,
          "t (ms)": 732.84
         },
         {
          "V (uV)": -12.81,
          "t (ms)": 732.88
         },
         {
          "V (uV)": 1.25,
          "t (ms)": 732.92
         },
         {
          "V (uV)": -3.44,
          "t (ms)": 732.96
         },
         {
          "V (uV)": -5.73,
          "t (ms)": 733
         },
         {
          "V (uV)": 19.69,
          "t (ms)": 733.04
         },
         {
          "V (uV)": -1.46,
          "t (ms)": 733.08
         },
         {
          "V (uV)": -13.13,
          "t (ms)": 733.12
         },
         {
          "V (uV)": -4.79,
          "t (ms)": 733.16
         },
         {
          "V (uV)": -10.63,
          "t (ms)": 733.2
         },
         {
          "V (uV)": -15.94,
          "t (ms)": 733.24
         },
         {
          "V (uV)": 9.9,
          "t (ms)": 733.28
         },
         {
          "V (uV)": -0.31,
          "t (ms)": 733.32
         },
         {
          "V (uV)": -9.38,
          "t (ms)": 733.36
         },
         {
          "V (uV)": -2.71,
          "t (ms)": 733.4
         },
         {
          "V (uV)": -15,
          "t (ms)": 733.44
         },
         {
          "V (uV)": -15.63,
          "t (ms)": 733.48
         },
         {
          "V (uV)": 2.6,
          "t (ms)": 733.52
         },
         {
          "V (uV)": 2.19,
          "t (ms)": 733.56
         },
         {
          "V (uV)": -6.25,
          "t (ms)": 733.6
         },
         {
          "V (uV)": 0.1,
          "t (ms)": 733.64
         },
         {
          "V (uV)": 11.35,
          "t (ms)": 733.68
         },
         {
          "V (uV)": -1.35,
          "t (ms)": 733.72
         },
         {
          "V (uV)": -0.52,
          "t (ms)": 733.76
         },
         {
          "V (uV)": -0.83,
          "t (ms)": 733.8
         },
         {
          "V (uV)": -9.9,
          "t (ms)": 733.84
         },
         {
          "V (uV)": -10.31,
          "t (ms)": 733.88
         },
         {
          "V (uV)": 10.52,
          "t (ms)": 733.92
         },
         {
          "V (uV)": -6.35,
          "t (ms)": 733.96
         },
         {
          "V (uV)": -13.23,
          "t (ms)": 734
         },
         {
          "V (uV)": -4.69,
          "t (ms)": 734.04
         },
         {
          "V (uV)": -9.17,
          "t (ms)": 734.08
         },
         {
          "V (uV)": -11.25,
          "t (ms)": 734.12
         },
         {
          "V (uV)": 9.38,
          "t (ms)": 734.16
         },
         {
          "V (uV)": 0.73,
          "t (ms)": 734.2
         },
         {
          "V (uV)": -7.5,
          "t (ms)": 734.24
         },
         {
          "V (uV)": -2.08,
          "t (ms)": 734.28
         },
         {
          "V (uV)": -13.44,
          "t (ms)": 734.32
         },
         {
          "V (uV)": -18.23,
          "t (ms)": 734.36
         },
         {
          "V (uV)": 3.33,
          "t (ms)": 734.4
         },
         {
          "V (uV)": 4.79,
          "t (ms)": 734.44
         },
         {
          "V (uV)": -4.9,
          "t (ms)": 734.48
         },
         {
          "V (uV)": 11.98,
          "t (ms)": 734.52
         },
         {
          "V (uV)": 10.94,
          "t (ms)": 734.56
         },
         {
          "V (uV)": -1.77,
          "t (ms)": 734.6
         },
         {
          "V (uV)": -0.31,
          "t (ms)": 734.64
         },
         {
          "V (uV)": 6.98,
          "t (ms)": 734.68
         },
         {
          "V (uV)": -8.65,
          "t (ms)": 734.72
         },
         {
          "V (uV)": -10.21,
          "t (ms)": 734.76
         },
         {
          "V (uV)": -3.75,
          "t (ms)": 734.8
         },
         {
          "V (uV)": -3.96,
          "t (ms)": 734.84
         },
         {
          "V (uV)": -5,
          "t (ms)": 734.88
         },
         {
          "V (uV)": 14.69,
          "t (ms)": 734.92
         },
         {
          "V (uV)": 1.46,
          "t (ms)": 734.96
         },
         {
          "V (uV)": -3.13,
          "t (ms)": 735
         },
         {
          "V (uV)": 9.69,
          "t (ms)": 735.04
         },
         {
          "V (uV)": 1.77,
          "t (ms)": 735.08
         },
         {
          "V (uV)": -5.42,
          "t (ms)": 735.12
         },
         {
          "V (uV)": 11.67,
          "t (ms)": 735.16
         },
         {
          "V (uV)": -1.67,
          "t (ms)": 735.2
         },
         {
          "V (uV)": -9.27,
          "t (ms)": 735.24
         },
         {
          "V (uV)": 0.63,
          "t (ms)": 735.28
         },
         {
          "V (uV)": -7.6,
          "t (ms)": 735.32
         },
         {
          "V (uV)": -7.4,
          "t (ms)": 735.36
         },
         {
          "V (uV)": 6.04,
          "t (ms)": 735.4
         },
         {
          "V (uV)": 7.19,
          "t (ms)": 735.44
         },
         {
          "V (uV)": -1.77,
          "t (ms)": 735.48
         },
         {
          "V (uV)": 11.67,
          "t (ms)": 735.52
         },
         {
          "V (uV)": 9.9,
          "t (ms)": 735.56
         },
         {
          "V (uV)": -6.04,
          "t (ms)": 735.6
         },
         {
          "V (uV)": 3.85,
          "t (ms)": 735.64
         },
         {
          "V (uV)": -2.19,
          "t (ms)": 735.68
         },
         {
          "V (uV)": -12.19,
          "t (ms)": 735.72
         },
         {
          "V (uV)": -10.52,
          "t (ms)": 735.76
         },
         {
          "V (uV)": 7.81,
          "t (ms)": 735.8
         },
         {
          "V (uV)": 1.67,
          "t (ms)": 735.84
         },
         {
          "V (uV)": 0.42,
          "t (ms)": 735.88
         },
         {
          "V (uV)": 6.56,
          "t (ms)": 735.92
         },
         {
          "V (uV)": -7.5,
          "t (ms)": 735.96
         },
         {
          "V (uV)": -10.42,
          "t (ms)": 736
         },
         {
          "V (uV)": 17.08,
          "t (ms)": 736.04
         },
         {
          "V (uV)": 0.31,
          "t (ms)": 736.08
         },
         {
          "V (uV)": -6.67,
          "t (ms)": 736.12
         },
         {
          "V (uV)": -0.21,
          "t (ms)": 736.16
         },
         {
          "V (uV)": -8.75,
          "t (ms)": 736.2
         },
         {
          "V (uV)": -8.75,
          "t (ms)": 736.24
         },
         {
          "V (uV)": 9.9,
          "t (ms)": 736.28
         },
         {
          "V (uV)": -4.17,
          "t (ms)": 736.32
         },
         {
          "V (uV)": -11.56,
          "t (ms)": 736.36
         },
         {
          "V (uV)": -2.81,
          "t (ms)": 736.4
         },
         {
          "V (uV)": -13.85,
          "t (ms)": 736.44
         },
         {
          "V (uV)": -11.46,
          "t (ms)": 736.48
         },
         {
          "V (uV)": 5.73,
          "t (ms)": 736.52
         },
         {
          "V (uV)": 21.04,
          "t (ms)": 736.56
         },
         {
          "V (uV)": -0.21,
          "t (ms)": 736.6
         },
         {
          "V (uV)": 0.73,
          "t (ms)": 736.64
         },
         {
          "V (uV)": -2.29,
          "t (ms)": 736.68
         },
         {
          "V (uV)": -4.27,
          "t (ms)": 736.72
         },
         {
          "V (uV)": 3.13,
          "t (ms)": 736.76
         },
         {
          "V (uV)": 16.98,
          "t (ms)": 736.8
         },
         {
          "V (uV)": 1.25,
          "t (ms)": 736.84
         },
         {
          "V (uV)": -8.33,
          "t (ms)": 736.88
         },
         {
          "V (uV)": 2.5,
          "t (ms)": 736.92
         },
         {
          "V (uV)": -6.56,
          "t (ms)": 736.96
         },
         {
          "V (uV)": -13.96,
          "t (ms)": 737
         },
         {
          "V (uV)": 12.19,
          "t (ms)": 737.04
         },
         {
          "V (uV)": -2.81,
          "t (ms)": 737.08
         },
         {
          "V (uV)": -10.94,
          "t (ms)": 737.12
         },
         {
          "V (uV)": 3.96,
          "t (ms)": 737.16
         },
         {
          "V (uV)": 1.88,
          "t (ms)": 737.2
         },
         {
          "V (uV)": 1.25,
          "t (ms)": 737.24
         },
         {
          "V (uV)": 14.38,
          "t (ms)": 737.28
         },
         {
          "V (uV)": 4.27,
          "t (ms)": 737.32
         },
         {
          "V (uV)": -2.29,
          "t (ms)": 737.36
         },
         {
          "V (uV)": 16.67,
          "t (ms)": 737.4
         },
         {
          "V (uV)": 3.96,
          "t (ms)": 737.44
         },
         {
          "V (uV)": -6.67,
          "t (ms)": 737.48
         },
         {
          "V (uV)": 11.35,
          "t (ms)": 737.52
         },
         {
          "V (uV)": 13.65,
          "t (ms)": 737.56
         },
         {
          "V (uV)": -4.69,
          "t (ms)": 737.6
         },
         {
          "V (uV)": 0.73,
          "t (ms)": 737.64
         },
         {
          "V (uV)": 9.38,
          "t (ms)": 737.68
         },
         {
          "V (uV)": -5.94,
          "t (ms)": 737.72
         },
         {
          "V (uV)": -3.02,
          "t (ms)": 737.76
         },
         {
          "V (uV)": 0.21,
          "t (ms)": 737.8
         },
         {
          "V (uV)": -8.23,
          "t (ms)": 737.84
         },
         {
          "V (uV)": -13.85,
          "t (ms)": 737.88
         },
         {
          "V (uV)": 8.13,
          "t (ms)": 737.92
         },
         {
          "V (uV)": -4.17,
          "t (ms)": 737.96
         },
         {
          "V (uV)": -8.13,
          "t (ms)": 738
         },
         {
          "V (uV)": -3.02,
          "t (ms)": 738.04
         },
         {
          "V (uV)": -12.81,
          "t (ms)": 738.08
         },
         {
          "V (uV)": -15.83,
          "t (ms)": 738.12
         },
         {
          "V (uV)": 13.23,
          "t (ms)": 738.16
         },
         {
          "V (uV)": -0.73,
          "t (ms)": 738.2
         },
         {
          "V (uV)": -8.96,
          "t (ms)": 738.24
         },
         {
          "V (uV)": 0,
          "t (ms)": 738.28
         },
         {
          "V (uV)": -9.69,
          "t (ms)": 738.32
         },
         {
          "V (uV)": -13.65,
          "t (ms)": 738.36
         },
         {
          "V (uV)": 4.58,
          "t (ms)": 738.4
         },
         {
          "V (uV)": 4.38,
          "t (ms)": 738.44
         },
         {
          "V (uV)": -7.08,
          "t (ms)": 738.48
         },
         {
          "V (uV)": 8.65,
          "t (ms)": 738.52
         },
         {
          "V (uV)": 11.77,
          "t (ms)": 738.56
         },
         {
          "V (uV)": -1.67,
          "t (ms)": 738.6
         },
         {
          "V (uV)": 3.96,
          "t (ms)": 738.64
         },
         {
          "V (uV)": 11.35,
          "t (ms)": 738.68
         },
         {
          "V (uV)": -0.52,
          "t (ms)": 738.72
         },
         {
          "V (uV)": 2.81,
          "t (ms)": 738.76
         },
         {
          "V (uV)": 3.44,
          "t (ms)": 738.8
         },
         {
          "V (uV)": -2.29,
          "t (ms)": 738.84
         },
         {
          "V (uV)": -6.67,
          "t (ms)": 738.88
         },
         {
          "V (uV)": 13.65,
          "t (ms)": 738.92
         },
         {
          "V (uV)": 0.73,
          "t (ms)": 738.96
         },
         {
          "V (uV)": -5.63,
          "t (ms)": 739
         },
         {
          "V (uV)": 5.42,
          "t (ms)": 739.04
         },
         {
          "V (uV)": -6.56,
          "t (ms)": 739.08
         },
         {
          "V (uV)": -8.96,
          "t (ms)": 739.12
         },
         {
          "V (uV)": 19.9,
          "t (ms)": 739.16
         },
         {
          "V (uV)": 8.75,
          "t (ms)": 739.2
         },
         {
          "V (uV)": -2.6,
          "t (ms)": 739.24
         },
         {
          "V (uV)": 11.15,
          "t (ms)": 739.28
         },
         {
          "V (uV)": 6.04,
          "t (ms)": 739.32
         },
         {
          "V (uV)": 5.52,
          "t (ms)": 739.36
         },
         {
          "V (uV)": 19.06,
          "t (ms)": 739.4
         },
         {
          "V (uV)": 10.31,
          "t (ms)": 739.44
         },
         {
          "V (uV)": -1.25,
          "t (ms)": 739.48
         },
         {
          "V (uV)": 2.92,
          "t (ms)": 739.52
         },
         {
          "V (uV)": -0.83,
          "t (ms)": 739.56
         },
         {
          "V (uV)": -12.92,
          "t (ms)": 739.6
         },
         {
          "V (uV)": -6.15,
          "t (ms)": 739.64
         },
         {
          "V (uV)": -6.35,
          "t (ms)": 739.68
         },
         {
          "V (uV)": -9.79,
          "t (ms)": 739.72
         },
         {
          "V (uV)": -7.08,
          "t (ms)": 739.76
         },
         {
          "V (uV)": 6.88,
          "t (ms)": 739.8
         },
         {
          "V (uV)": -4.79,
          "t (ms)": 739.84
         },
         {
          "V (uV)": -10.21,
          "t (ms)": 739.88
         },
         {
          "V (uV)": -2.4,
          "t (ms)": 739.92
         },
         {
          "V (uV)": -4.9,
          "t (ms)": 739.96
         },
         {
          "V (uV)": -6.56,
          "t (ms)": 740
         },
         {
          "V (uV)": 18.02,
          "t (ms)": 740.04
         },
         {
          "V (uV)": 0.1,
          "t (ms)": 740.08
         },
         {
          "V (uV)": -10.42,
          "t (ms)": 740.12
         },
         {
          "V (uV)": -6.25,
          "t (ms)": 740.16
         },
         {
          "V (uV)": -11.04,
          "t (ms)": 740.2
         },
         {
          "V (uV)": -18.54,
          "t (ms)": 740.24
         },
         {
          "V (uV)": 1.88,
          "t (ms)": 740.28
         },
         {
          "V (uV)": -5.94,
          "t (ms)": 740.32
         },
         {
          "V (uV)": -9.9,
          "t (ms)": 740.36
         },
         {
          "V (uV)": 8.65,
          "t (ms)": 740.4
         },
         {
          "V (uV)": 4.27,
          "t (ms)": 740.44
         },
         {
          "V (uV)": -1.56,
          "t (ms)": 740.48
         },
         {
          "V (uV)": 10,
          "t (ms)": 740.52
         },
         {
          "V (uV)": 31.98,
          "t (ms)": 740.56
         },
         {
          "V (uV)": 10.42,
          "t (ms)": 740.6
         },
         {
          "V (uV)": 6.04,
          "t (ms)": 740.64
         },
         {
          "V (uV)": -0.94,
          "t (ms)": 740.68
         },
         {
          "V (uV)": -10,
          "t (ms)": 740.72
         },
         {
          "V (uV)": -3.44,
          "t (ms)": 740.76
         },
         {
          "V (uV)": 17.92,
          "t (ms)": 740.8
         },
         {
          "V (uV)": 0.31,
          "t (ms)": 740.84
         },
         {
          "V (uV)": -4.9,
          "t (ms)": 740.88
         },
         {
          "V (uV)": 1.88,
          "t (ms)": 740.92
         },
         {
          "V (uV)": -5.42,
          "t (ms)": 740.96
         },
         {
          "V (uV)": -6.35,
          "t (ms)": 741
         },
         {
          "V (uV)": 18.65,
          "t (ms)": 741.04
         },
         {
          "V (uV)": 1.35,
          "t (ms)": 741.08
         },
         {
          "V (uV)": -6.88,
          "t (ms)": 741.12
         },
         {
          "V (uV)": 4.48,
          "t (ms)": 741.16
         },
         {
          "V (uV)": -8.54,
          "t (ms)": 741.2
         },
         {
          "V (uV)": -12.4,
          "t (ms)": 741.24
         },
         {
          "V (uV)": 5.63,
          "t (ms)": 741.28
         },
         {
          "V (uV)": -3.33,
          "t (ms)": 741.32
         },
         {
          "V (uV)": -5.94,
          "t (ms)": 741.36
         },
         {
          "V (uV)": 7.81,
          "t (ms)": 741.4
         },
         {
          "V (uV)": 1.56,
          "t (ms)": 741.44
         },
         {
          "V (uV)": -6.25,
          "t (ms)": 741.48
         },
         {
          "V (uV)": 9.69,
          "t (ms)": 741.52
         },
         {
          "V (uV)": 16.77,
          "t (ms)": 741.56
         },
         {
          "V (uV)": 5,
          "t (ms)": 741.6
         },
         {
          "V (uV)": 9.17,
          "t (ms)": 741.64
         },
         {
          "V (uV)": 10.94,
          "t (ms)": 741.68
         },
         {
          "V (uV)": -5,
          "t (ms)": 741.72
         },
         {
          "V (uV)": 0.21,
          "t (ms)": 741.76
         },
         {
          "V (uV)": 5.73,
          "t (ms)": 741.8
         },
         {
          "V (uV)": -10.94,
          "t (ms)": 741.84
         },
         {
          "V (uV)": -8.02,
          "t (ms)": 741.88
         },
         {
          "V (uV)": 20.94,
          "t (ms)": 741.92
         },
         {
          "V (uV)": 7.5,
          "t (ms)": 741.96
         },
         {
          "V (uV)": -3.44,
          "t (ms)": 742
         },
         {
          "V (uV)": -0.52,
          "t (ms)": 742.04
         },
         {
          "V (uV)": -9.58,
          "t (ms)": 742.08
         },
         {
          "V (uV)": -13.13,
          "t (ms)": 742.12
         },
         {
          "V (uV)": 18.33,
          "t (ms)": 742.16
         },
         {
          "V (uV)": 7.4,
          "t (ms)": 742.2
         },
         {
          "V (uV)": -3.44,
          "t (ms)": 742.24
         },
         {
          "V (uV)": 0.94,
          "t (ms)": 742.28
         },
         {
          "V (uV)": -8.23,
          "t (ms)": 742.32
         },
         {
          "V (uV)": -13.44,
          "t (ms)": 742.36
         },
         {
          "V (uV)": 5.42,
          "t (ms)": 742.4
         },
         {
          "V (uV)": 4.48,
          "t (ms)": 742.44
         },
         {
          "V (uV)": -5.1,
          "t (ms)": 742.48
         },
         {
          "V (uV)": 8.44,
          "t (ms)": 742.52
         },
         {
          "V (uV)": 9.69,
          "t (ms)": 742.56
         },
         {
          "V (uV)": -2.6,
          "t (ms)": 742.6
         },
         {
          "V (uV)": 7.08,
          "t (ms)": 742.64
         },
         {
          "V (uV)": 18.85,
          "t (ms)": 742.68
         },
         {
          "V (uV)": -0.21,
          "t (ms)": 742.72
         },
         {
          "V (uV)": -6.35,
          "t (ms)": 742.76
         },
         {
          "V (uV)": -1.25,
          "t (ms)": 742.8
         },
         {
          "V (uV)": -9.69,
          "t (ms)": 742.84
         },
         {
          "V (uV)": -6.67,
          "t (ms)": 742.88
         },
         {
          "V (uV)": 16.88,
          "t (ms)": 742.92
         },
         {
          "V (uV)": 0.94,
          "t (ms)": 742.96
         },
         {
          "V (uV)": -6.56,
          "t (ms)": 743
         },
         {
          "V (uV)": 4.27,
          "t (ms)": 743.04
         },
         {
          "V (uV)": -2.4,
          "t (ms)": 743.08
         },
         {
          "V (uV)": -12.19,
          "t (ms)": 743.12
         },
         {
          "V (uV)": 6.88,
          "t (ms)": 743.16
         },
         {
          "V (uV)": -0.1,
          "t (ms)": 743.2
         },
         {
          "V (uV)": -5.52,
          "t (ms)": 743.24
         },
         {
          "V (uV)": 9.48,
          "t (ms)": 743.28
         },
         {
          "V (uV)": 6.15,
          "t (ms)": 743.32
         },
         {
          "V (uV)": 4.69,
          "t (ms)": 743.36
         },
         {
          "V (uV)": 22.6,
          "t (ms)": 743.4
         },
         {
          "V (uV)": 18.44,
          "t (ms)": 743.44
         },
         {
          "V (uV)": 4.06,
          "t (ms)": 743.48
         },
         {
          "V (uV)": 6.67,
          "t (ms)": 743.52
         },
         {
          "V (uV)": 7.4,
          "t (ms)": 743.56
         },
         {
          "V (uV)": -5.21,
          "t (ms)": 743.6
         },
         {
          "V (uV)": 1.46,
          "t (ms)": 743.64
         },
         {
          "V (uV)": -4.17,
          "t (ms)": 743.68
         },
         {
          "V (uV)": -9.79,
          "t (ms)": 743.72
         },
         {
          "V (uV)": -6.67,
          "t (ms)": 743.76
         },
         {
          "V (uV)": 4.79,
          "t (ms)": 743.8
         },
         {
          "V (uV)": -11.15,
          "t (ms)": 743.84
         },
         {
          "V (uV)": -8.23,
          "t (ms)": 743.88
         },
         {
          "V (uV)": -3.75,
          "t (ms)": 743.92
         }
        ]
       },
       "encoding": {
        "x": {
         "field": "V (uV)",
         "title": "V (µV)",
         "type": "quantitative"
        },
        "y": {
         "field": "t (ms)",
         "scale": {
          "zero": false
         },
         "type": "quantitative"
        }
       },
       "mark": "line"
      },
      "image/png": "[encoded data removed]",
      "text/plain": [
       "<VegaLite 2 object>\n",
       "\n",
       "If you see this message, it means the renderer has not been properly enabled\n",
       "for the frontend that you are using. For more information, see\n",
       "https://altair-viz.github.io/user_guide/troubleshooting.html\n"
      ]
     },
     "execution_count": 25,
     "metadata": {},
     "output_type": "execute_result"
    }
   ],
   "source": [
    "alt.Chart(df\n",
    "    ).mark_line(\n",
    "    ).encode(\n",
    "        y=alt.Y('t (ms):Q', scale=alt.Scale(zero=False)),\n",
    "        x=alt.X('V (uV):Q', title='V (µV)'))"
   ]
  },
  {
   "cell_type": "markdown",
   "metadata": {},
   "source": [
    "This plot is clearly messed up. That is because Altair connected the lines in order of voltage. To prevent this, we can use the `order` kwarg of `encode()` to make sure the points are connected in the proper order."
   ]
  },
  {
   "cell_type": "code",
   "execution_count": 26,
   "metadata": {},
   "outputs": [
    {
     "data": {
      "application/vnd.vegalite.v2+json": {
       "$schema": "https://vega.github.io/schema/vega-lite/v2.4.3.json",
       "config": {
        "view": {
         "height": 300,
         "width": 400
        }
       },
       "data": {
        "values": [
         {
          "V (uV)": 4.79,
          "t (ms)": 703.96
         },
         {
          "V (uV)": -0.63,
          "t (ms)": 704
         },
         {
          "V (uV)": 5.83,
          "t (ms)": 704.04
         },
         {
          "V (uV)": 0.31,
          "t (ms)": 704.08
         },
         {
          "V (uV)": -4.58,
          "t (ms)": 704.12
         },
         {
          "V (uV)": 21.67,
          "t (ms)": 704.16
         },
         {
          "V (uV)": 8.13,
          "t (ms)": 704.2
         },
         {
          "V (uV)": 5.94,
          "t (ms)": 704.24
         },
         {
          "V (uV)": 14.79,
          "t (ms)": 704.28
         },
         {
          "V (uV)": 2.71,
          "t (ms)": 704.32
         },
         {
          "V (uV)": 0.94,
          "t (ms)": 704.36
         },
         {
          "V (uV)": 17.4,
          "t (ms)": 704.4
         },
         {
          "V (uV)": 11.77,
          "t (ms)": 704.44
         },
         {
          "V (uV)": -2.6,
          "t (ms)": 704.48
         },
         {
          "V (uV)": 6.04,
          "t (ms)": 704.52
         },
         {
          "V (uV)": -3.44,
          "t (ms)": 704.56
         },
         {
          "V (uV)": -6.04,
          "t (ms)": 704.6
         },
         {
          "V (uV)": 10.42,
          "t (ms)": 704.64
         },
         {
          "V (uV)": 19.06,
          "t (ms)": 704.68
         },
         {
          "V (uV)": 7.4,
          "t (ms)": 704.72
         },
         {
          "V (uV)": 9.79,
          "t (ms)": 704.76
         },
         {
          "V (uV)": 20.42,
          "t (ms)": 704.8
         },
         {
          "V (uV)": -0.1,
          "t (ms)": 704.84
         },
         {
          "V (uV)": -7.92,
          "t (ms)": 704.88
         },
         {
          "V (uV)": -7.29,
          "t (ms)": 704.92
         },
         {
          "V (uV)": -11.25,
          "t (ms)": 704.96
         },
         {
          "V (uV)": -12.19,
          "t (ms)": 705
         },
         {
          "V (uV)": 12.6,
          "t (ms)": 705.04
         },
         {
          "V (uV)": -1.98,
          "t (ms)": 705.08
         },
         {
          "V (uV)": -10.31,
          "t (ms)": 705.12
         },
         {
          "V (uV)": 0.1,
          "t (ms)": 705.16
         },
         {
          "V (uV)": -5.31,
          "t (ms)": 705.2
         },
         {
          "V (uV)": -8.02,
          "t (ms)": 705.24
         },
         {
          "V (uV)": 15.52,
          "t (ms)": 705.28
         },
         {
          "V (uV)": 4.17,
          "t (ms)": 705.32
         },
         {
          "V (uV)": -5.31,
          "t (ms)": 705.36
         },
         {
          "V (uV)": 3.65,
          "t (ms)": 705.4
         },
         {
          "V (uV)": -5.52,
          "t (ms)": 705.44
         },
         {
          "V (uV)": -11.25,
          "t (ms)": 705.48
         },
         {
          "V (uV)": 4.06,
          "t (ms)": 705.52
         },
         {
          "V (uV)": 6.25,
          "t (ms)": 705.56
         },
         {
          "V (uV)": -1.25,
          "t (ms)": 705.6
         },
         {
          "V (uV)": 7.29,
          "t (ms)": 705.64
         },
         {
          "V (uV)": 7.29,
          "t (ms)": 705.68
         },
         {
          "V (uV)": -6.56,
          "t (ms)": 705.72
         },
         {
          "V (uV)": -3.85,
          "t (ms)": 705.76
         },
         {
          "V (uV)": 12.71,
          "t (ms)": 705.8
         },
         {
          "V (uV)": -3.75,
          "t (ms)": 705.84
         },
         {
          "V (uV)": -5.73,
          "t (ms)": 705.88
         },
         {
          "V (uV)": 2.29,
          "t (ms)": 705.92
         },
         {
          "V (uV)": -2.92,
          "t (ms)": 705.96
         },
         {
          "V (uV)": -6.35,
          "t (ms)": 706
         },
         {
          "V (uV)": 21.35,
          "t (ms)": 706.04
         },
         {
          "V (uV)": 2.4,
          "t (ms)": 706.08
         },
         {
          "V (uV)": -7.29,
          "t (ms)": 706.12
         },
         {
          "V (uV)": 3.96,
          "t (ms)": 706.16
         },
         {
          "V (uV)": -3.23,
          "t (ms)": 706.2
         },
         {
          "V (uV)": -8.54,
          "t (ms)": 706.24
         },
         {
          "V (uV)": 15.1,
          "t (ms)": 706.28
         },
         {
          "V (uV)": 3.96,
          "t (ms)": 706.32
         },
         {
          "V (uV)": -2.5,
          "t (ms)": 706.36
         },
         {
          "V (uV)": 14.69,
          "t (ms)": 706.4
         },
         {
          "V (uV)": 3.13,
          "t (ms)": 706.44
         },
         {
          "V (uV)": -2.81,
          "t (ms)": 706.48
         },
         {
          "V (uV)": 8.54,
          "t (ms)": 706.52
         },
         {
          "V (uV)": 10.1,
          "t (ms)": 706.56
         },
         {
          "V (uV)": -0.63,
          "t (ms)": 706.6
         },
         {
          "V (uV)": 8.75,
          "t (ms)": 706.64
         },
         {
          "V (uV)": 15.42,
          "t (ms)": 706.68
         },
         {
          "V (uV)": 3.13,
          "t (ms)": 706.72
         },
         {
          "V (uV)": 1.46,
          "t (ms)": 706.76
         },
         {
          "V (uV)": -0.63,
          "t (ms)": 706.8
         },
         {
          "V (uV)": -6.67,
          "t (ms)": 706.84
         },
         {
          "V (uV)": -5.52,
          "t (ms)": 706.88
         },
         {
          "V (uV)": 11.35,
          "t (ms)": 706.92
         },
         {
          "V (uV)": 1.04,
          "t (ms)": 706.96
         },
         {
          "V (uV)": -1.88,
          "t (ms)": 707
         },
         {
          "V (uV)": 8.13,
          "t (ms)": 707.04
         },
         {
          "V (uV)": 1.46,
          "t (ms)": 707.08
         },
         {
          "V (uV)": -7.4,
          "t (ms)": 707.12
         },
         {
          "V (uV)": 11.25,
          "t (ms)": 707.16
         },
         {
          "V (uV)": -5.73,
          "t (ms)": 707.2
         },
         {
          "V (uV)": -9.27,
          "t (ms)": 707.24
         },
         {
          "V (uV)": 3.85,
          "t (ms)": 707.28
         },
         {
          "V (uV)": -7.19,
          "t (ms)": 707.32
         },
         {
          "V (uV)": -11.67,
          "t (ms)": 707.36
         },
         {
          "V (uV)": 13.33,
          "t (ms)": 707.4
         },
         {
          "V (uV)": 4.17,
          "t (ms)": 707.44
         },
         {
          "V (uV)": -11.98,
          "t (ms)": 707.48
         },
         {
          "V (uV)": -5.94,
          "t (ms)": 707.52
         },
         {
          "V (uV)": -6.56,
          "t (ms)": 707.56
         },
         {
          "V (uV)": -6.77,
          "t (ms)": 707.6
         },
         {
          "V (uV)": 3.23,
          "t (ms)": 707.64
         },
         {
          "V (uV)": 6.56,
          "t (ms)": 707.68
         },
         {
          "V (uV)": -6.15,
          "t (ms)": 707.72
         },
         {
          "V (uV)": -5.63,
          "t (ms)": 707.76
         },
         {
          "V (uV)": 2.19,
          "t (ms)": 707.8
         },
         {
          "V (uV)": -11.15,
          "t (ms)": 707.84
         },
         {
          "V (uV)": -8.96,
          "t (ms)": 707.88
         },
         {
          "V (uV)": 10.42,
          "t (ms)": 707.92
         },
         {
          "V (uV)": -4.17,
          "t (ms)": 707.96
         },
         {
          "V (uV)": -9.79,
          "t (ms)": 708
         },
         {
          "V (uV)": -4.79,
          "t (ms)": 708.04
         },
         {
          "V (uV)": -12.71,
          "t (ms)": 708.08
         },
         {
          "V (uV)": -19.58,
          "t (ms)": 708.12
         },
         {
          "V (uV)": 10.63,
          "t (ms)": 708.16
         },
         {
          "V (uV)": -1.67,
          "t (ms)": 708.2
         },
         {
          "V (uV)": -10,
          "t (ms)": 708.24
         },
         {
          "V (uV)": 1.98,
          "t (ms)": 708.28
         },
         {
          "V (uV)": -4.79,
          "t (ms)": 708.32
         },
         {
          "V (uV)": -5.42,
          "t (ms)": 708.36
         },
         {
          "V (uV)": 11.04,
          "t (ms)": 708.4
         },
         {
          "V (uV)": -0.21,
          "t (ms)": 708.44
         },
         {
          "V (uV)": -6.88,
          "t (ms)": 708.48
         },
         {
          "V (uV)": 4.79,
          "t (ms)": 708.52
         },
         {
          "V (uV)": -5.73,
          "t (ms)": 708.56
         },
         {
          "V (uV)": -11.56,
          "t (ms)": 708.6
         },
         {
          "V (uV)": -0.94,
          "t (ms)": 708.64
         },
         {
          "V (uV)": 6.15,
          "t (ms)": 708.68
         },
         {
          "V (uV)": -9.17,
          "t (ms)": 708.72
         },
         {
          "V (uV)": -8.65,
          "t (ms)": 708.76
         },
         {
          "V (uV)": 0.94,
          "t (ms)": 708.8
         },
         {
          "V (uV)": -16.56,
          "t (ms)": 708.84
         },
         {
          "V (uV)": -14.17,
          "t (ms)": 708.88
         },
         {
          "V (uV)": -5.83,
          "t (ms)": 708.92
         },
         {
          "V (uV)": -6.67,
          "t (ms)": 708.96
         },
         {
          "V (uV)": -5.83,
          "t (ms)": 709
         },
         {
          "V (uV)": 22.08,
          "t (ms)": 709.04
         },
         {
          "V (uV)": 5.42,
          "t (ms)": 709.08
         },
         {
          "V (uV)": -1.88,
          "t (ms)": 709.12
         },
         {
          "V (uV)": 4.69,
          "t (ms)": 709.16
         },
         {
          "V (uV)": 1.88,
          "t (ms)": 709.2
         },
         {
          "V (uV)": -6.88,
          "t (ms)": 709.24
         },
         {
          "V (uV)": 17.81,
          "t (ms)": 709.28
         },
         {
          "V (uV)": 4.17,
          "t (ms)": 709.32
         },
         {
          "V (uV)": -5,
          "t (ms)": 709.36
         },
         {
          "V (uV)": 8.65,
          "t (ms)": 709.4
         },
         {
          "V (uV)": -5.73,
          "t (ms)": 709.44
         },
         {
          "V (uV)": -12.08,
          "t (ms)": 709.48
         },
         {
          "V (uV)": 3.13,
          "t (ms)": 709.52
         },
         {
          "V (uV)": 1.15,
          "t (ms)": 709.56
         },
         {
          "V (uV)": -8.23,
          "t (ms)": 709.6
         },
         {
          "V (uV)": -0.94,
          "t (ms)": 709.64
         },
         {
          "V (uV)": 8.44,
          "t (ms)": 709.68
         },
         {
          "V (uV)": -10.63,
          "t (ms)": 709.72
         },
         {
          "V (uV)": -4.06,
          "t (ms)": 709.76
         },
         {
          "V (uV)": 10.42,
          "t (ms)": 709.8
         },
         {
          "V (uV)": -2.5,
          "t (ms)": 709.84
         },
         {
          "V (uV)": -0.1,
          "t (ms)": 709.88
         },
         {
          "V (uV)": 4.38,
          "t (ms)": 709.92
         },
         {
          "V (uV)": -8.13,
          "t (ms)": 709.96
         },
         {
          "V (uV)": -9.48,
          "t (ms)": 710
         },
         {
          "V (uV)": 18.54,
          "t (ms)": 710.04
         },
         {
          "V (uV)": 4.79,
          "t (ms)": 710.08
         },
         {
          "V (uV)": -0.63,
          "t (ms)": 710.12
         },
         {
          "V (uV)": 10.1,
          "t (ms)": 710.16
         },
         {
          "V (uV)": 2.19,
          "t (ms)": 710.2
         },
         {
          "V (uV)": -5.83,
          "t (ms)": 710.24
         },
         {
          "V (uV)": 17.5,
          "t (ms)": 710.28
         },
         {
          "V (uV)": 3.96,
          "t (ms)": 710.32
         },
         {
          "V (uV)": -12.6,
          "t (ms)": 710.36
         },
         {
          "V (uV)": -0.21,
          "t (ms)": 710.4
         },
         {
          "V (uV)": -9.9,
          "t (ms)": 710.44
         },
         {
          "V (uV)": -10.31,
          "t (ms)": 710.48
         },
         {
          "V (uV)": 4.69,
          "t (ms)": 710.52
         },
         {
          "V (uV)": 7.29,
          "t (ms)": 710.56
         },
         {
          "V (uV)": -4.27,
          "t (ms)": 710.6
         },
         {
          "V (uV)": 3.13,
          "t (ms)": 710.64
         },
         {
          "V (uV)": 10.94,
          "t (ms)": 710.68
         },
         {
          "V (uV)": -1.35,
          "t (ms)": 710.72
         },
         {
          "V (uV)": 6.04,
          "t (ms)": 710.76
         },
         {
          "V (uV)": 6.25,
          "t (ms)": 710.8
         },
         {
          "V (uV)": -4.38,
          "t (ms)": 710.84
         },
         {
          "V (uV)": -9.58,
          "t (ms)": 710.88
         },
         {
          "V (uV)": 8.75,
          "t (ms)": 710.92
         },
         {
          "V (uV)": -7.71,
          "t (ms)": 710.96
         },
         {
          "V (uV)": -15.1,
          "t (ms)": 711
         },
         {
          "V (uV)": -5.1,
          "t (ms)": 711.04
         },
         {
          "V (uV)": -6.15,
          "t (ms)": 711.08
         },
         {
          "V (uV)": -6.98,
          "t (ms)": 711.12
         },
         {
          "V (uV)": 18.96,
          "t (ms)": 711.16
         },
         {
          "V (uV)": 1.15,
          "t (ms)": 711.2
         },
         {
          "V (uV)": -4.9,
          "t (ms)": 711.24
         },
         {
          "V (uV)": 5.31,
          "t (ms)": 711.28
         },
         {
          "V (uV)": -12.92,
          "t (ms)": 711.32
         },
         {
          "V (uV)": -19.38,
          "t (ms)": 711.36
         },
         {
          "V (uV)": 3.96,
          "t (ms)": 711.4
         },
         {
          "V (uV)": 3.85,
          "t (ms)": 711.44
         },
         {
          "V (uV)": -9.38,
          "t (ms)": 711.48
         },
         {
          "V (uV)": 6.15,
          "t (ms)": 711.52
         },
         {
          "V (uV)": 0.1,
          "t (ms)": 711.56
         },
         {
          "V (uV)": -5.31,
          "t (ms)": 711.6
         },
         {
          "V (uV)": 8.65,
          "t (ms)": 711.64
         },
         {
          "V (uV)": 11.56,
          "t (ms)": 711.68
         },
         {
          "V (uV)": 1.77,
          "t (ms)": 711.72
         },
         {
          "V (uV)": 0.52,
          "t (ms)": 711.76
         },
         {
          "V (uV)": 7.4,
          "t (ms)": 711.8
         },
         {
          "V (uV)": -8.85,
          "t (ms)": 711.84
         },
         {
          "V (uV)": -2.71,
          "t (ms)": 711.88
         },
         {
          "V (uV)": 16.25,
          "t (ms)": 711.92
         },
         {
          "V (uV)": -1.88,
          "t (ms)": 711.96
         },
         {
          "V (uV)": -9.17,
          "t (ms)": 712
         },
         {
          "V (uV)": -2.29,
          "t (ms)": 712.04
         },
         {
          "V (uV)": -16.35,
          "t (ms)": 712.08
         },
         {
          "V (uV)": -37.29,
          "t (ms)": 712.12
         },
         {
          "V (uV)": -48.75,
          "t (ms)": 712.16
         },
         {
          "V (uV)": -90.52,
          "t (ms)": 712.2
         },
         {
          "V (uV)": -101.35,
          "t (ms)": 712.24
         },
         {
          "V (uV)": -75.83,
          "t (ms)": 712.28
         },
         {
          "V (uV)": -65.31,
          "t (ms)": 712.32
         },
         {
          "V (uV)": -47.81,
          "t (ms)": 712.36
         },
         {
          "V (uV)": -14.17,
          "t (ms)": 712.4
         },
         {
          "V (uV)": -11.04,
          "t (ms)": 712.44
         },
         {
          "V (uV)": -19.48,
          "t (ms)": 712.48
         },
         {
          "V (uV)": -3.75,
          "t (ms)": 712.52
         },
         {
          "V (uV)": -9.79,
          "t (ms)": 712.56
         },
         {
          "V (uV)": -4.79,
          "t (ms)": 712.6
         },
         {
          "V (uV)": 15.63,
          "t (ms)": 712.64
         },
         {
          "V (uV)": 22.81,
          "t (ms)": 712.68
         },
         {
          "V (uV)": 5.63,
          "t (ms)": 712.72
         },
         {
          "V (uV)": 2.71,
          "t (ms)": 712.76
         },
         {
          "V (uV)": 18.23,
          "t (ms)": 712.8
         },
         {
          "V (uV)": -0.52,
          "t (ms)": 712.84
         },
         {
          "V (uV)": -5.83,
          "t (ms)": 712.88
         },
         {
          "V (uV)": 5.1,
          "t (ms)": 712.92
         },
         {
          "V (uV)": 2.4,
          "t (ms)": 712.96
         },
         {
          "V (uV)": -1.25,
          "t (ms)": 713
         },
         {
          "V (uV)": 21.88,
          "t (ms)": 713.04
         },
         {
          "V (uV)": 6.77,
          "t (ms)": 713.08
         },
         {
          "V (uV)": 3.65,
          "t (ms)": 713.12
         },
         {
          "V (uV)": 14.06,
          "t (ms)": 713.16
         },
         {
          "V (uV)": 4.17,
          "t (ms)": 713.2
         },
         {
          "V (uV)": 0.52,
          "t (ms)": 713.24
         },
         {
          "V (uV)": 23.75,
          "t (ms)": 713.28
         },
         {
          "V (uV)": 13.02,
          "t (ms)": 713.32
         },
         {
          "V (uV)": 2.71,
          "t (ms)": 713.36
         },
         {
          "V (uV)": 14.48,
          "t (ms)": 713.4
         },
         {
          "V (uV)": 8.85,
          "t (ms)": 713.44
         },
         {
          "V (uV)": 2.4,
          "t (ms)": 713.48
         },
         {
          "V (uV)": 12.08,
          "t (ms)": 713.52
         },
         {
          "V (uV)": 13.44,
          "t (ms)": 713.56
         },
         {
          "V (uV)": -1.15,
          "t (ms)": 713.6
         },
         {
          "V (uV)": 4.9,
          "t (ms)": 713.64
         },
         {
          "V (uV)": 5.83,
          "t (ms)": 713.68
         },
         {
          "V (uV)": -3.65,
          "t (ms)": 713.72
         },
         {
          "V (uV)": -2.29,
          "t (ms)": 713.76
         },
         {
          "V (uV)": -2.5,
          "t (ms)": 713.8
         },
         {
          "V (uV)": -4.69,
          "t (ms)": 713.84
         },
         {
          "V (uV)": -3.44,
          "t (ms)": 713.88
         },
         {
          "V (uV)": 14.17,
          "t (ms)": 713.92
         },
         {
          "V (uV)": 1.46,
          "t (ms)": 713.96
         },
         {
          "V (uV)": -8.75,
          "t (ms)": 714
         },
         {
          "V (uV)": 12.92,
          "t (ms)": 714.04
         },
         {
          "V (uV)": -1.35,
          "t (ms)": 714.08
         },
         {
          "V (uV)": -10.21,
          "t (ms)": 714.12
         },
         {
          "V (uV)": -2.6,
          "t (ms)": 714.16
         },
         {
          "V (uV)": -14.38,
          "t (ms)": 714.2
         },
         {
          "V (uV)": -13.02,
          "t (ms)": 714.24
         },
         {
          "V (uV)": 13.65,
          "t (ms)": 714.28
         },
         {
          "V (uV)": 5.73,
          "t (ms)": 714.32
         },
         {
          "V (uV)": 0,
          "t (ms)": 714.36
         },
         {
          "V (uV)": 10.21,
          "t (ms)": 714.4
         },
         {
          "V (uV)": -3.85,
          "t (ms)": 714.44
         },
         {
          "V (uV)": -12.71,
          "t (ms)": 714.48
         },
         {
          "V (uV)": -0.73,
          "t (ms)": 714.52
         },
         {
          "V (uV)": 2.4,
          "t (ms)": 714.56
         },
         {
          "V (uV)": -4.38,
          "t (ms)": 714.6
         },
         {
          "V (uV)": 3.96,
          "t (ms)": 714.64
         },
         {
          "V (uV)": 7.4,
          "t (ms)": 714.68
         },
         {
          "V (uV)": -3.96,
          "t (ms)": 714.72
         },
         {
          "V (uV)": 2.92,
          "t (ms)": 714.76
         },
         {
          "V (uV)": 3.54,
          "t (ms)": 714.8
         },
         {
          "V (uV)": -5.73,
          "t (ms)": 714.84
         },
         {
          "V (uV)": -7.71,
          "t (ms)": 714.88
         },
         {
          "V (uV)": 13.85,
          "t (ms)": 714.92
         },
         {
          "V (uV)": 3.96,
          "t (ms)": 714.96
         },
         {
          "V (uV)": -3.02,
          "t (ms)": 715
         },
         {
          "V (uV)": 3.85,
          "t (ms)": 715.04
         },
         {
          "V (uV)": -4.79,
          "t (ms)": 715.08
         },
         {
          "V (uV)": -9.17,
          "t (ms)": 715.12
         },
         {
          "V (uV)": 16.98,
          "t (ms)": 715.16
         },
         {
          "V (uV)": -0.63,
          "t (ms)": 715.2
         },
         {
          "V (uV)": -14.38,
          "t (ms)": 715.24
         },
         {
          "V (uV)": -9.79,
          "t (ms)": 715.28
         },
         {
          "V (uV)": -14.9,
          "t (ms)": 715.32
         },
         {
          "V (uV)": -13.02,
          "t (ms)": 715.36
         },
         {
          "V (uV)": 8.75,
          "t (ms)": 715.4
         },
         {
          "V (uV)": -1.46,
          "t (ms)": 715.44
         },
         {
          "V (uV)": -11.15,
          "t (ms)": 715.48
         },
         {
          "V (uV)": 5,
          "t (ms)": 715.52
         },
         {
          "V (uV)": 2.81,
          "t (ms)": 715.56
         },
         {
          "V (uV)": -4.27,
          "t (ms)": 715.6
         },
         {
          "V (uV)": 4.48,
          "t (ms)": 715.64
         },
         {
          "V (uV)": 13.96,
          "t (ms)": 715.68
         },
         {
          "V (uV)": -5,
          "t (ms)": 715.72
         },
         {
          "V (uV)": -5.31,
          "t (ms)": 715.76
         },
         {
          "V (uV)": 5.42,
          "t (ms)": 715.8
         },
         {
          "V (uV)": -10.63,
          "t (ms)": 715.84
         },
         {
          "V (uV)": -10.42,
          "t (ms)": 715.88
         },
         {
          "V (uV)": -1.25,
          "t (ms)": 715.92
         },
         {
          "V (uV)": -12.71,
          "t (ms)": 715.96
         },
         {
          "V (uV)": -18.85,
          "t (ms)": 716
         },
         {
          "V (uV)": 10.21,
          "t (ms)": 716.04
         },
         {
          "V (uV)": -0.42,
          "t (ms)": 716.08
         },
         {
          "V (uV)": -15.63,
          "t (ms)": 716.12
         },
         {
          "V (uV)": 12.81,
          "t (ms)": 716.16
         },
         {
          "V (uV)": 0.52,
          "t (ms)": 716.2
         },
         {
          "V (uV)": -4.69,
          "t (ms)": 716.24
         },
         {
          "V (uV)": 12.71,
          "t (ms)": 716.28
         },
         {
          "V (uV)": 7.71,
          "t (ms)": 716.32
         },
         {
          "V (uV)": 4.27,
          "t (ms)": 716.36
         },
         {
          "V (uV)": 19.79,
          "t (ms)": 716.4
         },
         {
          "V (uV)": 6.46,
          "t (ms)": 716.44
         },
         {
          "V (uV)": -4.48,
          "t (ms)": 716.48
         },
         {
          "V (uV)": 10.52,
          "t (ms)": 716.52
         },
         {
          "V (uV)": -1.25,
          "t (ms)": 716.56
         },
         {
          "V (uV)": -5,
          "t (ms)": 716.6
         },
         {
          "V (uV)": 7.4,
          "t (ms)": 716.64
         },
         {
          "V (uV)": 11.67,
          "t (ms)": 716.68
         },
         {
          "V (uV)": -2.5,
          "t (ms)": 716.72
         },
         {
          "V (uV)": -3.75,
          "t (ms)": 716.76
         },
         {
          "V (uV)": 11.56,
          "t (ms)": 716.8
         },
         {
          "V (uV)": -4.38,
          "t (ms)": 716.84
         },
         {
          "V (uV)": -10.42,
          "t (ms)": 716.88
         },
         {
          "V (uV)": -5.1,
          "t (ms)": 716.92
         },
         {
          "V (uV)": -4.79,
          "t (ms)": 716.96
         },
         {
          "V (uV)": -6.88,
          "t (ms)": 717
         },
         {
          "V (uV)": 17.92,
          "t (ms)": 717.04
         },
         {
          "V (uV)": 2.92,
          "t (ms)": 717.08
         },
         {
          "V (uV)": -11.35,
          "t (ms)": 717.12
         },
         {
          "V (uV)": 0.63,
          "t (ms)": 717.16
         },
         {
          "V (uV)": -8.44,
          "t (ms)": 717.2
         },
         {
          "V (uV)": -6.35,
          "t (ms)": 717.24
         },
         {
          "V (uV)": 11.56,
          "t (ms)": 717.28
         },
         {
          "V (uV)": 4.69,
          "t (ms)": 717.32
         },
         {
          "V (uV)": -2.81,
          "t (ms)": 717.36
         },
         {
          "V (uV)": 11.15,
          "t (ms)": 717.4
         },
         {
          "V (uV)": 0.63,
          "t (ms)": 717.44
         },
         {
          "V (uV)": -7.6,
          "t (ms)": 717.48
         },
         {
          "V (uV)": 10.83,
          "t (ms)": 717.52
         },
         {
          "V (uV)": 11.88,
          "t (ms)": 717.56
         },
         {
          "V (uV)": 0.1,
          "t (ms)": 717.6
         },
         {
          "V (uV)": 5.73,
          "t (ms)": 717.64
         },
         {
          "V (uV)": 13.44,
          "t (ms)": 717.68
         },
         {
          "V (uV)": -1.25,
          "t (ms)": 717.72
         },
         {
          "V (uV)": -1.25,
          "t (ms)": 717.76
         },
         {
          "V (uV)": 4.27,
          "t (ms)": 717.8
         },
         {
          "V (uV)": -5.21,
          "t (ms)": 717.84
         },
         {
          "V (uV)": -2.92,
          "t (ms)": 717.88
         },
         {
          "V (uV)": 16.04,
          "t (ms)": 717.92
         },
         {
          "V (uV)": 4.48,
          "t (ms)": 717.96
         },
         {
          "V (uV)": -5.31,
          "t (ms)": 718
         },
         {
          "V (uV)": 17.92,
          "t (ms)": 718.04
         },
         {
          "V (uV)": -0.42,
          "t (ms)": 718.08
         },
         {
          "V (uV)": -7.4,
          "t (ms)": 718.12
         },
         {
          "V (uV)": 2.6,
          "t (ms)": 718.16
         },
         {
          "V (uV)": -8.85,
          "t (ms)": 718.2
         },
         {
          "V (uV)": -5.63,
          "t (ms)": 718.24
         },
         {
          "V (uV)": 13.33,
          "t (ms)": 718.28
         },
         {
          "V (uV)": 2.6,
          "t (ms)": 718.32
         },
         {
          "V (uV)": -9.17,
          "t (ms)": 718.36
         },
         {
          "V (uV)": 8.85,
          "t (ms)": 718.4
         },
         {
          "V (uV)": 0.63,
          "t (ms)": 718.44
         },
         {
          "V (uV)": -3.44,
          "t (ms)": 718.48
         },
         {
          "V (uV)": 10.94,
          "t (ms)": 718.52
         },
         {
          "V (uV)": 13.33,
          "t (ms)": 718.56
         },
         {
          "V (uV)": 4.06,
          "t (ms)": 718.6
         },
         {
          "V (uV)": 8.96,
          "t (ms)": 718.64
         },
         {
          "V (uV)": 14.17,
          "t (ms)": 718.68
         },
         {
          "V (uV)": 1.88,
          "t (ms)": 718.72
         },
         {
          "V (uV)": 4.17,
          "t (ms)": 718.76
         },
         {
          "V (uV)": 7.08,
          "t (ms)": 718.8
         },
         {
          "V (uV)": -0.83,
          "t (ms)": 718.84
         },
         {
          "V (uV)": -3.23,
          "t (ms)": 718.88
         },
         {
          "V (uV)": 20,
          "t (ms)": 718.92
         },
         {
          "V (uV)": 5.42,
          "t (ms)": 718.96
         },
         {
          "V (uV)": -0.94,
          "t (ms)": 719
         },
         {
          "V (uV)": 6.88,
          "t (ms)": 719.04
         },
         {
          "V (uV)": 2.29,
          "t (ms)": 719.08
         },
         {
          "V (uV)": -3.85,
          "t (ms)": 719.12
         },
         {
          "V (uV)": 20.94,
          "t (ms)": 719.16
         },
         {
          "V (uV)": 5.52,
          "t (ms)": 719.2
         },
         {
          "V (uV)": 3.54,
          "t (ms)": 719.24
         },
         {
          "V (uV)": 13.13,
          "t (ms)": 719.28
         },
         {
          "V (uV)": 1.88,
          "t (ms)": 719.32
         },
         {
          "V (uV)": -5,
          "t (ms)": 719.36
         },
         {
          "V (uV)": 7.29,
          "t (ms)": 719.4
         },
         {
          "V (uV)": 2.6,
          "t (ms)": 719.44
         },
         {
          "V (uV)": -7.71,
          "t (ms)": 719.48
         },
         {
          "V (uV)": 0.83,
          "t (ms)": 719.52
         },
         {
          "V (uV)": -2.29,
          "t (ms)": 719.56
         },
         {
          "V (uV)": -1.56,
          "t (ms)": 719.6
         },
         {
          "V (uV)": 7.92,
          "t (ms)": 719.64
         },
         {
          "V (uV)": 15.1,
          "t (ms)": 719.68
         },
         {
          "V (uV)": 1.77,
          "t (ms)": 719.72
         },
         {
          "V (uV)": 2.81,
          "t (ms)": 719.76
         },
         {
          "V (uV)": 12.6,
          "t (ms)": 719.8
         },
         {
          "V (uV)": 1.88,
          "t (ms)": 719.84
         },
         {
          "V (uV)": 1.77,
          "t (ms)": 719.88
         },
         {
          "V (uV)": 6.25,
          "t (ms)": 719.92
         },
         {
          "V (uV)": -2.6,
          "t (ms)": 719.96
         },
         {
          "V (uV)": -9.48,
          "t (ms)": 720
         },
         {
          "V (uV)": 9.27,
          "t (ms)": 720.04
         },
         {
          "V (uV)": -6.15,
          "t (ms)": 720.08
         },
         {
          "V (uV)": -16.25,
          "t (ms)": 720.12
         },
         {
          "V (uV)": 7.71,
          "t (ms)": 720.16
         },
         {
          "V (uV)": -1.88,
          "t (ms)": 720.2
         },
         {
          "V (uV)": -8.13,
          "t (ms)": 720.24
         },
         {
          "V (uV)": -1.35,
          "t (ms)": 720.28
         },
         {
          "V (uV)": -7.5,
          "t (ms)": 720.32
         },
         {
          "V (uV)": -9.48,
          "t (ms)": 720.36
         },
         {
          "V (uV)": 7.19,
          "t (ms)": 720.4
         },
         {
          "V (uV)": 5.94,
          "t (ms)": 720.44
         },
         {
          "V (uV)": -1.88,
          "t (ms)": 720.48
         },
         {
          "V (uV)": 9.69,
          "t (ms)": 720.52
         },
         {
          "V (uV)": 9.38,
          "t (ms)": 720.56
         },
         {
          "V (uV)": -3.65,
          "t (ms)": 720.6
         },
         {
          "V (uV)": 6.04,
          "t (ms)": 720.64
         },
         {
          "V (uV)": 5.1,
          "t (ms)": 720.68
         },
         {
          "V (uV)": 0.52,
          "t (ms)": 720.72
         },
         {
          "V (uV)": 0.83,
          "t (ms)": 720.76
         },
         {
          "V (uV)": 13.33,
          "t (ms)": 720.8
         },
         {
          "V (uV)": 5.1,
          "t (ms)": 720.84
         },
         {
          "V (uV)": 5.52,
          "t (ms)": 720.88
         },
         {
          "V (uV)": 7.5,
          "t (ms)": 720.92
         },
         {
          "V (uV)": -0.83,
          "t (ms)": 720.96
         },
         {
          "V (uV)": -3.13,
          "t (ms)": 721
         },
         {
          "V (uV)": 23.23,
          "t (ms)": 721.04
         },
         {
          "V (uV)": 5.52,
          "t (ms)": 721.08
         },
         {
          "V (uV)": -8.75,
          "t (ms)": 721.12
         },
         {
          "V (uV)": 0,
          "t (ms)": 721.16
         },
         {
          "V (uV)": -3.54,
          "t (ms)": 721.2
         },
         {
          "V (uV)": -1.46,
          "t (ms)": 721.24
         },
         {
          "V (uV)": 16.35,
          "t (ms)": 721.28
         },
         {
          "V (uV)": 2.4,
          "t (ms)": 721.32
         },
         {
          "V (uV)": -8.85,
          "t (ms)": 721.36
         },
         {
          "V (uV)": -0.42,
          "t (ms)": 721.4
         },
         {
          "V (uV)": -9.38,
          "t (ms)": 721.44
         },
         {
          "V (uV)": -15.83,
          "t (ms)": 721.48
         },
         {
          "V (uV)": 0.1,
          "t (ms)": 721.52
         },
         {
          "V (uV)": 2.19,
          "t (ms)": 721.56
         },
         {
          "V (uV)": -4.58,
          "t (ms)": 721.6
         },
         {
          "V (uV)": 8.02,
          "t (ms)": 721.64
         },
         {
          "V (uV)": 12.71,
          "t (ms)": 721.68
         },
         {
          "V (uV)": 0,
          "t (ms)": 721.72
         },
         {
          "V (uV)": 0.52,
          "t (ms)": 721.76
         },
         {
          "V (uV)": 5.31,
          "t (ms)": 721.8
         },
         {
          "V (uV)": 1.98,
          "t (ms)": 721.84
         },
         {
          "V (uV)": 0.63,
          "t (ms)": 721.88
         },
         {
          "V (uV)": 16.25,
          "t (ms)": 721.92
         },
         {
          "V (uV)": 5,
          "t (ms)": 721.96
         },
         {
          "V (uV)": 1.15,
          "t (ms)": 722
         },
         {
          "V (uV)": 11.56,
          "t (ms)": 722.04
         },
         {
          "V (uV)": 4.48,
          "t (ms)": 722.08
         },
         {
          "V (uV)": 0.94,
          "t (ms)": 722.12
         },
         {
          "V (uV)": 20.52,
          "t (ms)": 722.16
         },
         {
          "V (uV)": 2.92,
          "t (ms)": 722.2
         },
         {
          "V (uV)": -7.29,
          "t (ms)": 722.24
         },
         {
          "V (uV)": 8.23,
          "t (ms)": 722.28
         },
         {
          "V (uV)": 0.94,
          "t (ms)": 722.32
         },
         {
          "V (uV)": -11.25,
          "t (ms)": 722.36
         },
         {
          "V (uV)": 5.1,
          "t (ms)": 722.4
         },
         {
          "V (uV)": -5.94,
          "t (ms)": 722.44
         },
         {
          "V (uV)": -10.83,
          "t (ms)": 722.48
         },
         {
          "V (uV)": 6.56,
          "t (ms)": 722.52
         },
         {
          "V (uV)": 12.92,
          "t (ms)": 722.56
         },
         {
          "V (uV)": -2.19,
          "t (ms)": 722.6
         },
         {
          "V (uV)": 6.77,
          "t (ms)": 722.64
         },
         {
          "V (uV)": 12.5,
          "t (ms)": 722.68
         },
         {
          "V (uV)": -0.94,
          "t (ms)": 722.72
         },
         {
          "V (uV)": -2.19,
          "t (ms)": 722.76
         },
         {
          "V (uV)": -9.06,
          "t (ms)": 722.8
         },
         {
          "V (uV)": -14.79,
          "t (ms)": 722.84
         },
         {
          "V (uV)": -16.56,
          "t (ms)": 722.88
         },
         {
          "V (uV)": 5.1,
          "t (ms)": 722.92
         },
         {
          "V (uV)": -5.31,
          "t (ms)": 722.96
         },
         {
          "V (uV)": -9.27,
          "t (ms)": 723
         },
         {
          "V (uV)": 4.06,
          "t (ms)": 723.04
         },
         {
          "V (uV)": -2.6,
          "t (ms)": 723.08
         },
         {
          "V (uV)": -8.75,
          "t (ms)": 723.12
         },
         {
          "V (uV)": 16.67,
          "t (ms)": 723.16
         },
         {
          "V (uV)": 4.38,
          "t (ms)": 723.2
         },
         {
          "V (uV)": -6.04,
          "t (ms)": 723.24
         },
         {
          "V (uV)": 4.48,
          "t (ms)": 723.28
         },
         {
          "V (uV)": -4.9,
          "t (ms)": 723.32
         },
         {
          "V (uV)": -5.83,
          "t (ms)": 723.36
         },
         {
          "V (uV)": 15.52,
          "t (ms)": 723.4
         },
         {
          "V (uV)": 11.15,
          "t (ms)": 723.44
         },
         {
          "V (uV)": -7.92,
          "t (ms)": 723.48
         },
         {
          "V (uV)": 1.04,
          "t (ms)": 723.52
         },
         {
          "V (uV)": 4.27,
          "t (ms)": 723.56
         },
         {
          "V (uV)": -7.19,
          "t (ms)": 723.6
         },
         {
          "V (uV)": 5.83,
          "t (ms)": 723.64
         },
         {
          "V (uV)": 7.5,
          "t (ms)": 723.68
         },
         {
          "V (uV)": -1.46,
          "t (ms)": 723.72
         },
         {
          "V (uV)": 1.15,
          "t (ms)": 723.76
         },
         {
          "V (uV)": 14.58,
          "t (ms)": 723.8
         },
         {
          "V (uV)": -2.5,
          "t (ms)": 723.84
         },
         {
          "V (uV)": -3.85,
          "t (ms)": 723.88
         },
         {
          "V (uV)": -1.04,
          "t (ms)": 723.92
         },
         {
          "V (uV)": -11.77,
          "t (ms)": 723.96
         },
         {
          "V (uV)": -16.77,
          "t (ms)": 724
         },
         {
          "V (uV)": 5,
          "t (ms)": 724.04
         },
         {
          "V (uV)": -9.06,
          "t (ms)": 724.08
         },
         {
          "V (uV)": -11.15,
          "t (ms)": 724.12
         },
         {
          "V (uV)": 13.75,
          "t (ms)": 724.16
         },
         {
          "V (uV)": -1.98,
          "t (ms)": 724.2
         },
         {
          "V (uV)": -10.21,
          "t (ms)": 724.24
         },
         {
          "V (uV)": 1.46,
          "t (ms)": 724.28
         },
         {
          "V (uV)": -3.13,
          "t (ms)": 724.32
         },
         {
          "V (uV)": -7.29,
          "t (ms)": 724.36
         },
         {
          "V (uV)": 13.75,
          "t (ms)": 724.4
         },
         {
          "V (uV)": 12.71,
          "t (ms)": 724.44
         },
         {
          "V (uV)": -3.75,
          "t (ms)": 724.48
         },
         {
          "V (uV)": 6.56,
          "t (ms)": 724.52
         },
         {
          "V (uV)": 9.27,
          "t (ms)": 724.56
         },
         {
          "V (uV)": 2.71,
          "t (ms)": 724.6
         },
         {
          "V (uV)": 5.52,
          "t (ms)": 724.64
         },
         {
          "V (uV)": -0.94,
          "t (ms)": 724.68
         },
         {
          "V (uV)": 0,
          "t (ms)": 724.72
         },
         {
          "V (uV)": 9.17,
          "t (ms)": 724.76
         },
         {
          "V (uV)": 13.54,
          "t (ms)": 724.8
         },
         {
          "V (uV)": -5.83,
          "t (ms)": 724.84
         },
         {
          "V (uV)": -8.23,
          "t (ms)": 724.88
         },
         {
          "V (uV)": 3.44,
          "t (ms)": 724.92
         },
         {
          "V (uV)": -2.6,
          "t (ms)": 724.96
         },
         {
          "V (uV)": -0.1,
          "t (ms)": 725
         },
         {
          "V (uV)": 22.19,
          "t (ms)": 725.04
         },
         {
          "V (uV)": 0.63,
          "t (ms)": 725.08
         },
         {
          "V (uV)": -10.83,
          "t (ms)": 725.12
         },
         {
          "V (uV)": 1.67,
          "t (ms)": 725.16
         },
         {
          "V (uV)": -3.65,
          "t (ms)": 725.2
         },
         {
          "V (uV)": -11.35,
          "t (ms)": 725.24
         },
         {
          "V (uV)": 8.33,
          "t (ms)": 725.28
         },
         {
          "V (uV)": -0.31,
          "t (ms)": 725.32
         },
         {
          "V (uV)": -10.63,
          "t (ms)": 725.36
         },
         {
          "V (uV)": -1.56,
          "t (ms)": 725.4
         },
         {
          "V (uV)": -1.46,
          "t (ms)": 725.44
         },
         {
          "V (uV)": -3.23,
          "t (ms)": 725.48
         },
         {
          "V (uV)": 9.27,
          "t (ms)": 725.52
         },
         {
          "V (uV)": 13.85,
          "t (ms)": 725.56
         },
         {
          "V (uV)": 1.35,
          "t (ms)": 725.6
         },
         {
          "V (uV)": 4.48,
          "t (ms)": 725.64
         },
         {
          "V (uV)": 13.85,
          "t (ms)": 725.68
         },
         {
          "V (uV)": -1.25,
          "t (ms)": 725.72
         },
         {
          "V (uV)": -3.33,
          "t (ms)": 725.76
         },
         {
          "V (uV)": -0.21,
          "t (ms)": 725.8
         },
         {
          "V (uV)": -3.33,
          "t (ms)": 725.84
         },
         {
          "V (uV)": -0.83,
          "t (ms)": 725.88
         },
         {
          "V (uV)": 20.63,
          "t (ms)": 725.92
         },
         {
          "V (uV)": 2.19,
          "t (ms)": 725.96
         },
         {
          "V (uV)": -6.77,
          "t (ms)": 726
         },
         {
          "V (uV)": -1.46,
          "t (ms)": 726.04
         },
         {
          "V (uV)": -10.1,
          "t (ms)": 726.08
         },
         {
          "V (uV)": -10.21,
          "t (ms)": 726.12
         },
         {
          "V (uV)": 15.73,
          "t (ms)": 726.16
         },
         {
          "V (uV)": 0.73,
          "t (ms)": 726.2
         },
         {
          "V (uV)": -7.5,
          "t (ms)": 726.24
         },
         {
          "V (uV)": 10.94,
          "t (ms)": 726.28
         },
         {
          "V (uV)": 0.21,
          "t (ms)": 726.32
         },
         {
          "V (uV)": -1.67,
          "t (ms)": 726.36
         },
         {
          "V (uV)": 8.02,
          "t (ms)": 726.4
         },
         {
          "V (uV)": -1.98,
          "t (ms)": 726.44
         },
         {
          "V (uV)": -5.31,
          "t (ms)": 726.48
         },
         {
          "V (uV)": 8.33,
          "t (ms)": 726.52
         },
         {
          "V (uV)": 12.4,
          "t (ms)": 726.56
         },
         {
          "V (uV)": 0.94,
          "t (ms)": 726.6
         },
         {
          "V (uV)": 6.67,
          "t (ms)": 726.64
         },
         {
          "V (uV)": 11.04,
          "t (ms)": 726.68
         },
         {
          "V (uV)": -5.63,
          "t (ms)": 726.72
         },
         {
          "V (uV)": 5.1,
          "t (ms)": 726.76
         },
         {
          "V (uV)": 11.15,
          "t (ms)": 726.8
         },
         {
          "V (uV)": 2.81,
          "t (ms)": 726.84
         },
         {
          "V (uV)": 2.29,
          "t (ms)": 726.88
         },
         {
          "V (uV)": 20.63,
          "t (ms)": 726.92
         },
         {
          "V (uV)": 1.35,
          "t (ms)": 726.96
         },
         {
          "V (uV)": -4.58,
          "t (ms)": 727
         },
         {
          "V (uV)": 2.71,
          "t (ms)": 727.04
         },
         {
          "V (uV)": -5.42,
          "t (ms)": 727.08
         },
         {
          "V (uV)": -10.94,
          "t (ms)": 727.12
         },
         {
          "V (uV)": 17.5,
          "t (ms)": 727.16
         },
         {
          "V (uV)": 9.9,
          "t (ms)": 727.2
         },
         {
          "V (uV)": 1.46,
          "t (ms)": 727.24
         },
         {
          "V (uV)": 2.6,
          "t (ms)": 727.28
         },
         {
          "V (uV)": -13.02,
          "t (ms)": 727.32
         },
         {
          "V (uV)": -18.02,
          "t (ms)": 727.36
         },
         {
          "V (uV)": 7.6,
          "t (ms)": 727.4
         },
         {
          "V (uV)": 7.81,
          "t (ms)": 727.44
         },
         {
          "V (uV)": 1.56,
          "t (ms)": 727.48
         },
         {
          "V (uV)": 8.75,
          "t (ms)": 727.52
         },
         {
          "V (uV)": 6.04,
          "t (ms)": 727.56
         },
         {
          "V (uV)": -4.69,
          "t (ms)": 727.6
         },
         {
          "V (uV)": -1.15,
          "t (ms)": 727.64
         },
         {
          "V (uV)": -5.21,
          "t (ms)": 727.68
         },
         {
          "V (uV)": -8.23,
          "t (ms)": 727.72
         },
         {
          "V (uV)": 0.94,
          "t (ms)": 727.76
         },
         {
          "V (uV)": 16.98,
          "t (ms)": 727.8
         },
         {
          "V (uV)": 3.23,
          "t (ms)": 727.84
         },
         {
          "V (uV)": 1.46,
          "t (ms)": 727.88
         },
         {
          "V (uV)": 7.71,
          "t (ms)": 727.92
         },
         {
          "V (uV)": -1.67,
          "t (ms)": 727.96
         },
         {
          "V (uV)": -9.06,
          "t (ms)": 728
         },
         {
          "V (uV)": 13.75,
          "t (ms)": 728.04
         },
         {
          "V (uV)": -0.63,
          "t (ms)": 728.08
         },
         {
          "V (uV)": -1.98,
          "t (ms)": 728.12
         },
         {
          "V (uV)": 10,
          "t (ms)": 728.16
         },
         {
          "V (uV)": -1.46,
          "t (ms)": 728.2
         },
         {
          "V (uV)": -6.15,
          "t (ms)": 728.24
         },
         {
          "V (uV)": 15.73,
          "t (ms)": 728.28
         },
         {
          "V (uV)": 8.33,
          "t (ms)": 728.32
         },
         {
          "V (uV)": 0.83,
          "t (ms)": 728.36
         },
         {
          "V (uV)": 17.4,
          "t (ms)": 728.4
         },
         {
          "V (uV)": 5,
          "t (ms)": 728.44
         },
         {
          "V (uV)": -7.19,
          "t (ms)": 728.48
         },
         {
          "V (uV)": 11.25,
          "t (ms)": 728.52
         },
         {
          "V (uV)": 16.25,
          "t (ms)": 728.56
         },
         {
          "V (uV)": -2.08,
          "t (ms)": 728.6
         },
         {
          "V (uV)": 4.17,
          "t (ms)": 728.64
         },
         {
          "V (uV)": -2.81,
          "t (ms)": 728.68
         },
         {
          "V (uV)": -4.27,
          "t (ms)": 728.72
         },
         {
          "V (uV)": 6.35,
          "t (ms)": 728.76
         },
         {
          "V (uV)": 15.73,
          "t (ms)": 728.8
         },
         {
          "V (uV)": 3.23,
          "t (ms)": 728.84
         },
         {
          "V (uV)": -1.67,
          "t (ms)": 728.88
         },
         {
          "V (uV)": -0.42,
          "t (ms)": 728.92
         },
         {
          "V (uV)": -9.69,
          "t (ms)": 728.96
         },
         {
          "V (uV)": -16.35,
          "t (ms)": 729
         },
         {
          "V (uV)": 9.27,
          "t (ms)": 729.04
         },
         {
          "V (uV)": -3.13,
          "t (ms)": 729.08
         },
         {
          "V (uV)": -10.21,
          "t (ms)": 729.12
         },
         {
          "V (uV)": 1.77,
          "t (ms)": 729.16
         },
         {
          "V (uV)": -11.98,
          "t (ms)": 729.2
         },
         {
          "V (uV)": -14.9,
          "t (ms)": 729.24
         },
         {
          "V (uV)": 7.92,
          "t (ms)": 729.28
         },
         {
          "V (uV)": 2.19,
          "t (ms)": 729.32
         },
         {
          "V (uV)": -1.35,
          "t (ms)": 729.36
         },
         {
          "V (uV)": 12.4,
          "t (ms)": 729.4
         },
         {
          "V (uV)": 1.67,
          "t (ms)": 729.44
         },
         {
          "V (uV)": -10.63,
          "t (ms)": 729.48
         },
         {
          "V (uV)": 1.25,
          "t (ms)": 729.52
         },
         {
          "V (uV)": 8.65,
          "t (ms)": 729.56
         },
         {
          "V (uV)": 1.98,
          "t (ms)": 729.6
         },
         {
          "V (uV)": 11.56,
          "t (ms)": 729.64
         },
         {
          "V (uV)": 15,
          "t (ms)": 729.68
         },
         {
          "V (uV)": 3.54,
          "t (ms)": 729.72
         },
         {
          "V (uV)": 4.9,
          "t (ms)": 729.76
         },
         {
          "V (uV)": 4.38,
          "t (ms)": 729.8
         },
         {
          "V (uV)": 2.29,
          "t (ms)": 729.84
         },
         {
          "V (uV)": -0.83,
          "t (ms)": 729.88
         },
         {
          "V (uV)": 22.4,
          "t (ms)": 729.92
         },
         {
          "V (uV)": 6.77,
          "t (ms)": 729.96
         },
         {
          "V (uV)": -7.08,
          "t (ms)": 730
         },
         {
          "V (uV)": -6.56,
          "t (ms)": 730.04
         },
         {
          "V (uV)": -13.96,
          "t (ms)": 730.08
         },
         {
          "V (uV)": -11.98,
          "t (ms)": 730.12
         },
         {
          "V (uV)": 16.35,
          "t (ms)": 730.16
         },
         {
          "V (uV)": 0.42,
          "t (ms)": 730.2
         },
         {
          "V (uV)": -10.31,
          "t (ms)": 730.24
         },
         {
          "V (uV)": 9.48,
          "t (ms)": 730.28
         },
         {
          "V (uV)": -1.15,
          "t (ms)": 730.32
         },
         {
          "V (uV)": -10.1,
          "t (ms)": 730.36
         },
         {
          "V (uV)": 0.83,
          "t (ms)": 730.4
         },
         {
          "V (uV)": -6.25,
          "t (ms)": 730.44
         },
         {
          "V (uV)": -13.23,
          "t (ms)": 730.48
         },
         {
          "V (uV)": 4.48,
          "t (ms)": 730.52
         },
         {
          "V (uV)": 11.25,
          "t (ms)": 730.56
         },
         {
          "V (uV)": 1.04,
          "t (ms)": 730.6
         },
         {
          "V (uV)": 3.33,
          "t (ms)": 730.64
         },
         {
          "V (uV)": 10,
          "t (ms)": 730.68
         },
         {
          "V (uV)": -6.04,
          "t (ms)": 730.72
         },
         {
          "V (uV)": -3.75,
          "t (ms)": 730.76
         },
         {
          "V (uV)": 3.85,
          "t (ms)": 730.8
         },
         {
          "V (uV)": -1.56,
          "t (ms)": 730.84
         },
         {
          "V (uV)": -3.33,
          "t (ms)": 730.88
         },
         {
          "V (uV)": 17.19,
          "t (ms)": 730.92
         },
         {
          "V (uV)": 4.06,
          "t (ms)": 730.96
         },
         {
          "V (uV)": -7.19,
          "t (ms)": 731
         },
         {
          "V (uV)": -1.98,
          "t (ms)": 731.04
         },
         {
          "V (uV)": -9.48,
          "t (ms)": 731.08
         },
         {
          "V (uV)": -10.42,
          "t (ms)": 731.12
         },
         {
          "V (uV)": 13.75,
          "t (ms)": 731.16
         },
         {
          "V (uV)": 6.35,
          "t (ms)": 731.2
         },
         {
          "V (uV)": -4.9,
          "t (ms)": 731.24
         },
         {
          "V (uV)": 5.94,
          "t (ms)": 731.28
         },
         {
          "V (uV)": -6.56,
          "t (ms)": 731.32
         },
         {
          "V (uV)": -7.6,
          "t (ms)": 731.36
         },
         {
          "V (uV)": 12.4,
          "t (ms)": 731.4
         },
         {
          "V (uV)": 6.67,
          "t (ms)": 731.44
         },
         {
          "V (uV)": -5.52,
          "t (ms)": 731.48
         },
         {
          "V (uV)": 1.98,
          "t (ms)": 731.52
         },
         {
          "V (uV)": 3.02,
          "t (ms)": 731.56
         },
         {
          "V (uV)": -16.77,
          "t (ms)": 731.6
         },
         {
          "V (uV)": -10.31,
          "t (ms)": 731.64
         },
         {
          "V (uV)": -10.1,
          "t (ms)": 731.68
         },
         {
          "V (uV)": -15.52,
          "t (ms)": 731.72
         },
         {
          "V (uV)": -5.94,
          "t (ms)": 731.76
         },
         {
          "V (uV)": 11.88,
          "t (ms)": 731.8
         },
         {
          "V (uV)": -3.13,
          "t (ms)": 731.84
         },
         {
          "V (uV)": -6.46,
          "t (ms)": 731.88
         },
         {
          "V (uV)": 3.02,
          "t (ms)": 731.92
         },
         {
          "V (uV)": -3.13,
          "t (ms)": 731.96
         },
         {
          "V (uV)": -5.83,
          "t (ms)": 732
         },
         {
          "V (uV)": 21.56,
          "t (ms)": 732.04
         },
         {
          "V (uV)": 3.13,
          "t (ms)": 732.08
         },
         {
          "V (uV)": -5.21,
          "t (ms)": 732.12
         },
         {
          "V (uV)": 7.4,
          "t (ms)": 732.16
         },
         {
          "V (uV)": 0.52,
          "t (ms)": 732.2
         },
         {
          "V (uV)": -2.6,
          "t (ms)": 732.24
         },
         {
          "V (uV)": 18.54,
          "t (ms)": 732.28
         },
         {
          "V (uV)": 12.29,
          "t (ms)": 732.32
         },
         {
          "V (uV)": 1.35,
          "t (ms)": 732.36
         },
         {
          "V (uV)": 22.81,
          "t (ms)": 732.4
         },
         {
          "V (uV)": 15,
          "t (ms)": 732.44
         },
         {
          "V (uV)": 1.77,
          "t (ms)": 732.48
         },
         {
          "V (uV)": 9.58,
          "t (ms)": 732.52
         },
         {
          "V (uV)": 7.19,
          "t (ms)": 732.56
         },
         {
          "V (uV)": -6.35,
          "t (ms)": 732.6
         },
         {
          "V (uV)": -1.15,
          "t (ms)": 732.64
         },
         {
          "V (uV)": -1.04,
          "t (ms)": 732.68
         },
         {
          "V (uV)": -6.77,
          "t (ms)": 732.72
         },
         {
          "V (uV)": -4.48,
          "t (ms)": 732.76
         },
         {
          "V (uV)": 8.02,
          "t (ms)": 732.8
         },
         {
          "V (uV)": -11.67,
          "t (ms)": 732.84
         },
         {
          "V (uV)": -12.81,
          "t (ms)": 732.88
         },
         {
          "V (uV)": 1.25,
          "t (ms)": 732.92
         },
         {
          "V (uV)": -3.44,
          "t (ms)": 732.96
         },
         {
          "V (uV)": -5.73,
          "t (ms)": 733
         },
         {
          "V (uV)": 19.69,
          "t (ms)": 733.04
         },
         {
          "V (uV)": -1.46,
          "t (ms)": 733.08
         },
         {
          "V (uV)": -13.13,
          "t (ms)": 733.12
         },
         {
          "V (uV)": -4.79,
          "t (ms)": 733.16
         },
         {
          "V (uV)": -10.63,
          "t (ms)": 733.2
         },
         {
          "V (uV)": -15.94,
          "t (ms)": 733.24
         },
         {
          "V (uV)": 9.9,
          "t (ms)": 733.28
         },
         {
          "V (uV)": -0.31,
          "t (ms)": 733.32
         },
         {
          "V (uV)": -9.38,
          "t (ms)": 733.36
         },
         {
          "V (uV)": -2.71,
          "t (ms)": 733.4
         },
         {
          "V (uV)": -15,
          "t (ms)": 733.44
         },
         {
          "V (uV)": -15.63,
          "t (ms)": 733.48
         },
         {
          "V (uV)": 2.6,
          "t (ms)": 733.52
         },
         {
          "V (uV)": 2.19,
          "t (ms)": 733.56
         },
         {
          "V (uV)": -6.25,
          "t (ms)": 733.6
         },
         {
          "V (uV)": 0.1,
          "t (ms)": 733.64
         },
         {
          "V (uV)": 11.35,
          "t (ms)": 733.68
         },
         {
          "V (uV)": -1.35,
          "t (ms)": 733.72
         },
         {
          "V (uV)": -0.52,
          "t (ms)": 733.76
         },
         {
          "V (uV)": -0.83,
          "t (ms)": 733.8
         },
         {
          "V (uV)": -9.9,
          "t (ms)": 733.84
         },
         {
          "V (uV)": -10.31,
          "t (ms)": 733.88
         },
         {
          "V (uV)": 10.52,
          "t (ms)": 733.92
         },
         {
          "V (uV)": -6.35,
          "t (ms)": 733.96
         },
         {
          "V (uV)": -13.23,
          "t (ms)": 734
         },
         {
          "V (uV)": -4.69,
          "t (ms)": 734.04
         },
         {
          "V (uV)": -9.17,
          "t (ms)": 734.08
         },
         {
          "V (uV)": -11.25,
          "t (ms)": 734.12
         },
         {
          "V (uV)": 9.38,
          "t (ms)": 734.16
         },
         {
          "V (uV)": 0.73,
          "t (ms)": 734.2
         },
         {
          "V (uV)": -7.5,
          "t (ms)": 734.24
         },
         {
          "V (uV)": -2.08,
          "t (ms)": 734.28
         },
         {
          "V (uV)": -13.44,
          "t (ms)": 734.32
         },
         {
          "V (uV)": -18.23,
          "t (ms)": 734.36
         },
         {
          "V (uV)": 3.33,
          "t (ms)": 734.4
         },
         {
          "V (uV)": 4.79,
          "t (ms)": 734.44
         },
         {
          "V (uV)": -4.9,
          "t (ms)": 734.48
         },
         {
          "V (uV)": 11.98,
          "t (ms)": 734.52
         },
         {
          "V (uV)": 10.94,
          "t (ms)": 734.56
         },
         {
          "V (uV)": -1.77,
          "t (ms)": 734.6
         },
         {
          "V (uV)": -0.31,
          "t (ms)": 734.64
         },
         {
          "V (uV)": 6.98,
          "t (ms)": 734.68
         },
         {
          "V (uV)": -8.65,
          "t (ms)": 734.72
         },
         {
          "V (uV)": -10.21,
          "t (ms)": 734.76
         },
         {
          "V (uV)": -3.75,
          "t (ms)": 734.8
         },
         {
          "V (uV)": -3.96,
          "t (ms)": 734.84
         },
         {
          "V (uV)": -5,
          "t (ms)": 734.88
         },
         {
          "V (uV)": 14.69,
          "t (ms)": 734.92
         },
         {
          "V (uV)": 1.46,
          "t (ms)": 734.96
         },
         {
          "V (uV)": -3.13,
          "t (ms)": 735
         },
         {
          "V (uV)": 9.69,
          "t (ms)": 735.04
         },
         {
          "V (uV)": 1.77,
          "t (ms)": 735.08
         },
         {
          "V (uV)": -5.42,
          "t (ms)": 735.12
         },
         {
          "V (uV)": 11.67,
          "t (ms)": 735.16
         },
         {
          "V (uV)": -1.67,
          "t (ms)": 735.2
         },
         {
          "V (uV)": -9.27,
          "t (ms)": 735.24
         },
         {
          "V (uV)": 0.63,
          "t (ms)": 735.28
         },
         {
          "V (uV)": -7.6,
          "t (ms)": 735.32
         },
         {
          "V (uV)": -7.4,
          "t (ms)": 735.36
         },
         {
          "V (uV)": 6.04,
          "t (ms)": 735.4
         },
         {
          "V (uV)": 7.19,
          "t (ms)": 735.44
         },
         {
          "V (uV)": -1.77,
          "t (ms)": 735.48
         },
         {
          "V (uV)": 11.67,
          "t (ms)": 735.52
         },
         {
          "V (uV)": 9.9,
          "t (ms)": 735.56
         },
         {
          "V (uV)": -6.04,
          "t (ms)": 735.6
         },
         {
          "V (uV)": 3.85,
          "t (ms)": 735.64
         },
         {
          "V (uV)": -2.19,
          "t (ms)": 735.68
         },
         {
          "V (uV)": -12.19,
          "t (ms)": 735.72
         },
         {
          "V (uV)": -10.52,
          "t (ms)": 735.76
         },
         {
          "V (uV)": 7.81,
          "t (ms)": 735.8
         },
         {
          "V (uV)": 1.67,
          "t (ms)": 735.84
         },
         {
          "V (uV)": 0.42,
          "t (ms)": 735.88
         },
         {
          "V (uV)": 6.56,
          "t (ms)": 735.92
         },
         {
          "V (uV)": -7.5,
          "t (ms)": 735.96
         },
         {
          "V (uV)": -10.42,
          "t (ms)": 736
         },
         {
          "V (uV)": 17.08,
          "t (ms)": 736.04
         },
         {
          "V (uV)": 0.31,
          "t (ms)": 736.08
         },
         {
          "V (uV)": -6.67,
          "t (ms)": 736.12
         },
         {
          "V (uV)": -0.21,
          "t (ms)": 736.16
         },
         {
          "V (uV)": -8.75,
          "t (ms)": 736.2
         },
         {
          "V (uV)": -8.75,
          "t (ms)": 736.24
         },
         {
          "V (uV)": 9.9,
          "t (ms)": 736.28
         },
         {
          "V (uV)": -4.17,
          "t (ms)": 736.32
         },
         {
          "V (uV)": -11.56,
          "t (ms)": 736.36
         },
         {
          "V (uV)": -2.81,
          "t (ms)": 736.4
         },
         {
          "V (uV)": -13.85,
          "t (ms)": 736.44
         },
         {
          "V (uV)": -11.46,
          "t (ms)": 736.48
         },
         {
          "V (uV)": 5.73,
          "t (ms)": 736.52
         },
         {
          "V (uV)": 21.04,
          "t (ms)": 736.56
         },
         {
          "V (uV)": -0.21,
          "t (ms)": 736.6
         },
         {
          "V (uV)": 0.73,
          "t (ms)": 736.64
         },
         {
          "V (uV)": -2.29,
          "t (ms)": 736.68
         },
         {
          "V (uV)": -4.27,
          "t (ms)": 736.72
         },
         {
          "V (uV)": 3.13,
          "t (ms)": 736.76
         },
         {
          "V (uV)": 16.98,
          "t (ms)": 736.8
         },
         {
          "V (uV)": 1.25,
          "t (ms)": 736.84
         },
         {
          "V (uV)": -8.33,
          "t (ms)": 736.88
         },
         {
          "V (uV)": 2.5,
          "t (ms)": 736.92
         },
         {
          "V (uV)": -6.56,
          "t (ms)": 736.96
         },
         {
          "V (uV)": -13.96,
          "t (ms)": 737
         },
         {
          "V (uV)": 12.19,
          "t (ms)": 737.04
         },
         {
          "V (uV)": -2.81,
          "t (ms)": 737.08
         },
         {
          "V (uV)": -10.94,
          "t (ms)": 737.12
         },
         {
          "V (uV)": 3.96,
          "t (ms)": 737.16
         },
         {
          "V (uV)": 1.88,
          "t (ms)": 737.2
         },
         {
          "V (uV)": 1.25,
          "t (ms)": 737.24
         },
         {
          "V (uV)": 14.38,
          "t (ms)": 737.28
         },
         {
          "V (uV)": 4.27,
          "t (ms)": 737.32
         },
         {
          "V (uV)": -2.29,
          "t (ms)": 737.36
         },
         {
          "V (uV)": 16.67,
          "t (ms)": 737.4
         },
         {
          "V (uV)": 3.96,
          "t (ms)": 737.44
         },
         {
          "V (uV)": -6.67,
          "t (ms)": 737.48
         },
         {
          "V (uV)": 11.35,
          "t (ms)": 737.52
         },
         {
          "V (uV)": 13.65,
          "t (ms)": 737.56
         },
         {
          "V (uV)": -4.69,
          "t (ms)": 737.6
         },
         {
          "V (uV)": 0.73,
          "t (ms)": 737.64
         },
         {
          "V (uV)": 9.38,
          "t (ms)": 737.68
         },
         {
          "V (uV)": -5.94,
          "t (ms)": 737.72
         },
         {
          "V (uV)": -3.02,
          "t (ms)": 737.76
         },
         {
          "V (uV)": 0.21,
          "t (ms)": 737.8
         },
         {
          "V (uV)": -8.23,
          "t (ms)": 737.84
         },
         {
          "V (uV)": -13.85,
          "t (ms)": 737.88
         },
         {
          "V (uV)": 8.13,
          "t (ms)": 737.92
         },
         {
          "V (uV)": -4.17,
          "t (ms)": 737.96
         },
         {
          "V (uV)": -8.13,
          "t (ms)": 738
         },
         {
          "V (uV)": -3.02,
          "t (ms)": 738.04
         },
         {
          "V (uV)": -12.81,
          "t (ms)": 738.08
         },
         {
          "V (uV)": -15.83,
          "t (ms)": 738.12
         },
         {
          "V (uV)": 13.23,
          "t (ms)": 738.16
         },
         {
          "V (uV)": -0.73,
          "t (ms)": 738.2
         },
         {
          "V (uV)": -8.96,
          "t (ms)": 738.24
         },
         {
          "V (uV)": 0,
          "t (ms)": 738.28
         },
         {
          "V (uV)": -9.69,
          "t (ms)": 738.32
         },
         {
          "V (uV)": -13.65,
          "t (ms)": 738.36
         },
         {
          "V (uV)": 4.58,
          "t (ms)": 738.4
         },
         {
          "V (uV)": 4.38,
          "t (ms)": 738.44
         },
         {
          "V (uV)": -7.08,
          "t (ms)": 738.48
         },
         {
          "V (uV)": 8.65,
          "t (ms)": 738.52
         },
         {
          "V (uV)": 11.77,
          "t (ms)": 738.56
         },
         {
          "V (uV)": -1.67,
          "t (ms)": 738.6
         },
         {
          "V (uV)": 3.96,
          "t (ms)": 738.64
         },
         {
          "V (uV)": 11.35,
          "t (ms)": 738.68
         },
         {
          "V (uV)": -0.52,
          "t (ms)": 738.72
         },
         {
          "V (uV)": 2.81,
          "t (ms)": 738.76
         },
         {
          "V (uV)": 3.44,
          "t (ms)": 738.8
         },
         {
          "V (uV)": -2.29,
          "t (ms)": 738.84
         },
         {
          "V (uV)": -6.67,
          "t (ms)": 738.88
         },
         {
          "V (uV)": 13.65,
          "t (ms)": 738.92
         },
         {
          "V (uV)": 0.73,
          "t (ms)": 738.96
         },
         {
          "V (uV)": -5.63,
          "t (ms)": 739
         },
         {
          "V (uV)": 5.42,
          "t (ms)": 739.04
         },
         {
          "V (uV)": -6.56,
          "t (ms)": 739.08
         },
         {
          "V (uV)": -8.96,
          "t (ms)": 739.12
         },
         {
          "V (uV)": 19.9,
          "t (ms)": 739.16
         },
         {
          "V (uV)": 8.75,
          "t (ms)": 739.2
         },
         {
          "V (uV)": -2.6,
          "t (ms)": 739.24
         },
         {
          "V (uV)": 11.15,
          "t (ms)": 739.28
         },
         {
          "V (uV)": 6.04,
          "t (ms)": 739.32
         },
         {
          "V (uV)": 5.52,
          "t (ms)": 739.36
         },
         {
          "V (uV)": 19.06,
          "t (ms)": 739.4
         },
         {
          "V (uV)": 10.31,
          "t (ms)": 739.44
         },
         {
          "V (uV)": -1.25,
          "t (ms)": 739.48
         },
         {
          "V (uV)": 2.92,
          "t (ms)": 739.52
         },
         {
          "V (uV)": -0.83,
          "t (ms)": 739.56
         },
         {
          "V (uV)": -12.92,
          "t (ms)": 739.6
         },
         {
          "V (uV)": -6.15,
          "t (ms)": 739.64
         },
         {
          "V (uV)": -6.35,
          "t (ms)": 739.68
         },
         {
          "V (uV)": -9.79,
          "t (ms)": 739.72
         },
         {
          "V (uV)": -7.08,
          "t (ms)": 739.76
         },
         {
          "V (uV)": 6.88,
          "t (ms)": 739.8
         },
         {
          "V (uV)": -4.79,
          "t (ms)": 739.84
         },
         {
          "V (uV)": -10.21,
          "t (ms)": 739.88
         },
         {
          "V (uV)": -2.4,
          "t (ms)": 739.92
         },
         {
          "V (uV)": -4.9,
          "t (ms)": 739.96
         },
         {
          "V (uV)": -6.56,
          "t (ms)": 740
         },
         {
          "V (uV)": 18.02,
          "t (ms)": 740.04
         },
         {
          "V (uV)": 0.1,
          "t (ms)": 740.08
         },
         {
          "V (uV)": -10.42,
          "t (ms)": 740.12
         },
         {
          "V (uV)": -6.25,
          "t (ms)": 740.16
         },
         {
          "V (uV)": -11.04,
          "t (ms)": 740.2
         },
         {
          "V (uV)": -18.54,
          "t (ms)": 740.24
         },
         {
          "V (uV)": 1.88,
          "t (ms)": 740.28
         },
         {
          "V (uV)": -5.94,
          "t (ms)": 740.32
         },
         {
          "V (uV)": -9.9,
          "t (ms)": 740.36
         },
         {
          "V (uV)": 8.65,
          "t (ms)": 740.4
         },
         {
          "V (uV)": 4.27,
          "t (ms)": 740.44
         },
         {
          "V (uV)": -1.56,
          "t (ms)": 740.48
         },
         {
          "V (uV)": 10,
          "t (ms)": 740.52
         },
         {
          "V (uV)": 31.98,
          "t (ms)": 740.56
         },
         {
          "V (uV)": 10.42,
          "t (ms)": 740.6
         },
         {
          "V (uV)": 6.04,
          "t (ms)": 740.64
         },
         {
          "V (uV)": -0.94,
          "t (ms)": 740.68
         },
         {
          "V (uV)": -10,
          "t (ms)": 740.72
         },
         {
          "V (uV)": -3.44,
          "t (ms)": 740.76
         },
         {
          "V (uV)": 17.92,
          "t (ms)": 740.8
         },
         {
          "V (uV)": 0.31,
          "t (ms)": 740.84
         },
         {
          "V (uV)": -4.9,
          "t (ms)": 740.88
         },
         {
          "V (uV)": 1.88,
          "t (ms)": 740.92
         },
         {
          "V (uV)": -5.42,
          "t (ms)": 740.96
         },
         {
          "V (uV)": -6.35,
          "t (ms)": 741
         },
         {
          "V (uV)": 18.65,
          "t (ms)": 741.04
         },
         {
          "V (uV)": 1.35,
          "t (ms)": 741.08
         },
         {
          "V (uV)": -6.88,
          "t (ms)": 741.12
         },
         {
          "V (uV)": 4.48,
          "t (ms)": 741.16
         },
         {
          "V (uV)": -8.54,
          "t (ms)": 741.2
         },
         {
          "V (uV)": -12.4,
          "t (ms)": 741.24
         },
         {
          "V (uV)": 5.63,
          "t (ms)": 741.28
         },
         {
          "V (uV)": -3.33,
          "t (ms)": 741.32
         },
         {
          "V (uV)": -5.94,
          "t (ms)": 741.36
         },
         {
          "V (uV)": 7.81,
          "t (ms)": 741.4
         },
         {
          "V (uV)": 1.56,
          "t (ms)": 741.44
         },
         {
          "V (uV)": -6.25,
          "t (ms)": 741.48
         },
         {
          "V (uV)": 9.69,
          "t (ms)": 741.52
         },
         {
          "V (uV)": 16.77,
          "t (ms)": 741.56
         },
         {
          "V (uV)": 5,
          "t (ms)": 741.6
         },
         {
          "V (uV)": 9.17,
          "t (ms)": 741.64
         },
         {
          "V (uV)": 10.94,
          "t (ms)": 741.68
         },
         {
          "V (uV)": -5,
          "t (ms)": 741.72
         },
         {
          "V (uV)": 0.21,
          "t (ms)": 741.76
         },
         {
          "V (uV)": 5.73,
          "t (ms)": 741.8
         },
         {
          "V (uV)": -10.94,
          "t (ms)": 741.84
         },
         {
          "V (uV)": -8.02,
          "t (ms)": 741.88
         },
         {
          "V (uV)": 20.94,
          "t (ms)": 741.92
         },
         {
          "V (uV)": 7.5,
          "t (ms)": 741.96
         },
         {
          "V (uV)": -3.44,
          "t (ms)": 742
         },
         {
          "V (uV)": -0.52,
          "t (ms)": 742.04
         },
         {
          "V (uV)": -9.58,
          "t (ms)": 742.08
         },
         {
          "V (uV)": -13.13,
          "t (ms)": 742.12
         },
         {
          "V (uV)": 18.33,
          "t (ms)": 742.16
         },
         {
          "V (uV)": 7.4,
          "t (ms)": 742.2
         },
         {
          "V (uV)": -3.44,
          "t (ms)": 742.24
         },
         {
          "V (uV)": 0.94,
          "t (ms)": 742.28
         },
         {
          "V (uV)": -8.23,
          "t (ms)": 742.32
         },
         {
          "V (uV)": -13.44,
          "t (ms)": 742.36
         },
         {
          "V (uV)": 5.42,
          "t (ms)": 742.4
         },
         {
          "V (uV)": 4.48,
          "t (ms)": 742.44
         },
         {
          "V (uV)": -5.1,
          "t (ms)": 742.48
         },
         {
          "V (uV)": 8.44,
          "t (ms)": 742.52
         },
         {
          "V (uV)": 9.69,
          "t (ms)": 742.56
         },
         {
          "V (uV)": -2.6,
          "t (ms)": 742.6
         },
         {
          "V (uV)": 7.08,
          "t (ms)": 742.64
         },
         {
          "V (uV)": 18.85,
          "t (ms)": 742.68
         },
         {
          "V (uV)": -0.21,
          "t (ms)": 742.72
         },
         {
          "V (uV)": -6.35,
          "t (ms)": 742.76
         },
         {
          "V (uV)": -1.25,
          "t (ms)": 742.8
         },
         {
          "V (uV)": -9.69,
          "t (ms)": 742.84
         },
         {
          "V (uV)": -6.67,
          "t (ms)": 742.88
         },
         {
          "V (uV)": 16.88,
          "t (ms)": 742.92
         },
         {
          "V (uV)": 0.94,
          "t (ms)": 742.96
         },
         {
          "V (uV)": -6.56,
          "t (ms)": 743
         },
         {
          "V (uV)": 4.27,
          "t (ms)": 743.04
         },
         {
          "V (uV)": -2.4,
          "t (ms)": 743.08
         },
         {
          "V (uV)": -12.19,
          "t (ms)": 743.12
         },
         {
          "V (uV)": 6.88,
          "t (ms)": 743.16
         },
         {
          "V (uV)": -0.1,
          "t (ms)": 743.2
         },
         {
          "V (uV)": -5.52,
          "t (ms)": 743.24
         },
         {
          "V (uV)": 9.48,
          "t (ms)": 743.28
         },
         {
          "V (uV)": 6.15,
          "t (ms)": 743.32
         },
         {
          "V (uV)": 4.69,
          "t (ms)": 743.36
         },
         {
          "V (uV)": 22.6,
          "t (ms)": 743.4
         },
         {
          "V (uV)": 18.44,
          "t (ms)": 743.44
         },
         {
          "V (uV)": 4.06,
          "t (ms)": 743.48
         },
         {
          "V (uV)": 6.67,
          "t (ms)": 743.52
         },
         {
          "V (uV)": 7.4,
          "t (ms)": 743.56
         },
         {
          "V (uV)": -5.21,
          "t (ms)": 743.6
         },
         {
          "V (uV)": 1.46,
          "t (ms)": 743.64
         },
         {
          "V (uV)": -4.17,
          "t (ms)": 743.68
         },
         {
          "V (uV)": -9.79,
          "t (ms)": 743.72
         },
         {
          "V (uV)": -6.67,
          "t (ms)": 743.76
         },
         {
          "V (uV)": 4.79,
          "t (ms)": 743.8
         },
         {
          "V (uV)": -11.15,
          "t (ms)": 743.84
         },
         {
          "V (uV)": -8.23,
          "t (ms)": 743.88
         },
         {
          "V (uV)": -3.75,
          "t (ms)": 743.92
         }
        ]
       },
       "encoding": {
        "order": {
         "field": "t (ms)",
         "sort": "ascending",
         "type": "quantitative"
        },
        "x": {
         "field": "V (uV)",
         "title": "V (µV)",
         "type": "quantitative"
        },
        "y": {
         "field": "t (ms)",
         "scale": {
          "zero": false
         },
         "type": "quantitative"
        }
       },
       "mark": "line"
      },
      "image/png": "[encoded data removed]",
      "text/plain": [
       "<VegaLite 2 object>\n",
       "\n",
       "If you see this message, it means the renderer has not been properly enabled\n",
       "for the frontend that you are using. For more information, see\n",
       "https://altair-viz.github.io/user_guide/troubleshooting.html\n"
      ]
     },
     "execution_count": 26,
     "metadata": {},
     "output_type": "execute_result"
    }
   ],
   "source": [
    "alt.Chart(df\n",
    "    ).mark_line(\n",
    "    ).encode(\n",
    "        y=alt.Y('t (ms):Q', scale=alt.Scale(zero=False)),\n",
    "        x=alt.X('V (uV):Q', title='V (µV)'),\n",
    "        order=alt.Order('t (ms):Q', sort='ascending'))"
   ]
  },
  {
   "cell_type": "markdown",
   "metadata": {},
   "source": [
    "In general, if I am making line plots, I always use an `order` kwarg in the encoding, even if the default behavior is what I want. It's better to be explicit."
   ]
  },
  {
   "cell_type": "markdown",
   "metadata": {},
   "source": [
    "## Plotting generated data\n",
    "You're now a pro at plotting measured data. But sometimes, you want to plot smooth functions. To do this, you can use Numpy and/or Scipy to generate arrays of values of smooth functions that you can then make into a data frame and plot with Altair.\n",
    "\n",
    "We will plot the [Airy disk](https://en.wikipedia.org/wiki/Airy_disk), which we encounter in biology when doing microscopy as the diffraction pattern of light passing through a pinhole. Here is a picture of the diffraction pattern from a laser (with the main peak overexposed).\n",
    "\n",
    "![airy_disk.png](airy_disk.png)\n",
    "\n",
    "The equation for the radial light intensity of an Airy disk is\n",
    "\n",
    "\\begin{align}\n",
    "\\frac{I(x)}{I_0} = 4 \\left(\\frac{J_1(x)}{x}\\right)^2,\n",
    "\\end{align}\n",
    "\n",
    "where $I_0$ is the maximum intensity (the intensity at the center of the image) and $x$ is the radial distance from the center. Here, $J_1(x)$ is the first order Bessel function of the first kind. Yeesh. How do we plot *that*?\n",
    "\n",
    "Fortunately, SciPy has lots of special functions available. Specifically, `scipy.special.j1()` computes exactly what we are after! We pass in a NumPy array that has the values of $x$ we want to plot and then compute the $y$-values using the expression for the normalized intensity.\n",
    "\n",
    "To plot a smooth curve, we use the `np.linspace()` function with lots of points. We then connect the points with straight lines, which to the eye look like a smooth curve.  Let's try it. We'll use 400 points, which I find is a good rule of thumb for not-too-oscillating functions."
   ]
  },
  {
   "cell_type": "code",
   "execution_count": 27,
   "metadata": {
    "collapsed": true
   },
   "outputs": [],
   "source": [
    "# The x-values we want\n",
    "x = np.linspace(-15, 15, 400)\n",
    "\n",
    "# The normalized intensity\n",
    "norm_I = 4 * (scipy.special.j1(x) / x)**2"
   ]
  },
  {
   "cell_type": "markdown",
   "metadata": {},
   "source": [
    "Now that we have the values we want to plot, we construct a Pandas `DataFrame`. We can do this by instantiating the `pd.DataFrame` class and passing in a dictionary containing the column names and data we generated."
   ]
  },
  {
   "cell_type": "code",
   "execution_count": 28,
   "metadata": {},
   "outputs": [
    {
     "data": {
      "text/html": [
       "<div>\n",
       "<style scoped>\n",
       "    .dataframe tbody tr th:only-of-type {\n",
       "        vertical-align: middle;\n",
       "    }\n",
       "\n",
       "    .dataframe tbody tr th {\n",
       "        vertical-align: top;\n",
       "    }\n",
       "\n",
       "    .dataframe thead th {\n",
       "        text-align: right;\n",
       "    }\n",
       "</style>\n",
       "<table border=\"1\" class=\"dataframe\">\n",
       "  <thead>\n",
       "    <tr style=\"text-align: right;\">\n",
       "      <th></th>\n",
       "      <th>x</th>\n",
       "      <th>norm_I</th>\n",
       "    </tr>\n",
       "  </thead>\n",
       "  <tbody>\n",
       "    <tr>\n",
       "      <th>0</th>\n",
       "      <td>-15.000000</td>\n",
       "      <td>0.000748</td>\n",
       "    </tr>\n",
       "    <tr>\n",
       "      <th>1</th>\n",
       "      <td>-14.924812</td>\n",
       "      <td>0.000767</td>\n",
       "    </tr>\n",
       "    <tr>\n",
       "      <th>2</th>\n",
       "      <td>-14.849624</td>\n",
       "      <td>0.000777</td>\n",
       "    </tr>\n",
       "    <tr>\n",
       "      <th>3</th>\n",
       "      <td>-14.774436</td>\n",
       "      <td>0.000779</td>\n",
       "    </tr>\n",
       "    <tr>\n",
       "      <th>4</th>\n",
       "      <td>-14.699248</td>\n",
       "      <td>0.000772</td>\n",
       "    </tr>\n",
       "  </tbody>\n",
       "</table>\n",
       "</div>"
      ],
      "text/plain": [
       "           x    norm_I\n",
       "0 -15.000000  0.000748\n",
       "1 -14.924812  0.000767\n",
       "2 -14.849624  0.000777\n",
       "3 -14.774436  0.000779\n",
       "4 -14.699248  0.000772"
      ]
     },
     "execution_count": 28,
     "metadata": {},
     "output_type": "execute_result"
    }
   ],
   "source": [
    "df_airy = pd.DataFrame(data={'x': x, 'norm_I': norm_I})\n",
    "\n",
    "df_airy.head()"
   ]
  },
  {
   "cell_type": "markdown",
   "metadata": {},
   "source": [
    "We can now use this to create an Altair `Chart`."
   ]
  },
  {
   "cell_type": "code",
   "execution_count": 29,
   "metadata": {},
   "outputs": [
    {
     "data": {
      "application/vnd.vegalite.v2+json": {
       "$schema": "https://vega.github.io/schema/vega-lite/v2.4.3.json",
       "config": {
        "view": {
         "height": 300,
         "width": 400
        }
       },
       "data": {
        "values": [
         {
          "norm_I": 0.000747869629432488,
          "x": -15
         },
         {
          "norm_I": 0.0007666845741053045,
          "x": -14.924812030075188
         },
         {
          "norm_I": 0.0007772102463126346,
          "x": -14.849624060150376
         },
         {
          "norm_I": 0.0007790840608934203,
          "x": -14.774436090225564
         },
         {
          "norm_I": 0.0007721312263746704,
          "x": -14.699248120300751
         },
         {
          "norm_I": 0.0007563745434148454,
          "x": -14.62406015037594
         },
         {
          "norm_I": 0.0007320400886770647,
          "x": -14.548872180451127
         },
         {
          "norm_I": 0.0006995585323981154,
          "x": -14.473684210526315
         },
         {
          "norm_I": 0.000659561926470377,
          "x": -14.398496240601503
         },
         {
          "norm_I": 0.0006128758946206753,
          "x": -14.323308270676693
         },
         {
          "norm_I": 0.0005605072553799506,
          "x": -14.24812030075188
         },
         {
          "norm_I": 0.0005036272099700693,
          "x": -14.172932330827068
         },
         {
          "norm_I": 0.00044355032885987013,
          "x": -14.097744360902256
         },
         {
          "norm_I": 0.0003817096703662172,
          "x": -14.022556390977444
         },
         {
          "norm_I": 0.0003196284600806268,
          "x": -13.947368421052632
         },
         {
          "norm_I": 0.00025888884889646227,
          "x": -13.87218045112782
         },
         {
          "norm_I": 0.00020109834787725812,
          "x": -13.796992481203008
         },
         {
          "norm_I": 0.0001478546081448351,
          "x": -13.721804511278195
         },
         {
          "norm_I": 0.00010070927154410335,
          "x": -13.646616541353383
         },
         {
          "norm_I": 6.113166143736271e-05,
          "x": -13.571428571428571
         },
         {
          "norm_I": 3.047311122255192e-05,
          "x": -13.496240601503759
         },
         {
          "norm_I": 9.93273997245117e-06,
          "x": -13.421052631578947
         },
         {
          "norm_I": 5.254791890444474e-07,
          "x": -13.345864661654135
         },
         {
          "norm_I": 3.0531316370915714e-06,
          "x": -13.270676691729324
         },
         {
          "norm_I": 1.8079202504903197e-05,
          "x": -13.195488721804512
         },
         {
          "norm_I": 4.590818505532024e-05,
          "x": -13.1203007518797
         },
         {
          "norm_I": 8.656990817306705e-05,
          "x": -13.045112781954888
         },
         {
          "norm_I": 0.00013980946285981877,
          "x": -12.969924812030076
         },
         {
          "norm_I": 0.00020508312021487403,
          "x": -12.894736842105264
         },
         {
          "norm_I": 0.0002815605365528272,
          "x": -12.819548872180452
         },
         {
          "norm_I": 0.00036813341415477724,
          "x": -12.74436090225564
         },
         {
          "norm_I": 0.0004634306511156083,
          "x": -12.669172932330827
         },
         {
          "norm_I": 0.0005658398734689501,
          "x": -12.593984962406015
         },
         {
          "norm_I": 0.0006735351000708878,
          "x": -12.518796992481203
         },
         {
          "norm_I": 0.0007845101485724637,
          "x": -12.443609022556391
         },
         {
          "norm_I": 0.0008966172522624624,
          "x": -12.368421052631579
         },
         {
          "norm_I": 0.001007610225691349,
          "x": -12.293233082706767
         },
         {
          "norm_I": 0.0011151913948286986,
          "x": -12.218045112781954
         },
         {
          "norm_I": 0.0012170613979882068,
          "x": -12.142857142857142
         },
         {
          "norm_I": 0.0013109708696339823,
          "x": -12.06766917293233
         },
         {
          "norm_I": 0.001394772942983169,
          "x": -11.992481203007518
         },
         {
          "norm_I": 0.0014664754512734536,
          "x": -11.917293233082706
         },
         {
          "norm_I": 0.0015242916735503237,
          "x": -11.842105263157894
         },
         {
          "norm_I": 0.0015666884603289407,
          "x": -11.766917293233083
         },
         {
          "norm_I": 0.001592430588536436,
          "x": -11.691729323308271
         },
         {
          "norm_I": 0.0016006202342999873,
          "x": -11.61654135338346
         },
         {
          "norm_I": 0.0015907305164655893,
          "x": -11.541353383458647
         },
         {
          "norm_I": 0.0015626321527384235,
          "x": -11.466165413533835
         },
         {
          "norm_I": 0.0015166123830240399,
          "x": -11.390977443609023
         },
         {
          "norm_I": 0.0014533854493866414,
          "x": -11.31578947368421
         },
         {
          "norm_I": 0.0013740940769797533,
          "x": -11.240601503759398
         },
         {
          "norm_I": 0.0012803015728092924,
          "x": -11.165413533834586
         },
         {
          "norm_I": 0.001173974346270147,
          "x": -11.090225563909774
         },
         {
          "norm_I": 0.001057454853659298,
          "x": -11.015037593984962
         },
         {
          "norm_I": 0.0009334251745642281,
          "x": -10.939849624060152
         },
         {
          "norm_I": 0.0008048616371230267,
          "x": -10.86466165413534
         },
         {
          "norm_I": 0.0006749811174070452,
          "x": -10.789473684210527
         },
         {
          "norm_I": 0.0005471798412095955,
          "x": -10.714285714285715
         },
         {
          "norm_I": 0.0004249657099089738,
          "x": -10.639097744360903
         },
         {
          "norm_I": 0.00031188535142365713,
          "x": -10.563909774436091
         },
         {
          "norm_I": 0.00021144725833646127,
          "x": -10.488721804511279
         },
         {
          "norm_I": 0.00012704251399825214,
          "x": -10.413533834586467
         },
         {
          "norm_I": 6.186472010736815e-05,
          "x": -10.338345864661655
         },
         {
          "norm_I": 1.883082257226911e-05,
          "x": -10.263157894736842
         },
         {
          "norm_I": 5.045835543798885e-07,
          "x": -10.18796992481203
         },
         {
          "norm_I": 9.024464160401309e-06,
          "x": -10.112781954887218
         },
         {
          "norm_I": 4.6037662631044375e-05,
          "x": -10.037593984962406
         },
         {
          "norm_I": 0.00011264199605227176,
          "x": -9.962406015037594
         },
         {
          "norm_I": 0.00020933721930879715,
          "x": -9.887218045112782
         },
         {
          "norm_I": 0.00033598724366925724,
          "x": -9.81203007518797
         },
         {
          "norm_I": 0.0004917945502651279,
          "x": -9.736842105263158
         },
         {
          "norm_I": 0.000675287892796382,
          "x": -9.661654135338345
         },
         {
          "norm_I": 0.0008843241518173301,
          "x": -9.586466165413533
         },
         {
          "norm_I": 0.0011161049434056205,
          "x": -9.511278195488721
         },
         {
          "norm_I": 0.0013672083020609014,
          "x": -9.436090225563909
         },
         {
          "norm_I": 0.0016336354561099485,
          "x": -9.360902255639097
         },
         {
          "norm_I": 0.001910872399060275,
          "x": -9.285714285714286
         },
         {
          "norm_I": 0.0021939656380632003,
          "x": -9.210526315789474
         },
         {
          "norm_I": 0.0024776111771116363,
          "x": -9.135338345864662
         },
         {
          "norm_I": 0.0027562554742647676,
          "x": -9.06015037593985
         },
         {
          "norm_I": 0.0030242068056662947,
          "x": -8.984962406015038
         },
         {
          "norm_I": 0.0032757551810360785,
          "x": -8.909774436090226
         },
         {
          "norm_I": 0.003505298692194085,
          "x": -8.834586466165414
         },
         {
          "norm_I": 0.003707473944314324,
          "x": -8.759398496240602
         },
         {
          "norm_I": 0.003877288024935038,
          "x": -8.68421052631579
         },
         {
          "norm_I": 0.004010249313707392,
          "x": -8.609022556390979
         },
         {
          "norm_I": 0.004102494331271994,
          "x": -8.533834586466167
         },
         {
          "norm_I": 0.004150907772603123,
          "x": -8.458646616541355
         },
         {
          "norm_I": 0.004153232871913656,
          "x": -8.383458646616543
         },
         {
          "norm_I": 0.004108169305097946,
          "x": -8.30827067669173
         },
         {
          "norm_I": 0.004015455953029027,
          "x": -8.233082706766918
         },
         {
          "norm_I": 0.00387593602507414,
          "x": -8.157894736842106
         },
         {
          "norm_I": 0.003691602276089667,
          "x": -8.082706766917294
         },
         {
          "norm_I": 0.0034656203399059744,
          "x": -8.007518796992482
         },
         {
          "norm_I": 0.0032023285447753884,
          "x": -7.93233082706767
         },
         {
          "norm_I": 0.002907212967168124,
          "x": -7.857142857142858
         },
         {
          "norm_I": 0.0025868569143106123,
          "x": -7.7819548872180455
         },
         {
          "norm_I": 0.0022488644965906446,
          "x": -7.706766917293233
         },
         {
          "norm_I": 0.0019017584510807083,
          "x": -7.631578947368421
         },
         {
          "norm_I": 0.0015548528987872773,
          "x": -7.556390977443609
         },
         {
          "norm_I": 0.0012181022519276246,
          "x": -7.481203007518797
         },
         {
          "norm_I": 0.0009019280240883836,
          "x": -7.406015037593986
         },
         {
          "norm_I": 0.0006170258256187934,
          "x": -7.330827067669174
         },
         {
          "norm_I": 0.0003741553388760666,
          "x": -7.255639097744361
         },
         {
          "norm_I": 0.00018391655269730836,
          "x": -7.180451127819549
         },
         {
          "norm_I": 5.651598254176214e-05,
          "x": -7.105263157894737
         },
         {
          "norm_I": 1.5270022269133622e-06,
          "x": -7.030075187969925
         },
         {
          "norm_I": 2.764875564023479e-05,
          "x": -6.954887218045114
         },
         {
          "norm_I": 0.00014246839346807166,
          "x": -6.879699248120302
         },
         {
          "norm_I": 0.0003522315829043234,
          "x": -6.8045112781954895
         },
         {
          "norm_I": 0.0006616263605527495,
          "x": -6.729323308270677
         },
         {
          "norm_I": 0.0010735854345545334,
          "x": -6.654135338345865
         },
         {
          "norm_I": 0.0015891119869057314,
          "x": -6.578947368421053
         },
         {
          "norm_I": 0.002207133877962822,
          "x": -6.503759398496241
         },
         {
          "norm_I": 0.0029243909107946444,
          "x": -6.428571428571429
         },
         {
          "norm_I": 0.003735359473471552,
          "x": -6.353383458646617
         },
         {
          "norm_I": 0.004632218444407278,
          "x": -6.2781954887218046
         },
         {
          "norm_I": 0.005604859723005284,
          "x": -6.203007518796992
         },
         {
          "norm_I": 0.006640946140324825,
          "x": -6.12781954887218
         },
         {
          "norm_I": 0.0077260188191532655,
          "x": -6.052631578947368
         },
         {
          "norm_I": 0.008843655298230363,
          "x": -5.977443609022558
         },
         {
          "norm_I": 0.009975678921409166,
          "x": -5.902255639097746
         },
         {
          "norm_I": 0.011102419130632275,
          "x": -5.8270676691729335
         },
         {
          "norm_I": 0.012203021404372955,
          "x": -5.751879699248121
         },
         {
          "norm_I": 0.013255804664314365,
          "x": -5.676691729323309
         },
         {
          "norm_I": 0.014238663047071378,
          "x": -5.601503759398497
         },
         {
          "norm_I": 0.015129508019891387,
          "x": -5.526315789473685
         },
         {
          "norm_I": 0.01590674592511635,
          "x": -5.451127819548873
         },
         {
          "norm_I": 0.01654978518351961,
          "x": -5.375939849624061
         },
         {
          "norm_I": 0.017039566587126635,
          "x": -5.3007518796992485
         },
         {
          "norm_I": 0.017359109383105226,
          "x": -5.225563909774436
         },
         {
          "norm_I": 0.017494065206454856,
          "x": -5.150375939849624
         },
         {
          "norm_I": 0.017433271374338002,
          "x": -5.075187969924812
         },
         {
          "norm_I": 0.017169294621626904,
          "x": -5
         },
         {
          "norm_I": 0.016698956046852346,
          "x": -4.924812030075188
         },
         {
          "norm_I": 0.016023827859880952,
          "x": -4.849624060150376
         },
         {
          "norm_I": 0.015150692485139144,
          "x": -4.774436090225564
         },
         {
          "norm_I": 0.014091954682866408,
          "x": -4.699248120300753
         },
         {
          "norm_I": 0.01286599760938238,
          "x": -4.624060150375941
         },
         {
          "norm_I": 0.011497474147082076,
          "x": -4.548872180451129
         },
         {
          "norm_I": 0.010017525394853153,
          "x": -4.473684210526317
         },
         {
          "norm_I": 0.00846391891645498,
          "x": -4.398496240601505
         },
         {
          "norm_I": 0.0068811001922936274,
          "x": -4.3233082706766925
         },
         {
          "norm_I": 0.0053201517007601075,
          "x": -4.24812030075188
         },
         {
          "norm_I": 0.0038386551583288885,
          "x": -4.172932330827068
         },
         {
          "norm_I": 0.0025004536601715473,
          "x": -4.097744360902256
         },
         {
          "norm_I": 0.0013753117702805595,
          "x": -4.022556390977444
         },
         {
          "norm_I": 0.0005384729952755392,
          "x": -3.947368421052632
         },
         {
          "norm_I": 7.011552075277868e-05,
          "x": -3.8721804511278197
         },
         {
          "norm_I": 5.4708573380167685e-05,
          "x": -3.7969924812030076
         },
         {
          "norm_I": 0.0005802732749182914,
          "x": -3.7218045112781954
         },
         {
          "norm_I": 0.0017375533540952433,
          "x": -3.6466165413533833
         },
         {
          "norm_I": 0.0036191025563744065,
          "x": -3.571428571428573
         },
         {
          "norm_I": 0.006318297017531915,
          "x": -3.496240601503761
         },
         {
          "norm_I": 0.009928282222152423,
          "x": -3.4210526315789487
         },
         {
          "norm_I": 0.014540865430713874,
          "x": -3.3458646616541365
         },
         {
          "norm_I": 0.020245365607761984,
          "x": -3.2706766917293244
         },
         {
          "norm_I": 0.027127433898878468,
          "x": -3.1954887218045123
         },
         {
          "norm_I": 0.035267858567346703,
          "x": -3.1203007518797
         },
         {
          "norm_I": 0.04474136899608397,
          "x": -3.045112781954888
         },
         {
          "norm_I": 0.05561545387214157,
          "x": -2.969924812030076
         },
         {
          "norm_I": 0.06794920898786774,
          "x": -2.8947368421052637
         },
         {
          "norm_I": 0.08179223020530407,
          "x": -2.8195488721804516
         },
         {
          "norm_I": 0.0971835670319831,
          "x": -2.7443609022556394
         },
         {
          "norm_I": 0.11415075194342186,
          "x": -2.6691729323308273
         },
         {
          "norm_I": 0.13270892005975246,
          "x": -2.593984962406015
         },
         {
          "norm_I": 0.15286003304372794,
          "x": -2.518796992481203
         },
         {
          "norm_I": 0.174592220140582,
          "x": -2.443609022556391
         },
         {
          "norm_I": 0.19787924813581315,
          "x": -2.3684210526315788
         },
         {
          "norm_I": 0.2226801306768713,
          "x": -2.2932330827067684
         },
         {
          "norm_I": 0.24893888590382807,
          "x": -2.2180451127819563
         },
         {
          "norm_I": 0.27658444967997736,
          "x": -2.142857142857144
         },
         {
          "norm_I": 0.30553074992614654,
          "x": -2.067669172932332
         },
         {
          "norm_I": 0.3356769456645771,
          "x": -1.9924812030075199
         },
         {
          "norm_I": 0.3669078323939724,
          "x": -1.9172932330827077
         },
         {
          "norm_I": 0.39909441337261314,
          "x": -1.8421052631578956
         },
         {
          "norm_I": 0.43209463430854367,
          "x": -1.7669172932330834
         },
         {
          "norm_I": 0.4657542768727747,
          "x": -1.6917293233082713
         },
         {
          "norm_I": 0.4999080043918367,
          "x": -1.6165413533834592
         },
         {
          "norm_I": 0.5343805510683737,
          "x": -1.541353383458647
         },
         {
          "norm_I": 0.5689880441510876,
          "x": -1.466165413533835
         },
         {
          "norm_I": 0.6035394466556365,
          "x": -1.3909774436090228
         },
         {
          "norm_I": 0.637838106552253,
          "x": -1.3157894736842106
         },
         {
          "norm_I": 0.6716833968086449,
          "x": -1.2406015037593985
         },
         {
          "norm_I": 0.7048724293306672,
          "x": -1.1654135338345881
         },
         {
          "norm_I": 0.7372018246988296,
          "x": -1.090225563909776
         },
         {
          "norm_I": 0.7684695186734709,
          "x": -1.0150375939849638
         },
         {
          "norm_I": 0.7984765857503114,
          "x": -0.9398496240601517
         },
         {
          "norm_I": 0.8270290596025539,
          "x": -0.8646616541353396
         },
         {
          "norm_I": 0.853939730054159,
          "x": -0.7894736842105274
         },
         {
          "norm_I": 0.8790298962959626,
          "x": -0.7142857142857153
         },
         {
          "norm_I": 0.9021310563832642,
          "x": -0.6390977443609032
         },
         {
          "norm_I": 0.9230865136377777,
          "x": -0.563909774436091
         },
         {
          "norm_I": 0.941752881412416,
          "x": -0.4887218045112789
         },
         {
          "norm_I": 0.9580014687546264,
          "x": -0.41353383458646675
         },
         {
          "norm_I": 0.9717195308097839,
          "x": -0.3383458646616546
         },
         {
          "norm_I": 0.9828113693242759,
          "x": -0.2631578947368425
         },
         {
          "norm_I": 0.9911992703189384,
          "x": -0.18796992481203034
         },
         {
          "norm_I": 0.9968242678853925,
          "x": -0.1127819548872182
         },
         {
          "norm_I": 0.9996467250860054,
          "x": -0.03759398496240607
         },
         {
          "norm_I": 0.9996467250860054,
          "x": 0.03759398496240607
         },
         {
          "norm_I": 0.9968242678853929,
          "x": 0.11278195488721643
         },
         {
          "norm_I": 0.9911992703189382,
          "x": 0.18796992481202857
         },
         {
          "norm_I": 0.9828113693242757,
          "x": 0.2631578947368407
         },
         {
          "norm_I": 0.9717195308097839,
          "x": 0.33834586466165284
         },
         {
          "norm_I": 0.9580014687546273,
          "x": 0.413533834586465
         },
         {
          "norm_I": 0.941752881412416,
          "x": 0.4887218045112771
         },
         {
          "norm_I": 0.923086513637778,
          "x": 0.5639097744360893
         },
         {
          "norm_I": 0.9021310563832647,
          "x": 0.6390977443609014
         },
         {
          "norm_I": 0.8790298962959627,
          "x": 0.7142857142857135
         },
         {
          "norm_I": 0.8539397300541596,
          "x": 0.7894736842105257
         },
         {
          "norm_I": 0.8270290596025545,
          "x": 0.8646616541353378
         },
         {
          "norm_I": 0.798476585750312,
          "x": 0.9398496240601499
         },
         {
          "norm_I": 0.7684695186734722,
          "x": 1.0150375939849603
         },
         {
          "norm_I": 0.7372018246988304,
          "x": 1.0902255639097724
         },
         {
          "norm_I": 0.7048724293306688,
          "x": 1.1654135338345846
         },
         {
          "norm_I": 0.671683396808646,
          "x": 1.2406015037593967
         },
         {
          "norm_I": 0.6378381065522539,
          "x": 1.3157894736842088
         },
         {
          "norm_I": 0.6035394466556374,
          "x": 1.390977443609021
         },
         {
          "norm_I": 0.5689880441510888,
          "x": 1.4661654135338331
         },
         {
          "norm_I": 0.5343805510683741,
          "x": 1.5413533834586453
         },
         {
          "norm_I": 0.49990800439183797,
          "x": 1.6165413533834574
         },
         {
          "norm_I": 0.4657542768727755,
          "x": 1.6917293233082695
         },
         {
          "norm_I": 0.4320946343085441,
          "x": 1.7669172932330817
         },
         {
          "norm_I": 0.39909441337261403,
          "x": 1.8421052631578938
         },
         {
          "norm_I": 0.3669078323939732,
          "x": 1.917293233082706
         },
         {
          "norm_I": 0.33567694566457806,
          "x": 1.992481203007518
         },
         {
          "norm_I": 0.30553074992614715,
          "x": 2.06766917293233
         },
         {
          "norm_I": 0.27658444967997803,
          "x": 2.1428571428571423
         },
         {
          "norm_I": 0.2489388859038288,
          "x": 2.2180451127819545
         },
         {
          "norm_I": 0.22268013067687203,
          "x": 2.2932330827067666
         },
         {
          "norm_I": 0.19787924813581315,
          "x": 2.3684210526315788
         },
         {
          "norm_I": 0.174592220140582,
          "x": 2.443609022556391
         },
         {
          "norm_I": 0.15286003304372794,
          "x": 2.518796992481203
         },
         {
          "norm_I": 0.13270892005975246,
          "x": 2.593984962406015
         },
         {
          "norm_I": 0.11415075194342186,
          "x": 2.6691729323308273
         },
         {
          "norm_I": 0.0971835670319831,
          "x": 2.7443609022556394
         },
         {
          "norm_I": 0.08179223020530407,
          "x": 2.8195488721804516
         },
         {
          "norm_I": 0.06794920898786774,
          "x": 2.8947368421052637
         },
         {
          "norm_I": 0.05561545387214157,
          "x": 2.969924812030076
         },
         {
          "norm_I": 0.04474136899608443,
          "x": 3.0451127819548844
         },
         {
          "norm_I": 0.03526785856734714,
          "x": 3.1203007518796966
         },
         {
          "norm_I": 0.027127433898878825,
          "x": 3.1954887218045087
         },
         {
          "norm_I": 0.020245365607762293,
          "x": 3.270676691729321
         },
         {
          "norm_I": 0.014540865430714135,
          "x": 3.345864661654133
         },
         {
          "norm_I": 0.009928282222152623,
          "x": 3.421052631578945
         },
         {
          "norm_I": 0.006318297017532063,
          "x": 3.4962406015037573
         },
         {
          "norm_I": 0.0036191025563745206,
          "x": 3.5714285714285694
         },
         {
          "norm_I": 0.0017375533540952821,
          "x": 3.6466165413533815
         },
         {
          "norm_I": 0.0005802732749183097,
          "x": 3.7218045112781937
         },
         {
          "norm_I": 5.470857338017363e-05,
          "x": 3.796992481203006
         },
         {
          "norm_I": 7.011552075277245e-05,
          "x": 3.872180451127818
         },
         {
          "norm_I": 0.0005384729952755235,
          "x": 3.94736842105263
         },
         {
          "norm_I": 0.001375311770280536,
          "x": 4.022556390977442
         },
         {
          "norm_I": 0.0025004536601715187,
          "x": 4.097744360902254
         },
         {
          "norm_I": 0.0038386551583288555,
          "x": 4.1729323308270665
         },
         {
          "norm_I": 0.005320151700760071,
          "x": 4.248120300751879
         },
         {
          "norm_I": 0.006881100192293583,
          "x": 4.323308270676691
         },
         {
          "norm_I": 0.008463918916454939,
          "x": 4.398496240601503
         },
         {
          "norm_I": 0.010017525394853115,
          "x": 4.473684210526315
         },
         {
          "norm_I": 0.011497474147082043,
          "x": 4.548872180451127
         },
         {
          "norm_I": 0.012865997609382344,
          "x": 4.624060150375939
         },
         {
          "norm_I": 0.014091954682866375,
          "x": 4.6992481203007515
         },
         {
          "norm_I": 0.015150692485139144,
          "x": 4.774436090225564
         },
         {
          "norm_I": 0.016023827859880952,
          "x": 4.849624060150376
         },
         {
          "norm_I": 0.016698956046852346,
          "x": 4.924812030075188
         },
         {
          "norm_I": 0.017169294621626904,
          "x": 5
         },
         {
          "norm_I": 0.017433271374338002,
          "x": 5.075187969924812
         },
         {
          "norm_I": 0.017494065206454856,
          "x": 5.150375939849624
         },
         {
          "norm_I": 0.017359109383105226,
          "x": 5.225563909774436
         },
         {
          "norm_I": 0.017039566587126635,
          "x": 5.3007518796992485
         },
         {
          "norm_I": 0.01654978518351961,
          "x": 5.375939849624061
         },
         {
          "norm_I": 0.01590674592511635,
          "x": 5.451127819548873
         },
         {
          "norm_I": 0.015129508019891418,
          "x": 5.526315789473681
         },
         {
          "norm_I": 0.014238663047071411,
          "x": 5.6015037593984935
         },
         {
          "norm_I": 0.013255804664314412,
          "x": 5.676691729323306
         },
         {
          "norm_I": 0.012203021404373007,
          "x": 5.751879699248118
         },
         {
          "norm_I": 0.011102419130632332,
          "x": 5.82706766917293
         },
         {
          "norm_I": 0.009975678921409218,
          "x": 5.902255639097742
         },
         {
          "norm_I": 0.00884365529823042,
          "x": 5.977443609022554
         },
         {
          "norm_I": 0.007726018819153287,
          "x": 6.052631578947366
         },
         {
          "norm_I": 0.006640946140324854,
          "x": 6.1278195488721785
         },
         {
          "norm_I": 0.005604859723005309,
          "x": 6.203007518796991
         },
         {
          "norm_I": 0.004632218444407302,
          "x": 6.278195488721803
         },
         {
          "norm_I": 0.0037353594734715677,
          "x": 6.353383458646615
         },
         {
          "norm_I": 0.002924390910794659,
          "x": 6.428571428571427
         },
         {
          "norm_I": 0.002207133877962838,
          "x": 6.503759398496239
         },
         {
          "norm_I": 0.001589111986905745,
          "x": 6.578947368421051
         },
         {
          "norm_I": 0.0010735854345545442,
          "x": 6.6541353383458635
         },
         {
          "norm_I": 0.0006616263605527582,
          "x": 6.729323308270676
         },
         {
          "norm_I": 0.0003522315829043296,
          "x": 6.804511278195488
         },
         {
          "norm_I": 0.00014246839346807537,
          "x": 6.8796992481203
         },
         {
          "norm_I": 2.7648755640236432e-05,
          "x": 6.954887218045112
         },
         {
          "norm_I": 1.5270022269131762e-06,
          "x": 7.030075187969924
         },
         {
          "norm_I": 5.651598254176102e-05,
          "x": 7.105263157894736
         },
         {
          "norm_I": 0.00018391655269730652,
          "x": 7.180451127819548
         },
         {
          "norm_I": 0.0003741553388760638,
          "x": 7.2556390977443606
         },
         {
          "norm_I": 0.0006170258256187905,
          "x": 7.330827067669173
         },
         {
          "norm_I": 0.0009019280240883795,
          "x": 7.406015037593985
         },
         {
          "norm_I": 0.0012181022519276246,
          "x": 7.481203007518797
         },
         {
          "norm_I": 0.0015548528987872773,
          "x": 7.556390977443609
         },
         {
          "norm_I": 0.0019017584510807083,
          "x": 7.631578947368421
         },
         {
          "norm_I": 0.0022488644965906446,
          "x": 7.706766917293233
         },
         {
          "norm_I": 0.0025868569143106123,
          "x": 7.7819548872180455
         },
         {
          "norm_I": 0.0029072129671681092,
          "x": 7.857142857142854
         },
         {
          "norm_I": 0.003202328544775374,
          "x": 7.932330827067666
         },
         {
          "norm_I": 0.003465620339905958,
          "x": 8.007518796992478
         },
         {
          "norm_I": 0.0036916022760896546,
          "x": 8.08270676691729
         },
         {
          "norm_I": 0.0038759360250741333,
          "x": 8.157894736842103
         },
         {
          "norm_I": 0.004015455953029023,
          "x": 8.233082706766915
         },
         {
          "norm_I": 0.004108169305097943,
          "x": 8.308270676691727
         },
         {
          "norm_I": 0.004153232871913653,
          "x": 8.383458646616539
         },
         {
          "norm_I": 0.004150907772603124,
          "x": 8.458646616541351
         },
         {
          "norm_I": 0.004102494331271996,
          "x": 8.533834586466163
         },
         {
          "norm_I": 0.004010249313707399,
          "x": 8.609022556390975
         },
         {
          "norm_I": 0.0038772880249350397,
          "x": 8.684210526315788
         },
         {
          "norm_I": 0.00370747394431433,
          "x": 8.7593984962406
         },
         {
          "norm_I": 0.0035052986921940876,
          "x": 8.834586466165412
         },
         {
          "norm_I": 0.0032757551810360824,
          "x": 8.909774436090224
         },
         {
          "norm_I": 0.003024206805666301,
          "x": 8.984962406015036
         },
         {
          "norm_I": 0.0027562554742647763,
          "x": 9.060150375939848
         },
         {
          "norm_I": 0.002477611177111641,
          "x": 9.13533834586466
         },
         {
          "norm_I": 0.0021939656380632073,
          "x": 9.210526315789473
         },
         {
          "norm_I": 0.001910872399060281,
          "x": 9.285714285714285
         },
         {
          "norm_I": 0.0016336354561099485,
          "x": 9.360902255639097
         },
         {
          "norm_I": 0.0013672083020609014,
          "x": 9.436090225563909
         },
         {
          "norm_I": 0.0011161049434056205,
          "x": 9.511278195488721
         },
         {
          "norm_I": 0.0008843241518173301,
          "x": 9.586466165413533
         },
         {
          "norm_I": 0.000675287892796382,
          "x": 9.661654135338345
         },
         {
          "norm_I": 0.0004917945502651279,
          "x": 9.736842105263158
         },
         {
          "norm_I": 0.00033598724366925724,
          "x": 9.81203007518797
         },
         {
          "norm_I": 0.00020933721930879715,
          "x": 9.887218045112782
         },
         {
          "norm_I": 0.00011264199605227176,
          "x": 9.962406015037594
         },
         {
          "norm_I": 4.6037662631044375e-05,
          "x": 10.037593984962406
         },
         {
          "norm_I": 9.024464160401309e-06,
          "x": 10.112781954887218
         },
         {
          "norm_I": 5.045835543798885e-07,
          "x": 10.18796992481203
         },
         {
          "norm_I": 1.883082257226911e-05,
          "x": 10.263157894736842
         },
         {
          "norm_I": 6.186472010736556e-05,
          "x": 10.338345864661651
         },
         {
          "norm_I": 0.00012704251399824854,
          "x": 10.413533834586463
         },
         {
          "norm_I": 0.00021144725833645688,
          "x": 10.488721804511275
         },
         {
          "norm_I": 0.000311885351423652,
          "x": 10.563909774436087
         },
         {
          "norm_I": 0.0004249657099089678,
          "x": 10.6390977443609
         },
         {
          "norm_I": 0.0005471798412095895,
          "x": 10.714285714285712
         },
         {
          "norm_I": 0.0006749811174070389,
          "x": 10.789473684210524
         },
         {
          "norm_I": 0.0008048616371230205,
          "x": 10.864661654135336
         },
         {
          "norm_I": 0.0009334251745642225,
          "x": 10.939849624060148
         },
         {
          "norm_I": 0.0010574548536592984,
          "x": 11.01503759398496
         },
         {
          "norm_I": 0.0011739743462701481,
          "x": 11.090225563909772
         },
         {
          "norm_I": 0.0012803015728092924,
          "x": 11.165413533834585
         },
         {
          "norm_I": 0.0013740940769797552,
          "x": 11.240601503759397
         },
         {
          "norm_I": 0.0014533854493866418,
          "x": 11.315789473684209
         },
         {
          "norm_I": 0.0015166123830240405,
          "x": 11.390977443609021
         },
         {
          "norm_I": 0.0015626321527384241,
          "x": 11.466165413533833
         },
         {
          "norm_I": 0.0015907305164655893,
          "x": 11.541353383458645
         },
         {
          "norm_I": 0.0016006202342999877,
          "x": 11.616541353383457
         },
         {
          "norm_I": 0.0015924305885364367,
          "x": 11.69172932330827
         },
         {
          "norm_I": 0.0015666884603289417,
          "x": 11.766917293233082
         },
         {
          "norm_I": 0.0015242916735503237,
          "x": 11.842105263157894
         },
         {
          "norm_I": 0.0014664754512734536,
          "x": 11.917293233082706
         },
         {
          "norm_I": 0.001394772942983169,
          "x": 11.992481203007518
         },
         {
          "norm_I": 0.0013109708696339823,
          "x": 12.06766917293233
         },
         {
          "norm_I": 0.0012170613979882068,
          "x": 12.142857142857142
         },
         {
          "norm_I": 0.0011151913948286986,
          "x": 12.218045112781954
         },
         {
          "norm_I": 0.001007610225691349,
          "x": 12.293233082706767
         },
         {
          "norm_I": 0.0008966172522624624,
          "x": 12.368421052631579
         },
         {
          "norm_I": 0.0007845101485724637,
          "x": 12.443609022556391
         },
         {
          "norm_I": 0.0006735351000708878,
          "x": 12.518796992481203
         },
         {
          "norm_I": 0.0005658398734689501,
          "x": 12.593984962406015
         },
         {
          "norm_I": 0.0004634306511156129,
          "x": 12.669172932330824
         },
         {
          "norm_I": 0.00036813341415478163,
          "x": 12.744360902255636
         },
         {
          "norm_I": 0.0002815605365528312,
          "x": 12.819548872180448
         },
         {
          "norm_I": 0.00020508312021487741,
          "x": 12.89473684210526
         },
         {
          "norm_I": 0.00013980946285982153,
          "x": 12.969924812030072
         },
         {
          "norm_I": 8.656990817306925e-05,
          "x": 13.045112781954884
         },
         {
          "norm_I": 4.590818505532186e-05,
          "x": 13.120300751879697
         },
         {
          "norm_I": 1.8079202504904214e-05,
          "x": 13.195488721804509
         },
         {
          "norm_I": 3.0531316370919818e-06,
          "x": 13.27067669172932
         },
         {
          "norm_I": 5.25479189044448e-07,
          "x": 13.345864661654133
         },
         {
          "norm_I": 9.932739972451172e-06,
          "x": 13.421052631578945
         },
         {
          "norm_I": 3.047311122255192e-05,
          "x": 13.496240601503757
         },
         {
          "norm_I": 6.113166143736276e-05,
          "x": 13.57142857142857
         },
         {
          "norm_I": 0.00010070927154410339,
          "x": 13.646616541353382
         },
         {
          "norm_I": 0.00014785460814483513,
          "x": 13.721804511278194
         },
         {
          "norm_I": 0.00020109834787725823,
          "x": 13.796992481203006
         },
         {
          "norm_I": 0.0002588888488964624,
          "x": 13.872180451127818
         },
         {
          "norm_I": 0.00031962846008062716,
          "x": 13.94736842105263
         },
         {
          "norm_I": 0.0003817096703662174,
          "x": 14.022556390977442
         },
         {
          "norm_I": 0.00044355032885987013,
          "x": 14.097744360902254
         },
         {
          "norm_I": 0.00050362720997007,
          "x": 14.172932330827066
         },
         {
          "norm_I": 0.0005605072553799509,
          "x": 14.248120300751879
         },
         {
          "norm_I": 0.0006128758946206754,
          "x": 14.32330827067669
         },
         {
          "norm_I": 0.000659561926470377,
          "x": 14.398496240601503
         },
         {
          "norm_I": 0.0006995585323981154,
          "x": 14.473684210526315
         },
         {
          "norm_I": 0.0007320400886770647,
          "x": 14.548872180451127
         },
         {
          "norm_I": 0.0007563745434148454,
          "x": 14.62406015037594
         },
         {
          "norm_I": 0.0007721312263746704,
          "x": 14.699248120300751
         },
         {
          "norm_I": 0.0007790840608934203,
          "x": 14.774436090225564
         },
         {
          "norm_I": 0.0007772102463126346,
          "x": 14.849624060150376
         },
         {
          "norm_I": 0.0007666845741053045,
          "x": 14.924812030075188
         },
         {
          "norm_I": 0.000747869629432488,
          "x": 15
         }
        ]
       },
       "encoding": {
        "order": {
         "field": "x",
         "type": "quantitative"
        },
        "x": {
         "field": "x",
         "type": "quantitative"
        },
        "y": {
         "field": "norm_I",
         "title": "I(x)/I₀",
         "type": "quantitative"
        }
       },
       "height": 150,
       "mark": "line"
      },
      "image/png": "[encoded data removed]",
      "text/plain": [
       "<VegaLite 2 object>\n",
       "\n",
       "If you see this message, it means the renderer has not been properly enabled\n",
       "for the frontend that you are using. For more information, see\n",
       "https://altair-viz.github.io/user_guide/troubleshooting.html\n"
      ]
     },
     "execution_count": 29,
     "metadata": {},
     "output_type": "execute_result"
    }
   ],
   "source": [
    "alt.Chart(df_airy,\n",
    "        height=150\n",
    "    ).mark_line(\n",
    "    ).encode(\n",
    "        x='x:Q',\n",
    "        y=alt.Y('norm_I:Q', title='I(x)/I₀'),\n",
    "        order='x:Q')"
   ]
  },
  {
   "cell_type": "markdown",
   "metadata": {},
   "source": [
    "By default, `ax.plot()` plots lines. We could also plot dots (which doesn't make sense here, but we'll show it just to see). We do not need the `order` kwarg for plotting points."
   ]
  },
  {
   "cell_type": "code",
   "execution_count": 30,
   "metadata": {},
   "outputs": [
    {
     "data": {
      "application/vnd.vegalite.v2+json": {
       "$schema": "https://vega.github.io/schema/vega-lite/v2.4.3.json",
       "config": {
        "view": {
         "height": 300,
         "width": 400
        }
       },
       "data": {
        "values": [
         {
          "norm_I": 0.000747869629432488,
          "x": -15
         },
         {
          "norm_I": 0.0007666845741053045,
          "x": -14.924812030075188
         },
         {
          "norm_I": 0.0007772102463126346,
          "x": -14.849624060150376
         },
         {
          "norm_I": 0.0007790840608934203,
          "x": -14.774436090225564
         },
         {
          "norm_I": 0.0007721312263746704,
          "x": -14.699248120300751
         },
         {
          "norm_I": 0.0007563745434148454,
          "x": -14.62406015037594
         },
         {
          "norm_I": 0.0007320400886770647,
          "x": -14.548872180451127
         },
         {
          "norm_I": 0.0006995585323981154,
          "x": -14.473684210526315
         },
         {
          "norm_I": 0.000659561926470377,
          "x": -14.398496240601503
         },
         {
          "norm_I": 0.0006128758946206753,
          "x": -14.323308270676693
         },
         {
          "norm_I": 0.0005605072553799506,
          "x": -14.24812030075188
         },
         {
          "norm_I": 0.0005036272099700693,
          "x": -14.172932330827068
         },
         {
          "norm_I": 0.00044355032885987013,
          "x": -14.097744360902256
         },
         {
          "norm_I": 0.0003817096703662172,
          "x": -14.022556390977444
         },
         {
          "norm_I": 0.0003196284600806268,
          "x": -13.947368421052632
         },
         {
          "norm_I": 0.00025888884889646227,
          "x": -13.87218045112782
         },
         {
          "norm_I": 0.00020109834787725812,
          "x": -13.796992481203008
         },
         {
          "norm_I": 0.0001478546081448351,
          "x": -13.721804511278195
         },
         {
          "norm_I": 0.00010070927154410335,
          "x": -13.646616541353383
         },
         {
          "norm_I": 6.113166143736271e-05,
          "x": -13.571428571428571
         },
         {
          "norm_I": 3.047311122255192e-05,
          "x": -13.496240601503759
         },
         {
          "norm_I": 9.93273997245117e-06,
          "x": -13.421052631578947
         },
         {
          "norm_I": 5.254791890444474e-07,
          "x": -13.345864661654135
         },
         {
          "norm_I": 3.0531316370915714e-06,
          "x": -13.270676691729324
         },
         {
          "norm_I": 1.8079202504903197e-05,
          "x": -13.195488721804512
         },
         {
          "norm_I": 4.590818505532024e-05,
          "x": -13.1203007518797
         },
         {
          "norm_I": 8.656990817306705e-05,
          "x": -13.045112781954888
         },
         {
          "norm_I": 0.00013980946285981877,
          "x": -12.969924812030076
         },
         {
          "norm_I": 0.00020508312021487403,
          "x": -12.894736842105264
         },
         {
          "norm_I": 0.0002815605365528272,
          "x": -12.819548872180452
         },
         {
          "norm_I": 0.00036813341415477724,
          "x": -12.74436090225564
         },
         {
          "norm_I": 0.0004634306511156083,
          "x": -12.669172932330827
         },
         {
          "norm_I": 0.0005658398734689501,
          "x": -12.593984962406015
         },
         {
          "norm_I": 0.0006735351000708878,
          "x": -12.518796992481203
         },
         {
          "norm_I": 0.0007845101485724637,
          "x": -12.443609022556391
         },
         {
          "norm_I": 0.0008966172522624624,
          "x": -12.368421052631579
         },
         {
          "norm_I": 0.001007610225691349,
          "x": -12.293233082706767
         },
         {
          "norm_I": 0.0011151913948286986,
          "x": -12.218045112781954
         },
         {
          "norm_I": 0.0012170613979882068,
          "x": -12.142857142857142
         },
         {
          "norm_I": 0.0013109708696339823,
          "x": -12.06766917293233
         },
         {
          "norm_I": 0.001394772942983169,
          "x": -11.992481203007518
         },
         {
          "norm_I": 0.0014664754512734536,
          "x": -11.917293233082706
         },
         {
          "norm_I": 0.0015242916735503237,
          "x": -11.842105263157894
         },
         {
          "norm_I": 0.0015666884603289407,
          "x": -11.766917293233083
         },
         {
          "norm_I": 0.001592430588536436,
          "x": -11.691729323308271
         },
         {
          "norm_I": 0.0016006202342999873,
          "x": -11.61654135338346
         },
         {
          "norm_I": 0.0015907305164655893,
          "x": -11.541353383458647
         },
         {
          "norm_I": 0.0015626321527384235,
          "x": -11.466165413533835
         },
         {
          "norm_I": 0.0015166123830240399,
          "x": -11.390977443609023
         },
         {
          "norm_I": 0.0014533854493866414,
          "x": -11.31578947368421
         },
         {
          "norm_I": 0.0013740940769797533,
          "x": -11.240601503759398
         },
         {
          "norm_I": 0.0012803015728092924,
          "x": -11.165413533834586
         },
         {
          "norm_I": 0.001173974346270147,
          "x": -11.090225563909774
         },
         {
          "norm_I": 0.001057454853659298,
          "x": -11.015037593984962
         },
         {
          "norm_I": 0.0009334251745642281,
          "x": -10.939849624060152
         },
         {
          "norm_I": 0.0008048616371230267,
          "x": -10.86466165413534
         },
         {
          "norm_I": 0.0006749811174070452,
          "x": -10.789473684210527
         },
         {
          "norm_I": 0.0005471798412095955,
          "x": -10.714285714285715
         },
         {
          "norm_I": 0.0004249657099089738,
          "x": -10.639097744360903
         },
         {
          "norm_I": 0.00031188535142365713,
          "x": -10.563909774436091
         },
         {
          "norm_I": 0.00021144725833646127,
          "x": -10.488721804511279
         },
         {
          "norm_I": 0.00012704251399825214,
          "x": -10.413533834586467
         },
         {
          "norm_I": 6.186472010736815e-05,
          "x": -10.338345864661655
         },
         {
          "norm_I": 1.883082257226911e-05,
          "x": -10.263157894736842
         },
         {
          "norm_I": 5.045835543798885e-07,
          "x": -10.18796992481203
         },
         {
          "norm_I": 9.024464160401309e-06,
          "x": -10.112781954887218
         },
         {
          "norm_I": 4.6037662631044375e-05,
          "x": -10.037593984962406
         },
         {
          "norm_I": 0.00011264199605227176,
          "x": -9.962406015037594
         },
         {
          "norm_I": 0.00020933721930879715,
          "x": -9.887218045112782
         },
         {
          "norm_I": 0.00033598724366925724,
          "x": -9.81203007518797
         },
         {
          "norm_I": 0.0004917945502651279,
          "x": -9.736842105263158
         },
         {
          "norm_I": 0.000675287892796382,
          "x": -9.661654135338345
         },
         {
          "norm_I": 0.0008843241518173301,
          "x": -9.586466165413533
         },
         {
          "norm_I": 0.0011161049434056205,
          "x": -9.511278195488721
         },
         {
          "norm_I": 0.0013672083020609014,
          "x": -9.436090225563909
         },
         {
          "norm_I": 0.0016336354561099485,
          "x": -9.360902255639097
         },
         {
          "norm_I": 0.001910872399060275,
          "x": -9.285714285714286
         },
         {
          "norm_I": 0.0021939656380632003,
          "x": -9.210526315789474
         },
         {
          "norm_I": 0.0024776111771116363,
          "x": -9.135338345864662
         },
         {
          "norm_I": 0.0027562554742647676,
          "x": -9.06015037593985
         },
         {
          "norm_I": 0.0030242068056662947,
          "x": -8.984962406015038
         },
         {
          "norm_I": 0.0032757551810360785,
          "x": -8.909774436090226
         },
         {
          "norm_I": 0.003505298692194085,
          "x": -8.834586466165414
         },
         {
          "norm_I": 0.003707473944314324,
          "x": -8.759398496240602
         },
         {
          "norm_I": 0.003877288024935038,
          "x": -8.68421052631579
         },
         {
          "norm_I": 0.004010249313707392,
          "x": -8.609022556390979
         },
         {
          "norm_I": 0.004102494331271994,
          "x": -8.533834586466167
         },
         {
          "norm_I": 0.004150907772603123,
          "x": -8.458646616541355
         },
         {
          "norm_I": 0.004153232871913656,
          "x": -8.383458646616543
         },
         {
          "norm_I": 0.004108169305097946,
          "x": -8.30827067669173
         },
         {
          "norm_I": 0.004015455953029027,
          "x": -8.233082706766918
         },
         {
          "norm_I": 0.00387593602507414,
          "x": -8.157894736842106
         },
         {
          "norm_I": 0.003691602276089667,
          "x": -8.082706766917294
         },
         {
          "norm_I": 0.0034656203399059744,
          "x": -8.007518796992482
         },
         {
          "norm_I": 0.0032023285447753884,
          "x": -7.93233082706767
         },
         {
          "norm_I": 0.002907212967168124,
          "x": -7.857142857142858
         },
         {
          "norm_I": 0.0025868569143106123,
          "x": -7.7819548872180455
         },
         {
          "norm_I": 0.0022488644965906446,
          "x": -7.706766917293233
         },
         {
          "norm_I": 0.0019017584510807083,
          "x": -7.631578947368421
         },
         {
          "norm_I": 0.0015548528987872773,
          "x": -7.556390977443609
         },
         {
          "norm_I": 0.0012181022519276246,
          "x": -7.481203007518797
         },
         {
          "norm_I": 0.0009019280240883836,
          "x": -7.406015037593986
         },
         {
          "norm_I": 0.0006170258256187934,
          "x": -7.330827067669174
         },
         {
          "norm_I": 0.0003741553388760666,
          "x": -7.255639097744361
         },
         {
          "norm_I": 0.00018391655269730836,
          "x": -7.180451127819549
         },
         {
          "norm_I": 5.651598254176214e-05,
          "x": -7.105263157894737
         },
         {
          "norm_I": 1.5270022269133622e-06,
          "x": -7.030075187969925
         },
         {
          "norm_I": 2.764875564023479e-05,
          "x": -6.954887218045114
         },
         {
          "norm_I": 0.00014246839346807166,
          "x": -6.879699248120302
         },
         {
          "norm_I": 0.0003522315829043234,
          "x": -6.8045112781954895
         },
         {
          "norm_I": 0.0006616263605527495,
          "x": -6.729323308270677
         },
         {
          "norm_I": 0.0010735854345545334,
          "x": -6.654135338345865
         },
         {
          "norm_I": 0.0015891119869057314,
          "x": -6.578947368421053
         },
         {
          "norm_I": 0.002207133877962822,
          "x": -6.503759398496241
         },
         {
          "norm_I": 0.0029243909107946444,
          "x": -6.428571428571429
         },
         {
          "norm_I": 0.003735359473471552,
          "x": -6.353383458646617
         },
         {
          "norm_I": 0.004632218444407278,
          "x": -6.2781954887218046
         },
         {
          "norm_I": 0.005604859723005284,
          "x": -6.203007518796992
         },
         {
          "norm_I": 0.006640946140324825,
          "x": -6.12781954887218
         },
         {
          "norm_I": 0.0077260188191532655,
          "x": -6.052631578947368
         },
         {
          "norm_I": 0.008843655298230363,
          "x": -5.977443609022558
         },
         {
          "norm_I": 0.009975678921409166,
          "x": -5.902255639097746
         },
         {
          "norm_I": 0.011102419130632275,
          "x": -5.8270676691729335
         },
         {
          "norm_I": 0.012203021404372955,
          "x": -5.751879699248121
         },
         {
          "norm_I": 0.013255804664314365,
          "x": -5.676691729323309
         },
         {
          "norm_I": 0.014238663047071378,
          "x": -5.601503759398497
         },
         {
          "norm_I": 0.015129508019891387,
          "x": -5.526315789473685
         },
         {
          "norm_I": 0.01590674592511635,
          "x": -5.451127819548873
         },
         {
          "norm_I": 0.01654978518351961,
          "x": -5.375939849624061
         },
         {
          "norm_I": 0.017039566587126635,
          "x": -5.3007518796992485
         },
         {
          "norm_I": 0.017359109383105226,
          "x": -5.225563909774436
         },
         {
          "norm_I": 0.017494065206454856,
          "x": -5.150375939849624
         },
         {
          "norm_I": 0.017433271374338002,
          "x": -5.075187969924812
         },
         {
          "norm_I": 0.017169294621626904,
          "x": -5
         },
         {
          "norm_I": 0.016698956046852346,
          "x": -4.924812030075188
         },
         {
          "norm_I": 0.016023827859880952,
          "x": -4.849624060150376
         },
         {
          "norm_I": 0.015150692485139144,
          "x": -4.774436090225564
         },
         {
          "norm_I": 0.014091954682866408,
          "x": -4.699248120300753
         },
         {
          "norm_I": 0.01286599760938238,
          "x": -4.624060150375941
         },
         {
          "norm_I": 0.011497474147082076,
          "x": -4.548872180451129
         },
         {
          "norm_I": 0.010017525394853153,
          "x": -4.473684210526317
         },
         {
          "norm_I": 0.00846391891645498,
          "x": -4.398496240601505
         },
         {
          "norm_I": 0.0068811001922936274,
          "x": -4.3233082706766925
         },
         {
          "norm_I": 0.0053201517007601075,
          "x": -4.24812030075188
         },
         {
          "norm_I": 0.0038386551583288885,
          "x": -4.172932330827068
         },
         {
          "norm_I": 0.0025004536601715473,
          "x": -4.097744360902256
         },
         {
          "norm_I": 0.0013753117702805595,
          "x": -4.022556390977444
         },
         {
          "norm_I": 0.0005384729952755392,
          "x": -3.947368421052632
         },
         {
          "norm_I": 7.011552075277868e-05,
          "x": -3.8721804511278197
         },
         {
          "norm_I": 5.4708573380167685e-05,
          "x": -3.7969924812030076
         },
         {
          "norm_I": 0.0005802732749182914,
          "x": -3.7218045112781954
         },
         {
          "norm_I": 0.0017375533540952433,
          "x": -3.6466165413533833
         },
         {
          "norm_I": 0.0036191025563744065,
          "x": -3.571428571428573
         },
         {
          "norm_I": 0.006318297017531915,
          "x": -3.496240601503761
         },
         {
          "norm_I": 0.009928282222152423,
          "x": -3.4210526315789487
         },
         {
          "norm_I": 0.014540865430713874,
          "x": -3.3458646616541365
         },
         {
          "norm_I": 0.020245365607761984,
          "x": -3.2706766917293244
         },
         {
          "norm_I": 0.027127433898878468,
          "x": -3.1954887218045123
         },
         {
          "norm_I": 0.035267858567346703,
          "x": -3.1203007518797
         },
         {
          "norm_I": 0.04474136899608397,
          "x": -3.045112781954888
         },
         {
          "norm_I": 0.05561545387214157,
          "x": -2.969924812030076
         },
         {
          "norm_I": 0.06794920898786774,
          "x": -2.8947368421052637
         },
         {
          "norm_I": 0.08179223020530407,
          "x": -2.8195488721804516
         },
         {
          "norm_I": 0.0971835670319831,
          "x": -2.7443609022556394
         },
         {
          "norm_I": 0.11415075194342186,
          "x": -2.6691729323308273
         },
         {
          "norm_I": 0.13270892005975246,
          "x": -2.593984962406015
         },
         {
          "norm_I": 0.15286003304372794,
          "x": -2.518796992481203
         },
         {
          "norm_I": 0.174592220140582,
          "x": -2.443609022556391
         },
         {
          "norm_I": 0.19787924813581315,
          "x": -2.3684210526315788
         },
         {
          "norm_I": 0.2226801306768713,
          "x": -2.2932330827067684
         },
         {
          "norm_I": 0.24893888590382807,
          "x": -2.2180451127819563
         },
         {
          "norm_I": 0.27658444967997736,
          "x": -2.142857142857144
         },
         {
          "norm_I": 0.30553074992614654,
          "x": -2.067669172932332
         },
         {
          "norm_I": 0.3356769456645771,
          "x": -1.9924812030075199
         },
         {
          "norm_I": 0.3669078323939724,
          "x": -1.9172932330827077
         },
         {
          "norm_I": 0.39909441337261314,
          "x": -1.8421052631578956
         },
         {
          "norm_I": 0.43209463430854367,
          "x": -1.7669172932330834
         },
         {
          "norm_I": 0.4657542768727747,
          "x": -1.6917293233082713
         },
         {
          "norm_I": 0.4999080043918367,
          "x": -1.6165413533834592
         },
         {
          "norm_I": 0.5343805510683737,
          "x": -1.541353383458647
         },
         {
          "norm_I": 0.5689880441510876,
          "x": -1.466165413533835
         },
         {
          "norm_I": 0.6035394466556365,
          "x": -1.3909774436090228
         },
         {
          "norm_I": 0.637838106552253,
          "x": -1.3157894736842106
         },
         {
          "norm_I": 0.6716833968086449,
          "x": -1.2406015037593985
         },
         {
          "norm_I": 0.7048724293306672,
          "x": -1.1654135338345881
         },
         {
          "norm_I": 0.7372018246988296,
          "x": -1.090225563909776
         },
         {
          "norm_I": 0.7684695186734709,
          "x": -1.0150375939849638
         },
         {
          "norm_I": 0.7984765857503114,
          "x": -0.9398496240601517
         },
         {
          "norm_I": 0.8270290596025539,
          "x": -0.8646616541353396
         },
         {
          "norm_I": 0.853939730054159,
          "x": -0.7894736842105274
         },
         {
          "norm_I": 0.8790298962959626,
          "x": -0.7142857142857153
         },
         {
          "norm_I": 0.9021310563832642,
          "x": -0.6390977443609032
         },
         {
          "norm_I": 0.9230865136377777,
          "x": -0.563909774436091
         },
         {
          "norm_I": 0.941752881412416,
          "x": -0.4887218045112789
         },
         {
          "norm_I": 0.9580014687546264,
          "x": -0.41353383458646675
         },
         {
          "norm_I": 0.9717195308097839,
          "x": -0.3383458646616546
         },
         {
          "norm_I": 0.9828113693242759,
          "x": -0.2631578947368425
         },
         {
          "norm_I": 0.9911992703189384,
          "x": -0.18796992481203034
         },
         {
          "norm_I": 0.9968242678853925,
          "x": -0.1127819548872182
         },
         {
          "norm_I": 0.9996467250860054,
          "x": -0.03759398496240607
         },
         {
          "norm_I": 0.9996467250860054,
          "x": 0.03759398496240607
         },
         {
          "norm_I": 0.9968242678853929,
          "x": 0.11278195488721643
         },
         {
          "norm_I": 0.9911992703189382,
          "x": 0.18796992481202857
         },
         {
          "norm_I": 0.9828113693242757,
          "x": 0.2631578947368407
         },
         {
          "norm_I": 0.9717195308097839,
          "x": 0.33834586466165284
         },
         {
          "norm_I": 0.9580014687546273,
          "x": 0.413533834586465
         },
         {
          "norm_I": 0.941752881412416,
          "x": 0.4887218045112771
         },
         {
          "norm_I": 0.923086513637778,
          "x": 0.5639097744360893
         },
         {
          "norm_I": 0.9021310563832647,
          "x": 0.6390977443609014
         },
         {
          "norm_I": 0.8790298962959627,
          "x": 0.7142857142857135
         },
         {
          "norm_I": 0.8539397300541596,
          "x": 0.7894736842105257
         },
         {
          "norm_I": 0.8270290596025545,
          "x": 0.8646616541353378
         },
         {
          "norm_I": 0.798476585750312,
          "x": 0.9398496240601499
         },
         {
          "norm_I": 0.7684695186734722,
          "x": 1.0150375939849603
         },
         {
          "norm_I": 0.7372018246988304,
          "x": 1.0902255639097724
         },
         {
          "norm_I": 0.7048724293306688,
          "x": 1.1654135338345846
         },
         {
          "norm_I": 0.671683396808646,
          "x": 1.2406015037593967
         },
         {
          "norm_I": 0.6378381065522539,
          "x": 1.3157894736842088
         },
         {
          "norm_I": 0.6035394466556374,
          "x": 1.390977443609021
         },
         {
          "norm_I": 0.5689880441510888,
          "x": 1.4661654135338331
         },
         {
          "norm_I": 0.5343805510683741,
          "x": 1.5413533834586453
         },
         {
          "norm_I": 0.49990800439183797,
          "x": 1.6165413533834574
         },
         {
          "norm_I": 0.4657542768727755,
          "x": 1.6917293233082695
         },
         {
          "norm_I": 0.4320946343085441,
          "x": 1.7669172932330817
         },
         {
          "norm_I": 0.39909441337261403,
          "x": 1.8421052631578938
         },
         {
          "norm_I": 0.3669078323939732,
          "x": 1.917293233082706
         },
         {
          "norm_I": 0.33567694566457806,
          "x": 1.992481203007518
         },
         {
          "norm_I": 0.30553074992614715,
          "x": 2.06766917293233
         },
         {
          "norm_I": 0.27658444967997803,
          "x": 2.1428571428571423
         },
         {
          "norm_I": 0.2489388859038288,
          "x": 2.2180451127819545
         },
         {
          "norm_I": 0.22268013067687203,
          "x": 2.2932330827067666
         },
         {
          "norm_I": 0.19787924813581315,
          "x": 2.3684210526315788
         },
         {
          "norm_I": 0.174592220140582,
          "x": 2.443609022556391
         },
         {
          "norm_I": 0.15286003304372794,
          "x": 2.518796992481203
         },
         {
          "norm_I": 0.13270892005975246,
          "x": 2.593984962406015
         },
         {
          "norm_I": 0.11415075194342186,
          "x": 2.6691729323308273
         },
         {
          "norm_I": 0.0971835670319831,
          "x": 2.7443609022556394
         },
         {
          "norm_I": 0.08179223020530407,
          "x": 2.8195488721804516
         },
         {
          "norm_I": 0.06794920898786774,
          "x": 2.8947368421052637
         },
         {
          "norm_I": 0.05561545387214157,
          "x": 2.969924812030076
         },
         {
          "norm_I": 0.04474136899608443,
          "x": 3.0451127819548844
         },
         {
          "norm_I": 0.03526785856734714,
          "x": 3.1203007518796966
         },
         {
          "norm_I": 0.027127433898878825,
          "x": 3.1954887218045087
         },
         {
          "norm_I": 0.020245365607762293,
          "x": 3.270676691729321
         },
         {
          "norm_I": 0.014540865430714135,
          "x": 3.345864661654133
         },
         {
          "norm_I": 0.009928282222152623,
          "x": 3.421052631578945
         },
         {
          "norm_I": 0.006318297017532063,
          "x": 3.4962406015037573
         },
         {
          "norm_I": 0.0036191025563745206,
          "x": 3.5714285714285694
         },
         {
          "norm_I": 0.0017375533540952821,
          "x": 3.6466165413533815
         },
         {
          "norm_I": 0.0005802732749183097,
          "x": 3.7218045112781937
         },
         {
          "norm_I": 5.470857338017363e-05,
          "x": 3.796992481203006
         },
         {
          "norm_I": 7.011552075277245e-05,
          "x": 3.872180451127818
         },
         {
          "norm_I": 0.0005384729952755235,
          "x": 3.94736842105263
         },
         {
          "norm_I": 0.001375311770280536,
          "x": 4.022556390977442
         },
         {
          "norm_I": 0.0025004536601715187,
          "x": 4.097744360902254
         },
         {
          "norm_I": 0.0038386551583288555,
          "x": 4.1729323308270665
         },
         {
          "norm_I": 0.005320151700760071,
          "x": 4.248120300751879
         },
         {
          "norm_I": 0.006881100192293583,
          "x": 4.323308270676691
         },
         {
          "norm_I": 0.008463918916454939,
          "x": 4.398496240601503
         },
         {
          "norm_I": 0.010017525394853115,
          "x": 4.473684210526315
         },
         {
          "norm_I": 0.011497474147082043,
          "x": 4.548872180451127
         },
         {
          "norm_I": 0.012865997609382344,
          "x": 4.624060150375939
         },
         {
          "norm_I": 0.014091954682866375,
          "x": 4.6992481203007515
         },
         {
          "norm_I": 0.015150692485139144,
          "x": 4.774436090225564
         },
         {
          "norm_I": 0.016023827859880952,
          "x": 4.849624060150376
         },
         {
          "norm_I": 0.016698956046852346,
          "x": 4.924812030075188
         },
         {
          "norm_I": 0.017169294621626904,
          "x": 5
         },
         {
          "norm_I": 0.017433271374338002,
          "x": 5.075187969924812
         },
         {
          "norm_I": 0.017494065206454856,
          "x": 5.150375939849624
         },
         {
          "norm_I": 0.017359109383105226,
          "x": 5.225563909774436
         },
         {
          "norm_I": 0.017039566587126635,
          "x": 5.3007518796992485
         },
         {
          "norm_I": 0.01654978518351961,
          "x": 5.375939849624061
         },
         {
          "norm_I": 0.01590674592511635,
          "x": 5.451127819548873
         },
         {
          "norm_I": 0.015129508019891418,
          "x": 5.526315789473681
         },
         {
          "norm_I": 0.014238663047071411,
          "x": 5.6015037593984935
         },
         {
          "norm_I": 0.013255804664314412,
          "x": 5.676691729323306
         },
         {
          "norm_I": 0.012203021404373007,
          "x": 5.751879699248118
         },
         {
          "norm_I": 0.011102419130632332,
          "x": 5.82706766917293
         },
         {
          "norm_I": 0.009975678921409218,
          "x": 5.902255639097742
         },
         {
          "norm_I": 0.00884365529823042,
          "x": 5.977443609022554
         },
         {
          "norm_I": 0.007726018819153287,
          "x": 6.052631578947366
         },
         {
          "norm_I": 0.006640946140324854,
          "x": 6.1278195488721785
         },
         {
          "norm_I": 0.005604859723005309,
          "x": 6.203007518796991
         },
         {
          "norm_I": 0.004632218444407302,
          "x": 6.278195488721803
         },
         {
          "norm_I": 0.0037353594734715677,
          "x": 6.353383458646615
         },
         {
          "norm_I": 0.002924390910794659,
          "x": 6.428571428571427
         },
         {
          "norm_I": 0.002207133877962838,
          "x": 6.503759398496239
         },
         {
          "norm_I": 0.001589111986905745,
          "x": 6.578947368421051
         },
         {
          "norm_I": 0.0010735854345545442,
          "x": 6.6541353383458635
         },
         {
          "norm_I": 0.0006616263605527582,
          "x": 6.729323308270676
         },
         {
          "norm_I": 0.0003522315829043296,
          "x": 6.804511278195488
         },
         {
          "norm_I": 0.00014246839346807537,
          "x": 6.8796992481203
         },
         {
          "norm_I": 2.7648755640236432e-05,
          "x": 6.954887218045112
         },
         {
          "norm_I": 1.5270022269131762e-06,
          "x": 7.030075187969924
         },
         {
          "norm_I": 5.651598254176102e-05,
          "x": 7.105263157894736
         },
         {
          "norm_I": 0.00018391655269730652,
          "x": 7.180451127819548
         },
         {
          "norm_I": 0.0003741553388760638,
          "x": 7.2556390977443606
         },
         {
          "norm_I": 0.0006170258256187905,
          "x": 7.330827067669173
         },
         {
          "norm_I": 0.0009019280240883795,
          "x": 7.406015037593985
         },
         {
          "norm_I": 0.0012181022519276246,
          "x": 7.481203007518797
         },
         {
          "norm_I": 0.0015548528987872773,
          "x": 7.556390977443609
         },
         {
          "norm_I": 0.0019017584510807083,
          "x": 7.631578947368421
         },
         {
          "norm_I": 0.0022488644965906446,
          "x": 7.706766917293233
         },
         {
          "norm_I": 0.0025868569143106123,
          "x": 7.7819548872180455
         },
         {
          "norm_I": 0.0029072129671681092,
          "x": 7.857142857142854
         },
         {
          "norm_I": 0.003202328544775374,
          "x": 7.932330827067666
         },
         {
          "norm_I": 0.003465620339905958,
          "x": 8.007518796992478
         },
         {
          "norm_I": 0.0036916022760896546,
          "x": 8.08270676691729
         },
         {
          "norm_I": 0.0038759360250741333,
          "x": 8.157894736842103
         },
         {
          "norm_I": 0.004015455953029023,
          "x": 8.233082706766915
         },
         {
          "norm_I": 0.004108169305097943,
          "x": 8.308270676691727
         },
         {
          "norm_I": 0.004153232871913653,
          "x": 8.383458646616539
         },
         {
          "norm_I": 0.004150907772603124,
          "x": 8.458646616541351
         },
         {
          "norm_I": 0.004102494331271996,
          "x": 8.533834586466163
         },
         {
          "norm_I": 0.004010249313707399,
          "x": 8.609022556390975
         },
         {
          "norm_I": 0.0038772880249350397,
          "x": 8.684210526315788
         },
         {
          "norm_I": 0.00370747394431433,
          "x": 8.7593984962406
         },
         {
          "norm_I": 0.0035052986921940876,
          "x": 8.834586466165412
         },
         {
          "norm_I": 0.0032757551810360824,
          "x": 8.909774436090224
         },
         {
          "norm_I": 0.003024206805666301,
          "x": 8.984962406015036
         },
         {
          "norm_I": 0.0027562554742647763,
          "x": 9.060150375939848
         },
         {
          "norm_I": 0.002477611177111641,
          "x": 9.13533834586466
         },
         {
          "norm_I": 0.0021939656380632073,
          "x": 9.210526315789473
         },
         {
          "norm_I": 0.001910872399060281,
          "x": 9.285714285714285
         },
         {
          "norm_I": 0.0016336354561099485,
          "x": 9.360902255639097
         },
         {
          "norm_I": 0.0013672083020609014,
          "x": 9.436090225563909
         },
         {
          "norm_I": 0.0011161049434056205,
          "x": 9.511278195488721
         },
         {
          "norm_I": 0.0008843241518173301,
          "x": 9.586466165413533
         },
         {
          "norm_I": 0.000675287892796382,
          "x": 9.661654135338345
         },
         {
          "norm_I": 0.0004917945502651279,
          "x": 9.736842105263158
         },
         {
          "norm_I": 0.00033598724366925724,
          "x": 9.81203007518797
         },
         {
          "norm_I": 0.00020933721930879715,
          "x": 9.887218045112782
         },
         {
          "norm_I": 0.00011264199605227176,
          "x": 9.962406015037594
         },
         {
          "norm_I": 4.6037662631044375e-05,
          "x": 10.037593984962406
         },
         {
          "norm_I": 9.024464160401309e-06,
          "x": 10.112781954887218
         },
         {
          "norm_I": 5.045835543798885e-07,
          "x": 10.18796992481203
         },
         {
          "norm_I": 1.883082257226911e-05,
          "x": 10.263157894736842
         },
         {
          "norm_I": 6.186472010736556e-05,
          "x": 10.338345864661651
         },
         {
          "norm_I": 0.00012704251399824854,
          "x": 10.413533834586463
         },
         {
          "norm_I": 0.00021144725833645688,
          "x": 10.488721804511275
         },
         {
          "norm_I": 0.000311885351423652,
          "x": 10.563909774436087
         },
         {
          "norm_I": 0.0004249657099089678,
          "x": 10.6390977443609
         },
         {
          "norm_I": 0.0005471798412095895,
          "x": 10.714285714285712
         },
         {
          "norm_I": 0.0006749811174070389,
          "x": 10.789473684210524
         },
         {
          "norm_I": 0.0008048616371230205,
          "x": 10.864661654135336
         },
         {
          "norm_I": 0.0009334251745642225,
          "x": 10.939849624060148
         },
         {
          "norm_I": 0.0010574548536592984,
          "x": 11.01503759398496
         },
         {
          "norm_I": 0.0011739743462701481,
          "x": 11.090225563909772
         },
         {
          "norm_I": 0.0012803015728092924,
          "x": 11.165413533834585
         },
         {
          "norm_I": 0.0013740940769797552,
          "x": 11.240601503759397
         },
         {
          "norm_I": 0.0014533854493866418,
          "x": 11.315789473684209
         },
         {
          "norm_I": 0.0015166123830240405,
          "x": 11.390977443609021
         },
         {
          "norm_I": 0.0015626321527384241,
          "x": 11.466165413533833
         },
         {
          "norm_I": 0.0015907305164655893,
          "x": 11.541353383458645
         },
         {
          "norm_I": 0.0016006202342999877,
          "x": 11.616541353383457
         },
         {
          "norm_I": 0.0015924305885364367,
          "x": 11.69172932330827
         },
         {
          "norm_I": 0.0015666884603289417,
          "x": 11.766917293233082
         },
         {
          "norm_I": 0.0015242916735503237,
          "x": 11.842105263157894
         },
         {
          "norm_I": 0.0014664754512734536,
          "x": 11.917293233082706
         },
         {
          "norm_I": 0.001394772942983169,
          "x": 11.992481203007518
         },
         {
          "norm_I": 0.0013109708696339823,
          "x": 12.06766917293233
         },
         {
          "norm_I": 0.0012170613979882068,
          "x": 12.142857142857142
         },
         {
          "norm_I": 0.0011151913948286986,
          "x": 12.218045112781954
         },
         {
          "norm_I": 0.001007610225691349,
          "x": 12.293233082706767
         },
         {
          "norm_I": 0.0008966172522624624,
          "x": 12.368421052631579
         },
         {
          "norm_I": 0.0007845101485724637,
          "x": 12.443609022556391
         },
         {
          "norm_I": 0.0006735351000708878,
          "x": 12.518796992481203
         },
         {
          "norm_I": 0.0005658398734689501,
          "x": 12.593984962406015
         },
         {
          "norm_I": 0.0004634306511156129,
          "x": 12.669172932330824
         },
         {
          "norm_I": 0.00036813341415478163,
          "x": 12.744360902255636
         },
         {
          "norm_I": 0.0002815605365528312,
          "x": 12.819548872180448
         },
         {
          "norm_I": 0.00020508312021487741,
          "x": 12.89473684210526
         },
         {
          "norm_I": 0.00013980946285982153,
          "x": 12.969924812030072
         },
         {
          "norm_I": 8.656990817306925e-05,
          "x": 13.045112781954884
         },
         {
          "norm_I": 4.590818505532186e-05,
          "x": 13.120300751879697
         },
         {
          "norm_I": 1.8079202504904214e-05,
          "x": 13.195488721804509
         },
         {
          "norm_I": 3.0531316370919818e-06,
          "x": 13.27067669172932
         },
         {
          "norm_I": 5.25479189044448e-07,
          "x": 13.345864661654133
         },
         {
          "norm_I": 9.932739972451172e-06,
          "x": 13.421052631578945
         },
         {
          "norm_I": 3.047311122255192e-05,
          "x": 13.496240601503757
         },
         {
          "norm_I": 6.113166143736276e-05,
          "x": 13.57142857142857
         },
         {
          "norm_I": 0.00010070927154410339,
          "x": 13.646616541353382
         },
         {
          "norm_I": 0.00014785460814483513,
          "x": 13.721804511278194
         },
         {
          "norm_I": 0.00020109834787725823,
          "x": 13.796992481203006
         },
         {
          "norm_I": 0.0002588888488964624,
          "x": 13.872180451127818
         },
         {
          "norm_I": 0.00031962846008062716,
          "x": 13.94736842105263
         },
         {
          "norm_I": 0.0003817096703662174,
          "x": 14.022556390977442
         },
         {
          "norm_I": 0.00044355032885987013,
          "x": 14.097744360902254
         },
         {
          "norm_I": 0.00050362720997007,
          "x": 14.172932330827066
         },
         {
          "norm_I": 0.0005605072553799509,
          "x": 14.248120300751879
         },
         {
          "norm_I": 0.0006128758946206754,
          "x": 14.32330827067669
         },
         {
          "norm_I": 0.000659561926470377,
          "x": 14.398496240601503
         },
         {
          "norm_I": 0.0006995585323981154,
          "x": 14.473684210526315
         },
         {
          "norm_I": 0.0007320400886770647,
          "x": 14.548872180451127
         },
         {
          "norm_I": 0.0007563745434148454,
          "x": 14.62406015037594
         },
         {
          "norm_I": 0.0007721312263746704,
          "x": 14.699248120300751
         },
         {
          "norm_I": 0.0007790840608934203,
          "x": 14.774436090225564
         },
         {
          "norm_I": 0.0007772102463126346,
          "x": 14.849624060150376
         },
         {
          "norm_I": 0.0007666845741053045,
          "x": 14.924812030075188
         },
         {
          "norm_I": 0.000747869629432488,
          "x": 15
         }
        ]
       },
       "encoding": {
        "x": {
         "field": "x",
         "type": "quantitative"
        },
        "y": {
         "field": "norm_I",
         "title": "I(x)/I₀",
         "type": "quantitative"
        }
       },
       "height": 150,
       "mark": {
        "filled": true,
        "opacity": 1,
        "size": 5,
        "type": "point"
       }
      },
      "image/png": "[encoded data removed]",
      "text/plain": [
       "<VegaLite 2 object>\n",
       "\n",
       "If you see this message, it means the renderer has not been properly enabled\n",
       "for the frontend that you are using. For more information, see\n",
       "https://altair-viz.github.io/user_guide/troubleshooting.html\n"
      ]
     },
     "execution_count": 30,
     "metadata": {},
     "output_type": "execute_result"
    }
   ],
   "source": [
    "alt.Chart(df_airy,\n",
    "        height=150\n",
    "    ).mark_point(\n",
    "        size=5,\n",
    "        filled=True,\n",
    "        opacity=1\n",
    "    ).encode(\n",
    "        x='x:Q',\n",
    "        y=alt.Y('norm_I:Q', title='I(x)/I₀'))"
   ]
  },
  {
   "cell_type": "markdown",
   "metadata": {},
   "source": [
    "There is one detail I swept under the rug here. What happens if we compute the function for $x = 0$?"
   ]
  },
  {
   "cell_type": "code",
   "execution_count": 31,
   "metadata": {},
   "outputs": [
    {
     "name": "stderr",
     "output_type": "stream",
     "text": [
      "/anaconda3/lib/python3.6/site-packages/ipykernel_launcher.py:1: RuntimeWarning: invalid value encountered in double_scalars\n",
      "  \"\"\"Entry point for launching an IPython kernel.\n"
     ]
    },
    {
     "data": {
      "text/plain": [
       "nan"
      ]
     },
     "execution_count": 31,
     "metadata": {},
     "output_type": "execute_result"
    }
   ],
   "source": [
    "4 * (scipy.special.j1(0) / 0)**2"
   ]
  },
  {
   "cell_type": "markdown",
   "metadata": {},
   "source": [
    "We get a `RuntimeWarning` because we divided by zero. We know that\n",
    "\n",
    "\\begin{align}\n",
    "\\lim_{x\\to 0} \\frac{J_1(x)}{x} = \\frac{1}{2},\n",
    "\\end{align}\n",
    "\n",
    "so we could write a new function that checks if $x = 0$ and returns the appropriate limit for $x = 0$. In the `x` array I constructed for the plot, we hopped over zero, so it was never evaluated."
   ]
  },
  {
   "cell_type": "markdown",
   "metadata": {},
   "source": [
    "## Plotting ECDFs\n",
    "\n",
    "We have mentioned them many times so far in the bootcamp, and now it is time to plot ECDFs. Remember, an ECDF evaluated at x for a set of measurements is defined as\n",
    "\n",
    "> ECDF(*x*) = fraction of measurements ≤ *x*.\n",
    "\n",
    "If we have a `DataFrame`, we can compute the y-values of the ECDF to go with the quantitative column of interest. We worked out a function to compute the ECDF values in a previous lesson. I included the function in the `bootcamp_utils`. As a reminder, here is its full specification."
   ]
  },
  {
   "cell_type": "code",
   "execution_count": 32,
   "metadata": {},
   "outputs": [
    {
     "name": "stdout",
     "output_type": "stream",
     "text": [
      "Object `bootcamp_utils.ecdf_y` not found.\n"
     ]
    }
   ],
   "source": [
    "bootcamp_utils.ecdf_y??"
   ]
  },
  {
   "cell_type": "markdown",
   "metadata": {},
   "source": [
    "Let's use this to make a plot of ECDFs of facial matching data for insomniacs and non-insomniacs. We'll start by loading the data and including the insomnia column."
   ]
  },
  {
   "cell_type": "code",
   "execution_count": 33,
   "metadata": {},
   "outputs": [],
   "source": [
    "# Load in the data set\n",
    "df = pd.read_csv('data/gfmt_sleep.csv', comment='#')\n",
    "\n",
    "# Compute insomnia\n",
    "df['insomnia'] = df['sci'] <= 16"
   ]
  },
  {
   "cell_type": "markdown",
   "metadata": {},
   "source": [
    "Now, we can group by the `insomnia` column and apply the transform defined in the `ecdf_y()` function."
   ]
  },
  {
   "cell_type": "code",
   "execution_count": 34,
   "metadata": {},
   "outputs": [
    {
     "ename": "AttributeError",
     "evalue": "module 'bootcamp_utils' has no attribute 'ecdf_y'",
     "output_type": "error",
     "traceback": [
      "\u001b[0;31m---------------------------------------------------------------------------\u001b[0m",
      "\u001b[0;31mAttributeError\u001b[0m                            Traceback (most recent call last)",
      "\u001b[0;32m<ipython-input-34-32535c8d1325>\u001b[0m in \u001b[0;36m<module>\u001b[0;34m()\u001b[0m\n\u001b[1;32m      1\u001b[0m \u001b[0;31m# Compute y-values for the ECDF for percent correct for each gender\u001b[0m\u001b[0;34m\u001b[0m\u001b[0;34m\u001b[0m\u001b[0m\n\u001b[1;32m      2\u001b[0m \u001b[0mgrouped\u001b[0m \u001b[0;34m=\u001b[0m \u001b[0mdf\u001b[0m\u001b[0;34m.\u001b[0m\u001b[0mgroupby\u001b[0m\u001b[0;34m(\u001b[0m\u001b[0;34m'insomnia'\u001b[0m\u001b[0;34m)\u001b[0m\u001b[0;34m\u001b[0m\u001b[0m\n\u001b[0;32m----> 3\u001b[0;31m \u001b[0mdf\u001b[0m\u001b[0;34m[\u001b[0m\u001b[0;34m'ecdf_y grouped by insomnia'\u001b[0m\u001b[0;34m]\u001b[0m \u001b[0;34m=\u001b[0m \u001b[0mgrouped\u001b[0m\u001b[0;34m[\u001b[0m\u001b[0;34m'percent correct'\u001b[0m\u001b[0;34m]\u001b[0m\u001b[0;34m.\u001b[0m\u001b[0mtransform\u001b[0m\u001b[0;34m(\u001b[0m\u001b[0mbootcamp_utils\u001b[0m\u001b[0;34m.\u001b[0m\u001b[0mecdf_y\u001b[0m\u001b[0;34m)\u001b[0m\u001b[0;34m\u001b[0m\u001b[0m\n\u001b[0m",
      "\u001b[0;31mAttributeError\u001b[0m: module 'bootcamp_utils' has no attribute 'ecdf_y'"
     ]
    }
   ],
   "source": [
    "# Compute y-values for the ECDF for percent correct for each gender\n",
    "grouped = df.groupby('insomnia')\n",
    "df['ecdf_y grouped by insomnia'] = grouped['percent correct'].transform(bootcamp_utils.ecdf_y)"
   ]
  },
  {
   "cell_type": "markdown",
   "metadata": {},
   "source": [
    "And finally, we're ready to plot the ECDF."
   ]
  },
  {
   "cell_type": "code",
   "execution_count": null,
   "metadata": {},
   "outputs": [],
   "source": [
    "alt.Chart(df,\n",
    "    ).mark_point(\n",
    "    ).encode(\n",
    "        x=alt.X('percent correct:Q', scale=alt.Scale(zero=False)),\n",
    "        y=alt.Y('ecdf_y grouped by insomnia:Q', title='ECDF'),\n",
    "        color=alt.Color('insomnia:N'))"
   ]
  },
  {
   "cell_type": "markdown",
   "metadata": {},
   "source": [
    "Look for example at the data point at 50% correct. That point in the ECDF denotes that about 8% of observations from insomniacs had 50% or less correct responses in the test.\n",
    "\n",
    "Plotting the ECDF explicitly shows all data points. However, this is strictly speaking not a plot of an ECDF. Remember the y-value of the an ECDF at point *x* is the fraction of all observations less than or equal to *x*. This means that the support of the ECDF is on the entire real number line. In otherwords, the ECDF does have a value at 52% correct. Specifically, ECDF(52) = 0.08. So, formally, the ECDF should be plotted as a line. This requires us to fill in more points than are available in the `DataFrame`, which means we can do some Numpy wrangling. I wrote a function in the `bootcamp_utils` module to do this. Below is the function, and you can look carefully at how I sliced the Numpy arrays to generate a clear staircase-like ECDF."
   ]
  },
  {
   "cell_type": "code",
   "execution_count": null,
   "metadata": {},
   "outputs": [],
   "source": [
    "bootcamp_utils.ecdf_vals??"
   ]
  },
  {
   "cell_type": "markdown",
   "metadata": {},
   "source": [
    "Also included in the module is a handy function to give you a `DataFrame` that you can use to plot formal ECDFs (or ECDFs with dots if you like) using Altair."
   ]
  },
  {
   "cell_type": "code",
   "execution_count": null,
   "metadata": {},
   "outputs": [],
   "source": [
    "df_ecdf = bootcamp_utils.ecdf_dataframe(df, 'percent correct', color='insomnia', formal=True)\n",
    "\n",
    "df_ecdf.head()"
   ]
  },
  {
   "cell_type": "markdown",
   "metadata": {},
   "source": [
    "Looks good."
   ]
  },
  {
   "cell_type": "code",
   "execution_count": null,
   "metadata": {},
   "outputs": [],
   "source": [
    "formal = alt.Chart(df_ecdf\n",
    "    ).mark_line(\n",
    "    ).encode(\n",
    "        x='percent correct:Q',\n",
    "        y='ECDF:Q',\n",
    "        color='insomnia:N',\n",
    "        order='percent correct:Q')\n",
    "\n",
    "formal"
   ]
  },
  {
   "cell_type": "markdown",
   "metadata": {},
   "source": [
    "Here are a couple of formal ECDFs. To see how they relate to ECDFs with dots, we can overlay the two."
   ]
  },
  {
   "cell_type": "code",
   "execution_count": null,
   "metadata": {},
   "outputs": [],
   "source": [
    "dots = alt.Chart(df,\n",
    "    ).mark_point(\n",
    "    ).encode(\n",
    "        x=alt.X('percent correct:Q', scale=alt.Scale(zero=False)),\n",
    "        y=alt.Y('ecdf_y grouped by insomnia:Q', title='ECDF'),\n",
    "        color=alt.Color('insomnia:N', legend=None))\n",
    "\n",
    "formal + dots"
   ]
  },
  {
   "cell_type": "markdown",
   "metadata": {},
   "source": [
    "The dots are the concave corners of steps in the staircase. They give the same amount of information as the steps. For intermediate numbers of points in a data set, I prefer dots. For large or very small data sets, I prefer formal ECDFs."
   ]
  }
 ],
 "metadata": {
  "anaconda-cloud": {},
  "kernelspec": {
   "display_name": "Python 3",
   "language": "python",
   "name": "python3"
  },
  "language_info": {
   "codemirror_mode": {
    "name": "ipython",
    "version": 3
   },
   "file_extension": ".py",
   "mimetype": "text/x-python",
   "name": "python",
   "nbconvert_exporter": "python",
   "pygments_lexer": "ipython3",
   "version": "3.6.5"
  }
 },
 "nbformat": 4,
 "nbformat_minor": 2
}
