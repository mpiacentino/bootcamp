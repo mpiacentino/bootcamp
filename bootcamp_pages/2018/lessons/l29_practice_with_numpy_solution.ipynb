{
 "cells": [
  {
   "cell_type": "markdown",
   "metadata": {},
   "source": [
    "# Lesson 29: Practice with Numpy *solutions*\n",
    "\n",
    "(c) 2018 Justin Bois. With the exception of pasted graphics, where the source is noted, this work is licensed under a [Creative Commons Attribution License CC-BY 4.0](https://creativecommons.org/licenses/by/4.0/). All code contained herein is licensed under an [MIT license](https://opensource.org/licenses/MIT).\n",
    "\n",
    "This document was prepared at [Caltech](http://www.caltech.edu) with financial support from the [Donna and Benjamin M. Rosen Bioengineering Center](http://rosen.caltech.edu).\n",
    "\n",
    "<img src=\"caltech_rosen.png\">\n",
    "\n",
    "*This lesson was generated from a Jupyter notebook.  You can download the notebook [here](l29_practice_with_numpy_solution.ipynb).*\n",
    "\n",
    "<br /> <br />"
   ]
  },
  {
   "cell_type": "code",
   "execution_count": 1,
   "metadata": {
    "collapsed": true
   },
   "outputs": [],
   "source": [
    "import numpy as np\n",
    "import scipy.stats\n",
    "import pandas as pd\n",
    "\n",
    "import altair as alt\n",
    "\n",
    "import bootcamp_utils"
   ]
  },
  {
   "cell_type": "markdown",
   "metadata": {},
   "source": [
    "Numpy arrays can take a while to get the hang of. Therefore, it's important to practice practice practice!"
   ]
  },
  {
   "cell_type": "markdown",
   "metadata": {},
   "source": [
    "## Practice 1: Generating arrays of sequential numbers\n",
    "\n",
    "The functions `np.arange()` and `np.linspace()` are really useful, as we've seen in the last lesson when plotting smooth functions.\n",
    "\n",
    "1. Read their documentation (either using JupyterLab, e.g., `np.arange?`, or by reading the respective webpages ([`np.arange`](http://docs.scipy.org/doc/numpy/reference/generated/numpy.arange.html), [`np.linspace`](http://docs.scipy.org/doc/numpy/reference/generated/numpy.linspace.html))).\n",
    "2. Use `np.arange()` to make an array of numbers 0 through 10.\n",
    "3. Do the same using `np.linspace()`.\n",
    "4. Make sure the data type of each of those arrays is a `float`."
   ]
  },
  {
   "cell_type": "markdown",
   "metadata": {},
   "source": [
    "### Practice 1: solution"
   ]
  },
  {
   "cell_type": "code",
   "execution_count": 2,
   "metadata": {},
   "outputs": [
    {
     "data": {
      "text/plain": [
       "array([ 0.,  1.,  2.,  3.,  4.,  5.,  6.,  7.,  8.,  9., 10.])"
      ]
     },
     "execution_count": 2,
     "metadata": {},
     "output_type": "execute_result"
    }
   ],
   "source": [
    "# Integers (as floats) 0 through 10\n",
    "np.arange(11, dtype=float)"
   ]
  },
  {
   "cell_type": "code",
   "execution_count": 3,
   "metadata": {},
   "outputs": [
    {
     "data": {
      "text/plain": [
       "array([ 0.,  1.,  2.,  3.,  4.,  5.,  6.,  7.,  8.,  9., 10.])"
      ]
     },
     "execution_count": 3,
     "metadata": {},
     "output_type": "execute_result"
    }
   ],
   "source": [
    "# Integers 0 through 10 with np.linspace()\n",
    "np.linspace(0, 10, 11)"
   ]
  },
  {
   "cell_type": "markdown",
   "metadata": {},
   "source": [
    "<br />"
   ]
  },
  {
   "cell_type": "markdown",
   "metadata": {},
   "source": [
    "## Practice 2: Computing things!\n",
    "\n",
    "In the last lesson, we looked at a data set from Harvey and Orbidans on the cross-sectional area of *C. elegans* eggs. Recall, we loaded the data and converted everything to Numpy arrays like this:"
   ]
  },
  {
   "cell_type": "code",
   "execution_count": 4,
   "metadata": {},
   "outputs": [],
   "source": [
    "df = pd.read_csv('data/c_elegans_egg_xa.csv', comment='#')\n",
    "df = df.rename(columns={'area (sq. um)': 'area (sq um)'})\n",
    "\n",
    "xa_high = df.loc[df['food']=='high', 'area (sq um)'].values\n",
    "xa_low = df.loc[df['food']=='low', 'area (sq um)'].values"
   ]
  },
  {
   "cell_type": "markdown",
   "metadata": {},
   "source": [
    "Now we would like to compute the diameter of the egg from the cross-sectional area. Write a function that takes in an array of cross-sectional areas and returns an array of diameters. Recall that the diameter $d$ and cross-sectional area $A$ are related by $A = \\pi d^2/4$. There should be no `for` loops in your function!\n",
    "\n",
    "Below, is a skeleton for your function for you to fill in."
   ]
  },
  {
   "cell_type": "code",
   "execution_count": 5,
   "metadata": {
    "collapsed": true
   },
   "outputs": [],
   "source": [
    "def xa_to_diameter(xa):\n",
    "    \"\"\"\n",
    "    Convert an array of cross-sectional areas\n",
    "    to diameters with commensurate units.\n",
    "    \"\"\"\n",
    "    \n",
    "    # Compute diameter from area\n",
    "    diameter = ____\n",
    "    \n",
    "    return diameter"
   ]
  },
  {
   "cell_type": "markdown",
   "metadata": {},
   "source": [
    "Use your function to compute the diameters of the eggs."
   ]
  },
  {
   "cell_type": "markdown",
   "metadata": {},
   "source": [
    "### Practice 2: solution"
   ]
  },
  {
   "cell_type": "code",
   "execution_count": 6,
   "metadata": {},
   "outputs": [
    {
     "name": "stdout",
     "output_type": "stream",
     "text": [
      "Diameters of eggs from well fed mothers:\n",
      " [46.29105911 51.22642581 47.76657057 48.5596503  51.59790585 47.61973991\n",
      " 49.33998388 47.89966242 47.21697198 46.94654036 49.08125119 49.84064959\n",
      " 47.9926071  46.29105911 47.69988539 48.40207395 48.15152345 49.3141717\n",
      " 49.57168871 47.87307365 48.30991705 46.29105911 46.12573337 46.24978308\n",
      " 46.41466697 47.87307365 48.15152345 48.95137203 45.72372833 47.18999856\n",
      " 46.68817945 45.98750791 46.53794651 52.2111661  48.70364742 47.23045291\n",
      " 47.06842687 46.81073869 45.97366251 49.57168871 50.8397116  48.54653847\n",
      " 52.08909166 48.24398292]\n",
      "\n",
      "Diameters of eggs from poorly fed mothers:\n",
      " [48.40207395 51.58556628 52.55146594 50.31103472 53.06982074 54.57203767\n",
      " 50.32368681 52.24773281 53.99739399 49.44309786 53.87936676 47.9926071\n",
      " 52.41804019 47.87307365 52.11352942 51.21399674 52.44232467 50.47526453\n",
      " 50.8397116  51.56087828 49.84064959 55.96578669 50.72688754 50.58864976\n",
      " 52.18677405 52.44232467 51.78264653 52.57568879 51.86863366 52.67246879\n",
      " 49.05530287 52.67246879 50.72688754 50.07003758 52.32078957 49.18490759\n",
      " 53.72554372 46.67454189 49.19784929 51.88090591 51.85635852 54.8280819\n",
      " 52.07686848 51.22642581 51.96673046 48.29673743 53.04582353 52.07686848\n",
      " 52.35727972 50.57606396 51.70882946 53.54750652 52.23554675 53.54750652\n",
      " 53.18964437 51.96673046 55.38261517]\n"
     ]
    }
   ],
   "source": [
    "def xa_to_diameter(xa):\n",
    "    \"\"\"\n",
    "    Convert an array of cross-sectional areas\n",
    "    to diameters with commensurate units.\n",
    "    \"\"\"\n",
    "    \n",
    "    # Compute diameter from area\n",
    "    diameter = 2 * np.sqrt(xa / np.pi)\n",
    "    \n",
    "    return diameter\n",
    "\n",
    "print('Diameters of eggs from well fed mothers:\\n', xa_to_diameter(xa_high))\n",
    "print('\\nDiameters of eggs from poorly fed mothers:\\n', xa_to_diameter(xa_low))"
   ]
  },
  {
   "cell_type": "markdown",
   "metadata": {},
   "source": [
    "<br />"
   ]
  },
  {
   "cell_type": "markdown",
   "metadata": {},
   "source": [
    "## Practice 3: Working with two-dimensional arrays\n",
    "\n",
    "Numpy enables you do to matrix calculations on two-dimensional arrays. In exercise, you will practice doing matrix calculations on arrays. We'll start by making a matrix and a vector to practice with. You can copy and paste the code below."
   ]
  },
  {
   "cell_type": "code",
   "execution_count": 7,
   "metadata": {},
   "outputs": [],
   "source": [
    "A = np.array([[6.7, 1.3, 0.6, 0.7],\n",
    "              [0.1, 5.5, 0.4, 2.4],\n",
    "              [1.1, 0.8, 4.5, 1.7],\n",
    "              [0.0, 1.5, 3.4, 7.5]])\n",
    "\n",
    "b = np.array([1.1, 2.3, 3.3, 3.9])"
   ]
  },
  {
   "cell_type": "markdown",
   "metadata": {},
   "source": [
    "**a)** First, let's practice slicing.\n",
    "\n",
    "1. Print row 1 (remember, indexing starts at zero) of `A`.\n",
    "2. Print columns 1 and 3 of `A`.\n",
    "3. Print the values of every entry in `A` that is greater than 2.\n",
    "4. Print the diagonal of `A`. using the `np.diag()` function."
   ]
  },
  {
   "cell_type": "markdown",
   "metadata": {},
   "source": [
    "#### Solution"
   ]
  },
  {
   "cell_type": "code",
   "execution_count": 8,
   "metadata": {},
   "outputs": [
    {
     "name": "stdout",
     "output_type": "stream",
     "text": [
      "[0.1 5.5 0.4 2.4]\n",
      "[[1.3 0.7]\n",
      " [5.5 2.4]\n",
      " [0.8 1.7]\n",
      " [1.5 7.5]]\n",
      "[6.7 5.5 2.4 4.5 3.4 7.5]\n",
      "[6.7 5.5 4.5 7.5]\n"
     ]
    }
   ],
   "source": [
    "# 1.\n",
    "print(A[1,:])\n",
    "\n",
    "# 2.\n",
    "print(A[:,[1,3]])\n",
    "\n",
    "# 3. \n",
    "print(A[A>2])\n",
    "\n",
    "# 4.\n",
    "print(np.diag(A))"
   ]
  },
  {
   "cell_type": "markdown",
   "metadata": {},
   "source": [
    "**b)** The `np.linalg` module has some powerful linear algebra tools. \n",
    "\n",
    "1. First, we'll solve the linear system $\\mathsf{A}\\cdot \\mathbf{x} = \\mathbf{b}$. Try it out: use `np.linalg.solve()`. Store your answer in the Numpy array `x`.\n",
    "2. Now do `np.dot(A, x)` to verify that $\\mathsf{A}\\cdot \\mathbf{x} = \\mathbf{b}$.\n",
    "3. Use `np.transpose()` to compute the transpose of `A`.\n",
    "4. Use `np.linalg.inv()` to compute the inverse of `A`."
   ]
  },
  {
   "cell_type": "markdown",
   "metadata": {},
   "source": [
    "#### Solution"
   ]
  },
  {
   "cell_type": "code",
   "execution_count": 9,
   "metadata": {},
   "outputs": [
    {
     "name": "stdout",
     "output_type": "stream",
     "text": [
      "A . x:\n",
      " [1.1 2.3 3.3 3.9]\n",
      "\n",
      "b:\n",
      " [1.1 2.3 3.3 3.9]\n",
      "\n",
      "transpose of A:\n",
      " [[6.7 0.1 1.1 0. ]\n",
      " [1.3 5.5 0.8 1.5]\n",
      " [0.6 0.4 4.5 3.4]\n",
      " [0.7 2.4 1.7 7.5]]\n",
      "\n",
      "inverse of A:\n",
      " [[ 0.15267508 -0.03365026 -0.01778     0.00054854]\n",
      " [-0.00906001  0.19788853  0.03719385 -0.07090934]\n",
      " [-0.04391535 -0.0144834   0.26880108 -0.05219479]\n",
      " [ 0.02172029 -0.0330119  -0.12929526  0.17117684]]\n"
     ]
    }
   ],
   "source": [
    "# 1.\n",
    "x = np.linalg.solve(A, b)\n",
    "\n",
    "# 2.\n",
    "print('A . x:\\n', np.dot(A, x))\n",
    "print('\\nb:\\n', b)\n",
    "\n",
    "# 3.\n",
    "print('\\ntranspose of A:\\n', np.transpose(A))\n",
    "\n",
    "# 4.\n",
    "print('\\ninverse of A:\\n', np.linalg.inv(A))"
   ]
  },
  {
   "cell_type": "markdown",
   "metadata": {},
   "source": [
    "**c)** Sometimes you want to convert a two-dimensional array to a one-dimensional array. This can be done with `np.ravel()`. \n",
    "\n",
    "1. See what happens when you do `B = np.ravel(A)`.\n",
    "2. Look of the documentation for `np.reshape()`. Then, reshape `B` to make it look like `A` again."
   ]
  },
  {
   "cell_type": "markdown",
   "metadata": {},
   "source": [
    "#### Solution"
   ]
  },
  {
   "cell_type": "code",
   "execution_count": 10,
   "metadata": {},
   "outputs": [
    {
     "name": "stdout",
     "output_type": "stream",
     "text": [
      "[6.7 1.3 0.6 0.7 0.1 5.5 0.4 2.4 1.1 0.8 4.5 1.7 0.  1.5 3.4 7.5]\n"
     ]
    },
    {
     "data": {
      "text/plain": [
       "array([[6.7, 1.3, 0.6, 0.7],\n",
       "       [0.1, 5.5, 0.4, 2.4],\n",
       "       [1.1, 0.8, 4.5, 1.7],\n",
       "       [0. , 1.5, 3.4, 7.5]])"
      ]
     },
     "execution_count": 10,
     "metadata": {},
     "output_type": "execute_result"
    }
   ],
   "source": [
    "# 1.\n",
    "B = np.ravel(A)\n",
    "print(B)\n",
    "\n",
    "# 2.\n",
    "np.reshape(B, A.shape)"
   ]
  },
  {
   "cell_type": "markdown",
   "metadata": {},
   "source": [
    "<br />"
   ]
  },
  {
   "cell_type": "markdown",
   "metadata": {},
   "source": [
    "## Practice 4: Are they Normally distributed?\n",
    "\n",
    "We might be interested to see if the egg cross-section data follow a Normal distribution. After all, this is commonly an underlying assumption when people report data from repeated measurements in the literature.\n",
    "\n",
    "One way to assess this is to plot the theoretical CDF with the same mean and standard deviation as the data on top of the ECDFs. (There are better graphical ways to do this, but this is ok for our purposes here.)  We know the cumulative distribution function for a Normal distribution with mean $\\mu$ and standard deviation $\\sigma$ is\n",
    "\n",
    "\\begin{align}\n",
    "\\mathrm{cdf}(x) = \\frac{1}{2}\\left(1 + \\mathrm{erf}\\left(\\frac{x - \\mu}{\\sqrt{2\\sigma^2}}\\right)\\right),\n",
    "\\end{align}\n",
    "\n",
    "but instead of coding this up directly, we can use the `scipy.stats` to do it for us!  We just need to supply where we want the CDF evaluated ($x$), and the mean (the location parameter) and standard deviation (the scale parameter). Something like this:"
   ]
  },
  {
   "cell_type": "code",
   "execution_count": 11,
   "metadata": {},
   "outputs": [],
   "source": [
    "# Make smooth x-values\n",
    "x = np.linspace(1600, 2500, 400)\n",
    "\n",
    "# Compute theoretical Normal distribution\n",
    "cdf_theor = scipy.stats.norm.cdf(x, loc=np.mean(xa_low), scale=np.std(xa_low))"
   ]
  },
  {
   "cell_type": "markdown",
   "metadata": {},
   "source": [
    "Now, let's make the plot.\n",
    "\n",
    ">1. Generate a data frame that you can use to plot the ECDFs of egg cross-sectional area for worms with high food and low food. I would prefer to plot it with the \"dot\" style, but it is up to you.\n",
    "2. Make smooth curves of the Normal CDF using `scipy.stats.norm.cdf()` and place them in a data frame suitable for plotting.\n",
    "3. Make plots of the smooth curves and the data."
   ]
  },
  {
   "cell_type": "markdown",
   "metadata": {},
   "source": [
    "### Practice 5: solution"
   ]
  },
  {
   "cell_type": "code",
   "execution_count": 12,
   "metadata": {},
   "outputs": [
    {
     "data": {
      "application/vnd.vegalite.v2+json": {
       "$schema": "https://vega.github.io/schema/vega-lite/v2.4.3.json",
       "config": {
        "view": {
         "height": 300,
         "width": 400
        }
       },
       "layer": [
        {
         "data": {
          "values": [
           {
            "CDF": 0.04420057860978663,
            "food": "high",
            "x": 1600
           },
           {
            "CDF": 0.04586190567247589,
            "food": "high",
            "x": 1602.2556390977443
           },
           {
            "CDF": 0.04757304438470959,
            "food": "high",
            "x": 1604.5112781954888
           },
           {
            "CDF": 0.04933494744503608,
            "food": "high",
            "x": 1606.766917293233
           },
           {
            "CDF": 0.05114856419946761,
            "food": "high",
            "x": 1609.0225563909773
           },
           {
            "CDF": 0.05301483965582791,
            "food": "high",
            "x": 1611.2781954887218
           },
           {
            "CDF": 0.05493471347457498,
            "food": "high",
            "x": 1613.5338345864661
           },
           {
            "CDF": 0.05690911893698446,
            "food": "high",
            "x": 1615.7894736842106
           },
           {
            "CDF": 0.05893898189164127,
            "food": "high",
            "x": 1618.045112781955
           },
           {
            "CDF": 0.06102521968026513,
            "food": "high",
            "x": 1620.3007518796992
           },
           {
            "CDF": 0.06316874004395152,
            "food": "high",
            "x": 1622.5563909774437
           },
           {
            "CDF": 0.06537044001098517,
            "food": "high",
            "x": 1624.812030075188
           },
           {
            "CDF": 0.06763120476744881,
            "food": "high",
            "x": 1627.0676691729323
           },
           {
            "CDF": 0.06995190651190873,
            "food": "high",
            "x": 1629.3233082706768
           },
           {
            "CDF": 0.07233340329553134,
            "food": "high",
            "x": 1631.578947368421
           },
           {
            "CDF": 0.07477653784904675,
            "food": "high",
            "x": 1633.8345864661653
           },
           {
            "CDF": 0.0772821363980314,
            "food": "high",
            "x": 1636.0902255639098
           },
           {
            "CDF": 0.07985100746804896,
            "food": "high",
            "x": 1638.345864661654
           },
           {
            "CDF": 0.08248394068124748,
            "food": "high",
            "x": 1640.6015037593984
           },
           {
            "CDF": 0.08518170554606075,
            "food": "high",
            "x": 1642.857142857143
           },
           {
            "CDF": 0.08794505024172206,
            "food": "high",
            "x": 1645.1127819548872
           },
           {
            "CDF": 0.09077470039935337,
            "food": "high",
            "x": 1647.3684210526317
           },
           {
            "CDF": 0.0936713578814316,
            "food": "high",
            "x": 1649.624060150376
           },
           {
            "CDF": 0.09663569956149498,
            "food": "high",
            "x": 1651.8796992481202
           },
           {
            "CDF": 0.09966837610598422,
            "food": "high",
            "x": 1654.1353383458647
           },
           {
            "CDF": 0.10277001076016096,
            "food": "high",
            "x": 1656.390977443609
           },
           {
            "CDF": 0.10594119814008424,
            "food": "high",
            "x": 1658.6466165413533
           },
           {
            "CDF": 0.10918250303265459,
            "food": "high",
            "x": 1660.9022556390978
           },
           {
            "CDF": 0.11249445920577045,
            "food": "high",
            "x": 1663.157894736842
           },
           {
            "CDF": 0.11587756823067014,
            "food": "high",
            "x": 1665.4135338345864
           },
           {
            "CDF": 0.11933229831854913,
            "food": "high",
            "x": 1667.6691729323309
           },
           {
            "CDF": 0.1228590831735677,
            "food": "high",
            "x": 1669.9248120300751
           },
           {
            "CDF": 0.12645832086437847,
            "food": "high",
            "x": 1672.1804511278197
           },
           {
            "CDF": 0.1301303727163064,
            "food": "high",
            "x": 1674.436090225564
           },
           {
            "CDF": 0.13387556222633407,
            "food": "high",
            "x": 1676.6917293233082
           },
           {
            "CDF": 0.13769417400303058,
            "food": "high",
            "x": 1678.9473684210527
           },
           {
            "CDF": 0.1415864527335703,
            "food": "high",
            "x": 1681.203007518797
           },
           {
            "CDF": 0.14555260217998045,
            "food": "high",
            "x": 1683.4586466165413
           },
           {
            "CDF": 0.14959278420673483,
            "food": "high",
            "x": 1685.7142857142858
           },
           {
            "CDF": 0.15370711784180047,
            "food": "high",
            "x": 1687.96992481203
           },
           {
            "CDF": 0.15789567837322704,
            "food": "high",
            "x": 1690.2255639097743
           },
           {
            "CDF": 0.1621584964833261,
            "food": "high",
            "x": 1692.4812030075188
           },
           {
            "CDF": 0.16649555742246958,
            "food": "high",
            "x": 1694.7368421052631
           },
           {
            "CDF": 0.17090680022449706,
            "food": "high",
            "x": 1696.9924812030076
           },
           {
            "CDF": 0.1753921169656698,
            "food": "high",
            "x": 1699.248120300752
           },
           {
            "CDF": 0.17995135206907786,
            "food": "high",
            "x": 1701.5037593984962
           },
           {
            "CDF": 0.18458430165634,
            "food": "high",
            "x": 1703.7593984962407
           },
           {
            "CDF": 0.189290712948388,
            "food": "high",
            "x": 1706.015037593985
           },
           {
            "CDF": 0.19407028371706803,
            "food": "high",
            "x": 1708.2706766917292
           },
           {
            "CDF": 0.19892266178921142,
            "food": "high",
            "x": 1710.5263157894738
           },
           {
            "CDF": 0.2038474446047715,
            "food": "high",
            "x": 1712.781954887218
           },
           {
            "CDF": 0.20884417883054363,
            "food": "high",
            "x": 1715.0375939849623
           },
           {
            "CDF": 0.21391236003089514,
            "food": "high",
            "x": 1717.2932330827068
           },
           {
            "CDF": 0.2190514323968623,
            "food": "high",
            "x": 1719.548872180451
           },
           {
            "CDF": 0.22426078853487724,
            "food": "high",
            "x": 1721.8045112781956
           },
           {
            "CDF": 0.22953976931628606,
            "food": "high",
            "x": 1724.0601503759399
           },
           {
            "CDF": 0.23488766378874432,
            "food": "high",
            "x": 1726.3157894736842
           },
           {
            "CDF": 0.2403037091504504,
            "food": "high",
            "x": 1728.5714285714287
           },
           {
            "CDF": 0.24578709078809274,
            "food": "high",
            "x": 1730.827067669173
           },
           {
            "CDF": 0.2513369423792783,
            "food": "high",
            "x": 1733.0827067669172
           },
           {
            "CDF": 0.2569523460600853,
            "food": "high",
            "x": 1735.3383458646617
           },
           {
            "CDF": 0.26263233265828834,
            "food": "high",
            "x": 1737.593984962406
           },
           {
            "CDF": 0.26837588199268303,
            "food": "high",
            "x": 1739.8496240601503
           },
           {
            "CDF": 0.27418192323881274,
            "food": "high",
            "x": 1742.1052631578948
           },
           {
            "CDF": 0.2800493353612882,
            "food": "high",
            "x": 1744.360902255639
           },
           {
            "CDF": 0.2859769476127756,
            "food": "high",
            "x": 1746.6165413533836
           },
           {
            "CDF": 0.2919635400995835,
            "food": "high",
            "x": 1748.8721804511279
           },
           {
            "CDF": 0.29800784441368716,
            "food": "high",
            "x": 1751.1278195488721
           },
           {
            "CDF": 0.30410854433087325,
            "food": "high",
            "x": 1753.3834586466166
           },
           {
            "CDF": 0.310264276574581,
            "food": "high",
            "x": 1755.639097744361
           },
           {
            "CDF": 0.3164736316448919,
            "food": "high",
            "x": 1757.8947368421052
           },
           {
            "CDF": 0.3227351547119774,
            "food": "high",
            "x": 1760.1503759398497
           },
           {
            "CDF": 0.3290473465732034,
            "food": "high",
            "x": 1762.406015037594
           },
           {
            "CDF": 0.3354086646729687,
            "food": "high",
            "x": 1764.6616541353383
           },
           {
            "CDF": 0.3418175241842121,
            "food": "high",
            "x": 1766.9172932330828
           },
           {
            "CDF": 0.3482722991504168,
            "food": "high",
            "x": 1769.172932330827
           },
           {
            "CDF": 0.35477132368682296,
            "food": "high",
            "x": 1771.4285714285716
           },
           {
            "CDF": 0.36131289323941385,
            "food": "high",
            "x": 1773.6842105263158
           },
           {
            "CDF": 0.3678952659001642,
            "food": "high",
            "x": 1775.9398496240601
           },
           {
            "CDF": 0.374516663776885,
            "food": "high",
            "x": 1778.1954887218044
           },
           {
            "CDF": 0.3811752744159167,
            "food": "high",
            "x": 1780.451127819549
           },
           {
            "CDF": 0.38786925227579644,
            "food": "high",
            "x": 1782.7067669172932
           },
           {
            "CDF": 0.39459672024993514,
            "food": "high",
            "x": 1784.9624060150377
           },
           {
            "CDF": 0.4013557712362159,
            "food": "high",
            "x": 1787.218045112782
           },
           {
            "CDF": 0.40814446975135954,
            "food": "high",
            "x": 1789.4736842105262
           },
           {
            "CDF": 0.4149608535877751,
            "food": "high",
            "x": 1791.7293233082708
           },
           {
            "CDF": 0.42180293551054904,
            "food": "high",
            "x": 1793.984962406015
           },
           {
            "CDF": 0.42866870499213783,
            "food": "high",
            "x": 1796.2406015037593
           },
           {
            "CDF": 0.4355561299822361,
            "food": "high",
            "x": 1798.4962406015038
           },
           {
            "CDF": 0.44246315871023106,
            "food": "high",
            "x": 1800.751879699248
           },
           {
            "CDF": 0.44938772151758943,
            "food": "high",
            "x": 1803.0075187969924
           },
           {
            "CDF": 0.45632773271743815,
            "food": "high",
            "x": 1805.2631578947369
           },
           {
            "CDF": 0.46328109247856186,
            "food": "high",
            "x": 1807.5187969924812
           },
           {
            "CDF": 0.47024568873098904,
            "food": "high",
            "x": 1809.7744360902257
           },
           {
            "CDF": 0.47721939909026745,
            "food": "high",
            "x": 1812.03007518797
           },
           {
            "CDF": 0.4842000927975289,
            "food": "high",
            "x": 1814.2857142857142
           },
           {
            "CDF": 0.49118563267237014,
            "food": "high",
            "x": 1816.5413533834587
           },
           {
            "CDF": 0.49817387707557403,
            "food": "high",
            "x": 1818.796992481203
           },
           {
            "CDF": 0.5051626818786743,
            "food": "high",
            "x": 1821.0526315789473
           },
           {
            "CDF": 0.5121499024373314,
            "food": "high",
            "x": 1823.3082706766918
           },
           {
            "CDF": 0.5191333955655002,
            "food": "high",
            "x": 1825.563909774436
           },
           {
            "CDF": 0.5261110215073671,
            "food": "high",
            "x": 1827.8195488721803
           },
           {
            "CDF": 0.5330806459040194,
            "food": "high",
            "x": 1830.0751879699249
           },
           {
            "CDF": 0.5400401417518428,
            "food": "high",
            "x": 1832.3308270676691
           },
           {
            "CDF": 0.5469873913496571,
            "food": "high",
            "x": 1834.5864661654136
           },
           {
            "CDF": 0.5539202882316043,
            "food": "high",
            "x": 1836.842105263158
           },
           {
            "CDF": 0.5608367390828691,
            "food": "high",
            "x": 1839.0977443609022
           },
           {
            "CDF": 0.5677346656353108,
            "food": "high",
            "x": 1841.3533834586467
           },
           {
            "CDF": 0.5746120065401544,
            "food": "high",
            "x": 1843.609022556391
           },
           {
            "CDF": 0.5814667192149358,
            "food": "high",
            "x": 1845.8646616541353
           },
           {
            "CDF": 0.5882967816619303,
            "food": "high",
            "x": 1848.1203007518798
           },
           {
            "CDF": 0.5951001942553786,
            "food": "high",
            "x": 1850.375939849624
           },
           {
            "CDF": 0.6018749814948825,
            "food": "high",
            "x": 1852.6315789473683
           },
           {
            "CDF": 0.6086191937224038,
            "food": "high",
            "x": 1854.8872180451128
           },
           {
            "CDF": 0.615330908800389,
            "food": "high",
            "x": 1857.142857142857
           },
           {
            "CDF": 0.6220082337486289,
            "food": "high",
            "x": 1859.3984962406016
           },
           {
            "CDF": 0.6286493063375225,
            "food": "high",
            "x": 1861.654135338346
           },
           {
            "CDF": 0.6352522966355443,
            "food": "high",
            "x": 1863.9097744360902
           },
           {
            "CDF": 0.6418154085087726,
            "food": "high",
            "x": 1866.1654135338347
           },
           {
            "CDF": 0.6483368810704591,
            "food": "high",
            "x": 1868.421052631579
           },
           {
            "CDF": 0.6548149900787215,
            "food": "high",
            "x": 1870.6766917293232
           },
           {
            "CDF": 0.6612480492805326,
            "food": "high",
            "x": 1872.9323308270677
           },
           {
            "CDF": 0.6676344117003047,
            "food": "high",
            "x": 1875.187969924812
           },
           {
            "CDF": 0.6739724708714816,
            "food": "high",
            "x": 1877.4436090225563
           },
           {
            "CDF": 0.6802606620096495,
            "food": "high",
            "x": 1879.6992481203008
           },
           {
            "CDF": 0.6864974631258138,
            "food": "high",
            "x": 1881.954887218045
           },
           {
            "CDF": 0.692681396078606,
            "food": "high",
            "x": 1884.2105263157896
           },
           {
            "CDF": 0.6988110275642894,
            "food": "high",
            "x": 1886.4661654135339
           },
           {
            "CDF": 0.7048849700435874,
            "food": "high",
            "x": 1888.7218045112782
           },
           {
            "CDF": 0.7109018826044465,
            "food": "high",
            "x": 1890.9774436090224
           },
           {
            "CDF": 0.7168604717599998,
            "food": "high",
            "x": 1893.233082706767
           },
           {
            "CDF": 0.7227594921811037,
            "food": "high",
            "x": 1895.4887218045112
           },
           {
            "CDF": 0.7285977473629646,
            "food": "high",
            "x": 1897.7443609022557
           },
           {
            "CDF": 0.7343740902254691,
            "food": "high",
            "x": 1900
           },
           {
            "CDF": 0.740087423646995,
            "food": "high",
            "x": 1902.2556390977443
           },
           {
            "CDF": 0.7457367009315663,
            "food": "high",
            "x": 1904.5112781954888
           },
           {
            "CDF": 0.7513209262093632,
            "food": "high",
            "x": 1906.766917293233
           },
           {
            "CDF": 0.7568391547707201,
            "food": "high",
            "x": 1909.0225563909776
           },
           {
            "CDF": 0.7622904933338407,
            "food": "high",
            "x": 1911.2781954887218
           },
           {
            "CDF": 0.7676741002466152,
            "food": "high",
            "x": 1913.5338345864661
           },
           {
            "CDF": 0.7729891856230038,
            "food": "high",
            "x": 1915.7894736842104
           },
           {
            "CDF": 0.7782350114145923,
            "food": "high",
            "x": 1918.045112781955
           },
           {
            "CDF": 0.7834108914180176,
            "food": "high",
            "x": 1920.3007518796992
           },
           {
            "CDF": 0.7885161912190894,
            "food": "high",
            "x": 1922.5563909774437
           },
           {
            "CDF": 0.7935503280745124,
            "food": "high",
            "x": 1924.812030075188
           },
           {
            "CDF": 0.798512770732244,
            "food": "high",
            "x": 1927.0676691729323
           },
           {
            "CDF": 0.8034030391915999,
            "food": "high",
            "x": 1929.3233082706768
           },
           {
            "CDF": 0.8082207044043207,
            "food": "high",
            "x": 1931.578947368421
           },
           {
            "CDF": 0.812965387917914,
            "food": "high",
            "x": 1933.8345864661655
           },
           {
            "CDF": 0.8176367614626485,
            "food": "high",
            "x": 1936.0902255639098
           },
           {
            "CDF": 0.8222345464836895,
            "food": "high",
            "x": 1938.345864661654
           },
           {
            "CDF": 0.8267585136199144,
            "food": "high",
            "x": 1940.6015037593984
           },
           {
            "CDF": 0.8312084821310408,
            "food": "high",
            "x": 1942.857142857143
           },
           {
            "CDF": 0.8355843192747576,
            "food": "high",
            "x": 1945.1127819548872
           },
           {
            "CDF": 0.8398859396356211,
            "food": "high",
            "x": 1947.3684210526317
           },
           {
            "CDF": 0.8441133044075251,
            "food": "high",
            "x": 1949.624060150376
           },
           {
            "CDF": 0.8482664206316279,
            "food": "high",
            "x": 1951.8796992481202
           },
           {
            "CDF": 0.8523453403916473,
            "food": "high",
            "x": 1954.1353383458647
           },
           {
            "CDF": 0.8563501599684933,
            "food": "high",
            "x": 1956.390977443609
           },
           {
            "CDF": 0.8602810189562488,
            "food": "high",
            "x": 1958.6466165413535
           },
           {
            "CDF": 0.8641380993415279,
            "food": "high",
            "x": 1960.9022556390978
           },
           {
            "CDF": 0.8679216245482941,
            "food": "high",
            "x": 1963.157894736842
           },
           {
            "CDF": 0.8716318584502225,
            "food": "high",
            "x": 1965.4135338345864
           },
           {
            "CDF": 0.8752691043527272,
            "food": "high",
            "x": 1967.6691729323309
           },
           {
            "CDF": 0.8788337039467788,
            "food": "high",
            "x": 1969.9248120300751
           },
           {
            "CDF": 0.8823260362366605,
            "food": "high",
            "x": 1972.1804511278197
           },
           {
            "CDF": 0.8857465164437931,
            "food": "high",
            "x": 1974.436090225564
           },
           {
            "CDF": 0.8890955948887919,
            "food": "high",
            "x": 1976.6917293233082
           },
           {
            "CDF": 0.8923737558538837,
            "food": "high",
            "x": 1978.9473684210527
           },
           {
            "CDF": 0.8955815164278251,
            "food": "high",
            "x": 1981.203007518797
           },
           {
            "CDF": 0.8987194253354429,
            "food": "high",
            "x": 1983.4586466165415
           },
           {
            "CDF": 0.9017880617538976,
            "food": "high",
            "x": 1985.7142857142858
           },
           {
            "CDF": 0.904788034117755,
            "food": "high",
            "x": 1987.96992481203
           },
           {
            "CDF": 0.9077199789149268,
            "food": "high",
            "x": 1990.2255639097743
           },
           {
            "CDF": 0.9105845594755048,
            "food": "high",
            "x": 1992.4812030075188
           },
           {
            "CDF": 0.9133824647554871,
            "food": "high",
            "x": 1994.7368421052631
           },
           {
            "CDF": 0.9161144081173629,
            "food": "high",
            "x": 1996.9924812030076
           },
           {
            "CDF": 0.9187811261094674,
            "food": "high",
            "x": 1999.248120300752
           },
           {
            "CDF": 0.9213833772459967,
            "food": "high",
            "x": 2001.5037593984962
           },
           {
            "CDF": 0.9239219407895068,
            "food": "high",
            "x": 2003.7593984962407
           },
           {
            "CDF": 0.9263976155376891,
            "food": "high",
            "x": 2006.015037593985
           },
           {
            "CDF": 0.9288112186161548,
            "food": "high",
            "x": 2008.2706766917295
           },
           {
            "CDF": 0.9311635842789063,
            "food": "high",
            "x": 2010.5263157894738
           },
           {
            "CDF": 0.9334555627181277,
            "food": "high",
            "x": 2012.781954887218
           },
           {
            "CDF": 0.9356880188848533,
            "food": "high",
            "x": 2015.0375939849623
           },
           {
            "CDF": 0.9378618313220318,
            "food": "high",
            "x": 2017.2932330827068
           },
           {
            "CDF": 0.9399778910114249,
            "food": "high",
            "x": 2019.548872180451
           },
           {
            "CDF": 0.9420371002357321,
            "food": "high",
            "x": 2021.8045112781956
           },
           {
            "CDF": 0.9440403714572544,
            "food": "high",
            "x": 2024.0601503759399
           },
           {
            "CDF": 0.9459886262143598,
            "food": "high",
            "x": 2026.3157894736842
           },
           {
            "CDF": 0.9478827940369333,
            "food": "high",
            "x": 2028.5714285714287
           },
           {
            "CDF": 0.949723811381937,
            "food": "high",
            "x": 2030.827067669173
           },
           {
            "CDF": 0.9515126205901361,
            "food": "high",
            "x": 2033.0827067669175
           },
           {
            "CDF": 0.9532501688649749,
            "food": "high",
            "x": 2035.3383458646617
           },
           {
            "CDF": 0.9549374072745261,
            "food": "high",
            "x": 2037.593984962406
           },
           {
            "CDF": 0.9565752897773617,
            "food": "high",
            "x": 2039.8496240601503
           },
           {
            "CDF": 0.9581647722731311,
            "food": "high",
            "x": 2042.1052631578948
           },
           {
            "CDF": 0.9597068116785616,
            "food": "high",
            "x": 2044.360902255639
           },
           {
            "CDF": 0.9612023650295324,
            "food": "high",
            "x": 2046.6165413533836
           },
           {
            "CDF": 0.9626523886098006,
            "food": "high",
            "x": 2048.872180451128
           },
           {
            "CDF": 0.9640578371069018,
            "food": "high",
            "x": 2051.127819548872
           },
           {
            "CDF": 0.9654196627956728,
            "food": "high",
            "x": 2053.3834586466164
           },
           {
            "CDF": 0.9667388147497865,
            "food": "high",
            "x": 2055.6390977443607
           },
           {
            "CDF": 0.9680162380816254,
            "food": "high",
            "x": 2057.8947368421054
           },
           {
            "CDF": 0.9692528732107552,
            "food": "high",
            "x": 2060.1503759398497
           },
           {
            "CDF": 0.9704496551612072,
            "food": "high",
            "x": 2062.406015037594
           },
           {
            "CDF": 0.9716075128877091,
            "food": "high",
            "x": 2064.6616541353383
           },
           {
            "CDF": 0.9727273686309568,
            "food": "high",
            "x": 2066.9172932330825
           },
           {
            "CDF": 0.9738101373019589,
            "food": "high",
            "x": 2069.1729323308273
           },
           {
            "CDF": 0.9748567258954318,
            "food": "high",
            "x": 2071.4285714285716
           },
           {
            "CDF": 0.9758680329321759,
            "food": "high",
            "x": 2073.684210526316
           },
           {
            "CDF": 0.9768449479303054,
            "food": "high",
            "x": 2075.93984962406
           },
           {
            "CDF": 0.9777883509051654,
            "food": "high",
            "x": 2078.1954887218044
           },
           {
            "CDF": 0.9786991118977165,
            "food": "high",
            "x": 2080.4511278195487
           },
           {
            "CDF": 0.9795780905311265,
            "food": "high",
            "x": 2082.7067669172934
           },
           {
            "CDF": 0.9804261355952657,
            "food": "high",
            "x": 2084.9624060150377
           },
           {
            "CDF": 0.981244084658764,
            "food": "high",
            "x": 2087.218045112782
           },
           {
            "CDF": 0.982032763708246,
            "food": "high",
            "x": 2089.4736842105262
           },
           {
            "CDF": 0.9827929868143299,
            "food": "high",
            "x": 2091.7293233082705
           },
           {
            "CDF": 0.9835255558239382,
            "food": "high",
            "x": 2093.9849624060153
           },
           {
            "CDF": 0.9842312600784386,
            "food": "high",
            "x": 2096.2406015037595
           },
           {
            "CDF": 0.9849108761571053,
            "food": "high",
            "x": 2098.496240601504
           },
           {
            "CDF": 0.9855651676453597,
            "food": "high",
            "x": 2100.751879699248
           },
           {
            "CDF": 0.98619488492723,
            "food": "high",
            "x": 2103.0075187969924
           },
           {
            "CDF": 0.9868007650014404,
            "food": "high",
            "x": 2105.2631578947367
           },
           {
            "CDF": 0.9873835313205271,
            "food": "high",
            "x": 2107.5187969924814
           },
           {
            "CDF": 0.9879438936523491,
            "food": "high",
            "x": 2109.7744360902257
           },
           {
            "CDF": 0.9884825479633575,
            "food": "high",
            "x": 2112.03007518797
           },
           {
            "CDF": 0.9890001763229611,
            "food": "high",
            "x": 2114.285714285714
           },
           {
            "CDF": 0.9894974468283209,
            "food": "high",
            "x": 2116.5413533834585
           },
           {
            "CDF": 0.9899750135488904,
            "food": "high",
            "x": 2118.7969924812032
           },
           {
            "CDF": 0.9904335164900127,
            "food": "high",
            "x": 2121.0526315789475
           },
           {
            "CDF": 0.9908735815748773,
            "food": "high",
            "x": 2123.308270676692
           },
           {
            "CDF": 0.9912958206441319,
            "food": "high",
            "x": 2125.563909774436
           },
           {
            "CDF": 0.9917008314724443,
            "food": "high",
            "x": 2127.8195488721803
           },
           {
            "CDF": 0.9920891978013039,
            "food": "high",
            "x": 2130.0751879699246
           },
           {
            "CDF": 0.9924614893873557,
            "food": "high",
            "x": 2132.3308270676694
           },
           {
            "CDF": 0.9928182620655548,
            "food": "high",
            "x": 2134.5864661654136
           },
           {
            "CDF": 0.9931600578264393,
            "food": "high",
            "x": 2136.842105263158
           },
           {
            "CDF": 0.9934874049068155,
            "food": "high",
            "x": 2139.097744360902
           },
           {
            "CDF": 0.9938008178931605,
            "food": "high",
            "x": 2141.3533834586465
           },
           {
            "CDF": 0.9941007978370513,
            "food": "high",
            "x": 2143.609022556391
           },
           {
            "CDF": 0.9943878323819347,
            "food": "high",
            "x": 2145.8646616541355
           },
           {
            "CDF": 0.9946623959005673,
            "food": "high",
            "x": 2148.1203007518798
           },
           {
            "CDF": 0.9949249496424558,
            "food": "high",
            "x": 2150.375939849624
           },
           {
            "CDF": 0.9951759418906481,
            "food": "high",
            "x": 2152.6315789473683
           },
           {
            "CDF": 0.9954158081272279,
            "food": "high",
            "x": 2154.8872180451126
           },
           {
            "CDF": 0.9956449712068862,
            "food": "high",
            "x": 2157.142857142857
           },
           {
            "CDF": 0.9958638415379512,
            "food": "high",
            "x": 2159.3984962406016
           },
           {
            "CDF": 0.9960728172702717,
            "food": "high",
            "x": 2161.654135338346
           },
           {
            "CDF": 0.9962722844893696,
            "food": "high",
            "x": 2163.90977443609
           },
           {
            "CDF": 0.9964626174162833,
            "food": "high",
            "x": 2166.1654135338345
           },
           {
            "CDF": 0.996644178612548,
            "food": "high",
            "x": 2168.421052631579
           },
           {
            "CDF": 0.9968173191897687,
            "food": "high",
            "x": 2170.6766917293235
           },
           {
            "CDF": 0.9969823790232635,
            "food": "high",
            "x": 2172.9323308270677
           },
           {
            "CDF": 0.9971396869692656,
            "food": "high",
            "x": 2175.187969924812
           },
           {
            "CDF": 0.9972895610851965,
            "food": "high",
            "x": 2177.4436090225563
           },
           {
            "CDF": 0.997432308852534,
            "food": "high",
            "x": 2179.6992481203006
           },
           {
            "CDF": 0.9975682274018203,
            "food": "high",
            "x": 2181.954887218045
           },
           {
            "CDF": 0.9976976037393721,
            "food": "high",
            "x": 2184.2105263157896
           },
           {
            "CDF": 0.9978207149752714,
            "food": "high",
            "x": 2186.466165413534
           },
           {
            "CDF": 0.9979378285522337,
            "food": "high",
            "x": 2188.721804511278
           },
           {
            "CDF": 0.998049202474971,
            "food": "high",
            "x": 2190.9774436090224
           },
           {
            "CDF": 0.9981550855396791,
            "food": "high",
            "x": 2193.233082706767
           },
           {
            "CDF": 0.9982557175633031,
            "food": "high",
            "x": 2195.4887218045114
           },
           {
            "CDF": 0.9983513296122457,
            "food": "high",
            "x": 2197.7443609022557
           },
           {
            "CDF": 0.9984421442302072,
            "food": "high",
            "x": 2200
           },
           {
            "CDF": 0.9985283756648561,
            "food": "high",
            "x": 2202.2556390977443
           },
           {
            "CDF": 0.9986102300930528,
            "food": "high",
            "x": 2204.5112781954886
           },
           {
            "CDF": 0.998687905844361,
            "food": "high",
            "x": 2206.766917293233
           },
           {
            "CDF": 0.9987615936225986,
            "food": "high",
            "x": 2209.0225563909776
           },
           {
            "CDF": 0.9988314767251998,
            "food": "high",
            "x": 2211.278195488722
           },
           {
            "CDF": 0.9988977312601679,
            "food": "high",
            "x": 2213.533834586466
           },
           {
            "CDF": 0.9989605263604237,
            "food": "high",
            "x": 2215.7894736842104
           },
           {
            "CDF": 0.9990200243953596,
            "food": "high",
            "x": 2218.045112781955
           },
           {
            "CDF": 0.9990763811794333,
            "food": "high",
            "x": 2220.3007518796994
           },
           {
            "CDF": 0.9991297461776395,
            "food": "high",
            "x": 2222.5563909774437
           },
           {
            "CDF": 0.9991802627077219,
            "food": "high",
            "x": 2224.812030075188
           },
           {
            "CDF": 0.999228068138993,
            "food": "high",
            "x": 2227.0676691729323
           },
           {
            "CDF": 0.9992732940876473,
            "food": "high",
            "x": 2229.3233082706765
           },
           {
            "CDF": 0.9993160666084621,
            "food": "high",
            "x": 2231.578947368421
           },
           {
            "CDF": 0.999356506382796,
            "food": "high",
            "x": 2233.8345864661655
           },
           {
            "CDF": 0.9993947289028046,
            "food": "high",
            "x": 2236.09022556391
           },
           {
            "CDF": 0.9994308446518024,
            "food": "high",
            "x": 2238.345864661654
           },
           {
            "CDF": 0.9994649592807157,
            "food": "high",
            "x": 2240.6015037593984
           },
           {
            "CDF": 0.9994971737805748,
            "food": "high",
            "x": 2242.857142857143
           },
           {
            "CDF": 0.9995275846510105,
            "food": "high",
            "x": 2245.1127819548874
           },
           {
            "CDF": 0.9995562840647225,
            "food": "high",
            "x": 2247.3684210526317
           },
           {
            "CDF": 0.9995833600279016,
            "food": "high",
            "x": 2249.624060150376
           },
           {
            "CDF": 0.9996088965365925,
            "food": "high",
            "x": 2251.8796992481202
           },
           {
            "CDF": 0.9996329737289942,
            "food": "high",
            "x": 2254.1353383458645
           },
           {
            "CDF": 0.9996556680337001,
            "food": "high",
            "x": 2256.390977443609
           },
           {
            "CDF": 0.9996770523138895,
            "food": "high",
            "x": 2258.6466165413535
           },
           {
            "CDF": 0.9996971960074866,
            "food": "high",
            "x": 2260.902255639098
           },
           {
            "CDF": 0.9997161652633122,
            "food": "high",
            "x": 2263.157894736842
           },
           {
            "CDF": 0.9997340230732544,
            "food": "high",
            "x": 2265.4135338345864
           },
           {
            "CDF": 0.9997508294004955,
            "food": "high",
            "x": 2267.669172932331
           },
           {
            "CDF": 0.999766641303834,
            "food": "high",
            "x": 2269.9248120300754
           },
           {
            "CDF": 0.9997815130581446,
            "food": "high",
            "x": 2272.1804511278197
           },
           {
            "CDF": 0.9997954962710274,
            "food": "high",
            "x": 2274.436090225564
           },
           {
            "CDF": 0.999808639995696,
            "food": "high",
            "x": 2276.691729323308
           },
           {
            "CDF": 0.9998209908401631,
            "food": "high",
            "x": 2278.9473684210525
           },
           {
            "CDF": 0.9998325930727802,
            "food": "high",
            "x": 2281.2030075187968
           },
           {
            "CDF": 0.9998434887241976,
            "food": "high",
            "x": 2283.4586466165415
           },
           {
            "CDF": 0.9998537176858049,
            "food": "high",
            "x": 2285.714285714286
           },
           {
            "CDF": 0.9998633178047235,
            "food": "high",
            "x": 2287.96992481203
           },
           {
            "CDF": 0.9998723249754174,
            "food": "high",
            "x": 2290.2255639097743
           },
           {
            "CDF": 0.9998807732279962,
            "food": "high",
            "x": 2292.481203007519
           },
           {
            "CDF": 0.9998886948132794,
            "food": "high",
            "x": 2294.7368421052633
           },
           {
            "CDF": 0.9998961202846992,
            "food": "high",
            "x": 2296.9924812030076
           },
           {
            "CDF": 0.9999030785771165,
            "food": "high",
            "x": 2299.248120300752
           },
           {
            "CDF": 0.9999095970826223,
            "food": "high",
            "x": 2301.503759398496
           },
           {
            "CDF": 0.9999157017234062,
            "food": "high",
            "x": 2303.7593984962405
           },
           {
            "CDF": 0.9999214170217648,
            "food": "high",
            "x": 2306.0150375939847
           },
           {
            "CDF": 0.9999267661673296,
            "food": "high",
            "x": 2308.2706766917295
           },
           {
            "CDF": 0.9999317710815891,
            "food": "high",
            "x": 2310.5263157894738
           },
           {
            "CDF": 0.9999364524797857,
            "food": "high",
            "x": 2312.781954887218
           },
           {
            "CDF": 0.9999408299302599,
            "food": "high",
            "x": 2315.0375939849623
           },
           {
            "CDF": 0.9999449219113221,
            "food": "high",
            "x": 2317.293233082707
           },
           {
            "CDF": 0.9999487458657254,
            "food": "high",
            "x": 2319.5488721804513
           },
           {
            "CDF": 0.9999523182528156,
            "food": "high",
            "x": 2321.8045112781956
           },
           {
            "CDF": 0.9999556545984326,
            "food": "high",
            "x": 2324.06015037594
           },
           {
            "CDF": 0.9999587695426372,
            "food": "high",
            "x": 2326.315789473684
           },
           {
            "CDF": 0.9999616768853348,
            "food": "high",
            "x": 2328.5714285714284
           },
           {
            "CDF": 0.9999643896298687,
            "food": "high",
            "x": 2330.8270676691727
           },
           {
            "CDF": 0.9999669200246537,
            "food": "high",
            "x": 2333.0827067669175
           },
           {
            "CDF": 0.999969279602917,
            "food": "high",
            "x": 2335.3383458646617
           },
           {
            "CDF": 0.9999714792206174,
            "food": "high",
            "x": 2337.593984962406
           },
           {
            "CDF": 0.9999735290926064,
            "food": "high",
            "x": 2339.8496240601503
           },
           {
            "CDF": 0.9999754388270993,
            "food": "high",
            "x": 2342.105263157895
           },
           {
            "CDF": 0.999977217458518,
            "food": "high",
            "x": 2344.3609022556393
           },
           {
            "CDF": 0.9999788734787685,
            "food": "high",
            "x": 2346.6165413533836
           },
           {
            "CDF": 0.9999804148670144,
            "food": "high",
            "x": 2348.872180451128
           },
           {
            "CDF": 0.9999818491180056,
            "food": "high",
            "x": 2351.127819548872
           },
           {
            "CDF": 0.9999831832690196,
            "food": "high",
            "x": 2353.3834586466164
           },
           {
            "CDF": 0.9999844239254724,
            "food": "high",
            "x": 2355.6390977443607
           },
           {
            "CDF": 0.9999855772852531,
            "food": "high",
            "x": 2357.8947368421054
           },
           {
            "CDF": 0.9999866491618363,
            "food": "high",
            "x": 2360.1503759398497
           },
           {
            "CDF": 0.9999876450062228,
            "food": "high",
            "x": 2362.406015037594
           },
           {
            "CDF": 0.9999885699277599,
            "food": "high",
            "x": 2364.6616541353383
           },
           {
            "CDF": 0.9999894287138884,
            "food": "high",
            "x": 2366.917293233083
           },
           {
            "CDF": 0.9999902258488655,
            "food": "high",
            "x": 2369.1729323308273
           },
           {
            "CDF": 0.9999909655315066,
            "food": "high",
            "x": 2371.4285714285716
           },
           {
            "CDF": 0.9999916516919912,
            "food": "high",
            "x": 2373.684210526316
           },
           {
            "CDF": 0.9999922880077764,
            "food": "high",
            "x": 2375.93984962406
           },
           {
            "CDF": 0.9999928779186568,
            "food": "high",
            "x": 2378.1954887218044
           },
           {
            "CDF": 0.9999934246410114,
            "food": "high",
            "x": 2380.4511278195487
           },
           {
            "CDF": 0.9999939311812767,
            "food": "high",
            "x": 2382.7067669172934
           },
           {
            "CDF": 0.9999944003486805,
            "food": "high",
            "x": 2384.9624060150377
           },
           {
            "CDF": 0.9999948347672738,
            "food": "high",
            "x": 2387.218045112782
           },
           {
            "CDF": 0.9999952368872934,
            "food": "high",
            "x": 2389.4736842105262
           },
           {
            "CDF": 0.9999956089958881,
            "food": "high",
            "x": 2391.729323308271
           },
           {
            "CDF": 0.9999959532272408,
            "food": "high",
            "x": 2393.9849624060153
           },
           {
            "CDF": 0.9999962715721151,
            "food": "high",
            "x": 2396.2406015037595
           },
           {
            "CDF": 0.9999965658868573,
            "food": "high",
            "x": 2398.496240601504
           },
           {
            "CDF": 0.9999968379018782,
            "food": "high",
            "x": 2400.751879699248
           },
           {
            "CDF": 0.9999970892296458,
            "food": "high",
            "x": 2403.0075187969924
           },
           {
            "CDF": 0.9999973213722096,
            "food": "high",
            "x": 2405.2631578947367
           },
           {
            "CDF": 0.9999975357282843,
            "food": "high",
            "x": 2407.5187969924814
           },
           {
            "CDF": 0.9999977335999141,
            "food": "high",
            "x": 2409.7744360902257
           },
           {
            "CDF": 0.9999979161987405,
            "food": "high",
            "x": 2412.03007518797
           },
           {
            "CDF": 0.9999980846518954,
            "food": "high",
            "x": 2414.285714285714
           },
           {
            "CDF": 0.9999982400075386,
            "food": "high",
            "x": 2416.541353383459
           },
           {
            "CDF": 0.9999983832400584,
            "food": "high",
            "x": 2418.7969924812032
           },
           {
            "CDF": 0.9999985152549576,
            "food": "high",
            "x": 2421.0526315789475
           },
           {
            "CDF": 0.9999986368934364,
            "food": "high",
            "x": 2423.308270676692
           },
           {
            "CDF": 0.9999987489366943,
            "food": "high",
            "x": 2425.563909774436
           },
           {
            "CDF": 0.9999988521099636,
            "food": "high",
            "x": 2427.8195488721803
           },
           {
            "CDF": 0.9999989470862912,
            "food": "high",
            "x": 2430.0751879699246
           },
           {
            "CDF": 0.9999990344900821,
            "food": "high",
            "x": 2432.3308270676694
           },
           {
            "CDF": 0.9999991149004189,
            "food": "high",
            "x": 2434.5864661654136
           },
           {
            "CDF": 0.9999991888541706,
            "food": "high",
            "x": 2436.842105263158
           },
           {
            "CDF": 0.9999992568489009,
            "food": "high",
            "x": 2439.097744360902
           },
           {
            "CDF": 0.9999993193455908,
            "food": "high",
            "x": 2441.353383458647
           },
           {
            "CDF": 0.9999993767711844,
            "food": "high",
            "x": 2443.609022556391
           },
           {
            "CDF": 0.9999994295209685,
            "food": "high",
            "x": 2445.8646616541355
           },
           {
            "CDF": 0.9999994779607969,
            "food": "high",
            "x": 2448.1203007518798
           },
           {
            "CDF": 0.999999522429168,
            "food": "high",
            "x": 2450.375939849624
           },
           {
            "CDF": 0.9999995632391651,
            "food": "high",
            "x": 2452.6315789473683
           },
           {
            "CDF": 0.9999996006802668,
            "food": "high",
            "x": 2454.8872180451126
           },
           {
            "CDF": 0.9999996350200377,
            "food": "high",
            "x": 2457.1428571428573
           },
           {
            "CDF": 0.9999996665057038,
            "food": "high",
            "x": 2459.3984962406016
           },
           {
            "CDF": 0.9999996953656216,
            "food": "high",
            "x": 2461.654135338346
           },
           {
            "CDF": 0.9999997218106486,
            "food": "high",
            "x": 2463.90977443609
           },
           {
            "CDF": 0.9999997460354179,
            "food": "high",
            "x": 2466.165413533835
           },
           {
            "CDF": 0.9999997682195276,
            "food": "high",
            "x": 2468.421052631579
           },
           {
            "CDF": 0.9999997885286462,
            "food": "high",
            "x": 2470.6766917293235
           },
           {
            "CDF": 0.999999807115542,
            "food": "high",
            "x": 2472.9323308270677
           },
           {
            "CDF": 0.9999998241210405,
            "food": "high",
            "x": 2475.187969924812
           },
           {
            "CDF": 0.9999998396749148,
            "food": "high",
            "x": 2477.4436090225563
           },
           {
            "CDF": 0.9999998538967132,
            "food": "high",
            "x": 2479.6992481203006
           },
           {
            "CDF": 0.9999998668965282,
            "food": "high",
            "x": 2481.9548872180453
           },
           {
            "CDF": 0.9999998787757103,
            "food": "high",
            "x": 2484.2105263157896
           },
           {
            "CDF": 0.9999998896275313,
            "food": "high",
            "x": 2486.466165413534
           },
           {
            "CDF": 0.9999998995377998,
            "food": "high",
            "x": 2488.721804511278
           },
           {
            "CDF": 0.999999908585432,
            "food": "high",
            "x": 2490.9774436090224
           },
           {
            "CDF": 0.9999999168429812,
            "food": "high",
            "x": 2493.233082706767
           },
           {
            "CDF": 0.9999999243771286,
            "food": "high",
            "x": 2495.4887218045114
           },
           {
            "CDF": 0.9999999312491386,
            "food": "high",
            "x": 2497.7443609022557
           },
           {
            "CDF": 0.9999999375152796,
            "food": "high",
            "x": 2500
           },
           {
            "CDF": 0.0005839107691313187,
            "food": "low",
            "x": 1600
           },
           {
            "CDF": 0.0006148704654301677,
            "food": "low",
            "x": 1602.2556390977443
           },
           {
            "CDF": 0.0006473400918611775,
            "food": "low",
            "x": 1604.5112781954888
           },
           {
            "CDF": 0.0006813858969557071,
            "food": "low",
            "x": 1606.766917293233
           },
           {
            "CDF": 0.0007170766442596943,
            "food": "low",
            "x": 1609.0225563909773
           },
           {
            "CDF": 0.0007544836882724935,
            "food": "low",
            "x": 1611.2781954887218
           },
           {
            "CDF": 0.0007936810517509546,
            "food": "low",
            "x": 1613.5338345864661
           },
           {
            "CDF": 0.000834745504358711,
            "food": "low",
            "x": 1615.7894736842106
           },
           {
            "CDF": 0.0008777566426377125,
            "food": "low",
            "x": 1618.045112781955
           },
           {
            "CDF": 0.0009227969712764131,
            "food": "low",
            "x": 1620.3007518796992
           },
           {
            "CDF": 0.0009699519856458322,
            "food": "low",
            "x": 1622.5563909774437
           },
           {
            "CDF": 0.001019310255571823,
            "food": "low",
            "x": 1624.812030075188
           },
           {
            "CDF": 0.001070963510308705,
            "food": "low",
            "x": 1627.0676691729323
           },
           {
            "CDF": 0.0011250067246761245,
            "food": "low",
            "x": 1629.3233082706768
           },
           {
            "CDF": 0.0011815382063176956,
            "food": "low",
            "x": 1631.578947368421
           },
           {
            "CDF": 0.001240659684036666,
            "food": "low",
            "x": 1633.8345864661653
           },
           {
            "CDF": 0.0013024763971601302,
            "food": "low",
            "x": 1636.0902255639098
           },
           {
            "CDF": 0.0013670971858798803,
            "food": "low",
            "x": 1638.345864661654
           },
           {
            "CDF": 0.0014346345825143332,
            "food": "low",
            "x": 1640.6015037593984
           },
           {
            "CDF": 0.0015052049036319982,
            "food": "low",
            "x": 1642.857142857143
           },
           {
            "CDF": 0.0015789283429733009,
            "food": "low",
            "x": 1645.1127819548872
           },
           {
            "CDF": 0.001655929065103723,
            "food": "low",
            "x": 1647.3684210526317
           },
           {
            "CDF": 0.0017363352997268285,
            "food": "low",
            "x": 1649.624060150376
           },
           {
            "CDF": 0.0018202794365823314,
            "food": "low",
            "x": 1651.8796992481202
           },
           {
            "CDF": 0.0019078981208495614,
            "food": "low",
            "x": 1654.1353383458647
           },
           {
            "CDF": 0.0019993323489729863,
            "food": "low",
            "x": 1656.390977443609
           },
           {
            "CDF": 0.002094727564822063,
            "food": "low",
            "x": 1658.6466165413533
           },
           {
            "CDF": 0.0021942337560933,
            "food": "low",
            "x": 1660.9022556390978
           },
           {
            "CDF": 0.0022980055508581925,
            "food": "low",
            "x": 1663.157894736842
           },
           {
            "CDF": 0.0024062023141564167,
            "food": "low",
            "x": 1665.4135338345864
           },
           {
            "CDF": 0.002518988244529009,
            "food": "low",
            "x": 1667.6691729323309
           },
           {
            "CDF": 0.002636532470382007,
            "food": "low",
            "x": 1669.9248120300751
           },
           {
            "CDF": 0.002759009146066737,
            "food": "low",
            "x": 1672.1804511278197
           },
           {
            "CDF": 0.002886597547557964,
            "food": "low",
            "x": 1674.436090225564
           },
           {
            "CDF": 0.003019482167607341,
            "food": "low",
            "x": 1676.6917293233082
           },
           {
            "CDF": 0.0031578528102445286,
            "food": "low",
            "x": 1678.9473684210527
           },
           {
            "CDF": 0.0033019046844941927,
            "food": "low",
            "x": 1681.203007518797
           },
           {
            "CDF": 0.0034518384971728554,
            "food": "low",
            "x": 1683.4586466165413
           },
           {
            "CDF": 0.003607860544624608,
            "food": "low",
            "x": 1685.7142857142858
           },
           {
            "CDF": 0.0037701828032508395,
            "food": "low",
            "x": 1687.96992481203
           },
           {
            "CDF": 0.0039390230186847576,
            "food": "low",
            "x": 1690.2255639097743
           },
           {
            "CDF": 0.004114604793456866,
            "food": "low",
            "x": 1692.4812030075188
           },
           {
            "CDF": 0.004297157672993655,
            "food": "low",
            "x": 1694.7368421052631
           },
           {
            "CDF": 0.004486917229787853,
            "food": "low",
            "x": 1696.9924812030076
           },
           {
            "CDF": 0.004684125145573778,
            "food": "low",
            "x": 1699.248120300752
           },
           {
            "CDF": 0.004889029291338463,
            "food": "low",
            "x": 1701.5037593984962
           },
           {
            "CDF": 0.005101883804994394,
            "food": "low",
            "x": 1703.7593984962407
           },
           {
            "CDF": 0.005322949166536499,
            "food": "low",
            "x": 1706.015037593985
           },
           {
            "CDF": 0.005552492270502663,
            "food": "low",
            "x": 1708.2706766917292
           },
           {
            "CDF": 0.005790786495552959,
            "food": "low",
            "x": 1710.5263157894738
           },
           {
            "CDF": 0.006038111770979764,
            "food": "low",
            "x": 1712.781954887218
           },
           {
            "CDF": 0.0062947546399584635,
            "food": "low",
            "x": 1715.0375939849623
           },
           {
            "CDF": 0.006561008319344142,
            "food": "low",
            "x": 1717.2932330827068
           },
           {
            "CDF": 0.006837172755818084,
            "food": "low",
            "x": 1719.548872180451
           },
           {
            "CDF": 0.00712355467818507,
            "food": "low",
            "x": 1721.8045112781956
           },
           {
            "CDF": 0.007420467645619399,
            "food": "low",
            "x": 1724.0601503759399
           },
           {
            "CDF": 0.007728232091656627,
            "food": "low",
            "x": 1726.3157894736842
           },
           {
            "CDF": 0.008047175363725026,
            "food": "low",
            "x": 1728.5714285714287
           },
           {
            "CDF": 0.008377631758009669,
            "food": "low",
            "x": 1730.827067669173
           },
           {
            "CDF": 0.008719942549440921,
            "food": "low",
            "x": 1733.0827067669172
           },
           {
            "CDF": 0.009074456016597223,
            "food": "low",
            "x": 1735.3383458646617
           },
           {
            "CDF": 0.009441527461311711,
            "food": "low",
            "x": 1737.593984962406
           },
           {
            "CDF": 0.009821519222772171,
            "food": "low",
            "x": 1739.8496240601503
           },
           {
            "CDF": 0.01021480068590241,
            "food": "low",
            "x": 1742.1052631578948
           },
           {
            "CDF": 0.010621748283814073,
            "food": "low",
            "x": 1744.360902255639
           },
           {
            "CDF": 0.011042745494118746,
            "food": "low",
            "x": 1746.6165413533836
           },
           {
            "CDF": 0.011478182828889252,
            "food": "low",
            "x": 1748.8721804511279
           },
           {
            "CDF": 0.0119284578180626,
            "food": "low",
            "x": 1751.1278195488721
           },
           {
            "CDF": 0.012393974986076221,
            "food": "low",
            "x": 1753.3834586466166
           },
           {
            "CDF": 0.01287514582153211,
            "food": "low",
            "x": 1755.639097744361
           },
           {
            "CDF": 0.013372388739686436,
            "food": "low",
            "x": 1757.8947368421052
           },
           {
            "CDF": 0.013886129037562893,
            "food": "low",
            "x": 1760.1503759398497
           },
           {
            "CDF": 0.014416798841492313,
            "food": "low",
            "x": 1762.406015037594
           },
           {
            "CDF": 0.014964837046885398,
            "food": "low",
            "x": 1764.6616541353383
           },
           {
            "CDF": 0.015530689250046604,
            "food": "low",
            "x": 1766.9172932330828
           },
           {
            "CDF": 0.016114807671843992,
            "food": "low",
            "x": 1769.172932330827
           },
           {
            "CDF": 0.01671765107305391,
            "food": "low",
            "x": 1771.4285714285716
           },
           {
            "CDF": 0.017339684661203,
            "food": "low",
            "x": 1773.6842105263158
           },
           {
            "CDF": 0.017981379988738118,
            "food": "low",
            "x": 1775.9398496240601
           },
           {
            "CDF": 0.018643214842358476,
            "food": "low",
            "x": 1778.1954887218044
           },
           {
            "CDF": 0.019325673123352125,
            "food": "low",
            "x": 1780.451127819549
           },
           {
            "CDF": 0.020029244718784953,
            "food": "low",
            "x": 1782.7067669172932
           },
           {
            "CDF": 0.02075442536339931,
            "food": "low",
            "x": 1784.9624060150377
           },
           {
            "CDF": 0.021501716492083767,
            "food": "low",
            "x": 1787.218045112782
           },
           {
            "CDF": 0.022271625082788817,
            "food": "low",
            "x": 1789.4736842105262
           },
           {
            "CDF": 0.02306466348976674,
            "food": "low",
            "x": 1791.7293233082708
           },
           {
            "CDF": 0.0238813492670266,
            "food": "low",
            "x": 1793.984962406015
           },
           {
            "CDF": 0.024722204981904288,
            "food": "low",
            "x": 1796.2406015037593
           },
           {
            "CDF": 0.025587758018655836,
            "food": "low",
            "x": 1798.4962406015038
           },
           {
            "CDF": 0.026478540371994767,
            "food": "low",
            "x": 1800.751879699248
           },
           {
            "CDF": 0.02739508843050467,
            "food": "low",
            "x": 1803.0075187969924
           },
           {
            "CDF": 0.028337942749868485,
            "food": "low",
            "x": 1805.2631578947369
           },
           {
            "CDF": 0.029307647815868396,
            "food": "low",
            "x": 1807.5187969924812
           },
           {
            "CDF": 0.03030475179712427,
            "food": "low",
            "x": 1809.7744360902257
           },
           {
            "CDF": 0.03132980628754639,
            "food": "low",
            "x": 1812.03007518797
           },
           {
            "CDF": 0.03238336603849768,
            "food": "low",
            "x": 1814.2857142857142
           },
           {
            "CDF": 0.03346598868066773,
            "food": "low",
            "x": 1816.5413533834587
           },
           {
            "CDF": 0.0345782344356785,
            "food": "low",
            "x": 1818.796992481203
           },
           {
            "CDF": 0.03572066581745575,
            "food": "low",
            "x": 1821.0526315789473
           },
           {
            "CDF": 0.03689384732341149,
            "food": "low",
            "x": 1823.3082706766918
           },
           {
            "CDF": 0.038098345115500545,
            "food": "low",
            "x": 1825.563909774436
           },
           {
            "CDF": 0.03933472669122923,
            "food": "low",
            "x": 1827.8195488721803
           },
           {
            "CDF": 0.04060356054470699,
            "food": "low",
            "x": 1830.0751879699249
           },
           {
            "CDF": 0.04190541581784956,
            "food": "low",
            "x": 1832.3308270676691
           },
           {
            "CDF": 0.04324086194185928,
            "food": "low",
            "x": 1834.5864661654136
           },
           {
            "CDF": 0.044610468269119054,
            "food": "low",
            "x": 1836.842105263158
           },
           {
            "CDF": 0.04601480369566063,
            "food": "low",
            "x": 1839.0977443609022
           },
           {
            "CDF": 0.04745443627437611,
            "food": "low",
            "x": 1841.3533834586467
           },
           {
            "CDF": 0.04892993281916371,
            "food": "low",
            "x": 1843.609022556391
           },
           {
            "CDF": 0.05044185850021543,
            "food": "low",
            "x": 1845.8646616541353
           },
           {
            "CDF": 0.051990776430666394,
            "food": "low",
            "x": 1848.1203007518798
           },
           {
            "CDF": 0.05357724724484813,
            "food": "low",
            "x": 1850.375939849624
           },
           {
            "CDF": 0.055201828668402814,
            "food": "low",
            "x": 1852.6315789473683
           },
           {
            "CDF": 0.05686507508053114,
            "food": "low",
            "x": 1854.8872180451128
           },
           {
            "CDF": 0.058567537068664854,
            "food": "low",
            "x": 1857.142857142857
           },
           {
            "CDF": 0.06030976097587456,
            "food": "low",
            "x": 1859.3984962406016
           },
           {
            "CDF": 0.06209228844133275,
            "food": "low",
            "x": 1861.654135338346
           },
           {
            "CDF": 0.06391565593417939,
            "food": "low",
            "x": 1863.9097744360902
           },
           {
            "CDF": 0.06578039428114368,
            "food": "low",
            "x": 1866.1654135338347
           },
           {
            "CDF": 0.06768702818829866,
            "food": "low",
            "x": 1868.421052631579
           },
           {
            "CDF": 0.06963607575734163,
            "food": "low",
            "x": 1870.6766917293232
           },
           {
            "CDF": 0.07162804799680397,
            "food": "low",
            "x": 1872.9323308270677
           },
           {
            "CDF": 0.07366344832861592,
            "food": "low",
            "x": 1875.187969924812
           },
           {
            "CDF": 0.07574277209046497,
            "food": "low",
            "x": 1877.4436090225563
           },
           {
            "CDF": 0.07786650603440044,
            "food": "low",
            "x": 1879.6992481203008
           },
           {
            "CDF": 0.08003512782215255,
            "food": "low",
            "x": 1881.954887218045
           },
           {
            "CDF": 0.0822491055176523,
            "food": "low",
            "x": 1884.2105263157896
           },
           {
            "CDF": 0.08450889707724385,
            "food": "low",
            "x": 1886.4661654135339
           },
           {
            "CDF": 0.08681494983810562,
            "food": "low",
            "x": 1888.7218045112782
           },
           {
            "CDF": 0.08916770000539975,
            "food": "low",
            "x": 1890.9774436090224
           },
           {
            "CDF": 0.09156757213868738,
            "food": "low",
            "x": 1893.233082706767
           },
           {
            "CDF": 0.09401497863815789,
            "food": "low",
            "x": 1895.4887218045112
           },
           {
            "CDF": 0.09651031923123293,
            "food": "low",
            "x": 1897.7443609022557
           },
           {
            "CDF": 0.09905398046011155,
            "food": "low",
            "x": 1900
           },
           {
            "CDF": 0.10164633517084132,
            "food": "low",
            "x": 1902.2556390977443
           },
           {
            "CDF": 0.10428774200450147,
            "food": "low",
            "x": 1904.5112781954888
           },
           {
            "CDF": 0.10697854489109715,
            "food": "low",
            "x": 1906.766917293233
           },
           {
            "CDF": 0.10971907254677254,
            "food": "low",
            "x": 1909.0225563909776
           },
           {
            "CDF": 0.112509637974953,
            "food": "low",
            "x": 1911.2781954887218
           },
           {
            "CDF": 0.11535053797203931,
            "food": "low",
            "x": 1913.5338345864661
           },
           {
            "CDF": 0.11824205263827531,
            "food": "low",
            "x": 1915.7894736842104
           },
           {
            "CDF": 0.12118444489442076,
            "food": "low",
            "x": 1918.045112781955
           },
           {
            "CDF": 0.12417796000486192,
            "food": "low",
            "x": 1920.3007518796992
           },
           {
            "CDF": 0.1272228251077973,
            "food": "low",
            "x": 1922.5563909774437
           },
           {
            "CDF": 0.13031924875313322,
            "food": "low",
            "x": 1924.812030075188
           },
           {
            "CDF": 0.13346742044873294,
            "food": "low",
            "x": 1927.0676691729323
           },
           {
            "CDF": 0.1366675102156536,
            "food": "low",
            "x": 1929.3233082706768
           },
           {
            "CDF": 0.13991966815301132,
            "food": "low",
            "x": 1931.578947368421
           },
           {
            "CDF": 0.14322402401311213,
            "food": "low",
            "x": 1933.8345864661655
           },
           {
            "CDF": 0.1465806867874762,
            "food": "low",
            "x": 1936.0902255639098
           },
           {
            "CDF": 0.14998974430439138,
            "food": "low",
            "x": 1938.345864661654
           },
           {
            "CDF": 0.1534512628386146,
            "food": "low",
            "x": 1940.6015037593984
           },
           {
            "CDF": 0.15696528673384041,
            "food": "low",
            "x": 1942.857142857143
           },
           {
            "CDF": 0.1605318380385486,
            "food": "low",
            "x": 1945.1127819548872
           },
           {
            "CDF": 0.1641509161558345,
            "food": "low",
            "x": 1947.3684210526317
           },
           {
            "CDF": 0.16782249750780898,
            "food": "low",
            "x": 1949.624060150376
           },
           {
            "CDF": 0.17154653521516122,
            "food": "low",
            "x": 1951.8796992481202
           },
           {
            "CDF": 0.17532295879244797,
            "food": "low",
            "x": 1954.1353383458647
           },
           {
            "CDF": 0.1791516738596698,
            "food": "low",
            "x": 1956.390977443609
           },
           {
            "CDF": 0.183032561870688,
            "food": "low",
            "x": 1958.6466165413535
           },
           {
            "CDF": 0.18696547985900103,
            "food": "low",
            "x": 1960.9022556390978
           },
           {
            "CDF": 0.1909502602014107,
            "food": "low",
            "x": 1963.157894736842
           },
           {
            "CDF": 0.19498671040006604,
            "food": "low",
            "x": 1965.4135338345864
           },
           {
            "CDF": 0.1990746128833763,
            "food": "low",
            "x": 1967.6691729323309
           },
           {
            "CDF": 0.20321372482624928,
            "food": "low",
            "x": 1969.9248120300751
           },
           {
            "CDF": 0.20740377799011067,
            "food": "low",
            "x": 1972.1804511278197
           },
           {
            "CDF": 0.21164447858311441,
            "food": "low",
            "x": 1974.436090225564
           },
           {
            "CDF": 0.21593550714096266,
            "food": "low",
            "x": 1976.6917293233082
           },
           {
            "CDF": 0.2202765184287056,
            "food": "low",
            "x": 1978.9473684210527
           },
           {
            "CDF": 0.22466714136388266,
            "food": "low",
            "x": 1981.203007518797
           },
           {
            "CDF": 0.22910697896134624,
            "food": "low",
            "x": 1983.4586466165415
           },
           {
            "CDF": 0.23359560830006587,
            "food": "low",
            "x": 1985.7142857142858
           },
           {
            "CDF": 0.23813258051221142,
            "food": "low",
            "x": 1987.96992481203
           },
           {
            "CDF": 0.24271742079476388,
            "food": "low",
            "x": 1990.2255639097743
           },
           {
            "CDF": 0.24734962844389213,
            "food": "low",
            "x": 1992.4812030075188
           },
           {
            "CDF": 0.2520286769122967,
            "food": "low",
            "x": 1994.7368421052631
           },
           {
            "CDF": 0.25675401388970504,
            "food": "low",
            "x": 1996.9924812030076
           },
           {
            "CDF": 0.2615250614066552,
            "food": "low",
            "x": 1999.248120300752
           },
           {
            "CDF": 0.26634121596170157,
            "food": "low",
            "x": 2001.5037593984962
           },
           {
            "CDF": 0.27120184867212127,
            "food": "low",
            "x": 2003.7593984962407
           },
           {
            "CDF": 0.27610630544818615,
            "food": "low",
            "x": 2006.015037593985
           },
           {
            "CDF": 0.2810539071910366,
            "food": "low",
            "x": 2008.2706766917295
           },
           {
            "CDF": 0.28604395001414246,
            "food": "low",
            "x": 2010.5263157894738
           },
           {
            "CDF": 0.2910757054883365,
            "food": "low",
            "x": 2012.781954887218
           },
           {
            "CDF": 0.2961484209103442,
            "food": "low",
            "x": 2015.0375939849623
           },
           {
            "CDF": 0.3012613195947246,
            "food": "low",
            "x": 2017.2932330827068
           },
           {
            "CDF": 0.30641360118909194,
            "food": "low",
            "x": 2019.548872180451
           },
           {
            "CDF": 0.3116044420124694,
            "food": "low",
            "x": 2021.8045112781956
           },
           {
            "CDF": 0.3168329954165735,
            "food": "low",
            "x": 2024.0601503759399
           },
           {
            "CDF": 0.32209839216982655,
            "food": "low",
            "x": 2026.3157894736842
           },
           {
            "CDF": 0.32739974086383195,
            "food": "low",
            "x": 2028.5714285714287
           },
           {
            "CDF": 0.33273612834203614,
            "food": "low",
            "x": 2030.827067669173
           },
           {
            "CDF": 0.33810662015027004,
            "food": "low",
            "x": 2033.0827067669175
           },
           {
            "CDF": 0.34351026100881205,
            "food": "low",
            "x": 2035.3383458646617
           },
           {
            "CDF": 0.3489460753056155,
            "food": "low",
            "x": 2037.593984962406
           },
           {
            "CDF": 0.35441306761028235,
            "food": "low",
            "x": 2039.8496240601503
           },
           {
            "CDF": 0.359910223208358,
            "food": "low",
            "x": 2042.1052631578948
           },
           {
            "CDF": 0.36543650865547883,
            "food": "low",
            "x": 2044.360902255639
           },
           {
            "CDF": 0.3709908723508896,
            "food": "low",
            "x": 2046.6165413533836
           },
           {
            "CDF": 0.37657224512979737,
            "food": "low",
            "x": 2048.872180451128
           },
           {
            "CDF": 0.3821795408740319,
            "food": "low",
            "x": 2051.127819548872
           },
           {
            "CDF": 0.38781165714042454,
            "food": "low",
            "x": 2053.3834586466164
           },
           {
            "CDF": 0.39346747580631525,
            "food": "low",
            "x": 2055.6390977443607
           },
           {
            "CDF": 0.39914586373156075,
            "food": "low",
            "x": 2057.8947368421054
           },
           {
            "CDF": 0.4048456734363892,
            "food": "low",
            "x": 2060.1503759398497
           },
           {
            "CDF": 0.41056574379444655,
            "food": "low",
            "x": 2062.406015037594
           },
           {
            "CDF": 0.4163049007403158,
            "food": "low",
            "x": 2064.6616541353383
           },
           {
            "CDF": 0.4220619579908118,
            "food": "low",
            "x": 2066.9172932330825
           },
           {
            "CDF": 0.427835717779308,
            "food": "low",
            "x": 2069.1729323308273
           },
           {
            "CDF": 0.43362497160233365,
            "food": "low",
            "x": 2071.4285714285716
           },
           {
            "CDF": 0.43942850097768393,
            "food": "low",
            "x": 2073.684210526316
           },
           {
            "CDF": 0.4452450782132287,
            "food": "low",
            "x": 2075.93984962406
           },
           {
            "CDF": 0.45107346718562896,
            "food": "low",
            "x": 2078.1954887218044
           },
           {
            "CDF": 0.4569124241281311,
            "food": "low",
            "x": 2080.4511278195487
           },
           {
            "CDF": 0.46276069842660517,
            "food": "low",
            "x": 2082.7067669172934
           },
           {
            "CDF": 0.4686170334229712,
            "food": "low",
            "x": 2084.9624060150377
           },
           {
            "CDF": 0.47448016722517106,
            "food": "low",
            "x": 2087.218045112782
           },
           {
            "CDF": 0.48034883352279223,
            "food": "low",
            "x": 2089.4736842105262
           },
           {
            "CDF": 0.4862217624074827,
            "food": "low",
            "x": 2091.7293233082705
           },
           {
            "CDF": 0.49209768119726555,
            "food": "low",
            "x": 2093.9849624060153
           },
           {
            "CDF": 0.49797531526385497,
            "food": "low",
            "x": 2096.2406015037595
           },
           {
            "CDF": 0.503853388862096,
            "food": "low",
            "x": 2098.496240601504
           },
           {
            "CDF": 0.5097306259606039,
            "food": "low",
            "x": 2100.751879699248
           },
           {
            "CDF": 0.5156057510727209,
            "food": "low",
            "x": 2103.0075187969924
           },
           {
            "CDF": 0.5214774900868794,
            "food": "low",
            "x": 2105.2631578947367
           },
           {
            "CDF": 0.5273445710954754,
            "food": "low",
            "x": 2107.5187969924814
           },
           {
            "CDF": 0.5332057252213448,
            "food": "low",
            "x": 2109.7744360902257
           },
           {
            "CDF": 0.5390596874409656,
            "food": "low",
            "x": 2112.03007518797
           },
           {
            "CDF": 0.5449051974034732,
            "food": "low",
            "x": 2114.285714285714
           },
           {
            "CDF": 0.5507410002446216,
            "food": "low",
            "x": 2116.5413533834585
           },
           {
            "CDF": 0.5565658473948094,
            "food": "low",
            "x": 2118.7969924812032
           },
           {
            "CDF": 0.5623784973802974,
            "food": "low",
            "x": 2121.0526315789475
           },
           {
            "CDF": 0.568177716616779,
            "food": "low",
            "x": 2123.308270676692
           },
           {
            "CDF": 0.5739622801944338,
            "food": "low",
            "x": 2125.563909774436
           },
           {
            "CDF": 0.5797309726536513,
            "food": "low",
            "x": 2127.8195488721803
           },
           {
            "CDF": 0.5854825887505979,
            "food": "low",
            "x": 2130.0751879699246
           },
           {
            "CDF": 0.5912159342118273,
            "food": "low",
            "x": 2132.3308270676694
           },
           {
            "CDF": 0.5969298264771401,
            "food": "low",
            "x": 2134.5864661654136
           },
           {
            "CDF": 0.602623095429943,
            "food": "low",
            "x": 2136.842105263158
           },
           {
            "CDF": 0.6082945841143306,
            "food": "low",
            "x": 2139.097744360902
           },
           {
            "CDF": 0.6139431494381813,
            "food": "low",
            "x": 2141.3533834586465
           },
           {
            "CDF": 0.6195676628615476,
            "food": "low",
            "x": 2143.609022556391
           },
           {
            "CDF": 0.6251670110696502,
            "food": "low",
            "x": 2145.8646616541355
           },
           {
            "CDF": 0.6307400966298271,
            "food": "low",
            "x": 2148.1203007518798
           },
           {
            "CDF": 0.6362858386317729,
            "food": "low",
            "x": 2150.375939849624
           },
           {
            "CDF": 0.64180317331047,
            "food": "low",
            "x": 2152.6315789473683
           },
           {
            "CDF": 0.6472910546512123,
            "food": "low",
            "x": 2154.8872180451126
           },
           {
            "CDF": 0.6527484549761586,
            "food": "low",
            "x": 2157.142857142857
           },
           {
            "CDF": 0.6581743655118767,
            "food": "low",
            "x": 2159.3984962406016
           },
           {
            "CDF": 0.663567796937363,
            "food": "low",
            "x": 2161.654135338346
           },
           {
            "CDF": 0.66892777991207,
            "food": "low",
            "x": 2163.90977443609
           },
           {
            "CDF": 0.6742533655834662,
            "food": "low",
            "x": 2166.1654135338345
           },
           {
            "CDF": 0.679543626073722,
            "food": "low",
            "x": 2168.421052631579
           },
           {
            "CDF": 0.6847976549451138,
            "food": "low",
            "x": 2170.6766917293235
           },
           {
            "CDF": 0.6900145676437976,
            "food": "low",
            "x": 2172.9323308270677
           },
           {
            "CDF": 0.6951935019215985,
            "food": "low",
            "x": 2175.187969924812
           },
           {
            "CDF": 0.700333618235526,
            "food": "low",
            "x": 2177.4436090225563
           },
           {
            "CDF": 0.7054341001247415,
            "food": "low",
            "x": 2179.6992481203006
           },
           {
            "CDF": 0.7104941545647309,
            "food": "low",
            "x": 2181.954887218045
           },
           {
            "CDF": 0.7155130122984806,
            "food": "low",
            "x": 2184.2105263157896
           },
           {
            "CDF": 0.7204899281444681,
            "food": "low",
            "x": 2186.466165413534
           },
           {
            "CDF": 0.7254241812813373,
            "food": "low",
            "x": 2188.721804511278
           },
           {
            "CDF": 0.7303150755091234,
            "food": "low",
            "x": 2190.9774436090224
           },
           {
            "CDF": 0.7351619394869582,
            "food": "low",
            "x": 2193.233082706767
           },
           {
            "CDF": 0.7399641269471933,
            "food": "low",
            "x": 2195.4887218045114
           },
           {
            "CDF": 0.7447210168859327,
            "food": "low",
            "x": 2197.7443609022557
           },
           {
            "CDF": 0.7494320137299673,
            "food": "low",
            "x": 2200
           },
           {
            "CDF": 0.7540965474801616,
            "food": "low",
            "x": 2202.2556390977443
           },
           {
            "CDF": 0.7587140738313619,
            "food": "low",
            "x": 2204.5112781954886
           },
           {
            "CDF": 0.763284074268921,
            "food": "low",
            "x": 2206.766917293233
           },
           {
            "CDF": 0.7678060561419731,
            "food": "low",
            "x": 2209.0225563909776
           },
           {
            "CDF": 0.772279552713609,
            "food": "low",
            "x": 2211.278195488722
           },
           {
            "CDF": 0.7767041231881534,
            "food": "low",
            "x": 2213.533834586466
           },
           {
            "CDF": 0.7810793527157358,
            "food": "low",
            "x": 2215.7894736842104
           },
           {
            "CDF": 0.7854048523744154,
            "food": "low",
            "x": 2218.045112781955
           },
           {
            "CDF": 0.7896802591301126,
            "food": "low",
            "x": 2220.3007518796994
           },
           {
            "CDF": 0.7939052357746571,
            "food": "low",
            "x": 2222.5563909774437
           },
           {
            "CDF": 0.7980794708422487,
            "food": "low",
            "x": 2224.812030075188
           },
           {
            "CDF": 0.802202678504693,
            "food": "low",
            "x": 2227.0676691729323
           },
           {
            "CDF": 0.8062745984457655,
            "food": "low",
            "x": 2229.3233082706765
           },
           {
            "CDF": 0.8102949957150984,
            "food": "low",
            "x": 2231.578947368421
           },
           {
            "CDF": 0.8142636605619975,
            "food": "low",
            "x": 2233.8345864661655
           },
           {
            "CDF": 0.8181804082496185,
            "food": "low",
            "x": 2236.09022556391
           },
           {
            "CDF": 0.8220450788499625,
            "food": "low",
            "x": 2238.345864661654
           },
           {
            "CDF": 0.8258575370201484,
            "food": "low",
            "x": 2240.6015037593984
           },
           {
            "CDF": 0.8296176717604585,
            "food": "low",
            "x": 2242.857142857143
           },
           {
            "CDF": 0.8333253961546565,
            "food": "low",
            "x": 2245.1127819548874
           },
           {
            "CDF": 0.8369806470931107,
            "food": "low",
            "x": 2247.3684210526317
           },
           {
            "CDF": 0.8405833849792422,
            "food": "low",
            "x": 2249.624060150376
           },
           {
            "CDF": 0.8441335934198617,
            "food": "low",
            "x": 2251.8796992481202
           },
           {
            "CDF": 0.8476312788999518,
            "food": "low",
            "x": 2254.1353383458645
           },
           {
            "CDF": 0.8510764704424729,
            "food": "low",
            "x": 2256.390977443609
           },
           {
            "CDF": 0.8544692192537784,
            "food": "low",
            "x": 2258.6466165413535
           },
           {
            "CDF": 0.8578095983552332,
            "food": "low",
            "x": 2260.902255639098
           },
           {
            "CDF": 0.8610977022016484,
            "food": "low",
            "x": 2263.157894736842
           },
           {
            "CDF": 0.8643336462871343,
            "food": "low",
            "x": 2265.4135338345864
           },
           {
            "CDF": 0.8675175667390005,
            "food": "low",
            "x": 2267.669172932331
           },
           {
            "CDF": 0.8706496199003217,
            "food": "low",
            "x": 2269.9248120300754
           },
           {
            "CDF": 0.8737299819018103,
            "food": "low",
            "x": 2272.1804511278197
           },
           {
            "CDF": 0.8767588482236153,
            "food": "low",
            "x": 2274.436090225564
           },
           {
            "CDF": 0.8797364332476953,
            "food": "low",
            "x": 2276.691729323308
           },
           {
            "CDF": 0.8826629698014002,
            "food": "low",
            "x": 2278.9473684210525
           },
           {
            "CDF": 0.8855387086929002,
            "food": "low",
            "x": 2281.2030075187968
           },
           {
            "CDF": 0.8883639182391012,
            "food": "low",
            "x": 2283.4586466165415
           },
           {
            "CDF": 0.8911388837866838,
            "food": "low",
            "x": 2285.714285714286
           },
           {
            "CDF": 0.8938639072269055,
            "food": "low",
            "x": 2287.96992481203
           },
           {
            "CDF": 0.8965393065047882,
            "food": "low",
            "x": 2290.2255639097743
           },
           {
            "CDF": 0.899165415123332,
            "food": "low",
            "x": 2292.481203007519
           },
           {
            "CDF": 0.9017425816433664,
            "food": "low",
            "x": 2294.7368421052633
           },
           {
            "CDF": 0.9042711691796674,
            "food": "low",
            "x": 2296.9924812030076
           },
           {
            "CDF": 0.9067515548939438,
            "food": "low",
            "x": 2299.248120300752
           },
           {
            "CDF": 0.9091841294852978,
            "food": "low",
            "x": 2301.503759398496
           },
           {
            "CDF": 0.9115692966787605,
            "food": "low",
            "x": 2303.7593984962405
           },
           {
            "CDF": 0.9139074727124818,
            "food": "low",
            "x": 2306.0150375939847
           },
           {
            "CDF": 0.9161990858241571,
            "food": "low",
            "x": 2308.2706766917295
           },
           {
            "CDF": 0.9184445757372535,
            "food": "low",
            "x": 2310.5263157894738
           },
           {
            "CDF": 0.9206443931475989,
            "food": "low",
            "x": 2312.781954887218
           },
           {
            "CDF": 0.9227989992108676,
            "food": "low",
            "x": 2315.0375939849623
           },
           {
            "CDF": 0.9249088650315037,
            "food": "low",
            "x": 2317.293233082707
           },
           {
            "CDF": 0.9269744711535965,
            "food": "low",
            "x": 2319.5488721804513
           },
           {
            "CDF": 0.9289963070542205,
            "food": "low",
            "x": 2321.8045112781956
           },
           {
            "CDF": 0.9309748706397241,
            "food": "low",
            "x": 2324.06015037594
           },
           {
            "CDF": 0.9329106677454527,
            "food": "low",
            "x": 2326.315789473684
           },
           {
            "CDF": 0.9348042116393682,
            "food": "low",
            "x": 2328.5714285714284
           },
           {
            "CDF": 0.9366560225300123,
            "food": "low",
            "x": 2330.8270676691727
           },
           {
            "CDF": 0.93846662707925,
            "food": "low",
            "x": 2333.0827067669175
           },
           {
            "CDF": 0.9402365579202078,
            "food": "low",
            "x": 2335.3383458646617
           },
           {
            "CDF": 0.9419663531808159,
            "food": "low",
            "x": 2337.593984962406
           },
           {
            "CDF": 0.9436565560133311,
            "food": "low",
            "x": 2339.8496240601503
           },
           {
            "CDF": 0.9453077141302175,
            "food": "low",
            "x": 2342.105263157895
           },
           {
            "CDF": 0.946920379346734,
            "food": "low",
            "x": 2344.3609022556393
           },
           {
            "CDF": 0.9484951071305693,
            "food": "low",
            "x": 2346.6165413533836
           },
           {
            "CDF": 0.9500324561588379,
            "food": "low",
            "x": 2348.872180451128
           },
           {
            "CDF": 0.9515329878827458,
            "food": "low",
            "x": 2351.127819548872
           },
           {
            "CDF": 0.9529972661002075,
            "food": "low",
            "x": 2353.3834586466164
           },
           {
            "CDF": 0.9544258565366851,
            "food": "low",
            "x": 2355.6390977443607
           },
           {
            "CDF": 0.9558193264345007,
            "food": "low",
            "x": 2357.8947368421054
           },
           {
            "CDF": 0.9571782441508551,
            "food": "low",
            "x": 2360.1503759398497
           },
           {
            "CDF": 0.9585031787647744,
            "food": "low",
            "x": 2362.406015037594
           },
           {
            "CDF": 0.9597946996931821,
            "food": "low",
            "x": 2364.6616541353383
           },
           {
            "CDF": 0.9610533763162804,
            "food": "low",
            "x": 2366.917293233083
           },
           {
            "CDF": 0.9622797776124115,
            "food": "low",
            "x": 2369.1729323308273
           },
           {
            "CDF": 0.963474471802549,
            "food": "low",
            "x": 2371.4285714285716
           },
           {
            "CDF": 0.9646380260045517,
            "food": "low",
            "x": 2373.684210526316
           },
           {
            "CDF": 0.9657710058973029,
            "food": "low",
            "x": 2375.93984962406
           },
           {
            "CDF": 0.9668739753948352,
            "food": "low",
            "x": 2378.1954887218044
           },
           {
            "CDF": 0.96794749633053,
            "food": "low",
            "x": 2380.4511278195487
           },
           {
            "CDF": 0.9689921281514646,
            "food": "low",
            "x": 2382.7067669172934
           },
           {
            "CDF": 0.9700084276229615,
            "food": "low",
            "x": 2384.9624060150377
           },
           {
            "CDF": 0.9709969485433878,
            "food": "low",
            "x": 2387.218045112782
           },
           {
            "CDF": 0.9719582414692276,
            "food": "low",
            "x": 2389.4736842105262
           },
           {
            "CDF": 0.9728928534504461,
            "food": "low",
            "x": 2391.729323308271
           },
           {
            "CDF": 0.9738013277761433,
            "food": "low",
            "x": 2393.9849624060153
           },
           {
            "CDF": 0.9746842037304883,
            "food": "low",
            "x": 2396.2406015037595
           },
           {
            "CDF": 0.9755420163589059,
            "food": "low",
            "x": 2398.496240601504
           },
           {
            "CDF": 0.9763752962444795,
            "food": "low",
            "x": 2400.751879699248
           },
           {
            "CDF": 0.9771845692945197,
            "food": "low",
            "x": 2403.0075187969924
           },
           {
            "CDF": 0.977970356537239,
            "food": "low",
            "x": 2405.2631578947367
           },
           {
            "CDF": 0.9787331739284576,
            "food": "low",
            "x": 2407.5187969924814
           },
           {
            "CDF": 0.9794735321682584,
            "food": "low",
            "x": 2409.7744360902257
           },
           {
            "CDF": 0.9801919365274987,
            "food": "low",
            "x": 2412.03007518797
           },
           {
            "CDF": 0.9808888866840716,
            "food": "low",
            "x": 2414.285714285714
           },
           {
            "CDF": 0.9815648765688076,
            "food": "low",
            "x": 2416.541353383459
           },
           {
            "CDF": 0.9822203942208917,
            "food": "low",
            "x": 2418.7969924812032
           },
           {
            "CDF": 0.9828559216526674,
            "food": "low",
            "x": 2421.0526315789475
           },
           {
            "CDF": 0.9834719347236878,
            "food": "low",
            "x": 2423.308270676692
           },
           {
            "CDF": 0.9840689030238665,
            "food": "low",
            "x": 2425.563909774436
           },
           {
            "CDF": 0.9846472897655774,
            "food": "low",
            "x": 2427.8195488721803
           },
           {
            "CDF": 0.9852075516845397,
            "food": "low",
            "x": 2430.0751879699246
           },
           {
            "CDF": 0.9857501389493248,
            "food": "low",
            "x": 2432.3308270676694
           },
           {
            "CDF": 0.9862754950793088,
            "food": "low",
            "x": 2434.5864661654136
           },
           {
            "CDF": 0.986784056870897,
            "food": "low",
            "x": 2436.842105263158
           },
           {
            "CDF": 0.9872762543318332,
            "food": "low",
            "x": 2439.097744360902
           },
           {
            "CDF": 0.9877525106234102,
            "food": "low",
            "x": 2441.353383458647
           },
           {
            "CDF": 0.9882132420103853,
            "food": "low",
            "x": 2443.609022556391
           },
           {
            "CDF": 0.9886588578184116,
            "food": "low",
            "x": 2445.8646616541355
           },
           {
            "CDF": 0.9890897603987796,
            "food": "low",
            "x": 2448.1203007518798
           },
           {
            "CDF": 0.9895063451002737,
            "food": "low",
            "x": 2450.375939849624
           },
           {
            "CDF": 0.9899090002479348,
            "food": "low",
            "x": 2452.6315789473683
           },
           {
            "CDF": 0.9902981071285266,
            "food": "low",
            "x": 2454.8872180451126
           },
           {
            "CDF": 0.9906740399824948,
            "food": "low",
            "x": 2457.1428571428573
           },
           {
            "CDF": 0.9910371660022116,
            "food": "low",
            "x": 2459.3984962406016
           },
           {
            "CDF": 0.9913878453362954,
            "food": "low",
            "x": 2461.654135338346
           },
           {
            "CDF": 0.991726431099794,
            "food": "low",
            "x": 2463.90977443609
           },
           {
            "CDF": 0.9920532693900197,
            "food": "low",
            "x": 2466.165413533835
           },
           {
            "CDF": 0.9923686993078266,
            "food": "low",
            "x": 2468.421052631579
           },
           {
            "CDF": 0.9926730529841183,
            "food": "low",
            "x": 2470.6766917293235
           },
           {
            "CDF": 0.9929666556113756,
            "food": "low",
            "x": 2472.9323308270677
           },
           {
            "CDF": 0.9932498254799947,
            "food": "low",
            "x": 2475.187969924812
           },
           {
            "CDF": 0.9935228740192286,
            "food": "low",
            "x": 2477.4436090225563
           },
           {
            "CDF": 0.9937861058425241,
            "food": "low",
            "x": 2479.6992481203006
           },
           {
            "CDF": 0.9940398187970506,
            "food": "low",
            "x": 2481.9548872180453
           },
           {
            "CDF": 0.9942843040172156,
            "food": "low",
            "x": 2484.2105263157896
           },
           {
            "CDF": 0.9945198459819684,
            "food": "low",
            "x": 2486.466165413534
           },
           {
            "CDF": 0.9947467225756927,
            "food": "low",
            "x": 2488.721804511278
           },
           {
            "CDF": 0.9949652051524912,
            "food": "low",
            "x": 2490.9774436090224
           },
           {
            "CDF": 0.9951755586036716,
            "food": "low",
            "x": 2493.233082706767
           },
           {
            "CDF": 0.9953780414282415,
            "food": "low",
            "x": 2495.4887218045114
           },
           {
            "CDF": 0.995572905806228,
            "food": "low",
            "x": 2497.7443609022557
           },
           {
            "CDF": 0.9957603976746366,
            "food": "low",
            "x": 2500
           }
          ]
         },
         "encoding": {
          "color": {
           "field": "food",
           "legend": null,
           "type": "nominal"
          },
          "order": {
           "field": "x",
           "type": "quantitative"
          },
          "x": {
           "field": "x",
           "title": "egg cross sectional area (µm²)",
           "type": "quantitative"
          },
          "y": {
           "field": "CDF",
           "type": "quantitative"
          }
         },
         "mark": {
          "color": "gray",
          "type": "line"
         }
        },
        {
         "data": {
          "values": [
           {
            "ECDF": 0.13636363636363635,
            "area (sq um)": 1683,
            "food": "high"
           },
           {
            "ECDF": 0.9318181818181818,
            "area (sq um)": 2061,
            "food": "high"
           },
           {
            "ECDF": 0.45454545454545453,
            "area (sq um)": 1792,
            "food": "high"
           },
           {
            "ECDF": 0.7045454545454546,
            "area (sq um)": 1852,
            "food": "high"
           },
           {
            "ECDF": 0.9545454545454546,
            "area (sq um)": 2091,
            "food": "high"
           },
           {
            "ECDF": 0.4090909090909091,
            "area (sq um)": 1781,
            "food": "high"
           },
           {
            "ECDF": 0.8181818181818182,
            "area (sq um)": 1912,
            "food": "high"
           },
           {
            "ECDF": 0.5227272727272727,
            "area (sq um)": 1802,
            "food": "high"
           },
           {
            "ECDF": 0.36363636363636365,
            "area (sq um)": 1751,
            "food": "high"
           },
           {
            "ECDF": 0.29545454545454547,
            "area (sq um)": 1731,
            "food": "high"
           },
           {
            "ECDF": 0.7727272727272727,
            "area (sq um)": 1892,
            "food": "high"
           },
           {
            "ECDF": 0.8863636363636364,
            "area (sq um)": 1951,
            "food": "high"
           },
           {
            "ECDF": 0.5454545454545454,
            "area (sq um)": 1809,
            "food": "high"
           },
           {
            "ECDF": 0.1590909090909091,
            "area (sq um)": 1683,
            "food": "high"
           },
           {
            "ECDF": 0.4318181818181818,
            "area (sq um)": 1787,
            "food": "high"
           },
           {
            "ECDF": 0.6590909090909091,
            "area (sq um)": 1840,
            "food": "high"
           },
           {
            "ECDF": 0.5681818181818182,
            "area (sq um)": 1821,
            "food": "high"
           },
           {
            "ECDF": 0.7954545454545454,
            "area (sq um)": 1910,
            "food": "high"
           },
           {
            "ECDF": 0.8409090909090909,
            "area (sq um)": 1930,
            "food": "high"
           },
           {
            "ECDF": 0.4772727272727273,
            "area (sq um)": 1800,
            "food": "high"
           },
           {
            "ECDF": 0.6363636363636364,
            "area (sq um)": 1833,
            "food": "high"
           },
           {
            "ECDF": 0.18181818181818182,
            "area (sq um)": 1683,
            "food": "high"
           },
           {
            "ECDF": 0.09090909090909091,
            "area (sq um)": 1671,
            "food": "high"
           },
           {
            "ECDF": 0.11363636363636363,
            "area (sq um)": 1680,
            "food": "high"
           },
           {
            "ECDF": 0.20454545454545456,
            "area (sq um)": 1692,
            "food": "high"
           },
           {
            "ECDF": 0.5,
            "area (sq um)": 1800,
            "food": "high"
           },
           {
            "ECDF": 0.5909090909090909,
            "area (sq um)": 1821,
            "food": "high"
           },
           {
            "ECDF": 0.75,
            "area (sq um)": 1882,
            "food": "high"
           },
           {
            "ECDF": 0.022727272727272728,
            "area (sq um)": 1642,
            "food": "high"
           },
           {
            "ECDF": 0.3409090909090909,
            "area (sq um)": 1749,
            "food": "high"
           },
           {
            "ECDF": 0.25,
            "area (sq um)": 1712,
            "food": "high"
           },
           {
            "ECDF": 0.06818181818181818,
            "area (sq um)": 1661,
            "food": "high"
           },
           {
            "ECDF": 0.22727272727272727,
            "area (sq um)": 1701,
            "food": "high"
           },
           {
            "ECDF": 1,
            "area (sq um)": 2141,
            "food": "high"
           },
           {
            "ECDF": 0.7272727272727273,
            "area (sq um)": 1863,
            "food": "high"
           },
           {
            "ECDF": 0.38636363636363635,
            "area (sq um)": 1752,
            "food": "high"
           },
           {
            "ECDF": 0.3181818181818182,
            "area (sq um)": 1740,
            "food": "high"
           },
           {
            "ECDF": 0.2727272727272727,
            "area (sq um)": 1721,
            "food": "high"
           },
           {
            "ECDF": 0.045454545454545456,
            "area (sq um)": 1660,
            "food": "high"
           },
           {
            "ECDF": 0.8636363636363636,
            "area (sq um)": 1930,
            "food": "high"
           },
           {
            "ECDF": 0.9090909090909091,
            "area (sq um)": 2030,
            "food": "high"
           },
           {
            "ECDF": 0.6818181818181818,
            "area (sq um)": 1851,
            "food": "high"
           },
           {
            "ECDF": 0.9772727272727273,
            "area (sq um)": 2131,
            "food": "high"
           },
           {
            "ECDF": 0.6136363636363636,
            "area (sq um)": 1828,
            "food": "high"
           },
           {
            "ECDF": 0.08771929824561403,
            "area (sq um)": 1840,
            "food": "low"
           },
           {
            "ECDF": 0.40350877192982454,
            "area (sq um)": 2090,
            "food": "low"
           },
           {
            "ECDF": 0.7368421052631579,
            "area (sq um)": 2169,
            "food": "low"
           },
           {
            "ECDF": 0.21052631578947367,
            "area (sq um)": 1988,
            "food": "low"
           },
           {
            "ECDF": 0.8245614035087719,
            "area (sq um)": 2212,
            "food": "low"
           },
           {
            "ECDF": 0.9473684210526315,
            "area (sq um)": 2339,
            "food": "low"
           },
           {
            "ECDF": 0.22807017543859648,
            "area (sq um)": 1989,
            "food": "low"
           },
           {
            "ECDF": 0.631578947368421,
            "area (sq um)": 2144,
            "food": "low"
           },
           {
            "ECDF": 0.9298245614035088,
            "area (sq um)": 2290,
            "food": "low"
           },
           {
            "ECDF": 0.15789473684210525,
            "area (sq um)": 1920,
            "food": "low"
           },
           {
            "ECDF": 0.9122807017543859,
            "area (sq um)": 2280,
            "food": "low"
           },
           {
            "ECDF": 0.05263157894736842,
            "area (sq um)": 1809,
            "food": "low"
           },
           {
            "ECDF": 0.6842105263157895,
            "area (sq um)": 2158,
            "food": "low"
           },
           {
            "ECDF": 0.03508771929824561,
            "area (sq um)": 1800,
            "food": "low"
           },
           {
            "ECDF": 0.5789473684210527,
            "area (sq um)": 2133,
            "food": "low"
           },
           {
            "ECDF": 0.3508771929824561,
            "area (sq um)": 2060,
            "food": "low"
           },
           {
            "ECDF": 0.7017543859649122,
            "area (sq um)": 2160,
            "food": "low"
           },
           {
            "ECDF": 0.24561403508771928,
            "area (sq um)": 2001,
            "food": "low"
           },
           {
            "ECDF": 0.3333333333333333,
            "area (sq um)": 2030,
            "food": "low"
           },
           {
            "ECDF": 0.38596491228070173,
            "area (sq um)": 2088,
            "food": "low"
           },
           {
            "ECDF": 0.17543859649122806,
            "area (sq um)": 1951,
            "food": "low"
           },
           {
            "ECDF": 1,
            "area (sq um)": 2460,
            "food": "low"
           },
           {
            "ECDF": 0.2982456140350877,
            "area (sq um)": 2021,
            "food": "low"
           },
           {
            "ECDF": 0.2807017543859649,
            "area (sq um)": 2010,
            "food": "low"
           },
           {
            "ECDF": 0.5964912280701754,
            "area (sq um)": 2139,
            "food": "low"
           },
           {
            "ECDF": 0.7192982456140351,
            "area (sq um)": 2160,
            "food": "low"
           },
           {
            "ECDF": 0.43859649122807015,
            "area (sq um)": 2106,
            "food": "low"
           },
           {
            "ECDF": 0.7543859649122807,
            "area (sq um)": 2171,
            "food": "low"
           },
           {
            "ECDF": 0.47368421052631576,
            "area (sq um)": 2113,
            "food": "low"
           },
           {
            "ECDF": 0.7719298245614035,
            "area (sq um)": 2179,
            "food": "low"
           },
           {
            "ECDF": 0.10526315789473684,
            "area (sq um)": 1890,
            "food": "low"
           },
           {
            "ECDF": 0.7894736842105263,
            "area (sq um)": 2179,
            "food": "low"
           },
           {
            "ECDF": 0.3157894736842105,
            "area (sq um)": 2021,
            "food": "low"
           },
           {
            "ECDF": 0.19298245614035087,
            "area (sq um)": 1969,
            "food": "low"
           },
           {
            "ECDF": 0.6491228070175439,
            "area (sq um)": 2150,
            "food": "low"
           },
           {
            "ECDF": 0.12280701754385964,
            "area (sq um)": 1900,
            "food": "low"
           },
           {
            "ECDF": 0.8947368421052632,
            "area (sq um)": 2267,
            "food": "low"
           },
           {
            "ECDF": 0.017543859649122806,
            "area (sq um)": 1711,
            "food": "low"
           },
           {
            "ECDF": 0.14035087719298245,
            "area (sq um)": 1901,
            "food": "low"
           },
           {
            "ECDF": 0.49122807017543857,
            "area (sq um)": 2114,
            "food": "low"
           },
           {
            "ECDF": 0.45614035087719296,
            "area (sq um)": 2112,
            "food": "low"
           },
           {
            "ECDF": 0.9649122807017544,
            "area (sq um)": 2361,
            "food": "low"
           },
           {
            "ECDF": 0.543859649122807,
            "area (sq um)": 2130,
            "food": "low"
           },
           {
            "ECDF": 0.3684210526315789,
            "area (sq um)": 2061,
            "food": "low"
           },
           {
            "ECDF": 0.5087719298245614,
            "area (sq um)": 2121,
            "food": "low"
           },
           {
            "ECDF": 0.07017543859649122,
            "area (sq um)": 1832,
            "food": "low"
           },
           {
            "ECDF": 0.8070175438596491,
            "area (sq um)": 2210,
            "food": "low"
           },
           {
            "ECDF": 0.5614035087719298,
            "area (sq um)": 2130,
            "food": "low"
           },
           {
            "ECDF": 0.6666666666666666,
            "area (sq um)": 2153,
            "food": "low"
           },
           {
            "ECDF": 0.2631578947368421,
            "area (sq um)": 2009,
            "food": "low"
           },
           {
            "ECDF": 0.42105263157894735,
            "area (sq um)": 2100,
            "food": "low"
           },
           {
            "ECDF": 0.8596491228070176,
            "area (sq um)": 2252,
            "food": "low"
           },
           {
            "ECDF": 0.6140350877192983,
            "area (sq um)": 2143,
            "food": "low"
           },
           {
            "ECDF": 0.8771929824561403,
            "area (sq um)": 2252,
            "food": "low"
           },
           {
            "ECDF": 0.8421052631578947,
            "area (sq um)": 2222,
            "food": "low"
           },
           {
            "ECDF": 0.5263157894736842,
            "area (sq um)": 2121,
            "food": "low"
           },
           {
            "ECDF": 0.9824561403508771,
            "area (sq um)": 2409,
            "food": "low"
           }
          ]
         },
         "encoding": {
          "color": {
           "field": "food",
           "type": "nominal"
          },
          "x": {
           "field": "area (sq um)",
           "title": "egg cross sectional area (µm²)",
           "type": "quantitative"
          },
          "y": {
           "field": "ECDF",
           "title": "CDF",
           "type": "quantitative"
          }
         },
         "mark": "point"
        }
       ]
      },
      "image/png": "[encoded data removed]",
      "text/plain": [
       "<VegaLite 2 object>\n",
       "\n",
       "If you see this message, it means the renderer has not been properly enabled\n",
       "for the frontend that you are using. For more information, see\n",
       "https://altair-viz.github.io/user_guide/troubleshooting.html\n"
      ]
     },
     "execution_count": 12,
     "metadata": {},
     "output_type": "execute_result"
    }
   ],
   "source": [
    "# 1. Generate ECDFs\n",
    "grouped = df.groupby('food')\n",
    "df['ECDF'] = grouped.transform(bootcamp_utils.ecdf_y)\n",
    "\n",
    "# 2. Generate a data fram with smooth curves\n",
    "df_summary = grouped.agg([np.mean, np.std])\n",
    "x = np.linspace(1600, 2500, 400)\n",
    "df_list = []\n",
    "for key, g in grouped['area (sq um)']:\n",
    "    cdf = scipy.stats.norm.cdf(x, loc=g.mean(), scale=g.std())\n",
    "    df_list.append(pd.DataFrame(data={'x': x,\n",
    "                                      'CDF': cdf,\n",
    "                                      'food': key}))\n",
    "df_smooth = pd.concat(df_list, ignore_index=True)\n",
    "\n",
    "# 3. Make plots\n",
    "smooth = alt.Chart(df_smooth\n",
    "    ).mark_line(\n",
    "        color='gray'\n",
    "    ).encode(\n",
    "        x=alt.X('x:Q', title='egg cross sectional area (µm²)'),\n",
    "        y='CDF:Q',\n",
    "        color=alt.Color('food:N', legend=None),\n",
    "        order='x:Q')\n",
    "\n",
    "dots = alt.Chart(df\n",
    "    ).mark_point(\n",
    "    ).encode(\n",
    "        x=alt.X('area (sq um):Q', title='egg cross sectional area (µm²)'),\n",
    "        y=alt.Y('ECDF:Q', title='CDF'),\n",
    "        color=alt.Color('food:N'))\n",
    "\n",
    "smooth + dots"
   ]
  },
  {
   "cell_type": "markdown",
   "metadata": {},
   "source": [
    "<br />"
   ]
  },
  {
   "cell_type": "markdown",
   "metadata": {},
   "source": [
    "### A reminder about documentation\n",
    "\n",
    "It is important to note that I didn't just memorize how all of these functions work when I wrote these practice exercises.  I looked at the online documentation.  For example, I looked at the [`alt.Color` documentation](https://altair-viz.github.io/user_guide/API.html#altair.Color), and the [`scipy.stats.norm` documentation](http://docs.scipy.org/doc/scipy/reference/generated/scipy.stats.norm.html).  To find those links, I just Googled \"Altair color legend\" and \"`scipy.stats`\".\n",
    "\n",
    "These packages are all very well documented, and those docs will be your guide.  You don't need to memorize (though you will eventually just by accident)."
   ]
  }
 ],
 "metadata": {
  "anaconda-cloud": {},
  "kernelspec": {
   "display_name": "Python 3",
   "language": "python",
   "name": "python3"
  },
  "language_info": {
   "codemirror_mode": {
    "name": "ipython",
    "version": 3
   },
   "file_extension": ".py",
   "mimetype": "text/x-python",
   "name": "python",
   "nbconvert_exporter": "python",
   "pygments_lexer": "ipython3",
   "version": "3.6.5"
  }
 },
 "nbformat": 4,
 "nbformat_minor": 2
}
