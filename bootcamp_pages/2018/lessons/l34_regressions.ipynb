{
 "cells": [
  {
   "cell_type": "markdown",
   "metadata": {},
   "source": [
    "# Lesson 34: Performing regressions\n",
    "\n",
    "(c) 2018 Justin Bois. With the exception of pasted graphics, where the source is noted, this work is licensed under a [Creative Commons Attribution License CC-BY 4.0](https://creativecommons.org/licenses/by/4.0/). All code contained herein is licensed under an [MIT license](https://opensource.org/licenses/MIT).\n",
    "\n",
    "This document was prepared at [Caltech](http://www.caltech.edu) with financial support from the [Donna and Benjamin M. Rosen Bioengineering Center](http://rosen.caltech.edu).\n",
    "\n",
    "<img src=\"caltech_rosen.png\">\n",
    "\n",
    "*This tutorial was generated from a Jupyter notebook.  You can download the notebook [here](l34_regressions.ipynb).*\n",
    "\n",
    "<br /><br />"
   ]
  },
  {
   "cell_type": "code",
   "execution_count": 1,
   "metadata": {
    "collapsed": false
   },
   "outputs": [],
   "source": [
    "import numpy as np\n",
    "import pandas as pd\n",
    "\n",
    "# We'll use scipy.optimize.curve_fit to do the nonlinear regression\n",
    "import scipy.optimize\n",
    "\n",
    "import altair as alt"
   ]
  },
  {
   "cell_type": "markdown",
   "metadata": {},
   "source": [
    "## Bicoid and its gradient\n",
    "\n",
    "In this tutorial, we will perform a nonlinear regression on data from a classic paper by Driever and Nüsslein-Volhard ([*Cell*, **54**, 95–104, 1988](https://doi.org/10.1016/0092-8674(88)90183-3)).  In this paper, the authors identified Bicoid the first **morphogen**, a chemical substance that controls cell fate in a concentration dependent manner.  In the context of *Drosophila* embryogenesis, Bicoid (Bcd) exhibits a concentration gradient, with a high concentration in the anterior region of the embryo and a low concentration in posterior region.  Below is an image of the Bicound gradient from an immunostaining experiment from their paper.\n",
    "\n",
    "<img src=\"bcd_immunostain.png\" width=\"300\"/>\n",
    "\n",
    "Driever and Nüsslein-Volhard quantified this gradient by measuring the darkness of the immunostain as a function of distance between the anterior and posterior of the embryo.  Our goal in this lesson is to perform a regression to get the characteristic length of the Bcd gradient.  Specifically, based on physical modeling we will not go into here, we expect the Bcd gradient to be exponential, or\n",
    "\n",
    "\\begin{align}\n",
    "c(x) = c_0 \\mathrm{e}^{-x/\\lambda},\n",
    "\\end{align}\n",
    "\n",
    "where $c(x)$ is the Bcd concentration at position $x$, with $x = 0$ at the anterior and $x = 1$ at the posterior.  I.e., $x$ is in units of the total AP axis length.  The Bcd concentration at the anterior is $c_0$, and the decay length, or characteristic length, of the gradient is $\\lambda$.  We assume that the intensity of the immunostain is \n",
    "\n",
    "\\begin{align}\n",
    "I = a + b c,\n",
    "\\end{align}\n",
    "\n",
    "where $a$ is the background signal and the immunostain intensity varies linearly with Bcd concentration.  Thus, Bcd gradient, as visualized by immunostaining, is\n",
    "\n",
    "\\begin{align}\n",
    "I(x) = a + I_0\\mathrm{e}^{-x/\\lambda}.\\\\[1em]\n",
    "\\phantom{blah}\n",
    "\\end{align}"
   ]
  },
  {
   "cell_type": "markdown",
   "metadata": {},
   "source": [
    "## The data set\n",
    "\n",
    "We will use the original data from Driever and Nüsslein-Volhard, available in `~/git/data/bcd_gradient.csv`.  We will first look at the file to see how we should import it."
   ]
  },
  {
   "cell_type": "code",
   "execution_count": 2,
   "metadata": {
    "collapsed": false
   },
   "outputs": [
    {
     "name": "stdout",
     "output_type": "stream",
     "text": [
      "# Data taken from Fig. 3A of Driever and Nuesslein-Volhard, Cell,\n",
      "# 54, 95-104, 1988.  This is the normalized immunostain intensity\n",
      "# as a function of distance along the A-P axis in a wild type\n",
      "# embryo.\n",
      "fractional distance from anterior,[bcd] (a.u.)\n",
      "0.0026446672455988007,0.86309692805632854\n",
      "0.034222783610957611,0.86309692805632854\n",
      "0.068445567221915221,0.74572710237919493\n",
      "0.10262887818741613,0.65487479416273942\n",
      "0.13420699455277493,0.54511384929873385\n"
     ]
    }
   ],
   "source": [
    "!head data/bcd_gradient.csv"
   ]
  },
  {
   "cell_type": "markdown",
   "metadata": {},
   "source": [
    "We see that this is a CSV file with two columns and comments preceded by `#`.  The header row is given.  So, we know how to use `pd.read_csv` to import the data."
   ]
  },
  {
   "cell_type": "code",
   "execution_count": 3,
   "metadata": {
    "collapsed": false
   },
   "outputs": [
    {
     "data": {
      "text/html": [
       "<div>\n",
       "<style scoped>\n",
       "    .dataframe tbody tr th:only-of-type {\n",
       "        vertical-align: middle;\n",
       "    }\n",
       "\n",
       "    .dataframe tbody tr th {\n",
       "        vertical-align: top;\n",
       "    }\n",
       "\n",
       "    .dataframe thead th {\n",
       "        text-align: right;\n",
       "    }\n",
       "</style>\n",
       "<table border=\"1\" class=\"dataframe\">\n",
       "  <thead>\n",
       "    <tr style=\"text-align: right;\">\n",
       "      <th></th>\n",
       "      <th>fractional distance from anterior</th>\n",
       "      <th>[bcd] (a.u.)</th>\n",
       "    </tr>\n",
       "  </thead>\n",
       "  <tbody>\n",
       "    <tr>\n",
       "      <th>0</th>\n",
       "      <td>0.002645</td>\n",
       "      <td>0.863097</td>\n",
       "    </tr>\n",
       "    <tr>\n",
       "      <th>1</th>\n",
       "      <td>0.034223</td>\n",
       "      <td>0.863097</td>\n",
       "    </tr>\n",
       "    <tr>\n",
       "      <th>2</th>\n",
       "      <td>0.068446</td>\n",
       "      <td>0.745727</td>\n",
       "    </tr>\n",
       "    <tr>\n",
       "      <th>3</th>\n",
       "      <td>0.102629</td>\n",
       "      <td>0.654875</td>\n",
       "    </tr>\n",
       "    <tr>\n",
       "      <th>4</th>\n",
       "      <td>0.134207</td>\n",
       "      <td>0.545114</td>\n",
       "    </tr>\n",
       "  </tbody>\n",
       "</table>\n",
       "</div>"
      ],
      "text/plain": [
       "   fractional distance from anterior  [bcd] (a.u.)\n",
       "0                           0.002645      0.863097\n",
       "1                           0.034223      0.863097\n",
       "2                           0.068446      0.745727\n",
       "3                           0.102629      0.654875\n",
       "4                           0.134207      0.545114"
      ]
     },
     "execution_count": 3,
     "metadata": {},
     "output_type": "execute_result"
    }
   ],
   "source": [
    "# Import data set\n",
    "df = pd.read_csv('data/bcd_gradient.csv', comment='#')\n",
    "\n",
    "# Inspect DataFrame\n",
    "df.head()"
   ]
  },
  {
   "cell_type": "markdown",
   "metadata": {},
   "source": [
    "Because Altair does not like brackets and periods, let's rename the bcd concentration column."
   ]
  },
  {
   "cell_type": "code",
   "execution_count": 4,
   "metadata": {},
   "outputs": [],
   "source": [
    "df = df.rename(columns={'[bcd] (a.u.)': 'bcd'})"
   ]
  },
  {
   "cell_type": "markdown",
   "metadata": {},
   "source": [
    "Let's plot the data to see what we are dealing with."
   ]
  },
  {
   "cell_type": "code",
   "execution_count": 5,
   "metadata": {
    "collapsed": false
   },
   "outputs": [
    {
     "data": {
      "application/vnd.vegalite.v2+json": {
       "$schema": "https://vega.github.io/schema/vega-lite/v2.4.3.json",
       "config": {
        "view": {
         "height": 300,
         "width": 400
        }
       },
       "data": {
        "values": [
         {
          "bcd": 0.8630969280563285,
          "fractional distance from anterior": 0.002644667245598801
         },
         {
          "bcd": 0.8630969280563285,
          "fractional distance from anterior": 0.034222783610957604
         },
         {
          "bcd": 0.7457271023791949,
          "fractional distance from anterior": 0.06844556722191521
         },
         {
          "bcd": 0.6548747941627394,
          "fractional distance from anterior": 0.10262887818741613
         },
         {
          "bcd": 0.5451138492987339,
          "fractional distance from anterior": 0.13420699455277493
         },
         {
          "bcd": 0.469365737323264,
          "fractional distance from anterior": 0.17107444540933134
         },
         {
          "bcd": 0.42393958321503616,
          "fractional distance from anterior": 0.20525775637483226
         },
         {
          "bcd": 0.3823178695133724,
          "fractional distance from anterior": 0.23948053998578986
         },
         {
          "bcd": 0.3444438135256374,
          "fractional distance from anterior": 0.2737033235967475
         },
         {
          "bcd": 0.28391346317642385,
          "fractional distance from anterior": 0.3078866345622484
         },
         {
          "bcd": 0.2649480438362388,
          "fractional distance from anterior": 0.342109418173206
         },
         {
          "bcd": 0.29527000170348083,
          "fractional distance from anterior": 0.37893739638430574
         },
         {
          "bcd": 0.2498438475952531,
          "fractional distance from anterior": 0.4105155127496644
         },
         {
          "bcd": 0.22713077054113914,
          "fractional distance from anterior": 0.4473829636062209
         },
         {
          "bcd": 0.2422349667821249,
          "fractional distance from anterior": 0.4815662745717218
         },
         {
          "bcd": 0.21577423201408216,
          "fractional distance from anterior": 0.5157890581826794
         },
         {
          "bcd": 0.2308784282550679,
          "fractional distance from anterior": 0.550011841793637
         },
         {
          "bcd": 0.22713077054113914,
          "fractional distance from anterior": 0.5868398200047367
         },
         {
          "bcd": 0.208165351200954,
          "fractional distance from anterior": 0.6210626036156943
         },
         {
          "bcd": 0.2044176934870252,
          "fractional distance from anterior": 0.6552459145811952
         },
         {
          "bcd": 0.1817046164329113,
          "fractional distance from anterior": 0.6894686981921528
         },
         {
          "bcd": 0.19680881267389705,
          "fractional distance from anterior": 0.7236914818031106
         },
         {
          "bcd": 0.2006132530804612,
          "fractional distance from anterior": 0.7578747927686114
         },
         {
          "bcd": 0.1817046164329113,
          "fractional distance from anterior": 0.792097576379569
         },
         {
          "bcd": 0.17790017602634725,
          "fractional distance from anterior": 0.8263203599905266
         },
         {
          "bcd": 0.1817046164329113,
          "fractional distance from anterior": 0.8605036709560274
         },
         {
          "bcd": 0.18925671455340426,
          "fractional distance from anterior": 0.894726454566985
         },
         {
          "bcd": 0.17790017602634725,
          "fractional distance from anterior": 0.9657772163890423
         }
        ]
       },
       "encoding": {
        "x": {
         "field": "fractional distance from anterior",
         "type": "quantitative"
        },
        "y": {
         "field": "bcd",
         "scale": {
          "domain": [
           0,
           1
          ]
         },
         "title": "[Bcd] (a.u.)",
         "type": "quantitative"
        }
       },
       "mark": "point"
      },
      "image/png": "[encoded data removed]",
      "text/plain": [
       "<VegaLite 2 object>\n",
       "\n",
       "If you see this message, it means the renderer has not been properly enabled\n",
       "for the frontend that you are using. For more information, see\n",
       "https://altair-viz.github.io/user_guide/troubleshooting.html\n"
      ]
     },
     "execution_count": 5,
     "metadata": {},
     "output_type": "execute_result"
    }
   ],
   "source": [
    "dots = alt.Chart(df\n",
    "    ).mark_point(\n",
    "    ).encode(\n",
    "        x='fractional distance from anterior:Q',\n",
    "        y=alt.Y('bcd:Q', title='[Bcd] (a.u.)', scale=alt.Scale(domain=[0, 1])))\n",
    "\n",
    "dots"
   ]
  },
  {
   "cell_type": "markdown",
   "metadata": {},
   "source": [
    "## Using `scipy.optimize.curve_fit()` to perform nonlinear regression\n",
    "\n",
    "We will use scipy.optimize.curve_fit to preform the regression. Since this is our first time, let's read the doc string to figure out how to use it."
   ]
  },
  {
   "cell_type": "code",
   "execution_count": 6,
   "metadata": {
    "collapsed": true
   },
   "outputs": [
    {
     "data": {
      "text/plain": [
       "\u001b[0;31mSignature:\u001b[0m \u001b[0mscipy\u001b[0m\u001b[0;34m.\u001b[0m\u001b[0moptimize\u001b[0m\u001b[0;34m.\u001b[0m\u001b[0mcurve_fit\u001b[0m\u001b[0;34m(\u001b[0m\u001b[0mf\u001b[0m\u001b[0;34m,\u001b[0m \u001b[0mxdata\u001b[0m\u001b[0;34m,\u001b[0m \u001b[0mydata\u001b[0m\u001b[0;34m,\u001b[0m \u001b[0mp0\u001b[0m\u001b[0;34m=\u001b[0m\u001b[0;32mNone\u001b[0m\u001b[0;34m,\u001b[0m \u001b[0msigma\u001b[0m\u001b[0;34m=\u001b[0m\u001b[0;32mNone\u001b[0m\u001b[0;34m,\u001b[0m \u001b[0mabsolute_sigma\u001b[0m\u001b[0;34m=\u001b[0m\u001b[0;32mFalse\u001b[0m\u001b[0;34m,\u001b[0m \u001b[0mcheck_finite\u001b[0m\u001b[0;34m=\u001b[0m\u001b[0;32mTrue\u001b[0m\u001b[0;34m,\u001b[0m \u001b[0mbounds\u001b[0m\u001b[0;34m=\u001b[0m\u001b[0;34m(\u001b[0m\u001b[0;34m-\u001b[0m\u001b[0minf\u001b[0m\u001b[0;34m,\u001b[0m \u001b[0minf\u001b[0m\u001b[0;34m)\u001b[0m\u001b[0;34m,\u001b[0m \u001b[0mmethod\u001b[0m\u001b[0;34m=\u001b[0m\u001b[0;32mNone\u001b[0m\u001b[0;34m,\u001b[0m \u001b[0mjac\u001b[0m\u001b[0;34m=\u001b[0m\u001b[0;32mNone\u001b[0m\u001b[0;34m,\u001b[0m \u001b[0;34m**\u001b[0m\u001b[0mkwargs\u001b[0m\u001b[0;34m)\u001b[0m\u001b[0;34m\u001b[0m\u001b[0m\n",
       "\u001b[0;31mDocstring:\u001b[0m\n",
       "Use non-linear least squares to fit a function, f, to data.\n",
       "\n",
       "Assumes ``ydata = f(xdata, *params) + eps``\n",
       "\n",
       "Parameters\n",
       "----------\n",
       "f : callable\n",
       "    The model function, f(x, ...).  It must take the independent\n",
       "    variable as the first argument and the parameters to fit as\n",
       "    separate remaining arguments.\n",
       "xdata : An M-length sequence or an (k,M)-shaped array for functions with k predictors\n",
       "    The independent variable where the data is measured.\n",
       "ydata : M-length sequence\n",
       "    The dependent data --- nominally f(xdata, ...)\n",
       "p0 : None, scalar, or N-length sequence, optional\n",
       "    Initial guess for the parameters.  If None, then the initial\n",
       "    values will all be 1 (if the number of parameters for the function\n",
       "    can be determined using introspection, otherwise a ValueError\n",
       "    is raised).\n",
       "sigma : None or M-length sequence or MxM array, optional\n",
       "    Determines the uncertainty in `ydata`. If we define residuals as\n",
       "    ``r = ydata - f(xdata, *popt)``, then the interpretation of `sigma`\n",
       "    depends on its number of dimensions:\n",
       "\n",
       "        - A 1-d `sigma` should contain values of standard deviations of\n",
       "          errors in `ydata`. In this case, the optimized function is\n",
       "          ``chisq = sum((r / sigma) ** 2)``.\n",
       "\n",
       "        - A 2-d `sigma` should contain the covariance matrix of\n",
       "          errors in `ydata`. In this case, the optimized function is\n",
       "          ``chisq = r.T @ inv(sigma) @ r``.\n",
       "\n",
       "          .. versionadded:: 0.19\n",
       "\n",
       "    None (default) is equivalent of 1-d `sigma` filled with ones.\n",
       "absolute_sigma : bool, optional\n",
       "    If True, `sigma` is used in an absolute sense and the estimated parameter\n",
       "    covariance `pcov` reflects these absolute values.\n",
       "\n",
       "    If False, only the relative magnitudes of the `sigma` values matter.\n",
       "    The returned parameter covariance matrix `pcov` is based on scaling\n",
       "    `sigma` by a constant factor. This constant is set by demanding that the\n",
       "    reduced `chisq` for the optimal parameters `popt` when using the\n",
       "    *scaled* `sigma` equals unity. In other words, `sigma` is scaled to\n",
       "    match the sample variance of the residuals after the fit.\n",
       "    Mathematically,\n",
       "    ``pcov(absolute_sigma=False) = pcov(absolute_sigma=True) * chisq(popt)/(M-N)``\n",
       "check_finite : bool, optional\n",
       "    If True, check that the input arrays do not contain nans of infs,\n",
       "    and raise a ValueError if they do. Setting this parameter to\n",
       "    False may silently produce nonsensical results if the input arrays\n",
       "    do contain nans. Default is True.\n",
       "bounds : 2-tuple of array_like, optional\n",
       "    Lower and upper bounds on parameters. Defaults to no bounds.\n",
       "    Each element of the tuple must be either an array with the length equal\n",
       "    to the number of parameters, or a scalar (in which case the bound is\n",
       "    taken to be the same for all parameters.) Use ``np.inf`` with an\n",
       "    appropriate sign to disable bounds on all or some parameters.\n",
       "\n",
       "    .. versionadded:: 0.17\n",
       "method : {'lm', 'trf', 'dogbox'}, optional\n",
       "    Method to use for optimization.  See `least_squares` for more details.\n",
       "    Default is 'lm' for unconstrained problems and 'trf' if `bounds` are\n",
       "    provided. The method 'lm' won't work when the number of observations\n",
       "    is less than the number of variables, use 'trf' or 'dogbox' in this\n",
       "    case.\n",
       "\n",
       "    .. versionadded:: 0.17\n",
       "jac : callable, string or None, optional\n",
       "    Function with signature ``jac(x, ...)`` which computes the Jacobian\n",
       "    matrix of the model function with respect to parameters as a dense\n",
       "    array_like structure. It will be scaled according to provided `sigma`.\n",
       "    If None (default), the Jacobian will be estimated numerically.\n",
       "    String keywords for 'trf' and 'dogbox' methods can be used to select\n",
       "    a finite difference scheme, see `least_squares`.\n",
       "\n",
       "    .. versionadded:: 0.18\n",
       "kwargs\n",
       "    Keyword arguments passed to `leastsq` for ``method='lm'`` or\n",
       "    `least_squares` otherwise.\n",
       "\n",
       "Returns\n",
       "-------\n",
       "popt : array\n",
       "    Optimal values for the parameters so that the sum of the squared\n",
       "    residuals of ``f(xdata, *popt) - ydata`` is minimized\n",
       "pcov : 2d array\n",
       "    The estimated covariance of popt. The diagonals provide the variance\n",
       "    of the parameter estimate. To compute one standard deviation errors\n",
       "    on the parameters use ``perr = np.sqrt(np.diag(pcov))``.\n",
       "\n",
       "    How the `sigma` parameter affects the estimated covariance\n",
       "    depends on `absolute_sigma` argument, as described above.\n",
       "\n",
       "    If the Jacobian matrix at the solution doesn't have a full rank, then\n",
       "    'lm' method returns a matrix filled with ``np.inf``, on the other hand\n",
       "    'trf'  and 'dogbox' methods use Moore-Penrose pseudoinverse to compute\n",
       "    the covariance matrix.\n",
       "\n",
       "Raises\n",
       "------\n",
       "ValueError\n",
       "    if either `ydata` or `xdata` contain NaNs, or if incompatible options\n",
       "    are used.\n",
       "\n",
       "RuntimeError\n",
       "    if the least-squares minimization fails.\n",
       "\n",
       "OptimizeWarning\n",
       "    if covariance of the parameters can not be estimated.\n",
       "\n",
       "See Also\n",
       "--------\n",
       "least_squares : Minimize the sum of squares of nonlinear functions.\n",
       "scipy.stats.linregress : Calculate a linear least squares regression for\n",
       "                         two sets of measurements.\n",
       "\n",
       "Notes\n",
       "-----\n",
       "With ``method='lm'``, the algorithm uses the Levenberg-Marquardt algorithm\n",
       "through `leastsq`. Note that this algorithm can only deal with\n",
       "unconstrained problems.\n",
       "\n",
       "Box constraints can be handled by methods 'trf' and 'dogbox'. Refer to\n",
       "the docstring of `least_squares` for more information.\n",
       "\n",
       "Examples\n",
       "--------\n",
       ">>> import numpy as np\n",
       ">>> import matplotlib.pyplot as plt\n",
       ">>> from scipy.optimize import curve_fit\n",
       "\n",
       ">>> def func(x, a, b, c):\n",
       "...     return a * np.exp(-b * x) + c\n",
       "\n",
       "Define the data to be fit with some noise:\n",
       "\n",
       ">>> xdata = np.linspace(0, 4, 50)\n",
       ">>> y = func(xdata, 2.5, 1.3, 0.5)\n",
       ">>> np.random.seed(1729)\n",
       ">>> y_noise = 0.2 * np.random.normal(size=xdata.size)\n",
       ">>> ydata = y + y_noise\n",
       ">>> plt.plot(xdata, ydata, 'b-', label='data')\n",
       "\n",
       "Fit for the parameters a, b, c of the function `func`:\n",
       "\n",
       ">>> popt, pcov = curve_fit(func, xdata, ydata)\n",
       ">>> popt\n",
       "array([ 2.55423706,  1.35190947,  0.47450618])\n",
       ">>> plt.plot(xdata, func(xdata, *popt), 'r-',\n",
       "...          label='fit: a=%5.3f, b=%5.3f, c=%5.3f' % tuple(popt))\n",
       "\n",
       "Constrain the optimization to the region of ``0 <= a <= 3``,\n",
       "``0 <= b <= 1`` and ``0 <= c <= 0.5``:\n",
       "\n",
       ">>> popt, pcov = curve_fit(func, xdata, ydata, bounds=(0, [3., 1., 0.5]))\n",
       ">>> popt\n",
       "array([ 2.43708906,  1.        ,  0.35015434])\n",
       ">>> plt.plot(xdata, func(xdata, *popt), 'g--',\n",
       "...          label='fit: a=%5.3f, b=%5.3f, c=%5.3f' % tuple(popt))\n",
       "\n",
       ">>> plt.xlabel('x')\n",
       ">>> plt.ylabel('y')\n",
       ">>> plt.legend()\n",
       ">>> plt.show()\n",
       "\u001b[0;31mFile:\u001b[0m      ~/anaconda3/lib/python3.6/site-packages/scipy/optimize/minpack.py\n",
       "\u001b[0;31mType:\u001b[0m      function\n"
      ]
     },
     "metadata": {},
     "output_type": "display_data"
    }
   ],
   "source": [
    "scipy.optimize.curve_fit?"
   ]
  },
  {
   "cell_type": "markdown",
   "metadata": {},
   "source": [
    "We see that the function prototype is \n",
    "\n",
    "    scipy.optimize.curve_fit(f, xdata, ydata, p0=None)\n",
    "\n",
    "and that `f` is the function we wish to use to fit our data.  The function `f` must have a prototype `f(t, *p)`, where the first parameter is the dependent variable and the remaining parameters are those to be determined by performing the regression."
   ]
  },
  {
   "cell_type": "markdown",
   "metadata": {},
   "source": [
    "### Defining the model function\n",
    "\n",
    "So, our first step for using `scipy.optimize.curvefit()` is to define the fit function `f`, which we will call `bcd_gradient_model`.  We have three parameters, $I_0$, $a$, and $\\lambda$."
   ]
  },
  {
   "cell_type": "code",
   "execution_count": 7,
   "metadata": {
    "collapsed": true
   },
   "outputs": [],
   "source": [
    "def bcd_gradient_model_first_try(x, I_0, a, lam):\n",
    "    \"\"\"Model for Bcd gradient: exponential decay plus background\"\"\"\n",
    "    return a + I_0 * np.exp(-x/lam)"
   ]
  },
  {
   "cell_type": "markdown",
   "metadata": {},
   "source": [
    "Notice that we used `lam` as the name of the parameter $\\lambda$.  This is because `lambda` is a keyword in Python.  **Never** name a variable `lambda`.  This is so important, I'm going to make the point more fervently, even though we already made it in a previous lesson."
   ]
  },
  {
   "cell_type": "markdown",
   "metadata": {},
   "source": [
    "<div class=\"alert alert-danger\">\n",
    "<p>**Never** name a Python variable the same as a keyword!</p><br />\n",
    "\n",
    "To see what the keywords are, do this:\n",
    "\n",
    "    `import keyword; print(keyword.kwlist)`\n",
    "</div>"
   ]
  },
  {
   "cell_type": "markdown",
   "metadata": {},
   "source": [
    "There is a problem with our function, though.  It is really only defined is all of its arguments are positive.  We therefore should assure that all arguments are positive."
   ]
  },
  {
   "cell_type": "code",
   "execution_count": 8,
   "metadata": {
    "collapsed": true
   },
   "outputs": [],
   "source": [
    "def bcd_gradient_model(x, I_0, a, lam):\n",
    "    \"\"\"Model for Bcd gradient: exponential decay plus background\"\"\"\n",
    "    \n",
    "    if np.any(np.array(x) < 0):\n",
    "        raise RuntimeError('All values of `x` must be >= zero.')\n",
    "    if np.any(np.array([I_0, a, lam]) < 0):\n",
    "        raise RuntimeError('All parameters must be >= 0.')\n",
    "    \n",
    "    return a + I_0 * np.exp(-x / lam)"
   ]
  },
  {
   "cell_type": "markdown",
   "metadata": {},
   "source": [
    "### Initial guess\n",
    "\n",
    "With our fit function in place, we now need to supply initial guesses for the parameter values, given by the kwarg `p0`. (We don't have to do this, but `scipy.optimize.curve_fit()` will guess a value of 1 for all parameters, which is generally not a good idea. You should always explicitly supply your own initial guesses.) In looking at the plot, we see that we indeed have a nonzero background signal, somewhere around $a \\approx 0.2$.  We also see that $I_0 \\approx 0.9$ and $\\lambda \\approx 0.3$.  We would normally use these as our approximate guesses, but to show an additional lesson, we will guess $\\lambda = 1$, making the solver do a little more work."
   ]
  },
  {
   "cell_type": "code",
   "execution_count": 9,
   "metadata": {
    "collapsed": true
   },
   "outputs": [],
   "source": [
    "# Specify initial guess\n",
    "I_0_guess = 0.9\n",
    "a_guess = 0.2\n",
    "lam_guess = 1.0\n",
    "\n",
    "# Construct initial guess array\n",
    "p0 = np.array([I_0_guess, a_guess, lam_guess])"
   ]
  },
  {
   "cell_type": "markdown",
   "metadata": {},
   "source": [
    "### Performing the regression (first try)\n",
    "\n",
    "When doing the curve fit, we see that it returns the optimal parameter values as well as an estimate of the covariance matrix. For reasons I will not discuss here, this covariance matrix has some assumptions under the hood that are not always appropriate, so we will just ignore it.\n",
    "Now we're ready to do the regression!"
   ]
  },
  {
   "cell_type": "code",
   "execution_count": 10,
   "metadata": {
    "collapsed": false
   },
   "outputs": [
    {
     "ename": "RuntimeError",
     "evalue": "All parameters must be >= 0.",
     "output_type": "error",
     "traceback": [
      "\u001b[0;31m---------------------------------------------------------------------------\u001b[0m",
      "\u001b[0;31mRuntimeError\u001b[0m                              Traceback (most recent call last)",
      "\u001b[0;32m<ipython-input-10-7e6f5b0c28c6>\u001b[0m in \u001b[0;36m<module>\u001b[0;34m()\u001b[0m\n\u001b[1;32m      3\u001b[0m                                 \u001b[0mdf\u001b[0m\u001b[0;34m[\u001b[0m\u001b[0;34m'fractional distance from anterior'\u001b[0m\u001b[0;34m]\u001b[0m\u001b[0;34m,\u001b[0m\u001b[0;34m\u001b[0m\u001b[0m\n\u001b[1;32m      4\u001b[0m                                 \u001b[0mdf\u001b[0m\u001b[0;34m[\u001b[0m\u001b[0;34m'bcd'\u001b[0m\u001b[0;34m]\u001b[0m\u001b[0;34m,\u001b[0m\u001b[0;34m\u001b[0m\u001b[0m\n\u001b[0;32m----> 5\u001b[0;31m                                 p0=p0)\n\u001b[0m\u001b[1;32m      6\u001b[0m \u001b[0;34m\u001b[0m\u001b[0m\n\u001b[1;32m      7\u001b[0m \u001b[0;31m# Print the results\u001b[0m\u001b[0;34m\u001b[0m\u001b[0;34m\u001b[0m\u001b[0m\n",
      "\u001b[0;32m~/anaconda3/lib/python3.6/site-packages/scipy/optimize/minpack.py\u001b[0m in \u001b[0;36mcurve_fit\u001b[0;34m(f, xdata, ydata, p0, sigma, absolute_sigma, check_finite, bounds, method, jac, **kwargs)\u001b[0m\n\u001b[1;32m    749\u001b[0m         \u001b[0;31m# Remove full_output from kwargs, otherwise we're passing it in twice.\u001b[0m\u001b[0;34m\u001b[0m\u001b[0;34m\u001b[0m\u001b[0m\n\u001b[1;32m    750\u001b[0m         \u001b[0mreturn_full\u001b[0m \u001b[0;34m=\u001b[0m \u001b[0mkwargs\u001b[0m\u001b[0;34m.\u001b[0m\u001b[0mpop\u001b[0m\u001b[0;34m(\u001b[0m\u001b[0;34m'full_output'\u001b[0m\u001b[0;34m,\u001b[0m \u001b[0;32mFalse\u001b[0m\u001b[0;34m)\u001b[0m\u001b[0;34m\u001b[0m\u001b[0m\n\u001b[0;32m--> 751\u001b[0;31m         \u001b[0mres\u001b[0m \u001b[0;34m=\u001b[0m \u001b[0mleastsq\u001b[0m\u001b[0;34m(\u001b[0m\u001b[0mfunc\u001b[0m\u001b[0;34m,\u001b[0m \u001b[0mp0\u001b[0m\u001b[0;34m,\u001b[0m \u001b[0mDfun\u001b[0m\u001b[0;34m=\u001b[0m\u001b[0mjac\u001b[0m\u001b[0;34m,\u001b[0m \u001b[0mfull_output\u001b[0m\u001b[0;34m=\u001b[0m\u001b[0;36m1\u001b[0m\u001b[0;34m,\u001b[0m \u001b[0;34m**\u001b[0m\u001b[0mkwargs\u001b[0m\u001b[0;34m)\u001b[0m\u001b[0;34m\u001b[0m\u001b[0m\n\u001b[0m\u001b[1;32m    752\u001b[0m         \u001b[0mpopt\u001b[0m\u001b[0;34m,\u001b[0m \u001b[0mpcov\u001b[0m\u001b[0;34m,\u001b[0m \u001b[0minfodict\u001b[0m\u001b[0;34m,\u001b[0m \u001b[0merrmsg\u001b[0m\u001b[0;34m,\u001b[0m \u001b[0mier\u001b[0m \u001b[0;34m=\u001b[0m \u001b[0mres\u001b[0m\u001b[0;34m\u001b[0m\u001b[0m\n\u001b[1;32m    753\u001b[0m         \u001b[0mcost\u001b[0m \u001b[0;34m=\u001b[0m \u001b[0mnp\u001b[0m\u001b[0;34m.\u001b[0m\u001b[0msum\u001b[0m\u001b[0;34m(\u001b[0m\u001b[0minfodict\u001b[0m\u001b[0;34m[\u001b[0m\u001b[0;34m'fvec'\u001b[0m\u001b[0;34m]\u001b[0m \u001b[0;34m**\u001b[0m \u001b[0;36m2\u001b[0m\u001b[0;34m)\u001b[0m\u001b[0;34m\u001b[0m\u001b[0m\n",
      "\u001b[0;32m~/anaconda3/lib/python3.6/site-packages/scipy/optimize/minpack.py\u001b[0m in \u001b[0;36mleastsq\u001b[0;34m(func, x0, args, Dfun, full_output, col_deriv, ftol, xtol, gtol, maxfev, epsfcn, factor, diag)\u001b[0m\n\u001b[1;32m    392\u001b[0m         \u001b[0;32mwith\u001b[0m \u001b[0m_MINPACK_LOCK\u001b[0m\u001b[0;34m:\u001b[0m\u001b[0;34m\u001b[0m\u001b[0m\n\u001b[1;32m    393\u001b[0m             retval = _minpack._lmdif(func, x0, args, full_output, ftol, xtol,\n\u001b[0;32m--> 394\u001b[0;31m                                      gtol, maxfev, epsfcn, factor, diag)\n\u001b[0m\u001b[1;32m    395\u001b[0m     \u001b[0;32melse\u001b[0m\u001b[0;34m:\u001b[0m\u001b[0;34m\u001b[0m\u001b[0m\n\u001b[1;32m    396\u001b[0m         \u001b[0;32mif\u001b[0m \u001b[0mcol_deriv\u001b[0m\u001b[0;34m:\u001b[0m\u001b[0;34m\u001b[0m\u001b[0m\n",
      "\u001b[0;32m~/anaconda3/lib/python3.6/site-packages/scipy/optimize/minpack.py\u001b[0m in \u001b[0;36mfunc_wrapped\u001b[0;34m(params)\u001b[0m\n\u001b[1;32m    461\u001b[0m     \u001b[0;32mif\u001b[0m \u001b[0mtransform\u001b[0m \u001b[0;32mis\u001b[0m \u001b[0;32mNone\u001b[0m\u001b[0;34m:\u001b[0m\u001b[0;34m\u001b[0m\u001b[0m\n\u001b[1;32m    462\u001b[0m         \u001b[0;32mdef\u001b[0m \u001b[0mfunc_wrapped\u001b[0m\u001b[0;34m(\u001b[0m\u001b[0mparams\u001b[0m\u001b[0;34m)\u001b[0m\u001b[0;34m:\u001b[0m\u001b[0;34m\u001b[0m\u001b[0m\n\u001b[0;32m--> 463\u001b[0;31m             \u001b[0;32mreturn\u001b[0m \u001b[0mfunc\u001b[0m\u001b[0;34m(\u001b[0m\u001b[0mxdata\u001b[0m\u001b[0;34m,\u001b[0m \u001b[0;34m*\u001b[0m\u001b[0mparams\u001b[0m\u001b[0;34m)\u001b[0m \u001b[0;34m-\u001b[0m \u001b[0mydata\u001b[0m\u001b[0;34m\u001b[0m\u001b[0m\n\u001b[0m\u001b[1;32m    464\u001b[0m     \u001b[0;32melif\u001b[0m \u001b[0mtransform\u001b[0m\u001b[0;34m.\u001b[0m\u001b[0mndim\u001b[0m \u001b[0;34m==\u001b[0m \u001b[0;36m1\u001b[0m\u001b[0;34m:\u001b[0m\u001b[0;34m\u001b[0m\u001b[0m\n\u001b[1;32m    465\u001b[0m         \u001b[0;32mdef\u001b[0m \u001b[0mfunc_wrapped\u001b[0m\u001b[0;34m(\u001b[0m\u001b[0mparams\u001b[0m\u001b[0;34m)\u001b[0m\u001b[0;34m:\u001b[0m\u001b[0;34m\u001b[0m\u001b[0m\n",
      "\u001b[0;32m<ipython-input-8-150434906ddb>\u001b[0m in \u001b[0;36mbcd_gradient_model\u001b[0;34m(x, I_0, a, lam)\u001b[0m\n\u001b[1;32m      5\u001b[0m         \u001b[0;32mraise\u001b[0m \u001b[0mRuntimeError\u001b[0m\u001b[0;34m(\u001b[0m\u001b[0;34m'All values of `x` must be >= zero.'\u001b[0m\u001b[0;34m)\u001b[0m\u001b[0;34m\u001b[0m\u001b[0m\n\u001b[1;32m      6\u001b[0m     \u001b[0;32mif\u001b[0m \u001b[0mnp\u001b[0m\u001b[0;34m.\u001b[0m\u001b[0many\u001b[0m\u001b[0;34m(\u001b[0m\u001b[0mnp\u001b[0m\u001b[0;34m.\u001b[0m\u001b[0marray\u001b[0m\u001b[0;34m(\u001b[0m\u001b[0;34m[\u001b[0m\u001b[0mI_0\u001b[0m\u001b[0;34m,\u001b[0m \u001b[0ma\u001b[0m\u001b[0;34m,\u001b[0m \u001b[0mlam\u001b[0m\u001b[0;34m]\u001b[0m\u001b[0;34m)\u001b[0m \u001b[0;34m<\u001b[0m \u001b[0;36m0\u001b[0m\u001b[0;34m)\u001b[0m\u001b[0;34m:\u001b[0m\u001b[0;34m\u001b[0m\u001b[0m\n\u001b[0;32m----> 7\u001b[0;31m         \u001b[0;32mraise\u001b[0m \u001b[0mRuntimeError\u001b[0m\u001b[0;34m(\u001b[0m\u001b[0;34m'All parameters must be >= 0.'\u001b[0m\u001b[0;34m)\u001b[0m\u001b[0;34m\u001b[0m\u001b[0m\n\u001b[0m\u001b[1;32m      8\u001b[0m \u001b[0;34m\u001b[0m\u001b[0m\n\u001b[1;32m      9\u001b[0m     \u001b[0;32mreturn\u001b[0m \u001b[0ma\u001b[0m \u001b[0;34m+\u001b[0m \u001b[0mI_0\u001b[0m \u001b[0;34m*\u001b[0m \u001b[0mnp\u001b[0m\u001b[0;34m.\u001b[0m\u001b[0mexp\u001b[0m\u001b[0;34m(\u001b[0m\u001b[0;34m-\u001b[0m\u001b[0mx\u001b[0m \u001b[0;34m/\u001b[0m \u001b[0mlam\u001b[0m\u001b[0;34m)\u001b[0m\u001b[0;34m\u001b[0m\u001b[0m\n",
      "\u001b[0;31mRuntimeError\u001b[0m: All parameters must be >= 0."
     ]
    }
   ],
   "source": [
    "# Do curve fit, but dump covariance into dummy variable\n",
    "p, _ = scipy.optimize.curve_fit(bcd_gradient_model,\n",
    "                                df['fractional distance from anterior'],\n",
    "                                df['bcd'],\n",
    "                                p0=p0)\n",
    "\n",
    "# Print the results\n",
    "print(\"\"\"\n",
    "I_0 = {0:.2f}\n",
    "  a = {1:.2f}\n",
    "  λ = {2:.2f}\n",
    "\"\"\".format(*tuple(p)))"
   ]
  },
  {
   "cell_type": "markdown",
   "metadata": {},
   "source": [
    "Oh no!  We got an exception that we had negative parameters! This occurred because under the hood, `scipy.optimize.curve_fit()` tries many sets of parameter values as it searches for those that bring the theoretical curve closest to the observed data. (It is way more complicated than that, but we won't get into that here.)"
   ]
  },
  {
   "cell_type": "markdown",
   "metadata": {},
   "source": [
    "### Performing the regression (second try)\n",
    "\n",
    "At this point, we have a few options.\n",
    "1. Take out our error checking on positivity of parameter. The resulting curve with negative values of c or d will be so far off, the curve fit routine should come back toward physical parameter values after an excursion into non-physicality.\n",
    "2. Try using something other than `scipy.optimize.curve_fit()`.\n",
    "3. Adjust our theoretical function by using the logarithm of the parameter values instead of the parameter values themselves. This ensures that all parameter are positive.\n",
    "\n",
    "I think option 1 is off the table. We generally want to avoid \"shoulds\" when programming. We do not want to just hope that the solver will work, even though nonphysical parameter values are encountered.\n",
    "\n",
    "Depending on how many times I will need to do a particular type of curve fit, I typically prefer option 2. We will not do this in the bootcamp, but I often use a technique called Markov chain Monte Carlo.\n",
    "\n",
    "We'll use option 3. This still allows the solver to consider a smooth function of the parameter values. So, let's define a function that takes the logarithms of the parameters and input."
   ]
  },
  {
   "cell_type": "code",
   "execution_count": 11,
   "metadata": {
    "collapsed": true
   },
   "outputs": [],
   "source": [
    "def bcd_gradient_model_log_params(x, log_I_0, log_a, log_lam):\n",
    "    \"\"\"\n",
    "    Model for Bcd gradient: exponential decay plus \n",
    "    background with log parameters.\n",
    "    \"\"\"\n",
    "    \n",
    "    # Exponentiate parameters\n",
    "    I_0, a, lam = np.exp(np.array([log_I_0, log_a, log_lam]))\n",
    "    \n",
    "    return bcd_gradient_model(x, I_0, a, lam)"
   ]
  },
  {
   "cell_type": "markdown",
   "metadata": {},
   "source": [
    "Now let's try our curve fit again. We need to make sure we convert our initial guesses into logarithms. Remember, now the solver will be working with logarithms of parameters."
   ]
  },
  {
   "cell_type": "code",
   "execution_count": 12,
   "metadata": {
    "collapsed": false
   },
   "outputs": [
    {
     "name": "stdout",
     "output_type": "stream",
     "text": [
      "\n",
      "I_0 = 0.77\n",
      "  a = 0.17\n",
      "  λ = 0.19\n",
      "\n"
     ]
    }
   ],
   "source": [
    "# Construct initial guess array\n",
    "log_p0 = np.log(p0)\n",
    "\n",
    "# Do curve fit, but dump covariance into dummy variable\n",
    "log_p, _ = scipy.optimize.curve_fit(bcd_gradient_model_log_params, \n",
    "                                    df['fractional distance from anterior'], \n",
    "                                    df['bcd'], \n",
    "                                    p0=log_p0)\n",
    "\n",
    "# Get the optimal parameter values\n",
    "p = np.exp(log_p)\n",
    "\n",
    "# Print the results\n",
    "print(\"\"\"\n",
    "I_0 = {0:.2f}\n",
    "  a = {1:.2f}\n",
    "  λ = {2:.2f}\n",
    "\"\"\".format(*tuple(p)))"
   ]
  },
  {
   "cell_type": "markdown",
   "metadata": {},
   "source": [
    "### Plotting the result\n",
    "\n",
    "We can now generate a smooth curve defined by the optimal parameters we just found and plot it along with the data.  To do this, we make a densely sampled array of $x$ values and then compute the fitting function for these values."
   ]
  },
  {
   "cell_type": "code",
   "execution_count": 13,
   "metadata": {
    "collapsed": false
   },
   "outputs": [
    {
     "data": {
      "application/vnd.vegalite.v2+json": {
       "$schema": "https://vega.github.io/schema/vega-lite/v2.4.3.json",
       "config": {
        "view": {
         "height": 300,
         "width": 400
        }
       },
       "layer": [
        {
         "data": {
          "values": [
           {
            "bcd": 0.9418545171679127,
            "x": 0
           },
           {
            "bcd": 0.9316421180524154,
            "x": 0.002506265664160401
           },
           {
            "bcd": 0.9215655841951652,
            "x": 0.005012531328320802
           },
           {
            "bcd": 0.9116231080514126,
            "x": 0.007518796992481203
           },
           {
            "bcd": 0.9018129061238953,
            "x": 0.010025062656641603
           },
           {
            "bcd": 0.8921332186429115,
            "x": 0.012531328320802004
           },
           {
            "bcd": 0.8825823092506491,
            "x": 0.015037593984962405
           },
           {
            "bcd": 0.8731584646897154,
            "x": 0.017543859649122806
           },
           {
            "bcd": 0.8638599944958104,
            "x": 0.020050125313283207
           },
           {
            "bcd": 0.8546852306944887,
            "x": 0.022556390977443608
           },
           {
            "bcd": 0.8456325275019546,
            "x": 0.02506265664160401
           },
           {
            "bcd": 0.8367002610298402,
            "x": 0.02756892230576441
           },
           {
            "bcd": 0.8278868289939086,
            "x": 0.03007518796992481
           },
           {
            "bcd": 0.8191906504266342,
            "x": 0.03258145363408521
           },
           {
            "bcd": 0.8106101653936061,
            "x": 0.03508771929824561
           },
           {
            "bcd": 0.8021438347137041,
            "x": 0.03759398496240601
           },
           {
            "bcd": 0.7937901396829987,
            "x": 0.040100250626566414
           },
           {
            "bcd": 0.7855475818023232,
            "x": 0.042606516290726815
           },
           {
            "bcd": 0.7774146825084702,
            "x": 0.045112781954887216
           },
           {
            "bcd": 0.7693899829089652,
            "x": 0.047619047619047616
           },
           {
            "bcd": 0.7614720435203676,
            "x": 0.05012531328320802
           },
           {
            "bcd": 0.7536594440100541,
            "x": 0.05263157894736842
           },
           {
            "bcd": 0.7459507829414374,
            "x": 0.05513784461152882
           },
           {
            "bcd": 0.7383446775225734,
            "x": 0.05764411027568922
           },
           {
            "bcd": 0.730839763358115,
            "x": 0.06015037593984962
           },
           {
            "bcd": 0.7234346942045637,
            "x": 0.06265664160401002
           },
           {
            "bcd": 0.716128141728779,
            "x": 0.06516290726817042
           },
           {
            "bcd": 0.7089187952696993,
            "x": 0.06766917293233082
           },
           {
            "bcd": 0.7018053616032331,
            "x": 0.07017543859649122
           },
           {
            "bcd": 0.6947865647102801,
            "x": 0.07268170426065163
           },
           {
            "bcd": 0.6878611455478347,
            "x": 0.07518796992481203
           },
           {
            "bcd": 0.6810278618231383,
            "x": 0.07769423558897243
           },
           {
            "bcd": 0.6742854877708344,
            "x": 0.08020050125313283
           },
           {
            "bcd": 0.6676328139330887,
            "x": 0.08270676691729323
           },
           {
            "bcd": 0.6610686469426348,
            "x": 0.08521303258145363
           },
           {
            "bcd": 0.654591809308706,
            "x": 0.08771929824561403
           },
           {
            "bcd": 0.6482011392058152,
            "x": 0.09022556390977443
           },
           {
            "bcd": 0.6418954902653449,
            "x": 0.09273182957393483
           },
           {
            "bcd": 0.635673731369909,
            "x": 0.09523809523809523
           },
           {
            "bcd": 0.6295347464504528,
            "x": 0.09774436090225563
           },
           {
            "bcd": 0.623477434286049,
            "x": 0.10025062656641603
           },
           {
            "bcd": 0.6175007083063594,
            "x": 0.10275689223057644
           },
           {
            "bcd": 0.6116034963967252,
            "x": 0.10526315789473684
           },
           {
            "bcd": 0.605784740705848,
            "x": 0.10776942355889724
           },
           {
            "bcd": 0.6000433974560314,
            "x": 0.11027568922305764
           },
           {
            "bcd": 0.5943784367559468,
            "x": 0.11278195488721804
           },
           {
            "bcd": 0.5887888424158889,
            "x": 0.11528822055137844
           },
           {
            "bcd": 0.5832736117654909,
            "x": 0.11779448621553884
           },
           {
            "bcd": 0.5778317554738635,
            "x": 0.12030075187969924
           },
           {
            "bcd": 0.5724622973721267,
            "x": 0.12280701754385964
           },
           {
            "bcd": 0.5671642742783043,
            "x": 0.12531328320802004
           },
           {
            "bcd": 0.5619367358245453,
            "x": 0.12781954887218044
           },
           {
            "bcd": 0.5567787442866465,
            "x": 0.13032581453634084
           },
           {
            "bcd": 0.5516893744158415,
            "x": 0.13283208020050125
           },
           {
            "bcd": 0.5466677132728281,
            "x": 0.13533834586466165
           },
           {
            "bcd": 0.5417128600640042,
            "x": 0.13784461152882205
           },
           {
            "bcd": 0.5368239259798815,
            "x": 0.14035087719298245
           },
           {
            "bcd": 0.5320000340356497,
            "x": 0.14285714285714285
           },
           {
            "bcd": 0.5272403189138615,
            "x": 0.14536340852130325
           },
           {
            "bcd": 0.5225439268092105,
            "x": 0.14786967418546365
           },
           {
            "bcd": 0.5179100152753746,
            "x": 0.15037593984962405
           },
           {
            "bcd": 0.5133377530738961,
            "x": 0.15288220551378445
           },
           {
            "bcd": 0.5088263200250733,
            "x": 0.15538847117794485
           },
           {
            "bcd": 0.5043749068608349,
            "x": 0.15789473684210525
           },
           {
            "bcd": 0.4999827150795725,
            "x": 0.16040100250626566
           },
           {
            "bcd": 0.49564895680290416,
            "x": 0.16290726817042606
           },
           {
            "bcd": 0.4913728546343433,
            "x": 0.16541353383458646
           },
           {
            "bcd": 0.4871536415198481,
            "x": 0.16791979949874686
           },
           {
            "bcd": 0.4829905606102262,
            "x": 0.17042606516290726
           },
           {
            "bcd": 0.47888286512537015,
            "x": 0.17293233082706766
           },
           {
            "bcd": 0.47482981822029807,
            "x": 0.17543859649122806
           },
           {
            "bcd": 0.47083069285297796,
            "x": 0.17794486215538846
           },
           {
            "bcd": 0.4668847716539095,
            "x": 0.18045112781954886
           },
           {
            "bcd": 0.4629913467974408,
            "x": 0.18295739348370926
           },
           {
            "bcd": 0.4591497198747982,
            "x": 0.18546365914786966
           },
           {
            "bcd": 0.4553592017688038,
            "x": 0.18796992481203006
           },
           {
            "bcd": 0.4516191125302613,
            "x": 0.19047619047619047
           },
           {
            "bcd": 0.447928781255985,
            "x": 0.19298245614035087
           },
           {
            "bcd": 0.4442875459684525,
            "x": 0.19548872180451127
           },
           {
            "bcd": 0.44069475349705783,
            "x": 0.19799498746867167
           },
           {
            "bcd": 0.4371497593609449,
            "x": 0.20050125313283207
           },
           {
            "bcd": 0.4336519276533995,
            "x": 0.20300751879699247
           },
           {
            "bcd": 0.430200630927779,
            "x": 0.20551378446115287
           },
           {
            "bcd": 0.4267952500849604,
            "x": 0.20802005012531327
           },
           {
            "bcd": 0.42343517426228505,
            "x": 0.21052631578947367
           },
           {
            "bcd": 0.42011980072398136,
            "x": 0.21303258145363407
           },
           {
            "bcd": 0.41684853475304473,
            "x": 0.21553884711779447
           },
           {
            "bcd": 0.4136207895445567,
            "x": 0.21804511278195488
           },
           {
            "bcd": 0.4104359861004227,
            "x": 0.22055137844611528
           },
           {
            "bcd": 0.4072935531255104,
            "x": 0.22305764411027568
           },
           {
            "bcd": 0.40419292692517006,
            "x": 0.22556390977443608
           },
           {
            "bcd": 0.4011335513041179,
            "x": 0.22807017543859648
           },
           {
            "bcd": 0.398114877466665,
            "x": 0.23057644110275688
           },
           {
            "bcd": 0.39513636391827356,
            "x": 0.23308270676691728
           },
           {
            "bcd": 0.3921974763684225,
            "x": 0.23558897243107768
           },
           {
            "bcd": 0.3892976876347657,
            "x": 0.23809523809523808
           },
           {
            "bcd": 0.38643647754856514,
            "x": 0.24060150375939848
           },
           {
            "bcd": 0.38361333286138244,
            "x": 0.24310776942355888
           },
           {
            "bcd": 0.3808277471530111,
            "x": 0.24561403508771928
           },
           {
            "bcd": 0.3780792207406345,
            "x": 0.24812030075187969
           },
           {
            "bcd": 0.37536726058919156,
            "x": 0.2506265664160401
           },
           {
            "bcd": 0.3726913802229356,
            "x": 0.2531328320802005
           },
           {
            "bcd": 0.37005109963816957,
            "x": 0.2556390977443609
           },
           {
            "bcd": 0.367445945217142,
            "x": 0.2581453634085213
           },
           {
            "bcd": 0.36487544964308893,
            "x": 0.2606516290726817
           },
           {
            "bcd": 0.36233915181640564,
            "x": 0.2631578947368421
           },
           {
            "bcd": 0.3598365967719341,
            "x": 0.2656641604010025
           },
           {
            "bcd": 0.35736733559735034,
            "x": 0.2681704260651629
           },
           {
            "bcd": 0.3549309253526383,
            "x": 0.2706766917293233
           },
           {
            "bcd": 0.35252692899063387,
            "x": 0.2731829573934837
           },
           {
            "bcd": 0.3501549152786272,
            "x": 0.2756892230576441
           },
           {
            "bcd": 0.3478144587210073,
            "x": 0.2781954887218045
           },
           {
            "bcd": 0.345505139482936,
            "x": 0.2807017543859649
           },
           {
            "bcd": 0.3432265433150372,
            "x": 0.2832080200501253
           },
           {
            "bcd": 0.3409782614790883,
            "x": 0.2857142857142857
           },
           {
            "bcd": 0.3387598906747,
            "x": 0.2882205513784461
           },
           {
            "bcd": 0.33657103296697166,
            "x": 0.2907268170426065
           },
           {
            "bcd": 0.3344112957151091,
            "x": 0.2932330827067669
           },
           {
            "bcd": 0.332280291501992,
            "x": 0.2957393483709273
           },
           {
            "bcd": 0.3301776380646786,
            "x": 0.2982456140350877
           },
           {
            "bcd": 0.32810295822583435,
            "x": 0.3007518796992481
           },
           {
            "bcd": 0.32605587982607376,
            "x": 0.3032581453634085
           },
           {
            "bcd": 0.3240360356572015,
            "x": 0.3057644110275689
           },
           {
            "bcd": 0.32204306339634214,
            "x": 0.3082706766917293
           },
           {
            "bcd": 0.32007660554094597,
            "x": 0.3107769423558897
           },
           {
            "bcd": 0.31813630934465986,
            "x": 0.3132832080200501
           },
           {
            "bcd": 0.3162218267540508,
            "x": 0.3157894736842105
           },
           {
            "bcd": 0.3143328143461716,
            "x": 0.3182957393483709
           },
           {
            "bcd": 0.3124689332669573,
            "x": 0.3208020050125313
           },
           {
            "bcd": 0.3106298491704407,
            "x": 0.3233082706766917
           },
           {
            "bcd": 0.30881523215877704,
            "x": 0.3258145363408521
           },
           {
            "bcd": 0.3070247567230664,
            "x": 0.3283208020050125
           },
           {
            "bcd": 0.3052581016849632,
            "x": 0.3308270676691729
           },
           {
            "bcd": 0.30351495013906304,
            "x": 0.3333333333333333
           },
           {
            "bcd": 0.3017949893960554,
            "x": 0.3358395989974937
           },
           {
            "bcd": 0.3000979109266331,
            "x": 0.3383458646616541
           },
           {
            "bcd": 0.2984234103061478,
            "x": 0.3408521303258145
           },
           {
            "bcd": 0.2967711871600016,
            "x": 0.3433583959899749
           },
           {
            "bcd": 0.2951409451097658,
            "x": 0.3458646616541353
           },
           {
            "bcd": 0.29353239172001566,
            "x": 0.3483709273182957
           },
           {
            "bcd": 0.29194523844587317,
            "x": 0.3508771929824561
           },
           {
            "bcd": 0.29037920058124705,
            "x": 0.3533834586466165
           },
           {
            "bcd": 0.2888339972077621,
            "x": 0.3558897243107769
           },
           {
            "bcd": 0.2873093511443674,
            "x": 0.3583959899749373
           },
           {
            "bcd": 0.2858049888976152,
            "x": 0.3609022556390977
           },
           {
            "bcd": 0.2843206406126011,
            "x": 0.3634085213032581
           },
           {
            "bcd": 0.28285604002455716,
            "x": 0.3659147869674185
           },
           {
            "bcd": 0.28141092441108906,
            "x": 0.3684210526315789
           },
           {
            "bcd": 0.2799850345450482,
            "x": 0.37092731829573933
           },
           {
            "bcd": 0.2785781146480313,
            "x": 0.37343358395989973
           },
           {
            "bcd": 0.27718991234449847,
            "x": 0.37593984962406013
           },
           {
            "bcd": 0.27582017861650165,
            "x": 0.37844611528822053
           },
           {
            "bcd": 0.27446866775901535,
            "x": 0.38095238095238093
           },
           {
            "bcd": 0.27313513733586187,
            "x": 0.38345864661654133
           },
           {
            "bcd": 0.2718193481362223,
            "x": 0.38596491228070173
           },
           {
            "bcd": 0.270521064131727,
            "x": 0.38847117794486213
           },
           {
            "bcd": 0.2692400524341161,
            "x": 0.39097744360902253
           },
           {
            "bcd": 0.26797608325346367,
            "x": 0.39348370927318294
           },
           {
            "bcd": 0.26672892985695795,
            "x": 0.39598997493734334
           },
           {
            "bcd": 0.26549836852822917,
            "x": 0.39849624060150374
           },
           {
            "bcd": 0.26428417852721936,
            "x": 0.40100250626566414
           },
           {
            "bcd": 0.26308614205058534,
            "x": 0.40350877192982454
           },
           {
            "bcd": 0.26190404419262914,
            "x": 0.40601503759398494
           },
           {
            "bcd": 0.26073767290674754,
            "x": 0.40852130325814534
           },
           {
            "bcd": 0.259586818967395,
            "x": 0.41102756892230574
           },
           {
            "bcd": 0.25845127593255235,
            "x": 0.41353383458646614
           },
           {
            "bcd": 0.25733084010669505,
            "x": 0.41604010025062654
           },
           {
            "bcd": 0.2562253105042538,
            "x": 0.41854636591478694
           },
           {
            "bcd": 0.25513448881356143,
            "x": 0.42105263157894735
           },
           {
            "bcd": 0.25405817936127956,
            "x": 0.42355889724310775
           },
           {
            "bcd": 0.2529961890772983,
            "x": 0.42606516290726815
           },
           {
            "bcd": 0.2519483274601031,
            "x": 0.42857142857142855
           },
           {
            "bcd": 0.2509144065426022,
            "x": 0.43107769423558895
           },
           {
            "bcd": 0.24989424085840883,
            "x": 0.43358395989974935
           },
           {
            "bcd": 0.2488876474085719,
            "x": 0.43609022556390975
           },
           {
            "bcd": 0.24789444562874957,
            "x": 0.43859649122807015
           },
           {
            "bcd": 0.24691445735681905,
            "x": 0.44110275689223055
           },
           {
            "bcd": 0.24594750680091773,
            "x": 0.44360902255639095
           },
           {
            "bcd": 0.2449934205079094,
            "x": 0.44611528822055135
           },
           {
            "bcd": 0.24405202733226977,
            "x": 0.44862155388471175
           },
           {
            "bcd": 0.24312315840538637,
            "x": 0.45112781954887216
           },
           {
            "bcd": 0.2422066471052664,
            "x": 0.45363408521303256
           },
           {
            "bcd": 0.24130232902664794,
            "x": 0.45614035087719296
           },
           {
            "bcd": 0.24041004195150864,
            "x": 0.45864661654135336
           },
           {
            "bcd": 0.23952962581996673,
            "x": 0.46115288220551376
           },
           {
            "bcd": 0.2386609227015693,
            "x": 0.46365914786967416
           },
           {
            "bcd": 0.23780377676696252,
            "x": 0.46616541353383456
           },
           {
            "bcd": 0.2369580342599386,
            "x": 0.46867167919799496
           },
           {
            "bcd": 0.23612354346985479,
            "x": 0.47117794486215536
           },
           {
            "bcd": 0.23530015470441937,
            "x": 0.47368421052631576
           },
           {
            "bcd": 0.23448772026283954,
            "x": 0.47619047619047616
           },
           {
            "bcd": 0.23368609440932656,
            "x": 0.47869674185463656
           },
           {
            "bcd": 0.23289513334695355,
            "x": 0.48120300751879697
           },
           {
            "bcd": 0.23211469519186095,
            "x": 0.48370927318295737
           },
           {
            "bcd": 0.23134463994780505,
            "x": 0.48621553884711777
           },
           {
            "bcd": 0.23058482948104533,
            "x": 0.48872180451127817
           },
           {
            "bcd": 0.22983512749556584,
            "x": 0.49122807017543857
           },
           {
            "bcd": 0.22909539950862612,
            "x": 0.49373433583959897
           },
           {
            "bcd": 0.22836551282663747,
            "x": 0.49624060150375937
           },
           {
            "bcd": 0.22764533652136032,
            "x": 0.49874686716791977
           },
           {
            "bcd": 0.2269347414064179,
            "x": 0.5012531328320802
           },
           {
            "bcd": 0.22623360001412274,
            "x": 0.5037593984962405
           },
           {
            "bcd": 0.22554178657261112,
            "x": 0.506265664160401
           },
           {
            "bcd": 0.2248591769832822,
            "x": 0.5087719298245614
           },
           {
            "bcd": 0.2241856487985368,
            "x": 0.5112781954887218
           },
           {
            "bcd": 0.2235210811998126,
            "x": 0.5137844611528821
           },
           {
            "bcd": 0.22286535497591145,
            "x": 0.5162907268170426
           },
           {
            "bcd": 0.2222183525016153,
            "x": 0.518796992481203
           },
           {
            "bcd": 0.22157995771658615,
            "x": 0.5213032581453634
           },
           {
            "bcd": 0.22095005610454704,
            "x": 0.5238095238095237
           },
           {
            "bcd": 0.22032853467274002,
            "x": 0.5263157894736842
           },
           {
            "bcd": 0.21971528193165726,
            "x": 0.5288220551378446
           },
           {
            "bcd": 0.21911018787504183,
            "x": 0.531328320802005
           },
           {
            "bcd": 0.2185131439601547,
            "x": 0.5338345864661653
           },
           {
            "bcd": 0.2179240430883041,
            "x": 0.5363408521303258
           },
           {
            "bcd": 0.21734277958563408,
            "x": 0.5388471177944862
           },
           {
            "bcd": 0.21676924918416848,
            "x": 0.5413533834586466
           },
           {
            "bcd": 0.21620334900310717,
            "x": 0.5438596491228069
           },
           {
            "bcd": 0.2156449775303711,
            "x": 0.5463659147869674
           },
           {
            "bcd": 0.21509403460439303,
            "x": 0.5488721804511278
           },
           {
            "bcd": 0.21455042139615035,
            "x": 0.5513784461152882
           },
           {
            "bcd": 0.21401404039143684,
            "x": 0.5538847117794485
           },
           {
            "bcd": 0.2134847953733705,
            "x": 0.556390977443609
           },
           {
            "bcd": 0.2129625914051341,
            "x": 0.5588972431077694
           },
           {
            "bcd": 0.2124473348129452,
            "x": 0.5614035087719298
           },
           {
            "bcd": 0.21193893316925266,
            "x": 0.5639097744360901
           },
           {
            "bcd": 0.21143729527615704,
            "x": 0.5664160401002506
           },
           {
            "bcd": 0.21094233114905125,
            "x": 0.568922305764411
           },
           {
            "bcd": 0.21045395200047912,
            "x": 0.5714285714285714
           },
           {
            "bcd": 0.20997207022420833,
            "x": 0.5739348370927317
           },
           {
            "bcd": 0.2094965993795156,
            "x": 0.5764411027568922
           },
           {
            "bcd": 0.20902745417568083,
            "x": 0.5789473684210527
           },
           {
            "bcd": 0.20856455045668756,
            "x": 0.581453634085213
           },
           {
            "bcd": 0.20810780518612676,
            "x": 0.5839598997493733
           },
           {
            "bcd": 0.20765713643230171,
            "x": 0.5864661654135338
           },
           {
            "bcd": 0.20721246335353105,
            "x": 0.5889724310776943
           },
           {
            "bcd": 0.20677370618364718,
            "x": 0.5914786967418546
           },
           {
            "bcd": 0.20634078621768767,
            "x": 0.593984962406015
           },
           {
            "bcd": 0.20591362579777703,
            "x": 0.5964912280701754
           },
           {
            "bcd": 0.20549214829919638,
            "x": 0.5989974937343359
           },
           {
            "bcd": 0.20507627811663842,
            "x": 0.6015037593984962
           },
           {
            "bcd": 0.20466594065064503,
            "x": 0.6040100250626566
           },
           {
            "bcd": 0.2042610622942257,
            "x": 0.606516290726817
           },
           {
            "bcd": 0.2038615704196537,
            "x": 0.6090225563909775
           },
           {
            "bcd": 0.2034673933654381,
            "x": 0.6115288220551378
           },
           {
            "bcd": 0.20307846042346878,
            "x": 0.6140350877192982
           },
           {
            "bcd": 0.20269470182633303,
            "x": 0.6165413533834586
           },
           {
            "bcd": 0.2023160487348003,
            "x": 0.6190476190476191
           },
           {
            "bcd": 0.2019424332254738,
            "x": 0.6215538847117794
           },
           {
            "bcd": 0.20157378827860628,
            "x": 0.6240601503759398
           },
           {
            "bcd": 0.20121004776607798,
            "x": 0.6265664160401002
           },
           {
            "bcd": 0.2008511464395343,
            "x": 0.6290726817042607
           },
           {
            "bcd": 0.2004970199186817,
            "x": 0.631578947368421
           },
           {
            "bcd": 0.20014760467973883,
            "x": 0.6340852130325814
           },
           {
            "bcd": 0.19980283804404164,
            "x": 0.6365914786967418
           },
           {
            "bcd": 0.19946265816679992,
            "x": 0.6390977443609023
           },
           {
            "bcd": 0.1991270040260036,
            "x": 0.6416040100250626
           },
           {
            "bcd": 0.19879581541147642,
            "x": 0.644110275689223
           },
           {
            "bcd": 0.1984690329140753,
            "x": 0.6466165413533834
           },
           {
            "bcd": 0.19814659791503356,
            "x": 0.6491228070175439
           },
           {
            "bcd": 0.19782845257544573,
            "x": 0.6516290726817042
           },
           {
            "bcd": 0.19751453982589226,
            "x": 0.6541353383458646
           },
           {
            "bcd": 0.19720480335620236,
            "x": 0.656641604010025
           },
           {
            "bcd": 0.19689918760535308,
            "x": 0.6591478696741855
           },
           {
            "bcd": 0.19659763775150252,
            "x": 0.6616541353383458
           },
           {
            "bcd": 0.1963000997021559,
            "x": 0.6641604010025062
           },
           {
            "bcd": 0.1960065200844624,
            "x": 0.6666666666666666
           },
           {
            "bcd": 0.1957168462356409,
            "x": 0.6691729323308271
           },
           {
            "bcd": 0.19543102619353342,
            "x": 0.6716791979949874
           },
           {
            "bcd": 0.19514900868728396,
            "x": 0.6741854636591478
           },
           {
            "bcd": 0.19487074312814148,
            "x": 0.6766917293233082
           },
           {
            "bcd": 0.19459617960038522,
            "x": 0.6791979949874687
           },
           {
            "bcd": 0.19432526885237073,
            "x": 0.681704260651629
           },
           {
            "bcd": 0.19405796228769498,
            "x": 0.6842105263157894
           },
           {
            "bcd": 0.19379421195647917,
            "x": 0.6867167919799498
           },
           {
            "bcd": 0.19353397054676733,
            "x": 0.6892230576441103
           },
           {
            "bcd": 0.19327719137603938,
            "x": 0.6917293233082706
           },
           {
            "bcd": 0.19302382838283733,
            "x": 0.694235588972431
           },
           {
            "bcd": 0.1927738361185024,
            "x": 0.6967418546365914
           },
           {
            "bcd": 0.19252716973902273,
            "x": 0.6992481203007519
           },
           {
            "bcd": 0.1922837849969888,
            "x": 0.7017543859649122
           },
           {
            "bcd": 0.1920436382336567,
            "x": 0.7042606516290726
           },
           {
            "bcd": 0.19180668637111603,
            "x": 0.706766917293233
           },
           {
            "bcd": 0.1915728869045631,
            "x": 0.7092731829573935
           },
           {
            "bcd": 0.19134219789467577,
            "x": 0.7117794486215538
           },
           {
            "bcd": 0.19111457796009082,
            "x": 0.7142857142857142
           },
           {
            "bcd": 0.19088998626998052,
            "x": 0.7167919799498746
           },
           {
            "bcd": 0.19066838253672855,
            "x": 0.7192982456140351
           },
           {
            "bcd": 0.190449727008703,
            "x": 0.7218045112781954
           },
           {
            "bcd": 0.19023398046312578,
            "x": 0.7243107769423558
           },
           {
            "bcd": 0.19002110419903673,
            "x": 0.7268170426065163
           },
           {
            "bcd": 0.18981106003035128,
            "x": 0.7293233082706767
           },
           {
            "bcd": 0.18960381027901077,
            "x": 0.731829573934837
           },
           {
            "bcd": 0.18939931776822355,
            "x": 0.7343358395989974
           },
           {
            "bcd": 0.18919754581579615,
            "x": 0.7368421052631579
           },
           {
            "bcd": 0.18899845822755326,
            "x": 0.7393483709273183
           },
           {
            "bcd": 0.1888020192908451,
            "x": 0.7418546365914787
           },
           {
            "bcd": 0.18860819376814122,
            "x": 0.744360902255639
           },
           {
            "bcd": 0.18841694689070954,
            "x": 0.7468671679197995
           },
           {
            "bcd": 0.18822824435237948,
            "x": 0.7493734335839599
           },
           {
            "bcd": 0.18804205230338814,
            "x": 0.7518796992481203
           },
           {
            "bcd": 0.18785833734430815,
            "x": 0.7543859649122806
           },
           {
            "bcd": 0.1876770665200565,
            "x": 0.7568922305764411
           },
           {
            "bcd": 0.18749820731398303,
            "x": 0.7593984962406015
           },
           {
            "bcd": 0.18732172764203747,
            "x": 0.7619047619047619
           },
           {
            "bcd": 0.18714759584701415,
            "x": 0.7644110275689222
           },
           {
            "bcd": 0.1869757806928734,
            "x": 0.7669172932330827
           },
           {
            "bcd": 0.1868062513591382,
            "x": 0.7694235588972431
           },
           {
            "bcd": 0.18663897743536573,
            "x": 0.7719298245614035
           },
           {
            "bcd": 0.1864739289156922,
            "x": 0.7744360902255638
           },
           {
            "bcd": 0.18631107619345028,
            "x": 0.7769423558897243
           },
           {
            "bcd": 0.18615039005585837,
            "x": 0.7794486215538847
           },
           {
            "bcd": 0.18599184167878033,
            "x": 0.7819548872180451
           },
           {
            "bcd": 0.18583540262155482,
            "x": 0.7844611528822054
           },
           {
            "bcd": 0.1856810448218937,
            "x": 0.7869674185463659
           },
           {
            "bcd": 0.18552874059084817,
            "x": 0.7894736842105263
           },
           {
            "bcd": 0.18537846260784183,
            "x": 0.7919799498746867
           },
           {
            "bcd": 0.1852301839157699,
            "x": 0.794486215538847
           },
           {
            "bcd": 0.18508387791616354,
            "x": 0.7969924812030075
           },
           {
            "bcd": 0.18493951836441871,
            "x": 0.7994987468671679
           },
           {
            "bcd": 0.18479707936508832,
            "x": 0.8020050125313283
           },
           {
            "bcd": 0.18465653536723697,
            "x": 0.8045112781954886
           },
           {
            "bcd": 0.18451786115985772,
            "x": 0.8070175438596491
           },
           {
            "bcd": 0.18438103186734953,
            "x": 0.8095238095238095
           },
           {
            "bcd": 0.18424602294505524,
            "x": 0.8120300751879699
           },
           {
            "bcd": 0.18411281017485862,
            "x": 0.8145363408521302
           },
           {
            "bcd": 0.18398136966083994,
            "x": 0.8170426065162907
           },
           {
            "bcd": 0.1838516778249898,
            "x": 0.8195488721804511
           },
           {
            "bcd": 0.18372371140297936,
            "x": 0.8220551378446115
           },
           {
            "bcd": 0.18359744743998727,
            "x": 0.8245614035087718
           },
           {
            "bcd": 0.18347286328658202,
            "x": 0.8270676691729323
           },
           {
            "bcd": 0.18334993659465912,
            "x": 0.8295739348370927
           },
           {
            "bcd": 0.18322864531343205,
            "x": 0.8320802005012531
           },
           {
            "bcd": 0.1831089676854769,
            "x": 0.8345864661654134
           },
           {
            "bcd": 0.1829908822428295,
            "x": 0.8370927318295739
           },
           {
            "bcd": 0.18287436780313437,
            "x": 0.8395989974937343
           },
           {
            "bcd": 0.18275940346584515,
            "x": 0.8421052631578947
           },
           {
            "bcd": 0.18264596860847523,
            "x": 0.844611528822055
           },
           {
            "bcd": 0.18253404288289857,
            "x": 0.8471177944862155
           },
           {
            "bcd": 0.18242360621169962,
            "x": 0.849624060150376
           },
           {
            "bcd": 0.1823146387845718,
            "x": 0.8521303258145363
           },
           {
            "bcd": 0.18220712105476386,
            "x": 0.8546365914786966
           },
           {
            "bcd": 0.18210103373557354,
            "x": 0.8571428571428571
           },
           {
            "bcd": 0.18199635779688803,
            "x": 0.8596491228070176
           },
           {
            "bcd": 0.18189307446177008,
            "x": 0.8621553884711779
           },
           {
            "bcd": 0.18179116520308997,
            "x": 0.8646616541353382
           },
           {
            "bcd": 0.18169061174020196,
            "x": 0.8671679197994987
           },
           {
            "bcd": 0.1815913960356652,
            "x": 0.8696741854636592
           },
           {
            "bcd": 0.18149350029200803,
            "x": 0.8721804511278195
           },
           {
            "bcd": 0.18139690694853547,
            "x": 0.8746867167919798
           },
           {
            "bcd": 0.18130159867817916,
            "x": 0.8771929824561403
           },
           {
            "bcd": 0.1812075583843892,
            "x": 0.8796992481203008
           },
           {
            "bcd": 0.18111476919806746,
            "x": 0.8822055137844611
           },
           {
            "bcd": 0.18102321447454134,
            "x": 0.8847117794486214
           },
           {
            "bcd": 0.18093287779057818,
            "x": 0.8872180451127819
           },
           {
            "bcd": 0.18084374294143923,
            "x": 0.8897243107769424
           },
           {
            "bcd": 0.18075579393797284,
            "x": 0.8922305764411027
           },
           {
            "bcd": 0.1806690150037461,
            "x": 0.894736842105263
           },
           {
            "bcd": 0.18058339057221515,
            "x": 0.8972431077694235
           },
           {
            "bcd": 0.18049890528393256,
            "x": 0.899749373433584
           },
           {
            "bcd": 0.1804155439837923,
            "x": 0.9022556390977443
           },
           {
            "bcd": 0.18033329171831114,
            "x": 0.9047619047619047
           },
           {
            "bcd": 0.18025213373294618,
            "x": 0.9072681704260651
           },
           {
            "bcd": 0.1801720554694483,
            "x": 0.9097744360902256
           },
           {
            "bcd": 0.18009304256325065,
            "x": 0.9122807017543859
           },
           {
            "bcd": 0.18001508084089174,
            "x": 0.9147869674185463
           },
           {
            "bcd": 0.17993815631747326,
            "x": 0.9172932330827067
           },
           {
            "bcd": 0.17986225519415122,
            "x": 0.9197994987468672
           },
           {
            "bcd": 0.1797873638556608,
            "x": 0.9223057644110275
           },
           {
            "bcd": 0.17971346886787404,
            "x": 0.9248120300751879
           },
           {
            "bcd": 0.17964055697538986,
            "x": 0.9273182957393483
           },
           {
            "bcd": 0.17956861509915648,
            "x": 0.9298245614035088
           },
           {
            "bcd": 0.17949763033412516,
            "x": 0.9323308270676691
           },
           {
            "bcd": 0.17942758994693525,
            "x": 0.9348370927318295
           },
           {
            "bcd": 0.1793584813736302,
            "x": 0.9373433583959899
           },
           {
            "bcd": 0.17929029221740364,
            "x": 0.9398496240601504
           },
           {
            "bcd": 0.1792230102463757,
            "x": 0.9423558897243107
           },
           {
            "bcd": 0.17915662339139896,
            "x": 0.9448621553884711
           },
           {
            "bcd": 0.17909111974389322,
            "x": 0.9473684210526315
           },
           {
            "bcd": 0.17902648755370945,
            "x": 0.949874686716792
           },
           {
            "bcd": 0.17896271522702215,
            "x": 0.9523809523809523
           },
           {
            "bcd": 0.17889979132424935,
            "x": 0.9548872180451127
           },
           {
            "bcd": 0.17883770455800085,
            "x": 0.9573934837092731
           },
           {
            "bcd": 0.17877644379105329,
            "x": 0.9598997493734336
           },
           {
            "bcd": 0.1787159980343523,
            "x": 0.9624060150375939
           },
           {
            "bcd": 0.17865635644504152,
            "x": 0.9649122807017543
           },
           {
            "bcd": 0.1785975083245173,
            "x": 0.9674185463659147
           },
           {
            "bcd": 0.17853944311650968,
            "x": 0.9699248120300752
           },
           {
            "bcd": 0.1784821504051889,
            "x": 0.9724310776942355
           },
           {
            "bcd": 0.1784256199132968,
            "x": 0.9749373433583959
           },
           {
            "bcd": 0.17836984150030338,
            "x": 0.9774436090225563
           },
           {
            "bcd": 0.17831480516058776,
            "x": 0.9799498746867168
           },
           {
            "bcd": 0.17826050102164337,
            "x": 0.9824561403508771
           },
           {
            "bcd": 0.17820691934230698,
            "x": 0.9849624060150375
           },
           {
            "bcd": 0.17815405051101127,
            "x": 0.9874686716791979
           },
           {
            "bcd": 0.17810188504406083,
            "x": 0.9899749373433584
           },
           {
            "bcd": 0.17805041358393076,
            "x": 0.9924812030075187
           },
           {
            "bcd": 0.1779996268975883,
            "x": 0.9949874686716791
           },
           {
            "bcd": 0.1779495158748365,
            "x": 0.9974937343358395
           },
           {
            "bcd": 0.17790007152667997,
            "x": 1
           }
          ]
         },
         "encoding": {
          "x": {
           "field": "x",
           "type": "quantitative"
          },
          "y": {
           "field": "bcd",
           "type": "quantitative"
          }
         },
         "mark": {
          "color": "darkgray",
          "type": "line"
         }
        },
        {
         "data": {
          "values": [
           {
            "bcd": 0.8630969280563285,
            "fractional distance from anterior": 0.002644667245598801
           },
           {
            "bcd": 0.8630969280563285,
            "fractional distance from anterior": 0.034222783610957604
           },
           {
            "bcd": 0.7457271023791949,
            "fractional distance from anterior": 0.06844556722191521
           },
           {
            "bcd": 0.6548747941627394,
            "fractional distance from anterior": 0.10262887818741613
           },
           {
            "bcd": 0.5451138492987339,
            "fractional distance from anterior": 0.13420699455277493
           },
           {
            "bcd": 0.469365737323264,
            "fractional distance from anterior": 0.17107444540933134
           },
           {
            "bcd": 0.42393958321503616,
            "fractional distance from anterior": 0.20525775637483226
           },
           {
            "bcd": 0.3823178695133724,
            "fractional distance from anterior": 0.23948053998578986
           },
           {
            "bcd": 0.3444438135256374,
            "fractional distance from anterior": 0.2737033235967475
           },
           {
            "bcd": 0.28391346317642385,
            "fractional distance from anterior": 0.3078866345622484
           },
           {
            "bcd": 0.2649480438362388,
            "fractional distance from anterior": 0.342109418173206
           },
           {
            "bcd": 0.29527000170348083,
            "fractional distance from anterior": 0.37893739638430574
           },
           {
            "bcd": 0.2498438475952531,
            "fractional distance from anterior": 0.4105155127496644
           },
           {
            "bcd": 0.22713077054113914,
            "fractional distance from anterior": 0.4473829636062209
           },
           {
            "bcd": 0.2422349667821249,
            "fractional distance from anterior": 0.4815662745717218
           },
           {
            "bcd": 0.21577423201408216,
            "fractional distance from anterior": 0.5157890581826794
           },
           {
            "bcd": 0.2308784282550679,
            "fractional distance from anterior": 0.550011841793637
           },
           {
            "bcd": 0.22713077054113914,
            "fractional distance from anterior": 0.5868398200047367
           },
           {
            "bcd": 0.208165351200954,
            "fractional distance from anterior": 0.6210626036156943
           },
           {
            "bcd": 0.2044176934870252,
            "fractional distance from anterior": 0.6552459145811952
           },
           {
            "bcd": 0.1817046164329113,
            "fractional distance from anterior": 0.6894686981921528
           },
           {
            "bcd": 0.19680881267389705,
            "fractional distance from anterior": 0.7236914818031106
           },
           {
            "bcd": 0.2006132530804612,
            "fractional distance from anterior": 0.7578747927686114
           },
           {
            "bcd": 0.1817046164329113,
            "fractional distance from anterior": 0.792097576379569
           },
           {
            "bcd": 0.17790017602634725,
            "fractional distance from anterior": 0.8263203599905266
           },
           {
            "bcd": 0.1817046164329113,
            "fractional distance from anterior": 0.8605036709560274
           },
           {
            "bcd": 0.18925671455340426,
            "fractional distance from anterior": 0.894726454566985
           },
           {
            "bcd": 0.17790017602634725,
            "fractional distance from anterior": 0.9657772163890423
           }
          ]
         },
         "encoding": {
          "x": {
           "field": "fractional distance from anterior",
           "type": "quantitative"
          },
          "y": {
           "field": "bcd",
           "scale": {
            "domain": [
             0,
             1
            ]
           },
           "title": "[Bcd] (a.u.)",
           "type": "quantitative"
          }
         },
         "mark": "point"
        }
       ]
      },
      "image/png": "[encoded data removed]",
      "text/plain": [
       "<VegaLite 2 object>\n",
       "\n",
       "If you see this message, it means the renderer has not been properly enabled\n",
       "for the frontend that you are using. For more information, see\n",
       "https://altair-viz.github.io/user_guide/troubleshooting.html\n"
      ]
     },
     "execution_count": 13,
     "metadata": {},
     "output_type": "execute_result"
    }
   ],
   "source": [
    "# Smooth x values (400 values between zero and one)\n",
    "x_smooth = np.linspace(0, 1, 400)\n",
    "\n",
    "# Compute smooth curve\n",
    "bcd_smooth = bcd_gradient_model(x_smooth, *p)\n",
    "\n",
    "# Make into a data frame\n",
    "df_smooth = pd.DataFrame({'x': x_smooth, 'bcd': bcd_smooth})\n",
    "\n",
    "# Smooth line\n",
    "line = alt.Chart(df_smooth\n",
    "    ).mark_line(\n",
    "        color='darkgray',\n",
    "    ).encode(\n",
    "        x='x',\n",
    "        y='bcd')\n",
    "\n",
    "line + dots"
   ]
  },
  {
   "cell_type": "markdown",
   "metadata": {},
   "source": [
    "So, we have determined the length scale of the Bcd gradient: about 20% of the total embryo length."
   ]
  }
 ],
 "metadata": {
  "anaconda-cloud": {},
  "kernelspec": {
   "display_name": "Python 3",
   "language": "python",
   "name": "python3"
  },
  "language_info": {
   "codemirror_mode": {
    "name": "ipython",
    "version": 3
   },
   "file_extension": ".py",
   "mimetype": "text/x-python",
   "name": "python",
   "nbconvert_exporter": "python",
   "pygments_lexer": "ipython3",
   "version": "3.6.5"
  }
 },
 "nbformat": 4,
 "nbformat_minor": 2
}
