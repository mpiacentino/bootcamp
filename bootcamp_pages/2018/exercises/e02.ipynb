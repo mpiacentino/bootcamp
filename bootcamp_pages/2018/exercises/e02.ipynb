{
 "cells": [
  {
   "cell_type": "markdown",
   "metadata": {},
   "source": [
    "# Exercise 2\n",
    "\n",
    "(c) 2018 Justin Bois. With the exception of pasted graphics, where the source is noted, this work is licensed under a [Creative Commons Attribution License CC-BY 4.0](https://creativecommons.org/licenses/by/4.0/). All code contained herein is licensed under an [MIT license](https://opensource.org/licenses/MIT).\n",
    "\n",
    "Exercises 2.2 and 2.3  were inspired by [Libeskind-Hadas and Bush, *Computing for Biologists*, Cambridge University Press, 2014](https://www.cs.hmc.edu/CFB).\n",
    "\n",
    "This document was prepared at [Caltech](http://www.caltech.edu) with financial support from the [Donna and Benjamin M. Rosen Bioengineering Center](http://rosen.caltech.edu).\n",
    "\n",
    "<img src=\"caltech_rosen.png\">\n",
    "\n",
    "*This exercise was generated from a Jupyter notebook.  You can download the notebook [here](e02.ipynb).*\n",
    "\n",
    "<br /> <br />\n"
   ]
  },
  {
   "cell_type": "markdown",
   "metadata": {},
   "source": [
    "For all problems except for practice with TDD and refactoring, we will work with real data from the *Salmonella enterica* genome.  The section of the genome we will work with is in the file `~git/bootcamp/data/salmonella_spi1_region.fna`.  I cut it out of the [full genome](http://www.ncbi.nlm.nih.gov/nucleotide/821161554).  It contains *Salmonella* pathogenicity island I (SPI1), which is contains genes for surface receptors for host-pathogen interactions."
   ]
  },
  {
   "cell_type": "markdown",
   "metadata": {},
   "source": [
    "<br />"
   ]
  },
  {
   "cell_type": "markdown",
   "metadata": {},
   "source": [
    "## Exercise 2.1: Parsing a FASTA file\n",
    "\n",
    "There are packages, like [Biopython](http://biopython.org/) and [scikit-bio](http://scikit-bio.org) for processing files you encounter in bioinformatics.  In this problem, though, we will work on our file I/O skills.  \n",
    "\n",
    "**a)** Use command line tools to investigate the FASTA file, which is located at `~git/bootcamp/data/salmonella_spi1_region.fna`. You will notice that the first line begins with a `>`, signifying that the line contains information about the sequence.  The remainder of the lines are the sequence itself.\n",
    "\n",
    "**b)** Use the file I/O skill you have learned to read in the sequence and store it as a single string with no gaps."
   ]
  },
  {
   "cell_type": "markdown",
   "metadata": {},
   "source": [
    "<br />"
   ]
  },
  {
   "cell_type": "markdown",
   "metadata": {},
   "source": [
    "## Exercise 2.2: Pathogenicity islands\n",
    "Pathogenicity islands are often marked by different GC content than the rest of the genome.  We will try to locate the pathogenicity island(s) in our section of the *Salmonella* genome by computing GC content.\n",
    "\n",
    "**a)** Use principles of TDD to write a function that divides a sequence into blocks and computes the GC content for each block, returning a tuple. The function signature should look like\n",
    "\n",
    "    gc_blocks(seq, block_size)\n",
    "    \n",
    "To be clear, if `seq = 'ATGACTACGT'` and `block_size = 4`, the blocks to be considered are\n",
    "\n",
    "    ATGA\n",
    "    CTAC\n",
    "    \n",
    "and the function should return `(0.25, 0.5)`. Note that the blocks are non-overlapping and that we don't bother with the fact that end of the sequence that does not fit completely in a block."
   ]
  },
  {
   "cell_type": "markdown",
   "metadata": {},
   "source": [
    "**b)** Write a function that takes as input a sequence, block size, and a threshold GC content, and returns the original sequence where every base in a block with GC content above threshold is capitalized and every base below the threshold is lowercase.  You would call the function like this:\n",
    "\n",
    "    mapped_seq = gc_map(seq, block_size, gc_thresh)\n",
    "\n",
    "For example, \n",
    "\n",
    "    gc_map('ATGACTACGT', 4, 0.4)\n",
    "\n",
    "returns `'atgaCTAC'`. Note that bases not included in GC blocks are not included in the output sequence. Again, use principles of TDD."
   ]
  },
  {
   "cell_type": "markdown",
   "metadata": {},
   "source": [
    "**c)** Use the `gc_map()` function to generate a GC content map for the *Salmonella* sequence with `block_size = 1000` and `gc_thresh = 0.45`.  Where do you think the pathogenicity island is?"
   ]
  },
  {
   "cell_type": "markdown",
   "metadata": {},
   "source": [
    "**d)** Write the GC-mapped sequence (with upper and lower characters) to a new FASTA file.  Use the same description line (which began with a `>` in the original FASTA file), and have line breaks every 60 characters in the sequence."
   ]
  },
  {
   "cell_type": "markdown",
   "metadata": {},
   "source": [
    "<br />"
   ]
  },
  {
   "cell_type": "markdown",
   "metadata": {},
   "source": [
    "## Exercise 2.3: ORF detection\n",
    "\n",
    "For this problem, again use principles of TDD to help you write your functions.\n",
    "\n",
    "**a)** Write a function, `longest_orf()`, that takes a DNA sequence as input and finds the longest open reading frame (ORF) in the sequence (we will not consider reverse complements).  A sequence fragment constitutes an ORF if the following are all true.\n",
    "\n",
    "1. It begins with `ATG`.\n",
    "2. It ends with any of `TGA`, `TAG`, or `TAA`.\n",
    "3. The total number of bases is a multiple of 3.\n",
    "\n",
    "Note that the sequence `ATG` may appear in the middle of an ORF.  So, for example,\n",
    "\n",
    "    GGATGATGATGTAAAAC\n",
    "\n",
    "has two ORFs, `ATGATGATGTAA` and `ATGATGTAA`.  You would return the first one, since it is longer of these two.\n",
    "\n",
    "*Hint: The statement for this problem is a bit ambiguous as it is written.  What other specification might you need for this function?*"
   ]
  },
  {
   "cell_type": "markdown",
   "metadata": {},
   "source": [
    "**b)** Use your function to find the longest ORF from the section of the *Salmonella* genome we are investigating."
   ]
  },
  {
   "cell_type": "markdown",
   "metadata": {},
   "source": [
    "**c)** Write a function that converts a DNA sequence into a protein sequence. You can of course use the `bootcamp_utils` module."
   ]
  },
  {
   "cell_type": "markdown",
   "metadata": {},
   "source": [
    "**d)** Translate the longest ORF you generated in part (b) into a protein sequence and perform a [BLAST search](http://blast.ncbi.nlm.nih.gov/).  Search for the protein sequence (a blastp query).  What gene is it?"
   ]
  },
  {
   "cell_type": "markdown",
   "metadata": {},
   "source": [
    "**e)** [*Bonus challenge*] Modify your function to return the `n` longest ORFs.  Compute the five longest ORFs for the *Salmonella* genome section we are working with.  Perform BLAST searches on them.  What are they?"
   ]
  },
  {
   "cell_type": "markdown",
   "metadata": {},
   "source": [
    "<br />"
   ]
  },
  {
   "cell_type": "markdown",
   "metadata": {},
   "source": [
    "## Exercise 2.4: Code refactoring challenge\n",
    "\n",
    "Refer back to the exercises on TDD. You wrote some functions in the file `seq_features.py` that compute the number of positively and negatively charged residues in a protein. \n",
    "\n",
    "Let's say we want to add some functionality. First, we want to compute the net charge for a sequence. That is the sum of the positively charged residues minus the sum o the negatively charged residues. Second, we want to include pH dependence on the protonation state of the residues, and therefore the charge. We will approximate the pH dependence as follows. All residues have their respective positive of negative charge, except as indicated below.\n",
    "\n",
    "- Below pH 4, glutamic acid and aspartic acid have no charge.\n",
    "- Above pH 8, histidine has no charge.\n",
    "- Above pH 10, arginine and lysine have no charge.\n",
    "\n",
    "**a)** You want a function with signature `net_charge(seq, pH=7)` that returns the equilibrium net charge of the sequence. Your task it to add this functionality to the `seq_features.py` module using principle of TDD. Think carefully. You have some decisions to make. How will you write `net_charge(seq, pH=7)`? How will you refactor `number_positives()` and `number_negatives()`?\n",
    "\n",
    "As you get started, the current state as of the completion of the TDD lessons of the two `.py` files are as follows.\n",
    "\n",
    "`seq_features.py`\n",
    "```python\n",
    "import bootcamp_utils\n",
    "\n",
    "def is_valid_sequence(seq):\n",
    "    for aa in seq:\n",
    "        if aa not in bootcamp_utils.aa.keys():\n",
    "            raise RuntimeError(aa + ' is not a valid amino acid.')\n",
    "\n",
    "def number_negatives(seq):\n",
    "    \"\"\"Number of negative residues a protein sequence\"\"\"\n",
    "    # Convert sequence to upper case\n",
    "    seq = seq.upper()\n",
    "\n",
    "    # Check for a valid sequence\n",
    "    is_valid_sequence(seq)\n",
    "\n",
    "    # Count E's and D's, since these are the negative residues\n",
    "    return seq.count('E') + seq.count('D')\n",
    "\n",
    "def number_positives(seq):\n",
    "    \"\"\"Number of positive residues a protein sequence\"\"\"\n",
    "    # Convert sequence to upper case\n",
    "    seq = seq.upper()\n",
    "\n",
    "    # Check for a valid sequence\n",
    "    is_valid_sequence(seq)\n",
    "\n",
    "    return seq.count('R') + seq.count('K') + seq.count('H')\n",
    "\n",
    "```\n",
    "\n",
    "`test_seq_features.py`\n",
    "```python\n",
    "import pytest\n",
    "import seq_features\n",
    "\n",
    "def test_number_negatives_single_E_or_D():\n",
    "    \"\"\"Perform unit tests on number_negative for single AA\"\"\"\n",
    "    assert seq_features.number_negatives('E') == 1\n",
    "    assert seq_features.number_negatives('D') == 1\n",
    "\n",
    "def test_number_negatives_for_empty():\n",
    "    \"\"\"Perform unit tests on number_negative for empty entry\"\"\"\n",
    "    assert seq_features.number_negatives('') == 0\n",
    "\n",
    "def test_number_negatives_for_short_sequences():\n",
    "    \"\"\"Perform unit tests on number_negative for short sequence\"\"\"\n",
    "    assert seq_features.number_negatives('ACKLWTTAE') == 1\n",
    "    assert seq_features.number_negatives('DDDDEEEE') == 8\n",
    "\n",
    "def test_number_negatives_for_lowercase():\n",
    "    \"\"\"Perform unit tests on number_negative for lowercase\"\"\"\n",
    "    assert seq_features.number_negatives('acklwttae') == 1\n",
    "\n",
    "def test_number_negatives_for_invalid_amino_acid():\n",
    "    with pytest.raises(RuntimeError) as excinfo:\n",
    "        seq_features.number_negatives('Z')\n",
    "    excinfo.match(\"Z is not a valid amino acid\")\n",
    "\n",
    "def test_number_positives_single_R_K_or_H():\n",
    "    \"\"\"Perform unit tests on number_positives for single AA\"\"\"\n",
    "    assert seq_features.number_positives('R') == 1\n",
    "    assert seq_features.number_positives('K') == 1\n",
    "    assert seq_features.number_positives('H') == 1\n",
    "\n",
    "def test_number_positives_for_empty():\n",
    "    \"\"\"Perform unit tests on number_positives for empty entry\"\"\"\n",
    "    assert seq_features.number_positives('') == 0\n",
    "\n",
    "def test_number_positives_for_short_sequences():\n",
    "    \"\"\"Perform unit tests on number_positives for short sequence\"\"\"\n",
    "    assert seq_features.number_positives('RCKLWTTRE') == 3\n",
    "    assert seq_features.number_positives('DDDDEEEE') == 0\n",
    "\n",
    "def test_number_positives_for_lowercase():\n",
    "    \"\"\"Perform unit tests on number_positives for lowercase\"\"\"\n",
    "    assert seq_features.number_positives('rcklwttre') == 3\n",
    "    \n",
    "def test_number_positives_for_invalid_amino_acid():\n",
    "    with pytest.raises(RuntimeError) as excinfo:\n",
    "        seq_features.number_positives('Z')\n",
    "    excinfo.match(\"Z is not a valid amino acid\")\n",
    "\n",
    "def test_number_negatives_for_invalid_amino_acid_anywhere():\n",
    "    with pytest.raises(RuntimeError) as excinfo:\n",
    "        seq_features.number_negatives('AZK')\n",
    "    excinfo.match(\"Z is not a valid amino acid\")\n",
    "    \n",
    "def test_number_positives_for_invalid_amino_acid_anywhere():\n",
    "    with pytest.raises(RuntimeError) as excinfo:\n",
    "        seq_features.number_positives('AZK')\n",
    "    excinfo.match(\"Z is not a valid amino acid\")\n",
    "\n",
    "def test_is_valid_sequence_for_invalid_amino_acid():\n",
    "    with pytest.raises(RuntimeError) as excinfo:\n",
    "        seq_features.is_valid_sequence('Z')\n",
    "    excinfo.match(\"Z is not a valid amino acid\")    \n",
    "    \n",
    "def test_is_valid_sequence_for_invalid_amino_acid_anywhere():\n",
    "    with pytest.raises(RuntimeError) as excinfo:\n",
    "        seq_features.is_valid_sequence('AZK')\n",
    "    excinfo.match(\"Z is not a valid amino acid\")\n",
    "\n",
    "def test_is_valid_sequence_for_other_invalid_amino_acid_anywhere():\n",
    "    assert seq_features.is_valid_sequence('ALKSAYGS') is None\n",
    "    \n",
    "    with pytest.raises(RuntimeError) as excinfo:\n",
    "        seq_features.is_valid_sequence('AZLL')\n",
    "    excinfo.match(\"Z is not a valid amino acid\")\n",
    "    \n",
    "    with pytest.raises(RuntimeError) as excinfo:\n",
    "        seq_features.is_valid_sequence('ALLBJ')\n",
    "    excinfo.match(\"B is not a valid amino acid\")\n",
    "\n",
    "    with pytest.raises(RuntimeError) as excinfo:\n",
    "        seq_features.is_valid_sequence('AL%J')\n",
    "    excinfo.match(\"% is not a valid amino acid\")\n",
    "\n",
    "```\n",
    "\n",
    "**b)**\n",
    "If we want to be more precise, equilibrium charge of a residue is a fractional quantity. I.e., some fraction of the time it can be changed, and others not. Working out the chemical equilibria, if a given residue has a dissociation constant $K_a$ and in a solution with a hydrogen ion concentration of [H$^+$], then the fraction $f$ of residues that are deprotonated is\n",
    "\n",
    "\\begin{align}\n",
    "f = \\frac{K_a/[\\mathrm{H}^+]}{1 + K_a/[\\mathrm{H}^+]}.\n",
    "\\end{align}\n",
    "\n",
    "So if we want to compute the equilibrium charge, this is a quantitative property, not just a number of charged residues, as we have been computing in `number_positives()` and `number_negatives()`. Now that we're using fractional charges, it is important to remember that you can't test for exact equality of floats, so you will have to test for approximate equality in some of your tests. Here are a couple more specifications/useful information for this task.\n",
    "\n",
    "* Treat all residues except aspartic acid, glutamic acid, arginine, lysine, and histidine as having zero charge.\n",
    "* The pKₐ of the respective residues are in the table below.\n",
    "\n",
    "|Residue|shorthand|pKₐ|\n",
    "|:------|:-------:|--:|\n",
    "|aspartic acid | D | 3.9|\n",
    "|glutamic acid | E | 4.3|\n",
    "|arginine | R | 12.0|\n",
    "|lysine | K | 10.5|\n",
    "|histidine | H | 6.08|\n",
    "\n",
    "Think about the problem again. How will you write `net_charge(seq, pH=7)`? What refactoring of other functions is necessary? Go ahead and attack this problem using principles of TDD.\n"
   ]
  }
 ],
 "metadata": {
  "anaconda-cloud": {},
  "kernelspec": {
   "display_name": "Python 3",
   "language": "python",
   "name": "python3"
  },
  "language_info": {
   "codemirror_mode": {
    "name": "ipython",
    "version": 3
   },
   "file_extension": ".py",
   "mimetype": "text/x-python",
   "name": "python",
   "nbconvert_exporter": "python",
   "pygments_lexer": "ipython3",
   "version": "3.6.5"
  }
 },
 "nbformat": 4,
 "nbformat_minor": 2
}
