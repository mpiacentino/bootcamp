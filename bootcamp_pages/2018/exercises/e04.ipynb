{
 "cells": [
  {
   "cell_type": "markdown",
   "metadata": {},
   "source": [
    "# Exercise 4\n",
    "\n",
    "(c) 2018 Justin Bois. With the exception of pasted graphics, where the source is noted, this work is licensed under a [Creative Commons Attribution License CC-BY 4.0](https://creativecommons.org/licenses/by/4.0/). All code contained herein is licensed under an [MIT license](https://opensource.org/licenses/MIT).\n",
    "\n",
    "This document was prepared at [Caltech](http://www.caltech.edu) with financial support from the [Donna and Benjamin M. Rosen Bioengineering Center](http://rosen.caltech.edu).\n",
    "\n",
    "<img src=\"caltech_rosen.png\">\n",
    "\n",
    "*This exercise was generated from a Jupyter notebook.  You can download the notebook [here](e044.ipynb).*\n",
    "\n",
    "<br /><br />"
   ]
  },
  {
   "cell_type": "code",
   "execution_count": 1,
   "metadata": {
    "collapsed": true
   },
   "outputs": [],
   "source": [
    "import numpy as np\n",
    "import pandas as pd\n",
    "\n",
    "import altair as alt"
   ]
  },
  {
   "cell_type": "markdown",
   "metadata": {},
   "source": [
    "## Exercise 4.0: Complete practice\n",
    "\n",
    "If you have not already, complete the exercises from [lesson 29](l29_practice_with_numpy.html) and [lesson 32](l32_practice_with_hackerstats.html).\n",
    "\n",
    "<br />"
   ]
  },
  {
   "cell_type": "markdown",
   "metadata": {},
   "source": [
    "## Exercise 4.1: Data collapse\n",
    "\n",
    "Rob Phillips wrote a review paper a couple of years ago that I enjoyed entitled [\"Napoleon is in Equilibrium.\"](https://dx.doi.org/10.1146%2Fannurev-conmatphys-031214-014558). In the paper, he demonstrated that when you plot data in a certain way, they demonstrate **data collapse**. The idea here is that if you choose the right thing to plot on the $x$ and $y$ axes, data from a variety of sources collapse onto a single universal curve. In this exercise, you will hone your NumPy and Matplotlib skills in making plots exhibiting data collapse along the way. \n",
    "\n",
    "This analysis comes from Rob's paper, and the data come from [Daber, Sochor, and Lewis, *J. Mol. Biol.*, **409**, 76–87, 2011](https://doi.org/10.1016/j.jmb.2011.03.057). The authors were studying how different mutants of the lac repressor affect gene expression. They hooked the lac promoter up to a fluorescent protein reporter. They then made a mutant with no lac repressor to get a measurement of the gene expression level (quantified by the fluorescent signal) in the absence of repressor. Then then looked at how the presence of a repressor served to decrease the expression level of the lac gene. The ratio of the repressed fluorescence to the totally unrepressed fluorescence is the **fold change** in repression. They can block repression by adding IPTG, which binds the lac repressor, rendering it ineffective at repressing gene expression (so IPTG is called an \"inducer,\" since it turns on gene expression). So, for a given experiment, the authors measured fold change as a function of IPTG concentration. They measured the fold change for wild type, plus two mutants, Q18M and Q18A.\n",
    "\n",
    "We will not derive it here (it comes from a generalization of the [Monod-Wyman-Changeux model](https://en.wikipedia.org/wiki/Monod-Wyman-Changeux_model)), but the theoretical expression for the fold change as a function of IPTG concentration, $c$, is\n",
    "\n",
    "\\begin{align}\n",
    "\\text{fold change} = \\left[1 + \\frac{\\frac{R}{K}\\left(1 + c/K_\\mathrm{d}^\\mathrm{A}\\right)^2}{\\left(1 + c/K_\\mathrm{d}^\\mathrm{A}\\right)^2 + K_\\mathrm{switch}\\left(1 + c/K_\\mathrm{d}^\\mathrm{I}\\right)^2}\\right]^{-1}.\n",
    "\\end{align}\n",
    "\n",
    "The parameters are:\n",
    "\n",
    "|Parameter|Description|Value|Units|\n",
    "|:--:|:--:|:--:|:--:|\n",
    "|$K_\\mathrm{d}^\\mathrm{A}$|dissoc. const. for active repressor binding IPTG|0.017|mM$^{-1}$|\n",
    "|$K_\\mathrm{d}^\\mathrm{I}$|dissoc. const. for inactive repressor binding IPTG|0.002|mM$^{-1}$|\n",
    "|$K_\\mathrm{switch}$|equil. const. for switching active/inactive|5.8|---|\n",
    "|$K$|dissoc. const. for active repressor binding operator|?|mM$^{-1}$|\n",
    "|$R$|number of repressors in cell|?|---|\n",
    "\n",
    "The values of $K_\\mathrm{d}^\\mathrm{A}$, $K_\\mathrm{d}^\\mathrm{I}$, and $K_\\mathrm{switch}$ were measured in the Daber, Sochor, and Lewis paper, and, as I mentioned before, are the same for all mutants. You can see in the expression for the fold change that $R$ and $K$ always appear as a ratio, $R/K$, so we can only determine this *ratio*, $R/K$, for each mutant. They are, for the respective mutants:\n",
    "\n",
    "|Mutant|$R/K$|\n",
    "|:--:|:--:|\n",
    "|WT|141.5 mM$^{-1}$|\n",
    "|Q18A|16.56 mM$^{-1}$|\n",
    "|Q18M|1332 mM$^{-1}$|\n",
    "\n",
    "Now let's get started with the analysis.\n",
    "\n",
    "**a)** Load in the three data sets. They are in the files `~/git/data/wt_lac.csv`, `~/git/data/q18m_lac.csv`, and `~/git/data/q18a_lac.csv`. You should put them in a single `DataFrame` with an added column for genotype. This can be accomplished, for example, with `pd.concat()`.\n",
    "\n",
    "**b)** Make a plot of fold change vs. IPTG concentration for each of the three mutants. Think: should any of the axes have a logarithmic scale?\n",
    "\n",
    "**c)** Write a function with the signature `fold_change(c, RK, KdA=0.017, KdI=0.002, Kswitch=5.8)` to compute the theoretical fold change. It should allow `c`, the concentration of IPTG, to be passed in as a NumPy array or scalar, and `RK`, the $R/K$ ratio, must be a scalar. Remember, with NumPy arrays, you don't have to write **`for`** loops to do operations to each element of the array.\n",
    "\n",
    "**d)** You will now plot a smooth curve showing the theoretical fold change for each mutant. \n",
    ">1. Make an array of closely spaced points for the IPTG concentration. *Hint*: The function `np.logspace()` will be useful.\n",
    "2. Compute the theoretical fold change based on the given parameters using the function you wrote in part (c).\n",
    "3. Plot the smooth curves on the same plot with the data. Don't forget to properly annotate your plot with axis labels and a legend.\n",
    "\n",
    "**e)** If we look at the functional form of the fold change and at the parameters we are given, we see that only $R/K$ varies from mutant to mutant. I told you this *a priori*, but we didn't really know it. Daber, Sochol, and Lewis assumed that the binding to IPTG would be unaltered and the binding to DNA would be altered based on the position of the mutation in the lac repressor protein. Now, *if* this is true, then $R/K$ should be the only thing that varies. We can check this by seeing if the data collapse onto a single curve. To see how this works, we define the **Bohr parameter**, $F(c)$, as\n",
    "\n",
    "\\begin{align}\n",
    "F(c) = -\\ln\\left(R/K\\right) - \\ln\\left(\\frac{\\left(1 + c/K_\\mathrm{d}^\\mathrm{A}\\right)^2}{\\left(1 + c/K_\\mathrm{d}^\\mathrm{A}\\right)^2 + K_\\mathrm{switch}\\left(1 + c/K_\\mathrm{d}^\\mathrm{I}\\right)^2}\\right).\n",
    "\\end{align}\n",
    "\n",
    "The second term in the Bohr parameter is independent of the identity of the mutant, and the first term depends entirely upon it. Then, the fold change can be written as\n",
    "\n",
    "\\begin{align}\n",
    "\\text{fold change} = \\frac{1}{1 + \\mathrm{e}^{-F(c)}}.\n",
    "\\end{align}\n",
    "\n",
    "So, if we make our $x$-axis be the Bohr parameter, all data should fall on the *same* curve. Hence the term, data collapse. (The Bohr parameter gets its name (as given by Rob Phillips) because it is inspired by the work of Christian Bohr (Niels's father), who discovered similar families of curves describing binding of oxygen to hemoglobin.)\n",
    "\n",
    "Now, we will plot the theoretical curve of fold change versus Bohr parameter. \n",
    ">1. Write a function with call signature `bohr_parameter(c, RK, KdA=0.017, KdI=0.002, Kswitch=5.8)` that computes the Bohr parameter.\n",
    "2. Write a function with call signature `fold_change_bohr(bohr_parameter)` that gives the fold change as a function of the Bohr parameter. \n",
    "3. Generate values of the Bohr parameter ranging from $-6$ to $6$ in order to make a smooth plot.\n",
    "4. Compute the theoretical fold change as a function of the Bohr parameter and plot it as a gray line using `plt.plot()`'s kwarg `color='gray'`.\n",
    "\n",
    "**f)** Now, for each experimental curve:\n",
    ">1. Convert the IPTG concentration to a Bohr parameter using the given parameters.\n",
    "2. Plot the experimental fold change versus the Bohr parameter you just calculated. Plot the data as dots on the same plot that you made the universal gray curve, making sure to appropriately annotate your plot.\n",
    "\n",
    "Do you see data collapse? Does it make sense only binding to the operator is changing from mutant to mutant? And importantly, the collapse demonstrates that all of the mutants are behaving according to the Monod-Wyman-Changeux model, and the mutations affect quantitative, not qualitative, changes in the behavior of the repressor."
   ]
  },
  {
   "cell_type": "markdown",
   "metadata": {},
   "source": [
    "<br />"
   ]
  },
  {
   "cell_type": "markdown",
   "metadata": {},
   "source": [
    "## Exercise 4.2: Solving differential equations with NumPy\n",
    "\n",
    "In addition to handling data, NumPy allows you do to *simulations*. For this exercise, we will use Euler's method to simulate a classic model for predator-prey population dynamics, the [Lotka-Volterra model](https://en.wikipedia.org/wiki/Lotka–Volterra_equations). As a warm-up example, we will simulate bacterial growth.\n",
    "\n",
    "Bacterial growth can be modeled by the differential equation\n",
    "\n",
    "\\begin{align}\n",
    "\\frac{\\mathrm{d}n}{\\mathrm{d}t} = k n,\n",
    "\\end{align}\n",
    "\n",
    "where $n$ is the number of bacteria and $k$ is the growth rate. The idea here is that the number of bacteria will grow faster the more bacteria we have, because there are more to divide. Analytically, we know the solution to this differential equation is\n",
    "\n",
    "\\begin{align}\n",
    "n(t) = n_0 \\mathrm{e}^{kt},\n",
    "\\end{align}\n",
    "\n",
    "i.e., exponential growth. But suppose we did not know how to derive that. We could *simulate* the differential equation. We do this by discretizing time. Instead of a derivative, we have a change in $n$ over a change in time $t$.\n",
    "\n",
    "\\begin{align}\n",
    "\\frac{\\mathrm{d}n}{\\mathrm{d}t} \\approx \\frac{\\Delta n}{\\delta t} = k n.\n",
    "\\end{align}\n",
    "\n",
    "Let's say we know $n$ and time zero, $n(0)$. Then $n$ at time $t = \\Delta t$ is\n",
    "\n",
    "\\begin{align}\n",
    "n(\\Delta t) \\approx n(0) + \\Delta n = n(0) + k n(0).\n",
    "\\end{align}\n",
    "\n",
    "More generally, we can write\n",
    "\n",
    "\\begin{align}\n",
    "\\frac{\\mathrm{d}n}{\\mathrm{d}t} = f(n),\n",
    "\\end{align}\n",
    "\n",
    "and\n",
    "\n",
    "\\begin{align}\n",
    "n(t+\\Delta t) \\approx n(t) + \\Delta t\\,f(n).\n",
    "\\end{align}\n",
    "\n",
    "So, we can instruct Python to take our current value of $n$, and then add $\\Delta t$ times $f(n)$ to get our new $n$ at a time just a bit later on, at $t + \\Delta t$. We repeat this over and over again to move forward in time. Let's code that up!"
   ]
  },
  {
   "cell_type": "code",
   "execution_count": 2,
   "metadata": {
    "collapsed": true
   },
   "outputs": [],
   "source": [
    "# Specify parameter\n",
    "k = 1\n",
    "\n",
    "# Specify my little time step\n",
    "delta_t = 0.01\n",
    "\n",
    "# Make an array of time points, evenly spaced up to 10\n",
    "t = np.arange(0, 10, delta_t)\n",
    "\n",
    "# Make an array to store the number of bacteria\n",
    "n = np.empty_like(t)\n",
    "\n",
    "# Set the initial number of bacteria\n",
    "n[0] = 100\n",
    "\n",
    "# Write a for loop to keep updating n as time goes on\n",
    "for i in range(1, len(t)):\n",
    "    n[i] = n[i-1] + delta_t * k * n[i-1]"
   ]
  },
  {
   "cell_type": "markdown",
   "metadata": {},
   "source": [
    "Ok! We just computed the time points and the number of bacteria, so we can just plot the result!"
   ]
  },
  {
   "cell_type": "code",
   "execution_count": 3,
   "metadata": {},
   "outputs": [
    {
     "data": {
      "application/vnd.vegalite.v2+json": {
       "$schema": "https://vega.github.io/schema/vega-lite/v2.4.3.json",
       "config": {
        "view": {
         "height": 300,
         "width": 400
        }
       },
       "data": {
        "values": [
         {
          "number of bacteria": 100,
          "time (units of 1/k)": 0
         },
         {
          "number of bacteria": 101,
          "time (units of 1/k)": 0.01
         },
         {
          "number of bacteria": 102.01,
          "time (units of 1/k)": 0.02
         },
         {
          "number of bacteria": 103.0301,
          "time (units of 1/k)": 0.03
         },
         {
          "number of bacteria": 104.060401,
          "time (units of 1/k)": 0.04
         },
         {
          "number of bacteria": 105.10100501,
          "time (units of 1/k)": 0.05
         },
         {
          "number of bacteria": 106.1520150601,
          "time (units of 1/k)": 0.06
         },
         {
          "number of bacteria": 107.213535210701,
          "time (units of 1/k)": 0.07
         },
         {
          "number of bacteria": 108.28567056280801,
          "time (units of 1/k)": 0.08
         },
         {
          "number of bacteria": 109.36852726843608,
          "time (units of 1/k)": 0.09
         },
         {
          "number of bacteria": 110.46221254112044,
          "time (units of 1/k)": 0.1
         },
         {
          "number of bacteria": 111.56683466653165,
          "time (units of 1/k)": 0.11
         },
         {
          "number of bacteria": 112.68250301319696,
          "time (units of 1/k)": 0.12
         },
         {
          "number of bacteria": 113.80932804332893,
          "time (units of 1/k)": 0.13
         },
         {
          "number of bacteria": 114.94742132376223,
          "time (units of 1/k)": 0.14
         },
         {
          "number of bacteria": 116.09689553699985,
          "time (units of 1/k)": 0.15
         },
         {
          "number of bacteria": 117.25786449236985,
          "time (units of 1/k)": 0.16
         },
         {
          "number of bacteria": 118.43044313729355,
          "time (units of 1/k)": 0.17
         },
         {
          "number of bacteria": 119.61474756866649,
          "time (units of 1/k)": 0.18
         },
         {
          "number of bacteria": 120.81089504435315,
          "time (units of 1/k)": 0.19
         },
         {
          "number of bacteria": 122.01900399479668,
          "time (units of 1/k)": 0.2
         },
         {
          "number of bacteria": 123.23919403474464,
          "time (units of 1/k)": 0.21
         },
         {
          "number of bacteria": 124.47158597509208,
          "time (units of 1/k)": 0.22
         },
         {
          "number of bacteria": 125.71630183484301,
          "time (units of 1/k)": 0.23
         },
         {
          "number of bacteria": 126.97346485319144,
          "time (units of 1/k)": 0.24
         },
         {
          "number of bacteria": 128.24319950172335,
          "time (units of 1/k)": 0.25
         },
         {
          "number of bacteria": 129.52563149674057,
          "time (units of 1/k)": 0.26
         },
         {
          "number of bacteria": 130.820887811708,
          "time (units of 1/k)": 0.27
         },
         {
          "number of bacteria": 132.12909668982508,
          "time (units of 1/k)": 0.28
         },
         {
          "number of bacteria": 133.45038765672334,
          "time (units of 1/k)": 0.29
         },
         {
          "number of bacteria": 134.78489153329056,
          "time (units of 1/k)": 0.3
         },
         {
          "number of bacteria": 136.13274044862348,
          "time (units of 1/k)": 0.31
         },
         {
          "number of bacteria": 137.49406785310973,
          "time (units of 1/k)": 0.32
         },
         {
          "number of bacteria": 138.86900853164082,
          "time (units of 1/k)": 0.33
         },
         {
          "number of bacteria": 140.2576986169572,
          "time (units of 1/k)": 0.34
         },
         {
          "number of bacteria": 141.6602756031268,
          "time (units of 1/k)": 0.35000000000000003
         },
         {
          "number of bacteria": 143.07687835915806,
          "time (units of 1/k)": 0.36
         },
         {
          "number of bacteria": 144.50764714274965,
          "time (units of 1/k)": 0.37
         },
         {
          "number of bacteria": 145.95272361417713,
          "time (units of 1/k)": 0.38
         },
         {
          "number of bacteria": 147.4122508503189,
          "time (units of 1/k)": 0.39
         },
         {
          "number of bacteria": 148.8863733588221,
          "time (units of 1/k)": 0.4
         },
         {
          "number of bacteria": 150.37523709241034,
          "time (units of 1/k)": 0.41000000000000003
         },
         {
          "number of bacteria": 151.87898946333445,
          "time (units of 1/k)": 0.42
         },
         {
          "number of bacteria": 153.3977793579678,
          "time (units of 1/k)": 0.43
         },
         {
          "number of bacteria": 154.9317571515475,
          "time (units of 1/k)": 0.44
         },
         {
          "number of bacteria": 156.48107472306296,
          "time (units of 1/k)": 0.45
         },
         {
          "number of bacteria": 158.0458854702936,
          "time (units of 1/k)": 0.46
         },
         {
          "number of bacteria": 159.62634432499652,
          "time (units of 1/k)": 0.47000000000000003
         },
         {
          "number of bacteria": 161.2226077682465,
          "time (units of 1/k)": 0.48
         },
         {
          "number of bacteria": 162.83483384592896,
          "time (units of 1/k)": 0.49
         },
         {
          "number of bacteria": 164.46318218438824,
          "time (units of 1/k)": 0.5
         },
         {
          "number of bacteria": 166.10781400623213,
          "time (units of 1/k)": 0.51
         },
         {
          "number of bacteria": 167.76889214629446,
          "time (units of 1/k)": 0.52
         },
         {
          "number of bacteria": 169.4465810677574,
          "time (units of 1/k)": 0.53
         },
         {
          "number of bacteria": 171.14104687843496,
          "time (units of 1/k)": 0.54
         },
         {
          "number of bacteria": 172.8524573472193,
          "time (units of 1/k)": 0.55
         },
         {
          "number of bacteria": 174.5809819206915,
          "time (units of 1/k)": 0.56
         },
         {
          "number of bacteria": 176.32679173989843,
          "time (units of 1/k)": 0.5700000000000001
         },
         {
          "number of bacteria": 178.09005965729742,
          "time (units of 1/k)": 0.58
         },
         {
          "number of bacteria": 179.87096025387038,
          "time (units of 1/k)": 0.59
         },
         {
          "number of bacteria": 181.6696698564091,
          "time (units of 1/k)": 0.6
         },
         {
          "number of bacteria": 183.4863665549732,
          "time (units of 1/k)": 0.61
         },
         {
          "number of bacteria": 185.32123022052292,
          "time (units of 1/k)": 0.62
         },
         {
          "number of bacteria": 187.17444252272816,
          "time (units of 1/k)": 0.63
         },
         {
          "number of bacteria": 189.04618694795545,
          "time (units of 1/k)": 0.64
         },
         {
          "number of bacteria": 190.936648817435,
          "time (units of 1/k)": 0.65
         },
         {
          "number of bacteria": 192.84601530560937,
          "time (units of 1/k)": 0.66
         },
         {
          "number of bacteria": 194.77447545866548,
          "time (units of 1/k)": 0.67
         },
         {
          "number of bacteria": 196.72222021325214,
          "time (units of 1/k)": 0.68
         },
         {
          "number of bacteria": 198.68944241538466,
          "time (units of 1/k)": 0.6900000000000001
         },
         {
          "number of bacteria": 200.67633683953852,
          "time (units of 1/k)": 0.7000000000000001
         },
         {
          "number of bacteria": 202.6831002079339,
          "time (units of 1/k)": 0.71
         },
         {
          "number of bacteria": 204.70993121001325,
          "time (units of 1/k)": 0.72
         },
         {
          "number of bacteria": 206.75703052211338,
          "time (units of 1/k)": 0.73
         },
         {
          "number of bacteria": 208.8246008273345,
          "time (units of 1/k)": 0.74
         },
         {
          "number of bacteria": 210.91284683560787,
          "time (units of 1/k)": 0.75
         },
         {
          "number of bacteria": 213.02197530396396,
          "time (units of 1/k)": 0.76
         },
         {
          "number of bacteria": 215.15219505700358,
          "time (units of 1/k)": 0.77
         },
         {
          "number of bacteria": 217.30371700757362,
          "time (units of 1/k)": 0.78
         },
         {
          "number of bacteria": 219.47675417764935,
          "time (units of 1/k)": 0.79
         },
         {
          "number of bacteria": 221.67152171942584,
          "time (units of 1/k)": 0.8
         },
         {
          "number of bacteria": 223.8882369366201,
          "time (units of 1/k)": 0.81
         },
         {
          "number of bacteria": 226.1271193059863,
          "time (units of 1/k)": 0.8200000000000001
         },
         {
          "number of bacteria": 228.38839049904615,
          "time (units of 1/k)": 0.8300000000000001
         },
         {
          "number of bacteria": 230.6722744040366,
          "time (units of 1/k)": 0.84
         },
         {
          "number of bacteria": 232.97899714807699,
          "time (units of 1/k)": 0.85
         },
         {
          "number of bacteria": 235.30878711955776,
          "time (units of 1/k)": 0.86
         },
         {
          "number of bacteria": 237.66187499075335,
          "time (units of 1/k)": 0.87
         },
         {
          "number of bacteria": 240.03849374066087,
          "time (units of 1/k)": 0.88
         },
         {
          "number of bacteria": 242.43887867806748,
          "time (units of 1/k)": 0.89
         },
         {
          "number of bacteria": 244.86326746484815,
          "time (units of 1/k)": 0.9
         },
         {
          "number of bacteria": 247.31190013949663,
          "time (units of 1/k)": 0.91
         },
         {
          "number of bacteria": 249.7850191408916,
          "time (units of 1/k)": 0.92
         },
         {
          "number of bacteria": 252.28286933230052,
          "time (units of 1/k)": 0.93
         },
         {
          "number of bacteria": 254.8056980256235,
          "time (units of 1/k)": 0.9400000000000001
         },
         {
          "number of bacteria": 257.35375500587975,
          "time (units of 1/k)": 0.9500000000000001
         },
         {
          "number of bacteria": 259.92729255593855,
          "time (units of 1/k)": 0.96
         },
         {
          "number of bacteria": 262.5265654814979,
          "time (units of 1/k)": 0.97
         },
         {
          "number of bacteria": 265.1518311363129,
          "time (units of 1/k)": 0.98
         },
         {
          "number of bacteria": 267.80334944767606,
          "time (units of 1/k)": 0.99
         },
         {
          "number of bacteria": 270.48138294215283,
          "time (units of 1/k)": 1
         },
         {
          "number of bacteria": 273.1861967715744,
          "time (units of 1/k)": 1.01
         },
         {
          "number of bacteria": 275.91805873929013,
          "time (units of 1/k)": 1.02
         },
         {
          "number of bacteria": 278.67723932668304,
          "time (units of 1/k)": 1.03
         },
         {
          "number of bacteria": 281.4640117199499,
          "time (units of 1/k)": 1.04
         },
         {
          "number of bacteria": 284.27865183714937,
          "time (units of 1/k)": 1.05
         },
         {
          "number of bacteria": 287.12143835552087,
          "time (units of 1/k)": 1.06
         },
         {
          "number of bacteria": 289.99265273907605,
          "time (units of 1/k)": 1.07
         },
         {
          "number of bacteria": 292.8925792664668,
          "time (units of 1/k)": 1.08
         },
         {
          "number of bacteria": 295.8215050591314,
          "time (units of 1/k)": 1.09
         },
         {
          "number of bacteria": 298.77972010972275,
          "time (units of 1/k)": 1.1
         },
         {
          "number of bacteria": 301.76751731082,
          "time (units of 1/k)": 1.11
         },
         {
          "number of bacteria": 304.7851924839282,
          "time (units of 1/k)": 1.12
         },
         {
          "number of bacteria": 307.8330444087675,
          "time (units of 1/k)": 1.1300000000000001
         },
         {
          "number of bacteria": 310.91137485285515,
          "time (units of 1/k)": 1.1400000000000001
         },
         {
          "number of bacteria": 314.0204886013837,
          "time (units of 1/k)": 1.1500000000000001
         },
         {
          "number of bacteria": 317.16069348739757,
          "time (units of 1/k)": 1.16
         },
         {
          "number of bacteria": 320.33230042227154,
          "time (units of 1/k)": 1.17
         },
         {
          "number of bacteria": 323.5356234264943,
          "time (units of 1/k)": 1.18
         },
         {
          "number of bacteria": 326.7709796607592,
          "time (units of 1/k)": 1.19
         },
         {
          "number of bacteria": 330.03868945736684,
          "time (units of 1/k)": 1.2
         },
         {
          "number of bacteria": 333.3390763519405,
          "time (units of 1/k)": 1.21
         },
         {
          "number of bacteria": 336.6724671154599,
          "time (units of 1/k)": 1.22
         },
         {
          "number of bacteria": 340.0391917866145,
          "time (units of 1/k)": 1.23
         },
         {
          "number of bacteria": 343.43958370448064,
          "time (units of 1/k)": 1.24
         },
         {
          "number of bacteria": 346.87397954152544,
          "time (units of 1/k)": 1.25
         },
         {
          "number of bacteria": 350.3427193369407,
          "time (units of 1/k)": 1.26
         },
         {
          "number of bacteria": 353.84614653031014,
          "time (units of 1/k)": 1.27
         },
         {
          "number of bacteria": 357.38460799561324,
          "time (units of 1/k)": 1.28
         },
         {
          "number of bacteria": 360.95845407556936,
          "time (units of 1/k)": 1.29
         },
         {
          "number of bacteria": 364.56803861632505,
          "time (units of 1/k)": 1.3
         },
         {
          "number of bacteria": 368.2137190024883,
          "time (units of 1/k)": 1.31
         },
         {
          "number of bacteria": 371.8958561925132,
          "time (units of 1/k)": 1.32
         },
         {
          "number of bacteria": 375.6148147544383,
          "time (units of 1/k)": 1.33
         },
         {
          "number of bacteria": 379.3709629019827,
          "time (units of 1/k)": 1.34
         },
         {
          "number of bacteria": 383.1646725310025,
          "time (units of 1/k)": 1.35
         },
         {
          "number of bacteria": 386.9963192563125,
          "time (units of 1/k)": 1.36
         },
         {
          "number of bacteria": 390.86628244887567,
          "time (units of 1/k)": 1.37
         },
         {
          "number of bacteria": 394.77494527336444,
          "time (units of 1/k)": 1.3800000000000001
         },
         {
          "number of bacteria": 398.7226947260981,
          "time (units of 1/k)": 1.3900000000000001
         },
         {
          "number of bacteria": 402.7099216733591,
          "time (units of 1/k)": 1.4000000000000001
         },
         {
          "number of bacteria": 406.73702089009265,
          "time (units of 1/k)": 1.41
         },
         {
          "number of bacteria": 410.80439109899356,
          "time (units of 1/k)": 1.42
         },
         {
          "number of bacteria": 414.9124350099835,
          "time (units of 1/k)": 1.43
         },
         {
          "number of bacteria": 419.0615593600833,
          "time (units of 1/k)": 1.44
         },
         {
          "number of bacteria": 423.2521749536842,
          "time (units of 1/k)": 1.45
         },
         {
          "number of bacteria": 427.484696703221,
          "time (units of 1/k)": 1.46
         },
         {
          "number of bacteria": 431.7595436702532,
          "time (units of 1/k)": 1.47
         },
         {
          "number of bacteria": 436.0771391069557,
          "time (units of 1/k)": 1.48
         },
         {
          "number of bacteria": 440.43791049802525,
          "time (units of 1/k)": 1.49
         },
         {
          "number of bacteria": 444.8422896030055,
          "time (units of 1/k)": 1.5
         },
         {
          "number of bacteria": 449.2907124990356,
          "time (units of 1/k)": 1.51
         },
         {
          "number of bacteria": 453.78361962402596,
          "time (units of 1/k)": 1.52
         },
         {
          "number of bacteria": 458.32145582026624,
          "time (units of 1/k)": 1.53
         },
         {
          "number of bacteria": 462.9046703784689,
          "time (units of 1/k)": 1.54
         },
         {
          "number of bacteria": 467.5337170822536,
          "time (units of 1/k)": 1.55
         },
         {
          "number of bacteria": 472.20905425307615,
          "time (units of 1/k)": 1.56
         },
         {
          "number of bacteria": 476.9311447956069,
          "time (units of 1/k)": 1.57
         },
         {
          "number of bacteria": 481.70045624356294,
          "time (units of 1/k)": 1.58
         },
         {
          "number of bacteria": 486.51746080599855,
          "time (units of 1/k)": 1.59
         },
         {
          "number of bacteria": 491.38263541405854,
          "time (units of 1/k)": 1.6
         },
         {
          "number of bacteria": 496.29646176819915,
          "time (units of 1/k)": 1.61
         },
         {
          "number of bacteria": 501.25942638588117,
          "time (units of 1/k)": 1.62
         },
         {
          "number of bacteria": 506.27202064974,
          "time (units of 1/k)": 1.6300000000000001
         },
         {
          "number of bacteria": 511.3347408562374,
          "time (units of 1/k)": 1.6400000000000001
         },
         {
          "number of bacteria": 516.4480882647997,
          "time (units of 1/k)": 1.6500000000000001
         },
         {
          "number of bacteria": 521.6125691474477,
          "time (units of 1/k)": 1.6600000000000001
         },
         {
          "number of bacteria": 526.8286948389223,
          "time (units of 1/k)": 1.67
         },
         {
          "number of bacteria": 532.0969817873115,
          "time (units of 1/k)": 1.68
         },
         {
          "number of bacteria": 537.4179516051846,
          "time (units of 1/k)": 1.69
         },
         {
          "number of bacteria": 542.7921311212365,
          "time (units of 1/k)": 1.7
         },
         {
          "number of bacteria": 548.2200524324488,
          "time (units of 1/k)": 1.71
         },
         {
          "number of bacteria": 553.7022529567733,
          "time (units of 1/k)": 1.72
         },
         {
          "number of bacteria": 559.2392754863411,
          "time (units of 1/k)": 1.73
         },
         {
          "number of bacteria": 564.8316682412045,
          "time (units of 1/k)": 1.74
         },
         {
          "number of bacteria": 570.4799849236166,
          "time (units of 1/k)": 1.75
         },
         {
          "number of bacteria": 576.1847847728527,
          "time (units of 1/k)": 1.76
         },
         {
          "number of bacteria": 581.9466326205812,
          "time (units of 1/k)": 1.77
         },
         {
          "number of bacteria": 587.766098946787,
          "time (units of 1/k)": 1.78
         },
         {
          "number of bacteria": 593.6437599362548,
          "time (units of 1/k)": 1.79
         },
         {
          "number of bacteria": 599.5801975356173,
          "time (units of 1/k)": 1.8
         },
         {
          "number of bacteria": 605.5759995109735,
          "time (units of 1/k)": 1.81
         },
         {
          "number of bacteria": 611.6317595060832,
          "time (units of 1/k)": 1.82
         },
         {
          "number of bacteria": 617.7480771011441,
          "time (units of 1/k)": 1.83
         },
         {
          "number of bacteria": 623.9255578721555,
          "time (units of 1/k)": 1.84
         },
         {
          "number of bacteria": 630.1648134508771,
          "time (units of 1/k)": 1.85
         },
         {
          "number of bacteria": 636.4664615853859,
          "time (units of 1/k)": 1.86
         },
         {
          "number of bacteria": 642.8311262012397,
          "time (units of 1/k)": 1.87
         },
         {
          "number of bacteria": 649.2594374632521,
          "time (units of 1/k)": 1.8800000000000001
         },
         {
          "number of bacteria": 655.7520318378846,
          "time (units of 1/k)": 1.8900000000000001
         },
         {
          "number of bacteria": 662.3095521562634,
          "time (units of 1/k)": 1.9000000000000001
         },
         {
          "number of bacteria": 668.932647677826,
          "time (units of 1/k)": 1.9100000000000001
         },
         {
          "number of bacteria": 675.6219741546042,
          "time (units of 1/k)": 1.92
         },
         {
          "number of bacteria": 682.3781938961503,
          "time (units of 1/k)": 1.93
         },
         {
          "number of bacteria": 689.2019758351117,
          "time (units of 1/k)": 1.94
         },
         {
          "number of bacteria": 696.0939955934629,
          "time (units of 1/k)": 1.95
         },
         {
          "number of bacteria": 703.0549355493974,
          "time (units of 1/k)": 1.96
         },
         {
          "number of bacteria": 710.0854849048915,
          "time (units of 1/k)": 1.97
         },
         {
          "number of bacteria": 717.1863397539404,
          "time (units of 1/k)": 1.98
         },
         {
          "number of bacteria": 724.3582031514798,
          "time (units of 1/k)": 1.99
         },
         {
          "number of bacteria": 731.6017851829946,
          "time (units of 1/k)": 2
         },
         {
          "number of bacteria": 738.9178030348246,
          "time (units of 1/k)": 2.0100000000000002
         },
         {
          "number of bacteria": 746.3069810651729,
          "time (units of 1/k)": 2.02
         },
         {
          "number of bacteria": 753.7700508758246,
          "time (units of 1/k)": 2.0300000000000002
         },
         {
          "number of bacteria": 761.3077513845828,
          "time (units of 1/k)": 2.04
         },
         {
          "number of bacteria": 768.9208288984287,
          "time (units of 1/k)": 2.05
         },
         {
          "number of bacteria": 776.610037187413,
          "time (units of 1/k)": 2.06
         },
         {
          "number of bacteria": 784.3761375592871,
          "time (units of 1/k)": 2.07
         },
         {
          "number of bacteria": 792.21989893488,
          "time (units of 1/k)": 2.08
         },
         {
          "number of bacteria": 800.1420979242288,
          "time (units of 1/k)": 2.09
         },
         {
          "number of bacteria": 808.1435189034711,
          "time (units of 1/k)": 2.1
         },
         {
          "number of bacteria": 816.2249540925058,
          "time (units of 1/k)": 2.11
         },
         {
          "number of bacteria": 824.3872036334308,
          "time (units of 1/k)": 2.12
         },
         {
          "number of bacteria": 832.6310756697651,
          "time (units of 1/k)": 2.13
         },
         {
          "number of bacteria": 840.9573864264628,
          "time (units of 1/k)": 2.14
         },
         {
          "number of bacteria": 849.3669602907274,
          "time (units of 1/k)": 2.15
         },
         {
          "number of bacteria": 857.8606298936347,
          "time (units of 1/k)": 2.16
         },
         {
          "number of bacteria": 866.4392361925711,
          "time (units of 1/k)": 2.17
         },
         {
          "number of bacteria": 875.1036285544968,
          "time (units of 1/k)": 2.18
         },
         {
          "number of bacteria": 883.8546648400418,
          "time (units of 1/k)": 2.19
         },
         {
          "number of bacteria": 892.6932114884422,
          "time (units of 1/k)": 2.2
         },
         {
          "number of bacteria": 901.6201436033266,
          "time (units of 1/k)": 2.21
         },
         {
          "number of bacteria": 910.6363450393599,
          "time (units of 1/k)": 2.22
         },
         {
          "number of bacteria": 919.7427084897535,
          "time (units of 1/k)": 2.23
         },
         {
          "number of bacteria": 928.940135574651,
          "time (units of 1/k)": 2.24
         },
         {
          "number of bacteria": 938.2295369303974,
          "time (units of 1/k)": 2.25
         },
         {
          "number of bacteria": 947.6118322997014,
          "time (units of 1/k)": 2.2600000000000002
         },
         {
          "number of bacteria": 957.0879506226984,
          "time (units of 1/k)": 2.27
         },
         {
          "number of bacteria": 966.6588301289254,
          "time (units of 1/k)": 2.2800000000000002
         },
         {
          "number of bacteria": 976.3254184302147,
          "time (units of 1/k)": 2.29
         },
         {
          "number of bacteria": 986.0886726145168,
          "time (units of 1/k)": 2.3000000000000003
         },
         {
          "number of bacteria": 995.949559340662,
          "time (units of 1/k)": 2.31
         },
         {
          "number of bacteria": 1005.9090549340685,
          "time (units of 1/k)": 2.32
         },
         {
          "number of bacteria": 1015.9681454834092,
          "time (units of 1/k)": 2.33
         },
         {
          "number of bacteria": 1026.1278269382433,
          "time (units of 1/k)": 2.34
         },
         {
          "number of bacteria": 1036.3891052076258,
          "time (units of 1/k)": 2.35
         },
         {
          "number of bacteria": 1046.752996259702,
          "time (units of 1/k)": 2.36
         },
         {
          "number of bacteria": 1057.220526222299,
          "time (units of 1/k)": 2.37
         },
         {
          "number of bacteria": 1067.792731484522,
          "time (units of 1/k)": 2.38
         },
         {
          "number of bacteria": 1078.4706587993671,
          "time (units of 1/k)": 2.39
         },
         {
          "number of bacteria": 1089.2553653873608,
          "time (units of 1/k)": 2.4
         },
         {
          "number of bacteria": 1100.1479190412344,
          "time (units of 1/k)": 2.41
         },
         {
          "number of bacteria": 1111.1493982316467,
          "time (units of 1/k)": 2.42
         },
         {
          "number of bacteria": 1122.2608922139632,
          "time (units of 1/k)": 2.43
         },
         {
          "number of bacteria": 1133.4835011361029,
          "time (units of 1/k)": 2.44
         },
         {
          "number of bacteria": 1144.818336147464,
          "time (units of 1/k)": 2.45
         },
         {
          "number of bacteria": 1156.2665195089385,
          "time (units of 1/k)": 2.46
         },
         {
          "number of bacteria": 1167.829184704028,
          "time (units of 1/k)": 2.47
         },
         {
          "number of bacteria": 1179.5074765510683,
          "time (units of 1/k)": 2.48
         },
         {
          "number of bacteria": 1191.302551316579,
          "time (units of 1/k)": 2.49
         },
         {
          "number of bacteria": 1203.2155768297448,
          "time (units of 1/k)": 2.5
         },
         {
          "number of bacteria": 1215.2477325980421,
          "time (units of 1/k)": 2.5100000000000002
         },
         {
          "number of bacteria": 1227.4002099240226,
          "time (units of 1/k)": 2.52
         },
         {
          "number of bacteria": 1239.674212023263,
          "time (units of 1/k)": 2.5300000000000002
         },
         {
          "number of bacteria": 1252.0709541434956,
          "time (units of 1/k)": 2.54
         },
         {
          "number of bacteria": 1264.5916636849306,
          "time (units of 1/k)": 2.5500000000000003
         },
         {
          "number of bacteria": 1277.23758032178,
          "time (units of 1/k)": 2.56
         },
         {
          "number of bacteria": 1290.0099561249976,
          "time (units of 1/k)": 2.57
         },
         {
          "number of bacteria": 1302.9100556862477,
          "time (units of 1/k)": 2.58
         },
         {
          "number of bacteria": 1315.9391562431101,
          "time (units of 1/k)": 2.59
         },
         {
          "number of bacteria": 1329.0985478055413,
          "time (units of 1/k)": 2.6
         },
         {
          "number of bacteria": 1342.3895332835968,
          "time (units of 1/k)": 2.61
         },
         {
          "number of bacteria": 1355.8134286164327,
          "time (units of 1/k)": 2.62
         },
         {
          "number of bacteria": 1369.3715629025971,
          "time (units of 1/k)": 2.63
         },
         {
          "number of bacteria": 1383.065278531623,
          "time (units of 1/k)": 2.64
         },
         {
          "number of bacteria": 1396.8959313169394,
          "time (units of 1/k)": 2.65
         },
         {
          "number of bacteria": 1410.8648906301087,
          "time (units of 1/k)": 2.66
         },
         {
          "number of bacteria": 1424.9735395364098,
          "time (units of 1/k)": 2.67
         },
         {
          "number of bacteria": 1439.2232749317739,
          "time (units of 1/k)": 2.68
         },
         {
          "number of bacteria": 1453.6155076810917,
          "time (units of 1/k)": 2.69
         },
         {
          "number of bacteria": 1468.1516627579026,
          "time (units of 1/k)": 2.7
         },
         {
          "number of bacteria": 1482.8331793854816,
          "time (units of 1/k)": 2.71
         },
         {
          "number of bacteria": 1497.6615111793365,
          "time (units of 1/k)": 2.72
         },
         {
          "number of bacteria": 1512.6381262911298,
          "time (units of 1/k)": 2.73
         },
         {
          "number of bacteria": 1527.764507554041,
          "time (units of 1/k)": 2.74
         },
         {
          "number of bacteria": 1543.0421526295816,
          "time (units of 1/k)": 2.75
         },
         {
          "number of bacteria": 1558.4725741558773,
          "time (units of 1/k)": 2.7600000000000002
         },
         {
          "number of bacteria": 1574.057299897436,
          "time (units of 1/k)": 2.77
         },
         {
          "number of bacteria": 1589.7978728964104,
          "time (units of 1/k)": 2.7800000000000002
         },
         {
          "number of bacteria": 1605.6958516253744,
          "time (units of 1/k)": 2.79
         },
         {
          "number of bacteria": 1621.752810141628,
          "time (units of 1/k)": 2.8000000000000003
         },
         {
          "number of bacteria": 1637.9703382430444,
          "time (units of 1/k)": 2.81
         },
         {
          "number of bacteria": 1654.350041625475,
          "time (units of 1/k)": 2.82
         },
         {
          "number of bacteria": 1670.8935420417297,
          "time (units of 1/k)": 2.83
         },
         {
          "number of bacteria": 1687.602477462147,
          "time (units of 1/k)": 2.84
         },
         {
          "number of bacteria": 1704.4785022367685,
          "time (units of 1/k)": 2.85
         },
         {
          "number of bacteria": 1721.5232872591362,
          "time (units of 1/k)": 2.86
         },
         {
          "number of bacteria": 1738.7385201317275,
          "time (units of 1/k)": 2.87
         },
         {
          "number of bacteria": 1756.1259053330448,
          "time (units of 1/k)": 2.88
         },
         {
          "number of bacteria": 1773.6871643863753,
          "time (units of 1/k)": 2.89
         },
         {
          "number of bacteria": 1791.424036030239,
          "time (units of 1/k)": 2.9
         },
         {
          "number of bacteria": 1809.3382763905413,
          "time (units of 1/k)": 2.91
         },
         {
          "number of bacteria": 1827.4316591544466,
          "time (units of 1/k)": 2.92
         },
         {
          "number of bacteria": 1845.705975745991,
          "time (units of 1/k)": 2.93
         },
         {
          "number of bacteria": 1864.163035503451,
          "time (units of 1/k)": 2.94
         },
         {
          "number of bacteria": 1882.8046658584856,
          "time (units of 1/k)": 2.95
         },
         {
          "number of bacteria": 1901.6327125170703,
          "time (units of 1/k)": 2.96
         },
         {
          "number of bacteria": 1920.649039642241,
          "time (units of 1/k)": 2.97
         },
         {
          "number of bacteria": 1939.8555300386633,
          "time (units of 1/k)": 2.98
         },
         {
          "number of bacteria": 1959.2540853390499,
          "time (units of 1/k)": 2.99
         },
         {
          "number of bacteria": 1978.8466261924405,
          "time (units of 1/k)": 3
         },
         {
          "number of bacteria": 1998.635092454365,
          "time (units of 1/k)": 3.0100000000000002
         },
         {
          "number of bacteria": 2018.6214433789085,
          "time (units of 1/k)": 3.02
         },
         {
          "number of bacteria": 2038.8076578126975,
          "time (units of 1/k)": 3.0300000000000002
         },
         {
          "number of bacteria": 2059.1957343908243,
          "time (units of 1/k)": 3.04
         },
         {
          "number of bacteria": 2079.7876917347326,
          "time (units of 1/k)": 3.0500000000000003
         },
         {
          "number of bacteria": 2100.58556865208,
          "time (units of 1/k)": 3.06
         },
         {
          "number of bacteria": 2121.5914243386005,
          "time (units of 1/k)": 3.0700000000000003
         },
         {
          "number of bacteria": 2142.8073385819866,
          "time (units of 1/k)": 3.08
         },
         {
          "number of bacteria": 2164.2354119678066,
          "time (units of 1/k)": 3.09
         },
         {
          "number of bacteria": 2185.877766087485,
          "time (units of 1/k)": 3.1
         },
         {
          "number of bacteria": 2207.7365437483595,
          "time (units of 1/k)": 3.11
         },
         {
          "number of bacteria": 2229.813909185843,
          "time (units of 1/k)": 3.12
         },
         {
          "number of bacteria": 2252.1120482777014,
          "time (units of 1/k)": 3.13
         },
         {
          "number of bacteria": 2274.6331687604784,
          "time (units of 1/k)": 3.14
         },
         {
          "number of bacteria": 2297.379500448083,
          "time (units of 1/k)": 3.15
         },
         {
          "number of bacteria": 2320.353295452564,
          "time (units of 1/k)": 3.16
         },
         {
          "number of bacteria": 2343.5568284070896,
          "time (units of 1/k)": 3.17
         },
         {
          "number of bacteria": 2366.9923966911606,
          "time (units of 1/k)": 3.18
         },
         {
          "number of bacteria": 2390.662320658072,
          "time (units of 1/k)": 3.19
         },
         {
          "number of bacteria": 2414.5689438646527,
          "time (units of 1/k)": 3.2
         },
         {
          "number of bacteria": 2438.7146333032993,
          "time (units of 1/k)": 3.21
         },
         {
          "number of bacteria": 2463.101779636332,
          "time (units of 1/k)": 3.22
         },
         {
          "number of bacteria": 2487.7327974326954,
          "time (units of 1/k)": 3.23
         },
         {
          "number of bacteria": 2512.610125407022,
          "time (units of 1/k)": 3.24
         },
         {
          "number of bacteria": 2537.7362266610926,
          "time (units of 1/k)": 3.25
         },
         {
          "number of bacteria": 2563.1135889277034,
          "time (units of 1/k)": 3.2600000000000002
         },
         {
          "number of bacteria": 2588.7447248169806,
          "time (units of 1/k)": 3.27
         },
         {
          "number of bacteria": 2614.6321720651504,
          "time (units of 1/k)": 3.2800000000000002
         },
         {
          "number of bacteria": 2640.778493785802,
          "time (units of 1/k)": 3.29
         },
         {
          "number of bacteria": 2667.18627872366,
          "time (units of 1/k)": 3.3000000000000003
         },
         {
          "number of bacteria": 2693.8581415108965,
          "time (units of 1/k)": 3.31
         },
         {
          "number of bacteria": 2720.7967229260057,
          "time (units of 1/k)": 3.3200000000000003
         },
         {
          "number of bacteria": 2748.004690155266,
          "time (units of 1/k)": 3.33
         },
         {
          "number of bacteria": 2775.4847370568186,
          "time (units of 1/k)": 3.34
         },
         {
          "number of bacteria": 2803.239584427387,
          "time (units of 1/k)": 3.35
         },
         {
          "number of bacteria": 2831.2719802716606,
          "time (units of 1/k)": 3.36
         },
         {
          "number of bacteria": 2859.584700074377,
          "time (units of 1/k)": 3.37
         },
         {
          "number of bacteria": 2888.1805470751206,
          "time (units of 1/k)": 3.38
         },
         {
          "number of bacteria": 2917.062352545872,
          "time (units of 1/k)": 3.39
         },
         {
          "number of bacteria": 2946.2329760713305,
          "time (units of 1/k)": 3.4
         },
         {
          "number of bacteria": 2975.6953058320437,
          "time (units of 1/k)": 3.41
         },
         {
          "number of bacteria": 3005.452258890364,
          "time (units of 1/k)": 3.42
         },
         {
          "number of bacteria": 3035.506781479268,
          "time (units of 1/k)": 3.43
         },
         {
          "number of bacteria": 3065.8618492940604,
          "time (units of 1/k)": 3.44
         },
         {
          "number of bacteria": 3096.520467787001,
          "time (units of 1/k)": 3.45
         },
         {
          "number of bacteria": 3127.485672464871,
          "time (units of 1/k)": 3.46
         },
         {
          "number of bacteria": 3158.7605291895197,
          "time (units of 1/k)": 3.47
         },
         {
          "number of bacteria": 3190.348134481415,
          "time (units of 1/k)": 3.48
         },
         {
          "number of bacteria": 3222.251615826229,
          "time (units of 1/k)": 3.49
         },
         {
          "number of bacteria": 3254.4741319844916,
          "time (units of 1/k)": 3.5
         },
         {
          "number of bacteria": 3287.0188733043365,
          "time (units of 1/k)": 3.5100000000000002
         },
         {
          "number of bacteria": 3319.88906203738,
          "time (units of 1/k)": 3.52
         },
         {
          "number of bacteria": 3353.0879526577537,
          "time (units of 1/k)": 3.5300000000000002
         },
         {
          "number of bacteria": 3386.618832184331,
          "time (units of 1/k)": 3.54
         },
         {
          "number of bacteria": 3420.4850205061744,
          "time (units of 1/k)": 3.5500000000000003
         },
         {
          "number of bacteria": 3454.689870711236,
          "time (units of 1/k)": 3.56
         },
         {
          "number of bacteria": 3489.236769418348,
          "time (units of 1/k)": 3.5700000000000003
         },
         {
          "number of bacteria": 3524.1291371125317,
          "time (units of 1/k)": 3.58
         },
         {
          "number of bacteria": 3559.370428483657,
          "time (units of 1/k)": 3.59
         },
         {
          "number of bacteria": 3594.9641327684935,
          "time (units of 1/k)": 3.6
         },
         {
          "number of bacteria": 3630.9137740961783,
          "time (units of 1/k)": 3.61
         },
         {
          "number of bacteria": 3667.22291183714,
          "time (units of 1/k)": 3.62
         },
         {
          "number of bacteria": 3703.8951409555116,
          "time (units of 1/k)": 3.63
         },
         {
          "number of bacteria": 3740.9340923650666,
          "time (units of 1/k)": 3.64
         },
         {
          "number of bacteria": 3778.3434332887173,
          "time (units of 1/k)": 3.65
         },
         {
          "number of bacteria": 3816.1268676216046,
          "time (units of 1/k)": 3.66
         },
         {
          "number of bacteria": 3854.2881362978205,
          "time (units of 1/k)": 3.67
         },
         {
          "number of bacteria": 3892.831017660799,
          "time (units of 1/k)": 3.68
         },
         {
          "number of bacteria": 3931.759327837407,
          "time (units of 1/k)": 3.69
         },
         {
          "number of bacteria": 3971.0769211157813,
          "time (units of 1/k)": 3.7
         },
         {
          "number of bacteria": 4010.787690326939,
          "time (units of 1/k)": 3.71
         },
         {
          "number of bacteria": 4050.895567230208,
          "time (units of 1/k)": 3.72
         },
         {
          "number of bacteria": 4091.40452290251,
          "time (units of 1/k)": 3.73
         },
         {
          "number of bacteria": 4132.318568131535,
          "time (units of 1/k)": 3.74
         },
         {
          "number of bacteria": 4173.641753812851,
          "time (units of 1/k)": 3.75
         },
         {
          "number of bacteria": 4215.378171350979,
          "time (units of 1/k)": 3.7600000000000002
         },
         {
          "number of bacteria": 4257.531953064488,
          "time (units of 1/k)": 3.77
         },
         {
          "number of bacteria": 4300.1072725951335,
          "time (units of 1/k)": 3.7800000000000002
         },
         {
          "number of bacteria": 4343.108345321085,
          "time (units of 1/k)": 3.79
         },
         {
          "number of bacteria": 4386.539428774296,
          "time (units of 1/k)": 3.8000000000000003
         },
         {
          "number of bacteria": 4430.404823062038,
          "time (units of 1/k)": 3.81
         },
         {
          "number of bacteria": 4474.708871292659,
          "time (units of 1/k)": 3.8200000000000003
         },
         {
          "number of bacteria": 4519.455960005585,
          "time (units of 1/k)": 3.83
         },
         {
          "number of bacteria": 4564.650519605641,
          "time (units of 1/k)": 3.84
         },
         {
          "number of bacteria": 4610.297024801698,
          "time (units of 1/k)": 3.85
         },
         {
          "number of bacteria": 4656.3999950497155,
          "time (units of 1/k)": 3.86
         },
         {
          "number of bacteria": 4702.963995000213,
          "time (units of 1/k)": 3.87
         },
         {
          "number of bacteria": 4749.993634950215,
          "time (units of 1/k)": 3.88
         },
         {
          "number of bacteria": 4797.493571299718,
          "time (units of 1/k)": 3.89
         },
         {
          "number of bacteria": 4845.468507012714,
          "time (units of 1/k)": 3.9
         },
         {
          "number of bacteria": 4893.9231920828415,
          "time (units of 1/k)": 3.91
         },
         {
          "number of bacteria": 4942.86242400367,
          "time (units of 1/k)": 3.92
         },
         {
          "number of bacteria": 4992.291048243706,
          "time (units of 1/k)": 3.93
         },
         {
          "number of bacteria": 5042.213958726144,
          "time (units of 1/k)": 3.94
         },
         {
          "number of bacteria": 5092.6360983134055,
          "time (units of 1/k)": 3.95
         },
         {
          "number of bacteria": 5143.56245929654,
          "time (units of 1/k)": 3.96
         },
         {
          "number of bacteria": 5194.998083889505,
          "time (units of 1/k)": 3.97
         },
         {
          "number of bacteria": 5246.948064728401,
          "time (units of 1/k)": 3.98
         },
         {
          "number of bacteria": 5299.417545375685,
          "time (units of 1/k)": 3.99
         },
         {
          "number of bacteria": 5352.411720829442,
          "time (units of 1/k)": 4
         },
         {
          "number of bacteria": 5405.935838037736,
          "time (units of 1/k)": 4.01
         },
         {
          "number of bacteria": 5459.995196418114,
          "time (units of 1/k)": 4.0200000000000005
         },
         {
          "number of bacteria": 5514.595148382295,
          "time (units of 1/k)": 4.03
         },
         {
          "number of bacteria": 5569.741099866117,
          "time (units of 1/k)": 4.04
         },
         {
          "number of bacteria": 5625.438510864778,
          "time (units of 1/k)": 4.05
         },
         {
          "number of bacteria": 5681.692895973426,
          "time (units of 1/k)": 4.0600000000000005
         },
         {
          "number of bacteria": 5738.50982493316,
          "time (units of 1/k)": 4.07
         },
         {
          "number of bacteria": 5795.894923182492,
          "time (units of 1/k)": 4.08
         },
         {
          "number of bacteria": 5853.853872414316,
          "time (units of 1/k)": 4.09
         },
         {
          "number of bacteria": 5912.3924111384595,
          "time (units of 1/k)": 4.1
         },
         {
          "number of bacteria": 5971.516335249844,
          "time (units of 1/k)": 4.11
         },
         {
          "number of bacteria": 6031.231498602342,
          "time (units of 1/k)": 4.12
         },
         {
          "number of bacteria": 6091.543813588365,
          "time (units of 1/k)": 4.13
         },
         {
          "number of bacteria": 6152.459251724249,
          "time (units of 1/k)": 4.14
         },
         {
          "number of bacteria": 6213.983844241491,
          "time (units of 1/k)": 4.15
         },
         {
          "number of bacteria": 6276.123682683906,
          "time (units of 1/k)": 4.16
         },
         {
          "number of bacteria": 6338.884919510745,
          "time (units of 1/k)": 4.17
         },
         {
          "number of bacteria": 6402.2737687058525,
          "time (units of 1/k)": 4.18
         },
         {
          "number of bacteria": 6466.296506392911,
          "time (units of 1/k)": 4.19
         },
         {
          "number of bacteria": 6530.95947145684,
          "time (units of 1/k)": 4.2
         },
         {
          "number of bacteria": 6596.269066171409,
          "time (units of 1/k)": 4.21
         },
         {
          "number of bacteria": 6662.231756833123,
          "time (units of 1/k)": 4.22
         },
         {
          "number of bacteria": 6728.8540744014535,
          "time (units of 1/k)": 4.23
         },
         {
          "number of bacteria": 6796.142615145468,
          "time (units of 1/k)": 4.24
         },
         {
          "number of bacteria": 6864.104041296922,
          "time (units of 1/k)": 4.25
         },
         {
          "number of bacteria": 6932.745081709892,
          "time (units of 1/k)": 4.26
         },
         {
          "number of bacteria": 7002.0725325269905,
          "time (units of 1/k)": 4.2700000000000005
         },
         {
          "number of bacteria": 7072.093257852261,
          "time (units of 1/k)": 4.28
         },
         {
          "number of bacteria": 7142.814190430783,
          "time (units of 1/k)": 4.29
         },
         {
          "number of bacteria": 7214.242332335091,
          "time (units of 1/k)": 4.3
         },
         {
          "number of bacteria": 7286.384755658442,
          "time (units of 1/k)": 4.3100000000000005
         },
         {
          "number of bacteria": 7359.248603215026,
          "time (units of 1/k)": 4.32
         },
         {
          "number of bacteria": 7432.841089247177,
          "time (units of 1/k)": 4.33
         },
         {
          "number of bacteria": 7507.169500139648,
          "time (units of 1/k)": 4.34
         },
         {
          "number of bacteria": 7582.241195141045,
          "time (units of 1/k)": 4.3500000000000005
         },
         {
          "number of bacteria": 7658.063607092456,
          "time (units of 1/k)": 4.36
         },
         {
          "number of bacteria": 7734.64424316338,
          "time (units of 1/k)": 4.37
         },
         {
          "number of bacteria": 7811.990685595014,
          "time (units of 1/k)": 4.38
         },
         {
          "number of bacteria": 7890.110592450964,
          "time (units of 1/k)": 4.39
         },
         {
          "number of bacteria": 7969.011698375473,
          "time (units of 1/k)": 4.4
         },
         {
          "number of bacteria": 8048.701815359228,
          "time (units of 1/k)": 4.41
         },
         {
          "number of bacteria": 8129.188833512821,
          "time (units of 1/k)": 4.42
         },
         {
          "number of bacteria": 8210.48072184795,
          "time (units of 1/k)": 4.43
         },
         {
          "number of bacteria": 8292.58552906643,
          "time (units of 1/k)": 4.44
         },
         {
          "number of bacteria": 8375.511384357094,
          "time (units of 1/k)": 4.45
         },
         {
          "number of bacteria": 8459.266498200665,
          "time (units of 1/k)": 4.46
         },
         {
          "number of bacteria": 8543.859163182671,
          "time (units of 1/k)": 4.47
         },
         {
          "number of bacteria": 8629.297754814497,
          "time (units of 1/k)": 4.48
         },
         {
          "number of bacteria": 8715.590732362642,
          "time (units of 1/k)": 4.49
         },
         {
          "number of bacteria": 8802.746639686267,
          "time (units of 1/k)": 4.5
         },
         {
          "number of bacteria": 8890.77410608313,
          "time (units of 1/k)": 4.51
         },
         {
          "number of bacteria": 8979.681847143962,
          "time (units of 1/k)": 4.5200000000000005
         },
         {
          "number of bacteria": 9069.478665615401,
          "time (units of 1/k)": 4.53
         },
         {
          "number of bacteria": 9160.173452271554,
          "time (units of 1/k)": 4.54
         },
         {
          "number of bacteria": 9251.77518679427,
          "time (units of 1/k)": 4.55
         },
         {
          "number of bacteria": 9344.292938662213,
          "time (units of 1/k)": 4.5600000000000005
         },
         {
          "number of bacteria": 9437.735868048834,
          "time (units of 1/k)": 4.57
         },
         {
          "number of bacteria": 9532.113226729323,
          "time (units of 1/k)": 4.58
         },
         {
          "number of bacteria": 9627.434358996616,
          "time (units of 1/k)": 4.59
         },
         {
          "number of bacteria": 9723.708702586582,
          "time (units of 1/k)": 4.6000000000000005
         },
         {
          "number of bacteria": 9820.945789612448,
          "time (units of 1/k)": 4.61
         },
         {
          "number of bacteria": 9919.155247508572,
          "time (units of 1/k)": 4.62
         },
         {
          "number of bacteria": 10018.346799983658,
          "time (units of 1/k)": 4.63
         },
         {
          "number of bacteria": 10118.530267983495,
          "time (units of 1/k)": 4.64
         },
         {
          "number of bacteria": 10219.71557066333,
          "time (units of 1/k)": 4.65
         },
         {
          "number of bacteria": 10321.912726369963,
          "time (units of 1/k)": 4.66
         },
         {
          "number of bacteria": 10425.131853633662,
          "time (units of 1/k)": 4.67
         },
         {
          "number of bacteria": 10529.383172169999,
          "time (units of 1/k)": 4.68
         },
         {
          "number of bacteria": 10634.677003891698,
          "time (units of 1/k)": 4.69
         },
         {
          "number of bacteria": 10741.023773930616,
          "time (units of 1/k)": 4.7
         },
         {
          "number of bacteria": 10848.434011669922,
          "time (units of 1/k)": 4.71
         },
         {
          "number of bacteria": 10956.918351786622,
          "time (units of 1/k)": 4.72
         },
         {
          "number of bacteria": 11066.487535304488,
          "time (units of 1/k)": 4.73
         },
         {
          "number of bacteria": 11177.152410657533,
          "time (units of 1/k)": 4.74
         },
         {
          "number of bacteria": 11288.923934764109,
          "time (units of 1/k)": 4.75
         },
         {
          "number of bacteria": 11401.81317411175,
          "time (units of 1/k)": 4.76
         },
         {
          "number of bacteria": 11515.831305852867,
          "time (units of 1/k)": 4.7700000000000005
         },
         {
          "number of bacteria": 11630.989618911397,
          "time (units of 1/k)": 4.78
         },
         {
          "number of bacteria": 11747.29951510051,
          "time (units of 1/k)": 4.79
         },
         {
          "number of bacteria": 11864.772510251516,
          "time (units of 1/k)": 4.8
         },
         {
          "number of bacteria": 11983.420235354031,
          "time (units of 1/k)": 4.8100000000000005
         },
         {
          "number of bacteria": 12103.254437707572,
          "time (units of 1/k)": 4.82
         },
         {
          "number of bacteria": 12224.286982084648,
          "time (units of 1/k)": 4.83
         },
         {
          "number of bacteria": 12346.529851905494,
          "time (units of 1/k)": 4.84
         },
         {
          "number of bacteria": 12469.99515042455,
          "time (units of 1/k)": 4.8500000000000005
         },
         {
          "number of bacteria": 12594.695101928795,
          "time (units of 1/k)": 4.86
         },
         {
          "number of bacteria": 12720.642052948084,
          "time (units of 1/k)": 4.87
         },
         {
          "number of bacteria": 12847.848473477565,
          "time (units of 1/k)": 4.88
         },
         {
          "number of bacteria": 12976.326958212341,
          "time (units of 1/k)": 4.89
         },
         {
          "number of bacteria": 13106.090227794464,
          "time (units of 1/k)": 4.9
         },
         {
          "number of bacteria": 13237.151130072409,
          "time (units of 1/k)": 4.91
         },
         {
          "number of bacteria": 13369.522641373133,
          "time (units of 1/k)": 4.92
         },
         {
          "number of bacteria": 13503.217867786863,
          "time (units of 1/k)": 4.93
         },
         {
          "number of bacteria": 13638.250046464733,
          "time (units of 1/k)": 4.94
         },
         {
          "number of bacteria": 13774.63254692938,
          "time (units of 1/k)": 4.95
         },
         {
          "number of bacteria": 13912.378872398675,
          "time (units of 1/k)": 4.96
         },
         {
          "number of bacteria": 14051.50266112266,
          "time (units of 1/k)": 4.97
         },
         {
          "number of bacteria": 14192.017687733887,
          "time (units of 1/k)": 4.98
         },
         {
          "number of bacteria": 14333.937864611225,
          "time (units of 1/k)": 4.99
         },
         {
          "number of bacteria": 14477.277243257338,
          "time (units of 1/k)": 5
         },
         {
          "number of bacteria": 14622.050015689912,
          "time (units of 1/k)": 5.01
         },
         {
          "number of bacteria": 14768.270515846812,
          "time (units of 1/k)": 5.0200000000000005
         },
         {
          "number of bacteria": 14915.95322100528,
          "time (units of 1/k)": 5.03
         },
         {
          "number of bacteria": 15065.112753215333,
          "time (units of 1/k)": 5.04
         },
         {
          "number of bacteria": 15215.763880747487,
          "time (units of 1/k)": 5.05
         },
         {
          "number of bacteria": 15367.921519554962,
          "time (units of 1/k)": 5.0600000000000005
         },
         {
          "number of bacteria": 15521.600734750511,
          "time (units of 1/k)": 5.07
         },
         {
          "number of bacteria": 15676.816742098015,
          "time (units of 1/k)": 5.08
         },
         {
          "number of bacteria": 15833.584909518995,
          "time (units of 1/k)": 5.09
         },
         {
          "number of bacteria": 15991.920758614186,
          "time (units of 1/k)": 5.1000000000000005
         },
         {
          "number of bacteria": 16151.839966200327,
          "time (units of 1/k)": 5.11
         },
         {
          "number of bacteria": 16313.35836586233,
          "time (units of 1/k)": 5.12
         },
         {
          "number of bacteria": 16476.491949520954,
          "time (units of 1/k)": 5.13
         },
         {
          "number of bacteria": 16641.256869016164,
          "time (units of 1/k)": 5.14
         },
         {
          "number of bacteria": 16807.669437706325,
          "time (units of 1/k)": 5.15
         },
         {
          "number of bacteria": 16975.74613208339,
          "time (units of 1/k)": 5.16
         },
         {
          "number of bacteria": 17145.503593404224,
          "time (units of 1/k)": 5.17
         },
         {
          "number of bacteria": 17316.958629338267,
          "time (units of 1/k)": 5.18
         },
         {
          "number of bacteria": 17490.12821563165,
          "time (units of 1/k)": 5.19
         },
         {
          "number of bacteria": 17665.029497787964,
          "time (units of 1/k)": 5.2
         },
         {
          "number of bacteria": 17841.679792765844,
          "time (units of 1/k)": 5.21
         },
         {
          "number of bacteria": 18020.0965906935,
          "time (units of 1/k)": 5.22
         },
         {
          "number of bacteria": 18200.297556600435,
          "time (units of 1/k)": 5.23
         },
         {
          "number of bacteria": 18382.30053216644,
          "time (units of 1/k)": 5.24
         },
         {
          "number of bacteria": 18566.123537488103,
          "time (units of 1/k)": 5.25
         },
         {
          "number of bacteria": 18751.784772862986,
          "time (units of 1/k)": 5.26
         },
         {
          "number of bacteria": 18939.302620591614,
          "time (units of 1/k)": 5.2700000000000005
         },
         {
          "number of bacteria": 19128.69564679753,
          "time (units of 1/k)": 5.28
         },
         {
          "number of bacteria": 19319.982603265504,
          "time (units of 1/k)": 5.29
         },
         {
          "number of bacteria": 19513.18242929816,
          "time (units of 1/k)": 5.3
         },
         {
          "number of bacteria": 19708.31425359114,
          "time (units of 1/k)": 5.3100000000000005
         },
         {
          "number of bacteria": 19905.39739612705,
          "time (units of 1/k)": 5.32
         },
         {
          "number of bacteria": 20104.45137008832,
          "time (units of 1/k)": 5.33
         },
         {
          "number of bacteria": 20305.495883789205,
          "time (units of 1/k)": 5.34
         },
         {
          "number of bacteria": 20508.550842627097,
          "time (units of 1/k)": 5.3500000000000005
         },
         {
          "number of bacteria": 20713.636351053367,
          "time (units of 1/k)": 5.36
         },
         {
          "number of bacteria": 20920.7727145639,
          "time (units of 1/k)": 5.37
         },
         {
          "number of bacteria": 21129.98044170954,
          "time (units of 1/k)": 5.38
         },
         {
          "number of bacteria": 21341.280246126636,
          "time (units of 1/k)": 5.39
         },
         {
          "number of bacteria": 21554.693048587902,
          "time (units of 1/k)": 5.4
         },
         {
          "number of bacteria": 21770.23997907378,
          "time (units of 1/k)": 5.41
         },
         {
          "number of bacteria": 21987.942378864518,
          "time (units of 1/k)": 5.42
         },
         {
          "number of bacteria": 22207.821802653165,
          "time (units of 1/k)": 5.43
         },
         {
          "number of bacteria": 22429.900020679695,
          "time (units of 1/k)": 5.44
         },
         {
          "number of bacteria": 22654.19902088649,
          "time (units of 1/k)": 5.45
         },
         {
          "number of bacteria": 22880.741011095357,
          "time (units of 1/k)": 5.46
         },
         {
          "number of bacteria": 23109.54842120631,
          "time (units of 1/k)": 5.47
         },
         {
          "number of bacteria": 23340.643905418372,
          "time (units of 1/k)": 5.48
         },
         {
          "number of bacteria": 23574.050344472555,
          "time (units of 1/k)": 5.49
         },
         {
          "number of bacteria": 23809.79084791728,
          "time (units of 1/k)": 5.5
         },
         {
          "number of bacteria": 24047.888756396453,
          "time (units of 1/k)": 5.51
         },
         {
          "number of bacteria": 24288.367643960417,
          "time (units of 1/k)": 5.5200000000000005
         },
         {
          "number of bacteria": 24531.25132040002,
          "time (units of 1/k)": 5.53
         },
         {
          "number of bacteria": 24776.56383360402,
          "time (units of 1/k)": 5.54
         },
         {
          "number of bacteria": 25024.329471940062,
          "time (units of 1/k)": 5.55
         },
         {
          "number of bacteria": 25274.57276665946,
          "time (units of 1/k)": 5.5600000000000005
         },
         {
          "number of bacteria": 25527.318494326057,
          "time (units of 1/k)": 5.57
         },
         {
          "number of bacteria": 25782.591679269317,
          "time (units of 1/k)": 5.58
         },
         {
          "number of bacteria": 26040.41759606201,
          "time (units of 1/k)": 5.59
         },
         {
          "number of bacteria": 26300.821772022628,
          "time (units of 1/k)": 5.6000000000000005
         },
         {
          "number of bacteria": 26563.829989742855,
          "time (units of 1/k)": 5.61
         },
         {
          "number of bacteria": 26829.468289640285,
          "time (units of 1/k)": 5.62
         },
         {
          "number of bacteria": 27097.762972536686,
          "time (units of 1/k)": 5.63
         },
         {
          "number of bacteria": 27368.740602262053,
          "time (units of 1/k)": 5.64
         },
         {
          "number of bacteria": 27642.428008284674,
          "time (units of 1/k)": 5.65
         },
         {
          "number of bacteria": 27918.85228836752,
          "time (units of 1/k)": 5.66
         },
         {
          "number of bacteria": 28198.040811251198,
          "time (units of 1/k)": 5.67
         },
         {
          "number of bacteria": 28480.02121936371,
          "time (units of 1/k)": 5.68
         },
         {
          "number of bacteria": 28764.821431557346,
          "time (units of 1/k)": 5.69
         },
         {
          "number of bacteria": 29052.46964587292,
          "time (units of 1/k)": 5.7
         },
         {
          "number of bacteria": 29342.994342331647,
          "time (units of 1/k)": 5.71
         },
         {
          "number of bacteria": 29636.424285754965,
          "time (units of 1/k)": 5.72
         },
         {
          "number of bacteria": 29932.788528612517,
          "time (units of 1/k)": 5.73
         },
         {
          "number of bacteria": 30232.116413898642,
          "time (units of 1/k)": 5.74
         },
         {
          "number of bacteria": 30534.43757803763,
          "time (units of 1/k)": 5.75
         },
         {
          "number of bacteria": 30839.781953818005,
          "time (units of 1/k)": 5.76
         },
         {
          "number of bacteria": 31148.179773356183,
          "time (units of 1/k)": 5.7700000000000005
         },
         {
          "number of bacteria": 31459.661571089746,
          "time (units of 1/k)": 5.78
         },
         {
          "number of bacteria": 31774.258186800642,
          "time (units of 1/k)": 5.79
         },
         {
          "number of bacteria": 32092.000768668648,
          "time (units of 1/k)": 5.8
         },
         {
          "number of bacteria": 32412.920776355335,
          "time (units of 1/k)": 5.8100000000000005
         },
         {
          "number of bacteria": 32737.049984118887,
          "time (units of 1/k)": 5.82
         },
         {
          "number of bacteria": 33064.42048396008,
          "time (units of 1/k)": 5.83
         },
         {
          "number of bacteria": 33395.06468879968,
          "time (units of 1/k)": 5.84
         },
         {
          "number of bacteria": 33729.015335687676,
          "time (units of 1/k)": 5.8500000000000005
         },
         {
          "number of bacteria": 34066.30548904456,
          "time (units of 1/k)": 5.86
         },
         {
          "number of bacteria": 34406.968543935,
          "time (units of 1/k)": 5.87
         },
         {
          "number of bacteria": 34751.038229374346,
          "time (units of 1/k)": 5.88
         },
         {
          "number of bacteria": 35098.54861166809,
          "time (units of 1/k)": 5.89
         },
         {
          "number of bacteria": 35449.53409778477,
          "time (units of 1/k)": 5.9
         },
         {
          "number of bacteria": 35804.02943876262,
          "time (units of 1/k)": 5.91
         },
         {
          "number of bacteria": 36162.069733150245,
          "time (units of 1/k)": 5.92
         },
         {
          "number of bacteria": 36523.69043048175,
          "time (units of 1/k)": 5.93
         },
         {
          "number of bacteria": 36888.92733478657,
          "time (units of 1/k)": 5.94
         },
         {
          "number of bacteria": 37257.81660813443,
          "time (units of 1/k)": 5.95
         },
         {
          "number of bacteria": 37630.394774215776,
          "time (units of 1/k)": 5.96
         },
         {
          "number of bacteria": 38006.69872195793,
          "time (units of 1/k)": 5.97
         },
         {
          "number of bacteria": 38386.76570917751,
          "time (units of 1/k)": 5.98
         },
         {
          "number of bacteria": 38770.633366269285,
          "time (units of 1/k)": 5.99
         },
         {
          "number of bacteria": 39158.33969993198,
          "time (units of 1/k)": 6
         },
         {
          "number of bacteria": 39549.9230969313,
          "time (units of 1/k)": 6.01
         },
         {
          "number of bacteria": 39945.42232790061,
          "time (units of 1/k)": 6.0200000000000005
         },
         {
          "number of bacteria": 40344.876551179615,
          "time (units of 1/k)": 6.03
         },
         {
          "number of bacteria": 40748.325316691415,
          "time (units of 1/k)": 6.04
         },
         {
          "number of bacteria": 41155.80856985833,
          "time (units of 1/k)": 6.05
         },
         {
          "number of bacteria": 41567.366655556914,
          "time (units of 1/k)": 6.0600000000000005
         },
         {
          "number of bacteria": 41983.04032211249,
          "time (units of 1/k)": 6.07
         },
         {
          "number of bacteria": 42402.87072533361,
          "time (units of 1/k)": 6.08
         },
         {
          "number of bacteria": 42826.89943258695,
          "time (units of 1/k)": 6.09
         },
         {
          "number of bacteria": 43255.168426912816,
          "time (units of 1/k)": 6.1000000000000005
         },
         {
          "number of bacteria": 43687.720111181945,
          "time (units of 1/k)": 6.11
         },
         {
          "number of bacteria": 44124.597312293765,
          "time (units of 1/k)": 6.12
         },
         {
          "number of bacteria": 44565.843285416704,
          "time (units of 1/k)": 6.13
         },
         {
          "number of bacteria": 45011.50171827087,
          "time (units of 1/k)": 6.140000000000001
         },
         {
          "number of bacteria": 45461.61673545358,
          "time (units of 1/k)": 6.15
         },
         {
          "number of bacteria": 45916.232902808115,
          "time (units of 1/k)": 6.16
         },
         {
          "number of bacteria": 46375.3952318362,
          "time (units of 1/k)": 6.17
         },
         {
          "number of bacteria": 46839.14918415456,
          "time (units of 1/k)": 6.18
         },
         {
          "number of bacteria": 47307.540675996104,
          "time (units of 1/k)": 6.19
         },
         {
          "number of bacteria": 47780.61608275607,
          "time (units of 1/k)": 6.2
         },
         {
          "number of bacteria": 48258.42224358363,
          "time (units of 1/k)": 6.21
         },
         {
          "number of bacteria": 48741.00646601946,
          "time (units of 1/k)": 6.22
         },
         {
          "number of bacteria": 49228.41653067966,
          "time (units of 1/k)": 6.23
         },
         {
          "number of bacteria": 49720.70069598645,
          "time (units of 1/k)": 6.24
         },
         {
          "number of bacteria": 50217.907702946315,
          "time (units of 1/k)": 6.25
         },
         {
          "number of bacteria": 50720.086779975776,
          "time (units of 1/k)": 6.26
         },
         {
          "number of bacteria": 51227.287647775534,
          "time (units of 1/k)": 6.2700000000000005
         },
         {
          "number of bacteria": 51739.56052425329,
          "time (units of 1/k)": 6.28
         },
         {
          "number of bacteria": 52256.956129495826,
          "time (units of 1/k)": 6.29
         },
         {
          "number of bacteria": 52779.52569079078,
          "time (units of 1/k)": 6.3
         },
         {
          "number of bacteria": 53307.32094769869,
          "time (units of 1/k)": 6.3100000000000005
         },
         {
          "number of bacteria": 53840.39415717567,
          "time (units of 1/k)": 6.32
         },
         {
          "number of bacteria": 54378.79809874743,
          "time (units of 1/k)": 6.33
         },
         {
          "number of bacteria": 54922.5860797349,
          "time (units of 1/k)": 6.34
         },
         {
          "number of bacteria": 55471.81194053225,
          "time (units of 1/k)": 6.3500000000000005
         },
         {
          "number of bacteria": 56026.53005993757,
          "time (units of 1/k)": 6.36
         },
         {
          "number of bacteria": 56586.79536053695,
          "time (units of 1/k)": 6.37
         },
         {
          "number of bacteria": 57152.663314142315,
          "time (units of 1/k)": 6.38
         },
         {
          "number of bacteria": 57724.18994728374,
          "time (units of 1/k)": 6.390000000000001
         },
         {
          "number of bacteria": 58301.431846756575,
          "time (units of 1/k)": 6.4
         },
         {
          "number of bacteria": 58884.446165224144,
          "time (units of 1/k)": 6.41
         },
         {
          "number of bacteria": 59473.29062687638,
          "time (units of 1/k)": 6.42
         },
         {
          "number of bacteria": 60068.02353314515,
          "time (units of 1/k)": 6.43
         },
         {
          "number of bacteria": 60668.7037684766,
          "time (units of 1/k)": 6.44
         },
         {
          "number of bacteria": 61275.39080616136,
          "time (units of 1/k)": 6.45
         },
         {
          "number of bacteria": 61888.14471422297,
          "time (units of 1/k)": 6.46
         },
         {
          "number of bacteria": 62507.026161365204,
          "time (units of 1/k)": 6.47
         },
         {
          "number of bacteria": 63132.09642297886,
          "time (units of 1/k)": 6.48
         },
         {
          "number of bacteria": 63763.41738720865,
          "time (units of 1/k)": 6.49
         },
         {
          "number of bacteria": 64401.051561080734,
          "time (units of 1/k)": 6.5
         },
         {
          "number of bacteria": 65045.06207669154,
          "time (units of 1/k)": 6.51
         },
         {
          "number of bacteria": 65695.51269745846,
          "time (units of 1/k)": 6.5200000000000005
         },
         {
          "number of bacteria": 66352.46782443304,
          "time (units of 1/k)": 6.53
         },
         {
          "number of bacteria": 67015.99250267737,
          "time (units of 1/k)": 6.54
         },
         {
          "number of bacteria": 67686.15242770415,
          "time (units of 1/k)": 6.55
         },
         {
          "number of bacteria": 68363.0139519812,
          "time (units of 1/k)": 6.5600000000000005
         },
         {
          "number of bacteria": 69046.644091501,
          "time (units of 1/k)": 6.57
         },
         {
          "number of bacteria": 69737.11053241602,
          "time (units of 1/k)": 6.58
         },
         {
          "number of bacteria": 70434.48163774017,
          "time (units of 1/k)": 6.59
         },
         {
          "number of bacteria": 71138.82645411757,
          "time (units of 1/k)": 6.6000000000000005
         },
         {
          "number of bacteria": 71850.21471865875,
          "time (units of 1/k)": 6.61
         },
         {
          "number of bacteria": 72568.71686584534,
          "time (units of 1/k)": 6.62
         },
         {
          "number of bacteria": 73294.4040345038,
          "time (units of 1/k)": 6.63
         },
         {
          "number of bacteria": 74027.34807484884,
          "time (units of 1/k)": 6.640000000000001
         },
         {
          "number of bacteria": 74767.62155559732,
          "time (units of 1/k)": 6.65
         },
         {
          "number of bacteria": 75515.29777115329,
          "time (units of 1/k)": 6.66
         },
         {
          "number of bacteria": 76270.45074886482,
          "time (units of 1/k)": 6.67
         },
         {
          "number of bacteria": 77033.15525635346,
          "time (units of 1/k)": 6.68
         },
         {
          "number of bacteria": 77803.486808917,
          "time (units of 1/k)": 6.69
         },
         {
          "number of bacteria": 78581.52167700618,
          "time (units of 1/k)": 6.7
         },
         {
          "number of bacteria": 79367.33689377624,
          "time (units of 1/k)": 6.71
         },
         {
          "number of bacteria": 80161.010262714,
          "time (units of 1/k)": 6.72
         },
         {
          "number of bacteria": 80962.62036534114,
          "time (units of 1/k)": 6.73
         },
         {
          "number of bacteria": 81772.24656899455,
          "time (units of 1/k)": 6.74
         },
         {
          "number of bacteria": 82589.9690346845,
          "time (units of 1/k)": 6.75
         },
         {
          "number of bacteria": 83415.86872503135,
          "time (units of 1/k)": 6.76
         },
         {
          "number of bacteria": 84250.02741228166,
          "time (units of 1/k)": 6.7700000000000005
         },
         {
          "number of bacteria": 85092.52768640449,
          "time (units of 1/k)": 6.78
         },
         {
          "number of bacteria": 85943.45296326853,
          "time (units of 1/k)": 6.79
         },
         {
          "number of bacteria": 86802.88749290121,
          "time (units of 1/k)": 6.8
         },
         {
          "number of bacteria": 87670.91636783021,
          "time (units of 1/k)": 6.8100000000000005
         },
         {
          "number of bacteria": 88547.62553150851,
          "time (units of 1/k)": 6.82
         },
         {
          "number of bacteria": 89433.1017868236,
          "time (units of 1/k)": 6.83
         },
         {
          "number of bacteria": 90327.43280469182,
          "time (units of 1/k)": 6.84
         },
         {
          "number of bacteria": 91230.70713273874,
          "time (units of 1/k)": 6.8500000000000005
         },
         {
          "number of bacteria": 92143.01420406613,
          "time (units of 1/k)": 6.86
         },
         {
          "number of bacteria": 93064.44434610679,
          "time (units of 1/k)": 6.87
         },
         {
          "number of bacteria": 93995.08878956786,
          "time (units of 1/k)": 6.88
         },
         {
          "number of bacteria": 94935.03967746354,
          "time (units of 1/k)": 6.890000000000001
         },
         {
          "number of bacteria": 95884.39007423818,
          "time (units of 1/k)": 6.9
         },
         {
          "number of bacteria": 96843.23397498057,
          "time (units of 1/k)": 6.91
         },
         {
          "number of bacteria": 97811.66631473038,
          "time (units of 1/k)": 6.92
         },
         {
          "number of bacteria": 98789.78297787768,
          "time (units of 1/k)": 6.93
         },
         {
          "number of bacteria": 99777.68080765646,
          "time (units of 1/k)": 6.94
         },
         {
          "number of bacteria": 100775.45761573303,
          "time (units of 1/k)": 6.95
         },
         {
          "number of bacteria": 101783.21219189036,
          "time (units of 1/k)": 6.96
         },
         {
          "number of bacteria": 102801.04431380927,
          "time (units of 1/k)": 6.97
         },
         {
          "number of bacteria": 103829.05475694736,
          "time (units of 1/k)": 6.98
         },
         {
          "number of bacteria": 104867.34530451683,
          "time (units of 1/k)": 6.99
         },
         {
          "number of bacteria": 105916.018757562,
          "time (units of 1/k)": 7
         },
         {
          "number of bacteria": 106975.17894513761,
          "time (units of 1/k)": 7.01
         },
         {
          "number of bacteria": 108044.93073458898,
          "time (units of 1/k)": 7.0200000000000005
         },
         {
          "number of bacteria": 109125.38004193487,
          "time (units of 1/k)": 7.03
         },
         {
          "number of bacteria": 110216.63384235422,
          "time (units of 1/k)": 7.04
         },
         {
          "number of bacteria": 111318.80018077776,
          "time (units of 1/k)": 7.05
         },
         {
          "number of bacteria": 112431.98818258554,
          "time (units of 1/k)": 7.0600000000000005
         },
         {
          "number of bacteria": 113556.3080644114,
          "time (units of 1/k)": 7.07
         },
         {
          "number of bacteria": 114691.87114505551,
          "time (units of 1/k)": 7.08
         },
         {
          "number of bacteria": 115838.78985650608,
          "time (units of 1/k)": 7.09
         },
         {
          "number of bacteria": 116997.17775507114,
          "time (units of 1/k)": 7.1000000000000005
         },
         {
          "number of bacteria": 118167.14953262186,
          "time (units of 1/k)": 7.11
         },
         {
          "number of bacteria": 119348.82102794807,
          "time (units of 1/k)": 7.12
         },
         {
          "number of bacteria": 120542.30923822755,
          "time (units of 1/k)": 7.13
         },
         {
          "number of bacteria": 121747.73233060983,
          "time (units of 1/k)": 7.140000000000001
         },
         {
          "number of bacteria": 122965.20965391592,
          "time (units of 1/k)": 7.15
         },
         {
          "number of bacteria": 124194.86175045508,
          "time (units of 1/k)": 7.16
         },
         {
          "number of bacteria": 125436.81036795962,
          "time (units of 1/k)": 7.17
         },
         {
          "number of bacteria": 126691.17847163921,
          "time (units of 1/k)": 7.18
         },
         {
          "number of bacteria": 127958.0902563556,
          "time (units of 1/k)": 7.19
         },
         {
          "number of bacteria": 129237.67115891915,
          "time (units of 1/k)": 7.2
         },
         {
          "number of bacteria": 130530.04787050835,
          "time (units of 1/k)": 7.21
         },
         {
          "number of bacteria": 131835.34834921343,
          "time (units of 1/k)": 7.22
         },
         {
          "number of bacteria": 133153.70183270556,
          "time (units of 1/k)": 7.23
         },
         {
          "number of bacteria": 134485.2388510326,
          "time (units of 1/k)": 7.24
         },
         {
          "number of bacteria": 135830.09123954293,
          "time (units of 1/k)": 7.25
         },
         {
          "number of bacteria": 137188.39215193837,
          "time (units of 1/k)": 7.26
         },
         {
          "number of bacteria": 138560.27607345776,
          "time (units of 1/k)": 7.2700000000000005
         },
         {
          "number of bacteria": 139945.87883419235,
          "time (units of 1/k)": 7.28
         },
         {
          "number of bacteria": 141345.33762253428,
          "time (units of 1/k)": 7.29
         },
         {
          "number of bacteria": 142758.79099875962,
          "time (units of 1/k)": 7.3
         },
         {
          "number of bacteria": 144186.37890874723,
          "time (units of 1/k)": 7.3100000000000005
         },
         {
          "number of bacteria": 145628.2426978347,
          "time (units of 1/k)": 7.32
         },
         {
          "number of bacteria": 147084.52512481305,
          "time (units of 1/k)": 7.33
         },
         {
          "number of bacteria": 148555.37037606118,
          "time (units of 1/k)": 7.34
         },
         {
          "number of bacteria": 150040.9240798218,
          "time (units of 1/k)": 7.3500000000000005
         },
         {
          "number of bacteria": 151541.33332062,
          "time (units of 1/k)": 7.36
         },
         {
          "number of bacteria": 153056.7466538262,
          "time (units of 1/k)": 7.37
         },
         {
          "number of bacteria": 154587.31412036446,
          "time (units of 1/k)": 7.38
         },
         {
          "number of bacteria": 156133.18726156812,
          "time (units of 1/k)": 7.390000000000001
         },
         {
          "number of bacteria": 157694.5191341838,
          "time (units of 1/k)": 7.4
         },
         {
          "number of bacteria": 159271.46432552562,
          "time (units of 1/k)": 7.41
         },
         {
          "number of bacteria": 160864.17896878088,
          "time (units of 1/k)": 7.42
         },
         {
          "number of bacteria": 162472.82075846868,
          "time (units of 1/k)": 7.43
         },
         {
          "number of bacteria": 164097.54896605335,
          "time (units of 1/k)": 7.44
         },
         {
          "number of bacteria": 165738.5244557139,
          "time (units of 1/k)": 7.45
         },
         {
          "number of bacteria": 167395.90970027103,
          "time (units of 1/k)": 7.46
         },
         {
          "number of bacteria": 169069.86879727375,
          "time (units of 1/k)": 7.47
         },
         {
          "number of bacteria": 170760.5674852465,
          "time (units of 1/k)": 7.48
         },
         {
          "number of bacteria": 172468.17316009896,
          "time (units of 1/k)": 7.49
         },
         {
          "number of bacteria": 174192.85489169994,
          "time (units of 1/k)": 7.5
         },
         {
          "number of bacteria": 175934.78344061694,
          "time (units of 1/k)": 7.51
         },
         {
          "number of bacteria": 177694.1312750231,
          "time (units of 1/k)": 7.5200000000000005
         },
         {
          "number of bacteria": 179471.07258777332,
          "time (units of 1/k)": 7.53
         },
         {
          "number of bacteria": 181265.78331365105,
          "time (units of 1/k)": 7.54
         },
         {
          "number of bacteria": 183078.44114678755,
          "time (units of 1/k)": 7.55
         },
         {
          "number of bacteria": 184909.22555825542,
          "time (units of 1/k)": 7.5600000000000005
         },
         {
          "number of bacteria": 186758.317813838,
          "time (units of 1/k)": 7.57
         },
         {
          "number of bacteria": 188625.90099197638,
          "time (units of 1/k)": 7.58
         },
         {
          "number of bacteria": 190512.16000189615,
          "time (units of 1/k)": 7.59
         },
         {
          "number of bacteria": 192417.2816019151,
          "time (units of 1/k)": 7.6000000000000005
         },
         {
          "number of bacteria": 194341.45441793426,
          "time (units of 1/k)": 7.61
         },
         {
          "number of bacteria": 196284.8689621136,
          "time (units of 1/k)": 7.62
         },
         {
          "number of bacteria": 198247.71765173474,
          "time (units of 1/k)": 7.63
         },
         {
          "number of bacteria": 200230.19482825208,
          "time (units of 1/k)": 7.640000000000001
         },
         {
          "number of bacteria": 202232.4967765346,
          "time (units of 1/k)": 7.65
         },
         {
          "number of bacteria": 204254.82174429993,
          "time (units of 1/k)": 7.66
         },
         {
          "number of bacteria": 206297.36996174292,
          "time (units of 1/k)": 7.67
         },
         {
          "number of bacteria": 208360.34366136036,
          "time (units of 1/k)": 7.68
         },
         {
          "number of bacteria": 210443.94709797396,
          "time (units of 1/k)": 7.69
         },
         {
          "number of bacteria": 212548.3865689537,
          "time (units of 1/k)": 7.7
         },
         {
          "number of bacteria": 214673.87043464324,
          "time (units of 1/k)": 7.71
         },
         {
          "number of bacteria": 216820.60913898968,
          "time (units of 1/k)": 7.72
         },
         {
          "number of bacteria": 218988.81523037958,
          "time (units of 1/k)": 7.73
         },
         {
          "number of bacteria": 221178.70338268336,
          "time (units of 1/k)": 7.74
         },
         {
          "number of bacteria": 223390.4904165102,
          "time (units of 1/k)": 7.75
         },
         {
          "number of bacteria": 225624.3953206753,
          "time (units of 1/k)": 7.76
         },
         {
          "number of bacteria": 227880.63927388206,
          "time (units of 1/k)": 7.7700000000000005
         },
         {
          "number of bacteria": 230159.4456666209,
          "time (units of 1/k)": 7.78
         },
         {
          "number of bacteria": 232461.0401232871,
          "time (units of 1/k)": 7.79
         },
         {
          "number of bacteria": 234785.65052451997,
          "time (units of 1/k)": 7.8
         },
         {
          "number of bacteria": 237133.50702976517,
          "time (units of 1/k)": 7.8100000000000005
         },
         {
          "number of bacteria": 239504.84210006282,
          "time (units of 1/k)": 7.82
         },
         {
          "number of bacteria": 241899.89052106344,
          "time (units of 1/k)": 7.83
         },
         {
          "number of bacteria": 244318.88942627408,
          "time (units of 1/k)": 7.84
         },
         {
          "number of bacteria": 246762.07832053682,
          "time (units of 1/k)": 7.8500000000000005
         },
         {
          "number of bacteria": 249229.6991037422,
          "time (units of 1/k)": 7.86
         },
         {
          "number of bacteria": 251721.9960947796,
          "time (units of 1/k)": 7.87
         },
         {
          "number of bacteria": 254239.2160557274,
          "time (units of 1/k)": 7.88
         },
         {
          "number of bacteria": 256781.60821628466,
          "time (units of 1/k)": 7.890000000000001
         },
         {
          "number of bacteria": 259349.4242984475,
          "time (units of 1/k)": 7.9
         },
         {
          "number of bacteria": 261942.91854143198,
          "time (units of 1/k)": 7.91
         },
         {
          "number of bacteria": 264562.3477268463,
          "time (units of 1/k)": 7.92
         },
         {
          "number of bacteria": 267207.9712041147,
          "time (units of 1/k)": 7.930000000000001
         },
         {
          "number of bacteria": 269880.05091615586,
          "time (units of 1/k)": 7.94
         },
         {
          "number of bacteria": 272578.8514253174,
          "time (units of 1/k)": 7.95
         },
         {
          "number of bacteria": 275304.63993957057,
          "time (units of 1/k)": 7.96
         },
         {
          "number of bacteria": 278057.68633896625,
          "time (units of 1/k)": 7.97
         },
         {
          "number of bacteria": 280838.2632023559,
          "time (units of 1/k)": 7.98
         },
         {
          "number of bacteria": 283646.6458343794,
          "time (units of 1/k)": 7.99
         },
         {
          "number of bacteria": 286483.1122927232,
          "time (units of 1/k)": 8
         },
         {
          "number of bacteria": 289347.94341565046,
          "time (units of 1/k)": 8.01
         },
         {
          "number of bacteria": 292241.42284980696,
          "time (units of 1/k)": 8.02
         },
         {
          "number of bacteria": 295163.837078305,
          "time (units of 1/k)": 8.03
         },
         {
          "number of bacteria": 298115.4754490881,
          "time (units of 1/k)": 8.040000000000001
         },
         {
          "number of bacteria": 301096.63020357897,
          "time (units of 1/k)": 8.05
         },
         {
          "number of bacteria": 304107.59650561475,
          "time (units of 1/k)": 8.06
         },
         {
          "number of bacteria": 307148.6724706709,
          "time (units of 1/k)": 8.07
         },
         {
          "number of bacteria": 310220.1591953776,
          "time (units of 1/k)": 8.08
         },
         {
          "number of bacteria": 313322.36078733136,
          "time (units of 1/k)": 8.09
         },
         {
          "number of bacteria": 316455.58439520467,
          "time (units of 1/k)": 8.1
         },
         {
          "number of bacteria": 319620.1402391567,
          "time (units of 1/k)": 8.11
         },
         {
          "number of bacteria": 322816.34164154826,
          "time (units of 1/k)": 8.120000000000001
         },
         {
          "number of bacteria": 326044.5050579638,
          "time (units of 1/k)": 8.13
         },
         {
          "number of bacteria": 329304.9501085434,
          "time (units of 1/k)": 8.14
         },
         {
          "number of bacteria": 332597.9996096288,
          "time (units of 1/k)": 8.15
         },
         {
          "number of bacteria": 335923.9796057251,
          "time (units of 1/k)": 8.16
         },
         {
          "number of bacteria": 339283.2194017823,
          "time (units of 1/k)": 8.17
         },
         {
          "number of bacteria": 342676.05159580015,
          "time (units of 1/k)": 8.18
         },
         {
          "number of bacteria": 346102.81211175816,
          "time (units of 1/k)": 8.19
         },
         {
          "number of bacteria": 349563.8402328757,
          "time (units of 1/k)": 8.2
         },
         {
          "number of bacteria": 353059.4786352045,
          "time (units of 1/k)": 8.21
         },
         {
          "number of bacteria": 356590.07342155656,
          "time (units of 1/k)": 8.22
         },
         {
          "number of bacteria": 360155.9741557721,
          "time (units of 1/k)": 8.23
         },
         {
          "number of bacteria": 363757.5338973298,
          "time (units of 1/k)": 8.24
         },
         {
          "number of bacteria": 367395.10923630313,
          "time (units of 1/k)": 8.25
         },
         {
          "number of bacteria": 371069.0603286662,
          "time (units of 1/k)": 8.26
         },
         {
          "number of bacteria": 374779.75093195285,
          "time (units of 1/k)": 8.27
         },
         {
          "number of bacteria": 378527.5484412724,
          "time (units of 1/k)": 8.28
         },
         {
          "number of bacteria": 382312.82392568514,
          "time (units of 1/k)": 8.290000000000001
         },
         {
          "number of bacteria": 386135.952164942,
          "time (units of 1/k)": 8.3
         },
         {
          "number of bacteria": 389997.3116865914,
          "time (units of 1/k)": 8.31
         },
         {
          "number of bacteria": 393897.2848034573,
          "time (units of 1/k)": 8.32
         },
         {
          "number of bacteria": 397836.2576514919,
          "time (units of 1/k)": 8.33
         },
         {
          "number of bacteria": 401814.62022800685,
          "time (units of 1/k)": 8.34
         },
         {
          "number of bacteria": 405832.7664302869,
          "time (units of 1/k)": 8.35
         },
         {
          "number of bacteria": 409891.0940945898,
          "time (units of 1/k)": 8.36
         },
         {
          "number of bacteria": 413990.0050355357,
          "time (units of 1/k)": 8.370000000000001
         },
         {
          "number of bacteria": 418129.9050858911,
          "time (units of 1/k)": 8.38
         },
         {
          "number of bacteria": 422311.20413674996,
          "time (units of 1/k)": 8.39
         },
         {
          "number of bacteria": 426534.3161781175,
          "time (units of 1/k)": 8.4
         },
         {
          "number of bacteria": 430799.6593398987,
          "time (units of 1/k)": 8.41
         },
         {
          "number of bacteria": 435107.65593329765,
          "time (units of 1/k)": 8.42
         },
         {
          "number of bacteria": 439458.7324926306,
          "time (units of 1/k)": 8.43
         },
         {
          "number of bacteria": 443853.3198175569,
          "time (units of 1/k)": 8.44
         },
         {
          "number of bacteria": 448291.8530157324,
          "time (units of 1/k)": 8.45
         },
         {
          "number of bacteria": 452774.77154588973,
          "time (units of 1/k)": 8.46
         },
         {
          "number of bacteria": 457302.51926134864,
          "time (units of 1/k)": 8.47
         },
         {
          "number of bacteria": 461875.5444539621,
          "time (units of 1/k)": 8.48
         },
         {
          "number of bacteria": 466494.2998985017,
          "time (units of 1/k)": 8.49
         },
         {
          "number of bacteria": 471159.2428974867,
          "time (units of 1/k)": 8.5
         },
         {
          "number of bacteria": 475870.8353264616,
          "time (units of 1/k)": 8.51
         },
         {
          "number of bacteria": 480629.5436797262,
          "time (units of 1/k)": 8.52
         },
         {
          "number of bacteria": 485435.83911652345,
          "time (units of 1/k)": 8.53
         },
         {
          "number of bacteria": 490290.19750768866,
          "time (units of 1/k)": 8.540000000000001
         },
         {
          "number of bacteria": 495193.09948276554,
          "time (units of 1/k)": 8.55
         },
         {
          "number of bacteria": 500145.0304775932,
          "time (units of 1/k)": 8.56
         },
         {
          "number of bacteria": 505146.4807823691,
          "time (units of 1/k)": 8.57
         },
         {
          "number of bacteria": 510197.9455901928,
          "time (units of 1/k)": 8.58
         },
         {
          "number of bacteria": 515299.92504609475,
          "time (units of 1/k)": 8.59
         },
         {
          "number of bacteria": 520452.9242965557,
          "time (units of 1/k)": 8.6
         },
         {
          "number of bacteria": 525657.4535395212,
          "time (units of 1/k)": 8.61
         },
         {
          "number of bacteria": 530914.0280749165,
          "time (units of 1/k)": 8.620000000000001
         },
         {
          "number of bacteria": 536223.1683556656,
          "time (units of 1/k)": 8.63
         },
         {
          "number of bacteria": 541585.4000392223,
          "time (units of 1/k)": 8.64
         },
         {
          "number of bacteria": 547001.2540396146,
          "time (units of 1/k)": 8.65
         },
         {
          "number of bacteria": 552471.2665800108,
          "time (units of 1/k)": 8.66
         },
         {
          "number of bacteria": 557995.9792458109,
          "time (units of 1/k)": 8.67
         },
         {
          "number of bacteria": 563575.939038269,
          "time (units of 1/k)": 8.68
         },
         {
          "number of bacteria": 569211.6984286517,
          "time (units of 1/k)": 8.69
         },
         {
          "number of bacteria": 574903.8154129381,
          "time (units of 1/k)": 8.700000000000001
         },
         {
          "number of bacteria": 580652.8535670675,
          "time (units of 1/k)": 8.71
         },
         {
          "number of bacteria": 586459.3821027383,
          "time (units of 1/k)": 8.72
         },
         {
          "number of bacteria": 592323.9759237657,
          "time (units of 1/k)": 8.73
         },
         {
          "number of bacteria": 598247.2156830033,
          "time (units of 1/k)": 8.74
         },
         {
          "number of bacteria": 604229.6878398333,
          "time (units of 1/k)": 8.75
         },
         {
          "number of bacteria": 610271.9847182316,
          "time (units of 1/k)": 8.76
         },
         {
          "number of bacteria": 616374.7045654139,
          "time (units of 1/k)": 8.77
         },
         {
          "number of bacteria": 622538.451611068,
          "time (units of 1/k)": 8.78
         },
         {
          "number of bacteria": 628763.8361271786,
          "time (units of 1/k)": 8.790000000000001
         },
         {
          "number of bacteria": 635051.4744884504,
          "time (units of 1/k)": 8.8
         },
         {
          "number of bacteria": 641401.9892333349,
          "time (units of 1/k)": 8.81
         },
         {
          "number of bacteria": 647816.0091256682,
          "time (units of 1/k)": 8.82
         },
         {
          "number of bacteria": 654294.1692169249,
          "time (units of 1/k)": 8.83
         },
         {
          "number of bacteria": 660837.1109090942,
          "time (units of 1/k)": 8.84
         },
         {
          "number of bacteria": 667445.4820181852,
          "time (units of 1/k)": 8.85
         },
         {
          "number of bacteria": 674119.936838367,
          "time (units of 1/k)": 8.86
         },
         {
          "number of bacteria": 680861.1362067506,
          "time (units of 1/k)": 8.870000000000001
         },
         {
          "number of bacteria": 687669.7475688182,
          "time (units of 1/k)": 8.88
         },
         {
          "number of bacteria": 694546.4450445063,
          "time (units of 1/k)": 8.89
         },
         {
          "number of bacteria": 701491.9094949514,
          "time (units of 1/k)": 8.9
         },
         {
          "number of bacteria": 708506.8285899009,
          "time (units of 1/k)": 8.91
         },
         {
          "number of bacteria": 715591.8968757999,
          "time (units of 1/k)": 8.92
         },
         {
          "number of bacteria": 722747.8158445578,
          "time (units of 1/k)": 8.93
         },
         {
          "number of bacteria": 729975.2940030034,
          "time (units of 1/k)": 8.94
         },
         {
          "number of bacteria": 737275.0469430335,
          "time (units of 1/k)": 8.950000000000001
         },
         {
          "number of bacteria": 744647.7974124638,
          "time (units of 1/k)": 8.96
         },
         {
          "number of bacteria": 752094.2753865884,
          "time (units of 1/k)": 8.97
         },
         {
          "number of bacteria": 759615.2181404543,
          "time (units of 1/k)": 8.98
         },
         {
          "number of bacteria": 767211.3703218588,
          "time (units of 1/k)": 8.99
         },
         {
          "number of bacteria": 774883.4840250774,
          "time (units of 1/k)": 9
         },
         {
          "number of bacteria": 782632.3188653282,
          "time (units of 1/k)": 9.01
         },
         {
          "number of bacteria": 790458.6420539815,
          "time (units of 1/k)": 9.02
         },
         {
          "number of bacteria": 798363.2284745213,
          "time (units of 1/k)": 9.03
         },
         {
          "number of bacteria": 806346.8607592665,
          "time (units of 1/k)": 9.040000000000001
         },
         {
          "number of bacteria": 814410.3293668592,
          "time (units of 1/k)": 9.05
         },
         {
          "number of bacteria": 822554.4326605278,
          "time (units of 1/k)": 9.06
         },
         {
          "number of bacteria": 830779.976987133,
          "time (units of 1/k)": 9.07
         },
         {
          "number of bacteria": 839087.7767570043,
          "time (units of 1/k)": 9.08
         },
         {
          "number of bacteria": 847478.6545245744,
          "time (units of 1/k)": 9.09
         },
         {
          "number of bacteria": 855953.4410698202,
          "time (units of 1/k)": 9.1
         },
         {
          "number of bacteria": 864512.9754805184,
          "time (units of 1/k)": 9.11
         },
         {
          "number of bacteria": 873158.1052353237,
          "time (units of 1/k)": 9.120000000000001
         },
         {
          "number of bacteria": 881889.6862876769,
          "time (units of 1/k)": 9.13
         },
         {
          "number of bacteria": 890708.5831505536,
          "time (units of 1/k)": 9.14
         },
         {
          "number of bacteria": 899615.6689820591,
          "time (units of 1/k)": 9.15
         },
         {
          "number of bacteria": 908611.8256718797,
          "time (units of 1/k)": 9.16
         },
         {
          "number of bacteria": 917697.9439285985,
          "time (units of 1/k)": 9.17
         },
         {
          "number of bacteria": 926874.9233678845,
          "time (units of 1/k)": 9.18
         },
         {
          "number of bacteria": 936143.6726015633,
          "time (units of 1/k)": 9.19
         },
         {
          "number of bacteria": 945505.1093275789,
          "time (units of 1/k)": 9.200000000000001
         },
         {
          "number of bacteria": 954960.1604208547,
          "time (units of 1/k)": 9.21
         },
         {
          "number of bacteria": 964509.7620250633,
          "time (units of 1/k)": 9.22
         },
         {
          "number of bacteria": 974154.8596453139,
          "time (units of 1/k)": 9.23
         },
         {
          "number of bacteria": 983896.4082417671,
          "time (units of 1/k)": 9.24
         },
         {
          "number of bacteria": 993735.3723241847,
          "time (units of 1/k)": 9.25
         },
         {
          "number of bacteria": 1003672.7260474266,
          "time (units of 1/k)": 9.26
         },
         {
          "number of bacteria": 1013709.4533079008,
          "time (units of 1/k)": 9.27
         },
         {
          "number of bacteria": 1023846.5478409798,
          "time (units of 1/k)": 9.28
         },
         {
          "number of bacteria": 1034085.0133193895,
          "time (units of 1/k)": 9.290000000000001
         },
         {
          "number of bacteria": 1044425.8634525834,
          "time (units of 1/k)": 9.3
         },
         {
          "number of bacteria": 1054870.1220871094,
          "time (units of 1/k)": 9.31
         },
         {
          "number of bacteria": 1065418.8233079806,
          "time (units of 1/k)": 9.32
         },
         {
          "number of bacteria": 1076073.0115410604,
          "time (units of 1/k)": 9.33
         },
         {
          "number of bacteria": 1086833.741656471,
          "time (units of 1/k)": 9.34
         },
         {
          "number of bacteria": 1097702.0790730359,
          "time (units of 1/k)": 9.35
         },
         {
          "number of bacteria": 1108679.0998637662,
          "time (units of 1/k)": 9.36
         },
         {
          "number of bacteria": 1119765.890862404,
          "time (units of 1/k)": 9.370000000000001
         },
         {
          "number of bacteria": 1130963.5497710279,
          "time (units of 1/k)": 9.38
         },
         {
          "number of bacteria": 1142273.185268738,
          "time (units of 1/k)": 9.39
         },
         {
          "number of bacteria": 1153695.9171214255,
          "time (units of 1/k)": 9.4
         },
         {
          "number of bacteria": 1165232.8762926396,
          "time (units of 1/k)": 9.41
         },
         {
          "number of bacteria": 1176885.205055566,
          "time (units of 1/k)": 9.42
         },
         {
          "number of bacteria": 1188654.0571061217,
          "time (units of 1/k)": 9.43
         },
         {
          "number of bacteria": 1200540.5976771829,
          "time (units of 1/k)": 9.44
         },
         {
          "number of bacteria": 1212546.0036539547,
          "time (units of 1/k)": 9.450000000000001
         },
         {
          "number of bacteria": 1224671.4636904942,
          "time (units of 1/k)": 9.46
         },
         {
          "number of bacteria": 1236918.178327399,
          "time (units of 1/k)": 9.47
         },
         {
          "number of bacteria": 1249287.3601106731,
          "time (units of 1/k)": 9.48
         },
         {
          "number of bacteria": 1261780.2337117798,
          "time (units of 1/k)": 9.49
         },
         {
          "number of bacteria": 1274398.0360488975,
          "time (units of 1/k)": 9.5
         },
         {
          "number of bacteria": 1287142.0164093864,
          "time (units of 1/k)": 9.51
         },
         {
          "number of bacteria": 1300013.4365734803,
          "time (units of 1/k)": 9.52
         },
         {
          "number of bacteria": 1313013.5709392151,
          "time (units of 1/k)": 9.53
         },
         {
          "number of bacteria": 1326143.7066486073,
          "time (units of 1/k)": 9.540000000000001
         },
         {
          "number of bacteria": 1339405.1437150934,
          "time (units of 1/k)": 9.55
         },
         {
          "number of bacteria": 1352799.1951522443,
          "time (units of 1/k)": 9.56
         },
         {
          "number of bacteria": 1366327.1871037667,
          "time (units of 1/k)": 9.57
         },
         {
          "number of bacteria": 1379990.4589748045,
          "time (units of 1/k)": 9.58
         },
         {
          "number of bacteria": 1393790.3635645525,
          "time (units of 1/k)": 9.59
         },
         {
          "number of bacteria": 1407728.267200198,
          "time (units of 1/k)": 9.6
         },
         {
          "number of bacteria": 1421805.5498722,
          "time (units of 1/k)": 9.61
         },
         {
          "number of bacteria": 1436023.605370922,
          "time (units of 1/k)": 9.620000000000001
         },
         {
          "number of bacteria": 1450383.8414246312,
          "time (units of 1/k)": 9.63
         },
         {
          "number of bacteria": 1464887.6798388774,
          "time (units of 1/k)": 9.64
         },
         {
          "number of bacteria": 1479536.5566372662,
          "time (units of 1/k)": 9.65
         },
         {
          "number of bacteria": 1494331.9222036388,
          "time (units of 1/k)": 9.66
         },
         {
          "number of bacteria": 1509275.241425675,
          "time (units of 1/k)": 9.67
         },
         {
          "number of bacteria": 1524367.993839932,
          "time (units of 1/k)": 9.68
         },
         {
          "number of bacteria": 1539611.6737783311,
          "time (units of 1/k)": 9.69
         },
         {
          "number of bacteria": 1555007.7905161146,
          "time (units of 1/k)": 9.700000000000001
         },
         {
          "number of bacteria": 1570557.8684212756,
          "time (units of 1/k)": 9.71
         },
         {
          "number of bacteria": 1586263.4471054883,
          "time (units of 1/k)": 9.72
         },
         {
          "number of bacteria": 1602126.0815765432,
          "time (units of 1/k)": 9.73
         },
         {
          "number of bacteria": 1618147.3423923086,
          "time (units of 1/k)": 9.74
         },
         {
          "number of bacteria": 1634328.8158162318,
          "time (units of 1/k)": 9.75
         },
         {
          "number of bacteria": 1650672.103974394,
          "time (units of 1/k)": 9.76
         },
         {
          "number of bacteria": 1667178.825014138,
          "time (units of 1/k)": 9.77
         },
         {
          "number of bacteria": 1683850.6132642792,
          "time (units of 1/k)": 9.78
         },
         {
          "number of bacteria": 1700689.119396922,
          "time (units of 1/k)": 9.790000000000001
         },
         {
          "number of bacteria": 1717696.0105908911,
          "time (units of 1/k)": 9.8
         },
         {
          "number of bacteria": 1734872.9706968,
          "time (units of 1/k)": 9.81
         },
         {
          "number of bacteria": 1752221.7004037679,
          "time (units of 1/k)": 9.82
         },
         {
          "number of bacteria": 1769743.9174078056,
          "time (units of 1/k)": 9.83
         },
         {
          "number of bacteria": 1787441.3565818835,
          "time (units of 1/k)": 9.84
         },
         {
          "number of bacteria": 1805315.7701477024,
          "time (units of 1/k)": 9.85
         },
         {
          "number of bacteria": 1823368.9278491794,
          "time (units of 1/k)": 9.86
         },
         {
          "number of bacteria": 1841602.6171276711,
          "time (units of 1/k)": 9.870000000000001
         },
         {
          "number of bacteria": 1860018.643298948,
          "time (units of 1/k)": 9.88
         },
         {
          "number of bacteria": 1878618.8297319375,
          "time (units of 1/k)": 9.89
         },
         {
          "number of bacteria": 1897405.018029257,
          "time (units of 1/k)": 9.9
         },
         {
          "number of bacteria": 1916379.0682095494,
          "time (units of 1/k)": 9.91
         },
         {
          "number of bacteria": 1935542.858891645,
          "time (units of 1/k)": 9.92
         },
         {
          "number of bacteria": 1954898.2874805615,
          "time (units of 1/k)": 9.93
         },
         {
          "number of bacteria": 1974447.270355367,
          "time (units of 1/k)": 9.94
         },
         {
          "number of bacteria": 1994191.7430589208,
          "time (units of 1/k)": 9.950000000000001
         },
         {
          "number of bacteria": 2014133.66048951,
          "time (units of 1/k)": 9.96
         },
         {
          "number of bacteria": 2034274.9970944051,
          "time (units of 1/k)": 9.97
         },
         {
          "number of bacteria": 2054617.7470653492,
          "time (units of 1/k)": 9.98
         },
         {
          "number of bacteria": 2075163.9245360028,
          "time (units of 1/k)": 9.99
         }
        ]
       },
       "encoding": {
        "order": {
         "field": "time (units of 1/k)",
         "type": "quantitative"
        },
        "x": {
         "field": "time (units of 1/k)",
         "type": "quantitative"
        },
        "y": {
         "field": "number of bacteria",
         "type": "quantitative"
        }
       },
       "mark": "line"
      },
      "image/png": "[encoded data removed]",
      "text/plain": [
       "<VegaLite 2 object>\n",
       "\n",
       "If you see this message, it means the renderer has not been properly enabled\n",
       "for the frontend that you are using. For more information, see\n",
       "https://altair-viz.github.io/user_guide/troubleshooting.html\n"
      ]
     },
     "execution_count": 3,
     "metadata": {},
     "output_type": "execute_result"
    }
   ],
   "source": [
    "# Data frame for plotting\n",
    "df = pd.DataFrame({'time (units of 1/k)': t,\n",
    "                   'number of bacteria': n})\n",
    "\n",
    "alt.Chart(df\n",
    "    ).mark_line(\n",
    "    ).encode(\n",
    "        x='time (units of 1/k):Q',\n",
    "        y='number of bacteria:Q',\n",
    "        order='time (units of 1/k):Q'\n",
    "    )"
   ]
  },
  {
   "cell_type": "markdown",
   "metadata": {},
   "source": [
    "And there is the famous exponential growth!\n",
    "\n",
    "This time stepping method is called [Euler's method](https://en.wikipedia.org/wiki/Euler_method), and what we're doing is called *numerical solution of a differential equation*.\n",
    "\n",
    "**a)** Now it's time to simulate the Lotka-Volterra model. Since predator and prey both begin with \"p,\" we'll call the predators foxes ($f$) and the prey rabbits ($r$). The differential equation describing the dynamics of the rabbit population is\n",
    "\n",
    "\\begin{align}\n",
    "\\frac{\\mathrm{d}r}{\\mathrm{d}t} = \\alpha r - \\beta f r.\n",
    "\\end{align}\n",
    "\n",
    "The first term at the right hand side is exponential growth, the same you would expect for a growing bacterial colony. The second term is killing off due to predation. If $f$ is large, more rabbits get hunted down.\n",
    "\n",
    "The differential equation describing the dynamics of the fox population is\n",
    "\n",
    "\\begin{align}\n",
    "\\frac{\\mathrm{d}f}{\\mathrm{d}t} = \\delta f r - \\gamma f.\n",
    "\\end{align}\n",
    "\n",
    "The first term represents growth in the fox population by consumption of rabbits. The second term is the natural die-off of foxes.\n",
    "\n",
    "Your task in this exercise is to numerically solve these two differential equations together and then plot the result. Use the following parameter values\n",
    "\n",
    "    alpha = 1\n",
    "    beta = 0.2\n",
    "    delta = 0.3\n",
    "    gamma = 0.8\n",
    "    delta_t = 0.001\n",
    "    t = np.arange(0, 60, delta_t)\n",
    "    r[0] = 10\n",
    "    f[0] = 1\n",
    "\n",
    "Even though there are now two differential equations, the procedure is the same, you update each by adding $\\Delta t$ times the respective derivative.\n",
    "\n",
    "When you plot the result, does it make sense?\n",
    "\n",
    "**b)** [Bonus]  Euler's method is probably the simplest way to solve differential equations, and is by no means the best. SciPy has an ODE solver, `scipy.integrate.odeint()` that uses the more sophisticated and robust methods for solving systems of ODEs. Read the documentation about how `scipy.integrate.odeint()` works and use it to solve the Lotka-Volterra system of ODEs.\n",
    "\n",
    "This problem is tough; I'm not giving you directions, and you are kind of on your own to read the documentation and figure it out. It may be useful to read [this tutorial](http://be150.caltech.edu/2018/handouts/intro_to_python_for_systems_biology.html) I wrote to help students solve ODEs that come up in systems biology."
   ]
  },
  {
   "cell_type": "markdown",
   "metadata": {},
   "source": [
    "<br />"
   ]
  },
  {
   "cell_type": "markdown",
   "metadata": {},
   "source": [
    "## Exercise 4.3: Hacker stats on bee sperm data\n",
    "\n",
    "Neonicotinoid pesticides are thought to have inadvertent effects on service-providing insects such as bees. A study of this was [featured in the New York Times](http://www.nytimes.com/2016/07/29/science/neonicotinoid-insecticide-bee-sperm.html) in 2016. The original paper is [Straub, et al.,  Proc. Royal Soc. B 283(1835): 20160506](http://dx.doi.org/10.1098/rspb.2016.0506). Straub and coworkers put their [data in the Dryad repository](http://dx.doi.org/10.5061/dryad.bs515), which means we can work with it!\n",
    "\n",
    "(Do you see a trend here? If you want people to think deeply about your results, explore them, learn from them, further science with them, *make your data publicly available.* Strongly encourage the members of your lab to do the same.)\n",
    "\n",
    "We will look at the weight of drones (male bees) using the data set stored in `~/git/bootcamp/data/bee_weight.csv` and the sperm quality of drone bees using the data set stored in `~/git/bootcamp/data/bee_sperm.csv`.\n",
    "\n",
    "**a)** Load the drone weight data in as a Pandas `DataFrame`.  Note that the unit of the weight is milligrams (mg).\n",
    "\n",
    "**b)** Plot ECDFs of the drone weight for control and also for those exposed to pesticide. Do you think there is a clear difference?\n",
    "\n",
    "**c)** Compute the mean drone weight for control and those exposed to pesticide. Compute 95% bootstrap confidence intervals on the mean.\n",
    "\n",
    "**d)** Repeat parts (a)-(c) for drone sperm. Use the `'Quality'` column as your measure. This is defined as the percent of sperm that are alive in a 500 µL sample.\n",
    "\n",
    "**e)** As you have seen in your analysis in part (d), both the control and pesticide treatments have some outliers with very low sperm quality. This can tug heavily on the mean. So, get 95% bootstrap confidence intervals for the *median* sperm quality of the two treatments."
   ]
  },
  {
   "cell_type": "markdown",
   "metadata": {},
   "source": [
    "<br />"
   ]
  },
  {
   "cell_type": "markdown",
   "metadata": {},
   "source": [
    "## Exercise 4.4: Monte Carlo simulation of transcriptional pausing\n",
    "\n",
    "In this exercise, we will put random number generation to use and do a **Monte Carlo simulation**.  The term Monte Carlo simulation is a broad term describing techniques in which a large number of random numbers are generated to (approximately) calculate properties of probability distributions.  In many cases the analytical form of these distributions is not known, so Monte Carlo methods are a great way to learn about them.\n",
    "\n",
    "Transcription, the process by which DNA is transcribed into RNA, is key process in the central dogma of molecular biology.  RNA polymerase (RNAP) is at the heart of this process.  This amazing machine glides along the DNA template, unzipping it internally, incorporating ribonucleotides at the front, and spitting RNA out the back.  Sometimes, though, the polymerase pauses and then backtracks, pushing the RNA transcript back out the front, as shown in the figure below, taken from Depken, et al., *Biophys. J.*, **96**, 2189-2193, 2009.\n",
    "\n",
    "![Schematic of a pausing RNAP from Depken, et al., *Biophys. J.*, **96**, 2189-2193, 2009](rnap_pause.png)\n",
    "\n",
    "To escape these backtracks, a cleavage enzyme called TFIIS cleaves the bit on RNA hanging out of the front, and the RNAP can then go about its merry way.\n",
    "\n",
    "Researchers have long debated how these backtracks are governed. Single molecule experiments can provide some much needed insight. The groups of [Carlos Bustamante](http://bustamante.berkeley.edu), [Steve Block](https://blocklab.stanford.edu), and [Stephan Grill](http://www.biotec.tu-dresden.de/research/grill/), among others, have investigated the dynamics of RNAP in the absence of TFIIS.  They can measure many individual backtracks and get statistics about how long the backtracks last.\n",
    "\n",
    "One hypothesis is that the backtracks simply consist of diffusive-like motion along the DNA stand.  That is to say, the polymerase can move forward or backward along the strand with equal probability once it is paused.  This is a one-dimensional **random walk**.  So, if we want to test this hypothesis, we would want to know how much time we should expect the RNAP to be in a backtrack so that we could compare to experiment.\n",
    "\n",
    "So, we seek the probability distribution of backtrack times, $P(t_{bt})$, where $t_{bt}$ is the time spent in the backtrack.  We could solve this analytically, which requires some sophisticated mathematics.  But, because we know how to draw random numbers, we can just compute this distribution directly using Monte Carlo simulation!\n",
    "\n",
    "We start at $x = 0$ at time $t = 0$. We \"flip a coin,\" or choose a random number to decide whether we step left or right. We do this again and again, keeping track of how many steps we take and what the $x$ position is. As soon as $x$ becomes positive, we have existed the backtrack.  The total time for a backtrack is then $\\tau n_\\mathrm{steps}$, where $\\tau$ is the time it takes to make a step.  Depken, et al., report that $\\tau \\approx 0.5$ seconds.\n",
    "\n",
    "**a)** Write a function, `backtrack_steps()`, that computes the number of steps it takes for a random walker (i.e., polymerase) starting at position $x = 0$ to get to position $x = +1$. It should return the number of steps to take the walk.\n",
    "\n",
    "**b)** Generate 10,000 of these backtracks in order to get enough samples out of $P(t_\\mathrm{bt})$. (If you are interested in a way to really speed up this calculation, ask me about [Numba](http://numba.pydata.org).)\n",
    "\n",
    "**c)** Plot a histogram of the backtrack times.\n",
    "\n",
    "**d)** You saw some craziness in part (c). That is because, while most backtracks are short, some are reeeally long. So, instead, generate an ECDF of your samples and plot the ECDF with the $x$ axis on a logarithmic scale.\n",
    "\n",
    "**e)** A probability distribution function that obeys a power law has the property\n",
    "\n",
    "\\begin{align}\n",
    "P(t_\\mathrm{bt}) \\propto t_\\mathrm{bt}^{-a}\n",
    "\\end{align}\n",
    "\n",
    "in some part of the distribution, usually for large $t_\\mathrm{bt}$. If this is the case, the cumulative distribution is then\n",
    "\n",
    "\\begin{align}\n",
    "\\mathrm{cdf}(t_\\mathrm{bt}) \\equiv F(t_\\mathrm{bt})= \\int_{-\\infty}^{t_\\mathrm{bt}} \\mathrm{d}t_\\mathrm{bt}'\\,P(t_\\mathrm{bt}') = 1 - \\frac{c}{t_\\mathrm{bt}^{a+1}}, \n",
    "\\end{align}\n",
    "\n",
    "where $c$ is some constant defined by the functional form of $P(t_\\mathrm{bt})$ for small $t_\\mathrm{bt}$ and the normalization condition.  If $F$ is our cumulative histogram, we can check for power law behavior by plotting the complementary cumulative distribution (CCDF), $1 - F$, versus $t_\\mathrm{bt}$.  If a power law is in play, the plot will be linear on a log-log scale with a slope of $-a+1$.\n",
    "\n",
    "Plot the complementary cumulative distribution function from your samples on a log-log plot. If it is linear, then the time to exit a backtrack is a power law.\n",
    "\n",
    "**f)**\n",
    "By doing some mathematical heavy lifting, we know that, in the limit of large $t_{bt}$,\n",
    "\n",
    "\\begin{align}\n",
    "P(t_{bt}) \\propto t_{bt}^{-3/2},\n",
    "\\end{align}\n",
    "\n",
    "so the plot you did in part (e) should have a slope of $-1/2$ on a log-log plot. Is this what you see?\n",
    "\n",
    "**Notes:** The theory to derive the probability distribution is involved.  See, e.g., [this](https://en.wikipedia.org/wiki/First-hitting-time_model).  However, we were able to predict that we would see a great many short backtracks, and then see some very very long backtracks because of the power law distribution of backtrack times.  We were able to do that just by doing a simple Monte Carlo simulation.  There are many problems where the theory is *really* hard, and deriving the distribution is currently impossible, or the probability distribution has such an ugly expression that we can't really work with it.  So, Monte Carlo methods are a powerful tool for generating predictions from simply-stated, but mathematically challenging, hypotheses.\n",
    "\n",
    "Interestingly, many researchers thought (and maybe still do) there were two classes of backtracks: long and short.  There may be, but the hypothesis that the backtrack is a random walk process is commensurate with seeing both very long and very short backtracks."
   ]
  }
 ],
 "metadata": {
  "anaconda-cloud": {},
  "kernelspec": {
   "display_name": "Python 3",
   "language": "python",
   "name": "python3"
  },
  "language_info": {
   "codemirror_mode": {
    "name": "ipython",
    "version": 3
   },
   "file_extension": ".py",
   "mimetype": "text/x-python",
   "name": "python",
   "nbconvert_exporter": "python",
   "pygments_lexer": "ipython3",
   "version": "3.6.5"
  }
 },
 "nbformat": 4,
 "nbformat_minor": 2
}
