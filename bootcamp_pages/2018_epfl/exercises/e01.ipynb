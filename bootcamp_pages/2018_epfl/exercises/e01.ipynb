{
 "cells": [
  {
   "cell_type": "markdown",
   "metadata": {},
   "source": [
    "# Exercise 1\n",
    "\n",
    "(c) 2018 Justin Bois. With the exception of pasted graphics, where the source is noted, this work is licensed under a [Creative Commons Attribution License CC-BY 4.0](https://creativecommons.org/licenses/by/4.0/). All code contained herein is licensed under an [MIT license](https://opensource.org/licenses/MIT).\n",
    "\n",
    "This document was prepared at [Caltech](http://www.caltech.edu) with financial support from the [Donna and Benjamin M. Rosen Bioengineering Center](http://rosen.caltech.edu).\n",
    "\n",
    "<img src=\"caltech_rosen.png\">\n",
    "\n",
    "*This exercise was generated from an Jupyter notebook.  You can download the notebook [here](e01.ipynb).*\n",
    "\n",
    "<br /> <br />"
   ]
  },
  {
   "cell_type": "markdown",
   "metadata": {},
   "source": [
    "## Exercise 1.1: Using string methods\n",
    "\n",
    "In [Lesson 7](../lessons/l07_intro_to_functions.html), we wrote a function to compute the reverse complement of a sequence.  \n",
    "\n",
    "**a)** Write that function again, still using a **`for`** loop, but do not use the built-in `reversed()` function.\n",
    "\n",
    "**b)** Write the function one more time, but without any loops."
   ]
  },
  {
   "cell_type": "markdown",
   "metadata": {},
   "source": [
    "<br />"
   ]
  },
  {
   "cell_type": "markdown",
   "metadata": {},
   "source": [
    "## Exercise 1.2: Longest common substring\n",
    "\n",
    "Write a function that takes two sequences and returns the longest common substring.  A substring is a contiguous portion of a string.  For example:\n",
    "\n",
    "Substrings of `ATGCATAT`:\n",
    "\n",
    "    TGCA\n",
    "    T\n",
    "    TAT\n",
    "    \n",
    "Not substrings of `ATGCATAT`:\n",
    "\n",
    "    AGCA              # Skipped T\n",
    "    CCATA             # Added another C\n",
    "    Hello, world.     # Has nothing to do with the input sequence\n",
    "    \n",
    "There may be more than one longest common substring; you only need to return one of them."
   ]
  },
  {
   "cell_type": "markdown",
   "metadata": {},
   "source": [
    "<br />"
   ]
  },
  {
   "cell_type": "markdown",
   "metadata": {},
   "source": [
    "## Exercise 1.3: RNA secondary structure validator\n",
    "\n",
    "In this problem, we will write a function that takes an RNA sequence and an RNA secondary structure and decides if the secondary structure is possible given the sequence.  Remember, single stranded RNA can fold back on itself and form base pairs.  An RNA secondary structure is simply the list of base pairs that are present.  We will represent the base pairs in dot-parentheses notation.  For example, a sequence/secondary structure pair would be\n",
    "\n",
    "    0123456789\n",
    "    GCAUCUAUGC\n",
    "    (((....)))\n",
    "\n",
    "For convenience of discussion, I have labeled the indices of the bases on the top row.  In this case, base `0`, a `G`, pairs with base `9`, a `C`.  Base `1` pairs with base `8`, and base `2` pairs with base `7`.  Bases `3`, `4`, `5`, and `6` are unpaired.  (This structure is aptly called a \"hairpin.\")\n",
    "\n",
    "I hope the dot-parentheses notation is clear.  An open parenthesis is paired with the parenthesis that closes it.  Dots are unpaired.\n",
    "\n",
    "So, the goal of our function is to check all base pairs present in a secondary structure and see if they are with `G-C`, `A-U`, or (optionally) `G-U`."
   ]
  },
  {
   "cell_type": "markdown",
   "metadata": {},
   "source": [
    "**a)** Write a function to make sure that the number of closed parentheses is equal to the number of open parentheses, a requirement for a valid secondary structure.  It should return `True` if the parentheses are valid and `False` otherwise."
   ]
  },
  {
   "cell_type": "markdown",
   "metadata": {},
   "source": [
    "**b)** Write a function that converts the dot-parens notation to a tuple of 2-tuples representing the base pairs.  We'll call this function `dotparen_to_bp()`.  An example input/output of this function would be:\n",
    "\n",
    "    dotparen_to_bp('(((...)))')\n",
    "    \n",
    "    ((0, 9), (1, 8), (2, 7))\n",
    "    \n",
    "*Hint*: You might find the `pop()` method of lists useful."
   ]
  },
  {
   "cell_type": "markdown",
   "metadata": {},
   "source": [
    "**c)** Because of sterics, the minimal length of a hairpin loop is three bases.  A hairpin loop is a series of unpaired bases that are closed by a base pair.  For example, the secondary structure `(.(....).)` has a single hairpin loop of length 4.  So, the structure `((((..))))` is not valid because it has a hairpin loop of only two bases.\n",
    "\n",
    "Write a function that verifies that a list of base pairs (as outputted by `dotparen_to_bp()`) satisfies the minimal hairpin length requirement."
   ]
  },
  {
   "cell_type": "markdown",
   "metadata": {},
   "source": [
    "**d)** Now write your validator function.  The function definition should look like this:\n",
    "\n",
    "    def rna_ss_validator(seq, sec_struc, wobble=True):\n",
    "    \n",
    "It should return `True` if the sequence is commensurate with a valid secondary structure and `False` otherwise.  The `wobble` keyword argument is `True` if we allow wobble pairs (`G` paired with `U`).  Here are some expected results:\n",
    "\n",
    "Returns `True`:\n",
    "\n",
    "    rna_ss_validator('GCAUCUAUGC', '(((....)))')\n",
    "    rna_ss_validator('GCAUCUAUGU', '(((....)))') \n",
    "    rna_ss_validator('GCAUCUAUGU', '(.(....).)') \n",
    "\n",
    "Returns `False`:\n",
    "\n",
    "    rna_ss_validator('GCAUCUACGC', '(((....)))')\n",
    "    rna_ss_validator('GCAUCUAUGU', '(((....)))', wobble=False) \n",
    "    rna_ss_validator('GCAUCUAUGU', '(.(....)).') \n",
    "    rna_ss_validator('GCCCUUGGCA', '(.((..))).')"
   ]
  },
  {
   "cell_type": "markdown",
   "metadata": {},
   "source": [
    "<br />"
   ]
  },
  {
   "cell_type": "markdown",
   "metadata": {},
   "source": [
    "## Exercise 1.4: Command line exercises\n",
    "\n",
    "In this problem, you will play around with the command line on your machine and get more familiar with it.\n",
    "\n",
    "**a)** Let's play around with some options for the `ls` command. First `cd` into a directory that has some interesting files in it (like `~git/bootcamp/command_line_tutorial`). Try the following if you are using `bash`.\n",
    "\n",
    "    ls -F\n",
    "    ls -G    # Might not be as cool with Git Bash on Windows\n",
    "    ls -l\n",
    "    ls -lh\n",
    "    ls -lS\n",
    "    ls -FGLh\n",
    "    \n",
    "You should be able to infer what these different options do, but you should talk with the TAs as well.\n",
    "\n",
    "Normally, files that begin with a dot (`.`) are omitted when listing things.  They are also generally omitted when you use your OS's GUI-based file handling system (like Finder on Macs).  To see them, use `ls -a`.  So, `cd` into your home directory (you remember how to do that, right?), and then do\n",
    "\n",
    "    ls -a"
   ]
  },
  {
   "cell_type": "markdown",
   "metadata": {},
   "source": [
    "**b)** The nuclear option to delete *everything* in a directory is `rm -rf`.  The `r` means to delete recursively, and the `f` means to \"force\" deletion.  I was going to give you an exercise that uses the nuclear option, but I'm not going to do that.  So, just forget I said anything.  For this part of the problem, I want you to discuss with your neighbor *when* the nuclear option might be used, and what needs to be in place before exercising it."
   ]
  },
  {
   "cell_type": "markdown",
   "metadata": {},
   "source": [
    "**c)** Try doing this if you are using macOS or Linux:\n",
    "\n",
    "    ls /\n",
    "    \n",
    "What is `/`?  Try `cd`-ing there and seeing what's in there.  **Do not delete anything!**"
   ]
  },
  {
   "cell_type": "markdown",
   "metadata": {},
   "source": [
    "<br />"
   ]
  },
  {
   "cell_type": "markdown",
   "metadata": {},
   "source": [
    "## Exercise 1.5: Making your .bashrc file\n",
    "\n",
    "Having a `.bashrc` file allows you to configure your `bash` shell how you like.\n",
    "\n",
    "**a)** Create a `.bashrc` file in your home directory. If you already have a `.bashrc` file, open it up for editing using Jupyter's text editor.\n",
    "\n",
    "**b)** It is often useful to `alias` functions to other functions.  For example, I am always worried I will accidentally delete things by accident.  I therefore have the following line in my `.bashrc` file.\n",
    "\n",
    "    alias rm=\"rm -i\"\n",
    "    \n",
    "You should create aliases for commands like `ls` based on the flags you like to *always* use. Do the same for `rm` and `mv` (I use the `-i` flag with these). To figure out what flags are available, you can look at the `man` pages.  Asking Google will usually give you the information you need on flags.\n",
    "\n",
    "If you like, you can use my `.bashrc` file, available in `~/git/bootcamp/misc/jb_bashrc`.\n",
    "\n",
    "**c)** Depending on your operating system, your `~/.bashrc` file may or may not be properly loaded upon opening a new bash shell. You may, e.g. for new macOS versions, need to explicitly source your `.bashrc` file in your `.bash_profile` file. Therefore, you should add the following to the bottom of your **`.bash_profile` file** (*not* your `.bashrc` file).\n",
    "```bash\n",
    "if [ -f $HOME/.bashrc ]; then\n",
    "    . $HOME/.bashrc\n",
    "fi\n",
    "```"
   ]
  }
 ],
 "metadata": {
  "anaconda-cloud": {},
  "kernelspec": {
   "display_name": "Python 3",
   "language": "python",
   "name": "python3"
  },
  "language_info": {
   "codemirror_mode": {
    "name": "ipython",
    "version": 3
   },
   "file_extension": ".py",
   "mimetype": "text/x-python",
   "name": "python",
   "nbconvert_exporter": "python",
   "pygments_lexer": "ipython3",
   "version": "3.6.6"
  }
 },
 "nbformat": 4,
 "nbformat_minor": 2
}
