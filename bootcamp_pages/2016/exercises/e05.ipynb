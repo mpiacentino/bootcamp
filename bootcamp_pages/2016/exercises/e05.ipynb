{
 "cells": [
  {
   "cell_type": "markdown",
   "metadata": {},
   "source": [
    "# Exercise 5\n",
    "\n",
    "(c) 2016 Justin Bois. This work is licensed under a [Creative Commons Attribution License CC-BY 4.0](https://creativecommons.org/licenses/by/4.0/). All code contained herein is licensed under an [MIT license](https://opensource.org/licenses/MIT).\n",
    "\n",
    "*This exercise was generated from a Jupyter notebook.  You can download the notebook [here](e05.ipynb).*"
   ]
  },
  {
   "cell_type": "markdown",
   "metadata": {},
   "source": [
    "## Problem 5.1: Growth curves from a movie\n",
    "\n",
    "At the dawn of the molecular revolution in biology, key experiments by Jacques Monod in which he measured growth curves of bacteria under different conditions exposed some of the mechanisms of regulation of gene expression.  Those growth curves were measured in a bulk solution..  In this exercise, we will measure bacterial growth starting from a *two bacteria*.  The movie shows *Bacillus subtilis* constitutively expressing mCherry growing under slow growth conditions.  These data were kindly donated by Jin Park from the Elowitz lab here at Caltech.\n",
    "\n",
    "**a)** Load in the series of images contained in the directory `data/bacterial_growth/`. Be sure that however you store them (a list or tuple or other object) has the frames in the proper order."
   ]
  },
  {
   "cell_type": "markdown",
   "metadata": {},
   "source": [
    "**b)** Segment the images to separate bacteria from background.  You do not need to segment individual bacteria; this would likely require some more advanced techniques involving edge detection that we haven't covered in bootcamp."
   ]
  },
  {
   "cell_type": "markdown",
   "metadata": {},
   "source": [
    "**c)** Show a representative image from the stack (with the segmentation overlayed in green) of images with a 10 µm scale bar burned in."
   ]
  },
  {
   "cell_type": "markdown",
   "metadata": {},
   "source": [
    "**d)** Plot a growth curve for this growing colony.  What values should be on the $y$-axis?  (This is one of those times where I ask an open question for which there is no \"right\" answer.)"
   ]
  },
  {
   "cell_type": "markdown",
   "metadata": {},
   "source": [
    "**e)** Perform a regression on this growth curve to estimate the time constant for the exponential growth.  Be sure to check out the `README` file in the directory containing the images to get the appropriate metadata."
   ]
  },
  {
   "cell_type": "markdown",
   "metadata": {},
   "source": [
    "## Exercise 5.2: Filter, extract, rinse, repeat\n",
    "\n",
    "So far we have seen that in a single (very clean) image, we can get somewhere around 20 - 30 well-separated cells in a single 100$\\times$ magnification phase contrast image. However, if you wish to report a mean fluorescence intensity for a single strain, you would certainly want more cells to have a good degree of confidence. Using the principles you learned above, your job will be to report a mean fluorescence value for the HG105 *E. coli* strain using **all** of the images located in `data/HG105_images/`. To do this, you should do the following:\n",
    "\n",
    ">1. Get a list of all of the image files in `data/HG105_images/`.\n",
    "2. Separate them by phase contrast (for segmentation) and FITC (for measurement). \n",
    "3. Iterate through each image file and perform segmentation and fluorescence intensity extraction for each cell. These values should be stored in a NumPy array or Pandas `DataFrame`.  \n",
    "4. Plot a histogram of all extracted fluorescence intensities and report a mean and standard deviation as well as the number of cells you successfully measured. \n",
    "5. Obtain 95% bootstrap confidence intervals for the mean and standard deviation of the fluorescence intensities.\n",
    "\n",
    "As a reminder, the interpixel distance of these images is 0.0636 µm per pixel."
   ]
  },
  {
   "cell_type": "markdown",
   "metadata": {},
   "source": [
    "## Exercise 5.3:  Beak depth and lengths\n",
    "\n",
    "In [Exercise 4](e04.html), you munged and plotted some data on beak widths and depths of Darwin's finches. In this problem, we will work to quantify these data. We will perform a simple analysis in which we perform a linear regression to get the dependence of beak depth on beak length.\n",
    ">1. Perform a linear regression on each of the ten (year-species) pairs. Show your regression line on plots like you make in Exercise 4.\n",
    "2. Comment on the observed slopes and how they change over time.\n",
    "3. Perform any other analysis on the data that you see fit or are curious about."
   ]
  }
 ],
 "metadata": {
  "anaconda-cloud": {},
  "kernelspec": {
   "display_name": "Python [default]",
   "language": "python",
   "name": "python3"
  },
  "language_info": {
   "codemirror_mode": {
    "name": "ipython",
    "version": 3
   },
   "file_extension": ".py",
   "mimetype": "text/x-python",
   "name": "python",
   "nbconvert_exporter": "python",
   "pygments_lexer": "ipython3",
   "version": "3.5.2"
  }
 },
 "nbformat": 4,
 "nbformat_minor": 0
}
