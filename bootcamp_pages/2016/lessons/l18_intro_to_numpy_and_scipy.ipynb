{
 "cells": [
  {
   "cell_type": "markdown",
   "metadata": {},
   "source": [
    "# Lesson 18: Introduction to NumPy and the SciPy stack\n",
    "\n",
    "(c) 2016 Justin Bois. This work is licensed under a [Creative Commons Attribution License CC-BY 4.0](https://creativecommons.org/licenses/by/4.0/). All code contained herein is licensed under an [MIT license](https://opensource.org/licenses/MIT).\n",
    "\n",
    "*This tutorial was generated from a Jupyter notebook.  You can download the notebook [here](l18_numpy_and_scipy.ipynb).*"
   ]
  },
  {
   "cell_type": "code",
   "execution_count": 1,
   "metadata": {
    "collapsed": true
   },
   "outputs": [],
   "source": [
    "# NumPy, the engine of scientific computing\n",
    "import numpy as np\n",
    "\n",
    "# We'll demo a couple SciPy modules\n",
    "import scipy.special"
   ]
  },
  {
   "cell_type": "markdown",
   "metadata": {},
   "source": [
    "In this lesson, we will learn about [**NumPy**](http://www.numpy.org), arguably *the* most important package for scientific computing.  NumPy is part of the [**SciPy stack**](http://www.scipy.org/stackspec.html), a collection of packages for doing various scientific computations. Most of the SciPy stack is built on NumPy and its poweful `ndarray` data type. We will devote the entire next lesson to `ndarray`s, but for now, we will take a brief tour through what NumPy and SciPy offer."
   ]
  },
  {
   "cell_type": "markdown",
   "metadata": {},
   "source": [
    "## The SciPy stack\n",
    "The SciPy stack consists of the following core packages.\n",
    "\n",
    "|Package|Description|\n",
    "|:-----|:-----|\n",
    "|[NumPy](http://www.numpy.org) | Base routines and classes for handling data and numerical calculation|\n",
    "|[SciPy](http://www.scipy.org/) | Expansive set of tools for scientific calculation|\n",
    "|[matplotlib](http://matplotlib.org) | Plotting library |\n",
    "|[IPython](http://ipython.org) | The interactive Python console you already know and love |\n",
    "|[Pandas](http://pandas.pydata.org) | A powerful data analysis library |\n",
    "|[SymPy](http://www.sympy.org/) | Symbolic mathematics library |\n",
    "\n",
    "With the exception of SymPy, we will use all of these extensively in the next few days.  In this lesson, we will show some of the basic features of NumPy and SciPy.\n",
    "\n",
    "Importantly, everything in the SciPy stack is [BSD licensed](https://en.wikipedia.org/wiki/BSD_licenses).  This is a very permissive license, which basically means you can do whatever you want when using the code.  You just need to include the license if you redistribute it.\n",
    "\n",
    "Outside of this SciPy stack are important projects that either are too specific to be included in the monolithic SciPy stack, or are still under active development.  Importantly, this includes [`scikit-image`](http://scikit-image.org), a package for image processing, which we will use later in the course.  The new [`scikit-bio`](http://scikit-bio.org) is still in early stages of development and promises to be excellent (warning, though: it currently does not work with Windows).  [Biopython](http://biopython.org/) is a mature package for parsing data in a bioinformatics context."
   ]
  },
  {
   "cell_type": "markdown",
   "metadata": {},
   "source": [
    "## A very brief introduction to NumPy arrays\n",
    "\n",
    "The central object for NumPy and SciPy is the `ndarray`, commonly referred to as a \"NumPy array.\"  This is an array object that is convenient for scientific computing.  We will go over it in depth in the next lesson, but for now, let's just create some NumPy arrays and see how operators work on them.\n",
    "\n",
    "Just like with type conversions with lists, tuples, and other data types we've looked at, we can convert a list to a NumPy array using\n",
    "\n",
    "    np.array()\n",
    "    \n",
    "Note that above we imported the NumPy package \"**`as`** `np`\".  This is for convenience; it allow us to use `np` as a prefix instead of `numpy`.  NumPy is in **very** widespread use, and the convention is to use the `np` abbreviation."
   ]
  },
  {
   "cell_type": "code",
   "execution_count": 2,
   "metadata": {
    "collapsed": false
   },
   "outputs": [
    {
     "data": {
      "text/plain": [
       "array([1, 2, 3, 4])"
      ]
     },
     "execution_count": 2,
     "metadata": {},
     "output_type": "execute_result"
    }
   ],
   "source": [
    "# Create a NumPy array from a list\n",
    "my_ar = np.array([1, 2, 3, 4])\n",
    "\n",
    "# Look at it\n",
    "my_ar"
   ]
  },
  {
   "cell_type": "markdown",
   "metadata": {},
   "source": [
    "We see that the list has been converted, and it is explicitly shown as an array.  It has several attributes and lots of methods.  The most important attributes are probably the data type of its elements and the shape of the array."
   ]
  },
  {
   "cell_type": "code",
   "execution_count": 3,
   "metadata": {
    "collapsed": false
   },
   "outputs": [
    {
     "data": {
      "text/plain": [
       "dtype('int64')"
      ]
     },
     "execution_count": 3,
     "metadata": {},
     "output_type": "execute_result"
    }
   ],
   "source": [
    "# The data type of stored entries\n",
    "my_ar.dtype"
   ]
  },
  {
   "cell_type": "code",
   "execution_count": 4,
   "metadata": {
    "collapsed": false
   },
   "outputs": [
    {
     "data": {
      "text/plain": [
       "(4,)"
      ]
     },
     "execution_count": 4,
     "metadata": {},
     "output_type": "execute_result"
    }
   ],
   "source": [
    "# The shape of the array\n",
    "my_ar.shape"
   ]
  },
  {
   "cell_type": "markdown",
   "metadata": {},
   "source": [
    "There are also lots of methods.  The one I use most often is `astype()`, which converts the data type of the array."
   ]
  },
  {
   "cell_type": "code",
   "execution_count": 5,
   "metadata": {
    "collapsed": false
   },
   "outputs": [
    {
     "data": {
      "text/plain": [
       "array([ 1.,  2.,  3.,  4.])"
      ]
     },
     "execution_count": 5,
     "metadata": {},
     "output_type": "execute_result"
    }
   ],
   "source": [
    "my_ar.astype(float)"
   ]
  },
  {
   "cell_type": "code",
   "execution_count": 6,
   "metadata": {
    "collapsed": false
   },
   "outputs": [
    {
     "name": "stdout",
     "output_type": "stream",
     "text": [
      "4\n",
      "1\n",
      "10\n",
      "2.5\n",
      "1.11803398875\n"
     ]
    }
   ],
   "source": [
    "print(my_ar.max())\n",
    "print(my_ar.min())\n",
    "print(my_ar.sum())\n",
    "print(my_ar.mean())\n",
    "print(my_ar.std())"
   ]
  },
  {
   "cell_type": "markdown",
   "metadata": {},
   "source": [
    "Importantly, NumPy arrays can be arguments to NumPy functions."
   ]
  },
  {
   "cell_type": "code",
   "execution_count": 7,
   "metadata": {
    "collapsed": false
   },
   "outputs": [
    {
     "name": "stdout",
     "output_type": "stream",
     "text": [
      "4\n",
      "1\n",
      "10\n",
      "2.5\n",
      "1.11803398875\n"
     ]
    }
   ],
   "source": [
    "print(np.max(my_ar))\n",
    "print(np.min(my_ar))\n",
    "print(np.sum(my_ar))\n",
    "print(np.mean(my_ar))\n",
    "print(np.std(my_ar))"
   ]
  },
  {
   "cell_type": "markdown",
   "metadata": {},
   "source": [
    "## Other ways to make NumPy arrays\n",
    "\n",
    "There are many other ways to make NumPy arrays besides just converting lists or tuples.  Below are some examples."
   ]
  },
  {
   "cell_type": "code",
   "execution_count": 8,
   "metadata": {
    "collapsed": false
   },
   "outputs": [
    {
     "data": {
      "text/plain": [
       "array([ 0.,  0.,  0.,  0.,  0.,  0.,  0.,  0.,  0.,  0.])"
      ]
     },
     "execution_count": 8,
     "metadata": {},
     "output_type": "execute_result"
    }
   ],
   "source": [
    "# How long our arrays will be\n",
    "n = 10\n",
    "\n",
    "# Make a NumPy array of length n filled with zeros\n",
    "np.zeros(n)"
   ]
  },
  {
   "cell_type": "code",
   "execution_count": 9,
   "metadata": {
    "collapsed": false
   },
   "outputs": [
    {
     "data": {
      "text/plain": [
       "array([ 1.,  1.,  1.,  1.,  1.,  1.,  1.,  1.,  1.,  1.])"
      ]
     },
     "execution_count": 9,
     "metadata": {},
     "output_type": "execute_result"
    }
   ],
   "source": [
    "# Make a NumPy array of length n filled with ones\n",
    "np.ones(n)"
   ]
  },
  {
   "cell_type": "code",
   "execution_count": 10,
   "metadata": {
    "collapsed": false
   },
   "outputs": [
    {
     "data": {
      "text/plain": [
       "array([ 0.,  0.,  0.,  0.,  0.,  0.,  0.,  0.,  0.,  0.])"
      ]
     },
     "execution_count": 10,
     "metadata": {},
     "output_type": "execute_result"
    }
   ],
   "source": [
    "# Make an empty NumPy array of length n without initializing entries\n",
    "# (while it initially holds whatever values were previously in the memory\n",
    "# locations assigned, zeros will be displayed)\n",
    "np.empty(n)"
   ]
  },
  {
   "cell_type": "code",
   "execution_count": 11,
   "metadata": {
    "collapsed": false
   },
   "outputs": [
    {
     "data": {
      "text/plain": [
       "array([[0, 0],\n",
       "       [0, 0]])"
      ]
     },
     "execution_count": 11,
     "metadata": {},
     "output_type": "execute_result"
    }
   ],
   "source": [
    "# Make a NumPy array filled with zeros the same shape as another NumPy array\n",
    "my_ar = np.array([[1, 2], [3, 4]])\n",
    "np.zeros_like(my_ar)"
   ]
  },
  {
   "cell_type": "markdown",
   "metadata": {},
   "source": [
    "## NumPy has useful mathematical functions\n",
    "\n",
    "So far, we have not done much mathematics with Python.  We have done some adding and division, but nothing like computing a logarithm, cosine, or even square roots.  The NumPy functions also work elementwise on the arrays when it is intuitive to do so. That is, they apply the function to each entry in the array. Check it out!"
   ]
  },
  {
   "cell_type": "code",
   "execution_count": 12,
   "metadata": {
    "collapsed": false
   },
   "outputs": [
    {
     "data": {
      "text/plain": [
       "array([  2.71828183,   7.3890561 ,  20.08553692,  54.59815003])"
      ]
     },
     "execution_count": 12,
     "metadata": {},
     "output_type": "execute_result"
    }
   ],
   "source": [
    "my_ar = np.array([1, 2, 3, 4])\n",
    "\n",
    "# Exponential\n",
    "np.exp(my_ar)"
   ]
  },
  {
   "cell_type": "code",
   "execution_count": 13,
   "metadata": {
    "collapsed": false
   },
   "outputs": [
    {
     "data": {
      "text/plain": [
       "array([ 0.54030231, -0.41614684, -0.9899925 , -0.65364362])"
      ]
     },
     "execution_count": 13,
     "metadata": {},
     "output_type": "execute_result"
    }
   ],
   "source": [
    "# Cosine\n",
    "np.cos(my_ar)"
   ]
  },
  {
   "cell_type": "code",
   "execution_count": 14,
   "metadata": {
    "collapsed": false
   },
   "outputs": [
    {
     "data": {
      "text/plain": [
       "array([ 1.        ,  1.41421356,  1.73205081,  2.        ])"
      ]
     },
     "execution_count": 14,
     "metadata": {},
     "output_type": "execute_result"
    }
   ],
   "source": [
    "# Square root\n",
    "np.sqrt(my_ar)"
   ]
  },
  {
   "cell_type": "markdown",
   "metadata": {},
   "source": [
    "We can even do some matrix operations (which are obviously not done elementwise), like dot products."
   ]
  },
  {
   "cell_type": "code",
   "execution_count": 15,
   "metadata": {
    "collapsed": false
   },
   "outputs": [
    {
     "data": {
      "text/plain": [
       "30"
      ]
     },
     "execution_count": 15,
     "metadata": {},
     "output_type": "execute_result"
    }
   ],
   "source": [
    "np.dot(my_ar, my_ar)"
   ]
  },
  {
   "cell_type": "markdown",
   "metadata": {},
   "source": [
    "NumPy also has useful attributes, like `np.pi`."
   ]
  },
  {
   "cell_type": "code",
   "execution_count": 16,
   "metadata": {
    "collapsed": false
   },
   "outputs": [
    {
     "data": {
      "text/plain": [
       "3.141592653589793"
      ]
     },
     "execution_count": 16,
     "metadata": {},
     "output_type": "execute_result"
    }
   ],
   "source": [
    "np.pi"
   ]
  },
  {
   "cell_type": "markdown",
   "metadata": {},
   "source": [
    "## SciPy has even more useful functions (in modules)\n",
    "\n",
    "SciPy actually began life as a library of special functions that operate on NumPy arrays.  For example, we can compute an error function using the `scipy.special` module, which contains lots of special functions.  Note that you often have to individually import the SciPy module you want to use, for example with\n",
    "   \n",
    "    import scipy.special"
   ]
  },
  {
   "cell_type": "code",
   "execution_count": 17,
   "metadata": {
    "collapsed": false
   },
   "outputs": [
    {
     "data": {
      "text/plain": [
       "array([ 0.84270079,  0.99532227,  0.99997791,  0.99999998])"
      ]
     },
     "execution_count": 17,
     "metadata": {},
     "output_type": "execute_result"
    }
   ],
   "source": [
    "scipy.special.erf(my_ar)"
   ]
  },
  {
   "cell_type": "markdown",
   "metadata": {},
   "source": [
    "## NumPy and SciPy are highly optimized\n",
    "\n",
    "Importantly, NumPy and SciPy routines are often *fast*.  To understand why, we need to think a bit about how your computer actually runs code you write."
   ]
  },
  {
   "cell_type": "markdown",
   "metadata": {},
   "source": [
    "### Interpreted and compiled languages\n",
    "\n",
    "We have touched on the fact that Python is an **interpreted language**.  This means that the Python interpreter reads through your code, line by line, translates the commands into instructions that your computer's processor can execute, and then these are executed.  As an interpreted language, code is often much easier to write, and development time is much shorter.  It is often easier to debug.  By contrast, with **compiled languages** (the dominant ones being Fortran, C, and C++), your entire source code is translated into machine code before you ever run it.  When you execute your program, it is already in machine code.  As a result, compiled code is often much faster than interpreted code.  The speed difference depends largely on the task at hand, but there is usually over a 100 to 1000-fold difference.\n",
    "\n",
    "First, we'll demonstrate the difference between compiled and interpreted languages by looking at a function to sum the elements of an array.  Note that Python is [dynamically typed](http://stackoverflow.com/a/34004445/2320823), so the function below works for multiple data types, but the C function works only for [double precision floating point](https://en.wikipedia.org/wiki/Double-precision_floating-point_format) numbers."
   ]
  },
  {
   "cell_type": "code",
   "execution_count": 18,
   "metadata": {
    "collapsed": false
   },
   "outputs": [
    {
     "name": "stdout",
     "output_type": "stream",
     "text": [
      "10\n"
     ]
    }
   ],
   "source": [
    "# Python code to sum an array and print the result to the screen\n",
    "print(sum(my_ar))"
   ]
  },
  {
   "cell_type": "markdown",
   "metadata": {},
   "source": [
    "```C\n",
    "/* C code to sum an array and print the result to the screen */\n",
    "\n",
    "#include <stdio.h>\n",
    "\n",
    "void sum_array(double a[], int n);\n",
    "\n",
    "void sum_array(double a[], int n) {\n",
    "   int i; \n",
    "   double sum=0;\n",
    "   for (i = 0; i < n; i++){\n",
    "       sum += a[i];\n",
    "   }\n",
    "   printf(\"%g\\n\", sum);\n",
    "}\n",
    "```"
   ]
  },
  {
   "cell_type": "markdown",
   "metadata": {},
   "source": [
    "The C code won't even execute without another function called `main` to call it.  You should notice the difference in complexity of the code.  Interpreted code is very often much easier to write!"
   ]
  },
  {
   "cell_type": "markdown",
   "metadata": {},
   "source": [
    "### NumPy and SciPy use compiled code!\n",
    "\n",
    "Under the hood, when you call a NumPy or SciPy function, or use one of the methods, the Python interpreter passes the arrays into pre-compiled functions.  (They are usually C or Fortran functions.)  That means that you get to use an interpreted language with near-compiled speed!  We can demonstrate the speed by comparing an explicit sum of elements of an array using a Python **`for`** loop versus NumPy.  We will use the `np.random` module to generate a large array of random numbers (we will visit random number generation in a coming lesson).  We then use the `%timeit` magic function of IPython to time the execution of the sum of the elements of the array."
   ]
  },
  {
   "cell_type": "code",
   "execution_count": 43,
   "metadata": {
    "collapsed": false
   },
   "outputs": [
    {
     "name": "stdout",
     "output_type": "stream",
     "text": [
      "1000 loops, best of 3: 1.13 ms per loop\n"
     ]
    }
   ],
   "source": [
    "# Make array of 10,000 random numbers\n",
    "x = np.random.random(10000)\n",
    "\n",
    "# Sum with Python for loop\n",
    "def python_sum(x):\n",
    "    x_sum = 0.0\n",
    "    for y in x:\n",
    "        x_sum += y\n",
    "    return x_sum\n",
    "\n",
    "# Test speed\n",
    "%timeit python_sum(x)"
   ]
  },
  {
   "cell_type": "markdown",
   "metadata": {},
   "source": [
    "Now we'll do the same test with the NumPy implementation."
   ]
  },
  {
   "cell_type": "code",
   "execution_count": 45,
   "metadata": {
    "collapsed": false
   },
   "outputs": [
    {
     "name": "stdout",
     "output_type": "stream",
     "text": [
      "The slowest run took 7.48 times longer than the fastest. This could mean that an intermediate result is being cached.\n",
      "100000 loops, best of 3: 6.77 µs per loop\n"
     ]
    }
   ],
   "source": [
    "%timeit np.sum(x)"
   ]
  },
  {
   "cell_type": "markdown",
   "metadata": {},
   "source": [
    "Wow!  We went from 1 millisecond to 6 *micro*seconds!  That's a factor of about 170!"
   ]
  },
  {
   "cell_type": "markdown",
   "metadata": {},
   "source": [
    "## Word of advice: use NumPy and SciPy\n",
    "\n",
    "If you are writing code and you think to yourself, \"This seems like a pretty common things to do,\" there is a good chance the someone really smart has written code to do it.  If it's something numerical, there is a good chance it is in NumPy or SciPy.  **Use these packages.** Do not reinvent the wheel.  It is very rare you can beat them for performance, error checking, etc.\n",
    "\n",
    "Furthermore, NumPy and SciPy are very well unit tested (we will discuss this in the [Test Driven Development](l35_testing_and_tdd.html) lesson).  In general, you do not need to write unit tests for well-established packages.  Obviously, if you use NumPy or SciPy within your own functions, you still need to unit test what you wrote."
   ]
  }
 ],
 "metadata": {
  "anaconda-cloud": {},
  "kernelspec": {
   "display_name": "Python [default]",
   "language": "python",
   "name": "python3"
  },
  "language_info": {
   "codemirror_mode": {
    "name": "ipython",
    "version": 3
   },
   "file_extension": ".py",
   "mimetype": "text/x-python",
   "name": "python",
   "nbconvert_exporter": "python",
   "pygments_lexer": "ipython3",
   "version": "3.5.2"
  }
 },
 "nbformat": 4,
 "nbformat_minor": 0
}
