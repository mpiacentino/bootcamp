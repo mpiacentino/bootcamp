{
 "cells": [
  {
   "cell_type": "markdown",
   "metadata": {},
   "source": [
    "# Lesson 10: Packages and modules\n",
    "\n",
    "(c) 2016 Justin Bois. This work is licensed under a [Creative Commons Attribution License CC-BY 4.0](https://creativecommons.org/licenses/by/4.0/). All code contained herein is licensed under an [MIT license](https://opensource.org/licenses/MIT).\n",
    "\n",
    "*This tutorial was generated from a Jupyter notebook.  You can download the notebook [here](l12_packages_and_modules.ipynb).*"
   ]
  },
  {
   "cell_type": "markdown",
   "metadata": {},
   "source": [
    "The Python Standard Library has lots of built-in **modules** that contain useful functions and data types for doing specific tasks.  You can also use modules that other people write.  And you will undoubtedly write your own modules!\n",
    "\n",
    "A module is contained in a file that ends with `.py`.  This file can have **classes**, functions, and other objects.  We will not discuss defining your own classes in the bootcamp, so your modules will essentially just contain functions.\n",
    "\n",
    "A **package** contains several related modules that are all grouped together under one name.  We will extensively use the [NumPy](http://www.numpy.org), [SciPy](http://www.scipy.org/), [Pandas](http://pandas.pydata.org), and [Matplotlib](http://matplotlib.org) packages, among others, in the bootcamp, and I'm sure you will also use them beyond. As such, the first module we will consider is NumPy. We will talk a **lot** more about NumPy later in the bootcamp."
   ]
  },
  {
   "cell_type": "markdown",
   "metadata": {},
   "source": [
    "## Example: I want to compute the median of a list of numbers\n",
    "\n",
    "Say I have a list of numbers and I want to compute the mean. This happens all the time; you repeat a measurement multiple times and you want to compute the mean. We could write a function to do this. In fact, you did this in the exercises."
   ]
  },
  {
   "cell_type": "code",
   "execution_count": 14,
   "metadata": {
    "collapsed": true
   },
   "outputs": [],
   "source": [
    "def mean(values):\n",
    "    \"\"\"Compute the mean of a sequence of numbers.\"\"\"\n",
    "    return sum(values) / len(values)"
   ]
  },
  {
   "cell_type": "markdown",
   "metadata": {},
   "source": [
    "And it works as expected."
   ]
  },
  {
   "cell_type": "code",
   "execution_count": 19,
   "metadata": {
    "collapsed": false
   },
   "outputs": [
    {
     "name": "stdout",
     "output_type": "stream",
     "text": [
      "3.0\n",
      "3.275\n"
     ]
    }
   ],
   "source": [
    "print(mean([1, 2, 3, 4, 5]))\n",
    "print(mean((4.5, 1.2, -1.6, 9.0)))"
   ]
  },
  {
   "cell_type": "markdown",
   "metadata": {},
   "source": [
    "In addition to the mean, we might also want to compute the median, the standard deviation, etc. These seem like really common tasks. Remember my advice: if you want to do something that seems really common, a good programmer (or a team of them) probably already wrote something to do that. Computing means, medians, standard deviations, and lots and lots and lots of other numerical things are included in the **Numpy module**. To get access to it, we have to **import** it."
   ]
  },
  {
   "cell_type": "code",
   "execution_count": 20,
   "metadata": {
    "collapsed": true
   },
   "outputs": [],
   "source": [
    "import numpy"
   ]
  },
  {
   "cell_type": "markdown",
   "metadata": {},
   "source": [
    "That's it!  We now have the `numpy` module available for use.  Remember, in Python everything is an object, so if we want to access the methods and attributes, available in the `numpy` module, we use dot syntax.  If we're using IPython, we can type\n",
    "\n",
    "    numpy.\n",
    "\n",
    "(note the dot) and hit tab, and we will see what is available. For Numpy, there is a huge number of options!\n",
    "\n",
    "So, let's try to use Numpy's `numpy.mean()` function to compute a mean."
   ]
  },
  {
   "cell_type": "code",
   "execution_count": 21,
   "metadata": {
    "collapsed": false
   },
   "outputs": [
    {
     "name": "stdout",
     "output_type": "stream",
     "text": [
      "3.0\n",
      "3.275\n"
     ]
    }
   ],
   "source": [
    "print(numpy.mean([1, 2, 3, 4, 5]))\n",
    "print(numpy.mean((4.5, 1.2, -1.6, 9.0)))"
   ]
  },
  {
   "cell_type": "markdown",
   "metadata": {},
   "source": [
    "Great! We get the same values! Now, we can use the `numpy.median()` function to compute the median."
   ]
  },
  {
   "cell_type": "code",
   "execution_count": 22,
   "metadata": {
    "collapsed": false
   },
   "outputs": [
    {
     "name": "stdout",
     "output_type": "stream",
     "text": [
      "3.0\n",
      "2.85\n"
     ]
    }
   ],
   "source": [
    "print(numpy.median([1, 2, 3, 4, 5]))\n",
    "print(numpy.median((4.5, 1.2, -1.6, 9.0)))"
   ]
  },
  {
   "cell_type": "markdown",
   "metadata": {},
   "source": [
    "This is nice. It gives the median, including when we have an even number of element in the sequence of numbers, in which case it automatically interpolates."
   ]
  },
  {
   "cell_type": "markdown",
   "metadata": {},
   "source": [
    "## The `as` keyword\n",
    "\n",
    "We use Numpy all the time. Typing `numpy` over and over again can get annoying. So, it is common practice to use the `as` keyword to import a module with an alias. Numpy's alias is traditionally `np`."
   ]
  },
  {
   "cell_type": "code",
   "execution_count": 24,
   "metadata": {
    "collapsed": false
   },
   "outputs": [
    {
     "data": {
      "text/plain": [
       "2.8500000000000001"
      ]
     },
     "execution_count": 24,
     "metadata": {},
     "output_type": "execute_result"
    }
   ],
   "source": [
    "import numpy as np\n",
    "\n",
    "np.median((4.5, 1.2, -1.6, 9.0))"
   ]
  },
  {
   "cell_type": "markdown",
   "metadata": {},
   "source": [
    "I prefer to do things this way, though [some purists differ](http://nbviewer.jupyter.org/github/barbagroup/jupyter-tutorial/blob/master/3--Jupyter%20like%20a%20pro.ipynb). We will use traditional aliases for major packages like SciPy, scikit-image, Matplotlib, Seaborn, and Pandas throughout the bootcamp."
   ]
  },
  {
   "cell_type": "markdown",
   "metadata": {},
   "source": [
    "## Third party packages\n",
    "\n",
    "Standard Python installations come with the standard library. Numpy and other useful packages are not in the standard library. Outside of the standard library, there are several packages available.  Several.  Ha!  There are currently about 88,000 packages available through the [Python Package Index](https://pypi.python.org/pypi), PyPI.  Usually, you can ask Google about what you are trying to do, and there is often a third party module to help you do it.  The most useful (for scientific computing) and thoroughly tested packages and modules are available using `conda`."
   ]
  },
  {
   "cell_type": "markdown",
   "metadata": {},
   "source": [
    "## Writing your own module\n",
    "\n",
    "To write your own module, you need to create a `.py` file a save it.  Let's call our module `dnatorna`.  So, we create a file called `dnatorna.py`.  We'll build this module to have two functions, based on things we've already written.  We'll have a function `rna()`, which converts a DNA sequence to an RNA sequence (just changes `T` to `U`), and another function `reverse_rna_complement()`, which returns the reverse RNA complement of a DNA template.  The contents of `dnatorna` should look as follows (ignoring the first line, which was used to load in the contents of the module into this Jupyter notebook)."
   ]
  },
  {
   "cell_type": "code",
   "execution_count": 27,
   "metadata": {
    "collapsed": true
   },
   "outputs": [],
   "source": [
    "# %load dnatorna.py\n",
    "\"\"\"\n",
    "Convert DNA sequences to RNA.\n",
    "\"\"\"\n",
    "\n",
    "def rna(seq):\n",
    "    \"\"\"\n",
    "    Convert a DNA sequence to RNA.\n",
    "    \"\"\"\n",
    "\n",
    "    # Determine if original sequence was uppercase\n",
    "    seq_upper = seq.isupper()\n",
    "\n",
    "    # Convert to lowercase\n",
    "    seq = seq.lower()\n",
    "\n",
    "    # Swap out 't' for 'u'\n",
    "    seq = seq.replace('t', 'u')\n",
    "\n",
    "    # Return upper or lower case RNA sequence\n",
    "    if seq_upper:\n",
    "        return seq.upper()\n",
    "    else:\n",
    "        return seq\n",
    "\n",
    "\n",
    "def reverse_rna_complement(seq):\n",
    "    \"\"\"\n",
    "    Convert a DNA sequence into its reverse complement as RNA.\n",
    "    \"\"\"\n",
    "\n",
    "    # Determine if original was uppercase\n",
    "    seq_upper = seq.isupper()\n",
    "\n",
    "    # Reverse sequence\n",
    "    seq = seq[::-1]\n",
    "\n",
    "    # Convert to upper\n",
    "    seq = seq.upper()\n",
    "\n",
    "    # Compute complement\n",
    "    seq = seq.replace('A', 'u')\n",
    "    seq = seq.replace('T', 'a')\n",
    "    seq = seq.replace('G', 'c')\n",
    "    seq = seq.replace('C', 'g')\n",
    "\n",
    "    # Return result\n",
    "    if seq_upper:\n",
    "        return seq.upper()\n",
    "    else:\n",
    "        return seq\n"
   ]
  },
  {
   "cell_type": "markdown",
   "metadata": {},
   "source": [
    "Note that the file starts with a doc string.  Here's a rule."
   ]
  },
  {
   "cell_type": "markdown",
   "metadata": {},
   "source": [
    "<div class=\"alert alert-info\">\n",
    "<center>All modules should start with doc strings.</center>\n",
    "</div>"
   ]
  },
  {
   "cell_type": "markdown",
   "metadata": {},
   "source": [
    "I then have my two functions, each with doc strings.  We will now import the module and then use these functions."
   ]
  },
  {
   "cell_type": "code",
   "execution_count": 28,
   "metadata": {
    "collapsed": false
   },
   "outputs": [
    {
     "data": {
      "text/plain": [
       "'GACGAUCUAGGCGACCGACUGGCAUCG'"
      ]
     },
     "execution_count": 28,
     "metadata": {},
     "output_type": "execute_result"
    }
   ],
   "source": [
    "import dnatorna\n",
    "\n",
    "# Sequence\n",
    "seq = 'GACGATCTAGGCGACCGACTGGCATCG'\n",
    "\n",
    "# Convert to RNA\n",
    "dnatorna.rna(seq)"
   ]
  },
  {
   "cell_type": "markdown",
   "metadata": {},
   "source": [
    "We can also compute the reverse RNA complement."
   ]
  },
  {
   "cell_type": "code",
   "execution_count": 29,
   "metadata": {
    "collapsed": false
   },
   "outputs": [
    {
     "data": {
      "text/plain": [
       "'CGAUGCCAGUCGGUCGCCUAGAUCGUC'"
      ]
     },
     "execution_count": 29,
     "metadata": {},
     "output_type": "execute_result"
    }
   ],
   "source": [
    "dnatorna.reverse_rna_complement(seq)"
   ]
  },
  {
   "cell_type": "markdown",
   "metadata": {},
   "source": [
    "Wonderful!  You now have your own functioning module!"
   ]
  },
  {
   "cell_type": "markdown",
   "metadata": {},
   "source": [
    "## Importing modules in your `.py` files\n",
    "\n",
    "As our first foray into the glory of [PEP 8](https://www.python.org/dev/peps/pep-0008/), the Python style guide, we quote:\n",
    ">Imports are always put at the top of the file, just after any module comments and docstrings, and before module globals and constants.\n",
    ">\n",
    ">Imports should be grouped in the following order:\n",
    ">\n",
    ">1. standard library imports\n",
    ">2. related third party imports\n",
    ">3. local application/library specific imports\n",
    ">\n",
    ">You should put a blank line between each group of imports.\n",
    "\n",
    "You should follow this guide.  Therefore, going forward all of our lessons will have all necessary imports at the top of the document.  The only exception is when we are explicitly demonstrating a concept that requires an import."
   ]
  },
  {
   "cell_type": "markdown",
   "metadata": {},
   "source": [
    "## PYTHONPATH\n",
    "\n",
    "When we wrote the `dnatorna` module, we stored it in the directory that we were working in, or the `pwd`.  But what if you have a directory on your machine where you like to keep your coding projects?  (Actually, you will definitely have such a thing after we teach you about [version control with Git](l11_version_control_with_git.html) in the next lesson.)  To allow for this, you should set your `$PYTHONPATH` **environment variable**. This tells Python/IPython where to look for your modules. `conda` takes care of this for you for anything managed with `conda`, but obviously not for your own packages. In the [lesson on command line skills](l02_basic_command_line_skills.html), you set up a directory for your bootcamp files with the path `~/git/bootcamp/`. To access the modules you write an keep in that directory, you need to include it in your `PYTHONPATH`. To do that, do the following from the command line:\n",
    "\n",
    "    export PYTHONPATH=${PYTHONPATH}:$HOME/git/bootcamp\n",
    "\n",
    "Then, anything you put in that directory will be available to the Python interpreter. You can also put this in your `.bashrc` file so it is always available."
   ]
  }
 ],
 "metadata": {
  "kernelspec": {
   "display_name": "Python [default]",
   "language": "python",
   "name": "python3"
  },
  "language_info": {
   "codemirror_mode": {
    "name": "ipython",
    "version": 3
   },
   "file_extension": ".py",
   "mimetype": "text/x-python",
   "name": "python",
   "nbconvert_exporter": "python",
   "pygments_lexer": "ipython3",
   "version": "3.5.2"
  }
 },
 "nbformat": 4,
 "nbformat_minor": 0
}
