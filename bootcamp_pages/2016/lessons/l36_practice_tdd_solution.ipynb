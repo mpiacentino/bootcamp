{
 "cells": [
  {
   "cell_type": "markdown",
   "metadata": {},
   "source": [
    "# Lesson 36:  Practice TDD *solutions*\n",
    "\n",
    "(c) 2016 Justin Bois and Shyam Saladi. This work is licensed under a [Creative Commons Attribution License CC-BY 4.0](https://creativecommons.org/licenses/by/4.0/). All code contained herein is licensed under an [MIT license](https://opensource.org/licenses/MIT).\n",
    "\n",
    "*This exercise was generated from a Jupyter notebook.  You can download the notebook [here](l36_practice_tdd_solution.ipynb).*"
   ]
  },
  {
   "cell_type": "code",
   "execution_count": 1,
   "metadata": {
    "collapsed": true
   },
   "outputs": [],
   "source": [
    "import re\n",
    "import pytest\n",
    "\n",
    "import numpy as np\n",
    "import pandas as pd"
   ]
  },
  {
   "cell_type": "markdown",
   "metadata": {},
   "source": [
    "## Practice 1: Identifying codons within nucleotide sequences\n",
    "\n",
    "In Lesson 6, we discussed iteration; now that you're masters of the `for` loop, it probably seems like years ago. As part of the lesson, we developed code to search for a codon (a three base nucleotide sequence) with a provided sequence using a while loop. It's wrapped into a function below:"
   ]
  },
  {
   "cell_type": "code",
   "execution_count": 2,
   "metadata": {
    "collapsed": true
   },
   "outputs": [],
   "source": [
    "def find_codon_lesson6(codon, seq):\n",
    "    \"\"\"Find a specified codon with a given sequence.\"\"\" \n",
    "    \n",
    "    i = 0\n",
    "    # Scan sequence until we hit the start codon or the end of the sequence\n",
    "    while seq[i:i+3] != codon and i < len(seq):\n",
    "        i += 1\n",
    "    \n",
    "    if i == len(seq):\n",
    "        return -1\n",
    "    \n",
    "    return i"
   ]
  },
  {
   "cell_type": "markdown",
   "metadata": {},
   "source": [
    "Let's use the the coding and protein sequence for an isoform of the fruit fly (*D. melanogaster*)'s synaptobrevin, a super important part of the SNARE complex in cells! See [here](http://pdb101.rcsb.org/motm/167) for more detail. These sequences are directly from the NIH's National Center for Biotechnology Information, the largest repository of biological information around."
   ]
  },
  {
   "cell_type": "markdown",
   "metadata": {},
   "source": [
    "http://www.ncbi.nlm.nih.gov/nuccore/665400015?from=147&to=476&report=fasta\n",
    "```text\n",
    ">gi|665400015:147-476 Drosophila melanogaster synaptobrevin, transcript variant D (Syb), mRNA\n",
    "ATGGAGAACAACGAAGCCCCCTCCCCCTCGGGATCCAACAACAACGAGAACAACAATGCAGCCCAGAAGA\n",
    "AGCTGCAGCAGACCCAAGCCAAGGTGGACGAGGTGGTCGGGATTATGCGTGTGAACGTGGAGAAGGTCCT\n",
    "GGAGCGGGACCAGAAGCTATCGGAACTGGGCGAGCGTGCGGATCAGCTGGAGCAGGGAGCATCCCAGTTC\n",
    "GAGCAGCAGGCCGGCAAGCTGAAGCGCAAGCAATGGTGGGCCAACATGAAGATGATGATCATTCTGGGCG\n",
    "TGATAGCCGTTGTGCTGCTCATCATCGTTCTGGTGTCGCTTTTCAATTGA\n",
    "```\n",
    "\n",
    "http://www.ncbi.nlm.nih.gov/protein/221330128?report=fasta\n",
    "```text\n",
    ">gi|221330128|ref|NP_001137634.1| synaptobrevin, isoform D [Drosophila melanogaster]\n",
    "MENNEAPSPSGSNNNENNNAAQKKLQQTQAKVDEVVGIMRVNVEKVLERDQKLSELGERADQLEQGASQF\n",
    "EQQAGKLKRKQWWANMKMMIILGVIAVVLLIIVLVSLFN\n",
    "```"
   ]
  },
  {
   "cell_type": "markdown",
   "metadata": {},
   "source": [
    "**a)** Does `find_codon_lesson6()` work as you would like it to? To answer this question think about the following questions:\n",
    ">1. Where does it find `ATG` in the nucleotide sequence provided above? Is the result correct?\n",
    "2. How about `AAT`?\n",
    "3. How about the codons `TGT` and `TGT`? What residue do these last two codons encode (for your convenience, [standard genetic code](https://en.wikipedia.org/wiki/DNA_codon_table))?\n",
    "4. Does this residue exist in the protein sequence above? \n",
    "\n",
    "If you'd like, go ahead and use another [tool](http://web.expasy.org/translate/) to translate the nucleotide sequence to confirm yourself."
   ]
  },
  {
   "cell_type": "markdown",
   "metadata": {},
   "source": [
    "**b)**  Unfortunately, at this point, you will have found a bug! Formalize this test by writing a new function `test_find_codon(find_codon)`. It takes a single argument the function that is being tested. Write `assert` statements to check if `find_codon` returns the expected value for the 4 codons discussed above (`ATG`, `AAT`, `TGT`, `TGC`).\n",
    "\n",
    "Remember, `assert` statements will raise an exception if they evaluate to `False`."
   ]
  },
  {
   "cell_type": "markdown",
   "metadata": {},
   "source": [
    "**c)** Code up a new function to find a specified codon within a given sequence by revising `find_codon_lesson6`. Of course, you should test it with `test_find_codon()` after it's written."
   ]
  },
  {
   "cell_type": "markdown",
   "metadata": {},
   "source": [
    "### Practice 1: solution\n",
    "\n",
    "**a)**"
   ]
  },
  {
   "cell_type": "code",
   "execution_count": 3,
   "metadata": {
    "collapsed": false
   },
   "outputs": [
    {
     "name": "stdout",
     "output_type": "stream",
     "text": [
      "ATG : 0\n",
      "AAT : 54\n",
      "TGT : 119\n",
      "TGC : 56\n"
     ]
    }
   ],
   "source": [
    "synapto_nuc = (\n",
    "    \"ATGGAGAACAACGAAGCCCCCTCCCCCTCGGGATCCAACAACAACGAGAACAACAATGCAGCCCAGAAGA\"\n",
    "    \"AGCTGCAGCAGACCCAAGCCAAGGTGGACGAGGTGGTCGGGATTATGCGTGTGAACGTGGAGAAGGTCCT\"\n",
    "    \"GGAGCGGGACCAGAAGCTATCGGAACTGGGCGAGCGTGCGGATCAGCTGGAGCAGGGAGCATCCCAGTTC\"\n",
    "    \"GAGCAGCAGGCCGGCAAGCTGAAGCGCAAGCAATGGTGGGCCAACATGAAGATGATGATCATTCTGGGCG\"\n",
    "    \"TGATAGCCGTTGTGCTGCTCATCATCGTTCTGGTGTCGCTTTTCAATTGA\")\n",
    "\n",
    "synapto_prot = (\n",
    "    \"MENNEAPSPSGSNNNENNNAAQKKLQQTQAKVDEVVGIMRVNVEKVLERDQKLSELGERADQLEQGASQF\"\n",
    "    \"EQQAGKLKRKQWWANMKMMIILGVIAVVLLIIVLVSLFN\")\n",
    "\n",
    "\n",
    "print('ATG :', find_codon_lesson6('ATG', synapto_nuc))\n",
    "print('AAT :', find_codon_lesson6('AAT', synapto_nuc))\n",
    "print('TGT :', find_codon_lesson6('TGT', synapto_nuc))\n",
    "print('TGC :', find_codon_lesson6('TGC', synapto_nuc))"
   ]
  },
  {
   "cell_type": "markdown",
   "metadata": {},
   "source": [
    "To a first approximation, all of these results look right. The following is an excerpt of the standard genetic code:\n",
    "\n",
    "| Codon | Amino acid | \n",
    "|:-----:|:----------:|\n",
    "| ATG   | M          | \n",
    "| AAT   | N          |\n",
    "| TGT   | C          |\n",
    "| TGC   | C          |\n",
    "\n",
    "Let's check if these actually exist in the protein sequence:"
   ]
  },
  {
   "cell_type": "code",
   "execution_count": 4,
   "metadata": {
    "collapsed": false
   },
   "outputs": [
    {
     "name": "stdout",
     "output_type": "stream",
     "text": [
      "M :  0\n",
      "N :  2\n",
      "C :  -1\n"
     ]
    }
   ],
   "source": [
    "print(\"M : \", synapto_prot.find(\"M\"))\n",
    "print(\"N : \", synapto_prot.find(\"N\"))\n",
    "print(\"C : \", synapto_prot.find(\"C\"))"
   ]
  },
  {
   "cell_type": "markdown",
   "metadata": {},
   "source": [
    "No `C` in the protein sequence! What happened? Let's separate the nucleotide sequence into codons to check. We can check this with a `for` loop through the sequence, or we can use the wonderful magic of regular expressions ([covered last year](http://justinbois.github.io/bootcamp/2015/lessons/l16_regular_expressions.html))."
   ]
  },
  {
   "cell_type": "code",
   "execution_count": 5,
   "metadata": {
    "collapsed": false
   },
   "outputs": [
    {
     "name": "stdout",
     "output_type": "stream",
     "text": [
      "ATG : True\n",
      "AAT : True\n",
      "TGT : False\n",
      "TGC : False\n"
     ]
    }
   ],
   "source": [
    "all_codons = re.findall('...', synapto_nuc)\n",
    "print('ATG :', 'ATG' in all_codons)\n",
    "print('AAT :', 'AAT' in all_codons)\n",
    "print('TGT :', 'TGT' in all_codons)\n",
    "print('TGC :', 'TGC' in all_codons)"
   ]
  },
  {
   "cell_type": "markdown",
   "metadata": {},
   "source": [
    "**b)** We'll write the function with the synaptobrevin sequence as the test and run the test."
   ]
  },
  {
   "cell_type": "code",
   "execution_count": 6,
   "metadata": {
    "collapsed": false
   },
   "outputs": [
    {
     "ename": "AssertionError",
     "evalue": "",
     "output_type": "error",
     "traceback": [
      "\u001b[0;31m---------------------------------------------------------------------------\u001b[0m",
      "\u001b[0;31mAssertionError\u001b[0m                            Traceback (most recent call last)",
      "\u001b[0;32m<ipython-input-6-3c5b52ad198c>\u001b[0m in \u001b[0;36m<module>\u001b[0;34m()\u001b[0m\n\u001b[1;32m     18\u001b[0m     \u001b[0;32mreturn\u001b[0m \u001b[0;32mNone\u001b[0m\u001b[0;34m\u001b[0m\u001b[0m\n\u001b[1;32m     19\u001b[0m \u001b[0;34m\u001b[0m\u001b[0m\n\u001b[0;32m---> 20\u001b[0;31m \u001b[0mtest_find_codon\u001b[0m\u001b[0;34m(\u001b[0m\u001b[0mfind_codon_lesson6\u001b[0m\u001b[0;34m)\u001b[0m\u001b[0;34m\u001b[0m\u001b[0m\n\u001b[0m",
      "\u001b[0;32m<ipython-input-6-3c5b52ad198c>\u001b[0m in \u001b[0;36mtest_find_codon\u001b[0;34m(find_codon)\u001b[0m\n\u001b[1;32m     13\u001b[0m     \u001b[0;32massert\u001b[0m \u001b[0mfind_codon\u001b[0m\u001b[0;34m(\u001b[0m\u001b[0;34m'ATG'\u001b[0m\u001b[0;34m,\u001b[0m \u001b[0msynapto_nuc\u001b[0m\u001b[0;34m)\u001b[0m \u001b[0;34m==\u001b[0m \u001b[0;36m0\u001b[0m\u001b[0;34m\u001b[0m\u001b[0m\n\u001b[1;32m     14\u001b[0m     \u001b[0;32massert\u001b[0m \u001b[0mfind_codon\u001b[0m\u001b[0;34m(\u001b[0m\u001b[0;34m'AAT'\u001b[0m\u001b[0;34m,\u001b[0m \u001b[0msynapto_nuc\u001b[0m\u001b[0;34m)\u001b[0m \u001b[0;34m==\u001b[0m \u001b[0;36m54\u001b[0m\u001b[0;34m\u001b[0m\u001b[0m\n\u001b[0;32m---> 15\u001b[0;31m     \u001b[0;32massert\u001b[0m \u001b[0mfind_codon\u001b[0m\u001b[0;34m(\u001b[0m\u001b[0;34m'TGT'\u001b[0m\u001b[0;34m,\u001b[0m \u001b[0msynapto_nuc\u001b[0m\u001b[0;34m)\u001b[0m \u001b[0;34m==\u001b[0m \u001b[0;34m-\u001b[0m\u001b[0;36m1\u001b[0m\u001b[0;34m\u001b[0m\u001b[0m\n\u001b[0m\u001b[1;32m     16\u001b[0m     \u001b[0;32massert\u001b[0m \u001b[0mfind_codon\u001b[0m\u001b[0;34m(\u001b[0m\u001b[0;34m'TGC'\u001b[0m\u001b[0;34m,\u001b[0m \u001b[0msynapto_nuc\u001b[0m\u001b[0;34m)\u001b[0m \u001b[0;34m==\u001b[0m \u001b[0;34m-\u001b[0m\u001b[0;36m1\u001b[0m\u001b[0;34m\u001b[0m\u001b[0m\n\u001b[1;32m     17\u001b[0m \u001b[0;34m\u001b[0m\u001b[0m\n",
      "\u001b[0;31mAssertionError\u001b[0m: "
     ]
    }
   ],
   "source": [
    "def test_find_codon(find_codon):\n",
    "    \"\"\"\n",
    "    A function to test another function that looks for a codon \n",
    "    within a coding sequence\n",
    "    \"\"\"\n",
    "    synapto_nuc = (\n",
    "        \"ATGGAGAACAACGAAGCCCCCTCCCCCTCGGGATCCAACAACAACGAGAACAACAATGCAGCCCAGAAGA\"\n",
    "        \"AGCTGCAGCAGACCCAAGCCAAGGTGGACGAGGTGGTCGGGATTATGCGTGTGAACGTGGAGAAGGTCCT\"\n",
    "        \"GGAGCGGGACCAGAAGCTATCGGAACTGGGCGAGCGTGCGGATCAGCTGGAGCAGGGAGCATCCCAGTTC\"\n",
    "        \"GAGCAGCAGGCCGGCAAGCTGAAGCGCAAGCAATGGTGGGCCAACATGAAGATGATGATCATTCTGGGCG\"\n",
    "        \"TGATAGCCGTTGTGCTGCTCATCATCGTTCTGGTGTCGCTTTTCAATTGA\")\n",
    "    \n",
    "    assert find_codon('ATG', synapto_nuc) == 0\n",
    "    assert find_codon('AAT', synapto_nuc) == 54\n",
    "    assert find_codon('TGT', synapto_nuc) == -1\n",
    "    assert find_codon('TGC', synapto_nuc) == -1\n",
    "    \n",
    "    return None\n",
    "\n",
    "test_find_codon(find_codon_lesson6)"
   ]
  },
  {
   "cell_type": "markdown",
   "metadata": {},
   "source": [
    "We get failure, as we'd expect. We now have a good test for a new function we would write."
   ]
  },
  {
   "cell_type": "markdown",
   "metadata": {},
   "source": [
    "**c)** We can now code up a new function to make sure that we are only looking at in register codons after the start codon."
   ]
  },
  {
   "cell_type": "code",
   "execution_count": 7,
   "metadata": {
    "collapsed": true
   },
   "outputs": [],
   "source": [
    "def find_codon_new(codon, seq):\n",
    "    \"\"\"Find a specified codon with a given sequence\n",
    "    \"\"\" \n",
    "    i = 0\n",
    "    # Scan sequence until we hit the start codon or the end of the sequence\n",
    "    while seq[i:i+3] != codon and i < len(seq):\n",
    "        i += 3\n",
    "    \n",
    "    if i == len(seq):\n",
    "        return -1\n",
    "    \n",
    "    return i\n",
    "\n",
    "test_find_codon(find_codon_new)"
   ]
  },
  {
   "cell_type": "markdown",
   "metadata": {},
   "source": [
    "Hurray! It passed! We would of course want to write many more tests to make sure that the function is working properly, including edge cases. Edge cases are cases where inputs take extreme values (such an empty string for a sequence or something with no start codon)."
   ]
  },
  {
   "cell_type": "markdown",
   "metadata": {},
   "source": [
    "## Practice 2: A chemical equilibrium calculator\n",
    "\n",
    "In biochemistry, we often measure dissociation constants ($K_\\mathrm{d}$) using various methods, usually involving titration. A dissociation constant is the equilibrium constant for the chemical reaction\n",
    "\n",
    "\\begin{align}\n",
    "\\mathrm{ab} \\rightleftharpoons \\mathrm{a} + \\mathrm{b}.\n",
    "\\end{align}\n",
    "\n",
    "It is related to the equilibrium concentration of the species a, b, and ab by\n",
    "\n",
    "\\begin{align}\n",
    "K_\\mathrm{d} = \\frac{c_\\mathrm{a}\\,c_\\mathrm{b}}{c_{\\mathrm{ab}}}.\n",
    "\\end{align}\n",
    "\n",
    "To analyze a titration curve, we often have to compute the equilibrium concentrations of the respective species given the parameters $K_\\mathrm{d}$, $c_\\mathrm{a}^0$, and $c_\\mathrm{b}^0$, where the latter two parameters are the total concentrations of species a and b, respectively. This is typically known, as this is what the experimenter pipetted into the reaction solution.\n",
    "\n",
    "As you probably worked out in your undergraduate general chemistry course, the respective equilibrium concentrations can be solved to be\n",
    "\n",
    "\\begin{align}\n",
    "c_\\mathrm{ab} &= \\frac{1}{2}\\left(c_\\mathrm{a}^0 + c_\\mathrm{b}^0 + K_\\mathrm{d} - \\sqrt{\\left(c_\\mathrm{a}^0 + c_\\mathrm{b}^0 + K_\\mathrm{d}\\right)^2 - 4c_\\mathrm{a}^0 c_\\mathrm{b}^0}\\right), \\\\[1em]\n",
    "c_\\mathrm{a} &= c_\\mathrm{a}^0 - c_\\mathrm{ab} \\\\[1em]\n",
    "c_\\mathrm{b} &= c_\\mathrm{b}^0 - c_\\mathrm{ab}\n",
    "\\end{align}\n",
    "\n",
    "Your job is to write a function that computes the three concentrations, $c_\\mathrm{a}$, $c_\\mathrm{b}$, and $c_\\mathrm{ab}$ given inputs $K_\\mathrm{d}$, $c_\\mathrm{a}^0$, and $c_\\mathrm{b}^0$. Use the principles of TDD to develop it from the start. That is, define the call signature, write your first test, and make it fail. Then incrementally build your tests with your function.\n",
    "\n",
    "There is one thing interesting about the way you define your tests for this function. You can check that the solution satisfies the equations describing chemical equilibrium and conservation of mass.\n",
    "\n",
    "\\begin{align}\n",
    "K_\\mathrm{d} &= \\frac{c_\\mathrm{a}\\,c_\\mathrm{b}}{c_{\\mathrm{ab}}}, \\\\[1em]\n",
    "c_\\mathrm{a}^0 &= c_\\mathrm{a} + c_\\mathrm{ab}, \\\\[1em]\n",
    "c_\\mathrm{b}^0 &= c_\\mathrm{b} + c_\\mathrm{ab}.\n",
    "\\end{align}\n",
    "\n",
    "Sometimes you have this luxury, a mathematical statement that must hold for the output of your function. This makes writing tests a bit easier and more intuitive. As a hint, for checking closeness NumPy arrays, use the `np.allclose()` function."
   ]
  },
  {
   "cell_type": "markdown",
   "metadata": {},
   "source": [
    "### Practice 2: solution\n",
    "\n",
    "We first specify the function call signature and write our first test. The trivial example is when all entries are zero. We make it fail for now."
   ]
  },
  {
   "cell_type": "code",
   "execution_count": 8,
   "metadata": {
    "collapsed": false
   },
   "outputs": [
    {
     "ename": "AssertionError",
     "evalue": "",
     "output_type": "error",
     "traceback": [
      "\u001b[0;31m---------------------------------------------------------------------------\u001b[0m",
      "\u001b[0;31mAssertionError\u001b[0m                            Traceback (most recent call last)",
      "\u001b[0;32m<ipython-input-8-62fa2af876c9>\u001b[0m in \u001b[0;36m<module>\u001b[0;34m()\u001b[0m\n\u001b[1;32m     11\u001b[0m \u001b[0;34m\u001b[0m\u001b[0m\n\u001b[1;32m     12\u001b[0m \u001b[0;31m# Make it fail\u001b[0m\u001b[0;34m\u001b[0m\u001b[0;34m\u001b[0m\u001b[0m\n\u001b[0;32m---> 13\u001b[0;31m \u001b[0mtest_dissoc_equil\u001b[0m\u001b[0;34m(\u001b[0m\u001b[0;34m)\u001b[0m\u001b[0;34m\u001b[0m\u001b[0m\n\u001b[0m",
      "\u001b[0;32m<ipython-input-8-62fa2af876c9>\u001b[0m in \u001b[0;36mtest_dissoc_equil\u001b[0;34m()\u001b[0m\n\u001b[1;32m      2\u001b[0m     \u001b[0;34m\"\"\"Tests for dissoc_equil().\"\"\"\u001b[0m\u001b[0;34m\u001b[0m\u001b[0m\n\u001b[1;32m      3\u001b[0m \u001b[0;34m\u001b[0m\u001b[0m\n\u001b[0;32m----> 4\u001b[0;31m     \u001b[0;32massert\u001b[0m \u001b[0mnp\u001b[0m\u001b[0;34m.\u001b[0m\u001b[0misclose\u001b[0m\u001b[0;34m(\u001b[0m\u001b[0mdissoc_equil\u001b[0m\u001b[0;34m(\u001b[0m\u001b[0;36m1\u001b[0m\u001b[0;34m,\u001b[0m \u001b[0;36m0\u001b[0m\u001b[0;34m,\u001b[0m \u001b[0;36m0\u001b[0m\u001b[0;34m)\u001b[0m\u001b[0;34m,\u001b[0m \u001b[0mnp\u001b[0m\u001b[0;34m.\u001b[0m\u001b[0marray\u001b[0m\u001b[0;34m(\u001b[0m\u001b[0;34m[\u001b[0m\u001b[0;36m0\u001b[0m\u001b[0;34m,\u001b[0m \u001b[0;36m0\u001b[0m\u001b[0;34m,\u001b[0m \u001b[0;36m0\u001b[0m\u001b[0;34m]\u001b[0m\u001b[0;34m)\u001b[0m\u001b[0;34m)\u001b[0m\u001b[0;34m.\u001b[0m\u001b[0mall\u001b[0m\u001b[0;34m(\u001b[0m\u001b[0;34m)\u001b[0m\u001b[0;34m\u001b[0m\u001b[0m\n\u001b[0m\u001b[1;32m      5\u001b[0m \u001b[0;34m\u001b[0m\u001b[0m\n\u001b[1;32m      6\u001b[0m     \u001b[0;32mreturn\u001b[0m \u001b[0;32mNone\u001b[0m\u001b[0;34m\u001b[0m\u001b[0m\n",
      "\u001b[0;31mAssertionError\u001b[0m: "
     ]
    }
   ],
   "source": [
    "def test_dissoc_equil():\n",
    "    \"\"\"Tests for dissoc_equil().\"\"\"\n",
    "    \n",
    "    assert np.isclose(dissoc_equil(1, 0, 0), np.array([0, 0, 0])).all()\n",
    "    \n",
    "    return None\n",
    "    \n",
    "def dissoc_equil(Kd, ca0, cb0):\n",
    "    \"\"\"Compute equilibrium for dissociation reaction.\"\"\"\n",
    "    return np.array([1, 1, 1])\n",
    "\n",
    "# Make it fail\n",
    "test_dissoc_equil()"
   ]
  },
  {
   "cell_type": "markdown",
   "metadata": {},
   "source": [
    "Now, we'll put together the function to return something useful."
   ]
  },
  {
   "cell_type": "code",
   "execution_count": 9,
   "metadata": {
    "collapsed": true
   },
   "outputs": [],
   "source": [
    "def dissoc_equil(Kd, ca0, cb0):\n",
    "    \"\"\"Compute equilibrium for dissociation reaction.\"\"\"\n",
    "    # Compute cab from quadratic formula\n",
    "    b = ca0 + cb0 + Kd\n",
    "    cab = (b - np.sqrt(b**2 - 4*ca0*cb0)) / 2\n",
    "\n",
    "    # Compute ca and cb from conservation of mass\n",
    "    ca = ca0 - cab\n",
    "    cb = cb0 - cab\n",
    "    \n",
    "    return ca, cb, cab"
   ]
  },
  {
   "cell_type": "markdown",
   "metadata": {},
   "source": [
    "Now, let's try our test again."
   ]
  },
  {
   "cell_type": "code",
   "execution_count": 10,
   "metadata": {
    "collapsed": false
   },
   "outputs": [],
   "source": [
    "test_dissoc_equil()"
   ]
  },
  {
   "cell_type": "markdown",
   "metadata": {},
   "source": [
    "It passed! Let's try writing some more test. Let's try another trivial one where every input is zero."
   ]
  },
  {
   "cell_type": "code",
   "execution_count": 11,
   "metadata": {
    "collapsed": true
   },
   "outputs": [],
   "source": [
    "def test_dissoc_equil():\n",
    "    \"\"\"Tests for dissoc_equil().\"\"\"\n",
    "    \n",
    "    assert np.allclose(dissoc_equil(1, 0, 0), np.array([0, 0, 0]))\n",
    "    assert np.allclose(dissoc_equil(0, 0, 0), np.array([0, 0, 0]))\n",
    "    \n",
    "    return None\n",
    "    \n",
    "test_dissoc_equil()"
   ]
  },
  {
   "cell_type": "markdown",
   "metadata": {},
   "source": [
    "Now, how about with $K_\\mathrm{d} = 0$ and nonzero concentrations?"
   ]
  },
  {
   "cell_type": "code",
   "execution_count": 12,
   "metadata": {
    "collapsed": false
   },
   "outputs": [],
   "source": [
    "def test_dissoc_equil():\n",
    "    \"\"\"Tests for dissoc_equil().\"\"\"\n",
    "    \n",
    "    assert np.allclose(dissoc_equil(1, 0, 0), np.array([0, 0, 0]))\n",
    "    assert np.allclose(dissoc_equil(0, 0, 0), np.array([0, 0, 0]))\n",
    "    assert np.allclose(dissoc_equil(0, 1, 1), np.array([0, 0, 1]))\n",
    "    assert np.allclose(dissoc_equil(0, 1, 2), np.array([0, 1, 1]))\n",
    "    assert np.allclose(dissoc_equil(0, 2, 1), np.array([1, 0, 1]))\n",
    "\n",
    "    return None\n",
    "    \n",
    "test_dissoc_equil()"
   ]
  },
  {
   "cell_type": "markdown",
   "metadata": {},
   "source": [
    "Very good! Now, let's try the other extreme, where $K_\\mathrm{d}$ is infinity. Infinity is represented by `np.inf`."
   ]
  },
  {
   "cell_type": "code",
   "execution_count": 13,
   "metadata": {
    "collapsed": false
   },
   "outputs": [
    {
     "ename": "AssertionError",
     "evalue": "",
     "output_type": "error",
     "traceback": [
      "\u001b[0;31m---------------------------------------------------------------------------\u001b[0m",
      "\u001b[0;31mAssertionError\u001b[0m                            Traceback (most recent call last)",
      "\u001b[0;32m<ipython-input-13-31f1a7019231>\u001b[0m in \u001b[0;36m<module>\u001b[0;34m()\u001b[0m\n\u001b[1;32m     11\u001b[0m     \u001b[0;32mreturn\u001b[0m \u001b[0;32mNone\u001b[0m\u001b[0;34m\u001b[0m\u001b[0m\n\u001b[1;32m     12\u001b[0m \u001b[0;34m\u001b[0m\u001b[0m\n\u001b[0;32m---> 13\u001b[0;31m \u001b[0mtest_dissoc_equil\u001b[0m\u001b[0;34m(\u001b[0m\u001b[0;34m)\u001b[0m\u001b[0;34m\u001b[0m\u001b[0m\n\u001b[0m",
      "\u001b[0;32m<ipython-input-13-31f1a7019231>\u001b[0m in \u001b[0;36mtest_dissoc_equil\u001b[0;34m()\u001b[0m\n\u001b[1;32m      7\u001b[0m     \u001b[0;32massert\u001b[0m \u001b[0mnp\u001b[0m\u001b[0;34m.\u001b[0m\u001b[0mallclose\u001b[0m\u001b[0;34m(\u001b[0m\u001b[0mdissoc_equil\u001b[0m\u001b[0;34m(\u001b[0m\u001b[0;36m0\u001b[0m\u001b[0;34m,\u001b[0m \u001b[0;36m1\u001b[0m\u001b[0;34m,\u001b[0m \u001b[0;36m2\u001b[0m\u001b[0;34m)\u001b[0m\u001b[0;34m,\u001b[0m \u001b[0mnp\u001b[0m\u001b[0;34m.\u001b[0m\u001b[0marray\u001b[0m\u001b[0;34m(\u001b[0m\u001b[0;34m[\u001b[0m\u001b[0;36m0\u001b[0m\u001b[0;34m,\u001b[0m \u001b[0;36m1\u001b[0m\u001b[0;34m,\u001b[0m \u001b[0;36m1\u001b[0m\u001b[0;34m]\u001b[0m\u001b[0;34m)\u001b[0m\u001b[0;34m)\u001b[0m\u001b[0;34m\u001b[0m\u001b[0m\n\u001b[1;32m      8\u001b[0m     \u001b[0;32massert\u001b[0m \u001b[0mnp\u001b[0m\u001b[0;34m.\u001b[0m\u001b[0mallclose\u001b[0m\u001b[0;34m(\u001b[0m\u001b[0mdissoc_equil\u001b[0m\u001b[0;34m(\u001b[0m\u001b[0;36m0\u001b[0m\u001b[0;34m,\u001b[0m \u001b[0;36m2\u001b[0m\u001b[0;34m,\u001b[0m \u001b[0;36m1\u001b[0m\u001b[0;34m)\u001b[0m\u001b[0;34m,\u001b[0m \u001b[0mnp\u001b[0m\u001b[0;34m.\u001b[0m\u001b[0marray\u001b[0m\u001b[0;34m(\u001b[0m\u001b[0;34m[\u001b[0m\u001b[0;36m1\u001b[0m\u001b[0;34m,\u001b[0m \u001b[0;36m0\u001b[0m\u001b[0;34m,\u001b[0m \u001b[0;36m1\u001b[0m\u001b[0;34m]\u001b[0m\u001b[0;34m)\u001b[0m\u001b[0;34m)\u001b[0m\u001b[0;34m\u001b[0m\u001b[0m\n\u001b[0;32m----> 9\u001b[0;31m     \u001b[0;32massert\u001b[0m \u001b[0mnp\u001b[0m\u001b[0;34m.\u001b[0m\u001b[0mallclose\u001b[0m\u001b[0;34m(\u001b[0m\u001b[0mdissoc_equil\u001b[0m\u001b[0;34m(\u001b[0m\u001b[0mnp\u001b[0m\u001b[0;34m.\u001b[0m\u001b[0minf\u001b[0m\u001b[0;34m,\u001b[0m \u001b[0;36m1\u001b[0m\u001b[0;34m,\u001b[0m \u001b[0;36m1\u001b[0m\u001b[0;34m)\u001b[0m\u001b[0;34m,\u001b[0m \u001b[0mnp\u001b[0m\u001b[0;34m.\u001b[0m\u001b[0marray\u001b[0m\u001b[0;34m(\u001b[0m\u001b[0;34m[\u001b[0m\u001b[0;36m1\u001b[0m\u001b[0;34m,\u001b[0m \u001b[0;36m1\u001b[0m\u001b[0;34m,\u001b[0m \u001b[0;36m0\u001b[0m\u001b[0;34m]\u001b[0m\u001b[0;34m)\u001b[0m\u001b[0;34m)\u001b[0m\u001b[0;34m\u001b[0m\u001b[0m\n\u001b[0m\u001b[1;32m     10\u001b[0m \u001b[0;34m\u001b[0m\u001b[0m\n\u001b[1;32m     11\u001b[0m     \u001b[0;32mreturn\u001b[0m \u001b[0;32mNone\u001b[0m\u001b[0;34m\u001b[0m\u001b[0m\n",
      "\u001b[0;31mAssertionError\u001b[0m: "
     ]
    }
   ],
   "source": [
    "def test_dissoc_equil():\n",
    "    \"\"\"Tests for dissoc_equil().\"\"\"\n",
    "    \n",
    "    assert np.allclose(dissoc_equil(1, 0, 0), np.array([0, 0, 0]))\n",
    "    assert np.allclose(dissoc_equil(0, 0, 0), np.array([0, 0, 0]))\n",
    "    assert np.allclose(dissoc_equil(0, 1, 1), np.array([0, 0, 1]))\n",
    "    assert np.allclose(dissoc_equil(0, 1, 2), np.array([0, 1, 1]))\n",
    "    assert np.allclose(dissoc_equil(0, 2, 1), np.array([1, 0, 1]))\n",
    "    assert np.allclose(dissoc_equil(np.inf, 1, 1), np.array([1, 1, 0]))\n",
    "\n",
    "    return None\n",
    "\n",
    "test_dissoc_equil()"
   ]
  },
  {
   "cell_type": "markdown",
   "metadata": {},
   "source": [
    "Yikes! Failure. What happened?"
   ]
  },
  {
   "cell_type": "code",
   "execution_count": 14,
   "metadata": {
    "collapsed": false
   },
   "outputs": [
    {
     "data": {
      "text/plain": [
       "(nan, nan, nan)"
      ]
     },
     "execution_count": 14,
     "metadata": {},
     "output_type": "execute_result"
    }
   ],
   "source": [
    "dissoc_equil(np.inf, 1, 1)"
   ]
  },
  {
   "cell_type": "markdown",
   "metadata": {},
   "source": [
    "The result is all `NaN`s. This is because we are asking the function to subtract infinity from infinity. However, we know the result when $K_\\mathrm{d}$ is infinite, and we can put in logic to check for that."
   ]
  },
  {
   "cell_type": "code",
   "execution_count": 15,
   "metadata": {
    "collapsed": true
   },
   "outputs": [],
   "source": [
    "def dissoc_equil(Kd, ca0, cb0):\n",
    "    \"\"\"Compute equilibrium for dissociation reaction.\"\"\"\n",
    "    # If we have infinite Kd\n",
    "    if Kd == np.inf:\n",
    "        return ca0, cb0, 0\n",
    "    \n",
    "    # Compute cab from quadratic formula\n",
    "    b = ca0 + cb0 + Kd\n",
    "    cab = (b - np.sqrt(b**2 - 4*ca0*cb0)) / 2\n",
    "\n",
    "    # Compute ca and cb from conservation of mass\n",
    "    ca = ca0 - cab\n",
    "    cb = cb0 - cab\n",
    "    \n",
    "    return ca, cb, cab"
   ]
  },
  {
   "cell_type": "markdown",
   "metadata": {},
   "source": [
    "Now, let's re-run the tests."
   ]
  },
  {
   "cell_type": "code",
   "execution_count": 16,
   "metadata": {
    "collapsed": true
   },
   "outputs": [],
   "source": [
    "test_dissoc_equil()"
   ]
  },
  {
   "cell_type": "markdown",
   "metadata": {},
   "source": [
    "Better! Now that we have come across this issue, we should have error checks to make sure the input is legit. E.g., all nonnegative, and $c_\\mathrm{a}^0$ and $c_\\mathrm{b}^0$ finite. We'll make tests and fail."
   ]
  },
  {
   "cell_type": "code",
   "execution_count": 17,
   "metadata": {
    "collapsed": false
   },
   "outputs": [
    {
     "ename": "Failed",
     "evalue": "DID NOT RAISE <class 'RuntimeError'>",
     "output_type": "error",
     "traceback": [
      "\u001b[0;31m---------------------------------------------------------------------------\u001b[0m",
      "\u001b[0;31mFailed\u001b[0m                                    Traceback (most recent call last)",
      "\u001b[0;32m<ipython-input-17-9cf14cf10265>\u001b[0m in \u001b[0;36m<module>\u001b[0;34m()\u001b[0m\n\u001b[1;32m     17\u001b[0m     \u001b[0;32mreturn\u001b[0m \u001b[0;32mNone\u001b[0m\u001b[0;34m\u001b[0m\u001b[0m\n\u001b[1;32m     18\u001b[0m \u001b[0;34m\u001b[0m\u001b[0m\n\u001b[0;32m---> 19\u001b[0;31m \u001b[0mtest_dissoc_equil\u001b[0m\u001b[0;34m(\u001b[0m\u001b[0;34m)\u001b[0m\u001b[0;34m\u001b[0m\u001b[0m\n\u001b[0m",
      "\u001b[0;32m<ipython-input-17-9cf14cf10265>\u001b[0m in \u001b[0;36mtest_dissoc_equil\u001b[0;34m()\u001b[0m\n\u001b[1;32m      9\u001b[0m     \u001b[0;32massert\u001b[0m \u001b[0mnp\u001b[0m\u001b[0;34m.\u001b[0m\u001b[0mallclose\u001b[0m\u001b[0;34m(\u001b[0m\u001b[0mdissoc_equil\u001b[0m\u001b[0;34m(\u001b[0m\u001b[0mnp\u001b[0m\u001b[0;34m.\u001b[0m\u001b[0minf\u001b[0m\u001b[0;34m,\u001b[0m \u001b[0;36m1\u001b[0m\u001b[0;34m,\u001b[0m \u001b[0;36m1\u001b[0m\u001b[0;34m)\u001b[0m\u001b[0;34m,\u001b[0m \u001b[0mnp\u001b[0m\u001b[0;34m.\u001b[0m\u001b[0marray\u001b[0m\u001b[0;34m(\u001b[0m\u001b[0;34m[\u001b[0m\u001b[0;36m1\u001b[0m\u001b[0;34m,\u001b[0m \u001b[0;36m1\u001b[0m\u001b[0;34m,\u001b[0m \u001b[0;36m0\u001b[0m\u001b[0;34m]\u001b[0m\u001b[0;34m)\u001b[0m\u001b[0;34m)\u001b[0m\u001b[0;34m\u001b[0m\u001b[0m\n\u001b[1;32m     10\u001b[0m \u001b[0;34m\u001b[0m\u001b[0m\n\u001b[0;32m---> 11\u001b[0;31m     \u001b[0mpytest\u001b[0m\u001b[0;34m.\u001b[0m\u001b[0mraises\u001b[0m\u001b[0;34m(\u001b[0m\u001b[0mRuntimeError\u001b[0m\u001b[0;34m,\u001b[0m \u001b[0;34m\"dissoc_equil(-1, 1, 1)\"\u001b[0m\u001b[0;34m)\u001b[0m\u001b[0;34m\u001b[0m\u001b[0m\n\u001b[0m\u001b[1;32m     12\u001b[0m     \u001b[0mpytest\u001b[0m\u001b[0;34m.\u001b[0m\u001b[0mraises\u001b[0m\u001b[0;34m(\u001b[0m\u001b[0mRuntimeError\u001b[0m\u001b[0;34m,\u001b[0m \u001b[0;34m\"dissoc_equil(1, -1, 1)\"\u001b[0m\u001b[0;34m)\u001b[0m\u001b[0;34m\u001b[0m\u001b[0m\n\u001b[1;32m     13\u001b[0m     \u001b[0mpytest\u001b[0m\u001b[0;34m.\u001b[0m\u001b[0mraises\u001b[0m\u001b[0;34m(\u001b[0m\u001b[0mRuntimeError\u001b[0m\u001b[0;34m,\u001b[0m \u001b[0;34m\"dissoc_equil(1, 1, -1)\"\u001b[0m\u001b[0;34m)\u001b[0m\u001b[0;34m\u001b[0m\u001b[0m\n",
      "\u001b[0;32m/Users/Justin/anaconda/lib/python3.5/site-packages/_pytest/python.py\u001b[0m in \u001b[0;36mraises\u001b[0;34m(expected_exception, *args, **kwargs)\u001b[0m\n\u001b[1;32m   1319\u001b[0m         \u001b[0;32mexcept\u001b[0m \u001b[0mexpected_exception\u001b[0m\u001b[0;34m:\u001b[0m\u001b[0;34m\u001b[0m\u001b[0m\n\u001b[1;32m   1320\u001b[0m             \u001b[0;32mreturn\u001b[0m \u001b[0m_pytest\u001b[0m\u001b[0;34m.\u001b[0m\u001b[0m_code\u001b[0m\u001b[0;34m.\u001b[0m\u001b[0mExceptionInfo\u001b[0m\u001b[0;34m(\u001b[0m\u001b[0;34m)\u001b[0m\u001b[0;34m\u001b[0m\u001b[0m\n\u001b[0;32m-> 1321\u001b[0;31m     \u001b[0mpytest\u001b[0m\u001b[0;34m.\u001b[0m\u001b[0mfail\u001b[0m\u001b[0;34m(\u001b[0m\u001b[0;34m\"DID NOT RAISE {0}\"\u001b[0m\u001b[0;34m.\u001b[0m\u001b[0mformat\u001b[0m\u001b[0;34m(\u001b[0m\u001b[0mexpected_exception\u001b[0m\u001b[0;34m)\u001b[0m\u001b[0;34m)\u001b[0m\u001b[0;34m\u001b[0m\u001b[0m\n\u001b[0m\u001b[1;32m   1322\u001b[0m \u001b[0;34m\u001b[0m\u001b[0m\n\u001b[1;32m   1323\u001b[0m \u001b[0;32mclass\u001b[0m \u001b[0mRaisesContext\u001b[0m\u001b[0;34m(\u001b[0m\u001b[0mobject\u001b[0m\u001b[0;34m)\u001b[0m\u001b[0;34m:\u001b[0m\u001b[0;34m\u001b[0m\u001b[0m\n",
      "\u001b[0;32m/Users/Justin/anaconda/lib/python3.5/site-packages/_pytest/runner.py\u001b[0m in \u001b[0;36mfail\u001b[0;34m(msg, pytrace)\u001b[0m\n\u001b[1;32m    484\u001b[0m     \"\"\"\n\u001b[1;32m    485\u001b[0m     \u001b[0m__tracebackhide__\u001b[0m \u001b[0;34m=\u001b[0m \u001b[0;32mTrue\u001b[0m\u001b[0;34m\u001b[0m\u001b[0m\n\u001b[0;32m--> 486\u001b[0;31m     \u001b[0;32mraise\u001b[0m \u001b[0mFailed\u001b[0m\u001b[0;34m(\u001b[0m\u001b[0mmsg\u001b[0m\u001b[0;34m=\u001b[0m\u001b[0mmsg\u001b[0m\u001b[0;34m,\u001b[0m \u001b[0mpytrace\u001b[0m\u001b[0;34m=\u001b[0m\u001b[0mpytrace\u001b[0m\u001b[0;34m)\u001b[0m\u001b[0;34m\u001b[0m\u001b[0m\n\u001b[0m\u001b[1;32m    487\u001b[0m \u001b[0mfail\u001b[0m\u001b[0;34m.\u001b[0m\u001b[0mException\u001b[0m \u001b[0;34m=\u001b[0m \u001b[0mFailed\u001b[0m\u001b[0;34m\u001b[0m\u001b[0m\n\u001b[1;32m    488\u001b[0m \u001b[0;34m\u001b[0m\u001b[0m\n",
      "\u001b[0;31mFailed\u001b[0m: DID NOT RAISE <class 'RuntimeError'>"
     ]
    }
   ],
   "source": [
    "def test_dissoc_equil():\n",
    "    \"\"\"Tests for dissoc_equil().\"\"\"\n",
    "    \n",
    "    assert np.allclose(dissoc_equil(1, 0, 0), np.array([0, 0, 0]))\n",
    "    assert np.allclose(dissoc_equil(0, 0, 0), np.array([0, 0, 0]))\n",
    "    assert np.allclose(dissoc_equil(0, 1, 1), np.array([0, 0, 1]))\n",
    "    assert np.allclose(dissoc_equil(0, 1, 2), np.array([0, 1, 1]))\n",
    "    assert np.allclose(dissoc_equil(0, 2, 1), np.array([1, 0, 1]))\n",
    "    assert np.allclose(dissoc_equil(np.inf, 1, 1), np.array([1, 1, 0]))\n",
    "\n",
    "    pytest.raises(RuntimeError, \"dissoc_equil(-1, 1, 1)\")\n",
    "    pytest.raises(RuntimeError, \"dissoc_equil(1, -1, 1)\")\n",
    "    pytest.raises(RuntimeError, \"dissoc_equil(1, 1, -1)\")\n",
    "    pytest.raises(RuntimeError, \"dissoc_equil(1, np.inf, 1)\")\n",
    "    pytest.raises(RuntimeError, \"dissoc_equil(1, 1, np.inf)\")\n",
    "    \n",
    "    return None\n",
    "\n",
    "test_dissoc_equil()"
   ]
  },
  {
   "cell_type": "markdown",
   "metadata": {},
   "source": [
    "And now we can adjust the function."
   ]
  },
  {
   "cell_type": "code",
   "execution_count": 18,
   "metadata": {
    "collapsed": true
   },
   "outputs": [],
   "source": [
    "def dissoc_equil(Kd, ca0, cb0):\n",
    "    \"\"\"Compute equilibrium for dissociation reaction.\"\"\"\n",
    "    \n",
    "    # Check input\n",
    "    if Kd < 0 or ca0 < 0 or cb0 < 0:\n",
    "        raise RuntimeError('All input must be nonnegative.')\n",
    "    if not (ca0 < np.inf and cb0 < np.inf):\n",
    "        raise RuntimeError('Input concentrations must be finite.')\n",
    "    \n",
    "    # If we have infinite Kd\n",
    "    if Kd == np.inf:\n",
    "        return ca0, cb0, 0\n",
    "    \n",
    "    # Compute cab from quadratic formula\n",
    "    b = ca0 + cb0 + Kd\n",
    "    cab = (b - np.sqrt(b**2 - 4*ca0*cb0)) / 2\n",
    "\n",
    "    # Compute ca and cb from conservation of mass\n",
    "    ca = ca0 - cab\n",
    "    cb = cb0 - cab\n",
    "    \n",
    "    return ca, cb, cab\n",
    "\n",
    "\n",
    "test_dissoc_equil()"
   ]
  },
  {
   "cell_type": "markdown",
   "metadata": {},
   "source": [
    "Passage of all! We have caught many of the edge and corner cases. Now, to check every day calculations, we can just run the calculation and then verify that the equilibrium and conservation of mass expressions hold. We'll first write a function to check that."
   ]
  },
  {
   "cell_type": "code",
   "execution_count": 19,
   "metadata": {
    "collapsed": true
   },
   "outputs": [],
   "source": [
    "def check_eq(Kd, ca0, cb0, ca, cb, cab):\n",
    "    \"\"\"Verify equilibrium expressions hold.\"\"\"\n",
    "    eq = np.isclose(Kd, ca * cb / cab)\n",
    "    cons_mass_A = np.isclose(ca0, ca + cab)\n",
    "    cons_mass_B = np.isclose(cb0, cb + cab)\n",
    "    \n",
    "    return eq and cons_mass_A and cons_mass_B"
   ]
  },
  {
   "cell_type": "markdown",
   "metadata": {},
   "source": [
    "Now, we can incorporate this into our tests."
   ]
  },
  {
   "cell_type": "code",
   "execution_count": 20,
   "metadata": {
    "collapsed": false
   },
   "outputs": [],
   "source": [
    "def test_dissoc_equil():\n",
    "    \"\"\"Tests for dissoc_equil().\"\"\"\n",
    "    \n",
    "    # Edge cases\n",
    "    assert np.allclose(dissoc_equil(1, 0, 0), np.array([0, 0, 0]))\n",
    "    assert np.allclose(dissoc_equil(0, 0, 0), np.array([0, 0, 0]))\n",
    "    assert np.allclose(dissoc_equil(0, 1, 1), np.array([0, 0, 1]))\n",
    "    assert np.allclose(dissoc_equil(0, 1, 2), np.array([0, 1, 1]))\n",
    "    assert np.allclose(dissoc_equil(0, 2, 1), np.array([1, 0, 1]))\n",
    "    assert np.allclose(dissoc_equil(np.inf, 1, 1), np.array([1, 1, 0]))\n",
    "    \n",
    "    # Standard cases\n",
    "    assert check_eq(4.5, 0.1, 3.2, *dissoc_equil(4.5, 0.1, 3.2))\n",
    "    assert check_eq(0.14, 0.00011, 0.003, *dissoc_equil(0.14, 0.00011, 0.003))\n",
    "    \n",
    "    # Errors\n",
    "    pytest.raises(RuntimeError, \"dissoc_equil(-1, 1, 1)\")\n",
    "    pytest.raises(RuntimeError, \"dissoc_equil(1, -1, 1)\")\n",
    "    pytest.raises(RuntimeError, \"dissoc_equil(1, 1, -1)\")\n",
    "    pytest.raises(RuntimeError, \"dissoc_equil(1, np.inf, 1)\")\n",
    "    pytest.raises(RuntimeError, \"dissoc_equil(1, 1, np.inf)\")\n",
    "    \n",
    "    return None\n",
    "\n",
    "test_dissoc_equil()"
   ]
  },
  {
   "cell_type": "markdown",
   "metadata": {},
   "source": [
    "Looks good! To be more thorough with out tests, we should test over a logarithmic range of dissociation constants in initial concentrations."
   ]
  },
  {
   "cell_type": "code",
   "execution_count": 22,
   "metadata": {
    "collapsed": false
   },
   "outputs": [
    {
     "ename": "AssertionError",
     "evalue": "Kd = 1e-10, ca0 = 1e-05, cb0 = 71.9686",
     "output_type": "error",
     "traceback": [
      "\u001b[0;31m---------------------------------------------------------------------------\u001b[0m",
      "\u001b[0;31mAssertionError\u001b[0m                            Traceback (most recent call last)",
      "\u001b[0;32m<ipython-input-22-e325b23511c7>\u001b[0m in \u001b[0;36m<module>\u001b[0;34m()\u001b[0m\n\u001b[1;32m     28\u001b[0m     \u001b[0;32mreturn\u001b[0m \u001b[0;32mNone\u001b[0m\u001b[0;34m\u001b[0m\u001b[0m\n\u001b[1;32m     29\u001b[0m \u001b[0;34m\u001b[0m\u001b[0m\n\u001b[0;32m---> 30\u001b[0;31m \u001b[0mtest_dissoc_equil\u001b[0m\u001b[0;34m(\u001b[0m\u001b[0;34m)\u001b[0m\u001b[0;34m\u001b[0m\u001b[0m\n\u001b[0m",
      "\u001b[0;32m<ipython-input-22-e325b23511c7>\u001b[0m in \u001b[0;36mtest_dissoc_equil\u001b[0;34m()\u001b[0m\n\u001b[1;32m     17\u001b[0m         \u001b[0;32mfor\u001b[0m \u001b[0mca0\u001b[0m \u001b[0;32min\u001b[0m \u001b[0mca0_vals\u001b[0m\u001b[0;34m:\u001b[0m\u001b[0;34m\u001b[0m\u001b[0m\n\u001b[1;32m     18\u001b[0m             \u001b[0;32mfor\u001b[0m \u001b[0mcb0\u001b[0m \u001b[0;32min\u001b[0m \u001b[0mcb0_vals\u001b[0m\u001b[0;34m:\u001b[0m\u001b[0;34m\u001b[0m\u001b[0m\n\u001b[0;32m---> 19\u001b[0;31m                 \u001b[0;32massert\u001b[0m \u001b[0mcheck_eq\u001b[0m\u001b[0;34m(\u001b[0m\u001b[0mKd\u001b[0m\u001b[0;34m,\u001b[0m \u001b[0mca0\u001b[0m\u001b[0;34m,\u001b[0m \u001b[0mcb0\u001b[0m\u001b[0;34m,\u001b[0m \u001b[0;34m*\u001b[0m\u001b[0mdissoc_equil\u001b[0m\u001b[0;34m(\u001b[0m\u001b[0mKd\u001b[0m\u001b[0;34m,\u001b[0m \u001b[0mca0\u001b[0m\u001b[0;34m,\u001b[0m \u001b[0mcb0\u001b[0m\u001b[0;34m)\u001b[0m\u001b[0;34m)\u001b[0m\u001b[0;34m,\u001b[0m                     \u001b[0;34m'Kd = %g, ca0 = %g, cb0 = %g'\u001b[0m \u001b[0;34m%\u001b[0m \u001b[0;34m(\u001b[0m\u001b[0mKd\u001b[0m\u001b[0;34m,\u001b[0m \u001b[0mca0\u001b[0m\u001b[0;34m,\u001b[0m \u001b[0mcb0\u001b[0m\u001b[0;34m)\u001b[0m\u001b[0;34m\u001b[0m\u001b[0m\n\u001b[0m\u001b[1;32m     20\u001b[0m \u001b[0;34m\u001b[0m\u001b[0m\n\u001b[1;32m     21\u001b[0m     \u001b[0;31m# Errors\u001b[0m\u001b[0;34m\u001b[0m\u001b[0;34m\u001b[0m\u001b[0m\n",
      "\u001b[0;31mAssertionError\u001b[0m: Kd = 1e-10, ca0 = 1e-05, cb0 = 71.9686"
     ]
    }
   ],
   "source": [
    "def test_dissoc_equil():\n",
    "    \"\"\"Tests for dissoc_equil().\"\"\"\n",
    "    \n",
    "    # Edge cases\n",
    "    assert np.allclose(dissoc_equil(1, 0, 0), np.array([0, 0, 0]))\n",
    "    assert np.allclose(dissoc_equil(0, 0, 0), np.array([0, 0, 0]))\n",
    "    assert np.allclose(dissoc_equil(0, 1, 1), np.array([0, 0, 1]))\n",
    "    assert np.allclose(dissoc_equil(0, 1, 2), np.array([0, 1, 1]))\n",
    "    assert np.allclose(dissoc_equil(0, 2, 1), np.array([1, 0, 1]))\n",
    "    assert np.allclose(dissoc_equil(np.inf, 1, 1), np.array([1, 1, 0]))\n",
    "    \n",
    "    # Standard cases\n",
    "    Kd_vals = np.logspace(-10, 1, 50)\n",
    "    ca0_vals = np.logspace(-5, 2, 50)\n",
    "    cb0_vals = np.logspace(-5, 2, 50)\n",
    "    for Kd in Kd_vals:\n",
    "        for ca0 in ca0_vals:\n",
    "            for cb0 in cb0_vals:\n",
    "                assert check_eq(Kd, ca0, cb0, *dissoc_equil(Kd, ca0, cb0)), \\\n",
    "                    'Kd = %g, ca0 = %g, cb0 = %g' % (Kd, ca0, cb0)\n",
    "    \n",
    "    # Errors\n",
    "    pytest.raises(RuntimeError, \"dissoc_equil(-1, 1, 1)\")\n",
    "    pytest.raises(RuntimeError, \"dissoc_equil(1, -1, 1)\")\n",
    "    pytest.raises(RuntimeError, \"dissoc_equil(1, 1, -1)\")\n",
    "    pytest.raises(RuntimeError, \"dissoc_equil(1, np.inf, 1)\")\n",
    "    pytest.raises(RuntimeError, \"dissoc_equil(1, 1, np.inf)\")\n",
    "    \n",
    "    return None\n",
    "    \n",
    "test_dissoc_equil()"
   ]
  },
  {
   "cell_type": "markdown",
   "metadata": {},
   "source": [
    "We get an error when the difference in the total concentrations is too large. This highlights a numerical stability issue. When this is the case, we should find a more numerically stable way to compute the result. This is not a trivial matter, and something that requires careful thought. We will not develop a more numerically stable method here, but rather stop here having effectively shown how careful tests can reveal (possibly unexpected) weaknesses in otherwise simple code."
   ]
  }
 ],
 "metadata": {
  "anaconda-cloud": {},
  "kernelspec": {
   "display_name": "Python [default]",
   "language": "python",
   "name": "python3"
  },
  "language_info": {
   "codemirror_mode": {
    "name": "ipython",
    "version": 3
   },
   "file_extension": ".py",
   "mimetype": "text/x-python",
   "name": "python",
   "nbconvert_exporter": "python",
   "pygments_lexer": "ipython3",
   "version": "3.5.2"
  }
 },
 "nbformat": 4,
 "nbformat_minor": 0
}
