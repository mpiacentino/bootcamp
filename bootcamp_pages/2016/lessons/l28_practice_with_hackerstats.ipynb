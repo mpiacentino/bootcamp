{
 "cells": [
  {
   "cell_type": "markdown",
   "metadata": {},
   "source": [
    "# Lesson 28: Practice with hacker stats\n",
    "\n",
    "(c) 2016 Justin Bois. This work is licensed under a [Creative Commons Attribution License CC-BY 4.0](https://creativecommons.org/licenses/by/4.0/). All code contained herein is licensed under an [MIT license](https://opensource.org/licenses/MIT).\n",
    "\n",
    "*This tutorial was generated from a Jupyter notebook.  You can download the notebook [here](l28_practice_with_hackerstats.ipynb).*"
   ]
  },
  {
   "cell_type": "markdown",
   "metadata": {},
   "source": [
    "## Practice 1: Writing a function to draw bootstrap replicates\n",
    "\n",
    "As you can imagine, it is quite useful to be able to generate, or \"draw,\" bootstrap replicates. We wrote `for` loops to generate bootstrap replicates in the previous lesson. Now, you will write a function, `draw_bs_reps()` to do this automatically. You will include this function in your `~/git/bootcamp/bootcamp_utils.py` module.\n",
    "\n",
    ">1. Define a function with call signature `draw_bs_reps(data, func, size=1)`, where `func` is a function that takes in an array and returns a statistic. Examples that could be passed in as `func` are `np.mean`, `np.std`, `np.median`, or a user-defined function. `size` is the number of replicates to generate.\n",
    "2. Write a good doc string.\n",
    "3. Define `n` to be the length of the input `data` array.\n",
    "4. Initialize the array of replicates, `reps`, using `np.empty()`.\n",
    "5. Write a **`for`** loop that does the following:\n",
    "    * Draw a bootstrap sample using `np.random.choice()`.\n",
    "    * Applied `func` to the bootstrap sample to compute the replicate. The replicate is stored in the `reps` array.\n",
    "6. Return the `reps` array.\n",
    "\n",
    "Now that you have the function, feel free to play around with it and compute bootstrap replicates with the finch beak or other data you want to play with."
   ]
  },
  {
   "cell_type": "markdown",
   "metadata": {},
   "source": [
    "## Practice 2: Plot ECDFs of bootstrap samples\n",
    "\n",
    "To help you visualize how bootstrap samples can show what you might expect by repeating experiments, we will make a plot of ECDFs of lots of bootstrap samples.\n",
    "\n",
    ">1. Load in the beak depth data from 1975.\n",
    "2. Generate the `x` and `y` values for the ECDF of the data and plot them as before. You should use the `ecdf()` function you already wrote. When you make the plot, use the `color='blue'` kwarg of `plt.plot()`.\n",
    "3. Write a **`for`** loop to do the following 100 times:\n",
    "    * Generate a bootstrap sample from the data set using `np.random.choice()`.\n",
    "    * Compute the `x` and `y` values for the ECDF of the bootstrap sample.\n",
    "    * Use `plt.plot()` with kwargs `color='blue'` and `alpha=0.01` to display the ECDF of the bootstrap sample.\n",
    "4. Label the axes and set 2% margins."
   ]
  }
 ],
 "metadata": {
  "anaconda-cloud": {},
  "kernelspec": {
   "display_name": "Python [default]",
   "language": "python",
   "name": "python3"
  },
  "language_info": {
   "codemirror_mode": {
    "name": "ipython",
    "version": 3
   },
   "file_extension": ".py",
   "mimetype": "text/x-python",
   "name": "python",
   "nbconvert_exporter": "python",
   "pygments_lexer": "ipython3",
   "version": "3.5.2"
  }
 },
 "nbformat": 4,
 "nbformat_minor": 0
}
