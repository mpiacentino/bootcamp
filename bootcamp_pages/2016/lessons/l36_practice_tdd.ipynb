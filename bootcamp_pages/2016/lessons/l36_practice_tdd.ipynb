{
 "cells": [
  {
   "cell_type": "markdown",
   "metadata": {},
   "source": [
    "# Lesson 36:  Practice TDD\n",
    "\n",
    "(c) 2016 Justin Bois and Shyam Saladi. This work is licensed under a [Creative Commons Attribution License CC-BY 4.0](https://creativecommons.org/licenses/by/4.0/). All code contained herein is licensed under an [MIT license](https://opensource.org/licenses/MIT).\n",
    "\n",
    "*This exercise was generated from a Jupyter notebook.  You can download the notebook [here](l36_practice_tdd.ipynb).*"
   ]
  },
  {
   "cell_type": "markdown",
   "metadata": {},
   "source": [
    "## Practice 1: Identifying codons within nucleotide sequences\n",
    "\n",
    "In Lesson 6, we discussed iteration; now that you're masters of the `for` loop, it probably seems like years ago. As part of the lesson, we developed code to search for a codon (a three base nucleotide sequence) with a provided sequence using a while loop. It's wrapped into a function below:"
   ]
  },
  {
   "cell_type": "code",
   "execution_count": 2,
   "metadata": {
    "collapsed": true
   },
   "outputs": [],
   "source": [
    "def find_codon_lesson6(codon, seq):\n",
    "    \"\"\"Find a specified codon with a given sequence.\"\"\" \n",
    "    \n",
    "    i = 0\n",
    "    # Scan sequence until we hit the start codon or the end of the sequence\n",
    "    while seq[i:i+3] != codon and i < len(seq):\n",
    "        i += 1\n",
    "    \n",
    "    if i == len(seq):\n",
    "        return -1\n",
    "    \n",
    "    return i"
   ]
  },
  {
   "cell_type": "markdown",
   "metadata": {},
   "source": [
    "Let's use the the coding and protein sequence for an isoform of the fruit fly (*D. melanogaster*)'s synaptobrevin, a super important part of the SNARE complex in cells! See [here](http://pdb101.rcsb.org/motm/167) for more detail. These sequences are directly from the NIH's National Center for Biotechnology Information, the largest repository of biological information around."
   ]
  },
  {
   "cell_type": "markdown",
   "metadata": {},
   "source": [
    "http://www.ncbi.nlm.nih.gov/nuccore/665400015?from=147&to=476&report=fasta\n",
    "```text\n",
    ">gi|665400015:147-476 Drosophila melanogaster synaptobrevin, transcript variant D (Syb), mRNA\n",
    "ATGGAGAACAACGAAGCCCCCTCCCCCTCGGGATCCAACAACAACGAGAACAACAATGCAGCCCAGAAGA\n",
    "AGCTGCAGCAGACCCAAGCCAAGGTGGACGAGGTGGTCGGGATTATGCGTGTGAACGTGGAGAAGGTCCT\n",
    "GGAGCGGGACCAGAAGCTATCGGAACTGGGCGAGCGTGCGGATCAGCTGGAGCAGGGAGCATCCCAGTTC\n",
    "GAGCAGCAGGCCGGCAAGCTGAAGCGCAAGCAATGGTGGGCCAACATGAAGATGATGATCATTCTGGGCG\n",
    "TGATAGCCGTTGTGCTGCTCATCATCGTTCTGGTGTCGCTTTTCAATTGA\n",
    "```\n",
    "\n",
    "http://www.ncbi.nlm.nih.gov/protein/221330128?report=fasta\n",
    "```text\n",
    ">gi|221330128|ref|NP_001137634.1| synaptobrevin, isoform D [Drosophila melanogaster]\n",
    "MENNEAPSPSGSNNNENNNAAQKKLQQTQAKVDEVVGIMRVNVEKVLERDQKLSELGERADQLEQGASQF\n",
    "EQQAGKLKRKQWWANMKMMIILGVIAVVLLIIVLVSLFN\n",
    "```"
   ]
  },
  {
   "cell_type": "markdown",
   "metadata": {},
   "source": [
    "**a)** Does `find_codon_lesson6()` work as you would like it to? To answer this question think about the following questions:\n",
    ">1. Where does it find `ATG` in the nucleotide sequence provided above? Is the result correct?\n",
    "2. How about `AAT`?\n",
    "3. How about the codons `TGT` and `TGT`? What residue do these last two codons encode (for your convenience, [standard genetic code](https://en.wikipedia.org/wiki/DNA_codon_table))?\n",
    "4. Does this residue exist in the protein sequence above? \n",
    "\n",
    "If you'd like, go ahead and use another [tool](http://web.expasy.org/translate/) to translate the nucleotide sequence to confirm yourself."
   ]
  },
  {
   "cell_type": "markdown",
   "metadata": {},
   "source": [
    "**b)**  Unfortunately, at this point, you will have found a bug! Formalize this test by writing a new function `test_find_codon(find_codon)`. It takes a single argument the function that is being tested. Write `assert` statements to check if `find_codon` returns the expected value for the 4 codons discussed above (`ATG`, `AAT`, `TGT`, `TGC`).\n",
    "\n",
    "Remember, `assert` statements will raise an exception if they evaluate to `False`."
   ]
  },
  {
   "cell_type": "markdown",
   "metadata": {},
   "source": [
    "**c)** Code up a new function to find a specified codon within a given sequence by revising `find_codon_lesson6`. Of course, you should test it with `test_find_codon()` after it's written."
   ]
  },
  {
   "cell_type": "markdown",
   "metadata": {},
   "source": [
    "## Practice 2: A chemical equilibrium calculator\n",
    "\n",
    "In biochemistry, we often measure dissociation constants ($K_\\mathrm{d}$) using various methods, usually involving titration. A dissociation constant is the equilibrium constant for the chemical reaction\n",
    "\n",
    "\\begin{align}\n",
    "\\mathrm{ab} \\rightleftharpoons \\mathrm{a} + \\mathrm{b}.\n",
    "\\end{align}\n",
    "\n",
    "It is related to the equilibrium concentration of the species a, b, and ab by\n",
    "\n",
    "\\begin{align}\n",
    "K_\\mathrm{d} = \\frac{c_\\mathrm{a}\\,c_\\mathrm{b}}{c_{\\mathrm{ab}}}.\n",
    "\\end{align}\n",
    "\n",
    "To analyze a titration curve, we often have to compute the equilibrium concentrations of the respective species given the parameters $K_\\mathrm{d}$, $c_\\mathrm{a}^0$, and $c_\\mathrm{b}^0$, where the latter two parameters are the total concentrations of species a and b, respectively. This is typically known, as this is what the experimenter pipetted into the reaction solution.\n",
    "\n",
    "As you probably worked out in your undergraduate general chemistry course, the respective equilibrium concentrations can be solved to be\n",
    "\n",
    "\\begin{align}\n",
    "c_\\mathrm{ab} &= \\frac{1}{2}\\left(c_\\mathrm{a}^0 + c_\\mathrm{b}^0 + K_\\mathrm{d} - \\sqrt{\\left(c_\\mathrm{a}^0 + c_\\mathrm{b}^0 + K_\\mathrm{d}\\right)^2 - 4c_\\mathrm{a}^0 c_\\mathrm{b}^0}\\right), \\\\[1em]\n",
    "c_\\mathrm{a} &= c_\\mathrm{a}^0 - c_\\mathrm{ab} \\\\[1em]\n",
    "c_\\mathrm{b} &= c_\\mathrm{b}^0 - c_\\mathrm{ab}\n",
    "\\end{align}\n",
    "\n",
    "Your job is to write a function that computes the three concentrations, $c_\\mathrm{a}$, $c_\\mathrm{b}$, and $c_\\mathrm{ab}$ given inputs $K_\\mathrm{d}$, $c_\\mathrm{a}^0$, and $c_\\mathrm{b}^0$. Use the principles of TDD to develop it from the start. That is, define the call signature, write your first test, and make it fail. Then incrementally build your tests with your function.\n",
    "\n",
    "There is one thing interesting about the way you define your tests for this function. You can check that the solution satisfies the equations describing chemical equilibrium and conservation of mass.\n",
    "\n",
    "\\begin{align}\n",
    "K_\\mathrm{d} &= \\frac{c_\\mathrm{a}\\,c_\\mathrm{b}}{c_{\\mathrm{ab}}}, \\\\[1em]\n",
    "c_\\mathrm{a}^0 &= c_\\mathrm{a} + c_\\mathrm{ab}, \\\\[1em]\n",
    "c_\\mathrm{b}^0 &= c_\\mathrm{b} + c_\\mathrm{ab}.\n",
    "\\end{align}\n",
    "\n",
    "Sometimes you have this luxury, a mathematical statement that must hold for the output of your function. This makes writing tests a bit easier and more intuitive. As a hint, for checking closeness of NumPy arrays, you can use the `np.allclose()` function."
   ]
  }
 ],
 "metadata": {
  "anaconda-cloud": {},
  "kernelspec": {
   "display_name": "Python [default]",
   "language": "python",
   "name": "python3"
  },
  "language_info": {
   "codemirror_mode": {
    "name": "ipython",
    "version": 3
   },
   "file_extension": ".py",
   "mimetype": "text/x-python",
   "name": "python",
   "nbconvert_exporter": "python",
   "pygments_lexer": "ipython3",
   "version": "3.5.2"
  }
 },
 "nbformat": 4,
 "nbformat_minor": 0
}
