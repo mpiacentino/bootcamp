{
 "cells": [
  {
   "cell_type": "markdown",
   "metadata": {},
   "source": [
    "# Lesson 20: Practice with Numpy\n",
    "\n",
    "(c) 2016 Justin Bois. This work is licensed under a [Creative Commons Attribution License CC-BY 4.0](https://creativecommons.org/licenses/by/4.0/). All code contained herein is licensed under an [MIT license](https://opensource.org/licenses/MIT).\n",
    "\n",
    "*This tutorial was generated from a Jupyter notebook.  You can download the notebook [here](l20_practice_with_numpy_1.ipynb).*"
   ]
  },
  {
   "cell_type": "code",
   "execution_count": 2,
   "metadata": {
    "collapsed": true
   },
   "outputs": [],
   "source": [
    "# NumPy, the engine of scientific computing\n",
    "import numpy as np"
   ]
  },
  {
   "cell_type": "markdown",
   "metadata": {},
   "source": [
    "Numpy arrays can take a while to get the hang of. Therefore, it's important to practice practice practice!"
   ]
  },
  {
   "cell_type": "markdown",
   "metadata": {},
   "source": [
    "## Practice 1: Generating arrays of sequential numbers\n",
    "\n",
    "The functions `np.arange()` and `np.linspace()` are really useful. \n",
    "\n",
    "1. Read their documentation (either using your IPython shell, e.g., `np.arange?`, or by reading the respective webpages ([`np.arange`](http://docs.scipy.org/doc/numpy/reference/generated/numpy.arange.html), [`np.linspace`](http://docs.scipy.org/doc/numpy/reference/generated/numpy.linspace.html))).\n",
    "2. Use `np.arange()` to make an array of numbers 0 through 10.\n",
    "3. Do the same using `np.linspace()`.\n",
    "4. Make sure the data type of each of those arrays is a `float`."
   ]
  },
  {
   "cell_type": "markdown",
   "metadata": {},
   "source": [
    "## Practice 2: Computing things!\n",
    "\n",
    "In the last lesson, we looked at a data set from Harvey and Orbidans on the cross-sectional area of *C. elegans* eggs. Recall, we loaded the data like this:"
   ]
  },
  {
   "cell_type": "code",
   "execution_count": 3,
   "metadata": {
    "collapsed": false
   },
   "outputs": [],
   "source": [
    "# Load in data\n",
    "xa_high = np.loadtxt('data/xa_high_food.csv', comments='#')\n",
    "xa_low = np.loadtxt('data/xa_low_food.csv', comments='#')"
   ]
  },
  {
   "cell_type": "markdown",
   "metadata": {},
   "source": [
    "Now we would like to compute the diameter of the egg from the cross-sectional area. Write a function that takes in an array of cross-sectional areas and returns an array of diameters. Recall that the diameter $d$ and cross-sectional area $A$ are related by $A = \\pi d^2/4$. There should be no `for` loops in your function!\n",
    "\n",
    "Below, is a skeleton for your function for you to fill in."
   ]
  },
  {
   "cell_type": "code",
   "execution_count": null,
   "metadata": {
    "collapsed": true
   },
   "outputs": [],
   "source": [
    "def xa_to_diameter(xa):\n",
    "    \"\"\"\n",
    "    Convert an array of cross-sectional areas\n",
    "    to diameters with commensurate units.\n",
    "    \"\"\"\n",
    "    \n",
    "    # Compute diameter from area\n",
    "    diameter = ____\n",
    "    \n",
    "    return diameter"
   ]
  },
  {
   "cell_type": "markdown",
   "metadata": {},
   "source": [
    "Use your function to compute the diameters of the eggs."
   ]
  },
  {
   "cell_type": "markdown",
   "metadata": {},
   "source": [
    "## Practice 3: Working with two-dimensional arrays\n",
    "\n",
    "Numpy enables you do to matrix calculations on two-dimensional arrays. In exercise, you will practice doing matrix calculations on arrays. We'll start by making a matrix and a vector to practice with. You can copy the code below into your script or IPython shell."
   ]
  },
  {
   "cell_type": "code",
   "execution_count": 7,
   "metadata": {
    "collapsed": false
   },
   "outputs": [],
   "source": [
    "A = np.array([[6.7, 1.3, 0.6, 0.7],\n",
    "              [0.1, 5.5, 0.4, 2.4],\n",
    "              [1.1, 0.8, 4.5, 1.7],\n",
    "              [0.0, 1.5, 3.4, 7.5]])\n",
    "\n",
    "b = np.array([1.1, 2.3, 3.3, 3.9])"
   ]
  },
  {
   "cell_type": "markdown",
   "metadata": {},
   "source": [
    "First, let's practice slicing.\n",
    "\n",
    "1. Print row 1 (remember, indexing starts at zero) of `A`.\n",
    "2. Print columns 1 and 3 of `A`.\n",
    "3. Print the values of every entry in `A` that is greater than 2.\n",
    "4. Print the diagonal of `A`. using the `np.diag()` function."
   ]
  },
  {
   "cell_type": "markdown",
   "metadata": {},
   "source": [
    "The `np.linalg` module has some powerful linear algebra tools. \n",
    "\n",
    "1. First, we'll solve the linear system $\\mathsf{A}\\cdot \\mathbf{x} = \\mathbf{b}$. Try it out: use `np.linalg.solve()`. Store your answer in the Numpy array `x`.\n",
    "2. Now do `np.dot(A, x)` to verify that $\\mathsf{A}\\cdot \\mathbf{x} = \\mathbf{b}$.\n",
    "3. Use `np.transpose()` to compute the transpose of `A`.\n",
    "4. Use `np.linalg.inv()` to compute the inverse of `A`."
   ]
  },
  {
   "cell_type": "markdown",
   "metadata": {},
   "source": [
    "Sometimes you want to convert a two-dimensional array to a one-dimensional array. This can be done with `np.ravel()`. \n",
    "\n",
    "1. See what happens when you do `B = np.ravel(A)`.\n",
    "2. Look of the documentation for `np.reshape()`. Then, reshape `B` to make it look like `A` again."
   ]
  }
 ],
 "metadata": {
  "anaconda-cloud": {},
  "kernelspec": {
   "display_name": "Python [default]",
   "language": "python",
   "name": "python3"
  },
  "language_info": {
   "codemirror_mode": {
    "name": "ipython",
    "version": 3
   },
   "file_extension": ".py",
   "mimetype": "text/x-python",
   "name": "python",
   "nbconvert_exporter": "python",
   "pygments_lexer": "ipython3",
   "version": "3.5.2"
  }
 },
 "nbformat": 4,
 "nbformat_minor": 0
}
