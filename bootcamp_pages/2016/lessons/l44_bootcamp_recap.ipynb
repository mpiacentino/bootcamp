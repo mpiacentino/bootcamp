{
 "cells": [
  {
   "cell_type": "markdown",
   "metadata": {
    "nbpresent": {
     "id": "07219f40-fd67-4a28-aaeb-0d91472b54ed"
    },
    "slideshow": {
     "slide_type": "slide"
    }
   },
   "source": [
    "# Lesson 44: Bootcamp recap\n",
    "\n",
    "\n",
    "*This lesson was generated from a Jupyter notebook.  You can download the notebook [here](l44_bootcamp_recap.ipynb).*"
   ]
  },
  {
   "cell_type": "markdown",
   "metadata": {
    "nbpresent": {
     "id": "09ec3cca-96b7-4dc6-92a2-a71fc41f3a47"
    },
    "slideshow": {
     "slide_type": "slide"
    }
   },
   "source": [
    "# `Hello, world`"
   ]
  },
  {
   "cell_type": "code",
   "execution_count": 1,
   "metadata": {
    "collapsed": false,
    "nbpresent": {
     "id": "1dd0d35e-d171-4624-bf08-3ecf74197790"
    },
    "slideshow": {
     "slide_type": "subslide"
    }
   },
   "outputs": [
    {
     "name": "stdout",
     "output_type": "stream",
     "text": [
      "hello, world\n"
     ]
    }
   ],
   "source": [
    "print('hello, world')"
   ]
  },
  {
   "cell_type": "markdown",
   "metadata": {
    "nbpresent": {
     "id": "c8dd2242-aee1-452e-923e-6ac388411671"
    },
    "slideshow": {
     "slide_type": "slide"
    }
   },
   "source": [
    "# Command line mastery\n",
    "\n",
    "\"Ugh.  I'm just going to do it on the command line.\"  --Overheard at bootcamp"
   ]
  },
  {
   "cell_type": "markdown",
   "metadata": {
    "nbpresent": {
     "id": "db72a144-5703-4a17-8d17-6784011d53fa"
    },
    "slideshow": {
     "slide_type": "slide"
    }
   },
   "source": [
    "# Scripting\n",
    "\n",
    "You now have a very efficient assistant."
   ]
  },
  {
   "cell_type": "markdown",
   "metadata": {
    "nbpresent": {
     "id": "ee80f556-8051-4729-ba1b-aa88505c9c82"
    },
    "slideshow": {
     "slide_type": "slide"
    }
   },
   "source": [
    "# Version control\n",
    "\n",
    "You can now sleep easy"
   ]
  },
  {
   "cell_type": "markdown",
   "metadata": {
    "nbpresent": {
     "id": "7dd01c30-33d5-4494-9dcc-e852b0852b51"
    },
    "slideshow": {
     "slide_type": "subslide"
    }
   },
   "source": [
    "...and collaborate"
   ]
  },
  {
   "cell_type": "markdown",
   "metadata": {
    "nbpresent": {
     "id": "c0afdbf5-4d26-4784-965f-99f8f9cd8ddd"
    },
    "slideshow": {
     "slide_type": "subslide"
    }
   },
   "source": [
    "...and do better, reproducible, sharable science"
   ]
  },
  {
   "cell_type": "markdown",
   "metadata": {
    "nbpresent": {
     "id": "46a881b6-110e-4ebe-8423-cbc79155fda9"
    },
    "slideshow": {
     "slide_type": "subslide"
    }
   },
   "source": [
    "...and the bootcamp has code on the internet for all!"
   ]
  },
  {
   "cell_type": "markdown",
   "metadata": {
    "nbpresent": {
     "id": "118c65bd-5165-40a4-8e3a-f3aafa3c15f8"
    },
    "slideshow": {
     "slide_type": "slide"
    }
   },
   "source": [
    "# Data types\n",
    "\n",
    "* `int`s\n",
    "* `float`s\n",
    "* `str`ings\n",
    "* `bool`s\n",
    "* `list`s\n",
    "* `tuple`s\n",
    "* `dict`ionaries\n",
    "* `set`s\n",
    "* functions, file handles, NumPy arrays, `DataFrame`s, ..."
   ]
  },
  {
   "cell_type": "markdown",
   "metadata": {
    "slideshow": {
     "slide_type": "slide"
    }
   },
   "source": [
    "# NumPy arrays\n",
    "\n",
    "Slicing and dicing"
   ]
  },
  {
   "cell_type": "markdown",
   "metadata": {
    "slideshow": {
     "slide_type": "subslide"
    }
   },
   "source": [
    "Random number generation (probability is the mathematical language of biology)"
   ]
  },
  {
   "cell_type": "markdown",
   "metadata": {
    "slideshow": {
     "slide_type": "subslide"
    }
   },
   "source": [
    "Regressions"
   ]
  },
  {
   "cell_type": "markdown",
   "metadata": {
    "nbpresent": {
     "id": "f3004b46-db3a-422a-b5a2-f112c6f95110"
    },
    "slideshow": {
     "slide_type": "subslide"
    }
   },
   "source": [
    "Anything you want to do with groups of numbers"
   ]
  },
  {
   "cell_type": "markdown",
   "metadata": {
    "slideshow": {
     "slide_type": "slide"
    }
   },
   "source": [
    "# Matplotlib/Seaborn\n",
    "Your plotting is"
   ]
  },
  {
   "cell_type": "markdown",
   "metadata": {
    "slideshow": {
     "slide_type": "subslide"
    }
   },
   "source": [
    "automatic"
   ]
  },
  {
   "cell_type": "markdown",
   "metadata": {
    "slideshow": {
     "slide_type": "subslide"
    }
   },
   "source": [
    "reproducible"
   ]
  },
  {
   "cell_type": "markdown",
   "metadata": {
    "slideshow": {
     "slide_type": "subslide"
    }
   },
   "source": [
    "beautiful."
   ]
  },
  {
   "cell_type": "markdown",
   "metadata": {
    "nbpresent": {
     "id": "adc77df5-8f4e-4237-9634-3704bdac1e9a"
    },
    "slideshow": {
     "slide_type": "slide"
    }
   },
   "source": [
    "# Pandas\n",
    "\n",
    "Your data are organized."
   ]
  },
  {
   "cell_type": "markdown",
   "metadata": {
    "slideshow": {
     "slide_type": "subslide"
    }
   },
   "source": [
    "And accessible."
   ]
  },
  {
   "cell_type": "markdown",
   "metadata": {
    "nbpresent": {
     "id": "5c016583-0481-4b8f-b5bc-9a24fa3146e4"
    },
    "slideshow": {
     "slide_type": "slide"
    }
   },
   "source": [
    "# As a hacker"
   ]
  },
  {
   "cell_type": "markdown",
   "metadata": {
    "slideshow": {
     "slide_type": "subslide"
    }
   },
   "source": [
    "Statistics are tractable and understandable."
   ]
  },
  {
   "cell_type": "markdown",
   "metadata": {
    "slideshow": {
     "slide_type": "subslide"
    }
   },
   "source": [
    "You can *simulate* complex processes."
   ]
  },
  {
   "cell_type": "markdown",
   "metadata": {
    "nbpresent": {
     "id": "0f2f3865-04a5-49f4-a91e-f965d1c00b9c"
    },
    "slideshow": {
     "slide_type": "slide"
    }
   },
   "source": [
    "# Your data\n",
    "\n",
    "have a new master.  Whether images, time series, counts, you name it."
   ]
  },
  {
   "cell_type": "markdown",
   "metadata": {
    "nbpresent": {
     "id": "fbb96fe1-d364-4a86-82b7-12555012d32e"
    },
    "slideshow": {
     "slide_type": "slide"
    }
   },
   "source": [
    "# This is the beginning!\n",
    "\n",
    "I look forward to seeing what you will do!"
   ]
  }
 ],
 "metadata": {
  "anaconda-cloud": {},
  "celltoolbar": "Slideshow",
  "kernelspec": {
   "display_name": "Python [default]",
   "language": "python",
   "name": "python3"
  },
  "language_info": {
   "codemirror_mode": {
    "name": "ipython",
    "version": 3
   },
   "file_extension": ".py",
   "mimetype": "text/x-python",
   "name": "python",
   "nbconvert_exporter": "python",
   "pygments_lexer": "ipython3",
   "version": "3.5.2"
  }
 },
 "nbformat": 4,
 "nbformat_minor": 0
}
