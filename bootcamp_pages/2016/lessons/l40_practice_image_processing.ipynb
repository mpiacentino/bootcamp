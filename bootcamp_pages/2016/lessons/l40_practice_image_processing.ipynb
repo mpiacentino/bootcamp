{
 "cells": [
  {
   "cell_type": "markdown",
   "metadata": {},
   "source": [
    "# Lesson 40: Practicing Image Processing\n",
    "\n",
    "(c) 2016 Justin Bois and Griffin Chure. This work is licensed under a [Creative Commons Attribution License CC-BY 4.0](https://creativecommons.org/licenses/by/4.0/). All code contained herein is licensed under an [MIT license](https://opensource.org/licenses/MIT).\n",
    "\n",
    "*This tutorial was generated from a Jupyter notebook.  You can download the notebook [here](l40_practice_image_processing.ipynb).*"
   ]
  },
  {
   "cell_type": "markdown",
   "metadata": {},
   "source": [
    "## Practice 1: Writing your own segmentation function\n",
    "\n",
    "As you probably noticed during the previous two lessons, there are often a lot of small operations that are sometimes necessary before you can even extract the useful data from the image! Rather than writing out each step whenever you want to process an image, you should write a boilerplate function that can be used to segment *any* phase contrast image of bacteria. Your function should execute the following steps.\n",
    "\n",
    ">1. Correct for \"hot\" or \"bad\" pixels in an image. \n",
    "2. Correct for uneven illumination. \n",
    "3. Perform a thresholding operation.\n",
    "4. Remove bacteria or objects near/touching the image border. \n",
    "5. Remove objects that are too large (or too small) to be bacteria. *Think carefully! For a multipurpose function, would you **always** want the same area cutoff?*\n",
    "6. Remove improperly segmented cells.\n",
    "7. Return a labeled segmentation mask. \n",
    "\n",
    "Run your function on **both** the *Bacillus subtilis* (Lesson 37) and the *E. coli* (Lesson 39) image sets. Does your function work well in both cases? In both of these images, the interpixel distance is 0.063 µm per pixel"
   ]
  },
  {
   "cell_type": "markdown",
   "metadata": {},
   "source": [
    "## Practice 2: Extracting fluorescence information\n",
    "\n",
    "In the previous two lessons, we learned how to identifiy cellular objects in an image that is mostly non-cellular. However, we did not cover how you would extract information from one image (such as the fluorescence image) given a segmentation mask generated from another. Your goal for this practice session is to extract either the mean fluorescence intensity or (for bonus points) the total fluorescence intensity of each cell in our Lesson 39 *E. coli* image. To do this, you should. \n",
    "\n",
    "1. Read the documentation for [skimage.measure.regionprops](http://scikit-image.org/docs/dev/api/skimage.measure.html#skimage.measure.regionprops) and see what properties you can extract given an intensity image and a segmentation mask.\n",
    "\n",
    "2. Using your segmentation mask generated from question 1, extract and store the mean and/or total fluorescence intensity for each cell in a single image in an array or pandas DataFrame.\n",
    "\n",
    "3. Generate a histogram of your extracted intensities. \n",
    "\n",
    "Can you get a good idea of how bright a standard cell is from processing a single image?"
   ]
  }
 ],
 "metadata": {
  "anaconda-cloud": {},
  "kernelspec": {
   "display_name": "Python [default]",
   "language": "python",
   "name": "python3"
  },
  "language_info": {
   "codemirror_mode": {
    "name": "ipython",
    "version": 3
   },
   "file_extension": ".py",
   "mimetype": "text/x-python",
   "name": "python",
   "nbconvert_exporter": "python",
   "pygments_lexer": "ipython3",
   "version": "3.5.2"
  }
 },
 "nbformat": 4,
 "nbformat_minor": 0
}
