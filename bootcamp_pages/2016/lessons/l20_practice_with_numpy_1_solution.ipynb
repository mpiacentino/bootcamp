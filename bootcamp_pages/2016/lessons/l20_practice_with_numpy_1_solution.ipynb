{
 "cells": [
  {
   "cell_type": "markdown",
   "metadata": {},
   "source": [
    "# Lesson 20: Practice with Numpy *solutions*\n",
    "\n",
    "(c) 2016 Justin Bois. This work is licensed under a [Creative Commons Attribution License CC-BY 4.0](https://creativecommons.org/licenses/by/4.0/). All code contained herein is licensed under an [MIT license](https://opensource.org/licenses/MIT).\n",
    "\n",
    "*This tutorial was generated from a Jupyter notebook.  You can download the notebook [here](l20_practice_with_numpy_1_solution.ipynb).*"
   ]
  },
  {
   "cell_type": "code",
   "execution_count": 1,
   "metadata": {
    "collapsed": true
   },
   "outputs": [],
   "source": [
    "# NumPy, the engine of scientific computing\n",
    "import numpy as np"
   ]
  },
  {
   "cell_type": "markdown",
   "metadata": {},
   "source": [
    "Numpy arrays can take a while to get the hang of. Therefore, it's important to practice practice practice!"
   ]
  },
  {
   "cell_type": "markdown",
   "metadata": {},
   "source": [
    "## Practice 1: Generating arrays of sequential numbers\n",
    "\n",
    "The functions `np.arange()` and `np.linspace()` are really useful. \n",
    "\n",
    "1. Read their documentation (either using your IPython shell, e.g., `np.arange?`, or by reading the respective webpages ([`np.arange`](http://docs.scipy.org/doc/numpy/reference/generated/numpy.arange.html), [`np.linspace`](http://docs.scipy.org/doc/numpy/reference/generated/numpy.linspace.html))).\n",
    "2. Use `np.arange()` to make an array of numbers 0 through 10.\n",
    "3. Do the same using `np.linspace()`.\n",
    "4. Make sure the data type of each of those arrays is a `float`."
   ]
  },
  {
   "cell_type": "markdown",
   "metadata": {},
   "source": [
    "### Practice 1: solution"
   ]
  },
  {
   "cell_type": "code",
   "execution_count": 3,
   "metadata": {
    "collapsed": false
   },
   "outputs": [
    {
     "data": {
      "text/plain": [
       "array([  0.,   1.,   2.,   3.,   4.,   5.,   6.,   7.,   8.,   9.,  10.])"
      ]
     },
     "execution_count": 3,
     "metadata": {},
     "output_type": "execute_result"
    }
   ],
   "source": [
    "# Integers (as floats) 0 through 10\n",
    "np.arange(11, dtype=float)"
   ]
  },
  {
   "cell_type": "code",
   "execution_count": 4,
   "metadata": {
    "collapsed": false
   },
   "outputs": [
    {
     "data": {
      "text/plain": [
       "array([  0.,   1.,   2.,   3.,   4.,   5.,   6.,   7.,   8.,   9.,  10.])"
      ]
     },
     "execution_count": 4,
     "metadata": {},
     "output_type": "execute_result"
    }
   ],
   "source": [
    "# Integers 0 through 10 with np.linspace()\n",
    "np.linspace(0, 10, 11)"
   ]
  },
  {
   "cell_type": "markdown",
   "metadata": {},
   "source": [
    "## Practice 2: Computing things!\n",
    "\n",
    "In the last lesson, we looked at a data set from Harvey and Orbidans on the cross-sectional area of *C. elegans* eggs. Recall, we loaded the data like this:"
   ]
  },
  {
   "cell_type": "code",
   "execution_count": 5,
   "metadata": {
    "collapsed": false
   },
   "outputs": [],
   "source": [
    "# Load in data\n",
    "xa_high = np.loadtxt('data/xa_high_food.csv', comments='#')\n",
    "xa_low = np.loadtxt('data/xa_low_food.csv', comments='#')"
   ]
  },
  {
   "cell_type": "markdown",
   "metadata": {},
   "source": [
    "Now we would like to compute the diameter of the egg from the cross-sectional area. Write a function that takes in an array of cross-sectional areas and returns an array of diameters. Recall that the diameter $d$ and cross-sectional area $A$ are related by $A = \\pi d^2/4$. There should be no `for` loops in your function!\n",
    "\n",
    "Below, is a skeleton for your function for you to fill in."
   ]
  },
  {
   "cell_type": "code",
   "execution_count": null,
   "metadata": {
    "collapsed": true
   },
   "outputs": [],
   "source": [
    "def xa_to_diameter(xa):\n",
    "    \"\"\"\n",
    "    Convert an array of cross-sectional areas\n",
    "    to diameters with commensurate units.\n",
    "    \"\"\"\n",
    "    \n",
    "    # Compute diameter from area\n",
    "    diameter = ____\n",
    "    \n",
    "    return diameter"
   ]
  },
  {
   "cell_type": "markdown",
   "metadata": {},
   "source": [
    "Use your function to compute the diameters of the eggs."
   ]
  },
  {
   "cell_type": "markdown",
   "metadata": {},
   "source": [
    "### Practice 2 solution"
   ]
  },
  {
   "cell_type": "code",
   "execution_count": 9,
   "metadata": {
    "collapsed": false
   },
   "outputs": [
    {
     "name": "stdout",
     "output_type": "stream",
     "text": [
      "Diameters of eggs from well fed mothers:\n",
      " [ 46.29105911  51.22642581  47.76657057  48.5596503   51.59790585\n",
      "  47.61973991  49.33998388  47.89966242  47.21697198  46.94654036\n",
      "  49.08125119  49.84064959  47.9926071   46.29105911  47.69988539\n",
      "  48.40207395  48.15152345  49.3141717   49.57168871  47.87307365\n",
      "  48.30991705  46.29105911  46.12573337  46.24978308  46.41466697\n",
      "  47.87307365  48.15152345  48.95137203  45.72372833  47.18999856\n",
      "  46.68817945  45.98750791  46.53794651  52.2111661   48.70364742\n",
      "  47.23045291  47.06842687  46.81073869  45.97366251  49.57168871\n",
      "  50.8397116   48.54653847  52.08909166  48.24398292]\n",
      "\n",
      "Diameters of eggs from poorly fed mothers:\n",
      " [ 48.40207395  51.58556628  52.55146594  50.31103472  53.06982074\n",
      "  54.57203767  50.32368681  52.24773281  53.99739399  49.44309786\n",
      "  53.87936676  47.9926071   52.41804019  47.87307365  52.11352942\n",
      "  51.21399674  52.44232467  50.47526453  50.8397116   51.56087828\n",
      "  49.84064959  55.96578669  50.72688754  50.58864976  52.18677405\n",
      "  52.44232467  51.78264653  52.57568879  51.86863366  52.67246879\n",
      "  49.05530287  52.67246879  50.72688754  50.07003758  52.32078957\n",
      "  49.18490759  53.72554372  46.67454189  49.19784929  51.88090591\n",
      "  51.85635852  54.8280819   52.07686848  51.22642581  51.96673046\n",
      "  48.29673743  53.04582353  52.07686848  52.35727972  50.57606396\n",
      "  51.70882946  53.54750652  52.23554675  53.54750652  53.18964437\n",
      "  51.96673046  55.38261517]\n"
     ]
    }
   ],
   "source": [
    "def xa_to_diameter(xa):\n",
    "    \"\"\"\n",
    "    Convert an array of cross-sectional areas\n",
    "    to diameters with commensurate units.\n",
    "    \"\"\"\n",
    "    \n",
    "    # Compute diameter from area\n",
    "    diameter = 2 * np.sqrt(xa / np.pi)\n",
    "    \n",
    "    return diameter\n",
    "\n",
    "print('Diameters of eggs from well fed mothers:\\n', xa_to_diameter(xa_high))\n",
    "print('\\nDiameters of eggs from poorly fed mothers:\\n', xa_to_diameter(xa_low))"
   ]
  },
  {
   "cell_type": "markdown",
   "metadata": {},
   "source": [
    "## Practice 3: Working with two-dimensional arrays\n",
    "\n",
    "NumPy enables you do to matrix calculations on two-dimensional arrays. In exercise, you will practice doing matrix calculations on arrays. We'll start by making a matrix and a vector to practice with. You can copy the code below into your script or IPython shell."
   ]
  },
  {
   "cell_type": "code",
   "execution_count": 10,
   "metadata": {
    "collapsed": false
   },
   "outputs": [],
   "source": [
    "A = np.array([[6.7, 1.3, 0.6, 0.7],\n",
    "              [0.1, 5.5, 0.4, 2.4],\n",
    "              [1.1, 0.8, 4.5, 1.7],\n",
    "              [0.0, 1.5, 3.4, 7.5]])\n",
    "\n",
    "b = np.array([1.1, 2.3, 3.3, 3.9])"
   ]
  },
  {
   "cell_type": "markdown",
   "metadata": {},
   "source": [
    "First, let's practice slicing.\n",
    "\n",
    "1. Print row 1 (remember, indexing starts at zero) of `A`.\n",
    "2. Print columns 1 and 3 of `A`.\n",
    "3. Print the values of every entry in `A` that is greater than 2.\n",
    "4. Print the diagonal of `A`. using the `np.diag()` function."
   ]
  },
  {
   "cell_type": "markdown",
   "metadata": {},
   "source": [
    "#### Solution"
   ]
  },
  {
   "cell_type": "code",
   "execution_count": 12,
   "metadata": {
    "collapsed": false
   },
   "outputs": [
    {
     "name": "stdout",
     "output_type": "stream",
     "text": [
      "[ 0.1  5.5  0.4  2.4]\n",
      "[[ 1.3  0.7]\n",
      " [ 5.5  2.4]\n",
      " [ 0.8  1.7]\n",
      " [ 1.5  7.5]]\n",
      "[ 6.7  5.5  2.4  4.5  3.4  7.5]\n",
      "[ 6.7  5.5  4.5  7.5]\n"
     ]
    }
   ],
   "source": [
    "# 1.\n",
    "print(A[1,:])\n",
    "\n",
    "# 2.\n",
    "print(A[:,[1,3]])\n",
    "\n",
    "# 3. \n",
    "print(A[A>2])\n",
    "\n",
    "# 4.\n",
    "print(np.diag(A))"
   ]
  },
  {
   "cell_type": "markdown",
   "metadata": {},
   "source": [
    "The `np.linalg` module has some powerful linear algebra tools. \n",
    "\n",
    "1. First, we'll solve the linear system $\\mathsf{A}\\cdot \\mathbf{x} = \\mathbf{b}$. Try it out: use `np.linalg.solve()`. Store your answer in the Numpy array `x`.\n",
    "2. Now do `np.dot(A, x)` to verify that $\\mathsf{A}\\cdot \\mathbf{x} = \\mathbf{b}$.\n",
    "3. Use `np.transpose()` to compute the transpose of `A`.\n",
    "4. Use `np.linalg.inv()` to compute the inverse of `A`."
   ]
  },
  {
   "cell_type": "markdown",
   "metadata": {},
   "source": [
    "#### Solution"
   ]
  },
  {
   "cell_type": "code",
   "execution_count": 18,
   "metadata": {
    "collapsed": false
   },
   "outputs": [
    {
     "name": "stdout",
     "output_type": "stream",
     "text": [
      "A . x:\n",
      " [ 1.1  2.3  3.3  3.9]\n",
      "\n",
      "b:\n",
      " [ 1.1  2.3  3.3  3.9]\n",
      "\n",
      "transpose of A:\n",
      " [[ 6.7  0.1  1.1  0. ]\n",
      " [ 1.3  5.5  0.8  1.5]\n",
      " [ 0.6  0.4  4.5  3.4]\n",
      " [ 0.7  2.4  1.7  7.5]]\n",
      "\n",
      "inverse of A:\n",
      " [[ 0.15267508 -0.03365026 -0.01778     0.00054854]\n",
      " [-0.00906001  0.19788853  0.03719385 -0.07090934]\n",
      " [-0.04391535 -0.0144834   0.26880108 -0.05219479]\n",
      " [ 0.02172029 -0.0330119  -0.12929526  0.17117684]]\n"
     ]
    }
   ],
   "source": [
    "# 1.\n",
    "x = np.linalg.solve(A, b)\n",
    "\n",
    "# 2.\n",
    "print('A . x:\\n', np.dot(A, x))\n",
    "print('\\nb:\\n', b)\n",
    "\n",
    "# 3.\n",
    "print('\\ntranspose of A:\\n', np.transpose(A))\n",
    "\n",
    "# 4.\n",
    "print('\\ninverse of A:\\n', np.linalg.inv(A))"
   ]
  },
  {
   "cell_type": "markdown",
   "metadata": {},
   "source": [
    "Sometimes you want to convert a two-dimensional array to a one-dimensional array. This can be done with `np.ravel()`. \n",
    "\n",
    "1. See what happens when you do `B = np.ravel(A)`.\n",
    "2. Look of the documentation for `np.reshape()`. Then, reshape `B` to make it look like `A` again."
   ]
  },
  {
   "cell_type": "markdown",
   "metadata": {},
   "source": [
    "#### Solution"
   ]
  },
  {
   "cell_type": "code",
   "execution_count": 19,
   "metadata": {
    "collapsed": false
   },
   "outputs": [
    {
     "name": "stdout",
     "output_type": "stream",
     "text": [
      "[ 6.7  1.3  0.6  0.7  0.1  5.5  0.4  2.4  1.1  0.8  4.5  1.7  0.   1.5  3.4\n",
      "  7.5]\n"
     ]
    },
    {
     "data": {
      "text/plain": [
       "array([[ 6.7,  1.3,  0.6,  0.7],\n",
       "       [ 0.1,  5.5,  0.4,  2.4],\n",
       "       [ 1.1,  0.8,  4.5,  1.7],\n",
       "       [ 0. ,  1.5,  3.4,  7.5]])"
      ]
     },
     "execution_count": 19,
     "metadata": {},
     "output_type": "execute_result"
    }
   ],
   "source": [
    "# 1.\n",
    "B = np.ravel(A)\n",
    "print(B)\n",
    "\n",
    "# 2.\n",
    "np.reshape(B, A.shape)"
   ]
  }
 ],
 "metadata": {
  "anaconda-cloud": {},
  "kernelspec": {
   "display_name": "Python [default]",
   "language": "python",
   "name": "python3"
  },
  "language_info": {
   "codemirror_mode": {
    "name": "ipython",
    "version": 3
   },
   "file_extension": ".py",
   "mimetype": "text/x-python",
   "name": "python",
   "nbconvert_exporter": "python",
   "pygments_lexer": "ipython3",
   "version": "3.5.2"
  }
 },
 "nbformat": 4,
 "nbformat_minor": 0
}
