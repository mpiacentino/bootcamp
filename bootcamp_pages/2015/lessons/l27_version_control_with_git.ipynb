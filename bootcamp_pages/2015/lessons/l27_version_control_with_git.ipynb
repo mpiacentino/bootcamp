{
 "cells": [
  {
   "cell_type": "markdown",
   "metadata": {},
   "source": [
    "# Lesson 27: Version control with Git"
   ]
  },
  {
   "cell_type": "markdown",
   "metadata": {},
   "source": [
    "*This lesson was generated from a Jupyter notebook.  You can download the notebook [here](l27_version_control_with_git.ipynb).*"
   ]
  },
  {
   "cell_type": "markdown",
   "metadata": {},
   "source": [
    "Keeping track of all of the changes in your project over time is good practice.  How many times have you edited something in something you were writing and then wanted to go back and see what you had in the first place?  Wouldn't it be great to know what changes you made and when you made them?\n",
    "\n",
    "A **version control system** facilitates this process of keeping track of changes over time.  Beyond that, it allows multiple people to collaborate and work on parts of the same project simultaneously. \n",
    "\n",
    "There are many version control systems.  The four most prominent, in order of age, are CVS, Subversion, Git, and Mercurial (the first version of Git was released about two weeks before Mercurial, so they are really the same age).  Today, Git and Mercurial seem to dominate.\n",
    "\n",
    "Git was developed by [Linus Torvalds](https://en.wikipedia.org/wiki/Linus_Torvalds), the person who developed the Linux operating system.  He named Linux after himself, and he decided to also name Git after himself (\"git\" is British slang for a stupid person).  Try typing\n",
    "\n",
    "    man git\n",
    "    \n",
    "and read what the `NAME` of the software is.\n",
    "\n",
    "Using Git as a version control system allows communication with remote repositories such as [GitHub](http://github.com/) or [Bitbucket](http://bitbucket.org). Both services provide univesity-affiliated people with a `.edu` email address with perks that include a number of private repositories ([Github](https://education.github.com/pack) and [Bitbucket](https://blog.bitbucket.org/2012/08/20/bitbucket-academic/). \n",
    "\n",
    "Remote repositories are not only a great way for keeping your data safe. They are also an excellent tool for collaboration since Git allows multiple users to edit the shared files simultaneously and has a method to merge changes afterwards.  Public repositories can also serve as a vehicle to distribute code (or other files). "
   ]
  },
  {
   "cell_type": "markdown",
   "metadata": {},
   "source": [
    "## Getting started with Git\n",
    "You can find more information about Git [here](https://git-scm.com/documentation).  It is well documented.  These are excellent one-page cheatsheets ([here](https://training.github.com/kit/downloads/github-git-cheat-sheet.pdf) and [here](http://www.git-tower.com/blog/git-cheat-sheet/)).\n",
    "\n",
    "Let's get started.  You all should have a version of Git installed on your computers.  Open the terminal and navigate into a directory of your choice.  My choice would be `~/bootcamp/git_tutorial`."
   ]
  },
  {
   "cell_type": "markdown",
   "metadata": {},
   "source": [
    "## Setting up Git\n",
    "\n",
    "### Initialize your repository\n",
    "Start by entering:\n",
    "\n",
    "    git init\n",
    "   \n",
    "This will create the directory `.git`\n",
    "You can check this with:\n",
    "\n",
    "    ls -a "
   ]
  },
  {
   "cell_type": "markdown",
   "metadata": {
    "collapsed": true
   },
   "source": [
    "### Configure Git\n",
    "\n",
    "Since this is your first time you should configure Git:\n",
    "\n",
    "    git config --global user.name \"YOUR NAME\"\n",
    "    git config --global user.email \"YOUR EMAIL ADDRESS\"\n",
    "\n",
    "\n",
    "Git requires a text editor, my personal preference is `vi`, but some people prefer `emacs`. (Both have similar capabilities and are extremely powerful. It would be a good idea if you spend some time getting to know one of them.)\n",
    "\n",
    "    git config --global core.editor vi\n",
    "    \n",
    "Both of these text editors are almost entirely keyboard-based and have some esoteric combinations of keystrokes to get things done. So,\n",
    "\n",
    "**`Mac users`**: A simple text editor (but not powerful at all) is `nano`.  You might want to choose this as your `core.editor`.\n",
    "   \n",
    "**`Windows users`**: If you are using Git Bash, `vi` is the only native editor.  It has a notoriously steep learning curve, so if you find yourself trapped in `vi` in your terminal, ask a TA to help you.\n",
    "\n",
    "Now, we can check to see the current configuration with:\n",
    "\n",
    "    git config --list\n",
    "    \n",
    "\n",
    "\n",
    "Git is very well documented and help is easily available. If you need to know more about `config`, for example, just enter:\n",
    "\n",
    "    git help config\n"
   ]
  },
  {
   "cell_type": "markdown",
   "metadata": {},
   "source": [
    "### File tracking\n",
    "First, let's create some files that we can track:\n",
    "\n",
    "    echo \"Hello World\" > test.txt\n",
    "    echo \"bla bla\" > bla.txt\n",
    "    \n",
    "The process involves two steps.\n",
    "\n",
    "1. Add the files we want to track.\n",
    "2. Commit them to the repository."
   ]
  },
  {
   "cell_type": "markdown",
   "metadata": {},
   "source": [
    "#### Adding a file\n",
    "There are different ways to add files, you can find out more with \n",
    "\n",
    "    git help add\n",
    "    \n",
    "But let's look at some of the options:\n",
    "\n",
    "    git add *\n",
    "\n",
    "will add everything (other than dotfiles) in this directory and its subdirectories to be tracked. To add all files ending in `.txt`, we can do\n",
    "\n",
    "    git add *.txt\n",
    "    \n",
    "Finally,\n",
    "\n",
    "    git add test.txt\n",
    "    \n",
    "does what it says it does.  Note that the first two options add more than we may want to, but they are convenient.  If we want to be able to add a while bunch of files, but automatically ignore certain types of files, we can create a \n",
    "\n",
    "    .gitignore\n",
    "    \n",
    "file that contains a list of exceptions.  For example:\n",
    "\n",
    "    echo \"bla.txt\" > .gitignore"
   ]
  },
  {
   "cell_type": "markdown",
   "metadata": {},
   "source": [
    "#### Committing a file\n",
    "Now we are ready to commit:\n",
    "\n",
    "    git commit -m \"first commit\"\n",
    "    \n",
    "The `-m` flag allows you to write a **commit message** that says what happened in this commit.  Because Git tracks all commits, these comment strings are very useful for tracking what is changing from commit to commit and then later if you want to backtrack changes."
   ]
  },
  {
   "cell_type": "markdown",
   "metadata": {},
   "source": [
    "#### Committing modifications\n",
    "\n",
    "Now we can modify our file:\n",
    "\n",
    "    echo \"some changes\" >> test.txt\n",
    "    git add test.txt\n",
    "    git commit -m \"some changes added\""
   ]
  },
  {
   "cell_type": "markdown",
   "metadata": {},
   "source": [
    "#### Logging commits\n",
    "Git keeps track of all the commits we can have a look at the logfile:\n",
    "\n",
    "    git log\n",
    "    \n",
    "Here we see the commits with their messages.  It makes your life much easier when you use descriptive commit messages.\n",
    "\n",
    "Now we are able to see the differences between two commits:\n",
    "\n",
    "    git diff commit1 commit2\n",
    "\n",
    "#### Going back\n",
    "If we break our code we can just go back to the last commit where it was still working using `git checkout`.\n",
    "\n",
    "    git checkout commit1\n",
    "    \n",
    "It's a good idea to commit **early and often**, but *don't commit half-done work* (you can use git's `stash` feature to save these changes)! When working on an implementation, split features into multiple logical chunks, e.g. different functions, test them individually, and commit with descriptive messages in stages. This will help during the debugging process!"
   ]
  },
  {
   "cell_type": "markdown",
   "metadata": {},
   "source": [
    "## Cloning Repositories\n",
    "\n",
    "On [GitHub](https://github.com), you can find all kinds of public repositories.\n",
    "In this section, we will clone a simple package that will hurl Shakespearean insults at you.  We can clone respositories using this syntax:\n",
    "\n",
    "    git clone some_repository target_directory\n",
    "\n",
    "\n",
    "The target directory shouldn't exist prior to issuing this command.  Let's clone the insulter, which is hosted at GitHub.\n",
    "\n",
    "    git clone https://gist.github.com/3165396.git insulter\n",
    "    \n",
    "Now, `cd` to `insulter` and you can start using it, thou  wayward tickle-brained flap-dragon!.\n",
    "\n",
    "    python insulter.py"
   ]
  },
  {
   "cell_type": "markdown",
   "metadata": {},
   "source": [
    "### Another fun repo to clone\n",
    "Now, we'll clone a repo that has a biology-inspired PacMan game written in Python.\n",
    "\n",
    "    git clone https://github.com/HussainAther/dnapacman pacman\n",
    "    \n",
    "Let's have a look:\n",
    "\n",
    "    cd pacman\n",
    "    \n",
    "Here we find some instructions:\n",
    "\n",
    "    less README.md\n",
    "    \n",
    "To run the program the program we require a Python2 environment.  In [Exercise 3](../exercises/e03.html), you set up a Python 2 environment.  Activate it:\n",
    "    \n",
    "On Linux or Mac run:\n",
    "\n",
    "    source activate py2 \n",
    "    \n",
    "On Windows:\n",
    "    \n",
    "    activate py2\n",
    "    \n",
    "And now, play some Bio-PacMan!\n",
    "\n",
    "    python pacman.py"
   ]
  }
 ],
 "metadata": {
  "kernelspec": {
   "display_name": "Python 3",
   "language": "python",
   "name": "python3"
  },
  "language_info": {
   "codemirror_mode": {
    "name": "ipython",
    "version": 3
   },
   "file_extension": ".py",
   "mimetype": "text/x-python",
   "name": "python",
   "nbconvert_exporter": "python",
   "pygments_lexer": "ipython3",
   "version": "3.3.5"
  }
 },
 "nbformat": 4,
 "nbformat_minor": 0
}
