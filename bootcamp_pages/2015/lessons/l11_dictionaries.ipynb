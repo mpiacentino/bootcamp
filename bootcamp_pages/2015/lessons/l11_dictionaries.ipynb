{
 "cells": [
  {
   "cell_type": "markdown",
   "metadata": {},
   "source": [
    "# Lesson 11: Dictionaries (hash tables)"
   ]
  },
  {
   "cell_type": "markdown",
   "metadata": {},
   "source": [
    "*This tutorial was generated from a Jupyter notebook.  You can download the notebook [here](l10_dictionaries.ipynb).*"
   ]
  },
  {
   "cell_type": "markdown",
   "metadata": {},
   "source": [
    "A **mapping object** allows an arbitrary collection of objects to be indexed by an arbtrary collection of values.  That's a mouthful.  It is easier to understand instead by comparing to a sequence.\n",
    "\n",
    "Let's take a sequence of two strings, say a tuple containing a first and last name.\n",
    "\n",
    "    name = ('jane', 'doe')\n",
    "\n",
    "We are restricted on how we reference the sequence.  I.e., the first name is `name[0]`, and the last name is `name[1]`.  A mapping object could instead be indexed like `name['first name']` and `name['last name']`.  You can imagine this would be very useful!\n",
    "\n",
    "**Dictionaries** are the only built-in mapping type in Python.  You might imagine that the Oxford English Dictionary might conveniently be stored as a dictionary.  I.e., you would not want to store definitions that have to be referenced like\n",
    "\n",
    "    oed[103829]\n",
    "    \n",
    "Rather, you would like to get definitions like this:\n",
    "\n",
    "    ode['computer']\n",
    "    \n",
    "Importantly, note that Python **dictionaries have no sense of order**.  Unlike lists and tuples, which are ordered collections, dictionaries have no order.  The key is used to fetch the values from memory.\n",
    "\n",
    "The **only exception** to this rule is if you use integers as your key values. If integers are used as the key values, then Python will automatically sort the dictionary such that `key:value` pairs are listed in ascending order with respect to the key."
   ]
  },
  {
   "cell_type": "markdown",
   "metadata": {},
   "source": [
    "## Dictionary syntax\n",
    "The syntax for creating a dictionary, as usual, is best seen through example."
   ]
  },
  {
   "cell_type": "code",
   "execution_count": 18,
   "metadata": {
    "collapsed": false
   },
   "outputs": [
    {
     "data": {
      "text/plain": [
       "{'a': 6, 'b': 7, 'c': 27.6}"
      ]
     },
     "execution_count": 18,
     "metadata": {},
     "output_type": "execute_result"
    }
   ],
   "source": [
    "my_dict = {'a': 6, 'b': 7, 'c': 27.6}\n",
    "my_dict"
   ]
  },
  {
   "cell_type": "markdown",
   "metadata": {},
   "source": [
    "A dictionary is created using curly braces (`{}`).  Each entry has a **key**, followed by a color, and then the value associated with the key.  In the example above, the keys are all strings, which is the most common use case.  Note that the items can be of any type; in the above example, they are `int`s and a `float`.\n",
    "\n",
    "We could also create the dictionary using the built-in `dict()` function, which expects a tuple of 2-tuples, each one containing a key-value pair."
   ]
  },
  {
   "cell_type": "code",
   "execution_count": 15,
   "metadata": {
    "collapsed": false
   },
   "outputs": [
    {
     "data": {
      "text/plain": [
       "{'a': 6, 'b': 7, 'c': 27.6}"
      ]
     },
     "execution_count": 15,
     "metadata": {},
     "output_type": "execute_result"
    }
   ],
   "source": [
    "dict((('a', 6), ('b', 7), ('c', 27.6)))"
   ]
  },
  {
   "cell_type": "markdown",
   "metadata": {},
   "source": [
    "Finally, we can make a dictionary with keyword arguments to the `dict()` function."
   ]
  },
  {
   "cell_type": "code",
   "execution_count": 37,
   "metadata": {
    "collapsed": false
   },
   "outputs": [
    {
     "data": {
      "text/plain": [
       "{'a': 'yes', 'b': 'no', 'c': 'maybe'}"
      ]
     },
     "execution_count": 37,
     "metadata": {},
     "output_type": "execute_result"
    }
   ],
   "source": [
    "dict(a='yes', b='no', c='maybe')"
   ]
  },
  {
   "cell_type": "markdown",
   "metadata": {},
   "source": [
    "We do not need to have strings as the keys.  In fact, any *immutable* object can be a key."
   ]
  },
  {
   "cell_type": "code",
   "execution_count": 1,
   "metadata": {
    "collapsed": false
   },
   "outputs": [
    {
     "data": {
      "text/plain": [
       "{0: 'zero',\n",
       " 1.7: [1, 2, 3],\n",
       " 'strings are immutable': 42,\n",
       " (5, 6, 'dummy string'): 3.14}"
      ]
     },
     "execution_count": 1,
     "metadata": {},
     "output_type": "execute_result"
    }
   ],
   "source": [
    "my_dict = {0: 'zero',\n",
    "           1.7: [1, 2, 3],\n",
    "           (5, 6, 'dummy string'): 3.14,\n",
    "           'strings are immutable': 42}\n",
    "my_dict"
   ]
  },
  {
   "cell_type": "markdown",
   "metadata": {},
   "source": [
    "However, mutable objects cannot be used as keys."
   ]
  },
  {
   "cell_type": "code",
   "execution_count": 24,
   "metadata": {
    "collapsed": false
   },
   "outputs": [
    {
     "ename": "TypeError",
     "evalue": "unhashable type: 'list'",
     "output_type": "error",
     "traceback": [
      "\u001b[0;31m---------------------------------------------------------------------------\u001b[0m",
      "\u001b[0;31mTypeError\u001b[0m                                 Traceback (most recent call last)",
      "\u001b[0;32m<ipython-input-24-13687bbbeeaa>\u001b[0m in \u001b[0;36m<module>\u001b[0;34m()\u001b[0m\n\u001b[1;32m      1\u001b[0m my_dict = {'mutable is ok': 1,\n\u001b[0;32m----> 2\u001b[0;31m            ['immutable', 'not', 'ok']: 5}\n\u001b[0m",
      "\u001b[0;31mTypeError\u001b[0m: unhashable type: 'list'"
     ]
    }
   ],
   "source": [
    "my_dict = {'mutable is ok': 1,\n",
    "           ['immutable', 'not', 'ok']: 5}"
   ]
  },
  {
   "cell_type": "markdown",
   "metadata": {},
   "source": [
    "## Useful dictionaries in bioinformatics\n",
    "It might be useful to quickly look up 3-letter amino acid codes.  Dictionaries are particularly useful for this."
   ]
  },
  {
   "cell_type": "code",
   "execution_count": 5,
   "metadata": {
    "collapsed": false
   },
   "outputs": [],
   "source": [
    "aa_dict = {'A': 'Ala',\n",
    "           'R': 'Arg',\n",
    "           'N': 'Asn',\n",
    "           'D': 'Asp',\n",
    "           'C': 'Cys',\n",
    "           'Q': 'Gln',\n",
    "           'E': 'Glu',\n",
    "           'G': 'Gly',\n",
    "           'H': 'His',\n",
    "           'I': 'Ile',\n",
    "           'L': 'Leu',\n",
    "           'K': 'Lys',\n",
    "           'M': 'Met',\n",
    "           'F': 'Phe',\n",
    "           'P': 'Pro',\n",
    "           'S': 'Ser',\n",
    "           'T': 'Thr',\n",
    "           'W': 'Trp',\n",
    "           'Y': 'Tyr',\n",
    "           'V': 'Val'}"
   ]
  },
  {
   "cell_type": "markdown",
   "metadata": {},
   "source": [
    "Another useful dictionary would contain the set of codons and the amino acids they code for.  This is build in the code below using the `zip()` function we learned before.  To see the logic on how this is constructed, see the codon table [here](https://en.wikipedia.org/wiki/DNA_codon_table)."
   ]
  },
  {
   "cell_type": "code",
   "execution_count": 8,
   "metadata": {
    "collapsed": false
   },
   "outputs": [
    {
     "name": "stdout",
     "output_type": "stream",
     "text": [
      "{'GGT': 'G', 'CTT': 'L', 'TCT': 'S', 'AGA': 'R', 'TTG': 'L', 'GTC': 'V', 'ATG': 'M', 'TCC': 'S', 'ACA': 'T', 'GTT': 'V', 'AAC': 'N', 'TAT': 'Y', 'GTG': 'V', 'GCC': 'A', 'GGC': 'G', 'TTC': 'F', 'AGG': 'R', 'CGC': 'R', 'TGC': 'C', 'TCA': 'S', 'TTA': 'L', 'ATA': 'I', 'TGT': 'C', 'GAT': 'D', 'TGA': '*', 'AGT': 'S', 'CTA': 'L', 'GCG': 'A', 'ACC': 'T', 'CAA': 'Q', 'AAG': 'K', 'TAC': 'Y', 'ATC': 'I', 'TAG': '*', 'ATT': 'I', 'CTC': 'L', 'CTG': 'L', 'TGG': 'W', 'TTT': 'F', 'AAT': 'N', 'GCA': 'A', 'CAT': 'H', 'CCT': 'P', 'CAC': 'H', 'GAA': 'E', 'GAC': 'D', 'TAA': '*', 'GCT': 'A', 'CCA': 'P', 'GGA': 'G', 'CGG': 'R', 'TCG': 'S', 'AGC': 'S', 'CGT': 'R', 'ACT': 'T', 'CAG': 'Q', 'CCG': 'P', 'GTA': 'V', 'AAA': 'K', 'GAG': 'E', 'CCC': 'P', 'GGG': 'G', 'CGA': 'R', 'ACG': 'T'}\n"
     ]
    }
   ],
   "source": [
    "# The set of DNA bases\n",
    "bases = ['T', 'C', 'A', 'G']\n",
    "\n",
    "# Build list of codons\n",
    "codons = []\n",
    "for first_base in bases:\n",
    "    for second_base in bases:\n",
    "        for third_base in bases:\n",
    "            codons += [first_base + second_base + third_base]\n",
    "\n",
    "# The amino acids that are coded for (* = STOP codon)\n",
    "amino_acids = 'FFLLSSSSYY**CC*WLLLLPPPPHHQQRRRRIIIMTTTTNNKKSSRRVVVVAAAADDEEGGGG'\n",
    "\n",
    "# Build dictionary from tuple of 2-tuples (technically an iterator, but it works)\n",
    "codon_dict = dict(zip(codons, amino_acids))\n",
    "\n",
    "# Show that we did it\n",
    "print(codon_dict)"
   ]
  },
  {
   "cell_type": "markdown",
   "metadata": {},
   "source": [
    "## A dictionary is an implementation of a hash table\n",
    "It is useful to stop and think about how a dictionary works.  Let's create a dictionary and look at where the values are stored in memory."
   ]
  },
  {
   "cell_type": "code",
   "execution_count": 34,
   "metadata": {
    "collapsed": false
   },
   "outputs": [
    {
     "name": "stdout",
     "output_type": "stream",
     "text": [
      "4417255624\n",
      "4297327392\n",
      "4297327424\n",
      "4387749224\n"
     ]
    }
   ],
   "source": [
    "# Create dictionary\n",
    "my_dict = {'a': 6, 'b': 7, 'c':12.6}\n",
    "\n",
    "# Find where they are stored\n",
    "print(id(my_dict))\n",
    "print(id(my_dict['a']))\n",
    "print(id(my_dict['b']))\n",
    "print(id(my_dict['c']))"
   ]
  },
  {
   "cell_type": "markdown",
   "metadata": {},
   "source": [
    "So, each entry in the dictionary is stored at a different location in memory.  The dictionary itself also have its own address.  So, when I index a dictionary with a key, how does the dictionary know which address in memory to use to fetch the value I am interested in?\n",
    "\n",
    "Dictionaries use a **hash function** to do this.  A hash function converts its input to an integer.  For example, we can use Python's built-in hash function to convert the keys to integers."
   ]
  },
  {
   "cell_type": "code",
   "execution_count": 35,
   "metadata": {
    "collapsed": false
   },
   "outputs": [
    {
     "data": {
      "text/plain": [
       "(-6270946236321725506, 7139134932933917989, 3648969169057735723)"
      ]
     },
     "execution_count": 35,
     "metadata": {},
     "output_type": "execute_result"
    }
   ],
   "source": [
    "hash('a'), hash('b'), hash('c')"
   ]
  },
  {
   "cell_type": "markdown",
   "metadata": {},
   "source": [
    "Under the hood, Python then converts these integers to integers that could correspond to locations in memory.  A collection of elements that can be indexed this way is called a **hash table**.  This is a very common data structure in computing.  Wikipedia has a [pretty good discussion on them](https://en.wikipedia.org/wiki/Hash_table)."
   ]
  },
  {
   "cell_type": "markdown",
   "metadata": {},
   "source": [
    "Now, given what you know about how dictionaries work, why do you think immutable objects are not acceptable as keys?"
   ]
  },
  {
   "cell_type": "markdown",
   "metadata": {},
   "source": [
    "## Dictionaries are mutable\n",
    "The title says it all!  Dictionaries are mutable.  This means that they can be changed in place.  For example, if we want to add an element to a dictionary, we use simple syntax."
   ]
  },
  {
   "cell_type": "code",
   "execution_count": 36,
   "metadata": {
    "collapsed": false
   },
   "outputs": [
    {
     "name": "stdout",
     "output_type": "stream",
     "text": [
      "{'c': 12.6, 'b': 7, 'a': 6}\n",
      "{'d': 'Bootcamp is so much fun!', 'c': 12.6, 'b': 7, 'a': 6}\n",
      "{'d': 'Bootcamp is so much fun!', 'c': 12.6, 'b': 7, 'a': 'I was not satisfied with entry a.'}\n"
     ]
    }
   ],
   "source": [
    "# Remind ourselves what the dictionary is\n",
    "print(my_dict)\n",
    "\n",
    "# Add an entry\n",
    "my_dict['d'] = 'Bootcamp is so much fun!'\n",
    "\n",
    "# Look at dictionary again\n",
    "print(my_dict)\n",
    "\n",
    "# Change an entry\n",
    "my_dict['a'] = 'I was not satisfied with entry a.'\n",
    "\n",
    "# Look at it again\n",
    "print(my_dict)"
   ]
  },
  {
   "cell_type": "markdown",
   "metadata": {},
   "source": [
    "## Membership operators with dictionaries\n",
    "The **`in`** and **`not in`** operators work with dictionaries, but both only query keys.  We see this again by example."
   ]
  },
  {
   "cell_type": "code",
   "execution_count": 40,
   "metadata": {
    "collapsed": false
   },
   "outputs": [
    {
     "data": {
      "text/plain": [
       "(True, False, True)"
      ]
     },
     "execution_count": 40,
     "metadata": {},
     "output_type": "execute_result"
    }
   ],
   "source": [
    "# Make a fresh my_dict\n",
    "my_dict = {'a': 1, 'b': 2, 'c': 3}\n",
    "\n",
    "# in works with keys\n",
    "'b' in my_dict, 'd' in my_dict, 'e' not in my_dict"
   ]
  },
  {
   "cell_type": "code",
   "execution_count": 41,
   "metadata": {
    "collapsed": false
   },
   "outputs": [
    {
     "data": {
      "text/plain": [
       "False"
      ]
     },
     "execution_count": 41,
     "metadata": {},
     "output_type": "execute_result"
    }
   ],
   "source": [
    "# Try it with values\n",
    "2 in my_dict"
   ]
  },
  {
   "cell_type": "markdown",
   "metadata": {},
   "source": [
    "Yup!  We get `False`.  Why?  Because `2` is not a *key* in `my_dict`.\n",
    "\n",
    "We can also iterate over the keys in a dictionary."
   ]
  },
  {
   "cell_type": "code",
   "execution_count": 51,
   "metadata": {
    "collapsed": false
   },
   "outputs": [
    {
     "name": "stdout",
     "output_type": "stream",
     "text": [
      "c : 3\n",
      "d : 4\n",
      "a : 1\n"
     ]
    }
   ],
   "source": [
    "for key in my_dict:\n",
    "    print(key, ':', my_dict[key])"
   ]
  },
  {
   "cell_type": "markdown",
   "metadata": {},
   "source": [
    "Notice, again, that there is no sense of order in dictionaries.  We can use `enumerate()` on dictionaries, but the numbers given by `enumerate()` don't really mean anything."
   ]
  },
  {
   "cell_type": "code",
   "execution_count": 53,
   "metadata": {
    "collapsed": false
   },
   "outputs": [
    {
     "name": "stdout",
     "output_type": "stream",
     "text": [
      "0     c : 3\n",
      "1     d : 4\n",
      "2     a : 1\n"
     ]
    }
   ],
   "source": [
    "for i, key in enumerate(my_dict):\n",
    "    print(i, '   ', key, ':', my_dict[key])"
   ]
  },
  {
   "cell_type": "markdown",
   "metadata": {},
   "source": [
    "## Built-in functions for dictionaries\n",
    "The built-in `len()` and `del()` functions work on dictionaries.  \n",
    "\n",
    "* `len(d)` gives the number of entries in dictionary `d`\n",
    "* `del d[k]` deletes entry with key `k` from dictionary `d`\n",
    "\n",
    "This is the first time we've encountered the `del` keyword.  This keyword is used to delete variables and their values from memory.  Just like `len()` can be used to get the length of lists, the `del` keyword can also be to delete items from lists.  Let's see things in practice."
   ]
  },
  {
   "cell_type": "code",
   "execution_count": 49,
   "metadata": {
    "collapsed": false
   },
   "outputs": [
    {
     "name": "stdout",
     "output_type": "stream",
     "text": [
      "my_dict: {'c': 3, 'b': 2, 'd': 4, 'a': 1}\n",
      "my_list: [1, 2, 3, 4]\n",
      "length of my_dict: 4\n",
      "length of my_list: 4\n",
      "post-deleted my_dict: {'c': 3, 'd': 4, 'a': 1}\n",
      "post-deleted my_list: [1, 3, 4]\n"
     ]
    }
   ],
   "source": [
    "# Create my_list and my_dict for reference\n",
    "my_dict = dict(a=1, b=2, c=3, d=4)\n",
    "my_list = [1, 2, 3, 4]\n",
    "\n",
    "# Print them\n",
    "print('my_dict:', my_dict)\n",
    "print('my_list:', my_list)\n",
    "\n",
    "# Get lengths\n",
    "print('length of my_dict:', len(my_dict))\n",
    "print('length of my_list:', len(my_list))\n",
    "\n",
    "# Delete a key from my_dict\n",
    "del my_dict['b']\n",
    "\n",
    "# Delete entry from my_list\n",
    "del my_list[1]\n",
    "\n",
    "# Show post-deleted objects\n",
    "print('post-deleted my_dict:', my_dict)\n",
    "print('post-deleted my_list:', my_list)"
   ]
  },
  {
   "cell_type": "markdown",
   "metadata": {},
   "source": [
    "Note, though, that you cannot delete an item from a tuple."
   ]
  },
  {
   "cell_type": "code",
   "execution_count": 46,
   "metadata": {
    "collapsed": false
   },
   "outputs": [
    {
     "ename": "TypeError",
     "evalue": "'tuple' object doesn't support item deletion",
     "output_type": "error",
     "traceback": [
      "\u001b[0;31m---------------------------------------------------------------------------\u001b[0m",
      "\u001b[0;31mTypeError\u001b[0m                                 Traceback (most recent call last)",
      "\u001b[0;32m<ipython-input-46-477cc61ded22>\u001b[0m in \u001b[0;36m<module>\u001b[0;34m()\u001b[0m\n\u001b[1;32m      1\u001b[0m \u001b[0mmy_tuple\u001b[0m \u001b[0;34m=\u001b[0m \u001b[0;34m(\u001b[0m\u001b[0;36m1\u001b[0m\u001b[0;34m,\u001b[0m \u001b[0;36m2\u001b[0m\u001b[0;34m,\u001b[0m \u001b[0;36m3\u001b[0m\u001b[0;34m,\u001b[0m \u001b[0;36m4\u001b[0m\u001b[0;34m)\u001b[0m\u001b[0;34m\u001b[0m\u001b[0m\n\u001b[0;32m----> 2\u001b[0;31m \u001b[0;32mdel\u001b[0m \u001b[0mmy_tuple\u001b[0m\u001b[0;34m[\u001b[0m\u001b[0;36m1\u001b[0m\u001b[0;34m]\u001b[0m\u001b[0;34m\u001b[0m\u001b[0m\n\u001b[0m",
      "\u001b[0;31mTypeError\u001b[0m: 'tuple' object doesn't support item deletion"
     ]
    }
   ],
   "source": [
    "my_tuple = (1, 2, 3, 4)\n",
    "del my_tuple[1]"
   ]
  },
  {
   "cell_type": "markdown",
   "metadata": {},
   "source": [
    "## Dictionary methods\n",
    "Dictionaries have several built-in methods.  Following are a few of them, assuming the dictionary is `d`.\n",
    "\n",
    "| method | effect |\n",
    "|:-------|:-------|\n",
    "|`d.keys()`|return keys as a tuple|\n",
    "|`d.pop(key)` | return value associated with `key` and delete `key` from `d`|\n",
    "|`d.values()` | return the `(key, value)` pairs in `d` as a tuple|\n",
    "\n",
    "Let's try these out."
   ]
  },
  {
   "cell_type": "code",
   "execution_count": 61,
   "metadata": {
    "collapsed": false
   },
   "outputs": [
    {
     "data": {
      "text/plain": [
       "dict_keys(['c', 'b', 'd', 'a'])"
      ]
     },
     "execution_count": 61,
     "metadata": {},
     "output_type": "execute_result"
    }
   ],
   "source": [
    "my_dict = dict(a=1, b=2, c=3, d=4)\n",
    "my_dict.keys()"
   ]
  },
  {
   "cell_type": "markdown",
   "metadata": {},
   "source": [
    "Note that this is a `dict_keys` object.  We cannot index it.  If, say, we wanted to sort the keys and have them index-able, we would have to convert them to a list."
   ]
  },
  {
   "cell_type": "code",
   "execution_count": 59,
   "metadata": {
    "collapsed": false
   },
   "outputs": [
    {
     "data": {
      "text/plain": [
       "['a', 'b', 'c', 'd']"
      ]
     },
     "execution_count": 59,
     "metadata": {},
     "output_type": "execute_result"
    }
   ],
   "source": [
    "sorted(list(my_dict.keys()))"
   ]
  },
  {
   "cell_type": "markdown",
   "metadata": {},
   "source": [
    "Now let's try popping an entry out of the dictionary."
   ]
  },
  {
   "cell_type": "code",
   "execution_count": 62,
   "metadata": {
    "collapsed": false
   },
   "outputs": [
    {
     "data": {
      "text/plain": [
       "3"
      ]
     },
     "execution_count": 62,
     "metadata": {},
     "output_type": "execute_result"
    }
   ],
   "source": [
    "my_dict.pop('c')"
   ]
  },
  {
   "cell_type": "code",
   "execution_count": 63,
   "metadata": {
    "collapsed": false
   },
   "outputs": [
    {
     "data": {
      "text/plain": [
       "{'a': 1, 'b': 2, 'd': 4}"
      ]
     },
     "execution_count": 63,
     "metadata": {},
     "output_type": "execute_result"
    }
   ],
   "source": [
    "my_dict"
   ]
  },
  {
   "cell_type": "markdown",
   "metadata": {},
   "source": [
    "...and, as we expect, key `'c'` is now deleted, and its value was returned in the call to `my_dict.pop('c')`.  Finally, we can look at the values."
   ]
  },
  {
   "cell_type": "code",
   "execution_count": 64,
   "metadata": {
    "collapsed": false
   },
   "outputs": [
    {
     "data": {
      "text/plain": [
       "dict_values([2, 4, 1])"
      ]
     },
     "execution_count": 64,
     "metadata": {},
     "output_type": "execute_result"
    }
   ],
   "source": [
    "my_dict.values()"
   ]
  },
  {
   "cell_type": "markdown",
   "metadata": {},
   "source": [
    "We get a `dict_values` object, similar to the `dict_keys` object we got with the `my_dict.keys()` method.\n",
    "\n",
    "You can get more information about build-in methods from the [Python documentation](https://docs.python.org/3.5/library/stdtypes.html#built-in-types)."
   ]
  },
  {
   "cell_type": "markdown",
   "metadata": {},
   "source": [
    "## List methods\n",
    "As you may guess, the dictionary method `pop()` has an analog that works for lists.  (Why don't the dictionary `key()` and `values()` methods work for lists?)  We take this opportunity to instroduce a few more useful list methods.  Imagine the list is called `s`.\n",
    "\n",
    "| method | effect |\n",
    "|:-------|:-------|\n",
    "|`s.pop(i)` | return value at index `i` and delete it from the list|\n",
    "|`s.append(x)` | Put `x` at the end of the list|\n",
    "|`s.insert(i, x)`| Insert `x` at index `i` in the list|\n",
    "|`s.remove(x)`| Remove the first occurance of `x` from the list|\n",
    "|`s.reverse()` | Reverse the order of items in the list|"
   ]
  },
  {
   "cell_type": "markdown",
   "metadata": {},
   "source": [
    "## Using dictionaries as kwargs\n",
    "A nifty feature of dictionaries is that they can be passed into functions as keyword arguments.  We covered named keyword arguments in the [Intro to functions lesson](l07_intro_to_functions.html).  In addition to the named keyword arguments, a function can take in arbitrary keyword arguments (**not** arbitrary non-keyword arguments).  This is specified in the function definition by including a last argument with a double-asterisk, `**`."
   ]
  },
  {
   "cell_type": "code",
   "execution_count": 71,
   "metadata": {
    "collapsed": true
   },
   "outputs": [],
   "source": [
    "def my_fun(a, b, **kwargs):\n",
    "    \"\"\"Concatenate sequences.\"\"\"\n",
    "    seq = a + b\n",
    "\n",
    "    for key in kwargs:\n",
    "        seq += kwargs[key]\n",
    "        \n",
    "    return seq"
   ]
  },
  {
   "cell_type": "markdown",
   "metadata": {},
   "source": [
    "Note that kwargs ends up being passed in as a dictionary.  Let's try it."
   ]
  },
  {
   "cell_type": "code",
   "execution_count": 72,
   "metadata": {
    "collapsed": false
   },
   "outputs": [
    {
     "data": {
      "text/plain": [
       "'TGACACCAGGGAGGGGGGGGGAAAATTTTT'"
      ]
     },
     "execution_count": 72,
     "metadata": {},
     "output_type": "execute_result"
    }
   ],
   "source": [
    "my_fun('TGACAC', 'CAGGGA', c='GGGGGGGGG', d='AAAATTTTT')"
   ]
  },
  {
   "cell_type": "markdown",
   "metadata": {},
   "source": [
    "Now, imagine we have a dictionary that contains our values."
   ]
  },
  {
   "cell_type": "code",
   "execution_count": 74,
   "metadata": {
    "collapsed": false
   },
   "outputs": [],
   "source": [
    "my_dict = {'a': 'TGACAC', \n",
    "           'b': 'CAGGGA', \n",
    "           'c': 'GGGGGGGGG', \n",
    "           'd': 'AAAATTTTT'}"
   ]
  },
  {
   "cell_type": "markdown",
   "metadata": {},
   "source": [
    "We can now pass this directly into the function by preceding it with a double asterisk."
   ]
  },
  {
   "cell_type": "code",
   "execution_count": 75,
   "metadata": {
    "collapsed": false
   },
   "outputs": [
    {
     "data": {
      "text/plain": [
       "'TGACACCAGGGAGGGGGGGGGAAAATTTTT'"
      ]
     },
     "execution_count": 75,
     "metadata": {},
     "output_type": "execute_result"
    }
   ],
   "source": [
    "my_fun(**my_dict)"
   ]
  },
  {
   "cell_type": "markdown",
   "metadata": {},
   "source": [
    "Beautiful!  This example is kind of trivial, but you can imagine that it can come in handy, e.g. with large sets of sequence fragments that you read in from a file."
   ]
  }
 ],
 "metadata": {
  "kernelspec": {
   "display_name": "Python 3",
   "language": "python",
   "name": "python3"
  },
  "language_info": {
   "codemirror_mode": {
    "name": "ipython",
    "version": 3
   },
   "file_extension": ".py",
   "mimetype": "text/x-python",
   "name": "python",
   "nbconvert_exporter": "python",
   "pygments_lexer": "ipython3",
   "version": "3.4.3"
  }
 },
 "nbformat": 4,
 "nbformat_minor": 0
}
