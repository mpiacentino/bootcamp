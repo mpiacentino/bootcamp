{
 "cells": [
  {
   "cell_type": "markdown",
   "metadata": {},
   "source": [
    "# Lesson 1: Welcome and `Hello, world.`"
   ]
  },
  {
   "cell_type": "markdown",
   "metadata": {},
   "source": [
    "*This tutorial was generated from a Jupyter notebook.  You can download the notebook [here](l01_welcome_and_hello_world.ipynb).*"
   ]
  },
  {
   "cell_type": "markdown",
   "metadata": {},
   "source": [
    "## Greetings!\n",
    "Welcome to the Introduction to Programming for the Biological Sciences Bootcamp!  We will be using Python as the programming language, and we will use this first lesson to make sure your Python distribution is working properly.  We will also make sure you have a way to use the command line on your machine.\n",
    "\n",
    "Prior to starting the bootcamp, you should have completed [Lesson 0: Configuring your computer](l00_configuring_your_computer.ipynb)."
   ]
  },
  {
   "cell_type": "markdown",
   "metadata": {},
   "source": [
    "## Python 2 vs Python 3\n",
    "We are at an interesting point in Python's history.  Python is currently in version 3.5 (as of September 13, 2015). The problem is that Python 3.x is not backwards compatible with Python 2.x.  Many scientific packages were written in Python 2.x and have been very slow to update to Python 3.  However, Python 3 is Python's present and future, so all packages eventually need to work in Python 3.  Today, most important scientific packages work in Python 3.  All of the packages we will use do, so we will use Python 3 in this course."
   ]
  },
  {
   "cell_type": "markdown",
   "metadata": {},
   "source": [
    "## `Hello, world.` and the `print()` function\n",
    "Traditionally, the first program anyone writes when learning a new language is called \"`Hello, world.`\"  In this program, the words \"`Hello, world.`\" are printed on the screen.  The original `Hello, world.` was likely written by Brian Kernighan, one of the inventors of Linux, and the author of the classic and authoritative [book](http://www.amazon.com/The-Programming-Language-Brian-Kernighan/dp/0131103628) on the C programming language.  In his original, the printed text was \"`hello, world`\" (no period or capital `H`), but people use lots of variants.\n",
    "\n",
    "In these lessons, which are generated using [Jupyter notebooks](http://jupyter.org), code is shown and exectuted in special cells, like the one below."
   ]
  },
  {
   "cell_type": "code",
   "execution_count": 1,
   "metadata": {
    "collapsed": false
   },
   "outputs": [],
   "source": [
    "# This is a code cell.\n",
    "\n",
    "# It does not contain any executable code, just comments."
   ]
  },
  {
   "cell_type": "markdown",
   "metadata": {},
   "source": [
    "In looking at this code cell, we have already learned our first bit of Python syntax.  Lines beginning with the pound sign (`#`) are **comments** and are ignored.\n",
    "\n",
    "Ok, now a code cell with `Hello, world.`"
   ]
  },
  {
   "cell_type": "code",
   "execution_count": 2,
   "metadata": {
    "collapsed": false
   },
   "outputs": [
    {
     "name": "stdout",
     "output_type": "stream",
     "text": [
      "Hello, world.\n"
     ]
    }
   ],
   "source": [
    "print('Hello, world.')"
   ]
  },
  {
   "cell_type": "markdown",
   "metadata": {},
   "source": [
    "Hooray!  We just printed `Hello, world.` to the screen.  To do this, we used Python's built-in `print()` function.  The `print()` function takes as an **argument** a **string**.  It then prints that string to the screen.  We will learn more about function syntax later, but we can already see the rough syntax with the `print()` function.\n",
    "\n",
    "Let's try printing something else."
   ]
  },
  {
   "cell_type": "code",
   "execution_count": 3,
   "metadata": {
    "collapsed": false
   },
   "outputs": [
    {
     "name": "stdout",
     "output_type": "stream",
     "text": [
      "1 2 3 4\n"
     ]
    }
   ],
   "source": [
    "print(1, 2, 3, 4)"
   ]
  },
  {
   "cell_type": "markdown",
   "metadata": {},
   "source": [
    "Ah!  We see that the `print()` function can take multiple arguments and print them in succession.  What if each number had its own `print()` function?"
   ]
  },
  {
   "cell_type": "code",
   "execution_count": 5,
   "metadata": {
    "collapsed": false
   },
   "outputs": [
    {
     "name": "stdout",
     "output_type": "stream",
     "text": [
      "1\n",
      "2\n",
      "3\n",
      "4\n"
     ]
    }
   ],
   "source": [
    "print(1)\n",
    "print(2)\n",
    "print(3)\n",
    "print(4)"
   ]
  },
  {
   "cell_type": "markdown",
   "metadata": {},
   "source": [
    "We see that the `print()` function prints a new line with each command.  But what if we wanted to have successive `print()` calls, but everything displayed on one line?"
   ]
  },
  {
   "cell_type": "code",
   "execution_count": 6,
   "metadata": {
    "collapsed": false
   },
   "outputs": [
    {
     "name": "stdout",
     "output_type": "stream",
     "text": [
      "1  2  3  4\n"
     ]
    }
   ],
   "source": [
    "print(1, end='  ')\n",
    "print(2, end='  ')\n",
    "print(3, end='  ')\n",
    "print(4)"
   ]
  },
  {
   "cell_type": "markdown",
   "metadata": {},
   "source": [
    "Here, we have used the `end` **keyword argument** to specify that the string we print should end with two spaces, and not a new line.  We will learn about keyword arguments later.  \n",
    "\n",
    "With the `print()` function in hand and our ability to make the Python interpreter greet the world, we are now ready to venture into programming!"
   ]
  }
 ],
 "metadata": {
  "kernelspec": {
   "display_name": "Python 3",
   "language": "python",
   "name": "python3"
  },
  "language_info": {
   "codemirror_mode": {
    "name": "ipython",
    "version": 3
   },
   "file_extension": ".py",
   "mimetype": "text/x-python",
   "name": "python",
   "nbconvert_exporter": "python",
   "pygments_lexer": "ipython3",
   "version": "3.3.5"
  }
 },
 "nbformat": 4,
 "nbformat_minor": 0
}
