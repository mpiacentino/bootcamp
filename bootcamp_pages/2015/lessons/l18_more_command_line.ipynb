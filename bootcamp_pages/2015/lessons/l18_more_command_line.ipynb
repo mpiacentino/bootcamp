{
 "cells": [
  {
   "cell_type": "markdown",
   "metadata": {},
   "source": [
    "# Lesson 18: More about the command line "
   ]
  },
  {
   "cell_type": "markdown",
   "metadata": {},
   "source": [
    "*This tutorial was generated from a Jupyter notebook.  You can download the notebook [here](l18_more_command_line.ipynb).*"
   ]
  },
  {
   "cell_type": "markdown",
   "metadata": {},
   "source": [
    "In this lesson, we will continue introducing command line skills.  Like we have said before, you will feel empowered controlling your computer as you master command line skills.  We will go through a set of commands and skills."
   ]
  },
  {
   "cell_type": "markdown",
   "metadata": {},
   "source": [
    "To start, let's navigate into the folder we created in our [first command line lesson](l02_basic_command_line_skills.html).  We left it at `~/bootcamp/command_line_tutorial`."
   ]
  },
  {
   "cell_type": "markdown",
   "metadata": {},
   "source": [
    "## `man`\n",
    "Most commands have a manual that can be accessed right from the terminal itself.  Last time we explored the command `more`.  Note, try this:\n",
    "\n",
    "    man more"
   ]
  },
  {
   "cell_type": "markdown",
   "metadata": {},
   "source": [
    "The manual usually has a description of the command, a synopsis which informs you about the syntax, and a list of options.\n",
    "\n",
    "**Windows users**: Git Bash does not have `man`.  You can also look up `man` pages on the internet, e.g., [here](http://ss64.com/bash/)."
   ]
  },
  {
   "cell_type": "markdown",
   "metadata": {},
   "source": [
    "## `tee`\n",
    "\n",
    "`man tee` will tell you:\n",
    "\n",
    "    tee - read from standard input and write to standard output and files.\n",
    "\n",
    "You will learn also about the authors, if you have some time google Richard M. Stallman.  He's an interesting guy, and a very important person in the past and present of computational tools.  The last time I remember him giving a talk at Caltech, you couldn't get into the lecture hall unless you were a half hour early.\n",
    "\n",
    "Now, back to `tee`.  Try this:\n",
    "\n",
    "    tee testing_tee.txt"
   ]
  },
  {
   "cell_type": "markdown",
   "metadata": {},
   "source": [
    "start typing some text and press return. Repeat the process if you like. When you are done press `ctrl-c`.  Have a look at what you just created (use, `cat` or `less` or `more`)."
   ]
  },
  {
   "cell_type": "markdown",
   "metadata": {},
   "source": [
    "## Pipes (`|`) and redirects (`>`)"
   ]
  },
  {
   "cell_type": "markdown",
   "metadata": {},
   "source": [
    "Shells are very good at stringing commands together. Let's look at an example:\n",
    "\n",
    "    ls | tee contents.txt\n",
    "\n",
    "`ls` lists all the files and folders of the current directory and prints the information to the standard output. By adding the **pipe** character (`|`) we tell the shell to feed this information into the next command instead.\n",
    "\n",
    "Compare this to \n",
    "\n",
    "    ls > contents_again.txt\n",
    "\n",
    "The `>` character redirects from the standard output to a file. When using the tee command the same happens but the information is still passed to the standard output. When redirecting the information is just passed on to the file.\n",
    "Note that redirecting with \"`>`\" to a file will overwrite the file's original content. \n",
    "\n",
    "    ls >> contents_again.txt \n",
    "\n",
    "Using \"`>>`\" will append the output to the file."
   ]
  },
  {
   "cell_type": "markdown",
   "metadata": {},
   "source": [
    "## `echo`\n",
    "\n",
    "`echo` simply prints a line of text to the standard output:\n",
    "\n",
    "    echo \"Thanks for all the fish!\"\n",
    "\n",
    "It can be quite useful in combination with redirects\n",
    "\n",
    "    echo \"Thanks for all the fish\" > hitchhiker_quotes.txt"
   ]
  },
  {
   "cell_type": "markdown",
   "metadata": {},
   "source": [
    "## `grep`\n",
    "\n",
    "We briefly encountered `grep` in the regex lesson.  As a reminder, `grep` searches the input for lines containing a match of a given expression.\n",
    "\n",
    "try:\n",
    "\n",
    "    grep \">\" sequences/1z98.fasta\n",
    "\n",
    "(Why is the `>` symbol in quotes?)  Now try this:\n",
    "\n",
    "    grep -v \">\" sequences/1z98.fasta\n",
    "\n",
    "and this:\n",
    "\n",
    "    grep \"Sequence\" sequences/1z98.fasta\n",
    "    \n",
    "and this:\n",
    "\n",
    "    grep -i \"Sequence\" sequences/1z98.fasta"
   ]
  },
  {
   "cell_type": "markdown",
   "metadata": {},
   "source": [
    "A very useful option is `-li`, try:\n",
    "\n",
    "    grep -li \"ATOM\" *\n",
    "    \n",
    "This prints all the filenames that have a matching line.  Compare the output to this:\n",
    "\n",
    "    grep -li \"ATOM\" */*"
   ]
  },
  {
   "cell_type": "markdown",
   "metadata": {},
   "source": [
    "`grep` is extremely useful when combined with other commands. Try this one:\n",
    "\n",
    "    cat sequences/*.fasta | grep \">\"\n",
    "    \n",
    "The word count command (`wc`) works particularily well with `grep`. Try:\n",
    "\n",
    "    cat sequences/*.fasta | grep \">\" | wc -l\n",
    "    \n",
    "(`man wc` will tell you more about this useful little command.)  Let's looks at that command we just did in more detail.  First, `cat sequences/*.fasta` outputs the entire text of all files in the directory `sequences` that have the `.fasta` suffix.  That is piped to `grep`, meaning that the output of the `cat` command does not go to the screen, but to `grep`.  So, we now take all that text from those files and use `grep` to give all lines that start with `>`.  Those lines are then piped into `wc`, which, with the `-l` flag, gives the number of lines.  Thus, we get a count of the total number of sequences in our FASTA files.  Pretty slick!"
   ]
  },
  {
   "cell_type": "markdown",
   "metadata": {},
   "source": [
    "## `^C`, `^Z`, `bg`, `fg`, `ps`, `top`, `kill`\n",
    "There is a tiny python script called `fibonacci.py`  Have a look at it.\n",
    "It features an endless loop which is perfect for illustrating a number of commands.\n",
    "Start the program by typing:\n",
    "\n",
    "    python fibonacci.py\n",
    "    \n",
    "This will print Fibonacci numbers to the screen forever. Once you have enough you can terminate the script with:\n",
    "\n",
    "    ^C\n",
    "    \n",
    "Let's rerun the script and pipe the output to a file:\n",
    "\n",
    "    python fibonacci.py > fibs\n",
    "\n",
    "This too runs forever.  Instead of terminating the script, we can suspect it.  To do this, type:\n",
    "\n",
    "    ^Z\n",
    "    \n",
    "Next typing\n",
    "\n",
    "    bg\n",
    "    \n",
    "(for \"background\") allows the process to be resumed in the background.  To bring it back to the foreground, type\n",
    "\n",
    "    fg\n",
    "    \n",
    "and now we can terminate it again with \n",
    "\n",
    "    ^C"
   ]
  },
  {
   "cell_type": "markdown",
   "metadata": {},
   "source": [
    "Another way to kill a program is the kill command. For this we need to find out the process id.  First, let's start it up and put it in the background.\n",
    "\n",
    "    python fibonacci.py > fibs\n",
    "    ^Z\n",
    "    bg\n",
    "    \n",
    "Now that it's running in the background, we would like to know what process it is.  Actually, we can find out all processes that are running.  One way to do this is using the `ps` command.\n",
    "\n",
    "    ps \n",
    "    \n",
    "or:\n",
    "    \n",
    "    ps -uaxel\n",
    "    \n",
    "Another useful command that shows you what is going on is:\n",
    "\n",
    "    top\n",
    "    \n",
    "Either command will reveal the process ID.  Once you know the process ID (it will \n",
    "\n",
    "    kill process_id\n",
    "    \n",
    "will do exactly that.  Now, it might be a good idea to delete the fib file. If you like, you can have a look at it first."
   ]
  },
  {
   "cell_type": "markdown",
   "metadata": {},
   "source": [
    "## chmod\n",
    "\n",
    "In order to run fibonacci.py we prefaced it with python. What happens if we just invoke it by itself?\n",
    "\n",
    "    ./fibonacci.py\n",
    "    \n",
    "It tells us that we lack the permisson to execute the command. (Don't worry we talk about the ./ in a bit.)\n",
    "\n",
    "    ls -l\n",
    "\n",
    "On the left we see the read(r), write(w), and execute(x) permissions for owner, group, and all users. \n",
    "\n",
    "Enter:\n",
    "    \n",
    "    chmod u+x \n",
    "\n",
    "and run \n",
    "\n",
    "    ls -l \n",
    "    \n",
    "again. What changed? Have a look at `man chmod` and checkout `chmod 777`.\n",
    "\n",
    "Now run:\n",
    "\n",
    "    ./fibonacci.py"
   ]
  },
  {
   "cell_type": "markdown",
   "metadata": {},
   "source": [
    "## rc files\n",
    "\n",
    "`rc` files contain commands that the corresponding application (or even the operating system) should run at startup, for example `.YOUR_SHELLrc` (in our case that would be `.bashrc`) can contain all kind of commands that make your life in the terminal easier. The suffix `rc` goes back to the early days and stands for \"runcom\" which is an abbreviation for \"run commands\". \n",
    "\n",
    "rc-files are dot-files (configuration files) that are usually located in the home directory. The `ls` command usually ignores them. We need to use \"`ls -a`\" to list them."
   ]
  },
  {
   "cell_type": "markdown",
   "metadata": {},
   "source": [
    "### `.bashrc `\n",
    "\n",
    "Go to your home directory and execute:\n",
    "\n",
    "    ls -a\n",
    "\n",
    "Do you see a `.bashrc` file? If yes, have a look what's in there. \n",
    "\n",
    "This file can be used to customize your terminal in any conceivable way. In this tutorial we just look at one aspect of it. \n",
    "\n",
    "(I recommend you checkout `zsh` as an alternative to `bash`. Together with [Oh My ZSH](http://ohmyz.sh/) (a community driven framework for managing ZSH configuration) it guarantees a fantastic terminal experience.  JB and Axel both use it."
   ]
  },
  {
   "cell_type": "markdown",
   "metadata": {},
   "source": [
    "## Environment variables\n",
    "\n",
    "As [Wikipedia says](https://en.wikipedia.org/wiki/Environment_variable) better than I can, \"Environment variables are a set of dynamic values that can affect the way running processes will behave on a computer.\"\n",
    "\n",
    "The command:\n",
    "\n",
    "    env\n",
    "    \n",
    "will show you which environment variables have been set.  One particularly important environment variable is `PATH`."
   ]
  },
  {
   "cell_type": "markdown",
   "metadata": {},
   "source": [
    "### `PATH`\n",
    "\n",
    "The `PATH` environment variable tells the system which directories the shell has to search for executable files.  This is called the **search path**. It's a list of absolute paths separated by colons.  (Please note, `PATH` is different form a path`path`.)\n",
    "\n",
    "To check what has been already added to PATH we can issue the following command:\n",
    "\n",
    "    echo \"$PATH\"\n",
    "\n",
    "To see how this works, make sure you are in the `~/bootcamp/command_line_tutorial` directory.  There is a little shell script there called `remind_me.sh`.  To run it, do the following.\n",
    "\n",
    "    ./remind_me.sh\n",
    "\n",
    "Now, try running it without the `./` at the beginning.\n",
    "\n",
    "    remind_me.sh\n",
    "    \n",
    "The second one does not work.  This is because whenever you ask the shell to execute something, it searches the directories in `PATH` to find something with that name, unless you give the full path when invoking the executable.  Note that `./remind_me.sh` is the full path.\n",
    "\n",
    "Now, we sometimes want the shell to find items in specific directories, so we can change the `PATH` environement variable.\n",
    "\n",
    "\n",
    "One way to do this is to execute\n",
    "\n",
    "    export PATH=$PATH:/complete/path/to/be/included\n",
    "    \n",
    "Where `/complete/path/to/be/included` is the name of the directory you want to be added to the search path.  This will be used for the remainder of the session. Once you close your terminal it's gone. To make changes permantely we need to add this to the end of the `.bashrc` file. Luckily we have all the tools to do this easily:\n",
    "\n",
    "    \n",
    "    echo \\`export PATH=$PATH:your/path/to/the/file\\` >> ~/.bashrc\n",
    "    \n",
    "Once the `.bashrc` file is modified we need to source it (or open a new terminal) so that the changes can be applied.\n",
    "    \n",
    "    source ~/.bashrc\n",
    "    \n",
    "Let's also have a look at the bashrc file:\n",
    "    \n",
    "    tail ~/.bashrc"
   ]
  },
  {
   "cell_type": "markdown",
   "metadata": {},
   "source": [
    "## `PYTHONPATH`\n",
    "\n",
    "While `PATH` tells the shell where to look for executables `PYTHONPATH` tells Python where to look for modules. It works the same way `PATH` works and it's also appended to the `.bashrc` file:\n",
    "\n",
    "    export PYTHONPATH=${PYTHONPATH}:/path/to/module/directory\n",
    "\n",
    "For example, if you are storing your `.py` files in the directory `~/bootcamp/python_files`, you would do\n",
    "\n",
    "    export PYTHONPATH=${PYTHONPATH}:$HOME/bootcamp/python_files\n",
    "    \n",
    "Then, the Python interpreter will always know where to look for your files (when it it launched from bash)."
   ]
  },
  {
   "cell_type": "markdown",
   "metadata": {},
   "source": [
    "## `conda`\n",
    "\n",
    "Conda is the package and environment manager that comes with your Anaconda installation. It allows you to install packages and makes sure that all dependencies are installed as well and it helps you keeping your installed packages up to date.\n",
    "\n",
    "Have a look at this [cheat sheet](http://conda.pydata.org/docs/_downloads/conda-cheatsheet.pdf).\n",
    "\n",
    "`conda` can also create environments in which specified packages are active. This is important because the requirements of one package may conflict with those of another. For example: We are using Python 3 here, but a lot of packages only work with Python 2. So, by creating a Python 2 environment we make sure that there are no clashes. \n",
    "\n",
    "Let's create a Python 2 environment:\n",
    "\n",
    "    conda create --name py2 python=2.7 anaconda\n",
    "   \n",
    "Once everything is installed you can have a look at all the environments at your disposal:\n",
    "\n",
    "    conda info -e\n",
    "    \n",
    "To activate the environment bootcamp execute the following.\n",
    "    \n",
    "On Linux and Mac:\n",
    "\n",
    "    source activate py2\n",
    "    \n",
    "On Windows:\n",
    "\n",
    "    activate py2"
   ]
  }
 ],
 "metadata": {
  "kernelspec": {
   "display_name": "Python 3",
   "language": "python",
   "name": "python3"
  },
  "language_info": {
   "codemirror_mode": {
    "name": "ipython",
    "version": 3
   },
   "file_extension": ".py",
   "mimetype": "text/x-python",
   "name": "python",
   "nbconvert_exporter": "python",
   "pygments_lexer": "ipython3",
   "version": "3.4.3"
  }
 },
 "nbformat": 4,
 "nbformat_minor": 0
}
