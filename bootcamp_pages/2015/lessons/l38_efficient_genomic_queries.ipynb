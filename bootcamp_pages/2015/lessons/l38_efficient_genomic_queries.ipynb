{
 "cells": [
  {
   "cell_type": "markdown",
   "metadata": {},
   "source": [
    "# Lesson 38: Interval trees and efficient genomic queries"
   ]
  },
  {
   "cell_type": "markdown",
   "metadata": {},
   "source": [
    "*This tutorial was generated from a Jupyter notebook.  You can download the notebook [here](l38_efficient_genomic_queries.ipynb).*"
   ]
  },
  {
   "cell_type": "markdown",
   "metadata": {},
   "source": [
    "A common application when manipulating genomic data are queries on genomic intervals. For example, trying to find all genes within a given genomic region or identifying other transcript isoforms that overlap a gene of interest.\n",
    "\n",
    "The naive approach of simply storing all features and searching for it through iteration can be very inefficient especially for large datasets (such as those that are common in genomics)."
   ]
  },
  {
   "cell_type": "markdown",
   "metadata": {},
   "source": [
    "Because of the nature of genomic intervals, there are more efficient data structures that enable faster queries based on position.\n",
    "\n",
    "The approach used is based on a general class of solutions and datastructures known as an Interval Tree"
   ]
  },
  {
   "cell_type": "markdown",
   "metadata": {},
   "source": [
    "There is an implementation of an Interval Tree in python that can be installed as follows:\n",
    "\n",
    "    pip install intervaltree"
   ]
  },
  {
   "cell_type": "markdown",
   "metadata": {},
   "source": [
    "Now that we have this installed, let's explore the functionality a bit. "
   ]
  },
  {
   "cell_type": "code",
   "execution_count": 19,
   "metadata": {
    "collapsed": false
   },
   "outputs": [],
   "source": [
    "import intervaltree"
   ]
  },
  {
   "cell_type": "markdown",
   "metadata": {},
   "source": [
    "First, let's build a tree from a set of genes:"
   ]
  },
  {
   "cell_type": "code",
   "execution_count": 20,
   "metadata": {
    "collapsed": false
   },
   "outputs": [],
   "source": [
    "tree = intervaltree.IntervalTree() # Initialize an empty tree"
   ]
  },
  {
   "cell_type": "code",
   "execution_count": 21,
   "metadata": {
    "collapsed": false
   },
   "outputs": [],
   "source": [
    "with open('chr3.genes.bed', 'r') as f:\n",
    "    for line in f:\n",
    "        tokens=line.split(\"\\t\")\n",
    "        tree.addi(int(tokens[1]), int(tokens[2]), tokens[3])"
   ]
  },
  {
   "cell_type": "markdown",
   "metadata": {},
   "source": [
    "We now have a tree that contains the positions of all genes on mouse chromosome 3"
   ]
  },
  {
   "cell_type": "markdown",
   "metadata": {},
   "source": [
    "Let's find all genes at a specific location. We'll use the Sox2 locus, which has these 2 genes\n",
    "![some text](Sox2Locus.png)"
   ]
  },
  {
   "cell_type": "code",
   "execution_count": 22,
   "metadata": {
    "collapsed": false
   },
   "outputs": [
    {
     "data": {
      "text/plain": [
       "{Interval(34459302, 34576915, 'NR_015580'),\n",
       " Interval(34548926, 34551382, 'NM_011443')}"
      ]
     },
     "execution_count": 22,
     "metadata": {},
     "output_type": "execute_result"
    }
   ],
   "source": [
    "tree.search(34548927, 34551382)"
   ]
  },
  {
   "cell_type": "markdown",
   "metadata": {},
   "source": [
    "But, you can even look at larger regions such as the following one with many genes:\n",
    "![some text](largerLocus.png)"
   ]
  },
  {
   "cell_type": "code",
   "execution_count": 23,
   "metadata": {
    "collapsed": false
   },
   "outputs": [
    {
     "data": {
      "text/plain": [
       "{Interval(25330762, 26230831, 'NM_138666'),\n",
       " Interval(26536552, 26826403, 'NM_027583'),\n",
       " Interval(26536552, 26882134, 'NM_029150'),\n",
       " Interval(26996143, 27052776, 'NM_001177625'),\n",
       " Interval(26996143, 27052776, 'NM_007900'),\n",
       " Interval(26996143, 27052800, 'NM_001177626'),\n",
       " Interval(27052947, 27055941, 'NR_040548'),\n",
       " Interval(27081925, 27143833, 'NM_178772'),\n",
       " Interval(27215998, 27238587, 'NM_009425'),\n",
       " Interval(27270272, 27276932, 'NM_177330'),\n",
       " Interval(27315083, 27609361, 'NM_173182'),\n",
       " Interval(27483821, 27483917, 'NR_037275'),\n",
       " Interval(27764986, 27795290, 'NM_001164437'),\n",
       " Interval(27837601, 28032284, 'NM_001164056'),\n",
       " Interval(27883092, 28032284, 'NM_008875'),\n",
       " Interval(28162135, 28565371, 'NM_001163009'),\n",
       " Interval(28162135, 28569507, 'NM_001163007'),\n",
       " Interval(28162135, 28569507, 'NM_001163008'),\n",
       " Interval(28162135, 28569507, 'NM_026910'),\n",
       " Interval(28318864, 28318940, 'NR_130342'),\n",
       " Interval(28596824, 28627282, 'NM_031197'),\n",
       " Interval(28680232, 28697768, 'NM_177586'),\n",
       " Interval(28704432, 28706337, 'NM_026517'),\n",
       " Interval(28791538, 28825646, 'NM_001033479'),\n",
       " Interval(28981498, 29589978, 'NM_001167748'),\n",
       " Interval(28981498, 29589978, 'NM_029412'),\n",
       " Interval(29315744, 29315842, 'NR_030422'),\n",
       " Interval(29535665, 29535773, 'NR_105796'),\n",
       " Interval(29789938, 29823113, 'NR_110437'),\n",
       " Interval(29850217, 29912126, 'NM_007963'),\n",
       " Interval(30135490, 30408409, 'NM_021442'),\n",
       " Interval(30495994, 30498792, 'NM_029690'),\n",
       " Interval(30501008, 30518795, 'NM_001289621'),\n",
       " Interval(30501008, 30518795, 'NM_001289622'),\n",
       " Interval(30501008, 30518795, 'NM_001289623'),\n",
       " Interval(30501008, 30518795, 'NM_030557'),\n",
       " Interval(30523188, 30546740, 'NM_027941'),\n",
       " Interval(30543428, 30571353, 'NM_026668'),\n",
       " Interval(30546807, 30571353, 'NM_001290510'),\n",
       " Interval(30577475, 30598765, 'NM_001309233'),\n",
       " Interval(30645214, 30666096, 'NM_029489'),\n",
       " Interval(30645214, 30666096, 'NR_028060'),\n",
       " Interval(30691797, 30720185, 'NM_027016'),\n",
       " Interval(30754871, 30796116, 'NM_001134385'),\n",
       " Interval(30754871, 30796116, 'NM_001134386'),\n",
       " Interval(30754871, 30796116, 'NM_001286994'),\n",
       " Interval(30754871, 30796116, 'NM_001286995'),\n",
       " Interval(30754871, 30796116, 'NM_001286996'),\n",
       " Interval(30754871, 30796116, 'NM_027965'),\n",
       " Interval(30798216, 30868337, 'NM_001165954'),\n",
       " Interval(30798216, 30868337, 'NM_001165955'),\n",
       " Interval(30798216, 30868337, 'NM_001165956'),\n",
       " Interval(30798216, 30868337, 'NM_153421'),\n",
       " Interval(30894692, 30951662, 'NM_008857'),\n",
       " Interval(30937887, 30937950, 'NR_105975'),\n",
       " Interval(30993979, 31021845, 'NM_001039090'),\n",
       " Interval(30993979, 31021845, 'NM_001271772'),\n",
       " Interval(30993979, 31021845, 'NM_011386'),\n",
       " Interval(31048841, 31063248, 'NM_008770'),\n",
       " Interval(31101777, 31209241, 'NM_172861'),\n",
       " Interval(31801624, 32099102, 'NM_028231'),\n",
       " Interval(32233715, 32264587, 'NM_009517'),\n",
       " Interval(32264410, 32266360, 'NR_027966'),\n",
       " Interval(32335072, 32367408, 'NM_008839'),\n",
       " Interval(32371242, 32390891, 'NM_001195074'),\n",
       " Interval(32409471, 32419755, 'NM_001161818'),\n",
       " Interval(32409513, 32419755, 'NM_144519'),\n",
       " Interval(32428403, 32478147, 'NM_024200'),\n",
       " Interval(32482449, 32515457, 'NM_013531'),\n",
       " Interval(32607467, 32625893, 'NM_019673'),\n",
       " Interval(32626418, 32635677, 'NM_029017'),\n",
       " Interval(32635984, 32650481, 'NM_025316'),\n",
       " Interval(32716547, 32834179, 'NM_001013024'),\n",
       " Interval(32846847, 32884001, 'NM_001163517'),\n",
       " Interval(32846847, 32981982, 'NM_001289505'),\n",
       " Interval(32846847, 32981982, 'NM_001310460'),\n",
       " Interval(32846847, 32981982, 'NM_021483'),\n",
       " Interval(32846847, 33042113, 'NM_001163516'),\n",
       " Interval(32923698, 32987529, 'NR_040595'),\n",
       " Interval(33699104, 33713782, 'NM_001290500'),\n",
       " Interval(33699104, 33713782, 'NM_001290502'),\n",
       " Interval(33699104, 33713782, 'NM_025978'),\n",
       " Interval(33699104, 33713782, 'NM_027619'),\n",
       " Interval(33711282, 33743232, 'NM_026222'),\n",
       " Interval(33919000, 33968266, 'NM_001113188'),\n",
       " Interval(33919000, 33968266, 'NM_001113189'),\n",
       " Interval(33919000, 33968266, 'NM_008053'),\n",
       " Interval(33956201, 33980276, 'NM_001026211'),\n",
       " Interval(33976206, 33980276, 'NM_001286973'),\n",
       " Interval(33976206, 33980276, 'NM_026332'),\n",
       " Interval(33976272, 33980276, 'NM_001286972'),\n",
       " Interval(34459302, 34576915, 'NR_015580'),\n",
       " Interval(34537385, 34537464, 'NR_035433'),\n",
       " Interval(34548926, 34551382, 'NM_011443'),\n",
       " Interval(34598561, 34615584, 'NR_038347'),\n",
       " Interval(34608544, 34615584, 'NR_038348'),\n",
       " Interval(34670996, 34681268, 'NR_110488'),\n",
       " Interval(34821466, 34821573, 'NR_105799'),\n",
       " Interval(35496073, 35565085, 'NR_040748'),\n",
       " Interval(35653059, 35755198, 'NM_029570'),\n",
       " Interval(35791026, 35828996, 'NM_033623'),\n",
       " Interval(35791026, 35831256, 'NM_001205362'),\n",
       " Interval(35791026, 35831888, 'NM_001205361'),\n",
       " Interval(35858230, 35899600, 'NM_023644'),\n",
       " Interval(35898834, 35907750, 'NR_029456'),\n",
       " Interval(35906168, 35952469, 'NM_178418'),\n",
       " Interval(35964921, 35991779, 'NM_172678'),\n",
       " Interval(36050001, 36069263, 'NM_001101478'),\n",
       " Interval(36078347, 36121197, 'NM_198192'),\n",
       " Interval(36347845, 36374809, 'NM_009673'),\n",
       " Interval(36374382, 36374446, 'NR_105976'),\n",
       " Interval(36374858, 36381221, 'NM_028183'),\n",
       " Interval(36398725, 36405731, 'NR_040590'),\n",
       " Interval(36413978, 36420367, 'NR_040411'),\n",
       " Interval(36451527, 36464649, 'NM_019393'),\n",
       " Interval(36463786, 36470918, 'NM_009828'),\n",
       " Interval(36472064, 36512311, 'NM_027810'),\n",
       " Interval(36519403, 36589089, 'NM_019510'),\n",
       " Interval(36762027, 36951955, 'NM_172679'),\n",
       " Interval(36962577, 37010434, 'NM_009350'),\n",
       " Interval(37019641, 37024876, 'NM_008366'),\n",
       " Interval(37121680, 37131558, 'NM_001291041'),\n",
       " Interval(37121680, 37131558, 'NM_021782'),\n",
       " Interval(37207548, 37211368, 'NM_145825'),\n",
       " Interval(37211475, 37220372, 'NM_001255992'),\n",
       " Interval(37211475, 37220373, 'NM_001008502'),\n",
       " Interval(37247574, 37303752, 'NM_008006'),\n",
       " Interval(37303903, 37318518, 'NM_001291044'),\n",
       " Interval(37303903, 37318518, 'NM_153561'),\n",
       " Interval(37318871, 37478018, 'NM_001163511'),\n",
       " Interval(37318871, 37478018, 'NM_001310473'),\n",
       " Interval(37318871, 37478018, 'NM_021343'),\n",
       " Interval(37508812, 37514198, 'NR_130162'),\n",
       " Interval(37512834, 37514198, 'NR_130161'),\n",
       " Interval(37512834, 37514198, 'NR_130163'),\n",
       " Interval(37538868, 37543521, 'NM_001305440'),\n",
       " Interval(37538868, 37543521, 'NM_001305441'),\n",
       " Interval(37538868, 37543521, 'NM_001305442'),\n",
       " Interval(37538868, 37543521, 'NM_011896'),\n",
       " Interval(37613111, 37623282, 'NM_198657'),\n",
       " Interval(37797734, 37891650, 'NR_040559'),\n",
       " Interval(38102072, 38107041, 'NR_040541'),\n",
       " Interval(38348182, 38383738, 'NM_001167883'),\n",
       " Interval(38785861, 38910905, 'NM_183221')}"
      ]
     },
     "execution_count": 23,
     "metadata": {},
     "output_type": "execute_result"
    }
   ],
   "source": [
    "tree.search(26156916, 39409396)"
   ]
  },
  {
   "cell_type": "markdown",
   "metadata": {},
   "source": [
    "The return type is a `set` and so any standard iteration methods will work for going through the list."
   ]
  }
 ],
 "metadata": {
  "kernelspec": {
   "display_name": "Python 3",
   "language": "python",
   "name": "python3"
  },
  "language_info": {
   "codemirror_mode": {
    "name": "ipython",
    "version": 3
   },
   "file_extension": ".py",
   "mimetype": "text/x-python",
   "name": "python",
   "nbconvert_exporter": "python",
   "pygments_lexer": "ipython3",
   "version": "3.4.3"
  }
 },
 "nbformat": 4,
 "nbformat_minor": 0
}
