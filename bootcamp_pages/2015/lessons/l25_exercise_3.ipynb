{
 "cells": [
  {
   "cell_type": "markdown",
   "metadata": {},
   "source": [
    "# Exercise 3"
   ]
  },
  {
   "cell_type": "markdown",
   "metadata": {
    "collapsed": true
   },
   "source": [
    "*This exercise was generated from a Jupyter notebook.  You can download the notebook [here](l25_exercise_3.ipynb).*"
   ]
  },
  {
   "cell_type": "code",
   "execution_count": 1,
   "metadata": {
    "collapsed": true
   },
   "outputs": [],
   "source": [
    "# Standard library imports\n",
    "import glob\n",
    "import os\n",
    "import re\n",
    "import random\n",
    "\n",
    "# NumPy and numba for array processing\n",
    "import numpy as np\n",
    "import numba\n",
    "\n",
    "# SciPy stats for plotting Gaussians\n",
    "import scipy.stats as st\n",
    "\n",
    "# This is how we import the module of Matplotlib we'll be using\n",
    "import matplotlib.pyplot as plt\n",
    "\n",
    "# Seaborn makes plots pretty!\n",
    "import seaborn as sns\n",
    "\n",
    "# Magic function to make matplotlib inline; other style specs must come AFTER\n",
    "%matplotlib inline\n",
    "\n",
    "# No SVG here; the random walks will result in bloated file size\n",
    "\n",
    "# Set JB's favorite Seaborn settings\n",
    "rc={'lines.linewidth': 2, 'axes.labelsize': 18, 'axes.titlesize': 18, \n",
    "    'axes.facecolor': 'DFDFE5'}\n",
    "sns.set_context('notebook', rc=rc)"
   ]
  },
  {
   "cell_type": "markdown",
   "metadata": {},
   "source": [
    "## Problem 3.1: Setting up a Python 2 environment\n",
    "While all major scientific packages are now Python 3 compatible, some are still lagging.  It is therefore useful to have a Python 2 distribution available if you want or need it.  `conda` makes this easy!  Follow the instructions in [Lesson 18](../lessons/l18_more_command_line.html#conda) to set up a Python 2 environment."
   ]
  },
  {
   "cell_type": "markdown",
   "metadata": {},
   "source": [
    "### Problem 3.1: solution\n",
    "This should be self-explanatory from the instructions in [Lesson 18](../lessons/l18_more_command_line.html#conda)."
   ]
  },
  {
   "cell_type": "markdown",
   "metadata": {},
   "source": [
    "<br />"
   ]
  },
  {
   "cell_type": "markdown",
   "metadata": {
    "collapsed": true
   },
   "source": [
    "## Problem 3.2: Making your .bashrc file\n",
    "Having a `.bashrc` file allows you to configure your shell how you like.\n",
    "\n",
    "**a)** Create a `.bashrc` file in your home directory.  You can use any text editor you like, even Spyder.  If you already have a `.bashrc` file, open it up for editing.\n",
    "\n",
    "**b)** Let's first set the `PYTHONPATH` environment variable.  We didn't explicitly do that in the [second command line lesson](../lessons/l18_more_command_line.html).  The instructions on how to do it are there, though.\n",
    "\n",
    "**c)** It is often useful to `alias` functions to other functions.  For example, I am always worried I will accidentally delete things by accident.  I therefore have the following in my `.bashrc` file.\n",
    "\n",
    "    alias rm=\"rm -i\"\n",
    "    \n",
    "Create aliases for commands like `ls`, `mv`, and `rm` based on the flags you like to *always* use, as you discovered from last tutorial.  To figure out what flags are available, you can look at the `man` pages.  If you are using Git Bash on Windows (or if not), asking Google will usually give you the information you need on flags."
   ]
  },
  {
   "cell_type": "markdown",
   "metadata": {},
   "source": [
    "### Problem 3.2: solution\n",
    "You can have my `.bashrc` file.  Download it [here](jb_bashrc).  You can take what you like out of it and put it in yours.  Note that I do not have my `PYTHONPATH` set in my `.bashrc` file, since I use `zsh`, but now you know how to add it!"
   ]
  },
  {
   "cell_type": "markdown",
   "metadata": {},
   "source": [
    "<br />"
   ]
  },
  {
   "cell_type": "markdown",
   "metadata": {},
   "source": [
    "## Problem 3.3: Dropped frames\n",
    "In [Lesson 19](l19_intro_to_scripting.html), we worked on parsing a directory of images from a Leica microscope.  The frame rate at which those data were taken was really fast for that microscope.  On occasion, the system may miss a frame.  Determine if any TIFF files are missing from the directory and, if so, which frame numbers are missing."
   ]
  },
  {
   "cell_type": "markdown",
   "metadata": {},
   "source": [
    "### Problem 3.3 solution\n",
    "We'll now determine which frames were dropped.  This is quite easy now that we've already processed the files by renaming them.  Note that the code below *will not work if the files have not been renamed.*  We just search through our renamed files and find any numbers that are out of order."
   ]
  },
  {
   "cell_type": "code",
   "execution_count": 3,
   "metadata": {
    "collapsed": false
   },
   "outputs": [
    {
     "ename": "TypeError",
     "evalue": "append() takes exactly one argument (90 given)",
     "output_type": "error",
     "traceback": [
      "\u001b[0;31m---------------------------------------------------------------------------\u001b[0m",
      "\u001b[0;31mTypeError\u001b[0m                                 Traceback (most recent call last)",
      "\u001b[0;32m<ipython-input-3-97839a97b275>\u001b[0m in \u001b[0;36m<module>\u001b[0;34m()\u001b[0m\n\u001b[1;32m     21\u001b[0m     \u001b[0;32mif\u001b[0m \u001b[0mfnum\u001b[0m \u001b[0;34m>\u001b[0m \u001b[0mcorrect_frame_num\u001b[0m\u001b[0;34m:\u001b[0m\u001b[0;34m\u001b[0m\u001b[0m\n\u001b[1;32m     22\u001b[0m         \u001b[0;31m# Record which frames were dropped\u001b[0m\u001b[0;34m\u001b[0m\u001b[0;34m\u001b[0m\u001b[0m\n\u001b[0;32m---> 23\u001b[0;31m         \u001b[0mdropped_frames\u001b[0m\u001b[0;34m.\u001b[0m\u001b[0mappend\u001b[0m\u001b[0;34m(\u001b[0m\u001b[0;34m*\u001b[0m\u001b[0mtuple\u001b[0m\u001b[0;34m(\u001b[0m\u001b[0mrange\u001b[0m\u001b[0;34m(\u001b[0m\u001b[0mcorrect_frame_num\u001b[0m\u001b[0;34m,\u001b[0m \u001b[0mfnum\u001b[0m\u001b[0;34m)\u001b[0m\u001b[0;34m)\u001b[0m\u001b[0;34m)\u001b[0m\u001b[0;34m\u001b[0m\u001b[0m\n\u001b[0m\u001b[1;32m     24\u001b[0m         \u001b[0mcorrect_frame_num\u001b[0m \u001b[0;34m=\u001b[0m \u001b[0mfnum\u001b[0m \u001b[0;34m+\u001b[0m \u001b[0;36m1\u001b[0m\u001b[0;34m\u001b[0m\u001b[0m\n\u001b[1;32m     25\u001b[0m     \u001b[0;32melse\u001b[0m\u001b[0;34m:\u001b[0m\u001b[0;34m\u001b[0m\u001b[0m\n",
      "\u001b[0;31mTypeError\u001b[0m: append() takes exactly one argument (90 given)"
     ]
    }
   ],
   "source": [
    "# Specify Leica directory\n",
    "leica_dir = '../data/leica_tiffs'\n",
    "\n",
    "# Get list of files\n",
    "file_list = glob.glob(os.path.join(leica_dir, '*_t*.tif'))\n",
    "\n",
    "# String to search for (the time stamp)\n",
    "regex = re.compile('_t\\d+_')\n",
    "\n",
    "# Pull frame numbers and check against running list\n",
    "correct_frame_num = 0\n",
    "dropped_frames = []\n",
    "for fname in file_list:\n",
    "    # Pull out _t00000000_ string\n",
    "    time_str = regex.search(fname).group()\n",
    "\n",
    "    # Get integer frame number\n",
    "    fnum = int(time_str[2:-1])\n",
    "    \n",
    "    # Compare\n",
    "    if fnum > correct_frame_num:\n",
    "        # Record which frames were dropped\n",
    "        dropped_frames.append(*tuple(range(correct_frame_num, fnum)))\n",
    "        correct_frame_num = fnum + 1\n",
    "    else:\n",
    "        correct_frame_num += 1\n",
    "\n",
    "# Which frames were dropped?\n",
    "print('The following frames were dropped: ', dropped_frames)"
   ]
  },
  {
   "cell_type": "markdown",
   "metadata": {},
   "source": [
    "A note about this problem: I actually had this problem in my own research.  It was very costly.  I would import the TIFF images and construct a movie, and then I would see the image jerk back and forth every few frames.  We though there was something wrong with the stage of the microscope.  I literally lost a month of research time from this very problem.  The moral of the story..."
   ]
  },
  {
   "cell_type": "markdown",
   "metadata": {},
   "source": [
    "<div class=\"alert alert-info\">\n",
    "<center>Validate your data before starting analysis.</center>\n",
    "</div>"
   ]
  },
  {
   "cell_type": "markdown",
   "metadata": {},
   "source": [
    "<br />"
   ]
  },
  {
   "cell_type": "markdown",
   "metadata": {},
   "source": [
    "## Problem 3.4: Installing Biopython, Pysam, and `intervaltree`\n",
    "In upcoming lessons, we will make use of BioPython, Pysam, and `intervaltree`.  First, install Biopython.  It is covered by `conda`.  \n",
    "\n",
    "    conda install biopython\n",
    "\n",
    "Next, install `intervaltree`.  This uses `pip` (\"Python install Python\") for installation.  At the command line, do:\n",
    "\n",
    "    pip install intervaltree\n",
    "    \n",
    "Finally, install Pysam using `pip`.  Windows users might have trouble with this.  Ask a TA if it's an issue!"
   ]
  },
  {
   "cell_type": "markdown",
   "metadata": {},
   "source": [
    "### Problem 3.4 solution\n",
    "The installation of Biopython should have worked easily with `conda`.  To install Pysam with `pip`, you just need to do\n",
    "\n",
    "    pip install pysam\n",
    "    \n",
    "There may have been a problem with Windows, which hopefully the TAs can help you solve."
   ]
  },
  {
   "cell_type": "markdown",
   "metadata": {},
   "source": [
    "<br />"
   ]
  },
  {
   "cell_type": "markdown",
   "metadata": {},
   "source": [
    "## Problem 3.5: Generating random sequences\n",
    "It is often useful to generate random DNA and RNA sequences.  For example, these are often used to check if an experimentally-observed feature of a sequence is just by chance or not.  In this problem, you will generate random sequences under different constraints."
   ]
  },
  {
   "cell_type": "markdown",
   "metadata": {},
   "source": [
    "**a)** Write a function to generate a random sequence with a specified GC content.  You should call it like this:\n",
    "\n",
    "    seq = rand_seq_gc(seq_len, gc_content, material='dna')\n",
    "    \n",
    "Here, `gc_content` can range from zero to one."
   ]
  },
  {
   "cell_type": "markdown",
   "metadata": {},
   "source": [
    "**b)** Write a function to generate a random RNA sequence that can fold into a specified secondary structure.  It takes the secondary structure in dot-parentheses format as its single input.  As an example,\n",
    "\n",
    "    rand_seq_sec_struc('(((...)))')\n",
    "\n",
    "could return `'CGCGUAGCG'`."
   ]
  },
  {
   "cell_type": "markdown",
   "metadata": {},
   "source": [
    "### Problem 3.5: solution\n",
    "**a)** On stategy is to generate two random sequences.  One of length $n$ that is a random sequence of `G`s and `C`s, and one of length $m$ that is a random sequence of `A`s and `T`s.  Then, we concatenate the two sequences and shuffle the result.\n",
    "\n",
    "Note that this will produce a sequence with as close to the prescribed GC content as we can.  We could also take the target GC content to mean that we change the probability distribution that we draw from to generate the bases such that we draw more or less `G`s and `C`s."
   ]
  },
  {
   "cell_type": "code",
   "execution_count": 21,
   "metadata": {
    "collapsed": true
   },
   "outputs": [],
   "source": [
    "def rand_seq_gc(seq_len, gc_content, material='dna'):\n",
    "    \"\"\"Generate a random sequence with specified GC content.\"\"\"\n",
    "    \n",
    "    # Key of bases\n",
    "    if material.lower() == 'rna':\n",
    "        bases = 'AUGC'\n",
    "    elif material.lower() == 'dna':\n",
    "        bases = 'ATGC'\n",
    "\n",
    "    # Draw random numbers for sequence\n",
    "    x = np.random.randint(0, 4, 50)\n",
    "\n",
    "    # Make sequence\n",
    "    seq_list = [None]*50\n",
    "    for i, b in enumerate(x):\n",
    "        seq_list[i] = bases[b]\n",
    "\n",
    "    # Join the sequence\n",
    "    ''.join(seq_list)\n",
    "\n",
    "    # Number of G's and C's to generate  (G = 2, C = 3)\n",
    "    n = int(np.round(gc_content * seq_len))\n",
    "    \n",
    "    # Number of A's and T's to generate (A = 0, T = 1)\n",
    "    m = seq_len - n\n",
    "    \n",
    "    # Generate random list of G's and C's.\n",
    "    gc = np.random.randint(2, 3, n)\n",
    "    at = np.random.randint(0, 2, m)\n",
    "    \n",
    "    # Make sequence\n",
    "    seq_num = np.concatenate((gc, at))\n",
    "    \n",
    "    # Shuffle\n",
    "    np.random.shuffle(seq_num)\n",
    "    \n",
    "    # Convert numbers to letters\n",
    "    seq_list = [None]*seq_len\n",
    "    for i, b in enumerate(seq_num):\n",
    "        seq_list[i] = bases[b]\n",
    "    \n",
    "    # Join and return\n",
    "    return ''.join(seq_list)"
   ]
  },
  {
   "cell_type": "markdown",
   "metadata": {},
   "source": [
    "Let's give it a try!"
   ]
  },
  {
   "cell_type": "code",
   "execution_count": 25,
   "metadata": {
    "collapsed": false
   },
   "outputs": [
    {
     "name": "stdout",
     "output_type": "stream",
     "text": [
      "GGAGGAGGTTGAGGGTGGAGGGGGGGTGGGGGGGTTGTTTGAGGGATGGTGATGTGGGGGGAGGGGGGGG\n",
      "GC content: 0.7\n"
     ]
    }
   ],
   "source": [
    "# Check out a sequence\n",
    "my_seq = rand_seq_gc(70, 0.7)\n",
    "print(my_seq)\n",
    "\n",
    "# What is the GC content\n",
    "print('GC content:', (my_seq.count('G') + my_seq.count('C')) / len(my_seq))"
   ]
  },
  {
   "cell_type": "markdown",
   "metadata": {},
   "source": [
    "**b)** Our strategy here is to randomly generate bases for all open parentheses and dots, and then generate the appropriate complement for closed parentheses.  We'll scan left to right, keeping track of the bases corresponding to open parentheses.  Whenever we encounter a closed parenthesis, we then choose the complement of the last base in the list of those corresponding to open parentheses."
   ]
  },
  {
   "cell_type": "code",
   "execution_count": 46,
   "metadata": {
    "collapsed": true
   },
   "outputs": [],
   "source": [
    "def rand_seq_struc(struc, material='dna', wobble=False):\n",
    "    \"\"\"Generate a random sequence that can fold to target structure.\"\"\"\n",
    "    \n",
    "    # Define bases and complements\n",
    "    if material == 'rna':\n",
    "        bases = 'AUGC'\n",
    "        wc_complements = {'A': 'U', 'G': 'C',  'C': 'G', 'U': 'A'}\n",
    "    elif material == 'dna':\n",
    "        bases = 'ATGC'\n",
    "        wc_complements = {'A': 'T', 'G': 'C',  'C': 'G', 'T': 'A'}\n",
    "\n",
    "    # Initialize seq list and list of open parentheses\n",
    "    seq_list = [None] * len(struc)\n",
    "    open_bases = []\n",
    "\n",
    "    # Loop through structure\n",
    "    for i, x in enumerate(struc):\n",
    "        if x == '.':\n",
    "            seq_list[i] = random.choice(bases)\n",
    "        elif x == '(':\n",
    "            seq_list[i] = random.choice(bases)\n",
    "            open_bases.append(seq_list[i])\n",
    "        else:\n",
    "            compl = open_bases.pop()\n",
    "            if wobble and compl == 'G':\n",
    "                seq_list[i] = bases[random.choice([1, 3])]\n",
    "            elif wobble and compl == bases[1]:\n",
    "                seq_list[i] = bases[random.choice([0, 2])]\n",
    "            else:\n",
    "                seq_list[i] = wc_complements[compl]\n",
    "\n",
    "    # Join and return\n",
    "    return ''.join(seq_list)"
   ]
  },
  {
   "cell_type": "markdown",
   "metadata": {},
   "source": [
    "We of course should have done TDD, but for demonstration here, we didn't bother.  Let's give the function a whirl!"
   ]
  },
  {
   "cell_type": "code",
   "execution_count": 62,
   "metadata": {
    "collapsed": false
   },
   "outputs": [
    {
     "data": {
      "text/plain": [
       "'CTTACTGGAACCCTTCGAATCTGATGATTAG'"
      ]
     },
     "execution_count": 62,
     "metadata": {},
     "output_type": "execute_result"
    }
   ],
   "source": [
    "my_struc = '..((..((...)))...((((....))))).'\n",
    "my_rand_seq = rand_seq_struc(my_struc, wobble=False)\n",
    "\n",
    "# Print result\n",
    "my_rand_seq"
   ]
  },
  {
   "cell_type": "markdown",
   "metadata": {},
   "source": [
    "We should us our structure validator a priori, but we'll just use it to check the output."
   ]
  },
  {
   "cell_type": "code",
   "execution_count": 63,
   "metadata": {
    "collapsed": true
   },
   "outputs": [],
   "source": [
    "def dot_parens_to_bp(struc):\n",
    "    \"\"\"\n",
    "    Convert a dot-parens structure to a list of base pairs.\n",
    "    Return -1 if the structure is invalid.\n",
    "    \"\"\"\n",
    "    \n",
    "    # Initialize list of open parens and list of base pairs\n",
    "    open_parens = []\n",
    "    bps = []\n",
    "    \n",
    "    # Scan through string\n",
    "    for i, x in enumerate(struc):\n",
    "        if x == '(':\n",
    "            open_parens.append(i)\n",
    "        elif x == ')':\n",
    "            if len(open_parens) > 0:\n",
    "                bps.append((open_parens.pop(), i))\n",
    "            else:\n",
    "                print('Error in input structure.')\n",
    "                return False\n",
    "    \n",
    "    # Return the result as a tuple\n",
    "    return tuple(sorted(bps))\n",
    "\n",
    "\n",
    "def hairpin_check(bps):\n",
    "    \"\"\"Check to make sure no hairpins are too short.\"\"\"\n",
    "    for bp in bps:\n",
    "        if bp[1] - bp[0] < 4:\n",
    "            print('A hairpin is too short.')\n",
    "            return False\n",
    "        \n",
    "    # Everything checks out\n",
    "    return True\n",
    "\n",
    "\n",
    "def rna_ss_validator(seq, sec_struc, wobble=True):\n",
    "    \"\"\"Validate and RNA structure\"\"\"\n",
    "\n",
    "    # Convert the seq to lowercase RNA\n",
    "    seq = seq.lower().replace('t', 'u')\n",
    "    \n",
    "    # Convert structure to base pairs\n",
    "    bps = dot_parens_to_bp(sec_struc)\n",
    "    \n",
    "    # If this failed, the structure was invalid\n",
    "    if not bps:\n",
    "        return False\n",
    "    \n",
    "    # Do the hairpin check\n",
    "    if not hairpin_check(bps):\n",
    "        return False\n",
    "    \n",
    "    # Possible base pairs\n",
    "    if wobble:\n",
    "        ok_bps = ('gc', 'cg', 'au', 'ua', 'gu', 'ug')\n",
    "    else:\n",
    "        ok_bps = ('gc', 'cg', 'au', 'ua')\n",
    "\n",
    "    # Check complementarity\n",
    "    for bp in bps:\n",
    "        bp_str = (seq[bp[0]] + seq[bp[1]]).lower()\n",
    "        if bp_str not in ok_bps:\n",
    "            print('Invalid base pair.')\n",
    "            return False\n",
    "        \n",
    "    # Everything passed\n",
    "    return True"
   ]
  },
  {
   "cell_type": "code",
   "execution_count": 64,
   "metadata": {
    "collapsed": false
   },
   "outputs": [
    {
     "data": {
      "text/plain": [
       "True"
      ]
     },
     "execution_count": 64,
     "metadata": {},
     "output_type": "execute_result"
    }
   ],
   "source": [
    "rna_ss_validator(my_rand_seq, my_struc, wobble=False)"
   ]
  },
  {
   "cell_type": "markdown",
   "metadata": {},
   "source": [
    "Great!  It worked for this test.  Again, we should have done TTD!"
   ]
  },
  {
   "cell_type": "markdown",
   "metadata": {},
   "source": [
    "<br />"
   ]
  },
  {
   "cell_type": "markdown",
   "metadata": {},
   "source": [
    "## 3.6: Random walks and morphogenesis\n",
    "\n",
    "Diffusion is the process by which a molecule or particle moves randomly in a solution due to constant bombardment by solvent molecules.  It can be described as a **random walk** in which the \"walker\" randomly takes steps left or right.  If the random walker takes a step of length $\\delta$ every $\\tau$ units of time, the **diffusion coefficient** is\n",
    "\n",
    "\\begin{align}\n",
    "D = \\frac{\\delta^2}{2\\tau}.\n",
    "\\end{align}\n",
    "\n",
    "Molecules are constantly diffusing throughout cells; diffusion is a key process in the transport and organization of molecules.\n",
    "\n",
    "In the one-cell *C. elegans* embryo, gradients of morphogens are established on the cell membrane and in the cytoplasm.  Specifically, the protein MEX-5 has a gradient in concentration from the anterior to the posterior part of the cytoplasm.  An image of this is shown below, taken from Fig. 1 of [Griffin, et al., *Cell*, **146**, 955-968, 2011](http://www.sciencedirect.com/science/article/pii/S0092867411009354).\n",
    "\n",
    "![MEX-5 gradient from Griffin, et al., *Cell*, **146**, 955-968, 2011](mex-5.png \"MEX-5 gradient from Griffin, et al., *Cell*, **146**, 955-968, 2011\")\n",
    "\n",
    "MEX-5 diffuses in the cytoplasm.  Griffin and coworkers measured the diffusion coefficient using a FRAP technique.  They found that it increased linearly from 1 µm$^2$/s in the anterior (where MEX-5 concentration is observed to be high) to 4 µm$^2$/s in the posterior.  The anterior-to-posterior distance is 50 µm.\n",
    "\n",
    "Based on other observations, Griffin and coworkers speculate that RNA binding to the MEX-5 proteins serves to retard its diffusion.  In this problem, we not going to invstigate mechanism, but are interested in whether or not retarded diffusion can account for concentration gradients.  To answer this question, we will computationally perform random walks in the cytoplasm in which the step length changes depending on the position within the cell."
   ]
  },
  {
   "cell_type": "markdown",
   "metadata": {},
   "source": [
    "**a)** We will only consider movement along the anterior-posterior axis of the zygote.  The anterior is traditionally to the left.  So, we model the diffusion as a 1D random walk.  First, write a function to take a random walk of `n_steps` steps starting at position $x_0$ (which is the origin by default).  Each step is one unit to the left or to the right.  Your function should return the position of the walker at each step as a NumPy array.  I.e., your function call should look like this:\n",
    "\n",
    "    walker_positions = unbounded_random_walk(n_steps, x_0=0)\n",
    "\n",
    "Generate a walk of 10,000 steps.  Plot the position of the walker over time.  (Here, number of steps is a proxy for time.)\n",
    "\n",
    "*Hint*: Unless you are using `numba`, your code will run much faster if you generate all of your random numbers in one call to one of the functions in the `np.random` module."
   ]
  },
  {
   "cell_type": "markdown",
   "metadata": {
    "collapsed": true
   },
   "source": [
    "**b)** Generate 100,000 walks of 1,000 steps each, all starting at the origin.  Plot a histogram of the end positions of the walkers."
   ]
  },
  {
   "cell_type": "markdown",
   "metadata": {},
   "source": [
    "**c)** Adjust your unbounded random walk code to take a bounded random walk.  Your random walker should proceed as in the unbounded case, but should turn around when it hits a boundary.  This would be akin to a molecule diffusing along the anterior-posterior axis of the zygote and hitting the ends of the cell.\n",
    "\n",
    "Generate a walk of 1000 steps, starting at $x = 25$ on the domain $0 \\le x \\le 50$, and plot the position of the walker over time."
   ]
  },
  {
   "cell_type": "markdown",
   "metadata": {},
   "source": [
    "**d)** Generate 100,000 walks of 1,000 steps each.  (This might take a minute or two to calculate.)  This time, each should start at a random position along the anterior-posterior axis, i.e., a random position within the bounds.  Plot a histogram of the end positions of the walkers.\n",
    "\n",
    "*Note*: I choose the numbers 100,000 walks and 1,000 steps for a reason.  Having 100,000 molecules in a *C. elegans* zygote amounts to a concentration of tens of nanomolar, a reaonsable physiological concentration.  We we take the diffusion coefficient to be 1 µm$^2$/s, we can take steps of size $\\delta = 1$ µm with $\\tau = 1$ second.  The time scale of the formation of the MEX-5 gradient is about 1000 seconds, or about 15 minutes.  The actual \"steps\" due to bombardment of the molecule with solvent are far shorter in distance and time, but, as we can derive from the fundamental physics, we can model the random walk as longer steps with a longer time interval."
   ]
  },
  {
   "cell_type": "markdown",
   "metadata": {},
   "source": [
    "**e)** Finally, adjust your unbounded random walk code so that the diffusion coefficient varies linearly from 1 µm$^2$/s at the anterior to 4 µm$^2$/s at the posterior.  Perform and plot random walk as in part (c)."
   ]
  },
  {
   "cell_type": "markdown",
   "metadata": {},
   "source": [
    "**f)** Generate 100,000 walks of 1,000 steps each and make plots as in part(d).  Is the changing diffusion coefficient hypothesis sufficient to explain the presence of a MEX-5 gradient?"
   ]
  },
  {
   "cell_type": "markdown",
   "metadata": {},
   "source": [
    "### Problem 3.5: solution\n",
    "**a)** As we saw in the [lesson on Monte Carlo simulations](l24_monte_carlo.ipynb), we can randomly choose between `-1` and `1` using\n",
    "\n",
    "    2 * np.random.randint(0, 2) - 1\n",
    "    \n",
    "To take an unbounded random walk, we just draw `n_steps` of these.  To get the position over time, we just need to perform a cumulative sum over the random $\\pm 1$ samples we took.  The `np.cumsum()` function does this."
   ]
  },
  {
   "cell_type": "code",
   "execution_count": 3,
   "metadata": {
    "collapsed": true
   },
   "outputs": [],
   "source": [
    "def unbounded_random_walk(n_steps, x_0=0):\n",
    "    \"\"\"Make a 1-D random walk, starting at position x_0.\"\"\"\n",
    "    \n",
    "    # Generated n_steps samples from [-1, 1]\n",
    "    steps = 2 * np.random.randint(0, 2, n_steps) - 1\n",
    "    \n",
    "    # Starting at the origin, return cumulative sum of steps\n",
    "    return np.concatenate(((x_0,), x_0 + np.cumsum(steps)))"
   ]
  },
  {
   "cell_type": "markdown",
   "metadata": {},
   "source": [
    "We can now generate a walk of 10,000 steps and plot the position over time.  We will plot it kind like a kymograph, where \"time\" (in this case the number of steps) increases from top to bottom."
   ]
  },
  {
   "cell_type": "code",
   "execution_count": 10,
   "metadata": {
    "collapsed": false
   },
   "outputs": [
    {
     "data": {
      "text/plain": [
       "<matplotlib.text.Text at 0x11adf10f0>"
      ]
     },
     "execution_count": 10,
     "metadata": {},
     "output_type": "execute_result"
    },
    {
     "data": {
      "image/png": "[encoded data removed]",
      "text/plain": [
       "<matplotlib.figure.Figure at 0x11ab12320>"
      ]
     },
     "metadata": {},
     "output_type": "display_data"
    }
   ],
   "source": [
    "# Number of steps\n",
    "n_steps = 10000\n",
    "\n",
    "# Take the walk\n",
    "walk = unbounded_random_walk(n_steps)\n",
    "\n",
    "# Plot the result\n",
    "fig, ax = plt.subplots(1, 1, figsize=(4, 9))\n",
    "ax.plot(walk, np.arange(n_steps+1))\n",
    "ax.invert_yaxis()\n",
    "ax.set_xlabel('position')\n",
    "ax.set_ylabel('number of steps')"
   ]
  },
  {
   "cell_type": "markdown",
   "metadata": {},
   "source": [
    "**b)** We can just put our `unbounded_random_walk()` function in a **`for`** loop to compute the walks and their end points."
   ]
  },
  {
   "cell_type": "code",
   "execution_count": 18,
   "metadata": {
    "collapsed": false
   },
   "outputs": [],
   "source": [
    "# Parameters for the walks\n",
    "n_walks = 100000\n",
    "n_steps = 1000\n",
    "\n",
    "# Initialized end points array\n",
    "end_points = np.empty(n_walks)\n",
    "\n",
    "# Take the walks and record the end points\n",
    "for i in range(n_walks):\n",
    "    end_points[i] = unbounded_random_walk(n_steps)[-1]"
   ]
  },
  {
   "cell_type": "markdown",
   "metadata": {},
   "source": [
    "Now, we'll plot them.  We'll do both a binned histogram and a cumulative histogram.  Theoretically, the distribution should be close to Gaussian with zero mean and a variance equal to the number of steps.  We will overlay a plot of the Gaussian distribution."
   ]
  },
  {
   "cell_type": "code",
   "execution_count": 29,
   "metadata": {
    "collapsed": false
   },
   "outputs": [
    {
     "data": {
      "image/png": "[encoded data removed]",
      "text/plain": [
       "<matplotlib.figure.Figure at 0x11e740da0>"
      ]
     },
     "metadata": {},
     "output_type": "display_data"
    }
   ],
   "source": [
    "# Set up subplots\n",
    "fig, ax = plt.subplots(1, 2, figsize=(14, 4), sharex=True)\n",
    "\n",
    "# Plot the histogram\n",
    "_ = ax[0].hist(end_points, bins=50, normed=True)\n",
    "\n",
    "# Overlay Gaussian\n",
    "x_smooth = np.linspace(-200, 200, 200)\n",
    "var = n_steps\n",
    "p_smooth = st.norm.pdf(x_smooth, loc=0, scale=np.sqrt(var))\n",
    "ax[0].plot(x_smooth, p_smooth, linestyle='-', marker='None', \n",
    "           color=sns.color_palette()[2])\n",
    "\n",
    "# Plot the cumulative histogram\n",
    "ax[1].plot(np.sort(end_points), np.arange(len(end_points)) / len(end_points), \n",
    "           marker='.', linestyle='None')\n",
    "\n",
    "# Overlay Gaussian CDF\n",
    "ax[1].plot(x_smooth, st.norm.cdf(x_smooth, loc=0, scale=np.sqrt(var)),\n",
    "           marker='None', linestyle='-', color=sns.color_palette()[2])\n",
    "\n",
    "# Tidy up plots\n",
    "for i in [0,1]:\n",
    "    ax[i].set_xlabel('position')\n",
    "    ax[i].margins(0.02)\n",
    "ax[0].set_ylabel('probability')\n",
    "ax[1].set_ylabel('cdf')\n",
    "fig.tight_layout()"
   ]
  },
  {
   "cell_type": "markdown",
   "metadata": {},
   "source": [
    "Notice that the binning in the left plot shows the fact that we have unit steps.  Given that we took an even number of steps, odd displacements are impossible."
   ]
  },
  {
   "cell_type": "markdown",
   "metadata": {},
   "source": [
    "**c)** It is a bit trickier to take a bounded random walk.  At each step, we do need to ask if we've hit the wall, so we can just do the simple cumulative sum to get our positions.  This means we need to ask an **`if`** statement at every step.  The code is still pretty straightforward.  At each iteration, we propose a random step.  We check to see if it stepped over a boundary.  If it did, we step the other way.  Otherwise, we accept the step.\n",
    "\n",
    "For speed purposed, we can compile this with `numba`.  I got about a 50-fold speed boost."
   ]
  },
  {
   "cell_type": "code",
   "execution_count": 87,
   "metadata": {
    "collapsed": true
   },
   "outputs": [],
   "source": [
    "@numba.jit(nopython=True)\n",
    "def numba_isclose(a, b):\n",
    "    \"\"\"numba-able version of np.isclose()\"\"\"\n",
    "    if abs(a - b) < 1e-8:\n",
    "        return True\n",
    "    else:\n",
    "        return False\n",
    "\n",
    "@numba.jit(nopython=True)\n",
    "def bounded_random_walk(n_steps, x_min, x_max, x_0=0):\n",
    "    \"\"\"Take a bounded random walk.\"\"\"\n",
    "\n",
    "    # Initialize positions\n",
    "    x = np.empty(n_steps + 1)\n",
    "    x[0] = x_0\n",
    "\n",
    "    # Take the steps\n",
    "    for i in range(1, n_steps + 1):\n",
    "        # If at boundary, either stay or step away\n",
    "        if x[i-1] - 1 <= x_min:\n",
    "            step_direction = np.random.randint(0, 2)\n",
    "        elif x[i-1] + 1 >= x_max:\n",
    "            step_direction = np.random.randint(-1, 1)\n",
    "        else:\n",
    "            step_direction = 2 * np.random.randint(0, 2) - 1\n",
    "\n",
    "        # Take step\n",
    "        x[i] = x[i-1] + step_direction\n",
    "            \n",
    "    return x"
   ]
  },
  {
   "cell_type": "markdown",
   "metadata": {},
   "source": [
    "Now, we take and plot the walk as for the unbounded case."
   ]
  },
  {
   "cell_type": "code",
   "execution_count": 90,
   "metadata": {
    "collapsed": false
   },
   "outputs": [
    {
     "data": {
      "text/plain": [
       "<matplotlib.text.Text at 0x120138ac8>"
      ]
     },
     "execution_count": 90,
     "metadata": {},
     "output_type": "execute_result"
    },
    {
     "data": {
      "image/png": "[encoded data removed]",
      "text/plain": [
       "<matplotlib.figure.Figure at 0x120f7eb70>"
      ]
     },
     "metadata": {},
     "output_type": "display_data"
    }
   ],
   "source": [
    "# Parameters\n",
    "n_steps = 1000\n",
    "x_min = 0\n",
    "x_max = 50\n",
    "x_0 = 25\n",
    "\n",
    "# Take the walk\n",
    "walk = bounded_random_walk(n_steps, x_min, x_max, x_0=x_0)\n",
    "\n",
    "# Plot the result\n",
    "fig, ax = plt.subplots(1, 1, figsize=(4, 9))\n",
    "ax.plot(walk, np.arange(n_steps+1))\n",
    "ax.set_xlim((x_min, x_max))\n",
    "ax.invert_yaxis()\n",
    "ax.set_xlabel('position')\n",
    "ax.set_ylabel('number of steps')"
   ]
  },
  {
   "cell_type": "markdown",
   "metadata": {},
   "source": [
    "For this particlar walk, we hit the minimum wall a few times and had to step back."
   ]
  },
  {
   "cell_type": "markdown",
   "metadata": {},
   "source": [
    "**d)** We proceed as for part (b).  We do not expect the result to be Gaussian, so we do not plot Gaussians."
   ]
  },
  {
   "cell_type": "code",
   "execution_count": 79,
   "metadata": {
    "collapsed": false
   },
   "outputs": [
    {
     "data": {
      "image/png": "[encoded data removed]",
      "text/plain": [
       "<matplotlib.figure.Figure at 0x11b4c4828>"
      ]
     },
     "metadata": {},
     "output_type": "display_data"
    }
   ],
   "source": [
    "# Parameters for the walks\n",
    "n_walks = 100000\n",
    "\n",
    "# Initialized end points array\n",
    "end_points = np.empty(n_walks)\n",
    "\n",
    "# Take the walks and record the end points\n",
    "for i in range(n_walks):\n",
    "    end_points[i] = bounded_random_walk(n_steps, x_min, x_max, x_0=x_0)[-1]\n",
    "\n",
    "# Set up subplots\n",
    "fig, ax = plt.subplots(1, 2, figsize=(14, 4), sharex=True)\n",
    "\n",
    "# Plot the histogram\n",
    "_ = ax[0].hist(end_points, bins=24, normed=True)\n",
    "\n",
    "\n",
    "# Plot the cumulative histogram\n",
    "ax[1].plot(np.sort(end_points), np.arange(len(end_points)) / len(end_points), \n",
    "           marker='.', linestyle='None')\n",
    "\n",
    "# Tidy up plots\n",
    "for i in [0,1]:\n",
    "    ax[i].set_xlabel('position')\n",
    "    ax[i].margins(0.02)\n",
    "ax[0].set_ylabel('probability')\n",
    "ax[1].set_ylabel('cdf')\n",
    "fig.tight_layout()"
   ]
  },
  {
   "cell_type": "markdown",
   "metadata": {},
   "source": [
    "Again, we see binning effects in the histogram because of unit step size.  However, it is clear that the distribution is uniform."
   ]
  },
  {
   "cell_type": "markdown",
   "metadata": {},
   "source": [
    "**e)** If we were being Pythonic, we could accect a function decsribing the diffusion coefficient as an argument into our bounded random walk with varying diffusion coefficient.  However, we do care about speed here, so I'm going to hard-code a linear dependence."
   ]
  },
  {
   "cell_type": "code",
   "execution_count": 91,
   "metadata": {
    "collapsed": false
   },
   "outputs": [],
   "source": [
    "@numba.jit(nopython=True)\n",
    "def bounded_random_walk_varing_diffusion(n_steps, x_min, x_max, m, b, x_0=0):\n",
    "    \"\"\"Take a bounded random walk.\"\"\"\n",
    "    \n",
    "    # Check to make sure we can't get negative D\n",
    "    if (m * x_max + b) < 0 or (m * x_min + b) < 0:\n",
    "        raise RuntimeError('Invalid parameters.')\n",
    "\n",
    "    # Initialize positions\n",
    "    x = np.empty(n_steps + 1)\n",
    "    x[0] = x_0\n",
    "\n",
    "    # Take the steps\n",
    "    for i in range(1, n_steps + 1):\n",
    "        # Determine step length (linear diffusion coefficient)\n",
    "        delta = np.sqrt(m * x[i-1] + b)\n",
    "        \n",
    "        # If at boundary, either stay or step away\n",
    "        if x[i-1] - delta <= x_min:\n",
    "            step_direction = np.random.randint(0, 2)\n",
    "        elif x[i-1] + delta >= x_max:\n",
    "            step_direction = np.random.randint(-1, 1)\n",
    "        else:\n",
    "            step_direction = 2 * np.random.randint(0, 2) - 1\n",
    "\n",
    "        # Take step\n",
    "        x[i] = x[i-1] + delta * step_direction\n",
    "        \n",
    "    return x"
   ]
  },
  {
   "cell_type": "markdown",
   "metadata": {},
   "source": [
    "We can now take our walk!"
   ]
  },
  {
   "cell_type": "code",
   "execution_count": 92,
   "metadata": {
    "collapsed": false
   },
   "outputs": [
    {
     "data": {
      "text/plain": [
       "<matplotlib.text.Text at 0x11e4109b0>"
      ]
     },
     "execution_count": 92,
     "metadata": {},
     "output_type": "execute_result"
    },
    {
     "data": {
      "image/png": "[encoded data removed]",
      "text/plain": [
       "<matplotlib.figure.Figure at 0x11f036978>"
      ]
     },
     "metadata": {},
     "output_type": "display_data"
    }
   ],
   "source": [
    "# Parameters\n",
    "n_steps = 1000\n",
    "x_min = 0\n",
    "x_max = 50\n",
    "x_0 = 25\n",
    "m = 3 / 50\n",
    "b = 1\n",
    "\n",
    "# Take the walk\n",
    "walk = bounded_random_walk_varing_diffusion(n_steps, x_min, x_max, m, b, x_0=x_0)\n",
    "\n",
    "# Plot the result\n",
    "fig, ax = plt.subplots(1, 1, figsize=(4, 9))\n",
    "ax.plot(walk, np.arange(n_steps+1))\n",
    "ax.set_xlim((x_min, x_max))\n",
    "ax.invert_yaxis()\n",
    "ax.set_xlabel('position')\n",
    "ax.set_ylabel('number of steps')"
   ]
  },
  {
   "cell_type": "markdown",
   "metadata": {},
   "source": [
    "**f)** Finally, we will do statistics on watching all the \"molecules\" in the cell do their walks and see if we have a concentration gradient.  This will tell us if the retarded diffusion model is reasonable.  We proceed as in (d)."
   ]
  },
  {
   "cell_type": "code",
   "execution_count": 94,
   "metadata": {
    "collapsed": false
   },
   "outputs": [
    {
     "data": {
      "image/png": "[encoded data removed]",
      "text/plain": [
       "<matplotlib.figure.Figure at 0x120fe7470>"
      ]
     },
     "metadata": {},
     "output_type": "display_data"
    }
   ],
   "source": [
    "# Parameters for the walks\n",
    "n_walks = 100000\n",
    "\n",
    "# Initialized end points array\n",
    "end_points = np.empty(n_walks)\n",
    "\n",
    "# Take the walks and record the end points\n",
    "for i in range(n_walks):\n",
    "    # Random starting point\n",
    "    x_0 = np.random.random() * (x_max - x_min) + x_min\n",
    "    end_points[i] = bounded_random_walk_varing_diffusion(\n",
    "                                        n_steps, x_min, x_max, m, b, x_0=x_0)[-1]\n",
    "\n",
    "# Set up subplots\n",
    "fig, ax = plt.subplots(1, 2, figsize=(14, 4), sharex=True)\n",
    "\n",
    "# Plot the histogram\n",
    "_ = ax[0].hist(end_points, bins=24, normed=True)\n",
    "\n",
    "\n",
    "# Plot the cumulative histogram\n",
    "ax[1].plot(np.sort(end_points), np.arange(len(end_points)) / len(end_points), \n",
    "           marker='.', linestyle='None')\n",
    "\n",
    "# Tidy up plots\n",
    "for i in [0,1]:\n",
    "    ax[i].set_xlabel('position')\n",
    "    ax[i].margins(0.02)\n",
    "ax[0].set_ylabel('probability')\n",
    "ax[1].set_ylabel('cdf')\n",
    "fig.tight_layout()"
   ]
  },
  {
   "cell_type": "markdown",
   "metadata": {
    "collapsed": true
   },
   "source": [
    "Indeed, we see a concentration gradient!  It is not that dissimilar from what Griffin, et al. measured. The retarded diffusion hypothesis is at least plausible."
   ]
  }
 ],
 "metadata": {
  "kernelspec": {
   "display_name": "Python 3",
   "language": "python",
   "name": "python3"
  },
  "language_info": {
   "codemirror_mode": {
    "name": "ipython",
    "version": 3
   },
   "file_extension": ".py",
   "mimetype": "text/x-python",
   "name": "python",
   "nbconvert_exporter": "python",
   "pygments_lexer": "ipython3",
   "version": "3.4.3"
  }
 },
 "nbformat": 4,
 "nbformat_minor": 0
}
