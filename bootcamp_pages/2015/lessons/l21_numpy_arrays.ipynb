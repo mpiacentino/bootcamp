{
 "cells": [
  {
   "cell_type": "markdown",
   "metadata": {},
   "source": [
    "# Lesson 21: NumPy arrays"
   ]
  },
  {
   "cell_type": "markdown",
   "metadata": {},
   "source": [
    "*This tutorial was generated from a Jupyter notebook.  You can download the notebook [here](l21_numpy_arrays.ipynb).*"
   ]
  },
  {
   "cell_type": "code",
   "execution_count": 2,
   "metadata": {
    "collapsed": true
   },
   "outputs": [],
   "source": [
    "# NumPy, the engine of scientific computing\n",
    "import numpy as np"
   ]
  },
  {
   "cell_type": "markdown",
   "metadata": {},
   "source": [
    "We just got an introduction to NumPy and SciPy.  The packages are extensive.  At the center is the NumPy array data type.  We will explore this data type in this tutorial.  As it is always more fun to work with a real biological application, we will populate our NumPy arrays with data.\n",
    "\n",
    "In their 2011 [paper in PLoS ONE](http://journals.plos.org/plosone/article?id=10.1371/journal.pone.0025840), Harvey and Orbidans measured the cross-sectional area of *C. elegans* eggs that came from mothers who had a high concentration of food and from mothers of a low concentration of food.  I digitized the data from their plots, and you can download the data files [here (high food conc.)](../data/xa_high_food.csv) and [here (low food conc.)](../data/xa_low_food.csv)."
   ]
  },
  {
   "cell_type": "markdown",
   "metadata": {},
   "source": [
    "## Loading in the data set\n",
    "NumPy has a primitive function for loading in data from text files, `np.loadtxt()`.  We will use it here, but will quickly jettison it in a couple lessons in favor of the much more powerful functionality in Pandas.  For now, we will load our two arrays using `np.loadtxt()`.  Let's first look at the files.  On my system, the two files are `../data/xa_high_food.csv` and `../data/xa_low_food.csv`."
   ]
  },
  {
   "cell_type": "code",
   "execution_count": 4,
   "metadata": {
    "collapsed": false
   },
   "outputs": [
    {
     "name": "stdout",
     "output_type": "stream",
     "text": [
      "# This data set contains the cross sectional areas of eggs\r\n",
      "# from C. elegans mothers grown on food with 10% w/v E. coli.\r\n",
      "# The cross sectional area is given in units of square microns.\r\n",
      "#\r\n",
      "# Data digitized from assay 1 of Fig. 5 of Harvey and Orbidans,\r\n",
      "# PLoS ONE, 6(10): e25840, doi:10.1371/journal.pone.0025840\r\n",
      "1683\r\n",
      "2061\r\n",
      "1792\r\n",
      "1852\r\n"
     ]
    }
   ],
   "source": [
    "!head ../data/xa_high_food.csv"
   ]
  },
  {
   "cell_type": "markdown",
   "metadata": {},
   "source": [
    "The actual numbers are preceded with comments starting with a pound sign, so we know to ignore that, which we can do using `np.loadtxt()`'s `comments` kwarg.  Furthermore, we note that the cross sectional areas are given in units of µm$^2$.  Let's load in the data."
   ]
  },
  {
   "cell_type": "code",
   "execution_count": 7,
   "metadata": {
    "collapsed": false
   },
   "outputs": [],
   "source": [
    "# Load in data\n",
    "xa_high = np.loadtxt('../data/xa_high_food.csv', comments='#')\n",
    "xa_low = np.loadtxt('../data/xa_low_food.csv', comments='#')"
   ]
  },
  {
   "cell_type": "markdown",
   "metadata": {},
   "source": [
    "Let's take a look at these arrays."
   ]
  },
  {
   "cell_type": "code",
   "execution_count": 11,
   "metadata": {
    "collapsed": false
   },
   "outputs": [
    {
     "data": {
      "text/plain": [
       "array([ 1683.,  2061.,  1792.,  1852.,  2091.,  1781.,  1912.,  1802.,\n",
       "        1751.,  1731.,  1892.,  1951.,  1809.,  1683.,  1787.,  1840.,\n",
       "        1821.,  1910.,  1930.,  1800.,  1833.,  1683.,  1671.,  1680.,\n",
       "        1692.,  1800.,  1821.,  1882.,  1642.,  1749.,  1712.,  1661.,\n",
       "        1701.,  2141.,  1863.,  1752.,  1740.,  1721.,  1660.,  1930.,\n",
       "        2030.,  1851.,  2131.,  1828.])"
      ]
     },
     "execution_count": 11,
     "metadata": {},
     "output_type": "execute_result"
    }
   ],
   "source": [
    "xa_high"
   ]
  },
  {
   "cell_type": "code",
   "execution_count": 12,
   "metadata": {
    "collapsed": false
   },
   "outputs": [
    {
     "data": {
      "text/plain": [
       "array([ 1840.,  2090.,  2169.,  1988.,  2212.,  2339.,  1989.,  2144.,\n",
       "        2290.,  1920.,  2280.,  1809.,  2158.,  1800.,  2133.,  2060.,\n",
       "        2160.,  2001.,  2030.,  2088.,  1951.,  2460.,  2021.,  2010.,\n",
       "        2139.,  2160.,  2106.,  2171.,  2113.,  2179.,  1890.,  2179.,\n",
       "        2021.,  1969.,  2150.,  1900.,  2267.,  1711.,  1901.,  2114.,\n",
       "        2112.,  2361.,  2130.,  2061.,  2121.,  1832.,  2210.,  2130.,\n",
       "        2153.,  2009.,  2100.,  2252.,  2143.,  2252.,  2222.,  2121.,\n",
       "        2409.])"
      ]
     },
     "execution_count": 12,
     "metadata": {},
     "output_type": "execute_result"
    }
   ],
   "source": [
    "xa_low"
   ]
  },
  {
   "cell_type": "markdown",
   "metadata": {},
   "source": [
    "## Operators and NumPy arrays\n",
    "We saw in the previous tutorial that NumPy arrays are a special data type.  They have well-defined ways in which our familiar operators work with them.  Let's learn about this by example."
   ]
  },
  {
   "cell_type": "markdown",
   "metadata": {},
   "source": [
    "### Scalars and NumPy arrays\n",
    "We'll start with multiplying by an array by a constant.  Say we wanted to convert the units of the cross section area from µm$^2$ to mm$^2$.  This means we have to  divide every entry by 10$^6$ (or multiply by 10$^{-6}$).  Multiplication by a scalar works elementwise on NumPy arrays.  Check it out."
   ]
  },
  {
   "cell_type": "code",
   "execution_count": 13,
   "metadata": {
    "collapsed": false
   },
   "outputs": [
    {
     "data": {
      "text/plain": [
       "array([ 0.001683,  0.002061,  0.001792,  0.001852,  0.002091,  0.001781,\n",
       "        0.001912,  0.001802,  0.001751,  0.001731,  0.001892,  0.001951,\n",
       "        0.001809,  0.001683,  0.001787,  0.00184 ,  0.001821,  0.00191 ,\n",
       "        0.00193 ,  0.0018  ,  0.001833,  0.001683,  0.001671,  0.00168 ,\n",
       "        0.001692,  0.0018  ,  0.001821,  0.001882,  0.001642,  0.001749,\n",
       "        0.001712,  0.001661,  0.001701,  0.002141,  0.001863,  0.001752,\n",
       "        0.00174 ,  0.001721,  0.00166 ,  0.00193 ,  0.00203 ,  0.001851,\n",
       "        0.002131,  0.001828])"
      ]
     },
     "execution_count": 13,
     "metadata": {},
     "output_type": "execute_result"
    }
   ],
   "source": [
    "xa_high / 1e6"
   ]
  },
  {
   "cell_type": "markdown",
   "metadata": {},
   "source": [
    "Notice that `1e6` is how we represent numbers in Python in scientific notation, and that dividing the NumPy array by this number resulted in every entry in the array being divided.  The `+`, `-`, and `*` operators all work in this way.  For example:"
   ]
  },
  {
   "cell_type": "code",
   "execution_count": 17,
   "metadata": {
    "collapsed": false
   },
   "outputs": [
    {
     "data": {
      "text/plain": [
       "array([ 2683.,  3061.,  2792.,  2852.,  3091.,  2781.,  2912.,  2802.,\n",
       "        2751.,  2731.,  2892.,  2951.,  2809.,  2683.,  2787.,  2840.,\n",
       "        2821.,  2910.,  2930.,  2800.,  2833.,  2683.,  2671.,  2680.,\n",
       "        2692.,  2800.,  2821.,  2882.,  2642.,  2749.,  2712.,  2661.,\n",
       "        2701.,  3141.,  2863.,  2752.,  2740.,  2721.,  2660.,  2930.,\n",
       "        3030.,  2851.,  3131.,  2828.])"
      ]
     },
     "execution_count": 17,
     "metadata": {},
     "output_type": "execute_result"
    }
   ],
   "source": [
    "xa_high + 1000"
   ]
  },
  {
   "cell_type": "markdown",
   "metadata": {},
   "source": [
    "### Booleans with NumPy arrays and scalars\n",
    "Let's see what happens when we compare a NumPy array to a scalar."
   ]
  },
  {
   "cell_type": "code",
   "execution_count": 18,
   "metadata": {
    "collapsed": false
   },
   "outputs": [
    {
     "data": {
      "text/plain": [
       "array([ True, False,  True,  True, False,  True,  True,  True,  True,\n",
       "        True,  True,  True,  True,  True,  True,  True,  True,  True,\n",
       "        True,  True,  True,  True,  True,  True,  True,  True,  True,\n",
       "        True,  True,  True,  True,  True,  True, False,  True,  True,\n",
       "        True,  True,  True,  True, False,  True, False,  True], dtype=bool)"
      ]
     },
     "execution_count": 18,
     "metadata": {},
     "output_type": "execute_result"
    }
   ],
   "source": [
    "xa_high < 2000"
   ]
  },
  {
   "cell_type": "markdown",
   "metadata": {},
   "source": [
    "We get an array of Booleans!  The comparison is elementwise.  This is important to know because we cannot use these comparisons with an **`if`** clause."
   ]
  },
  {
   "cell_type": "code",
   "execution_count": 21,
   "metadata": {
    "collapsed": false
   },
   "outputs": [
    {
     "ename": "ValueError",
     "evalue": "The truth value of an array with more than one element is ambiguous. Use a.any() or a.all()",
     "output_type": "error",
     "traceback": [
      "\u001b[0;31m---------------------------------------------------------------------------\u001b[0m",
      "\u001b[0;31mValueError\u001b[0m                                Traceback (most recent call last)",
      "\u001b[0;32m<ipython-input-21-15f9981b0d29>\u001b[0m in \u001b[0;36m<module>\u001b[0;34m()\u001b[0m\n\u001b[0;32m----> 1\u001b[0;31m \u001b[0;32mif\u001b[0m \u001b[0mxa_high\u001b[0m \u001b[0;34m>\u001b[0m \u001b[0;36m2000\u001b[0m\u001b[0;34m:\u001b[0m\u001b[0;34m\u001b[0m\u001b[0m\n\u001b[0m\u001b[1;32m      2\u001b[0m     \u001b[0mprint\u001b[0m\u001b[0;34m(\u001b[0m\u001b[0;34m'Nothing to print, really.  This will just be an error.'\u001b[0m\u001b[0;34m)\u001b[0m\u001b[0;34m\u001b[0m\u001b[0m\n",
      "\u001b[0;31mValueError\u001b[0m: The truth value of an array with more than one element is ambiguous. Use a.any() or a.all()"
     ]
    }
   ],
   "source": [
    "if xa_high > 2000:\n",
    "    print('Nothing to print, really.  This will just be an error.')"
   ]
  },
  {
   "cell_type": "markdown",
   "metadata": {},
   "source": [
    "Let's take the advice from the exception and use the `.any()` or `.all()` operators."
   ]
  },
  {
   "cell_type": "code",
   "execution_count": 23,
   "metadata": {
    "collapsed": false
   },
   "outputs": [
    {
     "data": {
      "text/plain": [
       "True"
      ]
     },
     "execution_count": 23,
     "metadata": {},
     "output_type": "execute_result"
    }
   ],
   "source": [
    "# Check if any values are biggern than 2000\n",
    "(xa_high > 2000).any()"
   ]
  },
  {
   "cell_type": "markdown",
   "metadata": {},
   "source": [
    "Remember, the expresson `(xa_high > 2000)` is itself a NumPy array of Booleans.  The `any()` method returns `True` if *any* of the entries in that array are `True`.  Similarly, the `all()` method returns `True` if *all* entries in the array are `True`."
   ]
  },
  {
   "cell_type": "code",
   "execution_count": 24,
   "metadata": {
    "collapsed": false
   },
   "outputs": [
    {
     "data": {
      "text/plain": [
       "False"
      ]
     },
     "execution_count": 24,
     "metadata": {},
     "output_type": "execute_result"
    }
   ],
   "source": [
    "(xa_high > 2000).all()"
   ]
  },
  {
   "cell_type": "markdown",
   "metadata": {},
   "source": [
    "Yup!  At least one cross sectional area is above 2000 µm$^2$, but not all of them."
   ]
  },
  {
   "cell_type": "markdown",
   "metadata": {},
   "source": [
    "### Equality checks with NumPy arrays\n",
    "Remember, you should never use the equality operator (`==`) with `float`s.  Fortunately, NumPy offers a couple nice functions to check if two numbers are *almost* equal.  This helps deal with the numerical precision issues when comparing `float`s.  The `np.isclose()` functions checks to see if two numbers are close in value.  It works elementwise for NumPy arrays."
   ]
  },
  {
   "cell_type": "code",
   "execution_count": 29,
   "metadata": {
    "collapsed": false
   },
   "outputs": [
    {
     "data": {
      "text/plain": [
       "True"
      ]
     },
     "execution_count": 29,
     "metadata": {},
     "output_type": "execute_result"
    }
   ],
   "source": [
    "# Compare two numbers\n",
    "np.isclose(1.3, 1.29999999999)"
   ]
  },
  {
   "cell_type": "code",
   "execution_count": 30,
   "metadata": {
    "collapsed": false
   },
   "outputs": [
    {
     "data": {
      "text/plain": [
       "array([False, False, False, False, False, False, False, False, False,\n",
       "       False, False, False, False, False, False, False, False, False,\n",
       "       False,  True, False, False, False, False, False,  True, False,\n",
       "       False, False, False, False, False, False, False, False, False,\n",
       "       False, False, False, False, False, False, False, False], dtype=bool)"
      ]
     },
     "execution_count": 30,
     "metadata": {},
     "output_type": "execute_result"
    }
   ],
   "source": [
    "# Compare an array to a scalar\n",
    "np.isclose(xa_high, 1800)"
   ]
  },
  {
   "cell_type": "markdown",
   "metadata": {},
   "source": [
    "A couple cross section are 1800 µm$^2$.  The `np.allclose()` fuctions check to see if all values in a NumPy array are close."
   ]
  },
  {
   "cell_type": "code",
   "execution_count": 31,
   "metadata": {
    "collapsed": false
   },
   "outputs": [
    {
     "data": {
      "text/plain": [
       "False"
      ]
     },
     "execution_count": 31,
     "metadata": {},
     "output_type": "execute_result"
    }
   ],
   "source": [
    "np.allclose(xa_high, 1800)"
   ]
  },
  {
   "cell_type": "markdown",
   "metadata": {},
   "source": [
    "### Operators with two NumPy arrays\n",
    "We can apply operators with two NumPy ararys.  Let's give it a whirl.  (This is meaningless in the context of the actual data contained in these arrays, but it's an operation we need to understand.)"
   ]
  },
  {
   "cell_type": "code",
   "execution_count": 32,
   "metadata": {
    "collapsed": false
   },
   "outputs": [
    {
     "ename": "ValueError",
     "evalue": "operands could not be broadcast together with shapes (44,) (57,) ",
     "output_type": "error",
     "traceback": [
      "\u001b[0;31m---------------------------------------------------------------------------\u001b[0m",
      "\u001b[0;31mValueError\u001b[0m                                Traceback (most recent call last)",
      "\u001b[0;32m<ipython-input-32-2904a0f71134>\u001b[0m in \u001b[0;36m<module>\u001b[0;34m()\u001b[0m\n\u001b[0;32m----> 1\u001b[0;31m \u001b[0mxa_high\u001b[0m \u001b[0;34m+\u001b[0m \u001b[0mxa_low\u001b[0m\u001b[0;34m\u001b[0m\u001b[0m\n\u001b[0m",
      "\u001b[0;31mValueError\u001b[0m: operands could not be broadcast together with shapes (44,) (57,) "
     ]
    }
   ],
   "source": [
    "xa_high + xa_low"
   ]
  },
  {
   "cell_type": "markdown",
   "metadata": {},
   "source": [
    "Yikes!  The exception tells us that the two arrays we are using the operator on need to have the same shape.  This makes sense: it we are going to do element-by-element addition, the arrays better have the same number of elements.  To continue with our operators on two arrays, we'll slice the longer NumPy array.  The basic slicing syntax is the same as for strings, lists, and tuples."
   ]
  },
  {
   "cell_type": "code",
   "execution_count": 33,
   "metadata": {
    "collapsed": true
   },
   "outputs": [],
   "source": [
    "# Just take the first elements\n",
    "xa_low_slice = xa_low[:len(xa_high)]"
   ]
  },
  {
   "cell_type": "markdown",
   "metadata": {},
   "source": [
    "Ok, let's try adding arrays again."
   ]
  },
  {
   "cell_type": "code",
   "execution_count": 35,
   "metadata": {
    "collapsed": false
   },
   "outputs": [
    {
     "data": {
      "text/plain": [
       "array([ 3523.,  4151.,  3961.,  3840.,  4303.,  4120.,  3901.,  3946.,\n",
       "        4041.,  3651.,  4172.,  3760.,  3967.,  3483.,  3920.,  3900.,\n",
       "        3981.,  3911.,  3960.,  3888.,  3784.,  4143.,  3692.,  3690.,\n",
       "        3831.,  3960.,  3927.,  4053.,  3755.,  3928.,  3602.,  3840.,\n",
       "        3722.,  4110.,  4013.,  3652.,  4007.,  3432.,  3561.,  4044.,\n",
       "        4142.,  4212.,  4261.,  3889.])"
      ]
     },
     "execution_count": 35,
     "metadata": {},
     "output_type": "execute_result"
    }
   ],
   "source": [
    "xa_high + xa_low_slice"
   ]
  },
  {
   "cell_type": "markdown",
   "metadata": {},
   "source": [
    "Great!  We get element-by-element addition.  The same happens for the other operators we've discussed.  `np.isclose()` also operates element-by-element."
   ]
  },
  {
   "cell_type": "code",
   "execution_count": 36,
   "metadata": {
    "collapsed": false
   },
   "outputs": [
    {
     "data": {
      "text/plain": [
       "array([False, False, False, False, False, False, False, False, False,\n",
       "       False, False, False, False, False, False, False, False, False,\n",
       "       False, False, False, False, False, False, False, False, False,\n",
       "       False, False, False, False, False, False, False, False, False,\n",
       "       False, False, False, False, False, False, False, False], dtype=bool)"
      ]
     },
     "execution_count": 36,
     "metadata": {},
     "output_type": "execute_result"
    }
   ],
   "source": [
    "np.isclose(xa_high, xa_low_slice)"
   ]
  },
  {
   "cell_type": "markdown",
   "metadata": {},
   "source": [
    "## Slicing NumPy arrays\n",
    "We already saw that we can slice NumPy arrays like lists and tuples.  Here are a few examples."
   ]
  },
  {
   "cell_type": "code",
   "execution_count": 46,
   "metadata": {
    "collapsed": false
   },
   "outputs": [
    {
     "data": {
      "text/plain": [
       "array([ 1828.,  2131.,  1851.,  2030.,  1930.,  1660.,  1721.,  1740.,\n",
       "        1752.,  1863.,  2141.,  1701.,  1661.,  1712.,  1749.,  1642.,\n",
       "        1882.,  1821.,  1800.,  1692.,  1680.,  1671.,  1683.,  1833.,\n",
       "        1800.,  1930.,  1910.,  1821.,  1840.,  1787.,  1683.,  1809.,\n",
       "        1951.,  1892.,  1731.,  1751.,  1802.,  1912.,  1781.,  2091.,\n",
       "        1852.,  1792.,  2061.,  1683.])"
      ]
     },
     "execution_count": 46,
     "metadata": {},
     "output_type": "execute_result"
    }
   ],
   "source": [
    "# Reversed array\n",
    "xa_high[::-1]"
   ]
  },
  {
   "cell_type": "code",
   "execution_count": 47,
   "metadata": {
    "collapsed": false
   },
   "outputs": [
    {
     "data": {
      "text/plain": [
       "array([ 1852.,  1751.,  1683.,  1930.,  1680.,  1642.,  2141.,  1660.,\n",
       "        1828.])"
      ]
     },
     "execution_count": 47,
     "metadata": {},
     "output_type": "execute_result"
    }
   ],
   "source": [
    "# Every 5th element, starting at index 3\n",
    "xa_high[3::5]"
   ]
  },
  {
   "cell_type": "code",
   "execution_count": 48,
   "metadata": {
    "collapsed": false
   },
   "outputs": [
    {
     "data": {
      "text/plain": [
       "array([ 1892.,  1951.,  1809.,  1683.,  1787.,  1840.,  1821.,  1910.,\n",
       "        1930.,  1800.,  1833.])"
      ]
     },
     "execution_count": 48,
     "metadata": {},
     "output_type": "execute_result"
    }
   ],
   "source": [
    "# Entries 10 to 20\n",
    "xa_high[10:21]"
   ]
  },
  {
   "cell_type": "markdown",
   "metadata": {},
   "source": [
    "### Fancy indexing\n",
    "NumPy arrays also allow **fancy indexing**, where we can slice out specific values.  For example, say we wanted indices 1, 19, and 6 (in that order) from `xa_high`.  We just index with a list of the indices we want."
   ]
  },
  {
   "cell_type": "code",
   "execution_count": 44,
   "metadata": {
    "collapsed": false
   },
   "outputs": [
    {
     "data": {
      "text/plain": [
       "array([ 2061.,  1800.,  1912.])"
      ]
     },
     "execution_count": 44,
     "metadata": {},
     "output_type": "execute_result"
    }
   ],
   "source": [
    "xa_high[[1, 19, 6]]"
   ]
  },
  {
   "cell_type": "markdown",
   "metadata": {},
   "source": [
    "Instead of a list, we could also use a NumPy array."
   ]
  },
  {
   "cell_type": "code",
   "execution_count": 45,
   "metadata": {
    "collapsed": false
   },
   "outputs": [
    {
     "data": {
      "text/plain": [
       "array([ 2061.,  1800.,  1912.])"
      ]
     },
     "execution_count": 45,
     "metadata": {},
     "output_type": "execute_result"
    }
   ],
   "source": [
    "xa_high[np.array([1, 19, 6])]"
   ]
  },
  {
   "cell_type": "markdown",
   "metadata": {},
   "source": [
    "As a very nice feature, we can slice with a NumPy array of Booleans, and we'll just get back the `True` values.  So, say we only want the egg cross sectional areas that are greater than 2000 µm$^2$."
   ]
  },
  {
   "cell_type": "code",
   "execution_count": 49,
   "metadata": {
    "collapsed": false
   },
   "outputs": [
    {
     "data": {
      "text/plain": [
       "array([ 2061.,  2091.,  2141.,  2030.,  2131.])"
      ]
     },
     "execution_count": 49,
     "metadata": {},
     "output_type": "execute_result"
    }
   ],
   "source": [
    "# Just slice out the big ones\n",
    "xa_high[xa_high > 2000]"
   ]
  },
  {
   "cell_type": "markdown",
   "metadata": {},
   "source": [
    "If we want to know the indices where the values are high, we can use the `np.where()` function."
   ]
  },
  {
   "cell_type": "code",
   "execution_count": 50,
   "metadata": {
    "collapsed": false
   },
   "outputs": [
    {
     "data": {
      "text/plain": [
       "(array([ 1,  4, 33, 40, 42]),)"
      ]
     },
     "execution_count": 50,
     "metadata": {},
     "output_type": "execute_result"
    }
   ],
   "source": [
    "np.where(xa_high > 2000)"
   ]
  },
  {
   "cell_type": "markdown",
   "metadata": {},
   "source": [
    "## NumPy arrays are mutable\n",
    "The big bold works above say it all.  Let's look at some consequences."
   ]
  },
  {
   "cell_type": "code",
   "execution_count": 55,
   "metadata": {
    "collapsed": false
   },
   "outputs": [
    {
     "data": {
      "text/plain": [
       "array([1, 2, 6, 4])"
      ]
     },
     "execution_count": 55,
     "metadata": {},
     "output_type": "execute_result"
    }
   ],
   "source": [
    "# Make an array\n",
    "my_ar = np.array([1, 2, 3, 4])\n",
    "\n",
    "# Change an element\n",
    "my_ar[2] = 6\n",
    "\n",
    "# See the result\n",
    "my_ar"
   ]
  },
  {
   "cell_type": "markdown",
   "metadata": {},
   "source": [
    "Now, let's try working naming attaching another variable to the NumPy array."
   ]
  },
  {
   "cell_type": "code",
   "execution_count": 57,
   "metadata": {
    "collapsed": false
   },
   "outputs": [
    {
     "data": {
      "text/plain": [
       "array([1, 2, 6, 9])"
      ]
     },
     "execution_count": 57,
     "metadata": {},
     "output_type": "execute_result"
    }
   ],
   "source": [
    "# Attach a new variable\n",
    "my_ar2 = my_ar\n",
    "\n",
    "# Set an entry using the new variable\n",
    "my_ar2[3] = 9\n",
    "\n",
    "# Does the original change (yes.)\n",
    "my_ar"
   ]
  },
  {
   "cell_type": "markdown",
   "metadata": {},
   "source": [
    "Let's see how messing with NumPy in functions affects things."
   ]
  },
  {
   "cell_type": "code",
   "execution_count": 63,
   "metadata": {
    "collapsed": false
   },
   "outputs": [
    {
     "data": {
      "text/plain": [
       "array([ 0.1,  0.2,  0.3,  0.4])"
      ]
     },
     "execution_count": 63,
     "metadata": {},
     "output_type": "execute_result"
    }
   ],
   "source": [
    "# Re-instantiate my_ar\n",
    "my_ar = np.array([1, 2, 3, 4]).astype(float)\n",
    "\n",
    "# Function to normalize x (note that /= works with mutable objects)\n",
    "def normalize(x):\n",
    "    x /= x.sum()\n",
    "\n",
    "# Pass it through a function\n",
    "normalize(my_ar)\n",
    "\n",
    "# Is it normalized? (Yes.)\n",
    "my_ar"
   ]
  },
  {
   "cell_type": "markdown",
   "metadata": {},
   "source": [
    "So, be careful when writing functions.  What you do to your NumPy array in the function will happen outside of the function as well."
   ]
  },
  {
   "cell_type": "markdown",
   "metadata": {},
   "source": [
    "### Slices of NumPy arrays are **views**, not copies\n",
    "A very important distinction between NumPy arrays and lists is that slices of NumPy arrays are **views** into the original NumPy array, NOT copies."
   ]
  },
  {
   "cell_type": "code",
   "execution_count": 64,
   "metadata": {
    "collapsed": false
   },
   "outputs": [
    {
     "name": "stdout",
     "output_type": "stream",
     "text": [
      "[1, 2, 3, 4]\n",
      "[1 9 3 4]\n"
     ]
    }
   ],
   "source": [
    "# Make list and array\n",
    "my_list = [1, 2, 3, 4]\n",
    "my_ar = np.array(my_list)\n",
    "\n",
    "# Slice out of each\n",
    "my_list_slice = my_list[1:-1]\n",
    "my_ar_slice = my_ar[1:-1]\n",
    "\n",
    "# Mess with the slices\n",
    "my_list_slice[0] = 9\n",
    "my_ar_slice[0] = 9\n",
    "\n",
    "# Look at originals\n",
    "print(my_list)\n",
    "print(my_ar)"
   ]
  },
  {
   "cell_type": "markdown",
   "metadata": {},
   "source": [
    "Messing with an element of a slice of a NumPy array messes with that element in the original!  This is not the case with lists.  Let's issue a warning."
   ]
  },
  {
   "cell_type": "markdown",
   "metadata": {},
   "source": [
    "<div class=\"alert alert-danger\">\n",
    "<center>Slices of NumPy arrays are **views**, not copies.</center>\n",
    "</div>"
   ]
  },
  {
   "cell_type": "markdown",
   "metadata": {},
   "source": [
    "Fortunately, you can make a copy of an array using the `np.copy()` function."
   ]
  },
  {
   "cell_type": "code",
   "execution_count": 65,
   "metadata": {
    "collapsed": false
   },
   "outputs": [
    {
     "data": {
      "text/plain": [
       "False"
      ]
     },
     "execution_count": 65,
     "metadata": {},
     "output_type": "execute_result"
    }
   ],
   "source": [
    "# Make a copy\n",
    "xa_high_copy = np.copy(xa_high)\n",
    "\n",
    "# Mess with an entry\n",
    "xa_high_copy[10] = 2000\n",
    "\n",
    "# Check equality\n",
    "np.allclose(xa_high, xa_high_copy)"
   ]
  },
  {
   "cell_type": "markdown",
   "metadata": {},
   "source": [
    "So, messing with an entry in the copy did not affect the original."
   ]
  },
  {
   "cell_type": "markdown",
   "metadata": {},
   "source": [
    "## Indexing 2D NumPy arrays\n",
    "NumPy arrays need not be one-dimensional.  We'll create a two-dimensional NumPy array by reshaping our `xa_high` array from having shape `(44,)` to having shape `(11, 4)`.  That is, it will become an array with 11 rows and 4 columns."
   ]
  },
  {
   "cell_type": "code",
   "execution_count": 67,
   "metadata": {
    "collapsed": false
   },
   "outputs": [
    {
     "data": {
      "text/plain": [
       "array([[ 1683.,  2061.,  1792.,  1852.],\n",
       "       [ 2091.,  1781.,  1912.,  1802.],\n",
       "       [ 1751.,  1731.,  1892.,  1951.],\n",
       "       [ 1809.,  1683.,  1787.,  1840.],\n",
       "       [ 1821.,  1910.,  1930.,  1800.],\n",
       "       [ 1833.,  1683.,  1671.,  1680.],\n",
       "       [ 1692.,  1800.,  1821.,  1882.],\n",
       "       [ 1642.,  1749.,  1712.,  1661.],\n",
       "       [ 1701.,  2141.,  1863.,  1752.],\n",
       "       [ 1740.,  1721.,  1660.,  1930.],\n",
       "       [ 2030.,  1851.,  2131.,  1828.]])"
      ]
     },
     "execution_count": 67,
     "metadata": {},
     "output_type": "execute_result"
    }
   ],
   "source": [
    "# New 2D array\n",
    "my_ar = xa_high.reshape((11, 4))\n",
    "\n",
    "# Look at it\n",
    "my_ar"
   ]
  },
  {
   "cell_type": "markdown",
   "metadata": {},
   "source": [
    "Notice that it is represented as an array made out of a list of lists.  If we had a list of lists, we would index it like this:\n",
    "\n",
    "    list_of_lists[i][j]"
   ]
  },
  {
   "cell_type": "code",
   "execution_count": 69,
   "metadata": {
    "collapsed": false
   },
   "outputs": [
    {
     "data": {
      "text/plain": [
       "2"
      ]
     },
     "execution_count": 69,
     "metadata": {},
     "output_type": "execute_result"
    }
   ],
   "source": [
    "# Make list of lists\n",
    "list_of_lists = [[1, 2], [3, 4]]\n",
    "\n",
    "# Pull out value in first row, second column\n",
    "list_of_lists[0][1]"
   ]
  },
  {
   "cell_type": "markdown",
   "metadata": {},
   "source": [
    "This is *not* how NumPy arrays are indexed.  They are indexed much more conveniently."
   ]
  },
  {
   "cell_type": "code",
   "execution_count": 70,
   "metadata": {
    "collapsed": false
   },
   "outputs": [
    {
     "data": {
      "text/plain": [
       "2061.0"
      ]
     },
     "execution_count": 70,
     "metadata": {},
     "output_type": "execute_result"
    }
   ],
   "source": [
    "my_ar[0, 1]"
   ]
  },
  {
   "cell_type": "markdown",
   "metadata": {},
   "source": [
    "We essentially have a tuple in the indexing brackets.  Now, say we wanted the second row (indexing starting at 0)."
   ]
  },
  {
   "cell_type": "code",
   "execution_count": 74,
   "metadata": {
    "collapsed": false
   },
   "outputs": [
    {
     "data": {
      "text/plain": [
       "array([ 1751.,  1731.,  1892.,  1951.])"
      ]
     },
     "execution_count": 74,
     "metadata": {},
     "output_type": "execute_result"
    }
   ],
   "source": [
    "my_ar[2, :]"
   ]
  },
  {
   "cell_type": "markdown",
   "metadata": {},
   "source": [
    "We can use Boolean indexing as before."
   ]
  },
  {
   "cell_type": "code",
   "execution_count": 81,
   "metadata": {
    "collapsed": false
   },
   "outputs": [
    {
     "data": {
      "text/plain": [
       "array([ 2061.,  2091.,  2141.,  2030.,  2131.])"
      ]
     },
     "execution_count": 81,
     "metadata": {},
     "output_type": "execute_result"
    }
   ],
   "source": [
    "my_ar[my_ar > 2000]"
   ]
  },
  {
   "cell_type": "markdown",
   "metadata": {},
   "source": [
    "Note that this give a one-dimensional list of the entries greated than 2000.  If we wanted indices where this is the case, we can again use `np.where()`."
   ]
  },
  {
   "cell_type": "code",
   "execution_count": 82,
   "metadata": {
    "collapsed": false
   },
   "outputs": [
    {
     "data": {
      "text/plain": [
       "(array([ 0,  1,  8, 10, 10]), array([1, 0, 1, 0, 2]))"
      ]
     },
     "execution_count": 82,
     "metadata": {},
     "output_type": "execute_result"
    }
   ],
   "source": [
    "np.where(my_ar > 2000)"
   ]
  },
  {
   "cell_type": "markdown",
   "metadata": {},
   "source": [
    "This tuple of NumPy arrays is how we would index using fancy indexing to pull those values out using fancy indexing."
   ]
  },
  {
   "cell_type": "code",
   "execution_count": 85,
   "metadata": {
    "collapsed": false
   },
   "outputs": [
    {
     "data": {
      "text/plain": [
       "array([ 2061.,  2091.,  2141.,  2030.,  2131.])"
      ]
     },
     "execution_count": 85,
     "metadata": {},
     "output_type": "execute_result"
    }
   ],
   "source": [
    "my_ar[(np.array([ 0,  1,  8, 10, 10]), np.array([1, 0, 1, 0, 2]))]"
   ]
  },
  {
   "cell_type": "markdown",
   "metadata": {},
   "source": [
    "NumPy arrays can be of arbitrary integer dimension, and these princples extrapolate to 3D, 4D, etc., arrays."
   ]
  },
  {
   "cell_type": "markdown",
   "metadata": {},
   "source": [
    "## Concatenating arrays\n",
    "Let's say we want to study all cross sectional areas and don't care if the mother was well-fed or not.  We would want to concatenate our arrays.  The `np.concatenate()` function accomplishes this.  We simply have to pass it a tuple containing the NumPy arrays we want to concatenate."
   ]
  },
  {
   "cell_type": "code",
   "execution_count": 87,
   "metadata": {
    "collapsed": false
   },
   "outputs": [
    {
     "data": {
      "text/plain": [
       "array([ 1683.,  2061.,  1792.,  1852.,  2091.,  1781.,  1912.,  1802.,\n",
       "        1751.,  1731.,  1892.,  1951.,  1809.,  1683.,  1787.,  1840.,\n",
       "        1821.,  1910.,  1930.,  1800.,  1833.,  1683.,  1671.,  1680.,\n",
       "        1692.,  1800.,  1821.,  1882.,  1642.,  1749.,  1712.,  1661.,\n",
       "        1701.,  2141.,  1863.,  1752.,  1740.,  1721.,  1660.,  1930.,\n",
       "        2030.,  1851.,  2131.,  1828.,  1840.,  2090.,  2169.,  1988.,\n",
       "        2212.,  2339.,  1989.,  2144.,  2290.,  1920.,  2280.,  1809.,\n",
       "        2158.,  1800.,  2133.,  2060.,  2160.,  2001.,  2030.,  2088.,\n",
       "        1951.,  2460.,  2021.,  2010.,  2139.,  2160.,  2106.,  2171.,\n",
       "        2113.,  2179.,  1890.,  2179.,  2021.,  1969.,  2150.,  1900.,\n",
       "        2267.,  1711.,  1901.,  2114.,  2112.,  2361.,  2130.,  2061.,\n",
       "        2121.,  1832.,  2210.,  2130.,  2153.,  2009.,  2100.,  2252.,\n",
       "        2143.,  2252.,  2222.,  2121.,  2409.])"
      ]
     },
     "execution_count": 87,
     "metadata": {},
     "output_type": "execute_result"
    }
   ],
   "source": [
    "combined = np.concatenate((xa_high, xa_low))\n",
    "\n",
    "# Look at it\n",
    "combined"
   ]
  },
  {
   "cell_type": "markdown",
   "metadata": {},
   "source": [
    "## So, what is the difference between the two classes of eggs?\n",
    "Finally, let's use our data to compare the difference in cross section areas of the eggs of mothers eating high vs. low-density food?"
   ]
  },
  {
   "cell_type": "code",
   "execution_count": 100,
   "metadata": {
    "collapsed": false
   },
   "outputs": [
    {
     "name": "stdout",
     "output_type": "stream",
     "text": [
      "\n",
      "       25       median        75\n",
      "high   1718       1801        1884\n",
      "low    2009       2121        2171\n",
      "\n"
     ]
    }
   ],
   "source": [
    "# Compute 25, 50, and 75 percentiles\n",
    "high_perc = np.percentile(xa_high, (25, 50, 75))\n",
    "low_perc = np.percentile(xa_low, (25, 50, 75))\n",
    "\n",
    "# Print result\n",
    "print(\"\"\"\n",
    "       25       median        75\n",
    "high   {0:d}       {1:d}        {2:d}\n",
    "low    {3:d}       {4:d}        {5:d}\n",
    "\"\"\".format(*(tuple(high_perc.astype(int)) + tuple(low_perc.astype(int)))))"
   ]
  },
  {
   "cell_type": "markdown",
   "metadata": {},
   "source": [
    "So, we see that the eggs from mothers eating lower-density food have larger cross-sectional areas."
   ]
  }
 ],
 "metadata": {
  "kernelspec": {
   "display_name": "Python 3",
   "language": "python",
   "name": "python3"
  },
  "language_info": {
   "codemirror_mode": {
    "name": "ipython",
    "version": 3
   },
   "file_extension": ".py",
   "mimetype": "text/x-python",
   "name": "python",
   "nbconvert_exporter": "python",
   "pygments_lexer": "ipython3",
   "version": "3.4.3"
  }
 },
 "nbformat": 4,
 "nbformat_minor": 0
}
