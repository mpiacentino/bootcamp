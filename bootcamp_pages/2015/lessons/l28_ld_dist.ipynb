{
 "cells": [
  {
   "cell_type": "markdown",
   "metadata": {},
   "source": [
    "# Lesson 28: The Luria-Delbrück distribution"
   ]
  },
  {
   "cell_type": "markdown",
   "metadata": {},
   "source": [
    "*This tutorial was generated from a Jupyter notebook.  You can download the notebook [here](l28_ld_dist.ipynb).*"
   ]
  },
  {
   "cell_type": "code",
   "execution_count": 1,
   "metadata": {
    "collapsed": true
   },
   "outputs": [],
   "source": [
    "# NumPy, of course\n",
    "import numpy as np\n",
    "\n",
    "# This is how we import the module of Matplotlib we'll be using\n",
    "import matplotlib.pyplot as plt\n",
    "\n",
    "# Seaborn makes plots pretty!\n",
    "import seaborn as sns\n",
    "\n",
    "# Magic function to make matplotlib inline; other style specs must come AFTER\n",
    "%matplotlib inline\n",
    "\n",
    "# Set JB's favorite Seaborn settings\n",
    "rc={'lines.linewidth': 2, 'axes.labelsize': 18, 'axes.titlesize': 18, \n",
    "    'axes.facecolor': 'DFDFE5'}\n",
    "sns.set_context('notebook', rc=rc)"
   ]
  },
  {
   "cell_type": "markdown",
   "metadata": {},
   "source": [
    "In this tutorial, we will use your newfound computational skills to analyze a classic problem in biology."
   ]
  },
  {
   "cell_type": "markdown",
   "metadata": {},
   "source": [
    "When mutations occur in nature, they are often deleterious to the organism. However, mutations are a critical part of the genetic heritage of living organisms, arising in every type of organism and allowing life to evolve and adapt to new environments.  In 1943, the question of how microorganisms acquire mutations was described in a famous article by Salvador Luria and Max Delbrück ([S. E. Luria and M. Delbrück, *Genetics*, **28**, 491–511, 1943](http://www.genetics.org/content/28/6/491.full.pdf)). At the time, there were two prominent theories of genetic inheritance. Scientists did not know if mutations arose randomly in the absence of an environmental cue, the \"random mutation hypothesis\", or whether they occur as an adaptive response to an environmental stimulus, the \"adaptive immunity hypothesis.\" See the figure below.\n",
    "\n",
    "<br />\n",
    "![Competing hypotheses](ld_hypotheses.png)\n",
    "<br />\n",
    "\n",
    "To test these two hypotheses, Luria and Delbrück grew many parallel cultures of bacteria and then plated each culture on agar containing phages (which infect and kill nearly all of the bacteria). Although most bacteria are unable to survive in the presence of phages, often mutations could enable a few survivors to give rise to resistant mutant colonies. If the adaptive immunity hypothesis is correct, mutations occur only after bacteria come in contact with phages, thus only after plating the bacteria on phage-agar plates.  Under the random mutation hypothesis, some bacteria already have the immunity before being exposed.\n",
    "\n",
    "The number of colonies that survive after plating is the number of cells, $n$ that survived.  In this lesson, we will compute the probability mass function, $P(n;N, r)$, describing the probability that $n$ cells out of a total of $N$ survive, given that the mutation rate is $r$ mutations per cell per replication.  We will do this for both hypotheses."
   ]
  },
  {
   "cell_type": "markdown",
   "metadata": {
    "collapsed": true
   },
   "source": [
    "## The adaptive immunity hypothesis\n",
    "Under the adaptive immunity hypothesis, no cells undergo mutations prior to exposure to phage.  Upon exposure, the probability that a given cell mutates is $r$.  What is the probability that $n$ out of a total of $N$ cells is mutated?  There are two components to this probability.  First, there is the chance that cells 1 through $n$ are mutated and cells $n+1$ through $N$ are not.  Since\n",
    "the cells have independent chances of mutation, this is $r^n(1-r)^{N-n}$.  But, we arbitrarily labeled the cells.  We have to also take into account the number of ways to label the cells that are mutated.  There are\n",
    "\n",
    "\\begin{align}\n",
    "\\begin{pmatrix}N \\\\ n \\end{pmatrix} = \\frac{N!}{n!(N-n)!}\n",
    "\\end{align}\n",
    "\n",
    "(pronounced \"$N$ choose $n$\") waysto do this.  Thus, we have\n",
    "\n",
    "\\begin{align}\n",
    "  P_{ai}(n;N, r) = \\frac{N!}{n!(N-n)!}\\,r^n(1-r)^{N-n},\n",
    "\\end{align}\n",
    "\n",
    "the probability of having exactly $n$ out of $N$ cells be mutated. This probability distribution is called the **binomial distribution**."
   ]
  },
  {
   "cell_type": "markdown",
   "metadata": {},
   "source": [
    "## The random mutation hypothesis\n",
    "The probability distribution for the random mutation hypothesis (the so-called Luria-Delbrück distribution) is much more difficult to calculate.  Luria and Delbrück computed it asymptotically.  Its exact form was not derived until six years after the Luria-Delbrück experiment by Lea and Coulson.  The resulting expression for the distribution is a giant mess and very difficult to interpret.  An easier way to compute the distribution, now that we have powerful computers, is to *simulate* the process of acquiring mutations with a Monte Carlo simulation.  We are then sampling out of the probability distribution and we can therefore compute the approximate distribution."
   ]
  },
  {
   "cell_type": "markdown",
   "metadata": {},
   "source": [
    "## Sampling the distributions\n",
    "We will now write code to sample the distributions and compute the means and variances of the distributions.  In our calculations, we assume $N \\propto t \\propto g$, where $t$ is the amount of time the bacteria grew before innoculations, and $g$ is the number of generations that occured during that growth.  So, we can treat $N$ as the same for each of the hypotheses.\n",
    "\n",
    "For our sampling, we will assume the experiment was done after 16 generations (for a total of $N = 2^{15} \\approx 1$ million cells) with a mutation rate of $10^{-5}$."
   ]
  },
  {
   "cell_type": "code",
   "execution_count": 2,
   "metadata": {
    "collapsed": true
   },
   "outputs": [],
   "source": [
    "# Specify parameters\n",
    "n_gen = 16\n",
    "r = 1e-5\n",
    "\n",
    "# Total number of cells\n",
    "n_cells = 2**(n_gen - 1)"
   ]
  },
  {
   "cell_type": "markdown",
   "metadata": {},
   "source": [
    "### The adaptive immunity hypothesis\n",
    "We already know that the adaptive mutation hypothesis results in the number of survivors being binomially distributed, so there is really no need to sample the distribution.  We also already know the mean and variance, which we can compute analytically (or look up on Wikipedia).\n",
    "\n",
    "\\begin{align}\n",
    "\\text{mean} &= \\langle n \\rangle = Nr \\\\\n",
    "\\text{variance} &= Nr(1-r) \\approx Nr \\text{ for } r \\ll 1.\n",
    "\\end{align}\n",
    "\n",
    "So, the ratio of the mean to the variance, the so-called **Fano factor** is approximately unity.\n",
    "\n",
    "Nonetheless, just for fun, we will sample out of the binomial distribution.  The `np.random.binomial()` function allows us to do this.  Let's take 100,000 samples."
   ]
  },
  {
   "cell_type": "code",
   "execution_count": 3,
   "metadata": {
    "collapsed": true
   },
   "outputs": [],
   "source": [
    "# Draw 100000 binomial samples\n",
    "ai_samples = np.random.binomial(n_cells, r, 100000)"
   ]
  },
  {
   "cell_type": "markdown",
   "metadata": {},
   "source": [
    "We can compute the mean, variance, and Fano factor for the adaptive immunity hypothesis."
   ]
  },
  {
   "cell_type": "code",
   "execution_count": 4,
   "metadata": {
    "collapsed": false
   },
   "outputs": [
    {
     "name": "stdout",
     "output_type": "stream",
     "text": [
      "\n",
      "Adaptive immunity hypothesis\n",
      "----------------------------\n",
      "mean:        0.3245\n",
      "variance:    0.3250\n",
      "Fano factor: 1.0016\n",
      "\n"
     ]
    }
   ],
   "source": [
    "print(\"\"\"\n",
    "Adaptive immunity hypothesis\n",
    "----------------------------\n",
    "mean:        {mean:.4f}\n",
    "variance:    {var:.4f}\n",
    "Fano factor: {fano:.4f}\n",
    "\"\"\".format(mean=ai_samples.mean(), var=ai_samples.std()**2,\n",
    "           fano=ai_samples.std()**2 / ai_samples.mean()))"
   ]
  },
  {
   "cell_type": "markdown",
   "metadata": {},
   "source": [
    "These are, of course, what we expect for the binomial distribution.  Importantly, the Fano factor is always expected to be unity, regardless of the mutation rate.  If we plot a histogram of the distribution, we will also find it is binomial."
   ]
  },
  {
   "cell_type": "code",
   "execution_count": 5,
   "metadata": {
    "collapsed": false
   },
   "outputs": [
    {
     "data": {
      "image/png": "[encoded data removed]",
      "text/plain": [
       "<matplotlib.figure.Figure at 0x115ab61d0>"
      ]
     },
     "metadata": {},
     "output_type": "display_data"
    }
   ],
   "source": [
    "# Plot histogram, but it's a probability mass function, so no need for bins\n",
    "plt.plot(np.bincount(ai_samples) / len(ai_samples), marker='.', markersize=10,\n",
    "        linestyle='None')\n",
    "\n",
    "plt.xlabel('Number of survivors')\n",
    "plt.ylabel('Probability')\n",
    "plt.xticks(np.arange(ai_samples.max()+1));\n",
    "plt.margins(0.02)"
   ]
  },
  {
   "cell_type": "markdown",
   "metadata": {},
   "source": [
    "### The random mutation hypothesis\n",
    "For the random mutation hypothesis, we note that each generation may have mutations.  The number of mutations, as we just learned, is binomally distributed.  So, for each generation, we need to draw a number of mutants from a binomial distribution.  The number of possible cells that can have the mutation is equal to those who have not already mutated.  I.e., the number of cells that can have a mutation in generation $g$ is\n",
    "\n",
    "\\begin{align}\n",
    "N_g = 2^g - 2n_{g-1},\n",
    "\\end{align}\n",
    "\n",
    "where $g$ is the generation and $n_{g-1}$ is the number of mutant cells in generation $g-1$.  We are just subtracting out the cells that have already mutated. "
   ]
  },
  {
   "cell_type": "code",
   "execution_count": 6,
   "metadata": {
    "collapsed": false
   },
   "outputs": [],
   "source": [
    "def draw_random_mutation(n_gen, r):\n",
    "    \"\"\"Draw a sample out of the Luria-Delbruck distribution\"\"\"\n",
    "    # Initialize number of mutants\n",
    "    n_mut = 0\n",
    "    \n",
    "    for g in range(n_gen):\n",
    "        n_mut = 2 * n_mut + np.random.binomial(2**g - 2 * n_mut, r)\n",
    "        \n",
    "    return n_mut\n",
    "\n",
    "\n",
    "def sample_random_mutation(n_gen, r, n_samples):\n",
    "    \"\"\"Sample out of the Luria-Delbruck distribution\"\"\"\n",
    "    # Initialize samples\n",
    "    samples = np.empty(n_samples)\n",
    "    \n",
    "    # Draw the samples\n",
    "    for i in range(n_samples):\n",
    "        samples[i] = draw_random_mutation(n_gen, r)\n",
    "        \n",
    "    return samples"
   ]
  },
  {
   "cell_type": "markdown",
   "metadata": {},
   "source": [
    "Because compiling it with `numba` is trivial, we add the `numba` compilation decorators.  Let's go ahead and draw 100,000 samples."
   ]
  },
  {
   "cell_type": "code",
   "execution_count": 7,
   "metadata": {
    "collapsed": false
   },
   "outputs": [],
   "source": [
    "rm_samples = sample_random_mutation(n_gen, r, 100000).astype(int)"
   ]
  },
  {
   "cell_type": "code",
   "execution_count": 8,
   "metadata": {
    "collapsed": false
   },
   "outputs": [
    {
     "name": "stdout",
     "output_type": "stream",
     "text": [
      "\n",
      "Random mutation hypothesis\n",
      "--------------------------\n",
      "mean:        5.9032\n",
      "variance:    42154.5811\n",
      "Fano factor: 7141.0075\n",
      "\n"
     ]
    }
   ],
   "source": [
    "print(\"\"\"\n",
    "Random mutation hypothesis\n",
    "--------------------------\n",
    "mean:        {mean:.4f}\n",
    "variance:    {var:.4f}\n",
    "Fano factor: {fano:.4f}\n",
    "\"\"\".format(mean=rm_samples.mean(), var=rm_samples.std()**2,\n",
    "           fano=rm_samples.std()**2 / rm_samples.mean()))"
   ]
  },
  {
   "cell_type": "markdown",
   "metadata": {},
   "source": [
    "Wow!  The Fano factor is huge!  Even though the mean is small, we have samples that have a huge number of survivors.  This makes sense, as a cell may acquire a mutation in an early generation, and this then gets propagated forward in time.  Let's plot the distribution."
   ]
  },
  {
   "cell_type": "code",
   "execution_count": 9,
   "metadata": {
    "collapsed": false
   },
   "outputs": [
    {
     "data": {
      "image/png": "[encoded data removed]",
      "text/plain": [
       "<matplotlib.figure.Figure at 0x117971198>"
      ]
     },
     "metadata": {},
     "output_type": "display_data"
    }
   ],
   "source": [
    "# Plot histogram, but it's a probability mass function, so no need for bins\n",
    "plt.semilogx(np.bincount(rm_samples.astype(int)) / len(rm_samples), \n",
    "             marker='.', markersize=10, linestyle='None')\n",
    "\n",
    "plt.xlabel('Number of survivors')\n",
    "plt.ylabel('Probability')\n",
    "plt.margins(0.02)"
   ]
  },
  {
   "cell_type": "markdown",
   "metadata": {},
   "source": [
    "We can also plot the cumulative distribution."
   ]
  },
  {
   "cell_type": "code",
   "execution_count": 10,
   "metadata": {
    "collapsed": false
   },
   "outputs": [
    {
     "data": {
      "text/plain": [
       "<matplotlib.text.Text at 0x117deea90>"
      ]
     },
     "execution_count": 10,
     "metadata": {},
     "output_type": "execute_result"
    },
    {
     "data": {
      "image/png": "[encoded data removed]",
      "text/plain": [
       "<matplotlib.figure.Figure at 0x1181f6c18>"
      ]
     },
     "metadata": {},
     "output_type": "display_data"
    }
   ],
   "source": [
    "# Sort the samples\n",
    "rm_samples = np.sort(rm_samples)\n",
    "\n",
    "# Generate y-axis for CDF\n",
    "y = np.arange(len(rm_samples)) / len(rm_samples)\n",
    "\n",
    "# Plot CDF from random numbers\n",
    "plt.semilogx(rm_samples, y, '.', markersize=10)\n",
    "t_smooth = np.logspace(0.5, 8, 100)\n",
    "\n",
    "# Clean up plot\n",
    "plt.margins(y=0.02)\n",
    "plt.xlabel(r'$t_{bt} (s)$')\n",
    "plt.ylabel('cum. hist.')\n",
    "\n",
    "# Clean up plot\n",
    "plt.margins(y=0.02)\n",
    "plt.xlabel('number of survivors')\n",
    "plt.ylabel('cum. hist.')"
   ]
  },
  {
   "cell_type": "markdown",
   "metadata": {},
   "source": [
    "We see that most trials, about 50%, have no survivors.  But we also see that the distribution has a very long tail!  So, regardless of what the mutation rate is, we expect to see long tails in the random mutation hypothesis.  If we observe a plate with a a large number of colonies, we know we are sampling in the tail of the Luria-Delbrück distribution.  The probability of seeing large numbers of survivors is vanishingly small under the adaptive immunity hypothesis."
   ]
  }
 ],
 "metadata": {
  "kernelspec": {
   "display_name": "Python 3",
   "language": "python",
   "name": "python3"
  },
  "language_info": {
   "codemirror_mode": {
    "name": "ipython",
    "version": 3
   },
   "file_extension": ".py",
   "mimetype": "text/x-python",
   "name": "python",
   "nbconvert_exporter": "python",
   "pygments_lexer": "ipython3",
   "version": "3.4.3"
  }
 },
 "nbformat": 4,
 "nbformat_minor": 0
}
