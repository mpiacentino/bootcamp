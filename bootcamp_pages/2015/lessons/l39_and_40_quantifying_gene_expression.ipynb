{
 "cells": [
  {
   "cell_type": "markdown",
   "metadata": {},
   "source": [
    "# Lessons 38 and 39: Quantifiying gene expression"
   ]
  },
  {
   "cell_type": "markdown",
   "metadata": {},
   "source": [
    "The goal of this unit is to learn how to compute simple quantitiative metrics from next-generation sequencing data. In particular, we will use RNA-Seq data and quantify gene expression using a package called Pysam, a python package that wraps the popular Samtools package.\n",
    "\n",
    "A file format called SAM/BAM (described [here](https://samtools.github.io/hts-specs/SAMv1.pdf)) is now the standard formats for next-generation sequence alignments. \n",
    "\n",
    "The Samtools API (link) provides a good description of some of these methods. Pysam is a Python package that wraps these tools and enables many useful manipulations of SAM/BAM files."
   ]
  },
  {
   "cell_type": "markdown",
   "metadata": {},
   "source": [
    "![Let's take a look at the SAM file:](sam.png)"
   ]
  },
  {
   "cell_type": "markdown",
   "metadata": {},
   "source": [
    "First, we will need to install Pysam, which can be done by:\n",
    "\n",
    "    pip install pysam"
   ]
  },
  {
   "cell_type": "markdown",
   "metadata": {},
   "source": [
    "Before we start working with Pysam, let's start with some simple methods to compare two features. We say that 2 intervals overlap if any region of the two features cover the same position."
   ]
  },
  {
   "cell_type": "code",
   "execution_count": 1,
   "metadata": {
    "collapsed": false
   },
   "outputs": [],
   "source": [
    "def overlap(x, y):\n",
    "    \"\"\"\n",
    "    This function takes two intervals and determines whether \n",
    "    they have any overlapping segments.\n",
    "    \"\"\"\n",
    "    new_start = max(x[1], y[1])\n",
    "    new_end = min(x[2], y[2])\n",
    "    \n",
    "    if new_start < new_end and x[0] == y[0]:\n",
    "        return True\n",
    "    return False"
   ]
  },
  {
   "cell_type": "code",
   "execution_count": 2,
   "metadata": {
    "collapsed": true
   },
   "outputs": [],
   "source": [
    "region1 = (\"chr3\", 27, 82)\n",
    "region2 = (\"chr4\", 27, 82)\n",
    "region3 = (\"chr3\", 57, 75)\n",
    "region4 = (\"chr3\", 85, 107)"
   ]
  },
  {
   "cell_type": "markdown",
   "metadata": {},
   "source": [
    "Region 1 does NOT overlap region 2 because it is on a different chromosome."
   ]
  },
  {
   "cell_type": "code",
   "execution_count": 3,
   "metadata": {
    "collapsed": false
   },
   "outputs": [
    {
     "data": {
      "text/plain": [
       "False"
      ]
     },
     "execution_count": 3,
     "metadata": {},
     "output_type": "execute_result"
    }
   ],
   "source": [
    "overlap(region1, region2)"
   ]
  },
  {
   "cell_type": "markdown",
   "metadata": {},
   "source": [
    "But, it does overlap region 3."
   ]
  },
  {
   "cell_type": "code",
   "execution_count": 4,
   "metadata": {
    "collapsed": false
   },
   "outputs": [
    {
     "data": {
      "text/plain": [
       "True"
      ]
     },
     "execution_count": 4,
     "metadata": {},
     "output_type": "execute_result"
    }
   ],
   "source": [
    "overlap(region1, region3)"
   ]
  },
  {
   "cell_type": "markdown",
   "metadata": {},
   "source": [
    "But, not region 4 which is after it."
   ]
  },
  {
   "cell_type": "code",
   "execution_count": 5,
   "metadata": {
    "collapsed": false
   },
   "outputs": [
    {
     "data": {
      "text/plain": [
       "False"
      ]
     },
     "execution_count": 5,
     "metadata": {},
     "output_type": "execute_result"
    }
   ],
   "source": [
    "overlap(region1, region4)"
   ]
  },
  {
   "cell_type": "code",
   "execution_count": 68,
   "metadata": {
    "collapsed": true
   },
   "outputs": [],
   "source": [
    "# Sox2 gene location in mouse genome\n",
    "gene=(\"chr3\", 34548926, 34551382)"
   ]
  },
  {
   "cell_type": "markdown",
   "metadata": {},
   "source": [
    "Once Pysam is installed, you can load the package by simply typing:"
   ]
  },
  {
   "cell_type": "code",
   "execution_count": 69,
   "metadata": {
    "collapsed": true
   },
   "outputs": [],
   "source": [
    "import pysam"
   ]
  },
  {
   "cell_type": "markdown",
   "metadata": {},
   "source": [
    "To start exploring reads from a SAM/BAM file, let's first load the file."
   ]
  },
  {
   "cell_type": "code",
   "execution_count": 70,
   "metadata": {
    "collapsed": false
   },
   "outputs": [],
   "source": [
    "# load BAM file\n",
    "bamfile = pysam.AlignmentFile('DGE5p.bam', 'rb')"
   ]
  },
  {
   "cell_type": "markdown",
   "metadata": {},
   "source": [
    "Note the `'rb'` parameter indicates to read the file as binary, which is the BAM format (BAM stands for Binary Alignment Map). If loading a SAM file, this parameter does not need to be specified"
   ]
  },
  {
   "cell_type": "markdown",
   "metadata": {},
   "source": [
    "An important and very common application is to count the number of reads (aligned fragments) that overlap a give feature (i.e. region of the genome or gene). One simple approach to doing this is to make a list of all reads generated and simply iterate over the reads to identify whether a read overlaps a region. In this case we need an overlap method that can compare a simple interval (defined by a tuple of chr, start, end) with a pysam AlignedSegment object.  This overlap method needs the AlignmentFile object to decode chromosome name, otherwise it is very similar to the above `overlap()` function."
   ]
  },
  {
   "cell_type": "code",
   "execution_count": 71,
   "metadata": {
    "collapsed": true
   },
   "outputs": [],
   "source": [
    "def overlap(x, gene, bamfile):\n",
    "    \"\"\"\n",
    "    A modified version of overlap that takes an interval and a pysam\n",
    "    AlignedSegment and tests for overlap\n",
    "    \"\"\"\n",
    "    new_start = max(x.reference_start, gene[1])\n",
    "    new_end = min(x.reference_end, gene[2])\n",
    "    \n",
    "    if (new_start < new_end and bamfile.getrname(x.tid) == gene[0]):\n",
    "        return True\n",
    "    \n",
    "    return False"
   ]
  },
  {
   "cell_type": "markdown",
   "metadata": {},
   "source": [
    "Let's get all of the reads in the BAM file"
   ]
  },
  {
   "cell_type": "code",
   "execution_count": 55,
   "metadata": {
    "collapsed": false
   },
   "outputs": [],
   "source": [
    "bam_iter = bamfile.fetch()"
   ]
  },
  {
   "cell_type": "markdown",
   "metadata": {},
   "source": [
    "Now, let's iterate through all of these reads and count whenever a read overlaps our gene of interest"
   ]
  },
  {
   "cell_type": "code",
   "execution_count": 23,
   "metadata": {
    "collapsed": false
   },
   "outputs": [],
   "source": [
    "# code to iterate over reads and count for a single gene\n",
    "naive_gene_count = 0\n",
    "\n",
    "for x in bam_iter:\n",
    "    # Note x is of type pysam.AlignedSegment\n",
    "    if(overlap(x, gene, bamfile)):\n",
    "        naive_gene_count += 1"
   ]
  },
  {
   "cell_type": "markdown",
   "metadata": {},
   "source": [
    "Be careful, this takes a long time to run..."
   ]
  },
  {
   "cell_type": "markdown",
   "metadata": {},
   "source": [
    "Let's now print this count"
   ]
  },
  {
   "cell_type": "code",
   "execution_count": 24,
   "metadata": {
    "collapsed": false
   },
   "outputs": [
    {
     "name": "stdout",
     "output_type": "stream",
     "text": [
      "11189\n"
     ]
    }
   ],
   "source": [
    "print(naive_gene_count)"
   ]
  },
  {
   "cell_type": "markdown",
   "metadata": {},
   "source": [
    "The problem with this approach is that to do this, you will need to store the entire file in memory. Worse than that, in order to find the reads within a single gene, you would need to iterate over the entire file, which can contain hundreds of millions of reads. This is quite slow even for a single gene, but will only increase if you want to look at many genes.\n",
    "\n",
    "Instead, more efficient datastructures (and indexing schemes) can be used to retrieve reads based on positions in more efficient ways."
   ]
  },
  {
   "cell_type": "markdown",
   "metadata": {},
   "source": [
    "Now that you have access to all of the methods in the Pysam package. Let's take a tour of some of the things you can do in Pysam. We'll start by counting the number of reads over the same region above, but in a smarter way. "
   ]
  },
  {
   "cell_type": "markdown",
   "metadata": {},
   "source": [
    "(Note: the exact way Pysam, Picard and other tools implement this is based on a similar concept to the interval tree, but generally involve a tree built on a file index so as to avoid reading the entire file into memory, but for the purposes of this discussion the implementation details are not important)."
   ]
  },
  {
   "cell_type": "markdown",
   "metadata": {},
   "source": [
    "To get the reads overlapping a given region, Pysam has a method called `fetch()`, which takes the genomic coordinates and returns an iterator of all reads overlapping that region."
   ]
  },
  {
   "cell_type": "code",
   "execution_count": 72,
   "metadata": {
    "collapsed": false
   },
   "outputs": [],
   "source": [
    "bam_iter = bamfile.fetch(gene[0], gene[1], gene[2])"
   ]
  },
  {
   "cell_type": "markdown",
   "metadata": {},
   "source": [
    "You can now access each alignment contained in the iterator and perform any functions you want on these. For now, we will simply count them"
   ]
  },
  {
   "cell_type": "code",
   "execution_count": 73,
   "metadata": {
    "collapsed": false
   },
   "outputs": [],
   "source": [
    "pysam_gene_count = 0\n",
    "\n",
    "for x in bam_iter:\n",
    "    pysam_gene_count += 1"
   ]
  },
  {
   "cell_type": "markdown",
   "metadata": {},
   "source": [
    "This is the same thing we did earlier and we can compare the results"
   ]
  },
  {
   "cell_type": "code",
   "execution_count": 74,
   "metadata": {
    "collapsed": false
   },
   "outputs": [
    {
     "name": "stdout",
     "output_type": "stream",
     "text": [
      "11190\n"
     ]
    }
   ],
   "source": [
    "print(pysam_gene_count)"
   ]
  },
  {
   "cell_type": "markdown",
   "metadata": {},
   "source": [
    "Not surprisingly, they are the same - the big difference is that the second method is significantly faster. The reason for this is that Pysam (and Samtools, Picard, and other similar packages) make use of clever tricks to index the file by genomic positions to more efficiently search for reads within a given genomic interval."
   ]
  },
  {
   "cell_type": "markdown",
   "metadata": {},
   "source": [
    "Now that we know how to count reads overlapping a region, we can write this as a function and try and compute this for all genes."
   ]
  },
  {
   "cell_type": "code",
   "execution_count": 75,
   "metadata": {
    "collapsed": true
   },
   "outputs": [],
   "source": [
    "def read_count(gene, bamfile):\n",
    "    \"\"\"\n",
    "    Compute the number of reads contained in a bamfile that overlap\n",
    "    a given interval\n",
    "    \"\"\"\n",
    "    bam_iter = bamfile.fetch(gene[0], gene[1], gene[2])\n",
    "\n",
    "    pysam_gene_count = 0\n",
    "    \n",
    "    for x in bam_iter:\n",
    "        pysam_gene_count += 1\n",
    "        \n",
    "    return pysam_gene_count"
   ]
  },
  {
   "cell_type": "markdown",
   "metadata": {},
   "source": [
    "You can run this with any gene tuple now"
   ]
  },
  {
   "cell_type": "code",
   "execution_count": 76,
   "metadata": {
    "collapsed": false
   },
   "outputs": [
    {
     "data": {
      "text/plain": [
       "436325"
      ]
     },
     "execution_count": 76,
     "metadata": {},
     "output_type": "execute_result"
    }
   ],
   "source": [
    "gene2=(\"chr19\", 584229, 5845480)\n",
    "\n",
    "read_count(gene2, bamfile)"
   ]
  },
  {
   "cell_type": "markdown",
   "metadata": {},
   "source": [
    "Now, let's compute the gene counts for all genes. We'll start by reading in all genes"
   ]
  },
  {
   "cell_type": "code",
   "execution_count": 77,
   "metadata": {
    "collapsed": false
   },
   "outputs": [],
   "source": [
    "gene_counts={}\n",
    "\n",
    "with open('chr3.genes.bed', 'r') as f:\n",
    "    for line in f:\n",
    "        tokens = line.split('\\t')\n",
    "        gene_local = (tokens[0], int(tokens[1]), int(tokens[2]))\n",
    "        count = read_count(gene_local, bamfile)\n",
    "        gene_counts.update({tokens[3] : count})   "
   ]
  },
  {
   "cell_type": "markdown",
   "metadata": {},
   "source": [
    "Now let's query the gene counts for Sox2 (ID: NM_011443)"
   ]
  },
  {
   "cell_type": "code",
   "execution_count": 78,
   "metadata": {
    "collapsed": false
   },
   "outputs": [
    {
     "name": "stdout",
     "output_type": "stream",
     "text": [
      "11190\n",
      "11366\n",
      "604\n"
     ]
    }
   ],
   "source": [
    "print(gene_counts.get(\"NM_011443\"))\n",
    "print(gene_counts.get(\"NM_016904\"))\n",
    "print(gene_counts.get(\"NM_001038696\"))"
   ]
  },
  {
   "cell_type": "markdown",
   "metadata": {
    "collapsed": true
   },
   "source": [
    "In practice, the number of reads overlapping a gene is never used to quantify gene expression (because read numbers are dependent on gene expression as well as gene length). A more common metric for gene expression is called the RPKM. RPKM is a fairly simple transformation of read counts that normalizes the number of counts by gene length as well as the average number of reads per base in the genome."
   ]
  },
  {
   "cell_type": "code",
   "execution_count": 79,
   "metadata": {
    "collapsed": false
   },
   "outputs": [
    {
     "name": "stdout",
     "output_type": "stream",
     "text": [
      "2456\n"
     ]
    }
   ],
   "source": [
    "gene_length = gene[2] - gene[1]\n",
    "print(gene_length)"
   ]
  },
  {
   "cell_type": "code",
   "execution_count": 80,
   "metadata": {
    "collapsed": false
   },
   "outputs": [
    {
     "name": "stdout",
     "output_type": "stream",
     "text": [
      "75407074\n"
     ]
    }
   ],
   "source": [
    "total_mapped_reads = 0\n",
    "\n",
    "# here you want all reads\n",
    "bam_iter = bamfile.fetch()\n",
    "\n",
    "for x in bam_iter:\n",
    "    total_mapped_reads += 1\n",
    "print(total_mapped_reads)"
   ]
  },
  {
   "cell_type": "code",
   "execution_count": 81,
   "metadata": {
    "collapsed": false
   },
   "outputs": [
    {
     "name": "stdout",
     "output_type": "stream",
     "text": [
      "60.4212401224\n"
     ]
    }
   ],
   "source": [
    "rpkm_metric = 1e9 * read_count(gene, bamfile) / (total_mapped_reads * gene_length)\n",
    "print(rpkm_metric)"
   ]
  },
  {
   "cell_type": "markdown",
   "metadata": {},
   "source": [
    "We can now rewrite the quantification method to compute RPKMs for all genes"
   ]
  },
  {
   "cell_type": "code",
   "execution_count": 82,
   "metadata": {
    "collapsed": true
   },
   "outputs": [],
   "source": [
    "def rpkm(genefile, bamfile):\n",
    "    \"\"\"\n",
    "    Compute the RPKM (reads per kilobase per million mapped reads) metric for all genes within the genefile using\n",
    "    an RNA-Seq bamfile\n",
    "    \"\"\"\n",
    "    total_mapped_reads = 0\n",
    "    \n",
    "    # here you want all reads\n",
    "    bam_iter = bamfile.fetch()\n",
    "    \n",
    "    for x in bam_iter:\n",
    "        total_mapped_reads += 1\n",
    "\n",
    "    geneCounts={}\n",
    "    with open(genefile, 'r') as f:\n",
    "        for line in f:\n",
    "            tokens = line.split('\\t')\n",
    "            gene_local = (tokens[0], int(tokens[1]), int(tokens[2]))\n",
    "            gene_length=gene_local[2]-gene_local[1]\n",
    "            rpk_metric = 1e9 * read_count(gene_local, bamfile) \\\n",
    "                            / (total_mapped_reads * gene_length)\n",
    "            gene_counts.update({tokens[3] : rpk_metric})   \n",
    "    return(gene_counts)"
   ]
  },
  {
   "cell_type": "markdown",
   "metadata": {},
   "source": [
    "Now, lets give it a try"
   ]
  },
  {
   "cell_type": "code",
   "execution_count": 83,
   "metadata": {
    "collapsed": false
   },
   "outputs": [
    {
     "name": "stdout",
     "output_type": "stream",
     "text": [
      "60.4212401224\n"
     ]
    }
   ],
   "source": [
    "gene_counts = rpkm('chr3.genes.bed', bamfile)\n",
    "\n",
    "print(gene_counts.get('NM_011443'))"
   ]
  }
 ],
 "metadata": {
  "kernelspec": {
   "display_name": "Python 3",
   "language": "python",
   "name": "python3"
  },
  "language_info": {
   "codemirror_mode": {
    "name": "ipython",
    "version": 3
   },
   "file_extension": ".py",
   "mimetype": "text/x-python",
   "name": "python",
   "nbconvert_exporter": "python",
   "pygments_lexer": "ipython3",
   "version": "3.4.3"
  }
 },
 "nbformat": 4,
 "nbformat_minor": 0
}
