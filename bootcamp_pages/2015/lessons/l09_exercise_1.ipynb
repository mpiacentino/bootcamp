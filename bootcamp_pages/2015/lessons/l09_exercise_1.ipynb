{
 "cells": [
  {
   "cell_type": "markdown",
   "metadata": {},
   "source": [
    "# Lesson 9: Review of exercise 1"
   ]
  },
  {
   "cell_type": "markdown",
   "metadata": {},
   "source": [
    "*This exercise was generated from a Jupyter notebook.  You can download the notebook [here](l09_exercise_1.ipynb).*"
   ]
  },
  {
   "cell_type": "markdown",
   "metadata": {},
   "source": [
    "## Problem 1.1: Command line exercises\n",
    "In this problem, you will play around with the command line on your machine and get more familiar with it.\n",
    "\n",
    "**a)** Let's play around with some options for the `ls` command.  First `cd` into a directory that has some interesting files in it (like `~/bootcamp/command_line_tutorial`).  Try the following.\n",
    "\n",
    "    ls -F\n",
    "    ls -G    # Might not be as cool with Git Bash on Windows\n",
    "    ls -l\n",
    "    ls -lh\n",
    "    ls -lS\n",
    "    ls -FGLh\n",
    "    \n",
    "You should be able to infer what these different options do, but you should talk with the TAs as well.\n",
    "\n",
    "Normally, files that begin with a dot (`.`) are omitted when listing things.  They are also generally omitted when you use your OS's GUI-based file handling system (like Finder on Macs).  To see them, use `ls -a`.  So, `cd` into your home directory (you remember how to do that, right?), and then do\n",
    "\n",
    "    ls -a"
   ]
  },
  {
   "cell_type": "markdown",
   "metadata": {},
   "source": [
    "**b)** The nuclear option to delete *everything* in a directory is `rm -rf`.  The `r` means to delete recursively, and the `f` means to \"force\" deletion.  I was going to give you an exercise that uses the nuclear option, but I'm not going to do that.  So, just forget I said anything.  For this part of the problem, I want you to discuss with your neighbor *when* the nuclear option might be used, and what needs to be in place before exercising it."
   ]
  },
  {
   "cell_type": "markdown",
   "metadata": {},
   "source": [
    "**c)** Try doing this:\n",
    "\n",
    "    ls /\n",
    "    \n",
    "What is `/`?  Try `cd`-ing there and seeing what's in there.  **Do not delete anything!**"
   ]
  },
  {
   "cell_type": "markdown",
   "metadata": {},
   "source": [
    "**d)** Make a copy of the `~/bootcamp` directory called `~/bootcamp_sandbox`.  Make sure to copy over all files.  Why might you want do do this?"
   ]
  },
  {
   "cell_type": "markdown",
   "metadata": {},
   "source": [
    "### Problem 1.1 solution\n",
    "This problem more or less consisted of messing around with the command line.  It is not a bad idea to have `sandbox` directories around to play with where you can't do any damage.  However, as soon as you do anything you might want to save or keep track of, take it out of the sandbox."
   ]
  },
  {
   "cell_type": "markdown",
   "metadata": {},
   "source": [
    "<br />"
   ]
  },
  {
   "cell_type": "markdown",
   "metadata": {},
   "source": [
    "## Problem 1.2: Using string methods\n",
    "In [Lesson 7](l7_intro_to_functions.html), we wrote a function to compute the reverse complement of a sequence.  \n",
    "\n",
    "**a)** Write that function again, still using a **`for`** loop, but do not use the built-in `reversed()` function.\n",
    "\n",
    "**b)** Write the function one more time, but without any **`for`** loops."
   ]
  },
  {
   "cell_type": "markdown",
   "metadata": {},
   "source": [
    "### Problem 1.2: solution\n",
    "**a)** The trick here is to do what we did in Lesson 7, except use `[::-1]` indexing instead of the `reversed()` function."
   ]
  },
  {
   "cell_type": "code",
   "execution_count": 1,
   "metadata": {
    "collapsed": true
   },
   "outputs": [],
   "source": [
    "def complement_base(base):\n",
    "    \"\"\"Returns the Watson-Crick complement of a base.\"\"\"\n",
    "    \n",
    "    if base == 'A' or base == 'a':\n",
    "        return 'T'\n",
    "    elif base == 'T' or base == 't':\n",
    "        return 'A'\n",
    "    elif base == 'G' or base == 'g':\n",
    "        return 'C'\n",
    "    else:\n",
    "        return 'G'\n",
    "\n",
    "\n",
    "def reverse_complement(seq):\n",
    "    \"\"\"Compute reverse complement of a sequence.\"\"\"\n",
    "    \n",
    "    # Initialize reverse complement\n",
    "    rev_seq = ''\n",
    "    \n",
    "    # Loop through and populate list with reverse complement\n",
    "    for base in seq:\n",
    "        rev_seq += complement_base(base)\n",
    "        \n",
    "    return rev_seq[::-1]"
   ]
  },
  {
   "cell_type": "markdown",
   "metadata": {},
   "source": [
    "And we'll do a quick test with the same sequence as in lesson 7."
   ]
  },
  {
   "cell_type": "code",
   "execution_count": 2,
   "metadata": {
    "collapsed": false
   },
   "outputs": [
    {
     "data": {
      "text/plain": [
       "'TGCAACTGC'"
      ]
     },
     "execution_count": 2,
     "metadata": {},
     "output_type": "execute_result"
    }
   ],
   "source": [
    "reverse_complement('GCAGTTGCA')"
   ]
  },
  {
   "cell_type": "markdown",
   "metadata": {},
   "source": [
    "Bingo!"
   ]
  },
  {
   "cell_type": "markdown",
   "metadata": {},
   "source": [
    "**b)** We can eliminate the **`for`** loop by using the `sub()` method of strings."
   ]
  },
  {
   "cell_type": "code",
   "execution_count": 3,
   "metadata": {
    "collapsed": true
   },
   "outputs": [],
   "source": [
    "def reverse_complement(seq):\n",
    "    \"\"\"Compute reverse complement of a sequence.\"\"\"\n",
    "    \n",
    "    # Initialize rev_seq to a lowercase seq\n",
    "    rev_seq = seq.lower()\n",
    "    \n",
    "    # Substitute bases\n",
    "    rev_seq = rev_seq.replace('t', 'A')\n",
    "    rev_seq = rev_seq.replace('a', 'T')\n",
    "    rev_seq = rev_seq.replace('g', 'C')\n",
    "    rev_seq = rev_seq.replace('c', 'G')\n",
    "    \n",
    "    return rev_seq[::-1]"
   ]
  },
  {
   "cell_type": "markdown",
   "metadata": {},
   "source": [
    "And let's give it a test!"
   ]
  },
  {
   "cell_type": "code",
   "execution_count": 5,
   "metadata": {
    "collapsed": false
   },
   "outputs": [
    {
     "data": {
      "text/plain": [
       "'TGCAACTGC'"
      ]
     },
     "execution_count": 5,
     "metadata": {},
     "output_type": "execute_result"
    }
   ],
   "source": [
    "reverse_complement('GCAGTTGCA')"
   ]
  },
  {
   "cell_type": "markdown",
   "metadata": {},
   "source": [
    "<br />"
   ]
  },
  {
   "cell_type": "markdown",
   "metadata": {},
   "source": [
    "## Problem 1.3: Longest common substring\n",
    "Write a function that takes two sequences and returns the longest common substring.  A substring is a contiguous portion of a string.  For example:\n",
    "\n",
    "Is substring of `ATGCATAT`:\n",
    "\n",
    "    TGCA\n",
    "    T\n",
    "    TAT\n",
    "    \n",
    "Is not a substring of `ATGCATAT`:\n",
    "\n",
    "    AGCA              # Skipped T\n",
    "    CCATA             # Added another C\n",
    "    Hello, world.     # Has nothing to do with the input sequence\n",
    "    \n",
    "There may be more than one longest common substring; you only need to return one of them."
   ]
  },
  {
   "cell_type": "markdown",
   "metadata": {},
   "source": [
    "### Problem 1.3: solution\n",
    "This is actually an [important problem](https://en.wikipedia.org/wiki/Longest_common_substring_problem), and there are clever algorithms to solve it.  We will take a more brute force approach.  We will generate all substrings of the shorter of the two strings, and find which ones are in the other."
   ]
  },
  {
   "cell_type": "code",
   "execution_count": 6,
   "metadata": {
    "collapsed": false
   },
   "outputs": [],
   "source": [
    "def longest_common_substring(s1, s2):\n",
    "    \"\"\"Return one of the longest common substrings\"\"\"\n",
    "    \n",
    "    # Make sure s1 is the shorter\n",
    "    if len(s1) > len(s2):\n",
    "        s1, s2 = s2, s1\n",
    "    \n",
    "    # Start with the entire sequence and shorten\n",
    "    substr_len = len(s1)\n",
    "    while substr_len > 0:        \n",
    "        # Try all substrings\n",
    "        for i in range(len(s1) - substr_len + 1):\n",
    "            if s1[i:i+substr_len] in s2:\n",
    "                return s1[i:i+substr_len]\n",
    "\n",
    "        substr_len -= 1\n",
    "            \n",
    "    # If we haven't returned, there is no common substring\n",
    "    return ''"
   ]
  },
  {
   "cell_type": "markdown",
   "metadata": {},
   "source": [
    "Let's try our function out."
   ]
  },
  {
   "cell_type": "code",
   "execution_count": 7,
   "metadata": {
    "collapsed": false
   },
   "outputs": [
    {
     "data": {
      "text/plain": [
       "'ACGT'"
      ]
     },
     "execution_count": 7,
     "metadata": {},
     "output_type": "execute_result"
    }
   ],
   "source": [
    "longest_common_substring('ACGTGGAAAGCCA', 'GTACACACGTTTTGAGAGACAC')"
   ]
  },
  {
   "cell_type": "markdown",
   "metadata": {},
   "source": [
    "<br />"
   ]
  },
  {
   "cell_type": "markdown",
   "metadata": {},
   "source": [
    "## Problem 1.4: RNA secondary structure validator\n",
    "\n",
    "In this problem, we will write a function that takes an RNA sequence and an RNA secondary structure and decides if the secondary structure is possible given the sequence.  Remember, single stranded RNA can fold back on itself and for base pairs.  An RNA secondary structure is simply the list of base pairs that are present.  We will represent the base pairs in dot-parentheses notation.  For example, a sequence/secondary structure pair would be\n",
    "\n",
    "    0123456789\n",
    "    GCATCTATGC\n",
    "    (((....)))\n",
    "\n",
    "For convenience of discussion, I have labeled the indices of the bases on the top row.  In this case, base `0`, a `G`, pairs with base `9`, a `C`.  Base `1` pairs with base `8`, and base `2` pairs with base `7`.  Bases `3`, `4`, `5`, and `6` are unpaired.  (This structure is aptly called a \"hairpin.\")\n",
    "\n",
    "So, I hope the dot-parentheses notation is clear.  An open parenthesis is paired with the parenthesis that closes it.  Dots are unpaired.\n",
    "\n",
    "So, the goal of our function is to check all base pairs present in a secondary structure and see if they are with `G-C`, `A-U`, or (optionally) `G-U`."
   ]
  },
  {
   "cell_type": "markdown",
   "metadata": {},
   "source": [
    "**a)** Write a function to make sure that the number of closed parentheses is equal to the number of open parentheses, a requirement for a valid secondary structure.  It should return `True` if the parentheses are valid and `False` otherwise."
   ]
  },
  {
   "cell_type": "markdown",
   "metadata": {},
   "source": [
    "**b)** Write a function that converts the dot-parens notation to a tuple of 2-tuples representing the base pairs.  We'll call this function `dotparen_to_bp()`.  An example input/output of this function would be:\n",
    "\n",
    "    dotparen_to_bp('(((...)))')\n",
    "    \n",
    "    ((0, 9), (1, 8), (2, 7))\n",
    "    \n",
    "*Hint*: You might find the `pop()` method of lists useful."
   ]
  },
  {
   "cell_type": "markdown",
   "metadata": {},
   "source": [
    "**c)** Because of sterics, the minimal length of a hairpin loop is three bases.  A hairpin loop is a series of unpaired bases that are closed by a base pair.  For example, the secondary structure `(.(....).)` has a single hairpin loop of length 4.  So, the structure `((((..))))` is not valid because it has a hairpin loop of only two bases.\n",
    "\n",
    "Write a function that verifies that a list of base pairs (as outputted by `dotparen_to_bp()`) satisfies the hairpin requirement."
   ]
  },
  {
   "cell_type": "markdown",
   "metadata": {},
   "source": [
    "**d)** Now write your validator function.  The function definition should look like this:\n",
    "\n",
    "    def rna_ss_validator(seq, sec_struc, wobble=True):\n",
    "    \n",
    "It should return `True` if the sequence is commensurate with a valid secondary structure and `False` otherwise.  The `wobble` keyword argument is `True` if we allow wobble pairs (`G` paired with `U`).  Here are some expected results:\n",
    "\n",
    "Returns `True`:\n",
    "\n",
    "    rna_ss_validator('GCAUCUAUGC', '(((....)))')\n",
    "    rna_ss_validator('GCAUCUAUGU', '(((....)))') \n",
    "    rna_ss_validator('GCAUCUAUGU', '(.(....).)') \n",
    "\n",
    "Returns `False`:\n",
    "\n",
    "    rna_ss_validator('GCAUCUACGC', '(((....)))')\n",
    "    rna_ss_validator('GCAUCUAUGU', '(((....)))', wobble=False) \n",
    "    rna_ss_validator('GCAUCUAUGU', '(.(....)).') \n",
    "    rna_ss_validator('GCCCUUGGCA', '(.((..))).')"
   ]
  },
  {
   "cell_type": "markdown",
   "metadata": {},
   "source": [
    "### Problem 1.4: solution\n",
    "**a)** The validation is simple.  We just need to make sure the number of open and closed parentheses are equal."
   ]
  },
  {
   "cell_type": "code",
   "execution_count": 8,
   "metadata": {
    "collapsed": true
   },
   "outputs": [],
   "source": [
    "def parens_count(struc):\n",
    "    \"\"\"\n",
    "    Ensures there are equal number of open and closed parentheses\n",
    "    in structure.\n",
    "    \"\"\"\n",
    "    return struc.count('(') == struc.count(')')"
   ]
  },
  {
   "cell_type": "markdown",
   "metadata": {},
   "source": [
    "Let's give it a try."
   ]
  },
  {
   "cell_type": "code",
   "execution_count": 9,
   "metadata": {
    "collapsed": false
   },
   "outputs": [
    {
     "name": "stdout",
     "output_type": "stream",
     "text": [
      "True\n",
      "False\n"
     ]
    }
   ],
   "source": [
    "print(parens_count('(((..(((...)).))))'))\n",
    "print(parens_count('(((..(((...)).)))'))"
   ]
  },
  {
   "cell_type": "markdown",
   "metadata": {},
   "source": [
    "**b)** As we scan a dot-parens structure from left to right, we can keep a list of the positions of an open parenthesis.  Whenever we encounter a closed one, we have closed the last open one we added.  So, we can just scan through the dot-parens string and pop out base pairs.  If this procedure fails, we know that there was an error in the input structure (i.e., a closed parenthesis appeared without a corresponding open one before it)."
   ]
  },
  {
   "cell_type": "code",
   "execution_count": 10,
   "metadata": {
    "collapsed": true
   },
   "outputs": [],
   "source": [
    "def dot_parens_to_bp(struc):\n",
    "    \"\"\"\n",
    "    Convert a dot-parens structure to a list of base pairs.\n",
    "    Return False if the structure is invalid.\n",
    "    \"\"\"\n",
    "    \n",
    "    if not parens_count(struc):\n",
    "        print('Error in input structure.')\n",
    "        return False\n",
    "    \n",
    "    # Initialize list of open parens and list of base pairs\n",
    "    open_parens = []\n",
    "    bps = []\n",
    "    \n",
    "    # Scan through string\n",
    "    for i, x in enumerate(struc):\n",
    "        if x == '(':\n",
    "            open_parens.append(i)\n",
    "        elif x == ')':\n",
    "            if len(open_parens) > 0:\n",
    "                bps.append((open_parens.pop(), i))\n",
    "            else:\n",
    "                print('Error in input structure.')\n",
    "                return False\n",
    "    \n",
    "    # Return the result as a tuple\n",
    "    return tuple(sorted(bps))"
   ]
  },
  {
   "cell_type": "markdown",
   "metadata": {},
   "source": [
    "Let's try it on some legitimate sequences and on some bad ones."
   ]
  },
  {
   "cell_type": "code",
   "execution_count": 11,
   "metadata": {
    "collapsed": false
   },
   "outputs": [
    {
     "data": {
      "text/plain": [
       "((2, 10), (3, 9), (4, 8), (11, 25), (12, 23), (13, 22), (14, 21), (15, 20))"
      ]
     },
     "execution_count": 11,
     "metadata": {},
     "output_type": "execute_result"
    }
   ],
   "source": [
    "# Good structure\n",
    "dot_parens_to_bp('..(((...)))(((((....)))).)..')"
   ]
  },
  {
   "cell_type": "code",
   "execution_count": 12,
   "metadata": {
    "collapsed": false
   },
   "outputs": [
    {
     "data": {
      "text/plain": [
       "((0, 17), (1, 16), (2, 15), (5, 14), (6, 12), (7, 11))"
      ]
     },
     "execution_count": 12,
     "metadata": {},
     "output_type": "execute_result"
    }
   ],
   "source": [
    "# Good structure\n",
    "dot_parens_to_bp('(((..(((...)).))))')"
   ]
  },
  {
   "cell_type": "code",
   "execution_count": 13,
   "metadata": {
    "collapsed": false
   },
   "outputs": [
    {
     "name": "stdout",
     "output_type": "stream",
     "text": [
      "Error in input structure.\n"
     ]
    },
    {
     "data": {
      "text/plain": [
       "False"
      ]
     },
     "execution_count": 13,
     "metadata": {},
     "output_type": "execute_result"
    }
   ],
   "source": [
    "# Bad structure\n",
    "dot_parens_to_bp('((....)))(')"
   ]
  },
  {
   "cell_type": "code",
   "execution_count": 14,
   "metadata": {
    "collapsed": false
   },
   "outputs": [
    {
     "name": "stdout",
     "output_type": "stream",
     "text": [
      "Error in input structure.\n"
     ]
    },
    {
     "data": {
      "text/plain": [
       "False"
      ]
     },
     "execution_count": 14,
     "metadata": {},
     "output_type": "execute_result"
    }
   ],
   "source": [
    "dot_parens_to_bp('())....))))')"
   ]
  },
  {
   "cell_type": "markdown",
   "metadata": {},
   "source": [
    "**c)** It is quite easy to detect short hairpins once we have a list of base pairs.  We just need to make sure the difference in index of any pair of paired bases is not less than three."
   ]
  },
  {
   "cell_type": "code",
   "execution_count": null,
   "metadata": {
    "collapsed": true
   },
   "outputs": [],
   "source": [
    "def hairpin_check(bps):\n",
    "    \"\"\"Check to make sure no hairpins are too short.\"\"\"\n",
    "    for bp in bps:\n",
    "        if bp[1] - bp[0] < 4:\n",
    "            print('A hairpin is too short.')\n",
    "            return False\n",
    "        \n",
    "    # Everything checks out\n",
    "    return True"
   ]
  },
  {
   "cell_type": "markdown",
   "metadata": {},
   "source": [
    "**d)** Most everything is in place.  We just need to check the sequence."
   ]
  },
  {
   "cell_type": "code",
   "execution_count": 15,
   "metadata": {
    "collapsed": true
   },
   "outputs": [],
   "source": [
    "def rna_ss_validator(seq, sec_struc, wobble=True):\n",
    "    \"\"\"Validate and RNA structure\"\"\"\n",
    "\n",
    "    # Convert structure to base pairs\n",
    "    bps = dot_parens_to_bp(sec_struc)\n",
    "    \n",
    "    # If this failed, the structure was invalid\n",
    "    if not bps:\n",
    "        return False\n",
    "    \n",
    "    # Do the hairpin check\n",
    "    if not hairpin_check(bps):\n",
    "        return False\n",
    "    \n",
    "    # Possible base pairs\n",
    "    if wobble:\n",
    "        ok_bps = ('gc', 'cg', 'au', 'ua', 'gu', 'ug')\n",
    "    else:\n",
    "        ok_bps = ('gc', 'cg', 'au', 'ua')\n",
    "\n",
    "    # Check complementarity\n",
    "    for bp in bps:\n",
    "        bp_str = (seq[bp[0]] + seq[bp[1]]).lower()\n",
    "        if bp_str not in ok_bps:\n",
    "            print('Invalid base pair.')\n",
    "            return False\n",
    "        \n",
    "    # Everything passed\n",
    "    return True"
   ]
  },
  {
   "cell_type": "markdown",
   "metadata": {},
   "source": [
    "Let's test it on the test cases from the problem statement."
   ]
  },
  {
   "cell_type": "code",
   "execution_count": 16,
   "metadata": {
    "collapsed": false
   },
   "outputs": [
    {
     "name": "stdout",
     "output_type": "stream",
     "text": [
      "Should be True:\n"
     ]
    },
    {
     "ename": "NameError",
     "evalue": "name 'hairpin_check' is not defined",
     "output_type": "error",
     "traceback": [
      "\u001b[0;31m---------------------------------------------------------------------------\u001b[0m",
      "\u001b[0;31mNameError\u001b[0m                                 Traceback (most recent call last)",
      "\u001b[0;32m<ipython-input-16-f536db99969a>\u001b[0m in \u001b[0;36m<module>\u001b[0;34m()\u001b[0m\n\u001b[1;32m      1\u001b[0m \u001b[0mprint\u001b[0m\u001b[0;34m(\u001b[0m\u001b[0;34m'Should be True:'\u001b[0m\u001b[0;34m)\u001b[0m\u001b[0;34m\u001b[0m\u001b[0m\n\u001b[0;32m----> 2\u001b[0;31m \u001b[0mprint\u001b[0m\u001b[0;34m(\u001b[0m\u001b[0mrna_ss_validator\u001b[0m\u001b[0;34m(\u001b[0m\u001b[0;34m'GCAUCUAUGC'\u001b[0m\u001b[0;34m,\u001b[0m \u001b[0;34m'(((....)))'\u001b[0m\u001b[0;34m)\u001b[0m\u001b[0;34m)\u001b[0m\u001b[0;34m\u001b[0m\u001b[0m\n\u001b[0m\u001b[1;32m      3\u001b[0m \u001b[0mprint\u001b[0m\u001b[0;34m(\u001b[0m\u001b[0mrna_ss_validator\u001b[0m\u001b[0;34m(\u001b[0m\u001b[0;34m'GCAUCUAUGU'\u001b[0m\u001b[0;34m,\u001b[0m \u001b[0;34m'(((....)))'\u001b[0m\u001b[0;34m)\u001b[0m\u001b[0;34m)\u001b[0m\u001b[0;34m\u001b[0m\u001b[0m\n\u001b[1;32m      4\u001b[0m \u001b[0mprint\u001b[0m\u001b[0;34m(\u001b[0m\u001b[0mrna_ss_validator\u001b[0m\u001b[0;34m(\u001b[0m\u001b[0;34m'GCAUCUAUGU'\u001b[0m\u001b[0;34m,\u001b[0m \u001b[0;34m'(.(....).)'\u001b[0m\u001b[0;34m)\u001b[0m\u001b[0;34m)\u001b[0m\u001b[0;34m\u001b[0m\u001b[0m\n\u001b[1;32m      5\u001b[0m \u001b[0;34m\u001b[0m\u001b[0m\n",
      "\u001b[0;32m<ipython-input-15-4834593da406>\u001b[0m in \u001b[0;36mrna_ss_validator\u001b[0;34m(seq, sec_struc, wobble)\u001b[0m\n\u001b[1;32m     10\u001b[0m \u001b[0;34m\u001b[0m\u001b[0m\n\u001b[1;32m     11\u001b[0m     \u001b[0;31m# Do the hairpin check\u001b[0m\u001b[0;34m\u001b[0m\u001b[0;34m\u001b[0m\u001b[0m\n\u001b[0;32m---> 12\u001b[0;31m     \u001b[0;32mif\u001b[0m \u001b[0;32mnot\u001b[0m \u001b[0mhairpin_check\u001b[0m\u001b[0;34m(\u001b[0m\u001b[0mbps\u001b[0m\u001b[0;34m)\u001b[0m\u001b[0;34m:\u001b[0m\u001b[0;34m\u001b[0m\u001b[0m\n\u001b[0m\u001b[1;32m     13\u001b[0m         \u001b[0;32mreturn\u001b[0m \u001b[0;32mFalse\u001b[0m\u001b[0;34m\u001b[0m\u001b[0m\n\u001b[1;32m     14\u001b[0m \u001b[0;34m\u001b[0m\u001b[0m\n",
      "\u001b[0;31mNameError\u001b[0m: name 'hairpin_check' is not defined"
     ]
    }
   ],
   "source": [
    "print('Should be True:')\n",
    "print(rna_ss_validator('GCAUCUAUGC', '(((....)))'))\n",
    "print(rna_ss_validator('GCAUCUAUGU', '(((....)))'))\n",
    "print(rna_ss_validator('GCAUCUAUGU', '(.(....).)'))\n",
    "\n",
    "print('\\nShould be False:')\n",
    "print(rna_ss_validator('GCAUCUACGC', '(((....)))'), '\\n')\n",
    "print(rna_ss_validator('GCAUCUAUGU', '(((....)))', wobble=False), '\\n')\n",
    "print(rna_ss_validator('GCAUCUAUGU', '(.(....)).'), '\\n')\n",
    "print(rna_ss_validator('GCCCUUGGCA', '(.((..))).'),'\\n')"
   ]
  },
  {
   "cell_type": "markdown",
   "metadata": {},
   "source": [
    "Looks good!"
   ]
  }
 ],
 "metadata": {
  "kernelspec": {
   "display_name": "Python 3",
   "language": "python",
   "name": "python3"
  },
  "language_info": {
   "codemirror_mode": {
    "name": "ipython",
    "version": 3
   },
   "file_extension": ".py",
   "mimetype": "text/x-python",
   "name": "python",
   "nbconvert_exporter": "python",
   "pygments_lexer": "ipython3",
   "version": "3.4.3"
  }
 },
 "nbformat": 4,
 "nbformat_minor": 0
}
