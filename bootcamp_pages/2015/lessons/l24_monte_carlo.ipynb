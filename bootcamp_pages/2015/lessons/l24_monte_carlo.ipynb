{
 "cells": [
  {
   "cell_type": "markdown",
   "metadata": {},
   "source": [
    "# Lesson 24: Monte Carlo simulation"
   ]
  },
  {
   "cell_type": "markdown",
   "metadata": {},
   "source": [
    "*This tutorial was generated from a Jupyter notebook.  You can download the notebook [here](l24_monte_carlo.ipynb).*"
   ]
  },
  {
   "cell_type": "code",
   "execution_count": 2,
   "metadata": {
    "collapsed": true
   },
   "outputs": [],
   "source": [
    "# Our workhorse\n",
    "import numpy as np\n",
    "\n",
    "# Do it with compilation\n",
    "import numba\n",
    "\n",
    "# This is how we import the module of Matplotlib we'll be using\n",
    "import matplotlib.pyplot as plt\n",
    "\n",
    "# Seaborn makes plots pretty!\n",
    "import seaborn as sns\n",
    "\n",
    "# Magic function to make matplotlib inline; other style specs must come AFTER\n",
    "%matplotlib inline\n",
    "\n",
    "# Set JB's favorite Seaborn settings\n",
    "rc={'lines.linewidth': 2, 'axes.labelsize': 18, 'axes.titlesize': 18, \n",
    "    'axes.facecolor': 'DFDFE5'}\n",
    "sns.set_context('notebook', rc=rc)"
   ]
  },
  {
   "cell_type": "markdown",
   "metadata": {},
   "source": [
    "In this lesson, we will put random number generation to use and do a **Monte Carlo simulation**.  The term Monte Carlo simulation is a broad term describing techniques in which a large number of random numbers are generated to (approximately) calculate properties of probability distributions.  In many cases the analytical form of these distributions is not known, so Monte Carlo methods are a great way to learn about then."
   ]
  },
  {
   "cell_type": "markdown",
   "metadata": {},
   "source": [
    "## Example Monte Carlo simulation: 1D random walk\n",
    "Transcription, the process by which DNA is transcribed into RNA, is key process in the central dogma of molecular biology.  RNA polymerase (RNAP) is at the heart of this process.  This amazing machine glides along the DNA template, unzipping it internally, incorporating ribonucleotides at the front, and spitting RNA out the back.  Sometimes, though, the polymerase pauses and then backtracks, pushing the RNA transcipt back out the front, as shown in the figure below, taken from Depken, et al., *Biophys. J.*, **96**, 2189-2193, 2009.\n",
    "\n",
    "![Schematic of a pausing RNAP from Depken, et al., *Biophys. J.*, **96**, 2189-2193, 2009](rnap_pause.png)\n",
    "\n",
    "To escape these backtracks, a cleavage enzyme called TFIIS will cleave the bit on RNA hanging out of the front, and the RNAP can then go about its merry way.\n",
    "\n",
    "Researchers have long debated how these backtracks are governed.  Single molecule experiments can provide some much needed insight.  The groups of Carlos Bustamante, Steve Block, and Stephan Grill, among others, have investigated the dynamics of RNAP in the absense of TFIIS.  They can measure many individual backtracks and get statistics about how long the backtracks last.\n",
    "\n",
    "One hypothesis is that the backtracks simply consist of diffusive-like motion along the DNA stand.  That is to say, the polymerase can move forward or backward along the strand with equal probability once it is paused.  This is a one-dimensional **random walk**.  So, if we want to test this hypothesis, we would want to know what times we should expect for the time spent in the backtrack so that we could compare to experiment.\n",
    "\n",
    "So, we seek the probability distribution of backtrack times, $P(t_{bt})$, where $t_{bt}$ is the time spent in the backtrack.  We could solve this analytically, which requires some sophisticated mathematics.  But, because we know how to draw random numbers, we can just compute this distribution directly using Monte Carlo simulation!"
   ]
  },
  {
   "cell_type": "markdown",
   "metadata": {},
   "source": [
    "### How to compute the random walk\n",
    "To compute a 1D random walk, we just need to compute a series of left and right steps.  This is just like flipping a coin over and over again.  So, if we want to compute an unbound 1D random walk, we just flip a coin over and over again and see where we end up."
   ]
  },
  {
   "cell_type": "code",
   "execution_count": 3,
   "metadata": {
    "collapsed": true
   },
   "outputs": [],
   "source": [
    "def random_walk_1d(n_steps):\n",
    "    \"\"\"\n",
    "    Take a random walk of n_steps and return excursion from the origin.\n",
    "    \"\"\"\n",
    "    \n",
    "    # Generate an array of our steps (+1 for right, -1 for left)\n",
    "    steps = 2 * np.random.randint(0, 2, n_steps) - 1\n",
    "    \n",
    "    # Where we end up is the sum of these steps\n",
    "    return steps.sum()"
   ]
  },
  {
   "cell_type": "markdown",
   "metadata": {},
   "source": [
    "If we want the probability distribution of where we end up after $n_\\mathrm{steps}$, we just do this over and over again.  We are then *sampling* out of the probability distribution, $P(x, n_\\mathrm{steps})$, that describes displacement of the random walker as a function of the number of steps.  We'll generate 10,000 random walks, each of 10,000 steps, and compute the displacements for them.  We'll then plot a histogram to see how far the walkers tended to go."
   ]
  },
  {
   "cell_type": "code",
   "execution_count": 4,
   "metadata": {
    "collapsed": true
   },
   "outputs": [],
   "source": [
    "# Number of steps to take for computing distribution\n",
    "n_steps = 10000\n",
    "\n",
    "# Number of random walks to take\n",
    "n_samples = 10000\n",
    "\n",
    "# Initial samples of displacements\n",
    "x = np.empty(n_samples)\n",
    "\n",
    "# Take all of the random walks\n",
    "for i in range(n_samples):\n",
    "    x[i] = random_walk_1d(n_steps)"
   ]
  },
  {
   "cell_type": "markdown",
   "metadata": {},
   "source": [
    "We just generated 100 million random numbers to do that calculation!  Now, let's see what the distribution looks like."
   ]
  },
  {
   "cell_type": "code",
   "execution_count": 5,
   "metadata": {
    "collapsed": false
   },
   "outputs": [
    {
     "data": {
      "text/plain": [
       "<matplotlib.text.Text at 0x119712ac8>"
      ]
     },
     "execution_count": 5,
     "metadata": {},
     "output_type": "execute_result"
    },
    {
     "data": {
      "image/png": "[encoded data removed]",
      "text/plain": [
       "<matplotlib.figure.Figure at 0x117ab46d8>"
      ]
     },
     "metadata": {},
     "output_type": "display_data"
    }
   ],
   "source": [
    "# Make histogram\n",
    "_ = plt.hist(x, bins=50, normed=True)\n",
    "\n",
    "# Label axes\n",
    "plt.xlabel('$x$ (a.u.)')\n",
    "plt.ylabel('$P(x, n_\\mathrm{steps})$')"
   ]
  },
  {
   "cell_type": "markdown",
   "metadata": {},
   "source": [
    "It looks approximately Gaussian.  We know theoretically that it is Gaussian with a mean of zero and standard deviation of $\\sqrt{n_\\mathrm{steps}}$.  Let's check."
   ]
  },
  {
   "cell_type": "code",
   "execution_count": 6,
   "metadata": {
    "collapsed": false
   },
   "outputs": [
    {
     "name": "stdout",
     "output_type": "stream",
     "text": [
      " Mean displacement: -0.4628\n",
      "Standard deviation: 100.244745579\n"
     ]
    }
   ],
   "source": [
    "print(' Mean displacement:', x.mean())\n",
    "print('Standard deviation:', x.std())"
   ]
  },
  {
   "cell_type": "markdown",
   "metadata": {},
   "source": [
    "Yup!  We're really close."
   ]
  },
  {
   "cell_type": "markdown",
   "metadata": {},
   "source": [
    "### First passage times\n",
    "This is all fine and good, but we want to compute the probability distribution of how long it takes to get out of a backtrack!  So, we need to simulate a random walk during a backtrack.  So, we start at $x = 0$ at time $t = 0$.  We start taking steps, and as soon as $x$ becomes positive, we have existed the backtrack.  The total time for a backtrack is then $\\tau n_\\mathrm{steps}$, where $\\tau$ is the time it takes to make a step.  Depken, et al., report that this is approximately a half second.\n",
    "\n",
    "We first write a function to take a step.  At the top of the function is a **decorator**.  We will not cover decorators here, but this particular decorator is using the `numba` package to actually *compile* the following Python code.  Remember, compiled code is *much* faster than interpreted code, and the speed boost is needed in this case."
   ]
  },
  {
   "cell_type": "code",
   "execution_count": 7,
   "metadata": {
    "collapsed": true
   },
   "outputs": [],
   "source": [
    "@numba.jit(nopython=True)\n",
    "def backtrack_time():\n",
    "    \"\"\"\n",
    "    Compute the number of steps it takes a 1d random walker starting\n",
    "    at zero to get to +1.\n",
    "    \"\"\"\n",
    "\n",
    "    # Initialize position and number of steps\n",
    "    x = 0\n",
    "    n_steps = 0\n",
    "    \n",
    "    # Walk until we get to positive 1\n",
    "    while x < 1:\n",
    "        x += 2 * np.random.randint(0, 2) - 1\n",
    "        n_steps += 1\n",
    "    \n",
    "    return n_steps"
   ]
  },
  {
   "cell_type": "markdown",
   "metadata": {},
   "source": [
    "Now that we have our function in place, we can perform our walks.  We will do 10,000 samples to compute the backtrack time.  Note that without using `numba`, this calculation would take several minutes."
   ]
  },
  {
   "cell_type": "code",
   "execution_count": 14,
   "metadata": {
    "collapsed": true
   },
   "outputs": [],
   "source": [
    "# Stepping time\n",
    "tau = 0.5 # seconds\n",
    "\n",
    "# Specify number of samples\n",
    "n_samples = 10000\n",
    "\n",
    "# Array of backtrack times\n",
    "t_bt = np.empty(n_samples)\n",
    "\n",
    "# Generate the samples\n",
    "for i in range(n_samples):\n",
    "    t_bt[i] = backtrack_time()\n",
    "    \n",
    "# Convert to seconds\n",
    "t_bt *= tau"
   ]
  },
  {
   "cell_type": "markdown",
   "metadata": {},
   "source": [
    "Yay, `numba`!  That only took a few seconds.  Now, let's plot the histogram."
   ]
  },
  {
   "cell_type": "code",
   "execution_count": 15,
   "metadata": {
    "collapsed": false
   },
   "outputs": [
    {
     "data": {
      "text/plain": [
       "<matplotlib.text.Text at 0x119ce6860>"
      ]
     },
     "execution_count": 15,
     "metadata": {},
     "output_type": "execute_result"
    },
    {
     "data": {
      "image/png": "[encoded data removed]",
      "text/plain": [
       "<matplotlib.figure.Figure at 0x11c91feb8>"
      ]
     },
     "metadata": {},
     "output_type": "display_data"
    }
   ],
   "source": [
    "# Make histogram\n",
    "_ = plt.hist(t_bt * tau, bins=50, normed = True)\n",
    "\n",
    "# Label axes\n",
    "plt.xlabel(r'$t_{bt} (s)$')\n",
    "plt.ylabel('$P(t_{bt})$')"
   ]
  },
  {
   "cell_type": "markdown",
   "metadata": {
    "collapsed": true
   },
   "source": [
    "Yowza!  What is going on here?  We have some extremely long backtracks.  $10^7$ seconds is 115 days!  Obviously, a polymerase in such a backtrack would never escape.  The histogram is not the clear, so lets look at the cumulative histrogram."
   ]
  },
  {
   "cell_type": "code",
   "execution_count": 16,
   "metadata": {
    "collapsed": false
   },
   "outputs": [
    {
     "data": {
      "text/plain": [
       "<matplotlib.text.Text at 0x11b1c4208>"
      ]
     },
     "execution_count": 16,
     "metadata": {},
     "output_type": "execute_result"
    },
    {
     "data": {
      "image/png": "[encoded data removed]",
      "text/plain": [
       "<matplotlib.figure.Figure at 0x11b15b898>"
      ]
     },
     "metadata": {},
     "output_type": "display_data"
    }
   ],
   "source": [
    "# Sort the samples\n",
    "t_bt = np.sort(t_bt)\n",
    "\n",
    "# Generate y-axis for CDF\n",
    "y = np.arange(len(t_bt)) / len(t_bt)\n",
    "\n",
    "# Plot CDF from random numbers\n",
    "plt.semilogx(t_bt, y, '.', markersize=10)\n",
    "\n",
    "# Clean up plot\n",
    "plt.margins(y=0.02)\n",
    "plt.xlabel(r'$t_{bt} (s)$')\n",
    "plt.ylabel('cum. hist.')"
   ]
  },
  {
   "cell_type": "markdown",
   "metadata": {},
   "source": [
    "This makes more sense.  We see that half of all backtracks end immediately, with the first step being rightward.  It is impossible to leave a backtrack in an even number of steps, so there are no two-step escapes.  Then, we get a lot of 3-step escapes, and so on.  But this goes more and more slowly.  Yes, 80% of backtracks only last 10 seconds, but there are still many extraordinarily long backtracks.  These are the fundamental predictions of our hypothesis."
   ]
  },
  {
   "cell_type": "markdown",
   "metadata": {},
   "source": [
    "### A power law?\n",
    "A probability distribution that obeys a power law has the property\n",
    "\n",
    "\\begin{align}\n",
    "P(x) \\propto x^{-a}\n",
    "\\end{align}\n",
    "\n",
    "in some part of the distribution, usually for large $x$.\n",
    "\n",
    "The cumulative distribution is then\n",
    "\n",
    "\\begin{align}\n",
    "\\mathrm{cdf}(x) = \\int_{-\\infty}^x \\mathrm{d}x'\\,P(x') = 1 - \\frac{c}{x^{a-1}},\n",
    "\\end{align}\n",
    "\n",
    "where $c$ is some constant defined by the functional form of $P(x)$ for small $x$ and the normalization condition.  If $F$ is our cumulative histogram, we can check for power law behavior by plotting the complementarly cumulative probability distribution (CCDF), $1 - F$, versus $x$.  If a power law is in play, the plot will be linear on a log-log scale with a slope of $-a-1$.\n",
    "\n",
    "By doing some mathematical heavy lifting, we know that, in the limit of large $t_{bt}$,\n",
    "\n",
    "\\begin{align}\n",
    "P(t_{bt}) \\propto t^{-3/2}.\n",
    "\\end{align}\n",
    "\n",
    "We don't need to know that to see the linear trend on the log-log plot, but it is useful to plot along side it."
   ]
  },
  {
   "cell_type": "code",
   "execution_count": 17,
   "metadata": {
    "collapsed": false
   },
   "outputs": [
    {
     "data": {
      "text/plain": [
       "<matplotlib.text.Text at 0x11ceda1d0>"
      ]
     },
     "execution_count": 17,
     "metadata": {},
     "output_type": "execute_result"
    },
    {
     "data": {
      "image/png": "[encoded data removed]",
      "text/plain": [
       "<matplotlib.figure.Figure at 0x11d37de10>"
      ]
     },
     "metadata": {},
     "output_type": "display_data"
    }
   ],
   "source": [
    "# Plot the CCDF\n",
    "plt.loglog(t_bt, 1 - y, '.')\n",
    "\n",
    "# Plot the asymptotic power law\n",
    "t_smooth = np.logspace(0.5, 8, 100)\n",
    "plt.loglog(t_smooth, 1 / np.sqrt(t_smooth))\n",
    "\n",
    "# Label axes\n",
    "plt.xlabel('$t_{bt}$ (s)')\n",
    "plt.ylabel('CCDF')"
   ]
  },
  {
   "cell_type": "markdown",
   "metadata": {},
   "source": [
    "Indeed, we see that the slope we got from Monte Carlo simulation matches what the theory predicts.  The theory to derive the probability distribution is involved.  See, e.g., [this](https://en.wikipedia.org/wiki/First-hitting-time_model).  However, we were able to predict that we would see a great many short backtracks, and then see some very very long backtracks because of the power law distribution of backtrack times.  We were able to do that just by doing a simple Monte Carlo simulation.  There are many problem where the theory is *really* hard, and deriving the distribution is currently impossible, or the probability distribution has such an ugly expression that we can't really work with it.  So, Monte Carlo methods are a powerful tool for generating predictions from simply-stated, but mathematically challenging, hypotheses.\n",
    "\n",
    "Interestingly, many researchers thought (and maybe still do) there were two classes of backtracks: long and short.  There may be, but the hypothesis that the backtrack is a random walk process is commensurate with seeing both very long and very short backtracks."
   ]
  }
 ],
 "metadata": {
  "kernelspec": {
   "display_name": "Python 3",
   "language": "python",
   "name": "python3"
  },
  "language_info": {
   "codemirror_mode": {
    "name": "ipython",
    "version": 3
   },
   "file_extension": ".py",
   "mimetype": "text/x-python",
   "name": "python",
   "nbconvert_exporter": "python",
   "pygments_lexer": "ipython3",
   "version": "3.4.3"
  }
 },
 "nbformat": 4,
 "nbformat_minor": 0
}
