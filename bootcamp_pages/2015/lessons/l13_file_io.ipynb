{
 "cells": [
  {
   "cell_type": "markdown",
   "metadata": {},
   "source": [
    "# Lesson 13: File I/O"
   ]
  },
  {
   "cell_type": "markdown",
   "metadata": {},
   "source": [
    "*This tutorial was generated from a Jupyter notebook.  You can download the notebook [here](l13_file_io.ipynb).*"
   ]
  },
  {
   "cell_type": "code",
   "execution_count": 37,
   "metadata": {
    "collapsed": true
   },
   "outputs": [],
   "source": [
    "# We just need the os module\n",
    "import os"
   ]
  },
  {
   "cell_type": "markdown",
   "metadata": {},
   "source": [
    "Reading data in from files and then writing your results out again is one of the most common practices in scientific computing.  In this tutorial, we will learn about some of Python's File I/O capabilities.  We will use a PDB file as an example.  The PDB file contains the crystal structure for the tetramerization domain of [p53](https://en.wikipedia.org/wiki/P53).  On my machine, it is stored in `../data/1OLG.pdb`.  Note that `1OLG` is its unique [Protein Databank](http://www.rcsb.org/pdb/explore/explore.do?structureId=1olg) identifier."
   ]
  },
  {
   "cell_type": "markdown",
   "metadata": {},
   "source": [
    "## File objects\n",
    "To open a file, we use the built-in `open()` function.  We'll invoke this function by example and look at its output."
   ]
  },
  {
   "cell_type": "code",
   "execution_count": 17,
   "metadata": {
    "collapsed": false
   },
   "outputs": [
    {
     "data": {
      "text/plain": [
       "<_io.TextIOWrapper name='../data/1OLG.pdb' mode='r' encoding='UTF-8'>"
      ]
     },
     "execution_count": 17,
     "metadata": {},
     "output_type": "execute_result"
    }
   ],
   "source": [
    "# Open file\n",
    "f = open('../data/1OLG.pdb', 'r')\n",
    "\n",
    "# What is f?\n",
    "f"
   ]
  },
  {
   "cell_type": "markdown",
   "metadata": {},
   "source": [
    "So, `f` is some weird looking type.  It is a Python `file` object, which has methods and attributes, just like any other object.  We'll explore those in a moment, but first, let's look at how we opened the file.  The first argument to `open()` is a string that has the name of the file, with the full path if necessary.  The second argument is a string that says what we will be doing with the file.  I.e., are we reading or writing to the file?  The possible strings for this second argument are\n",
    "\n",
    "|string | meaning|\n",
    "|:------|:-------|\n",
    "|`'r'` | open a text file for reading|\n",
    "|`'w'` | create and open a text file for writing|\n",
    "|`'a'` | append an existing text file|\n",
    "|`'r+'`| open a text file for reading and writing|\n",
    "|append `'b'` to any of the above | same as above, except for binary files|\n",
    "\n",
    "We will mostly be working with text files in the bootcamp, so the first three are the most useful.  A big warning, though...."
   ]
  },
  {
   "cell_type": "markdown",
   "metadata": {},
   "source": [
    "<div class=\"alert alert-danger\">\n",
    "<center>Tying to open an existing file with `'w'` will wipe it out and create a new file.</center>\n",
    "</div>"
   ]
  },
  {
   "cell_type": "markdown",
   "metadata": {},
   "source": [
    "### Reading data out of the file with file object methods\n",
    "Now, let's look at the file object.  You can type `f.` followed by tab to see its attributes and methods.  We will focus on the methods `f.read()` and `f.readlines()`.  What do they do?\n",
    "\n",
    "|method | task|\n",
    "|:------|:-------|\n",
    "|`f.read()` | Read the entire contents of the file into a string|\n",
    "|`f.readlines()` | Read the entire file into a list with each item being a string representing a line|\n",
    "\n",
    "Try using the first method to get a single string with the entire contents of the file."
   ]
  },
  {
   "cell_type": "code",
   "execution_count": 18,
   "metadata": {
    "collapsed": false
   },
   "outputs": [
    {
     "data": {
      "text/plain": [
       "'HEADER    ANTI-ONCOGENE                           13-JUN-94   1OLG              \\nTITLE     HIGH-RESOLUTION SOLUTION STRUCTURE OF THE OLIGOMERIZATION             \\nTITLE    2 DOMAIN OF P53 BY MULTI-DIMENSIONAL NMR                               \\nCOMPND    MOL_ID: 1;                                                            \\nCOMPND   2 MOLECULE: TUMOR SUPPRESSOR P53 (OLIGOMERIZATION DOMAIN);             \\nCOMPND   3 CHAIN: A, B, C, D;                                                   \\nCOMPND   4 ENGINEERED: YES                                                      \\nSOURCE    MOL_ID: 1;                                                            \\nSOURCE   2 ORGANISM_SCIENTIFIC: HOMO SAPIENS;                                   \\nSOURCE   3 ORGANISM_COMMON: HUMAN;                                              \\nSOURCE   4 ORGANISM_TAXID: 9606                                                 \\nKEYWDS    ANTI-ONCOGENE                                                         \\nEXPDTA    SOLUTION NMR      '"
      ]
     },
     "execution_count": 18,
     "metadata": {},
     "output_type": "execute_result"
    }
   ],
   "source": [
    "# Read file into string\n",
    "f_str = f.read()\n",
    "\n",
    "# Let's look at the first 100 characters\n",
    "f_str[:1000]"
   ]
  },
  {
   "cell_type": "markdown",
   "metadata": {},
   "source": [
    "We see lots of `\\n`, which signifies a new line.  The backslash is known as an **escape character**, meaning that the `n` after it does no signify the letter n, but that `\\n` together means a new line.\n",
    "\n",
    "Now, let's try reading it in as a list."
   ]
  },
  {
   "cell_type": "code",
   "execution_count": 19,
   "metadata": {
    "collapsed": false
   },
   "outputs": [
    {
     "data": {
      "text/plain": [
       "[]"
      ]
     },
     "execution_count": 19,
     "metadata": {},
     "output_type": "execute_result"
    }
   ],
   "source": [
    "# Read contents of the file in as a list\n",
    "f_list = f.readlines()\n",
    "\n",
    "# Look at the list\n",
    "f_list"
   ]
  },
  {
   "cell_type": "markdown",
   "metadata": {},
   "source": [
    "Wait a minute!  I got an empty list!  That is because you can only scan through a file object once without \"rewinding.\"  To rewind, we use the `f.seek()` method.  This method takes an argument which byte you want to go to as you are reading the file.  To go to the beginning, we do `f.seek(0)`.  Let's try again."
   ]
  },
  {
   "cell_type": "code",
   "execution_count": 23,
   "metadata": {
    "collapsed": false
   },
   "outputs": [
    {
     "data": {
      "text/plain": [
       "['HEADER    ANTI-ONCOGENE                           13-JUN-94   1OLG              \\n',\n",
       " 'TITLE     HIGH-RESOLUTION SOLUTION STRUCTURE OF THE OLIGOMERIZATION             \\n',\n",
       " 'TITLE    2 DOMAIN OF P53 BY MULTI-DIMENSIONAL NMR                               \\n',\n",
       " 'COMPND    MOL_ID: 1;                                                            \\n',\n",
       " 'COMPND   2 MOLECULE: TUMOR SUPPRESSOR P53 (OLIGOMERIZATION DOMAIN);             \\n',\n",
       " 'COMPND   3 CHAIN: A, B, C, D;                                                   \\n',\n",
       " 'COMPND   4 ENGINEERED: YES                                                      \\n',\n",
       " 'SOURCE    MOL_ID: 1;                                                            \\n',\n",
       " 'SOURCE   2 ORGANISM_SCIENTIFIC: HOMO SAPIENS;                                   \\n',\n",
       " 'SOURCE   3 ORGANISM_COMMON: HUMAN;                                              \\n']"
      ]
     },
     "execution_count": 23,
     "metadata": {},
     "output_type": "execute_result"
    }
   ],
   "source": [
    "# Go to the beginning of the file\n",
    "f.seek(0)\n",
    "\n",
    "# Read the contents in as a list\n",
    "f_list = f.readlines()\n",
    "\n",
    "# Check out the first 10 entries\n",
    "f_list[:10]"
   ]
  },
  {
   "cell_type": "markdown",
   "metadata": {},
   "source": [
    "We see that each entry is a line, including the newline character.  To look at lines in files, the `rstrip()` method for strings can come it handy.  It strips all whitespace, including newlines, from the end of a string."
   ]
  },
  {
   "cell_type": "code",
   "execution_count": 24,
   "metadata": {
    "collapsed": false
   },
   "outputs": [
    {
     "data": {
      "text/plain": [
       "'HEADER    ANTI-ONCOGENE                           13-JUN-94   1OLG'"
      ]
     },
     "execution_count": 24,
     "metadata": {},
     "output_type": "execute_result"
    }
   ],
   "source": [
    "f_list[0].rstrip()"
   ]
  },
  {
   "cell_type": "markdown",
   "metadata": {},
   "source": [
    "Much nicer!\n",
    "\n",
    "Now, for something **very** important.  Whenever we open a file, we must close it when we are done with it.  This is important because unexpected things can happen when the file is still open.  We can check to see if it is closed."
   ]
  },
  {
   "cell_type": "code",
   "execution_count": 25,
   "metadata": {
    "collapsed": false
   },
   "outputs": [
    {
     "data": {
      "text/plain": [
       "False"
      ]
     },
     "execution_count": 25,
     "metadata": {},
     "output_type": "execute_result"
    }
   ],
   "source": [
    "f.closed"
   ]
  },
  {
   "cell_type": "markdown",
   "metadata": {},
   "source": [
    "Ok!  Better close it.  We just use the `f.close()` method."
   ]
  },
  {
   "cell_type": "code",
   "execution_count": 28,
   "metadata": {
    "collapsed": false
   },
   "outputs": [
    {
     "data": {
      "text/plain": [
       "True"
      ]
     },
     "execution_count": 28,
     "metadata": {},
     "output_type": "execute_result"
    }
   ],
   "source": [
    "f.close()\n",
    "\n",
    "# Is it closed?\n",
    "f.closed"
   ]
  },
  {
   "cell_type": "markdown",
   "metadata": {},
   "source": [
    "### Using context managers with files\n",
    "Python has a wonderful keyword, **`with`**.  This keyword enables **context management**.  Upon entry into a **`with`** block, variables have certain meaning.  Upon exit, certain operations take place.  For file objects created by opening them, the file is automatically closed upon exit, **even if there is an error**.  This is important.  If your program raises an exception before you have a chance to close the file, it won't get closed and you could be in trouble.\n",
    "\n",
    "Let's see how it works."
   ]
  },
  {
   "cell_type": "code",
   "execution_count": 32,
   "metadata": {
    "collapsed": false
   },
   "outputs": [
    {
     "name": "stdout",
     "output_type": "stream",
     "text": [
      "In the with block, is the file closed? False\n",
      "Out of the with block, is the file closed? True\n"
     ]
    },
    {
     "data": {
      "text/plain": [
       "['HEADER    ANTI-ONCOGENE                           13-JUN-94   1OLG              \\n',\n",
       " 'TITLE     HIGH-RESOLUTION SOLUTION STRUCTURE OF THE OLIGOMERIZATION             \\n',\n",
       " 'TITLE    2 DOMAIN OF P53 BY MULTI-DIMENSIONAL NMR                               \\n']"
      ]
     },
     "execution_count": 32,
     "metadata": {},
     "output_type": "execute_result"
    }
   ],
   "source": [
    "with open('../data/1OLG.pdb', 'r') as f:\n",
    "    f_lines = f.readlines()\n",
    "    print('In the with block, is the file closed?', f.closed)\n",
    "    \n",
    "print('Out of the with block, is the file closed?', f.closed)\n",
    "\n",
    "# Check the first three lines\n",
    "f_lines[:3]"
   ]
  },
  {
   "cell_type": "markdown",
   "metadata": {},
   "source": [
    "The syntax is almost like English.  We do what is written in the **`with`** block with an open file object that we will name `f`.\n",
    "\n",
    "The results look good!  In general, you should use context management when working with files.  It keeps you out of trouble with open files.  And it is much cleaner.  This is worth making official:"
   ]
  },
  {
   "cell_type": "markdown",
   "metadata": {},
   "source": [
    "<div class=\"alert alert-info\">\n",
    "<center>Use context management using **`with`** when working with files.</center>\n",
    "</div>"
   ]
  },
  {
   "cell_type": "markdown",
   "metadata": {},
   "source": [
    "### Reading line-by-line\n",
    "What if we do not want to read the entire file into a list?  For example, if a file is several gigabytes, we do not want to spend all of our RAM storing a list.  Instead, we can read it line-by-line.  Conveniently, the file object can be used as an iterator."
   ]
  },
  {
   "cell_type": "code",
   "execution_count": 35,
   "metadata": {
    "collapsed": false
   },
   "outputs": [
    {
     "name": "stdout",
     "output_type": "stream",
     "text": [
      "HEADER    ANTI-ONCOGENE                           13-JUN-94   1OLG\n",
      "TITLE     HIGH-RESOLUTION SOLUTION STRUCTURE OF THE OLIGOMERIZATION\n",
      "TITLE    2 DOMAIN OF P53 BY MULTI-DIMENSIONAL NMR\n",
      "COMPND    MOL_ID: 1;\n",
      "COMPND   2 MOLECULE: TUMOR SUPPRESSOR P53 (OLIGOMERIZATION DOMAIN);\n",
      "COMPND   3 CHAIN: A, B, C, D;\n",
      "COMPND   4 ENGINEERED: YES\n",
      "SOURCE    MOL_ID: 1;\n",
      "SOURCE   2 ORGANISM_SCIENTIFIC: HOMO SAPIENS;\n",
      "SOURCE   3 ORGANISM_COMMON: HUMAN;\n"
     ]
    }
   ],
   "source": [
    "# Print the first ten lines of the file\n",
    "with open('../data/1OLG.pdb', 'r') as f:\n",
    "    counter = 0\n",
    "    for line in f:\n",
    "        print(line.rstrip())\n",
    "        counter += 1\n",
    "        if counter >= 10:\n",
    "            break"
   ]
  },
  {
   "cell_type": "markdown",
   "metadata": {},
   "source": [
    "Alternatively, we can use the method `f.readline()` to read a single line in the file and return it as a string."
   ]
  },
  {
   "cell_type": "code",
   "execution_count": 36,
   "metadata": {
    "collapsed": false
   },
   "outputs": [
    {
     "name": "stdout",
     "output_type": "stream",
     "text": [
      "HEADER    ANTI-ONCOGENE                           13-JUN-94   1OLG\n",
      "TITLE     HIGH-RESOLUTION SOLUTION STRUCTURE OF THE OLIGOMERIZATION\n",
      "TITLE    2 DOMAIN OF P53 BY MULTI-DIMENSIONAL NMR\n",
      "COMPND    MOL_ID: 1;\n",
      "COMPND   2 MOLECULE: TUMOR SUPPRESSOR P53 (OLIGOMERIZATION DOMAIN);\n",
      "COMPND   3 CHAIN: A, B, C, D;\n",
      "COMPND   4 ENGINEERED: YES\n",
      "SOURCE    MOL_ID: 1;\n",
      "SOURCE   2 ORGANISM_SCIENTIFIC: HOMO SAPIENS;\n",
      "SOURCE   3 ORGANISM_COMMON: HUMAN;\n"
     ]
    }
   ],
   "source": [
    "# Print the first ten lines of the file\n",
    "with open('../data/1OLG.pdb', 'r') as f:\n",
    "    counter = 0\n",
    "    while counter < 10:\n",
    "        print(f.readline().rstrip())\n",
    "        counter += 1"
   ]
  },
  {
   "cell_type": "markdown",
   "metadata": {},
   "source": [
    "## Writing to a file\n",
    "Writing to a file has similar syntax.  We already saw how to open a file for writing.  Again, context management is useful.  However, before trying to open a file, we should check to make sure a file of the same name does not exist before opening it.  The `os.path` module, which we will visit when we learn about scripting later in the bootcamp, is useful.  The function `os.path.isfile()` function checks to see if a file exists."
   ]
  },
  {
   "cell_type": "code",
   "execution_count": 38,
   "metadata": {
    "collapsed": false
   },
   "outputs": [
    {
     "data": {
      "text/plain": [
       "True"
      ]
     },
     "execution_count": 38,
     "metadata": {},
     "output_type": "execute_result"
    }
   ],
   "source": [
    "os.path.isfile('../data/1OLG.pdb')"
   ]
  },
  {
   "cell_type": "markdown",
   "metadata": {},
   "source": [
    "So, now we're ready to open a file to write."
   ]
  },
  {
   "cell_type": "code",
   "execution_count": 67,
   "metadata": {
    "collapsed": false
   },
   "outputs": [],
   "source": [
    "if os.path.isfile('mastery.txt'):\n",
    "    raise RuntimeError('File mastery.txt already exists.')\n",
    "\n",
    "with open('mastery.txt', 'w') as f:\n",
    "    f.write('This is my file.')\n",
    "    f.write('There are many like it, but this one is mine.')\n",
    "    f.write('I must master my file like I must master my life.')"
   ]
  },
  {
   "cell_type": "markdown",
   "metadata": {},
   "source": [
    "Note that we can use the `f.write()` method to write strings to a file.  Let's look at the file contents."
   ]
  },
  {
   "cell_type": "code",
   "execution_count": 68,
   "metadata": {
    "collapsed": false
   },
   "outputs": [
    {
     "name": "stdout",
     "output_type": "stream",
     "text": [
      "This is my file.There are many like it, but this one is mine.I must master my file like I must master my life."
     ]
    }
   ],
   "source": [
    "!cat mastery.txt"
   ]
  },
  {
   "cell_type": "markdown",
   "metadata": {},
   "source": [
    "Ah!  There are no newlines!  When writing to a file, unlike when you use the `print()` function, you must include the newline characters.  Let's try again, intentionally obliterating our first attempt."
   ]
  },
  {
   "cell_type": "code",
   "execution_count": 69,
   "metadata": {
    "collapsed": false
   },
   "outputs": [
    {
     "name": "stdout",
     "output_type": "stream",
     "text": [
      "This is my file.\r\n",
      "There are many like it, but this one is mine.\r\n",
      "I must master my file like I must master my life.\r\n"
     ]
    }
   ],
   "source": [
    "with open('mastery.txt', 'w') as f:\n",
    "    f.write('This is my file.\\n')\n",
    "    f.write('There are many like it, but this one is mine.\\n')\n",
    "    f.write('I must master my file like I must master my life.\\n')\n",
    "    \n",
    "!cat mastery.txt"
   ]
  },
  {
   "cell_type": "markdown",
   "metadata": {},
   "source": [
    "That's better.  Note also that `f.write()` **only** takes strings as arguments.  You cannot pass numbers.  They must be converted to strings first."
   ]
  },
  {
   "cell_type": "code",
   "execution_count": 70,
   "metadata": {
    "collapsed": false
   },
   "outputs": [
    {
     "ename": "TypeError",
     "evalue": "must be str, not float",
     "output_type": "error",
     "traceback": [
      "\u001b[0;31m---------------------------------------------------------------------------\u001b[0m",
      "\u001b[0;31mTypeError\u001b[0m                                 Traceback (most recent call last)",
      "\u001b[0;32m<ipython-input-70-48bf6cb2f626>\u001b[0m in \u001b[0;36m<module>\u001b[0;34m()\u001b[0m\n\u001b[1;32m      2\u001b[0m \u001b[0;32mwith\u001b[0m \u001b[0mopen\u001b[0m\u001b[0;34m(\u001b[0m\u001b[0;34m'gimme_phi.txt'\u001b[0m\u001b[0;34m,\u001b[0m \u001b[0;34m'w'\u001b[0m\u001b[0;34m)\u001b[0m \u001b[0;32mas\u001b[0m \u001b[0mf\u001b[0m\u001b[0;34m:\u001b[0m\u001b[0;34m\u001b[0m\u001b[0m\n\u001b[1;32m      3\u001b[0m     \u001b[0mf\u001b[0m\u001b[0;34m.\u001b[0m\u001b[0mwrite\u001b[0m\u001b[0;34m(\u001b[0m\u001b[0;34m'The golden ratio is φ = '\u001b[0m\u001b[0;34m)\u001b[0m\u001b[0;34m\u001b[0m\u001b[0m\n\u001b[0;32m----> 4\u001b[0;31m     \u001b[0mf\u001b[0m\u001b[0;34m.\u001b[0m\u001b[0mwrite\u001b[0m\u001b[0;34m(\u001b[0m\u001b[0;36m1.61803398875\u001b[0m\u001b[0;34m)\u001b[0m\u001b[0;34m\u001b[0m\u001b[0m\n\u001b[0m",
      "\u001b[0;31mTypeError\u001b[0m: must be str, not float"
     ]
    }
   ],
   "source": [
    "# This will result in an exception\n",
    "with open('gimme_phi.txt', 'w') as f:\n",
    "    f.write('The golden ratio is φ = ')\n",
    "    f.write(1.61803398875)"
   ]
  },
  {
   "cell_type": "markdown",
   "metadata": {},
   "source": [
    "Yup.  It must be a string.  Let's try again."
   ]
  },
  {
   "cell_type": "code",
   "execution_count": 71,
   "metadata": {
    "collapsed": false
   },
   "outputs": [
    {
     "name": "stdout",
     "output_type": "stream",
     "text": [
      "The golden ratio is φ = 1.61803399"
     ]
    }
   ],
   "source": [
    "with open('gimme_phi.txt', 'w') as f:\n",
    "    f.write('The golden ratio is φ = ')\n",
    "    f.write('{phi:.8f}'.format(phi=1.61803398875))\n",
    "\n",
    "!cat gimme_phi.txt"
   ]
  },
  {
   "cell_type": "markdown",
   "metadata": {},
   "source": [
    "That works!"
   ]
  },
  {
   "cell_type": "markdown",
   "metadata": {},
   "source": [
    "## An exercise: extract atomic coordinates for first chain in tetramer\n",
    "As an example on how to do file I/O, we will take the PDB file and extract only the `ATOM` records for the first chain of the tetramer and write only those entries to a new file.\n",
    "\n",
    "It is useful to know that according to the [PDB format specification](http://www.wwpdb.org/documentation/file-format-content/format33/sect9.html#ATOM), column 21 in the `ATOM` entry gives the ID of the chain."
   ]
  },
  {
   "cell_type": "code",
   "execution_count": 72,
   "metadata": {
    "collapsed": true
   },
   "outputs": [],
   "source": [
    "with open('../data/1OLG.pdb', 'r') as f, open('atoms_chain_A.txt', 'w') as f_out:\n",
    "    # Get all the lines\n",
    "    lines = f.readlines()\n",
    "\n",
    "    # Put the ATOM lines from chain A in new file\n",
    "    for line in lines:\n",
    "        if len(line) > 21 and line[:4] == 'ATOM' and line[21] == 'A':\n",
    "            f_out.write(line)"
   ]
  },
  {
   "cell_type": "markdown",
   "metadata": {},
   "source": [
    "Let's see how we did!"
   ]
  },
  {
   "cell_type": "code",
   "execution_count": 73,
   "metadata": {
    "collapsed": false
   },
   "outputs": [
    {
     "name": "stdout",
     "output_type": "stream",
     "text": [
      "ATOM      1  N   LYS A 319      18.634  25.437  10.685  1.00  4.81           N  \r\n",
      "ATOM      2  CA  LYS A 319      17.984  25.295   9.354  1.00  4.32           C  \r\n",
      "ATOM      3  C   LYS A 319      18.160  23.876   8.818  1.00  3.74           C  \r\n",
      "ATOM      4  O   LYS A 319      19.259  23.441   8.537  1.00  3.67           O  \r\n",
      "ATOM      5  CB  LYS A 319      18.609  26.282   8.371  1.00  4.67           C  \r\n",
      "ATOM      6  CG  LYS A 319      18.003  26.056   6.986  1.00  5.15           C  \r\n",
      "ATOM      7  CD  LYS A 319      16.476  26.057   7.091  1.00  5.90           C  \r\n",
      "ATOM      8  CE  LYS A 319      16.014  27.341   7.784  1.00  6.51           C  \r\n",
      "ATOM      9  NZ  LYS A 319      16.388  28.518   6.952  1.00  7.33           N  \r\n",
      "ATOM     10  H1  LYS A 319      18.414  24.606  11.281  1.00  5.09           H  \r\n",
      "ATOM     11  H2  LYS A 319      19.658  25.516  10.555  1.00  5.18           H  \r\n",
      "ATOM     12  H3  LYS A 319      18.282  26.296  11.150  1.00  4.96           H  \r\n",
      "ATOM     13  HA  LYS A 319      16.934  25.509   9.452  1.00  4.66           H  \r\n",
      "ATOM     14  HB2 LYS A 319      18.399  27.288   8.697  1.00  4.96           H  \r\n",
      "ATOM     15  HB3 LYS A 319      19.679  26.132   8.326  1.00  4.81           H  \r\n",
      "ATOM     16  HG2 LYS A 319      18.320  26.846   6.324  1.00  5.22           H  \r\n",
      "ATOM     17  HG3 LYS A 319      18.334  25.104   6.598  1.00  5.32           H  \r\n",
      "ATOM     18  HD2 LYS A 319      16.046  26.005   6.102  1.00  6.19           H  \r\n",
      "ATOM     19  HD3 LYS A 319      16.154  25.204   7.670  1.00  6.08           H  \r\n",
      "ATOM     20  HE2 LYS A 319      14.941  27.316   7.911  1.00  6.70           H  \r\n",
      "ATOM     21  HE3 LYS A 319      16.488  27.419   8.752  1.00  6.49           H  \r\n",
      "ATOM     22  HZ1 LYS A 319      17.395  28.460   6.701  1.00  7.60           H  \r\n",
      "ATOM     23  HZ2 LYS A 319      15.816  28.526   6.085  1.00  7.57           H  \r\n",
      "ATOM     24  HZ3 LYS A 319      16.214  29.392   7.491  1.00  7.66           H  \r\n",
      "ATOM     25  N   LYS A 320      17.063  23.177   8.658  1.00  3.85           N  \r\n",
      "ATOM     26  CA  LYS A 320      17.085  21.778   8.123  1.00  3.82           C  \r\n",
      "ATOM     27  C   LYS A 320      17.727  20.814   9.132  1.00  3.38           C  \r\n",
      "ATOM     28  O   LYS A 320      17.048  20.031   9.762  1.00  3.69           O  \r\n",
      "ATOM     29  CB  LYS A 320      17.844  21.740   6.797  1.00  4.21           C  \r\n",
      "ATOM     30  CG  LYS A 320      16.917  22.223   5.676  1.00  5.00           C  \r\n",
      "ATOM     31  CD  LYS A 320      17.701  22.331   4.365  1.00  5.81           C  \r\n",
      "ATOM     32  CE  LYS A 320      18.474  23.652   4.334  1.00  6.54           C  \r\n",
      "ATOM     33  NZ  LYS A 320      17.555  24.758   3.943  1.00  7.21           N  \r\n",
      "ATOM     34  H   LYS A 320      16.203  23.590   8.879  1.00  4.30           H  \r\n",
      "ATOM     35  HA  LYS A 320      16.067  21.461   7.949  1.00  4.36           H  \r\n",
      "ATOM     36  HB2 LYS A 320      18.707  22.383   6.855  1.00  4.26           H  \r\n",
      "ATOM     37  HB3 LYS A 320      18.159  20.728   6.592  1.00  4.38           H  \r\n",
      "ATOM     38  HG2 LYS A 320      16.104  21.520   5.553  1.00  5.26           H  \r\n",
      "ATOM     39  HG3 LYS A 320      16.516  23.192   5.934  1.00  5.13           H  \r\n",
      "ATOM     40  HD2 LYS A 320      18.394  21.505   4.293  1.00  5.89           H  \r\n",
      "ATOM     41  HD3 LYS A 320      17.015  22.299   3.532  1.00  6.15           H  \r\n",
      "ATOM     42  HE2 LYS A 320      18.883  23.852   5.313  1.00  6.83           H  \r\n",
      "ATOM     43  HE3 LYS A 320      19.278  23.581   3.617  1.00  6.61           H  \r\n",
      "ATOM     44  HZ1 LYS A 320      16.599  24.558   4.300  1.00  7.43           H  \r\n",
      "ATOM     45  HZ2 LYS A 320      17.897  25.653   4.348  1.00  7.46           H  \r\n",
      "ATOM     46  HZ3 LYS A 320      17.529  24.838   2.906  1.00  7.51           H  \r\n",
      "ATOM     47  N   LYS A 321      19.020  20.847   9.285  1.00  3.05           N  \r\n",
      "ATOM     48  CA  LYS A 321      19.688  19.926  10.251  1.00  2.81           C  \r\n",
      "ATOM     49  C   LYS A 321      19.570  18.479   9.751  1.00  2.50           C  \r\n",
      "ATOM     50  O   LYS A 321      18.512  18.062   9.322  1.00  2.62           O  \r\n",
      "ATOM     51  CB  LYS A 321      19.029  20.015  11.637  1.00  3.34           C  \r\n",
      "ATOM     52  CG  LYS A 321      18.339  21.373  11.842  1.00  4.02           C  \r\n",
      "ATOM     53  CD  LYS A 321      16.841  21.152  12.059  1.00  4.77           C  \r\n",
      "ATOM     54  CE  LYS A 321      16.501  21.307  13.544  1.00  5.69           C  \r\n",
      "ATOM     55  NZ  LYS A 321      17.082  20.148  14.319  1.00  6.47           N  \r\n",
      "ATOM     56  H   LYS A 321      19.556  21.470   8.761  1.00  3.26           H  \r\n",
      "ATOM     57  HA  LYS A 321      20.727  20.200  10.333  1.00  3.16           H  \r\n",
      "ATOM     58  HB2 LYS A 321      18.300  19.225  11.731  1.00  3.51           H  \r\n",
      "ATOM     59  HB3 LYS A 321      19.789  19.886  12.396  1.00  3.66           H  \r\n",
      "ATOM     60  HG2 LYS A 321      18.756  21.853  12.711  1.00  4.36           H  \r\n",
      "ATOM     61  HG3 LYS A 321      18.488  21.998  10.978  1.00  4.11           H  \r\n",
      "ATOM     62  HD2 LYS A 321      16.288  21.876  11.488  1.00  4.81           H  \r\n",
      "ATOM     63  HD3 LYS A 321      16.572  20.152  11.738  1.00  5.02           H  \r\n",
      "ATOM     64  HE2 LYS A 321      16.904  22.244  13.913  1.00  5.93           H  \r\n",
      "ATOM     65  HE3 LYS A 321      15.432  21.313  13.656  1.00  5.90           H  \r\n",
      "ATOM     66  HZ1 LYS A 321      17.162  19.350  13.688  1.00  6.74           H  \r\n",
      "ATOM     67  HZ2 LYS A 321      18.033  20.394  14.685  1.00  6.71           H  \r\n",
      "ATOM     68  HZ3 LYS A 321      16.460  19.881  15.120  1.00  6.81           H  \r\n",
      "ATOM     69  N   PRO A 322      20.660  17.750   9.832  1.00  2.87           N  \r\n",
      "ATOM     70  CA  PRO A 322      20.701  16.337   9.404  1.00  3.30           C  \r\n",
      "ATOM     71  C   PRO A 322      20.002  15.426  10.428  1.00  2.78           C  \r\n",
      "ATOM     72  O   PRO A 322      20.165  14.222  10.401  1.00  2.72           O  \r\n",
      "ATOM     73  CB  PRO A 322      22.198  16.001   9.352  1.00  4.33           C  \r\n",
      "ATOM     74  CG  PRO A 322      22.963  17.169  10.023  1.00  4.53           C  \r\n",
      "ATOM     75  CD  PRO A 322      21.944  18.275  10.333  1.00  3.61           C  \r\n",
      "ATOM     76  HA  PRO A 322      20.264  16.220   8.427  1.00  3.71           H  \r\n",
      "ATOM     77  HB2 PRO A 322      22.386  15.079   9.886  1.00  4.51           H  \r\n",
      "ATOM     78  HB3 PRO A 322      22.516  15.903   8.326  1.00  5.02           H  \r\n",
      "ATOM     79  HG2 PRO A 322      23.425  16.826  10.939  1.00  4.97           H  \r\n",
      "ATOM     80  HG3 PRO A 322      23.718  17.549   9.351  1.00  5.15           H  \r\n",
      "ATOM     81  HD2 PRO A 322      21.893  18.452  11.398  1.00  3.76           H  \r\n",
      "ATOM     82  HD3 PRO A 322      22.204  19.182   9.810  1.00  3.74           H  \r\n",
      "ATOM     83  N   LEU A 323      19.244  15.979  11.341  1.00  2.70           N  \r\n",
      "ATOM     84  CA  LEU A 323      18.560  15.130  12.361  1.00  2.39           C  \r\n",
      "ATOM     85  C   LEU A 323      17.248  14.572  11.801  1.00  1.78           C  \r\n",
      "ATOM     86  O   LEU A 323      16.196  14.744  12.384  1.00  1.89           O  \r\n",
      "ATOM     87  CB  LEU A 323      18.262  15.973  13.605  1.00  2.93           C  \r\n",
      "ATOM     88  CG  LEU A 323      19.571  16.320  14.320  1.00  3.65           C  \r\n",
      "ATOM     89  CD1 LEU A 323      19.263  16.901  15.702  1.00  4.35           C  \r\n",
      "ATOM     90  CD2 LEU A 323      20.417  15.054  14.480  1.00  3.83           C  \r\n",
      "ATOM     91  H   LEU A 323      19.132  16.949  11.365  1.00  3.05           H  \r\n",
      "ATOM     92  HA  LEU A 323      19.207  14.310  12.632  1.00  2.54           H  \r\n",
      "ATOM     93  HB2 LEU A 323      17.761  16.884  13.310  1.00  3.10           H  \r\n",
      "ATOM     94  HB3 LEU A 323      17.626  15.414  14.275  1.00  2.89           H  \r\n",
      "ATOM     95  HG  LEU A 323      20.116  17.048  13.738  1.00  3.76           H  \r\n",
      "ATOM     96 HD11 LEU A 323      18.450  16.350  16.151  1.00  4.70           H  \r\n",
      "ATOM     97 HD12 LEU A 323      20.139  16.824  16.328  1.00  4.63           H  \r\n",
      "ATOM     98 HD13 LEU A 323      18.982  17.939  15.601  1.00  4.59           H  \r\n",
      "ATOM     99 HD21 LEU A 323      19.783  14.235  14.789  1.00  4.03           H  \r\n",
      "ATOM    100 HD22 LEU A 323      20.881  14.811  13.535  1.00  3.92           H  \r\n",
      "ATOM    101 HD23 LEU A 323      21.180  15.220  15.225  1.00  4.16           H  \r\n",
      "ATOM    102  N   ASP A 324      17.296  13.893  10.687  1.00  1.51           N  \r\n",
      "ATOM    103  CA  ASP A 324      16.045  13.320  10.116  1.00  1.33           C  \r\n",
      "ATOM    104  C   ASP A 324      15.714  12.012  10.841  1.00  1.07           C  \r\n",
      "ATOM    105  O   ASP A 324      16.418  11.596  11.741  1.00  1.04           O  \r\n",
      "ATOM    106  CB  ASP A 324      16.239  13.043   8.624  1.00  1.76           C  \r\n",
      "ATOM    107  CG  ASP A 324      16.759  14.305   7.931  1.00  2.08           C  \r\n",
      "ATOM    108  OD1 ASP A 324      16.250  15.373   8.229  1.00  2.42           O  \r\n",
      "ATOM    109  OD2 ASP A 324      17.656  14.180   7.114  1.00  2.48           O  \r\n",
      "ATOM    110  H   ASP A 324      18.151  13.753  10.233  1.00  1.76           H  \r\n",
      "ATOM    111  HA  ASP A 324      15.234  14.021  10.251  1.00  1.53           H  \r\n",
      "ATOM    112  HB2 ASP A 324      16.951  12.243   8.496  1.00  1.90           H  \r\n",
      "ATOM    113  HB3 ASP A 324      15.294  12.758   8.185  1.00  2.04           H  \r\n",
      "ATOM    114  N   GLY A 325      14.651  11.359  10.459  1.00  0.98           N  \r\n",
      "ATOM    115  CA  GLY A 325      14.281  10.078  11.129  1.00  0.84           C  \r\n",
      "ATOM    116  C   GLY A 325      15.307   8.999  10.773  1.00  0.70           C  \r\n",
      "ATOM    117  O   GLY A 325      16.298   9.264  10.122  1.00  0.68           O  \r\n",
      "ATOM    118  H   GLY A 325      14.095  11.709   9.731  1.00  1.08           H  \r\n",
      "ATOM    119  HA2 GLY A 325      14.268  10.224  12.200  1.00  0.89           H  \r\n",
      "ATOM    120  HA3 GLY A 325      13.304   9.765  10.796  1.00  0.91           H  \r\n",
      "ATOM    121  N   GLU A 326      15.076   7.783  11.190  1.00  0.65           N  \r\n",
      "ATOM    122  CA  GLU A 326      16.040   6.691  10.869  1.00  0.58           C  \r\n",
      "ATOM    123  C   GLU A 326      16.181   6.571   9.351  1.00  0.52           C  \r\n",
      "ATOM    124  O   GLU A 326      15.633   7.358   8.605  1.00  0.51           O  \r\n",
      "ATOM    125  CB  GLU A 326      15.526   5.368  11.443  1.00  0.64           C  \r\n",
      "ATOM    126  CG  GLU A 326      15.658   5.387  12.967  1.00  0.75           C  \r\n",
      "ATOM    127  CD  GLU A 326      16.782   4.441  13.396  1.00  1.06           C  \r\n",
      "ATOM    128  OE1 GLU A 326      17.932   4.836  13.295  1.00  1.70           O  \r\n",
      "ATOM    129  OE2 GLU A 326      16.473   3.339  13.817  1.00  1.64           O  \r\n",
      "ATOM    130  H   GLU A 326      14.270   7.588  11.712  1.00  0.71           H  \r\n",
      "ATOM    131  HA  GLU A 326      17.002   6.922  11.303  1.00  0.59           H  \r\n",
      "ATOM    132  HB2 GLU A 326      14.489   5.237  11.171  1.00  0.68           H  \r\n",
      "ATOM    133  HB3 GLU A 326      16.109   4.552  11.043  1.00  0.65           H  \r\n",
      "ATOM    134  HG2 GLU A 326      15.887   6.391  13.296  1.00  0.92           H  \r\n",
      "ATOM    135  HG3 GLU A 326      14.730   5.065  13.414  1.00  0.97           H  \r\n",
      "ATOM    136  N   TYR A 327      16.912   5.596   8.884  1.00  0.49           N  \r\n",
      "ATOM    137  CA  TYR A 327      17.083   5.439   7.413  1.00  0.45           C  \r\n",
      "ATOM    138  C   TYR A 327      17.296   3.964   7.067  1.00  0.43           C  \r\n",
      "ATOM    139  O   TYR A 327      18.352   3.408   7.296  1.00  0.48           O  \r\n",
      "ATOM    140  CB  TYR A 327      18.294   6.252   6.953  1.00  0.47           C  \r\n",
      "ATOM    141  CG  TYR A 327      17.900   7.702   6.817  1.00  0.49           C  \r\n",
      "ATOM    142  CD1 TYR A 327      17.353   8.169   5.612  1.00  0.49           C  \r\n",
      "ATOM    143  CD2 TYR A 327      18.079   8.582   7.894  1.00  0.54           C  \r\n",
      "ATOM    144  CE1 TYR A 327      16.986   9.516   5.485  1.00  0.52           C  \r\n",
      "ATOM    145  CE2 TYR A 327      17.711   9.930   7.767  1.00  0.58           C  \r\n",
      "ATOM    146  CZ  TYR A 327      17.164  10.397   6.562  1.00  0.56           C  \r\n",
      "ATOM    147  OH  TYR A 327      16.801  11.723   6.437  1.00  0.61           O  \r\n",
      "ATOM    148  H   TYR A 327      17.349   4.971   9.500  1.00  0.51           H  \r\n",
      "ATOM    149  HA  TYR A 327      16.198   5.800   6.909  1.00  0.44           H  \r\n",
      "ATOM    150  HB2 TYR A 327      19.087   6.160   7.681  1.00  0.51           H  \r\n",
      "ATOM    151  HB3 TYR A 327      18.636   5.881   5.998  1.00  0.46           H  \r\n",
      "ATOM    152  HD1 TYR A 327      17.215   7.490   4.783  1.00  0.47           H  \r\n",
      "ATOM    153  HD2 TYR A 327      18.499   8.223   8.822  1.00  0.57           H  \r\n",
      "ATOM    154  HE1 TYR A 327      16.563   9.875   4.558  1.00  0.53           H  \r\n",
      "ATOM    155  HE2 TYR A 327      17.849  10.607   8.596  1.00  0.62           H  \r\n",
      "ATOM    156  HH  TYR A 327      17.140  12.045   5.598  1.00  1.04           H  \r\n",
      "ATOM    157  N   PHE A 328      16.303   3.329   6.508  1.00  0.39           N  \r\n",
      "ATOM    158  CA  PHE A 328      16.446   1.893   6.139  1.00  0.39           C  \r\n",
      "ATOM    159  C   PHE A 328      16.419   1.760   4.614  1.00  0.36           C  \r\n",
      "ATOM    160  O   PHE A 328      16.563   2.730   3.896  1.00  0.37           O  \r\n",
      "ATOM    161  CB  PHE A 328      15.290   1.090   6.741  1.00  0.40           C  \r\n",
      "ATOM    162  CG  PHE A 328      15.266   1.286   8.238  1.00  0.44           C  \r\n",
      "ATOM    163  CD1 PHE A 328      14.528   2.342   8.795  1.00  0.47           C  \r\n",
      "ATOM    164  CD2 PHE A 328      15.979   0.413   9.072  1.00  0.51           C  \r\n",
      "ATOM    165  CE1 PHE A 328      14.504   2.524  10.186  1.00  0.54           C  \r\n",
      "ATOM    166  CE2 PHE A 328      15.956   0.594  10.463  1.00  0.57           C  \r\n",
      "ATOM    167  CZ  PHE A 328      15.218   1.650  11.020  1.00  0.58           C  \r\n",
      "ATOM    168  H   PHE A 328      15.462   3.799   6.328  1.00  0.39           H  \r\n",
      "ATOM    169  HA  PHE A 328      17.384   1.514   6.518  1.00  0.42           H  \r\n",
      "ATOM    170  HB2 PHE A 328      14.357   1.431   6.317  1.00  0.40           H  \r\n",
      "ATOM    171  HB3 PHE A 328      15.425   0.042   6.518  1.00  0.43           H  \r\n",
      "ATOM    172  HD1 PHE A 328      13.978   3.014   8.152  1.00  0.48           H  \r\n",
      "ATOM    173  HD2 PHE A 328      16.547  -0.400   8.643  1.00  0.54           H  \r\n",
      "ATOM    174  HE1 PHE A 328      13.936   3.336  10.614  1.00  0.59           H  \r\n",
      "ATOM    175  HE2 PHE A 328      16.505  -0.078  11.105  1.00  0.65           H  \r\n",
      "ATOM    176  HZ  PHE A 328      15.199   1.790  12.090  1.00  0.64           H  \r\n",
      "ATOM    177  N   THR A 329      16.238   0.570   4.113  1.00  0.35           N  \r\n",
      "ATOM    178  CA  THR A 329      16.204   0.382   2.635  1.00  0.34           C  \r\n",
      "ATOM    179  C   THR A 329      15.386  -0.866   2.299  1.00  0.33           C  \r\n",
      "ATOM    180  O   THR A 329      15.063  -1.657   3.162  1.00  0.37           O  \r\n",
      "ATOM    181  CB  THR A 329      17.631   0.217   2.108  1.00  0.37           C  \r\n",
      "ATOM    182  OG1 THR A 329      18.349  -0.666   2.958  1.00  0.39           O  \r\n",
      "ATOM    183  CG2 THR A 329      18.326   1.580   2.079  1.00  0.42           C  \r\n",
      "ATOM    184  H   THR A 329      16.125  -0.201   4.707  1.00  0.35           H  \r\n",
      "ATOM    185  HA  THR A 329      15.748   1.246   2.174  1.00  0.35           H  \r\n",
      "ATOM    186  HB  THR A 329      17.602  -0.188   1.108  1.00  0.39           H  \r\n",
      "ATOM    187  HG1 THR A 329      18.897  -1.229   2.406  1.00  0.97           H  \r\n",
      "ATOM    188 HG21 THR A 329      17.726   2.277   1.513  1.00  1.08           H  \r\n",
      "ATOM    189 HG22 THR A 329      18.445   1.944   3.088  1.00  1.14           H  \r\n",
      "ATOM    190 HG23 THR A 329      19.296   1.480   1.615  1.00  1.09           H  \r\n",
      "ATOM    191  N   LEU A 330      15.043  -1.048   1.053  1.00  0.29           N  \r\n",
      "ATOM    192  CA  LEU A 330      14.242  -2.245   0.673  1.00  0.29           C  \r\n",
      "ATOM    193  C   LEU A 330      14.555  -2.641  -0.772  1.00  0.27           C  \r\n",
      "ATOM    194  O   LEU A 330      14.531  -1.823  -1.670  1.00  0.25           O  \r\n",
      "ATOM    195  CB  LEU A 330      12.754  -1.915   0.800  1.00  0.29           C  \r\n",
      "ATOM    196  CG  LEU A 330      11.923  -3.128   0.385  1.00  0.30           C  \r\n",
      "ATOM    197  CD1 LEU A 330      12.020  -4.207   1.465  1.00  0.36           C  \r\n",
      "ATOM    198  CD2 LEU A 330      10.461  -2.707   0.214  1.00  0.32           C  \r\n",
      "ATOM    199  H   LEU A 330      15.310  -0.398   0.369  1.00  0.27           H  \r\n",
      "ATOM    200  HA  LEU A 330      14.486  -3.065   1.332  1.00  0.32           H  \r\n",
      "ATOM    201  HB2 LEU A 330      12.529  -1.657   1.825  1.00  0.35           H  \r\n",
      "ATOM    202  HB3 LEU A 330      12.515  -1.080   0.158  1.00  0.29           H  \r\n",
      "ATOM    203  HG  LEU A 330      12.298  -3.519  -0.550  1.00  0.31           H  \r\n",
      "ATOM    204 HD11 LEU A 330      11.794  -3.773   2.428  1.00  1.08           H  \r\n",
      "ATOM    205 HD12 LEU A 330      11.315  -4.996   1.251  1.00  1.03           H  \r\n",
      "ATOM    206 HD13 LEU A 330      13.021  -4.612   1.479  1.00  1.09           H  \r\n",
      "ATOM    207 HD21 LEU A 330      10.240  -1.893   0.889  1.00  1.08           H  \r\n",
      "ATOM    208 HD22 LEU A 330      10.295  -2.387  -0.804  1.00  1.05           H  \r\n",
      "ATOM    209 HD23 LEU A 330       9.817  -3.545   0.438  1.00  1.08           H  \r\n",
      "ATOM    210  N   GLN A 331      14.840  -3.894  -1.002  1.00  0.29           N  \r\n",
      "ATOM    211  CA  GLN A 331      15.146  -4.349  -2.388  1.00  0.29           C  \r\n",
      "ATOM    212  C   GLN A 331      13.844  -4.741  -3.090  1.00  0.28           C  \r\n",
      "ATOM    213  O   GLN A 331      13.198  -5.703  -2.726  1.00  0.31           O  \r\n",
      "ATOM    214  CB  GLN A 331      16.081  -5.559  -2.331  1.00  0.34           C  \r\n",
      "ATOM    215  CG  GLN A 331      16.527  -5.928  -3.747  1.00  0.40           C  \r\n",
      "ATOM    216  CD  GLN A 331      18.038  -5.723  -3.876  1.00  0.64           C  \r\n",
      "ATOM    217  OE1 GLN A 331      18.809  -6.347  -3.175  1.00  1.37           O  \r\n",
      "ATOM    218  NE2 GLN A 331      18.495  -4.868  -4.749  1.00  0.62           N  \r\n",
      "ATOM    219  H   GLN A 331      14.848  -4.538  -0.263  1.00  0.32           H  \r\n",
      "ATOM    220  HA  GLN A 331      15.624  -3.549  -2.933  1.00  0.28           H  \r\n",
      "ATOM    221  HB2 GLN A 331      16.947  -5.316  -1.732  1.00  0.41           H  \r\n",
      "ATOM    222  HB3 GLN A 331      15.561  -6.396  -1.890  1.00  0.37           H  \r\n",
      "ATOM    223  HG2 GLN A 331      16.285  -6.963  -3.942  1.00  0.48           H  \r\n",
      "ATOM    224  HG3 GLN A 331      16.018  -5.298  -4.461  1.00  0.61           H  \r\n",
      "ATOM    225 HE21 GLN A 331      17.873  -4.364  -5.315  1.00  1.01           H  \r\n",
      "ATOM    226 HE22 GLN A 331      19.461  -4.729  -4.840  1.00  0.76           H  \r\n",
      "ATOM    227  N   ILE A 332      13.449  -4.001  -4.090  1.00  0.29           N  \r\n",
      "ATOM    228  CA  ILE A 332      12.184  -4.335  -4.806  1.00  0.31           C  \r\n",
      "ATOM    229  C   ILE A 332      12.506  -5.000  -6.146  1.00  0.32           C  \r\n",
      "ATOM    230  O   ILE A 332      12.959  -4.362  -7.075  1.00  0.33           O  \r\n",
      "ATOM    231  CB  ILE A 332      11.387  -3.052  -5.053  1.00  0.35           C  \r\n",
      "ATOM    232  CG1 ILE A 332      11.193  -2.311  -3.728  1.00  0.34           C  \r\n",
      "ATOM    233  CG2 ILE A 332      10.021  -3.405  -5.643  1.00  0.47           C  \r\n",
      "ATOM    234  CD1 ILE A 332      10.723  -0.882  -4.007  1.00  0.39           C  \r\n",
      "ATOM    235  H   ILE A 332      13.981  -3.226  -4.368  1.00  0.30           H  \r\n",
      "ATOM    236  HA  ILE A 332      11.597  -5.010  -4.202  1.00  0.33           H  \r\n",
      "ATOM    237  HB  ILE A 332      11.926  -2.422  -5.745  1.00  0.38           H  \r\n",
      "ATOM    238 HG12 ILE A 332      10.452  -2.825  -3.133  1.00  0.41           H  \r\n",
      "ATOM    239 HG13 ILE A 332      12.129  -2.282  -3.191  1.00  0.35           H  \r\n",
      "ATOM    240 HG21 ILE A 332       9.532  -4.131  -5.011  1.00  1.15           H  \r\n",
      "ATOM    241 HG22 ILE A 332       9.414  -2.513  -5.703  1.00  1.15           H  \r\n",
      "ATOM    242 HG23 ILE A 332      10.152  -3.819  -6.632  1.00  1.04           H  \r\n",
      "ATOM    243 HD11 ILE A 332       9.789  -0.909  -4.548  1.00  1.09           H  \r\n",
      "ATOM    244 HD12 ILE A 332      10.582  -0.361  -3.072  1.00  1.12           H  \r\n",
      "ATOM    245 HD13 ILE A 332      11.467  -0.367  -4.597  1.00  1.05           H  \r\n",
      "ATOM    246  N   ARG A 333      12.269  -6.279  -6.256  1.00  0.33           N  \r\n",
      "ATOM    247  CA  ARG A 333      12.555  -6.984  -7.537  1.00  0.36           C  \r\n",
      "ATOM    248  C   ARG A 333      11.514  -6.586  -8.584  1.00  0.38           C  \r\n",
      "ATOM    249  O   ARG A 333      10.403  -6.215  -8.260  1.00  0.42           O  \r\n",
      "ATOM    250  CB  ARG A 333      12.494  -8.496  -7.312  1.00  0.40           C  \r\n",
      "ATOM    251  CG  ARG A 333      13.339  -8.867  -6.092  1.00  0.43           C  \r\n",
      "ATOM    252  CD  ARG A 333      13.079 -10.327  -5.720  1.00  0.91           C  \r\n",
      "ATOM    253  NE  ARG A 333      13.936 -10.706  -4.561  1.00  1.05           N  \r\n",
      "ATOM    254  CZ  ARG A 333      13.682 -11.796  -3.888  1.00  1.50           C  \r\n",
      "ATOM    255  NH1 ARG A 333      12.677 -12.560  -4.228  1.00  2.10           N  \r\n",
      "ATOM    256  NH2 ARG A 333      14.433 -12.124  -2.873  1.00  2.10           N  \r\n",
      "ATOM    257  H   ARG A 333      11.899  -6.776  -5.496  1.00  0.34           H  \r\n",
      "ATOM    258  HA  ARG A 333      13.541  -6.712  -7.886  1.00  0.37           H  \r\n",
      "ATOM    259  HB2 ARG A 333      11.468  -8.793  -7.144  1.00  0.45           H  \r\n",
      "ATOM    260  HB3 ARG A 333      12.878  -9.006  -8.182  1.00  0.48           H  \r\n",
      "ATOM    261  HG2 ARG A 333      14.385  -8.733  -6.325  1.00  0.78           H  \r\n",
      "ATOM    262  HG3 ARG A 333      13.070  -8.232  -5.261  1.00  0.88           H  \r\n",
      "ATOM    263  HD2 ARG A 333      12.040 -10.451  -5.454  1.00  1.66           H  \r\n",
      "ATOM    264  HD3 ARG A 333      13.313 -10.960  -6.563  1.00  1.56           H  \r\n",
      "ATOM    265  HE  ARG A 333      14.690 -10.136  -4.304  1.00  1.63           H  \r\n",
      "ATOM    266 HH11 ARG A 333      12.099 -12.313  -5.005  1.00  2.21           H  \r\n",
      "ATOM    267 HH12 ARG A 333      12.487 -13.393  -3.709  1.00  2.79           H  \r\n",
      "ATOM    268 HH21 ARG A 333      15.202 -11.541  -2.611  1.00  2.40           H  \r\n",
      "ATOM    269 HH22 ARG A 333      14.239 -12.959  -2.357  1.00  2.59           H  \r\n",
      "ATOM    270  N   GLY A 334      11.862  -6.664  -9.839  1.00  0.39           N  \r\n",
      "ATOM    271  CA  GLY A 334      10.891  -6.296 -10.908  1.00  0.42           C  \r\n",
      "ATOM    272  C   GLY A 334      10.776  -4.774 -11.002  1.00  0.40           C  \r\n",
      "ATOM    273  O   GLY A 334      10.508  -4.099 -10.027  1.00  0.39           O  \r\n",
      "ATOM    274  H   GLY A 334      12.762  -6.970 -10.079  1.00  0.40           H  \r\n",
      "ATOM    275  HA2 GLY A 334      11.232  -6.691 -11.854  1.00  0.45           H  \r\n",
      "ATOM    276  HA3 GLY A 334       9.923  -6.712 -10.673  1.00  0.44           H  \r\n",
      "ATOM    277  N   ARG A 335      10.972  -4.228 -12.171  1.00  0.43           N  \r\n",
      "ATOM    278  CA  ARG A 335      10.869  -2.751 -12.332  1.00  0.45           C  \r\n",
      "ATOM    279  C   ARG A 335       9.397  -2.337 -12.280  1.00  0.45           C  \r\n",
      "ATOM    280  O   ARG A 335       9.056  -1.281 -11.786  1.00  0.44           O  \r\n",
      "ATOM    281  CB  ARG A 335      11.468  -2.343 -13.680  1.00  0.50           C  \r\n",
      "ATOM    282  CG  ARG A 335      11.267  -0.841 -13.897  1.00  0.58           C  \r\n",
      "ATOM    283  CD  ARG A 335      11.199  -0.548 -15.396  1.00  0.91           C  \r\n",
      "ATOM    284  NE  ARG A 335      11.634   0.854 -15.650  1.00  1.36           N  \r\n",
      "ATOM    285  CZ  ARG A 335      11.944   1.235 -16.860  1.00  1.83           C  \r\n",
      "ATOM    286  NH1 ARG A 335      11.879   0.388 -17.853  1.00  2.18           N  \r\n",
      "ATOM    287  NH2 ARG A 335      12.322   2.464 -17.079  1.00  2.68           N  \r\n",
      "ATOM    288  H   ARG A 335      11.183  -4.791 -12.945  1.00  0.47           H  \r\n",
      "ATOM    289  HA  ARG A 335      11.410  -2.263 -11.534  1.00  0.44           H  \r\n",
      "ATOM    290  HB2 ARG A 335      12.524  -2.570 -13.688  1.00  0.51           H  \r\n",
      "ATOM    291  HB3 ARG A 335      10.976  -2.888 -14.472  1.00  0.56           H  \r\n",
      "ATOM    292  HG2 ARG A 335      10.346  -0.528 -13.427  1.00  0.81           H  \r\n",
      "ATOM    293  HG3 ARG A 335      12.095  -0.300 -13.464  1.00  0.83           H  \r\n",
      "ATOM    294  HD2 ARG A 335      11.851  -1.228 -15.925  1.00  1.56           H  \r\n",
      "ATOM    295  HD3 ARG A 335      10.185  -0.679 -15.743  1.00  1.51           H  \r\n",
      "ATOM    296  HE  ARG A 335      11.685   1.492 -14.908  1.00  2.00           H  \r\n",
      "ATOM    297 HH11 ARG A 335      11.591  -0.556 -17.690  1.00  2.17           H  \r\n",
      "ATOM    298 HH12 ARG A 335      12.118   0.683 -18.777  1.00  2.88           H  \r\n",
      "ATOM    299 HH21 ARG A 335      12.373   3.114 -16.321  1.00  3.10           H  \r\n",
      "ATOM    300 HH22 ARG A 335      12.560   2.757 -18.005  1.00  3.16           H  \r\n",
      "ATOM    301  N   GLU A 336       8.524  -3.160 -12.791  1.00  0.50           N  \r\n",
      "ATOM    302  CA  GLU A 336       7.074  -2.816 -12.776  1.00  0.54           C  \r\n",
      "ATOM    303  C   GLU A 336       6.613  -2.596 -11.333  1.00  0.48           C  \r\n",
      "ATOM    304  O   GLU A 336       6.146  -1.533 -10.975  1.00  0.44           O  \r\n",
      "ATOM    305  CB  GLU A 336       6.274  -3.964 -13.395  1.00  0.62           C  \r\n",
      "ATOM    306  CG  GLU A 336       5.611  -3.488 -14.689  1.00  1.19           C  \r\n",
      "ATOM    307  CD  GLU A 336       4.989  -4.684 -15.413  1.00  1.58           C  \r\n",
      "ATOM    308  OE1 GLU A 336       4.286  -5.443 -14.766  1.00  2.22           O  \r\n",
      "ATOM    309  OE2 GLU A 336       5.225  -4.820 -16.602  1.00  2.04           O  \r\n",
      "ATOM    310  H   GLU A 336       8.821  -4.006 -13.187  1.00  0.53           H  \r\n",
      "ATOM    311  HA  GLU A 336       6.911  -1.915 -13.348  1.00  0.57           H  \r\n",
      "ATOM    312  HB2 GLU A 336       6.938  -4.788 -13.612  1.00  1.01           H  \r\n",
      "ATOM    313  HB3 GLU A 336       5.513  -4.288 -12.701  1.00  1.01           H  \r\n",
      "ATOM    314  HG2 GLU A 336       4.841  -2.767 -14.455  1.00  1.72           H  \r\n",
      "ATOM    315  HG3 GLU A 336       6.352  -3.030 -15.326  1.00  1.72           H  \r\n",
      "ATOM    316  N   ARG A 337       6.738  -3.595 -10.504  1.00  0.48           N  \r\n",
      "ATOM    317  CA  ARG A 337       6.303  -3.446  -9.086  1.00  0.46           C  \r\n",
      "ATOM    318  C   ARG A 337       7.106  -2.330  -8.418  1.00  0.39           C  \r\n",
      "ATOM    319  O   ARG A 337       6.628  -1.658  -7.526  1.00  0.36           O  \r\n",
      "ATOM    320  CB  ARG A 337       6.537  -4.762  -8.342  1.00  0.51           C  \r\n",
      "ATOM    321  CG  ARG A 337       5.607  -5.833  -8.912  1.00  0.63           C  \r\n",
      "ATOM    322  CD  ARG A 337       4.238  -5.725  -8.239  1.00  1.16           C  \r\n",
      "ATOM    323  NE  ARG A 337       3.657  -7.092  -8.051  1.00  1.43           N  \r\n",
      "ATOM    324  CZ  ARG A 337       3.584  -7.941  -9.044  1.00  2.15           C  \r\n",
      "ATOM    325  NH1 ARG A 337       3.827  -7.556 -10.268  1.00  2.74           N  \r\n",
      "ATOM    326  NH2 ARG A 337       3.203  -9.168  -8.818  1.00  2.77           N  \r\n",
      "ATOM    327  H   ARG A 337       7.115  -4.444 -10.814  1.00  0.53           H  \r\n",
      "ATOM    328  HA  ARG A 337       5.253  -3.199  -9.057  1.00  0.46           H  \r\n",
      "ATOM    329  HB2 ARG A 337       7.565  -5.071  -8.469  1.00  0.55           H  \r\n",
      "ATOM    330  HB3 ARG A 337       6.327  -4.626  -7.292  1.00  0.53           H  \r\n",
      "ATOM    331  HG2 ARG A 337       5.504  -5.682  -9.976  1.00  1.23           H  \r\n",
      "ATOM    332  HG3 ARG A 337       6.024  -6.811  -8.725  1.00  1.10           H  \r\n",
      "ATOM    333  HD2 ARG A 337       4.353  -5.276  -7.269  1.00  1.72           H  \r\n",
      "ATOM    334  HD3 ARG A 337       3.587  -5.101  -8.845  1.00  1.86           H  \r\n",
      "ATOM    335  HE  ARG A 337       3.376  -7.375  -7.156  1.00  1.69           H  \r\n",
      "ATOM    336 HH11 ARG A 337       4.062  -6.607 -10.459  1.00  2.62           H  \r\n",
      "ATOM    337 HH12 ARG A 337       3.777  -8.217 -11.017  1.00  3.54           H  \r\n",
      "ATOM    338 HH21 ARG A 337       2.968  -9.456  -7.890  1.00  2.78           H  \r\n",
      "ATOM    339 HH22 ARG A 337       3.145  -9.821  -9.573  1.00  3.47           H  \r\n",
      "ATOM    340  N   PHE A 338       8.322  -2.126  -8.840  1.00  0.39           N  \r\n",
      "ATOM    341  CA  PHE A 338       9.150  -1.053  -8.226  1.00  0.35           C  \r\n",
      "ATOM    342  C   PHE A 338       8.411   0.283  -8.320  1.00  0.33           C  \r\n",
      "ATOM    343  O   PHE A 338       8.162   0.935  -7.328  1.00  0.29           O  \r\n",
      "ATOM    344  CB  PHE A 338      10.483  -0.949  -8.967  1.00  0.39           C  \r\n",
      "ATOM    345  CG  PHE A 338      11.242   0.256  -8.464  1.00  0.37           C  \r\n",
      "ATOM    346  CD1 PHE A 338      11.823   0.234  -7.188  1.00  0.38           C  \r\n",
      "ATOM    347  CD2 PHE A 338      11.363   1.396  -9.272  1.00  0.42           C  \r\n",
      "ATOM    348  CE1 PHE A 338      12.526   1.354  -6.718  1.00  0.40           C  \r\n",
      "ATOM    349  CE2 PHE A 338      12.067   2.516  -8.803  1.00  0.43           C  \r\n",
      "ATOM    350  CZ  PHE A 338      12.648   2.494  -7.526  1.00  0.41           C  \r\n",
      "ATOM    351  H   PHE A 338       8.690  -2.679  -9.561  1.00  0.42           H  \r\n",
      "ATOM    352  HA  PHE A 338       9.333  -1.290  -7.188  1.00  0.35           H  \r\n",
      "ATOM    353  HB2 PHE A 338      11.065  -1.842  -8.790  1.00  0.42           H  \r\n",
      "ATOM    354  HB3 PHE A 338      10.300  -0.842 -10.026  1.00  0.43           H  \r\n",
      "ATOM    355  HD1 PHE A 338      11.729  -0.644  -6.566  1.00  0.42           H  \r\n",
      "ATOM    356  HD2 PHE A 338      10.915   1.412 -10.254  1.00  0.48           H  \r\n",
      "ATOM    357  HE1 PHE A 338      12.973   1.337  -5.735  1.00  0.45           H  \r\n",
      "ATOM    358  HE2 PHE A 338      12.160   3.394  -9.424  1.00  0.50           H  \r\n",
      "ATOM    359  HZ  PHE A 338      13.189   3.356  -7.164  1.00  0.44           H  \r\n",
      "ATOM    360  N   GLU A 339       8.065   0.699  -9.507  1.00  0.37           N  \r\n",
      "ATOM    361  CA  GLU A 339       7.351   1.998  -9.667  1.00  0.38           C  \r\n",
      "ATOM    362  C   GLU A 339       6.124   2.044  -8.750  1.00  0.33           C  \r\n",
      "ATOM    363  O   GLU A 339       5.763   3.085  -8.236  1.00  0.30           O  \r\n",
      "ATOM    364  CB  GLU A 339       6.901   2.152 -11.122  1.00  0.45           C  \r\n",
      "ATOM    365  CG  GLU A 339       8.128   2.207 -12.035  1.00  0.58           C  \r\n",
      "ATOM    366  CD  GLU A 339       7.740   2.830 -13.377  1.00  0.98           C  \r\n",
      "ATOM    367  OE1 GLU A 339       7.542   4.034 -13.413  1.00  1.66           O  \r\n",
      "ATOM    368  OE2 GLU A 339       7.646   2.094 -14.345  1.00  1.53           O  \r\n",
      "ATOM    369  H   GLU A 339       8.282   0.159 -10.295  1.00  0.41           H  \r\n",
      "ATOM    370  HA  GLU A 339       8.018   2.807  -9.412  1.00  0.38           H  \r\n",
      "ATOM    371  HB2 GLU A 339       6.283   1.310 -11.399  1.00  0.46           H  \r\n",
      "ATOM    372  HB3 GLU A 339       6.335   3.065 -11.229  1.00  0.48           H  \r\n",
      "ATOM    373  HG2 GLU A 339       8.898   2.805 -11.568  1.00  0.74           H  \r\n",
      "ATOM    374  HG3 GLU A 339       8.500   1.206 -12.199  1.00  0.81           H  \r\n",
      "ATOM    375  N   MET A 340       5.471   0.932  -8.550  1.00  0.33           N  \r\n",
      "ATOM    376  CA  MET A 340       4.260   0.923  -7.679  1.00  0.30           C  \r\n",
      "ATOM    377  C   MET A 340       4.637   1.300  -6.243  1.00  0.26           C  \r\n",
      "ATOM    378  O   MET A 340       4.032   2.165  -5.641  1.00  0.25           O  \r\n",
      "ATOM    379  CB  MET A 340       3.635  -0.475  -7.690  1.00  0.34           C  \r\n",
      "ATOM    380  CG  MET A 340       2.254  -0.422  -7.033  1.00  0.34           C  \r\n",
      "ATOM    381  SD  MET A 340       1.587  -2.100  -6.895  1.00  0.43           S  \r\n",
      "ATOM    382  CE  MET A 340       2.169  -2.437  -5.215  1.00  0.44           C  \r\n",
      "ATOM    383  H   MET A 340       5.771   0.104  -8.982  1.00  0.36           H  \r\n",
      "ATOM    384  HA  MET A 340       3.543   1.636  -8.057  1.00  0.31           H  \r\n",
      "ATOM    385  HB2 MET A 340       3.536  -0.816  -8.711  1.00  0.41           H  \r\n",
      "ATOM    386  HB3 MET A 340       4.266  -1.158  -7.142  1.00  0.34           H  \r\n",
      "ATOM    387  HG2 MET A 340       2.341   0.013  -6.048  1.00  0.35           H  \r\n",
      "ATOM    388  HG3 MET A 340       1.591   0.180  -7.636  1.00  0.44           H  \r\n",
      "ATOM    389  HE1 MET A 340       3.233  -2.257  -5.160  1.00  1.12           H  \r\n",
      "ATOM    390  HE2 MET A 340       1.661  -1.789  -4.519  1.00  1.15           H  \r\n",
      "ATOM    391  HE3 MET A 340       1.959  -3.468  -4.963  1.00  1.08           H  \r\n",
      "ATOM    392  N   PHE A 341       5.623   0.655  -5.685  1.00  0.24           N  \r\n",
      "ATOM    393  CA  PHE A 341       6.026   0.973  -4.285  1.00  0.22           C  \r\n",
      "ATOM    394  C   PHE A 341       6.504   2.425  -4.197  1.00  0.22           C  \r\n",
      "ATOM    395  O   PHE A 341       6.117   3.162  -3.313  1.00  0.22           O  \r\n",
      "ATOM    396  CB  PHE A 341       7.158   0.037  -3.859  1.00  0.22           C  \r\n",
      "ATOM    397  CG  PHE A 341       6.583  -1.308  -3.482  1.00  0.23           C  \r\n",
      "ATOM    398  CD1 PHE A 341       5.838  -1.447  -2.302  1.00  0.26           C  \r\n",
      "ATOM    399  CD2 PHE A 341       6.794  -2.419  -4.313  1.00  0.26           C  \r\n",
      "ATOM    400  CE1 PHE A 341       5.304  -2.696  -1.952  1.00  0.29           C  \r\n",
      "ATOM    401  CE2 PHE A 341       6.260  -3.668  -3.963  1.00  0.29           C  \r\n",
      "ATOM    402  CZ  PHE A 341       5.515  -3.806  -2.782  1.00  0.29           C  \r\n",
      "ATOM    403  H   PHE A 341       6.095  -0.045  -6.184  1.00  0.26           H  \r\n",
      "ATOM    404  HA  PHE A 341       5.180   0.834  -3.628  1.00  0.22           H  \r\n",
      "ATOM    405  HB2 PHE A 341       7.852  -0.084  -4.678  1.00  0.24           H  \r\n",
      "ATOM    406  HB3 PHE A 341       7.674   0.458  -3.009  1.00  0.23           H  \r\n",
      "ATOM    407  HD1 PHE A 341       5.675  -0.591  -1.662  1.00  0.30           H  \r\n",
      "ATOM    408  HD2 PHE A 341       7.368  -2.312  -5.222  1.00  0.30           H  \r\n",
      "ATOM    409  HE1 PHE A 341       4.730  -2.802  -1.043  1.00  0.33           H  \r\n",
      "ATOM    410  HE2 PHE A 341       6.423  -4.523  -4.603  1.00  0.34           H  \r\n",
      "ATOM    411  HZ  PHE A 341       5.104  -4.768  -2.513  1.00  0.32           H  \r\n",
      "ATOM    412  N   ARG A 342       7.346   2.839  -5.102  1.00  0.25           N  \r\n",
      "ATOM    413  CA  ARG A 342       7.857   4.239  -5.071  1.00  0.27           C  \r\n",
      "ATOM    414  C   ARG A 342       6.689   5.219  -4.938  1.00  0.25           C  \r\n",
      "ATOM    415  O   ARG A 342       6.760   6.185  -4.205  1.00  0.26           O  \r\n",
      "ATOM    416  CB  ARG A 342       8.617   4.527  -6.367  1.00  0.33           C  \r\n",
      "ATOM    417  CG  ARG A 342       9.268   5.909  -6.283  1.00  0.43           C  \r\n",
      "ATOM    418  CD  ARG A 342       9.680   6.364  -7.684  1.00  0.88           C  \r\n",
      "ATOM    419  NE  ARG A 342      10.307   7.714  -7.603  1.00  1.25           N  \r\n",
      "ATOM    420  CZ  ARG A 342      10.999   8.177  -8.610  1.00  1.72           C  \r\n",
      "ATOM    421  NH1 ARG A 342      11.142   7.464  -9.694  1.00  2.19           N  \r\n",
      "ATOM    422  NH2 ARG A 342      11.549   9.359  -8.532  1.00  2.44           N  \r\n",
      "ATOM    423  H   ARG A 342       7.647   2.227  -5.802  1.00  0.28           H  \r\n",
      "ATOM    424  HA  ARG A 342       8.524   4.359  -4.231  1.00  0.29           H  \r\n",
      "ATOM    425  HB2 ARG A 342       9.382   3.776  -6.510  1.00  0.37           H  \r\n",
      "ATOM    426  HB3 ARG A 342       7.931   4.505  -7.200  1.00  0.37           H  \r\n",
      "ATOM    427  HG2 ARG A 342       8.563   6.613  -5.867  1.00  0.80           H  \r\n",
      "ATOM    428  HG3 ARG A 342      10.142   5.857  -5.652  1.00  0.77           H  \r\n",
      "ATOM    429  HD2 ARG A 342      10.389   5.662  -8.096  1.00  1.51           H  \r\n",
      "ATOM    430  HD3 ARG A 342       8.808   6.410  -8.319  1.00  1.42           H  \r\n",
      "ATOM    431  HE  ARG A 342      10.202   8.254  -6.792  1.00  1.84           H  \r\n",
      "ATOM    432 HH11 ARG A 342      10.723   6.559  -9.759  1.00  2.21           H  \r\n",
      "ATOM    433 HH12 ARG A 342      11.673   7.823 -10.462  1.00  2.91           H  \r\n",
      "ATOM    434 HH21 ARG A 342      11.440   9.907  -7.703  1.00  2.77           H  \r\n",
      "ATOM    435 HH22 ARG A 342      12.079   9.715  -9.301  1.00  2.94           H  \r\n",
      "ATOM    436  N   GLU A 343       5.617   4.985  -5.644  1.00  0.25           N  \r\n",
      "ATOM    437  CA  GLU A 343       4.453   5.912  -5.558  1.00  0.25           C  \r\n",
      "ATOM    438  C   GLU A 343       3.963   5.993  -4.111  1.00  0.21           C  \r\n",
      "ATOM    439  O   GLU A 343       3.722   7.063  -3.587  1.00  0.22           O  \r\n",
      "ATOM    440  CB  GLU A 343       3.323   5.397  -6.451  1.00  0.28           C  \r\n",
      "ATOM    441  CG  GLU A 343       2.102   6.307  -6.305  1.00  0.33           C  \r\n",
      "ATOM    442  CD  GLU A 343       1.514   6.601  -7.687  1.00  1.05           C  \r\n",
      "ATOM    443  OE1 GLU A 343       1.553   5.716  -8.526  1.00  1.74           O  \r\n",
      "ATOM    444  OE2 GLU A 343       1.034   7.705  -7.882  1.00  1.74           O  \r\n",
      "ATOM    445  H   GLU A 343       5.579   4.203  -6.234  1.00  0.27           H  \r\n",
      "ATOM    446  HA  GLU A 343       4.753   6.895  -5.890  1.00  0.28           H  \r\n",
      "ATOM    447  HB2 GLU A 343       3.650   5.394  -7.481  1.00  0.35           H  \r\n",
      "ATOM    448  HB3 GLU A 343       3.058   4.393  -6.154  1.00  0.32           H  \r\n",
      "ATOM    449  HG2 GLU A 343       1.359   5.817  -5.693  1.00  0.69           H  \r\n",
      "ATOM    450  HG3 GLU A 343       2.398   7.234  -5.838  1.00  0.64           H  \r\n",
      "ATOM    451  N   LEU A 344       3.812   4.873  -3.460  1.00  0.20           N  \r\n",
      "ATOM    452  CA  LEU A 344       3.335   4.890  -2.048  1.00  0.19           C  \r\n",
      "ATOM    453  C   LEU A 344       4.345   5.636  -1.175  1.00  0.20           C  \r\n",
      "ATOM    454  O   LEU A 344       3.984   6.333  -0.248  1.00  0.23           O  \r\n",
      "ATOM    455  CB  LEU A 344       3.191   3.454  -1.542  1.00  0.20           C  \r\n",
      "ATOM    456  CG  LEU A 344       2.070   2.753  -2.309  1.00  0.24           C  \r\n",
      "ATOM    457  CD1 LEU A 344       2.177   1.241  -2.105  1.00  0.29           C  \r\n",
      "ATOM    458  CD2 LEU A 344       0.716   3.242  -1.790  1.00  0.30           C  \r\n",
      "ATOM    459  H   LEU A 344       4.010   4.020  -3.900  1.00  0.21           H  \r\n",
      "ATOM    460  HA  LEU A 344       2.378   5.387  -1.997  1.00  0.20           H  \r\n",
      "ATOM    461  HB2 LEU A 344       4.120   2.923  -1.695  1.00  0.22           H  \r\n",
      "ATOM    462  HB3 LEU A 344       2.951   3.465  -0.489  1.00  0.23           H  \r\n",
      "ATOM    463  HG  LEU A 344       2.158   2.981  -3.362  1.00  0.27           H  \r\n",
      "ATOM    464 HD11 LEU A 344       2.657   1.039  -1.158  1.00  1.02           H  \r\n",
      "ATOM    465 HD12 LEU A 344       1.189   0.806  -2.107  1.00  1.03           H  \r\n",
      "ATOM    466 HD13 LEU A 344       2.762   0.810  -2.904  1.00  1.00           H  \r\n",
      "ATOM    467 HD21 LEU A 344       0.835   4.216  -1.338  1.00  1.07           H  \r\n",
      "ATOM    468 HD22 LEU A 344       0.018   3.310  -2.612  1.00  1.04           H  \r\n",
      "ATOM    469 HD23 LEU A 344       0.340   2.547  -1.054  1.00  1.04           H  \r\n",
      "ATOM    470  N   ASN A 345       5.609   5.493  -1.460  1.00  0.24           N  \r\n",
      "ATOM    471  CA  ASN A 345       6.640   6.190  -0.643  1.00  0.29           C  \r\n",
      "ATOM    472  C   ASN A 345       6.376   7.697  -0.657  1.00  0.25           C  \r\n",
      "ATOM    473  O   ASN A 345       6.272   8.327   0.376  1.00  0.25           O  \r\n",
      "ATOM    474  CB  ASN A 345       8.026   5.913  -1.227  1.00  0.38           C  \r\n",
      "ATOM    475  CG  ASN A 345       9.084   6.627  -0.385  1.00  0.49           C  \r\n",
      "ATOM    476  OD1 ASN A 345       8.821   7.662   0.195  1.00  1.22           O  \r\n",
      "ATOM    477  ND2 ASN A 345      10.280   6.116  -0.292  1.00  0.58           N  \r\n",
      "ATOM    478  H   ASN A 345       5.880   4.926  -2.210  1.00  0.28           H  \r\n",
      "ATOM    479  HA  ASN A 345       6.599   5.827   0.373  1.00  0.32           H  \r\n",
      "ATOM    480  HB2 ASN A 345       8.214   4.849  -1.217  1.00  0.41           H  \r\n",
      "ATOM    481  HB3 ASN A 345       8.069   6.277  -2.242  1.00  0.41           H  \r\n",
      "ATOM    482 HD21 ASN A 345      10.493   5.282  -0.759  1.00  1.14           H  \r\n",
      "ATOM    483 HD22 ASN A 345      10.965   6.566   0.246  1.00  0.58           H  \r\n",
      "ATOM    484  N   GLU A 346       6.274   8.280  -1.819  1.00  0.27           N  \r\n",
      "ATOM    485  CA  GLU A 346       6.025   9.747  -1.898  1.00  0.28           C  \r\n",
      "ATOM    486  C   GLU A 346       4.693  10.081  -1.223  1.00  0.23           C  \r\n",
      "ATOM    487  O   GLU A 346       4.513  11.155  -0.687  1.00  0.25           O  \r\n",
      "ATOM    488  CB  GLU A 346       5.972  10.176  -3.367  1.00  0.34           C  \r\n",
      "ATOM    489  CG  GLU A 346       5.777  11.691  -3.452  1.00  0.40           C  \r\n",
      "ATOM    490  CD  GLU A 346       6.454  12.223  -4.717  1.00  1.00           C  \r\n",
      "ATOM    491  OE1 GLU A 346       7.602  11.878  -4.941  1.00  1.70           O  \r\n",
      "ATOM    492  OE2 GLU A 346       5.812  12.968  -5.440  1.00  1.72           O  \r\n",
      "ATOM    493  H   GLU A 346       6.367   7.754  -2.641  1.00  0.30           H  \r\n",
      "ATOM    494  HA  GLU A 346       6.824  10.274  -1.399  1.00  0.31           H  \r\n",
      "ATOM    495  HB2 GLU A 346       6.897   9.903  -3.854  1.00  0.40           H  \r\n",
      "ATOM    496  HB3 GLU A 346       5.147   9.681  -3.856  1.00  0.37           H  \r\n",
      "ATOM    497  HG2 GLU A 346       4.721  11.916  -3.486  1.00  0.82           H  \r\n",
      "ATOM    498  HG3 GLU A 346       6.218  12.161  -2.586  1.00  0.80           H  \r\n",
      "ATOM    499  N   ALA A 347       3.757   9.173  -1.250  1.00  0.22           N  \r\n",
      "ATOM    500  CA  ALA A 347       2.435   9.441  -0.614  1.00  0.23           C  \r\n",
      "ATOM    501  C   ALA A 347       2.619   9.699   0.884  1.00  0.22           C  \r\n",
      "ATOM    502  O   ALA A 347       2.233  10.730   1.398  1.00  0.24           O  \r\n",
      "ATOM    503  CB  ALA A 347       1.520   8.231  -0.814  1.00  0.27           C  \r\n",
      "ATOM    504  H   ALA A 347       3.921   8.315  -1.693  1.00  0.23           H  \r\n",
      "ATOM    505  HA  ALA A 347       1.986  10.309  -1.073  1.00  0.26           H  \r\n",
      "ATOM    506  HB1 ALA A 347       2.097   7.402  -1.194  1.00  1.00           H  \r\n",
      "ATOM    507  HB2 ALA A 347       1.074   7.957   0.131  1.00  1.01           H  \r\n",
      "ATOM    508  HB3 ALA A 347       0.741   8.481  -1.520  1.00  1.07           H  \r\n",
      "ATOM    509  N   LEU A 348       3.199   8.767   1.589  1.00  0.22           N  \r\n",
      "ATOM    510  CA  LEU A 348       3.399   8.953   3.055  1.00  0.24           C  \r\n",
      "ATOM    511  C   LEU A 348       4.295  10.169   3.306  1.00  0.27           C  \r\n",
      "ATOM    512  O   LEU A 348       4.025  10.983   4.166  1.00  0.29           O  \r\n",
      "ATOM    513  CB  LEU A 348       4.067   7.705   3.639  1.00  0.25           C  \r\n",
      "ATOM    514  CG  LEU A 348       3.030   6.592   3.810  1.00  0.24           C  \r\n",
      "ATOM    515  CD1 LEU A 348       1.852   7.111   4.634  1.00  0.29           C  \r\n",
      "ATOM    516  CD2 LEU A 348       2.532   6.142   2.435  1.00  0.24           C  \r\n",
      "ATOM    517  H   LEU A 348       3.497   7.940   1.156  1.00  0.22           H  \r\n",
      "ATOM    518  HA  LEU A 348       2.442   9.106   3.532  1.00  0.25           H  \r\n",
      "ATOM    519  HB2 LEU A 348       4.847   7.369   2.971  1.00  0.25           H  \r\n",
      "ATOM    520  HB3 LEU A 348       4.496   7.944   4.601  1.00  0.28           H  \r\n",
      "ATOM    521  HG  LEU A 348       3.484   5.755   4.321  1.00  0.27           H  \r\n",
      "ATOM    522 HD11 LEU A 348       2.222   7.696   5.463  1.00  1.08           H  \r\n",
      "ATOM    523 HD12 LEU A 348       1.221   7.727   4.012  1.00  1.06           H  \r\n",
      "ATOM    524 HD13 LEU A 348       1.280   6.275   5.011  1.00  1.03           H  \r\n",
      "ATOM    525 HD21 LEU A 348       3.363   6.103   1.748  1.00  1.01           H  \r\n",
      "ATOM    526 HD22 LEU A 348       2.086   5.162   2.517  1.00  1.05           H  \r\n",
      "ATOM    527 HD23 LEU A 348       1.796   6.843   2.072  1.00  1.03           H  \r\n",
      "ATOM    528  N   GLU A 349       5.363  10.296   2.567  1.00  0.30           N  \r\n",
      "ATOM    529  CA  GLU A 349       6.280  11.455   2.771  1.00  0.35           C  \r\n",
      "ATOM    530  C   GLU A 349       5.509  12.766   2.597  1.00  0.32           C  \r\n",
      "ATOM    531  O   GLU A 349       5.793  13.752   3.248  1.00  0.34           O  \r\n",
      "ATOM    532  CB  GLU A 349       7.418  11.392   1.749  1.00  0.40           C  \r\n",
      "ATOM    533  CG  GLU A 349       8.235  10.116   1.971  1.00  0.48           C  \r\n",
      "ATOM    534  CD  GLU A 349       9.727  10.437   1.863  1.00  1.13           C  \r\n",
      "ATOM    535  OE1 GLU A 349      10.067  11.338   1.115  1.00  1.91           O  \r\n",
      "ATOM    536  OE2 GLU A 349      10.503   9.773   2.531  1.00  1.68           O  \r\n",
      "ATOM    537  H   GLU A 349       5.567   9.626   1.883  1.00  0.31           H  \r\n",
      "ATOM    538  HA  GLU A 349       6.693  11.412   3.768  1.00  0.39           H  \r\n",
      "ATOM    539  HB2 GLU A 349       7.005  11.387   0.750  1.00  0.38           H  \r\n",
      "ATOM    540  HB3 GLU A 349       8.059  12.252   1.870  1.00  0.46           H  \r\n",
      "ATOM    541  HG2 GLU A 349       8.021   9.719   2.952  1.00  0.90           H  \r\n",
      "ATOM    542  HG3 GLU A 349       7.971   9.385   1.221  1.00  0.78           H  \r\n",
      "ATOM    543  N   LEU A 350       4.534  12.789   1.730  1.00  0.29           N  \r\n",
      "ATOM    544  CA  LEU A 350       3.751  14.041   1.526  1.00  0.29           C  \r\n",
      "ATOM    545  C   LEU A 350       3.021  14.391   2.822  1.00  0.28           C  \r\n",
      "ATOM    546  O   LEU A 350       3.004  15.527   3.252  1.00  0.32           O  \r\n",
      "ATOM    547  CB  LEU A 350       2.730  13.833   0.405  1.00  0.29           C  \r\n",
      "ATOM    548  CG  LEU A 350       2.280  15.193  -0.135  1.00  0.34           C  \r\n",
      "ATOM    549  CD1 LEU A 350       1.720  15.022  -1.548  1.00  0.41           C  \r\n",
      "ATOM    550  CD2 LEU A 350       1.192  15.767   0.775  1.00  0.38           C  \r\n",
      "ATOM    551  H   LEU A 350       4.316  11.985   1.216  1.00  0.30           H  \r\n",
      "ATOM    552  HA  LEU A 350       4.421  14.846   1.261  1.00  0.32           H  \r\n",
      "ATOM    553  HB2 LEU A 350       3.182  13.261  -0.392  1.00  0.33           H  \r\n",
      "ATOM    554  HB3 LEU A 350       1.875  13.300   0.791  1.00  0.28           H  \r\n",
      "ATOM    555  HG  LEU A 350       3.123  15.867  -0.161  1.00  0.49           H  \r\n",
      "ATOM    556 HD11 LEU A 350       1.317  14.026  -1.658  1.00  1.08           H  \r\n",
      "ATOM    557 HD12 LEU A 350       0.937  15.748  -1.715  1.00  1.15           H  \r\n",
      "ATOM    558 HD13 LEU A 350       2.510  15.173  -2.269  1.00  1.06           H  \r\n",
      "ATOM    559 HD21 LEU A 350       0.387  15.054   0.865  1.00  1.15           H  \r\n",
      "ATOM    560 HD22 LEU A 350       1.606  15.968   1.750  1.00  1.06           H  \r\n",
      "ATOM    561 HD23 LEU A 350       0.815  16.685   0.349  1.00  1.07           H  \r\n",
      "ATOM    562  N   LYS A 351       2.423  13.419   3.451  1.00  0.27           N  \r\n",
      "ATOM    563  CA  LYS A 351       1.698  13.688   4.722  1.00  0.31           C  \r\n",
      "ATOM    564  C   LYS A 351       2.680  14.257   5.748  1.00  0.38           C  \r\n",
      "ATOM    565  O   LYS A 351       2.368  15.175   6.480  1.00  0.44           O  \r\n",
      "ATOM    566  CB  LYS A 351       1.104  12.381   5.251  1.00  0.33           C  \r\n",
      "ATOM    567  CG  LYS A 351       0.134  12.681   6.394  1.00  0.40           C  \r\n",
      "ATOM    568  CD  LYS A 351      -0.618  11.402   6.767  1.00  0.45           C  \r\n",
      "ATOM    569  CE  LYS A 351      -1.894  11.761   7.531  1.00  0.77           C  \r\n",
      "ATOM    570  NZ  LYS A 351      -2.257  10.639   8.442  1.00  1.56           N  \r\n",
      "ATOM    571  H   LYS A 351       2.455  12.509   3.089  1.00  0.26           H  \r\n",
      "ATOM    572  HA  LYS A 351       0.907  14.401   4.544  1.00  0.31           H  \r\n",
      "ATOM    573  HB2 LYS A 351       0.576  11.879   4.453  1.00  0.35           H  \r\n",
      "ATOM    574  HB3 LYS A 351       1.898  11.745   5.612  1.00  0.38           H  \r\n",
      "ATOM    575  HG2 LYS A 351       0.687  13.038   7.251  1.00  0.53           H  \r\n",
      "ATOM    576  HG3 LYS A 351      -0.573  13.434   6.080  1.00  0.52           H  \r\n",
      "ATOM    577  HD2 LYS A 351      -0.876  10.862   5.867  1.00  0.55           H  \r\n",
      "ATOM    578  HD3 LYS A 351       0.010  10.783   7.389  1.00  0.63           H  \r\n",
      "ATOM    579  HE2 LYS A 351      -1.727  12.656   8.111  1.00  1.30           H  \r\n",
      "ATOM    580  HE3 LYS A 351      -2.698  11.930   6.830  1.00  1.15           H  \r\n",
      "ATOM    581  HZ1 LYS A 351      -1.861   9.751   8.074  1.00  2.14           H  \r\n",
      "ATOM    582  HZ2 LYS A 351      -1.872  10.825   9.391  1.00  2.02           H  \r\n",
      "ATOM    583  HZ3 LYS A 351      -3.292  10.557   8.497  1.00  2.00           H  \r\n",
      "ATOM    584  N   ASP A 352       3.866  13.716   5.804  1.00  0.42           N  \r\n",
      "ATOM    585  CA  ASP A 352       4.874  14.221   6.778  1.00  0.51           C  \r\n",
      "ATOM    586  C   ASP A 352       5.093  15.720   6.560  1.00  0.51           C  \r\n",
      "ATOM    587  O   ASP A 352       5.209  16.483   7.498  1.00  0.59           O  \r\n",
      "ATOM    588  CB  ASP A 352       6.196  13.479   6.573  1.00  0.58           C  \r\n",
      "ATOM    589  CG  ASP A 352       6.074  12.056   7.119  1.00  0.67           C  \r\n",
      "ATOM    590  OD1 ASP A 352       5.104  11.396   6.785  1.00  1.14           O  \r\n",
      "ATOM    591  OD2 ASP A 352       6.952  11.650   7.862  1.00  1.43           O  \r\n",
      "ATOM    592  H   ASP A 352       4.095  12.977   5.202  1.00  0.42           H  \r\n",
      "ATOM    593  HA  ASP A 352       4.518  14.052   7.783  1.00  0.56           H  \r\n",
      "ATOM    594  HB2 ASP A 352       6.427  13.441   5.518  1.00  0.56           H  \r\n",
      "ATOM    595  HB3 ASP A 352       6.985  13.997   7.096  1.00  0.68           H  \r\n",
      "ATOM    596  N   ALA A 353       5.155  16.147   5.328  1.00  0.49           N  \r\n",
      "ATOM    597  CA  ALA A 353       5.372  17.596   5.053  1.00  0.56           C  \r\n",
      "ATOM    598  C   ALA A 353       4.154  18.396   5.520  1.00  0.56           C  \r\n",
      "ATOM    599  O   ALA A 353       4.260  19.554   5.872  1.00  0.66           O  \r\n",
      "ATOM    600  CB  ALA A 353       5.574  17.805   3.550  1.00  0.64           C  \r\n",
      "ATOM    601  H   ALA A 353       5.062  15.516   4.585  1.00  0.49           H  \r\n",
      "ATOM    602  HA  ALA A 353       6.250  17.935   5.583  1.00  0.63           H  \r\n",
      "ATOM    603  HB1 ALA A 353       6.214  17.027   3.161  1.00  1.30           H  \r\n",
      "ATOM    604  HB2 ALA A 353       4.617  17.767   3.050  1.00  1.11           H  \r\n",
      "ATOM    605  HB3 ALA A 353       6.032  18.767   3.379  1.00  1.23           H  \r\n",
      "ATOM    606  N   GLN A 354       2.999  17.789   5.528  1.00  0.53           N  \r\n",
      "ATOM    607  CA  GLN A 354       1.780  18.519   5.976  1.00  0.62           C  \r\n",
      "ATOM    608  C   GLN A 354       1.680  18.457   7.502  1.00  0.68           C  \r\n",
      "ATOM    609  O   GLN A 354       0.906  19.166   8.113  1.00  0.88           O  \r\n",
      "ATOM    610  CB  GLN A 354       0.541  17.869   5.358  1.00  0.64           C  \r\n",
      "ATOM    611  CG  GLN A 354      -0.144  18.864   4.419  1.00  0.97           C  \r\n",
      "ATOM    612  CD  GLN A 354      -1.506  18.311   3.996  1.00  0.84           C  \r\n",
      "ATOM    613  OE1 GLN A 354      -2.415  19.062   3.702  1.00  1.18           O  \r\n",
      "ATOM    614  NE2 GLN A 354      -1.687  17.019   3.953  1.00  0.68           N  \r\n",
      "ATOM    615  H   GLN A 354       2.934  16.854   5.242  1.00  0.51           H  \r\n",
      "ATOM    616  HA  GLN A 354       1.841  19.550   5.661  1.00  0.71           H  \r\n",
      "ATOM    617  HB2 GLN A 354       0.836  16.991   4.801  1.00  0.85           H  \r\n",
      "ATOM    618  HB3 GLN A 354      -0.145  17.585   6.141  1.00  0.89           H  \r\n",
      "ATOM    619  HG2 GLN A 354      -0.280  19.806   4.931  1.00  1.39           H  \r\n",
      "ATOM    620  HG3 GLN A 354       0.469  19.014   3.544  1.00  1.42           H  \r\n",
      "ATOM    621 HE21 GLN A 354      -0.954  16.414   4.190  1.00  0.73           H  \r\n",
      "ATOM    622 HE22 GLN A 354      -2.556  16.655   3.683  1.00  0.79           H  \r\n",
      "ATOM    623  N   ALA A 355       2.458  17.612   8.121  1.00  0.70           N  \r\n",
      "ATOM    624  CA  ALA A 355       2.410  17.502   9.606  1.00  0.83           C  \r\n",
      "ATOM    625  C   ALA A 355       3.074  18.731  10.233  1.00  0.91           C  \r\n",
      "ATOM    626  O   ALA A 355       2.564  19.316  11.167  1.00  1.23           O  \r\n",
      "ATOM    627  CB  ALA A 355       3.151  16.237  10.044  1.00  1.02           C  \r\n",
      "ATOM    628  H   ALA A 355       3.075  17.049   7.609  1.00  0.74           H  \r\n",
      "ATOM    629  HA  ALA A 355       1.381  17.446   9.929  1.00  0.95           H  \r\n",
      "ATOM    630  HB1 ALA A 355       3.572  15.749   9.177  1.00  1.52           H  \r\n",
      "ATOM    631  HB2 ALA A 355       3.943  16.501  10.728  1.00  1.58           H  \r\n",
      "ATOM    632  HB3 ALA A 355       2.459  15.567  10.533  1.00  1.31           H  \r\n",
      "ATOM    633  N   GLY A 356       4.212  19.124   9.726  1.00  1.03           N  \r\n",
      "ATOM    634  CA  GLY A 356       4.917  20.314  10.289  1.00  1.23           C  \r\n",
      "ATOM    635  C   GLY A 356       4.315  21.606   9.726  1.00  1.19           C  \r\n",
      "ATOM    636  O   GLY A 356       4.896  22.667   9.839  1.00  1.54           O  \r\n",
      "ATOM    637  H   GLY A 356       4.606  18.636   8.973  1.00  1.24           H  \r\n",
      "ATOM    638  HA2 GLY A 356       4.817  20.311  11.365  1.00  1.44           H  \r\n",
      "ATOM    639  HA3 GLY A 356       5.963  20.267  10.026  1.00  1.53           H  \r\n",
      "ATOM    640  N   LYS A 357       3.162  21.535   9.118  1.00  1.33           N  \r\n",
      "ATOM    641  CA  LYS A 357       2.546  22.768   8.552  1.00  1.54           C  \r\n",
      "ATOM    642  C   LYS A 357       1.765  23.498   9.646  1.00  1.98           C  \r\n",
      "ATOM    643  O   LYS A 357       0.766  23.013  10.140  1.00  2.51           O  \r\n",
      "ATOM    644  CB  LYS A 357       1.599  22.388   7.412  1.00  1.88           C  \r\n",
      "ATOM    645  CG  LYS A 357       1.623  23.481   6.342  1.00  2.25           C  \r\n",
      "ATOM    646  CD  LYS A 357       0.212  23.683   5.784  1.00  2.96           C  \r\n",
      "ATOM    647  CE  LYS A 357       0.244  24.754   4.692  1.00  3.50           C  \r\n",
      "ATOM    648  NZ  LYS A 357      -1.141  25.009   4.205  1.00  4.18           N  \r\n",
      "ATOM    649  H   LYS A 357       2.704  20.675   9.028  1.00  1.62           H  \r\n",
      "ATOM    650  HA  LYS A 357       3.323  23.416   8.173  1.00  1.72           H  \r\n",
      "ATOM    651  HB2 LYS A 357       1.918  21.451   6.978  1.00  2.23           H  \r\n",
      "ATOM    652  HB3 LYS A 357       0.596  22.284   7.796  1.00  2.14           H  \r\n",
      "ATOM    653  HG2 LYS A 357       1.973  24.405   6.780  1.00  2.39           H  \r\n",
      "ATOM    654  HG3 LYS A 357       2.285  23.188   5.542  1.00  2.54           H  \r\n",
      "ATOM    655  HD2 LYS A 357      -0.146  22.753   5.368  1.00  3.43           H  \r\n",
      "ATOM    656  HD3 LYS A 357      -0.447  24.001   6.578  1.00  3.17           H  \r\n",
      "ATOM    657  HE2 LYS A 357       0.658  25.666   5.094  1.00  3.67           H  \r\n",
      "ATOM    658  HE3 LYS A 357       0.857  24.412   3.871  1.00  3.76           H  \r\n",
      "ATOM    659  HZ1 LYS A 357      -1.824  24.577   4.859  1.00  4.46           H  \r\n",
      "ATOM    660  HZ2 LYS A 357      -1.310  26.034   4.159  1.00  4.55           H  \r\n",
      "ATOM    661  HZ3 LYS A 357      -1.257  24.594   3.258  1.00  4.44           H  \r\n",
      "ATOM    662  N   GLU A 358       2.216  24.661  10.029  1.00  2.43           N  \r\n",
      "ATOM    663  CA  GLU A 358       1.505  25.424  11.092  1.00  3.19           C  \r\n",
      "ATOM    664  C   GLU A 358       0.008  25.487  10.760  1.00  3.44           C  \r\n",
      "ATOM    665  O   GLU A 358      -0.359  25.786   9.641  1.00  3.47           O  \r\n",
      "ATOM    666  CB  GLU A 358       2.071  26.845  11.161  1.00  3.91           C  \r\n",
      "ATOM    667  CG  GLU A 358       2.237  27.262  12.624  1.00  4.53           C  \r\n",
      "ATOM    668  CD  GLU A 358       2.598  28.747  12.693  1.00  5.25           C  \r\n",
      "ATOM    669  OE1 GLU A 358       1.947  29.526  12.015  1.00  5.65           O  \r\n",
      "ATOM    670  OE2 GLU A 358       3.517  29.080  13.422  1.00  5.71           O  \r\n",
      "ATOM    671  H   GLU A 358       3.024  25.032   9.618  1.00  2.59           H  \r\n",
      "ATOM    672  HA  GLU A 358       1.651  24.933  12.041  1.00  3.49           H  \r\n",
      "ATOM    673  HB2 GLU A 358       3.031  26.873  10.667  1.00  4.22           H  \r\n",
      "ATOM    674  HB3 GLU A 358       1.393  27.527  10.670  1.00  4.17           H  \r\n",
      "ATOM    675  HG2 GLU A 358       1.312  27.092  13.154  1.00  4.65           H  \r\n",
      "ATOM    676  HG3 GLU A 358       3.026  26.681  13.077  1.00  4.78           H  \r\n",
      "ATOM    677  N   PRO A 359      -0.816  25.205  11.741  1.00  4.08           N  \r\n",
      "ATOM    678  CA  PRO A 359      -2.278  25.228  11.562  1.00  4.74           C  \r\n",
      "ATOM    679  C   PRO A 359      -2.736  26.637  11.176  1.00  4.92           C  \r\n",
      "ATOM    680  O   PRO A 359      -1.965  27.576  11.189  1.00  4.94           O  \r\n",
      "ATOM    681  CB  PRO A 359      -2.849  24.827  12.930  1.00  5.61           C  \r\n",
      "ATOM    682  CG  PRO A 359      -1.655  24.581  13.885  1.00  5.57           C  \r\n",
      "ATOM    683  CD  PRO A 359      -0.364  24.845  13.097  1.00  4.60           C  \r\n",
      "ATOM    684  HA  PRO A 359      -2.579  24.513  10.813  1.00  4.84           H  \r\n",
      "ATOM    685  HB2 PRO A 359      -3.472  25.623  13.314  1.00  6.02           H  \r\n",
      "ATOM    686  HB3 PRO A 359      -3.428  23.921  12.834  1.00  6.09           H  \r\n",
      "ATOM    687  HG2 PRO A 359      -1.716  25.254  14.729  1.00  6.03           H  \r\n",
      "ATOM    688  HG3 PRO A 359      -1.665  23.558  14.230  1.00  6.01           H  \r\n",
      "ATOM    689  HD2 PRO A 359       0.183  25.663  13.542  1.00  4.71           H  \r\n",
      "ATOM    690  HD3 PRO A 359       0.246  23.956  13.062  1.00  4.53           H  \r\n",
      "ATOM    691  N   GLY A 360      -3.984  26.791  10.832  1.00  5.45           N  \r\n",
      "ATOM    692  CA  GLY A 360      -4.489  28.138  10.445  1.00  5.95           C  \r\n",
      "ATOM    693  C   GLY A 360      -5.981  28.236  10.765  1.00  6.77           C  \r\n",
      "ATOM    694  O   GLY A 360      -6.401  27.621  11.732  1.00  7.24           O  \r\n",
      "ATOM    695  OXT GLY A 360      -6.679  28.924  10.039  1.00  7.15           O  \r\n",
      "ATOM    696  H   GLY A 360      -4.589  26.020  10.828  1.00  5.72           H  \r\n",
      "ATOM    697  HA2 GLY A 360      -3.950  28.896  10.995  1.00  5.99           H  \r\n",
      "ATOM    698  HA3 GLY A 360      -4.341  28.288   9.386  1.00  6.05           H  \r\n"
     ]
    }
   ],
   "source": [
    "!cat atoms_chain_A.txt"
   ]
  },
  {
   "cell_type": "markdown",
   "metadata": {},
   "source": [
    "Nice!"
   ]
  }
 ],
 "metadata": {
  "kernelspec": {
   "display_name": "Python 3",
   "language": "python",
   "name": "python3"
  },
  "language_info": {
   "codemirror_mode": {
    "name": "ipython",
    "version": 3
   },
   "file_extension": ".py",
   "mimetype": "text/x-python",
   "name": "python",
   "nbconvert_exporter": "python",
   "pygments_lexer": "ipython3",
   "version": "3.4.3"
  }
 },
 "nbformat": 4,
 "nbformat_minor": 0
}
