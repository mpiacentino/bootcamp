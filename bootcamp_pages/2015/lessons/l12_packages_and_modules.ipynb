{
 "cells": [
  {
   "cell_type": "markdown",
   "metadata": {},
   "source": [
    "# Lesson 12: Packages and modules"
   ]
  },
  {
   "cell_type": "markdown",
   "metadata": {},
   "source": [
    "*This tutorial was generated from a Jupyter notebook.  You can download the notebook [here](l12_packages_and_modules.ipynb).*"
   ]
  },
  {
   "cell_type": "markdown",
   "metadata": {},
   "source": [
    "The Python Standard Library has lots of built-in **modules** that contain useful functions and data types for doing specific tasks.  You can also use modules that other people write.  And you will undoubtedly write your own modules!\n",
    "\n",
    "A module is contained in a file that ends with `.py`.  This file can have **classes**, functions, and other objects.  We will not discuss defining your own classes in the bootcamp, so your modules essentially just contain functions.\n",
    "\n",
    "A **package** contains several related modules that are all grouped together under one name.  We will extensively use the [NumPy](http://www.numpy.org), [SciPy](http://www.scipy.org/), [Pandas](http://pandas.pydata.org), and [Matplotlib](http://matplotlib.org) packages, among others, in the bootcamp, and I'm sure you will also use them beyond."
   ]
  },
  {
   "cell_type": "markdown",
   "metadata": {},
   "source": [
    "## Example: using the `datetime` module\n",
    "Python's standard library comes with the `datetime` module, which provides functions functionality for nicely formatting dates and times.  As with all of the modules in the standard library, you can find its documentation [here](https://docs.python.org/3.5/library/).\n",
    "\n",
    "To access the contents of the module, we need to **import** it.  The requirement that we explicitly import modules keeps Python light weight.  We only use what we need.  The syntax is simple."
   ]
  },
  {
   "cell_type": "code",
   "execution_count": 1,
   "metadata": {
    "collapsed": true
   },
   "outputs": [],
   "source": [
    "import datetime"
   ]
  },
  {
   "cell_type": "markdown",
   "metadata": {},
   "source": [
    "That's it!  We now have the `datetime` module available for use.  Remember, in Python everything is an object, so if we want to access the methods and attributes, available in the `datetime` module, we use dot syntax.  If we're using IPython, we can type\n",
    "\n",
    "    datetime.\n",
    "\n",
    "(note the dot) and hit tab, and we will see what is available.  We see the following options:\n",
    "\n",
    "    datetime.MAXYEAR\n",
    "    datetime.MINYEAR\n",
    "    datetime.date\n",
    "    datetime.datetime\n",
    "    datetime.datetime_CAPI\n",
    "    dateimte.time\n",
    "    datetime.timedelta\n",
    "    datetime.timezone\n",
    "    datetime.tzinfo\n",
    "    \n",
    "The first two entries, `MAXYEAR` and `MINYEAR` are attributes that give the maximum and minimum values that a year can take.  The other entries are all classes, but you can think of them as submodules with their own methods and attributes.  We will use the two most commonly used objects, [`datetime.datetime`](https://docs.python.org/3.5/library/datetime.html#datetime-objects) and [`datetime.timedelta`](https://docs.python.org/3.5/library/datetime.html#timedelta-objects).  These modules would be useful for you, e.g., if you need to time stamp files you have created while scripting."
   ]
  },
  {
   "cell_type": "markdown",
   "metadata": {},
   "source": [
    "### What time is it?\n",
    "We can use the `datetime.datetime.now()` method to determine the current time."
   ]
  },
  {
   "cell_type": "code",
   "execution_count": 2,
   "metadata": {
    "collapsed": false
   },
   "outputs": [
    {
     "name": "stdout",
     "output_type": "stream",
     "text": [
      "2015-09-01 16:12:24.359176\n"
     ]
    },
    {
     "data": {
      "text/plain": [
       "datetime.datetime(2015, 9, 1, 16, 12, 24, 359176)"
      ]
     },
     "execution_count": 2,
     "metadata": {},
     "output_type": "execute_result"
    }
   ],
   "source": [
    "# Determine current time\n",
    "current_time = datetime.datetime.now()\n",
    "\n",
    "# See how prettily it is printed?\n",
    "print(current_time)\n",
    "\n",
    "# But here's what it looks like\n",
    "current_time"
   ]
  },
  {
   "cell_type": "markdown",
   "metadata": {},
   "source": [
    "Notice that the `datetime.datetime` object stores an sequence of year, month, day, hour, minue, second, decimal after second.  We can easily extract pieces if we like."
   ]
  },
  {
   "cell_type": "code",
   "execution_count": 3,
   "metadata": {
    "collapsed": false
   },
   "outputs": [
    {
     "name": "stdout",
     "output_type": "stream",
     "text": [
      "month: 9\n",
      "weekday (Mon = 0): 1\n"
     ]
    }
   ],
   "source": [
    "# Just month and day\n",
    "print('month:', current_time.month)\n",
    "\n",
    "# We can also ask for what day of the week it is\n",
    "print('weekday (Mon = 0):', current_time.weekday())"
   ]
  },
  {
   "cell_type": "markdown",
   "metadata": {},
   "source": [
    "On what day of the week did I write this module?"
   ]
  },
  {
   "cell_type": "markdown",
   "metadata": {},
   "source": [
    "### How old is Turing?\n",
    "We can also use the `datetime.timedelta` object to compute differences in time.  For example, we can find out how old Alan Turing would be if he were alive today."
   ]
  },
  {
   "cell_type": "code",
   "execution_count": 4,
   "metadata": {
    "collapsed": false
   },
   "outputs": [
    {
     "data": {
      "text/plain": [
       "datetime.timedelta(37690, 58345, 791906)"
      ]
     },
     "execution_count": 4,
     "metadata": {},
     "output_type": "execute_result"
    }
   ],
   "source": [
    "# Turing's birthday\n",
    "turing_bday = datetime.datetime(1912, 6, 23)\n",
    "\n",
    "# Today\n",
    "today = datetime.datetime.today()\n",
    "\n",
    "# The difference\n",
    "turing_age = today - turing_bday\n",
    "\n",
    "# Let's look at it\n",
    "turing_age"
   ]
  },
  {
   "cell_type": "markdown",
   "metadata": {},
   "source": [
    "Notice that we could use the minus (`-`) operator on `datetime.datetime` objects.  That is because the `datetime` module is cleverly written so that the minus operator works as expected.\n",
    "\n",
    "The `datetime.timedelta` object is given in (days, minutes, microseconds).  Great!  So, now we know how old Turing would be in units of days.  But, we would like to know how old he is in years.  We could just divide by 365."
   ]
  },
  {
   "cell_type": "code",
   "execution_count": 5,
   "metadata": {
    "collapsed": false
   },
   "outputs": [
    {
     "data": {
      "text/plain": [
       "103.26027397260275"
      ]
     },
     "execution_count": 5,
     "metadata": {},
     "output_type": "execute_result"
    }
   ],
   "source": [
    "turing_age.days / 365"
   ]
  },
  {
   "cell_type": "markdown",
   "metadata": {},
   "source": [
    "The problem here, though, is that we took a year to be 365 days.  What if we wanted to know how old he would be in terms of actual calendar days?  We would have to keep track of leap years.  Unfortunately, the `datetime` module does not have this capability.  We could compute it by hand along with a calendar, but that would be too tedious.  So, how to do it?"
   ]
  },
  {
   "cell_type": "markdown",
   "metadata": {},
   "source": [
    "## Third party packages\n",
    "Standard Python installations come with the standard library, of which the `datetime` module is a member.  Outside of the standard library, there are several packages available.  Several.  Ha!  There are currently over 65,000 packages available through the [Python Package Index](https://pypi.python.org/pypi), PyPI.  Usually, you can ask Google about what you are trying to do, and there is often a third party module to help you do it.  The most useful (for scientific computing) and thoroughly tested packages and modules are available using `conda`.  As it turns out, the `dateutil` package comes by default with Anaconda, and it offers the functionality we desire.\n",
    "\n",
    "`dateutil` is a package in that it contains several modules.  For some packages, importing the package will automatically import all of the modules as well.  For this particular package, though, we need to import the necessary modules separately.  This will often be the case (especially for some modules of SciPy and scikit-image), and you should be careful to read the docs to see when this is necessary."
   ]
  },
  {
   "cell_type": "code",
   "execution_count": 6,
   "metadata": {
    "collapsed": true
   },
   "outputs": [],
   "source": [
    "import dateutil.relativedelta"
   ]
  },
  {
   "cell_type": "markdown",
   "metadata": {},
   "source": [
    "Now, we can use the `dateutil.relativedelta` module to compute Turing's age."
   ]
  },
  {
   "cell_type": "code",
   "execution_count": 7,
   "metadata": {
    "collapsed": false
   },
   "outputs": [
    {
     "data": {
      "text/plain": [
       "relativedelta(years=+103, months=+2, days=+9, hours=+16, minutes=+12, seconds=+25, microseconds=+791906)"
      ]
     },
     "execution_count": 7,
     "metadata": {},
     "output_type": "execute_result"
    }
   ],
   "source": [
    "dateutil.relativedelta.relativedelta(today, turing_bday)"
   ]
  },
  {
   "cell_type": "markdown",
   "metadata": {},
   "source": [
    "This is a nicer output.  Of course, this is not very useful because months are kind of meaningless.  In practice, we want a unit of time that is not influenced by the Gregorian (or other) calendar.  We might be better off just reporting Turing's age in seconds."
   ]
  },
  {
   "cell_type": "code",
   "execution_count": 8,
   "metadata": {
    "collapsed": false
   },
   "outputs": [
    {
     "data": {
      "text/plain": [
       "3256474345.791906"
      ]
     },
     "execution_count": 8,
     "metadata": {},
     "output_type": "execute_result"
    }
   ],
   "source": [
    "turing_age.total_seconds()"
   ]
  },
  {
   "cell_type": "markdown",
   "metadata": {},
   "source": [
    "So, Turing would be 3.2 billion seconds old if he were alive today."
   ]
  },
  {
   "cell_type": "markdown",
   "metadata": {},
   "source": [
    "## Writing your own module\n",
    "To write your own module, you need to create a `.py` file a save it.  Let's call our module `dnatorna`.  So, we create a file called `dnatorna.py`.  We'll build this module to have two functions, based on things we've already written.  We'll have a function `rna()`, which converts a DNA sequence to an RNA sequence (just changes `T` to `U`), and another function `reverse_rna_complement()`, which returns the reverse RNA complement of a DNA template.  The contents of `dnatorna` should look as follows (ignoring the first line, which was used to load in the contents of the module into this Jupyter notebook)."
   ]
  },
  {
   "cell_type": "code",
   "execution_count": 9,
   "metadata": {
    "collapsed": true
   },
   "outputs": [],
   "source": [
    "# %load dnatorna.py\n",
    "\"\"\"\n",
    "Convert DNA sequences to RNA.\n",
    "\"\"\"\n",
    "\n",
    "#%%\n",
    "def rna(seq):\n",
    "    \"\"\"\n",
    "    Convert a DNA sequence to RNA.\n",
    "    \"\"\"\n",
    "\n",
    "    # Determine if original sequence was uppercase\n",
    "    seq_upper = seq.isupper()\n",
    "\n",
    "    # Convert to lowercase\n",
    "    seq = seq.lower()\n",
    "    \n",
    "    # Swap out 't' for 'u'\n",
    "    seq = seq.replace('t', 'u')\n",
    "    \n",
    "    # Return upper or lower case RNA sequence\n",
    "    if seq_upper:\n",
    "        return seq.upper()\n",
    "    else:\n",
    "        return seq\n",
    "        \n",
    "\n",
    "#%%\n",
    "def reverse_rna_complement(seq):\n",
    "    \"\"\"\n",
    "    Convert a DNA sequence into its reverse complement as RNA.\n",
    "    \"\"\"\n",
    "    \n",
    "    # Determine if original was uppercase\n",
    "    seq_upper = seq.isupper()\n",
    "\n",
    "    # Reverse sequence\n",
    "    seq = reversed(seq)    \n",
    "    \n",
    "    # Convert to upper\n",
    "    seq = seq.upper()\n",
    "    \n",
    "    # Compute complement\n",
    "    seq.replace('A', 'u')\n",
    "    seq.replace('T', 'a')\n",
    "    seq.replace('G', 'c')\n",
    "    seq.replace('C', 'g')\n",
    "    \n",
    "    # Return result\n",
    "    if seq_upper:\n",
    "        return seq.upper()\n",
    "    else:\n",
    "        return seq\n",
    "        "
   ]
  },
  {
   "cell_type": "markdown",
   "metadata": {},
   "source": [
    "Note that the file starts with a doc string.  Here's a rule."
   ]
  },
  {
   "cell_type": "markdown",
   "metadata": {},
   "source": [
    "<div class=\"alert alert-info\">\n",
    "<center>All modules should start with doc strings.</center>\n",
    "</div>"
   ]
  },
  {
   "cell_type": "markdown",
   "metadata": {},
   "source": [
    "I then have my two functions, each with doc strings.  We will now import the module and then use these functions."
   ]
  },
  {
   "cell_type": "code",
   "execution_count": 10,
   "metadata": {
    "collapsed": false
   },
   "outputs": [
    {
     "data": {
      "text/plain": [
       "'GACGAUCUAGGCGACCGACUGGCAUCG'"
      ]
     },
     "execution_count": 10,
     "metadata": {},
     "output_type": "execute_result"
    }
   ],
   "source": [
    "import dnatorna\n",
    "\n",
    "# Sequence\n",
    "seq = 'GACGATCTAGGCGACCGACTGGCATCG'\n",
    "\n",
    "# Convert to RNA\n",
    "dnatorna.rna(seq)"
   ]
  },
  {
   "cell_type": "markdown",
   "metadata": {},
   "source": [
    "We can also compute the reverse RNA complement."
   ]
  },
  {
   "cell_type": "code",
   "execution_count": 11,
   "metadata": {
    "collapsed": false
   },
   "outputs": [
    {
     "data": {
      "text/plain": [
       "'CGAUGCCAGUCGGUCGCCUAGAUCGUC'"
      ]
     },
     "execution_count": 11,
     "metadata": {},
     "output_type": "execute_result"
    }
   ],
   "source": [
    "dnatorna.reverse_rna_complement(seq)"
   ]
  },
  {
   "cell_type": "markdown",
   "metadata": {},
   "source": [
    "Wonderful!  You now have your own functioning module!"
   ]
  },
  {
   "cell_type": "markdown",
   "metadata": {},
   "source": [
    "## Importing modules in your `.py` files\n",
    "As our first foray into the glory of [PEP 8](https://www.python.org/dev/peps/pep-0008/), the Python style guide, we quote:\n",
    ">Imports are always put at the top of the file, just after any module comments and docstrings, and before module globals and constants.\n",
    ">\n",
    ">Imports should be grouped in the following order:\n",
    ">\n",
    ">1. standard library imports\n",
    ">2. related third party imports\n",
    ">3. local application/library specific imports\n",
    ">\n",
    ">You should put a blank line between each group of imports.\n",
    "\n",
    "You should follow this guide.  Therefore, going forward all of our lessons will have all necessary imports at the top of the document.  The only exception is when we are explicitly demonstrating a concept that requires an import."
   ]
  },
  {
   "cell_type": "markdown",
   "metadata": {},
   "source": [
    "## PYTHONPATH\n",
    "When we wrote the `dnatorna` module, we stored it in the directory that we were working in, or the `pwd`.  But what if you have a directory on your machine where you like to keep your coding projects?  (Actually, you will definitely have such a thing after we teach you about [version control with Git](l27_version_control_with_git.html).)  To allow for this, you should set your `$PYTHONPATH` **environment variable**.  We covered this in the [command line lesson](l02_intro_to_command_line.html).  Be sure that Python will be able to find your module after you create it!"
   ]
  }
 ],
 "metadata": {
  "kernelspec": {
   "display_name": "Python 3",
   "language": "python",
   "name": "python3"
  },
  "language_info": {
   "codemirror_mode": {
    "name": "ipython",
    "version": 3
   },
   "file_extension": ".py",
   "mimetype": "text/x-python",
   "name": "python",
   "nbconvert_exporter": "python",
   "pygments_lexer": "ipython3",
   "version": "3.4.3"
  }
 },
 "nbformat": 4,
 "nbformat_minor": 0
}
