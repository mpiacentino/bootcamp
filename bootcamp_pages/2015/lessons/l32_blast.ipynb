{
 "cells": [
  {
   "cell_type": "markdown",
   "metadata": {},
   "source": [
    "# Lesson 32: Basic Local Alignment Search Tool (BLAST)"
   ]
  },
  {
   "cell_type": "markdown",
   "metadata": {},
   "source": [
    "*This tutorial was generated from a Jupyter notebook.  You can download the notebook [here](l32_blast.ipynb).*"
   ]
  },
  {
   "cell_type": "code",
   "execution_count": 1,
   "metadata": {
    "collapsed": false
   },
   "outputs": [
    {
     "name": "stderr",
     "output_type": "stream",
     "text": [
      "/Users/saladi/anaconda3/lib/python3.4/site-packages/Bio/SearchIO/__init__.py:211: BiopythonExperimentalWarning: Bio.SearchIO is an experimental submodule which may undergo significant changes prior to its future official release.\n",
      "  BiopythonExperimentalWarning)\n"
     ]
    }
   ],
   "source": [
    "import Bio.Entrez\n",
    "import Bio.SeqIO\n",
    "import Bio.Blast.NCBIWWW\n",
    "import Bio.SearchIO"
   ]
  },
  {
   "cell_type": "markdown",
   "metadata": {},
   "source": [
    "## Background and Theory\n",
    "\n",
    "In the process of understanding our place in the world, we often seek to ask whether DNA or proteins that we know or work with bear some resemblance to other molecules in the universe or, a perhaps a specific subset, of the sequence space. This problem is potentially enormous given the size of the sequence space (billions of letters) versus the size of the query (hundreds of letters).\n",
    "\n",
    "The most widely used algorithm/solution to this problem is BLAST.\n",
    "\n",
    "Given the size of the sequence space and the potential matches, we need an intelligent way to search. BLAST provides an efficient algorithm to do this explained below. See this [blog post](http://blog.thegrandlocus.com/2014/06/once-upon-a-blast) for a nice retrospective on the development of BLAST."
   ]
  },
  {
   "cell_type": "markdown",
   "metadata": {},
   "source": [
    "### Algorithm\n",
    "\n",
    "1. Filter the query sequence for regions of low complexity. NCBI describes these regions [here](http://blast.ncbi.nlm.nih.gov/Blast.cgi?CMD=Web&PAGE_TYPE=BlastDocs&DOC_TYPE=FAQ#LCR) as :\n",
    "\n",
    "    >Regions with low-complexity sequence have an unusual composition that can create problems in sequence similarity searching. Low-complexity sequence can often be recognized by visual inspection. For example, the protein sequence PPCDPPPPPKDKKKKDDGPP has low complexity and so does the nucleotide sequence AAATAAAAAAAATAAAAAAT. Filters are used to remove low-complexity sequence because it can cause artifactual hits.\n",
    "    \n",
    "    >In BLAST searches performed without a filter, high scoring hits may be reported only because of the presence of a low-complexity region. Most often, it is inappropriate to consider this type of match as the result of shared homology. Rather, it is as if the low-complexity region is \"sticky\" and is pulling out many sequences that are not truly related.\n",
    "\n",
    "    >For amino acid queries this compositional bias is determined by the SEG program (Wootton and Federhen, 1996). For nucleotide queries it is determined by the DustMasker program (Morgulis, et al., 2006).\n",
    "\n",
    "2. The query sequence is transformed into subsequences of length $k$ \"k-words\". The default $k$ is 3 for protein queries and 11 for nucleotide queries.\n",
    "\n",
    "3. Each k-word is compared to all of the k-words found in the database of sequences via a substitution matrix. The high-scoring database words for each k-word are organized into an efficient search tree. This is performed for each of the k-words in the query sequence.\n",
    "\n",
    "    >How do we do comparisions?  This is an involved discussion of substitution matrices.  We may do this in class, but won't delve into it here.\n",
    "\n",
    "4. Sequences with exact matches of high scoring words are then retrieved from the database. Since each high-scoring word is unique and hashable, you can imagine a data structure/organization like a Python dictionary can be used to retrieve these matches with low computational cost.\n",
    "6. For sequences with hits of the each high scoring word, the alignment with the query sequence is extended in either direction until the overall score starts to decrease. These are called high scoring pairs (HSPs).\n",
    "7. HSPs with a score above a given cutoff are retained. This cutoff is empirically determined by computing alignment scores of many random sequences. \n",
    "8. The significance of each high scoring pair is computed via the [Gumbel extreme value distribution](https://en.wikipedia.org/wiki/Gumbel_distribution). Ungapped Smith-Waterman alignment scores between two random sequences follow the Gumbel EVD; this has not been proven for the case of gapped alignments (whether step 6 uses a gapped or ungapped alignment depends on parameters specified to BLAST).\n",
    "\n",
    "    >$$p \\left( S \\ge x \\right)=1-\\exp\\left( -e^{ -\\lambda \\left( x-\\mu \\right) } \\right)$$\n",
    "    \n",
    "    ><center> where </center>\n",
    "    \n",
    "    >$$\\mu =\\frac{ \\log \\left( Km'n' \\right) }{\\lambda }\\;$$\n",
    "\n",
    "    >The probability $p$ that a score $S$ is greater than $x$ is a function of parameters $K$, $\\lambda$, $m'$, and $n'$. $\\lambda$ and $K$ depend upon the substitution matrix, gap penalties, and sequence composition (the letter frequencies) of the database and are found by fitting to the Grumbel EVD. $m'$ and $n'$ are the effective lengths of the query and HSP sequences, i.e. adjusting for the \"edge effect\" that an alignment at the end of a sequence is less likely to have enough letters to build an optimal alignment. $H$ is the average expected score per aligned pair of residues in an alignment of two random sequences.\n",
    "    \n",
    "    >$$m'\\approx m-\\frac{\\ln Kmn }{H}$$\n",
    "    \n",
    "    >$$n'\\approx n-\\frac{\\ln Kmn}{H}$$\n",
    "    \n",
    "    > What we'd like to know, however, is how likely the alignment generated was found by chance. To do so, we want to find the expectation, or the average outcome, of the distribution. The expect score $E$ does just that; it gives the number of times that an unrelated sequence in the database of size $D$ would obtain a score $S$ higher than $x$.\n",
    "\n",
    "    > $$E\\approx 1-e^{-p\\left( s>x \\right)D}$$\n",
    "    \n",
    "    > When $p<0.1$, $E$ is approximated by the Poisson distribution as\n",
    "    \n",
    "    > $$E\\approx pD$$\n",
    "\n",
    "    >The expect score $E$ is often referred to as the \"E-value\" and the score $s$ as the \"bit score\". Critically:\n",
    "    \n",
    "    > - the score $s$ is independent of the size of the database and has everything to do with the quality of the alignment\n",
    "    > - the expect score is completely dependent on the size of the database\n",
    "9. HSPs are combined into longer alignments where possible and the scores are recomputed.\n",
    "10. Finally, those alignments with an E-value less than user-specified threshold are reported.\n",
    "\n",
    "Remember, it is the **bit score** that is independent of the  database size, so, an important point:\n",
    "\n",
    "<div class=\"alert alert-info\">\n",
    "<center>When comparing hits from queries performed on different databases, always use the **bit-score** not the **E-value**!</center>\n",
    "</div>"
   ]
  },
  {
   "cell_type": "markdown",
   "metadata": {
    "collapsed": false
   },
   "source": [
    "### BLAST programs:\n",
    "\n",
    "|Query|Database|Name|Description|\n",
    "|----|----------|-----------|\n",
    "|Nucleotide|Nucleotide|blastn|Nucleotide against nucleotide database|\n",
    "|Protein|Protein|blastp|Protein against protein database|\n",
    "|Protein|Protein|Position-Specific Iterative BLAST (PSI-BLAST)|Useful to find distant relatives of a *protein*. A list of closely related proteins is created via an initial BLASTp search and then aligned into a \"profile\" sequence, which summarises the significant features and filters out less significant ones. This profile is then run against the database again producing a larger set of proteins. This larger set is used to construct another profile. The process is \"iterated\". PSI-BLAST is much more sensitive in detecting up distant relationships than a standard BLASTp.|\n",
    "|Nucleotide (6-frame translation)|Protein|blastx|All six-frame frames of the nucleotide query sequence, i.e. +1,+2,+3,-1,-2,-3, are queried against a protein sequence database.|\n",
    "|Nucleotide (6-frame translation)|Nucleotide (6-frame translation)|tblastx| All translations of the query sequences are compared to all translations of the sequence database. tblastx is to useful in detecting very distant relationships between nucleotide sequences. Slowest of the BLAST family.|\n",
    "|Protein|Nucleotide (6-frame translation)|tblastn| Compares a protein query against all translations of a nucleotide sequence database. Good for searching a draft genome for proteins of interest.|\n",
    "|Any (Many query sequences)|Any (One database)|megablast|When querying large numbers of input sequences via the same sequence database, there are a number of steps that can be peformed together and decrease overall computational time. \"megablast\" does just this and is much faster than running standard BLAST multiple times. Simply put, it concatenates the query sequences to form a single long query, searches this new query against the BLAST database, and then analyzes the search results to generate individual alignments and scores.|"
   ]
  },
  {
   "cell_type": "markdown",
   "metadata": {},
   "source": [
    "### BLAST flavors:\n",
    "\n",
    "Many software pacakges have been written for BLAST exploiting fine and/or coarse-grained parallelism in the algorithm. For example\n",
    "- Instead of comparing one k word to those in a database sequentiallially, these operations can be processed in parallel\n",
    "- Instead of comparing high scoring words sequentially, this can be done in parallel\n",
    "- Instead of searching a single large database, it can be broken up and done in parallel\n",
    "- Instead of aligning many similar sequences through different HSPs, similar sequences can be collapsed into a smaller database that is instead searched with the query sequence\n",
    "\n",
    "Primarily, depending on the level/type of parallellism exploited together with special hardward architecture, several software packages have been written. Some take advantage of multiple processing cores on a single machine (PTHREADS) or multiple nodes in a cluster (MPI) and others leverage special hardware like graphical processing units (GPUs) and  field-programmable gate arrays (FPGAs). See a more complete list [here](https://en.wikipedia.org/wiki/BLAST#Accelerated_versions).\n",
    "\n",
    "Compressively-accelerated BLAST [(CaBLAST)](http://cast.csail.mit.edu/) has a pretty cool approach to increasing the speed of BLAST searches. Sequence databases are extremely redundant (think about gene homologs and genome sequencing of similar organisms or substrains of bacteria). CaBLAST restructures problems such that queries are exceuted against a precomputed, redundancy-minimized database. After the BLAST is peformed, resulting HSPs are compared against sequences within a the semi-redundant sequence cluster. "
   ]
  },
  {
   "cell_type": "markdown",
   "metadata": {
    "collapsed": false
   },
   "source": [
    "## Executing a BLAST Query through NCBI Entrez\n",
    "\n",
    "Given a protein of interest, one potential question is that we might want to figure out whether it has homolog of known structure. BLAST is well-suited for this problem!\n",
    "\n",
    "Let's look at the *E. coli* mechanosensitive channels to see which ones have known structures. We can [query](http://www.uniprot.org/uniprot/?query=mechanosensitive+AND+taxonomy%3A%22Escherichia+coli+%28strain+K12%29+%5B83333%5D%22&sort=score) Uniprot for proteins with \"mechanosensitive\" in their name and from the *E. coli* K12 genome.\n",
    "\n",
    "I've selected a subset here for our analysis.\n",
    "\n",
    "|Uniprot Accession| Entry Name | Description|\n",
    "|-----------------|------------| -----------|\n",
    "|[P0C0S1](http://www.uniprot.org/uniprot/P0C0S1)| MSCS_ECOLI | Small-conductance mechanosensitive channel |\n",
    "|[P0A742](http://www.uniprot.org/uniprot/P0A742)| MSCL_ECOLI | Large-conductance mechanosensitive channel |\n",
    "|[P39285](http://www.uniprot.org/uniprot/P39285)| MSCM_ECOLI | Miniconductance mechanosensitive channel |\n",
    "|[P77338](http://www.uniprot.org/uniprot/P77338)| MSCK_ECOLI | Mechanosensitive channel MscK (gated by K${}^{+}$)|"
   ]
  },
  {
   "cell_type": "markdown",
   "metadata": {},
   "source": [
    "Let's first retrieve an example Genbank entry from NCBI corresponding to these accession number:"
   ]
  },
  {
   "cell_type": "code",
   "execution_count": 1,
   "metadata": {
    "collapsed": false
   },
   "outputs": [
    {
     "ename": "NameError",
     "evalue": "name 'Bio' is not defined",
     "output_type": "error",
     "traceback": [
      "\u001b[0;31m---------------------------------------------------------------------------\u001b[0m",
      "\u001b[0;31mNameError\u001b[0m                                 Traceback (most recent call last)",
      "\u001b[0;32m<ipython-input-1-28072d8e9a40>\u001b[0m in \u001b[0;36m<module>\u001b[0;34m()\u001b[0m\n\u001b[1;32m      1\u001b[0m \u001b[0;31m# Always tell NCBI who you are\u001b[0m\u001b[0;34m\u001b[0m\u001b[0;34m\u001b[0m\u001b[0m\n\u001b[0;32m----> 2\u001b[0;31m \u001b[0mBio\u001b[0m\u001b[0;34m.\u001b[0m\u001b[0mEntrez\u001b[0m\u001b[0;34m.\u001b[0m\u001b[0memail\u001b[0m \u001b[0;34m=\u001b[0m \u001b[0;34m'saladi@caltech.edu'\u001b[0m\u001b[0;34m\u001b[0m\u001b[0m\n\u001b[0m\u001b[1;32m      3\u001b[0m \u001b[0mBio\u001b[0m\u001b[0;34m.\u001b[0m\u001b[0mEntrez\u001b[0m\u001b[0;34m.\u001b[0m\u001b[0mtool\u001b[0m \u001b[0;34m=\u001b[0m \u001b[0;34m'BLAST-for-PDB-Entry'\u001b[0m\u001b[0;34m\u001b[0m\u001b[0m\n\u001b[1;32m      4\u001b[0m \u001b[0;34m\u001b[0m\u001b[0m\n\u001b[1;32m      5\u001b[0m \u001b[0mid_list\u001b[0m \u001b[0;34m=\u001b[0m \u001b[0;34m(\u001b[0m\u001b[0;34m'P0C0S1'\u001b[0m\u001b[0;34m,\u001b[0m \u001b[0;34m'P0A742'\u001b[0m\u001b[0;34m,\u001b[0m \u001b[0;34m'P39285'\u001b[0m\u001b[0;34m,\u001b[0m \u001b[0;34m'P77338'\u001b[0m\u001b[0;34m)\u001b[0m\u001b[0;34m\u001b[0m\u001b[0m\n",
      "\u001b[0;31mNameError\u001b[0m: name 'Bio' is not defined"
     ]
    }
   ],
   "source": [
    "# Always tell NCBI who you are\n",
    "Bio.Entrez.email = 'saladi@caltech.edu'\n",
    "Bio.Entrez.tool = 'BLAST-for-PDB-Entry'\n",
    "\n",
    "id_list = ('P0C0S1', 'P0A742', 'P39285', 'P77338')\n",
    "handle_list = {}\n",
    "\n",
    "# example record retrieval\n",
    "handle = Bio.Entrez.efetch(db='protein', id=id_list[0], rettype='gb', retmode='text')\n",
    "print(handle.read())"
   ]
  },
  {
   "cell_type": "markdown",
   "metadata": {},
   "source": [
    "Here, let's retrieve the records for each of the identifiers."
   ]
  },
  {
   "cell_type": "code",
   "execution_count": 5,
   "metadata": {
    "collapsed": false
   },
   "outputs": [
    {
     "name": "stdout",
     "output_type": "stream",
     "text": [
      "{'P0A742': SeqRecord(seq=Seq('MSIIKEFREFAMRGNVVDLAVGVIIGAAFGKIVSSLVADIIMPPLGLLIGGIDF...NRS', IUPACProtein()), id='P0A742.1', name='MSCL_ECOLI', description='RecName: Full=Large-conductance mechanosensitive channel.', dbxrefs=[]), 'P77338': SeqRecord(seq=Seq('MTMFQYYKRSRHFVFSAFIAFVFVLLCQNTAFARASSNGDLPTKADLQAQLDSL...AVG', IUPACProtein()), id='P77338.1', name='MSCK_ECOLI', description='RecName: Full=Mechanosensitive channel MscK; AltName: Full=Potassium efflux system KefA; Flags: Precursor.', dbxrefs=[]), 'P39285': SeqRecord(seq=Seq('MRLIITFLMAWCLSWGAYAATAPDSKQITQELEQAKAAKPAQPEVVEALQSALN...GSL', IUPACProtein()), id='P39285.3', name='MSCM_ECOLI', description='RecName: Full=Miniconductance mechanosensitive channel MscM; Flags: Precursor.', dbxrefs=[]), 'P0C0S1': SeqRecord(seq=Seq('MEDLNVVDSINGAGSWLVANQALLLSYAVNIVAALAIIIVGLIIARMISNAVNR...KAA', IUPACProtein()), id='P0C0S1.1', name='MSCS_ECOLI', description='RecName: Full=Small-conductance mechanosensitive channel.', dbxrefs=[])}\n"
     ]
    }
   ],
   "source": [
    "record_list = {}\n",
    "\n",
    "# Fetch all the handles, read each into a seq_record\n",
    "for thisid in id_list:\n",
    "    handle = Bio.Entrez.efetch(db='protein', id=thisid, rettype='gb', retmode='text')\n",
    "    seq_record = Bio.SeqIO.read(handle, 'genbank')\n",
    "    handle.close()\n",
    "    record_list[thisid] = seq_record\n",
    "    \n",
    "\n",
    "print(record_list)"
   ]
  },
  {
   "cell_type": "markdown",
   "metadata": {},
   "source": [
    "Given the sequence, Biopython has a method to query NCBI's Web Blast service that returns an XML file. There are a huge number of options! Read more about each in the documentation [here](http://biopython.org/DIST/docs/api/Bio.Blast.NCBIWWW-module.html).\n",
    "\n",
    ">`qblast(program, \n",
    "       database, \n",
    "       sequence, \n",
    "       auto_format=None, \n",
    "       composition_based_statistics=None, \n",
    "       db_genetic_code=None, \n",
    "       endpoints=None, \n",
    "       entrez_query='(none)', \n",
    "       expect=10.0, \n",
    "       filter=None, \n",
    "       gapcosts=None, \n",
    "       genetic_code=None, \n",
    "       hitlist_size=50, \n",
    "       i_thresh=None, \n",
    "       layout=None, \n",
    "       lcase_mask=None, \n",
    "       matrix_name=None, \n",
    "       nucl_penalty=None, \n",
    "       nucl_reward=None, \n",
    "       other_advanced=None, \n",
    "       perc_ident=None, \n",
    "       phi_pattern=None, \n",
    "       query_file=None, \n",
    "       query_believe_defline=None, \n",
    "       query_from=None, \n",
    "       query_to=None, \n",
    "       searchsp_eff=None, \n",
    "       service=None, \n",
    "       threshold=None, \n",
    "       ungapped_alignment=None, \n",
    "       word_size=None, \n",
    "       alignments=500,\n",
    "       alignment_view=None, \n",
    "       descriptions=500, \n",
    "       entrez_links_new_window=None,\n",
    "       expect_low=None, \n",
    "       expect_high=None, \n",
    "       format_entrez_query=None, \n",
    "       format_object=None, \n",
    "       format_type='XML',\n",
    "       ncbi_gi=None, \n",
    "       results_file=None, \n",
    "       show_overview=None,\n",
    "       megablast=None)`\n",
    "       \n",
    "If you find that `Bio.Blast.NCBIWWW.qblast()` does not give the same results as the NCBI BLAST website, it is likely becuase the default search parameters/options are likely different between the web version and qblast. Check parameters like gap penalties and expectation threshold.\n",
    "\n",
    "We are only required to specify the program, database, and sequence to run a simple query."
   ]
  },
  {
   "cell_type": "code",
   "execution_count": 6,
   "metadata": {
    "collapsed": false
   },
   "outputs": [],
   "source": [
    "result_handle = Bio.Blast.NCBIWWW.qblast('blastp', 'pdb', record_list['P77338'].seq)"
   ]
  },
  {
   "cell_type": "code",
   "execution_count": 13,
   "metadata": {
    "collapsed": false
   },
   "outputs": [
    {
     "data": {
      "text/plain": [
       "dict_keys(['P0A742', 'P77338', 'P39285', 'P0C0S1'])"
      ]
     },
     "execution_count": 13,
     "metadata": {},
     "output_type": "execute_result"
    }
   ],
   "source": [
    "record_list.keys()"
   ]
  },
  {
   "cell_type": "markdown",
   "metadata": {},
   "source": [
    "I like to save the results of my BLAST query to file before I parse them in case I need to go back and start the parsing over."
   ]
  },
  {
   "cell_type": "code",
   "execution_count": 7,
   "metadata": {
    "collapsed": false
   },
   "outputs": [],
   "source": [
    "with open('blastp-pdb-P77338.xml', 'w') as save_file:\n",
    "    save_file.write(result_handle.read())\n",
    "\n",
    "result_handle.close()"
   ]
  },
  {
   "cell_type": "markdown",
   "metadata": {},
   "source": [
    "Check that the file was created ok:"
   ]
  },
  {
   "cell_type": "code",
   "execution_count": null,
   "metadata": {
    "collapsed": false
   },
   "outputs": [],
   "source": [
    "!head blastp-pdb-P77338.xml"
   ]
  },
  {
   "cell_type": "markdown",
   "metadata": {},
   "source": [
    "Now, let's do this for the entire set of identifiers."
   ]
  },
  {
   "cell_type": "code",
   "execution_count": null,
   "metadata": {
    "collapsed": false
   },
   "outputs": [],
   "source": [
    "# perform all blast queries and write each to file\n",
    "for thisid in record_list:\n",
    "    # perform blast query\n",
    "    result_handle = Bio.Blast.NCBIWWW.qblast('blastp', 'pdb', record_list[thisid].seq)\n",
    "    \n",
    "    # write query to file\n",
    "    filename = \"blast-pdb-{recordid}.xml\".format(recordid=thisid)\n",
    "    with open(filename, 'w+') as save_file:\n",
    "        save_file.write(result_handle.read())\n",
    "\n",
    "    result_handle.close()"
   ]
  },
  {
   "cell_type": "markdown",
   "metadata": {},
   "source": [
    "Biopython provides two ways to parse the output of BLAST queries. One is specalized for BLAST-XML output [`Bio.Blast.NCBIXML`](http://biopython.org/DIST/docs/api/Bio.Blast.NCBIXML-module.html) and the other, [`Bio.SearchIO`](http://biopython.org/DIST/docs/api/Bio.SearchIO-module.html) is more general for all sorts of sequence search methods including BLAST but also for other methods, e.g. [HMMER](http://hmmer.janelia.org/) and [Exonerate](http://www.ebi.ac.uk/about/vertebrate-genomics/software/exonerate). While Biopython issues a warning about using `Bio.SearchIO` since it's \"an experimental submodule\", it's been stable for 2 years and any further changes should be minor.\n",
    "\n",
    "We will use it here since the same code could be adapted for future work with other search methods."
   ]
  },
  {
   "cell_type": "code",
   "execution_count": null,
   "metadata": {
    "collapsed": true
   },
   "outputs": [],
   "source": [
    "!ls *.xml"
   ]
  },
  {
   "cell_type": "code",
   "execution_count": 11,
   "metadata": {
    "collapsed": false
   },
   "outputs": [
    {
     "name": "stdout",
     "output_type": "stream",
     "text": [
      "Program: blastp (2.2.32+)\n",
      "  Query: unnamed (1120)\n",
      "         protein product\n",
      " Target: pdb\n",
      "   Hits: ----  -----  ----------------------------------------------------------\n",
      "            #  # HSP  ID + description\n",
      "         ----  -----  ----------------------------------------------------------\n",
      "            0      1  gi|873090862|pdb|5AJI|A  Chain A, Mscs D67r1 High Resol...\n",
      "            1      1  gi|400977297|pdb|4AGE|A  Chain A, Mtssl Spin Labeled D6...\n",
      "            2      1  gi|126031460|pdb|2OAU|A  Chain A, Mechanosensitive Chan...\n",
      "            3      1  gi|400977304|pdb|4AGF|A  Chain A, Mtssl Spin Labeled L1...\n",
      "            4      1  gi|195927344|pdb|2VV5|A  Chain A, The Open Structure Of...\n",
      "            5      1  gi|449802644|pdb|4HW9|A  Chain A, Crystal Structure Of ...\n",
      "            6      1  gi|410562602|pdb|3UDC|A  Chain A, Crystal Structure Of ...\n",
      "            7      1  gi|410562584|pdb|3T9N|A  Chain A, Crystal Structure Of ...\n",
      "            8      1  gi|399124994|pdb|3ZUG|A  Chain A, E268d Mutant Of Fad S...\n",
      "            9      1  gi|747155358|pdb|4U0V|A  Chain A, Crystal Structure Of ...\n",
      "           10      1  gi|283806768|pdb|2WV0|A  Chain A, Crystal Structure Of ...\n"
     ]
    }
   ],
   "source": [
    "blast_qresult = Bio.SearchIO.read('blastp-pdb-P77338.xml', 'blast-xml')\n",
    "print(blast_qresult)"
   ]
  },
  {
   "cell_type": "markdown",
   "metadata": {},
   "source": [
    "At first glance, it looks like there are many hits of proteins with known structure with homology to MscK. Let's parse these hits to determine whether the hits are bonafide -- do they span the whole MscK protein sequence or only one/few domains?\n",
    "\n",
    "To do so, let's examine the structure of `Bio.SearchIO` objects. `SearchIO` objects hold multiple `hit` objects each of which holds a `hsp` (\"High Scoring Pair\") objects. "
   ]
  },
  {
   "cell_type": "code",
   "execution_count": 12,
   "metadata": {
    "collapsed": false
   },
   "outputs": [
    {
     "name": "stdout",
     "output_type": "stream",
     "text": [
      "      Query: unnamed protein product\n",
      "        Hit: gi|873090862|pdb|5AJI|A Chain A, Mscs D67r1 High Resolution\n",
      "Query range: [884:1102] (0)\n",
      "  Hit range: [68:284] (0)\n",
      "Quick stats: evalue 1.9e-17; bitscore 85.11\n",
      "  Fragments: 1 (224 columns)\n",
      "     Query - ITTILNYIIIAVGAMTVFGSLGVSWDKLQWLAAALSVGLGFGLQEIFGNFVSGLIILFE~~~EKGDE\n",
      "             ++ ++ Y IIA   +   G +GV    +  +  A  + +G  LQ    N  +G++++  ~~~ K D+\n",
      "       Hit - LSALVRYGIIAFTLIAALGRVGVQTASVIAVLGAAGLAVGLALQGSLSNLAAGVLLVMF~~~VKEDK\n",
      "      Query: unnamed protein product\n",
      "        Hit: gi|400977297|pdb|4AGE|A Chain A, Mtssl Spin Labeled D67c Mutant ...\n",
      "Query range: [884:1102] (0)\n",
      "  Hit range: [68:284] (0)\n",
      "Quick stats: evalue 2e-17; bitscore 85.11\n",
      "  Fragments: 1 (224 columns)\n",
      "     Query - ITTILNYIIIAVGAMTVFGSLGVSWDKLQWLAAALSVGLGFGLQEIFGNFVSGLIILFE~~~EKGDE\n",
      "             ++ ++ Y IIA   +   G +GV    +  +  A  + +G  LQ    N  +G++++  ~~~ K D+\n",
      "       Hit - LSALVRYGIIAFTLIAALGRVGVQTASVIAVLGAAGLAVGLALQGSLSNLAAGVLLVMF~~~VKEDK\n",
      "      Query: unnamed protein product\n",
      "        Hit: gi|126031460|pdb|2OAU|A Chain A, Mechanosensitive Channel Of Sma...\n",
      "Query range: [884:1102] (0)\n",
      "  Hit range: [88:304] (0)\n",
      "Quick stats: evalue 2.9e-17; bitscore 84.73\n",
      "  Fragments: 1 (224 columns)\n",
      "     Query - ITTILNYIIIAVGAMTVFGSLGVSWDKLQWLAAALSVGLGFGLQEIFGNFVSGLIILFE~~~EKGDE\n",
      "             ++ ++ Y IIA   +   G +GV    +  +  A  + +G  LQ    N  +G++++  ~~~ K D+\n",
      "       Hit - LSALVRYGIIAFTLIAALGRVGVQTASVIAVLGAAGLAVGLALQGSLSNLAAGVLLVMF~~~VKEDK\n",
      "      Query: unnamed protein product\n",
      "        Hit: gi|400977304|pdb|4AGF|A Chain A, Mtssl Spin Labeled L124c Mutant...\n",
      "Query range: [884:1102] (0)\n",
      "  Hit range: [68:284] (0)\n",
      "Quick stats: evalue 3.2e-17; bitscore 84.34\n",
      "  Fragments: 1 (224 columns)\n",
      "     Query - ITTILNYIIIAVGAMTVFGSLGVSWDKLQWLAAALSVGLGFGLQEIFGNFVSGLIILFE~~~EKGDE\n",
      "             ++ ++ Y IIA   +   G +GV    +  +  A  + +G  LQ    N  +G++ +  ~~~ K D+\n",
      "       Hit - LSALVRYGIIAFTLIAALGRVGVQTASVIAVLGAAGLAVGLALQGSLSNLAAGVLCVMF~~~VKEDK\n",
      "      Query: unnamed protein product\n",
      "        Hit: gi|195927344|pdb|2VV5|A Chain A, The Open Structure Of Mscs\n",
      "Query range: [884:1102] (0)\n",
      "  Hit range: [68:284] (0)\n",
      "Quick stats: evalue 6e-17; bitscore 83.57\n",
      "  Fragments: 1 (224 columns)\n",
      "     Query - ITTILNYIIIAVGAMTVFGSLGVSWDKLQWLAAALSVGLGFGLQEIFGNFVSGLIILFE~~~EKGDE\n",
      "             ++ ++ Y IIA   +   G +GV    +  +  A  + +G  LQ    N  +G++++  ~~~ K D+\n",
      "       Hit - LSALVRYGIIAFTLIAALGRVGVQTASVIAVLGAAGLVVGLALQGSLSNLAAGVLLVMF~~~VKEDK\n",
      "      Query: unnamed protein product\n",
      "        Hit: gi|449802644|pdb|4HW9|A Chain A, Crystal Structure Of Helicobact...\n",
      "Query range: [901:1114] (0)\n",
      "  Hit range: [98:307] (0)\n",
      "Quick stats: evalue 3.5e-10; bitscore 63.16\n",
      "  Fragments: 1 (219 columns)\n",
      "     Query - FGSLGVSWDKLQWLAAALSVGLGFGLQEIFGNFVSGLIILFERPVRIGDTVTIGSFSGT~~~YKGDD\n",
      "               +LGV    +  +   + + +   L++   +   G+I++   P + GD + I    G ~~~YK DD\n",
      "       Hit - LSTLGVQTTSIITVLGTVGIAVALALKDYLSSIAGGIILIILHPFKKGDIIEISGLEGK~~~YKDDD\n",
      "      Query: unnamed protein product\n",
      "        Hit: gi|410562602|pdb|3UDC|A Chain A, Crystal Structure Of A Membrane...\n",
      "Query range: [888:1018] (0)\n",
      "  Hit range: [71:197] (0)\n",
      "Quick stats: evalue 8.1e-10; bitscore 61.62\n",
      "  Fragments: 1 (130 columns)\n",
      "     Query - LNYIIIAVGAMTVFGSLGVSWDKLQWLAAALSVGLGFGLQEIFGNFVSGLIILFERPVR~~~DLEKV\n",
      "             + YII  +   ++     +    L  +A   S+ +GFG Q +  + +SG  I+FE    ~~~D++K+\n",
      "       Hit - VRYIIYFLAGASILKLFNIDMTSLLAVAGIGSLAIGFGAQNLVKDMISGFFIIFEDQFS~~~DVDKI\n",
      "      Query: unnamed protein product\n",
      "        Hit: gi|410562584|pdb|3T9N|A Chain A, Crystal Structure Of A Membrane...\n",
      "Query range: [888:1018] (0)\n",
      "  Hit range: [71:197] (0)\n",
      "Quick stats: evalue 8.4e-10; bitscore 61.62\n",
      "  Fragments: 1 (130 columns)\n",
      "     Query - LNYIIIAVGAMTVFGSLGVSWDKLQWLAAALSVGLGFGLQEIFGNFVSGLIILFERPVR~~~DLEKV\n",
      "             + YII  +   ++     +    L  +A   S+ +GFG Q +  + +SG  I+FE    ~~~D++K+\n",
      "       Hit - VRYIIYFLAGASILKLFNIDMTSLLAVAGIGSLAIGFGAQNLVKDMISGFFIIFEDQFS~~~DVDKI\n",
      "      Query: unnamed protein product\n",
      "        Hit: gi|399124994|pdb|3ZUG|A Chain A, E268d Mutant Of Fad Synthetase ...\n",
      "Query range: [30:107] (0)\n",
      "  Hit range: [246:319] (0)\n",
      "Quick stats: evalue 3.1; bitscore 31.96\n",
      "  Fragments: 1 (79 columns)\n",
      "     Query - AFARASSNGDLPTKADLQAQLDS--LNKQKDLSAQDKLVQQDLTDTLATLDKIDRIKEE~~~RQATA\n",
      "             A+A A S G  PT  D Q  +DS  L++  DL   D  V+ +  D +  ++K D ++  ~~~R   A\n",
      "       Hit - AYAAAISVGTNPTFGDEQRSVDSFVLDRDADLYGHD--VKVEFVDHVRAMEKFDSVE--~~~RTLLA\n",
      "      Query: unnamed protein product\n",
      "        Hit: gi|747155358|pdb|4U0V|A Chain A, Crystal Structure Of Yvoa From ...\n",
      "Query range: [989:1052] (0)\n",
      "  Hit range: [105:172] (0)\n",
      "Quick stats: evalue 4.3; bitscore 31.19\n",
      "  Fragments: 1 (67 columns)\n",
      "     Query - RLINWSLTDTTTRLVIRLGVAYGSDLEKVRKVLLK----AATEHPRVMHEPMPEVFFTAFGASTLDH\n",
      "             RLI++ L D+T  L   LG  + S + K+ +V L      A E   +  E   E+  + F +S  DH\n",
      "       Hit - RLIDYQLIDSTEELAAILGCGHPSSIHKITRVRLANDIPMAIESSHIPFELAGELNESHFQSSIYDH\n",
      "      Query: unnamed protein product\n",
      "        Hit: gi|283806768|pdb|2WV0|A Chain A, Crystal Structure Of The Gntr-H...\n",
      "Query range: [989:1052] (0)\n",
      "  Hit range: [102:169] (0)\n",
      "Quick stats: evalue 4.5; bitscore 31.19\n",
      "  Fragments: 1 (67 columns)\n",
      "     Query - RLINWSLTDTTTRLVIRLGVAYGSDLEKVRKVLLK----AATEHPRVMHEPMPEVFFTAFGASTLDH\n",
      "             RLI++ L D+T  L   LG  + S + K+ +V L      A E   +  E   E+  + F +S  DH\n",
      "       Hit - RLIDYQLIDSTEELAAILGCGHPSSIHKITRVRLANDIPMAIESSHIPFELAGELNESHFQSSIYDH\n"
     ]
    }
   ],
   "source": [
    "for blast_hit in blast_qresult:\n",
    "    for hsp in blast_hit:\n",
    "        print(hsp)"
   ]
  },
  {
   "cell_type": "markdown",
   "metadata": {},
   "source": [
    "Let's focus in on the query range, hit range, and statistics of the HSP to evaluate whether we have *real* BLAST hits for each of the query sequences."
   ]
  },
  {
   "cell_type": "code",
   "execution_count": 31,
   "metadata": {
    "collapsed": false
   },
   "outputs": [
    {
     "name": "stdout",
     "output_type": "stream",
     "text": [
      "ID\t\tlength\t\thit_start\t\thit_end\t\thit_span\t\tquery_start\t\tquery_end\t\tquery_span\n",
      "P0A742\t\t136\t\t20\t\t114\t\t94\t\t2\t\t106\t\t104\n",
      "P77338\t\t1120\t\t68\t\t284\t\t216\t\t884\t\t1102\t\t218\n",
      "P39285\t\t1107\t\t28\t\t278\t\t250\t\t828\t\t1084\t\t256\n",
      "P0C0S1\t\t286\t\t20\t\t306\t\t286\t\t0\t\t286\t\t286\n"
     ]
    }
   ],
   "source": [
    "print(\"ID\", \"length\", \"hit_start\", \"hit_end\", \"hit_span\",\n",
    "        \"query_start\", \"query_end\", \"query_span\", sep=\"\\t\\t\")\n",
    "\n",
    "for thisid in record_list:\n",
    "    filename = \"blastp-pdb-{recordid}.xml\".format(recordid=thisid)\n",
    "    thisresult = Bio.SearchIO.read(filename, 'blast-xml')\n",
    "    best_hsp = thisresult[0][0]\n",
    "    print(thisid, len(record_list[thisid]), best_hsp.hit_start, best_hsp.hit_end, best_hsp.hit_span,\n",
    "          best_hsp.query_start, best_hsp.query_end, best_hsp.query_span, sep=\"\\t\\t\")"
   ]
  }
 ],
 "metadata": {
  "kernelspec": {
   "display_name": "Python 3",
   "language": "python",
   "name": "python3"
  },
  "language_info": {
   "codemirror_mode": {
    "name": "ipython",
    "version": 3
   },
   "file_extension": ".py",
   "mimetype": "text/x-python",
   "name": "python",
   "nbconvert_exporter": "python",
   "pygments_lexer": "ipython3",
   "version": "3.4.3"
  }
 },
 "nbformat": 4,
 "nbformat_minor": 0
}
