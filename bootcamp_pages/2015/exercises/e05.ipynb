{
 "cells": [
  {
   "cell_type": "markdown",
   "metadata": {},
   "source": [
    "# Exercise 5"
   ]
  },
  {
   "cell_type": "markdown",
   "metadata": {},
   "source": [
    "*This exercise was generated from a Jupyter notebook.  You can download the notebook [here](e05.ipynb).*"
   ]
  },
  {
   "cell_type": "markdown",
   "metadata": {},
   "source": [
    "## Problem 5.1: Growth curves from a movie\n",
    "At the dawn of the molecular revolution in biology, key experiments by Jacques Monod in which he measured growth curves of bacteria under different conditions exposed some of the mechanisms of regulation of gene expression.  Those growth curves were measured in a bulk solution..  In this exercise, we will measure bacterial growth starting from a *two bacteria*.  The movie shows *Bacillus subtilis* constitutively expressing mCherry growing under slow growth conditions.  These data were kindly donated by Jin Park from the Elowitz lab here at Caltech.\n",
    "\n",
    "**a)** Load in the series of images contained in the directory created when you unzipped [`bacterial_growth.zip`](http://bois.caltech.edu/bootcamp/bacterial_growth.zip).  Be sure that however you store them (a list or tuple or other object) has the frames in the proper order."
   ]
  },
  {
   "cell_type": "markdown",
   "metadata": {},
   "source": [
    "**b)** Segment the images to separate bacteria from background.  You do not need to segment individual bacteria; this would likely require some more advanced techniques involving edge detection that we haven't covered in bootcamp."
   ]
  },
  {
   "cell_type": "markdown",
   "metadata": {},
   "source": [
    "**c)** Show a representative image from the stack (with the segmentation overlayed in green) of images with a 10 µm scale bar burned in."
   ]
  },
  {
   "cell_type": "markdown",
   "metadata": {},
   "source": [
    "**d)** Plot a growth curve for this growing colony.  What values should be on the $y$-axis?  (This is one of those times where I ask an open question for which there is no \"right\" answer.)"
   ]
  },
  {
   "cell_type": "markdown",
   "metadata": {},
   "source": [
    "**e)** Perform a regression on this growth curve to estimate the time constant for the exponential growth.  Be sure to check out the `README` file in the directory containing the images to get the appropriate metadata."
   ]
  },
  {
   "cell_type": "markdown",
   "metadata": {},
   "source": [
    "<br />"
   ]
  },
  {
   "cell_type": "markdown",
   "metadata": {},
   "source": [
    "## Problem 5.2: Beak depth and lengths\n",
    "\n",
    "In [Exercise 4](e04.html), you munged and plotted some data on beak widths and depths of Darwin's finches.  In this problem, we will work to quantify these data.  We will perform a simple analysis in which we perform a linear regression to get the dependence of beak depth on beak length.\n",
    "\n",
    "**a)** Perform a linear regression on each of the ten (year-species) pairs.  Show your regression line on plots like you make in Exercise 4.\n",
    "\n",
    "**b)** Comment on the observed slopes and how they change over time.\n",
    "\n",
    "**c)** Perform any other analysis on the data that you see fit or are curious about."
   ]
  }
 ],
 "metadata": {
  "kernelspec": {
   "display_name": "Python 3",
   "language": "python",
   "name": "python3"
  },
  "language_info": {
   "codemirror_mode": {
    "name": "ipython",
    "version": 3
   },
   "file_extension": ".py",
   "mimetype": "text/x-python",
   "name": "python",
   "nbconvert_exporter": "python",
   "pygments_lexer": "ipython3",
   "version": "3.4.3"
  }
 },
 "nbformat": 4,
 "nbformat_minor": 0
}
