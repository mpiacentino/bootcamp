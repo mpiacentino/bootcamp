{
 "cells": [
  {
   "cell_type": "markdown",
   "metadata": {},
   "source": [
    "# Exercise 4"
   ]
  },
  {
   "cell_type": "markdown",
   "metadata": {},
   "source": [
    "*This exercise was generated from a Jupyter notebook.  You can download the notebook [here](e04.ipynb).*"
   ]
  },
  {
   "cell_type": "markdown",
   "metadata": {},
   "source": [
    "## Problem 4.1: Setting up a GitHub account\n",
    "Having a local repository is useful, to be sure, but having a remote repository really brings you some power.  Importantly, it allows very easy sharing and logging of work done my many people.  Secondly, having a remote repository gets you extensive backups for free.  With the exceptions of presentations for talks, I do all of my work within Git repositories hosted at [GitHub](http://github.com/), one of the most popular hosting services.  [BitBucket](http://bitbucket.org/) is another popular hosting service.\n",
    "\n",
    "**If your lab does not use remote version control repositories, start evangelizing, and get one!**\n",
    "\n",
    "In this problem, you will set up your own GitHub account and host the repo you set up for bootcamp there.  For the rest of bootcamp, you should keep your work under version control.\n",
    "\n",
    "*Note: you usually do not keep outputs of code under version control unless it serves as a basis for comparison for unit tests.  You also don't keep things you can't edit, like images, under version control.  The repositories can tend to get very large.*\n",
    "\n",
    "**a)** Go to the [GitHub website](http://github.com/) and set up an account.   Make sure you get an [academic account](https://education.github.com/discount_requests/new) that lets you have free private repositories and the [Student Developer Pack](https://education.github.com/pack) which gives you all sorts of goodies.\n",
    "\n",
    "**b)** Follow the instructions [here](http://swcarpentry.github.io/git-novice/07-github.html) to set up your first repository (bootcamp).  You will probably want this repository to be private.\n",
    "\n",
    "**c)** Edit your `README.md` file with a description of what your bootcamp repository is all about.  Then `add` and `commit` your changes.\n",
    "\n",
    "**d)** Push your changes to the remote repository.\n",
    "\n",
    "    git push origin master\n",
    "    \n",
    "**e)** Now try to pull from the repository.\n",
    "\n",
    "    git pull\n",
    "    \n",
    "This pulls in all changes that have been made.  Since your local versions now match what is in the remote repo, `git` will tell you that everything is up to date."
   ]
  },
  {
   "cell_type": "markdown",
   "metadata": {},
   "source": [
    "## Problem 4.2: Long-term trends in hybridization of Darwin finches\n",
    "[Peter and Rosemary Grant](https://en.wikipedia.org/wiki/Peter_and_Rosemary_Grant) have been working on the Galápagos island of Daphne for over forty years.  During this time, they have collected lots and lots of data about physiological features of finches.  Last year, they published a book with a summary of some of their major results (Grant P. R., Grant B. R., *Data from: 40 years of evolution. Darwin's finches on Daphne Major Island*, Princeton University Press, 2014). They made their data from the book publicly available via the [Dryad Digital Repository](http://dx.doi.org/10.5061/dryad.g6g3h).\n",
    "\n",
    "We will investigate their measurements of beak depth (the distance, top to bottom, of a closed beak) and beak length (base to tip on the top) of Darwin's finches.  We will look at data from two species, *Geospiza fortis* and *Geospiza scandens*.  The Grants provided data on the finches of Daphne for the years 1973, 1975, 1987, 1991, and 2012.  You can download these files as they appear in the Dryad repo (though I changed file names and supplied a reference at the top of each file) [here](http://bois.caltech.edu/bootcamp/grant.zip)."
   ]
  },
  {
   "cell_type": "markdown",
   "metadata": {},
   "source": [
    "**a)** Load each of the files `1973.csv`, `1975.csv`, `1987.csv`, `1991.csv`, and  `2012.csv` into separate Pandas `DataFrame`s.  You might want to inspect the file first to make sure you know what character the comments start with and if there is a header row."
   ]
  },
  {
   "cell_type": "markdown",
   "metadata": {},
   "source": [
    "**b)** We would like to merge these all into one `DataFrame`.  The problem is that they have different header names, and only the 1973 file has a year entry (called `yearband`).  This is common with real data.  It is often a bit messy and requires some munging.  \n",
    "\n",
    ">1. First, change the name of the `yearband` column of the 1973 data to `year`.  Also, make sure the year format is four digits, not two!  \n",
    ">2. Next, add a `year` column to the other four `DataFrame`s.  You want tidy data, so each row in the `DataFrame` should have an entry for the year.\n",
    ">3. Change the column names so that all the `DataFrame`s have the same column names.  I would choose column names\n",
    ">\n",
    ">    `['band', 'species', 'beak length (mm)', 'beak depth (mm)', 'year']`\n",
    ">\n",
    ">4. Concatenate the `DataFrame`s into a singe `DataFrame`."
   ]
  },
  {
   "cell_type": "markdown",
   "metadata": {},
   "source": [
    "**c)** The `band` fields gives the number of the band on the bird's leg that was used to tag it.  Are some birds counted twice?  Are they counted twice in the same year?  Do you think you should drop duplicate birds from the same year?  How about different years?  My opinion is that you should drop dupicate birds from the same year and keep the others, but I would be open to discussion on that.  To practice your Pandas skills, though, let's delete only duplicate birds from the same year from the `DataFrame`.  When you have make this `DataFrame`, save it as a CSV file.\n",
    "\n",
    "*Hint*: The `DataFrame` methods `duplicated()` and `drop_duplicates()` will be useful."
   ]
  },
  {
   "cell_type": "markdown",
   "metadata": {},
   "source": [
    "**d)** Plot a histogram of beak depths of *Geospiza fortis* specimens measured in 1987.  Plot a histogram of the beak depths of *Geospiza scandens* from the same year.  These histograms should be on the same plot.  On another plot, plot a histogram of beak lengths for the two species in 1987.  Do you see a striking phenotypic difference?"
   ]
  },
  {
   "cell_type": "markdown",
   "metadata": {},
   "source": [
    "**e)** Perhaps a more informative plot is to plot the measurement of each bird's beak as a point in the beak depth-beak length plane.  For the 1987 data, plot beak depth vs. beak width for *Geospiza fortis* as blue dots, and for *Geospiza scandens* as red dots.  Can you see the species demarcation?"
   ]
  },
  {
   "cell_type": "markdown",
   "metadata": {},
   "source": [
    "**f)** Do part (e) again for all years.  Describe what you see.  Do you see the changes in the differences between species (presumably as a result of hybridization)?  In your plots, make sure all plots have the same range on the axes."
   ]
  },
  {
   "cell_type": "markdown",
   "metadata": {},
   "source": [
    "## Problem 4.3: Mapping Protein to Nucleotide Sequences\n",
    "\n",
    "The public sequence databases do an excellent job of connecting protein sequences with each other and other *metadata*, like sequence homology families, 3d structures, etc. However, the protein sequence databases have been structured such that nucleotide coding sequence is divorced from the protein sequence in the databases. Neither the Uniprot webpage nor the associated NCBI protein webpages for the same sequence provide a direct link to the coding sequence.  Uniprot acknolwedges this issue but has no plans to change. (See [here](http://www.uniprot.org/help/canonical_nucleotide).)\n",
    "\n",
    "Here, let's explore two methods to map a protein sequence to its nucleotide coding sequence."
   ]
  },
  {
   "cell_type": "markdown",
   "metadata": {},
   "source": [
    "**a)** Use a BLAST program to search for the *E. coli* MscK coding nucleotide sequence given by the identifier [P77338](http://www.uniprot.org/uniprot/P77338). Provide justification for the program you use and how you identify the hit.  Can you be *sure* that the hit corresponds to the coding sequence and not one that has silent mutations, e.g., same protein sequence but different mRNA sequence?\n",
    "\n",
    "**b)** Use NCBI's Entrez service(s) to retrieve the MscK coding sequence *without* using BLAST!\n",
    "- Hint 1: What does the CDS feature in a Genbank file give you?\n",
    "\n",
    "- Hint 2: You will need to do more than one Entrez operation.\n",
    "\n",
    "**c)** Compare and contrast the two methods. What are the advantages/disadvantages of each?"
   ]
  }
 ],
 "metadata": {
  "kernelspec": {
   "display_name": "Python 3",
   "language": "python",
   "name": "python3"
  },
  "language_info": {
   "codemirror_mode": {
    "name": "ipython",
    "version": 3
   },
   "file_extension": ".py",
   "mimetype": "text/x-python",
   "name": "python",
   "nbconvert_exporter": "python",
   "pygments_lexer": "ipython3",
   "version": "3.4.3"
  }
 },
 "nbformat": 4,
 "nbformat_minor": 0
}
