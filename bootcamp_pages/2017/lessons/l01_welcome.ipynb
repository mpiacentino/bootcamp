{
 "cells": [
  {
   "cell_type": "markdown",
   "metadata": {},
   "source": [
    "# Lesson 1: Welcome, .py files, and IPython\n",
    "\n",
    "(c) 2017 Justin Bois. This work is licensed under a [Creative Commons Attribution License CC-BY 4.0](https://creativecommons.org/licenses/by/4.0/). All code contained herein is licensed under an [MIT license](https://opensource.org/licenses/MIT).\n",
    "\n",
    "*This tutorial was generated from a Jupyter notebook.  You can download the notebook [here](l01_welcome.ipynb).*"
   ]
  },
  {
   "cell_type": "markdown",
   "metadata": {},
   "source": [
    "## Greetings!\n",
    "\n",
    "Welcome to the Introduction to Programming for the Biological Sciences Bootcamp!  We will be using Python as the programming language, and we will use this first lesson to make sure your Python distribution is working properly.  We will also make sure you have a way to use the command line on your machine.\n",
    "\n",
    "Prior to starting the bootcamp, you should have completed [Lesson 0: Configuring your computer](l00_configuring_your_computer.html)."
   ]
  },
  {
   "cell_type": "markdown",
   "metadata": {},
   "source": [
    "## The Python interpreter\n",
    "\n",
    "Before diving into the Python interpreter, I pause here to remind you that this programming bootcamp is not meant to just teach Python syntax. The things you learn here are meant to help you understand, and ultimately do, computer programming more generally. Think of it this way: this bootcamp is meant to help you unleash the power of your computer on your biological problems. Python is just the language of instruction. That said, let's start talking about how Python works and how it relates to IPython, which we will use extensively in the course.\n",
    "\n",
    "Python is an **interpreted language**, which means that each line of code you write is translated, or *interpreted*, into a set of instructions that your machine can understand by the **Python interpreter**. This stands in contrast to **compiled languages**.  For these languages (the dominant ones being Fortran, C, and C++), your entire code is translated into machine language before you ever run it. When you execute your program, it is already in machine language.\n",
    "\n",
    "So, whenever you want your Python code to run, you give it to the Python interpreter. To launch the Python interpreter, just type\n",
    "\n",
    "    python\n",
    "    \n",
    "on the command line, and you will get a prompt. You then have to enter your code in line-by-line at the prompt. Let's try it with a simple code."
   ]
  },
  {
   "cell_type": "markdown",
   "metadata": {},
   "source": [
    "## Hello, world. and the print() function\n",
    "\n",
    "Traditionally, the first program anyone writes when learning a new language is called \"`Hello, world.`\"  In this program, the words \"`Hello, world.`\" are printed on the screen.  The original `Hello, world.` was likely written by Brian Kernighan, one of the inventors of Unix, and the author of the classic and authoritative [book](http://www.amazon.com/The-Programming-Language-Brian-Kernighan/dp/0131103628) on the C programming language.  In his original, the printed text was \"`hello, world`\" (no period or capital `H`), but people use lots of variants.\n",
    "\n",
    "So, now at a Python prompt on your terminal, let's give the interpreter a simple code to execute."
   ]
  },
  {
   "cell_type": "code",
   "execution_count": 1,
   "metadata": {},
   "outputs": [
    {
     "name": "stdout",
     "output_type": "stream",
     "text": [
      "Hello, world.\n"
     ]
    }
   ],
   "source": [
    "print('Hello, world.')"
   ]
  },
  {
   "cell_type": "markdown",
   "metadata": {},
   "source": [
    "Hooray!  We just printed `Hello, world.` to the screen.  To do this, we used Python's built-in `print()` function.  The `print()` function takes as an **argument** a **string**.  It then prints that string to the screen.  We will learn more about function syntax later, but we can already see the rough syntax with the `print()` function.\n",
    "\n",
    "Now, let's exit this instance of the Python interpreter. You can do this either by pressing `ctrl-d` or by typing `exit()`."
   ]
  },
  {
   "cell_type": "markdown",
   "metadata": {},
   "source": [
    "## Jupyter notebooks for bootcamp lessons\n",
    "\n",
    "To help you understand the structure of the document you are reading right now, I pause for a moment to describe how it was generated and how to read it. This HTML document was generated using a [Jupyter notebook](http://jupyter.org). In these notebooks, code is shown and executed in special cells, like the one below."
   ]
  },
  {
   "cell_type": "code",
   "execution_count": 2,
   "metadata": {},
   "outputs": [],
   "source": [
    "# This is a code cell.\n",
    "\n",
    "# It does not contain any executable code, just comments."
   ]
  },
  {
   "cell_type": "markdown",
   "metadata": {},
   "source": [
    "In looking at this code cell, we have learned a bit of Python syntax.  Lines beginning with the pound sign (`#`) are **comments** and are ignored.\n",
    "\n",
    "Ok, now the code cell with `Hello, world.` again."
   ]
  },
  {
   "cell_type": "code",
   "execution_count": 3,
   "metadata": {},
   "outputs": [
    {
     "name": "stdout",
     "output_type": "stream",
     "text": [
      "Hello, world.\n"
     ]
    }
   ],
   "source": [
    "print('Hello, world.')"
   ]
  },
  {
   "cell_type": "markdown",
   "metadata": {},
   "source": [
    "So, as you are working through the bootcamp, entries in code cells are meant to be executed by the Python interpreter.\n",
    "\n",
    "At the very end of the bootcamp, we will discuss Jupyter notebooks and how to use them. But now, we will talk about other ways to enter and execute Python code."
   ]
  },
  {
   "cell_type": "markdown",
   "metadata": {},
   "source": [
    "## .py files\n",
    "\n",
    "Now let's use our new knowledge of the `print()` function to have our computer say a bit more than just `Hello, world.`"
   ]
  },
  {
   "cell_type": "code",
   "execution_count": 4,
   "metadata": {},
   "outputs": [
    {
     "name": "stdout",
     "output_type": "stream",
     "text": [
      "Beautiful is better than ugly.\n",
      "Explicit is better than implicit.\n",
      "Simple is better than complex.\n",
      "Complex is better than complicated.\n"
     ]
    }
   ],
   "source": [
    "# The first few lines from The Zen of Python by Tim Peters\n",
    "print('Beautiful is better than ugly.')\n",
    "print('Explicit is better than implicit.')\n",
    "print('Simple is better than complex.')\n",
    "print('Complex is better than complicated.')"
   ]
  },
  {
   "cell_type": "markdown",
   "metadata": {},
   "source": [
    "As you typed these lines into the interpreter, it executed a line every time you hit enter. This can get very tiresome and tedious. A better option is to store them in a file, and then have the Python interpreter run the lines in the file. This is how you typically store Python code, and the suffix of such files is `.py`.\n",
    "\n",
    "So, let's create a `.py` file. To do this, use Atom to make a new file, enter in the lines of code you want executed (in our case, the four `print` statements above), and save the file as `zen.py`. Be sure to save it in the directory where you are working in your terminal.\n",
    "\n",
    "To run the code in this file, you invoke the Python interpreter at the command line, followed by the file name. I.e., enter\n",
    "\n",
    "    python zen.py\n",
    "   \n",
    "at the command line. Note that when you run code this way, the interpreter exits after completion of running the code, and you do not get a prompt.\n",
    "\n",
    "So, now you can have the Python interpreter run many lines of code without waiting for you to press enter over and over again!"
   ]
  },
  {
   "cell_type": "markdown",
   "metadata": {},
   "source": [
    "## IPython\n",
    "\n",
    "The Python prompt you were using before is useful for running commands, but it is limited in its functionality. To have a *greatly* enhanced Python experience, use IPython!\n",
    "\n",
    "IPython is a feature-rich, enhanced interactive Python. To launch it, enter\n",
    "\n",
    "    ipython\n",
    "\n",
    "on the command line. Once you launch it, try printing `Hello, world.` You will notice nice looking input and output that looks something like this:\n",
    "\n",
    "![Competing hypotheses](ipython_screenshot.png)\n",
    "\n",
    "Notice the **syntax highlighting**. The function `print()` is in green, and the **string** `'Hello, world.'` is in orange.\n",
    "\n",
    "To get an idea of all of IPython's features, just enter a question mark (`?`) at a prompt, and you can read about many (but not all!) of its features. At this point in the bootcamp, you will not understand the significance of all of its features.\n",
    "\n",
    "For now, I direct you to the first sentence of the overview:\n",
    "\n",
    "> IPython offers a fully compatible replacement for the standard Python\n",
    "interpreter, with convenient shell features, special commands, command\n",
    "history mechanism and output results caching.\n",
    "\n",
    "Indeed, henceforth, we will pretty much abandon the standard Python interpreter in favor of IPython.\n",
    "\n",
    "To run our `zen.py` file using IPython from the command line, we can use the same syntax as with the standard interpreter:\n",
    "\n",
    "    ipython zen.py\n",
    "\n",
    "Conveniently, if we already have IPython fired up and running and we're at an IPython prompt, we can use the `%run` magic function."
   ]
  },
  {
   "cell_type": "code",
   "execution_count": 5,
   "metadata": {},
   "outputs": [
    {
     "name": "stdout",
     "output_type": "stream",
     "text": [
      "Beautiful is better than ugly.\n",
      "Explicit is better than implicit.\n",
      "Simple is better than complex.\n",
      "Complex is better than complicated.\n"
     ]
    }
   ],
   "source": [
    "%run zen.py"
   ]
  },
  {
   "cell_type": "markdown",
   "metadata": {},
   "source": [
    "Ok! You are up and running with IPython, with Atom to make your `.py` files. You now have the power Python interpreter by your side, and we will venture into the next steps of your programming training."
   ]
  }
 ],
 "metadata": {
  "anaconda-cloud": {},
  "kernelspec": {
   "display_name": "Python 3",
   "language": "python",
   "name": "python3"
  },
  "language_info": {
   "codemirror_mode": {
    "name": "ipython",
    "version": 3
   },
   "file_extension": ".py",
   "mimetype": "text/x-python",
   "name": "python",
   "nbconvert_exporter": "python",
   "pygments_lexer": "ipython3",
   "version": "3.6.1"
  }
 },
 "nbformat": 4,
 "nbformat_minor": 1
}
