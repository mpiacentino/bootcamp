{
 "cells": [
  {
   "cell_type": "markdown",
   "metadata": {},
   "source": [
    "# Lesson -1: Performing regressions\n",
    "\n",
    "(c) 2017 Justin Bois. This work is licensed under a [Creative Commons Attribution License CC-BY 4.0](https://creativecommons.org/licenses/by/4.0/). All code contained herein is licensed under an [MIT license](https://opensource.org/licenses/MIT).\n",
    "\n",
    "*This tutorial was generated from a Jupyter notebook.  You can download the notebook [here](l-01_performing_regressions.ipynb). This lesson was cut from the bootcamp schedule.*"
   ]
  },
  {
   "cell_type": "code",
   "execution_count": 1,
   "metadata": {
    "collapsed": true
   },
   "outputs": [],
   "source": [
    "import numpy as np\n",
    "import pandas as pd\n",
    "\n",
    "# We'll use scipy.optimize.curve_fit to do the nonlinear regression\n",
    "import scipy.optimize\n",
    "\n",
    "# Plotting modules and settings.\n",
    "import matplotlib.pyplot as plt\n",
    "import seaborn as sns\n",
    "colors = ['#1f77b4', '#ff7f0e', '#2ca02c', '#d62728',\n",
    "          '#9467bd', '#8c564b', '#e377c2', '#7f7f7f',\n",
    "          '#bcbd22', '#17becf']\n",
    "sns.set(style='whitegrid', palette=colors, rc={'axes.labelsize': 16})\n",
    "\n",
    "# The following is specific Jupyter notebooks\n",
    "%matplotlib inline\n",
    "%config InlineBackend.figure_formats = {'png', 'retina'}"
   ]
  },
  {
   "cell_type": "markdown",
   "metadata": {},
   "source": [
    "## Bicoid and its gradient\n",
    "\n",
    "In this tutorial, we will perform a nonlinear regression on data from a classic paper by Driever and Nüsslein-Volhard ([*Cell*, **54**, 95–104, 1988](http://www.sciencedirect.com/science/article/pii/0092867488901833)).  In this paper, the authors identified Bicoid the first **morphogen**, a chemical substance that controls cell fate in a concentration dependent manner.  In the context of *Drosophila* embryogenesis, Bicoid (Bcd) exhibits a concentration gradient, with a high concentration in the anterior region of the embryo and a low concentration in posterior region.  Below is an image of the Bicound gradient from an immunostaining experiment from their paper.\n",
    "\n",
    "![Bicoid gradient](bcd_immunostain.png)\n",
    "\n",
    "Driever and Nüsslein-Volhard quantified this gradient by measuring the darkness of the immunostain as a function of distance between the anterior and posterior of the embryo.  Our goal in this lesson is to perform a regression to get the characteristic length of the Bcd gradient.  Specifically, based on physical modeling we will not go into here, we expect the Bcd gradient to be exponential, or\n",
    "\n",
    "\\begin{align}\n",
    "c(x) = c_0 \\mathrm{e}^{-x/\\lambda},\n",
    "\\end{align}\n",
    "\n",
    "where $c(x)$ is the Bcd concentration at position $x$, with $x = 0$ at the anterior and $x = 1$ at the posterior.  I.e., $x$ is in units of the total AP axis length.  The Bcd concentration at the anterior is $c_0$, and the decay length, or characteristic length, of the gradient is $\\lambda$.  We assume that the intensity of the immunostain is \n",
    "\n",
    "\\begin{align}\n",
    "I = a + b c,\n",
    "\\end{align}\n",
    "\n",
    "where $a$ is the background signal and the immunostain intensity varies linearly with Bcd concentration.  Thus, Bcd gradient, as visualized by immunostaining, is\n",
    "\n",
    "\\begin{align}\n",
    "I(x) = a + I_0\\mathrm{e}^{-x/\\lambda}.\n",
    "\\end{align}"
   ]
  },
  {
   "cell_type": "markdown",
   "metadata": {},
   "source": [
    "## The data set\n",
    "\n",
    "We will use the original data from Driever and Nüsslein-Volhard, available in `~/git/data/bcd_gradient.csv`.  We will first look at the file to see how we should import it."
   ]
  },
  {
   "cell_type": "code",
   "execution_count": 2,
   "metadata": {},
   "outputs": [
    {
     "name": "stdout",
     "output_type": "stream",
     "text": [
      "# Data taken from Fig. 3A of Driever and Nuesslein-Volhard, Cell,\r\n",
      "# 54, 95-104, 1988.  This is the normalized immunostain intensity\r\n",
      "# as a function of distance along the A-P axis in a wild type\r\n",
      "# embryo.\r\n",
      "fractional distance from anterior,[bcd] (a.u.)\r\n",
      "0.0026446672455988007,0.86309692805632854\r\n",
      "0.034222783610957611,0.86309692805632854\r\n",
      "0.068445567221915221,0.74572710237919493\r\n",
      "0.10262887818741613,0.65487479416273942\r\n",
      "0.13420699455277493,0.54511384929873385\r\n"
     ]
    }
   ],
   "source": [
    "!head data/bcd_gradient.csv"
   ]
  },
  {
   "cell_type": "markdown",
   "metadata": {},
   "source": [
    "We see that this is a CSV file with two columns and comments preceded by `#`.  The header row is given.  So, we know how to use `pd.read_csv` to import the data."
   ]
  },
  {
   "cell_type": "code",
   "execution_count": 3,
   "metadata": {},
   "outputs": [
    {
     "data": {
      "text/html": [
       "<div>\n",
       "<style>\n",
       "    .dataframe thead tr:only-child th {\n",
       "        text-align: right;\n",
       "    }\n",
       "\n",
       "    .dataframe thead th {\n",
       "        text-align: left;\n",
       "    }\n",
       "\n",
       "    .dataframe tbody tr th {\n",
       "        vertical-align: top;\n",
       "    }\n",
       "</style>\n",
       "<table border=\"1\" class=\"dataframe\">\n",
       "  <thead>\n",
       "    <tr style=\"text-align: right;\">\n",
       "      <th></th>\n",
       "      <th>fractional distance from anterior</th>\n",
       "      <th>[bcd] (a.u.)</th>\n",
       "    </tr>\n",
       "  </thead>\n",
       "  <tbody>\n",
       "    <tr>\n",
       "      <th>0</th>\n",
       "      <td>0.002645</td>\n",
       "      <td>0.863097</td>\n",
       "    </tr>\n",
       "    <tr>\n",
       "      <th>1</th>\n",
       "      <td>0.034223</td>\n",
       "      <td>0.863097</td>\n",
       "    </tr>\n",
       "    <tr>\n",
       "      <th>2</th>\n",
       "      <td>0.068446</td>\n",
       "      <td>0.745727</td>\n",
       "    </tr>\n",
       "    <tr>\n",
       "      <th>3</th>\n",
       "      <td>0.102629</td>\n",
       "      <td>0.654875</td>\n",
       "    </tr>\n",
       "    <tr>\n",
       "      <th>4</th>\n",
       "      <td>0.134207</td>\n",
       "      <td>0.545114</td>\n",
       "    </tr>\n",
       "  </tbody>\n",
       "</table>\n",
       "</div>"
      ],
      "text/plain": [
       "   fractional distance from anterior  [bcd] (a.u.)\n",
       "0                           0.002645      0.863097\n",
       "1                           0.034223      0.863097\n",
       "2                           0.068446      0.745727\n",
       "3                           0.102629      0.654875\n",
       "4                           0.134207      0.545114"
      ]
     },
     "execution_count": 3,
     "metadata": {},
     "output_type": "execute_result"
    }
   ],
   "source": [
    "# Import data set\n",
    "df = pd.read_csv('data/bcd_gradient.csv', comment='#')\n",
    "\n",
    "# Inspect DataFrame\n",
    "df.head()"
   ]
  },
  {
   "cell_type": "markdown",
   "metadata": {},
   "source": [
    "For ease of access, we can rename the columns.  We'll call them `x` and `I_bcd`."
   ]
  },
  {
   "cell_type": "code",
   "execution_count": 4,
   "metadata": {
    "collapsed": true
   },
   "outputs": [],
   "source": [
    "# Rename columns\n",
    "df = df.rename(columns={'fractional distance from anterior': 'x', \n",
    "                        '[bcd] (a.u.)': 'I_bcd'})"
   ]
  },
  {
   "cell_type": "markdown",
   "metadata": {},
   "source": [
    "Let's plot the data to see what we are dealing with."
   ]
  },
  {
   "cell_type": "code",
   "execution_count": 9,
   "metadata": {},
   "outputs": [
    {
     "data": {
      "image/png": "[encoded data removed]",
      "text/plain": [
       "<matplotlib.figure.Figure at 0x115e02a20>"
      ]
     },
     "metadata": {
      "image/png": {
       "height": 266,
       "width": 391
      }
     },
     "output_type": "display_data"
    }
   ],
   "source": [
    "fig, ax = plt.subplots(1, 1)\n",
    "ax.set_xlabel('x')\n",
    "ax.set_ylabel('I (a.u.)')\n",
    "_ = ax.plot(df['x'], df['I_bcd'], marker='.', linestyle='none')"
   ]
  },
  {
   "cell_type": "markdown",
   "metadata": {},
   "source": [
    "## Using scipy.optimize.leastsq() to perform nonlinear regression\n",
    "\n",
    "We will use `scipy.optimize.leastsq()` to preform the regression. This function solves the problem\n",
    "\n",
    "\\begin{align}\n",
    "\\arg\\;\\min_p \\sum(r(\\mathbf{p}), \\mathbf{a})^2.\n",
    "\\end{align}\n",
    "\n",
    "So, it finds the value of $\\mathbf{p}$, which is possibly a vector, that minimizes the sum of the square of the values of a function that depends on $\\mathbf{p}$. So, how does this relate to performing a nonlinear regression? When performing a regression by least squares, we assumed we have $(x,y)$ data, and that the values of $x$ are known more or less with certainty. The measurements in the $y$-direction are thought to follow a model function, say $f(\\mathbf{p}, x)$. The difference between a data point $(x_i, y_i)$ and $f(\\mathbf{p}, x_i)$, the value of $y$ predicted by the model, is called a **residual**,\n",
    "\n",
    "\\begin{align}\n",
    "r(\\mathbf{p}, x_i) = y_i - f(\\mathbf{p}, x_i).\n",
    "\\end{align}\n",
    "\n",
    "To perform a regression, we would like to find the set of parameters $\\mathbf{p}$ that minimize the distance between the theoretical curve and the data. Because the residuals can be both positive and negative, can square them so that they are always nonnegative. (This is not actually *why* we square the residuals, but it makes intuitive sense.) Then, to try to get all points to be close to the theoretical curve, we can sum the squares of the residuals and try to minimize this sum. So, the regression problem is the minimization of the sum of squares of the residuals. This is exactly what `scipy.optimize.leastsq()` solves!\n",
    "\n",
    "Since this is our first time using it, let's read the doc string to figure out how to use it."
   ]
  },
  {
   "cell_type": "code",
   "execution_count": 13,
   "metadata": {
    "collapsed": true
   },
   "outputs": [],
   "source": [
    "scipy.optimize.leastsq?"
   ]
  },
  {
   "cell_type": "markdown",
   "metadata": {},
   "source": [
    "We see that the function prototype is \n",
    "\n",
    "    scipy.optimize.leastsq(func, x0, args=())\n",
    "\n",
    "For the regression problem, then, `func` a function that returns the residuals. It must have a call signature `func(p, *args)`, where `p` is a Numpy array with the parameter values to be determined from the regression, and `args` is a tuple containing all other parameters that need to be passed to be passed to the residual function.\n",
    "\n",
    "So, we can write a generic residual function for use in all of our basic curve fitting tasks. (*Note that the function `scipy.optimize.curve_fit()` does this, but I do not like its API and it has some implicit assumptions that can cause problems, so I do not advocate using it.*)"
   ]
  },
  {
   "cell_type": "code",
   "execution_count": 14,
   "metadata": {
    "collapsed": true
   },
   "outputs": [],
   "source": [
    "def resid(p, f, args):\n",
    "    \"\"\"\n",
    "    Residuals for x-y curve fitting.\n",
    "    \n",
    "    Parameters\n",
    "    ----------\n",
    "    p : array_like\n",
    "        Parameters to be determined in curve fit.\n",
    "    f : function\n",
    "        Theoretical function to be fit, with call signature\n",
    "        f(p, *args), where args = (x, y, arg1, arg2, ...)\n",
    "    args : tuple\n",
    "        Contains x data, y data, and any other parameters\n",
    "        that are not being adjusted in the curve fitting procedure\n",
    "        that are passed to f. args = (x, y, arg1, arg2, ...).\n",
    "    \n",
    "    Returns\n",
    "    -------\n",
    "    r : array_like\n",
    "        Residuals, y - f(p, *args)\n",
    "    \"\"\"    \n",
    "    return y - f(p, *args)"
   ]
  },
  {
   "cell_type": "code",
   "execution_count": null,
   "metadata": {
    "collapsed": true
   },
   "outputs": [],
   "source": []
  },
  {
   "cell_type": "markdown",
   "metadata": {},
   "source": [
    "### Defining the model function\n",
    "\n",
    "So, our first step for using `scipy.optimize.leastsq()` is to define the fit function, which we will call `bcd_gradient_model`.  We have three parameters, $I_0$, $a$, and $\\lambda$."
   ]
  },
  {
   "cell_type": "code",
   "execution_count": 15,
   "metadata": {
    "collapsed": true
   },
   "outputs": [],
   "source": [
    "def bcd_gradient_model(x, I_0, a, lam):\n",
    "    \"\"\"Model for Bcd gradient: exponential decay plus background\"\"\"\n",
    "    return a + I_0 * np.exp(-x/lam)"
   ]
  },
  {
   "cell_type": "markdown",
   "metadata": {},
   "source": [
    "Notice that we used `lam` as the name of the parameter $\\lambda$.  This is because `lambda` is a keyword in Python.  **Never** name a variable `lambda`.  This is so important, I'm going to make the point more fervently, even though we already made it in a previous lesson."
   ]
  },
  {
   "cell_type": "markdown",
   "metadata": {},
   "source": [
    "<div class=\"alert alert-danger\">\n",
    "<p>**Never** name a Python variable the same as a keyword!</p><br />\n",
    "\n",
    "To see what the keywords are, do this:\n",
    "\n",
    "    `import keyword; print(keyword.kwlist)`\n",
    "</div>"
   ]
  },
  {
   "cell_type": "markdown",
   "metadata": {},
   "source": [
    "There is a problem with our function, though.  It is really only defined is all of its arguments are positive.  We therefore should assure that all arguments are positive."
   ]
  },
  {
   "cell_type": "code",
   "execution_count": 17,
   "metadata": {
    "collapsed": true
   },
   "outputs": [],
   "source": [
    "def bcd_gradient_model(x, I_0, a, lam):\n",
    "    \"\"\"Model for Bcd gradient: exponential decay plus background\"\"\"\n",
    "    assert np.all(np.array(x) >= 0), 'All values of x must be >= 0.'\n",
    "    assert np.all(np.array([I_0, a, lam]) >= 0), 'All parameters must be >= 0.'\n",
    "    \n",
    "    return a + I_0 * np.exp(-x / lam)"
   ]
  },
  {
   "cell_type": "markdown",
   "metadata": {},
   "source": [
    "### Defining the residual function\n",
    "\n",
    "Remember, we need to pass a function containing the *residuals* to `scipy.optimize.leastsq()`, so we need to write a function to do that. Do not forget that its call signature is `resids(p, *args)`."
   ]
  },
  {
   "cell_type": "code",
   "execution_count": 24,
   "metadata": {
    "collapsed": true
   },
   "outputs": [],
   "source": [
    "def resids(p, x, I_bcd):\n",
    "    \"\"\"Residuals for bcd gradient model\"\"\"\n",
    "    I_0, a, lam = p\n",
    "    return I_bcd - bcd_gradient_model(x, I_0, a, lam)"
   ]
  },
  {
   "cell_type": "markdown",
   "metadata": {},
   "source": [
    "### Initial guess\n",
    "\n",
    "With our fit function in place, we now need to supply initial guesses for the parameter values, given by the kwarg `p0`. In looking at the plot, we see that we indeed have a nonzero background signal, somewhere around $a \\approx 0.2$.  We also see that $I_0 \\approx 0.9$ and $\\lambda \\approx 0.3$.  We would normally use these as our approximate guesses, but to show an additional lesson, we will guess $\\lambda = 1$, making the solver do a little more work."
   ]
  },
  {
   "cell_type": "code",
   "execution_count": 25,
   "metadata": {
    "collapsed": true
   },
   "outputs": [],
   "source": [
    "# Specify initial guess\n",
    "I_0_guess = 0.9\n",
    "a_guess = 0.2\n",
    "lam_guess = 1.0\n",
    "\n",
    "# Construct initial guess array\n",
    "p0 = np.array([I_0_guess, a_guess, lam_guess])"
   ]
  },
  {
   "cell_type": "markdown",
   "metadata": {},
   "source": [
    "### Performing the regression (first try)\n",
    "\n",
    "When doing the curve fit, we see that it returns the optimal parameter values as well as an estimate of the covariance matrix. For reasons I will not discuss here, this covariance matrix has some assumptions under the hood that are not always appropriate, so we will just ignore it. Now we're ready to do the regression!"
   ]
  },
  {
   "cell_type": "code",
   "execution_count": 26,
   "metadata": {},
   "outputs": [
    {
     "ename": "AssertionError",
     "evalue": "All parameters must be >= 0.",
     "output_type": "error",
     "traceback": [
      "\u001b[0;31m---------------------------------------------------------------------------\u001b[0m",
      "\u001b[0;31mAssertionError\u001b[0m                            Traceback (most recent call last)",
      "\u001b[0;32m<ipython-input-26-65a593dc1ee7>\u001b[0m in \u001b[0;36m<module>\u001b[0;34m()\u001b[0m\n\u001b[1;32m      3\u001b[0m \u001b[0;34m\u001b[0m\u001b[0m\n\u001b[1;32m      4\u001b[0m \u001b[0;31m# Do curve fit, but dump covariance into dummy variable\u001b[0m\u001b[0;34m\u001b[0m\u001b[0;34m\u001b[0m\u001b[0m\n\u001b[0;32m----> 5\u001b[0;31m \u001b[0mp\u001b[0m\u001b[0;34m,\u001b[0m \u001b[0m_\u001b[0m \u001b[0;34m=\u001b[0m \u001b[0mscipy\u001b[0m\u001b[0;34m.\u001b[0m\u001b[0moptimize\u001b[0m\u001b[0;34m.\u001b[0m\u001b[0mleastsq\u001b[0m\u001b[0;34m(\u001b[0m\u001b[0mresids\u001b[0m\u001b[0;34m,\u001b[0m \u001b[0mp0\u001b[0m\u001b[0;34m,\u001b[0m \u001b[0margs\u001b[0m\u001b[0;34m=\u001b[0m\u001b[0margs\u001b[0m\u001b[0;34m)\u001b[0m\u001b[0;34m\u001b[0m\u001b[0m\n\u001b[0m\u001b[1;32m      6\u001b[0m \u001b[0;34m\u001b[0m\u001b[0m\n\u001b[1;32m      7\u001b[0m \u001b[0;31m# Print the results\u001b[0m\u001b[0;34m\u001b[0m\u001b[0;34m\u001b[0m\u001b[0m\n",
      "\u001b[0;32m/Users/Justin/anaconda/lib/python3.6/site-packages/scipy/optimize/minpack.py\u001b[0m in \u001b[0;36mleastsq\u001b[0;34m(func, x0, args, Dfun, full_output, col_deriv, ftol, xtol, gtol, maxfev, epsfcn, factor, diag)\u001b[0m\n\u001b[1;32m    385\u001b[0m             \u001b[0mmaxfev\u001b[0m \u001b[0;34m=\u001b[0m \u001b[0;36m200\u001b[0m\u001b[0;34m*\u001b[0m\u001b[0;34m(\u001b[0m\u001b[0mn\u001b[0m \u001b[0;34m+\u001b[0m \u001b[0;36m1\u001b[0m\u001b[0;34m)\u001b[0m\u001b[0;34m\u001b[0m\u001b[0m\n\u001b[1;32m    386\u001b[0m         retval = _minpack._lmdif(func, x0, args, full_output, ftol, xtol,\n\u001b[0;32m--> 387\u001b[0;31m                                  gtol, maxfev, epsfcn, factor, diag)\n\u001b[0m\u001b[1;32m    388\u001b[0m     \u001b[0;32melse\u001b[0m\u001b[0;34m:\u001b[0m\u001b[0;34m\u001b[0m\u001b[0m\n\u001b[1;32m    389\u001b[0m         \u001b[0;32mif\u001b[0m \u001b[0mcol_deriv\u001b[0m\u001b[0;34m:\u001b[0m\u001b[0;34m\u001b[0m\u001b[0m\n",
      "\u001b[0;32m<ipython-input-24-dbf15bd311f2>\u001b[0m in \u001b[0;36mresids\u001b[0;34m(p, x, I_bcd)\u001b[0m\n\u001b[1;32m      2\u001b[0m     \u001b[0;34m\"\"\"Residuals for bcd gradient model\"\"\"\u001b[0m\u001b[0;34m\u001b[0m\u001b[0m\n\u001b[1;32m      3\u001b[0m     \u001b[0mI_0\u001b[0m\u001b[0;34m,\u001b[0m \u001b[0ma\u001b[0m\u001b[0;34m,\u001b[0m \u001b[0mlam\u001b[0m \u001b[0;34m=\u001b[0m \u001b[0mp\u001b[0m\u001b[0;34m\u001b[0m\u001b[0m\n\u001b[0;32m----> 4\u001b[0;31m     \u001b[0;32mreturn\u001b[0m \u001b[0mI_bcd\u001b[0m \u001b[0;34m-\u001b[0m \u001b[0mbcd_gradient_model\u001b[0m\u001b[0;34m(\u001b[0m\u001b[0mx\u001b[0m\u001b[0;34m,\u001b[0m \u001b[0mI_0\u001b[0m\u001b[0;34m,\u001b[0m \u001b[0ma\u001b[0m\u001b[0;34m,\u001b[0m \u001b[0mlam\u001b[0m\u001b[0;34m)\u001b[0m\u001b[0;34m\u001b[0m\u001b[0m\n\u001b[0m",
      "\u001b[0;32m<ipython-input-17-4797111993e1>\u001b[0m in \u001b[0;36mbcd_gradient_model\u001b[0;34m(x, I_0, a, lam)\u001b[0m\n\u001b[1;32m      2\u001b[0m     \u001b[0;34m\"\"\"Model for Bcd gradient: exponential decay plus background\"\"\"\u001b[0m\u001b[0;34m\u001b[0m\u001b[0m\n\u001b[1;32m      3\u001b[0m     \u001b[0;32massert\u001b[0m \u001b[0mnp\u001b[0m\u001b[0;34m.\u001b[0m\u001b[0mall\u001b[0m\u001b[0;34m(\u001b[0m\u001b[0mnp\u001b[0m\u001b[0;34m.\u001b[0m\u001b[0marray\u001b[0m\u001b[0;34m(\u001b[0m\u001b[0mx\u001b[0m\u001b[0;34m)\u001b[0m \u001b[0;34m>=\u001b[0m \u001b[0;36m0\u001b[0m\u001b[0;34m)\u001b[0m\u001b[0;34m,\u001b[0m \u001b[0;34m'All values of x must be >= 0.'\u001b[0m\u001b[0;34m\u001b[0m\u001b[0m\n\u001b[0;32m----> 4\u001b[0;31m     \u001b[0;32massert\u001b[0m \u001b[0mnp\u001b[0m\u001b[0;34m.\u001b[0m\u001b[0mall\u001b[0m\u001b[0;34m(\u001b[0m\u001b[0mnp\u001b[0m\u001b[0;34m.\u001b[0m\u001b[0marray\u001b[0m\u001b[0;34m(\u001b[0m\u001b[0;34m[\u001b[0m\u001b[0mI_0\u001b[0m\u001b[0;34m,\u001b[0m \u001b[0ma\u001b[0m\u001b[0;34m,\u001b[0m \u001b[0mlam\u001b[0m\u001b[0;34m]\u001b[0m\u001b[0;34m)\u001b[0m \u001b[0;34m>=\u001b[0m \u001b[0;36m0\u001b[0m\u001b[0;34m)\u001b[0m\u001b[0;34m,\u001b[0m \u001b[0;34m'All parameters must be >= 0.'\u001b[0m\u001b[0;34m\u001b[0m\u001b[0m\n\u001b[0m\u001b[1;32m      5\u001b[0m \u001b[0;34m\u001b[0m\u001b[0m\n\u001b[1;32m      6\u001b[0m     \u001b[0;32mreturn\u001b[0m \u001b[0ma\u001b[0m \u001b[0;34m+\u001b[0m \u001b[0mI_0\u001b[0m \u001b[0;34m*\u001b[0m \u001b[0mnp\u001b[0m\u001b[0;34m.\u001b[0m\u001b[0mexp\u001b[0m\u001b[0;34m(\u001b[0m\u001b[0;34m-\u001b[0m\u001b[0mx\u001b[0m \u001b[0;34m/\u001b[0m \u001b[0mlam\u001b[0m\u001b[0;34m)\u001b[0m\u001b[0;34m\u001b[0m\u001b[0m\n",
      "\u001b[0;31mAssertionError\u001b[0m: All parameters must be >= 0."
     ]
    }
   ],
   "source": [
    "# Set up args to be passed to scipy.optimize.leastsq (x, y values)\n",
    "args = (df['x'], df['I_bcd'])\n",
    "\n",
    "# Do curve fit, but dump covariance into dummy variable\n",
    "p, _ = scipy.optimize.leastsq(resids, p0, args=args)\n",
    "\n",
    "# Print the results\n",
    "print(\"\"\"\n",
    "I_0 = {0:.2f}\n",
    "  a = {1:.2f}\n",
    "  λ = {2:.2f}\n",
    "\"\"\".format(*tuple(p)))"
   ]
  },
  {
   "cell_type": "markdown",
   "metadata": {},
   "source": [
    "Oh no!  We got an exception that we had negative parameters! This occurred because under the hood, `scipy.optimize.leastsq()` tries many sets of parameter values as it searches for those that bring the theoretical curve closest to the observed data. (It is more complicated than that, but we won't get into that here.)"
   ]
  },
  {
   "cell_type": "markdown",
   "metadata": {},
   "source": [
    "### Performing the regression (second try)\n",
    "\n",
    "At this point, we have a few options.\n",
    "1. Take out our error checking on positivity of parameter. The resulting curve with negative values of $I_0$, $a$, or $\\lambda$ will be so far off, the least squares routine should come back toward physical parameter values after an excursion into non-physicality.\n",
    "2. Try using something other than `scipy.optimize.leastsq()`.\n",
    "3. Adjust our theoretical function by using the logarithm of the parameter values instead of the parameter values themselves. This ensures that all parameter are positive.\n",
    "\n",
    "I think option 1 is off the table. We generally want to avoid \"shoulds\" when programming. We do not want to just hope that the solver will work, even though nonphysical parameter values are encountered.\n",
    "\n",
    "Depending on how many times I will need to do a particular type of curve fit, I typically prefer option 2. We will not do this in the bootcamp, but I often use a technique called Markov chain Monte Carlo.\n",
    "\n",
    "We'll use option 3. This still allows the solver to consider a smooth function of the parameter values. So, we just need to rewrite our residuals function to take log parameters."
   ]
  },
  {
   "cell_type": "code",
   "execution_count": 28,
   "metadata": {
    "collapsed": true
   },
   "outputs": [],
   "source": [
    "def resids(log_p, x, I_bcd):\n",
    "    \"\"\"Residuals for bcd gradient model\"\"\"\n",
    "    I_0, a, lam = np.exp(log_p)\n",
    "    return I_bcd - bcd_gradient_model(x, I_0, a, lam)"
   ]
  },
  {
   "cell_type": "markdown",
   "metadata": {},
   "source": [
    "Now let's try our curve fit again. We need to make sure we convert our initial guesses into logarithms. Remember, now the solver will be working with logarithms of parameters."
   ]
  },
  {
   "cell_type": "code",
   "execution_count": 29,
   "metadata": {},
   "outputs": [
    {
     "name": "stdout",
     "output_type": "stream",
     "text": [
      "\n",
      "I_0 = 0.77\n",
      "  a = 0.17\n",
      "  λ = 0.19\n",
      "\n"
     ]
    }
   ],
   "source": [
    "# Construct initial guess array\n",
    "log_p0 = np.log(p0)\n",
    "\n",
    "# Do curve fit, but dump covariance into dummy variable\n",
    "log_p, _ = scipy.optimize.leastsq(resids, log_p0, args=args)\n",
    "\n",
    "# Get the optimal parameter values\n",
    "p = np.exp(log_p)\n",
    "\n",
    "# Print the results\n",
    "print(\"\"\"\n",
    "I_0 = {0:.2f}\n",
    "  a = {1:.2f}\n",
    "  λ = {2:.2f}\n",
    "\"\"\".format(*tuple(p)))"
   ]
  },
  {
   "cell_type": "markdown",
   "metadata": {},
   "source": [
    "That worked!"
   ]
  },
  {
   "cell_type": "markdown",
   "metadata": {},
   "source": [
    "### Plotting the result\n",
    "\n",
    "We can now generate a smooth curve defined by the optimal parameters we just found and plot it along with the data.  To do this, we make a densely sampled array of $x$ values and then compute the fitting function for these values."
   ]
  },
  {
   "cell_type": "code",
   "execution_count": 30,
   "metadata": {},
   "outputs": [
    {
     "data": {
      "image/png": "[encoded data removed]",
      "text/plain": [
       "<matplotlib.figure.Figure at 0x1165715c0>"
      ]
     },
     "metadata": {
      "image/png": {
       "height": 266,
       "width": 388
      }
     },
     "output_type": "display_data"
    }
   ],
   "source": [
    "# Smooth x values (100 values between zero and one)\n",
    "x_smooth = np.linspace(0, 1, 100)\n",
    "\n",
    "# Compute smooth curve\n",
    "I_smooth = bcd_gradient_model(x_smooth, *tuple(p))\n",
    "\n",
    "# Plot everything together\n",
    "fig, ax = plt.subplots(1, 1)\n",
    "ax.set_xlabel('x')\n",
    "ax.set_ylabel('I (a.u.)')\n",
    "_ = ax.plot(x_smooth, I_smooth, marker='None', linestyle='-', color='gray')\n",
    "_ = ax.plot(df['x'], df['I_bcd'], marker='.', linestyle='none')"
   ]
  },
  {
   "cell_type": "markdown",
   "metadata": {},
   "source": [
    "So, we have determined the length scale of the Bcd gradient: about 20% of the total embryo length."
   ]
  }
 ],
 "metadata": {
  "anaconda-cloud": {},
  "kernelspec": {
   "display_name": "Python 3",
   "language": "python",
   "name": "python3"
  },
  "language_info": {
   "codemirror_mode": {
    "name": "ipython",
    "version": 3
   },
   "file_extension": ".py",
   "mimetype": "text/x-python",
   "name": "python",
   "nbconvert_exporter": "python",
   "pygments_lexer": "ipython3",
   "version": "3.6.1"
  }
 },
 "nbformat": 4,
 "nbformat_minor": 1
}
