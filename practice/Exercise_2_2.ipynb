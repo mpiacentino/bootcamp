{
 "cells": [
  {
   "cell_type": "code",
   "execution_count": 1,
   "metadata": {},
   "outputs": [],
   "source": [
    "import bootcamp_utils"
   ]
  },
  {
   "cell_type": "code",
   "execution_count": 2,
   "metadata": {},
   "outputs": [],
   "source": [
    "a = bootcamp_utils.bases"
   ]
  },
  {
   "cell_type": "code",
   "execution_count": 3,
   "metadata": {},
   "outputs": [
    {
     "data": {
      "text/plain": [
       "['T', 'C', 'A', 'G']"
      ]
     },
     "execution_count": 3,
     "metadata": {},
     "output_type": "execute_result"
    }
   ],
   "source": [
    "a"
   ]
  },
  {
   "cell_type": "code",
   "execution_count": 4,
   "metadata": {},
   "outputs": [],
   "source": [
    "def is_valid(seq):\n",
    "    \"\"\"Check sequence for validity, i.e. only nucleotides.\"\"\"\n",
    "    for base in seq:\n",
    "        if base not in bootcamp_utils.bases:\n",
    "            raise RuntimeError(base + ' is not a valid nucleotide.')\n"
   ]
  },
  {
   "cell_type": "code",
   "execution_count": 7,
   "metadata": {},
   "outputs": [],
   "source": [
    "seq = 'ATQC'"
   ]
  },
  {
   "cell_type": "code",
   "execution_count": 8,
   "metadata": {},
   "outputs": [
    {
     "ename": "RuntimeError",
     "evalue": "Q is not a valid nucleotide.",
     "output_type": "error",
     "traceback": [
      "\u001b[0;31m---------------------------------------------------------------------------\u001b[0m",
      "\u001b[0;31mRuntimeError\u001b[0m                              Traceback (most recent call last)",
      "\u001b[0;32m<ipython-input-8-1596b8176687>\u001b[0m in \u001b[0;36m<module>\u001b[0;34m()\u001b[0m\n\u001b[0;32m----> 1\u001b[0;31m \u001b[0mis_valid\u001b[0m\u001b[0;34m(\u001b[0m\u001b[0mseq\u001b[0m\u001b[0;34m)\u001b[0m\u001b[0;34m\u001b[0m\u001b[0m\n\u001b[0m",
      "\u001b[0;32m<ipython-input-4-fcb90b2f3e0e>\u001b[0m in \u001b[0;36mis_valid\u001b[0;34m(seq)\u001b[0m\n\u001b[1;32m      3\u001b[0m     \u001b[0;32mfor\u001b[0m \u001b[0mbase\u001b[0m \u001b[0;32min\u001b[0m \u001b[0mseq\u001b[0m\u001b[0;34m:\u001b[0m\u001b[0;34m\u001b[0m\u001b[0m\n\u001b[1;32m      4\u001b[0m         \u001b[0;32mif\u001b[0m \u001b[0mbase\u001b[0m \u001b[0;32mnot\u001b[0m \u001b[0;32min\u001b[0m \u001b[0mbootcamp_utils\u001b[0m\u001b[0;34m.\u001b[0m\u001b[0mbases\u001b[0m\u001b[0;34m:\u001b[0m\u001b[0;34m\u001b[0m\u001b[0m\n\u001b[0;32m----> 5\u001b[0;31m             \u001b[0;32mraise\u001b[0m \u001b[0mRuntimeError\u001b[0m\u001b[0;34m(\u001b[0m\u001b[0mbase\u001b[0m \u001b[0;34m+\u001b[0m \u001b[0;34m' is not a valid nucleotide.'\u001b[0m\u001b[0;34m)\u001b[0m\u001b[0;34m\u001b[0m\u001b[0m\n\u001b[0m",
      "\u001b[0;31mRuntimeError\u001b[0m: Q is not a valid nucleotide."
     ]
    }
   ],
   "source": [
    "is_valid(seq)"
   ]
  },
  {
   "cell_type": "code",
   "execution_count": 18,
   "metadata": {},
   "outputs": [
    {
     "name": "stdout",
     "output_type": "stream",
     "text": [
      "yes\n"
     ]
    }
   ],
   "source": [
    "import gc_blocks\n",
    "seq = 'ATGACTACGT'\n",
    "block_size = 4\n",
    "\n",
    "gc_blocks.gc_blocks('ATGC', '2')"
   ]
  },
  {
   "cell_type": "code",
   "execution_count": 19,
   "metadata": {},
   "outputs": [],
   "source": [
    "seq = 'ATGACTACGT'\n",
    "block_size = 4"
   ]
  },
  {
   "cell_type": "code",
   "execution_count": 20,
   "metadata": {},
   "outputs": [],
   "source": [
    "blocks = []"
   ]
  },
  {
   "cell_type": "code",
   "execution_count": 21,
   "metadata": {},
   "outputs": [],
   "source": [
    "blocks = ()"
   ]
  },
  {
   "cell_type": "code",
   "execution_count": 28,
   "metadata": {},
   "outputs": [],
   "source": [
    "seq = tuple(seq)"
   ]
  },
  {
   "cell_type": "code",
   "execution_count": 29,
   "metadata": {},
   "outputs": [
    {
     "data": {
      "text/plain": [
       "('A', 'T', 'G', 'A', 'C', 'T', 'A', 'C', 'G', 'T')"
      ]
     },
     "execution_count": 29,
     "metadata": {},
     "output_type": "execute_result"
    }
   ],
   "source": [
    "seq"
   ]
  },
  {
   "cell_type": "code",
   "execution_count": 85,
   "metadata": {},
   "outputs": [
    {
     "name": "stdout",
     "output_type": "stream",
     "text": [
      "('ATGA', 'CTAC', 'GTCG', 'ACAG', 'AGAC')\n",
      "(0.25, 0.5, 0.75, 0.5, 0.5)\n"
     ]
    }
   ],
   "source": [
    "seq = 'ATGACTACGTCGACAGAGACA'\n",
    "block_size = 4\n",
    "\n",
    "blocks = ()\n",
    "gc_cont = ()\n",
    "j = block_size\n",
    "\n",
    "for i in range(0, len(seq), j):\n",
    "    block = seq[i:i+j]\n",
    "    if len(block) < j:\n",
    "        pass\n",
    "    else:\n",
    "        blocks = blocks + (block,)\n",
    "\n",
    "for i in range(len(blocks)):\n",
    "    block = blocks[i]\n",
    "    gc_cont = gc_cont + (((block.count('C') + block.count('G')) / block_size),)\n",
    "\n",
    "    \n",
    "print(blocks)\n",
    "print(gc_cont)\n",
    "\n",
    "    \n",
    "\n",
    "    "
   ]
  },
  {
   "cell_type": "code",
   "execution_count": 102,
   "metadata": {},
   "outputs": [],
   "source": [
    "import gc_blocks"
   ]
  },
  {
   "cell_type": "code",
   "execution_count": 103,
   "metadata": {},
   "outputs": [
    {
     "ename": "TypeError",
     "evalue": "'>' not supported between instances of 'int' and 'str'",
     "output_type": "error",
     "traceback": [
      "\u001b[0;31m---------------------------------------------------------------------------\u001b[0m",
      "\u001b[0;31mTypeError\u001b[0m                                 Traceback (most recent call last)",
      "\u001b[0;32m<ipython-input-103-5ea50a7b222e>\u001b[0m in \u001b[0;36m<module>\u001b[0;34m()\u001b[0m\n\u001b[0;32m----> 1\u001b[0;31m \u001b[0mgc_blocks\u001b[0m\u001b[0;34m.\u001b[0m\u001b[0mgc_blocks\u001b[0m\u001b[0;34m(\u001b[0m\u001b[0mseq\u001b[0m\u001b[0;34m,\u001b[0m \u001b[0mblock_size\u001b[0m\u001b[0;34m)\u001b[0m\u001b[0;34m\u001b[0m\u001b[0m\n\u001b[0m",
      "\u001b[0;32m~/git/bootcamp/gc_blocks.py\u001b[0m in \u001b[0;36mgc_blocks\u001b[0;34m(seq, block_size)\u001b[0m\n\u001b[1;32m     16\u001b[0m             \u001b[0mblocks\u001b[0m \u001b[0;34m=\u001b[0m \u001b[0mblocks\u001b[0m \u001b[0;34m+\u001b[0m \u001b[0;34m(\u001b[0m\u001b[0mblock\u001b[0m\u001b[0;34m,\u001b[0m\u001b[0;34m)\u001b[0m\u001b[0;34m\u001b[0m\u001b[0m\n\u001b[1;32m     17\u001b[0m \u001b[0;34m\u001b[0m\u001b[0m\n\u001b[0;32m---> 18\u001b[0;31m \u001b[0;34m\u001b[0m\u001b[0m\n\u001b[0m\u001b[1;32m     19\u001b[0m \u001b[0;32mdef\u001b[0m \u001b[0mgc_blocks\u001b[0m\u001b[0;34m(\u001b[0m\u001b[0mseq\u001b[0m\u001b[0;34m,\u001b[0m \u001b[0mblock_size\u001b[0m\u001b[0;34m)\u001b[0m\u001b[0;34m:\u001b[0m\u001b[0;34m\u001b[0m\u001b[0m\n\u001b[1;32m     20\u001b[0m     \u001b[0;34m\"\"\"Divide sequence into blocks and calculate GC content per block.\"\"\"\u001b[0m\u001b[0;34m\u001b[0m\u001b[0m\n",
      "\u001b[0;32m~/git/bootcamp/gc_blocks.py\u001b[0m in \u001b[0;36mcheck_seq_longer_than_block\u001b[0;34m(seq, block_size)\u001b[0m\n\u001b[1;32m      9\u001b[0m     \u001b[0mj\u001b[0m \u001b[0;34m=\u001b[0m \u001b[0mblock_size\u001b[0m\u001b[0;34m\u001b[0m\u001b[0m\n\u001b[1;32m     10\u001b[0m \u001b[0;34m\u001b[0m\u001b[0m\n\u001b[0;32m---> 11\u001b[0;31m     \u001b[0;32mfor\u001b[0m \u001b[0mi\u001b[0m \u001b[0;32min\u001b[0m \u001b[0mrange\u001b[0m\u001b[0;34m(\u001b[0m\u001b[0;36m0\u001b[0m\u001b[0;34m,\u001b[0m \u001b[0mlen\u001b[0m\u001b[0;34m(\u001b[0m\u001b[0mseq\u001b[0m\u001b[0;34m)\u001b[0m\u001b[0;34m,\u001b[0m \u001b[0mj\u001b[0m\u001b[0;34m)\u001b[0m\u001b[0;34m:\u001b[0m\u001b[0;34m\u001b[0m\u001b[0m\n\u001b[0m\u001b[1;32m     12\u001b[0m         \u001b[0mblock\u001b[0m \u001b[0;34m=\u001b[0m \u001b[0mseq\u001b[0m\u001b[0;34m[\u001b[0m\u001b[0mi\u001b[0m\u001b[0;34m:\u001b[0m\u001b[0mi\u001b[0m\u001b[0;34m+\u001b[0m\u001b[0mj\u001b[0m\u001b[0;34m]\u001b[0m\u001b[0;34m\u001b[0m\u001b[0m\n\u001b[1;32m     13\u001b[0m         \u001b[0;32mif\u001b[0m \u001b[0mlen\u001b[0m\u001b[0;34m(\u001b[0m\u001b[0mblock\u001b[0m\u001b[0;34m)\u001b[0m \u001b[0;34m<\u001b[0m \u001b[0mj\u001b[0m\u001b[0;34m:\u001b[0m\u001b[0;34m\u001b[0m\u001b[0m\n",
      "\u001b[0;31mTypeError\u001b[0m: '>' not supported between instances of 'int' and 'str'"
     ]
    }
   ],
   "source": [
    "gc_blocks.gc_blocks(seq, block_size)"
   ]
  },
  {
   "cell_type": "code",
   "execution_count": 93,
   "metadata": {},
   "outputs": [
    {
     "data": {
      "text/plain": [
       "int"
      ]
     },
     "execution_count": 93,
     "metadata": {},
     "output_type": "execute_result"
    }
   ],
   "source": [
    "type(len(seq))"
   ]
  },
  {
   "cell_type": "code",
   "execution_count": 105,
   "metadata": {},
   "outputs": [
    {
     "name": "stdout",
     "output_type": "stream",
     "text": [
      "('ATGA', 'CTAC', 'GTCG', 'ACAG', 'AGAC', 'ATGA', 'CTAC', 'GTCG', 'ACAG', 'AGAC')\n"
     ]
    }
   ],
   "source": [
    "for i in range(0, len(seq), j):\n",
    "        block = seq[i : i + block_size]\n",
    "        if len(block) < block_size:\n",
    "            pass\n",
    "        else:\n",
    "            blocks = blocks + (block,)\n",
    "print (blocks)"
   ]
  },
  {
   "cell_type": "code",
   "execution_count": 107,
   "metadata": {},
   "outputs": [
    {
     "name": "stdout",
     "output_type": "stream",
     "text": [
      "('ATGA', 'CTAC', 'GTCG', 'ACAG', 'AGAC', 'ATGA', 'CTAC', 'GTCG', 'ACAG', 'AGAC')\n",
      "(0.25, 0.5, 0.75, 0.5, 0.5, 0.25, 0.5, 0.75, 0.5, 0.5, 0.25, 0.5, 0.75, 0.5, 0.5)\n"
     ]
    }
   ],
   "source": [
    "for i in range(len(blocks)):\n",
    "        block = blocks[i]\n",
    "        gc_cont = gc_cont + (((block.count('C') + block.count('G')) / block_size),)\n",
    "        \n",
    "print(blocks)\n",
    "print(gc_cont)"
   ]
  },
  {
   "cell_type": "code",
   "execution_count": 109,
   "metadata": {},
   "outputs": [
    {
     "ename": "NameError",
     "evalue": "name 'new_tuple' is not defined",
     "output_type": "error",
     "traceback": [
      "\u001b[0;31m---------------------------------------------------------------------------\u001b[0m",
      "\u001b[0;31mNameError\u001b[0m                                 Traceback (most recent call last)",
      "\u001b[0;32m<ipython-input-109-0106fa47920f>\u001b[0m in \u001b[0;36m<module>\u001b[0;34m()\u001b[0m\n\u001b[0;32m----> 1\u001b[0;31m \u001b[0mnew_tuple\u001b[0m \u001b[0;34m=\u001b[0m \u001b[0mnew_tuple\u001b[0m \u001b[0;34m+\u001b[0m \u001b[0;34m(\u001b[0m\u001b[0;36m1\u001b[0m\u001b[0;34m,\u001b[0m\u001b[0;34m)\u001b[0m\u001b[0;34m\u001b[0m\u001b[0m\n\u001b[0m\u001b[1;32m      2\u001b[0m \u001b[0mprint\u001b[0m \u001b[0;34m(\u001b[0m\u001b[0mnew_tuple\u001b[0m\u001b[0;34m)\u001b[0m\u001b[0;34m\u001b[0m\u001b[0m\n",
      "\u001b[0;31mNameError\u001b[0m: name 'new_tuple' is not defined"
     ]
    }
   ],
   "source": [
    "\n",
    "new_tuple = new_tuple + (1,)\n",
    "print (new_tuple)"
   ]
  },
  {
   "cell_type": "code",
   "execution_count": 1,
   "metadata": {},
   "outputs": [],
   "source": [
    "seq = 'ATGACTACGT'\n",
    "block_size = 4"
   ]
  },
  {
   "cell_type": "code",
   "execution_count": 4,
   "metadata": {},
   "outputs": [
    {
     "name": "stdout",
     "output_type": "stream",
     "text": [
      "('ATGA', 'CTAC')\n"
     ]
    }
   ],
   "source": [
    "blocks = ()\n",
    "\n",
    "for i in range(0, len(seq), block_size):\n",
    "        block = seq[i : i + block_size]\n",
    "        if len(block) < block_size:\n",
    "            pass\n",
    "        else:\n",
    "            blocks = blocks + (block,)\n",
    "print (blocks)"
   ]
  },
  {
   "cell_type": "code",
   "execution_count": 5,
   "metadata": {},
   "outputs": [
    {
     "name": "stdout",
     "output_type": "stream",
     "text": [
      "('ATGA', 'CTAC')\n",
      "(0.25, 0.5)\n"
     ]
    }
   ],
   "source": [
    "gc_cont = ()\n",
    "\n",
    "for i in range(len(blocks)):\n",
    "        block = blocks[i]\n",
    "        gc_cont = gc_cont + (((block.count('C') + block.count('G')) / block_size),)\n",
    "        \n",
    "print(blocks)\n",
    "print(gc_cont)"
   ]
  },
  {
   "cell_type": "code",
   "execution_count": 14,
   "metadata": {},
   "outputs": [
    {
     "data": {
      "text/plain": [
       "'atgaCTAC'"
      ]
     },
     "execution_count": 14,
     "metadata": {},
     "output_type": "execute_result"
    }
   ],
   "source": [
    "gc_thresh = 0.4\n",
    "gc_map_list = []\n",
    "\n",
    "for i in range(len(gc_cont)):\n",
    "    if gc_cont[i] >= gc_thresh:\n",
    "        gc_map_list.append(blocks[i].upper())\n",
    "    elif gc_cont[i] < gc_thresh:\n",
    "        gc_map_list.append(blocks[i].lower())\n",
    "\n",
    "''.join(gc_map_list)\n",
    "        \n",
    "        \n",
    "    "
   ]
  },
  {
   "cell_type": "markdown",
   "metadata": {},
   "source": [
    " \"\"\"returns the original sequence where every base in a block with GC content above threshold is capitalized and every base below     the threshold is lowercase\n",
    "    \n",
    "    For example,\n",
    "            gc_map('ATGACTACGT', 4, 0.4)\n",
    "\n",
    "    returns 'atgaCTAC'. Note that bases not included in GC blocks are not included in the output sequence. Again, use principles of       TDD.\"\"\""
   ]
  },
  {
   "cell_type": "code",
   "execution_count": 6,
   "metadata": {},
   "outputs": [],
   "source": [
    "list = [1,2,3]\n"
   ]
  },
  {
   "cell_type": "code",
   "execution_count": 7,
   "metadata": {},
   "outputs": [
    {
     "data": {
      "text/plain": [
       "'[1, 2, 3]'"
      ]
     },
     "execution_count": 7,
     "metadata": {},
     "output_type": "execute_result"
    }
   ],
   "source": [
    "str(list)"
   ]
  },
  {
   "cell_type": "code",
   "execution_count": 30,
   "metadata": {},
   "outputs": [],
   "source": [
    "def blocks(seq, block_size):\n",
    "    \"\"\"Divide sequence into blocks.\n",
    "    Output is tuple.\"\"\"\n",
    "    blocks = ()\n",
    "\n",
    "    for i in range(0, len(seq), block_size):\n",
    "        block = seq[i : i + block_size]\n",
    "        if len(block) < block_size:\n",
    "            pass\n",
    "        else:\n",
    "            blocks = blocks + (block,)"
   ]
  },
  {
   "cell_type": "code",
   "execution_count": 31,
   "metadata": {},
   "outputs": [],
   "source": [
    "def gc_blocks(seq, block_size):\n",
    "    \"\"\"Calculate GC content per block. \n",
    "    Output is tuple.\"\"\"\n",
    "    gc_cont = ()\n",
    "    blocks = blocks(seq, block_size)\n",
    "    \n",
    "    for i in range(len(blocks)):\n",
    "        block = blocks[i]\n",
    "        gc_cont = gc_cont + (((block.count('C') + block.count('G')) / block_size),)"
   ]
  },
  {
   "cell_type": "code",
   "execution_count": 32,
   "metadata": {},
   "outputs": [
    {
     "data": {
      "text/plain": [
       "'atgaCTAC'"
      ]
     },
     "execution_count": 32,
     "metadata": {},
     "output_type": "execute_result"
    }
   ],
   "source": [
    "def gc_map(seq, block_size, gc_thresh):\n",
    "    \"\"\"Adjust text case based on GC threshold; if above, text is upper, if below, lower.returns the original sequence where every base in a block with GC content above threshold is capitalized and every base below     the threshold is lowercase\n",
    "    \n",
    "    For example,\n",
    "            gc_map('ATGACTACGT', 4, 0.4)\n",
    "\n",
    "    returns 'atgaCTAC'. Note that bases not included in GC blocks are not included in the output sequence. Again, use principles of       TDD.\"\"\"\n",
    "\n",
    "    blocks(seq, block_size)\n",
    "    gc_blocks(seq, block_size)\n",
    "    \n",
    "    for i in range(len(gc_cont)):\n",
    "        if gc_cont[i] >= gc_thresh:\n",
    "            gc_map_list.append(blocks[i].upper())\n",
    "        elif gc_cont[i] < gc_thresh:\n",
    "            gc_map_list.append(blocks[i].lower())\n",
    "\n",
    "''.join(gc_map_list)"
   ]
  },
  {
   "cell_type": "code",
   "execution_count": 29,
   "metadata": {},
   "outputs": [
    {
     "ename": "UnboundLocalError",
     "evalue": "local variable 'blocks' referenced before assignment",
     "output_type": "error",
     "traceback": [
      "\u001b[0;31m---------------------------------------------------------------------------\u001b[0m",
      "\u001b[0;31mUnboundLocalError\u001b[0m                         Traceback (most recent call last)",
      "\u001b[0;32m<ipython-input-29-eadeb0c10fc8>\u001b[0m in \u001b[0;36m<module>\u001b[0;34m()\u001b[0m\n\u001b[0;32m----> 1\u001b[0;31m \u001b[0mgc_map\u001b[0m\u001b[0;34m(\u001b[0m\u001b[0;34m'ATGCAGTCCAGTC'\u001b[0m\u001b[0;34m,\u001b[0m \u001b[0;36m4\u001b[0m\u001b[0;34m,\u001b[0m \u001b[0;36m0.4\u001b[0m\u001b[0;34m)\u001b[0m\u001b[0;34m\u001b[0m\u001b[0m\n\u001b[0m",
      "\u001b[0;32m<ipython-input-28-0eac27c6d348>\u001b[0m in \u001b[0;36mgc_map\u001b[0;34m(seq, block_size, gc_thresh)\u001b[0m\n\u001b[1;32m      8\u001b[0m \u001b[0;34m\u001b[0m\u001b[0m\n\u001b[1;32m      9\u001b[0m     \u001b[0mblocks\u001b[0m\u001b[0;34m(\u001b[0m\u001b[0mseq\u001b[0m\u001b[0;34m,\u001b[0m \u001b[0mblock_size\u001b[0m\u001b[0;34m)\u001b[0m\u001b[0;34m\u001b[0m\u001b[0m\n\u001b[0;32m---> 10\u001b[0;31m     \u001b[0mgc_blocks\u001b[0m\u001b[0;34m(\u001b[0m\u001b[0mseq\u001b[0m\u001b[0;34m,\u001b[0m \u001b[0mblock_size\u001b[0m\u001b[0;34m)\u001b[0m\u001b[0;34m\u001b[0m\u001b[0m\n\u001b[0m\u001b[1;32m     11\u001b[0m \u001b[0;34m\u001b[0m\u001b[0m\n\u001b[1;32m     12\u001b[0m     \u001b[0;32mfor\u001b[0m \u001b[0mi\u001b[0m \u001b[0;32min\u001b[0m \u001b[0mrange\u001b[0m\u001b[0;34m(\u001b[0m\u001b[0mlen\u001b[0m\u001b[0;34m(\u001b[0m\u001b[0mgc_cont\u001b[0m\u001b[0;34m)\u001b[0m\u001b[0;34m)\u001b[0m\u001b[0;34m:\u001b[0m\u001b[0;34m\u001b[0m\u001b[0m\n",
      "\u001b[0;32m<ipython-input-27-7091a2248b46>\u001b[0m in \u001b[0;36mgc_blocks\u001b[0;34m(seq, block_size)\u001b[0m\n\u001b[1;32m      3\u001b[0m     Output is tuple.\"\"\"\n\u001b[1;32m      4\u001b[0m     \u001b[0mgc_cont\u001b[0m \u001b[0;34m=\u001b[0m \u001b[0;34m(\u001b[0m\u001b[0;34m)\u001b[0m\u001b[0;34m\u001b[0m\u001b[0m\n\u001b[0;32m----> 5\u001b[0;31m     \u001b[0mblocks\u001b[0m \u001b[0;34m=\u001b[0m \u001b[0mblocks\u001b[0m\u001b[0;34m(\u001b[0m\u001b[0mseq\u001b[0m\u001b[0;34m,\u001b[0m \u001b[0mblock_size\u001b[0m\u001b[0;34m)\u001b[0m\u001b[0;34m\u001b[0m\u001b[0m\n\u001b[0m\u001b[1;32m      6\u001b[0m \u001b[0;34m\u001b[0m\u001b[0m\n\u001b[1;32m      7\u001b[0m     \u001b[0;32mfor\u001b[0m \u001b[0mi\u001b[0m \u001b[0;32min\u001b[0m \u001b[0mrange\u001b[0m\u001b[0;34m(\u001b[0m\u001b[0mlen\u001b[0m\u001b[0;34m(\u001b[0m\u001b[0mblocks\u001b[0m\u001b[0;34m)\u001b[0m\u001b[0;34m)\u001b[0m\u001b[0;34m:\u001b[0m\u001b[0;34m\u001b[0m\u001b[0m\n",
      "\u001b[0;31mUnboundLocalError\u001b[0m: local variable 'blocks' referenced before assignment"
     ]
    }
   ],
   "source": [
    "gc_map('ATGCAGTCCAGTC', 4, 0.4)"
   ]
  },
  {
   "cell_type": "code",
   "execution_count": 1,
   "metadata": {},
   "outputs": [],
   "source": [
    "import gc_blocks"
   ]
  },
  {
   "cell_type": "code",
   "execution_count": 5,
   "metadata": {},
   "outputs": [
    {
     "data": {
      "text/plain": [
       "'attcAGTCGTAC'"
      ]
     },
     "execution_count": 5,
     "metadata": {},
     "output_type": "execute_result"
    }
   ],
   "source": [
    "gc_blocks.gc_map('ATTCAGTCGTACGTA', 4, 0.4)"
   ]
  },
  {
   "cell_type": "code",
   "execution_count": null,
   "metadata": {},
   "outputs": [],
   "source": []
  }
 ],
 "metadata": {
  "kernelspec": {
   "display_name": "Python 3",
   "language": "python",
   "name": "python3"
  },
  "language_info": {
   "codemirror_mode": {
    "name": "ipython",
    "version": 3
   },
   "file_extension": ".py",
   "mimetype": "text/x-python",
   "name": "python",
   "nbconvert_exporter": "python",
   "pygments_lexer": "ipython3",
   "version": "3.6.5"
  }
 },
 "nbformat": 4,
 "nbformat_minor": 2
}
