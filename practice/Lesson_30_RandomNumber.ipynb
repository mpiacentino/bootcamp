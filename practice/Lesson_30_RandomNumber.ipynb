{
 "cells": [
  {
   "cell_type": "code",
   "execution_count": 1,
   "metadata": {},
   "outputs": [],
   "source": [
    "import numpy as np\n",
    "import pandas as pd\n",
    "import scipy.stats\n",
    "\n",
    "import altair as alt\n",
    "\n",
    "import bootcamp_utils"
   ]
  },
  {
   "cell_type": "code",
   "execution_count": 2,
   "metadata": {},
   "outputs": [
    {
     "data": {
      "text/plain": [
       "array([0.907607  , 0.22252115, 0.58659688, 0.42403472, 0.16480359,\n",
       "       0.45745536, 0.2422526 , 0.5691896 , 0.32755142, 0.23471306])"
      ]
     },
     "execution_count": 2,
     "metadata": {},
     "output_type": "execute_result"
    }
   ],
   "source": [
    "np.random.random(size=10)"
   ]
  },
  {
   "cell_type": "code",
   "execution_count": 3,
   "metadata": {},
   "outputs": [
    {
     "data": {
      "text/plain": [
       "(array([1.38573261e-06, 1.20813905e-05, 2.56677902e-05, 4.04557822e-05,\n",
       "        5.04654293e-05, 5.24997164e-05, 5.68923852e-05, 5.88015407e-05,\n",
       "        6.09067820e-05, 8.22273420e-05]),\n",
       " array([1.e-05, 2.e-05, 3.e-05, 4.e-05, 5.e-05, 6.e-05, 7.e-05, 8.e-05,\n",
       "        9.e-05, 1.e-04]))"
      ]
     },
     "execution_count": 3,
     "metadata": {},
     "output_type": "execute_result"
    }
   ],
   "source": [
    "x = np.random.random(size=100000)\n",
    "\n",
    "x, y = bootcamp_utils.ecdf_vals(x)\n",
    "\n",
    "\n",
    "x[:10], y[:10]"
   ]
  },
  {
   "cell_type": "code",
   "execution_count": 5,
   "metadata": {},
   "outputs": [
    {
     "data": {
      "text/plain": [
       "(100000, 2)"
      ]
     },
     "execution_count": 5,
     "metadata": {},
     "output_type": "execute_result"
    }
   ],
   "source": [
    "x = np.random.random(size=100000)\n",
    "\n",
    "x, y = bootcamp_utils.ecdf_vals(x)\n",
    "\n",
    "df_ecdf = pd.DataFrame(data={'x': x,\n",
    "                             'y': y})\n",
    "\n",
    "df_ecdf.shape"
   ]
  },
  {
   "cell_type": "code",
   "execution_count": 6,
   "metadata": {},
   "outputs": [
    {
     "data": {
      "text/plain": [
       "(100, 2)"
      ]
     },
     "execution_count": 6,
     "metadata": {},
     "output_type": "execute_result"
    }
   ],
   "source": [
    "x = np.random.random(size=100000)\n",
    "\n",
    "x, y = bootcamp_utils.ecdf_vals(x)\n",
    "\n",
    "df_ecdf = pd.DataFrame(data={'x': x[::1000],\n",
    "                             'y': y[::1000]})\n",
    "\n",
    "df_ecdf.shape"
   ]
  },
  {
   "cell_type": "code",
   "execution_count": 8,
   "metadata": {},
   "outputs": [
    {
     "data": {
      "text/plain": [
       "(100, 2)"
      ]
     },
     "execution_count": 8,
     "metadata": {},
     "output_type": "execute_result"
    }
   ],
   "source": [
    "x = np.random.random(size=100000)\n",
    "\n",
    "x, y = bootcamp_utils.ecdf_vals(x)\n",
    "\n",
    "df_ecdf = pd.DataFrame(data={'x': x[::1000],\n",
    "                             'y': y[::1000]})\n",
    "\n",
    "df_cdf = pd.DataFrame(data={'x': [0,1],\n",
    "                             'y': [0,1]})\n",
    "\n",
    "df_ecdf.shape"
   ]
  },
  {
   "cell_type": "code",
   "execution_count": 17,
   "metadata": {},
   "outputs": [
    {
     "data": {
      "application/vnd.vegalite.v2+json": {
       "$schema": "https://vega.github.io/schema/vega-lite/v2.4.3.json",
       "config": {
        "view": {
         "height": 300,
         "width": 400
        }
       },
       "layer": [
        {
         "data": {
          "values": [
           {
            "x": 0,
            "y": 0
           },
           {
            "x": 1,
            "y": 1
           }
          ]
         },
         "encoding": {
          "x": {
           "field": "x",
           "type": "quantitative"
          },
          "y": {
           "field": "y",
           "type": "quantitative"
          }
         },
         "mark": {
          "color": "tomato",
          "type": "line"
         }
        },
        {
         "data": {
          "values": [
           {
            "x": 1.5751861460744365e-05,
            "y": 1e-05
           },
           {
            "x": 0.010294544124857308,
            "y": 0.01001
           },
           {
            "x": 0.020066372720721537,
            "y": 0.02001
           },
           {
            "x": 0.03003274242774545,
            "y": 0.03001
           },
           {
            "x": 0.0403053841936063,
            "y": 0.04001
           },
           {
            "x": 0.05035362939684007,
            "y": 0.05001
           },
           {
            "x": 0.06012615916463804,
            "y": 0.06001
           },
           {
            "x": 0.07026704630735181,
            "y": 0.07001
           },
           {
            "x": 0.08016791053493821,
            "y": 0.08001
           },
           {
            "x": 0.09002099569319522,
            "y": 0.09001
           },
           {
            "x": 0.10041302395387552,
            "y": 0.10001
           },
           {
            "x": 0.11098706687857196,
            "y": 0.11001
           },
           {
            "x": 0.12119863179625157,
            "y": 0.12001
           },
           {
            "x": 0.13091158093450128,
            "y": 0.13001
           },
           {
            "x": 0.1412476932229323,
            "y": 0.14001
           },
           {
            "x": 0.1518144767334857,
            "y": 0.15001
           },
           {
            "x": 0.161372723342039,
            "y": 0.16001
           },
           {
            "x": 0.17115350691765352,
            "y": 0.17001
           },
           {
            "x": 0.18161203320941677,
            "y": 0.18001
           },
           {
            "x": 0.19180779213750931,
            "y": 0.19001
           },
           {
            "x": 0.2021462418429817,
            "y": 0.20001
           },
           {
            "x": 0.21209935280572645,
            "y": 0.21001
           },
           {
            "x": 0.2227582352864651,
            "y": 0.22001
           },
           {
            "x": 0.23295439185106703,
            "y": 0.23001
           },
           {
            "x": 0.2427299811031729,
            "y": 0.24001
           },
           {
            "x": 0.25259564052632244,
            "y": 0.25001
           },
           {
            "x": 0.26279628993750637,
            "y": 0.26001
           },
           {
            "x": 0.27309478775129925,
            "y": 0.27001
           },
           {
            "x": 0.28338350351996455,
            "y": 0.28001
           },
           {
            "x": 0.29363450014613046,
            "y": 0.29001
           },
           {
            "x": 0.3033069204535995,
            "y": 0.30001
           },
           {
            "x": 0.3135416620534559,
            "y": 0.31001
           },
           {
            "x": 0.32323687454266437,
            "y": 0.32001
           },
           {
            "x": 0.3334374958944104,
            "y": 0.33001
           },
           {
            "x": 0.3441748759516312,
            "y": 0.34001
           },
           {
            "x": 0.35412540526551206,
            "y": 0.35001
           },
           {
            "x": 0.363836300597843,
            "y": 0.36001
           },
           {
            "x": 0.37396915584731794,
            "y": 0.37001
           },
           {
            "x": 0.3833437370294517,
            "y": 0.38001
           },
           {
            "x": 0.39310990259620004,
            "y": 0.39001
           },
           {
            "x": 0.4034616400887189,
            "y": 0.40001
           },
           {
            "x": 0.41366922299155806,
            "y": 0.41001
           },
           {
            "x": 0.4242469350938076,
            "y": 0.42001
           },
           {
            "x": 0.4341628958530742,
            "y": 0.43001
           },
           {
            "x": 0.4440966023632804,
            "y": 0.44001
           },
           {
            "x": 0.45407837702589837,
            "y": 0.45001
           },
           {
            "x": 0.4638589102272873,
            "y": 0.46001
           },
           {
            "x": 0.4735172485172382,
            "y": 0.47001
           },
           {
            "x": 0.48269996073756205,
            "y": 0.48001
           },
           {
            "x": 0.4924914226100059,
            "y": 0.49001
           },
           {
            "x": 0.5022452571856993,
            "y": 0.50001
           },
           {
            "x": 0.5120643191956219,
            "y": 0.51001
           },
           {
            "x": 0.5216010538041532,
            "y": 0.52001
           },
           {
            "x": 0.5315045909407362,
            "y": 0.53001
           },
           {
            "x": 0.5417284464915602,
            "y": 0.54001
           },
           {
            "x": 0.5514869493093079,
            "y": 0.55001
           },
           {
            "x": 0.56169372322742,
            "y": 0.56001
           },
           {
            "x": 0.5715485369394262,
            "y": 0.57001
           },
           {
            "x": 0.5814906235631784,
            "y": 0.58001
           },
           {
            "x": 0.5916556081559539,
            "y": 0.59001
           },
           {
            "x": 0.601713595090318,
            "y": 0.60001
           },
           {
            "x": 0.6120065903727774,
            "y": 0.61001
           },
           {
            "x": 0.6222404147622049,
            "y": 0.62001
           },
           {
            "x": 0.6319626339816996,
            "y": 0.63001
           },
           {
            "x": 0.6414904407141881,
            "y": 0.64001
           },
           {
            "x": 0.6512000565584962,
            "y": 0.65001
           },
           {
            "x": 0.6607592715757599,
            "y": 0.66001
           },
           {
            "x": 0.6702652048686857,
            "y": 0.67001
           },
           {
            "x": 0.6807100202359735,
            "y": 0.68001
           },
           {
            "x": 0.6905416584367421,
            "y": 0.69001
           },
           {
            "x": 0.7003334604432473,
            "y": 0.70001
           },
           {
            "x": 0.7107308013678901,
            "y": 0.71001
           },
           {
            "x": 0.7206287090476964,
            "y": 0.72001
           },
           {
            "x": 0.7308480398253915,
            "y": 0.73001
           },
           {
            "x": 0.7410747852913301,
            "y": 0.74001
           },
           {
            "x": 0.7507043851558437,
            "y": 0.75001
           },
           {
            "x": 0.760426868723296,
            "y": 0.76001
           },
           {
            "x": 0.7706472142936088,
            "y": 0.77001
           },
           {
            "x": 0.7807145306085133,
            "y": 0.78001
           },
           {
            "x": 0.7906931605893016,
            "y": 0.79001
           },
           {
            "x": 0.8006219276003131,
            "y": 0.80001
           },
           {
            "x": 0.8110864622001264,
            "y": 0.81001
           },
           {
            "x": 0.82158172725079,
            "y": 0.82001
           },
           {
            "x": 0.8317749807495056,
            "y": 0.83001
           },
           {
            "x": 0.8414237209809001,
            "y": 0.84001
           },
           {
            "x": 0.8517452744657659,
            "y": 0.85001
           },
           {
            "x": 0.8615788117754453,
            "y": 0.86001
           },
           {
            "x": 0.8720284730978771,
            "y": 0.87001
           },
           {
            "x": 0.8825510332872937,
            "y": 0.88001
           },
           {
            "x": 0.8921157846230362,
            "y": 0.89001
           },
           {
            "x": 0.9020834708654899,
            "y": 0.90001
           },
           {
            "x": 0.9123674760137968,
            "y": 0.91001
           },
           {
            "x": 0.9223016542416982,
            "y": 0.92001
           },
           {
            "x": 0.9320481225013085,
            "y": 0.93001
           },
           {
            "x": 0.9420378473780652,
            "y": 0.94001
           },
           {
            "x": 0.9515002867870691,
            "y": 0.95001
           },
           {
            "x": 0.9609524657221075,
            "y": 0.96001
           },
           {
            "x": 0.9711717563006422,
            "y": 0.97001
           },
           {
            "x": 0.980599017298578,
            "y": 0.98001
           },
           {
            "x": 0.9903970935655074,
            "y": 0.99001
           }
          ]
         },
         "encoding": {
          "x": {
           "field": "x",
           "type": "quantitative"
          },
          "y": {
           "field": "y",
           "type": "quantitative"
          }
         },
         "mark": "point"
        }
       ]
      },
      "image/png": "[encoded data removed]",
      "text/plain": [
       "<VegaLite 2 object>\n",
       "\n",
       "If you see this message, it means the renderer has not been properly enabled\n",
       "for the frontend that you are using. For more information, see\n",
       "https://altair-viz.github.io/user_guide/troubleshooting.html\n"
      ]
     },
     "execution_count": 17,
     "metadata": {},
     "output_type": "execute_result"
    }
   ],
   "source": [
    "p_ecdf = alt.Chart(df_ecdf\n",
    "            ).mark_point(\n",
    "            ).encode(\n",
    "                x='x:Q',\n",
    "                y='y:Q'\n",
    "            )\n",
    "\n",
    "p_cdf = alt.Chart(df_cdf\n",
    "            ).mark_line(\n",
    "                color='tomato',\n",
    "            ).encode(\n",
    "                x='x:Q',\n",
    "                y='y:Q'\n",
    "            )\n",
    "\n",
    "p_cdf + p_ecdf"
   ]
  },
  {
   "cell_type": "code",
   "execution_count": 36,
   "metadata": {},
   "outputs": [
    {
     "name": "stdout",
     "output_type": "stream",
     "text": [
      "[False  True  True  True  True  True False False False  True False False\n",
      "  True  True False  True  True  True False  True]\n",
      "There were  12  heads.\n"
     ]
    }
   ],
   "source": [
    "x = np.random.random(size=20)\n",
    "\n",
    "# let's make them into coin flips\n",
    "heads = x > 0.5\n",
    "\n",
    "x, heads\n",
    "\n",
    "print(heads)\n",
    "print('There were ', np.sum(heads), ' heads.')"
   ]
  },
  {
   "cell_type": "code",
   "execution_count": 45,
   "metadata": {},
   "outputs": [
    {
     "name": "stdout",
     "output_type": "stream",
     "text": [
      "[False  True  True  True False False False  True  True  True False  True\n",
      "  True False False False False  True False False]\n",
      "There were  9  heads.\n"
     ]
    }
   ],
   "source": [
    "# seed is a place where the numbers are ordered, and if you define which seed to pull your random numbers from, you will get the same results\n",
    "# seeding is useful for testing procedures, because if you want to make sure your changes are good, you might want to take from the same random number set again to recreate the exact values\n",
    "# WARNING - never assign the same seed if you in fact want random numbers each time\n",
    "np.random.seed(42)\n",
    "\n",
    "x = np.random.random(size=20)\n",
    "\n",
    "# let's make them into coin flips\n",
    "heads = x > 0.5\n",
    "\n",
    "x, heads\n",
    "\n",
    "print(heads)\n",
    "print('There were ', np.sum(heads), ' heads.')"
   ]
  },
  {
   "cell_type": "code",
   "execution_count": null,
   "metadata": {},
   "outputs": [],
   "source": [
    "mu = 10\n",
    "sigma = 1\n",
    "\n",
    "# select random numbers from a normal distribution\n",
    "x = np.random.normal(mu, sigma, size=100000)\n",
    "\n",
    "np.histogram(x, density=True)"
   ]
  },
  {
   "cell_type": "code",
   "execution_count": 48,
   "metadata": {},
   "outputs": [
    {
     "data": {
      "text/plain": [
       "\u001b[0;31mSignature:\u001b[0m \u001b[0mnp\u001b[0m\u001b[0;34m.\u001b[0m\u001b[0mhistogram\u001b[0m\u001b[0;34m(\u001b[0m\u001b[0ma\u001b[0m\u001b[0;34m,\u001b[0m \u001b[0mbins\u001b[0m\u001b[0;34m=\u001b[0m\u001b[0;36m10\u001b[0m\u001b[0;34m,\u001b[0m \u001b[0mrange\u001b[0m\u001b[0;34m=\u001b[0m\u001b[0;32mNone\u001b[0m\u001b[0;34m,\u001b[0m \u001b[0mnormed\u001b[0m\u001b[0;34m=\u001b[0m\u001b[0;32mFalse\u001b[0m\u001b[0;34m,\u001b[0m \u001b[0mweights\u001b[0m\u001b[0;34m=\u001b[0m\u001b[0;32mNone\u001b[0m\u001b[0;34m,\u001b[0m \u001b[0mdensity\u001b[0m\u001b[0;34m=\u001b[0m\u001b[0;32mNone\u001b[0m\u001b[0;34m)\u001b[0m\u001b[0;34m\u001b[0m\u001b[0m\n",
       "\u001b[0;31mDocstring:\u001b[0m\n",
       "Compute the histogram of a set of data.\n",
       "\n",
       "Parameters\n",
       "----------\n",
       "a : array_like\n",
       "    Input data. The histogram is computed over the flattened array.\n",
       "bins : int or sequence of scalars or str, optional\n",
       "    If `bins` is an int, it defines the number of equal-width\n",
       "    bins in the given range (10, by default). If `bins` is a\n",
       "    sequence, it defines the bin edges, including the rightmost\n",
       "    edge, allowing for non-uniform bin widths.\n",
       "\n",
       "    .. versionadded:: 1.11.0\n",
       "\n",
       "    If `bins` is a string from the list below, `histogram` will use\n",
       "    the method chosen to calculate the optimal bin width and\n",
       "    consequently the number of bins (see `Notes` for more detail on\n",
       "    the estimators) from the data that falls within the requested\n",
       "    range. While the bin width will be optimal for the actual data\n",
       "    in the range, the number of bins will be computed to fill the\n",
       "    entire range, including the empty portions. For visualisation,\n",
       "    using the 'auto' option is suggested. Weighted data is not\n",
       "    supported for automated bin size selection.\n",
       "\n",
       "    'auto'\n",
       "        Maximum of the 'sturges' and 'fd' estimators. Provides good\n",
       "        all around performance.\n",
       "\n",
       "    'fd' (Freedman Diaconis Estimator)\n",
       "        Robust (resilient to outliers) estimator that takes into\n",
       "        account data variability and data size.\n",
       "\n",
       "    'doane'\n",
       "        An improved version of Sturges' estimator that works better\n",
       "        with non-normal datasets.\n",
       "\n",
       "    'scott'\n",
       "        Less robust estimator that that takes into account data\n",
       "        variability and data size.\n",
       "\n",
       "    'rice'\n",
       "        Estimator does not take variability into account, only data\n",
       "        size. Commonly overestimates number of bins required.\n",
       "\n",
       "    'sturges'\n",
       "        R's default method, only accounts for data size. Only\n",
       "        optimal for gaussian data and underestimates number of bins\n",
       "        for large non-gaussian datasets.\n",
       "\n",
       "    'sqrt'\n",
       "        Square root (of data size) estimator, used by Excel and\n",
       "        other programs for its speed and simplicity.\n",
       "\n",
       "range : (float, float), optional\n",
       "    The lower and upper range of the bins.  If not provided, range\n",
       "    is simply ``(a.min(), a.max())``.  Values outside the range are\n",
       "    ignored. The first element of the range must be less than or\n",
       "    equal to the second. `range` affects the automatic bin\n",
       "    computation as well. While bin width is computed to be optimal\n",
       "    based on the actual data within `range`, the bin count will fill\n",
       "    the entire range including portions containing no data.\n",
       "normed : bool, optional\n",
       "    This keyword is deprecated in NumPy 1.6.0 due to confusing/buggy\n",
       "    behavior. It will be removed in NumPy 2.0.0. Use the ``density``\n",
       "    keyword instead. If ``False``, the result will contain the\n",
       "    number of samples in each bin. If ``True``, the result is the\n",
       "    value of the probability *density* function at the bin,\n",
       "    normalized such that the *integral* over the range is 1. Note\n",
       "    that this latter behavior is known to be buggy with unequal bin\n",
       "    widths; use ``density`` instead.\n",
       "weights : array_like, optional\n",
       "    An array of weights, of the same shape as `a`.  Each value in\n",
       "    `a` only contributes its associated weight towards the bin count\n",
       "    (instead of 1). If `density` is True, the weights are\n",
       "    normalized, so that the integral of the density over the range\n",
       "    remains 1.\n",
       "density : bool, optional\n",
       "    If ``False``, the result will contain the number of samples in\n",
       "    each bin. If ``True``, the result is the value of the\n",
       "    probability *density* function at the bin, normalized such that\n",
       "    the *integral* over the range is 1. Note that the sum of the\n",
       "    histogram values will not be equal to 1 unless bins of unity\n",
       "    width are chosen; it is not a probability *mass* function.\n",
       "\n",
       "    Overrides the ``normed`` keyword if given.\n",
       "\n",
       "Returns\n",
       "-------\n",
       "hist : array\n",
       "    The values of the histogram. See `density` and `weights` for a\n",
       "    description of the possible semantics.\n",
       "bin_edges : array of dtype float\n",
       "    Return the bin edges ``(length(hist)+1)``.\n",
       "\n",
       "\n",
       "See Also\n",
       "--------\n",
       "histogramdd, bincount, searchsorted, digitize\n",
       "\n",
       "Notes\n",
       "-----\n",
       "All but the last (righthand-most) bin is half-open.  In other words,\n",
       "if `bins` is::\n",
       "\n",
       "  [1, 2, 3, 4]\n",
       "\n",
       "then the first bin is ``[1, 2)`` (including 1, but excluding 2) and\n",
       "the second ``[2, 3)``.  The last bin, however, is ``[3, 4]``, which\n",
       "*includes* 4.\n",
       "\n",
       ".. versionadded:: 1.11.0\n",
       "\n",
       "The methods to estimate the optimal number of bins are well founded\n",
       "in literature, and are inspired by the choices R provides for\n",
       "histogram visualisation. Note that having the number of bins\n",
       "proportional to :math:`n^{1/3}` is asymptotically optimal, which is\n",
       "why it appears in most estimators. These are simply plug-in methods\n",
       "that give good starting points for number of bins. In the equations\n",
       "below, :math:`h` is the binwidth and :math:`n_h` is the number of\n",
       "bins. All estimators that compute bin counts are recast to bin width\n",
       "using the `ptp` of the data. The final bin count is obtained from\n",
       "``np.round(np.ceil(range / h))`.\n",
       "\n",
       "'Auto' (maximum of the 'Sturges' and 'FD' estimators)\n",
       "    A compromise to get a good value. For small datasets the Sturges\n",
       "    value will usually be chosen, while larger datasets will usually\n",
       "    default to FD.  Avoids the overly conservative behaviour of FD\n",
       "    and Sturges for small and large datasets respectively.\n",
       "    Switchover point is usually :math:`a.size \\approx 1000`.\n",
       "\n",
       "'FD' (Freedman Diaconis Estimator)\n",
       "    .. math:: h = 2 \\frac{IQR}{n^{1/3}}\n",
       "\n",
       "    The binwidth is proportional to the interquartile range (IQR)\n",
       "    and inversely proportional to cube root of a.size. Can be too\n",
       "    conservative for small datasets, but is quite good for large\n",
       "    datasets. The IQR is very robust to outliers.\n",
       "\n",
       "'Scott'\n",
       "    .. math:: h = \\sigma \\sqrt[3]{\\frac{24 * \\sqrt{\\pi}}{n}}\n",
       "\n",
       "    The binwidth is proportional to the standard deviation of the\n",
       "    data and inversely proportional to cube root of ``x.size``. Can\n",
       "    be too conservative for small datasets, but is quite good for\n",
       "    large datasets. The standard deviation is not very robust to\n",
       "    outliers. Values are very similar to the Freedman-Diaconis\n",
       "    estimator in the absence of outliers.\n",
       "\n",
       "'Rice'\n",
       "    .. math:: n_h = 2n^{1/3}\n",
       "\n",
       "    The number of bins is only proportional to cube root of\n",
       "    ``a.size``. It tends to overestimate the number of bins and it\n",
       "    does not take into account data variability.\n",
       "\n",
       "'Sturges'\n",
       "    .. math:: n_h = \\log _{2}n+1\n",
       "\n",
       "    The number of bins is the base 2 log of ``a.size``.  This\n",
       "    estimator assumes normality of data and is too conservative for\n",
       "    larger, non-normal datasets. This is the default method in R's\n",
       "    ``hist`` method.\n",
       "\n",
       "'Doane'\n",
       "    .. math:: n_h = 1 + \\log_{2}(n) +\n",
       "                    \\log_{2}(1 + \\frac{|g_1|}{\\sigma_{g_1}})\n",
       "\n",
       "        g_1 = mean[(\\frac{x - \\mu}{\\sigma})^3]\n",
       "\n",
       "        \\sigma_{g_1} = \\sqrt{\\frac{6(n - 2)}{(n + 1)(n + 3)}}\n",
       "\n",
       "    An improved version of Sturges' formula that produces better\n",
       "    estimates for non-normal datasets. This estimator attempts to\n",
       "    account for the skew of the data.\n",
       "\n",
       "'Sqrt'\n",
       "    .. math:: n_h = \\sqrt n\n",
       "    The simplest and fastest estimator. Only takes into account the\n",
       "    data size.\n",
       "\n",
       "Examples\n",
       "--------\n",
       ">>> np.histogram([1, 2, 1], bins=[0, 1, 2, 3])\n",
       "(array([0, 2, 1]), array([0, 1, 2, 3]))\n",
       ">>> np.histogram(np.arange(4), bins=np.arange(5), density=True)\n",
       "(array([ 0.25,  0.25,  0.25,  0.25]), array([0, 1, 2, 3, 4]))\n",
       ">>> np.histogram([[1, 2, 1], [1, 0, 1]], bins=[0,1,2,3])\n",
       "(array([1, 4, 1]), array([0, 1, 2, 3]))\n",
       "\n",
       ">>> a = np.arange(5)\n",
       ">>> hist, bin_edges = np.histogram(a, density=True)\n",
       ">>> hist\n",
       "array([ 0.5,  0. ,  0.5,  0. ,  0. ,  0.5,  0. ,  0.5,  0. ,  0.5])\n",
       ">>> hist.sum()\n",
       "2.4999999999999996\n",
       ">>> np.sum(hist * np.diff(bin_edges))\n",
       "1.0\n",
       "\n",
       ".. versionadded:: 1.11.0\n",
       "\n",
       "Automated Bin Selection Methods example, using 2 peak random data\n",
       "with 2000 points:\n",
       "\n",
       ">>> import matplotlib.pyplot as plt\n",
       ">>> rng = np.random.RandomState(10)  # deterministic random data\n",
       ">>> a = np.hstack((rng.normal(size=1000),\n",
       "...                rng.normal(loc=5, scale=2, size=1000)))\n",
       ">>> plt.hist(a, bins='auto')  # arguments are passed to np.histogram\n",
       ">>> plt.title(\"Histogram with 'auto' bins\")\n",
       ">>> plt.show()\n",
       "\u001b[0;31mFile:\u001b[0m      /anaconda3/lib/python3.6/site-packages/numpy/lib/function_base.py\n",
       "\u001b[0;31mType:\u001b[0m      function\n"
      ]
     },
     "metadata": {},
     "output_type": "display_data"
    }
   ],
   "source": [
    "np.histogram?"
   ]
  },
  {
   "cell_type": "code",
   "execution_count": 49,
   "metadata": {},
   "outputs": [
    {
     "name": "stdout",
     "output_type": "stream",
     "text": [
      "[ 5.53439614  5.7132899   5.89218366  6.07107742  6.24997119  6.42886495\n",
      "  6.60775871  6.78665247  6.96554623  7.14444     7.32333376  7.50222752\n",
      "  7.68112128  7.86001505  8.03890881  8.21780257  8.39669633  8.5755901\n",
      "  8.75448386  8.93337762  9.11227138  9.29116514  9.47005891  9.64895267\n",
      "  9.82784643 10.00674019 10.18563396 10.36452772 10.54342148 10.72231524\n",
      " 10.90120901 11.08010277 11.25899653 11.43789029 11.61678405 11.79567782\n",
      " 11.97457158 12.15346534 12.3323591  12.51125287 12.69014663 12.86904039\n",
      " 13.04793415 13.22682791 13.40572168 13.58461544 13.7635092  13.94240296\n",
      " 14.12129673 14.30019049 14.47908425]\n",
      "[0.08944688 0.08944688 0.08944688 0.08944688 0.08944688 0.08944688\n",
      " 0.08944688 0.08944688 0.08944688 0.08944688 0.08944688 0.08944688\n",
      " 0.08944688 0.08944688 0.08944688 0.08944688 0.08944688 0.08944688\n",
      " 0.08944688 0.08944688 0.08944688 0.08944688 0.08944688 0.08944688\n",
      " 0.08944688 0.08944688 0.08944688 0.08944688 0.08944688 0.08944688\n",
      " 0.08944688 0.08944688 0.08944688 0.08944688 0.08944688 0.08944688\n",
      " 0.08944688 0.08944688 0.08944688 0.08944688 0.08944688 0.08944688\n",
      " 0.08944688 0.08944688 0.08944688 0.08944688 0.08944688 0.08944688\n",
      " 0.08944688 0.08944688]\n",
      "[ 5.53439614  5.7132899   5.89218366  6.07107742  6.24997119  6.42886495\n",
      "  6.60775871  6.78665247  6.96554623  7.14444     7.32333376  7.50222752\n",
      "  7.68112128  7.86001505  8.03890881  8.21780257  8.39669633  8.5755901\n",
      "  8.75448386  8.93337762  9.11227138  9.29116514  9.47005891  9.64895267\n",
      "  9.82784643 10.00674019 10.18563396 10.36452772 10.54342148 10.72231524\n",
      " 10.90120901 11.08010277 11.25899653 11.43789029 11.61678405 11.79567782\n",
      " 11.97457158 12.15346534 12.3323591  12.51125287 12.69014663 12.86904039\n",
      " 13.04793415 13.22682791 13.40572168 13.58461544 13.7635092  13.94240296\n",
      " 14.12129673 14.30019049]\n",
      "[ 5.62384302  5.80273678  5.98163054  6.1605243   6.33941807  6.51831183\n",
      "  6.69720559  6.87609935  7.05499312  7.23388688  7.41278064  7.5916744\n",
      "  7.77056817  7.94946193  8.12835569  8.30724945  8.48614321  8.66503698\n",
      "  8.84393074  9.0228245   9.20171826  9.38061203  9.55950579  9.73839955\n",
      "  9.91729331 10.09618707 10.27508084 10.4539746  10.63286836 10.81176212\n",
      " 10.99065589 11.16954965 11.34844341 11.52733717 11.70623094 11.8851247\n",
      " 12.06401846 12.24291222 12.42180598 12.60069975 12.77959351 12.95848727\n",
      " 13.13738103 13.3162748  13.49516856 13.67406232 13.85295608 14.03184985\n",
      " 14.21074361 14.38963737]\n"
     ]
    }
   ],
   "source": [
    "mu = 10\n",
    "sigma = 1\n",
    "\n",
    "# select random numbers from a normal distribution\n",
    "x = np.random.normal(mu, sigma, size=100000)\n",
    "\n",
    "# we know np.histogram will return two things, so we'll assign them as a tuple at hist and bin_edges\n",
    "hist, bin_edges = np.histogram(x, density=True, bins=50)\n",
    "bin_centers = np.diff(bin_edges)/2 + bin_edges[:-1]\n",
    "\n",
    "print(bin_edges)\n",
    "print(np.diff(bin_edges)/2)\n",
    "print(bin_edges[:-1])\n",
    "print(bin_centers)\n"
   ]
  },
  {
   "cell_type": "code",
   "execution_count": 54,
   "metadata": {},
   "outputs": [
    {
     "data": {
      "application/vnd.vegalite.v2+json": {
       "$schema": "https://vega.github.io/schema/vega-lite/v2.4.3.json",
       "config": {
        "view": {
         "height": 300,
         "width": 400
        }
       },
       "data": {
        "values": [
         {
          "x": 5.261876829001208,
          "y": 5.475681334864776e-05
         },
         {
          "x": 5.444502504025939,
          "y": 0
         },
         {
          "x": 5.62712817905067,
          "y": 0
         },
         {
          "x": 5.809753854075401,
          "y": 5.475681334864776e-05
         },
         {
          "x": 5.992379529100132,
          "y": 0.00010951362669729552
         },
         {
          "x": 6.175005204124863,
          "y": 0.00016427044004594329
         },
         {
          "x": 6.357630879149594,
          "y": 0.0006570817601837699
         },
         {
          "x": 6.540256554174326,
          "y": 0.0006570817601837731
         },
         {
          "x": 6.722882229199057,
          "y": 0.0015331907737621373
         },
         {
          "x": 6.905507904223788,
          "y": 0.003011624734175627
         },
         {
          "x": 7.088133579248519,
          "y": 0.007501683428764743
         },
         {
          "x": 7.27075925427325,
          "y": 0.010184767282848483
         },
         {
          "x": 7.4533849292979815,
          "y": 0.015277150924272726
         },
         {
          "x": 7.636010604322713,
          "y": 0.024038241060056247
         },
         {
          "x": 7.818636279347444,
          "y": 0.038986851104237205
         },
         {
          "x": 8.001261954372175,
          "y": 0.054099731588463984
         },
         {
          "x": 8.183887629396907,
          "y": 0.07857602715530954
         },
         {
          "x": 8.366513304421638,
          "y": 0.10918508581720364
         },
         {
          "x": 8.549138979446369,
          "y": 0.1368920333716194
         },
         {
          "x": 8.7317646544711,
          "y": 0.1785072115165917
         },
         {
          "x": 8.91439032949583,
          "y": 0.22477671879619907
         },
         {
          "x": 9.097016004520562,
          "y": 0.271265253329201
         },
         {
          "x": 9.279641679545293,
          "y": 0.3148516767547246
         },
         {
          "x": 9.462267354570024,
          "y": 0.343708517389462
         },
         {
          "x": 9.644893029594755,
          "y": 0.36648735174249947
         },
         {
          "x": 9.827518704619486,
          "y": 0.39561797644398006
         },
         {
          "x": 10.010144379644217,
          "y": 0.40136744184558804
         },
         {
          "x": 10.192770054668948,
          "y": 0.3888281315887477
         },
         {
          "x": 10.375395729693679,
          "y": 0.36856811064974804
         },
         {
          "x": 10.55802140471841,
          "y": 0.33248337065298916
         },
         {
          "x": 10.740647079743141,
          "y": 0.2999030667105438
         },
         {
          "x": 10.923272754767872,
          "y": 0.26266843363346326
         },
         {
          "x": 11.105898429792603,
          "y": 0.215303790086883
         },
         {
          "x": 11.288524104817334,
          "y": 0.1746194777688377
         },
         {
          "x": 11.471149779842065,
          "y": 0.13760387194515183
         },
         {
          "x": 11.653775454866796,
          "y": 0.09954788666784163
         },
         {
          "x": 11.836401129891527,
          "y": 0.07353840032723394
         },
         {
          "x": 12.019026804916258,
          "y": 0.052018972681214866
         },
         {
          "x": 12.201652479940991,
          "y": 0.033127872075931895
         },
         {
          "x": 12.384278154965722,
          "y": 0.02475007963358879
         },
         {
          "x": 12.566903829990453,
          "y": 0.013360662457070053
         },
         {
          "x": 12.749529505015184,
          "y": 0.008706333322434994
         },
         {
          "x": 12.932155180039915,
          "y": 0.005311410894818833
         },
         {
          "x": 13.114780855064646,
          "y": 0.003942490561102638
         },
         {
          "x": 13.297406530089377,
          "y": 0.0016974612138080806
         },
         {
          "x": 13.480032205114108,
          "y": 0.0008761090135783642
         },
         {
          "x": 13.66265788013884,
          "y": 0.0007665953868810686
         },
         {
          "x": 13.84528355516357,
          "y": 0.00032854088009188657
         },
         {
          "x": 14.027909230188301,
          "y": 0.00010951362669729552
         },
         {
          "x": 14.210534905213033,
          "y": 5.475681334864776e-05
         }
        ]
       },
       "encoding": {
        "x": {
         "field": "x",
         "type": "quantitative"
        },
        "y": {
         "field": "y",
         "type": "quantitative"
        }
       },
       "mark": {
        "interpolate": "step",
        "type": "area"
       }
      },
      "image/png": "[encoded data removed]",
      "text/plain": [
       "<VegaLite 2 object>\n",
       "\n",
       "If you see this message, it means the renderer has not been properly enabled\n",
       "for the frontend that you are using. For more information, see\n",
       "https://altair-viz.github.io/user_guide/troubleshooting.html\n"
      ]
     },
     "execution_count": 54,
     "metadata": {},
     "output_type": "execute_result"
    }
   ],
   "source": [
    "mu = 10\n",
    "sigma = 1\n",
    "\n",
    "# select random numbers from a normal distribution\n",
    "x = np.random.normal(mu, sigma, size=100000)\n",
    "\n",
    "# we know np.histogram will return two things, so we'll assign them as a tuple at hist and bin_edges\n",
    "hist, bin_edges = np.histogram(x, density=True, bins=50)\n",
    "bin_centers = np.diff(bin_edges)/2 + bin_edges[:-1]\n",
    "\n",
    "df = pd.DataFrame(data={'x': bin_centers, 'y': hist})\n",
    "\n",
    "alt.Chart(df\n",
    "    ).mark_area(interpolate='step'\n",
    "    ).encode(\n",
    "        x='x:Q',\n",
    "        y='y:Q'\n",
    "    )"
   ]
  },
  {
   "cell_type": "code",
   "execution_count": 64,
   "metadata": {},
   "outputs": [
    {
     "data": {
      "application/vnd.vegalite.v2+json": {
       "$schema": "https://vega.github.io/schema/vega-lite/v2.4.3.json",
       "config": {
        "view": {
         "height": 300,
         "width": 400
        }
       },
       "layer": [
        {
         "data": {
          "values": [
           {
            "x": 5.170563991488843,
            "y": 1e-05
           },
           {
            "x": 7.6744747467541075,
            "y": 0.01001
           },
           {
            "x": 7.937318416125925,
            "y": 0.02001
           },
           {
            "x": 8.11296341302981,
            "y": 0.03001
           },
           {
            "x": 8.239748496466994,
            "y": 0.04001
           },
           {
            "x": 8.342735194250828,
            "y": 0.05001
           },
           {
            "x": 8.43381337314636,
            "y": 0.06001
           },
           {
            "x": 8.514291960858495,
            "y": 0.07001
           },
           {
            "x": 8.587845378732087,
            "y": 0.08001
           },
           {
            "x": 8.654779566662313,
            "y": 0.09001
           },
           {
            "x": 8.716324711888902,
            "y": 0.10001
           },
           {
            "x": 8.7708247516338,
            "y": 0.11001
           },
           {
            "x": 8.821236258753192,
            "y": 0.12001
           },
           {
            "x": 8.868211231033541,
            "y": 0.13001
           },
           {
            "x": 8.914565070667553,
            "y": 0.14001
           },
           {
            "x": 8.95823634978203,
            "y": 0.15001
           },
           {
            "x": 8.999834424893848,
            "y": 0.16001
           },
           {
            "x": 9.039706662053115,
            "y": 0.17001
           },
           {
            "x": 9.079336773555731,
            "y": 0.18001
           },
           {
            "x": 9.116574583073879,
            "y": 0.19001
           },
           {
            "x": 9.151139602189655,
            "y": 0.20001
           },
           {
            "x": 9.185250659930139,
            "y": 0.21001
           },
           {
            "x": 9.218246113519285,
            "y": 0.22001
           },
           {
            "x": 9.251707492608132,
            "y": 0.23001
           },
           {
            "x": 9.283666910896251,
            "y": 0.24001
           },
           {
            "x": 9.315909988010079,
            "y": 0.25001
           },
           {
            "x": 9.345143833286617,
            "y": 0.26001
           },
           {
            "x": 9.375075176325812,
            "y": 0.27001
           },
           {
            "x": 9.405738714481709,
            "y": 0.28001
           },
           {
            "x": 9.435515639387662,
            "y": 0.29001
           },
           {
            "x": 9.466017594427107,
            "y": 0.30001
           },
           {
            "x": 9.49562409911067,
            "y": 0.31001
           },
           {
            "x": 9.524230421811048,
            "y": 0.32001
           },
           {
            "x": 9.550056522365853,
            "y": 0.33001
           },
           {
            "x": 9.578973652514925,
            "y": 0.34001
           },
           {
            "x": 9.607980746261065,
            "y": 0.35001
           },
           {
            "x": 9.633098540012805,
            "y": 0.36001
           },
           {
            "x": 9.660624964310417,
            "y": 0.37001
           },
           {
            "x": 9.68710862408114,
            "y": 0.38001
           },
           {
            "x": 9.714213669951969,
            "y": 0.39001
           },
           {
            "x": 9.740893104066007,
            "y": 0.40001
           },
           {
            "x": 9.766615303164116,
            "y": 0.41001
           },
           {
            "x": 9.792637125731769,
            "y": 0.42001
           },
           {
            "x": 9.817201986671746,
            "y": 0.43001
           },
           {
            "x": 9.842361888466604,
            "y": 0.44001
           },
           {
            "x": 9.867970153687125,
            "y": 0.45001
           },
           {
            "x": 9.893289792640811,
            "y": 0.46001
           },
           {
            "x": 9.917747260963045,
            "y": 0.47001
           },
           {
            "x": 9.943976196327933,
            "y": 0.48001
           },
           {
            "x": 9.967991475379941,
            "y": 0.49001
           },
           {
            "x": 9.9925728018981,
            "y": 0.50001
           },
           {
            "x": 10.016935304467836,
            "y": 0.51001
           },
           {
            "x": 10.041326626288141,
            "y": 0.52001
           },
           {
            "x": 10.06655801221445,
            "y": 0.53001
           },
           {
            "x": 10.091569539070843,
            "y": 0.54001
           },
           {
            "x": 10.115844364265499,
            "y": 0.55001
           },
           {
            "x": 10.1409886531375,
            "y": 0.56001
           },
           {
            "x": 10.16779289697217,
            "y": 0.57001
           },
           {
            "x": 10.1934673331811,
            "y": 0.58001
           },
           {
            "x": 10.218859364979474,
            "y": 0.59001
           },
           {
            "x": 10.245654343505882,
            "y": 0.60001
           },
           {
            "x": 10.272006292571573,
            "y": 0.61001
           },
           {
            "x": 10.298655378563518,
            "y": 0.62001
           },
           {
            "x": 10.326102334440852,
            "y": 0.63001
           },
           {
            "x": 10.352136168698058,
            "y": 0.64001
           },
           {
            "x": 10.378292646984525,
            "y": 0.65001
           },
           {
            "x": 10.405625324430083,
            "y": 0.66001
           },
           {
            "x": 10.432071089671988,
            "y": 0.67001
           },
           {
            "x": 10.460402915423671,
            "y": 0.68001
           },
           {
            "x": 10.48968046652537,
            "y": 0.69001
           },
           {
            "x": 10.517568840177901,
            "y": 0.70001
           },
           {
            "x": 10.547132569828719,
            "y": 0.71001
           },
           {
            "x": 10.57848347473698,
            "y": 0.72001
           },
           {
            "x": 10.609892889278697,
            "y": 0.73001
           },
           {
            "x": 10.640790058695547,
            "y": 0.74001
           },
           {
            "x": 10.672401918542034,
            "y": 0.75001
           },
           {
            "x": 10.705146839527176,
            "y": 0.76001
           },
           {
            "x": 10.73825891157889,
            "y": 0.77001
           },
           {
            "x": 10.771899632565594,
            "y": 0.78001
           },
           {
            "x": 10.805472450497394,
            "y": 0.79001
           },
           {
            "x": 10.8404807877285,
            "y": 0.80001
           },
           {
            "x": 10.877937883567407,
            "y": 0.81001
           },
           {
            "x": 10.914477922251791,
            "y": 0.82001
           },
           {
            "x": 10.951098520237233,
            "y": 0.83001
           },
           {
            "x": 10.992504334972054,
            "y": 0.84001
           },
           {
            "x": 11.033096515844475,
            "y": 0.85001
           },
           {
            "x": 11.07764178909635,
            "y": 0.86001
           },
           {
            "x": 11.124191478709534,
            "y": 0.87001
           },
           {
            "x": 11.172571548546848,
            "y": 0.88001
           },
           {
            "x": 11.224401034813036,
            "y": 0.89001
           },
           {
            "x": 11.280407665131493,
            "y": 0.90001
           },
           {
            "x": 11.336795501412382,
            "y": 0.91001
           },
           {
            "x": 11.400485185364131,
            "y": 0.92001
           },
           {
            "x": 11.470213259611924,
            "y": 0.93001
           },
           {
            "x": 11.54715781960052,
            "y": 0.94001
           },
           {
            "x": 11.634587569243607,
            "y": 0.95001
           },
           {
            "x": 11.744038063191459,
            "y": 0.96001
           },
           {
            "x": 11.86835776708971,
            "y": 0.97001
           },
           {
            "x": 12.051047104814497,
            "y": 0.98001
           },
           {
            "x": 12.32645512905971,
            "y": 0.99001
           }
          ]
         },
         "encoding": {
          "x": {
           "field": "x",
           "type": "quantitative"
          },
          "y": {
           "field": "y",
           "type": "quantitative"
          }
         },
         "mark": "point"
        },
        {
         "data": {
          "values": [
           {
            "x": 6,
            "y": 3.167124183311986e-05
           },
           {
            "x": 6.020050125313283,
            "y": 3.44649003817073e-05
           },
           {
            "x": 6.040100250626566,
            "y": 3.749061670732139e-05
           },
           {
            "x": 6.06015037593985,
            "y": 4.0766349809372396e-05
           },
           {
            "x": 6.080200501253133,
            "y": 4.431133337702861e-05
           },
           {
            "x": 6.100250626566416,
            "y": 4.814615669635246e-05
           },
           {
            "x": 6.120300751879699,
            "y": 5.2292849939235014e-05
           },
           {
            "x": 6.140350877192983,
            "y": 5.677497401498052e-05
           },
           {
            "x": 6.160401002506266,
            "y": 6.161771516873626e-05
           },
           {
            "x": 6.180451127819548,
            "y": 6.6847984514031e-05
           },
           {
            "x": 6.200501253132832,
            "y": 7.249452268946072e-05
           },
           {
            "x": 6.220551378446116,
            "y": 7.858800983200683e-05
           },
           {
            "x": 6.2406015037593985,
            "y": 8.51611810615419e-05
           },
           {
            "x": 6.260651629072681,
            "y": 9.224894767275783e-05
           },
           {
            "x": 6.280701754385965,
            "y": 9.988852423197103e-05
           },
           {
            "x": 6.3007518796992485,
            "y": 0.0001081195617770239
           },
           {
            "x": 6.320802005012531,
            "y": 0.00011698428731872731
           },
           {
            "x": 6.340852130325814,
            "y": 0.00012652764984195862
           },
           {
            "x": 6.360902255639098,
            "y": 0.0001367974730035962
           },
           {
            "x": 6.380952380952381,
            "y": 0.0001478446147228906
           },
           {
            "x": 6.401002506265664,
            "y": 0.00015972313385759945
           },
           {
            "x": 6.421052631578947,
            "y": 0.00017249046415619777
           },
           {
            "x": 6.4411027568922306,
            "y": 0.00018620759567268425
           },
           {
            "x": 6.461152882205514,
            "y": 0.00020093926382586412
           },
           {
            "x": 6.481203007518797,
            "y": 0.0002167541462795139
           },
           {
            "x": 6.50125313283208,
            "y": 0.00023372506781337254
           },
           {
            "x": 6.521303258145363,
            "y": 0.00025192921334751415
           },
           {
            "x": 6.541353383458647,
            "y": 0.00027144834927424725
           },
           {
            "x": 6.56140350877193,
            "y": 0.0002923690532421814
           },
           {
            "x": 6.581453634085213,
            "y": 0.0003147829525265218
           },
           {
            "x": 6.601503759398496,
            "y": 0.00033878697110785775
           },
           {
            "x": 6.62155388471178,
            "y": 0.00036448358556879964
           },
           {
            "x": 6.641604010025063,
            "y": 0.00039198108990356985
           },
           {
            "x": 6.661654135338345,
            "y": 0.0004213938693201866
           },
           {
            "x": 6.681704260651629,
            "y": 0.0004528426830980278
           },
           {
            "x": 6.701754385964913,
            "y": 0.0004864549565454064
           },
           {
            "x": 6.7218045112781954,
            "y": 0.0005223650820821845
           },
           {
            "x": 6.741854636591478,
            "y": 0.0005607147294514288
           },
           {
            "x": 6.761904761904762,
            "y": 0.0006016531650416472
           },
           {
            "x": 6.7819548872180455,
            "y": 0.0006453375802771277
           },
           {
            "x": 6.802005012531328,
            "y": 0.0006919334290085212
           },
           {
            "x": 6.822055137844611,
            "y": 0.0007416147738086803
           },
           {
            "x": 6.842105263157895,
            "y": 0.0007945646410502977
           },
           {
            "x": 6.862155388471178,
            "y": 0.0008509753846117652
           },
           {
            "x": 6.882205513784461,
            "y": 0.0009110490580260479
           },
           {
            "x": 6.902255639097744,
            "y": 0.0009749977948541138
           },
           {
            "x": 6.9223057644110275,
            "y": 0.0010430441970297757
           },
           {
            "x": 6.942355889724311,
            "y": 0.00111542173088647
           },
           {
            "x": 6.962406015037594,
            "y": 0.0011923751305388012
           },
           {
            "x": 6.982456140350877,
            "y": 0.0012741608082523347
           },
           {
            "x": 7.00250626566416,
            "y": 0.0013610472713944787
           },
           {
            "x": 7.022556390977444,
            "y": 0.0014533155455171574
           },
           {
            "x": 7.042606516290727,
            "y": 0.0015512596030785866
           },
           {
            "x": 7.0626566416040095,
            "y": 0.0016551867972666647
           },
           {
            "x": 7.082706766917293,
            "y": 0.0017654183003405568
           },
           {
            "x": 7.102756892230577,
            "y": 0.0018822895458598938
           },
           {
            "x": 7.12280701754386,
            "y": 0.0020061506741230095
           },
           {
            "x": 7.142857142857142,
            "y": 0.002137366980086275
           },
           {
            "x": 7.162907268170426,
            "y": 0.0022763193629867394
           },
           {
            "x": 7.18295739348371,
            "y": 0.0024234047768395333
           },
           {
            "x": 7.203007518796992,
            "y": 0.002579036680930118
           },
           {
            "x": 7.223057644110275,
            "y": 0.0027436454893696345
           },
           {
            "x": 7.243107769423559,
            "y": 0.002917679018729261
           },
           {
            "x": 7.2631578947368425,
            "y": 0.003101602932717346
           },
           {
            "x": 7.283208020050125,
            "y": 0.003295901182810418
           },
           {
            "x": 7.303258145363408,
            "y": 0.003501076443697031
           },
           {
            "x": 7.323308270676692,
            "y": 0.0037176505423413145
           },
           {
            "x": 7.343358395989975,
            "y": 0.0039461648794216495
           },
           {
            "x": 7.363408521303258,
            "y": 0.0041871808418492765
           },
           {
            "x": 7.383458646616541,
            "y": 0.004441280205021582
           },
           {
            "x": 7.4035087719298245,
            "y": 0.004709065523416134
           },
           {
            "x": 7.423558897243108,
            "y": 0.004991160508084286
           },
           {
            "x": 7.443609022556391,
            "y": 0.0052882103895572925
           },
           {
            "x": 7.463659147869674,
            "y": 0.005600882264633908
           },
           {
            "x": 7.483709273182957,
            "y": 0.0059298654254765545
           },
           {
            "x": 7.503759398496241,
            "y": 0.00627587166940341
           },
           {
            "x": 7.523809523809524,
            "y": 0.006639635587727164
           },
           {
            "x": 7.5438596491228065,
            "y": 0.00702191483195643
           },
           {
            "x": 7.56390977443609,
            "y": 0.007423490355644917
           },
           {
            "x": 7.583959899749374,
            "y": 0.00784516663014584
           },
           {
            "x": 7.6040100250626566,
            "y": 0.00828777183250457
           },
           {
            "x": 7.624060150375939,
            "y": 0.008752158003702458
           },
           {
            "x": 7.644110275689223,
            "y": 0.009239201175448339
           },
           {
            "x": 7.664160401002507,
            "y": 0.009749801463702544
           },
           {
            "x": 7.684210526315789,
            "y": 0.010284883127111384
           },
           {
            "x": 7.704260651629072,
            "y": 0.010845394588527315
           },
           {
            "x": 7.724310776942356,
            "y": 0.01143230841779309
           },
           {
            "x": 7.7443609022556394,
            "y": 0.01204662127397674
           },
           {
            "x": 7.764411027568922,
            "y": 0.012689353805257838
           },
           {
            "x": 7.784461152882205,
            "y": 0.013361550504685394
           },
           {
            "x": 7.804511278195489,
            "y": 0.014064279520053354
           },
           {
            "x": 7.824561403508772,
            "y": 0.014798632416171638
           },
           {
            "x": 7.844611528822055,
            "y": 0.015565723887849946
           },
           {
            "x": 7.864661654135338,
            "y": 0.016366691421955227
           },
           {
            "x": 7.8847117794486214,
            "y": 0.017202694906956542
           },
           {
            "x": 7.904761904761905,
            "y": 0.01807491618842946
           },
           {
            "x": 7.924812030075188,
            "y": 0.018984558569057855
           },
           {
            "x": 7.944862155388471,
            "y": 0.019932846251743522
           },
           {
            "x": 7.964912280701754,
            "y": 0.020921023724514248
           },
           {
            "x": 7.984962406015038,
            "y": 0.021950355086007626
           },
           {
            "x": 8.00501253132832,
            "y": 0.023022123310403323
           },
           {
            "x": 8.025062656641603,
            "y": 0.024137629450776937
           },
           {
            "x": 8.045112781954888,
            "y": 0.025298191779957582
           },
           {
            "x": 8.06516290726817,
            "y": 0.026505144868087874
           },
           {
            "x": 8.085213032581454,
            "y": 0.027759838596208307
           },
           {
            "x": 8.105263157894736,
            "y": 0.029063637105315634
           },
           {
            "x": 8.125313283208019,
            "y": 0.0304179176804848
           },
           {
            "x": 8.145363408521304,
            "y": 0.03182406956978489
           },
           {
            "x": 8.165413533834586,
            "y": 0.033283492737869985
           },
           {
            "x": 8.185463659147869,
            "y": 0.03479759655428342
           },
           {
            "x": 8.205513784461154,
            "y": 0.0363677984166719
           },
           {
            "x": 8.225563909774436,
            "y": 0.037995522309277
           },
           {
            "x": 8.24561403508772,
            "y": 0.03968219729724392
           },
           {
            "x": 8.265664160401002,
            "y": 0.04142925595746125
           },
           {
            "x": 8.285714285714285,
            "y": 0.043238132746832726
           },
           {
            "x": 8.30576441102757,
            "y": 0.045110262309064154
           },
           {
            "x": 8.325814536340852,
            "y": 0.04704707772123961
           },
           {
            "x": 8.345864661654135,
            "y": 0.049050008681655835
           },
           {
            "x": 8.36591478696742,
            "y": 0.051120479640574305
           },
           {
            "x": 8.385964912280702,
            "y": 0.05325990787575257
           },
           {
            "x": 8.406015037593985,
            "y": 0.0554697015148146
           },
           {
            "x": 8.426065162907268,
            "y": 0.05775125750671532
           },
           {
            "x": 8.44611528822055,
            "y": 0.06010595954476109
           },
           {
            "x": 8.466165413533835,
            "y": 0.06253517594384154
           },
           {
            "x": 8.486215538847118,
            "y": 0.06504025747473029
           },
           {
            "x": 8.5062656641604,
            "y": 0.0676225351585086
           },
           {
            "x": 8.526315789473685,
            "y": 0.07028331802435689
           },
           {
            "x": 8.546365914786968,
            "y": 0.07302389083415334
           },
           {
            "x": 8.56641604010025,
            "y": 0.07584551177750817
           },
           {
            "x": 8.586466165413533,
            "y": 0.07874941014103654
           },
           {
            "x": 8.606516290726816,
            "y": 0.0817367839558597
           },
           {
            "x": 8.6265664160401,
            "y": 0.08480879762748911
           },
           {
            "x": 8.646616541353383,
            "y": 0.087966579552413
           },
           {
            "x": 8.666666666666666,
            "y": 0.09121121972586776
           },
           {
            "x": 8.68671679197995,
            "y": 0.09454376734541287
           },
           {
            "x": 8.706766917293233,
            "y": 0.09796522841507893
           },
           {
            "x": 8.726817042606516,
            "y": 0.1014765633549859
           },
           {
            "x": 8.746867167919799,
            "y": 0.10507868462143832
           },
           {
            "x": 8.766917293233082,
            "y": 0.10877245434262678
           },
           {
            "x": 8.786967418546366,
            "y": 0.11255868197515151
           },
           {
            "x": 8.807017543859649,
            "y": 0.11643812198666764
           },
           {
            "x": 8.827067669172932,
            "y": 0.12041147157003451
           },
           {
            "x": 8.847117794486216,
            "y": 0.12447936839439017
           },
           {
            "x": 8.867167919799499,
            "y": 0.12864238839863207
           },
           {
            "x": 8.887218045112782,
            "y": 0.13290104363280858
           },
           {
            "x": 8.907268170426065,
            "y": 0.137255780152935
           },
           {
            "x": 8.927318295739347,
            "y": 0.14170697597475457
           },
           {
            "x": 8.947368421052632,
            "y": 0.14625493909194287
           },
           {
            "x": 8.967418546365915,
            "y": 0.15089990556422028
           },
           {
            "x": 8.987468671679197,
            "y": 0.15564203768079649
           },
           {
            "x": 9.007518796992482,
            "y": 0.16048142220448947
           },
           {
            "x": 9.027568922305765,
            "y": 0.165418068701793
           },
           {
            "x": 9.047619047619047,
            "y": 0.17045190796406506
           },
           {
            "x": 9.06766917293233,
            "y": 0.17558279052488512
           },
           {
            "x": 9.087719298245613,
            "y": 0.18081048527850485
           },
           {
            "x": 9.107769423558898,
            "y": 0.18613467820416568
           },
           {
            "x": 9.12781954887218,
            "y": 0.19155497120088422
           },
           {
            "x": 9.147869674185463,
            "y": 0.1970708810371396
           },
           {
            "x": 9.167919799498748,
            "y": 0.2026818384196778
           },
           {
            "x": 9.18796992481203,
            "y": 0.20838718718545224
           },
           {
            "x": 9.208020050125313,
            "y": 0.21418618362048836
           },
           {
            "x": 9.228070175438596,
            "y": 0.22007799590920363
           },
           {
            "x": 9.248120300751879,
            "y": 0.22606170371747497
           },
           {
            "x": 9.268170426065163,
            "y": 0.23213629791246065
           },
           {
            "x": 9.288220551378446,
            "y": 0.23830068042190528
           },
           {
            "x": 9.308270676691729,
            "y": 0.24455366423536418
           },
           {
            "x": 9.328320802005013,
            "y": 0.2508939735494635
           },
           {
            "x": 9.348370927318296,
            "y": 0.257320244059004
           },
           {
            "x": 9.368421052631579,
            "y": 0.26383102339539183
           },
           {
            "x": 9.388471177944862,
            "y": 0.2704247717135261
           },
           {
            "x": 9.408521303258144,
            "y": 0.2770998624279455
           },
           {
            "x": 9.428571428571429,
            "y": 0.28385458309867634
           },
           {
            "x": 9.448621553884712,
            "y": 0.2906871364668633
           },
           {
            "x": 9.468671679197994,
            "y": 0.29759564163991636
           },
           {
            "x": 9.488721804511279,
            "y": 0.3045781354255205
           },
           {
            "x": 9.508771929824562,
            "y": 0.31163257381350185
           },
           {
            "x": 9.528822055137844,
            "y": 0.3187568336041765
           },
           {
            "x": 9.548872180451127,
            "y": 0.32594871418141924
           },
           {
            "x": 9.56892230576441,
            "y": 0.33320593942834376
           },
           {
            "x": 9.588972431077694,
            "y": 0.3405261597831046
           },
           {
            "x": 9.609022556390977,
            "y": 0.34790695443196973
           },
           {
            "x": 9.62907268170426,
            "y": 0.3553458336364673
           },
           {
            "x": 9.649122807017545,
            "y": 0.36284024119103453
           },
           {
            "x": 9.669172932330827,
            "y": 0.37038755700726894
           },
           {
            "x": 9.68922305764411,
            "y": 0.3779850998205488
           },
           {
            "x": 9.709273182957393,
            "y": 0.3856301300144382
           },
           {
            "x": 9.729323308270676,
            "y": 0.3933198525580012
           },
           {
            "x": 9.74937343358396,
            "y": 0.4010514200508295
           },
           {
            "x": 9.769423558897243,
            "y": 0.4088219358702941
           },
           {
            "x": 9.789473684210526,
            "y": 0.4166284574152675
           },
           {
            "x": 9.80952380952381,
            "y": 0.4244679994402742
           },
           {
            "x": 9.829573934837093,
            "y": 0.43233753747379694
           },
           {
            "x": 9.849624060150376,
            "y": 0.4402340113142357
           },
           {
            "x": 9.869674185463658,
            "y": 0.44815432859677884
           },
           {
            "x": 9.889724310776941,
            "y": 0.4560953684242768
           },
           {
            "x": 9.909774436090226,
            "y": 0.4640539850550108
           },
           {
            "x": 9.929824561403509,
            "y": 0.47202701164009636
           },
           {
            "x": 9.949874686716791,
            "y": 0.48001126400313143
           },
           {
            "x": 9.969924812030076,
            "y": 0.48800354445456023
           },
           {
            "x": 9.989974937343359,
            "y": 0.49600064563314405
           },
           {
            "x": 10.010025062656641,
            "y": 0.503999354366856
           },
           {
            "x": 10.030075187969924,
            "y": 0.5119964555454397
           },
           {
            "x": 10.050125313283207,
            "y": 0.5199887359968678
           },
           {
            "x": 10.070175438596491,
            "y": 0.5279729883599037
           },
           {
            "x": 10.090225563909774,
            "y": 0.5359460149449892
           },
           {
            "x": 10.110275689223057,
            "y": 0.5439046315757226
           },
           {
            "x": 10.130325814536342,
            "y": 0.5518456714032212
           },
           {
            "x": 10.150375939849624,
            "y": 0.5597659886857643
           },
           {
            "x": 10.170426065162907,
            "y": 0.567662462526203
           },
           {
            "x": 10.19047619047619,
            "y": 0.5755320005597258
           },
           {
            "x": 10.210526315789473,
            "y": 0.5833715425847318
           },
           {
            "x": 10.230576441102757,
            "y": 0.5911780641297059
           },
           {
            "x": 10.25062656641604,
            "y": 0.5989485799491705
           },
           {
            "x": 10.270676691729323,
            "y": 0.606680147441998
           },
           {
            "x": 10.290726817042607,
            "y": 0.6143698699855618
           },
           {
            "x": 10.31077694235589,
            "y": 0.6220149001794512
           },
           {
            "x": 10.330827067669173,
            "y": 0.629612442992731
           },
           {
            "x": 10.350877192982455,
            "y": 0.6371597588089655
           },
           {
            "x": 10.370927318295738,
            "y": 0.644654166363532
           },
           {
            "x": 10.390977443609023,
            "y": 0.6520930455680303
           },
           {
            "x": 10.411027568922306,
            "y": 0.6594738402168954
           },
           {
            "x": 10.431077694235588,
            "y": 0.6667940605716556
           },
           {
            "x": 10.451127819548873,
            "y": 0.6740512858185808
           },
           {
            "x": 10.471177944862156,
            "y": 0.6812431663958235
           },
           {
            "x": 10.491228070175438,
            "y": 0.6883674261864982
           },
           {
            "x": 10.511278195488721,
            "y": 0.6954218645744795
           },
           {
            "x": 10.531328320802004,
            "y": 0.702404358360083
           },
           {
            "x": 10.551378446115288,
            "y": 0.7093128635331367
           },
           {
            "x": 10.571428571428571,
            "y": 0.7161454169013237
           },
           {
            "x": 10.591478696741854,
            "y": 0.7229001375720538
           },
           {
            "x": 10.611528822055138,
            "y": 0.7295752282864739
           },
           {
            "x": 10.631578947368421,
            "y": 0.7361689766046082
           },
           {
            "x": 10.651629072681704,
            "y": 0.742679755940996
           },
           {
            "x": 10.671679197994987,
            "y": 0.7491060264505365
           },
           {
            "x": 10.69172932330827,
            "y": 0.7554463357646353
           },
           {
            "x": 10.711779448621554,
            "y": 0.7616993195780948
           },
           {
            "x": 10.731829573934837,
            "y": 0.7678637020875394
           },
           {
            "x": 10.75187969924812,
            "y": 0.7739382962825245
           },
           {
            "x": 10.771929824561404,
            "y": 0.7799220040907964
           },
           {
            "x": 10.791979949874687,
            "y": 0.7858138163795116
           },
           {
            "x": 10.81203007518797,
            "y": 0.7916128128145478
           },
           {
            "x": 10.832080200501252,
            "y": 0.7973181615803222
           },
           {
            "x": 10.852130325814535,
            "y": 0.8029291189628599
           },
           {
            "x": 10.87218045112782,
            "y": 0.8084450287991158
           },
           {
            "x": 10.892230576441102,
            "y": 0.8138653217958343
           },
           {
            "x": 10.912280701754385,
            "y": 0.8191895147214947
           },
           {
            "x": 10.93233082706767,
            "y": 0.8244172094751149
           },
           {
            "x": 10.952380952380953,
            "y": 0.8295480920359349
           },
           {
            "x": 10.972431077694235,
            "y": 0.834581931298207
           },
           {
            "x": 10.992481203007518,
            "y": 0.8395185777955105
           },
           {
            "x": 11.0125313283208,
            "y": 0.8443579623192031
           },
           {
            "x": 11.032581453634085,
            "y": 0.8491000944357797
           },
           {
            "x": 11.052631578947368,
            "y": 0.8537450609080571
           },
           {
            "x": 11.072681704260651,
            "y": 0.858293024025245
           },
           {
            "x": 11.092731829573935,
            "y": 0.862744219847065
           },
           {
            "x": 11.112781954887218,
            "y": 0.8670989563671914
           },
           {
            "x": 11.132832080200501,
            "y": 0.8713576116013679
           },
           {
            "x": 11.152882205513784,
            "y": 0.8755206316056099
           },
           {
            "x": 11.172932330827066,
            "y": 0.8795885284299652
           },
           {
            "x": 11.192982456140351,
            "y": 0.8835618780133323
           },
           {
            "x": 11.213032581453634,
            "y": 0.8874413180248485
           },
           {
            "x": 11.233082706766917,
            "y": 0.8912275456573728
           },
           {
            "x": 11.253132832080201,
            "y": 0.8949213153785617
           },
           {
            "x": 11.273182957393484,
            "y": 0.8985234366450141
           },
           {
            "x": 11.293233082706767,
            "y": 0.9020347715849211
           },
           {
            "x": 11.31328320802005,
            "y": 0.9054562326545872
           },
           {
            "x": 11.333333333333332,
            "y": 0.9087887802741319
           },
           {
            "x": 11.353383458646617,
            "y": 0.9120334204475871
           },
           {
            "x": 11.3734335839599,
            "y": 0.9151912023725108
           },
           {
            "x": 11.393483709273182,
            "y": 0.91826321604414
           },
           {
            "x": 11.413533834586467,
            "y": 0.9212505898589635
           },
           {
            "x": 11.43358395989975,
            "y": 0.9241544882224918
           },
           {
            "x": 11.453634085213032,
            "y": 0.9269761091658466
           },
           {
            "x": 11.473684210526315,
            "y": 0.9297166819756431
           },
           {
            "x": 11.493734335839598,
            "y": 0.9323774648414912
           },
           {
            "x": 11.513784461152882,
            "y": 0.9349597425252697
           },
           {
            "x": 11.533834586466165,
            "y": 0.9374648240561585
           },
           {
            "x": 11.553884711779448,
            "y": 0.9398940404552387
           },
           {
            "x": 11.573934837092732,
            "y": 0.9422487424932847
           },
           {
            "x": 11.593984962406015,
            "y": 0.9445302984851854
           },
           {
            "x": 11.614035087719298,
            "y": 0.9467400921242475
           },
           {
            "x": 11.63408521303258,
            "y": 0.9488795203594257
           },
           {
            "x": 11.654135338345863,
            "y": 0.950949991318344
           },
           {
            "x": 11.674185463659148,
            "y": 0.9529529222787604
           },
           {
            "x": 11.69423558897243,
            "y": 0.9548897376909359
           },
           {
            "x": 11.714285714285714,
            "y": 0.9567618672531671
           },
           {
            "x": 11.734335839598998,
            "y": 0.9585707440425387
           },
           {
            "x": 11.75438596491228,
            "y": 0.9603178027027561
           },
           {
            "x": 11.774436090225564,
            "y": 0.9620044776907231
           },
           {
            "x": 11.794486215538846,
            "y": 0.9636322015833281
           },
           {
            "x": 11.81453634085213,
            "y": 0.9652024034457165
           },
           {
            "x": 11.834586466165414,
            "y": 0.96671650726213
           },
           {
            "x": 11.854636591478696,
            "y": 0.9681759304302151
           },
           {
            "x": 11.87468671679198,
            "y": 0.969582082319515
           },
           {
            "x": 11.894736842105264,
            "y": 0.9709363628946843
           },
           {
            "x": 11.914786967418546,
            "y": 0.9722401614037917
           },
           {
            "x": 11.93483709273183,
            "y": 0.9734948551319121
           },
           {
            "x": 11.954887218045112,
            "y": 0.9747018082200424
           },
           {
            "x": 11.974937343358395,
            "y": 0.975862370549223
           },
           {
            "x": 11.99498746867168,
            "y": 0.9769778766895967
           },
           {
            "x": 12.015037593984962,
            "y": 0.9780496449139924
           },
           {
            "x": 12.035087719298245,
            "y": 0.9790789762754857
           },
           {
            "x": 12.05513784461153,
            "y": 0.9800671537482565
           },
           {
            "x": 12.075187969924812,
            "y": 0.9810154414309421
           },
           {
            "x": 12.095238095238095,
            "y": 0.9819250838115705
           },
           {
            "x": 12.115288220551378,
            "y": 0.9827973050930434
           },
           {
            "x": 12.13533834586466,
            "y": 0.9836333085780447
           },
           {
            "x": 12.155388471177945,
            "y": 0.9844342761121501
           },
           {
            "x": 12.175438596491228,
            "y": 0.9852013675838284
           },
           {
            "x": 12.19548872180451,
            "y": 0.9859357204799466
           },
           {
            "x": 12.215538847117795,
            "y": 0.9866384494953147
           },
           {
            "x": 12.235588972431078,
            "y": 0.9873106461947422
           },
           {
            "x": 12.25563909774436,
            "y": 0.9879533787260233
           },
           {
            "x": 12.275689223057643,
            "y": 0.9885676915822069
           },
           {
            "x": 12.295739348370926,
            "y": 0.9891546054114726
           },
           {
            "x": 12.31578947368421,
            "y": 0.9897151168728886
           },
           {
            "x": 12.335839598997493,
            "y": 0.9902501985362975
           },
           {
            "x": 12.355889724310776,
            "y": 0.9907607988245517
           },
           {
            "x": 12.37593984962406,
            "y": 0.9912478419962976
           },
           {
            "x": 12.395989974937343,
            "y": 0.9917122281674954
           },
           {
            "x": 12.416040100250626,
            "y": 0.9921548333698541
           },
           {
            "x": 12.436090225563909,
            "y": 0.9925765096443551
           },
           {
            "x": 12.456140350877192,
            "y": 0.9929780851680435
           },
           {
            "x": 12.476190476190476,
            "y": 0.9933603644122728
           },
           {
            "x": 12.496240601503759,
            "y": 0.9937241283305966
           },
           {
            "x": 12.516290726817042,
            "y": 0.9940701345745234
           },
           {
            "x": 12.536340852130326,
            "y": 0.994399117735366
           },
           {
            "x": 12.556390977443609,
            "y": 0.9947117896104427
           },
           {
            "x": 12.576441102756892,
            "y": 0.9950088394919158
           },
           {
            "x": 12.596491228070175,
            "y": 0.9952909344765839
           },
           {
            "x": 12.616541353383457,
            "y": 0.9955587197949783
           },
           {
            "x": 12.636591478696742,
            "y": 0.9958128191581507
           },
           {
            "x": 12.656641604010025,
            "y": 0.9960538351205783
           },
           {
            "x": 12.676691729323307,
            "y": 0.9962823494576587
           },
           {
            "x": 12.696741854636592,
            "y": 0.996498923556303
           },
           {
            "x": 12.716791979949875,
            "y": 0.9967040988171896
           },
           {
            "x": 12.736842105263158,
            "y": 0.9968983970672827
           },
           {
            "x": 12.75689223057644,
            "y": 0.9970823209812707
           },
           {
            "x": 12.776942355889723,
            "y": 0.9972563545106303
           },
           {
            "x": 12.796992481203008,
            "y": 0.9974209633190699
           },
           {
            "x": 12.81704260651629,
            "y": 0.9975765952231604
           },
           {
            "x": 12.837092731829573,
            "y": 0.9977236806370132
           },
           {
            "x": 12.857142857142858,
            "y": 0.9978626330199137
           },
           {
            "x": 12.87719298245614,
            "y": 0.997993849325877
           },
           {
            "x": 12.897243107769423,
            "y": 0.9981177104541401
           },
           {
            "x": 12.917293233082706,
            "y": 0.9982345816996594
           },
           {
            "x": 12.937343358395989,
            "y": 0.9983448132027333
           },
           {
            "x": 12.957393483709273,
            "y": 0.9984487403969214
           },
           {
            "x": 12.977443609022556,
            "y": 0.9985466844544828
           },
           {
            "x": 12.997493734335839,
            "y": 0.9986389527286055
           },
           {
            "x": 13.017543859649123,
            "y": 0.9987258391917476
           },
           {
            "x": 13.037593984962406,
            "y": 0.9988076248694612
           },
           {
            "x": 13.057644110275689,
            "y": 0.9988845782691135
           },
           {
            "x": 13.077694235588972,
            "y": 0.9989569558029702
           },
           {
            "x": 13.097744360902254,
            "y": 0.9990250022051459
           },
           {
            "x": 13.117794486215539,
            "y": 0.9990889509419739
           },
           {
            "x": 13.137844611528822,
            "y": 0.9991490246153882
           },
           {
            "x": 13.157894736842104,
            "y": 0.9992054353589497
           },
           {
            "x": 13.177944862155389,
            "y": 0.9992583852261914
           },
           {
            "x": 13.197994987468672,
            "y": 0.9993080665709915
           },
           {
            "x": 13.218045112781954,
            "y": 0.9993546624197229
           },
           {
            "x": 13.238095238095237,
            "y": 0.9993983468349583
           },
           {
            "x": 13.25814536340852,
            "y": 0.9994392852705486
           },
           {
            "x": 13.278195488721805,
            "y": 0.9994776349179179
           },
           {
            "x": 13.298245614035087,
            "y": 0.9995135450434546
           },
           {
            "x": 13.31829573934837,
            "y": 0.999547157316902
           },
           {
            "x": 13.338345864661655,
            "y": 0.9995786061306798
           },
           {
            "x": 13.358395989974937,
            "y": 0.9996080189100964
           },
           {
            "x": 13.37844611528822,
            "y": 0.9996355164144312
           },
           {
            "x": 13.398496240601503,
            "y": 0.9996612130288921
           },
           {
            "x": 13.418546365914786,
            "y": 0.9996852170474735
           },
           {
            "x": 13.43859649122807,
            "y": 0.9997076309467579
           },
           {
            "x": 13.458646616541353,
            "y": 0.9997285516507257
           },
           {
            "x": 13.478696741854636,
            "y": 0.9997480707866525
           },
           {
            "x": 13.49874686716792,
            "y": 0.9997662749321866
           },
           {
            "x": 13.518796992481203,
            "y": 0.9997832458537205
           },
           {
            "x": 13.538847117794486,
            "y": 0.9997990607361741
           },
           {
            "x": 13.558897243107769,
            "y": 0.9998137924043273
           },
           {
            "x": 13.578947368421051,
            "y": 0.9998275095358438
           },
           {
            "x": 13.598997493734336,
            "y": 0.9998402768661424
           },
           {
            "x": 13.619047619047619,
            "y": 0.9998521553852772
           },
           {
            "x": 13.639097744360901,
            "y": 0.9998632025269965
           },
           {
            "x": 13.659147869674186,
            "y": 0.999873472350158
           },
           {
            "x": 13.679197994987469,
            "y": 0.9998830157126812
           },
           {
            "x": 13.699248120300751,
            "y": 0.999891880438223
           },
           {
            "x": 13.719298245614034,
            "y": 0.9999001114757681
           },
           {
            "x": 13.739348370927317,
            "y": 0.9999077510523272
           },
           {
            "x": 13.759398496240602,
            "y": 0.9999148388189385
           },
           {
            "x": 13.779448621553884,
            "y": 0.999921411990168
           },
           {
            "x": 13.799498746867167,
            "y": 0.9999275054773106
           },
           {
            "x": 13.819548872180452,
            "y": 0.9999331520154859
           },
           {
            "x": 13.839598997493734,
            "y": 0.9999383822848312
           },
           {
            "x": 13.859649122807017,
            "y": 0.999943225025985
           },
           {
            "x": 13.8796992481203,
            "y": 0.9999477071500608
           },
           {
            "x": 13.899749373433583,
            "y": 0.9999518538433037
           },
           {
            "x": 13.919799498746867,
            "y": 0.999955688666623
           },
           {
            "x": 13.93984962406015,
            "y": 0.9999592336501907
           },
           {
            "x": 13.959899749373433,
            "y": 0.9999625093832927
           },
           {
            "x": 13.979949874686717,
            "y": 0.9999655350996183
           },
           {
            "x": 14,
            "y": 0.9999683287581669
           }
          ]
         },
         "encoding": {
          "x": {
           "field": "x",
           "type": "quantitative"
          },
          "y": {
           "field": "y",
           "type": "quantitative"
          }
         },
         "mark": {
          "color": "tomato",
          "type": "line"
         }
        }
       ]
      },
      "image/png": "[encoded data removed]",
      "text/plain": [
       "<VegaLite 2 object>\n",
       "\n",
       "If you see this message, it means the renderer has not been properly enabled\n",
       "for the frontend that you are using. For more information, see\n",
       "https://altair-viz.github.io/user_guide/troubleshooting.html\n"
      ]
     },
     "execution_count": 64,
     "metadata": {},
     "output_type": "execute_result"
    }
   ],
   "source": [
    "x_theor = np.linspace(6, 14, 400)\n",
    "y_theor = scipy.stats.norm.cdf(x_theor, mu, sigma)\n",
    "\n",
    "df_cdf = pd.DataFrame(data={'x': x_theor,\n",
    "                            'y': y_theor})\n",
    "\n",
    "x, y = bootcamp_utils.ecdf_vals(x)\n",
    "\n",
    "df_ecdf = pd.DataFrame(data={'x': x[::1000],\n",
    "                             'y': y[::1000]})\n",
    "\n",
    "p_ecdf = alt.Chart(df_ecdf\n",
    "                ).mark_point(\n",
    "                ).encode(\n",
    "                    x='x:Q',\n",
    "                    y='y:Q'\n",
    "                )\n",
    "\n",
    "p_cdf = alt.Chart(df_cdf\n",
    "                ).mark_line(\n",
    "                    color='tomato'\n",
    "                ).encode(\n",
    "                    x='x:Q',\n",
    "                    y='y:Q'\n",
    "                )\n",
    "\n",
    "p_ecdf + p_cdf"
   ]
  },
  {
   "cell_type": "code",
   "execution_count": 73,
   "metadata": {},
   "outputs": [
    {
     "data": {
      "text/plain": [
       "3"
      ]
     },
     "execution_count": 73,
     "metadata": {},
     "output_type": "execute_result"
    }
   ],
   "source": [
    "np.random.binomial(10, 0.5)"
   ]
  },
  {
   "cell_type": "code",
   "execution_count": null,
   "metadata": {},
   "outputs": [],
   "source": [
    "(AAAAHHHH [THIS] IS {AWESOME!!})"
   ]
  },
  {
   "cell_type": "code",
   "execution_count": 75,
   "metadata": {},
   "outputs": [
    {
     "data": {
      "text/plain": [
       "array(['Guido', 'Mike', 'Julie'], dtype='<U6')"
      ]
     },
     "execution_count": 75,
     "metadata": {},
     "output_type": "execute_result"
    }
   ],
   "source": [
    "names = ['Max', 'Joe', 'Mike', 'Guido', 'Susie', 'Julie', 'Lebron']\n",
    "\n",
    "np.random.choice(names, size=3, replace=False)"
   ]
  },
  {
   "cell_type": "code",
   "execution_count": 76,
   "metadata": {},
   "outputs": [
    {
     "data": {
      "text/plain": [
       "array(['Guido', 'Mike', 'Susie'], dtype='<U6')"
      ]
     },
     "execution_count": 76,
     "metadata": {},
     "output_type": "execute_result"
    }
   ],
   "source": [
    "names = ['Max', 'Joe', 'Mike', 'Guido', 'Susie', 'Julie', 'Lebron']\n",
    "\n",
    "np.random.choice(names, size=3, replace=False)"
   ]
  },
  {
   "cell_type": "code",
   "execution_count": 77,
   "metadata": {},
   "outputs": [
    {
     "data": {
      "text/plain": [
       "array(['Guido', 'Susie', 'Julie'], dtype='<U6')"
      ]
     },
     "execution_count": 77,
     "metadata": {},
     "output_type": "execute_result"
    }
   ],
   "source": [
    "names = ['Max', 'Joe', 'Mike', 'Guido', 'Susie', 'Julie', 'Lebron']\n",
    "\n",
    "np.random.choice(names, size=3, replace=False)"
   ]
  },
  {
   "cell_type": "code",
   "execution_count": 78,
   "metadata": {},
   "outputs": [
    {
     "data": {
      "text/plain": [
       "array(['Max', 'Joe', 'Julie'], dtype='<U6')"
      ]
     },
     "execution_count": 78,
     "metadata": {},
     "output_type": "execute_result"
    }
   ],
   "source": [
    "names = ['Max', 'Joe', 'Mike', 'Guido', 'Susie', 'Julie', 'Lebron']\n",
    "\n",
    "np.random.seed(42)\n",
    "np.random.choice(names, size=3, replace=False)"
   ]
  },
  {
   "cell_type": "code",
   "execution_count": 79,
   "metadata": {},
   "outputs": [
    {
     "data": {
      "text/plain": [
       "array(['Max', 'Joe', 'Julie'], dtype='<U6')"
      ]
     },
     "execution_count": 79,
     "metadata": {},
     "output_type": "execute_result"
    }
   ],
   "source": [
    "names = ['Max', 'Joe', 'Mike', 'Guido', 'Susie', 'Julie', 'Lebron']\n",
    "\n",
    "np.random.seed(42)\n",
    "np.random.choice(names, size=3, replace=False)"
   ]
  },
  {
   "cell_type": "code",
   "execution_count": 80,
   "metadata": {},
   "outputs": [
    {
     "data": {
      "text/plain": [
       "array(['Max', 'Joe', 'Julie'], dtype='<U6')"
      ]
     },
     "execution_count": 80,
     "metadata": {},
     "output_type": "execute_result"
    }
   ],
   "source": [
    "names = ['Max', 'Joe', 'Mike', 'Guido', 'Susie', 'Julie', 'Lebron']\n",
    "\n",
    "np.random.seed(42)\n",
    "np.random.choice(names, size=3, replace=False)"
   ]
  },
  {
   "cell_type": "code",
   "execution_count": 82,
   "metadata": {},
   "outputs": [
    {
     "data": {
      "text/plain": [
       "'AAGTGGGGCACCCGTATCCTTTCCAACTTACAAGGGTCCCCGTTGTGCGCCAGAGGAAGTCACTTTATAT'"
      ]
     },
     "execution_count": 82,
     "metadata": {},
     "output_type": "execute_result"
    }
   ],
   "source": [
    "bases = ['A', 'T', 'G', 'C']\n",
    "\n",
    "\"\".join(np.random.choice(bases, replace=True, size=70))"
   ]
  },
  {
   "cell_type": "markdown",
   "metadata": {},
   "source": []
  }
 ],
 "metadata": {
  "kernelspec": {
   "display_name": "Python 3",
   "language": "python",
   "name": "python3"
  },
  "language_info": {
   "codemirror_mode": {
    "name": "ipython",
    "version": 3
   },
   "file_extension": ".py",
   "mimetype": "text/x-python",
   "name": "python",
   "nbconvert_exporter": "python",
   "pygments_lexer": "ipython3",
   "version": "3.6.5"
  }
 },
 "nbformat": 4,
 "nbformat_minor": 2
}
