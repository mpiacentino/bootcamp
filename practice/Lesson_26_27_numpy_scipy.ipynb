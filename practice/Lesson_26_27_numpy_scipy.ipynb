{
 "cells": [
  {
   "cell_type": "code",
   "execution_count": 47,
   "metadata": {},
   "outputs": [],
   "source": [
    "# Numy, the engine of scientific computing in Python\n",
    "import numpy as np\n",
    "\n",
    "# We'll demo a bit of Scipy\n",
    "import scipy.special"
   ]
  },
  {
   "cell_type": "code",
   "execution_count": 2,
   "metadata": {},
   "outputs": [
    {
     "ename": "TypeError",
     "evalue": "Required argument 'object' (pos 1) not found",
     "output_type": "error",
     "traceback": [
      "\u001b[0;31m---------------------------------------------------------------------------\u001b[0m",
      "\u001b[0;31mTypeError\u001b[0m                                 Traceback (most recent call last)",
      "\u001b[0;32m<ipython-input-2-e4f3b47dc252>\u001b[0m in \u001b[0;36m<module>\u001b[0;34m()\u001b[0m\n\u001b[0;32m----> 1\u001b[0;31m \u001b[0mnp\u001b[0m\u001b[0;34m.\u001b[0m\u001b[0marray\u001b[0m\u001b[0;34m(\u001b[0m\u001b[0;34m)\u001b[0m\u001b[0;34m\u001b[0m\u001b[0m\n\u001b[0m",
      "\u001b[0;31mTypeError\u001b[0m: Required argument 'object' (pos 1) not found"
     ]
    }
   ],
   "source": [
    "np.array()"
   ]
  },
  {
   "cell_type": "code",
   "execution_count": 3,
   "metadata": {},
   "outputs": [
    {
     "data": {
      "text/plain": [
       "array([1, 2, 3, 4])"
      ]
     },
     "execution_count": 3,
     "metadata": {},
     "output_type": "execute_result"
    }
   ],
   "source": [
    "np.array([1,2,3,4])"
   ]
  },
  {
   "cell_type": "code",
   "execution_count": 12,
   "metadata": {},
   "outputs": [],
   "source": [
    "my_arr = np.array([1,2,3,4])"
   ]
  },
  {
   "cell_type": "code",
   "execution_count": 7,
   "metadata": {},
   "outputs": [
    {
     "data": {
      "text/plain": [
       "array([1, 2, 3, 4])"
      ]
     },
     "execution_count": 7,
     "metadata": {},
     "output_type": "execute_result"
    }
   ],
   "source": [
    "my_arr"
   ]
  },
  {
   "cell_type": "code",
   "execution_count": 8,
   "metadata": {},
   "outputs": [
    {
     "data": {
      "text/plain": [
       "dtype('int64')"
      ]
     },
     "execution_count": 8,
     "metadata": {},
     "output_type": "execute_result"
    }
   ],
   "source": [
    "my_arr.dtype"
   ]
  },
  {
   "cell_type": "code",
   "execution_count": 13,
   "metadata": {},
   "outputs": [
    {
     "data": {
      "text/plain": [
       "(4,)"
      ]
     },
     "execution_count": 13,
     "metadata": {},
     "output_type": "execute_result"
    }
   ],
   "source": [
    "my_arr.shape"
   ]
  },
  {
   "cell_type": "code",
   "execution_count": 15,
   "metadata": {},
   "outputs": [
    {
     "data": {
      "text/plain": [
       "array([1., 2., 3., 4.])"
      ]
     },
     "execution_count": 15,
     "metadata": {},
     "output_type": "execute_result"
    }
   ],
   "source": [
    "my_arr.astype(float)"
   ]
  },
  {
   "cell_type": "code",
   "execution_count": 16,
   "metadata": {},
   "outputs": [
    {
     "data": {
      "text/plain": [
       "2.5"
      ]
     },
     "execution_count": 16,
     "metadata": {},
     "output_type": "execute_result"
    }
   ],
   "source": [
    "my_arr.mean()"
   ]
  },
  {
   "cell_type": "code",
   "execution_count": 17,
   "metadata": {},
   "outputs": [
    {
     "data": {
      "text/plain": [
       "1.118033988749895"
      ]
     },
     "execution_count": 17,
     "metadata": {},
     "output_type": "execute_result"
    }
   ],
   "source": [
    "my_arr.std()"
   ]
  },
  {
   "cell_type": "code",
   "execution_count": 18,
   "metadata": {},
   "outputs": [
    {
     "data": {
      "text/plain": [
       "10"
      ]
     },
     "execution_count": 18,
     "metadata": {},
     "output_type": "execute_result"
    }
   ],
   "source": [
    "np.sum(my_arr)"
   ]
  },
  {
   "cell_type": "code",
   "execution_count": 22,
   "metadata": {},
   "outputs": [
    {
     "data": {
      "text/plain": [
       "array([0.0, 0.0, 0.0, 0.0, 0.0, 0.0, 0.0, 0.0, 0.0, 0.0], dtype=object)"
      ]
     },
     "execution_count": 22,
     "metadata": {},
     "output_type": "execute_result"
    }
   ],
   "source": [
    "n = 10\n",
    "\n",
    "np.zeros(n).astype(list)"
   ]
  },
  {
   "cell_type": "code",
   "execution_count": 23,
   "metadata": {},
   "outputs": [
    {
     "data": {
      "text/plain": [
       "array([0., 0., 0., 0., 0., 0., 0., 0., 0., 0.])"
      ]
     },
     "execution_count": 23,
     "metadata": {},
     "output_type": "execute_result"
    }
   ],
   "source": [
    "n = 10\n",
    "\n",
    "np.zeros(n)"
   ]
  },
  {
   "cell_type": "code",
   "execution_count": 26,
   "metadata": {},
   "outputs": [
    {
     "data": {
      "text/plain": [
       "array([1., 1., 1., 1., 1., 1., 1., 1., 1., 1.])"
      ]
     },
     "execution_count": 26,
     "metadata": {},
     "output_type": "execute_result"
    }
   ],
   "source": [
    "my_arr = np.ones(n)\n",
    "\n",
    "my_arr"
   ]
  },
  {
   "cell_type": "code",
   "execution_count": 27,
   "metadata": {},
   "outputs": [
    {
     "data": {
      "text/plain": [
       "array([5., 5., 5., 5., 5., 5., 5., 5., 5., 5.])"
      ]
     },
     "execution_count": 27,
     "metadata": {},
     "output_type": "execute_result"
    }
   ],
   "source": [
    "my_arr * 5"
   ]
  },
  {
   "cell_type": "code",
   "execution_count": 28,
   "metadata": {},
   "outputs": [],
   "source": [
    "my_fives = my_arr * 5"
   ]
  },
  {
   "cell_type": "code",
   "execution_count": 29,
   "metadata": {},
   "outputs": [
    {
     "data": {
      "text/plain": [
       "array([5., 5., 5., 5., 5., 5., 5., 5., 5., 5.])"
      ]
     },
     "execution_count": 29,
     "metadata": {},
     "output_type": "execute_result"
    }
   ],
   "source": [
    "my_fives"
   ]
  },
  {
   "cell_type": "code",
   "execution_count": 30,
   "metadata": {},
   "outputs": [
    {
     "data": {
      "text/plain": [
       "array([0., 0., 0., 0., 0., 0., 0., 0., 0., 0.])"
      ]
     },
     "execution_count": 30,
     "metadata": {},
     "output_type": "execute_result"
    }
   ],
   "source": [
    "#gives you an array of the same shape as the input array\n",
    "np.zeros_like(my_fives)"
   ]
  },
  {
   "cell_type": "code",
   "execution_count": 31,
   "metadata": {},
   "outputs": [
    {
     "data": {
      "text/plain": [
       "array([  2.71828183,   7.3890561 ,  20.08553692,  54.59815003,\n",
       "       148.4131591 ])"
      ]
     },
     "execution_count": 31,
     "metadata": {},
     "output_type": "execute_result"
    }
   ],
   "source": [
    "my_arr = np.array([1, 2, 3, 4, 5])\n",
    "\n",
    "np.exp(my_arr)"
   ]
  },
  {
   "cell_type": "code",
   "execution_count": 37,
   "metadata": {},
   "outputs": [
    {
     "data": {
      "text/plain": [
       "\u001b[0;31mDocstring:\u001b[0m\n",
       "arange([start,] stop[, step,], dtype=None)\n",
       "\n",
       "Return evenly spaced values within a given interval.\n",
       "\n",
       "Values are generated within the half-open interval ``[start, stop)``\n",
       "(in other words, the interval including `start` but excluding `stop`).\n",
       "For integer arguments the function is equivalent to the Python built-in\n",
       "`range <http://docs.python.org/lib/built-in-funcs.html>`_ function,\n",
       "but returns an ndarray rather than a list.\n",
       "\n",
       "When using a non-integer step, such as 0.1, the results will often not\n",
       "be consistent.  It is better to use ``linspace`` for these cases.\n",
       "\n",
       "Parameters\n",
       "----------\n",
       "start : number, optional\n",
       "    Start of interval.  The interval includes this value.  The default\n",
       "    start value is 0.\n",
       "stop : number\n",
       "    End of interval.  The interval does not include this value, except\n",
       "    in some cases where `step` is not an integer and floating point\n",
       "    round-off affects the length of `out`.\n",
       "step : number, optional\n",
       "    Spacing between values.  For any output `out`, this is the distance\n",
       "    between two adjacent values, ``out[i+1] - out[i]``.  The default\n",
       "    step size is 1.  If `step` is specified as a position argument,\n",
       "    `start` must also be given.\n",
       "dtype : dtype\n",
       "    The type of the output array.  If `dtype` is not given, infer the data\n",
       "    type from the other input arguments.\n",
       "\n",
       "Returns\n",
       "-------\n",
       "arange : ndarray\n",
       "    Array of evenly spaced values.\n",
       "\n",
       "    For floating point arguments, the length of the result is\n",
       "    ``ceil((stop - start)/step)``.  Because of floating point overflow,\n",
       "    this rule may result in the last element of `out` being greater\n",
       "    than `stop`.\n",
       "\n",
       "See Also\n",
       "--------\n",
       "linspace : Evenly spaced numbers with careful handling of endpoints.\n",
       "ogrid: Arrays of evenly spaced numbers in N-dimensions.\n",
       "mgrid: Grid-shaped arrays of evenly spaced numbers in N-dimensions.\n",
       "\n",
       "Examples\n",
       "--------\n",
       ">>> np.arange(3)\n",
       "array([0, 1, 2])\n",
       ">>> np.arange(3.0)\n",
       "array([ 0.,  1.,  2.])\n",
       ">>> np.arange(3,7)\n",
       "array([3, 4, 5, 6])\n",
       ">>> np.arange(3,7,2)\n",
       "array([3, 5])\n",
       "\u001b[0;31mType:\u001b[0m      builtin_function_or_method\n"
      ]
     },
     "metadata": {},
     "output_type": "display_data"
    }
   ],
   "source": [
    "np.arange?"
   ]
  },
  {
   "cell_type": "code",
   "execution_count": 39,
   "metadata": {},
   "outputs": [
    {
     "data": {
      "text/plain": [
       "array([0, 1, 2, 3, 4])"
      ]
     },
     "execution_count": 39,
     "metadata": {},
     "output_type": "execute_result"
    }
   ],
   "source": [
    "my_arr = np.arange(5)\n",
    "my_arr"
   ]
  },
  {
   "cell_type": "code",
   "execution_count": 52,
   "metadata": {},
   "outputs": [
    {
     "data": {
      "text/plain": [
       "array([1, 2, 3, 4, 5])"
      ]
     },
     "execution_count": 52,
     "metadata": {},
     "output_type": "execute_result"
    }
   ],
   "source": [
    "my_arr = np.arange(1, 6)\n",
    "my_arr"
   ]
  },
  {
   "cell_type": "code",
   "execution_count": 43,
   "metadata": {},
   "outputs": [
    {
     "ename": "TypeError",
     "evalue": "Required argument 'b' (pos 2) not found",
     "output_type": "error",
     "traceback": [
      "\u001b[0;31m---------------------------------------------------------------------------\u001b[0m",
      "\u001b[0;31mTypeError\u001b[0m                                 Traceback (most recent call last)",
      "\u001b[0;32m<ipython-input-43-cf8bee6dc8f2>\u001b[0m in \u001b[0;36m<module>\u001b[0;34m()\u001b[0m\n\u001b[0;32m----> 1\u001b[0;31m \u001b[0mnp\u001b[0m\u001b[0;34m.\u001b[0m\u001b[0mdot\u001b[0m\u001b[0;34m(\u001b[0m\u001b[0mmy_arr\u001b[0m\u001b[0;34m)\u001b[0m\u001b[0;34m\u001b[0m\u001b[0m\n\u001b[0m",
      "\u001b[0;31mTypeError\u001b[0m: Required argument 'b' (pos 2) not found"
     ]
    }
   ],
   "source": [
    "np.dot(my_arr)"
   ]
  },
  {
   "cell_type": "code",
   "execution_count": 44,
   "metadata": {},
   "outputs": [
    {
     "data": {
      "text/plain": [
       "55"
      ]
     },
     "execution_count": 44,
     "metadata": {},
     "output_type": "execute_result"
    }
   ],
   "source": [
    "np.dot(my_arr, my_arr)"
   ]
  },
  {
   "cell_type": "code",
   "execution_count": 45,
   "metadata": {},
   "outputs": [
    {
     "data": {
      "text/plain": [
       "3.141592653589793"
      ]
     },
     "execution_count": 45,
     "metadata": {},
     "output_type": "execute_result"
    }
   ],
   "source": [
    "np.pi"
   ]
  },
  {
   "cell_type": "code",
   "execution_count": 53,
   "metadata": {},
   "outputs": [],
   "source": [
    "# We'll demo a bit of Scipy, sometimes needs to import specific submodules \n",
    "#if we import scipy, it won't import special\n",
    "#importing scipy.special won't import all of scipy\n",
    "import scipy.special"
   ]
  },
  {
   "cell_type": "code",
   "execution_count": 55,
   "metadata": {},
   "outputs": [
    {
     "data": {
      "text/plain": [
       "array([0.84270079, 0.99532227, 0.99997791, 0.99999998, 1.        ])"
      ]
     },
     "execution_count": 55,
     "metadata": {},
     "output_type": "execute_result"
    }
   ],
   "source": [
    "#error function - cumulative \n",
    "#The error function is related to the cumulative distribution {\\displaystyle \\Phi } \\Phi , the integral of the standard normal distribution\n",
    "scipy.special.erf(my_arr)"
   ]
  },
  {
   "cell_type": "code",
   "execution_count": 56,
   "metadata": {},
   "outputs": [],
   "source": [
    "# good stats program, has t tests, pearsons, anova?\n",
    "import scipy.stats\n",
    "    #this also works by taking in panda dfs, don't need to first put them into a np array"
   ]
  },
  {
   "cell_type": "code",
   "execution_count": 57,
   "metadata": {},
   "outputs": [
    {
     "name": "stdout",
     "output_type": "stream",
     "text": [
      "0\n",
      "2\n",
      "4\n",
      "6\n",
      "8\n"
     ]
    }
   ],
   "source": [
    "my_slow_arr = [0, 1, 2, 3, 4]\n",
    "\n",
    "for value in my_slow_arr:\n",
    "    print(value * 2)"
   ]
  },
  {
   "cell_type": "code",
   "execution_count": 59,
   "metadata": {},
   "outputs": [
    {
     "data": {
      "text/plain": [
       "array([0, 2, 4, 6, 8])"
      ]
     },
     "execution_count": 59,
     "metadata": {},
     "output_type": "execute_result"
    }
   ],
   "source": [
    "my_fast_arr = np.array([0, 1, 2, 3, 4])\n",
    "my_fast_arr * 2"
   ]
  },
  {
   "cell_type": "code",
   "execution_count": 61,
   "metadata": {},
   "outputs": [],
   "source": [
    "def multiply_python(arr):\n",
    "    \"\"\"Multiplies the array by two\"\"\"\n",
    "    new_arr = np.zeros_like(arr)\n",
    "    for i, value in enumerate(arr):\n",
    "        new_arr[i] = value * 2\n",
    "    return new_arr"
   ]
  },
  {
   "cell_type": "code",
   "execution_count": 62,
   "metadata": {},
   "outputs": [],
   "source": [
    "my_arr = np.arange(1000)"
   ]
  },
  {
   "cell_type": "code",
   "execution_count": 63,
   "metadata": {},
   "outputs": [
    {
     "name": "stdout",
     "output_type": "stream",
     "text": [
      "310 µs ± 1.57 µs per loop (mean ± std. dev. of 7 runs, 1000 loops each)\n"
     ]
    }
   ],
   "source": [
    "%timeit multiply_python(my_arr)"
   ]
  },
  {
   "cell_type": "code",
   "execution_count": 64,
   "metadata": {},
   "outputs": [],
   "source": [
    "new_np_array = np.arange(1000)"
   ]
  },
  {
   "cell_type": "code",
   "execution_count": 65,
   "metadata": {},
   "outputs": [
    {
     "name": "stdout",
     "output_type": "stream",
     "text": [
      "1.18 µs ± 2.08 ns per loop (mean ± std. dev. of 7 runs, 1000000 loops each)\n"
     ]
    }
   ],
   "source": [
    "%timeit new_np_array * 2"
   ]
  },
  {
   "cell_type": "markdown",
   "metadata": {},
   "source": [
    "Clearly, using numpy's higher level language works much, MUCH faster than python's lower level coding"
   ]
  },
  {
   "cell_type": "markdown",
   "metadata": {},
   "source": [
    "This is because these big packages (numpy, scipy, pandas) are written in a compiled language like C, rather than an interpretive language like Python, so you're using Python interpretive language to interact with the compiled language packages, and it can then just work much faster"
   ]
  },
  {
   "cell_type": "markdown",
   "metadata": {},
   "source": [
    "Lesson 27"
   ]
  },
  {
   "cell_type": "code",
   "execution_count": 66,
   "metadata": {},
   "outputs": [],
   "source": [
    "import numpy as np\n",
    "import pandas as pd\n",
    "\n",
    "import bootcamp_utils\n",
    "import altair as alt"
   ]
  },
  {
   "cell_type": "code",
   "execution_count": 67,
   "metadata": {},
   "outputs": [],
   "source": [
    "df = pd.read_csv('data/c_elegans_egg_xa.csv', comment='#')"
   ]
  },
  {
   "cell_type": "code",
   "execution_count": 68,
   "metadata": {},
   "outputs": [
    {
     "data": {
      "text/html": [
       "<div>\n",
       "<style scoped>\n",
       "    .dataframe tbody tr th:only-of-type {\n",
       "        vertical-align: middle;\n",
       "    }\n",
       "\n",
       "    .dataframe tbody tr th {\n",
       "        vertical-align: top;\n",
       "    }\n",
       "\n",
       "    .dataframe thead th {\n",
       "        text-align: right;\n",
       "    }\n",
       "</style>\n",
       "<table border=\"1\" class=\"dataframe\">\n",
       "  <thead>\n",
       "    <tr style=\"text-align: right;\">\n",
       "      <th></th>\n",
       "      <th>food</th>\n",
       "      <th>area (sq um)</th>\n",
       "    </tr>\n",
       "  </thead>\n",
       "  <tbody>\n",
       "    <tr>\n",
       "      <th>0</th>\n",
       "      <td>high</td>\n",
       "      <td>2061</td>\n",
       "    </tr>\n",
       "    <tr>\n",
       "      <th>1</th>\n",
       "      <td>high</td>\n",
       "      <td>1792</td>\n",
       "    </tr>\n",
       "    <tr>\n",
       "      <th>2</th>\n",
       "      <td>high</td>\n",
       "      <td>1852</td>\n",
       "    </tr>\n",
       "    <tr>\n",
       "      <th>3</th>\n",
       "      <td>high</td>\n",
       "      <td>2091</td>\n",
       "    </tr>\n",
       "    <tr>\n",
       "      <th>4</th>\n",
       "      <td>high</td>\n",
       "      <td>1781</td>\n",
       "    </tr>\n",
       "  </tbody>\n",
       "</table>\n",
       "</div>"
      ],
      "text/plain": [
       "   food  area (sq um)\n",
       "0  high          2061\n",
       "1  high          1792\n",
       "2  high          1852\n",
       "3  high          2091\n",
       "4  high          1781"
      ]
     },
     "execution_count": 68,
     "metadata": {},
     "output_type": "execute_result"
    }
   ],
   "source": [
    "df.head()"
   ]
  },
  {
   "cell_type": "code",
   "execution_count": 79,
   "metadata": {},
   "outputs": [
    {
     "data": {
      "application/vnd.vegalite.v2+json": {
       "$schema": "https://vega.github.io/schema/vega-lite/v2.4.3.json",
       "config": {
        "point": {
         "filled": true,
         "opacity": 0.8
        },
        "view": {
         "height": 300,
         "width": 400
        }
       },
       "data": {
        "values": [
         {
          "__jitter": -0.18301364155041547,
          "area (sq um)": 2061,
          "food": "high"
         },
         {
          "__jitter": 0.14323745893288192,
          "area (sq um)": 1792,
          "food": "high"
         },
         {
          "__jitter": 0.1393425475210564,
          "area (sq um)": 1852,
          "food": "high"
         },
         {
          "__jitter": -0.06771127397477503,
          "area (sq um)": 2091,
          "food": "high"
         },
         {
          "__jitter": 0.02548884616771724,
          "area (sq um)": 1781,
          "food": "high"
         },
         {
          "__jitter": -0.12767371591437726,
          "area (sq um)": 1912,
          "food": "high"
         },
         {
          "__jitter": -0.04093323628703352,
          "area (sq um)": 1802,
          "food": "high"
         },
         {
          "__jitter": 0.059906792455473035,
          "area (sq um)": 1751,
          "food": "high"
         },
         {
          "__jitter": -0.16195246688498371,
          "area (sq um)": 1731,
          "food": "high"
         },
         {
          "__jitter": -0.16477751179686073,
          "area (sq um)": 1892,
          "food": "high"
         },
         {
          "__jitter": 0.16530182310516162,
          "area (sq um)": 1951,
          "food": "high"
         },
         {
          "__jitter": -0.12806609541786673,
          "area (sq um)": 1809,
          "food": "high"
         },
         {
          "__jitter": -0.10401928003502788,
          "area (sq um)": 1683,
          "food": "high"
         },
         {
          "__jitter": 0.19053603014150045,
          "area (sq um)": 1787,
          "food": "high"
         },
         {
          "__jitter": -0.17606471507140273,
          "area (sq um)": 1840,
          "food": "high"
         },
         {
          "__jitter": 0.13283793885720324,
          "area (sq um)": 1821,
          "food": "high"
         },
         {
          "__jitter": -0.09303144628575821,
          "area (sq um)": 1910,
          "food": "high"
         },
         {
          "__jitter": 0.07893479668949177,
          "area (sq um)": 1930,
          "food": "high"
         },
         {
          "__jitter": -0.013634472981297469,
          "area (sq um)": 1800,
          "food": "high"
         },
         {
          "__jitter": -0.035349917962559374,
          "area (sq um)": 1833,
          "food": "high"
         },
         {
          "__jitter": -0.07400769360177947,
          "area (sq um)": 1683,
          "food": "high"
         },
         {
          "__jitter": 0.16618031605215616,
          "area (sq um)": 1671,
          "food": "high"
         },
         {
          "__jitter": -0.07542890512910941,
          "area (sq um)": 1680,
          "food": "high"
         },
         {
          "__jitter": 0.10462128705546186,
          "area (sq um)": 1692,
          "food": "high"
         },
         {
          "__jitter": 0.011932385649888827,
          "area (sq um)": 1800,
          "food": "high"
         },
         {
          "__jitter": -0.06930931697171769,
          "area (sq um)": 1821,
          "food": "high"
         },
         {
          "__jitter": 0.08918904323198029,
          "area (sq um)": 1882,
          "food": "high"
         },
         {
          "__jitter": -0.05914438320958612,
          "area (sq um)": 1642,
          "food": "high"
         },
         {
          "__jitter": 0.1494590569009624,
          "area (sq um)": 1749,
          "food": "high"
         },
         {
          "__jitter": 0.1573277076054766,
          "area (sq um)": 1712,
          "food": "high"
         },
         {
          "__jitter": -0.019543845957038897,
          "area (sq um)": 1661,
          "food": "high"
         },
         {
          "__jitter": -0.037337637545607316,
          "area (sq um)": 1701,
          "food": "high"
         },
         {
          "__jitter": 0.05077275130968617,
          "area (sq um)": 2141,
          "food": "high"
         },
         {
          "__jitter": 0.10808816727567155,
          "area (sq um)": 1863,
          "food": "high"
         },
         {
          "__jitter": -0.10514249052162326,
          "area (sq um)": 1752,
          "food": "high"
         },
         {
          "__jitter": 0.18953293402071958,
          "area (sq um)": 1740,
          "food": "high"
         },
         {
          "__jitter": 0.05125845973441001,
          "area (sq um)": 1721,
          "food": "high"
         },
         {
          "__jitter": 0.19847066382795403,
          "area (sq um)": 1660,
          "food": "high"
         },
         {
          "__jitter": -0.12260120253653346,
          "area (sq um)": 1930,
          "food": "high"
         },
         {
          "__jitter": 0.04954259837404798,
          "area (sq um)": 2030,
          "food": "high"
         },
         {
          "__jitter": 0.10808616591842041,
          "area (sq um)": 1851,
          "food": "high"
         },
         {
          "__jitter": 0.027369166794317223,
          "area (sq um)": 2131,
          "food": "high"
         },
         {
          "__jitter": -0.008808114114560617,
          "area (sq um)": 1828,
          "food": "high"
         },
         {
          "__jitter": 1.112414080217053,
          "area (sq um)": 2090,
          "food": "low"
         },
         {
          "__jitter": 0.8574628660304637,
          "area (sq um)": 2169,
          "food": "low"
         },
         {
          "__jitter": 1.181985229635625,
          "area (sq um)": 1988,
          "food": "low"
         },
         {
          "__jitter": 0.9748742740680618,
          "area (sq um)": 2212,
          "food": "low"
         },
         {
          "__jitter": 0.9044004370043632,
          "area (sq um)": 2339,
          "food": "low"
         },
         {
          "__jitter": 0.9853006069999388,
          "area (sq um)": 1989,
          "food": "low"
         },
         {
          "__jitter": 1.0203156568497218,
          "area (sq um)": 2144,
          "food": "low"
         },
         {
          "__jitter": 0.8753184698933959,
          "area (sq um)": 2290,
          "food": "low"
         },
         {
          "__jitter": 0.8060752087320532,
          "area (sq um)": 1920,
          "food": "low"
         },
         {
          "__jitter": 1.0662363113683513,
          "area (sq um)": 2280,
          "food": "low"
         },
         {
          "__jitter": 1.195641007329532,
          "area (sq um)": 1809,
          "food": "low"
         },
         {
          "__jitter": 1.1103676204174115,
          "area (sq um)": 2158,
          "food": "low"
         },
         {
          "__jitter": 0.9420724714434034,
          "area (sq um)": 1800,
          "food": "low"
         },
         {
          "__jitter": 1.092010347464626,
          "area (sq um)": 2133,
          "food": "low"
         },
         {
          "__jitter": 1.0099104067173985,
          "area (sq um)": 2060,
          "food": "low"
         },
         {
          "__jitter": 0.9050141314640601,
          "area (sq um)": 2160,
          "food": "low"
         },
         {
          "__jitter": 0.8516028621188239,
          "area (sq um)": 2001,
          "food": "low"
         },
         {
          "__jitter": 0.9695622305092845,
          "area (sq um)": 2030,
          "food": "low"
         },
         {
          "__jitter": 1.071729256831628,
          "area (sq um)": 2088,
          "food": "low"
         },
         {
          "__jitter": 0.8215263462361717,
          "area (sq um)": 1951,
          "food": "low"
         },
         {
          "__jitter": 1.098652094758871,
          "area (sq um)": 2460,
          "food": "low"
         },
         {
          "__jitter": 0.896492228768885,
          "area (sq um)": 2021,
          "food": "low"
         },
         {
          "__jitter": 1.1828908120719592,
          "area (sq um)": 2010,
          "food": "low"
         },
         {
          "__jitter": 1.098964318550855,
          "area (sq um)": 2139,
          "food": "low"
         },
         {
          "__jitter": 0.8938149852484626,
          "area (sq um)": 2160,
          "food": "low"
         },
         {
          "__jitter": 0.8237373010203568,
          "area (sq um)": 2106,
          "food": "low"
         },
         {
          "__jitter": 0.9037883626107225,
          "area (sq um)": 2171,
          "food": "low"
         },
         {
          "__jitter": 1.085609883220914,
          "area (sq um)": 2113,
          "food": "low"
         },
         {
          "__jitter": 1.1463568035762446,
          "area (sq um)": 2179,
          "food": "low"
         },
         {
          "__jitter": 0.9153731988996607,
          "area (sq um)": 1890,
          "food": "low"
         },
         {
          "__jitter": 1.159975253587419,
          "area (sq um)": 2179,
          "food": "low"
         },
         {
          "__jitter": 1.0028418409351572,
          "area (sq um)": 2021,
          "food": "low"
         },
         {
          "__jitter": 0.9807134953024248,
          "area (sq um)": 1969,
          "food": "low"
         },
         {
          "__jitter": 0.8276937934252039,
          "area (sq um)": 2150,
          "food": "low"
         },
         {
          "__jitter": 0.8707148091138467,
          "area (sq um)": 1900,
          "food": "low"
         },
         {
          "__jitter": 1.010503646558685,
          "area (sq um)": 2267,
          "food": "low"
         },
         {
          "__jitter": 0.9870794189193569,
          "area (sq um)": 1711,
          "food": "low"
         },
         {
          "__jitter": 1.0982784921274327,
          "area (sq um)": 1901,
          "food": "low"
         },
         {
          "__jitter": 1.036821763768598,
          "area (sq um)": 2114,
          "food": "low"
         },
         {
          "__jitter": 0.8387955614668241,
          "area (sq um)": 2112,
          "food": "low"
         },
         {
          "__jitter": 1.1762503605757484,
          "area (sq um)": 2361,
          "food": "low"
         },
         {
          "__jitter": 0.9190649617342637,
          "area (sq um)": 2130,
          "food": "low"
         },
         {
          "__jitter": 0.8716721517242477,
          "area (sq um)": 2061,
          "food": "low"
         },
         {
          "__jitter": 1.0863006998754643,
          "area (sq um)": 2121,
          "food": "low"
         },
         {
          "__jitter": 1.1220000767264313,
          "area (sq um)": 1832,
          "food": "low"
         },
         {
          "__jitter": 1.1257900155519809,
          "area (sq um)": 2210,
          "food": "low"
         },
         {
          "__jitter": 0.8041382569153609,
          "area (sq um)": 2130,
          "food": "low"
         },
         {
          "__jitter": 1.1313808588786467,
          "area (sq um)": 2153,
          "food": "low"
         },
         {
          "__jitter": 0.924951635843309,
          "area (sq um)": 2009,
          "food": "low"
         },
         {
          "__jitter": 0.9084057692403321,
          "area (sq um)": 2100,
          "food": "low"
         },
         {
          "__jitter": 1.09373881058814,
          "area (sq um)": 2252,
          "food": "low"
         },
         {
          "__jitter": 1.1928366389630085,
          "area (sq um)": 2143,
          "food": "low"
         },
         {
          "__jitter": 0.8922309223687163,
          "area (sq um)": 2252,
          "food": "low"
         },
         {
          "__jitter": 0.874647863509507,
          "area (sq um)": 2222,
          "food": "low"
         },
         {
          "__jitter": 1.1820111838262828,
          "area (sq um)": 2121,
          "food": "low"
         },
         {
          "__jitter": 0.8941848895247432,
          "area (sq um)": 2409,
          "food": "low"
         }
        ]
       },
       "encoding": {
        "color": {
         "field": "food",
         "type": "nominal"
        },
        "tooltip": {},
        "x": {
         "axis": {
          "grid": false,
          "labels": false,
          "ticks": false,
          "title": null,
          "values": [
           0,
           1
          ]
         },
         "field": "__jitter",
         "type": "quantitative"
        },
        "y": {
         "field": "area (sq um)",
         "scale": {
          "zero": false
         },
         "title": "area (µm²)",
         "type": "quantitative"
        }
       },
       "height": 300,
       "mark": "point",
       "width": 200
      },
      "image/png": "[encoded data removed]",
      "text/plain": [
       "<VegaLite 2 object>\n",
       "\n",
       "If you see this message, it means the renderer has not been properly enabled\n",
       "for the frontend that you are using. For more information, see\n",
       "https://altair-viz.github.io/user_guide/troubleshooting.html\n"
      ]
     },
     "execution_count": 79,
     "metadata": {},
     "output_type": "execute_result"
    }
   ],
   "source": [
    "bootcamp_utils.altair_jitter(df,\n",
    "                             encode_x=alt.X('food:N'), \n",
    "                             encode_y=alt.Y('area (sq um):Q',\n",
    "                                            title='area (µm²)', \n",
    "                                            scale=alt.Scale(zero=False)),\n",
    "                             height=300,\n",
    "                             width=200\n",
    "                            ).configure_point(filled=True, opacity=0.8)"
   ]
  },
  {
   "cell_type": "code",
   "execution_count": 82,
   "metadata": {},
   "outputs": [
    {
     "data": {
      "text/plain": [
       "0    2061\n",
       "1    1792\n",
       "2    1852\n",
       "3    2091\n",
       "4    1781\n",
       "Name: area (sq um), dtype: int64"
      ]
     },
     "execution_count": 82,
     "metadata": {},
     "output_type": "execute_result"
    }
   ],
   "source": [
    "xa_high = df.loc[df['food'] == 'high', 'area (sq um)']\n",
    "\n",
    "xa_high.head()"
   ]
  },
  {
   "cell_type": "code",
   "execution_count": 83,
   "metadata": {},
   "outputs": [
    {
     "data": {
      "text/plain": [
       "pandas.core.series.Series"
      ]
     },
     "execution_count": 83,
     "metadata": {},
     "output_type": "execute_result"
    }
   ],
   "source": [
    "type(xa_high)"
   ]
  },
  {
   "cell_type": "code",
   "execution_count": 84,
   "metadata": {},
   "outputs": [
    {
     "data": {
      "text/plain": [
       "numpy.ndarray"
      ]
     },
     "execution_count": 84,
     "metadata": {},
     "output_type": "execute_result"
    }
   ],
   "source": [
    "xa_high_np = xa_high.values\n",
    "\n",
    "type(xa_high_np)"
   ]
  },
  {
   "cell_type": "code",
   "execution_count": 85,
   "metadata": {},
   "outputs": [
    {
     "data": {
      "text/plain": [
       "array([2061, 1792, 1852, 2091, 1781, 1912, 1802, 1751, 1731, 1892, 1951,\n",
       "       1809, 1683, 1787, 1840, 1821, 1910, 1930, 1800, 1833, 1683, 1671,\n",
       "       1680, 1692, 1800, 1821, 1882, 1642, 1749, 1712, 1661, 1701, 2141,\n",
       "       1863, 1752, 1740, 1721, 1660, 1930, 2030, 1851, 2131, 1828])"
      ]
     },
     "execution_count": 85,
     "metadata": {},
     "output_type": "execute_result"
    }
   ],
   "source": [
    "xa_high_np"
   ]
  },
  {
   "cell_type": "code",
   "execution_count": 87,
   "metadata": {},
   "outputs": [
    {
     "data": {
      "text/plain": [
       "array([2090, 2169, 1988, 2212, 2339, 1989, 2144, 2290, 1920, 2280, 1809,\n",
       "       2158, 1800, 2133, 2060, 2160, 2001, 2030, 2088, 1951, 2460, 2021,\n",
       "       2010, 2139, 2160, 2106, 2171, 2113, 2179, 1890, 2179, 2021, 1969,\n",
       "       2150, 1900, 2267, 1711, 1901, 2114, 2112, 2361, 2130, 2061, 2121,\n",
       "       1832, 2210, 2130, 2153, 2009, 2100, 2252, 2143, 2252, 2222, 2121,\n",
       "       2409])"
      ]
     },
     "execution_count": 87,
     "metadata": {},
     "output_type": "execute_result"
    }
   ],
   "source": [
    "xa_low = df.loc[df['food'] == 'low', 'area (sq um)'].values\n",
    "xa_low"
   ]
  },
  {
   "cell_type": "code",
   "execution_count": 88,
   "metadata": {},
   "outputs": [
    {
     "data": {
      "text/plain": [
       "(array([2061, 1792, 1852, 2091, 1781, 1912, 1802, 1751, 1731, 1892, 1951,\n",
       "        1809, 1683, 1787, 1840, 1821, 1910, 1930, 1800, 1833, 1683, 1671,\n",
       "        1680, 1692, 1800, 1821, 1882, 1642, 1749, 1712, 1661, 1701, 2141,\n",
       "        1863, 1752, 1740, 1721, 1660, 1930, 2030, 1851, 2131, 1828]),\n",
       " array([2090, 2169, 1988, 2212, 2339, 1989, 2144, 2290, 1920, 2280, 1809,\n",
       "        2158, 1800, 2133, 2060, 2160, 2001, 2030, 2088, 1951, 2460, 2021,\n",
       "        2010, 2139, 2160, 2106, 2171, 2113, 2179, 1890, 2179, 2021, 1969,\n",
       "        2150, 1900, 2267, 1711, 1901, 2114, 2112, 2361, 2130, 2061, 2121,\n",
       "        1832, 2210, 2130, 2153, 2009, 2100, 2252, 2143, 2252, 2222, 2121,\n",
       "        2409]))"
      ]
     },
     "execution_count": 88,
     "metadata": {},
     "output_type": "execute_result"
    }
   ],
   "source": [
    "xa_high = xa_high_np\n",
    "xa_high, xa_low"
   ]
  },
  {
   "cell_type": "code",
   "execution_count": 89,
   "metadata": {},
   "outputs": [
    {
     "data": {
      "text/plain": [
       "array([0.002061, 0.001792, 0.001852, 0.002091, 0.001781, 0.001912,\n",
       "       0.001802, 0.001751, 0.001731, 0.001892, 0.001951, 0.001809,\n",
       "       0.001683, 0.001787, 0.00184 , 0.001821, 0.00191 , 0.00193 ,\n",
       "       0.0018  , 0.001833, 0.001683, 0.001671, 0.00168 , 0.001692,\n",
       "       0.0018  , 0.001821, 0.001882, 0.001642, 0.001749, 0.001712,\n",
       "       0.001661, 0.001701, 0.002141, 0.001863, 0.001752, 0.00174 ,\n",
       "       0.001721, 0.00166 , 0.00193 , 0.00203 , 0.001851, 0.002131,\n",
       "       0.001828])"
      ]
     },
     "execution_count": 89,
     "metadata": {},
     "output_type": "execute_result"
    }
   ],
   "source": [
    "#maybe we want to divide square um to make it square mm\n",
    "xa_high / 1e6"
   ]
  },
  {
   "cell_type": "code",
   "execution_count": 90,
   "metadata": {},
   "outputs": [
    {
     "data": {
      "text/plain": [
       "array([False,  True,  True, False,  True,  True,  True,  True,  True,\n",
       "        True,  True,  True,  True,  True,  True,  True,  True,  True,\n",
       "        True,  True,  True,  True,  True,  True,  True,  True,  True,\n",
       "        True,  True,  True,  True,  True, False,  True,  True,  True,\n",
       "        True,  True,  True, False,  True, False,  True])"
      ]
     },
     "execution_count": 90,
     "metadata": {},
     "output_type": "execute_result"
    }
   ],
   "source": [
    "xa_high < 2000"
   ]
  },
  {
   "cell_type": "code",
   "execution_count": 91,
   "metadata": {},
   "outputs": [
    {
     "data": {
      "text/plain": [
       "array([2061, 1792, 1852, 2091, 1781, 1912, 1802, 1751, 1731, 1892, 1951,\n",
       "       1809, 1683, 1787, 1840, 1821, 1910, 1930, 1800, 1833, 1683, 1671,\n",
       "       1680, 1692, 1800, 1821, 1882, 1642, 1749, 1712, 1661, 1701, 2141,\n",
       "       1863, 1752, 1740, 1721, 1660, 1930, 2030, 1851, 2131, 1828])"
      ]
     },
     "execution_count": 91,
     "metadata": {},
     "output_type": "execute_result"
    }
   ],
   "source": [
    "xa_high"
   ]
  },
  {
   "cell_type": "code",
   "execution_count": 92,
   "metadata": {},
   "outputs": [
    {
     "ename": "ValueError",
     "evalue": "The truth value of an array with more than one element is ambiguous. Use a.any() or a.all()",
     "output_type": "error",
     "traceback": [
      "\u001b[0;31m---------------------------------------------------------------------------\u001b[0m",
      "\u001b[0;31mValueError\u001b[0m                                Traceback (most recent call last)",
      "\u001b[0;32m<ipython-input-92-bd76b31122d3>\u001b[0m in \u001b[0;36m<module>\u001b[0;34m()\u001b[0m\n\u001b[0;32m----> 1\u001b[0;31m \u001b[0;32mif\u001b[0m \u001b[0mxa_high\u001b[0m \u001b[0;34m>\u001b[0m \u001b[0;36m2000\u001b[0m\u001b[0;34m:\u001b[0m\u001b[0;34m\u001b[0m\u001b[0m\n\u001b[0m\u001b[1;32m      2\u001b[0m     \u001b[0mprint\u001b[0m\u001b[0;34m(\u001b[0m\u001b[0;34m'This is a test'\u001b[0m\u001b[0;34m)\u001b[0m\u001b[0;34m\u001b[0m\u001b[0m\n",
      "\u001b[0;31mValueError\u001b[0m: The truth value of an array with more than one element is ambiguous. Use a.any() or a.all()"
     ]
    }
   ],
   "source": [
    "if xa_high > 2000:\n",
    "    print('This is a test')"
   ]
  },
  {
   "cell_type": "code",
   "execution_count": 95,
   "metadata": {},
   "outputs": [
    {
     "data": {
      "text/plain": [
       "True"
      ]
     },
     "execution_count": 95,
     "metadata": {},
     "output_type": "execute_result"
    }
   ],
   "source": [
    "(xa_high > 2000).any()"
   ]
  },
  {
   "cell_type": "code",
   "execution_count": 96,
   "metadata": {},
   "outputs": [
    {
     "data": {
      "text/plain": [
       "False"
      ]
     },
     "execution_count": 96,
     "metadata": {},
     "output_type": "execute_result"
    }
   ],
   "source": [
    "(xa_high > 2000).all()"
   ]
  },
  {
   "cell_type": "code",
   "execution_count": 115,
   "metadata": {},
   "outputs": [
    {
     "data": {
      "text/plain": [
       "False"
      ]
     },
     "execution_count": 115,
     "metadata": {},
     "output_type": "execute_result"
    }
   ],
   "source": [
    "(np.isclose(xa_high, 2000)).any()"
   ]
  },
  {
   "cell_type": "code",
   "execution_count": 103,
   "metadata": {},
   "outputs": [
    {
     "data": {
      "text/plain": [
       "True"
      ]
     },
     "execution_count": 103,
     "metadata": {},
     "output_type": "execute_result"
    }
   ],
   "source": [
    "np.isclose(1.3, 1.29999)"
   ]
  },
  {
   "cell_type": "code",
   "execution_count": 104,
   "metadata": {},
   "outputs": [
    {
     "data": {
      "text/plain": [
       "array([False, False, False, False, False, False, False, False, False,\n",
       "       False, False, False, False, False, False, False, False, False,\n",
       "        True, False, False, False, False, False,  True, False, False,\n",
       "       False, False, False, False, False, False, False, False, False,\n",
       "       False, False, False, False, False, False, False])"
      ]
     },
     "execution_count": 104,
     "metadata": {},
     "output_type": "execute_result"
    }
   ],
   "source": [
    "np.isclose(xa_high, 1800)"
   ]
  },
  {
   "cell_type": "code",
   "execution_count": 105,
   "metadata": {},
   "outputs": [
    {
     "data": {
      "text/plain": [
       "array([False, False, False, False, False, False, False, False, False,\n",
       "       False, False, False, False, False, False, False, False, False,\n",
       "        True, False, False, False, False, False,  True, False, False,\n",
       "       False, False, False, False, False, False, False, False, False,\n",
       "       False, False, False, False, False, False, False])"
      ]
     },
     "execution_count": 105,
     "metadata": {},
     "output_type": "execute_result"
    }
   ],
   "source": [
    "xa_high == 1800"
   ]
  },
  {
   "cell_type": "code",
   "execution_count": 106,
   "metadata": {},
   "outputs": [
    {
     "data": {
      "text/plain": [
       "False"
      ]
     },
     "execution_count": 106,
     "metadata": {},
     "output_type": "execute_result"
    }
   ],
   "source": [
    "np.allclose(xa_high, 1800)"
   ]
  },
  {
   "cell_type": "code",
   "execution_count": 109,
   "metadata": {},
   "outputs": [
    {
     "ename": "ValueError",
     "evalue": "operands could not be broadcast together with shapes (43,) (56,) ",
     "output_type": "error",
     "traceback": [
      "\u001b[0;31m---------------------------------------------------------------------------\u001b[0m",
      "\u001b[0;31mValueError\u001b[0m                                Traceback (most recent call last)",
      "\u001b[0;32m<ipython-input-109-1c97330e8422>\u001b[0m in \u001b[0;36m<module>\u001b[0;34m()\u001b[0m\n\u001b[0;32m----> 1\u001b[0;31m \u001b[0mxa_high\u001b[0m \u001b[0;34m+\u001b[0m \u001b[0mxa_low\u001b[0m\u001b[0;34m\u001b[0m\u001b[0m\n\u001b[0m",
      "\u001b[0;31mValueError\u001b[0m: operands could not be broadcast together with shapes (43,) (56,) "
     ]
    }
   ],
   "source": [
    "xa_high + xa_low"
   ]
  },
  {
   "cell_type": "code",
   "execution_count": 112,
   "metadata": {},
   "outputs": [
    {
     "data": {
      "text/plain": [
       "(43,)"
      ]
     },
     "execution_count": 112,
     "metadata": {},
     "output_type": "execute_result"
    }
   ],
   "source": [
    "xa_low_slice = xa_low[:len(xa_high)]\n",
    "xa_low_slice.shape"
   ]
  },
  {
   "cell_type": "code",
   "execution_count": 111,
   "metadata": {},
   "outputs": [
    {
     "data": {
      "text/plain": [
       "array([4151, 3961, 3840, 4303, 4120, 3901, 3946, 4041, 3651, 4172, 3760,\n",
       "       3967, 3483, 3920, 3900, 3981, 3911, 3960, 3888, 3784, 4143, 3692,\n",
       "       3690, 3831, 3960, 3927, 4053, 3755, 3928, 3602, 3840, 3722, 4110,\n",
       "       4013, 3652, 4007, 3432, 3561, 4044, 4142, 4212, 4261, 3889])"
      ]
     },
     "execution_count": 111,
     "metadata": {},
     "output_type": "execute_result"
    }
   ],
   "source": [
    "xa_high + xa_low_slice"
   ]
  },
  {
   "cell_type": "code",
   "execution_count": 116,
   "metadata": {},
   "outputs": [
    {
     "data": {
      "text/plain": [
       "array([False, False, False, False, False, False, False, False, False,\n",
       "       False, False, False, False, False, False, False, False, False,\n",
       "       False, False, False, False, False, False, False, False, False,\n",
       "       False, False, False, False, False, False, False, False, False,\n",
       "       False, False, False, False, False, False, False])"
      ]
     },
     "execution_count": 116,
     "metadata": {},
     "output_type": "execute_result"
    }
   ],
   "source": [
    "np.isclose(xa_high, xa_low_slice)"
   ]
  },
  {
   "cell_type": "code",
   "execution_count": 117,
   "metadata": {},
   "outputs": [
    {
     "data": {
      "text/plain": [
       "array([1828, 2131, 1851, 2030, 1930, 1660, 1721, 1740, 1752, 1863, 2141,\n",
       "       1701, 1661, 1712, 1749, 1642, 1882, 1821, 1800, 1692, 1680, 1671,\n",
       "       1683, 1833, 1800, 1930, 1910, 1821, 1840, 1787, 1683, 1809, 1951,\n",
       "       1892, 1731, 1751, 1802, 1912, 1781, 2091, 1852, 1792, 2061])"
      ]
     },
     "execution_count": 117,
     "metadata": {},
     "output_type": "execute_result"
    }
   ],
   "source": [
    "xa_high[::-1]"
   ]
  },
  {
   "cell_type": "code",
   "execution_count": 118,
   "metadata": {},
   "outputs": [
    {
     "data": {
      "text/plain": [
       "array([2061, 1792, 1852, 2091, 1781, 1912, 1802, 1751, 1731, 1892, 1951,\n",
       "       1809, 1683, 1787, 1840, 1821, 1910, 1930, 1800, 1833, 1683, 1671,\n",
       "       1680, 1692, 1800, 1821, 1882, 1642, 1749, 1712, 1661, 1701, 2141,\n",
       "       1863, 1752, 1740, 1721, 1660, 1930, 2030, 1851, 2131, 1828])"
      ]
     },
     "execution_count": 118,
     "metadata": {},
     "output_type": "execute_result"
    }
   ],
   "source": [
    "xa_high"
   ]
  },
  {
   "cell_type": "code",
   "execution_count": 120,
   "metadata": {},
   "outputs": [
    {
     "data": {
      "text/plain": [
       "array([2061, 2091, 1802, 1892, 1683, 1821, 1800, 1671, 1800, 1642, 1661,\n",
       "       1863, 1721, 2030, 1828])"
      ]
     },
     "execution_count": 120,
     "metadata": {},
     "output_type": "execute_result"
    }
   ],
   "source": [
    "# every third element\n",
    "xa_high[::3]"
   ]
  },
  {
   "cell_type": "code",
   "execution_count": 121,
   "metadata": {},
   "outputs": [
    {
     "data": {
      "text/plain": [
       "array([ True, False, False,  True, False, False, False, False, False,\n",
       "       False, False, False, False, False, False, False, False, False,\n",
       "       False, False, False, False, False, False, False, False, False,\n",
       "       False, False, False, False, False,  True, False, False, False,\n",
       "       False, False, False,  True, False,  True, False])"
      ]
     },
     "execution_count": 121,
     "metadata": {},
     "output_type": "execute_result"
    }
   ],
   "source": [
    "xa_high > 2000"
   ]
  },
  {
   "cell_type": "code",
   "execution_count": 122,
   "metadata": {},
   "outputs": [
    {
     "data": {
      "text/plain": [
       "array([2061, 2091, 2141, 2030, 2131])"
      ]
     },
     "execution_count": 122,
     "metadata": {},
     "output_type": "execute_result"
    }
   ],
   "source": [
    "xa_high[xa_high > 2000]"
   ]
  },
  {
   "cell_type": "code",
   "execution_count": 123,
   "metadata": {},
   "outputs": [
    {
     "data": {
      "text/plain": [
       "(array([ 0,  3, 32, 39, 41]),)"
      ]
     },
     "execution_count": 123,
     "metadata": {},
     "output_type": "execute_result"
    }
   ],
   "source": [
    "np.where(xa_high > 2000)"
   ]
  },
  {
   "cell_type": "code",
   "execution_count": 125,
   "metadata": {},
   "outputs": [
    {
     "data": {
      "text/plain": [
       "array([1, 2, 3, 4])"
      ]
     },
     "execution_count": 125,
     "metadata": {},
     "output_type": "execute_result"
    }
   ],
   "source": [
    "# np arrays are mutable, like python lists\n",
    "my_ar = np.array([1,2,3,4])\n",
    "my_ar"
   ]
  },
  {
   "cell_type": "code",
   "execution_count": 127,
   "metadata": {},
   "outputs": [
    {
     "data": {
      "text/plain": [
       "array([1, 2, 6, 4])"
      ]
     },
     "execution_count": 127,
     "metadata": {},
     "output_type": "execute_result"
    }
   ],
   "source": [
    "my_ar[2] = 6\n",
    "my_ar"
   ]
  },
  {
   "cell_type": "code",
   "execution_count": 131,
   "metadata": {},
   "outputs": [
    {
     "data": {
      "text/plain": [
       "array([1, 2, 6, 9])"
      ]
     },
     "execution_count": 131,
     "metadata": {},
     "output_type": "execute_result"
    }
   ],
   "source": [
    "my_ar2 = my_ar\n",
    "\n",
    "my_ar2[3] = 9\n",
    "\n",
    "my_ar\n",
    "my_ar2"
   ]
  },
  {
   "cell_type": "code",
   "execution_count": 133,
   "metadata": {},
   "outputs": [
    {
     "data": {
      "text/plain": [
       "(array([1, 2, 6, 9]), array([ 1,  2,  6, 10]))"
      ]
     },
     "execution_count": 133,
     "metadata": {},
     "output_type": "execute_result"
    }
   ],
   "source": [
    "my_ar2 = my_ar.copy()\n",
    "\n",
    "my_ar2[3] = 10\n",
    "\n",
    "my_ar, my_ar2"
   ]
  },
  {
   "cell_type": "code",
   "execution_count": 134,
   "metadata": {},
   "outputs": [
    {
     "ename": "ValueError",
     "evalue": "cannot reshape array of size 43 into shape (11,4)",
     "output_type": "error",
     "traceback": [
      "\u001b[0;31m---------------------------------------------------------------------------\u001b[0m",
      "\u001b[0;31mValueError\u001b[0m                                Traceback (most recent call last)",
      "\u001b[0;32m<ipython-input-134-1d1c64d40ec9>\u001b[0m in \u001b[0;36m<module>\u001b[0;34m()\u001b[0m\n\u001b[1;32m      1\u001b[0m \u001b[0;31m#our arrays are currently 1D objects, but let's make them 2D\u001b[0m\u001b[0;34m\u001b[0m\u001b[0;34m\u001b[0m\u001b[0m\n\u001b[0;32m----> 2\u001b[0;31m \u001b[0mxa_high\u001b[0m\u001b[0;34m.\u001b[0m\u001b[0mreshape\u001b[0m\u001b[0;34m(\u001b[0m\u001b[0;34m(\u001b[0m\u001b[0;36m11\u001b[0m\u001b[0;34m,\u001b[0m \u001b[0;36m4\u001b[0m\u001b[0;34m)\u001b[0m\u001b[0;34m)\u001b[0m\u001b[0;34m\u001b[0m\u001b[0m\n\u001b[0m",
      "\u001b[0;31mValueError\u001b[0m: cannot reshape array of size 43 into shape (11,4)"
     ]
    }
   ],
   "source": [
    "#our arrays are currently 1D objects, but let's make them 2D\n",
    "xa_high.reshape((11, 4))"
   ]
  },
  {
   "cell_type": "code",
   "execution_count": 135,
   "metadata": {},
   "outputs": [],
   "source": [
    "#problem because we have 44 elements, but we want to make it into a 44 array"
   ]
  },
  {
   "cell_type": "code",
   "execution_count": 136,
   "metadata": {},
   "outputs": [
    {
     "data": {
      "text/plain": [
       "array([[2090, 2169, 1988, 2212, 2339, 1989, 2144, 2290],\n",
       "       [1920, 2280, 1809, 2158, 1800, 2133, 2060, 2160],\n",
       "       [2001, 2030, 2088, 1951, 2460, 2021, 2010, 2139],\n",
       "       [2160, 2106, 2171, 2113, 2179, 1890, 2179, 2021],\n",
       "       [1969, 2150, 1900, 2267, 1711, 1901, 2114, 2112],\n",
       "       [2361, 2130, 2061, 2121, 1832, 2210, 2130, 2153],\n",
       "       [2009, 2100, 2252, 2143, 2252, 2222, 2121, 2409]])"
      ]
     },
     "execution_count": 136,
     "metadata": {},
     "output_type": "execute_result"
    }
   ],
   "source": [
    "xa_low.reshape(7,8)"
   ]
  },
  {
   "cell_type": "code",
   "execution_count": 137,
   "metadata": {},
   "outputs": [
    {
     "data": {
      "text/plain": [
       "array([2090, 2169, 1988, 2212, 2339, 1989, 2144, 2290, 1920, 2280, 1809,\n",
       "       2158, 1800, 2133, 2060, 2160, 2001, 2030, 2088, 1951, 2460, 2021,\n",
       "       2010, 2139, 2160, 2106, 2171, 2113, 2179, 1890, 2179, 2021, 1969,\n",
       "       2150, 1900, 2267, 1711, 1901, 2114, 2112, 2361, 2130, 2061, 2121,\n",
       "       1832, 2210, 2130, 2153, 2009, 2100, 2252, 2143, 2252, 2222, 2121,\n",
       "       2409])"
      ]
     },
     "execution_count": 137,
     "metadata": {},
     "output_type": "execute_result"
    }
   ],
   "source": [
    "xa_low"
   ]
  },
  {
   "cell_type": "code",
   "execution_count": 138,
   "metadata": {},
   "outputs": [],
   "source": [
    "xa_low_2d = xa_low.reshape(7,8)"
   ]
  },
  {
   "cell_type": "code",
   "execution_count": 139,
   "metadata": {},
   "outputs": [
    {
     "data": {
      "text/plain": [
       "2106"
      ]
     },
     "execution_count": 139,
     "metadata": {},
     "output_type": "execute_result"
    }
   ],
   "source": [
    "xa_low_2d[3, 1]"
   ]
  },
  {
   "cell_type": "code",
   "execution_count": 140,
   "metadata": {},
   "outputs": [
    {
     "data": {
      "text/plain": [
       "array([[2090, 2169, 1988, 2212, 2339, 1989, 2144, 2290],\n",
       "       [1920, 2280, 1809, 2158, 1800, 2133, 2060, 2160],\n",
       "       [2001, 2030, 2088, 1951, 2460, 2021, 2010, 2139],\n",
       "       [2160, 2106, 2171, 2113, 2179, 1890, 2179, 2021],\n",
       "       [1969, 2150, 1900, 2267, 1711, 1901, 2114, 2112],\n",
       "       [2361, 2130, 2061, 2121, 1832, 2210, 2130, 2153],\n",
       "       [2009, 2100, 2252, 2143, 2252, 2222, 2121, 2409]])"
      ]
     },
     "execution_count": 140,
     "metadata": {},
     "output_type": "execute_result"
    }
   ],
   "source": [
    "xa_low_2d"
   ]
  },
  {
   "cell_type": "code",
   "execution_count": 141,
   "metadata": {},
   "outputs": [
    {
     "data": {
      "text/plain": [
       "array([2090, 2169, 2212, 2339, 2144, 2290, 2280, 2158, 2133, 2060, 2160,\n",
       "       2001, 2030, 2088, 2460, 2021, 2010, 2139, 2160, 2106, 2171, 2113,\n",
       "       2179, 2179, 2021, 2150, 2267, 2114, 2112, 2361, 2130, 2061, 2121,\n",
       "       2210, 2130, 2153, 2009, 2100, 2252, 2143, 2252, 2222, 2121, 2409])"
      ]
     },
     "execution_count": 141,
     "metadata": {},
     "output_type": "execute_result"
    }
   ],
   "source": [
    "xa_low_2d[xa_low_2d > 2000]"
   ]
  },
  {
   "cell_type": "code",
   "execution_count": 142,
   "metadata": {},
   "outputs": [
    {
     "data": {
      "text/plain": [
       "(array([0, 0, 0, 0, 0, 0, 1, 1, 1, 1, 1, 2, 2, 2, 2, 2, 2, 2, 3, 3, 3, 3,\n",
       "        3, 3, 3, 4, 4, 4, 4, 5, 5, 5, 5, 5, 5, 5, 6, 6, 6, 6, 6, 6, 6, 6]),\n",
       " array([0, 1, 3, 4, 6, 7, 1, 3, 5, 6, 7, 0, 1, 2, 4, 5, 6, 7, 0, 1, 2, 3,\n",
       "        4, 6, 7, 1, 3, 6, 7, 0, 1, 2, 3, 5, 6, 7, 0, 1, 2, 3, 4, 5, 6, 7]))"
      ]
     },
     "execution_count": 142,
     "metadata": {},
     "output_type": "execute_result"
    }
   ],
   "source": [
    "np.where(xa_low_2d > 2000)"
   ]
  },
  {
   "cell_type": "code",
   "execution_count": 145,
   "metadata": {},
   "outputs": [
    {
     "data": {
      "text/plain": [
       "array([2061, 1792, 1852, 2091, 1781, 1912, 1802, 1751, 1731, 1892, 1951,\n",
       "       1809, 1683, 1787, 1840, 1821, 1910, 1930, 1800, 1833, 1683, 1671,\n",
       "       1680, 1692, 1800, 1821, 1882, 1642, 1749, 1712, 1661, 1701, 2141,\n",
       "       1863, 1752, 1740, 1721, 1660, 1930, 2030, 1851, 2131, 1828, 2090,\n",
       "       2169, 1988, 2212, 2339, 1989, 2144, 2290, 1920, 2280, 1809, 2158,\n",
       "       1800, 2133, 2060, 2160, 2001, 2030, 2088, 1951, 2460, 2021, 2010,\n",
       "       2139, 2160, 2106, 2171, 2113, 2179, 1890, 2179, 2021, 1969, 2150,\n",
       "       1900, 2267, 1711, 1901, 2114, 2112, 2361, 2130, 2061, 2121, 1832,\n",
       "       2210, 2130, 2153, 2009, 2100, 2252, 2143, 2252, 2222, 2121, 2409])"
      ]
     },
     "execution_count": 145,
     "metadata": {},
     "output_type": "execute_result"
    }
   ],
   "source": [
    "ar_combined = np.concatenate([xa_high, xa_low])\n",
    "ar_combined"
   ]
  },
  {
   "cell_type": "code",
   "execution_count": null,
   "metadata": {},
   "outputs": [],
   "source": [
    "test"
   ]
  }
 ],
 "metadata": {
  "kernelspec": {
   "display_name": "Python 3",
   "language": "python",
   "name": "python3"
  },
  "language_info": {
   "codemirror_mode": {
    "name": "ipython",
    "version": 3
   },
   "file_extension": ".py",
   "mimetype": "text/x-python",
   "name": "python",
   "nbconvert_exporter": "python",
   "pygments_lexer": "ipython3",
   "version": "3.6.5"
  }
 },
 "nbformat": 4,
 "nbformat_minor": 2
}
