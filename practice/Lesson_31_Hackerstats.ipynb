{
 "cells": [
  {
   "cell_type": "code",
   "execution_count": 1,
   "metadata": {},
   "outputs": [],
   "source": [
    "import numpy as np\n",
    "import pandas as pd\n",
    "import scipy.stats\n",
    "\n",
    "import altair as alt\n",
    "\n",
    "import bootcamp_utils"
   ]
  },
  {
   "cell_type": "code",
   "execution_count": 15,
   "metadata": {},
   "outputs": [
    {
     "data": {
      "text/html": [
       "<div>\n",
       "<style scoped>\n",
       "    .dataframe tbody tr th:only-of-type {\n",
       "        vertical-align: middle;\n",
       "    }\n",
       "\n",
       "    .dataframe tbody tr th {\n",
       "        vertical-align: top;\n",
       "    }\n",
       "\n",
       "    .dataframe thead th {\n",
       "        text-align: right;\n",
       "    }\n",
       "</style>\n",
       "<table border=\"1\" class=\"dataframe\">\n",
       "  <thead>\n",
       "    <tr style=\"text-align: right;\">\n",
       "      <th></th>\n",
       "      <th>band</th>\n",
       "      <th>beak depth (mm)</th>\n",
       "      <th>beak length (mm)</th>\n",
       "      <th>species</th>\n",
       "      <th>year</th>\n",
       "    </tr>\n",
       "  </thead>\n",
       "  <tbody>\n",
       "    <tr>\n",
       "      <th>0</th>\n",
       "      <td>20123</td>\n",
       "      <td>8.05</td>\n",
       "      <td>9.25</td>\n",
       "      <td>fortis</td>\n",
       "      <td>1973</td>\n",
       "    </tr>\n",
       "    <tr>\n",
       "      <th>1</th>\n",
       "      <td>20126</td>\n",
       "      <td>10.45</td>\n",
       "      <td>11.35</td>\n",
       "      <td>fortis</td>\n",
       "      <td>1973</td>\n",
       "    </tr>\n",
       "    <tr>\n",
       "      <th>2</th>\n",
       "      <td>20128</td>\n",
       "      <td>9.55</td>\n",
       "      <td>10.15</td>\n",
       "      <td>fortis</td>\n",
       "      <td>1973</td>\n",
       "    </tr>\n",
       "    <tr>\n",
       "      <th>3</th>\n",
       "      <td>20129</td>\n",
       "      <td>8.75</td>\n",
       "      <td>9.95</td>\n",
       "      <td>fortis</td>\n",
       "      <td>1973</td>\n",
       "    </tr>\n",
       "    <tr>\n",
       "      <th>4</th>\n",
       "      <td>20133</td>\n",
       "      <td>10.15</td>\n",
       "      <td>11.55</td>\n",
       "      <td>fortis</td>\n",
       "      <td>1973</td>\n",
       "    </tr>\n",
       "  </tbody>\n",
       "</table>\n",
       "</div>"
      ],
      "text/plain": [
       "    band  beak depth (mm)  beak length (mm) species  year\n",
       "0  20123             8.05              9.25  fortis  1973\n",
       "1  20126            10.45             11.35  fortis  1973\n",
       "2  20128             9.55             10.15  fortis  1973\n",
       "3  20129             8.75              9.95  fortis  1973\n",
       "4  20133            10.15             11.55  fortis  1973"
      ]
     },
     "execution_count": 15,
     "metadata": {},
     "output_type": "execute_result"
    }
   ],
   "source": [
    "df = pd.read_csv('data/grant_complete.csv', comment='#')\n",
    "\n",
    "df.head()"
   ]
  },
  {
   "cell_type": "code",
   "execution_count": 16,
   "metadata": {},
   "outputs": [
    {
     "data": {
      "text/html": [
       "<div>\n",
       "<style scoped>\n",
       "    .dataframe tbody tr th:only-of-type {\n",
       "        vertical-align: middle;\n",
       "    }\n",
       "\n",
       "    .dataframe tbody tr th {\n",
       "        vertical-align: top;\n",
       "    }\n",
       "\n",
       "    .dataframe thead th {\n",
       "        text-align: right;\n",
       "    }\n",
       "</style>\n",
       "<table border=\"1\" class=\"dataframe\">\n",
       "  <thead>\n",
       "    <tr style=\"text-align: right;\">\n",
       "      <th></th>\n",
       "      <th>year</th>\n",
       "      <th>beak depth (mm)</th>\n",
       "    </tr>\n",
       "  </thead>\n",
       "  <tbody>\n",
       "    <tr>\n",
       "      <th>401</th>\n",
       "      <td>1975</td>\n",
       "      <td>8.4</td>\n",
       "    </tr>\n",
       "    <tr>\n",
       "      <th>402</th>\n",
       "      <td>1975</td>\n",
       "      <td>8.8</td>\n",
       "    </tr>\n",
       "    <tr>\n",
       "      <th>403</th>\n",
       "      <td>1975</td>\n",
       "      <td>8.4</td>\n",
       "    </tr>\n",
       "    <tr>\n",
       "      <th>404</th>\n",
       "      <td>1975</td>\n",
       "      <td>8.0</td>\n",
       "    </tr>\n",
       "    <tr>\n",
       "      <th>405</th>\n",
       "      <td>1975</td>\n",
       "      <td>7.9</td>\n",
       "    </tr>\n",
       "  </tbody>\n",
       "</table>\n",
       "</div>"
      ],
      "text/plain": [
       "     year  beak depth (mm)\n",
       "401  1975              8.4\n",
       "402  1975              8.8\n",
       "403  1975              8.4\n",
       "404  1975              8.0\n",
       "405  1975              7.9"
      ]
     },
     "execution_count": 16,
     "metadata": {},
     "output_type": "execute_result"
    }
   ],
   "source": [
    "df = df.loc[(df['species']=='scandens') & (df['year'].isin([1975, 2012])),\n",
    "            ['year', 'beak depth (mm)']]\n",
    "df.head()"
   ]
  },
  {
   "cell_type": "code",
   "execution_count": 17,
   "metadata": {},
   "outputs": [
    {
     "data": {
      "application/vnd.vegalite.v2+json": {
       "$schema": "https://vega.github.io/schema/vega-lite/v2.4.3.json",
       "config": {
        "view": {
         "height": 300,
         "width": 400
        }
       },
       "data": {
        "values": [
         {
          "ECDF": 0.16091954022988506,
          "beak depth (mm)": 8.4,
          "year": 1975
         },
         {
          "ECDF": 0.39080459770114945,
          "beak depth (mm)": 8.8,
          "year": 1975
         },
         {
          "ECDF": 0.1724137931034483,
          "beak depth (mm)": 8.4,
          "year": 1975
         },
         {
          "ECDF": 0.022988505747126436,
          "beak depth (mm)": 8,
          "year": 1975
         },
         {
          "ECDF": 0.011494252873563218,
          "beak depth (mm)": 7.9,
          "year": 1975
         },
         {
          "ECDF": 0.4482758620689655,
          "beak depth (mm)": 8.9,
          "year": 1975
         },
         {
          "ECDF": 0.26436781609195403,
          "beak depth (mm)": 8.6,
          "year": 1975
         },
         {
          "ECDF": 0.20689655172413793,
          "beak depth (mm)": 8.5,
          "year": 1975
         },
         {
          "ECDF": 0.45977011494252873,
          "beak depth (mm)": 8.9,
          "year": 1975
         },
         {
          "ECDF": 0.6091954022988506,
          "beak depth (mm)": 9.1,
          "year": 1975
         },
         {
          "ECDF": 0.27586206896551724,
          "beak depth (mm)": 8.6,
          "year": 1975
         },
         {
          "ECDF": 0.9195402298850575,
          "beak depth (mm)": 9.8,
          "year": 1975
         },
         {
          "ECDF": 0.06896551724137931,
          "beak depth (mm)": 8.2,
          "year": 1975
         },
         {
          "ECDF": 0.5057471264367817,
          "beak depth (mm)": 9,
          "year": 1975
         },
         {
          "ECDF": 0.8850574712643678,
          "beak depth (mm)": 9.7,
          "year": 1975
         },
         {
          "ECDF": 0.28735632183908044,
          "beak depth (mm)": 8.6,
          "year": 1975
         },
         {
          "ECDF": 0.08045977011494253,
          "beak depth (mm)": 8.2,
          "year": 1975
         },
         {
          "ECDF": 0.5172413793103449,
          "beak depth (mm)": 9,
          "year": 1975
         },
         {
          "ECDF": 0.1839080459770115,
          "beak depth (mm)": 8.4,
          "year": 1975
         },
         {
          "ECDF": 0.2988505747126437,
          "beak depth (mm)": 8.6,
          "year": 1975
         },
         {
          "ECDF": 0.47126436781609193,
          "beak depth (mm)": 8.9,
          "year": 1975
         },
         {
          "ECDF": 0.6206896551724138,
          "beak depth (mm)": 9.1,
          "year": 1975
         },
         {
          "ECDF": 0.10344827586206896,
          "beak depth (mm)": 8.3,
          "year": 1975
         },
         {
          "ECDF": 0.3448275862068966,
          "beak depth (mm)": 8.7,
          "year": 1975
         },
         {
          "ECDF": 0.8505747126436781,
          "beak depth (mm)": 9.6,
          "year": 1975
         },
         {
          "ECDF": 0.21839080459770116,
          "beak depth (mm)": 8.5,
          "year": 1975
         },
         {
          "ECDF": 0.632183908045977,
          "beak depth (mm)": 9.1,
          "year": 1975
         },
         {
          "ECDF": 0.5287356321839081,
          "beak depth (mm)": 9,
          "year": 1975
         },
         {
          "ECDF": 0.7126436781609196,
          "beak depth (mm)": 9.2,
          "year": 1975
         },
         {
          "ECDF": 0.9425287356321839,
          "beak depth (mm)": 9.9,
          "year": 1975
         },
         {
          "ECDF": 0.3103448275862069,
          "beak depth (mm)": 8.6,
          "year": 1975
         },
         {
          "ECDF": 0.7241379310344828,
          "beak depth (mm)": 9.2,
          "year": 1975
         },
         {
          "ECDF": 0.19540229885057472,
          "beak depth (mm)": 8.4,
          "year": 1975
         },
         {
          "ECDF": 0.4827586206896552,
          "beak depth (mm)": 8.9,
          "year": 1975
         },
         {
          "ECDF": 0.22988505747126436,
          "beak depth (mm)": 8.5,
          "year": 1975
         },
         {
          "ECDF": 0.9885057471264368,
          "beak depth (mm)": 10.4,
          "year": 1975
         },
         {
          "ECDF": 0.8620689655172413,
          "beak depth (mm)": 9.6,
          "year": 1975
         },
         {
          "ECDF": 0.6436781609195402,
          "beak depth (mm)": 9.1,
          "year": 1975
         },
         {
          "ECDF": 0.7586206896551724,
          "beak depth (mm)": 9.3,
          "year": 1975
         },
         {
          "ECDF": 0.7701149425287356,
          "beak depth (mm)": 9.3,
          "year": 1975
         },
         {
          "ECDF": 0.40229885057471265,
          "beak depth (mm)": 8.8,
          "year": 1975
         },
         {
          "ECDF": 0.11494252873563218,
          "beak depth (mm)": 8.3,
          "year": 1975
         },
         {
          "ECDF": 0.41379310344827586,
          "beak depth (mm)": 8.8,
          "year": 1975
         },
         {
          "ECDF": 0.6551724137931034,
          "beak depth (mm)": 9.1,
          "year": 1975
         },
         {
          "ECDF": 0.9540229885057471,
          "beak depth (mm)": 10.1,
          "year": 1975
         },
         {
          "ECDF": 0.4942528735632184,
          "beak depth (mm)": 8.9,
          "year": 1975
         },
         {
          "ECDF": 0.735632183908046,
          "beak depth (mm)": 9.2,
          "year": 1975
         },
         {
          "ECDF": 0.2413793103448276,
          "beak depth (mm)": 8.5,
          "year": 1975
         },
         {
          "ECDF": 0.9770114942528736,
          "beak depth (mm)": 10.2,
          "year": 1975
         },
         {
          "ECDF": 0.9655172413793104,
          "beak depth (mm)": 10.1,
          "year": 1975
         },
         {
          "ECDF": 0.7471264367816092,
          "beak depth (mm)": 9.2,
          "year": 1975
         },
         {
          "ECDF": 0.896551724137931,
          "beak depth (mm)": 9.7,
          "year": 1975
         },
         {
          "ECDF": 0.6666666666666666,
          "beak depth (mm)": 9.1,
          "year": 1975
         },
         {
          "ECDF": 0.25287356321839083,
          "beak depth (mm)": 8.5,
          "year": 1975
         },
         {
          "ECDF": 0.09195402298850575,
          "beak depth (mm)": 8.2,
          "year": 1975
         },
         {
          "ECDF": 0.5402298850574713,
          "beak depth (mm)": 9,
          "year": 1975
         },
         {
          "ECDF": 0.7816091954022989,
          "beak depth (mm)": 9.3,
          "year": 1975
         },
         {
          "ECDF": 0.034482758620689655,
          "beak depth (mm)": 8,
          "year": 1975
         },
         {
          "ECDF": 0.6781609195402298,
          "beak depth (mm)": 9.1,
          "year": 1975
         },
         {
          "ECDF": 0.05747126436781609,
          "beak depth (mm)": 8.1,
          "year": 1975
         },
         {
          "ECDF": 0.12643678160919541,
          "beak depth (mm)": 8.3,
          "year": 1975
         },
         {
          "ECDF": 0.3563218390804598,
          "beak depth (mm)": 8.7,
          "year": 1975
         },
         {
          "ECDF": 0.42528735632183906,
          "beak depth (mm)": 8.8,
          "year": 1975
         },
         {
          "ECDF": 0.3218390804597701,
          "beak depth (mm)": 8.6,
          "year": 1975
         },
         {
          "ECDF": 0.367816091954023,
          "beak depth (mm)": 8.7,
          "year": 1975
         },
         {
          "ECDF": 0.04597701149425287,
          "beak depth (mm)": 8,
          "year": 1975
         },
         {
          "ECDF": 0.4367816091954023,
          "beak depth (mm)": 8.8,
          "year": 1975
         },
         {
          "ECDF": 0.5517241379310345,
          "beak depth (mm)": 9,
          "year": 1975
         },
         {
          "ECDF": 0.6896551724137931,
          "beak depth (mm)": 9.1,
          "year": 1975
         },
         {
          "ECDF": 0.9080459770114943,
          "beak depth (mm)": 9.74,
          "year": 1975
         },
         {
          "ECDF": 0.7011494252873564,
          "beak depth (mm)": 9.1,
          "year": 1975
         },
         {
          "ECDF": 0.9310344827586207,
          "beak depth (mm)": 9.8,
          "year": 1975
         },
         {
          "ECDF": 1,
          "beak depth (mm)": 10.4,
          "year": 1975
         },
         {
          "ECDF": 0.13793103448275862,
          "beak depth (mm)": 8.3,
          "year": 1975
         },
         {
          "ECDF": 0.7931034482758621,
          "beak depth (mm)": 9.44,
          "year": 1975
         },
         {
          "ECDF": 0.5747126436781609,
          "beak depth (mm)": 9.04,
          "year": 1975
         },
         {
          "ECDF": 0.5632183908045977,
          "beak depth (mm)": 9,
          "year": 1975
         },
         {
          "ECDF": 0.5862068965517241,
          "beak depth (mm)": 9.05,
          "year": 1975
         },
         {
          "ECDF": 0.8735632183908046,
          "beak depth (mm)": 9.65,
          "year": 1975
         },
         {
          "ECDF": 0.8045977011494253,
          "beak depth (mm)": 9.45,
          "year": 1975
         },
         {
          "ECDF": 0.3333333333333333,
          "beak depth (mm)": 8.65,
          "year": 1975
         },
         {
          "ECDF": 0.8160919540229885,
          "beak depth (mm)": 9.45,
          "year": 1975
         },
         {
          "ECDF": 0.8275862068965517,
          "beak depth (mm)": 9.45,
          "year": 1975
         },
         {
          "ECDF": 0.5977011494252874,
          "beak depth (mm)": 9.05,
          "year": 1975
         },
         {
          "ECDF": 0.3793103448275862,
          "beak depth (mm)": 8.75,
          "year": 1975
         },
         {
          "ECDF": 0.8390804597701149,
          "beak depth (mm)": 9.45,
          "year": 1975
         },
         {
          "ECDF": 0.14942528735632185,
          "beak depth (mm)": 8.35,
          "year": 1975
         },
         {
          "ECDF": 0.5952380952380952,
          "beak depth (mm)": 9.4,
          "year": 2012
         },
         {
          "ECDF": 0.6587301587301587,
          "beak depth (mm)": 9.5,
          "year": 2012
         },
         {
          "ECDF": 1,
          "beak depth (mm)": 11,
          "year": 2012
         },
         {
          "ECDF": 0.20634920634920634,
          "beak depth (mm)": 8.7,
          "year": 2012
         },
         {
          "ECDF": 0.1111111111111111,
          "beak depth (mm)": 8.4,
          "year": 2012
         },
         {
          "ECDF": 0.4365079365079365,
          "beak depth (mm)": 9.1,
          "year": 2012
         },
         {
          "ECDF": 0.21428571428571427,
          "beak depth (mm)": 8.7,
          "year": 2012
         },
         {
          "ECDF": 0.9206349206349206,
          "beak depth (mm)": 10.2,
          "year": 2012
         },
         {
          "ECDF": 0.746031746031746,
          "beak depth (mm)": 9.6,
          "year": 2012
         },
         {
          "ECDF": 0.2857142857142857,
          "beak depth (mm)": 8.85,
          "year": 2012
         },
         {
          "ECDF": 0.24603174603174602,
          "beak depth (mm)": 8.8,
          "year": 2012
         },
         {
          "ECDF": 0.6666666666666666,
          "beak depth (mm)": 9.5,
          "year": 2012
         },
         {
          "ECDF": 0.49206349206349204,
          "beak depth (mm)": 9.2,
          "year": 2012
         },
         {
          "ECDF": 0.38095238095238093,
          "beak depth (mm)": 9,
          "year": 2012
         },
         {
          "ECDF": 0.8015873015873016,
          "beak depth (mm)": 9.8,
          "year": 2012
         },
         {
          "ECDF": 0.5238095238095238,
          "beak depth (mm)": 9.3,
          "year": 2012
         },
         {
          "ECDF": 0.3888888888888889,
          "beak depth (mm)": 9,
          "year": 2012
         },
         {
          "ECDF": 0.9285714285714286,
          "beak depth (mm)": 10.2,
          "year": 2012
         },
         {
          "ECDF": 0.007936507936507936,
          "beak depth (mm)": 7.7,
          "year": 2012
         },
         {
          "ECDF": 0.3968253968253968,
          "beak depth (mm)": 9,
          "year": 2012
         },
         {
          "ECDF": 0.6746031746031746,
          "beak depth (mm)": 9.5,
          "year": 2012
         },
         {
          "ECDF": 0.6031746031746031,
          "beak depth (mm)": 9.4,
          "year": 2012
         },
         {
          "ECDF": 0.03968253968253968,
          "beak depth (mm)": 8,
          "year": 2012
         },
         {
          "ECDF": 0.29365079365079366,
          "beak depth (mm)": 8.9,
          "year": 2012
         },
         {
          "ECDF": 0.6111111111111112,
          "beak depth (mm)": 9.4,
          "year": 2012
         },
         {
          "ECDF": 0.6825396825396826,
          "beak depth (mm)": 9.5,
          "year": 2012
         },
         {
          "ECDF": 0.047619047619047616,
          "beak depth (mm)": 8,
          "year": 2012
         },
         {
          "ECDF": 0.8809523809523809,
          "beak depth (mm)": 10,
          "year": 2012
         },
         {
          "ECDF": 0.373015873015873,
          "beak depth (mm)": 8.95,
          "year": 2012
         },
         {
          "ECDF": 0.07936507936507936,
          "beak depth (mm)": 8.2,
          "year": 2012
         },
         {
          "ECDF": 0.25396825396825395,
          "beak depth (mm)": 8.8,
          "year": 2012
         },
         {
          "ECDF": 0.5,
          "beak depth (mm)": 9.2,
          "year": 2012
         },
         {
          "ECDF": 0.6190476190476191,
          "beak depth (mm)": 9.4,
          "year": 2012
         },
         {
          "ECDF": 0.6904761904761905,
          "beak depth (mm)": 9.5,
          "year": 2012
         },
         {
          "ECDF": 0.06349206349206349,
          "beak depth (mm)": 8.1,
          "year": 2012
         },
         {
          "ECDF": 0.6984126984126984,
          "beak depth (mm)": 9.5,
          "year": 2012
         },
         {
          "ECDF": 0.11904761904761904,
          "beak depth (mm)": 8.4,
          "year": 2012
         },
         {
          "ECDF": 0.5317460317460317,
          "beak depth (mm)": 9.3,
          "year": 2012
         },
         {
          "ECDF": 0.5396825396825397,
          "beak depth (mm)": 9.3,
          "year": 2012
         },
         {
          "ECDF": 0.753968253968254,
          "beak depth (mm)": 9.6,
          "year": 2012
         },
         {
          "ECDF": 0.5079365079365079,
          "beak depth (mm)": 9.2,
          "year": 2012
         },
         {
          "ECDF": 0.8888888888888888,
          "beak depth (mm)": 10,
          "year": 2012
         },
         {
          "ECDF": 0.30158730158730157,
          "beak depth (mm)": 8.9,
          "year": 2012
         },
         {
          "ECDF": 0.9603174603174603,
          "beak depth (mm)": 10.5,
          "year": 2012
         },
         {
          "ECDF": 0.30952380952380953,
          "beak depth (mm)": 8.9,
          "year": 2012
         },
         {
          "ECDF": 0.19047619047619047,
          "beak depth (mm)": 8.6,
          "year": 2012
         },
         {
          "ECDF": 0.2619047619047619,
          "beak depth (mm)": 8.8,
          "year": 2012
         },
         {
          "ECDF": 0.48412698412698413,
          "beak depth (mm)": 9.15,
          "year": 2012
         },
         {
          "ECDF": 0.7063492063492064,
          "beak depth (mm)": 9.5,
          "year": 2012
         },
         {
          "ECDF": 0.4444444444444444,
          "beak depth (mm)": 9.1,
          "year": 2012
         },
         {
          "ECDF": 0.9365079365079365,
          "beak depth (mm)": 10.2,
          "year": 2012
         },
         {
          "ECDF": 0.12698412698412698,
          "beak depth (mm)": 8.4,
          "year": 2012
         },
         {
          "ECDF": 0.8968253968253969,
          "beak depth (mm)": 10,
          "year": 2012
         },
         {
          "ECDF": 0.9444444444444444,
          "beak depth (mm)": 10.2,
          "year": 2012
         },
         {
          "ECDF": 0.5476190476190477,
          "beak depth (mm)": 9.3,
          "year": 2012
         },
         {
          "ECDF": 0.9920634920634921,
          "beak depth (mm)": 10.8,
          "year": 2012
         },
         {
          "ECDF": 0.09523809523809523,
          "beak depth (mm)": 8.3,
          "year": 2012
         },
         {
          "ECDF": 0.023809523809523808,
          "beak depth (mm)": 7.8,
          "year": 2012
         },
         {
          "ECDF": 0.8095238095238095,
          "beak depth (mm)": 9.8,
          "year": 2012
         },
         {
          "ECDF": 0.031746031746031744,
          "beak depth (mm)": 7.9,
          "year": 2012
         },
         {
          "ECDF": 0.31746031746031744,
          "beak depth (mm)": 8.9,
          "year": 2012
         },
         {
          "ECDF": 0.015873015873015872,
          "beak depth (mm)": 7.7,
          "year": 2012
         },
         {
          "ECDF": 0.3253968253968254,
          "beak depth (mm)": 8.9,
          "year": 2012
         },
         {
          "ECDF": 0.626984126984127,
          "beak depth (mm)": 9.4,
          "year": 2012
         },
         {
          "ECDF": 0.6349206349206349,
          "beak depth (mm)": 9.4,
          "year": 2012
         },
         {
          "ECDF": 0.15873015873015872,
          "beak depth (mm)": 8.5,
          "year": 2012
         },
         {
          "ECDF": 0.16666666666666666,
          "beak depth (mm)": 8.5,
          "year": 2012
         },
         {
          "ECDF": 0.7619047619047619,
          "beak depth (mm)": 9.6,
          "year": 2012
         },
         {
          "ECDF": 0.9523809523809523,
          "beak depth (mm)": 10.2,
          "year": 2012
         },
         {
          "ECDF": 0.2698412698412698,
          "beak depth (mm)": 8.8,
          "year": 2012
         },
         {
          "ECDF": 0.7142857142857143,
          "beak depth (mm)": 9.5,
          "year": 2012
         },
         {
          "ECDF": 0.5555555555555556,
          "beak depth (mm)": 9.3,
          "year": 2012
         },
         {
          "ECDF": 0.40476190476190477,
          "beak depth (mm)": 9,
          "year": 2012
         },
         {
          "ECDF": 0.5158730158730159,
          "beak depth (mm)": 9.2,
          "year": 2012
         },
         {
          "ECDF": 0.2222222222222222,
          "beak depth (mm)": 8.7,
          "year": 2012
         },
         {
          "ECDF": 0.4126984126984127,
          "beak depth (mm)": 9,
          "year": 2012
         },
         {
          "ECDF": 0.4523809523809524,
          "beak depth (mm)": 9.1,
          "year": 2012
         },
         {
          "ECDF": 0.23015873015873015,
          "beak depth (mm)": 8.7,
          "year": 2012
         },
         {
          "ECDF": 0.6428571428571429,
          "beak depth (mm)": 9.4,
          "year": 2012
         },
         {
          "ECDF": 0.8174603174603174,
          "beak depth (mm)": 9.8,
          "year": 2012
         },
         {
          "ECDF": 0.1984126984126984,
          "beak depth (mm)": 8.6,
          "year": 2012
         },
         {
          "ECDF": 0.9761904761904762,
          "beak depth (mm)": 10.6,
          "year": 2012
         },
         {
          "ECDF": 0.42063492063492064,
          "beak depth (mm)": 9,
          "year": 2012
         },
         {
          "ECDF": 0.7222222222222222,
          "beak depth (mm)": 9.5,
          "year": 2012
         },
         {
          "ECDF": 0.07142857142857142,
          "beak depth (mm)": 8.1,
          "year": 2012
         },
         {
          "ECDF": 0.5634920634920635,
          "beak depth (mm)": 9.3,
          "year": 2012
         },
         {
          "ECDF": 0.7698412698412699,
          "beak depth (mm)": 9.6,
          "year": 2012
         },
         {
          "ECDF": 0.1746031746031746,
          "beak depth (mm)": 8.5,
          "year": 2012
         },
         {
          "ECDF": 0.0873015873015873,
          "beak depth (mm)": 8.2,
          "year": 2012
         },
         {
          "ECDF": 0.05555555555555555,
          "beak depth (mm)": 8,
          "year": 2012
         },
         {
          "ECDF": 0.7301587301587301,
          "beak depth (mm)": 9.5,
          "year": 2012
         },
         {
          "ECDF": 0.7857142857142857,
          "beak depth (mm)": 9.7,
          "year": 2012
         },
         {
          "ECDF": 0.8650793650793651,
          "beak depth (mm)": 9.9,
          "year": 2012
         },
         {
          "ECDF": 0.4603174603174603,
          "beak depth (mm)": 9.1,
          "year": 2012
         },
         {
          "ECDF": 0.7380952380952381,
          "beak depth (mm)": 9.5,
          "year": 2012
         },
         {
          "ECDF": 0.8253968253968254,
          "beak depth (mm)": 9.8,
          "year": 2012
         },
         {
          "ECDF": 0.1349206349206349,
          "beak depth (mm)": 8.4,
          "year": 2012
         },
         {
          "ECDF": 0.10317460317460317,
          "beak depth (mm)": 8.3,
          "year": 2012
         },
         {
          "ECDF": 0.7777777777777778,
          "beak depth (mm)": 9.6,
          "year": 2012
         },
         {
          "ECDF": 0.6507936507936508,
          "beak depth (mm)": 9.4,
          "year": 2012
         },
         {
          "ECDF": 0.9047619047619048,
          "beak depth (mm)": 10,
          "year": 2012
         },
         {
          "ECDF": 0.3333333333333333,
          "beak depth (mm)": 8.9,
          "year": 2012
         },
         {
          "ECDF": 0.46825396825396826,
          "beak depth (mm)": 9.1,
          "year": 2012
         },
         {
          "ECDF": 0.8333333333333334,
          "beak depth (mm)": 9.8,
          "year": 2012
         },
         {
          "ECDF": 0.5714285714285714,
          "beak depth (mm)": 9.3,
          "year": 2012
         },
         {
          "ECDF": 0.873015873015873,
          "beak depth (mm)": 9.9,
          "year": 2012
         },
         {
          "ECDF": 0.3412698412698413,
          "beak depth (mm)": 8.9,
          "year": 2012
         },
         {
          "ECDF": 0.18253968253968253,
          "beak depth (mm)": 8.5,
          "year": 2012
         },
         {
          "ECDF": 0.9841269841269841,
          "beak depth (mm)": 10.6,
          "year": 2012
         },
         {
          "ECDF": 0.5793650793650794,
          "beak depth (mm)": 9.3,
          "year": 2012
         },
         {
          "ECDF": 0.3492063492063492,
          "beak depth (mm)": 8.9,
          "year": 2012
         },
         {
          "ECDF": 0.35714285714285715,
          "beak depth (mm)": 8.9,
          "year": 2012
         },
         {
          "ECDF": 0.7936507936507936,
          "beak depth (mm)": 9.7,
          "year": 2012
         },
         {
          "ECDF": 0.8412698412698413,
          "beak depth (mm)": 9.8,
          "year": 2012
         },
         {
          "ECDF": 0.9682539682539683,
          "beak depth (mm)": 10.5,
          "year": 2012
         },
         {
          "ECDF": 0.14285714285714285,
          "beak depth (mm)": 8.4,
          "year": 2012
         },
         {
          "ECDF": 0.9126984126984127,
          "beak depth (mm)": 10,
          "year": 2012
         },
         {
          "ECDF": 0.42857142857142855,
          "beak depth (mm)": 9,
          "year": 2012
         },
         {
          "ECDF": 0.23809523809523808,
          "beak depth (mm)": 8.7,
          "year": 2012
         },
         {
          "ECDF": 0.2777777777777778,
          "beak depth (mm)": 8.8,
          "year": 2012
         },
         {
          "ECDF": 0.15079365079365079,
          "beak depth (mm)": 8.4,
          "year": 2012
         },
         {
          "ECDF": 0.5873015873015873,
          "beak depth (mm)": 9.3,
          "year": 2012
         },
         {
          "ECDF": 0.8492063492063492,
          "beak depth (mm)": 9.8,
          "year": 2012
         },
         {
          "ECDF": 0.36507936507936506,
          "beak depth (mm)": 8.9,
          "year": 2012
         },
         {
          "ECDF": 0.8571428571428571,
          "beak depth (mm)": 9.8,
          "year": 2012
         },
         {
          "ECDF": 0.47619047619047616,
          "beak depth (mm)": 9.1,
          "year": 2012
         }
        ]
       },
       "encoding": {
        "color": {
         "field": "year",
         "type": "nominal"
        },
        "x": {
         "field": "beak depth (mm)",
         "scale": {
          "zero": false
         },
         "type": "quantitative"
        },
        "y": {
         "field": "ECDF",
         "type": "quantitative"
        }
       },
       "mark": "point"
      },
      "image/png": "[encoded data removed]",
      "text/plain": [
       "<VegaLite 2 object>\n",
       "\n",
       "If you see this message, it means the renderer has not been properly enabled\n",
       "for the frontend that you are using. For more information, see\n",
       "https://altair-viz.github.io/user_guide/troubleshooting.html\n"
      ]
     },
     "execution_count": 17,
     "metadata": {},
     "output_type": "execute_result"
    }
   ],
   "source": [
    "# Compute ECDF\n",
    "df['ECDF'] = df.groupby('year').transform(bootcamp_utils.ecdf_y)\n",
    "\n",
    "# Make a plot\n",
    "alt.Chart(df\n",
    "    ).mark_point(\n",
    "    ).encode(\n",
    "        x=alt.X('beak depth (mm):Q', \n",
    "                scale=alt.Scale(zero=False)),\n",
    "        y='ECDF:Q',\n",
    "        color='year:N')"
   ]
  },
  {
   "cell_type": "markdown",
   "metadata": {},
   "source": [
    "Looks like the beak depth is larger in 2012, but we want to get some descriptive stats to help us understand the result"
   ]
  },
  {
   "cell_type": "code",
   "execution_count": 18,
   "metadata": {},
   "outputs": [
    {
     "data": {
      "text/plain": [
       "(8.959999999999999, 9.188492063492063)"
      ]
     },
     "execution_count": 18,
     "metadata": {},
     "output_type": "execute_result"
    }
   ],
   "source": [
    "bd_1975 = df.loc[df['year'] == 1975, 'beak depth (mm)'].values\n",
    "bd_2012 = df.loc[df['year'] == 2012, 'beak depth (mm)'].values\n",
    "\n",
    "np.mean(bd_1975), np.mean(bd_2012)"
   ]
  },
  {
   "cell_type": "markdown",
   "metadata": {},
   "source": [
    "Looks like we do have a difference, but can we confirm it is statistically relevant? This is where hackerstats comes in...\n",
    "\n",
    "This will figure out our confidence intervals\n",
    "\n",
    "What we do is rely on the computer to experiment for us: simulates redoing this experiment many many times and determines where our parameters fall\n",
    "\n",
    "Bootstrapping in three steps\n",
    "1 - draw n points out of your dataset WITH replacement = \"bootstrap sample\"\n",
    "2 - compute your quantity or statistic over that sample = \"bootstrap replicate\"\n",
    "3 - repeat\n",
    "\n",
    "Doing this proceedure will allow us to answer this question: \"if we were to do this experiment again under identical conditions, are we likely to get the same results?\"\n",
    "\n",
    "We are sampling out of the empirical distribution function to address this"
   ]
  },
  {
   "cell_type": "code",
   "execution_count": 20,
   "metadata": {},
   "outputs": [
    {
     "data": {
      "text/plain": [
       "array([ 9.7 ,  9.7 ,  9.8 ,  8.3 ,  8.9 ,  9.45,  8.35,  9.44,  9.44,\n",
       "        8.7 ,  8.4 ,  9.1 ,  9.1 ,  8.8 ,  9.9 ,  9.1 ,  8.8 ,  8.6 ,\n",
       "        8.1 ,  8.9 ,  8.4 ,  9.04,  8.  ,  9.1 , 10.2 ,  9.1 ,  8.3 ,\n",
       "        8.1 ,  9.45,  9.7 ,  8.7 ,  8.7 ,  9.2 ,  8.7 ,  9.2 ,  8.2 ,\n",
       "        8.6 ,  8.4 ,  9.2 ,  8.6 ,  8.9 , 10.4 ,  9.3 ,  9.  ,  8.  ,\n",
       "        8.1 ,  9.  ,  8.9 ,  9.1 ,  8.8 ,  9.05,  8.1 ,  9.1 ,  9.1 ,\n",
       "        8.5 ,  9.2 ,  8.5 ,  9.05,  8.65, 10.4 , 10.1 ,  8.  ,  8.8 ,\n",
       "        8.9 ,  8.5 ,  8.  ,  8.5 ,  8.8 ,  9.  ,  9.1 ,  8.9 ,  8.3 ,\n",
       "        8.7 ,  9.  ,  8.5 ,  9.7 ,  9.8 ,  9.05,  8.35,  8.7 ,  9.3 ,\n",
       "        8.75,  9.45,  9.45,  9.1 ,  8.7 ,  8.5 ])"
      ]
     },
     "execution_count": 20,
     "metadata": {},
     "output_type": "execute_result"
    }
   ],
   "source": [
    "np.random.seed(42)  #normally don't set the seed\n",
    "bs_sample = np.random.choice(bd_1975, replace=True, size=len(bd_1975))\n",
    "bs_sample"
   ]
  },
  {
   "cell_type": "code",
   "execution_count": 21,
   "metadata": {},
   "outputs": [
    {
     "data": {
      "text/plain": [
       "(87, 87)"
      ]
     },
     "execution_count": 21,
     "metadata": {},
     "output_type": "execute_result"
    }
   ],
   "source": [
    "bs_sample.size, bd_1975.size"
   ]
  },
  {
   "cell_type": "code",
   "execution_count": 28,
   "metadata": {},
   "outputs": [
    {
     "data": {
      "application/vnd.vegalite.v2+json": {
       "$schema": "https://vega.github.io/schema/vega-lite/v2.4.3.json",
       "config": {
        "view": {
         "height": 300,
         "width": 400
        }
       },
       "data": {
        "values": [
         {
          "ECDF": 0.011494252873563218,
          "beak depth (mm)": 8,
          "set": "bootstrap",
          "year": 1975
         },
         {
          "ECDF": 0.022988505747126436,
          "beak depth (mm)": 8,
          "set": "bootstrap",
          "year": 1975
         },
         {
          "ECDF": 0.034482758620689655,
          "beak depth (mm)": 8,
          "set": "bootstrap",
          "year": 1975
         },
         {
          "ECDF": 0.04597701149425287,
          "beak depth (mm)": 8,
          "set": "bootstrap",
          "year": 1975
         },
         {
          "ECDF": 0.05747126436781609,
          "beak depth (mm)": 8.1,
          "set": "bootstrap",
          "year": 1975
         },
         {
          "ECDF": 0.06896551724137931,
          "beak depth (mm)": 8.1,
          "set": "bootstrap",
          "year": 1975
         },
         {
          "ECDF": 0.08045977011494253,
          "beak depth (mm)": 8.1,
          "set": "bootstrap",
          "year": 1975
         },
         {
          "ECDF": 0.09195402298850575,
          "beak depth (mm)": 8.1,
          "set": "bootstrap",
          "year": 1975
         },
         {
          "ECDF": 0.10344827586206896,
          "beak depth (mm)": 8.2,
          "set": "bootstrap",
          "year": 1975
         },
         {
          "ECDF": 0.11494252873563218,
          "beak depth (mm)": 8.3,
          "set": "bootstrap",
          "year": 1975
         },
         {
          "ECDF": 0.12643678160919541,
          "beak depth (mm)": 8.3,
          "set": "bootstrap",
          "year": 1975
         },
         {
          "ECDF": 0.13793103448275862,
          "beak depth (mm)": 8.3,
          "set": "bootstrap",
          "year": 1975
         },
         {
          "ECDF": 0.14942528735632185,
          "beak depth (mm)": 8.35,
          "set": "bootstrap",
          "year": 1975
         },
         {
          "ECDF": 0.16091954022988506,
          "beak depth (mm)": 8.35,
          "set": "bootstrap",
          "year": 1975
         },
         {
          "ECDF": 0.1724137931034483,
          "beak depth (mm)": 8.4,
          "set": "bootstrap",
          "year": 1975
         },
         {
          "ECDF": 0.1839080459770115,
          "beak depth (mm)": 8.4,
          "set": "bootstrap",
          "year": 1975
         },
         {
          "ECDF": 0.19540229885057472,
          "beak depth (mm)": 8.4,
          "set": "bootstrap",
          "year": 1975
         },
         {
          "ECDF": 0.20689655172413793,
          "beak depth (mm)": 8.5,
          "set": "bootstrap",
          "year": 1975
         },
         {
          "ECDF": 0.21839080459770116,
          "beak depth (mm)": 8.5,
          "set": "bootstrap",
          "year": 1975
         },
         {
          "ECDF": 0.22988505747126436,
          "beak depth (mm)": 8.5,
          "set": "bootstrap",
          "year": 1975
         },
         {
          "ECDF": 0.2413793103448276,
          "beak depth (mm)": 8.5,
          "set": "bootstrap",
          "year": 1975
         },
         {
          "ECDF": 0.25287356321839083,
          "beak depth (mm)": 8.5,
          "set": "bootstrap",
          "year": 1975
         },
         {
          "ECDF": 0.26436781609195403,
          "beak depth (mm)": 8.5,
          "set": "bootstrap",
          "year": 1975
         },
         {
          "ECDF": 0.27586206896551724,
          "beak depth (mm)": 8.6,
          "set": "bootstrap",
          "year": 1975
         },
         {
          "ECDF": 0.28735632183908044,
          "beak depth (mm)": 8.6,
          "set": "bootstrap",
          "year": 1975
         },
         {
          "ECDF": 0.2988505747126437,
          "beak depth (mm)": 8.6,
          "set": "bootstrap",
          "year": 1975
         },
         {
          "ECDF": 0.3103448275862069,
          "beak depth (mm)": 8.65,
          "set": "bootstrap",
          "year": 1975
         },
         {
          "ECDF": 0.3218390804597701,
          "beak depth (mm)": 8.7,
          "set": "bootstrap",
          "year": 1975
         },
         {
          "ECDF": 0.3333333333333333,
          "beak depth (mm)": 8.7,
          "set": "bootstrap",
          "year": 1975
         },
         {
          "ECDF": 0.3448275862068966,
          "beak depth (mm)": 8.7,
          "set": "bootstrap",
          "year": 1975
         },
         {
          "ECDF": 0.3563218390804598,
          "beak depth (mm)": 8.7,
          "set": "bootstrap",
          "year": 1975
         },
         {
          "ECDF": 0.367816091954023,
          "beak depth (mm)": 8.7,
          "set": "bootstrap",
          "year": 1975
         },
         {
          "ECDF": 0.3793103448275862,
          "beak depth (mm)": 8.7,
          "set": "bootstrap",
          "year": 1975
         },
         {
          "ECDF": 0.39080459770114945,
          "beak depth (mm)": 8.7,
          "set": "bootstrap",
          "year": 1975
         },
         {
          "ECDF": 0.40229885057471265,
          "beak depth (mm)": 8.75,
          "set": "bootstrap",
          "year": 1975
         },
         {
          "ECDF": 0.41379310344827586,
          "beak depth (mm)": 8.8,
          "set": "bootstrap",
          "year": 1975
         },
         {
          "ECDF": 0.42528735632183906,
          "beak depth (mm)": 8.8,
          "set": "bootstrap",
          "year": 1975
         },
         {
          "ECDF": 0.4367816091954023,
          "beak depth (mm)": 8.8,
          "set": "bootstrap",
          "year": 1975
         },
         {
          "ECDF": 0.4482758620689655,
          "beak depth (mm)": 8.8,
          "set": "bootstrap",
          "year": 1975
         },
         {
          "ECDF": 0.45977011494252873,
          "beak depth (mm)": 8.8,
          "set": "bootstrap",
          "year": 1975
         },
         {
          "ECDF": 0.47126436781609193,
          "beak depth (mm)": 8.9,
          "set": "bootstrap",
          "year": 1975
         },
         {
          "ECDF": 0.4827586206896552,
          "beak depth (mm)": 8.9,
          "set": "bootstrap",
          "year": 1975
         },
         {
          "ECDF": 0.4942528735632184,
          "beak depth (mm)": 8.9,
          "set": "bootstrap",
          "year": 1975
         },
         {
          "ECDF": 0.5057471264367817,
          "beak depth (mm)": 8.9,
          "set": "bootstrap",
          "year": 1975
         },
         {
          "ECDF": 0.5172413793103449,
          "beak depth (mm)": 8.9,
          "set": "bootstrap",
          "year": 1975
         },
         {
          "ECDF": 0.5287356321839081,
          "beak depth (mm)": 8.9,
          "set": "bootstrap",
          "year": 1975
         },
         {
          "ECDF": 0.5402298850574713,
          "beak depth (mm)": 9,
          "set": "bootstrap",
          "year": 1975
         },
         {
          "ECDF": 0.5517241379310345,
          "beak depth (mm)": 9,
          "set": "bootstrap",
          "year": 1975
         },
         {
          "ECDF": 0.5632183908045977,
          "beak depth (mm)": 9,
          "set": "bootstrap",
          "year": 1975
         },
         {
          "ECDF": 0.5747126436781609,
          "beak depth (mm)": 9,
          "set": "bootstrap",
          "year": 1975
         },
         {
          "ECDF": 0.5862068965517241,
          "beak depth (mm)": 9.04,
          "set": "bootstrap",
          "year": 1975
         },
         {
          "ECDF": 0.5977011494252874,
          "beak depth (mm)": 9.05,
          "set": "bootstrap",
          "year": 1975
         },
         {
          "ECDF": 0.6091954022988506,
          "beak depth (mm)": 9.05,
          "set": "bootstrap",
          "year": 1975
         },
         {
          "ECDF": 0.6206896551724138,
          "beak depth (mm)": 9.05,
          "set": "bootstrap",
          "year": 1975
         },
         {
          "ECDF": 0.632183908045977,
          "beak depth (mm)": 9.1,
          "set": "bootstrap",
          "year": 1975
         },
         {
          "ECDF": 0.6436781609195402,
          "beak depth (mm)": 9.1,
          "set": "bootstrap",
          "year": 1975
         },
         {
          "ECDF": 0.6551724137931034,
          "beak depth (mm)": 9.1,
          "set": "bootstrap",
          "year": 1975
         },
         {
          "ECDF": 0.6666666666666666,
          "beak depth (mm)": 9.1,
          "set": "bootstrap",
          "year": 1975
         },
         {
          "ECDF": 0.6781609195402298,
          "beak depth (mm)": 9.1,
          "set": "bootstrap",
          "year": 1975
         },
         {
          "ECDF": 0.6896551724137931,
          "beak depth (mm)": 9.1,
          "set": "bootstrap",
          "year": 1975
         },
         {
          "ECDF": 0.7011494252873564,
          "beak depth (mm)": 9.1,
          "set": "bootstrap",
          "year": 1975
         },
         {
          "ECDF": 0.7126436781609196,
          "beak depth (mm)": 9.1,
          "set": "bootstrap",
          "year": 1975
         },
         {
          "ECDF": 0.7241379310344828,
          "beak depth (mm)": 9.1,
          "set": "bootstrap",
          "year": 1975
         },
         {
          "ECDF": 0.735632183908046,
          "beak depth (mm)": 9.1,
          "set": "bootstrap",
          "year": 1975
         },
         {
          "ECDF": 0.7471264367816092,
          "beak depth (mm)": 9.2,
          "set": "bootstrap",
          "year": 1975
         },
         {
          "ECDF": 0.7586206896551724,
          "beak depth (mm)": 9.2,
          "set": "bootstrap",
          "year": 1975
         },
         {
          "ECDF": 0.7701149425287356,
          "beak depth (mm)": 9.2,
          "set": "bootstrap",
          "year": 1975
         },
         {
          "ECDF": 0.7816091954022989,
          "beak depth (mm)": 9.2,
          "set": "bootstrap",
          "year": 1975
         },
         {
          "ECDF": 0.7931034482758621,
          "beak depth (mm)": 9.3,
          "set": "bootstrap",
          "year": 1975
         },
         {
          "ECDF": 0.8045977011494253,
          "beak depth (mm)": 9.3,
          "set": "bootstrap",
          "year": 1975
         },
         {
          "ECDF": 0.8160919540229885,
          "beak depth (mm)": 9.44,
          "set": "bootstrap",
          "year": 1975
         },
         {
          "ECDF": 0.8275862068965517,
          "beak depth (mm)": 9.44,
          "set": "bootstrap",
          "year": 1975
         },
         {
          "ECDF": 0.8390804597701149,
          "beak depth (mm)": 9.45,
          "set": "bootstrap",
          "year": 1975
         },
         {
          "ECDF": 0.8505747126436781,
          "beak depth (mm)": 9.45,
          "set": "bootstrap",
          "year": 1975
         },
         {
          "ECDF": 0.8620689655172413,
          "beak depth (mm)": 9.45,
          "set": "bootstrap",
          "year": 1975
         },
         {
          "ECDF": 0.8735632183908046,
          "beak depth (mm)": 9.45,
          "set": "bootstrap",
          "year": 1975
         },
         {
          "ECDF": 0.8850574712643678,
          "beak depth (mm)": 9.7,
          "set": "bootstrap",
          "year": 1975
         },
         {
          "ECDF": 0.896551724137931,
          "beak depth (mm)": 9.7,
          "set": "bootstrap",
          "year": 1975
         },
         {
          "ECDF": 0.9080459770114943,
          "beak depth (mm)": 9.7,
          "set": "bootstrap",
          "year": 1975
         },
         {
          "ECDF": 0.9195402298850575,
          "beak depth (mm)": 9.7,
          "set": "bootstrap",
          "year": 1975
         },
         {
          "ECDF": 0.9310344827586207,
          "beak depth (mm)": 9.8,
          "set": "bootstrap",
          "year": 1975
         },
         {
          "ECDF": 0.9425287356321839,
          "beak depth (mm)": 9.8,
          "set": "bootstrap",
          "year": 1975
         },
         {
          "ECDF": 0.9540229885057471,
          "beak depth (mm)": 9.9,
          "set": "bootstrap",
          "year": 1975
         },
         {
          "ECDF": 0.9655172413793104,
          "beak depth (mm)": 10.1,
          "set": "bootstrap",
          "year": 1975
         },
         {
          "ECDF": 0.9770114942528736,
          "beak depth (mm)": 10.2,
          "set": "bootstrap",
          "year": 1975
         },
         {
          "ECDF": 0.9885057471264368,
          "beak depth (mm)": 10.4,
          "set": "bootstrap",
          "year": 1975
         },
         {
          "ECDF": 1,
          "beak depth (mm)": 10.4,
          "set": "bootstrap",
          "year": 1975
         },
         {
          "ECDF": 0.16091954022988506,
          "beak depth (mm)": 8.4,
          "set": 1975,
          "year": 1975
         },
         {
          "ECDF": 0.39080459770114945,
          "beak depth (mm)": 8.8,
          "set": 1975,
          "year": 1975
         },
         {
          "ECDF": 0.1724137931034483,
          "beak depth (mm)": 8.4,
          "set": 1975,
          "year": 1975
         },
         {
          "ECDF": 0.022988505747126436,
          "beak depth (mm)": 8,
          "set": 1975,
          "year": 1975
         },
         {
          "ECDF": 0.011494252873563218,
          "beak depth (mm)": 7.9,
          "set": 1975,
          "year": 1975
         },
         {
          "ECDF": 0.4482758620689655,
          "beak depth (mm)": 8.9,
          "set": 1975,
          "year": 1975
         },
         {
          "ECDF": 0.26436781609195403,
          "beak depth (mm)": 8.6,
          "set": 1975,
          "year": 1975
         },
         {
          "ECDF": 0.20689655172413793,
          "beak depth (mm)": 8.5,
          "set": 1975,
          "year": 1975
         },
         {
          "ECDF": 0.45977011494252873,
          "beak depth (mm)": 8.9,
          "set": 1975,
          "year": 1975
         },
         {
          "ECDF": 0.6091954022988506,
          "beak depth (mm)": 9.1,
          "set": 1975,
          "year": 1975
         },
         {
          "ECDF": 0.27586206896551724,
          "beak depth (mm)": 8.6,
          "set": 1975,
          "year": 1975
         },
         {
          "ECDF": 0.9195402298850575,
          "beak depth (mm)": 9.8,
          "set": 1975,
          "year": 1975
         },
         {
          "ECDF": 0.06896551724137931,
          "beak depth (mm)": 8.2,
          "set": 1975,
          "year": 1975
         },
         {
          "ECDF": 0.5057471264367817,
          "beak depth (mm)": 9,
          "set": 1975,
          "year": 1975
         },
         {
          "ECDF": 0.8850574712643678,
          "beak depth (mm)": 9.7,
          "set": 1975,
          "year": 1975
         },
         {
          "ECDF": 0.28735632183908044,
          "beak depth (mm)": 8.6,
          "set": 1975,
          "year": 1975
         },
         {
          "ECDF": 0.08045977011494253,
          "beak depth (mm)": 8.2,
          "set": 1975,
          "year": 1975
         },
         {
          "ECDF": 0.5172413793103449,
          "beak depth (mm)": 9,
          "set": 1975,
          "year": 1975
         },
         {
          "ECDF": 0.1839080459770115,
          "beak depth (mm)": 8.4,
          "set": 1975,
          "year": 1975
         },
         {
          "ECDF": 0.2988505747126437,
          "beak depth (mm)": 8.6,
          "set": 1975,
          "year": 1975
         },
         {
          "ECDF": 0.47126436781609193,
          "beak depth (mm)": 8.9,
          "set": 1975,
          "year": 1975
         },
         {
          "ECDF": 0.6206896551724138,
          "beak depth (mm)": 9.1,
          "set": 1975,
          "year": 1975
         },
         {
          "ECDF": 0.10344827586206896,
          "beak depth (mm)": 8.3,
          "set": 1975,
          "year": 1975
         },
         {
          "ECDF": 0.3448275862068966,
          "beak depth (mm)": 8.7,
          "set": 1975,
          "year": 1975
         },
         {
          "ECDF": 0.8505747126436781,
          "beak depth (mm)": 9.6,
          "set": 1975,
          "year": 1975
         },
         {
          "ECDF": 0.21839080459770116,
          "beak depth (mm)": 8.5,
          "set": 1975,
          "year": 1975
         },
         {
          "ECDF": 0.632183908045977,
          "beak depth (mm)": 9.1,
          "set": 1975,
          "year": 1975
         },
         {
          "ECDF": 0.5287356321839081,
          "beak depth (mm)": 9,
          "set": 1975,
          "year": 1975
         },
         {
          "ECDF": 0.7126436781609196,
          "beak depth (mm)": 9.2,
          "set": 1975,
          "year": 1975
         },
         {
          "ECDF": 0.9425287356321839,
          "beak depth (mm)": 9.9,
          "set": 1975,
          "year": 1975
         },
         {
          "ECDF": 0.3103448275862069,
          "beak depth (mm)": 8.6,
          "set": 1975,
          "year": 1975
         },
         {
          "ECDF": 0.7241379310344828,
          "beak depth (mm)": 9.2,
          "set": 1975,
          "year": 1975
         },
         {
          "ECDF": 0.19540229885057472,
          "beak depth (mm)": 8.4,
          "set": 1975,
          "year": 1975
         },
         {
          "ECDF": 0.4827586206896552,
          "beak depth (mm)": 8.9,
          "set": 1975,
          "year": 1975
         },
         {
          "ECDF": 0.22988505747126436,
          "beak depth (mm)": 8.5,
          "set": 1975,
          "year": 1975
         },
         {
          "ECDF": 0.9885057471264368,
          "beak depth (mm)": 10.4,
          "set": 1975,
          "year": 1975
         },
         {
          "ECDF": 0.8620689655172413,
          "beak depth (mm)": 9.6,
          "set": 1975,
          "year": 1975
         },
         {
          "ECDF": 0.6436781609195402,
          "beak depth (mm)": 9.1,
          "set": 1975,
          "year": 1975
         },
         {
          "ECDF": 0.7586206896551724,
          "beak depth (mm)": 9.3,
          "set": 1975,
          "year": 1975
         },
         {
          "ECDF": 0.7701149425287356,
          "beak depth (mm)": 9.3,
          "set": 1975,
          "year": 1975
         },
         {
          "ECDF": 0.40229885057471265,
          "beak depth (mm)": 8.8,
          "set": 1975,
          "year": 1975
         },
         {
          "ECDF": 0.11494252873563218,
          "beak depth (mm)": 8.3,
          "set": 1975,
          "year": 1975
         },
         {
          "ECDF": 0.41379310344827586,
          "beak depth (mm)": 8.8,
          "set": 1975,
          "year": 1975
         },
         {
          "ECDF": 0.6551724137931034,
          "beak depth (mm)": 9.1,
          "set": 1975,
          "year": 1975
         },
         {
          "ECDF": 0.9540229885057471,
          "beak depth (mm)": 10.1,
          "set": 1975,
          "year": 1975
         },
         {
          "ECDF": 0.4942528735632184,
          "beak depth (mm)": 8.9,
          "set": 1975,
          "year": 1975
         },
         {
          "ECDF": 0.735632183908046,
          "beak depth (mm)": 9.2,
          "set": 1975,
          "year": 1975
         },
         {
          "ECDF": 0.2413793103448276,
          "beak depth (mm)": 8.5,
          "set": 1975,
          "year": 1975
         },
         {
          "ECDF": 0.9770114942528736,
          "beak depth (mm)": 10.2,
          "set": 1975,
          "year": 1975
         },
         {
          "ECDF": 0.9655172413793104,
          "beak depth (mm)": 10.1,
          "set": 1975,
          "year": 1975
         },
         {
          "ECDF": 0.7471264367816092,
          "beak depth (mm)": 9.2,
          "set": 1975,
          "year": 1975
         },
         {
          "ECDF": 0.896551724137931,
          "beak depth (mm)": 9.7,
          "set": 1975,
          "year": 1975
         },
         {
          "ECDF": 0.6666666666666666,
          "beak depth (mm)": 9.1,
          "set": 1975,
          "year": 1975
         },
         {
          "ECDF": 0.25287356321839083,
          "beak depth (mm)": 8.5,
          "set": 1975,
          "year": 1975
         },
         {
          "ECDF": 0.09195402298850575,
          "beak depth (mm)": 8.2,
          "set": 1975,
          "year": 1975
         },
         {
          "ECDF": 0.5402298850574713,
          "beak depth (mm)": 9,
          "set": 1975,
          "year": 1975
         },
         {
          "ECDF": 0.7816091954022989,
          "beak depth (mm)": 9.3,
          "set": 1975,
          "year": 1975
         },
         {
          "ECDF": 0.034482758620689655,
          "beak depth (mm)": 8,
          "set": 1975,
          "year": 1975
         },
         {
          "ECDF": 0.6781609195402298,
          "beak depth (mm)": 9.1,
          "set": 1975,
          "year": 1975
         },
         {
          "ECDF": 0.05747126436781609,
          "beak depth (mm)": 8.1,
          "set": 1975,
          "year": 1975
         },
         {
          "ECDF": 0.12643678160919541,
          "beak depth (mm)": 8.3,
          "set": 1975,
          "year": 1975
         },
         {
          "ECDF": 0.3563218390804598,
          "beak depth (mm)": 8.7,
          "set": 1975,
          "year": 1975
         },
         {
          "ECDF": 0.42528735632183906,
          "beak depth (mm)": 8.8,
          "set": 1975,
          "year": 1975
         },
         {
          "ECDF": 0.3218390804597701,
          "beak depth (mm)": 8.6,
          "set": 1975,
          "year": 1975
         },
         {
          "ECDF": 0.367816091954023,
          "beak depth (mm)": 8.7,
          "set": 1975,
          "year": 1975
         },
         {
          "ECDF": 0.04597701149425287,
          "beak depth (mm)": 8,
          "set": 1975,
          "year": 1975
         },
         {
          "ECDF": 0.4367816091954023,
          "beak depth (mm)": 8.8,
          "set": 1975,
          "year": 1975
         },
         {
          "ECDF": 0.5517241379310345,
          "beak depth (mm)": 9,
          "set": 1975,
          "year": 1975
         },
         {
          "ECDF": 0.6896551724137931,
          "beak depth (mm)": 9.1,
          "set": 1975,
          "year": 1975
         },
         {
          "ECDF": 0.9080459770114943,
          "beak depth (mm)": 9.74,
          "set": 1975,
          "year": 1975
         },
         {
          "ECDF": 0.7011494252873564,
          "beak depth (mm)": 9.1,
          "set": 1975,
          "year": 1975
         },
         {
          "ECDF": 0.9310344827586207,
          "beak depth (mm)": 9.8,
          "set": 1975,
          "year": 1975
         },
         {
          "ECDF": 1,
          "beak depth (mm)": 10.4,
          "set": 1975,
          "year": 1975
         },
         {
          "ECDF": 0.13793103448275862,
          "beak depth (mm)": 8.3,
          "set": 1975,
          "year": 1975
         },
         {
          "ECDF": 0.7931034482758621,
          "beak depth (mm)": 9.44,
          "set": 1975,
          "year": 1975
         },
         {
          "ECDF": 0.5747126436781609,
          "beak depth (mm)": 9.04,
          "set": 1975,
          "year": 1975
         },
         {
          "ECDF": 0.5632183908045977,
          "beak depth (mm)": 9,
          "set": 1975,
          "year": 1975
         },
         {
          "ECDF": 0.5862068965517241,
          "beak depth (mm)": 9.05,
          "set": 1975,
          "year": 1975
         },
         {
          "ECDF": 0.8735632183908046,
          "beak depth (mm)": 9.65,
          "set": 1975,
          "year": 1975
         },
         {
          "ECDF": 0.8045977011494253,
          "beak depth (mm)": 9.45,
          "set": 1975,
          "year": 1975
         },
         {
          "ECDF": 0.3333333333333333,
          "beak depth (mm)": 8.65,
          "set": 1975,
          "year": 1975
         },
         {
          "ECDF": 0.8160919540229885,
          "beak depth (mm)": 9.45,
          "set": 1975,
          "year": 1975
         },
         {
          "ECDF": 0.8275862068965517,
          "beak depth (mm)": 9.45,
          "set": 1975,
          "year": 1975
         },
         {
          "ECDF": 0.5977011494252874,
          "beak depth (mm)": 9.05,
          "set": 1975,
          "year": 1975
         },
         {
          "ECDF": 0.3793103448275862,
          "beak depth (mm)": 8.75,
          "set": 1975,
          "year": 1975
         },
         {
          "ECDF": 0.8390804597701149,
          "beak depth (mm)": 9.45,
          "set": 1975,
          "year": 1975
         },
         {
          "ECDF": 0.14942528735632185,
          "beak depth (mm)": 8.35,
          "set": 1975,
          "year": 1975
         }
        ]
       },
       "encoding": {
        "color": {
         "field": "set",
         "type": "nominal"
        },
        "x": {
         "field": "beak depth (mm)",
         "scale": {
          "zero": false
         },
         "type": "quantitative"
        },
        "y": {
         "field": "ECDF",
         "type": "quantitative"
        }
       },
       "height": 500,
       "mark": "point",
       "width": 500
      },
      "image/png": "[encoded data removed]",
      "text/plain": [
       "<VegaLite 2 object>\n",
       "\n",
       "If you see this message, it means the renderer has not been properly enabled\n",
       "for the frontend that you are using. For more information, see\n",
       "https://altair-viz.github.io/user_guide/troubleshooting.html\n"
      ]
     },
     "execution_count": 28,
     "metadata": {},
     "output_type": "execute_result"
    }
   ],
   "source": [
    "x_bs, y_bs = bootcamp_utils.ecdf_vals(bs_sample)\n",
    "\n",
    "df_bs = pd.DataFrame(data={'beak depth (mm)': x_bs,\n",
    "                            'ECDF': y_bs,\n",
    "                            'set': 'bootstrap',\n",
    "                            'year': 1975})\n",
    "\n",
    "df_orig = df.copy().loc[df['year'] == 1975, :]\n",
    "df_orig['set'] = 1975\n",
    "\n",
    "df_plot = pd.concat([df_bs, df_orig], ignore_index=True, sort=True)\n",
    "\n",
    "alt.Chart(df_plot,\n",
    "          width=500,\n",
    "          height=500\n",
    "        ).mark_point(\n",
    "        ).encode(\n",
    "            x=alt.X('beak depth (mm):Q', scale=alt.Scale(zero=False)),\n",
    "            y='ECDF:Q',\n",
    "            color=('set:N')\n",
    "        )\n"
   ]
  },
  {
   "cell_type": "code",
   "execution_count": 29,
   "metadata": {},
   "outputs": [
    {
     "data": {
      "text/plain": [
       "(8.92609195402299, 8.959999999999999)"
      ]
     },
     "execution_count": 29,
     "metadata": {},
     "output_type": "execute_result"
    }
   ],
   "source": [
    "np.mean(bs_sample), np.mean(bd_1975)"
   ]
  },
  {
   "cell_type": "code",
   "execution_count": 33,
   "metadata": {},
   "outputs": [],
   "source": [
    "n_reps = 100000\n",
    "\n",
    "bs_reps_1975 = np.empty(n_reps)\n",
    "\n",
    "for i in range(n_reps):\n",
    "    bs_sample = np.random.choice(bd_1975, size=len(bd_1975))\n",
    "    bs_reps_1975[i] = np.mean(bs_sample)"
   ]
  },
  {
   "cell_type": "code",
   "execution_count": 34,
   "metadata": {},
   "outputs": [
    {
     "data": {
      "text/plain": [
       "array([8.95954023, 8.95574713, 8.85390805, ..., 9.04862069, 9.02229885,\n",
       "       9.00954023])"
      ]
     },
     "execution_count": 34,
     "metadata": {},
     "output_type": "execute_result"
    }
   ],
   "source": [
    "bs_reps_1975"
   ]
  },
  {
   "cell_type": "code",
   "execution_count": 35,
   "metadata": {},
   "outputs": [
    {
     "data": {
      "application/vnd.vegalite.v2+json": {
       "$schema": "https://vega.github.io/schema/vega-lite/v2.4.3.json",
       "config": {
        "view": {
         "height": 300,
         "width": 400
        }
       },
       "data": {
        "values": [
         {
          "ECDF": 1e-05,
          "mean beak depth (mm)": 8.711149425287356
         },
         {
          "ECDF": 0.01001,
          "mean beak depth (mm)": 8.82183908045977
         },
         {
          "ECDF": 0.02001,
          "mean beak depth (mm)": 8.837356321839081
         },
         {
          "ECDF": 0.03001,
          "mean beak depth (mm)": 8.847586206896551
         },
         {
          "ECDF": 0.04001,
          "mean beak depth (mm)": 8.855057471264368
         },
         {
          "ECDF": 0.05001,
          "mean beak depth (mm)": 8.861379310344828
         },
         {
          "ECDF": 0.06001,
          "mean beak depth (mm)": 8.866666666666667
         },
         {
          "ECDF": 0.07001,
          "mean beak depth (mm)": 8.871149425287356
         },
         {
          "ECDF": 0.08001,
          "mean beak depth (mm)": 8.875402298850576
         },
         {
          "ECDF": 0.09001,
          "mean beak depth (mm)": 8.879195402298851
         },
         {
          "ECDF": 0.10001,
          "mean beak depth (mm)": 8.882758620689655
         },
         {
          "ECDF": 0.11001,
          "mean beak depth (mm)": 8.885977011494251
         },
         {
          "ECDF": 0.12001,
          "mean beak depth (mm)": 8.888965517241378
         },
         {
          "ECDF": 0.13001,
          "mean beak depth (mm)": 8.891724137931035
         },
         {
          "ECDF": 0.14001,
          "mean beak depth (mm)": 8.894597701149424
         },
         {
          "ECDF": 0.15001,
          "mean beak depth (mm)": 8.89712643678161
         },
         {
          "ECDF": 0.16001,
          "mean beak depth (mm)": 8.899655172413794
         },
         {
          "ECDF": 0.17001,
          "mean beak depth (mm)": 8.902068965517241
         },
         {
          "ECDF": 0.18001,
          "mean beak depth (mm)": 8.904367816091955
         },
         {
          "ECDF": 0.19001,
          "mean beak depth (mm)": 8.906551724137932
         },
         {
          "ECDF": 0.20001,
          "mean beak depth (mm)": 8.908850574712643
         },
         {
          "ECDF": 0.21001,
          "mean beak depth (mm)": 8.910919540229886
         },
         {
          "ECDF": 0.22001,
          "mean beak depth (mm)": 8.913103448275862
         },
         {
          "ECDF": 0.23001,
          "mean beak depth (mm)": 8.915057471264367
         },
         {
          "ECDF": 0.24001,
          "mean beak depth (mm)": 8.917011494252874
         },
         {
          "ECDF": 0.25001,
          "mean beak depth (mm)": 8.919080459770115
         },
         {
          "ECDF": 0.26001,
          "mean beak depth (mm)": 8.920919540229885
         },
         {
          "ECDF": 0.27001,
          "mean beak depth (mm)": 8.922758620689654
         },
         {
          "ECDF": 0.28001,
          "mean beak depth (mm)": 8.924482758620691
         },
         {
          "ECDF": 0.29001,
          "mean beak depth (mm)": 8.926206896551724
         },
         {
          "ECDF": 0.30001,
          "mean beak depth (mm)": 8.927931034482757
         },
         {
          "ECDF": 0.31001,
          "mean beak depth (mm)": 8.929655172413794
         },
         {
          "ECDF": 0.32001,
          "mean beak depth (mm)": 8.931264367816091
         },
         {
          "ECDF": 0.33001,
          "mean beak depth (mm)": 8.932988505747124
         },
         {
          "ECDF": 0.34001,
          "mean beak depth (mm)": 8.93471264367816
         },
         {
          "ECDF": 0.35001,
          "mean beak depth (mm)": 8.93632183908046
         },
         {
          "ECDF": 0.36001,
          "mean beak depth (mm)": 8.937931034482759
         },
         {
          "ECDF": 0.37001,
          "mean beak depth (mm)": 8.939540229885056
         },
         {
          "ECDF": 0.38001,
          "mean beak depth (mm)": 8.94103448275862
         },
         {
          "ECDF": 0.39001,
          "mean beak depth (mm)": 8.942528735632182
         },
         {
          "ECDF": 0.40001,
          "mean beak depth (mm)": 8.944137931034483
         },
         {
          "ECDF": 0.41001,
          "mean beak depth (mm)": 8.945747126436782
         },
         {
          "ECDF": 0.42001,
          "mean beak depth (mm)": 8.947356321839079
         },
         {
          "ECDF": 0.43001,
          "mean beak depth (mm)": 8.94873563218391
         },
         {
          "ECDF": 0.44001,
          "mean beak depth (mm)": 8.950344827586207
         },
         {
          "ECDF": 0.45001,
          "mean beak depth (mm)": 8.951724137931036
         },
         {
          "ECDF": 0.46001,
          "mean beak depth (mm)": 8.953218390804599
         },
         {
          "ECDF": 0.47001,
          "mean beak depth (mm)": 8.954827586206898
         },
         {
          "ECDF": 0.48001,
          "mean beak depth (mm)": 8.956321839080461
         },
         {
          "ECDF": 0.49001,
          "mean beak depth (mm)": 8.957816091954024
         },
         {
          "ECDF": 0.50001,
          "mean beak depth (mm)": 8.959425287356321
         },
         {
          "ECDF": 0.51001,
          "mean beak depth (mm)": 8.960919540229884
         },
         {
          "ECDF": 0.52001,
          "mean beak depth (mm)": 8.962528735632183
         },
         {
          "ECDF": 0.53001,
          "mean beak depth (mm)": 8.964022988505747
         },
         {
          "ECDF": 0.54001,
          "mean beak depth (mm)": 8.965517241379311
         },
         {
          "ECDF": 0.55001,
          "mean beak depth (mm)": 8.967126436781609
         },
         {
          "ECDF": 0.56001,
          "mean beak depth (mm)": 8.968620689655175
         },
         {
          "ECDF": 0.57001,
          "mean beak depth (mm)": 8.970229885057472
         },
         {
          "ECDF": 0.58001,
          "mean beak depth (mm)": 8.97183908045977
         },
         {
          "ECDF": 0.59001,
          "mean beak depth (mm)": 8.973448275862069
         },
         {
          "ECDF": 0.60001,
          "mean beak depth (mm)": 8.974942528735633
         },
         {
          "ECDF": 0.61001,
          "mean beak depth (mm)": 8.97655172413793
         },
         {
          "ECDF": 0.62001,
          "mean beak depth (mm)": 8.97816091954023
         },
         {
          "ECDF": 0.63001,
          "mean beak depth (mm)": 8.979770114942527
         },
         {
          "ECDF": 0.64001,
          "mean beak depth (mm)": 8.981379310344826
         },
         {
          "ECDF": 0.65001,
          "mean beak depth (mm)": 8.982988505747127
         },
         {
          "ECDF": 0.66001,
          "mean beak depth (mm)": 8.98448275862069
         },
         {
          "ECDF": 0.67001,
          "mean beak depth (mm)": 8.986206896551723
         },
         {
          "ECDF": 0.68001,
          "mean beak depth (mm)": 8.987816091954025
         },
         {
          "ECDF": 0.69001,
          "mean beak depth (mm)": 8.989540229885058
         },
         {
          "ECDF": 0.70001,
          "mean beak depth (mm)": 8.991264367816092
         },
         {
          "ECDF": 0.71001,
          "mean beak depth (mm)": 8.992988505747126
         },
         {
          "ECDF": 0.72001,
          "mean beak depth (mm)": 8.994827586206895
         },
         {
          "ECDF": 0.73001,
          "mean beak depth (mm)": 8.996666666666666
         },
         {
          "ECDF": 0.74001,
          "mean beak depth (mm)": 8.998505747126437
         },
         {
          "ECDF": 0.75001,
          "mean beak depth (mm)": 9.000344827586206
         },
         {
          "ECDF": 0.76001,
          "mean beak depth (mm)": 9.002413793103447
         },
         {
          "ECDF": 0.77001,
          "mean beak depth (mm)": 9.004367816091953
         },
         {
          "ECDF": 0.78001,
          "mean beak depth (mm)": 9.00632183908046
         },
         {
          "ECDF": 0.79001,
          "mean beak depth (mm)": 9.008390804597703
         },
         {
          "ECDF": 0.80001,
          "mean beak depth (mm)": 9.010574712643681
         },
         {
          "ECDF": 0.81001,
          "mean beak depth (mm)": 9.012873563218392
         },
         {
          "ECDF": 0.82001,
          "mean beak depth (mm)": 9.01528735632184
         },
         {
          "ECDF": 0.83001,
          "mean beak depth (mm)": 9.017701149425289
         },
         {
          "ECDF": 0.84001,
          "mean beak depth (mm)": 9.020344827586207
         },
         {
          "ECDF": 0.85001,
          "mean beak depth (mm)": 9.022988505747126
         },
         {
          "ECDF": 0.86001,
          "mean beak depth (mm)": 9.025632183908048
         },
         {
          "ECDF": 0.87001,
          "mean beak depth (mm)": 9.02862068965517
         },
         {
          "ECDF": 0.88001,
          "mean beak depth (mm)": 9.031494252873564
         },
         {
          "ECDF": 0.89001,
          "mean beak depth (mm)": 9.034827586206895
         },
         {
          "ECDF": 0.90001,
          "mean beak depth (mm)": 9.038275862068968
         },
         {
          "ECDF": 0.91001,
          "mean beak depth (mm)": 9.042068965517242
         },
         {
          "ECDF": 0.92001,
          "mean beak depth (mm)": 9.045977011494255
         },
         {
          "ECDF": 0.93001,
          "mean beak depth (mm)": 9.050459770114943
         },
         {
          "ECDF": 0.94001,
          "mean beak depth (mm)": 9.05528735632184
         },
         {
          "ECDF": 0.95001,
          "mean beak depth (mm)": 9.061149425287358
         },
         {
          "ECDF": 0.96001,
          "mean beak depth (mm)": 9.06793103448276
         },
         {
          "ECDF": 0.97001,
          "mean beak depth (mm)": 9.076091954022989
         },
         {
          "ECDF": 0.98001,
          "mean beak depth (mm)": 9.087011494252874
         },
         {
          "ECDF": 0.99001,
          "mean beak depth (mm)": 9.103908045977013
         }
        ]
       },
       "encoding": {
        "x": {
         "field": "mean beak depth (mm)",
         "scale": {
          "zero": false
         },
         "type": "quantitative"
        },
        "y": {
         "field": "ECDF",
         "type": "quantitative"
        }
       },
       "mark": "point"
      },
      "image/png": "[encoded data removed]",
      "text/plain": [
       "<VegaLite 2 object>\n",
       "\n",
       "If you see this message, it means the renderer has not been properly enabled\n",
       "for the frontend that you are using. For more information, see\n",
       "https://altair-viz.github.io/user_guide/troubleshooting.html\n"
      ]
     },
     "execution_count": 35,
     "metadata": {},
     "output_type": "execute_result"
    }
   ],
   "source": [
    "x, y = bootcamp_utils.ecdf_vals(bs_reps_1975)\n",
    "\n",
    "df_ecdf = pd.DataFrame(data={'mean beak depth (mm)': x[::1000],\n",
    "                            'ECDF': y[::1000]})\n",
    "\n",
    "alt.Chart(df_ecdf\n",
    "         ).mark_point(\n",
    "    ).encode(\n",
    "        x=alt.X('mean beak depth (mm):Q', scale=alt.Scale(zero=False)),\n",
    "        y='ECDF:Q'\n",
    ")\n"
   ]
  },
  {
   "cell_type": "code",
   "execution_count": 36,
   "metadata": {},
   "outputs": [
    {
     "data": {
      "text/plain": [
       "(8.96006713678161, array([8.84298851, 9.08103448]))"
      ]
     },
     "execution_count": 36,
     "metadata": {},
     "output_type": "execute_result"
    }
   ],
   "source": [
    "np.mean(bs_reps_1975), np.percentile(bs_reps_1975, [2.5, 97.5])"
   ]
  },
  {
   "cell_type": "code",
   "execution_count": 37,
   "metadata": {},
   "outputs": [
    {
     "data": {
      "text/plain": [
       "9.07837473262184"
      ]
     },
     "execution_count": 37,
     "metadata": {},
     "output_type": "execute_result"
    }
   ],
   "source": [
    "np.mean(bd_1975) + 1.96 * np.std(bd_1975) / np.sqrt(len(bd_1975))"
   ]
  },
  {
   "cell_type": "code",
   "execution_count": 38,
   "metadata": {},
   "outputs": [],
   "source": [
    "n_reps = 100000\n",
    "\n",
    "bs_reps_1975 = np.empty(n_reps)\n",
    "\n",
    "for i in range(n_reps):\n",
    "    bs_sample = np.random.choice(bd_1975, size=len(bd_1975))\n",
    "    bs_reps_1975[i] = np.std(bs_sample)"
   ]
  },
  {
   "cell_type": "code",
   "execution_count": 39,
   "metadata": {},
   "outputs": [
    {
     "data": {
      "application/vnd.vegalite.v2+json": {
       "$schema": "https://vega.github.io/schema/vega-lite/v2.4.3.json",
       "config": {
        "view": {
         "height": 300,
         "width": 400
        }
       },
       "data": {
        "values": [
         {
          "ECDF": 1e-05,
          "mean beak depth (mm)": 0.3847987808332345
         },
         {
          "ECDF": 0.01001,
          "mean beak depth (mm)": 0.46196310333043267
         },
         {
          "ECDF": 0.02001,
          "mean beak depth (mm)": 0.47307725316486754
         },
         {
          "ECDF": 0.03001,
          "mean beak depth (mm)": 0.4804257536217545
         },
         {
          "ECDF": 0.04001,
          "mean beak depth (mm)": 0.48591850363885436
         },
         {
          "ECDF": 0.05001,
          "mean beak depth (mm)": 0.4902469577008562
         },
         {
          "ECDF": 0.06001,
          "mean beak depth (mm)": 0.4940925963059983
         },
         {
          "ECDF": 0.07001,
          "mean beak depth (mm)": 0.4974433246876054
         },
         {
          "ECDF": 0.08001,
          "mean beak depth (mm)": 0.5003543730325165
         },
         {
          "ECDF": 0.09001,
          "mean beak depth (mm)": 0.5029755561593461
         },
         {
          "ECDF": 0.10001,
          "mean beak depth (mm)": 0.5055581151509221
         },
         {
          "ECDF": 0.11001,
          "mean beak depth (mm)": 0.5077662411855216
         },
         {
          "ECDF": 0.12001,
          "mean beak depth (mm)": 0.5098623327543804
         },
         {
          "ECDF": 0.13001,
          "mean beak depth (mm)": 0.511998872868359
         },
         {
          "ECDF": 0.14001,
          "mean beak depth (mm)": 0.5139254117489487
         },
         {
          "ECDF": 0.15001,
          "mean beak depth (mm)": 0.5156858090091515
         },
         {
          "ECDF": 0.16001,
          "mean beak depth (mm)": 0.5174540558932403
         },
         {
          "ECDF": 0.17001,
          "mean beak depth (mm)": 0.5191310564510319
         },
         {
          "ECDF": 0.18001,
          "mean beak depth (mm)": 0.5207421251886233
         },
         {
          "ECDF": 0.19001,
          "mean beak depth (mm)": 0.5223083868726308
         },
         {
          "ECDF": 0.20001,
          "mean beak depth (mm)": 0.5237796214267076
         },
         {
          "ECDF": 0.21001,
          "mean beak depth (mm)": 0.5252399435329227
         },
         {
          "ECDF": 0.22001,
          "mean beak depth (mm)": 0.5266583632452502
         },
         {
          "ECDF": 0.23001,
          "mean beak depth (mm)": 0.528073548487301
         },
         {
          "ECDF": 0.24001,
          "mean beak depth (mm)": 0.5294572287368442
         },
         {
          "ECDF": 0.25001,
          "mean beak depth (mm)": 0.5307939695177066
         },
         {
          "ECDF": 0.26001,
          "mean beak depth (mm)": 0.5320681088483207
         },
         {
          "ECDF": 0.27001,
          "mean beak depth (mm)": 0.5333790606635584
         },
         {
          "ECDF": 0.28001,
          "mean beak depth (mm)": 0.5346045096777025
         },
         {
          "ECDF": 0.29001,
          "mean beak depth (mm)": 0.535811104249602
         },
         {
          "ECDF": 0.30001,
          "mean beak depth (mm)": 0.537009550657796
         },
         {
          "ECDF": 0.31001,
          "mean beak depth (mm)": 0.5382178231489908
         },
         {
          "ECDF": 0.32001,
          "mean beak depth (mm)": 0.5394169231590303
         },
         {
          "ECDF": 0.33001,
          "mean beak depth (mm)": 0.5405845253178079
         },
         {
          "ECDF": 0.34001,
          "mean beak depth (mm)": 0.5417075901489627
         },
         {
          "ECDF": 0.35001,
          "mean beak depth (mm)": 0.5429134375391617
         },
         {
          "ECDF": 0.36001,
          "mean beak depth (mm)": 0.5440967745168457
         },
         {
          "ECDF": 0.37001,
          "mean beak depth (mm)": 0.5451499119292021
         },
         {
          "ECDF": 0.38001,
          "mean beak depth (mm)": 0.5462617527312591
         },
         {
          "ECDF": 0.39001,
          "mean beak depth (mm)": 0.5473037238120713
         },
         {
          "ECDF": 0.40001,
          "mean beak depth (mm)": 0.5483864078055009
         },
         {
          "ECDF": 0.41001,
          "mean beak depth (mm)": 0.5494320443964817
         },
         {
          "ECDF": 0.42001,
          "mean beak depth (mm)": 0.5504759827970804
         },
         {
          "ECDF": 0.43001,
          "mean beak depth (mm)": 0.5514895574105498
         },
         {
          "ECDF": 0.44001,
          "mean beak depth (mm)": 0.5526022705240129
         },
         {
          "ECDF": 0.45001,
          "mean beak depth (mm)": 0.5536728039084263
         },
         {
          "ECDF": 0.46001,
          "mean beak depth (mm)": 0.5547223372547141
         },
         {
          "ECDF": 0.47001,
          "mean beak depth (mm)": 0.5557525585442185
         },
         {
          "ECDF": 0.48001,
          "mean beak depth (mm)": 0.5567963208853958
         },
         {
          "ECDF": 0.49001,
          "mean beak depth (mm)": 0.5578582849008348
         },
         {
          "ECDF": 0.50001,
          "mean beak depth (mm)": 0.5588943797637765
         },
         {
          "ECDF": 0.51001,
          "mean beak depth (mm)": 0.5599031209256664
         },
         {
          "ECDF": 0.52001,
          "mean beak depth (mm)": 0.5609393486232962
         },
         {
          "ECDF": 0.53001,
          "mean beak depth (mm)": 0.5620239739414842
         },
         {
          "ECDF": 0.54001,
          "mean beak depth (mm)": 0.5630822260924779
         },
         {
          "ECDF": 0.55001,
          "mean beak depth (mm)": 0.5640800352496631
         },
         {
          "ECDF": 0.56001,
          "mean beak depth (mm)": 0.5651207609309679
         },
         {
          "ECDF": 0.57001,
          "mean beak depth (mm)": 0.5661714746644708
         },
         {
          "ECDF": 0.58001,
          "mean beak depth (mm)": 0.5672020971852924
         },
         {
          "ECDF": 0.59001,
          "mean beak depth (mm)": 0.5682517524551227
         },
         {
          "ECDF": 0.60001,
          "mean beak depth (mm)": 0.5693224237598574
         },
         {
          "ECDF": 0.61001,
          "mean beak depth (mm)": 0.5703780445927666
         },
         {
          "ECDF": 0.62001,
          "mean beak depth (mm)": 0.571378605104576
         },
         {
          "ECDF": 0.63001,
          "mean beak depth (mm)": 0.5724849007211508
         },
         {
          "ECDF": 0.64001,
          "mean beak depth (mm)": 0.5736344138431241
         },
         {
          "ECDF": 0.65001,
          "mean beak depth (mm)": 0.5747825474728476
         },
         {
          "ECDF": 0.66001,
          "mean beak depth (mm)": 0.575929470440079
         },
         {
          "ECDF": 0.67001,
          "mean beak depth (mm)": 0.5771022733920629
         },
         {
          "ECDF": 0.68001,
          "mean beak depth (mm)": 0.5782371924735364
         },
         {
          "ECDF": 0.69001,
          "mean beak depth (mm)": 0.579446503794507
         },
         {
          "ECDF": 0.70001,
          "mean beak depth (mm)": 0.5805892651730585
         },
         {
          "ECDF": 0.71001,
          "mean beak depth (mm)": 0.5817661411976425
         },
         {
          "ECDF": 0.72001,
          "mean beak depth (mm)": 0.5829874632863518
         },
         {
          "ECDF": 0.73001,
          "mean beak depth (mm)": 0.5842378017191204
         },
         {
          "ECDF": 0.74001,
          "mean beak depth (mm)": 0.5854803024599847
         },
         {
          "ECDF": 0.75001,
          "mean beak depth (mm)": 0.586723234400323
         },
         {
          "ECDF": 0.76001,
          "mean beak depth (mm)": 0.5880124998334344
         },
         {
          "ECDF": 0.77001,
          "mean beak depth (mm)": 0.589312485844078
         },
         {
          "ECDF": 0.78001,
          "mean beak depth (mm)": 0.5906597836743287
         },
         {
          "ECDF": 0.79001,
          "mean beak depth (mm)": 0.5920562348984019
         },
         {
          "ECDF": 0.80001,
          "mean beak depth (mm)": 0.5934293633627312
         },
         {
          "ECDF": 0.81001,
          "mean beak depth (mm)": 0.5948963811625128
         },
         {
          "ECDF": 0.82001,
          "mean beak depth (mm)": 0.596384624350078
         },
         {
          "ECDF": 0.83001,
          "mean beak depth (mm)": 0.5978418269460922
         },
         {
          "ECDF": 0.84001,
          "mean beak depth (mm)": 0.5994229179706536
         },
         {
          "ECDF": 0.85001,
          "mean beak depth (mm)": 0.6010947207038388
         },
         {
          "ECDF": 0.86001,
          "mean beak depth (mm)": 0.6029791279764727
         },
         {
          "ECDF": 0.87001,
          "mean beak depth (mm)": 0.6048288531509642
         },
         {
          "ECDF": 0.88001,
          "mean beak depth (mm)": 0.6068435408753455
         },
         {
          "ECDF": 0.89001,
          "mean beak depth (mm)": 0.6088300791404918
         },
         {
          "ECDF": 0.90001,
          "mean beak depth (mm)": 0.6111081660770508
         },
         {
          "ECDF": 0.91001,
          "mean beak depth (mm)": 0.6135121402665631
         },
         {
          "ECDF": 0.92001,
          "mean beak depth (mm)": 0.6160462969872542
         },
         {
          "ECDF": 0.93001,
          "mean beak depth (mm)": 0.6189274687075023
         },
         {
          "ECDF": 0.94001,
          "mean beak depth (mm)": 0.622217850521607
         },
         {
          "ECDF": 0.95001,
          "mean beak depth (mm)": 0.6259272629988248
         },
         {
          "ECDF": 0.96001,
          "mean beak depth (mm)": 0.6299039555852858
         },
         {
          "ECDF": 0.97001,
          "mean beak depth (mm)": 0.635067571563722
         },
         {
          "ECDF": 0.98001,
          "mean beak depth (mm)": 0.6418171166745561
         },
         {
          "ECDF": 0.99001,
          "mean beak depth (mm)": 0.6522037603483679
         }
        ]
       },
       "encoding": {
        "x": {
         "field": "mean beak depth (mm)",
         "scale": {
          "zero": false
         },
         "type": "quantitative"
        },
        "y": {
         "field": "ECDF",
         "type": "quantitative"
        }
       },
       "mark": "point"
      },
      "image/png": "[encoded data removed]",
      "text/plain": [
       "<VegaLite 2 object>\n",
       "\n",
       "If you see this message, it means the renderer has not been properly enabled\n",
       "for the frontend that you are using. For more information, see\n",
       "https://altair-viz.github.io/user_guide/troubleshooting.html\n"
      ]
     },
     "execution_count": 39,
     "metadata": {},
     "output_type": "execute_result"
    }
   ],
   "source": [
    "x, y = bootcamp_utils.ecdf_vals(bs_reps_1975)\n",
    "\n",
    "df_ecdf = pd.DataFrame(data={'mean beak depth (mm)': x[::1000],\n",
    "                            'ECDF': y[::1000]})\n",
    "\n",
    "alt.Chart(df_ecdf\n",
    "         ).mark_point(\n",
    "    ).encode(\n",
    "        x=alt.X('mean beak depth (mm):Q', scale=alt.Scale(zero=False)),\n",
    "        y='ECDF:Q'\n",
    ")\n"
   ]
  },
  {
   "cell_type": "code",
   "execution_count": 40,
   "metadata": {},
   "outputs": [
    {
     "data": {
      "text/plain": [
       "(0.5585502747365425, array([0.47705231, 0.63812523]))"
      ]
     },
     "execution_count": 40,
     "metadata": {},
     "output_type": "execute_result"
    }
   ],
   "source": [
    "np.mean(bs_reps_1975), np.percentile(bs_reps_1975, [2.5, 97.5])"
   ]
  },
  {
   "cell_type": "code",
   "execution_count": null,
   "metadata": {},
   "outputs": [],
   "source": []
  },
  {
   "cell_type": "code",
   "execution_count": null,
   "metadata": {},
   "outputs": [],
   "source": []
  }
 ],
 "metadata": {
  "kernelspec": {
   "display_name": "Python 3",
   "language": "python",
   "name": "python3"
  },
  "language_info": {
   "codemirror_mode": {
    "name": "ipython",
    "version": 3
   },
   "file_extension": ".py",
   "mimetype": "text/x-python",
   "name": "python",
   "nbconvert_exporter": "python",
   "pygments_lexer": "ipython3",
   "version": "3.6.5"
  }
 },
 "nbformat": 4,
 "nbformat_minor": 2
}
