{
 "cells": [
  {
   "cell_type": "code",
   "execution_count": 1,
   "metadata": {},
   "outputs": [],
   "source": [
    "import numpy as np\n",
    "import pandas as pd\n",
    "\n",
    "# We'll use scipy.optimize.curve_fit to do the nonlinear regression\n",
    "import scipy.optimize\n",
    "\n",
    "import altair as alt"
   ]
  },
  {
   "cell_type": "code",
   "execution_count": 2,
   "metadata": {},
   "outputs": [
    {
     "data": {
      "text/plain": [
       "'/Users/michaelpiacentino/git/bootcamp'"
      ]
     },
     "execution_count": 2,
     "metadata": {},
     "output_type": "execute_result"
    }
   ],
   "source": [
    "pwd"
   ]
  },
  {
   "cell_type": "code",
   "execution_count": 3,
   "metadata": {},
   "outputs": [
    {
     "name": "stdout",
     "output_type": "stream",
     "text": [
      "# Data taken from Fig. 3A of Driever and Nuesslein-Volhard, Cell,\n",
      "# 54, 95-104, 1988.  This is the normalized immunostain intensity\n",
      "# as a function of distance along the A-P axis in a wild type\n",
      "# embryo.\n",
      "fractional distance from anterior,[bcd] (a.u.)\n",
      "0.0026446672455988007,0.86309692805632854\n",
      "0.034222783610957611,0.86309692805632854\n",
      "0.068445567221915221,0.74572710237919493\n",
      "0.10262887818741613,0.65487479416273942\n",
      "0.13420699455277493,0.54511384929873385\n"
     ]
    }
   ],
   "source": [
    "!head data/bcd_gradient.csv"
   ]
  },
  {
   "cell_type": "code",
   "execution_count": 12,
   "metadata": {},
   "outputs": [
    {
     "data": {
      "text/html": [
       "<div>\n",
       "<style scoped>\n",
       "    .dataframe tbody tr th:only-of-type {\n",
       "        vertical-align: middle;\n",
       "    }\n",
       "\n",
       "    .dataframe tbody tr th {\n",
       "        vertical-align: top;\n",
       "    }\n",
       "\n",
       "    .dataframe thead th {\n",
       "        text-align: right;\n",
       "    }\n",
       "</style>\n",
       "<table border=\"1\" class=\"dataframe\">\n",
       "  <thead>\n",
       "    <tr style=\"text-align: right;\">\n",
       "      <th></th>\n",
       "      <th>fractional distance from anterior</th>\n",
       "      <th>[bcd] (a.u.)</th>\n",
       "    </tr>\n",
       "  </thead>\n",
       "  <tbody>\n",
       "    <tr>\n",
       "      <th>0</th>\n",
       "      <td>0.002645</td>\n",
       "      <td>0.863097</td>\n",
       "    </tr>\n",
       "    <tr>\n",
       "      <th>1</th>\n",
       "      <td>0.034223</td>\n",
       "      <td>0.863097</td>\n",
       "    </tr>\n",
       "    <tr>\n",
       "      <th>2</th>\n",
       "      <td>0.068446</td>\n",
       "      <td>0.745727</td>\n",
       "    </tr>\n",
       "    <tr>\n",
       "      <th>3</th>\n",
       "      <td>0.102629</td>\n",
       "      <td>0.654875</td>\n",
       "    </tr>\n",
       "    <tr>\n",
       "      <th>4</th>\n",
       "      <td>0.134207</td>\n",
       "      <td>0.545114</td>\n",
       "    </tr>\n",
       "  </tbody>\n",
       "</table>\n",
       "</div>"
      ],
      "text/plain": [
       "   fractional distance from anterior  [bcd] (a.u.)\n",
       "0                           0.002645      0.863097\n",
       "1                           0.034223      0.863097\n",
       "2                           0.068446      0.745727\n",
       "3                           0.102629      0.654875\n",
       "4                           0.134207      0.545114"
      ]
     },
     "execution_count": 12,
     "metadata": {},
     "output_type": "execute_result"
    }
   ],
   "source": [
    "# Import data set\n",
    "df = pd.read_csv('data/bcd_gradient.csv', comment='#')\n",
    "\n",
    "# Inspect DataFrame\n",
    "df.head()"
   ]
  },
  {
   "cell_type": "code",
   "execution_count": 6,
   "metadata": {},
   "outputs": [
    {
     "data": {
      "text/plain": [
       "28"
      ]
     },
     "execution_count": 6,
     "metadata": {},
     "output_type": "execute_result"
    }
   ],
   "source": [
    "len(df)"
   ]
  },
  {
   "cell_type": "code",
   "execution_count": 13,
   "metadata": {},
   "outputs": [
    {
     "data": {
      "text/html": [
       "<div>\n",
       "<style scoped>\n",
       "    .dataframe tbody tr th:only-of-type {\n",
       "        vertical-align: middle;\n",
       "    }\n",
       "\n",
       "    .dataframe tbody tr th {\n",
       "        vertical-align: top;\n",
       "    }\n",
       "\n",
       "    .dataframe thead th {\n",
       "        text-align: right;\n",
       "    }\n",
       "</style>\n",
       "<table border=\"1\" class=\"dataframe\">\n",
       "  <thead>\n",
       "    <tr style=\"text-align: right;\">\n",
       "      <th></th>\n",
       "      <th>fractional distance from anterior</th>\n",
       "      <th>bcd</th>\n",
       "    </tr>\n",
       "  </thead>\n",
       "  <tbody>\n",
       "    <tr>\n",
       "      <th>0</th>\n",
       "      <td>0.002645</td>\n",
       "      <td>0.863097</td>\n",
       "    </tr>\n",
       "    <tr>\n",
       "      <th>1</th>\n",
       "      <td>0.034223</td>\n",
       "      <td>0.863097</td>\n",
       "    </tr>\n",
       "    <tr>\n",
       "      <th>2</th>\n",
       "      <td>0.068446</td>\n",
       "      <td>0.745727</td>\n",
       "    </tr>\n",
       "    <tr>\n",
       "      <th>3</th>\n",
       "      <td>0.102629</td>\n",
       "      <td>0.654875</td>\n",
       "    </tr>\n",
       "    <tr>\n",
       "      <th>4</th>\n",
       "      <td>0.134207</td>\n",
       "      <td>0.545114</td>\n",
       "    </tr>\n",
       "  </tbody>\n",
       "</table>\n",
       "</div>"
      ],
      "text/plain": [
       "   fractional distance from anterior       bcd\n",
       "0                           0.002645  0.863097\n",
       "1                           0.034223  0.863097\n",
       "2                           0.068446  0.745727\n",
       "3                           0.102629  0.654875\n",
       "4                           0.134207  0.545114"
      ]
     },
     "execution_count": 13,
     "metadata": {},
     "output_type": "execute_result"
    }
   ],
   "source": [
    "# rename to get rid of brackets\n",
    "df = df.rename(columns={'[bcd] (a.u.)': 'bcd'})\n",
    "df.head()"
   ]
  },
  {
   "cell_type": "code",
   "execution_count": 21,
   "metadata": {},
   "outputs": [
    {
     "data": {
      "application/vnd.vegalite.v2+json": {
       "$schema": "https://vega.github.io/schema/vega-lite/v2.4.3.json",
       "config": {
        "view": {
         "height": 300,
         "width": 400
        }
       },
       "data": {
        "values": [
         {
          "bcd": 0.8630969280563285,
          "fractional distance from anterior": 0.002644667245598801
         },
         {
          "bcd": 0.8630969280563285,
          "fractional distance from anterior": 0.034222783610957604
         },
         {
          "bcd": 0.7457271023791949,
          "fractional distance from anterior": 0.06844556722191521
         },
         {
          "bcd": 0.6548747941627394,
          "fractional distance from anterior": 0.10262887818741613
         },
         {
          "bcd": 0.5451138492987339,
          "fractional distance from anterior": 0.13420699455277493
         },
         {
          "bcd": 0.469365737323264,
          "fractional distance from anterior": 0.17107444540933134
         },
         {
          "bcd": 0.42393958321503616,
          "fractional distance from anterior": 0.20525775637483226
         },
         {
          "bcd": 0.3823178695133724,
          "fractional distance from anterior": 0.23948053998578986
         },
         {
          "bcd": 0.3444438135256374,
          "fractional distance from anterior": 0.2737033235967475
         },
         {
          "bcd": 0.28391346317642385,
          "fractional distance from anterior": 0.3078866345622484
         },
         {
          "bcd": 0.2649480438362388,
          "fractional distance from anterior": 0.342109418173206
         },
         {
          "bcd": 0.29527000170348083,
          "fractional distance from anterior": 0.37893739638430574
         },
         {
          "bcd": 0.2498438475952531,
          "fractional distance from anterior": 0.4105155127496644
         },
         {
          "bcd": 0.22713077054113914,
          "fractional distance from anterior": 0.4473829636062209
         },
         {
          "bcd": 0.2422349667821249,
          "fractional distance from anterior": 0.4815662745717218
         },
         {
          "bcd": 0.21577423201408216,
          "fractional distance from anterior": 0.5157890581826794
         },
         {
          "bcd": 0.2308784282550679,
          "fractional distance from anterior": 0.550011841793637
         },
         {
          "bcd": 0.22713077054113914,
          "fractional distance from anterior": 0.5868398200047367
         },
         {
          "bcd": 0.208165351200954,
          "fractional distance from anterior": 0.6210626036156943
         },
         {
          "bcd": 0.2044176934870252,
          "fractional distance from anterior": 0.6552459145811952
         },
         {
          "bcd": 0.1817046164329113,
          "fractional distance from anterior": 0.6894686981921528
         },
         {
          "bcd": 0.19680881267389705,
          "fractional distance from anterior": 0.7236914818031106
         },
         {
          "bcd": 0.2006132530804612,
          "fractional distance from anterior": 0.7578747927686114
         },
         {
          "bcd": 0.1817046164329113,
          "fractional distance from anterior": 0.792097576379569
         },
         {
          "bcd": 0.17790017602634725,
          "fractional distance from anterior": 0.8263203599905266
         },
         {
          "bcd": 0.1817046164329113,
          "fractional distance from anterior": 0.8605036709560274
         },
         {
          "bcd": 0.18925671455340426,
          "fractional distance from anterior": 0.894726454566985
         },
         {
          "bcd": 0.17790017602634725,
          "fractional distance from anterior": 0.9657772163890423
         }
        ]
       },
       "encoding": {
        "x": {
         "field": "fractional distance from anterior",
         "type": "quantitative"
        },
        "y": {
         "field": "bcd",
         "scale": {
          "domain": [
           0,
           1
          ]
         },
         "title": "[Bcd] (a.u.)",
         "type": "quantitative"
        }
       },
       "mark": {
        "filled": true,
        "opacity": 0.8,
        "size": 60,
        "type": "point"
       }
      },
      "image/png": "[encoded data removed]",
      "text/plain": [
       "<VegaLite 2 object>\n",
       "\n",
       "If you see this message, it means the renderer has not been properly enabled\n",
       "for the frontend that you are using. For more information, see\n",
       "https://altair-viz.github.io/user_guide/troubleshooting.html\n"
      ]
     },
     "execution_count": 21,
     "metadata": {},
     "output_type": "execute_result"
    }
   ],
   "source": [
    "dots = alt.Chart(df\n",
    "    ).mark_point(\n",
    "        filled=True,\n",
    "        size=60,\n",
    "        opacity=0.8\n",
    "    ).encode(\n",
    "        x='fractional distance from anterior:Q',\n",
    "        y=alt.Y('bcd:Q', \n",
    "                title='[Bcd] (a.u.)', \n",
    "                scale=alt.Scale(domain=[0, 1]))\n",
    "    )\n",
    "\n",
    "dots"
   ]
  },
  {
   "cell_type": "markdown",
   "metadata": {},
   "source": [
    "We observe some noise and the staining intensity at the level of ~0.2 au"
   ]
  },
  {
   "cell_type": "code",
   "execution_count": 50,
   "metadata": {},
   "outputs": [],
   "source": [
    "def bcd_gradient_model_first_try(x, I_0, a, lam):\n",
    "    return a + I_0 * np.exp(-x/lam)\n",
    "#but... we might have some errors, for example, we can't have a negative concentration and this won't check for that"
   ]
  },
  {
   "cell_type": "code",
   "execution_count": 51,
   "metadata": {},
   "outputs": [],
   "source": [
    "def bcd_gradient_model(x, I_0, a, lam):\n",
    "    if np.any(x < 0):\n",
    "        raise RuntimeError('All values of \"x\" must be >= zero.')\n",
    "    if np.any(np.array([I_0, a, lam]) < 0):\n",
    "        raise RuntimeError('All parameters must be >= zero.')\n",
    "        \n",
    "    return a + I_0 * np.exp(-x/lam)"
   ]
  },
  {
   "cell_type": "code",
   "execution_count": 52,
   "metadata": {},
   "outputs": [
    {
     "data": {
      "text/plain": [
       "array([0.7, 0.2, 1. ])"
      ]
     },
     "execution_count": 52,
     "metadata": {},
     "output_type": "execute_result"
    }
   ],
   "source": [
    "# Specify initial guesses\n",
    "I_0_guess = 0.7\n",
    "a_guess = 0.2\n",
    "lam_guess = 1.0\n",
    "\n",
    "p0 = np.array([I_0_guess, a_guess, lam_guess])\n",
    "p0"
   ]
  },
  {
   "cell_type": "code",
   "execution_count": 53,
   "metadata": {},
   "outputs": [
    {
     "ename": "RuntimeError",
     "evalue": "All parameters must be >= zero.",
     "output_type": "error",
     "traceback": [
      "\u001b[0;31m---------------------------------------------------------------------------\u001b[0m",
      "\u001b[0;31mRuntimeError\u001b[0m                              Traceback (most recent call last)",
      "\u001b[0;32m<ipython-input-53-aac1211b4025>\u001b[0m in \u001b[0;36m<module>\u001b[0;34m()\u001b[0m\n\u001b[1;32m      4\u001b[0m                                   \u001b[0mdf\u001b[0m\u001b[0;34m[\u001b[0m\u001b[0;34m'fractional distance from anterior'\u001b[0m\u001b[0;34m]\u001b[0m\u001b[0;34m,\u001b[0m\u001b[0;34m\u001b[0m\u001b[0m\n\u001b[1;32m      5\u001b[0m                                   \u001b[0mdf\u001b[0m\u001b[0;34m[\u001b[0m\u001b[0;34m'bcd'\u001b[0m\u001b[0;34m]\u001b[0m\u001b[0;34m,\u001b[0m\u001b[0;34m\u001b[0m\u001b[0m\n\u001b[0;32m----> 6\u001b[0;31m                                   p0=p0)\n\u001b[0m",
      "\u001b[0;32m/anaconda3/lib/python3.6/site-packages/scipy/optimize/minpack.py\u001b[0m in \u001b[0;36mcurve_fit\u001b[0;34m(f, xdata, ydata, p0, sigma, absolute_sigma, check_finite, bounds, method, jac, **kwargs)\u001b[0m\n\u001b[1;32m    749\u001b[0m         \u001b[0;31m# Remove full_output from kwargs, otherwise we're passing it in twice.\u001b[0m\u001b[0;34m\u001b[0m\u001b[0;34m\u001b[0m\u001b[0m\n\u001b[1;32m    750\u001b[0m         \u001b[0mreturn_full\u001b[0m \u001b[0;34m=\u001b[0m \u001b[0mkwargs\u001b[0m\u001b[0;34m.\u001b[0m\u001b[0mpop\u001b[0m\u001b[0;34m(\u001b[0m\u001b[0;34m'full_output'\u001b[0m\u001b[0;34m,\u001b[0m \u001b[0;32mFalse\u001b[0m\u001b[0;34m)\u001b[0m\u001b[0;34m\u001b[0m\u001b[0m\n\u001b[0;32m--> 751\u001b[0;31m         \u001b[0mres\u001b[0m \u001b[0;34m=\u001b[0m \u001b[0mleastsq\u001b[0m\u001b[0;34m(\u001b[0m\u001b[0mfunc\u001b[0m\u001b[0;34m,\u001b[0m \u001b[0mp0\u001b[0m\u001b[0;34m,\u001b[0m \u001b[0mDfun\u001b[0m\u001b[0;34m=\u001b[0m\u001b[0mjac\u001b[0m\u001b[0;34m,\u001b[0m \u001b[0mfull_output\u001b[0m\u001b[0;34m=\u001b[0m\u001b[0;36m1\u001b[0m\u001b[0;34m,\u001b[0m \u001b[0;34m**\u001b[0m\u001b[0mkwargs\u001b[0m\u001b[0;34m)\u001b[0m\u001b[0;34m\u001b[0m\u001b[0m\n\u001b[0m\u001b[1;32m    752\u001b[0m         \u001b[0mpopt\u001b[0m\u001b[0;34m,\u001b[0m \u001b[0mpcov\u001b[0m\u001b[0;34m,\u001b[0m \u001b[0minfodict\u001b[0m\u001b[0;34m,\u001b[0m \u001b[0merrmsg\u001b[0m\u001b[0;34m,\u001b[0m \u001b[0mier\u001b[0m \u001b[0;34m=\u001b[0m \u001b[0mres\u001b[0m\u001b[0;34m\u001b[0m\u001b[0m\n\u001b[1;32m    753\u001b[0m         \u001b[0mcost\u001b[0m \u001b[0;34m=\u001b[0m \u001b[0mnp\u001b[0m\u001b[0;34m.\u001b[0m\u001b[0msum\u001b[0m\u001b[0;34m(\u001b[0m\u001b[0minfodict\u001b[0m\u001b[0;34m[\u001b[0m\u001b[0;34m'fvec'\u001b[0m\u001b[0;34m]\u001b[0m \u001b[0;34m**\u001b[0m \u001b[0;36m2\u001b[0m\u001b[0;34m)\u001b[0m\u001b[0;34m\u001b[0m\u001b[0m\n",
      "\u001b[0;32m/anaconda3/lib/python3.6/site-packages/scipy/optimize/minpack.py\u001b[0m in \u001b[0;36mleastsq\u001b[0;34m(func, x0, args, Dfun, full_output, col_deriv, ftol, xtol, gtol, maxfev, epsfcn, factor, diag)\u001b[0m\n\u001b[1;32m    392\u001b[0m         \u001b[0;32mwith\u001b[0m \u001b[0m_MINPACK_LOCK\u001b[0m\u001b[0;34m:\u001b[0m\u001b[0;34m\u001b[0m\u001b[0m\n\u001b[1;32m    393\u001b[0m             retval = _minpack._lmdif(func, x0, args, full_output, ftol, xtol,\n\u001b[0;32m--> 394\u001b[0;31m                                      gtol, maxfev, epsfcn, factor, diag)\n\u001b[0m\u001b[1;32m    395\u001b[0m     \u001b[0;32melse\u001b[0m\u001b[0;34m:\u001b[0m\u001b[0;34m\u001b[0m\u001b[0m\n\u001b[1;32m    396\u001b[0m         \u001b[0;32mif\u001b[0m \u001b[0mcol_deriv\u001b[0m\u001b[0;34m:\u001b[0m\u001b[0;34m\u001b[0m\u001b[0m\n",
      "\u001b[0;32m/anaconda3/lib/python3.6/site-packages/scipy/optimize/minpack.py\u001b[0m in \u001b[0;36mfunc_wrapped\u001b[0;34m(params)\u001b[0m\n\u001b[1;32m    461\u001b[0m     \u001b[0;32mif\u001b[0m \u001b[0mtransform\u001b[0m \u001b[0;32mis\u001b[0m \u001b[0;32mNone\u001b[0m\u001b[0;34m:\u001b[0m\u001b[0;34m\u001b[0m\u001b[0m\n\u001b[1;32m    462\u001b[0m         \u001b[0;32mdef\u001b[0m \u001b[0mfunc_wrapped\u001b[0m\u001b[0;34m(\u001b[0m\u001b[0mparams\u001b[0m\u001b[0;34m)\u001b[0m\u001b[0;34m:\u001b[0m\u001b[0;34m\u001b[0m\u001b[0m\n\u001b[0;32m--> 463\u001b[0;31m             \u001b[0;32mreturn\u001b[0m \u001b[0mfunc\u001b[0m\u001b[0;34m(\u001b[0m\u001b[0mxdata\u001b[0m\u001b[0;34m,\u001b[0m \u001b[0;34m*\u001b[0m\u001b[0mparams\u001b[0m\u001b[0;34m)\u001b[0m \u001b[0;34m-\u001b[0m \u001b[0mydata\u001b[0m\u001b[0;34m\u001b[0m\u001b[0m\n\u001b[0m\u001b[1;32m    464\u001b[0m     \u001b[0;32melif\u001b[0m \u001b[0mtransform\u001b[0m\u001b[0;34m.\u001b[0m\u001b[0mndim\u001b[0m \u001b[0;34m==\u001b[0m \u001b[0;36m1\u001b[0m\u001b[0;34m:\u001b[0m\u001b[0;34m\u001b[0m\u001b[0m\n\u001b[1;32m    465\u001b[0m         \u001b[0;32mdef\u001b[0m \u001b[0mfunc_wrapped\u001b[0m\u001b[0;34m(\u001b[0m\u001b[0mparams\u001b[0m\u001b[0;34m)\u001b[0m\u001b[0;34m:\u001b[0m\u001b[0;34m\u001b[0m\u001b[0m\n",
      "\u001b[0;32m<ipython-input-51-fe72e28dcea1>\u001b[0m in \u001b[0;36mbcd_gradient_model\u001b[0;34m(x, I_0, a, lam)\u001b[0m\n\u001b[1;32m      3\u001b[0m         \u001b[0;32mraise\u001b[0m \u001b[0mRuntimeError\u001b[0m\u001b[0;34m(\u001b[0m\u001b[0;34m'All values of \"x\" must be >= zero.'\u001b[0m\u001b[0;34m)\u001b[0m\u001b[0;34m\u001b[0m\u001b[0m\n\u001b[1;32m      4\u001b[0m     \u001b[0;32mif\u001b[0m \u001b[0mnp\u001b[0m\u001b[0;34m.\u001b[0m\u001b[0many\u001b[0m\u001b[0;34m(\u001b[0m\u001b[0mnp\u001b[0m\u001b[0;34m.\u001b[0m\u001b[0marray\u001b[0m\u001b[0;34m(\u001b[0m\u001b[0;34m[\u001b[0m\u001b[0mI_0\u001b[0m\u001b[0;34m,\u001b[0m \u001b[0ma\u001b[0m\u001b[0;34m,\u001b[0m \u001b[0mlam\u001b[0m\u001b[0;34m]\u001b[0m\u001b[0;34m)\u001b[0m \u001b[0;34m<\u001b[0m \u001b[0;36m0\u001b[0m\u001b[0;34m)\u001b[0m\u001b[0;34m:\u001b[0m\u001b[0;34m\u001b[0m\u001b[0m\n\u001b[0;32m----> 5\u001b[0;31m         \u001b[0;32mraise\u001b[0m \u001b[0mRuntimeError\u001b[0m\u001b[0;34m(\u001b[0m\u001b[0;34m'All parameters must be >= zero.'\u001b[0m\u001b[0;34m)\u001b[0m\u001b[0;34m\u001b[0m\u001b[0m\n\u001b[0m\u001b[1;32m      6\u001b[0m \u001b[0;34m\u001b[0m\u001b[0m\n\u001b[1;32m      7\u001b[0m     \u001b[0;32mreturn\u001b[0m \u001b[0ma\u001b[0m \u001b[0;34m+\u001b[0m \u001b[0mI_0\u001b[0m \u001b[0;34m*\u001b[0m \u001b[0mnp\u001b[0m\u001b[0;34m.\u001b[0m\u001b[0mexp\u001b[0m\u001b[0;34m(\u001b[0m\u001b[0;34m-\u001b[0m\u001b[0mx\u001b[0m\u001b[0;34m/\u001b[0m\u001b[0mlam\u001b[0m\u001b[0;34m)\u001b[0m\u001b[0;34m\u001b[0m\u001b[0m\n",
      "\u001b[0;31mRuntimeError\u001b[0m: All parameters must be >= zero."
     ]
    }
   ],
   "source": [
    "# If you put an underscore in Python means \"I'm aware this will be assigned but I want to ignore it\", and in this case\n",
    "# we want to ignore the 2nd output of the function\n",
    "popt, _ = scipy.optimize.curve_fit(bcd_gradient_model,\n",
    "                                  df['fractional distance from anterior'],\n",
    "                                  df['bcd'],\n",
    "                                  p0=p0)"
   ]
  },
  {
   "cell_type": "code",
   "execution_count": 54,
   "metadata": {},
   "outputs": [
    {
     "data": {
      "text/plain": [
       "array([0.76762162, 0.17423312, 0.18712895])"
      ]
     },
     "execution_count": 54,
     "metadata": {},
     "output_type": "execute_result"
    }
   ],
   "source": [
    "# With our error message, it goes into the negative space which is impossible and gives us a RuntimeError\n",
    "\n",
    "# If you put an underscore in Python means \"I'm aware this will be assigned but I want to ignore it\", and in this case\n",
    "# we want to ignore the 2nd output of the function\n",
    "popt, _ = scipy.optimize.curve_fit(bcd_gradient_model_first_try,\n",
    "                                  df['fractional distance from anterior'],\n",
    "                                  df['bcd'],\n",
    "                                  p0=p0)\n",
    "popt"
   ]
  },
  {
   "cell_type": "code",
   "execution_count": 59,
   "metadata": {},
   "outputs": [],
   "source": [
    "# However, if we use our test-free function, it gives us a result that's actually ok, but that works out for this data rather\n",
    "# but other datasets might return a negative number\n",
    "# Justin likes to write things in terms of the log of the parameters, because now they will be exponentiated into a \n",
    "# positive number and therefore safeguards against negatives\n",
    "\n",
    "def bcd_gradient_model_log_params(x, log_I_0, log_a, log_lam):\n",
    "    #Exponentiate the parameters\n",
    "    I_0, a, lam = np.exp(np.array([log_I_0, log_a, log_lam]))\n",
    "    \n",
    "    return bcd_gradient_model(x, I_0, a, lam)"
   ]
  },
  {
   "cell_type": "code",
   "execution_count": 60,
   "metadata": {},
   "outputs": [
    {
     "data": {
      "text/plain": [
       "array([0.76762142, 0.17423289, 0.18712931])"
      ]
     },
     "execution_count": 60,
     "metadata": {},
     "output_type": "execute_result"
    }
   ],
   "source": [
    "log_p0 = np.log(p0)\n",
    "\n",
    "log_popt, _ = scipy.optimize.curve_fit(bcd_gradient_model_log_params,\n",
    "                                      df['fractional distance from anterior'],\n",
    "                                      df['bcd'],\n",
    "                                      p0=log_p0)\n",
    "\n",
    "popt = np.exp(log_popt)\n",
    "popt"
   ]
  },
  {
   "cell_type": "code",
   "execution_count": 65,
   "metadata": {},
   "outputs": [
    {
     "data": {
      "application/vnd.vegalite.v2+json": {
       "$schema": "https://vega.github.io/schema/vega-lite/v2.4.3.json",
       "config": {
        "view": {
         "height": 300,
         "width": 400
        }
       },
       "layer": [
        {
         "data": {
          "values": [
           {
            "bcd": 0.9418543110302738,
            "x": 0
           },
           {
            "bcd": 0.9316419225792925,
            "x": 0.002506265664160401
           },
           {
            "bcd": 0.9215653991192277,
            "x": 0.005012531328320802
           },
           {
            "bcd": 0.9116229331105558,
            "x": 0.007518796992481203
           },
           {
            "bcd": 0.9018127410611483,
            "x": 0.010025062656641603
           },
           {
            "bcd": 0.8921330632063466,
            "x": 0.012531328320802004
           },
           {
            "bcd": 0.8825821631932937,
            "x": 0.015037593984962405
           },
           {
            "bcd": 0.8731583277694648,
            "x": 0.017543859649122806
           },
           {
            "bcd": 0.8638598664753415,
            "x": 0.020050125313283207
           },
           {
            "bcd": 0.8546851113411755,
            "x": 0.022556390977443608
           },
           {
            "bcd": 0.8456324165877863,
            "x": 0.02506265664160401
           },
           {
            "bcd": 0.8367001583313384,
            "x": 0.02756892230576441
           },
           {
            "bcd": 0.8278867342920474,
            "x": 0.03007518796992481
           },
           {
            "bcd": 0.8191905635067617,
            "x": 0.03258145363408521
           },
           {
            "bcd": 0.8106100860453662,
            "x": 0.03508771929824561
           },
           {
            "bcd": 0.8021437627309607,
            "x": 0.03759398496240601
           },
           {
            "bcd": 0.7937900748637602,
            "x": 0.040100250626566414
           },
           {
            "bcd": 0.7855475239486691,
            "x": 0.042606516290726815
           },
           {
            "bcd": 0.7774146314264782,
            "x": 0.045112781954887216
           },
           {
            "bcd": 0.7693899384086399,
            "x": 0.047619047619047616
           },
           {
            "bcd": 0.7614720054155706,
            "x": 0.05012531328320802
           },
           {
            "bcd": 0.7536594121184348,
            "x": 0.05263157894736842
           },
           {
            "bcd": 0.7459507570843651,
            "x": 0.05513784461152882
           },
           {
            "bcd": 0.7383446575250708,
            "x": 0.05764411027568922
           },
           {
            "bcd": 0.7308397490487926,
            "x": 0.06015037593984962
           },
           {
            "bcd": 0.723434685415555,
            "x": 0.06265664160401002
           },
           {
            "bcd": 0.7161281382956773,
            "x": 0.06516290726817042
           },
           {
            "bcd": 0.7089187970314952,
            "x": 0.06766917293233082
           },
           {
            "bcd": 0.7018053684022539,
            "x": 0.07017543859649122
           },
           {
            "bcd": 0.6947865763921284,
            "x": 0.07268170426065163
           },
           {
            "bcd": 0.6878611619613298,
            "x": 0.07518796992481203
           },
           {
            "bcd": 0.6810278828202584,
            "x": 0.07769423558897243
           },
           {
            "bcd": 0.6742855132066581,
            "x": 0.08020050125313283
           },
           {
            "bcd": 0.6676328436657396,
            "x": 0.08270676691729323
           },
           {
            "bcd": 0.661068680833226,
            "x": 0.08521303258145363
           },
           {
            "bcd": 0.6545918472212855,
            "x": 0.08771929824561403
           },
           {
            "bcd": 0.6482011810073125,
            "x": 0.09022556390977443
           },
           {
            "bcd": 0.6418955358255183,
            "x": 0.09273182957393483
           },
           {
            "bcd": 0.6356737805612941,
            "x": 0.09523809523809523
           },
           {
            "bcd": 0.6295347991483113,
            "x": 0.09774436090225563
           },
           {
            "bcd": 0.6234774903683187,
            "x": 0.10025062656641603
           },
           {
            "bcd": 0.6175007676536061,
            "x": 0.10275689223057644
           },
           {
            "bcd": 0.6116035588920925,
            "x": 0.10526315789473684
           },
           {
            "bcd": 0.6057848062350117,
            "x": 0.10776942355889724
           },
           {
            "bcd": 0.6000434659071519,
            "x": 0.11027568922305764
           },
           {
            "bcd": 0.5943785080196231,
            "x": 0.11278195488721804
           },
           {
            "bcd": 0.5887889163851139,
            "x": 0.11528822055137844
           },
           {
            "bcd": 0.583273688335607,
            "x": 0.11779448621553884
           },
           {
            "bcd": 0.5778318345425186,
            "x": 0.12030075187969924
           },
           {
            "bcd": 0.5724623788392323,
            "x": 0.12280701754385964
           },
           {
            "bcd": 0.5671643580459924,
            "x": 0.12531328320802004
           },
           {
            "bcd": 0.5619368217971276,
            "x": 0.12781954887218044
           },
           {
            "bcd": 0.5567788323705734,
            "x": 0.13032581453634084
           },
           {
            "bcd": 0.5516894645196624,
            "x": 0.13283208020050125
           },
           {
            "bcd": 0.5466678053071521,
            "x": 0.13533834586466165
           },
           {
            "bcd": 0.5417129539414614,
            "x": 0.13784461152882205
           },
           {
            "bcd": 0.5368240216150848,
            "x": 0.14035087719298245
           },
           {
            "bcd": 0.5320001313451579,
            "x": 0.14285714285714285
           },
           {
            "bcd": 0.5272404178161425,
            "x": 0.14536340852130325
           },
           {
            "bcd": 0.5225440272246055,
            "x": 0.14786967418546365
           },
           {
            "bcd": 0.517910117126062,
            "x": 0.15037593984962405
           },
           {
            "bcd": 0.5133378562838575,
            "x": 0.15288220551378445
           },
           {
            "bcd": 0.5088264245200587,
            "x": 0.15538847117794485
           },
           {
            "bcd": 0.5043750125683293,
            "x": 0.15789473684210525
           },
           {
            "bcd": 0.49998282192876325,
            "x": 0.16040100250626566
           },
           {
            "bcd": 0.4956490647246479,
            "x": 0.16290726817042606
           },
           {
            "bcd": 0.4913729635611345,
            "x": 0.16541353383458646
           },
           {
            "bcd": 0.48715375138578754,
            "x": 0.16791979949874686
           },
           {
            "bcd": 0.4829906713509903,
            "x": 0.17042606516290726
           },
           {
            "bcd": 0.4788829766781803,
            "x": 0.17293233082706766
           },
           {
            "bcd": 0.47482993052389155,
            "x": 0.17543859649122806
           },
           {
            "bcd": 0.47083080584757836,
            "x": 0.17794486215538846
           },
           {
            "bcd": 0.46688488528119787,
            "x": 0.18045112781954886
           },
           {
            "bcd": 0.4629914610005278,
            "x": 0.18295739348370926
           },
           {
            "bcd": 0.459149834598196,
            "x": 0.18546365914786966
           },
           {
            "bcd": 0.45535931695839943,
            "x": 0.18796992481203006
           },
           {
            "bcd": 0.4516192281332892,
            "x": 0.19047619047619047
           },
           {
            "bcd": 0.44792889722100127,
            "x": 0.19298245614035087
           },
           {
            "bcd": 0.44428766224530875,
            "x": 0.19548872180451127
           },
           {
            "bcd": 0.440694870036876,
            "x": 0.19799498746867167
           },
           {
            "bcd": 0.43714987611609235,
            "x": 0.20050125313283207
           },
           {
            "bcd": 0.43365204457746426,
            "x": 0.20300751879699247
           },
           {
            "bcd": 0.4302007479755461,
            "x": 0.20551378446115287
           },
           {
            "bcd": 0.4267953672123879,
            "x": 0.20802005012531327
           },
           {
            "bcd": 0.4234352914264812,
            "x": 0.21052631578947367
           },
           {
            "bcd": 0.4201199178831813,
            "x": 0.21303258145363407
           },
           {
            "bcd": 0.4168486518665885,
            "x": 0.21553884711779447
           },
           {
            "bcd": 0.41362090657286715,
            "x": 0.21804511278195488
           },
           {
            "bcd": 0.41043610300498373,
            "x": 0.22055137844611528
           },
           {
            "bcd": 0.4072936698688459,
            "x": 0.22305764411027568
           },
           {
            "bcd": 0.40419304347082285,
            "x": 0.22556390977443608
           },
           {
            "bcd": 0.40113366761662955,
            "x": 0.22807017543859648
           },
           {
            "bcd": 0.39811499351155555,
            "x": 0.23057644110275688
           },
           {
            "bcd": 0.3951364796620216,
            "x": 0.23308270676691728
           },
           {
            "bcd": 0.39219759177844593,
            "x": 0.23558897243107768
           },
           {
            "bcd": 0.38929780267940284,
            "x": 0.23809523809523808
           },
           {
            "bcd": 0.38643659219705573,
            "x": 0.24060150375939848
           },
           {
            "bcd": 0.38361344708384926,
            "x": 0.24310776942355888
           },
           {
            "bcd": 0.3808278609204422,
            "x": 0.24561403508771928
           },
           {
            "bcd": 0.3780793340248651,
            "x": 0.24812030075187969
           },
           {
            "bcd": 0.37536737336288695,
            "x": 0.2506265664160401
           },
           {
            "bcd": 0.3726914924595739,
            "x": 0.2531328320802005
           },
           {
            "bcd": 0.3700512113120248,
            "x": 0.2556390977443609
           },
           {
            "bcd": 0.36744605630326804,
            "x": 0.2581453634085213
           },
           {
            "bcd": 0.36487556011730277,
            "x": 0.2606516290726817
           },
           {
            "bcd": 0.36233926165527186,
            "x": 0.2631578947368421
           },
           {
            "bcd": 0.35983670595274914,
            "x": 0.2656641604010025
           },
           {
            "bcd": 0.35736744409812726,
            "x": 0.2681704260651629
           },
           {
            "bcd": 0.3549310331520915,
            "x": 0.2706766917293233
           },
           {
            "bcd": 0.3525270360681646,
            "x": 0.2731829573934837
           },
           {
            "bcd": 0.3501550216143089,
            "x": 0.2756892230576441
           },
           {
            "bcd": 0.34781456429557145,
            "x": 0.2781954887218045
           },
           {
            "bcd": 0.34550524427775786,
            "x": 0.2807017543859649
           },
           {
            "bcd": 0.3432266473121226,
            "x": 0.2832080200501253
           },
           {
            "bcd": 0.3409783646610597,
            "x": 0.2857142857142857
           },
           {
            "bcd": 0.33875999302478355,
            "x": 0.2882205513784461
           },
           {
            "bcd": 0.3365711344689839,
            "x": 0.2907268170426065
           },
           {
            "bcd": 0.3344113963534445,
            "x": 0.2932330827067669
           },
           {
            "bcd": 0.3322803912616106,
            "x": 0.2957393483709273
           },
           {
            "bcd": 0.330177736931093,
            "x": 0.2982456140350877
           },
           {
            "bcd": 0.3281030561850986,
            "x": 0.3007518796992481
           },
           {
            "bcd": 0.32605597686477095,
            "x": 0.3032581453634085
           },
           {
            "bcd": 0.3240361317624322,
            "x": 0.3057644110275689
           },
           {
            "bcd": 0.3220431585557131,
            "x": 0.3082706766917293
           },
           {
            "bcd": 0.32007669974255903,
            "x": 0.3107769423558897
           },
           {
            "bcd": 0.31813640257710074,
            "x": 0.3132832080200501
           },
           {
            "bcd": 0.3162219190063784,
            "x": 0.3157894736842105
           },
           {
            "bcd": 0.3143329056079076,
            "x": 0.3182957393483709
           },
           {
            "bcd": 0.3124690235280757,
            "x": 0.3208020050125313
           },
           {
            "bcd": 0.31062993842135744,
            "x": 0.3233082706766917
           },
           {
            "bcd": 0.3088153203903402,
            "x": 0.3258145363408521
           },
           {
            "bcd": 0.3070248439265465,
            "x": 0.3283208020050125
           },
           {
            "bcd": 0.3052581878520435,
            "x": 0.3308270676691729
           },
           {
            "bcd": 0.3035150352618298,
            "x": 0.3333333333333333
           },
           {
            "bcd": 0.3017950734669891,
            "x": 0.3358395989974937
           },
           {
            "bcd": 0.300097993938599,
            "x": 0.3383458646616541
           },
           {
            "bcd": 0.2984234922523872,
            "x": 0.3408521303258145
           },
           {
            "bcd": 0.2967712680341232,
            "x": 0.3433583959899749
           },
           {
            "bcd": 0.2951410249057368,
            "x": 0.3458646616541353
           },
           {
            "bcd": 0.2935324704321537,
            "x": 0.3483709273182957
           },
           {
            "bcd": 0.2919453160688377,
            "x": 0.3508771929824561
           },
           {
            "bcd": 0.2903792771100317,
            "x": 0.3533834586466165
           },
           {
            "bcd": 0.28883407263768635,
            "x": 0.3558897243107769
           },
           {
            "bcd": 0.287309425471069,
            "x": 0.3583959899749373
           },
           {
            "bcd": 0.2858050621170424,
            "x": 0.3609022556390977
           },
           {
            "bcd": 0.2843207127210052,
            "x": 0.3634085213032581
           },
           {
            "bcd": 0.28285611101848535,
            "x": 0.3659147869674185
           },
           {
            "bcd": 0.2814109942873768,
            "x": 0.3684210526315789
           },
           {
            "bcd": 0.2799851033008126,
            "x": 0.37092731829573933
           },
           {
            "bcd": 0.27857818228066394,
            "x": 0.37343358395989973
           },
           {
            "bcd": 0.27718997885165864,
            "x": 0.37593984962406013
           },
           {
            "bcd": 0.27582024399610977,
            "x": 0.37844611528822053
           },
           {
            "bcd": 0.2744687320092463,
            "x": 0.38095238095238093
           },
           {
            "bcd": 0.2731352004551387,
            "x": 0.38345864661654133
           },
           {
            "bcd": 0.2718194101232099,
            "x": 0.38596491228070173
           },
           {
            "bcd": 0.270521124985326,
            "x": 0.38847117794486213
           },
           {
            "bcd": 0.26924011215345667,
            "x": 0.39097744360902253
           },
           {
            "bcd": 0.2679761418378999,
            "x": 0.39348370927318294
           },
           {
            "bcd": 0.26672898730606176,
            "x": 0.39598997493734334
           },
           {
            "bcd": 0.2654984248417848,
            "x": 0.39849624060150374
           },
           {
            "bcd": 0.2642842337052177,
            "x": 0.40100250626566414
           },
           {
            "bcd": 0.26308619609321854,
            "x": 0.40350877192982454
           },
           {
            "bcd": 0.26190409710028517,
            "x": 0.40601503759398494
           },
           {
            "bcd": 0.26073772468000506,
            "x": 0.40852130325814534
           },
           {
            "bcd": 0.25958686960701816,
            "x": 0.41102756892230574
           },
           {
            "bcd": 0.2584513254394857,
            "x": 0.41353383458646614
           },
           {
            "bcd": 0.25733088848205865,
            "x": 0.41604010025062654
           },
           {
            "bcd": 0.25622535774933847,
            "x": 0.41854636591478694
           },
           {
            "bcd": 0.25513453492982385,
            "x": 0.42105263157894735
           },
           {
            "bcd": 0.2540582243503377,
            "x": 0.42355889724310775
           },
           {
            "bcd": 0.252996232940927,
            "x": 0.42606516290726815
           },
           {
            "bcd": 0.2519483702002293,
            "x": 0.42857142857142855
           },
           {
            "bcd": 0.2509144481613009,
            "x": 0.43107769423558895
           },
           {
            "bcd": 0.24989428135789857,
            "x": 0.43358395989974935
           },
           {
            "bcd": 0.2488876867912108,
            "x": 0.43609022556390975
           },
           {
            "bcd": 0.247894483897031,
            "x": 0.43859649122807015
           },
           {
            "bcd": 0.24691449451336775,
            "x": 0.44110275689223055
           },
           {
            "bcd": 0.24594754284848583,
            "x": 0.44360902255639095
           },
           {
            "bcd": 0.24499345544937257,
            "x": 0.44611528822055135
           },
           {
            "bcd": 0.24405206117062345,
            "x": 0.44862155388471175
           },
           {
            "bcd": 0.2431231911437421,
            "x": 0.45112781954887216
           },
           {
            "bcd": 0.24220667874684815,
            "x": 0.45363408521303256
           },
           {
            "bcd": 0.24130235957478857,
            "x": 0.45614035087719296
           },
           {
            "bcd": 0.2404100714096465,
            "x": 0.45864661654135336
           },
           {
            "bcd": 0.23952965419164218,
            "x": 0.46115288220551376
           },
           {
            "bcd": 0.23866094999042142,
            "x": 0.46365914786967416
           },
           {
            "bcd": 0.2378038029767259,
            "x": 0.46616541353383456
           },
           {
            "bcd": 0.23695805939444003,
            "x": 0.46867167919799496
           },
           {
            "bcd": 0.23612356753301034,
            "x": 0.47117794486215536
           },
           {
            "bcd": 0.23530017770023118,
            "x": 0.47368421052631576
           },
           {
            "bcd": 0.23448774219539284,
            "x": 0.47619047619047616
           },
           {
            "bcd": 0.23368611528278688,
            "x": 0.47869674185463656
           },
           {
            "bcd": 0.23289515316556375,
            "x": 0.48120300751879697
           },
           {
            "bcd": 0.2321147139599384,
            "x": 0.48370927318295737
           },
           {
            "bcd": 0.23134465766973897,
            "x": 0.48621553884711777
           },
           {
            "bcd": 0.23058484616129413,
            "x": 0.48872180451127817
           },
           {
            "bcd": 0.22983514313865439,
            "x": 0.49122807017543857
           },
           {
            "bcd": 0.22909541411914333,
            "x": 0.49373433583959897
           },
           {
            "bcd": 0.22836552640923372,
            "x": 0.49624060150375937
           },
           {
            "bcd": 0.22764534908074496,
            "x": 0.49874686716791977
           },
           {
            "bcd": 0.226934752947357,
            "x": 0.5012531328320802
           },
           {
            "bcd": 0.2262336105414365,
            "x": 0.5037593984962405
           },
           {
            "bcd": 0.22554179609117192,
            "x": 0.506265664160401
           },
           {
            "bcd": 0.2248591854980121,
            "x": 0.5087719298245614
           },
           {
            "bcd": 0.22418565631440546,
            "x": 0.5112781954887218
           },
           {
            "bcd": 0.22352108772183507,
            "x": 0.5137844611528821
           },
           {
            "bcd": 0.22286536050914624,
            "x": 0.5162907268170426
           },
           {
            "bcd": 0.2222183570511621,
            "x": 0.518796992481203
           },
           {
            "bcd": 0.22157996128758406,
            "x": 0.5213032581453634
           },
           {
            "bcd": 0.2209500587021725,
            "x": 0.5238095238095237
           },
           {
            "bcd": 0.2203285363022049,
            "x": 0.5263157894736842
           },
           {
            "bcd": 0.21971528259820708,
            "x": 0.5288220551378446
           },
           {
            "bcd": 0.2191101875839539,
            "x": 0.531328320802005
           },
           {
            "bcd": 0.2185131427167363,
            "x": 0.5338345864661653
           },
           {
            "bcd": 0.21792404089789086,
            "x": 0.5363408521303258
           },
           {
            "bcd": 0.21734277645358815,
            "x": 0.5388471177944862
           },
           {
            "bcd": 0.21676924511587697,
            "x": 0.5413533834586466
           },
           {
            "bcd": 0.2162033440039805,
            "x": 0.5438596491228069
           },
           {
            "bcd": 0.2156449716058415,
            "x": 0.5463659147869674
           },
           {
            "bcd": 0.2150940277599129,
            "x": 0.5488721804511278
           },
           {
            "bcd": 0.2145504136371908,
            "x": 0.5513784461152882
           },
           {
            "bcd": 0.21401403172348624,
            "x": 0.5538847117794485
           },
           {
            "bcd": 0.21348478580193306,
            "x": 0.556390977443609
           },
           {
            "bcd": 0.21296258093572842,
            "x": 0.5588972431077694
           },
           {
            "bcd": 0.21244732345110298,
            "x": 0.5614035087719298
           },
           {
            "bcd": 0.21193892092051736,
            "x": 0.5639097744360901
           },
           {
            "bcd": 0.21143728214608254,
            "x": 0.5664160401002506
           },
           {
            "bcd": 0.21094231714320072,
            "x": 0.568922305764411
           },
           {
            "bcd": 0.21045393712442356,
            "x": 0.5714285714285714
           },
           {
            "bcd": 0.20997205448352563,
            "x": 0.5739348370927317
           },
           {
            "bcd": 0.20949658277978916,
            "x": 0.5764411027568922
           },
           {
            "bcd": 0.20902743672249863,
            "x": 0.5789473684210527
           },
           {
            "bcd": 0.20856453215564089,
            "x": 0.581453634085213
           },
           {
            "bcd": 0.20810778604280916,
            "x": 0.5839598997493733
           },
           {
            "bcd": 0.207657116452308,
            "x": 0.5864661654135338
           },
           {
            "bcd": 0.20721244254245627,
            "x": 0.5889724310776943
           },
           {
            "bcd": 0.20677368454708556,
            "x": 0.5914786967418546
           },
           {
            "bcd": 0.20634076376123167,
            "x": 0.593984962406015
           },
           {
            "bcd": 0.20591360252701643,
            "x": 0.5964912280701754
           },
           {
            "bcd": 0.2054921242197174,
            "x": 0.5989974937343359
           },
           {
            "bcd": 0.20507625323402268,
            "x": 0.6015037593984962
           },
           {
            "bcd": 0.2046659149704688,
            "x": 0.6040100250626566
           },
           {
            "bcd": 0.20426103582205907,
            "x": 0.606516290726817
           },
           {
            "bcd": 0.20386154316105967,
            "x": 0.6090225563909775
           },
           {
            "bcd": 0.20346736532597187,
            "x": 0.6115288220551378
           },
           {
            "bcd": 0.20307843160867692,
            "x": 0.6140350877192982
           },
           {
            "bcd": 0.2026946722417527,
            "x": 0.6165413533834586
           },
           {
            "bcd": 0.20231601838595856,
            "x": 0.6190476190476191
           },
           {
            "bcd": 0.20194240211788694,
            "x": 0.6215538847117794
           },
           {
            "bcd": 0.20157375641777908,
            "x": 0.6240601503759398
           },
           {
            "bcd": 0.20121001515750297,
            "x": 0.6265664160401002
           },
           {
            "bcd": 0.2008511130886913,
            "x": 0.6290726817042607
           },
           {
            "bcd": 0.20049698583103703,
            "x": 0.631578947368421
           },
           {
            "bcd": 0.20014756986074467,
            "x": 0.6340852130325814
           },
           {
            "bcd": 0.19980280249913557,
            "x": 0.6365914786967418
           },
           {
            "bcd": 0.1994626219014043,
            "x": 0.6390977443609023
           },
           {
            "bcd": 0.19912696704552493,
            "x": 0.6416040100250626
           },
           {
            "bcd": 0.19879577772130494,
            "x": 0.644110275689223
           },
           {
            "bcd": 0.19846899451958433,
            "x": 0.6466165413533834
           },
           {
            "bcd": 0.1981465588215791,
            "x": 0.6491228070175439
           },
           {
            "bcd": 0.1978284127883659,
            "x": 0.6516290726817042
           },
           {
            "bcd": 0.1975144993505069,
            "x": 0.6541353383458646
           },
           {
            "bcd": 0.19720476219781252,
            "x": 0.656641604010025
           },
           {
            "bcd": 0.19689914576924053,
            "x": 0.6591478696741855
           },
           {
            "bcd": 0.19659759524292944,
            "x": 0.6616541353383458
           },
           {
            "bcd": 0.19630005652636442,
            "x": 0.6641604010025062
           },
           {
            "bcd": 0.1960064762466741,
            "x": 0.6666666666666666
           },
           {
            "bcd": 0.1957168017410566,
            "x": 0.6691729323308271
           },
           {
            "bcd": 0.19543098104733275,
            "x": 0.6716791979949874
           },
           {
            "bcd": 0.1951489628946249,
            "x": 0.6741854636591478
           },
           {
            "bcd": 0.19487069669416013,
            "x": 0.6766917293233082
           },
           {
            "bcd": 0.19459613253019548,
            "x": 0.6791979949874687
           },
           {
            "bcd": 0.19432522115106385,
            "x": 0.681704260651629
           },
           {
            "bcd": 0.19405791396033945,
            "x": 0.6842105263157894
           },
           {
            "bcd": 0.19379416300812027,
            "x": 0.6867167919799498
           },
           {
            "bcd": 0.1935339209824269,
            "x": 0.6892230576441103
           },
           {
            "bcd": 0.1932771412007156,
            "x": 0.6917293233082706
           },
           {
            "bcd": 0.19302377760150433,
            "x": 0.694235588972431
           },
           {
            "bcd": 0.19277378473611018,
            "x": 0.6967418546365914
           },
           {
            "bcd": 0.19252711776049677,
            "x": 0.6992481203007519
           },
           {
            "bcd": 0.19228373242723001,
            "x": 0.7017543859649122
           },
           {
            "bcd": 0.19204358507754096,
            "x": 0.7042606516290726
           },
           {
            "bcd": 0.1918066326334943,
            "x": 0.706766917293233
           },
           {
            "bcd": 0.19157283259026087,
            "x": 0.7092731829573935
           },
           {
            "bcd": 0.1913421430084932,
            "x": 0.7117794486215538
           },
           {
            "bcd": 0.19111452250680233,
            "x": 0.7142857142857142
           },
           {
            "bcd": 0.19088993025433476,
            "x": 0.7167919799498746
           },
           {
            "bcd": 0.19066832596344815,
            "x": 0.7192982456140351
           },
           {
            "bcd": 0.19044966988248452,
            "x": 0.7218045112781954
           },
           {
            "bcd": 0.1902339227886395,
            "x": 0.7243107769423558
           },
           {
            "bcd": 0.19002104598092645,
            "x": 0.7268170426065163
           },
           {
            "bcd": 0.1898110012732344,
            "x": 0.7293233082706767
           },
           {
            "bcd": 0.18960375098747798,
            "x": 0.731829573934837
           },
           {
            "bcd": 0.1893992579468388,
            "x": 0.7343358395989974
           },
           {
            "bcd": 0.18919748546909654,
            "x": 0.7368421052631579
           },
           {
            "bcd": 0.18899839736004898,
            "x": 0.7393483709273183
           },
           {
            "bcd": 0.18880195790701926,
            "x": 0.7418546365914787
           },
           {
            "bcd": 0.18860813187244985,
            "x": 0.744360902255639
           },
           {
            "bcd": 0.18841688448758148,
            "x": 0.7468671679197995
           },
           {
            "bcd": 0.1882281814462164,
            "x": 0.7493734335839599
           },
           {
            "bcd": 0.18804198889856427,
            "x": 0.7518796992481203
           },
           {
            "bcd": 0.1878582734451705,
            "x": 0.7543859649122806
           },
           {
            "bcd": 0.1876770021309246,
            "x": 0.7568922305764411
           },
           {
            "bcd": 0.18749814243914897,
            "x": 0.7593984962406015
           },
           {
            "bcd": 0.18732166228576586,
            "x": 0.7619047619047619
           },
           {
            "bcd": 0.18714753001354215,
            "x": 0.7644110275689222
           },
           {
            "bcd": 0.18697571438641053,
            "x": 0.7669172932330827
           },
           {
            "bcd": 0.18680618458386655,
            "x": 0.7694235588972431
           },
           {
            "bcd": 0.1866389101954398,
            "x": 0.7719298245614035
           },
           {
            "bcd": 0.18647386121523887,
            "x": 0.7744360902255638
           },
           {
            "bcd": 0.18631100803656891,
            "x": 0.7769423558897243
           },
           {
            "bcd": 0.1861503214466208,
            "x": 0.7794486215538847
           },
           {
            "bcd": 0.18599177262123073,
            "x": 0.7819548872180451
           },
           {
            "bcd": 0.1858353331197099,
            "x": 0.7844611528822054
           },
           {
            "bcd": 0.18568097487974264,
            "x": 0.7869674185463659
           },
           {
            "bcd": 0.18552867021235261,
            "x": 0.7894736842105263
           },
           {
            "bcd": 0.18537839179693594,
            "x": 0.7919799498746867
           },
           {
            "bcd": 0.18523011267636041,
            "x": 0.794486215538847
           },
           {
            "bcd": 0.18508380625212978,
            "x": 0.7969924812030075
           },
           {
            "bcd": 0.18493944627961262,
            "x": 0.7994987468671679
           },
           {
            "bcd": 0.18479700686333447,
            "x": 0.8020050125313283
           },
           {
            "bcd": 0.1846564624523327,
            "x": 0.8045112781954886
           },
           {
            "bcd": 0.18451778783557304,
            "x": 0.8070175438596491
           },
           {
            "bcd": 0.1843809581374274,
            "x": 0.8095238095238095
           },
           {
            "bcd": 0.18424594881321138,
            "x": 0.8120300751879699
           },
           {
            "bcd": 0.18411273564478167,
            "x": 0.8145363408521302
           },
           {
            "bcd": 0.18398129473619163,
            "x": 0.8170426065162907
           },
           {
            "bcd": 0.1838516025094048,
            "x": 0.8195488721804511
           },
           {
            "bcd": 0.18372363570006553,
            "x": 0.8220551378446115
           },
           {
            "bcd": 0.18359737135332566,
            "x": 0.8245614035087718
           },
           {
            "bcd": 0.18347278681972698,
            "x": 0.8270676691729323
           },
           {
            "bcd": 0.18334985975113827,
            "x": 0.8295739348370927
           },
           {
            "bcd": 0.18322856809674648,
            "x": 0.8320802005012531
           },
           {
            "bcd": 0.18310889009910122,
            "x": 0.8345864661654134
           },
           {
            "bcd": 0.18299080429021192,
            "x": 0.8370927318295739
           },
           {
            "bcd": 0.1828742894876968,
            "x": 0.8395989974937343
           },
           {
            "bcd": 0.18275932479098322,
            "x": 0.8421052631578947
           },
           {
            "bcd": 0.18264588957755845,
            "x": 0.844611528822055
           },
           {
            "bcd": 0.18253396349927042,
            "x": 0.8471177944862155
           },
           {
            "bcd": 0.18242352647867768,
            "x": 0.849624060150376
           },
           {
            "bcd": 0.18231455870544774,
            "x": 0.8521303258145363
           },
           {
            "bcd": 0.18220704063280363,
            "x": 0.8546365914786966
           },
           {
            "bcd": 0.1821009529740175,
            "x": 0.8571428571428571
           },
           {
            "bcd": 0.18199627669895088,
            "x": 0.8596491228070176
           },
           {
            "bcd": 0.18189299303064121,
            "x": 0.8621553884711779
           },
           {
            "bcd": 0.18179108344193337,
            "x": 0.8646616541353382
           },
           {
            "bcd": 0.18169052965215648,
            "x": 0.8671679197994987
           },
           {
            "bcd": 0.1815913136238445,
            "x": 0.8696741854636592
           },
           {
            "bcd": 0.18149341755950082,
            "x": 0.8721804511278195
           },
           {
            "bcd": 0.18139682389840558,
            "x": 0.8746867167919798
           },
           {
            "bcd": 0.18130151531346567,
            "x": 0.8771929824561403
           },
           {
            "bcd": 0.18120747470810655,
            "x": 0.8796992481203008
           },
           {
            "bcd": 0.1811146852132055,
            "x": 0.8822055137844611
           },
           {
            "bcd": 0.18102313018406557,
            "x": 0.8847117794486214
           },
           {
            "bcd": 0.18093279319742983,
            "x": 0.8872180451127819
           },
           {
            "bcd": 0.1808436580485353,
            "x": 0.8897243107769424
           },
           {
            "bcd": 0.18075570874820632,
            "x": 0.8922305764411027
           },
           {
            "bcd": 0.18066892951998606,
            "x": 0.894736842105263
           },
           {
            "bcd": 0.18058330479730686,
            "x": 0.8972431077694235
           },
           {
            "bcd": 0.18049881922069763,
            "x": 0.899749373433584
           },
           {
            "bcd": 0.18041545763502878,
            "x": 0.9022556390977443
           },
           {
            "bcd": 0.18033320508679365,
            "x": 0.9047619047619047
           },
           {
            "bcd": 0.18025204682142607,
            "x": 0.9072681704260651
           },
           {
            "bcd": 0.18017196828065377,
            "x": 0.9097744360902256
           },
           {
            "bcd": 0.18009295509988682,
            "x": 0.9122807017543859
           },
           {
            "bcd": 0.18001499310564087,
            "x": 0.9147869674185463
           },
           {
            "bcd": 0.17993806831299483,
            "x": 0.9172932330827067
           },
           {
            "bcd": 0.17986216692308207,
            "x": 0.9197994987468672
           },
           {
            "bcd": 0.17978727532061528,
            "x": 0.9223057644110275
           },
           {
            "bcd": 0.17971338007144405,
            "x": 0.9248120300751879
           },
           {
            "bcd": 0.17964046792014515,
            "x": 0.9273182957393483
           },
           {
            "bcd": 0.17956852578764465,
            "x": 0.9298245614035088
           },
           {
            "bcd": 0.1794975407688718,
            "x": 0.9323308270676691
           },
           {
            "bcd": 0.17942750013044417,
            "x": 0.9348370927318295
           },
           {
            "bcd": 0.17935839130838344,
            "x": 0.9373433583959899
           },
           {
            "bcd": 0.1792902019058617,
            "x": 0.9398496240601504
           },
           {
            "bcd": 0.17922291969097764,
            "x": 0.9423558897243107
           },
           {
            "bcd": 0.17915653259456252,
            "x": 0.9448621553884711
           },
           {
            "bcd": 0.17909102870801497,
            "x": 0.9473684210526315
           },
           {
            "bcd": 0.17902639628116496,
            "x": 0.949874686716792
           },
           {
            "bcd": 0.17896262372016603,
            "x": 0.9523809523809523
           },
           {
            "bcd": 0.17889969958541552,
            "x": 0.9548872180451127
           },
           {
            "bcd": 0.1788376125895025,
            "x": 0.9573934837092731
           },
           {
            "bcd": 0.1787763515951832,
            "x": 0.9598997493734336
           },
           {
            "bcd": 0.17871590561338294,
            "x": 0.9624060150375939
           },
           {
            "bcd": 0.178656263801225,
            "x": 0.9649122807017543
           },
           {
            "bcd": 0.17859741546008576,
            "x": 0.9674185463659147
           },
           {
            "bcd": 0.17853935003367527,
            "x": 0.9699248120300752
           },
           {
            "bcd": 0.17848205710614395,
            "x": 0.9724310776942355
           },
           {
            "bcd": 0.17842552640021395,
            "x": 0.9749373433583959
           },
           {
            "bcd": 0.17836974777533576,
            "x": 0.9774436090225563
           },
           {
            "bcd": 0.17831471122586912,
            "x": 0.9799498746867168
           },
           {
            "bcd": 0.17826040687928812,
            "x": 0.9824561403508771
           },
           {
            "bcd": 0.17820682499441043,
            "x": 0.9849624060150375
           },
           {
            "bcd": 0.17815395595964975,
            "x": 0.9874686716791979
           },
           {
            "bcd": 0.17810179029129172,
            "x": 0.9899749373433584
           },
           {
            "bcd": 0.17805031863179283,
            "x": 0.9924812030075187
           },
           {
            "bcd": 0.17799953174810162,
            "x": 0.9949874686716791
           },
           {
            "bcd": 0.17794942053000273,
            "x": 0.9974937343358395
           },
           {
            "bcd": 0.17789997598848245,
            "x": 1
           }
          ]
         },
         "encoding": {
          "x": {
           "field": "x",
           "type": "quantitative"
          },
          "y": {
           "field": "bcd",
           "type": "quantitative"
          }
         },
         "mark": {
          "color": "darkgray",
          "type": "line"
         }
        },
        {
         "data": {
          "values": [
           {
            "bcd": 0.8630969280563285,
            "fractional distance from anterior": 0.002644667245598801
           },
           {
            "bcd": 0.8630969280563285,
            "fractional distance from anterior": 0.034222783610957604
           },
           {
            "bcd": 0.7457271023791949,
            "fractional distance from anterior": 0.06844556722191521
           },
           {
            "bcd": 0.6548747941627394,
            "fractional distance from anterior": 0.10262887818741613
           },
           {
            "bcd": 0.5451138492987339,
            "fractional distance from anterior": 0.13420699455277493
           },
           {
            "bcd": 0.469365737323264,
            "fractional distance from anterior": 0.17107444540933134
           },
           {
            "bcd": 0.42393958321503616,
            "fractional distance from anterior": 0.20525775637483226
           },
           {
            "bcd": 0.3823178695133724,
            "fractional distance from anterior": 0.23948053998578986
           },
           {
            "bcd": 0.3444438135256374,
            "fractional distance from anterior": 0.2737033235967475
           },
           {
            "bcd": 0.28391346317642385,
            "fractional distance from anterior": 0.3078866345622484
           },
           {
            "bcd": 0.2649480438362388,
            "fractional distance from anterior": 0.342109418173206
           },
           {
            "bcd": 0.29527000170348083,
            "fractional distance from anterior": 0.37893739638430574
           },
           {
            "bcd": 0.2498438475952531,
            "fractional distance from anterior": 0.4105155127496644
           },
           {
            "bcd": 0.22713077054113914,
            "fractional distance from anterior": 0.4473829636062209
           },
           {
            "bcd": 0.2422349667821249,
            "fractional distance from anterior": 0.4815662745717218
           },
           {
            "bcd": 0.21577423201408216,
            "fractional distance from anterior": 0.5157890581826794
           },
           {
            "bcd": 0.2308784282550679,
            "fractional distance from anterior": 0.550011841793637
           },
           {
            "bcd": 0.22713077054113914,
            "fractional distance from anterior": 0.5868398200047367
           },
           {
            "bcd": 0.208165351200954,
            "fractional distance from anterior": 0.6210626036156943
           },
           {
            "bcd": 0.2044176934870252,
            "fractional distance from anterior": 0.6552459145811952
           },
           {
            "bcd": 0.1817046164329113,
            "fractional distance from anterior": 0.6894686981921528
           },
           {
            "bcd": 0.19680881267389705,
            "fractional distance from anterior": 0.7236914818031106
           },
           {
            "bcd": 0.2006132530804612,
            "fractional distance from anterior": 0.7578747927686114
           },
           {
            "bcd": 0.1817046164329113,
            "fractional distance from anterior": 0.792097576379569
           },
           {
            "bcd": 0.17790017602634725,
            "fractional distance from anterior": 0.8263203599905266
           },
           {
            "bcd": 0.1817046164329113,
            "fractional distance from anterior": 0.8605036709560274
           },
           {
            "bcd": 0.18925671455340426,
            "fractional distance from anterior": 0.894726454566985
           },
           {
            "bcd": 0.17790017602634725,
            "fractional distance from anterior": 0.9657772163890423
           }
          ]
         },
         "encoding": {
          "x": {
           "field": "fractional distance from anterior",
           "type": "quantitative"
          },
          "y": {
           "field": "bcd",
           "scale": {
            "domain": [
             0,
             1
            ]
           },
           "title": "[Bcd] (a.u.)",
           "type": "quantitative"
          }
         },
         "mark": {
          "filled": true,
          "opacity": 0.8,
          "size": 60,
          "type": "point"
         }
        }
       ]
      },
      "image/png": "[encoded data removed]",
      "text/plain": [
       "<VegaLite 2 object>\n",
       "\n",
       "If you see this message, it means the renderer has not been properly enabled\n",
       "for the frontend that you are using. For more information, see\n",
       "https://altair-viz.github.io/user_guide/troubleshooting.html\n"
      ]
     },
     "execution_count": 65,
     "metadata": {},
     "output_type": "execute_result"
    }
   ],
   "source": [
    "# Smooth x values (400 values between zero and one)\n",
    "x_smooth = np.linspace(0, 1, 400)\n",
    "\n",
    "# Compute smooth curve\n",
    "bcd_smooth = bcd_gradient_model(x_smooth, *popt)\n",
    "\n",
    "# Make into a data frame\n",
    "df_smooth = pd.DataFrame({'x': x_smooth, 'bcd': bcd_smooth})\n",
    "\n",
    "# Smooth line\n",
    "line = alt.Chart(df_smooth\n",
    "    ).mark_line(\n",
    "        color='darkgray',\n",
    "    ).encode(\n",
    "        x='x',\n",
    "        y='bcd')\n",
    "\n",
    "line + dots "
   ]
  },
  {
   "cell_type": "code",
   "execution_count": null,
   "metadata": {},
   "outputs": [],
   "source": []
  }
 ],
 "metadata": {
  "kernelspec": {
   "display_name": "Python 3",
   "language": "python",
   "name": "python3"
  },
  "language_info": {
   "codemirror_mode": {
    "name": "ipython",
    "version": 3
   },
   "file_extension": ".py",
   "mimetype": "text/x-python",
   "name": "python",
   "nbconvert_exporter": "python",
   "pygments_lexer": "ipython3",
   "version": "3.6.5"
  }
 },
 "nbformat": 4,
 "nbformat_minor": 2
}
