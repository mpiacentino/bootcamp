{
 "cells": [
  {
   "cell_type": "code",
   "execution_count": 5,
   "metadata": {},
   "outputs": [],
   "source": [
    "#Classroom example\n",
    "\n",
    "def complement_base(base):\n",
    "    \"\"\"Returns the Watson-Crick complement of a base.\"\"\"\n",
    "    \n",
    "    if base in 'Aa':\n",
    "        return 'T'\n",
    "    elif base in 'Tt':\n",
    "        return 'A'\n",
    "    elif base in 'Gg':\n",
    "        return 'C'\n",
    "    elif base in 'Cc':\n",
    "        return 'G'\n",
    "    else:\n",
    "        return 'We have a problem'\n",
    "\n",
    "\n",
    "def reverse_complement(seq):\n",
    "    \"\"\"Compute reverse complement of a sequence.\"\"\"\n",
    "    \n",
    "    # Initialize reverse complement\n",
    "    rev_seq = ''\n",
    "    \n",
    "    # Loop through and populate list with reverse complement\n",
    "    for base in reversed(seq):\n",
    "        rev_seq += complement_base(base)\n",
    "        \n",
    "    return rev_seq"
   ]
  },
  {
   "cell_type": "code",
   "execution_count": 7,
   "metadata": {},
   "outputs": [],
   "source": [
    "seq = 'ATGCCAAGCTGACCAGTACGATGC'"
   ]
  },
  {
   "cell_type": "code",
   "execution_count": 7,
   "metadata": {},
   "outputs": [
    {
     "data": {
      "text/plain": [
       "'GCATCGTACTGGTCAGCTTGGCAT'"
      ]
     },
     "execution_count": 7,
     "metadata": {},
     "output_type": "execute_result"
    }
   ],
   "source": [
    "reverse_complement(seq)"
   ]
  },
  {
   "cell_type": "code",
   "execution_count": 21,
   "metadata": {},
   "outputs": [],
   "source": [
    "#Using for loop without reversed function\n",
    "\n",
    "def complement_base(base):\n",
    "    \"\"\"Returns the Watson-Crick complement of a base.\"\"\"\n",
    "    \n",
    "    if base in 'Aa':\n",
    "        return 'T'\n",
    "    elif base in 'Tt':\n",
    "        return 'A'\n",
    "    elif base in 'Gg':\n",
    "        return 'C'\n",
    "    elif base in 'Cc':\n",
    "        return 'G'\n",
    "    else:\n",
    "        return 'We have a problem'\n",
    "\n",
    "\n",
    "def reverse_complement(seq):\n",
    "    \"\"\"Compute reverse complement of a sequence.\"\"\"\n",
    "    #Define the reverse of the sequence\n",
    "    rev_seq = seq[::-1]\n",
    "    \n",
    "    # Initialize reverse complement\n",
    "    rc_seq = ''\n",
    "    \n",
    "    # Loop through and populate list with reverse complement\n",
    "    for base in rev_seq:\n",
    "        rc_seq += complement_base(base)\n",
    "\n",
    "    return rc_seq"
   ]
  },
  {
   "cell_type": "code",
   "execution_count": 22,
   "metadata": {},
   "outputs": [
    {
     "data": {
      "text/plain": [
       "'GCATCGTACTGGTCAGCTTGGCAT'"
      ]
     },
     "execution_count": 22,
     "metadata": {},
     "output_type": "execute_result"
    }
   ],
   "source": [
    "reverse_complement(seq)"
   ]
  },
  {
   "cell_type": "code",
   "execution_count": 4,
   "metadata": {},
   "outputs": [],
   "source": [
    "#Using NO LOOPS\n",
    "\n",
    "def complement_base(base):\n",
    "    \"\"\"Returns the Watson-Crick complement of a base.\"\"\"\n",
    "    \n",
    "    if base in 'Aa':\n",
    "        return 'T'\n",
    "    elif base in 'Tt':\n",
    "        return 'A'\n",
    "    elif base in 'Gg':\n",
    "        return 'C'\n",
    "    elif base in 'Cc':\n",
    "        return 'G'\n",
    "    else:\n",
    "        return 'We have a problem'\n",
    "\n",
    "\n",
    "def reverse_complement(seq):\n",
    "    \"\"\"Compute reverse complement of a sequence.\"\"\"\n",
    "    #Define the reverse of the sequence\n",
    "    rev_seq = seq[::-1]\n",
    "    \n",
    "    rev_seq.replace('A','b')\n",
    "    rev_seq.replace('T','A')\n",
    "    rev_seq.replace('B','T')\n",
    "    rev_seq.replace('C','d')\n",
    "    rev_seq.replace('G','C')\n",
    "    rev_seq.replace('d','G')\n",
    "    \n",
    "\n",
    "    return rev_seq"
   ]
  },
  {
   "cell_type": "code",
   "execution_count": 5,
   "metadata": {},
   "outputs": [
    {
     "data": {
      "text/plain": [
       "'CGTAGCATGACCAGTCGAACCGTA'"
      ]
     },
     "execution_count": 5,
     "metadata": {},
     "output_type": "execute_result"
    }
   ],
   "source": [
    "reverse_complement(seq)"
   ]
  },
  {
   "cell_type": "code",
   "execution_count": 25,
   "metadata": {},
   "outputs": [],
   "source": [
    "a = list(rev_seq)"
   ]
  },
  {
   "cell_type": "code",
   "execution_count": 27,
   "metadata": {},
   "outputs": [
    {
     "name": "stdout",
     "output_type": "stream",
     "text": [
      "['C', 'G', 'T', 'A', 'G', 'C', 'A', 'T', 'G', 'A', 'C', 'C', 'A', 'G', 'T', 'C', 'G', 'A', 'A', 'C', 'C', 'G', 'T', 'A'] "
     ]
    }
   ],
   "source": [
    "print(a, end = ' ')"
   ]
  },
  {
   "cell_type": "code",
   "execution_count": 8,
   "metadata": {},
   "outputs": [],
   "source": [
    "def reverse_complement(seq, material = 'DNA'):\n",
    "    \"\"\"Determining the reverse complement of a sequence\"\"\"\n",
    "    rev_seq = seq[::-1]\n",
    "    \n",
    "    rev_seq = rev_seq.lower()\n",
    "    \n",
    "    rev_seq = rev_seq.replace('c','G')\n",
    "    rev_seq = rev_seq.replace('g','C')\n",
    "    rev_seq = rev_seq.replace('t','A')\n",
    "    rev_seq = rev_seq.replace('u','A')\n",
    "    if material == 'DNA':\n",
    "        rev_seq = rev_seq.replace('a','T')\n",
    "    elif material == 'RNA':\n",
    "        rev_seq = rev_seq.replace('a','U')\n",
    "    return rev_seq\n",
    "    "
   ]
  },
  {
   "cell_type": "code",
   "execution_count": 9,
   "metadata": {},
   "outputs": [
    {
     "data": {
      "text/plain": [
       "'GCAUCGUACUGGUCAGCUUGGCAU'"
      ]
     },
     "execution_count": 9,
     "metadata": {},
     "output_type": "execute_result"
    }
   ],
   "source": [
    "reverse_complement(seq,'RNA')"
   ]
  },
  {
   "cell_type": "code",
   "execution_count": 10,
   "metadata": {},
   "outputs": [
    {
     "data": {
      "text/plain": [
       "'GCATCGTACTGGTCAGCTTGGCAT'"
      ]
     },
     "execution_count": 10,
     "metadata": {},
     "output_type": "execute_result"
    }
   ],
   "source": [
    "reverse_complement(seq,'DNA')"
   ]
  },
  {
   "cell_type": "code",
   "execution_count": null,
   "metadata": {},
   "outputs": [],
   "source": []
  }
 ],
 "metadata": {
  "kernelspec": {
   "display_name": "Python 3",
   "language": "python",
   "name": "python3"
  },
  "language_info": {
   "codemirror_mode": {
    "name": "ipython",
    "version": 3
   },
   "file_extension": ".py",
   "mimetype": "text/x-python",
   "name": "python",
   "nbconvert_exporter": "python",
   "pygments_lexer": "ipython3",
   "version": "3.6.5"
  }
 },
 "nbformat": 4,
 "nbformat_minor": 2
}
